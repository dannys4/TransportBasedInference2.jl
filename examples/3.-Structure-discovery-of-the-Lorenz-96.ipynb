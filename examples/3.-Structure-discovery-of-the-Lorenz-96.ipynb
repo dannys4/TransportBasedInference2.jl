{
 "cells": [
  {
   "cell_type": "markdown",
   "metadata": {},
   "source": [
    "## 3. Structure discovery for the Lorenz-96 problem"
   ]
  },
  {
   "cell_type": "markdown",
   "metadata": {},
   "source": [
    "In this notebook, we will show how we can estimate the conditional independence structure of a random variable $\\mathsf{X} \\in \\mathbb{R}^{N_x}$ with density $\\pi$ based on i.i.d. samples $\\{\\boldsymbol{x}^i\\}, \\; i = 1, \\ldots, N_e$ from $\\pi$.\n",
    "\n",
    "References: \n",
    "\n",
    "[1] Lorenz, E.N., 1996, September. Predictability: A problem partly solved. In Proc. Seminar on predictability (Vol. 1, No. 1).\n",
    "\n",
    "[2] Baptista, R., Zahm, O., & Marzouk, Y. (2020). An adaptive transport framework for joint and conditional density estimation. arXiv preprint arXiv:2009.10303.\n",
    "\n",
    "[3] Baptista, R., Marzouk, Y., Morrison, R.E. and Zahm, O., 2021. Learning non-Gaussian graphical models via Hessian scores and triangular transport. arXiv preprint arXiv:2101.03093.\n"
   ]
  },
  {
   "cell_type": "code",
   "execution_count": 1,
   "metadata": {},
   "outputs": [],
   "source": [
    "using Revise\n",
    "using LinearAlgebra\n",
    "using TransportBasedInference\n",
    "using Statistics\n",
    "using Distributions\n",
    "using OrdinaryDiffEq\n",
    "using ProgressMeter"
   ]
  },
  {
   "cell_type": "markdown",
   "metadata": {},
   "source": [
    "Load some packages to make nice figures"
   ]
  },
  {
   "cell_type": "code",
   "execution_count": 2,
   "metadata": {},
   "outputs": [],
   "source": [
    "using Plots\n",
    "default(tickfont = font(\"CMU Serif\", 9), \n",
    "        titlefont = font(\"CMU Serif\", 14), \n",
    "        guidefont = font(\"CMU Serif\", 12),\n",
    "        legendfont = font(\"CMU Serif\", 10),\n",
    "        grid = false)\n",
    "# Plots.font(\"sans-serif\")\n",
    "# clibrary(:colorbrewer)\n",
    "# gr()\n",
    "pyplot()\n",
    "\n",
    "using LaTeXStrings\n",
    "# PyPlot.rc(\"text\", usetex = \"true\")\n",
    "# rcParams = PyPlot.PyDict(PyPlot.matplotlib.\"rcParams\")\n",
    "# rcParams[\"text.usetex\"] = true;\n",
    "PyPlot.rc(\"font\", family = \"CMU Serif\")\n",
    "PyPlot.matplotlib[:rc](\"mathtext\",fontset=\"cm\")        #computer modern font \n",
    "PyPlot.matplotlib[:rc](\"font\",family=\"serif\",size=12)\n",
    "\n",
    "using ColorSchemes"
   ]
  },
  {
   "cell_type": "markdown",
   "metadata": {},
   "source": [
    "The Lorenz-96 model [1] is a famous problem used in data assimilation and weather prediction. It was derived from first principles as a one-dimensional model for the response of the mid-latitude atmosphere to forcing input. For certain forcing input, it can exhibit a chaotic behavior: sensitivity to initial conditions, strong mixing. In this notebook, we consider the fifteen-dimensional version of the Lorenz-96 model.  The state $\\boldsymbol{x} = (x_1, \\ldots, x_{15})$ at time $t$ is governed by the following set of ordinary differential equations:  \n",
    "\n",
    "\\begin{equation}\n",
    "    \\frac{\\mathrm{d}x_i}{\\mathrm{d}t} = (x_{i+1} - x_{i-2}) x_{i-1} -x_i + F,\n",
    "\\end{equation}\n",
    "where it is assumed that $x_{-1} = x_{n − 1} , x_0 = x_{n}$ and $x_{n+1} = x_1$, setting the forcing input $F=8.0$ leads to chaos."
   ]
  },
  {
   "cell_type": "markdown",
   "metadata": {},
   "source": [
    "We integrate the Lorenz-96 problem with our favorite ODE library: OrdinaryDiffEq.jl."
   ]
  },
  {
   "cell_type": "code",
   "execution_count": 3,
   "metadata": {},
   "outputs": [
    {
     "data": {
      "text/plain": [
       "lorenz96! (generic function with 1 method)"
      ]
     },
     "execution_count": 3,
     "metadata": {},
     "output_type": "execute_result"
    }
   ],
   "source": [
    "function lorenz96!(du,u,p,t)\n",
    "    F = 8.0\n",
    "    n = size(u,1)\n",
    "    du[1] = (u[2]-u[end-1])*u[end] - u[1] + F\n",
    "    du[2] = (u[3]-u[end])*u[1] - u[2] + F\n",
    "    du[end] = (u[1] - u[end-2])*u[end-1] - u[end] + F\n",
    "\n",
    "    @inbounds for i=3:n-1\n",
    "        du[i] = (u[i+1] - u[i-2])*u[i-1] - u[i] + F\n",
    "    end\n",
    "    return du\n",
    "end"
   ]
  },
  {
   "cell_type": "code",
   "execution_count": 4,
   "metadata": {},
   "outputs": [
    {
     "data": {
      "text/plain": [
       "\u001b[36mODEProblem\u001b[0m with uType \u001b[36mArray{Float64,1}\u001b[0m and tType \u001b[36mFloat64\u001b[0m. In-place: \u001b[36mtrue\u001b[0m\n",
       "timespan: (0.0, 500.0)\n",
       "u0: 20-element Array{Float64,1}:\n",
       "  0.09815886607194116\n",
       " -1.966556155257007\n",
       "  0.22788378042396953\n",
       "  1.056328485115591\n",
       " -1.0584657757957046\n",
       "  0.8965520252547747\n",
       " -0.195706507796539\n",
       "  0.2570660686894804\n",
       " -0.05730136851911101\n",
       "  0.357653514436482\n",
       "  0.33904132813073573\n",
       " -1.3600424716102544\n",
       " -0.0057290863763909865\n",
       "  0.015708235436608646\n",
       "  2.375859313647075\n",
       " -0.38001546815668935\n",
       "  0.24147386174469546\n",
       " -0.5177500980334376\n",
       "  0.06407150228136362\n",
       " -0.0848447187446721"
      ]
     },
     "execution_count": 4,
     "metadata": {},
     "output_type": "execute_result"
    }
   ],
   "source": [
    "# Define the distribution for initial condition\n",
    "Nx = 20\n",
    "# Number of runs\n",
    "Ne = 500\n",
    "πx0 = MvNormal(zeros(Nx), ones(Nx))\n",
    "# Zero vector of the size of the state\n",
    "x0 = rand(πx0)\n",
    "\n",
    "# Time stepp\n",
    "tspan = (0.0, 500.0)\n",
    "prob = ODEProblem(lorenz96!,x0, tspan)"
   ]
  },
  {
   "cell_type": "markdown",
   "metadata": {},
   "source": [
    "Create cache to store the different final solutions"
   ]
  },
  {
   "cell_type": "code",
   "execution_count": 5,
   "metadata": {},
   "outputs": [],
   "source": [
    "X = zeros(Nx, Ne);"
   ]
  },
  {
   "cell_type": "markdown",
   "metadata": {},
   "source": [
    "Solve Lorenz-96 model for the different initial conditions and store the solutions as the columns of `X`"
   ]
  },
  {
   "cell_type": "code",
   "execution_count": 6,
   "metadata": {},
   "outputs": [],
   "source": [
    "@inbounds for i=1:Ne\n",
    "    prob = remake(prob; u0 = rand(πx0))\n",
    "    sol = solve(prob, Tsit5(), dt = 0.01, adaptive = false, dense = false, saveat = tspan[end], save_start = false)\n",
    "    X[:,i] = deepcopy(sol.u[1])\n",
    "end"
   ]
  },
  {
   "cell_type": "markdown",
   "metadata": {},
   "source": [
    "We can use the adaptive transport map procedure to estimate the underlying distribution for the state $\\mathsf{X}$."
   ]
  },
  {
   "cell_type": "code",
   "execution_count": 7,
   "metadata": {},
   "outputs": [],
   "source": [
    "m = 60\n",
    "S = HermiteMap(m, X; diag = true);"
   ]
  },
  {
   "cell_type": "code",
   "execution_count": 8,
   "metadata": {
    "scrolled": true
   },
   "outputs": [
    {
     "data": {
      "text/plain": [
       "Hermite map of dimension 20:\n",
       "Hermite map component of dimension 1 with Nψ = 5 active features\n",
       "Hermite map component of dimension 2 with Nψ = 16 active features\n",
       "Hermite map component of dimension 3 with Nψ = 24 active features\n",
       "Hermite map component of dimension 4 with Nψ = 24 active features\n",
       "Hermite map component of dimension 5 with Nψ = 9 active features\n",
       "Hermite map component of dimension 6 with Nψ = 24 active features\n",
       "Hermite map component of dimension 7 with Nψ = 24 active features\n",
       "Hermite map component of dimension 8 with Nψ = 11 active features\n",
       "Hermite map component of dimension 9 with Nψ = 17 active features\n",
       "Hermite map component of dimension 10 with Nψ = 8 active features\n",
       "Hermite map component of dimension 11 with Nψ = 24 active features\n",
       "Hermite map component of dimension 12 with Nψ = 17 active features\n",
       "Hermite map component of dimension 13 with Nψ = 9 active features\n",
       "Hermite map component of dimension 14 with Nψ = 8 active features\n",
       "Hermite map component of dimension 15 with Nψ = 12 active features\n",
       "Hermite map component of dimension 16 with Nψ = 12 active features\n",
       "Hermite map component of dimension 17 with Nψ = 11 active features\n",
       "Hermite map component of dimension 18 with Nψ = 23 active features\n",
       "Hermite map component of dimension 19 with Nψ = 23 active features\n",
       "Hermite map component of dimension 20 with Nψ = 14 active features\n"
      ]
     },
     "execution_count": 8,
     "metadata": {},
     "output_type": "execute_result"
    }
   ],
   "source": [
    "optimize(S, X, \"kfold\"; withqr = true, verbose = false, hessprecond = true)"
   ]
  },
  {
   "cell_type": "code",
   "execution_count": 9,
   "metadata": {},
   "outputs": [
    {
     "data": {
      "image/png": "[encoded data removed]"
     },
     "execution_count": 9,
     "metadata": {},
     "output_type": "execute_result"
    }
   ],
   "source": [
    "plot(S)\n",
    "# savefig(\"Lorenz96_structure.pdf\")"
   ]
  },
  {
   "cell_type": "markdown",
   "metadata": {},
   "source": [
    "Baptista et al.[3] showed that the conditional independence properties of a random variable $\\mathsf{X} \\in \\mathbb{R}^n$ with density $\\pi$ are specified by the *Hessian score matrix* $\\boldsymbol{\\Omega} \\in \\mathbb{R}^{n \\times n}$ defined as:\n",
    "\n",
    "\\begin{equation}\n",
    "\\Omega_{i,j} = \\mathrm{E}_{\\pi} \\left[ |\\partial_i\\partial_j \\log \\pi(\\boldsymbol{x})|^2  \\right] = \\int |\\partial_i\\partial_j \\log \\pi(\\boldsymbol{x})|^2 \\pi(\\boldsymbol{x}) \\; \\mathrm{d}\\boldsymbol{x}.\n",
    "\\end{equation}\n",
    "\n",
    "The pullback density $\\boldsymbol{S}^{\\sharp} \\rho$ can be used to approximate the true density $\\pi$, where $\\rho$ denotes the standard Gaussian distribution of $\\mathbb{R}^n$. Thus, the score matrix is estimated by [3]: \n",
    "\\begin{equation}\n",
    "\\hat{\\Omega}_{i,j} = \\mathrm{E}_{\\pi} \\left[ |\\partial_i\\partial_j \\log \\boldsymbol{S}^{\\sharp} \\rho|^2  \\right]\n",
    "\\end{equation}\n",
    "\n",
    "In practice, we use a sampled-based approximation of $\\hat{\\boldsymbol{\\Omega}}$ using samples $\\{\\boldsymbol{x}^k\\}, \\; k=1,\\ldots, N_e$ of $\\pi$ [3]:\n",
    "\n",
    "\n",
    "\\begin{equation}\n",
    "\\hat{\\Omega}_{i,j} \\approx \\sum_{k=1}^{N_e}|\\partial_i\\partial_j \\log \\boldsymbol{S}^{\\sharp}\\rho(\\boldsymbol{x}^k )|^2\n",
    "\\end{equation}"
   ]
  },
  {
   "cell_type": "markdown",
   "metadata": {},
   "source": [
    "The function `hess_x_log_pdf!` computes in-place the Hessian of the log pdf of the pullback density $\\boldsymbol{S}^{\\sharp} \\rho$. You can also use `hess_x_log_pdf`."
   ]
  },
  {
   "cell_type": "code",
   "execution_count": 10,
   "metadata": {},
   "outputs": [
    {
     "name": "stderr",
     "output_type": "stream",
     "text": [
      "\u001b[32mProgress: 100%|█████████████████████████████████████████| Time: 0:00:35\u001b[39m\n"
     ]
    },
    {
     "data": {
      "text/plain": [
       "20×20 Array{Float64,2}:\n",
       "    5.14439e5  2292.54          8590.85       …   5063.05           0.0896133\n",
       " 2292.54          1.09694e6     7187.68            396.987          0.0\n",
       " 8590.85       7187.68        680740.0               0.642487     181.387\n",
       "   16.0226     9751.99           100.476            21.0273       797.69\n",
       "   10.6792        6.35405       6835.82              0.433236      91.9497\n",
       "  508.535      2513.01           297.458      …      0.0            0.0\n",
       "   30.8219      166.197           48.9861            2.76225        0.0\n",
       "    2.77032       0.192455        15.0647           11.5982         0.0\n",
       "  305.0          26.7204         127.599             3.21892        0.0\n",
       "    3.76487       1.22139          7.10406           1.39722        0.0\n",
       "    7.77243     331.084         1242.79       …     27.2387         0.0\n",
       "    0.268553      0.0546108        0.0061138         0.0879884      0.609937\n",
       "    2.84266       0.00382548       0.275781          0.0            0.0\n",
       "    9.17105       8.39991          0.289122          0.0            0.0\n",
       "    1.69153       1.30184          0.0               0.0            0.0\n",
       "   75.8251      141.867            0.763151   …      0.0            0.0\n",
       "  755.046       114.969            0.178064      14283.8            0.0\n",
       "  296.469         5.70098         34.6021          901.321      11128.3\n",
       " 5063.05        396.987            0.642487          1.5153e5    1539.79\n",
       "    0.0896133     0.0            181.387          1539.79       83583.5"
      ]
     },
     "execution_count": 10,
     "metadata": {},
     "output_type": "execute_result"
    }
   ],
   "source": [
    "Ωhat = zeros(Nx, Nx)\n",
    "cache = zeros(1, Nx, Nx)\n",
    "@showprogress for i=1:Ne\n",
    "    hess_x_log_pdf!(cache, S, X[:,i:i])\n",
    "    Ωhat .+= copy(cache[1,:,:]).^2\n",
    "end\n",
    "rmul!(Ωhat, 1/Ne)"
   ]
  },
  {
   "cell_type": "code",
   "execution_count": 11,
   "metadata": {},
   "outputs": [
    {
     "data": {
      "image/png": "[encoded data removed]"
     },
     "execution_count": 11,
     "metadata": {},
     "output_type": "execute_result"
    }
   ],
   "source": [
    "plt = plot(size = (800, 800))\n",
    "\n",
    "heatmap!(plt,log10.(Ωhat), ratio = 1, yflip = true, \n",
    "        colorbar = true, color = :plasma, clim = (1.5, Inf), colorbar_title = L\"\\log_{10}(\\hat{\\Omega})\",\n",
    "        xlabel = \"Index\", ylabel = \"Index\", background_color_inside = palette(:plasma)[1], \n",
    "        yticks = (reverse(collect(0:10:Nx))))\n",
    "plt"
   ]
  }
 ],
 "metadata": {
  "kernelspec": {
   "display_name": "Julia 1.5.3",
   "language": "julia",
   "name": "julia-1.5"
  },
  "language_info": {
   "file_extension": ".jl",
   "mimetype": "application/julia",
   "name": "julia",
   "version": "1.5.3"
  }
 },
 "nbformat": 4,
 "nbformat_minor": 2
}
