{
 "cells": [
  {
   "cell_type": "markdown",
   "metadata": {},
   "source": [
    "## 3. Structure discovery for the Lorenz-96 problem"
   ]
  },
  {
   "cell_type": "markdown",
   "metadata": {},
   "source": [
    "In this notebook, we will show how we can estimate the conditional independence structure of a random variable $\\mathsf{X} \\in \\mathbb{R}^{N_x}$ with density $\\pi$ based on i.i.d. samples $\\{\\boldsymbol{x}^i\\}, \\; i = 1, \\ldots, N_e$ from $\\pi$.\n",
    "\n",
    "We ar\n",
    "\n",
    "References: \n",
    "\n",
    "[1] Lorenz, E.N., 1996, September. Predictability: A problem partly solved. In Proc. Seminar on predictability (Vol. 1, No. 1).\n",
    "\n",
    "[2] Baptista, R., Zahm, O., & Marzouk, Y. (2020). An adaptive transport framework for joint and conditional density estimation. arXiv preprint arXiv:2009.10303.\n",
    "\n",
    "[3] Baptista, R., Marzouk, Y., Morrison, R.E. and Zahm, O., 2021. Learning non-Gaussian graphical models via Hessian scores and triangular transport. arXiv preprint arXiv:2101.03093.\n"
   ]
  },
  {
   "cell_type": "markdown",
   "metadata": {},
   "source": [
    "o generate i.i.d. samples from the system’s invariant (long-time) distribution, we sampleninitialconditions from a multivariate standard Gaussian distribution.  For each sample, we run the ODEin equation(SM.25)forT=  40,000steps using the Runge-Kutta method with a time-step of∆t= 0.01. The samples of the state at the final time are then i.i.d. samples from the push-forwarddistribution of the standard Gaussian through the nonlinear forward dynamics forTstep"
   ]
  },
  {
   "cell_type": "code",
   "execution_count": 1,
   "metadata": {},
   "outputs": [],
   "source": [
    "using Revise\n",
    "using LinearAlgebra\n",
    "using TransportBasedInference\n",
    "using Statistics\n",
    "using Distributions\n",
    "using OrdinaryDiffEq\n",
    "using ProgressMeter"
   ]
  },
  {
   "cell_type": "markdown",
   "metadata": {},
   "source": [
    "Load some packages to make nice figures"
   ]
  },
  {
   "cell_type": "code",
   "execution_count": 15,
   "metadata": {},
   "outputs": [],
   "source": [
    "using Plots\n",
    "default(fontfamily = \"Computer Modern\",\n",
    "        tickfont = font(\"Computer Modern\", 9), \n",
    "        titlefont = font(\"Computer Modern\", 14), \n",
    "        guidefont = font(\"Computer Modern\", 12),\n",
    "        legendfont = font(\"Computer Modern\", 10),\n",
    "        grid = false)\n",
    "\n",
    "using LaTeXStrings"
   ]
  },
  {
   "cell_type": "markdown",
   "metadata": {},
   "source": [
    "The Lorenz-96 model [1] is a famous problem used in data assimilation and weather prediction. It was derived from first principles as a one-dimensional model for the response of the mid-latitude atmosphere to forcing input. For certain forcing input, it can exhibit a chaotic behavior: sensitivity to initial conditions, strong mixing. In this notebook, we consider the fifteen-dimensional version of the Lorenz-96 model.  The state $\\boldsymbol{x} = (x_1, \\ldots, x_{15})$ at time $t$ is governed by the following set of ordinary differential equations:  \n",
    "\n",
    "\\begin{equation}\n",
    "    \\frac{\\mathrm{d}x_i}{\\mathrm{d}t} = (x_{i+1} - x_{i-2}) x_{i-1} -x_i + F,\n",
    "\\end{equation}\n",
    "where it is assumed that $x_{-1} = x_{n − 1} , x_0 = x_{n}$ and $x_{n+1} = x_1$, setting the forcing input $F=8.0$ leads to chaos."
   ]
  },
  {
   "cell_type": "markdown",
   "metadata": {},
   "source": [
    "We integrate the Lorenz-96 problem with our favorite ODE library: OrdinaryDiffEq.jl."
   ]
  },
  {
   "cell_type": "code",
   "execution_count": 16,
   "metadata": {},
   "outputs": [
    {
     "data": {
      "text/plain": [
       "lorenz96! (generic function with 1 method)"
      ]
     },
     "execution_count": 16,
     "metadata": {},
     "output_type": "execute_result"
    }
   ],
   "source": [
    "function lorenz96!(du,u,p,t)\n",
    "    F = 8.0\n",
    "    n = size(u,1)\n",
    "    du[1] = (u[2]-u[end-1])*u[end] - u[1] + F\n",
    "    du[2] = (u[3]-u[end])*u[1] - u[2] + F\n",
    "    du[end] = (u[1] - u[end-2])*u[end-1] - u[end] + F\n",
    "\n",
    "    @inbounds for i=3:n-1\n",
    "        du[i] = (u[i+1] - u[i-2])*u[i-1] - u[i] + F\n",
    "    end\n",
    "    return du\n",
    "end"
   ]
  },
  {
   "cell_type": "code",
   "execution_count": 17,
   "metadata": {},
   "outputs": [
    {
     "data": {
      "text/plain": [
       "\u001b[36mODEProblem\u001b[0m with uType \u001b[36mVector{Float64}\u001b[0m and tType \u001b[36mFloat64\u001b[0m. In-place: \u001b[36mtrue\u001b[0m\n",
       "timespan: (0.0, 500.0)\n",
       "u0: 20-element Vector{Float64}:\n",
       " -1.0840271519190747\n",
       "  1.0540278721956875\n",
       " -0.7575185112805989\n",
       " -0.19505338339892223\n",
       "  0.040948986147053466\n",
       "  1.428932974579665\n",
       " -0.23243837489527397\n",
       " -0.5055295068021128\n",
       " -1.6738938074454668\n",
       "  0.46277122031796764\n",
       "  1.5882228409928076\n",
       "  1.8655697812623435\n",
       "  0.5414060062881485\n",
       "  1.0154317417580438\n",
       " -0.5183466876405405\n",
       "  1.1256431407369998\n",
       " -0.2606491090130804\n",
       " -0.28011355486749895\n",
       " -0.882994278136486\n",
       " -0.9040250626828792"
      ]
     },
     "execution_count": 17,
     "metadata": {},
     "output_type": "execute_result"
    }
   ],
   "source": [
    "# Define the distribution for initial condition\n",
    "Nx = 20\n",
    "# Number of runs\n",
    "Ne = 500\n",
    "πx0 = MvNormal(zeros(Nx), ones(Nx))\n",
    "# Zero vector of the size of the state\n",
    "x0 = rand(πx0)\n",
    "\n",
    "# Time stepp\n",
    "tspan = (0.0, 500.0)\n",
    "prob = ODEProblem(lorenz96!,x0, tspan)"
   ]
  },
  {
   "cell_type": "markdown",
   "metadata": {},
   "source": [
    "Create cache to store the different final solutions"
   ]
  },
  {
   "cell_type": "code",
   "execution_count": 18,
   "metadata": {},
   "outputs": [],
   "source": [
    "X = zeros(Nx, Ne);"
   ]
  },
  {
   "cell_type": "markdown",
   "metadata": {},
   "source": [
    "Solve Lorenz-96 model for the different initial conditions and store the solutions as the columns of `X`"
   ]
  },
  {
   "cell_type": "code",
   "execution_count": 19,
   "metadata": {},
   "outputs": [],
   "source": [
    "@inbounds for i=1:Ne\n",
    "    prob = remake(prob; u0 = rand(πx0))\n",
    "    sol = solve(prob, Tsit5(), dt = 0.01, adaptive = false, dense = false, saveat = tspan[end], save_start = false)\n",
    "    X[:,i] = deepcopy(sol.u[1])\n",
    "end"
   ]
  },
  {
   "cell_type": "markdown",
   "metadata": {},
   "source": [
    "We can use the adaptive transport map procedure to estimate the underlying distribution for the state $\\mathsf{X}$."
   ]
  },
  {
   "cell_type": "code",
   "execution_count": 20,
   "metadata": {},
   "outputs": [],
   "source": [
    "m = 60\n",
    "S = HermiteMap(m, X; diag = true);"
   ]
  },
  {
   "cell_type": "code",
   "execution_count": 21,
   "metadata": {
    "scrolled": true
   },
   "outputs": [
    {
     "name": "stdout",
     "output_type": "stream",
     "text": [
      "Warning: Condition number reached\n"
     ]
    },
    {
     "ename": "LoadError",
     "evalue": "DimensionMismatch(\"array could not be broadcast to match destination\")",
     "output_type": "error",
     "traceback": [
      "DimensionMismatch(\"array could not be broadcast to match destination\")",
      "",
      "Stacktrace:",
      "  [1] check_broadcast_shape",
      "    @ ./broadcast.jl:520 [inlined]",
      "  [2] check_broadcast_axes",
      "    @ ./broadcast.jl:523 [inlined]",
      "  [3] instantiate",
      "    @ ./broadcast.jl:269 [inlined]",
      "  [4] materialize!",
      "    @ ./broadcast.jl:894 [inlined]",
      "  [5] materialize!(dest::SubArray{Float64, 1, Matrix{Float64}, Tuple{Base.Slice{Base.OneTo{Int64}}, Int64}, true}, bc::Base.Broadcast.Broadcasted{Base.Broadcast.DefaultArrayStyle{1}, Nothing, typeof(identity), Tuple{Vector{Float64}}})",
      "    @ Base.Broadcast ./broadcast.jl:891",
      "  [6] optimize(C::HermiteMapComponent, X::SubArray{Float64, 2, Matrix{Float64}, Tuple{UnitRange{Int64}, Base.Slice{Base.OneTo{Int64}}}, false}, optimkind::String; maxterms::Int64, withconstant::Bool, withqr::Bool, maxpatience::Int64, verbose::Bool, hessprecond::Bool, P::Serial, ATMcriterion::String)",
      "    @ TransportBasedInference /media/mat/HDD/TransportBasedInference.jl/src/hermitemap/optimize.jl:110",
      "  [7] optimize(M::HermiteMap, X::Matrix{Float64}, optimkind::String; maxterms::Int64, withconstant::Bool, withqr::Bool, maxpatience::Int64, verbose::Bool, apply_rescaling::Bool, hessprecond::Bool, start::Int64, P::Serial, ATMcriterion::String)",
      "    @ TransportBasedInference /media/mat/HDD/TransportBasedInference.jl/src/hermitemap/hermitemap.jl:372",
      "  [8] top-level scope",
      "    @ In[21]:1",
      "  [9] eval",
      "    @ ./boot.jl:360 [inlined]",
      " [10] include_string(mapexpr::typeof(REPL.softscope), mod::Module, code::String, filename::String)",
      "    @ Base ./loading.jl:1116"
     ]
    }
   ],
   "source": [
    "optimize(S, X, \"kfold\"; withqr = true, verbose = false, hessprecond = true)"
   ]
  },
  {
   "cell_type": "code",
   "execution_count": 9,
   "metadata": {},
   "outputs": [
    {
     "ename": "LoadError",
     "evalue": "ArgumentError: range(0.0, stop=1.0, length=1): endpoints differ",
     "output_type": "error",
     "traceback": [
      "ArgumentError: range(0.0, stop=1.0, length=1): endpoints differ",
      "",
      "Stacktrace:",
      "  [1] _linspace1(#unused#::Type{Float64}, start::Float64, stop::Float64, len::Int64)",
      "    @ Base ./twiceprecision.jl:678",
      "  [2] _linspace(#unused#::Type{Float64}, start_n::Int64, stop_n::Int64, len::Int64, den::Int64)",
      "    @ Base ./twiceprecision.jl:662",
      "  [3] _linspace",
      "    @ ./twiceprecision.jl:660 [inlined]",
      "  [4] _range",
      "    @ ./range.jl:441 [inlined]",
      "  [5] #range#57",
      "    @ ./range.jl:91 [inlined]",
      "  [6] get_range",
      "    @ ~/.julia/packages/PlotUtils/n4I4Q/src/colorschemes.jl:295 [inlined]",
      "  [7] prepare_categorical_cgrad_colors(c::ColorSchemes.ColorScheme{Vector{RGB{FixedPointNumbers.N0f8}}, String, String}, v::StepRangeLen{Float64, Base.TwicePrecision{Float64}, Base.TwicePrecision{Float64}})",
      "    @ PlotUtils ~/.julia/packages/PlotUtils/n4I4Q/src/colorschemes.jl:166",
      "  [8] cgrad(colors::ColorSchemes.ColorScheme{Vector{RGB{FixedPointNumbers.N0f8}}, String, String}, values::StepRangeLen{Float64, Base.TwicePrecision{Float64}, Base.TwicePrecision{Float64}}; categorical::Bool, scale::Nothing, rev::Bool, alpha::Nothing)",
      "    @ PlotUtils ~/.julia/packages/PlotUtils/n4I4Q/src/colorschemes.jl:198",
      "  [9] #cgrad#19",
      "    @ ~/.julia/packages/PlotUtils/n4I4Q/src/colorschemes.jl:232 [inlined]",
      " [10] cgrad(colors::Vector{Symbol}, args::Int64; kwargs::Base.Iterators.Pairs{Symbol, Bool, Tuple{Symbol}, NamedTuple{(:categorical,), Tuple{Bool}}})",
      "    @ PlotUtils ~/.julia/packages/PlotUtils/n4I4Q/src/colorschemes.jl:239",
      " [11] macro expansion",
      "    @ /media/mat/HDD/TransportBasedInference.jl/src/tools/plot_recipes.jl:77 [inlined]",
      " [12] macro expansion",
      "    @ ~/.julia/packages/RecipesBase/92zOw/src/RecipesBase.jl:319 [inlined]",
      " [13] macro expansion",
      "    @ /media/mat/HDD/TransportBasedInference.jl/src/tools/plot_recipes.jl:63 [inlined]",
      " [14] apply_recipe(plotattributes::AbstractDict{Symbol, Any}, M::HermiteMap)",
      "    @ TransportBasedInference ~/.julia/packages/RecipesBase/92zOw/src/RecipesBase.jl:282",
      " [15] _process_userrecipes!(plt::Any, plotattributes::Any, args::Any)",
      "    @ RecipesPipeline ~/.julia/packages/RecipesPipeline/BY2Dd/src/user_recipe.jl:36",
      " [16] recipe_pipeline!(plt::Any, plotattributes::Any, args::Any)",
      "    @ RecipesPipeline ~/.julia/packages/RecipesPipeline/BY2Dd/src/RecipesPipeline.jl:70",
      " [17] _plot!(plt::Plots.Plot, plotattributes::Any, args::Any)",
      "    @ Plots ~/.julia/packages/Plots/Awg62/src/plot.jl:207",
      " [18] plot(args::Any; kw::Any)",
      "    @ Plots ~/.julia/packages/Plots/Awg62/src/plot.jl:89",
      " [19] plot(args::Any)",
      "    @ Plots ~/.julia/packages/Plots/Awg62/src/plot.jl:83",
      " [20] top-level scope",
      "    @ In[9]:1",
      " [21] eval",
      "    @ ./boot.jl:360 [inlined]",
      " [22] include_string(mapexpr::typeof(REPL.softscope), mod::Module, code::String, filename::String)",
      "    @ Base ./loading.jl:1116"
     ]
    }
   ],
   "source": [
    "plot(S)\n",
    "# savefig(\"Lorenz96_structure.pdf\")"
   ]
  },
  {
   "cell_type": "markdown",
   "metadata": {},
   "source": [
    "Baptista et al.[3] showed that the conditional independence properties of a random variable $\\mathsf{X} \\in \\mathbb{R}^n$ with density $\\pi$ are specified by the *Hessian score matrix* $\\boldsymbol{\\Omega} \\in \\mathbb{R}^{n \\times n}$ defined as:\n",
    "\n",
    "\\begin{equation}\n",
    "\\Omega_{i,j} = \\mathrm{E}_{\\pi} \\left[ |\\partial_i\\partial_j \\log \\pi(\\boldsymbol{x})|^2  \\right] = \\int |\\partial_i\\partial_j \\log \\pi(\\boldsymbol{x})|^2 \\pi(\\boldsymbol{x}) \\; \\mathrm{d}\\boldsymbol{x}.\n",
    "\\end{equation}\n",
    "\n",
    "The pullback density $\\boldsymbol{S}^{\\sharp} \\rho$ can be used to approximate the true density $\\pi$, where $\\rho$ denotes the standard Gaussian distribution of $\\mathbb{R}^n$. Thus, the score matrix is estimated by [3]: \n",
    "\\begin{equation}\n",
    "\\hat{\\Omega}_{i,j} = \\mathrm{E}_{\\pi} \\left[ |\\partial_i\\partial_j \\log \\boldsymbol{S}^{\\sharp} \\rho|^2  \\right]\n",
    "\\end{equation}\n",
    "\n",
    "In practice, we use a sampled-based approximation of $\\hat{\\boldsymbol{\\Omega}}$ using samples $\\{\\boldsymbol{x}^k\\}, \\; k=1,\\ldots, N_e$ of $\\pi$ [3]:\n",
    "\n",
    "\n",
    "\\begin{equation}\n",
    "\\hat{\\Omega}_{i,j} \\approx \\sum_{k=1}^{N_e}|\\partial_i\\partial_j \\log \\boldsymbol{S}^{\\sharp}\\rho(\\boldsymbol{x}^k )|^2\n",
    "\\end{equation}"
   ]
  },
  {
   "cell_type": "markdown",
   "metadata": {},
   "source": [
    "The function `hess_x_log_pdf!` computes in-place the Hessian of the log pdf of the pullback density $\\boldsymbol{S}^{\\sharp} \\rho$. You can also use `hess_x_log_pdf`."
   ]
  },
  {
   "cell_type": "code",
   "execution_count": 10,
   "metadata": {},
   "outputs": [
    {
     "name": "stderr",
     "output_type": "stream",
     "text": [
      "\u001b[32mProgress: 100%|█████████████████████████████████████████| Time: 0:00:20\u001b[39m\n"
     ]
    },
    {
     "data": {
      "text/plain": [
       "20×20 Matrix{Float64}:\n",
       " 83583.5      0.0      0.0      0.0  …      0.0      0.0      0.0      0.0\n",
       "     0.0  83583.5      0.0      0.0         0.0      0.0      0.0      0.0\n",
       "     0.0      0.0  83583.5      0.0         0.0      0.0      0.0      0.0\n",
       "     0.0      0.0      0.0  83583.5         0.0      0.0      0.0      0.0\n",
       "     0.0      0.0      0.0      0.0         0.0      0.0      0.0      0.0\n",
       "     0.0      0.0      0.0      0.0  …      0.0      0.0      0.0      0.0\n",
       "     0.0      0.0      0.0      0.0         0.0      0.0      0.0      0.0\n",
       "     0.0      0.0      0.0      0.0         0.0      0.0      0.0      0.0\n",
       "     0.0      0.0      0.0      0.0         0.0      0.0      0.0      0.0\n",
       "     0.0      0.0      0.0      0.0         0.0      0.0      0.0      0.0\n",
       "     0.0      0.0      0.0      0.0  …      0.0      0.0      0.0      0.0\n",
       "     0.0      0.0      0.0      0.0         0.0      0.0      0.0      0.0\n",
       "     0.0      0.0      0.0      0.0         0.0      0.0      0.0      0.0\n",
       "     0.0      0.0      0.0      0.0         0.0      0.0      0.0      0.0\n",
       "     0.0      0.0      0.0      0.0         0.0      0.0      0.0      0.0\n",
       "     0.0      0.0      0.0      0.0  …      0.0      0.0      0.0      0.0\n",
       "     0.0      0.0      0.0      0.0     83583.5      0.0      0.0      0.0\n",
       "     0.0      0.0      0.0      0.0         0.0  83583.5      0.0      0.0\n",
       "     0.0      0.0      0.0      0.0         0.0      0.0  83583.5      0.0\n",
       "     0.0      0.0      0.0      0.0         0.0      0.0      0.0  83583.5"
      ]
     },
     "execution_count": 10,
     "metadata": {},
     "output_type": "execute_result"
    }
   ],
   "source": [
    "Ωhat = zeros(Nx, Nx)\n",
    "cache = zeros(1, Nx, Nx)\n",
    "@showprogress for i=1:Ne\n",
    "    hess_x_log_pdf!(cache, S, X[:,i:i])\n",
    "    Ωhat .+= copy(cache[1,:,:]).^2\n",
    "end\n",
    "rmul!(Ωhat, 1/Ne)"
   ]
  },
  {
   "cell_type": "code",
   "execution_count": 11,
   "metadata": {},
   "outputs": [
    {
     "data": {
      "image/png": "[encoded data removed]"
     },
     "execution_count": 11,
     "metadata": {},
     "output_type": "execute_result"
    }
   ],
   "source": [
    "plt = plot(size = (800, 800))\n",
    "\n",
    "heatmap!(plt,log10.(Ωhat), ratio = 1, yflip = true, \n",
    "        colorbar = true, color = :plasma, clim = (1.5, Inf), colorbar_title = L\"\\log_{10}(\\hat{\\Omega})\",\n",
    "        xlabel = \"Index\", ylabel = \"Index\", background_color_inside = palette(:plasma)[1], \n",
    "        yticks = (reverse(collect(0:10:Nx))))\n",
    "plt"
   ]
  }
 ],
 "metadata": {
  "kernelspec": {
   "display_name": "Julia 1.6.2",
   "language": "julia",
   "name": "julia-1.6"
  },
  "language_info": {
   "file_extension": ".jl",
   "mimetype": "application/julia",
   "name": "julia",
   "version": "1.6.2"
  }
 },
 "nbformat": 4,
 "nbformat_minor": 2
}
