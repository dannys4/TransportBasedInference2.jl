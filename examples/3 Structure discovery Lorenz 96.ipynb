{
 "cells": [
  {
   "cell_type": "markdown",
   "metadata": {},
   "source": [
    "## 3. Structure discovery for the Lorenz-96 problem"
   ]
  },
  {
   "cell_type": "markdown",
   "metadata": {},
   "source": [
    "In this notebook, we will show how we can estimate the conditional independence structure of a random variable $\\mathsf{X} \\in \\mathbb{R}^{N_x}$ with density $\\pi$ based on i.i.d. samples $\\{\\boldsymbol{x}^i\\}, \\; i = 1, \\ldots, N_e$ from $\\pi$.\n",
    "\n",
    "References: \n",
    "\n",
    "[1] Lorenz, E.N., 1996, September. Predictability: A problem partly solved. In Proc. Seminar on predictability (Vol. 1, No. 1).\n",
    "\n",
    "[2] Baptista, R., Zahm, O., & Marzouk, Y. (2020). An adaptive transport framework for joint and conditional density estimation. arXiv preprint arXiv:2009.10303.\n",
    "\n",
    "[3] Baptista, R., Marzouk, Y., Morrison, R.E. and Zahm, O., 2021. Learning non-Gaussian graphical models via Hessian scores and triangular transport. arXiv preprint arXiv:2101.03093.\n"
   ]
  },
  {
   "cell_type": "code",
   "execution_count": 1,
   "metadata": {},
   "outputs": [
    {
     "name": "stderr",
     "output_type": "stream",
     "text": [
      "┌ Info: Precompiling AdaptiveTransportMap [bdf749b0-1400-4207-80d3-e689c0e3f03d]\n",
      "└ @ Base loading.jl:1278\n",
      "┌ Warning: Type annotations on keyword arguments not currently supported in recipes. Type information has been discarded\n",
      "└ @ RecipesBase ~/.julia/packages/RecipesBase/92zOw/src/RecipesBase.jl:116\n",
      "┌ Warning: Type annotations on keyword arguments not currently supported in recipes. Type information has been discarded\n",
      "└ @ RecipesBase ~/.julia/packages/RecipesBase/92zOw/src/RecipesBase.jl:116\n"
     ]
    }
   ],
   "source": [
    "using Revise\n",
    "using LinearAlgebra\n",
    "using AdaptiveTransportMap\n",
    "using Statistics\n",
    "using Distributions\n",
    "using OrdinaryDiffEq\n",
    "using ProgressMeter"
   ]
  },
  {
   "cell_type": "markdown",
   "metadata": {},
   "source": [
    "Load some packages to make nice figures"
   ]
  },
  {
   "cell_type": "code",
   "execution_count": 2,
   "metadata": {},
   "outputs": [],
   "source": [
    "using Plots\n",
    "default(tickfont = font(\"CMU Serif\", 9), \n",
    "        titlefont = font(\"CMU Serif\", 14), \n",
    "        guidefont = font(\"CMU Serif\", 12),\n",
    "        legendfont = font(\"CMU Serif\", 10),\n",
    "        grid = false)\n",
    "# Plots.font(\"sans-serif\")\n",
    "# clibrary(:colorbrewer)\n",
    "# gr()\n",
    "pyplot()\n",
    "\n",
    "using LaTeXStrings\n",
    "# PyPlot.rc(\"text\", usetex = \"true\")\n",
    "# rcParams = PyPlot.PyDict(PyPlot.matplotlib.\"rcParams\")\n",
    "# rcParams[\"text.usetex\"] = true;\n",
    "PyPlot.rc(\"font\", family = \"CMU Serif\")\n",
    "PyPlot.matplotlib[:rc](\"mathtext\",fontset=\"cm\")        #computer modern font \n",
    "PyPlot.matplotlib[:rc](\"font\",family=\"serif\",size=12)\n",
    "\n",
    "using ColorSchemes"
   ]
  },
  {
   "cell_type": "markdown",
   "metadata": {},
   "source": [
    "The Lorenz-96 model [1] is a famous problem used in data assimilation and weather prediction. It was derived from first principles as a one-dimensional model for the response of the mid-latitude atmosphere to forcing input. For certain forcing input, it can exhibit a chaotic behavior: sensitivity to initial conditions, strong mixing. In this notebook, we consider the fifteen-dimensional version of the Lorenz-96 model.  The state $\\boldsymbol{x} = (x_1, \\ldots, x_{15})$ at time $t$ is governed by the following set of ordinary differential equations:  \n",
    "\n",
    "\\begin{equation}\n",
    "    \\frac{\\mathrm{d}x_i}{\\mathrm{d}t} = (x_{i+1} - x_{i-2}) x_{i-1} -x_i + F,\n",
    "\\end{equation}\n",
    "where it is assumed that $x_{-1} = x_{n − 1} , x_0 = x_{n}$ and $x_{n+1} = x_1$, setting the forcing input $F=8.0$ leads to chaos."
   ]
  },
  {
   "cell_type": "markdown",
   "metadata": {},
   "source": [
    "We integrate the Lorenz-96 problem with our favorite ODE library: OrdinaryDiffEq.jl."
   ]
  },
  {
   "cell_type": "code",
   "execution_count": 3,
   "metadata": {},
   "outputs": [
    {
     "data": {
      "text/plain": [
       "lorenz96! (generic function with 1 method)"
      ]
     },
     "execution_count": 3,
     "metadata": {},
     "output_type": "execute_result"
    }
   ],
   "source": [
    "function lorenz96!(du,u,p,t)\n",
    "    F = 8.0\n",
    "    n = size(u,1)\n",
    "    du[1] = (u[2]-u[end-1])*u[end] - u[1] + F\n",
    "    du[2] = (u[3]-u[end])*u[1] - u[2] + F\n",
    "    du[end] = (u[1] - u[end-2])*u[end-1] - u[end] + F\n",
    "\n",
    "    @inbounds for i=3:n-1\n",
    "        du[i] = (u[i+1] - u[i-2])*u[i-1] - u[i] + F\n",
    "    end\n",
    "    return du\n",
    "end"
   ]
  },
  {
   "cell_type": "code",
   "execution_count": 34,
   "metadata": {},
   "outputs": [
    {
     "data": {
      "text/plain": [
       "\u001b[36mODEProblem\u001b[0m with uType \u001b[36mArray{Float64,1}\u001b[0m and tType \u001b[36mFloat64\u001b[0m. In-place: \u001b[36mtrue\u001b[0m\n",
       "timespan: (0.0, 500.0)\n",
       "u0: 20-element Array{Float64,1}:\n",
       " -0.127254307939384\n",
       "  0.3448557115089804\n",
       " -1.358177067037831\n",
       " -0.7539274102800723\n",
       "  1.6007053874123751\n",
       "  0.5555521720417016\n",
       " -0.12353430694438167\n",
       "  1.33796815436341\n",
       " -0.7441619210186035\n",
       " -0.28217295677559184\n",
       "  1.3343890799533176\n",
       "  0.8144326943014919\n",
       "  0.16304212844631244\n",
       "  0.19230350360461226\n",
       "  0.22254875690894574\n",
       "  1.0963503020461118\n",
       " -0.9035825379038417\n",
       "  0.9230757070486971\n",
       "  0.24558707515201642\n",
       " -1.4759583652733954"
      ]
     },
     "execution_count": 34,
     "metadata": {},
     "output_type": "execute_result"
    }
   ],
   "source": [
    "# Define the distribution for initial condition\n",
    "Nx = 20\n",
    "# Number of runs\n",
    "Ne = 500\n",
    "πx0 = MvNormal(zeros(Nx), ones(Nx))\n",
    "# Zero vector of the size of the state\n",
    "x0 = rand(πx0)\n",
    "\n",
    "# Time stepp\n",
    "tspan = (0.0, 500.0)\n",
    "prob = ODEProblem(lorenz96!,x0, tspan)"
   ]
  },
  {
   "cell_type": "markdown",
   "metadata": {},
   "source": [
    "Create cache to store the different final solutions"
   ]
  },
  {
   "cell_type": "code",
   "execution_count": 35,
   "metadata": {},
   "outputs": [],
   "source": [
    "X = zeros(Nx, Ne);"
   ]
  },
  {
   "cell_type": "markdown",
   "metadata": {},
   "source": [
    "Solve Lorenz-96 model for the different initial conditions and store the solutions as the columns of `X`"
   ]
  },
  {
   "cell_type": "code",
   "execution_count": 36,
   "metadata": {},
   "outputs": [],
   "source": [
    "@inbounds for i=1:Ne\n",
    "    prob = remake(prob; u0 = rand(πx0))\n",
    "    sol = solve(prob, Tsit5(), dt = 0.01, adaptive = false, dense = false, saveat = tspan[end], save_start = false)\n",
    "    X[:,i] = deepcopy(sol.u[1])\n",
    "end"
   ]
  },
  {
   "cell_type": "markdown",
   "metadata": {},
   "source": [
    "We can use the adaptive transport map procedure to estimate the underlying distribution for the state $\\mathsf{X}$."
   ]
  },
  {
   "cell_type": "code",
   "execution_count": 37,
   "metadata": {},
   "outputs": [],
   "source": [
    "m = 60\n",
    "S = HermiteMap(m, X; diag = true);"
   ]
  },
  {
   "cell_type": "code",
   "execution_count": 38,
   "metadata": {
    "scrolled": true
   },
   "outputs": [
    {
     "data": {
      "text/plain": [
       "Hermite map of dimension 20:\n",
       "Hermite map component of dimension 1 with Nψ = 1 active features\n",
       "Hermite map component of dimension 2 with Nψ = 24 active features\n",
       "Hermite map component of dimension 3 with Nψ = 21 active features\n",
       "Hermite map component of dimension 4 with Nψ = 24 active features\n",
       "Hermite map component of dimension 5 with Nψ = 22 active features\n",
       "Hermite map component of dimension 6 with Nψ = 24 active features\n",
       "Hermite map component of dimension 7 with Nψ = 20 active features\n",
       "Hermite map component of dimension 8 with Nψ = 14 active features\n",
       "Hermite map component of dimension 9 with Nψ = 24 active features\n",
       "Hermite map component of dimension 10 with Nψ = 23 active features\n",
       "Hermite map component of dimension 11 with Nψ = 9 active features\n",
       "Hermite map component of dimension 12 with Nψ = 14 active features\n",
       "Hermite map component of dimension 13 with Nψ = 9 active features\n",
       "Hermite map component of dimension 14 with Nψ = 17 active features\n",
       "Hermite map component of dimension 15 with Nψ = 12 active features\n",
       "Hermite map component of dimension 16 with Nψ = 12 active features\n",
       "Hermite map component of dimension 17 with Nψ = 10 active features\n",
       "Hermite map component of dimension 18 with Nψ = 22 active features\n",
       "Hermite map component of dimension 19 with Nψ = 20 active features\n",
       "Hermite map component of dimension 20 with Nψ = 24 active features\n"
      ]
     },
     "execution_count": 38,
     "metadata": {},
     "output_type": "execute_result"
    }
   ],
   "source": [
    "optimize(S, X, \"kfold\"; withqr = true, verbose = false, hessprecond = true)"
   ]
  },
  {
   "cell_type": "code",
   "execution_count": 39,
   "metadata": {},
   "outputs": [
    {
     "data": {
      "image/png": "[encoded data removed]"
     },
     "execution_count": 39,
     "metadata": {},
     "output_type": "execute_result"
    }
   ],
   "source": [
    "plot(S)\n",
    "# savefig(\"Lorenz96_structure.pdf\")"
   ]
  },
  {
   "cell_type": "markdown",
   "metadata": {},
   "source": [
    "Baptista et al.[3] showed that the conditional independence properties of a random variable $\\mathsf{X} \\in \\mathbb{R}^n$ with density $\\pi$ are specified by the *Hessian score matrix* $\\boldsymbol{\\Omega} \\in \\mathbb{R}^{n \\times n}$ defined as:\n",
    "\n",
    "\\begin{equation}\n",
    "\\Omega_{i,j} = \\mathrm{E}_{\\pi} \\left[ |\\partial_i\\partial_j \\log \\pi(\\boldsymbol{x})|^2  \\right] = \\int |\\partial_i\\partial_j \\log \\pi(\\boldsymbol{x})|^2 \\pi(\\boldsymbol{x}) \\; \\mathrm{d}\\boldsymbol{x}.\n",
    "\\end{equation}\n",
    "\n",
    "The pullback density $\\boldsymbol{S}^{\\sharp} \\rho$ can be used to approximate the true density $\\pi$, where $\\rho$ denotes the standard Gaussian distribution of $\\mathbb{R}^n$. Thus, the score matrix is estimated by [3]: \n",
    "\\begin{equation}\n",
    "\\hat{\\Omega}_{i,j} = \\mathrm{E}_{\\pi} \\left[ |\\partial_i\\partial_j \\log \\boldsymbol{S}^{\\sharp} \\rho|^2  \\right]\n",
    "\\end{equation}\n",
    "\n",
    "In practice, we use a sampled-based approximation of $\\hat{\\boldsymbol{\\Omega}}$ using samples $\\{\\boldsymbol{x}^k\\}, \\; k=1,\\ldots, N_e$ of $\\pi$ [3]:\n",
    "\n",
    "\n",
    "\\begin{equation}\n",
    "\\hat{\\Omega}_{i,j} \\approx \\sum_{k=1}^{N_e}|\\partial_i\\partial_j \\log \\boldsymbol{S}^{\\sharp}\\rho(\\boldsymbol{x}^k )|^2\n",
    "\\end{equation}"
   ]
  },
  {
   "cell_type": "markdown",
   "metadata": {},
   "source": [
    "The function `hess_x_log_pdf!` computes in-place the Hessian of the log pdf of the pullback density $\\boldsymbol{S}^{\\sharp} \\rho$. You can also use `hess_x_log_pdf`."
   ]
  },
  {
   "cell_type": "code",
   "execution_count": 40,
   "metadata": {},
   "outputs": [
    {
     "name": "stderr",
     "output_type": "stream",
     "text": [
      "\u001b[32mProgress: 100%|█████████████████████████████████████████| Time: 0:00:19\u001b[39m\n"
     ]
    },
    {
     "data": {
      "text/plain": [
       "20×20 Array{Float64,2}:\n",
       "     6.36765e5    434.954      32946.0        …  4992.56         542.982\n",
       "   434.954          9.74216e5   2615.59           156.395       6648.54\n",
       " 32946.0         2615.59           9.12612e5      482.472         14.2558\n",
       "  1034.39       11433.8         1113.77            44.5714       123.468\n",
       "  1519.37         318.529       5449.51             0.0187186     39.2444\n",
       "     2.06343      258.166         90.3314     …     0.0            0.0\n",
       "     2.91705       53.3263         0.647473         0.0            0.0\n",
       "    34.4528        10.3676        71.3334           2.72533        0.0\n",
       "     3.47855      252.825          0.0486888        0.0501666     12.7152\n",
       "   806.083          2.34867        0.113853         0.0            0.0\n",
       "     5.93518      136.81           0.524778   …     0.0            0.0\n",
       "   148.547        189.898          8.68857         88.8216         0.0\n",
       "     0.0            0.0            0.0423659        0.0            0.0\n",
       "     2.67831        8.29155       36.1864           0.0387211     82.0305\n",
       "     0.243805       1.83182        1.01763          0.349701      19.4558\n",
       "     5.13047        5.32353        0.977565   …   277.966          0.0\n",
       "   514.715         25.6275        34.213         7085.92           0.0\n",
       "   177.286        457.748          2.8197           4.97223     7477.8\n",
       "  4992.56         156.395        482.472            1.13995e5    110.022\n",
       "   542.982       6648.54          14.2558         110.022      83583.5"
      ]
     },
     "execution_count": 40,
     "metadata": {},
     "output_type": "execute_result"
    }
   ],
   "source": [
    "Ωhat = zeros(Nx, Nx)\n",
    "cache = zeros(1, Nx, Nx)\n",
    "@showprogress for i=1:Ne\n",
    "    hess_x_log_pdf!(cache, S, X[:,i:i])\n",
    "    Ωhat .+= copy(cache[1,:,:]).^2\n",
    "end\n",
    "rmul!(Ωhat, 1/Ne)"
   ]
  },
  {
   "cell_type": "code",
   "execution_count": 41,
   "metadata": {},
   "outputs": [
    {
     "data": {
      "image/png": "[encoded data removed]"
     },
     "execution_count": 41,
     "metadata": {},
     "output_type": "execute_result"
    }
   ],
   "source": [
    "plt = plot(size = (800, 800))\n",
    "\n",
    "heatmap!(plt,log10.(Ωhat), ratio = 1, yflip = true, \n",
    "        colorbar = true, color = :plasma, clim = (1.5, Inf), colorbar_title = L\"\\log_{10}(\\hat{\\Omega})\",\n",
    "        xlabel = \"Index\", ylabel = \"Index\", background_color_inside = palette(:plasma)[1], \n",
    "        yticks = (reverse(collect(0:10:Nx))))\n",
    "plt"
   ]
  }
 ],
 "metadata": {
  "kernelspec": {
   "display_name": "Julia 1.5.3",
   "language": "julia",
   "name": "julia-1.5"
  },
  "language_info": {
   "file_extension": ".jl",
   "mimetype": "application/julia",
   "name": "julia",
   "version": "1.5.3"
  }
 },
 "nbformat": 4,
 "nbformat_minor": 2
}
