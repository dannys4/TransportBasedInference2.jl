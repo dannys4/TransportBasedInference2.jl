{
 "cells": [
  {
   "cell_type": "markdown",
   "metadata": {},
   "source": [
    "## 9. Nonlinear ensemble filtering for the Lorenz-63 problem"
   ]
  },
  {
   "cell_type": "markdown",
   "metadata": {},
   "source": [
    "In this notebook, we are interested in the sequential inference \n",
    "\n",
    "\n",
    "\n",
    "References: \n",
    "\n",
    "\n",
    "[1] Evensen, G., 1994. Sequential data assimilation with a nonlinear quasi‐geostrophic model using Monte Carlo methods to forecast error statistics. Journal of Geophysical Research: Oceans, 99(C5), pp.10143-10162.\n",
    "\n",
    "[2] Asch, M., Bocquet, M. and Nodet, M., 2016. Data assimilation: methods, algorithms, and applications. Society for Industrial and Applied Mathematics.\n",
    "\n",
    "[3] Bishop, C.H., Etherton, B.J. and Majumdar, S.J., 2001. Adaptive sampling with the ensemble transform Kalman filter. Part I: Theoretical aspects. Monthly weather review, 129(3), pp.420-436. \n",
    "\n",
    "[4] Lorenz, E.N., 1963. Deterministic nonperiodic flow. Journal of atmospheric sciences, 20(2), pp.130-141.\n",
    "\n",
    "[5] Spantini, A., Baptista, R. and Marzouk, Y., 2019. Coupling techniques for nonlinear ensemble filtering. arXiv preprint arXiv:1907.00389."
   ]
  },
  {
   "cell_type": "markdown",
   "metadata": {},
   "source": [
    "### The basic steps\n",
    "To carry out sequential inference in `AdaptiveTransportMap`, we need to carry out a few basic steps:\n",
    "* **Specify the problem**: Define the state-space model: initial condition, dynamical and observation models (including process and observation noise)\n",
    "* **Specify the inflation parameters**: Determine the levels of covariance inflation to properly balance the dynamical system and the observations from the truth system\n",
    "* **Specify the filter**: Choose the ensemble filter to assimilate the observations in the state estimate\n",
    "* **Perform the sequential inference**\n",
    "\n",
    "We will go through all of these here."
   ]
  },
  {
   "cell_type": "code",
   "execution_count": 1,
   "metadata": {},
   "outputs": [
    {
     "name": "stderr",
     "output_type": "stream",
     "text": [
      "┌ Info: Precompiling AdaptiveTransportMap [bdf749b0-1400-4207-80d3-e689c0e3f03d]\n",
      "└ @ Base loading.jl:1278\n",
      "┌ Warning: Type annotations on keyword arguments not currently supported in recipes. Type information has been discarded\n",
      "└ @ RecipesBase ~/.julia/packages/RecipesBase/92zOw/src/RecipesBase.jl:116\n",
      "┌ Warning: Type annotations on keyword arguments not currently supported in recipes. Type information has been discarded\n",
      "└ @ RecipesBase ~/.julia/packages/RecipesBase/92zOw/src/RecipesBase.jl:116\n",
      "┌ Warning: Type annotations on keyword arguments not currently supported in recipes. Type information has been discarded\n",
      "└ @ RecipesBase ~/.julia/packages/RecipesBase/92zOw/src/RecipesBase.jl:116\n",
      "┌ Warning: Type annotations on keyword arguments not currently supported in recipes. Type information has been discarded\n",
      "└ @ RecipesBase ~/.julia/packages/RecipesBase/92zOw/src/RecipesBase.jl:116\n",
      "┌ Warning: Type annotations on keyword arguments not currently supported in recipes. Type information has been discarded\n",
      "└ @ RecipesBase ~/.julia/packages/RecipesBase/92zOw/src/RecipesBase.jl:116\n",
      "┌ Warning: Type annotations on keyword arguments not currently supported in recipes. Type information has been discarded\n",
      "└ @ RecipesBase ~/.julia/packages/RecipesBase/92zOw/src/RecipesBase.jl:116\n"
     ]
    }
   ],
   "source": [
    "using Revise\n",
    "using LinearAlgebra\n",
    "using AdaptiveTransportMap\n",
    "using Statistics\n",
    "using Distributions\n",
    "using OrdinaryDiffEq"
   ]
  },
  {
   "cell_type": "code",
   "execution_count": 2,
   "metadata": {},
   "outputs": [],
   "source": [
    "using DelimitedFiles"
   ]
  },
  {
   "cell_type": "markdown",
   "metadata": {},
   "source": [
    "Load some packages to make nice figures"
   ]
  },
  {
   "cell_type": "code",
   "execution_count": 3,
   "metadata": {},
   "outputs": [],
   "source": [
    "using Plots\n",
    "default(tickfont = font(\"CMU Serif\", 9), \n",
    "        titlefont = font(\"CMU Serif\", 14), \n",
    "        guidefont = font(\"CMU Serif\", 12),\n",
    "        legendfont = font(\"CMU Serif\", 10),\n",
    "        grid = false)\n",
    "# pyplot()\n",
    "\n",
    "using LaTeXStrings\n",
    "# PyPlot.rc(\"text\", usetex = \"true\")\n",
    "# PyPlot.rc(\"font\", family = \"CMU Serif\")\n",
    "# gr()\n",
    "using ColorSchemes"
   ]
  },
  {
   "cell_type": "markdown",
   "metadata": {},
   "source": [
    "The Lorenz-63  model is a three dimensional system that models the atmospheric convection [4]. This system is a classical benchmark problem in data assimilation. The state $\\boldsymbol{x} = (x_1, x_2, x_3)$ is governed by the following set of ordinary differential equations:\n",
    "\n",
    "\\begin{equation}\n",
    "\\begin{aligned}\n",
    "&\\frac{\\mathrm{d} x_1}{\\mathrm{d} t}=\\sigma(x_2-x_1)\\\\\n",
    "&\\frac{\\mathrm{d} x_2}{\\mathrm{d} t}=x_1(\\rho-x_2)-x_2\\\\\n",
    "&\\frac{\\mathrm{d} x_3}{\\mathrm{d} t}=x_1 x_2-\\beta x_3,\n",
    "\\end{aligned}\n",
    "\\end{equation}\n",
    "\n",
    "where $\\sigma = 10, \\beta = 8/3, \\rho = 28$. For these values, the system is chaotic and behaves like a strange attractor. We integrate this system of ODEs with time step $\\Delta t_{dyn} = 0.05$. The state is fully observed $h(t,\\boldsymbol{x}) = \\boldsymbol{x}$ with $\\Delta t_{obs}=0.1$. The initial distribution $\\pi_{\\mathsf{X}_0}$ is the standard Gaussian. The process noise is Gaussian with zero mean and covariance $10^{-4}\\boldsymbol{I}_3$. The measurement noise has a Gaussian distribution with zero mean and covariance $\\theta^2\\boldsymbol{I}_3$ where $\\theta^2 = 4.0$."
   ]
  },
  {
   "cell_type": "markdown",
   "metadata": {},
   "source": [
    "### Simple twin-experiment"
   ]
  },
  {
   "cell_type": "markdown",
   "metadata": {},
   "source": [
    "Define the dimension of the state and observation vectors"
   ]
  },
  {
   "cell_type": "code",
   "execution_count": 4,
   "metadata": {},
   "outputs": [
    {
     "data": {
      "text/plain": [
       "3"
      ]
     },
     "execution_count": 4,
     "metadata": {},
     "output_type": "execute_result"
    }
   ],
   "source": [
    "Nx = 3\n",
    "Ny = 3"
   ]
  },
  {
   "cell_type": "markdown",
   "metadata": {},
   "source": [
    "Define the time steps $\\Delta t_{dyn}, \\Delta t_{obs}$  of the dynamical and observation models. Observations from the truth are assimilated every $\\Delta t_{obs}$."
   ]
  },
  {
   "cell_type": "code",
   "execution_count": 5,
   "metadata": {},
   "outputs": [
    {
     "data": {
      "text/plain": [
       "0.2"
      ]
     },
     "execution_count": 5,
     "metadata": {},
     "output_type": "execute_result"
    }
   ],
   "source": [
    "Δtdyn = 0.05\n",
    "Δtobs = 0.2"
   ]
  },
  {
   "cell_type": "markdown",
   "metadata": {},
   "source": [
    "Define the time span of interest"
   ]
  },
  {
   "cell_type": "code",
   "execution_count": 6,
   "metadata": {},
   "outputs": [
    {
     "data": {
      "text/plain": [
       "5000"
      ]
     },
     "execution_count": 6,
     "metadata": {},
     "output_type": "execute_result"
    }
   ],
   "source": [
    "t0 = 0.0\n",
    "tf = 1000.0\n",
    "Tf = ceil(Int64, (tf-t0)/Δtobs)"
   ]
  },
  {
   "cell_type": "markdown",
   "metadata": {},
   "source": [
    " Define the distribution for the initial condition $\\pi_{\\mathsf{X}_0}$"
   ]
  },
  {
   "cell_type": "code",
   "execution_count": 7,
   "metadata": {},
   "outputs": [
    {
     "data": {
      "text/plain": [
       "FullNormal(\n",
       "dim: 3\n",
       "μ: [0.0, 0.0, 0.0]\n",
       "Σ: [1.0 0.0 0.0; 0.0 1.0 0.0; 0.0 0.0 1.0]\n",
       ")\n"
      ]
     },
     "execution_count": 7,
     "metadata": {},
     "output_type": "execute_result"
    }
   ],
   "source": [
    "π0 = MvNormal(zeros(Nx), Matrix(1.0*I, Nx, Nx))"
   ]
  },
  {
   "cell_type": "markdown",
   "metadata": {},
   "source": [
    "We construct the state-space representation `F` of the system composed of the deterministic part of the dynamical and observation models. \n",
    "\n",
    "The dynamical model is provided by the right hand side of the ODE to solve. For a system of ODEs, we will prefer an in-place syntax `f(du, u, p, t)`, where `p` are parameters of the model.\n",
    "We rely on `OrdinaryDiffEq` to integrate the dynamical system with the Tsitouras 5/4 Runge-Kutta method adaptive time marching. \n",
    "\n",
    "We assume that the state is fully observable, i.e. $h(x, t) = x$."
   ]
  },
  {
   "cell_type": "code",
   "execution_count": 8,
   "metadata": {},
   "outputs": [
    {
     "data": {
      "text/plain": [
       "StateSpace(AdaptiveTransportMap.lorenz63!, h)"
      ]
     },
     "execution_count": 8,
     "metadata": {},
     "output_type": "execute_result"
    }
   ],
   "source": [
    "h(x, t) = x\n",
    "F = StateSpace(lorenz63!, h)"
   ]
  },
  {
   "cell_type": "markdown",
   "metadata": {},
   "source": [
    "Define the additive inflation for the dynamical and observation models"
   ]
  },
  {
   "cell_type": "code",
   "execution_count": 9,
   "metadata": {},
   "outputs": [
    {
     "data": {
      "text/plain": [
       "AdditiveInflation(3, [0.0, 0.0, 0.0], [4.0 0.0 0.0; 0.0 4.0 0.0; 0.0 0.0 4.0], [2.0 0.0 0.0; 0.0 2.0 0.0; 0.0 0.0 2.0])"
      ]
     },
     "execution_count": 9,
     "metadata": {},
     "output_type": "execute_result"
    }
   ],
   "source": [
    "### Process and observation noise\n",
    "σx = 1e-6\n",
    "σy = 2.0\n",
    "\n",
    "ϵx = AdditiveInflation(Nx, zeros(Nx), σx)\n",
    "ϵy = AdditiveInflation(Ny, zeros(Ny), σy)"
   ]
  },
  {
   "cell_type": "code",
   "execution_count": 10,
   "metadata": {},
   "outputs": [],
   "source": [
    "model = Model(Nx, Ny, Δtdyn, Δtobs, ϵx, ϵy, π0, 0, 0, 0, F);"
   ]
  },
  {
   "cell_type": "markdown",
   "metadata": {},
   "source": [
    "To perform the nonlinear ensemble filtering, we first need to estimate the transport map $\\boldsymbol{S}^{\\boldsymbol{\\mathcal{X}}}$.\n",
    "\n",
    "In this notebook, we are going to assume that the basis of features does not change over time, but solely the coefficients $c_{\\boldsymbol{\\alpha}}$ of the expansion. \n",
    "\n",
    "\n",
    "To estimate the map, we generate joint samples $(\\boldsymbol{y}^i, \\boldsymbol{x}^i), \\; i = 1, \\ldots, N_e$ where $\\{\\boldsymbol{x}^i\\}$ are i.i.d. samples from pushforward of the standard Gaussian distribution by the flow of the Lorenz-63 system."
   ]
  },
  {
   "cell_type": "code",
   "execution_count": 11,
   "metadata": {},
   "outputs": [
    {
     "data": {
      "text/plain": [
       "(0.0, 1000.0)"
      ]
     },
     "execution_count": 11,
     "metadata": {},
     "output_type": "execute_result"
    }
   ],
   "source": [
    "# Time span\n",
    "tspan = (0.0, tf)"
   ]
  },
  {
   "cell_type": "markdown",
   "metadata": {},
   "source": [
    "Set initial condition of the true system"
   ]
  },
  {
   "cell_type": "code",
   "execution_count": 12,
   "metadata": {},
   "outputs": [],
   "source": [
    "x0 = rand(model.π0);"
   ]
  },
  {
   "cell_type": "code",
   "execution_count": 13,
   "metadata": {},
   "outputs": [],
   "source": [
    "data = generate_lorenz63(model, x0, Tf);"
   ]
  },
  {
   "cell_type": "markdown",
   "metadata": {},
   "source": [
    "Initialize the ensemble matrix `X` $\\in \\mathbb{R}^{(N_y + N_x) \\times N_e}$."
   ]
  },
  {
   "cell_type": "code",
   "execution_count": 14,
   "metadata": {},
   "outputs": [
    {
     "data": {
      "text/plain": [
       "3×160 view(::Array{Float64,2}, 4:6, :) with eltype Float64:\n",
       "  0.344391  -1.63611    0.520258  …  -1.06662   -0.723796  -0.0795489\n",
       " -0.665576   0.53879   -0.44642      -0.215337   0.576363   0.457708\n",
       "  0.956804   0.674299  -1.67704       0.849177   0.473492  -0.506165"
      ]
     },
     "execution_count": 14,
     "metadata": {},
     "output_type": "execute_result"
    }
   ],
   "source": [
    "# Ensemble size\n",
    "Ne = 160\n",
    "\n",
    "X0 = zeros(model.Ny + model.Nx, Ne)\n",
    "\n",
    "# Generate the initial conditions for the state.\n",
    "viewstate(X0, model.Ny, model.Nx) .= rand(model.π0, Ne)"
   ]
  },
  {
   "cell_type": "markdown",
   "metadata": {},
   "source": [
    "Use the stochastic ensemble Kalman filter for the spin-up phase. There is no reason to use the stochastic map filter over the first cycles, as the performance of the inference is determined by the quality of the ensemble, not the quality of the filter."
   ]
  },
  {
   "cell_type": "code",
   "execution_count": 15,
   "metadata": {},
   "outputs": [
    {
     "data": {
      "text/plain": [
       "Stochastic EnKF  with filtered = false\n"
      ]
     },
     "execution_count": 15,
     "metadata": {},
     "output_type": "execute_result"
    }
   ],
   "source": [
    "enkf = StochEnKF(x->x, ϵy, Δtdyn, Δtobs)"
   ]
  },
  {
   "cell_type": "code",
   "execution_count": 16,
   "metadata": {
    "scrolled": true
   },
   "outputs": [
    {
     "name": "stderr",
     "output_type": "stream",
     "text": [
      "\u001b[32mProgress: 100%|█████████████████████████████████████████| Time: 0:00:20\u001b[39m\n"
     ]
    }
   ],
   "source": [
    "Xenkf = seqassim(F, data, Tf, model.ϵx, enkf, deepcopy(X0), model.Ny, model.Nx, t0);"
   ]
  },
  {
   "cell_type": "code",
   "execution_count": 17,
   "metadata": {},
   "outputs": [
    {
     "data": {
      "text/plain": [
       "2500"
      ]
     },
     "execution_count": 17,
     "metadata": {},
     "output_type": "execute_result"
    }
   ],
   "source": [
    "tspin = 500.0\n",
    "Tspin = ceil(Int64, (tspin-t0)/Δtobs)"
   ]
  },
  {
   "cell_type": "markdown",
   "metadata": {},
   "source": [
    "Time average root-mean-squared error "
   ]
  },
  {
   "cell_type": "code",
   "execution_count": 18,
   "metadata": {},
   "outputs": [
    {
     "data": {
      "text/plain": [
       "0.7438886674236019"
      ]
     },
     "execution_count": 18,
     "metadata": {},
     "output_type": "execute_result"
    }
   ],
   "source": [
    "rmse_enkf = mean(map(i->norm(data.xt[:,i]-mean(Xenkf[i+1]; dims = 2))/sqrt(Nx), Tspin:Tf))"
   ]
  },
  {
   "cell_type": "markdown",
   "metadata": {},
   "source": [
    "Initialize the ensemble matrix for the radial stochastic map filter"
   ]
  },
  {
   "cell_type": "code",
   "execution_count": 19,
   "metadata": {},
   "outputs": [
    {
     "data": {
      "text/plain": [
       "6×160 Array{Float64,2}:\n",
       "   0.0       0.0       0.0       0.0     …    0.0       0.0       0.0\n",
       "   0.0       0.0       0.0       0.0          0.0       0.0       0.0\n",
       "   0.0       0.0       0.0       0.0          0.0       0.0       0.0\n",
       " -12.4906  -11.9144  -12.3197  -12.0428     -12.2335  -11.7603  -12.3121\n",
       " -12.219   -10.8192  -11.4231  -10.8976     -11.0774  -10.8977  -12.1498\n",
       "  32.5198   32.6027   32.9625   32.8287  …   33.09     32.1563   32.1474"
      ]
     },
     "execution_count": 19,
     "metadata": {},
     "output_type": "execute_result"
    }
   ],
   "source": [
    "Xspin = vcat(zeros(Ny, Ne), deepcopy(Xenkf[Tspin+1]))"
   ]
  },
  {
   "cell_type": "code",
   "execution_count": 20,
   "metadata": {},
   "outputs": [
    {
     "data": {
      "text/plain": [
       "2500"
      ]
     },
     "execution_count": 20,
     "metadata": {},
     "output_type": "execute_result"
    }
   ],
   "source": [
    "tsmf = 1000.0\n",
    "Tsmf = ceil(Int64, (tsmf-tspin)/Δtobs)"
   ]
  },
  {
   "cell_type": "markdown",
   "metadata": {},
   "source": [
    "Initialize the structure of the map"
   ]
  },
  {
   "cell_type": "code",
   "execution_count": 21,
   "metadata": {},
   "outputs": [
    {
     "data": {
      "text/plain": [
       "SparseRadialSMF(var\"#5#6\"(), h, 1.0, AdditiveInflation(3, [0.0, 0.0, 0.0], [4.0 0.0 0.0; 0.0 4.0 0.0; 0.0 0.0 4.0], [2.0 0.0 0.0; 0.0 2.0 0.0; 0.0 0.0 2.0]), Sparse Radial Map of dimension Nx = 4 and order p = [[-1], [2, 2], [-1, 2, 0], [-1, 2, 2, 0]]\n",
       "        with parameters (γ, λ, δ, κ) = (2.0, 0.0, 1.0e-8, 10.0)\n",
       ", 3, 3, 0.05, 0.2, [0.0 1.0 1.0; 1.0 0.0 1.0; 1.0 1.0 0.0], [1 2 3; 1 2 3], [0.0 0.0 … 0.0 0.0; 0.0 0.0 … 0.0 0.0; 0.0 0.0 … 0.0 0.0; 0.0 0.0 … 0.0 0.0], false, true, true)"
      ]
     },
     "execution_count": 21,
     "metadata": {},
     "output_type": "execute_result"
    }
   ],
   "source": [
    "p = 2\n",
    "order = [[-1], [p; p], [-1; p; 0], [-1; p; p; 0]]\n",
    "# order = [[-1], [-1; -1], [-1; -1; -1], [p; -1; -1 ;p], [-1; p; -1; p; p], [-1; -1; p; p; p; p]]\n",
    "\n",
    "# parameters of the radial map\n",
    "γ = 2.0\n",
    "λ = 0.0\n",
    "δ = 1e-8\n",
    "κ = 10.0\n",
    "β = 1.0\n",
    "\n",
    "dist = Float64.(metric_lorenz(3))\n",
    "idx = vcat(collect(1:Ny)',collect(1:Ny)')\n",
    "\n",
    "smf = SparseRadialSMF(x->x, F.h, β, ϵy, order, γ, λ, δ, κ, \n",
    "                      Ny, Nx, Ne, \n",
    "                      Δtdyn, Δtobs, \n",
    "                      dist, idx; islocalized = true)"
   ]
  },
  {
   "cell_type": "code",
   "execution_count": 22,
   "metadata": {
    "scrolled": true
   },
   "outputs": [
    {
     "name": "stderr",
     "output_type": "stream",
     "text": [
      "\u001b[32mProgress: 100%|█████████████████████████████████████████| Time: 0:00:22\u001b[39m\n"
     ]
    }
   ],
   "source": [
    "Xsmf = seqassim(F, data, Tsmf, model.ϵx, smf, deepcopy(Xspin), model.Ny, model.Nx, tspin);"
   ]
  },
  {
   "cell_type": "code",
   "execution_count": 23,
   "metadata": {},
   "outputs": [
    {
     "data": {
      "text/plain": [
       "0.5907544511580348"
      ]
     },
     "execution_count": 23,
     "metadata": {},
     "output_type": "execute_result"
    }
   ],
   "source": [
    "rmse_smf = mean(map(i->norm(data.xt[:,Tspin+i]-mean(Xsmf[i+1]; dims = 2))/sqrt(Nx), 1:Tsmf))"
   ]
  },
  {
   "cell_type": "code",
   "execution_count": 24,
   "metadata": {},
   "outputs": [
    {
     "data": {
      "text/plain": [
       "0.20585636395824533"
      ]
     },
     "execution_count": 24,
     "metadata": {},
     "output_type": "execute_result"
    }
   ],
   "source": [
    "(rmse_enkf-rmse_smf)/rmse_enkf"
   ]
  },
  {
   "cell_type": "code",
   "execution_count": 25,
   "metadata": {},
   "outputs": [
    {
     "data": {
      "image/svg+xml": [
       "<?xml version=\"1.0\" encoding=\"utf-8\"?>\n",
       "<svg xmlns=\"http://www.w3.org/2000/svg\" xmlns:xlink=\"http://www.w3.org/1999/xlink\" width=\"600\" height=\"800\" viewBox=\"0 0 2400 3200\">\n",
       "<defs>\n",
       "  <clipPath id=\"clip740\">\n",
       "    <rect x=\"0\" y=\"0\" width=\"2400\" height=\"3200\"/>\n",
       "  </clipPath>\n",
       "</defs>\n",
       "<path clip-path=\"url(#clip740)\" d=\"\n",
       "M0 3200 L2400 3200 L2400 0 L0 0  Z\n",
       "  \" fill=\"#ffffff\" fill-rule=\"evenodd\" fill-opacity=\"1\"/>\n",
       "<defs>\n",
       "  <clipPath id=\"clip741\">\n",
       "    <rect x=\"640\" y=\"320\" width=\"2241\" height=\"2241\"/>\n",
       "  </clipPath>\n",
       "</defs>\n",
       "<path clip-path=\"url(#clip740)\" d=\"\n",
       "M212.082 854.539 L2352.76 854.539 L2352.76 47.2441 L212.082 47.2441  Z\n",
       "  \" fill=\"#ffffff\" fill-rule=\"evenodd\" fill-opacity=\"1\"/>\n",
       "<defs>\n",
       "  <clipPath id=\"clip742\">\n",
       "    <rect x=\"212\" y=\"47\" width=\"2142\" height=\"808\"/>\n",
       "  </clipPath>\n",
       "</defs>\n",
       "<polyline clip-path=\"url(#clip740)\" style=\"stroke:#000000; stroke-width:4; stroke-opacity:1; fill:none\" points=\"\n",
       "  212.082,854.539 2352.76,854.539 \n",
       "  \"/>\n",
       "<polyline clip-path=\"url(#clip740)\" style=\"stroke:#000000; stroke-width:4; stroke-opacity:1; fill:none\" points=\"\n",
       "  644.109,854.539 644.109,844.852 \n",
       "  \"/>\n",
       "<polyline clip-path=\"url(#clip740)\" style=\"stroke:#000000; stroke-width:4; stroke-opacity:1; fill:none\" points=\"\n",
       "  1076.57,854.539 1076.57,844.852 \n",
       "  \"/>\n",
       "<polyline clip-path=\"url(#clip740)\" style=\"stroke:#000000; stroke-width:4; stroke-opacity:1; fill:none\" points=\"\n",
       "  1509.03,854.539 1509.03,844.852 \n",
       "  \"/>\n",
       "<polyline clip-path=\"url(#clip740)\" style=\"stroke:#000000; stroke-width:4; stroke-opacity:1; fill:none\" points=\"\n",
       "  1941.49,854.539 1941.49,844.852 \n",
       "  \"/>\n",
       "<g clip-path=\"url(#clip740)\">\n",
       "<text style=\"fill:#000000; fill-opacity:1; font-family:Arial,Helvetica Neue,Helvetica,sans-serif; font-size:53px; text-anchor:middle;\" transform=\"rotate(0, 644.109, 926.939)\" x=\"644.109\" y=\"926.939\">200</text>\n",
       "</g>\n",
       "<g clip-path=\"url(#clip740)\">\n",
       "<text style=\"fill:#000000; fill-opacity:1; font-family:Arial,Helvetica Neue,Helvetica,sans-serif; font-size:53px; text-anchor:middle;\" transform=\"rotate(0, 1076.57, 926.939)\" x=\"1076.57\" y=\"926.939\">400</text>\n",
       "</g>\n",
       "<g clip-path=\"url(#clip740)\">\n",
       "<text style=\"fill:#000000; fill-opacity:1; font-family:Arial,Helvetica Neue,Helvetica,sans-serif; font-size:53px; text-anchor:middle;\" transform=\"rotate(0, 1509.03, 926.939)\" x=\"1509.03\" y=\"926.939\">600</text>\n",
       "</g>\n",
       "<g clip-path=\"url(#clip740)\">\n",
       "<text style=\"fill:#000000; fill-opacity:1; font-family:Arial,Helvetica Neue,Helvetica,sans-serif; font-size:53px; text-anchor:middle;\" transform=\"rotate(0, 1941.49, 926.939)\" x=\"1941.49\" y=\"926.939\">800</text>\n",
       "</g>\n",
       "<g clip-path=\"url(#clip740)\">\n",
       "<image width=\"23\" height=\"45\" xlink:href=\"data:image/png;base64,\n",
       "iVBORw0KGgoAAAANSUhEUgAAABcAAAAtCAYAAABFy/BrAAABxElEQVRYhbWX3a3CMAyFnTtB6AgZ\n",
       "oawQMUHECFkBRugIzJARgBHKBmUFr+D7QhBt82OHYskPRe6Rc/KFuEBEIE1EJO89aa3JOUe5OrEw\n",
       "EYExhgDgnZuJI+JMuCT+B8K43+/84m8t2cyWlCWb2XI+n1e/Oeey9SLxlN/W2vwLEltgYYfWOmtJ\n",
       "Ey3srr/tfJqmYuds4ev1yqZELN73vVhcvZZbDaXUqpCIVPElRKRUV9+mtZZgGIbNhWMqIoLH40GI\n",
       "mF3d4XCYPWutIYSQre+6Dvb7vWpC0Htf3Uw2LUtxRGSJV0/o7XZbUbLb7cqUxPgF32zOm/h+RdGW\n",
       "0+m0Evbec3Tr4uL/72VIKDHGsP1m0dLcdanz1GXM5bvaecpvNt+1ziXziej4S+cTkS2p+UTCd4yk\n",
       "+Nd8x/gF3yLOm7rmds7lexxHAgAKIVCSlpb5JKZzbjYsrQqstc3iy/pVgda6STyejb7v0+IpS0pf\n",
       "a0uvrbWz2iotxpgqFMfjEQBgPW7USLlcLsXOQwjJrpOeLy/kYRiy4tGO3CGrcv65QZ8Zx8DS1wXr\n",
       "EOVWZ4wpHrDkhhKRmqbp/ayUos/sug7GcYTn86lKF8g/DrGGHV47F+QAAAAASUVORK5CYII=\n",
       "\" transform=\"translate(1271, 961)\"/>\n",
       "</g>\n",
       "<polyline clip-path=\"url(#clip740)\" style=\"stroke:#000000; stroke-width:4; stroke-opacity:1; fill:none\" points=\"\n",
       "  212.082,854.539 212.082,47.2441 \n",
       "  \"/>\n",
       "<polyline clip-path=\"url(#clip740)\" style=\"stroke:#000000; stroke-width:4; stroke-opacity:1; fill:none\" points=\"\n",
       "  212.082,799.95 237.77,799.95 \n",
       "  \"/>\n",
       "<polyline clip-path=\"url(#clip740)\" style=\"stroke:#000000; stroke-width:4; stroke-opacity:1; fill:none\" points=\"\n",
       "  212.082,675.753 237.77,675.753 \n",
       "  \"/>\n",
       "<polyline clip-path=\"url(#clip740)\" style=\"stroke:#000000; stroke-width:4; stroke-opacity:1; fill:none\" points=\"\n",
       "  212.082,551.555 237.77,551.555 \n",
       "  \"/>\n",
       "<polyline clip-path=\"url(#clip740)\" style=\"stroke:#000000; stroke-width:4; stroke-opacity:1; fill:none\" points=\"\n",
       "  212.082,427.357 237.77,427.357 \n",
       "  \"/>\n",
       "<polyline clip-path=\"url(#clip740)\" style=\"stroke:#000000; stroke-width:4; stroke-opacity:1; fill:none\" points=\"\n",
       "  212.082,303.16 237.77,303.16 \n",
       "  \"/>\n",
       "<polyline clip-path=\"url(#clip740)\" style=\"stroke:#000000; stroke-width:4; stroke-opacity:1; fill:none\" points=\"\n",
       "  212.082,178.962 237.77,178.962 \n",
       "  \"/>\n",
       "<polyline clip-path=\"url(#clip740)\" style=\"stroke:#000000; stroke-width:4; stroke-opacity:1; fill:none\" points=\"\n",
       "  212.082,54.7643 237.77,54.7643 \n",
       "  \"/>\n",
       "<g clip-path=\"url(#clip740)\">\n",
       "<text style=\"fill:#000000; fill-opacity:1; font-family:Arial,Helvetica Neue,Helvetica,sans-serif; font-size:53px; text-anchor:end;\" transform=\"rotate(0, 164.082, 819.45)\" x=\"164.082\" y=\"819.45\">−15</text>\n",
       "</g>\n",
       "<g clip-path=\"url(#clip740)\">\n",
       "<text style=\"fill:#000000; fill-opacity:1; font-family:Arial,Helvetica Neue,Helvetica,sans-serif; font-size:53px; text-anchor:end;\" transform=\"rotate(0, 164.082, 695.253)\" x=\"164.082\" y=\"695.253\">−10</text>\n",
       "</g>\n",
       "<g clip-path=\"url(#clip740)\">\n",
       "<text style=\"fill:#000000; fill-opacity:1; font-family:Arial,Helvetica Neue,Helvetica,sans-serif; font-size:53px; text-anchor:end;\" transform=\"rotate(0, 164.082, 571.055)\" x=\"164.082\" y=\"571.055\">−5</text>\n",
       "</g>\n",
       "<g clip-path=\"url(#clip740)\">\n",
       "<text style=\"fill:#000000; fill-opacity:1; font-family:Arial,Helvetica Neue,Helvetica,sans-serif; font-size:53px; text-anchor:end;\" transform=\"rotate(0, 164.082, 446.857)\" x=\"164.082\" y=\"446.857\">0</text>\n",
       "</g>\n",
       "<g clip-path=\"url(#clip740)\">\n",
       "<text style=\"fill:#000000; fill-opacity:1; font-family:Arial,Helvetica Neue,Helvetica,sans-serif; font-size:53px; text-anchor:end;\" transform=\"rotate(0, 164.082, 322.66)\" x=\"164.082\" y=\"322.66\">5</text>\n",
       "</g>\n",
       "<g clip-path=\"url(#clip740)\">\n",
       "<text style=\"fill:#000000; fill-opacity:1; font-family:Arial,Helvetica Neue,Helvetica,sans-serif; font-size:53px; text-anchor:end;\" transform=\"rotate(0, 164.082, 198.462)\" x=\"164.082\" y=\"198.462\">10</text>\n",
       "</g>\n",
       "<g clip-path=\"url(#clip740)\">\n",
       "<text style=\"fill:#000000; fill-opacity:1; font-family:Arial,Helvetica Neue,Helvetica,sans-serif; font-size:53px; text-anchor:end;\" transform=\"rotate(0, 164.082, 74.2643)\" x=\"164.082\" y=\"74.2643\">15</text>\n",
       "</g>\n",
       "<g clip-path=\"url(#clip740)\">\n",
       "<image width=\"42\" height=\"63\" xlink:href=\"data:image/png;base64,\n",
       "iVBORw0KGgoAAAANSUhEUgAAACoAAAA/CAYAAACW2FpzAAADBUlEQVRoge2a4XHyMAyGX3PfAKEj\n",
       "eIRcR0g3SBkh3QBWMBuEFdIN3I6Q6wQ0IwQ2UH/0UxpCgUhxIL1Dd7rrUWI/yPIr2WCICFO2z89P\n",
       "2u/3ABFN2tM0JQA0u3XE+todNJTt93sAfwC0qioAgJn6rjfGEDDxiO52uyaK//o+NJ/PifPlFtZ7\n",
       "6XkJbmW9l95aOybHZZNUieVySQBu4uJdb4yhOI7x/v6uDk5fq6oKj4+P3/NqQAGAiEx4tNPzieXp\n",
       "2rnK84lBsywDALy9vV1FBdSgcRwD+CltY1sURQAUoE9PTwYAPj4+AiOdN3UJres6JMdFm3xTwjbp\n",
       "pqRtd9DQdgcNbXfQ0Pb3QHe7Ha1WKzLGkDGGVqvVpCpBU5lOnYmu1XdeshkAnIveer0WR/b5+Zk2\n",
       "m03YFfHeEwAqiuLkeUV6A5ckycHzWZaJx+g6sixrYLoTACBrrWoS5xxZa5txiqIYBAsejF+I4/gA\n",
       "tK7rwdFor5Z2PPy2vEVRUJqm5JwbDMnOK2etpe12Kx63iWAooB6RUc0343PztSzPcwAKNeG81G4a\n",
       "jdd1TQBouVz2nhNEhO12SwAoSZLJpkDzB3/7EEURee9HB2YpFIMSHV6ClWU5KqxzTg/KadAVfmst\n",
       "FUURRFPZWVv7vv+ozauq6ujMXlUVFosFHh4e8PLyQq+vr4PreFmWsgeYuCxLiqJIdXcZRRHleS4S\n",
       "cmg3kwbwN0/TlPI8PwvA+SkGvdVNskRdjqLZ3TTee3LOqdPilMdxLNqYjX5KtdN7T9qVkEISBWpK\n",
       "vPfUbQ9PuaRsdjafrpu55NwqdkG144FzLzRoG7hdQJIkURWOg6PI2M5dEyDv9GdJkgD4/u0GRrb5\n",
       "fG6ccwCAxWIhe5joR4A1RwR1zv2vaL3f335QIxtDQKEpoayJWvmQ+qA2j7UwTdPRYaVt3tELbe0L\n",
       "EV10dJQvIvI8HwbaXhYA5Jwb1DB3QYHv04NUFs/+kz81u2SXngNtexBQjm77DikkqERlBuVfH/+t\n",
       "3mukcHTQU7DSvP8C2cKGXhzMxmkAAAAASUVORK5CYII=\n",
       "\" transform=\"translate(-17, 420)\"/>\n",
       "</g>\n",
       "<polyline clip-path=\"url(#clip742)\" style=\"stroke:#008080; stroke-width:12; stroke-opacity:1; fill:none\" points=\"\n",
       "  212.082,398.764 233.705,538.553 255.328,369.462 276.951,123.853 298.574,398.523 320.197,308.462 341.82,459.542 363.443,569.67 385.066,56.83 406.689,300.057 \n",
       "  428.312,773.771 449.935,98.6546 471.558,303.561 493.181,470.258 514.804,366.938 536.427,495.567 558.05,486.793 579.673,318.793 601.296,493.721 622.919,574.696 \n",
       "  644.542,317.27 666.165,321.797 687.788,322.651 709.411,434.887 731.033,245.432 752.656,613.578 774.279,525.137 795.902,371.031 817.525,335.725 839.148,157.592 \n",
       "  860.771,531.076 882.394,319.354 904.017,377.703 925.64,362.618 947.263,559.72 968.886,291.708 990.509,357.048 1012.13,335.952 1033.76,343.639 1055.38,650.075 \n",
       "  1077,206.726 1098.62,441.549 1120.25,586.86 1141.87,330.128 1163.49,750.495 1185.12,358.751 1206.74,520.397 1228.36,263.063 1249.98,392.987 1271.61,435.456 \n",
       "  1293.23,561.838 1314.85,317.317 1336.48,815.799 1358.1,469.25 1379.72,134.105 1401.35,440.496 1422.97,413.392 1444.59,320.445 1466.21,136.042 1487.84,381.982 \n",
       "  1509.46,573.446 1531.08,308.295 1552.71,410.385 1574.33,436.201 1595.95,337.485 1617.58,346.469 1639.2,325.641 1660.82,571.18 1682.44,306.555 1704.07,267.886 \n",
       "  1725.69,794.383 1747.31,407.183 1768.94,513.958 1790.56,304.031 1812.18,582.02 1833.8,285.786 1855.43,419.398 1877.05,194.174 1898.67,136.629 1920.3,549.632 \n",
       "  1941.92,567.339 1963.54,386.796 1985.17,386.681 2006.79,474.324 2028.41,187.44 2050.03,242.014 2071.66,346.159 2093.28,420.565 2114.9,582.596 2136.53,854.539 \n",
       "  2158.15,503.976 2179.77,776.975 2201.4,335.838 2223.02,433.601 2244.64,490.85 2266.26,202.083 2287.89,720.012 2309.51,370.118 2331.13,284.771 2352.76,150.21 \n",
       "  \n",
       "  \"/>\n",
       "<polyline clip-path=\"url(#clip742)\" style=\"stroke:#ee4000; stroke-width:12; stroke-opacity:1; fill:none\" stroke-dasharray=\"48, 30\" points=\"\n",
       "  212.082,394.366 233.705,540.012 255.328,394.181 276.951,114.543 298.574,426.869 320.197,277.968 341.82,461.046 363.443,590.59 385.066,47.2441 406.689,299.573 \n",
       "  428.312,764.131 449.935,88.3088 471.558,337.336 493.181,481.29 514.804,329.773 536.427,512.574 558.05,488.534 579.673,309.839 601.296,470.909 622.919,572.34 \n",
       "  644.542,300.284 666.165,341.347 687.788,260.679 709.411,432.056 731.033,261.817 752.656,624.046 774.279,536.437 795.902,424.618 817.525,389.37 839.148,150.785 \n",
       "  860.771,538.828 882.394,329.546 904.017,384.936 925.64,356.043 947.263,587.081 968.886,310.513 990.509,374.019 1012.13,337.735 1033.76,275.149 1055.38,669.638 \n",
       "  1077,210.578 1098.62,431.223 1120.25,578.968 1141.87,320.318 1163.49,763.333 1185.12,349.771 1206.74,527.675 1228.36,284.018 1249.98,380.881 1271.61,415.587 \n",
       "  1293.23,565.596 1314.85,320.218 1336.48,813.372 1358.1,488.034 1379.72,127.466 1401.35,432.745 1422.97,422.114 1444.59,321.009 1466.21,137.533 1487.84,384.242 \n",
       "  1509.46,595.984 1531.08,315.315 1552.71,401.79 1574.33,435.54 1595.95,346.561 1617.58,348.753 1639.2,285.47 1660.82,577.181 1682.44,303.875 1704.07,273.573 \n",
       "  1725.69,773.538 1747.31,407.847 1768.94,504.634 1790.56,312.447 1812.18,587.678 1833.8,298.994 1855.43,413.443 1877.05,170.496 1898.67,92.4298 1920.3,537.026 \n",
       "  1941.92,568.866 1963.54,372.727 1985.17,388.881 2006.79,498.314 2028.41,212.333 2050.03,237.55 2071.66,343.604 2093.28,424.706 2114.9,590.885 2136.53,842.724 \n",
       "  2158.15,521.11 2179.77,774.686 2201.4,341.879 2223.02,434.115 2244.64,527.795 2266.26,217.829 2287.89,722.871 2309.51,367.418 2331.13,308.744 2352.76,155.096 \n",
       "  \n",
       "  \"/>\n",
       "<circle clip-path=\"url(#clip742)\" cx=\"212.082\" cy=\"367.136\" r=\"18\" fill=\"#808080\" fill-rule=\"evenodd\" fill-opacity=\"0.5\" stroke=\"#000000\" stroke-opacity=\"0.5\" stroke-width=\"4.8\"/>\n",
       "<circle clip-path=\"url(#clip742)\" cx=\"233.705\" cy=\"488.564\" r=\"18\" fill=\"#808080\" fill-rule=\"evenodd\" fill-opacity=\"0.5\" stroke=\"#000000\" stroke-opacity=\"0.5\" stroke-width=\"4.8\"/>\n",
       "<circle clip-path=\"url(#clip742)\" cx=\"255.328\" cy=\"346.858\" r=\"18\" fill=\"#808080\" fill-rule=\"evenodd\" fill-opacity=\"0.5\" stroke=\"#000000\" stroke-opacity=\"0.5\" stroke-width=\"4.8\"/>\n",
       "<circle clip-path=\"url(#clip742)\" cx=\"276.951\" cy=\"160.284\" r=\"18\" fill=\"#808080\" fill-rule=\"evenodd\" fill-opacity=\"0.5\" stroke=\"#000000\" stroke-opacity=\"0.5\" stroke-width=\"4.8\"/>\n",
       "<circle clip-path=\"url(#clip742)\" cx=\"298.574\" cy=\"406.81\" r=\"18\" fill=\"#808080\" fill-rule=\"evenodd\" fill-opacity=\"0.5\" stroke=\"#000000\" stroke-opacity=\"0.5\" stroke-width=\"4.8\"/>\n",
       "<circle clip-path=\"url(#clip742)\" cx=\"320.197\" cy=\"268.316\" r=\"18\" fill=\"#808080\" fill-rule=\"evenodd\" fill-opacity=\"0.5\" stroke=\"#000000\" stroke-opacity=\"0.5\" stroke-width=\"4.8\"/>\n",
       "<circle clip-path=\"url(#clip742)\" cx=\"341.82\" cy=\"493.412\" r=\"18\" fill=\"#808080\" fill-rule=\"evenodd\" fill-opacity=\"0.5\" stroke=\"#000000\" stroke-opacity=\"0.5\" stroke-width=\"4.8\"/>\n",
       "<circle clip-path=\"url(#clip742)\" cx=\"363.443\" cy=\"563.114\" r=\"18\" fill=\"#808080\" fill-rule=\"evenodd\" fill-opacity=\"0.5\" stroke=\"#000000\" stroke-opacity=\"0.5\" stroke-width=\"4.8\"/>\n",
       "<circle clip-path=\"url(#clip742)\" cx=\"385.066\" cy=\"80.4791\" r=\"18\" fill=\"#808080\" fill-rule=\"evenodd\" fill-opacity=\"0.5\" stroke=\"#000000\" stroke-opacity=\"0.5\" stroke-width=\"4.8\"/>\n",
       "<circle clip-path=\"url(#clip742)\" cx=\"406.689\" cy=\"318.012\" r=\"18\" fill=\"#808080\" fill-rule=\"evenodd\" fill-opacity=\"0.5\" stroke=\"#000000\" stroke-opacity=\"0.5\" stroke-width=\"4.8\"/>\n",
       "<circle clip-path=\"url(#clip742)\" cx=\"428.312\" cy=\"702.87\" r=\"18\" fill=\"#808080\" fill-rule=\"evenodd\" fill-opacity=\"0.5\" stroke=\"#000000\" stroke-opacity=\"0.5\" stroke-width=\"4.8\"/>\n",
       "<circle clip-path=\"url(#clip742)\" cx=\"449.935\" cy=\"62.1798\" r=\"18\" fill=\"#808080\" fill-rule=\"evenodd\" fill-opacity=\"0.5\" stroke=\"#000000\" stroke-opacity=\"0.5\" stroke-width=\"4.8\"/>\n",
       "<circle clip-path=\"url(#clip742)\" cx=\"471.558\" cy=\"304.37\" r=\"18\" fill=\"#808080\" fill-rule=\"evenodd\" fill-opacity=\"0.5\" stroke=\"#000000\" stroke-opacity=\"0.5\" stroke-width=\"4.8\"/>\n",
       "<circle clip-path=\"url(#clip742)\" cx=\"493.181\" cy=\"523.717\" r=\"18\" fill=\"#808080\" fill-rule=\"evenodd\" fill-opacity=\"0.5\" stroke=\"#000000\" stroke-opacity=\"0.5\" stroke-width=\"4.8\"/>\n",
       "<circle clip-path=\"url(#clip742)\" cx=\"514.804\" cy=\"344.195\" r=\"18\" fill=\"#808080\" fill-rule=\"evenodd\" fill-opacity=\"0.5\" stroke=\"#000000\" stroke-opacity=\"0.5\" stroke-width=\"4.8\"/>\n",
       "<circle clip-path=\"url(#clip742)\" cx=\"536.427\" cy=\"566.304\" r=\"18\" fill=\"#808080\" fill-rule=\"evenodd\" fill-opacity=\"0.5\" stroke=\"#000000\" stroke-opacity=\"0.5\" stroke-width=\"4.8\"/>\n",
       "<circle clip-path=\"url(#clip742)\" cx=\"558.05\" cy=\"512.044\" r=\"18\" fill=\"#808080\" fill-rule=\"evenodd\" fill-opacity=\"0.5\" stroke=\"#000000\" stroke-opacity=\"0.5\" stroke-width=\"4.8\"/>\n",
       "<circle clip-path=\"url(#clip742)\" cx=\"579.673\" cy=\"303.857\" r=\"18\" fill=\"#808080\" fill-rule=\"evenodd\" fill-opacity=\"0.5\" stroke=\"#000000\" stroke-opacity=\"0.5\" stroke-width=\"4.8\"/>\n",
       "<circle clip-path=\"url(#clip742)\" cx=\"601.296\" cy=\"523.101\" r=\"18\" fill=\"#808080\" fill-rule=\"evenodd\" fill-opacity=\"0.5\" stroke=\"#000000\" stroke-opacity=\"0.5\" stroke-width=\"4.8\"/>\n",
       "<circle clip-path=\"url(#clip742)\" cx=\"622.919\" cy=\"552.007\" r=\"18\" fill=\"#808080\" fill-rule=\"evenodd\" fill-opacity=\"0.5\" stroke=\"#000000\" stroke-opacity=\"0.5\" stroke-width=\"4.8\"/>\n",
       "<circle clip-path=\"url(#clip742)\" cx=\"644.542\" cy=\"376.939\" r=\"18\" fill=\"#808080\" fill-rule=\"evenodd\" fill-opacity=\"0.5\" stroke=\"#000000\" stroke-opacity=\"0.5\" stroke-width=\"4.8\"/>\n",
       "<circle clip-path=\"url(#clip742)\" cx=\"666.165\" cy=\"292.754\" r=\"18\" fill=\"#808080\" fill-rule=\"evenodd\" fill-opacity=\"0.5\" stroke=\"#000000\" stroke-opacity=\"0.5\" stroke-width=\"4.8\"/>\n",
       "<circle clip-path=\"url(#clip742)\" cx=\"687.788\" cy=\"287.966\" r=\"18\" fill=\"#808080\" fill-rule=\"evenodd\" fill-opacity=\"0.5\" stroke=\"#000000\" stroke-opacity=\"0.5\" stroke-width=\"4.8\"/>\n",
       "<circle clip-path=\"url(#clip742)\" cx=\"709.411\" cy=\"464.108\" r=\"18\" fill=\"#808080\" fill-rule=\"evenodd\" fill-opacity=\"0.5\" stroke=\"#000000\" stroke-opacity=\"0.5\" stroke-width=\"4.8\"/>\n",
       "<circle clip-path=\"url(#clip742)\" cx=\"731.033\" cy=\"216.39\" r=\"18\" fill=\"#808080\" fill-rule=\"evenodd\" fill-opacity=\"0.5\" stroke=\"#000000\" stroke-opacity=\"0.5\" stroke-width=\"4.8\"/>\n",
       "<circle clip-path=\"url(#clip742)\" cx=\"752.656\" cy=\"687.24\" r=\"18\" fill=\"#808080\" fill-rule=\"evenodd\" fill-opacity=\"0.5\" stroke=\"#000000\" stroke-opacity=\"0.5\" stroke-width=\"4.8\"/>\n",
       "<circle clip-path=\"url(#clip742)\" cx=\"774.279\" cy=\"557.805\" r=\"18\" fill=\"#808080\" fill-rule=\"evenodd\" fill-opacity=\"0.5\" stroke=\"#000000\" stroke-opacity=\"0.5\" stroke-width=\"4.8\"/>\n",
       "<circle clip-path=\"url(#clip742)\" cx=\"795.902\" cy=\"507.404\" r=\"18\" fill=\"#808080\" fill-rule=\"evenodd\" fill-opacity=\"0.5\" stroke=\"#000000\" stroke-opacity=\"0.5\" stroke-width=\"4.8\"/>\n",
       "<circle clip-path=\"url(#clip742)\" cx=\"817.525\" cy=\"346.022\" r=\"18\" fill=\"#808080\" fill-rule=\"evenodd\" fill-opacity=\"0.5\" stroke=\"#000000\" stroke-opacity=\"0.5\" stroke-width=\"4.8\"/>\n",
       "<circle clip-path=\"url(#clip742)\" cx=\"839.148\" cy=\"171.547\" r=\"18\" fill=\"#808080\" fill-rule=\"evenodd\" fill-opacity=\"0.5\" stroke=\"#000000\" stroke-opacity=\"0.5\" stroke-width=\"4.8\"/>\n",
       "<circle clip-path=\"url(#clip742)\" cx=\"860.771\" cy=\"527.136\" r=\"18\" fill=\"#808080\" fill-rule=\"evenodd\" fill-opacity=\"0.5\" stroke=\"#000000\" stroke-opacity=\"0.5\" stroke-width=\"4.8\"/>\n",
       "<circle clip-path=\"url(#clip742)\" cx=\"882.394\" cy=\"423.26\" r=\"18\" fill=\"#808080\" fill-rule=\"evenodd\" fill-opacity=\"0.5\" stroke=\"#000000\" stroke-opacity=\"0.5\" stroke-width=\"4.8\"/>\n",
       "<circle clip-path=\"url(#clip742)\" cx=\"904.017\" cy=\"402.258\" r=\"18\" fill=\"#808080\" fill-rule=\"evenodd\" fill-opacity=\"0.5\" stroke=\"#000000\" stroke-opacity=\"0.5\" stroke-width=\"4.8\"/>\n",
       "<circle clip-path=\"url(#clip742)\" cx=\"925.64\" cy=\"409.723\" r=\"18\" fill=\"#808080\" fill-rule=\"evenodd\" fill-opacity=\"0.5\" stroke=\"#000000\" stroke-opacity=\"0.5\" stroke-width=\"4.8\"/>\n",
       "<circle clip-path=\"url(#clip742)\" cx=\"947.263\" cy=\"577.547\" r=\"18\" fill=\"#808080\" fill-rule=\"evenodd\" fill-opacity=\"0.5\" stroke=\"#000000\" stroke-opacity=\"0.5\" stroke-width=\"4.8\"/>\n",
       "<circle clip-path=\"url(#clip742)\" cx=\"968.886\" cy=\"303.362\" r=\"18\" fill=\"#808080\" fill-rule=\"evenodd\" fill-opacity=\"0.5\" stroke=\"#000000\" stroke-opacity=\"0.5\" stroke-width=\"4.8\"/>\n",
       "<circle clip-path=\"url(#clip742)\" cx=\"990.509\" cy=\"420.572\" r=\"18\" fill=\"#808080\" fill-rule=\"evenodd\" fill-opacity=\"0.5\" stroke=\"#000000\" stroke-opacity=\"0.5\" stroke-width=\"4.8\"/>\n",
       "<circle clip-path=\"url(#clip742)\" cx=\"1012.13\" cy=\"300.502\" r=\"18\" fill=\"#808080\" fill-rule=\"evenodd\" fill-opacity=\"0.5\" stroke=\"#000000\" stroke-opacity=\"0.5\" stroke-width=\"4.8\"/>\n",
       "<circle clip-path=\"url(#clip742)\" cx=\"1033.76\" cy=\"224.848\" r=\"18\" fill=\"#808080\" fill-rule=\"evenodd\" fill-opacity=\"0.5\" stroke=\"#000000\" stroke-opacity=\"0.5\" stroke-width=\"4.8\"/>\n",
       "<circle clip-path=\"url(#clip742)\" cx=\"1055.38\" cy=\"624.132\" r=\"18\" fill=\"#808080\" fill-rule=\"evenodd\" fill-opacity=\"0.5\" stroke=\"#000000\" stroke-opacity=\"0.5\" stroke-width=\"4.8\"/>\n",
       "<circle clip-path=\"url(#clip742)\" cx=\"1077\" cy=\"167.097\" r=\"18\" fill=\"#808080\" fill-rule=\"evenodd\" fill-opacity=\"0.5\" stroke=\"#000000\" stroke-opacity=\"0.5\" stroke-width=\"4.8\"/>\n",
       "<circle clip-path=\"url(#clip742)\" cx=\"1098.62\" cy=\"458.83\" r=\"18\" fill=\"#808080\" fill-rule=\"evenodd\" fill-opacity=\"0.5\" stroke=\"#000000\" stroke-opacity=\"0.5\" stroke-width=\"4.8\"/>\n",
       "<circle clip-path=\"url(#clip742)\" cx=\"1120.25\" cy=\"493.852\" r=\"18\" fill=\"#808080\" fill-rule=\"evenodd\" fill-opacity=\"0.5\" stroke=\"#000000\" stroke-opacity=\"0.5\" stroke-width=\"4.8\"/>\n",
       "<circle clip-path=\"url(#clip742)\" cx=\"1141.87\" cy=\"294.479\" r=\"18\" fill=\"#808080\" fill-rule=\"evenodd\" fill-opacity=\"0.5\" stroke=\"#000000\" stroke-opacity=\"0.5\" stroke-width=\"4.8\"/>\n",
       "<circle clip-path=\"url(#clip742)\" cx=\"1163.49\" cy=\"744.509\" r=\"18\" fill=\"#808080\" fill-rule=\"evenodd\" fill-opacity=\"0.5\" stroke=\"#000000\" stroke-opacity=\"0.5\" stroke-width=\"4.8\"/>\n",
       "<circle clip-path=\"url(#clip742)\" cx=\"1185.12\" cy=\"326.085\" r=\"18\" fill=\"#808080\" fill-rule=\"evenodd\" fill-opacity=\"0.5\" stroke=\"#000000\" stroke-opacity=\"0.5\" stroke-width=\"4.8\"/>\n",
       "<circle clip-path=\"url(#clip742)\" cx=\"1206.74\" cy=\"435.214\" r=\"18\" fill=\"#808080\" fill-rule=\"evenodd\" fill-opacity=\"0.5\" stroke=\"#000000\" stroke-opacity=\"0.5\" stroke-width=\"4.8\"/>\n",
       "<circle clip-path=\"url(#clip742)\" cx=\"1228.36\" cy=\"275.892\" r=\"18\" fill=\"#808080\" fill-rule=\"evenodd\" fill-opacity=\"0.5\" stroke=\"#000000\" stroke-opacity=\"0.5\" stroke-width=\"4.8\"/>\n",
       "<circle clip-path=\"url(#clip742)\" cx=\"1249.98\" cy=\"397.276\" r=\"18\" fill=\"#808080\" fill-rule=\"evenodd\" fill-opacity=\"0.5\" stroke=\"#000000\" stroke-opacity=\"0.5\" stroke-width=\"4.8\"/>\n",
       "<circle clip-path=\"url(#clip742)\" cx=\"1271.61\" cy=\"468.548\" r=\"18\" fill=\"#808080\" fill-rule=\"evenodd\" fill-opacity=\"0.5\" stroke=\"#000000\" stroke-opacity=\"0.5\" stroke-width=\"4.8\"/>\n",
       "<circle clip-path=\"url(#clip742)\" cx=\"1293.23\" cy=\"577.174\" r=\"18\" fill=\"#808080\" fill-rule=\"evenodd\" fill-opacity=\"0.5\" stroke=\"#000000\" stroke-opacity=\"0.5\" stroke-width=\"4.8\"/>\n",
       "<circle clip-path=\"url(#clip742)\" cx=\"1314.85\" cy=\"419.653\" r=\"18\" fill=\"#808080\" fill-rule=\"evenodd\" fill-opacity=\"0.5\" stroke=\"#000000\" stroke-opacity=\"0.5\" stroke-width=\"4.8\"/>\n",
       "<circle clip-path=\"url(#clip742)\" cx=\"1336.48\" cy=\"827.879\" r=\"18\" fill=\"#808080\" fill-rule=\"evenodd\" fill-opacity=\"0.5\" stroke=\"#000000\" stroke-opacity=\"0.5\" stroke-width=\"4.8\"/>\n",
       "<circle clip-path=\"url(#clip742)\" cx=\"1358.1\" cy=\"479.894\" r=\"18\" fill=\"#808080\" fill-rule=\"evenodd\" fill-opacity=\"0.5\" stroke=\"#000000\" stroke-opacity=\"0.5\" stroke-width=\"4.8\"/>\n",
       "<circle clip-path=\"url(#clip742)\" cx=\"1379.72\" cy=\"184.02\" r=\"18\" fill=\"#808080\" fill-rule=\"evenodd\" fill-opacity=\"0.5\" stroke=\"#000000\" stroke-opacity=\"0.5\" stroke-width=\"4.8\"/>\n",
       "<circle clip-path=\"url(#clip742)\" cx=\"1401.35\" cy=\"518.958\" r=\"18\" fill=\"#808080\" fill-rule=\"evenodd\" fill-opacity=\"0.5\" stroke=\"#000000\" stroke-opacity=\"0.5\" stroke-width=\"4.8\"/>\n",
       "<circle clip-path=\"url(#clip742)\" cx=\"1422.97\" cy=\"359.43\" r=\"18\" fill=\"#808080\" fill-rule=\"evenodd\" fill-opacity=\"0.5\" stroke=\"#000000\" stroke-opacity=\"0.5\" stroke-width=\"4.8\"/>\n",
       "<circle clip-path=\"url(#clip742)\" cx=\"1444.59\" cy=\"354.468\" r=\"18\" fill=\"#808080\" fill-rule=\"evenodd\" fill-opacity=\"0.5\" stroke=\"#000000\" stroke-opacity=\"0.5\" stroke-width=\"4.8\"/>\n",
       "<circle clip-path=\"url(#clip742)\" cx=\"1466.21\" cy=\"137.048\" r=\"18\" fill=\"#808080\" fill-rule=\"evenodd\" fill-opacity=\"0.5\" stroke=\"#000000\" stroke-opacity=\"0.5\" stroke-width=\"4.8\"/>\n",
       "<circle clip-path=\"url(#clip742)\" cx=\"1487.84\" cy=\"397.772\" r=\"18\" fill=\"#808080\" fill-rule=\"evenodd\" fill-opacity=\"0.5\" stroke=\"#000000\" stroke-opacity=\"0.5\" stroke-width=\"4.8\"/>\n",
       "<circle clip-path=\"url(#clip742)\" cx=\"1509.46\" cy=\"456.276\" r=\"18\" fill=\"#808080\" fill-rule=\"evenodd\" fill-opacity=\"0.5\" stroke=\"#000000\" stroke-opacity=\"0.5\" stroke-width=\"4.8\"/>\n",
       "<circle clip-path=\"url(#clip742)\" cx=\"1531.08\" cy=\"288.755\" r=\"18\" fill=\"#808080\" fill-rule=\"evenodd\" fill-opacity=\"0.5\" stroke=\"#000000\" stroke-opacity=\"0.5\" stroke-width=\"4.8\"/>\n",
       "<circle clip-path=\"url(#clip742)\" cx=\"1552.71\" cy=\"365.922\" r=\"18\" fill=\"#808080\" fill-rule=\"evenodd\" fill-opacity=\"0.5\" stroke=\"#000000\" stroke-opacity=\"0.5\" stroke-width=\"4.8\"/>\n",
       "<circle clip-path=\"url(#clip742)\" cx=\"1574.33\" cy=\"487.292\" r=\"18\" fill=\"#808080\" fill-rule=\"evenodd\" fill-opacity=\"0.5\" stroke=\"#000000\" stroke-opacity=\"0.5\" stroke-width=\"4.8\"/>\n",
       "<circle clip-path=\"url(#clip742)\" cx=\"1595.95\" cy=\"370.247\" r=\"18\" fill=\"#808080\" fill-rule=\"evenodd\" fill-opacity=\"0.5\" stroke=\"#000000\" stroke-opacity=\"0.5\" stroke-width=\"4.8\"/>\n",
       "<circle clip-path=\"url(#clip742)\" cx=\"1617.58\" cy=\"306.402\" r=\"18\" fill=\"#808080\" fill-rule=\"evenodd\" fill-opacity=\"0.5\" stroke=\"#000000\" stroke-opacity=\"0.5\" stroke-width=\"4.8\"/>\n",
       "<circle clip-path=\"url(#clip742)\" cx=\"1639.2\" cy=\"318.089\" r=\"18\" fill=\"#808080\" fill-rule=\"evenodd\" fill-opacity=\"0.5\" stroke=\"#000000\" stroke-opacity=\"0.5\" stroke-width=\"4.8\"/>\n",
       "<circle clip-path=\"url(#clip742)\" cx=\"1660.82\" cy=\"509.509\" r=\"18\" fill=\"#808080\" fill-rule=\"evenodd\" fill-opacity=\"0.5\" stroke=\"#000000\" stroke-opacity=\"0.5\" stroke-width=\"4.8\"/>\n",
       "<circle clip-path=\"url(#clip742)\" cx=\"1682.44\" cy=\"373.491\" r=\"18\" fill=\"#808080\" fill-rule=\"evenodd\" fill-opacity=\"0.5\" stroke=\"#000000\" stroke-opacity=\"0.5\" stroke-width=\"4.8\"/>\n",
       "<circle clip-path=\"url(#clip742)\" cx=\"1704.07\" cy=\"259.739\" r=\"18\" fill=\"#808080\" fill-rule=\"evenodd\" fill-opacity=\"0.5\" stroke=\"#000000\" stroke-opacity=\"0.5\" stroke-width=\"4.8\"/>\n",
       "<circle clip-path=\"url(#clip742)\" cx=\"1725.69\" cy=\"747.802\" r=\"18\" fill=\"#808080\" fill-rule=\"evenodd\" fill-opacity=\"0.5\" stroke=\"#000000\" stroke-opacity=\"0.5\" stroke-width=\"4.8\"/>\n",
       "<circle clip-path=\"url(#clip742)\" cx=\"1747.31\" cy=\"381.927\" r=\"18\" fill=\"#808080\" fill-rule=\"evenodd\" fill-opacity=\"0.5\" stroke=\"#000000\" stroke-opacity=\"0.5\" stroke-width=\"4.8\"/>\n",
       "<circle clip-path=\"url(#clip742)\" cx=\"1768.94\" cy=\"538.826\" r=\"18\" fill=\"#808080\" fill-rule=\"evenodd\" fill-opacity=\"0.5\" stroke=\"#000000\" stroke-opacity=\"0.5\" stroke-width=\"4.8\"/>\n",
       "<circle clip-path=\"url(#clip742)\" cx=\"1790.56\" cy=\"351.793\" r=\"18\" fill=\"#808080\" fill-rule=\"evenodd\" fill-opacity=\"0.5\" stroke=\"#000000\" stroke-opacity=\"0.5\" stroke-width=\"4.8\"/>\n",
       "<circle clip-path=\"url(#clip742)\" cx=\"1812.18\" cy=\"656.023\" r=\"18\" fill=\"#808080\" fill-rule=\"evenodd\" fill-opacity=\"0.5\" stroke=\"#000000\" stroke-opacity=\"0.5\" stroke-width=\"4.8\"/>\n",
       "<circle clip-path=\"url(#clip742)\" cx=\"1833.8\" cy=\"349.961\" r=\"18\" fill=\"#808080\" fill-rule=\"evenodd\" fill-opacity=\"0.5\" stroke=\"#000000\" stroke-opacity=\"0.5\" stroke-width=\"4.8\"/>\n",
       "<circle clip-path=\"url(#clip742)\" cx=\"1855.43\" cy=\"280.968\" r=\"18\" fill=\"#808080\" fill-rule=\"evenodd\" fill-opacity=\"0.5\" stroke=\"#000000\" stroke-opacity=\"0.5\" stroke-width=\"4.8\"/>\n",
       "<circle clip-path=\"url(#clip742)\" cx=\"1877.05\" cy=\"215.664\" r=\"18\" fill=\"#808080\" fill-rule=\"evenodd\" fill-opacity=\"0.5\" stroke=\"#000000\" stroke-opacity=\"0.5\" stroke-width=\"4.8\"/>\n",
       "<circle clip-path=\"url(#clip742)\" cx=\"1898.67\" cy=\"135.736\" r=\"18\" fill=\"#808080\" fill-rule=\"evenodd\" fill-opacity=\"0.5\" stroke=\"#000000\" stroke-opacity=\"0.5\" stroke-width=\"4.8\"/>\n",
       "<circle clip-path=\"url(#clip742)\" cx=\"1920.3\" cy=\"582.253\" r=\"18\" fill=\"#808080\" fill-rule=\"evenodd\" fill-opacity=\"0.5\" stroke=\"#000000\" stroke-opacity=\"0.5\" stroke-width=\"4.8\"/>\n",
       "<circle clip-path=\"url(#clip742)\" cx=\"1941.92\" cy=\"498.552\" r=\"18\" fill=\"#808080\" fill-rule=\"evenodd\" fill-opacity=\"0.5\" stroke=\"#000000\" stroke-opacity=\"0.5\" stroke-width=\"4.8\"/>\n",
       "<circle clip-path=\"url(#clip742)\" cx=\"1963.54\" cy=\"380.677\" r=\"18\" fill=\"#808080\" fill-rule=\"evenodd\" fill-opacity=\"0.5\" stroke=\"#000000\" stroke-opacity=\"0.5\" stroke-width=\"4.8\"/>\n",
       "<circle clip-path=\"url(#clip742)\" cx=\"1985.17\" cy=\"374.385\" r=\"18\" fill=\"#808080\" fill-rule=\"evenodd\" fill-opacity=\"0.5\" stroke=\"#000000\" stroke-opacity=\"0.5\" stroke-width=\"4.8\"/>\n",
       "<circle clip-path=\"url(#clip742)\" cx=\"2006.79\" cy=\"419.61\" r=\"18\" fill=\"#808080\" fill-rule=\"evenodd\" fill-opacity=\"0.5\" stroke=\"#000000\" stroke-opacity=\"0.5\" stroke-width=\"4.8\"/>\n",
       "<circle clip-path=\"url(#clip742)\" cx=\"2028.41\" cy=\"220.384\" r=\"18\" fill=\"#808080\" fill-rule=\"evenodd\" fill-opacity=\"0.5\" stroke=\"#000000\" stroke-opacity=\"0.5\" stroke-width=\"4.8\"/>\n",
       "<circle clip-path=\"url(#clip742)\" cx=\"2050.03\" cy=\"259.76\" r=\"18\" fill=\"#808080\" fill-rule=\"evenodd\" fill-opacity=\"0.5\" stroke=\"#000000\" stroke-opacity=\"0.5\" stroke-width=\"4.8\"/>\n",
       "<circle clip-path=\"url(#clip742)\" cx=\"2071.66\" cy=\"385.442\" r=\"18\" fill=\"#808080\" fill-rule=\"evenodd\" fill-opacity=\"0.5\" stroke=\"#000000\" stroke-opacity=\"0.5\" stroke-width=\"4.8\"/>\n",
       "<circle clip-path=\"url(#clip742)\" cx=\"2093.28\" cy=\"392.769\" r=\"18\" fill=\"#808080\" fill-rule=\"evenodd\" fill-opacity=\"0.5\" stroke=\"#000000\" stroke-opacity=\"0.5\" stroke-width=\"4.8\"/>\n",
       "<circle clip-path=\"url(#clip742)\" cx=\"2114.9\" cy=\"506.527\" r=\"18\" fill=\"#808080\" fill-rule=\"evenodd\" fill-opacity=\"0.5\" stroke=\"#000000\" stroke-opacity=\"0.5\" stroke-width=\"4.8\"/>\n",
       "<circle clip-path=\"url(#clip742)\" cx=\"2136.53\" cy=\"843.671\" r=\"18\" fill=\"#808080\" fill-rule=\"evenodd\" fill-opacity=\"0.5\" stroke=\"#000000\" stroke-opacity=\"0.5\" stroke-width=\"4.8\"/>\n",
       "<circle clip-path=\"url(#clip742)\" cx=\"2158.15\" cy=\"524.196\" r=\"18\" fill=\"#808080\" fill-rule=\"evenodd\" fill-opacity=\"0.5\" stroke=\"#000000\" stroke-opacity=\"0.5\" stroke-width=\"4.8\"/>\n",
       "<circle clip-path=\"url(#clip742)\" cx=\"2179.77\" cy=\"792.906\" r=\"18\" fill=\"#808080\" fill-rule=\"evenodd\" fill-opacity=\"0.5\" stroke=\"#000000\" stroke-opacity=\"0.5\" stroke-width=\"4.8\"/>\n",
       "<circle clip-path=\"url(#clip742)\" cx=\"2201.4\" cy=\"316.535\" r=\"18\" fill=\"#808080\" fill-rule=\"evenodd\" fill-opacity=\"0.5\" stroke=\"#000000\" stroke-opacity=\"0.5\" stroke-width=\"4.8\"/>\n",
       "<circle clip-path=\"url(#clip742)\" cx=\"2223.02\" cy=\"460.153\" r=\"18\" fill=\"#808080\" fill-rule=\"evenodd\" fill-opacity=\"0.5\" stroke=\"#000000\" stroke-opacity=\"0.5\" stroke-width=\"4.8\"/>\n",
       "<circle clip-path=\"url(#clip742)\" cx=\"2244.64\" cy=\"598.288\" r=\"18\" fill=\"#808080\" fill-rule=\"evenodd\" fill-opacity=\"0.5\" stroke=\"#000000\" stroke-opacity=\"0.5\" stroke-width=\"4.8\"/>\n",
       "<circle clip-path=\"url(#clip742)\" cx=\"2266.26\" cy=\"280.618\" r=\"18\" fill=\"#808080\" fill-rule=\"evenodd\" fill-opacity=\"0.5\" stroke=\"#000000\" stroke-opacity=\"0.5\" stroke-width=\"4.8\"/>\n",
       "<circle clip-path=\"url(#clip742)\" cx=\"2287.89\" cy=\"704.435\" r=\"18\" fill=\"#808080\" fill-rule=\"evenodd\" fill-opacity=\"0.5\" stroke=\"#000000\" stroke-opacity=\"0.5\" stroke-width=\"4.8\"/>\n",
       "<circle clip-path=\"url(#clip742)\" cx=\"2309.51\" cy=\"422.127\" r=\"18\" fill=\"#808080\" fill-rule=\"evenodd\" fill-opacity=\"0.5\" stroke=\"#000000\" stroke-opacity=\"0.5\" stroke-width=\"4.8\"/>\n",
       "<circle clip-path=\"url(#clip742)\" cx=\"2331.13\" cy=\"355.669\" r=\"18\" fill=\"#808080\" fill-rule=\"evenodd\" fill-opacity=\"0.5\" stroke=\"#000000\" stroke-opacity=\"0.5\" stroke-width=\"4.8\"/>\n",
       "<polyline clip-path=\"url(#clip742)\" style=\"stroke:#050505; stroke-width:4; stroke-opacity:1; fill:none\" stroke-dasharray=\"16, 10\" points=\"\n",
       "  1292.8,1661.83 1292.8,-760.051 \n",
       "  \"/>\n",
       "<path clip-path=\"url(#clip740)\" d=\"\n",
       "M283.438 827.629 L845.652 827.629 L845.652 525.229 L283.438 525.229  Z\n",
       "  \" fill=\"#ffffff\" fill-rule=\"evenodd\" fill-opacity=\"1\"/>\n",
       "<polyline clip-path=\"url(#clip740)\" style=\"stroke:#000000; stroke-width:4; stroke-opacity:1; fill:none\" points=\"\n",
       "  283.438,827.629 845.652,827.629 845.652,525.229 283.438,525.229 283.438,827.629 \n",
       "  \"/>\n",
       "<polyline clip-path=\"url(#clip740)\" style=\"stroke:#008080; stroke-width:5; stroke-opacity:1; fill:none\" points=\"\n",
       "  307.223,600.829 449.935,600.829 \n",
       "  \"/>\n",
       "<g clip-path=\"url(#clip740)\">\n",
       "<text style=\"fill:#000000; fill-opacity:1; font-family:Arial,Helvetica Neue,Helvetica,sans-serif; font-size:59px; text-anchor:start;\" transform=\"rotate(0, 473.72, 622.329)\" x=\"473.72\" y=\"622.329\">True</text>\n",
       "</g>\n",
       "<polyline clip-path=\"url(#clip740)\" style=\"stroke:#ee4000; stroke-width:5; stroke-opacity:1; fill:none\" stroke-dasharray=\"20, 13\" points=\"\n",
       "  307.223,676.429 449.935,676.429 \n",
       "  \"/>\n",
       "<g clip-path=\"url(#clip740)\">\n",
       "<text style=\"fill:#000000; fill-opacity:1; font-family:Arial,Helvetica Neue,Helvetica,sans-serif; font-size:59px; text-anchor:start;\" transform=\"rotate(0, 473.72, 697.929)\" x=\"473.72\" y=\"697.929\">sEnKF</text>\n",
       "</g>\n",
       "<circle clip-path=\"url(#clip740)\" cx=\"378.579\" cy=\"752.029\" r=\"28\" fill=\"#808080\" fill-rule=\"evenodd\" fill-opacity=\"0.5\" stroke=\"#000000\" stroke-opacity=\"0.5\" stroke-width=\"7.68\"/>\n",
       "<g clip-path=\"url(#clip740)\">\n",
       "<text style=\"fill:#000000; fill-opacity:1; font-family:Arial,Helvetica Neue,Helvetica,sans-serif; font-size:59px; text-anchor:start;\" transform=\"rotate(0, 473.72, 773.529)\" x=\"473.72\" y=\"773.529\">Observation</text>\n",
       "</g>\n",
       "<path clip-path=\"url(#clip740)\" d=\"\n",
       "M212.082 1921.21 L2352.76 1921.21 L2352.76 1113.91 L212.082 1113.91  Z\n",
       "  \" fill=\"#ffffff\" fill-rule=\"evenodd\" fill-opacity=\"1\"/>\n",
       "<defs>\n",
       "  <clipPath id=\"clip743\">\n",
       "    <rect x=\"212\" y=\"1113\" width=\"2142\" height=\"808\"/>\n",
       "  </clipPath>\n",
       "</defs>\n",
       "<polyline clip-path=\"url(#clip740)\" style=\"stroke:#000000; stroke-width:4; stroke-opacity:1; fill:none\" points=\"\n",
       "  212.082,1921.21 2352.76,1921.21 \n",
       "  \"/>\n",
       "<polyline clip-path=\"url(#clip740)\" style=\"stroke:#000000; stroke-width:4; stroke-opacity:1; fill:none\" points=\"\n",
       "  644.109,1921.21 644.109,1911.52 \n",
       "  \"/>\n",
       "<polyline clip-path=\"url(#clip740)\" style=\"stroke:#000000; stroke-width:4; stroke-opacity:1; fill:none\" points=\"\n",
       "  1076.57,1921.21 1076.57,1911.52 \n",
       "  \"/>\n",
       "<polyline clip-path=\"url(#clip740)\" style=\"stroke:#000000; stroke-width:4; stroke-opacity:1; fill:none\" points=\"\n",
       "  1509.03,1921.21 1509.03,1911.52 \n",
       "  \"/>\n",
       "<polyline clip-path=\"url(#clip740)\" style=\"stroke:#000000; stroke-width:4; stroke-opacity:1; fill:none\" points=\"\n",
       "  1941.49,1921.21 1941.49,1911.52 \n",
       "  \"/>\n",
       "<g clip-path=\"url(#clip740)\">\n",
       "<text style=\"fill:#000000; fill-opacity:1; font-family:Arial,Helvetica Neue,Helvetica,sans-serif; font-size:53px; text-anchor:middle;\" transform=\"rotate(0, 644.109, 1993.61)\" x=\"644.109\" y=\"1993.61\">200</text>\n",
       "</g>\n",
       "<g clip-path=\"url(#clip740)\">\n",
       "<text style=\"fill:#000000; fill-opacity:1; font-family:Arial,Helvetica Neue,Helvetica,sans-serif; font-size:53px; text-anchor:middle;\" transform=\"rotate(0, 1076.57, 1993.61)\" x=\"1076.57\" y=\"1993.61\">400</text>\n",
       "</g>\n",
       "<g clip-path=\"url(#clip740)\">\n",
       "<text style=\"fill:#000000; fill-opacity:1; font-family:Arial,Helvetica Neue,Helvetica,sans-serif; font-size:53px; text-anchor:middle;\" transform=\"rotate(0, 1509.03, 1993.61)\" x=\"1509.03\" y=\"1993.61\">600</text>\n",
       "</g>\n",
       "<g clip-path=\"url(#clip740)\">\n",
       "<text style=\"fill:#000000; fill-opacity:1; font-family:Arial,Helvetica Neue,Helvetica,sans-serif; font-size:53px; text-anchor:middle;\" transform=\"rotate(0, 1941.49, 1993.61)\" x=\"1941.49\" y=\"1993.61\">800</text>\n",
       "</g>\n",
       "<g clip-path=\"url(#clip740)\">\n",
       "<image width=\"23\" height=\"45\" xlink:href=\"data:image/png;base64,\n",
       "iVBORw0KGgoAAAANSUhEUgAAABcAAAAtCAYAAABFy/BrAAABxElEQVRYhbWX3a3CMAyFnTtB6AgZ\n",
       "oawQMUHECFkBRugIzJARgBHKBmUFr+D7QhBt82OHYskPRe6Rc/KFuEBEIE1EJO89aa3JOUe5OrEw\n",
       "EYExhgDgnZuJI+JMuCT+B8K43+/84m8t2cyWlCWb2XI+n1e/Oeey9SLxlN/W2vwLEltgYYfWOmtJ\n",
       "Ey3srr/tfJqmYuds4ev1yqZELN73vVhcvZZbDaXUqpCIVPElRKRUV9+mtZZgGIbNhWMqIoLH40GI\n",
       "mF3d4XCYPWutIYSQre+6Dvb7vWpC0Htf3Uw2LUtxRGSJV0/o7XZbUbLb7cqUxPgF32zOm/h+RdGW\n",
       "0+m0Evbec3Tr4uL/72VIKDHGsP1m0dLcdanz1GXM5bvaecpvNt+1ziXziej4S+cTkS2p+UTCd4yk\n",
       "+Nd8x/gF3yLOm7rmds7lexxHAgAKIVCSlpb5JKZzbjYsrQqstc3iy/pVgda6STyejb7v0+IpS0pf\n",
       "a0uvrbWz2iotxpgqFMfjEQBgPW7USLlcLsXOQwjJrpOeLy/kYRiy4tGO3CGrcv65QZ8Zx8DS1wXr\n",
       "EOVWZ4wpHrDkhhKRmqbp/ayUos/sug7GcYTn86lKF8g/DrGGHV47F+QAAAAASUVORK5CYII=\n",
       "\" transform=\"translate(1271, 2028)\"/>\n",
       "</g>\n",
       "<polyline clip-path=\"url(#clip740)\" style=\"stroke:#000000; stroke-width:4; stroke-opacity:1; fill:none\" points=\"\n",
       "  212.082,1921.21 212.082,1113.91 \n",
       "  \"/>\n",
       "<polyline clip-path=\"url(#clip740)\" style=\"stroke:#000000; stroke-width:4; stroke-opacity:1; fill:none\" points=\"\n",
       "  212.082,1874.73 237.77,1874.73 \n",
       "  \"/>\n",
       "<polyline clip-path=\"url(#clip740)\" style=\"stroke:#000000; stroke-width:4; stroke-opacity:1; fill:none\" points=\"\n",
       "  212.082,1695 237.77,1695 \n",
       "  \"/>\n",
       "<polyline clip-path=\"url(#clip740)\" style=\"stroke:#000000; stroke-width:4; stroke-opacity:1; fill:none\" points=\"\n",
       "  212.082,1515.27 237.77,1515.27 \n",
       "  \"/>\n",
       "<polyline clip-path=\"url(#clip740)\" style=\"stroke:#000000; stroke-width:4; stroke-opacity:1; fill:none\" points=\"\n",
       "  212.082,1335.55 237.77,1335.55 \n",
       "  \"/>\n",
       "<polyline clip-path=\"url(#clip740)\" style=\"stroke:#000000; stroke-width:4; stroke-opacity:1; fill:none\" points=\"\n",
       "  212.082,1155.82 237.77,1155.82 \n",
       "  \"/>\n",
       "<g clip-path=\"url(#clip740)\">\n",
       "<text style=\"fill:#000000; fill-opacity:1; font-family:Arial,Helvetica Neue,Helvetica,sans-serif; font-size:53px; text-anchor:end;\" transform=\"rotate(0, 164.082, 1894.23)\" x=\"164.082\" y=\"1894.23\">−20</text>\n",
       "</g>\n",
       "<g clip-path=\"url(#clip740)\">\n",
       "<text style=\"fill:#000000; fill-opacity:1; font-family:Arial,Helvetica Neue,Helvetica,sans-serif; font-size:53px; text-anchor:end;\" transform=\"rotate(0, 164.082, 1714.5)\" x=\"164.082\" y=\"1714.5\">−10</text>\n",
       "</g>\n",
       "<g clip-path=\"url(#clip740)\">\n",
       "<text style=\"fill:#000000; fill-opacity:1; font-family:Arial,Helvetica Neue,Helvetica,sans-serif; font-size:53px; text-anchor:end;\" transform=\"rotate(0, 164.082, 1534.77)\" x=\"164.082\" y=\"1534.77\">0</text>\n",
       "</g>\n",
       "<g clip-path=\"url(#clip740)\">\n",
       "<text style=\"fill:#000000; fill-opacity:1; font-family:Arial,Helvetica Neue,Helvetica,sans-serif; font-size:53px; text-anchor:end;\" transform=\"rotate(0, 164.082, 1355.05)\" x=\"164.082\" y=\"1355.05\">10</text>\n",
       "</g>\n",
       "<g clip-path=\"url(#clip740)\">\n",
       "<text style=\"fill:#000000; fill-opacity:1; font-family:Arial,Helvetica Neue,Helvetica,sans-serif; font-size:53px; text-anchor:end;\" transform=\"rotate(0, 164.082, 1175.32)\" x=\"164.082\" y=\"1175.32\">20</text>\n",
       "</g>\n",
       "<g clip-path=\"url(#clip740)\">\n",
       "<image width=\"42\" height=\"64\" xlink:href=\"data:image/png;base64,\n",
       "iVBORw0KGgoAAAANSUhEUgAAACoAAABACAYAAABsrOVnAAAD2UlEQVRoge1a23GrMBA98twCICWQ\n",
       "VKBQAiUQl0A6wC2QDkgLuAMlJZBUYFMCdgd7P2wRWeahl5N8ZGfOTOxY4rBanV1WMCKCjx0OB3p/\n",
       "f0fbtjgej+CcI8sy3N/fM9M5ttstRVGENE0Rx/H4OCJyRtM0BGAUVVWR6TxlWQ7jOOdUFAUJIWi3\n",
       "2w1zBCeog3NOfd8vkhZCUFVV03PZkhRCGJOUiKLI2LuTjrAlaktSRdu2xoT1sf9MAx4AXl5eRnde\n",
       "FEXIsgwA8Pn5ia7rRsenaSpJ2JvpHdZ1bb1Z2rYdjVmnlTMlyjm/GGg6brfbkT42z/PF8c5EbTw5\n",
       "5d0oioYLCyFm5/Em6kJSou/7i4urOvmriEpkWbYYQl5EbfXQ5MbLshyd04tolmXBiBJdbtAloisb\n",
       "Kev73ubni/bx8TEUIPv9fl5gfyJGpzyrrhg0j7Lzl4vGGKPzjRmXbzamzy8/SzNees55WGaa9X0P\n",
       "zjkYY/T6+nrtPdPlkVXTmOALIagsy0URX4Kus3DZ9URfuTtJkslYcs1cKtkkScKVeTKr6BOqNxHS\n",
       "s1bydA4VVpYlHh4ergIeOJV8vhbHMev7HkmSXFzYCaPLA1DTNN4eHfOssTzN2X6/p+PxiMfHx5tI\n",
       "19vbWxii32HWMfpT9kc0tP0RDW0D0cPhQJvNhhhjxBijzWbzq+RgkKexLAPcrqyztRUAzHlvqjsy\n",
       "Z09PT+Olmo/J8m2uQ2eb+tSnTABUFIV3WkVRFAMZ/QLwqIaqqroo13xrgKG4kF/o7ReT3uYS1NVy\n",
       "nQ9jy9s0DeV57l0Eq5ArlyTJbIdkkqj0YChCBp5xut4qTdOgm3PJ6roG4KAmMi5DPEKYQhbEU+2c\n",
       "0ZUgOvUwcYOWTcgQGP7I85xwboT5PvaaQEqhNVGiy/Mem4MBF8ijGieiMgx04U+ShJqmCaKpElJb\n",
       "TX9/VeZ1XXfVteu6Duv1Gnd3d3h+fqbtduudx9u2tRsgGes9dhtEUUR1XVsJOVw3kwvBMeR5TnVd\n",
       "zxJQjxKtiKqb6Dthoy5X3tQ3jTxMdQ2LKZgejA1EpX7aaqdsNX4HSaJARYkQ4up0bgo2aVPbfG7V\n",
       "zBJkqagTdZ0PMvZCE1UJqwkkyzKnxHHxKHJrqG1EW7Irec6+eM4TwOI4ZlVVAQDW67XdYKIvAXZ5\n",
       "RHCOOdgdWV4MdJENH6JwSaFSE13lwxZeZZ7UQpM3FHxhW+ZdfaFqXwjvQtNR2YiQ76g4E1WXBTgd\n",
       "cPkUzDpR4PT0YCuLs//U38xxebFgjKiKIESld9UeUkiiNirjFX8mGMv3LlJ4c6JTZG3j/j8yvmRB\n",
       "ZnRu5wAAAABJRU5ErkJggg==\n",
       "\" transform=\"translate(-17, 1486)\"/>\n",
       "</g>\n",
       "<polyline clip-path=\"url(#clip743)\" style=\"stroke:#008080; stroke-width:12; stroke-opacity:1; fill:none\" points=\"\n",
       "  212.082,1471.01 233.705,1588.58 255.328,1433.95 276.951,1314.96 298.574,1573.58 320.197,1576.27 341.82,1528.86 363.443,1700.1 385.066,1215.47 406.689,1526.86 \n",
       "  428.312,1868.31 449.935,1341.23 471.558,1534.9 493.181,1563.19 514.804,1443.58 536.427,1597.32 558.05,1513.53 579.673,1432.32 601.296,1604.39 622.919,1703.85 \n",
       "  644.542,1383.27 666.165,1379 687.788,1372.7 709.411,1447.82 731.033,1314.73 752.656,1701.8 774.279,1585.13 795.902,1443.31 817.525,1405.97 839.148,1222.96 \n",
       "  860.771,1578.47 882.394,1506.73 904.017,1447.64 925.64,1440.09 947.263,1675.12 968.886,1372.24 990.509,1433.38 1012.13,1410.48 1033.76,1406.05 1055.38,1769.84 \n",
       "  1077,1257.35 1098.62,1534.34 1120.25,1477.37 1141.87,1406.07 1163.49,1884.75 1185.12,1492.73 1206.74,1622.73 1228.36,1350.79 1249.98,1529.26 1271.61,1526.16 \n",
       "  1293.23,1562.93 1314.85,1384.74 1336.48,1899.91 1358.1,1576.41 1379.72,1350.93 1401.35,1536.28 1422.97,1496.76 1444.59,1445.41 1466.21,1269.5 1487.84,1511.74 \n",
       "  1509.46,1689.57 1531.08,1389.65 1552.71,1538.16 1574.33,1556.74 1595.95,1408.63 1617.58,1422.75 1639.2,1382.64 1660.82,1591.4 1682.44,1475.11 1704.07,1338.83 \n",
       "  1725.69,1899.48 1747.31,1481.79 1768.94,1598.32 1790.56,1384.9 1812.18,1522.81 1833.8,1531.39 1855.43,1513.69 1877.05,1250.19 1898.67,1390.5 1920.3,1536.48 \n",
       "  1941.92,1599.46 1963.54,1579.94 1985.17,1464.97 2006.79,1580.98 2028.41,1205.42 2050.03,1260.82 2071.66,1497.28 2093.28,1561.27 2114.9,1595.33 2136.53,1891.08 \n",
       "  2158.15,1594.93 2179.77,1775.85 2201.4,1382.53 2223.02,1527.63 2244.64,1602.13 2266.26,1221.02 2287.89,1788.21 2309.51,1478.98 2331.13,1358.41 2352.76,1185.62 \n",
       "  \n",
       "  \"/>\n",
       "<polyline clip-path=\"url(#clip743)\" style=\"stroke:#ee4000; stroke-width:12; stroke-opacity:1; fill:none\" stroke-dasharray=\"48, 30\" points=\"\n",
       "  212.082,1466.49 233.705,1589.23 255.328,1470.86 276.951,1283.67 298.574,1598.84 320.197,1537.75 341.82,1530.11 363.443,1719.87 385.066,1216.56 406.689,1523.85 \n",
       "  428.312,1854.21 449.935,1355.3 471.558,1546.56 493.181,1576.16 514.804,1405.12 536.427,1616.46 558.05,1516.28 579.673,1422.78 601.296,1567.92 622.919,1697.53 \n",
       "  644.542,1365.27 666.165,1405.62 687.788,1311.74 709.411,1439.91 731.033,1328.1 752.656,1706.83 774.279,1590.2 795.902,1511.17 817.525,1468.34 839.148,1227.71 \n",
       "  860.771,1580.97 882.394,1499.17 904.017,1456.49 925.64,1432.64 947.263,1699.85 968.886,1389.15 990.509,1451.44 1012.13,1412.6 1033.76,1329.25 1055.38,1781.18 \n",
       "  1077,1254.53 1098.62,1519.47 1120.25,1472.05 1141.87,1396.61 1163.49,1921.21 1185.12,1484.3 1206.74,1630.46 1228.36,1367.68 1249.98,1526.87 1271.61,1498.83 \n",
       "  1293.23,1574.41 1314.85,1388.37 1336.48,1899.76 1358.1,1602.36 1379.72,1332.2 1401.35,1526.97 1422.97,1508.29 1444.59,1446.79 1466.21,1269.76 1487.84,1511.03 \n",
       "  1509.46,1714.63 1531.08,1395.02 1552.71,1529.87 1574.33,1556.43 1595.95,1420.16 1617.58,1425.22 1639.2,1335.1 1660.82,1578.26 1682.44,1466.6 1704.07,1342.58 \n",
       "  1725.69,1888.36 1747.31,1481.64 1768.94,1586.37 1790.56,1392.08 1812.18,1529.15 1833.8,1525.65 1855.43,1507.15 1877.05,1242.22 1898.67,1322.59 1920.3,1538.8 \n",
       "  1941.92,1599.55 1963.54,1579.89 1985.17,1467.42 2006.79,1601.71 2028.41,1231.69 2050.03,1247.45 2071.66,1494.42 2093.28,1570.32 2114.9,1607.8 2136.53,1912.93 \n",
       "  2158.15,1615.12 2179.77,1757.99 2201.4,1391.51 2223.02,1527.35 2244.64,1650.03 2266.26,1239.64 2287.89,1787.9 2309.51,1473.01 2331.13,1384.36 2352.76,1190.94 \n",
       "  \n",
       "  \"/>\n",
       "<circle clip-path=\"url(#clip743)\" cx=\"212.082\" cy=\"1473.51\" r=\"18\" fill=\"#808080\" fill-rule=\"evenodd\" fill-opacity=\"0.5\" stroke=\"#000000\" stroke-opacity=\"0.5\" stroke-width=\"4.8\"/>\n",
       "<circle clip-path=\"url(#clip743)\" cx=\"233.705\" cy=\"1583.71\" r=\"18\" fill=\"#808080\" fill-rule=\"evenodd\" fill-opacity=\"0.5\" stroke=\"#000000\" stroke-opacity=\"0.5\" stroke-width=\"4.8\"/>\n",
       "<circle clip-path=\"url(#clip743)\" cx=\"255.328\" cy=\"1489.92\" r=\"18\" fill=\"#808080\" fill-rule=\"evenodd\" fill-opacity=\"0.5\" stroke=\"#000000\" stroke-opacity=\"0.5\" stroke-width=\"4.8\"/>\n",
       "<circle clip-path=\"url(#clip743)\" cx=\"276.951\" cy=\"1294.8\" r=\"18\" fill=\"#808080\" fill-rule=\"evenodd\" fill-opacity=\"0.5\" stroke=\"#000000\" stroke-opacity=\"0.5\" stroke-width=\"4.8\"/>\n",
       "<circle clip-path=\"url(#clip743)\" cx=\"298.574\" cy=\"1638.58\" r=\"18\" fill=\"#808080\" fill-rule=\"evenodd\" fill-opacity=\"0.5\" stroke=\"#000000\" stroke-opacity=\"0.5\" stroke-width=\"4.8\"/>\n",
       "<circle clip-path=\"url(#clip743)\" cx=\"320.197\" cy=\"1537.97\" r=\"18\" fill=\"#808080\" fill-rule=\"evenodd\" fill-opacity=\"0.5\" stroke=\"#000000\" stroke-opacity=\"0.5\" stroke-width=\"4.8\"/>\n",
       "<circle clip-path=\"url(#clip743)\" cx=\"341.82\" cy=\"1487.31\" r=\"18\" fill=\"#808080\" fill-rule=\"evenodd\" fill-opacity=\"0.5\" stroke=\"#000000\" stroke-opacity=\"0.5\" stroke-width=\"4.8\"/>\n",
       "<circle clip-path=\"url(#clip743)\" cx=\"363.443\" cy=\"1743.11\" r=\"18\" fill=\"#808080\" fill-rule=\"evenodd\" fill-opacity=\"0.5\" stroke=\"#000000\" stroke-opacity=\"0.5\" stroke-width=\"4.8\"/>\n",
       "<circle clip-path=\"url(#clip743)\" cx=\"385.066\" cy=\"1228.51\" r=\"18\" fill=\"#808080\" fill-rule=\"evenodd\" fill-opacity=\"0.5\" stroke=\"#000000\" stroke-opacity=\"0.5\" stroke-width=\"4.8\"/>\n",
       "<circle clip-path=\"url(#clip743)\" cx=\"406.689\" cy=\"1533.13\" r=\"18\" fill=\"#808080\" fill-rule=\"evenodd\" fill-opacity=\"0.5\" stroke=\"#000000\" stroke-opacity=\"0.5\" stroke-width=\"4.8\"/>\n",
       "<circle clip-path=\"url(#clip743)\" cx=\"428.312\" cy=\"1882.08\" r=\"18\" fill=\"#808080\" fill-rule=\"evenodd\" fill-opacity=\"0.5\" stroke=\"#000000\" stroke-opacity=\"0.5\" stroke-width=\"4.8\"/>\n",
       "<circle clip-path=\"url(#clip743)\" cx=\"449.935\" cy=\"1378.52\" r=\"18\" fill=\"#808080\" fill-rule=\"evenodd\" fill-opacity=\"0.5\" stroke=\"#000000\" stroke-opacity=\"0.5\" stroke-width=\"4.8\"/>\n",
       "<circle clip-path=\"url(#clip743)\" cx=\"471.558\" cy=\"1538.29\" r=\"18\" fill=\"#808080\" fill-rule=\"evenodd\" fill-opacity=\"0.5\" stroke=\"#000000\" stroke-opacity=\"0.5\" stroke-width=\"4.8\"/>\n",
       "<circle clip-path=\"url(#clip743)\" cx=\"493.181\" cy=\"1550.26\" r=\"18\" fill=\"#808080\" fill-rule=\"evenodd\" fill-opacity=\"0.5\" stroke=\"#000000\" stroke-opacity=\"0.5\" stroke-width=\"4.8\"/>\n",
       "<circle clip-path=\"url(#clip743)\" cx=\"514.804\" cy=\"1392.77\" r=\"18\" fill=\"#808080\" fill-rule=\"evenodd\" fill-opacity=\"0.5\" stroke=\"#000000\" stroke-opacity=\"0.5\" stroke-width=\"4.8\"/>\n",
       "<circle clip-path=\"url(#clip743)\" cx=\"536.427\" cy=\"1648.55\" r=\"18\" fill=\"#808080\" fill-rule=\"evenodd\" fill-opacity=\"0.5\" stroke=\"#000000\" stroke-opacity=\"0.5\" stroke-width=\"4.8\"/>\n",
       "<circle clip-path=\"url(#clip743)\" cx=\"558.05\" cy=\"1550.25\" r=\"18\" fill=\"#808080\" fill-rule=\"evenodd\" fill-opacity=\"0.5\" stroke=\"#000000\" stroke-opacity=\"0.5\" stroke-width=\"4.8\"/>\n",
       "<circle clip-path=\"url(#clip743)\" cx=\"579.673\" cy=\"1470.01\" r=\"18\" fill=\"#808080\" fill-rule=\"evenodd\" fill-opacity=\"0.5\" stroke=\"#000000\" stroke-opacity=\"0.5\" stroke-width=\"4.8\"/>\n",
       "<circle clip-path=\"url(#clip743)\" cx=\"601.296\" cy=\"1561.18\" r=\"18\" fill=\"#808080\" fill-rule=\"evenodd\" fill-opacity=\"0.5\" stroke=\"#000000\" stroke-opacity=\"0.5\" stroke-width=\"4.8\"/>\n",
       "<circle clip-path=\"url(#clip743)\" cx=\"622.919\" cy=\"1715.78\" r=\"18\" fill=\"#808080\" fill-rule=\"evenodd\" fill-opacity=\"0.5\" stroke=\"#000000\" stroke-opacity=\"0.5\" stroke-width=\"4.8\"/>\n",
       "<circle clip-path=\"url(#clip743)\" cx=\"644.542\" cy=\"1355.9\" r=\"18\" fill=\"#808080\" fill-rule=\"evenodd\" fill-opacity=\"0.5\" stroke=\"#000000\" stroke-opacity=\"0.5\" stroke-width=\"4.8\"/>\n",
       "<circle clip-path=\"url(#clip743)\" cx=\"666.165\" cy=\"1390.95\" r=\"18\" fill=\"#808080\" fill-rule=\"evenodd\" fill-opacity=\"0.5\" stroke=\"#000000\" stroke-opacity=\"0.5\" stroke-width=\"4.8\"/>\n",
       "<circle clip-path=\"url(#clip743)\" cx=\"687.788\" cy=\"1310.37\" r=\"18\" fill=\"#808080\" fill-rule=\"evenodd\" fill-opacity=\"0.5\" stroke=\"#000000\" stroke-opacity=\"0.5\" stroke-width=\"4.8\"/>\n",
       "<circle clip-path=\"url(#clip743)\" cx=\"709.411\" cy=\"1400.55\" r=\"18\" fill=\"#808080\" fill-rule=\"evenodd\" fill-opacity=\"0.5\" stroke=\"#000000\" stroke-opacity=\"0.5\" stroke-width=\"4.8\"/>\n",
       "<circle clip-path=\"url(#clip743)\" cx=\"731.033\" cy=\"1285.16\" r=\"18\" fill=\"#808080\" fill-rule=\"evenodd\" fill-opacity=\"0.5\" stroke=\"#000000\" stroke-opacity=\"0.5\" stroke-width=\"4.8\"/>\n",
       "<circle clip-path=\"url(#clip743)\" cx=\"752.656\" cy=\"1692.96\" r=\"18\" fill=\"#808080\" fill-rule=\"evenodd\" fill-opacity=\"0.5\" stroke=\"#000000\" stroke-opacity=\"0.5\" stroke-width=\"4.8\"/>\n",
       "<circle clip-path=\"url(#clip743)\" cx=\"774.279\" cy=\"1572.17\" r=\"18\" fill=\"#808080\" fill-rule=\"evenodd\" fill-opacity=\"0.5\" stroke=\"#000000\" stroke-opacity=\"0.5\" stroke-width=\"4.8\"/>\n",
       "<circle clip-path=\"url(#clip743)\" cx=\"795.902\" cy=\"1477.28\" r=\"18\" fill=\"#808080\" fill-rule=\"evenodd\" fill-opacity=\"0.5\" stroke=\"#000000\" stroke-opacity=\"0.5\" stroke-width=\"4.8\"/>\n",
       "<circle clip-path=\"url(#clip743)\" cx=\"817.525\" cy=\"1478.63\" r=\"18\" fill=\"#808080\" fill-rule=\"evenodd\" fill-opacity=\"0.5\" stroke=\"#000000\" stroke-opacity=\"0.5\" stroke-width=\"4.8\"/>\n",
       "<circle clip-path=\"url(#clip743)\" cx=\"839.148\" cy=\"1190.5\" r=\"18\" fill=\"#808080\" fill-rule=\"evenodd\" fill-opacity=\"0.5\" stroke=\"#000000\" stroke-opacity=\"0.5\" stroke-width=\"4.8\"/>\n",
       "<circle clip-path=\"url(#clip743)\" cx=\"860.771\" cy=\"1558.92\" r=\"18\" fill=\"#808080\" fill-rule=\"evenodd\" fill-opacity=\"0.5\" stroke=\"#000000\" stroke-opacity=\"0.5\" stroke-width=\"4.8\"/>\n",
       "<circle clip-path=\"url(#clip743)\" cx=\"882.394\" cy=\"1519.58\" r=\"18\" fill=\"#808080\" fill-rule=\"evenodd\" fill-opacity=\"0.5\" stroke=\"#000000\" stroke-opacity=\"0.5\" stroke-width=\"4.8\"/>\n",
       "<circle clip-path=\"url(#clip743)\" cx=\"904.017\" cy=\"1493.96\" r=\"18\" fill=\"#808080\" fill-rule=\"evenodd\" fill-opacity=\"0.5\" stroke=\"#000000\" stroke-opacity=\"0.5\" stroke-width=\"4.8\"/>\n",
       "<circle clip-path=\"url(#clip743)\" cx=\"925.64\" cy=\"1400.35\" r=\"18\" fill=\"#808080\" fill-rule=\"evenodd\" fill-opacity=\"0.5\" stroke=\"#000000\" stroke-opacity=\"0.5\" stroke-width=\"4.8\"/>\n",
       "<circle clip-path=\"url(#clip743)\" cx=\"947.263\" cy=\"1731.79\" r=\"18\" fill=\"#808080\" fill-rule=\"evenodd\" fill-opacity=\"0.5\" stroke=\"#000000\" stroke-opacity=\"0.5\" stroke-width=\"4.8\"/>\n",
       "<circle clip-path=\"url(#clip743)\" cx=\"968.886\" cy=\"1387.41\" r=\"18\" fill=\"#808080\" fill-rule=\"evenodd\" fill-opacity=\"0.5\" stroke=\"#000000\" stroke-opacity=\"0.5\" stroke-width=\"4.8\"/>\n",
       "<circle clip-path=\"url(#clip743)\" cx=\"990.509\" cy=\"1409.24\" r=\"18\" fill=\"#808080\" fill-rule=\"evenodd\" fill-opacity=\"0.5\" stroke=\"#000000\" stroke-opacity=\"0.5\" stroke-width=\"4.8\"/>\n",
       "<circle clip-path=\"url(#clip743)\" cx=\"1012.13\" cy=\"1494.45\" r=\"18\" fill=\"#808080\" fill-rule=\"evenodd\" fill-opacity=\"0.5\" stroke=\"#000000\" stroke-opacity=\"0.5\" stroke-width=\"4.8\"/>\n",
       "<circle clip-path=\"url(#clip743)\" cx=\"1033.76\" cy=\"1337.46\" r=\"18\" fill=\"#808080\" fill-rule=\"evenodd\" fill-opacity=\"0.5\" stroke=\"#000000\" stroke-opacity=\"0.5\" stroke-width=\"4.8\"/>\n",
       "<circle clip-path=\"url(#clip743)\" cx=\"1055.38\" cy=\"1822.62\" r=\"18\" fill=\"#808080\" fill-rule=\"evenodd\" fill-opacity=\"0.5\" stroke=\"#000000\" stroke-opacity=\"0.5\" stroke-width=\"4.8\"/>\n",
       "<circle clip-path=\"url(#clip743)\" cx=\"1077\" cy=\"1240.33\" r=\"18\" fill=\"#808080\" fill-rule=\"evenodd\" fill-opacity=\"0.5\" stroke=\"#000000\" stroke-opacity=\"0.5\" stroke-width=\"4.8\"/>\n",
       "<circle clip-path=\"url(#clip743)\" cx=\"1098.62\" cy=\"1538.43\" r=\"18\" fill=\"#808080\" fill-rule=\"evenodd\" fill-opacity=\"0.5\" stroke=\"#000000\" stroke-opacity=\"0.5\" stroke-width=\"4.8\"/>\n",
       "<circle clip-path=\"url(#clip743)\" cx=\"1120.25\" cy=\"1428.52\" r=\"18\" fill=\"#808080\" fill-rule=\"evenodd\" fill-opacity=\"0.5\" stroke=\"#000000\" stroke-opacity=\"0.5\" stroke-width=\"4.8\"/>\n",
       "<circle clip-path=\"url(#clip743)\" cx=\"1141.87\" cy=\"1396.78\" r=\"18\" fill=\"#808080\" fill-rule=\"evenodd\" fill-opacity=\"0.5\" stroke=\"#000000\" stroke-opacity=\"0.5\" stroke-width=\"4.8\"/>\n",
       "<circle clip-path=\"url(#clip743)\" cx=\"1163.49\" cy=\"1904.27\" r=\"18\" fill=\"#808080\" fill-rule=\"evenodd\" fill-opacity=\"0.5\" stroke=\"#000000\" stroke-opacity=\"0.5\" stroke-width=\"4.8\"/>\n",
       "<circle clip-path=\"url(#clip743)\" cx=\"1185.12\" cy=\"1471.8\" r=\"18\" fill=\"#808080\" fill-rule=\"evenodd\" fill-opacity=\"0.5\" stroke=\"#000000\" stroke-opacity=\"0.5\" stroke-width=\"4.8\"/>\n",
       "<circle clip-path=\"url(#clip743)\" cx=\"1206.74\" cy=\"1673.78\" r=\"18\" fill=\"#808080\" fill-rule=\"evenodd\" fill-opacity=\"0.5\" stroke=\"#000000\" stroke-opacity=\"0.5\" stroke-width=\"4.8\"/>\n",
       "<circle clip-path=\"url(#clip743)\" cx=\"1228.36\" cy=\"1342.52\" r=\"18\" fill=\"#808080\" fill-rule=\"evenodd\" fill-opacity=\"0.5\" stroke=\"#000000\" stroke-opacity=\"0.5\" stroke-width=\"4.8\"/>\n",
       "<circle clip-path=\"url(#clip743)\" cx=\"1249.98\" cy=\"1608\" r=\"18\" fill=\"#808080\" fill-rule=\"evenodd\" fill-opacity=\"0.5\" stroke=\"#000000\" stroke-opacity=\"0.5\" stroke-width=\"4.8\"/>\n",
       "<circle clip-path=\"url(#clip743)\" cx=\"1271.61\" cy=\"1496.63\" r=\"18\" fill=\"#808080\" fill-rule=\"evenodd\" fill-opacity=\"0.5\" stroke=\"#000000\" stroke-opacity=\"0.5\" stroke-width=\"4.8\"/>\n",
       "<circle clip-path=\"url(#clip743)\" cx=\"1293.23\" cy=\"1488.04\" r=\"18\" fill=\"#808080\" fill-rule=\"evenodd\" fill-opacity=\"0.5\" stroke=\"#000000\" stroke-opacity=\"0.5\" stroke-width=\"4.8\"/>\n",
       "<circle clip-path=\"url(#clip743)\" cx=\"1314.85\" cy=\"1379.88\" r=\"18\" fill=\"#808080\" fill-rule=\"evenodd\" fill-opacity=\"0.5\" stroke=\"#000000\" stroke-opacity=\"0.5\" stroke-width=\"4.8\"/>\n",
       "<circle clip-path=\"url(#clip743)\" cx=\"1336.48\" cy=\"1893.29\" r=\"18\" fill=\"#808080\" fill-rule=\"evenodd\" fill-opacity=\"0.5\" stroke=\"#000000\" stroke-opacity=\"0.5\" stroke-width=\"4.8\"/>\n",
       "<circle clip-path=\"url(#clip743)\" cx=\"1358.1\" cy=\"1613.46\" r=\"18\" fill=\"#808080\" fill-rule=\"evenodd\" fill-opacity=\"0.5\" stroke=\"#000000\" stroke-opacity=\"0.5\" stroke-width=\"4.8\"/>\n",
       "<circle clip-path=\"url(#clip743)\" cx=\"1379.72\" cy=\"1346.33\" r=\"18\" fill=\"#808080\" fill-rule=\"evenodd\" fill-opacity=\"0.5\" stroke=\"#000000\" stroke-opacity=\"0.5\" stroke-width=\"4.8\"/>\n",
       "<circle clip-path=\"url(#clip743)\" cx=\"1401.35\" cy=\"1542.89\" r=\"18\" fill=\"#808080\" fill-rule=\"evenodd\" fill-opacity=\"0.5\" stroke=\"#000000\" stroke-opacity=\"0.5\" stroke-width=\"4.8\"/>\n",
       "<circle clip-path=\"url(#clip743)\" cx=\"1422.97\" cy=\"1553.83\" r=\"18\" fill=\"#808080\" fill-rule=\"evenodd\" fill-opacity=\"0.5\" stroke=\"#000000\" stroke-opacity=\"0.5\" stroke-width=\"4.8\"/>\n",
       "<circle clip-path=\"url(#clip743)\" cx=\"1444.59\" cy=\"1489.8\" r=\"18\" fill=\"#808080\" fill-rule=\"evenodd\" fill-opacity=\"0.5\" stroke=\"#000000\" stroke-opacity=\"0.5\" stroke-width=\"4.8\"/>\n",
       "<circle clip-path=\"url(#clip743)\" cx=\"1466.21\" cy=\"1265.17\" r=\"18\" fill=\"#808080\" fill-rule=\"evenodd\" fill-opacity=\"0.5\" stroke=\"#000000\" stroke-opacity=\"0.5\" stroke-width=\"4.8\"/>\n",
       "<circle clip-path=\"url(#clip743)\" cx=\"1487.84\" cy=\"1527.85\" r=\"18\" fill=\"#808080\" fill-rule=\"evenodd\" fill-opacity=\"0.5\" stroke=\"#000000\" stroke-opacity=\"0.5\" stroke-width=\"4.8\"/>\n",
       "<circle clip-path=\"url(#clip743)\" cx=\"1509.46\" cy=\"1716.22\" r=\"18\" fill=\"#808080\" fill-rule=\"evenodd\" fill-opacity=\"0.5\" stroke=\"#000000\" stroke-opacity=\"0.5\" stroke-width=\"4.8\"/>\n",
       "<circle clip-path=\"url(#clip743)\" cx=\"1531.08\" cy=\"1444.67\" r=\"18\" fill=\"#808080\" fill-rule=\"evenodd\" fill-opacity=\"0.5\" stroke=\"#000000\" stroke-opacity=\"0.5\" stroke-width=\"4.8\"/>\n",
       "<circle clip-path=\"url(#clip743)\" cx=\"1552.71\" cy=\"1530.98\" r=\"18\" fill=\"#808080\" fill-rule=\"evenodd\" fill-opacity=\"0.5\" stroke=\"#000000\" stroke-opacity=\"0.5\" stroke-width=\"4.8\"/>\n",
       "<circle clip-path=\"url(#clip743)\" cx=\"1574.33\" cy=\"1477.7\" r=\"18\" fill=\"#808080\" fill-rule=\"evenodd\" fill-opacity=\"0.5\" stroke=\"#000000\" stroke-opacity=\"0.5\" stroke-width=\"4.8\"/>\n",
       "<circle clip-path=\"url(#clip743)\" cx=\"1595.95\" cy=\"1456.29\" r=\"18\" fill=\"#808080\" fill-rule=\"evenodd\" fill-opacity=\"0.5\" stroke=\"#000000\" stroke-opacity=\"0.5\" stroke-width=\"4.8\"/>\n",
       "<circle clip-path=\"url(#clip743)\" cx=\"1617.58\" cy=\"1438.31\" r=\"18\" fill=\"#808080\" fill-rule=\"evenodd\" fill-opacity=\"0.5\" stroke=\"#000000\" stroke-opacity=\"0.5\" stroke-width=\"4.8\"/>\n",
       "<circle clip-path=\"url(#clip743)\" cx=\"1639.2\" cy=\"1349.14\" r=\"18\" fill=\"#808080\" fill-rule=\"evenodd\" fill-opacity=\"0.5\" stroke=\"#000000\" stroke-opacity=\"0.5\" stroke-width=\"4.8\"/>\n",
       "<circle clip-path=\"url(#clip743)\" cx=\"1660.82\" cy=\"1539.34\" r=\"18\" fill=\"#808080\" fill-rule=\"evenodd\" fill-opacity=\"0.5\" stroke=\"#000000\" stroke-opacity=\"0.5\" stroke-width=\"4.8\"/>\n",
       "<circle clip-path=\"url(#clip743)\" cx=\"1682.44\" cy=\"1550.04\" r=\"18\" fill=\"#808080\" fill-rule=\"evenodd\" fill-opacity=\"0.5\" stroke=\"#000000\" stroke-opacity=\"0.5\" stroke-width=\"4.8\"/>\n",
       "<circle clip-path=\"url(#clip743)\" cx=\"1704.07\" cy=\"1267.84\" r=\"18\" fill=\"#808080\" fill-rule=\"evenodd\" fill-opacity=\"0.5\" stroke=\"#000000\" stroke-opacity=\"0.5\" stroke-width=\"4.8\"/>\n",
       "<circle clip-path=\"url(#clip743)\" cx=\"1725.69\" cy=\"1861.38\" r=\"18\" fill=\"#808080\" fill-rule=\"evenodd\" fill-opacity=\"0.5\" stroke=\"#000000\" stroke-opacity=\"0.5\" stroke-width=\"4.8\"/>\n",
       "<circle clip-path=\"url(#clip743)\" cx=\"1747.31\" cy=\"1486.18\" r=\"18\" fill=\"#808080\" fill-rule=\"evenodd\" fill-opacity=\"0.5\" stroke=\"#000000\" stroke-opacity=\"0.5\" stroke-width=\"4.8\"/>\n",
       "<circle clip-path=\"url(#clip743)\" cx=\"1768.94\" cy=\"1573.21\" r=\"18\" fill=\"#808080\" fill-rule=\"evenodd\" fill-opacity=\"0.5\" stroke=\"#000000\" stroke-opacity=\"0.5\" stroke-width=\"4.8\"/>\n",
       "<circle clip-path=\"url(#clip743)\" cx=\"1790.56\" cy=\"1441.35\" r=\"18\" fill=\"#808080\" fill-rule=\"evenodd\" fill-opacity=\"0.5\" stroke=\"#000000\" stroke-opacity=\"0.5\" stroke-width=\"4.8\"/>\n",
       "<circle clip-path=\"url(#clip743)\" cx=\"1812.18\" cy=\"1488.93\" r=\"18\" fill=\"#808080\" fill-rule=\"evenodd\" fill-opacity=\"0.5\" stroke=\"#000000\" stroke-opacity=\"0.5\" stroke-width=\"4.8\"/>\n",
       "<circle clip-path=\"url(#clip743)\" cx=\"1833.8\" cy=\"1475.74\" r=\"18\" fill=\"#808080\" fill-rule=\"evenodd\" fill-opacity=\"0.5\" stroke=\"#000000\" stroke-opacity=\"0.5\" stroke-width=\"4.8\"/>\n",
       "<circle clip-path=\"url(#clip743)\" cx=\"1855.43\" cy=\"1530.18\" r=\"18\" fill=\"#808080\" fill-rule=\"evenodd\" fill-opacity=\"0.5\" stroke=\"#000000\" stroke-opacity=\"0.5\" stroke-width=\"4.8\"/>\n",
       "<circle clip-path=\"url(#clip743)\" cx=\"1877.05\" cy=\"1246.37\" r=\"18\" fill=\"#808080\" fill-rule=\"evenodd\" fill-opacity=\"0.5\" stroke=\"#000000\" stroke-opacity=\"0.5\" stroke-width=\"4.8\"/>\n",
       "<circle clip-path=\"url(#clip743)\" cx=\"1898.67\" cy=\"1331.68\" r=\"18\" fill=\"#808080\" fill-rule=\"evenodd\" fill-opacity=\"0.5\" stroke=\"#000000\" stroke-opacity=\"0.5\" stroke-width=\"4.8\"/>\n",
       "<circle clip-path=\"url(#clip743)\" cx=\"1920.3\" cy=\"1546.78\" r=\"18\" fill=\"#808080\" fill-rule=\"evenodd\" fill-opacity=\"0.5\" stroke=\"#000000\" stroke-opacity=\"0.5\" stroke-width=\"4.8\"/>\n",
       "<circle clip-path=\"url(#clip743)\" cx=\"1941.92\" cy=\"1641\" r=\"18\" fill=\"#808080\" fill-rule=\"evenodd\" fill-opacity=\"0.5\" stroke=\"#000000\" stroke-opacity=\"0.5\" stroke-width=\"4.8\"/>\n",
       "<circle clip-path=\"url(#clip743)\" cx=\"1963.54\" cy=\"1564.16\" r=\"18\" fill=\"#808080\" fill-rule=\"evenodd\" fill-opacity=\"0.5\" stroke=\"#000000\" stroke-opacity=\"0.5\" stroke-width=\"4.8\"/>\n",
       "<circle clip-path=\"url(#clip743)\" cx=\"1985.17\" cy=\"1436.76\" r=\"18\" fill=\"#808080\" fill-rule=\"evenodd\" fill-opacity=\"0.5\" stroke=\"#000000\" stroke-opacity=\"0.5\" stroke-width=\"4.8\"/>\n",
       "<circle clip-path=\"url(#clip743)\" cx=\"2006.79\" cy=\"1638.52\" r=\"18\" fill=\"#808080\" fill-rule=\"evenodd\" fill-opacity=\"0.5\" stroke=\"#000000\" stroke-opacity=\"0.5\" stroke-width=\"4.8\"/>\n",
       "<circle clip-path=\"url(#clip743)\" cx=\"2028.41\" cy=\"1260.74\" r=\"18\" fill=\"#808080\" fill-rule=\"evenodd\" fill-opacity=\"0.5\" stroke=\"#000000\" stroke-opacity=\"0.5\" stroke-width=\"4.8\"/>\n",
       "<circle clip-path=\"url(#clip743)\" cx=\"2050.03\" cy=\"1211.06\" r=\"18\" fill=\"#808080\" fill-rule=\"evenodd\" fill-opacity=\"0.5\" stroke=\"#000000\" stroke-opacity=\"0.5\" stroke-width=\"4.8\"/>\n",
       "<circle clip-path=\"url(#clip743)\" cx=\"2071.66\" cy=\"1517.3\" r=\"18\" fill=\"#808080\" fill-rule=\"evenodd\" fill-opacity=\"0.5\" stroke=\"#000000\" stroke-opacity=\"0.5\" stroke-width=\"4.8\"/>\n",
       "<circle clip-path=\"url(#clip743)\" cx=\"2093.28\" cy=\"1578.9\" r=\"18\" fill=\"#808080\" fill-rule=\"evenodd\" fill-opacity=\"0.5\" stroke=\"#000000\" stroke-opacity=\"0.5\" stroke-width=\"4.8\"/>\n",
       "<circle clip-path=\"url(#clip743)\" cx=\"2114.9\" cy=\"1616.4\" r=\"18\" fill=\"#808080\" fill-rule=\"evenodd\" fill-opacity=\"0.5\" stroke=\"#000000\" stroke-opacity=\"0.5\" stroke-width=\"4.8\"/>\n",
       "<circle clip-path=\"url(#clip743)\" cx=\"2136.53\" cy=\"1899.9\" r=\"18\" fill=\"#808080\" fill-rule=\"evenodd\" fill-opacity=\"0.5\" stroke=\"#000000\" stroke-opacity=\"0.5\" stroke-width=\"4.8\"/>\n",
       "<circle clip-path=\"url(#clip743)\" cx=\"2158.15\" cy=\"1615.65\" r=\"18\" fill=\"#808080\" fill-rule=\"evenodd\" fill-opacity=\"0.5\" stroke=\"#000000\" stroke-opacity=\"0.5\" stroke-width=\"4.8\"/>\n",
       "<circle clip-path=\"url(#clip743)\" cx=\"2179.77\" cy=\"1667.33\" r=\"18\" fill=\"#808080\" fill-rule=\"evenodd\" fill-opacity=\"0.5\" stroke=\"#000000\" stroke-opacity=\"0.5\" stroke-width=\"4.8\"/>\n",
       "<circle clip-path=\"url(#clip743)\" cx=\"2201.4\" cy=\"1404.87\" r=\"18\" fill=\"#808080\" fill-rule=\"evenodd\" fill-opacity=\"0.5\" stroke=\"#000000\" stroke-opacity=\"0.5\" stroke-width=\"4.8\"/>\n",
       "<circle clip-path=\"url(#clip743)\" cx=\"2223.02\" cy=\"1469.3\" r=\"18\" fill=\"#808080\" fill-rule=\"evenodd\" fill-opacity=\"0.5\" stroke=\"#000000\" stroke-opacity=\"0.5\" stroke-width=\"4.8\"/>\n",
       "<circle clip-path=\"url(#clip743)\" cx=\"2244.64\" cy=\"1626.52\" r=\"18\" fill=\"#808080\" fill-rule=\"evenodd\" fill-opacity=\"0.5\" stroke=\"#000000\" stroke-opacity=\"0.5\" stroke-width=\"4.8\"/>\n",
       "<circle clip-path=\"url(#clip743)\" cx=\"2266.26\" cy=\"1218.26\" r=\"18\" fill=\"#808080\" fill-rule=\"evenodd\" fill-opacity=\"0.5\" stroke=\"#000000\" stroke-opacity=\"0.5\" stroke-width=\"4.8\"/>\n",
       "<circle clip-path=\"url(#clip743)\" cx=\"2287.89\" cy=\"1857.34\" r=\"18\" fill=\"#808080\" fill-rule=\"evenodd\" fill-opacity=\"0.5\" stroke=\"#000000\" stroke-opacity=\"0.5\" stroke-width=\"4.8\"/>\n",
       "<circle clip-path=\"url(#clip743)\" cx=\"2309.51\" cy=\"1466.92\" r=\"18\" fill=\"#808080\" fill-rule=\"evenodd\" fill-opacity=\"0.5\" stroke=\"#000000\" stroke-opacity=\"0.5\" stroke-width=\"4.8\"/>\n",
       "<circle clip-path=\"url(#clip743)\" cx=\"2331.13\" cy=\"1362.82\" r=\"18\" fill=\"#808080\" fill-rule=\"evenodd\" fill-opacity=\"0.5\" stroke=\"#000000\" stroke-opacity=\"0.5\" stroke-width=\"4.8\"/>\n",
       "<polyline clip-path=\"url(#clip743)\" style=\"stroke:#050505; stroke-width:4; stroke-opacity:1; fill:none\" stroke-dasharray=\"16, 10\" points=\"\n",
       "  1292.8,2728.5 1292.8,306.616 \n",
       "  \"/>\n",
       "<path clip-path=\"url(#clip740)\" d=\"\n",
       "M283.438 1894.3 L845.652 1894.3 L845.652 1591.9 L283.438 1591.9  Z\n",
       "  \" fill=\"#ffffff\" fill-rule=\"evenodd\" fill-opacity=\"1\"/>\n",
       "<polyline clip-path=\"url(#clip740)\" style=\"stroke:#000000; stroke-width:4; stroke-opacity:1; fill:none\" points=\"\n",
       "  283.438,1894.3 845.652,1894.3 845.652,1591.9 283.438,1591.9 283.438,1894.3 \n",
       "  \"/>\n",
       "<polyline clip-path=\"url(#clip740)\" style=\"stroke:#008080; stroke-width:5; stroke-opacity:1; fill:none\" points=\"\n",
       "  307.223,1667.5 449.935,1667.5 \n",
       "  \"/>\n",
       "<g clip-path=\"url(#clip740)\">\n",
       "<text style=\"fill:#000000; fill-opacity:1; font-family:Arial,Helvetica Neue,Helvetica,sans-serif; font-size:59px; text-anchor:start;\" transform=\"rotate(0, 473.72, 1689)\" x=\"473.72\" y=\"1689\">True</text>\n",
       "</g>\n",
       "<polyline clip-path=\"url(#clip740)\" style=\"stroke:#ee4000; stroke-width:5; stroke-opacity:1; fill:none\" stroke-dasharray=\"20, 13\" points=\"\n",
       "  307.223,1743.1 449.935,1743.1 \n",
       "  \"/>\n",
       "<g clip-path=\"url(#clip740)\">\n",
       "<text style=\"fill:#000000; fill-opacity:1; font-family:Arial,Helvetica Neue,Helvetica,sans-serif; font-size:59px; text-anchor:start;\" transform=\"rotate(0, 473.72, 1764.6)\" x=\"473.72\" y=\"1764.6\">sEnKF</text>\n",
       "</g>\n",
       "<circle clip-path=\"url(#clip740)\" cx=\"378.579\" cy=\"1818.7\" r=\"28\" fill=\"#808080\" fill-rule=\"evenodd\" fill-opacity=\"0.5\" stroke=\"#000000\" stroke-opacity=\"0.5\" stroke-width=\"7.68\"/>\n",
       "<g clip-path=\"url(#clip740)\">\n",
       "<text style=\"fill:#000000; fill-opacity:1; font-family:Arial,Helvetica Neue,Helvetica,sans-serif; font-size:59px; text-anchor:start;\" transform=\"rotate(0, 473.72, 1840.2)\" x=\"473.72\" y=\"1840.2\">Observation</text>\n",
       "</g>\n",
       "<path clip-path=\"url(#clip740)\" d=\"\n",
       "M212.082 2987.87 L2352.76 2987.87 L2352.76 2180.58 L212.082 2180.58  Z\n",
       "  \" fill=\"#ffffff\" fill-rule=\"evenodd\" fill-opacity=\"1\"/>\n",
       "<defs>\n",
       "  <clipPath id=\"clip744\">\n",
       "    <rect x=\"212\" y=\"2180\" width=\"2142\" height=\"808\"/>\n",
       "  </clipPath>\n",
       "</defs>\n",
       "<polyline clip-path=\"url(#clip740)\" style=\"stroke:#000000; stroke-width:4; stroke-opacity:1; fill:none\" points=\"\n",
       "  212.082,2987.87 2352.76,2987.87 \n",
       "  \"/>\n",
       "<polyline clip-path=\"url(#clip740)\" style=\"stroke:#000000; stroke-width:4; stroke-opacity:1; fill:none\" points=\"\n",
       "  644.109,2987.87 644.109,2978.19 \n",
       "  \"/>\n",
       "<polyline clip-path=\"url(#clip740)\" style=\"stroke:#000000; stroke-width:4; stroke-opacity:1; fill:none\" points=\"\n",
       "  1076.57,2987.87 1076.57,2978.19 \n",
       "  \"/>\n",
       "<polyline clip-path=\"url(#clip740)\" style=\"stroke:#000000; stroke-width:4; stroke-opacity:1; fill:none\" points=\"\n",
       "  1509.03,2987.87 1509.03,2978.19 \n",
       "  \"/>\n",
       "<polyline clip-path=\"url(#clip740)\" style=\"stroke:#000000; stroke-width:4; stroke-opacity:1; fill:none\" points=\"\n",
       "  1941.49,2987.87 1941.49,2978.19 \n",
       "  \"/>\n",
       "<g clip-path=\"url(#clip740)\">\n",
       "<text style=\"fill:#000000; fill-opacity:1; font-family:Arial,Helvetica Neue,Helvetica,sans-serif; font-size:53px; text-anchor:middle;\" transform=\"rotate(0, 644.109, 3060.27)\" x=\"644.109\" y=\"3060.27\">200</text>\n",
       "</g>\n",
       "<g clip-path=\"url(#clip740)\">\n",
       "<text style=\"fill:#000000; fill-opacity:1; font-family:Arial,Helvetica Neue,Helvetica,sans-serif; font-size:53px; text-anchor:middle;\" transform=\"rotate(0, 1076.57, 3060.27)\" x=\"1076.57\" y=\"3060.27\">400</text>\n",
       "</g>\n",
       "<g clip-path=\"url(#clip740)\">\n",
       "<text style=\"fill:#000000; fill-opacity:1; font-family:Arial,Helvetica Neue,Helvetica,sans-serif; font-size:53px; text-anchor:middle;\" transform=\"rotate(0, 1509.03, 3060.27)\" x=\"1509.03\" y=\"3060.27\">600</text>\n",
       "</g>\n",
       "<g clip-path=\"url(#clip740)\">\n",
       "<text style=\"fill:#000000; fill-opacity:1; font-family:Arial,Helvetica Neue,Helvetica,sans-serif; font-size:53px; text-anchor:middle;\" transform=\"rotate(0, 1941.49, 3060.27)\" x=\"1941.49\" y=\"3060.27\">800</text>\n",
       "</g>\n",
       "<g clip-path=\"url(#clip740)\">\n",
       "<image width=\"23\" height=\"45\" xlink:href=\"data:image/png;base64,\n",
       "iVBORw0KGgoAAAANSUhEUgAAABcAAAAtCAYAAABFy/BrAAABxElEQVRYhbWX3a3CMAyFnTtB6AgZ\n",
       "oawQMUHECFkBRugIzJARgBHKBmUFr+D7QhBt82OHYskPRe6Rc/KFuEBEIE1EJO89aa3JOUe5OrEw\n",
       "EYExhgDgnZuJI+JMuCT+B8K43+/84m8t2cyWlCWb2XI+n1e/Oeey9SLxlN/W2vwLEltgYYfWOmtJ\n",
       "Ey3srr/tfJqmYuds4ev1yqZELN73vVhcvZZbDaXUqpCIVPElRKRUV9+mtZZgGIbNhWMqIoLH40GI\n",
       "mF3d4XCYPWutIYSQre+6Dvb7vWpC0Htf3Uw2LUtxRGSJV0/o7XZbUbLb7cqUxPgF32zOm/h+RdGW\n",
       "0+m0Evbec3Tr4uL/72VIKDHGsP1m0dLcdanz1GXM5bvaecpvNt+1ziXziej4S+cTkS2p+UTCd4yk\n",
       "+Nd8x/gF3yLOm7rmds7lexxHAgAKIVCSlpb5JKZzbjYsrQqstc3iy/pVgda6STyejb7v0+IpS0pf\n",
       "a0uvrbWz2iotxpgqFMfjEQBgPW7USLlcLsXOQwjJrpOeLy/kYRiy4tGO3CGrcv65QZ8Zx8DS1wXr\n",
       "EOVWZ4wpHrDkhhKRmqbp/ayUos/sug7GcYTn86lKF8g/DrGGHV47F+QAAAAASUVORK5CYII=\n",
       "\" transform=\"translate(1271, 3095)\"/>\n",
       "</g>\n",
       "<polyline clip-path=\"url(#clip740)\" style=\"stroke:#000000; stroke-width:4; stroke-opacity:1; fill:none\" points=\"\n",
       "  212.082,2987.87 212.082,2180.58 \n",
       "  \"/>\n",
       "<polyline clip-path=\"url(#clip740)\" style=\"stroke:#000000; stroke-width:4; stroke-opacity:1; fill:none\" points=\"\n",
       "  212.082,2808.26 237.77,2808.26 \n",
       "  \"/>\n",
       "<polyline clip-path=\"url(#clip740)\" style=\"stroke:#000000; stroke-width:4; stroke-opacity:1; fill:none\" points=\"\n",
       "  212.082,2607.14 237.77,2607.14 \n",
       "  \"/>\n",
       "<polyline clip-path=\"url(#clip740)\" style=\"stroke:#000000; stroke-width:4; stroke-opacity:1; fill:none\" points=\"\n",
       "  212.082,2406.01 237.77,2406.01 \n",
       "  \"/>\n",
       "<polyline clip-path=\"url(#clip740)\" style=\"stroke:#000000; stroke-width:4; stroke-opacity:1; fill:none\" points=\"\n",
       "  212.082,2204.88 237.77,2204.88 \n",
       "  \"/>\n",
       "<g clip-path=\"url(#clip740)\">\n",
       "<text style=\"fill:#000000; fill-opacity:1; font-family:Arial,Helvetica Neue,Helvetica,sans-serif; font-size:53px; text-anchor:end;\" transform=\"rotate(0, 164.082, 2827.76)\" x=\"164.082\" y=\"2827.76\">10</text>\n",
       "</g>\n",
       "<g clip-path=\"url(#clip740)\">\n",
       "<text style=\"fill:#000000; fill-opacity:1; font-family:Arial,Helvetica Neue,Helvetica,sans-serif; font-size:53px; text-anchor:end;\" transform=\"rotate(0, 164.082, 2626.64)\" x=\"164.082\" y=\"2626.64\">20</text>\n",
       "</g>\n",
       "<g clip-path=\"url(#clip740)\">\n",
       "<text style=\"fill:#000000; fill-opacity:1; font-family:Arial,Helvetica Neue,Helvetica,sans-serif; font-size:53px; text-anchor:end;\" transform=\"rotate(0, 164.082, 2425.51)\" x=\"164.082\" y=\"2425.51\">30</text>\n",
       "</g>\n",
       "<g clip-path=\"url(#clip740)\">\n",
       "<text style=\"fill:#000000; fill-opacity:1; font-family:Arial,Helvetica Neue,Helvetica,sans-serif; font-size:53px; text-anchor:end;\" transform=\"rotate(0, 164.082, 2224.38)\" x=\"164.082\" y=\"2224.38\">40</text>\n",
       "</g>\n",
       "<g clip-path=\"url(#clip740)\">\n",
       "<image width=\"43\" height=\"65\" xlink:href=\"data:image/png;base64,\n",
       "iVBORw0KGgoAAAANSUhEUgAAACsAAABBCAYAAABIMl38AAAD0UlEQVRoge1a75GsIAyPrwJmS4hX\n",
       "gTVYAnclWALXAiVYAyVYgyV4W4JnB3kf3guHrrIE3L37cJnJzOoK+QH5R6AiIvhO+vz8pHEcARGh\n",
       "rusq+jERfRs3TUMA4BkRyRhDR99/C0jnHCmlVkBD1lrTPM83oLOFHQmKzQwRgdb6sO2W+76nYrD3\n",
       "hIzjuAvYGJMMlNlaS1lgp2kSCZIO8l4/IrBt24qETNPkBVlrb/5XShEiUtu21LbtoR6zalX/R5xE\n",
       "VVX5j5VSYK0FRIRlWeB6vYK1FpZlWbVxzgEAwNvbm39HRHEXBQAfHx/08vLin621spnlkW4VP2Z8\n",
       "iEhsVIi4mu17HK6GUiodKDcMFT7G8zzf1WGxQUv0VSklEhjqoLRtEVilVHT57wEehiEbbNd1BAD0\n",
       "J9W4lmUBREz93BMb1uVyEbdlYrnJYJVSWYK01iuBOcSyk8FeLpcbt5TarpSu1+u/H6l6Y4yhtm3F\n",
       "esdeYS8xSWVElBkYZ0q51pwLNMsbcKNwdtmddV1XNHMpchExb4REt0kNIhaD3cvWWI2MMbLOhmEg\n",
       "nt29pKN4mTdpIcvTWhNRRj67lz2dDZZtgyeEVSyrc+cceQv9z13XnQb2qN8iHTPGkNa6KJTGwG63\n",
       "SEVgz+J5nonjPyKSc2538KLk+7spOdz+BPoF+yj6BfsoWoF9f3+nuq6pqiqq6/rnuQn2YUcFhjMS\n",
       "lLPYR6I9oMzSTrXWPvk4FSxnNmeC3ZaZzsp3IQxzR7Ws3BAaJjsldQMPljvkmsAjkuowS2uaJrs/\n",
       "YFBh8uCcI2NMcqlIIIwAQFTvWrXnun5JPirhcLchBhvq7DPAhjMsbkf0dWryLLDzPJNS6u75wy5Y\n",
       "Nqqcpcll3stJXNru8pRuUyTqIAkeq4cwkj1jlqW2svtyGxwQ8SFVF6mh7b7cHlNugTvnzgmfwsi2\n",
       "eogdUcZYKUVaa5GzZ5WT+Hf/YxzHLKB7wPu+jwIPqzpH2+5DsDnHlGew1OusFJ1dSaiP0zSRtZYk\n",
       "B8SpLNbxEIS0sTGGYsZ4xE3TZBmot/yS1G0YBpKoUq4crwI5Z1wxnueZtNY3ddwSOd5dnQ025G2Q\n",
       "yfXRPkUsUQPJbDPwnJR0dYr9aLBeaK43IPpy0rnbjVzVkG4i/Q+l1FNUgZlzaHEEK12eEnWQ6O6q\n",
       "1tU0DQAAvL6+EjyJ/LlsCh2NGOD+HS3JcjOHegrCmd19ub2bUpK77uUUfJIIINuRRP/s+562V0ek\n",
       "wGPXn0LgxWCZw5qVpHOi+F0wqfd5ytFSeB8sJEq43xXSU8r0fPUkJPY8EvoLyhfQbhQ7cKAAAAAA\n",
       "SUVORK5CYII=\n",
       "\" transform=\"translate(11, 2552)\"/>\n",
       "</g>\n",
       "<polyline clip-path=\"url(#clip744)\" style=\"stroke:#008080; stroke-width:12; stroke-opacity:1; fill:none\" points=\"\n",
       "  212.082,2987.87 233.705,2546.3 255.328,2862.89 276.951,2345.84 298.574,2469.04 320.197,2359.64 341.82,2610.49 363.443,2766.13 385.066,2327.36 406.689,2398.69 \n",
       "  428.312,2456.38 449.935,2272.42 471.558,2394.7 493.181,2718.26 514.804,2668.18 536.427,2710.35 558.05,2512.13 579.673,2572.85 601.296,2816.22 622.919,2750.72 \n",
       "  644.542,2721.37 666.165,2771.99 687.788,2821.63 709.411,2482.68 731.033,2628.19 752.656,2572.78 774.279,2571.4 795.902,2770.15 817.525,2707.07 839.148,2560.72 \n",
       "  860.771,2543.4 882.394,2449.72 904.017,2594.63 925.64,2722.98 947.263,2716.21 968.886,2607.34 990.509,2653.11 1012.13,2667.79 1033.76,2786.37 1055.38,2627.75 \n",
       "  1077,2645.32 1098.62,2815.08 1120.25,2331.89 1141.87,2647.2 1163.49,2549.95 1185.12,2539.41 1206.74,2676.69 1228.36,2602.73 1249.98,2535.22 1271.61,2798.02 \n",
       "  1293.23,2459.89 1314.85,2701.21 1336.48,2396.17 1358.1,2906.54 1379.72,2325.44 1401.35,2675.48 1422.97,2795.49 1444.59,2549.3 1466.21,2428.78 1487.84,2549.28 \n",
       "  1509.46,2701.87 1531.08,2562.06 1552.71,2551.24 1574.33,2562.74 1595.95,2702.14 1617.58,2618.81 1639.2,2781.81 1660.82,2484.27 1682.44,2472.47 1704.07,2651.15 \n",
       "  1725.69,2450.61 1747.31,2634.32 1768.94,2641.77 1790.56,2599.55 1812.18,2381.65 1833.8,2375.09 1855.43,2672.7 1877.05,2617.32 1898.67,2290.02 1920.3,2444.41 \n",
       "  1941.92,2504.4 1963.54,2446.03 1985.17,2685.52 2006.79,2592.71 2028.41,2709.81 2050.03,2798.41 2071.66,2507.07 2093.28,2521.38 2114.9,2468.94 2136.53,2292.88 \n",
       "  2158.15,2672.91 2179.77,2324.67 2201.4,2891.03 2223.02,2687.2 2244.64,2835.72 2266.26,2729.04 2287.89,2465.27 2309.51,2599.38 2331.13,2658.18 2352.76,2616.71 \n",
       "  \n",
       "  \"/>\n",
       "<polyline clip-path=\"url(#clip744)\" style=\"stroke:#ee4000; stroke-width:12; stroke-opacity:1; fill:none\" stroke-dasharray=\"48, 30\" points=\"\n",
       "  212.082,2946.77 233.705,2544.34 255.328,2849.48 276.951,2365.46 298.574,2466.51 320.197,2359.43 341.82,2609.57 363.443,2736.82 385.066,2298.36 406.689,2401.54 \n",
       "  428.312,2466.47 449.935,2236.83 471.558,2424.67 493.181,2716.55 514.804,2658.61 536.427,2707.47 558.05,2513.86 579.673,2570.52 601.296,2840.16 622.919,2743.27 \n",
       "  644.542,2705.86 666.165,2815.76 687.788,2721.02 709.411,2474.01 731.033,2652.86 752.656,2557.75 774.279,2554.27 795.902,2768.15 817.525,2720.28 839.148,2530.84 \n",
       "  860.771,2531.33 882.394,2476.26 904.017,2606.59 925.64,2718.97 947.263,2676.56 968.886,2622.83 990.509,2671.55 1012.13,2675.45 1033.76,2720.06 1055.38,2591.28 \n",
       "  1077,2660.83 1098.62,2817.01 1120.25,2338.18 1141.87,2646.04 1163.49,2565.04 1185.12,2537.28 1206.74,2676.8 1228.36,2628.3 1249.98,2518 1271.61,2797.21 \n",
       "  1293.23,2469.62 1314.85,2700.8 1336.48,2403.85 1358.1,2900.33 1379.72,2333.54 1401.35,2683.51 1422.97,2789.74 1444.59,2547.9 1466.21,2432.37 1487.84,2556.02 \n",
       "  1509.46,2684.68 1531.08,2565.74 1552.71,2552.09 1574.33,2562.3 1595.95,2695.6 1617.58,2632.04 1639.2,2747.15 1660.82,2454.97 1682.44,2480.46 1704.07,2662.43 \n",
       "  1725.69,2491.42 1747.31,2629.2 1768.94,2637.56 1790.56,2607.65 1812.18,2380.37 1833.8,2398.69 1855.43,2672.5 1877.05,2560.59 1898.67,2279.83 1920.3,2467.74 \n",
       "  1941.92,2501.57 1963.54,2429.57 1985.17,2683.97 2006.79,2586.63 2028.41,2744.11 2050.03,2819.19 2071.66,2507.42 2093.28,2511 2114.9,2471.59 2136.53,2349.5 \n",
       "  2158.15,2671.3 2179.77,2308.68 2201.4,2892.4 2223.02,2696.83 2244.64,2815.23 2266.26,2745.41 2287.89,2458.24 2309.51,2608.05 2331.13,2672.94 2352.76,2622.27 \n",
       "  \n",
       "  \"/>\n",
       "<circle clip-path=\"url(#clip744)\" cx=\"212.082\" cy=\"2927.93\" r=\"18\" fill=\"#808080\" fill-rule=\"evenodd\" fill-opacity=\"0.5\" stroke=\"#000000\" stroke-opacity=\"0.5\" stroke-width=\"4.8\"/>\n",
       "<circle clip-path=\"url(#clip744)\" cx=\"233.705\" cy=\"2505.31\" r=\"18\" fill=\"#808080\" fill-rule=\"evenodd\" fill-opacity=\"0.5\" stroke=\"#000000\" stroke-opacity=\"0.5\" stroke-width=\"4.8\"/>\n",
       "<circle clip-path=\"url(#clip744)\" cx=\"255.328\" cy=\"2859.96\" r=\"18\" fill=\"#808080\" fill-rule=\"evenodd\" fill-opacity=\"0.5\" stroke=\"#000000\" stroke-opacity=\"0.5\" stroke-width=\"4.8\"/>\n",
       "<circle clip-path=\"url(#clip744)\" cx=\"276.951\" cy=\"2367.95\" r=\"18\" fill=\"#808080\" fill-rule=\"evenodd\" fill-opacity=\"0.5\" stroke=\"#000000\" stroke-opacity=\"0.5\" stroke-width=\"4.8\"/>\n",
       "<circle clip-path=\"url(#clip744)\" cx=\"298.574\" cy=\"2496.54\" r=\"18\" fill=\"#808080\" fill-rule=\"evenodd\" fill-opacity=\"0.5\" stroke=\"#000000\" stroke-opacity=\"0.5\" stroke-width=\"4.8\"/>\n",
       "<circle clip-path=\"url(#clip744)\" cx=\"320.197\" cy=\"2381.7\" r=\"18\" fill=\"#808080\" fill-rule=\"evenodd\" fill-opacity=\"0.5\" stroke=\"#000000\" stroke-opacity=\"0.5\" stroke-width=\"4.8\"/>\n",
       "<circle clip-path=\"url(#clip744)\" cx=\"341.82\" cy=\"2585.7\" r=\"18\" fill=\"#808080\" fill-rule=\"evenodd\" fill-opacity=\"0.5\" stroke=\"#000000\" stroke-opacity=\"0.5\" stroke-width=\"4.8\"/>\n",
       "<circle clip-path=\"url(#clip744)\" cx=\"363.443\" cy=\"2711.03\" r=\"18\" fill=\"#808080\" fill-rule=\"evenodd\" fill-opacity=\"0.5\" stroke=\"#000000\" stroke-opacity=\"0.5\" stroke-width=\"4.8\"/>\n",
       "<circle clip-path=\"url(#clip744)\" cx=\"385.066\" cy=\"2267.74\" r=\"18\" fill=\"#808080\" fill-rule=\"evenodd\" fill-opacity=\"0.5\" stroke=\"#000000\" stroke-opacity=\"0.5\" stroke-width=\"4.8\"/>\n",
       "<circle clip-path=\"url(#clip744)\" cx=\"406.689\" cy=\"2436.19\" r=\"18\" fill=\"#808080\" fill-rule=\"evenodd\" fill-opacity=\"0.5\" stroke=\"#000000\" stroke-opacity=\"0.5\" stroke-width=\"4.8\"/>\n",
       "<circle clip-path=\"url(#clip744)\" cx=\"428.312\" cy=\"2451.51\" r=\"18\" fill=\"#808080\" fill-rule=\"evenodd\" fill-opacity=\"0.5\" stroke=\"#000000\" stroke-opacity=\"0.5\" stroke-width=\"4.8\"/>\n",
       "<circle clip-path=\"url(#clip744)\" cx=\"449.935\" cy=\"2180.58\" r=\"18\" fill=\"#808080\" fill-rule=\"evenodd\" fill-opacity=\"0.5\" stroke=\"#000000\" stroke-opacity=\"0.5\" stroke-width=\"4.8\"/>\n",
       "<circle clip-path=\"url(#clip744)\" cx=\"471.558\" cy=\"2450.75\" r=\"18\" fill=\"#808080\" fill-rule=\"evenodd\" fill-opacity=\"0.5\" stroke=\"#000000\" stroke-opacity=\"0.5\" stroke-width=\"4.8\"/>\n",
       "<circle clip-path=\"url(#clip744)\" cx=\"493.181\" cy=\"2673.29\" r=\"18\" fill=\"#808080\" fill-rule=\"evenodd\" fill-opacity=\"0.5\" stroke=\"#000000\" stroke-opacity=\"0.5\" stroke-width=\"4.8\"/>\n",
       "<circle clip-path=\"url(#clip744)\" cx=\"514.804\" cy=\"2636.92\" r=\"18\" fill=\"#808080\" fill-rule=\"evenodd\" fill-opacity=\"0.5\" stroke=\"#000000\" stroke-opacity=\"0.5\" stroke-width=\"4.8\"/>\n",
       "<circle clip-path=\"url(#clip744)\" cx=\"536.427\" cy=\"2747.96\" r=\"18\" fill=\"#808080\" fill-rule=\"evenodd\" fill-opacity=\"0.5\" stroke=\"#000000\" stroke-opacity=\"0.5\" stroke-width=\"4.8\"/>\n",
       "<circle clip-path=\"url(#clip744)\" cx=\"558.05\" cy=\"2562.48\" r=\"18\" fill=\"#808080\" fill-rule=\"evenodd\" fill-opacity=\"0.5\" stroke=\"#000000\" stroke-opacity=\"0.5\" stroke-width=\"4.8\"/>\n",
       "<circle clip-path=\"url(#clip744)\" cx=\"579.673\" cy=\"2656.33\" r=\"18\" fill=\"#808080\" fill-rule=\"evenodd\" fill-opacity=\"0.5\" stroke=\"#000000\" stroke-opacity=\"0.5\" stroke-width=\"4.8\"/>\n",
       "<circle clip-path=\"url(#clip744)\" cx=\"601.296\" cy=\"2850.06\" r=\"18\" fill=\"#808080\" fill-rule=\"evenodd\" fill-opacity=\"0.5\" stroke=\"#000000\" stroke-opacity=\"0.5\" stroke-width=\"4.8\"/>\n",
       "<circle clip-path=\"url(#clip744)\" cx=\"622.919\" cy=\"2762.69\" r=\"18\" fill=\"#808080\" fill-rule=\"evenodd\" fill-opacity=\"0.5\" stroke=\"#000000\" stroke-opacity=\"0.5\" stroke-width=\"4.8\"/>\n",
       "<circle clip-path=\"url(#clip744)\" cx=\"644.542\" cy=\"2692.3\" r=\"18\" fill=\"#808080\" fill-rule=\"evenodd\" fill-opacity=\"0.5\" stroke=\"#000000\" stroke-opacity=\"0.5\" stroke-width=\"4.8\"/>\n",
       "<circle clip-path=\"url(#clip744)\" cx=\"666.165\" cy=\"2816.85\" r=\"18\" fill=\"#808080\" fill-rule=\"evenodd\" fill-opacity=\"0.5\" stroke=\"#000000\" stroke-opacity=\"0.5\" stroke-width=\"4.8\"/>\n",
       "<circle clip-path=\"url(#clip744)\" cx=\"687.788\" cy=\"2679.95\" r=\"18\" fill=\"#808080\" fill-rule=\"evenodd\" fill-opacity=\"0.5\" stroke=\"#000000\" stroke-opacity=\"0.5\" stroke-width=\"4.8\"/>\n",
       "<circle clip-path=\"url(#clip744)\" cx=\"709.411\" cy=\"2490.82\" r=\"18\" fill=\"#808080\" fill-rule=\"evenodd\" fill-opacity=\"0.5\" stroke=\"#000000\" stroke-opacity=\"0.5\" stroke-width=\"4.8\"/>\n",
       "<circle clip-path=\"url(#clip744)\" cx=\"731.033\" cy=\"2715.31\" r=\"18\" fill=\"#808080\" fill-rule=\"evenodd\" fill-opacity=\"0.5\" stroke=\"#000000\" stroke-opacity=\"0.5\" stroke-width=\"4.8\"/>\n",
       "<circle clip-path=\"url(#clip744)\" cx=\"752.656\" cy=\"2590.1\" r=\"18\" fill=\"#808080\" fill-rule=\"evenodd\" fill-opacity=\"0.5\" stroke=\"#000000\" stroke-opacity=\"0.5\" stroke-width=\"4.8\"/>\n",
       "<circle clip-path=\"url(#clip744)\" cx=\"774.279\" cy=\"2519.39\" r=\"18\" fill=\"#808080\" fill-rule=\"evenodd\" fill-opacity=\"0.5\" stroke=\"#000000\" stroke-opacity=\"0.5\" stroke-width=\"4.8\"/>\n",
       "<circle clip-path=\"url(#clip744)\" cx=\"795.902\" cy=\"2732.98\" r=\"18\" fill=\"#808080\" fill-rule=\"evenodd\" fill-opacity=\"0.5\" stroke=\"#000000\" stroke-opacity=\"0.5\" stroke-width=\"4.8\"/>\n",
       "<circle clip-path=\"url(#clip744)\" cx=\"817.525\" cy=\"2666.21\" r=\"18\" fill=\"#808080\" fill-rule=\"evenodd\" fill-opacity=\"0.5\" stroke=\"#000000\" stroke-opacity=\"0.5\" stroke-width=\"4.8\"/>\n",
       "<circle clip-path=\"url(#clip744)\" cx=\"839.148\" cy=\"2576.29\" r=\"18\" fill=\"#808080\" fill-rule=\"evenodd\" fill-opacity=\"0.5\" stroke=\"#000000\" stroke-opacity=\"0.5\" stroke-width=\"4.8\"/>\n",
       "<circle clip-path=\"url(#clip744)\" cx=\"860.771\" cy=\"2507.05\" r=\"18\" fill=\"#808080\" fill-rule=\"evenodd\" fill-opacity=\"0.5\" stroke=\"#000000\" stroke-opacity=\"0.5\" stroke-width=\"4.8\"/>\n",
       "<circle clip-path=\"url(#clip744)\" cx=\"882.394\" cy=\"2480.85\" r=\"18\" fill=\"#808080\" fill-rule=\"evenodd\" fill-opacity=\"0.5\" stroke=\"#000000\" stroke-opacity=\"0.5\" stroke-width=\"4.8\"/>\n",
       "<circle clip-path=\"url(#clip744)\" cx=\"904.017\" cy=\"2605.99\" r=\"18\" fill=\"#808080\" fill-rule=\"evenodd\" fill-opacity=\"0.5\" stroke=\"#000000\" stroke-opacity=\"0.5\" stroke-width=\"4.8\"/>\n",
       "<circle clip-path=\"url(#clip744)\" cx=\"925.64\" cy=\"2751.72\" r=\"18\" fill=\"#808080\" fill-rule=\"evenodd\" fill-opacity=\"0.5\" stroke=\"#000000\" stroke-opacity=\"0.5\" stroke-width=\"4.8\"/>\n",
       "<circle clip-path=\"url(#clip744)\" cx=\"947.263\" cy=\"2696.25\" r=\"18\" fill=\"#808080\" fill-rule=\"evenodd\" fill-opacity=\"0.5\" stroke=\"#000000\" stroke-opacity=\"0.5\" stroke-width=\"4.8\"/>\n",
       "<circle clip-path=\"url(#clip744)\" cx=\"968.886\" cy=\"2608.01\" r=\"18\" fill=\"#808080\" fill-rule=\"evenodd\" fill-opacity=\"0.5\" stroke=\"#000000\" stroke-opacity=\"0.5\" stroke-width=\"4.8\"/>\n",
       "<circle clip-path=\"url(#clip744)\" cx=\"990.509\" cy=\"2729.74\" r=\"18\" fill=\"#808080\" fill-rule=\"evenodd\" fill-opacity=\"0.5\" stroke=\"#000000\" stroke-opacity=\"0.5\" stroke-width=\"4.8\"/>\n",
       "<circle clip-path=\"url(#clip744)\" cx=\"1012.13\" cy=\"2642.68\" r=\"18\" fill=\"#808080\" fill-rule=\"evenodd\" fill-opacity=\"0.5\" stroke=\"#000000\" stroke-opacity=\"0.5\" stroke-width=\"4.8\"/>\n",
       "<circle clip-path=\"url(#clip744)\" cx=\"1033.76\" cy=\"2723\" r=\"18\" fill=\"#808080\" fill-rule=\"evenodd\" fill-opacity=\"0.5\" stroke=\"#000000\" stroke-opacity=\"0.5\" stroke-width=\"4.8\"/>\n",
       "<circle clip-path=\"url(#clip744)\" cx=\"1055.38\" cy=\"2587.46\" r=\"18\" fill=\"#808080\" fill-rule=\"evenodd\" fill-opacity=\"0.5\" stroke=\"#000000\" stroke-opacity=\"0.5\" stroke-width=\"4.8\"/>\n",
       "<circle clip-path=\"url(#clip744)\" cx=\"1077\" cy=\"2727.81\" r=\"18\" fill=\"#808080\" fill-rule=\"evenodd\" fill-opacity=\"0.5\" stroke=\"#000000\" stroke-opacity=\"0.5\" stroke-width=\"4.8\"/>\n",
       "<circle clip-path=\"url(#clip744)\" cx=\"1098.62\" cy=\"2787.24\" r=\"18\" fill=\"#808080\" fill-rule=\"evenodd\" fill-opacity=\"0.5\" stroke=\"#000000\" stroke-opacity=\"0.5\" stroke-width=\"4.8\"/>\n",
       "<circle clip-path=\"url(#clip744)\" cx=\"1120.25\" cy=\"2326.54\" r=\"18\" fill=\"#808080\" fill-rule=\"evenodd\" fill-opacity=\"0.5\" stroke=\"#000000\" stroke-opacity=\"0.5\" stroke-width=\"4.8\"/>\n",
       "<circle clip-path=\"url(#clip744)\" cx=\"1141.87\" cy=\"2632.11\" r=\"18\" fill=\"#808080\" fill-rule=\"evenodd\" fill-opacity=\"0.5\" stroke=\"#000000\" stroke-opacity=\"0.5\" stroke-width=\"4.8\"/>\n",
       "<circle clip-path=\"url(#clip744)\" cx=\"1163.49\" cy=\"2614.9\" r=\"18\" fill=\"#808080\" fill-rule=\"evenodd\" fill-opacity=\"0.5\" stroke=\"#000000\" stroke-opacity=\"0.5\" stroke-width=\"4.8\"/>\n",
       "<circle clip-path=\"url(#clip744)\" cx=\"1185.12\" cy=\"2520\" r=\"18\" fill=\"#808080\" fill-rule=\"evenodd\" fill-opacity=\"0.5\" stroke=\"#000000\" stroke-opacity=\"0.5\" stroke-width=\"4.8\"/>\n",
       "<circle clip-path=\"url(#clip744)\" cx=\"1206.74\" cy=\"2702.33\" r=\"18\" fill=\"#808080\" fill-rule=\"evenodd\" fill-opacity=\"0.5\" stroke=\"#000000\" stroke-opacity=\"0.5\" stroke-width=\"4.8\"/>\n",
       "<circle clip-path=\"url(#clip744)\" cx=\"1228.36\" cy=\"2563.13\" r=\"18\" fill=\"#808080\" fill-rule=\"evenodd\" fill-opacity=\"0.5\" stroke=\"#000000\" stroke-opacity=\"0.5\" stroke-width=\"4.8\"/>\n",
       "<circle clip-path=\"url(#clip744)\" cx=\"1249.98\" cy=\"2503.34\" r=\"18\" fill=\"#808080\" fill-rule=\"evenodd\" fill-opacity=\"0.5\" stroke=\"#000000\" stroke-opacity=\"0.5\" stroke-width=\"4.8\"/>\n",
       "<circle clip-path=\"url(#clip744)\" cx=\"1271.61\" cy=\"2795.87\" r=\"18\" fill=\"#808080\" fill-rule=\"evenodd\" fill-opacity=\"0.5\" stroke=\"#000000\" stroke-opacity=\"0.5\" stroke-width=\"4.8\"/>\n",
       "<circle clip-path=\"url(#clip744)\" cx=\"1293.23\" cy=\"2470.14\" r=\"18\" fill=\"#808080\" fill-rule=\"evenodd\" fill-opacity=\"0.5\" stroke=\"#000000\" stroke-opacity=\"0.5\" stroke-width=\"4.8\"/>\n",
       "<circle clip-path=\"url(#clip744)\" cx=\"1314.85\" cy=\"2675.38\" r=\"18\" fill=\"#808080\" fill-rule=\"evenodd\" fill-opacity=\"0.5\" stroke=\"#000000\" stroke-opacity=\"0.5\" stroke-width=\"4.8\"/>\n",
       "<circle clip-path=\"url(#clip744)\" cx=\"1336.48\" cy=\"2395.11\" r=\"18\" fill=\"#808080\" fill-rule=\"evenodd\" fill-opacity=\"0.5\" stroke=\"#000000\" stroke-opacity=\"0.5\" stroke-width=\"4.8\"/>\n",
       "<circle clip-path=\"url(#clip744)\" cx=\"1358.1\" cy=\"2938.21\" r=\"18\" fill=\"#808080\" fill-rule=\"evenodd\" fill-opacity=\"0.5\" stroke=\"#000000\" stroke-opacity=\"0.5\" stroke-width=\"4.8\"/>\n",
       "<circle clip-path=\"url(#clip744)\" cx=\"1379.72\" cy=\"2297.31\" r=\"18\" fill=\"#808080\" fill-rule=\"evenodd\" fill-opacity=\"0.5\" stroke=\"#000000\" stroke-opacity=\"0.5\" stroke-width=\"4.8\"/>\n",
       "<circle clip-path=\"url(#clip744)\" cx=\"1401.35\" cy=\"2759.52\" r=\"18\" fill=\"#808080\" fill-rule=\"evenodd\" fill-opacity=\"0.5\" stroke=\"#000000\" stroke-opacity=\"0.5\" stroke-width=\"4.8\"/>\n",
       "<circle clip-path=\"url(#clip744)\" cx=\"1422.97\" cy=\"2796.8\" r=\"18\" fill=\"#808080\" fill-rule=\"evenodd\" fill-opacity=\"0.5\" stroke=\"#000000\" stroke-opacity=\"0.5\" stroke-width=\"4.8\"/>\n",
       "<circle clip-path=\"url(#clip744)\" cx=\"1444.59\" cy=\"2554.66\" r=\"18\" fill=\"#808080\" fill-rule=\"evenodd\" fill-opacity=\"0.5\" stroke=\"#000000\" stroke-opacity=\"0.5\" stroke-width=\"4.8\"/>\n",
       "<circle clip-path=\"url(#clip744)\" cx=\"1466.21\" cy=\"2427.6\" r=\"18\" fill=\"#808080\" fill-rule=\"evenodd\" fill-opacity=\"0.5\" stroke=\"#000000\" stroke-opacity=\"0.5\" stroke-width=\"4.8\"/>\n",
       "<circle clip-path=\"url(#clip744)\" cx=\"1487.84\" cy=\"2578.7\" r=\"18\" fill=\"#808080\" fill-rule=\"evenodd\" fill-opacity=\"0.5\" stroke=\"#000000\" stroke-opacity=\"0.5\" stroke-width=\"4.8\"/>\n",
       "<circle clip-path=\"url(#clip744)\" cx=\"1509.46\" cy=\"2671.93\" r=\"18\" fill=\"#808080\" fill-rule=\"evenodd\" fill-opacity=\"0.5\" stroke=\"#000000\" stroke-opacity=\"0.5\" stroke-width=\"4.8\"/>\n",
       "<circle clip-path=\"url(#clip744)\" cx=\"1531.08\" cy=\"2581.48\" r=\"18\" fill=\"#808080\" fill-rule=\"evenodd\" fill-opacity=\"0.5\" stroke=\"#000000\" stroke-opacity=\"0.5\" stroke-width=\"4.8\"/>\n",
       "<circle clip-path=\"url(#clip744)\" cx=\"1552.71\" cy=\"2477.75\" r=\"18\" fill=\"#808080\" fill-rule=\"evenodd\" fill-opacity=\"0.5\" stroke=\"#000000\" stroke-opacity=\"0.5\" stroke-width=\"4.8\"/>\n",
       "<circle clip-path=\"url(#clip744)\" cx=\"1574.33\" cy=\"2532.17\" r=\"18\" fill=\"#808080\" fill-rule=\"evenodd\" fill-opacity=\"0.5\" stroke=\"#000000\" stroke-opacity=\"0.5\" stroke-width=\"4.8\"/>\n",
       "<circle clip-path=\"url(#clip744)\" cx=\"1595.95\" cy=\"2646.08\" r=\"18\" fill=\"#808080\" fill-rule=\"evenodd\" fill-opacity=\"0.5\" stroke=\"#000000\" stroke-opacity=\"0.5\" stroke-width=\"4.8\"/>\n",
       "<circle clip-path=\"url(#clip744)\" cx=\"1617.58\" cy=\"2622.95\" r=\"18\" fill=\"#808080\" fill-rule=\"evenodd\" fill-opacity=\"0.5\" stroke=\"#000000\" stroke-opacity=\"0.5\" stroke-width=\"4.8\"/>\n",
       "<circle clip-path=\"url(#clip744)\" cx=\"1639.2\" cy=\"2705.09\" r=\"18\" fill=\"#808080\" fill-rule=\"evenodd\" fill-opacity=\"0.5\" stroke=\"#000000\" stroke-opacity=\"0.5\" stroke-width=\"4.8\"/>\n",
       "<circle clip-path=\"url(#clip744)\" cx=\"1660.82\" cy=\"2488.28\" r=\"18\" fill=\"#808080\" fill-rule=\"evenodd\" fill-opacity=\"0.5\" stroke=\"#000000\" stroke-opacity=\"0.5\" stroke-width=\"4.8\"/>\n",
       "<circle clip-path=\"url(#clip744)\" cx=\"1682.44\" cy=\"2528.71\" r=\"18\" fill=\"#808080\" fill-rule=\"evenodd\" fill-opacity=\"0.5\" stroke=\"#000000\" stroke-opacity=\"0.5\" stroke-width=\"4.8\"/>\n",
       "<circle clip-path=\"url(#clip744)\" cx=\"1704.07\" cy=\"2678.58\" r=\"18\" fill=\"#808080\" fill-rule=\"evenodd\" fill-opacity=\"0.5\" stroke=\"#000000\" stroke-opacity=\"0.5\" stroke-width=\"4.8\"/>\n",
       "<circle clip-path=\"url(#clip744)\" cx=\"1725.69\" cy=\"2483.12\" r=\"18\" fill=\"#808080\" fill-rule=\"evenodd\" fill-opacity=\"0.5\" stroke=\"#000000\" stroke-opacity=\"0.5\" stroke-width=\"4.8\"/>\n",
       "<circle clip-path=\"url(#clip744)\" cx=\"1747.31\" cy=\"2607.48\" r=\"18\" fill=\"#808080\" fill-rule=\"evenodd\" fill-opacity=\"0.5\" stroke=\"#000000\" stroke-opacity=\"0.5\" stroke-width=\"4.8\"/>\n",
       "<circle clip-path=\"url(#clip744)\" cx=\"1768.94\" cy=\"2593.06\" r=\"18\" fill=\"#808080\" fill-rule=\"evenodd\" fill-opacity=\"0.5\" stroke=\"#000000\" stroke-opacity=\"0.5\" stroke-width=\"4.8\"/>\n",
       "<circle clip-path=\"url(#clip744)\" cx=\"1790.56\" cy=\"2611.76\" r=\"18\" fill=\"#808080\" fill-rule=\"evenodd\" fill-opacity=\"0.5\" stroke=\"#000000\" stroke-opacity=\"0.5\" stroke-width=\"4.8\"/>\n",
       "<circle clip-path=\"url(#clip744)\" cx=\"1812.18\" cy=\"2384.31\" r=\"18\" fill=\"#808080\" fill-rule=\"evenodd\" fill-opacity=\"0.5\" stroke=\"#000000\" stroke-opacity=\"0.5\" stroke-width=\"4.8\"/>\n",
       "<circle clip-path=\"url(#clip744)\" cx=\"1833.8\" cy=\"2433.46\" r=\"18\" fill=\"#808080\" fill-rule=\"evenodd\" fill-opacity=\"0.5\" stroke=\"#000000\" stroke-opacity=\"0.5\" stroke-width=\"4.8\"/>\n",
       "<circle clip-path=\"url(#clip744)\" cx=\"1855.43\" cy=\"2671.22\" r=\"18\" fill=\"#808080\" fill-rule=\"evenodd\" fill-opacity=\"0.5\" stroke=\"#000000\" stroke-opacity=\"0.5\" stroke-width=\"4.8\"/>\n",
       "<circle clip-path=\"url(#clip744)\" cx=\"1877.05\" cy=\"2540.66\" r=\"18\" fill=\"#808080\" fill-rule=\"evenodd\" fill-opacity=\"0.5\" stroke=\"#000000\" stroke-opacity=\"0.5\" stroke-width=\"4.8\"/>\n",
       "<circle clip-path=\"url(#clip744)\" cx=\"1898.67\" cy=\"2250.81\" r=\"18\" fill=\"#808080\" fill-rule=\"evenodd\" fill-opacity=\"0.5\" stroke=\"#000000\" stroke-opacity=\"0.5\" stroke-width=\"4.8\"/>\n",
       "<circle clip-path=\"url(#clip744)\" cx=\"1920.3\" cy=\"2471.64\" r=\"18\" fill=\"#808080\" fill-rule=\"evenodd\" fill-opacity=\"0.5\" stroke=\"#000000\" stroke-opacity=\"0.5\" stroke-width=\"4.8\"/>\n",
       "<circle clip-path=\"url(#clip744)\" cx=\"1941.92\" cy=\"2515.03\" r=\"18\" fill=\"#808080\" fill-rule=\"evenodd\" fill-opacity=\"0.5\" stroke=\"#000000\" stroke-opacity=\"0.5\" stroke-width=\"4.8\"/>\n",
       "<circle clip-path=\"url(#clip744)\" cx=\"1963.54\" cy=\"2422\" r=\"18\" fill=\"#808080\" fill-rule=\"evenodd\" fill-opacity=\"0.5\" stroke=\"#000000\" stroke-opacity=\"0.5\" stroke-width=\"4.8\"/>\n",
       "<circle clip-path=\"url(#clip744)\" cx=\"1985.17\" cy=\"2687.33\" r=\"18\" fill=\"#808080\" fill-rule=\"evenodd\" fill-opacity=\"0.5\" stroke=\"#000000\" stroke-opacity=\"0.5\" stroke-width=\"4.8\"/>\n",
       "<circle clip-path=\"url(#clip744)\" cx=\"2006.79\" cy=\"2619.52\" r=\"18\" fill=\"#808080\" fill-rule=\"evenodd\" fill-opacity=\"0.5\" stroke=\"#000000\" stroke-opacity=\"0.5\" stroke-width=\"4.8\"/>\n",
       "<circle clip-path=\"url(#clip744)\" cx=\"2028.41\" cy=\"2713.51\" r=\"18\" fill=\"#808080\" fill-rule=\"evenodd\" fill-opacity=\"0.5\" stroke=\"#000000\" stroke-opacity=\"0.5\" stroke-width=\"4.8\"/>\n",
       "<circle clip-path=\"url(#clip744)\" cx=\"2050.03\" cy=\"2862.62\" r=\"18\" fill=\"#808080\" fill-rule=\"evenodd\" fill-opacity=\"0.5\" stroke=\"#000000\" stroke-opacity=\"0.5\" stroke-width=\"4.8\"/>\n",
       "<circle clip-path=\"url(#clip744)\" cx=\"2071.66\" cy=\"2506.5\" r=\"18\" fill=\"#808080\" fill-rule=\"evenodd\" fill-opacity=\"0.5\" stroke=\"#000000\" stroke-opacity=\"0.5\" stroke-width=\"4.8\"/>\n",
       "<circle clip-path=\"url(#clip744)\" cx=\"2093.28\" cy=\"2503.51\" r=\"18\" fill=\"#808080\" fill-rule=\"evenodd\" fill-opacity=\"0.5\" stroke=\"#000000\" stroke-opacity=\"0.5\" stroke-width=\"4.8\"/>\n",
       "<circle clip-path=\"url(#clip744)\" cx=\"2114.9\" cy=\"2489.7\" r=\"18\" fill=\"#808080\" fill-rule=\"evenodd\" fill-opacity=\"0.5\" stroke=\"#000000\" stroke-opacity=\"0.5\" stroke-width=\"4.8\"/>\n",
       "<circle clip-path=\"url(#clip744)\" cx=\"2136.53\" cy=\"2368.37\" r=\"18\" fill=\"#808080\" fill-rule=\"evenodd\" fill-opacity=\"0.5\" stroke=\"#000000\" stroke-opacity=\"0.5\" stroke-width=\"4.8\"/>\n",
       "<circle clip-path=\"url(#clip744)\" cx=\"2158.15\" cy=\"2716.42\" r=\"18\" fill=\"#808080\" fill-rule=\"evenodd\" fill-opacity=\"0.5\" stroke=\"#000000\" stroke-opacity=\"0.5\" stroke-width=\"4.8\"/>\n",
       "<circle clip-path=\"url(#clip744)\" cx=\"2179.77\" cy=\"2289.27\" r=\"18\" fill=\"#808080\" fill-rule=\"evenodd\" fill-opacity=\"0.5\" stroke=\"#000000\" stroke-opacity=\"0.5\" stroke-width=\"4.8\"/>\n",
       "<circle clip-path=\"url(#clip744)\" cx=\"2201.4\" cy=\"2800.52\" r=\"18\" fill=\"#808080\" fill-rule=\"evenodd\" fill-opacity=\"0.5\" stroke=\"#000000\" stroke-opacity=\"0.5\" stroke-width=\"4.8\"/>\n",
       "<circle clip-path=\"url(#clip744)\" cx=\"2223.02\" cy=\"2692.26\" r=\"18\" fill=\"#808080\" fill-rule=\"evenodd\" fill-opacity=\"0.5\" stroke=\"#000000\" stroke-opacity=\"0.5\" stroke-width=\"4.8\"/>\n",
       "<circle clip-path=\"url(#clip744)\" cx=\"2244.64\" cy=\"2843.22\" r=\"18\" fill=\"#808080\" fill-rule=\"evenodd\" fill-opacity=\"0.5\" stroke=\"#000000\" stroke-opacity=\"0.5\" stroke-width=\"4.8\"/>\n",
       "<circle clip-path=\"url(#clip744)\" cx=\"2266.26\" cy=\"2722.87\" r=\"18\" fill=\"#808080\" fill-rule=\"evenodd\" fill-opacity=\"0.5\" stroke=\"#000000\" stroke-opacity=\"0.5\" stroke-width=\"4.8\"/>\n",
       "<circle clip-path=\"url(#clip744)\" cx=\"2287.89\" cy=\"2446.85\" r=\"18\" fill=\"#808080\" fill-rule=\"evenodd\" fill-opacity=\"0.5\" stroke=\"#000000\" stroke-opacity=\"0.5\" stroke-width=\"4.8\"/>\n",
       "<circle clip-path=\"url(#clip744)\" cx=\"2309.51\" cy=\"2570.32\" r=\"18\" fill=\"#808080\" fill-rule=\"evenodd\" fill-opacity=\"0.5\" stroke=\"#000000\" stroke-opacity=\"0.5\" stroke-width=\"4.8\"/>\n",
       "<circle clip-path=\"url(#clip744)\" cx=\"2331.13\" cy=\"2631.3\" r=\"18\" fill=\"#808080\" fill-rule=\"evenodd\" fill-opacity=\"0.5\" stroke=\"#000000\" stroke-opacity=\"0.5\" stroke-width=\"4.8\"/>\n",
       "<polyline clip-path=\"url(#clip744)\" style=\"stroke:#050505; stroke-width:4; stroke-opacity:1; fill:none\" stroke-dasharray=\"16, 10\" points=\"\n",
       "  1292.8,3795.17 1292.8,1373.28 \n",
       "  \"/>\n",
       "<path clip-path=\"url(#clip740)\" d=\"\n",
       "M283.438 2960.96 L845.652 2960.96 L845.652 2658.56 L283.438 2658.56  Z\n",
       "  \" fill=\"#ffffff\" fill-rule=\"evenodd\" fill-opacity=\"1\"/>\n",
       "<polyline clip-path=\"url(#clip740)\" style=\"stroke:#000000; stroke-width:4; stroke-opacity:1; fill:none\" points=\"\n",
       "  283.438,2960.96 845.652,2960.96 845.652,2658.56 283.438,2658.56 283.438,2960.96 \n",
       "  \"/>\n",
       "<polyline clip-path=\"url(#clip740)\" style=\"stroke:#008080; stroke-width:5; stroke-opacity:1; fill:none\" points=\"\n",
       "  307.223,2734.16 449.935,2734.16 \n",
       "  \"/>\n",
       "<g clip-path=\"url(#clip740)\">\n",
       "<text style=\"fill:#000000; fill-opacity:1; font-family:Arial,Helvetica Neue,Helvetica,sans-serif; font-size:59px; text-anchor:start;\" transform=\"rotate(0, 473.72, 2755.66)\" x=\"473.72\" y=\"2755.66\">True</text>\n",
       "</g>\n",
       "<polyline clip-path=\"url(#clip740)\" style=\"stroke:#ee4000; stroke-width:5; stroke-opacity:1; fill:none\" stroke-dasharray=\"20, 13\" points=\"\n",
       "  307.223,2809.76 449.935,2809.76 \n",
       "  \"/>\n",
       "<g clip-path=\"url(#clip740)\">\n",
       "<text style=\"fill:#000000; fill-opacity:1; font-family:Arial,Helvetica Neue,Helvetica,sans-serif; font-size:59px; text-anchor:start;\" transform=\"rotate(0, 473.72, 2831.26)\" x=\"473.72\" y=\"2831.26\">sEnKF</text>\n",
       "</g>\n",
       "<circle clip-path=\"url(#clip740)\" cx=\"378.579\" cy=\"2885.36\" r=\"28\" fill=\"#808080\" fill-rule=\"evenodd\" fill-opacity=\"0.5\" stroke=\"#000000\" stroke-opacity=\"0.5\" stroke-width=\"7.68\"/>\n",
       "<g clip-path=\"url(#clip740)\">\n",
       "<text style=\"fill:#000000; fill-opacity:1; font-family:Arial,Helvetica Neue,Helvetica,sans-serif; font-size:59px; text-anchor:start;\" transform=\"rotate(0, 473.72, 2906.86)\" x=\"473.72\" y=\"2906.86\">Observation</text>\n",
       "</g>\n",
       "</svg>\n"
      ]
     },
     "execution_count": 25,
     "metadata": {},
     "output_type": "execute_result"
    }
   ],
   "source": [
    "nb = 1\n",
    "ne = Tspin+Tsmf\n",
    "Δ = 50\n",
    "plt = plot(layout = grid(3,1), xlim = (-Inf, Inf), ylim = (-Inf, Inf), xlabel = L\"t\", \n",
    "           size = (600, 800))\n",
    "\n",
    "for i =1:3\n",
    "    plot!(plt[i,1], data.tt[nb:Δ:ne], data.xt[i,nb:Δ:ne], linewidth =  3, color = :teal, \n",
    "          ylabel = latexstring(\"x_\"*string(i)), legend = :bottomleft, label = \"True\")\n",
    "    plot!(plt[i,1], data.tt[nb:Δ:ne], mean_hist(vcat(Xenkf[1:Tspin+1], Xsmf[2:end]))[i,1+nb:Δ:1+ne], linewidth = 3, grid = false,\n",
    "          color = :orangered2, linestyle = :dash, label = \"sEnKF\")\n",
    "    scatter!(plt[i,1], data.tt[nb:Δ:ne], data.yt[i,nb:Δ:ne], linewidth = 3, color = :grey, \n",
    "          markersize = 5, alpha = 0.5, label  = \"Observation\")\n",
    "    vline!(plt[i,1], [tspin], color = :grey2, linestyle = :dash, label = \"\")\n",
    "end\n",
    "\n",
    "plt"
   ]
  }
 ],
 "metadata": {
  "kernelspec": {
   "display_name": "Julia 1.5.3",
   "language": "julia",
   "name": "julia-1.5"
  },
  "language_info": {
   "file_extension": ".jl",
   "mimetype": "application/julia",
   "name": "julia",
   "version": "1.5.3"
  }
 },
 "nbformat": 4,
 "nbformat_minor": 2
}
