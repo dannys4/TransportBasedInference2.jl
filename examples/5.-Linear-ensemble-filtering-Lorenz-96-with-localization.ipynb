{
 "cells": [
  {
   "cell_type": "markdown",
   "metadata": {},
   "source": [
    "## 5. Linear ensemble filtering Lorenz-96 problem with localization"
   ]
  },
  {
   "cell_type": "markdown",
   "metadata": {},
   "source": [
    "In this notebook, we apply the stochastic ensemble Kalman filter to the Lorenz-96 problem.\n",
    "\n",
    "To regularize the inference problem, we use a localization radius `L` to cut-off long-range correlations and improve the conditioning of the covariance matrix. We refers readers to Asch et al. [2] for further details.\n",
    "\n",
    "[1] Evensen, G., 1994. Sequential data assimilation with a nonlinear quasi‐geostrophic model using Monte Carlo methods to forecast error statistics. Journal of Geophysical Research: Oceans, 99(C5), pp.10143-10162.\n",
    "\n",
    "[2] Asch, M., Bocquet, M. and Nodet, M., 2016. Data assimilation: methods, algorithms, and applications. Society for Industrial and Applied Mathematics.\n",
    "\n",
    "[3] Bishop, C.H., Etherton, B.J. and Majumdar, S.J., 2001. Adaptive sampling with the ensemble transform Kalman filter. Part I: Theoretical aspects. Monthly weather review, 129(3), pp.420-436. \n",
    "\n",
    "[4] Lorenz, E.N., 1963. Deterministic nonperiodic flow. Journal of atmospheric sciences, 20(2), pp.130-141.\n",
    "\n",
    "[5] Spantini, A., Baptista, R. and Marzouk, Y., 2019. Coupling techniques for nonlinear ensemble filtering. arXiv preprint arXiv:1907.00389.\n",
    "\n",
    "[6] Evensen, G. (2003). The ensemble Kalman filter: Theoretical formulation and practical implementation. Ocean dynamics, 53(4), 343-367.\n",
    "\n",
    "[7] Tsitouras, C. (2011). Runge–Kutta pairs of order 5 (4) satisfying only the first column simplifying assumption. Computers & Mathematics with Applications, 62(2), 770-775."
   ]
  },
  {
   "cell_type": "code",
   "execution_count": null,
   "metadata": {},
   "outputs": [],
   "source": [
    "using Revise\n",
    "using LinearAlgebra\n",
    "using TransportBasedInference\n",
    "using Statistics\n",
    "using Distributions"
   ]
  },
  {
   "cell_type": "markdown",
   "metadata": {},
   "source": [
    "Load some packages to make nice figures"
   ]
  },
  {
   "cell_type": "code",
   "execution_count": null,
   "metadata": {},
   "outputs": [],
   "source": [
    "using Plots\n",
    "default(tickfont = font(\"CMU Serif\", 9), \n",
    "        titlefont = font(\"CMU Serif\", 14), \n",
    "        guidefont = font(\"CMU Serif\", 12),\n",
    "        legendfont = font(\"CMU Serif\", 10),\n",
    "        grid = false)\n",
    "pyplot()\n",
    "\n",
    "using LaTeXStrings\n",
    "PyPlot.rc(\"font\", family = \"CMU Serif\")\n",
    "PyPlot.matplotlib[:rc](\"mathtext\",fontset=\"cm\")        #computer modern font \n",
    "PyPlot.matplotlib[:rc](\"font\",family=\"serif\",size=12)\n",
    "\n",
    "using ColorSchemes"
   ]
  },
  {
   "cell_type": "markdown",
   "metadata": {},
   "source": [
    "The Lorenz-96 model  is a famous problem used in data assimilation and weather prediction. It was derived from first principles as a one-dimensional model for the response of the mid-latitude atmosphere to forcing input. For certain forcing input, it can exhibit a chaotic behavior: sensitivity to initial conditions, strong mixing... The forty-dimensional state $\\boldsymbol{x} = (x_1, \\ldots, x_{40})$ at time $t$ is governed by the following set of ordinary differential equations: \n",
    "\\begin{equation}\n",
    "\\label{eqn:lorenz96}\n",
    "\\frac{\\mathrm{d} x_i}{\\mathrm{d} t} = (x_{i+1} - x_{i-2}) x_{i-1} - x_{i} + F, \\quad \\mbox{for } i = 1, \\ldots, 40,\n",
    "\\end{equation}\n",
    "with periodic boundary conditions, setting the forcing input $F=8.0$ leads to chaos. We reproduce the hard configuration case of Spantini et al. [5]. We integrate this system of ODEs with time step $\\Delta t_{dyn} = 0.05$. We observe the state with $\\Delta t_{obs}=0.4$, every two components ($x_1, x_3, x_5, \\ldots, x_{39})$. The large time interval between two assimilation makes the problem particularly challenging and enhances the non-Gaussianity. The initial distribution $\\pi_{\\mathsf{X}_0}$ is the standard Gaussian. We assume that there is no process noise. The measurement noise has a Gaussian distribution with zero mean and covariance $\\theta^2\\boldsymbol{I}_{20}$ where $\\theta^2 = 0.5$."
   ]
  },
  {
   "cell_type": "markdown",
   "metadata": {},
   "source": [
    "### Simple twin-experiment"
   ]
  },
  {
   "cell_type": "markdown",
   "metadata": {},
   "source": [
    "Define the dimension of the state and observation vectors"
   ]
  },
  {
   "cell_type": "code",
   "execution_count": null,
   "metadata": {},
   "outputs": [],
   "source": [
    "Nx = 40\n",
    "Ny = 20"
   ]
  },
  {
   "cell_type": "markdown",
   "metadata": {},
   "source": [
    "Define the time steps $\\Delta t_{dyn}, \\Delta t_{obs}$  of the dynamical and observation models. Observations from the truth are assimilated every $\\Delta t_{obs}$."
   ]
  },
  {
   "cell_type": "code",
   "execution_count": null,
   "metadata": {},
   "outputs": [],
   "source": [
    "Δtdyn = 0.01\n",
    "Δtobs = 0.4"
   ]
  },
  {
   "cell_type": "markdown",
   "metadata": {},
   "source": [
    "Define the time span of interest"
   ]
  },
  {
   "cell_type": "code",
   "execution_count": null,
   "metadata": {},
   "outputs": [],
   "source": [
    "t0 = 0.0\n",
    "tf = 100.0\n",
    "Tf = ceil(Int64, (tf-t0)/Δtobs)"
   ]
  },
  {
   "cell_type": "markdown",
   "metadata": {},
   "source": [
    " Define the distribution for the initial condition $\\pi_{\\mathsf{X}_0}$"
   ]
  },
  {
   "cell_type": "code",
   "execution_count": null,
   "metadata": {},
   "outputs": [],
   "source": [
    "π0 = MvNormal(zeros(Nx), Matrix(1.0*I, Nx, Nx))"
   ]
  },
  {
   "cell_type": "markdown",
   "metadata": {},
   "source": [
    "We construct the state-space representation `F` of the system composed of the deterministic part of the dynamical and observation models. \n",
    "\n",
    "The dynamical model is provided by the right hand side of the ODE to solve. For a system of ODEs, we will prefer an in-place syntax `f(du, u, p, t)`, where `p` are parameters of the model.\n",
    "We rely on `OrdinaryDiffEq` to integrate the dynamical system with the Tsitouras 5/4 Runge-Kutta method adaptive time marching [7]. \n",
    "\n",
    "We assume that the state is observed every two components."
   ]
  },
  {
   "cell_type": "code",
   "execution_count": null,
   "metadata": {},
   "outputs": [],
   "source": [
    "h(x, t) = x[1:2:end]\n",
    "h(x, idx, t) = x[idx]\n",
    "\n",
    "F = StateSpace(lorenz96!, h)"
   ]
  },
  {
   "cell_type": "markdown",
   "metadata": {},
   "source": [
    "`ϵx` defines the additive process noise applied between the forecast step and the analysis step. The process noise is applied before to sample form the likelihood.\n",
    "\n",
    "`ϵy` defines the additive observation noise. \n",
    "\n",
    "We assume that these noises have Gaussian distribution."
   ]
  },
  {
   "cell_type": "code",
   "execution_count": null,
   "metadata": {},
   "outputs": [],
   "source": [
    "σx = 1e-6\n",
    "σy = 0.5\n",
    "\n",
    "ϵx = AdditiveInflation(Nx, zeros(Nx), σx)\n",
    "ϵy = AdditiveInflation(Ny, zeros(Ny), σy)"
   ]
  },
  {
   "cell_type": "code",
   "execution_count": null,
   "metadata": {},
   "outputs": [],
   "source": [
    "model = Model(Nx, Ny, Δtdyn, Δtobs, ϵx, ϵy, π0, 0, 0, 0, F);"
   ]
  },
  {
   "cell_type": "markdown",
   "metadata": {},
   "source": [
    "Set initial condition of the true system"
   ]
  },
  {
   "cell_type": "code",
   "execution_count": null,
   "metadata": {},
   "outputs": [],
   "source": [
    "x0 = rand(model.π0);"
   ]
  },
  {
   "cell_type": "markdown",
   "metadata": {},
   "source": [
    "Run dynamics and generate data"
   ]
  },
  {
   "cell_type": "code",
   "execution_count": null,
   "metadata": {},
   "outputs": [],
   "source": [
    "@time data = generate_lorenz96(model, x0, Tf);"
   ]
  },
  {
   "cell_type": "markdown",
   "metadata": {},
   "source": [
    "Define a stochastic ensemble Kalman filter without localization"
   ]
  },
  {
   "cell_type": "code",
   "execution_count": null,
   "metadata": {},
   "outputs": [],
   "source": [
    "senkf = StochEnKF(model.ϵy, model.Δtdyn, model.Δtobs)"
   ]
  },
  {
   "cell_type": "markdown",
   "metadata": {},
   "source": [
    "Define a stochastic ensemble Kalman filter with localization"
   ]
  },
  {
   "cell_type": "code",
   "execution_count": null,
   "metadata": {},
   "outputs": [],
   "source": [
    "Δ = 2\n",
    "yidx = 1:Δ:model.Nx\n",
    "idx = vcat(collect(1:length(yidx))', collect(yidx)')\n",
    "β = 1.0\n",
    "Lrad = 6\n",
    "\n",
    "senkfloc = SeqStochEnKF(x->x, F.h, MultiplicativeInflation(β), model.ϵy, Ny, Nx, model.Δtdyn, model.Δtobs, \n",
    "                    idx, zeros(Nx+1, Ne), false, true)\n",
    "\n",
    "# Create Localization structure\n",
    "Gxy(i,j) = periodicmetric!(i,yidx[j], model.Nx)\n",
    "Gyy(i,j) = periodicmetric!(yidx[i],yidx[j], model.Nx)\n",
    "Loc = Localization(Lrad, Gxy, Gyy)"
   ]
  },
  {
   "cell_type": "markdown",
   "metadata": {},
   "source": [
    "Initialize the ensemble matrix `X` $\\in \\mathbb{R}^{(N_y + N_x) \\times N_e}$."
   ]
  },
  {
   "cell_type": "code",
   "execution_count": null,
   "metadata": {},
   "outputs": [],
   "source": [
    "Ne = 100 #ensemble size\n",
    "X = zeros(model.Ny + model.Nx, Ne)\n",
    "\n",
    "# Generate the initial conditions for the state.\n",
    "viewstate(X, model.Ny, model.Nx) .= rand(model.π0, Ne);"
   ]
  },
  {
   "cell_type": "markdown",
   "metadata": {},
   "source": [
    "Apply the sequential filter over the time window"
   ]
  },
  {
   "cell_type": "markdown",
   "metadata": {},
   "source": [
    "The function `seqassim` provides a friendly API to experiment with the different ensemble filters, the tuning of the different inflation parameters..."
   ]
  },
  {
   "cell_type": "markdown",
   "metadata": {},
   "source": [
    "Without localization"
   ]
  },
  {
   "cell_type": "code",
   "execution_count": null,
   "metadata": {},
   "outputs": [],
   "source": [
    "@time Xsenkf = seqassim(F, data, Tf, model.ϵx, senkf, deepcopy(X), model.Ny, model.Nx, t0);"
   ]
  },
  {
   "cell_type": "markdown",
   "metadata": {},
   "source": [
    "RMSE without localization"
   ]
  },
  {
   "cell_type": "code",
   "execution_count": null,
   "metadata": {},
   "outputs": [],
   "source": [
    "mean(map(i->norm(data.xt[:,i]-mean(Xsenkf[i+1]; dims = 2))/sqrt(Nx), 1:Tf))"
   ]
  },
  {
   "cell_type": "markdown",
   "metadata": {},
   "source": [
    "`mean_hist` stacked together the ensemble mean over the assimilation window."
   ]
  },
  {
   "cell_type": "code",
   "execution_count": null,
   "metadata": {},
   "outputs": [],
   "source": [
    "# Plot the first component of the state over time\n",
    "nb = 1\n",
    "ne = size(Xsenkf,1)-1\n",
    "Δ = 1\n",
    "plt = plot(xlim = (-Inf, Inf), ylim = (-Inf, Inf), xlabel = L\"t\", ylabel = L\"x_1\")\n",
    "plot!(plt, data.tt[nb:Δ:ne], data.xt[1,nb:Δ:ne], linewidth =  3, color = :teal, label = \"True\")\n",
    "plot!(plt, data.tt[nb:Δ:ne], mean_hist(Xsenkf)[1,1+nb:Δ:1+ne], linewidth = 3, grid = false,\n",
    "     color = :orangered2, linestyle = :dash, label = \"sEnKF\")\n",
    "scatter!(plt, data.tt[nb:Δ:ne], data.yt[1,nb:Δ:ne], linewidth = 3, color = :grey, markersize = 5, alpha = 0.5, label = \"Observation\")\n",
    "plt"
   ]
  },
  {
   "cell_type": "code",
   "execution_count": null,
   "metadata": {},
   "outputs": [],
   "source": [
    "nb = 100\n",
    "ne = size(Xsenkf,1)-1\n",
    "Δ = 1\n",
    "\n",
    "plt = plot(layout = grid(3,1), xlabel = L\"t\", ylabel = \"State index\")\n",
    "contourf!(plt[1,1], data.xt[:,nb:Δ:ne], color = :plasma)\n",
    "contourf!(plt[2,1], mean_hist(Xsenkf)[:,1+nb:Δ:1+ne], color = :plasma)\n",
    "contourf!(plt[3,1], abs.(mean_hist(Xsenkf)[:,1+nb:Δ:1+ne] .- data.xt[:,nb:Δ:ne]), color = :plasma)"
   ]
  },
  {
   "cell_type": "markdown",
   "metadata": {},
   "source": [
    "Localization can easily be added as a regularization of the analysis step as follows"
   ]
  },
  {
   "cell_type": "code",
   "execution_count": null,
   "metadata": {},
   "outputs": [],
   "source": [
    "@time Xsenkfloc = seqassim(F, data, Tf, model.ϵx, senkfloc, deepcopy(X), model.Ny, model.Nx, t0, Loc);"
   ]
  },
  {
   "cell_type": "markdown",
   "metadata": {},
   "source": [
    "RMSE with localization"
   ]
  },
  {
   "cell_type": "code",
   "execution_count": null,
   "metadata": {},
   "outputs": [],
   "source": [
    "mean(map(i->norm(data.xt[:,i]-mean(Xsenkfloc[i+1]; dims = 2))/sqrt(Nx), 1:Tf))"
   ]
  },
  {
   "cell_type": "code",
   "execution_count": null,
   "metadata": {},
   "outputs": [],
   "source": [
    "# Plot the first component of the state over time\n",
    "nb = 1\n",
    "ne = size(Xsenkf,1)-1\n",
    "Δ = 1\n",
    "plt = plot(xlim = (-Inf, Inf), ylim = (-Inf, Inf), xlabel = L\"t\", ylabel = L\"x_1\")\n",
    "plot!(plt, data.tt[nb:Δ:ne], data.xt[1,nb:Δ:ne], linewidth =  3, color = :teal, label = \"True\")\n",
    "plot!(plt, data.tt[nb:Δ:ne], mean_hist(Xsenkfloc)[1,1+nb:Δ:1+ne], linewidth = 3, grid = false,\n",
    "     color = :orangered2, linestyle = :dash, label = \"sEnKF\")\n",
    "scatter!(plt, data.tt[nb:Δ:ne], data.yt[1,nb:Δ:ne], linewidth = 3, color = :grey, markersize = 5, alpha = 0.5, label = \"Observation\")\n",
    "plt"
   ]
  },
  {
   "cell_type": "code",
   "execution_count": null,
   "metadata": {},
   "outputs": [],
   "source": [
    "nb = 100\n",
    "ne = size(Xsenkfloc,1)-1\n",
    "Δ = 1\n",
    "\n",
    "plt = plot(layout = grid(3,1), xlabel = L\"t\", ylabel = \"State index\")\n",
    "contourf!(plt[1,1], data.xt[:,nb:Δ:ne], color = :plasma)\n",
    "contourf!(plt[2,1], mean_hist(Xsenkfloc)[:,1+nb:Δ:1+ne], color = :plasma)\n",
    "contourf!(plt[3,1], abs.(mean_hist(Xsenkfloc)[:,1+nb:Δ:1+ne] .- data.xt[:,nb:Δ:ne]), color = :plasma)"
   ]
  },
  {
   "cell_type": "code",
   "execution_count": null,
   "metadata": {},
   "outputs": [],
   "source": []
  },
  {
   "cell_type": "code",
   "execution_count": null,
   "metadata": {},
   "outputs": [],
   "source": []
  }
 ],
 "metadata": {
  "kernelspec": {
   "display_name": "Julia 1.5.3",
   "language": "julia",
   "name": "julia-1.5"
  },
  "language_info": {
   "file_extension": ".jl",
   "mimetype": "application/julia",
   "name": "julia",
   "version": "1.5.3"
  }
 },
 "nbformat": 4,
 "nbformat_minor": 2
}
