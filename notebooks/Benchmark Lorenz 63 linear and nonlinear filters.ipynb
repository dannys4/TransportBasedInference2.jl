{
 "cells": [
  {
   "cell_type": "markdown",
   "metadata": {},
   "source": [
    "## Benchmark Lorenz 63 linear and nonlinear filters"
   ]
  },
  {
   "cell_type": "markdown",
   "metadata": {},
   "source": [
    "In this notebook, we are interested in the sequential inference \n",
    "\n",
    "\n",
    "\n",
    "References: \n",
    "\n",
    "\n",
    "[1] Evensen, G., 1994. Sequential data assimilation with a nonlinear quasi‐geostrophic model using Monte Carlo methods to forecast error statistics. Journal of Geophysical Research: Oceans, 99(C5), pp.10143-10162.\n",
    "\n",
    "[2] Asch, M., Bocquet, M. and Nodet, M., 2016. Data assimilation: methods, algorithms, and applications. Society for Industrial and Applied Mathematics.\n",
    "\n",
    "[3] Bishop, C.H., Etherton, B.J. and Majumdar, S.J., 2001. Adaptive sampling with the ensemble transform Kalman filter. Part I: Theoretical aspects. Monthly weather review, 129(3), pp.420-436. \n",
    "\n",
    "[4] Lorenz, E.N., 1963. Deterministic nonperiodic flow. Journal of atmospheric sciences, 20(2), pp.130-141.\n",
    "\n",
    "[5] Spantini, A., Baptista, R. and Marzouk, Y., 2019. Coupling techniques for nonlinear ensemble filtering. arXiv preprint arXiv:1907.00389."
   ]
  },
  {
   "cell_type": "markdown",
   "metadata": {},
   "source": [
    "### The basic steps\n",
    "To carry out sequential inference in `AdaptiveTransportMap`, we need to carry out a few basic steps:\n",
    "* **Specify the problem**: Define the state-space model: initial condition, dynamical and observation models (including process and observation noise)\n",
    "* **Specify the inflation parameters**: Determine the levels of covariance inflation to properly balance the dynamical system and the observations from the truth system\n",
    "* **Specify the filter**: Choose the ensemble filter to assimilate the observations in the state estimate\n",
    "* **Perform the sequential inference**: Perform the sequential inference\n",
    "\n",
    "We will go through all of these here."
   ]
  },
  {
   "cell_type": "code",
   "execution_count": 1,
   "metadata": {},
   "outputs": [
    {
     "name": "stderr",
     "output_type": "stream",
     "text": [
      "┌ Info: Precompiling AdaptiveTransportMap [bdf749b0-1400-4207-80d3-e689c0e3f03d]\n",
      "└ @ Base loading.jl:1278\n",
      "┌ Warning: Type annotations on keyword arguments not currently supported in recipes. Type information has been discarded\n",
      "└ @ RecipesBase ~/.julia/packages/RecipesBase/92zOw/src/RecipesBase.jl:116\n",
      "┌ Warning: Type annotations on keyword arguments not currently supported in recipes. Type information has been discarded\n",
      "└ @ RecipesBase ~/.julia/packages/RecipesBase/92zOw/src/RecipesBase.jl:116\n",
      "┌ Warning: Type annotations on keyword arguments not currently supported in recipes. Type information has been discarded\n",
      "└ @ RecipesBase ~/.julia/packages/RecipesBase/92zOw/src/RecipesBase.jl:116\n",
      "┌ Warning: Type annotations on keyword arguments not currently supported in recipes. Type information has been discarded\n",
      "└ @ RecipesBase ~/.julia/packages/RecipesBase/92zOw/src/RecipesBase.jl:116\n",
      "┌ Warning: Type annotations on keyword arguments not currently supported in recipes. Type information has been discarded\n",
      "└ @ RecipesBase ~/.julia/packages/RecipesBase/92zOw/src/RecipesBase.jl:116\n",
      "┌ Warning: Type annotations on keyword arguments not currently supported in recipes. Type information has been discarded\n",
      "└ @ RecipesBase ~/.julia/packages/RecipesBase/92zOw/src/RecipesBase.jl:116\n",
      "┌ Warning: Type annotations on keyword arguments not currently supported in recipes. Type information has been discarded\n",
      "└ @ RecipesBase ~/.julia/packages/RecipesBase/92zOw/src/RecipesBase.jl:116\n"
     ]
    }
   ],
   "source": [
    "using Revise\n",
    "using LinearAlgebra\n",
    "using AdaptiveTransportMap\n",
    "using Statistics\n",
    "using Distributions\n",
    "using OrdinaryDiffEq\n",
    "using JLD"
   ]
  },
  {
   "cell_type": "code",
   "execution_count": 2,
   "metadata": {},
   "outputs": [],
   "source": [
    "using DelimitedFiles"
   ]
  },
  {
   "cell_type": "markdown",
   "metadata": {},
   "source": [
    "Load some packages to make nice figures"
   ]
  },
  {
   "cell_type": "code",
   "execution_count": 3,
   "metadata": {},
   "outputs": [],
   "source": [
    "using Plots\n",
    "default(tickfont = font(\"CMU Serif\", 9), \n",
    "        titlefont = font(\"CMU Serif\", 14), \n",
    "        guidefont = font(\"CMU Serif\", 12),\n",
    "        legendfont = font(\"CMU Serif\", 10),\n",
    "        grid = false)\n",
    "# Plots.font(\"sans-serif\")\n",
    "# clibrary(:colorbrewer)\n",
    "# gr()\n",
    "pyplot()\n",
    "\n",
    "using LaTeXStrings\n",
    "# PyPlot.rc(\"text\", usetex = \"true\")\n",
    "# rcParams = PyPlot.PyDict(PyPlot.matplotlib.\"rcParams\")\n",
    "# rcParams[\"text.usetex\"] = true;\n",
    "PyPlot.rc(\"font\", family = \"CMU Serif\")\n",
    "PyPlot.matplotlib[:rc](\"mathtext\",fontset=\"cm\")        #computer modern font \n",
    "PyPlot.matplotlib[:rc](\"font\",family=\"serif\",size=12)\n",
    "\n",
    "using ColorSchemes"
   ]
  },
  {
   "cell_type": "markdown",
   "metadata": {},
   "source": [
    "The Lorenz-63  model is a three dimensional system that models the atmospheric convection [4]. This system is a classical benchmark problem in data assimilation. The state $\\boldsymbol{x} = (x_1, x_2, x_3)$ is governed by the following set of ordinary differential equations:\n",
    "\n",
    "\\begin{equation}\n",
    "\\begin{aligned}\n",
    "&\\frac{\\mathrm{d} x_1}{\\mathrm{d} t}=\\sigma(x_2-x_1)\\\\\n",
    "&\\frac{\\mathrm{d} x_2}{\\mathrm{d} t}=x_1(\\rho-x_2)-x_2\\\\\n",
    "&\\frac{\\mathrm{d} x_3}{\\mathrm{d} t}=x_1 x_2-\\beta x_3,\n",
    "\\end{aligned}\n",
    "\\end{equation}\n",
    "\n",
    "where $\\sigma = 10, \\beta = 8/3, \\rho = 28$. For these values, the system is chaotic and behaves like a strange attractor. We integrate this system of ODEs with time step $\\Delta t_{dyn} = 0.05$. The state is fully observed $h(t,\\boldsymbol{x}) = \\boldsymbol{x}$ with $\\Delta t_{obs}=0.1$. The initial distribution $\\pi_{\\mathsf{X}_0}$ is the standard Gaussian. The process noise is Gaussian with zero mean and covariance $10^{-4}\\boldsymbol{I}_3$. The measurement noise has a Gaussian distribution with zero mean and covariance $\\theta^2\\boldsymbol{I}_3$ where $\\theta^2 = 4.0$."
   ]
  },
  {
   "cell_type": "code",
   "execution_count": 6,
   "metadata": {},
   "outputs": [
    {
     "name": "stderr",
     "output_type": "stream",
     "text": [
      "\u001b[32mProgress: 100%|█████████████████████████████████████████| Time: 0:00:00\u001b[39m\n"
     ]
    },
    {
     "name": "stdout",
     "output_type": "stream",
     "text": [
      "Ne 10 RMSE: 0.5928069316894501\n"
     ]
    },
    {
     "name": "stderr",
     "output_type": "stream",
     "text": [
      "\u001b[32mProgress: 100%|█████████████████████████████████████████| Time: 0:00:00\u001b[39m\n"
     ]
    },
    {
     "name": "stdout",
     "output_type": "stream",
     "text": [
      "Ne 20 RMSE: 0.5444225927797981\n"
     ]
    },
    {
     "name": "stderr",
     "output_type": "stream",
     "text": [
      "\u001b[32mProgress: 100%|█████████████████████████████████████████| Time: 0:00:00\u001b[39m\n"
     ]
    },
    {
     "name": "stdout",
     "output_type": "stream",
     "text": [
      "Ne 40 RMSE: 0.4896839278465799\n"
     ]
    },
    {
     "name": "stderr",
     "output_type": "stream",
     "text": [
      "\u001b[32mProgress: 100%|█████████████████████████████████████████| Time: 0:00:01\u001b[39m\n"
     ]
    },
    {
     "name": "stdout",
     "output_type": "stream",
     "text": [
      "Ne 60 RMSE: 0.4794815325657096\n"
     ]
    },
    {
     "name": "stderr",
     "output_type": "stream",
     "text": [
      "\u001b[32mProgress: 100%|█████████████████████████████████████████| Time: 0:00:02\u001b[39m\n"
     ]
    },
    {
     "name": "stdout",
     "output_type": "stream",
     "text": [
      "Ne 100 RMSE: 0.4791869562532382\n"
     ]
    },
    {
     "name": "stderr",
     "output_type": "stream",
     "text": [
      "\u001b[32mProgress: 100%|█████████████████████████████████████████| Time: 0:00:03\u001b[39m\n"
     ]
    },
    {
     "name": "stdout",
     "output_type": "stream",
     "text": [
      "Ne 200 RMSE: 0.48105668064964185\n"
     ]
    },
    {
     "name": "stderr",
     "output_type": "stream",
     "text": [
      "\u001b[32mProgress: 100%|█████████████████████████████████████████| Time: 0:00:07\u001b[39m\n"
     ]
    },
    {
     "name": "stdout",
     "output_type": "stream",
     "text": [
      "Ne 400 RMSE: 0.48282592384478173\n"
     ]
    },
    {
     "name": "stderr",
     "output_type": "stream",
     "text": [
      "\u001b[32mProgress: 100%|█████████████████████████████████████████| Time: 0:00:20\u001b[39m\n"
     ]
    },
    {
     "name": "stdout",
     "output_type": "stream",
     "text": [
      "Ne 600 RMSE: 0.4846248170532807\n"
     ]
    }
   ],
   "source": [
    "path = \"/media/mat/HDD/AdaptiveTransportMap/notebooks/lorenz63/data/\"\n",
    "\n",
    "β_array = collect(0.95:0.01:1.05)\n",
    "Ne_array = [10, 20, 40, 60, 100, 200, 400, 600]\n",
    "\n",
    "model, data = setup_lorenz63(path, Ne_array);"
   ]
  },
  {
   "cell_type": "code",
   "execution_count": 7,
   "metadata": {},
   "outputs": [],
   "source": [
    "# save(path*\"lorenz63_data.jld\", \"data\", data)"
   ]
  },
  {
   "cell_type": "code",
   "execution_count": 8,
   "metadata": {},
   "outputs": [
    {
     "data": {
      "text/plain": [
       "SyntheticData([0.1, 0.2, 0.30000000000000004, 0.4, 0.5, 0.6000000000000001, 0.7000000000000001, 0.8, 0.9, 1.0  …  599.1, 599.2, 599.3000000000001, 599.4, 599.5, 599.6, 599.7, 599.8000000000001, 599.9, 600.0], [-0.22950363471447657, 0.9216676448369137, -0.2969466755253305], [0.5493777232168378 1.9325334655339608 … 5.846018274793296 3.9203793494802213; 1.3470852152857304 4.233634108048278 … 2.4991778332625634 3.3036939755885326; -0.20782547004567642 0.12823736565833915 … 28.37631893621292 22.834861253310663], [1.884515687964999 0.15701426740781987 … 4.525541006447913 3.4631303339151946; -0.05946240332624342 2.8307715835113862 … 4.382540618269552 3.697992563381411; -1.8223964161767956 -0.25316028804554913 … 29.750657308982625 26.336548121393665])"
      ]
     },
     "execution_count": 8,
     "metadata": {},
     "output_type": "execute_result"
    }
   ],
   "source": [
    "data = load(path*\"lorenz63_data.jld\", \"data\")"
   ]
  },
  {
   "cell_type": "code",
   "execution_count": 9,
   "metadata": {},
   "outputs": [],
   "source": [
    "Nx = 3\n",
    "Ny = 3\n",
    "Δtdyn = 0.05\n",
    "Δtobs = 0.1\n",
    "\n",
    "σx = 1e-6\n",
    "σy = 2.0\n",
    "\n",
    "ϵx = AdditiveInflation(Nx, zeros(Nx), σx)\n",
    "ϵy = AdditiveInflation(Ny, zeros(Ny), σy)\n",
    "tspinup = 200.0\n",
    "Tspinup = 2000\n",
    "tmetric = 400.0\n",
    "Tmetric = 4000\n",
    "t0 = 0.0\n",
    "tf = 600.0\n",
    "Tf = 6000\n",
    "\n",
    "Tburn = 2000\n",
    "Tstep = 4000\n",
    "Tspinup = 2000\n",
    "\n",
    "f = lorenz63!\n",
    "h(x, t) = x\n",
    "# Create a local version of the observation operator\n",
    "h(x, t, idx) = x[idx]\n",
    "F = StateSpace(lorenz63!, h)\n",
    "\n",
    "model = Model(Nx, Ny, Δtdyn, Δtobs, ϵx, ϵy, MvNormal(zeros(Nx), Matrix(1.0*I, Nx, Nx)), Tburn, Tstep, Tspinup, F);"
   ]
  },
  {
   "cell_type": "markdown",
   "metadata": {},
   "source": [
    "Benchmark for the Lorenz-63 problem with the sequential stochastic EnkF"
   ]
  },
  {
   "cell_type": "code",
   "execution_count": 10,
   "metadata": {
    "scrolled": true
   },
   "outputs": [
    {
     "name": "stdout",
     "output_type": "stream",
     "text": [
      "(Ne, β) = (10, 0.95)\n"
     ]
    },
    {
     "name": "stderr",
     "output_type": "stream",
     "text": [
      "\u001b[32mProgress: 100%|█████████████████████████████████████████| Time: 0:00:00\u001b[39m\n"
     ]
    },
    {
     "name": "stdout",
     "output_type": "stream",
     "text": [
      "  0.482059 seconds (3.65 M allocations: 331.523 MiB, 8.14% gc time)\n",
      "Ne = 10\n",
      "Ne 10& β 0.95 RMSE: 0.6663970586950805\n",
      "(Ne, β) = (10, 0.96)\n"
     ]
    },
    {
     "name": "stderr",
     "output_type": "stream",
     "text": [
      "\u001b[32mProgress: 100%|█████████████████████████████████████████| Time: 0:00:00\u001b[39m\n"
     ]
    },
    {
     "name": "stdout",
     "output_type": "stream",
     "text": [
      "  0.434502 seconds (3.43 M allocations: 320.851 MiB, 8.87% gc time)\n",
      "Ne = 10\n",
      "Ne 10& β 0.96 RMSE: 4.2005659601223435\n",
      "(Ne, β) = (10, 0.97)\n"
     ]
    },
    {
     "name": "stderr",
     "output_type": "stream",
     "text": [
      "\u001b[32mProgress: 100%|█████████████████████████████████████████| Time: 0:00:00\u001b[39m\n"
     ]
    },
    {
     "name": "stdout",
     "output_type": "stream",
     "text": [
      "  0.419540 seconds (3.43 M allocations: 320.851 MiB, 6.43% gc time)\n",
      "Ne = 10\n",
      "Ne 10& β 0.97 RMSE: 3.871272834443296\n",
      "(Ne, β) = (10, 0.98)\n"
     ]
    },
    {
     "name": "stderr",
     "output_type": "stream",
     "text": [
      "\u001b[32mProgress: 100%|█████████████████████████████████████████| Time: 0:00:00\u001b[39m\n"
     ]
    },
    {
     "name": "stdout",
     "output_type": "stream",
     "text": [
      "  0.458612 seconds (3.43 M allocations: 320.850 MiB, 6.02% gc time)\n",
      "Ne = 10\n",
      "Ne 10& β 0.98 RMSE: 3.218226821354243\n",
      "(Ne, β) = (10, 0.99)\n"
     ]
    },
    {
     "name": "stderr",
     "output_type": "stream",
     "text": [
      "\u001b[32mProgress: 100%|█████████████████████████████████████████| Time: 0:00:00\u001b[39m\n"
     ]
    },
    {
     "name": "stdout",
     "output_type": "stream",
     "text": [
      "  0.450783 seconds (3.43 M allocations: 320.851 MiB, 6.34% gc time)\n",
      "Ne = 10\n",
      "Ne 10& β 0.99 RMSE: 3.3612166268872126\n",
      "(Ne, β) = (10, 1.0)\n"
     ]
    },
    {
     "name": "stderr",
     "output_type": "stream",
     "text": [
      "\u001b[32mProgress: 100%|█████████████████████████████████████████| Time: 0:00:00\u001b[39m\n"
     ]
    },
    {
     "name": "stdout",
     "output_type": "stream",
     "text": [
      "  0.424816 seconds (3.43 M allocations: 320.838 MiB, 6.68% gc time)\n",
      "Ne = 10\n",
      "Ne 10& β 1.0 RMSE: 1.3316393302410514\n",
      "(Ne, β) = (10, 1.01)\n"
     ]
    },
    {
     "name": "stderr",
     "output_type": "stream",
     "text": [
      "\u001b[32mProgress: 100%|█████████████████████████████████████████| Time: 0:00:00\u001b[39m\n"
     ]
    },
    {
     "name": "stdout",
     "output_type": "stream",
     "text": [
      "  0.421161 seconds (3.43 M allocations: 320.838 MiB, 7.02% gc time)\n",
      "Ne = 10\n",
      "Ne 10& β 1.01 RMSE: 4.164092184440774\n",
      "(Ne, β) = (10, 1.02)\n"
     ]
    },
    {
     "name": "stderr",
     "output_type": "stream",
     "text": [
      "\u001b[32mProgress: 100%|█████████████████████████████████████████| Time: 0:00:00\u001b[39m\n"
     ]
    },
    {
     "name": "stdout",
     "output_type": "stream",
     "text": [
      "  0.424460 seconds (3.43 M allocations: 320.837 MiB, 6.99% gc time)\n",
      "Ne = 10\n",
      "Ne 10& β 1.02 RMSE: 4.6334761696906\n",
      "(Ne, β) = (10, 1.03)\n"
     ]
    },
    {
     "name": "stderr",
     "output_type": "stream",
     "text": [
      "\u001b[32mProgress: 100%|█████████████████████████████████████████| Time: 0:00:00\u001b[39m\n"
     ]
    },
    {
     "name": "stdout",
     "output_type": "stream",
     "text": [
      "  0.458607 seconds (3.43 M allocations: 320.850 MiB, 6.58% gc time)\n",
      "Ne = 10\n",
      "Ne 10& β 1.03 RMSE: 0.6381460091987642\n",
      "(Ne, β) = (10, 1.04)\n"
     ]
    },
    {
     "name": "stderr",
     "output_type": "stream",
     "text": [
      "\u001b[32mProgress: 100%|█████████████████████████████████████████| Time: 0:00:00\u001b[39m\n"
     ]
    },
    {
     "name": "stdout",
     "output_type": "stream",
     "text": [
      "  0.426068 seconds (3.43 M allocations: 320.851 MiB, 7.21% gc time)\n",
      "Ne = 10\n",
      "Ne 10& β 1.04 RMSE: 4.502038163768013\n",
      "(Ne, β) = (10, 1.05)\n"
     ]
    },
    {
     "name": "stderr",
     "output_type": "stream",
     "text": [
      "\u001b[32mProgress: 100%|█████████████████████████████████████████| Time: 0:00:00\u001b[39m\n"
     ]
    },
    {
     "name": "stdout",
     "output_type": "stream",
     "text": [
      "  0.432222 seconds (3.43 M allocations: 320.851 MiB, 7.54% gc time)\n",
      "Ne = 10\n",
      "Ne 10& β 1.05 RMSE: 0.5624558359768645\n",
      "(Ne, β) = (20, 0.95)\n"
     ]
    },
    {
     "name": "stderr",
     "output_type": "stream",
     "text": [
      "\u001b[32mProgress: 100%|█████████████████████████████████████████| Time: 0:00:00\u001b[39m\n"
     ]
    },
    {
     "name": "stdout",
     "output_type": "stream",
     "text": [
      "  0.774102 seconds (6.47 M allocations: 612.027 MiB, 7.60% gc time)\n",
      "Ne = 20\n",
      "Ne 20& β 0.95 RMSE: 0.5127924498520988\n",
      "(Ne, β) = (20, 0.96)\n"
     ]
    },
    {
     "name": "stderr",
     "output_type": "stream",
     "text": [
      "\u001b[32mProgress: 100%|█████████████████████████████████████████| Time: 0:00:00\u001b[39m\n"
     ]
    },
    {
     "name": "stdout",
     "output_type": "stream",
     "text": [
      "  0.776889 seconds (6.47 M allocations: 612.027 MiB, 6.15% gc time)\n",
      "Ne = 20\n",
      "Ne 20& β 0.96 RMSE: 2.434083402115809\n",
      "(Ne, β) = (20, 0.97)\n"
     ]
    },
    {
     "name": "stderr",
     "output_type": "stream",
     "text": [
      "\u001b[32mProgress: 100%|█████████████████████████████████████████| Time: 0:00:00\u001b[39m\n"
     ]
    },
    {
     "name": "stdout",
     "output_type": "stream",
     "text": [
      "  0.762005 seconds (6.47 M allocations: 612.027 MiB, 7.77% gc time)\n",
      "Ne = 20\n",
      "Ne 20& β 0.97 RMSE: 0.5486324660874901\n",
      "(Ne, β) = (20, 0.98)\n"
     ]
    },
    {
     "name": "stderr",
     "output_type": "stream",
     "text": [
      "\u001b[32mProgress: 100%|█████████████████████████████████████████| Time: 0:00:00\u001b[39m\n"
     ]
    },
    {
     "name": "stdout",
     "output_type": "stream",
     "text": [
      "  0.781939 seconds (6.47 M allocations: 612.027 MiB, 6.50% gc time)\n",
      "Ne = 20\n",
      "Ne 20& β 0.98 RMSE: 0.5317346888167963\n",
      "(Ne, β) = (20, 0.99)\n"
     ]
    },
    {
     "name": "stderr",
     "output_type": "stream",
     "text": [
      "\u001b[32mProgress: 100%|█████████████████████████████████████████| Time: 0:00:00\u001b[39m\n"
     ]
    },
    {
     "name": "stdout",
     "output_type": "stream",
     "text": [
      "  0.803012 seconds (6.47 M allocations: 612.027 MiB, 7.67% gc time)\n",
      "Ne = 20\n",
      "Ne 20& β 0.99 RMSE: 0.5186154669950279\n",
      "(Ne, β) = (20, 1.0)\n"
     ]
    },
    {
     "name": "stderr",
     "output_type": "stream",
     "text": [
      "\u001b[32mProgress: 100%|█████████████████████████████████████████| Time: 0:00:00\u001b[39m\n"
     ]
    },
    {
     "name": "stdout",
     "output_type": "stream",
     "text": [
      "  0.761549 seconds (6.47 M allocations: 612.027 MiB, 6.95% gc time)\n",
      "Ne = 20\n",
      "Ne 20& β 1.0 RMSE: 0.5361536087969322\n",
      "(Ne, β) = (20, 1.01)\n"
     ]
    },
    {
     "name": "stderr",
     "output_type": "stream",
     "text": [
      "\u001b[32mProgress: 100%|█████████████████████████████████████████| Time: 0:00:00\u001b[39m\n"
     ]
    },
    {
     "name": "stdout",
     "output_type": "stream",
     "text": [
      "  0.777026 seconds (6.47 M allocations: 612.027 MiB, 7.07% gc time)\n",
      "Ne = 20\n",
      "Ne 20& β 1.01 RMSE: 1.3266751074235172\n",
      "(Ne, β) = (20, 1.02)\n"
     ]
    },
    {
     "name": "stderr",
     "output_type": "stream",
     "text": [
      "\u001b[32mProgress: 100%|█████████████████████████████████████████| Time: 0:00:00\u001b[39m\n"
     ]
    },
    {
     "name": "stdout",
     "output_type": "stream",
     "text": [
      "  0.785912 seconds (6.47 M allocations: 612.027 MiB, 8.60% gc time)\n",
      "Ne = 20\n",
      "Ne 20& β 1.02 RMSE: 0.5780972039771318\n",
      "(Ne, β) = (20, 1.03)\n"
     ]
    },
    {
     "name": "stderr",
     "output_type": "stream",
     "text": [
      "\u001b[32mProgress: 100%|█████████████████████████████████████████| Time: 0:00:00\u001b[39m\n"
     ]
    },
    {
     "name": "stdout",
     "output_type": "stream",
     "text": [
      "  0.769464 seconds (6.47 M allocations: 612.027 MiB, 7.47% gc time)\n",
      "Ne = 20\n",
      "Ne 20& β 1.03 RMSE: 1.0296133656749271\n",
      "(Ne, β) = (20, 1.04)\n"
     ]
    },
    {
     "name": "stderr",
     "output_type": "stream",
     "text": [
      "\u001b[32mProgress: 100%|█████████████████████████████████████████| Time: 0:00:00\u001b[39m\n"
     ]
    },
    {
     "name": "stdout",
     "output_type": "stream",
     "text": [
      "  0.793371 seconds (6.47 M allocations: 612.027 MiB, 7.45% gc time)\n",
      "Ne = 20\n",
      "Ne 20& β 1.04 RMSE: 0.5236340150605355\n",
      "(Ne, β) = (20, 1.05)\n"
     ]
    },
    {
     "name": "stderr",
     "output_type": "stream",
     "text": [
      "\u001b[32mProgress: 100%|█████████████████████████████████████████| Time: 0:00:00\u001b[39m\n",
      "\u001b[32mProgress:  25%|██████████▎                              |  ETA: 0:00:41\u001b[39m"
     ]
    },
    {
     "name": "stdout",
     "output_type": "stream",
     "text": [
      "  0.782180 seconds (6.47 M allocations: 612.027 MiB, 7.67% gc time)\n",
      "Ne = 20\n",
      "Ne 20& β 1.05 RMSE: 0.5910832124859545\n",
      "(Ne, β) = (40, 0.95)\n"
     ]
    },
    {
     "name": "stderr",
     "output_type": "stream",
     "text": [
      "\u001b[32mProgress: 100%|█████████████████████████████████████████| Time: 0:00:01\u001b[39m\n"
     ]
    },
    {
     "name": "stdout",
     "output_type": "stream",
     "text": [
      "  1.479851 seconds (12.55 M allocations: 1.168 GiB, 8.33% gc time)\n",
      "Ne = 40\n",
      "Ne 40& β 0.95 RMSE: 0.49698026493481157\n",
      "(Ne, β) = (40, 0.96)\n"
     ]
    },
    {
     "name": "stderr",
     "output_type": "stream",
     "text": [
      "\u001b[32mProgress: 100%|█████████████████████████████████████████| Time: 0:00:01\u001b[39m\n"
     ]
    },
    {
     "name": "stdout",
     "output_type": "stream",
     "text": [
      "  1.495618 seconds (12.55 M allocations: 1.168 GiB, 7.67% gc time)\n",
      "Ne = 40\n",
      "Ne 40& β 0.96 RMSE: 0.49772130566919187\n",
      "(Ne, β) = (40, 0.97)\n"
     ]
    },
    {
     "name": "stderr",
     "output_type": "stream",
     "text": [
      "\u001b[32mProgress: 100%|█████████████████████████████████████████| Time: 0:00:01\u001b[39m\n"
     ]
    },
    {
     "name": "stdout",
     "output_type": "stream",
     "text": [
      "  1.514675 seconds (12.55 M allocations: 1.168 GiB, 7.85% gc time)\n",
      "Ne = 40\n",
      "Ne 40& β 0.97 RMSE: 0.5055991778752534\n",
      "(Ne, β) = (40, 0.98)\n"
     ]
    },
    {
     "name": "stderr",
     "output_type": "stream",
     "text": [
      "\u001b[32mProgress: 100%|█████████████████████████████████████████| Time: 0:00:01\u001b[39m\n"
     ]
    },
    {
     "name": "stdout",
     "output_type": "stream",
     "text": [
      "  1.508457 seconds (12.55 M allocations: 1.168 GiB, 8.35% gc time)\n",
      "Ne = 40\n",
      "Ne 40& β 0.98 RMSE: 0.4992036634217543\n",
      "(Ne, β) = (40, 0.99)\n"
     ]
    },
    {
     "name": "stderr",
     "output_type": "stream",
     "text": [
      "\u001b[32mProgress: 100%|█████████████████████████████████████████| Time: 0:00:01\u001b[39m\n"
     ]
    },
    {
     "name": "stdout",
     "output_type": "stream",
     "text": [
      "  1.608344 seconds (12.55 M allocations: 1.168 GiB, 8.11% gc time)\n",
      "Ne = 40\n",
      "Ne 40& β 0.99 RMSE: 0.4772130423431148\n",
      "(Ne, β) = (40, 1.0)\n"
     ]
    },
    {
     "name": "stderr",
     "output_type": "stream",
     "text": [
      "\u001b[32mProgress: 100%|█████████████████████████████████████████| Time: 0:00:01\u001b[39m\n"
     ]
    },
    {
     "name": "stdout",
     "output_type": "stream",
     "text": [
      "  1.693943 seconds (12.55 M allocations: 1.168 GiB, 8.21% gc time)\n",
      "Ne = 40\n",
      "Ne 40& β 1.0 RMSE: 0.4703716017742587\n",
      "(Ne, β) = (40, 1.01)\n"
     ]
    },
    {
     "name": "stderr",
     "output_type": "stream",
     "text": [
      "\u001b[32mProgress: 100%|█████████████████████████████████████████| Time: 0:00:01\u001b[39m\n"
     ]
    },
    {
     "name": "stdout",
     "output_type": "stream",
     "text": [
      "  1.625110 seconds (12.55 M allocations: 1.168 GiB, 8.52% gc time)\n",
      "Ne = 40\n",
      "Ne 40& β 1.01 RMSE: 0.48882085957988547\n",
      "(Ne, β) = (40, 1.02)\n"
     ]
    },
    {
     "name": "stderr",
     "output_type": "stream",
     "text": [
      "\u001b[32mProgress: 100%|█████████████████████████████████████████| Time: 0:00:01\u001b[39m\n"
     ]
    },
    {
     "name": "stdout",
     "output_type": "stream",
     "text": [
      "  1.638226 seconds (12.55 M allocations: 1.168 GiB, 7.95% gc time)\n",
      "Ne = 40\n",
      "Ne 40& β 1.02 RMSE: 0.4919853442356405\n",
      "(Ne, β) = (40, 1.03)\n"
     ]
    },
    {
     "name": "stderr",
     "output_type": "stream",
     "text": [
      "\u001b[32mProgress: 100%|█████████████████████████████████████████| Time: 0:00:02\u001b[39m\n"
     ]
    },
    {
     "name": "stdout",
     "output_type": "stream",
     "text": [
      "  2.959197 seconds (12.55 M allocations: 1.168 GiB, 7.03% gc time)\n",
      "Ne = 40\n",
      "Ne 40& β 1.03 RMSE: 0.4830465741371725\n",
      "(Ne, β) = (40, 1.04)\n"
     ]
    },
    {
     "name": "stderr",
     "output_type": "stream",
     "text": [
      "\u001b[32mProgress: 100%|█████████████████████████████████████████| Time: 0:00:03\u001b[39m\n"
     ]
    },
    {
     "name": "stdout",
     "output_type": "stream",
     "text": [
      "  3.172996 seconds (12.55 M allocations: 1.168 GiB, 6.12% gc time)\n",
      "Ne = 40\n",
      "Ne 40& β 1.04 RMSE: 0.49728649791764035\n",
      "(Ne, β) = (40, 1.05)\n"
     ]
    },
    {
     "name": "stderr",
     "output_type": "stream",
     "text": [
      "\u001b[32mProgress: 100%|█████████████████████████████████████████| Time: 0:00:03\u001b[39m\n",
      "\u001b[32mProgress:  38%|███████████████▍                         |  ETA: 0:01:00\u001b[39m"
     ]
    },
    {
     "name": "stdout",
     "output_type": "stream",
     "text": [
      "  3.205869 seconds (12.55 M allocations: 1.168 GiB, 6.16% gc time)\n",
      "Ne = 40\n",
      "Ne 40& β 1.05 RMSE: 0.5762111684382283\n",
      "(Ne, β) = (60, 0.95)\n"
     ]
    },
    {
     "name": "stderr",
     "output_type": "stream",
     "text": [
      "\u001b[32mProgress: 100%|█████████████████████████████████████████| Time: 0:00:04\u001b[39m\n"
     ]
    },
    {
     "name": "stdout",
     "output_type": "stream",
     "text": [
      "  4.629657 seconds (18.64 M allocations: 1.741 GiB, 5.91% gc time)\n",
      "Ne = 60\n",
      "Ne 60& β 0.95 RMSE: 0.47665217349006933\n",
      "(Ne, β) = (60, 0.96)\n"
     ]
    },
    {
     "name": "stderr",
     "output_type": "stream",
     "text": [
      "\u001b[32mProgress: 100%|█████████████████████████████████████████| Time: 0:00:04\u001b[39m\n"
     ]
    },
    {
     "name": "stdout",
     "output_type": "stream",
     "text": [
      "  4.625465 seconds (18.64 M allocations: 1.741 GiB, 6.09% gc time)\n",
      "Ne = 60\n",
      "Ne 60& β 0.96 RMSE: 0.47109291514856727\n",
      "(Ne, β) = (60, 0.97)\n"
     ]
    },
    {
     "name": "stderr",
     "output_type": "stream",
     "text": [
      "\u001b[32mProgress: 100%|█████████████████████████████████████████| Time: 0:00:04\u001b[39m\n"
     ]
    },
    {
     "name": "stdout",
     "output_type": "stream",
     "text": [
      "  4.670345 seconds (18.64 M allocations: 1.741 GiB, 6.81% gc time)\n",
      "Ne = 60\n",
      "Ne 60& β 0.97 RMSE: 0.47143468984605696\n",
      "(Ne, β) = (60, 0.98)\n"
     ]
    },
    {
     "name": "stderr",
     "output_type": "stream",
     "text": [
      "\u001b[32mProgress: 100%|█████████████████████████████████████████| Time: 0:00:04\u001b[39m\n"
     ]
    },
    {
     "name": "stdout",
     "output_type": "stream",
     "text": [
      "  4.654974 seconds (18.64 M allocations: 1.741 GiB, 6.46% gc time)\n",
      "Ne = 60\n",
      "Ne 60& β 0.98 RMSE: 0.48436861402840664\n",
      "(Ne, β) = (60, 0.99)\n"
     ]
    },
    {
     "name": "stderr",
     "output_type": "stream",
     "text": [
      "\u001b[32mProgress: 100%|█████████████████████████████████████████| Time: 0:00:04\u001b[39m\n"
     ]
    },
    {
     "name": "stdout",
     "output_type": "stream",
     "text": [
      "  4.670536 seconds (18.64 M allocations: 1.741 GiB, 6.67% gc time)\n",
      "Ne = 60\n",
      "Ne 60& β 0.99 RMSE: 0.49569213239255006\n",
      "(Ne, β) = (60, 1.0)\n"
     ]
    },
    {
     "name": "stderr",
     "output_type": "stream",
     "text": [
      "\u001b[32mProgress: 100%|█████████████████████████████████████████| Time: 0:00:04\u001b[39m\n"
     ]
    },
    {
     "name": "stdout",
     "output_type": "stream",
     "text": [
      "  4.677872 seconds (18.64 M allocations: 1.741 GiB, 6.88% gc time)\n",
      "Ne = 60\n",
      "Ne 60& β 1.0 RMSE: 0.4827686848106934\n",
      "(Ne, β) = (60, 1.01)\n"
     ]
    },
    {
     "name": "stderr",
     "output_type": "stream",
     "text": [
      "\u001b[32mProgress: 100%|█████████████████████████████████████████| Time: 0:00:04\u001b[39m\n"
     ]
    },
    {
     "name": "stdout",
     "output_type": "stream",
     "text": [
      "  4.676812 seconds (18.64 M allocations: 1.741 GiB, 6.91% gc time)\n",
      "Ne = 60\n",
      "Ne 60& β 1.01 RMSE: 0.5198131428295012\n",
      "(Ne, β) = (60, 1.02)\n"
     ]
    },
    {
     "name": "stderr",
     "output_type": "stream",
     "text": [
      "\u001b[32mProgress: 100%|█████████████████████████████████████████| Time: 0:00:04\u001b[39m\n"
     ]
    },
    {
     "name": "stdout",
     "output_type": "stream",
     "text": [
      "  4.664488 seconds (18.64 M allocations: 1.741 GiB, 6.78% gc time)\n",
      "Ne = 60\n",
      "Ne 60& β 1.02 RMSE: 0.47788346149009864\n",
      "(Ne, β) = (60, 1.03)\n"
     ]
    },
    {
     "name": "stderr",
     "output_type": "stream",
     "text": [
      "\u001b[32mProgress: 100%|█████████████████████████████████████████| Time: 0:00:04\u001b[39m\n"
     ]
    },
    {
     "name": "stdout",
     "output_type": "stream",
     "text": [
      "  4.673150 seconds (18.64 M allocations: 1.741 GiB, 6.35% gc time)\n",
      "Ne = 60\n",
      "Ne 60& β 1.03 RMSE: 0.5203856427891894\n",
      "(Ne, β) = (60, 1.04)\n"
     ]
    },
    {
     "name": "stderr",
     "output_type": "stream",
     "text": [
      "\u001b[32mProgress: 100%|█████████████████████████████████████████| Time: 0:00:04\u001b[39m\n"
     ]
    },
    {
     "name": "stdout",
     "output_type": "stream",
     "text": [
      "  4.710835 seconds (18.64 M allocations: 1.741 GiB, 6.52% gc time)\n",
      "Ne = 60\n",
      "Ne 60& β 1.04 RMSE: 0.4784450959970038\n",
      "(Ne, β) = (60, 1.05)\n"
     ]
    },
    {
     "name": "stderr",
     "output_type": "stream",
     "text": [
      "\u001b[32mProgress: 100%|█████████████████████████████████████████| Time: 0:00:04\u001b[39m\n",
      "\u001b[32mProgress:  50%|████████████████████▌                    |  ETA: 0:01:28\u001b[39m"
     ]
    },
    {
     "name": "stdout",
     "output_type": "stream",
     "text": [
      "  4.726039 seconds (18.64 M allocations: 1.741 GiB, 6.70% gc time)\n",
      "Ne = 60\n",
      "Ne 60& β 1.05 RMSE: 0.4762555944437609\n",
      "(Ne, β) = (100, 0.95)\n"
     ]
    },
    {
     "name": "stderr",
     "output_type": "stream",
     "text": [
      "\u001b[32mProgress: 100%|█████████████████████████████████████████| Time: 0:00:07\u001b[39m\n"
     ]
    },
    {
     "name": "stdout",
     "output_type": "stream",
     "text": [
      "  7.828180 seconds (30.80 M allocations: 2.876 GiB, 6.71% gc time)\n",
      "Ne = 100\n",
      "Ne 100& β 0.95 RMSE: 0.47806829585508775\n",
      "(Ne, β) = (100, 0.96)\n"
     ]
    },
    {
     "name": "stderr",
     "output_type": "stream",
     "text": [
      "\u001b[32mProgress: 100%|█████████████████████████████████████████| Time: 0:00:08\u001b[39m\n"
     ]
    },
    {
     "name": "stdout",
     "output_type": "stream",
     "text": [
      "  8.110609 seconds (30.80 M allocations: 2.876 GiB, 9.56% gc time)\n",
      "Ne = 100\n",
      "Ne 100& β 0.96 RMSE: 0.48304450432078194\n",
      "(Ne, β) = (100, 0.97)\n"
     ]
    },
    {
     "name": "stderr",
     "output_type": "stream",
     "text": [
      "\u001b[32mProgress: 100%|█████████████████████████████████████████| Time: 0:00:07\u001b[39m\n"
     ]
    },
    {
     "name": "stdout",
     "output_type": "stream",
     "text": [
      "  7.686307 seconds (30.80 M allocations: 2.876 GiB, 6.13% gc time)\n",
      "Ne = 100\n",
      "Ne 100& β 0.97 RMSE: 0.4766220145098008\n",
      "(Ne, β) = (100, 0.98)\n"
     ]
    },
    {
     "name": "stderr",
     "output_type": "stream",
     "text": [
      "\u001b[32mProgress: 100%|█████████████████████████████████████████| Time: 0:00:07\u001b[39m\n"
     ]
    },
    {
     "name": "stdout",
     "output_type": "stream",
     "text": [
      "  7.687931 seconds (30.80 M allocations: 2.876 GiB, 6.18% gc time)\n",
      "Ne = 100\n",
      "Ne 100& β 0.98 RMSE: 0.49545774328642633\n",
      "(Ne, β) = (100, 0.99)\n"
     ]
    },
    {
     "name": "stderr",
     "output_type": "stream",
     "text": [
      "\u001b[32mProgress: 100%|█████████████████████████████████████████| Time: 0:00:07\u001b[39m\n"
     ]
    },
    {
     "name": "stdout",
     "output_type": "stream",
     "text": [
      "  7.695652 seconds (30.80 M allocations: 2.876 GiB, 6.16% gc time)\n",
      "Ne = 100\n",
      "Ne 100& β 0.99 RMSE: 0.4706757271447107\n",
      "(Ne, β) = (100, 1.0)\n"
     ]
    },
    {
     "name": "stderr",
     "output_type": "stream",
     "text": [
      "\u001b[32mProgress: 100%|█████████████████████████████████████████| Time: 0:00:07\u001b[39m\n"
     ]
    },
    {
     "name": "stdout",
     "output_type": "stream",
     "text": [
      "  7.694940 seconds (30.80 M allocations: 2.876 GiB, 5.96% gc time)\n",
      "Ne = 100\n",
      "Ne 100& β 1.0 RMSE: 0.482875273781868\n",
      "(Ne, β) = (100, 1.01)\n"
     ]
    },
    {
     "name": "stderr",
     "output_type": "stream",
     "text": [
      "\u001b[32mProgress: 100%|█████████████████████████████████████████| Time: 0:00:07\u001b[39m\n"
     ]
    },
    {
     "name": "stdout",
     "output_type": "stream",
     "text": [
      "  7.711941 seconds (30.80 M allocations: 2.876 GiB, 6.18% gc time)\n",
      "Ne = 100\n",
      "Ne 100& β 1.01 RMSE: 0.47579684985592186\n",
      "(Ne, β) = (100, 1.02)\n"
     ]
    },
    {
     "name": "stderr",
     "output_type": "stream",
     "text": [
      "\u001b[32mProgress: 100%|█████████████████████████████████████████| Time: 0:00:07\u001b[39m\n"
     ]
    },
    {
     "name": "stdout",
     "output_type": "stream",
     "text": [
      "  7.732680 seconds (30.80 M allocations: 2.876 GiB, 6.10% gc time)\n",
      "Ne = 100\n",
      "Ne 100& β 1.02 RMSE: 0.46783176619536343\n",
      "(Ne, β) = (100, 1.03)\n"
     ]
    },
    {
     "name": "stderr",
     "output_type": "stream",
     "text": [
      "\u001b[32mProgress: 100%|█████████████████████████████████████████| Time: 0:00:07\u001b[39m\n"
     ]
    },
    {
     "name": "stdout",
     "output_type": "stream",
     "text": [
      "  7.796519 seconds (30.80 M allocations: 2.876 GiB, 6.47% gc time)\n",
      "Ne = 100\n",
      "Ne 100& β 1.03 RMSE: 0.4603262989094052\n",
      "(Ne, β) = (100, 1.04)\n"
     ]
    },
    {
     "name": "stderr",
     "output_type": "stream",
     "text": [
      "\u001b[32mProgress: 100%|█████████████████████████████████████████| Time: 0:00:07\u001b[39m\n"
     ]
    },
    {
     "name": "stdout",
     "output_type": "stream",
     "text": [
      "  7.816022 seconds (30.80 M allocations: 2.876 GiB, 6.34% gc time)\n",
      "Ne = 100\n",
      "Ne 100& β 1.04 RMSE: 0.4892863392212606\n",
      "(Ne, β) = (100, 1.05)\n"
     ]
    },
    {
     "name": "stderr",
     "output_type": "stream",
     "text": [
      "\u001b[32mProgress: 100%|█████████████████████████████████████████| Time: 0:00:07\u001b[39m\n",
      "\u001b[32mProgress:  62%|█████████████████████████▋               |  ETA: 0:01:44\u001b[39m"
     ]
    },
    {
     "name": "stdout",
     "output_type": "stream",
     "text": [
      "  7.877464 seconds (30.80 M allocations: 2.876 GiB, 6.67% gc time)\n",
      "Ne = 100\n",
      "Ne 100& β 1.05 RMSE: 0.4741187970220842\n",
      "(Ne, β) = (200, 0.95)\n"
     ]
    },
    {
     "name": "stderr",
     "output_type": "stream",
     "text": [
      "\u001b[32mProgress: 100%|█████████████████████████████████████████| Time: 0:00:15\u001b[39m\n"
     ]
    },
    {
     "name": "stdout",
     "output_type": "stream",
     "text": [
      " 15.632471 seconds (61.21 M allocations: 5.720 GiB, 6.82% gc time)\n",
      "Ne = 200\n",
      "Ne 200& β 0.95 RMSE: 0.4818447679432225\n",
      "(Ne, β) = (200, 0.96)\n"
     ]
    },
    {
     "name": "stderr",
     "output_type": "stream",
     "text": [
      "\u001b[32mProgress: 100%|█████████████████████████████████████████| Time: 0:00:15\u001b[39m\n"
     ]
    },
    {
     "name": "stdout",
     "output_type": "stream",
     "text": [
      " 15.756291 seconds (61.21 M allocations: 5.720 GiB, 6.96% gc time)\n",
      "Ne = 200\n",
      "Ne 200& β 0.96 RMSE: 0.49097284442223565\n",
      "(Ne, β) = (200, 0.97)\n"
     ]
    },
    {
     "name": "stderr",
     "output_type": "stream",
     "text": [
      "\u001b[32mProgress: 100%|█████████████████████████████████████████| Time: 0:00:15\u001b[39m\n"
     ]
    },
    {
     "name": "stdout",
     "output_type": "stream",
     "text": [
      " 15.884436 seconds (61.21 M allocations: 5.720 GiB, 7.20% gc time)\n",
      "Ne = 200\n",
      "Ne 200& β 0.97 RMSE: 0.48053427667212145\n",
      "(Ne, β) = (200, 0.98)\n"
     ]
    },
    {
     "name": "stderr",
     "output_type": "stream",
     "text": [
      "\u001b[32mProgress: 100%|█████████████████████████████████████████| Time: 0:00:15\u001b[39m\n"
     ]
    },
    {
     "name": "stdout",
     "output_type": "stream",
     "text": [
      " 15.996709 seconds (61.21 M allocations: 5.720 GiB, 7.34% gc time)\n",
      "Ne = 200\n",
      "Ne 200& β 0.98 RMSE: 0.4799263300100315\n",
      "(Ne, β) = (200, 0.99)\n"
     ]
    },
    {
     "name": "stderr",
     "output_type": "stream",
     "text": [
      "\u001b[32mProgress: 100%|█████████████████████████████████████████| Time: 0:00:16\u001b[39m\n"
     ]
    },
    {
     "name": "stdout",
     "output_type": "stream",
     "text": [
      " 16.222137 seconds (61.21 M allocations: 5.720 GiB, 8.61% gc time)\n",
      "Ne = 200\n",
      "Ne 200& β 0.99 RMSE: 0.47706479674816593\n",
      "(Ne, β) = (200, 1.0)\n"
     ]
    },
    {
     "name": "stderr",
     "output_type": "stream",
     "text": [
      "\u001b[32mProgress: 100%|█████████████████████████████████████████| Time: 0:00:14\u001b[39m\n"
     ]
    },
    {
     "name": "stdout",
     "output_type": "stream",
     "text": [
      " 14.655415 seconds (61.21 M allocations: 5.720 GiB, 5.24% gc time)\n",
      "Ne = 200\n",
      "Ne 200& β 1.0 RMSE: 0.4808145273400052\n",
      "(Ne, β) = (200, 1.01)\n"
     ]
    },
    {
     "name": "stderr",
     "output_type": "stream",
     "text": [
      "\u001b[32mProgress: 100%|█████████████████████████████████████████| Time: 0:00:14\u001b[39m\n"
     ]
    },
    {
     "name": "stdout",
     "output_type": "stream",
     "text": [
      " 14.922068 seconds (61.21 M allocations: 5.720 GiB, 5.76% gc time)\n",
      "Ne = 200\n",
      "Ne 200& β 1.01 RMSE: 0.4833086203040021\n",
      "(Ne, β) = (200, 1.02)\n"
     ]
    },
    {
     "name": "stderr",
     "output_type": "stream",
     "text": [
      "\u001b[32mProgress: 100%|█████████████████████████████████████████| Time: 0:00:15\u001b[39m\n"
     ]
    },
    {
     "name": "stdout",
     "output_type": "stream",
     "text": [
      " 15.155434 seconds (61.21 M allocations: 5.720 GiB, 6.15% gc time)\n",
      "Ne = 200\n",
      "Ne 200& β 1.02 RMSE: 0.48088816433227044\n",
      "(Ne, β) = (200, 1.03)\n"
     ]
    },
    {
     "name": "stderr",
     "output_type": "stream",
     "text": [
      "\u001b[32mProgress: 100%|█████████████████████████████████████████| Time: 0:00:15\u001b[39m\n"
     ]
    },
    {
     "name": "stdout",
     "output_type": "stream",
     "text": [
      " 15.304416 seconds (61.21 M allocations: 5.720 GiB, 6.41% gc time)\n",
      "Ne = 200\n",
      "Ne 200& β 1.03 RMSE: 0.49544092391539324\n",
      "(Ne, β) = (200, 1.04)\n"
     ]
    },
    {
     "name": "stderr",
     "output_type": "stream",
     "text": [
      "\u001b[32mProgress: 100%|█████████████████████████████████████████| Time: 0:00:15\u001b[39m\n"
     ]
    },
    {
     "name": "stdout",
     "output_type": "stream",
     "text": [
      " 15.495801 seconds (61.21 M allocations: 5.720 GiB, 6.76% gc time)\n",
      "Ne = 200\n",
      "Ne 200& β 1.04 RMSE: 0.4870167805462974\n",
      "(Ne, β) = (200, 1.05)\n"
     ]
    },
    {
     "name": "stderr",
     "output_type": "stream",
     "text": [
      "\u001b[32mProgress: 100%|█████████████████████████████████████████| Time: 0:00:15\u001b[39m\n"
     ]
    },
    {
     "name": "stdout",
     "output_type": "stream",
     "text": [
      " 15.629741 seconds (61.21 M allocations: 5.720 GiB, 6.95% gc time)\n",
      "Ne = 200\n"
     ]
    },
    {
     "name": "stderr",
     "output_type": "stream",
     "text": [
      "\r",
      "\u001b[32mProgress:  75%|██████████████████████████████▊          |  ETA: 0:01:55\u001b[39m"
     ]
    },
    {
     "name": "stdout",
     "output_type": "stream",
     "text": [
      "Ne 200& β 1.05 RMSE: 0.4837543353816042\n",
      "(Ne, β) = (400, 0.95)\n"
     ]
    },
    {
     "name": "stderr",
     "output_type": "stream",
     "text": [
      "\u001b[32mProgress: 100%|█████████████████████████████████████████| Time: 0:00:31\u001b[39m\n"
     ]
    },
    {
     "name": "stdout",
     "output_type": "stream",
     "text": [
      " 31.458841 seconds (122.04 M allocations: 11.407 GiB, 7.25% gc time)\n",
      "Ne = 400\n",
      "Ne 400& β 0.95 RMSE: 0.49252842157030563\n",
      "(Ne, β) = (400, 0.96)\n"
     ]
    },
    {
     "name": "stderr",
     "output_type": "stream",
     "text": [
      "\u001b[32mProgress: 100%|█████████████████████████████████████████| Time: 0:00:31\u001b[39m\n"
     ]
    },
    {
     "name": "stdout",
     "output_type": "stream",
     "text": [
      " 31.833510 seconds (122.04 M allocations: 11.407 GiB, 7.54% gc time)\n",
      "Ne = 400\n",
      "Ne 400& β 0.96 RMSE: 0.48505738313215907\n",
      "(Ne, β) = (400, 0.97)\n"
     ]
    },
    {
     "name": "stderr",
     "output_type": "stream",
     "text": [
      "\u001b[32mProgress: 100%|█████████████████████████████████████████| Time: 0:00:29\u001b[39m\n"
     ]
    },
    {
     "name": "stdout",
     "output_type": "stream",
     "text": [
      " 29.559266 seconds (122.04 M allocations: 11.407 GiB, 6.13% gc time)\n",
      "Ne = 400\n",
      "Ne 400& β 0.97 RMSE: 0.48478087923180296\n",
      "(Ne, β) = (400, 0.98)\n"
     ]
    },
    {
     "name": "stderr",
     "output_type": "stream",
     "text": [
      "\u001b[32mProgress: 100%|█████████████████████████████████████████| Time: 0:00:22\u001b[39m\n"
     ]
    },
    {
     "name": "stdout",
     "output_type": "stream",
     "text": [
      " 22.599581 seconds (122.03 M allocations: 11.406 GiB, 6.44% gc time)\n",
      "Ne = 400\n",
      "Ne 400& β 0.98 RMSE: 0.4879131299605394\n",
      "(Ne, β) = (400, 0.99)\n"
     ]
    },
    {
     "name": "stderr",
     "output_type": "stream",
     "text": [
      "\u001b[32mProgress: 100%|█████████████████████████████████████████| Time: 0:00:14\u001b[39m\n"
     ]
    },
    {
     "name": "stdout",
     "output_type": "stream",
     "text": [
      " 14.474783 seconds (122.01 M allocations: 11.405 GiB, 8.98% gc time)\n",
      "Ne = 400\n",
      "Ne 400& β 0.99 RMSE: 0.48369241320139805\n",
      "(Ne, β) = (400, 1.0)\n"
     ]
    },
    {
     "name": "stderr",
     "output_type": "stream",
     "text": [
      "\u001b[32mProgress: 100%|█████████████████████████████████████████| Time: 0:00:14\u001b[39m\n"
     ]
    },
    {
     "name": "stdout",
     "output_type": "stream",
     "text": [
      " 14.801513 seconds (122.01 M allocations: 11.405 GiB, 9.49% gc time)\n",
      "Ne = 400\n",
      "Ne 400& β 1.0 RMSE: 0.48822968965919994\n",
      "(Ne, β) = (400, 1.01)\n"
     ]
    },
    {
     "name": "stderr",
     "output_type": "stream",
     "text": [
      "\u001b[32mProgress: 100%|█████████████████████████████████████████| Time: 0:00:15\u001b[39m\n"
     ]
    },
    {
     "name": "stdout",
     "output_type": "stream",
     "text": [
      " 15.129903 seconds (122.01 M allocations: 11.405 GiB, 10.02% gc time)\n",
      "Ne = 400\n",
      "Ne 400& β 1.01 RMSE: 0.47633232761396915\n",
      "(Ne, β) = (400, 1.02)\n"
     ]
    },
    {
     "name": "stderr",
     "output_type": "stream",
     "text": [
      "\u001b[32mProgress: 100%|█████████████████████████████████████████| Time: 0:00:13\u001b[39m\n"
     ]
    },
    {
     "name": "stdout",
     "output_type": "stream",
     "text": [
      " 13.820416 seconds (122.01 M allocations: 11.405 GiB, 8.47% gc time)\n",
      "Ne = 400\n",
      "Ne 400& β 1.02 RMSE: 0.4850509676448275\n",
      "(Ne, β) = (400, 1.03)\n"
     ]
    },
    {
     "name": "stderr",
     "output_type": "stream",
     "text": [
      "\u001b[32mProgress: 100%|█████████████████████████████████████████| Time: 0:00:14\u001b[39m\n"
     ]
    },
    {
     "name": "stdout",
     "output_type": "stream",
     "text": [
      " 14.043136 seconds (122.01 M allocations: 11.405 GiB, 8.13% gc time)\n",
      "Ne = 400\n",
      "Ne 400& β 1.03 RMSE: 0.4863621885231936\n",
      "(Ne, β) = (400, 1.04)\n"
     ]
    },
    {
     "name": "stderr",
     "output_type": "stream",
     "text": [
      "\u001b[32mProgress: 100%|█████████████████████████████████████████| Time: 0:00:14\u001b[39m\n"
     ]
    },
    {
     "name": "stdout",
     "output_type": "stream",
     "text": [
      " 14.505684 seconds (122.01 M allocations: 11.405 GiB, 8.95% gc time)\n",
      "Ne = 400\n",
      "Ne 400& β 1.04 RMSE: 0.4892480273593055\n",
      "(Ne, β) = (400, 1.05)\n"
     ]
    },
    {
     "name": "stderr",
     "output_type": "stream",
     "text": [
      "\u001b[32mProgress: 100%|█████████████████████████████████████████| Time: 0:00:14\u001b[39m\n"
     ]
    },
    {
     "name": "stdout",
     "output_type": "stream",
     "text": [
      " 14.843639 seconds (122.01 M allocations: 11.405 GiB, 9.61% gc time)\n",
      "Ne = 400\n"
     ]
    },
    {
     "name": "stderr",
     "output_type": "stream",
     "text": [
      "\r",
      "\u001b[32mProgress:  88%|███████████████████████████████████▉     |  ETA: 0:01:21\u001b[39m"
     ]
    },
    {
     "name": "stdout",
     "output_type": "stream",
     "text": [
      "Ne 400& β 1.05 RMSE: 0.48025831353454973\n",
      "(Ne, β) = (600, 0.95)\n"
     ]
    },
    {
     "name": "stderr",
     "output_type": "stream",
     "text": [
      "\u001b[32mProgress: 100%|█████████████████████████████████████████| Time: 0:00:22\u001b[39m\n"
     ]
    },
    {
     "name": "stdout",
     "output_type": "stream",
     "text": [
      " 22.301051 seconds (184.97 M allocations: 17.124 GiB, 10.11% gc time)\n",
      "Ne = 600\n",
      "Ne 600& β 0.95 RMSE: 0.49231525980475443\n",
      "(Ne, β) = (600, 0.96)\n"
     ]
    },
    {
     "name": "stderr",
     "output_type": "stream",
     "text": [
      "\u001b[32mProgress: 100%|█████████████████████████████████████████| Time: 0:00:21\u001b[39m\n"
     ]
    },
    {
     "name": "stdout",
     "output_type": "stream",
     "text": [
      " 21.502275 seconds (184.97 M allocations: 17.124 GiB, 8.73% gc time)\n",
      "Ne = 600\n",
      "Ne 600& β 0.96 RMSE: 0.48556165517710537\n",
      "(Ne, β) = (600, 0.97)\n"
     ]
    },
    {
     "name": "stderr",
     "output_type": "stream",
     "text": [
      "\u001b[32mProgress: 100%|█████████████████████████████████████████| Time: 0:00:22\u001b[39m\n"
     ]
    },
    {
     "name": "stdout",
     "output_type": "stream",
     "text": [
      " 22.437674 seconds (184.97 M allocations: 17.124 GiB, 9.66% gc time)\n",
      "Ne = 600\n",
      "Ne 600& β 0.97 RMSE: 0.48633808642728477\n",
      "(Ne, β) = (600, 0.98)\n"
     ]
    },
    {
     "name": "stderr",
     "output_type": "stream",
     "text": [
      "\u001b[32mProgress: 100%|█████████████████████████████████████████| Time: 0:00:22\u001b[39m\n"
     ]
    },
    {
     "name": "stdout",
     "output_type": "stream",
     "text": [
      " 22.877220 seconds (184.97 M allocations: 17.124 GiB, 10.37% gc time)\n",
      "Ne = 600\n",
      "Ne 600& β 0.98 RMSE: 0.48545155921535105\n",
      "(Ne, β) = (600, 0.99)\n"
     ]
    },
    {
     "name": "stderr",
     "output_type": "stream",
     "text": [
      "\u001b[32mProgress: 100%|█████████████████████████████████████████| Time: 0:00:22\u001b[39m\n"
     ]
    },
    {
     "name": "stdout",
     "output_type": "stream",
     "text": [
      " 22.524545 seconds (184.97 M allocations: 17.124 GiB, 10.41% gc time)\n",
      "Ne = 600\n",
      "Ne 600& β 0.99 RMSE: 0.48966113382886306\n",
      "(Ne, β) = (600, 1.0)\n"
     ]
    },
    {
     "name": "stderr",
     "output_type": "stream",
     "text": [
      "\u001b[32mProgress: 100%|█████████████████████████████████████████| Time: 0:00:21\u001b[39m\n"
     ]
    },
    {
     "name": "stdout",
     "output_type": "stream",
     "text": [
      " 21.441277 seconds (184.97 M allocations: 17.124 GiB, 8.71% gc time)\n",
      "Ne = 600\n",
      "Ne 600& β 1.0 RMSE: 0.48939658436437183\n",
      "(Ne, β) = (600, 1.01)\n"
     ]
    },
    {
     "name": "stderr",
     "output_type": "stream",
     "text": [
      "\u001b[32mProgress: 100%|█████████████████████████████████████████| Time: 0:00:22\u001b[39m\n"
     ]
    },
    {
     "name": "stdout",
     "output_type": "stream",
     "text": [
      " 22.277237 seconds (184.97 M allocations: 17.124 GiB, 9.70% gc time)\n",
      "Ne = 600\n",
      "Ne 600& β 1.01 RMSE: 0.4827126013954903\n",
      "(Ne, β) = (600, 1.02)\n"
     ]
    },
    {
     "name": "stderr",
     "output_type": "stream",
     "text": [
      "\u001b[32mProgress: 100%|█████████████████████████████████████████| Time: 0:00:22\u001b[39m\n"
     ]
    },
    {
     "name": "stdout",
     "output_type": "stream",
     "text": [
      " 22.926279 seconds (184.97 M allocations: 17.124 GiB, 10.34% gc time)\n",
      "Ne = 600\n",
      "Ne 600& β 1.02 RMSE: 0.4911989079874944\n",
      "(Ne, β) = (600, 1.03)\n"
     ]
    },
    {
     "name": "stderr",
     "output_type": "stream",
     "text": [
      "\u001b[32mProgress: 100%|█████████████████████████████████████████| Time: 0:00:22\u001b[39m\n"
     ]
    },
    {
     "name": "stdout",
     "output_type": "stream",
     "text": [
      " 22.040433 seconds (184.97 M allocations: 17.124 GiB, 9.93% gc time)\n",
      "Ne = 600\n",
      "Ne 600& β 1.03 RMSE: 0.48374707997917293\n",
      "(Ne, β) = (600, 1.04)\n"
     ]
    },
    {
     "name": "stderr",
     "output_type": "stream",
     "text": [
      "\u001b[32mProgress: 100%|█████████████████████████████████████████| Time: 0:00:22\u001b[39m\n"
     ]
    },
    {
     "name": "stdout",
     "output_type": "stream",
     "text": [
      " 22.602304 seconds (184.97 M allocations: 17.124 GiB, 8.47% gc time)\n",
      "Ne = 600\n",
      "Ne 600& β 1.04 RMSE: 0.4891095994644669\n",
      "(Ne, β) = (600, 1.05)\n"
     ]
    },
    {
     "name": "stderr",
     "output_type": "stream",
     "text": [
      "\u001b[32mProgress: 100%|█████████████████████████████████████████| Time: 0:00:22\u001b[39m\n"
     ]
    },
    {
     "name": "stdout",
     "output_type": "stream",
     "text": [
      " 22.283262 seconds (184.97 M allocations: 17.124 GiB, 9.61% gc time)\n",
      "Ne = 600\n"
     ]
    },
    {
     "name": "stderr",
     "output_type": "stream",
     "text": [
      "\r",
      "\u001b[32mProgress: 100%|█████████████████████████████████████████| Time: 0:13:31\u001b[39m\n"
     ]
    },
    {
     "name": "stdout",
     "output_type": "stream",
     "text": [
      "Ne 600& β 1.05 RMSE: 0.4870945374290198\n"
     ]
    }
   ],
   "source": [
    "metric_enkf = benchmark_lorenz63(model, data, path, Ne_array, β_array);"
   ]
  },
  {
   "cell_type": "code",
   "execution_count": 11,
   "metadata": {},
   "outputs": [],
   "source": [
    "save(path*\"metric_enkf.jld\", \"metric\", metric_enkf)"
   ]
  },
  {
   "cell_type": "markdown",
   "metadata": {},
   "source": [
    "Benchmark for the Lorenz-63 problem with the sequential stochastic radial map filter"
   ]
  },
  {
   "cell_type": "markdown",
   "metadata": {},
   "source": [
    "p = 0"
   ]
  },
  {
   "cell_type": "code",
   "execution_count": 12,
   "metadata": {},
   "outputs": [
    {
     "data": {
      "text/plain": [
       "0"
      ]
     },
     "execution_count": 12,
     "metadata": {},
     "output_type": "execute_result"
    }
   ],
   "source": [
    "p = 0"
   ]
  },
  {
   "cell_type": "code",
   "execution_count": 13,
   "metadata": {
    "scrolled": true
   },
   "outputs": [
    {
     "name": "stdout",
     "output_type": "stream",
     "text": [
      "(Ne, β) = (10, 0.95)\n"
     ]
    },
    {
     "name": "stderr",
     "output_type": "stream",
     "text": [
      "\u001b[32mProgress: 100%|█████████████████████████████████████████| Time: 0:00:05\u001b[39m\n"
     ]
    },
    {
     "name": "stdout",
     "output_type": "stream",
     "text": [
      "  5.133800 seconds (29.94 M allocations: 2.060 GiB, 5.57% gc time)\n",
      "Ne = 10\n",
      "Ne 10& β 0.95 RMSE: 1.1484494268122272\n",
      "(Ne, β) = (10, 0.96)\n"
     ]
    },
    {
     "name": "stderr",
     "output_type": "stream",
     "text": [
      "\u001b[32mProgress: 100%|█████████████████████████████████████████| Time: 0:00:01\u001b[39m\n"
     ]
    },
    {
     "name": "stdout",
     "output_type": "stream",
     "text": [
      "  1.813872 seconds (27.44 M allocations: 1.944 GiB, 13.96% gc time)\n",
      "Ne = 10\n",
      "Ne 10& β 0.96 RMSE: 0.8844648948939896\n",
      "(Ne, β) = (10, 0.97)\n"
     ]
    },
    {
     "name": "stderr",
     "output_type": "stream",
     "text": [
      "\u001b[32mProgress: 100%|█████████████████████████████████████████| Time: 0:00:01\u001b[39m\n"
     ]
    },
    {
     "name": "stdout",
     "output_type": "stream",
     "text": [
      "  1.973606 seconds (27.44 M allocations: 1.944 GiB, 20.62% gc time)\n",
      "Ne = 10\n",
      "Ne 10& β 0.97 RMSE: 0.8987151950707258\n",
      "(Ne, β) = (10, 0.98)\n"
     ]
    },
    {
     "name": "stderr",
     "output_type": "stream",
     "text": [
      "\u001b[32mProgress: 100%|█████████████████████████████████████████| Time: 0:00:01\u001b[39m\n"
     ]
    },
    {
     "name": "stdout",
     "output_type": "stream",
     "text": [
      "  1.540982 seconds (27.44 M allocations: 1.944 GiB, 12.20% gc time)\n",
      "Ne = 10\n",
      "Ne 10& β 0.98 RMSE: 1.179350520554961\n",
      "(Ne, β) = (10, 0.99)\n"
     ]
    },
    {
     "name": "stderr",
     "output_type": "stream",
     "text": [
      "\u001b[32mProgress: 100%|█████████████████████████████████████████| Time: 0:00:01\u001b[39m\n"
     ]
    },
    {
     "name": "stdout",
     "output_type": "stream",
     "text": [
      "  1.528894 seconds (27.44 M allocations: 1.944 GiB, 12.35% gc time)\n",
      "Ne = 10\n",
      "Ne 10& β 0.99 RMSE: 1.1785641815765975\n",
      "(Ne, β) = (10, 1.0)\n"
     ]
    },
    {
     "name": "stderr",
     "output_type": "stream",
     "text": [
      "\u001b[32mProgress: 100%|█████████████████████████████████████████| Time: 0:00:01\u001b[39m\n"
     ]
    },
    {
     "name": "stdout",
     "output_type": "stream",
     "text": [
      "  1.539094 seconds (27.44 M allocations: 1.944 GiB, 12.39% gc time)\n",
      "Ne = 10\n",
      "Ne 10& β 1.0 RMSE: 1.3009752556146112\n",
      "(Ne, β) = (10, 1.01)\n"
     ]
    },
    {
     "name": "stderr",
     "output_type": "stream",
     "text": [
      "\u001b[32mProgress: 100%|█████████████████████████████████████████| Time: 0:00:01\u001b[39m\n"
     ]
    },
    {
     "name": "stdout",
     "output_type": "stream",
     "text": [
      "  1.520186 seconds (27.44 M allocations: 1.944 GiB, 12.11% gc time)\n",
      "Ne = 10\n",
      "Ne 10& β 1.01 RMSE: 0.7867241919234845\n",
      "(Ne, β) = (10, 1.02)\n"
     ]
    },
    {
     "name": "stderr",
     "output_type": "stream",
     "text": [
      "\u001b[32mProgress: 100%|█████████████████████████████████████████| Time: 0:00:01\u001b[39m\n"
     ]
    },
    {
     "name": "stdout",
     "output_type": "stream",
     "text": [
      "  1.531638 seconds (27.44 M allocations: 1.944 GiB, 12.24% gc time)\n",
      "Ne = 10\n",
      "Ne 10& β 1.02 RMSE: 0.962822021432672\n",
      "(Ne, β) = (10, 1.03)\n"
     ]
    },
    {
     "name": "stderr",
     "output_type": "stream",
     "text": [
      "\u001b[32mProgress: 100%|█████████████████████████████████████████| Time: 0:00:01\u001b[39m\n"
     ]
    },
    {
     "name": "stdout",
     "output_type": "stream",
     "text": [
      "  1.530673 seconds (27.44 M allocations: 1.944 GiB, 12.31% gc time)\n",
      "Ne = 10\n",
      "Ne 10& β 1.03 RMSE: 1.434295644989174\n",
      "(Ne, β) = (10, 1.04)\n"
     ]
    },
    {
     "name": "stderr",
     "output_type": "stream",
     "text": [
      "\u001b[32mProgress: 100%|█████████████████████████████████████████| Time: 0:00:01\u001b[39m\n"
     ]
    },
    {
     "name": "stdout",
     "output_type": "stream",
     "text": [
      "  1.536077 seconds (27.44 M allocations: 1.944 GiB, 12.36% gc time)\n",
      "Ne = 10\n",
      "Ne 10& β 1.04 RMSE: 0.8537895025352013\n",
      "(Ne, β) = (10, 1.05)\n"
     ]
    },
    {
     "name": "stderr",
     "output_type": "stream",
     "text": [
      "\u001b[32mProgress: 100%|█████████████████████████████████████████| Time: 0:00:01\u001b[39m\n"
     ]
    },
    {
     "name": "stdout",
     "output_type": "stream",
     "text": [
      "  1.533104 seconds (27.44 M allocations: 1.944 GiB, 12.39% gc time)\n",
      "Ne = 10\n",
      "Ne 10& β 1.05 RMSE: 0.9932633807819111\n",
      "(Ne, β) = (20, 0.95)\n"
     ]
    },
    {
     "name": "stderr",
     "output_type": "stream",
     "text": [
      "\u001b[32mProgress: 100%|█████████████████████████████████████████| Time: 0:00:02\u001b[39m\n"
     ]
    },
    {
     "name": "stdout",
     "output_type": "stream",
     "text": [
      "  2.633885 seconds (49.92 M allocations: 3.519 GiB, 13.08% gc time)\n",
      "Ne = 20\n",
      "Ne 20& β 0.95 RMSE: 0.6286752299268548\n",
      "(Ne, β) = (20, 0.96)\n"
     ]
    },
    {
     "name": "stderr",
     "output_type": "stream",
     "text": [
      "\u001b[32mProgress: 100%|█████████████████████████████████████████| Time: 0:00:02\u001b[39m\n"
     ]
    },
    {
     "name": "stdout",
     "output_type": "stream",
     "text": [
      "  2.623486 seconds (49.92 M allocations: 3.519 GiB, 12.98% gc time)\n",
      "Ne = 20\n",
      "Ne 20& β 0.96 RMSE: 0.8037660588047775\n",
      "(Ne, β) = (20, 0.97)\n"
     ]
    },
    {
     "name": "stderr",
     "output_type": "stream",
     "text": [
      "\u001b[32mProgress: 100%|█████████████████████████████████████████| Time: 0:00:02\u001b[39m\n"
     ]
    },
    {
     "name": "stdout",
     "output_type": "stream",
     "text": [
      "  2.646838 seconds (49.92 M allocations: 3.519 GiB, 13.10% gc time)\n",
      "Ne = 20\n",
      "Ne 20& β 0.97 RMSE: 1.0089193535324248\n",
      "(Ne, β) = (20, 0.98)\n"
     ]
    },
    {
     "name": "stderr",
     "output_type": "stream",
     "text": [
      "\u001b[32mProgress: 100%|█████████████████████████████████████████| Time: 0:00:02\u001b[39m\n"
     ]
    },
    {
     "name": "stdout",
     "output_type": "stream",
     "text": [
      "  2.633817 seconds (49.92 M allocations: 3.519 GiB, 12.87% gc time)\n",
      "Ne = 20\n",
      "Ne 20& β 0.98 RMSE: 0.5959535360588502\n",
      "(Ne, β) = (20, 0.99)\n"
     ]
    },
    {
     "name": "stderr",
     "output_type": "stream",
     "text": [
      "\u001b[32mProgress: 100%|█████████████████████████████████████████| Time: 0:00:02\u001b[39m\n"
     ]
    },
    {
     "name": "stdout",
     "output_type": "stream",
     "text": [
      "  2.644281 seconds (49.92 M allocations: 3.519 GiB, 13.31% gc time)\n",
      "Ne = 20\n",
      "Ne 20& β 0.99 RMSE: 0.6247188881793764\n",
      "(Ne, β) = (20, 1.0)\n"
     ]
    },
    {
     "name": "stderr",
     "output_type": "stream",
     "text": [
      "\u001b[32mProgress: 100%|█████████████████████████████████████████| Time: 0:00:02\u001b[39m\n"
     ]
    },
    {
     "name": "stdout",
     "output_type": "stream",
     "text": [
      "  2.642403 seconds (49.92 M allocations: 3.519 GiB, 13.14% gc time)\n",
      "Ne = 20\n",
      "Ne 20& β 1.0 RMSE: 0.6387820364243605\n",
      "(Ne, β) = (20, 1.01)\n"
     ]
    },
    {
     "name": "stderr",
     "output_type": "stream",
     "text": [
      "\u001b[32mProgress: 100%|█████████████████████████████████████████| Time: 0:00:02\u001b[39m\n"
     ]
    },
    {
     "name": "stdout",
     "output_type": "stream",
     "text": [
      "  2.646506 seconds (49.92 M allocations: 3.519 GiB, 12.92% gc time)\n",
      "Ne = 20\n",
      "Ne 20& β 1.01 RMSE: 0.6778088446045358\n",
      "(Ne, β) = (20, 1.02)\n"
     ]
    },
    {
     "name": "stderr",
     "output_type": "stream",
     "text": [
      "\u001b[32mProgress: 100%|█████████████████████████████████████████| Time: 0:00:02\u001b[39m\n"
     ]
    },
    {
     "name": "stdout",
     "output_type": "stream",
     "text": [
      "  2.646823 seconds (49.92 M allocations: 3.519 GiB, 12.95% gc time)\n",
      "Ne = 20\n",
      "Ne 20& β 1.02 RMSE: 0.7370970881096843\n",
      "(Ne, β) = (20, 1.03)\n"
     ]
    },
    {
     "name": "stderr",
     "output_type": "stream",
     "text": [
      "\u001b[32mProgress: 100%|█████████████████████████████████████████| Time: 0:00:02\u001b[39m\n"
     ]
    },
    {
     "name": "stdout",
     "output_type": "stream",
     "text": [
      "  2.651735 seconds (49.92 M allocations: 3.519 GiB, 13.10% gc time)\n",
      "Ne = 20\n",
      "Ne 20& β 1.03 RMSE: 0.6238691432756764\n",
      "(Ne, β) = (20, 1.04)\n"
     ]
    },
    {
     "name": "stderr",
     "output_type": "stream",
     "text": [
      "\u001b[32mProgress: 100%|█████████████████████████████████████████| Time: 0:00:02\u001b[39m\n"
     ]
    },
    {
     "name": "stdout",
     "output_type": "stream",
     "text": [
      "  2.658236 seconds (49.92 M allocations: 3.519 GiB, 13.17% gc time)\n",
      "Ne = 20\n",
      "Ne 20& β 1.04 RMSE: 0.636861172893418\n",
      "(Ne, β) = (20, 1.05)\n"
     ]
    },
    {
     "name": "stderr",
     "output_type": "stream",
     "text": [
      "\u001b[32mProgress: 100%|█████████████████████████████████████████| Time: 0:00:02\u001b[39m\n",
      "\u001b[32mProgress:  25%|██████████▎                              |  ETA: 0:02:32\u001b[39m"
     ]
    },
    {
     "name": "stdout",
     "output_type": "stream",
     "text": [
      "  2.646402 seconds (49.92 M allocations: 3.519 GiB, 12.98% gc time)\n",
      "Ne = 20\n",
      "Ne 20& β 1.05 RMSE: 0.6321372860633301\n",
      "(Ne, β) = (40, 0.95)\n"
     ]
    },
    {
     "name": "stderr",
     "output_type": "stream",
     "text": [
      "\u001b[32mProgress: 100%|█████████████████████████████████████████| Time: 0:00:04\u001b[39m\n"
     ]
    },
    {
     "name": "stdout",
     "output_type": "stream",
     "text": [
      "  4.873960 seconds (94.88 M allocations: 6.677 GiB, 13.62% gc time)\n",
      "Ne = 40\n",
      "Ne 40& β 0.95 RMSE: 0.526061692073652\n",
      "(Ne, β) = (40, 0.96)\n"
     ]
    },
    {
     "name": "stderr",
     "output_type": "stream",
     "text": [
      "\u001b[32mProgress: 100%|█████████████████████████████████████████| Time: 0:00:04\u001b[39m\n"
     ]
    },
    {
     "name": "stdout",
     "output_type": "stream",
     "text": [
      "  4.853956 seconds (94.88 M allocations: 6.677 GiB, 13.67% gc time)\n",
      "Ne = 40\n",
      "Ne 40& β 0.96 RMSE: 0.5864045378096628\n",
      "(Ne, β) = (40, 0.97)\n"
     ]
    },
    {
     "name": "stderr",
     "output_type": "stream",
     "text": [
      "\u001b[32mProgress: 100%|█████████████████████████████████████████| Time: 0:00:04\u001b[39m\n"
     ]
    },
    {
     "name": "stdout",
     "output_type": "stream",
     "text": [
      "  4.876736 seconds (94.89 M allocations: 6.677 GiB, 13.41% gc time)\n",
      "Ne = 40\n",
      "Ne 40& β 0.97 RMSE: 0.5335992013046416\n",
      "(Ne, β) = (40, 0.98)\n"
     ]
    },
    {
     "name": "stderr",
     "output_type": "stream",
     "text": [
      "\u001b[32mProgress: 100%|█████████████████████████████████████████| Time: 0:00:04\u001b[39m\n"
     ]
    },
    {
     "name": "stdout",
     "output_type": "stream",
     "text": [
      "  4.880851 seconds (94.89 M allocations: 6.677 GiB, 13.36% gc time)\n",
      "Ne = 40\n",
      "Ne 40& β 0.98 RMSE: 0.5869600534238577\n",
      "(Ne, β) = (40, 0.99)\n"
     ]
    },
    {
     "name": "stderr",
     "output_type": "stream",
     "text": [
      "\u001b[32mProgress: 100%|█████████████████████████████████████████| Time: 0:00:04\u001b[39m\n"
     ]
    },
    {
     "name": "stdout",
     "output_type": "stream",
     "text": [
      "  4.877236 seconds (94.89 M allocations: 6.677 GiB, 13.58% gc time)\n",
      "Ne = 40\n",
      "Ne 40& β 0.99 RMSE: 0.5858457746099073\n",
      "(Ne, β) = (40, 1.0)\n"
     ]
    },
    {
     "name": "stderr",
     "output_type": "stream",
     "text": [
      "\u001b[32mProgress: 100%|█████████████████████████████████████████| Time: 0:00:04\u001b[39m\n"
     ]
    },
    {
     "name": "stdout",
     "output_type": "stream",
     "text": [
      "  4.905780 seconds (94.89 M allocations: 6.677 GiB, 13.52% gc time)\n",
      "Ne = 40\n",
      "Ne 40& β 1.0 RMSE: 0.5345533695082024\n",
      "(Ne, β) = (40, 1.01)\n"
     ]
    },
    {
     "name": "stderr",
     "output_type": "stream",
     "text": [
      "\u001b[32mProgress: 100%|█████████████████████████████████████████| Time: 0:00:04\u001b[39m\n"
     ]
    },
    {
     "name": "stdout",
     "output_type": "stream",
     "text": [
      "  4.929506 seconds (94.89 M allocations: 6.677 GiB, 13.43% gc time)\n",
      "Ne = 40\n",
      "Ne 40& β 1.01 RMSE: 0.6050358172537531\n",
      "(Ne, β) = (40, 1.02)\n"
     ]
    },
    {
     "name": "stderr",
     "output_type": "stream",
     "text": [
      "\u001b[32mProgress: 100%|█████████████████████████████████████████| Time: 0:00:04\u001b[39m\n"
     ]
    },
    {
     "name": "stdout",
     "output_type": "stream",
     "text": [
      "  4.926354 seconds (94.89 M allocations: 6.677 GiB, 13.42% gc time)\n",
      "Ne = 40\n",
      "Ne 40& β 1.02 RMSE: 0.568357487747651\n",
      "(Ne, β) = (40, 1.03)\n"
     ]
    },
    {
     "name": "stderr",
     "output_type": "stream",
     "text": [
      "\u001b[32mProgress: 100%|█████████████████████████████████████████| Time: 0:00:04\u001b[39m\n"
     ]
    },
    {
     "name": "stdout",
     "output_type": "stream",
     "text": [
      "  4.926934 seconds (94.89 M allocations: 6.677 GiB, 13.38% gc time)\n",
      "Ne = 40\n",
      "Ne 40& β 1.03 RMSE: 0.5367884174494164\n",
      "(Ne, β) = (40, 1.04)\n"
     ]
    },
    {
     "name": "stderr",
     "output_type": "stream",
     "text": [
      "\u001b[32mProgress: 100%|█████████████████████████████████████████| Time: 0:00:04\u001b[39m\n"
     ]
    },
    {
     "name": "stdout",
     "output_type": "stream",
     "text": [
      "  4.933803 seconds (94.89 M allocations: 6.677 GiB, 13.35% gc time)\n",
      "Ne = 40\n",
      "Ne 40& β 1.04 RMSE: 0.5697469990848145\n",
      "(Ne, β) = (40, 1.05)\n"
     ]
    },
    {
     "name": "stderr",
     "output_type": "stream",
     "text": [
      "\u001b[32mProgress: 100%|█████████████████████████████████████████| Time: 0:00:04\u001b[39m\n",
      "\u001b[32mProgress:  38%|███████████████▍                         |  ETA: 0:02:54\u001b[39m"
     ]
    },
    {
     "name": "stdout",
     "output_type": "stream",
     "text": [
      "  4.925939 seconds (94.89 M allocations: 6.677 GiB, 13.33% gc time)\n",
      "Ne = 40\n",
      "Ne 40& β 1.05 RMSE: 0.5983007371142408\n",
      "(Ne, β) = (60, 0.95)\n"
     ]
    },
    {
     "name": "stderr",
     "output_type": "stream",
     "text": [
      "\u001b[32mProgress: 100%|█████████████████████████████████████████| Time: 0:00:07\u001b[39m\n"
     ]
    },
    {
     "name": "stdout",
     "output_type": "stream",
     "text": [
      "  7.200459 seconds (139.85 M allocations: 9.831 GiB, 13.73% gc time)\n",
      "Ne = 60\n",
      "Ne 60& β 0.95 RMSE: 0.5517990794959166\n",
      "(Ne, β) = (60, 0.96)\n"
     ]
    },
    {
     "name": "stderr",
     "output_type": "stream",
     "text": [
      "\u001b[32mProgress: 100%|█████████████████████████████████████████| Time: 0:00:07\u001b[39m\n"
     ]
    },
    {
     "name": "stdout",
     "output_type": "stream",
     "text": [
      "  7.185629 seconds (139.85 M allocations: 9.831 GiB, 13.65% gc time)\n",
      "Ne = 60\n",
      "Ne 60& β 0.96 RMSE: 0.5297515265479515\n",
      "(Ne, β) = (60, 0.97)\n"
     ]
    },
    {
     "name": "stderr",
     "output_type": "stream",
     "text": [
      "\u001b[32mProgress: 100%|█████████████████████████████████████████| Time: 0:00:07\u001b[39m\n"
     ]
    },
    {
     "name": "stdout",
     "output_type": "stream",
     "text": [
      "  7.250978 seconds (139.85 M allocations: 9.831 GiB, 13.83% gc time)\n",
      "Ne = 60\n",
      "Ne 60& β 0.97 RMSE: 0.5487243554193113\n",
      "(Ne, β) = (60, 0.98)\n"
     ]
    },
    {
     "name": "stderr",
     "output_type": "stream",
     "text": [
      "\u001b[32mProgress: 100%|█████████████████████████████████████████| Time: 0:00:07\u001b[39m\n"
     ]
    },
    {
     "name": "stdout",
     "output_type": "stream",
     "text": [
      "  7.280048 seconds (139.85 M allocations: 9.831 GiB, 13.79% gc time)\n",
      "Ne = 60\n",
      "Ne 60& β 0.98 RMSE: 0.5235687639566404\n",
      "(Ne, β) = (60, 0.99)\n"
     ]
    },
    {
     "name": "stderr",
     "output_type": "stream",
     "text": [
      "\u001b[32mProgress: 100%|█████████████████████████████████████████| Time: 0:00:07\u001b[39m\n"
     ]
    },
    {
     "name": "stdout",
     "output_type": "stream",
     "text": [
      "  7.262630 seconds (139.85 M allocations: 9.831 GiB, 13.72% gc time)\n",
      "Ne = 60\n",
      "Ne 60& β 0.99 RMSE: 0.5255546386664416\n",
      "(Ne, β) = (60, 1.0)\n"
     ]
    },
    {
     "name": "stderr",
     "output_type": "stream",
     "text": [
      "\u001b[32mProgress: 100%|█████████████████████████████████████████| Time: 0:00:07\u001b[39m\n"
     ]
    },
    {
     "name": "stdout",
     "output_type": "stream",
     "text": [
      "  7.326786 seconds (139.85 M allocations: 9.831 GiB, 13.77% gc time)\n",
      "Ne = 60\n",
      "Ne 60& β 1.0 RMSE: 0.5232981333793559\n",
      "(Ne, β) = (60, 1.01)\n"
     ]
    },
    {
     "name": "stderr",
     "output_type": "stream",
     "text": [
      "\u001b[32mProgress: 100%|█████████████████████████████████████████| Time: 0:00:07\u001b[39m\n"
     ]
    },
    {
     "name": "stdout",
     "output_type": "stream",
     "text": [
      "  7.339923 seconds (139.85 M allocations: 9.830 GiB, 13.83% gc time)\n",
      "Ne = 60\n",
      "Ne 60& β 1.01 RMSE: 0.5458236226902257\n",
      "(Ne, β) = (60, 1.02)\n"
     ]
    },
    {
     "name": "stderr",
     "output_type": "stream",
     "text": [
      "\u001b[32mProgress: 100%|█████████████████████████████████████████| Time: 0:00:07\u001b[39m\n"
     ]
    },
    {
     "name": "stdout",
     "output_type": "stream",
     "text": [
      "  7.388407 seconds (139.85 M allocations: 9.830 GiB, 13.82% gc time)\n",
      "Ne = 60\n",
      "Ne 60& β 1.02 RMSE: 0.5134357821914465\n",
      "(Ne, β) = (60, 1.03)\n"
     ]
    },
    {
     "name": "stderr",
     "output_type": "stream",
     "text": [
      "\u001b[32mProgress: 100%|█████████████████████████████████████████| Time: 0:00:07\u001b[39m\n"
     ]
    },
    {
     "name": "stdout",
     "output_type": "stream",
     "text": [
      "  7.382969 seconds (139.85 M allocations: 9.831 GiB, 13.67% gc time)\n",
      "Ne = 60\n",
      "Ne 60& β 1.03 RMSE: 0.5271442144557923\n",
      "(Ne, β) = (60, 1.04)\n"
     ]
    },
    {
     "name": "stderr",
     "output_type": "stream",
     "text": [
      "\u001b[32mProgress: 100%|█████████████████████████████████████████| Time: 0:00:07\u001b[39m\n"
     ]
    },
    {
     "name": "stdout",
     "output_type": "stream",
     "text": [
      "  7.391881 seconds (139.85 M allocations: 9.831 GiB, 13.70% gc time)\n",
      "Ne = 60\n",
      "Ne 60& β 1.04 RMSE: 0.602458577322211\n",
      "(Ne, β) = (60, 1.05)\n"
     ]
    },
    {
     "name": "stderr",
     "output_type": "stream",
     "text": [
      "\u001b[32mProgress: 100%|█████████████████████████████████████████| Time: 0:00:07\u001b[39m\n",
      "\u001b[32mProgress:  50%|████████████████████▌                    |  ETA: 0:03:05\u001b[39m"
     ]
    },
    {
     "name": "stdout",
     "output_type": "stream",
     "text": [
      "  7.395644 seconds (139.85 M allocations: 9.831 GiB, 13.71% gc time)\n",
      "Ne = 60\n",
      "Ne 60& β 1.05 RMSE: 0.5359470458895377\n",
      "(Ne, β) = (100, 0.95)\n"
     ]
    },
    {
     "name": "stderr",
     "output_type": "stream",
     "text": [
      "\u001b[32mProgress: 100%|█████████████████████████████████████████| Time: 0:00:12\u001b[39m\n"
     ]
    },
    {
     "name": "stdout",
     "output_type": "stream",
     "text": [
      " 12.004950 seconds (229.78 M allocations: 16.129 GiB, 13.89% gc time)\n",
      "Ne = 100\n",
      "Ne 100& β 0.95 RMSE: 0.5193662699499372\n",
      "(Ne, β) = (100, 0.96)\n"
     ]
    },
    {
     "name": "stderr",
     "output_type": "stream",
     "text": [
      "\u001b[32mProgress: 100%|█████████████████████████████████████████| Time: 0:00:12\u001b[39m\n"
     ]
    },
    {
     "name": "stdout",
     "output_type": "stream",
     "text": [
      " 12.108418 seconds (229.78 M allocations: 16.129 GiB, 13.77% gc time)\n",
      "Ne = 100\n",
      "Ne 100& β 0.96 RMSE: 0.5079748492069234\n",
      "(Ne, β) = (100, 0.97)\n"
     ]
    },
    {
     "name": "stderr",
     "output_type": "stream",
     "text": [
      "\u001b[32mProgress: 100%|█████████████████████████████████████████| Time: 0:00:12\u001b[39m\n"
     ]
    },
    {
     "name": "stdout",
     "output_type": "stream",
     "text": [
      " 12.137083 seconds (229.78 M allocations: 16.129 GiB, 13.64% gc time)\n",
      "Ne = 100\n",
      "Ne 100& β 0.97 RMSE: 0.49987042496324013\n",
      "(Ne, β) = (100, 0.98)\n"
     ]
    },
    {
     "name": "stderr",
     "output_type": "stream",
     "text": [
      "\u001b[32mProgress: 100%|█████████████████████████████████████████| Time: 0:00:10\u001b[39m\n"
     ]
    },
    {
     "name": "stdout",
     "output_type": "stream",
     "text": [
      " 10.922769 seconds (229.78 M allocations: 16.129 GiB, 14.68% gc time)\n",
      "Ne = 100\n",
      "Ne 100& β 0.98 RMSE: 0.4996937994155483\n",
      "(Ne, β) = (100, 0.99)\n"
     ]
    },
    {
     "name": "stderr",
     "output_type": "stream",
     "text": [
      "\u001b[32mProgress: 100%|█████████████████████████████████████████| Time: 0:00:10\u001b[39m\n"
     ]
    },
    {
     "name": "stdout",
     "output_type": "stream",
     "text": [
      " 10.673638 seconds (229.77 M allocations: 16.129 GiB, 13.06% gc time)\n",
      "Ne = 100\n",
      "Ne 100& β 0.99 RMSE: 0.5651392466514593\n",
      "(Ne, β) = (100, 1.0)\n"
     ]
    },
    {
     "name": "stderr",
     "output_type": "stream",
     "text": [
      "\u001b[32mProgress: 100%|█████████████████████████████████████████| Time: 0:00:10\u001b[39m\n"
     ]
    },
    {
     "name": "stdout",
     "output_type": "stream",
     "text": [
      " 10.636419 seconds (229.77 M allocations: 16.129 GiB, 12.93% gc time)\n",
      "Ne = 100\n",
      "Ne 100& β 1.0 RMSE: 0.5046348173327794\n",
      "(Ne, β) = (100, 1.01)\n"
     ]
    },
    {
     "name": "stderr",
     "output_type": "stream",
     "text": [
      "\u001b[32mProgress: 100%|█████████████████████████████████████████| Time: 0:00:10\u001b[39m\n"
     ]
    },
    {
     "name": "stdout",
     "output_type": "stream",
     "text": [
      " 10.637835 seconds (229.77 M allocations: 16.129 GiB, 12.82% gc time)\n",
      "Ne = 100\n",
      "Ne 100& β 1.01 RMSE: 0.5308164637284795\n",
      "(Ne, β) = (100, 1.02)\n"
     ]
    },
    {
     "name": "stderr",
     "output_type": "stream",
     "text": [
      "\u001b[32mProgress: 100%|█████████████████████████████████████████| Time: 0:00:10\u001b[39m\n"
     ]
    },
    {
     "name": "stdout",
     "output_type": "stream",
     "text": [
      " 10.715849 seconds (229.77 M allocations: 16.129 GiB, 12.75% gc time)\n",
      "Ne = 100\n",
      "Ne 100& β 1.02 RMSE: 0.5140395779088874\n",
      "(Ne, β) = (100, 1.03)\n"
     ]
    },
    {
     "name": "stderr",
     "output_type": "stream",
     "text": [
      "\u001b[32mProgress: 100%|█████████████████████████████████████████| Time: 0:00:10\u001b[39m\n"
     ]
    },
    {
     "name": "stdout",
     "output_type": "stream",
     "text": [
      " 10.893517 seconds (229.78 M allocations: 16.129 GiB, 12.85% gc time)\n",
      "Ne = 100\n",
      "Ne 100& β 1.03 RMSE: 0.5063975108726824\n",
      "(Ne, β) = (100, 1.04)\n"
     ]
    },
    {
     "name": "stderr",
     "output_type": "stream",
     "text": [
      "\u001b[32mProgress: 100%|█████████████████████████████████████████| Time: 0:00:10\u001b[39m\n"
     ]
    },
    {
     "name": "stdout",
     "output_type": "stream",
     "text": [
      " 10.976938 seconds (229.78 M allocations: 16.129 GiB, 12.99% gc time)\n",
      "Ne = 100\n",
      "Ne 100& β 1.04 RMSE: 0.5023704625639498\n",
      "(Ne, β) = (100, 1.05)\n"
     ]
    },
    {
     "name": "stderr",
     "output_type": "stream",
     "text": [
      "\u001b[32mProgress: 100%|█████████████████████████████████████████| Time: 0:00:11\u001b[39m\n",
      "\u001b[32mProgress:  62%|█████████████████████████▋               |  ETA: 0:03:05\u001b[39m"
     ]
    },
    {
     "name": "stdout",
     "output_type": "stream",
     "text": [
      " 11.088506 seconds (229.78 M allocations: 16.129 GiB, 13.00% gc time)\n",
      "Ne = 100\n",
      "Ne 100& β 1.05 RMSE: 0.504844252618068\n",
      "(Ne, β) = (200, 0.95)\n"
     ]
    },
    {
     "name": "stderr",
     "output_type": "stream",
     "text": [
      "\u001b[32mProgress: 100%|█████████████████████████████████████████| Time: 0:00:22\u001b[39m\n"
     ]
    },
    {
     "name": "stdout",
     "output_type": "stream",
     "text": [
      " 22.346210 seconds (454.59 M allocations: 31.955 GiB, 13.45% gc time)\n",
      "Ne = 200\n",
      "Ne 200& β 0.95 RMSE: 0.4803635260996815\n",
      "(Ne, β) = (200, 0.96)\n"
     ]
    },
    {
     "name": "stderr",
     "output_type": "stream",
     "text": [
      "\u001b[32mProgress: 100%|█████████████████████████████████████████| Time: 0:00:22\u001b[39m\n"
     ]
    },
    {
     "name": "stdout",
     "output_type": "stream",
     "text": [
      " 22.632569 seconds (454.60 M allocations: 31.955 GiB, 13.59% gc time)\n",
      "Ne = 200\n",
      "Ne 200& β 0.96 RMSE: 0.4872927627427276\n",
      "(Ne, β) = (200, 0.97)\n"
     ]
    },
    {
     "name": "stderr",
     "output_type": "stream",
     "text": [
      "\u001b[32mProgress: 100%|█████████████████████████████████████████| Time: 0:00:22\u001b[39m\n"
     ]
    },
    {
     "name": "stdout",
     "output_type": "stream",
     "text": [
      " 22.920468 seconds (454.59 M allocations: 31.954 GiB, 13.58% gc time)\n",
      "Ne = 200\n",
      "Ne 200& β 0.97 RMSE: 0.5098855760914754\n",
      "(Ne, β) = (200, 0.98)\n"
     ]
    },
    {
     "name": "stderr",
     "output_type": "stream",
     "text": [
      "\u001b[32mProgress: 100%|█████████████████████████████████████████| Time: 0:00:23\u001b[39m\n"
     ]
    },
    {
     "name": "stdout",
     "output_type": "stream",
     "text": [
      " 23.160961 seconds (454.59 M allocations: 31.954 GiB, 13.52% gc time)\n",
      "Ne = 200\n",
      "Ne 200& β 0.98 RMSE: 0.4868914292162333\n",
      "(Ne, β) = (200, 0.99)\n"
     ]
    },
    {
     "name": "stderr",
     "output_type": "stream",
     "text": [
      "\u001b[32mProgress: 100%|█████████████████████████████████████████| Time: 0:00:23\u001b[39m\n"
     ]
    },
    {
     "name": "stdout",
     "output_type": "stream",
     "text": [
      " 23.403640 seconds (454.60 M allocations: 31.955 GiB, 13.51% gc time)\n",
      "Ne = 200\n",
      "Ne 200& β 0.99 RMSE: 0.5002560873500156\n",
      "(Ne, β) = (200, 1.0)\n"
     ]
    },
    {
     "name": "stderr",
     "output_type": "stream",
     "text": [
      "\u001b[32mProgress: 100%|█████████████████████████████████████████| Time: 0:00:23\u001b[39m\n"
     ]
    },
    {
     "name": "stdout",
     "output_type": "stream",
     "text": [
      " 23.127500 seconds (454.60 M allocations: 31.955 GiB, 13.98% gc time)\n",
      "Ne = 200\n",
      "Ne 200& β 1.0 RMSE: 0.49672705084088203\n",
      "(Ne, β) = (200, 1.01)\n"
     ]
    },
    {
     "name": "stderr",
     "output_type": "stream",
     "text": [
      "\u001b[32mProgress: 100%|█████████████████████████████████████████| Time: 0:00:20\u001b[39m\n"
     ]
    },
    {
     "name": "stdout",
     "output_type": "stream",
     "text": [
      " 20.708318 seconds (454.59 M allocations: 31.954 GiB, 13.02% gc time)\n",
      "Ne = 200\n",
      "Ne 200& β 1.01 RMSE: 0.49006412554143214\n",
      "(Ne, β) = (200, 1.02)\n"
     ]
    },
    {
     "name": "stderr",
     "output_type": "stream",
     "text": [
      "\u001b[32mProgress: 100%|█████████████████████████████████████████| Time: 0:00:20\u001b[39m\n"
     ]
    },
    {
     "name": "stdout",
     "output_type": "stream",
     "text": [
      " 20.588153 seconds (454.59 M allocations: 31.954 GiB, 12.70% gc time)\n",
      "Ne = 200\n",
      "Ne 200& β 1.02 RMSE: 0.49482247407019475\n",
      "(Ne, β) = (200, 1.03)\n"
     ]
    },
    {
     "name": "stderr",
     "output_type": "stream",
     "text": [
      "\u001b[32mProgress: 100%|█████████████████████████████████████████| Time: 0:00:20\u001b[39m\n"
     ]
    },
    {
     "name": "stdout",
     "output_type": "stream",
     "text": [
      " 20.905507 seconds (454.59 M allocations: 31.954 GiB, 12.59% gc time)\n",
      "Ne = 200\n",
      "Ne 200& β 1.03 RMSE: 0.49847455550829445\n",
      "(Ne, β) = (200, 1.04)\n"
     ]
    },
    {
     "name": "stderr",
     "output_type": "stream",
     "text": [
      "\u001b[32mProgress: 100%|█████████████████████████████████████████| Time: 0:00:21\u001b[39m\n"
     ]
    },
    {
     "name": "stdout",
     "output_type": "stream",
     "text": [
      " 21.280925 seconds (454.59 M allocations: 31.954 GiB, 12.79% gc time)\n",
      "Ne = 200\n",
      "Ne 200& β 1.04 RMSE: 0.50256457753377\n",
      "(Ne, β) = (200, 1.05)\n"
     ]
    },
    {
     "name": "stderr",
     "output_type": "stream",
     "text": [
      "\u001b[32mProgress: 100%|█████████████████████████████████████████| Time: 0:00:21\u001b[39m\n"
     ]
    },
    {
     "name": "stdout",
     "output_type": "stream",
     "text": [
      " 21.643765 seconds (454.59 M allocations: 31.954 GiB, 12.97% gc time)\n",
      "Ne = 200\n"
     ]
    },
    {
     "name": "stderr",
     "output_type": "stream",
     "text": [
      "\r",
      "\u001b[32mProgress:  75%|██████████████████████████████▊          |  ETA: 0:03:04\u001b[39m"
     ]
    },
    {
     "name": "stdout",
     "output_type": "stream",
     "text": [
      "Ne 200& β 1.05 RMSE: 0.4934412203361845\n",
      "(Ne, β) = (400, 0.95)\n"
     ]
    },
    {
     "name": "stderr",
     "output_type": "stream",
     "text": [
      "\u001b[32mProgress: 100%|█████████████████████████████████████████| Time: 0:00:43\u001b[39m\n"
     ]
    },
    {
     "name": "stdout",
     "output_type": "stream",
     "text": [
      " 43.865408 seconds (904.24 M allocations: 63.376 GiB, 13.12% gc time)\n",
      "Ne = 400\n",
      "Ne 400& β 0.95 RMSE: 0.4966032616726723\n",
      "(Ne, β) = (400, 0.96)\n"
     ]
    },
    {
     "name": "stderr",
     "output_type": "stream",
     "text": [
      "\u001b[32mProgress: 100%|█████████████████████████████████████████| Time: 0:00:44\u001b[39m\n"
     ]
    },
    {
     "name": "stdout",
     "output_type": "stream",
     "text": [
      " 44.869630 seconds (904.24 M allocations: 63.376 GiB, 13.09% gc time)\n",
      "Ne = 400\n",
      "Ne 400& β 0.96 RMSE: 0.4927578200694277\n",
      "(Ne, β) = (400, 0.97)\n"
     ]
    },
    {
     "name": "stderr",
     "output_type": "stream",
     "text": [
      "\u001b[32mProgress: 100%|█████████████████████████████████████████| Time: 0:00:44\u001b[39m\n"
     ]
    },
    {
     "name": "stdout",
     "output_type": "stream",
     "text": [
      " 44.760125 seconds (904.24 M allocations: 63.377 GiB, 13.33% gc time)\n",
      "Ne = 400\n",
      "Ne 400& β 0.97 RMSE: 0.4865200689217106\n",
      "(Ne, β) = (400, 0.98)\n"
     ]
    },
    {
     "name": "stderr",
     "output_type": "stream",
     "text": [
      "\u001b[32mProgress: 100%|█████████████████████████████████████████| Time: 0:00:41\u001b[39m\n"
     ]
    },
    {
     "name": "stdout",
     "output_type": "stream",
     "text": [
      " 41.092524 seconds (904.24 M allocations: 63.376 GiB, 12.77% gc time)\n",
      "Ne = 400\n",
      "Ne 400& β 0.98 RMSE: 0.48975932508233483\n",
      "(Ne, β) = (400, 0.99)\n"
     ]
    },
    {
     "name": "stderr",
     "output_type": "stream",
     "text": [
      "\u001b[32mProgress: 100%|█████████████████████████████████████████| Time: 0:00:41\u001b[39m\n"
     ]
    },
    {
     "name": "stdout",
     "output_type": "stream",
     "text": [
      " 41.574992 seconds (904.24 M allocations: 63.377 GiB, 12.61% gc time)\n",
      "Ne = 400\n",
      "Ne 400& β 0.99 RMSE: 0.4906229449504541\n",
      "(Ne, β) = (400, 1.0)\n"
     ]
    },
    {
     "name": "stderr",
     "output_type": "stream",
     "text": [
      "\u001b[32mProgress: 100%|█████████████████████████████████████████| Time: 0:00:42\u001b[39m\n"
     ]
    },
    {
     "name": "stdout",
     "output_type": "stream",
     "text": [
      " 42.718542 seconds (904.24 M allocations: 63.376 GiB, 12.82% gc time)\n",
      "Ne = 400\n",
      "Ne 400& β 1.0 RMSE: 0.4944298354967293\n",
      "(Ne, β) = (400, 1.01)\n"
     ]
    },
    {
     "name": "stderr",
     "output_type": "stream",
     "text": [
      "\u001b[32mProgress: 100%|█████████████████████████████████████████| Time: 0:00:43\u001b[39m\n"
     ]
    },
    {
     "name": "stdout",
     "output_type": "stream",
     "text": [
      " 43.931814 seconds (904.24 M allocations: 63.376 GiB, 12.83% gc time)\n",
      "Ne = 400\n",
      "Ne 400& β 1.01 RMSE: 0.48849174178216653\n",
      "(Ne, β) = (400, 1.02)\n"
     ]
    },
    {
     "name": "stderr",
     "output_type": "stream",
     "text": [
      "\u001b[32mProgress: 100%|█████████████████████████████████████████| Time: 0:00:45\u001b[39m\n"
     ]
    },
    {
     "name": "stdout",
     "output_type": "stream",
     "text": [
      " 45.084560 seconds (904.24 M allocations: 63.377 GiB, 12.74% gc time)\n",
      "Ne = 400\n",
      "Ne 400& β 1.02 RMSE: 0.48561688572260825\n",
      "(Ne, β) = (400, 1.03)\n"
     ]
    },
    {
     "name": "stderr",
     "output_type": "stream",
     "text": [
      "\u001b[32mProgress: 100%|█████████████████████████████████████████| Time: 0:00:44\u001b[39m\n"
     ]
    },
    {
     "name": "stdout",
     "output_type": "stream",
     "text": [
      " 44.165042 seconds (904.24 M allocations: 63.376 GiB, 13.16% gc time)\n",
      "Ne = 400\n",
      "Ne 400& β 1.03 RMSE: 0.4875869558556531\n",
      "(Ne, β) = (400, 1.04)\n"
     ]
    },
    {
     "name": "stderr",
     "output_type": "stream",
     "text": [
      "\u001b[32mProgress: 100%|█████████████████████████████████████████| Time: 0:00:41\u001b[39m\n"
     ]
    },
    {
     "name": "stdout",
     "output_type": "stream",
     "text": [
      " 41.089159 seconds (904.24 M allocations: 63.376 GiB, 12.75% gc time)\n",
      "Ne = 400\n",
      "Ne 400& β 1.04 RMSE: 0.4974148516891929\n",
      "(Ne, β) = (400, 1.05)\n"
     ]
    },
    {
     "name": "stderr",
     "output_type": "stream",
     "text": [
      "\u001b[32mProgress: 100%|█████████████████████████████████████████| Time: 0:00:41\u001b[39m\n"
     ]
    },
    {
     "name": "stdout",
     "output_type": "stream",
     "text": [
      " 41.544359 seconds (904.24 M allocations: 63.376 GiB, 12.62% gc time)\n",
      "Ne = 400\n"
     ]
    },
    {
     "name": "stderr",
     "output_type": "stream",
     "text": [
      "\r",
      "\u001b[32mProgress:  88%|███████████████████████████████████▉     |  ETA: 0:02:27\u001b[39m"
     ]
    },
    {
     "name": "stdout",
     "output_type": "stream",
     "text": [
      "Ne 400& β 1.05 RMSE: 0.4985308620628531\n",
      "(Ne, β) = (600, 0.95)\n"
     ]
    },
    {
     "name": "stderr",
     "output_type": "stream",
     "text": [
      "\u001b[32mProgress: 100%|█████████████████████████████████████████| Time: 0:01:03\u001b[39m\n"
     ]
    },
    {
     "name": "stdout",
     "output_type": "stream",
     "text": [
      " 63.990291 seconds (1.36 G allocations: 94.880 GiB, 12.85% gc time)\n",
      "Ne = 600\n",
      "Ne 600& β 0.95 RMSE: 0.4898628732309215\n",
      "(Ne, β) = (600, 0.96)\n"
     ]
    },
    {
     "name": "stderr",
     "output_type": "stream",
     "text": [
      "\u001b[32mProgress: 100%|█████████████████████████████████████████| Time: 0:01:06\u001b[39m\n"
     ]
    },
    {
     "name": "stdout",
     "output_type": "stream",
     "text": [
      " 66.571756 seconds (1.36 G allocations: 94.880 GiB, 12.81% gc time)\n",
      "Ne = 600\n",
      "Ne 600& β 0.96 RMSE: 0.49368200840885224\n",
      "(Ne, β) = (600, 0.97)\n"
     ]
    },
    {
     "name": "stderr",
     "output_type": "stream",
     "text": [
      "\u001b[32mProgress: 100%|█████████████████████████████████████████| Time: 0:01:02\u001b[39m\n"
     ]
    },
    {
     "name": "stdout",
     "output_type": "stream",
     "text": [
      " 62.916620 seconds (1.36 G allocations: 94.880 GiB, 13.26% gc time)\n",
      "Ne = 600\n",
      "Ne 600& β 0.97 RMSE: 0.49070523069821864\n",
      "(Ne, β) = (600, 0.98)\n"
     ]
    },
    {
     "name": "stderr",
     "output_type": "stream",
     "text": [
      "\u001b[32mProgress: 100%|█████████████████████████████████████████| Time: 0:01:01\u001b[39m\n"
     ]
    },
    {
     "name": "stdout",
     "output_type": "stream",
     "text": [
      " 61.464605 seconds (1.36 G allocations: 94.880 GiB, 12.69% gc time)\n",
      "Ne = 600\n",
      "Ne 600& β 0.98 RMSE: 0.5039640249168997\n",
      "(Ne, β) = (600, 0.99)\n"
     ]
    },
    {
     "name": "stderr",
     "output_type": "stream",
     "text": [
      "\u001b[32mProgress: 100%|█████████████████████████████████████████| Time: 0:01:04\u001b[39m\n"
     ]
    },
    {
     "name": "stdout",
     "output_type": "stream",
     "text": [
      " 64.029103 seconds (1.36 G allocations: 94.880 GiB, 12.83% gc time)\n",
      "Ne = 600\n",
      "Ne 600& β 0.99 RMSE: 0.4905755824175767\n",
      "(Ne, β) = (600, 1.0)\n"
     ]
    },
    {
     "name": "stderr",
     "output_type": "stream",
     "text": [
      "\u001b[32mProgress: 100%|█████████████████████████████████████████| Time: 0:01:05\u001b[39m\n"
     ]
    },
    {
     "name": "stdout",
     "output_type": "stream",
     "text": [
      " 65.470855 seconds (1.36 G allocations: 94.880 GiB, 13.00% gc time)\n",
      "Ne = 600\n",
      "Ne 600& β 1.0 RMSE: 0.48592536436266276\n",
      "(Ne, β) = (600, 1.01)\n"
     ]
    },
    {
     "name": "stderr",
     "output_type": "stream",
     "text": [
      "\u001b[32mProgress: 100%|█████████████████████████████████████████| Time: 0:01:01\u001b[39m\n"
     ]
    },
    {
     "name": "stdout",
     "output_type": "stream",
     "text": [
      " 61.333647 seconds (1.36 G allocations: 94.880 GiB, 12.73% gc time)\n",
      "Ne = 600\n",
      "Ne 600& β 1.01 RMSE: 0.4889267051187657\n",
      "(Ne, β) = (600, 1.02)\n"
     ]
    },
    {
     "name": "stderr",
     "output_type": "stream",
     "text": [
      "\u001b[32mProgress: 100%|█████████████████████████████████████████| Time: 0:01:04\u001b[39m\n"
     ]
    },
    {
     "name": "stdout",
     "output_type": "stream",
     "text": [
      " 64.002353 seconds (1.36 G allocations: 94.880 GiB, 12.84% gc time)\n",
      "Ne = 600\n",
      "Ne 600& β 1.02 RMSE: 0.49045114985977833\n",
      "(Ne, β) = (600, 1.03)\n"
     ]
    },
    {
     "name": "stderr",
     "output_type": "stream",
     "text": [
      "\u001b[32mProgress: 100%|█████████████████████████████████████████| Time: 0:01:06\u001b[39m\n"
     ]
    },
    {
     "name": "stdout",
     "output_type": "stream",
     "text": [
      " 66.592093 seconds (1.36 G allocations: 94.880 GiB, 12.79% gc time)\n",
      "Ne = 600\n",
      "Ne 600& β 1.03 RMSE: 0.4887423193769721\n",
      "(Ne, β) = (600, 1.04)\n"
     ]
    },
    {
     "name": "stderr",
     "output_type": "stream",
     "text": [
      "\u001b[32mProgress: 100%|█████████████████████████████████████████| Time: 0:01:08\u001b[39m\n"
     ]
    },
    {
     "name": "stdout",
     "output_type": "stream",
     "text": [
      " 68.468548 seconds (1.36 G allocations: 94.880 GiB, 12.71% gc time)\n",
      "Ne = 600\n",
      "Ne 600& β 1.04 RMSE: 0.4881860190601592\n",
      "(Ne, β) = (600, 1.05)\n"
     ]
    },
    {
     "name": "stderr",
     "output_type": "stream",
     "text": [
      "\u001b[32mProgress: 100%|█████████████████████████████████████████| Time: 0:01:01\u001b[39m\n"
     ]
    },
    {
     "name": "stdout",
     "output_type": "stream",
     "text": [
      " 61.724471 seconds (1.36 G allocations: 94.880 GiB, 13.47% gc time)\n",
      "Ne = 600\n"
     ]
    },
    {
     "name": "stderr",
     "output_type": "stream",
     "text": [
      "\r",
      "\u001b[32mProgress: 100%|█████████████████████████████████████████| Time: 0:28:56\u001b[39m\n"
     ]
    },
    {
     "name": "stdout",
     "output_type": "stream",
     "text": [
      "Ne 600& β 1.05 RMSE: 0.4856713058195489\n"
     ]
    }
   ],
   "source": [
    "metric_srmf0 = benchmark_srmf_lorenz63(model, data, path, Ne_array, β_array, p);"
   ]
  },
  {
   "cell_type": "code",
   "execution_count": 14,
   "metadata": {},
   "outputs": [],
   "source": [
    "save(path*\"metric_srmf\"*string(p)*\".jld\", \"metric\", metric_srmf0)"
   ]
  },
  {
   "cell_type": "markdown",
   "metadata": {},
   "source": [
    "p = 1"
   ]
  },
  {
   "cell_type": "code",
   "execution_count": 15,
   "metadata": {},
   "outputs": [
    {
     "data": {
      "text/plain": [
       "1"
      ]
     },
     "execution_count": 15,
     "metadata": {},
     "output_type": "execute_result"
    }
   ],
   "source": [
    "p = 1"
   ]
  },
  {
   "cell_type": "code",
   "execution_count": 16,
   "metadata": {
    "scrolled": true
   },
   "outputs": [
    {
     "name": "stdout",
     "output_type": "stream",
     "text": [
      "(Ne, β) = (40, 0.95)\n"
     ]
    },
    {
     "name": "stderr",
     "output_type": "stream",
     "text": [
      "\u001b[32mProgress: 100%|█████████████████████████████████████████| Time: 0:00:07\u001b[39m\n"
     ]
    },
    {
     "name": "stdout",
     "output_type": "stream",
     "text": [
      "  7.078899 seconds (110.58 M allocations: 8.314 GiB, 10.37% gc time)\n",
      "Ne = 40\n",
      "Ne 40& β 0.95 RMSE: 0.7723808130054851\n",
      "(Ne, β) = (40, 0.96)\n"
     ]
    },
    {
     "name": "stderr",
     "output_type": "stream",
     "text": [
      "\u001b[32mProgress: 100%|█████████████████████████████████████████| Time: 0:00:07\u001b[39m\n"
     ]
    },
    {
     "name": "stdout",
     "output_type": "stream",
     "text": [
      "  7.025194 seconds (110.57 M allocations: 8.314 GiB, 10.50% gc time)\n",
      "Ne = 40\n",
      "Ne 40& β 0.96 RMSE: 0.5629149122349779\n",
      "(Ne, β) = (40, 0.97)\n"
     ]
    },
    {
     "name": "stderr",
     "output_type": "stream",
     "text": [
      "\u001b[32mProgress: 100%|█████████████████████████████████████████| Time: 0:00:07\u001b[39m\n"
     ]
    },
    {
     "name": "stdout",
     "output_type": "stream",
     "text": [
      "  7.025554 seconds (110.58 M allocations: 8.316 GiB, 10.52% gc time)\n",
      "Ne = 40\n",
      "Ne 40& β 0.97 RMSE: 0.5310537560523495\n",
      "(Ne, β) = (40, 0.98)\n"
     ]
    },
    {
     "name": "stderr",
     "output_type": "stream",
     "text": [
      "\u001b[32mProgress: 100%|█████████████████████████████████████████| Time: 0:00:07\u001b[39m\n"
     ]
    },
    {
     "name": "stdout",
     "output_type": "stream",
     "text": [
      "  7.049337 seconds (110.52 M allocations: 8.309 GiB, 10.55% gc time)\n",
      "Ne = 40\n",
      "Ne 40& β 0.98 RMSE: 0.5343250189574938\n",
      "(Ne, β) = (40, 0.99)\n"
     ]
    },
    {
     "name": "stderr",
     "output_type": "stream",
     "text": [
      "\u001b[32mProgress: 100%|█████████████████████████████████████████| Time: 0:00:07\u001b[39m\n"
     ]
    },
    {
     "name": "stdout",
     "output_type": "stream",
     "text": [
      "  7.059835 seconds (110.57 M allocations: 8.314 GiB, 10.54% gc time)\n",
      "Ne = 40\n",
      "Ne 40& β 0.99 RMSE: 0.5809329085586002\n",
      "(Ne, β) = (40, 1.0)\n"
     ]
    },
    {
     "name": "stderr",
     "output_type": "stream",
     "text": [
      "\u001b[32mProgress: 100%|█████████████████████████████████████████| Time: 0:00:07\u001b[39m\n"
     ]
    },
    {
     "name": "stdout",
     "output_type": "stream",
     "text": [
      "  7.015968 seconds (110.38 M allocations: 8.294 GiB, 10.59% gc time)\n",
      "Ne = 40\n",
      "Ne 40& β 1.0 RMSE: 0.5432796133025068\n",
      "(Ne, β) = (40, 1.01)\n"
     ]
    },
    {
     "name": "stderr",
     "output_type": "stream",
     "text": [
      "\u001b[32mProgress: 100%|█████████████████████████████████████████| Time: 0:00:07\u001b[39m\n"
     ]
    },
    {
     "name": "stdout",
     "output_type": "stream",
     "text": [
      "  7.052354 seconds (110.49 M allocations: 8.306 GiB, 10.56% gc time)\n",
      "Ne = 40\n",
      "Ne 40& β 1.01 RMSE: 1.08335727525266\n",
      "(Ne, β) = (40, 1.02)\n"
     ]
    },
    {
     "name": "stderr",
     "output_type": "stream",
     "text": [
      "\u001b[32mProgress: 100%|█████████████████████████████████████████| Time: 0:00:07\u001b[39m\n"
     ]
    },
    {
     "name": "stdout",
     "output_type": "stream",
     "text": [
      "  7.067479 seconds (110.39 M allocations: 8.294 GiB, 10.53% gc time)\n",
      "Ne = 40\n",
      "Ne 40& β 1.02 RMSE: 0.5453480548967617\n",
      "(Ne, β) = (40, 1.03)\n"
     ]
    },
    {
     "name": "stderr",
     "output_type": "stream",
     "text": [
      "\u001b[32mProgress: 100%|█████████████████████████████████████████| Time: 0:00:07\u001b[39m\n"
     ]
    },
    {
     "name": "stdout",
     "output_type": "stream",
     "text": [
      "  7.094221 seconds (110.52 M allocations: 8.309 GiB, 10.49% gc time)\n",
      "Ne = 40\n",
      "Ne 40& β 1.03 RMSE: 0.5249062589358962\n",
      "(Ne, β) = (40, 1.04)\n"
     ]
    },
    {
     "name": "stderr",
     "output_type": "stream",
     "text": [
      "\u001b[32mProgress: 100%|█████████████████████████████████████████| Time: 0:00:07\u001b[39m\n"
     ]
    },
    {
     "name": "stdout",
     "output_type": "stream",
     "text": [
      "  7.121928 seconds (110.53 M allocations: 8.310 GiB, 10.64% gc time)\n",
      "Ne = 40\n",
      "Ne 40& β 1.04 RMSE: 0.5849053245730811\n",
      "(Ne, β) = (40, 1.05)\n"
     ]
    },
    {
     "name": "stderr",
     "output_type": "stream",
     "text": [
      "\u001b[32mProgress: 100%|█████████████████████████████████████████| Time: 0:00:07\u001b[39m\n"
     ]
    },
    {
     "name": "stdout",
     "output_type": "stream",
     "text": [
      "  7.113037 seconds (110.53 M allocations: 8.310 GiB, 10.46% gc time)\n",
      "Ne = 40\n",
      "Ne 40& β 1.05 RMSE: 0.5640792586396154\n",
      "(Ne, β) = (60, 0.95)\n"
     ]
    },
    {
     "name": "stderr",
     "output_type": "stream",
     "text": [
      "\u001b[32mProgress: 100%|█████████████████████████████████████████| Time: 0:00:10\u001b[39m\n"
     ]
    },
    {
     "name": "stdout",
     "output_type": "stream",
     "text": [
      " 10.233380 seconds (161.54 M allocations: 12.174 GiB, 10.73% gc time)\n",
      "Ne = 60\n",
      "Ne 60& β 0.95 RMSE: 0.4762703645143312\n",
      "(Ne, β) = (60, 0.96)\n"
     ]
    },
    {
     "name": "stderr",
     "output_type": "stream",
     "text": [
      "\u001b[32mProgress: 100%|█████████████████████████████████████████| Time: 0:00:10\u001b[39m\n"
     ]
    },
    {
     "name": "stdout",
     "output_type": "stream",
     "text": [
      " 10.207626 seconds (161.35 M allocations: 12.153 GiB, 10.82% gc time)\n",
      "Ne = 60\n",
      "Ne 60& β 0.96 RMSE: 0.4882474751545278\n",
      "(Ne, β) = (60, 0.97)\n"
     ]
    },
    {
     "name": "stderr",
     "output_type": "stream",
     "text": [
      "\u001b[32mProgress: 100%|█████████████████████████████████████████| Time: 0:00:10\u001b[39m\n"
     ]
    },
    {
     "name": "stdout",
     "output_type": "stream",
     "text": [
      " 10.195387 seconds (161.36 M allocations: 12.154 GiB, 10.78% gc time)\n",
      "Ne = 60\n",
      "Ne 60& β 0.97 RMSE: 0.4763831266891743\n",
      "(Ne, β) = (60, 0.98)\n"
     ]
    },
    {
     "name": "stderr",
     "output_type": "stream",
     "text": [
      "\u001b[32mProgress: 100%|█████████████████████████████████████████| Time: 0:00:10\u001b[39m\n"
     ]
    },
    {
     "name": "stdout",
     "output_type": "stream",
     "text": [
      " 10.272659 seconds (161.33 M allocations: 12.150 GiB, 10.83% gc time)\n",
      "Ne = 60\n",
      "Ne 60& β 0.98 RMSE: 0.4768488554532817\n",
      "(Ne, β) = (60, 0.99)\n"
     ]
    },
    {
     "name": "stderr",
     "output_type": "stream",
     "text": [
      "\u001b[32mProgress: 100%|█████████████████████████████████████████| Time: 0:00:10\u001b[39m\n"
     ]
    },
    {
     "name": "stdout",
     "output_type": "stream",
     "text": [
      " 10.244054 seconds (161.28 M allocations: 12.144 GiB, 10.80% gc time)\n",
      "Ne = 60\n",
      "Ne 60& β 0.99 RMSE: 0.5069400094985029\n",
      "(Ne, β) = (60, 1.0)\n"
     ]
    },
    {
     "name": "stderr",
     "output_type": "stream",
     "text": [
      "\u001b[32mProgress: 100%|█████████████████████████████████████████| Time: 0:00:10\u001b[39m\n"
     ]
    },
    {
     "name": "stdout",
     "output_type": "stream",
     "text": [
      " 10.205660 seconds (161.13 M allocations: 12.128 GiB, 10.78% gc time)\n",
      "Ne = 60\n",
      "Ne 60& β 1.0 RMSE: 0.4491862411891419\n",
      "(Ne, β) = (60, 1.01)\n"
     ]
    },
    {
     "name": "stderr",
     "output_type": "stream",
     "text": [
      "\u001b[32mProgress: 100%|█████████████████████████████████████████| Time: 0:00:10\u001b[39m\n"
     ]
    },
    {
     "name": "stdout",
     "output_type": "stream",
     "text": [
      " 10.305847 seconds (161.28 M allocations: 12.145 GiB, 10.82% gc time)\n",
      "Ne = 60\n",
      "Ne 60& β 1.01 RMSE: 0.5020820734129197\n",
      "(Ne, β) = (60, 1.02)\n"
     ]
    },
    {
     "name": "stderr",
     "output_type": "stream",
     "text": [
      "\u001b[32mProgress: 100%|█████████████████████████████████████████| Time: 0:00:10\u001b[39m\n"
     ]
    },
    {
     "name": "stdout",
     "output_type": "stream",
     "text": [
      " 10.264868 seconds (161.13 M allocations: 12.127 GiB, 10.94% gc time)\n",
      "Ne = 60\n",
      "Ne 60& β 1.02 RMSE: 0.4919762085543033\n",
      "(Ne, β) = (60, 1.03)\n"
     ]
    },
    {
     "name": "stderr",
     "output_type": "stream",
     "text": [
      "\u001b[32mProgress: 100%|█████████████████████████████████████████| Time: 0:00:10\u001b[39m\n"
     ]
    },
    {
     "name": "stdout",
     "output_type": "stream",
     "text": [
      " 10.300924 seconds (161.07 M allocations: 12.119 GiB, 10.90% gc time)\n",
      "Ne = 60\n",
      "Ne 60& β 1.03 RMSE: 0.4870417259053223\n",
      "(Ne, β) = (60, 1.04)\n"
     ]
    },
    {
     "name": "stderr",
     "output_type": "stream",
     "text": [
      "\u001b[32mProgress: 100%|█████████████████████████████████████████| Time: 0:00:10\u001b[39m\n"
     ]
    },
    {
     "name": "stdout",
     "output_type": "stream",
     "text": [
      " 10.347958 seconds (160.94 M allocations: 12.105 GiB, 11.00% gc time)\n",
      "Ne = 60\n",
      "Ne 60& β 1.04 RMSE: 0.4758641306133785\n",
      "(Ne, β) = (60, 1.05)\n"
     ]
    },
    {
     "name": "stderr",
     "output_type": "stream",
     "text": [
      "\u001b[32mProgress: 100%|█████████████████████████████████████████| Time: 0:00:10\u001b[39m\n",
      "\u001b[32mProgress:  33%|█████████████▋                           |  ETA: 0:06:22\u001b[39m"
     ]
    },
    {
     "name": "stdout",
     "output_type": "stream",
     "text": [
      " 10.413946 seconds (161.00 M allocations: 12.112 GiB, 11.08% gc time)\n",
      "Ne = 60\n",
      "Ne 60& β 1.05 RMSE: 0.4863548067248575\n",
      "(Ne, β) = (100, 0.95)\n"
     ]
    },
    {
     "name": "stderr",
     "output_type": "stream",
     "text": [
      "\u001b[32mProgress: 100%|█████████████████████████████████████████| Time: 0:00:16\u001b[39m\n"
     ]
    },
    {
     "name": "stdout",
     "output_type": "stream",
     "text": [
      " 16.732375 seconds (264.10 M allocations: 19.920 GiB, 11.15% gc time)\n",
      "Ne = 100\n",
      "Ne 100& β 0.95 RMSE: 0.42995813993833953\n",
      "(Ne, β) = (100, 0.96)\n"
     ]
    },
    {
     "name": "stderr",
     "output_type": "stream",
     "text": [
      "\u001b[32mProgress: 100%|█████████████████████████████████████████| Time: 0:00:16\u001b[39m\n"
     ]
    },
    {
     "name": "stdout",
     "output_type": "stream",
     "text": [
      " 16.377927 seconds (264.28 M allocations: 19.942 GiB, 12.07% gc time)\n",
      "Ne = 100\n",
      "Ne 100& β 0.96 RMSE: 0.44474307228619964\n",
      "(Ne, β) = (100, 0.97)\n"
     ]
    },
    {
     "name": "stderr",
     "output_type": "stream",
     "text": [
      "\u001b[32mProgress: 100%|█████████████████████████████████████████| Time: 0:00:15\u001b[39m\n"
     ]
    },
    {
     "name": "stdout",
     "output_type": "stream",
     "text": [
      " 15.130775 seconds (264.48 M allocations: 19.966 GiB, 10.60% gc time)\n",
      "Ne = 100\n",
      "Ne 100& β 0.97 RMSE: 0.45883826146843526\n",
      "(Ne, β) = (100, 0.98)\n"
     ]
    },
    {
     "name": "stderr",
     "output_type": "stream",
     "text": [
      "\u001b[32mProgress: 100%|█████████████████████████████████████████| Time: 0:00:14\u001b[39m\n"
     ]
    },
    {
     "name": "stdout",
     "output_type": "stream",
     "text": [
      " 14.948581 seconds (263.75 M allocations: 19.877 GiB, 10.46% gc time)\n",
      "Ne = 100\n",
      "Ne 100& β 0.98 RMSE: 0.49609931343946184\n",
      "(Ne, β) = (100, 0.99)\n"
     ]
    },
    {
     "name": "stderr",
     "output_type": "stream",
     "text": [
      "\u001b[32mProgress: 100%|█████████████████████████████████████████| Time: 0:00:14\u001b[39m\n"
     ]
    },
    {
     "name": "stdout",
     "output_type": "stream",
     "text": [
      " 14.946672 seconds (263.66 M allocations: 19.867 GiB, 10.43% gc time)\n",
      "Ne = 100\n",
      "Ne 100& β 0.99 RMSE: 0.4353038017049091\n",
      "(Ne, β) = (100, 1.0)\n"
     ]
    },
    {
     "name": "stderr",
     "output_type": "stream",
     "text": [
      "\u001b[32mProgress: 100%|█████████████████████████████████████████| Time: 0:00:15\u001b[39m\n"
     ]
    },
    {
     "name": "stdout",
     "output_type": "stream",
     "text": [
      " 15.124175 seconds (263.69 M allocations: 19.870 GiB, 10.44% gc time)\n",
      "Ne = 100\n",
      "Ne 100& β 1.0 RMSE: 0.42661125198830213\n",
      "(Ne, β) = (100, 1.01)\n"
     ]
    },
    {
     "name": "stderr",
     "output_type": "stream",
     "text": [
      "\u001b[32mProgress: 100%|█████████████████████████████████████████| Time: 0:00:15\u001b[39m\n"
     ]
    },
    {
     "name": "stdout",
     "output_type": "stream",
     "text": [
      " 15.243410 seconds (263.50 M allocations: 19.847 GiB, 10.45% gc time)\n",
      "Ne = 100\n",
      "Ne 100& β 1.01 RMSE: 0.4566419167688565\n",
      "(Ne, β) = (100, 1.02)\n"
     ]
    },
    {
     "name": "stderr",
     "output_type": "stream",
     "text": [
      "\u001b[32mProgress: 100%|█████████████████████████████████████████| Time: 0:00:15\u001b[39m\n"
     ]
    },
    {
     "name": "stdout",
     "output_type": "stream",
     "text": [
      " 15.415580 seconds (263.81 M allocations: 19.885 GiB, 10.49% gc time)\n",
      "Ne = 100\n",
      "Ne 100& β 1.02 RMSE: 0.4699116742103299\n",
      "(Ne, β) = (100, 1.03)\n"
     ]
    },
    {
     "name": "stderr",
     "output_type": "stream",
     "text": [
      "\u001b[32mProgress: 100%|█████████████████████████████████████████| Time: 0:00:15\u001b[39m\n"
     ]
    },
    {
     "name": "stdout",
     "output_type": "stream",
     "text": [
      " 15.473183 seconds (263.37 M allocations: 19.831 GiB, 10.52% gc time)\n",
      "Ne = 100\n",
      "Ne 100& β 1.03 RMSE: 0.4622618590541929\n",
      "(Ne, β) = (100, 1.04)\n"
     ]
    },
    {
     "name": "stderr",
     "output_type": "stream",
     "text": [
      "\u001b[32mProgress: 100%|█████████████████████████████████████████| Time: 0:00:15\u001b[39m\n"
     ]
    },
    {
     "name": "stdout",
     "output_type": "stream",
     "text": [
      " 15.547387 seconds (263.15 M allocations: 19.804 GiB, 10.59% gc time)\n",
      "Ne = 100\n",
      "Ne 100& β 1.04 RMSE: 0.4405588922143494\n",
      "(Ne, β) = (100, 1.05)\n"
     ]
    },
    {
     "name": "stderr",
     "output_type": "stream",
     "text": [
      "\u001b[32mProgress: 100%|█████████████████████████████████████████| Time: 0:00:15\u001b[39m\n",
      "\u001b[32mProgress:  50%|████████████████████▌                    |  ETA: 0:06:02\u001b[39m"
     ]
    },
    {
     "name": "stdout",
     "output_type": "stream",
     "text": [
      " 15.618372 seconds (262.79 M allocations: 19.761 GiB, 10.63% gc time)\n",
      "Ne = 100\n",
      "Ne 100& β 1.05 RMSE: 0.4473540633194391\n",
      "(Ne, β) = (200, 0.95)\n"
     ]
    },
    {
     "name": "stderr",
     "output_type": "stream",
     "text": [
      "\u001b[32mProgress: 100%|█████████████████████████████████████████| Time: 0:00:31\u001b[39m\n"
     ]
    },
    {
     "name": "stdout",
     "output_type": "stream",
     "text": [
      " 31.925745 seconds (524.71 M allocations: 39.941 GiB, 11.19% gc time)\n",
      "Ne = 200\n",
      "Ne 200& β 0.95 RMSE: 0.40381548589667954\n",
      "(Ne, β) = (200, 0.96)\n"
     ]
    },
    {
     "name": "stderr",
     "output_type": "stream",
     "text": [
      "\u001b[32mProgress: 100%|█████████████████████████████████████████| Time: 0:00:32\u001b[39m\n"
     ]
    },
    {
     "name": "stdout",
     "output_type": "stream",
     "text": [
      " 32.189337 seconds (524.47 M allocations: 39.910 GiB, 11.23% gc time)\n",
      "Ne = 200\n",
      "Ne 200& β 0.96 RMSE: 0.38961915722056484\n",
      "(Ne, β) = (200, 0.97)\n"
     ]
    },
    {
     "name": "stderr",
     "output_type": "stream",
     "text": [
      "\u001b[32mProgress: 100%|█████████████████████████████████████████| Time: 0:00:32\u001b[39m\n"
     ]
    },
    {
     "name": "stdout",
     "output_type": "stream",
     "text": [
      " 32.356046 seconds (524.12 M allocations: 39.865 GiB, 11.32% gc time)\n",
      "Ne = 200\n",
      "Ne 200& β 0.97 RMSE: 0.42332071002803295\n",
      "(Ne, β) = (200, 0.98)\n"
     ]
    },
    {
     "name": "stderr",
     "output_type": "stream",
     "text": [
      "\u001b[32mProgress: 100%|█████████████████████████████████████████| Time: 0:00:32\u001b[39m\n"
     ]
    },
    {
     "name": "stdout",
     "output_type": "stream",
     "text": [
      " 32.621138 seconds (523.76 M allocations: 39.819 GiB, 11.33% gc time)\n",
      "Ne = 200\n",
      "Ne 200& β 0.98 RMSE: 0.4184421271326753\n",
      "(Ne, β) = (200, 0.99)\n"
     ]
    },
    {
     "name": "stderr",
     "output_type": "stream",
     "text": [
      "\u001b[32mProgress: 100%|█████████████████████████████████████████| Time: 0:00:32\u001b[39m\n"
     ]
    },
    {
     "name": "stdout",
     "output_type": "stream",
     "text": [
      " 32.829070 seconds (523.84 M allocations: 39.829 GiB, 11.39% gc time)\n",
      "Ne = 200\n",
      "Ne 200& β 0.99 RMSE: 0.4042303345682685\n",
      "(Ne, β) = (200, 1.0)\n"
     ]
    },
    {
     "name": "stderr",
     "output_type": "stream",
     "text": [
      "\u001b[32mProgress: 100%|█████████████████████████████████████████| Time: 0:00:31\u001b[39m\n"
     ]
    },
    {
     "name": "stdout",
     "output_type": "stream",
     "text": [
      " 31.025159 seconds (523.04 M allocations: 39.727 GiB, 11.60% gc time)\n",
      "Ne = 200\n",
      "Ne 200& β 1.0 RMSE: 0.4146757122715879\n",
      "(Ne, β) = (200, 1.01)\n"
     ]
    },
    {
     "name": "stderr",
     "output_type": "stream",
     "text": [
      "\u001b[32mProgress: 100%|█████████████████████████████████████████| Time: 0:00:29\u001b[39m\n"
     ]
    },
    {
     "name": "stdout",
     "output_type": "stream",
     "text": [
      " 29.109950 seconds (522.30 M allocations: 39.630 GiB, 10.67% gc time)\n",
      "Ne = 200\n",
      "Ne 200& β 1.01 RMSE: 0.4074581737812653\n",
      "(Ne, β) = (200, 1.02)\n"
     ]
    },
    {
     "name": "stderr",
     "output_type": "stream",
     "text": [
      "\u001b[32mProgress: 100%|█████████████████████████████████████████| Time: 0:00:29\u001b[39m\n"
     ]
    },
    {
     "name": "stdout",
     "output_type": "stream",
     "text": [
      " 29.418878 seconds (521.85 M allocations: 39.573 GiB, 10.62% gc time)\n",
      "Ne = 200\n",
      "Ne 200& β 1.02 RMSE: 0.39765203204991734\n",
      "(Ne, β) = (200, 1.03)\n"
     ]
    },
    {
     "name": "stderr",
     "output_type": "stream",
     "text": [
      "\u001b[32mProgress: 100%|█████████████████████████████████████████| Time: 0:00:29\u001b[39m\n"
     ]
    },
    {
     "name": "stdout",
     "output_type": "stream",
     "text": [
      " 29.731355 seconds (520.98 M allocations: 39.461 GiB, 10.72% gc time)\n",
      "Ne = 200\n",
      "Ne 200& β 1.03 RMSE: 0.40627919987902705\n",
      "(Ne, β) = (200, 1.04)\n"
     ]
    },
    {
     "name": "stderr",
     "output_type": "stream",
     "text": [
      "\u001b[32mProgress: 100%|█████████████████████████████████████████| Time: 0:00:30\u001b[39m\n"
     ]
    },
    {
     "name": "stdout",
     "output_type": "stream",
     "text": [
      " 30.202696 seconds (521.04 M allocations: 39.468 GiB, 10.77% gc time)\n",
      "Ne = 200\n",
      "Ne 200& β 1.04 RMSE: 0.4101973984187267\n",
      "(Ne, β) = (200, 1.05)\n"
     ]
    },
    {
     "name": "stderr",
     "output_type": "stream",
     "text": [
      "\u001b[32mProgress: 100%|█████████████████████████████████████████| Time: 0:00:30\u001b[39m\n"
     ]
    },
    {
     "name": "stdout",
     "output_type": "stream",
     "text": [
      " 30.568229 seconds (520.69 M allocations: 39.424 GiB, 10.90% gc time)\n",
      "Ne = 200\n"
     ]
    },
    {
     "name": "stderr",
     "output_type": "stream",
     "text": [
      "\r",
      "\u001b[32mProgress:  67%|███████████████████████████▍             |  ETA: 0:05:52\u001b[39m"
     ]
    },
    {
     "name": "stdout",
     "output_type": "stream",
     "text": [
      "Ne 200& β 1.05 RMSE: 0.39484602825839454\n",
      "(Ne, β) = (400, 0.95)\n"
     ]
    },
    {
     "name": "stderr",
     "output_type": "stream",
     "text": [
      "\u001b[32mProgress: 100%|█████████████████████████████████████████| Time: 0:01:03\u001b[39m\n"
     ]
    },
    {
     "name": "stdout",
     "output_type": "stream",
     "text": [
      " 63.339798 seconds (1.05 G allocations: 80.408 GiB, 11.01% gc time)\n",
      "Ne = 400\n",
      "Ne 400& β 0.95 RMSE: 0.3835741218588291\n",
      "(Ne, β) = (400, 0.96)\n"
     ]
    },
    {
     "name": "stderr",
     "output_type": "stream",
     "text": [
      "\u001b[32mProgress: 100%|█████████████████████████████████████████| Time: 0:01:04\u001b[39m\n"
     ]
    },
    {
     "name": "stdout",
     "output_type": "stream",
     "text": [
      " 64.131382 seconds (1.05 G allocations: 80.192 GiB, 11.14% gc time)\n",
      "Ne = 400\n",
      "Ne 400& β 0.96 RMSE: 0.4175559961324692\n",
      "(Ne, β) = (400, 0.97)\n"
     ]
    },
    {
     "name": "stderr",
     "output_type": "stream",
     "text": [
      "\u001b[32mProgress: 100%|█████████████████████████████████████████| Time: 0:01:02\u001b[39m\n"
     ]
    },
    {
     "name": "stdout",
     "output_type": "stream",
     "text": [
      " 62.161557 seconds (1.05 G allocations: 80.090 GiB, 11.18% gc time)\n",
      "Ne = 400\n",
      "Ne 400& β 0.97 RMSE: 0.38958203865834684\n",
      "(Ne, β) = (400, 0.98)\n"
     ]
    },
    {
     "name": "stderr",
     "output_type": "stream",
     "text": [
      "\u001b[32mProgress: 100%|█████████████████████████████████████████| Time: 0:00:58\u001b[39m\n"
     ]
    },
    {
     "name": "stdout",
     "output_type": "stream",
     "text": [
      " 58.792544 seconds (1.05 G allocations: 79.935 GiB, 10.42% gc time)\n",
      "Ne = 400\n",
      "Ne 400& β 0.98 RMSE: 0.38148653730148496\n",
      "(Ne, β) = (400, 0.99)\n"
     ]
    },
    {
     "name": "stderr",
     "output_type": "stream",
     "text": [
      "\u001b[32mProgress: 100%|█████████████████████████████████████████| Time: 0:00:59\u001b[39m\n"
     ]
    },
    {
     "name": "stdout",
     "output_type": "stream",
     "text": [
      " 59.864718 seconds (1.05 G allocations: 79.842 GiB, 10.51% gc time)\n",
      "Ne = 400\n",
      "Ne 400& β 0.99 RMSE: 0.39946084497515\n",
      "(Ne, β) = (400, 1.0)\n"
     ]
    },
    {
     "name": "stderr",
     "output_type": "stream",
     "text": [
      "\u001b[32mProgress: 100%|█████████████████████████████████████████| Time: 0:01:00\u001b[39m\n"
     ]
    },
    {
     "name": "stdout",
     "output_type": "stream",
     "text": [
      " 60.978563 seconds (1.05 G allocations: 79.626 GiB, 10.73% gc time)\n",
      "Ne = 400\n",
      "Ne 400& β 1.0 RMSE: 0.4047940592730738\n",
      "(Ne, β) = (400, 1.01)\n"
     ]
    },
    {
     "name": "stderr",
     "output_type": "stream",
     "text": [
      "\u001b[32mProgress: 100%|█████████████████████████████████████████| Time: 0:01:02\u001b[39m\n"
     ]
    },
    {
     "name": "stdout",
     "output_type": "stream",
     "text": [
      " 62.936091 seconds (1.05 G allocations: 79.674 GiB, 10.84% gc time)\n",
      "Ne = 400\n",
      "Ne 400& β 1.01 RMSE: 0.403473340612347\n",
      "(Ne, β) = (400, 1.02)\n"
     ]
    },
    {
     "name": "stderr",
     "output_type": "stream",
     "text": [
      "\u001b[32mProgress: 100%|█████████████████████████████████████████| Time: 0:01:03\u001b[39m\n"
     ]
    },
    {
     "name": "stdout",
     "output_type": "stream",
     "text": [
      " 63.228973 seconds (1.04 G allocations: 79.502 GiB, 10.99% gc time)\n",
      "Ne = 400\n",
      "Ne 400& β 1.02 RMSE: 0.39865153534078557\n",
      "(Ne, β) = (400, 1.03)\n"
     ]
    },
    {
     "name": "stderr",
     "output_type": "stream",
     "text": [
      "\u001b[32mProgress: 100%|█████████████████████████████████████████| Time: 0:00:59\u001b[39m\n"
     ]
    },
    {
     "name": "stdout",
     "output_type": "stream",
     "text": [
      " 59.592373 seconds (1.05 G allocations: 79.571 GiB, 11.14% gc time)\n",
      "Ne = 400\n",
      "Ne 400& β 1.03 RMSE: 0.39962832386085245\n",
      "(Ne, β) = (400, 1.04)\n"
     ]
    },
    {
     "name": "stderr",
     "output_type": "stream",
     "text": [
      "\u001b[32mProgress: 100%|█████████████████████████████████████████| Time: 0:00:57\u001b[39m\n"
     ]
    },
    {
     "name": "stdout",
     "output_type": "stream",
     "text": [
      " 57.971335 seconds (1.04 G allocations: 79.161 GiB, 10.54% gc time)\n",
      "Ne = 400\n",
      "Ne 400& β 1.04 RMSE: 0.38361799970069677\n",
      "(Ne, β) = (400, 1.05)\n"
     ]
    },
    {
     "name": "stderr",
     "output_type": "stream",
     "text": [
      "\u001b[32mProgress: 100%|█████████████████████████████████████████| Time: 0:00:59\u001b[39m\n"
     ]
    },
    {
     "name": "stdout",
     "output_type": "stream",
     "text": [
      " 59.066628 seconds (1.04 G allocations: 79.265 GiB, 10.61% gc time)\n",
      "Ne = 400\n"
     ]
    },
    {
     "name": "stderr",
     "output_type": "stream",
     "text": [
      "\r",
      "\u001b[32mProgress:  83%|██████████████████████████████████▏      |  ETA: 0:04:36\u001b[39m"
     ]
    },
    {
     "name": "stdout",
     "output_type": "stream",
     "text": [
      "Ne 400& β 1.05 RMSE: 0.40113149840721735\n",
      "(Ne, β) = (600, 0.95)\n"
     ]
    },
    {
     "name": "stderr",
     "output_type": "stream",
     "text": [
      "\u001b[32mProgress: 100%|█████████████████████████████████████████| Time: 0:01:32\u001b[39m\n"
     ]
    },
    {
     "name": "stdout",
     "output_type": "stream",
     "text": [
      " 92.986502 seconds (1.58 G allocations: 120.740 GiB, 10.69% gc time)\n",
      "Ne = 600\n",
      "Ne 600& β 0.95 RMSE: 0.3968036261893885\n",
      "(Ne, β) = (600, 0.96)\n"
     ]
    },
    {
     "name": "stderr",
     "output_type": "stream",
     "text": [
      "\u001b[32mProgress: 100%|█████████████████████████████████████████| Time: 0:01:33\u001b[39m\n"
     ]
    },
    {
     "name": "stdout",
     "output_type": "stream",
     "text": [
      " 93.423295 seconds (1.58 G allocations: 120.514 GiB, 10.97% gc time)\n",
      "Ne = 600\n",
      "Ne 600& β 0.96 RMSE: 0.3886737696908119\n",
      "(Ne, β) = (600, 0.97)\n"
     ]
    },
    {
     "name": "stderr",
     "output_type": "stream",
     "text": [
      "\u001b[32mProgress: 100%|█████████████████████████████████████████| Time: 0:01:29\u001b[39m\n"
     ]
    },
    {
     "name": "stdout",
     "output_type": "stream",
     "text": [
      " 89.587327 seconds (1.58 G allocations: 120.564 GiB, 10.50% gc time)\n",
      "Ne = 600\n",
      "Ne 600& β 0.97 RMSE: 0.39382001222836804\n",
      "(Ne, β) = (600, 0.98)\n"
     ]
    },
    {
     "name": "stderr",
     "output_type": "stream",
     "text": [
      "\u001b[32mProgress: 100%|█████████████████████████████████████████| Time: 0:01:31\u001b[39m\n"
     ]
    },
    {
     "name": "stdout",
     "output_type": "stream",
     "text": [
      " 91.974685 seconds (1.58 G allocations: 120.331 GiB, 10.76% gc time)\n",
      "Ne = 600\n",
      "Ne 600& β 0.98 RMSE: 0.38934507702299526\n",
      "(Ne, β) = (600, 0.99)\n"
     ]
    },
    {
     "name": "stderr",
     "output_type": "stream",
     "text": [
      "\u001b[32mProgress: 100%|█████████████████████████████████████████| Time: 0:01:34\u001b[39m\n"
     ]
    },
    {
     "name": "stdout",
     "output_type": "stream",
     "text": [
      " 94.351034 seconds (1.57 G allocations: 120.132 GiB, 10.96% gc time)\n",
      "Ne = 600\n",
      "Ne 600& β 0.99 RMSE: 0.38127094859276167\n",
      "(Ne, β) = (600, 1.0)\n"
     ]
    },
    {
     "name": "stderr",
     "output_type": "stream",
     "text": [
      "\u001b[32mProgress: 100%|█████████████████████████████████████████| Time: 0:01:35\u001b[39m\n"
     ]
    },
    {
     "name": "stdout",
     "output_type": "stream",
     "text": [
      " 95.887110 seconds (1.57 G allocations: 119.935 GiB, 11.03% gc time)\n",
      "Ne = 600\n",
      "Ne 600& β 1.0 RMSE: 0.3862182048197918\n",
      "(Ne, β) = (600, 1.01)\n"
     ]
    },
    {
     "name": "stderr",
     "output_type": "stream",
     "text": [
      "\u001b[32mProgress: 100%|█████████████████████████████████████████| Time: 0:01:27\u001b[39m\n"
     ]
    },
    {
     "name": "stdout",
     "output_type": "stream",
     "text": [
      " 87.248150 seconds (1.57 G allocations: 119.753 GiB, 10.98% gc time)\n",
      "Ne = 600\n",
      "Ne 600& β 1.01 RMSE: 0.38765857239103557\n",
      "(Ne, β) = (600, 1.02)\n"
     ]
    },
    {
     "name": "stderr",
     "output_type": "stream",
     "text": [
      "\u001b[32mProgress: 100%|█████████████████████████████████████████| Time: 0:01:28\u001b[39m\n"
     ]
    },
    {
     "name": "stdout",
     "output_type": "stream",
     "text": [
      " 88.310541 seconds (1.57 G allocations: 119.803 GiB, 10.57% gc time)\n",
      "Ne = 600\n",
      "Ne 600& β 1.02 RMSE: 0.3959200740691458\n",
      "(Ne, β) = (600, 1.03)\n"
     ]
    },
    {
     "name": "stderr",
     "output_type": "stream",
     "text": [
      "\u001b[32mProgress: 100%|█████████████████████████████████████████| Time: 0:01:30\u001b[39m\n"
     ]
    },
    {
     "name": "stdout",
     "output_type": "stream",
     "text": [
      " 90.980863 seconds (1.57 G allocations: 119.380 GiB, 10.80% gc time)\n",
      "Ne = 600\n",
      "Ne 600& β 1.03 RMSE: 0.38311574696930545\n",
      "(Ne, β) = (600, 1.04)\n"
     ]
    },
    {
     "name": "stderr",
     "output_type": "stream",
     "text": [
      "\u001b[32mProgress: 100%|█████████████████████████████████████████| Time: 0:01:29\u001b[39m\n"
     ]
    },
    {
     "name": "stdout",
     "output_type": "stream",
     "text": [
      " 89.428448 seconds (1.57 G allocations: 119.012 GiB, 10.98% gc time)\n",
      "Ne = 600\n",
      "Ne 600& β 1.04 RMSE: 0.3943156740220039\n",
      "(Ne, β) = (600, 1.05)\n"
     ]
    },
    {
     "name": "stderr",
     "output_type": "stream",
     "text": [
      "\u001b[32mProgress: 100%|█████████████████████████████████████████| Time: 0:01:27\u001b[39m\n"
     ]
    },
    {
     "name": "stdout",
     "output_type": "stream",
     "text": [
      " 87.424345 seconds (1.57 G allocations: 119.062 GiB, 10.58% gc time)\n",
      "Ne = 600\n"
     ]
    },
    {
     "name": "stderr",
     "output_type": "stream",
     "text": [
      "\r",
      "\u001b[32mProgress: 100%|█████████████████████████████████████████| Time: 0:39:41\u001b[39m\n"
     ]
    },
    {
     "name": "stdout",
     "output_type": "stream",
     "text": [
      "Ne 600& β 1.05 RMSE: 0.39856029673685395\n"
     ]
    }
   ],
   "source": [
    "metric_srmf1 = benchmark_srmf_lorenz63(model, data, path, [40, 60, 100, 200, 400, 600], β_array, p);"
   ]
  },
  {
   "cell_type": "code",
   "execution_count": 17,
   "metadata": {},
   "outputs": [],
   "source": [
    "save(path*\"metric_srmf\"*string(p)*\".jld\", \"metric\", metric_srmf1)"
   ]
  },
  {
   "cell_type": "markdown",
   "metadata": {},
   "source": [
    "p = 2"
   ]
  },
  {
   "cell_type": "code",
   "execution_count": 18,
   "metadata": {},
   "outputs": [
    {
     "data": {
      "text/plain": [
       "2"
      ]
     },
     "execution_count": 18,
     "metadata": {},
     "output_type": "execute_result"
    }
   ],
   "source": [
    "p = 2"
   ]
  },
  {
   "cell_type": "code",
   "execution_count": 19,
   "metadata": {
    "scrolled": true
   },
   "outputs": [
    {
     "name": "stdout",
     "output_type": "stream",
     "text": [
      "(Ne, β) = (60, 0.97)\n"
     ]
    },
    {
     "name": "stderr",
     "output_type": "stream",
     "text": [
      "\u001b[32mProgress:  10%|████                                     |  ETA: 0:00:10\u001b[39m"
     ]
    },
    {
     "name": "stdout",
     "output_type": "stream",
     "text": [
      "Max number of iterations is reached during the optimization"
     ]
    },
    {
     "name": "stderr",
     "output_type": "stream",
     "text": [
      "\u001b[32mProgress: 100%|█████████████████████████████████████████| Time: 0:00:10\u001b[39m\n"
     ]
    },
    {
     "name": "stdout",
     "output_type": "stream",
     "text": [
      " 10.980591 seconds (164.40 M allocations: 12.733 GiB, 10.14% gc time)\n",
      "Ne = 60\n",
      "Ne 60& β 0.97 RMSE: 0.762719711537487\n",
      "(Ne, β) = (60, 0.98)\n"
     ]
    },
    {
     "name": "stderr",
     "output_type": "stream",
     "text": [
      "\u001b[32mProgress: 100%|█████████████████████████████████████████| Time: 0:00:11\u001b[39m\n"
     ]
    },
    {
     "name": "stdout",
     "output_type": "stream",
     "text": [
      " 11.040051 seconds (164.46 M allocations: 12.740 GiB, 10.19% gc time)\n",
      "Ne = 60\n",
      "Ne 60& β 0.98 RMSE: 0.5591917485590263\n",
      "(Ne, β) = (60, 0.99)\n"
     ]
    },
    {
     "name": "stderr",
     "output_type": "stream",
     "text": [
      "\u001b[32mProgress: 100%|█████████████████████████████████████████| Time: 0:00:11\u001b[39m\n"
     ]
    },
    {
     "name": "stdout",
     "output_type": "stream",
     "text": [
      " 11.066374 seconds (164.46 M allocations: 12.741 GiB, 10.16% gc time)\n",
      "Ne = 60\n",
      "Ne 60& β 0.99 RMSE: 0.5961111316702354\n",
      "(Ne, β) = (60, 1.0)\n"
     ]
    },
    {
     "name": "stderr",
     "output_type": "stream",
     "text": [
      "\u001b[32mProgress:  75%|██████████████████████████████▊          |  ETA: 0:00:03\u001b[39m"
     ]
    },
    {
     "name": "stdout",
     "output_type": "stream",
     "text": [
      "Max number of iterations is reached during the optimization"
     ]
    },
    {
     "name": "stderr",
     "output_type": "stream",
     "text": [
      "\u001b[32mProgress: 100%|█████████████████████████████████████████| Time: 0:00:11\u001b[39m\n"
     ]
    },
    {
     "name": "stdout",
     "output_type": "stream",
     "text": [
      " 11.081931 seconds (164.41 M allocations: 12.734 GiB, 10.27% gc time)\n",
      "Ne = 60\n",
      "Ne 60& β 1.0 RMSE: 0.6274974311198191\n",
      "(Ne, β) = (60, 1.01)\n"
     ]
    },
    {
     "name": "stderr",
     "output_type": "stream",
     "text": [
      "\u001b[32mProgress:  18%|███████▌                                 |  ETA: 0:00:09\u001b[39m"
     ]
    },
    {
     "name": "stdout",
     "output_type": "stream",
     "text": [
      "Max number of iterations is reached during the optimization"
     ]
    },
    {
     "name": "stderr",
     "output_type": "stream",
     "text": [
      "\u001b[32mProgress: 100%|█████████████████████████████████████████| Time: 0:00:11\u001b[39m\n"
     ]
    },
    {
     "name": "stdout",
     "output_type": "stream",
     "text": [
      " 11.092600 seconds (164.43 M allocations: 12.735 GiB, 10.24% gc time)\n",
      "Ne = 60\n",
      "Ne 60& β 1.01 RMSE: 1.7487710387136073\n",
      "(Ne, β) = (60, 1.02)\n"
     ]
    },
    {
     "name": "stderr",
     "output_type": "stream",
     "text": [
      "\u001b[32mProgress:  81%|█████████████████████████████████▎       |  ETA: 0:00:02\u001b[39m"
     ]
    },
    {
     "name": "stdout",
     "output_type": "stream",
     "text": [
      "Max number of iterations is reached during the optimization"
     ]
    },
    {
     "name": "stderr",
     "output_type": "stream",
     "text": [
      "\u001b[32mProgress: 100%|█████████████████████████████████████████| Time: 0:00:11\u001b[39m\n"
     ]
    },
    {
     "name": "stdout",
     "output_type": "stream",
     "text": [
      " 11.163995 seconds (164.31 M allocations: 12.722 GiB, 10.29% gc time)\n",
      "Ne = 60\n",
      "Ne 60& β 1.02 RMSE: 0.5275483215977215\n",
      "(Ne, β) = (60, 1.03)\n"
     ]
    },
    {
     "name": "stderr",
     "output_type": "stream",
     "text": [
      "\u001b[32mProgress: 100%|█████████████████████████████████████████| Time: 0:00:11\u001b[39m\n"
     ]
    },
    {
     "name": "stdout",
     "output_type": "stream",
     "text": [
      " 11.175971 seconds (164.49 M allocations: 12.743 GiB, 10.25% gc time)\n",
      "Ne = 60\n",
      "Ne 60& β 1.03 RMSE: 0.5491029006406792\n",
      "(Ne, β) = (60, 1.04)\n"
     ]
    },
    {
     "name": "stderr",
     "output_type": "stream",
     "text": [
      "\u001b[32mProgress: 100%|█████████████████████████████████████████| Time: 0:00:11\u001b[39m\n"
     ]
    },
    {
     "name": "stdout",
     "output_type": "stream",
     "text": [
      " 11.204574 seconds (164.38 M allocations: 12.730 GiB, 10.33% gc time)\n",
      "Ne = 60\n",
      "Ne 60& β 1.04 RMSE: 0.5726929692575105\n",
      "(Ne, β) = (100, 0.97)\n"
     ]
    },
    {
     "name": "stderr",
     "output_type": "stream",
     "text": [
      "\u001b[32mProgress: 100%|█████████████████████████████████████████| Time: 0:00:17\u001b[39m\n"
     ]
    },
    {
     "name": "stdout",
     "output_type": "stream",
     "text": [
      " 17.524091 seconds (266.66 M allocations: 20.592 GiB, 10.54% gc time)\n",
      "Ne = 100\n",
      "Ne 100& β 0.97 RMSE: 0.44591138246561113\n",
      "(Ne, β) = (100, 0.98)\n"
     ]
    },
    {
     "name": "stderr",
     "output_type": "stream",
     "text": [
      "\u001b[32mProgress: 100%|█████████████████████████████████████████| Time: 0:00:17\u001b[39m\n"
     ]
    },
    {
     "name": "stdout",
     "output_type": "stream",
     "text": [
      " 17.480044 seconds (266.53 M allocations: 20.577 GiB, 10.57% gc time)\n",
      "Ne = 100\n",
      "Ne 100& β 0.98 RMSE: 0.4890427877006731\n",
      "(Ne, β) = (100, 0.99)\n"
     ]
    },
    {
     "name": "stderr",
     "output_type": "stream",
     "text": [
      "\u001b[32mProgress: 100%|█████████████████████████████████████████| Time: 0:00:17\u001b[39m\n"
     ]
    },
    {
     "name": "stdout",
     "output_type": "stream",
     "text": [
      " 17.589312 seconds (266.16 M allocations: 20.532 GiB, 10.66% gc time)\n",
      "Ne = 100\n",
      "Ne 100& β 0.99 RMSE: 0.4576815812298288\n",
      "(Ne, β) = (100, 1.0)\n"
     ]
    },
    {
     "name": "stderr",
     "output_type": "stream",
     "text": [
      "\u001b[32mProgress: 100%|█████████████████████████████████████████| Time: 0:00:17\u001b[39m\n"
     ]
    },
    {
     "name": "stdout",
     "output_type": "stream",
     "text": [
      " 17.624616 seconds (266.39 M allocations: 20.560 GiB, 10.56% gc time)\n",
      "Ne = 100\n",
      "Ne 100& β 1.0 RMSE: 0.4400694902194817\n",
      "(Ne, β) = (100, 1.01)\n"
     ]
    },
    {
     "name": "stderr",
     "output_type": "stream",
     "text": [
      "\u001b[32mProgress: 100%|█████████████████████████████████████████| Time: 0:00:17\u001b[39m\n"
     ]
    },
    {
     "name": "stdout",
     "output_type": "stream",
     "text": [
      " 17.644344 seconds (266.49 M allocations: 20.572 GiB, 10.67% gc time)\n",
      "Ne = 100\n",
      "Ne 100& β 1.01 RMSE: 0.43327759594502135\n",
      "(Ne, β) = (100, 1.02)\n"
     ]
    },
    {
     "name": "stderr",
     "output_type": "stream",
     "text": [
      "\u001b[32mProgress: 100%|█████████████████████████████████████████| Time: 0:00:17\u001b[39m\n"
     ]
    },
    {
     "name": "stdout",
     "output_type": "stream",
     "text": [
      " 17.763290 seconds (266.41 M allocations: 20.564 GiB, 10.72% gc time)\n",
      "Ne = 100\n",
      "Ne 100& β 1.02 RMSE: 0.454250036795357\n",
      "(Ne, β) = (100, 1.03)\n"
     ]
    },
    {
     "name": "stderr",
     "output_type": "stream",
     "text": [
      "\u001b[32mProgress: 100%|█████████████████████████████████████████| Time: 0:00:17\u001b[39m\n"
     ]
    },
    {
     "name": "stdout",
     "output_type": "stream",
     "text": [
      " 17.820835 seconds (266.42 M allocations: 20.563 GiB, 10.67% gc time)\n",
      "Ne = 100\n",
      "Ne 100& β 1.03 RMSE: 0.4442369845515785\n",
      "(Ne, β) = (100, 1.04)\n"
     ]
    },
    {
     "name": "stderr",
     "output_type": "stream",
     "text": [
      "\u001b[32mProgress: 100%|█████████████████████████████████████████| Time: 0:00:17\u001b[39m\n",
      "\u001b[32mProgress:  40%|████████████████▍                        |  ETA: 0:05:46\u001b[39m"
     ]
    },
    {
     "name": "stdout",
     "output_type": "stream",
     "text": [
      " 17.856874 seconds (266.32 M allocations: 20.554 GiB, 10.61% gc time)\n",
      "Ne = 100\n",
      "Ne 100& β 1.04 RMSE: 0.46971626606379907\n",
      "(Ne, β) = (200, 0.97)\n"
     ]
    },
    {
     "name": "stderr",
     "output_type": "stream",
     "text": [
      "\u001b[32mProgress: 100%|█████████████████████████████████████████| Time: 0:00:31\u001b[39m\n"
     ]
    },
    {
     "name": "stdout",
     "output_type": "stream",
     "text": [
      " 31.439676 seconds (523.17 M allocations: 40.434 GiB, 11.09% gc time)\n",
      "Ne = 200\n",
      "Ne 200& β 0.97 RMSE: 0.432652545199624\n",
      "(Ne, β) = (200, 0.98)\n"
     ]
    },
    {
     "name": "stderr",
     "output_type": "stream",
     "text": [
      "\u001b[32mProgress: 100%|█████████████████████████████████████████| Time: 0:00:30\u001b[39m\n"
     ]
    },
    {
     "name": "stdout",
     "output_type": "stream",
     "text": [
      " 30.377418 seconds (523.43 M allocations: 40.463 GiB, 10.28% gc time)\n",
      "Ne = 200\n",
      "Ne 200& β 0.98 RMSE: 0.41821355702386404\n",
      "(Ne, β) = (200, 0.99)\n"
     ]
    },
    {
     "name": "stderr",
     "output_type": "stream",
     "text": [
      "\u001b[32mProgress: 100%|█████████████████████████████████████████| Time: 0:00:30\u001b[39m\n"
     ]
    },
    {
     "name": "stdout",
     "output_type": "stream",
     "text": [
      " 30.750777 seconds (523.07 M allocations: 40.416 GiB, 10.26% gc time)\n",
      "Ne = 200\n",
      "Ne 200& β 0.99 RMSE: 0.3867893454100539\n",
      "(Ne, β) = (200, 1.0)\n"
     ]
    },
    {
     "name": "stderr",
     "output_type": "stream",
     "text": [
      "\u001b[32mProgress: 100%|█████████████████████████████████████████| Time: 0:00:31\u001b[39m\n"
     ]
    },
    {
     "name": "stdout",
     "output_type": "stream",
     "text": [
      " 31.166905 seconds (523.17 M allocations: 40.432 GiB, 10.39% gc time)\n",
      "Ne = 200\n",
      "Ne 200& β 1.0 RMSE: 0.43394864526160815\n",
      "(Ne, β) = (200, 1.01)\n"
     ]
    },
    {
     "name": "stderr",
     "output_type": "stream",
     "text": [
      "\u001b[32mProgress: 100%|█████████████████████████████████████████| Time: 0:00:31\u001b[39m\n"
     ]
    },
    {
     "name": "stdout",
     "output_type": "stream",
     "text": [
      " 31.509066 seconds (522.81 M allocations: 40.385 GiB, 10.44% gc time)\n",
      "Ne = 200\n",
      "Ne 200& β 1.01 RMSE: 0.40698352056882675\n",
      "(Ne, β) = (200, 1.02)\n"
     ]
    },
    {
     "name": "stderr",
     "output_type": "stream",
     "text": [
      "\u001b[32mProgress: 100%|█████████████████████████████████████████| Time: 0:00:31\u001b[39m\n"
     ]
    },
    {
     "name": "stdout",
     "output_type": "stream",
     "text": [
      " 31.827822 seconds (522.71 M allocations: 40.379 GiB, 10.55% gc time)\n",
      "Ne = 200\n",
      "Ne 200& β 1.02 RMSE: 0.4086659180635214\n",
      "(Ne, β) = (200, 1.03)\n"
     ]
    },
    {
     "name": "stderr",
     "output_type": "stream",
     "text": [
      "\u001b[32mProgress: 100%|█████████████████████████████████████████| Time: 0:00:32\u001b[39m\n"
     ]
    },
    {
     "name": "stdout",
     "output_type": "stream",
     "text": [
      " 32.255502 seconds (522.48 M allocations: 40.344 GiB, 10.67% gc time)\n",
      "Ne = 200\n",
      "Ne 200& β 1.03 RMSE: 0.3937659077099665\n",
      "(Ne, β) = (200, 1.04)\n"
     ]
    },
    {
     "name": "stderr",
     "output_type": "stream",
     "text": [
      "\u001b[32mProgress: 100%|█████████████████████████████████████████| Time: 0:00:32\u001b[39m\n",
      "\u001b[32mProgress:  60%|████████████████████████▋                |  ETA: 0:05:22\u001b[39m"
     ]
    },
    {
     "name": "stdout",
     "output_type": "stream",
     "text": [
      " 32.745148 seconds (523.07 M allocations: 40.416 GiB, 10.68% gc time)\n",
      "Ne = 200\n",
      "Ne 200& β 1.04 RMSE: 0.40885683388927235\n",
      "(Ne, β) = (400, 0.97)\n"
     ]
    },
    {
     "name": "stderr",
     "output_type": "stream",
     "text": [
      "\u001b[32mProgress: 100%|█████████████████████████████████████████| Time: 0:01:05\u001b[39m\n"
     ]
    },
    {
     "name": "stdout",
     "output_type": "stream",
     "text": [
      " 65.666912 seconds (1.04 G allocations: 80.724 GiB, 10.86% gc time)\n",
      "Ne = 400\n",
      "Ne 400& β 0.97 RMSE: 0.37384839717719875\n",
      "(Ne, β) = (400, 0.98)\n"
     ]
    },
    {
     "name": "stderr",
     "output_type": "stream",
     "text": [
      "\u001b[32mProgress: 100%|█████████████████████████████████████████| Time: 0:01:02\u001b[39m\n"
     ]
    },
    {
     "name": "stdout",
     "output_type": "stream",
     "text": [
      " 62.676805 seconds (1.04 G allocations: 80.701 GiB, 11.04% gc time)\n",
      "Ne = 400\n",
      "Ne 400& β 0.98 RMSE: 0.39354121650497725\n",
      "(Ne, β) = (400, 0.99)\n"
     ]
    },
    {
     "name": "stderr",
     "output_type": "stream",
     "text": [
      "\u001b[32mProgress: 100%|█████████████████████████████████████████| Time: 0:01:00\u001b[39m\n"
     ]
    },
    {
     "name": "stdout",
     "output_type": "stream",
     "text": [
      " 60.373196 seconds (1.04 G allocations: 80.734 GiB, 10.14% gc time)\n",
      "Ne = 400\n",
      "Ne 400& β 0.99 RMSE: 0.37829409428645105\n",
      "(Ne, β) = (400, 1.0)\n"
     ]
    },
    {
     "name": "stderr",
     "output_type": "stream",
     "text": [
      "\u001b[32mProgress: 100%|█████████████████████████████████████████| Time: 0:01:01\u001b[39m\n"
     ]
    },
    {
     "name": "stdout",
     "output_type": "stream",
     "text": [
      " 61.515880 seconds (1.04 G allocations: 80.559 GiB, 10.20% gc time)\n",
      "Ne = 400\n",
      "Ne 400& β 1.0 RMSE: 0.37359498025137877\n",
      "(Ne, β) = (400, 1.01)\n"
     ]
    },
    {
     "name": "stderr",
     "output_type": "stream",
     "text": [
      "\u001b[32mProgress: 100%|█████████████████████████████████████████| Time: 0:01:02\u001b[39m\n"
     ]
    },
    {
     "name": "stdout",
     "output_type": "stream",
     "text": [
      " 62.734997 seconds (1.04 G allocations: 80.393 GiB, 10.40% gc time)\n",
      "Ne = 400\n",
      "Ne 400& β 1.01 RMSE: 0.36894555762732945\n",
      "(Ne, β) = (400, 1.02)\n"
     ]
    },
    {
     "name": "stderr",
     "output_type": "stream",
     "text": [
      "\u001b[32mProgress: 100%|█████████████████████████████████████████| Time: 0:01:04\u001b[39m\n"
     ]
    },
    {
     "name": "stdout",
     "output_type": "stream",
     "text": [
      " 64.045168 seconds (1.04 G allocations: 80.626 GiB, 10.58% gc time)\n",
      "Ne = 400\n",
      "Ne 400& β 1.02 RMSE: 0.3832808534209229\n",
      "(Ne, β) = (400, 1.03)\n"
     ]
    },
    {
     "name": "stderr",
     "output_type": "stream",
     "text": [
      "\u001b[32mProgress: 100%|█████████████████████████████████████████| Time: 0:01:04\u001b[39m\n"
     ]
    },
    {
     "name": "stdout",
     "output_type": "stream",
     "text": [
      " 64.437053 seconds (1.04 G allocations: 80.514 GiB, 11.02% gc time)\n",
      "Ne = 400\n",
      "Ne 400& β 1.03 RMSE: 0.382527624499421\n",
      "(Ne, β) = (400, 1.04)\n"
     ]
    },
    {
     "name": "stderr",
     "output_type": "stream",
     "text": [
      "\u001b[32mProgress: 100%|█████████████████████████████████████████| Time: 0:01:00\u001b[39m\n"
     ]
    },
    {
     "name": "stdout",
     "output_type": "stream",
     "text": [
      " 60.124696 seconds (1.04 G allocations: 80.296 GiB, 10.13% gc time)\n",
      "Ne = 400\n"
     ]
    },
    {
     "name": "stderr",
     "output_type": "stream",
     "text": [
      "\r",
      "\u001b[32mProgress:  80%|████████████████████████████████▊        |  ETA: 0:04:06\u001b[39m"
     ]
    },
    {
     "name": "stdout",
     "output_type": "stream",
     "text": [
      "Ne 400& β 1.04 RMSE: 0.39534356082064825\n",
      "(Ne, β) = (600, 0.97)\n"
     ]
    },
    {
     "name": "stderr",
     "output_type": "stream",
     "text": [
      "\u001b[32mProgress: 100%|█████████████████████████████████████████| Time: 0:01:33\u001b[39m\n"
     ]
    },
    {
     "name": "stdout",
     "output_type": "stream",
     "text": [
      " 93.386281 seconds (1.57 G allocations: 121.978 GiB, 10.29% gc time)\n",
      "Ne = 600\n",
      "Ne 600& β 0.97 RMSE: 0.3842446300754131\n",
      "(Ne, β) = (600, 0.98)\n"
     ]
    },
    {
     "name": "stderr",
     "output_type": "stream",
     "text": [
      "\u001b[32mProgress: 100%|█████████████████████████████████████████| Time: 0:01:35\u001b[39m\n"
     ]
    },
    {
     "name": "stdout",
     "output_type": "stream",
     "text": [
      " 95.918974 seconds (1.57 G allocations: 121.795 GiB, 10.55% gc time)\n",
      "Ne = 600\n",
      "Ne 600& β 0.98 RMSE: 0.3871661562073406\n",
      "(Ne, β) = (600, 0.99)\n"
     ]
    },
    {
     "name": "stderr",
     "output_type": "stream",
     "text": [
      "\u001b[32mProgress: 100%|█████████████████████████████████████████| Time: 0:01:38\u001b[39m\n"
     ]
    },
    {
     "name": "stdout",
     "output_type": "stream",
     "text": [
      " 98.087995 seconds (1.57 G allocations: 121.563 GiB, 10.65% gc time)\n",
      "Ne = 600\n",
      "Ne 600& β 0.99 RMSE: 0.36857055390517507\n",
      "(Ne, β) = (600, 1.0)\n"
     ]
    },
    {
     "name": "stderr",
     "output_type": "stream",
     "text": [
      "\u001b[32mProgress: 100%|█████████████████████████████████████████| Time: 0:01:32\u001b[39m\n"
     ]
    },
    {
     "name": "stdout",
     "output_type": "stream",
     "text": [
      " 92.233819 seconds (1.57 G allocations: 121.381 GiB, 10.68% gc time)\n",
      "Ne = 600\n",
      "Ne 600& β 1.0 RMSE: 0.3653503314310143\n",
      "(Ne, β) = (600, 1.01)\n"
     ]
    },
    {
     "name": "stderr",
     "output_type": "stream",
     "text": [
      "\u001b[32mProgress: 100%|█████████████████████████████████████████| Time: 0:01:32\u001b[39m\n"
     ]
    },
    {
     "name": "stdout",
     "output_type": "stream",
     "text": [
      " 92.125905 seconds (1.57 G allocations: 121.435 GiB, 10.22% gc time)\n",
      "Ne = 600\n",
      "Ne 600& β 1.01 RMSE: 0.37299582622642413\n",
      "(Ne, β) = (600, 1.02)\n"
     ]
    },
    {
     "name": "stderr",
     "output_type": "stream",
     "text": [
      "\u001b[32mProgress: 100%|█████████████████████████████████████████| Time: 0:01:34\u001b[39m\n"
     ]
    },
    {
     "name": "stdout",
     "output_type": "stream",
     "text": [
      " 94.475293 seconds (1.57 G allocations: 121.048 GiB, 10.53% gc time)\n",
      "Ne = 600\n",
      "Ne 600& β 1.02 RMSE: 0.3694989111578834\n",
      "(Ne, β) = (600, 1.03)\n"
     ]
    },
    {
     "name": "stderr",
     "output_type": "stream",
     "text": [
      "\u001b[32mProgress: 100%|█████████████████████████████████████████| Time: 0:01:36\u001b[39m\n"
     ]
    },
    {
     "name": "stdout",
     "output_type": "stream",
     "text": [
      " 96.962215 seconds (1.57 G allocations: 120.991 GiB, 10.64% gc time)\n",
      "Ne = 600\n",
      "Ne 600& β 1.03 RMSE: 0.37262147782230703\n",
      "(Ne, β) = (600, 1.04)\n"
     ]
    },
    {
     "name": "stderr",
     "output_type": "stream",
     "text": [
      "\u001b[32mProgress: 100%|█████████████████████████████████████████| Time: 0:01:29\u001b[39m\n"
     ]
    },
    {
     "name": "stdout",
     "output_type": "stream",
     "text": [
      " 89.806533 seconds (1.56 G allocations: 120.596 GiB, 10.63% gc time)\n",
      "Ne = 600\n"
     ]
    },
    {
     "name": "stderr",
     "output_type": "stream",
     "text": [
      "\r",
      "\u001b[32mProgress: 100%|█████████████████████████████████████████| Time: 0:29:00\u001b[39m\n"
     ]
    },
    {
     "name": "stdout",
     "output_type": "stream",
     "text": [
      "Ne 600& β 1.04 RMSE: 0.3840133098523752\n"
     ]
    }
   ],
   "source": [
    "metric_srmf2 = benchmark_srmf_lorenz63(model, data, path, [60, 100, 200, 400, 600], collect(0.97:0.01:1.04), p);"
   ]
  },
  {
   "cell_type": "code",
   "execution_count": 20,
   "metadata": {},
   "outputs": [],
   "source": [
    "save(path*\"metric_srmf\"*string(p)*\".jld\", \"metric\", metric_srmf2)"
   ]
  },
  {
   "cell_type": "markdown",
   "metadata": {},
   "source": [
    "Benchmark for the Lorenz-63 problem with the sequential stochastic adaptive radial map filter"
   ]
  },
  {
   "cell_type": "markdown",
   "metadata": {},
   "source": [
    "p = 0"
   ]
  },
  {
   "cell_type": "code",
   "execution_count": 21,
   "metadata": {},
   "outputs": [
    {
     "data": {
      "text/plain": [
       "0"
      ]
     },
     "execution_count": 21,
     "metadata": {},
     "output_type": "execute_result"
    }
   ],
   "source": [
    "p = 0"
   ]
  },
  {
   "cell_type": "code",
   "execution_count": 22,
   "metadata": {
    "scrolled": true
   },
   "outputs": [
    {
     "name": "stdout",
     "output_type": "stream",
     "text": [
      "(Ne, β) = (10, 0.95)\n"
     ]
    },
    {
     "name": "stderr",
     "output_type": "stream",
     "text": [
      "\u001b[32mProgress: 100%|█████████████████████████████████████████| Time: 0:00:01\u001b[39m\n"
     ]
    },
    {
     "name": "stdout",
     "output_type": "stream",
     "text": [
      "  1.974081 seconds (28.33 M allocations: 1.988 GiB, 10.83% gc time)\n",
      "Ne = 10\n",
      "Ne 10& β 0.95 RMSE: 0.9566654682239755\n",
      "(Ne, β) = (10, 0.96)\n"
     ]
    },
    {
     "name": "stderr",
     "output_type": "stream",
     "text": [
      "\u001b[32mProgress: 100%|█████████████████████████████████████████| Time: 0:00:01\u001b[39m\n"
     ]
    },
    {
     "name": "stdout",
     "output_type": "stream",
     "text": [
      "  1.652652 seconds (27.68 M allocations: 1.959 GiB, 11.30% gc time)\n",
      "Ne = 10\n",
      "Ne 10& β 0.96 RMSE: 1.1823886359653848\n",
      "(Ne, β) = (10, 0.97)\n"
     ]
    },
    {
     "name": "stderr",
     "output_type": "stream",
     "text": [
      "\u001b[32mProgress: 100%|█████████████████████████████████████████| Time: 0:00:01\u001b[39m\n"
     ]
    },
    {
     "name": "stdout",
     "output_type": "stream",
     "text": [
      "  1.653917 seconds (27.68 M allocations: 1.959 GiB, 10.60% gc time)\n",
      "Ne = 10\n",
      "Ne 10& β 0.97 RMSE: 1.0851965350111241\n",
      "(Ne, β) = (10, 0.98)\n"
     ]
    },
    {
     "name": "stderr",
     "output_type": "stream",
     "text": [
      "\u001b[32mProgress: 100%|█████████████████████████████████████████| Time: 0:00:01\u001b[39m\n"
     ]
    },
    {
     "name": "stdout",
     "output_type": "stream",
     "text": [
      "  1.658336 seconds (27.68 M allocations: 1.959 GiB, 11.44% gc time)\n",
      "Ne = 10\n",
      "Ne 10& β 0.98 RMSE: 0.9245081916696115\n",
      "(Ne, β) = (10, 0.99)\n"
     ]
    },
    {
     "name": "stderr",
     "output_type": "stream",
     "text": [
      "\u001b[32mProgress: 100%|█████████████████████████████████████████| Time: 0:00:01\u001b[39m\n"
     ]
    },
    {
     "name": "stdout",
     "output_type": "stream",
     "text": [
      "  1.667061 seconds (27.68 M allocations: 1.959 GiB, 11.60% gc time)\n",
      "Ne = 10\n",
      "Ne 10& β 0.99 RMSE: 1.0465526229205173\n",
      "(Ne, β) = (10, 1.0)\n"
     ]
    },
    {
     "name": "stderr",
     "output_type": "stream",
     "text": [
      "\u001b[32mProgress: 100%|█████████████████████████████████████████| Time: 0:00:01\u001b[39m\n"
     ]
    },
    {
     "name": "stdout",
     "output_type": "stream",
     "text": [
      "  1.664138 seconds (27.68 M allocations: 1.959 GiB, 12.10% gc time)\n",
      "Ne = 10\n",
      "Ne 10& β 1.0 RMSE: 0.9547094978719818\n",
      "(Ne, β) = (10, 1.01)\n"
     ]
    },
    {
     "name": "stderr",
     "output_type": "stream",
     "text": [
      "\u001b[32mProgress: 100%|█████████████████████████████████████████| Time: 0:00:01\u001b[39m\n"
     ]
    },
    {
     "name": "stdout",
     "output_type": "stream",
     "text": [
      "  1.671501 seconds (27.68 M allocations: 1.959 GiB, 12.15% gc time)\n",
      "Ne = 10\n",
      "Ne 10& β 1.01 RMSE: 0.8360577586273457\n",
      "(Ne, β) = (10, 1.02)\n"
     ]
    },
    {
     "name": "stderr",
     "output_type": "stream",
     "text": [
      "\u001b[32mProgress: 100%|█████████████████████████████████████████| Time: 0:00:01\u001b[39m\n"
     ]
    },
    {
     "name": "stdout",
     "output_type": "stream",
     "text": [
      "  1.664647 seconds (27.68 M allocations: 1.959 GiB, 12.21% gc time)\n",
      "Ne = 10\n",
      "Ne 10& β 1.02 RMSE: 1.1279717953753738\n",
      "(Ne, β) = (10, 1.03)\n"
     ]
    },
    {
     "name": "stderr",
     "output_type": "stream",
     "text": [
      "\u001b[32mProgress: 100%|█████████████████████████████████████████| Time: 0:00:01\u001b[39m\n"
     ]
    },
    {
     "name": "stdout",
     "output_type": "stream",
     "text": [
      "  1.657348 seconds (27.68 M allocations: 1.959 GiB, 12.37% gc time)\n",
      "Ne = 10\n",
      "Ne 10& β 1.03 RMSE: 0.9258773857633635\n",
      "(Ne, β) = (10, 1.04)\n"
     ]
    },
    {
     "name": "stderr",
     "output_type": "stream",
     "text": [
      "\u001b[32mProgress: 100%|█████████████████████████████████████████| Time: 0:00:01\u001b[39m\n"
     ]
    },
    {
     "name": "stdout",
     "output_type": "stream",
     "text": [
      "  1.671194 seconds (27.68 M allocations: 1.959 GiB, 12.38% gc time)\n",
      "Ne = 10\n",
      "Ne 10& β 1.04 RMSE: 0.927985503851607\n",
      "(Ne, β) = (10, 1.05)\n"
     ]
    },
    {
     "name": "stderr",
     "output_type": "stream",
     "text": [
      "\u001b[32mProgress: 100%|█████████████████████████████████████████| Time: 0:00:01\u001b[39m\n"
     ]
    },
    {
     "name": "stdout",
     "output_type": "stream",
     "text": [
      "  1.665555 seconds (27.68 M allocations: 1.959 GiB, 11.12% gc time)\n",
      "Ne = 10\n",
      "Ne 10& β 1.05 RMSE: 0.924720460283887\n",
      "(Ne, β) = (20, 0.95)\n"
     ]
    },
    {
     "name": "stderr",
     "output_type": "stream",
     "text": [
      "\u001b[32mProgress: 100%|█████████████████████████████████████████| Time: 0:00:02\u001b[39m\n"
     ]
    },
    {
     "name": "stdout",
     "output_type": "stream",
     "text": [
      "  2.775704 seconds (50.40 M allocations: 3.548 GiB, 12.32% gc time)\n",
      "Ne = 20\n",
      "Ne 20& β 0.95 RMSE: 0.8139104676949105\n",
      "(Ne, β) = (20, 0.96)\n"
     ]
    },
    {
     "name": "stderr",
     "output_type": "stream",
     "text": [
      "\u001b[32mProgress: 100%|█████████████████████████████████████████| Time: 0:00:02\u001b[39m\n"
     ]
    },
    {
     "name": "stdout",
     "output_type": "stream",
     "text": [
      "  2.774063 seconds (50.40 M allocations: 3.548 GiB, 12.45% gc time)\n",
      "Ne = 20\n",
      "Ne 20& β 0.96 RMSE: 0.6994820551284352\n",
      "(Ne, β) = (20, 0.97)\n"
     ]
    },
    {
     "name": "stderr",
     "output_type": "stream",
     "text": [
      "\u001b[32mProgress: 100%|█████████████████████████████████████████| Time: 0:00:02\u001b[39m\n"
     ]
    },
    {
     "name": "stdout",
     "output_type": "stream",
     "text": [
      "  2.782942 seconds (50.40 M allocations: 3.548 GiB, 12.76% gc time)\n",
      "Ne = 20\n",
      "Ne 20& β 0.97 RMSE: 0.7654801325586719\n",
      "(Ne, β) = (20, 0.98)\n"
     ]
    },
    {
     "name": "stderr",
     "output_type": "stream",
     "text": [
      "\u001b[32mProgress: 100%|█████████████████████████████████████████| Time: 0:00:02\u001b[39m\n"
     ]
    },
    {
     "name": "stdout",
     "output_type": "stream",
     "text": [
      "  2.768506 seconds (50.40 M allocations: 3.548 GiB, 12.20% gc time)\n",
      "Ne = 20\n",
      "Ne 20& β 0.98 RMSE: 0.7189298330695608\n",
      "(Ne, β) = (20, 0.99)\n"
     ]
    },
    {
     "name": "stderr",
     "output_type": "stream",
     "text": [
      "\u001b[32mProgress: 100%|█████████████████████████████████████████| Time: 0:00:02\u001b[39m\n"
     ]
    },
    {
     "name": "stdout",
     "output_type": "stream",
     "text": [
      "  2.772240 seconds (50.40 M allocations: 3.548 GiB, 12.34% gc time)\n",
      "Ne = 20\n",
      "Ne 20& β 0.99 RMSE: 0.6869531126415794\n",
      "(Ne, β) = (20, 1.0)\n"
     ]
    },
    {
     "name": "stderr",
     "output_type": "stream",
     "text": [
      "\u001b[32mProgress: 100%|█████████████████████████████████████████| Time: 0:00:02\u001b[39m\n"
     ]
    },
    {
     "name": "stdout",
     "output_type": "stream",
     "text": [
      "  2.780749 seconds (50.40 M allocations: 3.548 GiB, 12.75% gc time)\n",
      "Ne = 20\n",
      "Ne 20& β 1.0 RMSE: 0.7461623559860884\n",
      "(Ne, β) = (20, 1.01)\n"
     ]
    },
    {
     "name": "stderr",
     "output_type": "stream",
     "text": [
      "\u001b[32mProgress: 100%|█████████████████████████████████████████| Time: 0:00:02\u001b[39m\n"
     ]
    },
    {
     "name": "stdout",
     "output_type": "stream",
     "text": [
      "  2.758831 seconds (50.40 M allocations: 3.548 GiB, 12.07% gc time)\n",
      "Ne = 20\n",
      "Ne 20& β 1.01 RMSE: 0.7132314906205584\n",
      "(Ne, β) = (20, 1.02)\n"
     ]
    },
    {
     "name": "stderr",
     "output_type": "stream",
     "text": [
      "\u001b[32mProgress: 100%|█████████████████████████████████████████| Time: 0:00:02\u001b[39m\n"
     ]
    },
    {
     "name": "stdout",
     "output_type": "stream",
     "text": [
      "  2.783423 seconds (50.40 M allocations: 3.548 GiB, 12.07% gc time)\n",
      "Ne = 20\n",
      "Ne 20& β 1.02 RMSE: 0.7049354793647375\n",
      "(Ne, β) = (20, 1.03)\n"
     ]
    },
    {
     "name": "stderr",
     "output_type": "stream",
     "text": [
      "\u001b[32mProgress: 100%|█████████████████████████████████████████| Time: 0:00:02\u001b[39m\n"
     ]
    },
    {
     "name": "stdout",
     "output_type": "stream",
     "text": [
      "  2.775348 seconds (50.40 M allocations: 3.548 GiB, 12.13% gc time)\n",
      "Ne = 20\n",
      "Ne 20& β 1.03 RMSE: 0.7090855312453264\n",
      "(Ne, β) = (20, 1.04)\n"
     ]
    },
    {
     "name": "stderr",
     "output_type": "stream",
     "text": [
      "\u001b[32mProgress: 100%|█████████████████████████████████████████| Time: 0:00:02\u001b[39m\n"
     ]
    },
    {
     "name": "stdout",
     "output_type": "stream",
     "text": [
      "  2.794565 seconds (50.40 M allocations: 3.548 GiB, 13.09% gc time)\n",
      "Ne = 20\n",
      "Ne 20& β 1.04 RMSE: 0.8175949653276705\n",
      "(Ne, β) = (20, 1.05)\n"
     ]
    },
    {
     "name": "stderr",
     "output_type": "stream",
     "text": [
      "\u001b[32mProgress: 100%|█████████████████████████████████████████| Time: 0:00:02\u001b[39m\n",
      "\u001b[32mProgress:  25%|██████████▎                              |  ETA: 0:02:33\u001b[39m"
     ]
    },
    {
     "name": "stdout",
     "output_type": "stream",
     "text": [
      "  2.789966 seconds (50.40 M allocations: 3.548 GiB, 12.30% gc time)\n",
      "Ne = 20\n",
      "Ne 20& β 1.05 RMSE: 0.7005885489023267\n",
      "(Ne, β) = (40, 0.95)\n"
     ]
    },
    {
     "name": "stderr",
     "output_type": "stream",
     "text": [
      "\u001b[32mProgress: 100%|█████████████████████████████████████████| Time: 0:00:05\u001b[39m\n"
     ]
    },
    {
     "name": "stdout",
     "output_type": "stream",
     "text": [
      "  5.073675 seconds (95.84 M allocations: 6.735 GiB, 13.37% gc time)\n",
      "Ne = 40\n",
      "Ne 40& β 0.95 RMSE: 0.5654249052247533\n",
      "(Ne, β) = (40, 0.96)\n"
     ]
    },
    {
     "name": "stderr",
     "output_type": "stream",
     "text": [
      "\u001b[32mProgress: 100%|█████████████████████████████████████████| Time: 0:00:05\u001b[39m\n"
     ]
    },
    {
     "name": "stdout",
     "output_type": "stream",
     "text": [
      "  5.074172 seconds (95.85 M allocations: 6.735 GiB, 13.05% gc time)\n",
      "Ne = 40\n",
      "Ne 40& β 0.96 RMSE: 0.576539407227566\n",
      "(Ne, β) = (40, 0.97)\n"
     ]
    },
    {
     "name": "stderr",
     "output_type": "stream",
     "text": [
      "\u001b[32mProgress: 100%|█████████████████████████████████████████| Time: 0:00:05\u001b[39m\n"
     ]
    },
    {
     "name": "stdout",
     "output_type": "stream",
     "text": [
      "  5.068132 seconds (95.85 M allocations: 6.735 GiB, 12.90% gc time)\n",
      "Ne = 40\n",
      "Ne 40& β 0.97 RMSE: 0.5597444967534441\n",
      "(Ne, β) = (40, 0.98)\n"
     ]
    },
    {
     "name": "stderr",
     "output_type": "stream",
     "text": [
      "\u001b[32mProgress: 100%|█████████████████████████████████████████| Time: 0:00:05\u001b[39m\n"
     ]
    },
    {
     "name": "stdout",
     "output_type": "stream",
     "text": [
      "  5.068032 seconds (95.85 M allocations: 6.735 GiB, 12.77% gc time)\n",
      "Ne = 40\n",
      "Ne 40& β 0.98 RMSE: 0.5484451237175191\n",
      "(Ne, β) = (40, 0.99)\n"
     ]
    },
    {
     "name": "stderr",
     "output_type": "stream",
     "text": [
      "\u001b[32mProgress: 100%|█████████████████████████████████████████| Time: 0:00:05\u001b[39m\n"
     ]
    },
    {
     "name": "stdout",
     "output_type": "stream",
     "text": [
      "  5.083632 seconds (95.85 M allocations: 6.735 GiB, 12.90% gc time)\n",
      "Ne = 40\n",
      "Ne 40& β 0.99 RMSE: 0.5650880974462081\n",
      "(Ne, β) = (40, 1.0)\n"
     ]
    },
    {
     "name": "stderr",
     "output_type": "stream",
     "text": [
      "\u001b[32mProgress: 100%|█████████████████████████████████████████| Time: 0:00:05\u001b[39m\n"
     ]
    },
    {
     "name": "stdout",
     "output_type": "stream",
     "text": [
      "  5.114767 seconds (95.85 M allocations: 6.735 GiB, 13.31% gc time)\n",
      "Ne = 40\n",
      "Ne 40& β 1.0 RMSE: 0.5796427733808884\n",
      "(Ne, β) = (40, 1.01)\n"
     ]
    },
    {
     "name": "stderr",
     "output_type": "stream",
     "text": [
      "\u001b[32mProgress: 100%|█████████████████████████████████████████| Time: 0:00:05\u001b[39m\n"
     ]
    },
    {
     "name": "stdout",
     "output_type": "stream",
     "text": [
      "  5.126907 seconds (95.85 M allocations: 6.735 GiB, 13.43% gc time)\n",
      "Ne = 40\n",
      "Ne 40& β 1.01 RMSE: 0.5772056743988228\n",
      "(Ne, β) = (40, 1.02)\n"
     ]
    },
    {
     "name": "stderr",
     "output_type": "stream",
     "text": [
      "\u001b[32mProgress: 100%|█████████████████████████████████████████| Time: 0:00:05\u001b[39m\n"
     ]
    },
    {
     "name": "stdout",
     "output_type": "stream",
     "text": [
      "  5.137920 seconds (95.85 M allocations: 6.735 GiB, 13.04% gc time)\n",
      "Ne = 40\n",
      "Ne 40& β 1.02 RMSE: 0.6027802620416329\n",
      "(Ne, β) = (40, 1.03)\n"
     ]
    },
    {
     "name": "stderr",
     "output_type": "stream",
     "text": [
      "\u001b[32mProgress: 100%|█████████████████████████████████████████| Time: 0:00:05\u001b[39m\n"
     ]
    },
    {
     "name": "stdout",
     "output_type": "stream",
     "text": [
      "  5.147779 seconds (95.85 M allocations: 6.735 GiB, 12.85% gc time)\n",
      "Ne = 40\n",
      "Ne 40& β 1.03 RMSE: 0.5639484689619054\n",
      "(Ne, β) = (40, 1.04)\n"
     ]
    },
    {
     "name": "stderr",
     "output_type": "stream",
     "text": [
      "\u001b[32mProgress: 100%|█████████████████████████████████████████| Time: 0:00:05\u001b[39m\n"
     ]
    },
    {
     "name": "stdout",
     "output_type": "stream",
     "text": [
      "  5.129830 seconds (95.85 M allocations: 6.735 GiB, 12.73% gc time)\n",
      "Ne = 40\n",
      "Ne 40& β 1.04 RMSE: 0.5815802065454888\n",
      "(Ne, β) = (40, 1.05)\n"
     ]
    },
    {
     "name": "stderr",
     "output_type": "stream",
     "text": [
      "\u001b[32mProgress: 100%|█████████████████████████████████████████| Time: 0:00:05\u001b[39m\n"
     ]
    },
    {
     "name": "stdout",
     "output_type": "stream",
     "text": [
      "  5.148844 seconds (95.85 M allocations: 6.735 GiB, 12.86% gc time)\n",
      "Ne = 40\n"
     ]
    },
    {
     "name": "stderr",
     "output_type": "stream",
     "text": [
      "\r",
      "\u001b[32mProgress:  38%|███████████████▍                         |  ETA: 0:03:00\u001b[39m"
     ]
    },
    {
     "name": "stdout",
     "output_type": "stream",
     "text": [
      "Ne 40& β 1.05 RMSE: 0.5789283193430101\n",
      "(Ne, β) = (60, 0.95)\n"
     ]
    },
    {
     "name": "stderr",
     "output_type": "stream",
     "text": [
      "\u001b[32mProgress: 100%|█████████████████████████████████████████| Time: 0:00:07\u001b[39m\n"
     ]
    },
    {
     "name": "stdout",
     "output_type": "stream",
     "text": [
      "  7.489058 seconds (141.29 M allocations: 9.918 GiB, 13.07% gc time)\n",
      "Ne = 60\n",
      "Ne 60& β 0.95 RMSE: 0.5647694813680117\n",
      "(Ne, β) = (60, 0.96)\n"
     ]
    },
    {
     "name": "stderr",
     "output_type": "stream",
     "text": [
      "\u001b[32mProgress: 100%|█████████████████████████████████████████| Time: 0:00:07\u001b[39m\n"
     ]
    },
    {
     "name": "stdout",
     "output_type": "stream",
     "text": [
      "  7.521565 seconds (141.29 M allocations: 9.918 GiB, 13.01% gc time)\n",
      "Ne = 60\n",
      "Ne 60& β 0.96 RMSE: 0.5666987571265703\n",
      "(Ne, β) = (60, 0.97)\n"
     ]
    },
    {
     "name": "stderr",
     "output_type": "stream",
     "text": [
      "\u001b[32mProgress: 100%|█████████████████████████████████████████| Time: 0:00:07\u001b[39m\n"
     ]
    },
    {
     "name": "stdout",
     "output_type": "stream",
     "text": [
      "  7.512716 seconds (141.29 M allocations: 9.918 GiB, 13.26% gc time)\n",
      "Ne = 60\n",
      "Ne 60& β 0.97 RMSE: 0.5757490198181406\n",
      "(Ne, β) = (60, 0.98)\n"
     ]
    },
    {
     "name": "stderr",
     "output_type": "stream",
     "text": [
      "\u001b[32mProgress: 100%|█████████████████████████████████████████| Time: 0:00:07\u001b[39m\n"
     ]
    },
    {
     "name": "stdout",
     "output_type": "stream",
     "text": [
      "  7.534791 seconds (141.29 M allocations: 9.918 GiB, 13.18% gc time)\n",
      "Ne = 60\n",
      "Ne 60& β 0.98 RMSE: 0.5628986205103143\n",
      "(Ne, β) = (60, 0.99)\n"
     ]
    },
    {
     "name": "stderr",
     "output_type": "stream",
     "text": [
      "\u001b[32mProgress: 100%|█████████████████████████████████████████| Time: 0:00:07\u001b[39m\n"
     ]
    },
    {
     "name": "stdout",
     "output_type": "stream",
     "text": [
      "  7.579279 seconds (141.29 M allocations: 9.918 GiB, 13.13% gc time)\n",
      "Ne = 60\n",
      "Ne 60& β 0.99 RMSE: 0.5690403774278968\n",
      "(Ne, β) = (60, 1.0)\n"
     ]
    },
    {
     "name": "stderr",
     "output_type": "stream",
     "text": [
      "\u001b[32mProgress: 100%|█████████████████████████████████████████| Time: 0:00:07\u001b[39m\n"
     ]
    },
    {
     "name": "stdout",
     "output_type": "stream",
     "text": [
      "  7.587824 seconds (141.29 M allocations: 9.918 GiB, 13.45% gc time)\n",
      "Ne = 60\n",
      "Ne 60& β 1.0 RMSE: 0.576516968985408\n",
      "(Ne, β) = (60, 1.01)\n"
     ]
    },
    {
     "name": "stderr",
     "output_type": "stream",
     "text": [
      "\u001b[32mProgress: 100%|█████████████████████████████████████████| Time: 0:00:07\u001b[39m\n"
     ]
    },
    {
     "name": "stdout",
     "output_type": "stream",
     "text": [
      "  7.640177 seconds (141.29 M allocations: 9.918 GiB, 13.18% gc time)\n",
      "Ne = 60\n",
      "Ne 60& β 1.01 RMSE: 0.524708535557424\n",
      "(Ne, β) = (60, 1.02)\n"
     ]
    },
    {
     "name": "stderr",
     "output_type": "stream",
     "text": [
      "\u001b[32mProgress: 100%|█████████████████████████████████████████| Time: 0:00:07\u001b[39m\n"
     ]
    },
    {
     "name": "stdout",
     "output_type": "stream",
     "text": [
      "  7.655775 seconds (141.29 M allocations: 9.918 GiB, 13.34% gc time)\n",
      "Ne = 60\n",
      "Ne 60& β 1.02 RMSE: 0.559624329805463\n",
      "(Ne, β) = (60, 1.03)\n"
     ]
    },
    {
     "name": "stderr",
     "output_type": "stream",
     "text": [
      "\u001b[32mProgress: 100%|█████████████████████████████████████████| Time: 0:00:07\u001b[39m\n"
     ]
    },
    {
     "name": "stdout",
     "output_type": "stream",
     "text": [
      "  7.873624 seconds (141.29 M allocations: 9.918 GiB, 16.49% gc time)\n",
      "Ne = 60\n",
      "Ne 60& β 1.03 RMSE: 0.5394654794866246\n",
      "(Ne, β) = (60, 1.04)\n"
     ]
    },
    {
     "name": "stderr",
     "output_type": "stream",
     "text": [
      "\u001b[32mProgress: 100%|█████████████████████████████████████████| Time: 0:00:06\u001b[39m\n"
     ]
    },
    {
     "name": "stdout",
     "output_type": "stream",
     "text": [
      "  6.640755 seconds (141.29 M allocations: 9.918 GiB, 12.26% gc time)\n",
      "Ne = 60\n",
      "Ne 60& β 1.04 RMSE: 0.5380258986753249\n",
      "(Ne, β) = (60, 1.05)\n"
     ]
    },
    {
     "name": "stderr",
     "output_type": "stream",
     "text": [
      "\u001b[32mProgress: 100%|█████████████████████████████████████████| Time: 0:00:06\u001b[39m\n",
      "\u001b[32mProgress:  50%|████████████████████▌                    |  ETA: 0:03:11\u001b[39m"
     ]
    },
    {
     "name": "stdout",
     "output_type": "stream",
     "text": [
      "  6.687258 seconds (141.29 M allocations: 9.918 GiB, 12.50% gc time)\n",
      "Ne = 60\n",
      "Ne 60& β 1.05 RMSE: 0.5448587589407118\n",
      "(Ne, β) = (100, 0.95)\n"
     ]
    },
    {
     "name": "stderr",
     "output_type": "stream",
     "text": [
      "\u001b[32mProgress: 100%|█████████████████████████████████████████| Time: 0:00:11\u001b[39m\n"
     ]
    },
    {
     "name": "stdout",
     "output_type": "stream",
     "text": [
      " 11.303162 seconds (232.18 M allocations: 16.277 GiB, 13.20% gc time)\n",
      "Ne = 100\n",
      "Ne 100& β 0.95 RMSE: 0.5432067072321636\n",
      "(Ne, β) = (100, 0.96)\n"
     ]
    },
    {
     "name": "stderr",
     "output_type": "stream",
     "text": [
      "\u001b[32mProgress: 100%|█████████████████████████████████████████| Time: 0:00:11\u001b[39m\n"
     ]
    },
    {
     "name": "stdout",
     "output_type": "stream",
     "text": [
      " 11.379165 seconds (232.18 M allocations: 16.277 GiB, 13.08% gc time)\n",
      "Ne = 100\n",
      "Ne 100& β 0.96 RMSE: 0.5198162025036264\n",
      "(Ne, β) = (100, 0.97)\n"
     ]
    },
    {
     "name": "stderr",
     "output_type": "stream",
     "text": [
      "\u001b[32mProgress: 100%|█████████████████████████████████████████| Time: 0:00:11\u001b[39m\n"
     ]
    },
    {
     "name": "stdout",
     "output_type": "stream",
     "text": [
      " 11.497675 seconds (232.18 M allocations: 16.277 GiB, 13.13% gc time)\n",
      "Ne = 100\n",
      "Ne 100& β 0.97 RMSE: 0.5415376907139499\n",
      "(Ne, β) = (100, 0.98)\n"
     ]
    },
    {
     "name": "stderr",
     "output_type": "stream",
     "text": [
      "\u001b[32mProgress: 100%|█████████████████████████████████████████| Time: 0:00:11\u001b[39m\n"
     ]
    },
    {
     "name": "stdout",
     "output_type": "stream",
     "text": [
      " 11.574689 seconds (232.18 M allocations: 16.277 GiB, 13.35% gc time)\n",
      "Ne = 100\n",
      "Ne 100& β 0.98 RMSE: 0.5097204270059973\n",
      "(Ne, β) = (100, 0.99)\n"
     ]
    },
    {
     "name": "stderr",
     "output_type": "stream",
     "text": [
      "\u001b[32mProgress: 100%|█████████████████████████████████████████| Time: 0:00:11\u001b[39m\n"
     ]
    },
    {
     "name": "stdout",
     "output_type": "stream",
     "text": [
      " 11.652492 seconds (232.18 M allocations: 16.277 GiB, 13.27% gc time)\n",
      "Ne = 100\n",
      "Ne 100& β 0.99 RMSE: 0.5091069460923634\n",
      "(Ne, β) = (100, 1.0)\n"
     ]
    },
    {
     "name": "stderr",
     "output_type": "stream",
     "text": [
      "\u001b[32mProgress: 100%|█████████████████████████████████████████| Time: 0:00:11\u001b[39m\n"
     ]
    },
    {
     "name": "stdout",
     "output_type": "stream",
     "text": [
      " 11.744165 seconds (232.18 M allocations: 16.277 GiB, 13.45% gc time)\n",
      "Ne = 100\n",
      "Ne 100& β 1.0 RMSE: 0.5296499729136441\n",
      "(Ne, β) = (100, 1.01)\n"
     ]
    },
    {
     "name": "stderr",
     "output_type": "stream",
     "text": [
      "\u001b[32mProgress: 100%|█████████████████████████████████████████| Time: 0:00:11\u001b[39m\n"
     ]
    },
    {
     "name": "stdout",
     "output_type": "stream",
     "text": [
      " 11.763833 seconds (232.18 M allocations: 16.277 GiB, 13.31% gc time)\n",
      "Ne = 100\n",
      "Ne 100& β 1.01 RMSE: 0.502653671566322\n",
      "(Ne, β) = (100, 1.02)\n"
     ]
    },
    {
     "name": "stderr",
     "output_type": "stream",
     "text": [
      "\u001b[32mProgress: 100%|█████████████████████████████████████████| Time: 0:00:11\u001b[39m\n"
     ]
    },
    {
     "name": "stdout",
     "output_type": "stream",
     "text": [
      " 11.833289 seconds (232.18 M allocations: 16.277 GiB, 13.42% gc time)\n",
      "Ne = 100\n",
      "Ne 100& β 1.02 RMSE: 0.5647632001026323\n",
      "(Ne, β) = (100, 1.03)\n"
     ]
    },
    {
     "name": "stderr",
     "output_type": "stream",
     "text": [
      "\u001b[32mProgress: 100%|█████████████████████████████████████████| Time: 0:00:11\u001b[39m\n"
     ]
    },
    {
     "name": "stdout",
     "output_type": "stream",
     "text": [
      " 11.901618 seconds (232.18 M allocations: 16.277 GiB, 13.43% gc time)\n",
      "Ne = 100\n",
      "Ne 100& β 1.03 RMSE: 0.5290138270346935\n",
      "(Ne, β) = (100, 1.04)\n"
     ]
    },
    {
     "name": "stderr",
     "output_type": "stream",
     "text": [
      "\u001b[32mProgress: 100%|█████████████████████████████████████████| Time: 0:00:11\u001b[39m\n"
     ]
    },
    {
     "name": "stdout",
     "output_type": "stream",
     "text": [
      " 11.970388 seconds (232.18 M allocations: 16.277 GiB, 13.36% gc time)\n",
      "Ne = 100\n",
      "Ne 100& β 1.04 RMSE: 0.5395243942919546\n",
      "(Ne, β) = (100, 1.05)\n"
     ]
    },
    {
     "name": "stderr",
     "output_type": "stream",
     "text": [
      "\u001b[32mProgress: 100%|█████████████████████████████████████████| Time: 0:00:11\u001b[39m\n",
      "\u001b[32mProgress:  62%|█████████████████████████▋               |  ETA: 0:03:13\u001b[39m"
     ]
    },
    {
     "name": "stdout",
     "output_type": "stream",
     "text": [
      " 11.995166 seconds (232.18 M allocations: 16.277 GiB, 13.23% gc time)\n",
      "Ne = 100\n",
      "Ne 100& β 1.05 RMSE: 0.5693612195170448\n",
      "(Ne, β) = (200, 0.95)\n"
     ]
    },
    {
     "name": "stderr",
     "output_type": "stream",
     "text": [
      "\u001b[32mProgress: 100%|█████████████████████████████████████████| Time: 0:00:23\u001b[39m\n"
     ]
    },
    {
     "name": "stdout",
     "output_type": "stream",
     "text": [
      " 23.613392 seconds (459.40 M allocations: 32.239 GiB, 13.31% gc time)\n",
      "Ne = 200\n",
      "Ne 200& β 0.95 RMSE: 0.4971459987177327\n",
      "(Ne, β) = (200, 0.96)\n"
     ]
    },
    {
     "name": "stderr",
     "output_type": "stream",
     "text": [
      "\u001b[32mProgress: 100%|█████████████████████████████████████████| Time: 0:00:23\u001b[39m\n"
     ]
    },
    {
     "name": "stdout",
     "output_type": "stream",
     "text": [
      " 23.749764 seconds (459.40 M allocations: 32.239 GiB, 13.26% gc time)\n",
      "Ne = 200\n",
      "Ne 200& β 0.96 RMSE: 0.5265554657002808\n",
      "(Ne, β) = (200, 0.97)\n"
     ]
    },
    {
     "name": "stderr",
     "output_type": "stream",
     "text": [
      "\u001b[32mProgress: 100%|█████████████████████████████████████████| Time: 0:00:23\u001b[39m\n"
     ]
    },
    {
     "name": "stdout",
     "output_type": "stream",
     "text": [
      " 23.951713 seconds (459.39 M allocations: 32.239 GiB, 13.20% gc time)\n",
      "Ne = 200\n",
      "Ne 200& β 0.97 RMSE: 0.5171541872235875\n",
      "(Ne, β) = (200, 0.98)\n"
     ]
    },
    {
     "name": "stderr",
     "output_type": "stream",
     "text": [
      "\u001b[32mProgress: 100%|█████████████████████████████████████████| Time: 0:00:24\u001b[39m\n"
     ]
    },
    {
     "name": "stdout",
     "output_type": "stream",
     "text": [
      " 24.115553 seconds (459.39 M allocations: 32.239 GiB, 13.14% gc time)\n",
      "Ne = 200\n",
      "Ne 200& β 0.98 RMSE: 0.4955855880652565\n",
      "(Ne, β) = (200, 0.99)\n"
     ]
    },
    {
     "name": "stderr",
     "output_type": "stream",
     "text": [
      "\u001b[32mProgress: 100%|█████████████████████████████████████████| Time: 0:00:24\u001b[39m\n"
     ]
    },
    {
     "name": "stdout",
     "output_type": "stream",
     "text": [
      " 24.265459 seconds (459.40 M allocations: 32.239 GiB, 13.12% gc time)\n",
      "Ne = 200\n",
      "Ne 200& β 0.99 RMSE: 0.49139089621796633\n",
      "(Ne, β) = (200, 1.0)\n"
     ]
    },
    {
     "name": "stderr",
     "output_type": "stream",
     "text": [
      "\u001b[32mProgress: 100%|█████████████████████████████████████████| Time: 0:00:24\u001b[39m\n"
     ]
    },
    {
     "name": "stdout",
     "output_type": "stream",
     "text": [
      " 24.076204 seconds (459.39 M allocations: 32.238 GiB, 13.61% gc time)\n",
      "Ne = 200\n",
      "Ne 200& β 1.0 RMSE: 0.5036378313604629\n",
      "(Ne, β) = (200, 1.01)\n"
     ]
    },
    {
     "name": "stderr",
     "output_type": "stream",
     "text": [
      "\u001b[32mProgress: 100%|█████████████████████████████████████████| Time: 0:00:21\u001b[39m\n"
     ]
    },
    {
     "name": "stdout",
     "output_type": "stream",
     "text": [
      " 21.165349 seconds (459.39 M allocations: 32.238 GiB, 12.68% gc time)\n",
      "Ne = 200\n",
      "Ne 200& β 1.01 RMSE: 0.486173478289185\n",
      "(Ne, β) = (200, 1.02)\n"
     ]
    },
    {
     "name": "stderr",
     "output_type": "stream",
     "text": [
      "\u001b[32mProgress: 100%|█████████████████████████████████████████| Time: 0:00:21\u001b[39m\n"
     ]
    },
    {
     "name": "stdout",
     "output_type": "stream",
     "text": [
      " 21.602909 seconds (459.39 M allocations: 32.238 GiB, 12.77% gc time)\n",
      "Ne = 200\n",
      "Ne 200& β 1.02 RMSE: 0.5156295459976489\n",
      "(Ne, β) = (200, 1.03)\n"
     ]
    },
    {
     "name": "stderr",
     "output_type": "stream",
     "text": [
      "\u001b[32mProgress: 100%|█████████████████████████████████████████| Time: 0:00:21\u001b[39m\n"
     ]
    },
    {
     "name": "stdout",
     "output_type": "stream",
     "text": [
      " 21.971110 seconds (459.39 M allocations: 32.238 GiB, 13.01% gc time)\n",
      "Ne = 200\n",
      "Ne 200& β 1.03 RMSE: 0.520214454578662\n",
      "(Ne, β) = (200, 1.04)\n"
     ]
    },
    {
     "name": "stderr",
     "output_type": "stream",
     "text": [
      "\u001b[32mProgress: 100%|█████████████████████████████████████████| Time: 0:00:22\u001b[39m\n"
     ]
    },
    {
     "name": "stdout",
     "output_type": "stream",
     "text": [
      " 22.271472 seconds (459.39 M allocations: 32.238 GiB, 12.95% gc time)\n",
      "Ne = 200\n",
      "Ne 200& β 1.04 RMSE: 0.5248278235812874\n",
      "(Ne, β) = (200, 1.05)\n"
     ]
    },
    {
     "name": "stderr",
     "output_type": "stream",
     "text": [
      "\u001b[32mProgress: 100%|█████████████████████████████████████████| Time: 0:00:22\u001b[39m\n"
     ]
    },
    {
     "name": "stdout",
     "output_type": "stream",
     "text": [
      " 22.377376 seconds (459.39 M allocations: 32.238 GiB, 13.12% gc time)\n",
      "Ne = 200\n"
     ]
    },
    {
     "name": "stderr",
     "output_type": "stream",
     "text": [
      "\r",
      "\u001b[32mProgress:  75%|██████████████████████████████▊          |  ETA: 0:03:12\u001b[39m"
     ]
    },
    {
     "name": "stdout",
     "output_type": "stream",
     "text": [
      "Ne 200& β 1.05 RMSE: 0.5025195186456124\n",
      "(Ne, β) = (400, 0.95)\n"
     ]
    },
    {
     "name": "stderr",
     "output_type": "stream",
     "text": [
      "\u001b[32mProgress: 100%|█████████████████████████████████████████| Time: 0:00:45\u001b[39m\n"
     ]
    },
    {
     "name": "stdout",
     "output_type": "stream",
     "text": [
      " 45.309819 seconds (913.84 M allocations: 63.949 GiB, 13.09% gc time)\n",
      "Ne = 400\n",
      "Ne 400& β 0.95 RMSE: 0.4927408597900772\n",
      "(Ne, β) = (400, 0.96)\n"
     ]
    },
    {
     "name": "stderr",
     "output_type": "stream",
     "text": [
      "\u001b[32mProgress: 100%|█████████████████████████████████████████| Time: 0:00:46\u001b[39m\n"
     ]
    },
    {
     "name": "stdout",
     "output_type": "stream",
     "text": [
      " 46.411396 seconds (913.84 M allocations: 63.949 GiB, 13.02% gc time)\n",
      "Ne = 400\n",
      "Ne 400& β 0.96 RMSE: 0.4902087858467313\n",
      "(Ne, β) = (400, 0.97)\n"
     ]
    },
    {
     "name": "stderr",
     "output_type": "stream",
     "text": [
      "\u001b[32mProgress: 100%|█████████████████████████████████████████| Time: 0:00:46\u001b[39m\n"
     ]
    },
    {
     "name": "stdout",
     "output_type": "stream",
     "text": [
      " 46.988441 seconds (913.84 M allocations: 63.949 GiB, 12.91% gc time)\n",
      "Ne = 400\n",
      "Ne 400& β 0.97 RMSE: 0.5002589918075921\n",
      "(Ne, β) = (400, 0.98)\n"
     ]
    },
    {
     "name": "stderr",
     "output_type": "stream",
     "text": [
      "\u001b[32mProgress: 100%|█████████████████████████████████████████| Time: 0:00:47\u001b[39m\n"
     ]
    },
    {
     "name": "stdout",
     "output_type": "stream",
     "text": [
      " 47.692606 seconds (913.84 M allocations: 63.949 GiB, 13.12% gc time)\n",
      "Ne = 400\n",
      "Ne 400& β 0.98 RMSE: 0.5061647710185455\n",
      "(Ne, β) = (400, 0.99)\n"
     ]
    },
    {
     "name": "stderr",
     "output_type": "stream",
     "text": [
      "\u001b[32mProgress: 100%|█████████████████████████████████████████| Time: 0:00:42\u001b[39m\n"
     ]
    },
    {
     "name": "stdout",
     "output_type": "stream",
     "text": [
      " 42.076641 seconds (913.84 M allocations: 63.949 GiB, 12.71% gc time)\n",
      "Ne = 400\n",
      "Ne 400& β 0.99 RMSE: 0.4907094732183371\n",
      "(Ne, β) = (400, 1.0)\n"
     ]
    },
    {
     "name": "stderr",
     "output_type": "stream",
     "text": [
      "\u001b[32mProgress: 100%|█████████████████████████████████████████| Time: 0:00:43\u001b[39m\n"
     ]
    },
    {
     "name": "stdout",
     "output_type": "stream",
     "text": [
      " 43.172238 seconds (913.84 M allocations: 63.949 GiB, 12.90% gc time)\n",
      "Ne = 400\n",
      "Ne 400& β 1.0 RMSE: 0.493472129171848\n",
      "(Ne, β) = (400, 1.01)\n"
     ]
    },
    {
     "name": "stderr",
     "output_type": "stream",
     "text": [
      "\u001b[32mProgress: 100%|█████████████████████████████████████████| Time: 0:00:44\u001b[39m\n"
     ]
    },
    {
     "name": "stdout",
     "output_type": "stream",
     "text": [
      " 44.283404 seconds (913.84 M allocations: 63.949 GiB, 12.89% gc time)\n",
      "Ne = 400\n",
      "Ne 400& β 1.01 RMSE: 0.495792416869993\n",
      "(Ne, β) = (400, 1.02)\n"
     ]
    },
    {
     "name": "stderr",
     "output_type": "stream",
     "text": [
      "\u001b[32mProgress: 100%|█████████████████████████████████████████| Time: 0:00:45\u001b[39m\n"
     ]
    },
    {
     "name": "stdout",
     "output_type": "stream",
     "text": [
      " 45.324448 seconds (913.84 M allocations: 63.949 GiB, 12.81% gc time)\n",
      "Ne = 400\n",
      "Ne 400& β 1.02 RMSE: 0.4935521805854145\n",
      "(Ne, β) = (400, 1.03)\n"
     ]
    },
    {
     "name": "stderr",
     "output_type": "stream",
     "text": [
      "\u001b[32mProgress: 100%|█████████████████████████████████████████| Time: 0:00:46\u001b[39m\n"
     ]
    },
    {
     "name": "stdout",
     "output_type": "stream",
     "text": [
      " 46.180474 seconds (913.84 M allocations: 63.949 GiB, 12.74% gc time)\n",
      "Ne = 400\n",
      "Ne 400& β 1.03 RMSE: 0.49503668759595526\n",
      "(Ne, β) = (400, 1.04)\n"
     ]
    },
    {
     "name": "stderr",
     "output_type": "stream",
     "text": [
      "\u001b[32mProgress: 100%|█████████████████████████████████████████| Time: 0:00:47\u001b[39m\n"
     ]
    },
    {
     "name": "stdout",
     "output_type": "stream",
     "text": [
      " 47.022929 seconds (913.84 M allocations: 63.949 GiB, 12.64% gc time)\n",
      "Ne = 400\n",
      "Ne 400& β 1.04 RMSE: 0.4909709442450609\n",
      "(Ne, β) = (400, 1.05)\n"
     ]
    },
    {
     "name": "stderr",
     "output_type": "stream",
     "text": [
      "\u001b[32mProgress: 100%|█████████████████████████████████████████| Time: 0:00:47\u001b[39m\n"
     ]
    },
    {
     "name": "stdout",
     "output_type": "stream",
     "text": [
      " 47.638604 seconds (913.84 M allocations: 63.949 GiB, 12.58% gc time)\n",
      "Ne = 400\n"
     ]
    },
    {
     "name": "stderr",
     "output_type": "stream",
     "text": [
      "\r",
      "\u001b[32mProgress:  88%|███████████████████████████████████▉     |  ETA: 0:02:34\u001b[39m"
     ]
    },
    {
     "name": "stdout",
     "output_type": "stream",
     "text": [
      "Ne 400& β 1.05 RMSE: 0.5046100141977978\n",
      "(Ne, β) = (600, 0.95)\n"
     ]
    },
    {
     "name": "stderr",
     "output_type": "stream",
     "text": [
      "\u001b[32mProgress: 100%|█████████████████████████████████████████| Time: 0:01:03\u001b[39m\n"
     ]
    },
    {
     "name": "stdout",
     "output_type": "stream",
     "text": [
      " 63.435821 seconds (1.37 G allocations: 95.738 GiB, 12.98% gc time)\n",
      "Ne = 600\n",
      "Ne 600& β 0.95 RMSE: 0.4905676760960779\n",
      "(Ne, β) = (600, 0.96)\n"
     ]
    },
    {
     "name": "stderr",
     "output_type": "stream",
     "text": [
      "\u001b[32mProgress: 100%|█████████████████████████████████████████| Time: 0:01:04\u001b[39m\n"
     ]
    },
    {
     "name": "stdout",
     "output_type": "stream",
     "text": [
      " 64.023099 seconds (1.37 G allocations: 95.738 GiB, 12.93% gc time)\n",
      "Ne = 600\n",
      "Ne 600& β 0.96 RMSE: 0.5003489425243199\n",
      "(Ne, β) = (600, 0.97)\n"
     ]
    },
    {
     "name": "stderr",
     "output_type": "stream",
     "text": [
      "\u001b[32mProgress: 100%|█████████████████████████████████████████| Time: 0:01:06\u001b[39m\n"
     ]
    },
    {
     "name": "stdout",
     "output_type": "stream",
     "text": [
      " 66.639464 seconds (1.37 G allocations: 95.738 GiB, 12.91% gc time)\n",
      "Ne = 600\n",
      "Ne 600& β 0.97 RMSE: 0.4942655969849272\n",
      "(Ne, β) = (600, 0.98)\n"
     ]
    },
    {
     "name": "stderr",
     "output_type": "stream",
     "text": [
      "\u001b[32mProgress: 100%|█████████████████████████████████████████| Time: 0:01:08\u001b[39m\n"
     ]
    },
    {
     "name": "stdout",
     "output_type": "stream",
     "text": [
      " 68.852267 seconds (1.37 G allocations: 95.739 GiB, 12.83% gc time)\n",
      "Ne = 600\n",
      "Ne 600& β 0.98 RMSE: 0.4961657523030417\n",
      "(Ne, β) = (600, 0.99)\n"
     ]
    },
    {
     "name": "stderr",
     "output_type": "stream",
     "text": [
      "\u001b[32mProgress: 100%|█████████████████████████████████████████| Time: 0:01:05\u001b[39m\n"
     ]
    },
    {
     "name": "stdout",
     "output_type": "stream",
     "text": [
      " 65.700171 seconds (1.37 G allocations: 95.738 GiB, 12.94% gc time)\n",
      "Ne = 600\n",
      "Ne 600& β 0.99 RMSE: 0.4891149658543204\n",
      "(Ne, β) = (600, 1.0)\n"
     ]
    },
    {
     "name": "stderr",
     "output_type": "stream",
     "text": [
      "\u001b[32mProgress: 100%|█████████████████████████████████████████| Time: 0:01:03\u001b[39m\n"
     ]
    },
    {
     "name": "stdout",
     "output_type": "stream",
     "text": [
      " 63.947033 seconds (1.37 G allocations: 95.738 GiB, 12.96% gc time)\n",
      "Ne = 600\n",
      "Ne 600& β 1.0 RMSE: 0.4846666783164921\n",
      "(Ne, β) = (600, 1.01)\n"
     ]
    },
    {
     "name": "stderr",
     "output_type": "stream",
     "text": [
      "\u001b[32mProgress: 100%|█████████████████████████████████████████| Time: 0:01:06\u001b[39m\n"
     ]
    },
    {
     "name": "stdout",
     "output_type": "stream",
     "text": [
      " 66.449782 seconds (1.37 G allocations: 95.738 GiB, 12.94% gc time)\n",
      "Ne = 600\n",
      "Ne 600& β 1.01 RMSE: 0.4794950697973096\n",
      "(Ne, β) = (600, 1.02)\n"
     ]
    },
    {
     "name": "stderr",
     "output_type": "stream",
     "text": [
      "\u001b[32mProgress: 100%|█████████████████████████████████████████| Time: 0:01:08\u001b[39m\n"
     ]
    },
    {
     "name": "stdout",
     "output_type": "stream",
     "text": [
      " 68.847259 seconds (1.37 G allocations: 95.739 GiB, 12.80% gc time)\n",
      "Ne = 600\n",
      "Ne 600& β 1.02 RMSE: 0.48679494546885616\n",
      "(Ne, β) = (600, 1.03)\n"
     ]
    },
    {
     "name": "stderr",
     "output_type": "stream",
     "text": [
      "\u001b[32mProgress: 100%|█████████████████████████████████████████| Time: 0:01:09\u001b[39m\n"
     ]
    },
    {
     "name": "stdout",
     "output_type": "stream",
     "text": [
      " 69.867051 seconds (1.37 G allocations: 95.739 GiB, 12.70% gc time)\n",
      "Ne = 600\n",
      "Ne 600& β 1.03 RMSE: 0.4892431914634444\n",
      "(Ne, β) = (600, 1.04)\n"
     ]
    },
    {
     "name": "stderr",
     "output_type": "stream",
     "text": [
      "\u001b[32mProgress: 100%|█████████████████████████████████████████| Time: 0:01:02\u001b[39m\n"
     ]
    },
    {
     "name": "stdout",
     "output_type": "stream",
     "text": [
      " 62.983135 seconds (1.37 G allocations: 95.738 GiB, 13.00% gc time)\n",
      "Ne = 600\n",
      "Ne 600& β 1.04 RMSE: 0.48933039817719837\n",
      "(Ne, β) = (600, 1.05)\n"
     ]
    },
    {
     "name": "stderr",
     "output_type": "stream",
     "text": [
      "\u001b[32mProgress: 100%|█████████████████████████████████████████| Time: 0:01:04\u001b[39m\n"
     ]
    },
    {
     "name": "stdout",
     "output_type": "stream",
     "text": [
      " 64.027485 seconds (1.37 G allocations: 95.738 GiB, 12.94% gc time)\n",
      "Ne = 600\n"
     ]
    },
    {
     "name": "stderr",
     "output_type": "stream",
     "text": [
      "\r",
      "\u001b[32mProgress: 100%|█████████████████████████████████████████| Time: 0:30:06\u001b[39m\n"
     ]
    },
    {
     "name": "stdout",
     "output_type": "stream",
     "text": [
      "Ne 600& β 1.05 RMSE: 0.4913794081735623\n"
     ]
    }
   ],
   "source": [
    "metric_sadaptivermf0 = benchmark_sadaptivermf_lorenz63(model, data, path, Ne_array, β_array, p);"
   ]
  },
  {
   "cell_type": "code",
   "execution_count": 23,
   "metadata": {},
   "outputs": [],
   "source": [
    "save(path*\"metric_sadaptivermf0\"*string(p)*\".jld\", \"metric\", metric_sadaptivermf0)"
   ]
  },
  {
   "cell_type": "markdown",
   "metadata": {},
   "source": [
    "p = 1"
   ]
  },
  {
   "cell_type": "code",
   "execution_count": 24,
   "metadata": {},
   "outputs": [
    {
     "data": {
      "text/plain": [
       "1"
      ]
     },
     "execution_count": 24,
     "metadata": {},
     "output_type": "execute_result"
    }
   ],
   "source": [
    "p = 1"
   ]
  },
  {
   "cell_type": "code",
   "execution_count": 25,
   "metadata": {},
   "outputs": [
    {
     "name": "stdout",
     "output_type": "stream",
     "text": [
      "(Ne, β) = (40, 0.95)\n"
     ]
    },
    {
     "name": "stderr",
     "output_type": "stream",
     "text": [
      "\u001b[32mProgress: 100%|█████████████████████████████████████████| Time: 0:00:07\u001b[39m\n"
     ]
    },
    {
     "name": "stdout",
     "output_type": "stream",
     "text": [
      "  7.295259 seconds (111.13 M allocations: 8.349 GiB, 10.44% gc time)\n",
      "Ne = 40\n",
      "Ne 40& β 0.95 RMSE: 0.5816500372451683\n",
      "(Ne, β) = (40, 0.96)\n"
     ]
    },
    {
     "name": "stderr",
     "output_type": "stream",
     "text": [
      "\u001b[32mProgress: 100%|█████████████████████████████████████████| Time: 0:00:07\u001b[39m\n"
     ]
    },
    {
     "name": "stdout",
     "output_type": "stream",
     "text": [
      "  7.343593 seconds (111.14 M allocations: 8.351 GiB, 10.55% gc time)\n",
      "Ne = 40\n",
      "Ne 40& β 0.96 RMSE: 0.60686438289528\n",
      "(Ne, β) = (40, 0.97)\n"
     ]
    },
    {
     "name": "stderr",
     "output_type": "stream",
     "text": [
      "\u001b[32mProgress: 100%|█████████████████████████████████████████| Time: 0:00:07\u001b[39m\n"
     ]
    },
    {
     "name": "stdout",
     "output_type": "stream",
     "text": [
      "  7.320188 seconds (111.18 M allocations: 8.354 GiB, 10.57% gc time)\n",
      "Ne = 40\n",
      "Ne 40& β 0.97 RMSE: 0.6874824083532917\n",
      "(Ne, β) = (40, 0.98)\n"
     ]
    },
    {
     "name": "stderr",
     "output_type": "stream",
     "text": [
      "\u001b[32mProgress: 100%|█████████████████████████████████████████| Time: 0:00:07\u001b[39m\n"
     ]
    },
    {
     "name": "stdout",
     "output_type": "stream",
     "text": [
      "  7.336291 seconds (111.20 M allocations: 8.356 GiB, 10.69% gc time)\n",
      "Ne = 40\n",
      "Ne 40& β 0.98 RMSE: 0.6372021508760763\n",
      "(Ne, β) = (40, 0.99)\n"
     ]
    },
    {
     "name": "stderr",
     "output_type": "stream",
     "text": [
      "\u001b[32mProgress: 100%|█████████████████████████████████████████| Time: 0:00:07\u001b[39m\n"
     ]
    },
    {
     "name": "stdout",
     "output_type": "stream",
     "text": [
      "  7.382063 seconds (111.21 M allocations: 8.357 GiB, 10.89% gc time)\n",
      "Ne = 40\n",
      "Ne 40& β 0.99 RMSE: 0.5999735491495773\n",
      "(Ne, β) = (40, 1.0)\n"
     ]
    },
    {
     "name": "stderr",
     "output_type": "stream",
     "text": [
      "\u001b[32mProgress: 100%|█████████████████████████████████████████| Time: 0:00:07\u001b[39m\n"
     ]
    },
    {
     "name": "stdout",
     "output_type": "stream",
     "text": [
      "  7.367610 seconds (111.14 M allocations: 8.350 GiB, 10.79% gc time)\n",
      "Ne = 40\n",
      "Ne 40& β 1.0 RMSE: 0.6226987121806933\n",
      "(Ne, β) = (40, 1.01)\n"
     ]
    },
    {
     "name": "stderr",
     "output_type": "stream",
     "text": [
      "\u001b[32mProgress: 100%|█████████████████████████████████████████| Time: 0:00:07\u001b[39m\n"
     ]
    },
    {
     "name": "stdout",
     "output_type": "stream",
     "text": [
      "  7.373300 seconds (111.12 M allocations: 8.347 GiB, 10.61% gc time)\n",
      "Ne = 40\n",
      "Ne 40& β 1.01 RMSE: 0.6680312143302773\n",
      "(Ne, β) = (40, 1.02)\n"
     ]
    },
    {
     "name": "stderr",
     "output_type": "stream",
     "text": [
      "\u001b[32mProgress: 100%|█████████████████████████████████████████| Time: 0:00:07\u001b[39m\n"
     ]
    },
    {
     "name": "stdout",
     "output_type": "stream",
     "text": [
      "  7.359668 seconds (111.10 M allocations: 8.346 GiB, 10.57% gc time)\n",
      "Ne = 40\n",
      "Ne 40& β 1.02 RMSE: 0.6676791748232688\n",
      "(Ne, β) = (40, 1.03)\n"
     ]
    },
    {
     "name": "stderr",
     "output_type": "stream",
     "text": [
      "\u001b[32mProgress: 100%|█████████████████████████████████████████| Time: 0:00:07\u001b[39m\n"
     ]
    },
    {
     "name": "stdout",
     "output_type": "stream",
     "text": [
      "  7.383228 seconds (111.14 M allocations: 8.350 GiB, 10.68% gc time)\n",
      "Ne = 40\n",
      "Ne 40& β 1.03 RMSE: 0.6379738921203495\n",
      "(Ne, β) = (40, 1.04)\n"
     ]
    },
    {
     "name": "stderr",
     "output_type": "stream",
     "text": [
      "\u001b[32mProgress: 100%|█████████████████████████████████████████| Time: 0:00:07\u001b[39m\n"
     ]
    },
    {
     "name": "stdout",
     "output_type": "stream",
     "text": [
      "  7.401098 seconds (111.11 M allocations: 8.347 GiB, 10.76% gc time)\n",
      "Ne = 40\n",
      "Ne 40& β 1.04 RMSE: 0.6085645708629982\n",
      "(Ne, β) = (40, 1.05)\n"
     ]
    },
    {
     "name": "stderr",
     "output_type": "stream",
     "text": [
      "\u001b[32mProgress: 100%|█████████████████████████████████████████| Time: 0:00:07\u001b[39m\n"
     ]
    },
    {
     "name": "stdout",
     "output_type": "stream",
     "text": [
      "  7.422559 seconds (111.12 M allocations: 8.348 GiB, 10.95% gc time)\n",
      "Ne = 40\n",
      "Ne 40& β 1.05 RMSE: 0.6329055205258576\n",
      "(Ne, β) = (60, 0.95)\n"
     ]
    },
    {
     "name": "stderr",
     "output_type": "stream",
     "text": [
      "\u001b[32mProgress: 100%|█████████████████████████████████████████| Time: 0:00:10\u001b[39m\n"
     ]
    },
    {
     "name": "stdout",
     "output_type": "stream",
     "text": [
      " 10.589940 seconds (162.17 M allocations: 12.200 GiB, 11.03% gc time)\n",
      "Ne = 60\n",
      "Ne 60& β 0.95 RMSE: 0.5189499127377465\n",
      "(Ne, β) = (60, 0.96)\n"
     ]
    },
    {
     "name": "stderr",
     "output_type": "stream",
     "text": [
      "\u001b[32mProgress: 100%|█████████████████████████████████████████| Time: 0:00:10\u001b[39m\n"
     ]
    },
    {
     "name": "stdout",
     "output_type": "stream",
     "text": [
      " 10.697569 seconds (162.15 M allocations: 12.198 GiB, 10.98% gc time)\n",
      "Ne = 60\n",
      "Ne 60& β 0.96 RMSE: 0.5480085297307752\n",
      "(Ne, β) = (60, 0.97)\n"
     ]
    },
    {
     "name": "stderr",
     "output_type": "stream",
     "text": [
      "\u001b[32mProgress: 100%|█████████████████████████████████████████| Time: 0:00:10\u001b[39m\n"
     ]
    },
    {
     "name": "stdout",
     "output_type": "stream",
     "text": [
      " 10.709696 seconds (162.12 M allocations: 12.194 GiB, 11.04% gc time)\n",
      "Ne = 60\n",
      "Ne 60& β 0.97 RMSE: 0.5529176150391631\n",
      "(Ne, β) = (60, 0.98)\n"
     ]
    },
    {
     "name": "stderr",
     "output_type": "stream",
     "text": [
      "\u001b[32mProgress: 100%|█████████████████████████████████████████| Time: 0:00:10\u001b[39m\n"
     ]
    },
    {
     "name": "stdout",
     "output_type": "stream",
     "text": [
      " 10.692793 seconds (162.12 M allocations: 12.194 GiB, 11.02% gc time)\n",
      "Ne = 60\n",
      "Ne 60& β 0.98 RMSE: 0.5064095478191013\n",
      "(Ne, β) = (60, 0.99)\n"
     ]
    },
    {
     "name": "stderr",
     "output_type": "stream",
     "text": [
      "\u001b[32mProgress: 100%|█████████████████████████████████████████| Time: 0:00:10\u001b[39m\n"
     ]
    },
    {
     "name": "stdout",
     "output_type": "stream",
     "text": [
      " 10.723771 seconds (162.05 M allocations: 12.187 GiB, 11.04% gc time)\n",
      "Ne = 60\n",
      "Ne 60& β 0.99 RMSE: 0.6034483944541053\n",
      "(Ne, β) = (60, 1.0)\n"
     ]
    },
    {
     "name": "stderr",
     "output_type": "stream",
     "text": [
      "\u001b[32mProgress: 100%|█████████████████████████████████████████| Time: 0:00:10\u001b[39m\n"
     ]
    },
    {
     "name": "stdout",
     "output_type": "stream",
     "text": [
      " 10.781578 seconds (162.04 M allocations: 12.184 GiB, 11.23% gc time)\n",
      "Ne = 60\n",
      "Ne 60& β 1.0 RMSE: 0.5308893794217211\n",
      "(Ne, β) = (60, 1.01)\n"
     ]
    },
    {
     "name": "stderr",
     "output_type": "stream",
     "text": [
      "\u001b[32mProgress: 100%|█████████████████████████████████████████| Time: 0:00:10\u001b[39m\n"
     ]
    },
    {
     "name": "stdout",
     "output_type": "stream",
     "text": [
      " 10.748617 seconds (162.01 M allocations: 12.181 GiB, 11.23% gc time)\n",
      "Ne = 60\n",
      "Ne 60& β 1.01 RMSE: 0.5634817637084917\n",
      "(Ne, β) = (60, 1.02)\n"
     ]
    },
    {
     "name": "stderr",
     "output_type": "stream",
     "text": [
      "\u001b[32mProgress: 100%|█████████████████████████████████████████| Time: 0:00:10\u001b[39m\n"
     ]
    },
    {
     "name": "stdout",
     "output_type": "stream",
     "text": [
      " 10.734524 seconds (161.99 M allocations: 12.179 GiB, 11.19% gc time)\n",
      "Ne = 60\n",
      "Ne 60& β 1.02 RMSE: 0.5206857409802078\n",
      "(Ne, β) = (60, 1.03)\n"
     ]
    },
    {
     "name": "stderr",
     "output_type": "stream",
     "text": [
      "\u001b[32mProgress: 100%|█████████████████████████████████████████| Time: 0:00:10\u001b[39m\n"
     ]
    },
    {
     "name": "stdout",
     "output_type": "stream",
     "text": [
      " 10.719530 seconds (161.91 M allocations: 12.170 GiB, 11.17% gc time)\n",
      "Ne = 60\n",
      "Ne 60& β 1.03 RMSE: 0.5490613726414819\n",
      "(Ne, β) = (60, 1.04)\n"
     ]
    },
    {
     "name": "stderr",
     "output_type": "stream",
     "text": [
      "\u001b[32mProgress: 100%|█████████████████████████████████████████| Time: 0:00:10\u001b[39m\n"
     ]
    },
    {
     "name": "stdout",
     "output_type": "stream",
     "text": [
      " 10.748890 seconds (161.96 M allocations: 12.176 GiB, 11.04% gc time)\n",
      "Ne = 60\n",
      "Ne 60& β 1.04 RMSE: 0.5861284710553968\n",
      "(Ne, β) = (60, 1.05)\n"
     ]
    },
    {
     "name": "stderr",
     "output_type": "stream",
     "text": [
      "\u001b[32mProgress: 100%|█████████████████████████████████████████| Time: 0:00:10\u001b[39m\n",
      "\u001b[32mProgress:  33%|█████████████▋                           |  ETA: 0:06:43\u001b[39m"
     ]
    },
    {
     "name": "stdout",
     "output_type": "stream",
     "text": [
      " 10.804596 seconds (161.92 M allocations: 12.172 GiB, 11.22% gc time)\n",
      "Ne = 60\n",
      "Ne 60& β 1.05 RMSE: 0.5592338149095932\n",
      "(Ne, β) = (100, 0.95)\n"
     ]
    },
    {
     "name": "stderr",
     "output_type": "stream",
     "text": [
      "\u001b[32mProgress: 100%|█████████████████████████████████████████| Time: 0:00:15\u001b[39m\n"
     ]
    },
    {
     "name": "stdout",
     "output_type": "stream",
     "text": [
      " 15.691630 seconds (264.86 M allocations: 19.911 GiB, 12.28% gc time)\n",
      "Ne = 100\n",
      "Ne 100& β 0.95 RMSE: 0.4703341774832472\n",
      "(Ne, β) = (100, 0.96)\n"
     ]
    },
    {
     "name": "stderr",
     "output_type": "stream",
     "text": [
      "\u001b[32mProgress: 100%|█████████████████████████████████████████| Time: 0:00:15\u001b[39m\n"
     ]
    },
    {
     "name": "stdout",
     "output_type": "stream",
     "text": [
      " 15.399038 seconds (265.04 M allocations: 19.934 GiB, 10.46% gc time)\n",
      "Ne = 100\n",
      "Ne 100& β 0.96 RMSE: 0.4850842222980064\n",
      "(Ne, β) = (100, 0.97)\n"
     ]
    },
    {
     "name": "stderr",
     "output_type": "stream",
     "text": [
      "\u001b[32mProgress: 100%|█████████████████████████████████████████| Time: 0:00:15\u001b[39m\n"
     ]
    },
    {
     "name": "stdout",
     "output_type": "stream",
     "text": [
      " 15.496194 seconds (265.00 M allocations: 19.929 GiB, 10.47% gc time)\n",
      "Ne = 100\n",
      "Ne 100& β 0.97 RMSE: 0.49728986871822706\n",
      "(Ne, β) = (100, 0.98)\n"
     ]
    },
    {
     "name": "stderr",
     "output_type": "stream",
     "text": [
      "\u001b[32mProgress: 100%|█████████████████████████████████████████| Time: 0:00:15\u001b[39m\n"
     ]
    },
    {
     "name": "stdout",
     "output_type": "stream",
     "text": [
      " 15.512663 seconds (264.77 M allocations: 19.901 GiB, 10.63% gc time)\n",
      "Ne = 100\n",
      "Ne 100& β 0.98 RMSE: 0.5049186420220526\n",
      "(Ne, β) = (100, 0.99)\n"
     ]
    },
    {
     "name": "stderr",
     "output_type": "stream",
     "text": [
      "\u001b[32mProgress: 100%|█████████████████████████████████████████| Time: 0:00:15\u001b[39m\n"
     ]
    },
    {
     "name": "stdout",
     "output_type": "stream",
     "text": [
      " 15.568694 seconds (264.68 M allocations: 19.891 GiB, 10.58% gc time)\n",
      "Ne = 100\n",
      "Ne 100& β 0.99 RMSE: 0.4938017303186739\n",
      "(Ne, β) = (100, 1.0)\n"
     ]
    },
    {
     "name": "stderr",
     "output_type": "stream",
     "text": [
      "\u001b[32mProgress: 100%|█████████████████████████████████████████| Time: 0:00:15\u001b[39m\n"
     ]
    },
    {
     "name": "stdout",
     "output_type": "stream",
     "text": [
      " 15.694176 seconds (264.69 M allocations: 19.891 GiB, 10.72% gc time)\n",
      "Ne = 100\n",
      "Ne 100& β 1.0 RMSE: 0.4832406370077498\n",
      "(Ne, β) = (100, 1.01)\n"
     ]
    },
    {
     "name": "stderr",
     "output_type": "stream",
     "text": [
      "\u001b[32mProgress: 100%|█████████████████████████████████████████| Time: 0:00:15\u001b[39m\n"
     ]
    },
    {
     "name": "stdout",
     "output_type": "stream",
     "text": [
      " 15.826669 seconds (264.34 M allocations: 19.849 GiB, 10.76% gc time)\n",
      "Ne = 100\n",
      "Ne 100& β 1.01 RMSE: 0.4874166854582006\n",
      "(Ne, β) = (100, 1.02)\n"
     ]
    },
    {
     "name": "stderr",
     "output_type": "stream",
     "text": [
      "\u001b[32mProgress: 100%|█████████████████████████████████████████| Time: 0:00:16\u001b[39m\n"
     ]
    },
    {
     "name": "stdout",
     "output_type": "stream",
     "text": [
      " 16.066140 seconds (264.31 M allocations: 19.845 GiB, 10.72% gc time)\n",
      "Ne = 100\n",
      "Ne 100& β 1.02 RMSE: 0.4773748336470545\n",
      "(Ne, β) = (100, 1.03)\n"
     ]
    },
    {
     "name": "stderr",
     "output_type": "stream",
     "text": [
      "\u001b[32mProgress: 100%|█████████████████████████████████████████| Time: 0:00:16\u001b[39m\n"
     ]
    },
    {
     "name": "stdout",
     "output_type": "stream",
     "text": [
      " 16.127543 seconds (264.40 M allocations: 19.856 GiB, 10.77% gc time)\n",
      "Ne = 100\n",
      "Ne 100& β 1.03 RMSE: 0.47801359261932386\n",
      "(Ne, β) = (100, 1.04)\n"
     ]
    },
    {
     "name": "stderr",
     "output_type": "stream",
     "text": [
      "\u001b[32mProgress: 100%|█████████████████████████████████████████| Time: 0:00:16\u001b[39m\n"
     ]
    },
    {
     "name": "stdout",
     "output_type": "stream",
     "text": [
      " 16.100153 seconds (264.09 M allocations: 19.818 GiB, 10.79% gc time)\n",
      "Ne = 100\n",
      "Ne 100& β 1.04 RMSE: 0.4873842038880048\n",
      "(Ne, β) = (100, 1.05)\n"
     ]
    },
    {
     "name": "stderr",
     "output_type": "stream",
     "text": [
      "\u001b[32mProgress: 100%|█████████████████████████████████████████| Time: 0:00:16\u001b[39m\n"
     ]
    },
    {
     "name": "stdout",
     "output_type": "stream",
     "text": [
      " 16.179602 seconds (264.18 M allocations: 19.829 GiB, 10.87% gc time)\n",
      "Ne = 100\n"
     ]
    },
    {
     "name": "stderr",
     "output_type": "stream",
     "text": [
      "\r",
      "\u001b[32mProgress:  50%|████████████████████▌                    |  ETA: 0:06:16\u001b[39m"
     ]
    },
    {
     "name": "stdout",
     "output_type": "stream",
     "text": [
      "Ne 100& β 1.05 RMSE: 0.4639826690372533\n",
      "(Ne, β) = (200, 0.95)\n"
     ]
    },
    {
     "name": "stderr",
     "output_type": "stream",
     "text": [
      "\u001b[32mProgress: 100%|█████████████████████████████████████████| Time: 0:00:32\u001b[39m\n"
     ]
    },
    {
     "name": "stdout",
     "output_type": "stream",
     "text": [
      " 32.570532 seconds (525.77 M allocations: 39.822 GiB, 11.46% gc time)\n",
      "Ne = 200\n",
      "Ne 200& β 0.95 RMSE: 0.43389219625230563\n",
      "(Ne, β) = (200, 0.96)\n"
     ]
    },
    {
     "name": "stderr",
     "output_type": "stream",
     "text": [
      "\u001b[32mProgress: 100%|█████████████████████████████████████████| Time: 0:00:32\u001b[39m\n"
     ]
    },
    {
     "name": "stdout",
     "output_type": "stream",
     "text": [
      " 32.773504 seconds (525.36 M allocations: 39.770 GiB, 11.48% gc time)\n",
      "Ne = 200\n",
      "Ne 200& β 0.96 RMSE: 0.42754639000758865\n",
      "(Ne, β) = (200, 0.97)\n"
     ]
    },
    {
     "name": "stderr",
     "output_type": "stream",
     "text": [
      "\u001b[32mProgress: 100%|█████████████████████████████████████████| Time: 0:00:32\u001b[39m\n"
     ]
    },
    {
     "name": "stdout",
     "output_type": "stream",
     "text": [
      " 32.895089 seconds (525.25 M allocations: 39.756 GiB, 11.40% gc time)\n",
      "Ne = 200\n",
      "Ne 200& β 0.97 RMSE: 0.4347875583023235\n",
      "(Ne, β) = (200, 0.98)\n"
     ]
    },
    {
     "name": "stderr",
     "output_type": "stream",
     "text": [
      "\u001b[32mProgress: 100%|█████████████████████████████████████████| Time: 0:00:33\u001b[39m\n"
     ]
    },
    {
     "name": "stdout",
     "output_type": "stream",
     "text": [
      " 33.056212 seconds (525.00 M allocations: 39.724 GiB, 11.43% gc time)\n",
      "Ne = 200\n",
      "Ne 200& β 0.98 RMSE: 0.41550552817802655\n",
      "(Ne, β) = (200, 0.99)\n"
     ]
    },
    {
     "name": "stderr",
     "output_type": "stream",
     "text": [
      "\u001b[32mProgress: 100%|█████████████████████████████████████████| Time: 0:00:33\u001b[39m\n"
     ]
    },
    {
     "name": "stdout",
     "output_type": "stream",
     "text": [
      " 33.179877 seconds (524.74 M allocations: 39.690 GiB, 11.41% gc time)\n",
      "Ne = 200\n",
      "Ne 200& β 0.99 RMSE: 0.4331878815045497\n",
      "(Ne, β) = (200, 1.0)\n"
     ]
    },
    {
     "name": "stderr",
     "output_type": "stream",
     "text": [
      "\u001b[32mProgress: 100%|█████████████████████████████████████████| Time: 0:00:33\u001b[39m\n"
     ]
    },
    {
     "name": "stdout",
     "output_type": "stream",
     "text": [
      " 33.367944 seconds (524.50 M allocations: 39.660 GiB, 11.39% gc time)\n",
      "Ne = 200\n",
      "Ne 200& β 1.0 RMSE: 0.42672448308129707\n",
      "(Ne, β) = (200, 1.01)\n"
     ]
    },
    {
     "name": "stderr",
     "output_type": "stream",
     "text": [
      "\u001b[32mProgress: 100%|█████████████████████████████████████████| Time: 0:00:32\u001b[39m\n"
     ]
    },
    {
     "name": "stdout",
     "output_type": "stream",
     "text": [
      " 32.173684 seconds (523.23 M allocations: 39.496 GiB, 11.95% gc time)\n",
      "Ne = 200\n",
      "Ne 200& β 1.01 RMSE: 0.4218883315624745\n",
      "(Ne, β) = (200, 1.02)\n"
     ]
    },
    {
     "name": "stderr",
     "output_type": "stream",
     "text": [
      "\u001b[32mProgress: 100%|█████████████████████████████████████████| Time: 0:00:30\u001b[39m\n"
     ]
    },
    {
     "name": "stdout",
     "output_type": "stream",
     "text": [
      " 30.053704 seconds (523.26 M allocations: 39.500 GiB, 10.76% gc time)\n",
      "Ne = 200\n",
      "Ne 200& β 1.02 RMSE: 0.43069175544341926\n",
      "(Ne, β) = (200, 1.03)\n"
     ]
    },
    {
     "name": "stderr",
     "output_type": "stream",
     "text": [
      "\u001b[32mProgress: 100%|█████████████████████████████████████████| Time: 0:00:30\u001b[39m\n"
     ]
    },
    {
     "name": "stdout",
     "output_type": "stream",
     "text": [
      " 30.524481 seconds (523.39 M allocations: 39.516 GiB, 10.78% gc time)\n",
      "Ne = 200\n",
      "Ne 200& β 1.03 RMSE: 0.4280924636183132\n",
      "(Ne, β) = (200, 1.04)\n"
     ]
    },
    {
     "name": "stderr",
     "output_type": "stream",
     "text": [
      "\u001b[32mProgress: 100%|█████████████████████████████████████████| Time: 0:00:30\u001b[39m\n"
     ]
    },
    {
     "name": "stdout",
     "output_type": "stream",
     "text": [
      " 30.749075 seconds (523.01 M allocations: 39.468 GiB, 10.94% gc time)\n",
      "Ne = 200\n",
      "Ne 200& β 1.04 RMSE: 0.4144043865589155\n",
      "(Ne, β) = (200, 1.05)\n"
     ]
    },
    {
     "name": "stderr",
     "output_type": "stream",
     "text": [
      "\u001b[32mProgress: 100%|█████████████████████████████████████████| Time: 0:00:30\u001b[39m\n",
      "\u001b[32mProgress:  67%|███████████████████████████▍             |  ETA: 0:06:06\u001b[39m"
     ]
    },
    {
     "name": "stdout",
     "output_type": "stream",
     "text": [
      " 30.920963 seconds (522.19 M allocations: 39.362 GiB, 11.06% gc time)\n",
      "Ne = 200\n",
      "Ne 200& β 1.05 RMSE: 0.4290368804274407\n",
      "(Ne, β) = (400, 0.95)\n"
     ]
    },
    {
     "name": "stderr",
     "output_type": "stream",
     "text": [
      "\u001b[32mProgress: 100%|█████████████████████████████████████████| Time: 0:01:03\u001b[39m\n"
     ]
    },
    {
     "name": "stdout",
     "output_type": "stream",
     "text": [
      " 63.831784 seconds (1.05 G allocations: 80.304 GiB, 11.11% gc time)\n",
      "Ne = 400\n",
      "Ne 400& β 0.95 RMSE: 0.39947399595590327\n",
      "(Ne, β) = (400, 0.96)\n"
     ]
    },
    {
     "name": "stderr",
     "output_type": "stream",
     "text": [
      "\u001b[32mProgress: 100%|█████████████████████████████████████████| Time: 0:01:04\u001b[39m\n"
     ]
    },
    {
     "name": "stdout",
     "output_type": "stream",
     "text": [
      " 64.822237 seconds (1.05 G allocations: 80.164 GiB, 11.19% gc time)\n",
      "Ne = 400\n",
      "Ne 400& β 0.96 RMSE: 0.4226653412247428\n",
      "(Ne, β) = (400, 0.97)\n"
     ]
    },
    {
     "name": "stderr",
     "output_type": "stream",
     "text": [
      "\u001b[32mProgress: 100%|█████████████████████████████████████████| Time: 0:01:05\u001b[39m\n"
     ]
    },
    {
     "name": "stdout",
     "output_type": "stream",
     "text": [
      " 65.304990 seconds (1.05 G allocations: 80.037 GiB, 11.23% gc time)\n",
      "Ne = 400\n",
      "Ne 400& β 0.97 RMSE: 0.39942011351237205\n",
      "(Ne, β) = (400, 0.98)\n"
     ]
    },
    {
     "name": "stderr",
     "output_type": "stream",
     "text": [
      "\u001b[32mProgress: 100%|█████████████████████████████████████████| Time: 0:01:05\u001b[39m\n"
     ]
    },
    {
     "name": "stdout",
     "output_type": "stream",
     "text": [
      " 65.833996 seconds (1.05 G allocations: 79.847 GiB, 11.18% gc time)\n",
      "Ne = 400\n",
      "Ne 400& β 0.98 RMSE: 0.4012058137232895\n",
      "(Ne, β) = (400, 0.99)\n"
     ]
    },
    {
     "name": "stderr",
     "output_type": "stream",
     "text": [
      "\u001b[32mProgress: 100%|█████████████████████████████████████████| Time: 0:01:01\u001b[39m\n"
     ]
    },
    {
     "name": "stdout",
     "output_type": "stream",
     "text": [
      " 61.530367 seconds (1.05 G allocations: 79.577 GiB, 10.93% gc time)\n",
      "Ne = 400\n",
      "Ne 400& β 0.99 RMSE: 0.4019370273165972\n",
      "(Ne, β) = (400, 1.0)\n"
     ]
    },
    {
     "name": "stderr",
     "output_type": "stream",
     "text": [
      "\u001b[32mProgress: 100%|█████████████████████████████████████████| Time: 0:01:00\u001b[39m\n"
     ]
    },
    {
     "name": "stdout",
     "output_type": "stream",
     "text": [
      " 60.260713 seconds (1.05 G allocations: 79.733 GiB, 10.56% gc time)\n",
      "Ne = 400\n",
      "Ne 400& β 1.0 RMSE: 0.38560306867033545\n",
      "(Ne, β) = (400, 1.01)\n"
     ]
    },
    {
     "name": "stderr",
     "output_type": "stream",
     "text": [
      "\u001b[32mProgress: 100%|█████████████████████████████████████████| Time: 0:01:01\u001b[39m\n"
     ]
    },
    {
     "name": "stdout",
     "output_type": "stream",
     "text": [
      " 61.224313 seconds (1.05 G allocations: 79.501 GiB, 10.78% gc time)\n",
      "Ne = 400\n",
      "Ne 400& β 1.01 RMSE: 0.3968062358520171\n",
      "(Ne, β) = (400, 1.02)\n"
     ]
    },
    {
     "name": "stderr",
     "output_type": "stream",
     "text": [
      "\u001b[32mProgress: 100%|█████████████████████████████████████████| Time: 0:01:02\u001b[39m\n"
     ]
    },
    {
     "name": "stdout",
     "output_type": "stream",
     "text": [
      " 62.319005 seconds (1.05 G allocations: 79.305 GiB, 10.92% gc time)\n",
      "Ne = 400\n",
      "Ne 400& β 1.02 RMSE: 0.4031604009106461\n",
      "(Ne, β) = (400, 1.03)\n"
     ]
    },
    {
     "name": "stderr",
     "output_type": "stream",
     "text": [
      "\u001b[32mProgress: 100%|█████████████████████████████████████████| Time: 0:01:03\u001b[39m\n"
     ]
    },
    {
     "name": "stdout",
     "output_type": "stream",
     "text": [
      " 63.234627 seconds (1.05 G allocations: 79.334 GiB, 11.02% gc time)\n",
      "Ne = 400\n",
      "Ne 400& β 1.03 RMSE: 0.39445885930673724\n",
      "(Ne, β) = (400, 1.04)\n"
     ]
    },
    {
     "name": "stderr",
     "output_type": "stream",
     "text": [
      "\u001b[32mProgress: 100%|█████████████████████████████████████████| Time: 0:01:03\u001b[39m\n"
     ]
    },
    {
     "name": "stdout",
     "output_type": "stream",
     "text": [
      " 63.845710 seconds (1.05 G allocations: 79.156 GiB, 11.06% gc time)\n",
      "Ne = 400\n",
      "Ne 400& β 1.04 RMSE: 0.4090051731418221\n",
      "(Ne, β) = (400, 1.05)\n"
     ]
    },
    {
     "name": "stderr",
     "output_type": "stream",
     "text": [
      "\u001b[32mProgress: 100%|█████████████████████████████████████████| Time: 0:01:04\u001b[39m\n"
     ]
    },
    {
     "name": "stdout",
     "output_type": "stream",
     "text": [
      " 64.811989 seconds (1.05 G allocations: 79.040 GiB, 11.21% gc time)\n",
      "Ne = 400\n"
     ]
    },
    {
     "name": "stderr",
     "output_type": "stream",
     "text": [
      "\r",
      "\u001b[32mProgress:  83%|██████████████████████████████████▏      |  ETA: 0:04:46\u001b[39m"
     ]
    },
    {
     "name": "stdout",
     "output_type": "stream",
     "text": [
      "Ne 400& β 1.05 RMSE: 0.40666533631688506\n",
      "(Ne, β) = (600, 0.95)\n"
     ]
    },
    {
     "name": "stderr",
     "output_type": "stream",
     "text": [
      "\u001b[32mProgress: 100%|█████████████████████████████████████████| Time: 0:01:32\u001b[39m\n"
     ]
    },
    {
     "name": "stdout",
     "output_type": "stream",
     "text": [
      " 92.143531 seconds (1.59 G allocations: 121.306 GiB, 10.57% gc time)\n",
      "Ne = 600\n",
      "Ne 600& β 0.95 RMSE: 0.3881702861474375\n",
      "(Ne, β) = (600, 0.96)\n"
     ]
    },
    {
     "name": "stderr",
     "output_type": "stream",
     "text": [
      "\u001b[32mProgress: 100%|█████████████████████████████████████████| Time: 0:01:34\u001b[39m\n"
     ]
    },
    {
     "name": "stdout",
     "output_type": "stream",
     "text": [
      " 94.463537 seconds (1.59 G allocations: 120.987 GiB, 10.82% gc time)\n",
      "Ne = 600\n",
      "Ne 600& β 0.96 RMSE: 0.39631220909035253\n",
      "(Ne, β) = (600, 0.97)\n"
     ]
    },
    {
     "name": "stderr",
     "output_type": "stream",
     "text": [
      "\u001b[32mProgress: 100%|█████████████████████████████████████████| Time: 0:01:36\u001b[39m\n"
     ]
    },
    {
     "name": "stdout",
     "output_type": "stream",
     "text": [
      " 96.211607 seconds (1.58 G allocations: 120.572 GiB, 10.95% gc time)\n",
      "Ne = 600\n",
      "Ne 600& β 0.97 RMSE: 0.40056770822373033\n",
      "(Ne, β) = (600, 0.98)\n"
     ]
    },
    {
     "name": "stderr",
     "output_type": "stream",
     "text": [
      "\u001b[32mProgress: 100%|█████████████████████████████████████████| Time: 0:01:37\u001b[39m\n"
     ]
    },
    {
     "name": "stdout",
     "output_type": "stream",
     "text": [
      " 97.725809 seconds (1.58 G allocations: 120.234 GiB, 10.97% gc time)\n",
      "Ne = 600\n",
      "Ne 600& β 0.98 RMSE: 0.3954487210191602\n",
      "(Ne, β) = (600, 0.99)\n"
     ]
    },
    {
     "name": "stderr",
     "output_type": "stream",
     "text": [
      "\u001b[32mProgress: 100%|█████████████████████████████████████████| Time: 0:01:38\u001b[39m\n"
     ]
    },
    {
     "name": "stdout",
     "output_type": "stream",
     "text": [
      " 98.649268 seconds (1.58 G allocations: 120.241 GiB, 11.04% gc time)\n",
      "Ne = 600\n",
      "Ne 600& β 0.99 RMSE: 0.39188484362563464\n",
      "(Ne, β) = (600, 1.0)\n"
     ]
    },
    {
     "name": "stderr",
     "output_type": "stream",
     "text": [
      "\u001b[32mProgress: 100%|█████████████████████████████████████████| Time: 0:01:31\u001b[39m\n"
     ]
    },
    {
     "name": "stdout",
     "output_type": "stream",
     "text": [
      " 91.390643 seconds (1.58 G allocations: 119.892 GiB, 10.72% gc time)\n",
      "Ne = 600\n",
      "Ne 600& β 1.0 RMSE: 0.40133153856534226\n",
      "(Ne, β) = (600, 1.01)\n"
     ]
    },
    {
     "name": "stderr",
     "output_type": "stream",
     "text": [
      "\u001b[32mProgress: 100%|█████████████████████████████████████████| Time: 0:01:33\u001b[39m\n"
     ]
    },
    {
     "name": "stdout",
     "output_type": "stream",
     "text": [
      " 93.960383 seconds (1.58 G allocations: 119.968 GiB, 10.93% gc time)\n",
      "Ne = 600\n",
      "Ne 600& β 1.01 RMSE: 0.396469674139247\n",
      "(Ne, β) = (600, 1.02)\n"
     ]
    },
    {
     "name": "stderr",
     "output_type": "stream",
     "text": [
      "\u001b[32mProgress: 100%|█████████████████████████████████████████| Time: 0:01:35\u001b[39m\n"
     ]
    },
    {
     "name": "stdout",
     "output_type": "stream",
     "text": [
      " 95.784640 seconds (1.58 G allocations: 119.650 GiB, 10.98% gc time)\n",
      "Ne = 600\n",
      "Ne 600& β 1.02 RMSE: 0.3867934711197573\n",
      "(Ne, β) = (600, 1.03)\n"
     ]
    },
    {
     "name": "stderr",
     "output_type": "stream",
     "text": [
      "\u001b[32mProgress: 100%|█████████████████████████████████████████| Time: 0:01:37\u001b[39m\n"
     ]
    },
    {
     "name": "stdout",
     "output_type": "stream",
     "text": [
      " 97.160167 seconds (1.58 G allocations: 119.516 GiB, 11.01% gc time)\n",
      "Ne = 600\n",
      "Ne 600& β 1.03 RMSE: 0.4009939808313468\n",
      "(Ne, β) = (600, 1.04)\n"
     ]
    },
    {
     "name": "stderr",
     "output_type": "stream",
     "text": [
      "\u001b[32mProgress: 100%|█████████████████████████████████████████| Time: 0:01:38\u001b[39m\n"
     ]
    },
    {
     "name": "stdout",
     "output_type": "stream",
     "text": [
      " 98.496963 seconds (1.57 G allocations: 119.231 GiB, 10.95% gc time)\n",
      "Ne = 600\n",
      "Ne 600& β 1.04 RMSE: 0.3926593806082884\n",
      "(Ne, β) = (600, 1.05)\n"
     ]
    },
    {
     "name": "stderr",
     "output_type": "stream",
     "text": [
      "\u001b[32mProgress: 100%|█████████████████████████████████████████| Time: 0:01:28\u001b[39m\n"
     ]
    },
    {
     "name": "stdout",
     "output_type": "stream",
     "text": [
      " 88.658584 seconds (1.57 G allocations: 119.161 GiB, 10.93% gc time)\n",
      "Ne = 600\n"
     ]
    },
    {
     "name": "stderr",
     "output_type": "stream",
     "text": [
      "\r",
      "\u001b[32mProgress: 100%|█████████████████████████████████████████| Time: 0:41:19\u001b[39m\n"
     ]
    },
    {
     "name": "stdout",
     "output_type": "stream",
     "text": [
      "Ne 600& β 1.05 RMSE: 0.4046611674824419\n"
     ]
    }
   ],
   "source": [
    "metric_sadaptivermf1 = benchmark_sadaptivermf_lorenz63(model, data, path, [40, 60, 100, 200, 400, 600], β_array, p);"
   ]
  },
  {
   "cell_type": "code",
   "execution_count": 26,
   "metadata": {},
   "outputs": [],
   "source": [
    "save(path*\"metric_sadaptivermf1\"*string(p)*\".jld\", \"metric\", metric_sadaptivermf1)"
   ]
  },
  {
   "cell_type": "markdown",
   "metadata": {},
   "source": [
    "p = 2"
   ]
  },
  {
   "cell_type": "code",
   "execution_count": 27,
   "metadata": {},
   "outputs": [
    {
     "data": {
      "text/plain": [
       "2"
      ]
     },
     "execution_count": 27,
     "metadata": {},
     "output_type": "execute_result"
    }
   ],
   "source": [
    "p = 2"
   ]
  },
  {
   "cell_type": "code",
   "execution_count": 28,
   "metadata": {
    "scrolled": true
   },
   "outputs": [
    {
     "name": "stdout",
     "output_type": "stream",
     "text": [
      "(Ne, β) = (60, 0.97)\n"
     ]
    },
    {
     "name": "stderr",
     "output_type": "stream",
     "text": [
      "\u001b[32mProgress: 100%|█████████████████████████████████████████| Time: 0:00:11\u001b[39m\n"
     ]
    },
    {
     "name": "stdout",
     "output_type": "stream",
     "text": [
      " 11.194188 seconds (165.64 M allocations: 12.854 GiB, 10.06% gc time)\n",
      "Ne = 60\n",
      "Ne 60& β 0.97 RMSE: 0.7590563412868957\n",
      "(Ne, β) = (60, 0.98)\n"
     ]
    },
    {
     "name": "stderr",
     "output_type": "stream",
     "text": [
      "\u001b[32mProgress: 100%|█████████████████████████████████████████| Time: 0:00:11\u001b[39m\n"
     ]
    },
    {
     "name": "stdout",
     "output_type": "stream",
     "text": [
      " 11.173764 seconds (165.46 M allocations: 12.832 GiB, 10.13% gc time)\n",
      "Ne = 60\n",
      "Ne 60& β 0.98 RMSE: 0.8679825855626035\n",
      "(Ne, β) = (60, 0.99)\n"
     ]
    },
    {
     "name": "stderr",
     "output_type": "stream",
     "text": [
      "\u001b[32mProgress: 100%|█████████████████████████████████████████| Time: 0:00:11\u001b[39m\n"
     ]
    },
    {
     "name": "stdout",
     "output_type": "stream",
     "text": [
      " 11.214412 seconds (165.64 M allocations: 12.853 GiB, 10.12% gc time)\n",
      "Ne = 60\n",
      "Ne 60& β 0.99 RMSE: 0.6529078349545235\n",
      "(Ne, β) = (60, 1.0)\n"
     ]
    },
    {
     "name": "stderr",
     "output_type": "stream",
     "text": [
      "\u001b[32mProgress: 100%|█████████████████████████████████████████| Time: 0:00:11\u001b[39m\n"
     ]
    },
    {
     "name": "stdout",
     "output_type": "stream",
     "text": [
      " 11.219773 seconds (165.57 M allocations: 12.845 GiB, 10.25% gc time)\n",
      "Ne = 60\n",
      "Ne 60& β 1.0 RMSE: 0.6508484003916076\n",
      "(Ne, β) = (60, 1.01)\n"
     ]
    },
    {
     "name": "stderr",
     "output_type": "stream",
     "text": [
      "\u001b[32mProgress:   4%|█▉                                       |  ETA: 0:00:11\u001b[39m"
     ]
    },
    {
     "name": "stdout",
     "output_type": "stream",
     "text": [
      "Max number of iterations is reached during the optimization"
     ]
    },
    {
     "name": "stderr",
     "output_type": "stream",
     "text": [
      "\u001b[32mProgress:  64%|██████████████████████████▍              |  ETA: 0:00:04\u001b[39m"
     ]
    },
    {
     "name": "stdout",
     "output_type": "stream",
     "text": [
      "Max number of iterations is reached during the optimization"
     ]
    },
    {
     "name": "stderr",
     "output_type": "stream",
     "text": [
      "\u001b[32mProgress: 100%|█████████████████████████████████████████| Time: 0:00:11\u001b[39m\n"
     ]
    },
    {
     "name": "stdout",
     "output_type": "stream",
     "text": [
      " 11.253598 seconds (165.51 M allocations: 12.837 GiB, 10.21% gc time)\n",
      "Ne = 60\n",
      "Ne 60& β 1.01 RMSE: 0.6583068050502413\n",
      "(Ne, β) = (60, 1.02)\n"
     ]
    },
    {
     "name": "stderr",
     "output_type": "stream",
     "text": [
      "\u001b[32mProgress: 100%|█████████████████████████████████████████| Time: 0:00:11\u001b[39m\n"
     ]
    },
    {
     "name": "stdout",
     "output_type": "stream",
     "text": [
      " 11.258021 seconds (165.55 M allocations: 12.843 GiB, 10.19% gc time)\n",
      "Ne = 60\n",
      "Ne 60& β 1.02 RMSE: 0.6663030970256395\n",
      "(Ne, β) = (60, 1.03)\n"
     ]
    },
    {
     "name": "stderr",
     "output_type": "stream",
     "text": [
      "\u001b[32mProgress:  31%|████████████▊                            |  ETA: 0:00:08\u001b[39m"
     ]
    },
    {
     "name": "stdout",
     "output_type": "stream",
     "text": [
      "Max number of iterations is reached during the optimization"
     ]
    },
    {
     "name": "stderr",
     "output_type": "stream",
     "text": [
      "\u001b[32mProgress:  77%|███████████████████████████████▍         |  ETA: 0:00:03\u001b[39m"
     ]
    },
    {
     "name": "stdout",
     "output_type": "stream",
     "text": [
      "Max number of iterations is reached during the optimization"
     ]
    },
    {
     "name": "stderr",
     "output_type": "stream",
     "text": [
      "\u001b[32mProgress: 100%|█████████████████████████████████████████| Time: 0:00:11\u001b[39m\n"
     ]
    },
    {
     "name": "stdout",
     "output_type": "stream",
     "text": [
      " 11.258181 seconds (165.54 M allocations: 12.841 GiB, 10.13% gc time)\n",
      "Ne = 60\n",
      "Ne 60& β 1.03 RMSE: 0.6668140161760241\n",
      "(Ne, β) = (60, 1.04)\n"
     ]
    },
    {
     "name": "stderr",
     "output_type": "stream",
     "text": [
      "\u001b[32mProgress: 100%|█████████████████████████████████████████| Time: 0:00:11\u001b[39m\n"
     ]
    },
    {
     "name": "stdout",
     "output_type": "stream",
     "text": [
      " 11.327077 seconds (165.57 M allocations: 12.846 GiB, 10.19% gc time)\n",
      "Ne = 60\n",
      "Ne 60& β 1.04 RMSE: 0.6779401243652106\n",
      "(Ne, β) = (100, 0.97)\n"
     ]
    },
    {
     "name": "stderr",
     "output_type": "stream",
     "text": [
      "\u001b[32mProgress: 100%|█████████████████████████████████████████| Time: 0:00:17\u001b[39m\n"
     ]
    },
    {
     "name": "stdout",
     "output_type": "stream",
     "text": [
      " 17.630186 seconds (268.20 M allocations: 20.717 GiB, 10.47% gc time)\n",
      "Ne = 100\n",
      "Ne 100& β 0.97 RMSE: 0.5565894498405414\n",
      "(Ne, β) = (100, 0.98)\n"
     ]
    },
    {
     "name": "stderr",
     "output_type": "stream",
     "text": [
      "\u001b[32mProgress: 100%|█████████████████████████████████████████| Time: 0:00:17\u001b[39m\n"
     ]
    },
    {
     "name": "stdout",
     "output_type": "stream",
     "text": [
      " 17.728110 seconds (268.24 M allocations: 20.720 GiB, 10.47% gc time)\n",
      "Ne = 100\n",
      "Ne 100& β 0.98 RMSE: 0.5475053775518939\n",
      "(Ne, β) = (100, 0.99)\n"
     ]
    },
    {
     "name": "stderr",
     "output_type": "stream",
     "text": [
      "\u001b[32mProgress: 100%|█████████████████████████████████████████| Time: 0:00:17\u001b[39m\n"
     ]
    },
    {
     "name": "stdout",
     "output_type": "stream",
     "text": [
      " 17.705667 seconds (268.24 M allocations: 20.722 GiB, 10.51% gc time)\n",
      "Ne = 100\n",
      "Ne 100& β 0.99 RMSE: 0.5299543101495159\n",
      "(Ne, β) = (100, 1.0)\n"
     ]
    },
    {
     "name": "stderr",
     "output_type": "stream",
     "text": [
      "\u001b[32mProgress: 100%|█████████████████████████████████████████| Time: 0:00:17\u001b[39m\n"
     ]
    },
    {
     "name": "stdout",
     "output_type": "stream",
     "text": [
      " 17.733962 seconds (268.13 M allocations: 20.711 GiB, 10.62% gc time)\n",
      "Ne = 100\n",
      "Ne 100& β 1.0 RMSE: 0.6972184368673797\n",
      "(Ne, β) = (100, 1.01)\n"
     ]
    },
    {
     "name": "stderr",
     "output_type": "stream",
     "text": [
      "\u001b[32mProgress: 100%|█████████████████████████████████████████| Time: 0:00:17\u001b[39m\n"
     ]
    },
    {
     "name": "stdout",
     "output_type": "stream",
     "text": [
      " 17.853502 seconds (268.03 M allocations: 20.696 GiB, 10.59% gc time)\n",
      "Ne = 100\n",
      "Ne 100& β 1.01 RMSE: 0.530822647039223\n",
      "(Ne, β) = (100, 1.02)\n"
     ]
    },
    {
     "name": "stderr",
     "output_type": "stream",
     "text": [
      "\u001b[32mProgress: 100%|█████████████████████████████████████████| Time: 0:00:17\u001b[39m\n"
     ]
    },
    {
     "name": "stdout",
     "output_type": "stream",
     "text": [
      " 17.891391 seconds (268.05 M allocations: 20.697 GiB, 10.66% gc time)\n",
      "Ne = 100\n",
      "Ne 100& β 1.02 RMSE: 0.5820304518003213\n",
      "(Ne, β) = (100, 1.03)\n"
     ]
    },
    {
     "name": "stderr",
     "output_type": "stream",
     "text": [
      "\u001b[32mProgress: 100%|█████████████████████████████████████████| Time: 0:00:17\u001b[39m\n"
     ]
    },
    {
     "name": "stdout",
     "output_type": "stream",
     "text": [
      " 17.918606 seconds (268.18 M allocations: 20.715 GiB, 10.71% gc time)\n",
      "Ne = 100\n",
      "Ne 100& β 1.03 RMSE: 0.6142850586852093\n",
      "(Ne, β) = (100, 1.04)\n"
     ]
    },
    {
     "name": "stderr",
     "output_type": "stream",
     "text": [
      "\u001b[32mProgress: 100%|█████████████████████████████████████████| Time: 0:00:17\u001b[39m\n"
     ]
    },
    {
     "name": "stdout",
     "output_type": "stream",
     "text": [
      " 17.962147 seconds (268.09 M allocations: 20.705 GiB, 10.66% gc time)\n",
      "Ne = 100\n"
     ]
    },
    {
     "name": "stderr",
     "output_type": "stream",
     "text": [
      "\r",
      "\u001b[32mProgress:  40%|████████████████▍                        |  ETA: 0:05:51\u001b[39m"
     ]
    },
    {
     "name": "stdout",
     "output_type": "stream",
     "text": [
      "Ne 100& β 1.04 RMSE: 0.5511160436329612\n",
      "(Ne, β) = (200, 0.97)\n"
     ]
    },
    {
     "name": "stderr",
     "output_type": "stream",
     "text": [
      "\u001b[32mProgress: 100%|█████████████████████████████████████████| Time: 0:00:34\u001b[39m\n"
     ]
    },
    {
     "name": "stdout",
     "output_type": "stream",
     "text": [
      " 34.433561 seconds (525.70 M allocations: 40.580 GiB, 10.86% gc time)\n",
      "Ne = 200\n",
      "Ne 200& β 0.97 RMSE: 0.43316952409423526\n",
      "(Ne, β) = (200, 0.98)\n"
     ]
    },
    {
     "name": "stderr",
     "output_type": "stream",
     "text": [
      "\u001b[32mProgress: 100%|█████████████████████████████████████████| Time: 0:00:34\u001b[39m\n"
     ]
    },
    {
     "name": "stdout",
     "output_type": "stream",
     "text": [
      " 34.580355 seconds (525.71 M allocations: 40.583 GiB, 10.98% gc time)\n",
      "Ne = 200\n",
      "Ne 200& β 0.98 RMSE: 0.43299272275610734\n",
      "(Ne, β) = (200, 0.99)\n"
     ]
    },
    {
     "name": "stderr",
     "output_type": "stream",
     "text": [
      "\u001b[32mProgress: 100%|█████████████████████████████████████████| Time: 0:00:33\u001b[39m\n"
     ]
    },
    {
     "name": "stdout",
     "output_type": "stream",
     "text": [
      " 33.301230 seconds (525.89 M allocations: 40.602 GiB, 11.11% gc time)\n",
      "Ne = 200\n",
      "Ne 200& β 0.99 RMSE: 0.458654362085586\n",
      "(Ne, β) = (200, 1.0)\n"
     ]
    },
    {
     "name": "stderr",
     "output_type": "stream",
     "text": [
      "\u001b[32mProgress: 100%|█████████████████████████████████████████| Time: 0:00:31\u001b[39m\n"
     ]
    },
    {
     "name": "stdout",
     "output_type": "stream",
     "text": [
      " 31.562168 seconds (525.08 M allocations: 40.501 GiB, 10.30% gc time)\n",
      "Ne = 200\n",
      "Ne 200& β 1.0 RMSE: 0.43578484743174445\n",
      "(Ne, β) = (200, 1.01)\n"
     ]
    },
    {
     "name": "stderr",
     "output_type": "stream",
     "text": [
      "\u001b[32mProgress: 100%|█████████████████████████████████████████| Time: 0:00:31\u001b[39m\n"
     ]
    },
    {
     "name": "stdout",
     "output_type": "stream",
     "text": [
      " 31.921267 seconds (525.80 M allocations: 40.598 GiB, 10.38% gc time)\n",
      "Ne = 200\n",
      "Ne 200& β 1.01 RMSE: 0.45526941535832083\n",
      "(Ne, β) = (200, 1.02)\n"
     ]
    },
    {
     "name": "stderr",
     "output_type": "stream",
     "text": [
      "\u001b[32mProgress: 100%|█████████████████████████████████████████| Time: 0:00:32\u001b[39m\n"
     ]
    },
    {
     "name": "stdout",
     "output_type": "stream",
     "text": [
      " 32.299866 seconds (525.61 M allocations: 40.574 GiB, 10.51% gc time)\n",
      "Ne = 200\n",
      "Ne 200& β 1.02 RMSE: 0.440965552553993\n",
      "(Ne, β) = (200, 1.03)\n"
     ]
    },
    {
     "name": "stderr",
     "output_type": "stream",
     "text": [
      "\u001b[32mProgress: 100%|█████████████████████████████████████████| Time: 0:00:32\u001b[39m\n"
     ]
    },
    {
     "name": "stdout",
     "output_type": "stream",
     "text": [
      " 32.653636 seconds (524.72 M allocations: 40.454 GiB, 10.56% gc time)\n",
      "Ne = 200\n",
      "Ne 200& β 1.03 RMSE: 0.44676234560602235\n",
      "(Ne, β) = (200, 1.04)\n"
     ]
    },
    {
     "name": "stderr",
     "output_type": "stream",
     "text": [
      "\u001b[32mProgress: 100%|█████████████████████████████████████████| Time: 0:00:32\u001b[39m\n"
     ]
    },
    {
     "name": "stdout",
     "output_type": "stream",
     "text": [
      " 32.945237 seconds (525.12 M allocations: 40.504 GiB, 10.62% gc time)\n",
      "Ne = 200\n"
     ]
    },
    {
     "name": "stderr",
     "output_type": "stream",
     "text": [
      "\r",
      "\u001b[32mProgress:  60%|████████████████████████▋                |  ETA: 0:05:33\u001b[39m"
     ]
    },
    {
     "name": "stdout",
     "output_type": "stream",
     "text": [
      "Ne 200& β 1.04 RMSE: 0.44626185722453343\n",
      "(Ne, β) = (400, 0.97)\n"
     ]
    },
    {
     "name": "stderr",
     "output_type": "stream",
     "text": [
      "\u001b[32mProgress: 100%|█████████████████████████████████████████| Time: 0:01:06\u001b[39m\n"
     ]
    },
    {
     "name": "stdout",
     "output_type": "stream",
     "text": [
      " 66.327544 seconds (1.05 G allocations: 81.008 GiB, 10.87% gc time)\n",
      "Ne = 400\n",
      "Ne 400& β 0.97 RMSE: 0.4085977207026707\n",
      "(Ne, β) = (400, 0.98)\n"
     ]
    },
    {
     "name": "stderr",
     "output_type": "stream",
     "text": [
      "\u001b[32mProgress: 100%|█████████████████████████████████████████| Time: 0:01:06\u001b[39m\n"
     ]
    },
    {
     "name": "stdout",
     "output_type": "stream",
     "text": [
      " 66.808436 seconds (1.05 G allocations: 80.687 GiB, 10.92% gc time)\n",
      "Ne = 400\n",
      "Ne 400& β 0.98 RMSE: 0.39607788822285156\n",
      "(Ne, β) = (400, 0.99)\n"
     ]
    },
    {
     "name": "stderr",
     "output_type": "stream",
     "text": [
      "\u001b[32mProgress: 100%|█████████████████████████████████████████| Time: 0:01:07\u001b[39m\n"
     ]
    },
    {
     "name": "stdout",
     "output_type": "stream",
     "text": [
      " 67.761607 seconds (1.05 G allocations: 80.788 GiB, 10.84% gc time)\n",
      "Ne = 400\n",
      "Ne 400& β 0.99 RMSE: 0.39343591377600945\n",
      "(Ne, β) = (400, 1.0)\n"
     ]
    },
    {
     "name": "stderr",
     "output_type": "stream",
     "text": [
      "\u001b[32mProgress: 100%|█████████████████████████████████████████| Time: 0:01:06\u001b[39m\n"
     ]
    },
    {
     "name": "stdout",
     "output_type": "stream",
     "text": [
      " 66.939916 seconds (1.05 G allocations: 80.781 GiB, 11.03% gc time)\n",
      "Ne = 400\n",
      "Ne 400& β 1.0 RMSE: 0.40318565392301375\n",
      "(Ne, β) = (400, 1.01)\n"
     ]
    },
    {
     "name": "stderr",
     "output_type": "stream",
     "text": [
      "\u001b[32mProgress: 100%|█████████████████████████████████████████| Time: 0:01:02\u001b[39m\n"
     ]
    },
    {
     "name": "stdout",
     "output_type": "stream",
     "text": [
      " 62.321313 seconds (1.04 G allocations: 80.438 GiB, 10.20% gc time)\n",
      "Ne = 400\n",
      "Ne 400& β 1.01 RMSE: 0.4100854726693693\n",
      "(Ne, β) = (400, 1.02)\n"
     ]
    },
    {
     "name": "stderr",
     "output_type": "stream",
     "text": [
      "\u001b[32mProgress: 100%|█████████████████████████████████████████| Time: 0:01:03\u001b[39m\n"
     ]
    },
    {
     "name": "stdout",
     "output_type": "stream",
     "text": [
      " 63.730846 seconds (1.05 G allocations: 80.572 GiB, 10.40% gc time)\n",
      "Ne = 400\n",
      "Ne 400& β 1.02 RMSE: 0.38176763430547456\n",
      "(Ne, β) = (400, 1.03)\n"
     ]
    },
    {
     "name": "stderr",
     "output_type": "stream",
     "text": [
      "\u001b[32mProgress: 100%|█████████████████████████████████████████| Time: 0:01:04\u001b[39m\n"
     ]
    },
    {
     "name": "stdout",
     "output_type": "stream",
     "text": [
      " 64.822346 seconds (1.04 G allocations: 80.225 GiB, 10.62% gc time)\n",
      "Ne = 400\n",
      "Ne 400& β 1.03 RMSE: 0.4085645704656088\n",
      "(Ne, β) = (400, 1.04)\n"
     ]
    },
    {
     "name": "stderr",
     "output_type": "stream",
     "text": [
      "\u001b[32mProgress: 100%|█████████████████████████████████████████| Time: 0:01:05\u001b[39m\n"
     ]
    },
    {
     "name": "stdout",
     "output_type": "stream",
     "text": [
      " 65.626958 seconds (1.04 G allocations: 80.065 GiB, 10.65% gc time)\n",
      "Ne = 400\n"
     ]
    },
    {
     "name": "stderr",
     "output_type": "stream",
     "text": [
      "\r",
      "\u001b[32mProgress:  80%|████████████████████████████████▊        |  ETA: 0:04:16\u001b[39m"
     ]
    },
    {
     "name": "stdout",
     "output_type": "stream",
     "text": [
      "Ne 400& β 1.04 RMSE: 0.4079567728595374\n",
      "(Ne, β) = (600, 0.97)\n"
     ]
    },
    {
     "name": "stderr",
     "output_type": "stream",
     "text": [
      "\u001b[32mProgress: 100%|█████████████████████████████████████████| Time: 0:01:40\u001b[39m\n"
     ]
    },
    {
     "name": "stdout",
     "output_type": "stream",
     "text": [
      "100.680386 seconds (1.58 G allocations: 121.898 GiB, 10.66% gc time)\n",
      "Ne = 600\n",
      "Ne 600& β 0.97 RMSE: 0.3974459895687504\n",
      "(Ne, β) = (600, 0.98)\n"
     ]
    },
    {
     "name": "stderr",
     "output_type": "stream",
     "text": [
      "\u001b[32mProgress: 100%|█████████████████████████████████████████| Time: 0:01:41\u001b[39m\n"
     ]
    },
    {
     "name": "stdout",
     "output_type": "stream",
     "text": [
      "101.216513 seconds (1.58 G allocations: 121.846 GiB, 10.82% gc time)\n",
      "Ne = 600\n",
      "Ne 600& β 0.98 RMSE: 0.38141685599321956\n",
      "(Ne, β) = (600, 0.99)\n"
     ]
    },
    {
     "name": "stderr",
     "output_type": "stream",
     "text": [
      "\u001b[32mProgress: 100%|█████████████████████████████████████████| Time: 0:01:35\u001b[39m\n"
     ]
    },
    {
     "name": "stdout",
     "output_type": "stream",
     "text": [
      " 95.466758 seconds (1.58 G allocations: 121.596 GiB, 10.47% gc time)\n",
      "Ne = 600\n",
      "Ne 600& β 0.99 RMSE: 0.38328505870695373\n",
      "(Ne, β) = (600, 1.0)\n"
     ]
    },
    {
     "name": "stderr",
     "output_type": "stream",
     "text": [
      "\u001b[32mProgress: 100%|█████████████████████████████████████████| Time: 0:01:37\u001b[39m\n"
     ]
    },
    {
     "name": "stdout",
     "output_type": "stream",
     "text": [
      " 97.764218 seconds (1.57 G allocations: 121.162 GiB, 10.63% gc time)\n",
      "Ne = 600\n",
      "Ne 600& β 1.0 RMSE: 0.40937635938388467\n",
      "(Ne, β) = (600, 1.01)\n"
     ]
    },
    {
     "name": "stderr",
     "output_type": "stream",
     "text": [
      "\u001b[32mProgress: 100%|█████████████████████████████████████████| Time: 0:01:39\u001b[39m\n"
     ]
    },
    {
     "name": "stdout",
     "output_type": "stream",
     "text": [
      " 99.705125 seconds (1.57 G allocations: 121.203 GiB, 10.65% gc time)\n",
      "Ne = 600\n",
      "Ne 600& β 1.01 RMSE: 0.38736704936083116\n",
      "(Ne, β) = (600, 1.02)\n"
     ]
    },
    {
     "name": "stderr",
     "output_type": "stream",
     "text": [
      "\u001b[32mProgress: 100%|█████████████████████████████████████████| Time: 0:01:41\u001b[39m\n"
     ]
    },
    {
     "name": "stdout",
     "output_type": "stream",
     "text": [
      "101.027703 seconds (1.57 G allocations: 121.069 GiB, 10.65% gc time)\n",
      "Ne = 600\n",
      "Ne 600& β 1.02 RMSE: 0.39010126309094506\n",
      "(Ne, β) = (600, 1.03)\n"
     ]
    },
    {
     "name": "stderr",
     "output_type": "stream",
     "text": [
      "\u001b[32mProgress: 100%|█████████████████████████████████████████| Time: 0:01:42\u001b[39m\n"
     ]
    },
    {
     "name": "stdout",
     "output_type": "stream",
     "text": [
      "102.742683 seconds (1.57 G allocations: 120.919 GiB, 10.84% gc time)\n",
      "Ne = 600\n",
      "Ne 600& β 1.03 RMSE: 0.3844961954810035\n",
      "(Ne, β) = (600, 1.04)\n"
     ]
    },
    {
     "name": "stderr",
     "output_type": "stream",
     "text": [
      "\u001b[32mProgress: 100%|█████████████████████████████████████████| Time: 0:01:35\u001b[39m\n"
     ]
    },
    {
     "name": "stdout",
     "output_type": "stream",
     "text": [
      " 95.489899 seconds (1.57 G allocations: 120.768 GiB, 10.57% gc time)\n",
      "Ne = 600\n"
     ]
    },
    {
     "name": "stderr",
     "output_type": "stream",
     "text": [
      "\r",
      "\u001b[32mProgress: 100%|█████████████████████████████████████████| Time: 0:30:21\u001b[39m\n"
     ]
    },
    {
     "name": "stdout",
     "output_type": "stream",
     "text": [
      "Ne 600& β 1.04 RMSE: 0.38634497310726157\n"
     ]
    }
   ],
   "source": [
    "metric_sadaptivermf2 = benchmark_sadaptivermf_lorenz63(model, data, path, [60, 100, 200, 400, 600], collect(0.97:0.01:1.04), p);"
   ]
  },
  {
   "cell_type": "code",
   "execution_count": 29,
   "metadata": {},
   "outputs": [],
   "source": [
    "save(path*\"metric_sadaptivermf2\"*string(p)*\".jld\", \"metric\", metric_sadaptivermf2)"
   ]
  }
 ],
 "metadata": {
  "kernelspec": {
   "display_name": "Julia 1.5.3",
   "language": "julia",
   "name": "julia-1.5"
  },
  "language_info": {
   "file_extension": ".jl",
   "mimetype": "application/julia",
   "name": "julia",
   "version": "1.5.3"
  }
 },
 "nbformat": 4,
 "nbformat_minor": 2
}
