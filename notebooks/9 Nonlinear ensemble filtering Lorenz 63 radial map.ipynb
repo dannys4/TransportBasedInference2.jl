{
 "cells": [
  {
   "cell_type": "markdown",
   "metadata": {},
   "source": [
    "## 9. Nonlinear ensemble filtering for the Lorenz-63 problem"
   ]
  },
  {
   "cell_type": "markdown",
   "metadata": {},
   "source": [
    "In this notebook, we are interested in the sequential inference \n",
    "\n",
    "\n",
    "\n",
    "References: \n",
    "\n",
    "\n",
    "[1] Evensen, G., 1994. Sequential data assimilation with a nonlinear quasi‐geostrophic model using Monte Carlo methods to forecast error statistics. Journal of Geophysical Research: Oceans, 99(C5), pp.10143-10162.\n",
    "\n",
    "[2] Asch, M., Bocquet, M. and Nodet, M., 2016. Data assimilation: methods, algorithms, and applications. Society for Industrial and Applied Mathematics.\n",
    "\n",
    "[3] Bishop, C.H., Etherton, B.J. and Majumdar, S.J., 2001. Adaptive sampling with the ensemble transform Kalman filter. Part I: Theoretical aspects. Monthly weather review, 129(3), pp.420-436. \n",
    "\n",
    "[4] Lorenz, E.N., 1963. Deterministic nonperiodic flow. Journal of atmospheric sciences, 20(2), pp.130-141.\n",
    "\n",
    "[5] Spantini, A., Baptista, R. and Marzouk, Y., 2019. Coupling techniques for nonlinear ensemble filtering. arXiv preprint arXiv:1907.00389."
   ]
  },
  {
   "cell_type": "markdown",
   "metadata": {},
   "source": [
    "### The basic steps\n",
    "To carry out sequential inference in `AdaptiveTransportMap`, we need to carry out a few basic steps:\n",
    "* **Specify the problem**: Define the state-space model: initial condition, dynamical and observation models (including process and observation noise)\n",
    "* **Specify the inflation parameters**: Determine the levels of covariance inflation to properly balance the dynamical system and the observations from the truth system\n",
    "* **Specify the filter**: Choose the ensemble filter to assimilate the observations in the state estimate\n",
    "* **Perform the sequential inference**: Perform the sequential inference\n",
    "\n",
    "We will go through all of these here."
   ]
  },
  {
   "cell_type": "code",
   "execution_count": 1,
   "metadata": {},
   "outputs": [],
   "source": [
    "using Revise\n",
    "using LinearAlgebra\n",
    "using AdaptiveTransportMap\n",
    "using Statistics\n",
    "using Distributions\n",
    "using OrdinaryDiffEq"
   ]
  },
  {
   "cell_type": "code",
   "execution_count": 2,
   "metadata": {},
   "outputs": [],
   "source": [
    "using DelimitedFiles"
   ]
  },
  {
   "cell_type": "markdown",
   "metadata": {},
   "source": [
    "Load some packages to make nice figures"
   ]
  },
  {
   "cell_type": "code",
   "execution_count": 3,
   "metadata": {},
   "outputs": [],
   "source": [
    "using Plots\n",
    "default(tickfont = font(\"CMU Serif\", 9), \n",
    "        titlefont = font(\"CMU Serif\", 14), \n",
    "        guidefont = font(\"CMU Serif\", 12),\n",
    "        legendfont = font(\"CMU Serif\", 10),\n",
    "        grid = false)\n",
    "# pyplot()\n",
    "\n",
    "using LaTeXStrings\n",
    "# PyPlot.rc(\"text\", usetex = \"true\")\n",
    "# PyPlot.rc(\"font\", family = \"CMU Serif\")\n",
    "# gr()\n",
    "using ColorSchemes"
   ]
  },
  {
   "cell_type": "markdown",
   "metadata": {},
   "source": [
    "The Lorenz-63  model is a three dimensional system that models the atmospheric convection [4]. This system is a classical benchmark problem in data assimilation. The state $\\boldsymbol{x} = (x_1, x_2, x_3)$ is governed by the following set of ordinary differential equations:\n",
    "\n",
    "\\begin{equation}\n",
    "\\begin{aligned}\n",
    "&\\frac{\\mathrm{d} x_1}{\\mathrm{d} t}=\\sigma(x_2-x_1)\\\\\n",
    "&\\frac{\\mathrm{d} x_2}{\\mathrm{d} t}=x_1(\\rho-x_2)-x_2\\\\\n",
    "&\\frac{\\mathrm{d} x_3}{\\mathrm{d} t}=x_1 x_2-\\beta x_3,\n",
    "\\end{aligned}\n",
    "\\end{equation}\n",
    "\n",
    "where $\\sigma = 10, \\beta = 8/3, \\rho = 28$. For these values, the system is chaotic and behaves like a strange attractor. We integrate this system of ODEs with time step $\\Delta t_{dyn} = 0.05$. The state is fully observed $h(t,\\boldsymbol{x}) = \\boldsymbol{x}$ with $\\Delta t_{obs}=0.1$. The initial distribution $\\pi_{\\mathsf{X}_0}$ is the standard Gaussian. The process noise is Gaussian with zero mean and covariance $10^{-4}\\boldsymbol{I}_3$. The measurement noise has a Gaussian distribution with zero mean and covariance $\\theta^2\\boldsymbol{I}_3$ where $\\theta^2 = 4.0$."
   ]
  },
  {
   "cell_type": "markdown",
   "metadata": {},
   "source": [
    "### Simple twin-experiment"
   ]
  },
  {
   "cell_type": "markdown",
   "metadata": {},
   "source": [
    "Define the dimension of the state and observation vectors"
   ]
  },
  {
   "cell_type": "code",
   "execution_count": 4,
   "metadata": {},
   "outputs": [
    {
     "data": {
      "text/plain": [
       "3"
      ]
     },
     "execution_count": 4,
     "metadata": {},
     "output_type": "execute_result"
    }
   ],
   "source": [
    "Nx = 3\n",
    "Ny = 3"
   ]
  },
  {
   "cell_type": "markdown",
   "metadata": {},
   "source": [
    "Define the time steps $\\Delta t_{dyn}, \\Delta t_{obs}$  of the dynamical and observation models. Observations from the truth are assimilated every $\\Delta t_{obs}$."
   ]
  },
  {
   "cell_type": "code",
   "execution_count": 5,
   "metadata": {},
   "outputs": [
    {
     "data": {
      "text/plain": [
       "0.2"
      ]
     },
     "execution_count": 5,
     "metadata": {},
     "output_type": "execute_result"
    }
   ],
   "source": [
    "Δtdyn = 0.05\n",
    "Δtobs = 0.2"
   ]
  },
  {
   "cell_type": "markdown",
   "metadata": {},
   "source": [
    "Define the time span of interest"
   ]
  },
  {
   "cell_type": "code",
   "execution_count": 174,
   "metadata": {},
   "outputs": [
    {
     "data": {
      "text/plain": [
       "5000"
      ]
     },
     "execution_count": 174,
     "metadata": {},
     "output_type": "execute_result"
    }
   ],
   "source": [
    "t0 = 0.0\n",
    "tf = 1000.0\n",
    "Tf = ceil(Int64, (tf-t0)/Δtobs)"
   ]
  },
  {
   "cell_type": "markdown",
   "metadata": {},
   "source": [
    " Define the distribution for the initial condition $\\pi_{\\mathsf{X}_0}$"
   ]
  },
  {
   "cell_type": "code",
   "execution_count": 175,
   "metadata": {},
   "outputs": [
    {
     "data": {
      "text/plain": [
       "FullNormal(\n",
       "dim: 3\n",
       "μ: [0.0, 0.0, 0.0]\n",
       "Σ: [1.0 0.0 0.0; 0.0 1.0 0.0; 0.0 0.0 1.0]\n",
       ")\n"
      ]
     },
     "execution_count": 175,
     "metadata": {},
     "output_type": "execute_result"
    }
   ],
   "source": [
    "π0 = MvNormal(zeros(Nx), Matrix(1.0*I, Nx, Nx))"
   ]
  },
  {
   "cell_type": "markdown",
   "metadata": {},
   "source": [
    "We construct the state-space representation `F` of the system composed of the deterministic part of the dynamical and observation models. \n",
    "\n",
    "The dynamical model is provided by the right hand side of the ODE to solve. For a system of ODEs, we will prefer an in-place syntax `f(du, u, p, t)`, where `p` are parameters of the model.\n",
    "We rely on `OrdinaryDiffEq` to integrate the dynamical system with the Tsitouras 5/4 Runge-Kutta method adaptive time marching. \n",
    "\n",
    "We assume that the state is fully observable, i.e. $h(x, t) = x$."
   ]
  },
  {
   "cell_type": "code",
   "execution_count": 176,
   "metadata": {},
   "outputs": [
    {
     "data": {
      "text/plain": [
       "StateSpace(AdaptiveTransportMap.lorenz63!, h)"
      ]
     },
     "execution_count": 176,
     "metadata": {},
     "output_type": "execute_result"
    }
   ],
   "source": [
    "h(x, t) = x\n",
    "F = StateSpace(lorenz63!, h)"
   ]
  },
  {
   "cell_type": "markdown",
   "metadata": {},
   "source": [
    "Define the additive inflation for the dynamical and observation models"
   ]
  },
  {
   "cell_type": "code",
   "execution_count": 177,
   "metadata": {},
   "outputs": [
    {
     "data": {
      "text/plain": [
       "AdditiveInflation(3, [0.0, 0.0, 0.0], [4.0 0.0 0.0; 0.0 4.0 0.0; 0.0 0.0 4.0], [2.0 0.0 0.0; 0.0 2.0 0.0; 0.0 0.0 2.0])"
      ]
     },
     "execution_count": 177,
     "metadata": {},
     "output_type": "execute_result"
    }
   ],
   "source": [
    "### Process and observation noise\n",
    "σx = 1e-6\n",
    "σy = 2.0\n",
    "\n",
    "ϵx = AdditiveInflation(Nx, zeros(Nx), σx)\n",
    "ϵy = AdditiveInflation(Ny, zeros(Ny), σy)"
   ]
  },
  {
   "cell_type": "code",
   "execution_count": 178,
   "metadata": {},
   "outputs": [],
   "source": [
    "model = Model(Nx, Ny, Δtdyn, Δtobs, ϵx, ϵy, π0, 0, 0, 0, F);"
   ]
  },
  {
   "cell_type": "markdown",
   "metadata": {},
   "source": [
    "To perform the nonlinear ensemble filtering, we first need to estimate the transport map $\\boldsymbol{S}^{\\boldsymbol{\\mathcal{X}}}$.\n",
    "\n",
    "In this notebook, we are going to assume that the basis of features does not change over time, but solely the coefficients $c_{\\boldsymbol{\\alpha}}$ of the expansion. \n",
    "\n",
    "\n",
    "To estimate the map, we generate joint samples $(\\boldsymbol{y}^i, \\boldsymbol{x}^i), \\; i = 1, \\ldots, N_e$ where $\\{\\boldsymbol{x}^i\\}$ are i.i.d. samples from pushforward of the standard Gaussian distribution by the flow of the Lorenz-63 system."
   ]
  },
  {
   "cell_type": "code",
   "execution_count": 179,
   "metadata": {},
   "outputs": [
    {
     "data": {
      "text/plain": [
       "(0.0, 1000.0)"
      ]
     },
     "execution_count": 179,
     "metadata": {},
     "output_type": "execute_result"
    }
   ],
   "source": [
    "# Time span\n",
    "tspan = (0.0, tf)"
   ]
  },
  {
   "cell_type": "markdown",
   "metadata": {},
   "source": [
    "Set initial condition of the true system"
   ]
  },
  {
   "cell_type": "code",
   "execution_count": 180,
   "metadata": {},
   "outputs": [],
   "source": [
    "x0 = rand(model.π0);"
   ]
  },
  {
   "cell_type": "code",
   "execution_count": 181,
   "metadata": {},
   "outputs": [],
   "source": [
    "data = generate_lorenz63(model, x0, Tf);"
   ]
  },
  {
   "cell_type": "markdown",
   "metadata": {},
   "source": [
    "Initialize the ensemble matrix `X` $\\in \\mathbb{R}^{(N_y + N_x) \\times N_e}$."
   ]
  },
  {
   "cell_type": "code",
   "execution_count": 182,
   "metadata": {},
   "outputs": [
    {
     "data": {
      "text/plain": [
       "3×160 view(::Array{Float64,2}, 4:6, :) with eltype Float64:\n",
       " -1.38481   0.562957  0.535218  …   0.357023    0.6706     1.5513\n",
       "  0.680622  0.15997   0.114198     -0.0501791   0.688022  -0.549855\n",
       "  1.37346   0.916337  1.00108      -0.941997   -0.269293   0.00226615"
      ]
     },
     "execution_count": 182,
     "metadata": {},
     "output_type": "execute_result"
    }
   ],
   "source": [
    "# Ensemble size\n",
    "Ne = 160\n",
    "\n",
    "X0 = zeros(model.Ny + model.Nx, Ne)\n",
    "\n",
    "# Generate the initial conditions for the state.\n",
    "viewstate(X0, model.Ny, model.Nx) .= rand(model.π0, Ne)"
   ]
  },
  {
   "cell_type": "markdown",
   "metadata": {},
   "source": [
    "Use the stochastic ensemble Kalman filter for the spin-up phase. There is no reason to use the stochastic map filter over the first cycles, as the performance of the inference is determined by the quality of the ensemble, not the quality of the filter."
   ]
  },
  {
   "cell_type": "code",
   "execution_count": 183,
   "metadata": {},
   "outputs": [
    {
     "data": {
      "text/plain": [
       "Stochastic EnKF  with filtered = false\n"
      ]
     },
     "execution_count": 183,
     "metadata": {},
     "output_type": "execute_result"
    }
   ],
   "source": [
    "enkf = StochEnKF(x->x, ϵy, Δtdyn, Δtobs)"
   ]
  },
  {
   "cell_type": "code",
   "execution_count": 184,
   "metadata": {
    "scrolled": true
   },
   "outputs": [
    {
     "name": "stderr",
     "output_type": "stream",
     "text": [
      "\u001b[32mProgress: 100%|█████████████████████████████████████████| Time: 0:00:11\u001b[39m\n"
     ]
    }
   ],
   "source": [
    "Xenkf = seqassim(F, data, Tf, model.ϵx, enkf, deepcopy(X0), model.Ny, model.Nx, t0);"
   ]
  },
  {
   "cell_type": "code",
   "execution_count": 185,
   "metadata": {},
   "outputs": [
    {
     "data": {
      "text/plain": [
       "2500"
      ]
     },
     "execution_count": 185,
     "metadata": {},
     "output_type": "execute_result"
    }
   ],
   "source": [
    "tspin = 500.0\n",
    "Tspin = ceil(Int64, (tspin-t0)/Δtobs)"
   ]
  },
  {
   "cell_type": "markdown",
   "metadata": {},
   "source": [
    "Time average root-mean-squared error "
   ]
  },
  {
   "cell_type": "code",
   "execution_count": 186,
   "metadata": {},
   "outputs": [
    {
     "data": {
      "text/plain": [
       "0.7311484577478001"
      ]
     },
     "execution_count": 186,
     "metadata": {},
     "output_type": "execute_result"
    }
   ],
   "source": [
    "rmse_enkf = mean(map(i->norm(data.xt[:,i]-mean(Xenkf[i+1]; dims = 2))/sqrt(Nx), Tspin:Tf))"
   ]
  },
  {
   "cell_type": "markdown",
   "metadata": {},
   "source": [
    "Initialize the ensemble matrix for the radial stochastic map filter"
   ]
  },
  {
   "cell_type": "code",
   "execution_count": 187,
   "metadata": {},
   "outputs": [
    {
     "data": {
      "text/plain": [
       "6×160 Array{Float64,2}:\n",
       "   0.0        0.0       0.0       0.0      …    0.0        0.0        0.0\n",
       "   0.0        0.0       0.0       0.0           0.0        0.0        0.0\n",
       "   0.0        0.0       0.0       0.0           0.0        0.0        0.0\n",
       "  -7.16284   -6.35041  -5.89679  -4.88239      -6.50025   -6.84862   -7.92577\n",
       " -11.9423   -11.2101   -9.84208  -8.58427     -11.2486   -11.5241   -12.8188\n",
       "  15.3882    13.5679   14.1572   12.4534   …   14.1558    15.0427    16.9127"
      ]
     },
     "execution_count": 187,
     "metadata": {},
     "output_type": "execute_result"
    }
   ],
   "source": [
    "Xspin = vcat(zeros(Ny, Ne), deepcopy(Xenkf[Tspin+1]))"
   ]
  },
  {
   "cell_type": "code",
   "execution_count": 188,
   "metadata": {},
   "outputs": [
    {
     "data": {
      "text/plain": [
       "2500"
      ]
     },
     "execution_count": 188,
     "metadata": {},
     "output_type": "execute_result"
    }
   ],
   "source": [
    "tsmf = 1000.0\n",
    "Tsmf = ceil(Int64, (tsmf-tspin)/Δtobs)"
   ]
  },
  {
   "cell_type": "markdown",
   "metadata": {},
   "source": [
    "Initialize the structure of the map"
   ]
  },
  {
   "cell_type": "code",
   "execution_count": 189,
   "metadata": {},
   "outputs": [
    {
     "data": {
      "text/plain": [
       "SparseRadialSMF(var\"#97#98\"(), h, 1.0, AdditiveInflation(3, [0.0, 0.0, 0.0], [4.0 0.0 0.0; 0.0 4.0 0.0; 0.0 0.0 4.0], [2.0 0.0 0.0; 0.0 2.0 0.0; 0.0 0.0 2.0]), Sparse Radial Map of dimension Nx = 4 and order p = [[-1], [2, 2], [-1, 2, 0], [-1, 2, 2, 0]]\n",
       "        with parameters (γ, λ, δ, κ) = (2.0, 0.0, 1.0e-8, 10.0)\n",
       ", 3, 3, 0.05, 0.2, [0.0 1.0 1.0; 1.0 0.0 1.0; 1.0 1.0 0.0], [1 2 3; 1 2 3], [0.0 0.0 … 0.0 0.0; 0.0 0.0 … 0.0 0.0; 0.0 0.0 … 0.0 0.0; 0.0 0.0 … 0.0 0.0], false, true)"
      ]
     },
     "execution_count": 189,
     "metadata": {},
     "output_type": "execute_result"
    }
   ],
   "source": [
    "p = 2\n",
    "order = [[-1], [p; p], [-1; p; 0], [-1; p; p; 0]]\n",
    "# order = [[-1], [-1; -1], [-1; -1; -1], [p; -1; -1 ;p], [-1; p; -1; p; p], [-1; -1; p; p; p; p]]\n",
    "\n",
    "# parameters of the radial map\n",
    "γ = 2.0\n",
    "λ = 0.0\n",
    "δ = 1e-8\n",
    "κ = 10.0\n",
    "β = 1.0\n",
    "\n",
    "dist = Float64.(metric_lorenz(3))\n",
    "idx = vcat(collect(1:Ny)',collect(1:Ny)')\n",
    "\n",
    "smf = SparseRadialSMF(x->x, F.h, β, ϵy, order, γ, λ, δ, κ, \n",
    "                      Ny, Nx, Ne, \n",
    "                      Δtdyn, Δtobs, \n",
    "                      dist, idx; islocalized = true)"
   ]
  },
  {
   "cell_type": "code",
   "execution_count": 190,
   "metadata": {
    "scrolled": true
   },
   "outputs": [
    {
     "name": "stderr",
     "output_type": "stream",
     "text": [
      "\u001b[32mProgress: 100%|█████████████████████████████████████████| Time: 0:00:12\u001b[39m\n"
     ]
    }
   ],
   "source": [
    "Xsmf = seqassim(F, data, Tsmf, model.ϵx, smf, deepcopy(Xspin), model.Ny, model.Nx, tspin);"
   ]
  },
  {
   "cell_type": "code",
   "execution_count": 191,
   "metadata": {},
   "outputs": [
    {
     "data": {
      "text/plain": [
       "0.5484082212352086"
      ]
     },
     "execution_count": 191,
     "metadata": {},
     "output_type": "execute_result"
    }
   ],
   "source": [
    "rmse_smf = mean(map(i->norm(data.xt[:,Tspin+i]-mean(Xsmf[i+1]; dims = 2))/sqrt(Nx), 1:Tsmf))"
   ]
  },
  {
   "cell_type": "code",
   "execution_count": 192,
   "metadata": {},
   "outputs": [
    {
     "data": {
      "text/plain": [
       "0.24993588453362411"
      ]
     },
     "execution_count": 192,
     "metadata": {},
     "output_type": "execute_result"
    }
   ],
   "source": [
    "(rmse_enkf-rmse_smf)/rmse_enkf"
   ]
  },
  {
   "cell_type": "code",
   "execution_count": 195,
   "metadata": {},
   "outputs": [
    {
     "data": {
      "image/svg+xml": [
       "<?xml version=\"1.0\" encoding=\"utf-8\"?>\n",
       "<svg xmlns=\"http://www.w3.org/2000/svg\" xmlns:xlink=\"http://www.w3.org/1999/xlink\" width=\"600\" height=\"800\" viewBox=\"0 0 2400 3200\">\n",
       "<defs>\n",
       "  <clipPath id=\"clip110\">\n",
       "    <rect x=\"0\" y=\"0\" width=\"2400\" height=\"3200\"/>\n",
       "  </clipPath>\n",
       "</defs>\n",
       "<path clip-path=\"url(#clip110)\" d=\"\n",
       "M0 3200 L2400 3200 L2400 0 L0 0  Z\n",
       "  \" fill=\"#ffffff\" fill-rule=\"evenodd\" fill-opacity=\"1\"/>\n",
       "<defs>\n",
       "  <clipPath id=\"clip111\">\n",
       "    <rect x=\"640\" y=\"320\" width=\"2241\" height=\"2241\"/>\n",
       "  </clipPath>\n",
       "</defs>\n",
       "<path clip-path=\"url(#clip110)\" d=\"\n",
       "M212.552 853.93 L2352.76 853.93 L2352.76 47.2441 L212.552 47.2441  Z\n",
       "  \" fill=\"#ffffff\" fill-rule=\"evenodd\" fill-opacity=\"1\"/>\n",
       "<defs>\n",
       "  <clipPath id=\"clip112\">\n",
       "    <rect x=\"212\" y=\"47\" width=\"2141\" height=\"808\"/>\n",
       "  </clipPath>\n",
       "</defs>\n",
       "<polyline clip-path=\"url(#clip110)\" style=\"stroke:#000000; stroke-width:4; stroke-opacity:1; fill:none\" points=\"\n",
       "  212.552,853.93 2352.76,853.93 \n",
       "  \"/>\n",
       "<polyline clip-path=\"url(#clip110)\" style=\"stroke:#000000; stroke-width:4; stroke-opacity:1; fill:none\" points=\"\n",
       "  644.484,853.93 644.484,844.25 \n",
       "  \"/>\n",
       "<polyline clip-path=\"url(#clip110)\" style=\"stroke:#000000; stroke-width:4; stroke-opacity:1; fill:none\" points=\"\n",
       "  1076.85,853.93 1076.85,844.25 \n",
       "  \"/>\n",
       "<polyline clip-path=\"url(#clip110)\" style=\"stroke:#000000; stroke-width:4; stroke-opacity:1; fill:none\" points=\"\n",
       "  1509.21,853.93 1509.21,844.25 \n",
       "  \"/>\n",
       "<polyline clip-path=\"url(#clip110)\" style=\"stroke:#000000; stroke-width:4; stroke-opacity:1; fill:none\" points=\"\n",
       "  1941.58,853.93 1941.58,844.25 \n",
       "  \"/>\n",
       "<g clip-path=\"url(#clip110)\">\n",
       "<text style=\"fill:#000000; fill-opacity:1; font-family:Arial,Helvetica Neue,Helvetica,sans-serif; font-size:53px; text-anchor:middle;\" transform=\"rotate(0, 644.484, 926.33)\" x=\"644.484\" y=\"926.33\">200</text>\n",
       "</g>\n",
       "<g clip-path=\"url(#clip110)\">\n",
       "<text style=\"fill:#000000; fill-opacity:1; font-family:Arial,Helvetica Neue,Helvetica,sans-serif; font-size:53px; text-anchor:middle;\" transform=\"rotate(0, 1076.85, 926.33)\" x=\"1076.85\" y=\"926.33\">400</text>\n",
       "</g>\n",
       "<g clip-path=\"url(#clip110)\">\n",
       "<text style=\"fill:#000000; fill-opacity:1; font-family:Arial,Helvetica Neue,Helvetica,sans-serif; font-size:53px; text-anchor:middle;\" transform=\"rotate(0, 1509.21, 926.33)\" x=\"1509.21\" y=\"926.33\">600</text>\n",
       "</g>\n",
       "<g clip-path=\"url(#clip110)\">\n",
       "<text style=\"fill:#000000; fill-opacity:1; font-family:Arial,Helvetica Neue,Helvetica,sans-serif; font-size:53px; text-anchor:middle;\" transform=\"rotate(0, 1941.58, 926.33)\" x=\"1941.58\" y=\"926.33\">800</text>\n",
       "</g>\n",
       "<g clip-path=\"url(#clip110)\">\n",
       "<image width=\"23\" height=\"45\" xlink:href=\"data:image/png;base64,\n",
       "iVBORw0KGgoAAAANSUhEUgAAABcAAAAtCAYAAABFy/BrAAABxElEQVRYhbWX3a3CMAyFnTtB6AgZ\n",
       "oawQMUHECFkBRugIzJARgBHKBmUFr+D7QhBt82OHYskPRe6Rc/KFuEBEIE1EJO89aa3JOUe5OrEw\n",
       "EYExhgDgnZuJI+JMuCT+B8K43+/84m8t2cyWlCWb2XI+n1e/Oeey9SLxlN/W2vwLEltgYYfWOmtJ\n",
       "Ey3srr/tfJqmYuds4ev1yqZELN73vVhcvZZbDaXUqpCIVPElRKRUV9+mtZZgGIbNhWMqIoLH40GI\n",
       "mF3d4XCYPWutIYSQre+6Dvb7vWpC0Htf3Uw2LUtxRGSJV0/o7XZbUbLb7cqUxPgF32zOm/h+RdGW\n",
       "0+m0Evbec3Tr4uL/72VIKDHGsP1m0dLcdanz1GXM5bvaecpvNt+1ziXziej4S+cTkS2p+UTCd4yk\n",
       "+Nd8x/gF3yLOm7rmds7lexxHAgAKIVCSlpb5JKZzbjYsrQqstc3iy/pVgda6STyejb7v0+IpS0pf\n",
       "a0uvrbWz2iotxpgqFMfjEQBgPW7USLlcLsXOQwjJrpOeLy/kYRiy4tGO3CGrcv65QZ8Zx8DS1wXr\n",
       "EOVWZ4wpHrDkhhKRmqbp/ayUos/sug7GcYTn86lKF8g/DrGGHV47F+QAAAAASUVORK5CYII=\n",
       "\" transform=\"translate(1271, 961)\"/>\n",
       "</g>\n",
       "<polyline clip-path=\"url(#clip110)\" style=\"stroke:#000000; stroke-width:4; stroke-opacity:1; fill:none\" points=\"\n",
       "  212.552,853.93 212.552,47.2441 \n",
       "  \"/>\n",
       "<polyline clip-path=\"url(#clip110)\" style=\"stroke:#000000; stroke-width:4; stroke-opacity:1; fill:none\" points=\"\n",
       "  212.552,766.564 238.235,766.564 \n",
       "  \"/>\n",
       "<polyline clip-path=\"url(#clip110)\" style=\"stroke:#000000; stroke-width:4; stroke-opacity:1; fill:none\" points=\"\n",
       "  212.552,654.142 238.235,654.142 \n",
       "  \"/>\n",
       "<polyline clip-path=\"url(#clip110)\" style=\"stroke:#000000; stroke-width:4; stroke-opacity:1; fill:none\" points=\"\n",
       "  212.552,541.72 238.235,541.72 \n",
       "  \"/>\n",
       "<polyline clip-path=\"url(#clip110)\" style=\"stroke:#000000; stroke-width:4; stroke-opacity:1; fill:none\" points=\"\n",
       "  212.552,429.297 238.235,429.297 \n",
       "  \"/>\n",
       "<polyline clip-path=\"url(#clip110)\" style=\"stroke:#000000; stroke-width:4; stroke-opacity:1; fill:none\" points=\"\n",
       "  212.552,316.875 238.235,316.875 \n",
       "  \"/>\n",
       "<polyline clip-path=\"url(#clip110)\" style=\"stroke:#000000; stroke-width:4; stroke-opacity:1; fill:none\" points=\"\n",
       "  212.552,204.453 238.235,204.453 \n",
       "  \"/>\n",
       "<polyline clip-path=\"url(#clip110)\" style=\"stroke:#000000; stroke-width:4; stroke-opacity:1; fill:none\" points=\"\n",
       "  212.552,92.0302 238.235,92.0302 \n",
       "  \"/>\n",
       "<g clip-path=\"url(#clip110)\">\n",
       "<text style=\"fill:#000000; fill-opacity:1; font-family:Arial,Helvetica Neue,Helvetica,sans-serif; font-size:53px; text-anchor:end;\" transform=\"rotate(0, 164.552, 786.064)\" x=\"164.552\" y=\"786.064\">−15</text>\n",
       "</g>\n",
       "<g clip-path=\"url(#clip110)\">\n",
       "<text style=\"fill:#000000; fill-opacity:1; font-family:Arial,Helvetica Neue,Helvetica,sans-serif; font-size:53px; text-anchor:end;\" transform=\"rotate(0, 164.552, 673.642)\" x=\"164.552\" y=\"673.642\">−10</text>\n",
       "</g>\n",
       "<g clip-path=\"url(#clip110)\">\n",
       "<text style=\"fill:#000000; fill-opacity:1; font-family:Arial,Helvetica Neue,Helvetica,sans-serif; font-size:53px; text-anchor:end;\" transform=\"rotate(0, 164.552, 561.22)\" x=\"164.552\" y=\"561.22\">−5</text>\n",
       "</g>\n",
       "<g clip-path=\"url(#clip110)\">\n",
       "<text style=\"fill:#000000; fill-opacity:1; font-family:Arial,Helvetica Neue,Helvetica,sans-serif; font-size:53px; text-anchor:end;\" transform=\"rotate(0, 164.552, 448.797)\" x=\"164.552\" y=\"448.797\">0</text>\n",
       "</g>\n",
       "<g clip-path=\"url(#clip110)\">\n",
       "<text style=\"fill:#000000; fill-opacity:1; font-family:Arial,Helvetica Neue,Helvetica,sans-serif; font-size:53px; text-anchor:end;\" transform=\"rotate(0, 164.552, 336.375)\" x=\"164.552\" y=\"336.375\">5</text>\n",
       "</g>\n",
       "<g clip-path=\"url(#clip110)\">\n",
       "<text style=\"fill:#000000; fill-opacity:1; font-family:Arial,Helvetica Neue,Helvetica,sans-serif; font-size:53px; text-anchor:end;\" transform=\"rotate(0, 164.552, 223.953)\" x=\"164.552\" y=\"223.953\">10</text>\n",
       "</g>\n",
       "<g clip-path=\"url(#clip110)\">\n",
       "<text style=\"fill:#000000; fill-opacity:1; font-family:Arial,Helvetica Neue,Helvetica,sans-serif; font-size:53px; text-anchor:end;\" transform=\"rotate(0, 164.552, 111.53)\" x=\"164.552\" y=\"111.53\">15</text>\n",
       "</g>\n",
       "<g clip-path=\"url(#clip110)\">\n",
       "<image width=\"42\" height=\"63\" xlink:href=\"data:image/png;base64,\n",
       "iVBORw0KGgoAAAANSUhEUgAAACoAAAA/CAYAAACW2FpzAAADBUlEQVRoge2a4XHyMAyGX3PfAKEj\n",
       "eIRcR0g3SBkh3QBWMBuEFdIN3I6Q6wQ0IwQ2UH/0UxpCgUhxIL1Dd7rrUWI/yPIr2WCICFO2z89P\n",
       "2u/3ABFN2tM0JQA0u3XE+todNJTt93sAfwC0qioAgJn6rjfGEDDxiO52uyaK//o+NJ/PifPlFtZ7\n",
       "6XkJbmW9l95aOybHZZNUieVySQBu4uJdb4yhOI7x/v6uDk5fq6oKj4+P3/NqQAGAiEx4tNPzieXp\n",
       "2rnK84lBsywDALy9vV1FBdSgcRwD+CltY1sURQAUoE9PTwYAPj4+AiOdN3UJres6JMdFm3xTwjbp\n",
       "pqRtd9DQdgcNbXfQ0Pb3QHe7Ha1WKzLGkDGGVqvVpCpBU5lOnYmu1XdeshkAnIveer0WR/b5+Zk2\n",
       "m03YFfHeEwAqiuLkeUV6A5ckycHzWZaJx+g6sixrYLoTACBrrWoS5xxZa5txiqIYBAsejF+I4/gA\n",
       "tK7rwdFor5Z2PPy2vEVRUJqm5JwbDMnOK2etpe12Kx63iWAooB6RUc0343PztSzPcwAKNeG81G4a\n",
       "jdd1TQBouVz2nhNEhO12SwAoSZLJpkDzB3/7EEURee9HB2YpFIMSHV6ClWU5KqxzTg/KadAVfmst\n",
       "FUURRFPZWVv7vv+ozauq6ujMXlUVFosFHh4e8PLyQq+vr4PreFmWsgeYuCxLiqJIdXcZRRHleS4S\n",
       "cmg3kwbwN0/TlPI8PwvA+SkGvdVNskRdjqLZ3TTee3LOqdPilMdxLNqYjX5KtdN7T9qVkEISBWpK\n",
       "vPfUbQ9PuaRsdjafrpu55NwqdkG144FzLzRoG7hdQJIkURWOg6PI2M5dEyDv9GdJkgD4/u0GRrb5\n",
       "fG6ccwCAxWIhe5joR4A1RwR1zv2vaL3f335QIxtDQKEpoayJWvmQ+qA2j7UwTdPRYaVt3tELbe0L\n",
       "EV10dJQvIvI8HwbaXhYA5Jwb1DB3QYHv04NUFs/+kz81u2SXngNtexBQjm77DikkqERlBuVfH/+t\n",
       "3mukcHTQU7DSvP8C2cKGXhzMxmkAAAAASUVORK5CYII=\n",
       "\" transform=\"translate(-17, 419)\"/>\n",
       "</g>\n",
       "<polyline clip-path=\"url(#clip112)\" style=\"stroke:#008080; stroke-width:12; stroke-opacity:1; fill:none\" points=\"\n",
       "  212.552,355.102 234.171,576.505 255.789,343.109 277.407,175.715 299.025,517.328 320.644,564.125 342.262,492.705 363.88,127.778 385.498,200.101 407.116,688.856 \n",
       "  428.735,438.732 450.353,301.37 471.971,727.591 493.589,739.485 515.207,484.565 536.826,398.334 558.444,566.054 580.062,749.062 601.68,396.469 623.299,502.174 \n",
       "  644.917,376.524 666.535,350.733 688.153,677.357 709.771,533.862 731.39,493.511 753.008,127.331 774.626,262.018 796.244,713.566 817.863,214.711 839.481,348.325 \n",
       "  861.099,339.027 882.717,97.0172 904.335,174.51 925.954,616.65 947.572,716.312 969.19,693.824 990.808,401.446 1012.43,296.268 1034.04,337.701 1055.66,447.909 \n",
       "  1077.28,673.316 1098.9,232.072 1120.52,494.907 1142.14,464.052 1163.75,749.196 1185.37,431.386 1206.99,577.795 1228.61,496.375 1250.23,472.423 1271.85,635.293 \n",
       "  1293.46,771.788 1315.08,623.959 1336.7,307.456 1358.32,368.103 1379.94,577.343 1401.55,645.912 1423.17,92.8455 1444.79,164.535 1466.41,319.421 1488.03,750.05 \n",
       "  1509.65,368.782 1531.26,476.757 1552.88,526.019 1574.5,542.848 1596.12,604.236 1617.74,218.434 1639.35,294.927 1660.97,388.377 1682.59,549.879 1704.21,672.372 \n",
       "  1725.83,517.914 1747.45,453.833 1769.06,469.262 1790.68,102.896 1812.3,651.108 1833.92,278.346 1855.54,286.439 1877.16,324.182 1898.77,387.447 1920.39,413.738 \n",
       "  1942.01,417.692 1963.63,118.329 1985.25,361.941 2006.86,292.163 2028.48,208.577 2050.1,84.3439 2071.72,431.465 2093.34,324.024 2114.96,266.044 2136.57,637.101 \n",
       "  2158.19,296.787 2179.81,360.989 2201.43,187.114 2223.05,716.782 2244.66,545.864 2266.28,460.062 2287.9,534.779 2309.52,260.347 2331.14,539.696 2352.76,523.674 \n",
       "  \n",
       "  \"/>\n",
       "<polyline clip-path=\"url(#clip112)\" style=\"stroke:#ee4000; stroke-width:12; stroke-opacity:1; fill:none\" stroke-dasharray=\"48, 30\" points=\"\n",
       "  212.552,411.423 234.171,583.141 255.789,351.174 277.407,172.103 299.025,481.334 320.644,559.599 342.262,471.109 363.88,130.408 385.498,221.087 407.116,696.073 \n",
       "  428.735,418.775 450.353,289.146 471.971,729.877 493.589,736.316 515.207,481.327 536.826,365.118 558.444,575.046 580.062,720.305 601.68,383.342 623.299,509.691 \n",
       "  644.917,364.15 666.535,385.776 688.153,686.642 709.771,529.693 731.39,480.796 753.008,120.545 774.626,280.194 796.244,711.984 817.863,214.827 839.481,323.304 \n",
       "  861.099,330.084 882.717,99.0083 904.335,165.544 925.954,612.799 947.572,712.23 969.19,720.105 990.808,414.016 1012.43,289.814 1034.04,330.278 1055.66,461.193 \n",
       "  1077.28,674.336 1098.9,227.943 1120.52,505.544 1142.14,477.789 1163.75,744.951 1185.37,427.107 1206.99,568.128 1228.61,513.658 1250.23,477.259 1271.85,667.761 \n",
       "  1293.46,762.758 1315.08,654.94 1336.7,313.356 1358.32,365.193 1379.94,574.525 1401.55,637.875 1423.17,87.3177 1444.79,165.258 1466.41,311.408 1488.03,750.864 \n",
       "  1509.65,364.713 1531.26,474.343 1552.88,524.317 1574.5,554.533 1596.12,607.197 1617.74,226.397 1639.35,295.388 1660.97,391.682 1682.59,546.913 1704.21,672.893 \n",
       "  1725.83,518.087 1747.45,439.516 1769.06,435.772 1790.68,119.016 1812.3,651.918 1833.92,278.306 1855.54,287.882 1877.16,324.989 1898.77,384.996 1920.39,413.4 \n",
       "  1942.01,407.172 1963.63,133.175 1985.25,363.859 2006.86,306.186 2028.48,198.876 2050.1,78.0069 2071.72,437.682 2093.34,312.914 2114.96,265.157 2136.57,635.399 \n",
       "  2158.19,299.654 2179.81,369.572 2201.43,205.467 2223.05,709.888 2244.66,517.539 2266.28,457.661 2287.9,533.327 2309.52,215.783 2331.14,549.303 2352.76,525.966 \n",
       "  \n",
       "  \"/>\n",
       "<circle clip-path=\"url(#clip112)\" cx=\"212.552\" cy=\"375.527\" r=\"18\" fill=\"#808080\" fill-rule=\"evenodd\" fill-opacity=\"0.5\" stroke=\"#000000\" stroke-opacity=\"0.5\" stroke-width=\"4.8\"/>\n",
       "<circle clip-path=\"url(#clip112)\" cx=\"234.171\" cy=\"552.431\" r=\"18\" fill=\"#808080\" fill-rule=\"evenodd\" fill-opacity=\"0.5\" stroke=\"#000000\" stroke-opacity=\"0.5\" stroke-width=\"4.8\"/>\n",
       "<circle clip-path=\"url(#clip112)\" cx=\"255.789\" cy=\"319.518\" r=\"18\" fill=\"#808080\" fill-rule=\"evenodd\" fill-opacity=\"0.5\" stroke=\"#000000\" stroke-opacity=\"0.5\" stroke-width=\"4.8\"/>\n",
       "<circle clip-path=\"url(#clip112)\" cx=\"277.407\" cy=\"202.899\" r=\"18\" fill=\"#808080\" fill-rule=\"evenodd\" fill-opacity=\"0.5\" stroke=\"#000000\" stroke-opacity=\"0.5\" stroke-width=\"4.8\"/>\n",
       "<circle clip-path=\"url(#clip112)\" cx=\"299.025\" cy=\"529.052\" r=\"18\" fill=\"#808080\" fill-rule=\"evenodd\" fill-opacity=\"0.5\" stroke=\"#000000\" stroke-opacity=\"0.5\" stroke-width=\"4.8\"/>\n",
       "<circle clip-path=\"url(#clip112)\" cx=\"320.644\" cy=\"500.874\" r=\"18\" fill=\"#808080\" fill-rule=\"evenodd\" fill-opacity=\"0.5\" stroke=\"#000000\" stroke-opacity=\"0.5\" stroke-width=\"4.8\"/>\n",
       "<circle clip-path=\"url(#clip112)\" cx=\"342.262\" cy=\"455.573\" r=\"18\" fill=\"#808080\" fill-rule=\"evenodd\" fill-opacity=\"0.5\" stroke=\"#000000\" stroke-opacity=\"0.5\" stroke-width=\"4.8\"/>\n",
       "<circle clip-path=\"url(#clip112)\" cx=\"363.88\" cy=\"204.364\" r=\"18\" fill=\"#808080\" fill-rule=\"evenodd\" fill-opacity=\"0.5\" stroke=\"#000000\" stroke-opacity=\"0.5\" stroke-width=\"4.8\"/>\n",
       "<circle clip-path=\"url(#clip112)\" cx=\"385.498\" cy=\"222.793\" r=\"18\" fill=\"#808080\" fill-rule=\"evenodd\" fill-opacity=\"0.5\" stroke=\"#000000\" stroke-opacity=\"0.5\" stroke-width=\"4.8\"/>\n",
       "<circle clip-path=\"url(#clip112)\" cx=\"407.116\" cy=\"740.214\" r=\"18\" fill=\"#808080\" fill-rule=\"evenodd\" fill-opacity=\"0.5\" stroke=\"#000000\" stroke-opacity=\"0.5\" stroke-width=\"4.8\"/>\n",
       "<circle clip-path=\"url(#clip112)\" cx=\"428.735\" cy=\"431.45\" r=\"18\" fill=\"#808080\" fill-rule=\"evenodd\" fill-opacity=\"0.5\" stroke=\"#000000\" stroke-opacity=\"0.5\" stroke-width=\"4.8\"/>\n",
       "<circle clip-path=\"url(#clip112)\" cx=\"450.353\" cy=\"358.176\" r=\"18\" fill=\"#808080\" fill-rule=\"evenodd\" fill-opacity=\"0.5\" stroke=\"#000000\" stroke-opacity=\"0.5\" stroke-width=\"4.8\"/>\n",
       "<circle clip-path=\"url(#clip112)\" cx=\"471.971\" cy=\"793.022\" r=\"18\" fill=\"#808080\" fill-rule=\"evenodd\" fill-opacity=\"0.5\" stroke=\"#000000\" stroke-opacity=\"0.5\" stroke-width=\"4.8\"/>\n",
       "<circle clip-path=\"url(#clip112)\" cx=\"493.589\" cy=\"739.642\" r=\"18\" fill=\"#808080\" fill-rule=\"evenodd\" fill-opacity=\"0.5\" stroke=\"#000000\" stroke-opacity=\"0.5\" stroke-width=\"4.8\"/>\n",
       "<circle clip-path=\"url(#clip112)\" cx=\"515.207\" cy=\"372.875\" r=\"18\" fill=\"#808080\" fill-rule=\"evenodd\" fill-opacity=\"0.5\" stroke=\"#000000\" stroke-opacity=\"0.5\" stroke-width=\"4.8\"/>\n",
       "<circle clip-path=\"url(#clip112)\" cx=\"536.826\" cy=\"317.497\" r=\"18\" fill=\"#808080\" fill-rule=\"evenodd\" fill-opacity=\"0.5\" stroke=\"#000000\" stroke-opacity=\"0.5\" stroke-width=\"4.8\"/>\n",
       "<circle clip-path=\"url(#clip112)\" cx=\"558.444\" cy=\"541.267\" r=\"18\" fill=\"#808080\" fill-rule=\"evenodd\" fill-opacity=\"0.5\" stroke=\"#000000\" stroke-opacity=\"0.5\" stroke-width=\"4.8\"/>\n",
       "<circle clip-path=\"url(#clip112)\" cx=\"580.062\" cy=\"705.927\" r=\"18\" fill=\"#808080\" fill-rule=\"evenodd\" fill-opacity=\"0.5\" stroke=\"#000000\" stroke-opacity=\"0.5\" stroke-width=\"4.8\"/>\n",
       "<circle clip-path=\"url(#clip112)\" cx=\"601.68\" cy=\"298.107\" r=\"18\" fill=\"#808080\" fill-rule=\"evenodd\" fill-opacity=\"0.5\" stroke=\"#000000\" stroke-opacity=\"0.5\" stroke-width=\"4.8\"/>\n",
       "<circle clip-path=\"url(#clip112)\" cx=\"623.299\" cy=\"486.395\" r=\"18\" fill=\"#808080\" fill-rule=\"evenodd\" fill-opacity=\"0.5\" stroke=\"#000000\" stroke-opacity=\"0.5\" stroke-width=\"4.8\"/>\n",
       "<circle clip-path=\"url(#clip112)\" cx=\"644.917\" cy=\"443.307\" r=\"18\" fill=\"#808080\" fill-rule=\"evenodd\" fill-opacity=\"0.5\" stroke=\"#000000\" stroke-opacity=\"0.5\" stroke-width=\"4.8\"/>\n",
       "<circle clip-path=\"url(#clip112)\" cx=\"666.535\" cy=\"437.564\" r=\"18\" fill=\"#808080\" fill-rule=\"evenodd\" fill-opacity=\"0.5\" stroke=\"#000000\" stroke-opacity=\"0.5\" stroke-width=\"4.8\"/>\n",
       "<circle clip-path=\"url(#clip112)\" cx=\"688.153\" cy=\"742.597\" r=\"18\" fill=\"#808080\" fill-rule=\"evenodd\" fill-opacity=\"0.5\" stroke=\"#000000\" stroke-opacity=\"0.5\" stroke-width=\"4.8\"/>\n",
       "<circle clip-path=\"url(#clip112)\" cx=\"709.771\" cy=\"527.686\" r=\"18\" fill=\"#808080\" fill-rule=\"evenodd\" fill-opacity=\"0.5\" stroke=\"#000000\" stroke-opacity=\"0.5\" stroke-width=\"4.8\"/>\n",
       "<circle clip-path=\"url(#clip112)\" cx=\"731.39\" cy=\"591.181\" r=\"18\" fill=\"#808080\" fill-rule=\"evenodd\" fill-opacity=\"0.5\" stroke=\"#000000\" stroke-opacity=\"0.5\" stroke-width=\"4.8\"/>\n",
       "<circle clip-path=\"url(#clip112)\" cx=\"753.008\" cy=\"77.7885\" r=\"18\" fill=\"#808080\" fill-rule=\"evenodd\" fill-opacity=\"0.5\" stroke=\"#000000\" stroke-opacity=\"0.5\" stroke-width=\"4.8\"/>\n",
       "<circle clip-path=\"url(#clip112)\" cx=\"774.626\" cy=\"234.167\" r=\"18\" fill=\"#808080\" fill-rule=\"evenodd\" fill-opacity=\"0.5\" stroke=\"#000000\" stroke-opacity=\"0.5\" stroke-width=\"4.8\"/>\n",
       "<circle clip-path=\"url(#clip112)\" cx=\"796.244\" cy=\"771.203\" r=\"18\" fill=\"#808080\" fill-rule=\"evenodd\" fill-opacity=\"0.5\" stroke=\"#000000\" stroke-opacity=\"0.5\" stroke-width=\"4.8\"/>\n",
       "<circle clip-path=\"url(#clip112)\" cx=\"817.863\" cy=\"206.697\" r=\"18\" fill=\"#808080\" fill-rule=\"evenodd\" fill-opacity=\"0.5\" stroke=\"#000000\" stroke-opacity=\"0.5\" stroke-width=\"4.8\"/>\n",
       "<circle clip-path=\"url(#clip112)\" cx=\"839.481\" cy=\"325.36\" r=\"18\" fill=\"#808080\" fill-rule=\"evenodd\" fill-opacity=\"0.5\" stroke=\"#000000\" stroke-opacity=\"0.5\" stroke-width=\"4.8\"/>\n",
       "<circle clip-path=\"url(#clip112)\" cx=\"861.099\" cy=\"382.87\" r=\"18\" fill=\"#808080\" fill-rule=\"evenodd\" fill-opacity=\"0.5\" stroke=\"#000000\" stroke-opacity=\"0.5\" stroke-width=\"4.8\"/>\n",
       "<circle clip-path=\"url(#clip112)\" cx=\"882.717\" cy=\"47.2441\" r=\"18\" fill=\"#808080\" fill-rule=\"evenodd\" fill-opacity=\"0.5\" stroke=\"#000000\" stroke-opacity=\"0.5\" stroke-width=\"4.8\"/>\n",
       "<circle clip-path=\"url(#clip112)\" cx=\"904.335\" cy=\"98.4144\" r=\"18\" fill=\"#808080\" fill-rule=\"evenodd\" fill-opacity=\"0.5\" stroke=\"#000000\" stroke-opacity=\"0.5\" stroke-width=\"4.8\"/>\n",
       "<circle clip-path=\"url(#clip112)\" cx=\"925.954\" cy=\"657.327\" r=\"18\" fill=\"#808080\" fill-rule=\"evenodd\" fill-opacity=\"0.5\" stroke=\"#000000\" stroke-opacity=\"0.5\" stroke-width=\"4.8\"/>\n",
       "<circle clip-path=\"url(#clip112)\" cx=\"947.572\" cy=\"763.372\" r=\"18\" fill=\"#808080\" fill-rule=\"evenodd\" fill-opacity=\"0.5\" stroke=\"#000000\" stroke-opacity=\"0.5\" stroke-width=\"4.8\"/>\n",
       "<circle clip-path=\"url(#clip112)\" cx=\"969.19\" cy=\"673.489\" r=\"18\" fill=\"#808080\" fill-rule=\"evenodd\" fill-opacity=\"0.5\" stroke=\"#000000\" stroke-opacity=\"0.5\" stroke-width=\"4.8\"/>\n",
       "<circle clip-path=\"url(#clip112)\" cx=\"990.808\" cy=\"386.529\" r=\"18\" fill=\"#808080\" fill-rule=\"evenodd\" fill-opacity=\"0.5\" stroke=\"#000000\" stroke-opacity=\"0.5\" stroke-width=\"4.8\"/>\n",
       "<circle clip-path=\"url(#clip112)\" cx=\"1012.43\" cy=\"283.641\" r=\"18\" fill=\"#808080\" fill-rule=\"evenodd\" fill-opacity=\"0.5\" stroke=\"#000000\" stroke-opacity=\"0.5\" stroke-width=\"4.8\"/>\n",
       "<circle clip-path=\"url(#clip112)\" cx=\"1034.04\" cy=\"347.674\" r=\"18\" fill=\"#808080\" fill-rule=\"evenodd\" fill-opacity=\"0.5\" stroke=\"#000000\" stroke-opacity=\"0.5\" stroke-width=\"4.8\"/>\n",
       "<circle clip-path=\"url(#clip112)\" cx=\"1055.66\" cy=\"490.599\" r=\"18\" fill=\"#808080\" fill-rule=\"evenodd\" fill-opacity=\"0.5\" stroke=\"#000000\" stroke-opacity=\"0.5\" stroke-width=\"4.8\"/>\n",
       "<circle clip-path=\"url(#clip112)\" cx=\"1077.28\" cy=\"631.058\" r=\"18\" fill=\"#808080\" fill-rule=\"evenodd\" fill-opacity=\"0.5\" stroke=\"#000000\" stroke-opacity=\"0.5\" stroke-width=\"4.8\"/>\n",
       "<circle clip-path=\"url(#clip112)\" cx=\"1098.9\" cy=\"272.767\" r=\"18\" fill=\"#808080\" fill-rule=\"evenodd\" fill-opacity=\"0.5\" stroke=\"#000000\" stroke-opacity=\"0.5\" stroke-width=\"4.8\"/>\n",
       "<circle clip-path=\"url(#clip112)\" cx=\"1120.52\" cy=\"491.872\" r=\"18\" fill=\"#808080\" fill-rule=\"evenodd\" fill-opacity=\"0.5\" stroke=\"#000000\" stroke-opacity=\"0.5\" stroke-width=\"4.8\"/>\n",
       "<circle clip-path=\"url(#clip112)\" cx=\"1142.14\" cy=\"459.318\" r=\"18\" fill=\"#808080\" fill-rule=\"evenodd\" fill-opacity=\"0.5\" stroke=\"#000000\" stroke-opacity=\"0.5\" stroke-width=\"4.8\"/>\n",
       "<circle clip-path=\"url(#clip112)\" cx=\"1163.75\" cy=\"784.652\" r=\"18\" fill=\"#808080\" fill-rule=\"evenodd\" fill-opacity=\"0.5\" stroke=\"#000000\" stroke-opacity=\"0.5\" stroke-width=\"4.8\"/>\n",
       "<circle clip-path=\"url(#clip112)\" cx=\"1185.37\" cy=\"395.42\" r=\"18\" fill=\"#808080\" fill-rule=\"evenodd\" fill-opacity=\"0.5\" stroke=\"#000000\" stroke-opacity=\"0.5\" stroke-width=\"4.8\"/>\n",
       "<circle clip-path=\"url(#clip112)\" cx=\"1206.99\" cy=\"568.279\" r=\"18\" fill=\"#808080\" fill-rule=\"evenodd\" fill-opacity=\"0.5\" stroke=\"#000000\" stroke-opacity=\"0.5\" stroke-width=\"4.8\"/>\n",
       "<circle clip-path=\"url(#clip112)\" cx=\"1228.61\" cy=\"528.915\" r=\"18\" fill=\"#808080\" fill-rule=\"evenodd\" fill-opacity=\"0.5\" stroke=\"#000000\" stroke-opacity=\"0.5\" stroke-width=\"4.8\"/>\n",
       "<circle clip-path=\"url(#clip112)\" cx=\"1250.23\" cy=\"500.094\" r=\"18\" fill=\"#808080\" fill-rule=\"evenodd\" fill-opacity=\"0.5\" stroke=\"#000000\" stroke-opacity=\"0.5\" stroke-width=\"4.8\"/>\n",
       "<circle clip-path=\"url(#clip112)\" cx=\"1271.85\" cy=\"693.064\" r=\"18\" fill=\"#808080\" fill-rule=\"evenodd\" fill-opacity=\"0.5\" stroke=\"#000000\" stroke-opacity=\"0.5\" stroke-width=\"4.8\"/>\n",
       "<circle clip-path=\"url(#clip112)\" cx=\"1293.46\" cy=\"853.93\" r=\"18\" fill=\"#808080\" fill-rule=\"evenodd\" fill-opacity=\"0.5\" stroke=\"#000000\" stroke-opacity=\"0.5\" stroke-width=\"4.8\"/>\n",
       "<circle clip-path=\"url(#clip112)\" cx=\"1315.08\" cy=\"616.135\" r=\"18\" fill=\"#808080\" fill-rule=\"evenodd\" fill-opacity=\"0.5\" stroke=\"#000000\" stroke-opacity=\"0.5\" stroke-width=\"4.8\"/>\n",
       "<circle clip-path=\"url(#clip112)\" cx=\"1336.7\" cy=\"250.481\" r=\"18\" fill=\"#808080\" fill-rule=\"evenodd\" fill-opacity=\"0.5\" stroke=\"#000000\" stroke-opacity=\"0.5\" stroke-width=\"4.8\"/>\n",
       "<circle clip-path=\"url(#clip112)\" cx=\"1358.32\" cy=\"410.106\" r=\"18\" fill=\"#808080\" fill-rule=\"evenodd\" fill-opacity=\"0.5\" stroke=\"#000000\" stroke-opacity=\"0.5\" stroke-width=\"4.8\"/>\n",
       "<circle clip-path=\"url(#clip112)\" cx=\"1379.94\" cy=\"643.001\" r=\"18\" fill=\"#808080\" fill-rule=\"evenodd\" fill-opacity=\"0.5\" stroke=\"#000000\" stroke-opacity=\"0.5\" stroke-width=\"4.8\"/>\n",
       "<circle clip-path=\"url(#clip112)\" cx=\"1401.55\" cy=\"667.116\" r=\"18\" fill=\"#808080\" fill-rule=\"evenodd\" fill-opacity=\"0.5\" stroke=\"#000000\" stroke-opacity=\"0.5\" stroke-width=\"4.8\"/>\n",
       "<circle clip-path=\"url(#clip112)\" cx=\"1423.17\" cy=\"87.0903\" r=\"18\" fill=\"#808080\" fill-rule=\"evenodd\" fill-opacity=\"0.5\" stroke=\"#000000\" stroke-opacity=\"0.5\" stroke-width=\"4.8\"/>\n",
       "<circle clip-path=\"url(#clip112)\" cx=\"1444.79\" cy=\"208.855\" r=\"18\" fill=\"#808080\" fill-rule=\"evenodd\" fill-opacity=\"0.5\" stroke=\"#000000\" stroke-opacity=\"0.5\" stroke-width=\"4.8\"/>\n",
       "<circle clip-path=\"url(#clip112)\" cx=\"1466.41\" cy=\"235.098\" r=\"18\" fill=\"#808080\" fill-rule=\"evenodd\" fill-opacity=\"0.5\" stroke=\"#000000\" stroke-opacity=\"0.5\" stroke-width=\"4.8\"/>\n",
       "<circle clip-path=\"url(#clip112)\" cx=\"1488.03\" cy=\"755.399\" r=\"18\" fill=\"#808080\" fill-rule=\"evenodd\" fill-opacity=\"0.5\" stroke=\"#000000\" stroke-opacity=\"0.5\" stroke-width=\"4.8\"/>\n",
       "<circle clip-path=\"url(#clip112)\" cx=\"1509.65\" cy=\"375.466\" r=\"18\" fill=\"#808080\" fill-rule=\"evenodd\" fill-opacity=\"0.5\" stroke=\"#000000\" stroke-opacity=\"0.5\" stroke-width=\"4.8\"/>\n",
       "<circle clip-path=\"url(#clip112)\" cx=\"1531.26\" cy=\"512.618\" r=\"18\" fill=\"#808080\" fill-rule=\"evenodd\" fill-opacity=\"0.5\" stroke=\"#000000\" stroke-opacity=\"0.5\" stroke-width=\"4.8\"/>\n",
       "<circle clip-path=\"url(#clip112)\" cx=\"1552.88\" cy=\"553.046\" r=\"18\" fill=\"#808080\" fill-rule=\"evenodd\" fill-opacity=\"0.5\" stroke=\"#000000\" stroke-opacity=\"0.5\" stroke-width=\"4.8\"/>\n",
       "<circle clip-path=\"url(#clip112)\" cx=\"1574.5\" cy=\"582.426\" r=\"18\" fill=\"#808080\" fill-rule=\"evenodd\" fill-opacity=\"0.5\" stroke=\"#000000\" stroke-opacity=\"0.5\" stroke-width=\"4.8\"/>\n",
       "<circle clip-path=\"url(#clip112)\" cx=\"1596.12\" cy=\"641.441\" r=\"18\" fill=\"#808080\" fill-rule=\"evenodd\" fill-opacity=\"0.5\" stroke=\"#000000\" stroke-opacity=\"0.5\" stroke-width=\"4.8\"/>\n",
       "<circle clip-path=\"url(#clip112)\" cx=\"1617.74\" cy=\"209.553\" r=\"18\" fill=\"#808080\" fill-rule=\"evenodd\" fill-opacity=\"0.5\" stroke=\"#000000\" stroke-opacity=\"0.5\" stroke-width=\"4.8\"/>\n",
       "<circle clip-path=\"url(#clip112)\" cx=\"1639.35\" cy=\"272.227\" r=\"18\" fill=\"#808080\" fill-rule=\"evenodd\" fill-opacity=\"0.5\" stroke=\"#000000\" stroke-opacity=\"0.5\" stroke-width=\"4.8\"/>\n",
       "<circle clip-path=\"url(#clip112)\" cx=\"1660.97\" cy=\"459.359\" r=\"18\" fill=\"#808080\" fill-rule=\"evenodd\" fill-opacity=\"0.5\" stroke=\"#000000\" stroke-opacity=\"0.5\" stroke-width=\"4.8\"/>\n",
       "<circle clip-path=\"url(#clip112)\" cx=\"1682.59\" cy=\"535.972\" r=\"18\" fill=\"#808080\" fill-rule=\"evenodd\" fill-opacity=\"0.5\" stroke=\"#000000\" stroke-opacity=\"0.5\" stroke-width=\"4.8\"/>\n",
       "<circle clip-path=\"url(#clip112)\" cx=\"1704.21\" cy=\"654.663\" r=\"18\" fill=\"#808080\" fill-rule=\"evenodd\" fill-opacity=\"0.5\" stroke=\"#000000\" stroke-opacity=\"0.5\" stroke-width=\"4.8\"/>\n",
       "<circle clip-path=\"url(#clip112)\" cx=\"1725.83\" cy=\"511.882\" r=\"18\" fill=\"#808080\" fill-rule=\"evenodd\" fill-opacity=\"0.5\" stroke=\"#000000\" stroke-opacity=\"0.5\" stroke-width=\"4.8\"/>\n",
       "<circle clip-path=\"url(#clip112)\" cx=\"1747.45\" cy=\"366.43\" r=\"18\" fill=\"#808080\" fill-rule=\"evenodd\" fill-opacity=\"0.5\" stroke=\"#000000\" stroke-opacity=\"0.5\" stroke-width=\"4.8\"/>\n",
       "<circle clip-path=\"url(#clip112)\" cx=\"1769.06\" cy=\"473.377\" r=\"18\" fill=\"#808080\" fill-rule=\"evenodd\" fill-opacity=\"0.5\" stroke=\"#000000\" stroke-opacity=\"0.5\" stroke-width=\"4.8\"/>\n",
       "<circle clip-path=\"url(#clip112)\" cx=\"1790.68\" cy=\"154.734\" r=\"18\" fill=\"#808080\" fill-rule=\"evenodd\" fill-opacity=\"0.5\" stroke=\"#000000\" stroke-opacity=\"0.5\" stroke-width=\"4.8\"/>\n",
       "<circle clip-path=\"url(#clip112)\" cx=\"1812.3\" cy=\"743.538\" r=\"18\" fill=\"#808080\" fill-rule=\"evenodd\" fill-opacity=\"0.5\" stroke=\"#000000\" stroke-opacity=\"0.5\" stroke-width=\"4.8\"/>\n",
       "<circle clip-path=\"url(#clip112)\" cx=\"1833.92\" cy=\"317.418\" r=\"18\" fill=\"#808080\" fill-rule=\"evenodd\" fill-opacity=\"0.5\" stroke=\"#000000\" stroke-opacity=\"0.5\" stroke-width=\"4.8\"/>\n",
       "<circle clip-path=\"url(#clip112)\" cx=\"1855.54\" cy=\"295.108\" r=\"18\" fill=\"#808080\" fill-rule=\"evenodd\" fill-opacity=\"0.5\" stroke=\"#000000\" stroke-opacity=\"0.5\" stroke-width=\"4.8\"/>\n",
       "<circle clip-path=\"url(#clip112)\" cx=\"1877.16\" cy=\"263.887\" r=\"18\" fill=\"#808080\" fill-rule=\"evenodd\" fill-opacity=\"0.5\" stroke=\"#000000\" stroke-opacity=\"0.5\" stroke-width=\"4.8\"/>\n",
       "<circle clip-path=\"url(#clip112)\" cx=\"1898.77\" cy=\"398.114\" r=\"18\" fill=\"#808080\" fill-rule=\"evenodd\" fill-opacity=\"0.5\" stroke=\"#000000\" stroke-opacity=\"0.5\" stroke-width=\"4.8\"/>\n",
       "<circle clip-path=\"url(#clip112)\" cx=\"1920.39\" cy=\"376.357\" r=\"18\" fill=\"#808080\" fill-rule=\"evenodd\" fill-opacity=\"0.5\" stroke=\"#000000\" stroke-opacity=\"0.5\" stroke-width=\"4.8\"/>\n",
       "<circle clip-path=\"url(#clip112)\" cx=\"1942.01\" cy=\"458.178\" r=\"18\" fill=\"#808080\" fill-rule=\"evenodd\" fill-opacity=\"0.5\" stroke=\"#000000\" stroke-opacity=\"0.5\" stroke-width=\"4.8\"/>\n",
       "<circle clip-path=\"url(#clip112)\" cx=\"1963.63\" cy=\"139.708\" r=\"18\" fill=\"#808080\" fill-rule=\"evenodd\" fill-opacity=\"0.5\" stroke=\"#000000\" stroke-opacity=\"0.5\" stroke-width=\"4.8\"/>\n",
       "<circle clip-path=\"url(#clip112)\" cx=\"1985.25\" cy=\"311.401\" r=\"18\" fill=\"#808080\" fill-rule=\"evenodd\" fill-opacity=\"0.5\" stroke=\"#000000\" stroke-opacity=\"0.5\" stroke-width=\"4.8\"/>\n",
       "<circle clip-path=\"url(#clip112)\" cx=\"2006.86\" cy=\"250.127\" r=\"18\" fill=\"#808080\" fill-rule=\"evenodd\" fill-opacity=\"0.5\" stroke=\"#000000\" stroke-opacity=\"0.5\" stroke-width=\"4.8\"/>\n",
       "<circle clip-path=\"url(#clip112)\" cx=\"2028.48\" cy=\"176.785\" r=\"18\" fill=\"#808080\" fill-rule=\"evenodd\" fill-opacity=\"0.5\" stroke=\"#000000\" stroke-opacity=\"0.5\" stroke-width=\"4.8\"/>\n",
       "<circle clip-path=\"url(#clip112)\" cx=\"2050.1\" cy=\"135.525\" r=\"18\" fill=\"#808080\" fill-rule=\"evenodd\" fill-opacity=\"0.5\" stroke=\"#000000\" stroke-opacity=\"0.5\" stroke-width=\"4.8\"/>\n",
       "<circle clip-path=\"url(#clip112)\" cx=\"2071.72\" cy=\"444.013\" r=\"18\" fill=\"#808080\" fill-rule=\"evenodd\" fill-opacity=\"0.5\" stroke=\"#000000\" stroke-opacity=\"0.5\" stroke-width=\"4.8\"/>\n",
       "<circle clip-path=\"url(#clip112)\" cx=\"2093.34\" cy=\"317.595\" r=\"18\" fill=\"#808080\" fill-rule=\"evenodd\" fill-opacity=\"0.5\" stroke=\"#000000\" stroke-opacity=\"0.5\" stroke-width=\"4.8\"/>\n",
       "<circle clip-path=\"url(#clip112)\" cx=\"2114.96\" cy=\"219.107\" r=\"18\" fill=\"#808080\" fill-rule=\"evenodd\" fill-opacity=\"0.5\" stroke=\"#000000\" stroke-opacity=\"0.5\" stroke-width=\"4.8\"/>\n",
       "<circle clip-path=\"url(#clip112)\" cx=\"2136.57\" cy=\"594.721\" r=\"18\" fill=\"#808080\" fill-rule=\"evenodd\" fill-opacity=\"0.5\" stroke=\"#000000\" stroke-opacity=\"0.5\" stroke-width=\"4.8\"/>\n",
       "<circle clip-path=\"url(#clip112)\" cx=\"2158.19\" cy=\"261.253\" r=\"18\" fill=\"#808080\" fill-rule=\"evenodd\" fill-opacity=\"0.5\" stroke=\"#000000\" stroke-opacity=\"0.5\" stroke-width=\"4.8\"/>\n",
       "<circle clip-path=\"url(#clip112)\" cx=\"2179.81\" cy=\"322.206\" r=\"18\" fill=\"#808080\" fill-rule=\"evenodd\" fill-opacity=\"0.5\" stroke=\"#000000\" stroke-opacity=\"0.5\" stroke-width=\"4.8\"/>\n",
       "<circle clip-path=\"url(#clip112)\" cx=\"2201.43\" cy=\"230.865\" r=\"18\" fill=\"#808080\" fill-rule=\"evenodd\" fill-opacity=\"0.5\" stroke=\"#000000\" stroke-opacity=\"0.5\" stroke-width=\"4.8\"/>\n",
       "<circle clip-path=\"url(#clip112)\" cx=\"2223.05\" cy=\"717.479\" r=\"18\" fill=\"#808080\" fill-rule=\"evenodd\" fill-opacity=\"0.5\" stroke=\"#000000\" stroke-opacity=\"0.5\" stroke-width=\"4.8\"/>\n",
       "<circle clip-path=\"url(#clip112)\" cx=\"2244.66\" cy=\"520.453\" r=\"18\" fill=\"#808080\" fill-rule=\"evenodd\" fill-opacity=\"0.5\" stroke=\"#000000\" stroke-opacity=\"0.5\" stroke-width=\"4.8\"/>\n",
       "<circle clip-path=\"url(#clip112)\" cx=\"2266.28\" cy=\"461.709\" r=\"18\" fill=\"#808080\" fill-rule=\"evenodd\" fill-opacity=\"0.5\" stroke=\"#000000\" stroke-opacity=\"0.5\" stroke-width=\"4.8\"/>\n",
       "<circle clip-path=\"url(#clip112)\" cx=\"2287.9\" cy=\"586.132\" r=\"18\" fill=\"#808080\" fill-rule=\"evenodd\" fill-opacity=\"0.5\" stroke=\"#000000\" stroke-opacity=\"0.5\" stroke-width=\"4.8\"/>\n",
       "<circle clip-path=\"url(#clip112)\" cx=\"2309.52\" cy=\"199.359\" r=\"18\" fill=\"#808080\" fill-rule=\"evenodd\" fill-opacity=\"0.5\" stroke=\"#000000\" stroke-opacity=\"0.5\" stroke-width=\"4.8\"/>\n",
       "<circle clip-path=\"url(#clip112)\" cx=\"2331.14\" cy=\"438.673\" r=\"18\" fill=\"#808080\" fill-rule=\"evenodd\" fill-opacity=\"0.5\" stroke=\"#000000\" stroke-opacity=\"0.5\" stroke-width=\"4.8\"/>\n",
       "<circle clip-path=\"url(#clip112)\" cx=\"2352.76\" cy=\"537.768\" r=\"18\" fill=\"#808080\" fill-rule=\"evenodd\" fill-opacity=\"0.5\" stroke=\"#000000\" stroke-opacity=\"0.5\" stroke-width=\"4.8\"/>\n",
       "<polyline clip-path=\"url(#clip112)\" style=\"stroke:#050505; stroke-width:4; stroke-opacity:1; fill:none\" stroke-dasharray=\"16, 10\" points=\"\n",
       "  1293.03,1660.62 1293.03,-759.442 \n",
       "  \"/>\n",
       "<path clip-path=\"url(#clip110)\" d=\"\n",
       "M283.893 827.041 L846.054 827.041 L846.054 524.641 L283.893 524.641  Z\n",
       "  \" fill=\"#ffffff\" fill-rule=\"evenodd\" fill-opacity=\"1\"/>\n",
       "<polyline clip-path=\"url(#clip110)\" style=\"stroke:#000000; stroke-width:4; stroke-opacity:1; fill:none\" points=\"\n",
       "  283.893,827.041 846.054,827.041 846.054,524.641 283.893,524.641 283.893,827.041 \n",
       "  \"/>\n",
       "<polyline clip-path=\"url(#clip110)\" style=\"stroke:#008080; stroke-width:5; stroke-opacity:1; fill:none\" points=\"\n",
       "  307.673,600.241 450.353,600.241 \n",
       "  \"/>\n",
       "<g clip-path=\"url(#clip110)\">\n",
       "<text style=\"fill:#000000; fill-opacity:1; font-family:Arial,Helvetica Neue,Helvetica,sans-serif; font-size:59px; text-anchor:start;\" transform=\"rotate(0, 474.133, 621.741)\" x=\"474.133\" y=\"621.741\">True</text>\n",
       "</g>\n",
       "<polyline clip-path=\"url(#clip110)\" style=\"stroke:#ee4000; stroke-width:5; stroke-opacity:1; fill:none\" stroke-dasharray=\"20, 13\" points=\"\n",
       "  307.673,675.841 450.353,675.841 \n",
       "  \"/>\n",
       "<g clip-path=\"url(#clip110)\">\n",
       "<text style=\"fill:#000000; fill-opacity:1; font-family:Arial,Helvetica Neue,Helvetica,sans-serif; font-size:59px; text-anchor:start;\" transform=\"rotate(0, 474.133, 697.341)\" x=\"474.133\" y=\"697.341\">sEnKF</text>\n",
       "</g>\n",
       "<circle clip-path=\"url(#clip110)\" cx=\"379.013\" cy=\"751.441\" r=\"28\" fill=\"#808080\" fill-rule=\"evenodd\" fill-opacity=\"0.5\" stroke=\"#000000\" stroke-opacity=\"0.5\" stroke-width=\"7.68\"/>\n",
       "<g clip-path=\"url(#clip110)\">\n",
       "<text style=\"fill:#000000; fill-opacity:1; font-family:Arial,Helvetica Neue,Helvetica,sans-serif; font-size:59px; text-anchor:start;\" transform=\"rotate(0, 474.133, 772.941)\" x=\"474.133\" y=\"772.941\">Observation</text>\n",
       "</g>\n",
       "<path clip-path=\"url(#clip110)\" d=\"\n",
       "M212.552 1920.6 L2352.76 1920.6 L2352.76 1113.91 L212.552 1113.91  Z\n",
       "  \" fill=\"#ffffff\" fill-rule=\"evenodd\" fill-opacity=\"1\"/>\n",
       "<defs>\n",
       "  <clipPath id=\"clip113\">\n",
       "    <rect x=\"212\" y=\"1113\" width=\"2141\" height=\"808\"/>\n",
       "  </clipPath>\n",
       "</defs>\n",
       "<polyline clip-path=\"url(#clip110)\" style=\"stroke:#000000; stroke-width:4; stroke-opacity:1; fill:none\" points=\"\n",
       "  212.552,1920.6 2352.76,1920.6 \n",
       "  \"/>\n",
       "<polyline clip-path=\"url(#clip110)\" style=\"stroke:#000000; stroke-width:4; stroke-opacity:1; fill:none\" points=\"\n",
       "  644.484,1920.6 644.484,1910.92 \n",
       "  \"/>\n",
       "<polyline clip-path=\"url(#clip110)\" style=\"stroke:#000000; stroke-width:4; stroke-opacity:1; fill:none\" points=\"\n",
       "  1076.85,1920.6 1076.85,1910.92 \n",
       "  \"/>\n",
       "<polyline clip-path=\"url(#clip110)\" style=\"stroke:#000000; stroke-width:4; stroke-opacity:1; fill:none\" points=\"\n",
       "  1509.21,1920.6 1509.21,1910.92 \n",
       "  \"/>\n",
       "<polyline clip-path=\"url(#clip110)\" style=\"stroke:#000000; stroke-width:4; stroke-opacity:1; fill:none\" points=\"\n",
       "  1941.58,1920.6 1941.58,1910.92 \n",
       "  \"/>\n",
       "<g clip-path=\"url(#clip110)\">\n",
       "<text style=\"fill:#000000; fill-opacity:1; font-family:Arial,Helvetica Neue,Helvetica,sans-serif; font-size:53px; text-anchor:middle;\" transform=\"rotate(0, 644.484, 1993)\" x=\"644.484\" y=\"1993\">200</text>\n",
       "</g>\n",
       "<g clip-path=\"url(#clip110)\">\n",
       "<text style=\"fill:#000000; fill-opacity:1; font-family:Arial,Helvetica Neue,Helvetica,sans-serif; font-size:53px; text-anchor:middle;\" transform=\"rotate(0, 1076.85, 1993)\" x=\"1076.85\" y=\"1993\">400</text>\n",
       "</g>\n",
       "<g clip-path=\"url(#clip110)\">\n",
       "<text style=\"fill:#000000; fill-opacity:1; font-family:Arial,Helvetica Neue,Helvetica,sans-serif; font-size:53px; text-anchor:middle;\" transform=\"rotate(0, 1509.21, 1993)\" x=\"1509.21\" y=\"1993\">600</text>\n",
       "</g>\n",
       "<g clip-path=\"url(#clip110)\">\n",
       "<text style=\"fill:#000000; fill-opacity:1; font-family:Arial,Helvetica Neue,Helvetica,sans-serif; font-size:53px; text-anchor:middle;\" transform=\"rotate(0, 1941.58, 1993)\" x=\"1941.58\" y=\"1993\">800</text>\n",
       "</g>\n",
       "<g clip-path=\"url(#clip110)\">\n",
       "<image width=\"23\" height=\"45\" xlink:href=\"data:image/png;base64,\n",
       "iVBORw0KGgoAAAANSUhEUgAAABcAAAAtCAYAAABFy/BrAAABxElEQVRYhbWX3a3CMAyFnTtB6AgZ\n",
       "oawQMUHECFkBRugIzJARgBHKBmUFr+D7QhBt82OHYskPRe6Rc/KFuEBEIE1EJO89aa3JOUe5OrEw\n",
       "EYExhgDgnZuJI+JMuCT+B8K43+/84m8t2cyWlCWb2XI+n1e/Oeey9SLxlN/W2vwLEltgYYfWOmtJ\n",
       "Ey3srr/tfJqmYuds4ev1yqZELN73vVhcvZZbDaXUqpCIVPElRKRUV9+mtZZgGIbNhWMqIoLH40GI\n",
       "mF3d4XCYPWutIYSQre+6Dvb7vWpC0Htf3Uw2LUtxRGSJV0/o7XZbUbLb7cqUxPgF32zOm/h+RdGW\n",
       "0+m0Evbec3Tr4uL/72VIKDHGsP1m0dLcdanz1GXM5bvaecpvNt+1ziXziej4S+cTkS2p+UTCd4yk\n",
       "+Nd8x/gF3yLOm7rmds7lexxHAgAKIVCSlpb5JKZzbjYsrQqstc3iy/pVgda6STyejb7v0+IpS0pf\n",
       "a0uvrbWz2iotxpgqFMfjEQBgPW7USLlcLsXOQwjJrpOeLy/kYRiy4tGO3CGrcv65QZ8Zx8DS1wXr\n",
       "EOVWZ4wpHrDkhhKRmqbp/ayUos/sug7GcYTn86lKF8g/DrGGHV47F+QAAAAASUVORK5CYII=\n",
       "\" transform=\"translate(1271, 2027)\"/>\n",
       "</g>\n",
       "<polyline clip-path=\"url(#clip110)\" style=\"stroke:#000000; stroke-width:4; stroke-opacity:1; fill:none\" points=\"\n",
       "  212.552,1920.6 212.552,1113.91 \n",
       "  \"/>\n",
       "<polyline clip-path=\"url(#clip110)\" style=\"stroke:#000000; stroke-width:4; stroke-opacity:1; fill:none\" points=\"\n",
       "  212.552,1841.69 238.235,1841.69 \n",
       "  \"/>\n",
       "<polyline clip-path=\"url(#clip110)\" style=\"stroke:#000000; stroke-width:4; stroke-opacity:1; fill:none\" points=\"\n",
       "  212.552,1661.58 238.235,1661.58 \n",
       "  \"/>\n",
       "<polyline clip-path=\"url(#clip110)\" style=\"stroke:#000000; stroke-width:4; stroke-opacity:1; fill:none\" points=\"\n",
       "  212.552,1481.46 238.235,1481.46 \n",
       "  \"/>\n",
       "<polyline clip-path=\"url(#clip110)\" style=\"stroke:#000000; stroke-width:4; stroke-opacity:1; fill:none\" points=\"\n",
       "  212.552,1301.35 238.235,1301.35 \n",
       "  \"/>\n",
       "<polyline clip-path=\"url(#clip110)\" style=\"stroke:#000000; stroke-width:4; stroke-opacity:1; fill:none\" points=\"\n",
       "  212.552,1121.24 238.235,1121.24 \n",
       "  \"/>\n",
       "<g clip-path=\"url(#clip110)\">\n",
       "<text style=\"fill:#000000; fill-opacity:1; font-family:Arial,Helvetica Neue,Helvetica,sans-serif; font-size:53px; text-anchor:end;\" transform=\"rotate(0, 164.552, 1861.19)\" x=\"164.552\" y=\"1861.19\">−20</text>\n",
       "</g>\n",
       "<g clip-path=\"url(#clip110)\">\n",
       "<text style=\"fill:#000000; fill-opacity:1; font-family:Arial,Helvetica Neue,Helvetica,sans-serif; font-size:53px; text-anchor:end;\" transform=\"rotate(0, 164.552, 1681.08)\" x=\"164.552\" y=\"1681.08\">−10</text>\n",
       "</g>\n",
       "<g clip-path=\"url(#clip110)\">\n",
       "<text style=\"fill:#000000; fill-opacity:1; font-family:Arial,Helvetica Neue,Helvetica,sans-serif; font-size:53px; text-anchor:end;\" transform=\"rotate(0, 164.552, 1500.96)\" x=\"164.552\" y=\"1500.96\">0</text>\n",
       "</g>\n",
       "<g clip-path=\"url(#clip110)\">\n",
       "<text style=\"fill:#000000; fill-opacity:1; font-family:Arial,Helvetica Neue,Helvetica,sans-serif; font-size:53px; text-anchor:end;\" transform=\"rotate(0, 164.552, 1320.85)\" x=\"164.552\" y=\"1320.85\">10</text>\n",
       "</g>\n",
       "<g clip-path=\"url(#clip110)\">\n",
       "<text style=\"fill:#000000; fill-opacity:1; font-family:Arial,Helvetica Neue,Helvetica,sans-serif; font-size:53px; text-anchor:end;\" transform=\"rotate(0, 164.552, 1140.74)\" x=\"164.552\" y=\"1140.74\">20</text>\n",
       "</g>\n",
       "<g clip-path=\"url(#clip110)\">\n",
       "<image width=\"42\" height=\"64\" xlink:href=\"data:image/png;base64,\n",
       "iVBORw0KGgoAAAANSUhEUgAAACoAAABACAYAAABsrOVnAAAD2UlEQVRoge1a23GrMBA98twCICWQ\n",
       "VKBQAiUQl0A6wC2QDkgLuAMlJZBUYFMCdgd7P2wRWeahl5N8ZGfOTOxY4rBanV1WMCKCjx0OB3p/\n",
       "f0fbtjgej+CcI8sy3N/fM9M5ttstRVGENE0Rx/H4OCJyRtM0BGAUVVWR6TxlWQ7jOOdUFAUJIWi3\n",
       "2w1zBCeog3NOfd8vkhZCUFVV03PZkhRCGJOUiKLI2LuTjrAlaktSRdu2xoT1sf9MAx4AXl5eRnde\n",
       "FEXIsgwA8Pn5ia7rRsenaSpJ2JvpHdZ1bb1Z2rYdjVmnlTMlyjm/GGg6brfbkT42z/PF8c5EbTw5\n",
       "5d0oioYLCyFm5/Em6kJSou/7i4urOvmriEpkWbYYQl5EbfXQ5MbLshyd04tolmXBiBJdbtAloisb\n",
       "Kev73ubni/bx8TEUIPv9fl5gfyJGpzyrrhg0j7Lzl4vGGKPzjRmXbzamzy8/SzNees55WGaa9X0P\n",
       "zjkYY/T6+nrtPdPlkVXTmOALIagsy0URX4Kus3DZ9URfuTtJkslYcs1cKtkkScKVeTKr6BOqNxHS\n",
       "s1bydA4VVpYlHh4ergIeOJV8vhbHMev7HkmSXFzYCaPLA1DTNN4eHfOssTzN2X6/p+PxiMfHx5tI\n",
       "19vbWxii32HWMfpT9kc0tP0RDW0D0cPhQJvNhhhjxBijzWbzq+RgkKexLAPcrqyztRUAzHlvqjsy\n",
       "Z09PT+Olmo/J8m2uQ2eb+tSnTABUFIV3WkVRFAMZ/QLwqIaqqroo13xrgKG4kF/o7ReT3uYS1NVy\n",
       "nQ9jy9s0DeV57l0Eq5ArlyTJbIdkkqj0YChCBp5xut4qTdOgm3PJ6roG4KAmMi5DPEKYQhbEU+2c\n",
       "0ZUgOvUwcYOWTcgQGP7I85xwboT5PvaaQEqhNVGiy/Mem4MBF8ijGieiMgx04U+ShJqmCaKpElJb\n",
       "TX9/VeZ1XXfVteu6Duv1Gnd3d3h+fqbtduudx9u2tRsgGes9dhtEUUR1XVsJOVw3kwvBMeR5TnVd\n",
       "zxJQjxKtiKqb6Dthoy5X3tQ3jTxMdQ2LKZgejA1EpX7aaqdsNX4HSaJARYkQ4up0bgo2aVPbfG7V\n",
       "zBJkqagTdZ0PMvZCE1UJqwkkyzKnxHHxKHJrqG1EW7Irec6+eM4TwOI4ZlVVAQDW67XdYKIvAXZ5\n",
       "RHCOOdgdWV4MdJENH6JwSaFSE13lwxZeZZ7UQpM3FHxhW+ZdfaFqXwjvQtNR2YiQ76g4E1WXBTgd\n",
       "cPkUzDpR4PT0YCuLs//U38xxebFgjKiKIESld9UeUkiiNirjFX8mGMv3LlJ4c6JTZG3j/j8yvmRB\n",
       "ZnRu5wAAAABJRU5ErkJggg==\n",
       "\" transform=\"translate(-17, 1485)\"/>\n",
       "</g>\n",
       "<polyline clip-path=\"url(#clip113)\" style=\"stroke:#008080; stroke-width:12; stroke-opacity:1; fill:none\" points=\"\n",
       "  212.552,1353.54 234.171,1640.92 255.789,1448.54 277.407,1253.22 299.025,1606.38 320.644,1527.05 342.262,1567.01 363.88,1158.65 385.498,1165.17 407.116,1647.02 \n",
       "  428.735,1495.8 450.353,1325.61 471.971,1754.58 493.589,1649.56 515.207,1508.22 536.826,1438.59 558.444,1661.55 580.062,1674.18 601.68,1491.96 623.299,1588.41 \n",
       "  644.917,1406.21 666.535,1371.01 688.153,1594.34 709.771,1615.31 731.39,1582.2 753.008,1151.49 774.626,1280.52 796.244,1734.07 817.863,1489.55 839.481,1530.37 \n",
       "  861.099,1351.95 882.717,1279.14 904.335,1128.09 925.954,1705.82 947.572,1728.44 969.19,1859.25 990.808,1442.58 1012.43,1338.47 1034.04,1462.34 1055.66,1525.56 \n",
       "  1077.28,1547.19 1098.9,1468.61 1120.52,1568.49 1142.14,1531.29 1163.75,1718.63 1185.37,1523.73 1206.99,1684.21 1228.61,1486.04 1250.23,1542.65 1271.85,1758.15 \n",
       "  1293.46,1737.85 1315.08,1770.62 1336.7,1446.81 1358.32,1418.35 1379.94,1487.45 1401.55,1607.94 1423.17,1366.44 1444.79,1243.09 1466.41,1414.55 1488.03,1755.15 \n",
       "  1509.65,1413.35 1531.26,1549.4 1552.88,1618.12 1574.5,1646.33 1596.12,1705.3 1617.74,1390.15 1639.35,1408.94 1660.97,1484.82 1682.59,1555.9 1704.21,1691.73 \n",
       "  1725.83,1469.45 1747.45,1524.42 1769.06,1541.88 1790.68,1299.88 1812.3,1704.09 1833.92,1302.07 1855.54,1456.25 1877.16,1449.66 1898.77,1420.19 1920.39,1442.62 \n",
       "  1942.01,1488.25 1963.63,1309.76 1985.25,1470.22 2006.86,1562.78 2028.48,1237.91 2050.1,1345.64 2071.72,1472.37 2093.34,1354.63 2114.96,1288.52 2136.57,1471.18 \n",
       "  2158.19,1474.09 2179.81,1389.23 2201.43,1193.83 2223.05,1676.48 2244.66,1437.9 2266.28,1530.31 2287.9,1562.24 2309.52,1415.94 2331.14,1623.8 2352.76,1606.05 \n",
       "  \n",
       "  \"/>\n",
       "<polyline clip-path=\"url(#clip113)\" style=\"stroke:#ee4000; stroke-width:12; stroke-opacity:1; fill:none\" stroke-dasharray=\"48, 30\" points=\"\n",
       "  212.552,1451.68 234.171,1647.23 255.789,1452.57 277.407,1255.81 299.025,1557.15 320.644,1535.22 342.262,1538.78 363.88,1156.58 385.498,1214.21 407.116,1665.13 \n",
       "  428.735,1469.42 450.353,1312.45 471.971,1753.63 493.589,1638.44 515.207,1504.24 536.826,1392.81 558.444,1669.25 580.062,1603 601.68,1466.99 623.299,1597.61 \n",
       "  644.917,1390.68 666.535,1419.08 688.153,1597.18 709.771,1608.26 731.39,1574.21 753.008,1195.95 774.626,1297.05 796.244,1737.48 817.863,1481.98 839.481,1509.65 \n",
       "  861.099,1343.28 882.717,1295.63 904.335,1128.95 925.954,1699.57 947.572,1708.34 969.19,1893.43 990.808,1459.51 1012.43,1330.48 1034.04,1458.65 1055.66,1538.26 \n",
       "  1077.28,1548.27 1098.9,1457.8 1120.52,1583.22 1142.14,1549.55 1163.75,1753.62 1185.37,1521.76 1206.99,1673.63 1228.61,1496.6 1250.23,1548.33 1271.85,1789.45 \n",
       "  1293.46,1697.38 1315.08,1805.62 1336.7,1441.71 1358.32,1412.75 1379.94,1494.06 1401.55,1603.48 1423.17,1349.38 1444.79,1248.84 1466.41,1404.9 1488.03,1776 \n",
       "  1509.65,1408.76 1531.26,1545.78 1552.88,1616.68 1574.5,1662.44 1596.12,1705.36 1617.74,1390.09 1639.35,1402.23 1660.97,1486.06 1682.59,1547.54 1704.21,1693.92 \n",
       "  1725.83,1484.84 1747.45,1511.71 1769.06,1491.19 1790.68,1327.46 1812.3,1706.21 1833.92,1300.92 1855.54,1452.74 1877.16,1447.16 1898.77,1417.11 1920.39,1441.09 \n",
       "  1942.01,1478.06 1963.63,1325.91 1985.25,1464.38 2006.86,1565.63 2028.48,1235.58 2050.1,1331.07 2071.72,1479.3 2093.34,1344.44 2114.96,1286.97 2136.57,1476.17 \n",
       "  2158.19,1473.07 2179.81,1401.33 2201.43,1205.54 2223.05,1665.51 2244.66,1431.58 2266.28,1526.08 2287.9,1559.36 2309.52,1398.32 2331.14,1632.93 2352.76,1608.4 \n",
       "  \n",
       "  \"/>\n",
       "<circle clip-path=\"url(#clip113)\" cx=\"212.552\" cy=\"1459.99\" r=\"18\" fill=\"#808080\" fill-rule=\"evenodd\" fill-opacity=\"0.5\" stroke=\"#000000\" stroke-opacity=\"0.5\" stroke-width=\"4.8\"/>\n",
       "<circle clip-path=\"url(#clip113)\" cx=\"234.171\" cy=\"1662\" r=\"18\" fill=\"#808080\" fill-rule=\"evenodd\" fill-opacity=\"0.5\" stroke=\"#000000\" stroke-opacity=\"0.5\" stroke-width=\"4.8\"/>\n",
       "<circle clip-path=\"url(#clip113)\" cx=\"255.789\" cy=\"1442.42\" r=\"18\" fill=\"#808080\" fill-rule=\"evenodd\" fill-opacity=\"0.5\" stroke=\"#000000\" stroke-opacity=\"0.5\" stroke-width=\"4.8\"/>\n",
       "<circle clip-path=\"url(#clip113)\" cx=\"277.407\" cy=\"1282.25\" r=\"18\" fill=\"#808080\" fill-rule=\"evenodd\" fill-opacity=\"0.5\" stroke=\"#000000\" stroke-opacity=\"0.5\" stroke-width=\"4.8\"/>\n",
       "<circle clip-path=\"url(#clip113)\" cx=\"299.025\" cy=\"1547.7\" r=\"18\" fill=\"#808080\" fill-rule=\"evenodd\" fill-opacity=\"0.5\" stroke=\"#000000\" stroke-opacity=\"0.5\" stroke-width=\"4.8\"/>\n",
       "<circle clip-path=\"url(#clip113)\" cx=\"320.644\" cy=\"1502.29\" r=\"18\" fill=\"#808080\" fill-rule=\"evenodd\" fill-opacity=\"0.5\" stroke=\"#000000\" stroke-opacity=\"0.5\" stroke-width=\"4.8\"/>\n",
       "<circle clip-path=\"url(#clip113)\" cx=\"342.262\" cy=\"1567.54\" r=\"18\" fill=\"#808080\" fill-rule=\"evenodd\" fill-opacity=\"0.5\" stroke=\"#000000\" stroke-opacity=\"0.5\" stroke-width=\"4.8\"/>\n",
       "<circle clip-path=\"url(#clip113)\" cx=\"363.88\" cy=\"1113.91\" r=\"18\" fill=\"#808080\" fill-rule=\"evenodd\" fill-opacity=\"0.5\" stroke=\"#000000\" stroke-opacity=\"0.5\" stroke-width=\"4.8\"/>\n",
       "<circle clip-path=\"url(#clip113)\" cx=\"385.498\" cy=\"1225.47\" r=\"18\" fill=\"#808080\" fill-rule=\"evenodd\" fill-opacity=\"0.5\" stroke=\"#000000\" stroke-opacity=\"0.5\" stroke-width=\"4.8\"/>\n",
       "<circle clip-path=\"url(#clip113)\" cx=\"407.116\" cy=\"1714.46\" r=\"18\" fill=\"#808080\" fill-rule=\"evenodd\" fill-opacity=\"0.5\" stroke=\"#000000\" stroke-opacity=\"0.5\" stroke-width=\"4.8\"/>\n",
       "<circle clip-path=\"url(#clip113)\" cx=\"428.735\" cy=\"1434.7\" r=\"18\" fill=\"#808080\" fill-rule=\"evenodd\" fill-opacity=\"0.5\" stroke=\"#000000\" stroke-opacity=\"0.5\" stroke-width=\"4.8\"/>\n",
       "<circle clip-path=\"url(#clip113)\" cx=\"450.353\" cy=\"1305.56\" r=\"18\" fill=\"#808080\" fill-rule=\"evenodd\" fill-opacity=\"0.5\" stroke=\"#000000\" stroke-opacity=\"0.5\" stroke-width=\"4.8\"/>\n",
       "<circle clip-path=\"url(#clip113)\" cx=\"471.971\" cy=\"1734.58\" r=\"18\" fill=\"#808080\" fill-rule=\"evenodd\" fill-opacity=\"0.5\" stroke=\"#000000\" stroke-opacity=\"0.5\" stroke-width=\"4.8\"/>\n",
       "<circle clip-path=\"url(#clip113)\" cx=\"493.589\" cy=\"1654.79\" r=\"18\" fill=\"#808080\" fill-rule=\"evenodd\" fill-opacity=\"0.5\" stroke=\"#000000\" stroke-opacity=\"0.5\" stroke-width=\"4.8\"/>\n",
       "<circle clip-path=\"url(#clip113)\" cx=\"515.207\" cy=\"1502.09\" r=\"18\" fill=\"#808080\" fill-rule=\"evenodd\" fill-opacity=\"0.5\" stroke=\"#000000\" stroke-opacity=\"0.5\" stroke-width=\"4.8\"/>\n",
       "<circle clip-path=\"url(#clip113)\" cx=\"536.826\" cy=\"1389\" r=\"18\" fill=\"#808080\" fill-rule=\"evenodd\" fill-opacity=\"0.5\" stroke=\"#000000\" stroke-opacity=\"0.5\" stroke-width=\"4.8\"/>\n",
       "<circle clip-path=\"url(#clip113)\" cx=\"558.444\" cy=\"1704.88\" r=\"18\" fill=\"#808080\" fill-rule=\"evenodd\" fill-opacity=\"0.5\" stroke=\"#000000\" stroke-opacity=\"0.5\" stroke-width=\"4.8\"/>\n",
       "<circle clip-path=\"url(#clip113)\" cx=\"580.062\" cy=\"1583.28\" r=\"18\" fill=\"#808080\" fill-rule=\"evenodd\" fill-opacity=\"0.5\" stroke=\"#000000\" stroke-opacity=\"0.5\" stroke-width=\"4.8\"/>\n",
       "<circle clip-path=\"url(#clip113)\" cx=\"601.68\" cy=\"1518.22\" r=\"18\" fill=\"#808080\" fill-rule=\"evenodd\" fill-opacity=\"0.5\" stroke=\"#000000\" stroke-opacity=\"0.5\" stroke-width=\"4.8\"/>\n",
       "<circle clip-path=\"url(#clip113)\" cx=\"623.299\" cy=\"1619.7\" r=\"18\" fill=\"#808080\" fill-rule=\"evenodd\" fill-opacity=\"0.5\" stroke=\"#000000\" stroke-opacity=\"0.5\" stroke-width=\"4.8\"/>\n",
       "<circle clip-path=\"url(#clip113)\" cx=\"644.917\" cy=\"1424.07\" r=\"18\" fill=\"#808080\" fill-rule=\"evenodd\" fill-opacity=\"0.5\" stroke=\"#000000\" stroke-opacity=\"0.5\" stroke-width=\"4.8\"/>\n",
       "<circle clip-path=\"url(#clip113)\" cx=\"666.535\" cy=\"1403.36\" r=\"18\" fill=\"#808080\" fill-rule=\"evenodd\" fill-opacity=\"0.5\" stroke=\"#000000\" stroke-opacity=\"0.5\" stroke-width=\"4.8\"/>\n",
       "<circle clip-path=\"url(#clip113)\" cx=\"688.153\" cy=\"1548.51\" r=\"18\" fill=\"#808080\" fill-rule=\"evenodd\" fill-opacity=\"0.5\" stroke=\"#000000\" stroke-opacity=\"0.5\" stroke-width=\"4.8\"/>\n",
       "<circle clip-path=\"url(#clip113)\" cx=\"709.771\" cy=\"1634.55\" r=\"18\" fill=\"#808080\" fill-rule=\"evenodd\" fill-opacity=\"0.5\" stroke=\"#000000\" stroke-opacity=\"0.5\" stroke-width=\"4.8\"/>\n",
       "<circle clip-path=\"url(#clip113)\" cx=\"731.39\" cy=\"1553.41\" r=\"18\" fill=\"#808080\" fill-rule=\"evenodd\" fill-opacity=\"0.5\" stroke=\"#000000\" stroke-opacity=\"0.5\" stroke-width=\"4.8\"/>\n",
       "<circle clip-path=\"url(#clip113)\" cx=\"753.008\" cy=\"1188.48\" r=\"18\" fill=\"#808080\" fill-rule=\"evenodd\" fill-opacity=\"0.5\" stroke=\"#000000\" stroke-opacity=\"0.5\" stroke-width=\"4.8\"/>\n",
       "<circle clip-path=\"url(#clip113)\" cx=\"774.626\" cy=\"1248.44\" r=\"18\" fill=\"#808080\" fill-rule=\"evenodd\" fill-opacity=\"0.5\" stroke=\"#000000\" stroke-opacity=\"0.5\" stroke-width=\"4.8\"/>\n",
       "<circle clip-path=\"url(#clip113)\" cx=\"796.244\" cy=\"1750.15\" r=\"18\" fill=\"#808080\" fill-rule=\"evenodd\" fill-opacity=\"0.5\" stroke=\"#000000\" stroke-opacity=\"0.5\" stroke-width=\"4.8\"/>\n",
       "<circle clip-path=\"url(#clip113)\" cx=\"817.863\" cy=\"1470.86\" r=\"18\" fill=\"#808080\" fill-rule=\"evenodd\" fill-opacity=\"0.5\" stroke=\"#000000\" stroke-opacity=\"0.5\" stroke-width=\"4.8\"/>\n",
       "<circle clip-path=\"url(#clip113)\" cx=\"839.481\" cy=\"1519.56\" r=\"18\" fill=\"#808080\" fill-rule=\"evenodd\" fill-opacity=\"0.5\" stroke=\"#000000\" stroke-opacity=\"0.5\" stroke-width=\"4.8\"/>\n",
       "<circle clip-path=\"url(#clip113)\" cx=\"861.099\" cy=\"1306.78\" r=\"18\" fill=\"#808080\" fill-rule=\"evenodd\" fill-opacity=\"0.5\" stroke=\"#000000\" stroke-opacity=\"0.5\" stroke-width=\"4.8\"/>\n",
       "<circle clip-path=\"url(#clip113)\" cx=\"882.717\" cy=\"1303.57\" r=\"18\" fill=\"#808080\" fill-rule=\"evenodd\" fill-opacity=\"0.5\" stroke=\"#000000\" stroke-opacity=\"0.5\" stroke-width=\"4.8\"/>\n",
       "<circle clip-path=\"url(#clip113)\" cx=\"904.335\" cy=\"1131.46\" r=\"18\" fill=\"#808080\" fill-rule=\"evenodd\" fill-opacity=\"0.5\" stroke=\"#000000\" stroke-opacity=\"0.5\" stroke-width=\"4.8\"/>\n",
       "<circle clip-path=\"url(#clip113)\" cx=\"925.954\" cy=\"1672.68\" r=\"18\" fill=\"#808080\" fill-rule=\"evenodd\" fill-opacity=\"0.5\" stroke=\"#000000\" stroke-opacity=\"0.5\" stroke-width=\"4.8\"/>\n",
       "<circle clip-path=\"url(#clip113)\" cx=\"947.572\" cy=\"1715.21\" r=\"18\" fill=\"#808080\" fill-rule=\"evenodd\" fill-opacity=\"0.5\" stroke=\"#000000\" stroke-opacity=\"0.5\" stroke-width=\"4.8\"/>\n",
       "<circle clip-path=\"url(#clip113)\" cx=\"969.19\" cy=\"1920.6\" r=\"18\" fill=\"#808080\" fill-rule=\"evenodd\" fill-opacity=\"0.5\" stroke=\"#000000\" stroke-opacity=\"0.5\" stroke-width=\"4.8\"/>\n",
       "<circle clip-path=\"url(#clip113)\" cx=\"990.808\" cy=\"1465.72\" r=\"18\" fill=\"#808080\" fill-rule=\"evenodd\" fill-opacity=\"0.5\" stroke=\"#000000\" stroke-opacity=\"0.5\" stroke-width=\"4.8\"/>\n",
       "<circle clip-path=\"url(#clip113)\" cx=\"1012.43\" cy=\"1279.46\" r=\"18\" fill=\"#808080\" fill-rule=\"evenodd\" fill-opacity=\"0.5\" stroke=\"#000000\" stroke-opacity=\"0.5\" stroke-width=\"4.8\"/>\n",
       "<circle clip-path=\"url(#clip113)\" cx=\"1034.04\" cy=\"1475.89\" r=\"18\" fill=\"#808080\" fill-rule=\"evenodd\" fill-opacity=\"0.5\" stroke=\"#000000\" stroke-opacity=\"0.5\" stroke-width=\"4.8\"/>\n",
       "<circle clip-path=\"url(#clip113)\" cx=\"1055.66\" cy=\"1527\" r=\"18\" fill=\"#808080\" fill-rule=\"evenodd\" fill-opacity=\"0.5\" stroke=\"#000000\" stroke-opacity=\"0.5\" stroke-width=\"4.8\"/>\n",
       "<circle clip-path=\"url(#clip113)\" cx=\"1077.28\" cy=\"1527.82\" r=\"18\" fill=\"#808080\" fill-rule=\"evenodd\" fill-opacity=\"0.5\" stroke=\"#000000\" stroke-opacity=\"0.5\" stroke-width=\"4.8\"/>\n",
       "<circle clip-path=\"url(#clip113)\" cx=\"1098.9\" cy=\"1435.18\" r=\"18\" fill=\"#808080\" fill-rule=\"evenodd\" fill-opacity=\"0.5\" stroke=\"#000000\" stroke-opacity=\"0.5\" stroke-width=\"4.8\"/>\n",
       "<circle clip-path=\"url(#clip113)\" cx=\"1120.52\" cy=\"1612.83\" r=\"18\" fill=\"#808080\" fill-rule=\"evenodd\" fill-opacity=\"0.5\" stroke=\"#000000\" stroke-opacity=\"0.5\" stroke-width=\"4.8\"/>\n",
       "<circle clip-path=\"url(#clip113)\" cx=\"1142.14\" cy=\"1565.49\" r=\"18\" fill=\"#808080\" fill-rule=\"evenodd\" fill-opacity=\"0.5\" stroke=\"#000000\" stroke-opacity=\"0.5\" stroke-width=\"4.8\"/>\n",
       "<circle clip-path=\"url(#clip113)\" cx=\"1163.75\" cy=\"1761.02\" r=\"18\" fill=\"#808080\" fill-rule=\"evenodd\" fill-opacity=\"0.5\" stroke=\"#000000\" stroke-opacity=\"0.5\" stroke-width=\"4.8\"/>\n",
       "<circle clip-path=\"url(#clip113)\" cx=\"1185.37\" cy=\"1504.9\" r=\"18\" fill=\"#808080\" fill-rule=\"evenodd\" fill-opacity=\"0.5\" stroke=\"#000000\" stroke-opacity=\"0.5\" stroke-width=\"4.8\"/>\n",
       "<circle clip-path=\"url(#clip113)\" cx=\"1206.99\" cy=\"1686.48\" r=\"18\" fill=\"#808080\" fill-rule=\"evenodd\" fill-opacity=\"0.5\" stroke=\"#000000\" stroke-opacity=\"0.5\" stroke-width=\"4.8\"/>\n",
       "<circle clip-path=\"url(#clip113)\" cx=\"1228.61\" cy=\"1514.06\" r=\"18\" fill=\"#808080\" fill-rule=\"evenodd\" fill-opacity=\"0.5\" stroke=\"#000000\" stroke-opacity=\"0.5\" stroke-width=\"4.8\"/>\n",
       "<circle clip-path=\"url(#clip113)\" cx=\"1250.23\" cy=\"1557.7\" r=\"18\" fill=\"#808080\" fill-rule=\"evenodd\" fill-opacity=\"0.5\" stroke=\"#000000\" stroke-opacity=\"0.5\" stroke-width=\"4.8\"/>\n",
       "<circle clip-path=\"url(#clip113)\" cx=\"1271.85\" cy=\"1812.15\" r=\"18\" fill=\"#808080\" fill-rule=\"evenodd\" fill-opacity=\"0.5\" stroke=\"#000000\" stroke-opacity=\"0.5\" stroke-width=\"4.8\"/>\n",
       "<circle clip-path=\"url(#clip113)\" cx=\"1293.46\" cy=\"1724.58\" r=\"18\" fill=\"#808080\" fill-rule=\"evenodd\" fill-opacity=\"0.5\" stroke=\"#000000\" stroke-opacity=\"0.5\" stroke-width=\"4.8\"/>\n",
       "<circle clip-path=\"url(#clip113)\" cx=\"1315.08\" cy=\"1780.74\" r=\"18\" fill=\"#808080\" fill-rule=\"evenodd\" fill-opacity=\"0.5\" stroke=\"#000000\" stroke-opacity=\"0.5\" stroke-width=\"4.8\"/>\n",
       "<circle clip-path=\"url(#clip113)\" cx=\"1336.7\" cy=\"1420.28\" r=\"18\" fill=\"#808080\" fill-rule=\"evenodd\" fill-opacity=\"0.5\" stroke=\"#000000\" stroke-opacity=\"0.5\" stroke-width=\"4.8\"/>\n",
       "<circle clip-path=\"url(#clip113)\" cx=\"1358.32\" cy=\"1329.92\" r=\"18\" fill=\"#808080\" fill-rule=\"evenodd\" fill-opacity=\"0.5\" stroke=\"#000000\" stroke-opacity=\"0.5\" stroke-width=\"4.8\"/>\n",
       "<circle clip-path=\"url(#clip113)\" cx=\"1379.94\" cy=\"1447.7\" r=\"18\" fill=\"#808080\" fill-rule=\"evenodd\" fill-opacity=\"0.5\" stroke=\"#000000\" stroke-opacity=\"0.5\" stroke-width=\"4.8\"/>\n",
       "<circle clip-path=\"url(#clip113)\" cx=\"1401.55\" cy=\"1566\" r=\"18\" fill=\"#808080\" fill-rule=\"evenodd\" fill-opacity=\"0.5\" stroke=\"#000000\" stroke-opacity=\"0.5\" stroke-width=\"4.8\"/>\n",
       "<circle clip-path=\"url(#clip113)\" cx=\"1423.17\" cy=\"1340.87\" r=\"18\" fill=\"#808080\" fill-rule=\"evenodd\" fill-opacity=\"0.5\" stroke=\"#000000\" stroke-opacity=\"0.5\" stroke-width=\"4.8\"/>\n",
       "<circle clip-path=\"url(#clip113)\" cx=\"1444.79\" cy=\"1215.48\" r=\"18\" fill=\"#808080\" fill-rule=\"evenodd\" fill-opacity=\"0.5\" stroke=\"#000000\" stroke-opacity=\"0.5\" stroke-width=\"4.8\"/>\n",
       "<circle clip-path=\"url(#clip113)\" cx=\"1466.41\" cy=\"1446.75\" r=\"18\" fill=\"#808080\" fill-rule=\"evenodd\" fill-opacity=\"0.5\" stroke=\"#000000\" stroke-opacity=\"0.5\" stroke-width=\"4.8\"/>\n",
       "<circle clip-path=\"url(#clip113)\" cx=\"1488.03\" cy=\"1741.14\" r=\"18\" fill=\"#808080\" fill-rule=\"evenodd\" fill-opacity=\"0.5\" stroke=\"#000000\" stroke-opacity=\"0.5\" stroke-width=\"4.8\"/>\n",
       "<circle clip-path=\"url(#clip113)\" cx=\"1509.65\" cy=\"1422.21\" r=\"18\" fill=\"#808080\" fill-rule=\"evenodd\" fill-opacity=\"0.5\" stroke=\"#000000\" stroke-opacity=\"0.5\" stroke-width=\"4.8\"/>\n",
       "<circle clip-path=\"url(#clip113)\" cx=\"1531.26\" cy=\"1536.53\" r=\"18\" fill=\"#808080\" fill-rule=\"evenodd\" fill-opacity=\"0.5\" stroke=\"#000000\" stroke-opacity=\"0.5\" stroke-width=\"4.8\"/>\n",
       "<circle clip-path=\"url(#clip113)\" cx=\"1552.88\" cy=\"1607.29\" r=\"18\" fill=\"#808080\" fill-rule=\"evenodd\" fill-opacity=\"0.5\" stroke=\"#000000\" stroke-opacity=\"0.5\" stroke-width=\"4.8\"/>\n",
       "<circle clip-path=\"url(#clip113)\" cx=\"1574.5\" cy=\"1674.28\" r=\"18\" fill=\"#808080\" fill-rule=\"evenodd\" fill-opacity=\"0.5\" stroke=\"#000000\" stroke-opacity=\"0.5\" stroke-width=\"4.8\"/>\n",
       "<circle clip-path=\"url(#clip113)\" cx=\"1596.12\" cy=\"1659.61\" r=\"18\" fill=\"#808080\" fill-rule=\"evenodd\" fill-opacity=\"0.5\" stroke=\"#000000\" stroke-opacity=\"0.5\" stroke-width=\"4.8\"/>\n",
       "<circle clip-path=\"url(#clip113)\" cx=\"1617.74\" cy=\"1472.54\" r=\"18\" fill=\"#808080\" fill-rule=\"evenodd\" fill-opacity=\"0.5\" stroke=\"#000000\" stroke-opacity=\"0.5\" stroke-width=\"4.8\"/>\n",
       "<circle clip-path=\"url(#clip113)\" cx=\"1639.35\" cy=\"1379.49\" r=\"18\" fill=\"#808080\" fill-rule=\"evenodd\" fill-opacity=\"0.5\" stroke=\"#000000\" stroke-opacity=\"0.5\" stroke-width=\"4.8\"/>\n",
       "<circle clip-path=\"url(#clip113)\" cx=\"1660.97\" cy=\"1453.79\" r=\"18\" fill=\"#808080\" fill-rule=\"evenodd\" fill-opacity=\"0.5\" stroke=\"#000000\" stroke-opacity=\"0.5\" stroke-width=\"4.8\"/>\n",
       "<circle clip-path=\"url(#clip113)\" cx=\"1682.59\" cy=\"1545.87\" r=\"18\" fill=\"#808080\" fill-rule=\"evenodd\" fill-opacity=\"0.5\" stroke=\"#000000\" stroke-opacity=\"0.5\" stroke-width=\"4.8\"/>\n",
       "<circle clip-path=\"url(#clip113)\" cx=\"1704.21\" cy=\"1647.32\" r=\"18\" fill=\"#808080\" fill-rule=\"evenodd\" fill-opacity=\"0.5\" stroke=\"#000000\" stroke-opacity=\"0.5\" stroke-width=\"4.8\"/>\n",
       "<circle clip-path=\"url(#clip113)\" cx=\"1725.83\" cy=\"1552.85\" r=\"18\" fill=\"#808080\" fill-rule=\"evenodd\" fill-opacity=\"0.5\" stroke=\"#000000\" stroke-opacity=\"0.5\" stroke-width=\"4.8\"/>\n",
       "<circle clip-path=\"url(#clip113)\" cx=\"1747.45\" cy=\"1544.46\" r=\"18\" fill=\"#808080\" fill-rule=\"evenodd\" fill-opacity=\"0.5\" stroke=\"#000000\" stroke-opacity=\"0.5\" stroke-width=\"4.8\"/>\n",
       "<circle clip-path=\"url(#clip113)\" cx=\"1769.06\" cy=\"1463.05\" r=\"18\" fill=\"#808080\" fill-rule=\"evenodd\" fill-opacity=\"0.5\" stroke=\"#000000\" stroke-opacity=\"0.5\" stroke-width=\"4.8\"/>\n",
       "<circle clip-path=\"url(#clip113)\" cx=\"1790.68\" cy=\"1304.45\" r=\"18\" fill=\"#808080\" fill-rule=\"evenodd\" fill-opacity=\"0.5\" stroke=\"#000000\" stroke-opacity=\"0.5\" stroke-width=\"4.8\"/>\n",
       "<circle clip-path=\"url(#clip113)\" cx=\"1812.3\" cy=\"1668.72\" r=\"18\" fill=\"#808080\" fill-rule=\"evenodd\" fill-opacity=\"0.5\" stroke=\"#000000\" stroke-opacity=\"0.5\" stroke-width=\"4.8\"/>\n",
       "<circle clip-path=\"url(#clip113)\" cx=\"1833.92\" cy=\"1273.06\" r=\"18\" fill=\"#808080\" fill-rule=\"evenodd\" fill-opacity=\"0.5\" stroke=\"#000000\" stroke-opacity=\"0.5\" stroke-width=\"4.8\"/>\n",
       "<circle clip-path=\"url(#clip113)\" cx=\"1855.54\" cy=\"1507\" r=\"18\" fill=\"#808080\" fill-rule=\"evenodd\" fill-opacity=\"0.5\" stroke=\"#000000\" stroke-opacity=\"0.5\" stroke-width=\"4.8\"/>\n",
       "<circle clip-path=\"url(#clip113)\" cx=\"1877.16\" cy=\"1527.54\" r=\"18\" fill=\"#808080\" fill-rule=\"evenodd\" fill-opacity=\"0.5\" stroke=\"#000000\" stroke-opacity=\"0.5\" stroke-width=\"4.8\"/>\n",
       "<circle clip-path=\"url(#clip113)\" cx=\"1898.77\" cy=\"1413.13\" r=\"18\" fill=\"#808080\" fill-rule=\"evenodd\" fill-opacity=\"0.5\" stroke=\"#000000\" stroke-opacity=\"0.5\" stroke-width=\"4.8\"/>\n",
       "<circle clip-path=\"url(#clip113)\" cx=\"1920.39\" cy=\"1401.63\" r=\"18\" fill=\"#808080\" fill-rule=\"evenodd\" fill-opacity=\"0.5\" stroke=\"#000000\" stroke-opacity=\"0.5\" stroke-width=\"4.8\"/>\n",
       "<circle clip-path=\"url(#clip113)\" cx=\"1942.01\" cy=\"1409.81\" r=\"18\" fill=\"#808080\" fill-rule=\"evenodd\" fill-opacity=\"0.5\" stroke=\"#000000\" stroke-opacity=\"0.5\" stroke-width=\"4.8\"/>\n",
       "<circle clip-path=\"url(#clip113)\" cx=\"1963.63\" cy=\"1354.57\" r=\"18\" fill=\"#808080\" fill-rule=\"evenodd\" fill-opacity=\"0.5\" stroke=\"#000000\" stroke-opacity=\"0.5\" stroke-width=\"4.8\"/>\n",
       "<circle clip-path=\"url(#clip113)\" cx=\"1985.25\" cy=\"1507.49\" r=\"18\" fill=\"#808080\" fill-rule=\"evenodd\" fill-opacity=\"0.5\" stroke=\"#000000\" stroke-opacity=\"0.5\" stroke-width=\"4.8\"/>\n",
       "<circle clip-path=\"url(#clip113)\" cx=\"2006.86\" cy=\"1522.51\" r=\"18\" fill=\"#808080\" fill-rule=\"evenodd\" fill-opacity=\"0.5\" stroke=\"#000000\" stroke-opacity=\"0.5\" stroke-width=\"4.8\"/>\n",
       "<circle clip-path=\"url(#clip113)\" cx=\"2028.48\" cy=\"1194.19\" r=\"18\" fill=\"#808080\" fill-rule=\"evenodd\" fill-opacity=\"0.5\" stroke=\"#000000\" stroke-opacity=\"0.5\" stroke-width=\"4.8\"/>\n",
       "<circle clip-path=\"url(#clip113)\" cx=\"2050.1\" cy=\"1311.38\" r=\"18\" fill=\"#808080\" fill-rule=\"evenodd\" fill-opacity=\"0.5\" stroke=\"#000000\" stroke-opacity=\"0.5\" stroke-width=\"4.8\"/>\n",
       "<circle clip-path=\"url(#clip113)\" cx=\"2071.72\" cy=\"1438.82\" r=\"18\" fill=\"#808080\" fill-rule=\"evenodd\" fill-opacity=\"0.5\" stroke=\"#000000\" stroke-opacity=\"0.5\" stroke-width=\"4.8\"/>\n",
       "<circle clip-path=\"url(#clip113)\" cx=\"2093.34\" cy=\"1289.64\" r=\"18\" fill=\"#808080\" fill-rule=\"evenodd\" fill-opacity=\"0.5\" stroke=\"#000000\" stroke-opacity=\"0.5\" stroke-width=\"4.8\"/>\n",
       "<circle clip-path=\"url(#clip113)\" cx=\"2114.96\" cy=\"1307.92\" r=\"18\" fill=\"#808080\" fill-rule=\"evenodd\" fill-opacity=\"0.5\" stroke=\"#000000\" stroke-opacity=\"0.5\" stroke-width=\"4.8\"/>\n",
       "<circle clip-path=\"url(#clip113)\" cx=\"2136.57\" cy=\"1487.11\" r=\"18\" fill=\"#808080\" fill-rule=\"evenodd\" fill-opacity=\"0.5\" stroke=\"#000000\" stroke-opacity=\"0.5\" stroke-width=\"4.8\"/>\n",
       "<circle clip-path=\"url(#clip113)\" cx=\"2158.19\" cy=\"1468.69\" r=\"18\" fill=\"#808080\" fill-rule=\"evenodd\" fill-opacity=\"0.5\" stroke=\"#000000\" stroke-opacity=\"0.5\" stroke-width=\"4.8\"/>\n",
       "<circle clip-path=\"url(#clip113)\" cx=\"2179.81\" cy=\"1367.79\" r=\"18\" fill=\"#808080\" fill-rule=\"evenodd\" fill-opacity=\"0.5\" stroke=\"#000000\" stroke-opacity=\"0.5\" stroke-width=\"4.8\"/>\n",
       "<circle clip-path=\"url(#clip113)\" cx=\"2201.43\" cy=\"1226.58\" r=\"18\" fill=\"#808080\" fill-rule=\"evenodd\" fill-opacity=\"0.5\" stroke=\"#000000\" stroke-opacity=\"0.5\" stroke-width=\"4.8\"/>\n",
       "<circle clip-path=\"url(#clip113)\" cx=\"2223.05\" cy=\"1611.87\" r=\"18\" fill=\"#808080\" fill-rule=\"evenodd\" fill-opacity=\"0.5\" stroke=\"#000000\" stroke-opacity=\"0.5\" stroke-width=\"4.8\"/>\n",
       "<circle clip-path=\"url(#clip113)\" cx=\"2244.66\" cy=\"1496.08\" r=\"18\" fill=\"#808080\" fill-rule=\"evenodd\" fill-opacity=\"0.5\" stroke=\"#000000\" stroke-opacity=\"0.5\" stroke-width=\"4.8\"/>\n",
       "<circle clip-path=\"url(#clip113)\" cx=\"2266.28\" cy=\"1513.67\" r=\"18\" fill=\"#808080\" fill-rule=\"evenodd\" fill-opacity=\"0.5\" stroke=\"#000000\" stroke-opacity=\"0.5\" stroke-width=\"4.8\"/>\n",
       "<circle clip-path=\"url(#clip113)\" cx=\"2287.9\" cy=\"1545.93\" r=\"18\" fill=\"#808080\" fill-rule=\"evenodd\" fill-opacity=\"0.5\" stroke=\"#000000\" stroke-opacity=\"0.5\" stroke-width=\"4.8\"/>\n",
       "<circle clip-path=\"url(#clip113)\" cx=\"2309.52\" cy=\"1409.91\" r=\"18\" fill=\"#808080\" fill-rule=\"evenodd\" fill-opacity=\"0.5\" stroke=\"#000000\" stroke-opacity=\"0.5\" stroke-width=\"4.8\"/>\n",
       "<circle clip-path=\"url(#clip113)\" cx=\"2331.14\" cy=\"1585.78\" r=\"18\" fill=\"#808080\" fill-rule=\"evenodd\" fill-opacity=\"0.5\" stroke=\"#000000\" stroke-opacity=\"0.5\" stroke-width=\"4.8\"/>\n",
       "<circle clip-path=\"url(#clip113)\" cx=\"2352.76\" cy=\"1658.47\" r=\"18\" fill=\"#808080\" fill-rule=\"evenodd\" fill-opacity=\"0.5\" stroke=\"#000000\" stroke-opacity=\"0.5\" stroke-width=\"4.8\"/>\n",
       "<polyline clip-path=\"url(#clip113)\" style=\"stroke:#050505; stroke-width:4; stroke-opacity:1; fill:none\" stroke-dasharray=\"16, 10\" points=\"\n",
       "  1293.03,2727.28 1293.03,307.225 \n",
       "  \"/>\n",
       "<path clip-path=\"url(#clip110)\" d=\"\n",
       "M283.893 1893.71 L846.054 1893.71 L846.054 1591.31 L283.893 1591.31  Z\n",
       "  \" fill=\"#ffffff\" fill-rule=\"evenodd\" fill-opacity=\"1\"/>\n",
       "<polyline clip-path=\"url(#clip110)\" style=\"stroke:#000000; stroke-width:4; stroke-opacity:1; fill:none\" points=\"\n",
       "  283.893,1893.71 846.054,1893.71 846.054,1591.31 283.893,1591.31 283.893,1893.71 \n",
       "  \"/>\n",
       "<polyline clip-path=\"url(#clip110)\" style=\"stroke:#008080; stroke-width:5; stroke-opacity:1; fill:none\" points=\"\n",
       "  307.673,1666.91 450.353,1666.91 \n",
       "  \"/>\n",
       "<g clip-path=\"url(#clip110)\">\n",
       "<text style=\"fill:#000000; fill-opacity:1; font-family:Arial,Helvetica Neue,Helvetica,sans-serif; font-size:59px; text-anchor:start;\" transform=\"rotate(0, 474.133, 1688.41)\" x=\"474.133\" y=\"1688.41\">True</text>\n",
       "</g>\n",
       "<polyline clip-path=\"url(#clip110)\" style=\"stroke:#ee4000; stroke-width:5; stroke-opacity:1; fill:none\" stroke-dasharray=\"20, 13\" points=\"\n",
       "  307.673,1742.51 450.353,1742.51 \n",
       "  \"/>\n",
       "<g clip-path=\"url(#clip110)\">\n",
       "<text style=\"fill:#000000; fill-opacity:1; font-family:Arial,Helvetica Neue,Helvetica,sans-serif; font-size:59px; text-anchor:start;\" transform=\"rotate(0, 474.133, 1764.01)\" x=\"474.133\" y=\"1764.01\">sEnKF</text>\n",
       "</g>\n",
       "<circle clip-path=\"url(#clip110)\" cx=\"379.013\" cy=\"1818.11\" r=\"28\" fill=\"#808080\" fill-rule=\"evenodd\" fill-opacity=\"0.5\" stroke=\"#000000\" stroke-opacity=\"0.5\" stroke-width=\"7.68\"/>\n",
       "<g clip-path=\"url(#clip110)\">\n",
       "<text style=\"fill:#000000; fill-opacity:1; font-family:Arial,Helvetica Neue,Helvetica,sans-serif; font-size:59px; text-anchor:start;\" transform=\"rotate(0, 474.133, 1839.61)\" x=\"474.133\" y=\"1839.61\">Observation</text>\n",
       "</g>\n",
       "<path clip-path=\"url(#clip110)\" d=\"\n",
       "M212.552 2987.26 L2352.76 2987.26 L2352.76 2180.58 L212.552 2180.58  Z\n",
       "  \" fill=\"#ffffff\" fill-rule=\"evenodd\" fill-opacity=\"1\"/>\n",
       "<defs>\n",
       "  <clipPath id=\"clip114\">\n",
       "    <rect x=\"212\" y=\"2180\" width=\"2141\" height=\"808\"/>\n",
       "  </clipPath>\n",
       "</defs>\n",
       "<polyline clip-path=\"url(#clip110)\" style=\"stroke:#000000; stroke-width:4; stroke-opacity:1; fill:none\" points=\"\n",
       "  212.552,2987.26 2352.76,2987.26 \n",
       "  \"/>\n",
       "<polyline clip-path=\"url(#clip110)\" style=\"stroke:#000000; stroke-width:4; stroke-opacity:1; fill:none\" points=\"\n",
       "  644.484,2987.26 644.484,2977.58 \n",
       "  \"/>\n",
       "<polyline clip-path=\"url(#clip110)\" style=\"stroke:#000000; stroke-width:4; stroke-opacity:1; fill:none\" points=\"\n",
       "  1076.85,2987.26 1076.85,2977.58 \n",
       "  \"/>\n",
       "<polyline clip-path=\"url(#clip110)\" style=\"stroke:#000000; stroke-width:4; stroke-opacity:1; fill:none\" points=\"\n",
       "  1509.21,2987.26 1509.21,2977.58 \n",
       "  \"/>\n",
       "<polyline clip-path=\"url(#clip110)\" style=\"stroke:#000000; stroke-width:4; stroke-opacity:1; fill:none\" points=\"\n",
       "  1941.58,2987.26 1941.58,2977.58 \n",
       "  \"/>\n",
       "<g clip-path=\"url(#clip110)\">\n",
       "<text style=\"fill:#000000; fill-opacity:1; font-family:Arial,Helvetica Neue,Helvetica,sans-serif; font-size:53px; text-anchor:middle;\" transform=\"rotate(0, 644.484, 3059.66)\" x=\"644.484\" y=\"3059.66\">200</text>\n",
       "</g>\n",
       "<g clip-path=\"url(#clip110)\">\n",
       "<text style=\"fill:#000000; fill-opacity:1; font-family:Arial,Helvetica Neue,Helvetica,sans-serif; font-size:53px; text-anchor:middle;\" transform=\"rotate(0, 1076.85, 3059.66)\" x=\"1076.85\" y=\"3059.66\">400</text>\n",
       "</g>\n",
       "<g clip-path=\"url(#clip110)\">\n",
       "<text style=\"fill:#000000; fill-opacity:1; font-family:Arial,Helvetica Neue,Helvetica,sans-serif; font-size:53px; text-anchor:middle;\" transform=\"rotate(0, 1509.21, 3059.66)\" x=\"1509.21\" y=\"3059.66\">600</text>\n",
       "</g>\n",
       "<g clip-path=\"url(#clip110)\">\n",
       "<text style=\"fill:#000000; fill-opacity:1; font-family:Arial,Helvetica Neue,Helvetica,sans-serif; font-size:53px; text-anchor:middle;\" transform=\"rotate(0, 1941.58, 3059.66)\" x=\"1941.58\" y=\"3059.66\">800</text>\n",
       "</g>\n",
       "<g clip-path=\"url(#clip110)\">\n",
       "<image width=\"23\" height=\"45\" xlink:href=\"data:image/png;base64,\n",
       "iVBORw0KGgoAAAANSUhEUgAAABcAAAAtCAYAAABFy/BrAAABxElEQVRYhbWX3a3CMAyFnTtB6AgZ\n",
       "oawQMUHECFkBRugIzJARgBHKBmUFr+D7QhBt82OHYskPRe6Rc/KFuEBEIE1EJO89aa3JOUe5OrEw\n",
       "EYExhgDgnZuJI+JMuCT+B8K43+/84m8t2cyWlCWb2XI+n1e/Oeey9SLxlN/W2vwLEltgYYfWOmtJ\n",
       "Ey3srr/tfJqmYuds4ev1yqZELN73vVhcvZZbDaXUqpCIVPElRKRUV9+mtZZgGIbNhWMqIoLH40GI\n",
       "mF3d4XCYPWutIYSQre+6Dvb7vWpC0Htf3Uw2LUtxRGSJV0/o7XZbUbLb7cqUxPgF32zOm/h+RdGW\n",
       "0+m0Evbec3Tr4uL/72VIKDHGsP1m0dLcdanz1GXM5bvaecpvNt+1ziXziej4S+cTkS2p+UTCd4yk\n",
       "+Nd8x/gF3yLOm7rmds7lexxHAgAKIVCSlpb5JKZzbjYsrQqstc3iy/pVgda6STyejb7v0+IpS0pf\n",
       "a0uvrbWz2iotxpgqFMfjEQBgPW7USLlcLsXOQwjJrpOeLy/kYRiy4tGO3CGrcv65QZ8Zx8DS1wXr\n",
       "EOVWZ4wpHrDkhhKRmqbp/ayUos/sug7GcYTn86lKF8g/DrGGHV47F+QAAAAASUVORK5CYII=\n",
       "\" transform=\"translate(1271, 3094)\"/>\n",
       "</g>\n",
       "<polyline clip-path=\"url(#clip110)\" style=\"stroke:#000000; stroke-width:4; stroke-opacity:1; fill:none\" points=\"\n",
       "  212.552,2987.26 212.552,2180.58 \n",
       "  \"/>\n",
       "<polyline clip-path=\"url(#clip110)\" style=\"stroke:#000000; stroke-width:4; stroke-opacity:1; fill:none\" points=\"\n",
       "  212.552,2819.22 238.235,2819.22 \n",
       "  \"/>\n",
       "<polyline clip-path=\"url(#clip110)\" style=\"stroke:#000000; stroke-width:4; stroke-opacity:1; fill:none\" points=\"\n",
       "  212.552,2624.42 238.235,2624.42 \n",
       "  \"/>\n",
       "<polyline clip-path=\"url(#clip110)\" style=\"stroke:#000000; stroke-width:4; stroke-opacity:1; fill:none\" points=\"\n",
       "  212.552,2429.62 238.235,2429.62 \n",
       "  \"/>\n",
       "<polyline clip-path=\"url(#clip110)\" style=\"stroke:#000000; stroke-width:4; stroke-opacity:1; fill:none\" points=\"\n",
       "  212.552,2234.82 238.235,2234.82 \n",
       "  \"/>\n",
       "<g clip-path=\"url(#clip110)\">\n",
       "<text style=\"fill:#000000; fill-opacity:1; font-family:Arial,Helvetica Neue,Helvetica,sans-serif; font-size:53px; text-anchor:end;\" transform=\"rotate(0, 164.552, 2838.72)\" x=\"164.552\" y=\"2838.72\">10</text>\n",
       "</g>\n",
       "<g clip-path=\"url(#clip110)\">\n",
       "<text style=\"fill:#000000; fill-opacity:1; font-family:Arial,Helvetica Neue,Helvetica,sans-serif; font-size:53px; text-anchor:end;\" transform=\"rotate(0, 164.552, 2643.92)\" x=\"164.552\" y=\"2643.92\">20</text>\n",
       "</g>\n",
       "<g clip-path=\"url(#clip110)\">\n",
       "<text style=\"fill:#000000; fill-opacity:1; font-family:Arial,Helvetica Neue,Helvetica,sans-serif; font-size:53px; text-anchor:end;\" transform=\"rotate(0, 164.552, 2449.12)\" x=\"164.552\" y=\"2449.12\">30</text>\n",
       "</g>\n",
       "<g clip-path=\"url(#clip110)\">\n",
       "<text style=\"fill:#000000; fill-opacity:1; font-family:Arial,Helvetica Neue,Helvetica,sans-serif; font-size:53px; text-anchor:end;\" transform=\"rotate(0, 164.552, 2254.32)\" x=\"164.552\" y=\"2254.32\">40</text>\n",
       "</g>\n",
       "<g clip-path=\"url(#clip110)\">\n",
       "<image width=\"43\" height=\"65\" xlink:href=\"data:image/png;base64,\n",
       "iVBORw0KGgoAAAANSUhEUgAAACsAAABBCAYAAABIMl38AAAD0UlEQVRoge1a75GsIAyPrwJmS4hX\n",
       "gTVYAnclWALXAiVYAyVYgyV4W4JnB3kf3guHrrIE3L37cJnJzOoK+QH5R6AiIvhO+vz8pHEcARGh\n",
       "rusq+jERfRs3TUMA4BkRyRhDR99/C0jnHCmlVkBD1lrTPM83oLOFHQmKzQwRgdb6sO2W+76nYrD3\n",
       "hIzjuAvYGJMMlNlaS1lgp2kSCZIO8l4/IrBt24qETNPkBVlrb/5XShEiUtu21LbtoR6zalX/R5xE\n",
       "VVX5j5VSYK0FRIRlWeB6vYK1FpZlWbVxzgEAwNvbm39HRHEXBQAfHx/08vLin621spnlkW4VP2Z8\n",
       "iEhsVIi4mu17HK6GUiodKDcMFT7G8zzf1WGxQUv0VSklEhjqoLRtEVilVHT57wEehiEbbNd1BAD0\n",
       "J9W4lmUBREz93BMb1uVyEbdlYrnJYJVSWYK01iuBOcSyk8FeLpcbt5TarpSu1+u/H6l6Y4yhtm3F\n",
       "esdeYS8xSWVElBkYZ0q51pwLNMsbcKNwdtmddV1XNHMpchExb4REt0kNIhaD3cvWWI2MMbLOhmEg\n",
       "nt29pKN4mTdpIcvTWhNRRj67lz2dDZZtgyeEVSyrc+cceQv9z13XnQb2qN8iHTPGkNa6KJTGwG63\n",
       "SEVgz+J5nonjPyKSc2538KLk+7spOdz+BPoF+yj6BfsoWoF9f3+nuq6pqiqq6/rnuQn2YUcFhjMS\n",
       "lLPYR6I9oMzSTrXWPvk4FSxnNmeC3ZaZzsp3IQxzR7Ws3BAaJjsldQMPljvkmsAjkuowS2uaJrs/\n",
       "YFBh8uCcI2NMcqlIIIwAQFTvWrXnun5JPirhcLchBhvq7DPAhjMsbkf0dWryLLDzPJNS6u75wy5Y\n",
       "Nqqcpcll3stJXNru8pRuUyTqIAkeq4cwkj1jlqW2svtyGxwQ8SFVF6mh7b7cHlNugTvnzgmfwsi2\n",
       "eogdUcZYKUVaa5GzZ5WT+Hf/YxzHLKB7wPu+jwIPqzpH2+5DsDnHlGew1OusFJ1dSaiP0zSRtZYk\n",
       "B8SpLNbxEIS0sTGGYsZ4xE3TZBmot/yS1G0YBpKoUq4crwI5Z1wxnueZtNY3ddwSOd5dnQ025G2Q\n",
       "yfXRPkUsUQPJbDPwnJR0dYr9aLBeaK43IPpy0rnbjVzVkG4i/Q+l1FNUgZlzaHEEK12eEnWQ6O6q\n",
       "1tU0DQAAvL6+EjyJ/LlsCh2NGOD+HS3JcjOHegrCmd19ub2bUpK77uUUfJIIINuRRP/s+562V0ek\n",
       "wGPXn0LgxWCZw5qVpHOi+F0wqfd5ytFSeB8sJEq43xXSU8r0fPUkJPY8EvoLyhfQbhQ7cKAAAAAA\n",
       "SUVORK5CYII=\n",
       "\" transform=\"translate(12, 2552)\"/>\n",
       "</g>\n",
       "<polyline clip-path=\"url(#clip114)\" style=\"stroke:#008080; stroke-width:12; stroke-opacity:1; fill:none\" points=\"\n",
       "  212.552,2987.26 234.171,2612.74 255.789,2526.72 277.407,2450.82 299.025,2783.89 320.644,2456.15 342.262,2738.54 363.88,2464.98 385.498,2685.99 407.116,2363.77 \n",
       "  428.735,2753.16 450.353,2656.44 471.971,2405.56 493.589,2270.86 515.207,2583.57 536.826,2785.78 558.444,2706.62 580.062,2275.05 601.68,2558.09 623.299,2812.67 \n",
       "  644.917,2797.86 666.535,2774.33 688.153,2332.59 709.771,2712.44 731.39,2549.05 753.008,2474.36 774.626,2641.84 796.244,2411.82 817.863,2284.54 839.481,2430.08 \n",
       "  861.099,2788.76 882.717,2259.71 904.335,2670.16 925.954,2625.57 947.572,2398.76 969.19,2686.98 990.808,2748.94 1012.43,2620.95 1034.04,2496.22 1055.66,2605.03 \n",
       "  1077.28,2297.79 1098.9,2326.34 1120.52,2721.94 1142.14,2793.84 1163.75,2317.91 1185.37,2565.66 1206.99,2727.56 1228.61,2518.19 1250.23,2784.69 1271.85,2681.92 \n",
       "  1293.46,2290.66 1315.08,2772.58 1336.7,2464.83 1358.32,2664.46 1379.94,2392.59 1401.55,2403.07 1423.17,2181.07 1444.79,2438.55 1466.41,2532.93 1488.03,2355.7 \n",
       "  1509.65,2687.37 1531.26,2793.41 1552.88,2774.18 1574.5,2792.72 1596.12,2668.34 1617.74,2376.28 1639.35,2491.83 1660.97,2554.98 1682.59,2522.31 1704.21,2450.68 \n",
       "  1725.83,2460.86 1747.45,2635.5 1769.06,2847.18 1790.68,2252.48 1812.3,2519.98 1833.92,2635.07 1855.54,2419.97 1877.16,2489.95 1898.77,2632.73 1920.39,2613.02 \n",
       "  1942.01,2625.17 1963.63,2272.62 1985.25,2528.23 2006.86,2332.06 2028.48,2558.95 2050.1,2181.53 2071.72,2659.59 2093.34,2643.3 2114.96,2627.01 2136.57,2292.62 \n",
       "  2158.19,2417.02 2179.81,2757.84 2201.43,2576.32 2223.05,2339.82 2244.66,2389.36 2266.28,2896.09 2287.9,2567.5 2309.52,2420.99 2331.14,2699.73 2352.76,2720.3 \n",
       "  \n",
       "  \"/>\n",
       "<polyline clip-path=\"url(#clip114)\" style=\"stroke:#ee4000; stroke-width:12; stroke-opacity:1; fill:none\" stroke-dasharray=\"48, 30\" points=\"\n",
       "  212.552,2959.79 234.171,2605.74 255.789,2536.45 277.407,2438.99 299.025,2805.94 320.644,2474.46 342.262,2748.9 363.88,2476.11 385.498,2668.6 407.116,2369.01 \n",
       "  428.735,2749.18 450.353,2645.58 471.971,2400.89 493.589,2267.55 515.207,2583.18 536.826,2777 558.444,2691.36 580.062,2263.81 601.68,2579.8 623.299,2808.11 \n",
       "  644.917,2782.17 666.535,2790.46 688.153,2318.64 709.771,2708.04 731.39,2544.96 753.008,2398.68 774.626,2669.63 796.244,2419.99 817.863,2290.64 839.481,2418.86 \n",
       "  861.099,2768.7 882.717,2247.97 904.335,2639.17 925.954,2625.22 947.572,2384.53 969.19,2686.99 990.808,2750.62 1012.43,2618.46 1034.04,2488.62 1055.66,2603.82 \n",
       "  1077.28,2296.71 1098.9,2328.78 1120.52,2719.65 1142.14,2777.66 1163.75,2366.84 1185.37,2560.17 1206.99,2750.57 1228.61,2503.03 1250.23,2785.82 1271.85,2634.06 \n",
       "  1293.46,2269.77 1315.08,2723.11 1336.7,2481.91 1358.32,2671.25 1379.94,2403.31 1401.55,2413.21 1423.17,2184.09 1444.79,2433.13 1466.41,2531.3 1488.03,2378.91 \n",
       "  1509.65,2684.28 1531.26,2791.78 1552.88,2781.36 1574.5,2784.63 1596.12,2657.35 1617.74,2390.08 1639.35,2502.4 1660.97,2559.77 1682.59,2515.61 1704.21,2452.42 \n",
       "  1725.83,2480.16 1747.45,2625.28 1769.06,2847.76 1790.68,2258.23 1812.3,2521.8 1833.92,2639.2 1855.54,2426.21 1877.16,2494.98 1898.77,2628.67 1920.39,2608.63 \n",
       "  1942.01,2620.03 1963.63,2285.41 1985.25,2542.17 2006.86,2346.35 2028.48,2536.03 2050.1,2180.58 2071.72,2658.19 2093.34,2628.63 2114.96,2628.95 2136.57,2298.56 \n",
       "  2158.19,2422.55 2179.81,2757.32 2201.43,2613.91 2223.05,2342 2244.66,2419.75 2266.28,2897.69 2287.9,2565.32 2309.52,2363.62 2331.14,2682.77 2352.76,2715.74 \n",
       "  \n",
       "  \"/>\n",
       "<circle clip-path=\"url(#clip114)\" cx=\"212.552\" cy=\"2944.15\" r=\"18\" fill=\"#808080\" fill-rule=\"evenodd\" fill-opacity=\"0.5\" stroke=\"#000000\" stroke-opacity=\"0.5\" stroke-width=\"4.8\"/>\n",
       "<circle clip-path=\"url(#clip114)\" cx=\"234.171\" cy=\"2592.27\" r=\"18\" fill=\"#808080\" fill-rule=\"evenodd\" fill-opacity=\"0.5\" stroke=\"#000000\" stroke-opacity=\"0.5\" stroke-width=\"4.8\"/>\n",
       "<circle clip-path=\"url(#clip114)\" cx=\"255.789\" cy=\"2549.62\" r=\"18\" fill=\"#808080\" fill-rule=\"evenodd\" fill-opacity=\"0.5\" stroke=\"#000000\" stroke-opacity=\"0.5\" stroke-width=\"4.8\"/>\n",
       "<circle clip-path=\"url(#clip114)\" cx=\"277.407\" cy=\"2381.15\" r=\"18\" fill=\"#808080\" fill-rule=\"evenodd\" fill-opacity=\"0.5\" stroke=\"#000000\" stroke-opacity=\"0.5\" stroke-width=\"4.8\"/>\n",
       "<circle clip-path=\"url(#clip114)\" cx=\"299.025\" cy=\"2877.25\" r=\"18\" fill=\"#808080\" fill-rule=\"evenodd\" fill-opacity=\"0.5\" stroke=\"#000000\" stroke-opacity=\"0.5\" stroke-width=\"4.8\"/>\n",
       "<circle clip-path=\"url(#clip114)\" cx=\"320.644\" cy=\"2508.53\" r=\"18\" fill=\"#808080\" fill-rule=\"evenodd\" fill-opacity=\"0.5\" stroke=\"#000000\" stroke-opacity=\"0.5\" stroke-width=\"4.8\"/>\n",
       "<circle clip-path=\"url(#clip114)\" cx=\"342.262\" cy=\"2739.16\" r=\"18\" fill=\"#808080\" fill-rule=\"evenodd\" fill-opacity=\"0.5\" stroke=\"#000000\" stroke-opacity=\"0.5\" stroke-width=\"4.8\"/>\n",
       "<circle clip-path=\"url(#clip114)\" cx=\"363.88\" cy=\"2478.02\" r=\"18\" fill=\"#808080\" fill-rule=\"evenodd\" fill-opacity=\"0.5\" stroke=\"#000000\" stroke-opacity=\"0.5\" stroke-width=\"4.8\"/>\n",
       "<circle clip-path=\"url(#clip114)\" cx=\"385.498\" cy=\"2659.57\" r=\"18\" fill=\"#808080\" fill-rule=\"evenodd\" fill-opacity=\"0.5\" stroke=\"#000000\" stroke-opacity=\"0.5\" stroke-width=\"4.8\"/>\n",
       "<circle clip-path=\"url(#clip114)\" cx=\"407.116\" cy=\"2352.89\" r=\"18\" fill=\"#808080\" fill-rule=\"evenodd\" fill-opacity=\"0.5\" stroke=\"#000000\" stroke-opacity=\"0.5\" stroke-width=\"4.8\"/>\n",
       "<circle clip-path=\"url(#clip114)\" cx=\"428.735\" cy=\"2782.32\" r=\"18\" fill=\"#808080\" fill-rule=\"evenodd\" fill-opacity=\"0.5\" stroke=\"#000000\" stroke-opacity=\"0.5\" stroke-width=\"4.8\"/>\n",
       "<circle clip-path=\"url(#clip114)\" cx=\"450.353\" cy=\"2711.36\" r=\"18\" fill=\"#808080\" fill-rule=\"evenodd\" fill-opacity=\"0.5\" stroke=\"#000000\" stroke-opacity=\"0.5\" stroke-width=\"4.8\"/>\n",
       "<circle clip-path=\"url(#clip114)\" cx=\"471.971\" cy=\"2409.54\" r=\"18\" fill=\"#808080\" fill-rule=\"evenodd\" fill-opacity=\"0.5\" stroke=\"#000000\" stroke-opacity=\"0.5\" stroke-width=\"4.8\"/>\n",
       "<circle clip-path=\"url(#clip114)\" cx=\"493.589\" cy=\"2253.05\" r=\"18\" fill=\"#808080\" fill-rule=\"evenodd\" fill-opacity=\"0.5\" stroke=\"#000000\" stroke-opacity=\"0.5\" stroke-width=\"4.8\"/>\n",
       "<circle clip-path=\"url(#clip114)\" cx=\"515.207\" cy=\"2590.93\" r=\"18\" fill=\"#808080\" fill-rule=\"evenodd\" fill-opacity=\"0.5\" stroke=\"#000000\" stroke-opacity=\"0.5\" stroke-width=\"4.8\"/>\n",
       "<circle clip-path=\"url(#clip114)\" cx=\"536.826\" cy=\"2762.47\" r=\"18\" fill=\"#808080\" fill-rule=\"evenodd\" fill-opacity=\"0.5\" stroke=\"#000000\" stroke-opacity=\"0.5\" stroke-width=\"4.8\"/>\n",
       "<circle clip-path=\"url(#clip114)\" cx=\"558.444\" cy=\"2710.78\" r=\"18\" fill=\"#808080\" fill-rule=\"evenodd\" fill-opacity=\"0.5\" stroke=\"#000000\" stroke-opacity=\"0.5\" stroke-width=\"4.8\"/>\n",
       "<circle clip-path=\"url(#clip114)\" cx=\"580.062\" cy=\"2208.57\" r=\"18\" fill=\"#808080\" fill-rule=\"evenodd\" fill-opacity=\"0.5\" stroke=\"#000000\" stroke-opacity=\"0.5\" stroke-width=\"4.8\"/>\n",
       "<circle clip-path=\"url(#clip114)\" cx=\"601.68\" cy=\"2595.75\" r=\"18\" fill=\"#808080\" fill-rule=\"evenodd\" fill-opacity=\"0.5\" stroke=\"#000000\" stroke-opacity=\"0.5\" stroke-width=\"4.8\"/>\n",
       "<circle clip-path=\"url(#clip114)\" cx=\"623.299\" cy=\"2842.11\" r=\"18\" fill=\"#808080\" fill-rule=\"evenodd\" fill-opacity=\"0.5\" stroke=\"#000000\" stroke-opacity=\"0.5\" stroke-width=\"4.8\"/>\n",
       "<circle clip-path=\"url(#clip114)\" cx=\"644.917\" cy=\"2720.04\" r=\"18\" fill=\"#808080\" fill-rule=\"evenodd\" fill-opacity=\"0.5\" stroke=\"#000000\" stroke-opacity=\"0.5\" stroke-width=\"4.8\"/>\n",
       "<circle clip-path=\"url(#clip114)\" cx=\"666.535\" cy=\"2817.93\" r=\"18\" fill=\"#808080\" fill-rule=\"evenodd\" fill-opacity=\"0.5\" stroke=\"#000000\" stroke-opacity=\"0.5\" stroke-width=\"4.8\"/>\n",
       "<circle clip-path=\"url(#clip114)\" cx=\"688.153\" cy=\"2312.72\" r=\"18\" fill=\"#808080\" fill-rule=\"evenodd\" fill-opacity=\"0.5\" stroke=\"#000000\" stroke-opacity=\"0.5\" stroke-width=\"4.8\"/>\n",
       "<circle clip-path=\"url(#clip114)\" cx=\"709.771\" cy=\"2724.45\" r=\"18\" fill=\"#808080\" fill-rule=\"evenodd\" fill-opacity=\"0.5\" stroke=\"#000000\" stroke-opacity=\"0.5\" stroke-width=\"4.8\"/>\n",
       "<circle clip-path=\"url(#clip114)\" cx=\"731.39\" cy=\"2568.11\" r=\"18\" fill=\"#808080\" fill-rule=\"evenodd\" fill-opacity=\"0.5\" stroke=\"#000000\" stroke-opacity=\"0.5\" stroke-width=\"4.8\"/>\n",
       "<circle clip-path=\"url(#clip114)\" cx=\"753.008\" cy=\"2399.89\" r=\"18\" fill=\"#808080\" fill-rule=\"evenodd\" fill-opacity=\"0.5\" stroke=\"#000000\" stroke-opacity=\"0.5\" stroke-width=\"4.8\"/>\n",
       "<circle clip-path=\"url(#clip114)\" cx=\"774.626\" cy=\"2718.4\" r=\"18\" fill=\"#808080\" fill-rule=\"evenodd\" fill-opacity=\"0.5\" stroke=\"#000000\" stroke-opacity=\"0.5\" stroke-width=\"4.8\"/>\n",
       "<circle clip-path=\"url(#clip114)\" cx=\"796.244\" cy=\"2416.12\" r=\"18\" fill=\"#808080\" fill-rule=\"evenodd\" fill-opacity=\"0.5\" stroke=\"#000000\" stroke-opacity=\"0.5\" stroke-width=\"4.8\"/>\n",
       "<circle clip-path=\"url(#clip114)\" cx=\"817.863\" cy=\"2275.87\" r=\"18\" fill=\"#808080\" fill-rule=\"evenodd\" fill-opacity=\"0.5\" stroke=\"#000000\" stroke-opacity=\"0.5\" stroke-width=\"4.8\"/>\n",
       "<circle clip-path=\"url(#clip114)\" cx=\"839.481\" cy=\"2409.78\" r=\"18\" fill=\"#808080\" fill-rule=\"evenodd\" fill-opacity=\"0.5\" stroke=\"#000000\" stroke-opacity=\"0.5\" stroke-width=\"4.8\"/>\n",
       "<circle clip-path=\"url(#clip114)\" cx=\"861.099\" cy=\"2784.97\" r=\"18\" fill=\"#808080\" fill-rule=\"evenodd\" fill-opacity=\"0.5\" stroke=\"#000000\" stroke-opacity=\"0.5\" stroke-width=\"4.8\"/>\n",
       "<circle clip-path=\"url(#clip114)\" cx=\"882.717\" cy=\"2212.01\" r=\"18\" fill=\"#808080\" fill-rule=\"evenodd\" fill-opacity=\"0.5\" stroke=\"#000000\" stroke-opacity=\"0.5\" stroke-width=\"4.8\"/>\n",
       "<circle clip-path=\"url(#clip114)\" cx=\"904.335\" cy=\"2660.8\" r=\"18\" fill=\"#808080\" fill-rule=\"evenodd\" fill-opacity=\"0.5\" stroke=\"#000000\" stroke-opacity=\"0.5\" stroke-width=\"4.8\"/>\n",
       "<circle clip-path=\"url(#clip114)\" cx=\"925.954\" cy=\"2604.7\" r=\"18\" fill=\"#808080\" fill-rule=\"evenodd\" fill-opacity=\"0.5\" stroke=\"#000000\" stroke-opacity=\"0.5\" stroke-width=\"4.8\"/>\n",
       "<circle clip-path=\"url(#clip114)\" cx=\"947.572\" cy=\"2376.19\" r=\"18\" fill=\"#808080\" fill-rule=\"evenodd\" fill-opacity=\"0.5\" stroke=\"#000000\" stroke-opacity=\"0.5\" stroke-width=\"4.8\"/>\n",
       "<circle clip-path=\"url(#clip114)\" cx=\"969.19\" cy=\"2680.16\" r=\"18\" fill=\"#808080\" fill-rule=\"evenodd\" fill-opacity=\"0.5\" stroke=\"#000000\" stroke-opacity=\"0.5\" stroke-width=\"4.8\"/>\n",
       "<circle clip-path=\"url(#clip114)\" cx=\"990.808\" cy=\"2713.42\" r=\"18\" fill=\"#808080\" fill-rule=\"evenodd\" fill-opacity=\"0.5\" stroke=\"#000000\" stroke-opacity=\"0.5\" stroke-width=\"4.8\"/>\n",
       "<circle clip-path=\"url(#clip114)\" cx=\"1012.43\" cy=\"2633.68\" r=\"18\" fill=\"#808080\" fill-rule=\"evenodd\" fill-opacity=\"0.5\" stroke=\"#000000\" stroke-opacity=\"0.5\" stroke-width=\"4.8\"/>\n",
       "<circle clip-path=\"url(#clip114)\" cx=\"1034.04\" cy=\"2481.12\" r=\"18\" fill=\"#808080\" fill-rule=\"evenodd\" fill-opacity=\"0.5\" stroke=\"#000000\" stroke-opacity=\"0.5\" stroke-width=\"4.8\"/>\n",
       "<circle clip-path=\"url(#clip114)\" cx=\"1055.66\" cy=\"2593.83\" r=\"18\" fill=\"#808080\" fill-rule=\"evenodd\" fill-opacity=\"0.5\" stroke=\"#000000\" stroke-opacity=\"0.5\" stroke-width=\"4.8\"/>\n",
       "<circle clip-path=\"url(#clip114)\" cx=\"1077.28\" cy=\"2246.73\" r=\"18\" fill=\"#808080\" fill-rule=\"evenodd\" fill-opacity=\"0.5\" stroke=\"#000000\" stroke-opacity=\"0.5\" stroke-width=\"4.8\"/>\n",
       "<circle clip-path=\"url(#clip114)\" cx=\"1098.9\" cy=\"2279.49\" r=\"18\" fill=\"#808080\" fill-rule=\"evenodd\" fill-opacity=\"0.5\" stroke=\"#000000\" stroke-opacity=\"0.5\" stroke-width=\"4.8\"/>\n",
       "<circle clip-path=\"url(#clip114)\" cx=\"1120.52\" cy=\"2814.55\" r=\"18\" fill=\"#808080\" fill-rule=\"evenodd\" fill-opacity=\"0.5\" stroke=\"#000000\" stroke-opacity=\"0.5\" stroke-width=\"4.8\"/>\n",
       "<circle clip-path=\"url(#clip114)\" cx=\"1142.14\" cy=\"2761.09\" r=\"18\" fill=\"#808080\" fill-rule=\"evenodd\" fill-opacity=\"0.5\" stroke=\"#000000\" stroke-opacity=\"0.5\" stroke-width=\"4.8\"/>\n",
       "<circle clip-path=\"url(#clip114)\" cx=\"1163.75\" cy=\"2388.5\" r=\"18\" fill=\"#808080\" fill-rule=\"evenodd\" fill-opacity=\"0.5\" stroke=\"#000000\" stroke-opacity=\"0.5\" stroke-width=\"4.8\"/>\n",
       "<circle clip-path=\"url(#clip114)\" cx=\"1185.37\" cy=\"2666.87\" r=\"18\" fill=\"#808080\" fill-rule=\"evenodd\" fill-opacity=\"0.5\" stroke=\"#000000\" stroke-opacity=\"0.5\" stroke-width=\"4.8\"/>\n",
       "<circle clip-path=\"url(#clip114)\" cx=\"1206.99\" cy=\"2720.14\" r=\"18\" fill=\"#808080\" fill-rule=\"evenodd\" fill-opacity=\"0.5\" stroke=\"#000000\" stroke-opacity=\"0.5\" stroke-width=\"4.8\"/>\n",
       "<circle clip-path=\"url(#clip114)\" cx=\"1228.61\" cy=\"2521.54\" r=\"18\" fill=\"#808080\" fill-rule=\"evenodd\" fill-opacity=\"0.5\" stroke=\"#000000\" stroke-opacity=\"0.5\" stroke-width=\"4.8\"/>\n",
       "<circle clip-path=\"url(#clip114)\" cx=\"1250.23\" cy=\"2804.1\" r=\"18\" fill=\"#808080\" fill-rule=\"evenodd\" fill-opacity=\"0.5\" stroke=\"#000000\" stroke-opacity=\"0.5\" stroke-width=\"4.8\"/>\n",
       "<circle clip-path=\"url(#clip114)\" cx=\"1271.85\" cy=\"2652.55\" r=\"18\" fill=\"#808080\" fill-rule=\"evenodd\" fill-opacity=\"0.5\" stroke=\"#000000\" stroke-opacity=\"0.5\" stroke-width=\"4.8\"/>\n",
       "<circle clip-path=\"url(#clip114)\" cx=\"1293.46\" cy=\"2252.55\" r=\"18\" fill=\"#808080\" fill-rule=\"evenodd\" fill-opacity=\"0.5\" stroke=\"#000000\" stroke-opacity=\"0.5\" stroke-width=\"4.8\"/>\n",
       "<circle clip-path=\"url(#clip114)\" cx=\"1315.08\" cy=\"2709.82\" r=\"18\" fill=\"#808080\" fill-rule=\"evenodd\" fill-opacity=\"0.5\" stroke=\"#000000\" stroke-opacity=\"0.5\" stroke-width=\"4.8\"/>\n",
       "<circle clip-path=\"url(#clip114)\" cx=\"1336.7\" cy=\"2426.8\" r=\"18\" fill=\"#808080\" fill-rule=\"evenodd\" fill-opacity=\"0.5\" stroke=\"#000000\" stroke-opacity=\"0.5\" stroke-width=\"4.8\"/>\n",
       "<circle clip-path=\"url(#clip114)\" cx=\"1358.32\" cy=\"2630.71\" r=\"18\" fill=\"#808080\" fill-rule=\"evenodd\" fill-opacity=\"0.5\" stroke=\"#000000\" stroke-opacity=\"0.5\" stroke-width=\"4.8\"/>\n",
       "<circle clip-path=\"url(#clip114)\" cx=\"1379.94\" cy=\"2385.31\" r=\"18\" fill=\"#808080\" fill-rule=\"evenodd\" fill-opacity=\"0.5\" stroke=\"#000000\" stroke-opacity=\"0.5\" stroke-width=\"4.8\"/>\n",
       "<circle clip-path=\"url(#clip114)\" cx=\"1401.55\" cy=\"2373.45\" r=\"18\" fill=\"#808080\" fill-rule=\"evenodd\" fill-opacity=\"0.5\" stroke=\"#000000\" stroke-opacity=\"0.5\" stroke-width=\"4.8\"/>\n",
       "<circle clip-path=\"url(#clip114)\" cx=\"1423.17\" cy=\"2255.17\" r=\"18\" fill=\"#808080\" fill-rule=\"evenodd\" fill-opacity=\"0.5\" stroke=\"#000000\" stroke-opacity=\"0.5\" stroke-width=\"4.8\"/>\n",
       "<circle clip-path=\"url(#clip114)\" cx=\"1444.79\" cy=\"2428.5\" r=\"18\" fill=\"#808080\" fill-rule=\"evenodd\" fill-opacity=\"0.5\" stroke=\"#000000\" stroke-opacity=\"0.5\" stroke-width=\"4.8\"/>\n",
       "<circle clip-path=\"url(#clip114)\" cx=\"1466.41\" cy=\"2495.24\" r=\"18\" fill=\"#808080\" fill-rule=\"evenodd\" fill-opacity=\"0.5\" stroke=\"#000000\" stroke-opacity=\"0.5\" stroke-width=\"4.8\"/>\n",
       "<circle clip-path=\"url(#clip114)\" cx=\"1488.03\" cy=\"2358.68\" r=\"18\" fill=\"#808080\" fill-rule=\"evenodd\" fill-opacity=\"0.5\" stroke=\"#000000\" stroke-opacity=\"0.5\" stroke-width=\"4.8\"/>\n",
       "<circle clip-path=\"url(#clip114)\" cx=\"1509.65\" cy=\"2685.78\" r=\"18\" fill=\"#808080\" fill-rule=\"evenodd\" fill-opacity=\"0.5\" stroke=\"#000000\" stroke-opacity=\"0.5\" stroke-width=\"4.8\"/>\n",
       "<circle clip-path=\"url(#clip114)\" cx=\"1531.26\" cy=\"2822.59\" r=\"18\" fill=\"#808080\" fill-rule=\"evenodd\" fill-opacity=\"0.5\" stroke=\"#000000\" stroke-opacity=\"0.5\" stroke-width=\"4.8\"/>\n",
       "<circle clip-path=\"url(#clip114)\" cx=\"1552.88\" cy=\"2795.07\" r=\"18\" fill=\"#808080\" fill-rule=\"evenodd\" fill-opacity=\"0.5\" stroke=\"#000000\" stroke-opacity=\"0.5\" stroke-width=\"4.8\"/>\n",
       "<circle clip-path=\"url(#clip114)\" cx=\"1574.5\" cy=\"2794.04\" r=\"18\" fill=\"#808080\" fill-rule=\"evenodd\" fill-opacity=\"0.5\" stroke=\"#000000\" stroke-opacity=\"0.5\" stroke-width=\"4.8\"/>\n",
       "<circle clip-path=\"url(#clip114)\" cx=\"1596.12\" cy=\"2653.79\" r=\"18\" fill=\"#808080\" fill-rule=\"evenodd\" fill-opacity=\"0.5\" stroke=\"#000000\" stroke-opacity=\"0.5\" stroke-width=\"4.8\"/>\n",
       "<circle clip-path=\"url(#clip114)\" cx=\"1617.74\" cy=\"2421.21\" r=\"18\" fill=\"#808080\" fill-rule=\"evenodd\" fill-opacity=\"0.5\" stroke=\"#000000\" stroke-opacity=\"0.5\" stroke-width=\"4.8\"/>\n",
       "<circle clip-path=\"url(#clip114)\" cx=\"1639.35\" cy=\"2535.31\" r=\"18\" fill=\"#808080\" fill-rule=\"evenodd\" fill-opacity=\"0.5\" stroke=\"#000000\" stroke-opacity=\"0.5\" stroke-width=\"4.8\"/>\n",
       "<circle clip-path=\"url(#clip114)\" cx=\"1660.97\" cy=\"2551.06\" r=\"18\" fill=\"#808080\" fill-rule=\"evenodd\" fill-opacity=\"0.5\" stroke=\"#000000\" stroke-opacity=\"0.5\" stroke-width=\"4.8\"/>\n",
       "<circle clip-path=\"url(#clip114)\" cx=\"1682.59\" cy=\"2512.23\" r=\"18\" fill=\"#808080\" fill-rule=\"evenodd\" fill-opacity=\"0.5\" stroke=\"#000000\" stroke-opacity=\"0.5\" stroke-width=\"4.8\"/>\n",
       "<circle clip-path=\"url(#clip114)\" cx=\"1704.21\" cy=\"2457.78\" r=\"18\" fill=\"#808080\" fill-rule=\"evenodd\" fill-opacity=\"0.5\" stroke=\"#000000\" stroke-opacity=\"0.5\" stroke-width=\"4.8\"/>\n",
       "<circle clip-path=\"url(#clip114)\" cx=\"1725.83\" cy=\"2486.18\" r=\"18\" fill=\"#808080\" fill-rule=\"evenodd\" fill-opacity=\"0.5\" stroke=\"#000000\" stroke-opacity=\"0.5\" stroke-width=\"4.8\"/>\n",
       "<circle clip-path=\"url(#clip114)\" cx=\"1747.45\" cy=\"2582.68\" r=\"18\" fill=\"#808080\" fill-rule=\"evenodd\" fill-opacity=\"0.5\" stroke=\"#000000\" stroke-opacity=\"0.5\" stroke-width=\"4.8\"/>\n",
       "<circle clip-path=\"url(#clip114)\" cx=\"1769.06\" cy=\"2888.65\" r=\"18\" fill=\"#808080\" fill-rule=\"evenodd\" fill-opacity=\"0.5\" stroke=\"#000000\" stroke-opacity=\"0.5\" stroke-width=\"4.8\"/>\n",
       "<circle clip-path=\"url(#clip114)\" cx=\"1790.68\" cy=\"2282.65\" r=\"18\" fill=\"#808080\" fill-rule=\"evenodd\" fill-opacity=\"0.5\" stroke=\"#000000\" stroke-opacity=\"0.5\" stroke-width=\"4.8\"/>\n",
       "<circle clip-path=\"url(#clip114)\" cx=\"1812.3\" cy=\"2550.5\" r=\"18\" fill=\"#808080\" fill-rule=\"evenodd\" fill-opacity=\"0.5\" stroke=\"#000000\" stroke-opacity=\"0.5\" stroke-width=\"4.8\"/>\n",
       "<circle clip-path=\"url(#clip114)\" cx=\"1833.92\" cy=\"2614.59\" r=\"18\" fill=\"#808080\" fill-rule=\"evenodd\" fill-opacity=\"0.5\" stroke=\"#000000\" stroke-opacity=\"0.5\" stroke-width=\"4.8\"/>\n",
       "<circle clip-path=\"url(#clip114)\" cx=\"1855.54\" cy=\"2406.82\" r=\"18\" fill=\"#808080\" fill-rule=\"evenodd\" fill-opacity=\"0.5\" stroke=\"#000000\" stroke-opacity=\"0.5\" stroke-width=\"4.8\"/>\n",
       "<circle clip-path=\"url(#clip114)\" cx=\"1877.16\" cy=\"2519.07\" r=\"18\" fill=\"#808080\" fill-rule=\"evenodd\" fill-opacity=\"0.5\" stroke=\"#000000\" stroke-opacity=\"0.5\" stroke-width=\"4.8\"/>\n",
       "<circle clip-path=\"url(#clip114)\" cx=\"1898.77\" cy=\"2624.09\" r=\"18\" fill=\"#808080\" fill-rule=\"evenodd\" fill-opacity=\"0.5\" stroke=\"#000000\" stroke-opacity=\"0.5\" stroke-width=\"4.8\"/>\n",
       "<circle clip-path=\"url(#clip114)\" cx=\"1920.39\" cy=\"2639.36\" r=\"18\" fill=\"#808080\" fill-rule=\"evenodd\" fill-opacity=\"0.5\" stroke=\"#000000\" stroke-opacity=\"0.5\" stroke-width=\"4.8\"/>\n",
       "<circle clip-path=\"url(#clip114)\" cx=\"1942.01\" cy=\"2658.96\" r=\"18\" fill=\"#808080\" fill-rule=\"evenodd\" fill-opacity=\"0.5\" stroke=\"#000000\" stroke-opacity=\"0.5\" stroke-width=\"4.8\"/>\n",
       "<circle clip-path=\"url(#clip114)\" cx=\"1963.63\" cy=\"2261.51\" r=\"18\" fill=\"#808080\" fill-rule=\"evenodd\" fill-opacity=\"0.5\" stroke=\"#000000\" stroke-opacity=\"0.5\" stroke-width=\"4.8\"/>\n",
       "<circle clip-path=\"url(#clip114)\" cx=\"1985.25\" cy=\"2522.78\" r=\"18\" fill=\"#808080\" fill-rule=\"evenodd\" fill-opacity=\"0.5\" stroke=\"#000000\" stroke-opacity=\"0.5\" stroke-width=\"4.8\"/>\n",
       "<circle clip-path=\"url(#clip114)\" cx=\"2006.86\" cy=\"2352.51\" r=\"18\" fill=\"#808080\" fill-rule=\"evenodd\" fill-opacity=\"0.5\" stroke=\"#000000\" stroke-opacity=\"0.5\" stroke-width=\"4.8\"/>\n",
       "<circle clip-path=\"url(#clip114)\" cx=\"2028.48\" cy=\"2566.55\" r=\"18\" fill=\"#808080\" fill-rule=\"evenodd\" fill-opacity=\"0.5\" stroke=\"#000000\" stroke-opacity=\"0.5\" stroke-width=\"4.8\"/>\n",
       "<circle clip-path=\"url(#clip114)\" cx=\"2050.1\" cy=\"2189.71\" r=\"18\" fill=\"#808080\" fill-rule=\"evenodd\" fill-opacity=\"0.5\" stroke=\"#000000\" stroke-opacity=\"0.5\" stroke-width=\"4.8\"/>\n",
       "<circle clip-path=\"url(#clip114)\" cx=\"2071.72\" cy=\"2702.36\" r=\"18\" fill=\"#808080\" fill-rule=\"evenodd\" fill-opacity=\"0.5\" stroke=\"#000000\" stroke-opacity=\"0.5\" stroke-width=\"4.8\"/>\n",
       "<circle clip-path=\"url(#clip114)\" cx=\"2093.34\" cy=\"2660.19\" r=\"18\" fill=\"#808080\" fill-rule=\"evenodd\" fill-opacity=\"0.5\" stroke=\"#000000\" stroke-opacity=\"0.5\" stroke-width=\"4.8\"/>\n",
       "<circle clip-path=\"url(#clip114)\" cx=\"2114.96\" cy=\"2622.08\" r=\"18\" fill=\"#808080\" fill-rule=\"evenodd\" fill-opacity=\"0.5\" stroke=\"#000000\" stroke-opacity=\"0.5\" stroke-width=\"4.8\"/>\n",
       "<circle clip-path=\"url(#clip114)\" cx=\"2136.57\" cy=\"2272.72\" r=\"18\" fill=\"#808080\" fill-rule=\"evenodd\" fill-opacity=\"0.5\" stroke=\"#000000\" stroke-opacity=\"0.5\" stroke-width=\"4.8\"/>\n",
       "<circle clip-path=\"url(#clip114)\" cx=\"2158.19\" cy=\"2450.14\" r=\"18\" fill=\"#808080\" fill-rule=\"evenodd\" fill-opacity=\"0.5\" stroke=\"#000000\" stroke-opacity=\"0.5\" stroke-width=\"4.8\"/>\n",
       "<circle clip-path=\"url(#clip114)\" cx=\"2179.81\" cy=\"2764.4\" r=\"18\" fill=\"#808080\" fill-rule=\"evenodd\" fill-opacity=\"0.5\" stroke=\"#000000\" stroke-opacity=\"0.5\" stroke-width=\"4.8\"/>\n",
       "<circle clip-path=\"url(#clip114)\" cx=\"2201.43\" cy=\"2604\" r=\"18\" fill=\"#808080\" fill-rule=\"evenodd\" fill-opacity=\"0.5\" stroke=\"#000000\" stroke-opacity=\"0.5\" stroke-width=\"4.8\"/>\n",
       "<circle clip-path=\"url(#clip114)\" cx=\"2223.05\" cy=\"2376.72\" r=\"18\" fill=\"#808080\" fill-rule=\"evenodd\" fill-opacity=\"0.5\" stroke=\"#000000\" stroke-opacity=\"0.5\" stroke-width=\"4.8\"/>\n",
       "<circle clip-path=\"url(#clip114)\" cx=\"2244.66\" cy=\"2496.01\" r=\"18\" fill=\"#808080\" fill-rule=\"evenodd\" fill-opacity=\"0.5\" stroke=\"#000000\" stroke-opacity=\"0.5\" stroke-width=\"4.8\"/>\n",
       "<circle clip-path=\"url(#clip114)\" cx=\"2266.28\" cy=\"2798.9\" r=\"18\" fill=\"#808080\" fill-rule=\"evenodd\" fill-opacity=\"0.5\" stroke=\"#000000\" stroke-opacity=\"0.5\" stroke-width=\"4.8\"/>\n",
       "<circle clip-path=\"url(#clip114)\" cx=\"2287.9\" cy=\"2573.4\" r=\"18\" fill=\"#808080\" fill-rule=\"evenodd\" fill-opacity=\"0.5\" stroke=\"#000000\" stroke-opacity=\"0.5\" stroke-width=\"4.8\"/>\n",
       "<circle clip-path=\"url(#clip114)\" cx=\"2309.52\" cy=\"2417.33\" r=\"18\" fill=\"#808080\" fill-rule=\"evenodd\" fill-opacity=\"0.5\" stroke=\"#000000\" stroke-opacity=\"0.5\" stroke-width=\"4.8\"/>\n",
       "<circle clip-path=\"url(#clip114)\" cx=\"2331.14\" cy=\"2653.97\" r=\"18\" fill=\"#808080\" fill-rule=\"evenodd\" fill-opacity=\"0.5\" stroke=\"#000000\" stroke-opacity=\"0.5\" stroke-width=\"4.8\"/>\n",
       "<circle clip-path=\"url(#clip114)\" cx=\"2352.76\" cy=\"2661.07\" r=\"18\" fill=\"#808080\" fill-rule=\"evenodd\" fill-opacity=\"0.5\" stroke=\"#000000\" stroke-opacity=\"0.5\" stroke-width=\"4.8\"/>\n",
       "<polyline clip-path=\"url(#clip114)\" style=\"stroke:#050505; stroke-width:4; stroke-opacity:1; fill:none\" stroke-dasharray=\"16, 10\" points=\"\n",
       "  1293.03,3793.95 1293.03,1373.89 \n",
       "  \"/>\n",
       "<path clip-path=\"url(#clip110)\" d=\"\n",
       "M283.893 2960.37 L846.054 2960.37 L846.054 2657.97 L283.893 2657.97  Z\n",
       "  \" fill=\"#ffffff\" fill-rule=\"evenodd\" fill-opacity=\"1\"/>\n",
       "<polyline clip-path=\"url(#clip110)\" style=\"stroke:#000000; stroke-width:4; stroke-opacity:1; fill:none\" points=\"\n",
       "  283.893,2960.37 846.054,2960.37 846.054,2657.97 283.893,2657.97 283.893,2960.37 \n",
       "  \"/>\n",
       "<polyline clip-path=\"url(#clip110)\" style=\"stroke:#008080; stroke-width:5; stroke-opacity:1; fill:none\" points=\"\n",
       "  307.673,2733.57 450.353,2733.57 \n",
       "  \"/>\n",
       "<g clip-path=\"url(#clip110)\">\n",
       "<text style=\"fill:#000000; fill-opacity:1; font-family:Arial,Helvetica Neue,Helvetica,sans-serif; font-size:59px; text-anchor:start;\" transform=\"rotate(0, 474.133, 2755.07)\" x=\"474.133\" y=\"2755.07\">True</text>\n",
       "</g>\n",
       "<polyline clip-path=\"url(#clip110)\" style=\"stroke:#ee4000; stroke-width:5; stroke-opacity:1; fill:none\" stroke-dasharray=\"20, 13\" points=\"\n",
       "  307.673,2809.17 450.353,2809.17 \n",
       "  \"/>\n",
       "<g clip-path=\"url(#clip110)\">\n",
       "<text style=\"fill:#000000; fill-opacity:1; font-family:Arial,Helvetica Neue,Helvetica,sans-serif; font-size:59px; text-anchor:start;\" transform=\"rotate(0, 474.133, 2830.67)\" x=\"474.133\" y=\"2830.67\">sEnKF</text>\n",
       "</g>\n",
       "<circle clip-path=\"url(#clip110)\" cx=\"379.013\" cy=\"2884.77\" r=\"28\" fill=\"#808080\" fill-rule=\"evenodd\" fill-opacity=\"0.5\" stroke=\"#000000\" stroke-opacity=\"0.5\" stroke-width=\"7.68\"/>\n",
       "<g clip-path=\"url(#clip110)\">\n",
       "<text style=\"fill:#000000; fill-opacity:1; font-family:Arial,Helvetica Neue,Helvetica,sans-serif; font-size:59px; text-anchor:start;\" transform=\"rotate(0, 474.133, 2906.27)\" x=\"474.133\" y=\"2906.27\">Observation</text>\n",
       "</g>\n",
       "</svg>\n"
      ]
     },
     "execution_count": 195,
     "metadata": {},
     "output_type": "execute_result"
    }
   ],
   "source": [
    "nb = 1\n",
    "ne = Tspin+Tsmf\n",
    "Δ = 50\n",
    "plt = plot(layout = grid(3,1), xlim = (-Inf, Inf), ylim = (-Inf, Inf), xlabel = L\"t\", \n",
    "           size = (600, 800))\n",
    "\n",
    "for i =1:3\n",
    "    plot!(plt[i,1], data.tt[nb:Δ:ne], data.xt[i,nb:Δ:ne], linewidth =  3, color = :teal, \n",
    "          ylabel = latexstring(\"x_\"*string(i)), legend = :bottomleft, label = \"True\")\n",
    "    plot!(plt[i,1], data.tt[nb:Δ:ne], mean_hist(vcat(Xenkf[1:Tspin+1], Xsmf[2:end]))[i,1+nb:Δ:1+ne], linewidth = 3, grid = false,\n",
    "          color = :orangered2, linestyle = :dash, label = \"sEnKF\")\n",
    "    scatter!(plt[i,1], data.tt[nb:Δ:ne], data.yt[i,nb:Δ:ne], linewidth = 3, color = :grey, \n",
    "          markersize = 5, alpha = 0.5, label  = \"Observation\")\n",
    "    vline!(plt[i,1], [tspin], color = :grey2, linestyle = :dash, label = \"\")\n",
    "end\n",
    "\n",
    "plt"
   ]
  },
  {
   "cell_type": "code",
   "execution_count": null,
   "metadata": {},
   "outputs": [],
   "source": []
  }
 ],
 "metadata": {
  "kernelspec": {
   "display_name": "Julia 1.5.3",
   "language": "julia",
   "name": "julia-1.5"
  },
  "language_info": {
   "file_extension": ".jl",
   "mimetype": "application/julia",
   "name": "julia",
   "version": "1.5.3"
  }
 },
 "nbformat": 4,
 "nbformat_minor": 2
}
