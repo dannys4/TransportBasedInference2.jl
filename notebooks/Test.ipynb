{
 "cells": [
  {
   "cell_type": "code",
   "execution_count": 9,
   "metadata": {},
   "outputs": [],
   "source": [
    "using Revise\n",
    "using LinearAlgebra\n",
    "using TransportBasedInference\n",
    "import TransportBasedInference: vander, derivative\n",
    "using Statistics\n",
    "using Test\n",
    "using ForwardDiff\n",
    "using QuadGK\n",
    "using SpecialFunctions\n",
    "using BenchmarkTools\n",
    "using Optim"
   ]
  },
  {
   "cell_type": "code",
   "execution_count": 94,
   "metadata": {},
   "outputs": [
    {
     "data": {
      "text/plain": [
       "2×100 Matrix{Float64}:\n",
       " -0.406019    2.72491  -0.348966  …  -0.359244   0.00210553  1.98907\n",
       " -0.0104857  -2.25479   0.362221      0.741739  -0.872246    2.21572"
      ]
     },
     "execution_count": 94,
     "metadata": {},
     "output_type": "execute_result"
    }
   ],
   "source": [
    "Nx = 2\n",
    "Ne = 100\n",
    "\n",
    "X = Matrix([   0.096932076386797  -0.062113573952594\n",
    "   1.504907056818036  -1.270761688825393\n",
    "   0.122588515870727   0.138604054973047\n",
    "   0.095040305032907  -0.097989669097228\n",
    "   0.056360334325948  -0.098106117790437\n",
    "   0.034757567319988  -0.152864122871058\n",
    "   0.260831995265119  -0.564465060524812\n",
    "   0.191690179163063   0.097123146831467\n",
    "   0.131835643270215  -0.303532750891873\n",
    "   0.121404994711150  -0.414223062306829\n",
    "  -0.046027217149733   0.267918560101165\n",
    "   0.222891154723706   0.054734106232808\n",
    "   0.264238681579693  -0.561044970267127\n",
    "   0.021345749974379   0.023020769850203\n",
    "   0.395423632217738  -0.619284581169702\n",
    "   0.231607199656522   0.319089487692097\n",
    "   0.389505867820041   0.572610562725449\n",
    "  -0.146845693861564  -0.007959126279965\n",
    "   0.138489687840940   0.330481872227252\n",
    "   1.617286792209003  -1.272765331253319\n",
    "   0.013078993247482   0.006243503157725\n",
    "   0.304266481947197  -0.508127858160603\n",
    "  -0.134224572142272  -0.057784550290700\n",
    "   0.058245459428341  -0.388163133932979\n",
    "   0.143773871017238  -0.569911233902741\n",
    "  -0.020852128497605   0.159888469685458\n",
    "   0.042924979621615  -0.285726823344180\n",
    "   0.566514904142701  -0.815010017214964\n",
    "   0.022782788493659  -0.468191560991914\n",
    "  -0.072005082647238  -0.139317736738881\n",
    "  -0.088861617714439  -0.042323531263036\n",
    "   0.146019714866274  -0.441835803838725\n",
    "   0.062827433058116   0.255887684932700\n",
    "   0.024887528661752  -0.036316627235643\n",
    "   0.079288422911736   0.009625876863572\n",
    "   0.124929172288805  -0.196711126223702\n",
    "   0.886085483369468   1.012837297288688\n",
    "  -0.062868708331948   0.065147939699519\n",
    "   0.117047537973873  -0.301180703268764\n",
    "   0.147117619773736   0.466610279392604\n",
    "   0.690523534483231   0.722717906410571\n",
    "  -0.110919157441807   0.000008657527041\n",
    "   2.055034349742512   1.423365847218695\n",
    "   0.091130503033388  -0.192933472923564\n",
    "   0.075510323340039   0.075087088602955\n",
    "  -0.181121769738736  -0.158594842114751\n",
    "  -0.080866378396288  -0.081393537160189\n",
    "   0.184561993178819   0.409693133491638\n",
    "  -0.032018126656783   0.040851821749292\n",
    "   0.702808256935611   0.978185567019995\n",
    "  -0.029041940950512   0.097268795862442\n",
    "   1.406479923500753  -1.166340130567743\n",
    "  -0.109758856235453  -0.297180107753266\n",
    "   0.236494055349260   0.548223372779986\n",
    "  -0.108550945852467  -0.097740533128956\n",
    "   0.908726493797006  -0.957752761353643\n",
    "   0.178092997560103  -0.359297653971968\n",
    "   1.103683368372646  -1.064482193617671\n",
    "   1.907065203740822   1.349542162065178\n",
    "   0.523722913693736   0.725695151794695\n",
    "   0.261131020580618   0.576363120484564\n",
    "   0.118044539009197   0.196304662470752\n",
    "   0.289261334786348   0.399639383890177\n",
    "   0.902906400981006  -0.957301599045371\n",
    "  -0.054657884786803  -0.292760625531884\n",
    "  -0.021735291600425   0.029650166664389\n",
    "   0.065200888050752  -0.295894159582647\n",
    "   1.486186253485923  -1.217814186300608\n",
    "   0.889545420155124   0.939789761164950\n",
    "  -0.174386606410644  -0.092037014472893\n",
    "  -0.065037226616579   0.009771974040525\n",
    "   0.074486430996400  -0.287910597788305\n",
    "   0.174336742307535  -0.400464726305446\n",
    "   0.096781997529499  -0.153178844921250\n",
    "   0.796408810115516   0.881930856163525\n",
    "   0.005874471676882   0.067750993468743\n",
    "   0.156654113730103  -0.239182272065197\n",
    "   0.333688106104332  -0.629954291766549\n",
    "   0.086388606764696   0.305488995071947\n",
    "   0.211268899950691  -0.299878322704640\n",
    "   0.104223240397571   0.199354790284364\n",
    "   0.336858958710283  -0.620166113933000\n",
    "   0.145071750152222   0.250136305618056\n",
    "   0.032242317206686  -0.233223578816564\n",
    "   0.064558616046395  -0.007577632839606\n",
    "  -0.055022872335109  -0.190212128003969\n",
    "  -0.169436992810515  -0.206948615170099\n",
    "   0.150088939478557   0.090560438773547\n",
    "   0.256256842094403   0.598874371523965\n",
    "   0.340882741111244  -0.516594535669757\n",
    "   0.278186325120137  -0.547968005821968\n",
    "   0.645979568807173  -0.827959899268083\n",
    "   0.436535833804569   0.689957746461832\n",
    "   0.268437499571141   0.341281325011944\n",
    "   0.120485843238972  -0.301999984465851\n",
    "   0.160365386980321  -0.202012022307596\n",
    "   0.154560496835611   0.244912011403144\n",
    "   0.117966782622546   0.342990099492354\n",
    "   0.280465408470057  -0.526206432878627\n",
    "   1.174002195932550   1.136790584581798]')\n",
    "\n",
    "L = LinearTransform(X)\n",
    "X = transform(L, X)"
   ]
  },
  {
   "cell_type": "code",
   "execution_count": 98,
   "metadata": {},
   "outputs": [
    {
     "name": "stdout",
     "output_type": "stream",
     "text": [
      "1 terms - Training error: 1.4139385336946726\n",
      "2 terms - Training error: 1.3741870432438512\n",
      "3 terms - Training error: 1.3676590216510343\n",
      "4 terms - Training error: 1.3663829278377233\n",
      "5 terms - Training error: 1.3662120454399738\n",
      "6 terms - Training error: 0.6901188472003509\n",
      "7 terms - Training error: 0.6844494738375166\n",
      "8 terms - Training error: 0.6714475018637512\n",
      "9 terms - Training error: 0.656381366167401\n",
      "10 terms - Training error: 0.5990074333088594\n",
      "11 terms - Training error: 0.5745833241885818\n",
      "12 terms - Training error: 0.5718051052781018\n",
      "13 terms - Training error: 0.5086604476639557\n",
      "14 terms - Training error: 0.4647013666938603\n",
      "15 terms - Training error: 0.42869726663323204\n"
     ]
    },
    {
     "data": {
      "text/plain": [
       "(Hermite map component of dimension 2 with Nψ = 15 active features\n",
       ", [1.4139385336946726, 1.3741870432438512, 1.3676590216510343, 1.3663829278377233, 1.3662120454399738, 0.6901188472003509, 0.6844494738375166, 0.6714475018637512, 0.656381366167401, 0.5990074333088594, 0.5745833241885818, 0.5718051052781018, 0.5086604476639557, 0.4647013666938603, 0.42869726663323204])"
      ]
     },
     "execution_count": 98,
     "metadata": {},
     "output_type": "execute_result"
    }
   ],
   "source": [
    "Cgreedy, error = greedyfit(15, 2, X, 15; α = 0.0, withconstant = false, withqr = true, \n",
    "                       verbose = true, hessprecond = true, b = \"ProHermiteBasis\", \n",
    "                       ATMcriterion = \"gradient\")"
   ]
  },
  {
   "cell_type": "code",
   "execution_count": 99,
   "metadata": {},
   "outputs": [
    {
     "data": {
      "text/plain": [
       "15-element Vector{Float64}:\n",
       "   20.217900087301693\n",
       "   -8.01961350081476\n",
       "   -1.7124800559986477\n",
       "   -7.939125389363382\n",
       "  -54.86723235291857\n",
       "  -14.857166704387744\n",
       "   94.9961719029163\n",
       " -121.74410628970645\n",
       "   -0.7894068752715246\n",
       "   -7.5959896606685895\n",
       "   -5.62844362101964\n",
       "  117.40343039444302\n",
       "  -94.39672533813362\n",
       "   45.9178662498112\n",
       "  -23.43324864047079"
      ]
     },
     "execution_count": 99,
     "metadata": {},
     "output_type": "execute_result"
    }
   ],
   "source": [
    "getcoeff(Cgreedy)"
   ]
  },
  {
   "cell_type": "code",
   "execution_count": 97,
   "metadata": {},
   "outputs": [
    {
     "data": {
      "text/plain": [
       "15-element Vector{Float64}:\n",
       "   20.21789752921143\n",
       "   -8.019613403209263\n",
       "   -1.7124799148818175\n",
       "   -7.939125257049629\n",
       "  -54.86722542938704\n",
       "  -14.85716656856331\n",
       "   94.99616033325601\n",
       " -121.74409170134686\n",
       "   -0.789406855098588\n",
       "   -7.595989649264904\n",
       "   -5.628443646891425\n",
       "  117.40341666543806\n",
       "  -94.39671522585878\n",
       "   45.917861102242995\n",
       "  -23.43324675784126"
      ]
     },
     "execution_count": 97,
     "metadata": {},
     "output_type": "execute_result"
    }
   ],
   "source": [
    "getcoeff(Cgreedy)"
   ]
  },
  {
   "cell_type": "code",
   "execution_count": 72,
   "metadata": {},
   "outputs": [
    {
     "data": {
      "text/plain": [
       "10×2 Matrix{Int64}:\n",
       " 0  0\n",
       " 0  1\n",
       " 0  2\n",
       " 1  0\n",
       " 0  3\n",
       " 0  4\n",
       " 2  0\n",
       " 3  0\n",
       " 4  0\n",
       " 5  0"
      ]
     },
     "execution_count": 72,
     "metadata": {},
     "output_type": "execute_result"
    }
   ],
   "source": [
    "getidx(Cgreedy)"
   ]
  },
  {
   "cell_type": "code",
   "execution_count": 1,
   "metadata": {},
   "outputs": [],
   "source": [
    "using Quadrature\n",
    "using FiniteDiff"
   ]
  },
  {
   "cell_type": "code",
   "execution_count": 19,
   "metadata": {},
   "outputs": [
    {
     "data": {
      "text/plain": [
       "5-element Vector{Float64}:\n",
       " -0.1414059496901134\n",
       "  0.06554702017216447\n",
       "  0.11996441062743704\n",
       "  0.19136543900832087\n",
       " -0.03755062700517496"
      ]
     },
     "execution_count": 19,
     "metadata": {},
     "output_type": "execute_result"
    }
   ],
   "source": [
    "dJ"
   ]
  },
  {
   "cell_type": "code",
   "execution_count": 20,
   "metadata": {},
   "outputs": [
    {
     "data": {
      "text/plain": [
       "5-element Vector{Float64}:\n",
       " -0.1414059496901135\n",
       "  0.06554702017216443\n",
       "  0.11996441062743703\n",
       "  0.1913654390083209\n",
       " -0.03755062700517496"
      ]
     },
     "execution_count": 20,
     "metadata": {},
     "output_type": "execute_result"
    }
   ],
   "source": [
    "dJt"
   ]
  },
  {
   "cell_type": "code",
   "execution_count": 21,
   "metadata": {},
   "outputs": [
    {
     "data": {
      "text/plain": [
       "0.0"
      ]
     },
     "execution_count": 21,
     "metadata": {},
     "output_type": "execute_result"
    }
   ],
   "source": [
    "J - Jt"
   ]
  },
  {
   "cell_type": "code",
   "execution_count": 78,
   "metadata": {},
   "outputs": [
    {
     "data": {
      "text/plain": [
       "2-element Vector{Float64}:\n",
       " 0.0\n",
       " 0.0"
      ]
     },
     "execution_count": 78,
     "metadata": {},
     "output_type": "execute_result"
    }
   ],
   "source": [
    "idx = Int64[0 0; 0 1]\n",
    "coeff = [0.5; 2.5]\n",
    "B = MultiBasis(ProHermiteBasis(8), 2)\n",
    "f = ExpandedFunction(B, idx, coeff)\n",
    "\n",
    "C = HermiteMapComponent(IntegratedFunction(f); α = 0.0)\n",
    "\n",
    "S = Storage(C.I.f, X)\n",
    "dJ = zero(coeff)"
   ]
  },
  {
   "cell_type": "code",
   "execution_count": 76,
   "metadata": {},
   "outputs": [
    {
     "data": {
      "text/plain": [
       "1.7720027730821357"
      ]
     },
     "execution_count": 76,
     "metadata": {},
     "output_type": "execute_result"
    }
   ],
   "source": [
    "negative_log_likelihood!(0.0, dJ, getcoeff(C), S, C, X)"
   ]
  },
  {
   "cell_type": "code",
   "execution_count": 90,
   "metadata": {},
   "outputs": [
    {
     "data": {
      "text/plain": [
       "0.0"
      ]
     },
     "execution_count": 90,
     "metadata": {},
     "output_type": "execute_result"
    }
   ],
   "source": [
    "Cgreedy.α"
   ]
  },
  {
   "cell_type": "code",
   "execution_count": 91,
   "metadata": {},
   "outputs": [
    {
     "data": {
      "text/plain": [
       "10-element Vector{Float64}:\n",
       "  -0.5584937190725165\n",
       "  -2.9176140126920087\n",
       "  -1.3416853054813638\n",
       "  -5.416672389413758\n",
       "   0.40706325732755566\n",
       " -12.288830115275893\n",
       "   0.2308484864439273\n",
       "   0.7673187509503907\n",
       "  -0.5871423635120507\n",
       "  -5.90140374832082"
      ]
     },
     "execution_count": 91,
     "metadata": {},
     "output_type": "execute_result"
    }
   ],
   "source": [
    "getcoeff(Cgreedy)"
   ]
  },
  {
   "cell_type": "code",
   "execution_count": 92,
   "metadata": {},
   "outputs": [
    {
     "data": {
      "text/plain": [
       "10×2 Matrix{Int64}:\n",
       " 0  0\n",
       " 0  1\n",
       " 0  2\n",
       " 0  3\n",
       " 1  0\n",
       " 1  1\n",
       " 2  0\n",
       " 3  0\n",
       " 0  4\n",
       " 0  5"
      ]
     },
     "execution_count": 92,
     "metadata": {},
     "output_type": "execute_result"
    }
   ],
   "source": [
    "getidx(Cgreedy)"
   ]
  },
  {
   "cell_type": "markdown",
   "metadata": {},
   "source": [
    "\n",
    "https://math.stackexchange.com/questions/2753316/generating-a-random-tridiagonal-symmetric-positive-definite-matrix"
   ]
  },
  {
   "cell_type": "code",
   "execution_count": 11,
   "metadata": {},
   "outputs": [
    {
     "data": {
      "text/plain": [
       "triposdef (generic function with 1 method)"
      ]
     },
     "execution_count": 11,
     "metadata": {},
     "output_type": "execute_result"
    }
   ],
   "source": [
    "function triposdef(N)\n",
    "#     The function generates a random tridiagonal symmetric \n",
    "#     positive definite N by N matrix;\n",
    "    b = randn(N-1);\n",
    "    a = [abs.(b); 0] + [0; abs.(b)] + abs.(randn(N));\n",
    "    return SymTridiagonal(a, b)\n",
    "end"
   ]
  },
  {
   "cell_type": "code",
   "execution_count": 12,
   "metadata": {},
   "outputs": [
    {
     "data": {
      "text/plain": [
       "FullNormal(\n",
       "dim: 10\n",
       "μ: [0.0, 0.0, 0.0, 0.0, 0.0, 0.0, 0.0, 0.0, 0.0, 0.0]\n",
       "Σ: [1.799977726910084 -1.2710031277547527 … 0.0 0.0; -1.2710031277547527 1.9998142504744736 … 0.0 0.0; … ; 0.0 0.0 … 2.5363048299449256 0.48736717774054455; 0.0 0.0 … 0.48736717774054455 1.0588573538383155]\n",
       ")\n"
      ]
     },
     "execution_count": 12,
     "metadata": {},
     "output_type": "execute_result"
    }
   ],
   "source": [
    "Nx = 10\n",
    "Ne = 5000\n",
    "\n",
    "Σ = Matrix(triposdef(10))\n",
    "L = cholesky(Σ)\n",
    "πX = MvNormal(zeros(Nx), Σ)"
   ]
  },
  {
   "cell_type": "code",
   "execution_count": 13,
   "metadata": {},
   "outputs": [
    {
     "data": {
      "text/plain": [
       "10×5000 Matrix{Float64}:\n",
       " -1.75605    0.298408   2.43454   …   1.18959    0.801588  -0.521807\n",
       "  2.20878   -0.740353  -0.561104     -0.234028  -1.66734    1.11025\n",
       " -1.09635    0.580696  -0.233264      0.508054  -0.200635  -1.20261\n",
       " -1.83717   -2.99501   -1.29036      -1.58589    0.681297  -2.36063\n",
       " -1.76587   -3.7907    -1.17588      -1.72831    2.37607   -0.841539\n",
       "  1.4299     1.64954    1.45144   …  -0.648666   1.56303    0.465264\n",
       " -2.23947    1.35618   -0.22         -0.744631   1.48166    1.15091\n",
       " -1.20777   -1.33091   -0.521699      0.908563   4.51627   -0.449185\n",
       "  0.679797   3.18355    0.331697     -0.623694  -4.2661     0.0234081\n",
       " -2.05359    1.43926   -0.901756     -0.461244  -1.45512    0.894178"
      ]
     },
     "execution_count": 13,
     "metadata": {},
     "output_type": "execute_result"
    }
   ],
   "source": [
    "X = rand(πX, Ne)\n",
    "\n",
    "# X = randn(Nx, Ne).^2 + randn(Nx, Ne) .+ randn(Nx) "
   ]
  },
  {
   "cell_type": "code",
   "execution_count": 14,
   "metadata": {},
   "outputs": [],
   "source": [
    "m = 30\n",
    "S = HermiteMap(m, X; diag = true, α = 1.0e-6);"
   ]
  },
  {
   "cell_type": "code",
   "execution_count": null,
   "metadata": {
    "scrolled": true
   },
   "outputs": [
    {
     "name": "stdout",
     "output_type": "stream",
     "text": [
      "1 terms - Training error: 1.4257098434228967, Validation error: 1.3913532923317804\n",
      "1 terms - Training error: 1.4256733068002376, Validation error: 1.3916432870646374\n",
      "2 terms - Training error: 1.4255491922986974, Validation error: 1.3925698118714243\n",
      "3 terms - Training error: 1.4255230381317743, Validation error: 1.3925594084936477\n",
      "4 terms - Training error: 1.4255197967201538, Validation error: 1.3925713761289107\n",
      "5 terms - Training error: 1.4253744038483513, Validation error: 1.3928854697970259\n",
      "6 terms - Training error: 1.4253062996106198, Validation error: 1.3931294254101632\n",
      "7 terms - Training error: 1.4248595737160783, Validation error: 1.3930254685742784\n",
      "8 terms - Training error: 1.424859317985886, Validation error: 1.3930332957952023\n",
      "9 terms - Training error: 1.4248526395729084, Validation error: 1.3927125536719844\n",
      "10 terms - Training error: 1.4248486460359884, Validation error: 1.3928083920524383\n",
      "11 terms - Training error: 1.4248436398881796, Validation error: 1.3928219345019868\n",
      "12 terms - Training error: 1.4248330573092203, Validation error: 1.3929326406093485\n",
      "13 terms - Training error: 1.4248087055972152, Validation error: 1.3932754033675352\n",
      "14 terms - Training error: 1.4248085159489738, Validation error: 1.3932485943281956\n",
      "15 terms - Training error: 1.4247949435275193, Validation error: 1.3933421389341263\n",
      "16 terms - Training error: 1.424794071584741, Validation error: 1.3933938840444873\n",
      "17 terms - Training error: 1.4247931143036616, Validation error: 1.3934281559976516\n",
      "18 terms - Training error: 1.4247502671737342, Validation error: 1.3933776677706817\n",
      "19 terms - Training error: 1.4247275133001334, Validation error: 1.3935712434468617\n",
      "20 terms - Training error: 1.4245960254849135, Validation error: 1.3929492504643752\n",
      "21 terms - Training error: 1.4245571650071744, Validation error: 1.392940375175339\n",
      "22 terms - Training error: 1.4244897295080587, Validation error: 1.3926060813953112\n",
      "23 terms - Training error: 1.4244451026948803, Validation error: 1.3924953909611624\n",
      "24 terms - Training error: 1.4244420571903684, Validation error: 1.3924989513525148\n",
      "25 terms - Training error: 1.4244188367367947, Validation error: 1.3924665427535616\n",
      "26 terms - Training error: 1.4242986993230131, Validation error: 1.3922796272460685\n",
      "27 terms - Training error: 1.4242983014357744, Validation error: 1.3922875825925285\n",
      "28 terms - Training error: 1.4240801822146882, Validation error: 1.3920906227391585\n",
      "29 terms - Training error: 1.4240686603983426, Validation error: 1.3920409218702123\n",
      "1 terms - Training error: 1.4136890229055252, Validation error: 1.439436574401266\n",
      "1 terms - Training error: 1.413630927233321, Validation error: 1.440008476938002\n",
      "2 terms - Training error: 1.413621115247448, Validation error: 1.4401504863777337\n",
      "3 terms - Training error: 1.413425236654626, Validation error: 1.4412429133599347\n",
      "4 terms - Training error: 1.4134248661514996, Validation error: 1.4412512533840998\n",
      "5 terms - Training error: 1.4134239959982942, Validation error: 1.4413361174076051\n",
      "6 terms - Training error: 1.4132832303168918, Validation error: 1.4421410492597617\n",
      "7 terms - Training error: 1.4128415197405597, Validation error: 1.4422007846488059\n",
      "8 terms - Training error: 1.4127834521732723, Validation error: 1.4427175924319153\n",
      "9 terms - Training error: 1.412313713871203, Validation error: 1.4438061908253148\n",
      "10 terms - Training error: 1.412304265002299, Validation error: 1.443957425361358\n",
      "11 terms - Training error: 1.4123019503561063, Validation error: 1.4439498317624553\n",
      "12 terms - Training error: 1.4122917323156432, Validation error: 1.4440348829699765\n",
      "13 terms - Training error: 1.4122817826127452, Validation error: 1.4440175661340997\n",
      "14 terms - Training error: 1.4122669483159265, Validation error: 1.4439058444292467\n",
      "15 terms - Training error: 1.4122668191558683, Validation error: 1.4439063413161923\n",
      "16 terms - Training error: 1.4122667285389903, Validation error: 1.4438942391055454\n",
      "17 terms - Training error: 1.4122658461288997, Validation error: 1.4438885172466318\n",
      "18 terms - Training error: 1.412220066132508, Validation error: 1.443867037053771\n",
      "19 terms - Training error: 1.4122142498583181, Validation error: 1.443891168439636\n",
      "20 terms - Training error: 1.4120761311233163, Validation error: 1.443414449562385\n",
      "21 terms - Training error: 1.4120139876599607, Validation error: 1.4435750696851493\n",
      "22 terms - Training error: 1.411947171256026, Validation error: 1.4433059888009223\n",
      "23 terms - Training error: 1.4118366024956652, Validation error: 1.4436468446922242\n",
      "24 terms - Training error: 1.4118308371861032, Validation error: 1.4436769961054794\n",
      "25 terms - Training error: 1.411759279565022, Validation error: 1.4440078059184658\n",
      "26 terms - Training error: 1.4116351030852945, Validation error: 1.4439311641499686\n",
      "27 terms - Training error: 1.4116321635435558, Validation error: 1.4439705249038837\n",
      "28 terms - Training error: 1.411407355984704, Validation error: 1.4438974771359103\n",
      "29 terms - Training error: 1.4113900950509979, Validation error: 1.4439157975896955\n",
      "1 terms - Training error: 1.4135520696430446, Validation error: 1.4399843874511875\n",
      "1 terms - Training error: 1.4135056670648825, Validation error: 1.440357416482071\n",
      "2 terms - Training error: 1.413432387178676, Validation error: 1.4411627839848278\n",
      "3 terms - Training error: 1.413337825830275, Validation error: 1.4425040786981354\n",
      "4 terms - Training error: 1.4132944427718832, Validation error: 1.4429405523868741\n",
      "5 terms - Training error: 1.4132037855415165, Validation error: 1.4429508459228244\n",
      "6 terms - Training error: 1.4131222922512927, Validation error: 1.4432796510629675\n",
      "7 terms - Training error: 1.4128220416912374, Validation error: 1.442600746103791\n",
      "8 terms - Training error: 1.4128060142686298, Validation error: 1.4427877924935353\n",
      "9 terms - Training error: 1.4126152903091784, Validation error: 1.4424721940273113\n",
      "10 terms - Training error: 1.4126136363372226, Validation error: 1.442470952296924\n",
      "11 terms - Training error: 1.4126128042569883, Validation error: 1.442478009005869\n",
      "12 terms - Training error: 1.4126046830103725, Validation error: 1.4425703903878682\n",
      "13 terms - Training error: 1.4125915390931911, Validation error: 1.442578033038657\n",
      "14 terms - Training error: 1.4124141105609913, Validation error: 1.4433772725118645\n",
      "15 terms - Training error: 1.412413537053826, Validation error: 1.4433799975506303\n",
      "16 terms - Training error: 1.412276200642283, Validation error: 1.4441556198100398\n",
      "17 terms - Training error: 1.4122687746038556, Validation error: 1.4441651234469548\n",
      "18 terms - Training error: 1.412248330225869, Validation error: 1.44405372652834\n",
      "19 terms - Training error: 1.412247917185632, Validation error: 1.4440620211849773\n",
      "20 terms - Training error: 1.4119894396252524, Validation error: 1.4440923271276584\n",
      "21 terms - Training error: 1.411983360083976, Validation error: 1.444016134432507\n",
      "22 terms - Training error: 1.411823517202678, Validation error: 1.4441525296967486\n",
      "23 terms - Training error: 1.4118201616463795, Validation error: 1.4440550204649785\n",
      "24 terms - Training error: 1.4118193081034218, Validation error: 1.4440492291329527\n",
      "25 terms - Training error: 1.4118189982558274, Validation error: 1.4440787460240658\n",
      "26 terms - Training error: 1.4116395834077702, Validation error: 1.4441949718243423\n",
      "27 terms - Training error: 1.411628023434117, Validation error: 1.4442896976048258\n",
      "28 terms - Training error: 1.4112994303582287, Validation error: 1.4446444382883357\n",
      "29 terms - Training error: 1.4112831507734203, Validation error: 1.4446175640622714\n",
      "1 terms - Training error: 1.4187691908888023, Validation error: 1.4191159024681566\n",
      "1 terms - Training error: 1.4187472163485855, Validation error: 1.4192832993025915\n",
      "2 terms - Training error: 1.418742032815892, Validation error: 1.4192914586295526\n",
      "3 terms - Training error: 1.4186942408797416, Validation error: 1.4193850390029268\n",
      "4 terms - Training error: 1.4186705559735553, Validation error: 1.4195495426649818\n",
      "5 terms - Training error: 1.4185134048793067, Validation error: 1.4199320099618093\n",
      "6 terms - Training error: 1.4185053361740916, Validation error: 1.4201306676186367\n",
      "7 terms - Training error: 1.4181281664042789, Validation error: 1.4197840817590177\n",
      "8 terms - Training error: 1.4181062396778468, Validation error: 1.4199300349292678\n"
     ]
    },
    {
     "name": "stdout",
     "output_type": "stream",
     "text": [
      "9 terms - Training error: 1.417715544640641, Validation error: 1.4205950828796516\n",
      "10 terms - Training error: 1.417715544514099, Validation error: 1.420595279728204\n",
      "11 terms - Training error: 1.417715338128322, Validation error: 1.4205954863156138\n",
      "12 terms - Training error: 1.4177134872914066, Validation error: 1.4206215032279492\n",
      "13 terms - Training error: 1.4176831389367563, Validation error: 1.4207307757759111\n",
      "14 terms - Training error: 1.4176202927628583, Validation error: 1.4208185005435083\n",
      "15 terms - Training error: 1.417619955655151, Validation error: 1.4208192594411457\n",
      "16 terms - Training error: 1.4175951855353468, Validation error: 1.4208395088558121\n",
      "17 terms - Training error: 1.417573461027722, Validation error: 1.42095279024003\n",
      "18 terms - Training error: 1.417521078544612, Validation error: 1.4209572703335467\n",
      "19 terms - Training error: 1.4175207193393844, Validation error: 1.4209672958703865\n",
      "20 terms - Training error: 1.417261942228479, Validation error: 1.4209978391424865\n",
      "21 terms - Training error: 1.4172063688987129, Validation error: 1.421082867872122\n",
      "22 terms - Training error: 1.4170502451743752, Validation error: 1.4211887642374585\n",
      "23 terms - Training error: 1.4169078324133464, Validation error: 1.4216384659503025\n",
      "24 terms - Training error: 1.416906325233832, Validation error: 1.421669769812337\n",
      "25 terms - Training error: 1.41680346464809, Validation error: 1.4221265329275816\n",
      "26 terms - Training error: 1.4167563525101892, Validation error: 1.4217689211073912\n",
      "27 terms - Training error: 1.416746903590956, Validation error: 1.4218706015994402\n",
      "28 terms - Training error: 1.4166674771177614, Validation error: 1.421276506605996\n",
      "29 terms - Training error: 1.4166555885644991, Validation error: 1.4212289662389341\n",
      "1 terms - Training error: 1.4224725391630972, Validation error: 1.4043025093709758\n",
      "1 terms - Training error: 1.4224279024413342, Validation error: 1.4047478050600375\n",
      "2 terms - Training error: 1.422385593225141, Validation error: 1.405016841354152\n",
      "3 terms - Training error: 1.4223214016671903, Validation error: 1.4051991097684153\n",
      "4 terms - Training error: 1.4222849025531243, Validation error: 1.405470178760048\n",
      "5 terms - Training error: 1.422223188383077, Validation error: 1.405369219514017\n",
      "6 terms - Training error: 1.4222140049569945, Validation error: 1.4055880518449115\n",
      "7 terms - Training error: 1.4218650231987122, Validation error: 1.4050735531413219\n",
      "8 terms - Training error: 1.4218643671881939, Validation error: 1.405087366461084\n",
      "9 terms - Training error: 1.421642609727359, Validation error: 1.4049075098626693\n",
      "10 terms - Training error: 1.4216008438831838, Validation error: 1.405173147489764\n",
      "11 terms - Training error: 1.4215965191420088, Validation error: 1.4052095913209817\n",
      "12 terms - Training error: 1.4214734615660607, Validation error: 1.40618778685027\n",
      "13 terms - Training error: 1.4214206545106909, Validation error: 1.4064415548980025\n",
      "14 terms - Training error: 1.4214129775669084, Validation error: 1.4063391253306339\n",
      "15 terms - Training error: 1.4214077050946867, Validation error: 1.406396612983333\n",
      "16 terms - Training error: 1.4213991092025644, Validation error: 1.4063416713277164\n",
      "17 terms - Training error: 1.4213989515401577, Validation error: 1.4063354057654143\n",
      "18 terms - Training error: 1.421360016657967, Validation error: 1.4062981242900563\n",
      "19 terms - Training error: 1.4213581055315623, Validation error: 1.4063012589354984\n",
      "20 terms - Training error: 1.4211865847793888, Validation error: 1.405979641125398\n",
      "21 terms - Training error: 1.421169679353808, Validation error: 1.4059075189823802\n",
      "22 terms - Training error: 1.4210990510764274, Validation error: 1.405664196503122\n",
      "23 terms - Training error: 1.4210851985100592, Validation error: 1.4055328536919294\n",
      "24 terms - Training error: 1.4210747099692118, Validation error: 1.4055890427259052\n",
      "25 terms - Training error: 1.4210747028403157, Validation error: 1.4055852832204467\n",
      "26 terms - Training error: 1.4209095971434433, Validation error: 1.4056643177773909\n",
      "27 terms - Training error: 1.4208802694868616, Validation error: 1.4058984244497368\n",
      "28 terms - Training error: 1.420656349673013, Validation error: 1.4057627585091044\n"
     ]
    },
    {
     "name": "stderr",
     "output_type": "stream",
     "text": [
      "\r",
      "\u001b[32mProgress:  10%|████▏                                    |  ETA: 0:28:24\u001b[39m"
     ]
    },
    {
     "name": "stdout",
     "output_type": "stream",
     "text": [
      "29 terms - Training error: 1.4205664391983528, Validation error: 1.4061535590839918\n",
      "1 terms - Training error: 1.4188385332046731\n",
      "1 terms - Training error: 1.4188381130883905\n",
      "1 terms - Training error: 1.42758558492703, Validation error: 1.3838503263152329\n",
      "1 terms - Training error: 1.427573360466653, Validation error: 1.3838310723152085\n",
      "2 terms - Training error: 1.4275096801562681, Validation error: 1.3846525929699591\n",
      "3 terms - Training error: 1.4268148805042749, Validation error: 1.3860338090258206\n",
      "4 terms - Training error: 1.4266789853783826, Validation error: 1.3867566390003643\n",
      "5 terms - Training error: 1.1934275142580513, Validation error: 1.1640201277831865\n",
      "6 terms - Training error: 1.184112163895137, Validation error: 1.1588979908972432\n",
      "7 terms - Training error: 1.1840489637109894, Validation error: 1.1590364689077535\n",
      "8 terms - Training error: 1.1832842771431182, Validation error: 1.1583192859032534\n",
      "9 terms - Training error: 1.1831467559111826, Validation error: 1.1597501826390548\n",
      "10 terms - Training error: 1.1399030791763278, Validation error: 1.0998247636787482\n",
      "11 terms - Training error: 1.1398824968527193, Validation error: 1.0997203131554747\n",
      "12 terms - Training error: 1.1394124658210842, Validation error: 1.0990069994386493\n",
      "13 terms - Training error: 1.139182199581359, Validation error: 1.0999659758834097\n",
      "14 terms - Training error: 1.139119938600934, Validation error: 1.1008536522946792\n",
      "15 terms - Training error: 1.1315747510348482, Validation error: 1.0915899665187923\n",
      "16 terms - Training error: 1.1315546436899326, Validation error: 1.0916229636507513\n",
      "17 terms - Training error: 1.1315220454575166, Validation error: 1.0918026290158134\n",
      "18 terms - Training error: 1.13143025364795, Validation error: 1.0915348269370775\n",
      "19 terms - Training error: 1.1313949946974335, Validation error: 1.0918578921570097\n",
      "20 terms - Training error: 1.1291450305527388, Validation error: 1.0876940019724954\n",
      "21 terms - Training error: 1.129076579069362, Validation error: 1.0883647194160382\n",
      "22 terms - Training error: 1.1289891227742368, Validation error: 1.0886004648996694\n",
      "23 terms - Training error: 1.1289667527714977, Validation error: 1.088724948564173\n",
      "24 terms - Training error: 1.128904058680868, Validation error: 1.089615418172432\n",
      "25 terms - Training error: 1.1288387026306124, Validation error: 1.089645508137093\n",
      "26 terms - Training error: 1.1286257194158684, Validation error: 1.0896207412689622\n",
      "27 terms - Training error: 1.1286047142152684, Validation error: 1.089968139829081\n",
      "28 terms - Training error: 1.1282613585176897, Validation error: 1.0900291510375495\n",
      "29 terms - Training error: 1.1282520774379579, Validation error: 1.089854545196665\n",
      "1 terms - Training error: 1.4098494503993506, Validation error: 1.4547948644259514\n",
      "1 terms - Training error: 1.4097164849999118, Validation error: 1.455564445593682\n",
      "2 terms - Training error: 1.4096197991699642, Validation error: 1.456129581373058\n",
      "3 terms - Training error: 1.4093401114159096, Validation error: 1.4577812012792035\n",
      "4 terms - Training error: 1.1816452523994838, Validation error: 1.2129998767901893\n",
      "5 terms - Training error: 1.1813747993855368, Validation error: 1.212351229449455\n",
      "6 terms - Training error: 1.14426911426408, Validation error: 1.1737343790305161\n",
      "7 terms - Training error: 1.1441407238341825, Validation error: 1.1755125182370518\n",
      "8 terms - Training error: 1.1404884253784358, Validation error: 1.1641694647289877\n",
      "9 terms - Training error: 1.140426662874856, Validation error: 1.165491505768602\n",
      "10 terms - Training error: 1.1383284164828045, Validation error: 1.1653397781261112\n",
      "11 terms - Training error: 1.1383068468511597, Validation error: 1.1660696211592\n",
      "12 terms - Training error: 1.11984253032824, Validation error: 1.153178225281605\n",
      "13 terms - Training error: 1.1196910233593893, Validation error: 1.1533601088228376\n",
      "14 terms - Training error: 1.1193908447695984, Validation error: 1.1527483421018978\n",
      "15 terms - Training error: 1.119322860293411, Validation error: 1.1527022208267519\n",
      "16 terms - Training error: 1.1192896965879542, Validation error: 1.1531154386638096\n",
      "17 terms - Training error: 1.1190710387922056, Validation error: 1.153928454221411\n",
      "18 terms - Training error: 1.116345802415557, Validation error: 1.1493477801557002\n",
      "19 terms - Training error: 1.1157382993209786, Validation error: 1.147078463050406\n",
      "20 terms - Training error: 1.1155933890293728, Validation error: 1.1462892418753494\n",
      "21 terms - Training error: 1.1145751578388587, Validation error: 1.147331646146956\n",
      "22 terms - Training error: 1.1145371151746448, Validation error: 1.147748920486305\n",
      "23 terms - Training error: 1.1145180895270648, Validation error: 1.1476793518319452\n",
      "24 terms - Training error: 1.113746914815953, Validation error: 1.1477503525126134\n",
      "25 terms - Training error: 1.113718408538051, Validation error: 1.1482033543836705\n",
      "26 terms - Training error: 1.1137161403399516, Validation error: 1.1483259419191214\n",
      "27 terms - Training error: 1.1137033262311624, Validation error: 1.148325774298279\n",
      "28 terms - Training error: 1.1137005011637326, Validation error: 1.1484899010043832\n",
      "29 terms - Training error: 1.113691470218364, Validation error: 1.1482481802517204\n",
      "1 terms - Training error: 1.4105609967705055, Validation error: 1.451948678941333\n",
      "1 terms - Training error: 1.4104819501083474, Validation error: 1.4529872554552619\n",
      "2 terms - Training error: 1.4102194914759285, Validation error: 1.4548640640320791\n",
      "3 terms - Training error: 1.4097058014784152, Validation error: 1.45537082426795\n",
      "4 terms - Training error: 1.4091886713566226, Validation error: 1.4591105463018166\n",
      "5 terms - Training error: 1.1757096354758378, Validation error: 1.2366820119954678\n",
      "6 terms - Training error: 1.1682827078896105, Validation error: 1.2241411906527149\n",
      "7 terms - Training error: 1.1681161140822387, Validation error: 1.2249220490848454\n",
      "8 terms - Training error: 1.1673662639057278, Validation error: 1.2242093772720755\n",
      "9 terms - Training error: 1.1672070646075448, Validation error: 1.225813314709171\n",
      "10 terms - Training error: 1.124917664162487, Validation error: 1.1606562986413085\n",
      "11 terms - Training error: 1.1246219396602752, Validation error: 1.1623313131860618\n",
      "12 terms - Training error: 1.1156047509525442, Validation error: 1.1612497068825345\n",
      "13 terms - Training error: 1.1155702522757642, Validation error: 1.1614583261815647\n",
      "14 terms - Training error: 1.1138771376479615, Validation error: 1.1561575539200988\n",
      "15 terms - Training error: 1.1138098955976194, Validation error: 1.1563386452131317\n",
      "16 terms - Training error: 1.1127975143869746, Validation error: 1.1550491138679044\n",
      "17 terms - Training error: 1.112785297891888, Validation error: 1.1551537728719687\n",
      "18 terms - Training error: 1.1127282477416816, Validation error: 1.155004833796252\n",
      "19 terms - Training error: 1.1125901674450498, Validation error: 1.154295502995505\n",
      "20 terms - Training error: 1.1122768253395192, Validation error: 1.1539553066947166\n",
      "21 terms - Training error: 1.111880939181666, Validation error: 1.153002141087107\n",
      "22 terms - Training error: 1.1116572638489168, Validation error: 1.1537160754706266\n",
      "23 terms - Training error: 1.1116375585260447, Validation error: 1.1535775925370728\n",
      "24 terms - Training error: 1.1116244750562467, Validation error: 1.1535526202205326\n",
      "25 terms - Training error: 1.1116038561734671, Validation error: 1.1532642299883145\n",
      "26 terms - Training error: 1.1115435466135297, Validation error: 1.1535502396473603\n",
      "27 terms - Training error: 1.1114062675941643, Validation error: 1.1536533803768787\n",
      "28 terms - Training error: 1.1114003679720739, Validation error: 1.1536482053423167\n",
      "29 terms - Training error: 1.111256192125023, Validation error: 1.1535607732299404\n",
      "1 terms - Training error: 1.4235048621647448, Validation error: 1.4001732173643764\n",
      "1 terms - Training error: 1.4234728550368327, Validation error: 1.4002522053848079\n",
      "2 terms - Training error: 1.4234524819285719, Validation error: 1.4005762630680851\n",
      "3 terms - Training error: 1.4230308279599118, Validation error: 1.4005876564824233\n",
      "4 terms - Training error: 1.4230075468768726, Validation error: 1.4008417374845452\n",
      "5 terms - Training error: 1.422992978044319, Validation error: 1.4008105822307821\n",
      "6 terms - Training error: 1.1861760983892249, Validation error: 1.15036449043977\n"
     ]
    },
    {
     "name": "stdout",
     "output_type": "stream",
     "text": [
      "7 terms - Training error: 1.1861637197505277, Validation error: 1.1502837909495585\n",
      "8 terms - Training error: 1.185600413104962, Validation error: 1.1488225475302918\n",
      "9 terms - Training error: 1.1855501928169043, Validation error: 1.149390754904479\n",
      "10 terms - Training error: 1.1361892065910297, Validation error: 1.1143722668704912\n",
      "11 terms - Training error: 1.1361314417684405, Validation error: 1.114483959902605\n",
      "12 terms - Training error: 1.1291194791622245, Validation error: 1.1053538629012758\n",
      "13 terms - Training error: 1.1290708916295211, Validation error: 1.1058935494255377\n",
      "14 terms - Training error: 1.1281698492903083, Validation error: 1.1052962008404899\n",
      "15 terms - Training error: 1.1280332475015564, Validation error: 1.105478370437103\n",
      "16 terms - Training error: 1.1280012564787585, Validation error: 1.1055387459616859\n",
      "17 terms - Training error: 1.1279859264817407, Validation error: 1.105657651354247\n",
      "18 terms - Training error: 1.125351369822104, Validation error: 1.1025494809905532\n",
      "19 terms - Training error: 1.12533047765075, Validation error: 1.1025858606883285\n",
      "20 terms - Training error: 1.1252695780181243, Validation error: 1.1023191807662365\n",
      "21 terms - Training error: 1.125229765071496, Validation error: 1.1021168605332745\n",
      "22 terms - Training error: 1.124910359325236, Validation error: 1.1020208246934542\n",
      "23 terms - Training error: 1.1246178377379579, Validation error: 1.1016350673064608\n",
      "24 terms - Training error: 1.1240171506473928, Validation error: 1.1015684163505481\n",
      "25 terms - Training error: 1.1239577886028869, Validation error: 1.1020867939095238\n",
      "26 terms - Training error: 1.1238441458031554, Validation error: 1.102479113610502\n",
      "27 terms - Training error: 1.1238075176819111, Validation error: 1.1025419789930093\n",
      "28 terms - Training error: 1.1237050136054343, Validation error: 1.102409022410078\n",
      "29 terms - Training error: 1.1230686979805946, Validation error: 1.105673130561076\n",
      "1 terms - Training error: 1.4226917717617231, Validation error: 1.4034255789764627\n",
      "1 terms - Training error: 1.422646823727274, Validation error: 1.403582284164878\n",
      "2 terms - Training error: 1.4225645752058558, Validation error: 1.403846477422527\n",
      "3 terms - Training error: 1.2312328202569978, Validation error: 1.2214467828293634\n",
      "4 terms - Training error: 1.1894839534961485, Validation error: 1.180904037228469\n",
      "5 terms - Training error: 1.1891311469755224, Validation error: 1.1802810904867507\n",
      "6 terms - Training error: 1.1817196122132219, Validation error: 1.1675810874911372\n",
      "7 terms - Training error: 1.1816725125938434, Validation error: 1.1676863371189579\n",
      "8 terms - Training error: 1.1328232875664985, Validation error: 1.1402498331420894\n",
      "9 terms - Training error: 1.1328064303774694, Validation error: 1.140387639214131\n",
      "10 terms - Training error: 1.1258143117784192, Validation error: 1.1363238794877832\n",
      "11 terms - Training error: 1.125713629783827, Validation error: 1.1360276216819323\n",
      "12 terms - Training error: 1.1213672595983915, Validation error: 1.1359568463781133\n",
      "13 terms - Training error: 1.1213473719200102, Validation error: 1.136075429034664\n",
      "14 terms - Training error: 1.1185705014385454, Validation error: 1.1348671612897638\n",
      "15 terms - Training error: 1.1184946396458297, Validation error: 1.135077093016597\n",
      "16 terms - Training error: 1.117259909058121, Validation error: 1.1347598690941278\n",
      "17 terms - Training error: 1.1171473477125955, Validation error: 1.135230336417089\n"
     ]
    }
   ],
   "source": [
    "S = optimize(S, X, \"kfolds\"; withqr = true, verbose = true, hessprecond = true)"
   ]
  },
  {
   "cell_type": "code",
   "execution_count": null,
   "metadata": {},
   "outputs": [],
   "source": [
    "getidx(S[10])"
   ]
  },
  {
   "cell_type": "code",
   "execution_count": null,
   "metadata": {},
   "outputs": [],
   "source": [
    "plot(S)"
   ]
  },
  {
   "cell_type": "code",
   "execution_count": null,
   "metadata": {},
   "outputs": [],
   "source": [
    "stor = Storage(S[10].I.f, X);"
   ]
  },
  {
   "cell_type": "code",
   "execution_count": null,
   "metadata": {},
   "outputs": [],
   "source": [
    "q = QRscaling(stor)"
   ]
  },
  {
   "cell_type": "code",
   "execution_count": null,
   "metadata": {},
   "outputs": [],
   "source": [
    "P = zeros(ncoeff(S[10]), ncoeff(S[10]))\n",
    "precond!(P, getcoeff(S[10]), stor, S[10], X)\n",
    "\n",
    "Pqr = zeros(ncoeff(S[10]), ncoeff(S[10]))\n",
    "qrprecond!(Pqr, q.U*getcoeff(S[10]), q, stor, S[10], X)"
   ]
  },
  {
   "cell_type": "code",
   "execution_count": null,
   "metadata": {},
   "outputs": [],
   "source": [
    "heatmap(abs.(Pqr), yflip = true, ratio = 1.0)"
   ]
  },
  {
   "cell_type": "code",
   "execution_count": null,
   "metadata": {},
   "outputs": [],
   "source": [
    "cond(P)"
   ]
  },
  {
   "cell_type": "code",
   "execution_count": null,
   "metadata": {},
   "outputs": [],
   "source": [
    "cond(Pqr)"
   ]
  },
  {
   "cell_type": "code",
   "execution_count": null,
   "metadata": {},
   "outputs": [],
   "source": [
    "F = evaluate(S, X)"
   ]
  },
  {
   "cell_type": "code",
   "execution_count": null,
   "metadata": {},
   "outputs": [],
   "source": [
    "Ωhat = zeros(Nx, Nx)\n",
    "cache = zeros(1, Nx, Nx)\n",
    "for i=1:Ne\n",
    "    hess_x_log_pdf!(cache, S, X[:,i:i])\n",
    "    Ωhat .+= copy(cache[1,:,:]).^2\n",
    "end\n",
    "rmul!(Ωhat, 1/Ne)"
   ]
  },
  {
   "cell_type": "code",
   "execution_count": null,
   "metadata": {},
   "outputs": [],
   "source": [
    "plt = plot(size = (800, 800))\n",
    "\n",
    "heatmap!(plt,log10.(Ωhat), ratio = 1, yflip = true, \n",
    "        colorbar = true, color = :plasma, clim = (1.5, Inf), colorbar_title = L\"\\log_{10}(\\hat{\\Omega})\",\n",
    "        xlabel = \"Index\", ylabel = \"Index\", background_color_inside = palette(:plasma)[1], \n",
    "        yticks = (reverse(collect(0:10:Nx))))\n",
    "plt"
   ]
  },
  {
   "cell_type": "code",
   "execution_count": null,
   "metadata": {},
   "outputs": [],
   "source": [
    "plt = plot(size = (800, 800))\n",
    "\n",
    "heatmap!(plt,log10.(abs.(Ωhat - Σ.^2)), ratio = 1, yflip = true, \n",
    "        colorbar = true, color = :plasma, clim = (1.5, Inf), colorbar_title = L\"\\log_{10}(\\hat{\\Omega})\",\n",
    "        xlabel = \"Index\", ylabel = \"Index\", background_color_inside = palette(:plasma)[1], \n",
    "        yticks = (reverse(collect(0:10:Nx))))\n",
    "plt"
   ]
  },
  {
   "cell_type": "code",
   "execution_count": null,
   "metadata": {},
   "outputs": [],
   "source": []
  }
 ],
 "metadata": {
  "kernelspec": {
   "display_name": "Julia 1.6.2",
   "language": "julia",
   "name": "julia-1.6"
  },
  "language_info": {
   "file_extension": ".jl",
   "mimetype": "application/julia",
   "name": "julia",
   "version": "1.6.2"
  }
 },
 "nbformat": 4,
 "nbformat_minor": 4
}
