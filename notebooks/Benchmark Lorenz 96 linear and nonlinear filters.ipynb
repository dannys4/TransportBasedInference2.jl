{
 "cells": [
  {
   "cell_type": "markdown",
   "metadata": {},
   "source": [
    "## Benchmark Lorenz 96 linear and nonlinear filters"
   ]
  },
  {
   "cell_type": "markdown",
   "metadata": {},
   "source": [
    "In this notebook, we are interested in the sequential inference \n",
    "\n",
    "\n",
    "\n",
    "References: \n",
    "\n",
    "\n",
    "[1] Evensen, G., 1994. Sequential data assimilation with a nonlinear quasi‐geostrophic model using Monte Carlo methods to forecast error statistics. Journal of Geophysical Research: Oceans, 99(C5), pp.10143-10162.\n",
    "\n",
    "[2] Asch, M., Bocquet, M. and Nodet, M., 2016. Data assimilation: methods, algorithms, and applications. Society for Industrial and Applied Mathematics.\n",
    "\n",
    "[3] Bishop, C.H., Etherton, B.J. and Majumdar, S.J., 2001. Adaptive sampling with the ensemble transform Kalman filter. Part I: Theoretical aspects. Monthly weather review, 129(3), pp.420-436. \n",
    "\n",
    "[4] Lorenz, E.N., 1963. Deterministic nonperiodic flow. Journal of atmospheric sciences, 20(2), pp.130-141.\n",
    "\n",
    "[5] Spantini, A., Baptista, R. and Marzouk, Y., 2019. Coupling techniques for nonlinear ensemble filtering. arXiv preprint arXiv:1907.00389."
   ]
  },
  {
   "cell_type": "markdown",
   "metadata": {},
   "source": [
    "### The basic steps\n",
    "To carry out sequential inference in `AdaptiveTransportMap`, we need to carry out a few basic steps:\n",
    "* **Specify the problem**: Define the state-space model: initial condition, dynamical and observation models (including process and observation noise)\n",
    "* **Specify the inflation parameters**: Determine the levels of covariance inflation to properly balance the dynamical system and the observations from the truth system\n",
    "* **Specify the filter**: Choose the ensemble filter to assimilate the observations in the state estimate\n",
    "* **Perform the sequential inference**: Perform the sequential inference\n",
    "\n",
    "We will go through all of these here."
   ]
  },
  {
   "cell_type": "code",
   "execution_count": 1,
   "metadata": {},
   "outputs": [
    {
     "name": "stderr",
     "output_type": "stream",
     "text": [
      "┌ Info: Precompiling AdaptiveTransportMap [bdf749b0-1400-4207-80d3-e689c0e3f03d]\n",
      "└ @ Base loading.jl:1278\n",
      "┌ Warning: Type annotations on keyword arguments not currently supported in recipes. Type information has been discarded\n",
      "└ @ RecipesBase ~/.julia/packages/RecipesBase/92zOw/src/RecipesBase.jl:116\n",
      "┌ Warning: Type annotations on keyword arguments not currently supported in recipes. Type information has been discarded\n",
      "└ @ RecipesBase ~/.julia/packages/RecipesBase/92zOw/src/RecipesBase.jl:116\n",
      "┌ Warning: Type annotations on keyword arguments not currently supported in recipes. Type information has been discarded\n",
      "└ @ RecipesBase ~/.julia/packages/RecipesBase/92zOw/src/RecipesBase.jl:116\n",
      "┌ Warning: Type annotations on keyword arguments not currently supported in recipes. Type information has been discarded\n",
      "└ @ RecipesBase ~/.julia/packages/RecipesBase/92zOw/src/RecipesBase.jl:116\n",
      "┌ Warning: Type annotations on keyword arguments not currently supported in recipes. Type information has been discarded\n",
      "└ @ RecipesBase ~/.julia/packages/RecipesBase/92zOw/src/RecipesBase.jl:116\n",
      "┌ Warning: Type annotations on keyword arguments not currently supported in recipes. Type information has been discarded\n",
      "└ @ RecipesBase ~/.julia/packages/RecipesBase/92zOw/src/RecipesBase.jl:116\n",
      "┌ Warning: Type annotations on keyword arguments not currently supported in recipes. Type information has been discarded\n",
      "└ @ RecipesBase ~/.julia/packages/RecipesBase/92zOw/src/RecipesBase.jl:116\n"
     ]
    }
   ],
   "source": [
    "using Revise\n",
    "using LinearAlgebra\n",
    "using AdaptiveTransportMap\n",
    "using Statistics\n",
    "using Distributions\n",
    "using OrdinaryDiffEq\n",
    "using JLD"
   ]
  },
  {
   "cell_type": "code",
   "execution_count": 2,
   "metadata": {},
   "outputs": [],
   "source": [
    "using DelimitedFiles"
   ]
  },
  {
   "cell_type": "markdown",
   "metadata": {},
   "source": [
    "Load some packages to make nice figures"
   ]
  },
  {
   "cell_type": "code",
   "execution_count": 3,
   "metadata": {},
   "outputs": [],
   "source": [
    "using Plots\n",
    "default(tickfont = font(\"CMU Serif\", 9), \n",
    "        titlefont = font(\"CMU Serif\", 14), \n",
    "        guidefont = font(\"CMU Serif\", 12),\n",
    "        legendfont = font(\"CMU Serif\", 10),\n",
    "        grid = false)\n",
    "# Plots.font(\"sans-serif\")\n",
    "# clibrary(:colorbrewer)\n",
    "# gr()\n",
    "pyplot()\n",
    "\n",
    "using LaTeXStrings\n",
    "# PyPlot.rc(\"text\", usetex = \"true\")\n",
    "# rcParams = PyPlot.PyDict(PyPlot.matplotlib.\"rcParams\")\n",
    "# rcParams[\"text.usetex\"] = true;\n",
    "PyPlot.rc(\"font\", family = \"CMU Serif\")\n",
    "PyPlot.matplotlib[:rc](\"mathtext\",fontset=\"cm\")        #computer modern font \n",
    "PyPlot.matplotlib[:rc](\"font\",family=\"serif\",size=12)\n",
    "\n",
    "using ColorSchemes"
   ]
  },
  {
   "cell_type": "code",
   "execution_count": 34,
   "metadata": {},
   "outputs": [
    {
     "name": "stderr",
     "output_type": "stream",
     "text": [
      "\u001b[32mProgress: 100%|█████████████████████████████████████████| Time: 0:00:06\u001b[39m\n"
     ]
    },
    {
     "name": "stdout",
     "output_type": "stream",
     "text": [
      "Ne 60 RMSE: 2.9534950839158824\n"
     ]
    },
    {
     "name": "stderr",
     "output_type": "stream",
     "text": [
      "\u001b[32mProgress: 100%|█████████████████████████████████████████| Time: 0:00:10\u001b[39m\n"
     ]
    },
    {
     "name": "stdout",
     "output_type": "stream",
     "text": [
      "Ne 100 RMSE: 1.5828930559308896\n"
     ]
    },
    {
     "name": "stderr",
     "output_type": "stream",
     "text": [
      "\u001b[32mProgress: 100%|█████████████████████████████████████████| Time: 0:00:21\u001b[39m\n"
     ]
    },
    {
     "name": "stdout",
     "output_type": "stream",
     "text": [
      "Ne 200 RMSE: 0.9688875185932705\n"
     ]
    },
    {
     "name": "stderr",
     "output_type": "stream",
     "text": [
      "\u001b[32mProgress: 100%|█████████████████████████████████████████| Time: 0:00:39\u001b[39m\n"
     ]
    },
    {
     "name": "stdout",
     "output_type": "stream",
     "text": [
      "Ne 400 RMSE: 0.8145890258184952\n"
     ]
    },
    {
     "name": "stderr",
     "output_type": "stream",
     "text": [
      "\u001b[32mProgress: 100%|█████████████████████████████████████████| Time: 0:00:55\u001b[39m\n"
     ]
    },
    {
     "name": "stdout",
     "output_type": "stream",
     "text": [
      "Ne 600 RMSE: 0.779881984119389\n"
     ]
    }
   ],
   "source": [
    "path = \"/media/mat/HDD/AdaptiveTransportMap/notebooks/lorenz96/data/\"\n",
    "\n",
    "β_array = collect(0.95:0.01:1.05)\n",
    "Ne_array = [60, 100, 200, 400, 600]\n",
    "L_array = collect(1.0:10.0);\n",
    "\n",
    "# model, data = setup_lorenz96(path, Ne_array);"
   ]
  },
  {
   "cell_type": "code",
   "execution_count": 35,
   "metadata": {},
   "outputs": [],
   "source": [
    "# save(path*\"lorenz96_data.jld\", \"data\", data)"
   ]
  },
  {
   "cell_type": "code",
   "execution_count": 36,
   "metadata": {},
   "outputs": [
    {
     "data": {
      "text/plain": [
       "SyntheticData([0.4, 0.8, 1.2000000000000002, 1.6, 2.0, 2.4000000000000004, 2.8000000000000003, 3.2, 3.6, 4.0  …  2396.4, 2396.8, 2397.2000000000003, 2397.6, 2398.0, 2398.4, 2398.8, 2399.2000000000003, 2399.6, 2400.0], [-0.2974821173632716, 0.501884610567026, -1.1981987411803194, 0.9061672276201467, 0.5505126602205873, 0.3674031762679743, -0.05029338477495031, 1.2141764473990793, -1.5321710427492057, -1.8392124733392539  …  0.501350177777496, 0.20129443164723057, 1.1770483914929308, -0.5314211841940432, -1.0447986057933782, 0.531341375580273, 0.3146441962877211, 0.2563492531890934, -0.25150243881073026, 0.7978032807192892], [2.6349792039764934 3.504181125623047 … -1.7977571208561207 0.09487460971575813; 2.4343783870406344 3.738982713804183 … 2.559562448914188 5.304979080072626; … ; 2.482110373299789 5.116572417455944 … 3.683128109587375 5.795831132353801; 3.176124201010255 5.83946347959046 … 8.230989412210743 0.2453778555195535], [2.156579526522504 3.582613352917209 … -1.9108850964360307 0.6951778228909665; 3.092455259843002 5.5934412996425635 … -0.004135357427323849 7.518000632841705; … ; 3.6169604752254902 2.374941439275947 … -1.3318023425114127 2.333478004107675; 1.8890898677187136 5.127417796538603 … 5.076399640610156 5.506421318193648])"
      ]
     },
     "execution_count": 36,
     "metadata": {},
     "output_type": "execute_result"
    }
   ],
   "source": [
    "data = load(path*\"lorenz96_data.jld\", \"data\")"
   ]
  },
  {
   "cell_type": "code",
   "execution_count": 61,
   "metadata": {},
   "outputs": [],
   "source": [
    "Nx = 40\n",
    "Ny = 20\n",
    "Δtdyn = 0.01\n",
    "Δtobs = 0.4\n",
    "\n",
    "σx = 1e-6\n",
    "σy = sqrt(0.5)\n",
    "\n",
    "ϵx = AdditiveInflation(Nx, zeros(Nx), σx)\n",
    "ϵy = AdditiveInflation(Ny, zeros(Ny), σy)\n",
    "tspinup = 200.0\n",
    "Tspinup = 2000\n",
    "tmetric = 400.0\n",
    "Tmetric = 4000\n",
    "t0 = 0.0\n",
    "tf = 600.0\n",
    "Tf = 6000\n",
    "\n",
    "Tburn = 2000\n",
    "Tstep = 4000\n",
    "Tspinup = 2000\n",
    "\n",
    "f = lorenz96!\n",
    "h(x, t) = x[yidx]\n",
    "# Create a local version of the observation operator\n",
    "h(x, idx, t) = x[idx]\n",
    "F = StateSpace(lorenz96!, h)\n",
    "\n",
    "model = Model(Nx, Ny, Δtdyn, Δtobs, ϵx, ϵy, MvNormal(zeros(Nx), Matrix(1.0*I, Nx, Nx)), Tburn, Tstep, Tspinup, F);"
   ]
  },
  {
   "cell_type": "code",
   "execution_count": 62,
   "metadata": {},
   "outputs": [],
   "source": [
    "# # Load file\n",
    "# Ne = 20\n",
    "# β = 1.0\n",
    "# Lrad = 3\n",
    "# X0 = load(path*\"set_up_Ne\"*string(Ne)*\".jld\", \"X\")\n",
    "\n",
    "# X = zeros(model.Ny + model.Nx, Ne)\n",
    "# X[model.Ny+1:model.Ny+model.Nx,:] .= copy(X0)\n",
    "# J = model.Tstep\n",
    "# t0 = model.Tspinup*model.Δtobs\n",
    "# F = model.F\n",
    "\n",
    "# Δ = 2\n",
    "# yidx = 1:Δ:model.Nx\n",
    "# idx = vcat(collect(1:length(yidx))', collect(yidx)')\n",
    "\n",
    "# enkf = SeqStochEnKF(x->x, F.h, MultiplicativeInflation(β), model.ϵy, model.Ny, model.Nx,\n",
    "#                     model.Δtdyn, model.Δtobs,\n",
    "#                     idx, zeros(model.Nx+1, Ne), false, true)\n",
    "\n",
    "# # Create Localization structure\n",
    "# Gxy(i,j) = periodicmetric!(i,yidx[j], model.Nx)\n",
    "# Gyy(i,j) = periodicmetric!(yidx[i],yidx[j], model.Nx)\n",
    "# Loc = Localization(Lrad, Gxy, Gyy)\n",
    "\n",
    "# @time statehist = seqassim(F, data, J, model.ϵx, enkf, X, model.Ny, model.Nx, t0, Loc);"
   ]
  },
  {
   "cell_type": "markdown",
   "metadata": {},
   "source": [
    "Benchmark for the Lorenz-96 problem with the sequential stochastic EnkF"
   ]
  },
  {
   "cell_type": "code",
   "execution_count": 63,
   "metadata": {},
   "outputs": [],
   "source": [
    "β_array = collect(0.97:0.01:1.05)\n",
    "Ne_array = [60, 100, 200, 400, 600]\n",
    "L_array = collect(4:13.0);"
   ]
  },
  {
   "cell_type": "code",
   "execution_count": 64,
   "metadata": {
    "scrolled": true
   },
   "outputs": [
    {
     "name": "stdout",
     "output_type": "stream",
     "text": [
      "(Ne, β, Lrad) = (60, 0.97, 4.0)\n",
      " 21.675294 seconds (202.57 M allocations: 25.014 GiB, 9.58% gc time)\n",
      "Ne = 60\n",
      "Ne 60& β 0.97& Lrad 4.0 RMSE: 1.0741740828090405\n",
      "(Ne, β, Lrad) = (60, 0.97, 5.0)\n",
      " 21.028247 seconds (202.22 M allocations: 24.996 GiB, 9.88% gc time)\n",
      "Ne = 60\n",
      "Ne 60& β 0.97& Lrad 5.0 RMSE: 1.0234471799795102\n",
      "(Ne, β, Lrad) = (60, 0.97, 6.0)\n",
      " 20.907889 seconds (202.22 M allocations: 24.996 GiB, 9.77% gc time)\n",
      "Ne = 60\n",
      "Ne 60& β 0.97& Lrad 6.0 RMSE: 1.050136197377068\n",
      "(Ne, β, Lrad) = (60, 0.97, 7.0)\n",
      " 21.498876 seconds (202.22 M allocations: 24.996 GiB, 9.79% gc time)\n",
      "Ne = 60\n",
      "Ne 60& β 0.97& Lrad 7.0 RMSE: 1.0274211646546674\n",
      "(Ne, β, Lrad) = (60, 0.97, 8.0)\n",
      " 21.336839 seconds (202.22 M allocations: 24.996 GiB, 9.81% gc time)\n",
      "Ne = 60\n",
      "Ne 60& β 0.97& Lrad 8.0 RMSE: 1.099065435027503\n",
      "(Ne, β, Lrad) = (60, 0.97, 9.0)\n",
      " 20.818962 seconds (202.22 M allocations: 24.996 GiB, 9.88% gc time)\n",
      "Ne = 60\n",
      "Ne 60& β 0.97& Lrad 9.0 RMSE: 1.121453406705511\n",
      "(Ne, β, Lrad) = (60, 0.97, 10.0)\n",
      " 21.020974 seconds (202.22 M allocations: 24.996 GiB, 10.03% gc time)\n",
      "Ne = 60\n",
      "Ne 60& β 0.97& Lrad 10.0 RMSE: 1.1920133083269009\n",
      "(Ne, β, Lrad) = (60, 0.97, 11.0)\n",
      " 21.526893 seconds (202.22 M allocations: 24.996 GiB, 9.92% gc time)\n",
      "Ne = 60\n",
      "Ne 60& β 0.97& Lrad 11.0 RMSE: 1.2599263338121667\n",
      "(Ne, β, Lrad) = (60, 0.97, 12.0)\n",
      " 20.941260 seconds (202.22 M allocations: 24.996 GiB, 10.52% gc time)\n",
      "Ne = 60\n",
      "Ne 60& β 0.97& Lrad 12.0 RMSE: 1.264075771516435\n",
      "(Ne, β, Lrad) = (60, 0.97, 13.0)\n",
      " 20.875852 seconds (202.22 M allocations: 24.996 GiB, 10.39% gc time)\n",
      "Ne = 60\n",
      "Ne 60& β 0.97& Lrad 13.0 RMSE: 1.4596293428049325\n",
      "(Ne, β, Lrad) = (60, 0.98, 4.0)\n",
      " 20.854493 seconds (202.22 M allocations: 24.996 GiB, 10.38% gc time)\n",
      "Ne = 60\n",
      "Ne 60& β 0.98& Lrad 4.0 RMSE: 1.0548854867147128\n",
      "(Ne, β, Lrad) = (60, 0.98, 5.0)\n",
      " 20.813236 seconds (202.22 M allocations: 24.996 GiB, 10.36% gc time)\n",
      "Ne = 60\n",
      "Ne 60& β 0.98& Lrad 5.0 RMSE: 0.998727941787625\n",
      "(Ne, β, Lrad) = (60, 0.98, 6.0)\n",
      " 21.246325 seconds (202.22 M allocations: 24.996 GiB, 10.39% gc time)\n",
      "Ne = 60\n",
      "Ne 60& β 0.98& Lrad 6.0 RMSE: 1.0031990480693236\n",
      "(Ne, β, Lrad) = (60, 0.98, 7.0)\n",
      " 22.146542 seconds (202.22 M allocations: 24.996 GiB, 11.76% gc time)\n",
      "Ne = 60\n",
      "Ne 60& β 0.98& Lrad 7.0 RMSE: 1.0133400491409288\n",
      "(Ne, β, Lrad) = (60, 0.98, 8.0)\n",
      " 20.424814 seconds (202.22 M allocations: 24.996 GiB, 9.31% gc time)\n",
      "Ne = 60\n",
      "Ne 60& β 0.98& Lrad 8.0 RMSE: 1.0755461118518628\n",
      "(Ne, β, Lrad) = (60, 0.98, 9.0)\n",
      " 20.470854 seconds (202.22 M allocations: 24.996 GiB, 9.41% gc time)\n",
      "Ne = 60\n",
      "Ne 60& β 0.98& Lrad 9.0 RMSE: 1.122217454059037\n",
      "(Ne, β, Lrad) = (60, 0.98, 10.0)\n",
      " 20.368100 seconds (202.22 M allocations: 24.996 GiB, 9.55% gc time)\n",
      "Ne = 60\n",
      "Ne 60& β 0.98& Lrad 10.0 RMSE: 1.149216556150518\n",
      "(Ne, β, Lrad) = (60, 0.98, 11.0)\n",
      " 20.414204 seconds (202.22 M allocations: 24.996 GiB, 9.57% gc time)\n",
      "Ne = 60\n",
      "Ne 60& β 0.98& Lrad 11.0 RMSE: 1.2840462360493161\n",
      "(Ne, β, Lrad) = (60, 0.98, 12.0)\n",
      " 20.452717 seconds (202.22 M allocations: 24.996 GiB, 9.57% gc time)\n",
      "Ne = 60\n",
      "Ne 60& β 0.98& Lrad 12.0 RMSE: 1.4051030075456201\n",
      "(Ne, β, Lrad) = (60, 0.98, 13.0)\n",
      " 20.478784 seconds (202.22 M allocations: 24.996 GiB, 9.73% gc time)\n",
      "Ne = 60\n",
      "Ne 60& β 0.98& Lrad 13.0 RMSE: 1.3891380683129486\n",
      "(Ne, β, Lrad) = (60, 0.99, 4.0)\n",
      " 20.600612 seconds (202.22 M allocations: 24.996 GiB, 9.89% gc time)\n",
      "Ne = 60\n",
      "Ne 60& β 0.99& Lrad 4.0 RMSE: 1.0501662096243685\n",
      "(Ne, β, Lrad) = (60, 0.99, 5.0)\n",
      " 20.558712 seconds (202.22 M allocations: 24.996 GiB, 9.73% gc time)\n",
      "Ne = 60\n",
      "Ne 60& β 0.99& Lrad 5.0 RMSE: 1.0075475352792875\n",
      "(Ne, β, Lrad) = (60, 0.99, 6.0)\n",
      " 20.614347 seconds (202.22 M allocations: 24.996 GiB, 9.88% gc time)\n",
      "Ne = 60\n",
      "Ne 60& β 0.99& Lrad 6.0 RMSE: 1.0230820758914332\n",
      "(Ne, β, Lrad) = (60, 0.99, 7.0)\n",
      " 20.630111 seconds (202.22 M allocations: 24.996 GiB, 10.15% gc time)\n",
      "Ne = 60\n",
      "Ne 60& β 0.99& Lrad 7.0 RMSE: 1.0123272102996765\n",
      "(Ne, β, Lrad) = (60, 0.99, 8.0)\n",
      " 20.675023 seconds (202.22 M allocations: 24.996 GiB, 10.16% gc time)\n",
      "Ne = 60\n",
      "Ne 60& β 0.99& Lrad 8.0 RMSE: 1.0686859289085786\n",
      "(Ne, β, Lrad) = (60, 0.99, 9.0)\n",
      " 20.776794 seconds (202.22 M allocations: 24.996 GiB, 10.10% gc time)\n",
      "Ne = 60\n",
      "Ne 60& β 0.99& Lrad 9.0 RMSE: 1.0716464553887675\n",
      "(Ne, β, Lrad) = (60, 0.99, 10.0)\n",
      " 20.742153 seconds (202.22 M allocations: 24.996 GiB, 10.04% gc time)\n",
      "Ne = 60\n",
      "Ne 60& β 0.99& Lrad 10.0 RMSE: 1.1439632244759654\n",
      "(Ne, β, Lrad) = (60, 0.99, 11.0)\n",
      " 21.681949 seconds (202.22 M allocations: 24.996 GiB, 10.17% gc time)\n",
      "Ne = 60\n",
      "Ne 60& β 0.99& Lrad 11.0 RMSE: 1.3529642287732184\n",
      "(Ne, β, Lrad) = (60, 0.99, 12.0)\n",
      " 24.093809 seconds (202.22 M allocations: 24.996 GiB, 10.99% gc time)\n",
      "Ne = 60\n",
      "Ne 60& β 0.99& Lrad 12.0 RMSE: 1.2098911391634173\n",
      "(Ne, β, Lrad) = (60, 0.99, 13.0)\n",
      " 22.268348 seconds (202.22 M allocations: 24.996 GiB, 9.27% gc time)\n",
      "Ne = 60\n",
      "Ne 60& β 0.99& Lrad 13.0 RMSE: 1.4212175253529953\n",
      "(Ne, β, Lrad) = (60, 1.0, 4.0)\n",
      " 22.190578 seconds (202.22 M allocations: 24.996 GiB, 9.14% gc time)\n",
      "Ne = 60\n",
      "Ne 60& β 1.0& Lrad 4.0 RMSE: 1.0561979612930237\n",
      "(Ne, β, Lrad) = (60, 1.0, 5.0)\n",
      " 22.341130 seconds (202.22 M allocations: 24.996 GiB, 9.11% gc time)\n",
      "Ne = 60\n",
      "Ne 60& β 1.0& Lrad 5.0 RMSE: 1.047109323106534\n",
      "(Ne, β, Lrad) = (60, 1.0, 6.0)\n",
      " 21.757040 seconds (202.22 M allocations: 24.996 GiB, 9.17% gc time)\n",
      "Ne = 60\n",
      "Ne 60& β 1.0& Lrad 6.0 RMSE: 1.0163483322862144\n",
      "(Ne, β, Lrad) = (60, 1.0, 7.0)\n",
      " 21.992119 seconds (202.22 M allocations: 24.996 GiB, 9.29% gc time)\n",
      "Ne = 60\n",
      "Ne 60& β 1.0& Lrad 7.0 RMSE: 1.0232752485224452\n",
      "(Ne, β, Lrad) = (60, 1.0, 8.0)\n",
      " 21.805871 seconds (202.22 M allocations: 24.996 GiB, 9.11% gc time)\n",
      "Ne = 60\n",
      "Ne 60& β 1.0& Lrad 8.0 RMSE: 1.024730468605414\n",
      "(Ne, β, Lrad) = (60, 1.0, 9.0)\n",
      " 21.608808 seconds (202.22 M allocations: 24.996 GiB, 9.60% gc time)\n",
      "Ne = 60\n",
      "Ne 60& β 1.0& Lrad 9.0 RMSE: 1.1558430216699065\n",
      "(Ne, β, Lrad) = (60, 1.0, 10.0)\n",
      " 22.174673 seconds (202.22 M allocations: 24.996 GiB, 9.42% gc time)\n",
      "Ne = 60\n",
      "Ne 60& β 1.0& Lrad 10.0 RMSE: 1.0705607033484326\n",
      "(Ne, β, Lrad) = (60, 1.0, 11.0)\n",
      " 22.202213 seconds (202.22 M allocations: 24.996 GiB, 9.36% gc time)\n",
      "Ne = 60\n",
      "Ne 60& β 1.0& Lrad 11.0 RMSE: 1.2443383624674644\n",
      "(Ne, β, Lrad) = (60, 1.0, 12.0)\n",
      " 21.863667 seconds (202.22 M allocations: 24.996 GiB, 9.51% gc time)\n",
      "Ne = 60\n",
      "Ne 60& β 1.0& Lrad 12.0 RMSE: 1.3794725452602197\n",
      "(Ne, β, Lrad) = (60, 1.0, 13.0)\n",
      " 21.692475 seconds (202.22 M allocations: 24.996 GiB, 9.82% gc time)\n",
      "Ne = 60\n",
      "Ne 60& β 1.0& Lrad 13.0 RMSE: 1.413022304538457\n",
      "(Ne, β, Lrad) = (60, 1.01, 4.0)\n",
      " 21.640292 seconds (202.22 M allocations: 24.996 GiB, 9.79% gc time)\n",
      "Ne = 60\n",
      "Ne 60& β 1.01& Lrad 4.0 RMSE: 1.050674257249441\n",
      "(Ne, β, Lrad) = (60, 1.01, 5.0)\n",
      " 21.628488 seconds (202.22 M allocations: 24.996 GiB, 10.17% gc time)\n",
      "Ne = 60\n",
      "Ne 60& β 1.01& Lrad 5.0 RMSE: 1.002129741749327\n",
      "(Ne, β, Lrad) = (60, 1.01, 6.0)\n",
      " 21.668243 seconds (202.22 M allocations: 24.996 GiB, 10.71% gc time)\n",
      "Ne = 60\n",
      "Ne 60& β 1.01& Lrad 6.0 RMSE: 1.006016730061078\n",
      "(Ne, β, Lrad) = (60, 1.01, 7.0)\n",
      " 21.024314 seconds (202.22 M allocations: 24.996 GiB, 9.10% gc time)\n",
      "Ne = 60\n",
      "Ne 60& β 1.01& Lrad 7.0 RMSE: 1.011569056372357\n",
      "(Ne, β, Lrad) = (60, 1.01, 8.0)\n",
      " 21.145366 seconds (202.22 M allocations: 24.996 GiB, 9.35% gc time)\n",
      "Ne = 60\n",
      "Ne 60& β 1.01& Lrad 8.0 RMSE: 1.0033698280286765\n",
      "(Ne, β, Lrad) = (60, 1.01, 9.0)\n",
      " 21.165242 seconds (202.22 M allocations: 24.996 GiB, 9.37% gc time)\n",
      "Ne = 60\n",
      "Ne 60& β 1.01& Lrad 9.0 RMSE: 1.1253381697431566\n",
      "(Ne, β, Lrad) = (60, 1.01, 10.0)\n",
      " 21.200353 seconds (202.22 M allocations: 24.996 GiB, 9.29% gc time)\n",
      "Ne = 60\n",
      "Ne 60& β 1.01& Lrad 10.0 RMSE: 1.237076079879873\n",
      "(Ne, β, Lrad) = (60, 1.01, 11.0)\n",
      " 21.287618 seconds (202.22 M allocations: 24.996 GiB, 9.48% gc time)\n",
      "Ne = 60\n",
      "Ne 60& β 1.01& Lrad 11.0 RMSE: 1.138161119462085\n",
      "(Ne, β, Lrad) = (60, 1.01, 12.0)\n",
      " 21.357965 seconds (202.22 M allocations: 24.996 GiB, 9.62% gc time)\n",
      "Ne = 60\n",
      "Ne 60& β 1.01& Lrad 12.0 RMSE: 1.4255292865363662\n",
      "(Ne, β, Lrad) = (60, 1.01, 13.0)\n",
      " 21.294247 seconds (202.22 M allocations: 24.996 GiB, 9.42% gc time)\n",
      "Ne = 60\n",
      "Ne 60& β 1.01& Lrad 13.0 RMSE: 1.3608017092136606\n",
      "(Ne, β, Lrad) = (60, 1.02, 4.0)\n",
      " 21.229184 seconds (202.22 M allocations: 24.996 GiB, 9.49% gc time)\n",
      "Ne = 60\n",
      "Ne 60& β 1.02& Lrad 4.0 RMSE: 1.0580103914594983\n",
      "(Ne, β, Lrad) = (60, 1.02, 5.0)\n",
      " 21.399457 seconds (202.22 M allocations: 24.996 GiB, 9.54% gc time)\n",
      "Ne = 60\n",
      "Ne 60& β 1.02& Lrad 5.0 RMSE: 1.0237786496825392\n",
      "(Ne, β, Lrad) = (60, 1.02, 6.0)\n"
     ]
    },
    {
     "name": "stdout",
     "output_type": "stream",
     "text": [
      " 21.430036 seconds (202.22 M allocations: 24.996 GiB, 9.82% gc time)\n",
      "Ne = 60\n",
      "Ne 60& β 1.02& Lrad 6.0 RMSE: 0.9942109888408188\n",
      "(Ne, β, Lrad) = (60, 1.02, 7.0)\n",
      " 21.565717 seconds (202.22 M allocations: 24.996 GiB, 10.21% gc time)\n",
      "Ne = 60\n",
      "Ne 60& β 1.02& Lrad 7.0 RMSE: 1.0026809619933585\n",
      "(Ne, β, Lrad) = (60, 1.02, 8.0)\n",
      " 21.544286 seconds (202.22 M allocations: 24.996 GiB, 9.73% gc time)\n",
      "Ne = 60\n",
      "Ne 60& β 1.02& Lrad 8.0 RMSE: 1.0709478243875619\n",
      "(Ne, β, Lrad) = (60, 1.02, 9.0)\n",
      " 21.894143 seconds (202.22 M allocations: 24.996 GiB, 11.26% gc time)\n",
      "Ne = 60\n",
      "Ne 60& β 1.02& Lrad 9.0 RMSE: 1.0633189676647374\n",
      "(Ne, β, Lrad) = (60, 1.02, 10.0)\n",
      " 21.119709 seconds (202.22 M allocations: 24.996 GiB, 9.27% gc time)\n",
      "Ne = 60\n",
      "Ne 60& β 1.02& Lrad 10.0 RMSE: 1.1674016680791042\n",
      "(Ne, β, Lrad) = (60, 1.02, 11.0)\n",
      " 21.254916 seconds (202.22 M allocations: 24.996 GiB, 9.27% gc time)\n",
      "Ne = 60\n",
      "Ne 60& β 1.02& Lrad 11.0 RMSE: 1.280447860949633\n",
      "(Ne, β, Lrad) = (60, 1.02, 12.0)\n",
      " 21.307122 seconds (202.22 M allocations: 24.996 GiB, 9.49% gc time)\n",
      "Ne = 60\n",
      "Ne 60& β 1.02& Lrad 12.0 RMSE: 1.2782539576679277\n",
      "(Ne, β, Lrad) = (60, 1.02, 13.0)\n",
      " 21.342009 seconds (202.22 M allocations: 24.996 GiB, 9.36% gc time)\n",
      "Ne = 60\n",
      "Ne 60& β 1.02& Lrad 13.0 RMSE: 1.473547580919319\n",
      "(Ne, β, Lrad) = (60, 1.03, 4.0)\n",
      " 21.233371 seconds (202.22 M allocations: 24.996 GiB, 9.56% gc time)\n",
      "Ne = 60\n",
      "Ne 60& β 1.03& Lrad 4.0 RMSE: 1.0505233810903924\n",
      "(Ne, β, Lrad) = (60, 1.03, 5.0)\n",
      " 21.259718 seconds (202.22 M allocations: 24.996 GiB, 9.31% gc time)\n",
      "Ne = 60\n",
      "Ne 60& β 1.03& Lrad 5.0 RMSE: 1.0073186461151824\n",
      "(Ne, β, Lrad) = (60, 1.03, 6.0)\n",
      " 21.293238 seconds (202.22 M allocations: 24.996 GiB, 9.38% gc time)\n",
      "Ne = 60\n",
      "Ne 60& β 1.03& Lrad 6.0 RMSE: 0.9845719992954314\n",
      "(Ne, β, Lrad) = (60, 1.03, 7.0)\n",
      " 21.445124 seconds (202.22 M allocations: 24.996 GiB, 9.39% gc time)\n",
      "Ne = 60\n",
      "Ne 60& β 1.03& Lrad 7.0 RMSE: 0.9739563696296736\n",
      "(Ne, β, Lrad) = (60, 1.03, 8.0)\n",
      " 21.396429 seconds (202.22 M allocations: 24.996 GiB, 9.68% gc time)\n",
      "Ne = 60\n",
      "Ne 60& β 1.03& Lrad 8.0 RMSE: 1.08323971593851\n",
      "(Ne, β, Lrad) = (60, 1.03, 9.0)\n",
      " 21.482972 seconds (202.22 M allocations: 24.996 GiB, 10.12% gc time)\n",
      "Ne = 60\n",
      "Ne 60& β 1.03& Lrad 9.0 RMSE: 1.127892662007821\n",
      "(Ne, β, Lrad) = (60, 1.03, 10.0)\n",
      " 21.719117 seconds (202.22 M allocations: 24.996 GiB, 10.03% gc time)\n",
      "Ne = 60\n",
      "Ne 60& β 1.03& Lrad 10.0 RMSE: 1.1036835920137942\n",
      "(Ne, β, Lrad) = (60, 1.03, 11.0)\n",
      " 21.809032 seconds (202.22 M allocations: 24.996 GiB, 10.02% gc time)\n",
      "Ne = 60\n",
      "Ne 60& β 1.03& Lrad 11.0 RMSE: 1.2048417409720804\n",
      "(Ne, β, Lrad) = (60, 1.03, 12.0)\n",
      " 21.458796 seconds (202.22 M allocations: 24.996 GiB, 10.17% gc time)\n",
      "Ne = 60\n",
      "Ne 60& β 1.03& Lrad 12.0 RMSE: 1.3252633238053226\n",
      "(Ne, β, Lrad) = (60, 1.03, 13.0)\n",
      " 21.126245 seconds (202.22 M allocations: 24.996 GiB, 9.10% gc time)\n",
      "Ne = 60\n",
      "Ne 60& β 1.03& Lrad 13.0 RMSE: 1.4644453252497023\n",
      "(Ne, β, Lrad) = (60, 1.04, 4.0)\n",
      " 21.130528 seconds (202.22 M allocations: 24.996 GiB, 9.09% gc time)\n",
      "Ne = 60\n",
      "Ne 60& β 1.04& Lrad 4.0 RMSE: 1.0607327648820983\n",
      "(Ne, β, Lrad) = (60, 1.04, 5.0)\n",
      " 21.184273 seconds (202.22 M allocations: 24.996 GiB, 9.27% gc time)\n",
      "Ne = 60\n",
      "Ne 60& β 1.04& Lrad 5.0 RMSE: 1.0464632776350906\n",
      "(Ne, β, Lrad) = (60, 1.04, 6.0)\n",
      " 21.316535 seconds (202.22 M allocations: 24.996 GiB, 9.36% gc time)\n",
      "Ne = 60\n",
      "Ne 60& β 1.04& Lrad 6.0 RMSE: 1.0600161840973774\n",
      "(Ne, β, Lrad) = (60, 1.04, 7.0)\n",
      " 21.393615 seconds (202.22 M allocations: 24.996 GiB, 9.44% gc time)\n",
      "Ne = 60\n",
      "Ne 60& β 1.04& Lrad 7.0 RMSE: 1.0034779809991783\n",
      "(Ne, β, Lrad) = (60, 1.04, 8.0)\n",
      " 21.459593 seconds (202.22 M allocations: 24.996 GiB, 9.51% gc time)\n",
      "Ne = 60\n",
      "Ne 60& β 1.04& Lrad 8.0 RMSE: 1.0466090179630534\n",
      "(Ne, β, Lrad) = (60, 1.04, 9.0)\n",
      " 21.300548 seconds (202.22 M allocations: 24.996 GiB, 9.26% gc time)\n",
      "Ne = 60\n",
      "Ne 60& β 1.04& Lrad 9.0 RMSE: 1.109662578259537\n",
      "(Ne, β, Lrad) = (60, 1.04, 10.0)\n",
      " 21.430751 seconds (202.22 M allocations: 24.996 GiB, 9.81% gc time)\n",
      "Ne = 60\n",
      "Ne 60& β 1.04& Lrad 10.0 RMSE: 1.1324703389705724\n",
      "(Ne, β, Lrad) = (60, 1.04, 11.0)\n",
      " 21.621156 seconds (202.22 M allocations: 24.996 GiB, 9.96% gc time)\n",
      "Ne = 60\n",
      "Ne 60& β 1.04& Lrad 11.0 RMSE: 1.2649987324307264\n",
      "(Ne, β, Lrad) = (60, 1.04, 12.0)\n",
      " 21.602435 seconds (202.22 M allocations: 24.996 GiB, 9.91% gc time)\n",
      "Ne = 60\n",
      "Ne 60& β 1.04& Lrad 12.0 RMSE: 1.2058973020552162\n",
      "(Ne, β, Lrad) = (60, 1.04, 13.0)\n",
      " 21.626094 seconds (202.22 M allocations: 24.996 GiB, 9.84% gc time)\n",
      "Ne = 60\n",
      "Ne 60& β 1.04& Lrad 13.0 RMSE: 1.3284666177485154\n",
      "(Ne, β, Lrad) = (60, 1.05, 4.0)\n",
      " 21.493275 seconds (202.22 M allocations: 24.996 GiB, 10.39% gc time)\n",
      "Ne = 60\n",
      "Ne 60& β 1.05& Lrad 4.0 RMSE: 1.0616485755914518\n",
      "(Ne, β, Lrad) = (60, 1.05, 5.0)\n",
      " 21.235774 seconds (202.22 M allocations: 24.996 GiB, 9.20% gc time)\n",
      "Ne = 60\n",
      "Ne 60& β 1.05& Lrad 5.0 RMSE: 0.9988031055551375\n",
      "(Ne, β, Lrad) = (60, 1.05, 6.0)\n",
      " 21.640476 seconds (202.22 M allocations: 24.996 GiB, 9.31% gc time)\n",
      "Ne = 60\n",
      "Ne 60& β 1.05& Lrad 6.0 RMSE: 0.9894302184599553\n",
      "(Ne, β, Lrad) = (60, 1.05, 7.0)\n",
      " 21.282847 seconds (202.22 M allocations: 24.996 GiB, 9.21% gc time)\n",
      "Ne = 60\n",
      "Ne 60& β 1.05& Lrad 7.0 RMSE: 1.0002056105774462\n",
      "(Ne, β, Lrad) = (60, 1.05, 8.0)\n",
      " 21.506560 seconds (202.22 M allocations: 24.996 GiB, 9.32% gc time)\n",
      "Ne = 60\n",
      "Ne 60& β 1.05& Lrad 8.0 RMSE: 1.0460722461279834\n",
      "(Ne, β, Lrad) = (60, 1.05, 9.0)\n",
      " 21.473050 seconds (202.22 M allocations: 24.996 GiB, 9.38% gc time)\n",
      "Ne = 60\n",
      "Ne 60& β 1.05& Lrad 9.0 RMSE: 1.0627881660964642\n",
      "(Ne, β, Lrad) = (60, 1.05, 10.0)\n",
      " 21.440334 seconds (202.22 M allocations: 24.996 GiB, 9.44% gc time)\n",
      "Ne = 60\n",
      "Ne 60& β 1.05& Lrad 10.0 RMSE: 1.1885127878728659\n",
      "(Ne, β, Lrad) = (60, 1.05, 11.0)\n",
      " 21.434754 seconds (202.22 M allocations: 24.996 GiB, 9.60% gc time)\n",
      "Ne = 60\n",
      "Ne 60& β 1.05& Lrad 11.0 RMSE: 1.1303181961673312\n",
      "(Ne, β, Lrad) = (60, 1.05, 12.0)\n",
      " 21.560998 seconds (202.22 M allocations: 24.996 GiB, 9.78% gc time)\n",
      "Ne = 60\n",
      "Ne 60& β 1.05& Lrad 12.0 RMSE: 1.2603131427109229\n",
      "(Ne, β, Lrad) = (60, 1.05, 13.0)\n",
      " 21.531594 seconds (202.22 M allocations: 24.996 GiB, 9.77% gc time)\n",
      "Ne = 60\n",
      "Ne 60& β 1.05& Lrad 13.0 RMSE: 1.3486047334834703\n",
      "(Ne, β, Lrad) = (100, 0.97, 4.0)\n",
      " 35.292042 seconds (335.02 M allocations: 39.008 GiB, 10.17% gc time)\n",
      "Ne = 100\n",
      "Ne 100& β 0.97& Lrad 4.0 RMSE: 0.9973409960503263\n",
      "(Ne, β, Lrad) = (100, 0.97, 5.0)\n",
      " 34.469141 seconds (335.02 M allocations: 39.008 GiB, 9.18% gc time)\n",
      "Ne = 100\n",
      "Ne 100& β 0.97& Lrad 5.0 RMSE: 0.9786881284686988\n",
      "(Ne, β, Lrad) = (100, 0.97, 6.0)\n",
      " 34.511177 seconds (335.02 M allocations: 39.008 GiB, 9.07% gc time)\n",
      "Ne = 100\n",
      "Ne 100& β 0.97& Lrad 6.0 RMSE: 0.9586210747187238\n",
      "(Ne, β, Lrad) = (100, 0.97, 7.0)\n",
      " 34.619852 seconds (335.02 M allocations: 39.008 GiB, 9.26% gc time)\n",
      "Ne = 100\n",
      "Ne 100& β 0.97& Lrad 7.0 RMSE: 0.9461895147882496\n",
      "(Ne, β, Lrad) = (100, 0.97, 8.0)\n",
      " 34.971766 seconds (335.02 M allocations: 39.008 GiB, 9.30% gc time)\n",
      "Ne = 100\n",
      "Ne 100& β 0.97& Lrad 8.0 RMSE: 0.9199692708394929\n",
      "(Ne, β, Lrad) = (100, 0.97, 9.0)\n",
      " 35.005902 seconds (335.02 M allocations: 39.008 GiB, 9.41% gc time)\n",
      "Ne = 100\n",
      "Ne 100& β 0.97& Lrad 9.0 RMSE: 0.9405978900473605\n",
      "(Ne, β, Lrad) = (100, 0.97, 10.0)\n",
      " 35.054006 seconds (335.02 M allocations: 39.008 GiB, 9.85% gc time)\n",
      "Ne = 100\n",
      "Ne 100& β 0.97& Lrad 10.0 RMSE: 0.9378416514974237\n",
      "(Ne, β, Lrad) = (100, 0.97, 11.0)\n",
      " 35.012207 seconds (335.02 M allocations: 39.008 GiB, 8.95% gc time)\n",
      "Ne = 100\n",
      "Ne 100& β 0.97& Lrad 11.0 RMSE: 0.960861457139184\n",
      "(Ne, β, Lrad) = (100, 0.97, 12.0)\n",
      " 35.411921 seconds (335.02 M allocations: 39.008 GiB, 8.96% gc time)\n",
      "Ne = 100\n",
      "Ne 100& β 0.97& Lrad 12.0 RMSE: 0.97394662177301\n",
      "(Ne, β, Lrad) = (100, 0.97, 13.0)\n",
      " 35.613547 seconds (335.02 M allocations: 39.008 GiB, 9.19% gc time)\n",
      "Ne = 100\n",
      "Ne 100& β 0.97& Lrad 13.0 RMSE: 0.9589377235531804\n",
      "(Ne, β, Lrad) = (100, 0.98, 4.0)\n",
      " 35.586706 seconds (335.02 M allocations: 39.008 GiB, 9.24% gc time)\n",
      "Ne = 100\n",
      "Ne 100& β 0.98& Lrad 4.0 RMSE: 1.0215761255954687\n",
      "(Ne, β, Lrad) = (100, 0.98, 5.0)\n",
      " 36.078611 seconds (335.02 M allocations: 39.008 GiB, 9.42% gc time)\n",
      "Ne = 100\n",
      "Ne 100& β 0.98& Lrad 5.0 RMSE: 0.9583902098573511\n",
      "(Ne, β, Lrad) = (100, 0.98, 6.0)\n",
      " 36.061383 seconds (335.02 M allocations: 39.008 GiB, 9.90% gc time)\n",
      "Ne = 100\n",
      "Ne 100& β 0.98& Lrad 6.0 RMSE: 0.9402421172457184\n",
      "(Ne, β, Lrad) = (100, 0.98, 7.0)\n",
      " 35.005731 seconds (335.02 M allocations: 39.008 GiB, 9.02% gc time)\n",
      "Ne = 100\n"
     ]
    },
    {
     "name": "stdout",
     "output_type": "stream",
     "text": [
      "Ne 100& β 0.98& Lrad 7.0 RMSE: 0.907824068556991\n",
      "(Ne, β, Lrad) = (100, 0.98, 8.0)\n",
      " 35.177713 seconds (335.02 M allocations: 39.008 GiB, 9.17% gc time)\n",
      "Ne = 100\n",
      "Ne 100& β 0.98& Lrad 8.0 RMSE: 0.9555490045083257\n",
      "(Ne, β, Lrad) = (100, 0.98, 9.0)\n",
      " 35.046621 seconds (335.02 M allocations: 39.008 GiB, 9.52% gc time)\n",
      "Ne = 100\n",
      "Ne 100& β 0.98& Lrad 9.0 RMSE: 0.9445408841245556\n",
      "(Ne, β, Lrad) = (100, 0.98, 10.0)\n",
      " 35.535368 seconds (335.02 M allocations: 39.008 GiB, 9.27% gc time)\n",
      "Ne = 100\n",
      "Ne 100& β 0.98& Lrad 10.0 RMSE: 0.9607702545660266\n",
      "(Ne, β, Lrad) = (100, 0.98, 11.0)\n",
      " 35.217939 seconds (335.02 M allocations: 39.008 GiB, 9.31% gc time)\n",
      "Ne = 100\n",
      "Ne 100& β 0.98& Lrad 11.0 RMSE: 0.9435662028698507\n",
      "(Ne, β, Lrad) = (100, 0.98, 12.0)\n",
      " 35.245711 seconds (335.02 M allocations: 39.008 GiB, 9.72% gc time)\n",
      "Ne = 100\n",
      "Ne 100& β 0.98& Lrad 12.0 RMSE: 1.0034851813460408\n",
      "(Ne, β, Lrad) = (100, 0.98, 13.0)\n",
      " 34.992037 seconds (335.02 M allocations: 39.008 GiB, 8.97% gc time)\n",
      "Ne = 100\n",
      "Ne 100& β 0.98& Lrad 13.0 RMSE: 0.9782680701033114\n",
      "(Ne, β, Lrad) = (100, 0.99, 4.0)\n",
      " 34.821223 seconds (335.02 M allocations: 39.008 GiB, 9.33% gc time)\n",
      "Ne = 100\n",
      "Ne 100& β 0.99& Lrad 4.0 RMSE: 1.0110025875309687\n",
      "(Ne, β, Lrad) = (100, 0.99, 5.0)\n",
      " 35.201058 seconds (335.02 M allocations: 39.008 GiB, 9.39% gc time)\n",
      "Ne = 100\n",
      "Ne 100& β 0.99& Lrad 5.0 RMSE: 0.9524785470070988\n",
      "(Ne, β, Lrad) = (100, 0.99, 6.0)\n",
      " 34.851666 seconds (335.02 M allocations: 39.008 GiB, 9.11% gc time)\n",
      "Ne = 100\n",
      "Ne 100& β 0.99& Lrad 6.0 RMSE: 0.9281370312150029\n",
      "(Ne, β, Lrad) = (100, 0.99, 7.0)\n",
      " 34.917219 seconds (335.02 M allocations: 39.008 GiB, 9.20% gc time)\n",
      "Ne = 100\n",
      "Ne 100& β 0.99& Lrad 7.0 RMSE: 0.9124440315110631\n",
      "(Ne, β, Lrad) = (100, 0.99, 8.0)\n",
      " 35.121133 seconds (335.02 M allocations: 39.008 GiB, 9.65% gc time)\n",
      "Ne = 100\n",
      "Ne 100& β 0.99& Lrad 8.0 RMSE: 0.9090109266988424\n",
      "(Ne, β, Lrad) = (100, 0.99, 9.0)\n",
      " 34.802150 seconds (335.02 M allocations: 39.008 GiB, 9.09% gc time)\n",
      "Ne = 100\n",
      "Ne 100& β 0.99& Lrad 9.0 RMSE: 0.925737515747807\n",
      "(Ne, β, Lrad) = (100, 0.99, 10.0)\n",
      " 34.653082 seconds (335.02 M allocations: 39.008 GiB, 9.30% gc time)\n",
      "Ne = 100\n",
      "Ne 100& β 0.99& Lrad 10.0 RMSE: 0.9434117572395392\n",
      "(Ne, β, Lrad) = (100, 0.99, 11.0)\n",
      " 34.765090 seconds (335.02 M allocations: 39.008 GiB, 9.44% gc time)\n",
      "Ne = 100\n",
      "Ne 100& β 0.99& Lrad 11.0 RMSE: 0.9887642492333236\n",
      "(Ne, β, Lrad) = (100, 0.99, 12.0)\n",
      " 34.847075 seconds (335.02 M allocations: 39.008 GiB, 9.27% gc time)\n",
      "Ne = 100\n",
      "Ne 100& β 0.99& Lrad 12.0 RMSE: 1.012505298054612\n",
      "(Ne, β, Lrad) = (100, 0.99, 13.0)\n",
      " 35.036723 seconds (335.02 M allocations: 39.008 GiB, 9.86% gc time)\n",
      "Ne = 100\n",
      "Ne 100& β 0.99& Lrad 13.0 RMSE: 0.9686910396917787\n",
      "(Ne, β, Lrad) = (100, 1.0, 4.0)\n",
      " 34.422748 seconds (335.02 M allocations: 39.008 GiB, 9.05% gc time)\n",
      "Ne = 100\n",
      "Ne 100& β 1.0& Lrad 4.0 RMSE: 1.004728027434483\n",
      "(Ne, β, Lrad) = (100, 1.0, 5.0)\n",
      " 34.608665 seconds (335.02 M allocations: 39.008 GiB, 9.45% gc time)\n",
      "Ne = 100\n",
      "Ne 100& β 1.0& Lrad 5.0 RMSE: 0.9622521968967048\n",
      "(Ne, β, Lrad) = (100, 1.0, 6.0)\n",
      " 34.641830 seconds (335.02 M allocations: 39.008 GiB, 9.34% gc time)\n",
      "Ne = 100\n",
      "Ne 100& β 1.0& Lrad 6.0 RMSE: 0.9355738495162973\n",
      "(Ne, β, Lrad) = (100, 1.0, 7.0)\n",
      " 34.812784 seconds (335.02 M allocations: 39.008 GiB, 9.36% gc time)\n",
      "Ne = 100\n",
      "Ne 100& β 1.0& Lrad 7.0 RMSE: 0.9204311917766981\n",
      "(Ne, β, Lrad) = (100, 1.0, 8.0)\n",
      " 35.008474 seconds (335.02 M allocations: 39.008 GiB, 9.91% gc time)\n",
      "Ne = 100\n",
      "Ne 100& β 1.0& Lrad 8.0 RMSE: 0.9093114609394791\n",
      "(Ne, β, Lrad) = (100, 1.0, 9.0)\n",
      " 34.558689 seconds (335.02 M allocations: 39.008 GiB, 9.05% gc time)\n",
      "Ne = 100\n",
      "Ne 100& β 1.0& Lrad 9.0 RMSE: 0.9580347716974313\n",
      "(Ne, β, Lrad) = (100, 1.0, 10.0)\n",
      " 34.640439 seconds (335.02 M allocations: 39.008 GiB, 9.20% gc time)\n",
      "Ne = 100\n",
      "Ne 100& β 1.0& Lrad 10.0 RMSE: 0.9373108981865814\n",
      "(Ne, β, Lrad) = (100, 1.0, 11.0)\n",
      " 34.787253 seconds (335.02 M allocations: 39.008 GiB, 9.52% gc time)\n",
      "Ne = 100\n",
      "Ne 100& β 1.0& Lrad 11.0 RMSE: 0.9773310935774254\n",
      "(Ne, β, Lrad) = (100, 1.0, 12.0)\n",
      " 34.908412 seconds (335.02 M allocations: 39.008 GiB, 9.28% gc time)\n",
      "Ne = 100\n",
      "Ne 100& β 1.0& Lrad 12.0 RMSE: 0.9983541576539317\n",
      "(Ne, β, Lrad) = (100, 1.0, 13.0)\n",
      " 34.885965 seconds (335.02 M allocations: 39.008 GiB, 9.65% gc time)\n",
      "Ne = 100\n",
      "Ne 100& β 1.0& Lrad 13.0 RMSE: 1.0402389273278652\n",
      "(Ne, β, Lrad) = (100, 1.01, 4.0)\n",
      " 34.479194 seconds (335.02 M allocations: 39.008 GiB, 9.22% gc time)\n",
      "Ne = 100\n",
      "Ne 100& β 1.01& Lrad 4.0 RMSE: 1.0090781986518922\n",
      "(Ne, β, Lrad) = (100, 1.01, 5.0)\n",
      " 34.648070 seconds (335.02 M allocations: 39.008 GiB, 9.51% gc time)\n",
      "Ne = 100\n",
      "Ne 100& β 1.01& Lrad 5.0 RMSE: 0.9489324941312506\n",
      "(Ne, β, Lrad) = (100, 1.01, 6.0)\n",
      " 34.618325 seconds (335.02 M allocations: 39.008 GiB, 9.39% gc time)\n",
      "Ne = 100\n",
      "Ne 100& β 1.01& Lrad 6.0 RMSE: 0.9218211546344571\n",
      "(Ne, β, Lrad) = (100, 1.01, 7.0)\n",
      " 34.983371 seconds (335.02 M allocations: 39.008 GiB, 9.33% gc time)\n",
      "Ne = 100\n",
      "Ne 100& β 1.01& Lrad 7.0 RMSE: 0.9081358314838359\n",
      "(Ne, β, Lrad) = (100, 1.01, 8.0)\n",
      " 34.996136 seconds (335.02 M allocations: 39.008 GiB, 9.84% gc time)\n",
      "Ne = 100\n",
      "Ne 100& β 1.01& Lrad 8.0 RMSE: 0.9465255066307439\n",
      "(Ne, β, Lrad) = (100, 1.01, 9.0)\n",
      " 35.006074 seconds (335.02 M allocations: 39.008 GiB, 9.14% gc time)\n",
      "Ne = 100\n",
      "Ne 100& β 1.01& Lrad 9.0 RMSE: 0.9160367003583508\n",
      "(Ne, β, Lrad) = (100, 1.01, 10.0)\n",
      " 35.567139 seconds (335.02 M allocations: 39.008 GiB, 9.34% gc time)\n",
      "Ne = 100\n",
      "Ne 100& β 1.01& Lrad 10.0 RMSE: 0.9496095451968961\n",
      "(Ne, β, Lrad) = (100, 1.01, 11.0)\n",
      " 36.979783 seconds (335.02 M allocations: 39.008 GiB, 9.29% gc time)\n",
      "Ne = 100\n",
      "Ne 100& β 1.01& Lrad 11.0 RMSE: 0.9425337489959527\n",
      "(Ne, β, Lrad) = (100, 1.01, 12.0)\n",
      " 36.893955 seconds (335.02 M allocations: 39.008 GiB, 9.51% gc time)\n",
      "Ne = 100\n",
      "Ne 100& β 1.01& Lrad 12.0 RMSE: 0.9664980850151512\n",
      "(Ne, β, Lrad) = (100, 1.01, 13.0)\n",
      " 35.573774 seconds (335.02 M allocations: 39.008 GiB, 9.71% gc time)\n",
      "Ne = 100\n",
      "Ne 100& β 1.01& Lrad 13.0 RMSE: 0.9948560615717149\n",
      "(Ne, β, Lrad) = (100, 1.02, 4.0)\n",
      " 35.413696 seconds (335.02 M allocations: 39.008 GiB, 9.41% gc time)\n",
      "Ne = 100\n",
      "Ne 100& β 1.02& Lrad 4.0 RMSE: 1.0064576196908022\n",
      "(Ne, β, Lrad) = (100, 1.02, 5.0)\n",
      " 35.211042 seconds (335.02 M allocations: 39.008 GiB, 9.54% gc time)\n",
      "Ne = 100\n",
      "Ne 100& β 1.02& Lrad 5.0 RMSE: 0.9710088906735114\n",
      "(Ne, β, Lrad) = (100, 1.02, 6.0)\n",
      " 35.087333 seconds (335.02 M allocations: 39.008 GiB, 9.39% gc time)\n",
      "Ne = 100\n",
      "Ne 100& β 1.02& Lrad 6.0 RMSE: 0.9463547164155058\n",
      "(Ne, β, Lrad) = (100, 1.02, 7.0)\n",
      " 35.664388 seconds (335.02 M allocations: 39.008 GiB, 9.75% gc time)\n",
      "Ne = 100\n",
      "Ne 100& β 1.02& Lrad 7.0 RMSE: 0.9036175416241335\n",
      "(Ne, β, Lrad) = (100, 1.02, 8.0)\n",
      " 35.161498 seconds (335.02 M allocations: 39.008 GiB, 9.27% gc time)\n",
      "Ne = 100\n",
      "Ne 100& β 1.02& Lrad 8.0 RMSE: 0.8927571992756483\n",
      "(Ne, β, Lrad) = (100, 1.02, 9.0)\n",
      " 34.914450 seconds (335.02 M allocations: 39.008 GiB, 9.36% gc time)\n",
      "Ne = 100\n",
      "Ne 100& β 1.02& Lrad 9.0 RMSE: 0.9269959893867318\n",
      "(Ne, β, Lrad) = (100, 1.02, 10.0)\n",
      " 35.136353 seconds (335.02 M allocations: 39.008 GiB, 9.42% gc time)\n",
      "Ne = 100\n",
      "Ne 100& β 1.02& Lrad 10.0 RMSE: 0.9865364494168852\n",
      "(Ne, β, Lrad) = (100, 1.02, 11.0)\n",
      " 35.406478 seconds (335.02 M allocations: 39.008 GiB, 10.06% gc time)\n",
      "Ne = 100\n",
      "Ne 100& β 1.02& Lrad 11.0 RMSE: 0.9282236103349376\n",
      "(Ne, β, Lrad) = (100, 1.02, 12.0)\n",
      " 35.426787 seconds (335.02 M allocations: 39.008 GiB, 9.24% gc time)\n",
      "Ne = 100\n",
      "Ne 100& β 1.02& Lrad 12.0 RMSE: 1.0105682367482647\n",
      "(Ne, β, Lrad) = (100, 1.02, 13.0)\n",
      " 35.172738 seconds (335.02 M allocations: 39.008 GiB, 9.40% gc time)\n",
      "Ne = 100\n",
      "Ne 100& β 1.02& Lrad 13.0 RMSE: 0.9529260309178852\n",
      "(Ne, β, Lrad) = (100, 1.03, 4.0)\n",
      " 35.267942 seconds (335.02 M allocations: 39.008 GiB, 9.48% gc time)\n",
      "Ne = 100\n",
      "Ne 100& β 1.03& Lrad 4.0 RMSE: 1.0076862921606502\n",
      "(Ne, β, Lrad) = (100, 1.03, 5.0)\n",
      " 35.474285 seconds (335.02 M allocations: 39.008 GiB, 9.83% gc time)\n",
      "Ne = 100\n",
      "Ne 100& β 1.03& Lrad 5.0 RMSE: 0.9618299755099144\n",
      "(Ne, β, Lrad) = (100, 1.03, 6.0)\n",
      " 34.646169 seconds (335.02 M allocations: 39.008 GiB, 9.35% gc time)\n",
      "Ne = 100\n",
      "Ne 100& β 1.03& Lrad 6.0 RMSE: 0.913523553851615\n",
      "(Ne, β, Lrad) = (100, 1.03, 7.0)\n",
      " 34.969342 seconds (335.02 M allocations: 39.008 GiB, 9.29% gc time)\n",
      "Ne = 100\n",
      "Ne 100& β 1.03& Lrad 7.0 RMSE: 0.9290729359356573\n",
      "(Ne, β, Lrad) = (100, 1.03, 8.0)\n",
      " 34.968880 seconds (335.02 M allocations: 39.008 GiB, 9.33% gc time)\n",
      "Ne = 100\n"
     ]
    },
    {
     "name": "stdout",
     "output_type": "stream",
     "text": [
      "Ne 100& β 1.03& Lrad 8.0 RMSE: 0.9018873511340755\n",
      "(Ne, β, Lrad) = (100, 1.03, 9.0)\n",
      " 35.346935 seconds (335.02 M allocations: 39.008 GiB, 9.75% gc time)\n",
      "Ne = 100\n",
      "Ne 100& β 1.03& Lrad 9.0 RMSE: 0.9610505229830859\n",
      "(Ne, β, Lrad) = (100, 1.03, 10.0)\n",
      " 34.598835 seconds (335.02 M allocations: 39.008 GiB, 9.19% gc time)\n",
      "Ne = 100\n",
      "Ne 100& β 1.03& Lrad 10.0 RMSE: 0.9629879384641047\n",
      "(Ne, β, Lrad) = (100, 1.03, 11.0)\n",
      " 34.829198 seconds (335.02 M allocations: 39.008 GiB, 9.35% gc time)\n",
      "Ne = 100\n",
      "Ne 100& β 1.03& Lrad 11.0 RMSE: 0.9391303098225164\n",
      "(Ne, β, Lrad) = (100, 1.03, 12.0)\n",
      " 34.714075 seconds (335.02 M allocations: 39.008 GiB, 9.33% gc time)\n",
      "Ne = 100\n",
      "Ne 100& β 1.03& Lrad 12.0 RMSE: 0.999326384133136\n",
      "(Ne, β, Lrad) = (100, 1.03, 13.0)\n",
      " 35.304127 seconds (335.02 M allocations: 39.008 GiB, 9.79% gc time)\n",
      "Ne = 100\n",
      "Ne 100& β 1.03& Lrad 13.0 RMSE: 1.032034688328475\n",
      "(Ne, β, Lrad) = (100, 1.04, 4.0)\n",
      " 34.875464 seconds (335.02 M allocations: 39.008 GiB, 9.35% gc time)\n",
      "Ne = 100\n",
      "Ne 100& β 1.04& Lrad 4.0 RMSE: 1.0185110211075807\n",
      "(Ne, β, Lrad) = (100, 1.04, 5.0)\n",
      " 34.459983 seconds (335.02 M allocations: 39.008 GiB, 9.25% gc time)\n",
      "Ne = 100\n",
      "Ne 100& β 1.04& Lrad 5.0 RMSE: 0.9554264861939276\n",
      "(Ne, β, Lrad) = (100, 1.04, 6.0)\n",
      " 34.902146 seconds (335.02 M allocations: 39.008 GiB, 9.33% gc time)\n",
      "Ne = 100\n",
      "Ne 100& β 1.04& Lrad 6.0 RMSE: 0.9216622014390113\n",
      "(Ne, β, Lrad) = (100, 1.04, 7.0)\n",
      " 34.922313 seconds (335.02 M allocations: 39.008 GiB, 9.84% gc time)\n",
      "Ne = 100\n",
      "Ne 100& β 1.04& Lrad 7.0 RMSE: 0.9134012062440081\n",
      "(Ne, β, Lrad) = (100, 1.04, 8.0)\n",
      " 34.467317 seconds (335.02 M allocations: 39.008 GiB, 9.25% gc time)\n",
      "Ne = 100\n",
      "Ne 100& β 1.04& Lrad 8.0 RMSE: 0.9023740327184518\n",
      "(Ne, β, Lrad) = (100, 1.04, 9.0)\n",
      " 34.599926 seconds (335.02 M allocations: 39.008 GiB, 9.56% gc time)\n",
      "Ne = 100\n",
      "Ne 100& β 1.04& Lrad 9.0 RMSE: 0.9348788107144135\n",
      "(Ne, β, Lrad) = (100, 1.04, 10.0)\n",
      " 34.923380 seconds (335.02 M allocations: 39.008 GiB, 10.02% gc time)\n",
      "Ne = 100\n",
      "Ne 100& β 1.04& Lrad 10.0 RMSE: 0.9494967730951946\n",
      "(Ne, β, Lrad) = (100, 1.04, 11.0)\n",
      " 34.542802 seconds (335.02 M allocations: 39.008 GiB, 9.29% gc time)\n",
      "Ne = 100\n",
      "Ne 100& β 1.04& Lrad 11.0 RMSE: 0.9353780059527905\n",
      "(Ne, β, Lrad) = (100, 1.04, 12.0)\n",
      " 34.580784 seconds (335.02 M allocations: 39.008 GiB, 9.35% gc time)\n",
      "Ne = 100\n",
      "Ne 100& β 1.04& Lrad 12.0 RMSE: 1.0324676843570781\n",
      "(Ne, β, Lrad) = (100, 1.04, 13.0)\n",
      " 35.045483 seconds (335.02 M allocations: 39.008 GiB, 9.88% gc time)\n",
      "Ne = 100\n",
      "Ne 100& β 1.04& Lrad 13.0 RMSE: 0.9828073654082101\n",
      "(Ne, β, Lrad) = (100, 1.05, 4.0)\n",
      " 34.527366 seconds (335.02 M allocations: 39.008 GiB, 9.30% gc time)\n",
      "Ne = 100\n",
      "Ne 100& β 1.05& Lrad 4.0 RMSE: 0.9994907166265916\n",
      "(Ne, β, Lrad) = (100, 1.05, 5.0)\n",
      " 35.134441 seconds (335.02 M allocations: 39.008 GiB, 9.39% gc time)\n",
      "Ne = 100\n",
      "Ne 100& β 1.05& Lrad 5.0 RMSE: 0.940475813031596\n",
      "(Ne, β, Lrad) = (100, 1.05, 6.0)\n",
      " 35.274433 seconds (335.02 M allocations: 39.008 GiB, 10.00% gc time)\n",
      "Ne = 100\n",
      "Ne 100& β 1.05& Lrad 6.0 RMSE: 0.928663811423508\n",
      "(Ne, β, Lrad) = (100, 1.05, 7.0)\n",
      " 34.869689 seconds (335.02 M allocations: 39.008 GiB, 9.42% gc time)\n",
      "Ne = 100\n",
      "Ne 100& β 1.05& Lrad 7.0 RMSE: 0.9158715386033246\n",
      "(Ne, β, Lrad) = (100, 1.05, 8.0)\n",
      " 35.055726 seconds (335.02 M allocations: 39.008 GiB, 9.22% gc time)\n",
      "Ne = 100\n",
      "Ne 100& β 1.05& Lrad 8.0 RMSE: 0.8906799919772546\n",
      "(Ne, β, Lrad) = (100, 1.05, 9.0)\n",
      " 34.878909 seconds (335.02 M allocations: 39.008 GiB, 9.87% gc time)\n",
      "Ne = 100\n",
      "Ne 100& β 1.05& Lrad 9.0 RMSE: 0.885469778456863\n",
      "(Ne, β, Lrad) = (100, 1.05, 10.0)\n",
      " 34.564125 seconds (335.02 M allocations: 39.008 GiB, 9.25% gc time)\n",
      "Ne = 100\n",
      "Ne 100& β 1.05& Lrad 10.0 RMSE: 0.922961944919699\n",
      "(Ne, β, Lrad) = (100, 1.05, 11.0)\n",
      " 34.511582 seconds (335.02 M allocations: 39.008 GiB, 9.32% gc time)\n",
      "Ne = 100\n",
      "Ne 100& β 1.05& Lrad 11.0 RMSE: 0.944996417779809\n",
      "(Ne, β, Lrad) = (100, 1.05, 12.0)\n",
      " 35.156967 seconds (335.02 M allocations: 39.008 GiB, 10.02% gc time)\n",
      "Ne = 100\n",
      "Ne 100& β 1.05& Lrad 12.0 RMSE: 0.9601010978369114\n",
      "(Ne, β, Lrad) = (100, 1.05, 13.0)\n",
      " 34.521531 seconds (335.02 M allocations: 39.008 GiB, 9.29% gc time)\n",
      "Ne = 100\n"
     ]
    },
    {
     "name": "stderr",
     "output_type": "stream",
     "text": [
      "\r",
      "\u001b[32mProgress:  40%|████████████████▍                        |  ETA: 2:08:32\u001b[39m"
     ]
    },
    {
     "name": "stdout",
     "output_type": "stream",
     "text": [
      "Ne 100& β 1.05& Lrad 13.0 RMSE: 0.9669300645136183\n",
      "(Ne, β, Lrad) = (200, 0.97, 4.0)\n",
      " 68.135754 seconds (667.02 M allocations: 74.042 GiB, 9.63% gc time)\n",
      "Ne = 200\n",
      "Ne 200& β 0.97& Lrad 4.0 RMSE: 0.9921791850149424\n",
      "(Ne, β, Lrad) = (200, 0.97, 5.0)\n",
      " 68.461934 seconds (667.02 M allocations: 74.042 GiB, 9.68% gc time)\n",
      "Ne = 200\n",
      "Ne 200& β 0.97& Lrad 5.0 RMSE: 0.9384787584060187\n",
      "(Ne, β, Lrad) = (200, 0.97, 6.0)\n",
      " 68.128463 seconds (667.02 M allocations: 74.042 GiB, 9.61% gc time)\n",
      "Ne = 200\n",
      "Ne 200& β 0.97& Lrad 6.0 RMSE: 0.893480464469252\n",
      "(Ne, β, Lrad) = (200, 0.97, 7.0)\n",
      " 67.790262 seconds (667.02 M allocations: 74.042 GiB, 9.64% gc time)\n",
      "Ne = 200\n",
      "Ne 200& β 0.97& Lrad 7.0 RMSE: 0.8779329525838012\n",
      "(Ne, β, Lrad) = (200, 0.97, 8.0)\n",
      " 68.084818 seconds (667.02 M allocations: 74.042 GiB, 9.62% gc time)\n",
      "Ne = 200\n",
      "Ne 200& β 0.97& Lrad 8.0 RMSE: 0.8683644768480498\n",
      "(Ne, β, Lrad) = (200, 0.97, 9.0)\n",
      " 69.495287 seconds (667.02 M allocations: 74.042 GiB, 9.57% gc time)\n",
      "Ne = 200\n",
      "Ne 200& β 0.97& Lrad 9.0 RMSE: 0.8378653625279271\n",
      "(Ne, β, Lrad) = (200, 0.97, 10.0)\n",
      " 68.622203 seconds (667.02 M allocations: 74.042 GiB, 9.70% gc time)\n",
      "Ne = 200\n",
      "Ne 200& β 0.97& Lrad 10.0 RMSE: 0.8297797566459901\n",
      "(Ne, β, Lrad) = (200, 0.97, 11.0)\n",
      " 68.534959 seconds (667.02 M allocations: 74.042 GiB, 9.66% gc time)\n",
      "Ne = 200\n",
      "Ne 200& β 0.97& Lrad 11.0 RMSE: 0.8434128946236137\n",
      "(Ne, β, Lrad) = (200, 0.97, 12.0)\n",
      " 68.606574 seconds (667.02 M allocations: 74.042 GiB, 9.64% gc time)\n",
      "Ne = 200\n",
      "Ne 200& β 0.97& Lrad 12.0 RMSE: 0.8786173856366263\n",
      "(Ne, β, Lrad) = (200, 0.97, 13.0)\n",
      " 68.132919 seconds (667.02 M allocations: 74.042 GiB, 9.66% gc time)\n",
      "Ne = 200\n",
      "Ne 200& β 0.97& Lrad 13.0 RMSE: 0.8609020924153713\n",
      "(Ne, β, Lrad) = (200, 0.98, 4.0)\n",
      " 68.500652 seconds (667.02 M allocations: 74.042 GiB, 9.67% gc time)\n",
      "Ne = 200\n",
      "Ne 200& β 0.98& Lrad 4.0 RMSE: 0.9914504212315908\n",
      "(Ne, β, Lrad) = (200, 0.98, 5.0)\n",
      " 67.998274 seconds (667.02 M allocations: 74.042 GiB, 9.64% gc time)\n",
      "Ne = 200\n",
      "Ne 200& β 0.98& Lrad 5.0 RMSE: 0.9318529380343682\n",
      "(Ne, β, Lrad) = (200, 0.98, 6.0)\n",
      " 67.888320 seconds (667.02 M allocations: 74.042 GiB, 9.65% gc time)\n",
      "Ne = 200\n",
      "Ne 200& β 0.98& Lrad 6.0 RMSE: 0.8872727458105849\n",
      "(Ne, β, Lrad) = (200, 0.98, 7.0)\n",
      " 68.363947 seconds (667.02 M allocations: 74.042 GiB, 9.64% gc time)\n",
      "Ne = 200\n",
      "Ne 200& β 0.98& Lrad 7.0 RMSE: 0.8648763767045075\n",
      "(Ne, β, Lrad) = (200, 0.98, 8.0)\n",
      " 68.530897 seconds (667.02 M allocations: 74.042 GiB, 9.65% gc time)\n",
      "Ne = 200\n",
      "Ne 200& β 0.98& Lrad 8.0 RMSE: 0.8615446951034853\n",
      "(Ne, β, Lrad) = (200, 0.98, 9.0)\n",
      " 70.179979 seconds (667.02 M allocations: 74.042 GiB, 9.55% gc time)\n",
      "Ne = 200\n",
      "Ne 200& β 0.98& Lrad 9.0 RMSE: 0.843531245072619\n",
      "(Ne, β, Lrad) = (200, 0.98, 10.0)\n",
      " 69.849218 seconds (667.02 M allocations: 74.042 GiB, 9.59% gc time)\n",
      "Ne = 200\n",
      "Ne 200& β 0.98& Lrad 10.0 RMSE: 0.8688258759027199\n",
      "(Ne, β, Lrad) = (200, 0.98, 11.0)\n",
      " 69.852083 seconds (667.02 M allocations: 74.042 GiB, 9.62% gc time)\n",
      "Ne = 200\n",
      "Ne 200& β 0.98& Lrad 11.0 RMSE: 0.879116053137655\n",
      "(Ne, β, Lrad) = (200, 0.98, 12.0)\n",
      " 68.429762 seconds (667.02 M allocations: 74.042 GiB, 9.60% gc time)\n",
      "Ne = 200\n",
      "Ne 200& β 0.98& Lrad 12.0 RMSE: 0.8765941706197835\n",
      "(Ne, β, Lrad) = (200, 0.98, 13.0)\n",
      " 67.906393 seconds (667.02 M allocations: 74.042 GiB, 9.62% gc time)\n",
      "Ne = 200\n",
      "Ne 200& β 0.98& Lrad 13.0 RMSE: 0.8724230225379909\n",
      "(Ne, β, Lrad) = (200, 0.99, 4.0)\n",
      " 67.853384 seconds (667.02 M allocations: 74.042 GiB, 9.66% gc time)\n",
      "Ne = 200\n",
      "Ne 200& β 0.99& Lrad 4.0 RMSE: 0.9927134012571229\n",
      "(Ne, β, Lrad) = (200, 0.99, 5.0)\n",
      " 68.629162 seconds (667.02 M allocations: 74.042 GiB, 9.64% gc time)\n",
      "Ne = 200\n",
      "Ne 200& β 0.99& Lrad 5.0 RMSE: 0.9260711312447061\n",
      "(Ne, β, Lrad) = (200, 0.99, 6.0)\n",
      " 68.298542 seconds (667.02 M allocations: 74.042 GiB, 9.62% gc time)\n",
      "Ne = 200\n",
      "Ne 200& β 0.99& Lrad 6.0 RMSE: 0.8964943697593275\n",
      "(Ne, β, Lrad) = (200, 0.99, 7.0)\n",
      " 68.095256 seconds (667.02 M allocations: 74.042 GiB, 9.64% gc time)\n",
      "Ne = 200\n",
      "Ne 200& β 0.99& Lrad 7.0 RMSE: 0.869346241127439\n",
      "(Ne, β, Lrad) = (200, 0.99, 8.0)\n",
      " 68.430573 seconds (667.02 M allocations: 74.042 GiB, 9.64% gc time)\n",
      "Ne = 200\n",
      "Ne 200& β 0.99& Lrad 8.0 RMSE: 0.8699922183225536\n",
      "(Ne, β, Lrad) = (200, 0.99, 9.0)\n",
      " 68.425045 seconds (667.02 M allocations: 74.042 GiB, 9.60% gc time)\n",
      "Ne = 200\n",
      "Ne 200& β 0.99& Lrad 9.0 RMSE: 0.8324634434806447\n",
      "(Ne, β, Lrad) = (200, 0.99, 10.0)\n",
      " 68.805597 seconds (667.02 M allocations: 74.042 GiB, 9.63% gc time)\n",
      "Ne = 200\n",
      "Ne 200& β 0.99& Lrad 10.0 RMSE: 0.8440869064455075\n",
      "(Ne, β, Lrad) = (200, 0.99, 11.0)\n",
      " 69.032437 seconds (667.02 M allocations: 74.042 GiB, 9.64% gc time)\n",
      "Ne = 200\n",
      "Ne 200& β 0.99& Lrad 11.0 RMSE: 0.8368360860633479\n",
      "(Ne, β, Lrad) = (200, 0.99, 12.0)\n",
      " 69.496322 seconds (667.02 M allocations: 74.042 GiB, 9.61% gc time)\n",
      "Ne = 200\n",
      "Ne 200& β 0.99& Lrad 12.0 RMSE: 0.8477177085491301\n",
      "(Ne, β, Lrad) = (200, 0.99, 13.0)\n",
      " 69.200542 seconds (667.02 M allocations: 74.042 GiB, 9.56% gc time)\n",
      "Ne = 200\n",
      "Ne 200& β 0.99& Lrad 13.0 RMSE: 0.8691481646645184\n",
      "(Ne, β, Lrad) = (200, 1.0, 4.0)\n",
      " 70.519347 seconds (667.02 M allocations: 74.042 GiB, 9.58% gc time)\n",
      "Ne = 200\n",
      "Ne 200& β 1.0& Lrad 4.0 RMSE: 0.9920122890874287\n",
      "(Ne, β, Lrad) = (200, 1.0, 5.0)\n",
      " 70.068034 seconds (667.02 M allocations: 74.042 GiB, 9.62% gc time)\n",
      "Ne = 200\n",
      "Ne 200& β 1.0& Lrad 5.0 RMSE: 0.9389717820146829\n",
      "(Ne, β, Lrad) = (200, 1.0, 6.0)\n",
      " 69.788645 seconds (667.02 M allocations: 74.042 GiB, 9.70% gc time)\n",
      "Ne = 200\n",
      "Ne 200& β 1.0& Lrad 6.0 RMSE: 0.8893150841197071\n",
      "(Ne, β, Lrad) = (200, 1.0, 7.0)\n",
      " 69.015770 seconds (667.02 M allocations: 74.042 GiB, 9.74% gc time)\n",
      "Ne = 200\n",
      "Ne 200& β 1.0& Lrad 7.0 RMSE: 0.866849762591135\n",
      "(Ne, β, Lrad) = (200, 1.0, 8.0)\n",
      " 69.467605 seconds (667.02 M allocations: 74.042 GiB, 9.71% gc time)\n",
      "Ne = 200\n",
      "Ne 200& β 1.0& Lrad 8.0 RMSE: 0.868964372294632\n",
      "(Ne, β, Lrad) = (200, 1.0, 9.0)\n",
      " 69.053738 seconds (667.02 M allocations: 74.042 GiB, 9.72% gc time)\n",
      "Ne = 200\n",
      "Ne 200& β 1.0& Lrad 9.0 RMSE: 0.8478324376034377\n",
      "(Ne, β, Lrad) = (200, 1.0, 10.0)\n",
      " 68.543018 seconds (667.02 M allocations: 74.042 GiB, 9.71% gc time)\n",
      "Ne = 200\n",
      "Ne 200& β 1.0& Lrad 10.0 RMSE: 0.8351794847272918\n",
      "(Ne, β, Lrad) = (200, 1.0, 11.0)\n",
      " 68.030203 seconds (667.02 M allocations: 74.042 GiB, 9.65% gc time)\n",
      "Ne = 200\n",
      "Ne 200& β 1.0& Lrad 11.0 RMSE: 0.8432428095384898\n",
      "(Ne, β, Lrad) = (200, 1.0, 12.0)\n",
      " 68.728452 seconds (667.02 M allocations: 74.042 GiB, 9.65% gc time)\n",
      "Ne = 200\n",
      "Ne 200& β 1.0& Lrad 12.0 RMSE: 0.848805891964863\n",
      "(Ne, β, Lrad) = (200, 1.0, 13.0)\n",
      " 68.477738 seconds (667.02 M allocations: 74.042 GiB, 9.64% gc time)\n",
      "Ne = 200\n",
      "Ne 200& β 1.0& Lrad 13.0 RMSE: 0.8575863395586276\n",
      "(Ne, β, Lrad) = (200, 1.01, 4.0)\n",
      " 68.969968 seconds (667.02 M allocations: 74.042 GiB, 9.62% gc time)\n",
      "Ne = 200\n",
      "Ne 200& β 1.01& Lrad 4.0 RMSE: 0.9930732840689352\n",
      "(Ne, β, Lrad) = (200, 1.01, 5.0)\n",
      " 69.284261 seconds (667.02 M allocations: 74.042 GiB, 9.85% gc time)\n",
      "Ne = 200\n",
      "Ne 200& β 1.01& Lrad 5.0 RMSE: 0.9206563271209631\n",
      "(Ne, β, Lrad) = (200, 1.01, 6.0)\n",
      " 64.789838 seconds (667.02 M allocations: 74.042 GiB, 9.89% gc time)\n",
      "Ne = 200\n",
      "Ne 200& β 1.01& Lrad 6.0 RMSE: 0.8917221130085955\n",
      "(Ne, β, Lrad) = (200, 1.01, 7.0)\n",
      " 65.244494 seconds (667.02 M allocations: 74.042 GiB, 9.91% gc time)\n",
      "Ne = 200\n",
      "Ne 200& β 1.01& Lrad 7.0 RMSE: 0.868742520577058\n",
      "(Ne, β, Lrad) = (200, 1.01, 8.0)\n",
      " 67.865928 seconds (667.02 M allocations: 74.042 GiB, 9.80% gc time)\n",
      "Ne = 200\n",
      "Ne 200& β 1.01& Lrad 8.0 RMSE: 0.8448278182945551\n",
      "(Ne, β, Lrad) = (200, 1.01, 9.0)\n",
      " 67.470206 seconds (667.02 M allocations: 74.042 GiB, 9.84% gc time)\n",
      "Ne = 200\n",
      "Ne 200& β 1.01& Lrad 9.0 RMSE: 0.8434191791721273\n",
      "(Ne, β, Lrad) = (200, 1.01, 10.0)\n",
      " 68.501293 seconds (667.02 M allocations: 74.042 GiB, 9.78% gc time)\n",
      "Ne = 200\n",
      "Ne 200& β 1.01& Lrad 10.0 RMSE: 0.8608538990657335\n",
      "(Ne, β, Lrad) = (200, 1.01, 11.0)\n",
      " 69.170802 seconds (667.02 M allocations: 74.042 GiB, 9.73% gc time)\n",
      "Ne = 200\n",
      "Ne 200& β 1.01& Lrad 11.0 RMSE: 0.8417472486435708\n",
      "(Ne, β, Lrad) = (200, 1.01, 12.0)\n",
      " 68.312732 seconds (667.02 M allocations: 74.042 GiB, 9.85% gc time)\n",
      "Ne = 200\n",
      "Ne 200& β 1.01& Lrad 12.0 RMSE: 0.8535974921948608\n",
      "(Ne, β, Lrad) = (200, 1.01, 13.0)\n",
      " 68.523865 seconds (667.02 M allocations: 74.042 GiB, 9.83% gc time)\n",
      "Ne = 200\n",
      "Ne 200& β 1.01& Lrad 13.0 RMSE: 0.8531188473260564\n",
      "(Ne, β, Lrad) = (200, 1.02, 4.0)\n",
      " 64.871427 seconds (667.02 M allocations: 74.042 GiB, 9.89% gc time)\n",
      "Ne = 200\n"
     ]
    },
    {
     "name": "stdout",
     "output_type": "stream",
     "text": [
      "Ne 200& β 1.02& Lrad 4.0 RMSE: 0.9869772209016278\n",
      "(Ne, β, Lrad) = (200, 1.02, 5.0)\n",
      " 64.086092 seconds (667.02 M allocations: 74.042 GiB, 9.91% gc time)\n",
      "Ne = 200\n",
      "Ne 200& β 1.02& Lrad 5.0 RMSE: 0.9332999869406281\n",
      "(Ne, β, Lrad) = (200, 1.02, 6.0)\n",
      " 63.687465 seconds (667.02 M allocations: 74.042 GiB, 9.93% gc time)\n",
      "Ne = 200\n",
      "Ne 200& β 1.02& Lrad 6.0 RMSE: 0.9015249235434797\n",
      "(Ne, β, Lrad) = (200, 1.02, 7.0)\n",
      " 64.238501 seconds (667.02 M allocations: 74.042 GiB, 9.88% gc time)\n",
      "Ne = 200\n",
      "Ne 200& β 1.02& Lrad 7.0 RMSE: 0.8466101856525698\n",
      "(Ne, β, Lrad) = (200, 1.02, 8.0)\n",
      " 63.836238 seconds (667.02 M allocations: 74.042 GiB, 9.92% gc time)\n",
      "Ne = 200\n",
      "Ne 200& β 1.02& Lrad 8.0 RMSE: 0.8456714985534297\n",
      "(Ne, β, Lrad) = (200, 1.02, 9.0)\n",
      " 63.815576 seconds (667.02 M allocations: 74.042 GiB, 9.92% gc time)\n",
      "Ne = 200\n",
      "Ne 200& β 1.02& Lrad 9.0 RMSE: 0.8398694101889673\n",
      "(Ne, β, Lrad) = (200, 1.02, 10.0)\n",
      " 63.694782 seconds (667.02 M allocations: 74.042 GiB, 9.90% gc time)\n",
      "Ne = 200\n",
      "Ne 200& β 1.02& Lrad 10.0 RMSE: 0.8401580731476386\n",
      "(Ne, β, Lrad) = (200, 1.02, 11.0)\n",
      " 64.155118 seconds (667.02 M allocations: 74.042 GiB, 9.91% gc time)\n",
      "Ne = 200\n",
      "Ne 200& β 1.02& Lrad 11.0 RMSE: 0.8442382959903946\n",
      "(Ne, β, Lrad) = (200, 1.02, 12.0)\n",
      " 63.708035 seconds (667.02 M allocations: 74.042 GiB, 9.90% gc time)\n",
      "Ne = 200\n",
      "Ne 200& β 1.02& Lrad 12.0 RMSE: 0.8345530874818071\n",
      "(Ne, β, Lrad) = (200, 1.02, 13.0)\n",
      " 63.632907 seconds (667.02 M allocations: 74.042 GiB, 9.91% gc time)\n",
      "Ne = 200\n",
      "Ne 200& β 1.02& Lrad 13.0 RMSE: 0.8504314871406697\n",
      "(Ne, β, Lrad) = (200, 1.03, 4.0)\n",
      " 63.819555 seconds (667.02 M allocations: 74.042 GiB, 9.92% gc time)\n",
      "Ne = 200\n",
      "Ne 200& β 1.03& Lrad 4.0 RMSE: 0.997087103048991\n",
      "(Ne, β, Lrad) = (200, 1.03, 5.0)\n",
      " 63.915053 seconds (667.02 M allocations: 74.042 GiB, 9.88% gc time)\n",
      "Ne = 200\n",
      "Ne 200& β 1.03& Lrad 5.0 RMSE: 0.9341355768368464\n",
      "(Ne, β, Lrad) = (200, 1.03, 6.0)\n",
      " 64.378536 seconds (667.02 M allocations: 74.042 GiB, 9.88% gc time)\n",
      "Ne = 200\n",
      "Ne 200& β 1.03& Lrad 6.0 RMSE: 0.9193136895084812\n",
      "(Ne, β, Lrad) = (200, 1.03, 7.0)\n",
      " 63.998433 seconds (667.02 M allocations: 74.042 GiB, 9.89% gc time)\n",
      "Ne = 200\n",
      "Ne 200& β 1.03& Lrad 7.0 RMSE: 0.8812121093868971\n",
      "(Ne, β, Lrad) = (200, 1.03, 8.0)\n",
      " 64.005504 seconds (667.02 M allocations: 74.042 GiB, 9.86% gc time)\n",
      "Ne = 200\n",
      "Ne 200& β 1.03& Lrad 8.0 RMSE: 0.8580482094112767\n",
      "(Ne, β, Lrad) = (200, 1.03, 9.0)\n",
      " 64.046828 seconds (667.02 M allocations: 74.042 GiB, 9.89% gc time)\n",
      "Ne = 200\n",
      "Ne 200& β 1.03& Lrad 9.0 RMSE: 0.8602333866197462\n",
      "(Ne, β, Lrad) = (200, 1.03, 10.0)\n",
      " 64.524967 seconds (667.02 M allocations: 74.042 GiB, 9.86% gc time)\n",
      "Ne = 200\n",
      "Ne 200& β 1.03& Lrad 10.0 RMSE: 0.8492683882518285\n",
      "(Ne, β, Lrad) = (200, 1.03, 11.0)\n",
      " 64.054112 seconds (667.02 M allocations: 74.042 GiB, 9.85% gc time)\n",
      "Ne = 200\n",
      "Ne 200& β 1.03& Lrad 11.0 RMSE: 0.8316928784924051\n",
      "(Ne, β, Lrad) = (200, 1.03, 12.0)\n",
      " 63.964502 seconds (667.02 M allocations: 74.042 GiB, 9.91% gc time)\n",
      "Ne = 200\n",
      "Ne 200& β 1.03& Lrad 12.0 RMSE: 0.8358351352611607\n",
      "(Ne, β, Lrad) = (200, 1.03, 13.0)\n",
      " 64.008939 seconds (667.02 M allocations: 74.042 GiB, 9.87% gc time)\n",
      "Ne = 200\n",
      "Ne 200& β 1.03& Lrad 13.0 RMSE: 0.8276169074247993\n",
      "(Ne, β, Lrad) = (200, 1.04, 4.0)\n",
      " 63.881256 seconds (667.02 M allocations: 74.042 GiB, 9.78% gc time)\n",
      "Ne = 200\n",
      "Ne 200& β 1.04& Lrad 4.0 RMSE: 0.9987300821569405\n",
      "(Ne, β, Lrad) = (200, 1.04, 5.0)\n",
      " 64.458045 seconds (667.02 M allocations: 74.042 GiB, 9.88% gc time)\n",
      "Ne = 200\n",
      "Ne 200& β 1.04& Lrad 5.0 RMSE: 0.9233446917740492\n",
      "(Ne, β, Lrad) = (200, 1.04, 6.0)\n",
      " 63.952274 seconds (667.02 M allocations: 74.042 GiB, 9.88% gc time)\n",
      "Ne = 200\n",
      "Ne 200& β 1.04& Lrad 6.0 RMSE: 0.8972537723731633\n",
      "(Ne, β, Lrad) = (200, 1.04, 7.0)\n",
      " 63.997308 seconds (667.02 M allocations: 74.042 GiB, 9.90% gc time)\n",
      "Ne = 200\n",
      "Ne 200& β 1.04& Lrad 7.0 RMSE: 0.8809704820652876\n",
      "(Ne, β, Lrad) = (200, 1.04, 8.0)\n",
      " 63.964990 seconds (667.02 M allocations: 74.042 GiB, 9.88% gc time)\n",
      "Ne = 200\n",
      "Ne 200& β 1.04& Lrad 8.0 RMSE: 0.8489501413806715\n",
      "(Ne, β, Lrad) = (200, 1.04, 9.0)\n",
      " 64.055819 seconds (667.02 M allocations: 74.042 GiB, 9.89% gc time)\n",
      "Ne = 200\n",
      "Ne 200& β 1.04& Lrad 9.0 RMSE: 0.8434503430915461\n",
      "(Ne, β, Lrad) = (200, 1.04, 10.0)\n",
      " 64.210985 seconds (667.02 M allocations: 74.042 GiB, 9.89% gc time)\n",
      "Ne = 200\n",
      "Ne 200& β 1.04& Lrad 10.0 RMSE: 0.8554464747171251\n",
      "(Ne, β, Lrad) = (200, 1.04, 11.0)\n",
      " 64.043438 seconds (667.02 M allocations: 74.042 GiB, 9.87% gc time)\n",
      "Ne = 200\n",
      "Ne 200& β 1.04& Lrad 11.0 RMSE: 0.8373989218151862\n",
      "(Ne, β, Lrad) = (200, 1.04, 12.0)\n",
      " 63.980426 seconds (667.02 M allocations: 74.042 GiB, 9.88% gc time)\n",
      "Ne = 200\n",
      "Ne 200& β 1.04& Lrad 12.0 RMSE: 0.8623698891570425\n",
      "(Ne, β, Lrad) = (200, 1.04, 13.0)\n",
      " 63.991724 seconds (667.02 M allocations: 74.042 GiB, 9.88% gc time)\n",
      "Ne = 200\n",
      "Ne 200& β 1.04& Lrad 13.0 RMSE: 0.8542703149564761\n",
      "(Ne, β, Lrad) = (200, 1.05, 4.0)\n",
      " 64.278130 seconds (667.02 M allocations: 74.042 GiB, 9.89% gc time)\n",
      "Ne = 200\n",
      "Ne 200& β 1.05& Lrad 4.0 RMSE: 0.9940281907001743\n",
      "(Ne, β, Lrad) = (200, 1.05, 5.0)\n",
      " 63.964925 seconds (667.02 M allocations: 74.042 GiB, 9.91% gc time)\n",
      "Ne = 200\n",
      "Ne 200& β 1.05& Lrad 5.0 RMSE: 0.936623443054458\n",
      "(Ne, β, Lrad) = (200, 1.05, 6.0)\n",
      " 64.026346 seconds (667.02 M allocations: 74.042 GiB, 9.89% gc time)\n",
      "Ne = 200\n",
      "Ne 200& β 1.05& Lrad 6.0 RMSE: 0.9117248841452356\n",
      "(Ne, β, Lrad) = (200, 1.05, 7.0)\n",
      " 63.966699 seconds (667.02 M allocations: 74.042 GiB, 9.88% gc time)\n",
      "Ne = 200\n",
      "Ne 200& β 1.05& Lrad 7.0 RMSE: 0.8827533139190096\n",
      "(Ne, β, Lrad) = (200, 1.05, 8.0)\n",
      " 64.003745 seconds (667.02 M allocations: 74.042 GiB, 9.90% gc time)\n",
      "Ne = 200\n",
      "Ne 200& β 1.05& Lrad 8.0 RMSE: 0.851746315629682\n",
      "(Ne, β, Lrad) = (200, 1.05, 9.0)\n",
      " 64.355990 seconds (667.02 M allocations: 74.042 GiB, 9.86% gc time)\n",
      "Ne = 200\n",
      "Ne 200& β 1.05& Lrad 9.0 RMSE: 0.8435932428556291\n",
      "(Ne, β, Lrad) = (200, 1.05, 10.0)\n",
      " 64.046373 seconds (667.02 M allocations: 74.042 GiB, 9.88% gc time)\n",
      "Ne = 200\n",
      "Ne 200& β 1.05& Lrad 10.0 RMSE: 0.8628597831398319\n",
      "(Ne, β, Lrad) = (200, 1.05, 11.0)\n",
      " 63.997598 seconds (667.02 M allocations: 74.042 GiB, 9.89% gc time)\n",
      "Ne = 200\n",
      "Ne 200& β 1.05& Lrad 11.0 RMSE: 0.8343476558698274\n",
      "(Ne, β, Lrad) = (200, 1.05, 12.0)\n",
      " 64.021555 seconds (667.02 M allocations: 74.042 GiB, 9.89% gc time)\n",
      "Ne = 200\n",
      "Ne 200& β 1.05& Lrad 12.0 RMSE: 0.8653774009642434\n",
      "(Ne, β, Lrad) = (200, 1.05, 13.0)\n",
      " 64.316805 seconds (667.02 M allocations: 74.042 GiB, 9.89% gc time)\n",
      "Ne = 200\n"
     ]
    },
    {
     "name": "stderr",
     "output_type": "stream",
     "text": [
      "\r",
      "\u001b[32mProgress:  60%|████████████████████████▋                |  ETA: 2:04:37\u001b[39m"
     ]
    },
    {
     "name": "stdout",
     "output_type": "stream",
     "text": [
      "Ne 200& β 1.05& Lrad 13.0 RMSE: 0.8418121618633565\n",
      "(Ne, β, Lrad) = (400, 0.97, 4.0)\n",
      "306.940589 seconds (1.33 G allocations: 144.095 GiB, 6.88% gc time)\n",
      "Ne = 400\n",
      "Ne 400& β 0.97& Lrad 4.0 RMSE: 0.9816785622470982\n",
      "(Ne, β, Lrad) = (400, 0.97, 5.0)\n",
      "196.625405 seconds (1.33 G allocations: 144.095 GiB, 9.91% gc time)\n",
      "Ne = 400\n",
      "Ne 400& β 0.97& Lrad 5.0 RMSE: 0.9121938209289151\n",
      "(Ne, β, Lrad) = (400, 0.97, 6.0)\n",
      "149.890117 seconds (1.33 G allocations: 144.095 GiB, 12.52% gc time)\n",
      "Ne = 400\n",
      "Ne 400& β 0.97& Lrad 6.0 RMSE: 0.8806974408115362\n",
      "(Ne, β, Lrad) = (400, 0.97, 7.0)\n",
      "150.305946 seconds (1.33 G allocations: 144.095 GiB, 12.55% gc time)\n",
      "Ne = 400\n",
      "Ne 400& β 0.97& Lrad 7.0 RMSE: 0.8534525151233079\n",
      "(Ne, β, Lrad) = (400, 0.97, 8.0)\n",
      "149.893960 seconds (1.33 G allocations: 144.095 GiB, 12.55% gc time)\n",
      "Ne = 400\n",
      "Ne 400& β 0.97& Lrad 8.0 RMSE: 0.8440414006069009\n",
      "(Ne, β, Lrad) = (400, 0.97, 9.0)\n",
      "150.273930 seconds (1.33 G allocations: 144.095 GiB, 12.56% gc time)\n",
      "Ne = 400\n",
      "Ne 400& β 0.97& Lrad 9.0 RMSE: 0.8191137362880773\n",
      "(Ne, β, Lrad) = (400, 0.97, 10.0)\n",
      "150.562839 seconds (1.33 G allocations: 144.095 GiB, 12.50% gc time)\n",
      "Ne = 400\n",
      "Ne 400& β 0.97& Lrad 10.0 RMSE: 0.8151562242975878\n",
      "(Ne, β, Lrad) = (400, 0.97, 11.0)\n",
      "210.734413 seconds (1.33 G allocations: 144.095 GiB, 9.21% gc time)\n",
      "Ne = 400\n",
      "Ne 400& β 0.97& Lrad 11.0 RMSE: 0.8120984738392583\n",
      "(Ne, β, Lrad) = (400, 0.97, 12.0)\n",
      "150.217219 seconds (1.33 G allocations: 144.095 GiB, 12.56% gc time)\n",
      "Ne = 400\n",
      "Ne 400& β 0.97& Lrad 12.0 RMSE: 0.8347596140375323\n",
      "(Ne, β, Lrad) = (400, 0.97, 13.0)\n",
      "281.523420 seconds (1.33 G allocations: 144.095 GiB, 7.46% gc time)\n",
      "Ne = 400\n",
      "Ne 400& β 0.97& Lrad 13.0 RMSE: 0.8174274361236579\n",
      "(Ne, β, Lrad) = (400, 0.98, 4.0)\n",
      "156.062641 seconds (1.33 G allocations: 144.095 GiB, 12.27% gc time)\n",
      "Ne = 400\n",
      "Ne 400& β 0.98& Lrad 4.0 RMSE: 0.9781361099517434\n",
      "(Ne, β, Lrad) = (400, 0.98, 5.0)\n",
      "149.784659 seconds (1.33 G allocations: 144.095 GiB, 12.54% gc time)\n",
      "Ne = 400\n",
      "Ne 400& β 0.98& Lrad 5.0 RMSE: 0.9122409497432554\n",
      "(Ne, β, Lrad) = (400, 0.98, 6.0)\n",
      "157.042582 seconds (1.33 G allocations: 144.095 GiB, 12.17% gc time)\n",
      "Ne = 400\n",
      "Ne 400& β 0.98& Lrad 6.0 RMSE: 0.8732407719752779\n",
      "(Ne, β, Lrad) = (400, 0.98, 7.0)\n",
      "306.182603 seconds (1.33 G allocations: 144.095 GiB, 7.00% gc time)\n",
      "Ne = 400\n",
      "Ne 400& β 0.98& Lrad 7.0 RMSE: 0.8477591642661978\n",
      "(Ne, β, Lrad) = (400, 0.98, 8.0)\n",
      "162.958651 seconds (1.33 G allocations: 144.095 GiB, 11.71% gc time)\n",
      "Ne = 400\n",
      "Ne 400& β 0.98& Lrad 8.0 RMSE: 0.842399473970754\n",
      "(Ne, β, Lrad) = (400, 0.98, 9.0)\n",
      "150.295087 seconds (1.33 G allocations: 144.095 GiB, 12.57% gc time)\n",
      "Ne = 400\n",
      "Ne 400& β 0.98& Lrad 9.0 RMSE: 0.8179530064615755\n",
      "(Ne, β, Lrad) = (400, 0.98, 10.0)\n",
      "149.856071 seconds (1.33 G allocations: 144.095 GiB, 12.54% gc time)\n",
      "Ne = 400\n",
      "Ne 400& β 0.98& Lrad 10.0 RMSE: 0.8172382484262567\n",
      "(Ne, β, Lrad) = (400, 0.98, 11.0)\n",
      "150.216004 seconds (1.33 G allocations: 144.095 GiB, 12.53% gc time)\n",
      "Ne = 400\n",
      "Ne 400& β 0.98& Lrad 11.0 RMSE: 0.8214350735631833\n",
      "(Ne, β, Lrad) = (400, 0.98, 12.0)\n",
      "150.131338 seconds (1.33 G allocations: 144.095 GiB, 12.54% gc time)\n",
      "Ne = 400\n",
      "Ne 400& β 0.98& Lrad 12.0 RMSE: 0.7997005995238853\n",
      "(Ne, β, Lrad) = (400, 0.98, 13.0)\n",
      "183.527842 seconds (1.33 G allocations: 144.095 GiB, 10.43% gc time)\n",
      "Ne = 400\n",
      "Ne 400& β 0.98& Lrad 13.0 RMSE: 0.8188297951424497\n",
      "(Ne, β, Lrad) = (400, 0.99, 4.0)\n",
      "149.920687 seconds (1.33 G allocations: 144.095 GiB, 12.52% gc time)\n",
      "Ne = 400\n",
      "Ne 400& β 0.99& Lrad 4.0 RMSE: 0.979817708940224\n",
      "(Ne, β, Lrad) = (400, 0.99, 5.0)\n",
      "149.893364 seconds (1.33 G allocations: 144.095 GiB, 12.50% gc time)\n",
      "Ne = 400\n",
      "Ne 400& β 0.99& Lrad 5.0 RMSE: 0.920672267363482\n",
      "(Ne, β, Lrad) = (400, 0.99, 6.0)\n",
      "242.824689 seconds (1.33 G allocations: 144.095 GiB, 8.55% gc time)\n",
      "Ne = 400\n",
      "Ne 400& β 0.99& Lrad 6.0 RMSE: 0.8694202459222713\n",
      "(Ne, β, Lrad) = (400, 0.99, 7.0)\n",
      "305.298909 seconds (1.33 G allocations: 144.095 GiB, 7.01% gc time)\n",
      "Ne = 400\n",
      "Ne 400& β 0.99& Lrad 7.0 RMSE: 0.846383463965768\n",
      "(Ne, β, Lrad) = (400, 0.99, 8.0)\n",
      "305.449454 seconds (1.33 G allocations: 144.095 GiB, 7.06% gc time)\n",
      "Ne = 400\n",
      "Ne 400& β 0.99& Lrad 8.0 RMSE: 0.8270033747039315\n",
      "(Ne, β, Lrad) = (400, 0.99, 9.0)\n",
      "246.928975 seconds (1.33 G allocations: 144.095 GiB, 8.06% gc time)\n",
      "Ne = 400\n",
      "Ne 400& β 0.99& Lrad 9.0 RMSE: 0.816371464626784\n",
      "(Ne, β, Lrad) = (400, 0.99, 10.0)\n",
      "149.760027 seconds (1.33 G allocations: 144.095 GiB, 12.48% gc time)\n",
      "Ne = 400\n",
      "Ne 400& β 0.99& Lrad 10.0 RMSE: 0.8337827107592598\n",
      "(Ne, β, Lrad) = (400, 0.99, 11.0)\n",
      "271.694251 seconds (1.33 G allocations: 144.095 GiB, 7.68% gc time)\n",
      "Ne = 400\n",
      "Ne 400& β 0.99& Lrad 11.0 RMSE: 0.8015741591088511\n",
      "(Ne, β, Lrad) = (400, 0.99, 12.0)\n",
      "305.297617 seconds (1.33 G allocations: 144.095 GiB, 7.02% gc time)\n",
      "Ne = 400\n",
      "Ne 400& β 0.99& Lrad 12.0 RMSE: 0.8091586839985837\n",
      "(Ne, β, Lrad) = (400, 0.99, 13.0)\n",
      "236.532406 seconds (1.33 G allocations: 144.095 GiB, 8.39% gc time)\n",
      "Ne = 400\n",
      "Ne 400& β 0.99& Lrad 13.0 RMSE: 0.7981902941551072\n",
      "(Ne, β, Lrad) = (400, 1.0, 4.0)\n",
      "149.996018 seconds (1.33 G allocations: 144.095 GiB, 12.51% gc time)\n",
      "Ne = 400\n",
      "Ne 400& β 1.0& Lrad 4.0 RMSE: 0.9750537734104098\n",
      "(Ne, β, Lrad) = (400, 1.0, 5.0)\n",
      "270.522429 seconds (1.33 G allocations: 144.095 GiB, 7.79% gc time)\n",
      "Ne = 400\n",
      "Ne 400& β 1.0& Lrad 5.0 RMSE: 0.9106305482750457\n",
      "(Ne, β, Lrad) = (400, 1.0, 6.0)\n",
      "307.596366 seconds (1.33 G allocations: 144.095 GiB, 6.98% gc time)\n",
      "Ne = 400\n",
      "Ne 400& β 1.0& Lrad 6.0 RMSE: 0.877745247379338\n",
      "(Ne, β, Lrad) = (400, 1.0, 7.0)\n",
      "307.890103 seconds (1.33 G allocations: 144.095 GiB, 6.98% gc time)\n",
      "Ne = 400\n",
      "Ne 400& β 1.0& Lrad 7.0 RMSE: 0.8510101205130204\n",
      "(Ne, β, Lrad) = (400, 1.0, 8.0)\n",
      "156.428972 seconds (1.33 G allocations: 144.095 GiB, 12.15% gc time)\n",
      "Ne = 400\n",
      "Ne 400& β 1.0& Lrad 8.0 RMSE: 0.8238807186849166\n",
      "(Ne, β, Lrad) = (400, 1.0, 9.0)\n",
      "247.351109 seconds (1.33 G allocations: 144.095 GiB, 8.42% gc time)\n",
      "Ne = 400\n",
      "Ne 400& β 1.0& Lrad 9.0 RMSE: 0.823284517619779\n",
      "(Ne, β, Lrad) = (400, 1.0, 10.0)\n",
      "308.505038 seconds (1.33 G allocations: 144.095 GiB, 6.95% gc time)\n",
      "Ne = 400\n",
      "Ne 400& β 1.0& Lrad 10.0 RMSE: 0.8161742024273976\n",
      "(Ne, β, Lrad) = (400, 1.0, 11.0)\n",
      "201.393681 seconds (1.33 G allocations: 144.095 GiB, 9.61% gc time)\n",
      "Ne = 400\n",
      "Ne 400& β 1.0& Lrad 11.0 RMSE: 0.8045856875203279\n",
      "(Ne, β, Lrad) = (400, 1.0, 12.0)\n",
      "148.892237 seconds (1.33 G allocations: 144.095 GiB, 12.48% gc time)\n",
      "Ne = 400\n",
      "Ne 400& β 1.0& Lrad 12.0 RMSE: 0.7991777285470308\n",
      "(Ne, β, Lrad) = (400, 1.0, 13.0)\n",
      "148.980132 seconds (1.33 G allocations: 144.095 GiB, 12.49% gc time)\n",
      "Ne = 400\n",
      "Ne 400& β 1.0& Lrad 13.0 RMSE: 0.8057886569765981\n",
      "(Ne, β, Lrad) = (400, 1.01, 4.0)\n",
      "149.070688 seconds (1.33 G allocations: 144.095 GiB, 12.52% gc time)\n",
      "Ne = 400\n",
      "Ne 400& β 1.01& Lrad 4.0 RMSE: 0.9843492602847286\n",
      "(Ne, β, Lrad) = (400, 1.01, 5.0)\n",
      "149.165185 seconds (1.33 G allocations: 144.095 GiB, 12.52% gc time)\n",
      "Ne = 400\n",
      "Ne 400& β 1.01& Lrad 5.0 RMSE: 0.919007510322497\n",
      "(Ne, β, Lrad) = (400, 1.01, 6.0)\n",
      "149.000829 seconds (1.33 G allocations: 144.095 GiB, 12.52% gc time)\n",
      "Ne = 400\n",
      "Ne 400& β 1.01& Lrad 6.0 RMSE: 0.8750333084991243\n",
      "(Ne, β, Lrad) = (400, 1.01, 7.0)\n",
      "149.372522 seconds (1.33 G allocations: 144.095 GiB, 12.58% gc time)\n",
      "Ne = 400\n",
      "Ne 400& β 1.01& Lrad 7.0 RMSE: 0.8543188435858913\n",
      "(Ne, β, Lrad) = (400, 1.01, 8.0)\n",
      "149.657588 seconds (1.33 G allocations: 144.095 GiB, 12.55% gc time)\n",
      "Ne = 400\n",
      "Ne 400& β 1.01& Lrad 8.0 RMSE: 0.8290751089800731\n",
      "(Ne, β, Lrad) = (400, 1.01, 9.0)\n",
      "148.911817 seconds (1.33 G allocations: 144.095 GiB, 12.51% gc time)\n",
      "Ne = 400\n",
      "Ne 400& β 1.01& Lrad 9.0 RMSE: 0.8150686907871891\n",
      "(Ne, β, Lrad) = (400, 1.01, 10.0)\n",
      "167.766012 seconds (1.33 G allocations: 144.095 GiB, 11.82% gc time)\n",
      "Ne = 400\n",
      "Ne 400& β 1.01& Lrad 10.0 RMSE: 0.8064311653058392\n",
      "(Ne, β, Lrad) = (400, 1.01, 11.0)\n",
      "304.943452 seconds (1.33 G allocations: 144.095 GiB, 7.02% gc time)\n",
      "Ne = 400\n",
      "Ne 400& β 1.01& Lrad 11.0 RMSE: 0.8124313113220852\n",
      "(Ne, β, Lrad) = (400, 1.01, 12.0)\n",
      "304.749359 seconds (1.33 G allocations: 144.095 GiB, 6.98% gc time)\n",
      "Ne = 400\n",
      "Ne 400& β 1.01& Lrad 12.0 RMSE: 0.8169622420184384\n",
      "(Ne, β, Lrad) = (400, 1.01, 13.0)\n",
      "247.409700 seconds (1.33 G allocations: 144.095 GiB, 7.98% gc time)\n",
      "Ne = 400\n",
      "Ne 400& β 1.01& Lrad 13.0 RMSE: 0.8060975638150246\n",
      "(Ne, β, Lrad) = (400, 1.02, 4.0)\n",
      "149.105965 seconds (1.33 G allocations: 144.095 GiB, 12.53% gc time)\n",
      "Ne = 400\n"
     ]
    },
    {
     "name": "stdout",
     "output_type": "stream",
     "text": [
      "Ne 400& β 1.02& Lrad 4.0 RMSE: 0.9802287150056902\n",
      "(Ne, β, Lrad) = (400, 1.02, 5.0)\n",
      "149.148636 seconds (1.33 G allocations: 144.095 GiB, 12.57% gc time)\n",
      "Ne = 400\n",
      "Ne 400& β 1.02& Lrad 5.0 RMSE: 0.9158812962414167\n",
      "(Ne, β, Lrad) = (400, 1.02, 6.0)\n",
      "149.403925 seconds (1.33 G allocations: 144.095 GiB, 12.57% gc time)\n",
      "Ne = 400\n",
      "Ne 400& β 1.02& Lrad 6.0 RMSE: 0.8724694593900408\n",
      "(Ne, β, Lrad) = (400, 1.02, 7.0)\n",
      "149.458049 seconds (1.33 G allocations: 144.095 GiB, 12.56% gc time)\n",
      "Ne = 400\n",
      "Ne 400& β 1.02& Lrad 7.0 RMSE: 0.8563612490083115\n",
      "(Ne, β, Lrad) = (400, 1.02, 8.0)\n",
      "148.991569 seconds (1.33 G allocations: 144.095 GiB, 12.55% gc time)\n",
      "Ne = 400\n",
      "Ne 400& β 1.02& Lrad 8.0 RMSE: 0.8366782357983441\n",
      "(Ne, β, Lrad) = (400, 1.02, 9.0)\n",
      "149.443392 seconds (1.33 G allocations: 144.095 GiB, 12.52% gc time)\n",
      "Ne = 400\n",
      "Ne 400& β 1.02& Lrad 9.0 RMSE: 0.8189065114840822\n",
      "(Ne, β, Lrad) = (400, 1.02, 10.0)\n",
      "149.956827 seconds (1.33 G allocations: 144.095 GiB, 12.53% gc time)\n",
      "Ne = 400\n",
      "Ne 400& β 1.02& Lrad 10.0 RMSE: 0.8121724347901593\n",
      "(Ne, β, Lrad) = (400, 1.02, 11.0)\n",
      "214.358490 seconds (1.33 G allocations: 144.095 GiB, 9.53% gc time)\n",
      "Ne = 400\n",
      "Ne 400& β 1.02& Lrad 11.0 RMSE: 0.8136528953334876\n",
      "(Ne, β, Lrad) = (400, 1.02, 12.0)\n",
      "306.580566 seconds (1.33 G allocations: 144.095 GiB, 6.94% gc time)\n",
      "Ne = 400\n",
      "Ne 400& β 1.02& Lrad 12.0 RMSE: 0.8061906155859625\n",
      "(Ne, β, Lrad) = (400, 1.02, 13.0)\n",
      "194.758547 seconds (1.33 G allocations: 144.095 GiB, 9.89% gc time)\n",
      "Ne = 400\n",
      "Ne 400& β 1.02& Lrad 13.0 RMSE: 0.8103226732353964\n",
      "(Ne, β, Lrad) = (400, 1.03, 4.0)\n",
      "149.589713 seconds (1.33 G allocations: 144.095 GiB, 12.50% gc time)\n",
      "Ne = 400\n",
      "Ne 400& β 1.03& Lrad 4.0 RMSE: 0.9793105073008471\n",
      "(Ne, β, Lrad) = (400, 1.03, 5.0)\n",
      "166.932787 seconds (1.33 G allocations: 144.095 GiB, 11.28% gc time)\n",
      "Ne = 400\n",
      "Ne 400& β 1.03& Lrad 5.0 RMSE: 0.930244099728767\n",
      "(Ne, β, Lrad) = (400, 1.03, 6.0)\n",
      "149.260394 seconds (1.33 G allocations: 144.095 GiB, 12.50% gc time)\n",
      "Ne = 400\n",
      "Ne 400& β 1.03& Lrad 6.0 RMSE: 0.8787642621097836\n",
      "(Ne, β, Lrad) = (400, 1.03, 7.0)\n",
      "149.448565 seconds (1.33 G allocations: 144.095 GiB, 12.53% gc time)\n",
      "Ne = 400\n",
      "Ne 400& β 1.03& Lrad 7.0 RMSE: 0.8452838824681655\n",
      "(Ne, β, Lrad) = (400, 1.03, 8.0)\n",
      "149.632082 seconds (1.33 G allocations: 144.095 GiB, 12.49% gc time)\n",
      "Ne = 400\n",
      "Ne 400& β 1.03& Lrad 8.0 RMSE: 0.8318774305743223\n",
      "(Ne, β, Lrad) = (400, 1.03, 9.0)\n",
      "149.593689 seconds (1.33 G allocations: 144.095 GiB, 12.51% gc time)\n",
      "Ne = 400\n",
      "Ne 400& β 1.03& Lrad 9.0 RMSE: 0.8291545776867252\n",
      "(Ne, β, Lrad) = (400, 1.03, 10.0)\n",
      "149.601146 seconds (1.33 G allocations: 144.095 GiB, 12.54% gc time)\n",
      "Ne = 400\n",
      "Ne 400& β 1.03& Lrad 10.0 RMSE: 0.8144118389505965\n",
      "(Ne, β, Lrad) = (400, 1.03, 11.0)\n",
      "149.514093 seconds (1.33 G allocations: 144.095 GiB, 12.57% gc time)\n",
      "Ne = 400\n",
      "Ne 400& β 1.03& Lrad 11.0 RMSE: 0.8030187344581404\n",
      "(Ne, β, Lrad) = (400, 1.03, 12.0)\n",
      "149.528146 seconds (1.33 G allocations: 144.095 GiB, 12.50% gc time)\n",
      "Ne = 400\n",
      "Ne 400& β 1.03& Lrad 12.0 RMSE: 0.8069209162004853\n",
      "(Ne, β, Lrad) = (400, 1.03, 13.0)\n",
      "149.591182 seconds (1.33 G allocations: 144.095 GiB, 12.54% gc time)\n",
      "Ne = 400\n",
      "Ne 400& β 1.03& Lrad 13.0 RMSE: 0.8036718459307101\n",
      "(Ne, β, Lrad) = (400, 1.04, 4.0)\n",
      "149.396400 seconds (1.33 G allocations: 144.095 GiB, 12.55% gc time)\n",
      "Ne = 400\n",
      "Ne 400& β 1.04& Lrad 4.0 RMSE: 0.9773060758496868\n",
      "(Ne, β, Lrad) = (400, 1.04, 5.0)\n",
      "212.148533 seconds (1.33 G allocations: 144.095 GiB, 9.60% gc time)\n",
      "Ne = 400\n",
      "Ne 400& β 1.04& Lrad 5.0 RMSE: 0.9157823687130789\n",
      "(Ne, β, Lrad) = (400, 1.04, 6.0)\n",
      "305.287549 seconds (1.33 G allocations: 144.095 GiB, 7.04% gc time)\n",
      "Ne = 400\n",
      "Ne 400& β 1.04& Lrad 6.0 RMSE: 0.8897496769083902\n",
      "(Ne, β, Lrad) = (400, 1.04, 7.0)\n",
      "304.582865 seconds (1.33 G allocations: 144.095 GiB, 7.03% gc time)\n",
      "Ne = 400\n",
      "Ne 400& β 1.04& Lrad 7.0 RMSE: 0.8545016889845825\n",
      "(Ne, β, Lrad) = (400, 1.04, 8.0)\n",
      "304.952178 seconds (1.33 G allocations: 144.095 GiB, 7.00% gc time)\n",
      "Ne = 400\n",
      "Ne 400& β 1.04& Lrad 8.0 RMSE: 0.8370472654983577\n",
      "(Ne, β, Lrad) = (400, 1.04, 9.0)\n",
      "304.297595 seconds (1.33 G allocations: 144.095 GiB, 7.05% gc time)\n",
      "Ne = 400\n",
      "Ne 400& β 1.04& Lrad 9.0 RMSE: 0.8230510205378833\n",
      "(Ne, β, Lrad) = (400, 1.04, 10.0)\n",
      "304.762166 seconds (1.33 G allocations: 144.095 GiB, 7.02% gc time)\n",
      "Ne = 400\n",
      "Ne 400& β 1.04& Lrad 10.0 RMSE: 0.8130020878052785\n",
      "(Ne, β, Lrad) = (400, 1.04, 11.0)\n",
      "280.770015 seconds (1.33 G allocations: 144.095 GiB, 7.09% gc time)\n",
      "Ne = 400\n",
      "Ne 400& β 1.04& Lrad 11.0 RMSE: 0.8203208092291805\n",
      "(Ne, β, Lrad) = (400, 1.04, 12.0)\n",
      "149.586991 seconds (1.33 G allocations: 144.095 GiB, 12.54% gc time)\n",
      "Ne = 400\n",
      "Ne 400& β 1.04& Lrad 12.0 RMSE: 0.8004011656934632\n",
      "(Ne, β, Lrad) = (400, 1.04, 13.0)\n",
      "149.429297 seconds (1.33 G allocations: 144.095 GiB, 12.51% gc time)\n",
      "Ne = 400\n",
      "Ne 400& β 1.04& Lrad 13.0 RMSE: 0.8179744984686053\n",
      "(Ne, β, Lrad) = (400, 1.05, 4.0)\n",
      "304.646227 seconds (1.33 G allocations: 144.095 GiB, 6.98% gc time)\n",
      "Ne = 400\n",
      "Ne 400& β 1.05& Lrad 4.0 RMSE: 0.9772968486659559\n",
      "(Ne, β, Lrad) = (400, 1.05, 5.0)\n",
      "260.416025 seconds (1.33 G allocations: 144.095 GiB, 7.63% gc time)\n",
      "Ne = 400\n",
      "Ne 400& β 1.05& Lrad 5.0 RMSE: 0.9163125652195853\n",
      "(Ne, β, Lrad) = (400, 1.05, 6.0)\n",
      "149.451427 seconds (1.33 G allocations: 144.095 GiB, 12.48% gc time)\n",
      "Ne = 400\n",
      "Ne 400& β 1.05& Lrad 6.0 RMSE: 0.877797232305415\n",
      "(Ne, β, Lrad) = (400, 1.05, 7.0)\n",
      "149.234893 seconds (1.33 G allocations: 144.095 GiB, 12.49% gc time)\n",
      "Ne = 400\n",
      "Ne 400& β 1.05& Lrad 7.0 RMSE: 0.8603577920639152\n",
      "(Ne, β, Lrad) = (400, 1.05, 8.0)\n",
      "149.598135 seconds (1.33 G allocations: 144.095 GiB, 12.52% gc time)\n",
      "Ne = 400\n",
      "Ne 400& β 1.05& Lrad 8.0 RMSE: 0.850377643939164\n",
      "(Ne, β, Lrad) = (400, 1.05, 9.0)\n",
      "214.229761 seconds (1.33 G allocations: 144.095 GiB, 9.57% gc time)\n",
      "Ne = 400\n",
      "Ne 400& β 1.05& Lrad 9.0 RMSE: 0.8418760441520194\n",
      "(Ne, β, Lrad) = (400, 1.05, 10.0)\n",
      "154.579897 seconds (1.33 G allocations: 144.095 GiB, 12.28% gc time)\n",
      "Ne = 400\n",
      "Ne 400& β 1.05& Lrad 10.0 RMSE: 0.8094891768077639\n",
      "(Ne, β, Lrad) = (400, 1.05, 11.0)\n",
      "196.112932 seconds (1.33 G allocations: 144.095 GiB, 10.43% gc time)\n",
      "Ne = 400\n",
      "Ne 400& β 1.05& Lrad 11.0 RMSE: 0.8149337321478076\n",
      "(Ne, β, Lrad) = (400, 1.05, 12.0)\n",
      "183.404559 seconds (1.33 G allocations: 144.095 GiB, 10.50% gc time)\n",
      "Ne = 400\n",
      "Ne 400& β 1.05& Lrad 12.0 RMSE: 0.8146275337627901\n",
      "(Ne, β, Lrad) = (400, 1.05, 13.0)\n",
      "150.074645 seconds (1.33 G allocations: 144.095 GiB, 12.56% gc time)\n",
      "Ne = 400\n"
     ]
    },
    {
     "name": "stderr",
     "output_type": "stream",
     "text": [
      "\r",
      "\u001b[32mProgress:  80%|████████████████████████████████▊        |  ETA: 2:01:35\u001b[39m"
     ]
    },
    {
     "name": "stdout",
     "output_type": "stream",
     "text": [
      "Ne 400& β 1.05& Lrad 13.0 RMSE: 0.8062227002063768\n",
      "(Ne, β, Lrad) = (600, 0.97, 4.0)\n",
      "212.246330 seconds (2.00 G allocations: 214.186 GiB, 13.22% gc time)\n",
      "Ne = 600\n",
      "Ne 600& β 0.97& Lrad 4.0 RMSE: 0.9775616685097214\n",
      "(Ne, β, Lrad) = (600, 0.97, 5.0)\n",
      "229.733217 seconds (2.00 G allocations: 214.186 GiB, 12.68% gc time)\n",
      "Ne = 600\n",
      "Ne 600& β 0.97& Lrad 5.0 RMSE: 0.9199393966472087\n",
      "(Ne, β, Lrad) = (600, 0.97, 6.0)\n",
      "210.768311 seconds (2.00 G allocations: 214.186 GiB, 13.27% gc time)\n",
      "Ne = 600\n",
      "Ne 600& β 0.97& Lrad 6.0 RMSE: 0.871373051363523\n",
      "(Ne, β, Lrad) = (600, 0.97, 7.0)\n",
      "210.143808 seconds (2.00 G allocations: 214.186 GiB, 13.26% gc time)\n",
      "Ne = 600\n",
      "Ne 600& β 0.97& Lrad 7.0 RMSE: 0.8531138789076744\n",
      "(Ne, β, Lrad) = (600, 0.97, 8.0)\n",
      "210.860869 seconds (2.00 G allocations: 214.186 GiB, 13.30% gc time)\n",
      "Ne = 600\n",
      "Ne 600& β 0.97& Lrad 8.0 RMSE: 0.8218337290058728\n",
      "(Ne, β, Lrad) = (600, 0.97, 9.0)\n",
      "210.696648 seconds (2.00 G allocations: 214.186 GiB, 13.28% gc time)\n",
      "Ne = 600\n",
      "Ne 600& β 0.97& Lrad 9.0 RMSE: 0.8082352466113535\n",
      "(Ne, β, Lrad) = (600, 0.97, 10.0)\n",
      "210.789330 seconds (2.00 G allocations: 214.186 GiB, 13.28% gc time)\n",
      "Ne = 600\n",
      "Ne 600& β 0.97& Lrad 10.0 RMSE: 0.8052194582704092\n",
      "(Ne, β, Lrad) = (600, 0.97, 11.0)\n",
      "348.777298 seconds (2.00 G allocations: 214.186 GiB, 9.71% gc time)\n",
      "Ne = 600\n",
      "Ne 600& β 0.97& Lrad 11.0 RMSE: 0.8053602442928648\n",
      "(Ne, β, Lrad) = (600, 0.97, 12.0)\n",
      "438.414290 seconds (2.00 G allocations: 214.186 GiB, 7.94% gc time)\n",
      "Ne = 600\n",
      "Ne 600& β 0.97& Lrad 12.0 RMSE: 0.8067109275310743\n",
      "(Ne, β, Lrad) = (600, 0.97, 13.0)\n",
      "312.359103 seconds (2.00 G allocations: 214.186 GiB, 9.30% gc time)\n",
      "Ne = 600\n",
      "Ne 600& β 0.97& Lrad 13.0 RMSE: 0.7929788393382438\n",
      "(Ne, β, Lrad) = (600, 0.98, 4.0)\n",
      "211.291899 seconds (2.00 G allocations: 214.186 GiB, 13.27% gc time)\n",
      "Ne = 600\n",
      "Ne 600& β 0.98& Lrad 4.0 RMSE: 0.9757706006986441\n",
      "(Ne, β, Lrad) = (600, 0.98, 5.0)\n",
      "211.206156 seconds (2.00 G allocations: 214.186 GiB, 13.24% gc time)\n",
      "Ne = 600\n",
      "Ne 600& β 0.98& Lrad 5.0 RMSE: 0.9141723738817186\n",
      "(Ne, β, Lrad) = (600, 0.98, 6.0)\n",
      "211.336735 seconds (2.00 G allocations: 214.186 GiB, 13.26% gc time)\n",
      "Ne = 600\n",
      "Ne 600& β 0.98& Lrad 6.0 RMSE: 0.8646066718227055\n",
      "(Ne, β, Lrad) = (600, 0.98, 7.0)\n",
      "211.344330 seconds (2.00 G allocations: 214.186 GiB, 13.20% gc time)\n",
      "Ne = 600\n",
      "Ne 600& β 0.98& Lrad 7.0 RMSE: 0.8474415663834757\n",
      "(Ne, β, Lrad) = (600, 0.98, 8.0)\n",
      "412.553466 seconds (2.00 G allocations: 214.186 GiB, 8.38% gc time)\n",
      "Ne = 600\n",
      "Ne 600& β 0.98& Lrad 8.0 RMSE: 0.8256956758965497\n",
      "(Ne, β, Lrad) = (600, 0.98, 9.0)\n",
      "436.859848 seconds (2.00 G allocations: 214.186 GiB, 8.05% gc time)\n",
      "Ne = 600\n",
      "Ne 600& β 0.98& Lrad 9.0 RMSE: 0.814634247145718\n",
      "(Ne, β, Lrad) = (600, 0.98, 10.0)\n",
      "235.704625 seconds (2.00 G allocations: 214.186 GiB, 12.15% gc time)\n",
      "Ne = 600\n",
      "Ne 600& β 0.98& Lrad 10.0 RMSE: 0.8080117560480022\n",
      "(Ne, β, Lrad) = (600, 0.98, 11.0)\n",
      "210.864884 seconds (2.00 G allocations: 214.186 GiB, 13.25% gc time)\n",
      "Ne = 600\n",
      "Ne 600& β 0.98& Lrad 11.0 RMSE: 0.7928050020596694\n",
      "(Ne, β, Lrad) = (600, 0.98, 12.0)\n",
      "236.638415 seconds (2.00 G allocations: 214.186 GiB, 12.44% gc time)\n",
      "Ne = 600\n",
      "Ne 600& β 0.98& Lrad 12.0 RMSE: 0.8078903174495303\n",
      "(Ne, β, Lrad) = (600, 0.98, 13.0)\n",
      "369.784482 seconds (2.00 G allocations: 214.186 GiB, 8.40% gc time)\n",
      "Ne = 600\n",
      "Ne 600& β 0.98& Lrad 13.0 RMSE: 0.8139224595735751\n",
      "(Ne, β, Lrad) = (600, 0.99, 4.0)\n",
      "380.476929 seconds (2.00 G allocations: 214.186 GiB, 9.02% gc time)\n",
      "Ne = 600\n",
      "Ne 600& β 0.99& Lrad 4.0 RMSE: 0.9724305465279611\n",
      "(Ne, β, Lrad) = (600, 0.99, 5.0)\n",
      "440.631085 seconds (2.00 G allocations: 214.186 GiB, 8.01% gc time)\n",
      "Ne = 600\n",
      "Ne 600& β 0.99& Lrad 5.0 RMSE: 0.9197269895177876\n",
      "(Ne, β, Lrad) = (600, 0.99, 6.0)\n",
      "440.533638 seconds (2.00 G allocations: 214.186 GiB, 8.02% gc time)\n",
      "Ne = 600\n",
      "Ne 600& β 0.99& Lrad 6.0 RMSE: 0.865089366811655\n",
      "(Ne, β, Lrad) = (600, 0.99, 7.0)\n",
      "440.333386 seconds (2.00 G allocations: 214.186 GiB, 7.99% gc time)\n",
      "Ne = 600\n",
      "Ne 600& β 0.99& Lrad 7.0 RMSE: 0.8495907169116799\n",
      "(Ne, β, Lrad) = (600, 0.99, 8.0)\n",
      "217.053424 seconds (2.00 G allocations: 214.186 GiB, 13.00% gc time)\n",
      "Ne = 600\n",
      "Ne 600& β 0.99& Lrad 8.0 RMSE: 0.8182746111656539\n",
      "(Ne, β, Lrad) = (600, 0.99, 9.0)\n",
      "322.745326 seconds (2.00 G allocations: 214.186 GiB, 10.44% gc time)\n",
      "Ne = 600\n",
      "Ne 600& β 0.99& Lrad 9.0 RMSE: 0.8161397085982113\n",
      "(Ne, β, Lrad) = (600, 0.99, 10.0)\n",
      "230.439335 seconds (2.00 G allocations: 214.186 GiB, 12.32% gc time)\n",
      "Ne = 600\n",
      "Ne 600& β 0.99& Lrad 10.0 RMSE: 0.8129388671870259\n",
      "(Ne, β, Lrad) = (600, 0.99, 11.0)\n",
      "210.761516 seconds (2.00 G allocations: 214.186 GiB, 13.17% gc time)\n",
      "Ne = 600\n",
      "Ne 600& β 0.99& Lrad 11.0 RMSE: 0.7968952905761492\n",
      "(Ne, β, Lrad) = (600, 0.99, 12.0)\n",
      "211.484152 seconds (2.00 G allocations: 214.186 GiB, 13.18% gc time)\n",
      "Ne = 600\n",
      "Ne 600& β 0.99& Lrad 12.0 RMSE: 0.7972743005766872\n",
      "(Ne, β, Lrad) = (600, 0.99, 13.0)\n",
      "211.404385 seconds (2.00 G allocations: 214.186 GiB, 13.18% gc time)\n",
      "Ne = 600\n",
      "Ne 600& β 0.99& Lrad 13.0 RMSE: 0.7798438875930778\n",
      "(Ne, β, Lrad) = (600, 1.0, 4.0)\n",
      "211.421075 seconds (2.00 G allocations: 214.186 GiB, 13.20% gc time)\n",
      "Ne = 600\n",
      "Ne 600& β 1.0& Lrad 4.0 RMSE: 0.9744904536476904\n",
      "(Ne, β, Lrad) = (600, 1.0, 5.0)\n",
      "239.720007 seconds (2.00 G allocations: 214.186 GiB, 12.33% gc time)\n",
      "Ne = 600\n",
      "Ne 600& β 1.0& Lrad 5.0 RMSE: 0.9097535455151379\n",
      "(Ne, β, Lrad) = (600, 1.0, 6.0)\n",
      "438.148761 seconds (2.00 G allocations: 214.186 GiB, 7.99% gc time)\n",
      "Ne = 600\n",
      "Ne 600& β 1.0& Lrad 6.0 RMSE: 0.866453617118229\n",
      "(Ne, β, Lrad) = (600, 1.0, 7.0)\n",
      "407.036456 seconds (2.00 G allocations: 214.186 GiB, 8.55% gc time)\n",
      "Ne = 600\n",
      "Ne 600& β 1.0& Lrad 7.0 RMSE: 0.8466488399606534\n",
      "(Ne, β, Lrad) = (600, 1.0, 8.0)\n",
      "439.692520 seconds (2.00 G allocations: 214.186 GiB, 7.91% gc time)\n",
      "Ne = 600\n",
      "Ne 600& β 1.0& Lrad 8.0 RMSE: 0.8231190428949431\n",
      "(Ne, β, Lrad) = (600, 1.0, 9.0)\n",
      "440.054393 seconds (2.00 G allocations: 214.186 GiB, 7.96% gc time)\n",
      "Ne = 600\n",
      "Ne 600& β 1.0& Lrad 9.0 RMSE: 0.8181994321186985\n",
      "(Ne, β, Lrad) = (600, 1.0, 10.0)\n",
      "440.024705 seconds (2.00 G allocations: 214.186 GiB, 7.95% gc time)\n",
      "Ne = 600\n",
      "Ne 600& β 1.0& Lrad 10.0 RMSE: 0.8043996071122286\n",
      "(Ne, β, Lrad) = (600, 1.0, 11.0)\n",
      "243.021719 seconds (2.00 G allocations: 214.186 GiB, 11.72% gc time)\n",
      "Ne = 600\n",
      "Ne 600& β 1.0& Lrad 11.0 RMSE: 0.7975111064507125\n",
      "(Ne, β, Lrad) = (600, 1.0, 12.0)\n",
      "209.789029 seconds (2.00 G allocations: 214.186 GiB, 13.25% gc time)\n",
      "Ne = 600\n",
      "Ne 600& β 1.0& Lrad 12.0 RMSE: 0.8039488826041561\n",
      "(Ne, β, Lrad) = (600, 1.0, 13.0)\n",
      "210.908185 seconds (2.00 G allocations: 214.186 GiB, 13.22% gc time)\n",
      "Ne = 600\n",
      "Ne 600& β 1.0& Lrad 13.0 RMSE: 0.7904937878711159\n",
      "(Ne, β, Lrad) = (600, 1.01, 4.0)\n",
      "210.553940 seconds (2.00 G allocations: 214.186 GiB, 13.23% gc time)\n",
      "Ne = 600\n",
      "Ne 600& β 1.01& Lrad 4.0 RMSE: 0.9769754697376232\n",
      "(Ne, β, Lrad) = (600, 1.01, 5.0)\n",
      "209.821154 seconds (2.00 G allocations: 214.186 GiB, 13.21% gc time)\n",
      "Ne = 600\n",
      "Ne 600& β 1.01& Lrad 5.0 RMSE: 0.911719844241014\n",
      "(Ne, β, Lrad) = (600, 1.01, 6.0)\n",
      "210.645563 seconds (2.00 G allocations: 214.186 GiB, 13.22% gc time)\n",
      "Ne = 600\n",
      "Ne 600& β 1.01& Lrad 6.0 RMSE: 0.8627450092960565\n",
      "(Ne, β, Lrad) = (600, 1.01, 7.0)\n",
      "388.883446 seconds (2.00 G allocations: 214.186 GiB, 8.79% gc time)\n",
      "Ne = 600\n",
      "Ne 600& β 1.01& Lrad 7.0 RMSE: 0.844243828539891\n",
      "(Ne, β, Lrad) = (600, 1.01, 8.0)\n",
      "235.068382 seconds (2.00 G allocations: 214.186 GiB, 12.17% gc time)\n",
      "Ne = 600\n",
      "Ne 600& β 1.01& Lrad 8.0 RMSE: 0.8192842935084593\n",
      "(Ne, β, Lrad) = (600, 1.01, 9.0)\n",
      "323.953685 seconds (2.00 G allocations: 214.186 GiB, 10.57% gc time)\n",
      "Ne = 600\n",
      "Ne 600& β 1.01& Lrad 9.0 RMSE: 0.8180809401080196\n",
      "(Ne, β, Lrad) = (600, 1.01, 10.0)\n",
      "343.277442 seconds (2.00 G allocations: 214.186 GiB, 8.59% gc time)\n",
      "Ne = 600\n",
      "Ne 600& β 1.01& Lrad 10.0 RMSE: 0.804672867068132\n",
      "(Ne, β, Lrad) = (600, 1.01, 11.0)\n",
      "211.868699 seconds (2.00 G allocations: 214.186 GiB, 13.33% gc time)\n",
      "Ne = 600\n",
      "Ne 600& β 1.01& Lrad 11.0 RMSE: 0.8040368845623661\n",
      "(Ne, β, Lrad) = (600, 1.01, 12.0)\n",
      "212.059930 seconds (2.00 G allocations: 214.186 GiB, 13.27% gc time)\n",
      "Ne = 600\n",
      "Ne 600& β 1.01& Lrad 12.0 RMSE: 0.8003796905225897\n",
      "(Ne, β, Lrad) = (600, 1.01, 13.0)\n",
      "211.809439 seconds (2.00 G allocations: 214.186 GiB, 13.26% gc time)\n",
      "Ne = 600\n",
      "Ne 600& β 1.01& Lrad 13.0 RMSE: 0.8016595354622289\n",
      "(Ne, β, Lrad) = (600, 1.02, 4.0)\n",
      "211.948885 seconds (2.00 G allocations: 214.186 GiB, 13.27% gc time)\n",
      "Ne = 600\n"
     ]
    },
    {
     "name": "stdout",
     "output_type": "stream",
     "text": [
      "Ne 600& β 1.02& Lrad 4.0 RMSE: 0.972034701055285\n",
      "(Ne, β, Lrad) = (600, 1.02, 5.0)\n",
      "239.714356 seconds (2.00 G allocations: 214.186 GiB, 12.38% gc time)\n",
      "Ne = 600\n",
      "Ne 600& β 1.02& Lrad 5.0 RMSE: 0.9070888497739718\n",
      "(Ne, β, Lrad) = (600, 1.02, 6.0)\n",
      "264.209675 seconds (2.00 G allocations: 214.186 GiB, 10.82% gc time)\n",
      "Ne = 600\n",
      "Ne 600& β 1.02& Lrad 6.0 RMSE: 0.8671380980240828\n",
      "(Ne, β, Lrad) = (600, 1.02, 7.0)\n",
      "260.839761 seconds (2.00 G allocations: 214.186 GiB, 10.87% gc time)\n",
      "Ne = 600\n",
      "Ne 600& β 1.02& Lrad 7.0 RMSE: 0.8481698196487931\n",
      "(Ne, β, Lrad) = (600, 1.02, 8.0)\n",
      "211.282418 seconds (2.00 G allocations: 214.186 GiB, 13.25% gc time)\n",
      "Ne = 600\n",
      "Ne 600& β 1.02& Lrad 8.0 RMSE: 0.8205309908701154\n",
      "(Ne, β, Lrad) = (600, 1.02, 9.0)\n",
      "211.083908 seconds (2.00 G allocations: 214.186 GiB, 13.29% gc time)\n",
      "Ne = 600\n",
      "Ne 600& β 1.02& Lrad 9.0 RMSE: 0.8080764214291182\n",
      "(Ne, β, Lrad) = (600, 1.02, 10.0)\n",
      "210.941003 seconds (2.00 G allocations: 214.186 GiB, 13.27% gc time)\n",
      "Ne = 600\n",
      "Ne 600& β 1.02& Lrad 10.0 RMSE: 0.8125517981046662\n",
      "(Ne, β, Lrad) = (600, 1.02, 11.0)\n",
      "297.160053 seconds (2.00 G allocations: 214.186 GiB, 9.95% gc time)\n",
      "Ne = 600\n",
      "Ne 600& β 1.02& Lrad 11.0 RMSE: 0.7988878196626119\n",
      "(Ne, β, Lrad) = (600, 1.02, 12.0)\n",
      "210.620975 seconds (2.00 G allocations: 214.186 GiB, 13.26% gc time)\n",
      "Ne = 600\n",
      "Ne 600& β 1.02& Lrad 12.0 RMSE: 0.7918796400867457\n",
      "(Ne, β, Lrad) = (600, 1.02, 13.0)\n",
      "210.277527 seconds (2.00 G allocations: 214.186 GiB, 13.25% gc time)\n",
      "Ne = 600\n",
      "Ne 600& β 1.02& Lrad 13.0 RMSE: 0.7922933840081249\n",
      "(Ne, β, Lrad) = (600, 1.03, 4.0)\n",
      "209.594900 seconds (2.00 G allocations: 214.186 GiB, 13.23% gc time)\n",
      "Ne = 600\n",
      "Ne 600& β 1.03& Lrad 4.0 RMSE: 0.9765025766993037\n",
      "(Ne, β, Lrad) = (600, 1.03, 5.0)\n",
      "210.256089 seconds (2.00 G allocations: 214.186 GiB, 13.25% gc time)\n",
      "Ne = 600\n",
      "Ne 600& β 1.03& Lrad 5.0 RMSE: 0.9126946409075642\n",
      "(Ne, β, Lrad) = (600, 1.03, 6.0)\n",
      "210.372943 seconds (2.00 G allocations: 214.186 GiB, 13.28% gc time)\n",
      "Ne = 600\n",
      "Ne 600& β 1.03& Lrad 6.0 RMSE: 0.8693419889617077\n",
      "(Ne, β, Lrad) = (600, 1.03, 7.0)\n",
      "210.756318 seconds (2.00 G allocations: 214.186 GiB, 13.21% gc time)\n",
      "Ne = 600\n",
      "Ne 600& β 1.03& Lrad 7.0 RMSE: 0.8492606215033335\n",
      "(Ne, β, Lrad) = (600, 1.03, 8.0)\n",
      "210.243583 seconds (2.00 G allocations: 214.186 GiB, 13.20% gc time)\n",
      "Ne = 600\n",
      "Ne 600& β 1.03& Lrad 8.0 RMSE: 0.834534860942286\n",
      "(Ne, β, Lrad) = (600, 1.03, 9.0)\n",
      "236.576167 seconds (2.00 G allocations: 214.186 GiB, 11.98% gc time)\n",
      "Ne = 600\n",
      "Ne 600& β 1.03& Lrad 9.0 RMSE: 0.8173124016414244\n",
      "(Ne, β, Lrad) = (600, 1.03, 10.0)\n",
      "209.743496 seconds (2.00 G allocations: 214.186 GiB, 13.19% gc time)\n",
      "Ne = 600\n",
      "Ne 600& β 1.03& Lrad 10.0 RMSE: 0.8079341056970117\n",
      "(Ne, β, Lrad) = (600, 1.03, 11.0)\n",
      "212.963778 seconds (2.00 G allocations: 214.186 GiB, 13.20% gc time)\n",
      "Ne = 600\n",
      "Ne 600& β 1.03& Lrad 11.0 RMSE: 0.7988872832006043\n",
      "(Ne, β, Lrad) = (600, 1.03, 12.0)\n",
      "210.521436 seconds (2.00 G allocations: 214.186 GiB, 13.23% gc time)\n",
      "Ne = 600\n",
      "Ne 600& β 1.03& Lrad 12.0 RMSE: 0.7895170983057903\n",
      "(Ne, β, Lrad) = (600, 1.03, 13.0)\n",
      "210.656828 seconds (2.00 G allocations: 214.186 GiB, 13.26% gc time)\n",
      "Ne = 600\n",
      "Ne 600& β 1.03& Lrad 13.0 RMSE: 0.7965455515892659\n",
      "(Ne, β, Lrad) = (600, 1.04, 4.0)\n",
      "210.446742 seconds (2.00 G allocations: 214.186 GiB, 13.28% gc time)\n",
      "Ne = 600\n",
      "Ne 600& β 1.04& Lrad 4.0 RMSE: 0.9781357825301856\n",
      "(Ne, β, Lrad) = (600, 1.04, 5.0)\n",
      "299.221225 seconds (2.00 G allocations: 214.186 GiB, 10.80% gc time)\n",
      "Ne = 600\n",
      "Ne 600& β 1.04& Lrad 5.0 RMSE: 0.9118457950122391\n",
      "(Ne, β, Lrad) = (600, 1.04, 6.0)\n",
      "438.747900 seconds (2.00 G allocations: 214.186 GiB, 7.97% gc time)\n",
      "Ne = 600\n",
      "Ne 600& β 1.04& Lrad 6.0 RMSE: 0.8839921900789182\n",
      "(Ne, β, Lrad) = (600, 1.04, 7.0)\n",
      "438.241085 seconds (2.00 G allocations: 214.186 GiB, 7.90% gc time)\n",
      "Ne = 600\n",
      "Ne 600& β 1.04& Lrad 7.0 RMSE: 0.8466494112536243\n",
      "(Ne, β, Lrad) = (600, 1.04, 8.0)\n",
      "439.374389 seconds (2.00 G allocations: 214.186 GiB, 7.93% gc time)\n",
      "Ne = 600\n",
      "Ne 600& β 1.04& Lrad 8.0 RMSE: 0.8300637269628512\n",
      "(Ne, β, Lrad) = (600, 1.04, 9.0)\n",
      "391.797216 seconds (2.00 G allocations: 214.186 GiB, 8.80% gc time)\n",
      "Ne = 600\n",
      "Ne 600& β 1.04& Lrad 9.0 RMSE: 0.8207254820162778\n",
      "(Ne, β, Lrad) = (600, 1.04, 10.0)\n",
      "438.914242 seconds (2.00 G allocations: 214.186 GiB, 7.91% gc time)\n",
      "Ne = 600\n",
      "Ne 600& β 1.04& Lrad 10.0 RMSE: 0.809712401225631\n",
      "(Ne, β, Lrad) = (600, 1.04, 11.0)\n",
      "375.845938 seconds (2.00 G allocations: 214.186 GiB, 8.29% gc time)\n",
      "Ne = 600\n",
      "Ne 600& β 1.04& Lrad 11.0 RMSE: 0.8091234122634651\n",
      "(Ne, β, Lrad) = (600, 1.04, 12.0)\n",
      "237.887381 seconds (2.00 G allocations: 214.186 GiB, 11.81% gc time)\n",
      "Ne = 600\n",
      "Ne 600& β 1.04& Lrad 12.0 RMSE: 0.7996911880441023\n",
      "(Ne, β, Lrad) = (600, 1.04, 13.0)\n",
      "304.867634 seconds (2.00 G allocations: 214.186 GiB, 10.91% gc time)\n",
      "Ne = 600\n",
      "Ne 600& β 1.04& Lrad 13.0 RMSE: 0.7969637366438087\n",
      "(Ne, β, Lrad) = (600, 1.05, 4.0)\n",
      "339.918132 seconds (2.00 G allocations: 214.186 GiB, 8.55% gc time)\n",
      "Ne = 600\n",
      "Ne 600& β 1.05& Lrad 4.0 RMSE: 0.9779401731615656\n",
      "(Ne, β, Lrad) = (600, 1.05, 5.0)\n",
      "210.046886 seconds (2.00 G allocations: 214.186 GiB, 13.24% gc time)\n",
      "Ne = 600\n",
      "Ne 600& β 1.05& Lrad 5.0 RMSE: 0.9165979444625866\n",
      "(Ne, β, Lrad) = (600, 1.05, 6.0)\n",
      "416.284795 seconds (2.00 G allocations: 214.186 GiB, 8.20% gc time)\n",
      "Ne = 600\n",
      "Ne 600& β 1.05& Lrad 6.0 RMSE: 0.8776259032568466\n",
      "(Ne, β, Lrad) = (600, 1.05, 7.0)\n",
      "439.579584 seconds (2.00 G allocations: 214.186 GiB, 7.95% gc time)\n",
      "Ne = 600\n",
      "Ne 600& β 1.05& Lrad 7.0 RMSE: 0.8546626390826703\n",
      "(Ne, β, Lrad) = (600, 1.05, 8.0)\n",
      "439.539450 seconds (2.00 G allocations: 214.186 GiB, 7.95% gc time)\n",
      "Ne = 600\n",
      "Ne 600& β 1.05& Lrad 8.0 RMSE: 0.8294985765621437\n",
      "(Ne, β, Lrad) = (600, 1.05, 9.0)\n",
      "314.897689 seconds (2.00 G allocations: 214.186 GiB, 9.19% gc time)\n",
      "Ne = 600\n",
      "Ne 600& β 1.05& Lrad 9.0 RMSE: 0.8203653529195979\n",
      "(Ne, β, Lrad) = (600, 1.05, 10.0)\n",
      "210.623579 seconds (2.00 G allocations: 214.186 GiB, 13.20% gc time)\n",
      "Ne = 600\n",
      "Ne 600& β 1.05& Lrad 10.0 RMSE: 0.810622902942806\n",
      "(Ne, β, Lrad) = (600, 1.05, 11.0)\n",
      "210.444803 seconds (2.00 G allocations: 214.186 GiB, 13.21% gc time)\n",
      "Ne = 600\n",
      "Ne 600& β 1.05& Lrad 11.0 RMSE: 0.8070586494132113\n",
      "(Ne, β, Lrad) = (600, 1.05, 12.0)\n",
      "210.419096 seconds (2.00 G allocations: 214.186 GiB, 13.21% gc time)\n",
      "Ne = 600\n",
      "Ne 600& β 1.05& Lrad 12.0 RMSE: 0.8133786314598614\n",
      "(Ne, β, Lrad) = (600, 1.05, 13.0)\n",
      "390.067437 seconds (2.00 G allocations: 214.186 GiB, 8.77% gc time)\n",
      "Ne = 600\n"
     ]
    },
    {
     "name": "stderr",
     "output_type": "stream",
     "text": [
      "\r",
      "\u001b[32mProgress: 100%|█████████████████████████████████████████| Time: 15:15:42\u001b[39m\n"
     ]
    },
    {
     "name": "stdout",
     "output_type": "stream",
     "text": [
      "Ne 600& β 1.05& Lrad 13.0 RMSE: 0.8041609031279165\n"
     ]
    }
   ],
   "source": [
    "metric_enkf = benchmark_lorenz96(model, data, path, Ne_array, β_array, L_array);"
   ]
  },
  {
   "cell_type": "code",
   "execution_count": 65,
   "metadata": {},
   "outputs": [],
   "source": [
    "save(path*\"metric_enkf.jld\", \"metric\", metric_enkf)"
   ]
  },
  {
   "cell_type": "markdown",
   "metadata": {},
   "source": [
    "Benchmark for the Lorenz-96 problem with the sequential stochastic radial map filter"
   ]
  },
  {
   "cell_type": "code",
   "execution_count": 66,
   "metadata": {},
   "outputs": [],
   "source": [
    "Lrad_array = Float64.(collect(1:10))\n",
    "nonid_array = Float64.(collect(1:12));"
   ]
  },
  {
   "cell_type": "markdown",
   "metadata": {},
   "source": [
    "p = 0"
   ]
  },
  {
   "cell_type": "code",
   "execution_count": 67,
   "metadata": {},
   "outputs": [
    {
     "data": {
      "text/plain": [
       "0"
      ]
     },
     "execution_count": 67,
     "metadata": {},
     "output_type": "execute_result"
    }
   ],
   "source": [
    "p = 0"
   ]
  },
  {
   "cell_type": "code",
   "execution_count": null,
   "metadata": {
    "scrolled": true
   },
   "outputs": [
    {
     "name": "stdout",
     "output_type": "stream",
     "text": [
      "(Ne, β, Lrad, nonid_rad) = (60, 0.97, 1.0, 1.0)\n"
     ]
    },
    {
     "name": "stderr",
     "output_type": "stream",
     "text": [
      "\u001b[32mProgress: 100%|█████████████████████████████████████████| Time: 0:01:00\u001b[39m\n"
     ]
    },
    {
     "name": "stdout",
     "output_type": "stream",
     "text": [
      " 60.829792 seconds (839.54 M allocations: 75.073 GiB, 12.53% gc time)\n",
      "Ne = 60\n",
      "Ne 60 & β 0.97 & Lrad 1.0 & nonid_rad 1.0 & RMSE: 1.2872131666651057\n",
      "(Ne, β, Lrad, nonid_rad) = (60, 0.97, 1.0, 2.0)\n"
     ]
    },
    {
     "name": "stderr",
     "output_type": "stream",
     "text": [
      "\u001b[32mProgress: 100%|█████████████████████████████████████████| Time: 0:01:23\u001b[39m\n"
     ]
    },
    {
     "name": "stdout",
     "output_type": "stream",
     "text": [
      " 83.526749 seconds (1.25 G allocations: 105.460 GiB, 11.68% gc time)\n",
      "Ne = 60\n",
      "Ne 60 & β 0.97 & Lrad 1.0 & nonid_rad 2.0 & RMSE: 1.2656368039553372\n",
      "(Ne, β, Lrad, nonid_rad) = (60, 0.97, 1.0, 3.0)\n"
     ]
    },
    {
     "name": "stderr",
     "output_type": "stream",
     "text": [
      "\u001b[32mProgress: 100%|█████████████████████████████████████████| Time: 0:01:45\u001b[39m\n"
     ]
    },
    {
     "name": "stdout",
     "output_type": "stream",
     "text": [
      "105.177919 seconds (1.66 G allocations: 136.279 GiB, 12.12% gc time)\n",
      "Ne = 60\n",
      "Ne 60 & β 0.97 & Lrad 1.0 & nonid_rad 3.0 & RMSE: 1.2495285486474719\n",
      "(Ne, β, Lrad, nonid_rad) = (60, 0.97, 1.0, 4.0)\n"
     ]
    },
    {
     "name": "stderr",
     "output_type": "stream",
     "text": [
      "\u001b[32mProgress: 100%|█████████████████████████████████████████| Time: 0:02:08\u001b[39m\n"
     ]
    },
    {
     "name": "stdout",
     "output_type": "stream",
     "text": [
      "128.492172 seconds (2.07 G allocations: 167.530 GiB, 12.47% gc time)\n",
      "Ne = 60\n",
      "Ne 60 & β 0.97 & Lrad 1.0 & nonid_rad 4.0 & RMSE: 1.2348881360126376\n",
      "(Ne, β, Lrad, nonid_rad) = (60, 0.97, 1.0, 5.0)\n"
     ]
    },
    {
     "name": "stderr",
     "output_type": "stream",
     "text": [
      "\u001b[32mProgress: 100%|█████████████████████████████████████████| Time: 0:02:36\u001b[39m\n"
     ]
    },
    {
     "name": "stdout",
     "output_type": "stream",
     "text": [
      "156.221027 seconds (2.51 G allocations: 206.937 GiB, 12.92% gc time)\n",
      "Ne = 60\n",
      "Ne 60 & β 0.97 & Lrad 1.0 & nonid_rad 5.0 & RMSE: 1.2455045700942942\n",
      "(Ne, β, Lrad, nonid_rad) = (60, 0.97, 1.0, 6.0)\n"
     ]
    },
    {
     "name": "stderr",
     "output_type": "stream",
     "text": [
      "\u001b[32mProgress: 100%|█████████████████████████████████████████| Time: 0:03:09\u001b[39m\n"
     ]
    },
    {
     "name": "stdout",
     "output_type": "stream",
     "text": [
      "189.081005 seconds (2.98 G allocations: 254.500 GiB, 12.98% gc time)\n",
      "Ne = 60\n",
      "Ne 60 & β 0.97 & Lrad 1.0 & nonid_rad 6.0 & RMSE: 1.2608222094303478\n",
      "(Ne, β, Lrad, nonid_rad) = (60, 0.97, 1.0, 7.0)\n"
     ]
    },
    {
     "name": "stderr",
     "output_type": "stream",
     "text": [
      "\u001b[32mProgress: 100%|█████████████████████████████████████████| Time: 0:03:42\u001b[39m\n"
     ]
    },
    {
     "name": "stdout",
     "output_type": "stream",
     "text": [
      "222.088453 seconds (3.45 G allocations: 302.493 GiB, 13.18% gc time)\n",
      "Ne = 60\n",
      "Ne 60 & β 0.97 & Lrad 1.0 & nonid_rad 7.0 & RMSE: 1.264946078953948\n",
      "(Ne, β, Lrad, nonid_rad) = (60, 0.97, 1.0, 8.0)\n"
     ]
    },
    {
     "name": "stderr",
     "output_type": "stream",
     "text": [
      "\u001b[32mProgress: 100%|█████████████████████████████████████████| Time: 0:04:15\u001b[39m\n"
     ]
    },
    {
     "name": "stdout",
     "output_type": "stream",
     "text": [
      "255.452132 seconds (3.92 G allocations: 346.130 GiB, 13.23% gc time)\n",
      "Ne = 60\n",
      "Ne 60 & β 0.97 & Lrad 1.0 & nonid_rad 8.0 & RMSE: 1.2353271963550683\n",
      "(Ne, β, Lrad, nonid_rad) = (60, 0.97, 1.0, 9.0)\n"
     ]
    },
    {
     "name": "stderr",
     "output_type": "stream",
     "text": [
      "\u001b[32mProgress: 100%|█████████████████████████████████████████| Time: 0:04:48\u001b[39m\n"
     ]
    },
    {
     "name": "stdout",
     "output_type": "stream",
     "text": [
      "288.566426 seconds (4.39 G allocations: 385.403 GiB, 13.06% gc time)\n",
      "Ne = 60\n",
      "Ne 60 & β 0.97 & Lrad 1.0 & nonid_rad 9.0 & RMSE: 1.254604504283299\n",
      "(Ne, β, Lrad, nonid_rad) = (60, 0.97, 1.0, 10.0)\n"
     ]
    },
    {
     "name": "stderr",
     "output_type": "stream",
     "text": [
      "\u001b[32mProgress: 100%|█████████████████████████████████████████| Time: 0:05:21\u001b[39m\n"
     ]
    },
    {
     "name": "stdout",
     "output_type": "stream",
     "text": [
      "321.912209 seconds (4.86 G allocations: 425.105 GiB, 12.77% gc time)\n",
      "Ne = 60\n",
      "Ne 60 & β 0.97 & Lrad 1.0 & nonid_rad 10.0 & RMSE: 1.256928694759807\n",
      "(Ne, β, Lrad, nonid_rad) = (60, 0.97, 1.0, 11.0)\n"
     ]
    },
    {
     "name": "stderr",
     "output_type": "stream",
     "text": [
      "\u001b[32mProgress: 100%|█████████████████████████████████████████| Time: 0:06:07\u001b[39m\n"
     ]
    },
    {
     "name": "stdout",
     "output_type": "stream",
     "text": [
      "367.759668 seconds (5.38 G allocations: 491.563 GiB, 12.98% gc time)\n",
      "Ne = 60\n",
      "Ne 60 & β 0.97 & Lrad 1.0 & nonid_rad 11.0 & RMSE: 1.2455961479579392\n",
      "(Ne, β, Lrad, nonid_rad) = (60, 0.97, 1.0, 12.0)\n"
     ]
    },
    {
     "name": "stderr",
     "output_type": "stream",
     "text": [
      "\u001b[32mProgress: 100%|█████████████████████████████████████████| Time: 0:06:52\u001b[39m\n"
     ]
    },
    {
     "name": "stdout",
     "output_type": "stream",
     "text": [
      "412.987458 seconds (5.91 G allocations: 558.448 GiB, 13.15% gc time)\n",
      "Ne = 60\n",
      "Ne 60 & β 0.97 & Lrad 1.0 & nonid_rad 12.0 & RMSE: 1.2455038288443707\n",
      "(Ne, β, Lrad, nonid_rad) = (60, 0.97, 2.0, 1.0)\n"
     ]
    },
    {
     "name": "stderr",
     "output_type": "stream",
     "text": [
      "\u001b[32mProgress: 100%|█████████████████████████████████████████| Time: 0:01:03\u001b[39m\n"
     ]
    },
    {
     "name": "stdout",
     "output_type": "stream",
     "text": [
      " 63.624553 seconds (849.14 M allocations: 75.659 GiB, 11.12% gc time)\n",
      "Ne = 60\n",
      "Ne 60 & β 0.97 & Lrad 2.0 & nonid_rad 1.0 & RMSE: 1.273986500458021\n",
      "(Ne, β, Lrad, nonid_rad) = (60, 0.97, 2.0, 2.0)\n"
     ]
    },
    {
     "name": "stderr",
     "output_type": "stream",
     "text": [
      "\u001b[32mProgress: 100%|█████████████████████████████████████████| Time: 0:01:25\u001b[39m\n"
     ]
    },
    {
     "name": "stdout",
     "output_type": "stream",
     "text": [
      " 85.500281 seconds (1.28 G allocations: 107.220 GiB, 11.58% gc time)\n",
      "Ne = 60\n",
      "Ne 60 & β 0.97 & Lrad 2.0 & nonid_rad 2.0 & RMSE: 1.2464417467741966\n",
      "(Ne, β, Lrad, nonid_rad) = (60, 0.97, 2.0, 3.0)\n"
     ]
    },
    {
     "name": "stderr",
     "output_type": "stream",
     "text": [
      "\u001b[32mProgress: 100%|█████████████████████████████████████████| Time: 0:01:48\u001b[39m\n"
     ]
    },
    {
     "name": "stdout",
     "output_type": "stream",
     "text": [
      "108.799689 seconds (1.71 G allocations: 139.212 GiB, 12.09% gc time)\n",
      "Ne = 60\n",
      "Ne 60 & β 0.97 & Lrad 2.0 & nonid_rad 3.0 & RMSE: 1.139671770273102\n",
      "(Ne, β, Lrad, nonid_rad) = (60, 0.97, 2.0, 4.0)\n"
     ]
    },
    {
     "name": "stderr",
     "output_type": "stream",
     "text": [
      "\u001b[32mProgress: 100%|█████████████████████████████████████████| Time: 0:02:13\u001b[39m\n"
     ]
    },
    {
     "name": "stdout",
     "output_type": "stream",
     "text": [
      "133.118700 seconds (2.14 G allocations: 171.635 GiB, 12.51% gc time)\n",
      "Ne = 60\n",
      "Ne 60 & β 0.97 & Lrad 2.0 & nonid_rad 4.0 & RMSE: 1.154487596966161\n",
      "(Ne, β, Lrad, nonid_rad) = (60, 0.97, 2.0, 5.0)\n"
     ]
    },
    {
     "name": "stderr",
     "output_type": "stream",
     "text": [
      "\u001b[32mProgress: 100%|█████████████████████████████████████████| Time: 0:02:43\u001b[39m\n"
     ]
    },
    {
     "name": "stdout",
     "output_type": "stream",
     "text": [
      "163.043259 seconds (2.60 G allocations: 212.216 GiB, 12.44% gc time)\n",
      "Ne = 60\n",
      "Ne 60 & β 0.97 & Lrad 2.0 & nonid_rad 5.0 & RMSE: 1.1369156029540846\n",
      "(Ne, β, Lrad, nonid_rad) = (60, 0.97, 2.0, 6.0)\n"
     ]
    },
    {
     "name": "stderr",
     "output_type": "stream",
     "text": [
      "\u001b[32mProgress: 100%|█████████████████████████████████████████| Time: 0:03:16\u001b[39m\n"
     ]
    },
    {
     "name": "stdout",
     "output_type": "stream",
     "text": [
      "196.234518 seconds (3.09 G allocations: 260.951 GiB, 12.84% gc time)\n",
      "Ne = 60\n",
      "Ne 60 & β 0.97 & Lrad 2.0 & nonid_rad 6.0 & RMSE: 1.1222236519382005\n",
      "(Ne, β, Lrad, nonid_rad) = (60, 0.97, 2.0, 7.0)\n"
     ]
    },
    {
     "name": "stderr",
     "output_type": "stream",
     "text": [
      "\u001b[32mProgress: 100%|█████████████████████████████████████████| Time: 0:03:52\u001b[39m\n"
     ]
    },
    {
     "name": "stdout",
     "output_type": "stream",
     "text": [
      "232.134867 seconds (3.57 G allocations: 310.122 GiB, 13.10% gc time)\n",
      "Ne = 60\n",
      "Ne 60 & β 0.97 & Lrad 2.0 & nonid_rad 7.0 & RMSE: 1.1212775909873385\n",
      "(Ne, β, Lrad, nonid_rad) = (60, 0.97, 2.0, 8.0)\n"
     ]
    },
    {
     "name": "stderr",
     "output_type": "stream",
     "text": [
      "\u001b[32mProgress: 100%|█████████████████████████████████████████| Time: 0:04:25\u001b[39m\n"
     ]
    },
    {
     "name": "stdout",
     "output_type": "stream",
     "text": [
      "265.757584 seconds (4.06 G allocations: 354.929 GiB, 12.93% gc time)\n",
      "Ne = 60\n",
      "Ne 60 & β 0.97 & Lrad 2.0 & nonid_rad 8.0 & RMSE: 1.108432256001293\n",
      "(Ne, β, Lrad, nonid_rad) = (60, 0.97, 2.0, 9.0)\n"
     ]
    },
    {
     "name": "stderr",
     "output_type": "stream",
     "text": [
      "\u001b[32mProgress: 100%|█████████████████████████████████████████| Time: 0:04:58\u001b[39m\n"
     ]
    },
    {
     "name": "stdout",
     "output_type": "stream",
     "text": [
      "298.742742 seconds (4.55 G allocations: 395.374 GiB, 12.85% gc time)\n",
      "Ne = 60\n",
      "Ne 60 & β 0.97 & Lrad 2.0 & nonid_rad 9.0 & RMSE: 1.1485979119528082\n",
      "(Ne, β, Lrad, nonid_rad) = (60, 0.97, 2.0, 10.0)\n"
     ]
    },
    {
     "name": "stderr",
     "output_type": "stream",
     "text": [
      "\u001b[32mProgress: 100%|█████████████████████████████████████████| Time: 0:05:35\u001b[39m\n"
     ]
    },
    {
     "name": "stdout",
     "output_type": "stream",
     "text": [
      "335.010320 seconds (5.04 G allocations: 436.250 GiB, 12.69% gc time)\n",
      "Ne = 60\n",
      "Ne 60 & β 0.97 & Lrad 2.0 & nonid_rad 10.0 & RMSE: 1.1313677393533916\n",
      "(Ne, β, Lrad, nonid_rad) = (60, 0.97, 2.0, 11.0)\n"
     ]
    },
    {
     "name": "stderr",
     "output_type": "stream",
     "text": [
      "\u001b[32mProgress: 100%|█████████████████████████████████████████| Time: 0:06:22\u001b[39m\n"
     ]
    },
    {
     "name": "stdout",
     "output_type": "stream",
     "text": [
      "382.280749 seconds (5.58 G allocations: 503.880 GiB, 12.80% gc time)\n",
      "Ne = 60\n",
      "Ne 60 & β 0.97 & Lrad 2.0 & nonid_rad 11.0 & RMSE: 1.1505911874700683\n",
      "(Ne, β, Lrad, nonid_rad) = (60, 0.97, 2.0, 12.0)\n"
     ]
    },
    {
     "name": "stderr",
     "output_type": "stream",
     "text": [
      "\u001b[32mProgress: 100%|█████████████████████████████████████████| Time: 0:07:10\u001b[39m\n"
     ]
    },
    {
     "name": "stdout",
     "output_type": "stream",
     "text": [
      "430.635146 seconds (6.13 G allocations: 571.941 GiB, 13.01% gc time)\n",
      "Ne = 60\n",
      "Ne 60 & β 0.97 & Lrad 2.0 & nonid_rad 12.0 & RMSE: 1.1504553927554229\n",
      "(Ne, β, Lrad, nonid_rad) = (60, 0.97, 3.0, 1.0)\n"
     ]
    },
    {
     "name": "stderr",
     "output_type": "stream",
     "text": [
      "\u001b[32mProgress: 100%|█████████████████████████████████████████| Time: 0:01:03\u001b[39m\n"
     ]
    },
    {
     "name": "stdout",
     "output_type": "stream",
     "text": [
      " 63.637200 seconds (849.14 M allocations: 75.659 GiB, 10.90% gc time)\n",
      "Ne = 60\n",
      "Ne 60 & β 0.97 & Lrad 3.0 & nonid_rad 1.0 & RMSE: 1.2887980040089568\n",
      "(Ne, β, Lrad, nonid_rad) = (60, 0.97, 3.0, 2.0)\n"
     ]
    },
    {
     "name": "stderr",
     "output_type": "stream",
     "text": [
      "\u001b[32mProgress: 100%|█████████████████████████████████████████| Time: 0:01:27\u001b[39m\n"
     ]
    },
    {
     "name": "stdout",
     "output_type": "stream",
     "text": [
      " 87.634905 seconds (1.30 G allocations: 108.817 GiB, 11.55% gc time)\n",
      "Ne = 60\n",
      "Ne 60 & β 0.97 & Lrad 3.0 & nonid_rad 2.0 & RMSE: 1.2583469665078626\n",
      "(Ne, β, Lrad, nonid_rad) = (60, 0.97, 3.0, 3.0)\n"
     ]
    },
    {
     "name": "stderr",
     "output_type": "stream",
     "text": [
      "\u001b[32mProgress: 100%|█████████████████████████████████████████| Time: 0:01:53\u001b[39m\n"
     ]
    },
    {
     "name": "stdout",
     "output_type": "stream",
     "text": [
      "113.566322 seconds (1.75 G allocations: 142.407 GiB, 12.07% gc time)\n",
      "Ne = 60\n",
      "Ne 60 & β 0.97 & Lrad 3.0 & nonid_rad 3.0 & RMSE: 1.119119769469334\n",
      "(Ne, β, Lrad, nonid_rad) = (60, 0.97, 3.0, 4.0)\n"
     ]
    },
    {
     "name": "stderr",
     "output_type": "stream",
     "text": [
      "\u001b[32mProgress: 100%|█████████████████████████████████████████| Time: 0:02:21\u001b[39m\n"
     ]
    },
    {
     "name": "stdout",
     "output_type": "stream",
     "text": [
      "141.655445 seconds (2.20 G allocations: 176.428 GiB, 12.09% gc time)\n",
      "Ne = 60\n",
      "Ne 60 & β 0.97 & Lrad 3.0 & nonid_rad 4.0 & RMSE: 1.1358667621774743\n",
      "(Ne, β, Lrad, nonid_rad) = (60, 0.97, 3.0, 5.0)\n"
     ]
    },
    {
     "name": "stderr",
     "output_type": "stream",
     "text": [
      "\u001b[32mProgress: 100%|█████████████████████████████████████████| Time: 0:02:52\u001b[39m\n"
     ]
    },
    {
     "name": "stdout",
     "output_type": "stream",
     "text": [
      "172.385522 seconds (2.68 G allocations: 218.606 GiB, 12.35% gc time)\n",
      "Ne = 60\n",
      "Ne 60 & β 0.97 & Lrad 3.0 & nonid_rad 5.0 & RMSE: 1.0622900577207928\n",
      "(Ne, β, Lrad, nonid_rad) = (60, 0.97, 3.0, 6.0)\n"
     ]
    },
    {
     "name": "stderr",
     "output_type": "stream",
     "text": [
      "\u001b[32mProgress: 100%|█████████████████████████████████████████| Time: 0:03:30\u001b[39m\n"
     ]
    },
    {
     "name": "stdout",
     "output_type": "stream",
     "text": [
      "210.443434 seconds (3.18 G allocations: 268.939 GiB, 12.58% gc time)\n",
      "Ne = 60\n",
      "Ne 60 & β 0.97 & Lrad 3.0 & nonid_rad 6.0 & RMSE: 1.06688652470122\n",
      "(Ne, β, Lrad, nonid_rad) = (60, 0.97, 3.0, 7.0)\n"
     ]
    },
    {
     "name": "stderr",
     "output_type": "stream",
     "text": [
      "\u001b[32mProgress: 100%|█████████████████████████████████████████| Time: 0:04:10\u001b[39m\n"
     ]
    },
    {
     "name": "stdout",
     "output_type": "stream",
     "text": [
      "250.267265 seconds (3.69 G allocations: 319.708 GiB, 12.66% gc time)\n",
      "Ne = 60\n",
      "Ne 60 & β 0.97 & Lrad 3.0 & nonid_rad 7.0 & RMSE: 1.1349848144745154\n",
      "(Ne, β, Lrad, nonid_rad) = (60, 0.97, 3.0, 8.0)\n"
     ]
    },
    {
     "name": "stderr",
     "output_type": "stream",
     "text": [
      "\u001b[32mProgress: 100%|█████████████████████████████████████████| Time: 0:04:49\u001b[39m\n"
     ]
    },
    {
     "name": "stdout",
     "output_type": "stream",
     "text": [
      "289.003181 seconds (4.20 G allocations: 366.112 GiB, 12.68% gc time)\n",
      "Ne = 60\n",
      "Ne 60 & β 0.97 & Lrad 3.0 & nonid_rad 8.0 & RMSE: 1.0974378439557309\n",
      "(Ne, β, Lrad, nonid_rad) = (60, 0.97, 3.0, 9.0)\n"
     ]
    },
    {
     "name": "stderr",
     "output_type": "stream",
     "text": [
      "\u001b[32mProgress: 100%|█████████████████████████████████████████| Time: 0:05:36\u001b[39m\n"
     ]
    },
    {
     "name": "stdout",
     "output_type": "stream",
     "text": [
      "336.523515 seconds (4.71 G allocations: 408.154 GiB, 12.55% gc time)\n",
      "Ne = 60\n",
      "Ne 60 & β 0.97 & Lrad 3.0 & nonid_rad 9.0 & RMSE: 1.1218836604837652\n",
      "(Ne, β, Lrad, nonid_rad) = (60, 0.97, 3.0, 10.0)\n"
     ]
    },
    {
     "name": "stderr",
     "output_type": "stream",
     "text": [
      "\u001b[32mProgress: 100%|█████████████████████████████████████████| Time: 0:06:12\u001b[39m\n"
     ]
    },
    {
     "name": "stdout",
     "output_type": "stream",
     "text": [
      "372.270992 seconds (5.21 G allocations: 450.626 GiB, 12.42% gc time)\n",
      "Ne = 60\n",
      "Ne 60 & β 0.97 & Lrad 3.0 & nonid_rad 10.0 & RMSE: 1.1053455493464894\n",
      "(Ne, β, Lrad, nonid_rad) = (60, 0.97, 3.0, 11.0)\n"
     ]
    },
    {
     "name": "stderr",
     "output_type": "stream",
     "text": [
      "\u001b[32mProgress: 100%|█████████████████████████████████████████| Time: 0:07:07\u001b[39m\n"
     ]
    },
    {
     "name": "stdout",
     "output_type": "stream",
     "text": [
      "427.241296 seconds (5.78 G allocations: 519.855 GiB, 12.54% gc time)\n",
      "Ne = 60\n",
      "Ne 60 & β 0.97 & Lrad 3.0 & nonid_rad 11.0 & RMSE: 1.1171761310730135\n",
      "(Ne, β, Lrad, nonid_rad) = (60, 0.97, 3.0, 12.0)\n"
     ]
    },
    {
     "name": "stderr",
     "output_type": "stream",
     "text": [
      "\u001b[32mProgress: 100%|█████████████████████████████████████████| Time: 0:08:02\u001b[39m\n"
     ]
    },
    {
     "name": "stdout",
     "output_type": "stream",
     "text": [
      "482.320399 seconds (6.34 G allocations: 589.530 GiB, 12.65% gc time)\n",
      "Ne = 60\n",
      "Ne 60 & β 0.97 & Lrad 3.0 & nonid_rad 12.0 & RMSE: 1.094414285231774\n",
      "(Ne, β, Lrad, nonid_rad) = (60, 0.97, 4.0, 1.0)\n"
     ]
    },
    {
     "name": "stderr",
     "output_type": "stream",
     "text": [
      "\u001b[32mProgress: 100%|█████████████████████████████████████████| Time: 0:01:07\u001b[39m\n"
     ]
    },
    {
     "name": "stdout",
     "output_type": "stream",
     "text": [
      " 67.403696 seconds (849.15 M allocations: 75.660 GiB, 10.81% gc time)\n",
      "Ne = 60\n",
      "Ne 60 & β 0.97 & Lrad 4.0 & nonid_rad 1.0 & RMSE: 1.2757848311815843\n",
      "(Ne, β, Lrad, nonid_rad) = (60, 0.97, 4.0, 2.0)\n"
     ]
    },
    {
     "name": "stderr",
     "output_type": "stream",
     "text": [
      "\u001b[32mProgress: 100%|█████████████████████████████████████████| Time: 0:01:33\u001b[39m\n"
     ]
    },
    {
     "name": "stdout",
     "output_type": "stream",
     "text": [
      " 93.771294 seconds (1.31 G allocations: 109.409 GiB, 11.56% gc time)\n",
      "Ne = 60\n",
      "Ne 60 & β 0.97 & Lrad 4.0 & nonid_rad 2.0 & RMSE: 1.279756294270301\n",
      "(Ne, β, Lrad, nonid_rad) = (60, 0.97, 4.0, 3.0)\n"
     ]
    },
    {
     "name": "stderr",
     "output_type": "stream",
     "text": [
      "\u001b[32mProgress: 100%|█████████████████████████████████████████| Time: 0:02:02\u001b[39m\n"
     ]
    },
    {
     "name": "stdout",
     "output_type": "stream",
     "text": [
      "122.533662 seconds (1.78 G allocations: 144.182 GiB, 11.93% gc time)\n",
      "Ne = 60\n",
      "Ne 60 & β 0.97 & Lrad 4.0 & nonid_rad 3.0 & RMSE: 1.0965907707130746\n",
      "(Ne, β, Lrad, nonid_rad) = (60, 0.97, 4.0, 4.0)\n"
     ]
    },
    {
     "name": "stderr",
     "output_type": "stream",
     "text": [
      "\u001b[32mProgress: 100%|█████████████████████████████████████████| Time: 0:02:33\u001b[39m\n"
     ]
    },
    {
     "name": "stdout",
     "output_type": "stream",
     "text": [
      "153.009445 seconds (2.25 G allocations: 179.386 GiB, 11.98% gc time)\n",
      "Ne = 60\n",
      "Ne 60 & β 0.97 & Lrad 4.0 & nonid_rad 4.0 & RMSE: 1.163294863982755\n",
      "(Ne, β, Lrad, nonid_rad) = (60, 0.97, 4.0, 5.0)\n"
     ]
    },
    {
     "name": "stderr",
     "output_type": "stream",
     "text": [
      "\u001b[32mProgress: 100%|█████████████████████████████████████████| Time: 0:03:06\u001b[39m\n"
     ]
    },
    {
     "name": "stdout",
     "output_type": "stream",
     "text": [
      "186.729974 seconds (2.74 G allocations: 222.745 GiB, 12.22% gc time)\n",
      "Ne = 60\n",
      "Ne 60 & β 0.97 & Lrad 4.0 & nonid_rad 5.0 & RMSE: 1.1729238089247318\n",
      "(Ne, β, Lrad, nonid_rad) = (60, 0.97, 4.0, 6.0)\n"
     ]
    },
    {
     "name": "stderr",
     "output_type": "stream",
     "text": [
      "\u001b[32mProgress: 100%|█████████████████████████████████████████| Time: 0:03:47\u001b[39m\n"
     ]
    },
    {
     "name": "stdout",
     "output_type": "stream",
     "text": [
      "227.342527 seconds (3.27 G allocations: 274.263 GiB, 12.42% gc time)\n",
      "Ne = 60\n",
      "Ne 60 & β 0.97 & Lrad 4.0 & nonid_rad 6.0 & RMSE: 1.1159985516533324\n",
      "(Ne, β, Lrad, nonid_rad) = (60, 0.97, 4.0, 7.0)\n"
     ]
    },
    {
     "name": "stderr",
     "output_type": "stream",
     "text": [
      "\u001b[32mProgress: 100%|█████████████████████████████████████████| Time: 0:04:30\u001b[39m\n"
     ]
    },
    {
     "name": "stdout",
     "output_type": "stream",
     "text": [
      "270.731035 seconds (3.80 G allocations: 326.213 GiB, 12.63% gc time)\n",
      "Ne = 60\n",
      "Ne 60 & β 0.97 & Lrad 4.0 & nonid_rad 7.0 & RMSE: 1.2002424508533855\n",
      "(Ne, β, Lrad, nonid_rad) = (60, 0.97, 4.0, 8.0)\n"
     ]
    },
    {
     "name": "stderr",
     "output_type": "stream",
     "text": [
      "\u001b[32mProgress: 100%|█████████████████████████████████████████| Time: 0:05:06\u001b[39m\n"
     ]
    },
    {
     "name": "stdout",
     "output_type": "stream",
     "text": [
      "306.826966 seconds (4.32 G allocations: 373.798 GiB, 12.55% gc time)\n",
      "Ne = 60\n",
      "Ne 60 & β 0.97 & Lrad 4.0 & nonid_rad 8.0 & RMSE: 1.2069704502377006\n",
      "(Ne, β, Lrad, nonid_rad) = (60, 0.97, 4.0, 9.0)\n"
     ]
    },
    {
     "name": "stderr",
     "output_type": "stream",
     "text": [
      "\u001b[32mProgress: 100%|█████████████████████████████████████████| Time: 0:05:33\u001b[39m\n"
     ]
    },
    {
     "name": "stdout",
     "output_type": "stream",
     "text": [
      "333.464923 seconds (4.85 G allocations: 417.024 GiB, 13.00% gc time)\n",
      "Ne = 60\n",
      "Ne 60 & β 0.97 & Lrad 4.0 & nonid_rad 9.0 & RMSE: 1.2659559781337657\n",
      "(Ne, β, Lrad, nonid_rad) = (60, 0.97, 4.0, 10.0)\n"
     ]
    },
    {
     "name": "stderr",
     "output_type": "stream",
     "text": [
      "\u001b[32mProgress: 100%|█████████████████████████████████████████| Time: 0:05:49\u001b[39m\n"
     ]
    },
    {
     "name": "stdout",
     "output_type": "stream",
     "text": [
      "349.400095 seconds (5.38 G allocations: 460.677 GiB, 15.41% gc time)\n",
      "Ne = 60\n",
      "Ne 60 & β 0.97 & Lrad 4.0 & nonid_rad 10.0 & RMSE: 1.177228700008773\n",
      "(Ne, β, Lrad, nonid_rad) = (60, 0.97, 4.0, 11.0)\n"
     ]
    },
    {
     "name": "stderr",
     "output_type": "stream",
     "text": [
      "\u001b[32mProgress: 100%|█████████████████████████████████████████| Time: 0:06:41\u001b[39m\n"
     ]
    },
    {
     "name": "stdout",
     "output_type": "stream",
     "text": [
      "401.873089 seconds (5.96 G allocations: 531.088 GiB, 15.21% gc time)\n",
      "Ne = 60\n",
      "Ne 60 & β 0.97 & Lrad 4.0 & nonid_rad 11.0 & RMSE: 1.1722639191951008\n",
      "(Ne, β, Lrad, nonid_rad) = (60, 0.97, 4.0, 12.0)\n"
     ]
    },
    {
     "name": "stderr",
     "output_type": "stream",
     "text": [
      "\u001b[32mProgress: 100%|█████████████████████████████████████████| Time: 0:07:33\u001b[39m\n"
     ]
    },
    {
     "name": "stdout",
     "output_type": "stream",
     "text": [
      "453.378705 seconds (6.55 G allocations: 601.941 GiB, 15.08% gc time)\n",
      "Ne = 60\n",
      "Ne 60 & β 0.97 & Lrad 4.0 & nonid_rad 12.0 & RMSE: 1.1883293555074947\n",
      "(Ne, β, Lrad, nonid_rad) = (60, 0.97, 5.0, 1.0)\n"
     ]
    },
    {
     "name": "stderr",
     "output_type": "stream",
     "text": [
      "\u001b[32mProgress: 100%|█████████████████████████████████████████| Time: 0:00:58\u001b[39m\n"
     ]
    },
    {
     "name": "stdout",
     "output_type": "stream",
     "text": [
      " 58.906173 seconds (849.14 M allocations: 75.659 GiB, 17.07% gc time)\n",
      "Ne = 60\n",
      "Ne 60 & β 0.97 & Lrad 5.0 & nonid_rad 1.0 & RMSE: 1.2872196313762607\n",
      "(Ne, β, Lrad, nonid_rad) = (60, 0.97, 5.0, 2.0)\n"
     ]
    },
    {
     "name": "stderr",
     "output_type": "stream",
     "text": [
      "\u001b[32mProgress: 100%|█████████████████████████████████████████| Time: 0:01:18\u001b[39m\n"
     ]
    },
    {
     "name": "stdout",
     "output_type": "stream",
     "text": [
      " 78.282887 seconds (1.31 G allocations: 109.409 GiB, 19.71% gc time)\n",
      "Ne = 60\n",
      "Ne 60 & β 0.97 & Lrad 5.0 & nonid_rad 2.0 & RMSE: 1.2578811404738162\n",
      "(Ne, β, Lrad, nonid_rad) = (60, 0.97, 5.0, 3.0)\n"
     ]
    },
    {
     "name": "stderr",
     "output_type": "stream",
     "text": [
      "\u001b[32mProgress: 100%|█████████████████████████████████████████| Time: 0:01:46\u001b[39m\n"
     ]
    },
    {
     "name": "stdout",
     "output_type": "stream",
     "text": [
      "106.905122 seconds (1.80 G allocations: 145.759 GiB, 17.43% gc time)\n",
      "Ne = 60\n",
      "Ne 60 & β 0.97 & Lrad 5.0 & nonid_rad 3.0 & RMSE: 1.077250379165611\n",
      "(Ne, β, Lrad, nonid_rad) = (60, 0.97, 5.0, 4.0)\n"
     ]
    },
    {
     "name": "stderr",
     "output_type": "stream",
     "text": [
      "\u001b[32mProgress: 100%|█████████████████████████████████████████| Time: 0:02:06\u001b[39m\n"
     ]
    },
    {
     "name": "stdout",
     "output_type": "stream",
     "text": [
      "126.575266 seconds (2.29 G allocations: 182.540 GiB, 20.19% gc time)\n",
      "Ne = 60\n",
      "Ne 60 & β 0.97 & Lrad 5.0 & nonid_rad 4.0 & RMSE: 1.1206831213450243\n",
      "(Ne, β, Lrad, nonid_rad) = (60, 0.97, 5.0, 5.0)\n"
     ]
    },
    {
     "name": "stderr",
     "output_type": "stream",
     "text": [
      "\u001b[32mProgress: 100%|█████████████████████████████████████████| Time: 0:02:35\u001b[39m\n"
     ]
    },
    {
     "name": "stdout",
     "output_type": "stream",
     "text": [
      "155.001482 seconds (2.80 G allocations: 227.480 GiB, 20.77% gc time)\n",
      "Ne = 60\n",
      "Ne 60 & β 0.97 & Lrad 5.0 & nonid_rad 5.0 & RMSE: 1.1781023380283016\n",
      "(Ne, β, Lrad, nonid_rad) = (60, 0.97, 5.0, 6.0)\n"
     ]
    },
    {
     "name": "stderr",
     "output_type": "stream",
     "text": [
      "\u001b[32mProgress: 100%|█████████████████████████████████████████| Time: 0:03:08\u001b[39m\n"
     ]
    },
    {
     "name": "stdout",
     "output_type": "stream",
     "text": [
      "188.948002 seconds (3.35 G allocations: 280.573 GiB, 19.63% gc time)\n",
      "Ne = 60\n",
      "Ne 60 & β 0.97 & Lrad 5.0 & nonid_rad 6.0 & RMSE: 1.1779783719647654\n",
      "(Ne, β, Lrad, nonid_rad) = (60, 0.97, 5.0, 7.0)\n"
     ]
    },
    {
     "name": "stderr",
     "output_type": "stream",
     "text": [
      "\u001b[32mProgress: 100%|█████████████████████████████████████████| Time: 0:03:36\u001b[39m\n"
     ]
    },
    {
     "name": "stdout",
     "output_type": "stream",
     "text": [
      "216.925395 seconds (3.89 G allocations: 334.104 GiB, 20.90% gc time)\n",
      "Ne = 60\n",
      "Ne 60 & β 0.97 & Lrad 5.0 & nonid_rad 7.0 & RMSE: 1.1988816592535028\n",
      "(Ne, β, Lrad, nonid_rad) = (60, 0.97, 5.0, 8.0)\n"
     ]
    },
    {
     "name": "stderr",
     "output_type": "stream",
     "text": [
      "\u001b[32mProgress: 100%|█████████████████████████████████████████| Time: 0:04:09\u001b[39m\n"
     ]
    },
    {
     "name": "stdout",
     "output_type": "stream",
     "text": [
      "249.510788 seconds (4.44 G allocations: 383.268 GiB, 21.04% gc time)\n",
      "Ne = 60\n",
      "Ne 60 & β 0.97 & Lrad 5.0 & nonid_rad 8.0 & RMSE: 1.296632023192371\n",
      "(Ne, β, Lrad, nonid_rad) = (60, 0.97, 5.0, 9.0)\n"
     ]
    },
    {
     "name": "stderr",
     "output_type": "stream",
     "text": [
      "\u001b[32mProgress: 100%|█████████████████████████████████████████| Time: 0:04:42\u001b[39m\n"
     ]
    },
    {
     "name": "stdout",
     "output_type": "stream",
     "text": [
      "282.102497 seconds (4.99 G allocations: 428.070 GiB, 20.69% gc time)\n",
      "Ne = 60\n",
      "Ne 60 & β 0.97 & Lrad 5.0 & nonid_rad 9.0 & RMSE: 1.2295358844791362\n",
      "(Ne, β, Lrad, nonid_rad) = (60, 0.97, 5.0, 10.0)\n"
     ]
    },
    {
     "name": "stderr",
     "output_type": "stream",
     "text": [
      "\u001b[32mProgress: 100%|█████████████████████████████████████████| Time: 0:05:16\u001b[39m\n"
     ]
    },
    {
     "name": "stdout",
     "output_type": "stream",
     "text": [
      "316.404840 seconds (5.53 G allocations: 473.304 GiB, 20.62% gc time)\n",
      "Ne = 60\n",
      "Ne 60 & β 0.97 & Lrad 5.0 & nonid_rad 10.0 & RMSE: 1.2981661188103948\n",
      "(Ne, β, Lrad, nonid_rad) = (60, 0.97, 5.0, 11.0)\n"
     ]
    },
    {
     "name": "stderr",
     "output_type": "stream",
     "text": [
      "\u001b[32mProgress: 100%|█████████████████████████████████████████| Time: 0:06:02\u001b[39m\n"
     ]
    },
    {
     "name": "stdout",
     "output_type": "stream",
     "text": [
      "362.420318 seconds (6.14 G allocations: 545.291 GiB, 21.00% gc time)\n",
      "Ne = 60\n",
      "Ne 60 & β 0.97 & Lrad 5.0 & nonid_rad 11.0 & RMSE: 1.3464068781966658\n",
      "(Ne, β, Lrad, nonid_rad) = (60, 0.97, 5.0, 12.0)\n"
     ]
    },
    {
     "name": "stderr",
     "output_type": "stream",
     "text": [
      "\u001b[32mProgress: 100%|█████████████████████████████████████████| Time: 0:06:53\u001b[39m\n"
     ]
    },
    {
     "name": "stdout",
     "output_type": "stream",
     "text": [
      "413.739522 seconds (6.74 G allocations: 617.721 GiB, 20.54% gc time)\n",
      "Ne = 60\n",
      "Ne 60 & β 0.97 & Lrad 5.0 & nonid_rad 12.0 & RMSE: 1.4976037614889524\n",
      "(Ne, β, Lrad, nonid_rad) = (60, 0.97, 6.0, 1.0)\n"
     ]
    },
    {
     "name": "stderr",
     "output_type": "stream",
     "text": [
      "\u001b[32mProgress: 100%|█████████████████████████████████████████| Time: 0:00:56\u001b[39m\n"
     ]
    },
    {
     "name": "stdout",
     "output_type": "stream",
     "text": [
      " 56.761938 seconds (849.14 M allocations: 75.659 GiB, 17.84% gc time)\n",
      "Ne = 60\n",
      "Ne 60 & β 0.97 & Lrad 6.0 & nonid_rad 1.0 & RMSE: 1.287178389975938\n",
      "(Ne, β, Lrad, nonid_rad) = (60, 0.97, 6.0, 2.0)\n"
     ]
    },
    {
     "name": "stderr",
     "output_type": "stream",
     "text": [
      "\u001b[32mProgress: 100%|█████████████████████████████████████████| Time: 0:01:18\u001b[39m\n"
     ]
    },
    {
     "name": "stdout",
     "output_type": "stream",
     "text": [
      " 78.219973 seconds (1.31 G allocations: 109.409 GiB, 19.30% gc time)\n",
      "Ne = 60\n",
      "Ne 60 & β 0.97 & Lrad 6.0 & nonid_rad 2.0 & RMSE: 1.2514666907746264\n",
      "(Ne, β, Lrad, nonid_rad) = (60, 0.97, 6.0, 3.0)\n"
     ]
    },
    {
     "name": "stderr",
     "output_type": "stream",
     "text": [
      "\u001b[32mProgress: 100%|█████████████████████████████████████████| Time: 0:01:42\u001b[39m\n"
     ]
    },
    {
     "name": "stdout",
     "output_type": "stream",
     "text": [
      "102.873893 seconds (1.81 G allocations: 146.372 GiB, 20.01% gc time)\n",
      "Ne = 60\n",
      "Ne 60 & β 0.97 & Lrad 6.0 & nonid_rad 3.0 & RMSE: 1.0774826294082192\n",
      "(Ne, β, Lrad, nonid_rad) = (60, 0.97, 6.0, 4.0)\n"
     ]
    },
    {
     "name": "stderr",
     "output_type": "stream",
     "text": [
      "\u001b[32mProgress: 100%|█████████████████████████████████████████| Time: 0:02:08\u001b[39m\n"
     ]
    },
    {
     "name": "stdout",
     "output_type": "stream",
     "text": [
      "128.341988 seconds (2.31 G allocations: 184.379 GiB, 20.35% gc time)\n",
      "Ne = 60\n",
      "Ne 60 & β 0.97 & Lrad 6.0 & nonid_rad 4.0 & RMSE: 1.1117536529363228\n",
      "(Ne, β, Lrad, nonid_rad) = (60, 0.97, 6.0, 5.0)\n"
     ]
    },
    {
     "name": "stderr",
     "output_type": "stream",
     "text": [
      "\u001b[32mProgress: 100%|█████████████████████████████████████████| Time: 0:02:35\u001b[39m\n"
     ]
    },
    {
     "name": "stdout",
     "output_type": "stream",
     "text": [
      "155.978941 seconds (2.85 G allocations: 230.544 GiB, 20.07% gc time)\n",
      "Ne = 60\n",
      "Ne 60 & β 0.97 & Lrad 6.0 & nonid_rad 5.0 & RMSE: 1.1468299656631926\n",
      "(Ne, β, Lrad, nonid_rad) = (60, 0.97, 6.0, 6.0)\n"
     ]
    },
    {
     "name": "stderr",
     "output_type": "stream",
     "text": [
      "\u001b[32mProgress: 100%|█████████████████████████████████████████| Time: 0:03:09\u001b[39m\n"
     ]
    },
    {
     "name": "stdout",
     "output_type": "stream",
     "text": [
      "189.577551 seconds (3.42 G allocations: 284.862 GiB, 20.87% gc time)\n",
      "Ne = 60\n",
      "Ne 60 & β 0.97 & Lrad 6.0 & nonid_rad 6.0 & RMSE: 1.2679463341144213\n",
      "(Ne, β, Lrad, nonid_rad) = (60, 0.97, 6.0, 7.0)\n"
     ]
    },
    {
     "name": "stderr",
     "output_type": "stream",
     "text": [
      "\u001b[32mProgress: 100%|█████████████████████████████████████████| Time: 0:03:42\u001b[39m\n"
     ]
    },
    {
     "name": "stdout",
     "output_type": "stream",
     "text": [
      "222.226470 seconds (3.98 G allocations: 339.619 GiB, 21.19% gc time)\n",
      "Ne = 60\n",
      "Ne 60 & β 0.97 & Lrad 6.0 & nonid_rad 7.0 & RMSE: 1.3263757601514277\n",
      "(Ne, β, Lrad, nonid_rad) = (60, 0.97, 6.0, 8.0)\n"
     ]
    },
    {
     "name": "stderr",
     "output_type": "stream",
     "text": [
      "\u001b[32mProgress: 100%|█████████████████████████████████████████| Time: 0:04:14\u001b[39m\n"
     ]
    },
    {
     "name": "stdout",
     "output_type": "stream",
     "text": [
      "254.161769 seconds (4.55 G allocations: 390.008 GiB, 20.54% gc time)\n",
      "Ne = 60\n",
      "Ne 60 & β 0.97 & Lrad 6.0 & nonid_rad 8.0 & RMSE: 1.3917286843974799\n",
      "(Ne, β, Lrad, nonid_rad) = (60, 0.97, 6.0, 9.0)\n"
     ]
    },
    {
     "name": "stderr",
     "output_type": "stream",
     "text": [
      "\u001b[32mProgress: 100%|█████████████████████████████████████████| Time: 0:04:49\u001b[39m\n"
     ]
    },
    {
     "name": "stdout",
     "output_type": "stream",
     "text": [
      "289.158040 seconds (5.11 G allocations: 436.036 GiB, 20.83% gc time)\n",
      "Ne = 60\n",
      "Ne 60 & β 0.97 & Lrad 6.0 & nonid_rad 9.0 & RMSE: 1.4053879675460836\n",
      "(Ne, β, Lrad, nonid_rad) = (60, 0.97, 6.0, 10.0)\n"
     ]
    },
    {
     "name": "stderr",
     "output_type": "stream",
     "text": [
      "\u001b[32mProgress: 100%|█████████████████████████████████████████| Time: 0:05:24\u001b[39m\n"
     ]
    },
    {
     "name": "stdout",
     "output_type": "stream",
     "text": [
      "324.390597 seconds (5.68 G allocations: 482.495 GiB, 20.57% gc time)\n",
      "Ne = 60\n",
      "Ne 60 & β 0.97 & Lrad 6.0 & nonid_rad 10.0 & RMSE: 1.569232355136697\n",
      "(Ne, β, Lrad, nonid_rad) = (60, 0.97, 6.0, 11.0)\n"
     ]
    },
    {
     "name": "stderr",
     "output_type": "stream",
     "text": [
      "\u001b[32mProgress: 100%|█████████████████████████████████████████| Time: 0:06:06\u001b[39m\n"
     ]
    },
    {
     "name": "stdout",
     "output_type": "stream",
     "text": [
      "366.709879 seconds (6.30 G allocations: 555.707 GiB, 20.49% gc time)\n",
      "Ne = 60\n",
      "Ne 60 & β 0.97 & Lrad 6.0 & nonid_rad 11.0 & RMSE: 1.5650715522439254\n",
      "(Ne, β, Lrad, nonid_rad) = (60, 0.97, 6.0, 12.0)\n"
     ]
    },
    {
     "name": "stderr",
     "output_type": "stream",
     "text": [
      "\u001b[32mProgress: 100%|█████████████████████████████████████████| Time: 0:06:51\u001b[39m\n"
     ]
    },
    {
     "name": "stdout",
     "output_type": "stream",
     "text": [
      "411.978136 seconds (6.92 G allocations: 629.362 GiB, 20.56% gc time)\n",
      "Ne = 60\n",
      "Ne 60 & β 0.97 & Lrad 6.0 & nonid_rad 12.0 & RMSE: 1.5709954610660053\n",
      "(Ne, β, Lrad, nonid_rad) = (60, 0.97, 7.0, 1.0)\n"
     ]
    },
    {
     "name": "stderr",
     "output_type": "stream",
     "text": [
      "\u001b[32mProgress: 100%|█████████████████████████████████████████| Time: 0:00:56\u001b[39m\n"
     ]
    },
    {
     "name": "stdout",
     "output_type": "stream",
     "text": [
      " 56.368136 seconds (849.14 M allocations: 75.659 GiB, 18.25% gc time)\n",
      "Ne = 60\n",
      "Ne 60 & β 0.97 & Lrad 7.0 & nonid_rad 1.0 & RMSE: 1.2892594439752838\n",
      "(Ne, β, Lrad, nonid_rad) = (60, 0.97, 7.0, 2.0)\n"
     ]
    },
    {
     "name": "stderr",
     "output_type": "stream",
     "text": [
      "\u001b[32mProgress: 100%|█████████████████████████████████████████| Time: 0:01:17\u001b[39m\n"
     ]
    },
    {
     "name": "stdout",
     "output_type": "stream",
     "text": [
      " 77.801185 seconds (1.31 G allocations: 109.409 GiB, 19.69% gc time)\n",
      "Ne = 60\n",
      "Ne 60 & β 0.97 & Lrad 7.0 & nonid_rad 2.0 & RMSE: 1.2649805088412562\n",
      "(Ne, β, Lrad, nonid_rad) = (60, 0.97, 7.0, 3.0)\n"
     ]
    },
    {
     "name": "stderr",
     "output_type": "stream",
     "text": [
      "\u001b[32mProgress: 100%|█████████████████████████████████████████| Time: 0:01:42\u001b[39m\n"
     ]
    },
    {
     "name": "stdout",
     "output_type": "stream",
     "text": [
      "102.172138 seconds (1.81 G allocations: 146.372 GiB, 20.19% gc time)\n",
      "Ne = 60\n",
      "Ne 60 & β 0.97 & Lrad 7.0 & nonid_rad 3.0 & RMSE: 1.1101061468646884\n",
      "(Ne, β, Lrad, nonid_rad) = (60, 0.97, 7.0, 4.0)\n"
     ]
    },
    {
     "name": "stderr",
     "output_type": "stream",
     "text": [
      "\u001b[32mProgress: 100%|█████████████████████████████████████████| Time: 0:02:07\u001b[39m\n"
     ]
    },
    {
     "name": "stdout",
     "output_type": "stream",
     "text": [
      "127.947744 seconds (2.33 G allocations: 185.981 GiB, 19.73% gc time)\n",
      "Ne = 60\n",
      "Ne 60 & β 0.97 & Lrad 7.0 & nonid_rad 4.0 & RMSE: 1.1015379680643491\n",
      "(Ne, β, Lrad, nonid_rad) = (60, 0.97, 7.0, 5.0)\n"
     ]
    },
    {
     "name": "stderr",
     "output_type": "stream",
     "text": [
      "\u001b[32mProgress: 100%|█████████████████████████████████████████| Time: 0:02:39\u001b[39m\n"
     ]
    },
    {
     "name": "stdout",
     "output_type": "stream",
     "text": [
      "159.264490 seconds (2.89 G allocations: 233.748 GiB, 20.28% gc time)\n",
      "Ne = 60\n",
      "Ne 60 & β 0.97 & Lrad 7.0 & nonid_rad 5.0 & RMSE: 1.1919178403091018\n",
      "(Ne, β, Lrad, nonid_rad) = (60, 0.97, 7.0, 6.0)\n"
     ]
    },
    {
     "name": "stderr",
     "output_type": "stream",
     "text": [
      "\u001b[32mProgress: 100%|█████████████████████████████████████████| Time: 0:03:13\u001b[39m\n"
     ]
    },
    {
     "name": "stdout",
     "output_type": "stream",
     "text": [
      "193.141311 seconds (3.47 G allocations: 289.668 GiB, 20.95% gc time)\n",
      "Ne = 60\n",
      "Ne 60 & β 0.97 & Lrad 7.0 & nonid_rad 6.0 & RMSE: 1.2425584275872483\n",
      "(Ne, β, Lrad, nonid_rad) = (60, 0.97, 7.0, 7.0)\n"
     ]
    },
    {
     "name": "stderr",
     "output_type": "stream",
     "text": [
      "\u001b[32mProgress: 100%|█████████████████████████████████████████| Time: 0:03:47\u001b[39m\n"
     ]
    },
    {
     "name": "stdout",
     "output_type": "stream",
     "text": [
      "227.052018 seconds (4.06 G allocations: 346.028 GiB, 21.20% gc time)\n",
      "Ne = 60\n",
      "Ne 60 & β 0.97 & Lrad 7.0 & nonid_rad 7.0 & RMSE: 1.4218508331993993\n",
      "(Ne, β, Lrad, nonid_rad) = (60, 0.97, 7.0, 8.0)\n"
     ]
    },
    {
     "name": "stderr",
     "output_type": "stream",
     "text": [
      "\u001b[32mProgress: 100%|█████████████████████████████████████████| Time: 0:04:20\u001b[39m\n"
     ]
    },
    {
     "name": "stdout",
     "output_type": "stream",
     "text": [
      "260.169922 seconds (4.64 G allocations: 398.018 GiB, 20.57% gc time)\n",
      "Ne = 60\n",
      "Ne 60 & β 0.97 & Lrad 7.0 & nonid_rad 8.0 & RMSE: 1.4344949926356294\n",
      "(Ne, β, Lrad, nonid_rad) = (60, 0.97, 7.0, 9.0)\n"
     ]
    },
    {
     "name": "stderr",
     "output_type": "stream",
     "text": [
      "\u001b[32mProgress: 100%|█████████████████████████████████████████| Time: 0:04:54\u001b[39m\n"
     ]
    },
    {
     "name": "stdout",
     "output_type": "stream",
     "text": [
      "294.374409 seconds (5.23 G allocations: 445.649 GiB, 20.63% gc time)\n",
      "Ne = 60\n",
      "Ne 60 & β 0.97 & Lrad 7.0 & nonid_rad 9.0 & RMSE: 1.7544860228836539\n",
      "(Ne, β, Lrad, nonid_rad) = (60, 0.97, 7.0, 10.0)\n"
     ]
    },
    {
     "name": "stderr",
     "output_type": "stream",
     "text": [
      "\u001b[32mProgress: 100%|█████████████████████████████████████████| Time: 0:05:29\u001b[39m\n"
     ]
    },
    {
     "name": "stdout",
     "output_type": "stream",
     "text": [
      "329.523887 seconds (5.81 G allocations: 493.710 GiB, 20.44% gc time)\n",
      "Ne = 60\n",
      "Ne 60 & β 0.97 & Lrad 7.0 & nonid_rad 10.0 & RMSE: 1.8034561653699037\n",
      "(Ne, β, Lrad, nonid_rad) = (60, 0.97, 7.0, 11.0)\n"
     ]
    },
    {
     "name": "stderr",
     "output_type": "stream",
     "text": [
      "\u001b[32mProgress: 100%|█████████████████████████████████████████| Time: 0:06:15\u001b[39m\n"
     ]
    },
    {
     "name": "stdout",
     "output_type": "stream",
     "text": [
      "375.293951 seconds (6.46 G allocations: 568.525 GiB, 20.70% gc time)\n",
      "Ne = 60\n",
      "Ne 60 & β 0.97 & Lrad 7.0 & nonid_rad 11.0 & RMSE: 1.8537099038432396\n",
      "(Ne, β, Lrad, nonid_rad) = (60, 0.97, 7.0, 12.0)\n"
     ]
    },
    {
     "name": "stderr",
     "output_type": "stream",
     "text": [
      "\u001b[32mProgress: 100%|█████████████████████████████████████████| Time: 0:07:02\u001b[39m\n"
     ]
    },
    {
     "name": "stdout",
     "output_type": "stream",
     "text": [
      "422.719014 seconds (7.10 G allocations: 643.793 GiB, 20.83% gc time)\n",
      "Ne = 60\n",
      "Ne 60 & β 0.97 & Lrad 7.0 & nonid_rad 12.0 & RMSE: 1.6693398459494515\n",
      "(Ne, β, Lrad, nonid_rad) = (60, 0.97, 8.0, 1.0)\n"
     ]
    },
    {
     "name": "stderr",
     "output_type": "stream",
     "text": [
      "\u001b[32mProgress: 100%|█████████████████████████████████████████| Time: 0:00:56\u001b[39m\n"
     ]
    },
    {
     "name": "stdout",
     "output_type": "stream",
     "text": [
      " 56.608557 seconds (849.14 M allocations: 75.659 GiB, 18.56% gc time)\n",
      "Ne = 60\n",
      "Ne 60 & β 0.97 & Lrad 8.0 & nonid_rad 1.0 & RMSE: 1.2946666313513342\n",
      "(Ne, β, Lrad, nonid_rad) = (60, 0.97, 8.0, 2.0)\n"
     ]
    },
    {
     "name": "stderr",
     "output_type": "stream",
     "text": [
      "\u001b[32mProgress: 100%|█████████████████████████████████████████| Time: 0:01:17\u001b[39m\n"
     ]
    },
    {
     "name": "stdout",
     "output_type": "stream",
     "text": [
      " 77.041072 seconds (1.31 G allocations: 109.408 GiB, 19.26% gc time)\n",
      "Ne = 60\n",
      "Ne 60 & β 0.97 & Lrad 8.0 & nonid_rad 2.0 & RMSE: 1.2650144208970182\n",
      "(Ne, β, Lrad, nonid_rad) = (60, 0.97, 8.0, 3.0)\n"
     ]
    },
    {
     "name": "stderr",
     "output_type": "stream",
     "text": [
      "\u001b[32mProgress: 100%|█████████████████████████████████████████| Time: 0:01:41\u001b[39m\n"
     ]
    },
    {
     "name": "stdout",
     "output_type": "stream",
     "text": [
      "101.554421 seconds (1.81 G allocations: 146.371 GiB, 20.00% gc time)\n",
      "Ne = 60\n",
      "Ne 60 & β 0.97 & Lrad 8.0 & nonid_rad 3.0 & RMSE: 1.1180911750277098\n",
      "(Ne, β, Lrad, nonid_rad) = (60, 0.97, 8.0, 4.0)\n"
     ]
    },
    {
     "name": "stderr",
     "output_type": "stream",
     "text": [
      "\u001b[32mProgress: 100%|█████████████████████████████████████████| Time: 0:02:09\u001b[39m\n"
     ]
    },
    {
     "name": "stdout",
     "output_type": "stream",
     "text": [
      "129.460650 seconds (2.34 G allocations: 186.608 GiB, 20.23% gc time)\n",
      "Ne = 60\n",
      "Ne 60 & β 0.97 & Lrad 8.0 & nonid_rad 4.0 & RMSE: 1.1382880816914966\n",
      "(Ne, β, Lrad, nonid_rad) = (60, 0.97, 8.0, 5.0)\n"
     ]
    },
    {
     "name": "stderr",
     "output_type": "stream",
     "text": [
      "\u001b[32mProgress: 100%|█████████████████████████████████████████| Time: 0:02:38\u001b[39m\n"
     ]
    },
    {
     "name": "stdout",
     "output_type": "stream",
     "text": [
      "158.819718 seconds (2.92 G allocations: 235.629 GiB, 19.91% gc time)\n",
      "Ne = 60\n",
      "Ne 60 & β 0.97 & Lrad 8.0 & nonid_rad 5.0 & RMSE: 1.1037053515679405\n",
      "(Ne, β, Lrad, nonid_rad) = (60, 0.97, 8.0, 6.0)\n"
     ]
    },
    {
     "name": "stderr",
     "output_type": "stream",
     "text": [
      "\u001b[32mProgress: 100%|█████████████████████████████████████████| Time: 0:03:14\u001b[39m\n"
     ]
    },
    {
     "name": "stdout",
     "output_type": "stream",
     "text": [
      "194.128125 seconds (3.52 G allocations: 292.804 GiB, 20.49% gc time)\n",
      "Ne = 60\n",
      "Ne 60 & β 0.97 & Lrad 8.0 & nonid_rad 6.0 & RMSE: 1.1564079247050505\n",
      "(Ne, β, Lrad, nonid_rad) = (60, 0.97, 8.0, 7.0)\n"
     ]
    },
    {
     "name": "stderr",
     "output_type": "stream",
     "text": [
      "\u001b[32mProgress: 100%|█████████████████████████████████████████| Time: 0:03:49\u001b[39m\n"
     ]
    },
    {
     "name": "stdout",
     "output_type": "stream",
     "text": [
      "229.178410 seconds (4.13 G allocations: 350.417 GiB, 20.96% gc time)\n",
      "Ne = 60\n",
      "Ne 60 & β 0.97 & Lrad 8.0 & nonid_rad 7.0 & RMSE: 1.304751128003821\n",
      "(Ne, β, Lrad, nonid_rad) = (60, 0.97, 8.0, 8.0)\n"
     ]
    },
    {
     "name": "stderr",
     "output_type": "stream",
     "text": [
      "\u001b[32mProgress: 100%|█████████████████████████████████████████| Time: 0:04:34\u001b[39m\n"
     ]
    },
    {
     "name": "stdout",
     "output_type": "stream",
     "text": [
      "274.518542 seconds (4.73 G allocations: 403.662 GiB, 20.75% gc time)\n",
      "Ne = 60\n",
      "Ne 60 & β 0.97 & Lrad 8.0 & nonid_rad 8.0 & RMSE: 1.499069913211179\n",
      "(Ne, β, Lrad, nonid_rad) = (60, 0.97, 8.0, 9.0)\n"
     ]
    },
    {
     "name": "stderr",
     "output_type": "stream",
     "text": [
      "\u001b[32mProgress: 100%|█████████████████████████████████████████| Time: 0:05:03\u001b[39m\n"
     ]
    },
    {
     "name": "stdout",
     "output_type": "stream",
     "text": [
      "303.019827 seconds (5.33 G allocations: 452.546 GiB, 20.39% gc time)\n",
      "Ne = 60\n",
      "Ne 60 & β 0.97 & Lrad 8.0 & nonid_rad 9.0 & RMSE: 1.7561444126803618\n",
      "(Ne, β, Lrad, nonid_rad) = (60, 0.97, 8.0, 10.0)\n"
     ]
    },
    {
     "name": "stderr",
     "output_type": "stream",
     "text": [
      "\u001b[32mProgress: 100%|█████████████████████████████████████████| Time: 0:05:41\u001b[39m\n"
     ]
    },
    {
     "name": "stdout",
     "output_type": "stream",
     "text": [
      "341.450611 seconds (5.94 G allocations: 501.862 GiB, 20.55% gc time)\n",
      "Ne = 60\n",
      "Ne 60 & β 0.97 & Lrad 8.0 & nonid_rad 10.0 & RMSE: 1.8242039627700402\n",
      "(Ne, β, Lrad, nonid_rad) = (60, 0.97, 8.0, 11.0)\n"
     ]
    },
    {
     "name": "stderr",
     "output_type": "stream",
     "text": [
      "\u001b[32mProgress: 100%|█████████████████████████████████████████| Time: 0:06:26\u001b[39m\n"
     ]
    },
    {
     "name": "stdout",
     "output_type": "stream",
     "text": [
      "386.294274 seconds (6.60 G allocations: 577.934 GiB, 20.43% gc time)\n",
      "Ne = 60\n",
      "Ne 60 & β 0.97 & Lrad 8.0 & nonid_rad 11.0 & RMSE: 1.8480461932375005\n",
      "(Ne, β, Lrad, nonid_rad) = (60, 0.97, 8.0, 12.0)\n"
     ]
    },
    {
     "name": "stderr",
     "output_type": "stream",
     "text": [
      "\u001b[32mProgress: 100%|█████████████████████████████████████████| Time: 0:07:17\u001b[39m\n"
     ]
    },
    {
     "name": "stdout",
     "output_type": "stream",
     "text": [
      "437.567255 seconds (7.26 G allocations: 654.455 GiB, 20.56% gc time)\n",
      "Ne = 60\n",
      "Ne 60 & β 0.97 & Lrad 8.0 & nonid_rad 12.0 & RMSE: 1.8223826362827866\n",
      "(Ne, β, Lrad, nonid_rad) = (60, 0.97, 9.0, 1.0)\n"
     ]
    },
    {
     "name": "stderr",
     "output_type": "stream",
     "text": [
      "\u001b[32mProgress: 100%|█████████████████████████████████████████| Time: 0:00:56\u001b[39m\n"
     ]
    },
    {
     "name": "stdout",
     "output_type": "stream",
     "text": [
      " 56.997387 seconds (849.14 M allocations: 75.659 GiB, 18.35% gc time)\n",
      "Ne = 60\n",
      "Ne 60 & β 0.97 & Lrad 9.0 & nonid_rad 1.0 & RMSE: 1.2784429060972544\n",
      "(Ne, β, Lrad, nonid_rad) = (60, 0.97, 9.0, 2.0)\n"
     ]
    },
    {
     "name": "stderr",
     "output_type": "stream",
     "text": [
      "\u001b[32mProgress: 100%|█████████████████████████████████████████| Time: 0:01:18\u001b[39m\n"
     ]
    },
    {
     "name": "stdout",
     "output_type": "stream",
     "text": [
      " 78.574436 seconds (1.31 G allocations: 109.409 GiB, 19.73% gc time)\n",
      "Ne = 60\n",
      "Ne 60 & β 0.97 & Lrad 9.0 & nonid_rad 2.0 & RMSE: 1.2717501091875805\n",
      "(Ne, β, Lrad, nonid_rad) = (60, 0.97, 9.0, 3.0)\n"
     ]
    },
    {
     "name": "stderr",
     "output_type": "stream",
     "text": [
      "\u001b[32mProgress: 100%|█████████████████████████████████████████| Time: 0:01:42\u001b[39m\n"
     ]
    },
    {
     "name": "stdout",
     "output_type": "stream",
     "text": [
      "102.910343 seconds (1.81 G allocations: 146.372 GiB, 20.26% gc time)\n",
      "Ne = 60\n",
      "Ne 60 & β 0.97 & Lrad 9.0 & nonid_rad 3.0 & RMSE: 1.1094619118789246\n",
      "(Ne, β, Lrad, nonid_rad) = (60, 0.97, 9.0, 4.0)\n"
     ]
    },
    {
     "name": "stderr",
     "output_type": "stream",
     "text": [
      "\u001b[32mProgress: 100%|█████████████████████████████████████████| Time: 0:02:10\u001b[39m\n"
     ]
    },
    {
     "name": "stdout",
     "output_type": "stream",
     "text": [
      "130.678527 seconds (2.34 G allocations: 186.609 GiB, 19.84% gc time)\n",
      "Ne = 60\n",
      "Ne 60 & β 0.97 & Lrad 9.0 & nonid_rad 4.0 & RMSE: 1.1142864370393732\n",
      "(Ne, β, Lrad, nonid_rad) = (60, 0.97, 9.0, 5.0)\n"
     ]
    },
    {
     "name": "stderr",
     "output_type": "stream",
     "text": [
      "\u001b[32mProgress: 100%|█████████████████████████████████████████| Time: 0:02:51\u001b[39m\n"
     ]
    },
    {
     "name": "stdout",
     "output_type": "stream",
     "text": [
      "171.308224 seconds (2.94 G allocations: 237.284 GiB, 20.45% gc time)\n",
      "Ne = 60\n",
      "Ne 60 & β 0.97 & Lrad 9.0 & nonid_rad 5.0 & RMSE: 1.1773269519149379\n",
      "(Ne, β, Lrad, nonid_rad) = (60, 0.97, 9.0, 6.0)\n"
     ]
    },
    {
     "name": "stderr",
     "output_type": "stream",
     "text": [
      "\u001b[32mProgress: 100%|█████████████████████████████████████████| Time: 0:03:43\u001b[39m\n"
     ]
    },
    {
     "name": "stdout",
     "output_type": "stream",
     "text": [
      "223.874760 seconds (3.56 G allocations: 296.121 GiB, 21.60% gc time)\n",
      "Ne = 60\n",
      "Ne 60 & β 0.97 & Lrad 9.0 & nonid_rad 6.0 & RMSE: 1.0871639153928037\n",
      "(Ne, β, Lrad, nonid_rad) = (60, 0.97, 9.0, 7.0)\n"
     ]
    },
    {
     "name": "stderr",
     "output_type": "stream",
     "text": [
      "\u001b[32mProgress: 100%|█████████████████████████████████████████| Time: 0:04:19\u001b[39m\n"
     ]
    },
    {
     "name": "stdout",
     "output_type": "stream",
     "text": [
      "259.693993 seconds (4.18 G allocations: 355.381 GiB, 21.75% gc time)\n",
      "Ne = 60\n",
      "Ne 60 & β 0.97 & Lrad 9.0 & nonid_rad 7.0 & RMSE: 1.3590855235242685\n",
      "(Ne, β, Lrad, nonid_rad) = (60, 0.97, 9.0, 8.0)\n"
     ]
    },
    {
     "name": "stderr",
     "output_type": "stream",
     "text": [
      "\u001b[32mProgress: 100%|█████████████████████████████████████████| Time: 0:04:52\u001b[39m\n"
     ]
    },
    {
     "name": "stdout",
     "output_type": "stream",
     "text": [
      "292.469484 seconds (4.81 G allocations: 410.280 GiB, 20.64% gc time)\n",
      "Ne = 60\n",
      "Ne 60 & β 0.97 & Lrad 9.0 & nonid_rad 8.0 & RMSE: 1.5331749848304002\n",
      "(Ne, β, Lrad, nonid_rad) = (60, 0.97, 9.0, 9.0)\n"
     ]
    },
    {
     "name": "stderr",
     "output_type": "stream",
     "text": [
      "\u001b[32mProgress: 100%|█████████████████████████████████████████| Time: 0:05:31\u001b[39m\n"
     ]
    },
    {
     "name": "stdout",
     "output_type": "stream",
     "text": [
      "331.298040 seconds (5.43 G allocations: 460.819 GiB, 20.72% gc time)\n",
      "Ne = 60\n",
      "Ne 60 & β 0.97 & Lrad 9.0 & nonid_rad 9.0 & RMSE: 1.7766911097325775\n",
      "(Ne, β, Lrad, nonid_rad) = (60, 0.97, 9.0, 10.0)\n"
     ]
    },
    {
     "name": "stderr",
     "output_type": "stream",
     "text": [
      "\u001b[32mProgress: 100%|█████████████████████████████████████████| Time: 0:06:09\u001b[39m\n"
     ]
    },
    {
     "name": "stdout",
     "output_type": "stream",
     "text": [
      "369.401680 seconds (6.05 G allocations: 511.790 GiB, 20.25% gc time)\n",
      "Ne = 60\n",
      "Ne 60 & β 0.97 & Lrad 9.0 & nonid_rad 10.0 & RMSE: 1.9596955695552305\n",
      "(Ne, β, Lrad, nonid_rad) = (60, 0.97, 9.0, 11.0)\n"
     ]
    },
    {
     "name": "stderr",
     "output_type": "stream",
     "text": [
      "\u001b[32mProgress: 100%|█████████████████████████████████████████| Time: 0:07:01\u001b[39m\n"
     ]
    },
    {
     "name": "stdout",
     "output_type": "stream",
     "text": [
      "421.744699 seconds (6.74 G allocations: 589.527 GiB, 20.53% gc time)\n",
      "Ne = 60\n",
      "Ne 60 & β 0.97 & Lrad 9.0 & nonid_rad 11.0 & RMSE: 2.0127712649341047\n",
      "(Ne, β, Lrad, nonid_rad) = (60, 0.97, 9.0, 12.0)\n"
     ]
    },
    {
     "name": "stderr",
     "output_type": "stream",
     "text": [
      "\u001b[32mProgress: 100%|█████████████████████████████████████████| Time: 0:07:43\u001b[39m\n"
     ]
    },
    {
     "name": "stdout",
     "output_type": "stream",
     "text": [
      "463.685163 seconds (7.42 G allocations: 667.692 GiB, 20.43% gc time)\n",
      "Ne = 60\n",
      "Ne 60 & β 0.97 & Lrad 9.0 & nonid_rad 12.0 & RMSE: 1.9126311704642995\n",
      "(Ne, β, Lrad, nonid_rad) = (60, 0.97, 10.0, 1.0)\n"
     ]
    },
    {
     "name": "stderr",
     "output_type": "stream",
     "text": [
      "\u001b[32mProgress: 100%|█████████████████████████████████████████| Time: 0:00:58\u001b[39m\n"
     ]
    },
    {
     "name": "stdout",
     "output_type": "stream",
     "text": [
      " 58.649756 seconds (849.15 M allocations: 75.660 GiB, 18.14% gc time)\n",
      "Ne = 60\n",
      "Ne 60 & β 0.97 & Lrad 10.0 & nonid_rad 1.0 & RMSE: 1.2873053505320045\n",
      "(Ne, β, Lrad, nonid_rad) = (60, 0.97, 10.0, 2.0)\n"
     ]
    },
    {
     "name": "stderr",
     "output_type": "stream",
     "text": [
      "\u001b[32mProgress: 100%|█████████████████████████████████████████| Time: 0:01:21\u001b[39m\n"
     ]
    },
    {
     "name": "stdout",
     "output_type": "stream",
     "text": [
      " 81.180356 seconds (1.31 G allocations: 109.409 GiB, 19.57% gc time)\n",
      "Ne = 60\n",
      "Ne 60 & β 0.97 & Lrad 10.0 & nonid_rad 2.0 & RMSE: 1.2578430147150648\n",
      "(Ne, β, Lrad, nonid_rad) = (60, 0.97, 10.0, 3.0)\n"
     ]
    },
    {
     "name": "stderr",
     "output_type": "stream",
     "text": [
      "\u001b[32mProgress: 100%|█████████████████████████████████████████| Time: 0:01:46\u001b[39m\n"
     ]
    },
    {
     "name": "stdout",
     "output_type": "stream",
     "text": [
      "106.234658 seconds (1.81 G allocations: 146.373 GiB, 20.04% gc time)\n",
      "Ne = 60\n",
      "Ne 60 & β 0.97 & Lrad 10.0 & nonid_rad 3.0 & RMSE: 1.0869248963686025\n",
      "(Ne, β, Lrad, nonid_rad) = (60, 0.97, 10.0, 4.0)\n"
     ]
    },
    {
     "name": "stderr",
     "output_type": "stream",
     "text": [
      "\u001b[32mProgress: 100%|█████████████████████████████████████████| Time: 0:02:15\u001b[39m\n"
     ]
    },
    {
     "name": "stdout",
     "output_type": "stream",
     "text": [
      "135.374232 seconds (2.34 G allocations: 186.609 GiB, 19.71% gc time)\n",
      "Ne = 60\n",
      "Ne 60 & β 0.97 & Lrad 10.0 & nonid_rad 4.0 & RMSE: 1.0687759330033546\n",
      "(Ne, β, Lrad, nonid_rad) = (60, 0.97, 10.0, 5.0)\n"
     ]
    },
    {
     "name": "stderr",
     "output_type": "stream",
     "text": [
      "\u001b[32mProgress: 100%|█████████████████████████████████████████| Time: 0:02:54\u001b[39m\n"
     ]
    },
    {
     "name": "stdout",
     "output_type": "stream",
     "text": [
      "174.895651 seconds (2.98 G allocations: 245.655 GiB, 20.53% gc time)\n",
      "Ne = 60\n",
      "Ne 60 & β 0.97 & Lrad 10.0 & nonid_rad 5.0 & RMSE: 1.1140644671654734\n",
      "(Ne, β, Lrad, nonid_rad) = (60, 0.97, 10.0, 6.0)\n"
     ]
    },
    {
     "name": "stderr",
     "output_type": "stream",
     "text": [
      "\u001b[32mProgress: 100%|█████████████████████████████████████████| Time: 0:03:36\u001b[39m\n"
     ]
    },
    {
     "name": "stdout",
     "output_type": "stream",
     "text": [
      "216.462746 seconds (3.68 G allocations: 321.232 GiB, 21.71% gc time)\n",
      "Ne = 60\n",
      "Ne 60 & β 0.97 & Lrad 10.0 & nonid_rad 6.0 & RMSE: 1.241215760742136\n",
      "(Ne, β, Lrad, nonid_rad) = (60, 0.97, 10.0, 7.0)\n"
     ]
    },
    {
     "name": "stderr",
     "output_type": "stream",
     "text": [
      "\u001b[32mProgress: 100%|█████████████████████████████████████████| Time: 0:04:22\u001b[39m\n"
     ]
    },
    {
     "name": "stdout",
     "output_type": "stream",
     "text": [
      "262.792129 seconds (4.38 G allocations: 397.235 GiB, 22.02% gc time)\n",
      "Ne = 60\n",
      "Ne 60 & β 0.97 & Lrad 10.0 & nonid_rad 7.0 & RMSE: 1.336042560843702\n",
      "(Ne, β, Lrad, nonid_rad) = (60, 0.97, 10.0, 8.0)\n"
     ]
    },
    {
     "name": "stderr",
     "output_type": "stream",
     "text": [
      "\u001b[32mProgress: 100%|█████████████████████████████████████████| Time: 0:05:05\u001b[39m\n"
     ]
    },
    {
     "name": "stdout",
     "output_type": "stream",
     "text": [
      "305.520408 seconds (5.08 G allocations: 468.877 GiB, 21.46% gc time)\n",
      "Ne = 60\n",
      "Ne 60 & β 0.97 & Lrad 10.0 & nonid_rad 8.0 & RMSE: 1.472185367261461\n",
      "(Ne, β, Lrad, nonid_rad) = (60, 0.97, 10.0, 9.0)\n"
     ]
    },
    {
     "name": "stderr",
     "output_type": "stream",
     "text": [
      "\u001b[32mProgress: 100%|█████████████████████████████████████████| Time: 0:05:46\u001b[39m\n"
     ]
    },
    {
     "name": "stdout",
     "output_type": "stream",
     "text": [
      "346.613169 seconds (5.78 G allocations: 536.157 GiB, 21.40% gc time)\n",
      "Ne = 60\n",
      "Ne 60 & β 0.97 & Lrad 10.0 & nonid_rad 9.0 & RMSE: 1.8273355229617063\n",
      "(Ne, β, Lrad, nonid_rad) = (60, 0.97, 10.0, 10.0)\n"
     ]
    },
    {
     "name": "stderr",
     "output_type": "stream",
     "text": [
      "\u001b[32mProgress: 100%|█████████████████████████████████████████| Time: 0:06:32\u001b[39m\n"
     ]
    },
    {
     "name": "stdout",
     "output_type": "stream",
     "text": [
      "392.178581 seconds (6.48 G allocations: 603.871 GiB, 21.22% gc time)\n",
      "Ne = 60\n",
      "Ne 60 & β 0.97 & Lrad 10.0 & nonid_rad 10.0 & RMSE: 1.7798349884151545\n",
      "(Ne, β, Lrad, nonid_rad) = (60, 0.97, 10.0, 11.0)\n"
     ]
    },
    {
     "name": "stderr",
     "output_type": "stream",
     "text": [
      "\u001b[32mProgress: 100%|█████████████████████████████████████████| Time: 0:07:29\u001b[39m\n"
     ]
    },
    {
     "name": "stdout",
     "output_type": "stream",
     "text": [
      "449.188204 seconds (7.24 G allocations: 698.359 GiB, 21.37% gc time)\n",
      "Ne = 60\n",
      "Ne 60 & β 0.97 & Lrad 10.0 & nonid_rad 11.0 & RMSE: 1.9938886508205977\n",
      "(Ne, β, Lrad, nonid_rad) = (60, 0.97, 10.0, 12.0)\n"
     ]
    },
    {
     "name": "stderr",
     "output_type": "stream",
     "text": [
      "\u001b[32mProgress: 100%|█████████████████████████████████████████| Time: 0:08:25\u001b[39m\n"
     ]
    },
    {
     "name": "stdout",
     "output_type": "stream",
     "text": [
      "505.611114 seconds (7.99 G allocations: 793.256 GiB, 21.45% gc time)\n",
      "Ne = 60\n",
      "Ne 60 & β 0.97 & Lrad 10.0 & nonid_rad 12.0 & RMSE: 1.932122855746202\n",
      "(Ne, β, Lrad, nonid_rad) = (60, 0.98, 1.0, 1.0)\n"
     ]
    },
    {
     "name": "stderr",
     "output_type": "stream",
     "text": [
      "\u001b[32mProgress: 100%|█████████████████████████████████████████| Time: 0:00:58\u001b[39m\n"
     ]
    },
    {
     "name": "stdout",
     "output_type": "stream",
     "text": [
      " 58.318491 seconds (839.54 M allocations: 75.073 GiB, 18.26% gc time)\n",
      "Ne = 60\n",
      "Ne 60 & β 0.98 & Lrad 1.0 & nonid_rad 1.0 & RMSE: 1.2793955472925527\n",
      "(Ne, β, Lrad, nonid_rad) = (60, 0.98, 1.0, 2.0)\n"
     ]
    },
    {
     "name": "stderr",
     "output_type": "stream",
     "text": [
      "\u001b[32mProgress: 100%|█████████████████████████████████████████| Time: 0:01:17\u001b[39m\n"
     ]
    },
    {
     "name": "stdout",
     "output_type": "stream",
     "text": [
      " 77.116623 seconds (1.25 G allocations: 105.460 GiB, 19.78% gc time)\n",
      "Ne = 60\n",
      "Ne 60 & β 0.98 & Lrad 1.0 & nonid_rad 2.0 & RMSE: 1.276978000204254\n",
      "(Ne, β, Lrad, nonid_rad) = (60, 0.98, 1.0, 3.0)\n"
     ]
    },
    {
     "name": "stderr",
     "output_type": "stream",
     "text": [
      "\u001b[32mProgress: 100%|█████████████████████████████████████████| Time: 0:01:37\u001b[39m\n"
     ]
    },
    {
     "name": "stdout",
     "output_type": "stream",
     "text": [
      " 97.162835 seconds (1.66 G allocations: 136.279 GiB, 20.53% gc time)\n",
      "Ne = 60\n",
      "Ne 60 & β 0.98 & Lrad 1.0 & nonid_rad 3.0 & RMSE: 1.2572446707584208\n",
      "(Ne, β, Lrad, nonid_rad) = (60, 0.98, 1.0, 4.0)\n"
     ]
    },
    {
     "name": "stderr",
     "output_type": "stream",
     "text": [
      "\u001b[32mProgress: 100%|█████████████████████████████████████████| Time: 0:01:56\u001b[39m\n"
     ]
    },
    {
     "name": "stdout",
     "output_type": "stream",
     "text": [
      "116.503094 seconds (2.07 G allocations: 167.529 GiB, 20.19% gc time)\n",
      "Ne = 60\n",
      "Ne 60 & β 0.98 & Lrad 1.0 & nonid_rad 4.0 & RMSE: 1.2467605338221266\n",
      "(Ne, β, Lrad, nonid_rad) = (60, 0.98, 1.0, 5.0)\n"
     ]
    },
    {
     "name": "stderr",
     "output_type": "stream",
     "text": [
      "\u001b[32mProgress: 100%|█████████████████████████████████████████| Time: 0:02:21\u001b[39m\n"
     ]
    },
    {
     "name": "stdout",
     "output_type": "stream",
     "text": [
      "141.705527 seconds (2.51 G allocations: 206.938 GiB, 20.93% gc time)\n",
      "Ne = 60\n",
      "Ne 60 & β 0.98 & Lrad 1.0 & nonid_rad 5.0 & RMSE: 1.2481166080172357\n",
      "(Ne, β, Lrad, nonid_rad) = (60, 0.98, 1.0, 6.0)\n"
     ]
    },
    {
     "name": "stderr",
     "output_type": "stream",
     "text": [
      "\u001b[32mProgress: 100%|█████████████████████████████████████████| Time: 0:02:51\u001b[39m\n"
     ]
    },
    {
     "name": "stdout",
     "output_type": "stream",
     "text": [
      "171.533670 seconds (2.98 G allocations: 254.499 GiB, 21.53% gc time)\n",
      "Ne = 60\n",
      "Ne 60 & β 0.98 & Lrad 1.0 & nonid_rad 6.0 & RMSE: 1.2487566361843636\n",
      "(Ne, β, Lrad, nonid_rad) = (60, 0.98, 1.0, 7.0)\n"
     ]
    },
    {
     "name": "stderr",
     "output_type": "stream",
     "text": [
      "\u001b[32mProgress: 100%|█████████████████████████████████████████| Time: 0:03:14\u001b[39m\n"
     ]
    },
    {
     "name": "stdout",
     "output_type": "stream",
     "text": [
      "194.576197 seconds (3.45 G allocations: 302.492 GiB, 20.87% gc time)\n",
      "Ne = 60\n",
      "Ne 60 & β 0.98 & Lrad 1.0 & nonid_rad 7.0 & RMSE: 1.252133575769471\n",
      "(Ne, β, Lrad, nonid_rad) = (60, 0.98, 1.0, 8.0)\n"
     ]
    },
    {
     "name": "stderr",
     "output_type": "stream",
     "text": [
      "\u001b[32mProgress: 100%|█████████████████████████████████████████| Time: 0:03:48\u001b[39m\n"
     ]
    },
    {
     "name": "stdout",
     "output_type": "stream",
     "text": [
      "228.968441 seconds (3.92 G allocations: 346.131 GiB, 21.31% gc time)\n",
      "Ne = 60\n",
      "Ne 60 & β 0.98 & Lrad 1.0 & nonid_rad 8.0 & RMSE: 1.2278634484479476\n",
      "(Ne, β, Lrad, nonid_rad) = (60, 0.98, 1.0, 9.0)\n"
     ]
    },
    {
     "name": "stderr",
     "output_type": "stream",
     "text": [
      "\u001b[32mProgress: 100%|█████████████████████████████████████████| Time: 0:04:14\u001b[39m\n"
     ]
    },
    {
     "name": "stdout",
     "output_type": "stream",
     "text": [
      "254.822180 seconds (4.39 G allocations: 385.403 GiB, 21.29% gc time)\n",
      "Ne = 60\n",
      "Ne 60 & β 0.98 & Lrad 1.0 & nonid_rad 9.0 & RMSE: 1.2599369503484161\n",
      "(Ne, β, Lrad, nonid_rad) = (60, 0.98, 1.0, 10.0)\n"
     ]
    },
    {
     "name": "stderr",
     "output_type": "stream",
     "text": [
      "\u001b[32mProgress: 100%|█████████████████████████████████████████| Time: 0:04:39\u001b[39m\n"
     ]
    },
    {
     "name": "stdout",
     "output_type": "stream",
     "text": [
      "279.244308 seconds (4.86 G allocations: 425.105 GiB, 20.80% gc time)\n",
      "Ne = 60\n",
      "Ne 60 & β 0.98 & Lrad 1.0 & nonid_rad 10.0 & RMSE: 1.2499493664476735\n",
      "(Ne, β, Lrad, nonid_rad) = (60, 0.98, 1.0, 11.0)\n"
     ]
    },
    {
     "name": "stderr",
     "output_type": "stream",
     "text": [
      "\u001b[32mProgress: 100%|█████████████████████████████████████████| Time: 0:05:15\u001b[39m\n"
     ]
    },
    {
     "name": "stdout",
     "output_type": "stream",
     "text": [
      "315.451141 seconds (5.38 G allocations: 491.561 GiB, 21.16% gc time)\n",
      "Ne = 60\n",
      "Ne 60 & β 0.98 & Lrad 1.0 & nonid_rad 11.0 & RMSE: 1.2492945884760833\n",
      "(Ne, β, Lrad, nonid_rad) = (60, 0.98, 1.0, 12.0)\n"
     ]
    },
    {
     "name": "stderr",
     "output_type": "stream",
     "text": [
      "\u001b[32mProgress: 100%|█████████████████████████████████████████| Time: 0:05:53\u001b[39m\n"
     ]
    },
    {
     "name": "stdout",
     "output_type": "stream",
     "text": [
      "353.925489 seconds (5.91 G allocations: 558.448 GiB, 21.30% gc time)\n",
      "Ne = 60\n",
      "Ne 60 & β 0.98 & Lrad 1.0 & nonid_rad 12.0 & RMSE: 1.2407118261688228\n",
      "(Ne, β, Lrad, nonid_rad) = (60, 0.98, 2.0, 1.0)\n"
     ]
    },
    {
     "name": "stderr",
     "output_type": "stream",
     "text": [
      "\u001b[32mProgress: 100%|█████████████████████████████████████████| Time: 0:00:57\u001b[39m\n"
     ]
    },
    {
     "name": "stdout",
     "output_type": "stream",
     "text": [
      " 57.290850 seconds (849.14 M allocations: 75.659 GiB, 18.34% gc time)\n",
      "Ne = 60\n",
      "Ne 60 & β 0.98 & Lrad 2.0 & nonid_rad 1.0 & RMSE: 1.295000677062454\n",
      "(Ne, β, Lrad, nonid_rad) = (60, 0.98, 2.0, 2.0)\n"
     ]
    },
    {
     "name": "stderr",
     "output_type": "stream",
     "text": [
      "\u001b[32mProgress: 100%|█████████████████████████████████████████| Time: 0:01:15\u001b[39m\n"
     ]
    },
    {
     "name": "stdout",
     "output_type": "stream",
     "text": [
      " 75.464412 seconds (1.28 G allocations: 107.219 GiB, 19.10% gc time)\n",
      "Ne = 60\n",
      "Ne 60 & β 0.98 & Lrad 2.0 & nonid_rad 2.0 & RMSE: 1.2558561180267234\n",
      "(Ne, β, Lrad, nonid_rad) = (60, 0.98, 2.0, 3.0)\n"
     ]
    },
    {
     "name": "stderr",
     "output_type": "stream",
     "text": [
      "\u001b[32mProgress: 100%|█████████████████████████████████████████| Time: 0:01:36\u001b[39m\n"
     ]
    },
    {
     "name": "stdout",
     "output_type": "stream",
     "text": [
      " 96.040151 seconds (1.71 G allocations: 139.211 GiB, 19.90% gc time)\n",
      "Ne = 60\n",
      "Ne 60 & β 0.98 & Lrad 2.0 & nonid_rad 3.0 & RMSE: 1.1471800685595044\n",
      "(Ne, β, Lrad, nonid_rad) = (60, 0.98, 2.0, 4.0)\n"
     ]
    },
    {
     "name": "stderr",
     "output_type": "stream",
     "text": [
      "\u001b[32mProgress: 100%|█████████████████████████████████████████| Time: 0:01:57\u001b[39m\n"
     ]
    },
    {
     "name": "stdout",
     "output_type": "stream",
     "text": [
      "117.101381 seconds (2.14 G allocations: 171.635 GiB, 20.46% gc time)\n",
      "Ne = 60\n",
      "Ne 60 & β 0.98 & Lrad 2.0 & nonid_rad 4.0 & RMSE: 1.161601532171584\n",
      "(Ne, β, Lrad, nonid_rad) = (60, 0.98, 2.0, 5.0)\n"
     ]
    },
    {
     "name": "stderr",
     "output_type": "stream",
     "text": [
      "\u001b[32mProgress: 100%|█████████████████████████████████████████| Time: 0:02:24\u001b[39m\n"
     ]
    },
    {
     "name": "stdout",
     "output_type": "stream",
     "text": [
      "144.865870 seconds (2.60 G allocations: 212.217 GiB, 20.89% gc time)\n",
      "Ne = 60\n",
      "Ne 60 & β 0.98 & Lrad 2.0 & nonid_rad 5.0 & RMSE: 1.144996592643089\n",
      "(Ne, β, Lrad, nonid_rad) = (60, 0.98, 2.0, 6.0)\n"
     ]
    },
    {
     "name": "stderr",
     "output_type": "stream",
     "text": [
      "\u001b[32mProgress: 100%|█████████████████████████████████████████| Time: 0:02:58\u001b[39m\n"
     ]
    },
    {
     "name": "stdout",
     "output_type": "stream",
     "text": [
      "178.646639 seconds (3.09 G allocations: 260.951 GiB, 20.75% gc time)\n",
      "Ne = 60\n",
      "Ne 60 & β 0.98 & Lrad 2.0 & nonid_rad 6.0 & RMSE: 1.1276832151500662\n",
      "(Ne, β, Lrad, nonid_rad) = (60, 0.98, 2.0, 7.0)\n"
     ]
    },
    {
     "name": "stderr",
     "output_type": "stream",
     "text": [
      "\u001b[32mProgress: 100%|█████████████████████████████████████████| Time: 0:03:24\u001b[39m\n"
     ]
    },
    {
     "name": "stdout",
     "output_type": "stream",
     "text": [
      "204.820944 seconds (3.57 G allocations: 310.121 GiB, 21.20% gc time)\n",
      "Ne = 60\n",
      "Ne 60 & β 0.98 & Lrad 2.0 & nonid_rad 7.0 & RMSE: 1.1141212812773615\n",
      "(Ne, β, Lrad, nonid_rad) = (60, 0.98, 2.0, 8.0)\n"
     ]
    },
    {
     "name": "stderr",
     "output_type": "stream",
     "text": [
      "\u001b[32mProgress: 100%|█████████████████████████████████████████| Time: 0:04:10\u001b[39m\n"
     ]
    },
    {
     "name": "stdout",
     "output_type": "stream",
     "text": [
      "250.863159 seconds (4.06 G allocations: 354.929 GiB, 22.21% gc time)\n",
      "Ne = 60\n",
      "Ne 60 & β 0.98 & Lrad 2.0 & nonid_rad 8.0 & RMSE: 1.1393718556487011\n",
      "(Ne, β, Lrad, nonid_rad) = (60, 0.98, 2.0, 9.0)\n"
     ]
    },
    {
     "name": "stderr",
     "output_type": "stream",
     "text": [
      "\u001b[32mProgress: 100%|█████████████████████████████████████████| Time: 0:04:39\u001b[39m\n"
     ]
    },
    {
     "name": "stdout",
     "output_type": "stream",
     "text": [
      "279.963967 seconds (4.55 G allocations: 395.373 GiB, 21.73% gc time)\n",
      "Ne = 60\n",
      "Ne 60 & β 0.98 & Lrad 2.0 & nonid_rad 9.0 & RMSE: 1.1316800085194323\n",
      "(Ne, β, Lrad, nonid_rad) = (60, 0.98, 2.0, 10.0)\n"
     ]
    },
    {
     "name": "stderr",
     "output_type": "stream",
     "text": [
      "\u001b[32mProgress: 100%|█████████████████████████████████████████| Time: 0:05:08\u001b[39m\n"
     ]
    },
    {
     "name": "stdout",
     "output_type": "stream",
     "text": [
      "308.120064 seconds (5.04 G allocations: 436.249 GiB, 21.18% gc time)\n",
      "Ne = 60\n",
      "Ne 60 & β 0.98 & Lrad 2.0 & nonid_rad 10.0 & RMSE: 1.1172681850867554\n",
      "(Ne, β, Lrad, nonid_rad) = (60, 0.98, 2.0, 11.0)\n"
     ]
    },
    {
     "name": "stderr",
     "output_type": "stream",
     "text": [
      "\u001b[32mProgress: 100%|█████████████████████████████████████████| Time: 0:05:45\u001b[39m\n"
     ]
    },
    {
     "name": "stdout",
     "output_type": "stream",
     "text": [
      "345.336799 seconds (5.58 G allocations: 503.878 GiB, 21.02% gc time)\n",
      "Ne = 60\n",
      "Ne 60 & β 0.98 & Lrad 2.0 & nonid_rad 11.0 & RMSE: 1.1447925586379457\n",
      "(Ne, β, Lrad, nonid_rad) = (60, 0.98, 2.0, 12.0)\n"
     ]
    },
    {
     "name": "stderr",
     "output_type": "stream",
     "text": [
      "\u001b[32mProgress: 100%|█████████████████████████████████████████| Time: 0:06:25\u001b[39m\n"
     ]
    },
    {
     "name": "stdout",
     "output_type": "stream",
     "text": [
      "385.241620 seconds (6.13 G allocations: 571.940 GiB, 21.11% gc time)\n",
      "Ne = 60\n",
      "Ne 60 & β 0.98 & Lrad 2.0 & nonid_rad 12.0 & RMSE: 1.1425748599184942\n",
      "(Ne, β, Lrad, nonid_rad) = (60, 0.98, 3.0, 1.0)\n"
     ]
    },
    {
     "name": "stderr",
     "output_type": "stream",
     "text": [
      "\u001b[32mProgress: 100%|█████████████████████████████████████████| Time: 0:01:00\u001b[39m\n"
     ]
    },
    {
     "name": "stdout",
     "output_type": "stream",
     "text": [
      " 60.087636 seconds (849.15 M allocations: 75.660 GiB, 18.66% gc time)\n",
      "Ne = 60\n",
      "Ne 60 & β 0.98 & Lrad 3.0 & nonid_rad 1.0 & RMSE: 1.2850756185931118\n",
      "(Ne, β, Lrad, nonid_rad) = (60, 0.98, 3.0, 2.0)\n"
     ]
    },
    {
     "name": "stderr",
     "output_type": "stream",
     "text": [
      "\u001b[32mProgress: 100%|█████████████████████████████████████████| Time: 0:01:21\u001b[39m\n"
     ]
    },
    {
     "name": "stdout",
     "output_type": "stream",
     "text": [
      " 81.284846 seconds (1.30 G allocations: 108.818 GiB, 19.86% gc time)\n",
      "Ne = 60\n",
      "Ne 60 & β 0.98 & Lrad 3.0 & nonid_rad 2.0 & RMSE: 1.2633380780517818\n",
      "(Ne, β, Lrad, nonid_rad) = (60, 0.98, 3.0, 3.0)\n"
     ]
    },
    {
     "name": "stderr",
     "output_type": "stream",
     "text": [
      "\u001b[32mProgress: 100%|█████████████████████████████████████████| Time: 0:01:43\u001b[39m\n"
     ]
    },
    {
     "name": "stdout",
     "output_type": "stream",
     "text": [
      "103.222508 seconds (1.75 G allocations: 142.407 GiB, 20.04% gc time)\n",
      "Ne = 60\n",
      "Ne 60 & β 0.98 & Lrad 3.0 & nonid_rad 3.0 & RMSE: 1.1218425675186892\n",
      "(Ne, β, Lrad, nonid_rad) = (60, 0.98, 3.0, 4.0)\n"
     ]
    },
    {
     "name": "stderr",
     "output_type": "stream",
     "text": [
      "\u001b[32mProgress: 100%|█████████████████████████████████████████| Time: 0:02:07\u001b[39m\n"
     ]
    },
    {
     "name": "stdout",
     "output_type": "stream",
     "text": [
      "127.107763 seconds (2.20 G allocations: 176.427 GiB, 20.60% gc time)\n",
      "Ne = 60\n",
      "Ne 60 & β 0.98 & Lrad 3.0 & nonid_rad 4.0 & RMSE: 1.1089467860025264\n",
      "(Ne, β, Lrad, nonid_rad) = (60, 0.98, 3.0, 5.0)\n"
     ]
    },
    {
     "name": "stderr",
     "output_type": "stream",
     "text": [
      "\u001b[32mProgress: 100%|█████████████████████████████████████████| Time: 0:02:35\u001b[39m\n"
     ]
    },
    {
     "name": "stdout",
     "output_type": "stream",
     "text": [
      "155.392004 seconds (2.68 G allocations: 218.606 GiB, 20.89% gc time)\n",
      "Ne = 60\n",
      "Ne 60 & β 0.98 & Lrad 3.0 & nonid_rad 5.0 & RMSE: 1.1471807516877335\n",
      "(Ne, β, Lrad, nonid_rad) = (60, 0.98, 3.0, 6.0)\n"
     ]
    },
    {
     "name": "stderr",
     "output_type": "stream",
     "text": [
      "\u001b[32mProgress: 100%|█████████████████████████████████████████| Time: 0:03:03\u001b[39m\n"
     ]
    },
    {
     "name": "stdout",
     "output_type": "stream",
     "text": [
      "183.887781 seconds (3.18 G allocations: 268.938 GiB, 20.57% gc time)\n",
      "Ne = 60\n",
      "Ne 60 & β 0.98 & Lrad 3.0 & nonid_rad 6.0 & RMSE: 1.070196676300471\n",
      "(Ne, β, Lrad, nonid_rad) = (60, 0.98, 3.0, 7.0)\n"
     ]
    },
    {
     "name": "stderr",
     "output_type": "stream",
     "text": [
      "\u001b[32mProgress: 100%|█████████████████████████████████████████| Time: 0:03:35\u001b[39m\n"
     ]
    },
    {
     "name": "stdout",
     "output_type": "stream",
     "text": [
      "215.821906 seconds (3.69 G allocations: 319.708 GiB, 20.99% gc time)\n",
      "Ne = 60\n",
      "Ne 60 & β 0.98 & Lrad 3.0 & nonid_rad 7.0 & RMSE: 1.1492993133165141\n",
      "(Ne, β, Lrad, nonid_rad) = (60, 0.98, 3.0, 8.0)\n"
     ]
    },
    {
     "name": "stderr",
     "output_type": "stream",
     "text": [
      "\u001b[32mProgress: 100%|█████████████████████████████████████████| Time: 0:04:07\u001b[39m\n"
     ]
    },
    {
     "name": "stdout",
     "output_type": "stream",
     "text": [
      "247.907298 seconds (4.20 G allocations: 366.111 GiB, 21.26% gc time)\n",
      "Ne = 60\n",
      "Ne 60 & β 0.98 & Lrad 3.0 & nonid_rad 8.0 & RMSE: 1.1424944356444724\n",
      "(Ne, β, Lrad, nonid_rad) = (60, 0.98, 3.0, 9.0)\n"
     ]
    },
    {
     "name": "stderr",
     "output_type": "stream",
     "text": [
      "\u001b[32mProgress: 100%|█████████████████████████████████████████| Time: 0:04:39\u001b[39m\n"
     ]
    },
    {
     "name": "stdout",
     "output_type": "stream",
     "text": [
      "279.610037 seconds (4.71 G allocations: 408.152 GiB, 20.99% gc time)\n",
      "Ne = 60\n",
      "Ne 60 & β 0.98 & Lrad 3.0 & nonid_rad 9.0 & RMSE: 1.1359038388116787\n",
      "(Ne, β, Lrad, nonid_rad) = (60, 0.98, 3.0, 10.0)\n"
     ]
    },
    {
     "name": "stderr",
     "output_type": "stream",
     "text": [
      "\u001b[32mProgress: 100%|█████████████████████████████████████████| Time: 0:05:10\u001b[39m\n"
     ]
    },
    {
     "name": "stdout",
     "output_type": "stream",
     "text": [
      "310.284695 seconds (5.21 G allocations: 450.626 GiB, 20.88% gc time)\n",
      "Ne = 60\n",
      "Ne 60 & β 0.98 & Lrad 3.0 & nonid_rad 10.0 & RMSE: 1.0436560498572267\n",
      "(Ne, β, Lrad, nonid_rad) = (60, 0.98, 3.0, 11.0)\n"
     ]
    },
    {
     "name": "stderr",
     "output_type": "stream",
     "text": [
      "\u001b[32mProgress: 100%|█████████████████████████████████████████| Time: 0:05:50\u001b[39m\n"
     ]
    },
    {
     "name": "stdout",
     "output_type": "stream",
     "text": [
      "350.393649 seconds (5.78 G allocations: 519.852 GiB, 21.03% gc time)\n",
      "Ne = 60\n",
      "Ne 60 & β 0.98 & Lrad 3.0 & nonid_rad 11.0 & RMSE: 1.1475451873695046\n",
      "(Ne, β, Lrad, nonid_rad) = (60, 0.98, 3.0, 12.0)\n"
     ]
    },
    {
     "name": "stderr",
     "output_type": "stream",
     "text": [
      "\u001b[32mProgress: 100%|█████████████████████████████████████████| Time: 0:06:31\u001b[39m\n"
     ]
    },
    {
     "name": "stdout",
     "output_type": "stream",
     "text": [
      "391.759125 seconds (6.34 G allocations: 589.511 GiB, 20.99% gc time)\n",
      "Ne = 60\n",
      "Ne 60 & β 0.98 & Lrad 3.0 & nonid_rad 12.0 & RMSE: 1.1003616685552784\n",
      "(Ne, β, Lrad, nonid_rad) = (60, 0.98, 4.0, 1.0)\n"
     ]
    },
    {
     "name": "stderr",
     "output_type": "stream",
     "text": [
      "\u001b[32mProgress: 100%|█████████████████████████████████████████| Time: 0:00:59\u001b[39m\n"
     ]
    },
    {
     "name": "stdout",
     "output_type": "stream",
     "text": [
      " 59.016148 seconds (849.15 M allocations: 75.660 GiB, 18.30% gc time)\n",
      "Ne = 60\n",
      "Ne 60 & β 0.98 & Lrad 4.0 & nonid_rad 1.0 & RMSE: 1.2735959026267938\n",
      "(Ne, β, Lrad, nonid_rad) = (60, 0.98, 4.0, 2.0)\n"
     ]
    },
    {
     "name": "stderr",
     "output_type": "stream",
     "text": [
      "\u001b[32mProgress: 100%|█████████████████████████████████████████| Time: 0:01:20\u001b[39m\n"
     ]
    },
    {
     "name": "stdout",
     "output_type": "stream",
     "text": [
      " 80.434839 seconds (1.31 G allocations: 109.409 GiB, 19.31% gc time)\n",
      "Ne = 60\n",
      "Ne 60 & β 0.98 & Lrad 4.0 & nonid_rad 2.0 & RMSE: 1.2629851007319524\n",
      "(Ne, β, Lrad, nonid_rad) = (60, 0.98, 4.0, 3.0)\n"
     ]
    },
    {
     "name": "stderr",
     "output_type": "stream",
     "text": [
      "\u001b[32mProgress: 100%|█████████████████████████████████████████| Time: 0:01:44\u001b[39m\n"
     ]
    },
    {
     "name": "stdout",
     "output_type": "stream",
     "text": [
      "104.865664 seconds (1.78 G allocations: 144.181 GiB, 20.43% gc time)\n",
      "Ne = 60\n",
      "Ne 60 & β 0.98 & Lrad 4.0 & nonid_rad 3.0 & RMSE: 1.1171097054619559\n",
      "(Ne, β, Lrad, nonid_rad) = (60, 0.98, 4.0, 4.0)\n"
     ]
    },
    {
     "name": "stderr",
     "output_type": "stream",
     "text": [
      "\u001b[32mProgress: 100%|█████████████████████████████████████████| Time: 0:02:10\u001b[39m\n"
     ]
    },
    {
     "name": "stdout",
     "output_type": "stream",
     "text": [
      "130.617320 seconds (2.25 G allocations: 179.384 GiB, 20.47% gc time)\n",
      "Ne = 60\n",
      "Ne 60 & β 0.98 & Lrad 4.0 & nonid_rad 4.0 & RMSE: 1.1099292018247984\n",
      "(Ne, β, Lrad, nonid_rad) = (60, 0.98, 4.0, 5.0)\n"
     ]
    },
    {
     "name": "stderr",
     "output_type": "stream",
     "text": [
      "\u001b[32mProgress: 100%|█████████████████████████████████████████| Time: 0:02:34\u001b[39m\n"
     ]
    },
    {
     "name": "stdout",
     "output_type": "stream",
     "text": [
      "154.789477 seconds (2.74 G allocations: 222.745 GiB, 20.06% gc time)\n",
      "Ne = 60\n",
      "Ne 60 & β 0.98 & Lrad 4.0 & nonid_rad 5.0 & RMSE: 1.1460343498951324\n",
      "(Ne, β, Lrad, nonid_rad) = (60, 0.98, 4.0, 6.0)\n"
     ]
    },
    {
     "name": "stderr",
     "output_type": "stream",
     "text": [
      "\u001b[32mProgress: 100%|█████████████████████████████████████████| Time: 0:03:11\u001b[39m\n"
     ]
    },
    {
     "name": "stdout",
     "output_type": "stream",
     "text": [
      "191.069468 seconds (3.27 G allocations: 274.260 GiB, 20.78% gc time)\n",
      "Ne = 60\n",
      "Ne 60 & β 0.98 & Lrad 4.0 & nonid_rad 6.0 & RMSE: 1.1120018654526125\n",
      "(Ne, β, Lrad, nonid_rad) = (60, 0.98, 4.0, 7.0)\n"
     ]
    },
    {
     "name": "stderr",
     "output_type": "stream",
     "text": [
      "\u001b[32mProgress: 100%|█████████████████████████████████████████| Time: 0:03:43\u001b[39m\n"
     ]
    },
    {
     "name": "stdout",
     "output_type": "stream",
     "text": [
      "223.027042 seconds (3.80 G allocations: 326.213 GiB, 21.37% gc time)\n",
      "Ne = 60\n",
      "Ne 60 & β 0.98 & Lrad 4.0 & nonid_rad 7.0 & RMSE: 1.1102555239853205\n",
      "(Ne, β, Lrad, nonid_rad) = (60, 0.98, 4.0, 8.0)\n"
     ]
    },
    {
     "name": "stderr",
     "output_type": "stream",
     "text": [
      "\u001b[32mProgress: 100%|█████████████████████████████████████████| Time: 0:04:14\u001b[39m\n"
     ]
    },
    {
     "name": "stdout",
     "output_type": "stream",
     "text": [
      "254.328227 seconds (4.32 G allocations: 373.798 GiB, 21.35% gc time)\n",
      "Ne = 60\n",
      "Ne 60 & β 0.98 & Lrad 4.0 & nonid_rad 8.0 & RMSE: 1.1585237999600508\n",
      "(Ne, β, Lrad, nonid_rad) = (60, 0.98, 4.0, 9.0)\n"
     ]
    },
    {
     "name": "stderr",
     "output_type": "stream",
     "text": [
      "\u001b[32mProgress: 100%|█████████████████████████████████████████| Time: 0:04:43\u001b[39m\n"
     ]
    },
    {
     "name": "stdout",
     "output_type": "stream",
     "text": [
      "283.146743 seconds (4.85 G allocations: 417.022 GiB, 20.84% gc time)\n",
      "Ne = 60\n",
      "Ne 60 & β 0.98 & Lrad 4.0 & nonid_rad 9.0 & RMSE: 1.2408086055886516\n",
      "(Ne, β, Lrad, nonid_rad) = (60, 0.98, 4.0, 10.0)\n"
     ]
    },
    {
     "name": "stderr",
     "output_type": "stream",
     "text": [
      "\u001b[32mProgress: 100%|█████████████████████████████████████████| Time: 0:05:24\u001b[39m\n"
     ]
    },
    {
     "name": "stdout",
     "output_type": "stream",
     "text": [
      "324.244421 seconds (5.38 G allocations: 460.677 GiB, 20.86% gc time)\n",
      "Ne = 60\n",
      "Ne 60 & β 0.98 & Lrad 4.0 & nonid_rad 10.0 & RMSE: 1.22405409893783\n",
      "(Ne, β, Lrad, nonid_rad) = (60, 0.98, 4.0, 11.0)\n"
     ]
    },
    {
     "name": "stderr",
     "output_type": "stream",
     "text": [
      "\u001b[32mProgress: 100%|█████████████████████████████████████████| Time: 0:05:59\u001b[39m\n"
     ]
    },
    {
     "name": "stdout",
     "output_type": "stream",
     "text": [
      "359.290085 seconds (5.96 G allocations: 531.086 GiB, 20.79% gc time)\n",
      "Ne = 60\n",
      "Ne 60 & β 0.98 & Lrad 4.0 & nonid_rad 11.0 & RMSE: 1.2322113794205412\n",
      "(Ne, β, Lrad, nonid_rad) = (60, 0.98, 4.0, 12.0)\n"
     ]
    },
    {
     "name": "stderr",
     "output_type": "stream",
     "text": [
      "\u001b[32mProgress: 100%|█████████████████████████████████████████| Time: 0:06:53\u001b[39m\n"
     ]
    },
    {
     "name": "stdout",
     "output_type": "stream",
     "text": [
      "413.165070 seconds (6.55 G allocations: 601.934 GiB, 20.80% gc time)\n",
      "Ne = 60\n",
      "Ne 60 & β 0.98 & Lrad 4.0 & nonid_rad 12.0 & RMSE: 1.1958141445973096\n",
      "(Ne, β, Lrad, nonid_rad) = (60, 0.98, 5.0, 1.0)\n"
     ]
    },
    {
     "name": "stderr",
     "output_type": "stream",
     "text": [
      "\u001b[32mProgress: 100%|█████████████████████████████████████████| Time: 0:00:58\u001b[39m\n"
     ]
    },
    {
     "name": "stdout",
     "output_type": "stream",
     "text": [
      " 58.822633 seconds (849.15 M allocations: 75.660 GiB, 18.12% gc time)\n",
      "Ne = 60\n",
      "Ne 60 & β 0.98 & Lrad 5.0 & nonid_rad 1.0 & RMSE: 1.2909925366838992\n",
      "(Ne, β, Lrad, nonid_rad) = (60, 0.98, 5.0, 2.0)\n"
     ]
    },
    {
     "name": "stderr",
     "output_type": "stream",
     "text": [
      "\u001b[32mProgress: 100%|█████████████████████████████████████████| Time: 0:01:21\u001b[39m\n"
     ]
    },
    {
     "name": "stdout",
     "output_type": "stream",
     "text": [
      " 81.446874 seconds (1.31 G allocations: 109.409 GiB, 19.05% gc time)\n",
      "Ne = 60\n",
      "Ne 60 & β 0.98 & Lrad 5.0 & nonid_rad 2.0 & RMSE: 1.2627625701165757\n",
      "(Ne, β, Lrad, nonid_rad) = (60, 0.98, 5.0, 3.0)\n"
     ]
    },
    {
     "name": "stderr",
     "output_type": "stream",
     "text": [
      "\u001b[32mProgress: 100%|█████████████████████████████████████████| Time: 0:01:46\u001b[39m\n"
     ]
    },
    {
     "name": "stdout",
     "output_type": "stream",
     "text": [
      "106.859631 seconds (1.80 G allocations: 145.760 GiB, 19.97% gc time)\n",
      "Ne = 60\n",
      "Ne 60 & β 0.98 & Lrad 5.0 & nonid_rad 3.0 & RMSE: 1.1224447495577814\n",
      "(Ne, β, Lrad, nonid_rad) = (60, 0.98, 5.0, 4.0)\n"
     ]
    },
    {
     "name": "stderr",
     "output_type": "stream",
     "text": [
      "\u001b[32mProgress: 100%|█████████████████████████████████████████| Time: 0:02:11\u001b[39m\n"
     ]
    },
    {
     "name": "stdout",
     "output_type": "stream",
     "text": [
      "131.779308 seconds (2.29 G allocations: 182.541 GiB, 20.25% gc time)\n",
      "Ne = 60\n",
      "Ne 60 & β 0.98 & Lrad 5.0 & nonid_rad 4.0 & RMSE: 1.1407455321540887\n",
      "(Ne, β, Lrad, nonid_rad) = (60, 0.98, 5.0, 5.0)\n"
     ]
    },
    {
     "name": "stderr",
     "output_type": "stream",
     "text": [
      "\u001b[32mProgress: 100%|█████████████████████████████████████████| Time: 0:02:42\u001b[39m\n"
     ]
    },
    {
     "name": "stdout",
     "output_type": "stream",
     "text": [
      "162.102551 seconds (2.80 G allocations: 227.480 GiB, 20.75% gc time)\n",
      "Ne = 60\n",
      "Ne 60 & β 0.98 & Lrad 5.0 & nonid_rad 5.0 & RMSE: 1.185433030108599\n",
      "(Ne, β, Lrad, nonid_rad) = (60, 0.98, 5.0, 6.0)\n"
     ]
    },
    {
     "name": "stderr",
     "output_type": "stream",
     "text": [
      "\u001b[32mProgress: 100%|█████████████████████████████████████████| Time: 0:03:17\u001b[39m\n"
     ]
    },
    {
     "name": "stdout",
     "output_type": "stream",
     "text": [
      "197.852670 seconds (3.35 G allocations: 280.574 GiB, 20.84% gc time)\n",
      "Ne = 60\n",
      "Ne 60 & β 0.98 & Lrad 5.0 & nonid_rad 6.0 & RMSE: 1.1502312173949407\n",
      "(Ne, β, Lrad, nonid_rad) = (60, 0.98, 5.0, 7.0)\n"
     ]
    },
    {
     "name": "stderr",
     "output_type": "stream",
     "text": [
      "\u001b[32mProgress: 100%|█████████████████████████████████████████| Time: 0:03:49\u001b[39m\n"
     ]
    },
    {
     "name": "stdout",
     "output_type": "stream",
     "text": [
      "229.305581 seconds (3.89 G allocations: 334.104 GiB, 20.90% gc time)\n",
      "Ne = 60\n",
      "Ne 60 & β 0.98 & Lrad 5.0 & nonid_rad 7.0 & RMSE: 1.2212572822582053\n",
      "(Ne, β, Lrad, nonid_rad) = (60, 0.98, 5.0, 8.0)\n"
     ]
    },
    {
     "name": "stderr",
     "output_type": "stream",
     "text": [
      "\u001b[32mProgress: 100%|█████████████████████████████████████████| Time: 0:04:21\u001b[39m\n"
     ]
    },
    {
     "name": "stdout",
     "output_type": "stream",
     "text": [
      "261.066367 seconds (4.44 G allocations: 383.268 GiB, 21.12% gc time)\n",
      "Ne = 60\n",
      "Ne 60 & β 0.98 & Lrad 5.0 & nonid_rad 8.0 & RMSE: 1.3764874974207826\n",
      "(Ne, β, Lrad, nonid_rad) = (60, 0.98, 5.0, 9.0)\n"
     ]
    },
    {
     "name": "stderr",
     "output_type": "stream",
     "text": [
      "\u001b[32mProgress: 100%|█████████████████████████████████████████| Time: 0:05:06\u001b[39m\n"
     ]
    },
    {
     "name": "stdout",
     "output_type": "stream",
     "text": [
      "306.036688 seconds (4.99 G allocations: 428.081 GiB, 21.24% gc time)\n",
      "Ne = 60\n",
      "Ne 60 & β 0.98 & Lrad 5.0 & nonid_rad 9.0 & RMSE: 1.299440684226556\n",
      "(Ne, β, Lrad, nonid_rad) = (60, 0.98, 5.0, 10.0)\n"
     ]
    },
    {
     "name": "stderr",
     "output_type": "stream",
     "text": [
      "\u001b[32mProgress: 100%|█████████████████████████████████████████| Time: 0:05:36\u001b[39m\n"
     ]
    },
    {
     "name": "stdout",
     "output_type": "stream",
     "text": [
      "336.167704 seconds (5.53 G allocations: 473.304 GiB, 21.16% gc time)\n",
      "Ne = 60\n",
      "Ne 60 & β 0.98 & Lrad 5.0 & nonid_rad 10.0 & RMSE: 1.2786222949243184\n",
      "(Ne, β, Lrad, nonid_rad) = (60, 0.98, 5.0, 11.0)\n"
     ]
    },
    {
     "name": "stderr",
     "output_type": "stream",
     "text": [
      "\u001b[32mProgress: 100%|█████████████████████████████████████████| Time: 0:06:24\u001b[39m\n"
     ]
    },
    {
     "name": "stdout",
     "output_type": "stream",
     "text": [
      "384.474862 seconds (6.14 G allocations: 545.293 GiB, 21.07% gc time)\n",
      "Ne = 60\n",
      "Ne 60 & β 0.98 & Lrad 5.0 & nonid_rad 11.0 & RMSE: 1.4588169331266863\n",
      "(Ne, β, Lrad, nonid_rad) = (60, 0.98, 5.0, 12.0)\n"
     ]
    },
    {
     "name": "stderr",
     "output_type": "stream",
     "text": [
      "\u001b[32mProgress: 100%|█████████████████████████████████████████| Time: 0:07:12\u001b[39m\n"
     ]
    },
    {
     "name": "stdout",
     "output_type": "stream",
     "text": [
      "432.654603 seconds (6.74 G allocations: 617.734 GiB, 21.13% gc time)\n",
      "Ne = 60\n",
      "Ne 60 & β 0.98 & Lrad 5.0 & nonid_rad 12.0 & RMSE: 1.49622914512849\n",
      "(Ne, β, Lrad, nonid_rad) = (60, 0.98, 6.0, 1.0)\n"
     ]
    },
    {
     "name": "stderr",
     "output_type": "stream",
     "text": [
      "\u001b[32mProgress: 100%|█████████████████████████████████████████| Time: 0:00:57\u001b[39m\n"
     ]
    },
    {
     "name": "stdout",
     "output_type": "stream",
     "text": [
      " 57.831101 seconds (849.14 M allocations: 75.659 GiB, 18.31% gc time)\n",
      "Ne = 60\n",
      "Ne 60 & β 0.98 & Lrad 6.0 & nonid_rad 1.0 & RMSE: 1.2689446383653804\n",
      "(Ne, β, Lrad, nonid_rad) = (60, 0.98, 6.0, 2.0)\n"
     ]
    },
    {
     "name": "stderr",
     "output_type": "stream",
     "text": [
      "\u001b[32mProgress: 100%|█████████████████████████████████████████| Time: 0:01:18\u001b[39m\n"
     ]
    },
    {
     "name": "stdout",
     "output_type": "stream",
     "text": [
      " 78.222640 seconds (1.31 G allocations: 109.409 GiB, 19.69% gc time)\n",
      "Ne = 60\n",
      "Ne 60 & β 0.98 & Lrad 6.0 & nonid_rad 2.0 & RMSE: 1.2656815235733134\n",
      "(Ne, β, Lrad, nonid_rad) = (60, 0.98, 6.0, 3.0)\n"
     ]
    },
    {
     "name": "stderr",
     "output_type": "stream",
     "text": [
      "\u001b[32mProgress: 100%|█████████████████████████████████████████| Time: 0:01:42\u001b[39m\n"
     ]
    },
    {
     "name": "stdout",
     "output_type": "stream",
     "text": [
      "102.490233 seconds (1.81 G allocations: 146.372 GiB, 20.25% gc time)\n",
      "Ne = 60\n",
      "Ne 60 & β 0.98 & Lrad 6.0 & nonid_rad 3.0 & RMSE: 1.102428710408112\n",
      "(Ne, β, Lrad, nonid_rad) = (60, 0.98, 6.0, 4.0)\n"
     ]
    },
    {
     "name": "stderr",
     "output_type": "stream",
     "text": [
      "\u001b[32mProgress: 100%|█████████████████████████████████████████| Time: 0:02:06\u001b[39m\n"
     ]
    },
    {
     "name": "stdout",
     "output_type": "stream",
     "text": [
      "126.834892 seconds (2.31 G allocations: 184.378 GiB, 19.83% gc time)\n",
      "Ne = 60\n",
      "Ne 60 & β 0.98 & Lrad 6.0 & nonid_rad 4.0 & RMSE: 1.12931169481345\n",
      "(Ne, β, Lrad, nonid_rad) = (60, 0.98, 6.0, 5.0)\n"
     ]
    },
    {
     "name": "stderr",
     "output_type": "stream",
     "text": [
      "\u001b[32mProgress: 100%|█████████████████████████████████████████| Time: 0:02:36\u001b[39m\n"
     ]
    },
    {
     "name": "stdout",
     "output_type": "stream",
     "text": [
      "156.562762 seconds (2.85 G allocations: 230.544 GiB, 20.35% gc time)\n",
      "Ne = 60\n",
      "Ne 60 & β 0.98 & Lrad 6.0 & nonid_rad 5.0 & RMSE: 1.1768595221693214\n",
      "(Ne, β, Lrad, nonid_rad) = (60, 0.98, 6.0, 6.0)\n"
     ]
    },
    {
     "name": "stderr",
     "output_type": "stream",
     "text": [
      "\u001b[32mProgress: 100%|█████████████████████████████████████████| Time: 0:03:09\u001b[39m\n"
     ]
    },
    {
     "name": "stdout",
     "output_type": "stream",
     "text": [
      "189.053552 seconds (3.42 G allocations: 284.862 GiB, 20.89% gc time)\n",
      "Ne = 60\n",
      "Ne 60 & β 0.98 & Lrad 6.0 & nonid_rad 6.0 & RMSE: 1.227663037206171\n",
      "(Ne, β, Lrad, nonid_rad) = (60, 0.98, 6.0, 7.0)\n"
     ]
    },
    {
     "name": "stderr",
     "output_type": "stream",
     "text": [
      "\u001b[32mProgress: 100%|█████████████████████████████████████████| Time: 0:03:42\u001b[39m\n"
     ]
    },
    {
     "name": "stdout",
     "output_type": "stream",
     "text": [
      "222.980302 seconds (3.98 G allocations: 339.619 GiB, 21.27% gc time)\n",
      "Ne = 60\n",
      "Ne 60 & β 0.98 & Lrad 6.0 & nonid_rad 7.0 & RMSE: 1.3007046149121457\n",
      "(Ne, β, Lrad, nonid_rad) = (60, 0.98, 6.0, 8.0)\n"
     ]
    },
    {
     "name": "stderr",
     "output_type": "stream",
     "text": [
      "\u001b[32mProgress: 100%|█████████████████████████████████████████| Time: 0:04:13\u001b[39m\n"
     ]
    },
    {
     "name": "stdout",
     "output_type": "stream",
     "text": [
      "253.735954 seconds (4.55 G allocations: 390.008 GiB, 20.61% gc time)\n",
      "Ne = 60\n",
      "Ne 60 & β 0.98 & Lrad 6.0 & nonid_rad 8.0 & RMSE: 1.4547786336306705\n",
      "(Ne, β, Lrad, nonid_rad) = (60, 0.98, 6.0, 9.0)\n"
     ]
    },
    {
     "name": "stderr",
     "output_type": "stream",
     "text": [
      "\u001b[32mProgress: 100%|█████████████████████████████████████████| Time: 0:04:48\u001b[39m\n"
     ]
    },
    {
     "name": "stdout",
     "output_type": "stream",
     "text": [
      "288.648377 seconds (5.11 G allocations: 436.036 GiB, 20.92% gc time)\n",
      "Ne = 60\n",
      "Ne 60 & β 0.98 & Lrad 6.0 & nonid_rad 9.0 & RMSE: 1.5617511489617695\n",
      "(Ne, β, Lrad, nonid_rad) = (60, 0.98, 6.0, 10.0)\n"
     ]
    },
    {
     "name": "stderr",
     "output_type": "stream",
     "text": [
      "\u001b[32mProgress: 100%|█████████████████████████████████████████| Time: 0:05:22\u001b[39m\n"
     ]
    },
    {
     "name": "stdout",
     "output_type": "stream",
     "text": [
      "322.677166 seconds (5.68 G allocations: 482.495 GiB, 20.63% gc time)\n",
      "Ne = 60\n",
      "Ne 60 & β 0.98 & Lrad 6.0 & nonid_rad 10.0 & RMSE: 1.4060276590423224\n",
      "(Ne, β, Lrad, nonid_rad) = (60, 0.98, 6.0, 11.0)\n"
     ]
    },
    {
     "name": "stderr",
     "output_type": "stream",
     "text": [
      "\u001b[32mProgress: 100%|█████████████████████████████████████████| Time: 0:06:04\u001b[39m\n"
     ]
    },
    {
     "name": "stdout",
     "output_type": "stream",
     "text": [
      "364.652283 seconds (6.30 G allocations: 555.707 GiB, 20.58% gc time)\n",
      "Ne = 60\n",
      "Ne 60 & β 0.98 & Lrad 6.0 & nonid_rad 11.0 & RMSE: 1.5482796846186753\n",
      "(Ne, β, Lrad, nonid_rad) = (60, 0.98, 6.0, 12.0)\n"
     ]
    },
    {
     "name": "stderr",
     "output_type": "stream",
     "text": [
      "\u001b[32mProgress: 100%|█████████████████████████████████████████| Time: 0:06:50\u001b[39m\n"
     ]
    },
    {
     "name": "stdout",
     "output_type": "stream",
     "text": [
      "410.425331 seconds (6.92 G allocations: 629.362 GiB, 20.63% gc time)\n",
      "Ne = 60\n",
      "Ne 60 & β 0.98 & Lrad 6.0 & nonid_rad 12.0 & RMSE: 1.562707863908657\n",
      "(Ne, β, Lrad, nonid_rad) = (60, 0.98, 7.0, 1.0)\n"
     ]
    },
    {
     "name": "stderr",
     "output_type": "stream",
     "text": [
      "\u001b[32mProgress: 100%|█████████████████████████████████████████| Time: 0:00:56\u001b[39m\n"
     ]
    },
    {
     "name": "stdout",
     "output_type": "stream",
     "text": [
      " 56.479998 seconds (849.14 M allocations: 75.659 GiB, 18.46% gc time)\n",
      "Ne = 60\n",
      "Ne 60 & β 0.98 & Lrad 7.0 & nonid_rad 1.0 & RMSE: 1.281611092347595\n",
      "(Ne, β, Lrad, nonid_rad) = (60, 0.98, 7.0, 2.0)\n"
     ]
    },
    {
     "name": "stderr",
     "output_type": "stream",
     "text": [
      "\u001b[32mProgress: 100%|█████████████████████████████████████████| Time: 0:01:17\u001b[39m\n"
     ]
    },
    {
     "name": "stdout",
     "output_type": "stream",
     "text": [
      " 77.942611 seconds (1.31 G allocations: 109.409 GiB, 19.84% gc time)\n",
      "Ne = 60\n",
      "Ne 60 & β 0.98 & Lrad 7.0 & nonid_rad 2.0 & RMSE: 1.2761430891308778\n",
      "(Ne, β, Lrad, nonid_rad) = (60, 0.98, 7.0, 3.0)\n"
     ]
    },
    {
     "name": "stderr",
     "output_type": "stream",
     "text": [
      "\u001b[32mProgress: 100%|█████████████████████████████████████████| Time: 0:01:42\u001b[39m\n"
     ]
    },
    {
     "name": "stdout",
     "output_type": "stream",
     "text": [
      "102.196388 seconds (1.81 G allocations: 146.372 GiB, 20.34% gc time)\n",
      "Ne = 60\n",
      "Ne 60 & β 0.98 & Lrad 7.0 & nonid_rad 3.0 & RMSE: 1.1266631067196904\n",
      "(Ne, β, Lrad, nonid_rad) = (60, 0.98, 7.0, 4.0)\n"
     ]
    },
    {
     "name": "stderr",
     "output_type": "stream",
     "text": [
      "\u001b[32mProgress: 100%|█████████████████████████████████████████| Time: 0:02:08\u001b[39m\n"
     ]
    },
    {
     "name": "stdout",
     "output_type": "stream",
     "text": [
      "128.141661 seconds (2.33 G allocations: 185.981 GiB, 19.97% gc time)\n",
      "Ne = 60\n",
      "Ne 60 & β 0.98 & Lrad 7.0 & nonid_rad 4.0 & RMSE: 1.1358682742594797\n",
      "(Ne, β, Lrad, nonid_rad) = (60, 0.98, 7.0, 5.0)\n"
     ]
    },
    {
     "name": "stderr",
     "output_type": "stream",
     "text": [
      "\u001b[32mProgress: 100%|█████████████████████████████████████████| Time: 0:02:39\u001b[39m\n"
     ]
    },
    {
     "name": "stdout",
     "output_type": "stream",
     "text": [
      "159.212964 seconds (2.89 G allocations: 233.748 GiB, 20.57% gc time)\n",
      "Ne = 60\n",
      "Ne 60 & β 0.98 & Lrad 7.0 & nonid_rad 5.0 & RMSE: 1.1307771564137514\n",
      "(Ne, β, Lrad, nonid_rad) = (60, 0.98, 7.0, 6.0)\n"
     ]
    },
    {
     "name": "stderr",
     "output_type": "stream",
     "text": [
      "\u001b[32mProgress: 100%|█████████████████████████████████████████| Time: 0:03:13\u001b[39m\n"
     ]
    },
    {
     "name": "stdout",
     "output_type": "stream",
     "text": [
      "193.836582 seconds (3.47 G allocations: 289.668 GiB, 20.98% gc time)\n",
      "Ne = 60\n",
      "Ne 60 & β 0.98 & Lrad 7.0 & nonid_rad 6.0 & RMSE: 1.244730581883944\n",
      "(Ne, β, Lrad, nonid_rad) = (60, 0.98, 7.0, 7.0)\n"
     ]
    },
    {
     "name": "stderr",
     "output_type": "stream",
     "text": [
      "\u001b[32mProgress: 100%|█████████████████████████████████████████| Time: 0:03:44\u001b[39m\n"
     ]
    },
    {
     "name": "stdout",
     "output_type": "stream",
     "text": [
      "224.518374 seconds (4.06 G allocations: 346.028 GiB, 20.50% gc time)\n",
      "Ne = 60\n",
      "Ne 60 & β 0.98 & Lrad 7.0 & nonid_rad 7.0 & RMSE: 1.3611326708909692\n",
      "(Ne, β, Lrad, nonid_rad) = (60, 0.98, 7.0, 8.0)\n"
     ]
    },
    {
     "name": "stderr",
     "output_type": "stream",
     "text": [
      "\u001b[32mProgress: 100%|█████████████████████████████████████████| Time: 0:04:19\u001b[39m\n"
     ]
    },
    {
     "name": "stdout",
     "output_type": "stream",
     "text": [
      "259.144823 seconds (4.64 G allocations: 398.018 GiB, 20.51% gc time)\n",
      "Ne = 60\n",
      "Ne 60 & β 0.98 & Lrad 7.0 & nonid_rad 8.0 & RMSE: 1.4233069013042494\n",
      "(Ne, β, Lrad, nonid_rad) = (60, 0.98, 7.0, 9.0)\n"
     ]
    },
    {
     "name": "stderr",
     "output_type": "stream",
     "text": [
      "\u001b[32mProgress: 100%|█████████████████████████████████████████| Time: 0:04:53\u001b[39m\n"
     ]
    },
    {
     "name": "stdout",
     "output_type": "stream",
     "text": [
      "293.919735 seconds (5.23 G allocations: 445.649 GiB, 20.62% gc time)\n",
      "Ne = 60\n",
      "Ne 60 & β 0.98 & Lrad 7.0 & nonid_rad 9.0 & RMSE: 1.6259403214732295\n",
      "(Ne, β, Lrad, nonid_rad) = (60, 0.98, 7.0, 10.0)\n"
     ]
    },
    {
     "name": "stderr",
     "output_type": "stream",
     "text": [
      "\u001b[32mProgress: 100%|█████████████████████████████████████████| Time: 0:05:30\u001b[39m\n"
     ]
    },
    {
     "name": "stdout",
     "output_type": "stream",
     "text": [
      "330.301165 seconds (5.81 G allocations: 493.710 GiB, 20.33% gc time)\n",
      "Ne = 60\n",
      "Ne 60 & β 0.98 & Lrad 7.0 & nonid_rad 10.0 & RMSE: 1.6895617481445657\n",
      "(Ne, β, Lrad, nonid_rad) = (60, 0.98, 7.0, 11.0)\n"
     ]
    },
    {
     "name": "stderr",
     "output_type": "stream",
     "text": [
      "\u001b[32mProgress: 100%|█████████████████████████████████████████| Time: 0:06:15\u001b[39m\n"
     ]
    },
    {
     "name": "stdout",
     "output_type": "stream",
     "text": [
      "375.363016 seconds (6.46 G allocations: 568.526 GiB, 20.67% gc time)\n",
      "Ne = 60\n",
      "Ne 60 & β 0.98 & Lrad 7.0 & nonid_rad 11.0 & RMSE: 1.7300026338220709\n",
      "(Ne, β, Lrad, nonid_rad) = (60, 0.98, 7.0, 12.0)\n"
     ]
    },
    {
     "name": "stderr",
     "output_type": "stream",
     "text": [
      "\u001b[32mProgress: 100%|█████████████████████████████████████████| Time: 0:06:59\u001b[39m\n"
     ]
    },
    {
     "name": "stdout",
     "output_type": "stream",
     "text": [
      "419.530945 seconds (7.10 G allocations: 643.791 GiB, 20.41% gc time)\n",
      "Ne = 60\n",
      "Ne 60 & β 0.98 & Lrad 7.0 & nonid_rad 12.0 & RMSE: 1.6928412960682235\n",
      "(Ne, β, Lrad, nonid_rad) = (60, 0.98, 8.0, 1.0)\n"
     ]
    },
    {
     "name": "stderr",
     "output_type": "stream",
     "text": [
      "\u001b[32mProgress: 100%|█████████████████████████████████████████| Time: 0:00:56\u001b[39m\n"
     ]
    },
    {
     "name": "stdout",
     "output_type": "stream",
     "text": [
      " 56.041152 seconds (849.14 M allocations: 75.659 GiB, 18.02% gc time)\n",
      "Ne = 60\n",
      "Ne 60 & β 0.98 & Lrad 8.0 & nonid_rad 1.0 & RMSE: 1.2950840083199433\n",
      "(Ne, β, Lrad, nonid_rad) = (60, 0.98, 8.0, 2.0)\n"
     ]
    },
    {
     "name": "stderr",
     "output_type": "stream",
     "text": [
      "\u001b[32mProgress: 100%|█████████████████████████████████████████| Time: 0:01:17\u001b[39m\n"
     ]
    },
    {
     "name": "stdout",
     "output_type": "stream",
     "text": [
      " 77.046562 seconds (1.31 G allocations: 109.408 GiB, 19.49% gc time)\n",
      "Ne = 60\n",
      "Ne 60 & β 0.98 & Lrad 8.0 & nonid_rad 2.0 & RMSE: 1.2483720125166882\n",
      "(Ne, β, Lrad, nonid_rad) = (60, 0.98, 8.0, 3.0)\n"
     ]
    },
    {
     "name": "stderr",
     "output_type": "stream",
     "text": [
      "\u001b[32mProgress: 100%|█████████████████████████████████████████| Time: 0:01:41\u001b[39m\n"
     ]
    },
    {
     "name": "stdout",
     "output_type": "stream",
     "text": [
      "101.093754 seconds (1.81 G allocations: 146.371 GiB, 20.25% gc time)\n",
      "Ne = 60\n",
      "Ne 60 & β 0.98 & Lrad 8.0 & nonid_rad 3.0 & RMSE: 1.1069462667788075\n",
      "(Ne, β, Lrad, nonid_rad) = (60, 0.98, 8.0, 4.0)\n"
     ]
    },
    {
     "name": "stderr",
     "output_type": "stream",
     "text": [
      "\u001b[32mProgress: 100%|█████████████████████████████████████████| Time: 0:02:09\u001b[39m\n"
     ]
    },
    {
     "name": "stdout",
     "output_type": "stream",
     "text": [
      "129.031238 seconds (2.34 G allocations: 186.608 GiB, 20.36% gc time)\n",
      "Ne = 60\n",
      "Ne 60 & β 0.98 & Lrad 8.0 & nonid_rad 4.0 & RMSE: 1.1111296701078934\n",
      "(Ne, β, Lrad, nonid_rad) = (60, 0.98, 8.0, 5.0)\n"
     ]
    },
    {
     "name": "stderr",
     "output_type": "stream",
     "text": [
      "\u001b[32mProgress: 100%|█████████████████████████████████████████| Time: 0:02:38\u001b[39m\n"
     ]
    },
    {
     "name": "stdout",
     "output_type": "stream",
     "text": [
      "158.869052 seconds (2.92 G allocations: 235.629 GiB, 20.19% gc time)\n",
      "Ne = 60\n",
      "Ne 60 & β 0.98 & Lrad 8.0 & nonid_rad 5.0 & RMSE: 1.1519174214537038\n",
      "(Ne, β, Lrad, nonid_rad) = (60, 0.98, 8.0, 6.0)\n"
     ]
    },
    {
     "name": "stderr",
     "output_type": "stream",
     "text": [
      "\u001b[32mProgress: 100%|█████████████████████████████████████████| Time: 0:03:13\u001b[39m\n"
     ]
    },
    {
     "name": "stdout",
     "output_type": "stream",
     "text": [
      "193.774715 seconds (3.52 G allocations: 292.804 GiB, 20.71% gc time)\n",
      "Ne = 60\n",
      "Ne 60 & β 0.98 & Lrad 8.0 & nonid_rad 6.0 & RMSE: 1.235263120612452\n",
      "(Ne, β, Lrad, nonid_rad) = (60, 0.98, 8.0, 7.0)\n"
     ]
    },
    {
     "name": "stderr",
     "output_type": "stream",
     "text": [
      "\u001b[32mProgress: 100%|█████████████████████████████████████████| Time: 0:03:48\u001b[39m\n"
     ]
    },
    {
     "name": "stdout",
     "output_type": "stream",
     "text": [
      "228.938764 seconds (4.13 G allocations: 350.417 GiB, 21.14% gc time)\n",
      "Ne = 60\n",
      "Ne 60 & β 0.98 & Lrad 8.0 & nonid_rad 7.0 & RMSE: 1.2307777750626543\n",
      "(Ne, β, Lrad, nonid_rad) = (60, 0.98, 8.0, 8.0)\n"
     ]
    },
    {
     "name": "stderr",
     "output_type": "stream",
     "text": [
      "\u001b[32mProgress: 100%|█████████████████████████████████████████| Time: 0:04:23\u001b[39m\n"
     ]
    },
    {
     "name": "stdout",
     "output_type": "stream",
     "text": [
      "263.363677 seconds (4.73 G allocations: 403.662 GiB, 21.00% gc time)\n",
      "Ne = 60\n",
      "Ne 60 & β 0.98 & Lrad 8.0 & nonid_rad 8.0 & RMSE: 1.4389063214216862\n",
      "(Ne, β, Lrad, nonid_rad) = (60, 0.98, 8.0, 9.0)\n"
     ]
    },
    {
     "name": "stderr",
     "output_type": "stream",
     "text": [
      "\u001b[32mProgress: 100%|█████████████████████████████████████████| Time: 0:04:58\u001b[39m\n"
     ]
    },
    {
     "name": "stdout",
     "output_type": "stream",
     "text": [
      "298.027101 seconds (5.33 G allocations: 452.546 GiB, 20.53% gc time)\n",
      "Ne = 60\n",
      "Ne 60 & β 0.98 & Lrad 8.0 & nonid_rad 9.0 & RMSE: 1.705156817529746\n",
      "(Ne, β, Lrad, nonid_rad) = (60, 0.98, 8.0, 10.0)\n"
     ]
    },
    {
     "name": "stderr",
     "output_type": "stream",
     "text": [
      "\u001b[32mProgress: 100%|█████████████████████████████████████████| Time: 0:05:34\u001b[39m\n"
     ]
    },
    {
     "name": "stdout",
     "output_type": "stream",
     "text": [
      "334.373298 seconds (5.94 G allocations: 501.862 GiB, 20.24% gc time)\n",
      "Ne = 60\n",
      "Ne 60 & β 0.98 & Lrad 8.0 & nonid_rad 10.0 & RMSE: 1.6470601370209257\n",
      "(Ne, β, Lrad, nonid_rad) = (60, 0.98, 8.0, 11.0)\n"
     ]
    },
    {
     "name": "stderr",
     "output_type": "stream",
     "text": [
      "\u001b[32mProgress: 100%|█████████████████████████████████████████| Time: 0:06:18\u001b[39m\n"
     ]
    },
    {
     "name": "stdout",
     "output_type": "stream",
     "text": [
      "378.618752 seconds (6.60 G allocations: 577.931 GiB, 20.45% gc time)\n",
      "Ne = 60\n",
      "Ne 60 & β 0.98 & Lrad 8.0 & nonid_rad 11.0 & RMSE: 1.708019711319695\n",
      "(Ne, β, Lrad, nonid_rad) = (60, 0.98, 8.0, 12.0)\n"
     ]
    },
    {
     "name": "stderr",
     "output_type": "stream",
     "text": [
      "\u001b[32mProgress: 100%|█████████████████████████████████████████| Time: 0:07:10\u001b[39m\n"
     ]
    },
    {
     "name": "stdout",
     "output_type": "stream",
     "text": [
      "430.141509 seconds (7.26 G allocations: 654.455 GiB, 20.56% gc time)\n",
      "Ne = 60\n",
      "Ne 60 & β 0.98 & Lrad 8.0 & nonid_rad 12.0 & RMSE: 2.0048871958149452\n",
      "(Ne, β, Lrad, nonid_rad) = (60, 0.98, 9.0, 1.0)\n"
     ]
    },
    {
     "name": "stderr",
     "output_type": "stream",
     "text": [
      "\u001b[32mProgress: 100%|█████████████████████████████████████████| Time: 0:00:56\u001b[39m\n"
     ]
    },
    {
     "name": "stdout",
     "output_type": "stream",
     "text": [
      " 56.186245 seconds (849.14 M allocations: 75.659 GiB, 18.51% gc time)\n",
      "Ne = 60\n",
      "Ne 60 & β 0.98 & Lrad 9.0 & nonid_rad 1.0 & RMSE: 1.2797654676721821\n",
      "(Ne, β, Lrad, nonid_rad) = (60, 0.98, 9.0, 2.0)\n"
     ]
    },
    {
     "name": "stderr",
     "output_type": "stream",
     "text": [
      "\u001b[32mProgress: 100%|█████████████████████████████████████████| Time: 0:01:17\u001b[39m\n"
     ]
    },
    {
     "name": "stdout",
     "output_type": "stream",
     "text": [
      " 77.572062 seconds (1.31 G allocations: 109.409 GiB, 19.63% gc time)\n",
      "Ne = 60\n",
      "Ne 60 & β 0.98 & Lrad 9.0 & nonid_rad 2.0 & RMSE: 1.2609143473005777\n",
      "(Ne, β, Lrad, nonid_rad) = (60, 0.98, 9.0, 3.0)\n"
     ]
    },
    {
     "name": "stderr",
     "output_type": "stream",
     "text": [
      "\u001b[32mProgress: 100%|█████████████████████████████████████████| Time: 0:01:40\u001b[39m\n"
     ]
    },
    {
     "name": "stdout",
     "output_type": "stream",
     "text": [
      "100.337578 seconds (1.81 G allocations: 146.371 GiB, 19.51% gc time)\n",
      "Ne = 60\n",
      "Ne 60 & β 0.98 & Lrad 9.0 & nonid_rad 3.0 & RMSE: 1.0792969888215935\n",
      "(Ne, β, Lrad, nonid_rad) = (60, 0.98, 9.0, 4.0)\n"
     ]
    },
    {
     "name": "stderr",
     "output_type": "stream",
     "text": [
      "\u001b[32mProgress: 100%|█████████████████████████████████████████| Time: 0:02:08\u001b[39m\n"
     ]
    },
    {
     "name": "stdout",
     "output_type": "stream",
     "text": [
      "128.002681 seconds (2.34 G allocations: 186.608 GiB, 19.95% gc time)\n",
      "Ne = 60\n",
      "Ne 60 & β 0.98 & Lrad 9.0 & nonid_rad 4.0 & RMSE: 1.095988428631558\n",
      "(Ne, β, Lrad, nonid_rad) = (60, 0.98, 9.0, 5.0)\n"
     ]
    },
    {
     "name": "stderr",
     "output_type": "stream",
     "text": [
      "\u001b[32mProgress: 100%|█████████████████████████████████████████| Time: 0:02:41\u001b[39m\n"
     ]
    },
    {
     "name": "stdout",
     "output_type": "stream",
     "text": [
      "161.747476 seconds (2.94 G allocations: 237.284 GiB, 20.50% gc time)\n",
      "Ne = 60\n",
      "Ne 60 & β 0.98 & Lrad 9.0 & nonid_rad 5.0 & RMSE: 1.0974806386605127\n",
      "(Ne, β, Lrad, nonid_rad) = (60, 0.98, 9.0, 6.0)\n"
     ]
    },
    {
     "name": "stderr",
     "output_type": "stream",
     "text": [
      "\u001b[32mProgress: 100%|█████████████████████████████████████████| Time: 0:03:17\u001b[39m\n"
     ]
    },
    {
     "name": "stdout",
     "output_type": "stream",
     "text": [
      "197.997438 seconds (3.56 G allocations: 296.114 GiB, 20.95% gc time)\n",
      "Ne = 60\n",
      "Ne 60 & β 0.98 & Lrad 9.0 & nonid_rad 6.0 & RMSE: 1.2142081899493204\n",
      "(Ne, β, Lrad, nonid_rad) = (60, 0.98, 9.0, 7.0)\n"
     ]
    },
    {
     "name": "stderr",
     "output_type": "stream",
     "text": [
      "\u001b[32mProgress: 100%|█████████████████████████████████████████| Time: 0:03:51\u001b[39m\n"
     ]
    },
    {
     "name": "stdout",
     "output_type": "stream",
     "text": [
      "231.801266 seconds (4.18 G allocations: 355.381 GiB, 20.62% gc time)\n",
      "Ne = 60\n",
      "Ne 60 & β 0.98 & Lrad 9.0 & nonid_rad 7.0 & RMSE: 1.359158843004966\n",
      "(Ne, β, Lrad, nonid_rad) = (60, 0.98, 9.0, 8.0)\n"
     ]
    },
    {
     "name": "stderr",
     "output_type": "stream",
     "text": [
      "\u001b[32mProgress: 100%|█████████████████████████████████████████| Time: 0:04:28\u001b[39m\n"
     ]
    },
    {
     "name": "stdout",
     "output_type": "stream",
     "text": [
      "268.612161 seconds (4.81 G allocations: 410.280 GiB, 20.66% gc time)\n",
      "Ne = 60\n",
      "Ne 60 & β 0.98 & Lrad 9.0 & nonid_rad 8.0 & RMSE: 1.5977502600549682\n",
      "(Ne, β, Lrad, nonid_rad) = (60, 0.98, 9.0, 9.0)\n"
     ]
    },
    {
     "name": "stderr",
     "output_type": "stream",
     "text": [
      "\u001b[32mProgress: 100%|█████████████████████████████████████████| Time: 0:05:05\u001b[39m\n"
     ]
    },
    {
     "name": "stdout",
     "output_type": "stream",
     "text": [
      "305.560674 seconds (5.43 G allocations: 460.819 GiB, 20.74% gc time)\n",
      "Ne = 60\n",
      "Ne 60 & β 0.98 & Lrad 9.0 & nonid_rad 9.0 & RMSE: 1.619840318751882\n",
      "(Ne, β, Lrad, nonid_rad) = (60, 0.98, 9.0, 10.0)\n"
     ]
    },
    {
     "name": "stderr",
     "output_type": "stream",
     "text": [
      "\u001b[32mProgress: 100%|█████████████████████████████████████████| Time: 0:05:43\u001b[39m\n"
     ]
    },
    {
     "name": "stdout",
     "output_type": "stream",
     "text": [
      "343.097122 seconds (6.05 G allocations: 511.789 GiB, 20.39% gc time)\n",
      "Ne = 60\n",
      "Ne 60 & β 0.98 & Lrad 9.0 & nonid_rad 10.0 & RMSE: 1.8291731619950604\n",
      "(Ne, β, Lrad, nonid_rad) = (60, 0.98, 9.0, 11.0)\n"
     ]
    },
    {
     "name": "stderr",
     "output_type": "stream",
     "text": [
      "\u001b[32mProgress: 100%|█████████████████████████████████████████| Time: 0:06:30\u001b[39m\n"
     ]
    },
    {
     "name": "stdout",
     "output_type": "stream",
     "text": [
      "390.093360 seconds (6.74 G allocations: 589.515 GiB, 20.50% gc time)\n",
      "Ne = 60\n",
      "Ne 60 & β 0.98 & Lrad 9.0 & nonid_rad 11.0 & RMSE: 1.8666023098610358\n",
      "(Ne, β, Lrad, nonid_rad) = (60, 0.98, 9.0, 12.0)\n"
     ]
    },
    {
     "name": "stderr",
     "output_type": "stream",
     "text": [
      "\u001b[32mProgress: 100%|█████████████████████████████████████████| Time: 0:07:22\u001b[39m\n"
     ]
    },
    {
     "name": "stdout",
     "output_type": "stream",
     "text": [
      "442.300779 seconds (7.42 G allocations: 667.692 GiB, 20.64% gc time)\n",
      "Ne = 60\n",
      "Ne 60 & β 0.98 & Lrad 9.0 & nonid_rad 12.0 & RMSE: 2.1061518175394465\n",
      "(Ne, β, Lrad, nonid_rad) = (60, 0.98, 10.0, 1.0)\n"
     ]
    },
    {
     "name": "stderr",
     "output_type": "stream",
     "text": [
      "\u001b[32mProgress: 100%|█████████████████████████████████████████| Time: 0:00:56\u001b[39m\n"
     ]
    },
    {
     "name": "stdout",
     "output_type": "stream",
     "text": [
      " 56.272656 seconds (849.14 M allocations: 75.659 GiB, 18.43% gc time)\n",
      "Ne = 60\n",
      "Ne 60 & β 0.98 & Lrad 10.0 & nonid_rad 1.0 & RMSE: 1.2880908163947142\n",
      "(Ne, β, Lrad, nonid_rad) = (60, 0.98, 10.0, 2.0)\n"
     ]
    },
    {
     "name": "stderr",
     "output_type": "stream",
     "text": [
      "\u001b[32mProgress: 100%|█████████████████████████████████████████| Time: 0:01:17\u001b[39m\n"
     ]
    },
    {
     "name": "stdout",
     "output_type": "stream",
     "text": [
      " 77.528301 seconds (1.31 G allocations: 109.409 GiB, 19.62% gc time)\n",
      "Ne = 60\n",
      "Ne 60 & β 0.98 & Lrad 10.0 & nonid_rad 2.0 & RMSE: 1.2690406458250887\n",
      "(Ne, β, Lrad, nonid_rad) = (60, 0.98, 10.0, 3.0)\n"
     ]
    },
    {
     "name": "stderr",
     "output_type": "stream",
     "text": [
      "\u001b[32mProgress: 100%|█████████████████████████████████████████| Time: 0:01:40\u001b[39m\n"
     ]
    },
    {
     "name": "stdout",
     "output_type": "stream",
     "text": [
      "100.385675 seconds (1.81 G allocations: 146.371 GiB, 19.52% gc time)\n",
      "Ne = 60\n",
      "Ne 60 & β 0.98 & Lrad 10.0 & nonid_rad 3.0 & RMSE: 1.129917175456558\n",
      "(Ne, β, Lrad, nonid_rad) = (60, 0.98, 10.0, 4.0)\n"
     ]
    },
    {
     "name": "stderr",
     "output_type": "stream",
     "text": [
      "\u001b[32mProgress: 100%|█████████████████████████████████████████| Time: 0:02:08\u001b[39m\n"
     ]
    },
    {
     "name": "stdout",
     "output_type": "stream",
     "text": [
      "128.085535 seconds (2.34 G allocations: 186.608 GiB, 19.91% gc time)\n",
      "Ne = 60\n",
      "Ne 60 & β 0.98 & Lrad 10.0 & nonid_rad 4.0 & RMSE: 1.1198872171462957\n",
      "(Ne, β, Lrad, nonid_rad) = (60, 0.98, 10.0, 5.0)\n"
     ]
    },
    {
     "name": "stderr",
     "output_type": "stream",
     "text": [
      "\u001b[32mProgress: 100%|█████████████████████████████████████████| Time: 0:02:45\u001b[39m\n"
     ]
    },
    {
     "name": "stdout",
     "output_type": "stream",
     "text": [
      "165.328485 seconds (2.98 G allocations: 245.655 GiB, 20.77% gc time)\n",
      "Ne = 60\n",
      "Ne 60 & β 0.98 & Lrad 10.0 & nonid_rad 5.0 & RMSE: 1.129566214207563\n",
      "(Ne, β, Lrad, nonid_rad) = (60, 0.98, 10.0, 6.0)\n"
     ]
    },
    {
     "name": "stderr",
     "output_type": "stream",
     "text": [
      "\u001b[32mProgress: 100%|█████████████████████████████████████████| Time: 0:03:28\u001b[39m\n"
     ]
    },
    {
     "name": "stdout",
     "output_type": "stream",
     "text": [
      "208.107264 seconds (3.68 G allocations: 321.232 GiB, 21.68% gc time)\n",
      "Ne = 60\n",
      "Ne 60 & β 0.98 & Lrad 10.0 & nonid_rad 6.0 & RMSE: 1.2171195089014786\n",
      "(Ne, β, Lrad, nonid_rad) = (60, 0.98, 10.0, 7.0)\n"
     ]
    },
    {
     "name": "stderr",
     "output_type": "stream",
     "text": [
      "\u001b[32mProgress: 100%|█████████████████████████████████████████| Time: 0:04:05\u001b[39m\n"
     ]
    },
    {
     "name": "stdout",
     "output_type": "stream",
     "text": [
      "245.312048 seconds (4.38 G allocations: 397.235 GiB, 21.30% gc time)\n",
      "Ne = 60\n",
      "Ne 60 & β 0.98 & Lrad 10.0 & nonid_rad 7.0 & RMSE: 1.416011936695139\n",
      "(Ne, β, Lrad, nonid_rad) = (60, 0.98, 10.0, 8.0)\n"
     ]
    },
    {
     "name": "stderr",
     "output_type": "stream",
     "text": [
      "\u001b[32mProgress: 100%|█████████████████████████████████████████| Time: 0:04:46\u001b[39m\n"
     ]
    },
    {
     "name": "stdout",
     "output_type": "stream",
     "text": [
      "286.931564 seconds (5.08 G allocations: 468.877 GiB, 21.61% gc time)\n",
      "Ne = 60\n",
      "Ne 60 & β 0.98 & Lrad 10.0 & nonid_rad 8.0 & RMSE: 1.4125838445929735\n",
      "(Ne, β, Lrad, nonid_rad) = (60, 0.98, 10.0, 9.0)\n"
     ]
    },
    {
     "name": "stderr",
     "output_type": "stream",
     "text": [
      "\u001b[32mProgress: 100%|█████████████████████████████████████████| Time: 0:05:28\u001b[39m\n"
     ]
    },
    {
     "name": "stdout",
     "output_type": "stream",
     "text": [
      "328.023688 seconds (5.78 G allocations: 536.157 GiB, 21.45% gc time)\n",
      "Ne = 60\n",
      "Ne 60 & β 0.98 & Lrad 10.0 & nonid_rad 9.0 & RMSE: 1.6697194447121113\n",
      "(Ne, β, Lrad, nonid_rad) = (60, 0.98, 10.0, 10.0)\n"
     ]
    },
    {
     "name": "stderr",
     "output_type": "stream",
     "text": [
      "\u001b[32mProgress: 100%|█████████████████████████████████████████| Time: 0:06:09\u001b[39m\n"
     ]
    },
    {
     "name": "stdout",
     "output_type": "stream",
     "text": [
      "369.714234 seconds (6.48 G allocations: 603.869 GiB, 21.29% gc time)\n",
      "Ne = 60\n",
      "Ne 60 & β 0.98 & Lrad 10.0 & nonid_rad 10.0 & RMSE: 1.88355454996123\n",
      "(Ne, β, Lrad, nonid_rad) = (60, 0.98, 10.0, 11.0)\n"
     ]
    },
    {
     "name": "stderr",
     "output_type": "stream",
     "text": [
      "\u001b[32mProgress: 100%|█████████████████████████████████████████| Time: 0:07:05\u001b[39m\n"
     ]
    },
    {
     "name": "stdout",
     "output_type": "stream",
     "text": [
      "425.431313 seconds (7.24 G allocations: 698.359 GiB, 21.63% gc time)\n",
      "Ne = 60\n",
      "Ne 60 & β 0.98 & Lrad 10.0 & nonid_rad 11.0 & RMSE: 2.0363856745847735\n",
      "(Ne, β, Lrad, nonid_rad) = (60, 0.98, 10.0, 12.0)\n"
     ]
    },
    {
     "name": "stderr",
     "output_type": "stream",
     "text": [
      "\u001b[32mProgress: 100%|█████████████████████████████████████████| Time: 0:07:57\u001b[39m\n"
     ]
    },
    {
     "name": "stdout",
     "output_type": "stream",
     "text": [
      "477.996009 seconds (7.99 G allocations: 793.256 GiB, 21.62% gc time)\n",
      "Ne = 60\n",
      "Ne 60 & β 0.98 & Lrad 10.0 & nonid_rad 12.0 & RMSE: 2.0653987828782685\n",
      "(Ne, β, Lrad, nonid_rad) = (60, 0.99, 1.0, 1.0)\n"
     ]
    },
    {
     "name": "stderr",
     "output_type": "stream",
     "text": [
      "\u001b[32mProgress: 100%|█████████████████████████████████████████| Time: 0:00:55\u001b[39m\n"
     ]
    },
    {
     "name": "stdout",
     "output_type": "stream",
     "text": [
      " 55.773900 seconds (839.54 M allocations: 75.073 GiB, 18.57% gc time)\n",
      "Ne = 60\n",
      "Ne 60 & β 0.99 & Lrad 1.0 & nonid_rad 1.0 & RMSE: 1.2871348417279114\n",
      "(Ne, β, Lrad, nonid_rad) = (60, 0.99, 1.0, 2.0)\n"
     ]
    },
    {
     "name": "stderr",
     "output_type": "stream",
     "text": [
      "\u001b[32mProgress: 100%|█████████████████████████████████████████| Time: 0:01:13\u001b[39m\n"
     ]
    },
    {
     "name": "stdout",
     "output_type": "stream",
     "text": [
      " 73.631758 seconds (1.25 G allocations: 105.460 GiB, 19.77% gc time)\n",
      "Ne = 60\n",
      "Ne 60 & β 0.99 & Lrad 1.0 & nonid_rad 2.0 & RMSE: 1.2900297058757395\n",
      "(Ne, β, Lrad, nonid_rad) = (60, 0.99, 1.0, 3.0)\n"
     ]
    },
    {
     "name": "stderr",
     "output_type": "stream",
     "text": [
      "\u001b[32mProgress: 100%|█████████████████████████████████████████| Time: 0:01:31\u001b[39m\n"
     ]
    },
    {
     "name": "stdout",
     "output_type": "stream",
     "text": [
      " 91.394521 seconds (1.66 G allocations: 136.278 GiB, 19.81% gc time)\n",
      "Ne = 60\n",
      "Ne 60 & β 0.99 & Lrad 1.0 & nonid_rad 3.0 & RMSE: 1.2777717822402557\n",
      "(Ne, β, Lrad, nonid_rad) = (60, 0.99, 1.0, 4.0)\n"
     ]
    },
    {
     "name": "stderr",
     "output_type": "stream",
     "text": [
      "\u001b[32mProgress: 100%|█████████████████████████████████████████| Time: 0:01:51\u001b[39m\n"
     ]
    },
    {
     "name": "stdout",
     "output_type": "stream",
     "text": [
      "111.423994 seconds (2.07 G allocations: 167.529 GiB, 20.35% gc time)\n",
      "Ne = 60\n",
      "Ne 60 & β 0.99 & Lrad 1.0 & nonid_rad 4.0 & RMSE: 1.2511380490960444\n",
      "(Ne, β, Lrad, nonid_rad) = (60, 0.99, 1.0, 5.0)\n"
     ]
    },
    {
     "name": "stderr",
     "output_type": "stream",
     "text": [
      "\u001b[32mProgress: 100%|█████████████████████████████████████████| Time: 0:02:14\u001b[39m\n"
     ]
    },
    {
     "name": "stdout",
     "output_type": "stream",
     "text": [
      "134.928406 seconds (2.51 G allocations: 206.936 GiB, 20.97% gc time)\n",
      "Ne = 60\n",
      "Ne 60 & β 0.99 & Lrad 1.0 & nonid_rad 5.0 & RMSE: 1.2470614062576129\n",
      "(Ne, β, Lrad, nonid_rad) = (60, 0.99, 1.0, 6.0)\n"
     ]
    },
    {
     "name": "stderr",
     "output_type": "stream",
     "text": [
      "\u001b[32mProgress: 100%|█████████████████████████████████████████| Time: 0:02:42\u001b[39m\n"
     ]
    },
    {
     "name": "stdout",
     "output_type": "stream",
     "text": [
      "162.490566 seconds (2.98 G allocations: 254.499 GiB, 21.48% gc time)\n",
      "Ne = 60\n",
      "Ne 60 & β 0.99 & Lrad 1.0 & nonid_rad 6.0 & RMSE: 1.2438424851003531\n",
      "(Ne, β, Lrad, nonid_rad) = (60, 0.99, 1.0, 7.0)\n"
     ]
    },
    {
     "name": "stderr",
     "output_type": "stream",
     "text": [
      "\u001b[32mProgress: 100%|█████████████████████████████████████████| Time: 0:03:05\u001b[39m\n"
     ]
    },
    {
     "name": "stdout",
     "output_type": "stream",
     "text": [
      "185.962742 seconds (3.45 G allocations: 302.491 GiB, 20.87% gc time)\n",
      "Ne = 60\n",
      "Ne 60 & β 0.99 & Lrad 1.0 & nonid_rad 7.0 & RMSE: 1.236390727731723\n",
      "(Ne, β, Lrad, nonid_rad) = (60, 0.99, 1.0, 8.0)\n"
     ]
    },
    {
     "name": "stderr",
     "output_type": "stream",
     "text": [
      "\u001b[32mProgress: 100%|█████████████████████████████████████████| Time: 0:03:35\u001b[39m\n"
     ]
    },
    {
     "name": "stdout",
     "output_type": "stream",
     "text": [
      "215.087396 seconds (3.92 G allocations: 346.131 GiB, 21.16% gc time)\n",
      "Ne = 60\n",
      "Ne 60 & β 0.99 & Lrad 1.0 & nonid_rad 8.0 & RMSE: 1.2733717200412604\n",
      "(Ne, β, Lrad, nonid_rad) = (60, 0.99, 1.0, 9.0)\n"
     ]
    },
    {
     "name": "stderr",
     "output_type": "stream",
     "text": [
      "\u001b[32mProgress: 100%|█████████████████████████████████████████| Time: 0:04:03\u001b[39m\n"
     ]
    },
    {
     "name": "stdout",
     "output_type": "stream",
     "text": [
      "243.551699 seconds (4.39 G allocations: 385.403 GiB, 21.10% gc time)\n",
      "Ne = 60\n",
      "Ne 60 & β 0.99 & Lrad 1.0 & nonid_rad 9.0 & RMSE: 1.2450564426787274\n",
      "(Ne, β, Lrad, nonid_rad) = (60, 0.99, 1.0, 10.0)\n"
     ]
    },
    {
     "name": "stderr",
     "output_type": "stream",
     "text": [
      "\u001b[32mProgress: 100%|█████████████████████████████████████████| Time: 0:04:31\u001b[39m\n"
     ]
    },
    {
     "name": "stdout",
     "output_type": "stream",
     "text": [
      "271.236386 seconds (4.86 G allocations: 425.105 GiB, 20.61% gc time)\n",
      "Ne = 60\n",
      "Ne 60 & β 0.99 & Lrad 1.0 & nonid_rad 10.0 & RMSE: 1.2790039788434115\n",
      "(Ne, β, Lrad, nonid_rad) = (60, 0.99, 1.0, 11.0)\n"
     ]
    },
    {
     "name": "stderr",
     "output_type": "stream",
     "text": [
      "\u001b[32mProgress: 100%|█████████████████████████████████████████| Time: 0:05:07\u001b[39m\n"
     ]
    },
    {
     "name": "stdout",
     "output_type": "stream",
     "text": [
      "307.817497 seconds (5.38 G allocations: 491.561 GiB, 21.11% gc time)\n",
      "Ne = 60\n",
      "Ne 60 & β 0.99 & Lrad 1.0 & nonid_rad 11.0 & RMSE: 1.2561077606205304\n",
      "(Ne, β, Lrad, nonid_rad) = (60, 0.99, 1.0, 12.0)\n"
     ]
    },
    {
     "name": "stderr",
     "output_type": "stream",
     "text": [
      "\u001b[32mProgress: 100%|█████████████████████████████████████████| Time: 0:05:44\u001b[39m\n"
     ]
    },
    {
     "name": "stdout",
     "output_type": "stream",
     "text": [
      "344.328537 seconds (5.91 G allocations: 558.448 GiB, 21.15% gc time)\n",
      "Ne = 60\n",
      "Ne 60 & β 0.99 & Lrad 1.0 & nonid_rad 12.0 & RMSE: 1.2560078719257526\n",
      "(Ne, β, Lrad, nonid_rad) = (60, 0.99, 2.0, 1.0)\n"
     ]
    },
    {
     "name": "stderr",
     "output_type": "stream",
     "text": [
      "\u001b[32mProgress: 100%|█████████████████████████████████████████| Time: 0:00:56\u001b[39m\n"
     ]
    },
    {
     "name": "stdout",
     "output_type": "stream",
     "text": [
      " 56.262489 seconds (849.14 M allocations: 75.659 GiB, 18.43% gc time)\n",
      "Ne = 60\n",
      "Ne 60 & β 0.99 & Lrad 2.0 & nonid_rad 1.0 & RMSE: 1.2945751100472684\n",
      "(Ne, β, Lrad, nonid_rad) = (60, 0.99, 2.0, 2.0)\n"
     ]
    },
    {
     "name": "stderr",
     "output_type": "stream",
     "text": [
      "\u001b[32mProgress: 100%|█████████████████████████████████████████| Time: 0:01:14\u001b[39m\n"
     ]
    },
    {
     "name": "stdout",
     "output_type": "stream",
     "text": [
      " 74.736126 seconds (1.28 G allocations: 107.219 GiB, 19.21% gc time)\n",
      "Ne = 60\n",
      "Ne 60 & β 0.99 & Lrad 2.0 & nonid_rad 2.0 & RMSE: 1.2736758767031549\n",
      "(Ne, β, Lrad, nonid_rad) = (60, 0.99, 2.0, 3.0)\n"
     ]
    },
    {
     "name": "stderr",
     "output_type": "stream",
     "text": [
      "\u001b[32mProgress: 100%|█████████████████████████████████████████| Time: 0:01:34\u001b[39m\n"
     ]
    },
    {
     "name": "stdout",
     "output_type": "stream",
     "text": [
      " 94.449026 seconds (1.71 G allocations: 139.211 GiB, 20.14% gc time)\n",
      "Ne = 60\n",
      "Ne 60 & β 0.99 & Lrad 2.0 & nonid_rad 3.0 & RMSE: 1.1709287981145882\n",
      "(Ne, β, Lrad, nonid_rad) = (60, 0.99, 2.0, 4.0)\n"
     ]
    },
    {
     "name": "stderr",
     "output_type": "stream",
     "text": [
      "\u001b[32mProgress: 100%|█████████████████████████████████████████| Time: 0:01:55\u001b[39m\n"
     ]
    },
    {
     "name": "stdout",
     "output_type": "stream",
     "text": [
      "115.509703 seconds (2.14 G allocations: 171.635 GiB, 20.50% gc time)\n",
      "Ne = 60\n",
      "Ne 60 & β 0.99 & Lrad 2.0 & nonid_rad 4.0 & RMSE: 1.145728715600363\n",
      "(Ne, β, Lrad, nonid_rad) = (60, 0.99, 2.0, 5.0)\n"
     ]
    },
    {
     "name": "stderr",
     "output_type": "stream",
     "text": [
      "\u001b[32mProgress: 100%|█████████████████████████████████████████| Time: 0:02:19\u001b[39m\n"
     ]
    },
    {
     "name": "stdout",
     "output_type": "stream",
     "text": [
      "139.148361 seconds (2.60 G allocations: 212.215 GiB, 20.06% gc time)\n",
      "Ne = 60\n",
      "Ne 60 & β 0.99 & Lrad 2.0 & nonid_rad 5.0 & RMSE: 1.1833141997276184\n",
      "(Ne, β, Lrad, nonid_rad) = (60, 0.99, 2.0, 6.0)\n"
     ]
    },
    {
     "name": "stderr",
     "output_type": "stream",
     "text": [
      "\u001b[32mProgress: 100%|█████████████████████████████████████████| Time: 0:02:47\u001b[39m\n"
     ]
    },
    {
     "name": "stdout",
     "output_type": "stream",
     "text": [
      "167.025028 seconds (3.09 G allocations: 260.950 GiB, 20.82% gc time)\n",
      "Ne = 60\n",
      "Ne 60 & β 0.99 & Lrad 2.0 & nonid_rad 6.0 & RMSE: 1.1262553533539363\n",
      "(Ne, β, Lrad, nonid_rad) = (60, 0.99, 2.0, 7.0)\n"
     ]
    },
    {
     "name": "stderr",
     "output_type": "stream",
     "text": [
      "\u001b[32mProgress: 100%|█████████████████████████████████████████| Time: 0:03:15\u001b[39m\n"
     ]
    },
    {
     "name": "stdout",
     "output_type": "stream",
     "text": [
      "195.568586 seconds (3.57 G allocations: 310.117 GiB, 21.20% gc time)\n",
      "Ne = 60\n",
      "Ne 60 & β 0.99 & Lrad 2.0 & nonid_rad 7.0 & RMSE: 1.14262412448236\n",
      "(Ne, β, Lrad, nonid_rad) = (60, 0.99, 2.0, 8.0)\n"
     ]
    },
    {
     "name": "stderr",
     "output_type": "stream",
     "text": [
      "\u001b[32mProgress: 100%|█████████████████████████████████████████| Time: 0:03:44\u001b[39m\n"
     ]
    },
    {
     "name": "stdout",
     "output_type": "stream",
     "text": [
      "224.906331 seconds (4.06 G allocations: 354.929 GiB, 21.32% gc time)\n",
      "Ne = 60\n",
      "Ne 60 & β 0.99 & Lrad 2.0 & nonid_rad 8.0 & RMSE: 1.1294334057790916\n",
      "(Ne, β, Lrad, nonid_rad) = (60, 0.99, 2.0, 9.0)\n"
     ]
    },
    {
     "name": "stderr",
     "output_type": "stream",
     "text": [
      "\u001b[32mProgress: 100%|█████████████████████████████████████████| Time: 0:04:13\u001b[39m\n"
     ]
    },
    {
     "name": "stdout",
     "output_type": "stream",
     "text": [
      "253.714294 seconds (4.55 G allocations: 395.373 GiB, 21.14% gc time)\n",
      "Ne = 60\n",
      "Ne 60 & β 0.99 & Lrad 2.0 & nonid_rad 9.0 & RMSE: 1.1353688205989703\n",
      "(Ne, β, Lrad, nonid_rad) = (60, 0.99, 2.0, 10.0)\n"
     ]
    },
    {
     "name": "stderr",
     "output_type": "stream",
     "text": [
      "\u001b[32mProgress: 100%|█████████████████████████████████████████| Time: 0:04:42\u001b[39m\n"
     ]
    },
    {
     "name": "stdout",
     "output_type": "stream",
     "text": [
      "282.570084 seconds (5.04 G allocations: 436.249 GiB, 20.62% gc time)\n",
      "Ne = 60\n",
      "Ne 60 & β 0.99 & Lrad 2.0 & nonid_rad 10.0 & RMSE: 1.132154564268582\n",
      "(Ne, β, Lrad, nonid_rad) = (60, 0.99, 2.0, 11.0)\n"
     ]
    },
    {
     "name": "stderr",
     "output_type": "stream",
     "text": [
      "\u001b[32mProgress: 100%|█████████████████████████████████████████| Time: 0:05:19\u001b[39m\n"
     ]
    },
    {
     "name": "stdout",
     "output_type": "stream",
     "text": [
      "319.692654 seconds (5.58 G allocations: 503.878 GiB, 20.91% gc time)\n",
      "Ne = 60\n",
      "Ne 60 & β 0.99 & Lrad 2.0 & nonid_rad 11.0 & RMSE: 1.1251739552868736\n",
      "(Ne, β, Lrad, nonid_rad) = (60, 0.99, 2.0, 12.0)\n"
     ]
    },
    {
     "name": "stderr",
     "output_type": "stream",
     "text": [
      "\u001b[32mProgress: 100%|█████████████████████████████████████████| Time: 0:05:57\u001b[39m\n"
     ]
    },
    {
     "name": "stdout",
     "output_type": "stream",
     "text": [
      "357.987944 seconds (6.13 G allocations: 571.938 GiB, 20.96% gc time)\n",
      "Ne = 60\n",
      "Ne 60 & β 0.99 & Lrad 2.0 & nonid_rad 12.0 & RMSE: 1.1465586893647155\n",
      "(Ne, β, Lrad, nonid_rad) = (60, 0.99, 3.0, 1.0)\n"
     ]
    },
    {
     "name": "stderr",
     "output_type": "stream",
     "text": [
      "\u001b[32mProgress: 100%|█████████████████████████████████████████| Time: 0:00:56\u001b[39m\n"
     ]
    },
    {
     "name": "stdout",
     "output_type": "stream",
     "text": [
      " 56.140002 seconds (849.14 M allocations: 75.659 GiB, 18.40% gc time)\n",
      "Ne = 60\n",
      "Ne 60 & β 0.99 & Lrad 3.0 & nonid_rad 1.0 & RMSE: 1.2764685775624853\n",
      "(Ne, β, Lrad, nonid_rad) = (60, 0.99, 3.0, 2.0)\n"
     ]
    },
    {
     "name": "stderr",
     "output_type": "stream",
     "text": [
      "\u001b[32mProgress: 100%|█████████████████████████████████████████| Time: 0:01:15\u001b[39m\n"
     ]
    },
    {
     "name": "stdout",
     "output_type": "stream",
     "text": [
      " 75.749047 seconds (1.30 G allocations: 108.817 GiB, 19.12% gc time)\n",
      "Ne = 60\n",
      "Ne 60 & β 0.99 & Lrad 3.0 & nonid_rad 2.0 & RMSE: 1.2741922691399248\n",
      "(Ne, β, Lrad, nonid_rad) = (60, 0.99, 3.0, 3.0)\n"
     ]
    },
    {
     "name": "stderr",
     "output_type": "stream",
     "text": [
      "\u001b[32mProgress: 100%|█████████████████████████████████████████| Time: 0:01:36\u001b[39m\n"
     ]
    },
    {
     "name": "stdout",
     "output_type": "stream",
     "text": [
      " 96.826728 seconds (1.75 G allocations: 142.406 GiB, 20.04% gc time)\n",
      "Ne = 60\n",
      "Ne 60 & β 0.99 & Lrad 3.0 & nonid_rad 3.0 & RMSE: 1.0554106296965569\n",
      "(Ne, β, Lrad, nonid_rad) = (60, 0.99, 3.0, 4.0)\n"
     ]
    },
    {
     "name": "stderr",
     "output_type": "stream",
     "text": [
      "\u001b[32mProgress: 100%|█████████████████████████████████████████| Time: 0:01:59\u001b[39m\n"
     ]
    },
    {
     "name": "stdout",
     "output_type": "stream",
     "text": [
      "119.359374 seconds (2.20 G allocations: 176.427 GiB, 20.57% gc time)\n",
      "Ne = 60\n",
      "Ne 60 & β 0.99 & Lrad 3.0 & nonid_rad 4.0 & RMSE: 1.0936711465266094\n",
      "(Ne, β, Lrad, nonid_rad) = (60, 0.99, 3.0, 5.0)\n"
     ]
    },
    {
     "name": "stderr",
     "output_type": "stream",
     "text": [
      "\u001b[32mProgress: 100%|█████████████████████████████████████████| Time: 0:02:25\u001b[39m\n"
     ]
    },
    {
     "name": "stdout",
     "output_type": "stream",
     "text": [
      "145.818606 seconds (2.68 G allocations: 218.606 GiB, 21.03% gc time)\n",
      "Ne = 60\n",
      "Ne 60 & β 0.99 & Lrad 3.0 & nonid_rad 5.0 & RMSE: 1.0856503112957074\n",
      "(Ne, β, Lrad, nonid_rad) = (60, 0.99, 3.0, 6.0)\n"
     ]
    },
    {
     "name": "stderr",
     "output_type": "stream",
     "text": [
      "\u001b[32mProgress: 100%|█████████████████████████████████████████| Time: 0:02:52\u001b[39m\n"
     ]
    },
    {
     "name": "stdout",
     "output_type": "stream",
     "text": [
      "172.540179 seconds (3.18 G allocations: 268.938 GiB, 20.67% gc time)\n",
      "Ne = 60\n",
      "Ne 60 & β 0.99 & Lrad 3.0 & nonid_rad 6.0 & RMSE: 1.1104360377932454\n",
      "(Ne, β, Lrad, nonid_rad) = (60, 0.99, 3.0, 7.0)\n"
     ]
    },
    {
     "name": "stderr",
     "output_type": "stream",
     "text": [
      "\u001b[32mProgress: 100%|█████████████████████████████████████████| Time: 0:03:22\u001b[39m\n"
     ]
    },
    {
     "name": "stdout",
     "output_type": "stream",
     "text": [
      "202.636401 seconds (3.69 G allocations: 319.706 GiB, 21.18% gc time)\n",
      "Ne = 60\n",
      "Ne 60 & β 0.99 & Lrad 3.0 & nonid_rad 7.0 & RMSE: 1.1079440398501015\n",
      "(Ne, β, Lrad, nonid_rad) = (60, 0.99, 3.0, 8.0)\n"
     ]
    },
    {
     "name": "stderr",
     "output_type": "stream",
     "text": [
      "\u001b[32mProgress: 100%|█████████████████████████████████████████| Time: 0:03:53\u001b[39m\n"
     ]
    },
    {
     "name": "stdout",
     "output_type": "stream",
     "text": [
      "233.136629 seconds (4.20 G allocations: 366.111 GiB, 21.28% gc time)\n",
      "Ne = 60\n",
      "Ne 60 & β 0.99 & Lrad 3.0 & nonid_rad 8.0 & RMSE: 1.0514808274134169\n",
      "(Ne, β, Lrad, nonid_rad) = (60, 0.99, 3.0, 9.0)\n"
     ]
    },
    {
     "name": "stderr",
     "output_type": "stream",
     "text": [
      "\u001b[32mProgress: 100%|█████████████████████████████████████████| Time: 0:04:22\u001b[39m\n"
     ]
    },
    {
     "name": "stdout",
     "output_type": "stream",
     "text": [
      "262.337562 seconds (4.71 G allocations: 408.152 GiB, 20.99% gc time)\n",
      "Ne = 60\n",
      "Ne 60 & β 0.99 & Lrad 3.0 & nonid_rad 9.0 & RMSE: 1.1080340429419189\n",
      "(Ne, β, Lrad, nonid_rad) = (60, 0.99, 3.0, 10.0)\n"
     ]
    },
    {
     "name": "stderr",
     "output_type": "stream",
     "text": [
      "\u001b[32mProgress: 100%|█████████████████████████████████████████| Time: 0:04:52\u001b[39m\n"
     ]
    },
    {
     "name": "stdout",
     "output_type": "stream",
     "text": [
      "292.736214 seconds (5.21 G allocations: 450.626 GiB, 20.51% gc time)\n",
      "Ne = 60\n",
      "Ne 60 & β 0.99 & Lrad 3.0 & nonid_rad 10.0 & RMSE: 1.108237056148516\n",
      "(Ne, β, Lrad, nonid_rad) = (60, 0.99, 3.0, 11.0)\n"
     ]
    },
    {
     "name": "stderr",
     "output_type": "stream",
     "text": [
      "\u001b[32mProgress: 100%|█████████████████████████████████████████| Time: 0:05:32\u001b[39m\n"
     ]
    },
    {
     "name": "stdout",
     "output_type": "stream",
     "text": [
      "332.156145 seconds (5.78 G allocations: 519.852 GiB, 21.07% gc time)\n",
      "Ne = 60\n",
      "Ne 60 & β 0.99 & Lrad 3.0 & nonid_rad 11.0 & RMSE: 1.1157997031033893\n",
      "(Ne, β, Lrad, nonid_rad) = (60, 0.99, 3.0, 12.0)\n"
     ]
    },
    {
     "name": "stderr",
     "output_type": "stream",
     "text": [
      "\u001b[32mProgress: 100%|█████████████████████████████████████████| Time: 0:06:10\u001b[39m\n"
     ]
    },
    {
     "name": "stdout",
     "output_type": "stream",
     "text": [
      "370.013143 seconds (6.34 G allocations: 589.509 GiB, 20.63% gc time)\n",
      "Ne = 60\n",
      "Ne 60 & β 0.99 & Lrad 3.0 & nonid_rad 12.0 & RMSE: 1.0639110860353471\n",
      "(Ne, β, Lrad, nonid_rad) = (60, 0.99, 4.0, 1.0)\n"
     ]
    },
    {
     "name": "stderr",
     "output_type": "stream",
     "text": [
      "\u001b[32mProgress: 100%|█████████████████████████████████████████| Time: 0:00:55\u001b[39m\n"
     ]
    },
    {
     "name": "stdout",
     "output_type": "stream",
     "text": [
      " 55.966073 seconds (849.14 M allocations: 75.659 GiB, 18.04% gc time)\n",
      "Ne = 60\n",
      "Ne 60 & β 0.99 & Lrad 4.0 & nonid_rad 1.0 & RMSE: 1.280312428579421\n",
      "(Ne, β, Lrad, nonid_rad) = (60, 0.99, 4.0, 2.0)\n"
     ]
    },
    {
     "name": "stderr",
     "output_type": "stream",
     "text": [
      "\u001b[32mProgress: 100%|█████████████████████████████████████████| Time: 0:01:16\u001b[39m\n"
     ]
    },
    {
     "name": "stdout",
     "output_type": "stream",
     "text": [
      " 76.870362 seconds (1.31 G allocations: 109.408 GiB, 19.47% gc time)\n",
      "Ne = 60\n",
      "Ne 60 & β 0.99 & Lrad 4.0 & nonid_rad 2.0 & RMSE: 1.2702621956007087\n",
      "(Ne, β, Lrad, nonid_rad) = (60, 0.99, 4.0, 3.0)\n"
     ]
    },
    {
     "name": "stderr",
     "output_type": "stream",
     "text": [
      "\u001b[32mProgress: 100%|█████████████████████████████████████████| Time: 0:01:39\u001b[39m\n"
     ]
    },
    {
     "name": "stdout",
     "output_type": "stream",
     "text": [
      " 99.321212 seconds (1.78 G allocations: 144.180 GiB, 20.31% gc time)\n",
      "Ne = 60\n",
      "Ne 60 & β 0.99 & Lrad 4.0 & nonid_rad 3.0 & RMSE: 1.0807815742568019\n",
      "(Ne, β, Lrad, nonid_rad) = (60, 0.99, 4.0, 4.0)\n"
     ]
    },
    {
     "name": "stderr",
     "output_type": "stream",
     "text": [
      "\u001b[32mProgress: 100%|█████████████████████████████████████████| Time: 0:02:02\u001b[39m\n"
     ]
    },
    {
     "name": "stdout",
     "output_type": "stream",
     "text": [
      "122.362648 seconds (2.25 G allocations: 179.383 GiB, 20.59% gc time)\n",
      "Ne = 60\n",
      "Ne 60 & β 0.99 & Lrad 4.0 & nonid_rad 4.0 & RMSE: 1.121988132492368\n",
      "(Ne, β, Lrad, nonid_rad) = (60, 0.99, 4.0, 5.0)\n"
     ]
    },
    {
     "name": "stderr",
     "output_type": "stream",
     "text": [
      "\u001b[32mProgress: 100%|█████████████████████████████████████████| Time: 0:02:27\u001b[39m\n"
     ]
    },
    {
     "name": "stdout",
     "output_type": "stream",
     "text": [
      "147.931515 seconds (2.74 G allocations: 222.745 GiB, 20.36% gc time)\n",
      "Ne = 60\n",
      "Ne 60 & β 0.99 & Lrad 4.0 & nonid_rad 5.0 & RMSE: 1.1008612857143534\n",
      "(Ne, β, Lrad, nonid_rad) = (60, 0.99, 4.0, 6.0)\n"
     ]
    },
    {
     "name": "stderr",
     "output_type": "stream",
     "text": [
      "\u001b[32mProgress: 100%|█████████████████████████████████████████| Time: 0:02:59\u001b[39m\n"
     ]
    },
    {
     "name": "stdout",
     "output_type": "stream",
     "text": [
      "179.369160 seconds (3.27 G allocations: 274.259 GiB, 20.93% gc time)\n",
      "Ne = 60\n",
      "Ne 60 & β 0.99 & Lrad 4.0 & nonid_rad 6.0 & RMSE: 1.0987375547463434\n",
      "(Ne, β, Lrad, nonid_rad) = (60, 0.99, 4.0, 7.0)\n"
     ]
    },
    {
     "name": "stderr",
     "output_type": "stream",
     "text": [
      "\u001b[32mProgress: 100%|█████████████████████████████████████████| Time: 0:03:29\u001b[39m\n"
     ]
    },
    {
     "name": "stdout",
     "output_type": "stream",
     "text": [
      "209.593674 seconds (3.80 G allocations: 326.211 GiB, 21.32% gc time)\n",
      "Ne = 60\n",
      "Ne 60 & β 0.99 & Lrad 4.0 & nonid_rad 7.0 & RMSE: 1.1167792945124417\n",
      "(Ne, β, Lrad, nonid_rad) = (60, 0.99, 4.0, 8.0)\n"
     ]
    },
    {
     "name": "stderr",
     "output_type": "stream",
     "text": [
      "\u001b[32mProgress: 100%|█████████████████████████████████████████| Time: 0:03:58\u001b[39m\n"
     ]
    },
    {
     "name": "stdout",
     "output_type": "stream",
     "text": [
      "238.232966 seconds (4.32 G allocations: 373.798 GiB, 20.61% gc time)\n",
      "Ne = 60\n",
      "Ne 60 & β 0.99 & Lrad 4.0 & nonid_rad 8.0 & RMSE: 1.1876766192820996\n",
      "(Ne, β, Lrad, nonid_rad) = (60, 0.99, 4.0, 9.0)\n"
     ]
    },
    {
     "name": "stderr",
     "output_type": "stream",
     "text": [
      "\u001b[32mProgress: 100%|█████████████████████████████████████████| Time: 0:04:31\u001b[39m\n"
     ]
    },
    {
     "name": "stdout",
     "output_type": "stream",
     "text": [
      "271.130354 seconds (4.85 G allocations: 417.022 GiB, 21.02% gc time)\n",
      "Ne = 60\n",
      "Ne 60 & β 0.99 & Lrad 4.0 & nonid_rad 9.0 & RMSE: 1.2115656891462163\n",
      "(Ne, β, Lrad, nonid_rad) = (60, 0.99, 4.0, 10.0)\n"
     ]
    },
    {
     "name": "stderr",
     "output_type": "stream",
     "text": [
      "\u001b[32mProgress: 100%|█████████████████████████████████████████| Time: 0:05:02\u001b[39m\n"
     ]
    },
    {
     "name": "stdout",
     "output_type": "stream",
     "text": [
      "302.216434 seconds (5.38 G allocations: 460.677 GiB, 20.44% gc time)\n",
      "Ne = 60\n",
      "Ne 60 & β 0.99 & Lrad 4.0 & nonid_rad 10.0 & RMSE: 1.227259378617253\n",
      "(Ne, β, Lrad, nonid_rad) = (60, 0.99, 4.0, 11.0)\n"
     ]
    },
    {
     "name": "stderr",
     "output_type": "stream",
     "text": [
      "\u001b[32mProgress: 100%|█████████████████████████████████████████| Time: 0:05:43\u001b[39m\n"
     ]
    },
    {
     "name": "stdout",
     "output_type": "stream",
     "text": [
      "343.007034 seconds (5.96 G allocations: 531.086 GiB, 20.95% gc time)\n",
      "Ne = 60\n",
      "Ne 60 & β 0.99 & Lrad 4.0 & nonid_rad 11.0 & RMSE: 1.2091429829618265\n",
      "(Ne, β, Lrad, nonid_rad) = (60, 0.99, 4.0, 12.0)\n"
     ]
    },
    {
     "name": "stderr",
     "output_type": "stream",
     "text": [
      "\u001b[32mProgress: 100%|█████████████████████████████████████████| Time: 0:06:23\u001b[39m\n"
     ]
    },
    {
     "name": "stdout",
     "output_type": "stream",
     "text": [
      "383.011065 seconds (6.55 G allocations: 601.927 GiB, 20.90% gc time)\n",
      "Ne = 60\n",
      "Ne 60 & β 0.99 & Lrad 4.0 & nonid_rad 12.0 & RMSE: 1.21763214955185\n",
      "(Ne, β, Lrad, nonid_rad) = (60, 0.99, 5.0, 1.0)\n"
     ]
    },
    {
     "name": "stderr",
     "output_type": "stream",
     "text": [
      "\u001b[32mProgress: 100%|█████████████████████████████████████████| Time: 0:00:55\u001b[39m\n"
     ]
    },
    {
     "name": "stdout",
     "output_type": "stream",
     "text": [
      " 55.754299 seconds (849.14 M allocations: 75.659 GiB, 17.89% gc time)\n",
      "Ne = 60\n",
      "Ne 60 & β 0.99 & Lrad 5.0 & nonid_rad 1.0 & RMSE: 1.273280711551119\n",
      "(Ne, β, Lrad, nonid_rad) = (60, 0.99, 5.0, 2.0)\n"
     ]
    },
    {
     "name": "stderr",
     "output_type": "stream",
     "text": [
      "\u001b[32mProgress: 100%|█████████████████████████████████████████| Time: 0:01:16\u001b[39m\n"
     ]
    },
    {
     "name": "stdout",
     "output_type": "stream",
     "text": [
      " 76.884086 seconds (1.31 G allocations: 109.408 GiB, 19.35% gc time)\n",
      "Ne = 60\n",
      "Ne 60 & β 0.99 & Lrad 5.0 & nonid_rad 2.0 & RMSE: 1.2810303014054583\n",
      "(Ne, β, Lrad, nonid_rad) = (60, 0.99, 5.0, 3.0)\n"
     ]
    },
    {
     "name": "stderr",
     "output_type": "stream",
     "text": [
      "\u001b[32mProgress: 100%|█████████████████████████████████████████| Time: 0:01:40\u001b[39m\n"
     ]
    },
    {
     "name": "stdout",
     "output_type": "stream",
     "text": [
      "100.478440 seconds (1.80 G allocations: 145.759 GiB, 20.11% gc time)\n",
      "Ne = 60\n",
      "Ne 60 & β 0.99 & Lrad 5.0 & nonid_rad 3.0 & RMSE: 1.1030058479407132\n",
      "(Ne, β, Lrad, nonid_rad) = (60, 0.99, 5.0, 4.0)\n"
     ]
    },
    {
     "name": "stderr",
     "output_type": "stream",
     "text": [
      "\u001b[32mProgress: 100%|█████████████████████████████████████████| Time: 0:02:04\u001b[39m\n"
     ]
    },
    {
     "name": "stdout",
     "output_type": "stream",
     "text": [
      "124.962732 seconds (2.29 G allocations: 182.540 GiB, 20.37% gc time)\n",
      "Ne = 60\n",
      "Ne 60 & β 0.99 & Lrad 5.0 & nonid_rad 4.0 & RMSE: 1.1144566885463996\n",
      "(Ne, β, Lrad, nonid_rad) = (60, 0.99, 5.0, 5.0)\n"
     ]
    },
    {
     "name": "stderr",
     "output_type": "stream",
     "text": [
      "\u001b[32mProgress: 100%|█████████████████████████████████████████| Time: 0:02:31\u001b[39m\n"
     ]
    },
    {
     "name": "stdout",
     "output_type": "stream",
     "text": [
      "151.816456 seconds (2.80 G allocations: 227.480 GiB, 20.13% gc time)\n",
      "Ne = 60\n",
      "Ne 60 & β 0.99 & Lrad 5.0 & nonid_rad 5.0 & RMSE: 1.1763137024242705\n",
      "(Ne, β, Lrad, nonid_rad) = (60, 0.99, 5.0, 6.0)\n"
     ]
    },
    {
     "name": "stderr",
     "output_type": "stream",
     "text": [
      "\u001b[32mProgress: 100%|█████████████████████████████████████████| Time: 0:03:03\u001b[39m\n"
     ]
    },
    {
     "name": "stdout",
     "output_type": "stream",
     "text": [
      "183.062889 seconds (3.35 G allocations: 280.572 GiB, 20.73% gc time)\n",
      "Ne = 60\n",
      "Ne 60 & β 0.99 & Lrad 5.0 & nonid_rad 6.0 & RMSE: 1.1762009178679942\n",
      "(Ne, β, Lrad, nonid_rad) = (60, 0.99, 5.0, 7.0)\n"
     ]
    },
    {
     "name": "stderr",
     "output_type": "stream",
     "text": [
      "\u001b[32mProgress: 100%|█████████████████████████████████████████| Time: 0:03:36\u001b[39m\n"
     ]
    },
    {
     "name": "stdout",
     "output_type": "stream",
     "text": [
      "216.255230 seconds (3.89 G allocations: 334.104 GiB, 21.28% gc time)\n",
      "Ne = 60\n",
      "Ne 60 & β 0.99 & Lrad 5.0 & nonid_rad 7.0 & RMSE: 1.2180665155824733\n",
      "(Ne, β, Lrad, nonid_rad) = (60, 0.99, 5.0, 8.0)\n"
     ]
    },
    {
     "name": "stderr",
     "output_type": "stream",
     "text": [
      "\u001b[32mProgress: 100%|█████████████████████████████████████████| Time: 0:04:07\u001b[39m\n"
     ]
    },
    {
     "name": "stdout",
     "output_type": "stream",
     "text": [
      "247.737205 seconds (4.44 G allocations: 383.268 GiB, 21.15% gc time)\n",
      "Ne = 60\n",
      "Ne 60 & β 0.99 & Lrad 5.0 & nonid_rad 8.0 & RMSE: 1.243948503902439\n",
      "(Ne, β, Lrad, nonid_rad) = (60, 0.99, 5.0, 9.0)\n"
     ]
    },
    {
     "name": "stderr",
     "output_type": "stream",
     "text": [
      "\u001b[32mProgress: 100%|█████████████████████████████████████████| Time: 0:04:39\u001b[39m\n"
     ]
    },
    {
     "name": "stdout",
     "output_type": "stream",
     "text": [
      "279.196925 seconds (4.99 G allocations: 428.070 GiB, 20.81% gc time)\n",
      "Ne = 60\n",
      "Ne 60 & β 0.99 & Lrad 5.0 & nonid_rad 9.0 & RMSE: 1.3644095610929976\n",
      "(Ne, β, Lrad, nonid_rad) = (60, 0.99, 5.0, 10.0)\n"
     ]
    },
    {
     "name": "stderr",
     "output_type": "stream",
     "text": [
      "\u001b[32mProgress: 100%|█████████████████████████████████████████| Time: 0:05:12\u001b[39m\n"
     ]
    },
    {
     "name": "stdout",
     "output_type": "stream",
     "text": [
      "312.956283 seconds (5.53 G allocations: 473.304 GiB, 20.61% gc time)\n",
      "Ne = 60\n",
      "Ne 60 & β 0.99 & Lrad 5.0 & nonid_rad 10.0 & RMSE: 1.2913365391136566\n",
      "(Ne, β, Lrad, nonid_rad) = (60, 0.99, 5.0, 11.0)\n"
     ]
    },
    {
     "name": "stderr",
     "output_type": "stream",
     "text": [
      "\u001b[32mProgress: 100%|█████████████████████████████████████████| Time: 0:05:53\u001b[39m\n"
     ]
    },
    {
     "name": "stdout",
     "output_type": "stream",
     "text": [
      "353.592094 seconds (6.14 G allocations: 545.291 GiB, 20.65% gc time)\n",
      "Ne = 60\n",
      "Ne 60 & β 0.99 & Lrad 5.0 & nonid_rad 11.0 & RMSE: 1.4652027000946701\n",
      "(Ne, β, Lrad, nonid_rad) = (60, 0.99, 5.0, 12.0)\n"
     ]
    },
    {
     "name": "stderr",
     "output_type": "stream",
     "text": [
      "\u001b[32mProgress: 100%|█████████████████████████████████████████| Time: 0:06:36\u001b[39m\n"
     ]
    },
    {
     "name": "stdout",
     "output_type": "stream",
     "text": [
      "396.063225 seconds (6.74 G allocations: 617.715 GiB, 20.61% gc time)\n",
      "Ne = 60\n",
      "Ne 60 & β 0.99 & Lrad 5.0 & nonid_rad 12.0 & RMSE: 1.283961166206495\n",
      "(Ne, β, Lrad, nonid_rad) = (60, 0.99, 6.0, 1.0)\n"
     ]
    },
    {
     "name": "stderr",
     "output_type": "stream",
     "text": [
      "\u001b[32mProgress: 100%|█████████████████████████████████████████| Time: 0:00:56\u001b[39m\n"
     ]
    },
    {
     "name": "stdout",
     "output_type": "stream",
     "text": [
      " 56.134861 seconds (849.14 M allocations: 75.659 GiB, 18.43% gc time)\n",
      "Ne = 60\n",
      "Ne 60 & β 0.99 & Lrad 6.0 & nonid_rad 1.0 & RMSE: 1.29541842634792\n",
      "(Ne, β, Lrad, nonid_rad) = (60, 0.99, 6.0, 2.0)\n"
     ]
    },
    {
     "name": "stderr",
     "output_type": "stream",
     "text": [
      "\u001b[32mProgress: 100%|█████████████████████████████████████████| Time: 0:01:17\u001b[39m\n"
     ]
    },
    {
     "name": "stdout",
     "output_type": "stream",
     "text": [
      " 77.551113 seconds (1.31 G allocations: 109.409 GiB, 19.62% gc time)\n",
      "Ne = 60\n",
      "Ne 60 & β 0.99 & Lrad 6.0 & nonid_rad 2.0 & RMSE: 1.2592219695178533\n",
      "(Ne, β, Lrad, nonid_rad) = (60, 0.99, 6.0, 3.0)\n"
     ]
    },
    {
     "name": "stderr",
     "output_type": "stream",
     "text": [
      "\u001b[32mProgress: 100%|█████████████████████████████████████████| Time: 0:01:40\u001b[39m\n"
     ]
    },
    {
     "name": "stdout",
     "output_type": "stream",
     "text": [
      "100.190678 seconds (1.81 G allocations: 146.371 GiB, 19.50% gc time)\n",
      "Ne = 60\n",
      "Ne 60 & β 0.99 & Lrad 6.0 & nonid_rad 3.0 & RMSE: 1.1070999270461925\n",
      "(Ne, β, Lrad, nonid_rad) = (60, 0.99, 6.0, 4.0)\n"
     ]
    },
    {
     "name": "stderr",
     "output_type": "stream",
     "text": [
      "\u001b[32mProgress: 100%|█████████████████████████████████████████| Time: 0:02:05\u001b[39m\n"
     ]
    },
    {
     "name": "stdout",
     "output_type": "stream",
     "text": [
      "125.882297 seconds (2.31 G allocations: 184.378 GiB, 20.01% gc time)\n",
      "Ne = 60\n",
      "Ne 60 & β 0.99 & Lrad 6.0 & nonid_rad 4.0 & RMSE: 1.0935103394449934\n",
      "(Ne, β, Lrad, nonid_rad) = (60, 0.99, 6.0, 5.0)\n"
     ]
    },
    {
     "name": "stderr",
     "output_type": "stream",
     "text": [
      "\u001b[32mProgress: 100%|█████████████████████████████████████████| Time: 0:02:36\u001b[39m\n"
     ]
    },
    {
     "name": "stdout",
     "output_type": "stream",
     "text": [
      "156.535368 seconds (2.85 G allocations: 230.544 GiB, 20.55% gc time)\n",
      "Ne = 60\n",
      "Ne 60 & β 0.99 & Lrad 6.0 & nonid_rad 5.0 & RMSE: 1.2397375444100123\n",
      "(Ne, β, Lrad, nonid_rad) = (60, 0.99, 6.0, 6.0)\n"
     ]
    },
    {
     "name": "stderr",
     "output_type": "stream",
     "text": [
      "\u001b[32mProgress: 100%|█████████████████████████████████████████| Time: 0:03:08\u001b[39m\n"
     ]
    },
    {
     "name": "stdout",
     "output_type": "stream",
     "text": [
      "188.602664 seconds (3.42 G allocations: 284.861 GiB, 21.05% gc time)\n",
      "Ne = 60\n",
      "Ne 60 & β 0.99 & Lrad 6.0 & nonid_rad 6.0 & RMSE: 1.2278340578045286\n",
      "(Ne, β, Lrad, nonid_rad) = (60, 0.99, 6.0, 7.0)\n"
     ]
    },
    {
     "name": "stderr",
     "output_type": "stream",
     "text": [
      "\u001b[32mProgress: 100%|█████████████████████████████████████████| Time: 0:03:39\u001b[39m\n"
     ]
    },
    {
     "name": "stdout",
     "output_type": "stream",
     "text": [
      "219.115683 seconds (3.98 G allocations: 339.619 GiB, 20.54% gc time)\n",
      "Ne = 60\n",
      "Ne 60 & β 0.99 & Lrad 6.0 & nonid_rad 7.0 & RMSE: 1.3074230349927725\n",
      "(Ne, β, Lrad, nonid_rad) = (60, 0.99, 6.0, 8.0)\n"
     ]
    },
    {
     "name": "stderr",
     "output_type": "stream",
     "text": [
      "\u001b[32mProgress: 100%|█████████████████████████████████████████| Time: 0:04:12\u001b[39m\n"
     ]
    },
    {
     "name": "stdout",
     "output_type": "stream",
     "text": [
      "252.705373 seconds (4.55 G allocations: 390.008 GiB, 20.65% gc time)\n",
      "Ne = 60\n",
      "Ne 60 & β 0.99 & Lrad 6.0 & nonid_rad 8.0 & RMSE: 1.2498355740341298\n",
      "(Ne, β, Lrad, nonid_rad) = (60, 0.99, 6.0, 9.0)\n"
     ]
    },
    {
     "name": "stderr",
     "output_type": "stream",
     "text": [
      "\u001b[32mProgress: 100%|█████████████████████████████████████████| Time: 0:04:45\u001b[39m\n"
     ]
    },
    {
     "name": "stdout",
     "output_type": "stream",
     "text": [
      "285.003063 seconds (5.11 G allocations: 436.036 GiB, 20.42% gc time)\n",
      "Ne = 60\n",
      "Ne 60 & β 0.99 & Lrad 6.0 & nonid_rad 9.0 & RMSE: 1.432984129577774\n",
      "(Ne, β, Lrad, nonid_rad) = (60, 0.99, 6.0, 10.0)\n"
     ]
    },
    {
     "name": "stderr",
     "output_type": "stream",
     "text": [
      "\u001b[32mProgress: 100%|█████████████████████████████████████████| Time: 0:05:19\u001b[39m\n"
     ]
    },
    {
     "name": "stdout",
     "output_type": "stream",
     "text": [
      "319.944817 seconds (5.68 G allocations: 482.495 GiB, 20.25% gc time)\n",
      "Ne = 60\n",
      "Ne 60 & β 0.99 & Lrad 6.0 & nonid_rad 10.0 & RMSE: 1.5448718466268911\n",
      "(Ne, β, Lrad, nonid_rad) = (60, 0.99, 6.0, 11.0)\n"
     ]
    },
    {
     "name": "stderr",
     "output_type": "stream",
     "text": [
      "\u001b[32mProgress: 100%|█████████████████████████████████████████| Time: 0:06:02\u001b[39m\n"
     ]
    },
    {
     "name": "stdout",
     "output_type": "stream",
     "text": [
      "362.588025 seconds (6.30 G allocations: 555.707 GiB, 20.57% gc time)\n",
      "Ne = 60\n",
      "Ne 60 & β 0.99 & Lrad 6.0 & nonid_rad 11.0 & RMSE: 1.5519748716205488\n",
      "(Ne, β, Lrad, nonid_rad) = (60, 0.99, 6.0, 12.0)\n"
     ]
    },
    {
     "name": "stderr",
     "output_type": "stream",
     "text": [
      "\u001b[32mProgress: 100%|█████████████████████████████████████████| Time: 0:06:48\u001b[39m\n"
     ]
    },
    {
     "name": "stdout",
     "output_type": "stream",
     "text": [
      "408.390084 seconds (6.92 G allocations: 629.361 GiB, 20.64% gc time)\n",
      "Ne = 60\n",
      "Ne 60 & β 0.99 & Lrad 6.0 & nonid_rad 12.0 & RMSE: 1.5830767894979336\n",
      "(Ne, β, Lrad, nonid_rad) = (60, 0.99, 7.0, 1.0)\n"
     ]
    },
    {
     "name": "stderr",
     "output_type": "stream",
     "text": [
      "\u001b[32mProgress: 100%|█████████████████████████████████████████| Time: 0:00:56\u001b[39m\n"
     ]
    },
    {
     "name": "stdout",
     "output_type": "stream",
     "text": [
      " 56.301022 seconds (849.14 M allocations: 75.659 GiB, 18.58% gc time)\n",
      "Ne = 60\n",
      "Ne 60 & β 0.99 & Lrad 7.0 & nonid_rad 1.0 & RMSE: 1.287940615486379\n",
      "(Ne, β, Lrad, nonid_rad) = (60, 0.99, 7.0, 2.0)\n"
     ]
    },
    {
     "name": "stderr",
     "output_type": "stream",
     "text": [
      "\u001b[32mProgress: 100%|█████████████████████████████████████████| Time: 0:01:17\u001b[39m\n"
     ]
    },
    {
     "name": "stdout",
     "output_type": "stream",
     "text": [
      " 77.509003 seconds (1.31 G allocations: 109.409 GiB, 19.82% gc time)\n",
      "Ne = 60\n",
      "Ne 60 & β 0.99 & Lrad 7.0 & nonid_rad 2.0 & RMSE: 1.268491722750011\n",
      "(Ne, β, Lrad, nonid_rad) = (60, 0.99, 7.0, 3.0)\n"
     ]
    },
    {
     "name": "stderr",
     "output_type": "stream",
     "text": [
      "\u001b[32mProgress: 100%|█████████████████████████████████████████| Time: 0:01:40\u001b[39m\n"
     ]
    },
    {
     "name": "stdout",
     "output_type": "stream",
     "text": [
      "100.678585 seconds (1.81 G allocations: 146.371 GiB, 19.68% gc time)\n",
      "Ne = 60\n",
      "Ne 60 & β 0.99 & Lrad 7.0 & nonid_rad 3.0 & RMSE: 1.0979654684045668\n",
      "(Ne, β, Lrad, nonid_rad) = (60, 0.99, 7.0, 4.0)\n"
     ]
    },
    {
     "name": "stderr",
     "output_type": "stream",
     "text": [
      "\u001b[32mProgress: 100%|█████████████████████████████████████████| Time: 0:02:08\u001b[39m\n"
     ]
    },
    {
     "name": "stdout",
     "output_type": "stream",
     "text": [
      "128.238467 seconds (2.33 G allocations: 185.981 GiB, 20.08% gc time)\n",
      "Ne = 60\n",
      "Ne 60 & β 0.99 & Lrad 7.0 & nonid_rad 4.0 & RMSE: 1.089302184678344\n",
      "(Ne, β, Lrad, nonid_rad) = (60, 0.99, 7.0, 5.0)\n"
     ]
    },
    {
     "name": "stderr",
     "output_type": "stream",
     "text": [
      "\u001b[32mProgress: 100%|█████████████████████████████████████████| Time: 0:02:38\u001b[39m\n"
     ]
    },
    {
     "name": "stdout",
     "output_type": "stream",
     "text": [
      "158.458706 seconds (2.89 G allocations: 233.748 GiB, 20.57% gc time)\n",
      "Ne = 60\n",
      "Ne 60 & β 0.99 & Lrad 7.0 & nonid_rad 5.0 & RMSE: 1.2147380887797332\n",
      "(Ne, β, Lrad, nonid_rad) = (60, 0.99, 7.0, 6.0)\n"
     ]
    },
    {
     "name": "stderr",
     "output_type": "stream",
     "text": [
      "\u001b[32mProgress: 100%|█████████████████████████████████████████| Time: 0:03:08\u001b[39m\n"
     ]
    },
    {
     "name": "stdout",
     "output_type": "stream",
     "text": [
      "188.499182 seconds (3.47 G allocations: 289.668 GiB, 20.13% gc time)\n",
      "Ne = 60\n",
      "Ne 60 & β 0.99 & Lrad 7.0 & nonid_rad 6.0 & RMSE: 1.1292933329825237\n",
      "(Ne, β, Lrad, nonid_rad) = (60, 0.99, 7.0, 7.0)\n"
     ]
    },
    {
     "name": "stderr",
     "output_type": "stream",
     "text": [
      "\u001b[32mProgress: 100%|█████████████████████████████████████████| Time: 0:03:43\u001b[39m\n"
     ]
    },
    {
     "name": "stdout",
     "output_type": "stream",
     "text": [
      "223.948818 seconds (4.06 G allocations: 346.028 GiB, 20.68% gc time)\n",
      "Ne = 60\n",
      "Ne 60 & β 0.99 & Lrad 7.0 & nonid_rad 7.0 & RMSE: 1.3527802363256438\n",
      "(Ne, β, Lrad, nonid_rad) = (60, 0.99, 7.0, 8.0)\n"
     ]
    },
    {
     "name": "stderr",
     "output_type": "stream",
     "text": [
      "\u001b[32mProgress: 100%|█████████████████████████████████████████| Time: 0:04:18\u001b[39m\n"
     ]
    },
    {
     "name": "stdout",
     "output_type": "stream",
     "text": [
      "258.768358 seconds (4.64 G allocations: 398.018 GiB, 20.75% gc time)\n",
      "Ne = 60\n",
      "Ne 60 & β 0.99 & Lrad 7.0 & nonid_rad 8.0 & RMSE: 1.4444374493017398\n",
      "(Ne, β, Lrad, nonid_rad) = (60, 0.99, 7.0, 9.0)\n"
     ]
    },
    {
     "name": "stderr",
     "output_type": "stream",
     "text": [
      "\u001b[32mProgress: 100%|█████████████████████████████████████████| Time: 0:04:51\u001b[39m\n"
     ]
    },
    {
     "name": "stdout",
     "output_type": "stream",
     "text": [
      "291.667706 seconds (5.23 G allocations: 445.649 GiB, 20.40% gc time)\n",
      "Ne = 60\n",
      "Ne 60 & β 0.99 & Lrad 7.0 & nonid_rad 9.0 & RMSE: 1.6330044034288178\n",
      "(Ne, β, Lrad, nonid_rad) = (60, 0.99, 7.0, 10.0)\n"
     ]
    },
    {
     "name": "stderr",
     "output_type": "stream",
     "text": [
      "\u001b[32mProgress: 100%|█████████████████████████████████████████| Time: 0:05:28\u001b[39m\n"
     ]
    },
    {
     "name": "stdout",
     "output_type": "stream",
     "text": [
      "328.950792 seconds (5.81 G allocations: 493.710 GiB, 20.51% gc time)\n",
      "Ne = 60\n",
      "Ne 60 & β 0.99 & Lrad 7.0 & nonid_rad 10.0 & RMSE: 1.6218516661044546\n",
      "(Ne, β, Lrad, nonid_rad) = (60, 0.99, 7.0, 11.0)\n"
     ]
    },
    {
     "name": "stderr",
     "output_type": "stream",
     "text": [
      "\u001b[32mProgress: 100%|█████████████████████████████████████████| Time: 0:06:10\u001b[39m\n"
     ]
    },
    {
     "name": "stdout",
     "output_type": "stream",
     "text": [
      "370.590953 seconds (6.46 G allocations: 568.525 GiB, 20.44% gc time)\n",
      "Ne = 60\n",
      "Ne 60 & β 0.99 & Lrad 7.0 & nonid_rad 11.0 & RMSE: 1.6417277355545872\n",
      "(Ne, β, Lrad, nonid_rad) = (60, 0.99, 7.0, 12.0)\n"
     ]
    },
    {
     "name": "stderr",
     "output_type": "stream",
     "text": [
      "\u001b[32mProgress: 100%|█████████████████████████████████████████| Time: 0:06:58\u001b[39m\n"
     ]
    },
    {
     "name": "stdout",
     "output_type": "stream",
     "text": [
      "418.748748 seconds (7.10 G allocations: 643.790 GiB, 20.53% gc time)\n",
      "Ne = 60\n",
      "Ne 60 & β 0.99 & Lrad 7.0 & nonid_rad 12.0 & RMSE: 1.6617702386880613\n",
      "(Ne, β, Lrad, nonid_rad) = (60, 0.99, 8.0, 1.0)\n"
     ]
    },
    {
     "name": "stderr",
     "output_type": "stream",
     "text": [
      "\u001b[32mProgress: 100%|█████████████████████████████████████████| Time: 0:00:56\u001b[39m\n"
     ]
    },
    {
     "name": "stdout",
     "output_type": "stream",
     "text": [
      " 56.388896 seconds (849.14 M allocations: 75.659 GiB, 18.25% gc time)\n",
      "Ne = 60\n",
      "Ne 60 & β 0.99 & Lrad 8.0 & nonid_rad 1.0 & RMSE: 1.2911348315881086\n",
      "(Ne, β, Lrad, nonid_rad) = (60, 0.99, 8.0, 2.0)\n"
     ]
    },
    {
     "name": "stderr",
     "output_type": "stream",
     "text": [
      "\u001b[32mProgress: 100%|█████████████████████████████████████████| Time: 0:01:17\u001b[39m\n"
     ]
    },
    {
     "name": "stdout",
     "output_type": "stream",
     "text": [
      " 77.413571 seconds (1.31 G allocations: 109.409 GiB, 19.65% gc time)\n",
      "Ne = 60\n",
      "Ne 60 & β 0.99 & Lrad 8.0 & nonid_rad 2.0 & RMSE: 1.2577543220175371\n",
      "(Ne, β, Lrad, nonid_rad) = (60, 0.99, 8.0, 3.0)\n"
     ]
    },
    {
     "name": "stderr",
     "output_type": "stream",
     "text": [
      "\u001b[32mProgress: 100%|█████████████████████████████████████████| Time: 0:01:41\u001b[39m\n"
     ]
    },
    {
     "name": "stdout",
     "output_type": "stream",
     "text": [
      "101.502302 seconds (1.81 G allocations: 146.371 GiB, 20.22% gc time)\n",
      "Ne = 60\n",
      "Ne 60 & β 0.99 & Lrad 8.0 & nonid_rad 3.0 & RMSE: 1.087857565305625\n",
      "(Ne, β, Lrad, nonid_rad) = (60, 0.99, 8.0, 4.0)\n"
     ]
    },
    {
     "name": "stderr",
     "output_type": "stream",
     "text": [
      "\u001b[32mProgress: 100%|█████████████████████████████████████████| Time: 0:02:07\u001b[39m\n"
     ]
    },
    {
     "name": "stdout",
     "output_type": "stream",
     "text": [
      "127.876659 seconds (2.34 G allocations: 186.608 GiB, 19.75% gc time)\n",
      "Ne = 60\n",
      "Ne 60 & β 0.99 & Lrad 8.0 & nonid_rad 4.0 & RMSE: 1.1270465898023725\n",
      "(Ne, β, Lrad, nonid_rad) = (60, 0.99, 8.0, 5.0)\n"
     ]
    },
    {
     "name": "stderr",
     "output_type": "stream",
     "text": [
      "\u001b[32mProgress: 100%|█████████████████████████████████████████| Time: 0:02:39\u001b[39m\n"
     ]
    },
    {
     "name": "stdout",
     "output_type": "stream",
     "text": [
      "159.730156 seconds (2.92 G allocations: 235.629 GiB, 20.35% gc time)\n",
      "Ne = 60\n",
      "Ne 60 & β 0.99 & Lrad 8.0 & nonid_rad 5.0 & RMSE: 1.147355241945388\n",
      "(Ne, β, Lrad, nonid_rad) = (60, 0.99, 8.0, 6.0)\n"
     ]
    },
    {
     "name": "stderr",
     "output_type": "stream",
     "text": [
      "\u001b[32mProgress: 100%|█████████████████████████████████████████| Time: 0:03:14\u001b[39m\n"
     ]
    },
    {
     "name": "stdout",
     "output_type": "stream",
     "text": [
      "194.886567 seconds (3.52 G allocations: 292.804 GiB, 20.85% gc time)\n",
      "Ne = 60\n",
      "Ne 60 & β 0.99 & Lrad 8.0 & nonid_rad 6.0 & RMSE: 1.2314276416364855\n",
      "(Ne, β, Lrad, nonid_rad) = (60, 0.99, 8.0, 7.0)\n"
     ]
    },
    {
     "name": "stderr",
     "output_type": "stream",
     "text": [
      "\u001b[32mProgress: 100%|█████████████████████████████████████████| Time: 0:03:49\u001b[39m\n"
     ]
    },
    {
     "name": "stdout",
     "output_type": "stream",
     "text": [
      "229.428116 seconds (4.13 G allocations: 350.417 GiB, 21.15% gc time)\n",
      "Ne = 60\n",
      "Ne 60 & β 0.99 & Lrad 8.0 & nonid_rad 7.0 & RMSE: 1.2838511990541515\n",
      "(Ne, β, Lrad, nonid_rad) = (60, 0.99, 8.0, 8.0)\n"
     ]
    },
    {
     "name": "stderr",
     "output_type": "stream",
     "text": [
      "\u001b[32mProgress: 100%|█████████████████████████████████████████| Time: 0:04:22\u001b[39m\n"
     ]
    },
    {
     "name": "stdout",
     "output_type": "stream",
     "text": [
      "262.515116 seconds (4.73 G allocations: 403.662 GiB, 20.50% gc time)\n",
      "Ne = 60\n",
      "Ne 60 & β 0.99 & Lrad 8.0 & nonid_rad 8.0 & RMSE: 1.3570574958639319\n",
      "(Ne, β, Lrad, nonid_rad) = (60, 0.99, 8.0, 9.0)\n"
     ]
    },
    {
     "name": "stderr",
     "output_type": "stream",
     "text": [
      "\u001b[32mProgress: 100%|█████████████████████████████████████████| Time: 0:04:58\u001b[39m\n"
     ]
    },
    {
     "name": "stdout",
     "output_type": "stream",
     "text": [
      "298.740253 seconds (5.33 G allocations: 452.546 GiB, 20.62% gc time)\n",
      "Ne = 60\n",
      "Ne 60 & β 0.99 & Lrad 8.0 & nonid_rad 9.0 & RMSE: 1.4954931109369467\n",
      "(Ne, β, Lrad, nonid_rad) = (60, 0.99, 8.0, 10.0)\n"
     ]
    },
    {
     "name": "stderr",
     "output_type": "stream",
     "text": [
      "\u001b[32mProgress: 100%|█████████████████████████████████████████| Time: 0:05:34\u001b[39m\n"
     ]
    },
    {
     "name": "stdout",
     "output_type": "stream",
     "text": [
      "334.592628 seconds (5.94 G allocations: 501.862 GiB, 20.33% gc time)\n",
      "Ne = 60\n",
      "Ne 60 & β 0.99 & Lrad 8.0 & nonid_rad 10.0 & RMSE: 1.8886154179687542\n",
      "(Ne, β, Lrad, nonid_rad) = (60, 0.99, 8.0, 11.0)\n"
     ]
    },
    {
     "name": "stderr",
     "output_type": "stream",
     "text": [
      "\u001b[32mProgress: 100%|█████████████████████████████████████████| Time: 0:06:19\u001b[39m\n"
     ]
    },
    {
     "name": "stdout",
     "output_type": "stream",
     "text": [
      "379.933502 seconds (6.60 G allocations: 577.931 GiB, 20.52% gc time)\n",
      "Ne = 60\n",
      "Ne 60 & β 0.99 & Lrad 8.0 & nonid_rad 11.0 & RMSE: 1.9094749591230267\n",
      "(Ne, β, Lrad, nonid_rad) = (60, 0.99, 8.0, 12.0)\n"
     ]
    },
    {
     "name": "stderr",
     "output_type": "stream",
     "text": [
      "\u001b[32mProgress: 100%|█████████████████████████████████████████| Time: 0:07:10\u001b[39m\n"
     ]
    },
    {
     "name": "stdout",
     "output_type": "stream",
     "text": [
      "430.977204 seconds (7.26 G allocations: 654.455 GiB, 20.65% gc time)\n",
      "Ne = 60\n",
      "Ne 60 & β 0.99 & Lrad 8.0 & nonid_rad 12.0 & RMSE: 1.8753594576806185\n",
      "(Ne, β, Lrad, nonid_rad) = (60, 0.99, 9.0, 1.0)\n"
     ]
    },
    {
     "name": "stderr",
     "output_type": "stream",
     "text": [
      "\u001b[32mProgress: 100%|█████████████████████████████████████████| Time: 0:00:56\u001b[39m\n"
     ]
    },
    {
     "name": "stdout",
     "output_type": "stream",
     "text": [
      " 56.366163 seconds (849.14 M allocations: 75.659 GiB, 18.41% gc time)\n",
      "Ne = 60\n",
      "Ne 60 & β 0.99 & Lrad 9.0 & nonid_rad 1.0 & RMSE: 1.2786415185694564\n",
      "(Ne, β, Lrad, nonid_rad) = (60, 0.99, 9.0, 2.0)\n"
     ]
    },
    {
     "name": "stderr",
     "output_type": "stream",
     "text": [
      "\u001b[32mProgress: 100%|█████████████████████████████████████████| Time: 0:01:16\u001b[39m\n"
     ]
    },
    {
     "name": "stdout",
     "output_type": "stream",
     "text": [
      " 76.574623 seconds (1.31 G allocations: 109.408 GiB, 19.00% gc time)\n",
      "Ne = 60\n",
      "Ne 60 & β 0.99 & Lrad 9.0 & nonid_rad 2.0 & RMSE: 1.2741832318371076\n",
      "(Ne, β, Lrad, nonid_rad) = (60, 0.99, 9.0, 3.0)\n"
     ]
    },
    {
     "name": "stderr",
     "output_type": "stream",
     "text": [
      "\u001b[32mProgress: 100%|█████████████████████████████████████████| Time: 0:01:40\u001b[39m\n"
     ]
    },
    {
     "name": "stdout",
     "output_type": "stream",
     "text": [
      "100.667927 seconds (1.81 G allocations: 146.371 GiB, 19.75% gc time)\n",
      "Ne = 60\n",
      "Ne 60 & β 0.99 & Lrad 9.0 & nonid_rad 3.0 & RMSE: 1.0941950377373324\n",
      "(Ne, β, Lrad, nonid_rad) = (60, 0.99, 9.0, 4.0)\n"
     ]
    },
    {
     "name": "stderr",
     "output_type": "stream",
     "text": [
      "\u001b[32mProgress: 100%|█████████████████████████████████████████| Time: 0:02:08\u001b[39m\n"
     ]
    },
    {
     "name": "stdout",
     "output_type": "stream",
     "text": [
      "128.551316 seconds (2.34 G allocations: 186.608 GiB, 20.18% gc time)\n",
      "Ne = 60\n",
      "Ne 60 & β 0.99 & Lrad 9.0 & nonid_rad 4.0 & RMSE: 1.0957473149384582\n",
      "(Ne, β, Lrad, nonid_rad) = (60, 0.99, 9.0, 5.0)\n"
     ]
    },
    {
     "name": "stderr",
     "output_type": "stream",
     "text": [
      "\u001b[32mProgress: 100%|█████████████████████████████████████████| Time: 0:02:41\u001b[39m\n"
     ]
    },
    {
     "name": "stdout",
     "output_type": "stream",
     "text": [
      "161.786884 seconds (2.94 G allocations: 237.284 GiB, 20.59% gc time)\n",
      "Ne = 60\n",
      "Ne 60 & β 0.99 & Lrad 9.0 & nonid_rad 5.0 & RMSE: 1.1393887009269916\n",
      "(Ne, β, Lrad, nonid_rad) = (60, 0.99, 9.0, 6.0)\n"
     ]
    },
    {
     "name": "stderr",
     "output_type": "stream",
     "text": [
      "\u001b[32mProgress: 100%|█████████████████████████████████████████| Time: 0:03:15\u001b[39m\n"
     ]
    },
    {
     "name": "stdout",
     "output_type": "stream",
     "text": [
      "195.131039 seconds (3.56 G allocations: 296.114 GiB, 20.21% gc time)\n",
      "Ne = 60\n",
      "Ne 60 & β 0.99 & Lrad 9.0 & nonid_rad 6.0 & RMSE: 1.1884158928317943\n",
      "(Ne, β, Lrad, nonid_rad) = (60, 0.99, 9.0, 7.0)\n"
     ]
    },
    {
     "name": "stderr",
     "output_type": "stream",
     "text": [
      "\u001b[32mProgress: 100%|█████████████████████████████████████████| Time: 0:03:52\u001b[39m\n"
     ]
    },
    {
     "name": "stdout",
     "output_type": "stream",
     "text": [
      "232.485883 seconds (4.18 G allocations: 355.381 GiB, 20.85% gc time)\n",
      "Ne = 60\n",
      "Ne 60 & β 0.99 & Lrad 9.0 & nonid_rad 7.0 & RMSE: 1.2907270650108145\n",
      "(Ne, β, Lrad, nonid_rad) = (60, 0.99, 9.0, 8.0)\n"
     ]
    },
    {
     "name": "stderr",
     "output_type": "stream",
     "text": [
      "\u001b[32mProgress: 100%|█████████████████████████████████████████| Time: 0:04:29\u001b[39m\n"
     ]
    },
    {
     "name": "stdout",
     "output_type": "stream",
     "text": [
      "269.239065 seconds (4.81 G allocations: 410.280 GiB, 20.77% gc time)\n",
      "Ne = 60\n",
      "Ne 60 & β 0.99 & Lrad 9.0 & nonid_rad 8.0 & RMSE: 1.3902168511833648\n",
      "(Ne, β, Lrad, nonid_rad) = (60, 0.99, 9.0, 9.0)\n"
     ]
    },
    {
     "name": "stderr",
     "output_type": "stream",
     "text": [
      "\u001b[32mProgress: 100%|█████████████████████████████████████████| Time: 0:05:06\u001b[39m\n"
     ]
    },
    {
     "name": "stdout",
     "output_type": "stream",
     "text": [
      "306.320279 seconds (5.43 G allocations: 460.819 GiB, 20.81% gc time)\n",
      "Ne = 60\n",
      "Ne 60 & β 0.99 & Lrad 9.0 & nonid_rad 9.0 & RMSE: 1.8253147434475487\n",
      "(Ne, β, Lrad, nonid_rad) = (60, 0.99, 9.0, 10.0)\n"
     ]
    },
    {
     "name": "stderr",
     "output_type": "stream",
     "text": [
      "\u001b[32mProgress: 100%|█████████████████████████████████████████| Time: 0:05:43\u001b[39m\n"
     ]
    },
    {
     "name": "stdout",
     "output_type": "stream",
     "text": [
      "343.328364 seconds (6.05 G allocations: 511.789 GiB, 20.48% gc time)\n",
      "Ne = 60\n",
      "Ne 60 & β 0.99 & Lrad 9.0 & nonid_rad 10.0 & RMSE: 1.853866934636076\n",
      "(Ne, β, Lrad, nonid_rad) = (60, 0.99, 9.0, 11.0)\n"
     ]
    },
    {
     "name": "stderr",
     "output_type": "stream",
     "text": [
      "\u001b[32mProgress: 100%|█████████████████████████████████████████| Time: 0:06:30\u001b[39m\n"
     ]
    },
    {
     "name": "stdout",
     "output_type": "stream",
     "text": [
      "390.246243 seconds (6.74 G allocations: 589.515 GiB, 20.59% gc time)\n",
      "Ne = 60\n",
      "Ne 60 & β 0.99 & Lrad 9.0 & nonid_rad 11.0 & RMSE: 1.9058569778956542\n",
      "(Ne, β, Lrad, nonid_rad) = (60, 0.99, 9.0, 12.0)\n"
     ]
    },
    {
     "name": "stderr",
     "output_type": "stream",
     "text": [
      "\u001b[32mProgress: 100%|█████████████████████████████████████████| Time: 0:07:24\u001b[39m\n"
     ]
    },
    {
     "name": "stdout",
     "output_type": "stream",
     "text": [
      "444.128388 seconds (7.42 G allocations: 667.692 GiB, 20.63% gc time)\n",
      "Ne = 60\n",
      "Ne 60 & β 0.99 & Lrad 9.0 & nonid_rad 12.0 & RMSE: 2.1172986500913007\n",
      "(Ne, β, Lrad, nonid_rad) = (60, 0.99, 10.0, 1.0)\n"
     ]
    },
    {
     "name": "stderr",
     "output_type": "stream",
     "text": [
      "\u001b[32mProgress: 100%|█████████████████████████████████████████| Time: 0:00:56\u001b[39m\n"
     ]
    },
    {
     "name": "stdout",
     "output_type": "stream",
     "text": [
      " 56.471538 seconds (849.14 M allocations: 75.659 GiB, 18.29% gc time)\n",
      "Ne = 60\n",
      "Ne 60 & β 0.99 & Lrad 10.0 & nonid_rad 1.0 & RMSE: 1.2814771282888606\n",
      "(Ne, β, Lrad, nonid_rad) = (60, 0.99, 10.0, 2.0)\n"
     ]
    },
    {
     "name": "stderr",
     "output_type": "stream",
     "text": [
      "\u001b[32mProgress: 100%|█████████████████████████████████████████| Time: 0:01:16\u001b[39m\n"
     ]
    },
    {
     "name": "stdout",
     "output_type": "stream",
     "text": [
      " 76.853477 seconds (1.31 G allocations: 109.408 GiB, 18.91% gc time)\n",
      "Ne = 60\n",
      "Ne 60 & β 0.99 & Lrad 10.0 & nonid_rad 2.0 & RMSE: 1.2636057630161994\n",
      "(Ne, β, Lrad, nonid_rad) = (60, 0.99, 10.0, 3.0)\n"
     ]
    },
    {
     "name": "stderr",
     "output_type": "stream",
     "text": [
      "\u001b[32mProgress: 100%|█████████████████████████████████████████| Time: 0:01:40\u001b[39m\n"
     ]
    },
    {
     "name": "stdout",
     "output_type": "stream",
     "text": [
      "100.951237 seconds (1.81 G allocations: 146.371 GiB, 19.66% gc time)\n",
      "Ne = 60\n",
      "Ne 60 & β 0.99 & Lrad 10.0 & nonid_rad 3.0 & RMSE: 1.091270704989093\n",
      "(Ne, β, Lrad, nonid_rad) = (60, 0.99, 10.0, 4.0)\n"
     ]
    },
    {
     "name": "stderr",
     "output_type": "stream",
     "text": [
      "\u001b[32mProgress: 100%|█████████████████████████████████████████| Time: 0:02:09\u001b[39m\n"
     ]
    },
    {
     "name": "stdout",
     "output_type": "stream",
     "text": [
      "129.034501 seconds (2.34 G allocations: 186.608 GiB, 20.03% gc time)\n",
      "Ne = 60\n",
      "Ne 60 & β 0.99 & Lrad 10.0 & nonid_rad 4.0 & RMSE: 1.0969052773517733\n",
      "(Ne, β, Lrad, nonid_rad) = (60, 0.99, 10.0, 5.0)\n"
     ]
    },
    {
     "name": "stderr",
     "output_type": "stream",
     "text": [
      "\u001b[32mProgress: 100%|█████████████████████████████████████████| Time: 0:02:46\u001b[39m\n"
     ]
    },
    {
     "name": "stdout",
     "output_type": "stream",
     "text": [
      "166.188887 seconds (2.98 G allocations: 245.655 GiB, 20.76% gc time)\n",
      "Ne = 60\n",
      "Ne 60 & β 0.99 & Lrad 10.0 & nonid_rad 5.0 & RMSE: 1.190199684399118\n",
      "(Ne, β, Lrad, nonid_rad) = (60, 0.99, 10.0, 6.0)\n"
     ]
    },
    {
     "name": "stderr",
     "output_type": "stream",
     "text": [
      "\u001b[32mProgress: 100%|█████████████████████████████████████████| Time: 0:03:24\u001b[39m\n"
     ]
    },
    {
     "name": "stdout",
     "output_type": "stream",
     "text": [
      "204.562486 seconds (3.68 G allocations: 321.231 GiB, 20.70% gc time)\n",
      "Ne = 60\n",
      "Ne 60 & β 0.99 & Lrad 10.0 & nonid_rad 6.0 & RMSE: 1.1617802360719365\n",
      "(Ne, β, Lrad, nonid_rad) = (60, 0.99, 10.0, 7.0)\n"
     ]
    },
    {
     "name": "stderr",
     "output_type": "stream",
     "text": [
      "\u001b[32mProgress: 100%|█████████████████████████████████████████| Time: 0:04:06\u001b[39m\n"
     ]
    },
    {
     "name": "stdout",
     "output_type": "stream",
     "text": [
      "246.087623 seconds (4.38 G allocations: 397.235 GiB, 21.37% gc time)\n",
      "Ne = 60\n",
      "Ne 60 & β 0.99 & Lrad 10.0 & nonid_rad 7.0 & RMSE: 1.3172475890280333\n",
      "(Ne, β, Lrad, nonid_rad) = (60, 0.99, 10.0, 8.0)\n"
     ]
    },
    {
     "name": "stderr",
     "output_type": "stream",
     "text": [
      "\u001b[32mProgress: 100%|█████████████████████████████████████████| Time: 0:04:48\u001b[39m\n"
     ]
    },
    {
     "name": "stdout",
     "output_type": "stream",
     "text": [
      "288.393409 seconds (5.08 G allocations: 468.877 GiB, 21.60% gc time)\n",
      "Ne = 60\n",
      "Ne 60 & β 0.99 & Lrad 10.0 & nonid_rad 8.0 & RMSE: 1.3937553538469\n",
      "(Ne, β, Lrad, nonid_rad) = (60, 0.99, 10.0, 9.0)\n"
     ]
    },
    {
     "name": "stderr",
     "output_type": "stream",
     "text": [
      "\u001b[32mProgress: 100%|█████████████████████████████████████████| Time: 0:05:28\u001b[39m\n"
     ]
    },
    {
     "name": "stdout",
     "output_type": "stream",
     "text": [
      "328.907402 seconds (5.78 G allocations: 536.157 GiB, 21.43% gc time)\n",
      "Ne = 60\n",
      "Ne 60 & β 0.99 & Lrad 10.0 & nonid_rad 9.0 & RMSE: 1.7217564439945987\n",
      "(Ne, β, Lrad, nonid_rad) = (60, 0.99, 10.0, 10.0)\n"
     ]
    },
    {
     "name": "stderr",
     "output_type": "stream",
     "text": [
      "\u001b[32mProgress: 100%|█████████████████████████████████████████| Time: 0:06:10\u001b[39m\n"
     ]
    },
    {
     "name": "stdout",
     "output_type": "stream",
     "text": [
      "370.455370 seconds (6.48 G allocations: 603.869 GiB, 21.32% gc time)\n",
      "Ne = 60\n",
      "Ne 60 & β 0.99 & Lrad 10.0 & nonid_rad 10.0 & RMSE: 1.7957516350651976\n",
      "(Ne, β, Lrad, nonid_rad) = (60, 0.99, 10.0, 11.0)\n"
     ]
    },
    {
     "name": "stderr",
     "output_type": "stream",
     "text": [
      "\u001b[32mProgress: 100%|█████████████████████████████████████████| Time: 0:07:06\u001b[39m\n"
     ]
    },
    {
     "name": "stdout",
     "output_type": "stream",
     "text": [
      "426.519820 seconds (7.24 G allocations: 698.359 GiB, 21.68% gc time)\n",
      "Ne = 60\n",
      "Ne 60 & β 0.99 & Lrad 10.0 & nonid_rad 11.0 & RMSE: 2.032330310045721\n",
      "(Ne, β, Lrad, nonid_rad) = (60, 0.99, 10.0, 12.0)\n"
     ]
    },
    {
     "name": "stderr",
     "output_type": "stream",
     "text": [
      "\u001b[32mProgress: 100%|█████████████████████████████████████████| Time: 0:07:58\u001b[39m\n"
     ]
    },
    {
     "name": "stdout",
     "output_type": "stream",
     "text": [
      "478.753711 seconds (7.99 G allocations: 793.256 GiB, 21.69% gc time)\n",
      "Ne = 60\n",
      "Ne 60 & β 0.99 & Lrad 10.0 & nonid_rad 12.0 & RMSE: 2.1619273350226402\n",
      "(Ne, β, Lrad, nonid_rad) = (60, 1.0, 1.0, 1.0)\n"
     ]
    },
    {
     "name": "stderr",
     "output_type": "stream",
     "text": [
      "\u001b[32mProgress: 100%|█████████████████████████████████████████| Time: 0:00:55\u001b[39m\n"
     ]
    },
    {
     "name": "stdout",
     "output_type": "stream",
     "text": [
      " 55.778582 seconds (839.54 M allocations: 75.073 GiB, 18.46% gc time)\n",
      "Ne = 60\n",
      "Ne 60 & β 1.0 & Lrad 1.0 & nonid_rad 1.0 & RMSE: 1.3008404487495409\n",
      "(Ne, β, Lrad, nonid_rad) = (60, 1.0, 1.0, 2.0)\n"
     ]
    },
    {
     "name": "stderr",
     "output_type": "stream",
     "text": [
      "\u001b[32mProgress: 100%|█████████████████████████████████████████| Time: 0:01:14\u001b[39m\n"
     ]
    },
    {
     "name": "stdout",
     "output_type": "stream",
     "text": [
      " 74.695777 seconds (1.25 G allocations: 105.460 GiB, 20.06% gc time)\n",
      "Ne = 60\n",
      "Ne 60 & β 1.0 & Lrad 1.0 & nonid_rad 2.0 & RMSE: 1.2879303853294422\n",
      "(Ne, β, Lrad, nonid_rad) = (60, 1.0, 1.0, 3.0)\n"
     ]
    },
    {
     "name": "stderr",
     "output_type": "stream",
     "text": [
      "\u001b[32mProgress: 100%|█████████████████████████████████████████| Time: 0:01:31\u001b[39m\n"
     ]
    },
    {
     "name": "stdout",
     "output_type": "stream",
     "text": [
      " 91.796300 seconds (1.66 G allocations: 136.278 GiB, 20.00% gc time)\n",
      "Ne = 60\n",
      "Ne 60 & β 1.0 & Lrad 1.0 & nonid_rad 3.0 & RMSE: 1.2462031747830873\n",
      "(Ne, β, Lrad, nonid_rad) = (60, 1.0, 1.0, 4.0)\n"
     ]
    },
    {
     "name": "stderr",
     "output_type": "stream",
     "text": [
      "\u001b[32mProgress: 100%|█████████████████████████████████████████| Time: 0:01:51\u001b[39m\n"
     ]
    },
    {
     "name": "stdout",
     "output_type": "stream",
     "text": [
      "111.953749 seconds (2.07 G allocations: 167.529 GiB, 20.55% gc time)\n",
      "Ne = 60\n",
      "Ne 60 & β 1.0 & Lrad 1.0 & nonid_rad 4.0 & RMSE: 1.2592586967345538\n",
      "(Ne, β, Lrad, nonid_rad) = (60, 1.0, 1.0, 5.0)\n"
     ]
    },
    {
     "name": "stderr",
     "output_type": "stream",
     "text": [
      "\u001b[32mProgress: 100%|█████████████████████████████████████████| Time: 0:02:15\u001b[39m\n"
     ]
    },
    {
     "name": "stdout",
     "output_type": "stream",
     "text": [
      "135.019020 seconds (2.51 G allocations: 206.936 GiB, 21.07% gc time)\n",
      "Ne = 60\n",
      "Ne 60 & β 1.0 & Lrad 1.0 & nonid_rad 5.0 & RMSE: 1.2621933176801021\n",
      "(Ne, β, Lrad, nonid_rad) = (60, 1.0, 1.0, 6.0)\n"
     ]
    },
    {
     "name": "stderr",
     "output_type": "stream",
     "text": [
      "\u001b[32mProgress: 100%|█████████████████████████████████████████| Time: 0:02:39\u001b[39m\n"
     ]
    },
    {
     "name": "stdout",
     "output_type": "stream",
     "text": [
      "159.658465 seconds (2.98 G allocations: 254.499 GiB, 20.69% gc time)\n",
      "Ne = 60\n",
      "Ne 60 & β 1.0 & Lrad 1.0 & nonid_rad 6.0 & RMSE: 1.2462271065112778\n",
      "(Ne, β, Lrad, nonid_rad) = (60, 1.0, 1.0, 7.0)\n"
     ]
    },
    {
     "name": "stderr",
     "output_type": "stream",
     "text": [
      "\u001b[32mProgress: 100%|█████████████████████████████████████████| Time: 0:03:06\u001b[39m\n"
     ]
    },
    {
     "name": "stdout",
     "output_type": "stream",
     "text": [
      "186.622976 seconds (3.45 G allocations: 302.491 GiB, 21.15% gc time)\n",
      "Ne = 60\n",
      "Ne 60 & β 1.0 & Lrad 1.0 & nonid_rad 7.0 & RMSE: 1.2344781975292798\n",
      "(Ne, β, Lrad, nonid_rad) = (60, 1.0, 1.0, 8.0)\n"
     ]
    },
    {
     "name": "stderr",
     "output_type": "stream",
     "text": [
      "\u001b[32mProgress: 100%|█████████████████████████████████████████| Time: 0:03:35\u001b[39m\n"
     ]
    },
    {
     "name": "stdout",
     "output_type": "stream",
     "text": [
      "215.607278 seconds (3.92 G allocations: 346.131 GiB, 21.40% gc time)\n",
      "Ne = 60\n",
      "Ne 60 & β 1.0 & Lrad 1.0 & nonid_rad 8.0 & RMSE: 1.2405218556059472\n",
      "(Ne, β, Lrad, nonid_rad) = (60, 1.0, 1.0, 9.0)\n"
     ]
    },
    {
     "name": "stderr",
     "output_type": "stream",
     "text": [
      "\u001b[32mProgress: 100%|█████████████████████████████████████████| Time: 0:04:03\u001b[39m\n"
     ]
    },
    {
     "name": "stdout",
     "output_type": "stream",
     "text": [
      "243.841876 seconds (4.39 G allocations: 385.403 GiB, 21.29% gc time)\n",
      "Ne = 60\n",
      "Ne 60 & β 1.0 & Lrad 1.0 & nonid_rad 9.0 & RMSE: 1.2388203471947787\n",
      "(Ne, β, Lrad, nonid_rad) = (60, 1.0, 1.0, 10.0)\n"
     ]
    },
    {
     "name": "stderr",
     "output_type": "stream",
     "text": [
      "\u001b[32mProgress: 100%|█████████████████████████████████████████| Time: 0:04:31\u001b[39m\n"
     ]
    },
    {
     "name": "stdout",
     "output_type": "stream",
     "text": [
      "271.682064 seconds (4.86 G allocations: 425.105 GiB, 20.76% gc time)\n",
      "Ne = 60\n",
      "Ne 60 & β 1.0 & Lrad 1.0 & nonid_rad 10.0 & RMSE: 1.2576007965269183\n",
      "(Ne, β, Lrad, nonid_rad) = (60, 1.0, 1.0, 11.0)\n"
     ]
    },
    {
     "name": "stderr",
     "output_type": "stream",
     "text": [
      "\u001b[32mProgress: 100%|█████████████████████████████████████████| Time: 0:05:08\u001b[39m\n"
     ]
    },
    {
     "name": "stdout",
     "output_type": "stream",
     "text": [
      "308.383461 seconds (5.38 G allocations: 491.561 GiB, 21.11% gc time)\n",
      "Ne = 60\n",
      "Ne 60 & β 1.0 & Lrad 1.0 & nonid_rad 11.0 & RMSE: 1.2457813026462499\n",
      "(Ne, β, Lrad, nonid_rad) = (60, 1.0, 1.0, 12.0)\n"
     ]
    },
    {
     "name": "stderr",
     "output_type": "stream",
     "text": [
      "\u001b[32mProgress: 100%|█████████████████████████████████████████| Time: 0:05:42\u001b[39m\n"
     ]
    },
    {
     "name": "stdout",
     "output_type": "stream",
     "text": [
      "342.948567 seconds (5.91 G allocations: 558.448 GiB, 20.74% gc time)\n",
      "Ne = 60\n",
      "Ne 60 & β 1.0 & Lrad 1.0 & nonid_rad 12.0 & RMSE: 1.2495744751163094\n",
      "(Ne, β, Lrad, nonid_rad) = (60, 1.0, 2.0, 1.0)\n"
     ]
    },
    {
     "name": "stderr",
     "output_type": "stream",
     "text": [
      "\u001b[32mProgress: 100%|█████████████████████████████████████████| Time: 0:00:55\u001b[39m\n"
     ]
    },
    {
     "name": "stdout",
     "output_type": "stream",
     "text": [
      " 55.937799 seconds (849.14 M allocations: 75.659 GiB, 18.02% gc time)\n",
      "Ne = 60\n",
      "Ne 60 & β 1.0 & Lrad 2.0 & nonid_rad 1.0 & RMSE: 1.2710631964187615\n",
      "(Ne, β, Lrad, nonid_rad) = (60, 1.0, 2.0, 2.0)\n"
     ]
    },
    {
     "name": "stderr",
     "output_type": "stream",
     "text": [
      "\u001b[32mProgress: 100%|█████████████████████████████████████████| Time: 0:01:15\u001b[39m\n"
     ]
    },
    {
     "name": "stdout",
     "output_type": "stream",
     "text": [
      " 75.328268 seconds (1.28 G allocations: 107.219 GiB, 19.39% gc time)\n",
      "Ne = 60\n",
      "Ne 60 & β 1.0 & Lrad 2.0 & nonid_rad 2.0 & RMSE: 1.2528596119150608\n",
      "(Ne, β, Lrad, nonid_rad) = (60, 1.0, 2.0, 3.0)\n"
     ]
    },
    {
     "name": "stderr",
     "output_type": "stream",
     "text": [
      "\u001b[32mProgress: 100%|█████████████████████████████████████████| Time: 0:01:35\u001b[39m\n"
     ]
    },
    {
     "name": "stdout",
     "output_type": "stream",
     "text": [
      " 95.040307 seconds (1.71 G allocations: 139.211 GiB, 20.37% gc time)\n",
      "Ne = 60\n",
      "Ne 60 & β 1.0 & Lrad 2.0 & nonid_rad 3.0 & RMSE: 1.1484870731479635\n",
      "(Ne, β, Lrad, nonid_rad) = (60, 1.0, 2.0, 4.0)\n"
     ]
    },
    {
     "name": "stderr",
     "output_type": "stream",
     "text": [
      "\u001b[32mProgress: 100%|█████████████████████████████████████████| Time: 0:01:55\u001b[39m\n"
     ]
    },
    {
     "name": "stdout",
     "output_type": "stream",
     "text": [
      "115.981632 seconds (2.14 G allocations: 171.635 GiB, 20.61% gc time)\n",
      "Ne = 60\n",
      "Ne 60 & β 1.0 & Lrad 2.0 & nonid_rad 4.0 & RMSE: 1.1615413712970395\n",
      "(Ne, β, Lrad, nonid_rad) = (60, 1.0, 2.0, 5.0)\n"
     ]
    },
    {
     "name": "stderr",
     "output_type": "stream",
     "text": [
      "\u001b[32mProgress: 100%|█████████████████████████████████████████| Time: 0:02:19\u001b[39m\n"
     ]
    },
    {
     "name": "stdout",
     "output_type": "stream",
     "text": [
      "139.617195 seconds (2.60 G allocations: 212.215 GiB, 20.32% gc time)\n",
      "Ne = 60\n",
      "Ne 60 & β 1.0 & Lrad 2.0 & nonid_rad 5.0 & RMSE: 1.156043152754793\n",
      "(Ne, β, Lrad, nonid_rad) = (60, 1.0, 2.0, 6.0)\n"
     ]
    },
    {
     "name": "stderr",
     "output_type": "stream",
     "text": [
      "\u001b[32mProgress: 100%|█████████████████████████████████████████| Time: 0:02:48\u001b[39m\n"
     ]
    },
    {
     "name": "stdout",
     "output_type": "stream",
     "text": [
      "168.190812 seconds (3.09 G allocations: 260.950 GiB, 21.00% gc time)\n",
      "Ne = 60\n",
      "Ne 60 & β 1.0 & Lrad 2.0 & nonid_rad 6.0 & RMSE: 1.128237756718362\n",
      "(Ne, β, Lrad, nonid_rad) = (60, 1.0, 2.0, 7.0)\n"
     ]
    },
    {
     "name": "stderr",
     "output_type": "stream",
     "text": [
      "\u001b[32mProgress: 100%|█████████████████████████████████████████| Time: 0:03:15\u001b[39m\n"
     ]
    },
    {
     "name": "stdout",
     "output_type": "stream",
     "text": [
      "195.654318 seconds (3.57 G allocations: 310.118 GiB, 21.31% gc time)\n",
      "Ne = 60\n",
      "Ne 60 & β 1.0 & Lrad 2.0 & nonid_rad 7.0 & RMSE: 1.1191758868095913\n",
      "(Ne, β, Lrad, nonid_rad) = (60, 1.0, 2.0, 8.0)\n"
     ]
    },
    {
     "name": "stderr",
     "output_type": "stream",
     "text": [
      "\u001b[32mProgress: 100%|█████████████████████████████████████████| Time: 0:03:42\u001b[39m\n"
     ]
    },
    {
     "name": "stdout",
     "output_type": "stream",
     "text": [
      "222.838206 seconds (4.06 G allocations: 354.929 GiB, 20.57% gc time)\n",
      "Ne = 60\n",
      "Ne 60 & β 1.0 & Lrad 2.0 & nonid_rad 8.0 & RMSE: 1.1408444353525091\n",
      "(Ne, β, Lrad, nonid_rad) = (60, 1.0, 2.0, 9.0)\n"
     ]
    },
    {
     "name": "stderr",
     "output_type": "stream",
     "text": [
      "\u001b[32mProgress: 100%|█████████████████████████████████████████| Time: 0:04:11\u001b[39m\n"
     ]
    },
    {
     "name": "stdout",
     "output_type": "stream",
     "text": [
      "251.911596 seconds (4.55 G allocations: 395.373 GiB, 20.61% gc time)\n",
      "Ne = 60\n",
      "Ne 60 & β 1.0 & Lrad 2.0 & nonid_rad 9.0 & RMSE: 1.1543570164257424\n",
      "(Ne, β, Lrad, nonid_rad) = (60, 1.0, 2.0, 10.0)\n"
     ]
    },
    {
     "name": "stderr",
     "output_type": "stream",
     "text": [
      "\u001b[32mProgress: 100%|█████████████████████████████████████████| Time: 0:04:42\u001b[39m\n"
     ]
    },
    {
     "name": "stdout",
     "output_type": "stream",
     "text": [
      "282.443004 seconds (5.04 G allocations: 436.249 GiB, 20.73% gc time)\n",
      "Ne = 60\n",
      "Ne 60 & β 1.0 & Lrad 2.0 & nonid_rad 10.0 & RMSE: 1.128410794985982\n",
      "(Ne, β, Lrad, nonid_rad) = (60, 1.0, 2.0, 11.0)\n"
     ]
    },
    {
     "name": "stderr",
     "output_type": "stream",
     "text": [
      "\u001b[32mProgress: 100%|█████████████████████████████████████████| Time: 0:05:38\u001b[39m\n"
     ]
    },
    {
     "name": "stdout",
     "output_type": "stream",
     "text": [
      "338.386789 seconds (5.58 G allocations: 503.878 GiB, 21.14% gc time)\n",
      "Ne = 60\n",
      "Ne 60 & β 1.0 & Lrad 2.0 & nonid_rad 11.0 & RMSE: 1.1213148664561254\n",
      "(Ne, β, Lrad, nonid_rad) = (60, 1.0, 2.0, 12.0)\n"
     ]
    },
    {
     "name": "stderr",
     "output_type": "stream",
     "text": [
      "\u001b[32mProgress: 100%|█████████████████████████████████████████| Time: 0:05:59\u001b[39m\n"
     ]
    },
    {
     "name": "stdout",
     "output_type": "stream",
     "text": [
      "359.185881 seconds (6.13 G allocations: 571.938 GiB, 21.13% gc time)\n",
      "Ne = 60\n",
      "Ne 60 & β 1.0 & Lrad 2.0 & nonid_rad 12.0 & RMSE: 1.1142668617615272\n",
      "(Ne, β, Lrad, nonid_rad) = (60, 1.0, 3.0, 1.0)\n"
     ]
    },
    {
     "name": "stderr",
     "output_type": "stream",
     "text": [
      "\u001b[32mProgress: 100%|█████████████████████████████████████████| Time: 0:00:56\u001b[39m\n"
     ]
    },
    {
     "name": "stdout",
     "output_type": "stream",
     "text": [
      " 56.516362 seconds (849.14 M allocations: 75.659 GiB, 18.61% gc time)\n",
      "Ne = 60\n",
      "Ne 60 & β 1.0 & Lrad 3.0 & nonid_rad 1.0 & RMSE: 1.2762257699241568\n",
      "(Ne, β, Lrad, nonid_rad) = (60, 1.0, 3.0, 2.0)\n"
     ]
    },
    {
     "name": "stderr",
     "output_type": "stream",
     "text": [
      "\u001b[32mProgress: 100%|█████████████████████████████████████████| Time: 0:01:16\u001b[39m\n"
     ]
    },
    {
     "name": "stdout",
     "output_type": "stream",
     "text": [
      " 76.295772 seconds (1.30 G allocations: 108.817 GiB, 19.47% gc time)\n",
      "Ne = 60\n",
      "Ne 60 & β 1.0 & Lrad 3.0 & nonid_rad 2.0 & RMSE: 1.270758176686314\n",
      "(Ne, β, Lrad, nonid_rad) = (60, 1.0, 3.0, 3.0)\n"
     ]
    },
    {
     "name": "stderr",
     "output_type": "stream",
     "text": [
      "\u001b[32mProgress: 100%|█████████████████████████████████████████| Time: 0:01:37\u001b[39m\n"
     ]
    },
    {
     "name": "stdout",
     "output_type": "stream",
     "text": [
      " 97.660937 seconds (1.75 G allocations: 142.406 GiB, 20.36% gc time)\n",
      "Ne = 60\n",
      "Ne 60 & β 1.0 & Lrad 3.0 & nonid_rad 3.0 & RMSE: 1.110221972247864\n",
      "(Ne, β, Lrad, nonid_rad) = (60, 1.0, 3.0, 4.0)\n"
     ]
    },
    {
     "name": "stderr",
     "output_type": "stream",
     "text": [
      "\u001b[32mProgress: 100%|█████████████████████████████████████████| Time: 0:01:59\u001b[39m\n"
     ]
    },
    {
     "name": "stdout",
     "output_type": "stream",
     "text": [
      "119.836177 seconds (2.20 G allocations: 176.427 GiB, 20.72% gc time)\n",
      "Ne = 60\n",
      "Ne 60 & β 1.0 & Lrad 3.0 & nonid_rad 4.0 & RMSE: 1.0967055411980555\n",
      "(Ne, β, Lrad, nonid_rad) = (60, 1.0, 3.0, 5.0)\n"
     ]
    },
    {
     "name": "stderr",
     "output_type": "stream",
     "text": [
      "\u001b[32mProgress: 100%|█████████████████████████████████████████| Time: 0:02:24\u001b[39m\n"
     ]
    },
    {
     "name": "stdout",
     "output_type": "stream",
     "text": [
      "144.547023 seconds (2.68 G allocations: 218.606 GiB, 20.44% gc time)\n",
      "Ne = 60\n",
      "Ne 60 & β 1.0 & Lrad 3.0 & nonid_rad 5.0 & RMSE: 1.0804606901964044\n",
      "(Ne, β, Lrad, nonid_rad) = (60, 1.0, 3.0, 6.0)\n"
     ]
    },
    {
     "name": "stderr",
     "output_type": "stream",
     "text": [
      "\u001b[32mProgress: 100%|█████████████████████████████████████████| Time: 0:02:53\u001b[39m\n"
     ]
    },
    {
     "name": "stdout",
     "output_type": "stream",
     "text": [
      "173.887167 seconds (3.18 G allocations: 268.938 GiB, 21.00% gc time)\n",
      "Ne = 60\n",
      "Ne 60 & β 1.0 & Lrad 3.0 & nonid_rad 6.0 & RMSE: 1.139341329579334\n",
      "(Ne, β, Lrad, nonid_rad) = (60, 1.0, 3.0, 7.0)\n"
     ]
    },
    {
     "name": "stderr",
     "output_type": "stream",
     "text": [
      "\u001b[32mProgress: 100%|█████████████████████████████████████████| Time: 0:03:24\u001b[39m\n"
     ]
    },
    {
     "name": "stdout",
     "output_type": "stream",
     "text": [
      "204.725664 seconds (3.69 G allocations: 319.706 GiB, 21.44% gc time)\n",
      "Ne = 60\n",
      "Ne 60 & β 1.0 & Lrad 3.0 & nonid_rad 7.0 & RMSE: 1.1258476605615417\n",
      "(Ne, β, Lrad, nonid_rad) = (60, 1.0, 3.0, 8.0)\n"
     ]
    },
    {
     "name": "stderr",
     "output_type": "stream",
     "text": [
      "\u001b[32mProgress: 100%|█████████████████████████████████████████| Time: 0:03:54\u001b[39m\n"
     ]
    },
    {
     "name": "stdout",
     "output_type": "stream",
     "text": [
      "234.335453 seconds (4.20 G allocations: 366.111 GiB, 21.50% gc time)\n",
      "Ne = 60\n",
      "Ne 60 & β 1.0 & Lrad 3.0 & nonid_rad 8.0 & RMSE: 1.0864107583623068\n",
      "(Ne, β, Lrad, nonid_rad) = (60, 1.0, 3.0, 9.0)\n"
     ]
    },
    {
     "name": "stderr",
     "output_type": "stream",
     "text": [
      "\u001b[32mProgress: 100%|█████████████████████████████████████████| Time: 0:04:23\u001b[39m\n"
     ]
    },
    {
     "name": "stdout",
     "output_type": "stream",
     "text": [
      "263.681315 seconds (4.71 G allocations: 408.152 GiB, 21.23% gc time)\n",
      "Ne = 60\n",
      "Ne 60 & β 1.0 & Lrad 3.0 & nonid_rad 9.0 & RMSE: 1.1056380095843392\n",
      "(Ne, β, Lrad, nonid_rad) = (60, 1.0, 3.0, 10.0)\n"
     ]
    },
    {
     "name": "stderr",
     "output_type": "stream",
     "text": [
      "\u001b[32mProgress: 100%|█████████████████████████████████████████| Time: 0:04:54\u001b[39m\n"
     ]
    },
    {
     "name": "stdout",
     "output_type": "stream",
     "text": [
      "294.111982 seconds (5.21 G allocations: 450.626 GiB, 20.63% gc time)\n",
      "Ne = 60\n",
      "Ne 60 & β 1.0 & Lrad 3.0 & nonid_rad 10.0 & RMSE: 1.0831971620763239\n",
      "(Ne, β, Lrad, nonid_rad) = (60, 1.0, 3.0, 11.0)\n"
     ]
    },
    {
     "name": "stderr",
     "output_type": "stream",
     "text": [
      "\u001b[32mProgress: 100%|█████████████████████████████████████████| Time: 0:05:32\u001b[39m\n"
     ]
    },
    {
     "name": "stdout",
     "output_type": "stream",
     "text": [
      "332.480469 seconds (5.78 G allocations: 519.852 GiB, 20.86% gc time)\n",
      "Ne = 60\n",
      "Ne 60 & β 1.0 & Lrad 3.0 & nonid_rad 11.0 & RMSE: 1.0774537298001892\n",
      "(Ne, β, Lrad, nonid_rad) = (60, 1.0, 3.0, 12.0)\n"
     ]
    },
    {
     "name": "stderr",
     "output_type": "stream",
     "text": [
      "\u001b[32mProgress: 100%|█████████████████████████████████████████| Time: 0:06:11\u001b[39m\n"
     ]
    },
    {
     "name": "stdout",
     "output_type": "stream",
     "text": [
      "371.739568 seconds (6.34 G allocations: 589.509 GiB, 20.82% gc time)\n",
      "Ne = 60\n",
      "Ne 60 & β 1.0 & Lrad 3.0 & nonid_rad 12.0 & RMSE: 1.1061346385397512\n",
      "(Ne, β, Lrad, nonid_rad) = (60, 1.0, 4.0, 1.0)\n"
     ]
    },
    {
     "name": "stderr",
     "output_type": "stream",
     "text": [
      "\u001b[32mProgress: 100%|█████████████████████████████████████████| Time: 0:00:56\u001b[39m\n"
     ]
    },
    {
     "name": "stdout",
     "output_type": "stream",
     "text": [
      " 56.205490 seconds (849.14 M allocations: 75.659 GiB, 18.35% gc time)\n",
      "Ne = 60\n",
      "Ne 60 & β 1.0 & Lrad 4.0 & nonid_rad 1.0 & RMSE: 1.2660513868713814\n",
      "(Ne, β, Lrad, nonid_rad) = (60, 1.0, 4.0, 2.0)\n"
     ]
    },
    {
     "name": "stderr",
     "output_type": "stream",
     "text": [
      "\u001b[32mProgress: 100%|█████████████████████████████████████████| Time: 0:01:17\u001b[39m\n"
     ]
    },
    {
     "name": "stdout",
     "output_type": "stream",
     "text": [
      " 77.580272 seconds (1.31 G allocations: 109.409 GiB, 19.71% gc time)\n",
      "Ne = 60\n",
      "Ne 60 & β 1.0 & Lrad 4.0 & nonid_rad 2.0 & RMSE: 1.2615493323170412\n",
      "(Ne, β, Lrad, nonid_rad) = (60, 1.0, 4.0, 3.0)\n"
     ]
    },
    {
     "name": "stderr",
     "output_type": "stream",
     "text": [
      "\u001b[32mProgress: 100%|█████████████████████████████████████████| Time: 0:01:39\u001b[39m\n"
     ]
    },
    {
     "name": "stdout",
     "output_type": "stream",
     "text": [
      " 99.607276 seconds (1.78 G allocations: 144.180 GiB, 20.38% gc time)\n",
      "Ne = 60\n",
      "Ne 60 & β 1.0 & Lrad 4.0 & nonid_rad 3.0 & RMSE: 1.1235017978820383\n",
      "(Ne, β, Lrad, nonid_rad) = (60, 1.0, 4.0, 4.0)\n"
     ]
    },
    {
     "name": "stderr",
     "output_type": "stream",
     "text": [
      "\u001b[32mProgress: 100%|█████████████████████████████████████████| Time: 0:02:01\u001b[39m\n"
     ]
    },
    {
     "name": "stdout",
     "output_type": "stream",
     "text": [
      "121.612606 seconds (2.25 G allocations: 179.383 GiB, 20.01% gc time)\n",
      "Ne = 60\n",
      "Ne 60 & β 1.0 & Lrad 4.0 & nonid_rad 4.0 & RMSE: 1.1070647553828747\n",
      "(Ne, β, Lrad, nonid_rad) = (60, 1.0, 4.0, 5.0)\n"
     ]
    },
    {
     "name": "stderr",
     "output_type": "stream",
     "text": [
      "\u001b[32mProgress: 100%|█████████████████████████████████████████| Time: 0:02:29\u001b[39m\n"
     ]
    },
    {
     "name": "stdout",
     "output_type": "stream",
     "text": [
      "149.419708 seconds (2.74 G allocations: 222.745 GiB, 20.68% gc time)\n",
      "Ne = 60\n",
      "Ne 60 & β 1.0 & Lrad 4.0 & nonid_rad 5.0 & RMSE: 1.1036996212172554\n",
      "(Ne, β, Lrad, nonid_rad) = (60, 1.0, 4.0, 6.0)\n"
     ]
    },
    {
     "name": "stderr",
     "output_type": "stream",
     "text": [
      "\u001b[32mProgress: 100%|█████████████████████████████████████████| Time: 0:03:00\u001b[39m\n"
     ]
    },
    {
     "name": "stdout",
     "output_type": "stream",
     "text": [
      "180.853340 seconds (3.27 G allocations: 274.259 GiB, 21.27% gc time)\n",
      "Ne = 60\n",
      "Ne 60 & β 1.0 & Lrad 4.0 & nonid_rad 6.0 & RMSE: 1.090361632940601\n",
      "(Ne, β, Lrad, nonid_rad) = (60, 1.0, 4.0, 7.0)\n"
     ]
    },
    {
     "name": "stderr",
     "output_type": "stream",
     "text": [
      "\u001b[32mProgress: 100%|█████████████████████████████████████████| Time: 0:03:31\u001b[39m\n"
     ]
    },
    {
     "name": "stdout",
     "output_type": "stream",
     "text": [
      "211.279587 seconds (3.80 G allocations: 326.212 GiB, 21.50% gc time)\n",
      "Ne = 60\n",
      "Ne 60 & β 1.0 & Lrad 4.0 & nonid_rad 7.0 & RMSE: 1.1532481895215423\n",
      "(Ne, β, Lrad, nonid_rad) = (60, 1.0, 4.0, 8.0)\n"
     ]
    },
    {
     "name": "stderr",
     "output_type": "stream",
     "text": [
      "\u001b[32mProgress: 100%|█████████████████████████████████████████| Time: 0:03:59\u001b[39m\n"
     ]
    },
    {
     "name": "stdout",
     "output_type": "stream",
     "text": [
      "239.069118 seconds (4.32 G allocations: 373.798 GiB, 20.82% gc time)\n",
      "Ne = 60\n",
      "Ne 60 & β 1.0 & Lrad 4.0 & nonid_rad 8.0 & RMSE: 1.165872543101982\n",
      "(Ne, β, Lrad, nonid_rad) = (60, 1.0, 4.0, 9.0)\n"
     ]
    },
    {
     "name": "stderr",
     "output_type": "stream",
     "text": [
      "\u001b[32mProgress: 100%|█████████████████████████████████████████| Time: 0:04:29\u001b[39m\n"
     ]
    },
    {
     "name": "stdout",
     "output_type": "stream",
     "text": [
      "269.857084 seconds (4.85 G allocations: 417.022 GiB, 20.62% gc time)\n",
      "Ne = 60\n",
      "Ne 60 & β 1.0 & Lrad 4.0 & nonid_rad 9.0 & RMSE: 1.16138821421417\n",
      "(Ne, β, Lrad, nonid_rad) = (60, 1.0, 4.0, 10.0)\n"
     ]
    },
    {
     "name": "stderr",
     "output_type": "stream",
     "text": [
      "\u001b[32mProgress: 100%|█████████████████████████████████████████| Time: 0:05:03\u001b[39m\n"
     ]
    },
    {
     "name": "stdout",
     "output_type": "stream",
     "text": [
      "303.574713 seconds (5.38 G allocations: 460.677 GiB, 20.57% gc time)\n",
      "Ne = 60\n",
      "Ne 60 & β 1.0 & Lrad 4.0 & nonid_rad 10.0 & RMSE: 1.2585598104488673\n",
      "(Ne, β, Lrad, nonid_rad) = (60, 1.0, 4.0, 11.0)\n"
     ]
    },
    {
     "name": "stderr",
     "output_type": "stream",
     "text": [
      "\u001b[32mProgress: 100%|█████████████████████████████████████████| Time: 0:05:42\u001b[39m\n"
     ]
    },
    {
     "name": "stdout",
     "output_type": "stream",
     "text": [
      "342.598026 seconds (5.96 G allocations: 531.086 GiB, 20.66% gc time)\n",
      "Ne = 60\n",
      "Ne 60 & β 1.0 & Lrad 4.0 & nonid_rad 11.0 & RMSE: 1.1860643353165832\n",
      "(Ne, β, Lrad, nonid_rad) = (60, 1.0, 4.0, 12.0)\n"
     ]
    },
    {
     "name": "stderr",
     "output_type": "stream",
     "text": [
      "\u001b[32mProgress: 100%|█████████████████████████████████████████| Time: 0:06:23\u001b[39m\n"
     ]
    },
    {
     "name": "stdout",
     "output_type": "stream",
     "text": [
      "383.578695 seconds (6.55 G allocations: 601.927 GiB, 20.68% gc time)\n",
      "Ne = 60\n",
      "Ne 60 & β 1.0 & Lrad 4.0 & nonid_rad 12.0 & RMSE: 1.219948216974984\n",
      "(Ne, β, Lrad, nonid_rad) = (60, 1.0, 5.0, 1.0)\n"
     ]
    },
    {
     "name": "stderr",
     "output_type": "stream",
     "text": [
      "\u001b[32mProgress: 100%|█████████████████████████████████████████| Time: 0:00:56\u001b[39m\n"
     ]
    },
    {
     "name": "stdout",
     "output_type": "stream",
     "text": [
      " 56.069171 seconds (849.14 M allocations: 75.659 GiB, 18.25% gc time)\n",
      "Ne = 60\n",
      "Ne 60 & β 1.0 & Lrad 5.0 & nonid_rad 1.0 & RMSE: 1.2845181497814484\n",
      "(Ne, β, Lrad, nonid_rad) = (60, 1.0, 5.0, 2.0)\n"
     ]
    },
    {
     "name": "stderr",
     "output_type": "stream",
     "text": [
      "\u001b[32mProgress: 100%|█████████████████████████████████████████| Time: 0:01:17\u001b[39m\n"
     ]
    },
    {
     "name": "stdout",
     "output_type": "stream",
     "text": [
      " 77.850618 seconds (1.31 G allocations: 109.408 GiB, 19.45% gc time)\n",
      "Ne = 60\n",
      "Ne 60 & β 1.0 & Lrad 5.0 & nonid_rad 2.0 & RMSE: 1.2747442532833577\n",
      "(Ne, β, Lrad, nonid_rad) = (60, 1.0, 5.0, 3.0)\n"
     ]
    },
    {
     "name": "stderr",
     "output_type": "stream",
     "text": [
      "\u001b[32mProgress: 100%|█████████████████████████████████████████| Time: 0:01:40\u001b[39m\n"
     ]
    },
    {
     "name": "stdout",
     "output_type": "stream",
     "text": [
      "100.917363 seconds (1.80 G allocations: 145.759 GiB, 20.03% gc time)\n",
      "Ne = 60\n",
      "Ne 60 & β 1.0 & Lrad 5.0 & nonid_rad 3.0 & RMSE: 1.1484844046002733\n",
      "(Ne, β, Lrad, nonid_rad) = (60, 1.0, 5.0, 4.0)\n"
     ]
    },
    {
     "name": "stderr",
     "output_type": "stream",
     "text": [
      "\u001b[32mProgress: 100%|█████████████████████████████████████████| Time: 0:02:04\u001b[39m\n"
     ]
    },
    {
     "name": "stdout",
     "output_type": "stream",
     "text": [
      "124.033869 seconds (2.29 G allocations: 182.540 GiB, 19.60% gc time)\n",
      "Ne = 60\n",
      "Ne 60 & β 1.0 & Lrad 5.0 & nonid_rad 4.0 & RMSE: 1.095462234991021\n",
      "(Ne, β, Lrad, nonid_rad) = (60, 1.0, 5.0, 5.0)\n"
     ]
    },
    {
     "name": "stderr",
     "output_type": "stream",
     "text": [
      "\u001b[32mProgress: 100%|█████████████████████████████████████████| Time: 0:02:32\u001b[39m\n"
     ]
    },
    {
     "name": "stdout",
     "output_type": "stream",
     "text": [
      "152.842571 seconds (2.80 G allocations: 227.480 GiB, 20.22% gc time)\n",
      "Ne = 60\n",
      "Ne 60 & β 1.0 & Lrad 5.0 & nonid_rad 5.0 & RMSE: 1.1879295589093208\n",
      "(Ne, β, Lrad, nonid_rad) = (60, 1.0, 5.0, 6.0)\n"
     ]
    },
    {
     "name": "stderr",
     "output_type": "stream",
     "text": [
      "\u001b[32mProgress: 100%|█████████████████████████████████████████| Time: 0:03:04\u001b[39m\n"
     ]
    },
    {
     "name": "stdout",
     "output_type": "stream",
     "text": [
      "184.309759 seconds (3.35 G allocations: 280.572 GiB, 20.80% gc time)\n",
      "Ne = 60\n",
      "Ne 60 & β 1.0 & Lrad 5.0 & nonid_rad 6.0 & RMSE: 1.1801246324019061\n",
      "(Ne, β, Lrad, nonid_rad) = (60, 1.0, 5.0, 7.0)\n"
     ]
    },
    {
     "name": "stderr",
     "output_type": "stream",
     "text": [
      "\u001b[32mProgress: 100%|█████████████████████████████████████████| Time: 0:03:36\u001b[39m\n"
     ]
    },
    {
     "name": "stdout",
     "output_type": "stream",
     "text": [
      "216.901251 seconds (3.89 G allocations: 334.104 GiB, 21.16% gc time)\n",
      "Ne = 60\n",
      "Ne 60 & β 1.0 & Lrad 5.0 & nonid_rad 7.0 & RMSE: 1.1852707248675838\n",
      "(Ne, β, Lrad, nonid_rad) = (60, 1.0, 5.0, 8.0)\n"
     ]
    },
    {
     "name": "stderr",
     "output_type": "stream",
     "text": [
      "\u001b[32mProgress: 100%|█████████████████████████████████████████| Time: 0:04:06\u001b[39m\n"
     ]
    },
    {
     "name": "stdout",
     "output_type": "stream",
     "text": [
      "246.375585 seconds (4.44 G allocations: 383.268 GiB, 20.51% gc time)\n",
      "Ne = 60\n",
      "Ne 60 & β 1.0 & Lrad 5.0 & nonid_rad 8.0 & RMSE: 1.2101802632909344\n",
      "(Ne, β, Lrad, nonid_rad) = (60, 1.0, 5.0, 9.0)\n"
     ]
    },
    {
     "name": "stderr",
     "output_type": "stream",
     "text": [
      "\u001b[32mProgress: 100%|█████████████████████████████████████████| Time: 0:04:40\u001b[39m\n"
     ]
    },
    {
     "name": "stdout",
     "output_type": "stream",
     "text": [
      "280.235581 seconds (4.99 G allocations: 428.070 GiB, 20.84% gc time)\n",
      "Ne = 60\n",
      "Ne 60 & β 1.0 & Lrad 5.0 & nonid_rad 9.0 & RMSE: 1.3710953425640118\n",
      "(Ne, β, Lrad, nonid_rad) = (60, 1.0, 5.0, 10.0)\n"
     ]
    },
    {
     "name": "stderr",
     "output_type": "stream",
     "text": [
      "\u001b[32mProgress: 100%|█████████████████████████████████████████| Time: 0:05:14\u001b[39m\n"
     ]
    },
    {
     "name": "stdout",
     "output_type": "stream",
     "text": [
      "314.293445 seconds (5.53 G allocations: 473.304 GiB, 20.59% gc time)\n",
      "Ne = 60\n",
      "Ne 60 & β 1.0 & Lrad 5.0 & nonid_rad 10.0 & RMSE: 1.2862204276833047\n",
      "(Ne, β, Lrad, nonid_rad) = (60, 1.0, 5.0, 11.0)\n"
     ]
    },
    {
     "name": "stderr",
     "output_type": "stream",
     "text": [
      "\u001b[32mProgress: 100%|█████████████████████████████████████████| Time: 0:05:54\u001b[39m\n"
     ]
    },
    {
     "name": "stdout",
     "output_type": "stream",
     "text": [
      "354.834473 seconds (6.14 G allocations: 545.291 GiB, 20.65% gc time)\n",
      "Ne = 60\n",
      "Ne 60 & β 1.0 & Lrad 5.0 & nonid_rad 11.0 & RMSE: 1.5086798225333677\n",
      "(Ne, β, Lrad, nonid_rad) = (60, 1.0, 5.0, 12.0)\n"
     ]
    },
    {
     "name": "stderr",
     "output_type": "stream",
     "text": [
      "\u001b[32mProgress: 100%|█████████████████████████████████████████| Time: 0:06:37\u001b[39m\n"
     ]
    },
    {
     "name": "stdout",
     "output_type": "stream",
     "text": [
      "397.304511 seconds (6.74 G allocations: 617.715 GiB, 20.58% gc time)\n",
      "Ne = 60\n",
      "Ne 60 & β 1.0 & Lrad 5.0 & nonid_rad 12.0 & RMSE: 1.4351668501761738\n",
      "(Ne, β, Lrad, nonid_rad) = (60, 1.0, 6.0, 1.0)\n"
     ]
    },
    {
     "name": "stderr",
     "output_type": "stream",
     "text": [
      "\u001b[32mProgress: 100%|█████████████████████████████████████████| Time: 0:00:56\u001b[39m\n"
     ]
    },
    {
     "name": "stdout",
     "output_type": "stream",
     "text": [
      " 56.452101 seconds (849.14 M allocations: 75.659 GiB, 18.45% gc time)\n",
      "Ne = 60\n",
      "Ne 60 & β 1.0 & Lrad 6.0 & nonid_rad 1.0 & RMSE: 1.2801691033569913\n",
      "(Ne, β, Lrad, nonid_rad) = (60, 1.0, 6.0, 2.0)\n"
     ]
    },
    {
     "name": "stderr",
     "output_type": "stream",
     "text": [
      "\u001b[32mProgress: 100%|█████████████████████████████████████████| Time: 0:01:17\u001b[39m\n"
     ]
    },
    {
     "name": "stdout",
     "output_type": "stream",
     "text": [
      " 77.849781 seconds (1.31 G allocations: 109.409 GiB, 19.63% gc time)\n",
      "Ne = 60\n",
      "Ne 60 & β 1.0 & Lrad 6.0 & nonid_rad 2.0 & RMSE: 1.2650599278498273\n",
      "(Ne, β, Lrad, nonid_rad) = (60, 1.0, 6.0, 3.0)\n"
     ]
    },
    {
     "name": "stderr",
     "output_type": "stream",
     "text": [
      "\u001b[32mProgress: 100%|█████████████████████████████████████████| Time: 0:01:40\u001b[39m\n"
     ]
    },
    {
     "name": "stdout",
     "output_type": "stream",
     "text": [
      "100.712701 seconds (1.81 G allocations: 146.371 GiB, 19.58% gc time)\n",
      "Ne = 60\n",
      "Ne 60 & β 1.0 & Lrad 6.0 & nonid_rad 3.0 & RMSE: 1.1035338766908709\n",
      "(Ne, β, Lrad, nonid_rad) = (60, 1.0, 6.0, 4.0)\n"
     ]
    },
    {
     "name": "stderr",
     "output_type": "stream",
     "text": [
      "\u001b[32mProgress: 100%|█████████████████████████████████████████| Time: 0:02:06\u001b[39m\n"
     ]
    },
    {
     "name": "stdout",
     "output_type": "stream",
     "text": [
      "126.401045 seconds (2.31 G allocations: 184.378 GiB, 20.01% gc time)\n",
      "Ne = 60\n",
      "Ne 60 & β 1.0 & Lrad 6.0 & nonid_rad 4.0 & RMSE: 1.1027430851409923\n",
      "(Ne, β, Lrad, nonid_rad) = (60, 1.0, 6.0, 5.0)\n"
     ]
    },
    {
     "name": "stderr",
     "output_type": "stream",
     "text": [
      "\u001b[32mProgress: 100%|█████████████████████████████████████████| Time: 0:02:36\u001b[39m\n"
     ]
    },
    {
     "name": "stdout",
     "output_type": "stream",
     "text": [
      "156.881644 seconds (2.85 G allocations: 230.544 GiB, 20.58% gc time)\n",
      "Ne = 60\n",
      "Ne 60 & β 1.0 & Lrad 6.0 & nonid_rad 5.0 & RMSE: 1.1769512671463271\n",
      "(Ne, β, Lrad, nonid_rad) = (60, 1.0, 6.0, 6.0)\n"
     ]
    },
    {
     "name": "stderr",
     "output_type": "stream",
     "text": [
      "\u001b[32mProgress: 100%|█████████████████████████████████████████| Time: 0:03:09\u001b[39m\n"
     ]
    },
    {
     "name": "stdout",
     "output_type": "stream",
     "text": [
      "189.103052 seconds (3.42 G allocations: 284.861 GiB, 21.00% gc time)\n",
      "Ne = 60\n",
      "Ne 60 & β 1.0 & Lrad 6.0 & nonid_rad 6.0 & RMSE: 1.3215472319977395\n",
      "(Ne, β, Lrad, nonid_rad) = (60, 1.0, 6.0, 7.0)\n"
     ]
    },
    {
     "name": "stderr",
     "output_type": "stream",
     "text": [
      "\u001b[32mProgress: 100%|█████████████████████████████████████████| Time: 0:03:40\u001b[39m\n"
     ]
    },
    {
     "name": "stdout",
     "output_type": "stream",
     "text": [
      "220.376164 seconds (3.98 G allocations: 339.619 GiB, 20.54% gc time)\n",
      "Ne = 60\n",
      "Ne 60 & β 1.0 & Lrad 6.0 & nonid_rad 7.0 & RMSE: 1.2831361995742128\n",
      "(Ne, β, Lrad, nonid_rad) = (60, 1.0, 6.0, 8.0)\n"
     ]
    },
    {
     "name": "stderr",
     "output_type": "stream",
     "text": [
      "\u001b[32mProgress: 100%|█████████████████████████████████████████| Time: 0:04:13\u001b[39m\n"
     ]
    },
    {
     "name": "stdout",
     "output_type": "stream",
     "text": [
      "253.733136 seconds (4.55 G allocations: 390.008 GiB, 20.66% gc time)\n",
      "Ne = 60\n",
      "Ne 60 & β 1.0 & Lrad 6.0 & nonid_rad 8.0 & RMSE: 1.2966325340747165\n",
      "(Ne, β, Lrad, nonid_rad) = (60, 1.0, 6.0, 9.0)\n"
     ]
    },
    {
     "name": "stderr",
     "output_type": "stream",
     "text": [
      "\u001b[32mProgress: 100%|█████████████████████████████████████████| Time: 0:04:45\u001b[39m\n"
     ]
    },
    {
     "name": "stdout",
     "output_type": "stream",
     "text": [
      "285.924159 seconds (5.11 G allocations: 436.036 GiB, 20.40% gc time)\n",
      "Ne = 60\n",
      "Ne 60 & β 1.0 & Lrad 6.0 & nonid_rad 9.0 & RMSE: 1.5497313425233965\n",
      "(Ne, β, Lrad, nonid_rad) = (60, 1.0, 6.0, 10.0)\n"
     ]
    },
    {
     "name": "stderr",
     "output_type": "stream",
     "text": [
      "\u001b[32mProgress: 100%|█████████████████████████████████████████| Time: 0:05:20\u001b[39m\n"
     ]
    },
    {
     "name": "stdout",
     "output_type": "stream",
     "text": [
      "320.073658 seconds (5.68 G allocations: 482.495 GiB, 20.24% gc time)\n",
      "Ne = 60\n",
      "Ne 60 & β 1.0 & Lrad 6.0 & nonid_rad 10.0 & RMSE: 1.373016443792039\n",
      "(Ne, β, Lrad, nonid_rad) = (60, 1.0, 6.0, 11.0)\n"
     ]
    },
    {
     "name": "stderr",
     "output_type": "stream",
     "text": [
      "\u001b[32mProgress: 100%|█████████████████████████████████████████| Time: 0:06:03\u001b[39m\n"
     ]
    },
    {
     "name": "stdout",
     "output_type": "stream",
     "text": [
      "363.004307 seconds (6.30 G allocations: 555.707 GiB, 20.60% gc time)\n",
      "Ne = 60\n",
      "Ne 60 & β 1.0 & Lrad 6.0 & nonid_rad 11.0 & RMSE: 1.4245142852719077\n",
      "(Ne, β, Lrad, nonid_rad) = (60, 1.0, 6.0, 12.0)\n"
     ]
    },
    {
     "name": "stderr",
     "output_type": "stream",
     "text": [
      "\u001b[32mProgress: 100%|█████████████████████████████████████████| Time: 0:06:48\u001b[39m\n"
     ]
    },
    {
     "name": "stdout",
     "output_type": "stream",
     "text": [
      "408.776503 seconds (6.92 G allocations: 629.361 GiB, 20.61% gc time)\n",
      "Ne = 60\n",
      "Ne 60 & β 1.0 & Lrad 6.0 & nonid_rad 12.0 & RMSE: 1.6012931712360197\n",
      "(Ne, β, Lrad, nonid_rad) = (60, 1.0, 7.0, 1.0)\n"
     ]
    },
    {
     "name": "stderr",
     "output_type": "stream",
     "text": [
      "\u001b[32mProgress: 100%|█████████████████████████████████████████| Time: 0:00:56\u001b[39m\n"
     ]
    },
    {
     "name": "stdout",
     "output_type": "stream",
     "text": [
      " 56.348817 seconds (849.14 M allocations: 75.659 GiB, 18.34% gc time)\n",
      "Ne = 60\n",
      "Ne 60 & β 1.0 & Lrad 7.0 & nonid_rad 1.0 & RMSE: 1.26757666370106\n",
      "(Ne, β, Lrad, nonid_rad) = (60, 1.0, 7.0, 2.0)\n"
     ]
    },
    {
     "name": "stderr",
     "output_type": "stream",
     "text": [
      "\u001b[32mProgress: 100%|█████████████████████████████████████████| Time: 0:01:16\u001b[39m\n"
     ]
    },
    {
     "name": "stdout",
     "output_type": "stream",
     "text": [
      " 76.636973 seconds (1.31 G allocations: 109.408 GiB, 19.05% gc time)\n",
      "Ne = 60\n",
      "Ne 60 & β 1.0 & Lrad 7.0 & nonid_rad 2.0 & RMSE: 1.27043100075541\n",
      "(Ne, β, Lrad, nonid_rad) = (60, 1.0, 7.0, 3.0)\n"
     ]
    },
    {
     "name": "stderr",
     "output_type": "stream",
     "text": [
      "\u001b[32mProgress: 100%|█████████████████████████████████████████| Time: 0:01:41\u001b[39m\n"
     ]
    },
    {
     "name": "stdout",
     "output_type": "stream",
     "text": [
      "101.082122 seconds (1.81 G allocations: 146.371 GiB, 19.73% gc time)\n",
      "Ne = 60\n",
      "Ne 60 & β 1.0 & Lrad 7.0 & nonid_rad 3.0 & RMSE: 1.145718576193442\n",
      "(Ne, β, Lrad, nonid_rad) = (60, 1.0, 7.0, 4.0)\n"
     ]
    },
    {
     "name": "stderr",
     "output_type": "stream",
     "text": [
      "\u001b[32mProgress: 100%|█████████████████████████████████████████| Time: 0:02:08\u001b[39m\n"
     ]
    },
    {
     "name": "stdout",
     "output_type": "stream",
     "text": [
      "128.285100 seconds (2.33 G allocations: 185.981 GiB, 20.17% gc time)\n",
      "Ne = 60\n",
      "Ne 60 & β 1.0 & Lrad 7.0 & nonid_rad 4.0 & RMSE: 1.1511879425189053\n",
      "(Ne, β, Lrad, nonid_rad) = (60, 1.0, 7.0, 5.0)\n"
     ]
    },
    {
     "name": "stderr",
     "output_type": "stream",
     "text": [
      "\u001b[32mProgress: 100%|█████████████████████████████████████████| Time: 0:02:39\u001b[39m\n"
     ]
    },
    {
     "name": "stdout",
     "output_type": "stream",
     "text": [
      "159.896628 seconds (2.89 G allocations: 233.748 GiB, 20.74% gc time)\n",
      "Ne = 60\n",
      "Ne 60 & β 1.0 & Lrad 7.0 & nonid_rad 5.0 & RMSE: 1.119479183191352\n",
      "(Ne, β, Lrad, nonid_rad) = (60, 1.0, 7.0, 6.0)\n"
     ]
    },
    {
     "name": "stderr",
     "output_type": "stream",
     "text": [
      "\u001b[32mProgress: 100%|█████████████████████████████████████████| Time: 0:03:10\u001b[39m\n"
     ]
    },
    {
     "name": "stdout",
     "output_type": "stream",
     "text": [
      "190.748629 seconds (3.47 G allocations: 289.668 GiB, 20.40% gc time)\n",
      "Ne = 60\n",
      "Ne 60 & β 1.0 & Lrad 7.0 & nonid_rad 6.0 & RMSE: 1.1477711155795487\n",
      "(Ne, β, Lrad, nonid_rad) = (60, 1.0, 7.0, 7.0)\n"
     ]
    },
    {
     "name": "stderr",
     "output_type": "stream",
     "text": [
      "\u001b[32mProgress:   9%|███▊                                     |  ETA: 0:03:37\u001b[39m"
     ]
    }
   ],
   "source": [
    "metric_srmf0 = benchmark_srmf_lorenz96(model, data, path, Ne_array, β_array, Lrad_array, nonid_array, p);"
   ]
  },
  {
   "cell_type": "code",
   "execution_count": null,
   "metadata": {},
   "outputs": [],
   "source": [
    "save(path*\"metric_srmf\"*string(p)*\".jld\", \"metric\", metric_srmf0)"
   ]
  },
  {
   "cell_type": "markdown",
   "metadata": {},
   "source": [
    "p = 1"
   ]
  },
  {
   "cell_type": "code",
   "execution_count": null,
   "metadata": {},
   "outputs": [],
   "source": [
    "p = 1"
   ]
  },
  {
   "cell_type": "code",
   "execution_count": null,
   "metadata": {
    "scrolled": true
   },
   "outputs": [],
   "source": [
    "metric_srmf1 = benchmark_srmf_lorenz96(model, data, path, Ne_array, β_array, Lrad_array, nonid_array, p);"
   ]
  },
  {
   "cell_type": "code",
   "execution_count": null,
   "metadata": {},
   "outputs": [],
   "source": [
    "save(path*\"metric_srmf\"*string(p)*\".jld\", \"metric\", metric_srmf1)"
   ]
  },
  {
   "cell_type": "markdown",
   "metadata": {},
   "source": [
    "p = 2"
   ]
  },
  {
   "cell_type": "code",
   "execution_count": null,
   "metadata": {},
   "outputs": [],
   "source": [
    "p = 2"
   ]
  },
  {
   "cell_type": "code",
   "execution_count": null,
   "metadata": {},
   "outputs": [],
   "source": [
    "metric_srmf2 = benchmark_srmf_lorenz96(model, data, path, Ne_array, β_array, Lrad_array, nonid_array, p);"
   ]
  },
  {
   "cell_type": "code",
   "execution_count": null,
   "metadata": {},
   "outputs": [],
   "source": [
    "save(path*\"metric_srmf\"*string(p)*\".jld\", \"metric\", metric_srmf2)"
   ]
  },
  {
   "cell_type": "markdown",
   "metadata": {},
   "source": [
    "Benchmark for the Lorenz-96 problem with the sequential stochastic adaptive radial map filter"
   ]
  },
  {
   "cell_type": "markdown",
   "metadata": {},
   "source": [
    "p = 0"
   ]
  },
  {
   "cell_type": "code",
   "execution_count": null,
   "metadata": {},
   "outputs": [],
   "source": [
    "p = 0"
   ]
  },
  {
   "cell_type": "code",
   "execution_count": null,
   "metadata": {},
   "outputs": [],
   "source": [
    "metric_sadaptivermf0 = benchmark_sadaptivermf_lorenz96(model, data, path, Ne_array, β_array, p);"
   ]
  },
  {
   "cell_type": "code",
   "execution_count": null,
   "metadata": {},
   "outputs": [],
   "source": [
    "save(path*\"metric_sadaptivermf\"*string(p)*\".jld\", \"metric\", metric_sadaptivermf0)"
   ]
  },
  {
   "cell_type": "markdown",
   "metadata": {},
   "source": [
    "p = 1"
   ]
  },
  {
   "cell_type": "code",
   "execution_count": null,
   "metadata": {},
   "outputs": [],
   "source": [
    "p = 1"
   ]
  },
  {
   "cell_type": "code",
   "execution_count": null,
   "metadata": {},
   "outputs": [],
   "source": [
    "metric_sadaptivermf1 = benchmark_sadaptivermf_lorenz96(model, data, path, Ne_array, β_array, p);"
   ]
  },
  {
   "cell_type": "code",
   "execution_count": null,
   "metadata": {},
   "outputs": [],
   "source": [
    "save(path*\"metric_sadaptivermf\"*string(p)*\".jld\", \"metric\", metric_sadaptivermf0)"
   ]
  },
  {
   "cell_type": "markdown",
   "metadata": {},
   "source": [
    "p = 2"
   ]
  },
  {
   "cell_type": "code",
   "execution_count": null,
   "metadata": {},
   "outputs": [],
   "source": [
    "p = 2"
   ]
  },
  {
   "cell_type": "code",
   "execution_count": null,
   "metadata": {},
   "outputs": [],
   "source": [
    "metric_sadaptivermf2 = benchmark_sadaptivermf_lorenz96(model, data, path, Ne_array, β_array, p);"
   ]
  },
  {
   "cell_type": "code",
   "execution_count": null,
   "metadata": {},
   "outputs": [],
   "source": [
    "save(path*\"metric_sadaptivermf\"*string(p)*\".jld\", \"metric\", metric_sadaptivermf0)"
   ]
  }
 ],
 "metadata": {
  "kernelspec": {
   "display_name": "Julia 1.5.3",
   "language": "julia",
   "name": "julia-1.5"
  },
  "language_info": {
   "file_extension": ".jl",
   "mimetype": "application/julia",
   "name": "julia",
   "version": "1.5.3"
  }
 },
 "nbformat": 4,
 "nbformat_minor": 2
}
