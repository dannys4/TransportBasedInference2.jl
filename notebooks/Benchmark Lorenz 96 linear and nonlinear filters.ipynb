{
 "cells": [
  {
   "cell_type": "markdown",
   "metadata": {},
   "source": [
    "## Benchmark Lorenz 96 linear and nonlinear filters"
   ]
  },
  {
   "cell_type": "markdown",
   "metadata": {},
   "source": [
    "In this notebook, we are interested in the sequential inference \n",
    "\n",
    "\n",
    "\n",
    "References: \n",
    "\n",
    "\n",
    "[1] Evensen, G., 1994. Sequential data assimilation with a nonlinear quasi‐geostrophic model using Monte Carlo methods to forecast error statistics. Journal of Geophysical Research: Oceans, 99(C5), pp.10143-10162.\n",
    "\n",
    "[2] Asch, M., Bocquet, M. and Nodet, M., 2016. Data assimilation: methods, algorithms, and applications. Society for Industrial and Applied Mathematics.\n",
    "\n",
    "[3] Bishop, C.H., Etherton, B.J. and Majumdar, S.J., 2001. Adaptive sampling with the ensemble transform Kalman filter. Part I: Theoretical aspects. Monthly weather review, 129(3), pp.420-436. \n",
    "\n",
    "[4] Lorenz, E.N., 1963. Deterministic nonperiodic flow. Journal of atmospheric sciences, 20(2), pp.130-141.\n",
    "\n",
    "[5] Spantini, A., Baptista, R. and Marzouk, Y., 2019. Coupling techniques for nonlinear ensemble filtering. arXiv preprint arXiv:1907.00389."
   ]
  },
  {
   "cell_type": "markdown",
   "metadata": {},
   "source": [
    "### The basic steps\n",
    "To carry out sequential inference in `AdaptiveTransportMap`, we need to carry out a few basic steps:\n",
    "* **Specify the problem**: Define the state-space model: initial condition, dynamical and observation models (including process and observation noise)\n",
    "* **Specify the inflation parameters**: Determine the levels of covariance inflation to properly balance the dynamical system and the observations from the truth system\n",
    "* **Specify the filter**: Choose the ensemble filter to assimilate the observations in the state estimate\n",
    "* **Perform the sequential inference**: Perform the sequential inference\n",
    "\n",
    "We will go through all of these here."
   ]
  },
  {
   "cell_type": "code",
   "execution_count": 4,
   "metadata": {},
   "outputs": [],
   "source": [
    "using Revise\n",
    "using LinearAlgebra\n",
    "using AdaptiveTransportMap\n",
    "using Statistics\n",
    "using Distributions\n",
    "using OrdinaryDiffEq\n",
    "using JLD"
   ]
  },
  {
   "cell_type": "code",
   "execution_count": 5,
   "metadata": {},
   "outputs": [],
   "source": [
    "using DelimitedFiles"
   ]
  },
  {
   "cell_type": "markdown",
   "metadata": {},
   "source": [
    "Load some packages to make nice figures"
   ]
  },
  {
   "cell_type": "code",
   "execution_count": 6,
   "metadata": {},
   "outputs": [],
   "source": [
    "using Plots\n",
    "default(tickfont = font(\"CMU Serif\", 9), \n",
    "        titlefont = font(\"CMU Serif\", 14), \n",
    "        guidefont = font(\"CMU Serif\", 12),\n",
    "        legendfont = font(\"CMU Serif\", 10),\n",
    "        grid = false)\n",
    "# Plots.font(\"sans-serif\")\n",
    "# clibrary(:colorbrewer)\n",
    "# gr()\n",
    "pyplot()\n",
    "\n",
    "using LaTeXStrings\n",
    "# PyPlot.rc(\"text\", usetex = \"true\")\n",
    "# rcParams = PyPlot.PyDict(PyPlot.matplotlib.\"rcParams\")\n",
    "# rcParams[\"text.usetex\"] = true;\n",
    "PyPlot.rc(\"font\", family = \"CMU Serif\")\n",
    "PyPlot.matplotlib[:rc](\"mathtext\",fontset=\"cm\")        #computer modern font \n",
    "PyPlot.matplotlib[:rc](\"font\",family=\"serif\",size=12)\n",
    "\n",
    "using ColorSchemes"
   ]
  },
  {
   "cell_type": "code",
   "execution_count": null,
   "metadata": {},
   "outputs": [],
   "source": []
  },
  {
   "cell_type": "code",
   "execution_count": null,
   "metadata": {},
   "outputs": [],
   "source": []
  },
  {
   "cell_type": "code",
   "execution_count": null,
   "metadata": {},
   "outputs": [],
   "source": []
  },
  {
   "cell_type": "code",
   "execution_count": null,
   "metadata": {},
   "outputs": [],
   "source": []
  },
  {
   "cell_type": "code",
   "execution_count": null,
   "metadata": {},
   "outputs": [],
   "source": []
  },
  {
   "cell_type": "code",
   "execution_count": null,
   "metadata": {},
   "outputs": [],
   "source": []
  },
  {
   "cell_type": "code",
   "execution_count": 30,
   "metadata": {},
   "outputs": [
    {
     "name": "stderr",
     "output_type": "stream",
     "text": [
      "\u001b[32mProgress: 100%|█████████████████████████████████████████| Time: 0:00:00\u001b[39m\n"
     ]
    },
    {
     "name": "stdout",
     "output_type": "stream",
     "text": [
      "Ne 10 RMSE: 0.6017422369576234\n"
     ]
    },
    {
     "name": "stderr",
     "output_type": "stream",
     "text": [
      "\u001b[32mProgress: 100%|█████████████████████████████████████████| Time: 0:00:00\u001b[39m\n"
     ]
    },
    {
     "name": "stdout",
     "output_type": "stream",
     "text": [
      "Ne 20 RMSE: 0.5078680720281411\n"
     ]
    },
    {
     "name": "stderr",
     "output_type": "stream",
     "text": [
      "\u001b[32mProgress: 100%|█████████████████████████████████████████| Time: 0:00:01\u001b[39m\n"
     ]
    },
    {
     "name": "stdout",
     "output_type": "stream",
     "text": [
      "Ne 40 RMSE: 0.49800844390756266\n"
     ]
    },
    {
     "name": "stderr",
     "output_type": "stream",
     "text": [
      "\u001b[32mProgress: 100%|█████████████████████████████████████████| Time: 0:00:01\u001b[39m\n"
     ]
    },
    {
     "name": "stdout",
     "output_type": "stream",
     "text": [
      "Ne 60 RMSE: 0.49749834289000433\n"
     ]
    },
    {
     "name": "stderr",
     "output_type": "stream",
     "text": [
      "\u001b[32mProgress: 100%|█████████████████████████████████████████| Time: 0:00:02\u001b[39m\n"
     ]
    },
    {
     "name": "stdout",
     "output_type": "stream",
     "text": [
      "Ne 100 RMSE: 0.4731853040322384\n"
     ]
    },
    {
     "name": "stderr",
     "output_type": "stream",
     "text": [
      "\u001b[32mProgress: 100%|█████████████████████████████████████████| Time: 0:00:04\u001b[39m\n"
     ]
    },
    {
     "name": "stdout",
     "output_type": "stream",
     "text": [
      "Ne 200 RMSE: 0.4871107090323029\n"
     ]
    },
    {
     "name": "stderr",
     "output_type": "stream",
     "text": [
      "\u001b[32mProgress: 100%|█████████████████████████████████████████| Time: 0:00:08\u001b[39m\n"
     ]
    },
    {
     "name": "stdout",
     "output_type": "stream",
     "text": [
      "Ne 400 RMSE: 0.4948593933292423\n"
     ]
    },
    {
     "name": "stderr",
     "output_type": "stream",
     "text": [
      "\u001b[32mProgress: 100%|█████████████████████████████████████████| Time: 0:00:11\u001b[39m\n"
     ]
    },
    {
     "name": "stdout",
     "output_type": "stream",
     "text": [
      "Ne 600 RMSE: 0.4949281341576929\n"
     ]
    }
   ],
   "source": [
    "path = \"/media/mat/HDD/AdaptiveTransportMap/notebooks/lorenz96/data/\"\n",
    "\n",
    "β_array = collect(0.95:0.01:1.05)\n",
    "Ne_array = [10, 20, 40, 60, 100, 200, 400, 600]\n",
    "\n",
    "model, data = setup_lorenz96(path, Ne_array);"
   ]
  },
  {
   "cell_type": "code",
   "execution_count": 31,
   "metadata": {},
   "outputs": [],
   "source": [
    "save(path*\"lorenz96_data.jld\", \"data\", data)"
   ]
  },
  {
   "cell_type": "markdown",
   "metadata": {},
   "source": [
    "Benchmark for the Lorenz-96 problem with the sequential stochastic EnkF"
   ]
  },
  {
   "cell_type": "code",
   "execution_count": 32,
   "metadata": {
    "scrolled": true
   },
   "outputs": [
    {
     "name": "stdout",
     "output_type": "stream",
     "text": [
      "(Ne, β) = (10, 0.95)\n"
     ]
    },
    {
     "name": "stderr",
     "output_type": "stream",
     "text": [
      "\u001b[32mProgress: 100%|█████████████████████████████████████████| Time: 0:00:00\u001b[39m\n"
     ]
    },
    {
     "name": "stdout",
     "output_type": "stream",
     "text": [
      "  0.479686 seconds (3.51 M allocations: 331.776 MiB, 6.86% gc time)\n",
      "Ne = 10\n",
      "Ne 10& β 0.95 RMSE: 1.4063312146337485\n",
      "(Ne, β) = (10, 0.96)\n"
     ]
    },
    {
     "name": "stderr",
     "output_type": "stream",
     "text": [
      "\u001b[32mProgress: 100%|█████████████████████████████████████████| Time: 0:00:00\u001b[39m\n"
     ]
    },
    {
     "name": "stdout",
     "output_type": "stream",
     "text": [
      "  0.481681 seconds (3.51 M allocations: 331.776 MiB, 5.96% gc time)\n",
      "Ne = 10\n",
      "Ne 10& β 0.96 RMSE: 3.031626178778555\n",
      "(Ne, β) = (10, 0.97)\n"
     ]
    },
    {
     "name": "stderr",
     "output_type": "stream",
     "text": [
      "\u001b[32mProgress: 100%|█████████████████████████████████████████| Time: 0:00:00\u001b[39m\n"
     ]
    },
    {
     "name": "stdout",
     "output_type": "stream",
     "text": [
      "  0.466336 seconds (3.51 M allocations: 331.775 MiB, 6.28% gc time)\n",
      "Ne = 10\n",
      "Ne 10& β 0.97 RMSE: 3.792288496634647\n",
      "(Ne, β) = (10, 0.98)\n"
     ]
    },
    {
     "name": "stderr",
     "output_type": "stream",
     "text": [
      "\u001b[32mProgress: 100%|█████████████████████████████████████████| Time: 0:00:00\u001b[39m\n"
     ]
    },
    {
     "name": "stdout",
     "output_type": "stream",
     "text": [
      "  0.464998 seconds (3.51 M allocations: 331.776 MiB, 6.65% gc time)\n",
      "Ne = 10\n",
      "Ne 10& β 0.98 RMSE: 1.6604488421743582\n",
      "(Ne, β) = (10, 0.99)\n"
     ]
    },
    {
     "name": "stderr",
     "output_type": "stream",
     "text": [
      "\u001b[32mProgress: 100%|█████████████████████████████████████████| Time: 0:00:00\u001b[39m\n"
     ]
    },
    {
     "name": "stdout",
     "output_type": "stream",
     "text": [
      "  0.500667 seconds (3.51 M allocations: 331.776 MiB, 6.88% gc time)\n",
      "Ne = 10\n",
      "Ne 10& β 0.99 RMSE: 1.5426798113982616\n",
      "(Ne, β) = (10, 1.0)\n"
     ]
    },
    {
     "name": "stderr",
     "output_type": "stream",
     "text": [
      "\u001b[32mProgress: 100%|█████████████████████████████████████████| Time: 0:00:00\u001b[39m\n"
     ]
    },
    {
     "name": "stdout",
     "output_type": "stream",
     "text": [
      "  0.450674 seconds (3.51 M allocations: 331.775 MiB, 4.70% gc time)\n",
      "Ne = 10\n",
      "Ne 10& β 1.0 RMSE: 1.2500391253305443\n",
      "(Ne, β) = (10, 1.01)\n"
     ]
    },
    {
     "name": "stderr",
     "output_type": "stream",
     "text": [
      "\u001b[32mProgress: 100%|█████████████████████████████████████████| Time: 0:00:00\u001b[39m\n"
     ]
    },
    {
     "name": "stdout",
     "output_type": "stream",
     "text": [
      "  0.460507 seconds (3.51 M allocations: 331.776 MiB, 4.60% gc time)\n",
      "Ne = 10\n",
      "Ne 10& β 1.01 RMSE: 3.236475729241996\n",
      "(Ne, β) = (10, 1.02)\n"
     ]
    },
    {
     "name": "stderr",
     "output_type": "stream",
     "text": [
      "\u001b[32mProgress: 100%|█████████████████████████████████████████| Time: 0:00:00\u001b[39m\n"
     ]
    },
    {
     "name": "stdout",
     "output_type": "stream",
     "text": [
      "  0.473986 seconds (3.51 M allocations: 331.776 MiB, 6.71% gc time)\n",
      "Ne = 10\n",
      "Ne 10& β 1.02 RMSE: 3.531907756268553\n",
      "(Ne, β) = (10, 1.03)\n"
     ]
    },
    {
     "name": "stderr",
     "output_type": "stream",
     "text": [
      "\u001b[32mProgress: 100%|█████████████████████████████████████████| Time: 0:00:00\u001b[39m\n"
     ]
    },
    {
     "name": "stdout",
     "output_type": "stream",
     "text": [
      "  0.465136 seconds (3.51 M allocations: 331.776 MiB, 6.81% gc time)\n",
      "Ne = 10\n",
      "Ne 10& β 1.03 RMSE: 2.5649160731770326\n",
      "(Ne, β) = (10, 1.04)\n"
     ]
    },
    {
     "name": "stderr",
     "output_type": "stream",
     "text": [
      "\u001b[32mProgress: 100%|█████████████████████████████████████████| Time: 0:00:00\u001b[39m\n"
     ]
    },
    {
     "name": "stdout",
     "output_type": "stream",
     "text": [
      "  0.467640 seconds (3.51 M allocations: 331.775 MiB, 6.90% gc time)\n",
      "Ne = 10\n",
      "Ne 10& β 1.04 RMSE: 0.6214870201549341\n",
      "(Ne, β) = (10, 1.05)\n"
     ]
    },
    {
     "name": "stderr",
     "output_type": "stream",
     "text": [
      "\u001b[32mProgress: 100%|█████████████████████████████████████████| Time: 0:00:00\u001b[39m\n"
     ]
    },
    {
     "name": "stdout",
     "output_type": "stream",
     "text": [
      "  0.460764 seconds (3.51 M allocations: 331.776 MiB, 7.19% gc time)\n",
      "Ne = 10\n",
      "Ne 10& β 1.05 RMSE: 3.864993494158486\n",
      "(Ne, β) = (20, 0.95)\n"
     ]
    },
    {
     "name": "stderr",
     "output_type": "stream",
     "text": [
      "\u001b[32mProgress: 100%|█████████████████████████████████████████| Time: 0:00:00\u001b[39m\n"
     ]
    },
    {
     "name": "stdout",
     "output_type": "stream",
     "text": [
      "  0.821099 seconds (6.63 M allocations: 634.549 MiB, 5.97% gc time)\n",
      "Ne = 20\n",
      "Ne 20& β 0.95 RMSE: 0.5802104995957479\n",
      "(Ne, β) = (20, 0.96)\n"
     ]
    },
    {
     "name": "stderr",
     "output_type": "stream",
     "text": [
      "\u001b[32mProgress: 100%|█████████████████████████████████████████| Time: 0:00:00\u001b[39m\n"
     ]
    },
    {
     "name": "stdout",
     "output_type": "stream",
     "text": [
      "  0.821739 seconds (6.63 M allocations: 634.549 MiB, 6.10% gc time)\n",
      "Ne = 20\n",
      "Ne 20& β 0.96 RMSE: 0.549765183205732\n",
      "(Ne, β) = (20, 0.97)\n"
     ]
    },
    {
     "name": "stderr",
     "output_type": "stream",
     "text": [
      "\u001b[32mProgress: 100%|█████████████████████████████████████████| Time: 0:00:00\u001b[39m\n"
     ]
    },
    {
     "name": "stdout",
     "output_type": "stream",
     "text": [
      "  0.875021 seconds (6.63 M allocations: 634.562 MiB, 6.25% gc time)\n",
      "Ne = 20\n",
      "Ne 20& β 0.97 RMSE: 0.5002744976081981\n",
      "(Ne, β) = (20, 0.98)\n"
     ]
    },
    {
     "name": "stderr",
     "output_type": "stream",
     "text": [
      "\u001b[32mProgress: 100%|█████████████████████████████████████████| Time: 0:00:00\u001b[39m\n"
     ]
    },
    {
     "name": "stdout",
     "output_type": "stream",
     "text": [
      "  0.862150 seconds (6.63 M allocations: 634.563 MiB, 7.31% gc time)\n",
      "Ne = 20\n",
      "Ne 20& β 0.98 RMSE: 0.5572481602952392\n",
      "(Ne, β) = (20, 0.99)\n"
     ]
    },
    {
     "name": "stderr",
     "output_type": "stream",
     "text": [
      "\u001b[32mProgress: 100%|█████████████████████████████████████████| Time: 0:00:00\u001b[39m\n"
     ]
    },
    {
     "name": "stdout",
     "output_type": "stream",
     "text": [
      "  0.841730 seconds (6.63 M allocations: 634.549 MiB, 6.48% gc time)\n",
      "Ne = 20\n",
      "Ne 20& β 0.99 RMSE: 1.0325762087571475\n",
      "(Ne, β) = (20, 1.0)\n"
     ]
    },
    {
     "name": "stderr",
     "output_type": "stream",
     "text": [
      "\u001b[32mProgress: 100%|█████████████████████████████████████████| Time: 0:00:00\u001b[39m\n"
     ]
    },
    {
     "name": "stdout",
     "output_type": "stream",
     "text": [
      "  0.828318 seconds (6.63 M allocations: 634.549 MiB, 6.59% gc time)\n",
      "Ne = 20\n",
      "Ne 20& β 1.0 RMSE: 0.5097578425184333\n",
      "(Ne, β) = (20, 1.01)\n"
     ]
    },
    {
     "name": "stderr",
     "output_type": "stream",
     "text": [
      "\u001b[32mProgress: 100%|█████████████████████████████████████████| Time: 0:00:00\u001b[39m\n"
     ]
    },
    {
     "name": "stdout",
     "output_type": "stream",
     "text": [
      "  0.834421 seconds (6.63 M allocations: 634.549 MiB, 6.72% gc time)\n",
      "Ne = 20\n",
      "Ne 20& β 1.01 RMSE: 0.4869539071793554\n",
      "(Ne, β) = (20, 1.02)\n"
     ]
    },
    {
     "name": "stderr",
     "output_type": "stream",
     "text": [
      "\u001b[32mProgress: 100%|█████████████████████████████████████████| Time: 0:00:00\u001b[39m\n"
     ]
    },
    {
     "name": "stdout",
     "output_type": "stream",
     "text": [
      "  0.829375 seconds (6.63 M allocations: 634.549 MiB, 6.94% gc time)\n",
      "Ne = 20\n",
      "Ne 20& β 1.02 RMSE: 0.528367594651447\n",
      "(Ne, β) = (20, 1.03)\n"
     ]
    },
    {
     "name": "stderr",
     "output_type": "stream",
     "text": [
      "\u001b[32mProgress: 100%|█████████████████████████████████████████| Time: 0:00:00\u001b[39m\n"
     ]
    },
    {
     "name": "stdout",
     "output_type": "stream",
     "text": [
      "  0.836822 seconds (6.63 M allocations: 634.549 MiB, 7.07% gc time)\n",
      "Ne = 20\n",
      "Ne 20& β 1.03 RMSE: 0.5041493905266597\n",
      "(Ne, β) = (20, 1.04)\n"
     ]
    },
    {
     "name": "stderr",
     "output_type": "stream",
     "text": [
      "\u001b[32mProgress: 100%|█████████████████████████████████████████| Time: 0:00:00\u001b[39m\n"
     ]
    },
    {
     "name": "stdout",
     "output_type": "stream",
     "text": [
      "  0.825497 seconds (6.63 M allocations: 634.549 MiB, 5.96% gc time)\n",
      "Ne = 20\n",
      "Ne 20& β 1.04 RMSE: 0.7492891653218842\n",
      "(Ne, β) = (20, 1.05)\n"
     ]
    },
    {
     "name": "stderr",
     "output_type": "stream",
     "text": [
      "\u001b[32mProgress: 100%|█████████████████████████████████████████| Time: 0:00:00\u001b[39m\n",
      "\u001b[32mProgress:  25%|██████████▎                              |  ETA: 0:00:44\u001b[39m"
     ]
    },
    {
     "name": "stdout",
     "output_type": "stream",
     "text": [
      "  0.866061 seconds (6.63 M allocations: 634.562 MiB, 7.16% gc time)\n",
      "Ne = 20\n",
      "Ne 20& β 1.05 RMSE: 0.8565157424294946\n",
      "(Ne, β) = (40, 0.95)\n"
     ]
    },
    {
     "name": "stderr",
     "output_type": "stream",
     "text": [
      "\u001b[32mProgress: 100%|█████████████████████████████████████████| Time: 0:00:01\u001b[39m\n"
     ]
    },
    {
     "name": "stdout",
     "output_type": "stream",
     "text": [
      "  1.970142 seconds (12.87 M allocations: 1.213 GiB, 6.35% gc time)\n",
      "Ne = 40\n",
      "Ne 40& β 0.95 RMSE: 0.5284598942985135\n",
      "(Ne, β) = (40, 0.96)\n"
     ]
    },
    {
     "name": "stderr",
     "output_type": "stream",
     "text": [
      "\u001b[32mProgress: 100%|█████████████████████████████████████████| Time: 0:00:03\u001b[39m\n"
     ]
    },
    {
     "name": "stdout",
     "output_type": "stream",
     "text": [
      "  3.311433 seconds (12.87 M allocations: 1.213 GiB, 5.75% gc time)\n",
      "Ne = 40\n",
      "Ne 40& β 0.96 RMSE: 0.497766182596871\n",
      "(Ne, β) = (40, 0.97)\n"
     ]
    },
    {
     "name": "stderr",
     "output_type": "stream",
     "text": [
      "\u001b[32mProgress: 100%|█████████████████████████████████████████| Time: 0:00:03\u001b[39m\n"
     ]
    },
    {
     "name": "stdout",
     "output_type": "stream",
     "text": [
      "  3.378152 seconds (12.87 M allocations: 1.213 GiB, 5.83% gc time)\n",
      "Ne = 40\n",
      "Ne 40& β 0.97 RMSE: 0.5094386723099606\n",
      "(Ne, β) = (40, 0.98)\n"
     ]
    },
    {
     "name": "stderr",
     "output_type": "stream",
     "text": [
      "\u001b[32mProgress: 100%|█████████████████████████████████████████| Time: 0:00:03\u001b[39m\n"
     ]
    },
    {
     "name": "stdout",
     "output_type": "stream",
     "text": [
      "  3.472086 seconds (12.87 M allocations: 1.213 GiB, 5.28% gc time)\n",
      "Ne = 40\n",
      "Ne 40& β 0.98 RMSE: 0.48665734220117923\n",
      "(Ne, β) = (40, 0.99)\n"
     ]
    },
    {
     "name": "stderr",
     "output_type": "stream",
     "text": [
      "\u001b[32mProgress: 100%|█████████████████████████████████████████| Time: 0:00:03\u001b[39m\n"
     ]
    },
    {
     "name": "stdout",
     "output_type": "stream",
     "text": [
      "  3.513084 seconds (12.87 M allocations: 1.213 GiB, 6.06% gc time)\n",
      "Ne = 40\n",
      "Ne 40& β 0.99 RMSE: 0.510802603028653\n",
      "(Ne, β) = (40, 1.0)\n"
     ]
    },
    {
     "name": "stderr",
     "output_type": "stream",
     "text": [
      "\u001b[32mProgress: 100%|█████████████████████████████████████████| Time: 0:00:03\u001b[39m\n"
     ]
    },
    {
     "name": "stdout",
     "output_type": "stream",
     "text": [
      "  3.526586 seconds (12.87 M allocations: 1.213 GiB, 6.18% gc time)\n",
      "Ne = 40\n",
      "Ne 40& β 1.0 RMSE: 0.5009107957619987\n",
      "(Ne, β) = (40, 1.01)\n"
     ]
    },
    {
     "name": "stderr",
     "output_type": "stream",
     "text": [
      "\u001b[32mProgress: 100%|█████████████████████████████████████████| Time: 0:00:03\u001b[39m\n"
     ]
    },
    {
     "name": "stdout",
     "output_type": "stream",
     "text": [
      "  3.493119 seconds (12.87 M allocations: 1.213 GiB, 5.64% gc time)\n",
      "Ne = 40\n",
      "Ne 40& β 1.01 RMSE: 0.48910059380117127\n",
      "(Ne, β) = (40, 1.02)\n"
     ]
    },
    {
     "name": "stderr",
     "output_type": "stream",
     "text": [
      "\u001b[32mProgress: 100%|█████████████████████████████████████████| Time: 0:00:03\u001b[39m\n"
     ]
    },
    {
     "name": "stdout",
     "output_type": "stream",
     "text": [
      "  3.515112 seconds (12.87 M allocations: 1.213 GiB, 5.74% gc time)\n",
      "Ne = 40\n",
      "Ne 40& β 1.02 RMSE: 0.4827413837144244\n",
      "(Ne, β) = (40, 1.03)\n"
     ]
    },
    {
     "name": "stderr",
     "output_type": "stream",
     "text": [
      "\u001b[32mProgress: 100%|█████████████████████████████████████████| Time: 0:00:03\u001b[39m\n"
     ]
    },
    {
     "name": "stdout",
     "output_type": "stream",
     "text": [
      "  3.520160 seconds (12.87 M allocations: 1.213 GiB, 5.88% gc time)\n",
      "Ne = 40\n",
      "Ne 40& β 1.03 RMSE: 0.4758120393293433\n",
      "(Ne, β) = (40, 1.04)\n"
     ]
    },
    {
     "name": "stderr",
     "output_type": "stream",
     "text": [
      "\u001b[32mProgress: 100%|█████████████████████████████████████████| Time: 0:00:03\u001b[39m\n"
     ]
    },
    {
     "name": "stdout",
     "output_type": "stream",
     "text": [
      "  3.524337 seconds (12.87 M allocations: 1.213 GiB, 6.00% gc time)\n",
      "Ne = 40\n",
      "Ne 40& β 1.04 RMSE: 0.5410913394898827\n",
      "(Ne, β) = (40, 1.05)\n"
     ]
    },
    {
     "name": "stderr",
     "output_type": "stream",
     "text": [
      "\u001b[32mProgress: 100%|█████████████████████████████████████████| Time: 0:00:03\u001b[39m\n",
      "\u001b[32mProgress:  38%|███████████████▍                         |  ETA: 0:01:25\u001b[39m"
     ]
    },
    {
     "name": "stdout",
     "output_type": "stream",
     "text": [
      "  3.115034 seconds (12.87 M allocations: 1.213 GiB, 6.28% gc time)\n",
      "Ne = 40\n",
      "Ne 40& β 1.05 RMSE: 0.597654103674671\n",
      "(Ne, β) = (60, 0.95)\n"
     ]
    },
    {
     "name": "stderr",
     "output_type": "stream",
     "text": [
      "\u001b[32mProgress: 100%|█████████████████████████████████████████| Time: 0:00:02\u001b[39m\n"
     ]
    },
    {
     "name": "stdout",
     "output_type": "stream",
     "text": [
      "  2.631600 seconds (19.11 M allocations: 1.808 GiB, 7.30% gc time)\n",
      "Ne = 60\n",
      "Ne 60& β 0.95 RMSE: 0.49072650446881527\n",
      "(Ne, β) = (60, 0.96)\n"
     ]
    },
    {
     "name": "stderr",
     "output_type": "stream",
     "text": [
      "\u001b[32mProgress: 100%|█████████████████████████████████████████| Time: 0:00:02\u001b[39m\n"
     ]
    },
    {
     "name": "stdout",
     "output_type": "stream",
     "text": [
      "  2.572923 seconds (19.11 M allocations: 1.808 GiB, 7.66% gc time)\n",
      "Ne = 60\n",
      "Ne 60& β 0.96 RMSE: 0.49362433535345895\n",
      "(Ne, β) = (60, 0.97)\n"
     ]
    },
    {
     "name": "stderr",
     "output_type": "stream",
     "text": [
      "\u001b[32mProgress: 100%|█████████████████████████████████████████| Time: 0:00:02\u001b[39m\n"
     ]
    },
    {
     "name": "stdout",
     "output_type": "stream",
     "text": [
      "  2.650726 seconds (19.11 M allocations: 1.808 GiB, 7.78% gc time)\n",
      "Ne = 60\n",
      "Ne 60& β 0.97 RMSE: 0.4713884762408624\n",
      "(Ne, β) = (60, 0.98)\n"
     ]
    },
    {
     "name": "stderr",
     "output_type": "stream",
     "text": [
      "\u001b[32mProgress: 100%|█████████████████████████████████████████| Time: 0:00:02\u001b[39m\n"
     ]
    },
    {
     "name": "stdout",
     "output_type": "stream",
     "text": [
      "  2.629814 seconds (19.11 M allocations: 1.808 GiB, 7.96% gc time)\n",
      "Ne = 60\n",
      "Ne 60& β 0.98 RMSE: 0.47218059168415766\n",
      "(Ne, β) = (60, 0.99)\n"
     ]
    },
    {
     "name": "stderr",
     "output_type": "stream",
     "text": [
      "\u001b[32mProgress: 100%|█████████████████████████████████████████| Time: 0:00:02\u001b[39m\n"
     ]
    },
    {
     "name": "stdout",
     "output_type": "stream",
     "text": [
      "  2.645565 seconds (19.11 M allocations: 1.808 GiB, 8.23% gc time)\n",
      "Ne = 60\n",
      "Ne 60& β 0.99 RMSE: 0.5117657782713275\n",
      "(Ne, β) = (60, 1.0)\n"
     ]
    },
    {
     "name": "stderr",
     "output_type": "stream",
     "text": [
      "\u001b[32mProgress: 100%|█████████████████████████████████████████| Time: 0:00:02\u001b[39m\n"
     ]
    },
    {
     "name": "stdout",
     "output_type": "stream",
     "text": [
      "  2.617926 seconds (19.11 M allocations: 1.808 GiB, 8.37% gc time)\n",
      "Ne = 60\n",
      "Ne 60& β 1.0 RMSE: 0.48383685271146476\n",
      "(Ne, β) = (60, 1.01)\n"
     ]
    },
    {
     "name": "stderr",
     "output_type": "stream",
     "text": [
      "\u001b[32mProgress: 100%|█████████████████████████████████████████| Time: 0:00:02\u001b[39m\n"
     ]
    },
    {
     "name": "stdout",
     "output_type": "stream",
     "text": [
      "  2.628213 seconds (19.11 M allocations: 1.808 GiB, 7.90% gc time)\n",
      "Ne = 60\n",
      "Ne 60& β 1.01 RMSE: 0.4767455441446436\n",
      "(Ne, β) = (60, 1.02)\n"
     ]
    },
    {
     "name": "stderr",
     "output_type": "stream",
     "text": [
      "\u001b[32mProgress: 100%|█████████████████████████████████████████| Time: 0:00:02\u001b[39m\n"
     ]
    },
    {
     "name": "stdout",
     "output_type": "stream",
     "text": [
      "  2.615836 seconds (19.11 M allocations: 1.808 GiB, 8.08% gc time)\n",
      "Ne = 60\n",
      "Ne 60& β 1.02 RMSE: 0.4897392708040778\n",
      "(Ne, β) = (60, 1.03)\n"
     ]
    },
    {
     "name": "stderr",
     "output_type": "stream",
     "text": [
      "\u001b[32mProgress: 100%|█████████████████████████████████████████| Time: 0:00:02\u001b[39m\n"
     ]
    },
    {
     "name": "stdout",
     "output_type": "stream",
     "text": [
      "  2.814421 seconds (19.11 M allocations: 1.808 GiB, 14.41% gc time)\n",
      "Ne = 60\n",
      "Ne 60& β 1.03 RMSE: 0.4811002811201757\n",
      "(Ne, β) = (60, 1.04)\n"
     ]
    },
    {
     "name": "stderr",
     "output_type": "stream",
     "text": [
      "\u001b[32mProgress: 100%|█████████████████████████████████████████| Time: 0:00:02\u001b[39m\n"
     ]
    },
    {
     "name": "stdout",
     "output_type": "stream",
     "text": [
      "  2.577492 seconds (19.11 M allocations: 1.808 GiB, 6.26% gc time)\n",
      "Ne = 60\n",
      "Ne 60& β 1.04 RMSE: 0.5032688426103895\n",
      "(Ne, β) = (60, 1.05)\n"
     ]
    },
    {
     "name": "stderr",
     "output_type": "stream",
     "text": [
      "\u001b[32mProgress: 100%|█████████████████████████████████████████| Time: 0:00:02\u001b[39m\n"
     ]
    },
    {
     "name": "stdout",
     "output_type": "stream",
     "text": [
      "  2.555562 seconds (19.11 M allocations: 1.808 GiB, 6.22% gc time)\n",
      "Ne = 60\n"
     ]
    },
    {
     "name": "stderr",
     "output_type": "stream",
     "text": [
      "\r",
      "\u001b[32mProgress:  50%|████████████████████▌                    |  ETA: 0:01:20\u001b[39m"
     ]
    },
    {
     "name": "stdout",
     "output_type": "stream",
     "text": [
      "Ne 60& β 1.05 RMSE: 0.47555622478060433\n",
      "(Ne, β) = (100, 0.95)\n"
     ]
    },
    {
     "name": "stderr",
     "output_type": "stream",
     "text": [
      "\u001b[32mProgress: 100%|█████████████████████████████████████████| Time: 0:00:04\u001b[39m\n"
     ]
    },
    {
     "name": "stdout",
     "output_type": "stream",
     "text": [
      "  4.059536 seconds (31.59 M allocations: 2.989 GiB, 6.78% gc time)\n",
      "Ne = 100\n",
      "Ne 100& β 0.95 RMSE: 0.47290381320691943\n",
      "(Ne, β) = (100, 0.96)\n"
     ]
    },
    {
     "name": "stderr",
     "output_type": "stream",
     "text": [
      "\u001b[32mProgress: 100%|█████████████████████████████████████████| Time: 0:00:04\u001b[39m\n"
     ]
    },
    {
     "name": "stdout",
     "output_type": "stream",
     "text": [
      "  4.155321 seconds (31.59 M allocations: 2.989 GiB, 7.06% gc time)\n",
      "Ne = 100\n",
      "Ne 100& β 0.96 RMSE: 0.46752767081739494\n",
      "(Ne, β) = (100, 0.97)\n"
     ]
    },
    {
     "name": "stderr",
     "output_type": "stream",
     "text": [
      "\u001b[32mProgress: 100%|█████████████████████████████████████████| Time: 0:00:05\u001b[39m\n"
     ]
    },
    {
     "name": "stdout",
     "output_type": "stream",
     "text": [
      "  5.476672 seconds (31.59 M allocations: 2.989 GiB, 6.32% gc time)\n",
      "Ne = 100\n",
      "Ne 100& β 0.97 RMSE: 0.5042951771119075\n",
      "(Ne, β) = (100, 0.98)\n"
     ]
    },
    {
     "name": "stderr",
     "output_type": "stream",
     "text": [
      "\u001b[32mProgress: 100%|█████████████████████████████████████████| Time: 0:00:04\u001b[39m\n"
     ]
    },
    {
     "name": "stdout",
     "output_type": "stream",
     "text": [
      "  4.228916 seconds (31.59 M allocations: 2.989 GiB, 7.44% gc time)\n",
      "Ne = 100\n",
      "Ne 100& β 0.98 RMSE: 0.4974934893303368\n",
      "(Ne, β) = (100, 0.99)\n"
     ]
    },
    {
     "name": "stderr",
     "output_type": "stream",
     "text": [
      "\u001b[32mProgress: 100%|█████████████████████████████████████████| Time: 0:00:04\u001b[39m\n"
     ]
    },
    {
     "name": "stdout",
     "output_type": "stream",
     "text": [
      "  4.209826 seconds (31.59 M allocations: 2.989 GiB, 7.61% gc time)\n",
      "Ne = 100\n",
      "Ne 100& β 0.99 RMSE: 0.49151971049584753\n",
      "(Ne, β) = (100, 1.0)\n"
     ]
    },
    {
     "name": "stderr",
     "output_type": "stream",
     "text": [
      "\u001b[32mProgress: 100%|█████████████████████████████████████████| Time: 0:00:04\u001b[39m\n"
     ]
    },
    {
     "name": "stdout",
     "output_type": "stream",
     "text": [
      "  4.215957 seconds (31.59 M allocations: 2.989 GiB, 8.19% gc time)\n",
      "Ne = 100\n",
      "Ne 100& β 1.0 RMSE: 0.49444263873569194\n",
      "(Ne, β) = (100, 1.01)\n"
     ]
    },
    {
     "name": "stderr",
     "output_type": "stream",
     "text": [
      "\u001b[32mProgress: 100%|█████████████████████████████████████████| Time: 0:00:04\u001b[39m\n"
     ]
    },
    {
     "name": "stdout",
     "output_type": "stream",
     "text": [
      "  4.201921 seconds (31.59 M allocations: 2.989 GiB, 8.46% gc time)\n",
      "Ne = 100\n",
      "Ne 100& β 1.01 RMSE: 0.49661234896391954\n",
      "(Ne, β) = (100, 1.02)\n"
     ]
    },
    {
     "name": "stderr",
     "output_type": "stream",
     "text": [
      "\u001b[32mProgress: 100%|█████████████████████████████████████████| Time: 0:00:06\u001b[39m\n"
     ]
    },
    {
     "name": "stdout",
     "output_type": "stream",
     "text": [
      "  6.183492 seconds (31.59 M allocations: 2.989 GiB, 7.59% gc time)\n",
      "Ne = 100\n",
      "Ne 100& β 1.02 RMSE: 0.515033562539847\n",
      "(Ne, β) = (100, 1.03)\n"
     ]
    },
    {
     "name": "stderr",
     "output_type": "stream",
     "text": [
      "\u001b[32mProgress: 100%|█████████████████████████████████████████| Time: 0:00:08\u001b[39m\n"
     ]
    },
    {
     "name": "stdout",
     "output_type": "stream",
     "text": [
      "  8.656262 seconds (31.60 M allocations: 2.989 GiB, 6.44% gc time)\n",
      "Ne = 100\n",
      "Ne 100& β 1.03 RMSE: 0.47411388563672974\n",
      "(Ne, β) = (100, 1.04)\n"
     ]
    },
    {
     "name": "stderr",
     "output_type": "stream",
     "text": [
      "\u001b[32mProgress: 100%|█████████████████████████████████████████| Time: 0:00:08\u001b[39m\n"
     ]
    },
    {
     "name": "stdout",
     "output_type": "stream",
     "text": [
      "  8.745195 seconds (31.60 M allocations: 2.989 GiB, 6.76% gc time)\n",
      "Ne = 100\n",
      "Ne 100& β 1.04 RMSE: 0.4838803964934413\n",
      "(Ne, β) = (100, 1.05)\n"
     ]
    },
    {
     "name": "stderr",
     "output_type": "stream",
     "text": [
      "\u001b[32mProgress: 100%|█████████████████████████████████████████| Time: 0:00:08\u001b[39m\n"
     ]
    },
    {
     "name": "stdout",
     "output_type": "stream",
     "text": [
      "  8.743153 seconds (31.60 M allocations: 2.989 GiB, 6.73% gc time)\n",
      "Ne = 100\n"
     ]
    },
    {
     "name": "stderr",
     "output_type": "stream",
     "text": [
      "\r",
      "\u001b[32mProgress:  62%|█████████████████████████▋               |  ETA: 0:01:26\u001b[39m"
     ]
    },
    {
     "name": "stdout",
     "output_type": "stream",
     "text": [
      "Ne 100& β 1.05 RMSE: 0.4944815173768514\n",
      "(Ne, β) = (200, 0.95)\n"
     ]
    },
    {
     "name": "stderr",
     "output_type": "stream",
     "text": [
      "\u001b[32mProgress: 100%|█████████████████████████████████████████| Time: 0:00:17\u001b[39m\n"
     ]
    },
    {
     "name": "stdout",
     "output_type": "stream",
     "text": [
      " 17.382871 seconds (62.81 M allocations: 5.946 GiB, 6.92% gc time)\n",
      "Ne = 200\n",
      "Ne 200& β 0.95 RMSE: 0.47998282782096974\n",
      "(Ne, β) = (200, 0.96)\n"
     ]
    },
    {
     "name": "stderr",
     "output_type": "stream",
     "text": [
      "\u001b[32mProgress: 100%|█████████████████████████████████████████| Time: 0:00:17\u001b[39m\n"
     ]
    },
    {
     "name": "stdout",
     "output_type": "stream",
     "text": [
      " 17.499306 seconds (62.81 M allocations: 5.946 GiB, 7.10% gc time)\n",
      "Ne = 200\n",
      "Ne 200& β 0.96 RMSE: 0.47998268420043255\n",
      "(Ne, β) = (200, 0.97)\n"
     ]
    },
    {
     "name": "stderr",
     "output_type": "stream",
     "text": [
      "\u001b[32mProgress: 100%|█████████████████████████████████████████| Time: 0:00:17\u001b[39m\n"
     ]
    },
    {
     "name": "stdout",
     "output_type": "stream",
     "text": [
      " 17.634441 seconds (62.81 M allocations: 5.946 GiB, 7.24% gc time)\n",
      "Ne = 200\n",
      "Ne 200& β 0.97 RMSE: 0.4924036731719734\n",
      "(Ne, β) = (200, 0.98)\n"
     ]
    },
    {
     "name": "stderr",
     "output_type": "stream",
     "text": [
      "\u001b[32mProgress: 100%|█████████████████████████████████████████| Time: 0:00:16\u001b[39m\n"
     ]
    },
    {
     "name": "stdout",
     "output_type": "stream",
     "text": [
      " 16.606744 seconds (62.81 M allocations: 5.946 GiB, 6.63% gc time)\n",
      "Ne = 200\n",
      "Ne 200& β 0.98 RMSE: 0.4844484889560619\n",
      "(Ne, β) = (200, 0.99)\n"
     ]
    },
    {
     "name": "stderr",
     "output_type": "stream",
     "text": [
      "\u001b[32mProgress: 100%|█████████████████████████████████████████| Time: 0:00:16\u001b[39m\n"
     ]
    },
    {
     "name": "stdout",
     "output_type": "stream",
     "text": [
      " 16.304805 seconds (62.81 M allocations: 5.946 GiB, 5.16% gc time)\n",
      "Ne = 200\n",
      "Ne 200& β 0.99 RMSE: 0.48565805296969144\n",
      "(Ne, β) = (200, 1.0)\n"
     ]
    },
    {
     "name": "stderr",
     "output_type": "stream",
     "text": [
      "\u001b[32mProgress: 100%|█████████████████████████████████████████| Time: 0:00:16\u001b[39m\n"
     ]
    },
    {
     "name": "stdout",
     "output_type": "stream",
     "text": [
      " 16.561812 seconds (62.81 M allocations: 5.946 GiB, 5.48% gc time)\n",
      "Ne = 200\n",
      "Ne 200& β 1.0 RMSE: 0.4868545678116942\n",
      "(Ne, β) = (200, 1.01)\n"
     ]
    },
    {
     "name": "stderr",
     "output_type": "stream",
     "text": [
      "\u001b[32mProgress: 100%|█████████████████████████████████████████| Time: 0:00:16\u001b[39m\n"
     ]
    },
    {
     "name": "stdout",
     "output_type": "stream",
     "text": [
      " 16.751812 seconds (62.81 M allocations: 5.946 GiB, 5.82% gc time)\n",
      "Ne = 200\n",
      "Ne 200& β 1.01 RMSE: 0.4858269068852209\n",
      "(Ne, β) = (200, 1.02)\n"
     ]
    },
    {
     "name": "stderr",
     "output_type": "stream",
     "text": [
      "\u001b[32mProgress: 100%|█████████████████████████████████████████| Time: 0:00:16\u001b[39m\n"
     ]
    },
    {
     "name": "stdout",
     "output_type": "stream",
     "text": [
      " 16.974503 seconds (62.81 M allocations: 5.946 GiB, 6.22% gc time)\n",
      "Ne = 200\n",
      "Ne 200& β 1.02 RMSE: 0.49674784166844826\n",
      "(Ne, β) = (200, 1.03)\n"
     ]
    },
    {
     "name": "stderr",
     "output_type": "stream",
     "text": [
      "\u001b[32mProgress: 100%|█████████████████████████████████████████| Time: 0:00:17\u001b[39m\n"
     ]
    },
    {
     "name": "stdout",
     "output_type": "stream",
     "text": [
      " 17.129917 seconds (62.81 M allocations: 5.946 GiB, 6.41% gc time)\n",
      "Ne = 200\n",
      "Ne 200& β 1.03 RMSE: 0.4786131335236733\n",
      "(Ne, β) = (200, 1.04)\n"
     ]
    },
    {
     "name": "stderr",
     "output_type": "stream",
     "text": [
      "\u001b[32mProgress: 100%|█████████████████████████████████████████| Time: 0:00:17\u001b[39m\n"
     ]
    },
    {
     "name": "stdout",
     "output_type": "stream",
     "text": [
      " 17.263903 seconds (62.81 M allocations: 5.946 GiB, 6.64% gc time)\n",
      "Ne = 200\n",
      "Ne 200& β 1.04 RMSE: 0.4809118538799499\n",
      "(Ne, β) = (200, 1.05)\n"
     ]
    },
    {
     "name": "stderr",
     "output_type": "stream",
     "text": [
      "\u001b[32mProgress: 100%|█████████████████████████████████████████| Time: 0:00:17\u001b[39m\n"
     ]
    },
    {
     "name": "stdout",
     "output_type": "stream",
     "text": [
      " 17.428137 seconds (62.81 M allocations: 5.946 GiB, 6.98% gc time)\n",
      "Ne = 200\n"
     ]
    },
    {
     "name": "stderr",
     "output_type": "stream",
     "text": [
      "\r",
      "\u001b[32mProgress:  75%|██████████████████████████████▊          |  ETA: 0:01:51\u001b[39m"
     ]
    },
    {
     "name": "stdout",
     "output_type": "stream",
     "text": [
      "Ne 200& β 1.05 RMSE: 0.47157191291065087\n",
      "(Ne, β) = (400, 0.95)\n"
     ]
    },
    {
     "name": "stderr",
     "output_type": "stream",
     "text": [
      "\u001b[32mProgress: 100%|█████████████████████████████████████████| Time: 0:00:34\u001b[39m\n"
     ]
    },
    {
     "name": "stdout",
     "output_type": "stream",
     "text": [
      " 34.995732 seconds (125.24 M allocations: 11.860 GiB, 7.17% gc time)\n",
      "Ne = 400\n",
      "Ne 400& β 0.95 RMSE: 0.48485593052031717\n",
      "(Ne, β) = (400, 0.96)\n"
     ]
    },
    {
     "name": "stderr",
     "output_type": "stream",
     "text": [
      "\u001b[32mProgress: 100%|█████████████████████████████████████████| Time: 0:00:19\u001b[39m\n"
     ]
    },
    {
     "name": "stdout",
     "output_type": "stream",
     "text": [
      " 19.874099 seconds (125.22 M allocations: 11.858 GiB, 7.06% gc time)\n",
      "Ne = 400\n",
      "Ne 400& β 0.96 RMSE: 0.507435657453549\n",
      "(Ne, β) = (400, 0.97)\n"
     ]
    },
    {
     "name": "stderr",
     "output_type": "stream",
     "text": [
      "\u001b[32mProgress: 100%|█████████████████████████████████████████| Time: 0:00:16\u001b[39m\n"
     ]
    },
    {
     "name": "stdout",
     "output_type": "stream",
     "text": [
      " 16.183077 seconds (125.21 M allocations: 11.858 GiB, 7.68% gc time)\n",
      "Ne = 400\n",
      "Ne 400& β 0.97 RMSE: 0.490557101716464\n",
      "(Ne, β) = (400, 0.98)\n"
     ]
    },
    {
     "name": "stderr",
     "output_type": "stream",
     "text": [
      "\u001b[32mProgress: 100%|█████████████████████████████████████████| Time: 0:00:16\u001b[39m\n"
     ]
    },
    {
     "name": "stdout",
     "output_type": "stream",
     "text": [
      " 16.587513 seconds (125.21 M allocations: 11.858 GiB, 8.53% gc time)\n",
      "Ne = 400\n",
      "Ne 400& β 0.98 RMSE: 0.48983842426846663\n",
      "(Ne, β) = (400, 0.99)\n"
     ]
    },
    {
     "name": "stderr",
     "output_type": "stream",
     "text": [
      "\u001b[32mProgress: 100%|█████████████████████████████████████████| Time: 0:00:23\u001b[39m\n"
     ]
    },
    {
     "name": "stdout",
     "output_type": "stream",
     "text": [
      " 23.754778 seconds (125.22 M allocations: 11.859 GiB, 7.85% gc time)\n",
      "Ne = 400\n",
      "Ne 400& β 0.99 RMSE: 0.48744109701035027\n",
      "(Ne, β) = (400, 1.0)\n"
     ]
    },
    {
     "name": "stderr",
     "output_type": "stream",
     "text": [
      "\u001b[32mProgress: 100%|█████████████████████████████████████████| Time: 0:00:34\u001b[39m\n"
     ]
    },
    {
     "name": "stdout",
     "output_type": "stream",
     "text": [
      " 34.772928 seconds (125.24 M allocations: 11.860 GiB, 7.21% gc time)\n",
      "Ne = 400\n",
      "Ne 400& β 1.0 RMSE: 0.49505028848673555\n",
      "(Ne, β) = (400, 1.01)\n"
     ]
    },
    {
     "name": "stderr",
     "output_type": "stream",
     "text": [
      "\u001b[32mProgress: 100%|█████████████████████████████████████████| Time: 0:00:24\u001b[39m\n"
     ]
    },
    {
     "name": "stdout",
     "output_type": "stream",
     "text": [
      " 24.532120 seconds (125.23 M allocations: 11.859 GiB, 6.11% gc time)\n",
      "Ne = 400\n",
      "Ne 400& β 1.01 RMSE: 0.5003211866188121\n",
      "(Ne, β) = (400, 1.02)\n"
     ]
    },
    {
     "name": "stderr",
     "output_type": "stream",
     "text": [
      "\u001b[32mProgress: 100%|█████████████████████████████████████████| Time: 0:00:16\u001b[39m\n"
     ]
    },
    {
     "name": "stdout",
     "output_type": "stream",
     "text": [
      " 16.019610 seconds (125.21 M allocations: 11.858 GiB, 7.72% gc time)\n",
      "Ne = 400\n",
      "Ne 400& β 1.02 RMSE: 0.48987469382913745\n",
      "(Ne, β) = (400, 1.03)\n"
     ]
    },
    {
     "name": "stderr",
     "output_type": "stream",
     "text": [
      "\u001b[32mProgress: 100%|█████████████████████████████████████████| Time: 0:00:16\u001b[39m\n"
     ]
    },
    {
     "name": "stdout",
     "output_type": "stream",
     "text": [
      " 16.490494 seconds (125.21 M allocations: 11.858 GiB, 8.57% gc time)\n",
      "Ne = 400\n",
      "Ne 400& β 1.03 RMSE: 0.5118327488333795\n",
      "(Ne, β) = (400, 1.04)\n"
     ]
    },
    {
     "name": "stderr",
     "output_type": "stream",
     "text": [
      "\u001b[32mProgress: 100%|█████████████████████████████████████████| Time: 0:00:16\u001b[39m\n"
     ]
    },
    {
     "name": "stdout",
     "output_type": "stream",
     "text": [
      " 16.824217 seconds (125.21 M allocations: 11.858 GiB, 9.10% gc time)\n",
      "Ne = 400\n",
      "Ne 400& β 1.04 RMSE: 0.48443757907114354\n",
      "(Ne, β) = (400, 1.05)\n"
     ]
    },
    {
     "name": "stderr",
     "output_type": "stream",
     "text": [
      "\u001b[32mProgress: 100%|█████████████████████████████████████████| Time: 0:00:17\u001b[39m\n"
     ]
    },
    {
     "name": "stdout",
     "output_type": "stream",
     "text": [
      " 17.195857 seconds (125.21 M allocations: 11.858 GiB, 9.84% gc time)\n",
      "Ne = 400\n"
     ]
    },
    {
     "name": "stderr",
     "output_type": "stream",
     "text": [
      "\r",
      "\u001b[32mProgress:  88%|███████████████████████████████████▉     |  ETA: 0:01:22\u001b[39m"
     ]
    },
    {
     "name": "stdout",
     "output_type": "stream",
     "text": [
      "Ne 400& β 1.05 RMSE: 0.48275779062463287\n",
      "(Ne, β) = (600, 0.95)\n"
     ]
    },
    {
     "name": "stderr",
     "output_type": "stream",
     "text": [
      "\u001b[32mProgress: 100%|█████████████████████████████████████████| Time: 0:00:23\u001b[39m\n"
     ]
    },
    {
     "name": "stdout",
     "output_type": "stream",
     "text": [
      " 23.561858 seconds (189.77 M allocations: 17.803 GiB, 8.11% gc time)\n",
      "Ne = 600\n",
      "Ne 600& β 0.95 RMSE: 0.490284485433809\n",
      "(Ne, β) = (600, 0.96)\n"
     ]
    },
    {
     "name": "stderr",
     "output_type": "stream",
     "text": [
      "\u001b[32mProgress: 100%|█████████████████████████████████████████| Time: 0:00:26\u001b[39m\n"
     ]
    },
    {
     "name": "stdout",
     "output_type": "stream",
     "text": [
      " 26.248281 seconds (189.78 M allocations: 17.804 GiB, 8.11% gc time)\n",
      "Ne = 600\n",
      "Ne 600& β 0.96 RMSE: 0.4943379645213616\n",
      "(Ne, β) = (600, 0.97)\n"
     ]
    },
    {
     "name": "stderr",
     "output_type": "stream",
     "text": [
      "\u001b[32mProgress: 100%|█████████████████████████████████████████| Time: 0:00:51\u001b[39m\n"
     ]
    },
    {
     "name": "stdout",
     "output_type": "stream",
     "text": [
      " 51.739197 seconds (189.82 M allocations: 17.806 GiB, 6.87% gc time)\n",
      "Ne = 600\n",
      "Ne 600& β 0.97 RMSE: 0.4893336401255007\n",
      "(Ne, β) = (600, 0.98)\n"
     ]
    },
    {
     "name": "stderr",
     "output_type": "stream",
     "text": [
      "\u001b[32mProgress: 100%|█████████████████████████████████████████| Time: 0:00:50\u001b[39m\n"
     ]
    },
    {
     "name": "stdout",
     "output_type": "stream",
     "text": [
      " 50.343241 seconds (189.81 M allocations: 17.806 GiB, 6.45% gc time)\n",
      "Ne = 600\n",
      "Ne 600& β 0.98 RMSE: 0.49601118557597607\n",
      "(Ne, β) = (600, 0.99)\n"
     ]
    },
    {
     "name": "stderr",
     "output_type": "stream",
     "text": [
      "\u001b[32mProgress: 100%|█████████████████████████████████████████| Time: 0:00:50\u001b[39m\n"
     ]
    },
    {
     "name": "stdout",
     "output_type": "stream",
     "text": [
      " 50.284167 seconds (189.81 M allocations: 17.806 GiB, 6.19% gc time)\n",
      "Ne = 600\n",
      "Ne 600& β 0.99 RMSE: 0.48959106211641795\n",
      "(Ne, β) = (600, 1.0)\n"
     ]
    },
    {
     "name": "stderr",
     "output_type": "stream",
     "text": [
      "\u001b[32mProgress: 100%|█████████████████████████████████████████| Time: 0:00:51\u001b[39m\n"
     ]
    },
    {
     "name": "stdout",
     "output_type": "stream",
     "text": [
      " 51.699618 seconds (189.82 M allocations: 17.806 GiB, 6.82% gc time)\n",
      "Ne = 600\n",
      "Ne 600& β 1.0 RMSE: 0.4869956489621209\n",
      "(Ne, β) = (600, 1.01)\n"
     ]
    },
    {
     "name": "stderr",
     "output_type": "stream",
     "text": [
      "\u001b[32mProgress: 100%|█████████████████████████████████████████| Time: 0:00:42\u001b[39m\n"
     ]
    },
    {
     "name": "stdout",
     "output_type": "stream",
     "text": [
      " 42.839966 seconds (189.80 M allocations: 17.805 GiB, 7.83% gc time)\n",
      "Ne = 600\n",
      "Ne 600& β 1.01 RMSE: 0.5009373097463152\n",
      "(Ne, β) = (600, 1.02)\n"
     ]
    },
    {
     "name": "stderr",
     "output_type": "stream",
     "text": [
      "\u001b[32mProgress: 100%|█████████████████████████████████████████| Time: 0:00:34\u001b[39m\n"
     ]
    },
    {
     "name": "stdout",
     "output_type": "stream",
     "text": [
      " 34.823038 seconds (189.79 M allocations: 17.805 GiB, 6.43% gc time)\n",
      "Ne = 600\n",
      "Ne 600& β 1.02 RMSE: 0.4895162329090161\n",
      "(Ne, β) = (600, 1.03)\n"
     ]
    },
    {
     "name": "stderr",
     "output_type": "stream",
     "text": [
      "\u001b[32mProgress: 100%|█████████████████████████████████████████| Time: 0:00:50\u001b[39m\n"
     ]
    },
    {
     "name": "stdout",
     "output_type": "stream",
     "text": [
      " 50.469056 seconds (189.81 M allocations: 17.806 GiB, 6.11% gc time)\n",
      "Ne = 600\n",
      "Ne 600& β 1.03 RMSE: 0.49318706556695247\n",
      "(Ne, β) = (600, 1.04)\n"
     ]
    },
    {
     "name": "stderr",
     "output_type": "stream",
     "text": [
      "\u001b[32mProgress: 100%|█████████████████████████████████████████| Time: 0:00:51\u001b[39m\n"
     ]
    },
    {
     "name": "stdout",
     "output_type": "stream",
     "text": [
      " 51.724637 seconds (189.82 M allocations: 17.806 GiB, 6.83% gc time)\n",
      "Ne = 600\n",
      "Ne 600& β 1.04 RMSE: 0.4965019603284455\n",
      "(Ne, β) = (600, 1.05)\n"
     ]
    },
    {
     "name": "stderr",
     "output_type": "stream",
     "text": [
      "\u001b[32mProgress: 100%|█████████████████████████████████████████| Time: 0:00:24\u001b[39m\n"
     ]
    },
    {
     "name": "stdout",
     "output_type": "stream",
     "text": [
      " 24.598230 seconds (189.77 M allocations: 17.803 GiB, 8.97% gc time)\n",
      "Ne = 600\n"
     ]
    },
    {
     "name": "stderr",
     "output_type": "stream",
     "text": [
      "\r",
      "\u001b[32mProgress: 100%|█████████████████████████████████████████| Time: 0:17:12\u001b[39m\n"
     ]
    },
    {
     "name": "stdout",
     "output_type": "stream",
     "text": [
      "Ne 600& β 1.05 RMSE: 0.49307306726541833\n"
     ]
    },
    {
     "data": {
      "text/plain": [
       "8-element Array{Any,1}:\n",
       " Metrics[Metrics(10, [0.32078591911714366, 0.4441365673287443, 0.6941005779109013, 0.8793263765117602, 0.8633711337936523, 0.6890628532888722, 0.5273699112797657, 0.4969749546922613, 0.73644871637577, 0.8104683288617239  …  0.31779182360591973, 0.23200415551482328, 0.26645162834570074, 0.5011198105086171, 0.2708562624664994, 0.12212871915966879, 0.023131665869033584, 0.32857741765535037, 1.0715025886964598, 1.1436552936346531], 0.5507688120244398, 1.4063312146337485, 2.8479314378856864, [0.222158622569474, 0.25626111181172273, 0.35182739528951196, 0.3663598873158488, 0.27742718283258855, 0.2510984653416751, 0.20495741379437485, 0.21086558444312314, 0.34637713509870655, 0.5363641061791167  …  0.7025508437981807, 0.9874553700838706, 1.266394784290792, 0.90864824841493, 0.7153302649561325, 0.4606300872849913, 0.4142989373004915, 0.575969040925019, 0.46119715365161734, 0.40109212249053455], 0.3935540555412823, 0.46857519896139493, 0.2556010203617164, [0.6666666666666666, 0.3333333333333333, 0.0, 0.3333333333333333, 0.3333333333333333, 0.3333333333333333, 0.3333333333333333, 0.0, 0.0, 0.0  …  1.0, 1.0, 1.0, 1.0, 1.0, 1.0, 1.0, 1.0, 0.0, 0.0], 0.6666666666666666, 0.544, 0.40747503830579607), Metrics(10, [0.43305512831562387, 0.7751685669777039, 1.0039543781985565, 1.112112994798481, 1.1289569915558357, 0.7191321425931925, 0.48626459189354215, 0.37702304250661967, 0.43624886967935306, 0.32238778254212336  …  0.4154025269735995, 0.8310118310748786, 0.46424339589421315, 0.6003761873256133, 0.38319769867538805, 0.16106185746759066, 0.10677307855583856, 0.18939253315565197, 0.7258987130359584, 0.5958359181067752], 0.5996888408629328, 3.031626178778555, 5.032974888938401, [0.3254357167302637, 0.4207966242563824, 0.4694294377448673, 0.5404496378719534, 0.43794469097292615, 0.37114838173568143, 0.2886832932436821, 0.3116612491567117, 0.4670486552053884, 0.7141447757425141  …  0.678902742339861, 1.2474110826024258, 1.3515985570505857, 0.9450049291393909, 0.5791050055009048, 0.3308792550010192, 0.2895393719337145, 0.4219059088678728, 0.5991042515950509, 0.8077855968500993], 0.35732734948107536, 0.43331771772403166, 0.24771429857558452, [1.0, 0.0, 0.0, 0.3333333333333333, 0.3333333333333333, 0.3333333333333333, 0.6666666666666666, 0.6666666666666666, 1.0, 1.0  …  1.0, 1.0, 1.0, 1.0, 1.0, 1.0, 1.0, 1.0, 1.0, 1.0], 0.6666666666666666, 0.5228333333333334, 0.4357831177146089), Metrics(10, [0.5097279515409041, 0.8611982809026101, 1.2313644598532325, 1.3304380004472933, 1.288810724600657, 0.8358184852233201, 0.6361802793732513, 0.699765171733259, 1.0950419422089597, 1.3292863983825365  …  0.2265568686659847, 0.7034122630719287, 0.3080229735128672, 0.8018794245070523, 0.5859682410783454, 0.2969154610825733, 0.202014662620441, 0.20184217241021393, 0.4402406178966632, 0.4621447917777415], 1.5822648572039553, 3.792288496634647, 4.869355196199955, [0.2386776650195773, 0.32397483471938676, 0.37834852841917055, 0.5090274690462987, 0.476561286358845, 0.34980419507212446, 0.22094643038782916, 0.20292298387824226, 0.31490916984088296, 0.5488816960803196  …  0.5548314209241648, 0.9176215870613452, 1.1172606610502067, 0.3821431190686068, 0.2469868762132512, 0.15756885251948366, 0.14343003661738274, 0.2176426407076915, 0.3691248747749027, 0.5270597110581849], 0.36181457583761695, 0.4375890676352021, 0.25210785962756116, [0.3333333333333333, 0.0, 0.0, 0.0, 0.3333333333333333, 0.3333333333333333, 0.3333333333333333, 0.3333333333333333, 0.0, 0.0  …  1.0, 1.0, 1.0, 0.3333333333333333, 0.0, 0.3333333333333333, 0.6666666666666666, 0.6666666666666666, 0.6666666666666666, 1.0], 0.0, 0.3068333333333333, 0.38061816180070307), Metrics(10, [0.1925252880851992, 0.3179436669390762, 0.4908981904887205, 0.585158932896974, 0.5989673098753618, 0.43425326359171834, 0.32382871849946887, 0.32482196932560675, 0.46767445318692585, 0.4531937887553789  …  0.5447791297962092, 0.8440646764446282, 0.2951091105870947, 0.5243824327330552, 0.45979559733246045, 0.22043550229889708, 0.1971873195194399, 0.2434205692785066, 0.16824064921351992, 0.08319753986667115], 0.5117965869306443, 1.6604488421743582, 3.450626924088609, [0.1753049963741493, 0.18411771169668167, 0.291467399308484, 0.3629014460235182, 0.3114325938455909, 0.25781398137168593, 0.2101785039805653, 0.22056498960722928, 0.33147073675841304, 0.44791521480161195  …  0.44057932948788164, 0.7154396243329867, 1.0786356519141427, 0.9893544404150404, 0.4780405479891081, 0.28039790481513704, 0.24244008456619157, 0.3700673242216263, 0.5218387226712575, 0.6480793871041403], 0.39251929531761204, 0.46332369822513986, 0.24705800485496607, [0.3333333333333333, 0.0, 0.0, 0.3333333333333333, 0.3333333333333333, 0.3333333333333333, 0.3333333333333333, 0.3333333333333333, 0.0, 1.0  …  1.0, 0.3333333333333333, 1.0, 1.0, 1.0, 1.0, 1.0, 1.0, 1.0, 1.0], 0.6666666666666666, 0.5883333333333334, 0.41211369381044693), Metrics(10, [1.3481863962227227, 1.44110190133064, 2.0402675631281846, 2.1753588964164243, 1.7675303610221058, 1.5539415675487944, 1.149306425264066, 0.8838817415735183, 0.9186245629751029, 1.5965393581786385  …  1.2072407218831018, 1.597698002872151, 0.29614895542703534, 0.4614801757831573, 0.5253056731949635, 0.3064390855405549, 0.43232922760068876, 0.3693698185131707, 0.868521595461407, 0.0634922360150271], 0.4964105869782509, 1.5426798113982616, 2.911091221304479, [0.415763189647641, 0.5007197672818208, 0.5664377465004587, 0.4326632133998209, 0.38190485098050825, 0.31455510791311886, 0.3183347181143632, 0.3374026704894036, 0.4809318179891334, 0.6179555405920132  …  0.5585415843877636, 1.143741687035546, 1.1093408477210385, 0.8564609941128083, 0.6292849903033173, 0.4074985392258419, 0.4626628771890303, 0.6779845083602289, 1.0587885365967096, 0.5598744825151876], 0.382304665467607, 0.4526951648130905, 0.24230386943389132, [0.3333333333333333, 0.3333333333333333, 0.0, 0.0, 0.3333333333333333, 0.0, 0.3333333333333333, 0.3333333333333333, 0.6666666666666666, 0.3333333333333333  …  0.0, 0.6666666666666666, 1.0, 1.0, 1.0, 1.0, 1.0, 1.0, 1.0, 1.0], 0.6666666666666666, 0.5928333333333333, 0.41274209759930786), Metrics(10, [0.491167160403519, 0.8270758004656011, 1.2292368489643017, 1.4540438897183054, 1.3206297992109437, 0.9359754434857719, 0.6908248699076581, 0.6422644145479177, 0.9365526552443422, 0.7274615376476818  …  1.2938825556216162, 2.1130682021236407, 1.142403005903665, 0.9505403263863087, 1.0267208177028702, 0.8909295173970118, 1.06567073931454, 1.480877378221769, 1.7732846006302834, 2.045830083474835], 0.542322459964923, 1.2500391253305443, 2.2009437320257415, [0.22785482729855855, 0.2685512518507542, 0.3620585980963847, 0.41563936236858195, 0.3862892970729919, 0.3397213559429256, 0.2508311723209075, 0.27418069949685336, 0.4551549041656788, 0.6440711786267239  …  0.4538324515086029, 0.7112545021321541, 1.087488207332535, 0.7370272642978326, 0.5482366933534455, 0.3043532418272118, 0.21704784924981765, 0.2704442460396298, 0.3391217704453059, 0.4032136051523464], 0.39495026887579554, 0.47083845126797913, 0.24797618526830817, [0.3333333333333333, 0.0, 0.0, 0.0, 0.3333333333333333, 0.0, 0.3333333333333333, 0.0, 0.3333333333333333, 1.0  …  0.3333333333333333, 0.0, 0.6666666666666666, 0.3333333333333333, 0.6666666666666666, 0.3333333333333333, 0.0, 0.0, 0.0, 0.0], 0.6666666666666666, 0.5538333333333333, 0.40656577721069054), Metrics(10, [0.37508794966106984, 0.7486939913944649, 0.9891859755418432, 0.9649190103436516, 1.2692509365409723, 0.7430493329940585, 0.5192250456436058, 0.44475597545343093, 0.4212703115983155, 0.22343462949815113  …  1.1787804256129828, 1.8226067606075274, 0.9292310896262284, 0.7050010741497079, 0.8503547980654869, 0.6891432511590142, 0.8795736848223569, 1.1559823345682843, 0.873713689919685, 1.025451790487684], 1.027492226353723, 3.236475729241996, 4.61595536436816, [0.2810275196402381, 0.39850699989170696, 0.6819848634433472, 0.6876603914224421, 0.4842961546488367, 0.41596314243704363, 0.3273576669127471, 0.3779312355578455, 0.5164502365308828, 0.6210084425306455  …  0.5423917521385783, 0.8514781674681995, 1.109076291522981, 0.8255056026878721, 0.5852427572840392, 0.31869690289693153, 0.2511763343124679, 0.36925957411173627, 0.7286424248631036, 0.5948523849637595], 0.4101508526153468, 0.4722183328618097, 0.24759355411309142, [0.6666666666666666, 0.3333333333333333, 1.0, 0.3333333333333333, 0.3333333333333333, 0.3333333333333333, 0.6666666666666666, 0.6666666666666666, 1.0, 1.0  …  0.3333333333333333, 0.0, 0.6666666666666666, 0.6666666666666666, 1.0, 0.6666666666666666, 0.0, 0.0, 1.0, 0.3333333333333333], 0.3333333333333333, 0.4128333333333333, 0.4134390917752829), Metrics(10, [0.43951614575550063, 0.6707467429310187, 0.9484422036184944, 1.152911971215469, 1.0921016323219883, 0.8300166940772633, 0.6218874425206625, 0.6257900544444941, 0.894365268018534, 1.0034111840381603  …  1.2308984015615911, 1.0014992241554943, 0.5855724123093919, 0.2869475579247035, 0.47430656791576986, 0.35926930928102274, 0.40809625274590094, 0.47597239515718737, 0.18651988706005074, 0.3126059608042134], 1.3450103202216308, 3.531907756268553, 4.673102150625091, [0.19088019557051764, 0.23808505957213066, 0.3813193966473349, 0.37349485859896125, 0.32179367349929455, 0.27732481797101066, 0.21276850036486283, 0.23073524450352487, 0.3747641995208193, 0.6567349419773258  …  0.9009622823994152, 0.9347366652468537, 1.2342390279433837, 1.1419784025230333, 0.7699341138855029, 0.4247997381761745, 0.3346529394964762, 0.4602426680291014, 0.5344330468857681, 0.715278721768506], 0.3361840815557443, 0.41986950050934174, 0.2496777746916684, [0.3333333333333333, 0.0, 0.0, 0.0, 0.3333333333333333, 0.3333333333333333, 0.3333333333333333, 0.3333333333333333, 0.0, 0.3333333333333333  …  0.0, 0.6666666666666666, 1.0, 1.0, 1.0, 1.0, 1.0, 0.6666666666666666, 1.0, 1.0], 0.3333333333333333, 0.3796666666666667, 0.41839199235043284), Metrics(10, [0.29031586493924477, 0.49935874049185397, 0.7179237669599217, 0.9372245198663041, 0.8827076319531799, 0.5056023534567223, 0.40629242360695306, 0.3797087894974458, 0.5204878647019409, 0.28135053628132006  …  0.3720423943725441, 0.5846532815971431, 0.3311723157102654, 0.4260037122511863, 0.32591809546096484, 0.13643660206564737, 0.11572525692462048, 0.18783382673272309, 0.6311537172539576, 0.7862742305421263], 0.5696057838414981, 2.5649160731770326, 4.45927065827494, [0.2360125444091301, 0.25220368069831856, 0.39488972273074074, 0.47265569639221156, 0.46303180152170875, 0.41361843058734243, 0.30221958967054213, 0.2970486120431172, 0.44571251687435964, 0.6483858599056067  …  0.8887712540796732, 0.6761579479859046, 1.0425979687224305, 1.0979573572477264, 0.4917727849554218, 0.29749478595242285, 0.24055333634813633, 0.33145260469751825, 0.3343116244598919, 0.43099050943544265], 0.34167066246138933, 0.4145343440013055, 0.2325462587607676, [0.6666666666666666, 0.0, 0.0, 0.0, 0.3333333333333333, 1.0, 0.6666666666666666, 0.3333333333333333, 0.6666666666666666, 1.0  …  1.0, 1.0, 1.0, 1.0, 1.0, 1.0, 1.0, 1.0, 0.0, 0.3333333333333333], 0.6666666666666666, 0.5225, 0.4283390900640839), Metrics(10, [0.26460753302144807, 0.5443498148064736, 0.8114706159681851, 0.915996934541035, 0.9584644309525115, 0.6778461694403685, 0.5086224591986261, 0.4667522328517793, 0.6200828245650827, 0.4407623159742263  …  0.7330555373240983, 1.1288043257225235, 0.05507446105822059, 0.681331504578536, 0.28078607708047226, 0.06083385021899953, 0.09050661705840606, 0.026204654727417374, 0.5438325251025408, 0.4841895200004672], 0.46428072811851595, 0.6214870201549341, 0.5134024898396496, [0.2799972525605009, 0.32024416854669174, 0.3985845568862662, 0.5145746425892405, 0.38624286745873876, 0.33308903129411194, 0.27066262387300194, 0.31571530509136103, 0.5299447383431984, 0.5201217611067369  …  0.677392522080614, 0.9685801062946151, 1.4111943989721778, 1.1207341359720744, 0.853170660000169, 0.4345427628720674, 0.33228129882331703, 0.4062204533662071, 0.61840784586877, 0.6950175249531111], 0.39691262152109485, 0.475467690393506, 0.2556389443999618, [1.0, 0.3333333333333333, 0.0, 0.3333333333333333, 0.3333333333333333, 0.3333333333333333, 0.3333333333333333, 1.0, 1.0, 1.0  …  1.0, 1.0, 1.0, 1.0, 1.0, 1.0, 1.0, 1.0, 1.0, 1.0], 0.6666666666666666, 0.6354999999999997, 0.38635468228794434), Metrics(10, [0.28768133782453054, 0.5300302777210376, 0.7722068551209653, 0.8094980273503376, 0.7592255253449548, 0.5725031522078037, 0.45023222944520097, 0.48352779823710834, 0.7719380644299659, 1.0457550749287388  …  1.5235227321644005, 1.7485075672761121, 0.873320547453733, 0.8850454583672582, 1.1692375286061656, 0.8651042635115817, 0.9902232801229822, 1.3566974386382813, 1.502088471130306, 1.7353097609702772], 1.134880826683159, 3.864993494158486, 5.165857781740053, [0.21572353163185035, 0.24292170910098285, 0.3005392929662785, 0.35717358141769884, 0.2978967572711153, 0.24616126692671533, 0.19832527028447586, 0.19167209240377553, 0.25126644768926953, 0.437555939774512  …  0.6842887752524927, 1.036602475143234, 0.892552395118556, 0.944012665946397, 0.5684476604833016, 0.2997312729828955, 0.2441060975814424, 0.3318480510359147, 0.45013185554953067, 0.3481569172663834], 0.3321372297517733, 0.412914774544323, 0.2567558382648321, [0.3333333333333333, 0.0, 0.0, 0.0, 0.3333333333333333, 0.3333333333333333, 0.3333333333333333, 0.3333333333333333, 0.0, 0.0  …  0.0, 0.0, 1.0, 0.6666666666666666, 0.3333333333333333, 0.3333333333333333, 0.0, 0.0, 0.0, 0.3333333333333333], 0.3333333333333333, 0.35266666666666663, 0.39991050079832724)]\n",
       " Metrics[Metrics(20, [0.39651692247140036, 0.6740570055365505, 1.0015522193605833, 1.1541405203108694, 1.040050063552809, 0.7393310513173221, 0.5272485463230515, 0.5055798199635629, 0.7822762660624417, 0.9845388398478732  …  0.2438460534323644, 0.1831350649337006, 0.7505980130269782, 0.8329802966131452, 0.6213629618958317, 0.29587224213286034, 0.18035080259216085, 0.244513335803693, 1.1978466324169872, 0.9878195355174939], 0.41127089496810015, 0.5802104995957479, 0.6002894037155362, [0.24538060048969723, 0.3167089033368656, 0.45780550475476084, 0.5118820766092483, 0.4212307099083146, 0.33186416425181114, 0.24907554451596797, 0.2155537278719743, 0.30060017581991194, 0.4958783218997421  …  0.851292086282848, 1.0598363609130697, 1.152285521632328, 0.9703756206382798, 0.6776998599939318, 0.4571014566525009, 0.408456896210702, 0.5442128809447708, 0.6250242455831639, 0.8753514922431783], 0.45351688521257405, 0.5215659627792357, 0.2481884531567133, [0.3333333333333333, 0.0, 0.0, 0.0, 0.3333333333333333, 0.3333333333333333, 0.3333333333333333, 0.3333333333333333, 0.0, 0.0  …  1.0, 1.0, 1.0, 1.0, 1.0, 1.0, 1.0, 1.0, 0.0, 1.0], 1.0, 0.7875, 0.3261854510462371), Metrics(20, [0.7909239133944944, 1.3241667897509295, 1.7691779213611702, 1.6415550343661724, 1.3335907653757362, 0.8333919083571135, 0.6567813577412108, 0.7473886064226422, 1.0987558764057108, 1.2452837296502925  …  0.21064829008193928, 0.6725699818034768, 0.5981054915417757, 0.7214298466145531, 0.4780582025178278, 0.19736443368998602, 0.09729825411215698, 0.11101585515664818, 0.856670228870953, 0.48479449046252726], 0.37283581659439324, 0.549765183205732, 0.5482997921456942, [0.3565608172557187, 0.4029105633130447, 0.6313140929794608, 0.59881754806651, 0.569571472042388, 0.4730602452130948, 0.3636155897088681, 0.3005121680124663, 0.363765265881098, 0.513245767736641  …  0.6705926900849739, 0.9607040046635779, 1.1699600586270962, 0.9221731435720412, 0.6213026801301993, 0.3783757650423052, 0.3445400949316312, 0.45953781425488344, 0.7812661460289112, 0.6318053835379306], 0.44050131870894654, 0.5130784869772951, 0.24884596501657, [0.3333333333333333, 0.0, 0.0, 0.0, 0.3333333333333333, 0.6666666666666666, 0.6666666666666666, 0.3333333333333333, 0.0, 0.3333333333333333  …  1.0, 1.0, 1.0, 1.0, 1.0, 1.0, 1.0, 1.0, 1.0, 1.0], 1.0, 0.8034999999999998, 0.31823217812303284), Metrics(20, [0.6181730139863463, 1.1698629059946883, 1.3572564993915874, 1.3905029174441512, 1.3176106013351783, 0.8504386731581659, 0.637231229302064, 0.6448565663932543, 0.935887637982144, 0.8848197386154577  …  0.7352943673740373, 1.2433543340427435, 0.8043662026053117, 0.34068429168251596, 0.2779669484678802, 0.27425217611119596, 0.3508123577943783, 0.320837920320256, 0.11202479717963061, 0.1531604660151204], 0.36354108705010846, 0.5002744976081981, 0.4474416847224889, [0.3698766247349864, 0.4570254918386568, 0.6914058337199691, 0.6077690726325626, 0.5037232411730883, 0.3828411995260896, 0.2862094013995056, 0.2883458288587276, 0.41199612469402463, 0.548687534000124  …  0.48699763685395203, 0.6947526451166194, 0.8290989613357406, 0.832809162376144, 0.5554040387747783, 0.3350069553320943, 0.2823111233980912, 0.3701462333090571, 0.5557875554479386, 0.616548991150743], 0.4446795943078867, 0.5157337795438104, 0.24662476143192127, [1.0, 0.0, 0.0, 0.0, 0.3333333333333333, 0.3333333333333333, 0.3333333333333333, 0.3333333333333333, 0.0, 0.6666666666666666  …  0.3333333333333333, 0.0, 1.0, 1.0, 1.0, 1.0, 1.0, 1.0, 1.0, 0.6666666666666666], 1.0, 0.8314999999999998, 0.2989559491831501), Metrics(20, [0.5046006062638877, 1.0334013190454963, 1.3110881791904736, 1.289160538233994, 1.2045030176285172, 0.8824236685314267, 0.644771214861221, 0.6832860393605643, 0.9633609406426455, 1.0300509389821766  …  0.616060535302458, 1.2657376281705774, 0.28147691793233726, 0.6710325633716175, 0.7193423359653336, 0.3108689021242746, 0.3325633177081196, 0.19699127954701626, 0.7909130769374432, 0.7152051896996797], 0.4120083021652189, 0.5572481602952392, 0.4842955356740268, [0.4750408588641086, 0.5091569008456407, 0.6200316322099667, 0.5325834312469416, 0.4157183317119922, 0.37535577507901885, 0.3009338326532899, 0.29844565102445864, 0.4041634807160518, 0.6190158385434908  …  0.6534799026294468, 0.9348249277708988, 1.036428500754841, 1.0768711624522453, 0.7459993183107495, 0.4487635055922515, 0.46828849615981083, 0.5865845236149807, 0.6897595310019077, 0.79537453879786], 0.4520664348962359, 0.518353874301069, 0.24344941034294462, [0.6666666666666666, 0.3333333333333333, 0.0, 0.3333333333333333, 0.3333333333333333, 0.3333333333333333, 0.3333333333333333, 0.3333333333333333, 0.3333333333333333, 1.0  …  1.0, 1.0, 1.0, 1.0, 1.0, 1.0, 1.0, 1.0, 1.0, 1.0], 1.0, 0.7796666666666665, 0.33226090616561277), Metrics(20, [0.8056887981459298, 1.4090689149984672, 1.7135007191235139, 1.4969620516960693, 1.349666510873742, 0.8247341661450622, 0.6651589001640308, 0.7788190556357572, 1.1921879195389011, 1.2892089020450626  …  0.2711196238540808, 0.08705802436788825, 0.5172118139939192, 0.6526657864943148, 0.48032936520120273, 0.23675373191118976, 0.17650554844586064, 0.2578542260662884, 0.7650731705253001, 0.7080745494552526], 0.48165752912271304, 1.0325762087571475, 2.02160347008022, [0.3224179730313854, 0.45633265389503935, 0.658932597476671, 0.7121590879647741, 0.5679342346508961, 0.40412382081888487, 0.28351716956629974, 0.2592406403070506, 0.3734196316892284, 0.5498195880359247  …  0.6327647797815312, 0.8340036052597657, 1.0232485125372413, 0.6449666744895711, 0.4550450898248029, 0.2924908975609918, 0.25644836598264736, 0.3620284795888701, 0.4754017454457336, 0.596626376950961], 0.4243857593825857, 0.4978886634401274, 0.24358042487873377, [0.3333333333333333, 0.0, 0.0, 0.3333333333333333, 0.3333333333333333, 0.6666666666666666, 0.3333333333333333, 0.3333333333333333, 0.0, 0.0  …  1.0, 1.0, 1.0, 1.0, 1.0, 1.0, 1.0, 1.0, 0.6666666666666666, 1.0], 1.0, 0.703, 0.3801709242334071), Metrics(20, [0.6080049912183262, 1.0179650554723358, 1.3364754845470566, 1.2127790735515656, 1.1540835980311557, 0.7043048193625072, 0.5716697305004335, 0.6443925526217106, 0.9204066013591816, 1.0782528306003218  …  0.0922114187740529, 0.41803572546152146, 0.7031553692619216, 0.851073995161734, 0.5732747701591397, 0.24590487737304734, 0.1394072030858733, 0.10726024857166495, 0.8696420319088968, 0.701961056220664], 0.3708133698974059, 0.5097578425184333, 0.4547796578614658, [0.30058394404317085, 0.34384285090220573, 0.5208187351425474, 0.64560824525625, 0.5633290987423227, 0.44856749416061087, 0.3214862501620543, 0.2907994400348531, 0.34980912465119446, 0.4906313896392747  …  0.7588748327853234, 1.277816861470973, 1.0521882070908615, 0.826441934189655, 0.5542440113572203, 0.40203729328082766, 0.41129420932999, 0.5620904852721318, 0.7676848635596657, 0.8191460692812711], 0.448868241297408, 0.526035994267317, 0.25187346999578825, [0.3333333333333333, 0.0, 0.0, 0.3333333333333333, 0.3333333333333333, 0.6666666666666666, 0.6666666666666666, 0.3333333333333333, 0.0, 0.3333333333333333  …  1.0, 1.0, 1.0, 0.6666666666666666, 1.0, 1.0, 1.0, 1.0, 1.0, 1.0], 1.0, 0.8228333333333333, 0.30973814563180585), Metrics(20, [0.4146779181505459, 0.7727790072170473, 0.9746291386071002, 0.9894288252509597, 1.1375600029353594, 0.6243798311352863, 0.4351665992406888, 0.3865084230447191, 0.5153300412597259, 0.409983390875965  …  0.3071645917973145, 0.43680968848142937, 0.3814117370746778, 0.6378915031848468, 0.5891642388471857, 0.2220728094970474, 0.14290705670724196, 0.08009702639218594, 0.41515383778771964, 0.297694970619107], 0.366475673704849, 0.4869539071793554, 0.4145769673511849, [0.2919168198990004, 0.37698305071998534, 0.5821168752302118, 0.6995752874805519, 0.5913878144455498, 0.46634866063339075, 0.3218092887350351, 0.31748380906989704, 0.43742683895055257, 0.607005602382555  …  0.5693247441751779, 0.7667526154561234, 1.0915657114045993, 0.8487545429621168, 0.6110525607132378, 0.3335696364231124, 0.2694636817796686, 0.34972548287254734, 0.4361228398964362, 0.6270657153754223], 0.44762551843248416, 0.5212942162693085, 0.24714908479332023, [0.3333333333333333, 0.0, 0.0, 0.0, 0.3333333333333333, 0.6666666666666666, 0.6666666666666666, 1.0, 1.0, 1.0  …  1.0, 1.0, 1.0, 1.0, 1.0, 1.0, 1.0, 1.0, 1.0, 1.0], 1.0, 0.8488333333333332, 0.28110760033073456), Metrics(20, [0.6179715082129189, 1.18072824154213, 1.2799976416093193, 1.1286177642733741, 1.0434616932606222, 0.6785252933896796, 0.511878495935908, 0.515900680933258, 0.7784640489764452, 0.7978783158524728  …  0.35755992219446986, 0.8170486578314803, 0.18794065023488463, 0.3987030846913658, 0.4297632271970275, 0.22475149284160761, 0.27123170019438586, 0.1555876527170828, 0.5356088034204991, 0.41835307507416886], 0.3918283818736613, 0.528367594651447, 0.47264230902557425, [0.4137097390087323, 0.5488316717845988, 0.8095297390931478, 0.6360604359855622, 0.5008626524881609, 0.3973011911910362, 0.29225276838572084, 0.2894692350603875, 0.38610119724829084, 0.57622975179233  …  0.5152914280660282, 0.8730082337106596, 0.97720357271675, 0.8366418248778753, 0.5492040367657034, 0.3979451698985604, 0.40767329330754004, 0.5432472183126544, 0.6490206043250812, 0.7517978561233498], 0.45113428925778054, 0.5211015152265701, 0.24447052040097345, [0.6666666666666666, 0.3333333333333333, 1.0, 0.6666666666666666, 0.3333333333333333, 0.3333333333333333, 0.3333333333333333, 0.6666666666666666, 0.3333333333333333, 1.0  …  1.0, 1.0, 1.0, 1.0, 1.0, 1.0, 1.0, 1.0, 1.0, 1.0], 1.0, 0.818, 0.3070121521440403), Metrics(20, [0.7765172815278487, 1.3376823846713788, 1.7036475751096818, 1.7527882301614788, 1.4863466375719139, 1.0556303289299467, 0.7965352377018432, 0.8650513269343565, 1.2960573837564775, 1.3692041051236779  …  0.5134353136063866, 1.0334404779318067, 0.20295228943273935, 0.21935742474650438, 0.4195159439095849, 0.1784587944520942, 0.14985451155904395, 0.1704659662629143, 0.26216501813489984, 0.25365985299899707], 0.35782269191352023, 0.5041493905266597, 0.452544138569377, [0.34507198736523154, 0.4193487949027613, 0.48510311092974673, 0.5977163774656635, 0.47189387643025443, 0.4255964636812822, 0.297547958087131, 0.28216347961492005, 0.3901142166544229, 0.6549348009294409  …  0.6007912280622769, 0.9284676522962506, 0.9351114736402459, 0.9845539456535176, 0.5568010916319429, 0.32208074371990564, 0.26946062362486595, 0.35998761479448566, 0.540244771804834, 0.7641700232385896], 0.43802024747296625, 0.5082732768098304, 0.24126939257623553, [0.3333333333333333, 0.0, 0.0, 0.0, 0.3333333333333333, 0.3333333333333333, 0.3333333333333333, 0.3333333333333333, 0.0, 0.6666666666666666  …  1.0, 1.0, 1.0, 1.0, 1.0, 1.0, 1.0, 1.0, 1.0, 1.0], 1.0, 0.8203333333333332, 0.298678653074227), Metrics(20, [0.5625333007020014, 1.2813290232563266, 1.2641239579041645, 1.1099084795382157, 1.0023168238852154, 0.5207669295400595, 0.4839189097044688, 0.5604703794505422, 0.8003005931741172, 0.6427205817116608  …  0.5901657283326169, 1.197077290974897, 0.4845910129784744, 0.763348417230664, 0.5943924592405233, 0.23146890306918394, 0.11819826746675988, 0.06861714019267752, 0.5195178931116494, 0.32608966368058134], 0.4305966215212285, 0.7492891653218842, 1.1936740373229857, [0.5036100120389213, 0.6059397373557496, 0.8235766079207174, 0.9455178723060599, 0.6694951008287181, 0.538144213108705, 0.4009262869931325, 0.36838264197950266, 0.4508776464717286, 0.6679559393381042  …  0.6677044685826046, 1.1321714465048545, 0.9897244385492427, 1.128078026042653, 0.6783727840178878, 0.3618678448670169, 0.2916382244306798, 0.36935191575088216, 0.6035051228207179, 0.7474322364149816], 0.43506777837432253, 0.5126603221595075, 0.2529504678392588, [1.0, 0.3333333333333333, 0.3333333333333333, 1.0, 0.6666666666666666, 1.0, 0.6666666666666666, 0.3333333333333333, 0.3333333333333333, 1.0  …  1.0, 1.0, 1.0, 1.0, 1.0, 1.0, 1.0, 1.0, 1.0, 1.0], 1.0, 0.7595, 0.3472879833230184), Metrics(20, [0.6751354194057904, 1.103124424711792, 1.4754182808023832, 1.5342408644618193, 1.3152736733317014, 0.8747211913342012, 0.6726753180193801, 0.7294008825210574, 1.0533369330297628, 1.07761871624178  …  0.4526669593919727, 0.9182583985754058, 0.19547281914800252, 0.5006041769748596, 0.38469530967058774, 0.12093367616493483, 0.13341132355934915, 0.09602844418023555, 0.2710298282645758, 0.31504900310094475], 0.41801355702556947, 0.8565157424294946, 1.612333928750989, [0.2726379151292461, 0.33672480445844394, 0.44868748099583333, 0.6218195146605151, 0.4709004495977702, 0.3780574150354036, 0.2606693966257909, 0.2459350483183769, 0.38501334243784674, 0.6212219097024103  …  0.7357219157609808, 0.7308599580830538, 0.8755784634658018, 0.8208301513796877, 0.7016387747544216, 0.38621363101508055, 0.2771989899057481, 0.3163416100864301, 0.5829948314575255, 0.7392061037496366], 0.4486256557947683, 0.5181772599160933, 0.24233084912216019, [0.3333333333333333, 0.0, 0.0, 0.3333333333333333, 0.3333333333333333, 0.3333333333333333, 0.0, 0.3333333333333333, 0.0, 0.6666666666666666  …  1.0, 1.0, 1.0, 1.0, 1.0, 1.0, 1.0, 1.0, 1.0, 1.0], 1.0, 0.7605, 0.35273812427122125)]\n",
       " Metrics[Metrics(40, [0.6791705376735175, 1.2956239591524283, 1.4841689150268753, 1.416096370558967, 1.314294494169685, 0.8202981374504181, 0.6883315455601228, 0.8063028159506377, 1.1825269453819123, 1.3270876436883157  …  0.31701899097104014, 0.7472498112009768, 0.28498648402140364, 0.5968316523543606, 0.5347071811758888, 0.23830524952830925, 0.2001569698013342, 0.07349161118819884, 0.6802787372791492, 0.4142915050353172], 0.3889348265528715, 0.5284598942985135, 0.461286351879033, [0.4149660123769693, 0.5068497866408301, 0.7160849332075339, 0.7754893639888508, 0.6526918363257023, 0.46841760254687725, 0.3561654611311007, 0.32018385978500685, 0.410985032123663, 0.652100799911557  …  0.8414748124547472, 1.0004278237877429, 0.9977445446327452, 0.9423636851627578, 0.566042805908999, 0.3713664794222992, 0.3804101087307248, 0.4840366095603534, 0.8070492205911947, 0.8895316723380288], 0.48557574842525264, 0.5534763941868008, 0.24356932820190505, [0.3333333333333333, 0.0, 0.3333333333333333, 0.3333333333333333, 0.3333333333333333, 0.6666666666666666, 0.6666666666666666, 0.3333333333333333, 0.0, 0.3333333333333333  …  1.0, 1.0, 1.0, 1.0, 1.0, 1.0, 1.0, 1.0, 1.0, 1.0], 1.0, 0.8638333333333332, 0.273447990609642), Metrics(40, [0.7553541137566504, 1.4004274420805465, 1.524633157325883, 1.498866533114225, 1.338584514402983, 0.8936173972624428, 0.6976268476272746, 0.7759923535680909, 1.1304136612301647, 1.1949705757314824  …  0.9848278875507137, 1.149343831442152, 0.37264649148997453, 0.632272387505218, 0.6827065172934358, 0.3697747344500393, 0.40869782992250525, 0.39350745768586065, 0.34417392017651327, 0.024139662155546453], 0.3698057738418524, 0.497766182596871, 0.43867300111898977, [0.41887190681233666, 0.54481664274446, 0.6219777568791217, 0.7708276519925147, 0.6143519644437789, 0.4563083905751862, 0.33050964935058014, 0.30311403553878685, 0.4085115123683512, 0.5759945094343238  …  0.7685467364728733, 0.9849505491669499, 1.0989135511954276, 0.8949610831384602, 0.5945759633169948, 0.39936024228771033, 0.3786352001025095, 0.5296401545213344, 0.7047939659480978, 0.8919939645110575], 0.47658670606516895, 0.5420801017519148, 0.2412554205742899, [0.3333333333333333, 0.0, 0.0, 0.6666666666666666, 0.3333333333333333, 0.6666666666666666, 0.6666666666666666, 0.3333333333333333, 0.0, 0.3333333333333333  …  1.0, 1.0, 1.0, 1.0, 1.0, 1.0, 1.0, 1.0, 1.0, 1.0], 1.0, 0.8889999999999998, 0.24389858761029534), Metrics(40, [0.5569901876491411, 1.0320722899692858, 1.3404323246795349, 1.373187853939375, 1.3403398948411986, 0.8829669809451107, 0.662957715606493, 0.6606555047927986, 0.9166062986158009, 0.9434621673346992  …  0.48650187037044507, 0.6896136035803737, 0.4475224666578684, 0.7496974122017402, 0.48030850480129733, 0.1889104037914655, 0.08914450109219609, 0.1504326229371956, 0.7559723393784675, 0.5720879763968567], 0.3792463362260542, 0.5094386723099606, 0.44595032272819163, [0.3401340459231341, 0.43445416633626394, 0.5490755365229512, 0.639773539487689, 0.5279582806244741, 0.4198887052969643, 0.31107283400733005, 0.3075335503915896, 0.41344147683267607, 0.6247915853327111  …  0.903380696439863, 1.1322050862853608, 1.1474303469549743, 0.9825646513033317, 0.6026486580188818, 0.3782544837401884, 0.3268570980041451, 0.4322514788057896, 0.6569518558524363, 0.7814425597828466], 0.4741951722678577, 0.5443794773565339, 0.24224433081757393, [0.6666666666666666, 0.3333333333333333, 0.0, 0.3333333333333333, 0.3333333333333333, 0.3333333333333333, 0.3333333333333333, 0.3333333333333333, 0.0, 1.0  …  1.0, 1.0, 1.0, 1.0, 1.0, 1.0, 1.0, 1.0, 1.0, 1.0], 1.0, 0.8635, 0.26959575054539303), Metrics(40, [0.5030107059873126, 0.9382669376723027, 1.1764541590397721, 1.127195384022768, 1.1289387317846706, 0.7378397916844387, 0.5452920287870763, 0.5378311963065514, 0.7613888253957921, 0.7744415584003482  …  0.5337757304348925, 0.7815983258781729, 0.3788906932353459, 0.4941476338883212, 0.43210027819566027, 0.1730839867081767, 0.0935722178183784, 0.04847682315046094, 0.5385660777474641, 0.40366129111284876], 0.3764788165911935, 0.48665734220117923, 0.4184302124153058, [0.3167374719668449, 0.3887723172822549, 0.581566203231192, 0.5892610471372796, 0.4884201464068628, 0.38783514818261833, 0.287594145644591, 0.26762800846919305, 0.3828399118028215, 0.6148877623397623  …  0.6562011049080279, 0.8801272344106553, 0.868767085524338, 0.7909026548330299, 0.5519333936073368, 0.33075028645954496, 0.26811899026392366, 0.37764707869089315, 0.6151147245250693, 0.7085937009694766], 0.4712735564066312, 0.5391610253968818, 0.24048991740336942, [0.3333333333333333, 0.0, 0.0, 0.3333333333333333, 0.3333333333333333, 0.6666666666666666, 0.3333333333333333, 0.3333333333333333, 0.0, 0.6666666666666666  …  1.0, 1.0, 1.0, 1.0, 1.0, 1.0, 1.0, 1.0, 1.0, 1.0], 1.0, 0.8705, 0.26095427166322266), Metrics(40, [0.7645782286638013, 1.4084036008559082, 1.634733668681073, 1.7096371130886079, 1.4155209046963737, 0.927355282182044, 0.7251470551386137, 0.8508627517014499, 1.3098030764032897, 1.600415330692304  …  0.4462733932085397, 0.7955938755721822, 0.14024546893974763, 0.5092374659025858, 0.46012839975406966, 0.15029964470386298, 0.08152641523906143, 0.16310424156699926, 0.7548151574858174, 0.5785423100417891], 0.3718536346997244, 0.510802603028653, 0.4700484257877502, [0.40952960765299506, 0.5066942143859656, 0.5948563520273238, 0.6575998098107714, 0.5901310364662192, 0.4648310415112601, 0.34825815289108714, 0.2927377048747938, 0.3552437372149952, 0.5170772398525305  …  0.6920163830031056, 0.8295954698797925, 1.1463211666379909, 0.9310318975243882, 0.6790001654016585, 0.38961504189882395, 0.3143845537026595, 0.3894944924998015, 0.5391763268494777, 0.6636139703051616], 0.4771541920686018, 0.5456591611772201, 0.24632130070921912, [0.3333333333333333, 0.0, 0.0, 0.3333333333333333, 0.3333333333333333, 0.3333333333333333, 0.3333333333333333, 0.3333333333333333, 0.0, 0.0  …  1.0, 1.0, 1.0, 1.0, 1.0, 1.0, 1.0, 1.0, 1.0, 1.0], 1.0, 0.8778333333333332, 0.262781805189342), Metrics(40, [0.8265461574727789, 1.4314910829420049, 1.625453969710982, 1.517679018917044, 1.2966614143843915, 0.8592887783171991, 0.6767717126871807, 0.7684668997435975, 1.145740103957357, 1.3415113790015236  …  0.15861766233194557, 0.6448780318437835, 0.527148871459478, 0.6109987945659837, 0.4476905784539162, 0.1880695860336028, 0.12248909549014649, 0.0498503555674216, 0.656506281123481, 0.3619805300227509], 0.3536704214819989, 0.5009107957619987, 0.48637922384783255, [0.38196549960274534, 0.45926074092586455, 0.628561780751387, 0.6268060471558603, 0.5569347190948709, 0.44881797503719073, 0.32039592023752955, 0.272583319028265, 0.3513805019587382, 0.6417656599017391  …  0.9402512652452043, 1.172949556823652, 1.0502865617202002, 0.8618579344612843, 0.5772434483325469, 0.3897499435603106, 0.358406712820124, 0.48338487439194616, 0.6527928343968407, 0.6971079571993805], 0.4710539029787758, 0.5352395102777362, 0.23641346626901336, [0.3333333333333333, 0.0, 0.0, 0.3333333333333333, 0.3333333333333333, 0.6666666666666666, 0.6666666666666666, 0.3333333333333333, 0.0, 0.6666666666666666  …  1.0, 1.0, 1.0, 1.0, 1.0, 1.0, 1.0, 1.0, 1.0, 1.0], 1.0, 0.8823333333333333, 0.25597001623919863), Metrics(40, [0.5928853087188075, 1.1215388731777738, 1.3336132313314846, 1.2889496607249982, 1.12902487628452, 0.7277701405822867, 0.5760541303445903, 0.6419571108154074, 0.9010064987299138, 0.7933867257286036  …  0.14143282003779262, 0.9106676662173587, 0.36309059497385354, 0.6987462881881674, 0.5944264398939619, 0.25114412040907047, 0.20485231014008184, 0.14562555433651336, 0.5157656487011065, 0.45897851980320814], 0.34427115528253965, 0.48910059380117127, 0.45438608146106224, [0.3536723069288127, 0.4504118094374612, 0.6730372312875432, 0.7077597954479566, 0.5954446466505937, 0.4682365740126675, 0.3628176956912975, 0.3213244426455076, 0.4312928902294879, 0.6662342059967417  …  0.7915831637741662, 1.0074414034997605, 0.9923720604414008, 1.0063644796658395, 0.624955958830292, 0.37002513307979684, 0.32933332203307675, 0.4305898506590483, 0.605641943676618, 0.7610685697686911], 0.48278225584538204, 0.5484221874809049, 0.23998349581323128, [0.3333333333333333, 0.0, 0.0, 0.6666666666666666, 0.3333333333333333, 0.6666666666666666, 0.6666666666666666, 0.3333333333333333, 0.0, 1.0  …  1.0, 1.0, 1.0, 1.0, 1.0, 1.0, 1.0, 1.0, 1.0, 1.0], 1.0, 0.8888333333333333, 0.24688099382608675), Metrics(40, [0.6626277131236736, 1.3145602723463237, 1.3860646550469324, 1.1577590196812952, 1.2075521608717952, 0.7144821334329173, 0.5671723066349811, 0.6516951836744459, 0.9156865078363833, 0.8136019871912988  …  0.5389338181091785, 0.8628092519344384, 0.4815527046910233, 0.6310256031971292, 0.45306536414133985, 0.14284493436078327, 0.07712017246759618, 0.0892533060110189, 0.8967837987562199, 0.6830631796382662], 0.3580477585748521, 0.4827413837144244, 0.41826383908303216, [0.46396922895204223, 0.5628142981075978, 0.7462349223928301, 0.8479680272346427, 0.6342343110018286, 0.4983168365568399, 0.34792752655473735, 0.34466260295575324, 0.4478765677852014, 0.586442035782282  …  0.6677324691248157, 1.115926840190324, 1.2005550336743174, 0.9793478436715756, 0.6581042513690195, 0.3948623745004866, 0.4287478843911549, 0.5437401001148423, 0.7154126155063802, 0.784330258621097], 0.4782964706194194, 0.5456889701251597, 0.24442564974801204, [0.3333333333333333, 0.0, 0.6666666666666666, 1.0, 0.3333333333333333, 0.6666666666666666, 0.6666666666666666, 0.3333333333333333, 0.0, 1.0  …  1.0, 1.0, 1.0, 1.0, 1.0, 1.0, 1.0, 1.0, 0.6666666666666666, 1.0], 1.0, 0.8935, 0.24213944370867027), Metrics(40, [0.8668012892863208, 1.7170804831527067, 1.5670208490743798, 1.2662595113444846, 1.1942733978230025, 0.725409846792968, 0.6200354614001239, 0.7730638017659643, 1.1774917133639708, 1.299624863464895  …  0.7363060431092504, 1.0128019406084938, 0.5305297542911475, 0.748915566608131, 0.6729088331327049, 0.31015726321522014, 0.2865103049766963, 0.16991179512886073, 0.7656375415608249, 0.5874912536923769], 0.35533791837909556, 0.4758120393293433, 0.4117596073233423, [0.528025879456562, 0.640951094367165, 0.7147636461369843, 0.8271044482496983, 0.6512507494503617, 0.500965045415111, 0.39199637094401346, 0.3446336494331657, 0.4050382237439564, 0.5353481199809431  …  0.6306918187492445, 1.0154217192989778, 1.1288101610699341, 0.9647377548160412, 0.6747853772484822, 0.41624767700409504, 0.39733313080600796, 0.5423383641360301, 0.7450073681559595, 0.8473850846137098], 0.48474659588315283, 0.5489040920596052, 0.23806146363479586, [0.3333333333333333, 0.0, 0.3333333333333333, 1.0, 0.3333333333333333, 0.6666666666666666, 0.6666666666666666, 0.3333333333333333, 0.0, 0.3333333333333333  …  1.0, 1.0, 1.0, 1.0, 1.0, 1.0, 1.0, 1.0, 1.0, 1.0], 1.0, 0.894, 0.2420145931745283), Metrics(40, [0.7656847557612332, 1.297378901405265, 1.6187270810949248, 1.5120147004721538, 1.3027599877666185, 0.8753983616190827, 0.6991281083562882, 0.8268534711468032, 1.2670590848588144, 1.4908905226370288  …  0.2512775728284193, 0.6208881512752739, 0.47347801008886303, 0.798164992279405, 0.5493271271006526, 0.23147658208294317, 0.11913074182003877, 0.1500942555339344, 1.061471690453055, 0.8700602107286026], 0.38460118025426754, 0.5410913394898827, 0.5227593888366239, [0.353767684533105, 0.40096529328513664, 0.5521060534861276, 0.5839319380907322, 0.5190310562736675, 0.45086334224190305, 0.3276707486600055, 0.27555911071571315, 0.36003910493467467, 0.5666517349588567  …  0.7361817562739463, 1.1024793006440963, 0.9606945320203257, 0.8262173683579501, 0.5466785944936838, 0.34641130171500917, 0.36125714166091233, 0.522816201780842, 0.7069752323124199, 0.7208914841737555], 0.4784474395900127, 0.5516140442575989, 0.24887877087670957, [0.3333333333333333, 0.0, 0.0, 0.3333333333333333, 0.3333333333333333, 0.6666666666666666, 0.6666666666666666, 0.3333333333333333, 0.0, 0.3333333333333333  …  1.0, 1.0, 1.0, 1.0, 1.0, 1.0, 1.0, 1.0, 0.3333333333333333, 1.0], 1.0, 0.8591666666666665, 0.27534522118378535), Metrics(40, [0.7155651415151083, 1.314103742696735, 1.5111416734019365, 1.5068878018698504, 1.2681924598925325, 0.7471526851980757, 0.5929495455725512, 0.673841094488865, 0.9677804493220049, 0.9792707021077037  …  0.3260622543104471, 0.8518589659895817, 0.8139839330153688, 0.8536377408906439, 0.6987841587668593, 0.2879430930983318, 0.22985859065235167, 0.07420644120443458, 1.1615090408427937, 0.7616294718145465], 0.39198457047786006, 0.597654103674671, 0.818680256640261, [0.38645154252224817, 0.5000158207611124, 0.6232709090169641, 0.7528425826842494, 0.6152979935715139, 0.4871752345548357, 0.36883059036832105, 0.3199337699559965, 0.4209116229534393, 0.6210227405459335  …  0.707557012837041, 1.1084585905803261, 1.138864226536985, 0.9134304667878077, 0.6439831538648976, 0.4333033932533717, 0.4041916498485117, 0.6068586012297212, 0.9159660340792836, 0.8481915629781979], 0.48169006750454557, 0.5474636216172906, 0.23930211477176247, [0.3333333333333333, 0.0, 0.0, 0.3333333333333333, 0.3333333333333333, 0.6666666666666666, 0.6666666666666666, 0.3333333333333333, 0.0, 0.6666666666666666  …  1.0, 1.0, 1.0, 1.0, 1.0, 1.0, 1.0, 1.0, 1.0, 1.0], 1.0, 0.8448333333333332, 0.29612391403601596)]\n",
       " Metrics[Metrics(60, [0.7383404573184638, 1.3877437790527651, 1.4509359172759657, 1.3056583230707353, 1.2535799406596686, 0.766405540394191, 0.671277182812303, 0.7904677083921374, 1.0950982634406, 0.880363627731782  …  0.4081696041171661, 0.94134544893164, 0.35271181244131156, 0.7328564929177238, 0.5985047405062134, 0.26044823700414754, 0.15538984880362983, 0.08707831369740113, 0.6240120978822729, 0.5252625143837558], 0.3684218877132296, 0.49072650446881527, 0.42032810445746716, [0.4431091105712225, 0.5671128930186238, 0.7681127740934286, 0.8651745668724754, 0.6750974789017515, 0.5098849351254201, 0.4070712029135189, 0.37673814572424813, 0.4986514134018452, 0.7256047302947265  …  0.7439263907594404, 0.8973881478608727, 1.0258794503010336, 0.7992821464948298, 0.5195980670079879, 0.32000146264046336, 0.2831408945027299, 0.4393132425780177, 0.6428527341836935, 0.7690088578688268], 0.48796820153551135, 0.5532192404149076, 0.24106927789193844, [0.3333333333333333, 0.0, 0.3333333333333333, 0.6666666666666666, 0.3333333333333333, 0.6666666666666666, 0.3333333333333333, 0.3333333333333333, 0.0, 1.0  …  1.0, 1.0, 1.0, 1.0, 1.0, 1.0, 1.0, 1.0, 1.0, 1.0], 1.0, 0.903, 0.23299100641699066), Metrics(60, [0.5991834617245898, 1.075827907039256, 1.3645078175433139, 1.2753270306621791, 1.1515718208668668, 0.738487486100062, 0.5719219835640207, 0.6214358521388933, 0.9252661768989041, 0.8660021529593803  …  0.23661547039959432, 0.6046140302521947, 0.4784293947324353, 0.6928064645025772, 0.5610096973259704, 0.21576741235992364, 0.12098748957054681, 0.1338587484344533, 0.9120940945845548, 0.8525907585770715], 0.3787089895501481, 0.49362433535345895, 0.4266897974622513, [0.3512503997180331, 0.4354036621527054, 0.5918211790542328, 0.6091915493319802, 0.5217059175277794, 0.44147003969479753, 0.3386799769693793, 0.2982915745207729, 0.41645207276356, 0.6639425007883628  …  0.6718569159996971, 0.9140763174881149, 1.151715582907513, 1.0238697978614182, 0.656655780725997, 0.36960003226971444, 0.3471803947212222, 0.47332967466229586, 0.6827252602603044, 0.8538099657926309], 0.4916899410134329, 0.5579000352616026, 0.24067291681597172, [0.3333333333333333, 0.0, 0.0, 0.3333333333333333, 0.3333333333333333, 0.6666666666666666, 0.6666666666666666, 0.3333333333333333, 0.0, 1.0  …  1.0, 1.0, 1.0, 1.0, 1.0, 1.0, 1.0, 1.0, 1.0, 1.0], 1.0, 0.8976666666666667, 0.24060375580168147), Metrics(60, [0.6037755589098253, 1.0696793721050246, 1.4052519804493209, 1.3341749391458801, 1.260619267951559, 0.774839426656203, 0.5967145414230384, 0.6296456727121882, 0.919671555876526, 0.8806759422817722  …  0.371589389628677, 0.9275170822683562, 0.14131620278263976, 0.2798147072125237, 0.4220854634871329, 0.2365387370050791, 0.3481785231108013, 0.17851868269412444, 0.7777055774017749, 0.4585906936226412], 0.35152841629362763, 0.4713884762408624, 0.4158484253982044, [0.33645237200374567, 0.4221584878765275, 0.6104315799721246, 0.7074184433032267, 0.5801611919270999, 0.43778414802759147, 0.33565244509806896, 0.30114330598493483, 0.4244487757667864, 0.6047366455692426  …  0.829385454179562, 0.9741221029546204, 1.2759491489429216, 1.0158682999769457, 0.7118240088096635, 0.4427613868056427, 0.4476832670603467, 0.5701867240845457, 0.7700945219960456, 0.8507163357011747], 0.4860938040730327, 0.5550954902240348, 0.24229641855111653, [0.3333333333333333, 0.0, 0.0, 0.6666666666666666, 0.3333333333333333, 0.6666666666666666, 0.6666666666666666, 0.3333333333333333, 0.0, 1.0  …  1.0, 1.0, 1.0, 1.0, 1.0, 1.0, 1.0, 1.0, 1.0, 1.0], 1.0, 0.902, 0.23565839376178885), Metrics(60, [0.6496268725654046, 1.109888110702116, 1.413899289463984, 1.3454957899469684, 1.243963857429591, 0.8062940238086043, 0.6353186456709038, 0.6834027912425427, 1.006883119210226, 0.9024014487959965  …  0.2126475667107573, 0.7458982009243648, 0.36466083737875543, 0.6451867245062931, 0.5181653700515462, 0.17981529484836886, 0.09649666111930001, 0.08348059362778779, 0.6910387020474833, 0.530103085214702], 0.3534011548933713, 0.47218059168415766, 0.41376078649952197, [0.3437925406971402, 0.4126232730986196, 0.5165527546725432, 0.6173422965881261, 0.5295503553276975, 0.4264506731763139, 0.3169432204537664, 0.29495177064229616, 0.4354888198381478, 0.5890803284491235  …  0.6850010051398139, 0.8400662672043001, 1.0731015644037272, 0.9942882472256012, 0.6758799278301129, 0.39505145446467643, 0.32532354877868264, 0.4268994889924897, 0.6190664350881611, 0.7278508969208675], 0.4828899926843351, 0.5503604250194524, 0.23831444370826307, [0.3333333333333333, 0.0, 0.0, 0.3333333333333333, 0.3333333333333333, 0.6666666666666666, 0.6666666666666666, 0.3333333333333333, 0.0, 0.6666666666666666  …  1.0, 1.0, 1.0, 1.0, 1.0, 1.0, 1.0, 1.0, 1.0, 1.0], 1.0, 0.9088333333333333, 0.2280184485367428), Metrics(60, [0.7396166956001388, 1.3085360676682074, 1.6018481669437792, 1.5622063465747824, 1.3367737807951734, 0.7967775527140171, 0.6213129346946812, 0.6963379370902262, 1.0187610833963117, 1.0899360335762258  …  0.5764766366734414, 0.7812159160694586, 0.551581320052256, 0.7198395627193915, 0.6189055219838767, 0.25319400123752617, 0.15559850046267093, 0.0667415929266901, 1.0730311946200968, 0.7760962167882758], 0.37227865641803937, 0.5117657782713275, 0.4731193648526937, [0.3766923910486231, 0.4856449567567086, 0.6185821424953799, 0.7464954870624534, 0.6290387990215098, 0.4902185729042636, 0.3306779691264587, 0.2942761061236674, 0.3754693140997384, 0.5625006747663647  …  0.8355418882310768, 1.0887161733295494, 0.9664427411395572, 0.89156661512921, 0.6548249281065952, 0.42062988703107573, 0.4057647692718096, 0.6138807517808725, 0.7592684828250403, 0.7599730671387739], 0.47599386137923183, 0.5440007923558874, 0.23827854590760678, [0.3333333333333333, 0.0, 0.0, 0.3333333333333333, 0.3333333333333333, 0.6666666666666666, 0.6666666666666666, 0.3333333333333333, 0.0, 0.6666666666666666  …  1.0, 1.0, 1.0, 1.0, 1.0, 1.0, 1.0, 1.0, 1.0, 1.0], 1.0, 0.8863333333333333, 0.25604123083846864), Metrics(60, [0.7901915848608537, 1.4085206692251688, 1.4728552413625227, 1.4415962586236164, 1.3105372314557306, 0.8320742514022573, 0.6687300069653227, 0.7725847237182486, 1.1333494473190246, 1.1424623568823982  …  0.2345740586854064, 0.4525624026600826, 0.7104966629494485, 0.8538555499351056, 0.6255070137153229, 0.27255143538904975, 0.16432261458724687, 0.24066165085771382, 0.9545065205880842, 0.9035114486995431], 0.35951854888564094, 0.48383685271146476, 0.4258569717801201, [0.4347903601160264, 0.5236508422436257, 0.6870181558567898, 0.7355352976984281, 0.588766063818099, 0.45989100011745665, 0.34637353356318074, 0.3158746694883168, 0.4102265630155139, 0.637831929958238  …  0.8387646095751412, 1.0473738018859529, 1.0597613967807298, 0.9368741727566618, 0.5622524353534643, 0.35983018102907816, 0.34569923198837654, 0.46812488816237774, 0.6687873012102749, 0.7799059789583949], 0.47824963167482704, 0.5461345843479086, 0.23920803491939874, [0.3333333333333333, 0.0, 0.3333333333333333, 0.6666666666666666, 0.3333333333333333, 0.6666666666666666, 0.6666666666666666, 0.3333333333333333, 0.0, 0.6666666666666666  …  1.0, 1.0, 1.0, 1.0, 1.0, 1.0, 1.0, 1.0, 0.6666666666666666, 1.0], 1.0, 0.9018333333333333, 0.2323820504586238), Metrics(60, [0.6211190134471812, 1.1232179411250602, 1.3593431140777934, 1.3593554219570099, 1.3132042454573198, 0.8119984815066332, 0.6268926056482022, 0.6683337265367136, 0.9478745271100214, 0.7772667103910608  …  0.6794567702211898, 0.9098713026449686, 0.26915903045749584, 0.5573832326108292, 0.49957382122770844, 0.17577758887647793, 0.08628010674827687, 0.091065333642661, 0.7186797711063131, 0.6254555051897418], 0.35555271961734014, 0.4767455441446436, 0.40844264356896337, [0.36519027431298984, 0.4691613422824318, 0.5582587201580816, 0.6956523274993671, 0.5657164836557274, 0.4573281118163119, 0.3297336617657685, 0.3113167113938025, 0.44733938758616604, 0.6416205927123413  …  0.6347992261039394, 0.8408981209308898, 0.9427292881251623, 0.8910776906240867, 0.6105875842171604, 0.35548940351694364, 0.3026269754078992, 0.42481401131049207, 0.5825295488975204, 0.6517279366931565], 0.4743520648984907, 0.5430939147481686, 0.24226670020597582, [0.3333333333333333, 0.0, 0.0, 0.3333333333333333, 0.3333333333333333, 0.6666666666666666, 0.6666666666666666, 0.3333333333333333, 0.0, 1.0  …  1.0, 1.0, 1.0, 1.0, 1.0, 1.0, 1.0, 1.0, 1.0, 1.0], 1.0, 0.8951666666666667, 0.23637098209413032), Metrics(60, [0.7025938289506425, 1.289371692955791, 1.5659442387639833, 1.442945266013791, 1.3029546645798848, 0.8065493774583308, 0.6704214038083378, 0.8186589848902657, 1.2284386017977278, 1.450560693566848  …  0.2559227622428106, 0.872036356047476, 0.4255590354076854, 0.8118836651458982, 0.5754257815663154, 0.21984086413851286, 0.11566796688917028, 0.20707355608907885, 1.0773799417849945, 0.8247613391456097], 0.3648681582196936, 0.4897392708040778, 0.4330262713277588, [0.3862982315789376, 0.4772119320139881, 0.6302250724750387, 0.7636128862920666, 0.6569115589749456, 0.45622497268413015, 0.333568205200659, 0.28834605586840567, 0.36371983928805357, 0.5221410252101971  …  0.7639283549474517, 0.9961077910850111, 1.1551344392719942, 0.9831366732699969, 0.6468950313152896, 0.39848392684448747, 0.37432560957343386, 0.505235367137673, 0.7233794877276939, 0.7556221492534497], 0.4896265498698419, 0.5584546833007075, 0.24082611691676042, [0.3333333333333333, 0.0, 0.0, 0.6666666666666666, 0.3333333333333333, 0.6666666666666666, 0.6666666666666666, 0.3333333333333333, 0.0, 0.3333333333333333  …  1.0, 1.0, 1.0, 1.0, 1.0, 1.0, 1.0, 1.0, 1.0, 1.0], 1.0, 0.8968333333333333, 0.23803938338158878), Metrics(60, [0.6461944771001809, 1.2326443601172319, 1.5145291571628474, 1.3452851987042669, 1.2392650793634357, 0.7399963070888749, 0.6062348208231515, 0.6876896174831723, 0.9795001740242968, 0.8401880968326392  …  0.12067661455998432, 0.5811180133973973, 0.44168518758979997, 0.7404741156464048, 0.5684203864923917, 0.22320161088933485, 0.11301195849419363, 0.12676185751562474, 0.9036081032631571, 0.6864779633820237], 0.3572356768366281, 0.4811002811201757, 0.41730578692599923, [0.3943111964500867, 0.5375654331547189, 0.7213780824001018, 0.7302726792391554, 0.5982666442441756, 0.4826184713914472, 0.36041322469479364, 0.3492262253048072, 0.4633035498063886, 0.6839664051520631  …  0.64260131539979, 0.9581281568845347, 1.0824397596278057, 1.033143662237564, 0.6293854594330357, 0.400303067670093, 0.37568486928872047, 0.5183133853961087, 0.6849603298682388, 0.8629396897688203], 0.4857984260782304, 0.5593311294316125, 0.2419665421602764, [0.3333333333333333, 0.0, 0.0, 0.3333333333333333, 0.3333333333333333, 0.6666666666666666, 0.6666666666666666, 0.3333333333333333, 0.0, 1.0  …  1.0, 1.0, 1.0, 1.0, 1.0, 1.0, 1.0, 1.0, 1.0, 1.0], 1.0, 0.9056666666666667, 0.22807042590107215), Metrics(60, [0.5945775591271355, 1.0836508869844435, 1.3772960374051741, 1.4097766058731975, 1.2630509696237346, 0.8506848252616603, 0.6553520244148358, 0.7043099982931464, 1.0657941110032039, 1.1865515193807696  …  0.19970609158537142, 0.620829277821644, 0.4530995735622042, 0.7063614184237582, 0.5300640750918412, 0.20067786257312228, 0.10240577263023656, 0.13005298559028505, 0.7259232357957855, 0.6443680233574393], 0.3715387069089402, 0.5032688426103895, 0.45115221988392584, [0.3353442335274085, 0.43621067425599896, 0.5654492038048169, 0.6335699412130272, 0.5343057577961179, 0.4593108400167841, 0.3152493153561584, 0.27920439902315847, 0.3712943402846411, 0.6104933680104125  …  0.7347653641036879, 0.9461752811843307, 1.1379924593044355, 0.9522204549351159, 0.63837601698664, 0.38416278638761225, 0.33635400732477844, 0.42282514109331365, 0.5784885488242857, 0.7156731039673098], 0.48138537624444244, 0.5520887867212544, 0.24028015826436913, [0.3333333333333333, 0.0, 0.0, 0.6666666666666666, 0.3333333333333333, 0.6666666666666666, 0.3333333333333333, 0.3333333333333333, 0.0, 0.6666666666666666  …  1.0, 1.0, 1.0, 1.0, 1.0, 1.0, 1.0, 1.0, 1.0, 1.0], 1.0, 0.8963333333333332, 0.24072570141251887), Metrics(60, [0.583071815417487, 1.226438386108466, 1.430718792464743, 1.3293214088309622, 1.2478476099002163, 0.7092385139755103, 0.5698694655989095, 0.6567303051077207, 0.9429914979244782, 0.8591376631756115  …  0.21448338731565816, 0.8469300984393621, 0.3810803009958443, 0.5076275465807857, 0.4751123864579132, 0.16751878051262684, 0.11203837114410022, 0.046289994653915735, 0.6679564878820936, 0.5970412030171856], 0.3561303597946066, 0.47555622478060433, 0.4132425928329497, [0.4084563710008023, 0.5049958119839103, 0.715261953249182, 0.8069493758969484, 0.640441935483778, 0.5076973343441813, 0.3834495889905522, 0.32541697166697425, 0.45145850461882686, 0.646480325804904  …  0.8487404806337997, 1.0326006325975723, 0.9330584777460871, 0.8349049667539605, 0.6032069270148959, 0.37626362344343245, 0.31351777703877254, 0.4316364846781189, 0.6262615915728457, 0.8037481382458601], 0.48808798175781404, 0.5568225594954184, 0.2400337630261155, [0.3333333333333333, 0.0, 0.3333333333333333, 1.0, 0.3333333333333333, 1.0, 0.6666666666666666, 0.3333333333333333, 0.0, 1.0  …  1.0, 1.0, 1.0, 1.0, 1.0, 1.0, 1.0, 1.0, 1.0, 1.0], 1.0, 0.9088333333333335, 0.2250742378407693)]\n",
       " Metrics[Metrics(100, [0.6909759806138229, 1.2491354320179973, 1.5238144668261295, 1.481915489711575, 1.3339154464606686, 0.8517344835358476, 0.6599471973690797, 0.6907290750884781, 0.9677767531036028, 0.8460944335176872  …  0.36897743065931826, 0.9447199034157966, 0.37034724503174055, 0.7053204944432174, 0.5570568642134394, 0.2125837029690313, 0.124476279898532, 0.08557068862267632, 0.8566161851948877, 0.5463346883824832], 0.35801911507245077, 0.47290381320691943, 0.41240955412351876, [0.4022856330197347, 0.4809686554343422, 0.647094276833128, 0.6737843978133256, 0.5515398356339437, 0.4490275898985644, 0.3438543700497686, 0.3396834168253555, 0.46098040516287153, 0.6559704247978178  …  0.8972622069693585, 1.0721010704460994, 1.0801795969409063, 1.0178918018852021, 0.6776695245865477, 0.4238308374475151, 0.39556084829937527, 0.47869053041527193, 0.7709242931962785, 0.9014932323951474], 0.5011279255054686, 0.5704417659588753, 0.23866332638287427, [0.3333333333333333, 0.0, 0.0, 0.3333333333333333, 0.3333333333333333, 0.6666666666666666, 0.3333333333333333, 0.3333333333333333, 0.0, 1.0  …  1.0, 1.0, 1.0, 1.0, 1.0, 1.0, 1.0, 1.0, 1.0, 1.0], 1.0, 0.9336666666666668, 0.19820746367098027), Metrics(100, [0.6599926605709456, 1.26100244293559, 1.3942715894825122, 1.2477965039727046, 1.15286137233838, 0.7356526207747852, 0.60008180106837, 0.6734082404478794, 0.9799804913250728, 0.9546121718439511  …  0.3716414271003033, 0.7036274815553858, 0.42371775891288926, 0.7043692882869996, 0.5334424570747057, 0.22410489779491044, 0.11391402534819, 0.12392290980277741, 0.9319769451586802, 0.5358500521994333], 0.3469623556691087, 0.46752767081739494, 0.404899170716674, [0.4286682602159605, 0.5027492500532866, 0.6938018175840412, 0.6799491756749588, 0.5723585313655283, 0.4538454872549548, 0.3406411960550127, 0.3197353019344493, 0.4368085397563864, 0.617541853249749  …  0.8756724482668429, 1.037839695560152, 1.1336712763944414, 0.9193128240919022, 0.6108992232679396, 0.39739560209621766, 0.37606701902512707, 0.5239935214914223, 0.8025816792772558, 0.7886684793536559], 0.49446388801202823, 0.5663933231032365, 0.241206935693529, [0.6666666666666666, 0.0, 0.3333333333333333, 0.6666666666666666, 0.3333333333333333, 0.6666666666666666, 0.6666666666666666, 0.3333333333333333, 0.0, 1.0  …  1.0, 1.0, 1.0, 1.0, 1.0, 1.0, 1.0, 1.0, 1.0, 1.0], 1.0, 0.9345, 0.19121026127104412), Metrics(100, [0.9241069400179678, 1.5863659475346283, 1.7447162449792903, 1.5066118088584348, 1.327674475342092, 0.9069049754841816, 0.7830077005515149, 0.9809225107431425, 1.4896012624475008, 1.7964897445151973  …  0.21671767868643405, 0.6246176732849807, 0.6529946405273578, 0.7954351545734487, 0.6101641426875098, 0.23835165573582165, 0.13272158035169326, 0.07310173679690295, 0.8882285522116354, 0.6803223853393852], 0.36518239427380267, 0.5042951771119075, 0.44579520805866724, [0.4349333517187663, 0.5203999572667221, 0.7392501553429623, 0.7726997191648882, 0.6253613137043785, 0.5055102199355952, 0.36640171674348265, 0.31426758182711323, 0.38058117503624267, 0.5548143266241071  …  0.77226850475351, 1.0183973679698044, 1.159837758883193, 0.9528787147727635, 0.6139276209014443, 0.39334504170472245, 0.36063236979883107, 0.5081736171105636, 0.6995552757785204, 0.8043533930792249], 0.4958203766629806, 0.5629808775800427, 0.24071149995487706, [0.3333333333333333, 0.0, 0.0, 1.0, 0.3333333333333333, 0.6666666666666666, 0.6666666666666666, 0.3333333333333333, 0.0, 0.0  …  1.0, 1.0, 1.0, 1.0, 1.0, 1.0, 1.0, 1.0, 1.0, 1.0], 1.0, 0.9096666666666667, 0.22749649470998545), Metrics(100, [0.7360971078653517, 1.322395285270407, 1.5941603039797172, 1.489063941930617, 1.2978747635171894, 0.8544253910598181, 0.6730650246151786, 0.7531327129946492, 1.1022943137175523, 1.1716294577956174  …  0.16521641376244867, 0.6375856710573261, 0.3787049693605099, 0.5541486778297934, 0.47282026348688, 0.1914185861673572, 0.11669878640782713, 0.1978191680441554, 0.9463733248108651, 0.6923986653184778], 0.364940440403689, 0.4974934893303368, 0.439401937353278, [0.40220040564203724, 0.4830504474198461, 0.6407846317914357, 0.7522333230676975, 0.5839184350899802, 0.46800156628651907, 0.34409069355082605, 0.3043077160345676, 0.39343521078538346, 0.5717955414778058  …  0.8033557095331935, 0.9653083105886628, 1.138021578069712, 0.9919590052358875, 0.5964908975564363, 0.3593965272539125, 0.3135962587667001, 0.44275182482452885, 0.6942211399094028, 0.873922318090491], 0.4996142415022534, 0.5665072680011779, 0.24098248681214676, [0.3333333333333333, 0.0, 0.0, 0.3333333333333333, 0.3333333333333333, 0.6666666666666666, 0.6666666666666666, 0.3333333333333333, 0.0, 0.6666666666666666  …  1.0, 1.0, 1.0, 1.0, 1.0, 1.0, 1.0, 1.0, 1.0, 1.0], 1.0, 0.9181666666666666, 0.21276838391216937), Metrics(100, [0.5939763638528663, 1.1106723256244784, 1.3491636895442125, 1.3799609575675713, 1.2732285826365444, 0.8514578637555311, 0.666920280832912, 0.7531434485601649, 1.1271702650248976, 1.2211974908932122  …  0.24917026693623986, 0.7561025468840068, 0.3546922165492344, 0.5788695810888356, 0.519456983372811, 0.2073532041947246, 0.16988592001803837, 0.04928467225698676, 0.9302751435823884, 0.6858628229909943], 0.3614729678009379, 0.49151971049584753, 0.4302490782488637, [0.3656959898951765, 0.4384083011774478, 0.5836859701195857, 0.6611609791095023, 0.5533282664252164, 0.4362497657170113, 0.31609671201535927, 0.291350402746611, 0.3991802445305368, 0.559647072585737  …  0.8603380243203479, 1.1567727795824836, 1.1314832978115463, 0.8824273859821691, 0.627997391605865, 0.44414738723830116, 0.4346810650724456, 0.5816752456940715, 0.7717138847399307, 0.7601404379347552], 0.5025968454315535, 0.5676882891916373, 0.24087784039711574, [0.3333333333333333, 0.0, 0.0, 0.6666666666666666, 0.3333333333333333, 0.6666666666666666, 0.6666666666666666, 0.3333333333333333, 0.0, 0.3333333333333333  …  1.0, 1.0, 1.0, 1.0, 1.0, 1.0, 1.0, 1.0, 1.0, 1.0], 1.0, 0.9115, 0.22613660324261411), Metrics(100, [0.7851824102869059, 1.4527476600181917, 1.619715133941665, 1.4332199403151296, 1.2585497741419203, 0.8144305508808819, 0.7261178996921364, 0.9106977305110032, 1.3214082706416213, 1.431107699942525  …  0.39925440968915077, 0.7512772466464517, 0.23399414023980455, 0.5685545332349594, 0.4776970723018586, 0.17740743808140222, 0.09870982189670542, 0.07720440808640754, 0.9127522750832947, 0.6356294664573021], 0.3668025323873393, 0.49444263873569194, 0.42521467133120094, [0.4334709760986862, 0.5572452298389868, 0.761655306241348, 0.8106039963119864, 0.6757240645697298, 0.5512133988270762, 0.42436431432794663, 0.35377929675192615, 0.4232378487344244, 0.6394923867665023  …  0.7788006323288851, 0.823828896033975, 1.0475237215931452, 0.9130413543025381, 0.6295838352685001, 0.3794591904197601, 0.3285423265011618, 0.4786849434027913, 0.6983480304811059, 0.8774410825930542], 0.4993025917128793, 0.5650883374851996, 0.23482128667270685, [0.3333333333333333, 0.0, 0.3333333333333333, 0.6666666666666666, 0.3333333333333333, 0.6666666666666666, 0.6666666666666666, 0.3333333333333333, 0.0, 0.3333333333333333  …  1.0, 1.0, 1.0, 1.0, 1.0, 1.0, 1.0, 1.0, 1.0, 1.0], 1.0, 0.9216666666666667, 0.20842544236958677), Metrics(100, [0.6150439628451104, 1.1525174485107132, 1.384494285903243, 1.3040462516593476, 1.2159587757504362, 0.7961988607629588, 0.6168380622605093, 0.693721940865708, 0.9998494873219282, 0.9410808012435449  …  0.1344489598531526, 0.5709341860860186, 0.6799233157821176, 0.8796236123375345, 0.6278290743332466, 0.2388322395686434, 0.1312479627204667, 0.28690679174705097, 1.202635404205471, 0.8626410591147331], 0.3788836326432094, 0.49661234896391954, 0.4271629834429746, [0.37811545794285717, 0.47092596049232394, 0.6155644209322231, 0.681512357262683, 0.5791987332952342, 0.48013775182535734, 0.35666212082761806, 0.3121684701751976, 0.4272361061688424, 0.6180408057505409  …  0.8302748202694179, 1.0507068877858503, 1.1548477404179514, 1.0578424975845349, 0.7178435434849628, 0.4380836957934176, 0.4098477042820243, 0.5559460840221918, 0.8628758426901447, 0.8921070911711387], 0.49819608173672497, 0.5664559293524026, 0.2410200106159242, [0.3333333333333333, 0.0, 0.0, 0.3333333333333333, 0.3333333333333333, 1.0, 0.6666666666666666, 0.3333333333333333, 0.0, 0.6666666666666666  …  1.0, 1.0, 1.0, 1.0, 1.0, 1.0, 1.0, 1.0, 1.0, 1.0], 1.0, 0.9101666666666668, 0.2268384889569192), Metrics(100, [0.8222575904720107, 1.4675278543630428, 1.575551594323232, 1.3737478557923435, 1.2266548240202102, 0.79891086187863, 0.6760552995727793, 0.829334194333781, 1.2444843036168285, 1.3075079274043606  …  0.5852786680596366, 0.886892176968085, 0.3618844156369924, 0.5242325380382189, 0.429323030588675, 0.14989959323786803, 0.09546837790111985, 0.04424917576131823, 0.7480177815305762, 0.6786224120600312], 0.3742756417937368, 0.515033562539847, 0.5268684304762099, [0.42260716923975383, 0.5557010907157856, 0.7369294973885855, 0.8430345747367824, 0.6402184663388442, 0.5180466148313637, 0.4029305737929868, 0.3568899640473112, 0.41380044158533946, 0.5716955846644906  …  0.7726463408627564, 0.9268045526211198, 0.9544280706084269, 0.9304605641825503, 0.599536678267018, 0.35611818714641086, 0.32180114335793464, 0.43118716383800226, 0.6225669094770151, 0.7520236212444643], 0.5069030889831115, 0.5707476561422941, 0.2399598522790682, [0.3333333333333333, 0.0, 0.0, 0.3333333333333333, 0.3333333333333333, 0.6666666666666666, 0.6666666666666666, 0.3333333333333333, 0.0, 0.3333333333333333  …  1.0, 1.0, 1.0, 1.0, 1.0, 1.0, 1.0, 1.0, 1.0, 1.0], 1.0, 0.9153333333333332, 0.2202781956162575), Metrics(100, [0.6290982065703474, 1.1580403342270038, 1.402691572071166, 1.3681712386949478, 1.2855331778787846, 0.8559666571014072, 0.6530272206749649, 0.7100461732768295, 1.0066401545521113, 0.9984959540981402  …  0.16202669745098186, 0.658063367524889, 0.44619061917478214, 0.5815751352608315, 0.48322743194867135, 0.16602422352939888, 0.07505370609761419, 0.1881765017363473, 1.1192924395529962, 0.8299282947988312], 0.3514089381464047, 0.47411388563672974, 0.427273074619757, [0.36742940418114434, 0.4482110281970712, 0.6106423475824195, 0.6925002845797871, 0.5239032120503786, 0.4265829285489274, 0.3194728215417603, 0.31201708340506745, 0.43855935846029925, 0.608989906541962  …  0.8442672520414711, 0.9560354550088155, 1.202689849389948, 1.0309268383615433, 0.6937800553441931, 0.43482335073842254, 0.40920759805389545, 0.5830084409878629, 0.8049438693462977, 0.8622364471340038], 0.5018984319352487, 0.5656123636578041, 0.24049998717286264, [0.3333333333333333, 0.0, 0.0, 0.6666666666666666, 0.3333333333333333, 0.3333333333333333, 0.6666666666666666, 0.3333333333333333, 0.0, 0.6666666666666666  …  1.0, 1.0, 1.0, 1.0, 1.0, 1.0, 1.0, 1.0, 1.0, 1.0], 1.0, 0.9231666666666667, 0.20509050292621692), Metrics(100, [0.7483677431869896, 1.2995601099257192, 1.4959120475860208, 1.299196991921194, 1.1789536659755186, 0.7470114882115602, 0.6040995383125555, 0.7023994103356038, 1.0576676579697364, 1.1629146199821159  …  0.1427211421267278, 0.7578083177907027, 0.31678380356037766, 0.5872820641703572, 0.5687269225238997, 0.23736936219632584, 0.15459029991122913, 0.07892480810363908, 1.1103439980323226, 0.9006639233766813], 0.35726809365020074, 0.4838803964934413, 0.4240681969515378, [0.3866123744406051, 0.5070495649197638, 0.6659796296580699, 0.7291741248727478, 0.5893768833803115, 0.47706739319128216, 0.34790997282917796, 0.31753551879006664, 0.3912917307010155, 0.5933564049750989  …  0.8647984625293651, 0.9852734110269267, 1.104535905747763, 0.92004371384632, 0.6069611826371476, 0.4118997670197555, 0.42345449182551886, 0.6143440545668203, 0.7748702270640593, 0.8348570734452211], 0.5038654130645802, 0.5690905966894461, 0.23947446629707567, [0.3333333333333333, 0.0, 0.0, 0.3333333333333333, 0.3333333333333333, 0.6666666666666666, 0.6666666666666666, 0.3333333333333333, 0.0, 0.6666666666666666  …  1.0, 1.0, 1.0, 1.0, 1.0, 1.0, 1.0, 1.0, 1.0, 1.0], 1.0, 0.9218333333333334, 0.20728485541259284), Metrics(100, [0.673341197315402, 1.2441244184466382, 1.4395242663790697, 1.3649125086978118, 1.2713924740723275, 0.7906405437881551, 0.621395223764076, 0.6644538900766616, 0.9822858217294521, 0.8957431125774491  …  0.20755111463121204, 0.8163349605169221, 0.4497916301738757, 0.6744195543544981, 0.542816944968233, 0.21782539034870996, 0.16753734999790149, 0.041017266830682096, 0.8806373026562171, 0.6726619818143124], 0.3709730677314163, 0.4944815173768514, 0.4323166534906536, [0.3934538617870843, 0.5121640395155861, 0.6293653628591078, 0.6953672787586963, 0.573996191072701, 0.4607274785972097, 0.3463873899102825, 0.31078605916656415, 0.43069061892373456, 0.6492450103970477  …  0.8772745192149032, 1.050041821224065, 1.118630094239867, 0.961248440458355, 0.667072668823046, 0.4151060887580842, 0.3985221413731706, 0.535127654206387, 0.7485179297128997, 0.8939544718861192], 0.5055754139292723, 0.5727249630960699, 0.24274847570640248, [0.3333333333333333, 0.0, 0.3333333333333333, 0.6666666666666666, 0.3333333333333333, 0.6666666666666666, 0.6666666666666666, 0.3333333333333333, 0.0, 1.0  …  1.0, 1.0, 1.0, 1.0, 1.0, 1.0, 1.0, 1.0, 1.0, 1.0], 1.0, 0.9145, 0.21548825911666472)]\n",
       " Metrics[Metrics(200, [0.6633513280226699, 1.2155397751028933, 1.4315991811799371, 1.3639789070458037, 1.212505601081383, 0.7337407861159262, 0.5825556964491747, 0.6728290273172486, 1.0034405670713804, 1.0129222167975631  …  0.41730103205804775, 0.8033966208341514, 0.31914304236114033, 0.5889883816720244, 0.5237181612150882, 0.21175148607511712, 0.17191633213849453, 0.06467339319965831, 0.7299517678793715, 0.565366694861246], 0.3532075816024799, 0.47998282782096974, 0.4237714447407215, [0.3784210667246951, 0.4662662526538542, 0.6277069170638842, 0.7224550140477971, 0.5867729094992056, 0.46478775100826014, 0.3453780498298173, 0.3090087239733779, 0.4182731712892685, 0.6147003503045527  …  0.8150425141150127, 0.994103238165796, 1.0434516889646341, 0.9402054854527957, 0.6438530257630931, 0.41776833104554845, 0.39560212937706624, 0.5278558483207089, 0.748054189147448, 0.8904843364516518], 0.5142700350989222, 0.5802817267029222, 0.24069349948753643, [0.3333333333333333, 0.0, 0.0, 0.3333333333333333, 0.3333333333333333, 0.6666666666666666, 0.6666666666666666, 0.3333333333333333, 0.0, 0.6666666666666666  …  1.0, 1.0, 1.0, 1.0, 1.0, 1.0, 1.0, 1.0, 1.0, 1.0], 1.0, 0.9326666666666668, 0.19389721864697507), Metrics(200, [0.7366732136746562, 1.3195855936812622, 1.547262071697944, 1.4585587267520044, 1.2646422038401224, 0.8109720851365851, 0.65411816626472, 0.747344514697906, 1.1155886845152039, 1.1996868705897101  …  0.1772359537515434, 0.6716516736173203, 0.3905779314210081, 0.6459325582635992, 0.5650622382129754, 0.19836063988623387, 0.12285709976771772, 0.11208933569383868, 1.0148091919468278, 0.664804597661134], 0.3561626235487828, 0.47998268420043255, 0.4193337104230137, [0.39009938221626905, 0.48824840711193324, 0.6601396743537723, 0.7831632518886635, 0.6099452441595161, 0.48281751485972774, 0.3580135180438194, 0.3123989787345781, 0.40748953365999596, 0.6173894261456488  …  0.8389166013119618, 0.9969525784542137, 1.081843848358251, 1.0090504393646984, 0.7046145184328653, 0.43540944610754034, 0.39989751850572425, 0.5409156189026543, 0.7821595150972818, 0.7936337324399544], 0.5083238948633038, 0.5761666233400818, 0.2393696981349783, [0.3333333333333333, 0.0, 0.0, 0.6666666666666666, 0.3333333333333333, 0.6666666666666666, 0.6666666666666666, 0.3333333333333333, 0.0, 0.6666666666666666  …  1.0, 1.0, 1.0, 1.0, 1.0, 1.0, 1.0, 1.0, 1.0, 1.0], 1.0, 0.933, 0.19458485286839836), Metrics(200, [0.6596625282714591, 1.188407300139323, 1.3633587159789808, 1.2565102956113672, 1.189205138425041, 0.7222904731430675, 0.5646990897276739, 0.6083579941981865, 0.8966324564873056, 0.8497813244003032  …  0.2331117362504194, 0.6921281865451688, 0.3416752096817313, 0.5785635783550322, 0.47643686923028705, 0.1752090004930078, 0.09119339854846167, 0.16322754224764371, 0.9789437428791203, 0.713637945545931], 0.3735704434852813, 0.4924036731719734, 0.4233939173117004, [0.37949806936252384, 0.508235789235993, 0.7005306211574307, 0.6992059898079455, 0.5906131409837778, 0.4613124665792995, 0.3392782515923664, 0.31000440251686245, 0.42051223886128464, 0.6250860439207597  …  0.9447469135189686, 0.9510494320505881, 1.0514999385603863, 0.9227937090564836, 0.6506639648138078, 0.41329064620222783, 0.37832522217530906, 0.5093313600817937, 0.7427107526077915, 0.877105969251818], 0.5229457985360316, 0.5828077551186066, 0.2384072836571526, [0.3333333333333333, 0.0, 0.3333333333333333, 0.3333333333333333, 0.3333333333333333, 0.6666666666666666, 0.6666666666666666, 0.3333333333333333, 0.0, 1.0  …  1.0, 1.0, 1.0, 1.0, 1.0, 1.0, 1.0, 1.0, 1.0, 1.0], 1.0, 0.932, 0.19395110398652293), Metrics(200, [0.693095888736268, 1.2371850885306455, 1.5053581754046017, 1.4541494280872627, 1.2755909899597377, 0.839280348862079, 0.6607141394166544, 0.777645908016597, 1.1596543343544479, 1.2783700405603025  …  0.2920464924513098, 0.7147708167302499, 0.712523689854245, 0.8472119673097456, 0.6460598192787573, 0.2589877230386165, 0.16587812867320037, 0.11425732641250137, 1.1325130859071997, 0.8397623609113247], 0.35052062392156424, 0.4844484889560619, 0.4231985353834981, [0.3738311880901843, 0.4476776859906879, 0.6078603335074162, 0.6980386237985983, 0.5742362627006065, 0.4653340582805023, 0.34932070620130995, 0.3071292864868349, 0.39023367959106203, 0.5432584852699355  …  0.8530667499438896, 1.0800298090887794, 1.11695418732094, 0.960487704835465, 0.6680502152695328, 0.45744458619393674, 0.447676190234654, 0.6217852318262328, 0.7985431568078979, 0.8697845545694197], 0.5138045401211124, 0.5784169647166961, 0.23965089433064624, [0.3333333333333333, 0.0, 0.0, 0.3333333333333333, 0.3333333333333333, 0.6666666666666666, 0.6666666666666666, 0.3333333333333333, 0.0, 0.3333333333333333  …  1.0, 1.0, 1.0, 1.0, 1.0, 1.0, 1.0, 1.0, 1.0, 1.0], 1.0, 0.933, 0.19685679699081501), Metrics(200, [0.7598660316645046, 1.3480296469866855, 1.5612339240070967, 1.451147397620834, 1.2695714956138002, 0.8956034959571801, 0.782935743227215, 0.9837231301598838, 1.4581073725390696, 1.6002648194636409  …  0.31750006083326127, 0.7190856603714934, 0.3701655986067429, 0.6953865506293433, 0.5800323160386952, 0.22068481640884738, 0.12129828201388422, 0.0703436242860149, 0.8253924215606508, 0.6237187093276582], 0.3634643184023594, 0.48565805296969144, 0.4187531128749152, [0.39041939465138487, 0.48840960638974706, 0.6496159573231897, 0.7548932085819264, 0.6624441275777602, 0.5487267577813097, 0.4264618655823136, 0.36743749180104734, 0.4385122595883816, 0.6147701007545013  …  0.774666832485316, 0.9447043626040128, 1.041603982980265, 0.9635628491725687, 0.6610297477213289, 0.4010913239616399, 0.36561074202342697, 0.5072025279255546, 0.735399925930027, 0.8335215605267281], 0.5216939897604802, 0.5853094762834655, 0.23800475789555595, [0.3333333333333333, 0.0, 0.0, 0.3333333333333333, 0.3333333333333333, 0.6666666666666666, 0.6666666666666666, 0.3333333333333333, 0.0, 0.3333333333333333  …  1.0, 1.0, 1.0, 1.0, 1.0, 1.0, 1.0, 1.0, 1.0, 1.0], 1.0, 0.93, 0.19665933235434466), Metrics(200, [0.778003349054618, 1.4255509203989043, 1.6219719078919719, 1.517293448733874, 1.3049217653966603, 0.8944409682763154, 0.7485666774285615, 0.9153293506103889, 1.3514251892948947, 1.5375236798045977  …  0.2149390829214011, 0.6817915024094793, 0.5313509338246428, 0.7660824252993349, 0.5846774794794058, 0.23829348341693024, 0.14837199900476938, 0.0930553829237329, 0.9846897452388398, 0.7340782282811732], 0.36789193372837203, 0.4868545678116942, 0.4210869969502657, [0.41633667328485374, 0.5196390107411405, 0.6886703076388787, 0.7409000761983031, 0.6165494975431131, 0.4817987785236919, 0.359893019449314, 0.3306574502636971, 0.41958262664653917, 0.6247303121584954  …  0.7628340033998061, 1.0196100300956634, 1.0222856766685708, 0.9132597297653544, 0.633970160618786, 0.4285077936891197, 0.41934937998769645, 0.5659736769311332, 0.740703501538474, 0.8783087792955434], 0.5160923526846092, 0.5790845181024421, 0.24063006238172505, [0.3333333333333333, 0.0, 0.0, 0.3333333333333333, 0.3333333333333333, 0.6666666666666666, 0.6666666666666666, 0.3333333333333333, 0.0, 0.3333333333333333  …  1.0, 1.0, 1.0, 1.0, 1.0, 1.0, 1.0, 1.0, 1.0, 1.0], 1.0, 0.9303333333333332, 0.20069331221904577), Metrics(200, [0.6908950035149662, 1.2765843178617944, 1.5006879497060306, 1.3858117113522779, 1.2656039679202602, 0.8387151830505241, 0.6746756514589196, 0.777059368456754, 1.1605587441904193, 1.2457632311383464  …  0.3755473994236998, 0.756948592119183, 0.47106381554974897, 0.6592552706465208, 0.5856076119789057, 0.22314566696606786, 0.15848657916865985, 0.06068239717428279, 0.973240587540446, 0.749876957207542], 0.36251794336313925, 0.4858269068852209, 0.4196063148312138, [0.405910198960385, 0.5034788915102099, 0.6685101743878411, 0.7040364426683966, 0.5875753461814541, 0.4720547238987118, 0.3477301039903217, 0.3153579096592253, 0.40727903654438885, 0.5833500960082372  …  0.7314734877912434, 0.98437334568549, 1.1091662413773815, 0.9766737460367454, 0.6977407141118145, 0.4519460677511647, 0.4149728646384865, 0.5694762696157906, 0.7219630538872863, 0.8572459319868114], 0.5120787537317543, 0.582606495028624, 0.2412913286242126, [0.3333333333333333, 0.0, 0.0, 0.6666666666666666, 0.3333333333333333, 0.6666666666666666, 0.6666666666666666, 0.3333333333333333, 0.0, 0.3333333333333333  …  1.0, 1.0, 1.0, 1.0, 1.0, 1.0, 1.0, 1.0, 1.0, 1.0], 1.0, 0.9335, 0.1928923659545211), Metrics(200, [0.6985505489920809, 1.2322425936705168, 1.5004572593906464, 1.4086431253030762, 1.2573853015557213, 0.8643221349560608, 0.6816105282466665, 0.7807546513459209, 1.1717167289125416, 1.4051253525564982  …  0.4284692347871596, 0.8291764477879895, 0.3715503354412034, 0.6028667924627534, 0.5304815882492212, 0.1925921812399646, 0.10491159278393297, 0.09478841336285085, 0.8210474093530621, 0.6944024074167694], 0.3650354603918743, 0.49674784166844826, 0.43950161182055036, [0.3559212253809828, 0.46500530072285856, 0.6509542636210265, 0.6514332850154684, 0.5494254454911629, 0.4438014493200076, 0.3297012645354424, 0.2900949013468081, 0.36006844107085856, 0.5487835149646213  …  0.83883568277343, 0.9567189736077455, 1.1048888491186044, 0.9842594412726633, 0.6737301233860875, 0.4046849145553177, 0.3571667049364797, 0.4826101020709316, 0.6496469183852097, 0.7868589553087046], 0.5084120058284516, 0.5749990834379227, 0.23833559141067534, [0.3333333333333333, 0.0, 0.0, 0.3333333333333333, 0.3333333333333333, 0.6666666666666666, 0.3333333333333333, 0.3333333333333333, 0.0, 0.3333333333333333  …  1.0, 1.0, 1.0, 1.0, 1.0, 1.0, 1.0, 1.0, 1.0, 1.0], 1.0, 0.9255, 0.20594999913939607), Metrics(200, [0.8137390872417037, 1.4131627215318048, 1.7157056611980361, 1.595336677801843, 1.340661981705626, 0.8738539487195881, 0.7208568634244438, 0.8778964973127813, 1.309672515219544, 1.505708013795939  …  0.1771811665804103, 0.6307279302526921, 0.48643182042638794, 0.7702184651806693, 0.5829771184825981, 0.2270048492654558, 0.14698052523010308, 0.15312436033614052, 1.1012105864472472, 0.7600320239295357], 0.3572095163235057, 0.4786131335236733, 0.4161178632845425, [0.3826205388271394, 0.47572502935482586, 0.6240267799983417, 0.7247229199627526, 0.6356933390399245, 0.4780355487903502, 0.362376722106529, 0.31873660912207524, 0.39326675570266967, 0.5638694547388934  …  0.8681056073935981, 1.0003307379837942, 1.0495109008542491, 0.9955361121499314, 0.6950419307733365, 0.4505916075265311, 0.4511519076839612, 0.6193879253445076, 0.7699911378195899, 0.8826082030349335], 0.5170629794635796, 0.5794524136427194, 0.23790073219182778, [0.3333333333333333, 0.0, 0.0, 0.3333333333333333, 0.3333333333333333, 0.6666666666666666, 0.6666666666666666, 0.3333333333333333, 0.0, 0.3333333333333333  …  1.0, 1.0, 1.0, 1.0, 1.0, 1.0, 1.0, 1.0, 1.0, 1.0], 1.0, 0.9416666666666668, 0.17935680140123553), Metrics(200, [0.8880333783200794, 1.5320814520237807, 1.7220000625242402, 1.644853009959083, 1.3641087959079055, 0.944093290909625, 0.7698941252684344, 0.93633375357009, 1.429564576766468, 1.7152378513312618  …  0.26394177918972705, 0.7827013325272529, 0.4422648780776428, 0.6966526702556927, 0.5708255167822934, 0.21992885190912503, 0.15589075913018152, 0.06760978374997399, 0.9543581908906833, 0.7497810066824501], 0.34989718188076574, 0.4809118538799499, 0.42338150093168575, [0.4301320051032028, 0.518337995062203, 0.6685640376180809, 0.7233730605846328, 0.5928385625546037, 0.4634008791788114, 0.350878219995895, 0.31095177617540926, 0.37482296187759, 0.5564381876370732  …  0.879321663564228, 0.9967397881526784, 1.0694998155968092, 1.036135799758579, 0.6771061896656324, 0.4321704488967386, 0.4215908180266428, 0.5468352444084549, 0.7247509459954142, 0.8516196833811928], 0.5176835444334846, 0.5797975718255315, 0.23945702600384325, [0.3333333333333333, 0.0, 0.0, 0.6666666666666666, 0.3333333333333333, 0.6666666666666666, 0.6666666666666666, 0.3333333333333333, 0.0, 0.0  …  1.0, 1.0, 1.0, 1.0, 1.0, 1.0, 1.0, 1.0, 1.0, 1.0], 1.0, 0.9363333333333332, 0.19255182359315956), Metrics(200, [0.7298651778424214, 1.3123669085194334, 1.5260674092320525, 1.4238122638387067, 1.3017107840114845, 0.8604394277247295, 0.7723573410325635, 0.9585957065536963, 1.3473381123508728, 1.3204337250014706  …  0.3179508538019704, 0.8012903252084952, 0.36882180745849025, 0.6811015863839343, 0.6208155451811624, 0.25052471943953647, 0.16978366629132385, 0.06543758248115748, 1.0273059356743124, 0.761451615305426], 0.35625821360783366, 0.47157191291065087, 0.4054245366642625, [0.40446742303870226, 0.4980850381874495, 0.6546205372332775, 0.7693702087591906, 0.6987556157175437, 0.5385700151913699, 0.41954094821265925, 0.3969124842755561, 0.4915856406083349, 0.6576511258220145  …  0.8764138277310697, 1.0059235453444277, 1.2027966412721038, 0.9999397713146599, 0.6513358132684111, 0.43352728909824423, 0.4327087325797486, 0.5775935999166607, 0.7585408426326148, 0.8516948596657525], 0.5150603182519305, 0.5808421981637355, 0.2382651099942467, [0.3333333333333333, 0.0, 0.0, 0.3333333333333333, 0.3333333333333333, 0.6666666666666666, 0.6666666666666666, 0.3333333333333333, 0.0, 0.3333333333333333  …  1.0, 1.0, 1.0, 1.0, 1.0, 1.0, 1.0, 1.0, 1.0, 1.0], 1.0, 0.9423333333333332, 0.1798816303091663)]\n",
       " Metrics[Metrics(400, [0.6979986372685655, 1.2516283570519469, 1.4895213688529927, 1.4349253925443235, 1.2921887255004187, 0.8330571201186029, 0.6520562786033552, 0.7397892947372955, 1.0908959908562161, 1.1196389889922493  …  0.3414045179514034, 0.7395455676173408, 0.40303562351117894, 0.6862157466433265, 0.5611680430251197, 0.21282063854106154, 0.12680767551684893, 0.06909424363475294, 0.8488119776640517, 0.643475294264473], 0.35929415327327247, 0.48485593052031717, 0.4226166480819697, [0.39373877290665604, 0.48775094236939154, 0.6337773866003692, 0.7047486761263079, 0.5834003130900115, 0.4607799282807415, 0.34487760053469446, 0.31734548744360935, 0.4209879367094392, 0.6154528862763035  …  0.7940708050727042, 0.9881563774279992, 1.0097836173220067, 0.960154979922134, 0.6461497928728516, 0.41012357556040013, 0.37748844792395087, 0.5106727765613496, 0.6920301531215144, 0.7553667262137554], 0.5263955405714712, 0.5885122645932557, 0.23925148043515734, [0.3333333333333333, 0.0, 0.0, 0.6666666666666666, 0.3333333333333333, 0.6666666666666666, 0.6666666666666666, 0.3333333333333333, 0.0, 0.6666666666666666  …  1.0, 1.0, 1.0, 1.0, 1.0, 1.0, 1.0, 1.0, 1.0, 1.0], 1.0, 0.9408333333333333, 0.18322567214934268), Metrics(400, [0.7764698554767712, 1.4091168813297559, 1.5091770243819562, 1.381978326187588, 1.2770820952665245, 0.8285192924552006, 0.7130950112950226, 0.869883887487754, 1.2415270843233368, 1.2452914792299714  …  0.2974852673569265, 0.764033030301415, 0.42102345887524056, 0.6764440683132107, 0.5483615750509676, 0.2163166108336625, 0.13750366185926577, 0.06698381061832802, 0.8784764051771269, 0.718772189879066], 0.3824618093535979, 0.507435657453549, 0.4639728778899528, [0.41766149725383966, 0.544073886192349, 0.686661631339994, 0.7623260334515041, 0.6686776651186407, 0.5227350681817436, 0.41526273314553674, 0.37943663043654846, 0.4659281312355894, 0.6442561430543764  …  0.7796876355833734, 1.0138319206628938, 1.0826331056106204, 0.9799331364214752, 0.6544804800908289, 0.424703889628788, 0.4104865415231348, 0.5465416846760639, 0.7319620646170788, 0.8075888294744992], 0.5305916600782703, 0.5934439230514494, 0.23990031974457426, [0.3333333333333333, 0.0, 0.3333333333333333, 0.3333333333333333, 0.3333333333333333, 0.6666666666666666, 0.6666666666666666, 0.3333333333333333, 0.0, 0.6666666666666666  …  1.0, 1.0, 1.0, 1.0, 1.0, 1.0, 1.0, 1.0, 1.0, 1.0], 1.0, 0.9316666666666666, 0.19808852560517654), Metrics(400, [0.8007731495647501, 1.4318412655662276, 1.6545300662622375, 1.4509733215738725, 1.2946727483451, 0.8441905837032421, 0.7055624181159839, 0.8560167877906735, 1.2622219563246362, 1.332017537764112  …  0.3028076936526908, 0.7966979990127452, 0.298756164452568, 0.5563345576603492, 0.492055152211546, 0.1831316162448914, 0.11515311385211026, 0.08811602690879998, 0.9394996083838763, 0.7043698260918448], 0.3707988948036479, 0.490557101716464, 0.43027911094693944, [0.4153404457620039, 0.5097764435207703, 0.6961159960590523, 0.7466305687495239, 0.6400011248465975, 0.5026270698611975, 0.3702080408875146, 0.33130253810809757, 0.42218159444813635, 0.6007167538245926  …  0.8762962641899896, 1.0098033897259826, 1.0656385177576408, 0.9601343487871817, 0.6463577420519055, 0.41689848023428483, 0.3919801212331033, 0.554252690400017, 0.7323756574418483, 0.8465002306394469], 0.5262580447138601, 0.5899219859609978, 0.24029461770558314, [0.3333333333333333, 0.0, 0.0, 0.3333333333333333, 0.3333333333333333, 0.6666666666666666, 0.6666666666666666, 0.3333333333333333, 0.0, 0.3333333333333333  …  1.0, 1.0, 1.0, 1.0, 1.0, 1.0, 1.0, 1.0, 1.0, 1.0], 1.0, 0.939, 0.18398772050385231), Metrics(400, [0.7878223045271779, 1.400962823207803, 1.610527664444916, 1.502521097650764, 1.3455473526023571, 0.8871273497282771, 0.7275352779671991, 0.861635984445391, 1.253138008942968, 1.2743919995611195  …  0.23464970877247823, 0.7311858558977835, 0.41347564065876846, 0.6772152165300928, 0.5519139515997179, 0.21037066467815635, 0.1310838249686045, 0.07094376685323707, 0.8806298492185268, 0.7619046020707475], 0.36441784169855473, 0.48983842426846663, 0.4253498475389017, [0.41401235556846705, 0.5082076703634711, 0.6719508477983731, 0.7691221930523543, 0.6212713052952729, 0.49559333079093554, 0.3828348776714026, 0.353773545657236, 0.45148069330650503, 0.6549998974352506  …  0.8641599695097838, 0.9951095270255375, 1.039603226030203, 0.9241021756830705, 0.6464825526543574, 0.42675917761300947, 0.3984519080424745, 0.5326839108744185, 0.7365016092955153, 0.8734003593381748], 0.5288608497495261, 0.5912801818773241, 0.24179109964134854, [0.3333333333333333, 0.0, 0.0, 0.3333333333333333, 0.3333333333333333, 0.6666666666666666, 0.6666666666666666, 0.3333333333333333, 0.0, 0.6666666666666666  …  1.0, 1.0, 1.0, 1.0, 1.0, 1.0, 1.0, 1.0, 1.0, 1.0], 1.0, 0.9416666666666668, 0.181819129259132), Metrics(400, [0.7487664054434328, 1.3916427556807278, 1.5519333663246293, 1.3566720360067623, 1.3694775598869913, 0.8671657875355315, 0.7521453499835782, 0.8857651571678481, 1.1990241871727687, 1.043367560072021  …  0.35051391079252636, 0.8097447560781186, 0.3565388736638416, 0.6278913625981376, 0.5076458286256874, 0.18280572631297362, 0.11737777288422005, 0.06272402016855677, 0.9353008698208611, 0.7048350738982472], 0.36183261715035286, 0.48744109701035027, 0.4208032076253772, [0.4542371601119374, 0.5490039820708151, 0.7325981057581297, 0.8131395506692889, 0.7079152164804423, 0.5633755672527173, 0.4636563941993208, 0.4562334912220597, 0.5524881884497314, 0.7252504674599217  …  0.9206786955966264, 0.9986558583095683, 1.0992325710412814, 0.9790409827570178, 0.6453071012582221, 0.40492975529850855, 0.38577530350940326, 0.5445665448345901, 0.7188544259456968, 0.8427532541429742], 0.5295259038339806, 0.594655134811187, 0.2401489098909108, [0.3333333333333333, 0.0, 0.3333333333333333, 1.0, 0.3333333333333333, 0.6666666666666666, 0.6666666666666666, 0.3333333333333333, 0.0, 1.0  …  1.0, 1.0, 1.0, 1.0, 1.0, 1.0, 1.0, 1.0, 1.0, 1.0], 1.0, 0.9423333333333332, 0.17895223060724488), Metrics(400, [0.7983942917466937, 1.4360832474961394, 1.6103215797828032, 1.4483960998456016, 1.3786766676847433, 0.93890150222209, 0.8164626564895034, 0.9870224910233812, 1.3712565578806257, 1.2573311016878945  …  0.19403593686674792, 0.7633100359268958, 0.4970052358371482, 0.6610533334048958, 0.5206589950638105, 0.20360079525523841, 0.11035546099998804, 0.13406679400528332, 1.0444982618782337, 0.8217367180117932], 0.36860287473683373, 0.49505028848673555, 0.43296541126791743, [0.4420168008473841, 0.5388439172687369, 0.6928763934449168, 0.7794082059848457, 0.6954915693031016, 0.5589154597067586, 0.44497069258729816, 0.42373712899180527, 0.5207803983915326, 0.7200550268201518  …  0.8149939323941532, 1.0872747627373034, 1.06371504681375, 0.9344351514372481, 0.6493158359542007, 0.42967114747155777, 0.41069259033567407, 0.5683136536500693, 0.7465218637905086, 0.856723748592101], 0.5282287699617707, 0.5896270018437196, 0.23810530130270166, [0.3333333333333333, 0.0, 0.0, 0.6666666666666666, 0.3333333333333333, 0.6666666666666666, 0.6666666666666666, 0.3333333333333333, 0.0, 0.6666666666666666  …  1.0, 1.0, 1.0, 1.0, 1.0, 1.0, 1.0, 1.0, 1.0, 1.0], 1.0, 0.9363333333333334, 0.18817200735544076), Metrics(400, [0.7728561847720974, 1.3998181766625073, 1.5158673822494932, 1.3629498709532706, 1.2386842894359462, 0.8002730543142101, 0.6673819264363314, 0.7933543717830596, 1.15510575866665, 1.131888459916663  …  0.21696313083567537, 0.6872829472697344, 0.43910354162995346, 0.6583462437636237, 0.50506947897435, 0.1854454470099709, 0.09347187285084367, 0.13483985943015425, 0.950466483534535, 0.7171376749988128], 0.3715359145101512, 0.5003211866188121, 0.436585611869038, [0.4215854362732146, 0.5333807954561113, 0.7227922608265103, 0.7616721780819189, 0.6214579650589946, 0.48757210782015675, 0.3743567960031197, 0.343128819502759, 0.44980156351040707, 0.6528701437920446  …  0.8289763864215357, 1.0645651998584984, 1.0529249432312495, 0.9201202235720851, 0.6433000880717067, 0.40003722860980634, 0.3673282828239014, 0.5067769863545072, 0.6886249840891653, 0.7914701466691542], 0.5263182384709414, 0.591772984968452, 0.23943525108638228, [0.3333333333333333, 0.0, 0.0, 1.0, 0.3333333333333333, 0.6666666666666666, 0.6666666666666666, 0.3333333333333333, 0.0, 1.0  …  1.0, 1.0, 1.0, 1.0, 1.0, 1.0, 1.0, 1.0, 1.0, 1.0], 1.0, 0.9328333333333333, 0.1966586964184246), Metrics(400, [0.7272958852811752, 1.3196232160360757, 1.531310793542359, 1.382731061610792, 1.270023137274902, 0.8164348345046895, 0.6643602480703117, 0.7726195049008602, 1.1337434162853814, 1.2053091558024738  …  0.29815261269877824, 0.7746523625515177, 0.5378367501493743, 0.7220516643452659, 0.5738282321508369, 0.22468341130263877, 0.14435685753242108, 0.06367200893542445, 0.7931632955935863, 0.6096458563573895], 0.3661437366730862, 0.48987469382913745, 0.42454161362972803, [0.3933309960817072, 0.5012273795080132, 0.6981271126189328, 0.7292104231036138, 0.5943077363494829, 0.48095208512501847, 0.3608362322390923, 0.32711073986631, 0.41770326428908017, 0.6125580432324549  …  0.8523175165942258, 1.0678462841697498, 1.0444147821108225, 0.9412425562517439, 0.6264012391994364, 0.4025391338549009, 0.380990143239759, 0.5014290277266209, 0.723140637152953, 0.7917833031586806], 0.5237120488672005, 0.5861425947551163, 0.2384763286259945, [0.3333333333333333, 0.0, 0.0, 0.3333333333333333, 0.3333333333333333, 0.6666666666666666, 0.6666666666666666, 0.3333333333333333, 0.0, 0.6666666666666666  …  1.0, 1.0, 1.0, 1.0, 1.0, 1.0, 1.0, 1.0, 1.0, 1.0], 1.0, 0.9373333333333332, 0.1879169164680459), Metrics(400, [0.7177051491496713, 1.288517338501066, 1.5241648395504463, 1.455473117848483, 1.2841695851702946, 0.868970965972356, 0.7235322441749638, 0.8781590850978125, 1.2982171242297096, 1.4257762958921272  …  0.3568309763278595, 0.7342705088954601, 0.4458602758866767, 0.6620765121358343, 0.528134421082283, 0.2115684496043723, 0.1543020286967371, 0.03674455435896497, 0.8136892259661508, 0.6496208205316618], 0.37727142004250014, 0.5118327488333795, 0.4859772119299133, [0.38475970061047743, 0.48609851981958885, 0.6265262303857675, 0.7120242979087514, 0.6010902991663464, 0.48502309361747975, 0.37330067716559484, 0.3417821211311662, 0.4251162265719293, 0.6064695197436504  …  0.8490271683127039, 0.9884254644516461, 1.075374719808497, 0.937210433549789, 0.6408840536025157, 0.4125571338313259, 0.38895955505095053, 0.5326857391598848, 0.7186577345545505, 0.8600442422391734], 0.525423591848688, 0.5893824613531601, 0.24046026661348205, [0.3333333333333333, 0.0, 0.0, 0.3333333333333333, 0.3333333333333333, 0.6666666666666666, 0.6666666666666666, 0.3333333333333333, 0.0, 0.3333333333333333  …  1.0, 1.0, 1.0, 1.0, 1.0, 1.0, 1.0, 1.0, 1.0, 1.0], 1.0, 0.9256666666666667, 0.20587529420215975), Metrics(400, [0.8100495914722429, 1.4563959463513847, 1.6366772731999522, 1.4473880187178467, 1.3302592739714059, 0.8759005318735597, 0.7738579501726288, 0.9400245360461759, 1.299275216872227, 1.1929844060929313  …  0.3021262993758573, 0.7171347354371582, 0.5236274081576899, 0.6976034621857629, 0.5554771690601721, 0.2114200257764611, 0.13297158485822652, 0.09358977871446883, 1.0287528485382902, 0.7711200523041024], 0.3564340005839281, 0.48443757907114354, 0.4233560802214217, [0.42291061209093045, 0.5223747754436046, 0.7281046459156544, 0.810779033542569, 0.7113804527841, 0.5458809407489194, 0.4398299811524292, 0.4192004132613526, 0.5072325726316209, 0.6743508551077438  …  0.7891566953299204, 1.0914855578084808, 1.1638250867362636, 0.9975409652798086, 0.6702553534801247, 0.440639744463221, 0.4309412971033541, 0.5897022362412774, 0.7340468821276543, 0.7985403811560955], 0.5304560754603106, 0.5925665233783891, 0.23927975304564586, [0.3333333333333333, 0.0, 0.0, 0.3333333333333333, 0.3333333333333333, 0.6666666666666666, 0.6666666666666666, 0.3333333333333333, 0.0, 0.6666666666666666  …  1.0, 1.0, 1.0, 1.0, 1.0, 1.0, 1.0, 1.0, 1.0, 1.0], 1.0, 0.9386666666666666, 0.1817484972651192), Metrics(400, [0.7661354413966189, 1.401878324969825, 1.553948971782382, 1.3239587087699136, 1.2261967336187016, 0.7806371132018597, 0.6720938286798047, 0.8188770661939673, 1.1960552375228164, 1.2225813781536394  …  0.38530108653011813, 0.8342949610561058, 0.45648815787799985, 0.6354197299023279, 0.5075722181534955, 0.19053822901513107, 0.15448892735668632, 0.057157560969161504, 1.020359897584424, 0.7995293992125714], 0.3598237436035594, 0.48275779062463287, 0.4171243767735341, [0.4311745703835056, 0.5443858490911033, 0.7490628534092534, 0.8005508844256004, 0.6604928864020589, 0.5205159887765765, 0.39214689476899817, 0.3501650231704325, 0.43953526475765936, 0.6015339812526675  …  0.8979204892014223, 1.0754916881640924, 1.0940925154837804, 0.9558690593614736, 0.6489394649596744, 0.43232576953299323, 0.42823465649979614, 0.5771614009030328, 0.7445587032527985, 0.8412548932039464], 0.5221203624323895, 0.586739032647248, 0.23854312888856297, [0.3333333333333333, 0.0, 0.3333333333333333, 0.6666666666666666, 0.3333333333333333, 0.6666666666666666, 0.6666666666666666, 0.3333333333333333, 0.0, 0.6666666666666666  …  1.0, 1.0, 1.0, 1.0, 1.0, 1.0, 1.0, 1.0, 1.0, 1.0], 1.0, 0.9436666666666667, 0.17719427196193205)]\n",
       " Metrics[Metrics(600, [0.817597425665492, 1.5086784345040456, 1.6684731837759907, 1.4620154257802973, 1.5798289387272817, 0.9205789611167483, 0.8309938779438455, 0.9154389163143521, 1.1348533200505526, 0.781330201282691  …  0.30275157686363857, 0.7677347116266529, 0.4695510506336648, 0.682908238782297, 0.527840423689775, 0.2067892272546015, 0.12366731465191251, 0.09540120498253048, 0.9375947548323635, 0.6897165537963758], 0.3676053307849143, 0.490284485433809, 0.4277817741266331, [0.46618023248417867, 0.567561469293875, 0.7636662106335508, 0.8818807825214818, 0.7938613105682205, 0.6176680835172692, 0.48942903473595994, 0.5226944926512497, 0.6323866542952176, 0.744640227879722  …  0.8525623903545871, 0.9956417337178028, 1.0809667871195947, 0.9067383744984776, 0.6303470826205835, 0.40730322603022784, 0.3878563095340806, 0.5283216706406458, 0.7544413546002576, 0.8357226826479806], 0.532092705755009, 0.5964521068833262, 0.23866644618162453, [0.3333333333333333, 0.0, 0.3333333333333333, 1.0, 0.3333333333333333, 0.6666666666666666, 0.6666666666666666, 0.3333333333333333, 0.3333333333333333, 1.0  …  1.0, 1.0, 1.0, 1.0, 1.0, 1.0, 1.0, 1.0, 1.0, 1.0], 1.0, 0.9451666666666667, 0.17498493229398815), Metrics(600, [0.7845230207415218, 1.423669310329324, 1.5987681866793462, 1.4774452267415168, 1.3897818425915323, 0.8683709168979578, 0.7454989825930386, 0.8700533578669815, 1.207420128997271, 1.095535147703013  …  0.2822754229932054, 0.7482531273252646, 0.451862279829262, 0.614773869344959, 0.5532377340174389, 0.20274176790921722, 0.1310397652142749, 0.055324095330243114, 0.9056483493886704, 0.7169948240841576], 0.36488382998683067, 0.4943379645213616, 0.4310024818241252, [0.42960910067002517, 0.5297804260510178, 0.7003005806236168, 0.7933479154387303, 0.6995275103285147, 0.563863496171463, 0.4484694223013538, 0.4300265337083719, 0.5162435745592582, 0.6846020326199203  …  0.8183420102886826, 0.9990975504501929, 1.1051735606547828, 0.9920161989686636, 0.6829299098247374, 0.43476731610602376, 0.40244381017193076, 0.5385334818960332, 0.7592710982872571, 0.8688189340096011], 0.5318102978594521, 0.5945062925582881, 0.23993281383195075, [0.3333333333333333, 0.0, 0.3333333333333333, 0.6666666666666666, 0.3333333333333333, 0.6666666666666666, 0.6666666666666666, 0.3333333333333333, 0.0, 0.6666666666666666  …  1.0, 1.0, 1.0, 1.0, 1.0, 1.0, 1.0, 1.0, 1.0, 1.0], 1.0, 0.939, 0.18459093879473162), Metrics(600, [0.7507138440258719, 1.401831281539419, 1.5723084760307529, 1.4206141952946705, 1.4516309906385687, 0.8882027123232344, 0.7757471805164049, 0.8999366211554664, 1.22352231517212, 1.0354101431566247  …  0.290287785242014, 0.710882253587073, 0.4989593421126902, 0.6397284620999786, 0.508128995333723, 0.19678829805634976, 0.1068892945999329, 0.13410526097907705, 0.9926584333956138, 0.7813957994534731], 0.36281258420857954, 0.4893336401255007, 0.4229630838258034, [0.43565247113458344, 0.5386935138711203, 0.7285705047920145, 0.8392137415314974, 0.7317328716812402, 0.5836816865265799, 0.47017855539031167, 0.4827548979750128, 0.5659100802298614, 0.7352344235370802  …  0.8301032309115711, 1.064337066405889, 1.0799655974550741, 0.939850069060627, 0.6542148024280805, 0.4198786019655933, 0.3962853426984592, 0.5349559476145506, 0.748679024208545, 0.8501409026959934], 0.5381735741712577, 0.5998455557791718, 0.239815860313472, [0.3333333333333333, 0.0, 0.3333333333333333, 0.6666666666666666, 0.3333333333333333, 0.6666666666666666, 0.6666666666666666, 0.3333333333333333, 0.0, 1.0  …  1.0, 1.0, 1.0, 1.0, 1.0, 1.0, 1.0, 1.0, 1.0, 1.0], 1.0, 0.9453333333333332, 0.1770891560019292), Metrics(600, [0.6981745895818579, 1.3088138458183871, 1.52596635982241, 1.408268772250036, 1.285840284249247, 0.8205931264627533, 0.6845951561833307, 0.8091715919400781, 1.1895412977340227, 1.2320981628140488  …  0.3110388152783117, 0.7885105381733576, 0.563951807575362, 0.7175819915669995, 0.5898126194341509, 0.21976313001145334, 0.12713078312287873, 0.09580667421206329, 0.9428271794826251, 0.71712874389197], 0.37185461191392816, 0.49601118557597607, 0.42758485719149325, [0.4078569721053296, 0.5043364664964951, 0.6679143719270086, 0.7542547691643173, 0.6531108530682691, 0.5122723824432319, 0.39121290809228904, 0.3498017454240157, 0.43902406124437926, 0.6287127255575229  …  0.8642249012429952, 1.0851906314364932, 1.1110500973921493, 0.9723499102298055, 0.6631761036824425, 0.4225331962148931, 0.40568708410558424, 0.543248889741039, 0.7391342997158943, 0.827180666031687], 0.5325146820734359, 0.5952289272846285, 0.23896895508898375, [0.3333333333333333, 0.0, 0.0, 0.3333333333333333, 0.3333333333333333, 0.6666666666666666, 0.6666666666666666, 0.3333333333333333, 0.0, 0.6666666666666666  …  1.0, 1.0, 1.0, 1.0, 1.0, 1.0, 1.0, 1.0, 1.0, 1.0], 1.0, 0.9421666666666667, 0.18182608395620206), Metrics(600, [0.7565926792388593, 1.3625741042560326, 1.613882887971892, 1.5234757903409923, 1.4862577776739025, 0.9607623387356492, 0.8187864501464936, 0.9524966969503236, 1.3028907945850934, 1.1461062969098132  …  0.32312889785852733, 0.7785096676438322, 0.3931687883595534, 0.6072623423356637, 0.5110737982190471, 0.18017122948647696, 0.09679749894666373, 0.13161499414680106, 0.9310421463843966, 0.6883684314123701], 0.36171863850829433, 0.48959106211641795, 0.43006483547658547, [0.4102306715133485, 0.4944490127166726, 0.6529696795466895, 0.762387403543044, 0.6930199201594323, 0.557106398922155, 0.459954014078242, 0.4523046916678025, 0.5426463616315117, 0.6966337523513829  …  0.8464295515578905, 1.0055733691115518, 1.063809270134602, 0.9512435148692766, 0.6647502384511323, 0.4260041045306211, 0.39469127043884533, 0.5259354146397989, 0.7403341457082033, 0.8422034503944972], 0.529977954150929, 0.5943767789929291, 0.24000413401330112, [0.3333333333333333, 0.0, 0.0, 0.3333333333333333, 0.3333333333333333, 0.6666666666666666, 0.6666666666666666, 0.3333333333333333, 0.0, 1.0  …  1.0, 1.0, 1.0, 1.0, 1.0, 1.0, 1.0, 1.0, 1.0, 1.0], 1.0, 0.9419999999999998, 0.18131370481019404), Metrics(600, [0.681513973763824, 1.2792572593122555, 1.45529594975109, 1.3611944520128114, 1.3001245130752799, 0.8555207346389816, 0.7233957085016368, 0.8530153135054306, 1.2087965010660229, 1.1633495441581252  …  0.30875112547091127, 0.7700136459914732, 0.45629075016600573, 0.6527857342862501, 0.5147150929517789, 0.1848436428049884, 0.12010251287351446, 0.12027821149100797, 1.0746227226528733, 0.7947397954314632], 0.3609389450434367, 0.4869956489621209, 0.4188501921974565, [0.4114763865735604, 0.5098336675048836, 0.6729436538260684, 0.7489989049153121, 0.6395325840671362, 0.5212038925683968, 0.4117937370007802, 0.3877001494273322, 0.4881316916363224, 0.6480035384760942  …  0.9068414314978345, 1.0649711944875717, 1.0828967362193598, 0.9764228245947675, 0.6818948668317816, 0.45142841091728764, 0.4406323257439145, 0.582349022733037, 0.7483363850240209, 0.9177200911463782], 0.538276941531658, 0.5975783507953089, 0.23785945310555326, [0.3333333333333333, 0.0, 0.0, 0.3333333333333333, 0.3333333333333333, 0.6666666666666666, 0.6666666666666666, 0.3333333333333333, 0.0, 1.0  …  1.0, 1.0, 1.0, 1.0, 1.0, 1.0, 1.0, 1.0, 1.0, 1.0], 1.0, 0.9446666666666667, 0.1781344041249935), Metrics(600, [0.7549708215907766, 1.3989398362237986, 1.527172464774058, 1.3912859010536898, 1.4280588856718155, 0.8625540777057399, 0.764618167851644, 0.9038169928161335, 1.2247264284657176, 1.058564789787424  …  0.24903352171324591, 0.6932809099453436, 0.46068521242911686, 0.7152439487430404, 0.5513117757161674, 0.21839403240062283, 0.12824287058594405, 0.09763481778495732, 0.9775302829966808, 0.7633918017040959], 0.3783604002947655, 0.5009373097463152, 0.44070155812557477, [0.4460127416596737, 0.565733030543493, 0.7259169032531877, 0.840401923982104, 0.7398094808458904, 0.5846154572947454, 0.4731017115079882, 0.47494648207647333, 0.5611162908877338, 0.7458362888980069  …  0.8740041730369978, 0.9970798788642012, 1.1064625126373584, 0.9417403670166379, 0.6373256878684262, 0.4171242527334933, 0.40069913196115525, 0.5460424731218074, 0.7417900889914837, 0.8503797993705814], 0.5345224365986686, 0.5981161558279364, 0.23848627447192064, [0.3333333333333333, 0.0, 0.3333333333333333, 0.6666666666666666, 0.3333333333333333, 0.6666666666666666, 0.6666666666666666, 0.3333333333333333, 0.0, 1.0  …  1.0, 1.0, 1.0, 1.0, 1.0, 1.0, 1.0, 1.0, 1.0, 1.0], 1.0, 0.9366666666666668, 0.18798907459824998), Metrics(600, [0.7510253799018649, 1.3571257686647682, 1.5402431018489144, 1.4018820880446154, 1.2746810263492503, 0.8176207409371059, 0.6628894832167042, 0.7696839358993507, 1.1206885897530738, 1.10342036971742  …  0.22709891021928835, 0.678125487060875, 0.4714104925947143, 0.6490405394198773, 0.5258327906570155, 0.19987714258669184, 0.10671943645010365, 0.1449638210725994, 1.0206586181237634, 0.7609990847805918], 0.37071625017634613, 0.4895162329090161, 0.42436873030451505, [0.4100997567090732, 0.5184630388640686, 0.6871166978128428, 0.7637090759314858, 0.6242749246656983, 0.5063278178376236, 0.3782026568611266, 0.3354870458181502, 0.43289022855623127, 0.6282066602473395  …  0.828252493553827, 0.9833883764716883, 1.0712802198568276, 0.9459290619887895, 0.6547681832093057, 0.41826637953209145, 0.3975431690155731, 0.5405720637949613, 0.7495140240310579, 0.8266995106120696], 0.5301763047568651, 0.5944825424396918, 0.23870410394097127, [0.3333333333333333, 0.0, 0.0, 1.0, 0.3333333333333333, 0.6666666666666666, 0.6666666666666666, 0.3333333333333333, 0.0, 0.6666666666666666  …  1.0, 1.0, 1.0, 1.0, 1.0, 1.0, 1.0, 1.0, 1.0, 1.0], 1.0, 0.9445, 0.17823851384378728), Metrics(600, [0.8055402233459585, 1.4553689571175459, 1.6200785806574236, 1.4616561079897665, 1.298070144173186, 0.847598301470447, 0.6871961417268727, 0.8112609047993404, 1.1874861254308409, 1.272112896784379  …  0.3472796831885485, 0.8187729802390796, 0.35506203089168115, 0.5834238681520341, 0.5212393543217758, 0.21321324964670743, 0.18058052253505494, 0.03343805810939362, 0.8727636519688484, 0.6767917858795113], 0.37110898361603817, 0.49318706556695247, 0.4295011565723773, [0.4233349771760978, 0.529219710242096, 0.7020682070625714, 0.758185723384493, 0.6009031527096148, 0.49685914393110386, 0.3675991093315984, 0.32787731796114766, 0.4127127229994725, 0.603364070953573  …  0.8283492859078078, 1.020436732146846, 1.039492148649771, 0.9704025319124792, 0.6436742151915542, 0.41787056232318887, 0.4067553132222527, 0.5450178244929955, 0.7162481710748791, 0.8526451228732789], 0.5349372414587333, 0.596015747762395, 0.2390510943148372, [0.3333333333333333, 0.0, 0.0, 0.6666666666666666, 0.3333333333333333, 0.6666666666666666, 0.6666666666666666, 0.3333333333333333, 0.0, 0.6666666666666666  …  1.0, 1.0, 1.0, 1.0, 1.0, 1.0, 1.0, 1.0, 1.0, 1.0], 1.0, 0.9406666666666667, 0.18057400187109593), Metrics(600, [0.7848213582059916, 1.4148281184540252, 1.5606427474839466, 1.3755313101673996, 1.2470515133513416, 0.8033195173118819, 0.6732319808520449, 0.8132981867429175, 1.2021906136581044, 1.2691521536140895  …  0.3032497648688563, 0.7182819296168316, 0.5026663437523405, 0.6952223743124265, 0.5405747767847419, 0.20794081813789594, 0.11442469473830116, 0.11368717906608757, 0.9122484603484563, 0.7240980196893041], 0.3704536043200804, 0.4965019603284455, 0.43124164166297113, [0.4194467718323275, 0.539114742425449, 0.6972145653721319, 0.7578664099314781, 0.6367422397177676, 0.5118108007706034, 0.3817104108781628, 0.33893227779224494, 0.4218529976056452, 0.5938256235939448  …  0.8288008622539116, 1.0096458567062476, 1.0502765354939396, 0.9033423199887572, 0.6308691967392098, 0.41202584102170986, 0.3891825122721579, 0.5134044975985597, 0.7321026224359395, 0.8101015793143526], 0.5321399204221613, 0.5946090620829213, 0.23819937422617835, [0.3333333333333333, 0.0, 0.0, 0.6666666666666666, 0.3333333333333333, 0.6666666666666666, 0.6666666666666666, 0.3333333333333333, 0.0, 0.6666666666666666  …  1.0, 1.0, 1.0, 1.0, 1.0, 1.0, 1.0, 1.0, 1.0, 1.0], 1.0, 0.9416666666666668, 0.18028411547404075), Metrics(600, [0.7465294614644171, 1.3407294588907595, 1.5196329785796518, 1.3991872951897149, 1.31186161280873, 0.8780263653565953, 0.7442556575947092, 0.8887554074165109, 1.2852618605809634, 1.3534370155968407  …  0.25450593502573576, 0.7002013009014603, 0.453261422823534, 0.6411435989445908, 0.5333364445463339, 0.2090625121023436, 0.13115130733314723, 0.0759300782840875, 0.9704995011010575, 0.7499630141613215], 0.3698805661744502, 0.49307306726541833, 0.432049178784183, [0.4162545277652267, 0.513702441231515, 0.6815686362765849, 0.769567175696118, 0.6573096051979248, 0.5304185622647826, 0.42300203127511704, 0.3967666565317341, 0.47234651890036766, 0.6446009027177744  …  0.794107692078181, 0.9808482461733166, 1.045699428899301, 0.9440067594965181, 0.6546323891933264, 0.42549504927633336, 0.4069171184637811, 0.5475709186394382, 0.728128515402552, 0.868270590736962], 0.529823326028477, 0.5917115675015816, 0.23894267601685082, [0.3333333333333333, 0.0, 0.3333333333333333, 0.3333333333333333, 0.3333333333333333, 0.6666666666666666, 0.6666666666666666, 0.3333333333333333, 0.0, 0.3333333333333333  …  1.0, 1.0, 1.0, 1.0, 1.0, 1.0, 1.0, 1.0, 1.0, 1.0], 1.0, 0.938, 0.1845587165343682)]"
      ]
     },
     "execution_count": 32,
     "metadata": {},
     "output_type": "execute_result"
    }
   ],
   "source": [
    "metric_enkf = benchmark_lorenz96(model, data, path, Ne_array, β_array);"
   ]
  },
  {
   "cell_type": "code",
   "execution_count": 33,
   "metadata": {},
   "outputs": [],
   "source": [
    "# save(path*\"metric_enkf.jld\", \"metric\", metric_enkf)"
   ]
  },
  {
   "cell_type": "markdown",
   "metadata": {},
   "source": [
    "Benchmark for the Lorenz-96 problem with the sequential stochastic radial map filter"
   ]
  },
  {
   "cell_type": "markdown",
   "metadata": {},
   "source": [
    "p = 0"
   ]
  },
  {
   "cell_type": "code",
   "execution_count": 34,
   "metadata": {},
   "outputs": [
    {
     "data": {
      "text/plain": [
       "0"
      ]
     },
     "execution_count": 34,
     "metadata": {},
     "output_type": "execute_result"
    }
   ],
   "source": [
    "p = 0"
   ]
  },
  {
   "cell_type": "code",
   "execution_count": 35,
   "metadata": {
    "scrolled": true
   },
   "outputs": [
    {
     "name": "stdout",
     "output_type": "stream",
     "text": [
      "(Ne, β) = (10, 0.95)\n"
     ]
    },
    {
     "name": "stderr",
     "output_type": "stream",
     "text": [
      "\u001b[32mProgress: 100%|█████████████████████████████████████████| Time: 0:00:01\u001b[39m\n"
     ]
    },
    {
     "name": "stdout",
     "output_type": "stream",
     "text": [
      "  1.772121 seconds (27.52 M allocations: 1.955 GiB, 11.79% gc time)\n",
      "Ne = 10\n",
      "Ne 10& β 0.95 RMSE: 1.377551150274605\n",
      "(Ne, β) = (10, 0.96)\n"
     ]
    },
    {
     "name": "stderr",
     "output_type": "stream",
     "text": [
      "\u001b[32mProgress: 100%|█████████████████████████████████████████| Time: 0:00:01\u001b[39m\n"
     ]
    },
    {
     "name": "stdout",
     "output_type": "stream",
     "text": [
      "  1.749795 seconds (27.52 M allocations: 1.955 GiB, 11.57% gc time)\n",
      "Ne = 10\n",
      "Ne 10& β 0.96 RMSE: 1.3657938379515508\n",
      "(Ne, β) = (10, 0.97)\n"
     ]
    },
    {
     "name": "stderr",
     "output_type": "stream",
     "text": [
      "\u001b[32mProgress: 100%|█████████████████████████████████████████| Time: 0:00:01\u001b[39m\n"
     ]
    },
    {
     "name": "stdout",
     "output_type": "stream",
     "text": [
      "  1.740721 seconds (27.52 M allocations: 1.955 GiB, 11.60% gc time)\n",
      "Ne = 10\n",
      "Ne 10& β 0.97 RMSE: 1.1940996914452418\n",
      "(Ne, β) = (10, 0.98)\n"
     ]
    },
    {
     "name": "stderr",
     "output_type": "stream",
     "text": [
      "\u001b[32mProgress: 100%|█████████████████████████████████████████| Time: 0:00:01\u001b[39m\n"
     ]
    },
    {
     "name": "stdout",
     "output_type": "stream",
     "text": [
      "  1.741149 seconds (27.52 M allocations: 1.955 GiB, 11.54% gc time)\n",
      "Ne = 10\n",
      "Ne 10& β 0.98 RMSE: 1.6466624095275504\n",
      "(Ne, β) = (10, 0.99)\n"
     ]
    },
    {
     "name": "stderr",
     "output_type": "stream",
     "text": [
      "\u001b[32mProgress: 100%|█████████████████████████████████████████| Time: 0:00:01\u001b[39m\n"
     ]
    },
    {
     "name": "stdout",
     "output_type": "stream",
     "text": [
      "  1.734540 seconds (27.52 M allocations: 1.955 GiB, 11.59% gc time)\n",
      "Ne = 10\n",
      "Ne 10& β 0.99 RMSE: 1.171801486667878\n",
      "(Ne, β) = (10, 1.0)\n"
     ]
    },
    {
     "name": "stderr",
     "output_type": "stream",
     "text": [
      "\u001b[32mProgress: 100%|█████████████████████████████████████████| Time: 0:00:01\u001b[39m\n"
     ]
    },
    {
     "name": "stdout",
     "output_type": "stream",
     "text": [
      "  1.735744 seconds (27.52 M allocations: 1.955 GiB, 11.68% gc time)\n",
      "Ne = 10\n",
      "Ne 10& β 1.0 RMSE: 1.1422996688470604\n",
      "(Ne, β) = (10, 1.01)\n"
     ]
    },
    {
     "name": "stderr",
     "output_type": "stream",
     "text": [
      "\u001b[32mProgress: 100%|█████████████████████████████████████████| Time: 0:00:01\u001b[39m\n"
     ]
    },
    {
     "name": "stdout",
     "output_type": "stream",
     "text": [
      "  1.732011 seconds (27.52 M allocations: 1.955 GiB, 11.82% gc time)\n",
      "Ne = 10\n",
      "Ne 10& β 1.01 RMSE: 0.9848851172492666\n",
      "(Ne, β) = (10, 1.02)\n"
     ]
    },
    {
     "name": "stderr",
     "output_type": "stream",
     "text": [
      "\u001b[32mProgress: 100%|█████████████████████████████████████████| Time: 0:00:01\u001b[39m\n"
     ]
    },
    {
     "name": "stdout",
     "output_type": "stream",
     "text": [
      "  1.722062 seconds (27.52 M allocations: 1.955 GiB, 11.85% gc time)\n",
      "Ne = 10\n",
      "Ne 10& β 1.02 RMSE: 0.8325284025363551\n",
      "(Ne, β) = (10, 1.03)\n"
     ]
    },
    {
     "name": "stderr",
     "output_type": "stream",
     "text": [
      "\u001b[32mProgress: 100%|█████████████████████████████████████████| Time: 0:00:01\u001b[39m\n"
     ]
    },
    {
     "name": "stdout",
     "output_type": "stream",
     "text": [
      "  1.730258 seconds (27.52 M allocations: 1.955 GiB, 11.94% gc time)\n",
      "Ne = 10\n",
      "Ne 10& β 1.03 RMSE: 1.1522359270246398\n",
      "(Ne, β) = (10, 1.04)\n"
     ]
    },
    {
     "name": "stderr",
     "output_type": "stream",
     "text": [
      "\u001b[32mProgress: 100%|█████████████████████████████████████████| Time: 0:00:01\u001b[39m\n"
     ]
    },
    {
     "name": "stdout",
     "output_type": "stream",
     "text": [
      "  1.720667 seconds (27.52 M allocations: 1.955 GiB, 11.27% gc time)\n",
      "Ne = 10\n",
      "Ne 10& β 1.04 RMSE: 1.237223530024935\n",
      "(Ne, β) = (10, 1.05)\n"
     ]
    },
    {
     "name": "stderr",
     "output_type": "stream",
     "text": [
      "\u001b[32mProgress: 100%|█████████████████████████████████████████| Time: 0:00:01\u001b[39m\n"
     ]
    },
    {
     "name": "stdout",
     "output_type": "stream",
     "text": [
      "  1.719474 seconds (27.52 M allocations: 1.955 GiB, 11.40% gc time)\n",
      "Ne = 10\n",
      "Ne 10& β 1.05 RMSE: 0.9308136692934141\n",
      "(Ne, β) = (20, 0.95)\n"
     ]
    },
    {
     "name": "stderr",
     "output_type": "stream",
     "text": [
      "\u001b[32mProgress: 100%|█████████████████████████████████████████| Time: 0:00:02\u001b[39m\n"
     ]
    },
    {
     "name": "stdout",
     "output_type": "stream",
     "text": [
      "  2.866873 seconds (50.08 M allocations: 3.541 GiB, 12.20% gc time)\n",
      "Ne = 20\n",
      "Ne 20& β 0.95 RMSE: 0.6104367763458701\n",
      "(Ne, β) = (20, 0.96)\n"
     ]
    },
    {
     "name": "stderr",
     "output_type": "stream",
     "text": [
      "\u001b[32mProgress: 100%|█████████████████████████████████████████| Time: 0:00:02\u001b[39m\n"
     ]
    },
    {
     "name": "stdout",
     "output_type": "stream",
     "text": [
      "  2.839899 seconds (50.08 M allocations: 3.541 GiB, 12.14% gc time)\n",
      "Ne = 20\n",
      "Ne 20& β 0.96 RMSE: 0.7574962816077152\n",
      "(Ne, β) = (20, 0.97)\n"
     ]
    },
    {
     "name": "stderr",
     "output_type": "stream",
     "text": [
      "\u001b[32mProgress: 100%|█████████████████████████████████████████| Time: 0:00:02\u001b[39m\n"
     ]
    },
    {
     "name": "stdout",
     "output_type": "stream",
     "text": [
      "  2.820871 seconds (50.08 M allocations: 3.541 GiB, 11.93% gc time)\n",
      "Ne = 20\n",
      "Ne 20& β 0.97 RMSE: 0.6238413799629298\n",
      "(Ne, β) = (20, 0.98)\n"
     ]
    },
    {
     "name": "stderr",
     "output_type": "stream",
     "text": [
      "\u001b[32mProgress: 100%|█████████████████████████████████████████| Time: 0:00:02\u001b[39m\n"
     ]
    },
    {
     "name": "stdout",
     "output_type": "stream",
     "text": [
      "  2.829756 seconds (50.08 M allocations: 3.541 GiB, 11.99% gc time)\n",
      "Ne = 20\n",
      "Ne 20& β 0.98 RMSE: 0.6635836179197011\n",
      "(Ne, β) = (20, 0.99)\n"
     ]
    },
    {
     "name": "stderr",
     "output_type": "stream",
     "text": [
      "\u001b[32mProgress: 100%|█████████████████████████████████████████| Time: 0:00:02\u001b[39m\n"
     ]
    },
    {
     "name": "stdout",
     "output_type": "stream",
     "text": [
      "  2.833172 seconds (50.08 M allocations: 3.541 GiB, 12.09% gc time)\n",
      "Ne = 20\n",
      "Ne 20& β 0.99 RMSE: 0.6427218861231231\n",
      "(Ne, β) = (20, 1.0)\n"
     ]
    },
    {
     "name": "stderr",
     "output_type": "stream",
     "text": [
      "\u001b[32mProgress: 100%|█████████████████████████████████████████| Time: 0:00:02\u001b[39m\n"
     ]
    },
    {
     "name": "stdout",
     "output_type": "stream",
     "text": [
      "  2.832481 seconds (50.08 M allocations: 3.541 GiB, 12.16% gc time)\n",
      "Ne = 20\n",
      "Ne 20& β 1.0 RMSE: 0.6738165009906413\n",
      "(Ne, β) = (20, 1.01)\n"
     ]
    },
    {
     "name": "stderr",
     "output_type": "stream",
     "text": [
      "\u001b[32mProgress: 100%|█████████████████████████████████████████| Time: 0:00:02\u001b[39m\n"
     ]
    },
    {
     "name": "stdout",
     "output_type": "stream",
     "text": [
      "  2.842923 seconds (50.08 M allocations: 3.541 GiB, 12.24% gc time)\n",
      "Ne = 20\n",
      "Ne 20& β 1.01 RMSE: 0.6184831994812579\n",
      "(Ne, β) = (20, 1.02)\n"
     ]
    },
    {
     "name": "stderr",
     "output_type": "stream",
     "text": [
      "\u001b[32mProgress: 100%|█████████████████████████████████████████| Time: 0:00:02\u001b[39m\n"
     ]
    },
    {
     "name": "stdout",
     "output_type": "stream",
     "text": [
      "  2.842636 seconds (50.08 M allocations: 3.541 GiB, 11.92% gc time)\n",
      "Ne = 20\n",
      "Ne 20& β 1.02 RMSE: 0.6459297993900516\n",
      "(Ne, β) = (20, 1.03)\n"
     ]
    },
    {
     "name": "stderr",
     "output_type": "stream",
     "text": [
      "\u001b[32mProgress: 100%|█████████████████████████████████████████| Time: 0:00:02\u001b[39m\n"
     ]
    },
    {
     "name": "stdout",
     "output_type": "stream",
     "text": [
      "  2.833045 seconds (50.08 M allocations: 3.541 GiB, 11.99% gc time)\n",
      "Ne = 20\n",
      "Ne 20& β 1.03 RMSE: 0.7844267321506596\n",
      "(Ne, β) = (20, 1.04)\n"
     ]
    },
    {
     "name": "stderr",
     "output_type": "stream",
     "text": [
      "\u001b[32mProgress: 100%|█████████████████████████████████████████| Time: 0:00:02\u001b[39m\n"
     ]
    },
    {
     "name": "stdout",
     "output_type": "stream",
     "text": [
      "  2.845654 seconds (50.08 M allocations: 3.541 GiB, 12.07% gc time)\n",
      "Ne = 20\n",
      "Ne 20& β 1.04 RMSE: 0.6475408850661242\n",
      "(Ne, β) = (20, 1.05)\n"
     ]
    },
    {
     "name": "stderr",
     "output_type": "stream",
     "text": [
      "\u001b[32mProgress: 100%|█████████████████████████████████████████| Time: 0:00:02\u001b[39m\n"
     ]
    },
    {
     "name": "stdout",
     "output_type": "stream",
     "text": [
      "  2.831765 seconds (50.08 M allocations: 3.541 GiB, 11.80% gc time)\n",
      "Ne = 20\n"
     ]
    },
    {
     "name": "stderr",
     "output_type": "stream",
     "text": [
      "\r",
      "\u001b[32mProgress:  25%|██████████▎                              |  ETA: 0:02:32\u001b[39m"
     ]
    },
    {
     "name": "stdout",
     "output_type": "stream",
     "text": [
      "Ne 20& β 1.05 RMSE: 0.5941662456014892\n",
      "(Ne, β) = (40, 0.95)\n"
     ]
    },
    {
     "name": "stderr",
     "output_type": "stream",
     "text": [
      "\u001b[32mProgress: 100%|█████████████████████████████████████████| Time: 0:00:05\u001b[39m\n"
     ]
    },
    {
     "name": "stdout",
     "output_type": "stream",
     "text": [
      "  5.150537 seconds (95.20 M allocations: 6.721 GiB, 12.27% gc time)\n",
      "Ne = 40\n",
      "Ne 40& β 0.95 RMSE: 0.6572864810564025\n",
      "(Ne, β) = (40, 0.96)\n"
     ]
    },
    {
     "name": "stderr",
     "output_type": "stream",
     "text": [
      "\u001b[32mProgress: 100%|█████████████████████████████████████████| Time: 0:00:05\u001b[39m\n"
     ]
    },
    {
     "name": "stdout",
     "output_type": "stream",
     "text": [
      "  5.338787 seconds (95.20 M allocations: 6.721 GiB, 12.31% gc time)\n",
      "Ne = 40\n",
      "Ne 40& β 0.96 RMSE: 0.5801853219733318\n",
      "(Ne, β) = (40, 0.97)\n"
     ]
    },
    {
     "name": "stderr",
     "output_type": "stream",
     "text": [
      "\u001b[32mProgress: 100%|█████████████████████████████████████████| Time: 0:00:05\u001b[39m\n"
     ]
    },
    {
     "name": "stdout",
     "output_type": "stream",
     "text": [
      "  5.309924 seconds (95.20 M allocations: 6.721 GiB, 12.11% gc time)\n",
      "Ne = 40\n",
      "Ne 40& β 0.97 RMSE: 0.5561894128430935\n",
      "(Ne, β) = (40, 0.98)\n"
     ]
    },
    {
     "name": "stderr",
     "output_type": "stream",
     "text": [
      "\u001b[32mProgress: 100%|█████████████████████████████████████████| Time: 0:00:05\u001b[39m\n"
     ]
    },
    {
     "name": "stdout",
     "output_type": "stream",
     "text": [
      "  5.215558 seconds (95.20 M allocations: 6.721 GiB, 12.39% gc time)\n",
      "Ne = 40\n",
      "Ne 40& β 0.98 RMSE: 0.5509585416026878\n",
      "(Ne, β) = (40, 0.99)\n"
     ]
    },
    {
     "name": "stderr",
     "output_type": "stream",
     "text": [
      "\u001b[32mProgress: 100%|█████████████████████████████████████████| Time: 0:00:05\u001b[39m\n"
     ]
    },
    {
     "name": "stdout",
     "output_type": "stream",
     "text": [
      "  5.188659 seconds (95.20 M allocations: 6.721 GiB, 12.38% gc time)\n",
      "Ne = 40\n",
      "Ne 40& β 0.99 RMSE: 0.5552285050241599\n",
      "(Ne, β) = (40, 1.0)\n"
     ]
    },
    {
     "name": "stderr",
     "output_type": "stream",
     "text": [
      "\u001b[32mProgress: 100%|█████████████████████████████████████████| Time: 0:00:05\u001b[39m\n"
     ]
    },
    {
     "name": "stdout",
     "output_type": "stream",
     "text": [
      "  5.194919 seconds (95.20 M allocations: 6.721 GiB, 12.57% gc time)\n",
      "Ne = 40\n",
      "Ne 40& β 1.0 RMSE: 0.5670651892852482\n",
      "(Ne, β) = (40, 1.01)\n"
     ]
    },
    {
     "name": "stderr",
     "output_type": "stream",
     "text": [
      "\u001b[32mProgress: 100%|█████████████████████████████████████████| Time: 0:00:05\u001b[39m\n"
     ]
    },
    {
     "name": "stdout",
     "output_type": "stream",
     "text": [
      "  5.202488 seconds (95.20 M allocations: 6.721 GiB, 12.53% gc time)\n",
      "Ne = 40\n",
      "Ne 40& β 1.01 RMSE: 0.539697352950855\n",
      "(Ne, β) = (40, 1.02)\n"
     ]
    },
    {
     "name": "stderr",
     "output_type": "stream",
     "text": [
      "\u001b[32mProgress: 100%|█████████████████████████████████████████| Time: 0:00:05\u001b[39m\n"
     ]
    },
    {
     "name": "stdout",
     "output_type": "stream",
     "text": [
      "  5.201852 seconds (95.20 M allocations: 6.721 GiB, 12.42% gc time)\n",
      "Ne = 40\n",
      "Ne 40& β 1.02 RMSE: 0.5726896489682439\n",
      "(Ne, β) = (40, 1.03)\n"
     ]
    },
    {
     "name": "stderr",
     "output_type": "stream",
     "text": [
      "\u001b[32mProgress: 100%|█████████████████████████████████████████| Time: 0:00:05\u001b[39m\n"
     ]
    },
    {
     "name": "stdout",
     "output_type": "stream",
     "text": [
      "  5.229918 seconds (95.20 M allocations: 6.721 GiB, 12.53% gc time)\n",
      "Ne = 40\n",
      "Ne 40& β 1.03 RMSE: 0.8033892030988821\n",
      "(Ne, β) = (40, 1.04)\n"
     ]
    },
    {
     "name": "stderr",
     "output_type": "stream",
     "text": [
      "\u001b[32mProgress: 100%|█████████████████████████████████████████| Time: 0:00:05\u001b[39m\n"
     ]
    },
    {
     "name": "stdout",
     "output_type": "stream",
     "text": [
      "  5.226582 seconds (95.20 M allocations: 6.721 GiB, 12.48% gc time)\n",
      "Ne = 40\n",
      "Ne 40& β 1.04 RMSE: 0.542683360742508\n",
      "(Ne, β) = (40, 1.05)\n"
     ]
    },
    {
     "name": "stderr",
     "output_type": "stream",
     "text": [
      "\u001b[32mProgress: 100%|█████████████████████████████████████████| Time: 0:00:05\u001b[39m\n"
     ]
    },
    {
     "name": "stdout",
     "output_type": "stream",
     "text": [
      "  5.226298 seconds (95.20 M allocations: 6.721 GiB, 12.36% gc time)\n",
      "Ne = 40\n"
     ]
    },
    {
     "name": "stderr",
     "output_type": "stream",
     "text": [
      "\r",
      "\u001b[32mProgress:  38%|███████████████▍                         |  ETA: 0:03:00\u001b[39m"
     ]
    },
    {
     "name": "stdout",
     "output_type": "stream",
     "text": [
      "Ne 40& β 1.05 RMSE: 0.578900487053327\n",
      "(Ne, β) = (60, 0.95)\n"
     ]
    },
    {
     "name": "stderr",
     "output_type": "stream",
     "text": [
      "\u001b[32mProgress: 100%|█████████████████████████████████████████| Time: 0:00:07\u001b[39m\n"
     ]
    },
    {
     "name": "stdout",
     "output_type": "stream",
     "text": [
      "  7.683158 seconds (140.33 M allocations: 9.898 GiB, 12.78% gc time)\n",
      "Ne = 60\n",
      "Ne 60& β 0.95 RMSE: 0.5189622943477002\n",
      "(Ne, β) = (60, 0.96)\n"
     ]
    },
    {
     "name": "stderr",
     "output_type": "stream",
     "text": [
      "\u001b[32mProgress: 100%|█████████████████████████████████████████| Time: 0:00:07\u001b[39m\n"
     ]
    },
    {
     "name": "stdout",
     "output_type": "stream",
     "text": [
      "  7.739602 seconds (140.33 M allocations: 9.898 GiB, 12.78% gc time)\n",
      "Ne = 60\n",
      "Ne 60& β 0.96 RMSE: 0.5358427277070478\n",
      "(Ne, β) = (60, 0.97)\n"
     ]
    },
    {
     "name": "stderr",
     "output_type": "stream",
     "text": [
      "\u001b[32mProgress: 100%|█████████████████████████████████████████| Time: 0:00:07\u001b[39m\n"
     ]
    },
    {
     "name": "stdout",
     "output_type": "stream",
     "text": [
      "  7.748517 seconds (140.33 M allocations: 9.898 GiB, 12.83% gc time)\n",
      "Ne = 60\n",
      "Ne 60& β 0.97 RMSE: 0.5286277418790651\n",
      "(Ne, β) = (60, 0.98)\n"
     ]
    },
    {
     "name": "stderr",
     "output_type": "stream",
     "text": [
      "\u001b[32mProgress: 100%|█████████████████████████████████████████| Time: 0:00:07\u001b[39m\n"
     ]
    },
    {
     "name": "stdout",
     "output_type": "stream",
     "text": [
      "  7.757844 seconds (140.33 M allocations: 9.898 GiB, 12.93% gc time)\n",
      "Ne = 60\n",
      "Ne 60& β 0.98 RMSE: 0.5389249282400352\n",
      "(Ne, β) = (60, 0.99)\n"
     ]
    },
    {
     "name": "stderr",
     "output_type": "stream",
     "text": [
      "\u001b[32mProgress: 100%|█████████████████████████████████████████| Time: 0:00:07\u001b[39m\n"
     ]
    },
    {
     "name": "stdout",
     "output_type": "stream",
     "text": [
      "  7.783820 seconds (140.33 M allocations: 9.898 GiB, 13.01% gc time)\n",
      "Ne = 60\n",
      "Ne 60& β 0.99 RMSE: 0.5248981985373076\n",
      "(Ne, β) = (60, 1.0)\n"
     ]
    },
    {
     "name": "stderr",
     "output_type": "stream",
     "text": [
      "\u001b[32mProgress: 100%|█████████████████████████████████████████| Time: 0:00:07\u001b[39m\n"
     ]
    },
    {
     "name": "stdout",
     "output_type": "stream",
     "text": [
      "  7.811923 seconds (140.33 M allocations: 9.898 GiB, 13.02% gc time)\n",
      "Ne = 60\n",
      "Ne 60& β 1.0 RMSE: 0.5407867424867955\n",
      "(Ne, β) = (60, 1.01)\n"
     ]
    },
    {
     "name": "stderr",
     "output_type": "stream",
     "text": [
      "\u001b[32mProgress: 100%|█████████████████████████████████████████| Time: 0:00:07\u001b[39m\n"
     ]
    },
    {
     "name": "stdout",
     "output_type": "stream",
     "text": [
      "  7.844696 seconds (140.33 M allocations: 9.898 GiB, 12.97% gc time)\n",
      "Ne = 60\n",
      "Ne 60& β 1.01 RMSE: 0.5144826984235089\n",
      "(Ne, β) = (60, 1.02)\n"
     ]
    },
    {
     "name": "stderr",
     "output_type": "stream",
     "text": [
      "\u001b[32mProgress: 100%|█████████████████████████████████████████| Time: 0:00:07\u001b[39m\n"
     ]
    },
    {
     "name": "stdout",
     "output_type": "stream",
     "text": [
      "  7.861940 seconds (140.33 M allocations: 9.898 GiB, 12.89% gc time)\n",
      "Ne = 60\n",
      "Ne 60& β 1.02 RMSE: 0.539947871515308\n",
      "(Ne, β) = (60, 1.03)\n"
     ]
    },
    {
     "name": "stderr",
     "output_type": "stream",
     "text": [
      "\u001b[32mProgress: 100%|█████████████████████████████████████████| Time: 0:00:07\u001b[39m\n"
     ]
    },
    {
     "name": "stdout",
     "output_type": "stream",
     "text": [
      "  7.883328 seconds (140.33 M allocations: 9.898 GiB, 13.04% gc time)\n",
      "Ne = 60\n",
      "Ne 60& β 1.03 RMSE: 0.5167492212400782\n",
      "(Ne, β) = (60, 1.04)\n"
     ]
    },
    {
     "name": "stderr",
     "output_type": "stream",
     "text": [
      "\u001b[32mProgress: 100%|█████████████████████████████████████████| Time: 0:00:07\u001b[39m\n"
     ]
    },
    {
     "name": "stdout",
     "output_type": "stream",
     "text": [
      "  7.873887 seconds (140.33 M allocations: 9.898 GiB, 12.85% gc time)\n",
      "Ne = 60\n",
      "Ne 60& β 1.04 RMSE: 0.538778203183027\n",
      "(Ne, β) = (60, 1.05)\n"
     ]
    },
    {
     "name": "stderr",
     "output_type": "stream",
     "text": [
      "\u001b[32mProgress: 100%|█████████████████████████████████████████| Time: 0:00:07\u001b[39m\n",
      "\u001b[32mProgress:  50%|████████████████████▌                    |  ETA: 0:03:14\u001b[39m"
     ]
    },
    {
     "name": "stdout",
     "output_type": "stream",
     "text": [
      "  7.928261 seconds (140.33 M allocations: 9.898 GiB, 13.02% gc time)\n",
      "Ne = 60\n",
      "Ne 60& β 1.05 RMSE: 0.5400379096179423\n",
      "(Ne, β) = (100, 0.95)\n"
     ]
    },
    {
     "name": "stderr",
     "output_type": "stream",
     "text": [
      "\u001b[32mProgress: 100%|█████████████████████████████████████████| Time: 0:00:12\u001b[39m\n"
     ]
    },
    {
     "name": "stdout",
     "output_type": "stream",
     "text": [
      " 12.829696 seconds (230.57 M allocations: 16.241 GiB, 13.00% gc time)\n",
      "Ne = 100\n",
      "Ne 100& β 0.95 RMSE: 0.5352668056184428\n",
      "(Ne, β) = (100, 0.96)\n"
     ]
    },
    {
     "name": "stderr",
     "output_type": "stream",
     "text": [
      "\u001b[32mProgress: 100%|█████████████████████████████████████████| Time: 0:00:11\u001b[39m\n"
     ]
    },
    {
     "name": "stdout",
     "output_type": "stream",
     "text": [
      " 11.656757 seconds (230.57 M allocations: 16.241 GiB, 14.12% gc time)\n",
      "Ne = 100\n",
      "Ne 100& β 0.96 RMSE: 0.5272042998755146\n",
      "(Ne, β) = (100, 0.97)\n"
     ]
    },
    {
     "name": "stderr",
     "output_type": "stream",
     "text": [
      "\u001b[32mProgress: 100%|█████████████████████████████████████████| Time: 0:00:11\u001b[39m\n"
     ]
    },
    {
     "name": "stdout",
     "output_type": "stream",
     "text": [
      " 11.288214 seconds (230.57 M allocations: 16.241 GiB, 12.54% gc time)\n",
      "Ne = 100\n",
      "Ne 100& β 0.97 RMSE: 0.504270378108313\n",
      "(Ne, β) = (100, 0.98)\n"
     ]
    },
    {
     "name": "stderr",
     "output_type": "stream",
     "text": [
      "\u001b[32mProgress: 100%|█████████████████████████████████████████| Time: 0:00:11\u001b[39m\n"
     ]
    },
    {
     "name": "stdout",
     "output_type": "stream",
     "text": [
      " 11.392158 seconds (230.57 M allocations: 16.241 GiB, 12.53% gc time)\n",
      "Ne = 100\n",
      "Ne 100& β 0.98 RMSE: 0.5007986190026221\n",
      "(Ne, β) = (100, 0.99)\n"
     ]
    },
    {
     "name": "stderr",
     "output_type": "stream",
     "text": [
      "\u001b[32mProgress: 100%|█████████████████████████████████████████| Time: 0:00:11\u001b[39m\n"
     ]
    },
    {
     "name": "stdout",
     "output_type": "stream",
     "text": [
      " 11.519791 seconds (230.57 M allocations: 16.241 GiB, 12.51% gc time)\n",
      "Ne = 100\n",
      "Ne 100& β 0.99 RMSE: 0.5334129241126021\n",
      "(Ne, β) = (100, 1.0)\n"
     ]
    },
    {
     "name": "stderr",
     "output_type": "stream",
     "text": [
      "\u001b[32mProgress: 100%|█████████████████████████████████████████| Time: 0:00:11\u001b[39m\n"
     ]
    },
    {
     "name": "stdout",
     "output_type": "stream",
     "text": [
      " 11.647525 seconds (230.57 M allocations: 16.241 GiB, 12.55% gc time)\n",
      "Ne = 100\n",
      "Ne 100& β 1.0 RMSE: 0.5199241799035013\n",
      "(Ne, β) = (100, 1.01)\n"
     ]
    },
    {
     "name": "stderr",
     "output_type": "stream",
     "text": [
      "\u001b[32mProgress: 100%|█████████████████████████████████████████| Time: 0:00:11\u001b[39m\n"
     ]
    },
    {
     "name": "stdout",
     "output_type": "stream",
     "text": [
      " 11.728248 seconds (230.57 M allocations: 16.241 GiB, 12.48% gc time)\n",
      "Ne = 100\n",
      "Ne 100& β 1.01 RMSE: 0.49969396444547887\n",
      "(Ne, β) = (100, 1.02)\n"
     ]
    },
    {
     "name": "stderr",
     "output_type": "stream",
     "text": [
      "\u001b[32mProgress: 100%|█████████████████████████████████████████| Time: 0:00:11\u001b[39m\n"
     ]
    },
    {
     "name": "stdout",
     "output_type": "stream",
     "text": [
      " 11.803957 seconds (230.57 M allocations: 16.241 GiB, 12.43% gc time)\n",
      "Ne = 100\n",
      "Ne 100& β 1.02 RMSE: 0.5128572125687121\n",
      "(Ne, β) = (100, 1.03)\n"
     ]
    },
    {
     "name": "stderr",
     "output_type": "stream",
     "text": [
      "\u001b[32mProgress: 100%|█████████████████████████████████████████| Time: 0:00:11\u001b[39m\n"
     ]
    },
    {
     "name": "stdout",
     "output_type": "stream",
     "text": [
      " 11.917901 seconds (230.57 M allocations: 16.241 GiB, 12.50% gc time)\n",
      "Ne = 100\n",
      "Ne 100& β 1.03 RMSE: 0.5226498884322662\n",
      "(Ne, β) = (100, 1.04)\n"
     ]
    },
    {
     "name": "stderr",
     "output_type": "stream",
     "text": [
      "\u001b[32mProgress: 100%|█████████████████████████████████████████| Time: 0:00:12\u001b[39m\n"
     ]
    },
    {
     "name": "stdout",
     "output_type": "stream",
     "text": [
      " 12.018025 seconds (230.57 M allocations: 16.242 GiB, 12.47% gc time)\n",
      "Ne = 100\n",
      "Ne 100& β 1.04 RMSE: 0.5135834725247185\n",
      "(Ne, β) = (100, 1.05)\n"
     ]
    },
    {
     "name": "stderr",
     "output_type": "stream",
     "text": [
      "\u001b[32mProgress: 100%|█████████████████████████████████████████| Time: 0:00:12\u001b[39m\n",
      "\u001b[32mProgress:  62%|█████████████████████████▋               |  ETA: 0:03:15\u001b[39m"
     ]
    },
    {
     "name": "stdout",
     "output_type": "stream",
     "text": [
      " 12.036956 seconds (230.57 M allocations: 16.242 GiB, 12.57% gc time)\n",
      "Ne = 100\n",
      "Ne 100& β 1.05 RMSE: 0.5038169908062171\n",
      "(Ne, β) = (200, 0.95)\n"
     ]
    },
    {
     "name": "stderr",
     "output_type": "stream",
     "text": [
      "\u001b[32mProgress: 100%|█████████████████████████████████████████| Time: 0:00:24\u001b[39m\n"
     ]
    },
    {
     "name": "stdout",
     "output_type": "stream",
     "text": [
      " 24.125915 seconds (456.19 M allocations: 32.180 GiB, 12.71% gc time)\n",
      "Ne = 200\n",
      "Ne 200& β 0.95 RMSE: 0.5153458510050312\n",
      "(Ne, β) = (200, 0.96)\n"
     ]
    },
    {
     "name": "stderr",
     "output_type": "stream",
     "text": [
      "\u001b[32mProgress: 100%|█████████████████████████████████████████| Time: 0:00:24\u001b[39m\n"
     ]
    },
    {
     "name": "stdout",
     "output_type": "stream",
     "text": [
      " 24.362110 seconds (456.19 M allocations: 32.180 GiB, 12.71% gc time)\n",
      "Ne = 200\n",
      "Ne 200& β 0.96 RMSE: 0.5232804446546355\n",
      "(Ne, β) = (200, 0.97)\n"
     ]
    },
    {
     "name": "stderr",
     "output_type": "stream",
     "text": [
      "\u001b[32mProgress: 100%|█████████████████████████████████████████| Time: 0:00:24\u001b[39m\n"
     ]
    },
    {
     "name": "stdout",
     "output_type": "stream",
     "text": [
      " 24.569642 seconds (456.19 M allocations: 32.181 GiB, 12.75% gc time)\n",
      "Ne = 200\n",
      "Ne 200& β 0.97 RMSE: 0.49499895405799804\n",
      "(Ne, β) = (200, 0.98)\n"
     ]
    },
    {
     "name": "stderr",
     "output_type": "stream",
     "text": [
      "\u001b[32mProgress: 100%|█████████████████████████████████████████| Time: 0:00:24\u001b[39m\n"
     ]
    },
    {
     "name": "stdout",
     "output_type": "stream",
     "text": [
      " 24.688930 seconds (456.19 M allocations: 32.181 GiB, 12.86% gc time)\n",
      "Ne = 200\n",
      "Ne 200& β 0.98 RMSE: 0.49079222549738577\n",
      "(Ne, β) = (200, 0.99)\n"
     ]
    },
    {
     "name": "stderr",
     "output_type": "stream",
     "text": [
      "\u001b[32mProgress: 100%|█████████████████████████████████████████| Time: 0:00:24\u001b[39m\n"
     ]
    },
    {
     "name": "stdout",
     "output_type": "stream",
     "text": [
      " 24.468904 seconds (456.19 M allocations: 32.180 GiB, 13.55% gc time)\n",
      "Ne = 200\n",
      "Ne 200& β 0.99 RMSE: 0.49171108363125154\n",
      "(Ne, β) = (200, 1.0)\n"
     ]
    },
    {
     "name": "stderr",
     "output_type": "stream",
     "text": [
      "\u001b[32mProgress: 100%|█████████████████████████████████████████| Time: 0:00:21\u001b[39m\n"
     ]
    },
    {
     "name": "stdout",
     "output_type": "stream",
     "text": [
      " 21.786114 seconds (456.19 M allocations: 32.180 GiB, 12.28% gc time)\n",
      "Ne = 200\n",
      "Ne 200& β 1.0 RMSE: 0.49959713540595296\n",
      "(Ne, β) = (200, 1.01)\n"
     ]
    },
    {
     "name": "stderr",
     "output_type": "stream",
     "text": [
      "\u001b[32mProgress: 100%|█████████████████████████████████████████| Time: 0:00:21\u001b[39m\n"
     ]
    },
    {
     "name": "stdout",
     "output_type": "stream",
     "text": [
      " 21.778988 seconds (456.19 M allocations: 32.180 GiB, 11.99% gc time)\n",
      "Ne = 200\n",
      "Ne 200& β 1.01 RMSE: 0.5059747072323332\n",
      "(Ne, β) = (200, 1.02)\n"
     ]
    },
    {
     "name": "stderr",
     "output_type": "stream",
     "text": [
      "\u001b[32mProgress: 100%|█████████████████████████████████████████| Time: 0:00:21\u001b[39m\n"
     ]
    },
    {
     "name": "stdout",
     "output_type": "stream",
     "text": [
      " 21.899554 seconds (456.19 M allocations: 32.180 GiB, 11.84% gc time)\n",
      "Ne = 200\n",
      "Ne 200& β 1.02 RMSE: 0.4939816338787557\n",
      "(Ne, β) = (200, 1.03)\n"
     ]
    },
    {
     "name": "stderr",
     "output_type": "stream",
     "text": [
      "\u001b[32mProgress: 100%|█████████████████████████████████████████| Time: 0:00:22\u001b[39m\n"
     ]
    },
    {
     "name": "stdout",
     "output_type": "stream",
     "text": [
      " 22.312102 seconds (456.19 M allocations: 32.180 GiB, 11.91% gc time)\n",
      "Ne = 200\n",
      "Ne 200& β 1.03 RMSE: 0.5013340735651863\n",
      "(Ne, β) = (200, 1.04)\n"
     ]
    },
    {
     "name": "stderr",
     "output_type": "stream",
     "text": [
      "\u001b[32mProgress: 100%|█████████████████████████████████████████| Time: 0:00:22\u001b[39m\n"
     ]
    },
    {
     "name": "stdout",
     "output_type": "stream",
     "text": [
      " 22.629123 seconds (456.19 M allocations: 32.180 GiB, 11.98% gc time)\n",
      "Ne = 200\n",
      "Ne 200& β 1.04 RMSE: 0.487671704291269\n",
      "(Ne, β) = (200, 1.05)\n"
     ]
    },
    {
     "name": "stderr",
     "output_type": "stream",
     "text": [
      "\u001b[32mProgress: 100%|█████████████████████████████████████████| Time: 0:00:22\u001b[39m\n"
     ]
    },
    {
     "name": "stdout",
     "output_type": "stream",
     "text": [
      " 22.867777 seconds (456.19 M allocations: 32.180 GiB, 11.92% gc time)\n",
      "Ne = 200\n"
     ]
    },
    {
     "name": "stderr",
     "output_type": "stream",
     "text": [
      "\r",
      "\u001b[32mProgress:  75%|██████████████████████████████▊          |  ETA: 0:03:14\u001b[39m"
     ]
    },
    {
     "name": "stdout",
     "output_type": "stream",
     "text": [
      "Ne 200& β 1.05 RMSE: 0.4927624029904508\n",
      "(Ne, β) = (400, 0.95)\n"
     ]
    },
    {
     "name": "stderr",
     "output_type": "stream",
     "text": [
      "\u001b[32mProgress: 100%|█████████████████████████████████████████| Time: 0:00:46\u001b[39m\n"
     ]
    },
    {
     "name": "stdout",
     "output_type": "stream",
     "text": [
      " 46.255628 seconds (907.44 M allocations: 63.829 GiB, 12.15% gc time)\n",
      "Ne = 400\n",
      "Ne 400& β 0.95 RMSE: 0.49476314495336454\n",
      "(Ne, β) = (400, 0.96)\n"
     ]
    },
    {
     "name": "stderr",
     "output_type": "stream",
     "text": [
      "\u001b[32mProgress: 100%|█████████████████████████████████████████| Time: 0:00:47\u001b[39m\n"
     ]
    },
    {
     "name": "stdout",
     "output_type": "stream",
     "text": [
      " 47.184737 seconds (907.44 M allocations: 63.829 GiB, 12.34% gc time)\n",
      "Ne = 400\n",
      "Ne 400& β 0.96 RMSE: 0.48378630563277114\n",
      "(Ne, β) = (400, 0.97)\n"
     ]
    },
    {
     "name": "stderr",
     "output_type": "stream",
     "text": [
      "\u001b[32mProgress: 100%|█████████████████████████████████████████| Time: 0:00:45\u001b[39m\n"
     ]
    },
    {
     "name": "stdout",
     "output_type": "stream",
     "text": [
      " 45.396449 seconds (907.44 M allocations: 63.829 GiB, 12.83% gc time)\n",
      "Ne = 400\n",
      "Ne 400& β 0.97 RMSE: 0.49012981953579265\n",
      "(Ne, β) = (400, 0.98)\n"
     ]
    },
    {
     "name": "stderr",
     "output_type": "stream",
     "text": [
      "\u001b[32mProgress: 100%|█████████████████████████████████████████| Time: 0:00:43\u001b[39m\n"
     ]
    },
    {
     "name": "stdout",
     "output_type": "stream",
     "text": [
      " 43.378529 seconds (907.44 M allocations: 63.829 GiB, 11.98% gc time)\n",
      "Ne = 400\n",
      "Ne 400& β 0.98 RMSE: 0.524045547439863\n",
      "(Ne, β) = (400, 0.99)\n"
     ]
    },
    {
     "name": "stderr",
     "output_type": "stream",
     "text": [
      "\u001b[32mProgress: 100%|█████████████████████████████████████████| Time: 0:00:43\u001b[39m\n"
     ]
    },
    {
     "name": "stdout",
     "output_type": "stream",
     "text": [
      " 43.545950 seconds (907.44 M allocations: 63.829 GiB, 11.69% gc time)\n",
      "Ne = 400\n",
      "Ne 400& β 0.99 RMSE: 0.5029034663521067\n",
      "(Ne, β) = (400, 1.0)\n"
     ]
    },
    {
     "name": "stderr",
     "output_type": "stream",
     "text": [
      "\u001b[32mProgress: 100%|█████████████████████████████████████████| Time: 0:00:44\u001b[39m\n"
     ]
    },
    {
     "name": "stdout",
     "output_type": "stream",
     "text": [
      " 44.631856 seconds (907.44 M allocations: 63.829 GiB, 11.69% gc time)\n",
      "Ne = 400\n",
      "Ne 400& β 1.0 RMSE: 0.49244671104209353\n",
      "(Ne, β) = (400, 1.01)\n"
     ]
    },
    {
     "name": "stderr",
     "output_type": "stream",
     "text": [
      "\u001b[32mProgress: 100%|█████████████████████████████████████████| Time: 0:00:45\u001b[39m\n"
     ]
    },
    {
     "name": "stdout",
     "output_type": "stream",
     "text": [
      " 45.920258 seconds (907.44 M allocations: 63.829 GiB, 11.95% gc time)\n",
      "Ne = 400\n",
      "Ne 400& β 1.01 RMSE: 0.4778571074794844\n",
      "(Ne, β) = (400, 1.02)\n"
     ]
    },
    {
     "name": "stderr",
     "output_type": "stream",
     "text": [
      "\u001b[32mProgress: 100%|█████████████████████████████████████████| Time: 0:00:46\u001b[39m\n"
     ]
    },
    {
     "name": "stdout",
     "output_type": "stream",
     "text": [
      " 46.305404 seconds (907.44 M allocations: 63.829 GiB, 12.40% gc time)\n",
      "Ne = 400\n",
      "Ne 400& β 1.02 RMSE: 0.4930187824814159\n",
      "(Ne, β) = (400, 1.03)\n"
     ]
    },
    {
     "name": "stderr",
     "output_type": "stream",
     "text": [
      "\u001b[32mProgress: 100%|█████████████████████████████████████████| Time: 0:00:43\u001b[39m\n"
     ]
    },
    {
     "name": "stdout",
     "output_type": "stream",
     "text": [
      " 43.360719 seconds (907.44 M allocations: 63.829 GiB, 11.97% gc time)\n",
      "Ne = 400\n",
      "Ne 400& β 1.03 RMSE: 0.4880430867708043\n",
      "(Ne, β) = (400, 1.04)\n"
     ]
    },
    {
     "name": "stderr",
     "output_type": "stream",
     "text": [
      "\u001b[32mProgress: 100%|█████████████████████████████████████████| Time: 0:00:43\u001b[39m\n"
     ]
    },
    {
     "name": "stdout",
     "output_type": "stream",
     "text": [
      " 43.639604 seconds (907.44 M allocations: 63.829 GiB, 11.73% gc time)\n",
      "Ne = 400\n",
      "Ne 400& β 1.04 RMSE: 0.4877796062204072\n",
      "(Ne, β) = (400, 1.05)\n"
     ]
    },
    {
     "name": "stderr",
     "output_type": "stream",
     "text": [
      "\u001b[32mProgress: 100%|█████████████████████████████████████████| Time: 0:00:44\u001b[39m\n"
     ]
    },
    {
     "name": "stdout",
     "output_type": "stream",
     "text": [
      " 44.632566 seconds (907.44 M allocations: 63.829 GiB, 11.72% gc time)\n",
      "Ne = 400\n"
     ]
    },
    {
     "name": "stderr",
     "output_type": "stream",
     "text": [
      "\r",
      "\u001b[32mProgress:  88%|███████████████████████████████████▉     |  ETA: 0:02:34\u001b[39m"
     ]
    },
    {
     "name": "stdout",
     "output_type": "stream",
     "text": [
      "Ne 400& β 1.05 RMSE: 0.49113120346127564\n",
      "(Ne, β) = (600, 0.95)\n"
     ]
    },
    {
     "name": "stderr",
     "output_type": "stream",
     "text": [
      "\u001b[32mProgress: 100%|█████████████████████████████████████████| Time: 0:01:08\u001b[39m\n"
     ]
    },
    {
     "name": "stdout",
     "output_type": "stream",
     "text": [
      " 68.335304 seconds (1.36 G allocations: 95.559 GiB, 12.06% gc time)\n",
      "Ne = 600\n",
      "Ne 600& β 0.95 RMSE: 0.5098460630405631\n",
      "(Ne, β) = (600, 0.96)\n"
     ]
    },
    {
     "name": "stderr",
     "output_type": "stream",
     "text": [
      "\u001b[32mProgress: 100%|█████████████████████████████████████████| Time: 0:01:08\u001b[39m\n"
     ]
    },
    {
     "name": "stdout",
     "output_type": "stream",
     "text": [
      " 68.394235 seconds (1.36 G allocations: 95.559 GiB, 12.34% gc time)\n",
      "Ne = 600\n",
      "Ne 600& β 0.96 RMSE: 0.5052114495512555\n",
      "(Ne, β) = (600, 0.97)\n"
     ]
    },
    {
     "name": "stderr",
     "output_type": "stream",
     "text": [
      "\u001b[32mProgress: 100%|█████████████████████████████████████████| Time: 0:01:04\u001b[39m\n"
     ]
    },
    {
     "name": "stdout",
     "output_type": "stream",
     "text": [
      " 64.475416 seconds (1.36 G allocations: 95.559 GiB, 11.78% gc time)\n",
      "Ne = 600\n",
      "Ne 600& β 0.97 RMSE: 0.512328552121656\n",
      "(Ne, β) = (600, 0.98)\n"
     ]
    },
    {
     "name": "stderr",
     "output_type": "stream",
     "text": [
      "\u001b[32mProgress: 100%|█████████████████████████████████████████| Time: 0:01:06\u001b[39m\n"
     ]
    },
    {
     "name": "stdout",
     "output_type": "stream",
     "text": [
      " 66.723024 seconds (1.36 G allocations: 95.559 GiB, 11.79% gc time)\n",
      "Ne = 600\n",
      "Ne 600& β 0.98 RMSE: 0.5037359849801402\n",
      "(Ne, β) = (600, 0.99)\n"
     ]
    },
    {
     "name": "stderr",
     "output_type": "stream",
     "text": [
      "\u001b[32mProgress: 100%|█████████████████████████████████████████| Time: 0:01:09\u001b[39m\n"
     ]
    },
    {
     "name": "stdout",
     "output_type": "stream",
     "text": [
      " 69.199626 seconds (1.36 G allocations: 95.559 GiB, 12.11% gc time)\n",
      "Ne = 600\n",
      "Ne 600& β 0.99 RMSE: 0.5125824099279374\n",
      "(Ne, β) = (600, 1.0)\n"
     ]
    },
    {
     "name": "stderr",
     "output_type": "stream",
     "text": [
      "\u001b[32mProgress: 100%|█████████████████████████████████████████| Time: 0:01:09\u001b[39m\n"
     ]
    },
    {
     "name": "stdout",
     "output_type": "stream",
     "text": [
      " 69.100406 seconds (1.36 G allocations: 95.559 GiB, 12.32% gc time)\n",
      "Ne = 600\n",
      "Ne 600& β 1.0 RMSE: 0.502081653320712\n",
      "(Ne, β) = (600, 1.01)\n"
     ]
    },
    {
     "name": "stderr",
     "output_type": "stream",
     "text": [
      "\u001b[32mProgress: 100%|█████████████████████████████████████████| Time: 0:01:04\u001b[39m\n"
     ]
    },
    {
     "name": "stdout",
     "output_type": "stream",
     "text": [
      " 64.583081 seconds (1.36 G allocations: 95.559 GiB, 11.77% gc time)\n",
      "Ne = 600\n",
      "Ne 600& β 1.01 RMSE: 0.5029563882057267\n",
      "(Ne, β) = (600, 1.02)\n"
     ]
    },
    {
     "name": "stderr",
     "output_type": "stream",
     "text": [
      "\u001b[32mProgress: 100%|█████████████████████████████████████████| Time: 0:01:06\u001b[39m\n"
     ]
    },
    {
     "name": "stdout",
     "output_type": "stream",
     "text": [
      " 66.799951 seconds (1.36 G allocations: 95.559 GiB, 11.78% gc time)\n",
      "Ne = 600\n",
      "Ne 600& β 1.02 RMSE: 0.4875795915112685\n",
      "(Ne, β) = (600, 1.03)\n"
     ]
    },
    {
     "name": "stderr",
     "output_type": "stream",
     "text": [
      "\u001b[32mProgress: 100%|█████████████████████████████████████████| Time: 0:01:09\u001b[39m\n"
     ]
    },
    {
     "name": "stdout",
     "output_type": "stream",
     "text": [
      " 69.282311 seconds (1.36 G allocations: 95.559 GiB, 12.10% gc time)\n",
      "Ne = 600\n",
      "Ne 600& β 1.03 RMSE: 0.4960525833034431\n",
      "(Ne, β) = (600, 1.04)\n"
     ]
    },
    {
     "name": "stderr",
     "output_type": "stream",
     "text": [
      "\u001b[32mProgress: 100%|█████████████████████████████████████████| Time: 0:01:10\u001b[39m\n"
     ]
    },
    {
     "name": "stdout",
     "output_type": "stream",
     "text": [
      " 70.036024 seconds (1.36 G allocations: 95.559 GiB, 12.29% gc time)\n",
      "Ne = 600\n",
      "Ne 600& β 1.04 RMSE: 0.486502339026728\n",
      "(Ne, β) = (600, 1.05)\n"
     ]
    },
    {
     "name": "stderr",
     "output_type": "stream",
     "text": [
      "\u001b[32mProgress: 100%|█████████████████████████████████████████| Time: 0:01:04\u001b[39m\n"
     ]
    },
    {
     "name": "stdout",
     "output_type": "stream",
     "text": [
      " 64.600054 seconds (1.36 G allocations: 95.559 GiB, 11.77% gc time)\n",
      "Ne = 600\n"
     ]
    },
    {
     "name": "stderr",
     "output_type": "stream",
     "text": [
      "\r",
      "\u001b[32mProgress: 100%|█████████████████████████████████████████| Time: 0:30:20\u001b[39m\n"
     ]
    },
    {
     "name": "stdout",
     "output_type": "stream",
     "text": [
      "Ne 600& β 1.05 RMSE: 0.4874273248270539\n"
     ]
    },
    {
     "data": {
      "text/plain": [
       "8-element Array{Any,1}:\n",
       " Metrics[Metrics(10, [0.7178299117743561, 0.9938479094935131, 0.9157202489871709, 1.7712761491118478, 1.7066313005793774, 1.234897416217821, 0.9317857499383253, 0.6183698609083331, 0.7459082799620395, 1.224062120906078  …  0.6952026612202916, 0.9993289304490182, 0.3801055113850766, 0.46615893854686297, 0.4685463233371965, 0.19599471667823726, 0.19814634786104166, 0.6642794850872766, 0.9773959376079814, 0.818387844848636], 0.6979254430045315, 1.377551150274605, 2.384522230620822, [0.47066072782717444, 0.5827128366257848, 0.8457783375466058, 0.6341692687525824, 0.5343483349823486, 0.3969491055277674, 0.31329438635989737, 0.25834251139447184, 0.3398157520655201, 0.6173447950526075  …  0.7329739456388363, 0.9738238879762458, 1.1289563142068058, 0.6024237576502817, 0.43218587527191027, 0.2990092779069591, 0.2812331285358531, 0.25017593025848966, 0.41779927421383056, 0.48791228952588145], 0.6215600936267961, 0.6750599769304513, 0.29442611799893653, [0.6666666666666666, 0.3333333333333333, 0.3333333333333333, 0.3333333333333333, 0.0, 0.0, 0.0, 0.3333333333333333, 0.3333333333333333, 0.0  …  1.0, 1.0, 1.0, 0.6666666666666666, 0.3333333333333333, 1.0, 1.0, 0.0, 0.0, 0.6666666666666666], 0.6666666666666666, 0.6153333333333333, 0.3851336673788104), Metrics(10, [0.6804293190709606, 1.3927303012976247, 1.6618583329072802, 0.8442763708751896, 1.0699031869907751, 0.7039303778437527, 0.713453083928755, 0.7856956759670775, 1.2446847982736855, 0.4476145143505865  …  2.093355628652494, 2.1037046949904203, 2.2839804335189298, 1.9920857500930844, 1.9589067326011216, 1.334365637905995, 1.4237838817978792, 2.1115131925860666, 1.7655175597522965, 2.593578511487346], 0.8417493416756398, 1.3657938379515508, 2.047036044586607, [0.3617250826454496, 0.578234691382215, 0.980740820698674, 1.0878661710334103, 0.7246191603906087, 0.4707144757356565, 0.3580695597672373, 0.3257125128109006, 0.4979420330123357, 0.8371235134129287  …  0.7461896831258222, 1.2919810372266918, 1.1943959697892568, 1.0321177302859232, 0.6838632362166831, 0.3728971006478485, 0.32026697535950877, 0.449752983774262, 0.5807937048063141, 0.7369219390204571], 0.6227034632823244, 0.6731134514886907, 0.2823730179480383, [0.3333333333333333, 0.0, 0.0, 0.6666666666666666, 0.3333333333333333, 0.6666666666666666, 0.3333333333333333, 0.3333333333333333, 0.0, 1.0  …  0.0, 0.3333333333333333, 0.3333333333333333, 0.3333333333333333, 0.3333333333333333, 0.3333333333333333, 0.0, 0.0, 0.0, 0.3333333333333333], 0.6666666666666666, 0.5716666666666668, 0.38850914862866875), Metrics(10, [0.47364646129084825, 0.27525807734361524, 0.5046446743566323, 0.31994783721918996, 0.3885985927555117, 0.5807091419612322, 0.56734795268412, 0.8528351762089459, 1.027797375307636, 1.063213178291305  …  0.23836725892485444, 1.346213033495477, 0.2969359058792096, 0.6257757723900432, 0.345535710730402, 0.2530618624864484, 0.43700656606988564, 0.518603708699533, 0.9036172265993505, 1.0056524984559345], 0.7325013272047358, 1.1940996914452418, 1.8539349222088943, [0.30149167732818855, 0.6094356011302027, 0.9520237100983164, 0.6388938827729255, 0.4941602695661909, 0.3607613836585265, 0.2894874274921017, 0.30090551655203024, 0.44647228248754595, 0.727598561118554  …  1.0771123546907115, 0.9396198200258327, 1.0874066883774554, 1.535292159298335, 0.6988352230004404, 0.366005884501521, 0.31888438251462353, 0.33309207987895995, 0.37629792565661524, 0.4166509299940497], 0.6292626301766535, 0.6828870852447174, 0.2803736491328701, [0.6666666666666666, 1.0, 1.0, 1.0, 1.0, 0.6666666666666666, 0.3333333333333333, 0.0, 0.0, 0.3333333333333333  …  1.0, 0.3333333333333333, 1.0, 1.0, 1.0, 1.0, 0.3333333333333333, 0.3333333333333333, 0.0, 0.3333333333333333], 0.6666666666666666, 0.6105, 0.3732343049180077), Metrics(10, [0.42140041648416326, 0.3041977270255309, 0.36053623634953036, 0.3541883322212898, 0.4894671730314363, 0.5589485835023827, 0.4527167527997275, 0.27070026635799477, 0.25203715353122613, 0.34494349631875  …  0.7094424691429643, 0.42328680555183634, 1.4026230877257335, 1.2133641075990205, 0.5722180449066432, 0.3832992348143468, 0.32730203970384697, 0.5302461080559551, 1.2478961982493315, 0.6609740912167185], 0.801828668609168, 1.6466624095275504, 2.9346426518143844, [0.3956309950665196, 0.30503875537771397, 0.4388722066076501, 0.5995104083394142, 0.5404573781159315, 0.6019189580088068, 0.48884889967766704, 0.4704965590023208, 0.5369049974916958, 0.665725008951351  …  0.7759974862023064, 1.5492979644064104, 1.0866049009893337, 0.9036815264390932, 0.7116221747769998, 0.39762256504811405, 0.30106778491428937, 0.3911574861036715, 0.7092850850074025, 0.9471504706207804], 0.6176983907243434, 0.6738141416604789, 0.28794363117256405, [1.0, 1.0, 0.6666666666666666, 0.6666666666666666, 0.6666666666666666, 1.0, 1.0, 1.0, 1.0, 1.0  …  1.0, 1.0, 0.3333333333333333, 0.6666666666666666, 0.6666666666666666, 1.0, 0.6666666666666666, 0.0, 0.0, 1.0], 0.6666666666666666, 0.5561666666666665, 0.37980358643781176), Metrics(10, [0.22993571167307, 0.6061410227792238, 0.5656426821215728, 0.1686179670070653, 0.817075418980797, 0.28993856373159804, 0.32771657521614145, 0.026515349363929748, 0.0929088441191467, 0.779957392817338  …  0.9908599756188137, 1.1431396825851194, 0.6210318885242033, 0.544065112880016, 0.283529596185757, 0.6462290187350422, 0.44804644756758716, 0.24518980212955152, 1.0485148449420358, 1.8887907038178295], 0.6970473202346978, 1.171801486667878, 1.8403648867988316, [0.3786961670756684, 0.5533504656770337, 0.8674945387806655, 0.6470439998024909, 0.5726408334221618, 0.5512180156206291, 0.5932507555715363, 0.436215652379252, 0.8259396222020767, 1.1654968334387903  …  0.7681241577464224, 1.2198903056065076, 0.9064179234150033, 0.906559901398946, 0.8407720214680364, 0.3701205797713945, 0.3620821929505691, 0.5197528766584057, 0.7775418189159573, 1.0240184589282173], 0.6168903348852398, 0.6733324594891423, 0.29068757664137135, [1.0, 0.3333333333333333, 1.0, 1.0, 1.0, 1.0, 1.0, 1.0, 1.0, 1.0  …  0.6666666666666666, 1.0, 1.0, 1.0, 1.0, 0.3333333333333333, 0.6666666666666666, 1.0, 0.6666666666666666, 0.0], 0.6666666666666666, 0.6286666666666665, 0.37721852230962005), Metrics(10, [0.2513306062990171, 0.937242845504971, 1.1542456168288344, 0.3274345403633894, 0.8180027702742209, 0.44849853585502186, 0.47577799330103526, 0.3907589389911039, 0.29226721749237244, 0.8597208197032905  …  2.025610906322054, 1.7847997383418177, 1.2302026433448168, 1.0667034764707117, 1.2114192464919815, 0.7892907951481701, 1.1000275190926063, 0.4866007944540086, 0.36873441800691314, 0.467002264479759], 0.6473548095608096, 1.1422996688470604, 2.0782793905884627, [0.25468742448140547, 0.3556359891345533, 0.8026226496014169, 0.4357379939296938, 0.48370992623055653, 0.4464890152991632, 0.36523779697621883, 0.39014412487145983, 0.9201147072523986, 0.5888304882567138  …  0.8899853362541175, 0.9781734605188628, 0.7783639889670604, 0.999070211321282, 0.6069158431216243, 0.37642302618751156, 0.4755486744152625, 0.7792675546240196, 0.5861483180046312, 0.6740937864845387], 0.6281461288135819, 0.6748354414612049, 0.2852862597058532, [1.0, 0.0, 1.0, 1.0, 0.3333333333333333, 1.0, 0.3333333333333333, 1.0, 1.0, 0.0  …  0.0, 0.6666666666666666, 0.3333333333333333, 0.6666666666666666, 0.3333333333333333, 0.3333333333333333, 0.0, 1.0, 1.0, 1.0], 0.6666666666666666, 0.6500000000000001, 0.37611117864035626), Metrics(10, [0.1334753897683485, 0.3590141819898722, 0.44101140551078366, 0.22511827146693264, 0.4506418338024288, 0.3685598005628384, 0.39784891876058204, 0.15754818063091056, 0.29557307379898345, 0.7665812456370957  …  0.5304342220312444, 2.1610438792571274, 1.1664603477610174, 0.8834928223906056, 1.2729767882309615, 0.97864762783165, 1.0495899392622283, 0.8344105527407448, 2.718503547753432, 0.6267559296757111], 0.686673690154711, 0.9848851172492666, 1.2261720200121575, [0.810966093818961, 0.8707677203138005, 0.8312579932762585, 0.38247805309735555, 0.4028952915872805, 0.3855236852193192, 0.3383391674759897, 0.36339828521001183, 0.9507904679225819, 0.5378130513644204  …  1.339046934936973, 0.8942794924707493, 0.7276162218569128, 0.8710748948388439, 0.8429504387512871, 0.5289954125641355, 0.44211208814356107, 0.6692364187294092, 1.1837766498885582, 0.9402510127486732], 0.6416750582829198, 0.6942643545697506, 0.2930535596450197, [1.0, 1.0, 1.0, 1.0, 0.6666666666666666, 0.6666666666666666, 0.6666666666666666, 1.0, 1.0, 0.6666666666666666  …  1.0, 0.0, 0.6666666666666666, 0.6666666666666666, 0.6666666666666666, 0.6666666666666666, 0.0, 1.0, 0.0, 1.0], 0.6666666666666666, 0.6435, 0.36897491501540064), Metrics(10, [0.7005458660564399, 0.8288758603813601, 1.0005759258806541, 0.7640856094632431, 1.880249346518328, 1.1517440245593649, 1.0974852050369983, 1.152085140448881, 1.8131414359970297, 1.4365921464271554  …  0.8772896901334447, 0.11962269481948799, 0.4545580653944249, 0.39074859768853676, 0.3744904353572418, 0.17374379831519116, 0.25458548714095053, 0.4778625755352704, 0.47056325131989246, 0.03126247585634012], 0.6716195932714635, 0.8325284025363551, 0.6808957943441784, [0.4342519388958413, 0.8781629825550482, 0.9594232498025507, 0.759733134505857, 0.6479953528905449, 0.3844284245351585, 0.3905611572469001, 0.4742142152575239, 0.9590416205982955, 1.1590365808593839  …  1.111984454259727, 0.9624237577231309, 1.3206373287059245, 0.6528109870789152, 0.5103753331630062, 0.32719223732422026, 0.2460821416289857, 0.3281596570546604, 0.581422453690452, 0.6344388435821023], 0.6191746555221066, 0.6755447895762092, 0.2832493418184334, [0.6666666666666666, 0.6666666666666666, 1.0, 0.6666666666666666, 0.0, 0.0, 0.0, 0.0, 0.0, 0.6666666666666666  …  1.0, 1.0, 1.0, 1.0, 0.6666666666666666, 1.0, 0.6666666666666666, 0.3333333333333333, 1.0, 1.0], 0.6666666666666666, 0.6535, 0.3637054695933013), Metrics(10, [1.0063926394661553, 1.5601918627076128, 1.2870084571294858, 0.5886146944957673, 1.0990680585492376, 0.6132379539454808, 0.6481230787579403, 0.7813044710230904, 0.9720561808172097, 0.17008431913080616  …  3.046845208765816, 3.735424714137379, 3.426433832232708, 3.2390051923940057, 2.9235122356407786, 2.8715022392860843, 3.259381529082085, 4.306916864974669, 4.895668760723015, 4.405439587174776], 0.7458263943700021, 1.1522359270246398, 1.5597050193354118, [0.5673058753692307, 0.6685563805130599, 0.8169650710082128, 1.2066254774678546, 1.0277306472359633, 0.7000293740553857, 0.5315308399727793, 0.35756815564310707, 0.3965207473432924, 0.6943565508141679  …  0.7975542617892313, 0.8063871716292154, 0.911517482380359, 1.1760034334595713, 1.0290208210918084, 0.4549565930897289, 0.247954050238855, 0.2966404834531024, 0.29475671070619863, 0.297935077523952], 0.6137929094819901, 0.6695395562713133, 0.2898119309271908, [0.3333333333333333, 0.0, 0.0, 0.6666666666666666, 0.6666666666666666, 1.0, 0.3333333333333333, 0.3333333333333333, 0.0, 1.0  …  0.3333333333333333, 0.0, 0.0, 0.0, 0.3333333333333333, 0.0, 0.0, 0.0, 0.0, 0.3333333333333333], 0.6666666666666666, 0.5893333333333333, 0.38061761417128614), Metrics(10, [0.8740806082159124, 1.8893497034997035, 1.5205044697652619, 0.5549033595476769, 1.171487094498725, 0.801249009972703, 0.2724399024925794, 0.3950779425953566, 0.4671961577540811, 0.41564221850129845  …  0.39107414683460584, 0.7724354894954746, 0.25431619784891074, 0.5660847107253442, 0.18155899779517076, 0.26566506969868225, 0.4464317722004016, 0.4308606282010615, 2.2916957884079148, 1.2718379612528934], 0.7638319161315804, 1.237223530024935, 2.0020990793841995, [0.592486155942444, 1.036107455510987, 1.6203491055523669, 0.8801380476073453, 0.7047315264002891, 0.7263100430884576, 0.6467065968827895, 0.6242758434037987, 0.5554070993945937, 0.788404521968707  …  1.0866694239285435, 0.908720270655755, 0.9796841499065003, 0.9576027532076494, 0.7859618476353801, 0.43429386500390765, 0.43405437586140483, 0.8860579221220403, 0.7998712611817651, 0.9815553516403713], 0.6275224021723307, 0.6754997596035194, 0.2880022496827986, [0.3333333333333333, 1.0, 1.0, 1.0, 0.6666666666666666, 1.0, 1.0, 1.0, 1.0, 1.0  …  1.0, 1.0, 1.0, 1.0, 1.0, 1.0, 0.6666666666666666, 1.0, 0.0, 1.0], 0.6666666666666666, 0.5925000000000001, 0.3755926523186967), Metrics(10, [0.12451175572676566, 0.702769990141819, 0.3084563234409503, 0.4576662954645119, 0.8938271831069945, 0.6375874522322745, 0.5375255335371065, 0.5783526141823381, 1.2353757847615428, 1.2359299112872142  …  1.380000555420244, 0.7597696854961321, 0.6500344393890342, 0.7712751020157346, 0.39263662933602833, 0.12577630936192896, 0.1755118182869085, 0.6752129569272787, 2.2307135082442526, 1.5717795050622982], 0.697898938469323, 0.9308136692934141, 1.035939729697871, [0.34728466525793067, 0.4744121703516709, 0.5394846316033844, 0.46140953814861796, 0.49413094764323123, 0.3199126704699169, 0.35464823072796436, 0.42448613517971817, 0.5790895722728, 0.9574146934610472  …  1.1648631479791693, 1.1215686812433592, 0.8456666393383915, 0.7263321646024424, 0.627443357963015, 0.3829296504534167, 0.3545310311060394, 0.7660842645009439, 0.9387609294842701, 0.9892365786453602], 0.6256312734514919, 0.6790631905275025, 0.29619416195020914, [1.0, 1.0, 1.0, 1.0, 0.0, 0.0, 0.0, 0.3333333333333333, 0.0, 0.3333333333333333  …  0.3333333333333333, 1.0, 1.0, 1.0, 1.0, 1.0, 1.0, 1.0, 0.0, 0.6666666666666666], 0.6666666666666666, 0.6406666666666666, 0.37867624410428036)]\n",
       " Metrics[Metrics(20, [0.5416330204389279, 1.0132131604342411, 1.2025670317242878, 1.5144165182427236, 1.1312235116595155, 0.7470515251979425, 0.6165844405185292, 0.5912640057546119, 0.5389504045672328, 0.18286407292469872  …  0.4132476399949535, 1.43097725824159, 0.29646555125331175, 0.1875567307868135, 0.4280079673480175, 0.17134053457326417, 0.2812781110686863, 0.25695431807276914, 0.07083367634959145, 0.3577252275408382], 0.4703807805607588, 0.6104367763458701, 0.495987805758537, [0.36084957969493014, 0.46797187073758545, 0.5806441351847551, 0.6053626789851041, 0.5566810088925896, 0.5122843091711604, 0.40317971460594876, 0.39117799291016514, 0.6305032681035356, 0.9229352582338572  …  1.1324986310504122, 0.9670485905727612, 1.124952143312377, 0.9151782687432751, 0.4985906516278089, 0.3080795351917567, 0.3298014432478559, 0.5666517040247288, 0.7362918076898716, 0.956713208886246], 0.563119601699362, 0.6161898487966078, 0.24307160465756714, [0.3333333333333333, 0.0, 0.0, 0.0, 0.3333333333333333, 0.6666666666666666, 0.6666666666666666, 0.3333333333333333, 1.0, 1.0  …  1.0, 0.3333333333333333, 1.0, 1.0, 1.0, 1.0, 1.0, 1.0, 1.0, 1.0], 1.0, 0.8273333333333334, 0.29136804312959147), Metrics(20, [0.7419329788438688, 1.3332633280449582, 1.3601389921278113, 0.5707922075668729, 0.5067614945924523, 0.582136182063503, 0.545182901504127, 0.7408597763319581, 0.922459040595591, 0.8571665451853692  …  1.4027566876331514, 1.2310330246942516, 0.6735947247740174, 0.6056840553425729, 0.505970446553167, 0.3694118173123057, 0.4513264958023919, 0.543269826695438, 0.36410666313099543, 0.5213522784228432], 0.4844005129063944, 0.7574962816077152, 0.9993499459340485, [0.43364199321251684, 0.7105064731111392, 0.9583176698663775, 0.8017585885491743, 0.659147638508378, 0.4845860786528819, 0.4054675158657927, 0.38142501259122547, 0.38517107277807294, 0.48469747327452645  …  0.9002333353910362, 0.990531094901394, 1.107234142194555, 1.023777186169013, 0.5679025448802711, 0.31442316334518094, 0.3095048963054884, 0.445662257411076, 0.5784726847217708, 0.8077030737201584], 0.5686312644399321, 0.6217661319554412, 0.23956212579380118, [0.3333333333333333, 0.0, 0.3333333333333333, 0.6666666666666666, 1.0, 0.6666666666666666, 0.3333333333333333, 0.3333333333333333, 0.0, 0.6666666666666666  …  1.0, 1.0, 1.0, 1.0, 1.0, 1.0, 1.0, 1.0, 1.0, 1.0], 1.0, 0.7936666666666667, 0.32716300054494846), Metrics(20, [0.33741547364199564, 0.7508785354406221, 0.9504288327759226, 1.0966065067123678, 1.1675896610092582, 0.855969088347326, 0.5654729476041679, 0.5272655395187071, 0.6507403212090227, 0.7268660923305046  …  0.057723544679106134, 0.5076529303170759, 0.9202241740135793, 1.090869566512489, 0.9085868406697492, 0.40050794530927325, 0.21719191429749898, 0.20812224896940296, 0.7220707616170158, 0.4811997240629931], 0.46695719565528976, 0.6238413799629298, 0.5324474133239341, [0.4123144970961485, 0.48222036366927495, 0.6275213114672807, 0.6515252656772912, 0.5188006118171204, 0.39863831761139046, 0.32835365956213397, 0.32401198829049777, 0.5893299999291376, 0.8483396642465064  …  0.7426237538973304, 1.0411953880492941, 0.7637322051855728, 0.7338675379981655, 0.4494881858672744, 0.2748033370990484, 0.24251720095273296, 0.3283170841814274, 0.5020134176022362, 0.6334540245265865], 0.5769737667507417, 0.6280965297742893, 0.24864389440047788, [1.0, 0.0, 1.0, 0.6666666666666666, 0.3333333333333333, 0.3333333333333333, 0.6666666666666666, 1.0, 1.0, 1.0  …  1.0, 1.0, 1.0, 1.0, 0.0, 0.6666666666666666, 1.0, 1.0, 0.6666666666666666, 1.0], 1.0, 0.8303333333333333, 0.2993181438389111), Metrics(20, [0.42714263677983766, 0.7966550903844811, 0.9935342052685261, 0.6771510653843859, 0.6795599579078653, 0.170493868169494, 0.18570165625605153, 0.19072806115901306, 0.3431847418508138, 0.22361450050765552  …  0.852905340289446, 0.12776012664827913, 0.46763194609563774, 0.7141483689207923, 0.4492825810346054, 0.17637397137473662, 0.12469792306002246, 0.4639583792456398, 2.4039450467084396, 1.1995697658813753], 0.52026606505001, 0.6635836179197011, 0.5540953643367382, [0.35370372494035884, 0.38370460125311767, 0.4648924188974045, 0.5883845202064764, 0.5066497240318694, 0.46141115707316754, 0.3499783308053706, 0.3480923615531628, 0.6285777113397378, 0.8675271730303528  …  1.0066613912948372, 1.3934920438452636, 1.128924321710789, 0.9813686173007323, 0.6909355295547827, 0.4667899107192703, 0.4503502703475213, 0.6608938613990284, 1.2444076090315728, 1.1124874796846749], 0.5657203864024416, 0.6205813406753627, 0.24677217639678917, [0.6666666666666666, 0.3333333333333333, 0.0, 0.3333333333333333, 0.6666666666666666, 1.0, 1.0, 1.0, 1.0, 1.0  …  1.0, 1.0, 1.0, 1.0, 1.0, 1.0, 1.0, 1.0, 0.3333333333333333, 1.0], 1.0, 0.8046666666666668, 0.3172900930824201), Metrics(20, [0.788888980850167, 1.379913233259152, 1.954117158749269, 2.503668237018648, 1.7032772187678766, 1.1142409924631518, 0.7611890214462255, 0.7806551412559516, 1.230902206012381, 0.8099874267209944  …  0.2891249962988117, 0.6470116965930421, 0.43363065025321623, 0.8253305949632838, 0.6896434613306502, 0.2091756668258885, 0.13548646402255057, 0.08400189814416725, 1.8681987399445774, 1.1448304454650948], 0.4859637552696061, 0.6427218861231231, 0.6186973869135469, [0.4058011109426777, 0.7278291816729802, 0.7990830244737696, 0.7155989783994535, 0.6657011764186447, 0.652711383776769, 0.38305682145176534, 0.3296336678226884, 0.4522442918332597, 0.5580428240482957  …  0.6711032400565352, 0.9822894178149899, 0.9282144731604055, 0.9478088031916929, 0.7547908667532309, 0.446774631787858, 0.390135307908897, 0.5617429808517816, 0.8100215171645142, 0.8592922523863056], 0.5556451545175636, 0.6034574213768865, 0.24425025840874165, [0.3333333333333333, 0.0, 0.0, 0.3333333333333333, 0.3333333333333333, 0.6666666666666666, 0.6666666666666666, 0.3333333333333333, 0.0, 0.6666666666666666  …  1.0, 1.0, 1.0, 1.0, 1.0, 1.0, 1.0, 1.0, 0.0, 1.0], 1.0, 0.8095, 0.30683173197171326), Metrics(20, [0.6030324382788611, 0.37298951337061165, 0.4482050025346095, 0.6122115665127974, 1.1056672982151208, 0.7456474890901793, 0.8311800319975495, 0.6610774200691957, 0.47780470344276454, 0.33294754943410504  …  0.03465936887897291, 0.8101007333850923, 0.8952517228849006, 0.49290623528767447, 0.7373969615178704, 0.3778868168762783, 0.21067302007004626, 0.06578867193542996, 2.3432011241644233, 1.7281530696607916], 0.5141735515729419, 0.6738165009906413, 0.5601462933888924, [0.37513017191754033, 0.5554644423044058, 0.5673233698024197, 0.46219654334673893, 0.5026551582882312, 0.4544864019139547, 0.4646850776368747, 0.5750811062212462, 0.6608198734749384, 0.702292198231395  …  0.8044951369588734, 1.0173240401859796, 1.315494224809747, 1.050599793796201, 0.6834443097178377, 0.46849757003271736, 0.4598311345182486, 0.6717907296575838, 1.110338044801585, 0.9928727403715005], 0.5597105516024727, 0.6177864028626582, 0.2501439799618886, [0.3333333333333333, 1.0, 0.6666666666666666, 0.6666666666666666, 0.6666666666666666, 0.3333333333333333, 0.0, 0.6666666666666666, 1.0, 1.0  …  1.0, 1.0, 1.0, 1.0, 1.0, 1.0, 1.0, 1.0, 0.0, 1.0], 1.0, 0.791, 0.3113246168617055), Metrics(20, [0.5372847868242826, 0.7181169874349599, 0.756640408455698, 1.0077278821683802, 1.1442872436300455, 1.1534160570913954, 0.8518544783698961, 0.8636095049777003, 1.2661321391005749, 0.425300788550401  …  0.16178240144839942, 0.12916398263633205, 0.5064128776637865, 0.47743924519409686, 0.3870257469541042, 0.23051527828294407, 0.2834551316786281, 0.5329952433497922, 1.4298801580618017, 1.4705835103292832], 0.501925511947698, 0.6184831994812579, 0.4725025807201517, [0.37832356298317815, 0.5185176033820614, 0.6552534823549171, 0.6753995970003218, 0.4558111672226622, 0.37839086692196816, 0.29264522991651004, 0.3158772980805876, 0.4653960348994798, 0.5934011909226077  …  0.6275285011502895, 0.8338207107497119, 0.8494318418093559, 0.5596155677588464, 0.38853479335602586, 0.2538937610886157, 0.2715267852882003, 0.33456900512014537, 0.45572855333401857, 0.8409050713371697], 0.5625219867167734, 0.6204638176455765, 0.2459738184464624, [1.0, 1.0, 1.0, 1.0, 0.3333333333333333, 0.3333333333333333, 0.3333333333333333, 0.0, 0.0, 1.0  …  1.0, 1.0, 1.0, 1.0, 0.6666666666666666, 1.0, 0.6666666666666666, 0.0, 0.0, 0.6666666666666666], 1.0, 0.8115, 0.3037039516821537), Metrics(20, [0.8170768977817736, 1.45856187748048, 1.690201993510167, 0.854488574469335, 1.1908993014425129, 0.6008722491509149, 0.6165403416691143, 0.8330620575492214, 1.0820786119272403, 1.0423522130527105  …  0.12871126812524497, 1.687220457273534, 0.23062773165766912, 0.2053825346161322, 0.3933213650295452, 0.1524657440102753, 0.2776457379405831, 0.12171962034514465, 0.8927450926178717, 0.985961519397949], 0.5086879329572558, 0.6459297993900516, 0.5051409995379675, [0.4730049067943415, 0.5786945735103733, 0.8398423047429614, 0.950298122218182, 0.7983194231343985, 0.6620081805784731, 0.47038872217398325, 0.38828058197319043, 0.6112030520727691, 0.7751371584043962  …  1.0503666063563255, 0.8362294152960855, 1.005221481160158, 0.913992193772987, 0.6279220915584784, 0.40742925612050185, 0.32572940031978215, 0.4674488407635564, 0.713712172460528, 0.8289675516505803], 0.5732832901943714, 0.6247803101085219, 0.2423066486985543, [0.3333333333333333, 0.0, 0.6666666666666666, 0.6666666666666666, 0.6666666666666666, 0.6666666666666666, 0.3333333333333333, 0.3333333333333333, 0.3333333333333333, 0.6666666666666666  …  1.0, 0.3333333333333333, 1.0, 1.0, 1.0, 1.0, 1.0, 1.0, 1.0, 1.0], 1.0, 0.799, 0.31248651796830534), Metrics(20, [0.24891830140409665, 0.4149766894717678, 0.5730648603084286, 0.5330477136213305, 0.8531472308746094, 0.5643069860001847, 0.5602904171159757, 0.6434129390917627, 0.8015884278046806, 0.5647892509559258  …  0.18313189547964895, 0.2857408604705787, 0.39244226557148565, 0.5743241764945632, 0.7415568137051258, 0.2735259747471619, 0.29051370248952907, 0.36467208890507896, 0.5145814358515334, 0.7435908274836417], 0.5049113573462254, 0.7844267321506596, 0.8902846987491037, [0.3901149362167727, 0.4777486594424959, 0.5293034097723636, 0.4842407317433207, 0.4389414963529328, 0.35056572843363, 0.3128365469790901, 0.41032533599121374, 0.44140580392948214, 0.574266259213059  …  1.0163371991178893, 1.06785160371415, 0.7110751143615451, 0.9491418076483034, 0.85423553022017, 0.5482782684570898, 0.38913094406502746, 0.45839853900213084, 0.5255819107598878, 0.7673344163256847], 0.5562436707879678, 0.613175803670233, 0.2477242887711194, [1.0, 1.0, 1.0, 1.0, 0.0, 0.3333333333333333, 0.3333333333333333, 1.0, 1.0, 1.0  …  1.0, 1.0, 1.0, 1.0, 1.0, 1.0, 1.0, 1.0, 1.0, 1.0], 1.0, 0.7856666666666667, 0.3353368171645168), Metrics(20, [0.8106150523752907, 1.7403560038269366, 2.1940561030494012, 1.6182245453765778, 1.1072723252103567, 0.6159085308587413, 0.6640902845391805, 0.9401305468800123, 1.3343796946613002, 1.4916990802451855  …  0.7942551278739329, 0.22897286004971013, 0.8105027004280978, 0.9053300971855367, 0.5806307354698886, 0.22668057069333866, 0.27142882694543496, 0.5988437276627443, 2.0542077923731212, 1.0729950839643834], 0.504624288251792, 0.6475408850661242, 0.5749336024642926, [0.5668971038926232, 0.5812578870952543, 0.8083144963329028, 0.7524991419022382, 0.6692267793865838, 0.6716482347555605, 0.46444449697800466, 0.36667210490307783, 0.3997477741119507, 0.5542371669965943  …  0.9629964093139431, 0.9396233599968309, 0.9637441162086359, 0.9162872672879432, 0.584795966469138, 0.3599052478385681, 0.3076795180266617, 0.49024143473027304, 0.6895606182220223, 0.9149870642149903], 0.5615002675918506, 0.6115671505305229, 0.24828746348905723, [0.3333333333333333, 0.0, 0.0, 0.3333333333333333, 0.6666666666666666, 0.6666666666666666, 0.3333333333333333, 0.3333333333333333, 0.0, 0.3333333333333333  …  1.0, 1.0, 1.0, 1.0, 1.0, 1.0, 1.0, 0.6666666666666666, 0.0, 1.0], 1.0, 0.7921666666666668, 0.3192363027909279), Metrics(20, [0.10366254320335232, 0.01856300628176077, 0.2157362005441077, 0.289918951574076, 0.6570436549090112, 0.2653466835850202, 0.3671602450173965, 0.5592584139377772, 0.6249635063428383, 0.7302438606759183  …  0.029974439115468914, 0.8938883842081642, 0.28757811245248777, 0.778832836274819, 0.14957341521028372, 0.06404051952892117, 0.10605068158991042, 0.09942295037994017, 0.7256252126024195, 0.905510824072609], 0.4633909462702578, 0.5941662456014892, 0.49325637283877366, [0.4064605316854545, 0.5221218260884911, 0.3932729703914105, 0.40733978576066, 0.373073964727444, 0.31697486428445776, 0.3010271642120498, 0.3850835394994054, 0.533527727205181, 0.5080699056936229  …  0.8390862261199831, 0.644601543149398, 0.9413443744719746, 0.8390614029274512, 0.6613679256030077, 0.40209947795291984, 0.2853974983015372, 0.3642044880151377, 0.4571589869949153, 0.4226015710888342], 0.5567823108720114, 0.6158469805935158, 0.2528929163985209, [1.0, 1.0, 1.0, 1.0, 0.3333333333333333, 1.0, 1.0, 1.0, 1.0, 1.0  …  1.0, 0.3333333333333333, 1.0, 1.0, 1.0, 1.0, 1.0, 1.0, 1.0, 0.3333333333333333], 1.0, 0.8346666666666667, 0.2904715862640769)]\n",
       " Metrics[Metrics(40, [0.7592973780146435, 1.4867680744057998, 2.1491932843827524, 2.0471180942912675, 1.511607637764948, 1.037534460992368, 0.8107099540822704, 1.0278409165004934, 1.6615455511072794, 2.323498904905729  …  0.5501390599661897, 0.19250350824500537, 0.7070626676752156, 0.7683111068074621, 0.5276041396307669, 0.3364794029450727, 0.305334992743489, 0.39218755172082737, 1.0776309582439747, 0.3975385426305558], 0.48263534781284584, 0.6572864810564025, 0.6367726618080002, [0.36201439185308804, 0.4791362445257617, 0.6706869837296348, 0.8132420549383164, 0.6154606314049922, 0.47719225182673136, 0.3875475994137477, 0.30033006024935277, 0.3560870579094323, 0.5456750252467958  …  0.7429579682704497, 1.1212223200184028, 0.9960666278077626, 0.7348940797856153, 0.5336427273994203, 0.38091722856688176, 0.4113582585089935, 0.5308639038598311, 0.8127399484899961, 0.9139820213859219], 0.5328478933886251, 0.5953352836786514, 0.23856101989439774, [0.3333333333333333, 0.0, 0.0, 0.3333333333333333, 0.3333333333333333, 0.6666666666666666, 0.6666666666666666, 0.3333333333333333, 0.0, 0.0  …  1.0, 1.0, 1.0, 1.0, 1.0, 1.0, 1.0, 1.0, 1.0, 1.0], 1.0, 0.8275, 0.3022333172312046), Metrics(40, [0.6237820435131538, 1.3289676458685382, 1.8381754411430795, 1.4053594900531676, 1.3269841075696127, 0.8268446692888621, 0.7429070706311348, 0.9985266420816088, 1.4388710003076177, 1.4595022458864784  …  0.4844576350590442, 0.841117921660345, 0.5829712199466018, 0.7493472406661461, 0.6208514033810246, 0.2662447085923981, 0.20030846102771196, 0.1473231451547359, 0.8005633580927839, 0.5472265723980547], 0.43881037112801613, 0.5801853219733318, 0.49119207320250474, [0.4212541943539706, 0.4905313460926176, 0.6952541326562277, 0.7662200382508341, 0.5991812230323899, 0.45446803521053797, 0.3363241247661384, 0.30177986462355666, 0.3651344124215273, 0.5355448028621864  …  0.8640114198400154, 1.0243773322701555, 1.2198117741053196, 0.8333422721954602, 0.6004144967837542, 0.3866286361661044, 0.38820799260966876, 0.5554499146795547, 0.6464091571559699, 0.784787575847351], 0.5430560948646653, 0.6042099941458662, 0.23836537891663145, [0.6666666666666666, 0.0, 0.0, 0.6666666666666666, 0.3333333333333333, 0.6666666666666666, 0.3333333333333333, 0.3333333333333333, 0.0, 0.3333333333333333  …  1.0, 1.0, 1.0, 1.0, 1.0, 1.0, 1.0, 1.0, 1.0, 1.0], 1.0, 0.8556666666666666, 0.27625560370658464), Metrics(40, [0.8193312386890444, 1.629579520272931, 1.5626456410228418, 1.3972600150274932, 1.1708221976270563, 0.6598947605584616, 0.5514558147122088, 0.7427542553540235, 1.074808005576267, 0.9005748433024041  …  0.4404529964241788, 0.9116310407937075, 0.6191014639958731, 0.6910803010264812, 0.4503514523767096, 0.2652960464605661, 0.1832437167504681, 0.07760096392912554, 0.8687130202865058, 0.4106833787164125], 0.4192484280100012, 0.5561894128430935, 0.45968124212979816, [0.5172829147810327, 0.6097208179579954, 0.7818682179339541, 0.9137582215470883, 0.7495129221959369, 0.6055431923553926, 0.4316500133173233, 0.402078248524824, 0.5378102010512253, 0.7780688903628415  …  0.6737047661116049, 0.9149823483424641, 1.0428015192129911, 0.7994293003275316, 0.5117947317057733, 0.32429566223364453, 0.30850907627051966, 0.4413322518233651, 0.6030279028903445, 0.7160639927169308], 0.530857455880735, 0.5913834670392384, 0.2388570182098268, [0.6666666666666666, 0.0, 0.3333333333333333, 1.0, 0.6666666666666666, 1.0, 0.6666666666666666, 0.3333333333333333, 0.6666666666666666, 1.0  …  1.0, 1.0, 1.0, 1.0, 1.0, 1.0, 1.0, 1.0, 1.0, 1.0], 1.0, 0.8653333333333333, 0.2746965116837308), Metrics(40, [0.6412044048904951, 1.1748049732413681, 1.6073179493635585, 1.3996681542006322, 1.1472065410029522, 0.571418882482251, 0.46646046023554893, 0.49541934093201784, 0.6878459039574513, 0.6820049632892232  …  0.10197463263279298, 0.4416689154955425, 0.6569498728515707, 0.6757639922294013, 0.5828875836560026, 0.24053729944577656, 0.1339601523611207, 0.30529695395907036, 1.2269876259058075, 0.7759339650353592], 0.4362803448384282, 0.5509585416026878, 0.44068107234025017, [0.3524145462549115, 0.41077436567577935, 0.6005708043993708, 0.6681082272726256, 0.5527749919193835, 0.5046270639550845, 0.36832243683206445, 0.33607029604476263, 0.4207509874477901, 0.6004654255793827  …  0.8944883550109822, 0.9309962125653547, 1.2620002186003783, 1.0366928173227166, 0.715962778071402, 0.4573401717649272, 0.4263682092214194, 0.5496352719240164, 0.7621951023056184, 0.8944706379223412], 0.5339791708276043, 0.5944485249565566, 0.23793570197205272, [0.3333333333333333, 0.0, 0.0, 0.3333333333333333, 0.3333333333333333, 1.0, 0.6666666666666666, 0.3333333333333333, 0.6666666666666666, 1.0  …  1.0, 1.0, 1.0, 1.0, 1.0, 1.0, 1.0, 1.0, 0.3333333333333333, 1.0], 1.0, 0.867, 0.2643889300040943), Metrics(40, [0.6718045255126699, 1.4137196960569738, 1.8299394853434618, 1.2381826595240588, 0.6717932112633108, 0.4471922118510104, 0.490953478006974, 0.6582311136783141, 0.919134087913547, 1.0170751867896266  …  0.14969549025692494, 1.1152690827503908, 0.040744600687062524, 0.3113131745276215, 0.5782752777565264, 0.30072982309571666, 0.26148194398610713, 0.24964162489831046, 0.5739964554935909, 0.7703921952367324], 0.43770862675611366, 0.5552285050241599, 0.44214805082791747, [0.4130077574589306, 0.5392219721488698, 0.7667964853470834, 0.8181364158041667, 0.7135675807722629, 0.6244022329576582, 0.42787384321740374, 0.3585898921918894, 0.4283545161644344, 0.6406536699551177  …  1.1032212472332659, 1.013376872549223, 1.0709270414392529, 1.087110961960449, 0.6520686888254528, 0.4362985574883726, 0.4048281062351481, 0.5207680119315904, 0.6978878977449557, 0.8274671701815006], 0.5276166533021887, 0.5945119149627142, 0.23748303404608873, [0.3333333333333333, 0.0, 0.0, 1.0, 0.6666666666666666, 1.0, 0.6666666666666666, 0.3333333333333333, 0.0, 1.0  …  1.0, 1.0, 1.0, 1.0, 1.0, 1.0, 1.0, 1.0, 1.0, 1.0], 1.0, 0.86, 0.26893317276713213), Metrics(40, [0.6195270561401783, 0.9285908497639394, 1.3168096188320917, 1.2208751719781832, 1.226190405908725, 0.6971938244615128, 0.5547729117629011, 0.7144136482370401, 0.9261881788246796, 1.1531358277559285  …  0.3057324441585142, 0.5740987270779399, 0.610528736790472, 0.963824009820311, 0.7415861962260262, 0.3724902238138211, 0.21820014498210374, 0.16942124737531405, 0.28122443133872366, 0.12552848221602178], 0.43835221629571663, 0.5670651892852482, 0.4491859547925096, [0.3851991308791197, 0.5462001520880561, 0.7112099460630408, 0.7499613768716819, 0.6614751255919158, 0.5391150548485599, 0.41225363768333195, 0.3816407464315527, 0.4790536514721052, 0.677572783647045  …  0.7995827737882439, 0.9387916421978275, 0.965340189642406, 0.7814996065604536, 0.580367172260278, 0.3734991700881318, 0.35977599799401816, 0.47342858417464706, 0.618760192539451, 0.7361334265607791], 0.5428334115661784, 0.6005934234919887, 0.23741095546319976, [0.3333333333333333, 0.3333333333333333, 0.6666666666666666, 0.6666666666666666, 0.3333333333333333, 1.0, 0.6666666666666666, 0.3333333333333333, 0.0, 0.6666666666666666  …  1.0, 1.0, 1.0, 0.6666666666666666, 0.6666666666666666, 0.6666666666666666, 1.0, 1.0, 1.0, 1.0], 1.0, 0.8633333333333333, 0.26483026174092494), Metrics(40, [0.6108256038825458, 1.031783773390295, 1.1002646873512432, 0.970139197850532, 1.0338582627917432, 0.5259966703899656, 0.444061541851647, 0.5100898488350009, 0.6074975572432688, 0.4098986130471796  …  0.34795198552641476, 1.1266785660986522, 0.4165539178727086, 0.5957359250338549, 0.2989249405637127, 0.145476174432943, 0.0841315524543567, 0.22481460213553023, 0.581547509238107, 0.19658257417912875], 0.41781045564062624, 0.539697352950855, 0.44536571749111853, [0.3723821555283937, 0.4869438848507887, 0.6746773401654139, 0.6485507599389115, 0.509948447634357, 0.470912452821138, 0.369596467685773, 0.37473862715092016, 0.478365976558139, 0.6742591377719012  …  0.8988756589772113, 1.1070114768005879, 1.2168865285609718, 0.9511197363913754, 0.6898122549128994, 0.45261001334062717, 0.4570627107326224, 0.6028292324571979, 0.7945383903953585, 1.0130732768520516], 0.5355743678061397, 0.5951584538210364, 0.2406149021492226, [0.3333333333333333, 0.0, 0.6666666666666666, 1.0, 0.3333333333333333, 1.0, 0.6666666666666666, 1.0, 0.6666666666666666, 1.0  …  1.0, 1.0, 1.0, 1.0, 1.0, 1.0, 1.0, 1.0, 1.0, 1.0], 1.0, 0.8766666666666666, 0.2576385709886527), Metrics(40, [0.6216250852833451, 1.052244115231902, 1.3303119365980736, 1.4122107390520102, 1.3823048481586955, 0.7303848845675338, 0.5433078144457594, 0.6131899409309947, 0.9071039443454044, 1.159302515300028  …  0.6509825770533424, 0.8581709979902802, 0.2720420195120098, 0.12146976551764721, 0.3498542314406037, 0.11643104009293008, 0.07307847166287529, 0.09566861624567967, 0.7363666071387558, 0.5128266061711823], 0.45096169262048547, 0.5726896489682439, 0.4608642029214576, [0.3812860354402575, 0.5000556047944057, 0.6496794019559088, 0.8054415932535666, 0.5853491543902233, 0.44714734049350024, 0.29345668335491815, 0.26354453489042085, 0.35491810693088505, 0.5595401954364371  …  0.693027466960779, 0.6921813389493875, 0.8381221658271545, 0.8474116566472807, 0.5727094375186309, 0.347573392275732, 0.3008741094821539, 0.40434331617764785, 0.6234304953570831, 0.6617325113790793], 0.533102448531064, 0.5946054822105571, 0.23949219714475906, [0.3333333333333333, 0.0, 0.0, 0.3333333333333333, 0.3333333333333333, 0.6666666666666666, 0.6666666666666666, 0.3333333333333333, 0.0, 0.3333333333333333  …  1.0, 1.0, 1.0, 1.0, 1.0, 1.0, 1.0, 1.0, 1.0, 1.0], 1.0, 0.8589999999999999, 0.26799548028911657), Metrics(40, [0.4380576049826294, 1.0761388183745757, 1.1350027398988, 0.9313034329583982, 0.7162705884019064, 0.44226141605475716, 0.5255388065403576, 0.6110933472306449, 0.680845776547294, 0.37659554204942897  …  0.06447252343828652, 0.3991022877240942, 0.8163760399112074, 0.8746342988366461, 0.700391710980619, 0.33005918933063955, 0.19409812632730797, 0.3343386649365863, 1.4496070916586465, 1.1027707571201297], 0.4608770733202028, 0.8033892030988821, 1.3569823455530297, [0.44436672695764423, 0.6503635591492601, 0.6157796664352504, 0.6529957514571053, 0.5960776207047671, 0.5490640312009524, 0.47226313087199945, 0.4191485101997367, 0.5214697233395055, 0.7178352025313641  …  0.7837897812953655, 1.1527116780669928, 1.1472381250181558, 1.004889524418915, 0.6886860791824235, 0.4407867678520746, 0.4127534913318799, 0.6394153939633617, 0.9414597041651515, 0.8955016581410912], 0.5256581137068373, 0.5889378757801202, 0.24145813206476008, [1.0, 0.3333333333333333, 0.0, 0.6666666666666666, 1.0, 1.0, 0.3333333333333333, 0.6666666666666666, 1.0, 1.0  …  1.0, 1.0, 1.0, 1.0, 1.0, 1.0, 1.0, 1.0, 1.0, 1.0], 1.0, 0.8175, 0.31591012196214074), Metrics(40, [0.5501022871764887, 0.8786542655484523, 0.9884731124711932, 0.8452048559759926, 1.0730300796765706, 0.5472084956863082, 0.4652036613445703, 0.5094922394496008, 0.5820298246420144, 0.2495120501241744  …  0.2771049367139138, 0.5827976444652454, 0.7390572215547112, 0.8520735824389376, 0.705653568508713, 0.3108041143720808, 0.16001777255312602, 0.43830657776612075, 1.800610326658875, 0.9518507881979734], 0.4155376039889451, 0.542683360742508, 0.450330745866863, [0.3232590197971699, 0.39395351363977005, 0.6279994972408439, 0.703083549225092, 0.51997425434685, 0.469604751766289, 0.3592922518774887, 0.3691522572261549, 0.4864418255897477, 0.725090489999203  …  0.8071009555252416, 1.222790970408504, 1.1465657427472795, 0.9156297704150886, 0.6718507205704924, 0.4659229648273412, 0.5160851820379875, 0.7210727093615693, 0.778299465921011, 0.83799262988732], 0.5403273047711705, 0.6025844550108547, 0.2405671974334621, [0.3333333333333333, 0.0, 0.3333333333333333, 0.6666666666666666, 0.3333333333333333, 0.6666666666666666, 0.6666666666666666, 0.3333333333333333, 0.6666666666666666, 1.0  …  1.0, 1.0, 1.0, 1.0, 1.0, 1.0, 1.0, 1.0, 0.0, 1.0], 1.0, 0.8773333333333333, 0.2509668923970423), Metrics(40, [0.47431646509366426, 0.7573667102961111, 1.0460014777941813, 1.17793278424813, 1.0811825343210733, 0.6012935871201984, 0.4572593023095681, 0.5252139251020703, 0.6625489573819505, 0.7893957416414707  …  0.01971365573089087, 0.6183594439929345, 0.6066119713736838, 0.7227680003420065, 0.7124714893772428, 0.20109161850058815, 0.11787917476171555, 0.2510609671657141, 1.4179146898130393, 1.1782357965723047], 0.4471968370091205, 0.578900487053327, 0.5015114986930657, [0.33014227702658866, 0.3983975046958795, 0.5536599582888553, 0.6193875672358748, 0.5093774711873476, 0.4006256446216742, 0.3142004904331192, 0.34523030071076677, 0.4030532910248623, 0.5206072107604344  …  0.8803814649098718, 1.1580877509496648, 1.1475558562288275, 1.0829437627630618, 0.7238427738434438, 0.4688652860183009, 0.45485491074671136, 0.5686123472539045, 0.7636704709308061, 0.8417647092923408], 0.5332876154992947, 0.5940822438080591, 0.23956332866797783, [0.6666666666666666, 0.3333333333333333, 0.3333333333333333, 0.0, 0.3333333333333333, 1.0, 0.6666666666666666, 1.0, 1.0, 0.6666666666666666  …  1.0, 1.0, 1.0, 1.0, 1.0, 1.0, 1.0, 1.0, 0.0, 1.0], 1.0, 0.8693333333333333, 0.2651314823007805)]\n",
       " Metrics[Metrics(60, [0.7439167028424587, 1.397427688715005, 1.5602928485339955, 1.5360082600123601, 1.3165975391879738, 0.7737300203906121, 0.6346596623147591, 0.6618176955883708, 1.0991084899835484, 0.97468117641178  …  0.2531208189287523, 0.7777887363109426, 0.509064609208639, 0.7765024732093954, 0.6181908078271313, 0.3308963093120519, 0.18791012268017757, 0.11074943951114923, 0.8134076144491683, 0.8296173749706924], 0.37986025959989544, 0.5189622943477002, 0.443172364428955, [0.4501398298795725, 0.553904289711546, 0.73478546009215, 0.7344312295786998, 0.641929934810676, 0.549011455559592, 0.39477862906049543, 0.358611700158503, 0.5135376838682859, 0.7030918589536882  …  0.7385451123720053, 0.9705457773731381, 1.147072311411182, 0.9278810357880878, 0.6263712128639727, 0.40950063035826145, 0.38121580772287866, 0.5111903074844828, 0.6483364715911806, 0.7201021912594119], 0.5411525562110271, 0.5947150789727669, 0.23433437277881763, [1.0, 0.0, 1.0, 0.6666666666666666, 0.6666666666666666, 1.0, 0.6666666666666666, 0.3333333333333333, 0.6666666666666666, 1.0  …  1.0, 1.0, 1.0, 1.0, 1.0, 1.0, 1.0, 1.0, 1.0, 1.0], 1.0, 0.9035, 0.23019996479077176), Metrics(60, [0.8722359196508974, 1.5531761903669754, 1.640323029898274, 1.2728875285848313, 1.3659251815966291, 1.0091852257121643, 0.9107971146272849, 0.9600009227459666, 1.2868275546415546, 0.5212139225534819  …  0.29344688188105295, 0.42228747329304206, 0.43592952631565574, 0.7172665989675328, 0.5498063620476039, 0.21128263795856148, 0.09986005186206398, 0.08828856755108135, 0.962449892035316, 0.8308531977524702], 0.4104270307034549, 0.5358427277070478, 0.4443367802711043, [0.46791857312061036, 0.6297614237615695, 0.9247682076595212, 0.9140911724976265, 0.7256830329742694, 0.5686467922952225, 0.49013081948772314, 0.522833081449048, 0.6189743424126336, 0.8449390362780523  …  0.7274962421929316, 0.993060793373328, 1.0078888781379056, 0.9675509947039088, 0.6895684622615981, 0.41871698766776605, 0.3611765629484253, 0.5284195397284266, 0.7293875350582811, 0.8100166522833983], 0.5350150500380353, 0.596692436109006, 0.23802534646053555, [0.3333333333333333, 0.0, 0.3333333333333333, 1.0, 0.3333333333333333, 0.6666666666666666, 1.0, 1.0, 0.3333333333333333, 1.0  …  1.0, 1.0, 1.0, 1.0, 1.0, 1.0, 1.0, 1.0, 1.0, 1.0], 1.0, 0.8908333333333333, 0.24529223098935757), Metrics(60, [0.6524367078439135, 1.2494034822255702, 1.698597414872655, 1.436078103235796, 1.4268455154104425, 0.7918346855242966, 0.6879130963079413, 0.8226383468734373, 1.2191474447439237, 1.1614425998430213  …  0.21840061891178644, 0.5059656843972158, 0.6277019936695982, 0.7759228787143063, 0.44976889264718156, 0.17611945665499226, 0.08308121156534799, 0.20886692716716235, 0.863392714119539, 0.7750421074960667], 0.3891327060735318, 0.5286277418790651, 0.4716960721170917, [0.42090329967097867, 0.4929951289870861, 0.6869808865620831, 0.7214284696848159, 0.6532528246458341, 0.5165609952695343, 0.3848850648821152, 0.32500357452703027, 0.41227615661925515, 0.6603280987465019  …  0.8154064573760109, 1.1134049493428835, 1.1533752564343454, 1.0431645396631142, 0.6418014976987382, 0.4141265655673386, 0.3680397735981913, 0.5138874501789238, 0.6714833800228183, 0.8388949637872488], 0.5281381197610353, 0.5894994122336898, 0.23384619247558375, [0.3333333333333333, 0.0, 0.0, 0.6666666666666666, 0.3333333333333333, 0.6666666666666666, 0.6666666666666666, 0.3333333333333333, 0.0, 0.6666666666666666  …  1.0, 1.0, 1.0, 1.0, 1.0, 1.0, 1.0, 1.0, 1.0, 1.0], 1.0, 0.9071666666666668, 0.23170367562179128), Metrics(60, [0.5365160827490474, 1.092276075478886, 0.9964666399207712, 1.2722030832738307, 1.3119356434904637, 0.6648904979975235, 0.5814521367158055, 0.6756265377912436, 0.8680308456301108, 1.0405282462672816  …  0.39114084828393353, 0.9422405148260034, 0.4514147143056769, 0.783635135513333, 0.6843186225007878, 0.2593544443982469, 0.2835053434925639, 0.17465282205570734, 0.8632325494985396, 0.4652563195343656], 0.421354093278028, 0.5389249282400352, 0.43637039233637587, [0.4330257565677617, 0.5083934552568726, 0.6664009777688658, 0.7377885579257535, 0.6020464027783872, 0.5147878956137432, 0.36029226615192145, 0.33648667201901633, 0.48923677503374735, 0.7478421546707084  …  0.946575951510418, 1.020970496749829, 1.0912623258913259, 1.0420936167305985, 0.7057434471438039, 0.4564750952138485, 0.4207745397425559, 0.6054357032942955, 0.8284863103344954, 0.9578563263359268], 0.5245282549635792, 0.5913576493314031, 0.23720938603210429, [1.0, 0.0, 0.6666666666666666, 1.0, 0.3333333333333333, 1.0, 0.6666666666666666, 0.3333333333333333, 0.3333333333333333, 1.0  …  1.0, 1.0, 1.0, 1.0, 1.0, 1.0, 1.0, 1.0, 1.0, 1.0], 1.0, 0.8925, 0.2421564298855888), Metrics(60, [0.7551653611747868, 1.2913921054432242, 1.3736863521199958, 1.6006378525190363, 1.2889779781441553, 0.8021000247904589, 0.6581007547437634, 0.7548652546742878, 1.0790879509659776, 0.8109915867368054  …  0.27146699266740626, 0.7795145372863134, 0.14681186485719175, 0.22153465202529882, 0.3580718655887859, 0.08875616588758427, 0.09357901298839126, 0.03524163034851654, 0.7974396927980507, 0.7388812258532385], 0.40422740064195367, 0.5248981985373076, 0.44060788347112123, [0.4569564192151211, 0.563030860207446, 0.6258197572728761, 0.7114078376756299, 0.6008398155259471, 0.5057822602850827, 0.37879415925653515, 0.36160181754917853, 0.48001669808862424, 0.6764537454770901  …  0.7263948622773572, 0.8518161870016632, 0.9430221105343711, 1.0138808980180083, 0.6712723280736992, 0.3914148990753559, 0.3531873992302674, 0.464627067707798, 0.6392361482730188, 0.7489506240804307], 0.5321496420855512, 0.5894916802923931, 0.2388910739539457, [0.3333333333333333, 0.0, 0.0, 0.3333333333333333, 0.3333333333333333, 0.6666666666666666, 0.6666666666666666, 0.3333333333333333, 0.3333333333333333, 1.0  …  1.0, 1.0, 1.0, 1.0, 1.0, 1.0, 1.0, 1.0, 1.0, 1.0], 1.0, 0.8878333333333334, 0.247328621139019), Metrics(60, [0.5618699995823302, 0.9652227407653154, 1.2328285896936002, 1.2496179837965355, 1.2666203020888314, 0.9237452754340434, 0.666880693090145, 0.6479040512936108, 0.8694004688618671, 1.0200932804875236  …  0.18793101746669885, 0.7423372142118673, 0.46063064398058934, 0.6430496967280064, 0.47407227323557494, 0.20457815148040345, 0.20358578352404214, 0.4746960583030327, 1.2633762766905166, 1.1077405153110444], 0.42067101637378523, 0.5407867424867955, 0.45989881911705643, [0.3018742377610123, 0.3715885284520506, 0.5418547001107351, 0.5258336094012716, 0.38588792931829713, 0.3281368835046798, 0.2657296867846418, 0.2695303173365604, 0.37339415159812955, 0.6014350349476901  …  0.9207844002292563, 1.0454616112189399, 1.2155724744126972, 1.0415976540726268, 0.6886922947649788, 0.4035522483224408, 0.4121048670267219, 0.5638139806016774, 0.7511720493751759, 0.740220763208782], 0.5268072244175015, 0.5850729665448818, 0.23620419624040875, [0.3333333333333333, 0.0, 0.0, 0.0, 0.3333333333333333, 0.3333333333333333, 0.3333333333333333, 0.3333333333333333, 0.0, 0.0  …  1.0, 1.0, 1.0, 1.0, 1.0, 1.0, 1.0, 1.0, 1.0, 1.0], 1.0, 0.8871666666666665, 0.2488186193850379), Metrics(60, [0.7231107046602345, 1.329455101337383, 1.5946091777577271, 1.6559810496674985, 1.6335582549491996, 0.999286565001917, 0.7304610533036413, 0.7991340534538627, 1.2032953162358824, 0.9249811120199009  …  0.28944255177695727, 0.5171574507391069, 0.4258334242727229, 0.7790178450948921, 0.6237879016918533, 0.2626100289151214, 0.16315598469475043, 0.07796301926314492, 1.0041042952959736, 0.5460743585848452], 0.39611480983141767, 0.5144826984235089, 0.4276205072836308, [0.3513906327384894, 0.46795230576370817, 0.6169642758605525, 0.7197083190771015, 0.5648388517458537, 0.43841740807066704, 0.3125590318637924, 0.295324672371752, 0.42861446616030324, 0.5817209980634476  …  0.8254338985974584, 1.0300648312186156, 1.0061732320408936, 0.9278957878346188, 0.6172288549193483, 0.42164370346791513, 0.4207503209235853, 0.5955838636335098, 0.8063610140127925, 0.8777889480047162], 0.519808003985299, 0.5833073515519798, 0.24055707854200611, [0.3333333333333333, 0.0, 0.0, 0.3333333333333333, 0.3333333333333333, 0.3333333333333333, 0.3333333333333333, 0.3333333333333333, 0.0, 1.0  …  1.0, 1.0, 1.0, 1.0, 1.0, 1.0, 1.0, 1.0, 1.0, 1.0], 1.0, 0.9063333333333332, 0.22663483479120572), Metrics(60, [0.6839116034481459, 1.0847552655647257, 1.3868396639730542, 1.5163053285896968, 1.2229216919563821, 0.8496816604945562, 0.6591064424174224, 0.6834214421015733, 1.0908132434271698, 1.2992974279288951  …  0.5184337741735754, 1.017219205691071, 0.33743352927998654, 0.6696279604711118, 0.5774535223266869, 0.20553726685933757, 0.17848880269799575, 0.053814742297750434, 0.49288742298118615, 0.1933759458642856], 0.4234476516699392, 0.539947871515308, 0.44251418651998764, [0.32810561956058876, 0.41821587275031846, 0.6129855545088928, 0.6977531843126054, 0.5642222356085341, 0.47020022900119063, 0.34802894849020116, 0.3064623255102072, 0.4206416901540607, 0.5347591773088151  …  0.8933709593897401, 0.9525296362643628, 1.069578864127966, 0.9724876642876392, 0.6728683871186109, 0.4092549151887027, 0.35119916586683547, 0.46732050766813066, 0.6764600957733101, 0.7860922347613937], 0.5250011989484691, 0.5899849331886171, 0.23732638405833914, [0.3333333333333333, 0.0, 0.0, 0.0, 0.3333333333333333, 0.6666666666666666, 0.6666666666666666, 0.3333333333333333, 0.0, 0.0  …  1.0, 1.0, 1.0, 1.0, 1.0, 1.0, 1.0, 1.0, 1.0, 1.0], 1.0, 0.8928333333333333, 0.2376720303211939), Metrics(60, [0.5585196512078019, 0.9995418498270617, 1.110260953676918, 1.022286450277025, 0.8659000808776155, 0.5350077868500336, 0.42944947371799946, 0.4534310471435827, 0.6439627486210316, 0.2936232395754925  …  0.4190013761273619, 0.8469853801655726, 0.5245558461978385, 0.9287127561795597, 0.8370434171988206, 0.4499636120883824, 0.27814182725288555, 0.23065094509392722, 0.22390776933336742, 0.09624908753628175], 0.3974187840649297, 0.5167492212400782, 0.42605737186017967, [0.36618858315207936, 0.46797417789114437, 0.5966447621253882, 0.6822435037259353, 0.5550496883765794, 0.4626915923368942, 0.346794663207957, 0.33237069422155613, 0.4852109974169459, 0.677753816800606  …  0.7318283100244609, 1.0544087578717611, 1.071313976100513, 0.9119359274390332, 0.53977141833703, 0.35992944912611435, 0.34897372238570534, 0.5104103733529787, 0.6257412632424949, 0.8043767205625579], 0.522609611892011, 0.591535744799384, 0.24004519716017245, [0.3333333333333333, 0.0, 0.3333333333333333, 0.6666666666666666, 0.6666666666666666, 1.0, 0.6666666666666666, 0.6666666666666666, 0.6666666666666666, 1.0  …  1.0, 1.0, 1.0, 1.0, 0.6666666666666666, 0.6666666666666666, 1.0, 1.0, 1.0, 1.0], 1.0, 0.9041666666666667, 0.2243683194963563), Metrics(60, [0.5544077141581168, 1.1802638559393306, 1.2123940942573064, 1.2354167099622775, 1.2470291698806362, 0.7393057901529322, 0.5748515957315419, 0.5944179181560002, 0.8282472395012025, 0.5652432454336153  …  0.1644805196527838, 0.46755430305262125, 0.6601602356471663, 0.7548848668310458, 0.6187525745932977, 0.2941673313969809, 0.15235070490891264, 0.21380005935117732, 1.7420149657403508, 1.0351904748638654], 0.41130646982541874, 0.538778203183027, 0.4485074832529194, [0.3632148507635284, 0.46003339028159357, 0.6443500130754267, 0.6942854248633924, 0.576117579210516, 0.4639017997350516, 0.336640251233865, 0.3299160492342582, 0.4672602302951669, 0.7487386501237616  …  0.8008435287046082, 1.2108463761307224, 0.9562694788845744, 0.9764228252569843, 0.6730645374450818, 0.4744034786714333, 0.5298239748906669, 0.7006223167358392, 0.9530021065516611, 0.9605590539375582], 0.5356178138199623, 0.5929297909134016, 0.23351912269106329, [0.3333333333333333, 0.0, 0.0, 0.3333333333333333, 0.3333333333333333, 1.0, 0.6666666666666666, 0.3333333333333333, 1.0, 1.0  …  1.0, 1.0, 1.0, 1.0, 1.0, 1.0, 1.0, 1.0, 0.3333333333333333, 1.0], 1.0, 0.8895, 0.2500864727332213), Metrics(60, [0.6481369498716046, 1.1467775529051012, 1.2119890870110368, 1.2173181505084503, 0.8792882801766594, 0.44301154359177825, 0.40686329368646984, 0.5117177730828705, 0.7331081385643164, 0.5451130685287165  …  0.474424424468526, 1.0469563369133335, 0.03339410339878814, 0.3267897611152412, 0.4394409341213215, 0.24626601605663478, 0.2894877615829121, 0.13278802975121945, 0.8119847790707764, 0.5310653904482775], 0.4267419802930785, 0.5400379096179423, 0.4377204532203036, [0.3883421704382299, 0.4752383967359598, 0.6924322292174158, 0.6849843335255654, 0.5902822775945022, 0.5221833486928336, 0.3883672999052496, 0.32800541618926005, 0.38824870783579923, 0.49942296254805907  …  0.8418245746059078, 0.901963075874632, 1.0003742587703874, 0.9118585284408206, 0.5789855254372568, 0.3762306846093187, 0.36356825987926655, 0.5397571893248074, 0.7118393961973329, 0.7527218931075005], 0.5319393050925452, 0.5899629586746871, 0.23687413884183886, [0.3333333333333333, 0.3333333333333333, 1.0, 0.6666666666666666, 0.6666666666666666, 1.0, 0.6666666666666666, 0.6666666666666666, 0.6666666666666666, 1.0  …  1.0, 1.0, 1.0, 1.0, 1.0, 1.0, 1.0, 1.0, 1.0, 1.0], 1.0, 0.8923333333333334, 0.24311336369965406)]\n",
       " Metrics[Metrics(100, [0.8573729323512879, 1.4133156339528374, 1.9119572801972742, 1.5482238535580177, 1.4061751204597672, 1.0656436051306877, 0.8557720227243573, 0.9518448656241979, 1.4407634997355594, 1.4120588563252419  …  0.30180824203688117, 0.8070155568400489, 0.4463178421082212, 0.612652521600223, 0.5072105149402615, 0.1833518450780662, 0.10216331432193669, 0.1800007259843768, 0.9104026582056788, 0.7263002139581327], 0.4097076499238943, 0.5352668056184428, 0.45109473576417375, [0.38751851213245864, 0.5057486952580595, 0.7091609937998359, 0.8376739834315469, 0.705494016364302, 0.5511050390999276, 0.40290901733819673, 0.3517514020722865, 0.43000047824766, 0.6593979436103078  …  0.8654357997798837, 0.9572764902907702, 1.1315274718870605, 0.9650476715738556, 0.5841611223299182, 0.3818957443883447, 0.34853858089207723, 0.46335925711190873, 0.6737546601050808, 0.7956972113357504], 0.5405298103497674, 0.5990869884893104, 0.2394927963308501, [0.3333333333333333, 0.0, 0.0, 0.6666666666666666, 0.3333333333333333, 0.6666666666666666, 0.6666666666666666, 0.3333333333333333, 0.0, 0.3333333333333333  …  1.0, 1.0, 1.0, 1.0, 1.0, 1.0, 1.0, 1.0, 1.0, 1.0], 1.0, 0.9043333333333332, 0.22406768036670233), Metrics(100, [0.7827091258081046, 1.3285754482375123, 1.368471146494923, 1.54379476320385, 1.299564086157523, 0.8363560148717666, 0.6427312533409689, 0.7137154851957278, 1.0575907054845113, 1.0177082346456539  …  0.6207890780153118, 1.1798172824814925, 0.15089951691921674, 0.503756505806901, 0.5405046754914136, 0.2353267505398097, 0.2271539600906217, 0.1098695416109305, 0.6341664468959327, 0.6035984248411478], 0.40041355277747653, 0.5272042998755146, 0.4462077437154898, [0.4110353235336378, 0.5036101742078142, 0.6399018507602737, 0.7567723050658923, 0.5956777988237609, 0.47676313837596196, 0.35117365404606965, 0.3246389159633763, 0.4248602160030488, 0.5681350212495255  …  0.816002834257596, 0.9802348986863115, 1.1024210860357093, 1.0575247723958765, 0.6529357303061407, 0.41678825384518764, 0.4057400126888152, 0.5617988091828288, 0.722219719316413, 0.7399371450136014], 0.5224601094062822, 0.5916603875353166, 0.2377815142799593, [0.3333333333333333, 0.0, 0.3333333333333333, 0.6666666666666666, 0.3333333333333333, 0.6666666666666666, 0.6666666666666666, 0.3333333333333333, 0.0, 0.6666666666666666  …  1.0, 1.0, 1.0, 1.0, 1.0, 1.0, 1.0, 1.0, 1.0, 1.0], 1.0, 0.9106666666666666, 0.22593157834752273), Metrics(100, [0.7402659776538743, 1.3071530429339726, 1.2670593213968648, 1.1019370396558648, 1.0545470021735566, 0.52767583894246, 0.4866809808483784, 0.5740453027670107, 0.8504687248369667, 0.7944368169686519  …  0.4187972585053576, 1.13706442106527, 0.3291529646258974, 0.45573441636076867, 0.5082352475270825, 0.22729705783185936, 0.11024519603742337, 0.06395169326127717, 0.9740143507399314, 1.0203325756440231], 0.3804815053118115, 0.504270378108313, 0.43618589492547305, [0.4097872896612661, 0.5267317254564954, 0.6800368677332846, 0.8158092534395939, 0.668771500560883, 0.5381993838391615, 0.3931231915444895, 0.33953079873189435, 0.4462850892376416, 0.7017852347469293  …  0.7839436260532641, 1.0344606674473826, 0.9910912054693505, 0.9799346457545857, 0.6658741298666764, 0.41322528842217604, 0.36221083253357345, 0.5211723994730436, 0.7182907320319891, 0.8762836479456574], 0.5271450617977216, 0.5896219295638779, 0.23534860099151825, [0.3333333333333333, 0.0, 0.3333333333333333, 0.6666666666666666, 0.6666666666666666, 1.0, 0.6666666666666666, 0.3333333333333333, 0.6666666666666666, 1.0  …  1.0, 1.0, 1.0, 1.0, 1.0, 1.0, 1.0, 1.0, 1.0, 1.0], 1.0, 0.921, 0.2095043129381374), Metrics(100, [0.8031381038253849, 1.409003687020204, 1.3963778333999033, 1.4911282614912347, 1.328304664200612, 0.8395349741117019, 0.6606173519101938, 0.6747791386337612, 0.9912132859817409, 1.0579613314050056  …  0.014294845477484637, 0.5648053196723279, 0.37676448883937913, 0.5768511928735005, 0.5357273757863353, 0.1988461962959637, 0.18469016318651668, 0.4481014400139318, 1.1165899793513778, 1.1081130229274503], 0.3836107865761089, 0.5007986190026221, 0.4175490811214185, [0.45825619068291873, 0.5800857970826999, 0.7010881047044979, 0.7720391297607405, 0.6638460498016809, 0.5089976200957084, 0.4045581158664161, 0.37089921601016, 0.4707909079349085, 0.6951710207176693  …  0.7652109866214376, 1.0013169058926445, 0.9891822116272796, 0.8955237516421727, 0.6434272240734457, 0.41595372445212087, 0.43669112318324166, 0.5766729782680519, 0.7246930905109157, 0.939728624257374], 0.5248441527327959, 0.5896378025264348, 0.2374505360263129, [1.0, 0.0, 0.0, 0.6666666666666666, 0.3333333333333333, 1.0, 0.6666666666666666, 0.6666666666666666, 1.0, 1.0  …  1.0, 1.0, 1.0, 1.0, 1.0, 1.0, 1.0, 1.0, 0.6666666666666666, 1.0], 1.0, 0.9336666666666666, 0.1907770022800603), Metrics(100, [0.6102539095050975, 1.1317440069271847, 1.4546597151489309, 1.4292006950694582, 1.2771464589825625, 0.8565582340557056, 0.6681095324772833, 0.7717134067799359, 1.1002430519168411, 1.0655403208465164  …  0.12420446689359924, 0.5047701507802649, 0.7017243489053112, 0.783730246863878, 0.6232781667112947, 0.19393880454234932, 0.14093085934051175, 0.16730355181432993, 1.2078997217528957, 0.9295740608421441], 0.40653392006041955, 0.5334129241126021, 0.4670273871679635, [0.3905922725768534, 0.45677354851019747, 0.5997580175172116, 0.7310520735021482, 0.5545386148748233, 0.4602200180806471, 0.33962155641790887, 0.3163177239230505, 0.4331519734562305, 0.6234138072855566  …  0.7322594953015169, 0.9283427075137393, 0.9643189500298779, 0.9647215715470826, 0.6810312728124495, 0.4382167504006384, 0.40959949960957504, 0.5697696469985832, 0.8314649848709271, 0.8854844654703049], 0.5269128535779526, 0.5927363453046276, 0.2388416334799328, [0.3333333333333333, 0.0, 0.0, 0.3333333333333333, 0.3333333333333333, 0.6666666666666666, 0.6666666666666666, 0.3333333333333333, 0.0, 0.6666666666666666  …  1.0, 1.0, 1.0, 1.0, 1.0, 1.0, 1.0, 1.0, 1.0, 1.0], 1.0, 0.9093333333333332, 0.22291992080114653), Metrics(100, [0.827786273726193, 1.3723685448304306, 1.4097073570519862, 1.2142560287895374, 1.381458868890804, 0.8274490892586709, 0.6719675580241342, 0.7022436121411121, 0.9239496174886919, 0.8942489938596976  …  0.5771911219799433, 0.9647651841721602, 0.4170818030863909, 0.6524833665139478, 0.5908672501657696, 0.2513652493524729, 0.23257934365003338, 0.130903110228474, 1.1779638148099252, 0.6455035757236821], 0.3942468156842053, 0.5199241799035013, 0.4504605937738336, [0.4365607870146794, 0.5479575284619044, 0.7626685546672429, 0.8203255598701451, 0.7033614006853101, 0.5629608804134265, 0.4163973224565129, 0.3673834672406355, 0.43343599326297355, 0.6267839099236437  …  0.7710155090964007, 0.9941405227461113, 1.043854633120401, 0.9412399722046596, 0.6595526914502515, 0.40642535376434086, 0.37547504774710466, 0.5375639170888594, 0.7684541887372335, 0.8258396812347658], 0.5235933835388661, 0.5885029287176501, 0.2383540447314229, [0.3333333333333333, 0.0, 0.3333333333333333, 0.6666666666666666, 0.3333333333333333, 1.0, 0.6666666666666666, 0.3333333333333333, 0.3333333333333333, 1.0  …  1.0, 1.0, 1.0, 1.0, 1.0, 1.0, 1.0, 1.0, 1.0, 1.0], 1.0, 0.9223333333333332, 0.20787428164541175), Metrics(100, [0.7915120670867872, 1.4100156183342505, 1.3606740027671058, 1.4371525012962687, 1.3345721445507333, 0.7918962831469961, 0.6081536456240576, 0.618884657151416, 0.8402235418188272, 0.7473134316890784  …  0.1954705961831824, 0.6385514008512237, 0.5641997391545549, 0.7114346610587639, 0.6265206876694939, 0.29981702279888683, 0.2506851022648954, 0.058354819949129104, 0.8343832594881175, 0.28509375351476873], 0.37641850685736494, 0.49969396444547887, 0.42812530072858657, [0.494660399378695, 0.6621632225104467, 0.7798789673767585, 0.7866926853708837, 0.63691366642294, 0.5130031893731544, 0.3811705860071932, 0.36643740354018367, 0.49084497709653024, 0.6573909014047219  …  0.9489976568743442, 1.134806359349417, 1.1238814371312382, 1.0165537498350385, 0.7049255123635635, 0.46685595082190967, 0.4551694896590867, 0.6535892209674738, 0.8966670351412579, 0.8668019588440761], 0.5175643607082363, 0.5858817567540493, 0.2380343227612965, [0.6666666666666666, 0.0, 0.6666666666666666, 0.6666666666666666, 0.3333333333333333, 0.6666666666666666, 0.6666666666666666, 0.6666666666666666, 1.0, 1.0  …  1.0, 1.0, 1.0, 1.0, 1.0, 1.0, 1.0, 1.0, 1.0, 1.0], 1.0, 0.9221666666666667, 0.20335077299963936), Metrics(100, [0.6108720772659003, 1.1568933764754465, 1.316819015476522, 1.2945087118052205, 1.2621458789893232, 0.8438109950348892, 0.6424504985383405, 0.6642772835817345, 0.9189516622298685, 1.0808456981900187  …  0.5211823881060336, 0.896142886185079, 0.3629449976839304, 0.632898486840355, 0.4581792774768726, 0.2133391909854461, 0.14028431152529974, 0.07443957768020378, 0.6990963680856714, 0.6481660047983172], 0.381725855464077, 0.5128572125687121, 0.431573793939573, [0.3716990447161276, 0.46355420023636046, 0.6492173863521116, 0.7345094257660323, 0.6060958873427084, 0.5142440358330164, 0.3718802560575711, 0.3225012837578118, 0.40385579413115086, 0.6041046312011371  …  0.933952720091242, 1.0777278538624, 1.0905308526309434, 1.0679972103021247, 0.6490776182023623, 0.4194360844259423, 0.40127815203955697, 0.5135750130965742, 0.7314488525328534, 0.8203753780726655], 0.5150668420365764, 0.5803894140282366, 0.23505995217252157, [0.3333333333333333, 0.0, 0.0, 0.3333333333333333, 0.3333333333333333, 0.6666666666666666, 0.6666666666666666, 0.3333333333333333, 0.0, 0.6666666666666666  …  1.0, 1.0, 1.0, 1.0, 1.0, 1.0, 1.0, 1.0, 1.0, 1.0], 1.0, 0.9206666666666666, 0.20831367257570932), Metrics(100, [0.6890986807368734, 1.2823908873770002, 1.6979939228828662, 1.6221633681842231, 1.241009395644377, 0.7235082131185596, 0.6465726366958854, 0.8056262360155825, 1.2008860875836325, 1.2091965382264813  …  0.4691969323688759, 0.9924156975487081, 0.47156957505768377, 0.6354891019003254, 0.6699314339929565, 0.24553613417830858, 0.16826018646864635, 0.05910451357493404, 0.8352293731227765, 0.5372126528430543], 0.3797886646104647, 0.5226498884322662, 0.4488809144115609, [0.36497461241901835, 0.4616791837185995, 0.6859744099292899, 0.8068498119231389, 0.6428353204366449, 0.5254881905072998, 0.39707071963490986, 0.33219749029443724, 0.3819900303322489, 0.5899146457216279  …  0.8026249843552064, 1.0450804266103642, 1.0669489316640142, 0.9958217283492418, 0.6304453578380737, 0.42393590515226315, 0.41084241856664977, 0.5517229618420536, 0.703100896905828, 0.7847889350316207], 0.5274114594813577, 0.5876567579845082, 0.23495304282406862, [0.3333333333333333, 0.0, 0.0, 0.6666666666666666, 0.3333333333333333, 1.0, 0.6666666666666666, 0.3333333333333333, 0.0, 0.6666666666666666  …  1.0, 1.0, 1.0, 1.0, 1.0, 1.0, 1.0, 1.0, 1.0, 1.0], 1.0, 0.9075, 0.225270728742977), Metrics(100, [0.7542963865687805, 1.3383446829102312, 1.3818800218139649, 1.275133517029402, 1.4495476336262774, 0.8349880500547741, 0.6722554005356117, 0.7548410876052111, 1.1627626768445294, 1.083663853170317  …  0.3220992954956092, 0.6477699812627282, 0.5682383610067911, 0.7610749253810627, 0.4456531336740536, 0.11802221385142624, 0.07941227988603752, 0.18263600744324235, 1.5879898896691995, 1.3018089430599218], 0.3935759065820883, 0.5135834725247185, 0.43368907797000206, [0.37027067549035797, 0.49469728583210937, 0.6307843572066285, 0.6838677975163289, 0.5408622814111651, 0.4510907744662986, 0.3354309173360678, 0.3070870796151932, 0.4417392585341342, 0.6610638936245093  …  0.8499213784318326, 1.0066201653910505, 1.0431445425997263, 0.9363878832237558, 0.6442362218152973, 0.3929685163942404, 0.3610103080657917, 0.5315543157322713, 0.7627750940808968, 0.8492455023521421], 0.5179928792730775, 0.5799625378233206, 0.23713135035229405, [0.3333333333333333, 0.0, 0.3333333333333333, 0.6666666666666666, 0.3333333333333333, 0.6666666666666666, 0.6666666666666666, 0.3333333333333333, 0.0, 0.6666666666666666  …  1.0, 1.0, 1.0, 1.0, 1.0, 1.0, 1.0, 1.0, 0.0, 1.0], 1.0, 0.9081666666666667, 0.2257897656824179), Metrics(100, [0.6527074928067893, 1.3473540878362997, 1.5311679165450303, 1.5592228601936975, 1.126415190689615, 0.6149268302533117, 0.5734303871776228, 0.6935496654242747, 0.9934023685880223, 0.9017228785483894  …  0.3255222640016387, 0.729101561253158, 0.5542599843909517, 0.7947669123370592, 0.6799167233435707, 0.2925882422215184, 0.2219800181096664, 0.11884637454487777, 1.038515128575565, 0.6234845005243667], 0.3729419329578852, 0.5038169908062171, 0.4295582938041662, [0.4398703371925922, 0.5462246373497295, 0.6336467862974319, 0.765322683848758, 0.6276251130064584, 0.5231749972792131, 0.3747426742951746, 0.34220981904179476, 0.4345269305149489, 0.5908481484433283  …  0.8811469269835006, 0.9372763675203009, 1.1024286155576797, 0.9024130964283529, 0.6384903181381913, 0.3926149110048912, 0.3505780317045264, 0.48152080239178113, 0.7688135239785135, 0.8208966616339726], 0.5169945446736728, 0.5828919243338716, 0.2371988022621882, [0.6666666666666666, 0.0, 0.0, 0.3333333333333333, 0.6666666666666666, 1.0, 0.6666666666666666, 0.3333333333333333, 0.0, 1.0  …  1.0, 1.0, 1.0, 1.0, 1.0, 1.0, 1.0, 1.0, 1.0, 1.0], 1.0, 0.9161666666666666, 0.22072279837231393)]\n",
       " Metrics[Metrics(200, [0.6404734202538821, 1.2922551338805721, 1.5781697518238538, 1.4184614863691987, 1.3727595883951957, 1.011491668017132, 0.7583329366769158, 0.8129913602597181, 1.1612055241957822, 1.399034906754321  …  0.36082133402284594, 0.7952989953676255, 0.1556944580532931, 0.4767792281514275, 0.5107171258732829, 0.177639455572093, 0.15096888466883465, 0.04068964664264608, 0.7366624429971584, 0.6566275865244318], 0.3922073144829382, 0.5153458510050312, 0.458218987678848, [0.410352807665847, 0.5064452139322907, 0.6456167093033044, 0.7417880401751011, 0.5685472528564388, 0.4657599015184091, 0.34091047109734945, 0.30438315654384707, 0.43073871707767253, 0.6275912541368234  …  0.8170430223236983, 0.9160639900861085, 1.0540753049304161, 1.0375824589391145, 0.6643636544068365, 0.4197184869679524, 0.3846069410675686, 0.5168998135407415, 0.7281905610656346, 0.8889300230829815], 0.534980363821892, 0.5953353001499414, 0.23687565322955378, [0.6666666666666666, 0.0, 0.0, 0.6666666666666666, 0.3333333333333333, 0.3333333333333333, 0.3333333333333333, 0.3333333333333333, 0.0, 0.6666666666666666  …  1.0, 1.0, 1.0, 1.0, 1.0, 1.0, 1.0, 1.0, 1.0, 1.0], 1.0, 0.9146666666666666, 0.22027314890849725), Metrics(200, [0.7712836330353698, 1.4261985460927917, 1.4495244018328448, 1.373058559877034, 1.2213112328370652, 0.7974075688687755, 0.6626288731374363, 0.8276540988630532, 1.2348306631339578, 1.4627657537053453  …  0.16777424407812236, 0.9032767842037127, 0.25089612473292305, 0.47779075939741517, 0.510043383512724, 0.21572915488680228, 0.15632191951371427, 0.043530070149004965, 0.8038864096906306, 0.5930164574296047], 0.39176632984235704, 0.5232804446546355, 0.4712678096500231, [0.4526105456654206, 0.5720668497437014, 0.6997099337639182, 0.7936232953946349, 0.6092908121402935, 0.5019431708921988, 0.38435918981947687, 0.3523251157418137, 0.4421680719983503, 0.6491642962829675  …  0.9388037677852082, 0.989657039767266, 1.0477868704020565, 0.9143417609698915, 0.619929691131011, 0.4101553171229179, 0.4014166829106089, 0.548688583766642, 0.7261704277659861, 0.817626203570696], 0.5331803454519484, 0.5928395001320554, 0.23728078506407693, [0.3333333333333333, 0.0, 0.3333333333333333, 1.0, 0.3333333333333333, 0.6666666666666666, 0.6666666666666666, 0.3333333333333333, 0.0, 0.3333333333333333  …  1.0, 1.0, 1.0, 1.0, 1.0, 1.0, 1.0, 1.0, 1.0, 1.0], 1.0, 0.9185, 0.2100048171681763), Metrics(200, [0.5888348696640028, 1.1137355091399703, 1.390030986784518, 1.2872003737153805, 1.3097127282514902, 0.8969130724161625, 0.6858247980208342, 0.7095437234656969, 0.9813197800509783, 0.9576583235904097  …  0.4722064062407218, 0.8477741037370808, 0.5034087585671995, 0.7523449902652274, 0.6029242985566668, 0.2535507994768226, 0.10916251504297221, 0.18295146151111222, 1.1049185263557637, 0.7173316462874944], 0.37513600571876704, 0.49499895405799804, 0.42190984125327785, [0.3729155959691408, 0.4881074971731848, 0.6834001132007205, 0.7684888280855309, 0.6113849944335096, 0.4938866497133077, 0.3725478374119365, 0.3544032897653233, 0.45551862868783366, 0.6525565604441206  …  0.842784778267211, 0.9987814046002708, 1.0825358249603882, 0.9687918457692934, 0.6719785181605676, 0.4259807615655369, 0.39897193052216834, 0.5697420313517835, 0.8021344793349717, 0.9726149920753879], 0.5339317848586875, 0.5930235354998278, 0.23824778257147589, [0.3333333333333333, 0.0, 0.0, 0.6666666666666666, 0.3333333333333333, 0.6666666666666666, 0.6666666666666666, 0.3333333333333333, 0.0, 1.0  …  1.0, 1.0, 1.0, 1.0, 1.0, 1.0, 1.0, 1.0, 1.0, 1.0], 1.0, 0.9315, 0.19534626542383876), Metrics(200, [0.7916822909567464, 1.383498360717841, 1.742921801814723, 1.3909084208637716, 1.2682786794039904, 0.9418322127530958, 0.7861300619609003, 0.9791695554613264, 1.420448732103772, 1.643199924498061  …  0.3698671620784419, 0.901894746189119, 0.3840778372759286, 0.6355539965605816, 0.5117684303917234, 0.2555960972197587, 0.17990053211507623, 0.06452777370412013, 0.7289848782290145, 0.5234312901119088], 0.3708476479078854, 0.49079222549738577, 0.4236291156025462, [0.3888696093405355, 0.4930924553891117, 0.6688155550984207, 0.776306666645077, 0.6397645364039632, 0.5085785798797183, 0.3946850987759473, 0.3508373052372626, 0.42609295238836614, 0.6181448376249042  …  0.9211110305510377, 0.983068524275065, 1.1246884270426512, 0.9213565853470488, 0.6355645402235982, 0.4060124315802988, 0.3937699061047646, 0.5317771187789325, 0.7174945394520525, 0.9206510613663094], 0.5310848649133855, 0.5968062439037556, 0.23774540124397517, [0.3333333333333333, 0.0, 0.0, 0.3333333333333333, 0.3333333333333333, 0.6666666666666666, 0.6666666666666666, 0.3333333333333333, 0.0, 0.3333333333333333  …  1.0, 1.0, 1.0, 1.0, 1.0, 1.0, 1.0, 1.0, 1.0, 1.0], 1.0, 0.9363333333333332, 0.1884671617195804), Metrics(200, [0.7263431599681385, 1.3425402243399944, 1.7166982285842574, 1.594866620526396, 1.3369921374181422, 0.768462341932708, 0.6173949858342285, 0.7315553277550241, 1.099366527425154, 1.1510991384172182  …  0.15897547949697316, 0.7061869614091046, 0.45971578828497983, 0.6893720911742944, 0.581633650793699, 0.20781077773536952, 0.10403578806287687, 0.10426349676269124, 1.2518326921900957, 0.8475060847041943], 0.36869712823069667, 0.49171108363125154, 0.4149839348084058, [0.36887704280100664, 0.45719248676249746, 0.6680549710226752, 0.7223176446681799, 0.552784684618375, 0.43581593320766326, 0.3309784422371257, 0.3027089773746676, 0.3984297946943081, 0.5849408430574286  …  0.8421182881607711, 1.0695006784903471, 1.1380943728264263, 1.0473620779057995, 0.6919686978729862, 0.4641520880261155, 0.4389180134537266, 0.5858543579222869, 0.8429327530369483, 0.8927549815289546], 0.5337137321724301, 0.5947235495756885, 0.2385008008233569, [0.3333333333333333, 0.0, 0.0, 0.6666666666666666, 0.3333333333333333, 0.6666666666666666, 0.6666666666666666, 0.3333333333333333, 0.0, 0.6666666666666666  …  1.0, 1.0, 1.0, 1.0, 1.0, 1.0, 1.0, 1.0, 1.0, 1.0], 1.0, 0.9391666666666666, 0.18449538490516074), Metrics(200, [0.8128465874382345, 1.4272103747176121, 1.7151070657950884, 1.4935353868646362, 1.2611521144167397, 0.7262554860321065, 0.5917083633329042, 0.7226866178662292, 1.0468092859662783, 0.9214401850622899  …  0.5803951212679773, 0.9572723471318364, 0.45824364575544513, 0.6851576404932387, 0.6271653163269888, 0.24079450879405062, 0.15075693757910175, 0.08516215749666964, 0.9453836132070964, 0.6161356528129115], 0.3795908158328459, 0.49959713540595296, 0.4160714126075738, [0.37545014220975426, 0.472063351114094, 0.645677125047635, 0.7117814382167176, 0.5915656163552446, 0.49527387729149736, 0.3632625365364214, 0.31847948943374305, 0.41912270227340614, 0.6418749064733482  …  0.738186574609578, 0.9854392054260268, 1.1324767299771912, 1.005504281246186, 0.6619957595300244, 0.4138787019087191, 0.3753207252914433, 0.5058244888503509, 0.7389836950785069, 0.9122047081121153], 0.5176481578745553, 0.586111648226873, 0.23890822729556122, [0.3333333333333333, 0.0, 0.0, 0.3333333333333333, 0.3333333333333333, 0.6666666666666666, 0.6666666666666666, 0.3333333333333333, 0.0, 1.0  …  1.0, 1.0, 1.0, 1.0, 1.0, 1.0, 1.0, 1.0, 1.0, 1.0], 1.0, 0.9338333333333333, 0.19415554580222702), Metrics(200, [0.617334898708195, 1.188766152370391, 1.3844757188568952, 1.3735136750196797, 1.2480435484967474, 0.7969936031694163, 0.6363384160253944, 0.6920444284012492, 0.97703589681948, 1.1625170454658285  …  0.24749312777649307, 0.7870564989881963, 0.3399422010611987, 0.5573923192105905, 0.42530555466462744, 0.1594863354257497, 0.07425152636475915, 0.1045132488788166, 0.8175007211265927, 0.7294210753148266], 0.3844107791014373, 0.5059747072323332, 0.43091918811989155, [0.3929077406412393, 0.47105545052400444, 0.6184887928101132, 0.6801559555026055, 0.550712433622196, 0.4534950796645166, 0.34499029588805, 0.32215299608415365, 0.4241041084302843, 0.6211135150100221  …  0.7597862517041495, 0.9590405096167988, 1.0713044232789306, 0.8690945167219284, 0.6053861736569072, 0.3836252551375808, 0.3562660782163039, 0.4784100676393955, 0.6765883053678589, 0.8369056697800402], 0.5250746185295854, 0.589218390943108, 0.2379526556557129, [0.3333333333333333, 0.0, 0.0, 0.6666666666666666, 0.3333333333333333, 0.6666666666666666, 0.6666666666666666, 0.3333333333333333, 0.0, 0.6666666666666666  …  1.0, 1.0, 1.0, 1.0, 1.0, 1.0, 1.0, 1.0, 1.0, 1.0], 1.0, 0.9273333333333332, 0.20128982122650424), Metrics(200, [0.7401334301867435, 1.3550190662328963, 1.509701607976636, 1.3153455739527358, 1.2877845787762892, 0.7252584102161397, 0.6029198743340362, 0.7054178662768731, 1.066026798555492, 1.1082869082627869  …  0.12891639708997235, 0.7680849535519012, 0.507377533018278, 0.6771868434202455, 0.6532311475124938, 0.29197299902678897, 0.20979545479526213, 0.05154117938191983, 1.096561470381645, 0.6588719221656065], 0.38023704160485033, 0.4939816338787557, 0.41955580646016705, [0.43113623339806334, 0.542347415650047, 0.7086353719853825, 0.7071551345409065, 0.5958866408036343, 0.45908940416546984, 0.3284796104578168, 0.2998121556690062, 0.3937168464349506, 0.5904223781835751  …  0.7299700905370309, 0.9947034122265135, 1.0231066629232914, 0.8774871238742827, 0.6000070332431614, 0.3854555375362911, 0.37718406198818827, 0.5494328609992623, 0.8222295427405717, 0.8518660275401705], 0.5212437017503472, 0.5856607627320429, 0.23629989438135246, [0.3333333333333333, 0.0, 0.0, 0.3333333333333333, 0.3333333333333333, 0.6666666666666666, 0.6666666666666666, 0.3333333333333333, 0.0, 0.6666666666666666  …  1.0, 1.0, 1.0, 1.0, 1.0, 1.0, 1.0, 1.0, 1.0, 1.0], 1.0, 0.934, 0.1946411179700336), Metrics(200, [0.7457769509689025, 1.3020193268654585, 1.4870151574063986, 1.3927243871677342, 1.1830264665366301, 0.7642347432148745, 0.602191245233092, 0.6307881030985124, 0.8840649820255638, 0.49022750511322377  …  0.29493787404305755, 0.6817352229434531, 0.4453124858779561, 0.6234311108051659, 0.5959269824758108, 0.24643660243680635, 0.13881053052366232, 0.08863679959301383, 0.9523203215715389, 0.6750651945339519], 0.3791257778000772, 0.5013340735651863, 0.413804481026051, [0.3876532333873777, 0.4883655780370729, 0.6474648883920557, 0.7398344014660371, 0.5951692881413472, 0.47897786632545747, 0.36875915633195955, 0.33877674217135095, 0.4669873740179676, 0.6790594835585717  …  0.7201994405198803, 1.0365634865978304, 1.128384300099454, 0.9892017652071079, 0.6830289535573831, 0.4348949923655495, 0.3879756133150836, 0.5315749240643416, 0.7256309536340583, 0.8198272006022107], 0.5194536397684917, 0.5860206608902472, 0.2384992588330543, [0.3333333333333333, 0.0, 0.0, 0.3333333333333333, 0.3333333333333333, 0.6666666666666666, 0.6666666666666666, 0.3333333333333333, 0.3333333333333333, 1.0  …  1.0, 1.0, 1.0, 1.0, 1.0, 1.0, 1.0, 1.0, 1.0, 1.0], 1.0, 0.9356666666666666, 0.1864604377838376), Metrics(200, [0.6903353150424998, 1.215029964759273, 1.369433826301133, 1.386176556991666, 1.1009875471662556, 0.5842860821918112, 0.5072575343203639, 0.5596237851544346, 0.7177678838918449, 0.3553338299105529  …  0.2408564651980205, 0.5827306071579276, 0.5715851028525031, 0.676837864250157, 0.596268320704569, 0.22754002938859405, 0.15002884259980517, 0.1618333817858031, 0.9316631717407693, 0.5360745950722602], 0.37472295646143716, 0.487671704291269, 0.4074054223537311, [0.34955143200757016, 0.43042026330437644, 0.6224954239504845, 0.7423290353433306, 0.5991680669477044, 0.4880188109958504, 0.356506363766986, 0.330995503878554, 0.4899695240451941, 0.6469320991376342  …  0.7612177166695983, 1.0172311728906709, 1.1153571024646824, 0.9881191046019636, 0.7111922064825761, 0.45390258080072965, 0.42723459732800895, 0.5455982726539889, 0.7625027124475124, 0.8641364069594452], 0.5232713185998936, 0.5854300706398674, 0.23644796805591092, [0.3333333333333333, 0.0, 0.0, 0.3333333333333333, 0.3333333333333333, 1.0, 0.6666666666666666, 0.6666666666666666, 0.6666666666666666, 1.0  …  1.0, 1.0, 1.0, 1.0, 1.0, 1.0, 1.0, 1.0, 1.0, 1.0], 1.0, 0.9418333333333334, 0.1780113436376354), Metrics(200, [0.7980134371981585, 1.410583722569677, 1.3958490580421608, 1.1932131225938398, 1.1935625522024358, 0.7809891353116407, 0.6443208744938593, 0.7619468881016774, 1.079322825429765, 0.9303485847416789  …  0.21344218190532385, 0.7259261111954962, 0.6797066655698757, 0.7951582330202916, 0.6343183283725121, 0.2729603530442461, 0.15779677852547616, 0.17510677958240103, 1.139560715567318, 0.775371273285622], 0.366534307928669, 0.4927624029904508, 0.42599614067681846, [0.39810220703419247, 0.5312395220333593, 0.6755313732708843, 0.7828271113581086, 0.6058910310105453, 0.49252286548424884, 0.37180756323359754, 0.3359620755237877, 0.43297498983749666, 0.6642920344880838  …  0.8432418033836917, 1.039456674913905, 1.037529960313266, 0.9451301978253173, 0.6307589055338269, 0.4130328555897957, 0.3685642132316649, 0.5117550880163885, 0.7226805801112024, 0.8380481212610003], 0.5175504196517802, 0.583191731780546, 0.23777681579397458, [0.3333333333333333, 0.0, 0.3333333333333333, 1.0, 0.3333333333333333, 1.0, 0.6666666666666666, 0.3333333333333333, 0.0, 1.0  …  1.0, 1.0, 1.0, 1.0, 1.0, 1.0, 1.0, 1.0, 1.0, 1.0], 1.0, 0.9331666666666666, 0.19620652002227051)]\n",
       " Metrics[Metrics(400, [0.7634048923310862, 1.3805335660422184, 1.7157539850407904, 1.6527479734955213, 1.420715440462078, 0.9923867759318348, 0.7843813533260198, 0.9210586707093951, 1.3659353126446188, 1.5310111685384684  …  0.3005042982914732, 0.604756101998815, 0.42941926420580107, 0.6096624743089633, 0.4887791791926664, 0.20549635407497369, 0.11272970748049188, 0.1313633721464031, 0.8105634155772522, 0.6334516033675303], 0.36769775086438156, 0.49476314495336454, 0.4296301679629506, [0.4210373468850965, 0.5166878025985245, 0.6969306488685991, 0.7734041948685918, 0.6539967166623836, 0.5054966057286817, 0.3824569134940045, 0.34457763362371924, 0.43880149855845846, 0.6269137604032434  …  0.8016760742207809, 1.0273186176351863, 1.0875316179482473, 0.9329545317744256, 0.6344952622243507, 0.4079709465876498, 0.37977477877370747, 0.5119933814174225, 0.7349620940796383, 0.8460775904009696], 0.5396495470276428, 0.6047942967409123, 0.237938885263645, [0.3333333333333333, 0.0, 0.0, 0.6666666666666666, 0.3333333333333333, 0.6666666666666666, 0.6666666666666666, 0.3333333333333333, 0.0, 0.3333333333333333  …  1.0, 1.0, 1.0, 1.0, 1.0, 1.0, 1.0, 1.0, 1.0, 1.0], 1.0, 0.9436666666666667, 0.17782053707329706), Metrics(400, [0.6789742558179381, 1.226288185886156, 1.488767455146236, 1.2577000942804846, 1.1972361110575187, 0.8128148574065199, 0.7194949257129089, 0.9350483158630077, 1.3439848018980372, 1.4577581411702227  …  0.36859038250881154, 0.8649697421905276, 0.30791669785137693, 0.5680163818677454, 0.4836824040095257, 0.19117671509402046, 0.14201295671546868, 0.0360712751731626, 0.6711279596558354, 0.5591366191689056], 0.35949831190461645, 0.48378630563277114, 0.42582977235506764, [0.4171390949318395, 0.5251708276075271, 0.7206902604123255, 0.7993551652460248, 0.6725088983121289, 0.5302273177635399, 0.41997057441249125, 0.3891882055045318, 0.4738883440073068, 0.6407125306345499  …  0.8816143812231562, 1.0296743903930166, 1.096843485733439, 1.0081114610387605, 0.670648049260848, 0.4254283424251667, 0.39050997286214284, 0.5179741732360278, 0.7200357184094954, 0.8063558506229863], 0.5427857825878681, 0.606339165396373, 0.23958109641540903, [0.3333333333333333, 0.0, 0.0, 0.6666666666666666, 0.3333333333333333, 0.6666666666666666, 0.6666666666666666, 0.3333333333333333, 0.0, 0.3333333333333333  …  1.0, 1.0, 1.0, 1.0, 1.0, 1.0, 1.0, 1.0, 1.0, 1.0], 1.0, 0.946, 0.17413036183755845), Metrics(400, [0.818681306947214, 1.468182553077928, 1.5606246235058054, 1.2547952031132639, 1.324505322269215, 0.9094888556927417, 0.8310751551762685, 1.0499867597920645, 1.3874659599169674, 1.314704462156378  …  0.21572680283266987, 0.6329210729553627, 0.47835453291766095, 0.744864670104169, 0.6221735050288423, 0.25998308633134387, 0.18412480935878342, 0.05918391668271872, 0.8938746643520906, 0.8106041427745252], 0.36183246836952027, 0.49012981953579265, 0.42195618612820723, [0.4256419790422912, 0.5456464000361542, 0.7324882092957173, 0.8335610404072574, 0.7457147713260825, 0.5936678743517348, 0.4691158988488254, 0.45602544283316554, 0.5476420214348506, 0.6857597678793885  …  0.754231244145136, 0.9802550629017628, 1.0738638759299777, 0.9748359129221144, 0.6585445075731078, 0.4253992373551224, 0.40066280501844653, 0.5635947426516525, 0.7409619514294093, 0.865035938432003], 0.5409448390519873, 0.599754341283016, 0.23867034874571577, [0.3333333333333333, 0.0, 0.3333333333333333, 0.6666666666666666, 0.6666666666666666, 0.6666666666666666, 0.3333333333333333, 0.3333333333333333, 0.0, 0.6666666666666666  …  1.0, 1.0, 1.0, 1.0, 1.0, 1.0, 1.0, 1.0, 1.0, 1.0], 1.0, 0.9448333333333333, 0.17264088351127033), Metrics(400, [0.824201193826804, 1.4190483524423818, 1.5310835438911896, 1.4227991040031966, 1.370459704226408, 0.8846220580014944, 0.7672658121130953, 0.9174501539833924, 1.2832545457340176, 1.2299856425000069  …  0.2564346577044428, 0.7549799269901069, 0.4861220428924323, 0.599661897523462, 0.5463544022417481, 0.21090969558459544, 0.15001419804954955, 0.03017835013814352, 0.8729246441632353, 0.6671723666834768], 0.38913874316343183, 0.524045547439863, 0.4836231301933206, [0.4337447595873412, 0.5428347330971134, 0.7232981153287031, 0.8004311651256477, 0.7113503722504845, 0.5708244263098358, 0.46107965030028014, 0.43099271662261246, 0.5040611538176444, 0.7091214811533172  …  0.843227488325945, 1.0574123866758212, 1.118713064724226, 0.9845370599471265, 0.6850235756935986, 0.44638869441164564, 0.41599977434484403, 0.556840051082761, 0.761456567721354, 0.8177671523960601], 0.5440944806433594, 0.6034362282774622, 0.23898705016603106, [0.3333333333333333, 0.0, 0.3333333333333333, 0.6666666666666666, 0.3333333333333333, 0.6666666666666666, 0.6666666666666666, 0.3333333333333333, 0.0, 0.6666666666666666  …  1.0, 1.0, 1.0, 1.0, 1.0, 1.0, 1.0, 1.0, 1.0, 1.0], 1.0, 0.9258333333333334, 0.20848377093042675), Metrics(400, [0.7245470590933286, 1.3419269728560028, 1.5280236543371237, 1.423309444495281, 1.2813610579844332, 0.825073078830015, 0.6620274380159814, 0.7383216921514297, 1.0954206464116036, 0.9759180915349634  …  0.20340281804292248, 0.654493936829599, 0.5461221291889351, 0.7481454195469421, 0.585363001846415, 0.2303995536213574, 0.10448774317115808, 0.17066106001800507, 0.8804541419488384, 0.790461464057006], 0.38031356886848144, 0.5029034663521067, 0.44299044039579316, [0.4364690214465677, 0.5412264820845981, 0.7023985668574064, 0.7787459077358646, 0.6351283739720776, 0.5143186119591073, 0.38296063582686096, 0.3465299255576331, 0.44251582458978583, 0.6328079497216962  …  0.7752494345696084, 1.0121543060980513, 1.1190349888994957, 0.935233209569761, 0.6533053588871195, 0.41943629050998416, 0.3943068997980279, 0.5422725156536538, 0.7282788235743395, 0.8280013019034986], 0.5262366508098104, 0.5897303995542591, 0.23882023941223438, [0.6666666666666666, 0.0, 0.0, 0.6666666666666666, 0.3333333333333333, 0.6666666666666666, 0.6666666666666666, 0.3333333333333333, 0.0, 1.0  …  1.0, 1.0, 1.0, 1.0, 1.0, 1.0, 1.0, 1.0, 1.0, 1.0], 1.0, 0.9331666666666666, 0.1950700687481713), Metrics(400, [0.6642526258940454, 1.2334544550909827, 1.4174778452879149, 1.4275164985035884, 1.251874050600362, 0.7782890267932547, 0.6335158904023219, 0.7139972034076605, 1.0495499815714946, 1.0615444043330065  …  0.30672065007407673, 0.8390986241305253, 0.40983105762283484, 0.6144187017300061, 0.5195132653408312, 0.20983219387739513, 0.14913780387134248, 0.06742650846266289, 0.8581705118366486, 0.650103595061347], 0.37114764183072224, 0.49244671104209353, 0.4213647937013878, [0.4091321694863477, 0.5000741447894835, 0.6713552366739796, 0.7695207905251344, 0.6305058793635107, 0.49515117860418745, 0.3744651097524372, 0.35008052673826096, 0.4470023517871515, 0.6209530906002614  …  0.8750567242369817, 0.9777779408264269, 1.1000498148923892, 0.9163425417097221, 0.6306406743316001, 0.3973918812858971, 0.378441142100002, 0.5173902128708852, 0.7305986885983833, 0.8292756752233114], 0.5323115683482789, 0.5976708991466876, 0.23841859726326334, [0.3333333333333333, 0.0, 0.0, 0.3333333333333333, 0.3333333333333333, 0.6666666666666666, 0.6666666666666666, 0.3333333333333333, 0.0, 1.0  …  1.0, 1.0, 1.0, 1.0, 1.0, 1.0, 1.0, 1.0, 1.0, 1.0], 1.0, 0.9436666666666667, 0.17656578555088884), Metrics(400, [0.774518886055929, 1.4242533882616064, 1.6738973902015686, 1.5202214665047866, 1.39219452923514, 0.950629462476366, 0.8123113299854117, 0.9584961634755201, 1.3580807783024431, 1.2883258949262024  …  0.40544078504798686, 0.7274154922823476, 0.504983709780611, 0.7261149745173779, 0.6152442586893693, 0.2607038206708159, 0.1776026285464874, 0.049453677920865385, 0.9478449040922391, 0.7543571453750596], 0.3552050041497474, 0.4778571074794844, 0.4156642552989187, [0.4342676016431982, 0.5468410693651556, 0.7507965623357632, 0.8482877144140818, 0.717298227952378, 0.5574363047281273, 0.44582532743982833, 0.4379405824932862, 0.5148097056722114, 0.6676137921670923  …  0.8248602375796348, 1.0111999686572437, 1.0401447256391145, 0.9397211106825695, 0.6107293746350176, 0.4008370561032609, 0.3806843116318977, 0.5348535521038205, 0.7136412580206565, 0.7942039387017424], 0.5243228982870292, 0.589140733041713, 0.23666747926215556, [0.3333333333333333, 0.0, 0.0, 0.6666666666666666, 0.3333333333333333, 0.6666666666666666, 0.6666666666666666, 0.3333333333333333, 0.0, 0.6666666666666666  …  1.0, 1.0, 1.0, 1.0, 1.0, 1.0, 1.0, 1.0, 1.0, 1.0], 1.0, 0.9453333333333332, 0.1783402252754801), Metrics(400, [0.8002385070687404, 1.4212575614289387, 1.520213960279678, 1.2388916941042056, 1.197971401329884, 0.791254249524021, 0.6703948924147829, 0.7885866016486824, 1.0912415410841998, 1.1224672353143503  …  0.40410168607613467, 0.7446006468935316, 0.4794477806442869, 0.7619505323519423, 0.6111872641686155, 0.22570599810241254, 0.14020665251050785, 0.0729811519142911, 0.9971050278155599, 0.8194186175728307], 0.3672330222067774, 0.4930187824814159, 0.42943186845685005, [0.42677055090329746, 0.5309398457523944, 0.7241504038684851, 0.8127888611211388, 0.6577914519644444, 0.5176486627552384, 0.39933473248844015, 0.35755619565308966, 0.45306067113932996, 0.6395588992902297  …  0.7887215376249787, 1.0100090477385892, 1.0682907913409154, 0.9854901733504896, 0.645273223521085, 0.414872847745744, 0.4048870227468952, 0.5693970723633838, 0.7702313444223894, 0.8093348986455132], 0.5266409209738484, 0.5906347476636905, 0.23729690074983534, [0.3333333333333333, 0.0, 0.3333333333333333, 1.0, 0.3333333333333333, 0.6666666666666666, 0.6666666666666666, 0.3333333333333333, 0.0, 1.0  …  1.0, 1.0, 1.0, 1.0, 1.0, 1.0, 1.0, 1.0, 1.0, 1.0], 1.0, 0.9411666666666666, 0.18150482026014245), Metrics(400, [0.6884545126396662, 1.271902528901786, 1.5341005025016154, 1.28832881264304, 1.2556067581701338, 0.7536168341678668, 0.6825514776120737, 0.8498688149049142, 1.21937738685779, 1.2491196847034665  …  0.24148160053774204, 0.8472350010759374, 0.36448257315906685, 0.5849112009391968, 0.4783045011891437, 0.2025274267808332, 0.13499599655135647, 0.04109514434730463, 0.8806844752645873, 0.6705945685175857], 0.3621264297053214, 0.4880430867708043, 0.4211043163210891, [0.40368493412599865, 0.49380298773705195, 0.6754345117698561, 0.7666130719596544, 0.6346502823194773, 0.5008801067049854, 0.38720710101777595, 0.3409653711910667, 0.42680107564069353, 0.6366894499103225  …  0.8825436269181393, 1.000320051269996, 1.0542169544284283, 0.9211622702412472, 0.6243962228357532, 0.3980715899591734, 0.37226106759140554, 0.5072420876899522, 0.701401007565947, 0.8350715662070046], 0.5258517277431942, 0.5907602071402994, 0.2384839313467897, [0.3333333333333333, 0.0, 0.0, 0.3333333333333333, 0.3333333333333333, 1.0, 0.6666666666666666, 0.3333333333333333, 0.0, 0.6666666666666666  …  1.0, 1.0, 1.0, 1.0, 1.0, 1.0, 1.0, 1.0, 1.0, 1.0], 1.0, 0.9408333333333333, 0.17892823480982997), Metrics(400, [0.9000945023301228, 1.5966903439244093, 1.733330123117135, 1.47307671346171, 1.322199344459908, 0.835560547247874, 0.7761703574611707, 0.931948282939829, 1.2743907876905625, 1.0337302552952714  …  0.30582180738561315, 0.6642910992933752, 0.4949109515317381, 0.6806451505786734, 0.4914410512396889, 0.17237568025314576, 0.10381665654358638, 0.1176832640868933, 0.9345951284288261, 0.5862478936649735], 0.36352562642517977, 0.4877796062204072, 0.41636889999260523, [0.447836969805234, 0.5525602687320702, 0.6986396992518573, 0.807099737010326, 0.7098144141208852, 0.5649597029534513, 0.44600482531371044, 0.42897255447171456, 0.5187155831605251, 0.6743226068803905  …  0.7972291600792238, 0.98482874395616, 1.0856855649642154, 0.9374865049940754, 0.6481375135789261, 0.40934085177588814, 0.3894850089949666, 0.5306267416753414, 0.7164022474138713, 0.8181857215252307], 0.5253194208372839, 0.5907286547883815, 0.2370393353299378, [0.3333333333333333, 0.0, 0.0, 0.3333333333333333, 0.3333333333333333, 0.6666666666666666, 0.3333333333333333, 0.3333333333333333, 0.0, 1.0  …  1.0, 1.0, 1.0, 1.0, 1.0, 1.0, 1.0, 1.0, 1.0, 1.0], 1.0, 0.9411666666666666, 0.183029596650264), Metrics(400, [0.6795281976418893, 1.2980028843392322, 1.3839913340660333, 1.2524329535724936, 1.2988520318957053, 0.8259024940765013, 0.736215650321673, 0.8827117281926183, 1.193647723475081, 1.000845203127635  …  0.1901898951341165, 0.6380550127900046, 0.5869178162359442, 0.6995806853229901, 0.48234204702403843, 0.16420812275847763, 0.1612316502410831, 0.04856107025041976, 1.0561633878925398, 0.7664522628971897], 0.3680828328884373, 0.49113120346127564, 0.4172309283386589, [0.40171276285545515, 0.5118431888453683, 0.6953743558852513, 0.7702219856436162, 0.6798625676653263, 0.5454952884392611, 0.43148384067321743, 0.4090893766037015, 0.4935611093116841, 0.6501271849307334  …  0.8847800608321514, 1.0876777517324905, 1.0865699377358544, 0.9614175726861688, 0.679903129937348, 0.42752894788156653, 0.41046361414232874, 0.5570771894487306, 0.7757901687013413, 0.8368608731056943], 0.5284702633898646, 0.5896255424330109, 0.23901482220797823, [0.3333333333333333, 0.0, 0.3333333333333333, 0.6666666666666666, 0.3333333333333333, 0.6666666666666666, 0.3333333333333333, 0.3333333333333333, 0.0, 0.6666666666666666  …  1.0, 1.0, 1.0, 1.0, 1.0, 1.0, 1.0, 1.0, 1.0, 1.0], 1.0, 0.9383333333333332, 0.18646759198103935)]\n",
       " Metrics[Metrics(600, [0.7792927929630984, 1.3792977966557287, 1.5250222825943045, 1.3839014702826165, 1.26226216646555, 0.8349890737090909, 0.7032486658872704, 0.8375855919653655, 1.2356485470896394, 1.3366695265337871  …  0.32865588081256786, 0.768961831981315, 0.2997113036849984, 0.5498439100112769, 0.4669330307772746, 0.17605520246742695, 0.11437237316764366, 0.07470786988249214, 0.9575618869546064, 0.7489140125189108], 0.38360479673877623, 0.5098460630405631, 0.44278793932322746, [0.43202941207900286, 0.5337820841797342, 0.7096851234589395, 0.7931257989045548, 0.6494017108775412, 0.5092762844988139, 0.3987170211812199, 0.3706762778502857, 0.45819343689090974, 0.6327701930581978  …  0.851625157442585, 1.0195071036532362, 1.0808937326818593, 0.968960578558895, 0.6552246577971581, 0.41733228393774663, 0.39054013994032943, 0.5210972632031079, 0.7380222703061591, 0.8583662482984613], 0.5460325691623273, 0.6087646759097661, 0.23855874187303844, [0.3333333333333333, 0.0, 0.0, 0.6666666666666666, 0.3333333333333333, 0.6666666666666666, 0.6666666666666666, 0.3333333333333333, 0.0, 0.3333333333333333  …  1.0, 1.0, 1.0, 1.0, 1.0, 1.0, 1.0, 1.0, 1.0, 1.0], 1.0, 0.937, 0.18957282985121518), Metrics(600, [0.8086245038258053, 1.4338342538192463, 1.6078175458730368, 1.3949934568885327, 1.224694304339341, 0.8187679800075719, 0.7303920826696555, 0.9158501687610437, 1.3639748601700181, 1.3420057803892935  …  0.2527533420669613, 0.7155375935706966, 0.3907347450092357, 0.6187534647538506, 0.4591517900349874, 0.18208769627179522, 0.09755513593398328, 0.10055910742169881, 0.8338043386755807, 0.659260897503463], 0.38159465063621023, 0.5052114495512555, 0.43968399436259853, [0.42727532674936686, 0.5315506449168486, 0.714924660370199, 0.8111649697127987, 0.6652757821557347, 0.5281190062272213, 0.4104332417923075, 0.3794820979380471, 0.4611584417251108, 0.650501115458159  …  0.8492431017159705, 0.977239639255629, 1.102903745456288, 0.9470862402524463, 0.6450060431186804, 0.40700926285729166, 0.37090037175034746, 0.4980627580322318, 0.7142237032726526, 0.806699379499882], 0.5499147870291479, 0.6110035818172569, 0.23788446227306817, [0.3333333333333333, 0.0, 0.0, 1.0, 0.3333333333333333, 0.6666666666666666, 0.6666666666666666, 0.3333333333333333, 0.0, 0.6666666666666666  …  1.0, 1.0, 1.0, 1.0, 1.0, 1.0, 1.0, 1.0, 1.0, 1.0], 1.0, 0.9411666666666667, 0.17810436866799442), Metrics(600, [0.7505608118314783, 1.3631666245726668, 1.5700023974091832, 1.3727556936103453, 1.272087580341808, 0.8738497995238267, 0.7393070610569278, 0.9109416976230331, 1.3216427078633142, 1.371380698510987  …  0.2099843606940446, 0.6753152137844606, 0.4971496046636381, 0.7011781073375901, 0.5141761995328246, 0.18950927645755872, 0.09894407392130024, 0.09963887683099978, 0.9646724032524795, 0.8629305107609601], 0.390472490954215, 0.512328552121656, 0.4387747075560136, [0.41554692923858516, 0.5119987417797148, 0.6714644751356068, 0.766655548763675, 0.676983617386238, 0.538812216993726, 0.42003118473811774, 0.388894404806082, 0.4692756047687627, 0.6479996712865086  …  0.7797585756378869, 1.0301663371204046, 1.0687716666112026, 0.943179545054004, 0.645254011921519, 0.4245455753704207, 0.4003258384452271, 0.5375207397129604, 0.7213887284579261, 0.7986361771862753], 0.5403963953288269, 0.6059706995264863, 0.24044299123218488, [0.3333333333333333, 0.0, 0.0, 0.6666666666666666, 0.3333333333333333, 0.6666666666666666, 0.6666666666666666, 0.3333333333333333, 0.0, 0.3333333333333333  …  1.0, 1.0, 1.0, 1.0, 1.0, 1.0, 1.0, 1.0, 1.0, 1.0], 1.0, 0.938, 0.18304667813571918), Metrics(600, [0.8522448745082625, 1.5074419779253894, 1.771532296004033, 1.6485722373742109, 1.4409744124309505, 0.9541041518188923, 0.8332040418924205, 1.0212305699210824, 1.5305592756688142, 1.798357319363431  …  0.30161915689071334, 0.6912801107548437, 0.46879846524408053, 0.6979754795972419, 0.5135758467019487, 0.1975710770098584, 0.10867059349536745, 0.14645152903802247, 0.9504651261452878, 0.6831743272600272], 0.3741950287391175, 0.5037359849801402, 0.44491242047087226, [0.4235544110505984, 0.5246271806441589, 0.6794615005000573, 0.8181577970964363, 0.7068452887290944, 0.5578971520010303, 0.42855064457592806, 0.3847587585448636, 0.4590636837184181, 0.6362822985851921  …  0.79385898198573, 1.0183091311871304, 1.1023762472622816, 0.9653025176229261, 0.6591590839605979, 0.43157792528350997, 0.4064870910854403, 0.5408538166459914, 0.7525469516432417, 0.863753003561625], 0.5422354044744997, 0.6005132246533882, 0.23807597288912472, [0.3333333333333333, 0.0, 0.0, 0.3333333333333333, 0.3333333333333333, 0.6666666666666666, 0.3333333333333333, 0.3333333333333333, 0.0, 0.0  …  1.0, 1.0, 1.0, 1.0, 1.0, 1.0, 1.0, 1.0, 1.0, 1.0], 1.0, 0.9373333333333332, 0.18909636239941768), Metrics(600, [0.7493889829790201, 1.3734118126568924, 1.4940511487639316, 1.407812128384917, 1.4494493114592357, 0.8650473049461703, 0.7461679712070418, 0.901643082934449, 1.231621395393036, 1.1239812013680242  …  0.24941199277222087, 0.6608556244019638, 0.4507069805658641, 0.6201404827618564, 0.5291769786623981, 0.20477040745906994, 0.13824370004471984, 0.07845162329095258, 0.93768195957556, 0.6407164746903993], 0.37653526040306207, 0.5125824099279374, 0.4612005701543522, [0.4289769606979698, 0.54031294091063, 0.7340025214343378, 0.844219910123222, 0.7633075135401698, 0.5929117042177539, 0.48673455772938706, 0.49921671011718455, 0.5979394542472665, 0.7666498855532046  …  0.8518716878112483, 1.0667462299165016, 1.0675149008107576, 0.9650009511870665, 0.6754383899382329, 0.4412603346613381, 0.4179785467883629, 0.5722323824804131, 0.7601305036768198, 0.8763790722791905], 0.539181663229559, 0.5995467027010849, 0.23726629300255064, [0.3333333333333333, 0.0, 0.3333333333333333, 1.0, 0.3333333333333333, 0.6666666666666666, 0.6666666666666666, 0.3333333333333333, 0.0, 1.0  …  1.0, 1.0, 1.0, 1.0, 1.0, 1.0, 1.0, 1.0, 1.0, 1.0], 1.0, 0.9331666666666666, 0.195639119580755), Metrics(600, [0.8059097049807855, 1.5005231348997095, 1.730855786855671, 1.5210950288107676, 1.478596939707558, 0.9363262293157063, 0.8306965614165901, 0.9967827358739499, 1.3399820023676998, 1.2539934048105965  …  0.2349716067679609, 0.7445100316205855, 0.5965963610634373, 0.749103334363064, 0.621842040484778, 0.2714375200686492, 0.16508337741378606, 0.06416200264029683, 0.8807143870487009, 0.6838986779669552], 0.3769510650083753, 0.502081653320712, 0.43675735752736505, [0.4635855882592454, 0.5591962424282889, 0.7518062976485097, 0.8504944573949047, 0.7252783726054437, 0.5745485728322356, 0.46998058278535526, 0.4616338162674038, 0.5547837210738288, 0.7158313025321862  …  0.8450021640450769, 1.042436918389008, 1.0917384861074797, 0.9775635488841536, 0.6483289445815404, 0.41778067850791384, 0.39809650452161066, 0.5320306515207558, 0.7152576171161215, 0.8241524028284269], 0.5384509513315772, 0.6017918329433399, 0.2379318387307426, [0.3333333333333333, 0.0, 0.0, 0.6666666666666666, 0.3333333333333333, 0.6666666666666666, 0.6666666666666666, 0.3333333333333333, 0.0, 0.6666666666666666  …  1.0, 1.0, 1.0, 1.0, 1.0, 1.0, 1.0, 1.0, 1.0, 1.0], 1.0, 0.9426666666666665, 0.17998820359199014), Metrics(600, [0.839272762004245, 1.5744965791051024, 1.682999597922744, 1.5345353432266557, 1.42396312980778, 0.9532005724855043, 0.7751856339907676, 0.9318188886856765, 1.361007035312922, 1.3455509848269716  …  0.4368368717065889, 0.700156616970112, 0.4870494937188829, 0.6604946221088402, 0.49295376094200055, 0.20089357750970152, 0.1347424213991727, 0.06086554649543773, 0.7450092822382549, 0.5537597686415605], 0.3758948851378729, 0.5029563882057267, 0.44853682080488017, [0.42949185239587184, 0.5443025660660148, 0.6918373218005716, 0.7686755946898767, 0.6225290767513098, 0.4904107839738959, 0.36933149771434176, 0.33473027495993696, 0.4276629890595692, 0.5943853167390682  …  0.7972623250165672, 0.9936854776885259, 1.0542256036256177, 0.9281670050484265, 0.6275246089249678, 0.4077010679707504, 0.3830789346495244, 0.5183452584696966, 0.7334727747036603, 0.8558715961037362], 0.528782723583793, 0.5929427467023427, 0.23900019082881363, [0.3333333333333333, 0.0, 0.0, 0.3333333333333333, 0.3333333333333333, 0.6666666666666666, 0.6666666666666666, 0.3333333333333333, 0.0, 0.3333333333333333  …  1.0, 1.0, 1.0, 1.0, 1.0, 1.0, 1.0, 1.0, 1.0, 1.0], 1.0, 0.9351666666666667, 0.19143744767000906), Metrics(600, [0.825374331898085, 1.4699481548990205, 1.6330500947970754, 1.42832952843493, 1.2303002532197151, 0.7894673928910193, 0.6737342508687761, 0.8326914960876894, 1.19133321359069, 1.2591773202609724  …  0.24704907585333247, 0.6546666064355713, 0.5716489939495616, 0.6867872456711269, 0.5406105696576119, 0.19184785961759873, 0.11373245961031886, 0.0744843118007244, 0.9559942534900332, 0.6035893563169299], 0.36817654164680946, 0.4875795915112685, 0.4230364583716925, [0.4162752729144565, 0.5144987821308211, 0.7019913139256594, 0.7756679805076062, 0.6212766306479471, 0.4918395719396388, 0.37859534946302137, 0.33875045973917545, 0.4210369329540125, 0.5884005442445388  …  0.8590102627185091, 1.054384138632276, 1.074948337792095, 1.0052899713184318, 0.6874045715376484, 0.4309946549715389, 0.39345059913272595, 0.5270486258864158, 0.7351561959419445, 0.8351200822416092], 0.5317227379524023, 0.5936807528973639, 0.23790383064194534, [0.3333333333333333, 0.0, 0.3333333333333333, 0.3333333333333333, 0.3333333333333333, 0.6666666666666666, 0.6666666666666666, 0.3333333333333333, 0.0, 0.3333333333333333  …  1.0, 1.0, 1.0, 1.0, 1.0, 1.0, 1.0, 1.0, 1.0, 1.0], 1.0, 0.9438333333333333, 0.1739233138598632), Metrics(600, [0.669669000592261, 1.2291280920751728, 1.3795830451402185, 1.2785808109544254, 1.1893862288661579, 0.6238793159843234, 0.5325949683808173, 0.6454212394391446, 0.9204131988891255, 0.7735792519069019  …  0.3024075098419054, 0.7185969112374176, 0.60788418221357, 0.8036793572511642, 0.614615558649765, 0.24153908369044438, 0.15612427211825522, 0.10080809819260045, 1.1637720973807044, 0.8074368097940007], 0.37517634102982206, 0.4960525833034431, 0.4204909367118486, [0.39664077176758156, 0.5006909611887566, 0.711610600698194, 0.7793792404456955, 0.6627415922369463, 0.5218194642221793, 0.38651674616270504, 0.3519492986868256, 0.46586997729678853, 0.6586749975304947  …  0.7818969140728432, 1.037555584124834, 1.0827758068690774, 0.9298388946109546, 0.62504089455744, 0.40578013597029233, 0.39574369408792026, 0.5546425716318856, 0.7901691353797096, 0.8898334884594461], 0.5352004262178844, 0.5961015486586075, 0.23818027567474276, [0.3333333333333333, 0.0, 0.3333333333333333, 1.0, 0.6666666666666666, 1.0, 0.6666666666666666, 0.3333333333333333, 0.3333333333333333, 1.0  …  1.0, 1.0, 1.0, 1.0, 1.0, 1.0, 1.0, 1.0, 1.0, 1.0], 1.0, 0.945, 0.1769858619523008), Metrics(600, [0.8735527252559511, 1.544724098992747, 1.6950797862275508, 1.4283603692201448, 1.4074904887629902, 0.8812292336619217, 0.7914387518737321, 1.0246179510330784, 1.4257619219618873, 1.308575039427477  …  0.36361665076943483, 0.7476588171711189, 0.5593874332837196, 0.738016060407562, 0.6278002591538643, 0.24156729812086342, 0.13580649678784554, 0.06612128760081112, 1.0653464368499221, 0.8115044109900942], 0.3645157358195106, 0.486502339026728, 0.4184847471176542, [0.42520799893243316, 0.5375891472782345, 0.7053131140437651, 0.8169667526456522, 0.7008129550909379, 0.5623265706019315, 0.4490605586745831, 0.4223866377290834, 0.5035345891800151, 0.6922740527171976  …  0.8615310072113667, 1.0432608820457367, 1.0718052066814772, 0.9697104785261911, 0.6514849898037173, 0.4131188292484361, 0.3836477550360615, 0.5261197046841654, 0.7209816161078041, 0.8152127843584288], 0.5325381475487784, 0.5957772167232389, 0.23912954731467265, [0.3333333333333333, 0.0, 0.0, 0.6666666666666666, 0.3333333333333333, 0.6666666666666666, 0.3333333333333333, 0.3333333333333333, 0.0, 0.6666666666666666  …  1.0, 1.0, 1.0, 1.0, 1.0, 1.0, 1.0, 1.0, 1.0, 1.0], 1.0, 0.9473333333333332, 0.17132428122715807), Metrics(600, [0.7482750070925108, 1.3495046854918418, 1.3996578972287363, 1.3226757089078907, 1.241867501331207, 0.7615763167211947, 0.6407104481672997, 0.7536241150532407, 1.0699261914757552, 0.9848889425115896  …  0.4534773429481189, 0.8704704094694222, 0.4530808635355021, 0.7609936049657715, 0.6427682706896897, 0.2586725410944408, 0.18617393452507644, 0.06286993152356932, 0.8473964482872705, 0.5756377580569076], 0.3656507247278698, 0.4874273248270539, 0.41372136297802803, [0.41693141109106846, 0.5155352892564864, 0.6692438601505629, 0.7440520149249493, 0.6021787973152748, 0.48406075738812565, 0.36902562308345094, 0.34224559206999733, 0.441239468862583, 0.6284463585600427  …  0.8033531318950663, 0.9737093455054756, 1.0502514998820869, 0.9291695445308964, 0.6495546169892582, 0.4097880843313978, 0.37808855811274056, 0.5162358962017456, 0.7383415679109475, 0.8093500303304165], 0.5233012958278687, 0.5885376717610057, 0.23779884757888536, [0.3333333333333333, 0.0, 0.3333333333333333, 0.6666666666666666, 0.3333333333333333, 0.6666666666666666, 0.6666666666666666, 0.3333333333333333, 0.0, 1.0  …  1.0, 1.0, 1.0, 1.0, 1.0, 1.0, 1.0, 1.0, 1.0, 1.0], 1.0, 0.9435, 0.1785475991945695)]"
      ]
     },
     "execution_count": 35,
     "metadata": {},
     "output_type": "execute_result"
    }
   ],
   "source": [
    "metric_srmf0 = benchmark_srmf_lorenz96(model, data, path, Ne_array, β_array, p);"
   ]
  },
  {
   "cell_type": "code",
   "execution_count": 36,
   "metadata": {},
   "outputs": [],
   "source": [
    "# save(path*\"metric_srmf\"*string(p)*\".jld\", \"metric\", metric_srmf0)"
   ]
  },
  {
   "cell_type": "markdown",
   "metadata": {},
   "source": [
    "p = 1"
   ]
  },
  {
   "cell_type": "code",
   "execution_count": 48,
   "metadata": {},
   "outputs": [
    {
     "data": {
      "text/plain": [
       "1"
      ]
     },
     "execution_count": 48,
     "metadata": {},
     "output_type": "execute_result"
    }
   ],
   "source": [
    "p = 1"
   ]
  },
  {
   "cell_type": "code",
   "execution_count": null,
   "metadata": {
    "scrolled": true
   },
   "outputs": [
    {
     "name": "stdout",
     "output_type": "stream",
     "text": [
      "(Ne, β) = (40, 0.95)\n"
     ]
    },
    {
     "name": "stderr",
     "output_type": "stream",
     "text": [
      "\u001b[32mProgress: 100%|█████████████████████████████████████████| Time: 0:00:07\u001b[39m\n"
     ]
    },
    {
     "name": "stdout",
     "output_type": "stream",
     "text": [
      "  7.667425 seconds (111.02 M allocations: 8.373 GiB, 9.97% gc time)\n",
      "Ne = 40\n",
      "Ne 40& β 0.95 RMSE: 0.5623248141706708\n",
      "(Ne, β) = (40, 0.96)\n"
     ]
    },
    {
     "name": "stderr",
     "output_type": "stream",
     "text": [
      "\u001b[32mProgress: 100%|█████████████████████████████████████████| Time: 0:00:07\u001b[39m\n"
     ]
    },
    {
     "name": "stdout",
     "output_type": "stream",
     "text": [
      "  7.624376 seconds (110.84 M allocations: 8.353 GiB, 10.11% gc time)\n",
      "Ne = 40\n",
      "Ne 40& β 0.96 RMSE: 0.4917612606791061\n",
      "(Ne, β) = (40, 0.97)\n"
     ]
    },
    {
     "name": "stderr",
     "output_type": "stream",
     "text": [
      "\u001b[32mProgress: 100%|█████████████████████████████████████████| Time: 0:00:07\u001b[39m\n"
     ]
    },
    {
     "name": "stdout",
     "output_type": "stream",
     "text": [
      "  7.891116 seconds (110.86 M allocations: 8.356 GiB, 9.91% gc time)\n",
      "Ne = 40\n",
      "Ne 40& β 0.97 RMSE: 0.5845770453146859\n",
      "(Ne, β) = (40, 0.98)\n"
     ]
    },
    {
     "name": "stderr",
     "output_type": "stream",
     "text": [
      "\u001b[32mProgress: 100%|█████████████████████████████████████████| Time: 0:00:07\u001b[39m\n"
     ]
    },
    {
     "name": "stdout",
     "output_type": "stream",
     "text": [
      "  7.921631 seconds (110.81 M allocations: 8.350 GiB, 9.92% gc time)\n",
      "Ne = 40\n",
      "Ne 40& β 0.98 RMSE: 0.5318018398396814\n",
      "(Ne, β) = (40, 0.99)\n"
     ]
    },
    {
     "name": "stderr",
     "output_type": "stream",
     "text": [
      "\u001b[32mProgress: 100%|█████████████████████████████████████████| Time: 0:00:07\u001b[39m\n"
     ]
    },
    {
     "name": "stdout",
     "output_type": "stream",
     "text": [
      "  7.735802 seconds (110.88 M allocations: 8.358 GiB, 10.01% gc time)\n",
      "Ne = 40\n",
      "Ne 40& β 0.99 RMSE: 0.5746864751586602\n",
      "(Ne, β) = (40, 1.0)\n"
     ]
    },
    {
     "name": "stderr",
     "output_type": "stream",
     "text": [
      "\u001b[32mProgress: 100%|█████████████████████████████████████████| Time: 0:00:07\u001b[39m\n"
     ]
    },
    {
     "name": "stdout",
     "output_type": "stream",
     "text": [
      "  7.649936 seconds (110.88 M allocations: 8.359 GiB, 10.13% gc time)\n",
      "Ne = 40\n",
      "Ne 40& β 1.0 RMSE: 0.581137227946256\n",
      "(Ne, β) = (40, 1.01)\n"
     ]
    },
    {
     "name": "stderr",
     "output_type": "stream",
     "text": [
      "\u001b[32mProgress: 100%|█████████████████████████████████████████| Time: 0:00:07\u001b[39m\n"
     ]
    },
    {
     "name": "stdout",
     "output_type": "stream",
     "text": [
      "  7.680651 seconds (110.81 M allocations: 8.351 GiB, 10.10% gc time)\n",
      "Ne = 40\n",
      "Ne 40& β 1.01 RMSE: 0.5802912242184655\n",
      "(Ne, β) = (40, 1.02)\n"
     ]
    },
    {
     "name": "stderr",
     "output_type": "stream",
     "text": [
      "\u001b[32mProgress: 100%|█████████████████████████████████████████| Time: 0:00:07\u001b[39m\n"
     ]
    },
    {
     "name": "stdout",
     "output_type": "stream",
     "text": [
      "  7.680975 seconds (110.82 M allocations: 8.352 GiB, 10.03% gc time)\n",
      "Ne = 40\n",
      "Ne 40& β 1.02 RMSE: 0.5842428038771182\n",
      "(Ne, β) = (40, 1.03)\n"
     ]
    },
    {
     "name": "stderr",
     "output_type": "stream",
     "text": [
      "\u001b[32mProgress: 100%|█████████████████████████████████████████| Time: 0:00:07\u001b[39m\n"
     ]
    },
    {
     "name": "stdout",
     "output_type": "stream",
     "text": [
      "  7.656764 seconds (110.76 M allocations: 8.345 GiB, 10.16% gc time)\n",
      "Ne = 40\n",
      "Ne 40& β 1.03 RMSE: 0.544519165465752\n",
      "(Ne, β) = (40, 1.04)\n"
     ]
    },
    {
     "name": "stderr",
     "output_type": "stream",
     "text": [
      "\u001b[32mProgress: 100%|█████████████████████████████████████████| Time: 0:00:07\u001b[39m\n"
     ]
    },
    {
     "name": "stdout",
     "output_type": "stream",
     "text": [
      "  7.835762 seconds (110.75 M allocations: 8.345 GiB, 10.02% gc time)\n",
      "Ne = 40\n",
      "Ne 40& β 1.04 RMSE: 0.5361096521837307\n",
      "(Ne, β) = (40, 1.05)\n"
     ]
    },
    {
     "name": "stderr",
     "output_type": "stream",
     "text": [
      "\u001b[32mProgress: 100%|█████████████████████████████████████████| Time: 0:00:07\u001b[39m\n"
     ]
    },
    {
     "name": "stdout",
     "output_type": "stream",
     "text": [
      "  7.763649 seconds (110.75 M allocations: 8.344 GiB, 10.14% gc time)\n",
      "Ne = 40\n",
      "Ne 40& β 1.05 RMSE: 0.5956278959780005\n",
      "(Ne, β) = (60, 0.95)\n"
     ]
    },
    {
     "name": "stderr",
     "output_type": "stream",
     "text": [
      "\u001b[32mProgress: 100%|█████████████████████████████████████████| Time: 0:00:11\u001b[39m\n"
     ]
    },
    {
     "name": "stdout",
     "output_type": "stream",
     "text": [
      " 11.025565 seconds (161.95 M allocations: 12.234 GiB, 10.37% gc time)\n",
      "Ne = 60\n",
      "Ne 60& β 0.95 RMSE: 0.4879559952393195\n",
      "(Ne, β) = (60, 0.96)\n"
     ]
    },
    {
     "name": "stderr",
     "output_type": "stream",
     "text": [
      "\u001b[32mProgress: 100%|█████████████████████████████████████████| Time: 0:00:11\u001b[39m\n"
     ]
    },
    {
     "name": "stdout",
     "output_type": "stream",
     "text": [
      " 11.071790 seconds (161.86 M allocations: 12.224 GiB, 10.27% gc time)\n",
      "Ne = 60\n",
      "Ne 60& β 0.96 RMSE: 0.4819087522891751\n",
      "(Ne, β) = (60, 0.97)\n"
     ]
    },
    {
     "name": "stderr",
     "output_type": "stream",
     "text": [
      "\u001b[32mProgress: 100%|█████████████████████████████████████████| Time: 0:00:11\u001b[39m\n"
     ]
    },
    {
     "name": "stdout",
     "output_type": "stream",
     "text": [
      " 11.062126 seconds (161.87 M allocations: 12.225 GiB, 10.28% gc time)\n",
      "Ne = 60\n",
      "Ne 60& β 0.97 RMSE: 0.478301359836504\n",
      "(Ne, β) = (60, 0.98)\n"
     ]
    },
    {
     "name": "stderr",
     "output_type": "stream",
     "text": [
      "\u001b[32mProgress: 100%|█████████████████████████████████████████| Time: 0:00:11\u001b[39m\n"
     ]
    },
    {
     "name": "stdout",
     "output_type": "stream",
     "text": [
      " 11.119651 seconds (161.87 M allocations: 12.225 GiB, 10.49% gc time)\n",
      "Ne = 60\n",
      "Ne 60& β 0.98 RMSE: 0.48291854735733375\n",
      "(Ne, β) = (60, 0.99)\n"
     ]
    },
    {
     "name": "stderr",
     "output_type": "stream",
     "text": [
      "\u001b[32mProgress: 100%|█████████████████████████████████████████| Time: 0:00:11\u001b[39m\n"
     ]
    },
    {
     "name": "stdout",
     "output_type": "stream",
     "text": [
      " 11.069329 seconds (161.89 M allocations: 12.227 GiB, 10.38% gc time)\n",
      "Ne = 60\n",
      "Ne 60& β 0.99 RMSE: 0.4990421807322532\n",
      "(Ne, β) = (60, 1.0)\n"
     ]
    },
    {
     "name": "stderr",
     "output_type": "stream",
     "text": [
      "\u001b[32mProgress: 100%|█████████████████████████████████████████| Time: 0:00:11\u001b[39m\n"
     ]
    },
    {
     "name": "stdout",
     "output_type": "stream",
     "text": [
      " 11.118146 seconds (161.83 M allocations: 12.220 GiB, 10.40% gc time)\n",
      "Ne = 60\n",
      "Ne 60& β 1.0 RMSE: 0.478326813422962\n",
      "(Ne, β) = (60, 1.01)\n"
     ]
    },
    {
     "name": "stderr",
     "output_type": "stream",
     "text": [
      "\u001b[32mProgress: 100%|█████████████████████████████████████████| Time: 0:00:11\u001b[39m\n"
     ]
    },
    {
     "name": "stdout",
     "output_type": "stream",
     "text": [
      " 11.120103 seconds (161.59 M allocations: 12.193 GiB, 10.49% gc time)\n",
      "Ne = 60\n",
      "Ne 60& β 1.01 RMSE: 0.4722594292551183\n",
      "(Ne, β) = (60, 1.02)\n"
     ]
    },
    {
     "name": "stderr",
     "output_type": "stream",
     "text": [
      "\u001b[32mProgress: 100%|█████████████████████████████████████████| Time: 0:00:11\u001b[39m\n"
     ]
    },
    {
     "name": "stdout",
     "output_type": "stream",
     "text": [
      " 11.054476 seconds (161.54 M allocations: 12.186 GiB, 10.53% gc time)\n",
      "Ne = 60\n",
      "Ne 60& β 1.02 RMSE: 0.48907221118635197\n",
      "(Ne, β) = (60, 1.03)\n"
     ]
    },
    {
     "name": "stderr",
     "output_type": "stream",
     "text": [
      "\u001b[32mProgress: 100%|█████████████████████████████████████████| Time: 0:00:11\u001b[39m\n"
     ]
    },
    {
     "name": "stdout",
     "output_type": "stream",
     "text": [
      " 11.081592 seconds (161.62 M allocations: 12.196 GiB, 10.55% gc time)\n",
      "Ne = 60\n",
      "Ne 60& β 1.03 RMSE: 0.457797013054088\n",
      "(Ne, β) = (60, 1.04)\n"
     ]
    },
    {
     "name": "stderr",
     "output_type": "stream",
     "text": [
      "\u001b[32mProgress: 100%|█████████████████████████████████████████| Time: 0:00:11\u001b[39m\n"
     ]
    },
    {
     "name": "stdout",
     "output_type": "stream",
     "text": [
      " 11.090481 seconds (161.50 M allocations: 12.182 GiB, 10.52% gc time)\n",
      "Ne = 60\n",
      "Ne 60& β 1.04 RMSE: 0.5318105426043906\n",
      "(Ne, β) = (60, 1.05)\n"
     ]
    },
    {
     "name": "stderr",
     "output_type": "stream",
     "text": [
      "\u001b[32mProgress: 100%|█████████████████████████████████████████| Time: 0:00:11\u001b[39m\n",
      "\u001b[32mProgress:  33%|█████████████▋                           |  ETA: 0:06:55\u001b[39m"
     ]
    },
    {
     "name": "stdout",
     "output_type": "stream",
     "text": [
      " 11.248853 seconds (161.55 M allocations: 12.188 GiB, 10.50% gc time)\n",
      "Ne = 60\n",
      "Ne 60& β 1.05 RMSE: 0.49618804152434237\n",
      "(Ne, β) = (100, 0.95)\n"
     ]
    },
    {
     "name": "stderr",
     "output_type": "stream",
     "text": [
      "\u001b[32mProgress: 100%|█████████████████████████████████████████| Time: 0:00:18\u001b[39m\n"
     ]
    },
    {
     "name": "stdout",
     "output_type": "stream",
     "text": [
      " 18.145871 seconds (264.47 M allocations: 19.981 GiB, 10.86% gc time)\n",
      "Ne = 100\n",
      "Ne 100& β 0.95 RMSE: 0.4438206736350277\n",
      "(Ne, β) = (100, 0.96)\n"
     ]
    },
    {
     "name": "stderr",
     "output_type": "stream",
     "text": [
      "\u001b[32mProgress: 100%|█████████████████████████████████████████| Time: 0:00:18\u001b[39m\n"
     ]
    },
    {
     "name": "stdout",
     "output_type": "stream",
     "text": [
      " 18.798015 seconds (265.07 M allocations: 20.054 GiB, 10.72% gc time)\n",
      "Ne = 100\n",
      "Ne 100& β 0.96 RMSE: 0.4212259759099898\n",
      "(Ne, β) = (100, 0.97)\n"
     ]
    },
    {
     "name": "stderr",
     "output_type": "stream",
     "text": [
      "\u001b[32mProgress: 100%|█████████████████████████████████████████| Time: 0:00:18\u001b[39m\n"
     ]
    },
    {
     "name": "stdout",
     "output_type": "stream",
     "text": [
      " 18.915244 seconds (264.22 M allocations: 19.950 GiB, 10.62% gc time)\n",
      "Ne = 100\n",
      "Ne 100& β 0.97 RMSE: 0.45166673565601345\n",
      "(Ne, β) = (100, 0.98)\n"
     ]
    },
    {
     "name": "stderr",
     "output_type": "stream",
     "text": [
      "\u001b[32mProgress: 100%|█████████████████████████████████████████| Time: 0:00:17\u001b[39m\n"
     ]
    },
    {
     "name": "stdout",
     "output_type": "stream",
     "text": [
      " 17.893985 seconds (264.34 M allocations: 19.965 GiB, 11.46% gc time)\n",
      "Ne = 100\n",
      "Ne 100& β 0.98 RMSE: 0.4121970343112929\n",
      "(Ne, β) = (100, 0.99)\n"
     ]
    },
    {
     "name": "stderr",
     "output_type": "stream",
     "text": [
      "\u001b[32mProgress: 100%|█████████████████████████████████████████| Time: 0:00:16\u001b[39m\n"
     ]
    },
    {
     "name": "stdout",
     "output_type": "stream",
     "text": [
      " 16.259807 seconds (264.42 M allocations: 19.974 GiB, 10.06% gc time)\n",
      "Ne = 100\n",
      "Ne 100& β 0.99 RMSE: 0.42870400121679747\n",
      "(Ne, β) = (100, 1.0)\n"
     ]
    },
    {
     "name": "stderr",
     "output_type": "stream",
     "text": [
      "\u001b[32mProgress: 100%|█████████████████████████████████████████| Time: 0:00:16\u001b[39m\n"
     ]
    },
    {
     "name": "stdout",
     "output_type": "stream",
     "text": [
      " 16.261182 seconds (264.04 M allocations: 19.928 GiB, 9.91% gc time)\n",
      "Ne = 100\n",
      "Ne 100& β 1.0 RMSE: 0.4354943835075654\n",
      "(Ne, β) = (100, 1.01)\n"
     ]
    },
    {
     "name": "stderr",
     "output_type": "stream",
     "text": [
      "\u001b[32mProgress: 100%|█████████████████████████████████████████| Time: 0:00:16\u001b[39m\n"
     ]
    },
    {
     "name": "stdout",
     "output_type": "stream",
     "text": [
      " 16.512607 seconds (264.20 M allocations: 19.947 GiB, 9.79% gc time)\n",
      "Ne = 100\n",
      "Ne 100& β 1.01 RMSE: 0.4506752976542269\n",
      "(Ne, β) = (100, 1.02)\n"
     ]
    },
    {
     "name": "stderr",
     "output_type": "stream",
     "text": [
      "\u001b[32mProgress: 100%|█████████████████████████████████████████| Time: 0:00:16\u001b[39m\n"
     ]
    },
    {
     "name": "stdout",
     "output_type": "stream",
     "text": [
      " 16.389107 seconds (264.42 M allocations: 19.975 GiB, 9.84% gc time)\n",
      "Ne = 100\n",
      "Ne 100& β 1.02 RMSE: 0.4605251637920305\n",
      "(Ne, β) = (100, 1.03)\n"
     ]
    },
    {
     "name": "stderr",
     "output_type": "stream",
     "text": [
      "\u001b[32mProgress: 100%|█████████████████████████████████████████| Time: 0:00:16\u001b[39m\n"
     ]
    },
    {
     "name": "stdout",
     "output_type": "stream",
     "text": [
      " 16.579646 seconds (263.97 M allocations: 19.920 GiB, 9.94% gc time)\n",
      "Ne = 100\n",
      "Ne 100& β 1.03 RMSE: 0.46006620302061807\n",
      "(Ne, β) = (100, 1.04)\n"
     ]
    },
    {
     "name": "stderr",
     "output_type": "stream",
     "text": [
      "\u001b[32mProgress: 100%|█████████████████████████████████████████| Time: 0:00:16\u001b[39m\n"
     ]
    },
    {
     "name": "stdout",
     "output_type": "stream",
     "text": [
      " 16.659206 seconds (263.88 M allocations: 19.908 GiB, 9.80% gc time)\n",
      "Ne = 100\n",
      "Ne 100& β 1.04 RMSE: 0.4313246416345271\n",
      "(Ne, β) = (100, 1.05)\n"
     ]
    },
    {
     "name": "stderr",
     "output_type": "stream",
     "text": [
      "\u001b[32mProgress: 100%|█████████████████████████████████████████| Time: 0:00:16\u001b[39m\n"
     ]
    },
    {
     "name": "stdout",
     "output_type": "stream",
     "text": [
      " 16.816907 seconds (263.87 M allocations: 19.908 GiB, 9.88% gc time)\n",
      "Ne = 100\n"
     ]
    },
    {
     "name": "stderr",
     "output_type": "stream",
     "text": [
      "\r",
      "\u001b[32mProgress:  50%|████████████████████▌                    |  ETA: 0:06:37\u001b[39m"
     ]
    },
    {
     "name": "stdout",
     "output_type": "stream",
     "text": [
      "Ne 100& β 1.05 RMSE: 0.5615244428407863\n",
      "(Ne, β) = (200, 0.95)\n"
     ]
    },
    {
     "name": "stderr",
     "output_type": "stream",
     "text": [
      "\u001b[32mProgress: 100%|█████████████████████████████████████████| Time: 0:00:34\u001b[39m\n"
     ]
    },
    {
     "name": "stdout",
     "output_type": "stream",
     "text": [
      " 34.471073 seconds (525.23 M allocations: 40.029 GiB, 10.55% gc time)\n",
      "Ne = 200\n",
      "Ne 200& β 0.95 RMSE: 0.3829677094811395\n",
      "(Ne, β) = (200, 0.96)\n"
     ]
    },
    {
     "name": "stderr",
     "output_type": "stream",
     "text": [
      "\u001b[32mProgress: 100%|█████████████████████████████████████████| Time: 0:00:34\u001b[39m\n"
     ]
    },
    {
     "name": "stdout",
     "output_type": "stream",
     "text": [
      " 34.614434 seconds (524.95 M allocations: 39.992 GiB, 10.57% gc time)\n",
      "Ne = 200\n",
      "Ne 200& β 0.96 RMSE: 0.4086810220241663\n",
      "(Ne, β) = (200, 0.97)\n"
     ]
    },
    {
     "name": "stderr",
     "output_type": "stream",
     "text": [
      "\u001b[32mProgress: 100%|█████████████████████████████████████████| Time: 0:00:34\u001b[39m\n"
     ]
    },
    {
     "name": "stdout",
     "output_type": "stream",
     "text": [
      " 34.920641 seconds (525.42 M allocations: 40.052 GiB, 10.62% gc time)\n",
      "Ne = 200\n",
      "Ne 200& β 0.97 RMSE: 0.41409722377003927\n",
      "(Ne, β) = (200, 0.98)\n"
     ]
    },
    {
     "name": "stderr",
     "output_type": "stream",
     "text": [
      "\u001b[32mProgress: 100%|█████████████████████████████████████████| Time: 0:00:35\u001b[39m\n"
     ]
    },
    {
     "name": "stdout",
     "output_type": "stream",
     "text": [
      " 35.110300 seconds (525.08 M allocations: 40.009 GiB, 10.55% gc time)\n",
      "Ne = 200\n",
      "Ne 200& β 0.98 RMSE: 0.4153522962140696\n",
      "(Ne, β) = (200, 0.99)\n"
     ]
    },
    {
     "name": "stderr",
     "output_type": "stream",
     "text": [
      "\u001b[32mProgress: 100%|█████████████████████████████████████████| Time: 0:00:35\u001b[39m\n"
     ]
    },
    {
     "name": "stdout",
     "output_type": "stream",
     "text": [
      " 35.233996 seconds (524.12 M allocations: 39.885 GiB, 10.54% gc time)\n",
      "Ne = 200\n",
      "Ne 200& β 0.99 RMSE: 0.3920694948714871\n",
      "(Ne, β) = (200, 1.0)\n"
     ]
    },
    {
     "name": "stderr",
     "output_type": "stream",
     "text": [
      "\u001b[32mProgress: 100%|█████████████████████████████████████████| Time: 0:00:35\u001b[39m\n"
     ]
    },
    {
     "name": "stdout",
     "output_type": "stream",
     "text": [
      " 35.409147 seconds (524.61 M allocations: 39.948 GiB, 10.59% gc time)\n",
      "Ne = 200\n",
      "Ne 200& β 1.0 RMSE: 0.4096298344986852\n",
      "(Ne, β) = (200, 1.01)\n"
     ]
    },
    {
     "name": "stderr",
     "output_type": "stream",
     "text": [
      "\u001b[32mProgress: 100%|█████████████████████████████████████████| Time: 0:00:33\u001b[39m\n"
     ]
    },
    {
     "name": "stdout",
     "output_type": "stream",
     "text": [
      " 33.991787 seconds (522.90 M allocations: 39.728 GiB, 10.98% gc time)\n",
      "Ne = 200\n",
      "Ne 200& β 1.01 RMSE: 0.41018104809754385\n",
      "(Ne, β) = (200, 1.02)\n"
     ]
    },
    {
     "name": "stderr",
     "output_type": "stream",
     "text": [
      "\u001b[32mProgress: 100%|█████████████████████████████████████████| Time: 0:00:31\u001b[39m\n"
     ]
    },
    {
     "name": "stdout",
     "output_type": "stream",
     "text": [
      " 31.743287 seconds (523.89 M allocations: 39.856 GiB, 10.09% gc time)\n",
      "Ne = 200\n",
      "Ne 200& β 1.02 RMSE: 0.40271790747895264\n",
      "(Ne, β) = (200, 1.03)\n"
     ]
    },
    {
     "name": "stderr",
     "output_type": "stream",
     "text": [
      "\u001b[32mProgress: 100%|█████████████████████████████████████████| Time: 0:00:31\u001b[39m\n"
     ]
    },
    {
     "name": "stdout",
     "output_type": "stream",
     "text": [
      " 31.689453 seconds (522.89 M allocations: 39.727 GiB, 10.03% gc time)\n",
      "Ne = 200\n",
      "Ne 200& β 1.03 RMSE: 0.39815614824580475\n",
      "(Ne, β) = (200, 1.04)\n"
     ]
    },
    {
     "name": "stderr",
     "output_type": "stream",
     "text": [
      "\u001b[32mProgress: 100%|█████████████████████████████████████████| Time: 0:00:32\u001b[39m\n"
     ]
    },
    {
     "name": "stdout",
     "output_type": "stream",
     "text": [
      " 32.482643 seconds (522.69 M allocations: 39.701 GiB, 10.16% gc time)\n",
      "Ne = 200\n",
      "Ne 200& β 1.04 RMSE: 0.4042560099471737\n",
      "(Ne, β) = (200, 1.05)\n"
     ]
    },
    {
     "name": "stderr",
     "output_type": "stream",
     "text": [
      "\u001b[32mProgress: 100%|█████████████████████████████████████████| Time: 0:00:32\u001b[39m\n"
     ]
    },
    {
     "name": "stdout",
     "output_type": "stream",
     "text": [
      " 32.801483 seconds (521.96 M allocations: 39.607 GiB, 10.16% gc time)\n",
      "Ne = 200\n"
     ]
    },
    {
     "name": "stderr",
     "output_type": "stream",
     "text": [
      "\r",
      "\u001b[32mProgress:  67%|███████████████████████████▍             |  ETA: 0:06:25\u001b[39m"
     ]
    },
    {
     "name": "stdout",
     "output_type": "stream",
     "text": [
      "Ne 200& β 1.05 RMSE: 0.4370003542240513\n",
      "(Ne, β) = (400, 0.95)\n"
     ]
    },
    {
     "name": "stderr",
     "output_type": "stream",
     "text": [
      "\u001b[32mProgress: 100%|█████████████████████████████████████████| Time: 0:01:08\u001b[39m\n"
     ]
    },
    {
     "name": "stdout",
     "output_type": "stream",
     "text": [
      " 68.860286 seconds (1.05 G allocations: 80.575 GiB, 10.30% gc time)\n",
      "Ne = 400\n",
      "Ne 400& β 0.95 RMSE: 0.3924123409291603\n",
      "(Ne, β) = (400, 0.96)\n"
     ]
    },
    {
     "name": "stderr",
     "output_type": "stream",
     "text": [
      "\u001b[32mProgress: 100%|█████████████████████████████████████████| Time: 0:01:10\u001b[39m\n"
     ]
    },
    {
     "name": "stdout",
     "output_type": "stream",
     "text": [
      " 70.226873 seconds (1.05 G allocations: 80.832 GiB, 10.43% gc time)\n",
      "Ne = 400\n",
      "Ne 400& β 0.96 RMSE: 0.3969438852727715\n",
      "(Ne, β) = (400, 0.97)\n"
     ]
    },
    {
     "name": "stderr",
     "output_type": "stream",
     "text": [
      "\u001b[32mProgress: 100%|█████████████████████████████████████████| Time: 0:01:09\u001b[39m\n"
     ]
    },
    {
     "name": "stdout",
     "output_type": "stream",
     "text": [
      " 69.301789 seconds (1.05 G allocations: 80.301 GiB, 10.39% gc time)\n",
      "Ne = 400\n",
      "Ne 400& β 0.97 RMSE: 0.3938557082299884\n",
      "(Ne, β) = (400, 0.98)\n"
     ]
    },
    {
     "name": "stderr",
     "output_type": "stream",
     "text": [
      "\u001b[32mProgress: 100%|█████████████████████████████████████████| Time: 0:01:04\u001b[39m\n"
     ]
    },
    {
     "name": "stdout",
     "output_type": "stream",
     "text": [
      " 64.840907 seconds (1.05 G allocations: 80.450 GiB, 10.61% gc time)\n",
      "Ne = 400\n",
      "Ne 400& β 0.98 RMSE: 0.4020358024647253\n",
      "(Ne, β) = (400, 0.99)\n"
     ]
    },
    {
     "name": "stderr",
     "output_type": "stream",
     "text": [
      "\u001b[32mProgress:  27%|███████████                              |  ETA: 0:00:46\u001b[39m"
     ]
    }
   ],
   "source": [
    "metric_srmf1 = benchmark_srmf_lorenz96(model, data, path, [40, 60, 100, 200, 400, 600], β_array, p);"
   ]
  },
  {
   "cell_type": "code",
   "execution_count": null,
   "metadata": {},
   "outputs": [],
   "source": [
    "save(path*\"metric_srmf\"*string(p)*\".jld\", \"metric\", metric_srmf1)"
   ]
  },
  {
   "cell_type": "markdown",
   "metadata": {},
   "source": [
    "p = 2"
   ]
  },
  {
   "cell_type": "code",
   "execution_count": 40,
   "metadata": {},
   "outputs": [
    {
     "data": {
      "text/plain": [
       "2"
      ]
     },
     "execution_count": 40,
     "metadata": {},
     "output_type": "execute_result"
    }
   ],
   "source": [
    "p = 2"
   ]
  },
  {
   "cell_type": "code",
   "execution_count": 41,
   "metadata": {},
   "outputs": [
    {
     "ename": "LoadError",
     "evalue": "\u001b[91mUndefVarError: benchmark_smrf_lorenz63 not defined\u001b[39m",
     "output_type": "error",
     "traceback": [
      "\u001b[91mUndefVarError: benchmark_smrf_lorenz63 not defined\u001b[39m",
      "",
      "Stacktrace:",
      " [1] top-level scope at In[41]:1",
      " [2] include_string(::Function, ::Module, ::String, ::String) at ./loading.jl:1091"
     ]
    }
   ],
   "source": [
    "metric_srmf2 = benchmark_srmf_lorenz96(model, data, path, [40, 60, 100, 200, 400, 600], β_array, p);"
   ]
  },
  {
   "cell_type": "code",
   "execution_count": 42,
   "metadata": {},
   "outputs": [
    {
     "ename": "LoadError",
     "evalue": "\u001b[91mUndefVarError: metric_srmf2 not defined\u001b[39m",
     "output_type": "error",
     "traceback": [
      "\u001b[91mUndefVarError: metric_srmf2 not defined\u001b[39m",
      "",
      "Stacktrace:",
      " [1] top-level scope at In[42]:1",
      " [2] include_string(::Function, ::Module, ::String, ::String) at ./loading.jl:1091"
     ]
    }
   ],
   "source": [
    "save(path*\"metric_srmf\"*string(p)*\".jld\", \"metric\", metric_srmf2)"
   ]
  },
  {
   "cell_type": "markdown",
   "metadata": {},
   "source": [
    "Benchmark for the Lorenz-96 problem with the sequential stochastic adaptive radial map filter"
   ]
  },
  {
   "cell_type": "markdown",
   "metadata": {},
   "source": [
    "p = 0"
   ]
  },
  {
   "cell_type": "code",
   "execution_count": null,
   "metadata": {},
   "outputs": [],
   "source": [
    "p = 0"
   ]
  },
  {
   "cell_type": "code",
   "execution_count": null,
   "metadata": {},
   "outputs": [],
   "source": [
    "metric_sadaptivermf0 = benchmark_sadaptivermf_lorenz96(model, data, path, Ne_array, β_array, p);"
   ]
  },
  {
   "cell_type": "code",
   "execution_count": null,
   "metadata": {},
   "outputs": [],
   "source": [
    "save(path*\"metric_sadaptivermf\"*string(p)*\".jld\", \"metric\", metric_sadaptivermf0)"
   ]
  },
  {
   "cell_type": "markdown",
   "metadata": {},
   "source": [
    "p = 1"
   ]
  },
  {
   "cell_type": "code",
   "execution_count": null,
   "metadata": {},
   "outputs": [],
   "source": [
    "p = 1"
   ]
  },
  {
   "cell_type": "code",
   "execution_count": null,
   "metadata": {},
   "outputs": [],
   "source": [
    "metric_sadaptivermf1 = benchmark_sadaptivermf_lorenz96(model, data, path, Ne_array, β_array, p);"
   ]
  },
  {
   "cell_type": "code",
   "execution_count": null,
   "metadata": {},
   "outputs": [],
   "source": [
    "save(path*\"metric_sadaptivermf\"*string(p)*\".jld\", \"metric\", metric_sadaptivermf0)"
   ]
  },
  {
   "cell_type": "markdown",
   "metadata": {},
   "source": [
    "p = 2"
   ]
  },
  {
   "cell_type": "code",
   "execution_count": null,
   "metadata": {},
   "outputs": [],
   "source": [
    "p = 2"
   ]
  },
  {
   "cell_type": "code",
   "execution_count": null,
   "metadata": {},
   "outputs": [],
   "source": [
    "metric_sadaptivermf2 = benchmark_sadaptivermf_lorenz96(model, data, path, Ne_array, β_array, p);"
   ]
  },
  {
   "cell_type": "code",
   "execution_count": null,
   "metadata": {},
   "outputs": [],
   "source": [
    "save(path*\"metric_sadaptivermf\"*string(p)*\".jld\", \"metric\", metric_sadaptivermf0)"
   ]
  }
 ],
 "metadata": {
  "kernelspec": {
   "display_name": "Julia 1.5.3",
   "language": "julia",
   "name": "julia-1.5"
  },
  "language_info": {
   "file_extension": ".jl",
   "mimetype": "application/julia",
   "name": "julia",
   "version": "1.5.3"
  }
 },
 "nbformat": 4,
 "nbformat_minor": 2
}
