{
 "cells": [
  {
   "cell_type": "markdown",
   "metadata": {},
   "source": [
    "## Benchmark Lorenz 96 linear and nonlinear filters"
   ]
  },
  {
   "cell_type": "markdown",
   "metadata": {},
   "source": [
    "In this notebook, we are interested in the sequential inference \n",
    "\n",
    "\n",
    "\n",
    "References: \n",
    "\n",
    "\n",
    "[1] Evensen, G., 1994. Sequential data assimilation with a nonlinear quasi‐geostrophic model using Monte Carlo methods to forecast error statistics. Journal of Geophysical Research: Oceans, 99(C5), pp.10143-10162.\n",
    "\n",
    "[2] Asch, M., Bocquet, M. and Nodet, M., 2016. Data assimilation: methods, algorithms, and applications. Society for Industrial and Applied Mathematics.\n",
    "\n",
    "[3] Bishop, C.H., Etherton, B.J. and Majumdar, S.J., 2001. Adaptive sampling with the ensemble transform Kalman filter. Part I: Theoretical aspects. Monthly weather review, 129(3), pp.420-436. \n",
    "\n",
    "[4] Lorenz, E.N., 1963. Deterministic nonperiodic flow. Journal of atmospheric sciences, 20(2), pp.130-141.\n",
    "\n",
    "[5] Spantini, A., Baptista, R. and Marzouk, Y., 2019. Coupling techniques for nonlinear ensemble filtering. arXiv preprint arXiv:1907.00389."
   ]
  },
  {
   "cell_type": "markdown",
   "metadata": {},
   "source": [
    "### The basic steps\n",
    "To carry out sequential inference in `AdaptiveTransportMap`, we need to carry out a few basic steps:\n",
    "* **Specify the problem**: Define the state-space model: initial condition, dynamical and observation models (including process and observation noise)\n",
    "* **Specify the inflation parameters**: Determine the levels of covariance inflation to properly balance the dynamical system and the observations from the truth system\n",
    "* **Specify the filter**: Choose the ensemble filter to assimilate the observations in the state estimate\n",
    "* **Perform the sequential inference**: Perform the sequential inference\n",
    "\n",
    "We will go through all of these here."
   ]
  },
  {
   "cell_type": "code",
   "execution_count": 1,
   "metadata": {},
   "outputs": [
    {
     "name": "stderr",
     "output_type": "stream",
     "text": [
      "┌ Info: Precompiling AdaptiveTransportMap [bdf749b0-1400-4207-80d3-e689c0e3f03d]\n",
      "└ @ Base loading.jl:1278\n",
      "┌ Warning: Type annotations on keyword arguments not currently supported in recipes. Type information has been discarded\n",
      "└ @ RecipesBase ~/.julia/packages/RecipesBase/92zOw/src/RecipesBase.jl:116\n",
      "┌ Warning: Type annotations on keyword arguments not currently supported in recipes. Type information has been discarded\n",
      "└ @ RecipesBase ~/.julia/packages/RecipesBase/92zOw/src/RecipesBase.jl:116\n",
      "┌ Warning: Type annotations on keyword arguments not currently supported in recipes. Type information has been discarded\n",
      "└ @ RecipesBase ~/.julia/packages/RecipesBase/92zOw/src/RecipesBase.jl:116\n",
      "┌ Warning: Type annotations on keyword arguments not currently supported in recipes. Type information has been discarded\n",
      "└ @ RecipesBase ~/.julia/packages/RecipesBase/92zOw/src/RecipesBase.jl:116\n",
      "┌ Warning: Type annotations on keyword arguments not currently supported in recipes. Type information has been discarded\n",
      "└ @ RecipesBase ~/.julia/packages/RecipesBase/92zOw/src/RecipesBase.jl:116\n",
      "┌ Warning: Type annotations on keyword arguments not currently supported in recipes. Type information has been discarded\n",
      "└ @ RecipesBase ~/.julia/packages/RecipesBase/92zOw/src/RecipesBase.jl:116\n",
      "┌ Warning: Type annotations on keyword arguments not currently supported in recipes. Type information has been discarded\n",
      "└ @ RecipesBase ~/.julia/packages/RecipesBase/92zOw/src/RecipesBase.jl:116\n"
     ]
    }
   ],
   "source": [
    "using Revise\n",
    "using LinearAlgebra\n",
    "using AdaptiveTransportMap\n",
    "using Statistics\n",
    "using Distributions\n",
    "using OrdinaryDiffEq\n",
    "using JLD"
   ]
  },
  {
   "cell_type": "code",
   "execution_count": 2,
   "metadata": {},
   "outputs": [],
   "source": [
    "using DelimitedFiles"
   ]
  },
  {
   "cell_type": "markdown",
   "metadata": {},
   "source": [
    "Load some packages to make nice figures"
   ]
  },
  {
   "cell_type": "code",
   "execution_count": 3,
   "metadata": {},
   "outputs": [],
   "source": [
    "using Plots\n",
    "default(tickfont = font(\"CMU Serif\", 9), \n",
    "        titlefont = font(\"CMU Serif\", 14), \n",
    "        guidefont = font(\"CMU Serif\", 12),\n",
    "        legendfont = font(\"CMU Serif\", 10),\n",
    "        grid = false)\n",
    "# Plots.font(\"sans-serif\")\n",
    "# clibrary(:colorbrewer)\n",
    "# gr()\n",
    "pyplot()\n",
    "\n",
    "using LaTeXStrings\n",
    "# PyPlot.rc(\"text\", usetex = \"true\")\n",
    "# rcParams = PyPlot.PyDict(PyPlot.matplotlib.\"rcParams\")\n",
    "# rcParams[\"text.usetex\"] = true;\n",
    "PyPlot.rc(\"font\", family = \"CMU Serif\")\n",
    "PyPlot.matplotlib[:rc](\"mathtext\",fontset=\"cm\")        #computer modern font \n",
    "PyPlot.matplotlib[:rc](\"font\",family=\"serif\",size=12)\n",
    "\n",
    "using ColorSchemes"
   ]
  },
  {
   "cell_type": "code",
   "execution_count": 34,
   "metadata": {},
   "outputs": [
    {
     "name": "stderr",
     "output_type": "stream",
     "text": [
      "\u001b[32mProgress: 100%|█████████████████████████████████████████| Time: 0:00:06\u001b[39m\n"
     ]
    },
    {
     "name": "stdout",
     "output_type": "stream",
     "text": [
      "Ne 60 RMSE: 2.9534950839158824\n"
     ]
    },
    {
     "name": "stderr",
     "output_type": "stream",
     "text": [
      "\u001b[32mProgress: 100%|█████████████████████████████████████████| Time: 0:00:10\u001b[39m\n"
     ]
    },
    {
     "name": "stdout",
     "output_type": "stream",
     "text": [
      "Ne 100 RMSE: 1.5828930559308896\n"
     ]
    },
    {
     "name": "stderr",
     "output_type": "stream",
     "text": [
      "\u001b[32mProgress: 100%|█████████████████████████████████████████| Time: 0:00:21\u001b[39m\n"
     ]
    },
    {
     "name": "stdout",
     "output_type": "stream",
     "text": [
      "Ne 200 RMSE: 0.9688875185932705\n"
     ]
    },
    {
     "name": "stderr",
     "output_type": "stream",
     "text": [
      "\u001b[32mProgress: 100%|█████████████████████████████████████████| Time: 0:00:39\u001b[39m\n"
     ]
    },
    {
     "name": "stdout",
     "output_type": "stream",
     "text": [
      "Ne 400 RMSE: 0.8145890258184952\n"
     ]
    },
    {
     "name": "stderr",
     "output_type": "stream",
     "text": [
      "\u001b[32mProgress: 100%|█████████████████████████████████████████| Time: 0:00:55\u001b[39m\n"
     ]
    },
    {
     "name": "stdout",
     "output_type": "stream",
     "text": [
      "Ne 600 RMSE: 0.779881984119389\n"
     ]
    }
   ],
   "source": [
    "path = \"/media/mat/HDD/AdaptiveTransportMap/notebooks/lorenz96/data/\"\n",
    "\n",
    "β_array = collect(0.95:0.01:1.05)\n",
    "Ne_array = [60, 100, 200, 400, 600]\n",
    "L_array = collect(1.0:10.0);\n",
    "\n",
    "model, data = setup_lorenz96(path, Ne_array);"
   ]
  },
  {
   "cell_type": "code",
   "execution_count": 35,
   "metadata": {},
   "outputs": [],
   "source": [
    "save(path*\"lorenz96_data.jld\", \"data\", data)"
   ]
  },
  {
   "cell_type": "code",
   "execution_count": 36,
   "metadata": {},
   "outputs": [
    {
     "data": {
      "text/plain": [
       "SyntheticData([0.4, 0.8, 1.2000000000000002, 1.6, 2.0, 2.4000000000000004, 2.8000000000000003, 3.2, 3.6, 4.0  …  2396.4, 2396.8, 2397.2000000000003, 2397.6, 2398.0, 2398.4, 2398.8, 2399.2000000000003, 2399.6, 2400.0], [-0.2974821173632716, 0.501884610567026, -1.1981987411803194, 0.9061672276201467, 0.5505126602205873, 0.3674031762679743, -0.05029338477495031, 1.2141764473990793, -1.5321710427492057, -1.8392124733392539  …  0.501350177777496, 0.20129443164723057, 1.1770483914929308, -0.5314211841940432, -1.0447986057933782, 0.531341375580273, 0.3146441962877211, 0.2563492531890934, -0.25150243881073026, 0.7978032807192892], [2.6349792039764934 3.504181125623047 … -1.7977571208561207 0.09487460971575813; 2.4343783870406344 3.738982713804183 … 2.559562448914188 5.304979080072626; … ; 2.482110373299789 5.116572417455944 … 3.683128109587375 5.795831132353801; 3.176124201010255 5.83946347959046 … 8.230989412210743 0.2453778555195535], [2.156579526522504 3.582613352917209 … -1.9108850964360307 0.6951778228909665; 3.092455259843002 5.5934412996425635 … -0.004135357427323849 7.518000632841705; … ; 3.6169604752254902 2.374941439275947 … -1.3318023425114127 2.333478004107675; 1.8890898677187136 5.127417796538603 … 5.076399640610156 5.506421318193648])"
      ]
     },
     "execution_count": 36,
     "metadata": {},
     "output_type": "execute_result"
    }
   ],
   "source": [
    "data = load(path*\"lorenz96_data.jld\", \"data\")"
   ]
  },
  {
   "cell_type": "code",
   "execution_count": 61,
   "metadata": {},
   "outputs": [],
   "source": [
    "Nx = 40\n",
    "Ny = 20\n",
    "Δtdyn = 0.01\n",
    "Δtobs = 0.4\n",
    "\n",
    "σx = 1e-6\n",
    "σy = sqrt(0.5)\n",
    "\n",
    "ϵx = AdditiveInflation(Nx, zeros(Nx), σx)\n",
    "ϵy = AdditiveInflation(Ny, zeros(Ny), σy)\n",
    "tspinup = 200.0\n",
    "Tspinup = 2000\n",
    "tmetric = 400.0\n",
    "Tmetric = 4000\n",
    "t0 = 0.0\n",
    "tf = 600.0\n",
    "Tf = 6000\n",
    "\n",
    "Tburn = 2000\n",
    "Tstep = 4000\n",
    "Tspinup = 2000\n",
    "\n",
    "f = lorenz96!\n",
    "h(x, t) = x[yidx]\n",
    "# Create a local version of the observation operator\n",
    "h(x, idx, t) = x[idx]\n",
    "F = StateSpace(lorenz96!, h)\n",
    "\n",
    "model = Model(Nx, Ny, Δtdyn, Δtobs, ϵx, ϵy, MvNormal(zeros(Nx), Matrix(1.0*I, Nx, Nx)), Tburn, Tstep, Tspinup, F);"
   ]
  },
  {
   "cell_type": "code",
   "execution_count": 62,
   "metadata": {},
   "outputs": [],
   "source": [
    "# # Load file\n",
    "# Ne = 20\n",
    "# β = 1.0\n",
    "# Lrad = 3\n",
    "# X0 = load(path*\"set_up_Ne\"*string(Ne)*\".jld\", \"X\")\n",
    "\n",
    "# X = zeros(model.Ny + model.Nx, Ne)\n",
    "# X[model.Ny+1:model.Ny+model.Nx,:] .= copy(X0)\n",
    "# J = model.Tstep\n",
    "# t0 = model.Tspinup*model.Δtobs\n",
    "# F = model.F\n",
    "\n",
    "# Δ = 2\n",
    "# yidx = 1:Δ:model.Nx\n",
    "# idx = vcat(collect(1:length(yidx))', collect(yidx)')\n",
    "\n",
    "# enkf = SeqStochEnKF(x->x, F.h, MultiplicativeInflation(β), model.ϵy, model.Ny, model.Nx,\n",
    "#                     model.Δtdyn, model.Δtobs,\n",
    "#                     idx, zeros(model.Nx+1, Ne), false, true)\n",
    "\n",
    "# # Create Localization structure\n",
    "# Gxy(i,j) = periodicmetric!(i,yidx[j], model.Nx)\n",
    "# Gyy(i,j) = periodicmetric!(yidx[i],yidx[j], model.Nx)\n",
    "# Loc = Localization(Lrad, Gxy, Gyy)\n",
    "\n",
    "# @time statehist = seqassim(F, data, J, model.ϵx, enkf, X, model.Ny, model.Nx, t0, Loc);"
   ]
  },
  {
   "cell_type": "markdown",
   "metadata": {},
   "source": [
    "Benchmark for the Lorenz-96 problem with the sequential stochastic EnkF"
   ]
  },
  {
   "cell_type": "code",
   "execution_count": 63,
   "metadata": {},
   "outputs": [],
   "source": [
    "β_array = collect(0.97:0.01:1.05)\n",
    "Ne_array = [60, 100, 200, 400, 600]\n",
    "L_array = collect(4:13.0);"
   ]
  },
  {
   "cell_type": "code",
   "execution_count": null,
   "metadata": {
    "scrolled": true
   },
   "outputs": [
    {
     "name": "stdout",
     "output_type": "stream",
     "text": [
      "(Ne, β, Lrad) = (60, 0.97, 4.0)\n",
      " 21.675294 seconds (202.57 M allocations: 25.014 GiB, 9.58% gc time)\n",
      "Ne = 60\n",
      "Ne 60& β 0.97& Lrad 4.0 RMSE: 1.0741740828090405\n",
      "(Ne, β, Lrad) = (60, 0.97, 5.0)\n",
      " 21.028247 seconds (202.22 M allocations: 24.996 GiB, 9.88% gc time)\n",
      "Ne = 60\n",
      "Ne 60& β 0.97& Lrad 5.0 RMSE: 1.0234471799795102\n",
      "(Ne, β, Lrad) = (60, 0.97, 6.0)\n",
      " 20.907889 seconds (202.22 M allocations: 24.996 GiB, 9.77% gc time)\n",
      "Ne = 60\n",
      "Ne 60& β 0.97& Lrad 6.0 RMSE: 1.050136197377068\n",
      "(Ne, β, Lrad) = (60, 0.97, 7.0)\n",
      " 21.498876 seconds (202.22 M allocations: 24.996 GiB, 9.79% gc time)\n",
      "Ne = 60\n",
      "Ne 60& β 0.97& Lrad 7.0 RMSE: 1.0274211646546674\n",
      "(Ne, β, Lrad) = (60, 0.97, 8.0)\n",
      " 21.336839 seconds (202.22 M allocations: 24.996 GiB, 9.81% gc time)\n",
      "Ne = 60\n",
      "Ne 60& β 0.97& Lrad 8.0 RMSE: 1.099065435027503\n",
      "(Ne, β, Lrad) = (60, 0.97, 9.0)\n",
      " 20.818962 seconds (202.22 M allocations: 24.996 GiB, 9.88% gc time)\n",
      "Ne = 60\n",
      "Ne 60& β 0.97& Lrad 9.0 RMSE: 1.121453406705511\n",
      "(Ne, β, Lrad) = (60, 0.97, 10.0)\n",
      " 21.020974 seconds (202.22 M allocations: 24.996 GiB, 10.03% gc time)\n",
      "Ne = 60\n",
      "Ne 60& β 0.97& Lrad 10.0 RMSE: 1.1920133083269009\n",
      "(Ne, β, Lrad) = (60, 0.97, 11.0)\n",
      " 21.526893 seconds (202.22 M allocations: 24.996 GiB, 9.92% gc time)\n",
      "Ne = 60\n",
      "Ne 60& β 0.97& Lrad 11.0 RMSE: 1.2599263338121667\n",
      "(Ne, β, Lrad) = (60, 0.97, 12.0)\n",
      " 20.941260 seconds (202.22 M allocations: 24.996 GiB, 10.52% gc time)\n",
      "Ne = 60\n",
      "Ne 60& β 0.97& Lrad 12.0 RMSE: 1.264075771516435\n",
      "(Ne, β, Lrad) = (60, 0.97, 13.0)\n",
      " 20.875852 seconds (202.22 M allocations: 24.996 GiB, 10.39% gc time)\n",
      "Ne = 60\n",
      "Ne 60& β 0.97& Lrad 13.0 RMSE: 1.4596293428049325\n",
      "(Ne, β, Lrad) = (60, 0.98, 4.0)\n",
      " 20.854493 seconds (202.22 M allocations: 24.996 GiB, 10.38% gc time)\n",
      "Ne = 60\n",
      "Ne 60& β 0.98& Lrad 4.0 RMSE: 1.0548854867147128\n",
      "(Ne, β, Lrad) = (60, 0.98, 5.0)\n",
      " 20.813236 seconds (202.22 M allocations: 24.996 GiB, 10.36% gc time)\n",
      "Ne = 60\n",
      "Ne 60& β 0.98& Lrad 5.0 RMSE: 0.998727941787625\n",
      "(Ne, β, Lrad) = (60, 0.98, 6.0)\n",
      " 21.246325 seconds (202.22 M allocations: 24.996 GiB, 10.39% gc time)\n",
      "Ne = 60\n",
      "Ne 60& β 0.98& Lrad 6.0 RMSE: 1.0031990480693236\n",
      "(Ne, β, Lrad) = (60, 0.98, 7.0)\n",
      " 22.146542 seconds (202.22 M allocations: 24.996 GiB, 11.76% gc time)\n",
      "Ne = 60\n",
      "Ne 60& β 0.98& Lrad 7.0 RMSE: 1.0133400491409288\n",
      "(Ne, β, Lrad) = (60, 0.98, 8.0)\n",
      " 20.424814 seconds (202.22 M allocations: 24.996 GiB, 9.31% gc time)\n",
      "Ne = 60\n",
      "Ne 60& β 0.98& Lrad 8.0 RMSE: 1.0755461118518628\n",
      "(Ne, β, Lrad) = (60, 0.98, 9.0)\n",
      " 20.470854 seconds (202.22 M allocations: 24.996 GiB, 9.41% gc time)\n",
      "Ne = 60\n",
      "Ne 60& β 0.98& Lrad 9.0 RMSE: 1.122217454059037\n",
      "(Ne, β, Lrad) = (60, 0.98, 10.0)\n",
      " 20.368100 seconds (202.22 M allocations: 24.996 GiB, 9.55% gc time)\n",
      "Ne = 60\n",
      "Ne 60& β 0.98& Lrad 10.0 RMSE: 1.149216556150518\n",
      "(Ne, β, Lrad) = (60, 0.98, 11.0)\n",
      " 20.414204 seconds (202.22 M allocations: 24.996 GiB, 9.57% gc time)\n",
      "Ne = 60\n",
      "Ne 60& β 0.98& Lrad 11.0 RMSE: 1.2840462360493161\n",
      "(Ne, β, Lrad) = (60, 0.98, 12.0)\n",
      " 20.452717 seconds (202.22 M allocations: 24.996 GiB, 9.57% gc time)\n",
      "Ne = 60\n",
      "Ne 60& β 0.98& Lrad 12.0 RMSE: 1.4051030075456201\n",
      "(Ne, β, Lrad) = (60, 0.98, 13.0)\n",
      " 20.478784 seconds (202.22 M allocations: 24.996 GiB, 9.73% gc time)\n",
      "Ne = 60\n",
      "Ne 60& β 0.98& Lrad 13.0 RMSE: 1.3891380683129486\n",
      "(Ne, β, Lrad) = (60, 0.99, 4.0)\n",
      " 20.600612 seconds (202.22 M allocations: 24.996 GiB, 9.89% gc time)\n",
      "Ne = 60\n",
      "Ne 60& β 0.99& Lrad 4.0 RMSE: 1.0501662096243685\n",
      "(Ne, β, Lrad) = (60, 0.99, 5.0)\n",
      " 20.558712 seconds (202.22 M allocations: 24.996 GiB, 9.73% gc time)\n",
      "Ne = 60\n",
      "Ne 60& β 0.99& Lrad 5.0 RMSE: 1.0075475352792875\n",
      "(Ne, β, Lrad) = (60, 0.99, 6.0)\n",
      " 20.614347 seconds (202.22 M allocations: 24.996 GiB, 9.88% gc time)\n",
      "Ne = 60\n",
      "Ne 60& β 0.99& Lrad 6.0 RMSE: 1.0230820758914332\n",
      "(Ne, β, Lrad) = (60, 0.99, 7.0)\n",
      " 20.630111 seconds (202.22 M allocations: 24.996 GiB, 10.15% gc time)\n",
      "Ne = 60\n",
      "Ne 60& β 0.99& Lrad 7.0 RMSE: 1.0123272102996765\n",
      "(Ne, β, Lrad) = (60, 0.99, 8.0)\n",
      " 20.675023 seconds (202.22 M allocations: 24.996 GiB, 10.16% gc time)\n",
      "Ne = 60\n",
      "Ne 60& β 0.99& Lrad 8.0 RMSE: 1.0686859289085786\n",
      "(Ne, β, Lrad) = (60, 0.99, 9.0)\n",
      " 20.776794 seconds (202.22 M allocations: 24.996 GiB, 10.10% gc time)\n",
      "Ne = 60\n",
      "Ne 60& β 0.99& Lrad 9.0 RMSE: 1.0716464553887675\n",
      "(Ne, β, Lrad) = (60, 0.99, 10.0)\n",
      " 20.742153 seconds (202.22 M allocations: 24.996 GiB, 10.04% gc time)\n",
      "Ne = 60\n",
      "Ne 60& β 0.99& Lrad 10.0 RMSE: 1.1439632244759654\n",
      "(Ne, β, Lrad) = (60, 0.99, 11.0)\n",
      " 21.681949 seconds (202.22 M allocations: 24.996 GiB, 10.17% gc time)\n",
      "Ne = 60\n",
      "Ne 60& β 0.99& Lrad 11.0 RMSE: 1.3529642287732184\n",
      "(Ne, β, Lrad) = (60, 0.99, 12.0)\n",
      " 24.093809 seconds (202.22 M allocations: 24.996 GiB, 10.99% gc time)\n",
      "Ne = 60\n",
      "Ne 60& β 0.99& Lrad 12.0 RMSE: 1.2098911391634173\n",
      "(Ne, β, Lrad) = (60, 0.99, 13.0)\n",
      " 22.268348 seconds (202.22 M allocations: 24.996 GiB, 9.27% gc time)\n",
      "Ne = 60\n",
      "Ne 60& β 0.99& Lrad 13.0 RMSE: 1.4212175253529953\n",
      "(Ne, β, Lrad) = (60, 1.0, 4.0)\n",
      " 22.190578 seconds (202.22 M allocations: 24.996 GiB, 9.14% gc time)\n",
      "Ne = 60\n",
      "Ne 60& β 1.0& Lrad 4.0 RMSE: 1.0561979612930237\n",
      "(Ne, β, Lrad) = (60, 1.0, 5.0)\n",
      " 22.341130 seconds (202.22 M allocations: 24.996 GiB, 9.11% gc time)\n",
      "Ne = 60\n",
      "Ne 60& β 1.0& Lrad 5.0 RMSE: 1.047109323106534\n",
      "(Ne, β, Lrad) = (60, 1.0, 6.0)\n",
      " 21.757040 seconds (202.22 M allocations: 24.996 GiB, 9.17% gc time)\n",
      "Ne = 60\n",
      "Ne 60& β 1.0& Lrad 6.0 RMSE: 1.0163483322862144\n",
      "(Ne, β, Lrad) = (60, 1.0, 7.0)\n",
      " 21.992119 seconds (202.22 M allocations: 24.996 GiB, 9.29% gc time)\n",
      "Ne = 60\n",
      "Ne 60& β 1.0& Lrad 7.0 RMSE: 1.0232752485224452\n",
      "(Ne, β, Lrad) = (60, 1.0, 8.0)\n",
      " 21.805871 seconds (202.22 M allocations: 24.996 GiB, 9.11% gc time)\n",
      "Ne = 60\n",
      "Ne 60& β 1.0& Lrad 8.0 RMSE: 1.024730468605414\n",
      "(Ne, β, Lrad) = (60, 1.0, 9.0)\n",
      " 21.608808 seconds (202.22 M allocations: 24.996 GiB, 9.60% gc time)\n",
      "Ne = 60\n",
      "Ne 60& β 1.0& Lrad 9.0 RMSE: 1.1558430216699065\n",
      "(Ne, β, Lrad) = (60, 1.0, 10.0)\n",
      " 22.174673 seconds (202.22 M allocations: 24.996 GiB, 9.42% gc time)\n",
      "Ne = 60\n",
      "Ne 60& β 1.0& Lrad 10.0 RMSE: 1.0705607033484326\n",
      "(Ne, β, Lrad) = (60, 1.0, 11.0)\n",
      " 22.202213 seconds (202.22 M allocations: 24.996 GiB, 9.36% gc time)\n",
      "Ne = 60\n",
      "Ne 60& β 1.0& Lrad 11.0 RMSE: 1.2443383624674644\n",
      "(Ne, β, Lrad) = (60, 1.0, 12.0)\n",
      " 21.863667 seconds (202.22 M allocations: 24.996 GiB, 9.51% gc time)\n",
      "Ne = 60\n",
      "Ne 60& β 1.0& Lrad 12.0 RMSE: 1.3794725452602197\n",
      "(Ne, β, Lrad) = (60, 1.0, 13.0)\n",
      " 21.692475 seconds (202.22 M allocations: 24.996 GiB, 9.82% gc time)\n",
      "Ne = 60\n",
      "Ne 60& β 1.0& Lrad 13.0 RMSE: 1.413022304538457\n",
      "(Ne, β, Lrad) = (60, 1.01, 4.0)\n",
      " 21.640292 seconds (202.22 M allocations: 24.996 GiB, 9.79% gc time)\n",
      "Ne = 60\n",
      "Ne 60& β 1.01& Lrad 4.0 RMSE: 1.050674257249441\n",
      "(Ne, β, Lrad) = (60, 1.01, 5.0)\n",
      " 21.628488 seconds (202.22 M allocations: 24.996 GiB, 10.17% gc time)\n",
      "Ne = 60\n",
      "Ne 60& β 1.01& Lrad 5.0 RMSE: 1.002129741749327\n",
      "(Ne, β, Lrad) = (60, 1.01, 6.0)\n",
      " 21.668243 seconds (202.22 M allocations: 24.996 GiB, 10.71% gc time)\n",
      "Ne = 60\n",
      "Ne 60& β 1.01& Lrad 6.0 RMSE: 1.006016730061078\n",
      "(Ne, β, Lrad) = (60, 1.01, 7.0)\n",
      " 21.024314 seconds (202.22 M allocations: 24.996 GiB, 9.10% gc time)\n",
      "Ne = 60\n",
      "Ne 60& β 1.01& Lrad 7.0 RMSE: 1.011569056372357\n",
      "(Ne, β, Lrad) = (60, 1.01, 8.0)\n",
      " 21.145366 seconds (202.22 M allocations: 24.996 GiB, 9.35% gc time)\n",
      "Ne = 60\n",
      "Ne 60& β 1.01& Lrad 8.0 RMSE: 1.0033698280286765\n",
      "(Ne, β, Lrad) = (60, 1.01, 9.0)\n",
      " 21.165242 seconds (202.22 M allocations: 24.996 GiB, 9.37% gc time)\n",
      "Ne = 60\n",
      "Ne 60& β 1.01& Lrad 9.0 RMSE: 1.1253381697431566\n",
      "(Ne, β, Lrad) = (60, 1.01, 10.0)\n",
      " 21.200353 seconds (202.22 M allocations: 24.996 GiB, 9.29% gc time)\n",
      "Ne = 60\n",
      "Ne 60& β 1.01& Lrad 10.0 RMSE: 1.237076079879873\n",
      "(Ne, β, Lrad) = (60, 1.01, 11.0)\n",
      " 21.287618 seconds (202.22 M allocations: 24.996 GiB, 9.48% gc time)\n",
      "Ne = 60\n",
      "Ne 60& β 1.01& Lrad 11.0 RMSE: 1.138161119462085\n",
      "(Ne, β, Lrad) = (60, 1.01, 12.0)\n",
      " 21.357965 seconds (202.22 M allocations: 24.996 GiB, 9.62% gc time)\n",
      "Ne = 60\n",
      "Ne 60& β 1.01& Lrad 12.0 RMSE: 1.4255292865363662\n",
      "(Ne, β, Lrad) = (60, 1.01, 13.0)\n",
      " 21.294247 seconds (202.22 M allocations: 24.996 GiB, 9.42% gc time)\n",
      "Ne = 60\n",
      "Ne 60& β 1.01& Lrad 13.0 RMSE: 1.3608017092136606\n",
      "(Ne, β, Lrad) = (60, 1.02, 4.0)\n",
      " 21.229184 seconds (202.22 M allocations: 24.996 GiB, 9.49% gc time)\n",
      "Ne = 60\n",
      "Ne 60& β 1.02& Lrad 4.0 RMSE: 1.0580103914594983\n",
      "(Ne, β, Lrad) = (60, 1.02, 5.0)\n",
      " 21.399457 seconds (202.22 M allocations: 24.996 GiB, 9.54% gc time)\n",
      "Ne = 60\n",
      "Ne 60& β 1.02& Lrad 5.0 RMSE: 1.0237786496825392\n",
      "(Ne, β, Lrad) = (60, 1.02, 6.0)\n"
     ]
    },
    {
     "name": "stdout",
     "output_type": "stream",
     "text": [
      " 21.430036 seconds (202.22 M allocations: 24.996 GiB, 9.82% gc time)\n",
      "Ne = 60\n",
      "Ne 60& β 1.02& Lrad 6.0 RMSE: 0.9942109888408188\n",
      "(Ne, β, Lrad) = (60, 1.02, 7.0)\n",
      " 21.565717 seconds (202.22 M allocations: 24.996 GiB, 10.21% gc time)\n",
      "Ne = 60\n",
      "Ne 60& β 1.02& Lrad 7.0 RMSE: 1.0026809619933585\n",
      "(Ne, β, Lrad) = (60, 1.02, 8.0)\n",
      " 21.544286 seconds (202.22 M allocations: 24.996 GiB, 9.73% gc time)\n",
      "Ne = 60\n",
      "Ne 60& β 1.02& Lrad 8.0 RMSE: 1.0709478243875619\n",
      "(Ne, β, Lrad) = (60, 1.02, 9.0)\n",
      " 21.894143 seconds (202.22 M allocations: 24.996 GiB, 11.26% gc time)\n",
      "Ne = 60\n",
      "Ne 60& β 1.02& Lrad 9.0 RMSE: 1.0633189676647374\n",
      "(Ne, β, Lrad) = (60, 1.02, 10.0)\n",
      " 21.119709 seconds (202.22 M allocations: 24.996 GiB, 9.27% gc time)\n",
      "Ne = 60\n",
      "Ne 60& β 1.02& Lrad 10.0 RMSE: 1.1674016680791042\n",
      "(Ne, β, Lrad) = (60, 1.02, 11.0)\n",
      " 21.254916 seconds (202.22 M allocations: 24.996 GiB, 9.27% gc time)\n",
      "Ne = 60\n",
      "Ne 60& β 1.02& Lrad 11.0 RMSE: 1.280447860949633\n",
      "(Ne, β, Lrad) = (60, 1.02, 12.0)\n",
      " 21.307122 seconds (202.22 M allocations: 24.996 GiB, 9.49% gc time)\n",
      "Ne = 60\n",
      "Ne 60& β 1.02& Lrad 12.0 RMSE: 1.2782539576679277\n",
      "(Ne, β, Lrad) = (60, 1.02, 13.0)\n",
      " 21.342009 seconds (202.22 M allocations: 24.996 GiB, 9.36% gc time)\n",
      "Ne = 60\n",
      "Ne 60& β 1.02& Lrad 13.0 RMSE: 1.473547580919319\n",
      "(Ne, β, Lrad) = (60, 1.03, 4.0)\n",
      " 21.233371 seconds (202.22 M allocations: 24.996 GiB, 9.56% gc time)\n",
      "Ne = 60\n",
      "Ne 60& β 1.03& Lrad 4.0 RMSE: 1.0505233810903924\n",
      "(Ne, β, Lrad) = (60, 1.03, 5.0)\n",
      " 21.259718 seconds (202.22 M allocations: 24.996 GiB, 9.31% gc time)\n",
      "Ne = 60\n",
      "Ne 60& β 1.03& Lrad 5.0 RMSE: 1.0073186461151824\n",
      "(Ne, β, Lrad) = (60, 1.03, 6.0)\n",
      " 21.293238 seconds (202.22 M allocations: 24.996 GiB, 9.38% gc time)\n",
      "Ne = 60\n",
      "Ne 60& β 1.03& Lrad 6.0 RMSE: 0.9845719992954314\n",
      "(Ne, β, Lrad) = (60, 1.03, 7.0)\n",
      " 21.445124 seconds (202.22 M allocations: 24.996 GiB, 9.39% gc time)\n",
      "Ne = 60\n",
      "Ne 60& β 1.03& Lrad 7.0 RMSE: 0.9739563696296736\n",
      "(Ne, β, Lrad) = (60, 1.03, 8.0)\n",
      " 21.396429 seconds (202.22 M allocations: 24.996 GiB, 9.68% gc time)\n",
      "Ne = 60\n",
      "Ne 60& β 1.03& Lrad 8.0 RMSE: 1.08323971593851\n",
      "(Ne, β, Lrad) = (60, 1.03, 9.0)\n",
      " 21.482972 seconds (202.22 M allocations: 24.996 GiB, 10.12% gc time)\n",
      "Ne = 60\n",
      "Ne 60& β 1.03& Lrad 9.0 RMSE: 1.127892662007821\n",
      "(Ne, β, Lrad) = (60, 1.03, 10.0)\n",
      " 21.719117 seconds (202.22 M allocations: 24.996 GiB, 10.03% gc time)\n",
      "Ne = 60\n",
      "Ne 60& β 1.03& Lrad 10.0 RMSE: 1.1036835920137942\n",
      "(Ne, β, Lrad) = (60, 1.03, 11.0)\n",
      " 21.809032 seconds (202.22 M allocations: 24.996 GiB, 10.02% gc time)\n",
      "Ne = 60\n",
      "Ne 60& β 1.03& Lrad 11.0 RMSE: 1.2048417409720804\n",
      "(Ne, β, Lrad) = (60, 1.03, 12.0)\n",
      " 21.458796 seconds (202.22 M allocations: 24.996 GiB, 10.17% gc time)\n",
      "Ne = 60\n",
      "Ne 60& β 1.03& Lrad 12.0 RMSE: 1.3252633238053226\n",
      "(Ne, β, Lrad) = (60, 1.03, 13.0)\n",
      " 21.126245 seconds (202.22 M allocations: 24.996 GiB, 9.10% gc time)\n",
      "Ne = 60\n",
      "Ne 60& β 1.03& Lrad 13.0 RMSE: 1.4644453252497023\n",
      "(Ne, β, Lrad) = (60, 1.04, 4.0)\n",
      " 21.130528 seconds (202.22 M allocations: 24.996 GiB, 9.09% gc time)\n",
      "Ne = 60\n",
      "Ne 60& β 1.04& Lrad 4.0 RMSE: 1.0607327648820983\n",
      "(Ne, β, Lrad) = (60, 1.04, 5.0)\n",
      " 21.184273 seconds (202.22 M allocations: 24.996 GiB, 9.27% gc time)\n",
      "Ne = 60\n",
      "Ne 60& β 1.04& Lrad 5.0 RMSE: 1.0464632776350906\n",
      "(Ne, β, Lrad) = (60, 1.04, 6.0)\n",
      " 21.316535 seconds (202.22 M allocations: 24.996 GiB, 9.36% gc time)\n",
      "Ne = 60\n",
      "Ne 60& β 1.04& Lrad 6.0 RMSE: 1.0600161840973774\n",
      "(Ne, β, Lrad) = (60, 1.04, 7.0)\n",
      " 21.393615 seconds (202.22 M allocations: 24.996 GiB, 9.44% gc time)\n",
      "Ne = 60\n",
      "Ne 60& β 1.04& Lrad 7.0 RMSE: 1.0034779809991783\n",
      "(Ne, β, Lrad) = (60, 1.04, 8.0)\n",
      " 21.459593 seconds (202.22 M allocations: 24.996 GiB, 9.51% gc time)\n",
      "Ne = 60\n",
      "Ne 60& β 1.04& Lrad 8.0 RMSE: 1.0466090179630534\n",
      "(Ne, β, Lrad) = (60, 1.04, 9.0)\n",
      " 21.300548 seconds (202.22 M allocations: 24.996 GiB, 9.26% gc time)\n",
      "Ne = 60\n",
      "Ne 60& β 1.04& Lrad 9.0 RMSE: 1.109662578259537\n",
      "(Ne, β, Lrad) = (60, 1.04, 10.0)\n",
      " 21.430751 seconds (202.22 M allocations: 24.996 GiB, 9.81% gc time)\n",
      "Ne = 60\n",
      "Ne 60& β 1.04& Lrad 10.0 RMSE: 1.1324703389705724\n",
      "(Ne, β, Lrad) = (60, 1.04, 11.0)\n",
      " 21.621156 seconds (202.22 M allocations: 24.996 GiB, 9.96% gc time)\n",
      "Ne = 60\n",
      "Ne 60& β 1.04& Lrad 11.0 RMSE: 1.2649987324307264\n",
      "(Ne, β, Lrad) = (60, 1.04, 12.0)\n",
      " 21.602435 seconds (202.22 M allocations: 24.996 GiB, 9.91% gc time)\n",
      "Ne = 60\n",
      "Ne 60& β 1.04& Lrad 12.0 RMSE: 1.2058973020552162\n",
      "(Ne, β, Lrad) = (60, 1.04, 13.0)\n",
      " 21.626094 seconds (202.22 M allocations: 24.996 GiB, 9.84% gc time)\n",
      "Ne = 60\n",
      "Ne 60& β 1.04& Lrad 13.0 RMSE: 1.3284666177485154\n",
      "(Ne, β, Lrad) = (60, 1.05, 4.0)\n",
      " 21.493275 seconds (202.22 M allocations: 24.996 GiB, 10.39% gc time)\n",
      "Ne = 60\n",
      "Ne 60& β 1.05& Lrad 4.0 RMSE: 1.0616485755914518\n",
      "(Ne, β, Lrad) = (60, 1.05, 5.0)\n",
      " 21.235774 seconds (202.22 M allocations: 24.996 GiB, 9.20% gc time)\n",
      "Ne = 60\n",
      "Ne 60& β 1.05& Lrad 5.0 RMSE: 0.9988031055551375\n",
      "(Ne, β, Lrad) = (60, 1.05, 6.0)\n",
      " 21.640476 seconds (202.22 M allocations: 24.996 GiB, 9.31% gc time)\n",
      "Ne = 60\n",
      "Ne 60& β 1.05& Lrad 6.0 RMSE: 0.9894302184599553\n",
      "(Ne, β, Lrad) = (60, 1.05, 7.0)\n",
      " 21.282847 seconds (202.22 M allocations: 24.996 GiB, 9.21% gc time)\n",
      "Ne = 60\n"
     ]
    }
   ],
   "source": [
    "metric_enkf = benchmark_lorenz96(model, data, path, Ne_array, β_array, L_array);"
   ]
  },
  {
   "cell_type": "code",
   "execution_count": null,
   "metadata": {},
   "outputs": [],
   "source": [
    "save(path*\"metric_enkf.jld\", \"metric\", metric_enkf)"
   ]
  },
  {
   "cell_type": "markdown",
   "metadata": {},
   "source": [
    "Benchmark for the Lorenz-96 problem with the sequential stochastic radial map filter"
   ]
  },
  {
   "cell_type": "code",
   "execution_count": null,
   "metadata": {},
   "outputs": [],
   "source": [
    "Lrad_array = Float64.(collect(1:10))\n",
    "nonid_array = Float64.(collect(1:12));"
   ]
  },
  {
   "cell_type": "markdown",
   "metadata": {},
   "source": [
    "p = 0"
   ]
  },
  {
   "cell_type": "code",
   "execution_count": null,
   "metadata": {},
   "outputs": [],
   "source": [
    "p = 0"
   ]
  },
  {
   "cell_type": "code",
   "execution_count": null,
   "metadata": {
    "scrolled": true
   },
   "outputs": [],
   "source": [
    "metric_srmf0 = benchmark_srmf_lorenz96(model, data, path, Ne_array, β_array, Lrad_array, nonid_array, p);"
   ]
  },
  {
   "cell_type": "code",
   "execution_count": null,
   "metadata": {},
   "outputs": [],
   "source": [
    "save(path*\"metric_srmf\"*string(p)*\".jld\", \"metric\", metric_srmf0)"
   ]
  },
  {
   "cell_type": "markdown",
   "metadata": {},
   "source": [
    "p = 1"
   ]
  },
  {
   "cell_type": "code",
   "execution_count": null,
   "metadata": {},
   "outputs": [],
   "source": [
    "p = 1"
   ]
  },
  {
   "cell_type": "code",
   "execution_count": null,
   "metadata": {
    "scrolled": true
   },
   "outputs": [],
   "source": [
    "metric_srmf1 = benchmark_srmf_lorenz96(model, data, path, Ne_array, β_array, Lrad_array, nonid_array, p);"
   ]
  },
  {
   "cell_type": "code",
   "execution_count": null,
   "metadata": {},
   "outputs": [],
   "source": [
    "save(path*\"metric_srmf\"*string(p)*\".jld\", \"metric\", metric_srmf1)"
   ]
  },
  {
   "cell_type": "markdown",
   "metadata": {},
   "source": [
    "p = 2"
   ]
  },
  {
   "cell_type": "code",
   "execution_count": null,
   "metadata": {},
   "outputs": [],
   "source": [
    "p = 2"
   ]
  },
  {
   "cell_type": "code",
   "execution_count": null,
   "metadata": {},
   "outputs": [],
   "source": [
    "metric_srmf2 = benchmark_srmf_lorenz96(model, data, path, Ne_array, β_array, Lrad_array, nonid_array, p);"
   ]
  },
  {
   "cell_type": "code",
   "execution_count": null,
   "metadata": {},
   "outputs": [],
   "source": [
    "save(path*\"metric_srmf\"*string(p)*\".jld\", \"metric\", metric_srmf2)"
   ]
  },
  {
   "cell_type": "markdown",
   "metadata": {},
   "source": [
    "Benchmark for the Lorenz-96 problem with the sequential stochastic adaptive radial map filter"
   ]
  },
  {
   "cell_type": "markdown",
   "metadata": {},
   "source": [
    "p = 0"
   ]
  },
  {
   "cell_type": "code",
   "execution_count": null,
   "metadata": {},
   "outputs": [],
   "source": [
    "p = 0"
   ]
  },
  {
   "cell_type": "code",
   "execution_count": null,
   "metadata": {},
   "outputs": [],
   "source": [
    "metric_sadaptivermf0 = benchmark_sadaptivermf_lorenz96(model, data, path, Ne_array, β_array, p);"
   ]
  },
  {
   "cell_type": "code",
   "execution_count": null,
   "metadata": {},
   "outputs": [],
   "source": [
    "save(path*\"metric_sadaptivermf\"*string(p)*\".jld\", \"metric\", metric_sadaptivermf0)"
   ]
  },
  {
   "cell_type": "markdown",
   "metadata": {},
   "source": [
    "p = 1"
   ]
  },
  {
   "cell_type": "code",
   "execution_count": null,
   "metadata": {},
   "outputs": [],
   "source": [
    "p = 1"
   ]
  },
  {
   "cell_type": "code",
   "execution_count": null,
   "metadata": {},
   "outputs": [],
   "source": [
    "metric_sadaptivermf1 = benchmark_sadaptivermf_lorenz96(model, data, path, Ne_array, β_array, p);"
   ]
  },
  {
   "cell_type": "code",
   "execution_count": null,
   "metadata": {},
   "outputs": [],
   "source": [
    "save(path*\"metric_sadaptivermf\"*string(p)*\".jld\", \"metric\", metric_sadaptivermf0)"
   ]
  },
  {
   "cell_type": "markdown",
   "metadata": {},
   "source": [
    "p = 2"
   ]
  },
  {
   "cell_type": "code",
   "execution_count": null,
   "metadata": {},
   "outputs": [],
   "source": [
    "p = 2"
   ]
  },
  {
   "cell_type": "code",
   "execution_count": null,
   "metadata": {},
   "outputs": [],
   "source": [
    "metric_sadaptivermf2 = benchmark_sadaptivermf_lorenz96(model, data, path, Ne_array, β_array, p);"
   ]
  },
  {
   "cell_type": "code",
   "execution_count": null,
   "metadata": {},
   "outputs": [],
   "source": [
    "save(path*\"metric_sadaptivermf\"*string(p)*\".jld\", \"metric\", metric_sadaptivermf0)"
   ]
  }
 ],
 "metadata": {
  "kernelspec": {
   "display_name": "Julia 1.5.3",
   "language": "julia",
   "name": "julia-1.5"
  },
  "language_info": {
   "file_extension": ".jl",
   "mimetype": "application/julia",
   "name": "julia",
   "version": "1.5.3"
  }
 },
 "nbformat": 4,
 "nbformat_minor": 2
}
