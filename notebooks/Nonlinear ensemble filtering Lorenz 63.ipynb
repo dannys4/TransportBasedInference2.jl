{
 "cells": [
  {
   "cell_type": "markdown",
   "metadata": {},
   "source": [
    "## 5. Nonlinear ensemble filtering for the Lorenz-63 problem"
   ]
  },
  {
   "cell_type": "markdown",
   "metadata": {},
   "source": [
    "In this notebook, we are interested in the sequential inference \n",
    "\n",
    "\n",
    "\n",
    "References: \n",
    "\n",
    "\n",
    "[1] Evensen, G., 1994. Sequential data assimilation with a nonlinear quasi‐geostrophic model using Monte Carlo methods to forecast error statistics. Journal of Geophysical Research: Oceans, 99(C5), pp.10143-10162.\n",
    "\n",
    "[2] Asch, M., Bocquet, M. and Nodet, M., 2016. Data assimilation: methods, algorithms, and applications. Society for Industrial and Applied Mathematics.\n",
    "\n",
    "[3] Bishop, C.H., Etherton, B.J. and Majumdar, S.J., 2001. Adaptive sampling with the ensemble transform Kalman filter. Part I: Theoretical aspects. Monthly weather review, 129(3), pp.420-436. \n",
    "\n",
    "[4] Lorenz, E.N., 1963. Deterministic nonperiodic flow. Journal of atmospheric sciences, 20(2), pp.130-141.\n",
    "\n",
    "[5] Spantini, A., Baptista, R. and Marzouk, Y., 2019. Coupling techniques for nonlinear ensemble filtering. arXiv preprint arXiv:1907.00389."
   ]
  },
  {
   "cell_type": "markdown",
   "metadata": {},
   "source": [
    "### The basic steps\n",
    "To carry out sequential inference in `AdaptiveTransportMap`, we need to carry out a few basic steps:\n",
    "* **Specify the problem**: Define the state-space model: initial condition, dynamical and observation models (including process and observation noise)\n",
    "* **Specify the inflation parameters**: Determine the levels of covariance inflation to properly balance the dynamical system and the observations from the truth system\n",
    "* **Specify the filter**: Choose the ensemble filter to assimilate the observations in the state estimate\n",
    "* **Perform the sequential inference**: Perform the sequential inference\n",
    "\n",
    "We will go through all of these here."
   ]
  },
  {
   "cell_type": "code",
   "execution_count": 1,
   "metadata": {},
   "outputs": [],
   "source": [
    "using Revise\n",
    "using LinearAlgebra\n",
    "using AdaptiveTransportMap\n",
    "using Statistics\n",
    "using Distributions"
   ]
  },
  {
   "cell_type": "markdown",
   "metadata": {},
   "source": [
    "Load some packages to make nice figures"
   ]
  },
  {
   "cell_type": "code",
   "execution_count": 2,
   "metadata": {},
   "outputs": [
    {
     "name": "stderr",
     "output_type": "stream",
     "text": [
      "┌ Info: Precompiling Plots [91a5bcdd-55d7-5caf-9e0b-520d859cae80]\n",
      "└ @ Base loading.jl:1278\n",
      "┌ Info: Precompiling PyPlot [d330b81b-6aea-500a-939a-2ce795aea3ee]\n",
      "└ @ Base loading.jl:1278\n"
     ]
    }
   ],
   "source": [
    "using Plots\n",
    "default(tickfont = font(\"CMU Serif\", 9), \n",
    "        titlefont = font(\"CMU Serif\", 14), \n",
    "        guidefont = font(\"CMU Serif\", 12),\n",
    "        legendfont = font(\"CMU Serif\", 10),\n",
    "        grid = false)\n",
    "pyplot()\n",
    "\n",
    "using LaTeXStrings\n",
    "PyPlot.rc(\"text\", usetex = \"true\")\n",
    "PyPlot.rc(\"font\", family = \"CMU Serif\")\n",
    "# gr()\n",
    "using ColorSchemes"
   ]
  },
  {
   "cell_type": "markdown",
   "metadata": {},
   "source": [
    "The Lorenz-63  model is a three dimensional system that models the atmospheric convection [4]. This system is a classical benchmark problem in data assimilation. The state $\\boldsymbol{x} = (x_1, x_2, x_3)$ is governed by the following set of ordinary differential equations:\n",
    "\n",
    "\\begin{equation}\n",
    "\\begin{aligned}\n",
    "&\\frac{\\mathrm{d} x_1}{\\mathrm{d} t}=\\sigma(x_2-x_1)\\\\\n",
    "&\\frac{\\mathrm{d} x_2}{\\mathrm{d} t}=x_1(\\rho-x_2)-x_2\\\\\n",
    "&\\frac{\\mathrm{d} x_3}{\\mathrm{d} t}=x_1 x_2-\\beta x_3,\n",
    "\\end{aligned}\n",
    "\\end{equation}\n",
    "\n",
    "where $\\sigma = 10, \\beta = 8/3, \\rho = 28$. For these values, the system is chaotic and behaves like a strange attractor."
   ]
  },
  {
   "cell_type": "markdown",
   "metadata": {},
   "source": [
    "### Simple twin-experiment"
   ]
  },
  {
   "cell_type": "markdown",
   "metadata": {},
   "source": [
    "Define the dimension of the state and observation vectors"
   ]
  },
  {
   "cell_type": "code",
   "execution_count": 3,
   "metadata": {},
   "outputs": [
    {
     "data": {
      "text/plain": [
       "3"
      ]
     },
     "execution_count": 3,
     "metadata": {},
     "output_type": "execute_result"
    }
   ],
   "source": [
    "Nx = 3\n",
    "Ny = 3"
   ]
  },
  {
   "cell_type": "markdown",
   "metadata": {},
   "source": [
    "Define the time steps $\\Delta t_{dyn}, \\Delta t_{obs}$  of the dynamical and observation models. Observations from the truth are assimilated every $\\Delta t_{obs}$."
   ]
  },
  {
   "cell_type": "code",
   "execution_count": 4,
   "metadata": {},
   "outputs": [
    {
     "data": {
      "text/plain": [
       "0.2"
      ]
     },
     "execution_count": 4,
     "metadata": {},
     "output_type": "execute_result"
    }
   ],
   "source": [
    "Δtdyn = 0.05\n",
    "Δtobs = 0.2"
   ]
  },
  {
   "cell_type": "markdown",
   "metadata": {},
   "source": [
    "Define the additive inflation for the dynamical and observation models"
   ]
  },
  {
   "cell_type": "markdown",
   "metadata": {},
   "source": [
    "Define the time span of interest"
   ]
  },
  {
   "cell_type": "code",
   "execution_count": 5,
   "metadata": {},
   "outputs": [
    {
     "data": {
      "text/plain": [
       "5000"
      ]
     },
     "execution_count": 5,
     "metadata": {},
     "output_type": "execute_result"
    }
   ],
   "source": [
    "t0 = 0.0\n",
    "tf = 1000.0\n",
    "Tf = ceil(Int64, tf/Δtobs)"
   ]
  },
  {
   "cell_type": "markdown",
   "metadata": {},
   "source": [
    "Define the properties of the initial condition"
   ]
  },
  {
   "cell_type": "code",
   "execution_count": 6,
   "metadata": {},
   "outputs": [],
   "source": [
    "m0 = zeros(Nx)\n",
    "C0 = Matrix(1.0*I, Nx, Nx);"
   ]
  },
  {
   "cell_type": "markdown",
   "metadata": {},
   "source": [
    "We construct the state-space representation `F` of the system composed of the deterministic part of the dynamical and observation models. \n",
    "\n",
    "The dynamical model is provided by the right hand side of the ODE to solve. For a system of ODEs, we will prefer an in-place syntax `f(du, u, p, t)`, where `p` are parameters of the model.\n",
    "We rely on `OrdinaryDiffEq` to integrate the dynamical system with the Tsitouras 5/4 Runge-Kutta method adaptive time marching. \n",
    "\n",
    "We assume that the state is fully observable, i.e. $h(t,x) = x$."
   ]
  },
  {
   "cell_type": "code",
   "execution_count": 7,
   "metadata": {},
   "outputs": [
    {
     "data": {
      "text/plain": [
       "StateSpace(ODElorenz63!, h)"
      ]
     },
     "execution_count": 7,
     "metadata": {},
     "output_type": "execute_result"
    }
   ],
   "source": [
    "function ODElorenz63!(du,u,p,t)\n",
    "    du[1] = 10.0*(u[2]-u[1])\n",
    "    du[2] = u[1]*(28.0-u[3]) - u[2]\n",
    "    du[3] = u[1]*u[2] - (8/3)*u[3]\n",
    "    return du\n",
    "end\n",
    "h(t,x) = x\n",
    "\n",
    "F = StateSpace(ODElorenz63!, h)"
   ]
  },
  {
   "cell_type": "code",
   "execution_count": 15,
   "metadata": {},
   "outputs": [
    {
     "data": {
      "text/plain": [
       "AdditiveInflation(3, [0.0, 0.0, 0.0], [25.0 0.0 0.0; 0.0 25.0 0.0; 0.0 0.0 25.0], [5.0 0.0 0.0; 0.0 5.0 0.0; 0.0 0.0 5.0])"
      ]
     },
     "execution_count": 15,
     "metadata": {},
     "output_type": "execute_result"
    }
   ],
   "source": [
    "σx = 1e-1\n",
    "σy = 5.0\n",
    "\n",
    "ϵx = AdditiveInflation(Nx, zeros(Nx), σx)\n",
    "ϵy = AdditiveInflation(Ny, zeros(Ny), σy)"
   ]
  },
  {
   "cell_type": "markdown",
   "metadata": {},
   "source": [
    "In `AdaptiveTransportMap`, we have implemented different kind of inflation, that are all subtypes of abstract type `InflationType`:\n",
    "        \n",
    "* `IdentityInflation`\n",
    "* `AdditiveInflation` that applies \n",
    "* `MultiplicativeInflation`\n",
    "* `MultiAddInflation`\n",
    "\n",
    "New types of inflation can easily be created and integrated in the existing tools of `AdaptiveTransportMap`, as long as the satisfy the following requirements: \n",
    "\n",
    "\n",
    "The function `MyInflationType <: InflationType` and"
   ]
  },
  {
   "cell_type": "code",
   "execution_count": 14,
   "metadata": {},
   "outputs": [
    {
     "ename": "LoadError",
     "evalue": "\u001b[91mUndefVarError: X not defined\u001b[39m",
     "output_type": "error",
     "traceback": [
      "\u001b[91mUndefVarError: X not defined\u001b[39m",
      "",
      "Stacktrace:",
      " [1] top-level scope at In[14]:1",
      " [2] include_string(::Function, ::Module, ::String, ::String) at ./loading.jl:1091"
     ]
    }
   ],
   "source": [
    "smf = StochMapFilter(x->x, ϵy, HermiteMap(20, ; diag = true)"
   ]
  },
  {
   "cell_type": "code",
   "execution_count": 9,
   "metadata": {},
   "outputs": [],
   "source": [
    "model = Model(Nx, Ny, Δtdyn, Δtobs, ϵx, ϵy, m0, C0, 0, 0, 0, F);"
   ]
  },
  {
   "cell_type": "markdown",
   "metadata": {},
   "source": [
    "For the twin-experiment, we use the function `generate_lorenz63` to integrate forward in time the Lorenz-63 ODE, and generate the observations that will be later assimilated into the ensemble filter. This function can easily be modified for your specific needs."
   ]
  },
  {
   "cell_type": "markdown",
   "metadata": {},
   "source": [
    "Set initial condition of the true system"
   ]
  },
  {
   "cell_type": "code",
   "execution_count": 10,
   "metadata": {},
   "outputs": [
    {
     "data": {
      "text/plain": [
       "3-element Array{Float64,1}:\n",
       "  0.058188984309341295\n",
       " -1.5485755003723605\n",
       " -0.6745325333006699"
      ]
     },
     "execution_count": 10,
     "metadata": {},
     "output_type": "execute_result"
    }
   ],
   "source": [
    "x0 = model.m0 + sqrt(model.C0)*randn(Nx)"
   ]
  },
  {
   "cell_type": "markdown",
   "metadata": {},
   "source": [
    "Run dynamics and generate data"
   ]
  },
  {
   "cell_type": "code",
   "execution_count": 11,
   "metadata": {},
   "outputs": [],
   "source": [
    "data = generate_lorenz63(model, x0, Tf);"
   ]
  },
  {
   "cell_type": "markdown",
   "metadata": {},
   "source": [
    "In `AdaptiveTransportMap`, we use the following convention to store the state and observation variables. The state and observation variables of the different ensemble members are stored in a matrix `X`. The different columns store the different samples. The first entries of a column contains the observation variables, while the latter contains the state variables. This convention might seems confusing at first, but it is very convenient for conditional density estimation, see notebook 2 or 5 for instance."
   ]
  },
  {
   "cell_type": "markdown",
   "metadata": {},
   "source": [
    "In `AdaptiveTransportMap`, the different ensemble filters are of type `SeqFilter`. We have implemented the following filters:\n",
    "    \n",
    "* a trivial identity filter\n",
    "* the stochastic version of the ensemble Kalman filter (sEnKF), Evensen [1].\n",
    "* a deterministic version of the ensemble Kalman filter: the ensemble transform Kalman filter (ETKF), Bishop et al. [3]. This filter exactly verifies the propagation equation for the covariance matrix of the Kalman filter. This deterministic filter reduced sampling error\n",
    "* the stochastic map filter (SMF) developed by Spantini et al. [5]. This filter is a nonlinear generalization of the sEnKF based on measure theory. This filter will be presented in the notebooks 6, 7."
   ]
  },
  {
   "cell_type": "markdown",
   "metadata": {},
   "source": [
    "New ensemble filter algorithms can easily be integrated with `AdaptiveTransportMap`. The only requirements are: \n",
    "To finish this comment"
   ]
  },
  {
   "cell_type": "code",
   "execution_count": 156,
   "metadata": {},
   "outputs": [
    {
     "data": {
      "text/plain": [
       "Stochastic EnKF  with filtered = false\n"
      ]
     },
     "execution_count": 156,
     "metadata": {},
     "output_type": "execute_result"
    }
   ],
   "source": [
    "smf = "
   ]
  },
  {
   "cell_type": "code",
   "execution_count": 157,
   "metadata": {},
   "outputs": [
    {
     "data": {
      "text/plain": [
       "ETKF  with filtered = false\n"
      ]
     },
     "execution_count": 157,
     "metadata": {},
     "output_type": "execute_result"
    }
   ],
   "source": [
    "etkf = ETKF(x->x, model.ϵy, model.Δtdyn, model.Δtobs, 20*model.Δtobs, false, false)"
   ]
  },
  {
   "cell_type": "markdown",
   "metadata": {},
   "source": [
    "Initialize the ensemble matrix `X` $\\in \\mathbb{R}^{(N_y + N_x) \\times N_e}$."
   ]
  },
  {
   "cell_type": "code",
   "execution_count": 158,
   "metadata": {},
   "outputs": [
    {
     "data": {
      "text/plain": [
       "3×100 view(::Array{Float64,2}, 4:6, :) with eltype Float64:\n",
       " -0.152531  -0.43009   -0.84409   …   1.55071    0.00911377  -1.99073\n",
       " -0.604179  -1.43155   -1.13024      -0.539315  -1.93767      0.0139871\n",
       "  0.145089  -0.579626   0.331371     -2.01104   -0.620639    -1.0148"
      ]
     },
     "execution_count": 158,
     "metadata": {},
     "output_type": "execute_result"
    }
   ],
   "source": [
    "Ne = 100 #ensemble size\n",
    "X = zeros(model.Ny + model.Nx, Ne)\n",
    "\n",
    "# Generate the initial conditions for the state.\n",
    "X[model.Ny+1:model.Ny+model.Nx,:] .= sqrt(model.C0)*randn(model.Nx, Ne) .+ model.m0"
   ]
  },
  {
   "cell_type": "markdown",
   "metadata": {},
   "source": [
    "Apply the sequential filter over the time window"
   ]
  },
  {
   "cell_type": "markdown",
   "metadata": {},
   "source": [
    "The function `seqassim` provides a friendly API to experiment with the different ensemble filters, the tuning of the different inflation parameters..."
   ]
  },
  {
   "cell_type": "code",
   "execution_count": 159,
   "metadata": {},
   "outputs": [],
   "source": [
    "Xsenkf = seqassim(F, data, Tf, model.ϵx, senkf, deepcopy(X), model.Ny, model.Nx, t0);"
   ]
  },
  {
   "cell_type": "code",
   "execution_count": 160,
   "metadata": {},
   "outputs": [],
   "source": [
    "Xetkf = seqassim(F, data, Tf, model.ϵx, etkf, deepcopy(X), model.Ny, model.Nx, t0);"
   ]
  },
  {
   "cell_type": "code",
   "execution_count": 161,
   "metadata": {},
   "outputs": [
    {
     "data": {
      "text/plain": [
       "3×4001 Array{Float64,2}:\n",
       " -8.00495  -2.11745  -5.01237  -13.4631  …   1.71709   0.987863   3.67144\n",
       " -2.81565  -1.59352  -7.58615  -12.2849      2.5711    2.13706    5.88889\n",
       " 32.5671   21.0196   16.6467    35.1349     15.9897   11.0794    11.0451"
      ]
     },
     "execution_count": 161,
     "metadata": {},
     "output_type": "execute_result"
    }
   ],
   "source": [
    "mean_hist(Xsenkf[1001:end])"
   ]
  },
  {
   "cell_type": "code",
   "execution_count": 162,
   "metadata": {},
   "outputs": [
    {
     "data": {
      "text/plain": [
       "3×4001 Array{Float64,2}:\n",
       " -8.59561  -2.62645  -5.63784  -14.1565  …   0.0425693  0.382422  2.81242\n",
       " -2.77304  -2.391    -9.30837  -13.9815      0.134579   0.760991  5.74809\n",
       " 33.343    20.6867   15.5699    34.8562     12.5584     7.44374   5.08979"
      ]
     },
     "execution_count": 162,
     "metadata": {},
     "output_type": "execute_result"
    }
   ],
   "source": [
    "data.xt[:,1000:end]"
   ]
  },
  {
   "cell_type": "code",
   "execution_count": 163,
   "metadata": {},
   "outputs": [
    {
     "data": {
      "text/plain": [
       "0.1331114059032366"
      ]
     },
     "execution_count": 163,
     "metadata": {},
     "output_type": "execute_result"
    }
   ],
   "source": [
    "norm(data.xt[:,2000:end] - mean_hist(Xsenkf[2001:end]))/norm(data.xt[:,2000:end])"
   ]
  },
  {
   "cell_type": "code",
   "execution_count": 164,
   "metadata": {},
   "outputs": [
    {
     "data": {
      "text/plain": [
       "0.1731461096719795"
      ]
     },
     "execution_count": 164,
     "metadata": {},
     "output_type": "execute_result"
    }
   ],
   "source": [
    "norm(data.xt[:,2000:end] - mean_hist(Xetkf[2001:end]))/norm(data.xt[:,2000:end])"
   ]
  },
  {
   "cell_type": "code",
   "execution_count": 114,
   "metadata": {},
   "outputs": [
    {
     "ename": "LoadError",
     "evalue": "\u001b[91mBoundsError: attempt to access 3000-element Array{Float64,1} at index [5800]\u001b[39m",
     "output_type": "error",
     "traceback": [
      "\u001b[91mBoundsError: attempt to access 3000-element Array{Float64,1} at index [5800]\u001b[39m",
      "",
      "Stacktrace:",
      " [1] getindex at ./array.jl:809 [inlined]",
      " [2] getindex(::Array{Float64,1}, ::StepRange{Int64,Int64}) at ./array.jl:834",
      " [3] top-level scope at In[114]:6",
      " [4] include_string(::Function, ::Module, ::String, ::String) at ./loading.jl:1091"
     ]
    }
   ],
   "source": [
    "# Plot the first component of the state over time\n",
    "nb = 5800\n",
    "ne = 6000\n",
    "Δ = 1\n",
    "plt = plot(xlim = (-Inf, Inf), ylim = (-Inf, Inf), xlabel = L\"t\", ylabel = L\"x_1\")\n",
    "plot!(plt, data.tt[nb:Δ:ne], data.xt[1,nb:Δ:ne], linewidth =  3, color = :teal, label = \"True\")\n",
    "plot!(plt, data.tt[nb:Δ:ne], mean_hist(Xsenkf)[1,1+nb:Δ:1+ne], linewidth = 3, grid = false,\n",
    "     color = :orangered2, linestyle = :dash, label = \"sEnKF\")\n",
    "scatter!(plt, data.tt[nb:Δ:ne], data.yt[1,nb:Δ:ne], linewidth = 3, color = :grey, markersize = 5, alpha = 0.5, label = \"Observation\")\n",
    "plt"
   ]
  },
  {
   "cell_type": "code",
   "execution_count": 115,
   "metadata": {},
   "outputs": [
    {
     "ename": "LoadError",
     "evalue": "\u001b[91mBoundsError: attempt to access 3000-element Array{Float64,1} at index [5500]\u001b[39m",
     "output_type": "error",
     "traceback": [
      "\u001b[91mBoundsError: attempt to access 3000-element Array{Float64,1} at index [5500]\u001b[39m",
      "",
      "Stacktrace:",
      " [1] getindex at ./array.jl:809 [inlined]",
      " [2] getindex(::Array{Float64,1}, ::StepRange{Int64,Int64}) at ./array.jl:834",
      " [3] top-level scope at ./In[115]:9",
      " [4] include_string(::Function, ::Module, ::String, ::String) at ./loading.jl:1091"
     ]
    }
   ],
   "source": [
    "# Plot the different component of the state over time\n",
    "nb = 5500\n",
    "ne = 6000\n",
    "Δ = 1\n",
    "plt = plot(layout = grid(3,1), xlim = (-Inf, Inf), ylim = (-Inf, Inf), xlabel = L\"t\", \n",
    "           size = (900, 1000))\n",
    "\n",
    "for i =1:3\n",
    "    plot!(plt[i,1], data.tt[nb:Δ:ne], data.xt[i,nb:Δ:ne], linewidth =  2, color = :teal, \n",
    "          ylabel = latexstring(\"x_\"*string(i)), legend = (i == 1), label = \"True\")\n",
    "    plot!(plt[i,1], data.tt[nb:Δ:ne], mean_hist(Xsenkf)[i,1+nb:Δ:1+ne], linewidth = 2, grid = false,\n",
    "          color = :orangered2, linestyle = :dash, label = \"sEnKF\")\n",
    "    scatter!(plt[i,1], data.tt[nb:Δ:ne], data.yt[i,nb:Δ:ne], linewidth = 3, color = :grey, \n",
    "          markersize = 5, alpha = 0.5, label  = \"Observation\")\n",
    "end\n",
    "\n",
    "plt"
   ]
  },
  {
   "cell_type": "markdown",
   "metadata": {},
   "source": [
    "Talk about the benchmark of the different filters"
   ]
  },
  {
   "cell_type": "markdown",
   "metadata": {},
   "source": [
    "### Benchmark of the EnKF filter"
   ]
  },
  {
   "cell_type": "code",
   "execution_count": 116,
   "metadata": {},
   "outputs": [
    {
     "name": "stdout",
     "output_type": "stream",
     "text": [
      "Ne 10 RMSE: 3.8254663423276716\n",
      "Ne 20 RMSE: 2.0605921219961134\n",
      "Ne 40 RMSE: 0.4223537564608097\n",
      "Ne 60 RMSE: 0.40146546759545937\n",
      "Ne 100 RMSE: 0.3877197292448612\n",
      "Ne 200 RMSE: 0.4025809532902939\n",
      " 15.443304 seconds (68.89 M allocations: 6.501 GiB, 6.17% gc time)\n"
     ]
    }
   ],
   "source": [
    "path = pwd()*\"/lorenz63/data/\"\n",
    "Nx = 3\n",
    "Ny = 3\n",
    "Ne_array = [10, 20, 40, 60, 100, 200];\n",
    "@time model, data = setup_lorenz63(path, Ne_array);"
   ]
  },
  {
   "cell_type": "code",
   "execution_count": 55,
   "metadata": {},
   "outputs": [
    {
     "name": "stdout",
     "output_type": "stream",
     "text": [
      "(Ne, β) = (10, 1.0)\n",
      "  0.482682 seconds (3.47 M allocations: 329.564 MiB, 11.44% gc time)\n",
      "Ne = 10\n",
      "Ne 10& β 1.0 RMSE: 0.6015590736992926\n"
     ]
    },
    {
     "name": "stderr",
     "output_type": "stream",
     "text": [
      "\r",
      "\u001b[32mProgress:  17%|██████▉                                  |  ETA: 0:00:05\u001b[39m"
     ]
    },
    {
     "name": "stdout",
     "output_type": "stream",
     "text": [
      "(Ne, β) = (20, 1.0)\n",
      "  "
     ]
    },
    {
     "name": "stderr",
     "output_type": "stream",
     "text": [
      "\r",
      "\u001b[32mProgress:  33%|█████████████▋                           |  ETA: 0:00:04\u001b[39m"
     ]
    },
    {
     "name": "stdout",
     "output_type": "stream",
     "text": [
      "0.859515 seconds (6.59 M allocations: 631.994 MiB, 8.56% gc time)\n",
      "Ne = 20\n",
      "Ne 20& β 1.0 RMSE: 0.5184477645494938\n",
      "(Ne, β) = (40, 1.0)\n",
      "  "
     ]
    },
    {
     "name": "stderr",
     "output_type": "stream",
     "text": [
      "\r",
      "\u001b[32mProgress:  50%|████████████████████▌                    |  ETA: 0:00:04\u001b[39m"
     ]
    },
    {
     "name": "stdout",
     "output_type": "stream",
     "text": [
      "1.662244 seconds (12.83 M allocations: 1.210 GiB, 8.65% gc time)\n",
      "Ne = 40\n",
      "Ne 40& β 1.0 RMSE: 0.4483744816193398\n",
      "(Ne, β) = (60, 1.0)\n",
      "  "
     ]
    },
    {
     "name": "stderr",
     "output_type": "stream",
     "text": [
      "\r",
      "\u001b[32mProgress:  67%|███████████████████████████▍             |  ETA: 0:00:03\u001b[39m"
     ]
    },
    {
     "name": "stdout",
     "output_type": "stream",
     "text": [
      "2.463622 seconds (19.07 M allocations: 1.804 GiB, 8.51% gc time)\n",
      "Ne = 60\n",
      "Ne 60& β 1.0 RMSE: 0.4403101469791623\n",
      "(Ne, β) = (100, 1.0)\n",
      "  "
     ]
    },
    {
     "name": "stderr",
     "output_type": "stream",
     "text": [
      "\r",
      "\u001b[32mProgress:  83%|██████████████████████████████████▏      |  ETA: 0:00:02\u001b[39m"
     ]
    },
    {
     "name": "stdout",
     "output_type": "stream",
     "text": [
      "4.334649 seconds (31.55 M allocations: 2.983 GiB, 8.49% gc time)\n",
      "Ne = 100\n",
      "Ne 100& β 1.0 RMSE: 0.4303647629868742\n",
      "(Ne, β) = (200, 1.0)\n",
      " 13.776164 seconds (62.75 M allocations: 5.935 GiB, 7.19% gc time)\n",
      "Ne = 200\n",
      "Ne 200& β 1.0 RMSE: 0.4465248257137066"
     ]
    },
    {
     "name": "stderr",
     "output_type": "stream",
     "text": [
      "\r",
      "\u001b[32mProgress: 100%|█████████████████████████████████████████| Time: 0:00:24\u001b[39m\n"
     ]
    },
    {
     "name": "stdout",
     "output_type": "stream",
     "text": [
      "\n"
     ]
    },
    {
     "data": {
      "text/plain": [
       "6-element Array{Any,1}:\n",
       " Metrics[Metrics(10, [0.8166106052280312, 0.8477976249831615, 0.5377435004826744, 0.2946057216215732, 0.1963372890873663, 0.1661211989653268, 0.09550122139602638, 0.10895691501209233, 0.061645037116889324, 0.1556247918798692  …  4.0942175082812975, 2.918216773645667, 2.293946056603929, 2.3368525142834664, 2.9966610036699945, 2.488711153121422, 2.060789991067101, 2.000268585410395, 2.0094430111553767, 1.633586039615903], 0.37686107778341077, 0.6015590736992926, 0.8149386709205617, [1.0125271950095414, 0.9623361052178709, 0.7792957424814254, 0.4344193482216172, 0.2873587820499424, 0.2729751953413108, 0.40382950988831384, 0.6108278943470481, 0.6592219807793599, 0.4157011617649463  …  0.6622613427311322, 0.9156031963385003, 1.1880540752197546, 1.010250360884169, 0.9055102239545725, 0.6429162631150634, 0.5592022167774022, 0.6557579770729094, 0.987851621549649, 1.1234614213819019], 0.4419068954362283, 0.5053138269227165, 0.25903240927442023, [1.0, 1.0, 0.6666666666666666, 0.6666666666666666, 1.0, 1.0, 1.0, 1.0, 1.0, 1.0  …  0.6666666666666666, 0.6666666666666666, 0.3333333333333333, 0.3333333333333333, 0.0, 0.3333333333333333, 0.0, 0.0, 0.3333333333333333, 0.6666666666666666], 1.0, 0.7261666666666667, 0.36457522740458864)]\n",
       " Metrics[Metrics(20, [0.8009234015601246, 0.8873529418152709, 0.9648186335874159, 0.2241641575750264, 0.08972122691323191, 0.40502498541772275, 0.9061432442037632, 1.2895306531554689, 0.7946468671210342, 0.3985672597736556  …  0.3346030298442835, 0.5163997563927475, 0.43517438396749325, 0.598360550796541, 0.5362700352527868, 0.4471320623829449, 0.29561670268590506, 0.18851296824592492, 0.17522643152541226, 0.07857223386207775], 0.35531061663093255, 0.5184477645494938, 0.4845044270612191, [1.3258269952984914, 1.219366525258285, 1.1067738085368013, 0.8876478449926386, 0.6257782703432062, 0.5204509248590731, 0.6103587013183903, 0.7679474941003844, 0.5675737349456604, 0.5082509495209795  …  0.5453088799482404, 0.5575510867223642, 0.5540770509755611, 0.5983031348899548, 0.50022559167807, 0.42259328666553975, 0.3198506611541602, 0.3043017231422324, 0.38395027869333503, 0.5385430054163486], 0.47192182393714555, 0.5305997869038892, 0.24119505026883653, [1.0, 1.0, 1.0, 1.0, 1.0, 1.0, 0.3333333333333333, 0.0, 0.6666666666666666, 1.0  …  1.0, 1.0, 1.0, 1.0, 1.0, 1.0, 1.0, 1.0, 1.0, 1.0], 1.0, 0.8525, 0.2979733949063843)]\n",
       " Metrics[Metrics(40, [0.9826817575939837, 0.8853553187784176, 0.3822879886654962, 0.1560808317176755, 0.16401163158104606, 0.2641915580627298, 0.4821786668586909, 0.7562409207457594, 0.5304897251404828, 0.2335617480836244  …  0.46302073478462163, 0.44641521503457005, 0.5198248995974374, 0.8841581293917309, 0.8944940422060007, 0.6869037355788589, 0.47199979466366954, 0.3146926290239334, 0.22052593050442004, 0.2011946269035898], 0.31988125779252113, 0.4483744816193398, 0.3888888264729722, [0.9910648265607959, 1.0389612210939443, 0.9976972004017787, 0.6975832292555886, 0.40656021680950216, 0.3543519277702079, 0.4841426130471005, 0.6802004103354949, 0.5357937586885131, 0.4567283561463507  …  0.34892484591013456, 0.4717990778913134, 0.618724675393529, 0.5828250426543808, 0.4770344985964706, 0.39083347571382326, 0.2923228793059253, 0.3054108982896446, 0.45375090190774553, 0.6625324478592381], 0.4946079848132213, 0.5558350191174204, 0.23424766693404636, [1.0, 1.0, 1.0, 1.0, 1.0, 1.0, 1.0, 1.0, 1.0, 1.0  …  0.6666666666666666, 1.0, 1.0, 0.6666666666666666, 0.6666666666666666, 0.6666666666666666, 0.6666666666666666, 0.6666666666666666, 1.0, 1.0], 1.0, 0.9485, 0.17881512390001802)]\n",
       " Metrics[Metrics(60, [0.9958246928389437, 1.1406683287468808, 0.5892665012618263, 0.06937257988643586, 0.11686273681705214, 0.2663933938825168, 0.5322621212098003, 0.9316025189352882, 0.728746365036979, 0.4082893401458479  …  0.22786860029792666, 0.31749262144454576, 0.35389057590962486, 0.5051968531575757, 0.556030690676821, 0.4877666524221944, 0.30372102936096423, 0.2222280953223254, 0.28222115198656517, 0.24913840043694432], 0.30630601607276686, 0.4403101469791623, 0.38370929842878665, [1.15339760434503, 1.111068400675063, 1.0617894821482072, 0.7246278025729431, 0.4659868724356628, 0.4125774571657407, 0.5030501098617005, 0.6339205155508028, 0.5972643721683021, 0.4689687485398599  …  0.3842024564419135, 0.48550370981036023, 0.5900843703168447, 0.6445608536580213, 0.500422315137187, 0.4156164932470485, 0.3016388798926969, 0.2916869146188145, 0.40422049044227376, 0.6320377754649462], 0.5153348159848088, 0.5717853643157081, 0.2325183875067794, [1.0, 1.0, 1.0, 1.0, 1.0, 1.0, 1.0, 1.0, 1.0, 1.0  …  1.0, 1.0, 1.0, 1.0, 1.0, 1.0, 1.0, 1.0, 1.0, 1.0], 1.0, 0.9791666666666667, 0.10627248639759496)]\n",
       " Metrics[Metrics(100, [1.1447153311331781, 1.38577826954797, 0.8011100613741654, 0.2521263581826285, 0.3020487816972422, 0.508284816604461, 0.8670734818498514, 1.1608770052370112, 0.8718084104569586, 0.5296218649707812  …  0.2398186998545124, 0.25503741685515185, 0.22177804228613865, 0.41110055435395404, 0.47496251760836805, 0.40719857492095896, 0.24764360531773363, 0.13828193095173355, 0.0826234199512165, 0.26856854675486025], 0.2893155689372151, 0.4303647629868742, 0.38191564508486936, [0.9527704170384034, 0.9321001672664082, 1.0398646440457058, 0.6935998849951813, 0.44319915626874445, 0.3912492072948739, 0.5244511435147953, 0.6086134296913539, 0.5544278894887922, 0.4791755006959619  …  0.3928515891332105, 0.5199694696873517, 0.6603156868760311, 0.7450505076075534, 0.6302553655749117, 0.5068577227060873, 0.37451309930446913, 0.35529727887821777, 0.5185904054762793, 0.7753972206416857], 0.5329209748271038, 0.5871951348369144, 0.2322523924985191, [1.0, 1.0, 1.0, 1.0, 1.0, 1.0, 1.0, 1.0, 1.0, 1.0  …  1.0, 1.0, 1.0, 1.0, 1.0, 1.0, 1.0, 1.0, 1.0, 1.0], 1.0, 0.9911666666666668, 0.07514664299502112)]\n",
       " Metrics[Metrics(200, [0.888273273483637, 1.0797033517549515, 0.3440269499593048, 0.21420101076430767, 0.16162425690189322, 0.3253767298519863, 0.7050060288401291, 1.0723841440703699, 0.7927858236953814, 0.37303796598152517  …  0.14863863331263572, 0.13098694675828024, 0.01569618827238591, 0.16380423196922922, 0.33101947558854705, 0.3183054841536702, 0.19962116984435951, 0.10929821953369317, 0.07402847742163798, 0.21688151831203697], 0.3082727000481167, 0.4465248257137066, 0.38847206086051883, [1.1025016902484062, 1.1585146386588427, 1.050280287671641, 0.7264029154997294, 0.46463567765400915, 0.4408017551630872, 0.5331142954826315, 0.6640979088648434, 0.6326136904712192, 0.5171574662091373  …  0.4291626962129586, 0.5520631256132565, 0.6739989865135746, 0.774635718849873, 0.6359763126942447, 0.5135438852089059, 0.3752157713769756, 0.3581808492199844, 0.47687145842631096, 0.6813329693353127], 0.5508320940815306, 0.6018345158581575, 0.23071327806131858, [1.0, 1.0, 1.0, 1.0, 1.0, 1.0, 1.0, 1.0, 1.0, 1.0  …  1.0, 1.0, 1.0, 1.0, 1.0, 1.0, 1.0, 1.0, 1.0, 1.0], 1.0, 0.9908333333333332, 0.07584313842648356)]"
      ]
     },
     "execution_count": 55,
     "metadata": {},
     "output_type": "execute_result"
    }
   ],
   "source": [
    "metric_list = benchmark_lorenz63(model, data, path, Ne_array, [1.0])"
   ]
  },
  {
   "cell_type": "code",
   "execution_count": 23,
   "metadata": {},
   "outputs": [
    {
     "name": "stdout",
     "output_type": "stream",
     "text": [
      "(Ne, β) = (200, 1.0)\n",
      "  7.739944 seconds (62.75 M allocations: 5.935 GiB, 6.06% gc time)\n",
      "Ne = 200\n",
      "Ne 200& β 1.0 RMSE: 0.4189442707516625\n"
     ]
    },
    {
     "data": {
      "text/plain": [
       "1-element Array{Any,1}:\n",
       " Metrics[Metrics(200, [0.27418871478089074, 0.4011111920900346, 0.6224367042654201, 1.1940241372680338, 1.178706937442249, 0.629896584355798, 0.37352902606306937, 0.27598562967074297, 0.3415108073527272, 0.5385900049790774  …  0.22005926456584765, 0.11117371050261328, 0.0745833426310767, 0.06915409494524392, 0.23566185689849842, 0.4284533696688461, 0.7382482677445492, 1.2785156926466672, 0.9477650979445261, 0.8579855755647071], 0.2843509443072877, 0.4189442707516625, 0.3843942458358231, [0.2791191166770778, 0.3308824803118106, 0.5356751453956368, 0.7482658949655999, 0.6849666981780923, 0.5401293761758875, 0.3905840265207302, 0.30529026491290673, 0.3612676308031941, 0.5506587576884893  …  0.9550452598208562, 0.7275900415277436, 0.5097020874896808, 0.38068472189933705, 0.44668108906035564, 0.6711198461183089, 0.7934070557338772, 0.953289237580203, 1.0821830718436276, 1.1373384160933897], 0.529889526630428, 0.584733698922179, 0.23401428353181045, [1.0, 1.0, 1.0, 1.0, 0.6666666666666666, 1.0, 1.0, 1.0, 1.0, 1.0  …  1.0, 1.0, 1.0, 1.0, 1.0, 1.0, 1.0, 1.0, 1.0, 1.0], 1.0, 0.9928333333333332, 0.065876381401767)]"
      ]
     },
     "execution_count": 23,
     "metadata": {},
     "output_type": "execute_result"
    }
   ],
   "source": [
    "metric_list = benchmark_lorenz63(model, data, path, Ne_array, [1.0])"
   ]
  }
 ],
 "metadata": {
  "kernelspec": {
   "display_name": "Julia 1.5.3",
   "language": "julia",
   "name": "julia-1.5"
  },
  "language_info": {
   "file_extension": ".jl",
   "mimetype": "application/julia",
   "name": "julia",
   "version": "1.5.3"
  }
 },
 "nbformat": 4,
 "nbformat_minor": 2
}
