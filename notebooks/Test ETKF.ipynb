{
 "cells": [
  {
   "cell_type": "code",
   "execution_count": 1,
   "metadata": {},
   "outputs": [
    {
     "name": "stderr",
     "output_type": "stream",
     "text": [
      "\u001b[32m\u001b[1m Activating\u001b[22m\u001b[39m environment at `/media/mat/HDD/AdaptiveTransportMap/Project.toml`\n"
     ]
    }
   ],
   "source": [
    "using Pkg\n",
    "Pkg.activate(\"/media/mat/HDD/AdaptiveTransportMap/\")"
   ]
  },
  {
   "cell_type": "code",
   "execution_count": 8,
   "metadata": {},
   "outputs": [],
   "source": [
    "using LinearAlgebra\n",
    "using Statistics\n",
    "using AdaptiveTransportMap\n",
    "using Random\n",
    "using RandomMatrices\n",
    "using BenchmarkTools"
   ]
  },
  {
   "cell_type": "code",
   "execution_count": 6,
   "metadata": {},
   "outputs": [
    {
     "data": {
      "text/plain": [
       "f4 (generic function with 1 method)"
      ]
     },
     "execution_count": 6,
     "metadata": {},
     "output_type": "execute_result"
    }
   ],
   "source": [
    "function f1(A, Y, R)\n",
    "    (op1=A\\Y, \n",
    "     op2=real.(sqrt(inv(A)))*R)\n",
    "end\n",
    "function f2(A::Hermitian, Y, R)\n",
    "    (op1 = A\\Y, \n",
    "     op2 = sqrt(A)\\R)\n",
    "end\n",
    "function f3(A::Hermitian, Y, R)\n",
    "    λ, ϕ = eigen(A)\n",
    "    (op1 = ϕ * Diagonal(1 ./ λ) * ϕ' * Y,\n",
    "     op2 = ϕ * Diagonal( 1 ./ sqrt.(λ)) * ϕ' * R)\n",
    "end\n",
    "function f4(A::Hermitian, Y, R)\n",
    "    C = cholesky(A)\n",
    "    (op1 = C \\ Y,\n",
    "     op2 = C.L \\ R)\n",
    "end"
   ]
  },
  {
   "cell_type": "code",
   "execution_count": 9,
   "metadata": {},
   "outputs": [
    {
     "name": "stdout",
     "output_type": "stream",
     "text": [
      "  8.377 ms (31 allocations: 1.38 MiB)\n",
      "  2.000 ms (33 allocations: 705.03 KiB)\n",
      "  1.112 ms (31 allocations: 704.16 KiB)\n",
      "  145.671 μs (10 allocations: 273.80 KiB)\n"
     ]
    },
    {
     "data": {
      "text/plain": [
       "(same_results = (true, false), same_eigvalues = false, same_singvalues = true)"
      ]
     },
     "execution_count": 9,
     "metadata": {},
     "output_type": "execute_result"
    }
   ],
   "source": [
    "let N = 100, Nx = 50\n",
    "    U = randn(Nx, N) #switched Nx and N so the code runs\n",
    "    A = I + U'*U\n",
    "    \n",
    "    Y = randn(N, Nx)  #switched Nx and N so the code runs\n",
    "\n",
    "    # Generate Random Matrices\n",
    "    d = Haar(1)\n",
    "    R = rand(d, N)\n",
    "\n",
    "    r1 = @btime f1($A, $Y, $R)\n",
    "    r2 = @btime f2($(Hermitian(A)), $Y, $R)\n",
    "    r3 = @btime f3($(Hermitian(A)), $Y, $R)\n",
    "    r4 = @btime f4($(Hermitian(A)), $Y, $R)\n",
    "\n",
    "    (same_results = Tuple(r1) .≈ Tuple(r4), \n",
    "     same_eigvalues = eigvals(r4.op2) ≈ eigvals(r1.op2),\n",
    "     same_singvalues = svd(r4.op2).S ≈ svd(r1.op2).S)  \n",
    "end\n"
   ]
  },
  {
   "cell_type": "code",
   "execution_count": null,
   "metadata": {},
   "outputs": [],
   "source": []
  }
 ],
 "metadata": {
  "kernelspec": {
   "display_name": "Julia 1.5.3",
   "language": "julia",
   "name": "julia-1.5"
  },
  "language_info": {
   "file_extension": ".jl",
   "mimetype": "application/julia",
   "name": "julia",
   "version": "1.5.3"
  }
 },
 "nbformat": 4,
 "nbformat_minor": 4
}
