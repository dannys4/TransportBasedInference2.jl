{
 "cells": [
  {
   "cell_type": "code",
   "execution_count": 1,
   "metadata": {},
   "outputs": [
    {
     "name": "stderr",
     "output_type": "stream",
     "text": [
      "\u001b[32m\u001b[1m Activating\u001b[22m\u001b[39m environment at `/media/mat/HDD/AdaptiveTransportMap/Project.toml`\n"
     ]
    }
   ],
   "source": [
    "using Pkg\n",
    "Pkg.activate(\"/media/mat/HDD/AdaptiveTransportMap/\")"
   ]
  },
  {
   "cell_type": "code",
   "execution_count": 22,
   "metadata": {},
   "outputs": [
    {
     "name": "stderr",
     "output_type": "stream",
     "text": [
      "┌ Info: Precompiling OptimTestProblems [cec144fc-5a64-5bc6-99fb-dde8f63e154c]\n",
      "└ @ Base loading.jl:1278\n"
     ]
    }
   ],
   "source": [
    "using Revise\n",
    "using AdaptiveTransportMap\n",
    "using LinearAlgebra\n",
    "using Test\n",
    "using ForwardDiff\n",
    "using Optim\n",
    "using OptimTestProblems"
   ]
  },
  {
   "cell_type": "markdown",
   "metadata": {},
   "source": [
    "https://stackoverflow.com/questions/43158366/optim-jl-negative-inverse-hessian"
   ]
  },
  {
   "cell_type": "code",
   "execution_count": 65,
   "metadata": {},
   "outputs": [
    {
     "data": {
      "text/plain": [
       "OptimTestProblems.MultivariateProblems.OptimizationProblem{OptimTestProblems.MultivariateProblems.UnconstrainedProblems.MatVecHolder{Array{Float64,1},Array{Float64,2}},typeof(OptimTestProblems.MultivariateProblems.UnconstrainedProblems.extpowell_fun_gradient!),Float64,String,Nothing}(\"Extended Powell (100)\", OptimTestProblems.MultivariateProblems.UnconstrainedProblems.extpowell, OptimTestProblems.MultivariateProblems.UnconstrainedProblems.extpowell_gradient!, OptimTestProblems.MultivariateProblems.UnconstrainedProblems.extpowell_fun_gradient!, OptimTestProblems.MultivariateProblems.UnconstrainedProblems.extpowell_hessian!, nothing, [3.0, 3.0, 3.0, 3.0, 3.0, 3.0, 3.0, 3.0, 3.0, 3.0  …  1.0, 1.0, 1.0, 1.0, 1.0, 1.0, 1.0, 1.0, 1.0, 1.0], [0.0, 0.0, 0.0, 0.0, 0.0, 0.0, 0.0, 0.0, 0.0, 0.0  …  0.0, 0.0, 0.0, 0.0, 0.0, 0.0, 0.0, 0.0, 0.0, 0.0], 0.0, true, false, OptimTestProblems.MultivariateProblems.UnconstrainedProblems.MatVecHolder{Array{Float64,1},Array{Float64,2}}(Array{Float64}(undef,0,0), [NaN, 5.0e-324, 5.0e-324, 5.0e-324, 1.0e-323, 1.0e-323, 1.0e-323, 1.0e-323, 2.0e-323, 2.0e-323  …  4.0e-323, 4.0e-323, 2.0e-323, 2.0e-323, 1.0e-323, 1.0e-323, 0.0, 0.0, 0.0, 0.0]))"
      ]
     },
     "execution_count": 65,
     "metadata": {},
     "output_type": "execute_result"
    }
   ],
   "source": [
    "prob = OptimTestProblems.UnconstrainedProblems.examples[\"Extended Powell\"]"
   ]
  },
  {
   "cell_type": "code",
   "execution_count": 66,
   "metadata": {},
   "outputs": [
    {
     "data": {
      "text/plain": [
       "100-element Array{Float64,1}:\n",
       " 3.0\n",
       " 3.0\n",
       " 3.0\n",
       " 3.0\n",
       " 3.0\n",
       " 3.0\n",
       " 3.0\n",
       " 3.0\n",
       " 3.0\n",
       " 3.0\n",
       " 3.0\n",
       " 3.0\n",
       " 3.0\n",
       " ⋮\n",
       " 1.0\n",
       " 1.0\n",
       " 1.0\n",
       " 1.0\n",
       " 1.0\n",
       " 1.0\n",
       " 1.0\n",
       " 1.0\n",
       " 1.0\n",
       " 1.0\n",
       " 1.0\n",
       " 1.0"
      ]
     },
     "execution_count": 66,
     "metadata": {},
     "output_type": "execute_result"
    }
   ],
   "source": [
    "x0 = prob.initial_x"
   ]
  },
  {
   "cell_type": "code",
   "execution_count": 67,
   "metadata": {},
   "outputs": [
    {
     "data": {
      "text/plain": [
       "OnceDifferentiable{Float64,Array{Float64,1},Array{Float64,1}}(OptimTestProblems.MultivariateProblems.UnconstrainedProblems.extpowell, OptimTestProblems.MultivariateProblems.UnconstrainedProblems.extpowell_gradient!, NLSolversBase.var\"#fg!#8\"{typeof(OptimTestProblems.MultivariateProblems.UnconstrainedProblems.extpowell),typeof(OptimTestProblems.MultivariateProblems.UnconstrainedProblems.extpowell_gradient!)}(OptimTestProblems.MultivariateProblems.UnconstrainedProblems.extpowell, OptimTestProblems.MultivariateProblems.UnconstrainedProblems.extpowell_gradient!), 0.0, [NaN, NaN, NaN, NaN, NaN, NaN, NaN, NaN, NaN, NaN  …  NaN, NaN, NaN, NaN, NaN, NaN, NaN, NaN, NaN, NaN], [NaN, NaN, NaN, NaN, NaN, NaN, NaN, NaN, NaN, NaN  …  NaN, NaN, NaN, NaN, NaN, NaN, NaN, NaN, NaN, NaN], [NaN, NaN, NaN, NaN, NaN, NaN, NaN, NaN, NaN, NaN  …  NaN, NaN, NaN, NaN, NaN, NaN, NaN, NaN, NaN, NaN], [0], [0])"
      ]
     },
     "execution_count": 67,
     "metadata": {},
     "output_type": "execute_result"
    }
   ],
   "source": [
    "obj = OnceDifferentiable(prob.f, prob.g!, x0)"
   ]
  },
  {
   "cell_type": "code",
   "execution_count": 68,
   "metadata": {
    "scrolled": true
   },
   "outputs": [
    {
     "data": {
      "text/plain": [
       "LBFGS{Nothing,LineSearches.InitialStatic{Float64},LineSearches.HagerZhang{Float64,Base.RefValue{Bool}},Optim.var\"#17#19\"}(10, LineSearches.InitialStatic{Float64}\n",
       "  alpha: Float64 1.0\n",
       "  scaled: Bool false\n",
       ", LineSearches.HagerZhang{Float64,Base.RefValue{Bool}}\n",
       "  delta: Float64 0.1\n",
       "  sigma: Float64 0.9\n",
       "  alphamax: Float64 Inf\n",
       "  rho: Float64 5.0\n",
       "  epsilon: Float64 1.0e-6\n",
       "  gamma: Float64 0.66\n",
       "  linesearchmax: Int64 50\n",
       "  psi3: Float64 0.1\n",
       "  display: Int64 0\n",
       "  mayterminate: Base.RefValue{Bool}\n",
       ", nothing, Optim.var\"#17#19\"(), Flat(), true)"
      ]
     },
     "execution_count": 68,
     "metadata": {},
     "output_type": "execute_result"
    }
   ],
   "source": [
    "m = LBFGS()"
   ]
  },
  {
   "cell_type": "code",
   "execution_count": 69,
   "metadata": {},
   "outputs": [
    {
     "data": {
      "text/plain": [
       "                x_abstol = 0.0\n",
       "                x_reltol = 0.0\n",
       "                f_abstol = 0.0\n",
       "                f_reltol = 0.0\n",
       "                g_abstol = 1.0e-8\n",
       "                g_reltol = 1.0e-8\n",
       "          outer_x_abstol = 0.0\n",
       "          outer_x_reltol = 0.0\n",
       "          outer_f_abstol = 0.0\n",
       "          outer_f_reltol = 0.0\n",
       "          outer_g_abstol = 1.0e-8\n",
       "          outer_g_reltol = 1.0e-8\n",
       "           f_calls_limit = 0\n",
       "           g_calls_limit = 0\n",
       "           h_calls_limit = 0\n",
       "       allow_f_increases = true\n",
       " allow_outer_f_increases = true\n",
       "        successive_f_tol = 1\n",
       "              iterations = 1000\n",
       "        outer_iterations = 1000\n",
       "             store_trace = false\n",
       "           trace_simplex = false\n",
       "              show_trace = false\n",
       "          extended_trace = false\n",
       "              show_every = 1\n",
       "                callback = nothing\n",
       "              time_limit = NaN\n"
      ]
     },
     "execution_count": 69,
     "metadata": {},
     "output_type": "execute_result"
    }
   ],
   "source": [
    "options = Optim.Options()"
   ]
  },
  {
   "cell_type": "code",
   "execution_count": 70,
   "metadata": {},
   "outputs": [
    {
     "ename": "LoadError",
     "evalue": "\u001b[91mMethodError: no method matching extpowell_gradient!(::Array{Float64,1}, ::Array{Float64,1})\u001b[39m\n\u001b[91m\u001b[0mClosest candidates are:\u001b[39m\n\u001b[91m\u001b[0m  extpowell_gradient!(::AbstractArray, ::AbstractArray, \u001b[91m::OptimTestProblems.MultivariateProblems.UnconstrainedProblems.MatVecHolder\u001b[39m) at /home/mat/.julia/packages/OptimTestProblems/Y2KeO/src/optim_tests/multivariate/more_testing.jl:103\u001b[39m",
     "output_type": "error",
     "traceback": [
      "\u001b[91mMethodError: no method matching extpowell_gradient!(::Array{Float64,1}, ::Array{Float64,1})\u001b[39m\n\u001b[91m\u001b[0mClosest candidates are:\u001b[39m\n\u001b[91m\u001b[0m  extpowell_gradient!(::AbstractArray, ::AbstractArray, \u001b[91m::OptimTestProblems.MultivariateProblems.UnconstrainedProblems.MatVecHolder\u001b[39m) at /home/mat/.julia/packages/OptimTestProblems/Y2KeO/src/optim_tests/multivariate/more_testing.jl:103\u001b[39m",
      "",
      "Stacktrace:",
      " [1] (::NLSolversBase.var\"#fg!#8\"{typeof(OptimTestProblems.MultivariateProblems.UnconstrainedProblems.extpowell),typeof(OptimTestProblems.MultivariateProblems.UnconstrainedProblems.extpowell_gradient!)})(::Array{Float64,1}, ::Array{Float64,1}) at /home/mat/.julia/packages/NLSolversBase/geyh3/src/objective_types/abstract.jl:13",
      " [2] value_gradient!!(::OnceDifferentiable{Float64,Array{Float64,1},Array{Float64,1}}, ::Array{Float64,1}) at /home/mat/.julia/packages/NLSolversBase/geyh3/src/interface.jl:82",
      " [3] initial_state(::LBFGS{Nothing,LineSearches.InitialStatic{Float64},LineSearches.HagerZhang{Float64,Base.RefValue{Bool}},Optim.var\"#17#19\"}, ::Optim.Options{Float64,Nothing}, ::OnceDifferentiable{Float64,Array{Float64,1},Array{Float64,1}}, ::Array{Float64,1}) at /home/mat/.julia/packages/Optim/uwNqi/src/multivariate/solvers/first_order/l_bfgs.jl:164",
      " [4] top-level scope at In[70]:1",
      " [5] include_string(::Function, ::Module, ::String, ::String) at ./loading.jl:1091"
     ]
    }
   ],
   "source": [
    "lbfgsstate = Optim.initial_state(m, options, obj, x0)"
   ]
  },
  {
   "cell_type": "code",
   "execution_count": 56,
   "metadata": {},
   "outputs": [
    {
     "data": {
      "text/plain": [
       " * Status: success\n",
       "\n",
       " * Candidate solution\n",
       "    Final objective value:     8.809762e-22\n",
       "\n",
       " * Found with\n",
       "    Algorithm:     L-BFGS\n",
       "\n",
       " * Convergence measures\n",
       "    |x - x'|               = 3.93e-07 ≰ 0.0e+00\n",
       "    |x - x'|/|x'|          = 1.31e-07 ≰ 0.0e+00\n",
       "    |f(x) - f(x')|         = 3.24e-12 ≰ 0.0e+00\n",
       "    |f(x) - f(x')|/|f(x')| = 3.67e+09 ≰ 0.0e+00\n",
       "    |g(x)|                 = 2.99e-10 ≤ 1.0e-08\n",
       "\n",
       " * Work counters\n",
       "    Seconds run:   0  (vs limit Inf)\n",
       "    Iterations:    7\n",
       "    f(x) calls:    83\n",
       "    ∇f(x) calls:   83\n"
      ]
     },
     "execution_count": 56,
     "metadata": {},
     "output_type": "execute_result"
    }
   ],
   "source": [
    "res = Optim.optimize(obj, x0, m, options, lbfgsstate)"
   ]
  },
  {
   "cell_type": "code",
   "execution_count": 58,
   "metadata": {},
   "outputs": [
    {
     "data": {
      "text/plain": [
       "10-element Array{Float64,1}:\n",
       "   0.057996387008704235\n",
       "   0.17107101096570362\n",
       "   0.8588451556494114\n",
       "   4.7931509202222315\n",
       " 602.6338656770724\n",
       "   2.4257198702975223e6\n",
       "   1.545335431712599e11\n",
       " NaN\n",
       " NaN\n",
       " NaN"
      ]
     },
     "execution_count": 58,
     "metadata": {},
     "output_type": "execute_result"
    }
   ],
   "source": [
    "lbfgsstate.rho"
   ]
  },
  {
   "cell_type": "code",
   "execution_count": 49,
   "metadata": {},
   "outputs": [
    {
     "data": {
      "text/plain": [
       "2×2 Array{Float64,2}:\n",
       " 6.95134e-310  6.95134e-310\n",
       " 6.95136e-310  0.0"
      ]
     },
     "execution_count": 49,
     "metadata": {},
     "output_type": "execute_result"
    }
   ],
   "source": [
    "H=similar(bfgsstate.invH)"
   ]
  },
  {
   "cell_type": "code",
   "execution_count": 33,
   "metadata": {},
   "outputs": [
    {
     "data": {
      "text/plain": [
       "34.00000000000734"
      ]
     },
     "execution_count": 33,
     "metadata": {},
     "output_type": "execute_result"
    }
   ],
   "source": [
    "prob.h!(H, Optim.minimizer(res))"
   ]
  },
  {
   "cell_type": "code",
   "execution_count": 34,
   "metadata": {},
   "outputs": [
    {
     "data": {
      "text/plain": [
       "2×2 Array{Float64,2}:\n",
       " 74.0  20.0\n",
       " 20.0  34.0"
      ]
     },
     "execution_count": 34,
     "metadata": {},
     "output_type": "execute_result"
    }
   ],
   "source": [
    "H"
   ]
  },
  {
   "cell_type": "code",
   "execution_count": 35,
   "metadata": {},
   "outputs": [
    {
     "data": {
      "text/plain": [
       "2×2 Array{Float64,2}:\n",
       "  0.0160681  -0.0094518\n",
       " -0.0094518   0.0349716"
      ]
     },
     "execution_count": 35,
     "metadata": {},
     "output_type": "execute_result"
    }
   ],
   "source": [
    "inv(H)"
   ]
  },
  {
   "cell_type": "code",
   "execution_count": 18,
   "metadata": {},
   "outputs": [
    {
     "data": {
      "text/plain": [
       " * Status: success\n",
       "\n",
       " * Candidate solution\n",
       "    Final objective value:     3.081488e-31\n",
       "\n",
       " * Found with\n",
       "    Algorithm:     Newton's Method\n",
       "\n",
       " * Convergence measures\n",
       "    |x - x'|               = 3.06e-09 ≰ 0.0e+00\n",
       "    |x - x'|/|x'|          = 3.06e-09 ≰ 0.0e+00\n",
       "    |f(x) - f(x')|         = 9.34e-18 ≰ 0.0e+00\n",
       "    |f(x) - f(x')|/|f(x')| = 3.03e+13 ≰ 0.0e+00\n",
       "    |g(x)|                 = 1.11e-15 ≤ 1.0e-08\n",
       "\n",
       " * Work counters\n",
       "    Seconds run:   0  (vs limit Inf)\n",
       "    Iterations:    14\n",
       "    f(x) calls:    44\n",
       "    ∇f(x) calls:   44\n",
       "    ∇²f(x) calls:  14\n"
      ]
     },
     "execution_count": 18,
     "metadata": {},
     "output_type": "execute_result"
    }
   ],
   "source": [
    "f(x) = (1.0 - x[1])^2 + 100.0 * (x[2] - x[1]^2)^2\n",
    "\n",
    "x0 = [0.0, 0.0]\n",
    "\n",
    "function g!(G, x)\n",
    "G[1] = -2.0 * (1.0 - x[1]) - 400.0 * (x[2] - x[1]^2) * x[1]\n",
    "G[2] = 200.0 * (x[2] - x[1]^2)\n",
    "end\n",
    "\n",
    "function h!(H, x)\n",
    "    H[1, 1] = 2.0 - 400.0 * x[2] + 1200.0 * x[1]^2\n",
    "    H[1, 2] = -400.0 * x[1]\n",
    "    H[2, 1] = -400.0 * x[1]\n",
    "    H[2, 2] = 200.0\n",
    "end\n",
    "\n",
    "Optim.optimize(f, g!, h!, x0)"
   ]
  },
  {
   "cell_type": "code",
   "execution_count": 21,
   "metadata": {},
   "outputs": [
    {
     "name": "stdout",
     "output_type": "stream",
     "text": [
      "search: \u001b[0m\u001b[1mm\u001b[22m\u001b[0m\u001b[1mo\u001b[22m\u001b[0m\u001b[1md\u001b[22m\u001b[0m\u001b[1m1\u001b[22m fld\u001b[0m\u001b[1mm\u001b[22m\u001b[0m\u001b[1mo\u001b[22m\u001b[0m\u001b[1md\u001b[22m\u001b[0m\u001b[1m1\u001b[22m @\u001b[0m\u001b[1mm\u001b[22macr\u001b[0m\u001b[1mo\u001b[22mexpan\u001b[0m\u001b[1md\u001b[22m\u001b[0m\u001b[1m1\u001b[22m \u001b[0m\u001b[1mm\u001b[22m\u001b[0m\u001b[1mo\u001b[22m\u001b[0m\u001b[1md\u001b[22mf \u001b[0m\u001b[1mm\u001b[22m\u001b[0m\u001b[1mo\u001b[22m\u001b[0m\u001b[1md\u001b[22m \u001b[0m\u001b[1mm\u001b[22m\u001b[0m\u001b[1mo\u001b[22m\u001b[0m\u001b[1md\u001b[22mule \u001b[0m\u001b[1mm\u001b[22m\u001b[0m\u001b[1mo\u001b[22m\u001b[0m\u001b[1md\u001b[22m2pi \u001b[0m\u001b[1mM\u001b[22m\u001b[0m\u001b[1mo\u001b[22m\u001b[0m\u001b[1md\u001b[22mel \u001b[0m\u001b[1mM\u001b[22m\u001b[0m\u001b[1mo\u001b[22m\u001b[0m\u001b[1md\u001b[22mule ch\u001b[0m\u001b[1mm\u001b[22m\u001b[0m\u001b[1mo\u001b[22m\u001b[0m\u001b[1md\u001b[22m\n",
      "\n"
     ]
    },
    {
     "data": {
      "text/latex": [
       "\\begin{verbatim}\n",
       "mod1(x, y)\n",
       "\\end{verbatim}\n",
       "Modulus after flooring division, returning a value \\texttt{r} such that \\texttt{mod(r, y) == mod(x, y)} in the range $(0, y]$ for positive \\texttt{y} and in the range $[y,0)$ for negative \\texttt{y}.\n",
       "\n",
       "See also: \\href{@ref}{\\texttt{fld1}}, \\href{@ref}{\\texttt{fldmod1}}.\n",
       "\n",
       "\\section{Examples}\n",
       "\\begin{verbatim}\n",
       "julia> mod1(4, 2)\n",
       "2\n",
       "\n",
       "julia> mod1(4, 3)\n",
       "1\n",
       "\\end{verbatim}\n"
      ],
      "text/markdown": [
       "```\n",
       "mod1(x, y)\n",
       "```\n",
       "\n",
       "Modulus after flooring division, returning a value `r` such that `mod(r, y) == mod(x, y)` in the range $(0, y]$ for positive `y` and in the range $[y,0)$ for negative `y`.\n",
       "\n",
       "See also: [`fld1`](@ref), [`fldmod1`](@ref).\n",
       "\n",
       "# Examples\n",
       "\n",
       "```jldoctest\n",
       "julia> mod1(4, 2)\n",
       "2\n",
       "\n",
       "julia> mod1(4, 3)\n",
       "1\n",
       "```\n"
      ],
      "text/plain": [
       "\u001b[36m  mod1(x, y)\u001b[39m\n",
       "\n",
       "  Modulus after flooring division, returning a value \u001b[36mr\u001b[39m such that \u001b[36mmod(r, y) ==\n",
       "  mod(x, y)\u001b[39m in the range \u001b[35m(0, y]\u001b[39m for positive \u001b[36my\u001b[39m and in the range \u001b[35m[y,0)\u001b[39m for\n",
       "  negative \u001b[36my\u001b[39m.\n",
       "\n",
       "  See also: \u001b[36mfld1\u001b[39m, \u001b[36mfldmod1\u001b[39m.\n",
       "\n",
       "\u001b[1m  Examples\u001b[22m\n",
       "\u001b[1m  ≡≡≡≡≡≡≡≡≡≡\u001b[22m\n",
       "\n",
       "\u001b[36m  julia> mod1(4, 2)\u001b[39m\n",
       "\u001b[36m  2\u001b[39m\n",
       "\u001b[36m  \u001b[39m\n",
       "\u001b[36m  julia> mod1(4, 3)\u001b[39m\n",
       "\u001b[36m  1\u001b[39m"
      ]
     },
     "execution_count": 21,
     "metadata": {},
     "output_type": "execute_result"
    }
   ],
   "source": [
    "?mod1"
   ]
  },
  {
   "cell_type": "code",
   "execution_count": 20,
   "metadata": {},
   "outputs": [
    {
     "data": {
      "text/plain": [
       " * Status: success\n",
       "\n",
       " * Candidate solution\n",
       "    Final objective value:     5.191703e-27\n",
       "\n",
       " * Found with\n",
       "    Algorithm:     L-BFGS\n",
       "\n",
       " * Convergence measures\n",
       "    |x - x'|               = 4.58e-11 ≰ 0.0e+00\n",
       "    |x - x'|/|x'|          = 4.58e-11 ≰ 0.0e+00\n",
       "    |f(x) - f(x')|         = 4.41e-19 ≰ 0.0e+00\n",
       "    |f(x) - f(x')|/|f(x')| = 8.50e+07 ≰ 0.0e+00\n",
       "    |g(x)|                 = 1.44e-13 ≤ 1.0e-08\n",
       "\n",
       " * Work counters\n",
       "    Seconds run:   0  (vs limit Inf)\n",
       "    Iterations:    24\n",
       "    f(x) calls:    67\n",
       "    ∇f(x) calls:   67\n"
      ]
     },
     "execution_count": 20,
     "metadata": {},
     "output_type": "execute_result"
    }
   ],
   "source": [
    "Optim.optimize(f, g!, h!, x0, LBFGS())"
   ]
  },
  {
   "cell_type": "code",
   "execution_count": 15,
   "metadata": {},
   "outputs": [
    {
     "data": {
      "text/plain": [
       " * Status: success\n",
       "\n",
       " * Candidate solution\n",
       "    Final objective value:     7.645563e-21\n",
       "\n",
       " * Found with\n",
       "    Algorithm:     BFGS\n",
       "\n",
       " * Convergence measures\n",
       "    |x - x'|               = 3.48e-07 ≰ 0.0e+00\n",
       "    |x - x'|/|x'|          = 3.48e-07 ≰ 0.0e+00\n",
       "    |f(x) - f(x')|         = 6.91e-14 ≰ 0.0e+00\n",
       "    |f(x) - f(x')|/|f(x')| = 9.03e+06 ≰ 0.0e+00\n",
       "    |g(x)|                 = 2.32e-09 ≤ 1.0e-08\n",
       "\n",
       " * Work counters\n",
       "    Seconds run:   0  (vs limit Inf)\n",
       "    Iterations:    16\n",
       "    f(x) calls:    53\n",
       "    ∇f(x) calls:   53\n"
      ]
     },
     "execution_count": 15,
     "metadata": {},
     "output_type": "execute_result"
    }
   ],
   "source": [
    "Optim.optimize(f, g!, x0, BFGS())"
   ]
  },
  {
   "cell_type": "code",
   "execution_count": 8,
   "metadata": {},
   "outputs": [
    {
     "data": {
      "text/plain": [
       " * Status: success\n",
       "\n",
       " * Candidate solution\n",
       "    Final objective value:     5.378388e-17\n",
       "\n",
       " * Found with\n",
       "    Algorithm:     L-BFGS\n",
       "\n",
       " * Convergence measures\n",
       "    |x - x'|               = 4.54e-11 ≰ 0.0e+00\n",
       "    |x - x'|/|x'|          = 4.54e-11 ≰ 0.0e+00\n",
       "    |f(x) - f(x')|         = 2.85e-19 ≰ 0.0e+00\n",
       "    |f(x) - f(x')|/|f(x')| = 5.30e-03 ≰ 0.0e+00\n",
       "    |g(x)|                 = 9.88e-14 ≤ 1.0e-08\n",
       "\n",
       " * Work counters\n",
       "    Seconds run:   0  (vs limit Inf)\n",
       "    Iterations:    24\n",
       "    f(x) calls:    67\n",
       "    ∇f(x) calls:   67\n"
      ]
     },
     "execution_count": 8,
     "metadata": {},
     "output_type": "execute_result"
    }
   ],
   "source": [
    "result = Optim.optimize(rosenbrock, zeros(2), LBFGS())"
   ]
  },
  {
   "cell_type": "code",
   "execution_count": 8,
   "metadata": {},
   "outputs": [
    {
     "data": {
      "text/plain": [
       "timing (generic function with 1 method)"
      ]
     },
     "execution_count": 8,
     "metadata": {},
     "output_type": "execute_result"
    }
   ],
   "source": [
    "function timing()\n",
    "    result = optimize(rosenbrock, zeros(2), LBFGS())\n",
    "end"
   ]
  },
  {
   "cell_type": "code",
   "execution_count": 9,
   "metadata": {},
   "outputs": [
    {
     "data": {
      "text/plain": [
       "2-element Array{Float64,1}:\n",
       " 0.0\n",
       " 0.0"
      ]
     },
     "execution_count": 9,
     "metadata": {},
     "output_type": "execute_result"
    }
   ],
   "source": [
    "function f(x)\n",
    "    return (1.0 - x[1])^2 + 100.0 * (x[2] - x[1]^2)^2\n",
    "end\n",
    "\n",
    "function g!(G, x)\n",
    "    G[1] = -2.0 * (1.0 - x[1]) - 400.0 * (x[2] - x[1]^2) * x[1]\n",
    "    G[2] = 200.0 * (x[2] - x[1]^2)\n",
    "end\n",
    "\n",
    "function h!(H, x)\n",
    "    H[1, 1] = 2.0 - 400.0 * x[2] + 1200.0 * x[1]^2\n",
    "    H[1, 2] = -400.0 * x[1]\n",
    "    H[2, 1] = -400.0 * x[1]\n",
    "    H[2, 2] = 200.0\n",
    "end\n",
    "\n",
    "initial_x = zeros(2)"
   ]
  },
  {
   "cell_type": "code",
   "execution_count": 17,
   "metadata": {},
   "outputs": [
    {
     "name": "stdout",
     "output_type": "stream",
     "text": [
      "  0.000070 seconds (476 allocations: 20.172 KiB)\n"
     ]
    },
    {
     "data": {
      "text/plain": [
       "2-element Array{Float64,1}:\n",
       " 0.9999999999373613\n",
       " 0.9999999998686219"
      ]
     },
     "execution_count": 17,
     "metadata": {},
     "output_type": "execute_result"
    }
   ],
   "source": [
    "@time Optim.minimizer(optimize(f, g!, h!, initial_x, BFGS()))"
   ]
  },
  {
   "cell_type": "code",
   "execution_count": 18,
   "metadata": {},
   "outputs": [
    {
     "data": {
      "text/plain": [
       "fg! (generic function with 1 method)"
      ]
     },
     "execution_count": 18,
     "metadata": {},
     "output_type": "execute_result"
    }
   ],
   "source": [
    "function fg!(F,G,x)\n",
    "  # do common computations here\n",
    "  # ...\n",
    "  if G != nothing\n",
    "    G[1] = -2.0 * (1.0 - x[1]) - 400.0 * (x[2] - x[1]^2) * x[1]\n",
    "    G[2] = 200.0 * (x[2] - x[1]^2)\n",
    "    # code to compute gradient here\n",
    "    # writing the result to the vector G\n",
    "  end\n",
    "  if F != nothing\n",
    "    value = (1.0 - x[1])^2 + 100.0 * (x[2] - x[1]^2)^2\n",
    "    # value = ... code to compute objective function\n",
    "    return value\n",
    "  end\n",
    "end"
   ]
  },
  {
   "cell_type": "code",
   "execution_count": 34,
   "metadata": {},
   "outputs": [],
   "source": [
    "x0 = zeros(2);"
   ]
  },
  {
   "cell_type": "code",
   "execution_count": 2,
   "metadata": {},
   "outputs": [
    {
     "name": "stderr",
     "output_type": "stream",
     "text": [
      "┌ Error: Failed to revise /media/mat/HDD/AdaptiveTransportMap/src/hermitemap.jl\n",
      "│   exception = (ErrorException(\"/media/mat/HDD/AdaptiveTransportMap/src/hermitemap.jl is not stored in the source-text cache\"), Union{Ptr{Nothing}, Base.InterpreterIP}[Ptr{Nothing} @0x00007fccf5462f17, Ptr{Nothing} @0x00007fcccd8a8c0c, Ptr{Nothing} @0x00007fcccd8a8e35, Ptr{Nothing} @0x00007fcccd8a7ec2, Ptr{Nothing} @0x00007fcccd823afd])\n",
      "└ @ Revise /home/mat/.julia/packages/Revise/BqeJF/src/Revise.jl:760\n",
      "┌ Error: Failed to revise /media/mat/HDD/AdaptiveTransportMap/src/storage.jl\n",
      "│   exception = (ErrorException(\"/media/mat/HDD/AdaptiveTransportMap/src/storage.jl is not stored in the source-text cache\"), Union{Ptr{Nothing}, Base.InterpreterIP}[Ptr{Nothing} @0x00007fccf5462f17, Ptr{Nothing} @0x00007fcccd8a8c0c, Ptr{Nothing} @0x00007fcccd8a8e35, Ptr{Nothing} @0x00007fcccd8a7ec2, Ptr{Nothing} @0x00007fcccd823afd])\n",
      "└ @ Revise /home/mat/.julia/packages/Revise/BqeJF/src/Revise.jl:760\n",
      "┌ Error: Failed to revise /media/mat/HDD/AdaptiveTransportMap/src/parametric.jl\n",
      "│   exception = (ErrorException(\"/media/mat/HDD/AdaptiveTransportMap/src/parametric.jl is not stored in the source-text cache\"), Union{Ptr{Nothing}, Base.InterpreterIP}[Ptr{Nothing} @0x00007fccf5462f17, Ptr{Nothing} @0x00007fcccd8a8c0c, Ptr{Nothing} @0x00007fcccd8a8e35, Ptr{Nothing} @0x00007fcccd8a7ec2, Ptr{Nothing} @0x00007fcccd823afd])\n",
      "└ @ Revise /home/mat/.julia/packages/Revise/BqeJF/src/Revise.jl:760\n",
      "┌ Error: Failed to revise /media/mat/HDD/AdaptiveTransportMap/src/rectifier.jl\n",
      "│   exception = (ErrorException(\"/media/mat/HDD/AdaptiveTransportMap/src/rectifier.jl is not stored in the source-text cache\"), Union{Ptr{Nothing}, Base.InterpreterIP}[Ptr{Nothing} @0x00007fccf5462f17, Ptr{Nothing} @0x00007fcccd8a8c0c, Ptr{Nothing} @0x00007fcccd8a8e35, Ptr{Nothing} @0x00007fcccd8a7ec2, Ptr{Nothing} @0x00007fcccd823afd])\n",
      "└ @ Revise /home/mat/.julia/packages/Revise/BqeJF/src/Revise.jl:760\n",
      "┌ Error: Failed to revise /media/mat/HDD/AdaptiveTransportMap/src/prohermite.jl\n",
      "│   exception = (ErrorException(\"/media/mat/HDD/AdaptiveTransportMap/src/prohermite.jl is not stored in the source-text cache\"), Union{Ptr{Nothing}, Base.InterpreterIP}[Ptr{Nothing} @0x00007fccf5462f17, Ptr{Nothing} @0x00007fcccd8a8c0c, Ptr{Nothing} @0x00007fcccd8a8e35, Ptr{Nothing} @0x00007fcccd8a7ec2, Ptr{Nothing} @0x00007fcccd823afd])\n",
      "└ @ Revise /home/mat/.julia/packages/Revise/BqeJF/src/Revise.jl:760\n",
      "┌ Error: Failed to revise /media/mat/HDD/AdaptiveTransportMap/src/integratedfunction.jl\n",
      "│   exception = (ErrorException(\"/media/mat/HDD/AdaptiveTransportMap/src/integratedfunction.jl is not stored in the source-text cache\"), Union{Ptr{Nothing}, Base.InterpreterIP}[Ptr{Nothing} @0x00007fccf5462f17, Ptr{Nothing} @0x00007fcccd8a8c0c, Ptr{Nothing} @0x00007fcccd8a8e35, Ptr{Nothing} @0x00007fcccd8a7ec2, Ptr{Nothing} @0x00007fcccd823afd])\n",
      "└ @ Revise /home/mat/.julia/packages/Revise/BqeJF/src/Revise.jl:760\n",
      "┌ Error: Failed to revise /media/mat/HDD/AdaptiveTransportMap/src/greedyfit.jl\n",
      "│   exception = (ErrorException(\"/media/mat/HDD/AdaptiveTransportMap/src/greedyfit.jl is not stored in the source-text cache\"), Union{Ptr{Nothing}, Base.InterpreterIP}[Ptr{Nothing} @0x00007fccf5462f17, Ptr{Nothing} @0x00007fcccd8a8c0c, Ptr{Nothing} @0x00007fcccd8a8e35, Ptr{Nothing} @0x00007fcccd8a7ec2, Ptr{Nothing} @0x00007fcccd823afd])\n",
      "└ @ Revise /home/mat/.julia/packages/Revise/BqeJF/src/Revise.jl:760\n",
      "┌ Error: Failed to revise /media/mat/HDD/AdaptiveTransportMap/src/inverse.jl\n",
      "│   exception = (ErrorException(\"/media/mat/HDD/AdaptiveTransportMap/src/inverse.jl is not stored in the source-text cache\"), Union{Ptr{Nothing}, Base.InterpreterIP}[Ptr{Nothing} @0x00007fccf5462f17, Ptr{Nothing} @0x00007fcccd8a8c0c, Ptr{Nothing} @0x00007fcccd8a8e35, Ptr{Nothing} @0x00007fcccd8a7ec2, Ptr{Nothing} @0x00007fcccd823afd])\n",
      "└ @ Revise /home/mat/.julia/packages/Revise/BqeJF/src/Revise.jl:760\n",
      "┌ Error: Failed to revise /media/mat/HDD/AdaptiveTransportMap/src/linhermitemapcomponent.jl\n",
      "│   exception = (ErrorException(\"/media/mat/HDD/AdaptiveTransportMap/src/linhermitemapcomponent.jl is not stored in the source-text cache\"), Union{Ptr{Nothing}, Base.InterpreterIP}[Ptr{Nothing} @0x00007fccf5462f17, Ptr{Nothing} @0x00007fcccd8a8c0c, Ptr{Nothing} @0x00007fcccd8a8e35, Ptr{Nothing} @0x00007fcccd8a7ec2, Ptr{Nothing} @0x00007fcccd823afd])\n",
      "└ @ Revise /home/mat/.julia/packages/Revise/BqeJF/src/Revise.jl:760\n",
      "┌ Error: Failed to revise /media/mat/HDD/AdaptiveTransportMap/src/expandedfunction.jl\n",
      "│   exception = (ErrorException(\"/media/mat/HDD/AdaptiveTransportMap/src/expandedfunction.jl is not stored in the source-text cache\"), Union{Ptr{Nothing}, Base.InterpreterIP}[Ptr{Nothing} @0x00007fccf5462f17, Ptr{Nothing} @0x00007fcccd8a8c0c, Ptr{Nothing} @0x00007fcccd8a8e35, Ptr{Nothing} @0x00007fcccd8a7ec2, Ptr{Nothing} @0x00007fcccd823afd])\n",
      "└ @ Revise /home/mat/.julia/packages/Revise/BqeJF/src/Revise.jl:760\n",
      "┌ Error: Failed to revise /media/mat/HDD/AdaptiveTransportMap/src/propolyhermite.jl\n",
      "│   exception = (ErrorException(\"/media/mat/HDD/AdaptiveTransportMap/src/propolyhermite.jl is not stored in the source-text cache\"), Union{Ptr{Nothing}, Base.InterpreterIP}[Ptr{Nothing} @0x00007fccf5462f17, Ptr{Nothing} @0x00007fcccd8a8c0c, Ptr{Nothing} @0x00007fcccd8a8e35, Ptr{Nothing} @0x00007fcccd8a7ec2, Ptr{Nothing} @0x00007fcccd823afd])\n",
      "└ @ Revise /home/mat/.julia/packages/Revise/BqeJF/src/Revise.jl:760\n",
      "┌ Error: Failed to revise /media/mat/HDD/AdaptiveTransportMap/src/basis.jl\n",
      "│   exception = (ErrorException(\"/media/mat/HDD/AdaptiveTransportMap/src/basis.jl is not stored in the source-text cache\"), Union{Ptr{Nothing}, Base.InterpreterIP}[Ptr{Nothing} @0x00007fccf5462f17, Ptr{Nothing} @0x00007fcccd8a8c0c, Ptr{Nothing} @0x00007fcccd8a8e35, Ptr{Nothing} @0x00007fcccd8a7ec2, Ptr{Nothing} @0x00007fcccd823afd])\n",
      "└ @ Revise /home/mat/.julia/packages/Revise/BqeJF/src/Revise.jl:760\n",
      "┌ Error: Failed to revise /media/mat/HDD/AdaptiveTransportMap/src/phypolyhermite.jl\n",
      "│   exception = (ErrorException(\"/media/mat/HDD/AdaptiveTransportMap/src/phypolyhermite.jl is not stored in the source-text cache\"), Union{Ptr{Nothing}, Base.InterpreterIP}[Ptr{Nothing} @0x00007fccf5462f17, Ptr{Nothing} @0x00007fcccd8a8c0c, Ptr{Nothing} @0x00007fcccd8a8e35, Ptr{Nothing} @0x00007fcccd8a7ec2, Ptr{Nothing} @0x00007fcccd823afd])\n",
      "└ @ Revise /home/mat/.julia/packages/Revise/BqeJF/src/Revise.jl:760\n",
      "┌ Error: Failed to revise /media/mat/HDD/AdaptiveTransportMap/src/multibasis.jl\n",
      "│   exception = (ErrorException(\"/media/mat/HDD/AdaptiveTransportMap/src/multibasis.jl is not stored in the source-text cache\"), Union{Ptr{Nothing}, Base.InterpreterIP}[Ptr{Nothing} @0x00007fccf5462f17, Ptr{Nothing} @0x00007fcccd8a8c0c, Ptr{Nothing} @0x00007fcccd8a8e35, Ptr{Nothing} @0x00007fcccd8a7ec2, Ptr{Nothing} @0x00007fcccd823afd])\n",
      "└ @ Revise /home/mat/.julia/packages/Revise/BqeJF/src/Revise.jl:760\n",
      "┌ Error: Failed to revise /media/mat/HDD/AdaptiveTransportMap/src/phyhermite.jl\n",
      "│   exception = (ErrorException(\"/media/mat/HDD/AdaptiveTransportMap/src/phyhermite.jl is not stored in the source-text cache\"), Union{Ptr{Nothing}, Base.InterpreterIP}[Ptr{Nothing} @0x00007fccf5462f17, Ptr{Nothing} @0x00007fcccd8a8c0c, Ptr{Nothing} @0x00007fcccd8a8e35, Ptr{Nothing} @0x00007fcccd8a7ec2, Ptr{Nothing} @0x00007fcccd823afd])\n",
      "└ @ Revise /home/mat/.julia/packages/Revise/BqeJF/src/Revise.jl:760\n",
      "┌ Error: Failed to revise /media/mat/HDD/AdaptiveTransportMap/src/polyhermite.jl\n",
      "│   exception = (ErrorException(\"/media/mat/HDD/AdaptiveTransportMap/src/polyhermite.jl is not stored in the source-text cache\"), Union{Ptr{Nothing}, Base.InterpreterIP}[Ptr{Nothing} @0x00007fccf5462f17, Ptr{Nothing} @0x00007fcccd8a8c0c, Ptr{Nothing} @0x00007fcccd8a8e35, Ptr{Nothing} @0x00007fcccd8a7ec2, Ptr{Nothing} @0x00007fcccd823afd])\n",
      "└ @ Revise /home/mat/.julia/packages/Revise/BqeJF/src/Revise.jl:760\n",
      "┌ Error: Failed to revise /media/mat/HDD/AdaptiveTransportMap/src/hermite.jl\n",
      "│   exception = (ErrorException(\"/media/mat/HDD/AdaptiveTransportMap/src/hermite.jl is not stored in the source-text cache\"), Union{Ptr{Nothing}, Base.InterpreterIP}[Ptr{Nothing} @0x00007fccf5462f17, Ptr{Nothing} @0x00007fcccd8a8c0c, Ptr{Nothing} @0x00007fcccd8a8e35, Ptr{Nothing} @0x00007fcccd8a7ec2, Ptr{Nothing} @0x00007fcccd823afd])\n",
      "└ @ Revise /home/mat/.julia/packages/Revise/BqeJF/src/Revise.jl:760\n",
      "┌ Error: Failed to revise /media/mat/HDD/AdaptiveTransportMap/src/hermitemapcomponent.jl\n",
      "│   exception = (ErrorException(\"/media/mat/HDD/AdaptiveTransportMap/src/hermitemapcomponent.jl is not stored in the source-text cache\"), Union{Ptr{Nothing}, Base.InterpreterIP}[Ptr{Nothing} @0x00007fccf5462f17, Ptr{Nothing} @0x00007fcccd8a8c0c, Ptr{Nothing} @0x00007fcccd8a8e35, Ptr{Nothing} @0x00007fcccd8a7ec2, Ptr{Nothing} @0x00007fcccd823afd])\n",
      "└ @ Revise /home/mat/.julia/packages/Revise/BqeJF/src/Revise.jl:760\n",
      "┌ Error: Failed to revise /media/mat/HDD/AdaptiveTransportMap/src/multifunction.jl\n",
      "│   exception = (ErrorException(\"/media/mat/HDD/AdaptiveTransportMap/src/multifunction.jl is not stored in the source-text cache\"), Union{Ptr{Nothing}, Base.InterpreterIP}[Ptr{Nothing} @0x00007fccf5462f17, Ptr{Nothing} @0x00007fcccd8a8c0c, Ptr{Nothing} @0x00007fcccd8a8e35, Ptr{Nothing} @0x00007fcccd8a7ec2, Ptr{Nothing} @0x00007fcccd823afd])\n",
      "└ @ Revise /home/mat/.julia/packages/Revise/BqeJF/src/Revise.jl:760\n",
      "┌ Warning: Due to a previously reported error, the running code does not match saved version for the following files:\n",
      "│ \n",
      "│   /media/mat/HDD/AdaptiveTransportMap/src/hermitemap.jl\n",
      "│   /media/mat/HDD/AdaptiveTransportMap/src/storage.jl\n",
      "│   /media/mat/HDD/AdaptiveTransportMap/src/parametric.jl\n",
      "│   /media/mat/HDD/AdaptiveTransportMap/src/rectifier.jl\n",
      "│   /media/mat/HDD/AdaptiveTransportMap/src/prohermite.jl\n",
      "│   /media/mat/HDD/AdaptiveTransportMap/src/integratedfunction.jl\n",
      "│   /media/mat/HDD/AdaptiveTransportMap/src/greedyfit.jl\n",
      "│   /media/mat/HDD/AdaptiveTransportMap/src/inverse.jl\n",
      "│   /media/mat/HDD/AdaptiveTransportMap/src/linhermitemapcomponent.jl\n",
      "│   /media/mat/HDD/AdaptiveTransportMap/src/expandedfunction.jl\n",
      "│   /media/mat/HDD/AdaptiveTransportMap/src/propolyhermite.jl\n",
      "│   /media/mat/HDD/AdaptiveTransportMap/src/basis.jl\n",
      "│   /media/mat/HDD/AdaptiveTransportMap/src/phypolyhermite.jl\n",
      "│   /media/mat/HDD/AdaptiveTransportMap/src/multibasis.jl\n",
      "│   /media/mat/HDD/AdaptiveTransportMap/src/phyhermite.jl\n",
      "│   /media/mat/HDD/AdaptiveTransportMap/src/polyhermite.jl\n",
      "│   /media/mat/HDD/AdaptiveTransportMap/src/hermite.jl\n",
      "│   /media/mat/HDD/AdaptiveTransportMap/src/hermitemapcomponent.jl\n",
      "│   /media/mat/HDD/AdaptiveTransportMap/src/multifunction.jl\n",
      "│ \n",
      "│ Use Revise.errors() to report errors again.\n",
      "└ @ Revise /home/mat/.julia/packages/Revise/BqeJF/src/Revise.jl:820\n"
     ]
    },
    {
     "name": "stdout",
     "output_type": "stream",
     "text": [
      "search: \u001b[0m\u001b[1ml\u001b[22m\u001b[0m\u001b[1md\u001b[22m\u001b[0m\u001b[1mi\u001b[22m\u001b[0m\u001b[1mv\u001b[22m\u001b[0m\u001b[1m!\u001b[22m sp\u001b[0m\u001b[1ml\u001b[22mit\u001b[0m\u001b[1md\u001b[22mr\u001b[0m\u001b[1mi\u001b[22m\u001b[0m\u001b[1mv\u001b[22me\n",
      "\n"
     ]
    },
    {
     "data": {
      "text/latex": [
       "\\begin{verbatim}\n",
       "ldiv!(Y, A, B) -> Y\n",
       "\\end{verbatim}\n",
       "Compute \\texttt{A {\\textbackslash} B} in-place and store the result in \\texttt{Y}, returning the result.\n",
       "\n",
       "The argument \\texttt{A} should \\emph{not} be a matrix.  Rather, instead of matrices it should be a factorization object (e.g. produced by \\href{@ref}{\\texttt{factorize}} or \\href{@ref}{\\texttt{cholesky}}). The reason for this is that factorization itself is both expensive and typically allocates memory (although it can also be done in-place via, e.g., \\href{@ref}{\\texttt{lu!}}), and performance-critical situations requiring \\texttt{ldiv!} usually also require fine-grained control over the factorization of \\texttt{A}.\n",
       "\n",
       "\\section{Examples}\n",
       "\\begin{verbatim}\n",
       "julia> A = [1 2.2 4; 3.1 0.2 3; 4 1 2];\n",
       "\n",
       "julia> X = [1; 2.5; 3];\n",
       "\n",
       "julia> Y = zero(X);\n",
       "\n",
       "julia> ldiv!(Y, qr(A), X);\n",
       "\n",
       "julia> Y\n",
       "3-element Array{Float64,1}:\n",
       "  0.7128099173553719\n",
       " -0.051652892561983674\n",
       "  0.10020661157024757\n",
       "\n",
       "julia> A\\X\n",
       "3-element Array{Float64,1}:\n",
       "  0.7128099173553719\n",
       " -0.05165289256198333\n",
       "  0.10020661157024785\n",
       "\\end{verbatim}\n",
       "\\rule{\\textwidth}{1pt}\n",
       "\\begin{verbatim}\n",
       "ldiv!(A, B)\n",
       "\\end{verbatim}\n",
       "Compute \\texttt{A {\\textbackslash} B} in-place and overwriting \\texttt{B} to store the result.\n",
       "\n",
       "The argument \\texttt{A} should \\emph{not} be a matrix.  Rather, instead of matrices it should be a factorization object (e.g. produced by \\href{@ref}{\\texttt{factorize}} or \\href{@ref}{\\texttt{cholesky}}). The reason for this is that factorization itself is both expensive and typically allocates memory (although it can also be done in-place via, e.g., \\href{@ref}{\\texttt{lu!}}), and performance-critical situations requiring \\texttt{ldiv!} usually also require fine-grained control over the factorization of \\texttt{A}.\n",
       "\n",
       "\\section{Examples}\n",
       "\\begin{verbatim}\n",
       "julia> A = [1 2.2 4; 3.1 0.2 3; 4 1 2];\n",
       "\n",
       "julia> X = [1; 2.5; 3];\n",
       "\n",
       "julia> Y = copy(X);\n",
       "\n",
       "julia> ldiv!(qr(A), X);\n",
       "\n",
       "julia> X\n",
       "3-element Array{Float64,1}:\n",
       "  0.7128099173553719\n",
       " -0.051652892561983674\n",
       "  0.10020661157024757\n",
       "\n",
       "julia> A\\Y\n",
       "3-element Array{Float64,1}:\n",
       "  0.7128099173553719\n",
       " -0.05165289256198333\n",
       "  0.10020661157024785\n",
       "\\end{verbatim}\n",
       "\\rule{\\textwidth}{1pt}\n",
       "\\begin{verbatim}\n",
       "ldiv!(a::Number, B::AbstractArray)\n",
       "\\end{verbatim}\n",
       "Divide each entry in an array \\texttt{B} by a scalar \\texttt{a} overwriting \\texttt{B} in-place.  Use \\href{@ref}{\\texttt{rdiv!}} to divide scalar from right.\n",
       "\n",
       "\\section{Examples}\n",
       "\\begin{verbatim}\n",
       "julia> B = [1.0 2.0; 3.0 4.0]\n",
       "2×2 Array{Float64,2}:\n",
       " 1.0  2.0\n",
       " 3.0  4.0\n",
       "\n",
       "julia> ldiv!(2.0, B)\n",
       "2×2 Array{Float64,2}:\n",
       " 0.5  1.0\n",
       " 1.5  2.0\n",
       "\\end{verbatim}\n",
       "\\rule{\\textwidth}{1pt}\n",
       "Solve Hy = rhs for a non-square Hessenberg matrix. Note that \\texttt{H} is also modified as is it converted to an upper triangular matrix via Given's rotations\n",
       "\n"
      ],
      "text/markdown": [
       "```\n",
       "ldiv!(Y, A, B) -> Y\n",
       "```\n",
       "\n",
       "Compute `A \\ B` in-place and store the result in `Y`, returning the result.\n",
       "\n",
       "The argument `A` should *not* be a matrix.  Rather, instead of matrices it should be a factorization object (e.g. produced by [`factorize`](@ref) or [`cholesky`](@ref)). The reason for this is that factorization itself is both expensive and typically allocates memory (although it can also be done in-place via, e.g., [`lu!`](@ref)), and performance-critical situations requiring `ldiv!` usually also require fine-grained control over the factorization of `A`.\n",
       "\n",
       "# Examples\n",
       "\n",
       "```jldoctest\n",
       "julia> A = [1 2.2 4; 3.1 0.2 3; 4 1 2];\n",
       "\n",
       "julia> X = [1; 2.5; 3];\n",
       "\n",
       "julia> Y = zero(X);\n",
       "\n",
       "julia> ldiv!(Y, qr(A), X);\n",
       "\n",
       "julia> Y\n",
       "3-element Array{Float64,1}:\n",
       "  0.7128099173553719\n",
       " -0.051652892561983674\n",
       "  0.10020661157024757\n",
       "\n",
       "julia> A\\X\n",
       "3-element Array{Float64,1}:\n",
       "  0.7128099173553719\n",
       " -0.05165289256198333\n",
       "  0.10020661157024785\n",
       "```\n",
       "\n",
       "---\n",
       "\n",
       "```\n",
       "ldiv!(A, B)\n",
       "```\n",
       "\n",
       "Compute `A \\ B` in-place and overwriting `B` to store the result.\n",
       "\n",
       "The argument `A` should *not* be a matrix.  Rather, instead of matrices it should be a factorization object (e.g. produced by [`factorize`](@ref) or [`cholesky`](@ref)). The reason for this is that factorization itself is both expensive and typically allocates memory (although it can also be done in-place via, e.g., [`lu!`](@ref)), and performance-critical situations requiring `ldiv!` usually also require fine-grained control over the factorization of `A`.\n",
       "\n",
       "# Examples\n",
       "\n",
       "```jldoctest\n",
       "julia> A = [1 2.2 4; 3.1 0.2 3; 4 1 2];\n",
       "\n",
       "julia> X = [1; 2.5; 3];\n",
       "\n",
       "julia> Y = copy(X);\n",
       "\n",
       "julia> ldiv!(qr(A), X);\n",
       "\n",
       "julia> X\n",
       "3-element Array{Float64,1}:\n",
       "  0.7128099173553719\n",
       " -0.051652892561983674\n",
       "  0.10020661157024757\n",
       "\n",
       "julia> A\\Y\n",
       "3-element Array{Float64,1}:\n",
       "  0.7128099173553719\n",
       " -0.05165289256198333\n",
       "  0.10020661157024785\n",
       "```\n",
       "\n",
       "---\n",
       "\n",
       "```\n",
       "ldiv!(a::Number, B::AbstractArray)\n",
       "```\n",
       "\n",
       "Divide each entry in an array `B` by a scalar `a` overwriting `B` in-place.  Use [`rdiv!`](@ref) to divide scalar from right.\n",
       "\n",
       "# Examples\n",
       "\n",
       "```jldoctest\n",
       "julia> B = [1.0 2.0; 3.0 4.0]\n",
       "2×2 Array{Float64,2}:\n",
       " 1.0  2.0\n",
       " 3.0  4.0\n",
       "\n",
       "julia> ldiv!(2.0, B)\n",
       "2×2 Array{Float64,2}:\n",
       " 0.5  1.0\n",
       " 1.5  2.0\n",
       "```\n",
       "\n",
       "---\n",
       "\n",
       "Solve Hy = rhs for a non-square Hessenberg matrix. Note that `H` is also modified as is it converted to an upper triangular matrix via Given's rotations\n"
      ],
      "text/plain": [
       "\u001b[36m  ldiv!(Y, A, B) -> Y\u001b[39m\n",
       "\n",
       "  Compute \u001b[36mA \\ B\u001b[39m in-place and store the result in \u001b[36mY\u001b[39m, returning the result.\n",
       "\n",
       "  The argument \u001b[36mA\u001b[39m should \u001b[4mnot\u001b[24m be a matrix. Rather, instead of matrices it should\n",
       "  be a factorization object (e.g. produced by \u001b[36mfactorize\u001b[39m or \u001b[36mcholesky\u001b[39m). The\n",
       "  reason for this is that factorization itself is both expensive and typically\n",
       "  allocates memory (although it can also be done in-place via, e.g., \u001b[36mlu!\u001b[39m), and\n",
       "  performance-critical situations requiring \u001b[36mldiv!\u001b[39m usually also require\n",
       "  fine-grained control over the factorization of \u001b[36mA\u001b[39m.\n",
       "\n",
       "\u001b[1m  Examples\u001b[22m\n",
       "\u001b[1m  ≡≡≡≡≡≡≡≡≡≡\u001b[22m\n",
       "\n",
       "\u001b[36m  julia> A = [1 2.2 4; 3.1 0.2 3; 4 1 2];\u001b[39m\n",
       "\u001b[36m  \u001b[39m\n",
       "\u001b[36m  julia> X = [1; 2.5; 3];\u001b[39m\n",
       "\u001b[36m  \u001b[39m\n",
       "\u001b[36m  julia> Y = zero(X);\u001b[39m\n",
       "\u001b[36m  \u001b[39m\n",
       "\u001b[36m  julia> ldiv!(Y, qr(A), X);\u001b[39m\n",
       "\u001b[36m  \u001b[39m\n",
       "\u001b[36m  julia> Y\u001b[39m\n",
       "\u001b[36m  3-element Array{Float64,1}:\u001b[39m\n",
       "\u001b[36m    0.7128099173553719\u001b[39m\n",
       "\u001b[36m   -0.051652892561983674\u001b[39m\n",
       "\u001b[36m    0.10020661157024757\u001b[39m\n",
       "\u001b[36m  \u001b[39m\n",
       "\u001b[36m  julia> A\\X\u001b[39m\n",
       "\u001b[36m  3-element Array{Float64,1}:\u001b[39m\n",
       "\u001b[36m    0.7128099173553719\u001b[39m\n",
       "\u001b[36m   -0.05165289256198333\u001b[39m\n",
       "\u001b[36m    0.10020661157024785\u001b[39m\n",
       "\n",
       "  ────────────────────────────────────────────────────────────────────────────\n",
       "\n",
       "\u001b[36m  ldiv!(A, B)\u001b[39m\n",
       "\n",
       "  Compute \u001b[36mA \\ B\u001b[39m in-place and overwriting \u001b[36mB\u001b[39m to store the result.\n",
       "\n",
       "  The argument \u001b[36mA\u001b[39m should \u001b[4mnot\u001b[24m be a matrix. Rather, instead of matrices it should\n",
       "  be a factorization object (e.g. produced by \u001b[36mfactorize\u001b[39m or \u001b[36mcholesky\u001b[39m). The\n",
       "  reason for this is that factorization itself is both expensive and typically\n",
       "  allocates memory (although it can also be done in-place via, e.g., \u001b[36mlu!\u001b[39m), and\n",
       "  performance-critical situations requiring \u001b[36mldiv!\u001b[39m usually also require\n",
       "  fine-grained control over the factorization of \u001b[36mA\u001b[39m.\n",
       "\n",
       "\u001b[1m  Examples\u001b[22m\n",
       "\u001b[1m  ≡≡≡≡≡≡≡≡≡≡\u001b[22m\n",
       "\n",
       "\u001b[36m  julia> A = [1 2.2 4; 3.1 0.2 3; 4 1 2];\u001b[39m\n",
       "\u001b[36m  \u001b[39m\n",
       "\u001b[36m  julia> X = [1; 2.5; 3];\u001b[39m\n",
       "\u001b[36m  \u001b[39m\n",
       "\u001b[36m  julia> Y = copy(X);\u001b[39m\n",
       "\u001b[36m  \u001b[39m\n",
       "\u001b[36m  julia> ldiv!(qr(A), X);\u001b[39m\n",
       "\u001b[36m  \u001b[39m\n",
       "\u001b[36m  julia> X\u001b[39m\n",
       "\u001b[36m  3-element Array{Float64,1}:\u001b[39m\n",
       "\u001b[36m    0.7128099173553719\u001b[39m\n",
       "\u001b[36m   -0.051652892561983674\u001b[39m\n",
       "\u001b[36m    0.10020661157024757\u001b[39m\n",
       "\u001b[36m  \u001b[39m\n",
       "\u001b[36m  julia> A\\Y\u001b[39m\n",
       "\u001b[36m  3-element Array{Float64,1}:\u001b[39m\n",
       "\u001b[36m    0.7128099173553719\u001b[39m\n",
       "\u001b[36m   -0.05165289256198333\u001b[39m\n",
       "\u001b[36m    0.10020661157024785\u001b[39m\n",
       "\n",
       "  ────────────────────────────────────────────────────────────────────────────\n",
       "\n",
       "\u001b[36m  ldiv!(a::Number, B::AbstractArray)\u001b[39m\n",
       "\n",
       "  Divide each entry in an array \u001b[36mB\u001b[39m by a scalar \u001b[36ma\u001b[39m overwriting \u001b[36mB\u001b[39m in-place. Use\n",
       "  \u001b[36mrdiv!\u001b[39m to divide scalar from right.\n",
       "\n",
       "\u001b[1m  Examples\u001b[22m\n",
       "\u001b[1m  ≡≡≡≡≡≡≡≡≡≡\u001b[22m\n",
       "\n",
       "\u001b[36m  julia> B = [1.0 2.0; 3.0 4.0]\u001b[39m\n",
       "\u001b[36m  2×2 Array{Float64,2}:\u001b[39m\n",
       "\u001b[36m   1.0  2.0\u001b[39m\n",
       "\u001b[36m   3.0  4.0\u001b[39m\n",
       "\u001b[36m  \u001b[39m\n",
       "\u001b[36m  julia> ldiv!(2.0, B)\u001b[39m\n",
       "\u001b[36m  2×2 Array{Float64,2}:\u001b[39m\n",
       "\u001b[36m   0.5  1.0\u001b[39m\n",
       "\u001b[36m   1.5  2.0\u001b[39m\n",
       "\n",
       "  ────────────────────────────────────────────────────────────────────────────\n",
       "\n",
       "  Solve Hy = rhs for a non-square Hessenberg matrix. Note that \u001b[36mH\u001b[39m is also\n",
       "  modified as is it converted to an upper triangular matrix via Given's\n",
       "  rotations"
      ]
     },
     "execution_count": 2,
     "metadata": {},
     "output_type": "execute_result"
    }
   ],
   "source": [
    "?ldiv!"
   ]
  },
  {
   "cell_type": "code",
   "execution_count": 51,
   "metadata": {},
   "outputs": [
    {
     "name": "stdout",
     "output_type": "stream",
     "text": [
      "  0.000003 seconds\n"
     ]
    },
    {
     "data": {
      "text/plain": [
       "2-element Array{Float64,1}:\n",
       " 0.999999999999928\n",
       " 0.9999999999998559"
      ]
     },
     "execution_count": 51,
     "metadata": {},
     "output_type": "execute_result"
    }
   ],
   "source": [
    "res = Optim.optimize(Optim.only_fg!(fg!), x0, Optim.LBFGS())\n",
    "@time Optim.minimizer(res)"
   ]
  },
  {
   "cell_type": "code",
   "execution_count": 47,
   "metadata": {},
   "outputs": [
    {
     "data": {
      "text/plain": [
       "(:method, :initial_x, :minimizer, :minimum, :iterations, :iteration_converged, :x_converged, :x_abstol, :x_reltol, :x_abschange, :x_relchange, :f_converged, :f_abstol, :f_reltol, :f_abschange, :f_relchange, :g_converged, :g_abstol, :g_residual, :f_increased, :trace, :f_calls, :g_calls, :h_calls, :ls_success, :time_limit, :time_run)"
      ]
     },
     "execution_count": 47,
     "metadata": {},
     "output_type": "execute_result"
    }
   ],
   "source": [
    "fieldnames(typeof(res))"
   ]
  },
  {
   "cell_type": "code",
   "execution_count": 33,
   "metadata": {},
   "outputs": [
    {
     "data": {
      "text/plain": [
       " * Status: failure (objective increased between iterations)\n",
       "\n",
       " * Candidate solution\n",
       "    Final objective value:     1.000000e+00\n",
       "\n",
       " * Found with\n",
       "    Algorithm:     Newton's Method\n",
       "\n",
       " * Convergence measures\n",
       "    |x - x'|               = 1.00e-06 ≰ 0.0e+00\n",
       "    |x - x'|/|x'|          = 1.00e+00 ≰ 0.0e+00\n",
       "    |f(x) - f(x')|         = 1.00e-06 ≰ 0.0e+00\n",
       "    |f(x) - f(x')|/|f(x')| = 1.00e-06 ≰ 0.0e+00\n",
       "    |g(x)|                 = 8.80e-02 ≰ 1.0e-08\n",
       "\n",
       " * Work counters\n",
       "    Seconds run:   0  (vs limit Inf)\n",
       "    Iterations:    1\n",
       "    f(x) calls:    71\n",
       "    ∇f(x) calls:   71\n",
       "    ∇²f(x) calls:  2\n"
      ]
     },
     "execution_count": 33,
     "metadata": {},
     "output_type": "execute_result"
    }
   ],
   "source": [
    "function fgh!(F,G,H,x)\n",
    "    if F != nothing\n",
    "        return f(x)\n",
    "    end\n",
    "    if G != nothing\n",
    "        g!(G, x)\n",
    "        return G\n",
    "    end\n",
    "    \n",
    "    if H != nothing\n",
    "        h!(H, x)\n",
    "        return H\n",
    "    end\n",
    "end\n",
    "\n",
    "Optim.optimize(Optim.only_fgh!(fgh!), [0., 0.], Optim.Newton())"
   ]
  },
  {
   "cell_type": "code",
   "execution_count": 28,
   "metadata": {},
   "outputs": [
    {
     "data": {
      "text/plain": [
       "timing (generic function with 1 method)"
      ]
     },
     "execution_count": 28,
     "metadata": {},
     "output_type": "execute_result"
    }
   ],
   "source": [
    "function timing()\n",
    "    @btime optimize(rosenbrock, zeros(2), LBFGS())\n",
    "    @btime Optim.optimize(Optim.only_fg!(fg!), [0., 0.], Optim.LBFGS())\n",
    "    @btime Optim.optimize(Optim.only_fgh!(fgh!), [0., 0.], Optim.Newton())\n",
    "end"
   ]
  },
  {
   "cell_type": "code",
   "execution_count": 29,
   "metadata": {},
   "outputs": [
    {
     "name": "stdout",
     "output_type": "stream",
     "text": [
      "  42.254 μs (578 allocations: 27.69 KiB)\n",
      "  37.231 μs (572 allocations: 27.59 KiB)\n"
     ]
    },
    {
     "ename": "ArgumentError",
     "evalue": "ArgumentError: Value and slope at step length = 0 must be finite.",
     "output_type": "error",
     "traceback": [
      "ArgumentError: Value and slope at step length = 0 must be finite.",
      "",
      "Stacktrace:",
      " [1] (::LineSearches.HagerZhang{Float64,Base.RefValue{Bool}})(::Function, ::LineSearches.var\"#ϕdϕ#6\"{TwiceDifferentiable{Float64,Array{Float64,1},Array{Float64,2},Array{Float64,1}},Array{Float64,1},Array{Float64,1},Array{Float64,1}}, ::Float64, ::Float64, ::Float64) at /home/mat/.julia/packages/LineSearches/WrsMD/src/hagerzhang.jl:117",
      " [2] HagerZhang at /home/mat/.julia/packages/LineSearches/WrsMD/src/hagerzhang.jl:101 [inlined]",
      " [3] perform_linesearch!(::Optim.NewtonState{Array{Float64,1},Float64,Cholesky{Float64,Array{Float64,2}}}, ::Newton{LineSearches.InitialStatic{Float64},LineSearches.HagerZhang{Float64,Base.RefValue{Bool}}}, ::TwiceDifferentiable{Float64,Array{Float64,1},Array{Float64,2},Array{Float64,1}}) at /home/mat/.julia/packages/Optim/TNmSw/src/utilities/perform_linesearch.jl:56",
      " [4] update_state!(::TwiceDifferentiable{Float64,Array{Float64,1},Array{Float64,2},Array{Float64,1}}, ::Optim.NewtonState{Array{Float64,1},Float64,Cholesky{Float64,Array{Float64,2}}}, ::Newton{LineSearches.InitialStatic{Float64},LineSearches.HagerZhang{Float64,Base.RefValue{Bool}}}) at /home/mat/.julia/packages/Optim/TNmSw/src/multivariate/solvers/second_order/newton.jl:79",
      " [5] optimize(::TwiceDifferentiable{Float64,Array{Float64,1},Array{Float64,2},Array{Float64,1}}, ::Array{Float64,1}, ::Newton{LineSearches.InitialStatic{Float64},LineSearches.HagerZhang{Float64,Base.RefValue{Bool}}}, ::Optim.Options{Float64,Nothing}, ::Optim.NewtonState{Array{Float64,1},Float64,Cholesky{Float64,Array{Float64,2}}}) at /home/mat/.julia/packages/Optim/TNmSw/src/multivariate/optimize/optimize.jl:57",
      " [6] optimize at /home/mat/.julia/packages/Optim/TNmSw/src/multivariate/optimize/optimize.jl:33 [inlined]",
      " [7] #optimize#89 at /home/mat/.julia/packages/Optim/TNmSw/src/multivariate/optimize/interface.jl:116 [inlined]",
      " [8] optimize(::NLSolversBase.InplaceObjective{Nothing,Nothing,typeof(fgh!),Nothing,Nothing}, ::Array{Float64,1}, ::Newton{LineSearches.InitialStatic{Float64},LineSearches.HagerZhang{Float64,Base.RefValue{Bool}}}, ::Optim.Options{Float64,Nothing}) at /home/mat/.julia/packages/Optim/TNmSw/src/multivariate/optimize/interface.jl:115 (repeats 2 times)",
      " [9] ##core#341() at /home/mat/.julia/packages/BenchmarkTools/eCEpo/src/execution.jl:371",
      " [10] ##sample#342(::BenchmarkTools.Parameters) at /home/mat/.julia/packages/BenchmarkTools/eCEpo/src/execution.jl:379",
      " [11] sample at /home/mat/.julia/packages/BenchmarkTools/eCEpo/src/execution.jl:394 [inlined]",
      " [12] _lineartrial(::BenchmarkTools.Benchmark{Symbol(\"##benchmark#340\")}, ::BenchmarkTools.Parameters; maxevals::Int64, kwargs::Base.Iterators.Pairs{Union{},Union{},Tuple{},NamedTuple{(),Tuple{}}}) at /home/mat/.julia/packages/BenchmarkTools/eCEpo/src/execution.jl:133",
      " [13] _lineartrial(::BenchmarkTools.Benchmark{Symbol(\"##benchmark#340\")}, ::BenchmarkTools.Parameters) at /home/mat/.julia/packages/BenchmarkTools/eCEpo/src/execution.jl:125",
      " [14] #invokelatest#1 at ./essentials.jl:712 [inlined]",
      " [15] invokelatest at ./essentials.jl:711 [inlined]",
      " [16] #lineartrial#38 at /home/mat/.julia/packages/BenchmarkTools/eCEpo/src/execution.jl:33 [inlined]",
      " [17] lineartrial at /home/mat/.julia/packages/BenchmarkTools/eCEpo/src/execution.jl:33 [inlined]",
      " [18] tune!(::BenchmarkTools.Benchmark{Symbol(\"##benchmark#340\")}, ::BenchmarkTools.Parameters; progressid::Nothing, nleaves::Float64, ndone::Float64, verbose::Bool, pad::String, kwargs::Base.Iterators.Pairs{Union{},Union{},Tuple{},NamedTuple{(),Tuple{}}}) at /home/mat/.julia/packages/BenchmarkTools/eCEpo/src/execution.jl:209",
      " [19] tune! at /home/mat/.julia/packages/BenchmarkTools/eCEpo/src/execution.jl:208 [inlined] (repeats 2 times)",
      " [20] macro expansion at /home/mat/.julia/packages/BenchmarkTools/eCEpo/src/execution.jl:482 [inlined]",
      " [21] timing() at ./In[28]:4",
      " [22] top-level scope at In[29]:1"
     ]
    }
   ],
   "source": [
    "timing()"
   ]
  },
  {
   "cell_type": "code",
   "execution_count": null,
   "metadata": {},
   "outputs": [],
   "source": []
  }
 ],
 "metadata": {
  "kernelspec": {
   "display_name": "Julia 1.5.3",
   "language": "julia",
   "name": "julia-1.5"
  },
  "language_info": {
   "file_extension": ".jl",
   "mimetype": "application/julia",
   "name": "julia",
   "version": "1.5.3"
  }
 },
 "nbformat": 4,
 "nbformat_minor": 2
}
