{
 "cells": [
  {
   "cell_type": "code",
   "execution_count": 1,
   "metadata": {},
   "outputs": [
    {
     "name": "stderr",
     "output_type": "stream",
     "text": [
      "\u001b[32m\u001b[1m Activating\u001b[22m\u001b[39m environment at `/media/mat/HDD/AdaptiveTransportMap/Project.toml`\n"
     ]
    }
   ],
   "source": [
    "using Pkg\n",
    "Pkg.activate(\"/media/mat/HDD/AdaptiveTransportMap/\")"
   ]
  },
  {
   "cell_type": "code",
   "execution_count": 1,
   "metadata": {},
   "outputs": [],
   "source": [
    "using Revise\n",
    "using AdaptiveTransportMap\n",
    "using LinearAlgebra\n",
    "using Test\n",
    "using ForwardDiff\n",
    "using SpecialFunctions\n",
    "using Polynomials\n",
    "using BenchmarkTools\n",
    "using TransportMap\n",
    "using QuadGK\n",
    "using FastGaussQuadrature\n",
    "using AdaptiveTransportMap: derivative, vander, scale!, evaluate\n",
    "using DiffResults\n",
    "using Distributions\n",
    "using Random\n",
    "using TensorOperations\n",
    "using Cubature\n",
    "using LoopVectorization\n",
    "using Optim\n",
    "using SparseArrays"
   ]
  },
  {
   "cell_type": "code",
   "execution_count": 6,
   "metadata": {},
   "outputs": [
    {
     "ename": "MethodError",
     "evalue": "MethodError: no method matching ldiv!(::SparseMatrixCSC{Float64,Int64}, ::Array{Float64,1})\nClosest candidates are:\n  ldiv!(!Matched::IterativeSolvers.Identity, ::Any) at /home/mat/.julia/packages/IterativeSolvers/3g7hG/src/common.jl:31\n  ldiv!(!Matched::Number, ::AbstractArray) at /buildworker/worker/package_linux64/build/usr/share/julia/stdlib/v1.4/LinearAlgebra/src/generic.jl:252\n  ldiv!(::AbstractArray, !Matched::Number, !Matched::AbstractArray) at /buildworker/worker/package_linux64/build/usr/share/julia/stdlib/v1.4/LinearAlgebra/src/generic.jl:257\n  ...",
     "output_type": "error",
     "traceback": [
      "MethodError: no method matching ldiv!(::SparseMatrixCSC{Float64,Int64}, ::Array{Float64,1})\nClosest candidates are:\n  ldiv!(!Matched::IterativeSolvers.Identity, ::Any) at /home/mat/.julia/packages/IterativeSolvers/3g7hG/src/common.jl:31\n  ldiv!(!Matched::Number, ::AbstractArray) at /buildworker/worker/package_linux64/build/usr/share/julia/stdlib/v1.4/LinearAlgebra/src/generic.jl:252\n  ldiv!(::AbstractArray, !Matched::Number, !Matched::AbstractArray) at /buildworker/worker/package_linux64/build/usr/share/julia/stdlib/v1.4/LinearAlgebra/src/generic.jl:257\n  ...",
      "",
      "Stacktrace:",
      " [1] ldiv!(::Array{Float64,1}, ::SparseMatrixCSC{Float64,Int64}, ::Array{Float64,1}) at /buildworker/worker/package_linux64/build/usr/share/julia/stdlib/v1.4/LinearAlgebra/src/generic.jl:260",
      " [2] initial_state(::ConjugateGradient{Float64,SparseMatrixCSC{Float64,Int64},Optim.var\"#27#29\",LineSearches.InitialHagerZhang{Float64},LineSearches.HagerZhang{Float64,Base.RefValue{Bool}}}, ::Optim.Options{Float64,Nothing}, ::OnceDifferentiable{Float64,Array{Float64,1},Array{Float64,1}}, ::Array{Float64,1}) at /home/mat/.julia/packages/Optim/TNmSw/src/multivariate/solvers/first_order/cg.jl:132",
      " [3] optimize(::OnceDifferentiable{Float64,Array{Float64,1},Array{Float64,1}}, ::Array{Float64,1}, ::ConjugateGradient{Float64,SparseMatrixCSC{Float64,Int64},Optim.var\"#27#29\",LineSearches.InitialHagerZhang{Float64},LineSearches.HagerZhang{Float64,Base.RefValue{Bool}}}, ::Optim.Options{Float64,Nothing}) at /home/mat/.julia/packages/Optim/TNmSw/src/multivariate/optimize/optimize.jl:33",
      " [4] optimize(::Function, ::Function, ::Array{Float64,1}; inplace::Bool, autodiff::Symbol, kwargs::Base.Iterators.Pairs{Symbol,ConjugateGradient{Float64,SparseMatrixCSC{Float64,Int64},Optim.var\"#27#29\",LineSearches.InitialHagerZhang{Float64},LineSearches.HagerZhang{Float64,Base.RefValue{Bool}}},Tuple{Symbol},NamedTuple{(:method,),Tuple{ConjugateGradient{Float64,SparseMatrixCSC{Float64,Int64},Optim.var\"#27#29\",LineSearches.InitialHagerZhang{Float64},LineSearches.HagerZhang{Float64,Base.RefValue{Bool}}}}}}) at /home/mat/.julia/packages/Optim/TNmSw/src/multivariate/optimize/interface.jl:74",
      " [5] top-level scope at In[6]:9"
     ]
    }
   ],
   "source": [
    "using ForwardDiff, Optim, SparseArrays\n",
    "initial_x = zeros(100)\n",
    "plap(U; n = length(U)) = (n-1)*sum((0.1 .+ diff(U).^2).^2 ) - sum(U) / (n-1)\n",
    "plap1(x) = ForwardDiff.gradient(plap,x)\n",
    "precond(n) = spdiagm(-1 => -ones(n-1), 0 => 2ones(n), 1 => -ones(n-1)) * (n+1)\n",
    "f(x) = plap([0; x; 0])\n",
    "g!(G, x) = copyto!(G, (plap1([0; x; 0]))[2:end-1])\n",
    "result = Optim.optimize(f, g!, initial_x, method = ConjugateGradient(P = nothing))\n",
    "result = Optim.optimize(f, g!, initial_x, method = ConjugateGradient(P = precond(100)))"
   ]
  },
  {
   "cell_type": "code",
   "execution_count": 3,
   "metadata": {},
   "outputs": [
    {
     "name": "stdout",
     "output_type": "stream",
     "text": [
      "  1.548309 seconds (4.81 M allocations: 242.425 MiB, 4.08% gc time)\n"
     ]
    },
    {
     "data": {
      "text/plain": [
       " * Status: success\n",
       "\n",
       " * Candidate solution\n",
       "    Final objective value:     5.378388e-17\n",
       "\n",
       " * Found with\n",
       "    Algorithm:     L-BFGS\n",
       "\n",
       " * Convergence measures\n",
       "    |x - x'|               = 4.54e-11 ≰ 0.0e+00\n",
       "    |x - x'|/|x'|          = 4.54e-11 ≰ 0.0e+00\n",
       "    |f(x) - f(x')|         = 2.85e-19 ≰ 0.0e+00\n",
       "    |f(x) - f(x')|/|f(x')| = 5.30e-03 ≰ 0.0e+00\n",
       "    |g(x)|                 = 9.88e-14 ≤ 1.0e-08\n",
       "\n",
       " * Work counters\n",
       "    Seconds run:   0  (vs limit Inf)\n",
       "    Iterations:    24\n",
       "    f(x) calls:    67\n",
       "    ∇f(x) calls:   67\n"
      ]
     },
     "execution_count": 3,
     "metadata": {},
     "output_type": "execute_result"
    }
   ],
   "source": [
    "rosenbrock(x) =  (1.0 - x[1])^2 + 100.0 * (x[2] - x[1]^2)^2\n",
    "@time result = optimize(rosenbrock, zeros(2), LBFGS())"
   ]
  },
  {
   "cell_type": "code",
   "execution_count": 8,
   "metadata": {},
   "outputs": [
    {
     "data": {
      "text/plain": [
       "timing (generic function with 1 method)"
      ]
     },
     "execution_count": 8,
     "metadata": {},
     "output_type": "execute_result"
    }
   ],
   "source": [
    "function timing()\n",
    "    result = optimize(rosenbrock, zeros(2), LBFGS())\n",
    "end"
   ]
  },
  {
   "cell_type": "code",
   "execution_count": 9,
   "metadata": {},
   "outputs": [
    {
     "data": {
      "text/plain": [
       "2-element Array{Float64,1}:\n",
       " 0.0\n",
       " 0.0"
      ]
     },
     "execution_count": 9,
     "metadata": {},
     "output_type": "execute_result"
    }
   ],
   "source": [
    "function f(x)\n",
    "    return (1.0 - x[1])^2 + 100.0 * (x[2] - x[1]^2)^2\n",
    "end\n",
    "\n",
    "function g!(G, x)\n",
    "    G[1] = -2.0 * (1.0 - x[1]) - 400.0 * (x[2] - x[1]^2) * x[1]\n",
    "    G[2] = 200.0 * (x[2] - x[1]^2)\n",
    "end\n",
    "\n",
    "function h!(H, x)\n",
    "    H[1, 1] = 2.0 - 400.0 * x[2] + 1200.0 * x[1]^2\n",
    "    H[1, 2] = -400.0 * x[1]\n",
    "    H[2, 1] = -400.0 * x[1]\n",
    "    H[2, 2] = 200.0\n",
    "end\n",
    "\n",
    "initial_x = zeros(2)"
   ]
  },
  {
   "cell_type": "code",
   "execution_count": 17,
   "metadata": {},
   "outputs": [
    {
     "name": "stdout",
     "output_type": "stream",
     "text": [
      "  0.000070 seconds (476 allocations: 20.172 KiB)\n"
     ]
    },
    {
     "data": {
      "text/plain": [
       "2-element Array{Float64,1}:\n",
       " 0.9999999999373613\n",
       " 0.9999999998686219"
      ]
     },
     "execution_count": 17,
     "metadata": {},
     "output_type": "execute_result"
    }
   ],
   "source": [
    "@time Optim.minimizer(optimize(f, g!, h!, initial_x, BFGS()))"
   ]
  },
  {
   "cell_type": "code",
   "execution_count": 18,
   "metadata": {},
   "outputs": [
    {
     "data": {
      "text/plain": [
       "fg! (generic function with 1 method)"
      ]
     },
     "execution_count": 18,
     "metadata": {},
     "output_type": "execute_result"
    }
   ],
   "source": [
    "function fg!(F,G,x)\n",
    "  # do common computations here\n",
    "  # ...\n",
    "  if G != nothing\n",
    "    G[1] = -2.0 * (1.0 - x[1]) - 400.0 * (x[2] - x[1]^2) * x[1]\n",
    "    G[2] = 200.0 * (x[2] - x[1]^2)\n",
    "    # code to compute gradient here\n",
    "    # writing the result to the vector G\n",
    "  end\n",
    "  if F != nothing\n",
    "    value = (1.0 - x[1])^2 + 100.0 * (x[2] - x[1]^2)^2\n",
    "    # value = ... code to compute objective function\n",
    "    return value\n",
    "  end\n",
    "end"
   ]
  },
  {
   "cell_type": "code",
   "execution_count": 34,
   "metadata": {},
   "outputs": [],
   "source": [
    "x0 = zeros(2);"
   ]
  },
  {
   "cell_type": "code",
   "execution_count": 36,
   "metadata": {},
   "outputs": [
    {
     "data": {
      "text/plain": [
       "2-element Array{Float64,1}:\n",
       " 0.0\n",
       " 0.0"
      ]
     },
     "execution_count": 36,
     "metadata": {},
     "output_type": "execute_result"
    }
   ],
   "source": [
    "x0"
   ]
  },
  {
   "cell_type": "code",
   "execution_count": 51,
   "metadata": {},
   "outputs": [
    {
     "name": "stdout",
     "output_type": "stream",
     "text": [
      "  0.000003 seconds\n"
     ]
    },
    {
     "data": {
      "text/plain": [
       "2-element Array{Float64,1}:\n",
       " 0.999999999999928\n",
       " 0.9999999999998559"
      ]
     },
     "execution_count": 51,
     "metadata": {},
     "output_type": "execute_result"
    }
   ],
   "source": [
    "res = Optim.optimize(Optim.only_fg!(fg!), x0, Optim.LBFGS())\n",
    "@time Optim.minimizer(res)"
   ]
  },
  {
   "cell_type": "code",
   "execution_count": 47,
   "metadata": {},
   "outputs": [
    {
     "data": {
      "text/plain": [
       "(:method, :initial_x, :minimizer, :minimum, :iterations, :iteration_converged, :x_converged, :x_abstol, :x_reltol, :x_abschange, :x_relchange, :f_converged, :f_abstol, :f_reltol, :f_abschange, :f_relchange, :g_converged, :g_abstol, :g_residual, :f_increased, :trace, :f_calls, :g_calls, :h_calls, :ls_success, :time_limit, :time_run)"
      ]
     },
     "execution_count": 47,
     "metadata": {},
     "output_type": "execute_result"
    }
   ],
   "source": [
    "fieldnames(typeof(res))"
   ]
  },
  {
   "cell_type": "code",
   "execution_count": 33,
   "metadata": {},
   "outputs": [
    {
     "data": {
      "text/plain": [
       " * Status: failure (objective increased between iterations)\n",
       "\n",
       " * Candidate solution\n",
       "    Final objective value:     1.000000e+00\n",
       "\n",
       " * Found with\n",
       "    Algorithm:     Newton's Method\n",
       "\n",
       " * Convergence measures\n",
       "    |x - x'|               = 1.00e-06 ≰ 0.0e+00\n",
       "    |x - x'|/|x'|          = 1.00e+00 ≰ 0.0e+00\n",
       "    |f(x) - f(x')|         = 1.00e-06 ≰ 0.0e+00\n",
       "    |f(x) - f(x')|/|f(x')| = 1.00e-06 ≰ 0.0e+00\n",
       "    |g(x)|                 = 8.80e-02 ≰ 1.0e-08\n",
       "\n",
       " * Work counters\n",
       "    Seconds run:   0  (vs limit Inf)\n",
       "    Iterations:    1\n",
       "    f(x) calls:    71\n",
       "    ∇f(x) calls:   71\n",
       "    ∇²f(x) calls:  2\n"
      ]
     },
     "execution_count": 33,
     "metadata": {},
     "output_type": "execute_result"
    }
   ],
   "source": [
    "function fgh!(F,G,H,x)\n",
    "    if F != nothing\n",
    "        return f(x)\n",
    "    end\n",
    "    if G != nothing\n",
    "        g!(G, x)\n",
    "        return G\n",
    "    end\n",
    "    \n",
    "    if H != nothing\n",
    "        h!(H, x)\n",
    "        return H\n",
    "    end\n",
    "end\n",
    "\n",
    "Optim.optimize(Optim.only_fgh!(fgh!), [0., 0.], Optim.Newton())"
   ]
  },
  {
   "cell_type": "code",
   "execution_count": 28,
   "metadata": {},
   "outputs": [
    {
     "data": {
      "text/plain": [
       "timing (generic function with 1 method)"
      ]
     },
     "execution_count": 28,
     "metadata": {},
     "output_type": "execute_result"
    }
   ],
   "source": [
    "function timing()\n",
    "    @btime optimize(rosenbrock, zeros(2), LBFGS())\n",
    "    @btime Optim.optimize(Optim.only_fg!(fg!), [0., 0.], Optim.LBFGS())\n",
    "    @btime Optim.optimize(Optim.only_fgh!(fgh!), [0., 0.], Optim.Newton())\n",
    "end"
   ]
  },
  {
   "cell_type": "code",
   "execution_count": 29,
   "metadata": {},
   "outputs": [
    {
     "name": "stdout",
     "output_type": "stream",
     "text": [
      "  42.254 μs (578 allocations: 27.69 KiB)\n",
      "  37.231 μs (572 allocations: 27.59 KiB)\n"
     ]
    },
    {
     "ename": "ArgumentError",
     "evalue": "ArgumentError: Value and slope at step length = 0 must be finite.",
     "output_type": "error",
     "traceback": [
      "ArgumentError: Value and slope at step length = 0 must be finite.",
      "",
      "Stacktrace:",
      " [1] (::LineSearches.HagerZhang{Float64,Base.RefValue{Bool}})(::Function, ::LineSearches.var\"#ϕdϕ#6\"{TwiceDifferentiable{Float64,Array{Float64,1},Array{Float64,2},Array{Float64,1}},Array{Float64,1},Array{Float64,1},Array{Float64,1}}, ::Float64, ::Float64, ::Float64) at /home/mat/.julia/packages/LineSearches/WrsMD/src/hagerzhang.jl:117",
      " [2] HagerZhang at /home/mat/.julia/packages/LineSearches/WrsMD/src/hagerzhang.jl:101 [inlined]",
      " [3] perform_linesearch!(::Optim.NewtonState{Array{Float64,1},Float64,Cholesky{Float64,Array{Float64,2}}}, ::Newton{LineSearches.InitialStatic{Float64},LineSearches.HagerZhang{Float64,Base.RefValue{Bool}}}, ::TwiceDifferentiable{Float64,Array{Float64,1},Array{Float64,2},Array{Float64,1}}) at /home/mat/.julia/packages/Optim/TNmSw/src/utilities/perform_linesearch.jl:56",
      " [4] update_state!(::TwiceDifferentiable{Float64,Array{Float64,1},Array{Float64,2},Array{Float64,1}}, ::Optim.NewtonState{Array{Float64,1},Float64,Cholesky{Float64,Array{Float64,2}}}, ::Newton{LineSearches.InitialStatic{Float64},LineSearches.HagerZhang{Float64,Base.RefValue{Bool}}}) at /home/mat/.julia/packages/Optim/TNmSw/src/multivariate/solvers/second_order/newton.jl:79",
      " [5] optimize(::TwiceDifferentiable{Float64,Array{Float64,1},Array{Float64,2},Array{Float64,1}}, ::Array{Float64,1}, ::Newton{LineSearches.InitialStatic{Float64},LineSearches.HagerZhang{Float64,Base.RefValue{Bool}}}, ::Optim.Options{Float64,Nothing}, ::Optim.NewtonState{Array{Float64,1},Float64,Cholesky{Float64,Array{Float64,2}}}) at /home/mat/.julia/packages/Optim/TNmSw/src/multivariate/optimize/optimize.jl:57",
      " [6] optimize at /home/mat/.julia/packages/Optim/TNmSw/src/multivariate/optimize/optimize.jl:33 [inlined]",
      " [7] #optimize#89 at /home/mat/.julia/packages/Optim/TNmSw/src/multivariate/optimize/interface.jl:116 [inlined]",
      " [8] optimize(::NLSolversBase.InplaceObjective{Nothing,Nothing,typeof(fgh!),Nothing,Nothing}, ::Array{Float64,1}, ::Newton{LineSearches.InitialStatic{Float64},LineSearches.HagerZhang{Float64,Base.RefValue{Bool}}}, ::Optim.Options{Float64,Nothing}) at /home/mat/.julia/packages/Optim/TNmSw/src/multivariate/optimize/interface.jl:115 (repeats 2 times)",
      " [9] ##core#341() at /home/mat/.julia/packages/BenchmarkTools/eCEpo/src/execution.jl:371",
      " [10] ##sample#342(::BenchmarkTools.Parameters) at /home/mat/.julia/packages/BenchmarkTools/eCEpo/src/execution.jl:379",
      " [11] sample at /home/mat/.julia/packages/BenchmarkTools/eCEpo/src/execution.jl:394 [inlined]",
      " [12] _lineartrial(::BenchmarkTools.Benchmark{Symbol(\"##benchmark#340\")}, ::BenchmarkTools.Parameters; maxevals::Int64, kwargs::Base.Iterators.Pairs{Union{},Union{},Tuple{},NamedTuple{(),Tuple{}}}) at /home/mat/.julia/packages/BenchmarkTools/eCEpo/src/execution.jl:133",
      " [13] _lineartrial(::BenchmarkTools.Benchmark{Symbol(\"##benchmark#340\")}, ::BenchmarkTools.Parameters) at /home/mat/.julia/packages/BenchmarkTools/eCEpo/src/execution.jl:125",
      " [14] #invokelatest#1 at ./essentials.jl:712 [inlined]",
      " [15] invokelatest at ./essentials.jl:711 [inlined]",
      " [16] #lineartrial#38 at /home/mat/.julia/packages/BenchmarkTools/eCEpo/src/execution.jl:33 [inlined]",
      " [17] lineartrial at /home/mat/.julia/packages/BenchmarkTools/eCEpo/src/execution.jl:33 [inlined]",
      " [18] tune!(::BenchmarkTools.Benchmark{Symbol(\"##benchmark#340\")}, ::BenchmarkTools.Parameters; progressid::Nothing, nleaves::Float64, ndone::Float64, verbose::Bool, pad::String, kwargs::Base.Iterators.Pairs{Union{},Union{},Tuple{},NamedTuple{(),Tuple{}}}) at /home/mat/.julia/packages/BenchmarkTools/eCEpo/src/execution.jl:209",
      " [19] tune! at /home/mat/.julia/packages/BenchmarkTools/eCEpo/src/execution.jl:208 [inlined] (repeats 2 times)",
      " [20] macro expansion at /home/mat/.julia/packages/BenchmarkTools/eCEpo/src/execution.jl:482 [inlined]",
      " [21] timing() at ./In[28]:4",
      " [22] top-level scope at In[29]:1"
     ]
    }
   ],
   "source": [
    "timing()"
   ]
  },
  {
   "cell_type": "code",
   "execution_count": null,
   "metadata": {},
   "outputs": [],
   "source": []
  }
 ],
 "metadata": {
  "kernelspec": {
   "display_name": "Julia 1.4.0",
   "language": "julia",
   "name": "julia-1.4"
  },
  "language_info": {
   "file_extension": ".jl",
   "mimetype": "application/julia",
   "name": "julia",
   "version": "1.4.0"
  }
 },
 "nbformat": 4,
 "nbformat_minor": 2
}
