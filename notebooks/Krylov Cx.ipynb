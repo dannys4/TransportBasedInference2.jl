{
 "cells": [
  {
   "cell_type": "code",
   "execution_count": 1,
   "metadata": {},
   "outputs": [
    {
     "name": "stderr",
     "output_type": "stream",
     "text": [
      "\u001b[32m\u001b[1m Activating\u001b[22m\u001b[39m environment at `/media/mat/HDD/AdaptiveTransportMap/Project.toml`\n"
     ]
    }
   ],
   "source": [
    "using Pkg\n",
    "Pkg.activate(\"/media/mat/HDD/AdaptiveTransportMap/\")"
   ]
  },
  {
   "cell_type": "code",
   "execution_count": 63,
   "metadata": {},
   "outputs": [],
   "source": [
    "using Revise\n",
    "using LinearAlgebra\n",
    "using AdaptiveTransportMap\n",
    "using Statistics\n",
    "using LinearMaps\n",
    "using IterativeSolvers\n",
    "using BenchmarkTools\n",
    "using LoopVectorization\n",
    "\n",
    "using LinearMaps\n",
    "using IterativeSolvers\n",
    "using ForwardDiff\n",
    "using ForwardDiff: GradientConfig, Chunk, gradient!"
   ]
  },
  {
   "cell_type": "code",
   "execution_count": 9,
   "metadata": {},
   "outputs": [],
   "source": [
    "using Plots\n",
    "default(tickfont = font(\"CMU Serif\", 9), \n",
    "        titlefont = font(\"CMU Serif\", 14), \n",
    "        guidefont = font(\"CMU Serif\", 12),\n",
    "        legendfont = font(\"CMU Serif\", 10),\n",
    "        grid = false)\n",
    "pyplot()\n",
    "\n",
    "using LaTeXStrings\n",
    "PyPlot.rc(\"font\", family = \"CMU Serif\")\n",
    "PyPlot.matplotlib[:rc](\"mathtext\",fontset=\"cm\")        #computer modern font \n",
    "PyPlot.matplotlib[:rc](\"font\",family=\"serif\",size=12)"
   ]
  },
  {
   "cell_type": "code",
   "execution_count": 145,
   "metadata": {},
   "outputs": [
    {
     "data": {
      "text/plain": [
       "h (generic function with 2 methods)"
      ]
     },
     "execution_count": 145,
     "metadata": {},
     "output_type": "execute_result"
    }
   ],
   "source": [
    "x1 = -2.0:0.01:2.0\n",
    "x2 = -2.0:0.01:2.0\n",
    "\n",
    "h(x, y) = [x; y^2]\n",
    "# plot(x1, x2, h.(x1, x2))"
   ]
  },
  {
   "cell_type": "code",
   "execution_count": 146,
   "metadata": {},
   "outputs": [
    {
     "data": {
      "text/plain": [
       "2×2 Array{Float64,2}:\n",
       "  1.0   0.0\n",
       " -0.0  -2.0"
      ]
     },
     "execution_count": 146,
     "metadata": {},
     "output_type": "execute_result"
    }
   ],
   "source": [
    "ForwardDiff.jacobian(h, [2.0; -1.0])"
   ]
  },
  {
   "cell_type": "code",
   "execution_count": null,
   "metadata": {},
   "outputs": [],
   "source": [
    "### Nonlinear case"
   ]
  },
  {
   "cell_type": "code",
   "execution_count": 140,
   "metadata": {},
   "outputs": [
    {
     "data": {
      "text/plain": [
       "4"
      ]
     },
     "execution_count": 140,
     "metadata": {},
     "output_type": "execute_result"
    }
   ],
   "source": [
    "Nx = 3\n",
    "Ny = 4 \n",
    "Ne = 200\n",
    "X = randn(Nx, Ne)\n",
    "f(x) = [x[1]; x[2]*x[3]; x[2]^2; x[2]*x[1]]\n",
    "\n",
    "\n",
    "function mapsqrtCx!(Ny, Ne, vout, vin)\n",
    "#     @show 1.0\n",
    "    fill!(vout, 0.0)\n",
    "    \n",
    "    @inbounds for j=1:Ne\n",
    "        # chunk of dimension Ny\n",
    "        vj = view(vin, (j-1)*Ny+1:j*Ny)\n",
    "        # A will be the Jacobian of the function f evaluated at x^i\n",
    "        vout += \n",
    "        mul!(vout, A', vj, 1.0, 1.0)\n",
    "    end\n",
    "    vout .*= 1/sqrt(Ne)\n",
    "end\n",
    "\n",
    "function mapsqrtCxtranspose!(Ny, Ne, vout, vin)\n",
    "#     @show 2.0\n",
    "    fill!(vout, 0.0)\n",
    "\n",
    "    @inbounds for j=1:Ne\n",
    "        # chunk of dimension Ny\n",
    "        vj = view(vout, (j-1)*Ny+1:j*Ny)\n",
    "        # A will be the Jacobian of the function f evaluated at x^i\n",
    "        mul!(vj, A, vin, 1.0, 1.0)\n",
    "    end\n",
    "    vout .*= 1/sqrt(Ne)\n",
    "end\n",
    "\n",
    "function mapsqrtCy!(Nx, Ne, vout, vin)\n",
    "    @show 3.0\n",
    "    fill!(vout, 0.0)\n",
    "    \n",
    "    @inbounds for j=1:Ne\n",
    "        # chunk of dimension Nx\n",
    "        vj = view(vin, (j-1)*Nx+1:j*Nx)\n",
    "        # A will be the Jacobian of the function f evaluated at x^i\n",
    "        mul!(vout, A, vj, 1.0, 1.0)\n",
    "    end\n",
    "    vout .*= 1/sqrt(Ne)\n",
    "end\n",
    "\n",
    "function mapsqrtCytranspose!(Nx, Ne, vout, vin)\n",
    "    @show 4.0    \n",
    "    fill!(vout, 0.0)\n",
    "\n",
    "    @inbounds for j=1:Ne\n",
    "        # chunk of dimension Nx\n",
    "        vj = view(vout, (j-1)*Nx+1:j*Nx)\n",
    "        # A will be the Jacobian of the function f evaluated at x^i\n",
    "        mul!(vj, A', vin, 1.0, 1.0)\n",
    "    end\n",
    "    vout .*= 1/sqrt(Ne)\n",
    "end\n",
    "\n",
    "sqrtCx = LinearMap((vout, vin) -> mapsqrtCx!(Ny, Ne, vout, vin), \n",
    "                   (vout, vin) -> mapsqrtCxtranspose!(Ny, Ne, vout, vin), \n",
    "                   Nx, Ny*Ne; ismutating = true)\n",
    "\n",
    "sqrtCy = LinearMap((vout, vin) -> mapsqrtCy!(Nx, Ne, vout, vin), \n",
    "                   (vout, vin) -> mapsqrtCytranspose!(Nx, Ne, vout, vin), \n",
    "                   Ny, Nx*Ne; ismutating = true)\n",
    "\n",
    "cache = ones(Ny, Ne)\n",
    "@time 1/sqrt(Ne)*sum(A'*cache;dims = 2)\n",
    "\n",
    "v = ones(Ny*Ne);\n",
    "@time sqrtCx*v\n",
    "\n",
    "@show norm(1/sqrt(Ne)*sum(A'*ones(Ny, Ne);dims = 2)-sqrtCx*v)"
   ]
  },
  {
   "cell_type": "code",
   "execution_count": 138,
   "metadata": {},
   "outputs": [
    {
     "data": {
      "text/plain": [
       "4-element Array{Float64,1}:\n",
       " 1.0\n",
       " 6.0\n",
       " 4.0\n",
       " 2.0"
      ]
     },
     "execution_count": 138,
     "metadata": {},
     "output_type": "execute_result"
    }
   ],
   "source": [
    "f(x0)"
   ]
  },
  {
   "cell_type": "code",
   "execution_count": 139,
   "metadata": {},
   "outputs": [
    {
     "data": {
      "text/plain": [
       "GradientConfig{ForwardDiff.Tag{typeof(f),Float64},Float64,3,Array{ForwardDiff.Dual{ForwardDiff.Tag{typeof(f),Float64},Float64,3},1}}((Partials(1.0, 0.0, 0.0), Partials(0.0, 1.0, 0.0), Partials(0.0, 0.0, 1.0)), ForwardDiff.Dual{ForwardDiff.Tag{typeof(f),Float64},Float64,3}[Dual{ForwardDiff.Tag{typeof(f),Float64}}(0.0,5.0e-324,6.8992526675028e-310,5.0e-324), Dual{ForwardDiff.Tag{typeof(f),Float64}}(5.0e-324,6.89925266750285e-310,2.0e-323,1.5e-323), Dual{ForwardDiff.Tag{typeof(f),Float64}}(6.8992526675155e-310,2.5e-323,1.5e-323,6.8992563359395e-310)])"
      ]
     },
     "execution_count": 139,
     "metadata": {},
     "output_type": "execute_result"
    }
   ],
   "source": [
    "cfg = GradientConfig(f, zeros(Nx))"
   ]
  },
  {
   "cell_type": "code",
   "execution_count": 133,
   "metadata": {},
   "outputs": [
    {
     "ename": "LoadError",
     "evalue": "\u001b[91mArgumentError: Cannot create a dual over scalar type Array{Float64,1}. If the type behaves as a scalar, define FowardDiff.can_dual.\u001b[39m",
     "output_type": "error",
     "traceback": [
      "\u001b[91mArgumentError: Cannot create a dual over scalar type Array{Float64,1}. If the type behaves as a scalar, define FowardDiff.can_dual.\u001b[39m",
      "",
      "Stacktrace:",
      " [1] throw_cannot_dual(::Type{T} where T) at /home/mat/.julia/packages/ForwardDiff/QOqCN/src/dual.jl:36",
      " [2] ForwardDiff.Dual{Float64,Array{Float64,1},1}(::Array{Float64,1}, ::ForwardDiff.Partials{1,Array{Float64,1}}) at /home/mat/.julia/packages/ForwardDiff/QOqCN/src/dual.jl:18",
      " [3] Dual at /home/mat/.julia/packages/ForwardDiff/QOqCN/src/dual.jl:55 [inlined]",
      " [4] Dual at /home/mat/.julia/packages/ForwardDiff/QOqCN/src/dual.jl:62 [inlined]",
      " [5] ForwardDiff.Dual{Float64,V,N} where N where V(::Array{Float64,1}, ::Array{Float64,1}) at /home/mat/.julia/packages/ForwardDiff/QOqCN/src/dual.jl:66",
      " [6] top-level scope at In[133]:1",
      " [7] include_string(::Function, ::Module, ::String, ::String) at ./loading.jl:1091"
     ]
    }
   ],
   "source": [
    "ForwardDiff.Dual{Float64}(x0, a)"
   ]
  },
  {
   "cell_type": "code",
   "execution_count": 136,
   "metadata": {},
   "outputs": [
    {
     "data": {
      "text/plain": [
       "3-element Array{ForwardDiff.Dual{ForwardDiff.Tag{typeof(f),Float64},Float64,3},1}:\n",
       " Dual{ForwardDiff.Tag{typeof(f),Float64}}(1.0,0.0,0.0,0.0)\n",
       " Dual{ForwardDiff.Tag{typeof(f),Float64}}(2.0,0.0,0.0,0.0)\n",
       " Dual{ForwardDiff.Tag{typeof(f),Float64}}(3.0,0.0,0.0,0.0)"
      ]
     },
     "execution_count": 136,
     "metadata": {},
     "output_type": "execute_result"
    }
   ],
   "source": [
    "ForwardDiff.seed!(cfg.duals, x0)"
   ]
  },
  {
   "cell_type": "code",
   "execution_count": 127,
   "metadata": {},
   "outputs": [
    {
     "data": {
      "text/plain": [
       "3-element Array{ForwardDiff.Dual{ForwardDiff.Tag{typeof(f),Float64},Float64,3},1}:\n",
       " Dual{ForwardDiff.Tag{typeof(f),Float64}}(6.89930511139483e-310,6.89930511139483e-310,6.8992298948401e-310,6.8992298948417e-310)\n",
       " Dual{ForwardDiff.Tag{typeof(f),Float64}}(6.8992298950077e-310,6.8992316992991e-310,6.89922989484644e-310,6.89922989484803e-310)\n",
       " Dual{ForwardDiff.Tag{typeof(f),Float64}}(6.8992298948496e-310,6.89922989485277e-310,6.89922989485435e-310,6.8992316993813e-310)"
      ]
     },
     "execution_count": 127,
     "metadata": {},
     "output_type": "execute_result"
    }
   ],
   "source": [
    "cfg.duals"
   ]
  },
  {
   "cell_type": "code",
   "execution_count": 129,
   "metadata": {},
   "outputs": [
    {
     "data": {
      "text/plain": [
       "3-element ForwardDiff.Partials{3,Float64}:\n",
       " 1.0\n",
       " 0.0\n",
       " 0.0"
      ]
     },
     "execution_count": 129,
     "metadata": {},
     "output_type": "execute_result"
    }
   ],
   "source": [
    "cfg.seeds[1]"
   ]
  },
  {
   "cell_type": "code",
   "execution_count": 130,
   "metadata": {},
   "outputs": [
    {
     "data": {
      "text/plain": [
       "ForwardDiff.Partials"
      ]
     },
     "execution_count": 130,
     "metadata": {},
     "output_type": "execute_result"
    }
   ],
   "source": [
    "ForwardDiff.Partials"
   ]
  },
  {
   "cell_type": "code",
   "execution_count": 120,
   "metadata": {},
   "outputs": [
    {
     "data": {
      "text/plain": [
       "(Partials(1.0, 0.0, 0.0), Partials(0.0, 1.0, 0.0), Partials(0.0, 0.0, 1.0))"
      ]
     },
     "execution_count": 120,
     "metadata": {},
     "output_type": "execute_result"
    }
   ],
   "source": [
    "ForwardDiff.construct_seeds(ForwardDiff.Partials{Nx,Float64})"
   ]
  },
  {
   "cell_type": "code",
   "execution_count": 91,
   "metadata": {},
   "outputs": [
    {
     "ename": "LoadError",
     "evalue": "\u001b[91mArgumentError: Cannot create a dual over scalar type Array{Float64,1}. If the type behaves as a scalar, define FowardDiff.can_dual.\u001b[39m",
     "output_type": "error",
     "traceback": [
      "\u001b[91mArgumentError: Cannot create a dual over scalar type Array{Float64,1}. If the type behaves as a scalar, define FowardDiff.can_dual.\u001b[39m",
      "",
      "Stacktrace:",
      " [1] throw_cannot_dual(::Type{T} where T) at /home/mat/.julia/packages/ForwardDiff/QOqCN/src/dual.jl:36",
      " [2] ForwardDiff.Dual{Nothing,Array{Float64,1},1}(::Array{Float64,1}, ::ForwardDiff.Partials{1,Array{Float64,1}}) at /home/mat/.julia/packages/ForwardDiff/QOqCN/src/dual.jl:18",
      " [3] Dual at /home/mat/.julia/packages/ForwardDiff/QOqCN/src/dual.jl:55 [inlined]",
      " [4] Dual at /home/mat/.julia/packages/ForwardDiff/QOqCN/src/dual.jl:62 [inlined]",
      " [5] ForwardDiff.Dual{Nothing,V,N} where N where V(::Array{Float64,1}, ::Array{Float64,1}) at /home/mat/.julia/packages/ForwardDiff/QOqCN/src/dual.jl:66",
      " [6] ForwardDiff.Dual(::Array{Float64,1}, ::Vararg{Array{Float64,1},N} where N) at /home/mat/.julia/packages/ForwardDiff/QOqCN/src/dual.jl:68",
      " [7] top-level scope at In[91]:1",
      " [8] include_string(::Function, ::Module, ::String, ::String) at ./loading.jl:1091"
     ]
    }
   ],
   "source": [
    "ForwardDiff.Dual(x0, a)"
   ]
  },
  {
   "cell_type": "code",
   "execution_count": 102,
   "metadata": {},
   "outputs": [
    {
     "data": {
      "text/plain": [
       "4-element Array{Float64,1}:\n",
       "  1.3799146963823623\n",
       " -0.15774830363194933\n",
       "  0.22269759023129562\n",
       "  1.2893752688650402"
      ]
     },
     "execution_count": 102,
     "metadata": {},
     "output_type": "execute_result"
    }
   ],
   "source": [
    "x0 = [1.0; 2.0; 3.0]\n",
    "a = randn(Nx)\n",
    "b = randn(Ny)"
   ]
  },
  {
   "cell_type": "code",
   "execution_count": 103,
   "metadata": {},
   "outputs": [
    {
     "data": {
      "text/plain": [
       "4-element Array{Float64,1}:\n",
       " -0.11437051683247801\n",
       " -1.7388165171713408\n",
       " -0.37399497198907544\n",
       " -0.32223977666222486"
      ]
     },
     "execution_count": 103,
     "metadata": {},
     "output_type": "execute_result"
    }
   ],
   "source": [
    "Ja = ForwardDiff.derivative(ϵ->f(x0 + ϵ*a), 0.0)\n",
    "J = ForwardDiff.jacobian(f, x0)\n",
    "J*a-Ja"
   ]
  },
  {
   "cell_type": "code",
   "execution_count": 104,
   "metadata": {},
   "outputs": [
    {
     "data": {
      "text/plain": [
       "4×3 Array{Float64,2}:\n",
       " 1.0  0.0  0.0\n",
       " 0.0  3.0  2.0\n",
       " 0.0  4.0  0.0\n",
       " 2.0  1.0  0.0"
      ]
     },
     "execution_count": 104,
     "metadata": {},
     "output_type": "execute_result"
    }
   ],
   "source": [
    "# Evaluate f for a DualVector (x0, a)"
   ]
  },
  {
   "cell_type": "code",
   "execution_count": 106,
   "metadata": {},
   "outputs": [
    {
     "data": {
      "text/plain": [
       "CodeInfo(\n",
       "\u001b[90m1 ─\u001b[39m %1 = ForwardDiff.JacobianConfig(f, x)\n",
       "\u001b[90m│  \u001b[39m %2 = (#self#)(f, x, %1)\n",
       "\u001b[90m└──\u001b[39m      return %2\n",
       ")"
      ]
     },
     "execution_count": 106,
     "metadata": {},
     "output_type": "execute_result"
    }
   ],
   "source": [
    "@code_lowered ForwardDiff.jacobian(f, x0)"
   ]
  },
  {
   "cell_type": "code",
   "execution_count": null,
   "metadata": {},
   "outputs": [],
   "source": [
    "# Compute J^Tv"
   ]
  },
  {
   "cell_type": "code",
   "execution_count": 123,
   "metadata": {},
   "outputs": [
    {
     "data": {
      "text/plain": [
       "3-element Array{Float64,1}:\n",
       "  3.9586652341124426\n",
       "  1.7069207188943747\n",
       " -0.31549660726389867"
      ]
     },
     "execution_count": 123,
     "metadata": {},
     "output_type": "execute_result"
    }
   ],
   "source": [
    "Jtb = ForwardDiff.gradient(x->dot(f(x), b), x0)"
   ]
  },
  {
   "cell_type": "code",
   "execution_count": 124,
   "metadata": {},
   "outputs": [
    {
     "data": {
      "text/plain": [
       "3-element Array{Float64,1}:\n",
       "  3.9586652341124426\n",
       "  1.7069207188943747\n",
       " -0.31549660726389867"
      ]
     },
     "execution_count": 124,
     "metadata": {},
     "output_type": "execute_result"
    }
   ],
   "source": [
    "J'*b"
   ]
  },
  {
   "cell_type": "code",
   "execution_count": 125,
   "metadata": {},
   "outputs": [
    {
     "data": {
      "text/plain": [
       "3-element Array{Float64,1}:\n",
       " 0.0\n",
       " 0.0\n",
       " 0.0"
      ]
     },
     "execution_count": 125,
     "metadata": {},
     "output_type": "execute_result"
    }
   ],
   "source": [
    "J'*b-Jtb"
   ]
  },
  {
   "cell_type": "code",
   "execution_count": 128,
   "metadata": {},
   "outputs": [
    {
     "name": "stdout",
     "output_type": "stream",
     "text": [
      "norm(A - UA * Diagonal(ΛA) * VA') = 8.343011905140935e-14\n",
      "  0.000063 seconds (11 allocations: 158.203 KiB)\n",
      "  0.040034 seconds (66.19 k allocations: 3.523 MiB)\n",
      "norm((1 / sqrt(Ne)) * sum(A' * ones(Ny, Ne); dims = 2) - sqrtCx * v) = 5.944538435082983e-12\n"
     ]
    },
    {
     "data": {
      "text/plain": [
       "5.944538435082983e-12"
      ]
     },
     "execution_count": 128,
     "metadata": {},
     "output_type": "execute_result"
    }
   ],
   "source": [
    "Nx = 100\n",
    "Ny = 10\n",
    "maxrank = min(Nx, Ny)\n",
    "\n",
    "A = rdnortho(Ny)[:,1:maxrank]*Diagonal(map(i->100/(i^3) + 0.01, 1:maxrank))*rdnortho(Nx)[:,1:maxrank]'\n",
    "# A = randn(Ny, Nx)\n",
    "\n",
    "svdA = deepcopy(svd(A))\n",
    "UA = svdA.U\n",
    "VA = Matrix(svdA.Vt')\n",
    "ΛA = svdA.S\n",
    "@show norm(A-UA*Diagonal(ΛA)*VA')\n",
    "\n",
    "Ne = 200\n",
    "X = randn(Nx, Ne)\n",
    "\n",
    "function mapsqrtCx!(Ny, Ne, vout, vin)\n",
    "#     @show 1.0\n",
    "    fill!(vout, 0.0)\n",
    "    \n",
    "    @inbounds for j=1:Ne\n",
    "        # chunk of dimension Ny\n",
    "        vj = view(vin, (j-1)*Ny+1:j*Ny)\n",
    "        # A will be the Jacobian of the function f evaluated at x^i\n",
    "        mul!(vout, A', vj, 1.0, 1.0)\n",
    "    end\n",
    "    vout .*= 1/sqrt(Ne)\n",
    "end\n",
    "\n",
    "function mapsqrtCxtranspose!(Ny, Ne, vout, vin)\n",
    "#     @show 2.0\n",
    "    fill!(vout, 0.0)\n",
    "\n",
    "    @inbounds for j=1:Ne\n",
    "        # chunk of dimension Ny\n",
    "        vj = view(vout, (j-1)*Ny+1:j*Ny)\n",
    "        # A will be the Jacobian of the function f evaluated at x^i\n",
    "        mul!(vj, A, vin, 1.0, 1.0)\n",
    "    end\n",
    "    vout .*= 1/sqrt(Ne)\n",
    "end\n",
    "\n",
    "function mapsqrtCy!(Nx, Ne, vout, vin)\n",
    "    @show 3.0\n",
    "    fill!(vout, 0.0)\n",
    "    \n",
    "    @inbounds for j=1:Ne\n",
    "        # chunk of dimension Nx\n",
    "        vj = view(vin, (j-1)*Nx+1:j*Nx)\n",
    "        # A will be the Jacobian of the function f evaluated at x^i\n",
    "        mul!(vout, A, vj, 1.0, 1.0)\n",
    "    end\n",
    "    vout .*= 1/sqrt(Ne)\n",
    "end\n",
    "\n",
    "function mapsqrtCytranspose!(Nx, Ne, vout, vin)\n",
    "    @show 4.0    \n",
    "    fill!(vout, 0.0)\n",
    "\n",
    "    @inbounds for j=1:Ne\n",
    "        # chunk of dimension Nx\n",
    "        vj = view(vout, (j-1)*Nx+1:j*Nx)\n",
    "        # A will be the Jacobian of the function f evaluated at x^i\n",
    "        mul!(vj, A', vin, 1.0, 1.0)\n",
    "    end\n",
    "    vout .*= 1/sqrt(Ne)\n",
    "end\n",
    "\n",
    "sqrtCx = LinearMap((vout, vin) -> mapsqrtCx!(Ny, Ne, vout, vin), \n",
    "                   (vout, vin) -> mapsqrtCxtranspose!(Ny, Ne, vout, vin), \n",
    "                   Nx, Ny*Ne; ismutating = true)\n",
    "\n",
    "sqrtCy = LinearMap((vout, vin) -> mapsqrtCy!(Nx, Ne, vout, vin), \n",
    "                   (vout, vin) -> mapsqrtCytranspose!(Nx, Ne, vout, vin), \n",
    "                   Ny, Nx*Ne; ismutating = true)\n",
    "\n",
    "cache = ones(Ny, Ne)\n",
    "@time 1/sqrt(Ne)*sum(A'*cache;dims = 2)\n",
    "\n",
    "v = ones(Ny*Ne);\n",
    "@time sqrtCx*v\n",
    "\n",
    "@show norm(1/sqrt(Ne)*sum(A'*ones(Ny, Ne);dims = 2)-sqrtCx*v)"
   ]
  },
  {
   "cell_type": "code",
   "execution_count": 115,
   "metadata": {},
   "outputs": [
    {
     "data": {
      "image/png": "[encoded data removed]"
     },
     "execution_count": 115,
     "metadata": {},
     "output_type": "execute_result"
    }
   ],
   "source": [
    "plot(ΛA)"
   ]
  },
  {
   "cell_type": "code",
   "execution_count": 116,
   "metadata": {},
   "outputs": [],
   "source": [
    "Aaug = hcat([A, A, A]...)\n",
    "\n",
    "Aaug' - vcat([A', A', A']...)\n",
    "Aaug'[1:Nx,1:Ny] - A';"
   ]
  },
  {
   "cell_type": "code",
   "execution_count": 110,
   "metadata": {},
   "outputs": [
    {
     "name": "stdout",
     "output_type": "stream",
     "text": [
      "search: \u001b[0m\u001b[1mp\u001b[22m\u001b[0m\u001b[1ms\u001b[22m\u001b[0m\u001b[1mv\u001b[22m\u001b[0m\u001b[1md\u001b[22m \u001b[0m\u001b[1mp\u001b[22m\u001b[0m\u001b[1ms\u001b[22m\u001b[0m\u001b[1mv\u001b[22m\u001b[0m\u001b[1md\u001b[22mvals \u001b[0m\u001b[1mp\u001b[22m\u001b[0m\u001b[1ms\u001b[22m\u001b[0m\u001b[1mv\u001b[22m\u001b[0m\u001b[1md\u001b[22mfact \u001b[0m\u001b[1mP\u001b[22mRE\u001b[0m\u001b[1mS\u001b[22mER\u001b[0m\u001b[1mV\u001b[22mE_\u001b[0m\u001b[1mD\u001b[22mIRECT \u001b[0m\u001b[1mP\u001b[22martial\u001b[0m\u001b[1mS\u001b[22m\u001b[0m\u001b[1mV\u001b[22m\u001b[0m\u001b[1mD\u001b[22m \u001b[0m\u001b[1mP\u001b[22mRE\u001b[0m\u001b[1mS\u001b[22mER\u001b[0m\u001b[1mV\u001b[22mE_TIERE\u001b[0m\u001b[1mD\u001b[22m\n",
      "\n"
     ]
    },
    {
     "data": {
      "text/latex": [
       "No documentation found.\n",
       "\n",
       "\\texttt{LowRankApprox.psvd} is a \\texttt{Function}.\n",
       "\n",
       "\\begin{verbatim}\n",
       "# 1 method for generic function \"psvd\":\n",
       "[1] psvd(A, args...; kwargs...) in LowRankApprox at /home/mat/.julia/packages/LowRankApprox/2wpw4/src/psvd.jl:296\n",
       "\\end{verbatim}\n"
      ],
      "text/markdown": [
       "No documentation found.\n",
       "\n",
       "`LowRankApprox.psvd` is a `Function`.\n",
       "\n",
       "```\n",
       "# 1 method for generic function \"psvd\":\n",
       "[1] psvd(A, args...; kwargs...) in LowRankApprox at /home/mat/.julia/packages/LowRankApprox/2wpw4/src/psvd.jl:296\n",
       "```\n"
      ],
      "text/plain": [
       "  No documentation found.\n",
       "\n",
       "  \u001b[36mLowRankApprox.psvd\u001b[39m is a \u001b[36mFunction\u001b[39m.\n",
       "\n",
       "\u001b[36m  # 1 method for generic function \"psvd\":\u001b[39m\n",
       "\u001b[36m  [1] psvd(A, args...; kwargs...) in LowRankApprox at /home/mat/.julia/packages/LowRankApprox/2wpw4/src/psvd.jl:296\u001b[39m"
      ]
     },
     "execution_count": 110,
     "metadata": {},
     "output_type": "execute_result"
    }
   ],
   "source": [
    "?psvd"
   ]
  },
  {
   "cell_type": "code",
   "execution_count": 126,
   "metadata": {},
   "outputs": [
    {
     "name": "stdout",
     "output_type": "stream",
     "text": [
      "search: \u001b[0m\u001b[1mp\u001b[22m\u001b[0m\u001b[1ms\u001b[22m\u001b[0m\u001b[1mv\u001b[22m\u001b[0m\u001b[1md\u001b[22m\u001b[0m\u001b[1mf\u001b[22m\u001b[0m\u001b[1ma\u001b[22m\u001b[0m\u001b[1mc\u001b[22m\u001b[0m\u001b[1mt\u001b[22m\n",
      "\n"
     ]
    },
    {
     "data": {
      "text/latex": [
       "No documentation found.\n",
       "\n",
       "\\texttt{LowRankApprox.psvdfact} is a \\texttt{Function}.\n",
       "\n",
       "\\begin{verbatim}\n",
       "# 3 methods for generic function \"psvdfact\":\n",
       "[1] psvdfact(A::Union{AbstractArray{T,2}, AbstractLinearOperator{T}}) where T in LowRankApprox at /home/mat/.julia/packages/LowRankApprox/2wpw4/src/psvd.jl:238\n",
       "[2] psvdfact(A::Union{AbstractArray{T,2}, AbstractLinearOperator{T}}, opts::LRAOptions; args...) where T in LowRankApprox at /home/mat/.julia/packages/LowRankApprox/2wpw4/src/psvd.jl:238\n",
       "[3] psvdfact(A, args...; kwargs...) in LowRankApprox at /home/mat/.julia/packages/LowRankApprox/2wpw4/src/psvd.jl:293\n",
       "\\end{verbatim}\n"
      ],
      "text/markdown": [
       "No documentation found.\n",
       "\n",
       "`LowRankApprox.psvdfact` is a `Function`.\n",
       "\n",
       "```\n",
       "# 3 methods for generic function \"psvdfact\":\n",
       "[1] psvdfact(A::Union{AbstractArray{T,2}, AbstractLinearOperator{T}}) where T in LowRankApprox at /home/mat/.julia/packages/LowRankApprox/2wpw4/src/psvd.jl:238\n",
       "[2] psvdfact(A::Union{AbstractArray{T,2}, AbstractLinearOperator{T}}, opts::LRAOptions; args...) where T in LowRankApprox at /home/mat/.julia/packages/LowRankApprox/2wpw4/src/psvd.jl:238\n",
       "[3] psvdfact(A, args...; kwargs...) in LowRankApprox at /home/mat/.julia/packages/LowRankApprox/2wpw4/src/psvd.jl:293\n",
       "```\n"
      ],
      "text/plain": [
       "  No documentation found.\n",
       "\n",
       "  \u001b[36mLowRankApprox.psvdfact\u001b[39m is a \u001b[36mFunction\u001b[39m.\n",
       "\n",
       "\u001b[36m  # 3 methods for generic function \"psvdfact\":\u001b[39m\n",
       "\u001b[36m  [1] psvdfact(A::Union{AbstractArray{T,2}, AbstractLinearOperator{T}}) where T in LowRankApprox at /home/mat/.julia/packages/LowRankApprox/2wpw4/src/psvd.jl:238\u001b[39m\n",
       "\u001b[36m  [2] psvdfact(A::Union{AbstractArray{T,2}, AbstractLinearOperator{T}}, opts::LRAOptions; args...) where T in LowRankApprox at /home/mat/.julia/packages/LowRankApprox/2wpw4/src/psvd.jl:238\u001b[39m\n",
       "\u001b[36m  [3] psvdfact(A, args...; kwargs...) in LowRankApprox at /home/mat/.julia/packages/LowRankApprox/2wpw4/src/psvd.jl:293\u001b[39m"
      ]
     },
     "execution_count": 126,
     "metadata": {},
     "output_type": "execute_result"
    }
   ],
   "source": [
    "?psvdfact"
   ]
  },
  {
   "cell_type": "code",
   "execution_count": 118,
   "metadata": {},
   "outputs": [
    {
     "name": "stdout",
     "output_type": "stream",
     "text": [
      "1.0 = 1.0\n",
      "1.0 = 1.0\n",
      "1.0 = 1.0\n",
      "1.0 = 1.0\n",
      "1.0 = 1.0\n",
      "1.0 = 1.0\n",
      "1.0 = 1.0\n",
      "1.0 = 1.0\n",
      "1.0 = 1.0\n",
      "1.0 = 1.0\n",
      "1.0 = 1.0\n",
      "1.0 = 1.0\n",
      "1.0 = 1.0\n",
      "1.0 = 1.0\n",
      "1.0 = 1.0\n",
      "1.0 = 1.0\n",
      "1.0 = 1.0\n",
      "1.0 = 1.0\n",
      "1.0 = 1.0\n",
      "1.0 = 1.0\n",
      "1.0 = 1.0\n",
      "1.0 = 1.0\n",
      "1.0 = 1.0\n",
      "1.0 = 1.0\n",
      "1.0 = 1.0\n",
      "1.0 = 1.0\n",
      "1.0 = 1.0\n",
      "1.0 = 1.0\n",
      "1.0 = 1.0\n",
      "1.0 = 1.0\n",
      "1.0 = 1.0\n",
      "1.0 = 1.0\n",
      "1.0 = 1.0\n",
      "1.0 = 1.0\n",
      "1.0 = 1.0\n",
      "1.0 = 1.0\n",
      "1.0 = 1.0\n",
      "1.0 = 1.0\n",
      "1.0 = 1.0\n",
      "1.0 = 1.0\n",
      "2.0 = 2.0\n",
      "2.0 = 2.0\n",
      "2.0 = 2.0\n",
      "2.0 = 2.0\n",
      "2.0 = 2.0\n",
      "  0.009484 seconds (61.56 k allocations: 3.779 MiB)\n"
     ]
    },
    {
     "data": {
      "text/plain": [
       "PartialSVD{Float64,Float64}([-0.21489659982921128 0.040541436609761096 … 0.0500885401765511 -0.015908041671289255; 0.11095488659978824 0.0456885726907314 … 0.029735323760836534 0.12218186283870584; … ; 0.12749467400217923 0.07629480490889445 … 0.031866426254116564 0.03225920792288324; 0.019786385277386482 -0.027071220646916982 … 0.04155814486008805 -0.059660239706516446], [99.90434660654964, 12.527372138003582, 3.6988862288465705, 1.5221622818833893, 0.7695938071550588], [0.036269919052181354 -0.009379898933995361 … -0.007707998513275308 0.01748544877819928; 0.029241584666730918 -0.012069525579371021 … -0.0021606011978076954 -0.040589627178194795; … ; 0.008267459069145396 -0.03613210015381858 … 0.007238450726223891 -0.004886958658709389; -0.009208210375603654 0.00626866992683809 … 0.028194111152206023 -0.034025871272638654])"
      ]
     },
     "execution_count": 118,
     "metadata": {},
     "output_type": "execute_result"
    }
   ],
   "source": [
    "@time SCx = psvdfact(sqrtCx, rank = 5)"
   ]
  },
  {
   "cell_type": "code",
   "execution_count": 129,
   "metadata": {},
   "outputs": [
    {
     "name": "stdout",
     "output_type": "stream",
     "text": [
      "  1.890 ms (10244 allocations: 2.29 MiB)\n"
     ]
    }
   ],
   "source": [
    "@btime SCx, errorCx  = svdl(sqrtCx; nsv = 4, vecs = :left);"
   ]
  },
  {
   "cell_type": "code",
   "execution_count": 133,
   "metadata": {},
   "outputs": [
    {
     "name": "stdout",
     "output_type": "stream",
     "text": [
      "  20.560 μs (13 allocations: 7.77 KiB)\n"
     ]
    },
    {
     "data": {
      "text/plain": [
       "Eigen{Float64,Float64,Array{Float64,2},Array{Float64,1}}\n",
       "values:\n",
       "10-element Array{Float64,1}:\n",
       "     0.012100000000455536\n",
       "     0.02166024845648693\n",
       "     0.04215322265630016\n",
       "     0.09092950131357137\n",
       "     0.22369396433505828\n",
       "     0.6561000000001262\n",
       "     2.4727562499999007\n",
       "    13.791595198902725\n",
       "   156.50009999999978\n",
       " 10002.00009999999\n",
       "vectors:\n",
       "10×10 Array{Float64,2}:\n",
       "  0.28865     0.221769   -0.0974508   …   0.571901   -0.0854113  -0.0457777\n",
       " -0.210096    0.10485     0.577876       -0.310206   -0.320828    0.00606528\n",
       "  0.404081    0.39284     0.11824        -0.0232227   0.527375   -0.111582\n",
       " -0.397764    0.0179987   0.517429        0.494155    0.0439407   0.170584\n",
       " -0.00631    -0.237463   -0.366342        0.209213   -0.526587   -0.172667\n",
       "  0.434575   -0.19795     0.399232    …   0.233931   -0.106243   -0.330327\n",
       " -0.280951    0.503492   -0.221669        0.283454   -0.0219059   0.346799\n",
       "  0.474244    0.242799    0.159942       -0.0214226  -0.492379    0.418611\n",
       "  0.0595651   0.409411   -0.080578       -0.387482   -0.206541   -0.00410799\n",
       "  0.234005   -0.457747   -0.00668008     -0.0503212   0.188579    0.722403"
      ]
     },
     "execution_count": 133,
     "metadata": {},
     "output_type": "execute_result"
    }
   ],
   "source": [
    "@btime eigen(A*A')"
   ]
  },
  {
   "cell_type": "code",
   "execution_count": 130,
   "metadata": {},
   "outputs": [
    {
     "name": "stdout",
     "output_type": "stream",
     "text": [
      "  0.002500 seconds (10.26 k allocations: 2.383 MiB)\n",
      "3.0 = 3.0\n",
      "4.0 = 4.0\n",
      "3.0 = 3.0\n",
      "4.0 = 4.0\n",
      "3.0 = 3.0\n",
      "4.0 = 4.0\n",
      "3.0 = 3.0\n",
      "4.0 = 4.0\n",
      "3.0 = 3.0\n",
      "4.0 = 4.0\n",
      "3.0 = 3.0\n",
      "4.0 = 4.0\n",
      "3.0 = 3.0\n",
      "4.0 = 4.0\n",
      "3.0 = 3.0\n",
      "4.0 = 4.0\n",
      "3.0 = 3.0\n",
      "4.0 = 4.0\n",
      "4.0 = 4.0\n",
      "3.0 = 3.0\n",
      "4.0 = 4.0\n",
      "3.0 = 3.0\n",
      "4.0 = 4.0\n",
      "3.0 = 3.0\n",
      "4.0 = 4.0\n",
      "  0.662743 seconds (2.16 M allocations: 127.712 MiB, 1.96% gc time)\n"
     ]
    }
   ],
   "source": [
    "@time SCx, errorCx  = svdl(sqrtCx; nsv = 4, vecs = :left);\n",
    "@time SCy, errorCy  = svdl(sqrtCy; nsv = 4, vecs = :left);"
   ]
  },
  {
   "cell_type": "code",
   "execution_count": 98,
   "metadata": {},
   "outputs": [
    {
     "name": "stdout",
     "output_type": "stream",
     "text": [
      "1.0 = 1.0\n",
      "1.0 = 1.0\n",
      "norm((sqrtCx * repeat(ui, Ne)) / (√Ne * SCx.S[i]) - SCx.U[:, i]) = 1.9602995946748376\n",
      "1.0 = 1.0\n",
      "1.0 = 1.0\n",
      "norm((sqrtCx * repeat(ui, Ne)) / (√Ne * SCx.S[i]) - SCx.U[:, i]) = 2.2350852103806402\n",
      "1.0 = 1.0\n",
      "1.0 = 1.0\n",
      "norm((sqrtCx * repeat(ui, Ne)) / (√Ne * SCx.S[i]) - SCx.U[:, i]) = 1.4700886100400248\n",
      "1.0 = 1.0\n",
      "1.0 = 1.0\n",
      "norm((sqrtCx * repeat(ui, Ne)) / (√Ne * SCx.S[i]) - SCx.U[:, i]) = 1.9179433839316498\n",
      "1.0 = 1.0\n",
      "1.0 = 1.0\n",
      "norm((sqrtCx * repeat(ui, Ne)) / (√Ne * SCx.S[i]) - SCx.U[:, i]) = 4.8321407811875146\n"
     ]
    }
   ],
   "source": [
    "# Use the characterization of the SVD to compute a sign consistent singular vectors V\n",
    "Vflipped = zeros(Nx, 5)\n",
    "\n",
    "for i=1:5\n",
    "    ui = SCy.U[:,i]\n",
    "    Vflipped[:,i] .=  sqrtCx*repeat(ui, Ne)/(√(Ne)*SCx.S[i])\n",
    "    @show norm(sqrtCx*repeat(ui, Ne)/(√(Ne)*SCx.S[i])-SCx.U[:,i])\n",
    "end"
   ]
  },
  {
   "cell_type": "code",
   "execution_count": 99,
   "metadata": {},
   "outputs": [
    {
     "data": {
      "text/plain": [
       "10×100 Array{Float64,2}:\n",
       "  4.71934  -1.74471    2.89074  -3.22781  …   5.40098   3.85934  -1.84141\n",
       " -3.79206   0.138559  -1.61874   2.09782     -4.28603  -2.6412    1.56416\n",
       "  7.39327  -1.65567    3.91819  -4.57165      8.12691   5.59735  -2.91946\n",
       " -6.38317   1.42739   -3.42785   4.02147     -7.14006  -4.91777   2.53751\n",
       "  3.29427  -1.47436    2.08403  -2.08408      3.8045    2.49156  -1.50989\n",
       "  3.00108   0.258591   1.06641  -1.62098  …   3.05451   2.06957  -0.996446\n",
       " -5.21653   0.830001  -2.60754   3.34095     -5.54566  -4.09114   1.74611\n",
       "  5.30818  -1.68312    3.03229  -3.25659      6.10112   3.95241  -2.35003\n",
       "  8.68308  -2.74846    5.07249  -5.68586      9.89815   6.86442  -3.52214\n",
       " -1.4293    0.497095  -0.85369   1.0         -1.63307  -1.19111   0.507568"
      ]
     },
     "execution_count": 99,
     "metadata": {},
     "output_type": "execute_result"
    }
   ],
   "source": [
    "UA[:,1:5]*Diagonal(ΛA[1:5])*(VA[:,1:5])'"
   ]
  },
  {
   "cell_type": "code",
   "execution_count": 56,
   "metadata": {},
   "outputs": [
    {
     "data": {
      "text/plain": [
       "2.2187006034736736e-8"
      ]
     },
     "execution_count": 56,
     "metadata": {},
     "output_type": "execute_result"
    }
   ],
   "source": [
    "norm(SCy.U[:,1:5]*Diagonal(SCy.S)*Vflipped'-UA[:,1:5]*Diagonal(ΛA[1:5])*(VA[:,1:5])')"
   ]
  },
  {
   "cell_type": "code",
   "execution_count": 293,
   "metadata": {},
   "outputs": [
    {
     "data": {
      "text/plain": [
       "10-element Array{Float64,1}:\n",
       " 7.168320388943877\n",
       " 6.385227303864496\n",
       " 5.645280671469176\n",
       " 4.788366908387402\n",
       " 4.524817351764382\n",
       " 4.2439298262305405\n",
       " 3.642842575265584\n",
       " 3.097335578359893\n",
       " 2.6408521844951496\n",
       " 2.2640992623999643"
      ]
     },
     "execution_count": 293,
     "metadata": {},
     "output_type": "execute_result"
    }
   ],
   "source": [
    "ΛA"
   ]
  },
  {
   "cell_type": "code",
   "execution_count": 294,
   "metadata": {},
   "outputs": [
    {
     "data": {
      "text/plain": [
       "20×10 Array{Float64,2}:\n",
       "  0.0801299   -0.239461    0.0512219  …  -0.144675    0.259027    0.0590847\n",
       "  0.536357    -0.112479   -0.56401       -0.0363053   0.0623915  -0.235716\n",
       " -0.0440869   -0.118124   -0.0172561      0.40879    -0.189308    0.0793139\n",
       " -0.21828      0.246072   -0.0834668      0.286907    0.111517   -0.0421737\n",
       "  0.0165515    0.0913264   0.171071       0.138628    0.222504    0.515868\n",
       " -0.0821933   -0.333191    0.0894672  …   0.153179   -0.328914   -0.18744\n",
       " -0.448108     0.0218479  -0.284957      -0.44656    -0.182259    0.36718\n",
       " -0.212235    -0.0467525  -0.0367269      0.149958   -0.482646   -0.0664461\n",
       " -0.12395     -0.150087   -0.0371922     -0.0509557  -0.318956   -0.19351\n",
       " -0.00845517   0.0275854  -0.312868       0.246525   -0.152187    0.43618\n",
       "  0.0426937    0.176726   -0.0403377  …   0.174299   -0.103469   -0.0802576\n",
       " -0.296621     0.282167    0.218224       0.0313168   0.0827961  -0.368448\n",
       " -0.279658    -0.42035    -0.242909       0.377056    0.239358    0.0537749\n",
       " -0.214267     0.320262   -0.420642       0.216684    0.20145    -0.261163\n",
       " -0.142079    -0.134554   -0.123308      -0.319413   -0.0192443  -0.133299\n",
       " -0.290686    -0.0614369  -0.166633   …  -0.116783    0.332967   -0.0334346\n",
       "  0.18647      0.160283    0.0492573      0.0207724  -0.223427    0.131764\n",
       "  0.153555     0.448988   -0.160879       0.0294024  -0.164524    0.101793\n",
       "  0.101855    -0.260099   -0.0839723      0.0932214   0.0184131   0.0677207\n",
       " -0.0257953    0.0571946  -0.298984      -0.232889   -0.167296    0.01407"
      ]
     },
     "execution_count": 294,
     "metadata": {},
     "output_type": "execute_result"
    }
   ],
   "source": [
    "VA"
   ]
  },
  {
   "cell_type": "code",
   "execution_count": 232,
   "metadata": {},
   "outputs": [
    {
     "name": "stdout",
     "output_type": "stream",
     "text": [
      "  0.000060 seconds (8 allocations: 11.531 KiB)\n"
     ]
    },
    {
     "data": {
      "text/plain": [
       "SVD{Float64,Float64,Array{Float64,2}}\n",
       "U factor:\n",
       "10×10 Array{Float64,2}:\n",
       " -0.50436     0.468988    -0.327095   …  -0.058568    0.283128\n",
       " -0.0864138  -0.54991     -0.0982356      0.439312    0.380967\n",
       " -0.399826   -0.435268    -0.417825      -0.467853    0.0713905\n",
       "  0.452498    0.141507    -0.247575      -0.0482586   0.594967\n",
       " -0.212934   -0.00850176   0.0227263     -0.0281845  -0.290359\n",
       "  0.161898   -0.327976     0.430423   …  -0.186365    0.164541\n",
       " -0.0758274  -0.19966     -0.139723       0.290867   -0.42956\n",
       " -0.0601214   0.241651    -0.0675069      0.595077   -0.000350149\n",
       "  0.219498   -0.226827    -0.538889       0.21655    -0.10455\n",
       " -0.494412   -0.104004     0.3837         0.247423    0.329826\n",
       "singular values:\n",
       "10-element Array{Float64,1}:\n",
       " 100.01000000000012\n",
       "  12.509999999999996\n",
       "   3.713703703703704\n",
       "   1.572500000000002\n",
       "   0.8100000000000005\n",
       "   0.4729629629629644\n",
       "   0.3015451895043731\n",
       "   0.20531249999999995\n",
       "   0.1471742112482845\n",
       "   0.11000000000000253\n",
       "Vt factor:\n",
       "10×20 Array{Float64,2}:\n",
       "  0.281359   -0.442901    0.082469   -0.0551009   …  -0.0910865   0.315407\n",
       "  0.038661    0.180879    0.550181   -0.157377       -0.461073   -0.0813815\n",
       " -0.159305   -0.0695669  -0.245608   -0.0646117      -0.11777     0.0271408\n",
       " -0.293921   -0.184058    0.126585    0.0883926      -0.0697274   0.0078526\n",
       "  0.0360028   0.183729   -0.209855   -0.145214        0.0740598  -0.086895\n",
       " -0.124635   -0.142443    0.139248    0.117598    …  -0.0906444  -0.442145\n",
       "  0.12919     0.0731769  -0.352044    0.128573        0.228429    0.0897853\n",
       "  0.0528083  -0.214394    0.264978   -0.00114011      0.213041   -0.00293187\n",
       " -0.282351   -0.184771    0.215015    0.208199        0.277553    0.17392\n",
       " -0.0993929   0.462349   -0.0156104   0.367745       -0.242293   -0.000764352"
      ]
     },
     "execution_count": 232,
     "metadata": {},
     "output_type": "execute_result"
    }
   ],
   "source": [
    "@time svd(A)"
   ]
  },
  {
   "cell_type": "code",
   "execution_count": null,
   "metadata": {},
   "outputs": [],
   "source": []
  }
 ],
 "metadata": {
  "kernelspec": {
   "display_name": "Julia 1.5.3",
   "language": "julia",
   "name": "julia-1.5"
  },
  "language_info": {
   "file_extension": ".jl",
   "mimetype": "application/julia",
   "name": "julia",
   "version": "1.5.3"
  }
 },
 "nbformat": 4,
 "nbformat_minor": 4
}
