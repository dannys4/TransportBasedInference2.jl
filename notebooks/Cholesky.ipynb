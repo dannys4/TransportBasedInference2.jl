{
 "cells": [
  {
   "cell_type": "code",
   "execution_count": 1,
   "metadata": {},
   "outputs": [
    {
     "name": "stderr",
     "output_type": "stream",
     "text": [
      "\u001b[32m\u001b[1m Activating\u001b[22m\u001b[39m environment at `/media/mat/HDD/AdaptiveTransportMap/Project.toml`\n"
     ]
    }
   ],
   "source": [
    "using Pkg\n",
    "Pkg.activate(\"/media/mat/HDD/AdaptiveTransportMap/\")"
   ]
  },
  {
   "cell_type": "code",
   "execution_count": 2,
   "metadata": {},
   "outputs": [
    {
     "name": "stderr",
     "output_type": "stream",
     "text": [
      "┌ Info: Precompiling AdaptiveTransportMap [bdf749b0-1400-4207-80d3-e689c0e3f03d]\n",
      "└ @ Base loading.jl:1260\n"
     ]
    }
   ],
   "source": [
    "using Revise\n",
    "using AdaptiveTransportMap\n",
    "using LinearAlgebra\n",
    "using Test\n",
    "using ForwardDiff\n",
    "using SpecialFunctions\n",
    "using Polynomials\n",
    "using BenchmarkTools\n",
    "using TransportMap\n",
    "using QuadGK\n",
    "using FastGaussQuadrature\n",
    "using AdaptiveTransportMap: derivative, vander, evaluate, LinearTransform\n",
    "using DiffResults\n",
    "using Distributions\n",
    "using Random\n",
    "using LoopVectorization\n",
    "using Optim\n",
    "using LinearMaps"
   ]
  },
  {
   "cell_type": "code",
   "execution_count": 3,
   "metadata": {},
   "outputs": [],
   "source": [
    "Nx = 80\n",
    "Ne = 300\n",
    "X = zeros(randn(Nx, Ne))\n",
    "X0  = deepcopy(ens.S)\n",
    "Xin = deepcopy(ens.S)\n",
    "Xout = deepcopy(Xin)\n",
    "\n",
    "cov(ens)\n",
    "σ = std(ens.S; dims = 2)[:,1];"
   ]
  },
  {
   "cell_type": "code",
   "execution_count": 4,
   "metadata": {},
   "outputs": [
    {
     "data": {
      "text/plain": [
       "80×80 LowerTriangular{Float64,Array{Float64,2}}:\n",
       "  0.901554      ⋅             ⋅           …    ⋅          ⋅          ⋅ \n",
       " -0.0697431    1.01013        ⋅                ⋅          ⋅          ⋅ \n",
       "  0.0620572   -0.0401903     0.94172           ⋅          ⋅          ⋅ \n",
       " -0.00651134  -0.116109     -0.0515584         ⋅          ⋅          ⋅ \n",
       "  0.0115551   -0.0279193     0.0952991         ⋅          ⋅          ⋅ \n",
       " -0.0225679   -0.0359659    -0.055617     …    ⋅          ⋅          ⋅ \n",
       "  0.0303757   -0.00828113    0.104551          ⋅          ⋅          ⋅ \n",
       " -0.011057    -0.00730934    0.0155775         ⋅          ⋅          ⋅ \n",
       " -0.00805503  -0.0755582    -0.002607          ⋅          ⋅          ⋅ \n",
       " -0.00533862  -0.0338618    -0.1212            ⋅          ⋅          ⋅ \n",
       "  0.113411    -0.0565354     0.0950428    …    ⋅          ⋅          ⋅ \n",
       "  0.0474702   -0.0408741     0.0364002         ⋅          ⋅          ⋅ \n",
       "  0.0486044   -0.0728819     0.0248711         ⋅          ⋅          ⋅ \n",
       "  ⋮                                       ⋱                         \n",
       " -0.0149761   -0.164097     -0.0678129         ⋅          ⋅          ⋅ \n",
       "  0.118216     0.000594946   0.101788          ⋅          ⋅          ⋅ \n",
       "  0.0106722    0.133348      0.131566     …    ⋅          ⋅          ⋅ \n",
       "  0.0715533    0.0041559    -0.00740254        ⋅          ⋅          ⋅ \n",
       " -0.0698021   -0.0420774    -0.0289177         ⋅          ⋅          ⋅ \n",
       " -0.0113961   -0.00803258   -0.0412579         ⋅          ⋅          ⋅ \n",
       "  0.0422902    0.0928721    -0.00878975        ⋅          ⋅          ⋅ \n",
       "  0.0566849   -0.00663516   -0.0164126    …    ⋅          ⋅          ⋅ \n",
       "  0.116651    -0.03516       0.0358639         ⋅          ⋅          ⋅ \n",
       "  0.0923259    0.0720817    -0.129815         1.11172     ⋅          ⋅ \n",
       " -0.0111014   -0.031491     -0.000711313     -0.0979135  1.09588     ⋅ \n",
       " -0.0591997   -0.124236      0.00622083      -0.0697976  0.0221635  1.09712"
      ]
     },
     "execution_count": 4,
     "metadata": {},
     "output_type": "execute_result"
    }
   ],
   "source": [
    "L = LinearTransform(Xin; diag = false)\n",
    "lmap = cholesky(cov(X0')).L\n",
    "invlmap = inv(lmap)"
   ]
  },
  {
   "cell_type": "code",
   "execution_count": 10,
   "metadata": {},
   "outputs": [
    {
     "name": "stdout",
     "output_type": "stream",
     "text": [
      "\u001b[37m\u001b[1mTest Summary:                                | \u001b[22m\u001b[39m\u001b[32m\u001b[1mPass  \u001b[22m\u001b[39m\u001b[36m\u001b[1mTotal\u001b[22m\u001b[39m\n",
      "Linear rescaling of multi-dimensional sample | \u001b[32m   6  \u001b[39m\u001b[36m    6\u001b[39m\n"
     ]
    },
    {
     "data": {
      "text/plain": [
       "Test.DefaultTestSet(\"Linear rescaling of multi-dimensional sample\", Any[], 6, false)"
      ]
     },
     "execution_count": 10,
     "metadata": {},
     "output_type": "execute_result"
    }
   ],
   "source": []
  },
  {
   "cell_type": "code",
   "execution_count": 82,
   "metadata": {},
   "outputs": [
    {
     "name": "stdout",
     "output_type": "stream",
     "text": [
      "search: \u001b[0m\u001b[1mt\u001b[22m\u001b[0m\u001b[1mr\u001b[22m\u001b[0m\u001b[1ma\u001b[22m\u001b[0m\u001b[1mn\u001b[22m\u001b[0m\u001b[1ms\u001b[22m\u001b[0m\u001b[1mp\u001b[22m\u001b[0m\u001b[1mo\u001b[22m\u001b[0m\u001b[1ms\u001b[22m\u001b[0m\u001b[1me\u001b[22m \u001b[0m\u001b[1mt\u001b[22m\u001b[0m\u001b[1mr\u001b[22m\u001b[0m\u001b[1ma\u001b[22m\u001b[0m\u001b[1mn\u001b[22m\u001b[0m\u001b[1ms\u001b[22m\u001b[0m\u001b[1mp\u001b[22m\u001b[0m\u001b[1mo\u001b[22m\u001b[0m\u001b[1ms\u001b[22m\u001b[0m\u001b[1me\u001b[22m! \u001b[0m\u001b[1mT\u001b[22m\u001b[0m\u001b[1mr\u001b[22m\u001b[0m\u001b[1ma\u001b[22m\u001b[0m\u001b[1mn\u001b[22m\u001b[0m\u001b[1ms\u001b[22m\u001b[0m\u001b[1mp\u001b[22m\u001b[0m\u001b[1mo\u001b[22m\u001b[0m\u001b[1ms\u001b[22m\u001b[0m\u001b[1me\u001b[22m copy_\u001b[0m\u001b[1mt\u001b[22m\u001b[0m\u001b[1mr\u001b[22m\u001b[0m\u001b[1ma\u001b[22m\u001b[0m\u001b[1mn\u001b[22m\u001b[0m\u001b[1ms\u001b[22m\u001b[0m\u001b[1mp\u001b[22m\u001b[0m\u001b[1mo\u001b[22m\u001b[0m\u001b[1ms\u001b[22m\u001b[0m\u001b[1me\u001b[22m! \u001b[0m\u001b[1mT\u001b[22m\u001b[0m\u001b[1mr\u001b[22m\u001b[0m\u001b[1ma\u001b[22m\u001b[0m\u001b[1mn\u001b[22m\u001b[0m\u001b[1ms\u001b[22m\u001b[0m\u001b[1mp\u001b[22m\u001b[0m\u001b[1mo\u001b[22mrtMap\n",
      "\n"
     ]
    },
    {
     "data": {
      "text/latex": [
       "\\begin{verbatim}\n",
       "transpose(A)\n",
       "\\end{verbatim}\n",
       "Lazy transpose. Mutating the returned object should appropriately mutate \\texttt{A}. Often, but not always, yields \\texttt{Transpose(A)}, where \\texttt{Transpose} is a lazy transpose wrapper. Note that this operation is recursive.\n",
       "\n",
       "This operation is intended for linear algebra usage - for general data manipulation see \\href{@ref Base.permutedims}{\\texttt{permutedims}}, which is non-recursive.\n",
       "\n",
       "\\section{Examples}\n",
       "\\begin{verbatim}\n",
       "julia> A = [3+2im 9+2im; 8+7im  4+6im]\n",
       "2×2 Array{Complex{Int64},2}:\n",
       " 3+2im  9+2im\n",
       " 8+7im  4+6im\n",
       "\n",
       "julia> transpose(A)\n",
       "2×2 Transpose{Complex{Int64},Array{Complex{Int64},2}}:\n",
       " 3+2im  8+7im\n",
       " 9+2im  4+6im\n",
       "\\end{verbatim}\n"
      ],
      "text/markdown": [
       "```\n",
       "transpose(A)\n",
       "```\n",
       "\n",
       "Lazy transpose. Mutating the returned object should appropriately mutate `A`. Often, but not always, yields `Transpose(A)`, where `Transpose` is a lazy transpose wrapper. Note that this operation is recursive.\n",
       "\n",
       "This operation is intended for linear algebra usage - for general data manipulation see [`permutedims`](@ref Base.permutedims), which is non-recursive.\n",
       "\n",
       "# Examples\n",
       "\n",
       "```jldoctest\n",
       "julia> A = [3+2im 9+2im; 8+7im  4+6im]\n",
       "2×2 Array{Complex{Int64},2}:\n",
       " 3+2im  9+2im\n",
       " 8+7im  4+6im\n",
       "\n",
       "julia> transpose(A)\n",
       "2×2 Transpose{Complex{Int64},Array{Complex{Int64},2}}:\n",
       " 3+2im  8+7im\n",
       " 9+2im  4+6im\n",
       "```\n"
      ],
      "text/plain": [
       "\u001b[36m  transpose(A)\u001b[39m\n",
       "\n",
       "  Lazy transpose. Mutating the returned object should appropriately mutate \u001b[36mA\u001b[39m.\n",
       "  Often, but not always, yields \u001b[36mTranspose(A)\u001b[39m, where \u001b[36mTranspose\u001b[39m is a lazy\n",
       "  transpose wrapper. Note that this operation is recursive.\n",
       "\n",
       "  This operation is intended for linear algebra usage - for general data\n",
       "  manipulation see \u001b[36mpermutedims\u001b[39m, which is non-recursive.\n",
       "\n",
       "\u001b[1m  Examples\u001b[22m\n",
       "\u001b[1m  ≡≡≡≡≡≡≡≡≡≡\u001b[22m\n",
       "\n",
       "\u001b[36m  julia> A = [3+2im 9+2im; 8+7im  4+6im]\u001b[39m\n",
       "\u001b[36m  2×2 Array{Complex{Int64},2}:\u001b[39m\n",
       "\u001b[36m   3+2im  9+2im\u001b[39m\n",
       "\u001b[36m   8+7im  4+6im\u001b[39m\n",
       "\u001b[36m  \u001b[39m\n",
       "\u001b[36m  julia> transpose(A)\u001b[39m\n",
       "\u001b[36m  2×2 Transpose{Complex{Int64},Array{Complex{Int64},2}}:\u001b[39m\n",
       "\u001b[36m   3+2im  8+7im\u001b[39m\n",
       "\u001b[36m   9+2im  4+6im\u001b[39m"
      ]
     },
     "execution_count": 82,
     "metadata": {},
     "output_type": "execute_result"
    }
   ],
   "source": [
    "?transpose"
   ]
  },
  {
   "cell_type": "code",
   "execution_count": 73,
   "metadata": {},
   "outputs": [
    {
     "data": {
      "text/plain": [
       "1×100 Array{Float64,2}:\n",
       " 2.19043  2.33579  2.66839  1.98909  …  1.10198  2.71694  5.96888  2.16165"
      ]
     },
     "execution_count": 73,
     "metadata": {},
     "output_type": "execute_result"
    }
   ],
   "source": [
    "X = 2.0 .+ randn(Nx, Ne) .* randn(Nx, Ne)"
   ]
  },
  {
   "cell_type": "code",
   "execution_count": 78,
   "metadata": {},
   "outputs": [
    {
     "data": {
      "text/plain": [
       "1×1 Array{Float64,2}:\n",
       " 76.70818229198677"
      ]
     },
     "execution_count": 78,
     "metadata": {},
     "output_type": "execute_result"
    }
   ],
   "source": [
    "(X .- mean(X; dims = 2))*(X .- mean(X; dims = 2))'"
   ]
  },
  {
   "cell_type": "code",
   "execution_count": 74,
   "metadata": {},
   "outputs": [
    {
     "data": {
      "text/plain": [
       "1×1 Array{Float64,2}:\n",
       " 0.7748301241614827"
      ]
     },
     "execution_count": 74,
     "metadata": {},
     "output_type": "execute_result"
    }
   ],
   "source": [
    "cov(X')"
   ]
  },
  {
   "cell_type": "code",
   "execution_count": 68,
   "metadata": {},
   "outputs": [
    {
     "data": {
      "text/plain": [
       "1×100 Array{Float64,2}:\n",
       " 1.90006  -0.0833448  -0.0686482  …  -0.00709509  0.0811489  2.46677"
      ]
     },
     "execution_count": 68,
     "metadata": {},
     "output_type": "execute_result"
    }
   ],
   "source": [
    "randn(Nx, Ne) .* randn(Nx, Ne)"
   ]
  },
  {
   "cell_type": "code",
   "execution_count": 67,
   "metadata": {},
   "outputs": [
    {
     "data": {
      "text/plain": [
       "1×100 Array{Float64,2}:\n",
       " 0.729149  -0.796721  1.98627  1.85363  …  -1.22494  -1.57532  1.55905"
      ]
     },
     "execution_count": 67,
     "metadata": {},
     "output_type": "execute_result"
    }
   ],
   "source": [
    "randn(Nx,Ne)"
   ]
  },
  {
   "cell_type": "code",
   "execution_count": 53,
   "metadata": {},
   "outputs": [
    {
     "name": "stdout",
     "output_type": "stream",
     "text": [
      "  0.000161 seconds\n"
     ]
    },
    {
     "data": {
      "text/plain": [
       "80×300 Array{Float64,2}:\n",
       "  1.04677      0.508415   0.971975   …  -0.571998     1.2209    -0.23855\n",
       "  0.430134    -0.190924  -1.9813         2.19622     -0.604119  -0.697181\n",
       "  1.02528      1.71991   -1.53037       -0.0778346   -0.425632  -0.228743\n",
       "  0.209198    -0.543831   0.0356501     -0.584034    -1.33618   -0.984829\n",
       "  0.74486      0.417286   0.4307         0.798131    -1.66195   -0.154572\n",
       "  1.5594       1.193      0.955936   …  -1.52349      0.254767  -1.19313\n",
       "  0.257142    -1.2768     0.706037      -0.836838     0.582857  -0.306916\n",
       " -0.00130528  -0.538837   0.617927      -0.952581    -1.08792   -0.507733\n",
       " -0.686832     0.352179   0.338563       0.779768    -0.681399  -0.650478\n",
       " -0.263848     0.443115   0.435429      -0.522251    -1.03145   -0.366854\n",
       "  0.135462     0.680577   0.651573   …   1.16669     -0.708437   1.0513\n",
       " -0.126137     1.56389   -0.270601       0.0220606   -0.446768  -1.46059\n",
       "  0.656142     0.532647  -1.55132        1.72033      0.702405  -0.657909\n",
       "  ⋮                                  ⋱                          \n",
       "  0.554998     0.618529  -0.519148      -0.487935    -0.859279  -0.821062\n",
       "  0.18595      0.255233   1.71131       -0.463465     0.343093  -2.89823\n",
       "  1.24943     -2.47033   -0.882114   …   1.92551      0.754079   1.67682\n",
       " -1.03778      0.103733   0.421184       0.00230549  -0.143896  -0.0564756\n",
       " -1.24921     -0.524587  -0.519154       0.613183     0.225891   1.85181\n",
       " -0.358       -0.575616   0.367682      -1.59928      0.809789   1.5432\n",
       " -0.0860494   -1.71092   -0.959587       1.50566     -0.255677   1.03295\n",
       " -0.189909    -0.472172  -0.991662   …   0.10508      0.225146  -0.644846\n",
       " -0.622658    -0.579796   0.285805      -0.254552     1.18729    0.3173\n",
       " -0.980563     0.443626   0.1119         1.92646     -0.222769   0.927566\n",
       " -0.0144543    1.84971   -0.158347      -0.25854     -0.521067  -0.740775\n",
       " -0.55002     -1.61965    0.740686      -0.500389     1.10593   -0.582214"
      ]
     },
     "execution_count": 53,
     "metadata": {},
     "output_type": "execute_result"
    }
   ],
   "source": [
    "@time transform!(L, Xout, Xin)"
   ]
  },
  {
   "cell_type": "code",
   "execution_count": 37,
   "metadata": {},
   "outputs": [
    {
     "data": {
      "text/plain": [
       "80×80 Array{Float64,2}:\n",
       "  1.0           1.33672e-17   8.91149e-18  …  -1.7823e-17    6.68362e-18\n",
       "  1.33672e-17   1.0           8.91149e-17     -3.49033e-17  -9.65411e-17\n",
       "  8.91149e-18   8.91149e-17   1.0             -5.94099e-18   5.94099e-18\n",
       "  1.7823e-17    1.1882e-17   -8.16887e-18     -1.1882e-17    2.9705e-17\n",
       " -1.7823e-17   -1.85656e-17   0.0              4.75279e-17  -4.75279e-17\n",
       "  3.5646e-17   -2.3764e-17   -1.1882e-17   …  -5.04984e-17  -5.19837e-17\n",
       "  1.1882e-17    5.94099e-17  -1.1882e-17       5.94099e-17  -1.87141e-16\n",
       " -2.36711e-17   4.13085e-18  -5.94099e-18      4.75279e-17   2.9705e-17\n",
       "  1.1882e-17    1.7823e-17   -5.64394e-17      1.48525e-17   5.34689e-17\n",
       "  2.3764e-17   -8.31739e-17  -2.82197e-17     -5.34689e-17  -5.04984e-17\n",
       "  1.48525e-17   8.31739e-17  -5.94099e-17  …  -4.75279e-17   6.83214e-17\n",
       "  3.5646e-17   -4.75279e-17   1.93082e-17      1.48525e-17  -3.5646e-17\n",
       "  5.19837e-17  -2.07935e-17   3.26755e-17      1.24761e-16   1.30702e-16\n",
       "  ⋮                                        ⋱                \n",
       " -5.64394e-17  -1.7823e-16   -4.15869e-17      5.04984e-17   2.52492e-17\n",
       " -2.3764e-17    1.84171e-16   2.07935e-17      5.94099e-18  -4.45574e-17\n",
       "  4.30722e-17  -5.94099e-18   2.3764e-17   …  -8.16887e-17  -2.3764e-17\n",
       "  4.75279e-17  -2.3764e-17    1.1882e-17       1.72289e-16  -1.48525e-18\n",
       "  5.49542e-17   2.9705e-17    1.24761e-16     -5.34689e-17   5.94099e-17\n",
       " -1.44812e-17  -2.52492e-17  -1.26246e-17     -6.53509e-17  -9.80264e-17\n",
       "  7.27772e-17   2.55463e-16  -3.11902e-17     -2.52492e-17  -8.39165e-17\n",
       "  4.40005e-17   4.75279e-17   2.03061e-17  …  -1.1882e-17    7.72329e-17\n",
       "  3.5646e-17   -8.91149e-17   5.64394e-17      1.48525e-17   5.94099e-18\n",
       " -6.83214e-17   1.2179e-16    4.15869e-17     -1.33672e-16  -3.5646e-17\n",
       " -1.7823e-17   -3.49033e-17  -5.94099e-18      1.0           9.20854e-17\n",
       "  6.68362e-18  -9.65411e-17   5.94099e-18      9.20854e-17   1.0"
      ]
     },
     "execution_count": 37,
     "metadata": {},
     "output_type": "execute_result"
    }
   ],
   "source": [
    "cov(Xout')"
   ]
  },
  {
   "cell_type": "code",
   "execution_count": 33,
   "metadata": {},
   "outputs": [
    {
     "data": {
      "text/plain": [
       "80×2 Array{Float64,2}:\n",
       "  0.0491569   0.239869\n",
       " -0.296063   -1.15788\n",
       " -0.121559    0.334596\n",
       " -0.155733   -0.29154\n",
       "  1.26689     0.284457\n",
       "  1.71508     0.0734081\n",
       "  0.0218186   0.698705\n",
       " -1.03074    -0.234905\n",
       " -0.0828186  -0.0822016\n",
       " -1.08167    -0.215047\n",
       "  0.653063   -0.711922\n",
       "  0.113864    0.231887\n",
       "  0.10172     1.47721\n",
       "  ⋮          \n",
       "  0.582942    0.133925\n",
       "  0.545938    0.466682\n",
       " -0.334806   -1.24085\n",
       " -1.01459    -0.137535\n",
       " -0.816284   -0.331453\n",
       "  0.997885   -1.19477\n",
       " -0.660938    0.282105\n",
       " -2.21467    -0.276572\n",
       "  1.2815     -1.60829\n",
       "  1.56761     0.147073\n",
       " -1.14959    -0.350411\n",
       " -0.488614   -2.06581"
      ]
     },
     "execution_count": 33,
     "metadata": {},
     "output_type": "execute_result"
    }
   ],
   "source": [
    "invlmap * X0[:,1:2]"
   ]
  },
  {
   "cell_type": "code",
   "execution_count": null,
   "metadata": {},
   "outputs": [],
   "source": []
  },
  {
   "cell_type": "code",
   "execution_count": 15,
   "metadata": {},
   "outputs": [
    {
     "name": "stdout",
     "output_type": "stream",
     "text": [
      "  0.000181 seconds\n"
     ]
    },
    {
     "data": {
      "text/plain": [
       "80×300 Array{Float64,2}:\n",
       " -1.3351    -0.569898    -0.677604  …  -1.59083     0.345324    0.410673\n",
       "  0.036491  -0.409071     0.502743      1.26056    -1.25023     0.805386\n",
       "  1.1676     0.823829    -0.763641     -0.0869958   0.272985    1.86174\n",
       "  1.09866   -1.82105      0.54774       0.273295   -1.61182     0.284582\n",
       " -0.655113   0.379747    -1.39377      -0.61716     0.0782533  -0.43047\n",
       " -0.252955  -0.684055     0.237642  …   0.217708   -0.965699   -0.33376\n",
       "  0.160546  -0.334613     0.955562      1.46613    -1.26213    -0.225261\n",
       "  0.124025   0.722054     0.722715      1.47763     1.15348    -0.453709\n",
       "  0.984261   1.12964     -0.865224     -0.991418   -1.72183    -0.109204\n",
       " -1.33522    0.17543      2.56723       0.701497   -0.997316   -0.472932\n",
       "  2.20739   -0.482064    -0.271813  …   0.532369   -0.441161   -0.829815\n",
       " -1.21684   -0.0588271    0.915605      1.92973     1.09845    -0.854066\n",
       "  0.369048   0.658913    -0.823891     -0.120967   -0.86439    -0.512733\n",
       "  ⋮                                 ⋱                          \n",
       " -0.462956   1.42805      1.47594       0.0800789  -0.828298    1.03885\n",
       " -2.37059   -0.390748     2.00388       1.11868    -1.28583     0.253206\n",
       "  2.05155   -0.963155     1.71242   …  -2.44419     0.583885   -0.0434942\n",
       " -0.424168   1.52872     -2.43799       0.231036   -1.9201      0.958342\n",
       " -1.5517    -1.50882      1.75167       0.620062   -0.428126   -0.0656787\n",
       " -0.768     -0.00896763  -2.61388       0.582322   -0.189479    1.61016\n",
       " -2.29684   -0.127591     0.380124     -1.57654     1.51361    -0.1428\n",
       "  1.1056    -0.282621     0.143898  …  -0.471685    1.26586     1.88215\n",
       " -0.176494   1.03221      0.518146      0.016223   -0.364624   -0.530853\n",
       "  0.786988  -1.82309      1.15563      -1.11307     0.409178    0.973106\n",
       " -0.61949   -0.115307    -0.301299      0.506085   -1.1245     -0.247671\n",
       "  1.20975   -0.0671122    0.95528       0.305181    0.48777     0.982859"
      ]
     },
     "execution_count": 15,
     "metadata": {},
     "output_type": "execute_result"
    }
   ],
   "source": [
    "@time transform!(L, Xout)"
   ]
  },
  {
   "cell_type": "code",
   "execution_count": 22,
   "metadata": {},
   "outputs": [
    {
     "data": {
      "text/plain": [
       "80×80 LowerTriangular{Float64,Array{Float64,2}}:\n",
       "  1.0            ⋅           …    ⋅            ⋅            ⋅    ⋅ \n",
       "  6.87414e-19   1.0               ⋅            ⋅            ⋅    ⋅ \n",
       "  5.56735e-18  -1.90445e-18       ⋅            ⋅            ⋅    ⋅ \n",
       " -1.33153e-17  -1.61681e-18       ⋅            ⋅            ⋅    ⋅ \n",
       " -7.58213e-18  -1.11743e-19       ⋅            ⋅            ⋅    ⋅ \n",
       " -1.07718e-17   2.66256e-18  …    ⋅            ⋅            ⋅    ⋅ \n",
       " -8.05545e-18  -1.36033e-17       ⋅            ⋅            ⋅    ⋅ \n",
       "  4.41038e-18   1.4615e-17        ⋅            ⋅            ⋅    ⋅ \n",
       " -1.08475e-17   7.06431e-19       ⋅            ⋅            ⋅    ⋅ \n",
       " -6.11817e-18   3.5401e-17        ⋅            ⋅            ⋅    ⋅ \n",
       "  7.37963e-18  -5.87328e-19  …    ⋅            ⋅            ⋅    ⋅ \n",
       " -1.57127e-17  -2.21904e-18       ⋅            ⋅            ⋅    ⋅ \n",
       " -7.59569e-18   1.57448e-17       ⋅            ⋅            ⋅    ⋅ \n",
       "  ⋮                          ⋱                                  \n",
       "  5.94546e-17   5.17981e-18       ⋅            ⋅            ⋅    ⋅ \n",
       "  4.62004e-17   5.37137e-17       ⋅            ⋅            ⋅    ⋅ \n",
       " -7.99326e-18  -3.53717e-17  …    ⋅            ⋅            ⋅    ⋅ \n",
       "  6.88514e-17   3.85445e-19       ⋅            ⋅            ⋅    ⋅ \n",
       "  9.20993e-18   4.31655e-17       ⋅            ⋅            ⋅    ⋅ \n",
       " -5.53346e-18  -3.35014e-17       ⋅            ⋅            ⋅    ⋅ \n",
       "  9.73528e-18  -1.79801e-17       ⋅            ⋅            ⋅    ⋅ \n",
       " -2.69963e-17  -6.94322e-17  …    ⋅            ⋅            ⋅    ⋅ \n",
       "  4.20941e-17  -8.88539e-17      1.0           ⋅            ⋅    ⋅ \n",
       "  4.79596e-18  -6.66864e-17      1.22823e-17  1.0           ⋅    ⋅ \n",
       "  4.58548e-17   2.94314e-17     -3.0053e-19   4.59255e-18  1.0   ⋅ \n",
       " -5.00293e-17   1.47845e-17      5.24574e-18  1.4638e-17   0.0  1.0"
      ]
     },
     "execution_count": 22,
     "metadata": {},
     "output_type": "execute_result"
    }
   ],
   "source": [
    "inv(cholesky(cov(X0')).L)*cholesky(cov(X0')).L"
   ]
  },
  {
   "cell_type": "code",
   "execution_count": 16,
   "metadata": {},
   "outputs": [
    {
     "data": {
      "text/plain": [
       "80×80 Array{Float64,2}:\n",
       "  1.0           1.1882e-17   -5.04984e-17  …   4.75279e-17  -2.9705e-17\n",
       "  1.1882e-17    1.0           1.1882e-17      -1.7823e-17    0.0\n",
       " -5.04984e-17   1.1882e-17    1.0              2.3764e-17   -3.86165e-17\n",
       " -1.48525e-17  -8.91149e-18  -6.23804e-17     -1.28103e-16  -4.15869e-17\n",
       "  4.45574e-17   5.94099e-18  -1.03967e-17      7.42624e-18   3.5646e-17\n",
       "  6.79501e-17  -5.94099e-18  -6.53509e-17  …   2.67345e-17   2.07935e-17\n",
       "  7.16632e-17  -1.1882e-16   -2.3764e-17       3.11902e-17   3.26755e-17\n",
       " -2.9705e-18   -3.26755e-17   8.91149e-18     -1.03967e-17   9.20854e-17\n",
       "  3.86165e-17   2.67345e-17  -6.68362e-18     -1.0768e-17    2.9705e-18\n",
       "  2.3764e-17   -7.12919e-17   6.98067e-17      8.31739e-17  -8.91149e-18\n",
       "  1.7823e-17    1.1882e-17    2.9705e-17   …   4.27009e-18  -2.3764e-17\n",
       "  5.86673e-17  -5.94099e-18  -5.19837e-18      3.5646e-17    2.9705e-17\n",
       " -5.94099e-17  -1.93082e-17   1.7823e-17       1.25503e-16   4.60427e-17\n",
       "  ⋮                                        ⋱                \n",
       " -5.34689e-17   4.15869e-17  -2.07935e-17      0.0          -5.94099e-18\n",
       " -4.75279e-17   9.54272e-17  -4.15869e-17     -1.74517e-17  -5.94099e-18\n",
       "  8.57731e-17   2.3764e-17    2.67345e-17  …   3.5646e-17    7.12919e-17\n",
       "  5.04984e-17   2.3764e-17   -5.19837e-18      0.0           1.94939e-17\n",
       " -2.3764e-17   -1.63377e-17   5.79247e-17     -5.12411e-17  -1.7823e-17\n",
       "  3.93591e-17   2.9705e-17    8.91149e-18     -7.72329e-17   4.75279e-17\n",
       " -1.1882e-17   -2.9705e-17   -7.72329e-17      1.7823e-17    0.0\n",
       " -2.07935e-17   5.94099e-18   2.07935e-17  …   4.45574e-17   1.00997e-16\n",
       " -1.7823e-17    3.78738e-17   4.15869e-17     -5.94099e-18   1.48525e-18\n",
       "  2.07935e-17  -2.67345e-17   0.0              5.94099e-18  -6.60935e-17\n",
       "  4.75279e-17  -1.7823e-17    2.3764e-17       1.0           1.7823e-17\n",
       " -2.9705e-17    0.0          -3.86165e-17      1.7823e-17    1.0"
      ]
     },
     "execution_count": 16,
     "metadata": {},
     "output_type": "execute_result"
    }
   ],
   "source": [
    "cov(Xout')"
   ]
  },
  {
   "cell_type": "code",
   "execution_count": 8,
   "metadata": {},
   "outputs": [
    {
     "data": {
      "text/plain": [
       "(:lmap, :_issymmetric, :_ishermitian, :_isposdef)"
      ]
     },
     "execution_count": 8,
     "metadata": {},
     "output_type": "execute_result"
    }
   ],
   "source": [
    "fieldnames(typeof(L.L)).lmap"
   ]
  },
  {
   "cell_type": "code",
   "execution_count": 9,
   "metadata": {},
   "outputs": [
    {
     "data": {
      "text/plain": [
       "80×80 LowerTriangular{Float64,Array{Float64,2}}:\n",
       "  0.945581       ⋅             ⋅           …    ⋅           ⋅           ⋅ \n",
       " -0.0239806     0.978408       ⋅                ⋅           ⋅           ⋅ \n",
       " -0.0174472     0.00506721    0.980191          ⋅           ⋅           ⋅ \n",
       " -0.0321765     0.0596801     0.0349768         ⋅           ⋅           ⋅ \n",
       " -0.061504      0.0311873     0.0309401         ⋅           ⋅           ⋅ \n",
       "  0.143545     -0.0211021     0.0612896    …    ⋅           ⋅           ⋅ \n",
       " -0.0169812    -0.0232876     0.0807928         ⋅           ⋅           ⋅ \n",
       "  6.27264e-5   -0.0698455    -0.065936          ⋅           ⋅           ⋅ \n",
       " -0.000823668   0.0241513    -0.000524729       ⋅           ⋅           ⋅ \n",
       " -0.0619665    -0.0271935    -0.0424068         ⋅           ⋅           ⋅ \n",
       "  0.0474302     0.0264961     0.042484     …    ⋅           ⋅           ⋅ \n",
       "  0.0315693    -0.0780691     0.120115          ⋅           ⋅           ⋅ \n",
       " -0.0985533    -0.0236438     0.071179          ⋅           ⋅           ⋅ \n",
       "  ⋮                                        ⋱                           \n",
       "  0.0327981    -0.0206722    -0.0557032         ⋅           ⋅           ⋅ \n",
       "  0.048264      0.0782469    -0.0813342         ⋅           ⋅           ⋅ \n",
       "  0.101484      0.0380702     0.145167     …    ⋅           ⋅           ⋅ \n",
       "  0.0950679     0.0329269    -0.0402444         ⋅           ⋅           ⋅ \n",
       "  0.00497374   -0.0341368     0.0473219         ⋅           ⋅           ⋅ \n",
       "  0.0113739    -0.105169     -0.0496417         ⋅           ⋅           ⋅ \n",
       " -0.0418467    -0.0186989    -0.0215152         ⋅           ⋅           ⋅ \n",
       " -0.0591701    -0.0911308    -0.0521141    …    ⋅           ⋅           ⋅ \n",
       "  0.0244746     0.0255721    -0.0421131         ⋅           ⋅           ⋅ \n",
       " -0.0168021     0.112741      0.0159111        0.84155      ⋅           ⋅ \n",
       "  0.0801603     0.132375     -0.0726166       -0.0123329   0.89215      ⋅ \n",
       " -0.0102299     0.000309739  -0.047903        -0.0621035  -0.00580012  0.8446"
      ]
     },
     "execution_count": 9,
     "metadata": {},
     "output_type": "execute_result"
    }
   ],
   "source": [
    "L.L.lmap"
   ]
  },
  {
   "cell_type": "code",
   "execution_count": 47,
   "metadata": {},
   "outputs": [
    {
     "data": {
      "text/plain": [
       "LinearMaps.CompositeMap{Float64,Tuple{LinearMaps.WrappedMap{Float64,Array{Float64,2}},LinearMaps.WrappedMap{Float64,LowerTriangular{Float64,Array{Float64,2}}}}}((LinearMaps.WrappedMap{Float64,Array{Float64,2}}([-1.6963735602396064 -1.1681321805751932 … 1.9655925386541142 0.1452532970572898; 0.8674320373585482 -0.07958058245849785 … 1.4815270658250943 -1.764044412347645; … ; -0.341438335879467 0.48148915801452874 … 0.09129948032192876 -1.9834540463777688; -0.99402247337154 -1.5148181044864943 … 0.2675510809915622 0.05138907087223119], false, false, false), LinearMaps.WrappedMap{Float64,LowerTriangular{Float64,Array{Float64,2}}}([0.9092317807000679 0.0 … 0.0 0.0; -0.042021016544533205 1.033031862353308 … 0.0 0.0; … ; -0.03354780288036603 -0.03413152292777033 … 1.1723220697582977 0.0; -0.13133582147679823 0.06431061236909699 … -0.1078144109766392 1.2055872065007853], false, false, false)))"
      ]
     },
     "execution_count": 47,
     "metadata": {},
     "output_type": "execute_result"
    }
   ],
   "source": [
    "L.L*(Xin .- mean(Xin; dims = 2)[:,1])"
   ]
  },
  {
   "cell_type": "code",
   "execution_count": 55,
   "metadata": {},
   "outputs": [
    {
     "data": {
      "text/plain": [
       "80×300 Array{Float64,2}:\n",
       " -0.236096   -0.251663   -1.14241    …  -0.602429    0.738946    1.40692\n",
       "  0.765474    0.971487    1.52985        1.02665    -0.887172    1.37213\n",
       "  0.219347    0.454565   -0.700333       1.41106     0.179832    1.43021\n",
       " -0.779415    0.327365    1.25451       -0.893321   -0.449719   -0.0239816\n",
       " -0.989809    0.226404   -0.160728      -0.995774    1.1215      0.321248\n",
       "  0.266979    0.576621    0.147646   …   1.35671    -0.42086     1.0479\n",
       "  0.412401   -0.93396    -0.323714       1.0714      2.12364     1.41126\n",
       "  3.35116     0.0613978  -0.0304457      0.634996    0.109942    1.10835\n",
       " -0.20152    -0.981175   -1.64355       -0.606314   -1.19392     0.772398\n",
       " -0.640636    1.63116    -1.49769       -0.826209   -1.85778    -1.80562\n",
       " -0.794126    1.74006    -0.729381   …  -0.668818   -0.0585668   0.983216\n",
       " -0.836031    0.0910632  -0.681829       1.51336     0.461504    0.710838\n",
       "  0.73963    -0.366545    0.435172      -1.99555     0.0737865  -1.69808\n",
       "  ⋮                                  ⋱                          \n",
       "  0.455337    0.408482    0.453394      -0.923681    0.0233066   0.0629076\n",
       "  0.0256241  -0.34797    -0.741327       0.230471   -0.739225   -1.51556\n",
       " -0.467001    0.403984   -1.85518    …   0.081414   -1.43873    -0.239197\n",
       " -0.429109    0.858421    1.39088       -0.4838     -0.847835   -1.68956\n",
       " -0.582907   -0.11404    -0.480532       1.42757    -0.877361    0.0176993\n",
       "  0.966605   -0.222465    0.567008      -0.733548    2.40263     0.287375\n",
       " -1.42771    -0.325864    0.0866195     -1.47309     0.330059    0.00125433\n",
       "  1.02065     0.242146    0.0481006  …  -0.46727     0.20353     0.309128\n",
       "  0.211762    0.461164    0.721036       0.291513   -0.039238    1.84464\n",
       "  0.934153    0.781573    2.15732        0.0160815   0.40959     1.52907\n",
       " -0.229865   -1.13886     1.0713         1.12785     0.612162   -0.392813\n",
       " -2.32748    -0.485691   -0.0789743      0.0564008  -1.31876     1.43931"
      ]
     },
     "execution_count": 55,
     "metadata": {},
     "output_type": "execute_result"
    }
   ],
   "source": [
    "Xout = deepcopy(Xin)\n",
    "Xout .-= mean(Xin; dims = 2)[:,1]"
   ]
  },
  {
   "cell_type": "code",
   "execution_count": 56,
   "metadata": {},
   "outputs": [],
   "source": [
    "for i=1:300\n",
    "    mul!(Xout[:,i], L.L, Xout[:,i])\n",
    "end"
   ]
  },
  {
   "cell_type": "code",
   "execution_count": 58,
   "metadata": {},
   "outputs": [
    {
     "name": "stdout",
     "output_type": "stream",
     "text": [
      "search: \u001b[0m\u001b[1ml\u001b[22m\u001b[0m\u001b[1md\u001b[22m\u001b[0m\u001b[1mi\u001b[22m\u001b[0m\u001b[1mv\u001b[22m\u001b[0m\u001b[1m!\u001b[22m sp\u001b[0m\u001b[1ml\u001b[22mit\u001b[0m\u001b[1md\u001b[22mr\u001b[0m\u001b[1mi\u001b[22m\u001b[0m\u001b[1mv\u001b[22me\n",
      "\n"
     ]
    },
    {
     "name": "stderr",
     "output_type": "stream",
     "text": [
      "┌ Error: Failed to revise /media/mat/HDD/AdaptiveTransportMap/src/tools/scale.jl\n",
      "│   exception = (LoadError(\"/media/mat/HDD/AdaptiveTransportMap/src/tools/scale.jl\", 66, \"incomplete: \\\"function\\\" at /media/mat/HDD/AdaptiveTransportMap/src/tools/scale.jl:31 requires end\"), Union{Ptr{Nothing}, Base.InterpreterIP}[Ptr{Nothing} @0x00007f36a0310193])\n",
      "└ @ Revise /home/mat/.julia/packages/Revise/BqeJF/src/Revise.jl:760\n",
      "┌ Warning: Due to a previously reported error, the running code does not match saved version for the following files:\n",
      "│ \n",
      "│   /media/mat/HDD/AdaptiveTransportMap/src/tools/scale.jl\n",
      "│ \n",
      "│ Use Revise.errors() to report errors again.\n",
      "└ @ Revise /home/mat/.julia/packages/Revise/BqeJF/src/Revise.jl:820\n"
     ]
    },
    {
     "data": {
      "text/latex": [
       "\\begin{verbatim}\n",
       "ldiv!(Y, A, B) -> Y\n",
       "\\end{verbatim}\n",
       "Compute \\texttt{A {\\textbackslash} B} in-place and store the result in \\texttt{Y}, returning the result.\n",
       "\n",
       "The argument \\texttt{A} should \\emph{not} be a matrix.  Rather, instead of matrices it should be a factorization object (e.g. produced by \\href{@ref}{\\texttt{factorize}} or \\href{@ref}{\\texttt{cholesky}}). The reason for this is that factorization itself is both expensive and typically allocates memory (although it can also be done in-place via, e.g., \\href{@ref}{\\texttt{lu!}}), and performance-critical situations requiring \\texttt{ldiv!} usually also require fine-grained control over the factorization of \\texttt{A}.\n",
       "\n",
       "\\section{Examples}\n",
       "\\begin{verbatim}\n",
       "julia> A = [1 2.2 4; 3.1 0.2 3; 4 1 2];\n",
       "\n",
       "julia> X = [1; 2.5; 3];\n",
       "\n",
       "julia> Y = zero(X);\n",
       "\n",
       "julia> ldiv!(Y, qr(A), X);\n",
       "\n",
       "julia> Y\n",
       "3-element Array{Float64,1}:\n",
       "  0.7128099173553719\n",
       " -0.051652892561983674\n",
       "  0.10020661157024757\n",
       "\n",
       "julia> A\\X\n",
       "3-element Array{Float64,1}:\n",
       "  0.7128099173553719\n",
       " -0.05165289256198333\n",
       "  0.10020661157024785\n",
       "\\end{verbatim}\n",
       "\\rule{\\textwidth}{1pt}\n",
       "\\begin{verbatim}\n",
       "ldiv!(A, B)\n",
       "\\end{verbatim}\n",
       "Compute \\texttt{A {\\textbackslash} B} in-place and overwriting \\texttt{B} to store the result.\n",
       "\n",
       "The argument \\texttt{A} should \\emph{not} be a matrix.  Rather, instead of matrices it should be a factorization object (e.g. produced by \\href{@ref}{\\texttt{factorize}} or \\href{@ref}{\\texttt{cholesky}}). The reason for this is that factorization itself is both expensive and typically allocates memory (although it can also be done in-place via, e.g., \\href{@ref}{\\texttt{lu!}}), and performance-critical situations requiring \\texttt{ldiv!} usually also require fine-grained control over the factorization of \\texttt{A}.\n",
       "\n",
       "\\section{Examples}\n",
       "\\begin{verbatim}\n",
       "julia> A = [1 2.2 4; 3.1 0.2 3; 4 1 2];\n",
       "\n",
       "julia> X = [1; 2.5; 3];\n",
       "\n",
       "julia> Y = copy(X);\n",
       "\n",
       "julia> ldiv!(qr(A), X);\n",
       "\n",
       "julia> X\n",
       "3-element Array{Float64,1}:\n",
       "  0.7128099173553719\n",
       " -0.051652892561983674\n",
       "  0.10020661157024757\n",
       "\n",
       "julia> A\\Y\n",
       "3-element Array{Float64,1}:\n",
       "  0.7128099173553719\n",
       " -0.05165289256198333\n",
       "  0.10020661157024785\n",
       "\\end{verbatim}\n",
       "\\rule{\\textwidth}{1pt}\n",
       "\\begin{verbatim}\n",
       "ldiv!(a::Number, B::AbstractArray)\n",
       "\\end{verbatim}\n",
       "Divide each entry in an array \\texttt{B} by a scalar \\texttt{a} overwriting \\texttt{B} in-place.  Use \\href{@ref}{\\texttt{rdiv!}} to divide scalar from right.\n",
       "\n",
       "\\section{Examples}\n",
       "\\begin{verbatim}\n",
       "julia> B = [1.0 2.0; 3.0 4.0]\n",
       "2×2 Array{Float64,2}:\n",
       " 1.0  2.0\n",
       " 3.0  4.0\n",
       "\n",
       "julia> ldiv!(2.0, B)\n",
       "2×2 Array{Float64,2}:\n",
       " 0.5  1.0\n",
       " 1.5  2.0\n",
       "\\end{verbatim}\n",
       "\\rule{\\textwidth}{1pt}\n",
       "Solve Hy = rhs for a non-square Hessenberg matrix. Note that \\texttt{H} is also modified as is it converted to an upper triangular matrix via Given's rotations\n",
       "\n"
      ],
      "text/markdown": [
       "```\n",
       "ldiv!(Y, A, B) -> Y\n",
       "```\n",
       "\n",
       "Compute `A \\ B` in-place and store the result in `Y`, returning the result.\n",
       "\n",
       "The argument `A` should *not* be a matrix.  Rather, instead of matrices it should be a factorization object (e.g. produced by [`factorize`](@ref) or [`cholesky`](@ref)). The reason for this is that factorization itself is both expensive and typically allocates memory (although it can also be done in-place via, e.g., [`lu!`](@ref)), and performance-critical situations requiring `ldiv!` usually also require fine-grained control over the factorization of `A`.\n",
       "\n",
       "# Examples\n",
       "\n",
       "```jldoctest\n",
       "julia> A = [1 2.2 4; 3.1 0.2 3; 4 1 2];\n",
       "\n",
       "julia> X = [1; 2.5; 3];\n",
       "\n",
       "julia> Y = zero(X);\n",
       "\n",
       "julia> ldiv!(Y, qr(A), X);\n",
       "\n",
       "julia> Y\n",
       "3-element Array{Float64,1}:\n",
       "  0.7128099173553719\n",
       " -0.051652892561983674\n",
       "  0.10020661157024757\n",
       "\n",
       "julia> A\\X\n",
       "3-element Array{Float64,1}:\n",
       "  0.7128099173553719\n",
       " -0.05165289256198333\n",
       "  0.10020661157024785\n",
       "```\n",
       "\n",
       "---\n",
       "\n",
       "```\n",
       "ldiv!(A, B)\n",
       "```\n",
       "\n",
       "Compute `A \\ B` in-place and overwriting `B` to store the result.\n",
       "\n",
       "The argument `A` should *not* be a matrix.  Rather, instead of matrices it should be a factorization object (e.g. produced by [`factorize`](@ref) or [`cholesky`](@ref)). The reason for this is that factorization itself is both expensive and typically allocates memory (although it can also be done in-place via, e.g., [`lu!`](@ref)), and performance-critical situations requiring `ldiv!` usually also require fine-grained control over the factorization of `A`.\n",
       "\n",
       "# Examples\n",
       "\n",
       "```jldoctest\n",
       "julia> A = [1 2.2 4; 3.1 0.2 3; 4 1 2];\n",
       "\n",
       "julia> X = [1; 2.5; 3];\n",
       "\n",
       "julia> Y = copy(X);\n",
       "\n",
       "julia> ldiv!(qr(A), X);\n",
       "\n",
       "julia> X\n",
       "3-element Array{Float64,1}:\n",
       "  0.7128099173553719\n",
       " -0.051652892561983674\n",
       "  0.10020661157024757\n",
       "\n",
       "julia> A\\Y\n",
       "3-element Array{Float64,1}:\n",
       "  0.7128099173553719\n",
       " -0.05165289256198333\n",
       "  0.10020661157024785\n",
       "```\n",
       "\n",
       "---\n",
       "\n",
       "```\n",
       "ldiv!(a::Number, B::AbstractArray)\n",
       "```\n",
       "\n",
       "Divide each entry in an array `B` by a scalar `a` overwriting `B` in-place.  Use [`rdiv!`](@ref) to divide scalar from right.\n",
       "\n",
       "# Examples\n",
       "\n",
       "```jldoctest\n",
       "julia> B = [1.0 2.0; 3.0 4.0]\n",
       "2×2 Array{Float64,2}:\n",
       " 1.0  2.0\n",
       " 3.0  4.0\n",
       "\n",
       "julia> ldiv!(2.0, B)\n",
       "2×2 Array{Float64,2}:\n",
       " 0.5  1.0\n",
       " 1.5  2.0\n",
       "```\n",
       "\n",
       "---\n",
       "\n",
       "Solve Hy = rhs for a non-square Hessenberg matrix. Note that `H` is also modified as is it converted to an upper triangular matrix via Given's rotations\n"
      ],
      "text/plain": [
       "\u001b[36m  ldiv!(Y, A, B) -> Y\u001b[39m\n",
       "\n",
       "  Compute \u001b[36mA \\ B\u001b[39m in-place and store the result in \u001b[36mY\u001b[39m, returning the result.\n",
       "\n",
       "  The argument \u001b[36mA\u001b[39m should \u001b[4mnot\u001b[24m be a matrix. Rather, instead of matrices it should\n",
       "  be a factorization object (e.g. produced by \u001b[36mfactorize\u001b[39m or \u001b[36mcholesky\u001b[39m). The\n",
       "  reason for this is that factorization itself is both expensive and typically\n",
       "  allocates memory (although it can also be done in-place via, e.g., \u001b[36mlu!\u001b[39m), and\n",
       "  performance-critical situations requiring \u001b[36mldiv!\u001b[39m usually also require\n",
       "  fine-grained control over the factorization of \u001b[36mA\u001b[39m.\n",
       "\n",
       "\u001b[1m  Examples\u001b[22m\n",
       "\u001b[1m  ≡≡≡≡≡≡≡≡≡≡\u001b[22m\n",
       "\n",
       "\u001b[36m  julia> A = [1 2.2 4; 3.1 0.2 3; 4 1 2];\u001b[39m\n",
       "\u001b[36m  \u001b[39m\n",
       "\u001b[36m  julia> X = [1; 2.5; 3];\u001b[39m\n",
       "\u001b[36m  \u001b[39m\n",
       "\u001b[36m  julia> Y = zero(X);\u001b[39m\n",
       "\u001b[36m  \u001b[39m\n",
       "\u001b[36m  julia> ldiv!(Y, qr(A), X);\u001b[39m\n",
       "\u001b[36m  \u001b[39m\n",
       "\u001b[36m  julia> Y\u001b[39m\n",
       "\u001b[36m  3-element Array{Float64,1}:\u001b[39m\n",
       "\u001b[36m    0.7128099173553719\u001b[39m\n",
       "\u001b[36m   -0.051652892561983674\u001b[39m\n",
       "\u001b[36m    0.10020661157024757\u001b[39m\n",
       "\u001b[36m  \u001b[39m\n",
       "\u001b[36m  julia> A\\X\u001b[39m\n",
       "\u001b[36m  3-element Array{Float64,1}:\u001b[39m\n",
       "\u001b[36m    0.7128099173553719\u001b[39m\n",
       "\u001b[36m   -0.05165289256198333\u001b[39m\n",
       "\u001b[36m    0.10020661157024785\u001b[39m\n",
       "\n",
       "  ────────────────────────────────────────────────────────────────────────────\n",
       "\n",
       "\u001b[36m  ldiv!(A, B)\u001b[39m\n",
       "\n",
       "  Compute \u001b[36mA \\ B\u001b[39m in-place and overwriting \u001b[36mB\u001b[39m to store the result.\n",
       "\n",
       "  The argument \u001b[36mA\u001b[39m should \u001b[4mnot\u001b[24m be a matrix. Rather, instead of matrices it should\n",
       "  be a factorization object (e.g. produced by \u001b[36mfactorize\u001b[39m or \u001b[36mcholesky\u001b[39m). The\n",
       "  reason for this is that factorization itself is both expensive and typically\n",
       "  allocates memory (although it can also be done in-place via, e.g., \u001b[36mlu!\u001b[39m), and\n",
       "  performance-critical situations requiring \u001b[36mldiv!\u001b[39m usually also require\n",
       "  fine-grained control over the factorization of \u001b[36mA\u001b[39m.\n",
       "\n",
       "\u001b[1m  Examples\u001b[22m\n",
       "\u001b[1m  ≡≡≡≡≡≡≡≡≡≡\u001b[22m\n",
       "\n",
       "\u001b[36m  julia> A = [1 2.2 4; 3.1 0.2 3; 4 1 2];\u001b[39m\n",
       "\u001b[36m  \u001b[39m\n",
       "\u001b[36m  julia> X = [1; 2.5; 3];\u001b[39m\n",
       "\u001b[36m  \u001b[39m\n",
       "\u001b[36m  julia> Y = copy(X);\u001b[39m\n",
       "\u001b[36m  \u001b[39m\n",
       "\u001b[36m  julia> ldiv!(qr(A), X);\u001b[39m\n",
       "\u001b[36m  \u001b[39m\n",
       "\u001b[36m  julia> X\u001b[39m\n",
       "\u001b[36m  3-element Array{Float64,1}:\u001b[39m\n",
       "\u001b[36m    0.7128099173553719\u001b[39m\n",
       "\u001b[36m   -0.051652892561983674\u001b[39m\n",
       "\u001b[36m    0.10020661157024757\u001b[39m\n",
       "\u001b[36m  \u001b[39m\n",
       "\u001b[36m  julia> A\\Y\u001b[39m\n",
       "\u001b[36m  3-element Array{Float64,1}:\u001b[39m\n",
       "\u001b[36m    0.7128099173553719\u001b[39m\n",
       "\u001b[36m   -0.05165289256198333\u001b[39m\n",
       "\u001b[36m    0.10020661157024785\u001b[39m\n",
       "\n",
       "  ────────────────────────────────────────────────────────────────────────────\n",
       "\n",
       "\u001b[36m  ldiv!(a::Number, B::AbstractArray)\u001b[39m\n",
       "\n",
       "  Divide each entry in an array \u001b[36mB\u001b[39m by a scalar \u001b[36ma\u001b[39m overwriting \u001b[36mB\u001b[39m in-place. Use\n",
       "  \u001b[36mrdiv!\u001b[39m to divide scalar from right.\n",
       "\n",
       "\u001b[1m  Examples\u001b[22m\n",
       "\u001b[1m  ≡≡≡≡≡≡≡≡≡≡\u001b[22m\n",
       "\n",
       "\u001b[36m  julia> B = [1.0 2.0; 3.0 4.0]\u001b[39m\n",
       "\u001b[36m  2×2 Array{Float64,2}:\u001b[39m\n",
       "\u001b[36m   1.0  2.0\u001b[39m\n",
       "\u001b[36m   3.0  4.0\u001b[39m\n",
       "\u001b[36m  \u001b[39m\n",
       "\u001b[36m  julia> ldiv!(2.0, B)\u001b[39m\n",
       "\u001b[36m  2×2 Array{Float64,2}:\u001b[39m\n",
       "\u001b[36m   0.5  1.0\u001b[39m\n",
       "\u001b[36m   1.5  2.0\u001b[39m\n",
       "\n",
       "  ────────────────────────────────────────────────────────────────────────────\n",
       "\n",
       "  Solve Hy = rhs for a non-square Hessenberg matrix. Note that \u001b[36mH\u001b[39m is also\n",
       "  modified as is it converted to an upper triangular matrix via Given's\n",
       "  rotations"
      ]
     },
     "execution_count": 58,
     "metadata": {},
     "output_type": "execute_result"
    }
   ],
   "source": [
    "?ldiv!"
   ]
  },
  {
   "cell_type": "code",
   "execution_count": 57,
   "metadata": {},
   "outputs": [
    {
     "data": {
      "text/plain": [
       "80×80 Array{Float64,2}:\n",
       "  1.02066       0.0519534   -0.000215042  …  -0.0739035    0.0959428\n",
       "  0.0519534     1.04066      0.0309331        0.00234449  -0.0254844\n",
       " -0.000215042   0.0309331    1.05566          0.0114238   -0.00456807\n",
       "  0.00989968    0.0358303    0.0024257       -0.0197221    0.0518869\n",
       "  0.00748843    0.0347069   -0.0244349        0.00194468   0.0884858\n",
       "  0.0651829     0.0985913   -0.0413188    …  -0.0241476    0.0240716\n",
       " -0.00720177   -0.0280557   -0.0164677       -0.0234285   -0.0481258\n",
       "  0.0806543    -0.0707258   -0.00281204      -0.0311662   -0.00421105\n",
       " -0.0764236    -0.0128012   -0.0689943        0.0126519    0.00823787\n",
       "  0.0548447    -0.0166302   -0.0294575       -0.00510976  -0.0135642\n",
       "  0.0362238     0.0544405   -0.11035      …   0.0410722    0.0280195\n",
       " -0.051936     -0.106704    -0.0916128        0.0107262    0.00901518\n",
       "  0.00568182   -0.0149839   -0.127733        -0.0828839   -0.0763533\n",
       "  ⋮                                       ⋱               \n",
       " -0.0990927    -0.162721    -0.0365765        0.0127302   -0.052686\n",
       "  0.0359911    -0.0501556    0.0126088       -0.0351182   -0.0564803\n",
       " -0.00681208    0.00910754  -0.0125452    …  -0.171831     0.0912506\n",
       " -0.128315      0.05712     -0.0068683       -0.0282045   -0.161074\n",
       "  0.00862298   -0.034461     0.00133398      -0.085243     0.0054572\n",
       " -0.00785313   -0.0193188    0.0330307        0.0081579   -0.152115\n",
       "  0.00937342   -0.0628763    0.0604485        0.00914563   0.0613559\n",
       "  0.0555165    -0.0434738   -0.0115957    …  -0.0114057   -0.0179207\n",
       " -0.0492119     0.0309554    0.00998238      -0.00496426  -0.0168142\n",
       "  0.0784186     0.0914722    0.0144227       -0.0662113    0.028564\n",
       " -0.0739035     0.00234449   0.0114238        1.06687     -0.0558764\n",
       "  0.0959428    -0.0254844   -0.00456807      -0.0558764    0.923084"
      ]
     },
     "execution_count": 57,
     "metadata": {},
     "output_type": "execute_result"
    }
   ],
   "source": [
    "cov(Xout')"
   ]
  },
  {
   "cell_type": "code",
   "execution_count": 29,
   "metadata": {},
   "outputs": [
    {
     "data": {
      "text/plain": [
       "80-element Array{Float64,1}:\n",
       "  6.66133814775094e-18\n",
       "  4.274358644806853e-17\n",
       "  6.29126380620922e-17\n",
       "  1.313763912473102e-16\n",
       "  5.736152293896643e-18\n",
       "  3.090120751873353e-17\n",
       "  2.275957200481571e-17\n",
       "  4.070817756958907e-18\n",
       "  2.960594732333751e-18\n",
       "  3.7007434154171884e-18\n",
       " -2.1649348980190553e-17\n",
       " -9.251858538542972e-18\n",
       "  3.7747582837255325e-17\n",
       "  ⋮\n",
       "  1.9354888062631896e-16\n",
       " -3.959795454496392e-17\n",
       " -2.960594732333751e-18\n",
       "  2.960594732333751e-18\n",
       " -1.2582527612418442e-17\n",
       "  4.070817756958907e-18\n",
       "  7.308968245448948e-18\n",
       " -3.034609600642095e-17\n",
       "  3.552713678800501e-17\n",
       " -5.714612810736597e-17\n",
       "  3.7007434154171887e-19\n",
       " -7.401486830834377e-18"
      ]
     },
     "execution_count": 29,
     "metadata": {},
     "output_type": "execute_result"
    }
   ],
   "source": [
    "mean(X; dims = 2)[:,1]"
   ]
  },
  {
   "cell_type": "code",
   "execution_count": null,
   "metadata": {},
   "outputs": [],
   "source": []
  }
 ],
 "metadata": {
  "kernelspec": {
   "display_name": "Julia 1.4.0",
   "language": "julia",
   "name": "julia-1.4"
  },
  "language_info": {
   "file_extension": ".jl",
   "mimetype": "application/julia",
   "name": "julia",
   "version": "1.4.0"
  }
 },
 "nbformat": 4,
 "nbformat_minor": 2
}
