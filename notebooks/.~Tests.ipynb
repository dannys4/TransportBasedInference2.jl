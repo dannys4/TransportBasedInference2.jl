{
 "cells": [
  {
   "cell_type": "code",
   "execution_count": 10,
   "metadata": {},
   "outputs": [
    {
     "name": "stderr",
     "output_type": "stream",
     "text": [
      "\u001b[32m\u001b[1m Activating\u001b[22m\u001b[39m environment at `/media/mat/HDD/AdaptiveTransportMap/Project.toml`\n"
     ]
    }
   ],
   "source": [
    "using Pkg\n",
    "Pkg.activate(\"/media/mat/HDD/AdaptiveTransportMap/\")"
   ]
  },
  {
   "cell_type": "code",
   "execution_count": 11,
   "metadata": {
    "scrolled": false
   },
   "outputs": [],
   "source": [
    "using Revise\n",
    "using AdaptiveTransportMap\n",
    "using LinearAlgebra\n",
    "import LinearAlgebra: ldiv!, dot\n",
    "using Test\n",
    "using ForwardDiff\n",
    "using SpecialFunctions\n",
    "using BenchmarkTools\n",
    "using TransportMap\n",
    "using QuadGK\n",
    "using Polynomials\n",
    "using Distributions\n",
    "using Random\n",
    "using LoopVectorization\n",
    "using Optim\n",
    "using NLsolve\n",
    "using MLDataUtils\n",
    "using MLDataPattern\n",
    "using Test\n",
    "using SparseArrays\n",
    "using QRupdate\n",
    "using AdaptiveTransportMap: vander, transform!, evaluate, ncoeff, optimize, negative_log_likelihood!, derivative\n",
    "\n",
    "# using Profile\n",
    "# using ProfileView"
   ]
  },
  {
   "cell_type": "markdown",
   "metadata": {},
   "source": [
    "### 1D example"
   ]
  },
  {
   "cell_type": "code",
   "execution_count": 361,
   "metadata": {},
   "outputs": [
    {
     "data": {
      "text/plain": [
       "ExpandedFunction(5, 1, 3, MultiBasis(Basis of 5 functions: Constant -> 3th degree Probabilistic Hermite function\n",
       ", 3), [0 0 0], [0.27538278274373806])"
      ]
     },
     "execution_count": 361,
     "metadata": {},
     "output_type": "execute_result"
    }
   ],
   "source": [
    "Nx = 3\n",
    "Ne = 500\n",
    "ens = EnsembleState(Nx, Ne)\n",
    "ens.S .= randn(Nx, Ne)\n",
    "\n",
    "B = MultiBasis(CstProHermite(3), Nx)\n",
    "\n",
    "# idx = [0 0 0; 2 0 1; 0 1 0; 0 2 1; 0 1 2; 1 0 0; 2 2 2]\n",
    "idx = [0 0 0]; #2 0 1; 0 1 0; 0 2 1; 0 1 2; 1 0 0; 2 2 2]\n",
    "\n",
    "# truncidx = idx[1:2:end,:]\n",
    "\n",
    "coeff =  randn(size(idx,1))\n",
    "\n",
    "f = ExpandedFunction(B, idx, coeff)"
   ]
  },
  {
   "cell_type": "code",
   "execution_count": 362,
   "metadata": {},
   "outputs": [
    {
     "data": {
      "text/plain": [
       "3×3 Array{Float64,2}:\n",
       " 0.0  0.0  0.0\n",
       " 0.0  0.0  0.0\n",
       " 0.0  0.0  0.0"
      ]
     },
     "execution_count": 362,
     "metadata": {},
     "output_type": "execute_result"
    }
   ],
   "source": [
    "ForwardDiff.hessian(xi ->ForwardDiff.gradient(f, xi)[3], member(ens,1))"
   ]
  },
  {
   "cell_type": "code",
   "execution_count": 363,
   "metadata": {},
   "outputs": [
    {
     "data": {
      "text/plain": [
       "(500, 3, 3)"
      ]
     },
     "execution_count": 363,
     "metadata": {},
     "output_type": "execute_result"
    }
   ],
   "source": [
    "H = hess_x_grad_xd(f, ens.S, f.idx);\n",
    "size(H)"
   ]
  },
  {
   "cell_type": "code",
   "execution_count": 364,
   "metadata": {},
   "outputs": [
    {
     "data": {
      "text/plain": [
       "3×3 Array{Float64,2}:\n",
       " 0.0  0.0  0.0\n",
       " 0.0  0.0  0.0\n",
       " 0.0  0.0  0.0"
      ]
     },
     "execution_count": 364,
     "metadata": {},
     "output_type": "execute_result"
    }
   ],
   "source": [
    "H[1,:,:] "
   ]
  },
  {
   "cell_type": "code",
   "execution_count": 357,
   "metadata": {},
   "outputs": [
    {
     "data": {
      "text/plain": [
       "-0.025978756653024657"
      ]
     },
     "execution_count": 357,
     "metadata": {},
     "output_type": "execute_result"
    }
   ],
   "source": [
    "H[1,1,1]"
   ]
  },
  {
   "cell_type": "code",
   "execution_count": 358,
   "metadata": {},
   "outputs": [
    {
     "data": {
      "text/plain": [
       "-0.04920913520740215"
      ]
     },
     "execution_count": 358,
     "metadata": {},
     "output_type": "execute_result"
    }
   ],
   "source": [
    "H[1,1,3]"
   ]
  },
  {
   "cell_type": "code",
   "execution_count": 359,
   "metadata": {},
   "outputs": [
    {
     "data": {
      "text/plain": [
       "-0.04920913520740215"
      ]
     },
     "execution_count": 359,
     "metadata": {},
     "output_type": "execute_result"
    }
   ],
   "source": [
    "H[1,3,1]"
   ]
  },
  {
   "cell_type": "code",
   "execution_count": 360,
   "metadata": {},
   "outputs": [],
   "source": [
    "# Verify hess_x_grad_xd\n",
    "dxidxjdxkψ = hess_x_grad_xd(f, ens.S, f.idx)\n",
    "\n",
    "for i=1:Ne\n",
    "    dxidxjdxkψ_t = ForwardDiff.hessian(xi ->ForwardDiff.gradient(f, xi)[3], member(ens,i))\n",
    "    @test norm(dxidxjdxkψ[i,:,:] - dxidxjdxkψ_t)<1e-10\n",
    "end"
   ]
  },
  {
   "cell_type": "code",
   "execution_count": 366,
   "metadata": {},
   "outputs": [
    {
     "name": "stdout",
     "output_type": "stream",
     "text": [
      "\u001b[37mTest evaluation, gradient and hessian of expanded function Nx = 1 I: \u001b[39m\u001b[91m\u001b[1mError During Test\u001b[22m\u001b[39m at \u001b[39m\u001b[1mIn[366]:4\u001b[22m\n",
      "  Got exception outside of a @test\n",
      "  BoundsError: attempt to access 1-element Array{Float64,1} at index [3]\n",
      "  Stacktrace:\n",
      "   [1] getindex(::Array{Float64,1}, ::Int64) at ./array.jl:809\n",
      "   [2] (::var\"#225#228\"{ExpandedFunction})(::Array{ForwardDiff.Dual{ForwardDiff.Tag{var\"#225#228\"{ExpandedFunction},Float64},ForwardDiff.Dual{ForwardDiff.Tag{var\"#225#228\"{ExpandedFunction},Float64},Float64,1},1},1}) at ./In[366]:89\n",
      "   [3] vector_mode_dual_eval at /home/mat/.julia/packages/ForwardDiff/sdToQ/src/apiutils.jl:37 [inlined]\n",
      "   [4] vector_mode_gradient(::var\"#225#228\"{ExpandedFunction}, ::Array{ForwardDiff.Dual{ForwardDiff.Tag{var\"#225#228\"{ExpandedFunction},Float64},Float64,1},1}, ::ForwardDiff.GradientConfig{ForwardDiff.Tag{var\"#225#228\"{ExpandedFunction},Float64},ForwardDiff.Dual{ForwardDiff.Tag{var\"#225#228\"{ExpandedFunction},Float64},Float64,1},1,Array{ForwardDiff.Dual{ForwardDiff.Tag{var\"#225#228\"{ExpandedFunction},Float64},ForwardDiff.Dual{ForwardDiff.Tag{var\"#225#228\"{ExpandedFunction},Float64},Float64,1},1},1}}) at /home/mat/.julia/packages/ForwardDiff/sdToQ/src/gradient.jl:97\n",
      "   [5] gradient at /home/mat/.julia/packages/ForwardDiff/sdToQ/src/gradient.jl:17 [inlined]\n",
      "   [6] #94 at /home/mat/.julia/packages/ForwardDiff/sdToQ/src/hessian.jl:16 [inlined]\n",
      "   [7] vector_mode_dual_eval at /home/mat/.julia/packages/ForwardDiff/sdToQ/src/apiutils.jl:37 [inlined]\n",
      "   [8] vector_mode_jacobian(::ForwardDiff.var\"#94#95\"{var\"#225#228\"{ExpandedFunction},ForwardDiff.HessianConfig{ForwardDiff.Tag{var\"#225#228\"{ExpandedFunction},Float64},Float64,1,Array{ForwardDiff.Dual{ForwardDiff.Tag{var\"#225#228\"{ExpandedFunction},Float64},ForwardDiff.Dual{ForwardDiff.Tag{var\"#225#228\"{ExpandedFunction},Float64},Float64,1},1},1},Array{ForwardDiff.Dual{ForwardDiff.Tag{var\"#225#228\"{ExpandedFunction},Float64},Float64,1},1}}}, ::Array{Float64,1}, ::ForwardDiff.JacobianConfig{ForwardDiff.Tag{var\"#225#228\"{ExpandedFunction},Float64},Float64,1,Array{ForwardDiff.Dual{ForwardDiff.Tag{var\"#225#228\"{ExpandedFunction},Float64},Float64,1},1}}) at /home/mat/.julia/packages/ForwardDiff/sdToQ/src/jacobian.jl:140\n",
      "   [9] jacobian(::Function, ::Array{Float64,1}, ::ForwardDiff.JacobianConfig{ForwardDiff.Tag{var\"#225#228\"{ExpandedFunction},Float64},Float64,1,Array{ForwardDiff.Dual{ForwardDiff.Tag{var\"#225#228\"{ExpandedFunction},Float64},Float64,1},1}}, ::Val{false}) at /home/mat/.julia/packages/ForwardDiff/sdToQ/src/jacobian.jl:17\n",
      "   [10] hessian(::Function, ::Array{Float64,1}, ::ForwardDiff.HessianConfig{ForwardDiff.Tag{var\"#225#228\"{ExpandedFunction},Float64},Float64,1,Array{ForwardDiff.Dual{ForwardDiff.Tag{var\"#225#228\"{ExpandedFunction},Float64},ForwardDiff.Dual{ForwardDiff.Tag{var\"#225#228\"{ExpandedFunction},Float64},Float64,1},1},1},Array{ForwardDiff.Dual{ForwardDiff.Tag{var\"#225#228\"{ExpandedFunction},Float64},Float64,1},1}}, ::Val{true}) at /home/mat/.julia/packages/ForwardDiff/sdToQ/src/hessian.jl:17\n",
      "   [11] hessian(::Function, ::Array{Float64,1}, ::ForwardDiff.HessianConfig{ForwardDiff.Tag{var\"#225#228\"{ExpandedFunction},Float64},Float64,1,Array{ForwardDiff.Dual{ForwardDiff.Tag{var\"#225#228\"{ExpandedFunction},Float64},ForwardDiff.Dual{ForwardDiff.Tag{var\"#225#228\"{ExpandedFunction},Float64},Float64,1},1},1},Array{ForwardDiff.Dual{ForwardDiff.Tag{var\"#225#228\"{ExpandedFunction},Float64},Float64,1},1}}) at /home/mat/.julia/packages/ForwardDiff/sdToQ/src/hessian.jl:15 (repeats 2 times)\n",
      "   [12] top-level scope at In[366]:89\n",
      "   [13] top-level scope at /buildworker/worker/package_linux64/build/usr/share/julia/stdlib/v1.5/Test/src/Test.jl:1115\n",
      "   [14] top-level scope at In[366]:6\n",
      "   [15] include_string(::Function, ::Module, ::String, ::String) at ./loading.jl:1091\n",
      "   [16] softscope_include_string(::Module, ::String, ::String) at /home/mat/.julia/packages/SoftGlobalScope/u4UzH/src/SoftGlobalScope.jl:65\n",
      "   [17] execute_request(::ZMQ.Socket, ::IJulia.Msg) at /home/mat/.julia/packages/IJulia/tOM8L/src/execute_request.jl:67\n",
      "   [18] #invokelatest#1 at ./essentials.jl:710 [inlined]\n",
      "   [19] invokelatest at ./essentials.jl:709 [inlined]\n",
      "   [20] eventloop(::ZMQ.Socket) at /home/mat/.julia/packages/IJulia/tOM8L/src/eventloop.jl:8\n",
      "   [21] (::IJulia.var\"#15#18\")() at ./task.jl:356\n",
      "  \n",
      "\u001b[37m\u001b[1mTest Summary:                                                       | \u001b[22m\u001b[39m\u001b[32m\u001b[1mPass  \u001b[22m\u001b[39m\u001b[91m\u001b[1mError  \u001b[22m\u001b[39m\u001b[36m\u001b[1mTotal\u001b[22m\u001b[39m\n",
      "Test evaluation, gradient and hessian of expanded function Nx = 1 I | \u001b[32m2008  \u001b[39m\u001b[91m    1  \u001b[39m\u001b[36m 2009\u001b[39m\n"
     ]
    },
    {
     "ename": "LoadError",
     "evalue": "Some tests did not pass: 2008 passed, 0 failed, 1 errored, 0 broken.",
     "output_type": "error",
     "traceback": [
      "Some tests did not pass: 2008 passed, 0 failed, 1 errored, 0 broken.",
      "",
      "Stacktrace:",
      " [1] finish(::Test.DefaultTestSet) at /buildworker/worker/package_linux64/build/usr/share/julia/stdlib/v1.5/Test/src/Test.jl:879",
      " [2] top-level scope at /buildworker/worker/package_linux64/build/usr/share/julia/stdlib/v1.5/Test/src/Test.jl:1125",
      " [3] top-level scope at In[366]:6",
      " [4] include_string(::Function, ::Module, ::String, ::String) at ./loading.jl:1091"
     ]
    }
   ],
   "source": [
    "using AdaptiveTransportMap: evaluate\n",
    "\n",
    "\n",
    "@testset \"Test evaluation, gradient and hessian of expanded function Nx = 1 I\" begin\n",
    "\n",
    "    Nx = 1\n",
    "    Ne = 500\n",
    "    ens = EnsembleState(Nx, Ne)\n",
    "    ens.S .= randn(Nx, Ne)\n",
    "\n",
    "\n",
    "    B = MultiBasis(CstProHermite(3), Nx)\n",
    "\n",
    "    idx = reshape([0], (1, 1))\n",
    "    truncidx = idx[1:2:end,:]\n",
    "\n",
    "    coeff =  randn(size(idx,1))\n",
    "\n",
    "    f = ExpandedFunction(B, idx, coeff)\n",
    "\n",
    "\n",
    "\n",
    "    ψt_basis, dψt_basis, d2ψt_basis = alleval(f, ens)\n",
    "\n",
    "    ψ_basis = evaluate_basis(f, ens.S)\n",
    "    dψ_basis = grad_x_basis(f, ens.S)\n",
    "    d2ψ_basis = hess_x_basis(f, ens.S);\n",
    "    @test norm(ψt_basis - ψ_basis)<1e-8\n",
    "    @test norm(dψt_basis - dψ_basis)<1e-8\n",
    "    @test norm(d2ψt_basis - d2ψ_basis)<1e-8\n",
    "\n",
    "\n",
    "    # For truncated basis\n",
    "    ψtrunc_basis = evaluate_basis(f, ens.S, truncidx)\n",
    "    dψtrunc_basis = grad_x_basis(f, ens.S, truncidx)\n",
    "    d2ψtrunc_basis = hess_x_basis(f, ens.S, truncidx);\n",
    "\n",
    "    @test norm(ψ_basis[:,1:2:end] - ψtrunc_basis)<1e-8\n",
    "    @test norm(dψ_basis[:,1:2:end,:] - dψtrunc_basis)<1e-8\n",
    "    @test norm(d2ψt_basis[:,1:2:end,:,:] - d2ψtrunc_basis)<1e-8\n",
    "\n",
    "\n",
    "    # Verify function evaluation\n",
    "    @test norm(map(i->f(member(ens,i)),1:Ne) - evaluate(f, ens.S))<1e-8\n",
    "\n",
    "    #  Verify gradient\n",
    "    dψ = grad_x(f, ens.S)\n",
    "    @test norm(hcat(map(i->ForwardDiff.gradient(f, member(ens,i)), 1:Ne)...)' - dψ)<1e-8\n",
    "\n",
    "    # Verify hessian\n",
    "    d2ψ = hess_x(f, ens.S)\n",
    "\n",
    "    for i=1:Ne\n",
    "        d2ψt = ForwardDiff.hessian(f, member(ens,i))\n",
    "        @test norm(d2ψt - d2ψ[i,:,:])<1e-8\n",
    "    end\n",
    "\n",
    "\n",
    "    # Verify grad_xd\n",
    "    dψxd = grad_xd(f, ens.S)\n",
    "\n",
    "    for i=1:Ne\n",
    "        dψxd_t = ForwardDiff.gradient(f, member(ens,i))[end]\n",
    "        @test abs(dψxd[i] - dψxd_t)<1e-10\n",
    "    end\n",
    "\n",
    "    # Verify hess_xd\n",
    "    d2ψxd = hess_xd(f, ens.S)\n",
    "\n",
    "    for i=1:Ne\n",
    "        d2ψxd_t = ForwardDiff.hessian(f, member(ens,i))[end,end]\n",
    "        @test abs(d2ψxd[i] - d2ψxd_t)<1e-10\n",
    "    end\n",
    "\n",
    "    # Verify grad_x_grad_xd\n",
    "    dxdxkψ = grad_x_grad_xd(f, ens.S)\n",
    "\n",
    "    for i=1:Ne\n",
    "        dxdxkψ_t = ForwardDiff.hessian(f, member(ens,i))\n",
    "        for j=1:Nx\n",
    "            @test abs(dxdxkψ[i,j] - dxdxkψ_t[j,end])<1e-10\n",
    "        end\n",
    "    end\n",
    "\n",
    "    # Verify hess_x_grad_xd\n",
    "    dxidxjdxkψ = hess_x_grad_xd(f, ens.S, f.idx)\n",
    "\n",
    "    for i=1:Ne\n",
    "        dxidxjdxkψ_t = ForwardDiff.hessian(xi ->ForwardDiff.gradient(f, xi)[Nx], member(ens,i))\n",
    "        @test norm(dxidxjdxkψ[i,:,:] - dxidxjdxkψ_t)<1e-10\n",
    "    end\n",
    "\n",
    "    # Verify grad_coeff\n",
    "    dψcoeff  = grad_coeff(f, ens.S)\n",
    "    dψcoefftrunc  = grad_coeff(f, ens.S, collect(1:2:size(idx,1)))\n",
    "    @test norm(dψcoeff[:,1:2:end] - dψcoefftrunc)<1e-10\n",
    "\n",
    "    @test norm(dψcoeff - ψ_basis)<1e-10\n",
    "    @test norm(dψcoefftrunc - ψtrunc_basis)<1e-10\n",
    "\n",
    "    # Verify hess_coeff\n",
    "    d2ψcoeff  = hess_coeff(f, ens.S)\n",
    "    d2ψcoefftrunc  = hess_coeff(f, ens.S, collect(1:2:size(idx,1)))\n",
    "\n",
    "    @test norm(d2ψcoeff)<1e-10\n",
    "\n",
    "    # Verify grad_coeff_grad_xd\n",
    "    dψcoeffxd = grad_coeff_grad_xd(f, ens.S)\n",
    "    dψcoeffxdtrunc = grad_coeff_grad_xd(f, ens.S, collect(1:2:size(idx,1)))\n",
    "\n",
    "    @test norm(dψcoeffxd[:,1:2:end] - dψcoeffxdtrunc)<1e-10\n",
    "    @test norm(dψcoeffxd - grad_xk_basis(f, ens.S, 1, Nx))<1e-10\n",
    "    @test norm(dψcoeffxdtrunc - grad_xk_basis(f, ens.S, 1, Nx, f.idx[collect(1:2:size(idx,1)),:]))<1e-10\n",
    "\n",
    "    # Verify hess_coeff_grad_xd\n",
    "    d2ψcoeffxd = hess_coeff_grad_xd(f, ens.S)\n",
    "    d2ψcoeffxdtrunc = hess_coeff_grad_xd(f, ens.S, collect(1:2:size(idx,1)))\n",
    "\n",
    "    @test norm(d2ψcoeffxd)<1e-10\n",
    "    @test norm(d2ψcoeffxdtrunc)<1e-10\n",
    "end\n",
    "\n",
    "@testset \"Test evaluation, gradient and hessian of expanded function Nx = 1 II\" begin\n",
    "\n",
    "    Nx = 1\n",
    "    Ne = 500\n",
    "    ens = EnsembleState(Nx, Ne)\n",
    "    ens.S .= randn(Nx, Ne)\n",
    "\n",
    "\n",
    "    B = MultiBasis(CstProHermite(3), Nx)\n",
    "\n",
    "    idx = reshape([0; 1; 2; 3], (4, 1))\n",
    "    truncidx = idx[1:2:end,:]\n",
    "\n",
    "    coeff =  randn(size(idx,1))\n",
    "\n",
    "    f = ExpandedFunction(B, idx, coeff)\n",
    "\n",
    "\n",
    "\n",
    "    ψt_basis, dψt_basis, d2ψt_basis = alleval(f, ens)\n",
    "\n",
    "    ψ_basis = evaluate_basis(f, ens.S)\n",
    "    dψ_basis = grad_x_basis(f, ens.S)\n",
    "    d2ψ_basis = hess_x_basis(f, ens.S);\n",
    "    @test norm(ψt_basis - ψ_basis)<1e-8\n",
    "    @test norm(dψt_basis - dψ_basis)<1e-8\n",
    "    @test norm(d2ψt_basis - d2ψ_basis)<1e-8\n",
    "\n",
    "\n",
    "    # For truncated basis\n",
    "    ψtrunc_basis = evaluate_basis(f, ens.S, truncidx)\n",
    "    dψtrunc_basis = grad_x_basis(f, ens.S, truncidx)\n",
    "    d2ψtrunc_basis = hess_x_basis(f, ens.S, truncidx);\n",
    "\n",
    "    @test norm(ψ_basis[:,1:2:end] - ψtrunc_basis)<1e-8\n",
    "    @test norm(dψ_basis[:,1:2:end,:] - dψtrunc_basis)<1e-8\n",
    "    @test norm(d2ψt_basis[:,1:2:end,:,:] - d2ψtrunc_basis)<1e-8\n",
    "\n",
    "\n",
    "    # Verify function evaluation\n",
    "    @test norm(map(i->f(member(ens,i)),1:Ne) - evaluate(f, ens.S))<1e-8\n",
    "\n",
    "    #  Verify gradient\n",
    "    dψ = grad_x(f, ens.S)\n",
    "    @test norm(hcat(map(i->ForwardDiff.gradient(f, member(ens,i)), 1:Ne)...)' - dψ)<1e-8\n",
    "\n",
    "    # Verify hessian\n",
    "    d2ψ = hess_x(f, ens.S)\n",
    "\n",
    "    for i=1:Ne\n",
    "        d2ψt = ForwardDiff.hessian(f, member(ens,i))\n",
    "        @test norm(d2ψt - d2ψ[i,:,:])<1e-8\n",
    "    end\n",
    "\n",
    "\n",
    "    # Verify grad_xd\n",
    "    dψxd = grad_xd(f, ens.S)\n",
    "\n",
    "    for i=1:Ne\n",
    "        dψxd_t = ForwardDiff.gradient(f, member(ens,i))[end]\n",
    "        @test abs(dψxd[i] - dψxd_t)<1e-10\n",
    "    end\n",
    "\n",
    "    # Verify hess_xd\n",
    "    d2ψxd = hess_xd(f, ens.S)\n",
    "\n",
    "    for i=1:Ne\n",
    "        d2ψxd_t = ForwardDiff.hessian(f, member(ens,i))[end,end]\n",
    "        @test abs(d2ψxd[i] - d2ψxd_t)<1e-10\n",
    "    end\n",
    "\n",
    "    # Verify grad_x_grad_xd\n",
    "    dxdxkψ = grad_x_grad_xd(f, ens.S)\n",
    "\n",
    "    for i=1:Ne\n",
    "        dxdxkψ_t = ForwardDiff.hessian(f, member(ens,i))\n",
    "        for j=1:Nx\n",
    "            @test abs(dxdxkψ[i,j] - dxdxkψ_t[j,end])<1e-10\n",
    "        end\n",
    "    end\n",
    "\n",
    "    # Verify hess_x_grad_xd\n",
    "    dxidxjdxkψ = hess_x_grad_xd(f, ens.S, f.idx)\n",
    "\n",
    "    for i=1:Ne\n",
    "        dxidxjdxkψ_t = ForwardDiff.hessian(xi ->ForwardDiff.gradient(f, xi)[Nx], member(ens,i))\n",
    "        @test norm(dxidxjdxkψ[i,:,:] - dxidxjdxkψ_t)<1e-10\n",
    "    end\n",
    "\n",
    "    # Verify grad_coeff\n",
    "    dψcoeff  = grad_coeff(f, ens.S)\n",
    "    dψcoefftrunc  = grad_coeff(f, ens.S, collect(1:2:size(idx,1)))\n",
    "    @test norm(dψcoeff[:,1:2:end] - dψcoefftrunc)<1e-10\n",
    "\n",
    "    @test norm(dψcoeff - ψ_basis)<1e-10\n",
    "    @test norm(dψcoefftrunc - ψtrunc_basis)<1e-10\n",
    "\n",
    "    # Verify hess_coeff\n",
    "    d2ψcoeff  = hess_coeff(f, ens.S)\n",
    "    d2ψcoefftrunc  = hess_coeff(f, ens.S, collect(1:2:size(idx,1)))\n",
    "\n",
    "    @test norm(d2ψcoeff)<1e-10\n",
    "\n",
    "    # Verify grad_coeff_grad_xd\n",
    "    dψcoeffxd = grad_coeff_grad_xd(f, ens.S)\n",
    "    dψcoeffxdtrunc = grad_coeff_grad_xd(f, ens.S, collect(1:2:size(idx,1)))\n",
    "\n",
    "    @test norm(dψcoeffxd[:,1:2:end] - dψcoeffxdtrunc)<1e-10\n",
    "    @test norm(dψcoeffxd - grad_xk_basis(f, ens.S, 1, Nx))<1e-10\n",
    "    @test norm(dψcoeffxdtrunc - grad_xk_basis(f, ens.S, 1, Nx, f.idx[collect(1:2:size(idx,1)),:]))<1e-10\n",
    "\n",
    "    # Verify hess_coeff_grad_xd\n",
    "    d2ψcoeffxd = hess_coeff_grad_xd(f, ens.S)\n",
    "    d2ψcoeffxdtrunc = hess_coeff_grad_xd(f, ens.S, collect(1:2:size(idx,1)))\n",
    "\n",
    "    @test norm(d2ψcoeffxd)<1e-10\n",
    "    @test norm(d2ψcoeffxdtrunc)<1e-10\n",
    "end\n",
    "\n",
    "@testset \"Test evaluation, gradient and hessian of expanded function Nx = 2\" begin\n",
    "\n",
    "    Nx = 2\n",
    "    Ne = 500\n",
    "    ens = EnsembleState(Nx, Ne)\n",
    "    ens.S .= randn(Nx, Ne)\n",
    "\n",
    "\n",
    "    B = MultiBasis(CstProHermite(3), Nx)\n",
    "\n",
    "    idx = [0 0]\n",
    "    truncidx = idx[1:2:end,:]\n",
    "\n",
    "    coeff =  randn(size(idx,1))\n",
    "\n",
    "    f = ExpandedFunction(B, idx, coeff)\n",
    "\n",
    "\n",
    "    ψt_basis, dψt_basis, d2ψt_basis = alleval(f, ens)\n",
    "\n",
    "    ψ_basis = evaluate_basis(f, ens.S)\n",
    "    dψ_basis = grad_x_basis(f, ens.S)\n",
    "    d2ψ_basis = hess_x_basis(f, ens.S);\n",
    "    @test norm(ψt_basis - ψ_basis)<1e-8\n",
    "    @test norm(dψt_basis - dψ_basis)<1e-8\n",
    "    @test norm(d2ψt_basis - d2ψ_basis)<1e-8\n",
    "\n",
    "\n",
    "    # For truncated basis\n",
    "    ψtrunc_basis = evaluate_basis(f, ens.S, truncidx)\n",
    "    dψtrunc_basis = grad_x_basis(f, ens.S, truncidx)\n",
    "    d2ψtrunc_basis = hess_x_basis(f, ens.S, truncidx);\n",
    "\n",
    "    @test norm(ψ_basis[:,1:2:end] - ψtrunc_basis)<1e-8\n",
    "    @test norm(dψ_basis[:,1:2:end,:] - dψtrunc_basis)<1e-8\n",
    "    @test norm(d2ψt_basis[:,1:2:end,:,:] - d2ψtrunc_basis)<1e-8\n",
    "\n",
    "\n",
    "    # Verify function evaluation\n",
    "    @test norm(map(i->f(member(ens,i)),1:Ne) - evaluate(f, ens.S))<1e-8\n",
    "\n",
    "    #  Verify gradient\n",
    "    dψ = grad_x(f, ens.S)\n",
    "    @test norm(hcat(map(i->ForwardDiff.gradient(f, member(ens,i)), 1:Ne)...)' - dψ)<1e-8\n",
    "\n",
    "    # Verify hessian\n",
    "    d2ψ = hess_x(f, ens.S)\n",
    "\n",
    "    for i=1:Ne\n",
    "        d2ψt = ForwardDiff.hessian(f, member(ens,i))\n",
    "        @test norm(d2ψt - d2ψ[i,:,:])<1e-8\n",
    "    end\n",
    "\n",
    "\n",
    "    # Verify grad_xd\n",
    "    dψxd = grad_xd(f, ens.S)\n",
    "\n",
    "    for i=1:Ne\n",
    "        dψxd_t = ForwardDiff.gradient(f, member(ens,i))[end]\n",
    "        @test abs(dψxd[i] - dψxd_t)<1e-10\n",
    "    end\n",
    "\n",
    "    # Verify hess_xd\n",
    "    d2ψxd = hess_xd(f, ens.S)\n",
    "\n",
    "    for i=1:Ne\n",
    "        d2ψxd_t = ForwardDiff.hessian(f, member(ens,i))[end,end]\n",
    "        @test abs(d2ψxd[i] - d2ψxd_t)<1e-10\n",
    "    end\n",
    "\n",
    "    # Verify grad_x_grad_xd\n",
    "    dxdxkψ = grad_x_grad_xd(f, ens.S)\n",
    "\n",
    "    for i=1:Ne\n",
    "        dxdxkψ_t = ForwardDiff.hessian(f, member(ens,i))\n",
    "        for j=1:Nx\n",
    "            @test abs(dxdxkψ[i,j] - dxdxkψ_t[j,end])<1e-10\n",
    "        end\n",
    "    end\n",
    "\n",
    "    # Verify hess_x_grad_xd\n",
    "    dxidxjdxkψ = hess_x_grad_xd(f, ens.S, f.idx)\n",
    "\n",
    "    for i=1:Ne\n",
    "        dxidxjdxkψ_t = ForwardDiff.hessian(xi ->ForwardDiff.gradient(f, xi)[3], member(ens,i))\n",
    "        @test norm(dxidxjdxkψ[i,:,:] - dxidxjdxkψ_t)<1e-10\n",
    "    end\n",
    "\n",
    "    # Verify grad_coeff\n",
    "    dψcoeff  = grad_coeff(f, ens.S)\n",
    "    dψcoefftrunc  = grad_coeff(f, ens.S, collect(1:2:size(idx,1)))\n",
    "    @test norm(dψcoeff[:,1:2:end] - dψcoefftrunc)<1e-10\n",
    "\n",
    "    @test norm(dψcoeff - ψ_basis)<1e-10\n",
    "    @test norm(dψcoefftrunc - ψtrunc_basis)<1e-10\n",
    "\n",
    "    # Verify hess_coeff\n",
    "    d2ψcoeff  = hess_coeff(f, ens.S)\n",
    "    d2ψcoefftrunc  = hess_coeff(f, ens.S, collect(1:2:size(idx,1)))\n",
    "\n",
    "    @test norm(d2ψcoeff)<1e-10\n",
    "\n",
    "    # Verify grad_coeff_grad_xd\n",
    "    dψcoeffxd = grad_coeff_grad_xd(f, ens.S)\n",
    "    dψcoeffxdtrunc = grad_coeff_grad_xd(f, ens.S, collect(1:2:size(idx,1)))\n",
    "\n",
    "    @test norm(dψcoeffxd[:,1:2:end] - dψcoeffxdtrunc)<1e-10\n",
    "    @test norm(dψcoeffxd - grad_xk_basis(f, ens.S, 1, Nx))<1e-10\n",
    "    @test norm(dψcoeffxdtrunc - grad_xk_basis(f, ens.S, 1, Nx, f.idx[collect(1:2:size(idx,1)),:]))<1e-10\n",
    "\n",
    "    # Verify hess_coeff_grad_xd\n",
    "    d2ψcoeffxd = hess_coeff_grad_xd(f, ens.S)\n",
    "    d2ψcoeffxdtrunc = hess_coeff_grad_xd(f, ens.S, collect(1:2:size(idx,1)))\n",
    "\n",
    "    @test norm(d2ψcoeffxd)<1e-10\n",
    "    @test norm(d2ψcoeffxdtrunc)<1e-10\n",
    "end\n",
    "\n",
    "@testset \"Test evaluation, gradient and hessian of expanded function Nx = 2\" begin\n",
    "\n",
    "    Nx = 2\n",
    "    Ne = 500\n",
    "    ens = EnsembleState(Nx, Ne)\n",
    "    ens.S .= randn(Nx, Ne)\n",
    "\n",
    "\n",
    "    B = MultiBasis(CstProHermite(3), Nx)\n",
    "\n",
    "    idx = [0 0; 0 1; 1 0; 1 1; 1 2]\n",
    "    truncidx = idx[1:2:end,:]\n",
    "\n",
    "    coeff =  randn(size(idx,1))\n",
    "\n",
    "    f = ExpandedFunction(B, idx, coeff)\n",
    "\n",
    "\n",
    "\n",
    "    ψt_basis, dψt_basis, d2ψt_basis = alleval(f, ens)\n",
    "\n",
    "    ψ_basis = evaluate_basis(f, ens.S)\n",
    "    dψ_basis = grad_x_basis(f, ens.S)\n",
    "    d2ψ_basis = hess_x_basis(f, ens.S);\n",
    "    @test norm(ψt_basis - ψ_basis)<1e-8\n",
    "    @test norm(dψt_basis - dψ_basis)<1e-8\n",
    "    @test norm(d2ψt_basis - d2ψ_basis)<1e-8\n",
    "\n",
    "\n",
    "    # For truncated basis\n",
    "    ψtrunc_basis = evaluate_basis(f, ens.S, truncidx)\n",
    "    dψtrunc_basis = grad_x_basis(f, ens.S, truncidx)\n",
    "    d2ψtrunc_basis = hess_x_basis(f, ens.S, truncidx);\n",
    "\n",
    "    @test norm(ψ_basis[:,1:2:end] - ψtrunc_basis)<1e-8\n",
    "    @test norm(dψ_basis[:,1:2:end,:] - dψtrunc_basis)<1e-8\n",
    "    @test norm(d2ψt_basis[:,1:2:end,:,:] - d2ψtrunc_basis)<1e-8\n",
    "\n",
    "\n",
    "    # Verify function evaluation\n",
    "    @test norm(map(i->f(member(ens,i)),1:Ne) - evaluate(f, ens.S))<1e-8\n",
    "\n",
    "    #  Verify gradient\n",
    "    dψ = grad_x(f, ens.S)\n",
    "    @test norm(hcat(map(i->ForwardDiff.gradient(f, member(ens,i)), 1:Ne)...)' - dψ)<1e-8\n",
    "\n",
    "    # Verify hessian\n",
    "    d2ψ = hess_x(f, ens.S)\n",
    "\n",
    "    for i=1:Ne\n",
    "        d2ψt = ForwardDiff.hessian(f, member(ens,i))\n",
    "        @test norm(d2ψt - d2ψ[i,:,:])<1e-8\n",
    "    end\n",
    "\n",
    "\n",
    "    # Verify grad_xd\n",
    "    dψxd = grad_xd(f, ens.S)\n",
    "\n",
    "    for i=1:Ne\n",
    "        dψxd_t = ForwardDiff.gradient(f, member(ens,i))[end]\n",
    "        @test abs(dψxd[i] - dψxd_t)<1e-10\n",
    "    end\n",
    "\n",
    "    # Verify hess_xd\n",
    "    d2ψxd = hess_xd(f, ens.S)\n",
    "\n",
    "    for i=1:Ne\n",
    "        d2ψxd_t = ForwardDiff.hessian(f, member(ens,i))[end,end]\n",
    "        @test abs(d2ψxd[i] - d2ψxd_t)<1e-10\n",
    "    end\n",
    "\n",
    "    # Verify grad_x_grad_xd\n",
    "    dxdxkψ = grad_x_grad_xd(f, ens.S)\n",
    "\n",
    "    for i=1:Ne\n",
    "        dxdxkψ_t = ForwardDiff.hessian(f, member(ens,i))\n",
    "        for j=1:Nx\n",
    "            @test abs(dxdxkψ[i,j] - dxdxkψ_t[j,end])<1e-10\n",
    "        end\n",
    "    end\n",
    "\n",
    "    # Verify hess_x_grad_xd\n",
    "    dxidxjdxkψ = hess_x_grad_xd(f, ens.S, f.idx)\n",
    "\n",
    "    for i=1:Ne\n",
    "        dxidxjdxkψ_t = ForwardDiff.hessian(xi ->ForwardDiff.gradient(f, xi)[3], member(ens,i))\n",
    "        @test norm(dxidxjdxkψ[i,:,:] - dxidxjdxkψ_t)<1e-10\n",
    "    end\n",
    "\n",
    "    # Verify grad_coeff\n",
    "    dψcoeff  = grad_coeff(f, ens.S)\n",
    "    dψcoefftrunc  = grad_coeff(f, ens.S, collect(1:2:size(idx,1)))\n",
    "    @test norm(dψcoeff[:,1:2:end] - dψcoefftrunc)<1e-10\n",
    "\n",
    "    @test norm(dψcoeff - ψ_basis)<1e-10\n",
    "    @test norm(dψcoefftrunc - ψtrunc_basis)<1e-10\n",
    "\n",
    "    # Verify hess_coeff\n",
    "    d2ψcoeff  = hess_coeff(f, ens.S)\n",
    "    d2ψcoefftrunc  = hess_coeff(f, ens.S, collect(1:2:size(idx,1)))\n",
    "\n",
    "    @test norm(d2ψcoeff)<1e-10\n",
    "\n",
    "    # Verify grad_coeff_grad_xd\n",
    "    dψcoeffxd = grad_coeff_grad_xd(f, ens.S)\n",
    "    dψcoeffxdtrunc = grad_coeff_grad_xd(f, ens.S, collect(1:2:size(idx,1)))\n",
    "\n",
    "    @test norm(dψcoeffxd[:,1:2:end] - dψcoeffxdtrunc)<1e-10\n",
    "    @test norm(dψcoeffxd - grad_xk_basis(f, ens.S, 1, Nx))<1e-10\n",
    "    @test norm(dψcoeffxdtrunc - grad_xk_basis(f, ens.S, 1, Nx, f.idx[collect(1:2:size(idx,1)),:]))<1e-10\n",
    "\n",
    "    # Verify hess_coeff_grad_xd\n",
    "    d2ψcoeffxd = hess_coeff_grad_xd(f, ens.S)\n",
    "    d2ψcoeffxdtrunc = hess_coeff_grad_xd(f, ens.S, collect(1:2:size(idx,1)))\n",
    "\n",
    "    @test norm(d2ψcoeffxd)<1e-10\n",
    "    @test norm(d2ψcoeffxdtrunc)<1e-10\n",
    "end\n",
    "\n",
    "@testset \"Test evaluation, gradient and hessian of expanded function Nx = 3 I\" begin\n",
    "\n",
    "    Nx = 3\n",
    "    Ne = 500\n",
    "    ens = EnsembleState(Nx, Ne)\n",
    "    ens.S .= randn(Nx, Ne)\n",
    "\n",
    "    B = MultiBasis(CstProHermite(3), Nx)\n",
    "\n",
    "    idx = [0 0 0; 2 0 1; 0 1 0; 0 2 1; 0 1 2; 1 0 0; 2 2 2]\n",
    "    truncidx = idx[1:2:end,:]\n",
    "    coeff =  randn(size(idx,1))\n",
    "\n",
    "    f = ExpandedFunction(B, idx, coeff)\n",
    "\n",
    "    ψt_basis, dψt_basis, d2ψt_basis = alleval(f, ens)\n",
    "\n",
    "    ψ_basis = evaluate_basis(f, ens.S)\n",
    "    dψ_basis = grad_x_basis(f, ens.S)\n",
    "    d2ψ_basis = hess_x_basis(f, ens.S);\n",
    "    @test norm(ψt_basis - ψ_basis)<1e-8\n",
    "    @test norm(dψt_basis - dψ_basis)<1e-8\n",
    "    @test norm(d2ψt_basis - d2ψ_basis)<1e-8\n",
    "\n",
    "\n",
    "    # For truncated basis\n",
    "    ψtrunc_basis = evaluate_basis(f, ens.S, truncidx)\n",
    "    dψtrunc_basis = grad_x_basis(f, ens.S, truncidx)\n",
    "    d2ψtrunc_basis = hess_x_basis(f, ens.S, truncidx);\n",
    "\n",
    "    @test norm(ψ_basis[:,1:2:end] - ψtrunc_basis)<1e-8\n",
    "    @test norm(dψ_basis[:,1:2:end,:] - dψtrunc_basis)<1e-8\n",
    "    @test norm(d2ψt_basis[:,1:2:end,:,:] - d2ψtrunc_basis)<1e-8\n",
    "\n",
    "\n",
    "    # Verify function evaluation\n",
    "    @test norm(map(i->f(member(ens,i)),1:Ne) - evaluate(f, ens.S))<1e-8\n",
    "\n",
    "    #  Verify gradient\n",
    "    dψ = grad_x(f, ens.S)\n",
    "    @test norm(hcat(map(i->ForwardDiff.gradient(f, member(ens,i)), 1:Ne)...)' - dψ)<1e-8\n",
    "\n",
    "    # Verify hessian\n",
    "    d2ψ = hess_x(f, ens.S)\n",
    "\n",
    "    for i=1:Ne\n",
    "        d2ψt = ForwardDiff.hessian(f, member(ens,i))\n",
    "        @test norm(d2ψt - d2ψ[i,:,:])<1e-8\n",
    "    end\n",
    "\n",
    "\n",
    "    # Verify grad_xd\n",
    "    dψxd = grad_xd(f, ens.S)\n",
    "\n",
    "    for i=1:Ne\n",
    "        dψxd_t = ForwardDiff.gradient(f, member(ens,i))[end]\n",
    "        @test abs(dψxd[i] - dψxd_t)<1e-10\n",
    "    end\n",
    "\n",
    "    # Verify hess_xd\n",
    "    d2ψxd = hess_xd(f, ens.S)\n",
    "\n",
    "    for i=1:Ne\n",
    "        d2ψxd_t = ForwardDiff.hessian(f, member(ens,i))[end,end]\n",
    "        @test abs(d2ψxd[i] - d2ψxd_t)<1e-10\n",
    "    end\n",
    "\n",
    "    # Verify grad_x_grad_xd\n",
    "    dxdxkψ = grad_x_grad_xd(f, ens.S)\n",
    "\n",
    "    for i=1:Ne\n",
    "        dxdxkψ_t = ForwardDiff.hessian(f, member(ens,i))\n",
    "        for j=1:Nx\n",
    "            @test abs(dxdxkψ[i,j] - dxdxkψ_t[j,end])<1e-10\n",
    "        end\n",
    "    end\n",
    "\n",
    "    # Verify hess_x_grad_xd\n",
    "    dxidxjdxkψ = hess_x_grad_xd(f, ens.S, f.idx)\n",
    "\n",
    "    for i=1:Ne\n",
    "        dxidxjdxkψ_t = ForwardDiff.hessian(xi ->ForwardDiff.gradient(f, xi)[3], member(ens,i))\n",
    "        @test norm(dxidxjdxkψ[i,:,:] - dxidxjdxkψ_t)<1e-10\n",
    "    end\n",
    "\n",
    "    # Verify grad_coeff\n",
    "    dψcoeff  = grad_coeff(f, ens.S)\n",
    "    dψcoefftrunc  = grad_coeff(f, ens.S, collect(1:2:size(idx,1)))\n",
    "    @test norm(dψcoeff[:,1:2:end] - dψcoefftrunc)<1e-10\n",
    "\n",
    "    @test norm(dψcoeff - ψ_basis)<1e-10\n",
    "    @test norm(dψcoefftrunc - ψtrunc_basis)<1e-10\n",
    "\n",
    "    # Verify hess_coeff\n",
    "    d2ψcoeff  = hess_coeff(f, ens.S)\n",
    "    d2ψcoefftrunc  = hess_coeff(f, ens.S, collect(1:2:size(idx,1)))\n",
    "\n",
    "    @test norm(d2ψcoeff)<1e-10\n",
    "\n",
    "    # Verify grad_coeff_grad_xd\n",
    "    dψcoeffxd = grad_coeff_grad_xd(f, ens.S)\n",
    "    dψcoeffxdtrunc = grad_coeff_grad_xd(f, ens.S, collect(1:2:size(idx,1)))\n",
    "\n",
    "    @test norm(dψcoeffxd[:,1:2:end] - dψcoeffxdtrunc)<1e-10\n",
    "    @test norm(dψcoeffxd - grad_xk_basis(f, ens.S, 1, Nx))<1e-10\n",
    "    @test norm(dψcoeffxdtrunc - grad_xk_basis(f, ens.S, 1, Nx, f.idx[collect(1:2:size(idx,1)),:]))<1e-10\n",
    "\n",
    "    # Verify hess_coeff_grad_xd\n",
    "    d2ψcoeffxd = hess_coeff_grad_xd(f, ens.S)\n",
    "    d2ψcoeffxdtrunc = hess_coeff_grad_xd(f, ens.S, collect(1:2:size(idx,1)))\n",
    "\n",
    "    @test norm(d2ψcoeffxd)<1e-10\n",
    "    @test norm(d2ψcoeffxdtrunc)<1e-10\n",
    "end\n",
    "\n",
    "@testset \"Test evaluation, gradient and hessian of expanded function Nx = 3 II\" begin\n",
    "\n",
    "    Nx = 3\n",
    "    Ne = 500\n",
    "    ens = EnsembleState(Nx, Ne)\n",
    "    ens.S .= randn(Nx, Ne)\n",
    "\n",
    "    B = MultiBasis(CstProHermite(3), Nx)\n",
    "\n",
    "    idx = [0 0 0]\n",
    "    truncidx = idx[1:2:end,:]\n",
    "    coeff =  randn(size(idx,1))\n",
    "\n",
    "    f = ExpandedFunction(B, idx, coeff)\n",
    "\n",
    "    ψt_basis, dψt_basis, d2ψt_basis = alleval(f, ens)\n",
    "\n",
    "    ψ_basis = evaluate_basis(f, ens.S)\n",
    "    dψ_basis = grad_x_basis(f, ens.S)\n",
    "    d2ψ_basis = hess_x_basis(f, ens.S);\n",
    "    @test norm(ψt_basis - ψ_basis)<1e-8\n",
    "    @test norm(dψt_basis - dψ_basis)<1e-8\n",
    "    @test norm(d2ψt_basis - d2ψ_basis)<1e-8\n",
    "\n",
    "\n",
    "    # For truncated basis\n",
    "    ψtrunc_basis = evaluate_basis(f, ens.S, truncidx)\n",
    "    dψtrunc_basis = grad_x_basis(f, ens.S, truncidx)\n",
    "    d2ψtrunc_basis = hess_x_basis(f, ens.S, truncidx);\n",
    "\n",
    "    @test norm(ψ_basis[:,1:2:end] - ψtrunc_basis)<1e-8\n",
    "    @test norm(dψ_basis[:,1:2:end,:] - dψtrunc_basis)<1e-8\n",
    "    @test norm(d2ψt_basis[:,1:2:end,:,:] - d2ψtrunc_basis)<1e-8\n",
    "\n",
    "\n",
    "    # Verify function evaluation\n",
    "    @test norm(map(i->f(member(ens,i)),1:Ne) - evaluate(f, ens.S))<1e-8\n",
    "\n",
    "    #  Verify gradient\n",
    "    dψ = grad_x(f, ens.S)\n",
    "    @test norm(hcat(map(i->ForwardDiff.gradient(f, member(ens,i)), 1:Ne)...)' - dψ)<1e-8\n",
    "\n",
    "    # Verify hessian\n",
    "    d2ψ = hess_x(f, ens.S)\n",
    "\n",
    "    for i=1:Ne\n",
    "        d2ψt = ForwardDiff.hessian(f, member(ens,i))\n",
    "        @test norm(d2ψt - d2ψ[i,:,:])<1e-8\n",
    "    end\n",
    "\n",
    "\n",
    "    # Verify grad_xd\n",
    "    dψxd = grad_xd(f, ens.S)\n",
    "\n",
    "    for i=1:Ne\n",
    "        dψxd_t = ForwardDiff.gradient(f, member(ens,i))[end]\n",
    "        @test abs(dψxd[i] - dψxd_t)<1e-10\n",
    "    end\n",
    "\n",
    "    # Verify hess_xd\n",
    "    d2ψxd = hess_xd(f, ens.S)\n",
    "\n",
    "    for i=1:Ne\n",
    "        d2ψxd_t = ForwardDiff.hessian(f, member(ens,i))[end,end]\n",
    "        @test abs(d2ψxd[i] - d2ψxd_t)<1e-10\n",
    "    end\n",
    "\n",
    "    # Verify grad_x_grad_xd\n",
    "    dxdxkψ = grad_x_grad_xd(f, ens.S)\n",
    "\n",
    "    for i=1:Ne\n",
    "        dxdxkψ_t = ForwardDiff.hessian(f, member(ens,i))\n",
    "        for j=1:Nx\n",
    "            @test abs(dxdxkψ[i,j] - dxdxkψ_t[j,end])<1e-10\n",
    "        end\n",
    "    end\n",
    "\n",
    "    # Verify hess_x_grad_xd\n",
    "    dxidxjdxkψ = hess_x_grad_xd(f, ens.S, f.idx)\n",
    "\n",
    "    for i=1:Ne\n",
    "        dxidxjdxkψ_t = ForwardDiff.hessian(xi ->ForwardDiff.gradient(f, xi)[Nx], member(ens,i))\n",
    "        @test norm(dxidxjdxkψ[i,:,:] - dxidxjdxkψ_t)<1e-10\n",
    "    end\n",
    "\n",
    "    # Verify grad_coeff\n",
    "    dψcoeff  = grad_coeff(f, ens.S)\n",
    "    dψcoefftrunc  = grad_coeff(f, ens.S, collect(1:2:size(idx,1)))\n",
    "    @test norm(dψcoeff[:,1:2:end] - dψcoefftrunc)<1e-10\n",
    "\n",
    "    @test norm(dψcoeff - ψ_basis)<1e-10\n",
    "    @test norm(dψcoefftrunc - ψtrunc_basis)<1e-10\n",
    "\n",
    "    # Verify hess_coeff\n",
    "    d2ψcoeff  = hess_coeff(f, ens.S)\n",
    "    d2ψcoefftrunc  = hess_coeff(f, ens.S, collect(1:2:size(idx,1)))\n",
    "\n",
    "    @test norm(d2ψcoeff)<1e-10\n",
    "\n",
    "    # Verify grad_coeff_grad_xd\n",
    "    dψcoeffxd = grad_coeff_grad_xd(f, ens.S)\n",
    "    dψcoeffxdtrunc = grad_coeff_grad_xd(f, ens.S, collect(1:2:size(idx,1)))\n",
    "\n",
    "    @test norm(dψcoeffxd[:,1:2:end] - dψcoeffxdtrunc)<1e-10\n",
    "    @test norm(dψcoeffxd - grad_xk_basis(f, ens.S, 1, Nx))<1e-10\n",
    "    @test norm(dψcoeffxdtrunc - grad_xk_basis(f, ens.S, 1, Nx, f.idx[collect(1:2:size(idx,1)),:]))<1e-10\n",
    "\n",
    "    # Verify hess_coeff_grad_xd\n",
    "    d2ψcoeffxd = hess_coeff_grad_xd(f, ens.S)\n",
    "    d2ψcoeffxdtrunc = hess_coeff_grad_xd(f, ens.S, collect(1:2:size(idx,1)))\n",
    "\n",
    "    @test norm(d2ψcoeffxd)<1e-10\n",
    "    @test norm(d2ψcoeffxdtrunc)<1e-10\n",
    "end"
   ]
  },
  {
   "cell_type": "markdown",
   "metadata": {},
   "source": [
    "### Test Hessian of the log π(x)"
   ]
  },
  {
   "cell_type": "code",
   "execution_count": 30,
   "metadata": {},
   "outputs": [],
   "source": [
    "Nx = 2\n",
    "Ne = 8\n",
    "m = 10\n",
    "\n",
    "X = randn(Nx, Ne)\n",
    "\n",
    "idx = [0 0; 0 1; 1 0; 1 1; 1 2]\n",
    "coeff =   [0.6285037650645056;\n",
    " -0.4744029092496623;\n",
    "  1.1405280011620331;\n",
    " -0.7217760771894809;\n",
    "  0.11855056306742319];\n",
    "\n",
    "C = MapComponent(m, Nx, idx, coeff);"
   ]
  },
  {
   "cell_type": "code",
   "execution_count": 34,
   "metadata": {},
   "outputs": [
    {
     "data": {
      "text/plain": [
       "8×5×2 Array{Float64,3}:\n",
       "[:, :, 1] =\n",
       " 0.0  0.0  -0.207296    -0.130929     0.00117735\n",
       " 0.0  0.0  -0.216523    -0.134105     0.0375507\n",
       " 0.0  0.0   0.00618292   0.00360034   0.00205305\n",
       " 0.0  0.0  -0.199714    -0.0830991   -0.107373\n",
       " 0.0  0.0   0.209274     0.0991538   -0.106331\n",
       " 0.0  0.0  -0.236677    -0.10036     -0.126702\n",
       " 0.0  0.0  -0.270316    -0.120917     0.142049\n",
       " 0.0  0.0  -0.0785179   -0.0495593    0.00259814\n",
       "\n",
       "[:, :, 2] =\n",
       " 0.0   0.00283979  0.0   0.00155384  0.345581\n",
       " 0.0   0.0867129   0.0   0.0465448   0.31942\n",
       " 0.0  -0.166026    0.0  -0.104855    0.307967\n",
       " 0.0  -0.268816    0.0  -0.149159    0.0381479\n",
       " 0.0   0.254048    0.0   0.138466    0.109751\n",
       " 0.0  -0.26767     0.0  -0.064575    0.0207737\n",
       " 0.0   0.262746    0.0   0.0959916   0.0506544\n",
       " 0.0   0.0165449   0.0   0.0102847   0.391819"
      ]
     },
     "execution_count": 34,
     "metadata": {},
     "output_type": "execute_result"
    }
   ],
   "source": [
    "dψ_basis = grad_x_basis(C.I.f.f, X)"
   ]
  },
  {
   "cell_type": "code",
   "execution_count": 41,
   "metadata": {},
   "outputs": [
    {
     "data": {
      "text/plain": [
       "8-element Array{Float64,1}:\n",
       "  0.03850011681624252\n",
       " -0.036864339594153354\n",
       "  0.19095459274793916\n",
       "  0.23970874743411022\n",
       " -0.20745155095311177\n",
       "  0.17605463803346075\n",
       " -0.18792702339659972\n",
       "  0.03117818085903034"
      ]
     },
     "execution_count": 41,
     "metadata": {},
     "output_type": "execute_result"
    }
   ],
   "source": [
    "dxlogDJ = zeros(Ne, Nx)\n",
    "\n",
    "ψoffdψxd = grad_xd(C.I.f.f, X)"
   ]
  },
  {
   "cell_type": "code",
   "execution_count": 50,
   "metadata": {},
   "outputs": [
    {
     "data": {
      "text/plain": [
       "8×2 Array{Float64,2}:\n",
       " -0.0150962    0.275081\n",
       " -0.00172344   0.272766\n",
       "  0.00109835   0.191537\n",
       " -0.0403773   -0.00821251\n",
       " -0.0333779    0.127178\n",
       " -0.0481415    0.0110568\n",
       "  0.0468207    0.0774556\n",
       " -0.00492957   0.294571"
      ]
     },
     "execution_count": 50,
     "metadata": {},
     "output_type": "execute_result"
    }
   ],
   "source": [
    "grad_x_grad_xd(C.I.f.f, X, C.I.f.f.idx)"
   ]
  },
  {
   "cell_type": "code",
   "execution_count": 51,
   "metadata": {},
   "outputs": [
    {
     "data": {
      "text/plain": [
       "8-element Array{Float64,1}:\n",
       "  0.27508054698884865\n",
       "  0.2727658334063561\n",
       "  0.19153741860252596\n",
       " -0.008212514607585927\n",
       "  0.12717812747627785\n",
       "  0.01105679171823458\n",
       "  0.07745559049870646\n",
       "  0.29457111787580165"
      ]
     },
     "execution_count": 51,
     "metadata": {},
     "output_type": "execute_result"
    }
   ],
   "source": [
    "hess_xd(C.I.f.f, X)"
   ]
  },
  {
   "cell_type": "code",
   "execution_count": 52,
   "metadata": {},
   "outputs": [
    {
     "data": {
      "text/plain": [
       "2×2 Array{Float64,2}:\n",
       " -0.13341    -0.0150962\n",
       " -0.0150962   0.275081"
      ]
     },
     "execution_count": 52,
     "metadata": {},
     "output_type": "execute_result"
    }
   ],
   "source": [
    "dxdxkψx_t = ForwardDiff.hessian(C.I.f.f, X[:,1])"
   ]
  },
  {
   "cell_type": "code",
   "execution_count": null,
   "metadata": {},
   "outputs": [],
   "source": []
  },
  {
   "cell_type": "code",
   "execution_count": null,
   "metadata": {},
   "outputs": [],
   "source": [
    "evaluate()"
   ]
  },
  {
   "cell_type": "code",
   "execution_count": 16,
   "metadata": {},
   "outputs": [
    {
     "data": {
      "text/plain": [
       "8-element Array{Float64,1}:\n",
       " -1.890933371333304\n",
       " -1.0774421758804786\n",
       " -1.3812358207093065\n",
       " -2.756566903253647\n",
       " -2.2764943782683207\n",
       " -3.268114225886461\n",
       " -0.9741216255311081\n",
       " -1.442529469931936"
      ]
     },
     "execution_count": 16,
     "metadata": {},
     "output_type": "execute_result"
    }
   ],
   "source": [
    "log_pdf(C, X)"
   ]
  },
  {
   "cell_type": "code",
   "execution_count": 18,
   "metadata": {},
   "outputs": [
    {
     "data": {
      "text/plain": [
       "8-element Array{Float64,1}:\n",
       " -1.3182090265735815\n",
       "  0.5518744832820461\n",
       "  1.0207836492619973\n",
       "  1.969508900840876\n",
       "  1.7095646000932772\n",
       "  2.2193925767103297\n",
       "  0.06731649217667446\n",
       "  1.0856697228586412"
      ]
     },
     "execution_count": 18,
     "metadata": {},
     "output_type": "execute_result"
    }
   ],
   "source": [
    "Cx = evaluate(C, X)"
   ]
  },
  {
   "cell_type": "code",
   "execution_count": 22,
   "metadata": {},
   "outputs": [
    {
     "data": {
      "text/plain": [
       "5×2 Array{Int64,2}:\n",
       " 0  0\n",
       " 0  1\n",
       " 1  0\n",
       " 1  1\n",
       " 1  2"
      ]
     },
     "execution_count": 22,
     "metadata": {},
     "output_type": "execute_result"
    }
   ],
   "source": [
    "getidx(C)"
   ]
  },
  {
   "cell_type": "code",
   "execution_count": 21,
   "metadata": {},
   "outputs": [
    {
     "data": {
      "text/plain": [
       "5-element Array{Float64,1}:\n",
       "  0.6285037650645056\n",
       " -0.4744029092496623\n",
       "  1.1405280011620331\n",
       " -0.7217760771894809\n",
       "  0.11855056306742319"
      ]
     },
     "execution_count": 21,
     "metadata": {},
     "output_type": "execute_result"
    }
   ],
   "source": [
    "getcoeff(C)"
   ]
  },
  {
   "cell_type": "code",
   "execution_count": 23,
   "metadata": {},
   "outputs": [
    {
     "data": {
      "text/plain": [
       "8×5×2 Array{Float64,3}:\n",
       "[:, :, 1] =\n",
       " 0.0  0.0   0.107478    0.0190908  -0.043005\n",
       " 0.0  0.0   0.0865389   0.0541193  -0.0107887\n",
       " 0.0  0.0   0.138011    0.0855902   0.0231549\n",
       " 0.0  0.0  -0.270698   -0.113793   -0.145219\n",
       " 0.0  0.0  -0.259926   -0.128072   -0.127645\n",
       " 0.0  0.0  -0.225594   -0.0869868  -0.122217\n",
       " 0.0  0.0  -0.266312   -0.155186    0.0881003\n",
       " 0.0  0.0   0.261878    0.157944    0.0678763\n",
       "\n",
       "[:, :, 2] =\n",
       " 0.0   0.200064   0.0   0.122532   -0.167233\n",
       " 0.0   0.0623342  0.0   0.0386104   0.379666\n",
       " 0.0  -0.0838875  0.0  -0.0502452   0.357862\n",
       " 0.0  -0.268231   0.0  -0.105483    0.0306983\n",
       " 0.0  -0.24554    0.0  -0.112246    0.113373\n",
       " 0.0  -0.270878   0.0  -0.142266    0.00262786\n",
       " 0.0   0.165408   0.0   0.0714071   0.211025\n",
       " 0.0  -0.129595   0.0  -0.0583847   0.246624"
      ]
     },
     "execution_count": 23,
     "metadata": {},
     "output_type": "execute_result"
    }
   ],
   "source": [
    "dψ = grad_x_basis(C.I.f.f, X)"
   ]
  },
  {
   "cell_type": "code",
   "execution_count": 24,
   "metadata": {},
   "outputs": [
    {
     "data": {
      "text/plain": [
       "8×5×2×2 Array{Float64,4}:\n",
       "[:, :, 1, 1] =\n",
       " 0.0  0.0  -0.287372   -0.0510446    0.114986\n",
       " 0.0  0.0  -0.297614   -0.18612      0.0371031\n",
       " 0.0  0.0  -0.267679   -0.166006    -0.0449099\n",
       " 0.0  0.0  -0.0102897  -0.00432547  -0.00552002\n",
       " 0.0  0.0  -0.0807765  -0.0398007   -0.0396678\n",
       " 0.0  0.0  -0.1657     -0.0638922   -0.089769\n",
       " 0.0  0.0  -0.0515665  -0.030049     0.0170591\n",
       " 0.0  0.0  -0.0730321  -0.0440471   -0.0189292\n",
       "\n",
       "[:, :, 2, 1] =\n",
       " 0.0   0.0   0.0   0.0215025   -0.0293467\n",
       " 0.0   0.0   0.0   0.00539434   0.0530439\n",
       " 0.0  -0.0   0.0  -0.0115774    0.0824581\n",
       " 0.0  -0.0  -0.0   0.0726096   -0.0211313\n",
       " 0.0  -0.0  -0.0   0.0638224   -0.0644633\n",
       " 0.0  -0.0  -0.0   0.0611086   -0.00112877\n",
       " 0.0   0.0  -0.0  -0.0440502   -0.130179\n",
       " 0.0  -0.0   0.0  -0.0339381    0.143359\n",
       "\n",
       "[:, :, 1, 2] =\n",
       " 0.0   0.0   0.0   0.0215025   -0.0293467\n",
       " 0.0   0.0   0.0   0.00539434   0.0530439\n",
       " 0.0  -0.0   0.0  -0.0115774    0.0824581\n",
       " 0.0  -0.0  -0.0   0.0726096   -0.0211313\n",
       " 0.0  -0.0  -0.0   0.0638224   -0.0644633\n",
       " 0.0  -0.0  -0.0   0.0611086   -0.00112877\n",
       " 0.0   0.0  -0.0  -0.0440502   -0.130179\n",
       " 0.0  -0.0   0.0  -0.0339381    0.143359\n",
       "\n",
       "[:, :, 2, 2] =\n",
       " 0.0   0.136524    0.0   0.0836164    0.056706\n",
       " 0.0  -0.306474    0.0  -0.189833     0.115064\n",
       " 0.0  -0.298736    0.0  -0.178931    -0.148897\n",
       " 0.0  -0.0390312   0.0  -0.0153491   -0.230553\n",
       " 0.0  -0.124003    0.0  -0.0566865   -0.280989\n",
       " 0.0  -0.00250176  0.0  -0.00131393  -0.286378\n",
       " 0.0  -0.24441     0.0  -0.105512     0.202714\n",
       " 0.0  -0.273713    0.0  -0.123312    -0.169763"
      ]
     },
     "execution_count": 24,
     "metadata": {},
     "output_type": "execute_result"
    }
   ],
   "source": [
    "d2ψ = hess_x_basis(C.I.f.f, X)"
   ]
  },
  {
   "cell_type": "markdown",
   "metadata": {},
   "source": [
    "### Integration"
   ]
  },
  {
   "cell_type": "code",
   "execution_count": 20,
   "metadata": {},
   "outputs": [],
   "source": [
    "Nx = 100\n",
    "Ny = 50\n",
    "m = 20\n",
    "Ne = 400\n",
    "X = randn(Nx, Ne).*randn(Nx, Ne) #.+ 0.5*randn(Nx).*cos.(randn(Nx, Ne) .* randn(Nx, Ne))\n",
    "\n",
    "# L = LinearTransform(X)\n",
    "# transform!(L, X);\n",
    "# C = MapComponent(m, Nx)\n",
    "# @time C, _ = optimize(C, X, 10)"
   ]
  },
  {
   "cell_type": "code",
   "execution_count": 24,
   "metadata": {},
   "outputs": [],
   "source": [
    "M = HermiteMap(m, X);"
   ]
  },
  {
   "cell_type": "code",
   "execution_count": 25,
   "metadata": {
    "scrolled": true
   },
   "outputs": [
    {
     "name": "stdout",
     "output_type": "stream",
     "text": [
      "  9.550136 seconds (42.61 M allocations: 13.653 GiB, 7.59% gc time)\n"
     ]
    }
   ],
   "source": [
    "@time M_noqr = optimize(M, X, 10; P = serial, start = Ny+1);"
   ]
  },
  {
   "cell_type": "code",
   "execution_count": 26,
   "metadata": {},
   "outputs": [
    {
     "name": "stdout",
     "output_type": "stream",
     "text": [
      " 18.997304 seconds (45.81 M allocations: 21.111 GiB, 4.17% gc time)\n"
     ]
    }
   ],
   "source": [
    "@time M_qr = optimize(M, X, 10; P = serial, withqr = true, start = Ny+1);"
   ]
  },
  {
   "cell_type": "code",
   "execution_count": 31,
   "metadata": {},
   "outputs": [
    {
     "data": {
      "text/plain": [
       "timing (generic function with 1 method)"
      ]
     },
     "execution_count": 31,
     "metadata": {},
     "output_type": "execute_result"
    }
   ],
   "source": [
    "function timing()\n",
    "    M = HermiteMap(m, X)\n",
    "    @btime begin \n",
    "        optimize($M, $X, $10; P = serial, withqr = false, start = Ny+1)\n",
    "    end\n",
    "    \n",
    "    @btime begin \n",
    "        optimize($M, $X, $10; P = serial, withqr = true, start = Ny+1)\n",
    "    end\n",
    "end"
   ]
  },
  {
   "cell_type": "code",
   "execution_count": 32,
   "metadata": {},
   "outputs": [
    {
     "name": "stdout",
     "output_type": "stream",
     "text": [
      "  11.257 s (42606958 allocations: 13.65 GiB)\n",
      "  21.346 s (45813192 allocations: 21.12 GiB)\n"
     ]
    }
   ],
   "source": [
    "timing();"
   ]
  },
  {
   "cell_type": "code",
   "execution_count": 11,
   "metadata": {},
   "outputs": [
    {
     "name": "stdout",
     "output_type": "stream",
     "text": [
      "  14.597 s (42433511 allocations: 13.37 GiB)\n"
     ]
    }
   ],
   "source": [
    "timing();"
   ]
  },
  {
   "cell_type": "code",
   "execution_count": 29,
   "metadata": {},
   "outputs": [
    {
     "name": "stdout",
     "output_type": "stream",
     "text": [
      "  973.450 ms (1054425 allocations: 1.43 GiB)\n"
     ]
    }
   ],
   "source": [
    "timing();"
   ]
  },
  {
   "cell_type": "code",
   "execution_count": 14,
   "metadata": {},
   "outputs": [
    {
     "data": {
      "text/html": [
       "# 1 method for generic function <b>update_component</b>:<ul><li> update_component(C::<b>MapComponent</b>, X, reduced_margin::<b>Array{Int64,2}</b>, S::<b>Storage</b>) in AdaptiveTransportMap at <a href=\"https://github.com/mleprovost/AdaptiveTransportMap/tree/83d05ec2a279bc06ffd1b1aeb054f4628721f1e9//src/mapcomponent/greedyfit.jl#L234\" target=\"_blank\">/media/mat/HDD/AdaptiveTransportMap/src/mapcomponent/greedyfit.jl:249</a></li> </ul>"
      ],
      "text/plain": [
       "# 1 method for generic function \"update_component\":\n",
       "[1] update_component(C::MapComponent, X, reduced_margin::Array{Int64,2}, S::Storage) in AdaptiveTransportMap at /media/mat/HDD/AdaptiveTransportMap/src/mapcomponent/greedyfit.jl:249"
      ]
     },
     "execution_count": 14,
     "metadata": {},
     "output_type": "execute_result"
    }
   ],
   "source": [
    "methods(update_component)"
   ]
  },
  {
   "cell_type": "code",
   "execution_count": 30,
   "metadata": {},
   "outputs": [
    {
     "data": {
      "text/plain": [
       "timing (generic function with 1 method)"
      ]
     },
     "execution_count": 30,
     "metadata": {},
     "output_type": "execute_result"
    }
   ],
   "source": [
    "function timing()\n",
    "    @btime begin \n",
    "        M = HermiteMap($m, $X)\n",
    "        optimize($M, $X, $10; P = thread)\n",
    "    end\n",
    "end"
   ]
  },
  {
   "cell_type": "code",
   "execution_count": 88,
   "metadata": {},
   "outputs": [
    {
     "name": "stdout",
     "output_type": "stream",
     "text": [
      "  297.730 ms (1000725 allocations: 1.35 GiB)\n"
     ]
    }
   ],
   "source": [
    "timing();"
   ]
  },
  {
   "cell_type": "markdown",
   "metadata": {},
   "source": [
    "### Test optimization with QR"
   ]
  },
  {
   "cell_type": "code",
   "execution_count": 45,
   "metadata": {},
   "outputs": [
    {
     "data": {
      "text/plain": [
       "\u001b[32m\u001b[1mTest Passed\u001b[22m\u001b[39m"
      ]
     },
     "execution_count": 45,
     "metadata": {},
     "output_type": "execute_result"
    }
   ],
   "source": [
    "Nx = 3\n",
    "Ne = 8\n",
    "m = 20\n",
    "\n",
    "idx = [0 0 0; 0 0 1; 0 1 0; 0 1 1; 0 1 2; 1 0 0]\n",
    "\n",
    "\n",
    "Nψ = 6\n",
    "coeff = [ 0.20649582065364197;\n",
    "         -0.5150990160472986;\n",
    "          2.630096893080717;\n",
    "          1.13653076177397;\n",
    "          0.6725837371023421;\n",
    "         -1.3126095306624133]\n",
    "C = MapComponent(m, Nx, idx, coeff; α = 1e-6);\n",
    "\n",
    "Ne = 100\n",
    "\n",
    "\n",
    "# The QR decomposition is not unique!\n",
    "\n",
    "X = randn(Nx, Ne) .* randn(Nx, Ne) + cos.(randn(Nx, Ne)) .* exp.(-randn(Nx, Ne).^2)\n",
    "\n",
    "L = LinearTransform(X)\n",
    "transform!(L, X)\n",
    "S = Storage(C.I.f, X)\n",
    "F = QRscaling(S)\n",
    "newidx = [1 1 1]\n",
    "\n",
    "Snew = update_storage(S, X, newidx)\n",
    "Fupdated = updateQRscaling(F, Snew)\n",
    "\n",
    "Fnew = QRscaling(Snew)\n",
    "\n",
    "@test norm(Fupdated.D - Fnew.D)<1e-8\n",
    "@test norm(Fupdated.Dinv - Fnew.Dinv)<1e-8"
   ]
  }
 ],
 "metadata": {
  "kernelspec": {
   "display_name": "Julia 1.5.0",
   "language": "julia",
   "name": "julia-1.5"
  },
  "language_info": {
   "file_extension": ".jl",
   "mimetype": "application/julia",
   "name": "julia",
   "version": "1.5.0"
  }
 },
 "nbformat": 4,
 "nbformat_minor": 2
}
