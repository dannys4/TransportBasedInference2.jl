{
 "cells": [
  {
   "cell_type": "markdown",
   "metadata": {},
   "source": [
    "## 6. Nonlinear ensemble filtering for the Lorenz-63 problem"
   ]
  },
  {
   "cell_type": "markdown",
   "metadata": {},
   "source": [
    "In this notebook, we are interested in the sequential inference \n",
    "\n",
    "\n",
    "\n",
    "References: \n",
    "\n",
    "\n",
    "[1] Evensen, G., 1994. Sequential data assimilation with a nonlinear quasi‐geostrophic model using Monte Carlo methods to forecast error statistics. Journal of Geophysical Research: Oceans, 99(C5), pp.10143-10162.\n",
    "\n",
    "[2] Asch, M., Bocquet, M. and Nodet, M., 2016. Data assimilation: methods, algorithms, and applications. Society for Industrial and Applied Mathematics.\n",
    "\n",
    "[3] Bishop, C.H., Etherton, B.J. and Majumdar, S.J., 2001. Adaptive sampling with the ensemble transform Kalman filter. Part I: Theoretical aspects. Monthly weather review, 129(3), pp.420-436. \n",
    "\n",
    "[4] Lorenz, E.N., 1963. Deterministic nonperiodic flow. Journal of atmospheric sciences, 20(2), pp.130-141.\n",
    "\n",
    "[5] Spantini, A., Baptista, R. and Marzouk, Y., 2019. Coupling techniques for nonlinear ensemble filtering. arXiv preprint arXiv:1907.00389."
   ]
  },
  {
   "cell_type": "markdown",
   "metadata": {},
   "source": [
    "### The basic steps\n",
    "To carry out sequential inference in `AdaptiveTransportMap`, we need to carry out a few basic steps:\n",
    "* **Specify the problem**: Define the state-space model: initial condition, dynamical and observation models (including process and observation noise)\n",
    "* **Specify the inflation parameters**: Determine the levels of covariance inflation to properly balance the dynamical system and the observations from the truth system\n",
    "* **Specify the filter**: Choose the ensemble filter to assimilate the observations in the state estimate\n",
    "* **Perform the sequential inference**: Perform the sequential inference\n",
    "\n",
    "We will go through all of these here."
   ]
  },
  {
   "cell_type": "code",
   "execution_count": 1,
   "metadata": {},
   "outputs": [
    {
     "name": "stderr",
     "output_type": "stream",
     "text": [
      "┌ Info: Precompiling AdaptiveTransportMap [bdf749b0-1400-4207-80d3-e689c0e3f03d]\n",
      "└ @ Base loading.jl:1278\n",
      "┌ Warning: Type annotations on keyword arguments not currently supported in recipes. Type information has been discarded\n",
      "└ @ RecipesBase ~/.julia/packages/RecipesBase/92zOw/src/RecipesBase.jl:116\n",
      "┌ Warning: Type annotations on keyword arguments not currently supported in recipes. Type information has been discarded\n",
      "└ @ RecipesBase ~/.julia/packages/RecipesBase/92zOw/src/RecipesBase.jl:116\n"
     ]
    }
   ],
   "source": [
    "using Revise\n",
    "using LinearAlgebra\n",
    "using AdaptiveTransportMap\n",
    "using Statistics\n",
    "using Distributions\n",
    "using OrdinaryDiffEq"
   ]
  },
  {
   "cell_type": "code",
   "execution_count": 2,
   "metadata": {},
   "outputs": [],
   "source": [
    "using DelimitedFiles"
   ]
  },
  {
   "cell_type": "markdown",
   "metadata": {},
   "source": [
    "Load some packages to make nice figures"
   ]
  },
  {
   "cell_type": "code",
   "execution_count": 3,
   "metadata": {},
   "outputs": [],
   "source": [
    "using Plots\n",
    "default(tickfont = font(\"CMU Serif\", 9), \n",
    "        titlefont = font(\"CMU Serif\", 14), \n",
    "        guidefont = font(\"CMU Serif\", 12),\n",
    "        legendfont = font(\"CMU Serif\", 10),\n",
    "        grid = false)\n",
    "# pyplot()\n",
    "\n",
    "using LaTeXStrings\n",
    "# PyPlot.rc(\"text\", usetex = \"true\")\n",
    "# PyPlot.rc(\"font\", family = \"CMU Serif\")\n",
    "# gr()\n",
    "using ColorSchemes"
   ]
  },
  {
   "cell_type": "markdown",
   "metadata": {},
   "source": [
    "The Lorenz-63  model is a three dimensional system that models the atmospheric convection [4]. This system is a classical benchmark problem in data assimilation. The state $\\boldsymbol{x} = (x_1, x_2, x_3)$ is governed by the following set of ordinary differential equations:\n",
    "\n",
    "\\begin{equation}\n",
    "\\begin{aligned}\n",
    "&\\frac{\\mathrm{d} x_1}{\\mathrm{d} t}=\\sigma(x_2-x_1)\\\\\n",
    "&\\frac{\\mathrm{d} x_2}{\\mathrm{d} t}=x_1(\\rho-x_2)-x_2\\\\\n",
    "&\\frac{\\mathrm{d} x_3}{\\mathrm{d} t}=x_1 x_2-\\beta x_3,\n",
    "\\end{aligned}\n",
    "\\end{equation}\n",
    "\n",
    "where $\\sigma = 10, \\beta = 8/3, \\rho = 28$. For these values, the system is chaotic and behaves like a strange attractor. We integrate this system of ODEs with time step $\\Delta t_{dyn} = 0.05$. The state is fully observed $h(t,\\boldsymbol{x}) = \\boldsymbol{x}$ with $\\Delta t_{obs}=0.1$. The initial distribution $\\pi_{\\mathsf{X}_0}$ is the standard Gaussian. The process noise is Gaussian with zero mean and covariance $10^{-4}\\boldsymbol{I}_3$. The measurement noise has a Gaussian distribution with zero mean and covariance $\\theta^2\\boldsymbol{I}_3$ where $\\theta^2 = 4.0$."
   ]
  },
  {
   "cell_type": "markdown",
   "metadata": {},
   "source": [
    "### Simple twin-experiment"
   ]
  },
  {
   "cell_type": "markdown",
   "metadata": {},
   "source": [
    "Define the dimension of the state and observation vectors"
   ]
  },
  {
   "cell_type": "code",
   "execution_count": 4,
   "metadata": {},
   "outputs": [
    {
     "data": {
      "text/plain": [
       "3"
      ]
     },
     "execution_count": 4,
     "metadata": {},
     "output_type": "execute_result"
    }
   ],
   "source": [
    "Nx = 3\n",
    "Ny = 3"
   ]
  },
  {
   "cell_type": "markdown",
   "metadata": {},
   "source": [
    "Define the time steps $\\Delta t_{dyn}, \\Delta t_{obs}$  of the dynamical and observation models. Observations from the truth are assimilated every $\\Delta t_{obs}$."
   ]
  },
  {
   "cell_type": "code",
   "execution_count": 5,
   "metadata": {},
   "outputs": [
    {
     "data": {
      "text/plain": [
       "0.2"
      ]
     },
     "execution_count": 5,
     "metadata": {},
     "output_type": "execute_result"
    }
   ],
   "source": [
    "Δtdyn = 0.05\n",
    "Δtobs = 0.2"
   ]
  },
  {
   "cell_type": "markdown",
   "metadata": {},
   "source": [
    "Define the time span of interest"
   ]
  },
  {
   "cell_type": "code",
   "execution_count": 6,
   "metadata": {},
   "outputs": [
    {
     "data": {
      "text/plain": [
       "500"
      ]
     },
     "execution_count": 6,
     "metadata": {},
     "output_type": "execute_result"
    }
   ],
   "source": [
    "t0 = 0.0\n",
    "tf = 100.0\n",
    "Tf = ceil(Int64, (tf-t0)/Δtobs)"
   ]
  },
  {
   "cell_type": "markdown",
   "metadata": {},
   "source": [
    " Define the distribution for the initial condition $\\pi_{\\mathsf{X}_0}$"
   ]
  },
  {
   "cell_type": "code",
   "execution_count": 7,
   "metadata": {},
   "outputs": [
    {
     "data": {
      "text/plain": [
       "FullNormal(\n",
       "dim: 3\n",
       "μ: [0.0, 0.0, 0.0]\n",
       "Σ: [1.0 0.0 0.0; 0.0 1.0 0.0; 0.0 0.0 1.0]\n",
       ")\n"
      ]
     },
     "execution_count": 7,
     "metadata": {},
     "output_type": "execute_result"
    }
   ],
   "source": [
    "π0 = MvNormal(zeros(Nx), Matrix(1.0*I, Nx, Nx))"
   ]
  },
  {
   "cell_type": "markdown",
   "metadata": {},
   "source": [
    "We construct the state-space representation `F` of the system composed of the deterministic part of the dynamical and observation models. \n",
    "\n",
    "The dynamical model is provided by the right hand side of the ODE to solve. For a system of ODEs, we will prefer an in-place syntax `f(du, u, p, t)`, where `p` are parameters of the model.\n",
    "We rely on `OrdinaryDiffEq` to integrate the dynamical system with the Tsitouras 5/4 Runge-Kutta method adaptive time marching. \n",
    "\n",
    "We assume that the state is fully observable, i.e. $h(x, t) = x$."
   ]
  },
  {
   "cell_type": "code",
   "execution_count": 8,
   "metadata": {},
   "outputs": [
    {
     "data": {
      "text/plain": [
       "StateSpace(AdaptiveTransportMap.lorenz63!, h)"
      ]
     },
     "execution_count": 8,
     "metadata": {},
     "output_type": "execute_result"
    }
   ],
   "source": [
    "h(x, t) = x\n",
    "F = StateSpace(lorenz63!, h)"
   ]
  },
  {
   "cell_type": "markdown",
   "metadata": {},
   "source": [
    "Define the additive inflation for the dynamical and observation models"
   ]
  },
  {
   "cell_type": "code",
   "execution_count": 9,
   "metadata": {},
   "outputs": [
    {
     "data": {
      "text/plain": [
       "AdditiveInflation(3, [0.0, 0.0, 0.0], [4.0 0.0 0.0; 0.0 4.0 0.0; 0.0 0.0 4.0], [2.0 0.0 0.0; 0.0 2.0 0.0; 0.0 0.0 2.0])"
      ]
     },
     "execution_count": 9,
     "metadata": {},
     "output_type": "execute_result"
    }
   ],
   "source": [
    "### Process and observation noise\n",
    "σx = 1e-10\n",
    "σy = 2.0\n",
    "\n",
    "ϵx = AdditiveInflation(Nx, zeros(Nx), σx)\n",
    "ϵy = AdditiveInflation(Ny, zeros(Ny), σy)"
   ]
  },
  {
   "cell_type": "code",
   "execution_count": 10,
   "metadata": {},
   "outputs": [
    {
     "data": {
      "text/plain": [
       "3×3 Diagonal{Float64,Array{Float64,1}}:\n",
       " 1.0e-20   ⋅        ⋅ \n",
       "  ⋅       1.0e-20   ⋅ \n",
       "  ⋅        ⋅       1.0e-20"
      ]
     },
     "execution_count": 10,
     "metadata": {},
     "output_type": "execute_result"
    }
   ],
   "source": [
    "ϵx.Σ"
   ]
  },
  {
   "cell_type": "code",
   "execution_count": 11,
   "metadata": {},
   "outputs": [],
   "source": [
    "model = Model(Nx, Ny, Δtdyn, Δtobs, ϵx, ϵy, π0, 0, 0, 0, F);"
   ]
  },
  {
   "cell_type": "markdown",
   "metadata": {},
   "source": [
    "To perform the nonlinear ensemble filtering, we first need to estimate the transport map $\\boldsymbol{S}^{\\boldsymbol{\\mathcal{X}}}$.\n",
    "\n",
    "In this notebook, we are going to assume that the basis of features does not change over time, but solely the coefficients $c_{\\boldsymbol{\\alpha}}$ of the expansion. \n",
    "\n",
    "\n",
    "To estimate the map, we generate joint samples $(\\boldsymbol{y}^i, \\boldsymbol{x}^i), \\; i = 1, \\ldots, N_e$ where $\\{\\boldsymbol{x}^i\\}$ are i.i.d. samples from pushforward of the standard Gaussian distribution by the flow of the Lorenz-63 system."
   ]
  },
  {
   "cell_type": "code",
   "execution_count": 12,
   "metadata": {},
   "outputs": [
    {
     "data": {
      "text/plain": [
       "\u001b[36mODEProblem\u001b[0m with uType \u001b[36mArray{Float64,1}\u001b[0m and tType \u001b[36mFloat64\u001b[0m. In-place: \u001b[36mtrue\u001b[0m\n",
       "timespan: (0.0, 100.0)\n",
       "u0: 3-element Array{Float64,1}:\n",
       " 0.0\n",
       " 0.0\n",
       " 0.0"
      ]
     },
     "execution_count": 12,
     "metadata": {},
     "output_type": "execute_result"
    }
   ],
   "source": [
    "# Time span\n",
    "tspan = (0.0, 100.0)\n",
    "prob = ODEProblem(lorenz63!, zeros(Nx), tspan)"
   ]
  },
  {
   "cell_type": "markdown",
   "metadata": {},
   "source": [
    "Set initial condition of the true system"
   ]
  },
  {
   "cell_type": "code",
   "execution_count": 13,
   "metadata": {},
   "outputs": [],
   "source": [
    "x0 = rand(model.π0);"
   ]
  },
  {
   "cell_type": "code",
   "execution_count": 14,
   "metadata": {},
   "outputs": [],
   "source": [
    "data = generate_lorenz63(model, x0, Tf);"
   ]
  },
  {
   "cell_type": "markdown",
   "metadata": {},
   "source": [
    "Initialize the ensemble matrix `X` $\\in \\mathbb{R}^{(N_y + N_x) \\times N_e}$."
   ]
  },
  {
   "cell_type": "code",
   "execution_count": 15,
   "metadata": {},
   "outputs": [
    {
     "data": {
      "text/plain": [
       "3×300 view(::Array{Float64,2}, 4:6, :) with eltype Float64:\n",
       " 1.23081    0.604498   -0.153261  …   0.578052   0.698916   0.30136\n",
       " 0.202271  -0.0696071   0.411907      1.13923   -1.88204    0.204233\n",
       " 0.177207  -0.323985    0.360247     -1.52934   -0.400928  -1.5781"
      ]
     },
     "execution_count": 15,
     "metadata": {},
     "output_type": "execute_result"
    }
   ],
   "source": [
    "# Ensemble size\n",
    "Ne = 300\n",
    "\n",
    "X0 = zeros(model.Ny + model.Nx, Ne)\n",
    "\n",
    "# Generate the initial conditions for the state.\n",
    "viewstate(X0, model.Ny, model.Nx) .= rand(model.π0, Ne)"
   ]
  },
  {
   "cell_type": "markdown",
   "metadata": {},
   "source": [
    "Use the stochastic ensemble Kalman filter for the spin-up phase. There is no reason to use the stochastic map filter over the first cycles, as the performance of the inference is determined by the quality of the ensemble, not the quality of the filter."
   ]
  },
  {
   "cell_type": "code",
   "execution_count": 16,
   "metadata": {},
   "outputs": [
    {
     "data": {
      "text/plain": [
       "Stochastic EnKF  with filtered = false\n"
      ]
     },
     "execution_count": 16,
     "metadata": {},
     "output_type": "execute_result"
    }
   ],
   "source": [
    "enkf = StochEnKF(x->x, ϵy, Δtdyn, Δtobs)"
   ]
  },
  {
   "cell_type": "code",
   "execution_count": 17,
   "metadata": {
    "scrolled": true
   },
   "outputs": [
    {
     "name": "stderr",
     "output_type": "stream",
     "text": [
      "\u001b[32mProgress: 100%|█████████████████████████████████████████| Time: 0:00:08\u001b[39m\n"
     ]
    }
   ],
   "source": [
    "Xenkf = seqassim(F, data, Tf, model.ϵx, enkf, deepcopy(X0), model.Ny, model.Nx, t0);"
   ]
  },
  {
   "cell_type": "code",
   "execution_count": 18,
   "metadata": {},
   "outputs": [
    {
     "data": {
      "text/plain": [
       "250"
      ]
     },
     "execution_count": 18,
     "metadata": {},
     "output_type": "execute_result"
    }
   ],
   "source": [
    "tspin = 50.0\n",
    "Tspin = ceil(Int64, (tspin-t0)/Δtobs)"
   ]
  },
  {
   "cell_type": "markdown",
   "metadata": {},
   "source": [
    "Time average root-mean-squared error "
   ]
  },
  {
   "cell_type": "code",
   "execution_count": 19,
   "metadata": {},
   "outputs": [
    {
     "data": {
      "text/plain": [
       "0.6826776463649661"
      ]
     },
     "execution_count": 19,
     "metadata": {},
     "output_type": "execute_result"
    }
   ],
   "source": [
    "rmse_enkf = mean(map(i->norm(data.xt[:,i]-mean(Xenkf[i+1]; dims = 2))/sqrt(Nx), Tspin:Tf))"
   ]
  },
  {
   "cell_type": "markdown",
   "metadata": {},
   "source": [
    "Initialize the structure of the map"
   ]
  },
  {
   "cell_type": "code",
   "execution_count": 20,
   "metadata": {},
   "outputs": [
    {
     "data": {
      "text/plain": [
       "6×300 Array{Float64,2}:\n",
       "  0.0       0.0       0.0       0.0      …   0.0       0.0       0.0\n",
       "  0.0       0.0       0.0       0.0          0.0       0.0       0.0\n",
       "  0.0       0.0       0.0       0.0          0.0       0.0       0.0\n",
       "  4.50224   2.8974    2.47031   3.56557      3.08375   3.33651   2.98631\n",
       "  5.40887   3.04887   2.612     4.06651      3.48064   3.6251    3.43293\n",
       " 20.5057   20.0112   19.4166   20.1042   …  19.6684   20.2709   19.3825"
      ]
     },
     "execution_count": 20,
     "metadata": {},
     "output_type": "execute_result"
    }
   ],
   "source": [
    "Xspin = vcat(zeros(Ny, Ne), deepcopy(Xenkf[Tspin+1]))"
   ]
  },
  {
   "cell_type": "code",
   "execution_count": 21,
   "metadata": {},
   "outputs": [
    {
     "ename": "LoadError",
     "evalue": "\u001b[91mUndefVarError: smf not defined\u001b[39m",
     "output_type": "error",
     "traceback": [
      "\u001b[91mUndefVarError: smf not defined\u001b[39m",
      "",
      "Stacktrace:",
      " [1] top-level scope at In[21]:14",
      " [2] include_string(::Function, ::Module, ::String, ::String) at ./loading.jl:1091"
     ]
    }
   ],
   "source": [
    "# Validation of the setup\n",
    "\n",
    "Xspin = vcat(zeros(Ny, Ne), deepcopy(Xenkf[Tspin+1]))\n",
    "\n",
    "ystar = data.yt[:,250]\n",
    "data.tt[250]\n",
    "\n",
    "ϵx(Xspin, Ny+1, Ny+Nx)\n",
    "\n",
    "# Compute measurements\n",
    "observe(F.h, Xspin, tspin, Ny, Nx)\n",
    "\n",
    "# Perturbation of the measurements\n",
    "smf.ϵy(Xspin, 1, Ny)\n",
    "@show norm(Xspin)\n",
    "\n",
    "# Optimize the map S\n",
    "optimize(smf.S, Xspin; start = Ny+1)"
   ]
  },
  {
   "cell_type": "code",
   "execution_count": 22,
   "metadata": {},
   "outputs": [
    {
     "ename": "LoadError",
     "evalue": "\u001b[91mUndefVarError: smf not defined\u001b[39m",
     "output_type": "error",
     "traceback": [
      "\u001b[91mUndefVarError: smf not defined\u001b[39m",
      "",
      "Stacktrace:",
      " [1] top-level scope at In[22]:2",
      " [2] include_string(::Function, ::Module, ::String, ::String) at ./loading.jl:1091"
     ]
    }
   ],
   "source": [
    "# Evaluate the transport map\n",
    "Sx = evaluate(smf.S, Xspin; start = Ny+1)\n",
    "\n",
    "Xpost = deepcopy(Xspin)\n",
    "inverse!(Xpost, deepcopy(Sx), smf.S, ystar; start = Ny+1)\n",
    "\n",
    "@show norm(Xpost[1:Ny,:] .- ystar)\n",
    "\n",
    "@show norm(evaluate(smf.S, Xspin; start = Ny+1)-evaluate(smf.S, Xpost; start = Ny+1))"
   ]
  },
  {
   "cell_type": "code",
   "execution_count": 23,
   "metadata": {},
   "outputs": [
    {
     "data": {
      "text/plain": [
       "250"
      ]
     },
     "execution_count": 23,
     "metadata": {},
     "output_type": "execute_result"
    }
   ],
   "source": [
    "tsmf = 100.0\n",
    "Tsmf = ceil(Int64, (tsmf-tspin)/Δtobs)"
   ]
  },
  {
   "cell_type": "code",
   "execution_count": 24,
   "metadata": {},
   "outputs": [
    {
     "data": {
      "text/plain": [
       "SparseRadialSMF(var\"#5#6\"(), h, 1.0, AdditiveInflation(3, [0.0, 0.0, 0.0], [4.0 0.0 0.0; 0.0 4.0 0.0; 0.0 0.0 4.0], [2.0 0.0 0.0; 0.0 2.0 0.0; 0.0 0.0 2.0]), Sparse Radial Map of dimension Nx = 4 and order p = [[-1], [2, 2], [-1, 2, 0], [-1, 2, 2, 0]]\n",
       "        with parameters (γ, λ, δ, κ) = (2.0, 0.0, 1.0e-8, 10.0)\n",
       ", 3, 3, 0.05, 0.2, [0.0 1.0 1.0; 1.0 0.0 1.0; 1.0 1.0 0.0], [1 2 3; 1 2 3], [0.0 0.0 … 0.0 0.0; 0.0 0.0 … 0.0 0.0; 0.0 0.0 … 0.0 0.0; 0.0 0.0 … 0.0 0.0], false, true)"
      ]
     },
     "execution_count": 24,
     "metadata": {},
     "output_type": "execute_result"
    }
   ],
   "source": [
    "p = 2\n",
    "# order = [[-1], [1; 1], [-1; 1; 0], [-1; 1; 1; 0]]\n",
    "order = [[-1], [p; p], [-1; p; 0], [-1; p; p; 0]]\n",
    "\n",
    "# order = [[-1], [-1; -1], [-1; -1; -1], [p; -1; -1 ;p], [-1; p; -1; p; p], [-1; -1; p; p; p; p]]\n",
    "\n",
    "# parameters of the radial map\n",
    "γ = 2.0\n",
    "λ = 0.0\n",
    "δ = 1e-8\n",
    "κ = 10.0\n",
    "β = 1.0\n",
    "\n",
    "dist = Float64.(metric_lorenz(3))\n",
    "idx = vcat(collect(1:Ny)',collect(1:Ny)')\n",
    "\n",
    "smf = SparseRadialSMF(x->x, F.h, β, ϵy, order, γ, λ, δ, κ, \n",
    "                      Ny, Nx, Ne, \n",
    "                      Δtdyn, Δtobs, \n",
    "                      dist, idx; islocalized = true)"
   ]
  },
  {
   "cell_type": "code",
   "execution_count": 30,
   "metadata": {},
   "outputs": [
    {
     "data": {
      "text/plain": [
       "3×300 view(::Array{Float64,2}, 4:6, :) with eltype Float64:\n",
       " -0.851049  0.296676   3.17741   0.947775  …  1.47638     0.348541  0.891801\n",
       "  1.87906   0.582181   0.708408  0.756769     1.76632    -0.460645  0.290272\n",
       " -0.398454  0.442686  -1.62921   1.30066      0.0895643  -1.41705   0.0717091"
      ]
     },
     "execution_count": 30,
     "metadata": {},
     "output_type": "execute_result"
    }
   ],
   "source": [
    "# Ensemble size\n",
    "Ne = 300\n",
    "\n",
    "X0 = zeros(model.Ny + model.Nx, Ne)\n",
    "\n",
    "# Generate the initial conditions for the state.\n",
    "viewstate(X0, model.Ny, model.Nx) .= rand(model.π0, Ne)"
   ]
  },
  {
   "cell_type": "code",
   "execution_count": 31,
   "metadata": {
    "scrolled": true
   },
   "outputs": [
    {
     "name": "stderr",
     "output_type": "stream",
     "text": [
      "\u001b[32mProgress: 100%|█████████████████████████████████████████| Time: 0:00:05\u001b[39m\n"
     ]
    }
   ],
   "source": [
    "Xsmf = seqassim(F, data, Tf, model.ϵx, smf, X0, model.Ny, model.Nx, 0.0);"
   ]
  },
  {
   "cell_type": "code",
   "execution_count": 34,
   "metadata": {},
   "outputs": [
    {
     "data": {
      "text/plain": [
       "0.4901837349238722"
      ]
     },
     "execution_count": 34,
     "metadata": {},
     "output_type": "execute_result"
    }
   ],
   "source": [
    "rmse_smf = mean(map(i->norm(data.xt[:,i]-mean(Xsmf[i+1]; dims = 2))/sqrt(Nx), Tspin:Tf))"
   ]
  },
  {
   "cell_type": "code",
   "execution_count": 35,
   "metadata": {},
   "outputs": [
    {
     "data": {
      "image/svg+xml": [
       "<?xml version=\"1.0\" encoding=\"utf-8\"?>\n",
       "<svg xmlns=\"http://www.w3.org/2000/svg\" xmlns:xlink=\"http://www.w3.org/1999/xlink\" width=\"600\" height=\"800\" viewBox=\"0 0 2400 3200\">\n",
       "<defs>\n",
       "  <clipPath id=\"clip950\">\n",
       "    <rect x=\"0\" y=\"0\" width=\"2400\" height=\"3200\"/>\n",
       "  </clipPath>\n",
       "</defs>\n",
       "<path clip-path=\"url(#clip950)\" d=\"\n",
       "M0 3200 L2400 3200 L2400 0 L0 0  Z\n",
       "  \" fill=\"#ffffff\" fill-rule=\"evenodd\" fill-opacity=\"1\"/>\n",
       "<defs>\n",
       "  <clipPath id=\"clip951\">\n",
       "    <rect x=\"640\" y=\"320\" width=\"2241\" height=\"2241\"/>\n",
       "  </clipPath>\n",
       "</defs>\n",
       "<path clip-path=\"url(#clip950)\" d=\"\n",
       "M212.552 853.93 L2352.76 853.93 L2352.76 47.2441 L212.552 47.2441  Z\n",
       "  \" fill=\"#ffffff\" fill-rule=\"evenodd\" fill-opacity=\"1\"/>\n",
       "<defs>\n",
       "  <clipPath id=\"clip952\">\n",
       "    <rect x=\"212\" y=\"47\" width=\"2141\" height=\"808\"/>\n",
       "  </clipPath>\n",
       "</defs>\n",
       "<polyline clip-path=\"url(#clip950)\" style=\"stroke:#000000; stroke-width:4; stroke-opacity:1; fill:none\" points=\"\n",
       "  212.552,853.93 2352.76,853.93 \n",
       "  \"/>\n",
       "<polyline clip-path=\"url(#clip950)\" style=\"stroke:#000000; stroke-width:4; stroke-opacity:1; fill:none\" points=\"\n",
       "  640.593,853.93 640.593,844.25 \n",
       "  \"/>\n",
       "<polyline clip-path=\"url(#clip950)\" style=\"stroke:#000000; stroke-width:4; stroke-opacity:1; fill:none\" points=\"\n",
       "  1072.96,853.93 1072.96,844.25 \n",
       "  \"/>\n",
       "<polyline clip-path=\"url(#clip950)\" style=\"stroke:#000000; stroke-width:4; stroke-opacity:1; fill:none\" points=\"\n",
       "  1505.32,853.93 1505.32,844.25 \n",
       "  \"/>\n",
       "<polyline clip-path=\"url(#clip950)\" style=\"stroke:#000000; stroke-width:4; stroke-opacity:1; fill:none\" points=\"\n",
       "  1937.69,853.93 1937.69,844.25 \n",
       "  \"/>\n",
       "<g clip-path=\"url(#clip950)\">\n",
       "<text style=\"fill:#000000; fill-opacity:1; font-family:Arial,Helvetica Neue,Helvetica,sans-serif; font-size:53px; text-anchor:middle;\" transform=\"rotate(0, 640.593, 926.33)\" x=\"640.593\" y=\"926.33\">20</text>\n",
       "</g>\n",
       "<g clip-path=\"url(#clip950)\">\n",
       "<text style=\"fill:#000000; fill-opacity:1; font-family:Arial,Helvetica Neue,Helvetica,sans-serif; font-size:53px; text-anchor:middle;\" transform=\"rotate(0, 1072.96, 926.33)\" x=\"1072.96\" y=\"926.33\">40</text>\n",
       "</g>\n",
       "<g clip-path=\"url(#clip950)\">\n",
       "<text style=\"fill:#000000; fill-opacity:1; font-family:Arial,Helvetica Neue,Helvetica,sans-serif; font-size:53px; text-anchor:middle;\" transform=\"rotate(0, 1505.32, 926.33)\" x=\"1505.32\" y=\"926.33\">60</text>\n",
       "</g>\n",
       "<g clip-path=\"url(#clip950)\">\n",
       "<text style=\"fill:#000000; fill-opacity:1; font-family:Arial,Helvetica Neue,Helvetica,sans-serif; font-size:53px; text-anchor:middle;\" transform=\"rotate(0, 1937.69, 926.33)\" x=\"1937.69\" y=\"926.33\">80</text>\n",
       "</g>\n",
       "<g clip-path=\"url(#clip950)\">\n",
       "<image width=\"23\" height=\"45\" xlink:href=\"data:image/png;base64,\n",
       "iVBORw0KGgoAAAANSUhEUgAAABcAAAAtCAYAAABFy/BrAAABxElEQVRYhbWX3a3CMAyFnTtB6AgZ\n",
       "oawQMUHECFkBRugIzJARgBHKBmUFr+D7QhBt82OHYskPRe6Rc/KFuEBEIE1EJO89aa3JOUe5OrEw\n",
       "EYExhgDgnZuJI+JMuCT+B8K43+/84m8t2cyWlCWb2XI+n1e/Oeey9SLxlN/W2vwLEltgYYfWOmtJ\n",
       "Ey3srr/tfJqmYuds4ev1yqZELN73vVhcvZZbDaXUqpCIVPElRKRUV9+mtZZgGIbNhWMqIoLH40GI\n",
       "mF3d4XCYPWutIYSQre+6Dvb7vWpC0Htf3Uw2LUtxRGSJV0/o7XZbUbLb7cqUxPgF32zOm/h+RdGW\n",
       "0+m0Evbec3Tr4uL/72VIKDHGsP1m0dLcdanz1GXM5bvaecpvNt+1ziXziej4S+cTkS2p+UTCd4yk\n",
       "+Nd8x/gF3yLOm7rmds7lexxHAgAKIVCSlpb5JKZzbjYsrQqstc3iy/pVgda6STyejb7v0+IpS0pf\n",
       "a0uvrbWz2iotxpgqFMfjEQBgPW7USLlcLsXOQwjJrpOeLy/kYRiy4tGO3CGrcv65QZ8Zx8DS1wXr\n",
       "EOVWZ4wpHrDkhhKRmqbp/ayUos/sug7GcYTn86lKF8g/DrGGHV47F+QAAAAASUVORK5CYII=\n",
       "\" transform=\"translate(1271, 961)\"/>\n",
       "</g>\n",
       "<polyline clip-path=\"url(#clip950)\" style=\"stroke:#000000; stroke-width:4; stroke-opacity:1; fill:none\" points=\"\n",
       "  212.552,853.93 212.552,47.2441 \n",
       "  \"/>\n",
       "<polyline clip-path=\"url(#clip950)\" style=\"stroke:#000000; stroke-width:4; stroke-opacity:1; fill:none\" points=\"\n",
       "  212.552,822.282 238.235,822.282 \n",
       "  \"/>\n",
       "<polyline clip-path=\"url(#clip950)\" style=\"stroke:#000000; stroke-width:4; stroke-opacity:1; fill:none\" points=\"\n",
       "  212.552,705.871 238.235,705.871 \n",
       "  \"/>\n",
       "<polyline clip-path=\"url(#clip950)\" style=\"stroke:#000000; stroke-width:4; stroke-opacity:1; fill:none\" points=\"\n",
       "  212.552,589.46 238.235,589.46 \n",
       "  \"/>\n",
       "<polyline clip-path=\"url(#clip950)\" style=\"stroke:#000000; stroke-width:4; stroke-opacity:1; fill:none\" points=\"\n",
       "  212.552,473.048 238.235,473.048 \n",
       "  \"/>\n",
       "<polyline clip-path=\"url(#clip950)\" style=\"stroke:#000000; stroke-width:4; stroke-opacity:1; fill:none\" points=\"\n",
       "  212.552,356.637 238.235,356.637 \n",
       "  \"/>\n",
       "<polyline clip-path=\"url(#clip950)\" style=\"stroke:#000000; stroke-width:4; stroke-opacity:1; fill:none\" points=\"\n",
       "  212.552,240.225 238.235,240.225 \n",
       "  \"/>\n",
       "<polyline clip-path=\"url(#clip950)\" style=\"stroke:#000000; stroke-width:4; stroke-opacity:1; fill:none\" points=\"\n",
       "  212.552,123.814 238.235,123.814 \n",
       "  \"/>\n",
       "<g clip-path=\"url(#clip950)\">\n",
       "<text style=\"fill:#000000; fill-opacity:1; font-family:Arial,Helvetica Neue,Helvetica,sans-serif; font-size:53px; text-anchor:end;\" transform=\"rotate(0, 164.552, 841.782)\" x=\"164.552\" y=\"841.782\">−15</text>\n",
       "</g>\n",
       "<g clip-path=\"url(#clip950)\">\n",
       "<text style=\"fill:#000000; fill-opacity:1; font-family:Arial,Helvetica Neue,Helvetica,sans-serif; font-size:53px; text-anchor:end;\" transform=\"rotate(0, 164.552, 725.371)\" x=\"164.552\" y=\"725.371\">−10</text>\n",
       "</g>\n",
       "<g clip-path=\"url(#clip950)\">\n",
       "<text style=\"fill:#000000; fill-opacity:1; font-family:Arial,Helvetica Neue,Helvetica,sans-serif; font-size:53px; text-anchor:end;\" transform=\"rotate(0, 164.552, 608.96)\" x=\"164.552\" y=\"608.96\">−5</text>\n",
       "</g>\n",
       "<g clip-path=\"url(#clip950)\">\n",
       "<text style=\"fill:#000000; fill-opacity:1; font-family:Arial,Helvetica Neue,Helvetica,sans-serif; font-size:53px; text-anchor:end;\" transform=\"rotate(0, 164.552, 492.548)\" x=\"164.552\" y=\"492.548\">0</text>\n",
       "</g>\n",
       "<g clip-path=\"url(#clip950)\">\n",
       "<text style=\"fill:#000000; fill-opacity:1; font-family:Arial,Helvetica Neue,Helvetica,sans-serif; font-size:53px; text-anchor:end;\" transform=\"rotate(0, 164.552, 376.137)\" x=\"164.552\" y=\"376.137\">5</text>\n",
       "</g>\n",
       "<g clip-path=\"url(#clip950)\">\n",
       "<text style=\"fill:#000000; fill-opacity:1; font-family:Arial,Helvetica Neue,Helvetica,sans-serif; font-size:53px; text-anchor:end;\" transform=\"rotate(0, 164.552, 259.725)\" x=\"164.552\" y=\"259.725\">10</text>\n",
       "</g>\n",
       "<g clip-path=\"url(#clip950)\">\n",
       "<text style=\"fill:#000000; fill-opacity:1; font-family:Arial,Helvetica Neue,Helvetica,sans-serif; font-size:53px; text-anchor:end;\" transform=\"rotate(0, 164.552, 143.314)\" x=\"164.552\" y=\"143.314\">15</text>\n",
       "</g>\n",
       "<g clip-path=\"url(#clip950)\">\n",
       "<image width=\"42\" height=\"63\" xlink:href=\"data:image/png;base64,\n",
       "iVBORw0KGgoAAAANSUhEUgAAACoAAAA/CAYAAACW2FpzAAADBUlEQVRoge2a4XHyMAyGX3PfAKEj\n",
       "eIRcR0g3SBkh3QBWMBuEFdIN3I6Q6wQ0IwQ2UH/0UxpCgUhxIL1Dd7rrUWI/yPIr2WCICFO2z89P\n",
       "2u/3ABFN2tM0JQA0u3XE+todNJTt93sAfwC0qioAgJn6rjfGEDDxiO52uyaK//o+NJ/PifPlFtZ7\n",
       "6XkJbmW9l95aOybHZZNUieVySQBu4uJdb4yhOI7x/v6uDk5fq6oKj4+P3/NqQAGAiEx4tNPzieXp\n",
       "2rnK84lBsywDALy9vV1FBdSgcRwD+CltY1sURQAUoE9PTwYAPj4+AiOdN3UJres6JMdFm3xTwjbp\n",
       "pqRtd9DQdgcNbXfQ0Pb3QHe7Ha1WKzLGkDGGVqvVpCpBU5lOnYmu1XdeshkAnIveer0WR/b5+Zk2\n",
       "m03YFfHeEwAqiuLkeUV6A5ckycHzWZaJx+g6sixrYLoTACBrrWoS5xxZa5txiqIYBAsejF+I4/gA\n",
       "tK7rwdFor5Z2PPy2vEVRUJqm5JwbDMnOK2etpe12Kx63iWAooB6RUc0343PztSzPcwAKNeG81G4a\n",
       "jdd1TQBouVz2nhNEhO12SwAoSZLJpkDzB3/7EEURee9HB2YpFIMSHV6ClWU5KqxzTg/KadAVfmst\n",
       "FUURRFPZWVv7vv+ozauq6ujMXlUVFosFHh4e8PLyQq+vr4PreFmWsgeYuCxLiqJIdXcZRRHleS4S\n",
       "cmg3kwbwN0/TlPI8PwvA+SkGvdVNskRdjqLZ3TTee3LOqdPilMdxLNqYjX5KtdN7T9qVkEISBWpK\n",
       "vPfUbQ9PuaRsdjafrpu55NwqdkG144FzLzRoG7hdQJIkURWOg6PI2M5dEyDv9GdJkgD4/u0GRrb5\n",
       "fG6ccwCAxWIhe5joR4A1RwR1zv2vaL3f335QIxtDQKEpoayJWvmQ+qA2j7UwTdPRYaVt3tELbe0L\n",
       "EV10dJQvIvI8HwbaXhYA5Jwb1DB3QYHv04NUFs/+kz81u2SXngNtexBQjm77DikkqERlBuVfH/+t\n",
       "3mukcHTQU7DSvP8C2cKGXhzMxmkAAAAASUVORK5CYII=\n",
       "\" transform=\"translate(-17, 419)\"/>\n",
       "</g>\n",
       "<polyline clip-path=\"url(#clip952)\" style=\"stroke:#008080; stroke-width:12; stroke-opacity:1; fill:none\" points=\"\n",
       "  212.552,696.983 234.171,298.184 255.789,258.257 277.407,280.275 299.025,295.251 320.644,244.182 342.262,310.059 363.88,259.99 385.498,275.621 407.116,315.667 \n",
       "  428.735,223.603 450.353,339.91 471.971,223.272 493.589,335.829 515.207,257.288 536.826,363.966 558.444,156.083 580.062,448.694 601.68,473.317 623.299,523.632 \n",
       "  644.917,726.235 666.535,609.263 688.153,709.801 709.771,620.138 731.39,667.999 753.008,590.98 774.626,777.386 796.244,492.717 817.863,442.356 839.481,775.763 \n",
       "  861.099,535.867 882.717,439.787 904.335,703.486 925.954,576.314 947.572,651.592 969.19,729.464 990.808,472.497 1012.43,568.919 1034.04,137.97 1055.66,527.518 \n",
       "  1077.28,405.825 1098.9,163.897 1120.52,355.495 1142.14,468.76 1163.75,632.123 1185.37,649.573 1206.99,519.446 1228.61,312.886 1250.23,667.95 1271.85,500.72 \n",
       "  1293.46,292.706 1315.08,280.784 1336.7,491.018 1358.32,614.026 1379.94,247.783 1401.55,568.709 1423.17,629.549 1444.79,843.877 1466.41,443.64 1488.03,566.166 \n",
       "  1509.65,810.445 1531.26,607.055 1552.88,399.941 1574.5,412.273 1596.12,687.401 1617.74,574.564 1639.35,810.438 1660.97,638.617 1682.59,383.552 1704.21,164.053 \n",
       "  1725.83,556.814 1747.45,522.802 1769.06,700.451 1790.68,152.144 1812.3,559.048 1833.92,729.341 1855.54,596.675 1877.16,503.782 1898.77,696.684 1920.39,678.561 \n",
       "  1942.01,491.549 1963.63,444.709 1985.25,777.528 2006.86,524.78 2028.48,474.25 2050.1,341.006 2071.72,257.07 2093.34,295.816 2114.96,319.414 2136.57,272.198 \n",
       "  2158.19,348.786 2179.81,393.74 2201.43,558.311 2223.05,293.463 2244.66,366.372 2266.28,124.438 2287.9,690.439 2309.52,378.948 2331.14,129.828 2352.76,732.256 \n",
       "  \n",
       "  \"/>\n",
       "<polyline clip-path=\"url(#clip952)\" style=\"stroke:#ee4000; stroke-width:12; stroke-opacity:1; fill:none\" stroke-dasharray=\"48, 30\" points=\"\n",
       "  212.552,707.443 234.171,300.7 255.789,257.329 277.407,281.627 299.025,297.117 320.644,243.317 342.262,313.207 363.88,261.892 385.498,278.913 407.116,316.353 \n",
       "  428.735,223.727 450.353,349.092 471.971,208.048 493.589,334.385 515.207,248.755 536.826,362.728 558.444,146.47 580.062,449.91 601.68,475.812 623.299,506.169 \n",
       "  644.917,729.114 666.535,603.485 688.153,716.743 709.771,624.817 731.39,672.336 753.008,590.419 774.626,772.775 796.244,493.233 817.863,427.707 839.481,769.639 \n",
       "  861.099,534.014 882.717,456.719 904.335,711.499 925.954,571.829 947.572,630.546 969.19,729.169 990.808,470.551 1012.43,587.324 1034.04,149.849 1055.66,527.915 \n",
       "  1077.28,410.436 1098.9,163.193 1120.52,358.398 1142.14,463.514 1163.75,634.027 1185.37,639.282 1206.99,532.672 1228.61,314.253 1250.23,649.407 1271.85,488.018 \n",
       "  1293.46,307.868 1315.08,262.679 1336.7,489.9 1358.32,592.218 1379.94,232.266 1401.55,573.515 1423.17,636.13 1444.79,842.468 1466.41,444.382 1488.03,561.771 \n",
       "  1509.65,803.01 1531.26,607.103 1552.88,400.374 1574.5,378.937 1596.12,687.599 1617.74,568.757 1639.35,797.799 1660.97,636.334 1682.59,368.617 1704.21,186.86 \n",
       "  1725.83,566.724 1747.45,524.462 1769.06,685.259 1790.68,136.079 1812.3,565.689 1833.92,732.933 1855.54,597.679 1877.16,510.712 1898.77,690.89 1920.39,680.937 \n",
       "  1942.01,493.456 1963.63,460.773 1985.25,774.713 2006.86,522.887 2028.48,454.457 2050.1,343.764 2071.72,254.785 2093.34,300.179 2114.96,315.356 2136.57,279.985 \n",
       "  2158.19,347.934 2179.81,395.153 2201.43,588.136 2223.05,285.931 2244.66,380.164 2266.28,127.005 2287.9,699.486 2309.52,365.297 2331.14,134.162 2352.76,718.911 \n",
       "  \n",
       "  \"/>\n",
       "<circle clip-path=\"url(#clip952)\" cx=\"212.552\" cy=\"684.788\" r=\"18\" fill=\"#808080\" fill-rule=\"evenodd\" fill-opacity=\"0.5\" stroke=\"#000000\" stroke-opacity=\"0.5\" stroke-width=\"4.8\"/>\n",
       "<circle clip-path=\"url(#clip952)\" cx=\"234.171\" cy=\"317.416\" r=\"18\" fill=\"#808080\" fill-rule=\"evenodd\" fill-opacity=\"0.5\" stroke=\"#000000\" stroke-opacity=\"0.5\" stroke-width=\"4.8\"/>\n",
       "<circle clip-path=\"url(#clip952)\" cx=\"255.789\" cy=\"253.509\" r=\"18\" fill=\"#808080\" fill-rule=\"evenodd\" fill-opacity=\"0.5\" stroke=\"#000000\" stroke-opacity=\"0.5\" stroke-width=\"4.8\"/>\n",
       "<circle clip-path=\"url(#clip952)\" cx=\"277.407\" cy=\"292.452\" r=\"18\" fill=\"#808080\" fill-rule=\"evenodd\" fill-opacity=\"0.5\" stroke=\"#000000\" stroke-opacity=\"0.5\" stroke-width=\"4.8\"/>\n",
       "<circle clip-path=\"url(#clip952)\" cx=\"299.025\" cy=\"246.314\" r=\"18\" fill=\"#808080\" fill-rule=\"evenodd\" fill-opacity=\"0.5\" stroke=\"#000000\" stroke-opacity=\"0.5\" stroke-width=\"4.8\"/>\n",
       "<circle clip-path=\"url(#clip952)\" cx=\"320.644\" cy=\"293.503\" r=\"18\" fill=\"#808080\" fill-rule=\"evenodd\" fill-opacity=\"0.5\" stroke=\"#000000\" stroke-opacity=\"0.5\" stroke-width=\"4.8\"/>\n",
       "<circle clip-path=\"url(#clip952)\" cx=\"342.262\" cy=\"273.279\" r=\"18\" fill=\"#808080\" fill-rule=\"evenodd\" fill-opacity=\"0.5\" stroke=\"#000000\" stroke-opacity=\"0.5\" stroke-width=\"4.8\"/>\n",
       "<circle clip-path=\"url(#clip952)\" cx=\"363.88\" cy=\"319.901\" r=\"18\" fill=\"#808080\" fill-rule=\"evenodd\" fill-opacity=\"0.5\" stroke=\"#000000\" stroke-opacity=\"0.5\" stroke-width=\"4.8\"/>\n",
       "<circle clip-path=\"url(#clip952)\" cx=\"385.498\" cy=\"375.485\" r=\"18\" fill=\"#808080\" fill-rule=\"evenodd\" fill-opacity=\"0.5\" stroke=\"#000000\" stroke-opacity=\"0.5\" stroke-width=\"4.8\"/>\n",
       "<circle clip-path=\"url(#clip952)\" cx=\"407.116\" cy=\"296.277\" r=\"18\" fill=\"#808080\" fill-rule=\"evenodd\" fill-opacity=\"0.5\" stroke=\"#000000\" stroke-opacity=\"0.5\" stroke-width=\"4.8\"/>\n",
       "<circle clip-path=\"url(#clip952)\" cx=\"428.735\" cy=\"169.062\" r=\"18\" fill=\"#808080\" fill-rule=\"evenodd\" fill-opacity=\"0.5\" stroke=\"#000000\" stroke-opacity=\"0.5\" stroke-width=\"4.8\"/>\n",
       "<circle clip-path=\"url(#clip952)\" cx=\"450.353\" cy=\"425.333\" r=\"18\" fill=\"#808080\" fill-rule=\"evenodd\" fill-opacity=\"0.5\" stroke=\"#000000\" stroke-opacity=\"0.5\" stroke-width=\"4.8\"/>\n",
       "<circle clip-path=\"url(#clip952)\" cx=\"471.971\" cy=\"144.694\" r=\"18\" fill=\"#808080\" fill-rule=\"evenodd\" fill-opacity=\"0.5\" stroke=\"#000000\" stroke-opacity=\"0.5\" stroke-width=\"4.8\"/>\n",
       "<circle clip-path=\"url(#clip952)\" cx=\"493.589\" cy=\"275.28\" r=\"18\" fill=\"#808080\" fill-rule=\"evenodd\" fill-opacity=\"0.5\" stroke=\"#000000\" stroke-opacity=\"0.5\" stroke-width=\"4.8\"/>\n",
       "<circle clip-path=\"url(#clip952)\" cx=\"515.207\" cy=\"275.76\" r=\"18\" fill=\"#808080\" fill-rule=\"evenodd\" fill-opacity=\"0.5\" stroke=\"#000000\" stroke-opacity=\"0.5\" stroke-width=\"4.8\"/>\n",
       "<circle clip-path=\"url(#clip952)\" cx=\"536.826\" cy=\"313.821\" r=\"18\" fill=\"#808080\" fill-rule=\"evenodd\" fill-opacity=\"0.5\" stroke=\"#000000\" stroke-opacity=\"0.5\" stroke-width=\"4.8\"/>\n",
       "<circle clip-path=\"url(#clip952)\" cx=\"558.444\" cy=\"176.104\" r=\"18\" fill=\"#808080\" fill-rule=\"evenodd\" fill-opacity=\"0.5\" stroke=\"#000000\" stroke-opacity=\"0.5\" stroke-width=\"4.8\"/>\n",
       "<circle clip-path=\"url(#clip952)\" cx=\"580.062\" cy=\"452.263\" r=\"18\" fill=\"#808080\" fill-rule=\"evenodd\" fill-opacity=\"0.5\" stroke=\"#000000\" stroke-opacity=\"0.5\" stroke-width=\"4.8\"/>\n",
       "<circle clip-path=\"url(#clip952)\" cx=\"601.68\" cy=\"553.525\" r=\"18\" fill=\"#808080\" fill-rule=\"evenodd\" fill-opacity=\"0.5\" stroke=\"#000000\" stroke-opacity=\"0.5\" stroke-width=\"4.8\"/>\n",
       "<circle clip-path=\"url(#clip952)\" cx=\"623.299\" cy=\"517.225\" r=\"18\" fill=\"#808080\" fill-rule=\"evenodd\" fill-opacity=\"0.5\" stroke=\"#000000\" stroke-opacity=\"0.5\" stroke-width=\"4.8\"/>\n",
       "<circle clip-path=\"url(#clip952)\" cx=\"644.917\" cy=\"708.527\" r=\"18\" fill=\"#808080\" fill-rule=\"evenodd\" fill-opacity=\"0.5\" stroke=\"#000000\" stroke-opacity=\"0.5\" stroke-width=\"4.8\"/>\n",
       "<circle clip-path=\"url(#clip952)\" cx=\"666.535\" cy=\"521.41\" r=\"18\" fill=\"#808080\" fill-rule=\"evenodd\" fill-opacity=\"0.5\" stroke=\"#000000\" stroke-opacity=\"0.5\" stroke-width=\"4.8\"/>\n",
       "<circle clip-path=\"url(#clip952)\" cx=\"688.153\" cy=\"708.989\" r=\"18\" fill=\"#808080\" fill-rule=\"evenodd\" fill-opacity=\"0.5\" stroke=\"#000000\" stroke-opacity=\"0.5\" stroke-width=\"4.8\"/>\n",
       "<circle clip-path=\"url(#clip952)\" cx=\"709.771\" cy=\"591.906\" r=\"18\" fill=\"#808080\" fill-rule=\"evenodd\" fill-opacity=\"0.5\" stroke=\"#000000\" stroke-opacity=\"0.5\" stroke-width=\"4.8\"/>\n",
       "<circle clip-path=\"url(#clip952)\" cx=\"731.39\" cy=\"619.958\" r=\"18\" fill=\"#808080\" fill-rule=\"evenodd\" fill-opacity=\"0.5\" stroke=\"#000000\" stroke-opacity=\"0.5\" stroke-width=\"4.8\"/>\n",
       "<circle clip-path=\"url(#clip952)\" cx=\"753.008\" cy=\"633.949\" r=\"18\" fill=\"#808080\" fill-rule=\"evenodd\" fill-opacity=\"0.5\" stroke=\"#000000\" stroke-opacity=\"0.5\" stroke-width=\"4.8\"/>\n",
       "<circle clip-path=\"url(#clip952)\" cx=\"774.626\" cy=\"824.803\" r=\"18\" fill=\"#808080\" fill-rule=\"evenodd\" fill-opacity=\"0.5\" stroke=\"#000000\" stroke-opacity=\"0.5\" stroke-width=\"4.8\"/>\n",
       "<circle clip-path=\"url(#clip952)\" cx=\"796.244\" cy=\"520.858\" r=\"18\" fill=\"#808080\" fill-rule=\"evenodd\" fill-opacity=\"0.5\" stroke=\"#000000\" stroke-opacity=\"0.5\" stroke-width=\"4.8\"/>\n",
       "<circle clip-path=\"url(#clip952)\" cx=\"817.863\" cy=\"423.057\" r=\"18\" fill=\"#808080\" fill-rule=\"evenodd\" fill-opacity=\"0.5\" stroke=\"#000000\" stroke-opacity=\"0.5\" stroke-width=\"4.8\"/>\n",
       "<circle clip-path=\"url(#clip952)\" cx=\"839.481\" cy=\"746.79\" r=\"18\" fill=\"#808080\" fill-rule=\"evenodd\" fill-opacity=\"0.5\" stroke=\"#000000\" stroke-opacity=\"0.5\" stroke-width=\"4.8\"/>\n",
       "<circle clip-path=\"url(#clip952)\" cx=\"861.099\" cy=\"501.631\" r=\"18\" fill=\"#808080\" fill-rule=\"evenodd\" fill-opacity=\"0.5\" stroke=\"#000000\" stroke-opacity=\"0.5\" stroke-width=\"4.8\"/>\n",
       "<circle clip-path=\"url(#clip952)\" cx=\"882.717\" cy=\"476.178\" r=\"18\" fill=\"#808080\" fill-rule=\"evenodd\" fill-opacity=\"0.5\" stroke=\"#000000\" stroke-opacity=\"0.5\" stroke-width=\"4.8\"/>\n",
       "<circle clip-path=\"url(#clip952)\" cx=\"904.335\" cy=\"708.548\" r=\"18\" fill=\"#808080\" fill-rule=\"evenodd\" fill-opacity=\"0.5\" stroke=\"#000000\" stroke-opacity=\"0.5\" stroke-width=\"4.8\"/>\n",
       "<circle clip-path=\"url(#clip952)\" cx=\"925.954\" cy=\"563.331\" r=\"18\" fill=\"#808080\" fill-rule=\"evenodd\" fill-opacity=\"0.5\" stroke=\"#000000\" stroke-opacity=\"0.5\" stroke-width=\"4.8\"/>\n",
       "<circle clip-path=\"url(#clip952)\" cx=\"947.572\" cy=\"585.596\" r=\"18\" fill=\"#808080\" fill-rule=\"evenodd\" fill-opacity=\"0.5\" stroke=\"#000000\" stroke-opacity=\"0.5\" stroke-width=\"4.8\"/>\n",
       "<circle clip-path=\"url(#clip952)\" cx=\"969.19\" cy=\"753.327\" r=\"18\" fill=\"#808080\" fill-rule=\"evenodd\" fill-opacity=\"0.5\" stroke=\"#000000\" stroke-opacity=\"0.5\" stroke-width=\"4.8\"/>\n",
       "<circle clip-path=\"url(#clip952)\" cx=\"990.808\" cy=\"470.059\" r=\"18\" fill=\"#808080\" fill-rule=\"evenodd\" fill-opacity=\"0.5\" stroke=\"#000000\" stroke-opacity=\"0.5\" stroke-width=\"4.8\"/>\n",
       "<circle clip-path=\"url(#clip952)\" cx=\"1012.43\" cy=\"574.407\" r=\"18\" fill=\"#808080\" fill-rule=\"evenodd\" fill-opacity=\"0.5\" stroke=\"#000000\" stroke-opacity=\"0.5\" stroke-width=\"4.8\"/>\n",
       "<circle clip-path=\"url(#clip952)\" cx=\"1034.04\" cy=\"104.853\" r=\"18\" fill=\"#808080\" fill-rule=\"evenodd\" fill-opacity=\"0.5\" stroke=\"#000000\" stroke-opacity=\"0.5\" stroke-width=\"4.8\"/>\n",
       "<circle clip-path=\"url(#clip952)\" cx=\"1055.66\" cy=\"502.964\" r=\"18\" fill=\"#808080\" fill-rule=\"evenodd\" fill-opacity=\"0.5\" stroke=\"#000000\" stroke-opacity=\"0.5\" stroke-width=\"4.8\"/>\n",
       "<circle clip-path=\"url(#clip952)\" cx=\"1077.28\" cy=\"428.643\" r=\"18\" fill=\"#808080\" fill-rule=\"evenodd\" fill-opacity=\"0.5\" stroke=\"#000000\" stroke-opacity=\"0.5\" stroke-width=\"4.8\"/>\n",
       "<circle clip-path=\"url(#clip952)\" cx=\"1098.9\" cy=\"116.131\" r=\"18\" fill=\"#808080\" fill-rule=\"evenodd\" fill-opacity=\"0.5\" stroke=\"#000000\" stroke-opacity=\"0.5\" stroke-width=\"4.8\"/>\n",
       "<circle clip-path=\"url(#clip952)\" cx=\"1120.52\" cy=\"276.264\" r=\"18\" fill=\"#808080\" fill-rule=\"evenodd\" fill-opacity=\"0.5\" stroke=\"#000000\" stroke-opacity=\"0.5\" stroke-width=\"4.8\"/>\n",
       "<circle clip-path=\"url(#clip952)\" cx=\"1142.14\" cy=\"399.111\" r=\"18\" fill=\"#808080\" fill-rule=\"evenodd\" fill-opacity=\"0.5\" stroke=\"#000000\" stroke-opacity=\"0.5\" stroke-width=\"4.8\"/>\n",
       "<circle clip-path=\"url(#clip952)\" cx=\"1163.75\" cy=\"657.184\" r=\"18\" fill=\"#808080\" fill-rule=\"evenodd\" fill-opacity=\"0.5\" stroke=\"#000000\" stroke-opacity=\"0.5\" stroke-width=\"4.8\"/>\n",
       "<circle clip-path=\"url(#clip952)\" cx=\"1185.37\" cy=\"667.159\" r=\"18\" fill=\"#808080\" fill-rule=\"evenodd\" fill-opacity=\"0.5\" stroke=\"#000000\" stroke-opacity=\"0.5\" stroke-width=\"4.8\"/>\n",
       "<circle clip-path=\"url(#clip952)\" cx=\"1206.99\" cy=\"556.253\" r=\"18\" fill=\"#808080\" fill-rule=\"evenodd\" fill-opacity=\"0.5\" stroke=\"#000000\" stroke-opacity=\"0.5\" stroke-width=\"4.8\"/>\n",
       "<circle clip-path=\"url(#clip952)\" cx=\"1228.61\" cy=\"265.442\" r=\"18\" fill=\"#808080\" fill-rule=\"evenodd\" fill-opacity=\"0.5\" stroke=\"#000000\" stroke-opacity=\"0.5\" stroke-width=\"4.8\"/>\n",
       "<circle clip-path=\"url(#clip952)\" cx=\"1250.23\" cy=\"584.475\" r=\"18\" fill=\"#808080\" fill-rule=\"evenodd\" fill-opacity=\"0.5\" stroke=\"#000000\" stroke-opacity=\"0.5\" stroke-width=\"4.8\"/>\n",
       "<circle clip-path=\"url(#clip952)\" cx=\"1271.85\" cy=\"449.652\" r=\"18\" fill=\"#808080\" fill-rule=\"evenodd\" fill-opacity=\"0.5\" stroke=\"#000000\" stroke-opacity=\"0.5\" stroke-width=\"4.8\"/>\n",
       "<circle clip-path=\"url(#clip952)\" cx=\"1293.46\" cy=\"312.567\" r=\"18\" fill=\"#808080\" fill-rule=\"evenodd\" fill-opacity=\"0.5\" stroke=\"#000000\" stroke-opacity=\"0.5\" stroke-width=\"4.8\"/>\n",
       "<circle clip-path=\"url(#clip952)\" cx=\"1315.08\" cy=\"185.176\" r=\"18\" fill=\"#808080\" fill-rule=\"evenodd\" fill-opacity=\"0.5\" stroke=\"#000000\" stroke-opacity=\"0.5\" stroke-width=\"4.8\"/>\n",
       "<circle clip-path=\"url(#clip952)\" cx=\"1336.7\" cy=\"523.531\" r=\"18\" fill=\"#808080\" fill-rule=\"evenodd\" fill-opacity=\"0.5\" stroke=\"#000000\" stroke-opacity=\"0.5\" stroke-width=\"4.8\"/>\n",
       "<circle clip-path=\"url(#clip952)\" cx=\"1358.32\" cy=\"616.527\" r=\"18\" fill=\"#808080\" fill-rule=\"evenodd\" fill-opacity=\"0.5\" stroke=\"#000000\" stroke-opacity=\"0.5\" stroke-width=\"4.8\"/>\n",
       "<circle clip-path=\"url(#clip952)\" cx=\"1379.94\" cy=\"249.697\" r=\"18\" fill=\"#808080\" fill-rule=\"evenodd\" fill-opacity=\"0.5\" stroke=\"#000000\" stroke-opacity=\"0.5\" stroke-width=\"4.8\"/>\n",
       "<circle clip-path=\"url(#clip952)\" cx=\"1401.55\" cy=\"558.134\" r=\"18\" fill=\"#808080\" fill-rule=\"evenodd\" fill-opacity=\"0.5\" stroke=\"#000000\" stroke-opacity=\"0.5\" stroke-width=\"4.8\"/>\n",
       "<circle clip-path=\"url(#clip952)\" cx=\"1423.17\" cy=\"669.442\" r=\"18\" fill=\"#808080\" fill-rule=\"evenodd\" fill-opacity=\"0.5\" stroke=\"#000000\" stroke-opacity=\"0.5\" stroke-width=\"4.8\"/>\n",
       "<circle clip-path=\"url(#clip952)\" cx=\"1444.79\" cy=\"853.93\" r=\"18\" fill=\"#808080\" fill-rule=\"evenodd\" fill-opacity=\"0.5\" stroke=\"#000000\" stroke-opacity=\"0.5\" stroke-width=\"4.8\"/>\n",
       "<circle clip-path=\"url(#clip952)\" cx=\"1466.41\" cy=\"423.426\" r=\"18\" fill=\"#808080\" fill-rule=\"evenodd\" fill-opacity=\"0.5\" stroke=\"#000000\" stroke-opacity=\"0.5\" stroke-width=\"4.8\"/>\n",
       "<circle clip-path=\"url(#clip952)\" cx=\"1488.03\" cy=\"574.84\" r=\"18\" fill=\"#808080\" fill-rule=\"evenodd\" fill-opacity=\"0.5\" stroke=\"#000000\" stroke-opacity=\"0.5\" stroke-width=\"4.8\"/>\n",
       "<circle clip-path=\"url(#clip952)\" cx=\"1509.65\" cy=\"719.398\" r=\"18\" fill=\"#808080\" fill-rule=\"evenodd\" fill-opacity=\"0.5\" stroke=\"#000000\" stroke-opacity=\"0.5\" stroke-width=\"4.8\"/>\n",
       "<circle clip-path=\"url(#clip952)\" cx=\"1531.26\" cy=\"568.072\" r=\"18\" fill=\"#808080\" fill-rule=\"evenodd\" fill-opacity=\"0.5\" stroke=\"#000000\" stroke-opacity=\"0.5\" stroke-width=\"4.8\"/>\n",
       "<circle clip-path=\"url(#clip952)\" cx=\"1552.88\" cy=\"467.18\" r=\"18\" fill=\"#808080\" fill-rule=\"evenodd\" fill-opacity=\"0.5\" stroke=\"#000000\" stroke-opacity=\"0.5\" stroke-width=\"4.8\"/>\n",
       "<circle clip-path=\"url(#clip952)\" cx=\"1574.5\" cy=\"355.875\" r=\"18\" fill=\"#808080\" fill-rule=\"evenodd\" fill-opacity=\"0.5\" stroke=\"#000000\" stroke-opacity=\"0.5\" stroke-width=\"4.8\"/>\n",
       "<circle clip-path=\"url(#clip952)\" cx=\"1596.12\" cy=\"692.967\" r=\"18\" fill=\"#808080\" fill-rule=\"evenodd\" fill-opacity=\"0.5\" stroke=\"#000000\" stroke-opacity=\"0.5\" stroke-width=\"4.8\"/>\n",
       "<circle clip-path=\"url(#clip952)\" cx=\"1617.74\" cy=\"609.037\" r=\"18\" fill=\"#808080\" fill-rule=\"evenodd\" fill-opacity=\"0.5\" stroke=\"#000000\" stroke-opacity=\"0.5\" stroke-width=\"4.8\"/>\n",
       "<circle clip-path=\"url(#clip952)\" cx=\"1639.35\" cy=\"845.474\" r=\"18\" fill=\"#808080\" fill-rule=\"evenodd\" fill-opacity=\"0.5\" stroke=\"#000000\" stroke-opacity=\"0.5\" stroke-width=\"4.8\"/>\n",
       "<circle clip-path=\"url(#clip952)\" cx=\"1660.97\" cy=\"733.813\" r=\"18\" fill=\"#808080\" fill-rule=\"evenodd\" fill-opacity=\"0.5\" stroke=\"#000000\" stroke-opacity=\"0.5\" stroke-width=\"4.8\"/>\n",
       "<circle clip-path=\"url(#clip952)\" cx=\"1682.59\" cy=\"322.35\" r=\"18\" fill=\"#808080\" fill-rule=\"evenodd\" fill-opacity=\"0.5\" stroke=\"#000000\" stroke-opacity=\"0.5\" stroke-width=\"4.8\"/>\n",
       "<circle clip-path=\"url(#clip952)\" cx=\"1704.21\" cy=\"188.743\" r=\"18\" fill=\"#808080\" fill-rule=\"evenodd\" fill-opacity=\"0.5\" stroke=\"#000000\" stroke-opacity=\"0.5\" stroke-width=\"4.8\"/>\n",
       "<circle clip-path=\"url(#clip952)\" cx=\"1725.83\" cy=\"682.11\" r=\"18\" fill=\"#808080\" fill-rule=\"evenodd\" fill-opacity=\"0.5\" stroke=\"#000000\" stroke-opacity=\"0.5\" stroke-width=\"4.8\"/>\n",
       "<circle clip-path=\"url(#clip952)\" cx=\"1747.45\" cy=\"498.105\" r=\"18\" fill=\"#808080\" fill-rule=\"evenodd\" fill-opacity=\"0.5\" stroke=\"#000000\" stroke-opacity=\"0.5\" stroke-width=\"4.8\"/>\n",
       "<circle clip-path=\"url(#clip952)\" cx=\"1769.06\" cy=\"704.654\" r=\"18\" fill=\"#808080\" fill-rule=\"evenodd\" fill-opacity=\"0.5\" stroke=\"#000000\" stroke-opacity=\"0.5\" stroke-width=\"4.8\"/>\n",
       "<circle clip-path=\"url(#clip952)\" cx=\"1790.68\" cy=\"171.862\" r=\"18\" fill=\"#808080\" fill-rule=\"evenodd\" fill-opacity=\"0.5\" stroke=\"#000000\" stroke-opacity=\"0.5\" stroke-width=\"4.8\"/>\n",
       "<circle clip-path=\"url(#clip952)\" cx=\"1812.3\" cy=\"543.859\" r=\"18\" fill=\"#808080\" fill-rule=\"evenodd\" fill-opacity=\"0.5\" stroke=\"#000000\" stroke-opacity=\"0.5\" stroke-width=\"4.8\"/>\n",
       "<circle clip-path=\"url(#clip952)\" cx=\"1833.92\" cy=\"721.94\" r=\"18\" fill=\"#808080\" fill-rule=\"evenodd\" fill-opacity=\"0.5\" stroke=\"#000000\" stroke-opacity=\"0.5\" stroke-width=\"4.8\"/>\n",
       "<circle clip-path=\"url(#clip952)\" cx=\"1855.54\" cy=\"631.154\" r=\"18\" fill=\"#808080\" fill-rule=\"evenodd\" fill-opacity=\"0.5\" stroke=\"#000000\" stroke-opacity=\"0.5\" stroke-width=\"4.8\"/>\n",
       "<circle clip-path=\"url(#clip952)\" cx=\"1877.16\" cy=\"456.498\" r=\"18\" fill=\"#808080\" fill-rule=\"evenodd\" fill-opacity=\"0.5\" stroke=\"#000000\" stroke-opacity=\"0.5\" stroke-width=\"4.8\"/>\n",
       "<circle clip-path=\"url(#clip952)\" cx=\"1898.77\" cy=\"669.813\" r=\"18\" fill=\"#808080\" fill-rule=\"evenodd\" fill-opacity=\"0.5\" stroke=\"#000000\" stroke-opacity=\"0.5\" stroke-width=\"4.8\"/>\n",
       "<circle clip-path=\"url(#clip952)\" cx=\"1920.39\" cy=\"694.437\" r=\"18\" fill=\"#808080\" fill-rule=\"evenodd\" fill-opacity=\"0.5\" stroke=\"#000000\" stroke-opacity=\"0.5\" stroke-width=\"4.8\"/>\n",
       "<circle clip-path=\"url(#clip952)\" cx=\"1942.01\" cy=\"492.832\" r=\"18\" fill=\"#808080\" fill-rule=\"evenodd\" fill-opacity=\"0.5\" stroke=\"#000000\" stroke-opacity=\"0.5\" stroke-width=\"4.8\"/>\n",
       "<circle clip-path=\"url(#clip952)\" cx=\"1963.63\" cy=\"434.677\" r=\"18\" fill=\"#808080\" fill-rule=\"evenodd\" fill-opacity=\"0.5\" stroke=\"#000000\" stroke-opacity=\"0.5\" stroke-width=\"4.8\"/>\n",
       "<circle clip-path=\"url(#clip952)\" cx=\"1985.25\" cy=\"708.25\" r=\"18\" fill=\"#808080\" fill-rule=\"evenodd\" fill-opacity=\"0.5\" stroke=\"#000000\" stroke-opacity=\"0.5\" stroke-width=\"4.8\"/>\n",
       "<circle clip-path=\"url(#clip952)\" cx=\"2006.86\" cy=\"542.133\" r=\"18\" fill=\"#808080\" fill-rule=\"evenodd\" fill-opacity=\"0.5\" stroke=\"#000000\" stroke-opacity=\"0.5\" stroke-width=\"4.8\"/>\n",
       "<circle clip-path=\"url(#clip952)\" cx=\"2028.48\" cy=\"538.64\" r=\"18\" fill=\"#808080\" fill-rule=\"evenodd\" fill-opacity=\"0.5\" stroke=\"#000000\" stroke-opacity=\"0.5\" stroke-width=\"4.8\"/>\n",
       "<circle clip-path=\"url(#clip952)\" cx=\"2050.1\" cy=\"347.864\" r=\"18\" fill=\"#808080\" fill-rule=\"evenodd\" fill-opacity=\"0.5\" stroke=\"#000000\" stroke-opacity=\"0.5\" stroke-width=\"4.8\"/>\n",
       "<circle clip-path=\"url(#clip952)\" cx=\"2071.72\" cy=\"272.932\" r=\"18\" fill=\"#808080\" fill-rule=\"evenodd\" fill-opacity=\"0.5\" stroke=\"#000000\" stroke-opacity=\"0.5\" stroke-width=\"4.8\"/>\n",
       "<circle clip-path=\"url(#clip952)\" cx=\"2093.34\" cy=\"267.297\" r=\"18\" fill=\"#808080\" fill-rule=\"evenodd\" fill-opacity=\"0.5\" stroke=\"#000000\" stroke-opacity=\"0.5\" stroke-width=\"4.8\"/>\n",
       "<circle clip-path=\"url(#clip952)\" cx=\"2114.96\" cy=\"323.087\" r=\"18\" fill=\"#808080\" fill-rule=\"evenodd\" fill-opacity=\"0.5\" stroke=\"#000000\" stroke-opacity=\"0.5\" stroke-width=\"4.8\"/>\n",
       "<circle clip-path=\"url(#clip952)\" cx=\"2136.57\" cy=\"331.92\" r=\"18\" fill=\"#808080\" fill-rule=\"evenodd\" fill-opacity=\"0.5\" stroke=\"#000000\" stroke-opacity=\"0.5\" stroke-width=\"4.8\"/>\n",
       "<circle clip-path=\"url(#clip952)\" cx=\"2158.19\" cy=\"322.182\" r=\"18\" fill=\"#808080\" fill-rule=\"evenodd\" fill-opacity=\"0.5\" stroke=\"#000000\" stroke-opacity=\"0.5\" stroke-width=\"4.8\"/>\n",
       "<circle clip-path=\"url(#clip952)\" cx=\"2179.81\" cy=\"375.287\" r=\"18\" fill=\"#808080\" fill-rule=\"evenodd\" fill-opacity=\"0.5\" stroke=\"#000000\" stroke-opacity=\"0.5\" stroke-width=\"4.8\"/>\n",
       "<circle clip-path=\"url(#clip952)\" cx=\"2201.43\" cy=\"599.091\" r=\"18\" fill=\"#808080\" fill-rule=\"evenodd\" fill-opacity=\"0.5\" stroke=\"#000000\" stroke-opacity=\"0.5\" stroke-width=\"4.8\"/>\n",
       "<circle clip-path=\"url(#clip952)\" cx=\"2223.05\" cy=\"313.04\" r=\"18\" fill=\"#808080\" fill-rule=\"evenodd\" fill-opacity=\"0.5\" stroke=\"#000000\" stroke-opacity=\"0.5\" stroke-width=\"4.8\"/>\n",
       "<circle clip-path=\"url(#clip952)\" cx=\"2244.66\" cy=\"386.39\" r=\"18\" fill=\"#808080\" fill-rule=\"evenodd\" fill-opacity=\"0.5\" stroke=\"#000000\" stroke-opacity=\"0.5\" stroke-width=\"4.8\"/>\n",
       "<circle clip-path=\"url(#clip952)\" cx=\"2266.28\" cy=\"47.2441\" r=\"18\" fill=\"#808080\" fill-rule=\"evenodd\" fill-opacity=\"0.5\" stroke=\"#000000\" stroke-opacity=\"0.5\" stroke-width=\"4.8\"/>\n",
       "<circle clip-path=\"url(#clip952)\" cx=\"2287.9\" cy=\"709.561\" r=\"18\" fill=\"#808080\" fill-rule=\"evenodd\" fill-opacity=\"0.5\" stroke=\"#000000\" stroke-opacity=\"0.5\" stroke-width=\"4.8\"/>\n",
       "<circle clip-path=\"url(#clip952)\" cx=\"2309.52\" cy=\"394.738\" r=\"18\" fill=\"#808080\" fill-rule=\"evenodd\" fill-opacity=\"0.5\" stroke=\"#000000\" stroke-opacity=\"0.5\" stroke-width=\"4.8\"/>\n",
       "<circle clip-path=\"url(#clip952)\" cx=\"2331.14\" cy=\"157.455\" r=\"18\" fill=\"#808080\" fill-rule=\"evenodd\" fill-opacity=\"0.5\" stroke=\"#000000\" stroke-opacity=\"0.5\" stroke-width=\"4.8\"/>\n",
       "<circle clip-path=\"url(#clip952)\" cx=\"2352.76\" cy=\"714.999\" r=\"18\" fill=\"#808080\" fill-rule=\"evenodd\" fill-opacity=\"0.5\" stroke=\"#000000\" stroke-opacity=\"0.5\" stroke-width=\"4.8\"/>\n",
       "<path clip-path=\"url(#clip950)\" d=\"\n",
       "M1501.93 376.534 L2281.42 376.534 L2281.42 74.1336 L1501.93 74.1336  Z\n",
       "  \" fill=\"#ffffff\" fill-rule=\"evenodd\" fill-opacity=\"1\"/>\n",
       "<polyline clip-path=\"url(#clip950)\" style=\"stroke:#000000; stroke-width:4; stroke-opacity:1; fill:none\" points=\"\n",
       "  1501.93,376.534 2281.42,376.534 2281.42,74.1336 1501.93,74.1336 1501.93,376.534 \n",
       "  \"/>\n",
       "<polyline clip-path=\"url(#clip950)\" style=\"stroke:#008080; stroke-width:5; stroke-opacity:1; fill:none\" points=\"\n",
       "  1525.71,149.734 1668.39,149.734 \n",
       "  \"/>\n",
       "<g clip-path=\"url(#clip950)\">\n",
       "<text style=\"fill:#000000; fill-opacity:1; font-family:Arial,Helvetica Neue,Helvetica,sans-serif; font-size:59px; text-anchor:start;\" transform=\"rotate(0, 1692.17, 171.234)\" x=\"1692.17\" y=\"171.234\">True</text>\n",
       "</g>\n",
       "<polyline clip-path=\"url(#clip950)\" style=\"stroke:#ee4000; stroke-width:5; stroke-opacity:1; fill:none\" stroke-dasharray=\"20, 13\" points=\"\n",
       "  1525.71,225.334 1668.39,225.334 \n",
       "  \"/>\n",
       "<g clip-path=\"url(#clip950)\">\n",
       "<text style=\"fill:#000000; fill-opacity:1; font-family:Arial,Helvetica Neue,Helvetica,sans-serif; font-size:59px; text-anchor:start;\" transform=\"rotate(0, 1692.17, 246.834)\" x=\"1692.17\" y=\"246.834\">Stochastic Map filter</text>\n",
       "</g>\n",
       "<circle clip-path=\"url(#clip950)\" cx=\"1597.05\" cy=\"300.934\" r=\"28\" fill=\"#808080\" fill-rule=\"evenodd\" fill-opacity=\"0.5\" stroke=\"#000000\" stroke-opacity=\"0.5\" stroke-width=\"7.68\"/>\n",
       "<g clip-path=\"url(#clip950)\">\n",
       "<text style=\"fill:#000000; fill-opacity:1; font-family:Arial,Helvetica Neue,Helvetica,sans-serif; font-size:59px; text-anchor:start;\" transform=\"rotate(0, 1692.17, 322.434)\" x=\"1692.17\" y=\"322.434\">Observation</text>\n",
       "</g>\n",
       "<path clip-path=\"url(#clip950)\" d=\"\n",
       "M212.552 1920.6 L2352.76 1920.6 L2352.76 1113.91 L212.552 1113.91  Z\n",
       "  \" fill=\"#ffffff\" fill-rule=\"evenodd\" fill-opacity=\"1\"/>\n",
       "<defs>\n",
       "  <clipPath id=\"clip953\">\n",
       "    <rect x=\"212\" y=\"1113\" width=\"2141\" height=\"808\"/>\n",
       "  </clipPath>\n",
       "</defs>\n",
       "<polyline clip-path=\"url(#clip950)\" style=\"stroke:#000000; stroke-width:4; stroke-opacity:1; fill:none\" points=\"\n",
       "  212.552,1920.6 2352.76,1920.6 \n",
       "  \"/>\n",
       "<polyline clip-path=\"url(#clip950)\" style=\"stroke:#000000; stroke-width:4; stroke-opacity:1; fill:none\" points=\"\n",
       "  640.593,1920.6 640.593,1910.92 \n",
       "  \"/>\n",
       "<polyline clip-path=\"url(#clip950)\" style=\"stroke:#000000; stroke-width:4; stroke-opacity:1; fill:none\" points=\"\n",
       "  1072.96,1920.6 1072.96,1910.92 \n",
       "  \"/>\n",
       "<polyline clip-path=\"url(#clip950)\" style=\"stroke:#000000; stroke-width:4; stroke-opacity:1; fill:none\" points=\"\n",
       "  1505.32,1920.6 1505.32,1910.92 \n",
       "  \"/>\n",
       "<polyline clip-path=\"url(#clip950)\" style=\"stroke:#000000; stroke-width:4; stroke-opacity:1; fill:none\" points=\"\n",
       "  1937.69,1920.6 1937.69,1910.92 \n",
       "  \"/>\n",
       "<g clip-path=\"url(#clip950)\">\n",
       "<text style=\"fill:#000000; fill-opacity:1; font-family:Arial,Helvetica Neue,Helvetica,sans-serif; font-size:53px; text-anchor:middle;\" transform=\"rotate(0, 640.593, 1993)\" x=\"640.593\" y=\"1993\">20</text>\n",
       "</g>\n",
       "<g clip-path=\"url(#clip950)\">\n",
       "<text style=\"fill:#000000; fill-opacity:1; font-family:Arial,Helvetica Neue,Helvetica,sans-serif; font-size:53px; text-anchor:middle;\" transform=\"rotate(0, 1072.96, 1993)\" x=\"1072.96\" y=\"1993\">40</text>\n",
       "</g>\n",
       "<g clip-path=\"url(#clip950)\">\n",
       "<text style=\"fill:#000000; fill-opacity:1; font-family:Arial,Helvetica Neue,Helvetica,sans-serif; font-size:53px; text-anchor:middle;\" transform=\"rotate(0, 1505.32, 1993)\" x=\"1505.32\" y=\"1993\">60</text>\n",
       "</g>\n",
       "<g clip-path=\"url(#clip950)\">\n",
       "<text style=\"fill:#000000; fill-opacity:1; font-family:Arial,Helvetica Neue,Helvetica,sans-serif; font-size:53px; text-anchor:middle;\" transform=\"rotate(0, 1937.69, 1993)\" x=\"1937.69\" y=\"1993\">80</text>\n",
       "</g>\n",
       "<g clip-path=\"url(#clip950)\">\n",
       "<image width=\"23\" height=\"45\" xlink:href=\"data:image/png;base64,\n",
       "iVBORw0KGgoAAAANSUhEUgAAABcAAAAtCAYAAABFy/BrAAABxElEQVRYhbWX3a3CMAyFnTtB6AgZ\n",
       "oawQMUHECFkBRugIzJARgBHKBmUFr+D7QhBt82OHYskPRe6Rc/KFuEBEIE1EJO89aa3JOUe5OrEw\n",
       "EYExhgDgnZuJI+JMuCT+B8K43+/84m8t2cyWlCWb2XI+n1e/Oeey9SLxlN/W2vwLEltgYYfWOmtJ\n",
       "Ey3srr/tfJqmYuds4ev1yqZELN73vVhcvZZbDaXUqpCIVPElRKRUV9+mtZZgGIbNhWMqIoLH40GI\n",
       "mF3d4XCYPWutIYSQre+6Dvb7vWpC0Htf3Uw2LUtxRGSJV0/o7XZbUbLb7cqUxPgF32zOm/h+RdGW\n",
       "0+m0Evbec3Tr4uL/72VIKDHGsP1m0dLcdanz1GXM5bvaecpvNt+1ziXziej4S+cTkS2p+UTCd4yk\n",
       "+Nd8x/gF3yLOm7rmds7lexxHAgAKIVCSlpb5JKZzbjYsrQqstc3iy/pVgda6STyejb7v0+IpS0pf\n",
       "a0uvrbWz2iotxpgqFMfjEQBgPW7USLlcLsXOQwjJrpOeLy/kYRiy4tGO3CGrcv65QZ8Zx8DS1wXr\n",
       "EOVWZ4wpHrDkhhKRmqbp/ayUos/sug7GcYTn86lKF8g/DrGGHV47F+QAAAAASUVORK5CYII=\n",
       "\" transform=\"translate(1271, 2027)\"/>\n",
       "</g>\n",
       "<polyline clip-path=\"url(#clip950)\" style=\"stroke:#000000; stroke-width:4; stroke-opacity:1; fill:none\" points=\"\n",
       "  212.552,1920.6 212.552,1113.91 \n",
       "  \"/>\n",
       "<polyline clip-path=\"url(#clip950)\" style=\"stroke:#000000; stroke-width:4; stroke-opacity:1; fill:none\" points=\"\n",
       "  212.552,1872.38 238.235,1872.38 \n",
       "  \"/>\n",
       "<polyline clip-path=\"url(#clip950)\" style=\"stroke:#000000; stroke-width:4; stroke-opacity:1; fill:none\" points=\"\n",
       "  212.552,1701.28 238.235,1701.28 \n",
       "  \"/>\n",
       "<polyline clip-path=\"url(#clip950)\" style=\"stroke:#000000; stroke-width:4; stroke-opacity:1; fill:none\" points=\"\n",
       "  212.552,1530.18 238.235,1530.18 \n",
       "  \"/>\n",
       "<polyline clip-path=\"url(#clip950)\" style=\"stroke:#000000; stroke-width:4; stroke-opacity:1; fill:none\" points=\"\n",
       "  212.552,1359.08 238.235,1359.08 \n",
       "  \"/>\n",
       "<polyline clip-path=\"url(#clip950)\" style=\"stroke:#000000; stroke-width:4; stroke-opacity:1; fill:none\" points=\"\n",
       "  212.552,1187.98 238.235,1187.98 \n",
       "  \"/>\n",
       "<g clip-path=\"url(#clip950)\">\n",
       "<text style=\"fill:#000000; fill-opacity:1; font-family:Arial,Helvetica Neue,Helvetica,sans-serif; font-size:53px; text-anchor:end;\" transform=\"rotate(0, 164.552, 1891.88)\" x=\"164.552\" y=\"1891.88\">−20</text>\n",
       "</g>\n",
       "<g clip-path=\"url(#clip950)\">\n",
       "<text style=\"fill:#000000; fill-opacity:1; font-family:Arial,Helvetica Neue,Helvetica,sans-serif; font-size:53px; text-anchor:end;\" transform=\"rotate(0, 164.552, 1720.78)\" x=\"164.552\" y=\"1720.78\">−10</text>\n",
       "</g>\n",
       "<g clip-path=\"url(#clip950)\">\n",
       "<text style=\"fill:#000000; fill-opacity:1; font-family:Arial,Helvetica Neue,Helvetica,sans-serif; font-size:53px; text-anchor:end;\" transform=\"rotate(0, 164.552, 1549.68)\" x=\"164.552\" y=\"1549.68\">0</text>\n",
       "</g>\n",
       "<g clip-path=\"url(#clip950)\">\n",
       "<text style=\"fill:#000000; fill-opacity:1; font-family:Arial,Helvetica Neue,Helvetica,sans-serif; font-size:53px; text-anchor:end;\" transform=\"rotate(0, 164.552, 1378.58)\" x=\"164.552\" y=\"1378.58\">10</text>\n",
       "</g>\n",
       "<g clip-path=\"url(#clip950)\">\n",
       "<text style=\"fill:#000000; fill-opacity:1; font-family:Arial,Helvetica Neue,Helvetica,sans-serif; font-size:53px; text-anchor:end;\" transform=\"rotate(0, 164.552, 1207.48)\" x=\"164.552\" y=\"1207.48\">20</text>\n",
       "</g>\n",
       "<g clip-path=\"url(#clip950)\">\n",
       "<image width=\"42\" height=\"64\" xlink:href=\"data:image/png;base64,\n",
       "iVBORw0KGgoAAAANSUhEUgAAACoAAABACAYAAABsrOVnAAAD2UlEQVRoge1a23GrMBA98twCICWQ\n",
       "VKBQAiUQl0A6wC2QDkgLuAMlJZBUYFMCdgd7P2wRWeahl5N8ZGfOTOxY4rBanV1WMCKCjx0OB3p/\n",
       "f0fbtjgej+CcI8sy3N/fM9M5ttstRVGENE0Rx/H4OCJyRtM0BGAUVVWR6TxlWQ7jOOdUFAUJIWi3\n",
       "2w1zBCeog3NOfd8vkhZCUFVV03PZkhRCGJOUiKLI2LuTjrAlaktSRdu2xoT1sf9MAx4AXl5eRnde\n",
       "FEXIsgwA8Pn5ia7rRsenaSpJ2JvpHdZ1bb1Z2rYdjVmnlTMlyjm/GGg6brfbkT42z/PF8c5EbTw5\n",
       "5d0oioYLCyFm5/Em6kJSou/7i4urOvmriEpkWbYYQl5EbfXQ5MbLshyd04tolmXBiBJdbtAloisb\n",
       "Kev73ubni/bx8TEUIPv9fl5gfyJGpzyrrhg0j7Lzl4vGGKPzjRmXbzamzy8/SzNees55WGaa9X0P\n",
       "zjkYY/T6+nrtPdPlkVXTmOALIagsy0URX4Kus3DZ9URfuTtJkslYcs1cKtkkScKVeTKr6BOqNxHS\n",
       "s1bydA4VVpYlHh4ergIeOJV8vhbHMev7HkmSXFzYCaPLA1DTNN4eHfOssTzN2X6/p+PxiMfHx5tI\n",
       "19vbWxii32HWMfpT9kc0tP0RDW0D0cPhQJvNhhhjxBijzWbzq+RgkKexLAPcrqyztRUAzHlvqjsy\n",
       "Z09PT+Olmo/J8m2uQ2eb+tSnTABUFIV3WkVRFAMZ/QLwqIaqqroo13xrgKG4kF/o7ReT3uYS1NVy\n",
       "nQ9jy9s0DeV57l0Eq5ArlyTJbIdkkqj0YChCBp5xut4qTdOgm3PJ6roG4KAmMi5DPEKYQhbEU+2c\n",
       "0ZUgOvUwcYOWTcgQGP7I85xwboT5PvaaQEqhNVGiy/Mem4MBF8ijGieiMgx04U+ShJqmCaKpElJb\n",
       "TX9/VeZ1XXfVteu6Duv1Gnd3d3h+fqbtduudx9u2tRsgGes9dhtEUUR1XVsJOVw3kwvBMeR5TnVd\n",
       "zxJQjxKtiKqb6Dthoy5X3tQ3jTxMdQ2LKZgejA1EpX7aaqdsNX4HSaJARYkQ4up0bgo2aVPbfG7V\n",
       "zBJkqagTdZ0PMvZCE1UJqwkkyzKnxHHxKHJrqG1EW7Irec6+eM4TwOI4ZlVVAQDW67XdYKIvAXZ5\n",
       "RHCOOdgdWV4MdJENH6JwSaFSE13lwxZeZZ7UQpM3FHxhW+ZdfaFqXwjvQtNR2YiQ76g4E1WXBTgd\n",
       "cPkUzDpR4PT0YCuLs//U38xxebFgjKiKIESld9UeUkiiNirjFX8mGMv3LlJ4c6JTZG3j/j8yvmRB\n",
       "ZnRu5wAAAABJRU5ErkJggg==\n",
       "\" transform=\"translate(-17, 1485)\"/>\n",
       "</g>\n",
       "<polyline clip-path=\"url(#clip953)\" style=\"stroke:#008080; stroke-width:12; stroke-opacity:1; fill:none\" points=\"\n",
       "  212.552,1866.31 234.171,1401.15 255.789,1386.11 277.407,1369.09 299.025,1416.49 320.644,1353.59 342.262,1400.78 363.88,1403.71 385.498,1352.33 407.116,1437.54 \n",
       "  428.735,1329.47 450.353,1423.68 471.971,1388.34 493.589,1394.86 515.207,1450.35 536.826,1411.48 558.444,1360.95 580.062,1573.44 601.68,1529.39 623.299,1652.8 \n",
       "  644.917,1722.55 666.535,1645.38 688.153,1652.62 709.771,1679.04 731.39,1594.99 753.008,1661.66 774.626,1667.42 796.244,1482.04 817.863,1492.13 839.481,1812.29 \n",
       "  861.099,1511.54 882.717,1630.81 904.335,1762.82 925.954,1569.69 947.572,1740.94 969.19,1576.14 990.808,1585.4 1012.43,1651.77 1034.04,1181.57 1055.66,1521.16 \n",
       "  1077.28,1449.86 1098.9,1234.2 1120.52,1570.15 1142.14,1520.74 1163.75,1706.39 1185.37,1566.87 1206.99,1580.6 1228.61,1318.54 1250.23,1543.82 1271.85,1451.68 \n",
       "  1293.46,1322.42 1315.08,1514.05 1336.7,1587.88 1358.32,1707.85 1379.94,1228.1 1401.55,1565.8 1423.17,1720.13 1444.79,1782.84 1466.41,1530.89 1488.03,1637.43 \n",
       "  1509.65,1769.24 1531.26,1473.93 1552.88,1446.13 1574.5,1443.83 1596.12,1606.44 1617.74,1640.91 1639.35,1755.83 1660.97,1477.58 1682.59,1428.68 1704.21,1191.13 \n",
       "  1725.83,1503.55 1747.45,1595.52 1769.06,1803.5 1790.68,1146.91 1812.3,1584.17 1833.92,1807.93 1855.54,1509.91 1877.16,1598.59 1898.77,1787.16 1920.39,1531.51 \n",
       "  1942.01,1568.51 1963.63,1492.28 1985.25,1760.96 2006.86,1554.31 2028.48,1531.42 2050.1,1396.2 2071.72,1422.04 2093.34,1353.03 2114.96,1470.45 2136.57,1314.95 \n",
       "  2158.19,1504.11 2179.81,1434.74 2201.43,1651.45 2223.05,1478.21 2244.66,1408.84 2266.28,1283.93 2287.9,1498.14 2309.52,1426.4 2331.14,1234.77 2352.76,1530.9 \n",
       "  \n",
       "  \"/>\n",
       "<polyline clip-path=\"url(#clip953)\" style=\"stroke:#ee4000; stroke-width:12; stroke-opacity:1; fill:none\" stroke-dasharray=\"48, 30\" points=\"\n",
       "  212.552,1878.34 234.171,1402.69 255.789,1386.52 277.407,1367.81 299.025,1419.98 320.644,1353.44 342.262,1402.99 363.88,1405.4 385.498,1352.93 407.116,1441.42 \n",
       "  428.735,1329.56 450.353,1436.24 471.971,1368.16 493.589,1392.32 515.207,1445.92 536.826,1409.44 558.444,1336.11 580.062,1574.7 601.68,1532.5 623.299,1641.56 \n",
       "  644.917,1732.52 666.535,1637.78 688.153,1660.31 709.771,1682.2 731.39,1598.66 753.008,1660.04 774.626,1663.71 796.244,1483.52 817.863,1473.78 839.481,1809.59 \n",
       "  861.099,1515.39 882.717,1628.57 904.335,1768.16 925.954,1565.95 947.572,1720.16 969.19,1578.71 990.808,1585.65 1012.43,1673.67 1034.04,1177.5 1055.66,1520.38 \n",
       "  1077.28,1454.71 1098.9,1235.73 1120.52,1560.03 1142.14,1514.89 1163.75,1703.99 1185.37,1574.31 1206.99,1596.37 1228.61,1319.33 1250.23,1542.51 1271.85,1452.25 \n",
       "  1293.46,1335.76 1315.08,1506.54 1336.7,1587.2 1358.32,1682.19 1379.94,1215.88 1401.55,1565.65 1423.17,1725.66 1444.79,1786.4 1466.41,1531.64 1488.03,1631.66 \n",
       "  1509.65,1752.7 1531.26,1471.87 1552.88,1447.11 1574.5,1398.66 1596.12,1604.95 1617.74,1633.78 1639.35,1720.26 1660.97,1494.24 1682.59,1411.13 1704.21,1202.92 \n",
       "  1725.83,1503.84 1747.45,1597.47 1769.06,1788.83 1790.68,1123.25 1812.3,1596.75 1833.92,1807.73 1855.54,1509.18 1877.16,1606.9 1898.77,1781.94 1920.39,1540.51 \n",
       "  1942.01,1570.91 1963.63,1513.62 1985.25,1758.67 2006.86,1548.58 2028.48,1505.57 2050.1,1397.85 2071.72,1427.36 2093.34,1355.14 2114.96,1474.25 2136.57,1320.29 \n",
       "  2158.19,1505.37 2179.81,1436.57 2201.43,1690.08 2223.05,1481.36 2244.66,1425.46 2266.28,1280.51 2287.9,1502.17 2309.52,1412.02 2331.14,1230.39 2352.76,1520.17 \n",
       "  \n",
       "  \"/>\n",
       "<circle clip-path=\"url(#clip953)\" cx=\"212.552\" cy=\"1920.6\" r=\"18\" fill=\"#808080\" fill-rule=\"evenodd\" fill-opacity=\"0.5\" stroke=\"#000000\" stroke-opacity=\"0.5\" stroke-width=\"4.8\"/>\n",
       "<circle clip-path=\"url(#clip953)\" cx=\"234.171\" cy=\"1435\" r=\"18\" fill=\"#808080\" fill-rule=\"evenodd\" fill-opacity=\"0.5\" stroke=\"#000000\" stroke-opacity=\"0.5\" stroke-width=\"4.8\"/>\n",
       "<circle clip-path=\"url(#clip953)\" cx=\"255.789\" cy=\"1402.02\" r=\"18\" fill=\"#808080\" fill-rule=\"evenodd\" fill-opacity=\"0.5\" stroke=\"#000000\" stroke-opacity=\"0.5\" stroke-width=\"4.8\"/>\n",
       "<circle clip-path=\"url(#clip953)\" cx=\"277.407\" cy=\"1337.57\" r=\"18\" fill=\"#808080\" fill-rule=\"evenodd\" fill-opacity=\"0.5\" stroke=\"#000000\" stroke-opacity=\"0.5\" stroke-width=\"4.8\"/>\n",
       "<circle clip-path=\"url(#clip953)\" cx=\"299.025\" cy=\"1422.97\" r=\"18\" fill=\"#808080\" fill-rule=\"evenodd\" fill-opacity=\"0.5\" stroke=\"#000000\" stroke-opacity=\"0.5\" stroke-width=\"4.8\"/>\n",
       "<circle clip-path=\"url(#clip953)\" cx=\"320.644\" cy=\"1402.93\" r=\"18\" fill=\"#808080\" fill-rule=\"evenodd\" fill-opacity=\"0.5\" stroke=\"#000000\" stroke-opacity=\"0.5\" stroke-width=\"4.8\"/>\n",
       "<circle clip-path=\"url(#clip953)\" cx=\"342.262\" cy=\"1315.81\" r=\"18\" fill=\"#808080\" fill-rule=\"evenodd\" fill-opacity=\"0.5\" stroke=\"#000000\" stroke-opacity=\"0.5\" stroke-width=\"4.8\"/>\n",
       "<circle clip-path=\"url(#clip953)\" cx=\"363.88\" cy=\"1384.05\" r=\"18\" fill=\"#808080\" fill-rule=\"evenodd\" fill-opacity=\"0.5\" stroke=\"#000000\" stroke-opacity=\"0.5\" stroke-width=\"4.8\"/>\n",
       "<circle clip-path=\"url(#clip953)\" cx=\"385.498\" cy=\"1397.93\" r=\"18\" fill=\"#808080\" fill-rule=\"evenodd\" fill-opacity=\"0.5\" stroke=\"#000000\" stroke-opacity=\"0.5\" stroke-width=\"4.8\"/>\n",
       "<circle clip-path=\"url(#clip953)\" cx=\"407.116\" cy=\"1438.87\" r=\"18\" fill=\"#808080\" fill-rule=\"evenodd\" fill-opacity=\"0.5\" stroke=\"#000000\" stroke-opacity=\"0.5\" stroke-width=\"4.8\"/>\n",
       "<circle clip-path=\"url(#clip953)\" cx=\"428.735\" cy=\"1363.65\" r=\"18\" fill=\"#808080\" fill-rule=\"evenodd\" fill-opacity=\"0.5\" stroke=\"#000000\" stroke-opacity=\"0.5\" stroke-width=\"4.8\"/>\n",
       "<circle clip-path=\"url(#clip953)\" cx=\"450.353\" cy=\"1398.95\" r=\"18\" fill=\"#808080\" fill-rule=\"evenodd\" fill-opacity=\"0.5\" stroke=\"#000000\" stroke-opacity=\"0.5\" stroke-width=\"4.8\"/>\n",
       "<circle clip-path=\"url(#clip953)\" cx=\"471.971\" cy=\"1348.81\" r=\"18\" fill=\"#808080\" fill-rule=\"evenodd\" fill-opacity=\"0.5\" stroke=\"#000000\" stroke-opacity=\"0.5\" stroke-width=\"4.8\"/>\n",
       "<circle clip-path=\"url(#clip953)\" cx=\"493.589\" cy=\"1349.92\" r=\"18\" fill=\"#808080\" fill-rule=\"evenodd\" fill-opacity=\"0.5\" stroke=\"#000000\" stroke-opacity=\"0.5\" stroke-width=\"4.8\"/>\n",
       "<circle clip-path=\"url(#clip953)\" cx=\"515.207\" cy=\"1406.63\" r=\"18\" fill=\"#808080\" fill-rule=\"evenodd\" fill-opacity=\"0.5\" stroke=\"#000000\" stroke-opacity=\"0.5\" stroke-width=\"4.8\"/>\n",
       "<circle clip-path=\"url(#clip953)\" cx=\"536.826\" cy=\"1400.84\" r=\"18\" fill=\"#808080\" fill-rule=\"evenodd\" fill-opacity=\"0.5\" stroke=\"#000000\" stroke-opacity=\"0.5\" stroke-width=\"4.8\"/>\n",
       "<circle clip-path=\"url(#clip953)\" cx=\"558.444\" cy=\"1330.76\" r=\"18\" fill=\"#808080\" fill-rule=\"evenodd\" fill-opacity=\"0.5\" stroke=\"#000000\" stroke-opacity=\"0.5\" stroke-width=\"4.8\"/>\n",
       "<circle clip-path=\"url(#clip953)\" cx=\"580.062\" cy=\"1552.85\" r=\"18\" fill=\"#808080\" fill-rule=\"evenodd\" fill-opacity=\"0.5\" stroke=\"#000000\" stroke-opacity=\"0.5\" stroke-width=\"4.8\"/>\n",
       "<circle clip-path=\"url(#clip953)\" cx=\"601.68\" cy=\"1504.66\" r=\"18\" fill=\"#808080\" fill-rule=\"evenodd\" fill-opacity=\"0.5\" stroke=\"#000000\" stroke-opacity=\"0.5\" stroke-width=\"4.8\"/>\n",
       "<circle clip-path=\"url(#clip953)\" cx=\"623.299\" cy=\"1551.04\" r=\"18\" fill=\"#808080\" fill-rule=\"evenodd\" fill-opacity=\"0.5\" stroke=\"#000000\" stroke-opacity=\"0.5\" stroke-width=\"4.8\"/>\n",
       "<circle clip-path=\"url(#clip953)\" cx=\"644.917\" cy=\"1760.67\" r=\"18\" fill=\"#808080\" fill-rule=\"evenodd\" fill-opacity=\"0.5\" stroke=\"#000000\" stroke-opacity=\"0.5\" stroke-width=\"4.8\"/>\n",
       "<circle clip-path=\"url(#clip953)\" cx=\"666.535\" cy=\"1684.17\" r=\"18\" fill=\"#808080\" fill-rule=\"evenodd\" fill-opacity=\"0.5\" stroke=\"#000000\" stroke-opacity=\"0.5\" stroke-width=\"4.8\"/>\n",
       "<circle clip-path=\"url(#clip953)\" cx=\"688.153\" cy=\"1682.36\" r=\"18\" fill=\"#808080\" fill-rule=\"evenodd\" fill-opacity=\"0.5\" stroke=\"#000000\" stroke-opacity=\"0.5\" stroke-width=\"4.8\"/>\n",
       "<circle clip-path=\"url(#clip953)\" cx=\"709.771\" cy=\"1647.59\" r=\"18\" fill=\"#808080\" fill-rule=\"evenodd\" fill-opacity=\"0.5\" stroke=\"#000000\" stroke-opacity=\"0.5\" stroke-width=\"4.8\"/>\n",
       "<circle clip-path=\"url(#clip953)\" cx=\"731.39\" cy=\"1622.25\" r=\"18\" fill=\"#808080\" fill-rule=\"evenodd\" fill-opacity=\"0.5\" stroke=\"#000000\" stroke-opacity=\"0.5\" stroke-width=\"4.8\"/>\n",
       "<circle clip-path=\"url(#clip953)\" cx=\"753.008\" cy=\"1668.73\" r=\"18\" fill=\"#808080\" fill-rule=\"evenodd\" fill-opacity=\"0.5\" stroke=\"#000000\" stroke-opacity=\"0.5\" stroke-width=\"4.8\"/>\n",
       "<circle clip-path=\"url(#clip953)\" cx=\"774.626\" cy=\"1620.19\" r=\"18\" fill=\"#808080\" fill-rule=\"evenodd\" fill-opacity=\"0.5\" stroke=\"#000000\" stroke-opacity=\"0.5\" stroke-width=\"4.8\"/>\n",
       "<circle clip-path=\"url(#clip953)\" cx=\"796.244\" cy=\"1476.74\" r=\"18\" fill=\"#808080\" fill-rule=\"evenodd\" fill-opacity=\"0.5\" stroke=\"#000000\" stroke-opacity=\"0.5\" stroke-width=\"4.8\"/>\n",
       "<circle clip-path=\"url(#clip953)\" cx=\"817.863\" cy=\"1472.39\" r=\"18\" fill=\"#808080\" fill-rule=\"evenodd\" fill-opacity=\"0.5\" stroke=\"#000000\" stroke-opacity=\"0.5\" stroke-width=\"4.8\"/>\n",
       "<circle clip-path=\"url(#clip953)\" cx=\"839.481\" cy=\"1791.16\" r=\"18\" fill=\"#808080\" fill-rule=\"evenodd\" fill-opacity=\"0.5\" stroke=\"#000000\" stroke-opacity=\"0.5\" stroke-width=\"4.8\"/>\n",
       "<circle clip-path=\"url(#clip953)\" cx=\"861.099\" cy=\"1535.92\" r=\"18\" fill=\"#808080\" fill-rule=\"evenodd\" fill-opacity=\"0.5\" stroke=\"#000000\" stroke-opacity=\"0.5\" stroke-width=\"4.8\"/>\n",
       "<circle clip-path=\"url(#clip953)\" cx=\"882.717\" cy=\"1628.8\" r=\"18\" fill=\"#808080\" fill-rule=\"evenodd\" fill-opacity=\"0.5\" stroke=\"#000000\" stroke-opacity=\"0.5\" stroke-width=\"4.8\"/>\n",
       "<circle clip-path=\"url(#clip953)\" cx=\"904.335\" cy=\"1739.78\" r=\"18\" fill=\"#808080\" fill-rule=\"evenodd\" fill-opacity=\"0.5\" stroke=\"#000000\" stroke-opacity=\"0.5\" stroke-width=\"4.8\"/>\n",
       "<circle clip-path=\"url(#clip953)\" cx=\"925.954\" cy=\"1574.75\" r=\"18\" fill=\"#808080\" fill-rule=\"evenodd\" fill-opacity=\"0.5\" stroke=\"#000000\" stroke-opacity=\"0.5\" stroke-width=\"4.8\"/>\n",
       "<circle clip-path=\"url(#clip953)\" cx=\"947.572\" cy=\"1730.98\" r=\"18\" fill=\"#808080\" fill-rule=\"evenodd\" fill-opacity=\"0.5\" stroke=\"#000000\" stroke-opacity=\"0.5\" stroke-width=\"4.8\"/>\n",
       "<circle clip-path=\"url(#clip953)\" cx=\"969.19\" cy=\"1579.6\" r=\"18\" fill=\"#808080\" fill-rule=\"evenodd\" fill-opacity=\"0.5\" stroke=\"#000000\" stroke-opacity=\"0.5\" stroke-width=\"4.8\"/>\n",
       "<circle clip-path=\"url(#clip953)\" cx=\"990.808\" cy=\"1512.38\" r=\"18\" fill=\"#808080\" fill-rule=\"evenodd\" fill-opacity=\"0.5\" stroke=\"#000000\" stroke-opacity=\"0.5\" stroke-width=\"4.8\"/>\n",
       "<circle clip-path=\"url(#clip953)\" cx=\"1012.43\" cy=\"1725.09\" r=\"18\" fill=\"#808080\" fill-rule=\"evenodd\" fill-opacity=\"0.5\" stroke=\"#000000\" stroke-opacity=\"0.5\" stroke-width=\"4.8\"/>\n",
       "<circle clip-path=\"url(#clip953)\" cx=\"1034.04\" cy=\"1195.37\" r=\"18\" fill=\"#808080\" fill-rule=\"evenodd\" fill-opacity=\"0.5\" stroke=\"#000000\" stroke-opacity=\"0.5\" stroke-width=\"4.8\"/>\n",
       "<circle clip-path=\"url(#clip953)\" cx=\"1055.66\" cy=\"1479.44\" r=\"18\" fill=\"#808080\" fill-rule=\"evenodd\" fill-opacity=\"0.5\" stroke=\"#000000\" stroke-opacity=\"0.5\" stroke-width=\"4.8\"/>\n",
       "<circle clip-path=\"url(#clip953)\" cx=\"1077.28\" cy=\"1380.1\" r=\"18\" fill=\"#808080\" fill-rule=\"evenodd\" fill-opacity=\"0.5\" stroke=\"#000000\" stroke-opacity=\"0.5\" stroke-width=\"4.8\"/>\n",
       "<circle clip-path=\"url(#clip953)\" cx=\"1098.9\" cy=\"1218.56\" r=\"18\" fill=\"#808080\" fill-rule=\"evenodd\" fill-opacity=\"0.5\" stroke=\"#000000\" stroke-opacity=\"0.5\" stroke-width=\"4.8\"/>\n",
       "<circle clip-path=\"url(#clip953)\" cx=\"1120.52\" cy=\"1581.41\" r=\"18\" fill=\"#808080\" fill-rule=\"evenodd\" fill-opacity=\"0.5\" stroke=\"#000000\" stroke-opacity=\"0.5\" stroke-width=\"4.8\"/>\n",
       "<circle clip-path=\"url(#clip953)\" cx=\"1142.14\" cy=\"1493.73\" r=\"18\" fill=\"#808080\" fill-rule=\"evenodd\" fill-opacity=\"0.5\" stroke=\"#000000\" stroke-opacity=\"0.5\" stroke-width=\"4.8\"/>\n",
       "<circle clip-path=\"url(#clip953)\" cx=\"1163.75\" cy=\"1741.6\" r=\"18\" fill=\"#808080\" fill-rule=\"evenodd\" fill-opacity=\"0.5\" stroke=\"#000000\" stroke-opacity=\"0.5\" stroke-width=\"4.8\"/>\n",
       "<circle clip-path=\"url(#clip953)\" cx=\"1185.37\" cy=\"1555.89\" r=\"18\" fill=\"#808080\" fill-rule=\"evenodd\" fill-opacity=\"0.5\" stroke=\"#000000\" stroke-opacity=\"0.5\" stroke-width=\"4.8\"/>\n",
       "<circle clip-path=\"url(#clip953)\" cx=\"1206.99\" cy=\"1542.23\" r=\"18\" fill=\"#808080\" fill-rule=\"evenodd\" fill-opacity=\"0.5\" stroke=\"#000000\" stroke-opacity=\"0.5\" stroke-width=\"4.8\"/>\n",
       "<circle clip-path=\"url(#clip953)\" cx=\"1228.61\" cy=\"1291.43\" r=\"18\" fill=\"#808080\" fill-rule=\"evenodd\" fill-opacity=\"0.5\" stroke=\"#000000\" stroke-opacity=\"0.5\" stroke-width=\"4.8\"/>\n",
       "<circle clip-path=\"url(#clip953)\" cx=\"1250.23\" cy=\"1527.51\" r=\"18\" fill=\"#808080\" fill-rule=\"evenodd\" fill-opacity=\"0.5\" stroke=\"#000000\" stroke-opacity=\"0.5\" stroke-width=\"4.8\"/>\n",
       "<circle clip-path=\"url(#clip953)\" cx=\"1271.85\" cy=\"1405.59\" r=\"18\" fill=\"#808080\" fill-rule=\"evenodd\" fill-opacity=\"0.5\" stroke=\"#000000\" stroke-opacity=\"0.5\" stroke-width=\"4.8\"/>\n",
       "<circle clip-path=\"url(#clip953)\" cx=\"1293.46\" cy=\"1347.24\" r=\"18\" fill=\"#808080\" fill-rule=\"evenodd\" fill-opacity=\"0.5\" stroke=\"#000000\" stroke-opacity=\"0.5\" stroke-width=\"4.8\"/>\n",
       "<circle clip-path=\"url(#clip953)\" cx=\"1315.08\" cy=\"1505.46\" r=\"18\" fill=\"#808080\" fill-rule=\"evenodd\" fill-opacity=\"0.5\" stroke=\"#000000\" stroke-opacity=\"0.5\" stroke-width=\"4.8\"/>\n",
       "<circle clip-path=\"url(#clip953)\" cx=\"1336.7\" cy=\"1514.44\" r=\"18\" fill=\"#808080\" fill-rule=\"evenodd\" fill-opacity=\"0.5\" stroke=\"#000000\" stroke-opacity=\"0.5\" stroke-width=\"4.8\"/>\n",
       "<circle clip-path=\"url(#clip953)\" cx=\"1358.32\" cy=\"1691.12\" r=\"18\" fill=\"#808080\" fill-rule=\"evenodd\" fill-opacity=\"0.5\" stroke=\"#000000\" stroke-opacity=\"0.5\" stroke-width=\"4.8\"/>\n",
       "<circle clip-path=\"url(#clip953)\" cx=\"1379.94\" cy=\"1195.73\" r=\"18\" fill=\"#808080\" fill-rule=\"evenodd\" fill-opacity=\"0.5\" stroke=\"#000000\" stroke-opacity=\"0.5\" stroke-width=\"4.8\"/>\n",
       "<circle clip-path=\"url(#clip953)\" cx=\"1401.55\" cy=\"1580.48\" r=\"18\" fill=\"#808080\" fill-rule=\"evenodd\" fill-opacity=\"0.5\" stroke=\"#000000\" stroke-opacity=\"0.5\" stroke-width=\"4.8\"/>\n",
       "<circle clip-path=\"url(#clip953)\" cx=\"1423.17\" cy=\"1690.44\" r=\"18\" fill=\"#808080\" fill-rule=\"evenodd\" fill-opacity=\"0.5\" stroke=\"#000000\" stroke-opacity=\"0.5\" stroke-width=\"4.8\"/>\n",
       "<circle clip-path=\"url(#clip953)\" cx=\"1444.79\" cy=\"1815.4\" r=\"18\" fill=\"#808080\" fill-rule=\"evenodd\" fill-opacity=\"0.5\" stroke=\"#000000\" stroke-opacity=\"0.5\" stroke-width=\"4.8\"/>\n",
       "<circle clip-path=\"url(#clip953)\" cx=\"1466.41\" cy=\"1527.02\" r=\"18\" fill=\"#808080\" fill-rule=\"evenodd\" fill-opacity=\"0.5\" stroke=\"#000000\" stroke-opacity=\"0.5\" stroke-width=\"4.8\"/>\n",
       "<circle clip-path=\"url(#clip953)\" cx=\"1488.03\" cy=\"1596.96\" r=\"18\" fill=\"#808080\" fill-rule=\"evenodd\" fill-opacity=\"0.5\" stroke=\"#000000\" stroke-opacity=\"0.5\" stroke-width=\"4.8\"/>\n",
       "<circle clip-path=\"url(#clip953)\" cx=\"1509.65\" cy=\"1748.38\" r=\"18\" fill=\"#808080\" fill-rule=\"evenodd\" fill-opacity=\"0.5\" stroke=\"#000000\" stroke-opacity=\"0.5\" stroke-width=\"4.8\"/>\n",
       "<circle clip-path=\"url(#clip953)\" cx=\"1531.26\" cy=\"1461.96\" r=\"18\" fill=\"#808080\" fill-rule=\"evenodd\" fill-opacity=\"0.5\" stroke=\"#000000\" stroke-opacity=\"0.5\" stroke-width=\"4.8\"/>\n",
       "<circle clip-path=\"url(#clip953)\" cx=\"1552.88\" cy=\"1474.84\" r=\"18\" fill=\"#808080\" fill-rule=\"evenodd\" fill-opacity=\"0.5\" stroke=\"#000000\" stroke-opacity=\"0.5\" stroke-width=\"4.8\"/>\n",
       "<circle clip-path=\"url(#clip953)\" cx=\"1574.5\" cy=\"1408.85\" r=\"18\" fill=\"#808080\" fill-rule=\"evenodd\" fill-opacity=\"0.5\" stroke=\"#000000\" stroke-opacity=\"0.5\" stroke-width=\"4.8\"/>\n",
       "<circle clip-path=\"url(#clip953)\" cx=\"1596.12\" cy=\"1621.14\" r=\"18\" fill=\"#808080\" fill-rule=\"evenodd\" fill-opacity=\"0.5\" stroke=\"#000000\" stroke-opacity=\"0.5\" stroke-width=\"4.8\"/>\n",
       "<circle clip-path=\"url(#clip953)\" cx=\"1617.74\" cy=\"1668.91\" r=\"18\" fill=\"#808080\" fill-rule=\"evenodd\" fill-opacity=\"0.5\" stroke=\"#000000\" stroke-opacity=\"0.5\" stroke-width=\"4.8\"/>\n",
       "<circle clip-path=\"url(#clip953)\" cx=\"1639.35\" cy=\"1710.28\" r=\"18\" fill=\"#808080\" fill-rule=\"evenodd\" fill-opacity=\"0.5\" stroke=\"#000000\" stroke-opacity=\"0.5\" stroke-width=\"4.8\"/>\n",
       "<circle clip-path=\"url(#clip953)\" cx=\"1660.97\" cy=\"1522.45\" r=\"18\" fill=\"#808080\" fill-rule=\"evenodd\" fill-opacity=\"0.5\" stroke=\"#000000\" stroke-opacity=\"0.5\" stroke-width=\"4.8\"/>\n",
       "<circle clip-path=\"url(#clip953)\" cx=\"1682.59\" cy=\"1414.03\" r=\"18\" fill=\"#808080\" fill-rule=\"evenodd\" fill-opacity=\"0.5\" stroke=\"#000000\" stroke-opacity=\"0.5\" stroke-width=\"4.8\"/>\n",
       "<circle clip-path=\"url(#clip953)\" cx=\"1704.21\" cy=\"1156.57\" r=\"18\" fill=\"#808080\" fill-rule=\"evenodd\" fill-opacity=\"0.5\" stroke=\"#000000\" stroke-opacity=\"0.5\" stroke-width=\"4.8\"/>\n",
       "<circle clip-path=\"url(#clip953)\" cx=\"1725.83\" cy=\"1531.92\" r=\"18\" fill=\"#808080\" fill-rule=\"evenodd\" fill-opacity=\"0.5\" stroke=\"#000000\" stroke-opacity=\"0.5\" stroke-width=\"4.8\"/>\n",
       "<circle clip-path=\"url(#clip953)\" cx=\"1747.45\" cy=\"1661.4\" r=\"18\" fill=\"#808080\" fill-rule=\"evenodd\" fill-opacity=\"0.5\" stroke=\"#000000\" stroke-opacity=\"0.5\" stroke-width=\"4.8\"/>\n",
       "<circle clip-path=\"url(#clip953)\" cx=\"1769.06\" cy=\"1762.9\" r=\"18\" fill=\"#808080\" fill-rule=\"evenodd\" fill-opacity=\"0.5\" stroke=\"#000000\" stroke-opacity=\"0.5\" stroke-width=\"4.8\"/>\n",
       "<circle clip-path=\"url(#clip953)\" cx=\"1790.68\" cy=\"1113.91\" r=\"18\" fill=\"#808080\" fill-rule=\"evenodd\" fill-opacity=\"0.5\" stroke=\"#000000\" stroke-opacity=\"0.5\" stroke-width=\"4.8\"/>\n",
       "<circle clip-path=\"url(#clip953)\" cx=\"1812.3\" cy=\"1626.39\" r=\"18\" fill=\"#808080\" fill-rule=\"evenodd\" fill-opacity=\"0.5\" stroke=\"#000000\" stroke-opacity=\"0.5\" stroke-width=\"4.8\"/>\n",
       "<circle clip-path=\"url(#clip953)\" cx=\"1833.92\" cy=\"1764.05\" r=\"18\" fill=\"#808080\" fill-rule=\"evenodd\" fill-opacity=\"0.5\" stroke=\"#000000\" stroke-opacity=\"0.5\" stroke-width=\"4.8\"/>\n",
       "<circle clip-path=\"url(#clip953)\" cx=\"1855.54\" cy=\"1477.42\" r=\"18\" fill=\"#808080\" fill-rule=\"evenodd\" fill-opacity=\"0.5\" stroke=\"#000000\" stroke-opacity=\"0.5\" stroke-width=\"4.8\"/>\n",
       "<circle clip-path=\"url(#clip953)\" cx=\"1877.16\" cy=\"1657.55\" r=\"18\" fill=\"#808080\" fill-rule=\"evenodd\" fill-opacity=\"0.5\" stroke=\"#000000\" stroke-opacity=\"0.5\" stroke-width=\"4.8\"/>\n",
       "<circle clip-path=\"url(#clip953)\" cx=\"1898.77\" cy=\"1817.24\" r=\"18\" fill=\"#808080\" fill-rule=\"evenodd\" fill-opacity=\"0.5\" stroke=\"#000000\" stroke-opacity=\"0.5\" stroke-width=\"4.8\"/>\n",
       "<circle clip-path=\"url(#clip953)\" cx=\"1920.39\" cy=\"1612.2\" r=\"18\" fill=\"#808080\" fill-rule=\"evenodd\" fill-opacity=\"0.5\" stroke=\"#000000\" stroke-opacity=\"0.5\" stroke-width=\"4.8\"/>\n",
       "<circle clip-path=\"url(#clip953)\" cx=\"1942.01\" cy=\"1572.38\" r=\"18\" fill=\"#808080\" fill-rule=\"evenodd\" fill-opacity=\"0.5\" stroke=\"#000000\" stroke-opacity=\"0.5\" stroke-width=\"4.8\"/>\n",
       "<circle clip-path=\"url(#clip953)\" cx=\"1963.63\" cy=\"1521.55\" r=\"18\" fill=\"#808080\" fill-rule=\"evenodd\" fill-opacity=\"0.5\" stroke=\"#000000\" stroke-opacity=\"0.5\" stroke-width=\"4.8\"/>\n",
       "<circle clip-path=\"url(#clip953)\" cx=\"1985.25\" cy=\"1695.11\" r=\"18\" fill=\"#808080\" fill-rule=\"evenodd\" fill-opacity=\"0.5\" stroke=\"#000000\" stroke-opacity=\"0.5\" stroke-width=\"4.8\"/>\n",
       "<circle clip-path=\"url(#clip953)\" cx=\"2006.86\" cy=\"1555.14\" r=\"18\" fill=\"#808080\" fill-rule=\"evenodd\" fill-opacity=\"0.5\" stroke=\"#000000\" stroke-opacity=\"0.5\" stroke-width=\"4.8\"/>\n",
       "<circle clip-path=\"url(#clip953)\" cx=\"2028.48\" cy=\"1484.46\" r=\"18\" fill=\"#808080\" fill-rule=\"evenodd\" fill-opacity=\"0.5\" stroke=\"#000000\" stroke-opacity=\"0.5\" stroke-width=\"4.8\"/>\n",
       "<circle clip-path=\"url(#clip953)\" cx=\"2050.1\" cy=\"1478.1\" r=\"18\" fill=\"#808080\" fill-rule=\"evenodd\" fill-opacity=\"0.5\" stroke=\"#000000\" stroke-opacity=\"0.5\" stroke-width=\"4.8\"/>\n",
       "<circle clip-path=\"url(#clip953)\" cx=\"2071.72\" cy=\"1400.68\" r=\"18\" fill=\"#808080\" fill-rule=\"evenodd\" fill-opacity=\"0.5\" stroke=\"#000000\" stroke-opacity=\"0.5\" stroke-width=\"4.8\"/>\n",
       "<circle clip-path=\"url(#clip953)\" cx=\"2093.34\" cy=\"1352.78\" r=\"18\" fill=\"#808080\" fill-rule=\"evenodd\" fill-opacity=\"0.5\" stroke=\"#000000\" stroke-opacity=\"0.5\" stroke-width=\"4.8\"/>\n",
       "<circle clip-path=\"url(#clip953)\" cx=\"2114.96\" cy=\"1491.16\" r=\"18\" fill=\"#808080\" fill-rule=\"evenodd\" fill-opacity=\"0.5\" stroke=\"#000000\" stroke-opacity=\"0.5\" stroke-width=\"4.8\"/>\n",
       "<circle clip-path=\"url(#clip953)\" cx=\"2136.57\" cy=\"1258.59\" r=\"18\" fill=\"#808080\" fill-rule=\"evenodd\" fill-opacity=\"0.5\" stroke=\"#000000\" stroke-opacity=\"0.5\" stroke-width=\"4.8\"/>\n",
       "<circle clip-path=\"url(#clip953)\" cx=\"2158.19\" cy=\"1526.7\" r=\"18\" fill=\"#808080\" fill-rule=\"evenodd\" fill-opacity=\"0.5\" stroke=\"#000000\" stroke-opacity=\"0.5\" stroke-width=\"4.8\"/>\n",
       "<circle clip-path=\"url(#clip953)\" cx=\"2179.81\" cy=\"1408\" r=\"18\" fill=\"#808080\" fill-rule=\"evenodd\" fill-opacity=\"0.5\" stroke=\"#000000\" stroke-opacity=\"0.5\" stroke-width=\"4.8\"/>\n",
       "<circle clip-path=\"url(#clip953)\" cx=\"2201.43\" cy=\"1671.67\" r=\"18\" fill=\"#808080\" fill-rule=\"evenodd\" fill-opacity=\"0.5\" stroke=\"#000000\" stroke-opacity=\"0.5\" stroke-width=\"4.8\"/>\n",
       "<circle clip-path=\"url(#clip953)\" cx=\"2223.05\" cy=\"1489.18\" r=\"18\" fill=\"#808080\" fill-rule=\"evenodd\" fill-opacity=\"0.5\" stroke=\"#000000\" stroke-opacity=\"0.5\" stroke-width=\"4.8\"/>\n",
       "<circle clip-path=\"url(#clip953)\" cx=\"2244.66\" cy=\"1448.59\" r=\"18\" fill=\"#808080\" fill-rule=\"evenodd\" fill-opacity=\"0.5\" stroke=\"#000000\" stroke-opacity=\"0.5\" stroke-width=\"4.8\"/>\n",
       "<circle clip-path=\"url(#clip953)\" cx=\"2266.28\" cy=\"1258.99\" r=\"18\" fill=\"#808080\" fill-rule=\"evenodd\" fill-opacity=\"0.5\" stroke=\"#000000\" stroke-opacity=\"0.5\" stroke-width=\"4.8\"/>\n",
       "<circle clip-path=\"url(#clip953)\" cx=\"2287.9\" cy=\"1514.69\" r=\"18\" fill=\"#808080\" fill-rule=\"evenodd\" fill-opacity=\"0.5\" stroke=\"#000000\" stroke-opacity=\"0.5\" stroke-width=\"4.8\"/>\n",
       "<circle clip-path=\"url(#clip953)\" cx=\"2309.52\" cy=\"1382.05\" r=\"18\" fill=\"#808080\" fill-rule=\"evenodd\" fill-opacity=\"0.5\" stroke=\"#000000\" stroke-opacity=\"0.5\" stroke-width=\"4.8\"/>\n",
       "<circle clip-path=\"url(#clip953)\" cx=\"2331.14\" cy=\"1223.32\" r=\"18\" fill=\"#808080\" fill-rule=\"evenodd\" fill-opacity=\"0.5\" stroke=\"#000000\" stroke-opacity=\"0.5\" stroke-width=\"4.8\"/>\n",
       "<circle clip-path=\"url(#clip953)\" cx=\"2352.76\" cy=\"1511.38\" r=\"18\" fill=\"#808080\" fill-rule=\"evenodd\" fill-opacity=\"0.5\" stroke=\"#000000\" stroke-opacity=\"0.5\" stroke-width=\"4.8\"/>\n",
       "<path clip-path=\"url(#clip950)\" d=\"\n",
       "M212.552 2987.26 L2352.76 2987.26 L2352.76 2180.58 L212.552 2180.58  Z\n",
       "  \" fill=\"#ffffff\" fill-rule=\"evenodd\" fill-opacity=\"1\"/>\n",
       "<defs>\n",
       "  <clipPath id=\"clip954\">\n",
       "    <rect x=\"212\" y=\"2180\" width=\"2141\" height=\"808\"/>\n",
       "  </clipPath>\n",
       "</defs>\n",
       "<polyline clip-path=\"url(#clip950)\" style=\"stroke:#000000; stroke-width:4; stroke-opacity:1; fill:none\" points=\"\n",
       "  212.552,2987.26 2352.76,2987.26 \n",
       "  \"/>\n",
       "<polyline clip-path=\"url(#clip950)\" style=\"stroke:#000000; stroke-width:4; stroke-opacity:1; fill:none\" points=\"\n",
       "  640.593,2987.26 640.593,2977.58 \n",
       "  \"/>\n",
       "<polyline clip-path=\"url(#clip950)\" style=\"stroke:#000000; stroke-width:4; stroke-opacity:1; fill:none\" points=\"\n",
       "  1072.96,2987.26 1072.96,2977.58 \n",
       "  \"/>\n",
       "<polyline clip-path=\"url(#clip950)\" style=\"stroke:#000000; stroke-width:4; stroke-opacity:1; fill:none\" points=\"\n",
       "  1505.32,2987.26 1505.32,2977.58 \n",
       "  \"/>\n",
       "<polyline clip-path=\"url(#clip950)\" style=\"stroke:#000000; stroke-width:4; stroke-opacity:1; fill:none\" points=\"\n",
       "  1937.69,2987.26 1937.69,2977.58 \n",
       "  \"/>\n",
       "<g clip-path=\"url(#clip950)\">\n",
       "<text style=\"fill:#000000; fill-opacity:1; font-family:Arial,Helvetica Neue,Helvetica,sans-serif; font-size:53px; text-anchor:middle;\" transform=\"rotate(0, 640.593, 3059.66)\" x=\"640.593\" y=\"3059.66\">20</text>\n",
       "</g>\n",
       "<g clip-path=\"url(#clip950)\">\n",
       "<text style=\"fill:#000000; fill-opacity:1; font-family:Arial,Helvetica Neue,Helvetica,sans-serif; font-size:53px; text-anchor:middle;\" transform=\"rotate(0, 1072.96, 3059.66)\" x=\"1072.96\" y=\"3059.66\">40</text>\n",
       "</g>\n",
       "<g clip-path=\"url(#clip950)\">\n",
       "<text style=\"fill:#000000; fill-opacity:1; font-family:Arial,Helvetica Neue,Helvetica,sans-serif; font-size:53px; text-anchor:middle;\" transform=\"rotate(0, 1505.32, 3059.66)\" x=\"1505.32\" y=\"3059.66\">60</text>\n",
       "</g>\n",
       "<g clip-path=\"url(#clip950)\">\n",
       "<text style=\"fill:#000000; fill-opacity:1; font-family:Arial,Helvetica Neue,Helvetica,sans-serif; font-size:53px; text-anchor:middle;\" transform=\"rotate(0, 1937.69, 3059.66)\" x=\"1937.69\" y=\"3059.66\">80</text>\n",
       "</g>\n",
       "<g clip-path=\"url(#clip950)\">\n",
       "<image width=\"23\" height=\"45\" xlink:href=\"data:image/png;base64,\n",
       "iVBORw0KGgoAAAANSUhEUgAAABcAAAAtCAYAAABFy/BrAAABxElEQVRYhbWX3a3CMAyFnTtB6AgZ\n",
       "oawQMUHECFkBRugIzJARgBHKBmUFr+D7QhBt82OHYskPRe6Rc/KFuEBEIE1EJO89aa3JOUe5OrEw\n",
       "EYExhgDgnZuJI+JMuCT+B8K43+/84m8t2cyWlCWb2XI+n1e/Oeey9SLxlN/W2vwLEltgYYfWOmtJ\n",
       "Ey3srr/tfJqmYuds4ev1yqZELN73vVhcvZZbDaXUqpCIVPElRKRUV9+mtZZgGIbNhWMqIoLH40GI\n",
       "mF3d4XCYPWutIYSQre+6Dvb7vWpC0Htf3Uw2LUtxRGSJV0/o7XZbUbLb7cqUxPgF32zOm/h+RdGW\n",
       "0+m0Evbec3Tr4uL/72VIKDHGsP1m0dLcdanz1GXM5bvaecpvNt+1ziXziej4S+cTkS2p+UTCd4yk\n",
       "+Nd8x/gF3yLOm7rmds7lexxHAgAKIVCSlpb5JKZzbjYsrQqstc3iy/pVgda6STyejb7v0+IpS0pf\n",
       "a0uvrbWz2iotxpgqFMfjEQBgPW7USLlcLsXOQwjJrpOeLy/kYRiy4tGO3CGrcv65QZ8Zx8DS1wXr\n",
       "EOVWZ4wpHrDkhhKRmqbp/ayUos/sug7GcYTn86lKF8g/DrGGHV47F+QAAAAASUVORK5CYII=\n",
       "\" transform=\"translate(1271, 3094)\"/>\n",
       "</g>\n",
       "<polyline clip-path=\"url(#clip950)\" style=\"stroke:#000000; stroke-width:4; stroke-opacity:1; fill:none\" points=\"\n",
       "  212.552,2987.26 212.552,2180.58 \n",
       "  \"/>\n",
       "<polyline clip-path=\"url(#clip950)\" style=\"stroke:#000000; stroke-width:4; stroke-opacity:1; fill:none\" points=\"\n",
       "  212.552,2914.85 238.235,2914.85 \n",
       "  \"/>\n",
       "<polyline clip-path=\"url(#clip950)\" style=\"stroke:#000000; stroke-width:4; stroke-opacity:1; fill:none\" points=\"\n",
       "  212.552,2678.86 238.235,2678.86 \n",
       "  \"/>\n",
       "<polyline clip-path=\"url(#clip950)\" style=\"stroke:#000000; stroke-width:4; stroke-opacity:1; fill:none\" points=\"\n",
       "  212.552,2442.88 238.235,2442.88 \n",
       "  \"/>\n",
       "<polyline clip-path=\"url(#clip950)\" style=\"stroke:#000000; stroke-width:4; stroke-opacity:1; fill:none\" points=\"\n",
       "  212.552,2206.89 238.235,2206.89 \n",
       "  \"/>\n",
       "<g clip-path=\"url(#clip950)\">\n",
       "<text style=\"fill:#000000; fill-opacity:1; font-family:Arial,Helvetica Neue,Helvetica,sans-serif; font-size:53px; text-anchor:end;\" transform=\"rotate(0, 164.552, 2934.35)\" x=\"164.552\" y=\"2934.35\">10</text>\n",
       "</g>\n",
       "<g clip-path=\"url(#clip950)\">\n",
       "<text style=\"fill:#000000; fill-opacity:1; font-family:Arial,Helvetica Neue,Helvetica,sans-serif; font-size:53px; text-anchor:end;\" transform=\"rotate(0, 164.552, 2698.36)\" x=\"164.552\" y=\"2698.36\">20</text>\n",
       "</g>\n",
       "<g clip-path=\"url(#clip950)\">\n",
       "<text style=\"fill:#000000; fill-opacity:1; font-family:Arial,Helvetica Neue,Helvetica,sans-serif; font-size:53px; text-anchor:end;\" transform=\"rotate(0, 164.552, 2462.38)\" x=\"164.552\" y=\"2462.38\">30</text>\n",
       "</g>\n",
       "<g clip-path=\"url(#clip950)\">\n",
       "<text style=\"fill:#000000; fill-opacity:1; font-family:Arial,Helvetica Neue,Helvetica,sans-serif; font-size:53px; text-anchor:end;\" transform=\"rotate(0, 164.552, 2226.39)\" x=\"164.552\" y=\"2226.39\">40</text>\n",
       "</g>\n",
       "<g clip-path=\"url(#clip950)\">\n",
       "<image width=\"43\" height=\"65\" xlink:href=\"data:image/png;base64,\n",
       "iVBORw0KGgoAAAANSUhEUgAAACsAAABBCAYAAABIMl38AAAD0UlEQVRoge1a75GsIAyPrwJmS4hX\n",
       "gTVYAnclWALXAiVYAyVYgyV4W4JnB3kf3guHrrIE3L37cJnJzOoK+QH5R6AiIvhO+vz8pHEcARGh\n",
       "rusq+jERfRs3TUMA4BkRyRhDR99/C0jnHCmlVkBD1lrTPM83oLOFHQmKzQwRgdb6sO2W+76nYrD3\n",
       "hIzjuAvYGJMMlNlaS1lgp2kSCZIO8l4/IrBt24qETNPkBVlrb/5XShEiUtu21LbtoR6zalX/R5xE\n",
       "VVX5j5VSYK0FRIRlWeB6vYK1FpZlWbVxzgEAwNvbm39HRHEXBQAfHx/08vLin621spnlkW4VP2Z8\n",
       "iEhsVIi4mu17HK6GUiodKDcMFT7G8zzf1WGxQUv0VSklEhjqoLRtEVilVHT57wEehiEbbNd1BAD0\n",
       "J9W4lmUBREz93BMb1uVyEbdlYrnJYJVSWYK01iuBOcSyk8FeLpcbt5TarpSu1+u/H6l6Y4yhtm3F\n",
       "esdeYS8xSWVElBkYZ0q51pwLNMsbcKNwdtmddV1XNHMpchExb4REt0kNIhaD3cvWWI2MMbLOhmEg\n",
       "nt29pKN4mTdpIcvTWhNRRj67lz2dDZZtgyeEVSyrc+cceQv9z13XnQb2qN8iHTPGkNa6KJTGwG63\n",
       "SEVgz+J5nonjPyKSc2538KLk+7spOdz+BPoF+yj6BfsoWoF9f3+nuq6pqiqq6/rnuQn2YUcFhjMS\n",
       "lLPYR6I9oMzSTrXWPvk4FSxnNmeC3ZaZzsp3IQxzR7Ws3BAaJjsldQMPljvkmsAjkuowS2uaJrs/\n",
       "YFBh8uCcI2NMcqlIIIwAQFTvWrXnun5JPirhcLchBhvq7DPAhjMsbkf0dWryLLDzPJNS6u75wy5Y\n",
       "Nqqcpcll3stJXNru8pRuUyTqIAkeq4cwkj1jlqW2svtyGxwQ8SFVF6mh7b7cHlNugTvnzgmfwsi2\n",
       "eogdUcZYKUVaa5GzZ5WT+Hf/YxzHLKB7wPu+jwIPqzpH2+5DsDnHlGew1OusFJ1dSaiP0zSRtZYk\n",
       "B8SpLNbxEIS0sTGGYsZ4xE3TZBmot/yS1G0YBpKoUq4crwI5Z1wxnueZtNY3ddwSOd5dnQ025G2Q\n",
       "yfXRPkUsUQPJbDPwnJR0dYr9aLBeaK43IPpy0rnbjVzVkG4i/Q+l1FNUgZlzaHEEK12eEnWQ6O6q\n",
       "1tU0DQAAvL6+EjyJ/LlsCh2NGOD+HS3JcjOHegrCmd19ub2bUpK77uUUfJIIINuRRP/s+562V0ek\n",
       "wGPXn0LgxWCZw5qVpHOi+F0wqfd5ytFSeB8sJEq43xXSU8r0fPUkJPY8EvoLyhfQbhQ7cKAAAAAA\n",
       "SUVORK5CYII=\n",
       "\" transform=\"translate(12, 2552)\"/>\n",
       "</g>\n",
       "<polyline clip-path=\"url(#clip954)\" style=\"stroke:#008080; stroke-width:12; stroke-opacity:1; fill:none\" points=\"\n",
       "  212.552,2968.56 234.171,2542.45 255.789,2468.83 277.407,2557.38 299.025,2506.74 320.644,2488.39 342.262,2575.74 363.88,2445.11 385.498,2579.18 407.116,2518.29 \n",
       "  428.735,2476.02 450.353,2611.08 471.971,2384.69 493.589,2675.14 515.207,2374.64 536.826,2742.18 558.444,2270.86 580.062,2544.39 601.68,2851.97 623.299,2498.11 \n",
       "  644.917,2452.22 666.535,2623.03 688.153,2386.83 709.771,2677.61 731.39,2396.42 753.008,2748.64 774.626,2261.37 796.244,2543.07 817.863,2859.83 839.481,2469.46 \n",
       "  861.099,2520.44 882.717,2439.99 904.335,2596.12 925.954,2544.92 947.572,2741.74 969.19,2259.19 990.808,2563.1 1012.43,2847.53 1034.04,2492.03 1055.66,2554.74 \n",
       "  1077.28,2688.18 1098.9,2475.62 1120.52,2400.58 1142.14,2780.53 1163.75,2701.98 1185.37,2395.36 1206.99,2787.18 1228.61,2851.9 1250.23,2335.46 1271.85,2478.27 \n",
       "  1293.46,2722.9 1315.08,2342.81 1336.7,2595.56 1358.32,2819.16 1379.94,2822.56 1401.55,2554.52 1423.17,2778.69 1444.79,2246.5 1466.41,2637.1 1488.03,2741.22 \n",
       "  1509.65,2310.89 1531.26,2357.61 1552.88,2793.83 1574.5,2972.62 1596.12,2372.82 1617.74,2748.76 1639.35,2293.32 1660.97,2314.35 1682.59,2776.6 1704.21,2561.06 \n",
       "  1725.83,2471.44 1747.45,2678.24 1769.06,2715.86 1790.68,2615.01 1812.3,2620.84 1833.92,2611.27 1855.54,2415.23 1877.16,2593.78 1898.77,2684.16 1920.39,2304.24 \n",
       "  1942.01,2668.86 1963.63,2903.33 1985.25,2381.09 2006.86,2642.71 2028.48,2898.57 2050.1,2611.51 2071.72,2411.85 2093.34,2644.35 2114.96,2471.89 2136.57,2658.99 \n",
       "  2158.19,2478.56 2179.81,2817.01 2201.43,2967.26 2223.05,2409.28 2244.66,2767.33 2266.28,2292.8 2287.9,2252.47 2309.52,2759.27 2331.14,2376.74 2352.76,2211.49 \n",
       "  \n",
       "  \"/>\n",
       "<polyline clip-path=\"url(#clip954)\" style=\"stroke:#ee4000; stroke-width:12; stroke-opacity:1; fill:none\" stroke-dasharray=\"48, 30\" points=\"\n",
       "  212.552,2947.42 234.171,2546.08 255.789,2465.98 277.407,2564.09 299.025,2505.16 320.644,2486.4 342.262,2579.89 363.88,2446.91 385.498,2588.3 407.116,2513.19 \n",
       "  428.735,2476.48 450.353,2608.32 471.971,2378.08 493.589,2677.03 515.207,2363.03 536.826,2743.93 558.444,2279.27 580.062,2544.16 601.68,2849.9 623.299,2499.6 \n",
       "  644.917,2461.4 666.535,2622.06 688.153,2382.02 709.771,2668.81 731.39,2392.62 753.008,2744.72 774.626,2266.7 796.244,2545.4 817.863,2854.62 839.481,2483.53 \n",
       "  861.099,2531.16 882.717,2463.55 904.335,2581.88 925.954,2547.96 947.572,2773.69 969.19,2261.86 990.808,2559.12 1012.43,2831.13 1034.04,2541.62 1055.66,2552.7 \n",
       "  1077.28,2696.81 1098.9,2471.76 1120.52,2417.78 1142.14,2781.46 1163.75,2683.77 1185.37,2424.52 1206.99,2785.36 1228.61,2858.64 1250.23,2366.12 1271.85,2496.54 \n",
       "  1293.46,2750.07 1315.08,2318.94 1336.7,2595.28 1358.32,2841.96 1379.94,2782.95 1401.55,2543.52 1423.17,2765.11 1444.79,2255.11 1466.41,2637.15 1488.03,2729.27 \n",
       "  1509.65,2307.6 1531.26,2355.2 1552.88,2790.67 1574.5,2946.54 1596.12,2370.57 1617.74,2749.02 1639.35,2278.49 1660.97,2335.02 1682.59,2770.09 1704.21,2619.24 \n",
       "  1725.83,2455.81 1747.45,2674.24 1769.06,2744.19 1790.68,2600.62 1812.3,2633.76 1833.92,2601.24 1855.54,2412.71 1877.16,2584.51 1898.77,2694.5 1920.39,2309.41 \n",
       "  1942.01,2665.74 1963.63,2909.17 1985.25,2384.84 2006.86,2631.73 2028.48,2886.84 2050.1,2625.53 2071.72,2399.68 2093.34,2654.92 2114.96,2458.1 2136.57,2675.05 \n",
       "  2158.19,2475.23 2179.81,2816.44 2201.43,2935.49 2223.05,2390.92 2244.66,2771.07 2266.28,2304.38 2287.9,2240.56 2309.52,2746.96 2331.14,2396.76 2352.76,2224.48 \n",
       "  \n",
       "  \"/>\n",
       "<circle clip-path=\"url(#clip954)\" cx=\"212.552\" cy=\"2987.26\" r=\"18\" fill=\"#808080\" fill-rule=\"evenodd\" fill-opacity=\"0.5\" stroke=\"#000000\" stroke-opacity=\"0.5\" stroke-width=\"4.8\"/>\n",
       "<circle clip-path=\"url(#clip954)\" cx=\"234.171\" cy=\"2562.34\" r=\"18\" fill=\"#808080\" fill-rule=\"evenodd\" fill-opacity=\"0.5\" stroke=\"#000000\" stroke-opacity=\"0.5\" stroke-width=\"4.8\"/>\n",
       "<circle clip-path=\"url(#clip954)\" cx=\"255.789\" cy=\"2422.18\" r=\"18\" fill=\"#808080\" fill-rule=\"evenodd\" fill-opacity=\"0.5\" stroke=\"#000000\" stroke-opacity=\"0.5\" stroke-width=\"4.8\"/>\n",
       "<circle clip-path=\"url(#clip954)\" cx=\"277.407\" cy=\"2572.25\" r=\"18\" fill=\"#808080\" fill-rule=\"evenodd\" fill-opacity=\"0.5\" stroke=\"#000000\" stroke-opacity=\"0.5\" stroke-width=\"4.8\"/>\n",
       "<circle clip-path=\"url(#clip954)\" cx=\"299.025\" cy=\"2502.5\" r=\"18\" fill=\"#808080\" fill-rule=\"evenodd\" fill-opacity=\"0.5\" stroke=\"#000000\" stroke-opacity=\"0.5\" stroke-width=\"4.8\"/>\n",
       "<circle clip-path=\"url(#clip954)\" cx=\"320.644\" cy=\"2488.5\" r=\"18\" fill=\"#808080\" fill-rule=\"evenodd\" fill-opacity=\"0.5\" stroke=\"#000000\" stroke-opacity=\"0.5\" stroke-width=\"4.8\"/>\n",
       "<circle clip-path=\"url(#clip954)\" cx=\"342.262\" cy=\"2560.81\" r=\"18\" fill=\"#808080\" fill-rule=\"evenodd\" fill-opacity=\"0.5\" stroke=\"#000000\" stroke-opacity=\"0.5\" stroke-width=\"4.8\"/>\n",
       "<circle clip-path=\"url(#clip954)\" cx=\"363.88\" cy=\"2459.2\" r=\"18\" fill=\"#808080\" fill-rule=\"evenodd\" fill-opacity=\"0.5\" stroke=\"#000000\" stroke-opacity=\"0.5\" stroke-width=\"4.8\"/>\n",
       "<circle clip-path=\"url(#clip954)\" cx=\"385.498\" cy=\"2592.08\" r=\"18\" fill=\"#808080\" fill-rule=\"evenodd\" fill-opacity=\"0.5\" stroke=\"#000000\" stroke-opacity=\"0.5\" stroke-width=\"4.8\"/>\n",
       "<circle clip-path=\"url(#clip954)\" cx=\"407.116\" cy=\"2429.94\" r=\"18\" fill=\"#808080\" fill-rule=\"evenodd\" fill-opacity=\"0.5\" stroke=\"#000000\" stroke-opacity=\"0.5\" stroke-width=\"4.8\"/>\n",
       "<circle clip-path=\"url(#clip954)\" cx=\"428.735\" cy=\"2455.99\" r=\"18\" fill=\"#808080\" fill-rule=\"evenodd\" fill-opacity=\"0.5\" stroke=\"#000000\" stroke-opacity=\"0.5\" stroke-width=\"4.8\"/>\n",
       "<circle clip-path=\"url(#clip954)\" cx=\"450.353\" cy=\"2634.56\" r=\"18\" fill=\"#808080\" fill-rule=\"evenodd\" fill-opacity=\"0.5\" stroke=\"#000000\" stroke-opacity=\"0.5\" stroke-width=\"4.8\"/>\n",
       "<circle clip-path=\"url(#clip954)\" cx=\"471.971\" cy=\"2362.03\" r=\"18\" fill=\"#808080\" fill-rule=\"evenodd\" fill-opacity=\"0.5\" stroke=\"#000000\" stroke-opacity=\"0.5\" stroke-width=\"4.8\"/>\n",
       "<circle clip-path=\"url(#clip954)\" cx=\"493.589\" cy=\"2690.79\" r=\"18\" fill=\"#808080\" fill-rule=\"evenodd\" fill-opacity=\"0.5\" stroke=\"#000000\" stroke-opacity=\"0.5\" stroke-width=\"4.8\"/>\n",
       "<circle clip-path=\"url(#clip954)\" cx=\"515.207\" cy=\"2279.47\" r=\"18\" fill=\"#808080\" fill-rule=\"evenodd\" fill-opacity=\"0.5\" stroke=\"#000000\" stroke-opacity=\"0.5\" stroke-width=\"4.8\"/>\n",
       "<circle clip-path=\"url(#clip954)\" cx=\"536.826\" cy=\"2756.5\" r=\"18\" fill=\"#808080\" fill-rule=\"evenodd\" fill-opacity=\"0.5\" stroke=\"#000000\" stroke-opacity=\"0.5\" stroke-width=\"4.8\"/>\n",
       "<circle clip-path=\"url(#clip954)\" cx=\"558.444\" cy=\"2259.29\" r=\"18\" fill=\"#808080\" fill-rule=\"evenodd\" fill-opacity=\"0.5\" stroke=\"#000000\" stroke-opacity=\"0.5\" stroke-width=\"4.8\"/>\n",
       "<circle clip-path=\"url(#clip954)\" cx=\"580.062\" cy=\"2562.32\" r=\"18\" fill=\"#808080\" fill-rule=\"evenodd\" fill-opacity=\"0.5\" stroke=\"#000000\" stroke-opacity=\"0.5\" stroke-width=\"4.8\"/>\n",
       "<circle clip-path=\"url(#clip954)\" cx=\"601.68\" cy=\"2905.55\" r=\"18\" fill=\"#808080\" fill-rule=\"evenodd\" fill-opacity=\"0.5\" stroke=\"#000000\" stroke-opacity=\"0.5\" stroke-width=\"4.8\"/>\n",
       "<circle clip-path=\"url(#clip954)\" cx=\"623.299\" cy=\"2485.27\" r=\"18\" fill=\"#808080\" fill-rule=\"evenodd\" fill-opacity=\"0.5\" stroke=\"#000000\" stroke-opacity=\"0.5\" stroke-width=\"4.8\"/>\n",
       "<circle clip-path=\"url(#clip954)\" cx=\"644.917\" cy=\"2455.81\" r=\"18\" fill=\"#808080\" fill-rule=\"evenodd\" fill-opacity=\"0.5\" stroke=\"#000000\" stroke-opacity=\"0.5\" stroke-width=\"4.8\"/>\n",
       "<circle clip-path=\"url(#clip954)\" cx=\"666.535\" cy=\"2652.86\" r=\"18\" fill=\"#808080\" fill-rule=\"evenodd\" fill-opacity=\"0.5\" stroke=\"#000000\" stroke-opacity=\"0.5\" stroke-width=\"4.8\"/>\n",
       "<circle clip-path=\"url(#clip954)\" cx=\"688.153\" cy=\"2378.64\" r=\"18\" fill=\"#808080\" fill-rule=\"evenodd\" fill-opacity=\"0.5\" stroke=\"#000000\" stroke-opacity=\"0.5\" stroke-width=\"4.8\"/>\n",
       "<circle clip-path=\"url(#clip954)\" cx=\"709.771\" cy=\"2612.14\" r=\"18\" fill=\"#808080\" fill-rule=\"evenodd\" fill-opacity=\"0.5\" stroke=\"#000000\" stroke-opacity=\"0.5\" stroke-width=\"4.8\"/>\n",
       "<circle clip-path=\"url(#clip954)\" cx=\"731.39\" cy=\"2335.88\" r=\"18\" fill=\"#808080\" fill-rule=\"evenodd\" fill-opacity=\"0.5\" stroke=\"#000000\" stroke-opacity=\"0.5\" stroke-width=\"4.8\"/>\n",
       "<circle clip-path=\"url(#clip954)\" cx=\"753.008\" cy=\"2786.39\" r=\"18\" fill=\"#808080\" fill-rule=\"evenodd\" fill-opacity=\"0.5\" stroke=\"#000000\" stroke-opacity=\"0.5\" stroke-width=\"4.8\"/>\n",
       "<circle clip-path=\"url(#clip954)\" cx=\"774.626\" cy=\"2207.67\" r=\"18\" fill=\"#808080\" fill-rule=\"evenodd\" fill-opacity=\"0.5\" stroke=\"#000000\" stroke-opacity=\"0.5\" stroke-width=\"4.8\"/>\n",
       "<circle clip-path=\"url(#clip954)\" cx=\"796.244\" cy=\"2468.42\" r=\"18\" fill=\"#808080\" fill-rule=\"evenodd\" fill-opacity=\"0.5\" stroke=\"#000000\" stroke-opacity=\"0.5\" stroke-width=\"4.8\"/>\n",
       "<circle clip-path=\"url(#clip954)\" cx=\"817.863\" cy=\"2869.39\" r=\"18\" fill=\"#808080\" fill-rule=\"evenodd\" fill-opacity=\"0.5\" stroke=\"#000000\" stroke-opacity=\"0.5\" stroke-width=\"4.8\"/>\n",
       "<circle clip-path=\"url(#clip954)\" cx=\"839.481\" cy=\"2473.21\" r=\"18\" fill=\"#808080\" fill-rule=\"evenodd\" fill-opacity=\"0.5\" stroke=\"#000000\" stroke-opacity=\"0.5\" stroke-width=\"4.8\"/>\n",
       "<circle clip-path=\"url(#clip954)\" cx=\"861.099\" cy=\"2533.27\" r=\"18\" fill=\"#808080\" fill-rule=\"evenodd\" fill-opacity=\"0.5\" stroke=\"#000000\" stroke-opacity=\"0.5\" stroke-width=\"4.8\"/>\n",
       "<circle clip-path=\"url(#clip954)\" cx=\"882.717\" cy=\"2492.52\" r=\"18\" fill=\"#808080\" fill-rule=\"evenodd\" fill-opacity=\"0.5\" stroke=\"#000000\" stroke-opacity=\"0.5\" stroke-width=\"4.8\"/>\n",
       "<circle clip-path=\"url(#clip954)\" cx=\"904.335\" cy=\"2537.25\" r=\"18\" fill=\"#808080\" fill-rule=\"evenodd\" fill-opacity=\"0.5\" stroke=\"#000000\" stroke-opacity=\"0.5\" stroke-width=\"4.8\"/>\n",
       "<circle clip-path=\"url(#clip954)\" cx=\"925.954\" cy=\"2547.58\" r=\"18\" fill=\"#808080\" fill-rule=\"evenodd\" fill-opacity=\"0.5\" stroke=\"#000000\" stroke-opacity=\"0.5\" stroke-width=\"4.8\"/>\n",
       "<circle clip-path=\"url(#clip954)\" cx=\"947.572\" cy=\"2778.07\" r=\"18\" fill=\"#808080\" fill-rule=\"evenodd\" fill-opacity=\"0.5\" stroke=\"#000000\" stroke-opacity=\"0.5\" stroke-width=\"4.8\"/>\n",
       "<circle clip-path=\"url(#clip954)\" cx=\"969.19\" cy=\"2283.01\" r=\"18\" fill=\"#808080\" fill-rule=\"evenodd\" fill-opacity=\"0.5\" stroke=\"#000000\" stroke-opacity=\"0.5\" stroke-width=\"4.8\"/>\n",
       "<circle clip-path=\"url(#clip954)\" cx=\"990.808\" cy=\"2486.38\" r=\"18\" fill=\"#808080\" fill-rule=\"evenodd\" fill-opacity=\"0.5\" stroke=\"#000000\" stroke-opacity=\"0.5\" stroke-width=\"4.8\"/>\n",
       "<circle clip-path=\"url(#clip954)\" cx=\"1012.43\" cy=\"2856.01\" r=\"18\" fill=\"#808080\" fill-rule=\"evenodd\" fill-opacity=\"0.5\" stroke=\"#000000\" stroke-opacity=\"0.5\" stroke-width=\"4.8\"/>\n",
       "<circle clip-path=\"url(#clip954)\" cx=\"1034.04\" cy=\"2562.54\" r=\"18\" fill=\"#808080\" fill-rule=\"evenodd\" fill-opacity=\"0.5\" stroke=\"#000000\" stroke-opacity=\"0.5\" stroke-width=\"4.8\"/>\n",
       "<circle clip-path=\"url(#clip954)\" cx=\"1055.66\" cy=\"2529.54\" r=\"18\" fill=\"#808080\" fill-rule=\"evenodd\" fill-opacity=\"0.5\" stroke=\"#000000\" stroke-opacity=\"0.5\" stroke-width=\"4.8\"/>\n",
       "<circle clip-path=\"url(#clip954)\" cx=\"1077.28\" cy=\"2646.18\" r=\"18\" fill=\"#808080\" fill-rule=\"evenodd\" fill-opacity=\"0.5\" stroke=\"#000000\" stroke-opacity=\"0.5\" stroke-width=\"4.8\"/>\n",
       "<circle clip-path=\"url(#clip954)\" cx=\"1098.9\" cy=\"2483.81\" r=\"18\" fill=\"#808080\" fill-rule=\"evenodd\" fill-opacity=\"0.5\" stroke=\"#000000\" stroke-opacity=\"0.5\" stroke-width=\"4.8\"/>\n",
       "<circle clip-path=\"url(#clip954)\" cx=\"1120.52\" cy=\"2504.15\" r=\"18\" fill=\"#808080\" fill-rule=\"evenodd\" fill-opacity=\"0.5\" stroke=\"#000000\" stroke-opacity=\"0.5\" stroke-width=\"4.8\"/>\n",
       "<circle clip-path=\"url(#clip954)\" cx=\"1142.14\" cy=\"2754.86\" r=\"18\" fill=\"#808080\" fill-rule=\"evenodd\" fill-opacity=\"0.5\" stroke=\"#000000\" stroke-opacity=\"0.5\" stroke-width=\"4.8\"/>\n",
       "<circle clip-path=\"url(#clip954)\" cx=\"1163.75\" cy=\"2607.43\" r=\"18\" fill=\"#808080\" fill-rule=\"evenodd\" fill-opacity=\"0.5\" stroke=\"#000000\" stroke-opacity=\"0.5\" stroke-width=\"4.8\"/>\n",
       "<circle clip-path=\"url(#clip954)\" cx=\"1185.37\" cy=\"2415.9\" r=\"18\" fill=\"#808080\" fill-rule=\"evenodd\" fill-opacity=\"0.5\" stroke=\"#000000\" stroke-opacity=\"0.5\" stroke-width=\"4.8\"/>\n",
       "<circle clip-path=\"url(#clip954)\" cx=\"1206.99\" cy=\"2761.89\" r=\"18\" fill=\"#808080\" fill-rule=\"evenodd\" fill-opacity=\"0.5\" stroke=\"#000000\" stroke-opacity=\"0.5\" stroke-width=\"4.8\"/>\n",
       "<circle clip-path=\"url(#clip954)\" cx=\"1228.61\" cy=\"2868.18\" r=\"18\" fill=\"#808080\" fill-rule=\"evenodd\" fill-opacity=\"0.5\" stroke=\"#000000\" stroke-opacity=\"0.5\" stroke-width=\"4.8\"/>\n",
       "<circle clip-path=\"url(#clip954)\" cx=\"1250.23\" cy=\"2324.15\" r=\"18\" fill=\"#808080\" fill-rule=\"evenodd\" fill-opacity=\"0.5\" stroke=\"#000000\" stroke-opacity=\"0.5\" stroke-width=\"4.8\"/>\n",
       "<circle clip-path=\"url(#clip954)\" cx=\"1271.85\" cy=\"2512.77\" r=\"18\" fill=\"#808080\" fill-rule=\"evenodd\" fill-opacity=\"0.5\" stroke=\"#000000\" stroke-opacity=\"0.5\" stroke-width=\"4.8\"/>\n",
       "<circle clip-path=\"url(#clip954)\" cx=\"1293.46\" cy=\"2819.8\" r=\"18\" fill=\"#808080\" fill-rule=\"evenodd\" fill-opacity=\"0.5\" stroke=\"#000000\" stroke-opacity=\"0.5\" stroke-width=\"4.8\"/>\n",
       "<circle clip-path=\"url(#clip954)\" cx=\"1315.08\" cy=\"2294.05\" r=\"18\" fill=\"#808080\" fill-rule=\"evenodd\" fill-opacity=\"0.5\" stroke=\"#000000\" stroke-opacity=\"0.5\" stroke-width=\"4.8\"/>\n",
       "<circle clip-path=\"url(#clip954)\" cx=\"1336.7\" cy=\"2574.63\" r=\"18\" fill=\"#808080\" fill-rule=\"evenodd\" fill-opacity=\"0.5\" stroke=\"#000000\" stroke-opacity=\"0.5\" stroke-width=\"4.8\"/>\n",
       "<circle clip-path=\"url(#clip954)\" cx=\"1358.32\" cy=\"2923.63\" r=\"18\" fill=\"#808080\" fill-rule=\"evenodd\" fill-opacity=\"0.5\" stroke=\"#000000\" stroke-opacity=\"0.5\" stroke-width=\"4.8\"/>\n",
       "<circle clip-path=\"url(#clip954)\" cx=\"1379.94\" cy=\"2789.21\" r=\"18\" fill=\"#808080\" fill-rule=\"evenodd\" fill-opacity=\"0.5\" stroke=\"#000000\" stroke-opacity=\"0.5\" stroke-width=\"4.8\"/>\n",
       "<circle clip-path=\"url(#clip954)\" cx=\"1401.55\" cy=\"2503.78\" r=\"18\" fill=\"#808080\" fill-rule=\"evenodd\" fill-opacity=\"0.5\" stroke=\"#000000\" stroke-opacity=\"0.5\" stroke-width=\"4.8\"/>\n",
       "<circle clip-path=\"url(#clip954)\" cx=\"1423.17\" cy=\"2729.28\" r=\"18\" fill=\"#808080\" fill-rule=\"evenodd\" fill-opacity=\"0.5\" stroke=\"#000000\" stroke-opacity=\"0.5\" stroke-width=\"4.8\"/>\n",
       "<circle clip-path=\"url(#clip954)\" cx=\"1444.79\" cy=\"2256.64\" r=\"18\" fill=\"#808080\" fill-rule=\"evenodd\" fill-opacity=\"0.5\" stroke=\"#000000\" stroke-opacity=\"0.5\" stroke-width=\"4.8\"/>\n",
       "<circle clip-path=\"url(#clip954)\" cx=\"1466.41\" cy=\"2642.84\" r=\"18\" fill=\"#808080\" fill-rule=\"evenodd\" fill-opacity=\"0.5\" stroke=\"#000000\" stroke-opacity=\"0.5\" stroke-width=\"4.8\"/>\n",
       "<circle clip-path=\"url(#clip954)\" cx=\"1488.03\" cy=\"2752.54\" r=\"18\" fill=\"#808080\" fill-rule=\"evenodd\" fill-opacity=\"0.5\" stroke=\"#000000\" stroke-opacity=\"0.5\" stroke-width=\"4.8\"/>\n",
       "<circle clip-path=\"url(#clip954)\" cx=\"1509.65\" cy=\"2306.26\" r=\"18\" fill=\"#808080\" fill-rule=\"evenodd\" fill-opacity=\"0.5\" stroke=\"#000000\" stroke-opacity=\"0.5\" stroke-width=\"4.8\"/>\n",
       "<circle clip-path=\"url(#clip954)\" cx=\"1531.26\" cy=\"2350.61\" r=\"18\" fill=\"#808080\" fill-rule=\"evenodd\" fill-opacity=\"0.5\" stroke=\"#000000\" stroke-opacity=\"0.5\" stroke-width=\"4.8\"/>\n",
       "<circle clip-path=\"url(#clip954)\" cx=\"1552.88\" cy=\"2761.48\" r=\"18\" fill=\"#808080\" fill-rule=\"evenodd\" fill-opacity=\"0.5\" stroke=\"#000000\" stroke-opacity=\"0.5\" stroke-width=\"4.8\"/>\n",
       "<circle clip-path=\"url(#clip954)\" cx=\"1574.5\" cy=\"2893.35\" r=\"18\" fill=\"#808080\" fill-rule=\"evenodd\" fill-opacity=\"0.5\" stroke=\"#000000\" stroke-opacity=\"0.5\" stroke-width=\"4.8\"/>\n",
       "<circle clip-path=\"url(#clip954)\" cx=\"1596.12\" cy=\"2413.65\" r=\"18\" fill=\"#808080\" fill-rule=\"evenodd\" fill-opacity=\"0.5\" stroke=\"#000000\" stroke-opacity=\"0.5\" stroke-width=\"4.8\"/>\n",
       "<circle clip-path=\"url(#clip954)\" cx=\"1617.74\" cy=\"2754.85\" r=\"18\" fill=\"#808080\" fill-rule=\"evenodd\" fill-opacity=\"0.5\" stroke=\"#000000\" stroke-opacity=\"0.5\" stroke-width=\"4.8\"/>\n",
       "<circle clip-path=\"url(#clip954)\" cx=\"1639.35\" cy=\"2313.5\" r=\"18\" fill=\"#808080\" fill-rule=\"evenodd\" fill-opacity=\"0.5\" stroke=\"#000000\" stroke-opacity=\"0.5\" stroke-width=\"4.8\"/>\n",
       "<circle clip-path=\"url(#clip954)\" cx=\"1660.97\" cy=\"2363.75\" r=\"18\" fill=\"#808080\" fill-rule=\"evenodd\" fill-opacity=\"0.5\" stroke=\"#000000\" stroke-opacity=\"0.5\" stroke-width=\"4.8\"/>\n",
       "<circle clip-path=\"url(#clip954)\" cx=\"1682.59\" cy=\"2765.37\" r=\"18\" fill=\"#808080\" fill-rule=\"evenodd\" fill-opacity=\"0.5\" stroke=\"#000000\" stroke-opacity=\"0.5\" stroke-width=\"4.8\"/>\n",
       "<circle clip-path=\"url(#clip954)\" cx=\"1704.21\" cy=\"2608.95\" r=\"18\" fill=\"#808080\" fill-rule=\"evenodd\" fill-opacity=\"0.5\" stroke=\"#000000\" stroke-opacity=\"0.5\" stroke-width=\"4.8\"/>\n",
       "<circle clip-path=\"url(#clip954)\" cx=\"1725.83\" cy=\"2504.17\" r=\"18\" fill=\"#808080\" fill-rule=\"evenodd\" fill-opacity=\"0.5\" stroke=\"#000000\" stroke-opacity=\"0.5\" stroke-width=\"4.8\"/>\n",
       "<circle clip-path=\"url(#clip954)\" cx=\"1747.45\" cy=\"2708.61\" r=\"18\" fill=\"#808080\" fill-rule=\"evenodd\" fill-opacity=\"0.5\" stroke=\"#000000\" stroke-opacity=\"0.5\" stroke-width=\"4.8\"/>\n",
       "<circle clip-path=\"url(#clip954)\" cx=\"1769.06\" cy=\"2796.31\" r=\"18\" fill=\"#808080\" fill-rule=\"evenodd\" fill-opacity=\"0.5\" stroke=\"#000000\" stroke-opacity=\"0.5\" stroke-width=\"4.8\"/>\n",
       "<circle clip-path=\"url(#clip954)\" cx=\"1790.68\" cy=\"2611.02\" r=\"18\" fill=\"#808080\" fill-rule=\"evenodd\" fill-opacity=\"0.5\" stroke=\"#000000\" stroke-opacity=\"0.5\" stroke-width=\"4.8\"/>\n",
       "<circle clip-path=\"url(#clip954)\" cx=\"1812.3\" cy=\"2654.36\" r=\"18\" fill=\"#808080\" fill-rule=\"evenodd\" fill-opacity=\"0.5\" stroke=\"#000000\" stroke-opacity=\"0.5\" stroke-width=\"4.8\"/>\n",
       "<circle clip-path=\"url(#clip954)\" cx=\"1833.92\" cy=\"2687.79\" r=\"18\" fill=\"#808080\" fill-rule=\"evenodd\" fill-opacity=\"0.5\" stroke=\"#000000\" stroke-opacity=\"0.5\" stroke-width=\"4.8\"/>\n",
       "<circle clip-path=\"url(#clip954)\" cx=\"1855.54\" cy=\"2430.37\" r=\"18\" fill=\"#808080\" fill-rule=\"evenodd\" fill-opacity=\"0.5\" stroke=\"#000000\" stroke-opacity=\"0.5\" stroke-width=\"4.8\"/>\n",
       "<circle clip-path=\"url(#clip954)\" cx=\"1877.16\" cy=\"2541.76\" r=\"18\" fill=\"#808080\" fill-rule=\"evenodd\" fill-opacity=\"0.5\" stroke=\"#000000\" stroke-opacity=\"0.5\" stroke-width=\"4.8\"/>\n",
       "<circle clip-path=\"url(#clip954)\" cx=\"1898.77\" cy=\"2725.38\" r=\"18\" fill=\"#808080\" fill-rule=\"evenodd\" fill-opacity=\"0.5\" stroke=\"#000000\" stroke-opacity=\"0.5\" stroke-width=\"4.8\"/>\n",
       "<circle clip-path=\"url(#clip954)\" cx=\"1920.39\" cy=\"2300.6\" r=\"18\" fill=\"#808080\" fill-rule=\"evenodd\" fill-opacity=\"0.5\" stroke=\"#000000\" stroke-opacity=\"0.5\" stroke-width=\"4.8\"/>\n",
       "<circle clip-path=\"url(#clip954)\" cx=\"1942.01\" cy=\"2705.01\" r=\"18\" fill=\"#808080\" fill-rule=\"evenodd\" fill-opacity=\"0.5\" stroke=\"#000000\" stroke-opacity=\"0.5\" stroke-width=\"4.8\"/>\n",
       "<circle clip-path=\"url(#clip954)\" cx=\"1963.63\" cy=\"2938.81\" r=\"18\" fill=\"#808080\" fill-rule=\"evenodd\" fill-opacity=\"0.5\" stroke=\"#000000\" stroke-opacity=\"0.5\" stroke-width=\"4.8\"/>\n",
       "<circle clip-path=\"url(#clip954)\" cx=\"1985.25\" cy=\"2355.97\" r=\"18\" fill=\"#808080\" fill-rule=\"evenodd\" fill-opacity=\"0.5\" stroke=\"#000000\" stroke-opacity=\"0.5\" stroke-width=\"4.8\"/>\n",
       "<circle clip-path=\"url(#clip954)\" cx=\"2006.86\" cy=\"2627.23\" r=\"18\" fill=\"#808080\" fill-rule=\"evenodd\" fill-opacity=\"0.5\" stroke=\"#000000\" stroke-opacity=\"0.5\" stroke-width=\"4.8\"/>\n",
       "<circle clip-path=\"url(#clip954)\" cx=\"2028.48\" cy=\"2874.25\" r=\"18\" fill=\"#808080\" fill-rule=\"evenodd\" fill-opacity=\"0.5\" stroke=\"#000000\" stroke-opacity=\"0.5\" stroke-width=\"4.8\"/>\n",
       "<circle clip-path=\"url(#clip954)\" cx=\"2050.1\" cy=\"2625.57\" r=\"18\" fill=\"#808080\" fill-rule=\"evenodd\" fill-opacity=\"0.5\" stroke=\"#000000\" stroke-opacity=\"0.5\" stroke-width=\"4.8\"/>\n",
       "<circle clip-path=\"url(#clip954)\" cx=\"2071.72\" cy=\"2422.58\" r=\"18\" fill=\"#808080\" fill-rule=\"evenodd\" fill-opacity=\"0.5\" stroke=\"#000000\" stroke-opacity=\"0.5\" stroke-width=\"4.8\"/>\n",
       "<circle clip-path=\"url(#clip954)\" cx=\"2093.34\" cy=\"2733.46\" r=\"18\" fill=\"#808080\" fill-rule=\"evenodd\" fill-opacity=\"0.5\" stroke=\"#000000\" stroke-opacity=\"0.5\" stroke-width=\"4.8\"/>\n",
       "<circle clip-path=\"url(#clip954)\" cx=\"2114.96\" cy=\"2437.26\" r=\"18\" fill=\"#808080\" fill-rule=\"evenodd\" fill-opacity=\"0.5\" stroke=\"#000000\" stroke-opacity=\"0.5\" stroke-width=\"4.8\"/>\n",
       "<circle clip-path=\"url(#clip954)\" cx=\"2136.57\" cy=\"2680.09\" r=\"18\" fill=\"#808080\" fill-rule=\"evenodd\" fill-opacity=\"0.5\" stroke=\"#000000\" stroke-opacity=\"0.5\" stroke-width=\"4.8\"/>\n",
       "<circle clip-path=\"url(#clip954)\" cx=\"2158.19\" cy=\"2478.7\" r=\"18\" fill=\"#808080\" fill-rule=\"evenodd\" fill-opacity=\"0.5\" stroke=\"#000000\" stroke-opacity=\"0.5\" stroke-width=\"4.8\"/>\n",
       "<circle clip-path=\"url(#clip954)\" cx=\"2179.81\" cy=\"2774.46\" r=\"18\" fill=\"#808080\" fill-rule=\"evenodd\" fill-opacity=\"0.5\" stroke=\"#000000\" stroke-opacity=\"0.5\" stroke-width=\"4.8\"/>\n",
       "<circle clip-path=\"url(#clip954)\" cx=\"2201.43\" cy=\"2932.21\" r=\"18\" fill=\"#808080\" fill-rule=\"evenodd\" fill-opacity=\"0.5\" stroke=\"#000000\" stroke-opacity=\"0.5\" stroke-width=\"4.8\"/>\n",
       "<circle clip-path=\"url(#clip954)\" cx=\"2223.05\" cy=\"2409.36\" r=\"18\" fill=\"#808080\" fill-rule=\"evenodd\" fill-opacity=\"0.5\" stroke=\"#000000\" stroke-opacity=\"0.5\" stroke-width=\"4.8\"/>\n",
       "<circle clip-path=\"url(#clip954)\" cx=\"2244.66\" cy=\"2730.46\" r=\"18\" fill=\"#808080\" fill-rule=\"evenodd\" fill-opacity=\"0.5\" stroke=\"#000000\" stroke-opacity=\"0.5\" stroke-width=\"4.8\"/>\n",
       "<circle clip-path=\"url(#clip954)\" cx=\"2266.28\" cy=\"2290.76\" r=\"18\" fill=\"#808080\" fill-rule=\"evenodd\" fill-opacity=\"0.5\" stroke=\"#000000\" stroke-opacity=\"0.5\" stroke-width=\"4.8\"/>\n",
       "<circle clip-path=\"url(#clip954)\" cx=\"2287.9\" cy=\"2180.58\" r=\"18\" fill=\"#808080\" fill-rule=\"evenodd\" fill-opacity=\"0.5\" stroke=\"#000000\" stroke-opacity=\"0.5\" stroke-width=\"4.8\"/>\n",
       "<circle clip-path=\"url(#clip954)\" cx=\"2309.52\" cy=\"2777.42\" r=\"18\" fill=\"#808080\" fill-rule=\"evenodd\" fill-opacity=\"0.5\" stroke=\"#000000\" stroke-opacity=\"0.5\" stroke-width=\"4.8\"/>\n",
       "<circle clip-path=\"url(#clip954)\" cx=\"2331.14\" cy=\"2390.57\" r=\"18\" fill=\"#808080\" fill-rule=\"evenodd\" fill-opacity=\"0.5\" stroke=\"#000000\" stroke-opacity=\"0.5\" stroke-width=\"4.8\"/>\n",
       "<circle clip-path=\"url(#clip954)\" cx=\"2352.76\" cy=\"2236.19\" r=\"18\" fill=\"#808080\" fill-rule=\"evenodd\" fill-opacity=\"0.5\" stroke=\"#000000\" stroke-opacity=\"0.5\" stroke-width=\"4.8\"/>\n",
       "</svg>\n"
      ]
     },
     "execution_count": 35,
     "metadata": {},
     "output_type": "execute_result"
    }
   ],
   "source": [
    "nb = 1\n",
    "ne = Tf\n",
    "Δ = 5\n",
    "plt = plot(layout = grid(3,1), xlim = (-Inf, Inf), ylim = (-Inf, Inf), xlabel = L\"t\", \n",
    "           size = (600, 800))\n",
    "\n",
    "for i =1:3\n",
    "    plot!(plt[i,1], data.tt[nb:Δ:ne], data.xt[i,nb:Δ:ne], linewidth =  3, color = :teal, \n",
    "          ylabel = latexstring(\"x_\"*string(i)),\n",
    "         legend = (i == 1), label = \"True\")\n",
    "    plot!(plt[i,1], data.tt[nb:Δ:ne], mean_hist(Xsmf)[i,1+nb:Δ:1+ne], linewidth = 3, grid = false,\n",
    "          color = :orangered2, linestyle = :dash, label = \"Stochastic Map filter\")\n",
    "    scatter!(plt[i,1], data.tt[nb:Δ:ne], data.yt[i,nb:Δ:ne], linewidth = 3, color = :grey, \n",
    "          markersize = 5, alpha = 0.5, label  = \"Observation\")\n",
    "end\n",
    "\n",
    "plt"
   ]
  },
  {
   "cell_type": "code",
   "execution_count": null,
   "metadata": {},
   "outputs": [],
   "source": []
  }
 ],
 "metadata": {
  "kernelspec": {
   "display_name": "Julia 1.5.3",
   "language": "julia",
   "name": "julia-1.5"
  },
  "language_info": {
   "file_extension": ".jl",
   "mimetype": "application/julia",
   "name": "julia",
   "version": "1.5.3"
  }
 },
 "nbformat": 4,
 "nbformat_minor": 2
}
