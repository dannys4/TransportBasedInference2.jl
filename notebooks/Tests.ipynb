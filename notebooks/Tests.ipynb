{
 "cells": [
  {
   "cell_type": "code",
   "execution_count": 1,
   "metadata": {},
   "outputs": [
    {
     "name": "stderr",
     "output_type": "stream",
     "text": [
      "\u001b[32m\u001b[1m Activating\u001b[22m\u001b[39m environment at `/media/mat/HDD/AdaptiveTransportMap/Project.toml`\n"
     ]
    }
   ],
   "source": [
    "using Pkg\n",
    "Pkg.activate(\"/media/mat/HDD/AdaptiveTransportMap/\")"
   ]
  },
  {
   "cell_type": "code",
   "execution_count": 7,
   "metadata": {},
   "outputs": [],
   "source": [
    "using Revise\n",
    "using AdaptiveTransportMap\n",
    "using LinearAlgebra\n",
    "using Test\n",
    "using ForwardDiff\n",
    "using SpecialFunctions\n",
    "using Polynomials\n",
    "using BenchmarkTools\n",
    "using TransportMap\n",
    "using QuadGK\n",
    "using FastGaussQuadrature\n",
    "using AdaptiveTransportMap: derivative, vander, scale!\n",
    "using DiffResults\n",
    "using QuadGK\n",
    "using Distributions"
   ]
  },
  {
   "cell_type": "markdown",
   "metadata": {},
   "source": [
    "### Basis"
   ]
  },
  {
   "cell_type": "code",
   "execution_count": 18,
   "metadata": {},
   "outputs": [
    {
     "data": {
      "text/plain": [
       "\u001b[32m\u001b[1mTest Passed\u001b[22m\u001b[39m"
      ]
     },
     "execution_count": 18,
     "metadata": {},
     "output_type": "execute_result"
    }
   ],
   "source": [
    "    Nx = 1\n",
    "    Ne = 100\n",
    "    ens = EnsembleState(Nx, Ne)\n",
    "\n",
    "    ens.S .= 1.0 .+ 5.0*randn(Nx, Ne)\n",
    "\n",
    "    scale!(ens; diag = true)\n",
    "\n",
    "    @test norm(mean(ens))<1e-10\n",
    "    @test norm(cov(ens) .- 1.0)<1e-10"
   ]
  },
  {
   "cell_type": "code",
   "execution_count": 20,
   "metadata": {},
   "outputs": [
    {
     "data": {
      "text/plain": [
       "1×1 Array{Float64,2}:\n",
       " 0.9999999999999998"
      ]
     },
     "execution_count": 20,
     "metadata": {},
     "output_type": "execute_result"
    }
   ],
   "source": [
    "cov(ens)"
   ]
  },
  {
   "cell_type": "code",
   "execution_count": 3,
   "metadata": {},
   "outputs": [
    {
     "data": {
      "text/plain": [
       "MultiBasis{9,6}(Basis of 9 functions:\n",
       "ProPolyHermite{0}(ImmutablePolynomial(1.0), false)\n",
       "ProHermite{0}(ProPolyHermite{0}(ImmutablePolynomial(1.0), false), false)\n",
       "ProHermite{1}(ProPolyHermite{1}(ImmutablePolynomial(1.0*x), false), false)\n",
       "ProHermite{2}(ProPolyHermite{2}(ImmutablePolynomial(-1.0 + 1.0*x^2), false), false)\n",
       "ProHermite{3}(ProPolyHermite{3}(ImmutablePolynomial(-3.0*x + 1.0*x^3), false), false)\n",
       "ProHermite{4}(ProPolyHermite{4}(ImmutablePolynomial(3.0 - 6.0*x^2 + 1.0*x^4), false), false)\n",
       "ProHermite{5}(ProPolyHermite{5}(ImmutablePolynomial(15.0*x - 10.0*x^3 + 1.0*x^5), false), false)\n",
       "ProHermite{6}(ProPolyHermite{6}(ImmutablePolynomial(-15.0 + 45.0*x^2 - 15.0*x^4 + 1.0*x^6), false), false)\n",
       "ProHermite{7}(ProPolyHermite{7}(ImmutablePolynomial(-105.0*x + 105.0*x^3 - 21.0*x^5 + 1.0*x^7), false), false)\n",
       ")"
      ]
     },
     "execution_count": 3,
     "metadata": {},
     "output_type": "execute_result"
    }
   ],
   "source": [
    "Nx = 6\n",
    "B = CstProHermite(7)\n",
    "MB = MultiBasis(B, Nx)"
   ]
  },
  {
   "cell_type": "code",
   "execution_count": 4,
   "metadata": {},
   "outputs": [
    {
     "name": "stdout",
     "output_type": "stream",
     "text": [
      "  1.867 μs (9 allocations: 480 bytes)\n"
     ]
    },
    {
     "data": {
      "text/plain": [
       "1-element Array{Float64,1}:\n",
       " -0.39188218965422494"
      ]
     },
     "execution_count": 4,
     "metadata": {},
     "output_type": "execute_result"
    }
   ],
   "source": [
    "@btime ForwardDiff.gradient(x->B[5](x[1]),[5.0])"
   ]
  },
  {
   "cell_type": "code",
   "execution_count": 5,
   "metadata": {},
   "outputs": [
    {
     "name": "stdout",
     "output_type": "stream",
     "text": [
      "  107.739 ns (6 allocations: 176 bytes)\n"
     ]
    },
    {
     "data": {
      "text/plain": [
       "-0.39188218965422494"
      ]
     },
     "execution_count": 5,
     "metadata": {},
     "output_type": "execute_result"
    }
   ],
   "source": [
    "@btime ForwardDiff.derivative(x->B[5](x),5.0)"
   ]
  },
  {
   "cell_type": "code",
   "execution_count": 6,
   "metadata": {},
   "outputs": [
    {
     "data": {
      "text/plain": [
       "timing (generic function with 1 method)"
      ]
     },
     "execution_count": 6,
     "metadata": {},
     "output_type": "execute_result"
    }
   ],
   "source": [
    "function timing()\n",
    "    f(x) = (x^5-4*x^3+1)*exp(-x^2/2)  \n",
    "    @btime ForwardDiff.gradient(x->f(x[1]),[5.0])\n",
    "    @btime ForwardDiff.derivative(x->f(x),5.0)\n",
    "end"
   ]
  },
  {
   "cell_type": "code",
   "execution_count": 51,
   "metadata": {},
   "outputs": [
    {
     "data": {
      "text/plain": [
       "PhyHermite{4}(PhyPolyHermite{4}(ImmutablePolynomial(12.0 - 48.0*x^2 + 16.0*x^4), false), false)"
      ]
     },
     "execution_count": 51,
     "metadata": {},
     "output_type": "execute_result"
    }
   ],
   "source": [
    "FamilyPhyHermite[5].P"
   ]
  },
  {
   "cell_type": "code",
   "execution_count": 8,
   "metadata": {},
   "outputs": [
    {
     "name": "stdout",
     "output_type": "stream",
     "text": [
      "  2.024 μs (137 allocations: 2.34 KiB)\n"
     ]
    },
    {
     "data": {
      "text/plain": [
       "(0.5630021473036511, 1.4497070210950369e-11)"
      ]
     },
     "execution_count": 8,
     "metadata": {},
     "output_type": "execute_result"
    }
   ],
   "source": [
    "@btime quadgk(x->FamilyPhyHermite[5](x), 0, 1.0)"
   ]
  },
  {
   "cell_type": "code",
   "execution_count": 9,
   "metadata": {},
   "outputs": [],
   "source": [
    "Nx = 10\n",
    "Nψ = 8\n",
    "B = CstProHermite(4)\n",
    "MB = MultiBasis(B, Nx)\n",
    "f = ExpandedFunction([MultiFunction(MB, rand(1:6,10)) for i=1:5], randn(5));"
   ]
  },
  {
   "cell_type": "code",
   "execution_count": 10,
   "metadata": {},
   "outputs": [
    {
     "ename": "MethodError",
     "evalue": "MethodError: no method matching getindex(::MultiBasis{6,10}, ::Int64)",
     "output_type": "error",
     "traceback": [
      "MethodError: no method matching getindex(::MultiBasis{6,10}, ::Int64)",
      "",
      "Stacktrace:",
      " [1] (::MultiFunction{6,10})(::Array{ForwardDiff.Dual{ForwardDiff.Tag{ExpandedFunction{5,6,10},Float64},Float64,10},1}) at /media/mat/HDD/AdaptiveTransportMap/src/multifunction.jl:39",
      " [2] ExpandedFunction at /media/mat/HDD/AdaptiveTransportMap/src/expandedfunction.jl:30 [inlined]",
      " [3] vector_mode_dual_eval(::ExpandedFunction{5,6,10}, ::Array{Float64,1}, ::ForwardDiff.GradientConfig{ForwardDiff.Tag{ExpandedFunction{5,6,10},Float64},Float64,10,Array{ForwardDiff.Dual{ForwardDiff.Tag{ExpandedFunction{5,6,10},Float64},Float64,10},1}}) at /home/mat/.julia/packages/ForwardDiff/sdToQ/src/apiutils.jl:37",
      " [4] vector_mode_gradient! at /home/mat/.julia/packages/ForwardDiff/sdToQ/src/gradient.jl:103 [inlined]",
      " [5] gradient! at /home/mat/.julia/packages/ForwardDiff/sdToQ/src/gradient.jl:35 [inlined]",
      " [6] gradient!(::DiffResults.MutableDiffResult{2,Float64,Tuple{Array{Float64,1},Array{Float64,2}}}, ::ExpandedFunction{5,6,10}, ::Array{Float64,1}, ::ForwardDiff.GradientConfig{ForwardDiff.Tag{ExpandedFunction{5,6,10},Float64},Float64,10,Array{ForwardDiff.Dual{ForwardDiff.Tag{ExpandedFunction{5,6,10},Float64},Float64,10},1}}) at /home/mat/.julia/packages/ForwardDiff/sdToQ/src/gradient.jl:33 (repeats 2 times)",
      " [7] macro expansion at ./util.jl:175 [inlined]",
      " [8] top-level scope at ./In[10]:2"
     ]
    }
   ],
   "source": [
    "result = DiffResults.HessianResult(randn(10));\n",
    "@time result = ForwardDiff.gradient!(result, f, randn(10));"
   ]
  },
  {
   "cell_type": "code",
   "execution_count": 11,
   "metadata": {},
   "outputs": [
    {
     "ename": "MethodError",
     "evalue": "MethodError: no method matching first()\nClosest candidates are:\n  first(!Matched::Tuple{}) at tuple.jl:95\n  first(!Matched::BitSet) at bitset.jl:356\n  first(!Matched::Core.Compiler.StmtRange) at show.jl:1848\n  ...",
     "output_type": "error",
     "traceback": [
      "MethodError: no method matching first()\nClosest candidates are:\n  first(!Matched::Tuple{}) at tuple.jl:95\n  first(!Matched::BitSet) at bitset.jl:356\n  first(!Matched::Core.Compiler.StmtRange) at show.jl:1848\n  ...",
      "",
      "Stacktrace:",
      " [1] top-level scope at In[11]:1"
     ]
    }
   ],
   "source": [
    "first()"
   ]
  },
  {
   "cell_type": "code",
   "execution_count": 12,
   "metadata": {},
   "outputs": [
    {
     "data": {
      "text/plain": [
       "timing2 (generic function with 1 method)"
      ]
     },
     "execution_count": 12,
     "metadata": {},
     "output_type": "execute_result"
    }
   ],
   "source": [
    "function timing2()\n",
    "    @btime x = randn(100,20)\n",
    "    @btime begin \n",
    "        x = randn(20,200)\n",
    "        for i=1:200\n",
    "        x[10,i]\n",
    "        end\n",
    "    end\n",
    "end"
   ]
  },
  {
   "cell_type": "code",
   "execution_count": 13,
   "metadata": {},
   "outputs": [
    {
     "name": "stdout",
     "output_type": "stream",
     "text": [
      "  10.325 μs (1 allocation: 15.75 KiB)\n",
      "  20.985 μs (2 allocations: 31.33 KiB)\n"
     ]
    }
   ],
   "source": [
    "timing2()"
   ]
  },
  {
   "cell_type": "code",
   "execution_count": 14,
   "metadata": {},
   "outputs": [
    {
     "data": {
      "text/plain": [
       "timing (generic function with 1 method)"
      ]
     },
     "execution_count": 14,
     "metadata": {},
     "output_type": "execute_result"
    }
   ],
   "source": [
    "function timing()\n",
    "    Nx = 10\n",
    "    Nψ = 8\n",
    "    B = CstProHermite(4)\n",
    "    MB = MultiBasis(B, Nx);\n",
    "    f = ExpandedFunction([MultiFunction(MB, rand(1:6,10)) for i=1:5], randn(5));\n",
    "    [f(randn(10)) for i=1:200]\n",
    "end"
   ]
  },
  {
   "cell_type": "code",
   "execution_count": null,
   "metadata": {},
   "outputs": [],
   "source": []
  },
  {
   "cell_type": "code",
   "execution_count": 15,
   "metadata": {},
   "outputs": [
    {
     "ename": "MethodError",
     "evalue": "MethodError: no method matching getindex(::MultiBasis{6,10}, ::Int64)",
     "output_type": "error",
     "traceback": [
      "MethodError: no method matching getindex(::MultiBasis{6,10}, ::Int64)",
      "",
      "Stacktrace:",
      " [1] (::MultiFunction{6,10})(::Array{Float64,1}) at /media/mat/HDD/AdaptiveTransportMap/src/multifunction.jl:39",
      " [2] ExpandedFunction at /media/mat/HDD/AdaptiveTransportMap/src/expandedfunction.jl:30 [inlined]",
      " [3] (::var\"#21#23\"{ExpandedFunction{5,6,10}})(::Int64) at ./none:0",
      " [4] iterate at ./generator.jl:47 [inlined]",
      " [5] collect(::Base.Generator{UnitRange{Int64},var\"#21#23\"{ExpandedFunction{5,6,10}}}) at ./array.jl:665",
      " [6] timing() at ./In[14]:7",
      " [7] ##core#338() at /home/mat/.julia/packages/BenchmarkTools/eCEpo/src/execution.jl:371",
      " [8] ##sample#339(::BenchmarkTools.Parameters) at /home/mat/.julia/packages/BenchmarkTools/eCEpo/src/execution.jl:377",
      " [9] _run(::BenchmarkTools.Benchmark{Symbol(\"##benchmark#337\")}, ::BenchmarkTools.Parameters; verbose::Bool, pad::String, kwargs::Base.Iterators.Pairs{Symbol,Integer,NTuple{4,Symbol},NamedTuple{(:samples, :evals, :gctrial, :gcsample),Tuple{Int64,Int64,Bool,Bool}}}) at /home/mat/.julia/packages/BenchmarkTools/eCEpo/src/execution.jl:405",
      " [10] (::Base.var\"#inner#2\"{Base.Iterators.Pairs{Symbol,Integer,NTuple{5,Symbol},NamedTuple{(:verbose, :samples, :evals, :gctrial, :gcsample),Tuple{Bool,Int64,Int64,Bool,Bool}}},typeof(BenchmarkTools._run),Tuple{BenchmarkTools.Benchmark{Symbol(\"##benchmark#337\")},BenchmarkTools.Parameters}})() at ./essentials.jl:715",
      " [11] #invokelatest#1 at ./essentials.jl:716 [inlined]",
      " [12] #run_result#37 at /home/mat/.julia/packages/BenchmarkTools/eCEpo/src/execution.jl:32 [inlined]",
      " [13] run(::BenchmarkTools.Benchmark{Symbol(\"##benchmark#337\")}, ::BenchmarkTools.Parameters; progressid::Nothing, nleaves::Float64, ndone::Float64, kwargs::Base.Iterators.Pairs{Symbol,Integer,NTuple{5,Symbol},NamedTuple{(:verbose, :samples, :evals, :gctrial, :gcsample),Tuple{Bool,Int64,Int64,Bool,Bool}}}) at /home/mat/.julia/packages/BenchmarkTools/eCEpo/src/execution.jl:94",
      " [14] #warmup#45 at /home/mat/.julia/packages/BenchmarkTools/eCEpo/src/execution.jl:141 [inlined]",
      " [15] warmup(::BenchmarkTools.Benchmark{Symbol(\"##benchmark#337\")}) at /home/mat/.julia/packages/BenchmarkTools/eCEpo/src/execution.jl:141",
      " [16] top-level scope at /home/mat/.julia/packages/BenchmarkTools/eCEpo/src/execution.jl:481",
      " [17] top-level scope at In[15]:1"
     ]
    }
   ],
   "source": [
    "@btime timing()"
   ]
  },
  {
   "cell_type": "code",
   "execution_count": 16,
   "metadata": {},
   "outputs": [
    {
     "ename": "MethodError",
     "evalue": "MethodError: no method matching getindex(::MultiBasis{6,10}, ::Int64)",
     "output_type": "error",
     "traceback": [
      "MethodError: no method matching getindex(::MultiBasis{6,10}, ::Int64)",
      "",
      "Stacktrace:",
      " [1] (::MultiFunction{6,10})(::Array{Float64,1}) at /media/mat/HDD/AdaptiveTransportMap/src/multifunction.jl:39",
      " [2] (::ExpandedFunction{5,6,10})(::Array{Float64,1}) at /media/mat/HDD/AdaptiveTransportMap/src/expandedfunction.jl:30",
      " [3] (::var\"#25#26\")(::Int64) at ./none:0",
      " [4] iterate at ./generator.jl:47 [inlined]",
      " [5] collect(::Base.Generator{UnitRange{Int64},var\"#25#26\"}) at ./array.jl:665",
      " [6] top-level scope at util.jl:175",
      " [7] top-level scope at In[16]:1"
     ]
    }
   ],
   "source": [
    "@time [f(randn(10)) for i=1:200]"
   ]
  },
  {
   "cell_type": "code",
   "execution_count": 18,
   "metadata": {},
   "outputs": [
    {
     "data": {
      "text/plain": [
       "timing (generic function with 1 method)"
      ]
     },
     "execution_count": 18,
     "metadata": {},
     "output_type": "execute_result"
    }
   ],
   "source": [
    "function timing() \n",
    "    f = MultiFunction(MB, rand(1:6,10));\n",
    "    result = DiffResults.HessianResult(randn(10));\n",
    "    result = ForwardDiff.hessian!(result, f, randn(10));\n",
    "end"
   ]
  },
  {
   "cell_type": "code",
   "execution_count": 19,
   "metadata": {},
   "outputs": [
    {
     "data": {
      "text/plain": [
       "timing2 (generic function with 1 method)"
      ]
     },
     "execution_count": 19,
     "metadata": {},
     "output_type": "execute_result"
    }
   ],
   "source": [
    "function timing2() \n",
    "    f = MultiFunction(MB, rand(1:6,10));\n",
    "    x = randn(10)\n",
    "    f(x)\n",
    "    ForwardDiff.gradient(f, x);\n",
    "    ForwardDiff.hessian(f, x);\n",
    "end"
   ]
  },
  {
   "cell_type": "markdown",
   "metadata": {},
   "source": [
    "### Hermite functions"
   ]
  },
  {
   "cell_type": "code",
   "execution_count": 68,
   "metadata": {},
   "outputs": [
    {
     "data": {
      "text/plain": [
       "PhyHermite{4}(PhyPolyHermite{4}(ImmutablePolynomial(0.4599685791773267 - 1.8398743167093068*x^2 + 0.6132914389031022*x^4), true), true)"
      ]
     },
     "execution_count": 68,
     "metadata": {},
     "output_type": "execute_result"
    }
   ],
   "source": [
    "FamilyScaledPhyHermite[5]"
   ]
  },
  {
   "cell_type": "code",
   "execution_count": 61,
   "metadata": {},
   "outputs": [
    {
     "data": {
      "text/plain": [
       "(0.5630021473036511, 8.881784197001252e-16)"
      ]
     },
     "execution_count": 61,
     "metadata": {},
     "output_type": "execute_result"
    }
   ],
   "source": [
    "integral, err = quadgk(x-> (12.0 -48*x^2 + 16*x^4)*exp(-x^2/2), 0.0, 1.0, rtol=1e-12)"
   ]
  },
  {
   "cell_type": "code",
   "execution_count": 103,
   "metadata": {},
   "outputs": [
    {
     "data": {
      "text/plain": [
       "integrate (generic function with 1 method)"
      ]
     },
     "execution_count": 103,
     "metadata": {},
     "output_type": "execute_result"
    }
   ],
   "source": [
    "function integrate(f,a,b)\n",
    "    return quadgk(x-> f(x), a, b, rtol=1e-12)[1]\n",
    "end"
   ]
  },
  {
   "cell_type": "code",
   "execution_count": 107,
   "metadata": {},
   "outputs": [
    {
     "data": {
      "text/plain": [
       "timing (generic function with 1 method)"
      ]
     },
     "execution_count": 107,
     "metadata": {},
     "output_type": "execute_result"
    }
   ],
   "source": [
    "function timing()\n",
    "    @btime integrate(FamilyScaledPhyHermite[7], 0, 2.0)\n",
    "    @btime derivative(FamilyScaledPhyHermite[7], -1, [2.0])\n",
    "end"
   ]
  },
  {
   "cell_type": "code",
   "execution_count": 108,
   "metadata": {},
   "outputs": [
    {
     "name": "stdout",
     "output_type": "stream",
     "text": [
      "  10.976 μs (848 allocations: 13.86 KiB)\n",
      "  3.005 μs (108 allocations: 3.39 KiB)\n"
     ]
    },
    {
     "data": {
      "text/plain": [
       "1-element Array{Float64,1}:\n",
       " -0.08868073032617163"
      ]
     },
     "execution_count": 108,
     "metadata": {},
     "output_type": "execute_result"
    }
   ],
   "source": [
    "timing()"
   ]
  }
 ],
 "metadata": {
  "kernelspec": {
   "display_name": "Julia 1.4.0",
   "language": "julia",
   "name": "julia-1.4"
  },
  "language_info": {
   "file_extension": ".jl",
   "mimetype": "application/julia",
   "name": "julia",
   "version": "1.4.0"
  }
 },
 "nbformat": 4,
 "nbformat_minor": 2
}
