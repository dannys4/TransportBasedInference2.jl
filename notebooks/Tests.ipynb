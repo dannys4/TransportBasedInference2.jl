{
 "cells": [
  {
   "cell_type": "code",
   "execution_count": 1,
   "metadata": {},
   "outputs": [
    {
     "name": "stderr",
     "output_type": "stream",
     "text": [
      "\u001b[32m\u001b[1m Activating\u001b[22m\u001b[39m environment at `/media/mat/HDD/AdaptiveTransportMap/Project.toml`\n"
     ]
    }
   ],
   "source": [
    "using Pkg\n",
    "Pkg.activate(\"/media/mat/HDD/AdaptiveTransportMap/\")"
   ]
  },
  {
   "cell_type": "code",
   "execution_count": 2,
   "metadata": {},
   "outputs": [
    {
     "name": "stderr",
     "output_type": "stream",
     "text": [
      "┌ Info: Precompiling AdaptiveTransportMap [bdf749b0-1400-4207-80d3-e689c0e3f03d]\n",
      "└ @ Base loading.jl:1260\n",
      "WARNING: using Distributions.scale! in module Main conflicts with an existing identifier.\n"
     ]
    }
   ],
   "source": [
    "using Revise\n",
    "using AdaptiveTransportMap\n",
    "using LinearAlgebra\n",
    "using Test\n",
    "using ForwardDiff\n",
    "using SpecialFunctions\n",
    "using Polynomials\n",
    "using BenchmarkTools\n",
    "using TransportMap\n",
    "using QuadGK\n",
    "using FastGaussQuadrature\n",
    "using AdaptiveTransportMap: derivative, vander, scale!, evaluate\n",
    "using DiffResults\n",
    "using Distributions\n",
    "using Random\n",
    "using LoopVectorization\n",
    "using Optim"
   ]
  },
  {
   "cell_type": "markdown",
   "metadata": {},
   "source": [
    "### Greedy fit"
   ]
  },
  {
   "cell_type": "code",
   "execution_count": 48,
   "metadata": {},
   "outputs": [
    {
     "name": "stdout",
     "output_type": "stream",
     "text": [
      "reduced_margin = [0 1; 1 0]\n"
     ]
    },
    {
     "data": {
      "text/plain": [
       "3×2 Array{Int64,2}:\n",
       " 0  0\n",
       " 0  1\n",
       " 1  0"
      ]
     },
     "execution_count": 48,
     "metadata": {},
     "output_type": "execute_result"
    }
   ],
   "source": [
    "Nx = 2\n",
    "Ne = 8\n",
    "m = 5\n",
    "ens = EnsembleState(Nx, Ne)\n",
    "\n",
    "ens.S .=  [0.267333   1.43021;\n",
    "          0.364979   0.607224;\n",
    "         -1.23693    0.249277;\n",
    "         -2.0526     0.915629;\n",
    "         -0.182465   0.415874;\n",
    "          0.412907   1.01672;\n",
    "          1.41332   -0.918205;\n",
    "          0.766647  -1.00445]';\n",
    "# Initialize map with zero coefficients\n",
    "Hk = HermiteMapk(m, Nx; α = 1e-6);\n",
    "\n",
    "setcoeff!(Hk, [1.5])\n",
    "reduced_margin = getreducedmargin(getidx(Hk))\n",
    "@show reduced_margin\n",
    "idx_new = vcat(getidx(Hk), reduced_margin)"
   ]
  },
  {
   "cell_type": "code",
   "execution_count": 49,
   "metadata": {},
   "outputs": [],
   "source": [
    "Hk_new = HermiteMapk(m, Nx, idx_new, vcat(getcoeff(Hk), zeros(2)));"
   ]
  },
  {
   "cell_type": "code",
   "execution_count": 50,
   "metadata": {},
   "outputs": [
    {
     "data": {
      "text/plain": [
       "([1.5, 0.0, 0.0], [2, 3], [0 1; 1 0])"
      ]
     },
     "execution_count": 50,
     "metadata": {},
     "output_type": "execute_result"
    }
   ],
   "source": [
    "update_coeffs(Hk, Hk_new)"
   ]
  },
  {
   "cell_type": "code",
   "execution_count": 77,
   "metadata": {},
   "outputs": [],
   "source": [
    "Nx = 3\n",
    "m = 5\n",
    "# Initialize map with zero coefficients\n",
    "Hk_old = HermiteMapk(m, Nx, [0 0 0; 0 0 1; 0 0 2; 0 1 0; 0 2 0], randn(5); α = 1e-6);\n"
   ]
  },
  {
   "cell_type": "code",
   "execution_count": 69,
   "metadata": {},
   "outputs": [
    {
     "name": "stdout",
     "output_type": "stream",
     "text": [
      "idx_old = [0 0; 1 0; 2 0; 0 1; 0 2; 1 1]\n",
      "idx_new = [0 0; 1 0; 2 0; 0 1; 0 2; 1 1; 0 3; 1 2; 2 1; 3 0]\n",
      "Nψnew = 10\n"
     ]
    },
    {
     "data": {
      "text/plain": [
       "([0.20532018118655374, -0.4231686997930695, 0.718162274773638, -0.61515082952004, 0.6720315052597045, -0.05996792662441392, 0.0, 0.0, 0.0, 0.0], [7, 8, 9, 10], [0 3; 1 2; 2 1; 3 0])"
      ]
     },
     "execution_count": 69,
     "metadata": {},
     "output_type": "execute_result"
    }
   ],
   "source": []
  },
  {
   "cell_type": "code",
   "execution_count": 74,
   "metadata": {},
   "outputs": [
    {
     "name": "stdout",
     "output_type": "stream",
     "text": [
      "coeff_new = [0.20532018118655374, -0.4231686997930695, 0.718162274773638, -0.61515082952004, 0.6720315052597045, -0.05996792662441392, 0.0, 0.0, 0.0, 0.0]\n",
      "vcat(getcoeff(Hk_old), zeros(4)) = [0.20532018118655374, -0.4231686997930695, 0.718162274773638, -0.61515082952004, 0.6720315052597045, -0.05996792662441392, 0.0, 0.0, 0.0, 0.0]\n"
     ]
    },
    {
     "data": {
      "text/plain": [
       "\u001b[32m\u001b[1mTest Passed\u001b[22m\u001b[39m"
      ]
     },
     "execution_count": 74,
     "metadata": {},
     "output_type": "execute_result"
    }
   ],
   "source": []
  },
  {
   "cell_type": "code",
   "execution_count": null,
   "metadata": {},
   "outputs": [],
   "source": []
  },
  {
   "cell_type": "code",
   "execution_count": 5,
   "metadata": {},
   "outputs": [],
   "source": [
    "Nx = 2\n",
    "Ne = 8\n",
    "ens = EnsembleState(Nx, Ne)\n",
    "\n",
    "ens.S .=  [0.267333   1.43021;\n",
    "          0.364979   0.607224;\n",
    "         -1.23693    0.249277;\n",
    "         -2.0526     0.915629;\n",
    "         -0.182465   0.415874;\n",
    "          0.412907   1.01672;\n",
    "          1.41332   -0.918205;\n",
    "          0.766647  -1.00445]';\n",
    "B = MultiBasis(CstProHermite(3; scaled =true), Nx)\n",
    "\n",
    "idx = [0 0; 0 1; 1 0; 2 1; 1 2]\n",
    "truncidx = idx[1:2:end,:]\n",
    "Nψ = 5\n",
    "\n",
    "coeff =  [0.6285037650645056;\n",
    " -0.4744029092496623;\n",
    "  1.1405280011620331;\n",
    " -0.7217760771894809;\n",
    "  0.11855056306742319]\n",
    "f = ExpandedFunction(B, idx, coeff)\n",
    "\n",
    "fp = ParametricFunction(f)\n",
    "R = IntegratedFunction(fp)\n",
    "\n",
    "H = HermiteMapk(R; α = 1e-2)\n",
    "\n",
    "\n",
    "S = Storage(H.I.f, ens.S);\n",
    "addedidx = [2 2; 2 3; 2 4; 3 2]\n",
    "@time update_storage!(S, ens.S, addedidx)"
   ]
  },
  {
   "cell_type": "code",
   "execution_count": 133,
   "metadata": {},
   "outputs": [
    {
     "data": {
      "text/plain": [
       "8×5 Array{Float64,2}:\n",
       " 0.0  -0.270855   0.0  -0.270855   -0.00861698\n",
       " 0.0  -0.17488    0.0  -0.17488     0.469807\n",
       " 0.0  -0.0775105  0.0  -0.0775105   0.602561\n",
       " 0.0  -0.234487   0.0  -0.234487    0.297485\n",
       " 0.0  -0.125779   0.0  -0.125779    0.552583\n",
       " 0.0  -0.247966   0.0  -0.247966    0.235664\n",
       " 0.0   0.234869   0.0   0.234869    0.295925\n",
       " 0.0   0.246497   0.0   0.246497    0.243216"
      ]
     },
     "execution_count": 133,
     "metadata": {},
     "output_type": "execute_result"
    }
   ],
   "source": [
    "S.dψxd"
   ]
  },
  {
   "cell_type": "markdown",
   "metadata": {},
   "source": [
    "### Expanded Function"
   ]
  },
  {
   "cell_type": "code",
   "execution_count": 85,
   "metadata": {},
   "outputs": [],
   "source": [
    "X = deepcopy(ens.S)\n",
    "\n",
    "xk = X[Nx,:];"
   ]
  },
  {
   "cell_type": "code",
   "execution_count": 92,
   "metadata": {},
   "outputs": [],
   "source": [
    "negative_log_likelihood!(S, H, ens.S)(nothing, zeros(Nψ), randn(Nψ))"
   ]
  },
  {
   "cell_type": "code",
   "execution_count": 91,
   "metadata": {},
   "outputs": [
    {
     "data": {
      "text/plain": [
       "Int64"
      ]
     },
     "execution_count": 91,
     "metadata": {},
     "output_type": "execute_result"
    }
   ],
   "source": [
    "typeof(10^5)"
   ]
  },
  {
   "cell_type": "code",
   "execution_count": 88,
   "metadata": {},
   "outputs": [],
   "source": [
    "coeff = zeros(Nψ);"
   ]
  },
  {
   "cell_type": "code",
   "execution_count": 67,
   "metadata": {},
   "outputs": [],
   "source": [
    "S = Storage(H.I.f, ens.S);"
   ]
  },
  {
   "cell_type": "code",
   "execution_count": 104,
   "metadata": {},
   "outputs": [
    {
     "data": {
      "text/plain": [
       "5-element Array{Float64,1}:\n",
       "  0.550365898298582\n",
       " -0.8235761760320128\n",
       " -0.9742699195449483\n",
       "  1.5527945828564937\n",
       "  0.41476431680122144"
      ]
     },
     "execution_count": 104,
     "metadata": {},
     "output_type": "execute_result"
    }
   ],
   "source": [
    "res = Optim.optimize(Optim.only_fg!(negative_log_likelihood!(S, H, X)), coeff, Optim.BFGS())\n",
    "Optim.minimizer(res)"
   ]
  },
  {
   "cell_type": "code",
   "execution_count": null,
   "metadata": {},
   "outputs": [],
   "source": []
  }
 ],
 "metadata": {
  "kernelspec": {
   "display_name": "Julia 1.4.0",
   "language": "julia",
   "name": "julia-1.4"
  },
  "language_info": {
   "file_extension": ".jl",
   "mimetype": "application/julia",
   "name": "julia",
   "version": "1.4.0"
  }
 },
 "nbformat": 4,
 "nbformat_minor": 2
}
