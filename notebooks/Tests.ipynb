{
 "cells": [
  {
   "cell_type": "code",
   "execution_count": 1,
   "metadata": {},
   "outputs": [
    {
     "name": "stderr",
     "output_type": "stream",
     "text": [
      "\u001b[32m\u001b[1m Activating\u001b[22m\u001b[39m environment at `/media/mat/HDD/AdaptiveTransportMap/Project.toml`\n"
     ]
    }
   ],
   "source": [
    "using Pkg\n",
    "Pkg.activate(\"/media/mat/HDD/AdaptiveTransportMap/\")"
   ]
  },
  {
   "cell_type": "code",
   "execution_count": 7,
   "metadata": {
    "scrolled": false
   },
   "outputs": [
    {
     "name": "stderr",
     "output_type": "stream",
     "text": [
      "┌ Info: Precompiling AdaptiveTransportMap [bdf749b0-1400-4207-80d3-e689c0e3f03d]\n",
      "└ @ Base loading.jl:1260\n",
      "WARNING: using Optim.optimize in module Main conflicts with an existing identifier.\n"
     ]
    }
   ],
   "source": [
    "using Revise\n",
    "using AdaptiveTransportMap\n",
    "using LinearAlgebra\n",
    "import LinearAlgebra: ldiv!, dot\n",
    "using Test\n",
    "using ForwardDiff\n",
    "using SpecialFunctions\n",
    "using BenchmarkTools\n",
    "using TransportMap\n",
    "using QuadGK\n",
    "using AdaptiveTransportMap: transform!, evaluate, ncoeff, optimize, negative_log_likelihood!\n",
    "using DiffResults\n",
    "using Distributions\n",
    "using Random\n",
    "using LoopVectorization\n",
    "using Optim\n",
    "using NLsolve\n",
    "using Polynomials\n",
    "using Optim: InverseDiagonal\n",
    "using MLDataUtils\n",
    "using Test"
   ]
  },
  {
   "cell_type": "markdown",
   "metadata": {},
   "source": [
    "### MapComponent"
   ]
  },
  {
   "cell_type": "code",
   "execution_count": 8,
   "metadata": {},
   "outputs": [],
   "source": [
    "Nx = 2\n",
    "Ne = 8\n",
    "\n",
    "X = Matrix([0.267333   1.43021;\n",
    "      0.364979   0.607224;\n",
    "     -1.23693    0.249277;\n",
    "     -2.0526     0.915629;\n",
    "     -0.182465   0.415874;\n",
    "      0.412907   1.01672;\n",
    "      1.41332   -0.918205;\n",
    "      0.766647  -1.00445]')\n",
    "\n",
    "# X = randn(Nx, Ne)\n",
    "\n",
    "B = MultiBasis(CstProHermite(10; scaled =true), Nx)\n",
    "\n",
    "idx = [0 0; 0 1; 1 0; 0 2; 2 0; 1 1]\n",
    "\n",
    "Nψ = size(idx,1)\n",
    "coeff = [-0.9905841755746164;\n",
    "          0.6771992097558741;\n",
    "         -2.243695806805015;\n",
    "         -0.34591297359447354;\n",
    "         -1.420159186008486;\n",
    "         -0.5361337327704369];\n",
    "\n",
    "f = ExpandedFunction(B, idx, coeff)\n",
    "\n",
    "C = MapComponent(f)\n",
    "\n",
    "out = zeros(Ne, Nψ);\n",
    "cache = zeros(Ne, maximum(idx[:,end])+1);\n",
    "\n",
    "S = Storage(ParametricFunction(f), X);\n",
    "xlast = view(X, Nx, :);"
   ]
  },
  {
   "cell_type": "code",
   "execution_count": 9,
   "metadata": {},
   "outputs": [
    {
     "name": "stdout",
     "output_type": "stream",
     "text": [
      "  2.620552 seconds (8.25 M allocations: 409.450 MiB, 3.11% gc time)\n"
     ]
    },
    {
     "data": {
      "text/plain": [
       "3.0667442714690627"
      ]
     },
     "execution_count": 9,
     "metadata": {},
     "output_type": "execute_result"
    }
   ],
   "source": [
    "J = 0.0\n",
    "dJ = zero(coeff)\n",
    "@time negative_log_likelihood!(J, dJ, coeff, S, C, X)"
   ]
  },
  {
   "cell_type": "code",
   "execution_count": 10,
   "metadata": {},
   "outputs": [
    {
     "data": {
      "text/plain": [
       "6-element Array{Float64,1}:\n",
       " -1.6651836742291564\n",
       " -0.9194410618771688\n",
       " -0.9009267357141437\n",
       " -0.11952335389279933\n",
       " -0.47279730850634705\n",
       " -0.4968634265921353"
      ]
     },
     "execution_count": 10,
     "metadata": {},
     "output_type": "execute_result"
    }
   ],
   "source": [
    "dJ"
   ]
  },
  {
   "cell_type": "code",
   "execution_count": 6,
   "metadata": {},
   "outputs": [
    {
     "data": {
      "text/plain": [
       "3.0667442714690627"
      ]
     },
     "execution_count": 6,
     "metadata": {},
     "output_type": "execute_result"
    }
   ],
   "source": [
    "3.0667442714690627"
   ]
  },
  {
   "cell_type": "code",
   "execution_count": 184,
   "metadata": {},
   "outputs": [
    {
     "data": {
      "text/plain": [
       "6-element Array{Float64,1}:\n",
       " -1.6651836742291564\n",
       " -0.9194410618771688\n",
       " -0.9009267357141437\n",
       " -0.11952335389279933\n",
       " -0.47279730850634705\n",
       " -0.4968634265921353"
      ]
     },
     "execution_count": 184,
     "metadata": {},
     "output_type": "execute_result"
    }
   ],
   "source": [
    "dJ"
   ]
  },
  {
   "cell_type": "markdown",
   "metadata": {},
   "source": [
    "### HermiteMap"
   ]
  },
  {
   "cell_type": "code",
   "execution_count": 11,
   "metadata": {},
   "outputs": [],
   "source": [
    "Nx = 20\n",
    "Ne = 300\n",
    "m = 10\n",
    "X = randn(Nx, Ne) .* randn(Nx, Ne) .+ rand(Nx);\n",
    "X0 = deepcopy(X);"
   ]
  },
  {
   "cell_type": "code",
   "execution_count": 12,
   "metadata": {},
   "outputs": [],
   "source": [
    "M = HermiteMap(m, X);"
   ]
  },
  {
   "cell_type": "code",
   "execution_count": 13,
   "metadata": {},
   "outputs": [],
   "source": [
    "optimize(M, X, 6; apply_rescaling = true);"
   ]
  },
  {
   "cell_type": "code",
   "execution_count": 14,
   "metadata": {},
   "outputs": [
    {
     "data": {
      "text/plain": [
       "timing (generic function with 1 method)"
      ]
     },
     "execution_count": 14,
     "metadata": {},
     "output_type": "execute_result"
    }
   ],
   "source": [
    "function timing()\n",
    "#     @btime begin\n",
    "#         Nx = 10\n",
    "#         Ne = 300\n",
    "#         m = 10\n",
    "#         X = randn(Nx, Ne) .* randn(Nx, Ne) .+ rand(Nx);\n",
    "#         X0 = deepcopy(X);   \n",
    "# #         M = HermiteMap(m, X);    \n",
    "# #         optimize(M, X, 4; apply_rescaling = true)\n",
    "#     end\n",
    "    \n",
    "    @btime begin\n",
    "        Nx = 20\n",
    "        Ne = 300\n",
    "        m = 10\n",
    "        X = randn(Nx, Ne) .* randn(Nx, Ne) .+ rand(Nx);\n",
    "        X0 = deepcopy(X);   \n",
    "        M = HermiteMap(m, X);    \n",
    "        optimize(M, X, 10; apply_rescaling = true)\n",
    "    end\n",
    "end"
   ]
  },
  {
   "cell_type": "code",
   "execution_count": 15,
   "metadata": {
    "scrolled": true
   },
   "outputs": [
    {
     "name": "stdout",
     "output_type": "stream",
     "text": [
      "  840.228 ms (911879 allocations: 1.17 GiB)\n"
     ]
    }
   ],
   "source": [
    "timing();"
   ]
  },
  {
   "cell_type": "code",
   "execution_count": null,
   "metadata": {},
   "outputs": [],
   "source": [
    "timing();"
   ]
  },
  {
   "cell_type": "code",
   "execution_count": 21,
   "metadata": {
    "scrolled": true
   },
   "outputs": [
    {
     "name": "stdout",
     "output_type": "stream",
     "text": [
      "  35.510 μs (11 allocations: 94.58 KiB)\n",
      "  977.112 ms (1135599 allocations: 1.88 GiB)\n"
     ]
    }
   ],
   "source": [
    "timing();"
   ]
  },
  {
   "cell_type": "markdown",
   "metadata": {},
   "source": [
    "### Greedyfit"
   ]
  },
  {
   "cell_type": "code",
   "execution_count": 147,
   "metadata": {},
   "outputs": [
    {
     "data": {
      "text/plain": [
       "10×300 Array{Float64,2}:\n",
       " -0.510134  -0.562906      0.207835   …   0.603149   -0.135178   -2.06874\n",
       "  0.563244   0.270002      0.0730356      0.183428   -1.98688     1.49501\n",
       " -0.580729  -0.0807876    -1.36437        3.19454     1.0868      0.127014\n",
       "  0.223594  -0.505226      0.11727       -0.0820303   0.683815    0.444308\n",
       "  0.766521  -0.610468      0.794075       0.459418   -0.541611    0.137747\n",
       " -0.631377   0.000790393  -0.736893   …   0.33681     0.0761422   0.108859\n",
       "  0.377613  -0.123608      0.0403368     -0.17197    -1.24888    -0.0448311\n",
       " -2.72811    0.0854831     0.364345       0.334086   -0.332072    1.4834\n",
       " -0.158118  -2.01583       1.07898        0.394449    0.11052     0.541683\n",
       "  0.407627  -1.71966       0.492976      -0.806238   -0.805357    0.507764"
      ]
     },
     "execution_count": 147,
     "metadata": {},
     "output_type": "execute_result"
    }
   ],
   "source": [
    "Nx = 10\n",
    "Ne = 300\n",
    "m = 20\n",
    "\n",
    "# X = Matrix([0.267333   1.43021;\n",
    "#       0.364979   0.607224;\n",
    "#      -1.23693    0.249277;\n",
    "#      -2.0526     0.915629;\n",
    "#      -0.182465   0.415874;\n",
    "#       0.412907   1.01672;\n",
    "#       1.41332   -0.918205;\n",
    "#       0.766647  -1.00445]');\n",
    "\n",
    "X = randn(Nx, Ne) .* randn(Nx, Ne) .+ rand(Nx)\n",
    "L = LinearTransform(X; diag = true)\n",
    "\n",
    "transform!(L, X)"
   ]
  },
  {
   "cell_type": "code",
   "execution_count": 148,
   "metadata": {},
   "outputs": [
    {
     "name": "stdout",
     "output_type": "stream",
     "text": [
      "  19.438 ms (22481 allocations: 14.75 MiB)\n"
     ]
    }
   ],
   "source": [
    "@btime greedyfit($m, $Nx, $X, $8; verbose = false);"
   ]
  },
  {
   "cell_type": "code",
   "execution_count": 33,
   "metadata": {},
   "outputs": [
    {
     "name": "stdout",
     "output_type": "stream",
     "text": [
      "  17.678 ms (31741 allocations: 42.76 MiB)\n"
     ]
    }
   ],
   "source": [
    "@btime greedyfit($m, $Nx, $X, $8; verbose = false);"
   ]
  },
  {
   "cell_type": "code",
   "execution_count": 30,
   "metadata": {},
   "outputs": [
    {
     "name": "stdout",
     "output_type": "stream",
     "text": [
      "  0.045642 seconds (41.58 k allocations: 64.954 MiB, 16.33% gc time)\n"
     ]
    }
   ],
   "source": [
    "@time greedyfit(m, Nx, X, 8; verbose = false);"
   ]
  },
  {
   "cell_type": "code",
   "execution_count": 34,
   "metadata": {},
   "outputs": [
    {
     "name": "stdout",
     "output_type": "stream",
     "text": [
      "  0.044889 seconds (41.58 k allocations: 64.954 MiB, 12.20% gc time)\n"
     ]
    }
   ],
   "source": [
    "@time greedyfit(m, Nx, X, 8; verbose = false);"
   ]
  },
  {
   "cell_type": "code",
   "execution_count": 35,
   "metadata": {},
   "outputs": [
    {
     "name": "stdout",
     "output_type": "stream",
     "text": [
      "  29.638 ms (41583 allocations: 64.95 MiB)\n"
     ]
    }
   ],
   "source": [
    "@btime greedyfit($m, $Nx, $X, $8; verbose = false);"
   ]
  },
  {
   "cell_type": "code",
   "execution_count": null,
   "metadata": {},
   "outputs": [],
   "source": []
  }
 ],
 "metadata": {
  "kernelspec": {
   "display_name": "Julia 1.4.0",
   "language": "julia",
   "name": "julia-1.4"
  },
  "language_info": {
   "file_extension": ".jl",
   "mimetype": "application/julia",
   "name": "julia",
   "version": "1.4.0"
  }
 },
 "nbformat": 4,
 "nbformat_minor": 2
}
