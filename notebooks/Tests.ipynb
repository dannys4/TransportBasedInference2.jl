{
 "cells": [
  {
   "cell_type": "code",
   "execution_count": 1,
   "metadata": {},
   "outputs": [
    {
     "name": "stderr",
     "output_type": "stream",
     "text": [
      "\u001b[32m\u001b[1m Activating\u001b[22m\u001b[39m environment at `/media/mat/HDD/AdaptiveTransportMap/Project.toml`\n"
     ]
    }
   ],
   "source": [
    "using Pkg\n",
    "Pkg.activate(\"/media/mat/HDD/AdaptiveTransportMap/\")"
   ]
  },
  {
   "cell_type": "code",
   "execution_count": 12,
   "metadata": {
    "scrolled": false
   },
   "outputs": [],
   "source": [
    "using Revise\n",
    "using AdaptiveTransportMap\n",
    "using LinearAlgebra\n",
    "import LinearAlgebra: ldiv!, dot\n",
    "using Test\n",
    "using ForwardDiff\n",
    "using SpecialFunctions\n",
    "using BenchmarkTools\n",
    "using TransportMap\n",
    "using QuadGK\n",
    "using Polynomials\n",
    "using Distributions\n",
    "using Random\n",
    "using LoopVectorization\n",
    "using Optim\n",
    "using NLsolve\n",
    "using MLDataUtils\n",
    "using MLDataPattern\n",
    "using Test\n",
    "using SparseArrays\n",
    "using QRupdate\n",
    "using AdaptiveTransportMap: vander, transform!, evaluate, ncoeff, optimize, negative_log_likelihood!, derivative\n",
    "using Quadrature\n",
    "using Cubature\n",
    "using FiniteDiff\n",
    "using Zygote"
   ]
  },
  {
   "cell_type": "markdown",
   "metadata": {},
   "source": [
    "### 1D example"
   ]
  },
  {
   "cell_type": "code",
   "execution_count": 50,
   "metadata": {},
   "outputs": [],
   "source": [
    "Nx = 1\n",
    "Ne = 500\n",
    "X = randn(Nx, Ne)\n",
    "ens = EnsembleState(X)\n",
    "m = 10\n",
    "B = MultiBasis(CstProHermite(3), Nx)\n",
    "\n",
    "idx = reshape([0; 1; 2; 3], (4,1))\n",
    "\n",
    "coeff =  randn(size(idx,1))\n",
    "\n",
    "C = MapComponent(m, Nx, idx, coeff)\n",
    "R = C.I;"
   ]
  },
  {
   "cell_type": "code",
   "execution_count": 51,
   "metadata": {},
   "outputs": [
    {
     "ename": "LoadError",
     "evalue": "MethodError: no method matching member()\nClosest candidates are:\n  member(!Matched::EnsembleState{Nx,Ne}, !Matched::Int64) where {Nx, Ne} at /media/mat/HDD/TransportMap/src/DataAssimilation/ensemble.jl:81",
     "output_type": "error",
     "traceback": [
      "MethodError: no method matching member()\nClosest candidates are:\n  member(!Matched::EnsembleState{Nx,Ne}, !Matched::Int64) where {Nx, Ne} at /media/mat/HDD/TransportMap/src/DataAssimilation/ensemble.jl:81",
      "",
      "Stacktrace:",
      " [1] top-level scope at In[51]:1",
      " [2] include_string(::Function, ::Module, ::String, ::String) at ./loading.jl:1091"
     ]
    }
   ],
   "source": [
    "ForwardDiff.gradient(x->log_pdf(evaluate(C, x)), member())"
   ]
  },
  {
   "cell_type": "code",
   "execution_count": 52,
   "metadata": {},
   "outputs": [
    {
     "data": {
      "text/plain": [
       "Gradient (generic function with 1 method)"
      ]
     },
     "execution_count": 52,
     "metadata": {},
     "output_type": "execute_result"
    }
   ],
   "source": [
    "function Gradient(x)\n",
    "    return ForwardDiff.gradient(y->begin\n",
    "                           y[end] = 0.0\n",
    "                           return  R.f.f(y)\n",
    "        end, x) + quadgk(t->ForwardDiff.gradient(\n",
    "                  z->R.g(ForwardDiff.gradient(y->R.f.f(y), vcat(z[1:end-1],t))[end]),\n",
    "            x), 0.0, x[end])[1] + vcat(zeros(size(x,1)-1), R.g(ForwardDiff.gradient(y->R.f.f(y), x)[end]))\n",
    "end"
   ]
  },
  {
   "cell_type": "code",
   "execution_count": 53,
   "metadata": {},
   "outputs": [
    {
     "data": {
      "text/plain": [
       "Gradient_log_pdf (generic function with 1 method)"
      ]
     },
     "execution_count": 53,
     "metadata": {},
     "output_type": "execute_result"
    }
   ],
   "source": [
    "function Gradient_log_pdf(x)\n",
    "    G = Gradient(x)\n",
    "    Cx = evaluate(C, x)\n",
    "end"
   ]
  },
  {
   "cell_type": "code",
   "execution_count": 85,
   "metadata": {},
   "outputs": [
    {
     "data": {
      "text/plain": [
       "evaluatef0 (generic function with 1 method)"
      ]
     },
     "execution_count": 85,
     "metadata": {},
     "output_type": "execute_result"
    }
   ],
   "source": [
    "function evaluatef0(x)\n",
    "    y = copy(x)\n",
    "    y[end] = 0.0\n",
    "    return C.I.f.f(y)\n",
    "end"
   ]
  },
  {
   "cell_type": "code",
   "execution_count": 143,
   "metadata": {},
   "outputs": [
    {
     "data": {
      "text/plain": [
       "integrand (generic function with 1 method)"
      ]
     },
     "execution_count": 143,
     "metadata": {},
     "output_type": "execute_result"
    }
   ],
   "source": [
    "integrand(t,x) = C.I.g(ForwardDiff.gradient(y->C.I.f.f(y), vcat(x[1:end-1],t*x[end]))[end])"
   ]
  },
  {
   "cell_type": "code",
   "execution_count": 144,
   "metadata": {},
   "outputs": [
    {
     "data": {
      "text/plain": [
       "Ct (generic function with 1 method)"
      ]
     },
     "execution_count": 144,
     "metadata": {},
     "output_type": "execute_result"
    }
   ],
   "source": [
    "function Ct(x)\n",
    "    lb = 0.0\n",
    "    ub = 1.0\n",
    "    prob = QuadratureProblem(integrand,lb,ub,x)\n",
    "#     if size(x,1)>1\n",
    "    out = evaluatef0(x) + x[end]*solve(prob,CubatureJLh(),reltol=1e-6,abstol=1e-6)[1]\n",
    "\n",
    "    return out\n",
    "end"
   ]
  },
  {
   "cell_type": "code",
   "execution_count": 145,
   "metadata": {},
   "outputs": [
    {
     "data": {
      "text/plain": [
       "1-element Array{Float64,1}:\n",
       " 1.4888500163721123"
      ]
     },
     "execution_count": 145,
     "metadata": {},
     "output_type": "execute_result"
    }
   ],
   "source": [
    "x = member(ens,1)"
   ]
  },
  {
   "cell_type": "code",
   "execution_count": 146,
   "metadata": {},
   "outputs": [
    {
     "data": {
      "text/plain": [
       "0.4842460138490202"
      ]
     },
     "execution_count": 146,
     "metadata": {},
     "output_type": "execute_result"
    }
   ],
   "source": [
    "evaluatef0(x)"
   ]
  },
  {
   "cell_type": "code",
   "execution_count": 147,
   "metadata": {},
   "outputs": [
    {
     "data": {
      "text/plain": [
       "1.8226408855720533"
      ]
     },
     "execution_count": 147,
     "metadata": {},
     "output_type": "execute_result"
    }
   ],
   "source": [
    "Ct(x)"
   ]
  },
  {
   "cell_type": "code",
   "execution_count": 148,
   "metadata": {},
   "outputs": [
    {
     "data": {
      "text/plain": [
       "500-element Array{Float64,1}:\n",
       "  1.822640885572053\n",
       " -0.1106099017787247\n",
       " -0.3334545288753537\n",
       "  1.4342095500687038\n",
       " -0.8088972259660936\n",
       " -0.19418683976164047\n",
       " -0.5587887651493522\n",
       "  1.2456300934917655\n",
       " -0.5813029086031765\n",
       "  1.3079418618221277\n",
       "  0.49177266568032685\n",
       "  1.2622575502779165\n",
       "  1.3082074026613686\n",
       "  ⋮\n",
       "  0.9623444305521173\n",
       "  0.5591882644836959\n",
       " -0.22790998436271842\n",
       " -0.12132974211889375\n",
       "  0.2791643259744656\n",
       " -2.004380882380656\n",
       " -0.5183170045751484\n",
       "  0.6432072139247168\n",
       " -0.8327627994277031\n",
       "  0.7180680827933583\n",
       " -1.622414056544571\n",
       " -0.9183342103507903"
      ]
     },
     "execution_count": 148,
     "metadata": {},
     "output_type": "execute_result"
    }
   ],
   "source": [
    "evaluate(C, X)"
   ]
  },
  {
   "cell_type": "code",
   "execution_count": 149,
   "metadata": {},
   "outputs": [
    {
     "data": {
      "text/plain": [
       "log_pdfCt (generic function with 1 method)"
      ]
     },
     "execution_count": 149,
     "metadata": {},
     "output_type": "execute_result"
    }
   ],
   "source": [
    "log_pdfCt(x) = log_pdf(Ct(x)) + log(C.I.g(ForwardDiff.gradient(z->C.I.f.f(z),x)[end]))"
   ]
  },
  {
   "cell_type": "code",
   "execution_count": 150,
   "metadata": {},
   "outputs": [
    {
     "data": {
      "text/plain": [
       "-2.7326939160649277"
      ]
     },
     "execution_count": 150,
     "metadata": {},
     "output_type": "execute_result"
    }
   ],
   "source": [
    "log_pdfCt(x)"
   ]
  },
  {
   "cell_type": "code",
   "execution_count": 158,
   "metadata": {},
   "outputs": [
    {
     "data": {
      "text/plain": [
       "500×1 Array{Float64,2}:\n",
       " -1.5601399881865656\n",
       " -0.020124448084395966\n",
       "  0.24831494645778796\n",
       " -1.3019048606193167\n",
       "  0.8615564950053465\n",
       "  0.07854224436643495\n",
       "  0.5342323103196984\n",
       " -1.1847991949449275\n",
       "  0.5633785624503269\n",
       " -1.2234814418342665\n",
       " -0.6394025411116088\n",
       " -1.1951400049356424\n",
       " -1.2236459926252832\n",
       "  ⋮\n",
       " -1.0022017448374185\n",
       " -0.6975635466597019\n",
       "  0.11906919291278784\n",
       " -0.00761640842202263\n",
       " -0.4409414651209079\n",
       "  2.3459968434679572\n",
       "  0.482062094696478\n",
       " -0.7669259059429174\n",
       "  0.8930532536654968\n",
       " -0.8259234781376762\n",
       "  1.9069090512427576\n",
       "  1.0060745313515818"
      ]
     },
     "execution_count": 158,
     "metadata": {},
     "output_type": "execute_result"
    }
   ],
   "source": [
    "grad_x_log_pdf(C, X)"
   ]
  },
  {
   "cell_type": "code",
   "execution_count": 157,
   "metadata": {},
   "outputs": [
    {
     "data": {
      "text/plain": [
       "1-element Array{Float64,1}:\n",
       " -1.5601399881865656"
      ]
     },
     "execution_count": 157,
     "metadata": {},
     "output_type": "execute_result"
    }
   ],
   "source": [
    "ForwardDiff.gradient(log_pdfCt, x)"
   ]
  },
  {
   "cell_type": "code",
   "execution_count": 153,
   "metadata": {},
   "outputs": [
    {
     "data": {
      "text/plain": [
       "500×1 Array{Float64,2}:\n",
       " -1.5601399881865656\n",
       " -0.020124448084395966\n",
       "  0.24831494645778796\n",
       " -1.3019048606193167\n",
       "  0.8615564950053465\n",
       "  0.07854224436643495\n",
       "  0.5342323103196984\n",
       " -1.1847991949449275\n",
       "  0.5633785624503269\n",
       " -1.2234814418342665\n",
       " -0.6394025411116088\n",
       " -1.1951400049356424\n",
       " -1.2236459926252832\n",
       "  ⋮\n",
       " -1.0022017448374185\n",
       " -0.6975635466597019\n",
       "  0.11906919291278784\n",
       " -0.00761640842202263\n",
       " -0.4409414651209079\n",
       "  2.3459968434679572\n",
       "  0.482062094696478\n",
       " -0.7669259059429174\n",
       "  0.8930532536654968\n",
       " -0.8259234781376762\n",
       "  1.9069090512427576\n",
       "  1.0060745313515818"
      ]
     },
     "execution_count": 153,
     "metadata": {},
     "output_type": "execute_result"
    }
   ],
   "source": [
    "grad_x_log_pdf(C, X)"
   ]
  },
  {
   "cell_type": "code",
   "execution_count": 128,
   "metadata": {},
   "outputs": [
    {
     "data": {
      "text/plain": [
       "500-element Array{Float64,1}:\n",
       "  1.822640885572053\n",
       " -0.1106099017787247\n",
       " -0.3334545288753537\n",
       "  1.4342095500687038\n",
       " -0.8088972259660936\n",
       " -0.19418683976164047\n",
       " -0.5587887651493522\n",
       "  1.2456300934917655\n",
       " -0.5813029086031765\n",
       "  1.3079418618221277\n",
       "  0.49177266568032685\n",
       "  1.2622575502779165\n",
       "  1.3082074026613686\n",
       "  ⋮\n",
       "  0.9623444305521173\n",
       "  0.5591882644836959\n",
       " -0.22790998436271842\n",
       " -0.12132974211889375\n",
       "  0.2791643259744656\n",
       " -2.004380882380656\n",
       " -0.5183170045751484\n",
       "  0.6432072139247168\n",
       " -0.8327627994277031\n",
       "  0.7180680827933583\n",
       " -1.622414056544571\n",
       " -0.9183342103507903"
      ]
     },
     "execution_count": 128,
     "metadata": {},
     "output_type": "execute_result"
    }
   ],
   "source": [
    "evaluate(C, X)"
   ]
  },
  {
   "cell_type": "code",
   "execution_count": 163,
   "metadata": {},
   "outputs": [
    {
     "name": "stdout",
     "output_type": "stream",
     "text": [
      "norm(ForwardDiff.gradient(log_pdfCt, member(ens, i)) - dxlogC[i, :]) = 2.2887833992611187e-16\n",
      "norm(ForwardDiff.gradient(log_pdfCt, member(ens, i)) - dxlogC[i, :]) = 6.938893903907228e-18\n",
      "norm(ForwardDiff.gradient(log_pdfCt, member(ens, i)) - dxlogC[i, :]) = 5.594315114139762e-17\n",
      "norm(ForwardDiff.gradient(log_pdfCt, member(ens, i)) - dxlogC[i, :]) = 2.7755575615628914e-17\n",
      "norm(ForwardDiff.gradient(log_pdfCt, member(ens, i)) - dxlogC[i, :]) = 1.3092278833360675e-16\n",
      "norm(ForwardDiff.gradient(log_pdfCt, member(ens, i)) - dxlogC[i, :]) = 0.0\n",
      "norm(ForwardDiff.gradient(log_pdfCt, member(ens, i)) - dxlogC[i, :]) = 6.684427777288335e-16\n",
      "norm(ForwardDiff.gradient(log_pdfCt, member(ens, i)) - dxlogC[i, :]) = 4.163336342344337e-17\n",
      "norm(ForwardDiff.gradient(log_pdfCt, member(ens, i)) - dxlogC[i, :]) = 2.482534153247273e-16\n",
      "norm(ForwardDiff.gradient(log_pdfCt, member(ens, i)) - dxlogC[i, :]) = 1.1102230246251565e-16\n",
      "norm(ForwardDiff.gradient(log_pdfCt, member(ens, i)) - dxlogC[i, :]) = 2.220446049250313e-16\n",
      "norm(ForwardDiff.gradient(log_pdfCt, member(ens, i)) - dxlogC[i, :]) = 2.7755575615628914e-17\n",
      "norm(ForwardDiff.gradient(log_pdfCt, member(ens, i)) - dxlogC[i, :]) = 1.3877787807814457e-17\n",
      "norm(ForwardDiff.gradient(log_pdfCt, member(ens, i)) - dxlogC[i, :]) = 8.441528768080324e-17\n",
      "norm(ForwardDiff.gradient(log_pdfCt, member(ens, i)) - dxlogC[i, :]) = 2.237726045655905e-16\n",
      "norm(ForwardDiff.gradient(log_pdfCt, member(ens, i)) - dxlogC[i, :]) = 1.0408340855860843e-17\n",
      "norm(ForwardDiff.gradient(log_pdfCt, member(ens, i)) - dxlogC[i, :]) = 4.440892098500626e-16\n",
      "norm(ForwardDiff.gradient(log_pdfCt, member(ens, i)) - dxlogC[i, :]) = 4.577566798522237e-16\n",
      "norm(ForwardDiff.gradient(log_pdfCt, member(ens, i)) - dxlogC[i, :]) = 3.3306690738754696e-16\n",
      "norm(ForwardDiff.gradient(log_pdfCt, member(ens, i)) - dxlogC[i, :]) = 5.551115123125783e-17\n",
      "norm(ForwardDiff.gradient(log_pdfCt, member(ens, i)) - dxlogC[i, :]) = 1.3877787807814457e-17\n",
      "norm(ForwardDiff.gradient(log_pdfCt, member(ens, i)) - dxlogC[i, :]) = 0.0\n",
      "norm(ForwardDiff.gradient(log_pdfCt, member(ens, i)) - dxlogC[i, :]) = 7.016522229951154e-17\n",
      "norm(ForwardDiff.gradient(log_pdfCt, member(ens, i)) - dxlogC[i, :]) = 2.237726045655905e-16\n",
      "norm(ForwardDiff.gradient(log_pdfCt, member(ens, i)) - dxlogC[i, :]) = 8.505453752507596e-17\n",
      "norm(ForwardDiff.gradient(log_pdfCt, member(ens, i)) - dxlogC[i, :]) = 4.652682298944613e-16\n",
      "norm(ForwardDiff.gradient(log_pdfCt, member(ens, i)) - dxlogC[i, :]) = 2.237726045655905e-16\n",
      "norm(ForwardDiff.gradient(log_pdfCt, member(ens, i)) - dxlogC[i, :]) = 6.938893903907228e-18\n",
      "norm(ForwardDiff.gradient(log_pdfCt, member(ens, i)) - dxlogC[i, :]) = 8.326672684688674e-17\n",
      "norm(ForwardDiff.gradient(log_pdfCt, member(ens, i)) - dxlogC[i, :]) = 9.305364597889227e-16\n",
      "norm(ForwardDiff.gradient(log_pdfCt, member(ens, i)) - dxlogC[i, :]) = 4.449557262054371e-16\n",
      "norm(ForwardDiff.gradient(log_pdfCt, member(ens, i)) - dxlogC[i, :]) = 2.237726045655905e-16\n",
      "norm(ForwardDiff.gradient(log_pdfCt, member(ens, i)) - dxlogC[i, :]) = 2.7755575615628914e-17\n",
      "norm(ForwardDiff.gradient(log_pdfCt, member(ens, i)) - dxlogC[i, :]) = 2.3714374201337736e-16\n",
      "norm(ForwardDiff.gradient(log_pdfCt, member(ens, i)) - dxlogC[i, :]) = 1.1443916996305594e-16\n",
      "norm(ForwardDiff.gradient(log_pdfCt, member(ens, i)) - dxlogC[i, :]) = 2.7755575615628914e-17\n",
      "norm(ForwardDiff.gradient(log_pdfCt, member(ens, i)) - dxlogC[i, :]) = 2.168404344971009e-19\n",
      "norm(ForwardDiff.gradient(log_pdfCt, member(ens, i)) - dxlogC[i, :]) = 4.545902364027965e-16\n",
      "norm(ForwardDiff.gradient(log_pdfCt, member(ens, i)) - dxlogC[i, :]) = 2.220446049250313e-16\n",
      "norm(ForwardDiff.gradient(log_pdfCt, member(ens, i)) - dxlogC[i, :]) = 2.220717083251841e-16\n",
      "norm(ForwardDiff.gradient(log_pdfCt, member(ens, i)) - dxlogC[i, :]) = 2.237726045655905e-16\n",
      "norm(ForwardDiff.gradient(log_pdfCt, member(ens, i)) - dxlogC[i, :]) = 2.2247786310271853e-16\n",
      "norm(ForwardDiff.gradient(log_pdfCt, member(ens, i)) - dxlogC[i, :]) = 4.449557262054371e-16\n",
      "norm(ForwardDiff.gradient(log_pdfCt, member(ens, i)) - dxlogC[i, :]) = 2.7755575615628914e-17\n",
      "norm(ForwardDiff.gradient(log_pdfCt, member(ens, i)) - dxlogC[i, :]) = 8.920730087951354e-16\n",
      "norm(ForwardDiff.gradient(log_pdfCt, member(ens, i)) - dxlogC[i, :]) = 2.237726045655905e-16\n",
      "norm(ForwardDiff.gradient(log_pdfCt, member(ens, i)) - dxlogC[i, :]) = 4.47545209131181e-16\n",
      "norm(ForwardDiff.gradient(log_pdfCt, member(ens, i)) - dxlogC[i, :]) = 2.220446049250313e-16\n",
      "norm(ForwardDiff.gradient(log_pdfCt, member(ens, i)) - dxlogC[i, :]) = 0.0\n",
      "norm(ForwardDiff.gradient(log_pdfCt, member(ens, i)) - dxlogC[i, :]) = 1.6653345369377348e-16\n",
      "norm(ForwardDiff.gradient(log_pdfCt, member(ens, i)) - dxlogC[i, :]) = 4.449557262054371e-16\n",
      "norm(ForwardDiff.gradient(log_pdfCt, member(ens, i)) - dxlogC[i, :]) = 8.326672684688674e-17\n",
      "norm(ForwardDiff.gradient(log_pdfCt, member(ens, i)) - dxlogC[i, :]) = 2.237726045655905e-16\n",
      "norm(ForwardDiff.gradient(log_pdfCt, member(ens, i)) - dxlogC[i, :]) = 6.938893903907228e-18\n",
      "norm(ForwardDiff.gradient(log_pdfCt, member(ens, i)) - dxlogC[i, :]) = 1.113606002252634e-16\n",
      "norm(ForwardDiff.gradient(log_pdfCt, member(ens, i)) - dxlogC[i, :]) = 2.7755575615628914e-17\n",
      "norm(ForwardDiff.gradient(log_pdfCt, member(ens, i)) - dxlogC[i, :]) = 4.445768331151997e-16\n",
      "norm(ForwardDiff.gradient(log_pdfCt, member(ens, i)) - dxlogC[i, :]) = 1.3877787807814457e-17\n",
      "norm(ForwardDiff.gradient(log_pdfCt, member(ens, i)) - dxlogC[i, :]) = 2.220717083251841e-16\n",
      "norm(ForwardDiff.gradient(log_pdfCt, member(ens, i)) - dxlogC[i, :]) = 1.3877787807814457e-17\n",
      "norm(ForwardDiff.gradient(log_pdfCt, member(ens, i)) - dxlogC[i, :]) = 2.220446049250313e-16\n",
      "norm(ForwardDiff.gradient(log_pdfCt, member(ens, i)) - dxlogC[i, :]) = 2.237726045655905e-16\n",
      "norm(ForwardDiff.gradient(log_pdfCt, member(ens, i)) - dxlogC[i, :]) = 5.551115123125783e-17\n",
      "norm(ForwardDiff.gradient(log_pdfCt, member(ens, i)) - dxlogC[i, :]) = 6.938893903907228e-18\n",
      "norm(ForwardDiff.gradient(log_pdfCt, member(ens, i)) - dxlogC[i, :]) = 1.1443916996305594e-16\n",
      "norm(ForwardDiff.gradient(log_pdfCt, member(ens, i)) - dxlogC[i, :]) = 0.0\n",
      "norm(ForwardDiff.gradient(log_pdfCt, member(ens, i)) - dxlogC[i, :]) = 0.0\n",
      "norm(ForwardDiff.gradient(log_pdfCt, member(ens, i)) - dxlogC[i, :]) = 2.8609792490763984e-17\n",
      "norm(ForwardDiff.gradient(log_pdfCt, member(ens, i)) - dxlogC[i, :]) = 1.3877787807814457e-17\n",
      "norm(ForwardDiff.gradient(log_pdfCt, member(ens, i)) - dxlogC[i, :]) = 0.0\n",
      "norm(ForwardDiff.gradient(log_pdfCt, member(ens, i)) - dxlogC[i, :]) = 1.3877787807814457e-17\n",
      "norm(ForwardDiff.gradient(log_pdfCt, member(ens, i)) - dxlogC[i, :]) = 6.667118051786499e-16\n",
      "norm(ForwardDiff.gradient(log_pdfCt, member(ens, i)) - dxlogC[i, :]) = 6.938893903907228e-18\n",
      "norm(ForwardDiff.gradient(log_pdfCt, member(ens, i)) - dxlogC[i, :]) = 2.2887833992611187e-16\n",
      "norm(ForwardDiff.gradient(log_pdfCt, member(ens, i)) - dxlogC[i, :]) = 3.1031676915590914e-17\n",
      "norm(ForwardDiff.gradient(log_pdfCt, member(ens, i)) - dxlogC[i, :]) = 4.449557262054371e-16\n",
      "norm(ForwardDiff.gradient(log_pdfCt, member(ens, i)) - dxlogC[i, :]) = 6.206335383118183e-17\n",
      "norm(ForwardDiff.gradient(log_pdfCt, member(ens, i)) - dxlogC[i, :]) = 1.1102230246251565e-16\n",
      "norm(ForwardDiff.gradient(log_pdfCt, member(ens, i)) - dxlogC[i, :]) = 0.0\n",
      "norm(ForwardDiff.gradient(log_pdfCt, member(ens, i)) - dxlogC[i, :]) = 0.0\n",
      "norm(ForwardDiff.gradient(log_pdfCt, member(ens, i)) - dxlogC[i, :]) = 0.0\n",
      "norm(ForwardDiff.gradient(log_pdfCt, member(ens, i)) - dxlogC[i, :]) = 5.551115123125783e-17\n",
      "norm(ForwardDiff.gradient(log_pdfCt, member(ens, i)) - dxlogC[i, :]) = 1.3877787807814457e-17\n",
      "norm(ForwardDiff.gradient(log_pdfCt, member(ens, i)) - dxlogC[i, :]) = 3.469446951953614e-17\n",
      "norm(ForwardDiff.gradient(log_pdfCt, member(ens, i)) - dxlogC[i, :]) = 0.0\n",
      "norm(ForwardDiff.gradient(log_pdfCt, member(ens, i)) - dxlogC[i, :]) = 6.661338147750939e-16\n",
      "norm(ForwardDiff.gradient(log_pdfCt, member(ens, i)) - dxlogC[i, :]) = 1.0408340855860843e-17\n",
      "norm(ForwardDiff.gradient(log_pdfCt, member(ens, i)) - dxlogC[i, :]) = 6.206335383118183e-17\n",
      "norm(ForwardDiff.gradient(log_pdfCt, member(ens, i)) - dxlogC[i, :]) = 1.6711069443220838e-16\n",
      "norm(ForwardDiff.gradient(log_pdfCt, member(ens, i)) - dxlogC[i, :]) = 1.3877787807814457e-17\n",
      "norm(ForwardDiff.gradient(log_pdfCt, member(ens, i)) - dxlogC[i, :]) = 0.0\n",
      "norm(ForwardDiff.gradient(log_pdfCt, member(ens, i)) - dxlogC[i, :]) = 2.237726045655905e-16\n",
      "norm(ForwardDiff.gradient(log_pdfCt, member(ens, i)) - dxlogC[i, :]) = 2.2247786310271853e-16\n",
      "norm(ForwardDiff.gradient(log_pdfCt, member(ens, i)) - dxlogC[i, :]) = 4.449557262054371e-16\n",
      "norm(ForwardDiff.gradient(log_pdfCt, member(ens, i)) - dxlogC[i, :]) = 4.654751537338637e-17\n",
      "norm(ForwardDiff.gradient(log_pdfCt, member(ens, i)) - dxlogC[i, :]) = 4.441434166503682e-16\n",
      "norm(ForwardDiff.gradient(log_pdfCt, member(ens, i)) - dxlogC[i, :]) = 4.440892098500626e-16\n",
      "norm(ForwardDiff.gradient(log_pdfCt, member(ens, i)) - dxlogC[i, :]) = 4.577566798522237e-16\n",
      "norm(ForwardDiff.gradient(log_pdfCt, member(ens, i)) - dxlogC[i, :]) = 4.441027621704298e-16\n",
      "norm(ForwardDiff.gradient(log_pdfCt, member(ens, i)) - dxlogC[i, :]) = 6.938893903907228e-18\n"
     ]
    }
   ],
   "source": [
    "\n",
    "  Nx = 2\n",
    "  Ne = 100\n",
    "  X = randn(Nx, Ne)\n",
    "  ens = EnsembleState(X)\n",
    "  m = 10\n",
    "  B = MultiBasis(CstProHermite(3), Nx)\n",
    "\n",
    "  idx = [0 0; 0 1; 1 0; 1 1; 1 2; 3 2]\n",
    "\n",
    "  coeff =  randn(size(idx,1))\n",
    "\n",
    "  C = MapComponent(m, Nx, idx, coeff)\n",
    "\n",
    "  dxlogC = grad_x_log_pdf(C, X)\n",
    "\n",
    "  function evaluatef0(x)\n",
    "    y = copy(x)\n",
    "    y[end] = 0.0\n",
    "    return C.I.f.f(y)\n",
    "  end\n",
    "\n",
    "  integrand(t,x) = C.I.g(ForwardDiff.gradient(y->C.I.f.f(y), vcat(x[1:end-1],t*x[end]))[end])\n",
    "\n",
    "  function Ct(x)\n",
    "      lb = 0.0\n",
    "      ub = 1.0\n",
    "      prob = QuadratureProblem(integrand,lb,ub,x)\n",
    "      out = evaluatef0(x) + x[end]*solve(prob,CubatureJLh(),reltol=1e-6,abstol=1e-6)[1]\n",
    "      return out\n",
    "  end\n",
    "\n",
    "  log_pdfCt(x) = log_pdf(Ct(x)) + log(C.I.g(ForwardDiff.gradient(z->C.I.f.f(z),x)[end]))\n",
    "\n",
    "  @inbounds for i=1:Ne\n",
    "    @show norm(ForwardDiff.gradient(log_pdfCt, member(ens,i)) - dxlogC[i,:])<\n",
    "  end"
   ]
  },
  {
   "cell_type": "markdown",
   "metadata": {},
   "source": [
    "### Test Hessian of the log π(x)"
   ]
  },
  {
   "cell_type": "code",
   "execution_count": 30,
   "metadata": {},
   "outputs": [],
   "source": [
    "Nx = 2\n",
    "Ne = 8\n",
    "m = 10\n",
    "\n",
    "X = randn(Nx, Ne)\n",
    "\n",
    "idx = [0 0; 0 1; 1 0; 1 1; 1 2]\n",
    "coeff =   [0.6285037650645056;\n",
    " -0.4744029092496623;\n",
    "  1.1405280011620331;\n",
    " -0.7217760771894809;\n",
    "  0.11855056306742319];\n",
    "\n",
    "C = MapComponent(m, Nx, idx, coeff);"
   ]
  },
  {
   "cell_type": "code",
   "execution_count": 34,
   "metadata": {},
   "outputs": [
    {
     "data": {
      "text/plain": [
       "8×5×2 Array{Float64,3}:\n",
       "[:, :, 1] =\n",
       " 0.0  0.0  -0.207296    -0.130929     0.00117735\n",
       " 0.0  0.0  -0.216523    -0.134105     0.0375507\n",
       " 0.0  0.0   0.00618292   0.00360034   0.00205305\n",
       " 0.0  0.0  -0.199714    -0.0830991   -0.107373\n",
       " 0.0  0.0   0.209274     0.0991538   -0.106331\n",
       " 0.0  0.0  -0.236677    -0.10036     -0.126702\n",
       " 0.0  0.0  -0.270316    -0.120917     0.142049\n",
       " 0.0  0.0  -0.0785179   -0.0495593    0.00259814\n",
       "\n",
       "[:, :, 2] =\n",
       " 0.0   0.00283979  0.0   0.00155384  0.345581\n",
       " 0.0   0.0867129   0.0   0.0465448   0.31942\n",
       " 0.0  -0.166026    0.0  -0.104855    0.307967\n",
       " 0.0  -0.268816    0.0  -0.149159    0.0381479\n",
       " 0.0   0.254048    0.0   0.138466    0.109751\n",
       " 0.0  -0.26767     0.0  -0.064575    0.0207737\n",
       " 0.0   0.262746    0.0   0.0959916   0.0506544\n",
       " 0.0   0.0165449   0.0   0.0102847   0.391819"
      ]
     },
     "execution_count": 34,
     "metadata": {},
     "output_type": "execute_result"
    }
   ],
   "source": [
    "dψ_basis = grad_x_basis(C.I.f.f, X)"
   ]
  },
  {
   "cell_type": "code",
   "execution_count": 41,
   "metadata": {},
   "outputs": [
    {
     "data": {
      "text/plain": [
       "8-element Array{Float64,1}:\n",
       "  0.03850011681624252\n",
       " -0.036864339594153354\n",
       "  0.19095459274793916\n",
       "  0.23970874743411022\n",
       " -0.20745155095311177\n",
       "  0.17605463803346075\n",
       " -0.18792702339659972\n",
       "  0.03117818085903034"
      ]
     },
     "execution_count": 41,
     "metadata": {},
     "output_type": "execute_result"
    }
   ],
   "source": [
    "dxlogDJ = zeros(Ne, Nx)\n",
    "\n",
    "ψoffdψxd = grad_xd(C.I.f.f, X)"
   ]
  },
  {
   "cell_type": "code",
   "execution_count": 50,
   "metadata": {},
   "outputs": [
    {
     "data": {
      "text/plain": [
       "8×2 Array{Float64,2}:\n",
       " -0.0150962    0.275081\n",
       " -0.00172344   0.272766\n",
       "  0.00109835   0.191537\n",
       " -0.0403773   -0.00821251\n",
       " -0.0333779    0.127178\n",
       " -0.0481415    0.0110568\n",
       "  0.0468207    0.0774556\n",
       " -0.00492957   0.294571"
      ]
     },
     "execution_count": 50,
     "metadata": {},
     "output_type": "execute_result"
    }
   ],
   "source": [
    "grad_x_grad_xd(C.I.f.f, X, C.I.f.f.idx)"
   ]
  },
  {
   "cell_type": "code",
   "execution_count": 51,
   "metadata": {},
   "outputs": [
    {
     "data": {
      "text/plain": [
       "8-element Array{Float64,1}:\n",
       "  0.27508054698884865\n",
       "  0.2727658334063561\n",
       "  0.19153741860252596\n",
       " -0.008212514607585927\n",
       "  0.12717812747627785\n",
       "  0.01105679171823458\n",
       "  0.07745559049870646\n",
       "  0.29457111787580165"
      ]
     },
     "execution_count": 51,
     "metadata": {},
     "output_type": "execute_result"
    }
   ],
   "source": [
    "hess_xd(C.I.f.f, X)"
   ]
  },
  {
   "cell_type": "code",
   "execution_count": 52,
   "metadata": {},
   "outputs": [
    {
     "data": {
      "text/plain": [
       "2×2 Array{Float64,2}:\n",
       " -0.13341    -0.0150962\n",
       " -0.0150962   0.275081"
      ]
     },
     "execution_count": 52,
     "metadata": {},
     "output_type": "execute_result"
    }
   ],
   "source": [
    "dxdxkψx_t = ForwardDiff.hessian(C.I.f.f, X[:,1])"
   ]
  },
  {
   "cell_type": "code",
   "execution_count": null,
   "metadata": {},
   "outputs": [],
   "source": []
  },
  {
   "cell_type": "code",
   "execution_count": null,
   "metadata": {},
   "outputs": [],
   "source": [
    "evaluate()"
   ]
  },
  {
   "cell_type": "code",
   "execution_count": 16,
   "metadata": {},
   "outputs": [
    {
     "data": {
      "text/plain": [
       "8-element Array{Float64,1}:\n",
       " -1.890933371333304\n",
       " -1.0774421758804786\n",
       " -1.3812358207093065\n",
       " -2.756566903253647\n",
       " -2.2764943782683207\n",
       " -3.268114225886461\n",
       " -0.9741216255311081\n",
       " -1.442529469931936"
      ]
     },
     "execution_count": 16,
     "metadata": {},
     "output_type": "execute_result"
    }
   ],
   "source": [
    "log_pdf(C, X)"
   ]
  },
  {
   "cell_type": "code",
   "execution_count": 18,
   "metadata": {},
   "outputs": [
    {
     "data": {
      "text/plain": [
       "8-element Array{Float64,1}:\n",
       " -1.3182090265735815\n",
       "  0.5518744832820461\n",
       "  1.0207836492619973\n",
       "  1.969508900840876\n",
       "  1.7095646000932772\n",
       "  2.2193925767103297\n",
       "  0.06731649217667446\n",
       "  1.0856697228586412"
      ]
     },
     "execution_count": 18,
     "metadata": {},
     "output_type": "execute_result"
    }
   ],
   "source": [
    "Cx = evaluate(C, X)"
   ]
  },
  {
   "cell_type": "code",
   "execution_count": 22,
   "metadata": {},
   "outputs": [
    {
     "data": {
      "text/plain": [
       "5×2 Array{Int64,2}:\n",
       " 0  0\n",
       " 0  1\n",
       " 1  0\n",
       " 1  1\n",
       " 1  2"
      ]
     },
     "execution_count": 22,
     "metadata": {},
     "output_type": "execute_result"
    }
   ],
   "source": [
    "getidx(C)"
   ]
  },
  {
   "cell_type": "code",
   "execution_count": 21,
   "metadata": {},
   "outputs": [
    {
     "data": {
      "text/plain": [
       "5-element Array{Float64,1}:\n",
       "  0.6285037650645056\n",
       " -0.4744029092496623\n",
       "  1.1405280011620331\n",
       " -0.7217760771894809\n",
       "  0.11855056306742319"
      ]
     },
     "execution_count": 21,
     "metadata": {},
     "output_type": "execute_result"
    }
   ],
   "source": [
    "getcoeff(C)"
   ]
  },
  {
   "cell_type": "code",
   "execution_count": 23,
   "metadata": {},
   "outputs": [
    {
     "data": {
      "text/plain": [
       "8×5×2 Array{Float64,3}:\n",
       "[:, :, 1] =\n",
       " 0.0  0.0   0.107478    0.0190908  -0.043005\n",
       " 0.0  0.0   0.0865389   0.0541193  -0.0107887\n",
       " 0.0  0.0   0.138011    0.0855902   0.0231549\n",
       " 0.0  0.0  -0.270698   -0.113793   -0.145219\n",
       " 0.0  0.0  -0.259926   -0.128072   -0.127645\n",
       " 0.0  0.0  -0.225594   -0.0869868  -0.122217\n",
       " 0.0  0.0  -0.266312   -0.155186    0.0881003\n",
       " 0.0  0.0   0.261878    0.157944    0.0678763\n",
       "\n",
       "[:, :, 2] =\n",
       " 0.0   0.200064   0.0   0.122532   -0.167233\n",
       " 0.0   0.0623342  0.0   0.0386104   0.379666\n",
       " 0.0  -0.0838875  0.0  -0.0502452   0.357862\n",
       " 0.0  -0.268231   0.0  -0.105483    0.0306983\n",
       " 0.0  -0.24554    0.0  -0.112246    0.113373\n",
       " 0.0  -0.270878   0.0  -0.142266    0.00262786\n",
       " 0.0   0.165408   0.0   0.0714071   0.211025\n",
       " 0.0  -0.129595   0.0  -0.0583847   0.246624"
      ]
     },
     "execution_count": 23,
     "metadata": {},
     "output_type": "execute_result"
    }
   ],
   "source": [
    "dψ = grad_x_basis(C.I.f.f, X)"
   ]
  },
  {
   "cell_type": "code",
   "execution_count": 24,
   "metadata": {},
   "outputs": [
    {
     "data": {
      "text/plain": [
       "8×5×2×2 Array{Float64,4}:\n",
       "[:, :, 1, 1] =\n",
       " 0.0  0.0  -0.287372   -0.0510446    0.114986\n",
       " 0.0  0.0  -0.297614   -0.18612      0.0371031\n",
       " 0.0  0.0  -0.267679   -0.166006    -0.0449099\n",
       " 0.0  0.0  -0.0102897  -0.00432547  -0.00552002\n",
       " 0.0  0.0  -0.0807765  -0.0398007   -0.0396678\n",
       " 0.0  0.0  -0.1657     -0.0638922   -0.089769\n",
       " 0.0  0.0  -0.0515665  -0.030049     0.0170591\n",
       " 0.0  0.0  -0.0730321  -0.0440471   -0.0189292\n",
       "\n",
       "[:, :, 2, 1] =\n",
       " 0.0   0.0   0.0   0.0215025   -0.0293467\n",
       " 0.0   0.0   0.0   0.00539434   0.0530439\n",
       " 0.0  -0.0   0.0  -0.0115774    0.0824581\n",
       " 0.0  -0.0  -0.0   0.0726096   -0.0211313\n",
       " 0.0  -0.0  -0.0   0.0638224   -0.0644633\n",
       " 0.0  -0.0  -0.0   0.0611086   -0.00112877\n",
       " 0.0   0.0  -0.0  -0.0440502   -0.130179\n",
       " 0.0  -0.0   0.0  -0.0339381    0.143359\n",
       "\n",
       "[:, :, 1, 2] =\n",
       " 0.0   0.0   0.0   0.0215025   -0.0293467\n",
       " 0.0   0.0   0.0   0.00539434   0.0530439\n",
       " 0.0  -0.0   0.0  -0.0115774    0.0824581\n",
       " 0.0  -0.0  -0.0   0.0726096   -0.0211313\n",
       " 0.0  -0.0  -0.0   0.0638224   -0.0644633\n",
       " 0.0  -0.0  -0.0   0.0611086   -0.00112877\n",
       " 0.0   0.0  -0.0  -0.0440502   -0.130179\n",
       " 0.0  -0.0   0.0  -0.0339381    0.143359\n",
       "\n",
       "[:, :, 2, 2] =\n",
       " 0.0   0.136524    0.0   0.0836164    0.056706\n",
       " 0.0  -0.306474    0.0  -0.189833     0.115064\n",
       " 0.0  -0.298736    0.0  -0.178931    -0.148897\n",
       " 0.0  -0.0390312   0.0  -0.0153491   -0.230553\n",
       " 0.0  -0.124003    0.0  -0.0566865   -0.280989\n",
       " 0.0  -0.00250176  0.0  -0.00131393  -0.286378\n",
       " 0.0  -0.24441     0.0  -0.105512     0.202714\n",
       " 0.0  -0.273713    0.0  -0.123312    -0.169763"
      ]
     },
     "execution_count": 24,
     "metadata": {},
     "output_type": "execute_result"
    }
   ],
   "source": [
    "d2ψ = hess_x_basis(C.I.f.f, X)"
   ]
  },
  {
   "cell_type": "markdown",
   "metadata": {},
   "source": [
    "### Integration"
   ]
  },
  {
   "cell_type": "code",
   "execution_count": 20,
   "metadata": {},
   "outputs": [],
   "source": [
    "Nx = 100\n",
    "Ny = 50\n",
    "m = 20\n",
    "Ne = 400\n",
    "X = randn(Nx, Ne).*randn(Nx, Ne) #.+ 0.5*randn(Nx).*cos.(randn(Nx, Ne) .* randn(Nx, Ne))\n",
    "\n",
    "# L = LinearTransform(X)\n",
    "# transform!(L, X);\n",
    "# C = MapComponent(m, Nx)\n",
    "# @time C, _ = optimize(C, X, 10)"
   ]
  },
  {
   "cell_type": "code",
   "execution_count": 24,
   "metadata": {},
   "outputs": [],
   "source": [
    "M = HermiteMap(m, X);"
   ]
  },
  {
   "cell_type": "code",
   "execution_count": 25,
   "metadata": {
    "scrolled": true
   },
   "outputs": [
    {
     "name": "stdout",
     "output_type": "stream",
     "text": [
      "  9.550136 seconds (42.61 M allocations: 13.653 GiB, 7.59% gc time)\n"
     ]
    }
   ],
   "source": [
    "@time M_noqr = optimize(M, X, 10; P = serial, start = Ny+1);"
   ]
  },
  {
   "cell_type": "code",
   "execution_count": 26,
   "metadata": {},
   "outputs": [
    {
     "name": "stdout",
     "output_type": "stream",
     "text": [
      " 18.997304 seconds (45.81 M allocations: 21.111 GiB, 4.17% gc time)\n"
     ]
    }
   ],
   "source": [
    "@time M_qr = optimize(M, X, 10; P = serial, withqr = true, start = Ny+1);"
   ]
  },
  {
   "cell_type": "code",
   "execution_count": 31,
   "metadata": {},
   "outputs": [
    {
     "data": {
      "text/plain": [
       "timing (generic function with 1 method)"
      ]
     },
     "execution_count": 31,
     "metadata": {},
     "output_type": "execute_result"
    }
   ],
   "source": [
    "function timing()\n",
    "    M = HermiteMap(m, X)\n",
    "    @btime begin \n",
    "        optimize($M, $X, $10; P = serial, withqr = false, start = Ny+1)\n",
    "    end\n",
    "    \n",
    "    @btime begin \n",
    "        optimize($M, $X, $10; P = serial, withqr = true, start = Ny+1)\n",
    "    end\n",
    "end"
   ]
  },
  {
   "cell_type": "code",
   "execution_count": 32,
   "metadata": {},
   "outputs": [
    {
     "name": "stdout",
     "output_type": "stream",
     "text": [
      "  11.257 s (42606958 allocations: 13.65 GiB)\n",
      "  21.346 s (45813192 allocations: 21.12 GiB)\n"
     ]
    }
   ],
   "source": [
    "timing();"
   ]
  },
  {
   "cell_type": "code",
   "execution_count": 11,
   "metadata": {},
   "outputs": [
    {
     "name": "stdout",
     "output_type": "stream",
     "text": [
      "  14.597 s (42433511 allocations: 13.37 GiB)\n"
     ]
    }
   ],
   "source": [
    "timing();"
   ]
  },
  {
   "cell_type": "code",
   "execution_count": 29,
   "metadata": {},
   "outputs": [
    {
     "name": "stdout",
     "output_type": "stream",
     "text": [
      "  973.450 ms (1054425 allocations: 1.43 GiB)\n"
     ]
    }
   ],
   "source": [
    "timing();"
   ]
  },
  {
   "cell_type": "code",
   "execution_count": 14,
   "metadata": {},
   "outputs": [
    {
     "data": {
      "text/html": [
       "# 1 method for generic function <b>update_component</b>:<ul><li> update_component(C::<b>MapComponent</b>, X, reduced_margin::<b>Array{Int64,2}</b>, S::<b>Storage</b>) in AdaptiveTransportMap at <a href=\"https://github.com/mleprovost/AdaptiveTransportMap/tree/83d05ec2a279bc06ffd1b1aeb054f4628721f1e9//src/mapcomponent/greedyfit.jl#L234\" target=\"_blank\">/media/mat/HDD/AdaptiveTransportMap/src/mapcomponent/greedyfit.jl:249</a></li> </ul>"
      ],
      "text/plain": [
       "# 1 method for generic function \"update_component\":\n",
       "[1] update_component(C::MapComponent, X, reduced_margin::Array{Int64,2}, S::Storage) in AdaptiveTransportMap at /media/mat/HDD/AdaptiveTransportMap/src/mapcomponent/greedyfit.jl:249"
      ]
     },
     "execution_count": 14,
     "metadata": {},
     "output_type": "execute_result"
    }
   ],
   "source": [
    "methods(update_component)"
   ]
  },
  {
   "cell_type": "code",
   "execution_count": 30,
   "metadata": {},
   "outputs": [
    {
     "data": {
      "text/plain": [
       "timing (generic function with 1 method)"
      ]
     },
     "execution_count": 30,
     "metadata": {},
     "output_type": "execute_result"
    }
   ],
   "source": [
    "function timing()\n",
    "    @btime begin \n",
    "        M = HermiteMap($m, $X)\n",
    "        optimize($M, $X, $10; P = thread)\n",
    "    end\n",
    "end"
   ]
  },
  {
   "cell_type": "code",
   "execution_count": 88,
   "metadata": {},
   "outputs": [
    {
     "name": "stdout",
     "output_type": "stream",
     "text": [
      "  297.730 ms (1000725 allocations: 1.35 GiB)\n"
     ]
    }
   ],
   "source": [
    "timing();"
   ]
  },
  {
   "cell_type": "markdown",
   "metadata": {},
   "source": [
    "### Test optimization with QR"
   ]
  },
  {
   "cell_type": "code",
   "execution_count": 45,
   "metadata": {},
   "outputs": [
    {
     "data": {
      "text/plain": [
       "\u001b[32m\u001b[1mTest Passed\u001b[22m\u001b[39m"
      ]
     },
     "execution_count": 45,
     "metadata": {},
     "output_type": "execute_result"
    }
   ],
   "source": [
    "Nx = 3\n",
    "Ne = 8\n",
    "m = 20\n",
    "\n",
    "idx = [0 0 0; 0 0 1; 0 1 0; 0 1 1; 0 1 2; 1 0 0]\n",
    "\n",
    "\n",
    "Nψ = 6\n",
    "coeff = [ 0.20649582065364197;\n",
    "         -0.5150990160472986;\n",
    "          2.630096893080717;\n",
    "          1.13653076177397;\n",
    "          0.6725837371023421;\n",
    "         -1.3126095306624133]\n",
    "C = MapComponent(m, Nx, idx, coeff; α = 1e-6);\n",
    "\n",
    "Ne = 100\n",
    "\n",
    "\n",
    "# The QR decomposition is not unique!\n",
    "\n",
    "X = randn(Nx, Ne) .* randn(Nx, Ne) + cos.(randn(Nx, Ne)) .* exp.(-randn(Nx, Ne).^2)\n",
    "\n",
    "L = LinearTransform(X)\n",
    "transform!(L, X)\n",
    "S = Storage(C.I.f, X)\n",
    "F = QRscaling(S)\n",
    "newidx = [1 1 1]\n",
    "\n",
    "Snew = update_storage(S, X, newidx)\n",
    "Fupdated = updateQRscaling(F, Snew)\n",
    "\n",
    "Fnew = QRscaling(Snew)\n",
    "\n",
    "@test norm(Fupdated.D - Fnew.D)<1e-8\n",
    "@test norm(Fupdated.Dinv - Fnew.Dinv)<1e-8"
   ]
  }
 ],
 "metadata": {
  "kernelspec": {
   "display_name": "Julia 1.5.0",
   "language": "julia",
   "name": "julia-1.5"
  },
  "language_info": {
   "file_extension": ".jl",
   "mimetype": "application/julia",
   "name": "julia",
   "version": "1.5.0"
  }
 },
 "nbformat": 4,
 "nbformat_minor": 2
}
