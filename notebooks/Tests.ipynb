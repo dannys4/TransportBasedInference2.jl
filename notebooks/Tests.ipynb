{
 "cells": [
  {
   "cell_type": "code",
   "execution_count": 1,
   "metadata": {},
   "outputs": [
    {
     "name": "stderr",
     "output_type": "stream",
     "text": [
      "\u001b[32m\u001b[1m Activating\u001b[22m\u001b[39m environment at `/media/mat/HDD/AdaptiveTransportMap/Project.toml`\n"
     ]
    }
   ],
   "source": [
    "using Pkg\n",
    "Pkg.activate(\"/media/mat/HDD/AdaptiveTransportMap/\")"
   ]
  },
  {
   "cell_type": "code",
   "execution_count": 3,
   "metadata": {},
   "outputs": [
    {
     "name": "stderr",
     "output_type": "stream",
     "text": [
      "┌ Info: Precompiling AdaptiveTransportMap [bdf749b0-1400-4207-80d3-e689c0e3f03d]\n",
      "└ @ Base loading.jl:1260\n"
     ]
    }
   ],
   "source": [
    "using Revise\n",
    "using AdaptiveTransportMap\n",
    "using LinearAlgebra\n",
    "using Test\n",
    "using ForwardDiff\n",
    "using SpecialFunctions\n",
    "using Polynomials\n",
    "using BenchmarkTools\n",
    "using TransportMap\n",
    "using QuadGK\n",
    "using FastGaussQuadrature\n",
    "using AdaptiveTransportMap: derivative, vander\n",
    "using DiffResults\n",
    "using QuadGK"
   ]
  },
  {
   "cell_type": "markdown",
   "metadata": {},
   "source": [
    "### Basis"
   ]
  },
  {
   "cell_type": "code",
   "execution_count": 50,
   "metadata": {},
   "outputs": [
    {
     "name": "stdout",
     "output_type": "stream",
     "text": [
      "  2.069 μs (137 allocations: 2.34 KiB)\n"
     ]
    },
    {
     "data": {
      "text/plain": [
       "(0.5630021473036511, 1.4497070210950369e-11)"
      ]
     },
     "execution_count": 50,
     "metadata": {},
     "output_type": "execute_result"
    }
   ],
   "source": [
    "@btime quadgk(x->FamilyPhyHermite[5](x), 0, 1.0)"
   ]
  },
  {
   "cell_type": "code",
   "execution_count": 5,
   "metadata": {},
   "outputs": [],
   "source": [
    "B = CstLinProHermite(5)\n",
    "MB = MultiBasis(B, 10);"
   ]
  },
  {
   "cell_type": "code",
   "execution_count": 53,
   "metadata": {},
   "outputs": [
    {
     "data": {
      "text/plain": [
       "true"
      ]
     },
     "execution_count": 53,
     "metadata": {},
     "output_type": "execute_result"
    }
   ],
   "source": [
    "1.0 != 0.0"
   ]
  },
  {
   "cell_type": "code",
   "execution_count": null,
   "metadata": {},
   "outputs": [],
   "source": [
    "MultiBasis()"
   ]
  },
  {
   "cell_type": "code",
   "execution_count": 19,
   "metadata": {},
   "outputs": [
    {
     "name": "stdout",
     "output_type": "stream",
     "text": [
      "  1.561 μs (15 allocations: 1.28 KiB)\n"
     ]
    }
   ],
   "source": [
    "@btime f = ExpandedFunction([MultiFunction(MB, rand(1:7,10)) for i=1:5], randn(5));"
   ]
  },
  {
   "cell_type": "code",
   "execution_count": 17,
   "metadata": {},
   "outputs": [
    {
     "name": "stdout",
     "output_type": "stream",
     "text": [
      "  4.323 μs (248 allocations: 4.02 KiB)\n"
     ]
    },
    {
     "data": {
      "text/plain": [
       "0.00814365786685839"
      ]
     },
     "execution_count": 17,
     "metadata": {},
     "output_type": "execute_result"
    }
   ],
   "source": [
    "@btime f(randn(10))"
   ]
  },
  {
   "cell_type": "code",
   "execution_count": 28,
   "metadata": {},
   "outputs": [
    {
     "name": "stdout",
     "output_type": "stream",
     "text": [
      "  3.055 μs (50 allocations: 6.41 KiB)\n"
     ]
    },
    {
     "data": {
      "text/plain": [
       "10-element Array{Float64,1}:\n",
       "  0.0\n",
       " -0.41481567821516313\n",
       "  0.0\n",
       " -0.2054768734405355\n",
       " -0.1616353245698944\n",
       "  0.06113183193954419\n",
       "  0.06236459956882944\n",
       "  0.02235240578579206\n",
       "  0.16626206776483202\n",
       "  0.3377408008797908"
      ]
     },
     "execution_count": 28,
     "metadata": {},
     "output_type": "execute_result"
    }
   ],
   "source": [
    "@btime ForwardDiff.gradient(f, randn(10))"
   ]
  },
  {
   "cell_type": "code",
   "execution_count": 38,
   "metadata": {},
   "outputs": [
    {
     "data": {
      "text/plain": [
       "timing (generic function with 1 method)"
      ]
     },
     "execution_count": 38,
     "metadata": {},
     "output_type": "execute_result"
    }
   ],
   "source": [
    "function timing() \n",
    "    f = MultiFunction(MB, rand(1:6,10));\n",
    "    result = DiffResults.HessianResult(randn(10));\n",
    "    result = ForwardDiff.hessian!(result, f, randn(10));\n",
    "end"
   ]
  },
  {
   "cell_type": "code",
   "execution_count": 42,
   "metadata": {},
   "outputs": [
    {
     "data": {
      "text/plain": [
       "timing2 (generic function with 1 method)"
      ]
     },
     "execution_count": 42,
     "metadata": {},
     "output_type": "execute_result"
    }
   ],
   "source": [
    "function timing2() \n",
    "    f = MultiFunction(MB, rand(1:6,10));\n",
    "    x = randn(10)\n",
    "    f(x)\n",
    "    ForwardDiff.gradient(f, x);\n",
    "    ForwardDiff.hessian(f, x);\n",
    "end"
   ]
  },
  {
   "cell_type": "code",
   "execution_count": 43,
   "metadata": {},
   "outputs": [
    {
     "name": "stdout",
     "output_type": "stream",
     "text": [
      "  6.722 μs (47 allocations: 51.77 KiB)\n"
     ]
    },
    {
     "data": {
      "text/plain": [
       "MutableDiffResult(-0.2044578068550304, ([0.39829120904469095, -0.19262095275384977, -0.06467058375300636, -0.16597678410144642, 0.09076585820500507, -0.4505810392251209, -0.10561444535867072, 0.12783878526911294, -0.11042588440504841, 0.10070902078475591], [0.627576166543466 0.3752325887661919 0.12598063820020433 0.32332878372302787 -0.17681517747122896 0.8777481752645109 0.20574076275950454 -0.24903458141728996 0.21511362019402344 -0.1961848181151047; 0.3752325887661919 0.0 -0.060926553254502115 -0.15636774540631362 0.08551107122735313 -0.4244951582108158 -0.09950001617683905 0.12043770299703523 -0.1040329023868896 0.09487858562535327; 0.12598063820020433 -0.060926553254502115 0.08177341450641945 -0.052498927198695755 0.02870949818571752 -0.14252005967855214 -0.0334061483841412 0.04043577008282555 -0.03492802019039548 0.03185454868916674; 0.32332878372302787 -0.15636774540631362 -0.052498927198695755 0.5065202209408731 0.07368280763060513 -0.36577714012505186 -0.08573674082163721 0.10377823566036494 -0.0896426184797309 0.08175456666084382; -0.17681517747122896 0.08551107122735313 0.02870949818571752 0.07368280763060513 0.6661230076543951 0.2000284329821125 0.04688588770113528 -0.05675203718224227 0.04902185111071638 -0.04470820088075871; 0.8777481752645109 -0.4244951582108158 -0.14252005967855214 -0.36577714012505186 0.2000284329821125 0.0 -0.2327515259939988 0.2817291919827553 -0.24335490298914753 0.22194102510702524; 0.20574076275950454 -0.09950001617683905 -0.0334061483841412 -0.08573674082163721 0.04688588770113528 -0.2327515259939988 0.047672849833882494 0.06603622825269181 -0.05704144397356834 0.052022114178004765; -0.24903458141728996 0.12043770299703523 0.04043577008282555 0.10377823566036494 -0.05675203718224227 0.2817291919827553 0.06603622825269181 0.06565516649826747 0.06904461679283413 -0.06296907455284231; 0.21511362019402344 -0.1040329023868896 -0.03492802019039548 -0.0896426184797309 0.04902185111071638 -0.24335490298914753 -0.05704144397356834 0.06904461679283413 0.2582211013995885 0.054392066797470204; -0.1961848181151047 0.09487858562535327 0.03185454868916674 0.08175456666084382 -0.04470820088075871 0.22194102510702524 0.052022114178004765 -0.06296907455284231 0.054392066797470204 0.05262303597039363]))"
      ]
     },
     "execution_count": 43,
     "metadata": {},
     "output_type": "execute_result"
    }
   ],
   "source": [
    "@btime timing()"
   ]
  },
  {
   "cell_type": "code",
   "execution_count": 44,
   "metadata": {},
   "outputs": [
    {
     "name": "stdout",
     "output_type": "stream",
     "text": [
      "  12.227 μs (74 allocations: 46.17 KiB)\n"
     ]
    },
    {
     "data": {
      "text/plain": [
       "10×10 Array{Float64,2}:\n",
       "  0.0        0.121232    0.0   0.656108   …  0.0  -0.856951   0.0   1.31124\n",
       "  0.121232  -0.505286    0.0   0.0285255     0.0  -0.0372576  0.0   0.0570086\n",
       "  0.0        0.0         0.0   0.0           0.0   0.0        0.0   0.0\n",
       "  0.656108   0.0285255   0.0  -0.487653      0.0  -0.201639   0.0   0.308532\n",
       "  0.21697    0.00943319  0.0   0.0510526     0.0  -0.0666804  0.0   0.102029\n",
       " -0.12933   -0.00562285  0.0  -0.0304309  …  0.0   0.0397462  0.0  -0.0608166\n",
       "  0.0        0.0         0.0   0.0           0.0   0.0        0.0   0.0\n",
       " -0.856951  -0.0372576   0.0  -0.201639      0.0  -0.376055   0.0  -0.402977\n",
       "  0.0        0.0         0.0   0.0           0.0   0.0        0.0   0.0\n",
       "  1.31124    0.0570086   0.0   0.308532      0.0  -0.402977   0.0   0.0"
      ]
     },
     "execution_count": 44,
     "metadata": {},
     "output_type": "execute_result"
    }
   ],
   "source": [
    "@btime timing2()"
   ]
  },
  {
   "cell_type": "markdown",
   "metadata": {},
   "source": [
    "### Hermite functions"
   ]
  },
  {
   "cell_type": "code",
   "execution_count": 27,
   "metadata": {},
   "outputs": [
    {
     "name": "stdout",
     "output_type": "stream",
     "text": [
      "  0.069184 seconds (167.45 k allocations: 8.917 MiB)\n"
     ]
    },
    {
     "data": {
      "text/plain": [
       "(0.5630021473036511, 1.4497070210950369e-11)"
      ]
     },
     "execution_count": 27,
     "metadata": {},
     "output_type": "execute_result"
    }
   ],
   "source": [
    "@time integral, err = quadgk(x -> FamilyPhyHermite[5](x), 0.0, 1.0, rtol=1e-8)"
   ]
  },
  {
   "cell_type": "code",
   "execution_count": 29,
   "metadata": {},
   "outputs": [
    {
     "data": {
      "text/plain": [
       "1-element Array{Float64,1}:\n",
       " -18.84597896350062"
      ]
     },
     "execution_count": 29,
     "metadata": {},
     "output_type": "execute_result"
    }
   ],
   "source": [
    "derivative(FamilyPhyHermite[5],-1, [1.0])"
   ]
  },
  {
   "cell_type": "code",
   "execution_count": null,
   "metadata": {},
   "outputs": [],
   "source": []
  }
 ],
 "metadata": {
  "kernelspec": {
   "display_name": "Julia 1.4.0",
   "language": "julia",
   "name": "julia-1.4"
  },
  "language_info": {
   "file_extension": ".jl",
   "mimetype": "application/julia",
   "name": "julia",
   "version": "1.4.0"
  }
 },
 "nbformat": 4,
 "nbformat_minor": 2
}
