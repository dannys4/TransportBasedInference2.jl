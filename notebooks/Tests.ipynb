{
 "cells": [
  {
   "cell_type": "code",
   "execution_count": 1,
   "metadata": {},
   "outputs": [
    {
     "name": "stderr",
     "output_type": "stream",
     "text": [
      "\u001b[32m\u001b[1m Activating\u001b[22m\u001b[39m environment at `/media/mat/HDD/AdaptiveTransportMap/Project.toml`\n"
     ]
    }
   ],
   "source": [
    "using Pkg\n",
    "Pkg.activate(\"/media/mat/HDD/AdaptiveTransportMap/\")"
   ]
  },
  {
   "cell_type": "code",
   "execution_count": 2,
   "metadata": {
    "scrolled": false
   },
   "outputs": [
    {
     "name": "stderr",
     "output_type": "stream",
     "text": [
      "┌ Info: Precompiling AdaptiveTransportMap [bdf749b0-1400-4207-80d3-e689c0e3f03d]\n",
      "└ @ Base loading.jl:1260\n",
      "WARNING: using Optim.optimize in module Main conflicts with an existing identifier.\n",
      "WARNING: using Polynomials.vander in module Main conflicts with an existing identifier.\n",
      "WARNING: using Polynomials.derivative in module Main conflicts with an existing identifier.\n"
     ]
    }
   ],
   "source": [
    "using Revise\n",
    "using AdaptiveTransportMap\n",
    "using LinearAlgebra\n",
    "import LinearAlgebra: ldiv!, dot\n",
    "using Test\n",
    "using ForwardDiff\n",
    "using SpecialFunctions\n",
    "using BenchmarkTools\n",
    "using TransportMap\n",
    "using QuadGK\n",
    "using AdaptiveTransportMap: derivative, vander, transform!, evaluate, ncoeff, optimize\n",
    "using DiffResults\n",
    "using Distributions\n",
    "using Random\n",
    "using LoopVectorization\n",
    "using Optim\n",
    "using NLsolve\n",
    "using Polynomials\n",
    "using Optim: InverseDiagonal\n",
    "using MLDataUtils\n",
    "using Test"
   ]
  },
  {
   "cell_type": "code",
   "execution_count": null,
   "metadata": {},
   "outputs": [],
   "source": []
  },
  {
   "cell_type": "markdown",
   "metadata": {},
   "source": [
    "### Expanded function"
   ]
  },
  {
   "cell_type": "code",
   "execution_count": 3,
   "metadata": {},
   "outputs": [
    {
     "data": {
      "text/plain": [
       "8×3 Adjoint{Float64,Array{Float64,2}}:\n",
       "  0.36704    1.40948   -0.075985\n",
       "  1.23996   -0.469302   0.00113042\n",
       " -0.830775   0.644367  -1.13684\n",
       " -1.60413   -1.19758    0.80183\n",
       " -0.726377  -0.903612   0.413753\n",
       "  0.291923  -0.735504  -1.09496\n",
       "  0.872641  -1.20111    0.831016\n",
       "  1.17806   -1.96244    0.729214"
      ]
     },
     "execution_count": 3,
     "metadata": {},
     "output_type": "execute_result"
    }
   ],
   "source": [
    "Nx = 3\n",
    "Ne = 8\n",
    "X = randn(Nx, Ne)'"
   ]
  },
  {
   "cell_type": "code",
   "execution_count": 35,
   "metadata": {},
   "outputs": [],
   "source": [
    "Nx = 3\n",
    "Ne = 8\n",
    "\n",
    "X = Matrix([-0.899679   0.149212  -0.203239;\n",
    "     -1.20342   -0.196523  -0.484925;\n",
    "     -1.03261   -1.04501    0.367875;\n",
    "     -0.343662   0.424117   0.720608;\n",
    "      0.32033    0.345181   0.739602;\n",
    "      1.0377    -1.029     -0.610308;\n",
    "      0.36607    2.42988   -0.0927185;\n",
    "     -1.15715    0.803241   1.71867]')\n",
    "\n",
    "# X = randn(Nx, Ne)\n",
    "\n",
    "B = MultiBasis(CstProHermite(3; scaled =true), Nx)\n",
    "\n",
    "idx = [0 0 0; 0 0 1; 0 1 0; 0 1 1; 0 1 2; 1 0 0]\n",
    "Nψ = size(idx,1)\n",
    "coeff =  randn(Nψ)\n",
    "\n",
    "f = ExpandedFunction(B, idx, coeff)\n",
    "\n",
    "out = zeros(Ne, Nψ);"
   ]
  },
  {
   "cell_type": "code",
   "execution_count": 36,
   "metadata": {},
   "outputs": [
    {
     "name": "stdout",
     "output_type": "stream",
     "text": [
      "  636.602 ns (27 allocations: 2.13 KiB)\n"
     ]
    },
    {
     "data": {
      "text/plain": [
       "8×6 Array{Float64,2}:\n",
       " 1.0  0.62513   0.628113  0.392652   -0.0798022  0.515909\n",
       " 1.0  0.595558  0.62555   0.372551   -0.180659   0.439761\n",
       " 1.0  0.610607  0.480715  0.293528    0.107982   0.483821\n",
       " 1.0  0.554722  0.603845  0.334966    0.241379   0.613242\n",
       " 1.0  0.550889  0.613082  0.33774     0.249793   0.615622\n",
       " 1.0  0.575458  0.484722  0.278937   -0.170238   0.482548\n",
       " 1.0  0.630263  0.144345  0.0909753  -0.0084351  0.610809\n",
       " 1.0  0.30182   0.537531  0.162237    0.278833   0.451934"
      ]
     },
     "execution_count": 36,
     "metadata": {},
     "output_type": "execute_result"
    }
   ],
   "source": [
    "@btime evaluate_basis!($out, $f, $X)"
   ]
  },
  {
   "cell_type": "code",
   "execution_count": 6,
   "metadata": {},
   "outputs": [
    {
     "data": {
      "text/plain": [
       "8×6 Array{Float64,2}:\n",
       " 1.0  0.62513   0.628113  0.392652   -0.0798022  0.515909\n",
       " 1.0  0.595558  0.62555   0.372551   -0.180659   0.439761\n",
       " 1.0  0.610607  0.480715  0.293528    0.107982   0.483821\n",
       " 1.0  0.554722  0.603845  0.334966    0.241379   0.613242\n",
       " 1.0  0.550889  0.613082  0.33774     0.249793   0.615622\n",
       " 1.0  0.575458  0.484722  0.278937   -0.170238   0.482548\n",
       " 1.0  0.630263  0.144345  0.0909753  -0.0084351  0.610809\n",
       " 1.0  0.30182   0.537531  0.162237    0.278833   0.451934"
      ]
     },
     "execution_count": 6,
     "metadata": {},
     "output_type": "execute_result"
    }
   ],
   "source": [
    "evaluate_basis!(out, f, X)"
   ]
  },
  {
   "cell_type": "code",
   "execution_count": 261,
   "metadata": {},
   "outputs": [
    {
     "name": "stdout",
     "output_type": "stream",
     "text": [
      "  357.426 ns (13 allocations: 1.14 KiB)\n"
     ]
    },
    {
     "data": {
      "text/plain": [
       "8×6 Array{Float64,2}:\n",
       " 1.0  0.62513   0.628113  0.392652   -0.0798022  0.515909\n",
       " 1.0  0.595558  0.62555   0.372551   -0.180659   0.439761\n",
       " 1.0  0.610607  0.480715  0.293528    0.107982   0.483821\n",
       " 1.0  0.554722  0.603845  0.334966    0.241379   0.613242\n",
       " 1.0  0.550889  0.613082  0.33774     0.249793   0.615622\n",
       " 1.0  0.575458  0.484722  0.278937   -0.170238   0.482548\n",
       " 1.0  0.630263  0.144345  0.0909753  -0.0084351  0.610809\n",
       " 1.0  0.30182   0.537531  0.162237    0.278833   0.451934"
      ]
     },
     "execution_count": 261,
     "metadata": {},
     "output_type": "execute_result"
    }
   ],
   "source": [
    "@btime evaluate_basis!($out, $f, $X)"
   ]
  },
  {
   "cell_type": "code",
   "execution_count": 255,
   "metadata": {},
   "outputs": [
    {
     "name": "stdout",
     "output_type": "stream",
     "text": [
      "  443.899 ns (12 allocations: 1.14 KiB)\n"
     ]
    },
    {
     "data": {
      "text/plain": [
       "8×6 Array{Float64,2}:\n",
       " 1.0  0.62513   0.628113  0.392652   -0.0798022  0.515909\n",
       " 1.0  0.595558  0.62555   0.372551   -0.180659   0.439761\n",
       " 1.0  0.610607  0.480715  0.293528    0.107982   0.483821\n",
       " 1.0  0.554722  0.603845  0.334966    0.241379   0.613242\n",
       " 1.0  0.550889  0.613082  0.33774     0.249793   0.615622\n",
       " 1.0  0.575458  0.484722  0.278937   -0.170238   0.482548\n",
       " 1.0  0.630263  0.144345  0.0909753  -0.0084351  0.610809\n",
       " 1.0  0.30182   0.537531  0.162237    0.278833   0.451934"
      ]
     },
     "execution_count": 255,
     "metadata": {},
     "output_type": "execute_result"
    }
   ],
   "source": [
    "@btime evaluate_basis!($out, $f, $X)"
   ]
  },
  {
   "cell_type": "code",
   "execution_count": null,
   "metadata": {},
   "outputs": [],
   "source": []
  },
  {
   "cell_type": "code",
   "execution_count": null,
   "metadata": {},
   "outputs": [],
   "source": []
  },
  {
   "cell_type": "code",
   "execution_count": 250,
   "metadata": {},
   "outputs": [
    {
     "name": "stdout",
     "output_type": "stream",
     "text": [
      "  428.472 ns (12 allocations: 1.14 KiB)\n"
     ]
    },
    {
     "data": {
      "text/plain": [
       "8×6 Array{Float64,2}:\n",
       " 1.0  0.62513   0.628113  0.392652   -0.0798022  0.515909\n",
       " 1.0  0.595558  0.62555   0.372551   -0.180659   0.439761\n",
       " 1.0  0.610607  0.480715  0.293528    0.107982   0.483821\n",
       " 1.0  0.554722  0.603845  0.334966    0.241379   0.613242\n",
       " 1.0  0.550889  0.613082  0.33774     0.249793   0.615622\n",
       " 1.0  0.575458  0.484722  0.278937   -0.170238   0.482548\n",
       " 1.0  0.630263  0.144345  0.0909753  -0.0084351  0.610809\n",
       " 1.0  0.30182   0.537531  0.162237    0.278833   0.451934"
      ]
     },
     "execution_count": 250,
     "metadata": {},
     "output_type": "execute_result"
    }
   ],
   "source": [
    "@btime evaluate_basis!($out, $f, $X)"
   ]
  },
  {
   "cell_type": "code",
   "execution_count": 239,
   "metadata": {},
   "outputs": [
    {
     "name": "stdout",
     "output_type": "stream",
     "text": [
      "  718.075 ns (30 allocations: 2.27 KiB)\n"
     ]
    },
    {
     "data": {
      "text/plain": [
       "8×6 Array{Float64,2}:\n",
       " 1.0  0.62513   0.628113  0.392652   -0.0798022  0.515909\n",
       " 1.0  0.595558  0.62555   0.372551   -0.180659   0.439761\n",
       " 1.0  0.610607  0.480715  0.293528    0.107982   0.483821\n",
       " 1.0  0.554722  0.603845  0.334966    0.241379   0.613242\n",
       " 1.0  0.550889  0.613082  0.33774     0.249793   0.615622\n",
       " 1.0  0.575458  0.484722  0.278937   -0.170238   0.482548\n",
       " 1.0  0.630263  0.144345  0.0909753  -0.0084351  0.610809\n",
       " 1.0  0.30182   0.537531  0.162237    0.278833   0.451934"
      ]
     },
     "execution_count": 239,
     "metadata": {},
     "output_type": "execute_result"
    }
   ],
   "source": [
    "@btime evaluate_basis!($out, $f, $X)"
   ]
  },
  {
   "cell_type": "markdown",
   "metadata": {},
   "source": [
    "### HermiteMap"
   ]
  },
  {
   "cell_type": "code",
   "execution_count": 60,
   "metadata": {},
   "outputs": [],
   "source": [
    "Nx = 20\n",
    "Ne = 300\n",
    "m = 10\n",
    "X = randn(Nx, Ne) .* randn(Nx, Ne) .+ rand(Nx);\n",
    "X0 = deepcopy(X);"
   ]
  },
  {
   "cell_type": "code",
   "execution_count": 61,
   "metadata": {},
   "outputs": [],
   "source": [
    "M = HermiteMap(m, X);"
   ]
  },
  {
   "cell_type": "code",
   "execution_count": 63,
   "metadata": {},
   "outputs": [
    {
     "name": "stdout",
     "output_type": "stream",
     "text": [
      "  0.326792 seconds (593.41 k allocations: 732.832 MiB, 11.31% gc time)\n"
     ]
    }
   ],
   "source": [
    "out = zero(X);\n",
    "@time optimize(M, X, 6; apply_rescaling = true);"
   ]
  },
  {
   "cell_type": "code",
   "execution_count": 12,
   "metadata": {},
   "outputs": [
    {
     "name": "stdout",
     "output_type": "stream",
     "text": [
      "Variables\n",
      "  #self#\u001b[36m::Core.Compiler.Const(randn, false)\u001b[39m\n",
      "  dims\u001b[36m::Tuple{Int64}\u001b[39m\n",
      "\n",
      "Body\u001b[36m::Array{Float64,1}\u001b[39m\n",
      "\u001b[90m1 ─\u001b[39m %1 = Random.default_rng()\u001b[36m::MersenneTwister\u001b[39m\n",
      "\u001b[90m│  \u001b[39m %2 = Core.tuple(%1, Random.Float64)\u001b[36m::Core.Compiler.PartialStruct(Tuple{MersenneTwister,DataType}, Any[MersenneTwister, Core.Compiler.Const(Float64, false)])\u001b[39m\n",
      "\u001b[90m│  \u001b[39m %3 = Core._apply_iterate(Base.iterate, Random.randn, %2, dims)\u001b[36m::Array{Float64,1}\u001b[39m\n",
      "\u001b[90m└──\u001b[39m      return %3\n"
     ]
    }
   ],
   "source": [
    "@code_warntype  randn(Nx) \n",
    "#         M = HermiteMap(m, X);    \n",
    "#         optimize(M, X, 6; apply_rescaling = true)"
   ]
  },
  {
   "cell_type": "code",
   "execution_count": 58,
   "metadata": {},
   "outputs": [
    {
     "data": {
      "text/plain": [
       "timing (generic function with 1 method)"
      ]
     },
     "execution_count": 58,
     "metadata": {},
     "output_type": "execute_result"
    }
   ],
   "source": [
    "function timing()\n",
    "    @btime begin\n",
    "        Nx = 10\n",
    "        Ne = 300\n",
    "        m = 10\n",
    "        X = randn(Nx, Ne) .* randn(Nx, Ne) .+ rand(Nx);\n",
    "        X0 = deepcopy(X);   \n",
    "#         M = HermiteMap(m, X);    \n",
    "#         optimize(M, X, 4; apply_rescaling = true)\n",
    "    end\n",
    "    \n",
    "    @btime begin\n",
    "        Nx = 20\n",
    "        Ne = 300\n",
    "        m = 10\n",
    "        X = randn(Nx, Ne) .* randn(Nx, Ne) .+ rand(Nx);\n",
    "        X0 = deepcopy(X);   \n",
    "        M = HermiteMap(m, X);    \n",
    "        optimize(M, X, 10; apply_rescaling = true)\n",
    "    end\n",
    "end"
   ]
  },
  {
   "cell_type": "code",
   "execution_count": 59,
   "metadata": {
    "scrolled": false
   },
   "outputs": [
    {
     "name": "stdout",
     "output_type": "stream",
     "text": [
      "  31.415 μs (11 allocations: 94.58 KiB)\n",
      "  893.217 ms (1209838 allocations: 1.87 GiB)\n"
     ]
    }
   ],
   "source": [
    "timing();"
   ]
  },
  {
   "cell_type": "markdown",
   "metadata": {},
   "source": [
    "### Greedyfit"
   ]
  },
  {
   "cell_type": "code",
   "execution_count": 32,
   "metadata": {},
   "outputs": [
    {
     "data": {
      "text/plain": [
       "10×300 Array{Float64,2}:\n",
       "  0.297382    -0.117953  -1.10087      0.106203   …   0.641164   -0.0177259\n",
       " -0.0678983   -0.744166  -0.0852826   -1.24427        0.290751   -0.192203\n",
       "  0.178115     2.94028    0.188398     1.46241        0.990471   -3.60733\n",
       " -1.54916      0.117499  -0.0928214   -0.222249      -0.14336    -0.487068\n",
       " -0.00268947   1.04019   -0.299954    -2.33092        0.0344107  -0.000892016\n",
       "  1.06619     -0.824913  -0.986831    -0.412307   …   0.401896   -0.526111\n",
       " -0.256012     0.954342   0.00187053  -0.369885       0.675455    1.73183\n",
       " -0.129779     0.167482   1.23641      0.0573571     -0.370129   -0.701837\n",
       " -1.17288      1.70785   -0.0999442   -0.0332631     -1.336       2.40839\n",
       " -0.457943    -0.515946  -0.320347    -0.644992       1.33783    -0.291876"
      ]
     },
     "execution_count": 32,
     "metadata": {},
     "output_type": "execute_result"
    }
   ],
   "source": [
    "Nx = 10\n",
    "Ne = 300\n",
    "m = 20\n",
    "\n",
    "# X = Matrix([0.267333   1.43021;\n",
    "#       0.364979   0.607224;\n",
    "#      -1.23693    0.249277;\n",
    "#      -2.0526     0.915629;\n",
    "#      -0.182465   0.415874;\n",
    "#       0.412907   1.01672;\n",
    "#       1.41332   -0.918205;\n",
    "#       0.766647  -1.00445]');\n",
    "\n",
    "X = randn(Nx, Ne) .* randn(Nx, Ne) .+ rand(Nx)\n",
    "L = LinearTransform(X; diag = true)\n",
    "\n",
    "transform!(L, X)"
   ]
  },
  {
   "cell_type": "code",
   "execution_count": 33,
   "metadata": {},
   "outputs": [
    {
     "name": "stdout",
     "output_type": "stream",
     "text": [
      "  17.678 ms (31741 allocations: 42.76 MiB)\n"
     ]
    }
   ],
   "source": [
    "@btime greedyfit($m, $Nx, $X, $8; verbose = false);"
   ]
  },
  {
   "cell_type": "code",
   "execution_count": 30,
   "metadata": {},
   "outputs": [
    {
     "name": "stdout",
     "output_type": "stream",
     "text": [
      "  0.045642 seconds (41.58 k allocations: 64.954 MiB, 16.33% gc time)\n"
     ]
    }
   ],
   "source": [
    "@time greedyfit(m, Nx, X, 8; verbose = false);"
   ]
  },
  {
   "cell_type": "code",
   "execution_count": 34,
   "metadata": {},
   "outputs": [
    {
     "name": "stdout",
     "output_type": "stream",
     "text": [
      "  0.044889 seconds (41.58 k allocations: 64.954 MiB, 12.20% gc time)\n"
     ]
    }
   ],
   "source": [
    "@time greedyfit(m, Nx, X, 8; verbose = false);"
   ]
  },
  {
   "cell_type": "code",
   "execution_count": 35,
   "metadata": {},
   "outputs": [
    {
     "name": "stdout",
     "output_type": "stream",
     "text": [
      "  29.638 ms (41583 allocations: 64.95 MiB)\n"
     ]
    }
   ],
   "source": [
    "@btime greedyfit($m, $Nx, $X, $8; verbose = false);"
   ]
  },
  {
   "cell_type": "code",
   "execution_count": null,
   "metadata": {},
   "outputs": [],
   "source": []
  }
 ],
 "metadata": {
  "kernelspec": {
   "display_name": "Julia 1.4.0",
   "language": "julia",
   "name": "julia-1.4"
  },
  "language_info": {
   "file_extension": ".jl",
   "mimetype": "application/julia",
   "name": "julia",
   "version": "1.4.0"
  }
 },
 "nbformat": 4,
 "nbformat_minor": 2
}
