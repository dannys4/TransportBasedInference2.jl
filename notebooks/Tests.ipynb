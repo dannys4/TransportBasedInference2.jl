{
 "cells": [
  {
   "cell_type": "code",
   "execution_count": 1,
   "metadata": {},
   "outputs": [
    {
     "name": "stderr",
     "output_type": "stream",
     "text": [
      "\u001b[32m\u001b[1m Activating\u001b[22m\u001b[39m environment at `/media/mat/HDD/AdaptiveTransportMap/Project.toml`\n"
     ]
    }
   ],
   "source": [
    "using Pkg\n",
    "Pkg.activate(\"/media/mat/HDD/AdaptiveTransportMap/\")"
   ]
  },
  {
   "cell_type": "code",
   "execution_count": 2,
   "metadata": {},
   "outputs": [
    {
     "name": "stderr",
     "output_type": "stream",
     "text": [
      "WARNING: using Distributions.scale! in module Main conflicts with an existing identifier.\n"
     ]
    }
   ],
   "source": [
    "using Revise\n",
    "using AdaptiveTransportMap\n",
    "using LinearAlgebra\n",
    "using Test\n",
    "using ForwardDiff\n",
    "using SpecialFunctions\n",
    "using Polynomials\n",
    "using BenchmarkTools\n",
    "using TransportMap\n",
    "using QuadGK\n",
    "using FastGaussQuadrature\n",
    "using AdaptiveTransportMap: derivative, vander, scale!, evaluate\n",
    "using DiffResults\n",
    "using Distributions\n",
    "using Random\n",
    "using LoopVectorization\n",
    "using Optim"
   ]
  },
  {
   "cell_type": "markdown",
   "metadata": {},
   "source": [
    "### Greedy fit"
   ]
  },
  {
   "cell_type": "code",
   "execution_count": 23,
   "metadata": {},
   "outputs": [
    {
     "name": "stdout",
     "output_type": "stream",
     "text": [
      "(i, dJ) = (1, [0.0])\n",
      "(i, dJ) = (2, [0.0])\n",
      "(i, dJ) = (3, [0.0])\n",
      "(i, dJ) = (4, [0.0])\n",
      "(i, dJ) = (5, [0.0])\n",
      "(i, dJ) = (6, [0.0])\n",
      "(i, dJ) = (7, [0.0])\n",
      "(i, dJ) = (8, [0.0])\n"
     ]
    },
    {
     "data": {
      "text/plain": [
       "1.3172777885451104"
      ]
     },
     "execution_count": 23,
     "metadata": {},
     "output_type": "execute_result"
    }
   ],
   "source": [
    "k = 2\n",
    "Ne = 8\n",
    "m = 5\n",
    "\n",
    "X  =  Matrix([0.267333   1.43021;\n",
    "          0.364979   0.607224;\n",
    "         -1.23693    0.249277;\n",
    "         -2.0526     0.915629;\n",
    "         -0.182465   0.415874;\n",
    "          0.412907   1.01672;\n",
    "          1.41332   -0.918205;\n",
    "          0.766647  -1.00445]');\n",
    "\n",
    "H = HermiteMapk(m, k; α = 0.0)\n",
    "S = Storage(H.I.f, X);\n",
    "\n",
    "J = 0.0\n",
    "dJ = zeros(1)\n",
    "J = negative_log_likelihood!(J, dJ, getcoeff(H), S, H, X)"
   ]
  },
  {
   "cell_type": "code",
   "execution_count": 22,
   "metadata": {},
   "outputs": [
    {
     "name": "stdout",
     "output_type": "stream",
     "text": [
      "(J, dJ) = (1.3172777885451104, [-0.12555625])\n"
     ]
    },
    {
     "data": {
      "text/plain": [
       "(1.3172777885451104, [-0.12555625])"
      ]
     },
     "execution_count": 22,
     "metadata": {},
     "output_type": "execute_result"
    }
   ],
   "source": [
    "@show J, dJ"
   ]
  },
  {
   "cell_type": "code",
   "execution_count": 33,
   "metadata": {},
   "outputs": [
    {
     "name": "stdout",
     "output_type": "stream",
     "text": [
      "(J, dJ) = (1.3172777885451104, [0.33903487500000007])\n"
     ]
    }
   ],
   "source": [
    "Nx = 2\n",
    "Ne = 8\n",
    "m = 5\n",
    "ens = EnsembleState(Nx, Ne)\n",
    "\n",
    "ens.S .=  [0.267333   1.43021;\n",
    "          0.364979   0.607224;\n",
    "         -1.23693    0.249277;\n",
    "         -2.0526     0.915629;\n",
    "         -0.182465   0.415874;\n",
    "          0.412907   1.01672;\n",
    "          1.41332   -0.918205;\n",
    "          0.766647  -1.00445]';\n",
    "X = ens.S\n",
    "\n",
    "coeff = [0.0];\n",
    "\n",
    "# coeff = [0.6285037650645056;\n",
    "#           -0.4744029092496623;\n",
    "#            1.1405280011620331;\n",
    "#           -0.7217760771894809;\n",
    "#            0.11855056306742319];\n",
    "# Initialize map with zero coefficients\n",
    "# Hk_old = HermiteMapk(m, Nx, [0 0; 0 1; 0 2; 1 0; 2 0], coeff; α = 1e-2);\n",
    "Hk_old = HermiteMapk(m, Nx, [0 0], coeff; α = 1e-2);\n",
    "S = Storage(Hk_old.I.f, X)\n",
    "\n",
    "# reduced_margin = getreducedmargin(getidx(Hk_old))\n",
    "# @show reduced_margin\n",
    "# @time idx_new, reduced_margin = update_component(Hk_old, X, reduced_margin, S)\n",
    "\n",
    "# @show idx_new\n",
    "# @show reduced_margin\n",
    "\n",
    "J = 0.0\n",
    "dJ = zeros(1)\n",
    "J = negative_log_likelihood!(J, dJ, getcoeff(Hk_old), S, Hk_old, X)\n",
    "\n",
    "@show J, dJ\n",
    "# idx_new = vcat(getidx(Hk_old), reduced_margin)\n",
    "# Hk_new = HermiteMapk(m, Nx, idx_new, vcat(getcoeff(Hk_old), zeros(size(reduced_margin,1))); α = 1.0);\n",
    "# # coeff_new, coeff_idx_added, idx_added = update_coeffs(Hk_old, Hk_new)"
   ]
  },
  {
   "cell_type": "code",
   "execution_count": 34,
   "metadata": {},
   "outputs": [
    {
     "data": {
      "text/plain": [
       "1-element Array{Float64,1}:\n",
       " -0.33238713235294115"
      ]
     },
     "execution_count": 34,
     "metadata": {},
     "output_type": "execute_result"
    }
   ],
   "source": [
    "res = Optim.optimize(Optim.only_fg!(negative_log_likelihood!(S, Hk_old, ens.S)), coeff, Optim.BFGS())\n",
    "coeffopt = Optim.minimizer(res)"
   ]
  },
  {
   "cell_type": "code",
   "execution_count": 35,
   "metadata": {},
   "outputs": [
    {
     "name": "stdout",
     "output_type": "stream",
     "text": [
      "search: \u001b[0m\u001b[1mb\u001b[22m\u001b[0m\u001b[1mr\u001b[22m\u001b[0m\u001b[1me\u001b[22m\u001b[0m\u001b[1ma\u001b[22m\u001b[0m\u001b[1mk\u001b[22m A\u001b[0m\u001b[1mb\u001b[22mst\u001b[0m\u001b[1mr\u001b[22mactV\u001b[0m\u001b[1me\u001b[22mcOrM\u001b[0m\u001b[1ma\u001b[22mt \u001b[0m\u001b[1mb\u001b[22menchma\u001b[0m\u001b[1mr\u001b[22mkparall\u001b[0m\u001b[1me\u001b[22ml_TM\u001b[0m\u001b[1ma\u001b[22mp_lorenz96\n",
      "\n"
     ]
    },
    {
     "data": {
      "text/latex": [
       "\\begin{verbatim}\n",
       "break\n",
       "\\end{verbatim}\n",
       "Break out of a loop immediately.\n",
       "\n",
       "\\section{Examples}\n",
       "\\begin{verbatim}\n",
       "julia> i = 0\n",
       "0\n",
       "\n",
       "julia> while true\n",
       "           global i += 1\n",
       "           i > 5 && break\n",
       "           println(i)\n",
       "       end\n",
       "1\n",
       "2\n",
       "3\n",
       "4\n",
       "5\n",
       "\\end{verbatim}\n"
      ],
      "text/markdown": [
       "```\n",
       "break\n",
       "```\n",
       "\n",
       "Break out of a loop immediately.\n",
       "\n",
       "# Examples\n",
       "\n",
       "```jldoctest\n",
       "julia> i = 0\n",
       "0\n",
       "\n",
       "julia> while true\n",
       "           global i += 1\n",
       "           i > 5 && break\n",
       "           println(i)\n",
       "       end\n",
       "1\n",
       "2\n",
       "3\n",
       "4\n",
       "5\n",
       "```\n"
      ],
      "text/plain": [
       "\u001b[36m  break\u001b[39m\n",
       "\n",
       "  Break out of a loop immediately.\n",
       "\n",
       "\u001b[1m  Examples\u001b[22m\n",
       "\u001b[1m  ≡≡≡≡≡≡≡≡≡≡\u001b[22m\n",
       "\n",
       "\u001b[36m  julia> i = 0\u001b[39m\n",
       "\u001b[36m  0\u001b[39m\n",
       "\u001b[36m  \u001b[39m\n",
       "\u001b[36m  julia> while true\u001b[39m\n",
       "\u001b[36m             global i += 1\u001b[39m\n",
       "\u001b[36m             i > 5 && break\u001b[39m\n",
       "\u001b[36m             println(i)\u001b[39m\n",
       "\u001b[36m         end\u001b[39m\n",
       "\u001b[36m  1\u001b[39m\n",
       "\u001b[36m  2\u001b[39m\n",
       "\u001b[36m  3\u001b[39m\n",
       "\u001b[36m  4\u001b[39m\n",
       "\u001b[36m  5\u001b[39m"
      ]
     },
     "execution_count": 35,
     "metadata": {},
     "output_type": "execute_result"
    }
   ],
   "source": [
    "?break"
   ]
  }
 ],
 "metadata": {
  "kernelspec": {
   "display_name": "Julia 1.4.0",
   "language": "julia",
   "name": "julia-1.4"
  },
  "language_info": {
   "file_extension": ".jl",
   "mimetype": "application/julia",
   "name": "julia",
   "version": "1.4.0"
  }
 },
 "nbformat": 4,
 "nbformat_minor": 2
}
