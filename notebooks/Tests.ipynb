{
 "cells": [
  {
   "cell_type": "code",
   "execution_count": 1,
   "metadata": {},
   "outputs": [
    {
     "name": "stderr",
     "output_type": "stream",
     "text": [
      "\u001b[32m\u001b[1m Activating\u001b[22m\u001b[39m environment at `/media/mat/HDD/AdaptiveTransportMap/Project.toml`\n"
     ]
    }
   ],
   "source": [
    "using Pkg\n",
    "Pkg.activate(\"/media/mat/HDD/AdaptiveTransportMap/\")"
   ]
  },
  {
   "cell_type": "code",
   "execution_count": 18,
   "metadata": {},
   "outputs": [],
   "source": [
    "using Revise\n",
    "using AdaptiveTransportMap\n",
    "using LinearAlgebra\n",
    "using Test\n",
    "using ForwardDiff\n",
    "using SpecialFunctions\n",
    "using Polynomials\n",
    "using BenchmarkTools\n",
    "using TransportMap\n",
    "using QuadGK\n",
    "using FastGaussQuadrature\n",
    "using AdaptiveTransportMap: derivative, vander, scale!, evaluate\n",
    "using DiffResults\n",
    "using Distributions\n",
    "using Random\n",
    "using LoopVectorization\n",
    "using Optim"
   ]
  },
  {
   "cell_type": "markdown",
   "metadata": {},
   "source": [
    "### Expanded Function"
   ]
  },
  {
   "cell_type": "code",
   "execution_count": 3,
   "metadata": {},
   "outputs": [],
   "source": [
    "Nx = 2\n",
    "Ne = 8\n",
    "ens = EnsembleState(Nx, Ne)\n",
    "\n",
    "ens.S .=  [0.267333   1.43021;\n",
    "          0.364979   0.607224;\n",
    "         -1.23693    0.249277;\n",
    "         -2.0526     0.915629;\n",
    "         -0.182465   0.415874;\n",
    "          0.412907   1.01672;\n",
    "          1.41332   -0.918205;\n",
    "          0.766647  -1.00445]';\n",
    "B = MultiBasis(CstProHermite(3; scaled =true), Nx)\n",
    "\n",
    "idx = [0 0; 0 1; 1 0; 2 1; 1 2]\n",
    "truncidx = idx[1:2:end,:]\n",
    "Nψ = 5\n",
    "\n",
    "coeff =  [0.6285037650645056;\n",
    " -0.4744029092496623;\n",
    "  1.1405280011620331;\n",
    " -0.7217760771894809;\n",
    "  0.11855056306742319]\n",
    "f = ExpandedFunction(B, idx, coeff)\n",
    "\n",
    "fp = ParametricFunction(f)\n",
    "R = IntegratedFunction(fp)\n",
    "\n",
    "H = HermiteMapk(R)\n",
    "\n",
    "\n",
    "S = Storage(H.I.f, ens.S);"
   ]
  },
  {
   "cell_type": "code",
   "execution_count": 4,
   "metadata": {},
   "outputs": [],
   "source": [
    "X = deepcopy(ens.S)\n",
    "xk = X[Nx,:];"
   ]
  },
  {
   "cell_type": "code",
   "execution_count": 29,
   "metadata": {},
   "outputs": [
    {
     "data": {
      "text/plain": [
       "1.27520711657622"
      ]
     },
     "execution_count": 29,
     "metadata": {},
     "output_type": "execute_result"
    }
   ],
   "source": [
    "negative_log_likelihood!(S, H, ens.S)(0.0, zeros(Nψ), randn(Nψ))"
   ]
  },
  {
   "cell_type": "code",
   "execution_count": 30,
   "metadata": {},
   "outputs": [
    {
     "data": {
      "text/plain": [
       "5-element Array{Float64,1}:\n",
       " -0.043509926772964856\n",
       " -1.0724826940522136\n",
       "  0.3342120227752588\n",
       " -0.3871935499945769\n",
       "  2.1872332588211343"
      ]
     },
     "execution_count": 30,
     "metadata": {},
     "output_type": "execute_result"
    }
   ],
   "source": [
    "coeff = randn(Nψ)"
   ]
  },
  {
   "cell_type": "code",
   "execution_count": 31,
   "metadata": {},
   "outputs": [
    {
     "ename": "ArgumentError",
     "evalue": "ArgumentError: Value and slope at step length = 0 must be finite.",
     "output_type": "error",
     "traceback": [
      "ArgumentError: Value and slope at step length = 0 must be finite.",
      "",
      "Stacktrace:",
      " [1] (::LineSearches.HagerZhang{Float64,Base.RefValue{Bool}})(::Function, ::LineSearches.var\"#ϕdϕ#6\"{Optim.ManifoldObjective{OnceDifferentiable{Float64,Array{Float64,1},Array{Float64,1}}},Array{Float64,1},Array{Float64,1},Array{Float64,1}}, ::Float64, ::Float64, ::Float64) at /home/mat/.julia/packages/LineSearches/WrsMD/src/hagerzhang.jl:117",
      " [2] HagerZhang at /home/mat/.julia/packages/LineSearches/WrsMD/src/hagerzhang.jl:101 [inlined]",
      " [3] perform_linesearch!(::Optim.BFGSState{Array{Float64,1},Array{Float64,2},Float64,Array{Float64,1}}, ::BFGS{LineSearches.InitialStatic{Float64},LineSearches.HagerZhang{Float64,Base.RefValue{Bool}},Nothing,Nothing,Flat}, ::Optim.ManifoldObjective{OnceDifferentiable{Float64,Array{Float64,1},Array{Float64,1}}}) at /home/mat/.julia/packages/Optim/TNmSw/src/utilities/perform_linesearch.jl:56",
      " [4] update_state!(::OnceDifferentiable{Float64,Array{Float64,1},Array{Float64,1}}, ::Optim.BFGSState{Array{Float64,1},Array{Float64,2},Float64,Array{Float64,1}}, ::BFGS{LineSearches.InitialStatic{Float64},LineSearches.HagerZhang{Float64,Base.RefValue{Bool}},Nothing,Nothing,Flat}) at /home/mat/.julia/packages/Optim/TNmSw/src/multivariate/solvers/first_order/bfgs.jl:110",
      " [5] optimize(::OnceDifferentiable{Float64,Array{Float64,1},Array{Float64,1}}, ::Array{Float64,1}, ::BFGS{LineSearches.InitialStatic{Float64},LineSearches.HagerZhang{Float64,Base.RefValue{Bool}},Nothing,Nothing,Flat}, ::Optim.Options{Float64,Nothing}, ::Optim.BFGSState{Array{Float64,1},Array{Float64,2},Float64,Array{Float64,1}}) at /home/mat/.julia/packages/Optim/TNmSw/src/multivariate/optimize/optimize.jl:57",
      " [6] optimize at /home/mat/.julia/packages/Optim/TNmSw/src/multivariate/optimize/optimize.jl:33 [inlined]",
      " [7] optimize(::NLSolversBase.InplaceObjective{Nothing,AdaptiveTransportMap.var\"#83#84\"{Storage{5,5,2},HermiteMapk{5,5,2},Array{Float64,2}},Nothing,Nothing,Nothing}, ::Array{Float64,1}, ::BFGS{LineSearches.InitialStatic{Float64},LineSearches.HagerZhang{Float64,Base.RefValue{Bool}},Nothing,Nothing,Flat}, ::Optim.Options{Float64,Nothing}; inplace::Bool, autodiff::Symbol) at /home/mat/.julia/packages/Optim/TNmSw/src/multivariate/optimize/interface.jl:116",
      " [8] optimize(::NLSolversBase.InplaceObjective{Nothing,AdaptiveTransportMap.var\"#83#84\"{Storage{5,5,2},HermiteMapk{5,5,2},Array{Float64,2}},Nothing,Nothing,Nothing}, ::Array{Float64,1}, ::BFGS{LineSearches.InitialStatic{Float64},LineSearches.HagerZhang{Float64,Base.RefValue{Bool}},Nothing,Nothing,Flat}, ::Optim.Options{Float64,Nothing}) at /home/mat/.julia/packages/Optim/TNmSw/src/multivariate/optimize/interface.jl:115 (repeats 2 times)",
      " [9] top-level scope at In[31]:1"
     ]
    }
   ],
   "source": [
    "res = Optim.optimize(negative_log_likelihood!(S, H, ens.S), coeff, Optim.BFGS())\n",
    "@time Optim.minimizer(res)"
   ]
  },
  {
   "cell_type": "code",
   "execution_count": 32,
   "metadata": {},
   "outputs": [
    {
     "ename": "ArgumentError",
     "evalue": "ArgumentError: Value and slope at step length = 0 must be finite.",
     "output_type": "error",
     "traceback": [
      "ArgumentError: Value and slope at step length = 0 must be finite.",
      "",
      "Stacktrace:",
      " [1] (::LineSearches.HagerZhang{Float64,Base.RefValue{Bool}})(::Function, ::LineSearches.var\"#ϕdϕ#6\"{Optim.ManifoldObjective{OnceDifferentiable{Float64,Array{Float64,1},Array{Float64,1}}},Array{Float64,1},Array{Float64,1},Array{Float64,1}}, ::Float64, ::Float64, ::Float64) at /home/mat/.julia/packages/LineSearches/WrsMD/src/hagerzhang.jl:117",
      " [2] HagerZhang at /home/mat/.julia/packages/LineSearches/WrsMD/src/hagerzhang.jl:101 [inlined]",
      " [3] perform_linesearch!(::Optim.BFGSState{Array{Float64,1},Array{Float64,2},Float64,Array{Float64,1}}, ::BFGS{LineSearches.InitialStatic{Float64},LineSearches.HagerZhang{Float64,Base.RefValue{Bool}},Nothing,Nothing,Flat}, ::Optim.ManifoldObjective{OnceDifferentiable{Float64,Array{Float64,1},Array{Float64,1}}}) at /home/mat/.julia/packages/Optim/TNmSw/src/utilities/perform_linesearch.jl:56",
      " [4] update_state!(::OnceDifferentiable{Float64,Array{Float64,1},Array{Float64,1}}, ::Optim.BFGSState{Array{Float64,1},Array{Float64,2},Float64,Array{Float64,1}}, ::BFGS{LineSearches.InitialStatic{Float64},LineSearches.HagerZhang{Float64,Base.RefValue{Bool}},Nothing,Nothing,Flat}) at /home/mat/.julia/packages/Optim/TNmSw/src/multivariate/solvers/first_order/bfgs.jl:110",
      " [5] optimize(::OnceDifferentiable{Float64,Array{Float64,1},Array{Float64,1}}, ::Array{Float64,1}, ::BFGS{LineSearches.InitialStatic{Float64},LineSearches.HagerZhang{Float64,Base.RefValue{Bool}},Nothing,Nothing,Flat}, ::Optim.Options{Float64,Nothing}, ::Optim.BFGSState{Array{Float64,1},Array{Float64,2},Float64,Array{Float64,1}}) at /home/mat/.julia/packages/Optim/TNmSw/src/multivariate/optimize/optimize.jl:57",
      " [6] optimize at /home/mat/.julia/packages/Optim/TNmSw/src/multivariate/optimize/optimize.jl:33 [inlined]",
      " [7] optimize(::NLSolversBase.InplaceObjective{Nothing,AdaptiveTransportMap.var\"#83#84\"{Storage{5,5,2},HermiteMapk{5,5,2},Array{Float64,2}},Nothing,Nothing,Nothing}, ::Array{Float64,1}, ::BFGS{LineSearches.InitialStatic{Float64},LineSearches.HagerZhang{Float64,Base.RefValue{Bool}},Nothing,Nothing,Flat}, ::Optim.Options{Float64,Nothing}; inplace::Bool, autodiff::Symbol) at /home/mat/.julia/packages/Optim/TNmSw/src/multivariate/optimize/interface.jl:116",
      " [8] optimize(::NLSolversBase.InplaceObjective{Nothing,AdaptiveTransportMap.var\"#83#84\"{Storage{5,5,2},HermiteMapk{5,5,2},Array{Float64,2}},Nothing,Nothing,Nothing}, ::Array{Float64,1}, ::BFGS{LineSearches.InitialStatic{Float64},LineSearches.HagerZhang{Float64,Base.RefValue{Bool}},Nothing,Nothing,Flat}, ::Optim.Options{Float64,Nothing}) at /home/mat/.julia/packages/Optim/TNmSw/src/multivariate/optimize/interface.jl:115 (repeats 2 times)",
      " [9] top-level scope at In[32]:1"
     ]
    }
   ],
   "source": [
    "res = Optim.optimize(Optim.only_fg!(negative_log_likelihood!(S, H, ens.S)), coeff, Optim.BFGS())\n",
    "@time Optim.minimizer(res)"
   ]
  },
  {
   "cell_type": "code",
   "execution_count": null,
   "metadata": {},
   "outputs": [],
   "source": []
  }
 ],
 "metadata": {
  "kernelspec": {
   "display_name": "Julia 1.4.0",
   "language": "julia",
   "name": "julia-1.4"
  },
  "language_info": {
   "file_extension": ".jl",
   "mimetype": "application/julia",
   "name": "julia",
   "version": "1.4.0"
  }
 },
 "nbformat": 4,
 "nbformat_minor": 2
}
