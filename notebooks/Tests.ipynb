{
 "cells": [
  {
   "cell_type": "code",
   "execution_count": 1,
   "metadata": {},
   "outputs": [
    {
     "name": "stderr",
     "output_type": "stream",
     "text": [
      "\u001b[32m\u001b[1m Activating\u001b[22m\u001b[39m environment at `/media/mat/HDD/AdaptiveTransportMap/Project.toml`\n"
     ]
    }
   ],
   "source": [
    "using Pkg\n",
    "Pkg.activate(\"/media/mat/HDD/AdaptiveTransportMap/\")"
   ]
  },
  {
   "cell_type": "code",
   "execution_count": 2,
   "metadata": {},
   "outputs": [
    {
     "name": "stderr",
     "output_type": "stream",
     "text": [
      "WARNING: using Optim.optimize in module Main conflicts with an existing identifier.\n",
      "WARNING: using Polynomials.derivative in module Main conflicts with an existing identifier.\n",
      "WARNING: using Polynomials.vander in module Main conflicts with an existing identifier.\n"
     ]
    }
   ],
   "source": [
    "using Revise\n",
    "using AdaptiveTransportMap\n",
    "using LinearAlgebra\n",
    "import LinearAlgebra: ldiv!, dot\n",
    "using Test\n",
    "using ForwardDiff\n",
    "using SpecialFunctions\n",
    "using BenchmarkTools\n",
    "using TransportMap\n",
    "using QuadGK\n",
    "using AdaptiveTransportMap: derivative, vander, transform!, evaluate, ncoeff, optimize\n",
    "using DiffResults\n",
    "using Distributions\n",
    "using Random\n",
    "using LoopVectorization\n",
    "using Optim\n",
    "using NLsolve\n",
    "using Polynomials\n",
    "using Optim: InverseDiagonal\n",
    "using MLDataUtils\n",
    "using Test"
   ]
  },
  {
   "cell_type": "code",
   "execution_count": null,
   "metadata": {},
   "outputs": [],
   "source": []
  },
  {
   "cell_type": "markdown",
   "metadata": {},
   "source": [
    "### Expanded function"
   ]
  },
  {
   "cell_type": "code",
   "execution_count": 231,
   "metadata": {},
   "outputs": [
    {
     "data": {
      "text/plain": [
       "8×3 Adjoint{Float64,Array{Float64,2}}:\n",
       " -0.899679   0.149212  -0.203239\n",
       " -1.20342   -0.196523  -0.484925\n",
       " -1.03261   -1.04501    0.367875\n",
       " -0.343662   0.424117   0.720608\n",
       "  0.32033    0.345181   0.739602\n",
       "  1.0377    -1.029     -0.610308\n",
       "  0.36607    2.42988   -0.0927185\n",
       " -1.15715    0.803241   1.71867"
      ]
     },
     "execution_count": 231,
     "metadata": {},
     "output_type": "execute_result"
    }
   ],
   "source": [
    "Nx = 3\n",
    "Ne = 8\n",
    "X = randn(Nx, Ne)'"
   ]
  },
  {
   "cell_type": "code",
   "execution_count": 269,
   "metadata": {},
   "outputs": [],
   "source": [
    "Nx = 3\n",
    "Ne = 8\n",
    "\n",
    "X = Matrix([-0.899679   0.149212  -0.203239;\n",
    "     -1.20342   -0.196523  -0.484925;\n",
    "     -1.03261   -1.04501    0.367875;\n",
    "     -0.343662   0.424117   0.720608;\n",
    "      0.32033    0.345181   0.739602;\n",
    "      1.0377    -1.029     -0.610308;\n",
    "      0.36607    2.42988   -0.0927185;\n",
    "     -1.15715    0.803241   1.71867]')\n",
    "\n",
    "# X = randn(Nx, Ne)\n",
    "\n",
    "B = MultiBasis(CstProHermite(3; scaled =true), Nx)\n",
    "\n",
    "idx = [0 0 0; 0 0 1; 0 1 0; 0 1 1; 0 1 2; 1 0 0]\n",
    "Nψ = size(idx,1)\n",
    "coeff =  randn(Nψ)\n",
    "\n",
    "f = ExpandedFunction(B, idx, coeff)\n",
    "\n",
    "out = zeros(Ne, Nψ);"
   ]
  },
  {
   "cell_type": "code",
   "execution_count": 270,
   "metadata": {},
   "outputs": [
    {
     "name": "stdout",
     "output_type": "stream",
     "text": [
      "  354.810 ns (13 allocations: 1.14 KiB)\n"
     ]
    },
    {
     "data": {
      "text/plain": [
       "8×6 Array{Float64,2}:\n",
       " 1.0  0.62513   0.628113  0.392652   -0.0798022  0.515909\n",
       " 1.0  0.595558  0.62555   0.372551   -0.180659   0.439761\n",
       " 1.0  0.610607  0.480715  0.293528    0.107982   0.483821\n",
       " 1.0  0.554722  0.603845  0.334966    0.241379   0.613242\n",
       " 1.0  0.550889  0.613082  0.33774     0.249793   0.615622\n",
       " 1.0  0.575458  0.484722  0.278937   -0.170238   0.482548\n",
       " 1.0  0.630263  0.144345  0.0909753  -0.0084351  0.610809\n",
       " 1.0  0.30182   0.537531  0.162237    0.278833   0.451934"
      ]
     },
     "execution_count": 270,
     "metadata": {},
     "output_type": "execute_result"
    }
   ],
   "source": [
    "@btime evaluate_basis!($out, $f, $X)"
   ]
  },
  {
   "cell_type": "code",
   "execution_count": 260,
   "metadata": {},
   "outputs": [
    {
     "data": {
      "text/plain": [
       "8×6 Array{Float64,2}:\n",
       " 1.0  0.62513   0.628113  0.392652   -0.0798022  0.515909\n",
       " 1.0  0.595558  0.62555   0.372551   -0.180659   0.439761\n",
       " 1.0  0.610607  0.480715  0.293528    0.107982   0.483821\n",
       " 1.0  0.554722  0.603845  0.334966    0.241379   0.613242\n",
       " 1.0  0.550889  0.613082  0.33774     0.249793   0.615622\n",
       " 1.0  0.575458  0.484722  0.278937   -0.170238   0.482548\n",
       " 1.0  0.630263  0.144345  0.0909753  -0.0084351  0.610809\n",
       " 1.0  0.30182   0.537531  0.162237    0.278833   0.451934"
      ]
     },
     "execution_count": 260,
     "metadata": {},
     "output_type": "execute_result"
    }
   ],
   "source": [
    "evaluate_basis!(out, f, X)"
   ]
  },
  {
   "cell_type": "code",
   "execution_count": 261,
   "metadata": {},
   "outputs": [
    {
     "name": "stdout",
     "output_type": "stream",
     "text": [
      "  357.426 ns (13 allocations: 1.14 KiB)\n"
     ]
    },
    {
     "data": {
      "text/plain": [
       "8×6 Array{Float64,2}:\n",
       " 1.0  0.62513   0.628113  0.392652   -0.0798022  0.515909\n",
       " 1.0  0.595558  0.62555   0.372551   -0.180659   0.439761\n",
       " 1.0  0.610607  0.480715  0.293528    0.107982   0.483821\n",
       " 1.0  0.554722  0.603845  0.334966    0.241379   0.613242\n",
       " 1.0  0.550889  0.613082  0.33774     0.249793   0.615622\n",
       " 1.0  0.575458  0.484722  0.278937   -0.170238   0.482548\n",
       " 1.0  0.630263  0.144345  0.0909753  -0.0084351  0.610809\n",
       " 1.0  0.30182   0.537531  0.162237    0.278833   0.451934"
      ]
     },
     "execution_count": 261,
     "metadata": {},
     "output_type": "execute_result"
    }
   ],
   "source": [
    "@btime evaluate_basis!($out, $f, $X)"
   ]
  },
  {
   "cell_type": "code",
   "execution_count": 255,
   "metadata": {},
   "outputs": [
    {
     "name": "stdout",
     "output_type": "stream",
     "text": [
      "  443.899 ns (12 allocations: 1.14 KiB)\n"
     ]
    },
    {
     "data": {
      "text/plain": [
       "8×6 Array{Float64,2}:\n",
       " 1.0  0.62513   0.628113  0.392652   -0.0798022  0.515909\n",
       " 1.0  0.595558  0.62555   0.372551   -0.180659   0.439761\n",
       " 1.0  0.610607  0.480715  0.293528    0.107982   0.483821\n",
       " 1.0  0.554722  0.603845  0.334966    0.241379   0.613242\n",
       " 1.0  0.550889  0.613082  0.33774     0.249793   0.615622\n",
       " 1.0  0.575458  0.484722  0.278937   -0.170238   0.482548\n",
       " 1.0  0.630263  0.144345  0.0909753  -0.0084351  0.610809\n",
       " 1.0  0.30182   0.537531  0.162237    0.278833   0.451934"
      ]
     },
     "execution_count": 255,
     "metadata": {},
     "output_type": "execute_result"
    }
   ],
   "source": [
    "@btime evaluate_basis!($out, $f, $X)"
   ]
  },
  {
   "cell_type": "code",
   "execution_count": null,
   "metadata": {},
   "outputs": [],
   "source": []
  },
  {
   "cell_type": "code",
   "execution_count": null,
   "metadata": {},
   "outputs": [],
   "source": []
  },
  {
   "cell_type": "code",
   "execution_count": 250,
   "metadata": {},
   "outputs": [
    {
     "name": "stdout",
     "output_type": "stream",
     "text": [
      "  428.472 ns (12 allocations: 1.14 KiB)\n"
     ]
    },
    {
     "data": {
      "text/plain": [
       "8×6 Array{Float64,2}:\n",
       " 1.0  0.62513   0.628113  0.392652   -0.0798022  0.515909\n",
       " 1.0  0.595558  0.62555   0.372551   -0.180659   0.439761\n",
       " 1.0  0.610607  0.480715  0.293528    0.107982   0.483821\n",
       " 1.0  0.554722  0.603845  0.334966    0.241379   0.613242\n",
       " 1.0  0.550889  0.613082  0.33774     0.249793   0.615622\n",
       " 1.0  0.575458  0.484722  0.278937   -0.170238   0.482548\n",
       " 1.0  0.630263  0.144345  0.0909753  -0.0084351  0.610809\n",
       " 1.0  0.30182   0.537531  0.162237    0.278833   0.451934"
      ]
     },
     "execution_count": 250,
     "metadata": {},
     "output_type": "execute_result"
    }
   ],
   "source": [
    "@btime evaluate_basis!($out, $f, $X)"
   ]
  },
  {
   "cell_type": "code",
   "execution_count": 239,
   "metadata": {},
   "outputs": [
    {
     "name": "stdout",
     "output_type": "stream",
     "text": [
      "  718.075 ns (30 allocations: 2.27 KiB)\n"
     ]
    },
    {
     "data": {
      "text/plain": [
       "8×6 Array{Float64,2}:\n",
       " 1.0  0.62513   0.628113  0.392652   -0.0798022  0.515909\n",
       " 1.0  0.595558  0.62555   0.372551   -0.180659   0.439761\n",
       " 1.0  0.610607  0.480715  0.293528    0.107982   0.483821\n",
       " 1.0  0.554722  0.603845  0.334966    0.241379   0.613242\n",
       " 1.0  0.550889  0.613082  0.33774     0.249793   0.615622\n",
       " 1.0  0.575458  0.484722  0.278937   -0.170238   0.482548\n",
       " 1.0  0.630263  0.144345  0.0909753  -0.0084351  0.610809\n",
       " 1.0  0.30182   0.537531  0.162237    0.278833   0.451934"
      ]
     },
     "execution_count": 239,
     "metadata": {},
     "output_type": "execute_result"
    }
   ],
   "source": [
    "@btime evaluate_basis!($out, $f, $X)"
   ]
  },
  {
   "cell_type": "markdown",
   "metadata": {},
   "source": [
    "### HermiteMap"
   ]
  },
  {
   "cell_type": "code",
   "execution_count": 5,
   "metadata": {},
   "outputs": [],
   "source": [
    "Nx = 20\n",
    "Ne = 300\n",
    "m = 10\n",
    "X = randn(Nx, Ne) .* randn(Nx, Ne) .+ rand(Nx);\n",
    "X0 = deepcopy(X);"
   ]
  },
  {
   "cell_type": "code",
   "execution_count": 6,
   "metadata": {},
   "outputs": [],
   "source": [
    "M = HermiteMap(m, X);"
   ]
  },
  {
   "cell_type": "code",
   "execution_count": 17,
   "metadata": {},
   "outputs": [
    {
     "name": "stdout",
     "output_type": "stream",
     "text": [
      "  0.615993 seconds (802.12 k allocations: 1.099 GiB, 9.78% gc time)\n"
     ]
    },
    {
     "data": {
      "text/plain": [
       "HermiteMap{10,20}(LinearTransform{20}([0.6452092755517298, 0.29687711276696244, 0.39792962261682446, 0.824283500094227, 0.6267945193911748, 0.6195809567042947, 0.7044328792803208, 0.19118372451754287, 0.7871523156004712, 0.8123027298275515, 0.1510945003928109, 0.10678934898743966, 0.826491259982191, 0.8039182921154494, 0.7814270666852019, 0.06773523022746741, 0.5233071202573701, 0.1842018773240075, 0.9889928883178202, -0.0020739482347915724], [0.9592727274191106 0.0 … 0.0 0.0; 0.0 1.0325551270246631 … 0.0 0.0; … ; 0.0 0.0 … 0.9094289075684655 0.0; 0.0 0.0 … 0.0 1.0193808884831794], true), HermiteMapk[HermiteMapk{10,6,1}(IntegratedFunction{10,6,1}(Rectifier(\"softplus\"), ParametricFunction{10,6,1}(ExpandedFunction{10,6,1}(MultiBasis{10,1}(Basis of 10 functions:\n",
       "ProPolyHermite{0}(ImmutablePolynomial(1.0), false)\n",
       "ProHermite{0}(ProPolyHermite{0}(ImmutablePolynomial(0.6316187777460647), true), true)\n",
       "ProHermite{1}(ProPolyHermite{1}(ImmutablePolynomial(0.6316187777460647*x), true), true)\n",
       "ProHermite{2}(ProPolyHermite{2}(ImmutablePolynomial(-0.44662192086900115 + 0.44662192086900115*x^2), true), true)\n",
       "ProHermite{3}(ProPolyHermite{3}(ImmutablePolynomial(-0.7735718587191167*x + 0.25785728623970555*x^3), true), true)\n",
       "ProHermite{4}(ProPolyHermite{4}(ImmutablePolynomial(0.38678592935955836 - 0.7735718587191167*x^2 + 0.12892864311985278*x^4), true), true)\n",
       "ProHermite{5}(ProPolyHermite{5}(ImmutablePolynomial(0.8648796307884041*x - 0.5765864205256028*x^3 + 0.05765864205256028*x^5), true), true)\n",
       "ProHermite{6}(ProPolyHermite{6}(ImmutablePolynomial(-0.353085630726383 + 1.059256892179149*x^2 - 0.353085630726383*x^4 + 0.023539042048425534*x^6), true), true)\n",
       "ProHermite{7}(ProPolyHermite{7}(ImmutablePolynomial(-0.9341767704123958*x + 0.9341767704123958*x^3 - 0.18683535408247914*x^5 + 0.008896921622975198*x^7), true), true)\n",
       "ProHermite{8}(ProPolyHermite{8}(ImmutablePolynomial(0.3302813645927768 - 1.3211254583711072*x^2 + 0.6605627291855536*x^4 - 0.08807503055807382*x^6 + 0.0031455368056454935*x^8), true), true)\n",
       "), [0; 1; … ; 4; 5], [5.191666011573723, -9.83177520475752, -1.9687436753461964, -7.979050524153792, -1.2433614713162588, -2.3892708336764072]))), 1.0e-6), HermiteMapk{10,6,2}(IntegratedFunction{10,6,2}(Rectifier(\"softplus\"), ParametricFunction{10,6,2}(ExpandedFunction{10,6,2}(MultiBasis{10,2}(Basis of 10 functions:\n",
       "ProPolyHermite{0}(ImmutablePolynomial(1.0), false)\n",
       "ProHermite{0}(ProPolyHermite{0}(ImmutablePolynomial(0.6316187777460647), true), true)\n",
       "ProHermite{1}(ProPolyHermite{1}(ImmutablePolynomial(0.6316187777460647*x), true), true)\n",
       "ProHermite{2}(ProPolyHermite{2}(ImmutablePolynomial(-0.44662192086900115 + 0.44662192086900115*x^2), true), true)\n",
       "ProHermite{3}(ProPolyHermite{3}(ImmutablePolynomial(-0.7735718587191167*x + 0.25785728623970555*x^3), true), true)\n",
       "ProHermite{4}(ProPolyHermite{4}(ImmutablePolynomial(0.38678592935955836 - 0.7735718587191167*x^2 + 0.12892864311985278*x^4), true), true)\n",
       "ProHermite{5}(ProPolyHermite{5}(ImmutablePolynomial(0.8648796307884041*x - 0.5765864205256028*x^3 + 0.05765864205256028*x^5), true), true)\n",
       "ProHermite{6}(ProPolyHermite{6}(ImmutablePolynomial(-0.353085630726383 + 1.059256892179149*x^2 - 0.353085630726383*x^4 + 0.023539042048425534*x^6), true), true)\n",
       "ProHermite{7}(ProPolyHermite{7}(ImmutablePolynomial(-0.9341767704123958*x + 0.9341767704123958*x^3 - 0.18683535408247914*x^5 + 0.008896921622975198*x^7), true), true)\n",
       "ProHermite{8}(ProPolyHermite{8}(ImmutablePolynomial(0.3302813645927768 - 1.3211254583711072*x^2 + 0.6605627291855536*x^4 - 0.08807503055807382*x^6 + 0.0031455368056454935*x^8), true), true)\n",
       "), [0 0; 0 1; … ; 0 4; 0 5], [-0.14992695335125003, 0.49233965687199793, -0.8824024177961142, -1.591403993631314, -1.851042404975988, 0.5323128182623399]))), 1.0e-6), HermiteMapk{10,6,3}(IntegratedFunction{10,6,3}(Rectifier(\"softplus\"), ParametricFunction{10,6,3}(ExpandedFunction{10,6,3}(MultiBasis{10,3}(Basis of 10 functions:\n",
       "ProPolyHermite{0}(ImmutablePolynomial(1.0), false)\n",
       "ProHermite{0}(ProPolyHermite{0}(ImmutablePolynomial(0.6316187777460647), true), true)\n",
       "ProHermite{1}(ProPolyHermite{1}(ImmutablePolynomial(0.6316187777460647*x), true), true)\n",
       "ProHermite{2}(ProPolyHermite{2}(ImmutablePolynomial(-0.44662192086900115 + 0.44662192086900115*x^2), true), true)\n",
       "ProHermite{3}(ProPolyHermite{3}(ImmutablePolynomial(-0.7735718587191167*x + 0.25785728623970555*x^3), true), true)\n",
       "ProHermite{4}(ProPolyHermite{4}(ImmutablePolynomial(0.38678592935955836 - 0.7735718587191167*x^2 + 0.12892864311985278*x^4), true), true)\n",
       "ProHermite{5}(ProPolyHermite{5}(ImmutablePolynomial(0.8648796307884041*x - 0.5765864205256028*x^3 + 0.05765864205256028*x^5), true), true)\n",
       "ProHermite{6}(ProPolyHermite{6}(ImmutablePolynomial(-0.353085630726383 + 1.059256892179149*x^2 - 0.353085630726383*x^4 + 0.023539042048425534*x^6), true), true)\n",
       "ProHermite{7}(ProPolyHermite{7}(ImmutablePolynomial(-0.9341767704123958*x + 0.9341767704123958*x^3 - 0.18683535408247914*x^5 + 0.008896921622975198*x^7), true), true)\n",
       "ProHermite{8}(ProPolyHermite{8}(ImmutablePolynomial(0.3302813645927768 - 1.3211254583711072*x^2 + 0.6605627291855536*x^4 - 0.08807503055807382*x^6 + 0.0031455368056454935*x^8), true), true)\n",
       "), [0 0 0; 0 0 1; … ; 0 0 4; 1 0 0], [1.7503358649774907, -3.218010107844642, -1.180966941411565, -2.7076487498933584, -0.8225902703647886, 0.34946920250370606]))), 1.0e-6), HermiteMapk{10,6,4}(IntegratedFunction{10,6,4}(Rectifier(\"softplus\"), ParametricFunction{10,6,4}(ExpandedFunction{10,6,4}(MultiBasis{10,4}(Basis of 10 functions:\n",
       "ProPolyHermite{0}(ImmutablePolynomial(1.0), false)\n",
       "ProHermite{0}(ProPolyHermite{0}(ImmutablePolynomial(0.6316187777460647), true), true)\n",
       "ProHermite{1}(ProPolyHermite{1}(ImmutablePolynomial(0.6316187777460647*x), true), true)\n",
       "ProHermite{2}(ProPolyHermite{2}(ImmutablePolynomial(-0.44662192086900115 + 0.44662192086900115*x^2), true), true)\n",
       "ProHermite{3}(ProPolyHermite{3}(ImmutablePolynomial(-0.7735718587191167*x + 0.25785728623970555*x^3), true), true)\n",
       "ProHermite{4}(ProPolyHermite{4}(ImmutablePolynomial(0.38678592935955836 - 0.7735718587191167*x^2 + 0.12892864311985278*x^4), true), true)\n",
       "ProHermite{5}(ProPolyHermite{5}(ImmutablePolynomial(0.8648796307884041*x - 0.5765864205256028*x^3 + 0.05765864205256028*x^5), true), true)\n",
       "ProHermite{6}(ProPolyHermite{6}(ImmutablePolynomial(-0.353085630726383 + 1.059256892179149*x^2 - 0.353085630726383*x^4 + 0.023539042048425534*x^6), true), true)\n",
       "ProHermite{7}(ProPolyHermite{7}(ImmutablePolynomial(-0.9341767704123958*x + 0.9341767704123958*x^3 - 0.18683535408247914*x^5 + 0.008896921622975198*x^7), true), true)\n",
       "ProHermite{8}(ProPolyHermite{8}(ImmutablePolynomial(0.3302813645927768 - 1.3211254583711072*x^2 + 0.6605627291855536*x^4 - 0.08807503055807382*x^6 + 0.0031455368056454935*x^8), true), true)\n",
       "), [0 0 0 0; 0 0 0 1; … ; 2 0 0 0; 0 0 2 0], [-0.1545572523738746, 3.7642723028772243, -1.023901958860778, 0.5732642919365878, 0.2250877473748317, -0.12528828699933311]))), 1.0e-6), HermiteMapk{10,6,5}(IntegratedFunction{10,6,5}(Rectifier(\"softplus\"), ParametricFunction{10,6,5}(ExpandedFunction{10,6,5}(MultiBasis{10,5}(Basis of 10 functions:\n",
       "ProPolyHermite{0}(ImmutablePolynomial(1.0), false)\n",
       "ProHermite{0}(ProPolyHermite{0}(ImmutablePolynomial(0.6316187777460647), true), true)\n",
       "ProHermite{1}(ProPolyHermite{1}(ImmutablePolynomial(0.6316187777460647*x), true), true)\n",
       "ProHermite{2}(ProPolyHermite{2}(ImmutablePolynomial(-0.44662192086900115 + 0.44662192086900115*x^2), true), true)\n",
       "ProHermite{3}(ProPolyHermite{3}(ImmutablePolynomial(-0.7735718587191167*x + 0.25785728623970555*x^3), true), true)\n",
       "ProHermite{4}(ProPolyHermite{4}(ImmutablePolynomial(0.38678592935955836 - 0.7735718587191167*x^2 + 0.12892864311985278*x^4), true), true)\n",
       "ProHermite{5}(ProPolyHermite{5}(ImmutablePolynomial(0.8648796307884041*x - 0.5765864205256028*x^3 + 0.05765864205256028*x^5), true), true)\n",
       "ProHermite{6}(ProPolyHermite{6}(ImmutablePolynomial(-0.353085630726383 + 1.059256892179149*x^2 - 0.353085630726383*x^4 + 0.023539042048425534*x^6), true), true)\n",
       "ProHermite{7}(ProPolyHermite{7}(ImmutablePolynomial(-0.9341767704123958*x + 0.9341767704123958*x^3 - 0.18683535408247914*x^5 + 0.008896921622975198*x^7), true), true)\n",
       "ProHermite{8}(ProPolyHermite{8}(ImmutablePolynomial(0.3302813645927768 - 1.3211254583711072*x^2 + 0.6605627291855536*x^4 - 0.08807503055807382*x^6 + 0.0031455368056454935*x^8), true), true)\n",
       "), [0 0 … 0 0; 0 1 … 0 0; … ; 0 0 … 0 3; 0 0 … 0 4], [3.4169565254142498, 0.022757002129651982, -4.297516604196523, 0.6140598188368032, -1.909523998826134, 1.4144259760179334]))), 1.0e-6), HermiteMapk{10,6,6}(IntegratedFunction{10,6,6}(Rectifier(\"softplus\"), ParametricFunction{10,6,6}(ExpandedFunction{10,6,6}(MultiBasis{10,6}(Basis of 10 functions:\n",
       "ProPolyHermite{0}(ImmutablePolynomial(1.0), false)\n",
       "ProHermite{0}(ProPolyHermite{0}(ImmutablePolynomial(0.6316187777460647), true), true)\n",
       "ProHermite{1}(ProPolyHermite{1}(ImmutablePolynomial(0.6316187777460647*x), true), true)\n",
       "ProHermite{2}(ProPolyHermite{2}(ImmutablePolynomial(-0.44662192086900115 + 0.44662192086900115*x^2), true), true)\n",
       "ProHermite{3}(ProPolyHermite{3}(ImmutablePolynomial(-0.7735718587191167*x + 0.25785728623970555*x^3), true), true)\n",
       "ProHermite{4}(ProPolyHermite{4}(ImmutablePolynomial(0.38678592935955836 - 0.7735718587191167*x^2 + 0.12892864311985278*x^4), true), true)\n",
       "ProHermite{5}(ProPolyHermite{5}(ImmutablePolynomial(0.8648796307884041*x - 0.5765864205256028*x^3 + 0.05765864205256028*x^5), true), true)\n",
       "ProHermite{6}(ProPolyHermite{6}(ImmutablePolynomial(-0.353085630726383 + 1.059256892179149*x^2 - 0.353085630726383*x^4 + 0.023539042048425534*x^6), true), true)\n",
       "ProHermite{7}(ProPolyHermite{7}(ImmutablePolynomial(-0.9341767704123958*x + 0.9341767704123958*x^3 - 0.18683535408247914*x^5 + 0.008896921622975198*x^7), true), true)\n",
       "ProHermite{8}(ProPolyHermite{8}(ImmutablePolynomial(0.3302813645927768 - 1.3211254583711072*x^2 + 0.6605627291855536*x^4 - 0.08807503055807382*x^6 + 0.0031455368056454935*x^8), true), true)\n",
       "), [0 0 … 0 0; 0 0 … 0 1; … ; 0 0 … 0 0; 1 0 … 0 0], [0.014205977570005903, 2.2006011881807046, 0.6872434580926537, 0.4136082455494244, -0.6872930004730043, 0.2597374464361245]))), 1.0e-6), HermiteMapk{10,6,7}(IntegratedFunction{10,6,7}(Rectifier(\"softplus\"), ParametricFunction{10,6,7}(ExpandedFunction{10,6,7}(MultiBasis{10,7}(Basis of 10 functions:\n",
       "ProPolyHermite{0}(ImmutablePolynomial(1.0), false)\n",
       "ProHermite{0}(ProPolyHermite{0}(ImmutablePolynomial(0.6316187777460647), true), true)\n",
       "ProHermite{1}(ProPolyHermite{1}(ImmutablePolynomial(0.6316187777460647*x), true), true)\n",
       "ProHermite{2}(ProPolyHermite{2}(ImmutablePolynomial(-0.44662192086900115 + 0.44662192086900115*x^2), true), true)\n",
       "ProHermite{3}(ProPolyHermite{3}(ImmutablePolynomial(-0.7735718587191167*x + 0.25785728623970555*x^3), true), true)\n",
       "ProHermite{4}(ProPolyHermite{4}(ImmutablePolynomial(0.38678592935955836 - 0.7735718587191167*x^2 + 0.12892864311985278*x^4), true), true)\n",
       "ProHermite{5}(ProPolyHermite{5}(ImmutablePolynomial(0.8648796307884041*x - 0.5765864205256028*x^3 + 0.05765864205256028*x^5), true), true)\n",
       "ProHermite{6}(ProPolyHermite{6}(ImmutablePolynomial(-0.353085630726383 + 1.059256892179149*x^2 - 0.353085630726383*x^4 + 0.023539042048425534*x^6), true), true)\n",
       "ProHermite{7}(ProPolyHermite{7}(ImmutablePolynomial(-0.9341767704123958*x + 0.9341767704123958*x^3 - 0.18683535408247914*x^5 + 0.008896921622975198*x^7), true), true)\n",
       "ProHermite{8}(ProPolyHermite{8}(ImmutablePolynomial(0.3302813645927768 - 1.3211254583711072*x^2 + 0.6605627291855536*x^4 - 0.08807503055807382*x^6 + 0.0031455368056454935*x^8), true), true)\n",
       "), [0 0 … 0 0; 0 1 … 0 0; … ; 0 0 … 0 3; 0 2 … 0 0], [1.5811528371277597, 0.43065841217719, -1.9778390724024815, -2.5354145211410555, -2.008080022986201, -0.321712576261728]))), 1.0e-6), HermiteMapk{10,6,8}(IntegratedFunction{10,6,8}(Rectifier(\"softplus\"), ParametricFunction{10,6,8}(ExpandedFunction{10,6,8}(MultiBasis{10,8}(Basis of 10 functions:\n",
       "ProPolyHermite{0}(ImmutablePolynomial(1.0), false)\n",
       "ProHermite{0}(ProPolyHermite{0}(ImmutablePolynomial(0.6316187777460647), true), true)\n",
       "ProHermite{1}(ProPolyHermite{1}(ImmutablePolynomial(0.6316187777460647*x), true), true)\n",
       "ProHermite{2}(ProPolyHermite{2}(ImmutablePolynomial(-0.44662192086900115 + 0.44662192086900115*x^2), true), true)\n",
       "ProHermite{3}(ProPolyHermite{3}(ImmutablePolynomial(-0.7735718587191167*x + 0.25785728623970555*x^3), true), true)\n",
       "ProHermite{4}(ProPolyHermite{4}(ImmutablePolynomial(0.38678592935955836 - 0.7735718587191167*x^2 + 0.12892864311985278*x^4), true), true)\n",
       "ProHermite{5}(ProPolyHermite{5}(ImmutablePolynomial(0.8648796307884041*x - 0.5765864205256028*x^3 + 0.05765864205256028*x^5), true), true)\n",
       "ProHermite{6}(ProPolyHermite{6}(ImmutablePolynomial(-0.353085630726383 + 1.059256892179149*x^2 - 0.353085630726383*x^4 + 0.023539042048425534*x^6), true), true)\n",
       "ProHermite{7}(ProPolyHermite{7}(ImmutablePolynomial(-0.9341767704123958*x + 0.9341767704123958*x^3 - 0.18683535408247914*x^5 + 0.008896921622975198*x^7), true), true)\n",
       "ProHermite{8}(ProPolyHermite{8}(ImmutablePolynomial(0.3302813645927768 - 1.3211254583711072*x^2 + 0.6605627291855536*x^4 - 0.08807503055807382*x^6 + 0.0031455368056454935*x^8), true), true)\n",
       "), [0 0 … 0 0; 0 0 … 0 1; … ; 0 0 … 0 4; 0 0 … 0 0], [1.4488759066859462, -2.2292127430615682, -0.4854810876609156, -1.9911350385220643, -2.0951063640750753, -0.7723027798809551]))), 1.0e-6), HermiteMapk{10,6,9}(IntegratedFunction{10,6,9}(Rectifier(\"softplus\"), ParametricFunction{10,6,9}(ExpandedFunction{10,6,9}(MultiBasis{10,9}(Basis of 10 functions:\n",
       "ProPolyHermite{0}(ImmutablePolynomial(1.0), false)\n",
       "ProHermite{0}(ProPolyHermite{0}(ImmutablePolynomial(0.6316187777460647), true), true)\n",
       "ProHermite{1}(ProPolyHermite{1}(ImmutablePolynomial(0.6316187777460647*x), true), true)\n",
       "ProHermite{2}(ProPolyHermite{2}(ImmutablePolynomial(-0.44662192086900115 + 0.44662192086900115*x^2), true), true)\n",
       "ProHermite{3}(ProPolyHermite{3}(ImmutablePolynomial(-0.7735718587191167*x + 0.25785728623970555*x^3), true), true)\n",
       "ProHermite{4}(ProPolyHermite{4}(ImmutablePolynomial(0.38678592935955836 - 0.7735718587191167*x^2 + 0.12892864311985278*x^4), true), true)\n",
       "ProHermite{5}(ProPolyHermite{5}(ImmutablePolynomial(0.8648796307884041*x - 0.5765864205256028*x^3 + 0.05765864205256028*x^5), true), true)\n",
       "ProHermite{6}(ProPolyHermite{6}(ImmutablePolynomial(-0.353085630726383 + 1.059256892179149*x^2 - 0.353085630726383*x^4 + 0.023539042048425534*x^6), true), true)\n",
       "ProHermite{7}(ProPolyHermite{7}(ImmutablePolynomial(-0.9341767704123958*x + 0.9341767704123958*x^3 - 0.18683535408247914*x^5 + 0.008896921622975198*x^7), true), true)\n",
       "ProHermite{8}(ProPolyHermite{8}(ImmutablePolynomial(0.3302813645927768 - 1.3211254583711072*x^2 + 0.6605627291855536*x^4 - 0.08807503055807382*x^6 + 0.0031455368056454935*x^8), true), true)\n",
       "), [0 0 … 0 0; 0 0 … 0 1; … ; 0 0 … 2 0; 0 0 … 0 2], [-0.4191597498843342, 3.9458806923309573, 0.7293304190748935, -0.9226090438077473, 0.26990337527048985, -0.42835223017566704]))), 1.0e-6), HermiteMapk{10,6,10}(IntegratedFunction{10,6,10}(Rectifier(\"softplus\"), ParametricFunction{10,6,10}(ExpandedFunction{10,6,10}(MultiBasis{10,10}(Basis of 10 functions:\n",
       "ProPolyHermite{0}(ImmutablePolynomial(1.0), false)\n",
       "ProHermite{0}(ProPolyHermite{0}(ImmutablePolynomial(0.6316187777460647), true), true)\n",
       "ProHermite{1}(ProPolyHermite{1}(ImmutablePolynomial(0.6316187777460647*x), true), true)\n",
       "ProHermite{2}(ProPolyHermite{2}(ImmutablePolynomial(-0.44662192086900115 + 0.44662192086900115*x^2), true), true)\n",
       "ProHermite{3}(ProPolyHermite{3}(ImmutablePolynomial(-0.7735718587191167*x + 0.25785728623970555*x^3), true), true)\n",
       "ProHermite{4}(ProPolyHermite{4}(ImmutablePolynomial(0.38678592935955836 - 0.7735718587191167*x^2 + 0.12892864311985278*x^4), true), true)\n",
       "ProHermite{5}(ProPolyHermite{5}(ImmutablePolynomial(0.8648796307884041*x - 0.5765864205256028*x^3 + 0.05765864205256028*x^5), true), true)\n",
       "ProHermite{6}(ProPolyHermite{6}(ImmutablePolynomial(-0.353085630726383 + 1.059256892179149*x^2 - 0.353085630726383*x^4 + 0.023539042048425534*x^6), true), true)\n",
       "ProHermite{7}(ProPolyHermite{7}(ImmutablePolynomial(-0.9341767704123958*x + 0.9341767704123958*x^3 - 0.18683535408247914*x^5 + 0.008896921622975198*x^7), true), true)\n",
       "ProHermite{8}(ProPolyHermite{8}(ImmutablePolynomial(0.3302813645927768 - 1.3211254583711072*x^2 + 0.6605627291855536*x^4 - 0.08807503055807382*x^6 + 0.0031455368056454935*x^8), true), true)\n",
       "), [0 0 … 0 0; 0 0 … 0 0; … ; 0 0 … 0 0; 0 0 … 0 2], [1.4676251173314894, -0.8530303963025576, 2.012506020198458, -0.8900069037189031, 0.33124097279237746, -0.3273362744227507]))), 1.0e-6), HermiteMapk{10,6,11}(IntegratedFunction{10,6,11}(Rectifier(\"softplus\"), ParametricFunction{10,6,11}(ExpandedFunction{10,6,11}(MultiBasis{10,11}(Basis of 10 functions:\n",
       "ProPolyHermite{0}(ImmutablePolynomial(1.0), false)\n",
       "ProHermite{0}(ProPolyHermite{0}(ImmutablePolynomial(0.6316187777460647), true), true)\n",
       "ProHermite{1}(ProPolyHermite{1}(ImmutablePolynomial(0.6316187777460647*x), true), true)\n",
       "ProHermite{2}(ProPolyHermite{2}(ImmutablePolynomial(-0.44662192086900115 + 0.44662192086900115*x^2), true), true)\n",
       "ProHermite{3}(ProPolyHermite{3}(ImmutablePolynomial(-0.7735718587191167*x + 0.25785728623970555*x^3), true), true)\n",
       "ProHermite{4}(ProPolyHermite{4}(ImmutablePolynomial(0.38678592935955836 - 0.7735718587191167*x^2 + 0.12892864311985278*x^4), true), true)\n",
       "ProHermite{5}(ProPolyHermite{5}(ImmutablePolynomial(0.8648796307884041*x - 0.5765864205256028*x^3 + 0.05765864205256028*x^5), true), true)\n",
       "ProHermite{6}(ProPolyHermite{6}(ImmutablePolynomial(-0.353085630726383 + 1.059256892179149*x^2 - 0.353085630726383*x^4 + 0.023539042048425534*x^6), true), true)\n",
       "ProHermite{7}(ProPolyHermite{7}(ImmutablePolynomial(-0.9341767704123958*x + 0.9341767704123958*x^3 - 0.18683535408247914*x^5 + 0.008896921622975198*x^7), true), true)\n",
       "ProHermite{8}(ProPolyHermite{8}(ImmutablePolynomial(0.3302813645927768 - 1.3211254583711072*x^2 + 0.6605627291855536*x^4 - 0.08807503055807382*x^6 + 0.0031455368056454935*x^8), true), true)\n",
       "), [0 0 … 0 0; 0 0 … 0 1; … ; 0 0 … 0 2; 0 0 … 0 3], [0.6108673097428858, -1.5385536320528497, 1.0243549844648836, 0.7181351613037438, 0.1428995954333687, -1.095076716872865]))), 1.0e-6), HermiteMapk{10,6,12}(IntegratedFunction{10,6,12}(Rectifier(\"softplus\"), ParametricFunction{10,6,12}(ExpandedFunction{10,6,12}(MultiBasis{10,12}(Basis of 10 functions:\n",
       "ProPolyHermite{0}(ImmutablePolynomial(1.0), false)\n",
       "ProHermite{0}(ProPolyHermite{0}(ImmutablePolynomial(0.6316187777460647), true), true)\n",
       "ProHermite{1}(ProPolyHermite{1}(ImmutablePolynomial(0.6316187777460647*x), true), true)\n",
       "ProHermite{2}(ProPolyHermite{2}(ImmutablePolynomial(-0.44662192086900115 + 0.44662192086900115*x^2), true), true)\n",
       "ProHermite{3}(ProPolyHermite{3}(ImmutablePolynomial(-0.7735718587191167*x + 0.25785728623970555*x^3), true), true)\n",
       "ProHermite{4}(ProPolyHermite{4}(ImmutablePolynomial(0.38678592935955836 - 0.7735718587191167*x^2 + 0.12892864311985278*x^4), true), true)\n",
       "ProHermite{5}(ProPolyHermite{5}(ImmutablePolynomial(0.8648796307884041*x - 0.5765864205256028*x^3 + 0.05765864205256028*x^5), true), true)\n",
       "ProHermite{6}(ProPolyHermite{6}(ImmutablePolynomial(-0.353085630726383 + 1.059256892179149*x^2 - 0.353085630726383*x^4 + 0.023539042048425534*x^6), true), true)\n",
       "ProHermite{7}(ProPolyHermite{7}(ImmutablePolynomial(-0.9341767704123958*x + 0.9341767704123958*x^3 - 0.18683535408247914*x^5 + 0.008896921622975198*x^7), true), true)\n",
       "ProHermite{8}(ProPolyHermite{8}(ImmutablePolynomial(0.3302813645927768 - 1.3211254583711072*x^2 + 0.6605627291855536*x^4 - 0.08807503055807382*x^6 + 0.0031455368056454935*x^8), true), true)\n",
       "), [0 0 … 0 0; 0 0 … 0 1; … ; 0 0 … 0 0; 0 0 … 0 0], [-0.19464018947042452, 0.5387288130730841, 1.1129201035270417, -0.43614736278927774, 0.47966247950904634, -0.46428351476123064]))), 1.0e-6), HermiteMapk{10,6,13}(IntegratedFunction{10,6,13}(Rectifier(\"softplus\"), ParametricFunction{10,6,13}(ExpandedFunction{10,6,13}(MultiBasis{10,13}(Basis of 10 functions:\n",
       "ProPolyHermite{0}(ImmutablePolynomial(1.0), false)\n",
       "ProHermite{0}(ProPolyHermite{0}(ImmutablePolynomial(0.6316187777460647), true), true)\n",
       "ProHermite{1}(ProPolyHermite{1}(ImmutablePolynomial(0.6316187777460647*x), true), true)\n",
       "ProHermite{2}(ProPolyHermite{2}(ImmutablePolynomial(-0.44662192086900115 + 0.44662192086900115*x^2), true), true)\n",
       "ProHermite{3}(ProPolyHermite{3}(ImmutablePolynomial(-0.7735718587191167*x + 0.25785728623970555*x^3), true), true)\n",
       "ProHermite{4}(ProPolyHermite{4}(ImmutablePolynomial(0.38678592935955836 - 0.7735718587191167*x^2 + 0.12892864311985278*x^4), true), true)\n",
       "ProHermite{5}(ProPolyHermite{5}(ImmutablePolynomial(0.8648796307884041*x - 0.5765864205256028*x^3 + 0.05765864205256028*x^5), true), true)\n",
       "ProHermite{6}(ProPolyHermite{6}(ImmutablePolynomial(-0.353085630726383 + 1.059256892179149*x^2 - 0.353085630726383*x^4 + 0.023539042048425534*x^6), true), true)\n",
       "ProHermite{7}(ProPolyHermite{7}(ImmutablePolynomial(-0.9341767704123958*x + 0.9341767704123958*x^3 - 0.18683535408247914*x^5 + 0.008896921622975198*x^7), true), true)\n",
       "ProHermite{8}(ProPolyHermite{8}(ImmutablePolynomial(0.3302813645927768 - 1.3211254583711072*x^2 + 0.6605627291855536*x^4 - 0.08807503055807382*x^6 + 0.0031455368056454935*x^8), true), true)\n",
       "), [0 0 … 0 0; 0 0 … 0 0; … ; 2 0 … 0 0; 0 0 … 0 0], [0.13514355189622498, -0.017335432994894474, 2.6811673484345278, 0.8378357159314286, 0.41062493713087145, -0.20346117433112684]))), 1.0e-6), HermiteMapk{10,6,14}(IntegratedFunction{10,6,14}(Rectifier(\"softplus\"), ParametricFunction{10,6,14}(ExpandedFunction{10,6,14}(MultiBasis{10,14}(Basis of 10 functions:\n",
       "ProPolyHermite{0}(ImmutablePolynomial(1.0), false)\n",
       "ProHermite{0}(ProPolyHermite{0}(ImmutablePolynomial(0.6316187777460647), true), true)\n",
       "ProHermite{1}(ProPolyHermite{1}(ImmutablePolynomial(0.6316187777460647*x), true), true)\n",
       "ProHermite{2}(ProPolyHermite{2}(ImmutablePolynomial(-0.44662192086900115 + 0.44662192086900115*x^2), true), true)\n",
       "ProHermite{3}(ProPolyHermite{3}(ImmutablePolynomial(-0.7735718587191167*x + 0.25785728623970555*x^3), true), true)\n",
       "ProHermite{4}(ProPolyHermite{4}(ImmutablePolynomial(0.38678592935955836 - 0.7735718587191167*x^2 + 0.12892864311985278*x^4), true), true)\n",
       "ProHermite{5}(ProPolyHermite{5}(ImmutablePolynomial(0.8648796307884041*x - 0.5765864205256028*x^3 + 0.05765864205256028*x^5), true), true)\n",
       "ProHermite{6}(ProPolyHermite{6}(ImmutablePolynomial(-0.353085630726383 + 1.059256892179149*x^2 - 0.353085630726383*x^4 + 0.023539042048425534*x^6), true), true)\n",
       "ProHermite{7}(ProPolyHermite{7}(ImmutablePolynomial(-0.9341767704123958*x + 0.9341767704123958*x^3 - 0.18683535408247914*x^5 + 0.008896921622975198*x^7), true), true)\n",
       "ProHermite{8}(ProPolyHermite{8}(ImmutablePolynomial(0.3302813645927768 - 1.3211254583711072*x^2 + 0.6605627291855536*x^4 - 0.08807503055807382*x^6 + 0.0031455368056454935*x^8), true), true)\n",
       "), [0 0 … 0 0; 0 0 … 0 0; … ; 0 0 … 0 0; 0 0 … 0 2], [-0.2863250166894515, 2.3320433071963973, 1.8912341646383175, 0.3127883580628983, 1.3693148079880575, -0.4963184378328377]))), 1.0e-6), HermiteMapk{10,6,15}(IntegratedFunction{10,6,15}(Rectifier(\"softplus\"), ParametricFunction{10,6,15}(ExpandedFunction{10,6,15}(MultiBasis{10,15}(Basis of 10 functions:\n",
       "ProPolyHermite{0}(ImmutablePolynomial(1.0), false)\n",
       "ProHermite{0}(ProPolyHermite{0}(ImmutablePolynomial(0.6316187777460647), true), true)\n",
       "ProHermite{1}(ProPolyHermite{1}(ImmutablePolynomial(0.6316187777460647*x), true), true)\n",
       "ProHermite{2}(ProPolyHermite{2}(ImmutablePolynomial(-0.44662192086900115 + 0.44662192086900115*x^2), true), true)\n",
       "ProHermite{3}(ProPolyHermite{3}(ImmutablePolynomial(-0.7735718587191167*x + 0.25785728623970555*x^3), true), true)\n",
       "ProHermite{4}(ProPolyHermite{4}(ImmutablePolynomial(0.38678592935955836 - 0.7735718587191167*x^2 + 0.12892864311985278*x^4), true), true)\n",
       "ProHermite{5}(ProPolyHermite{5}(ImmutablePolynomial(0.8648796307884041*x - 0.5765864205256028*x^3 + 0.05765864205256028*x^5), true), true)\n",
       "ProHermite{6}(ProPolyHermite{6}(ImmutablePolynomial(-0.353085630726383 + 1.059256892179149*x^2 - 0.353085630726383*x^4 + 0.023539042048425534*x^6), true), true)\n",
       "ProHermite{7}(ProPolyHermite{7}(ImmutablePolynomial(-0.9341767704123958*x + 0.9341767704123958*x^3 - 0.18683535408247914*x^5 + 0.008896921622975198*x^7), true), true)\n",
       "ProHermite{8}(ProPolyHermite{8}(ImmutablePolynomial(0.3302813645927768 - 1.3211254583711072*x^2 + 0.6605627291855536*x^4 - 0.08807503055807382*x^6 + 0.0031455368056454935*x^8), true), true)\n",
       "), [0 0 … 0 0; 0 0 … 0 0; … ; 0 0 … 0 3; 0 0 … 0 0], [1.2991501992118528, -0.030639864887100285, -0.9237343433745719, -2.5604740989051873, -2.3132194300007893, -0.35939151119551116]))), 1.0e-6), HermiteMapk{10,6,16}(IntegratedFunction{10,6,16}(Rectifier(\"softplus\"), ParametricFunction{10,6,16}(ExpandedFunction{10,6,16}(MultiBasis{10,16}(Basis of 10 functions:\n",
       "ProPolyHermite{0}(ImmutablePolynomial(1.0), false)\n",
       "ProHermite{0}(ProPolyHermite{0}(ImmutablePolynomial(0.6316187777460647), true), true)\n",
       "ProHermite{1}(ProPolyHermite{1}(ImmutablePolynomial(0.6316187777460647*x), true), true)\n",
       "ProHermite{2}(ProPolyHermite{2}(ImmutablePolynomial(-0.44662192086900115 + 0.44662192086900115*x^2), true), true)\n",
       "ProHermite{3}(ProPolyHermite{3}(ImmutablePolynomial(-0.7735718587191167*x + 0.25785728623970555*x^3), true), true)\n",
       "ProHermite{4}(ProPolyHermite{4}(ImmutablePolynomial(0.38678592935955836 - 0.7735718587191167*x^2 + 0.12892864311985278*x^4), true), true)\n",
       "ProHermite{5}(ProPolyHermite{5}(ImmutablePolynomial(0.8648796307884041*x - 0.5765864205256028*x^3 + 0.05765864205256028*x^5), true), true)\n",
       "ProHermite{6}(ProPolyHermite{6}(ImmutablePolynomial(-0.353085630726383 + 1.059256892179149*x^2 - 0.353085630726383*x^4 + 0.023539042048425534*x^6), true), true)\n",
       "ProHermite{7}(ProPolyHermite{7}(ImmutablePolynomial(-0.9341767704123958*x + 0.9341767704123958*x^3 - 0.18683535408247914*x^5 + 0.008896921622975198*x^7), true), true)\n",
       "ProHermite{8}(ProPolyHermite{8}(ImmutablePolynomial(0.3302813645927768 - 1.3211254583711072*x^2 + 0.6605627291855536*x^4 - 0.08807503055807382*x^6 + 0.0031455368056454935*x^8), true), true)\n",
       "), [0 0 … 0 0; 0 0 … 0 1; … ; 2 0 … 0 0; 0 0 … 0 0], [-0.6160786889344483, 0.5555493721025918, 1.590806206458628, 0.498341025441017, -0.3696728276604649, 0.3510306203076755]))), 1.0e-6), HermiteMapk{10,6,17}(IntegratedFunction{10,6,17}(Rectifier(\"softplus\"), ParametricFunction{10,6,17}(ExpandedFunction{10,6,17}(MultiBasis{10,17}(Basis of 10 functions:\n",
       "ProPolyHermite{0}(ImmutablePolynomial(1.0), false)\n",
       "ProHermite{0}(ProPolyHermite{0}(ImmutablePolynomial(0.6316187777460647), true), true)\n",
       "ProHermite{1}(ProPolyHermite{1}(ImmutablePolynomial(0.6316187777460647*x), true), true)\n",
       "ProHermite{2}(ProPolyHermite{2}(ImmutablePolynomial(-0.44662192086900115 + 0.44662192086900115*x^2), true), true)\n",
       "ProHermite{3}(ProPolyHermite{3}(ImmutablePolynomial(-0.7735718587191167*x + 0.25785728623970555*x^3), true), true)\n",
       "ProHermite{4}(ProPolyHermite{4}(ImmutablePolynomial(0.38678592935955836 - 0.7735718587191167*x^2 + 0.12892864311985278*x^4), true), true)\n",
       "ProHermite{5}(ProPolyHermite{5}(ImmutablePolynomial(0.8648796307884041*x - 0.5765864205256028*x^3 + 0.05765864205256028*x^5), true), true)\n",
       "ProHermite{6}(ProPolyHermite{6}(ImmutablePolynomial(-0.353085630726383 + 1.059256892179149*x^2 - 0.353085630726383*x^4 + 0.023539042048425534*x^6), true), true)\n",
       "ProHermite{7}(ProPolyHermite{7}(ImmutablePolynomial(-0.9341767704123958*x + 0.9341767704123958*x^3 - 0.18683535408247914*x^5 + 0.008896921622975198*x^7), true), true)\n",
       "ProHermite{8}(ProPolyHermite{8}(ImmutablePolynomial(0.3302813645927768 - 1.3211254583711072*x^2 + 0.6605627291855536*x^4 - 0.08807503055807382*x^6 + 0.0031455368056454935*x^8), true), true)\n",
       "), [0 0 … 0 0; 0 0 … 0 1; … ; 0 0 … 0 3; 0 0 … 0 0], [2.3019690266068387, -2.7215656944771203, -0.5610220238813893, -1.1873081943649941, -2.5742605137253083, -0.7214189386252802]))), 1.0e-6), HermiteMapk{10,6,18}(IntegratedFunction{10,6,18}(Rectifier(\"softplus\"), ParametricFunction{10,6,18}(ExpandedFunction{10,6,18}(MultiBasis{10,18}(Basis of 10 functions:\n",
       "ProPolyHermite{0}(ImmutablePolynomial(1.0), false)\n",
       "ProHermite{0}(ProPolyHermite{0}(ImmutablePolynomial(0.6316187777460647), true), true)\n",
       "ProHermite{1}(ProPolyHermite{1}(ImmutablePolynomial(0.6316187777460647*x), true), true)\n",
       "ProHermite{2}(ProPolyHermite{2}(ImmutablePolynomial(-0.44662192086900115 + 0.44662192086900115*x^2), true), true)\n",
       "ProHermite{3}(ProPolyHermite{3}(ImmutablePolynomial(-0.7735718587191167*x + 0.25785728623970555*x^3), true), true)\n",
       "ProHermite{4}(ProPolyHermite{4}(ImmutablePolynomial(0.38678592935955836 - 0.7735718587191167*x^2 + 0.12892864311985278*x^4), true), true)\n",
       "ProHermite{5}(ProPolyHermite{5}(ImmutablePolynomial(0.8648796307884041*x - 0.5765864205256028*x^3 + 0.05765864205256028*x^5), true), true)\n",
       "ProHermite{6}(ProPolyHermite{6}(ImmutablePolynomial(-0.353085630726383 + 1.059256892179149*x^2 - 0.353085630726383*x^4 + 0.023539042048425534*x^6), true), true)\n",
       "ProHermite{7}(ProPolyHermite{7}(ImmutablePolynomial(-0.9341767704123958*x + 0.9341767704123958*x^3 - 0.18683535408247914*x^5 + 0.008896921622975198*x^7), true), true)\n",
       "ProHermite{8}(ProPolyHermite{8}(ImmutablePolynomial(0.3302813645927768 - 1.3211254583711072*x^2 + 0.6605627291855536*x^4 - 0.08807503055807382*x^6 + 0.0031455368056454935*x^8), true), true)\n",
       "), [0 0 … 0 0; 0 0 … 0 1; … ; 0 0 … 0 4; 0 0 … 0 0], [2.0353500886857603, -2.915840714472215, 0.3393102294838444, -1.6822729935871006, -1.0458840327349628, -0.7543959055824614]))), 1.0e-6), HermiteMapk{10,6,19}(IntegratedFunction{10,6,19}(Rectifier(\"softplus\"), ParametricFunction{10,6,19}(ExpandedFunction{10,6,19}(MultiBasis{10,19}(Basis of 10 functions:\n",
       "ProPolyHermite{0}(ImmutablePolynomial(1.0), false)\n",
       "ProHermite{0}(ProPolyHermite{0}(ImmutablePolynomial(0.6316187777460647), true), true)\n",
       "ProHermite{1}(ProPolyHermite{1}(ImmutablePolynomial(0.6316187777460647*x), true), true)\n",
       "ProHermite{2}(ProPolyHermite{2}(ImmutablePolynomial(-0.44662192086900115 + 0.44662192086900115*x^2), true), true)\n",
       "ProHermite{3}(ProPolyHermite{3}(ImmutablePolynomial(-0.7735718587191167*x + 0.25785728623970555*x^3), true), true)\n",
       "ProHermite{4}(ProPolyHermite{4}(ImmutablePolynomial(0.38678592935955836 - 0.7735718587191167*x^2 + 0.12892864311985278*x^4), true), true)\n",
       "ProHermite{5}(ProPolyHermite{5}(ImmutablePolynomial(0.8648796307884041*x - 0.5765864205256028*x^3 + 0.05765864205256028*x^5), true), true)\n",
       "ProHermite{6}(ProPolyHermite{6}(ImmutablePolynomial(-0.353085630726383 + 1.059256892179149*x^2 - 0.353085630726383*x^4 + 0.023539042048425534*x^6), true), true)\n",
       "ProHermite{7}(ProPolyHermite{7}(ImmutablePolynomial(-0.9341767704123958*x + 0.9341767704123958*x^3 - 0.18683535408247914*x^5 + 0.008896921622975198*x^7), true), true)\n",
       "ProHermite{8}(ProPolyHermite{8}(ImmutablePolynomial(0.3302813645927768 - 1.3211254583711072*x^2 + 0.6605627291855536*x^4 - 0.08807503055807382*x^6 + 0.0031455368056454935*x^8), true), true)\n",
       "), [0 0 … 0 0; 0 0 … 0 0; … ; 0 0 … 0 0; 0 0 … 0 0], [2.2626392045535915, 0.5469374857495494, 0.9195956277265693, -0.7292809293991985, 0.5102480903516527, -0.5622788315368167]))), 1.0e-6), HermiteMapk{10,6,20}(IntegratedFunction{10,6,20}(Rectifier(\"softplus\"), ParametricFunction{10,6,20}(ExpandedFunction{10,6,20}(MultiBasis{10,20}(Basis of 10 functions:\n",
       "ProPolyHermite{0}(ImmutablePolynomial(1.0), false)\n",
       "ProHermite{0}(ProPolyHermite{0}(ImmutablePolynomial(0.6316187777460647), true), true)\n",
       "ProHermite{1}(ProPolyHermite{1}(ImmutablePolynomial(0.6316187777460647*x), true), true)\n",
       "ProHermite{2}(ProPolyHermite{2}(ImmutablePolynomial(-0.44662192086900115 + 0.44662192086900115*x^2), true), true)\n",
       "ProHermite{3}(ProPolyHermite{3}(ImmutablePolynomial(-0.7735718587191167*x + 0.25785728623970555*x^3), true), true)\n",
       "ProHermite{4}(ProPolyHermite{4}(ImmutablePolynomial(0.38678592935955836 - 0.7735718587191167*x^2 + 0.12892864311985278*x^4), true), true)\n",
       "ProHermite{5}(ProPolyHermite{5}(ImmutablePolynomial(0.8648796307884041*x - 0.5765864205256028*x^3 + 0.05765864205256028*x^5), true), true)\n",
       "ProHermite{6}(ProPolyHermite{6}(ImmutablePolynomial(-0.353085630726383 + 1.059256892179149*x^2 - 0.353085630726383*x^4 + 0.023539042048425534*x^6), true), true)\n",
       "ProHermite{7}(ProPolyHermite{7}(ImmutablePolynomial(-0.9341767704123958*x + 0.9341767704123958*x^3 - 0.18683535408247914*x^5 + 0.008896921622975198*x^7), true), true)\n",
       "ProHermite{8}(ProPolyHermite{8}(ImmutablePolynomial(0.3302813645927768 - 1.3211254583711072*x^2 + 0.6605627291855536*x^4 - 0.08807503055807382*x^6 + 0.0031455368056454935*x^8), true), true)\n",
       "), [0 0 … 0 0; 0 0 … 0 1; … ; 0 0 … 0 3; 0 0 … 0 4], [2.7413208600044623, -6.290079373198553, -0.7867774662051221, 0.6461216885814567, -1.9220789801362321, -2.529544883402609]))), 1.0e-6)])"
      ]
     },
     "execution_count": 17,
     "metadata": {},
     "output_type": "execute_result"
    }
   ],
   "source": [
    "out = zero(X);\n",
    "@time optimize(M, X, 6; apply_rescaling = true)"
   ]
  },
  {
   "cell_type": "code",
   "execution_count": 20,
   "metadata": {},
   "outputs": [
    {
     "data": {
      "text/plain": [
       "timing (generic function with 1 method)"
      ]
     },
     "execution_count": 20,
     "metadata": {},
     "output_type": "execute_result"
    }
   ],
   "source": [
    "function timing()\n",
    "    @btime begin\n",
    "        Nx = 10\n",
    "        Ne = 300\n",
    "        m = 10\n",
    "        X = randn(Nx, Ne) .* randn(Nx, Ne) .+ rand(Nx);\n",
    "        X0 = deepcopy(X);   \n",
    "#         M = HermiteMap(m, X);    \n",
    "#         optimize(M, X, 4; apply_rescaling = true)\n",
    "    end\n",
    "    \n",
    "    @btime begin\n",
    "        Nx = 20\n",
    "        Ne = 300\n",
    "        m = 10\n",
    "        X = randn(Nx, Ne) .* randn(Nx, Ne) .+ rand(Nx);\n",
    "        X0 = deepcopy(X);   \n",
    "        M = HermiteMap(m, X);    \n",
    "        optimize(M, X, 6; apply_rescaling = true)\n",
    "    end\n",
    "end"
   ]
  },
  {
   "cell_type": "code",
   "execution_count": null,
   "metadata": {
    "scrolled": false
   },
   "outputs": [],
   "source": [
    "timing()"
   ]
  },
  {
   "cell_type": "markdown",
   "metadata": {},
   "source": [
    "### Greedyfit"
   ]
  },
  {
   "cell_type": "code",
   "execution_count": 53,
   "metadata": {},
   "outputs": [
    {
     "data": {
      "text/plain": [
       "10×300 Array{Float64,2}:\n",
       "  0.915567    -0.796065   -0.731721   …   0.529433   -0.303699   -1.14415\n",
       " -0.00186175   0.333526   -0.463683      -0.150861    0.233496    0.104\n",
       " -0.00882651  -0.628545    0.0304819      5.11847     1.43685     0.19322\n",
       "  0.879108     0.196255    0.674179      -0.107603   -0.0346852   1.62582\n",
       " -1.3971      -0.0416449   0.0445271      0.10607    -0.320214    1.35214\n",
       "  0.496067    -0.0639364  -0.965482   …   0.105975    0.0746329   2.6746\n",
       "  0.344445     0.105641    0.853668      -0.598025   -0.0165297   0.111082\n",
       "  0.19992     -0.0412068  -1.38972       -0.127004   -0.04023     0.147524\n",
       " -0.847076     0.102524   -0.220191       0.0462358  -0.171279    3.46266\n",
       "  0.135713    -1.64341     1.28061       -1.47047     0.290523   -0.0167174"
      ]
     },
     "execution_count": 53,
     "metadata": {},
     "output_type": "execute_result"
    }
   ],
   "source": [
    "Nx = 10\n",
    "Ne = 300\n",
    "m = 20\n",
    "\n",
    "# X = Matrix([0.267333   1.43021;\n",
    "#       0.364979   0.607224;\n",
    "#      -1.23693    0.249277;\n",
    "#      -2.0526     0.915629;\n",
    "#      -0.182465   0.415874;\n",
    "#       0.412907   1.01672;\n",
    "#       1.41332   -0.918205;\n",
    "#       0.766647  -1.00445]');\n",
    "\n",
    "X = randn(Nx, Ne) .* randn(Nx, Ne) .+ rand(Nx)\n",
    "L = LinearTransform(X; diag = true)\n",
    "\n",
    "transform!(L, X)"
   ]
  },
  {
   "cell_type": "code",
   "execution_count": 59,
   "metadata": {},
   "outputs": [
    {
     "name": "stdout",
     "output_type": "stream",
     "text": [
      "  0.025685 seconds (31.35 k allocations: 42.543 MiB, 17.06% gc time)\n"
     ]
    }
   ],
   "source": [
    "@time greedyfit(m, Nx, X, 8; verbose = false);"
   ]
  },
  {
   "cell_type": "code",
   "execution_count": null,
   "metadata": {},
   "outputs": [],
   "source": [
    "@time greedyfit($m, $Nx, $X, $8; verbose = false);"
   ]
  }
 ],
 "metadata": {
  "kernelspec": {
   "display_name": "Julia 1.4.0",
   "language": "julia",
   "name": "julia-1.4"
  },
  "language_info": {
   "file_extension": ".jl",
   "mimetype": "application/julia",
   "name": "julia",
   "version": "1.4.0"
  }
 },
 "nbformat": 4,
 "nbformat_minor": 2
}
