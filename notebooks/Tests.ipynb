{
 "cells": [
  {
   "cell_type": "code",
   "execution_count": 10,
   "metadata": {},
   "outputs": [
    {
     "name": "stderr",
     "output_type": "stream",
     "text": [
      "\u001b[32m\u001b[1m Activating\u001b[22m\u001b[39m environment at `/media/mat/HDD/AdaptiveTransportMap/Project.toml`\n"
     ]
    }
   ],
   "source": [
    "using Pkg\n",
    "Pkg.activate(\"/media/mat/HDD/AdaptiveTransportMap/\")"
   ]
  },
  {
   "cell_type": "code",
   "execution_count": 11,
   "metadata": {
    "scrolled": false
   },
   "outputs": [],
   "source": [
    "using Revise\n",
    "using AdaptiveTransportMap\n",
    "using LinearAlgebra\n",
    "import LinearAlgebra: ldiv!, dot\n",
    "using Test\n",
    "using ForwardDiff\n",
    "using SpecialFunctions\n",
    "using BenchmarkTools\n",
    "using TransportMap\n",
    "using QuadGK\n",
    "using Polynomials\n",
    "using Distributions\n",
    "using Random\n",
    "using LoopVectorization\n",
    "using Optim\n",
    "using NLsolve\n",
    "using MLDataUtils\n",
    "using MLDataPattern\n",
    "using Test\n",
    "using SparseArrays\n",
    "using QRupdate\n",
    "using AdaptiveTransportMap: vander, transform!, evaluate, ncoeff, optimize, negative_log_likelihood!, derivative\n",
    "\n",
    "# using Profile\n",
    "# using ProfileView"
   ]
  },
  {
   "cell_type": "markdown",
   "metadata": {},
   "source": [
    "### Third derivative of Physicist Hermite functions"
   ]
  },
  {
   "cell_type": "code",
   "execution_count": 169,
   "metadata": {},
   "outputs": [],
   "source": [
    "Ne = 100\n",
    "x = randn(Ne);"
   ]
  },
  {
   "cell_type": "code",
   "execution_count": 179,
   "metadata": {},
   "outputs": [
    {
     "data": {
      "text/plain": [
       "PhyHermite(5, PhyPolyHermite(5, ImmutablePolynomial(120.0*x - 160.0*x^3 + 32.0*x^5), false), false)"
      ]
     },
     "execution_count": 179,
     "metadata": {},
     "output_type": "execute_result"
    }
   ],
   "source": [
    "P = PhyHermite(5)"
   ]
  },
  {
   "cell_type": "code",
   "execution_count": 180,
   "metadata": {},
   "outputs": [
    {
     "data": {
      "text/plain": [
       "5"
      ]
     },
     "execution_count": 180,
     "metadata": {},
     "output_type": "execute_result"
    }
   ],
   "source": [
    "P.m"
   ]
  },
  {
   "cell_type": "code",
   "execution_count": 181,
   "metadata": {},
   "outputs": [
    {
     "data": {
      "text/plain": [
       "100×6 Array{Float64,2}:\n",
       "  1.35442    -1.08359   -20.3627   -14.656     282.569     702.421\n",
       " -1.25947    -2.3537     20.1559     8.64353  -311.617     286.214\n",
       " -0.497446   -5.57444     8.85797   74.695    -160.941   -1106.79\n",
       " -0.283112    3.40305    -6.56779  -29.0697    221.771    -319.614\n",
       "  1.10959     2.92754    -9.22816  -65.6437    -28.5529   1047.04\n",
       " -1.23575     2.2823     12.8239   -61.9534    -49.9943   1171.11\n",
       "  0.964434   -4.21529   -16.5208    45.8018    283.881    -468.111\n",
       "  0.29965     3.43151     6.3579   -30.3315   -222.105    -293.363\n",
       " -1.28028    -2.14294    20.3006     4.64679  -309.111     361.423\n",
       "  0.503309   -5.56401    -8.95994   74.4684    162.732   -1101.64\n",
       " -1.37834     0.278207   18.8698   -37.0879   -216.572    1032.08\n",
       " -1.28836    -2.05481    20.3476     2.98995  -307.778     392.187\n",
       "  0.0399737   2.53292    -9.48937   -1.72461   174.97     -732.643\n",
       "  ⋮                                                          ⋮\n",
       " -1.29061    -2.02953    20.3597     2.51635  -307.365     400.935\n",
       " -1.29879     1.77293    14.9254   -57.0186   -101.546    1191.94\n",
       "  0.137704    3.08989     8.18674  -17.361    -210.802    -533.631\n",
       " -0.490411   -5.58678     8.73551   74.9631   -158.788   -1112.88\n",
       " -0.347948   -5.79518     6.23107   79.5072   -114.114   -1216.64\n",
       " -1.2269      2.34029    12.5504   -62.4239    -43.6182   1165.18\n",
       " -1.13565    -3.31316    18.873     27.4056   -309.801     -83.4839\n",
       "  1.32982    -1.52025   -20.468     -6.86788   296.233     569.728\n",
       " -1.2015      2.49368    11.7867   -63.5578    -26.1787   1145.28\n",
       "  1.16018    -3.15142   -19.1668    24.1814    311.752     -18.1787\n",
       " -1.18178     2.60111    11.2134   -64.2449    -13.4286   1127.29\n",
       "  0.779313    3.64573    -1.62162  -59.143    -158.905     535.424"
      ]
     },
     "execution_count": 181,
     "metadata": {},
     "output_type": "execute_result"
    }
   ],
   "source": [
    "vander(P, 3, x)"
   ]
  },
  {
   "cell_type": "code",
   "execution_count": 182,
   "metadata": {},
   "outputs": [
    {
     "data": {
      "text/plain": [
       "100-element Array{Float64,1}:\n",
       "   702.4214002864783\n",
       "   286.2136031795143\n",
       " -1106.7875682265935\n",
       "  -319.61398645282173\n",
       "  1047.0355770637034\n",
       "  1171.1054879471883\n",
       "  -468.1109843729741\n",
       "  -293.36256494746726\n",
       "   361.4230373091964\n",
       " -1101.6362093157252\n",
       "  1032.0821022961534\n",
       "   392.1872468493803\n",
       "  -732.6426488945979\n",
       "     ⋮\n",
       "   400.9350401706472\n",
       "  1191.9443666965208\n",
       "  -533.6305021019674\n",
       " -1112.882381518356\n",
       " -1216.6369979910112\n",
       "  1165.1812310634057\n",
       "   -83.48388847562316\n",
       "   569.7275705639765\n",
       "  1145.277374984825\n",
       "   -18.178706051042013\n",
       "  1127.2879422004205\n",
       "   535.4240751065889"
      ]
     },
     "execution_count": 182,
     "metadata": {},
     "output_type": "execute_result"
    }
   ],
   "source": [
    "map(xi->D(P, 3)(xi),x)"
   ]
  },
  {
   "cell_type": "code",
   "execution_count": 156,
   "metadata": {},
   "outputs": [
    {
     "data": {
      "text/plain": [
       "100-element Array{Float64,1}:\n",
       "  0.0\n",
       " -5.684341886080802e-14\n",
       "  1.1368683772161603e-13\n",
       " -2.842170943040401e-14\n",
       "  5.684341886080802e-14\n",
       " -4.263256414560601e-14\n",
       "  7.105427357601002e-15\n",
       "  0.0\n",
       " -1.7053025658242404e-13\n",
       " -7.105427357601002e-15\n",
       " -5.684341886080802e-14\n",
       "  0.0\n",
       " -5.684341886080802e-14\n",
       "  ⋮\n",
       "  0.0\n",
       " -2.1316282072803006e-14\n",
       " -5.684341886080802e-14\n",
       "  8.526512829121202e-14\n",
       "  0.0\n",
       "  2.842170943040401e-14\n",
       "  5.684341886080802e-14\n",
       " -2.842170943040401e-14\n",
       "  0.0\n",
       " -5.684341886080802e-14\n",
       " -7.105427357601002e-14\n",
       " -2.842170943040401e-14"
      ]
     },
     "execution_count": 156,
     "metadata": {},
     "output_type": "execute_result"
    }
   ],
   "source": [
    "map(xi->D(P, 2)(xi),x) + (2*P.m +1 .- x .^2) .* map(xi->D(P, 0)(xi),x)"
   ]
  },
  {
   "cell_type": "code",
   "execution_count": 157,
   "metadata": {},
   "outputs": [
    {
     "data": {
      "text/plain": [
       "100-element Array{Float64,1}:\n",
       "  0.0\n",
       "  0.0\n",
       "  1.1368683772161603e-13\n",
       "  4.192202140984591e-13\n",
       "  2.2737367544323206e-13\n",
       " -4.547473508864641e-13\n",
       "  2.2737367544323206e-13\n",
       "  2.2737367544323206e-13\n",
       "  0.0\n",
       " -2.2737367544323206e-13\n",
       "  1.1368683772161603e-13\n",
       "  0.0\n",
       " -2.8421709430404007e-13\n",
       "  ⋮\n",
       "  1.1368683772161603e-13\n",
       " -1.1368683772161603e-13\n",
       "  1.1368683772161603e-13\n",
       "  2.2737367544323206e-13\n",
       "  2.2737367544323206e-13\n",
       " -2.8421709430404007e-13\n",
       " -1.5276668818842154e-13\n",
       " -5.719869022868806e-13\n",
       " -2.2737367544323206e-13\n",
       "  0.0\n",
       " -2.2737367544323206e-13\n",
       "  2.2737367544323206e-13"
      ]
     },
     "execution_count": 157,
     "metadata": {},
     "output_type": "execute_result"
    }
   ],
   "source": [
    "map(xi->D(P, 3)(xi),x) + -2*x .* map(xi->D(P, 0)(xi),x) + (2*P.m +1 .- x .^2) .*  map(xi->D(P, 1)(xi),x)"
   ]
  },
  {
   "cell_type": "code",
   "execution_count": 164,
   "metadata": {},
   "outputs": [
    {
     "data": {
      "text/plain": [
       "100-element Array{Float64,1}:\n",
       "  1.4210854715202004e-14\n",
       "  1.4210854715202004e-14\n",
       "  7.105427357601002e-15\n",
       "  4.263256414560601e-14\n",
       "  0.0\n",
       " -1.4210854715202004e-14\n",
       "  1.4210854715202004e-14\n",
       "  1.4210854715202004e-14\n",
       " -7.105427357601002e-15\n",
       " -1.4210854715202004e-14\n",
       "  2.842170943040401e-14\n",
       "  7.105427357601002e-15\n",
       " -3.552713678800501e-14\n",
       "  ⋮\n",
       "  1.4210854715202004e-14\n",
       "  0.0\n",
       "  1.4210854715202004e-14\n",
       " -1.4210854715202004e-14\n",
       " -1.4210854715202004e-14\n",
       " -4.263256414560601e-14\n",
       " -2.4868995751603507e-14\n",
       " -1.4210854715202004e-14\n",
       " -1.4210854715202004e-14\n",
       " -7.105427357601002e-15\n",
       " -4.263256414560601e-14\n",
       "  2.842170943040401e-14"
      ]
     },
     "execution_count": 164,
     "metadata": {},
     "output_type": "execute_result"
    }
   ],
   "source": [
    "map(xi->D(P, 1)(xi),x) - ( 2*P.m*map(xi->D(PhyHermite(P.m-1), 0)(xi),x) - x .* map(xi->D(P, 0)(xi),x))"
   ]
  },
  {
   "cell_type": "code",
   "execution_count": 166,
   "metadata": {},
   "outputs": [
    {
     "data": {
      "text/plain": [
       "100-element Array{Float64,1}:\n",
       " -1.1368683772161603e-13\n",
       " -2.2737367544323206e-13\n",
       "  0.0\n",
       "  2.5579538487363607e-13\n",
       "  2.2737367544323206e-13\n",
       " -2.2737367544323206e-13\n",
       "  0.0\n",
       "  0.0\n",
       "  8.526512829121202e-14\n",
       "  0.0\n",
       " -1.1368683772161603e-13\n",
       "  0.0\n",
       "  0.0\n",
       "  ⋮\n",
       " -1.1368683772161603e-13\n",
       " -1.1368683772161603e-13\n",
       " -1.4210854715202004e-14\n",
       "  2.2737367544323206e-13\n",
       "  2.2737367544323206e-13\n",
       " -5.684341886080802e-14\n",
       "  1.1368683772161603e-13\n",
       " -5.231370892033738e-13\n",
       "  0.0\n",
       "  5.684341886080802e-14\n",
       "  2.2737367544323206e-13\n",
       " -1.1368683772161603e-13"
      ]
     },
     "execution_count": 166,
     "metadata": {},
     "output_type": "execute_result"
    }
   ],
   "source": [
    "map(xi->D(P, 3)(xi),x) + -2*x .* map(xi->D(P, 0)(xi),x) + (2*P.m +1 .- x .^2) .* ( 2*P.m*map(xi->D(PhyHermite(P.m-1), 0)(xi),x) - x .* map(xi->D(P, 0)(xi),x))"
   ]
  },
  {
   "cell_type": "code",
   "execution_count": 168,
   "metadata": {},
   "outputs": [
    {
     "data": {
      "text/plain": [
       "100-element Array{Float64,1}:\n",
       " -1.1368683772161603e-13\n",
       " -1.1368683772161603e-13\n",
       " -5.684341886080802e-14\n",
       "  2.2737367544323206e-13\n",
       "  2.2737367544323206e-13\n",
       " -2.2737367544323206e-13\n",
       "  0.0\n",
       "  0.0\n",
       "  8.526512829121202e-14\n",
       "  0.0\n",
       " -2.2737367544323206e-13\n",
       "  0.0\n",
       " -1.1368683772161603e-13\n",
       "  ⋮\n",
       " -1.1368683772161603e-13\n",
       " -1.1368683772161603e-13\n",
       " -5.684341886080802e-14\n",
       "  2.2737367544323206e-13\n",
       "  1.1368683772161603e-13\n",
       " -5.684341886080802e-14\n",
       "  8.526512829121202e-14\n",
       " -5.115907697472721e-13\n",
       "  0.0\n",
       "  5.684341886080802e-14\n",
       "  4.547473508864641e-13\n",
       " -1.1368683772161603e-13"
      ]
     },
     "execution_count": 168,
     "metadata": {},
     "output_type": "execute_result"
    }
   ],
   "source": [
    "map(xi->D(P, 3)(xi),x) - (-2*P.m*(2*P.m +1 .- x .^2) .* map(xi->D(PhyHermite(P.m-1), 0)(xi),x) + (2*P.m +3 .- x .^2) .*x .* map(xi->D(P, 0)(xi),x))"
   ]
  },
  {
   "cell_type": "markdown",
   "metadata": {},
   "source": [
    "### 1D example"
   ]
  },
  {
   "cell_type": "code",
   "execution_count": 85,
   "metadata": {},
   "outputs": [
    {
     "data": {
      "text/plain": [
       "ExpandedFunction(5, 1, 3, MultiBasis(Basis of 5 functions: Constant -> 3th degree Probabilistic Hermite function\n",
       ", 3), [0 0 0], [-0.9198501466955125])"
      ]
     },
     "execution_count": 85,
     "metadata": {},
     "output_type": "execute_result"
    }
   ],
   "source": [
    "    Nx = 3\n",
    "    Ne = 500\n",
    "    ens = EnsembleState(Nx, Ne)\n",
    "    ens.S .= randn(Nx, Ne)\n",
    "\n",
    "    B = MultiBasis(CstProHermite(3), Nx)\n",
    "\n",
    "    idx = [0 0 0]\n",
    "    truncidx = idx[1:2:end,:]\n",
    "    coeff =  randn(size(idx,1))\n",
    "\n",
    "    f = ExpandedFunction(B, idx, coeff)"
   ]
  },
  {
   "cell_type": "code",
   "execution_count": 86,
   "metadata": {},
   "outputs": [
    {
     "data": {
      "text/plain": [
       "500×3 Array{Float64,2}:\n",
       " 0.0  0.0  0.0\n",
       " 0.0  0.0  0.0\n",
       " 0.0  0.0  0.0\n",
       " 0.0  0.0  0.0\n",
       " 0.0  0.0  0.0\n",
       " 0.0  0.0  0.0\n",
       " 0.0  0.0  0.0\n",
       " 0.0  0.0  0.0\n",
       " 0.0  0.0  0.0\n",
       " 0.0  0.0  0.0\n",
       " 0.0  0.0  0.0\n",
       " 0.0  0.0  0.0\n",
       " 0.0  0.0  0.0\n",
       " ⋮         \n",
       " 0.0  0.0  0.0\n",
       " 0.0  0.0  0.0\n",
       " 0.0  0.0  0.0\n",
       " 0.0  0.0  0.0\n",
       " 0.0  0.0  0.0\n",
       " 0.0  0.0  0.0\n",
       " 0.0  0.0  0.0\n",
       " 0.0  0.0  0.0\n",
       " 0.0  0.0  0.0\n",
       " 0.0  0.0  0.0\n",
       " 0.0  0.0  0.0\n",
       " 0.0  0.0  0.0"
      ]
     },
     "execution_count": 86,
     "metadata": {},
     "output_type": "execute_result"
    }
   ],
   "source": [
    "dxdxkψ = grad_x_grad_xd(f, ens.S, f.idx)"
   ]
  },
  {
   "cell_type": "code",
   "execution_count": 87,
   "metadata": {},
   "outputs": [
    {
     "data": {
      "text/plain": [
       "3×3 Array{Float64,2}:\n",
       " 0.0  0.0  0.0\n",
       " 0.0  0.0  0.0\n",
       " 0.0  0.0  0.0"
      ]
     },
     "execution_count": 87,
     "metadata": {},
     "output_type": "execute_result"
    }
   ],
   "source": [
    "dxdxkψ_t = ForwardDiff.hessian(f, member(ens,1))"
   ]
  },
  {
   "cell_type": "code",
   "execution_count": 88,
   "metadata": {},
   "outputs": [],
   "source": [
    "for i=1:Ne\n",
    "    dxdxkψ_t = ForwardDiff.hessian(f, member(ens,i))\n",
    "    for j=1:Nx\n",
    "        @test abs(dxdxkψ[i,j] - dxdxkψ_t[j,end])<1e-10\n",
    "    end\n",
    "end "
   ]
  },
  {
   "cell_type": "markdown",
   "metadata": {},
   "source": [
    "### Test Hessian of the log π(x)"
   ]
  },
  {
   "cell_type": "code",
   "execution_count": 30,
   "metadata": {},
   "outputs": [],
   "source": [
    "Nx = 2\n",
    "Ne = 8\n",
    "m = 10\n",
    "\n",
    "X = randn(Nx, Ne)\n",
    "\n",
    "idx = [0 0; 0 1; 1 0; 1 1; 1 2]\n",
    "coeff =   [0.6285037650645056;\n",
    " -0.4744029092496623;\n",
    "  1.1405280011620331;\n",
    " -0.7217760771894809;\n",
    "  0.11855056306742319];\n",
    "\n",
    "C = MapComponent(m, Nx, idx, coeff);"
   ]
  },
  {
   "cell_type": "code",
   "execution_count": 34,
   "metadata": {},
   "outputs": [
    {
     "data": {
      "text/plain": [
       "8×5×2 Array{Float64,3}:\n",
       "[:, :, 1] =\n",
       " 0.0  0.0  -0.207296    -0.130929     0.00117735\n",
       " 0.0  0.0  -0.216523    -0.134105     0.0375507\n",
       " 0.0  0.0   0.00618292   0.00360034   0.00205305\n",
       " 0.0  0.0  -0.199714    -0.0830991   -0.107373\n",
       " 0.0  0.0   0.209274     0.0991538   -0.106331\n",
       " 0.0  0.0  -0.236677    -0.10036     -0.126702\n",
       " 0.0  0.0  -0.270316    -0.120917     0.142049\n",
       " 0.0  0.0  -0.0785179   -0.0495593    0.00259814\n",
       "\n",
       "[:, :, 2] =\n",
       " 0.0   0.00283979  0.0   0.00155384  0.345581\n",
       " 0.0   0.0867129   0.0   0.0465448   0.31942\n",
       " 0.0  -0.166026    0.0  -0.104855    0.307967\n",
       " 0.0  -0.268816    0.0  -0.149159    0.0381479\n",
       " 0.0   0.254048    0.0   0.138466    0.109751\n",
       " 0.0  -0.26767     0.0  -0.064575    0.0207737\n",
       " 0.0   0.262746    0.0   0.0959916   0.0506544\n",
       " 0.0   0.0165449   0.0   0.0102847   0.391819"
      ]
     },
     "execution_count": 34,
     "metadata": {},
     "output_type": "execute_result"
    }
   ],
   "source": [
    "dψ_basis = grad_x_basis(C.I.f.f, X)"
   ]
  },
  {
   "cell_type": "code",
   "execution_count": 41,
   "metadata": {},
   "outputs": [
    {
     "data": {
      "text/plain": [
       "8-element Array{Float64,1}:\n",
       "  0.03850011681624252\n",
       " -0.036864339594153354\n",
       "  0.19095459274793916\n",
       "  0.23970874743411022\n",
       " -0.20745155095311177\n",
       "  0.17605463803346075\n",
       " -0.18792702339659972\n",
       "  0.03117818085903034"
      ]
     },
     "execution_count": 41,
     "metadata": {},
     "output_type": "execute_result"
    }
   ],
   "source": [
    "dxlogDJ = zeros(Ne, Nx)\n",
    "\n",
    "ψoffdψxd = grad_xd(C.I.f.f, X)"
   ]
  },
  {
   "cell_type": "code",
   "execution_count": 50,
   "metadata": {},
   "outputs": [
    {
     "data": {
      "text/plain": [
       "8×2 Array{Float64,2}:\n",
       " -0.0150962    0.275081\n",
       " -0.00172344   0.272766\n",
       "  0.00109835   0.191537\n",
       " -0.0403773   -0.00821251\n",
       " -0.0333779    0.127178\n",
       " -0.0481415    0.0110568\n",
       "  0.0468207    0.0774556\n",
       " -0.00492957   0.294571"
      ]
     },
     "execution_count": 50,
     "metadata": {},
     "output_type": "execute_result"
    }
   ],
   "source": [
    "grad_x_grad_xd(C.I.f.f, X, C.I.f.f.idx)"
   ]
  },
  {
   "cell_type": "code",
   "execution_count": 51,
   "metadata": {},
   "outputs": [
    {
     "data": {
      "text/plain": [
       "8-element Array{Float64,1}:\n",
       "  0.27508054698884865\n",
       "  0.2727658334063561\n",
       "  0.19153741860252596\n",
       " -0.008212514607585927\n",
       "  0.12717812747627785\n",
       "  0.01105679171823458\n",
       "  0.07745559049870646\n",
       "  0.29457111787580165"
      ]
     },
     "execution_count": 51,
     "metadata": {},
     "output_type": "execute_result"
    }
   ],
   "source": [
    "hess_xd(C.I.f.f, X)"
   ]
  },
  {
   "cell_type": "code",
   "execution_count": 52,
   "metadata": {},
   "outputs": [
    {
     "data": {
      "text/plain": [
       "2×2 Array{Float64,2}:\n",
       " -0.13341    -0.0150962\n",
       " -0.0150962   0.275081"
      ]
     },
     "execution_count": 52,
     "metadata": {},
     "output_type": "execute_result"
    }
   ],
   "source": [
    "dxdxkψx_t = ForwardDiff.hessian(C.I.f.f, X[:,1])"
   ]
  },
  {
   "cell_type": "code",
   "execution_count": null,
   "metadata": {},
   "outputs": [],
   "source": []
  },
  {
   "cell_type": "code",
   "execution_count": null,
   "metadata": {},
   "outputs": [],
   "source": [
    "evaluate()"
   ]
  },
  {
   "cell_type": "code",
   "execution_count": 16,
   "metadata": {},
   "outputs": [
    {
     "data": {
      "text/plain": [
       "8-element Array{Float64,1}:\n",
       " -1.890933371333304\n",
       " -1.0774421758804786\n",
       " -1.3812358207093065\n",
       " -2.756566903253647\n",
       " -2.2764943782683207\n",
       " -3.268114225886461\n",
       " -0.9741216255311081\n",
       " -1.442529469931936"
      ]
     },
     "execution_count": 16,
     "metadata": {},
     "output_type": "execute_result"
    }
   ],
   "source": [
    "log_pdf(C, X)"
   ]
  },
  {
   "cell_type": "code",
   "execution_count": 18,
   "metadata": {},
   "outputs": [
    {
     "data": {
      "text/plain": [
       "8-element Array{Float64,1}:\n",
       " -1.3182090265735815\n",
       "  0.5518744832820461\n",
       "  1.0207836492619973\n",
       "  1.969508900840876\n",
       "  1.7095646000932772\n",
       "  2.2193925767103297\n",
       "  0.06731649217667446\n",
       "  1.0856697228586412"
      ]
     },
     "execution_count": 18,
     "metadata": {},
     "output_type": "execute_result"
    }
   ],
   "source": [
    "Cx = evaluate(C, X)"
   ]
  },
  {
   "cell_type": "code",
   "execution_count": 22,
   "metadata": {},
   "outputs": [
    {
     "data": {
      "text/plain": [
       "5×2 Array{Int64,2}:\n",
       " 0  0\n",
       " 0  1\n",
       " 1  0\n",
       " 1  1\n",
       " 1  2"
      ]
     },
     "execution_count": 22,
     "metadata": {},
     "output_type": "execute_result"
    }
   ],
   "source": [
    "getidx(C)"
   ]
  },
  {
   "cell_type": "code",
   "execution_count": 21,
   "metadata": {},
   "outputs": [
    {
     "data": {
      "text/plain": [
       "5-element Array{Float64,1}:\n",
       "  0.6285037650645056\n",
       " -0.4744029092496623\n",
       "  1.1405280011620331\n",
       " -0.7217760771894809\n",
       "  0.11855056306742319"
      ]
     },
     "execution_count": 21,
     "metadata": {},
     "output_type": "execute_result"
    }
   ],
   "source": [
    "getcoeff(C)"
   ]
  },
  {
   "cell_type": "code",
   "execution_count": 23,
   "metadata": {},
   "outputs": [
    {
     "data": {
      "text/plain": [
       "8×5×2 Array{Float64,3}:\n",
       "[:, :, 1] =\n",
       " 0.0  0.0   0.107478    0.0190908  -0.043005\n",
       " 0.0  0.0   0.0865389   0.0541193  -0.0107887\n",
       " 0.0  0.0   0.138011    0.0855902   0.0231549\n",
       " 0.0  0.0  -0.270698   -0.113793   -0.145219\n",
       " 0.0  0.0  -0.259926   -0.128072   -0.127645\n",
       " 0.0  0.0  -0.225594   -0.0869868  -0.122217\n",
       " 0.0  0.0  -0.266312   -0.155186    0.0881003\n",
       " 0.0  0.0   0.261878    0.157944    0.0678763\n",
       "\n",
       "[:, :, 2] =\n",
       " 0.0   0.200064   0.0   0.122532   -0.167233\n",
       " 0.0   0.0623342  0.0   0.0386104   0.379666\n",
       " 0.0  -0.0838875  0.0  -0.0502452   0.357862\n",
       " 0.0  -0.268231   0.0  -0.105483    0.0306983\n",
       " 0.0  -0.24554    0.0  -0.112246    0.113373\n",
       " 0.0  -0.270878   0.0  -0.142266    0.00262786\n",
       " 0.0   0.165408   0.0   0.0714071   0.211025\n",
       " 0.0  -0.129595   0.0  -0.0583847   0.246624"
      ]
     },
     "execution_count": 23,
     "metadata": {},
     "output_type": "execute_result"
    }
   ],
   "source": [
    "dψ = grad_x_basis(C.I.f.f, X)"
   ]
  },
  {
   "cell_type": "code",
   "execution_count": 24,
   "metadata": {},
   "outputs": [
    {
     "data": {
      "text/plain": [
       "8×5×2×2 Array{Float64,4}:\n",
       "[:, :, 1, 1] =\n",
       " 0.0  0.0  -0.287372   -0.0510446    0.114986\n",
       " 0.0  0.0  -0.297614   -0.18612      0.0371031\n",
       " 0.0  0.0  -0.267679   -0.166006    -0.0449099\n",
       " 0.0  0.0  -0.0102897  -0.00432547  -0.00552002\n",
       " 0.0  0.0  -0.0807765  -0.0398007   -0.0396678\n",
       " 0.0  0.0  -0.1657     -0.0638922   -0.089769\n",
       " 0.0  0.0  -0.0515665  -0.030049     0.0170591\n",
       " 0.0  0.0  -0.0730321  -0.0440471   -0.0189292\n",
       "\n",
       "[:, :, 2, 1] =\n",
       " 0.0   0.0   0.0   0.0215025   -0.0293467\n",
       " 0.0   0.0   0.0   0.00539434   0.0530439\n",
       " 0.0  -0.0   0.0  -0.0115774    0.0824581\n",
       " 0.0  -0.0  -0.0   0.0726096   -0.0211313\n",
       " 0.0  -0.0  -0.0   0.0638224   -0.0644633\n",
       " 0.0  -0.0  -0.0   0.0611086   -0.00112877\n",
       " 0.0   0.0  -0.0  -0.0440502   -0.130179\n",
       " 0.0  -0.0   0.0  -0.0339381    0.143359\n",
       "\n",
       "[:, :, 1, 2] =\n",
       " 0.0   0.0   0.0   0.0215025   -0.0293467\n",
       " 0.0   0.0   0.0   0.00539434   0.0530439\n",
       " 0.0  -0.0   0.0  -0.0115774    0.0824581\n",
       " 0.0  -0.0  -0.0   0.0726096   -0.0211313\n",
       " 0.0  -0.0  -0.0   0.0638224   -0.0644633\n",
       " 0.0  -0.0  -0.0   0.0611086   -0.00112877\n",
       " 0.0   0.0  -0.0  -0.0440502   -0.130179\n",
       " 0.0  -0.0   0.0  -0.0339381    0.143359\n",
       "\n",
       "[:, :, 2, 2] =\n",
       " 0.0   0.136524    0.0   0.0836164    0.056706\n",
       " 0.0  -0.306474    0.0  -0.189833     0.115064\n",
       " 0.0  -0.298736    0.0  -0.178931    -0.148897\n",
       " 0.0  -0.0390312   0.0  -0.0153491   -0.230553\n",
       " 0.0  -0.124003    0.0  -0.0566865   -0.280989\n",
       " 0.0  -0.00250176  0.0  -0.00131393  -0.286378\n",
       " 0.0  -0.24441     0.0  -0.105512     0.202714\n",
       " 0.0  -0.273713    0.0  -0.123312    -0.169763"
      ]
     },
     "execution_count": 24,
     "metadata": {},
     "output_type": "execute_result"
    }
   ],
   "source": [
    "d2ψ = hess_x_basis(C.I.f.f, X)"
   ]
  },
  {
   "cell_type": "markdown",
   "metadata": {},
   "source": [
    "### Integration"
   ]
  },
  {
   "cell_type": "code",
   "execution_count": 20,
   "metadata": {},
   "outputs": [],
   "source": [
    "Nx = 100\n",
    "Ny = 50\n",
    "m = 20\n",
    "Ne = 400\n",
    "X = randn(Nx, Ne).*randn(Nx, Ne) #.+ 0.5*randn(Nx).*cos.(randn(Nx, Ne) .* randn(Nx, Ne))\n",
    "\n",
    "# L = LinearTransform(X)\n",
    "# transform!(L, X);\n",
    "# C = MapComponent(m, Nx)\n",
    "# @time C, _ = optimize(C, X, 10)"
   ]
  },
  {
   "cell_type": "code",
   "execution_count": 24,
   "metadata": {},
   "outputs": [],
   "source": [
    "M = HermiteMap(m, X);"
   ]
  },
  {
   "cell_type": "code",
   "execution_count": 25,
   "metadata": {
    "scrolled": true
   },
   "outputs": [
    {
     "name": "stdout",
     "output_type": "stream",
     "text": [
      "  9.550136 seconds (42.61 M allocations: 13.653 GiB, 7.59% gc time)\n"
     ]
    }
   ],
   "source": [
    "@time M_noqr = optimize(M, X, 10; P = serial, start = Ny+1);"
   ]
  },
  {
   "cell_type": "code",
   "execution_count": 26,
   "metadata": {},
   "outputs": [
    {
     "name": "stdout",
     "output_type": "stream",
     "text": [
      " 18.997304 seconds (45.81 M allocations: 21.111 GiB, 4.17% gc time)\n"
     ]
    }
   ],
   "source": [
    "@time M_qr = optimize(M, X, 10; P = serial, withqr = true, start = Ny+1);"
   ]
  },
  {
   "cell_type": "code",
   "execution_count": 31,
   "metadata": {},
   "outputs": [
    {
     "data": {
      "text/plain": [
       "timing (generic function with 1 method)"
      ]
     },
     "execution_count": 31,
     "metadata": {},
     "output_type": "execute_result"
    }
   ],
   "source": [
    "function timing()\n",
    "    M = HermiteMap(m, X)\n",
    "    @btime begin \n",
    "        optimize($M, $X, $10; P = serial, withqr = false, start = Ny+1)\n",
    "    end\n",
    "    \n",
    "    @btime begin \n",
    "        optimize($M, $X, $10; P = serial, withqr = true, start = Ny+1)\n",
    "    end\n",
    "end"
   ]
  },
  {
   "cell_type": "code",
   "execution_count": 32,
   "metadata": {},
   "outputs": [
    {
     "name": "stdout",
     "output_type": "stream",
     "text": [
      "  11.257 s (42606958 allocations: 13.65 GiB)\n",
      "  21.346 s (45813192 allocations: 21.12 GiB)\n"
     ]
    }
   ],
   "source": [
    "timing();"
   ]
  },
  {
   "cell_type": "code",
   "execution_count": 11,
   "metadata": {},
   "outputs": [
    {
     "name": "stdout",
     "output_type": "stream",
     "text": [
      "  14.597 s (42433511 allocations: 13.37 GiB)\n"
     ]
    }
   ],
   "source": [
    "timing();"
   ]
  },
  {
   "cell_type": "code",
   "execution_count": 29,
   "metadata": {},
   "outputs": [
    {
     "name": "stdout",
     "output_type": "stream",
     "text": [
      "  973.450 ms (1054425 allocations: 1.43 GiB)\n"
     ]
    }
   ],
   "source": [
    "timing();"
   ]
  },
  {
   "cell_type": "code",
   "execution_count": 14,
   "metadata": {},
   "outputs": [
    {
     "data": {
      "text/html": [
       "# 1 method for generic function <b>update_component</b>:<ul><li> update_component(C::<b>MapComponent</b>, X, reduced_margin::<b>Array{Int64,2}</b>, S::<b>Storage</b>) in AdaptiveTransportMap at <a href=\"https://github.com/mleprovost/AdaptiveTransportMap/tree/83d05ec2a279bc06ffd1b1aeb054f4628721f1e9//src/mapcomponent/greedyfit.jl#L234\" target=\"_blank\">/media/mat/HDD/AdaptiveTransportMap/src/mapcomponent/greedyfit.jl:249</a></li> </ul>"
      ],
      "text/plain": [
       "# 1 method for generic function \"update_component\":\n",
       "[1] update_component(C::MapComponent, X, reduced_margin::Array{Int64,2}, S::Storage) in AdaptiveTransportMap at /media/mat/HDD/AdaptiveTransportMap/src/mapcomponent/greedyfit.jl:249"
      ]
     },
     "execution_count": 14,
     "metadata": {},
     "output_type": "execute_result"
    }
   ],
   "source": [
    "methods(update_component)"
   ]
  },
  {
   "cell_type": "code",
   "execution_count": 30,
   "metadata": {},
   "outputs": [
    {
     "data": {
      "text/plain": [
       "timing (generic function with 1 method)"
      ]
     },
     "execution_count": 30,
     "metadata": {},
     "output_type": "execute_result"
    }
   ],
   "source": [
    "function timing()\n",
    "    @btime begin \n",
    "        M = HermiteMap($m, $X)\n",
    "        optimize($M, $X, $10; P = thread)\n",
    "    end\n",
    "end"
   ]
  },
  {
   "cell_type": "code",
   "execution_count": 88,
   "metadata": {},
   "outputs": [
    {
     "name": "stdout",
     "output_type": "stream",
     "text": [
      "  297.730 ms (1000725 allocations: 1.35 GiB)\n"
     ]
    }
   ],
   "source": [
    "timing();"
   ]
  },
  {
   "cell_type": "markdown",
   "metadata": {},
   "source": [
    "### Test optimization with QR"
   ]
  },
  {
   "cell_type": "code",
   "execution_count": 45,
   "metadata": {},
   "outputs": [
    {
     "data": {
      "text/plain": [
       "\u001b[32m\u001b[1mTest Passed\u001b[22m\u001b[39m"
      ]
     },
     "execution_count": 45,
     "metadata": {},
     "output_type": "execute_result"
    }
   ],
   "source": [
    "Nx = 3\n",
    "Ne = 8\n",
    "m = 20\n",
    "\n",
    "idx = [0 0 0; 0 0 1; 0 1 0; 0 1 1; 0 1 2; 1 0 0]\n",
    "\n",
    "\n",
    "Nψ = 6\n",
    "coeff = [ 0.20649582065364197;\n",
    "         -0.5150990160472986;\n",
    "          2.630096893080717;\n",
    "          1.13653076177397;\n",
    "          0.6725837371023421;\n",
    "         -1.3126095306624133]\n",
    "C = MapComponent(m, Nx, idx, coeff; α = 1e-6);\n",
    "\n",
    "Ne = 100\n",
    "\n",
    "\n",
    "# The QR decomposition is not unique!\n",
    "\n",
    "X = randn(Nx, Ne) .* randn(Nx, Ne) + cos.(randn(Nx, Ne)) .* exp.(-randn(Nx, Ne).^2)\n",
    "\n",
    "L = LinearTransform(X)\n",
    "transform!(L, X)\n",
    "S = Storage(C.I.f, X)\n",
    "F = QRscaling(S)\n",
    "newidx = [1 1 1]\n",
    "\n",
    "Snew = update_storage(S, X, newidx)\n",
    "Fupdated = updateQRscaling(F, Snew)\n",
    "\n",
    "Fnew = QRscaling(Snew)\n",
    "\n",
    "@test norm(Fupdated.D - Fnew.D)<1e-8\n",
    "@test norm(Fupdated.Dinv - Fnew.Dinv)<1e-8"
   ]
  }
 ],
 "metadata": {
  "kernelspec": {
   "display_name": "Julia 1.5.0",
   "language": "julia",
   "name": "julia-1.5"
  },
  "language_info": {
   "file_extension": ".jl",
   "mimetype": "application/julia",
   "name": "julia",
   "version": "1.5.0"
  }
 },
 "nbformat": 4,
 "nbformat_minor": 2
}
