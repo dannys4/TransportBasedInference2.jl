{
 "cells": [
  {
   "cell_type": "code",
   "execution_count": 5,
   "metadata": {},
   "outputs": [
    {
     "name": "stderr",
     "output_type": "stream",
     "text": [
      "\u001b[32m\u001b[1m Activating\u001b[22m\u001b[39m environment at `/media/mat/HDD/AdaptiveTransportMap/Project.toml`\n"
     ]
    }
   ],
   "source": [
    "using Pkg\n",
    "Pkg.activate(\"/media/mat/HDD/AdaptiveTransportMap/\")"
   ]
  },
  {
   "cell_type": "code",
   "execution_count": 6,
   "metadata": {
    "scrolled": false
   },
   "outputs": [
    {
     "name": "stderr",
     "output_type": "stream",
     "text": [
      "┌ Info: Precompiling AdaptiveTransportMap [bdf749b0-1400-4207-80d3-e689c0e3f03d]\n",
      "└ @ Base loading.jl:1278\n",
      "┌ Warning: Type annotations on keyword arguments not currently supported in recipes. Type information has been discarded\n",
      "└ @ RecipesBase ~/.julia/packages/RecipesBase/AN696/src/RecipesBase.jl:117\n"
     ]
    }
   ],
   "source": [
    "using Revise\n",
    "using AdaptiveTransportMap\n",
    "using LinearAlgebra\n",
    "import LinearAlgebra: ldiv!, dot\n",
    "using Test\n",
    "using ForwardDiff\n",
    "using SpecialFunctions\n",
    "using BenchmarkTools\n",
    "using TransportMap\n",
    "using QuadGK\n",
    "using Polynomials\n",
    "using Distributions\n",
    "using Random\n",
    "using LoopVectorization\n",
    "using Optim\n",
    "using NLsolve\n",
    "using MLDataUtils\n",
    "using MLDataPattern\n",
    "using Test\n",
    "using SparseArrays\n",
    "using QRupdate\n",
    "using AdaptiveTransportMap: vander, transform!, evaluate, ncoeff, optimize, negative_log_likelihood!, derivative\n",
    "using Quadrature\n",
    "using Cubature\n",
    "# using Profile\n",
    "# using ProfileView"
   ]
  },
  {
   "cell_type": "markdown",
   "metadata": {},
   "source": [
    "### 1D example"
   ]
  },
  {
   "cell_type": "code",
   "execution_count": 219,
   "metadata": {},
   "outputs": [],
   "source": [
    "Nx = 4\n",
    "Ne = 500\n",
    "X = randn(Nx, Ne)\n",
    "ens = EnsembleState(X)\n",
    "m = 10\n",
    "B = MultiBasis(CstProHermite(3), Nx)\n",
    "\n",
    "idx = [0 0 0 0; 0 2 0 1; 0 2 3 0; 2 0 2 1; 0 0 1 2; 1 2 0 2;3 2 2 2]\n",
    "\n",
    "coeff =  randn(size(idx,1))\n",
    "\n",
    "C = MapComponent(m, Nx, idx, coeff)\n",
    "S = Storage(C.I.f, X);\n",
    "R = C.I;"
   ]
  },
  {
   "cell_type": "code",
   "execution_count": 220,
   "metadata": {},
   "outputs": [
    {
     "name": "stdout",
     "output_type": "stream",
     "text": [
      "  0.001127 seconds (953 allocations: 7.733 MiB)\n"
     ]
    },
    {
     "data": {
      "text/plain": [
       "500×4×4 Array{Float64,3}:\n",
       "[:, :, 1] =\n",
       " -0.10532     0.0  0.0   0.00518477\n",
       " -0.0823364   0.0  0.0  -0.018288\n",
       " -0.084217    0.0  0.0   0.0033643\n",
       " -0.0418507   0.0  0.0  -0.00720991\n",
       "  0.0665937   0.0  0.0   0.0275316\n",
       "  0.0153718   0.0  0.0  -0.0178412\n",
       "  0.126472    0.0  0.0   0.0306717\n",
       " -0.086747    0.0  0.0   0.0230766\n",
       "  0.134384    0.0  0.0  -0.00984135\n",
       "  0.0130801   0.0  0.0   0.0062637\n",
       " -0.0370786   0.0  0.0   0.02353\n",
       "  0.115376    0.0  0.0  -0.0267563\n",
       " -0.0562928   0.0  0.0  -0.0120922\n",
       "  ⋮                     \n",
       "  0.140134    0.0  0.0   0.0387605\n",
       " -0.0467703   0.0  0.0  -0.00823595\n",
       " -0.0736492   0.0  0.0   0.00894142\n",
       " -0.0551225   0.0  0.0   0.00424797\n",
       "  0.00809251  0.0  0.0  -0.00105892\n",
       " -0.102967    0.0  0.0  -0.0253794\n",
       "  0.0905319   0.0  0.0   0.0153992\n",
       "  0.0365801   0.0  0.0  -0.0414786\n",
       "  0.0612739   0.0  0.0   0.0270966\n",
       "  0.0709517   0.0  0.0  -0.0318787\n",
       "  0.110182    0.0  0.0  -0.0173336\n",
       " -0.055363    0.0  0.0  -0.0225103\n",
       "\n",
       "[:, :, 2] =\n",
       " 0.0   0.0659632   0.0   0.00328685\n",
       " 0.0  -0.0581      0.0  -0.0104328\n",
       " 0.0  -0.036659    0.0  -0.00673035\n",
       " 0.0  -0.0545524   0.0  -0.00490924\n",
       " 0.0  -0.00118483  0.0  -0.0872582\n",
       " 0.0   0.0695065   0.0   0.00253769\n",
       " 0.0   0.0218419   0.0  -0.0498346\n",
       " 0.0  -0.0154939   0.0  -0.0894977\n",
       " 0.0  -0.102966    0.0  -0.051993\n",
       " 0.0   0.00583267  0.0  -0.00534825\n",
       " 0.0  -0.0286799   0.0  -0.0653134\n",
       " 0.0  -0.00528464  0.0  -0.0229041\n",
       " 0.0   0.0321479   0.0  -0.0593012\n",
       " ⋮                      \n",
       " 0.0  -0.113073    0.0  -0.0661498\n",
       " 0.0  -0.0191427   0.0  -0.00051546\n",
       " 0.0   0.0234004   0.0   0.0217776\n",
       " 0.0  -0.00938078  0.0   0.0285057\n",
       " 0.0   0.0590496   0.0  -0.0341201\n",
       " 0.0  -0.0195045   0.0  -0.0292232\n",
       " 0.0   0.0417214   0.0   0.00179324\n",
       " 0.0  -0.00748451  0.0   0.0203356\n",
       " 0.0  -0.0391194   0.0  -0.0218764\n",
       " 0.0   0.124485    0.0  -0.0116996\n",
       " 0.0   0.0139107   0.0  -0.0793773\n",
       " 0.0  -0.141121    0.0  -0.0371973\n",
       "\n",
       "[:, :, 3] =\n",
       " 0.0  0.0  -0.179478     0.0177803\n",
       " 0.0  0.0   0.00805693   0.0232809\n",
       " 0.0  0.0  -0.131255    -0.0271082\n",
       " 0.0  0.0   0.146142    -0.00441451\n",
       " 0.0  0.0   0.0229924    0.0144418\n",
       " 0.0  0.0   0.133117     0.000100966\n",
       " 0.0  0.0   0.179284     0.0251878\n",
       " 0.0  0.0  -0.0940112    0.00625894\n",
       " 0.0  0.0   0.0696371   -0.0208338\n",
       " 0.0  0.0   0.164097     0.0168578\n",
       " 0.0  0.0  -0.129523    -0.010089\n",
       " 0.0  0.0   0.0511507   -0.000866025\n",
       " 0.0  0.0  -0.00838983   0.00103495\n",
       " ⋮                      \n",
       " 0.0  0.0  -0.012595     0.0203297\n",
       " 0.0  0.0   0.0355734    0.0355356\n",
       " 0.0  0.0   0.0320003    0.00827547\n",
       " 0.0  0.0   0.0224151   -0.0239609\n",
       " 0.0  0.0   0.0802155    0.010172\n",
       " 0.0  0.0  -0.104955    -0.00860845\n",
       " 0.0  0.0  -0.0541119    0.0207599\n",
       " 0.0  0.0  -0.0883947   -0.00588389\n",
       " 0.0  0.0   0.197557    -0.00990017\n",
       " 0.0  0.0   0.12631     -0.00282685\n",
       " 0.0  0.0   0.0907871   -0.0173222\n",
       " 0.0  0.0  -0.0757488    0.0198075\n",
       "\n",
       "[:, :, 4] =\n",
       "  0.00518477   0.00328685   0.0177803    -0.00669012\n",
       " -0.018288    -0.0104328    0.0232809    -0.109994\n",
       "  0.0033643   -0.00673035  -0.0271082     0.0126728\n",
       " -0.00720991  -0.00490924  -0.00441451   -0.145329\n",
       "  0.0275316   -0.0872582    0.0144418     0.0678634\n",
       " -0.0178412    0.00253769   0.000100966   0.118958\n",
       "  0.0306717   -0.0498346    0.0251878     0.0866739\n",
       "  0.0230766   -0.0894977    0.00625894    5.13959e-6\n",
       " -0.00984135  -0.051993    -0.0208338    -0.00788123\n",
       "  0.0062637   -0.00534825   0.0168578    -0.0322469\n",
       "  0.02353     -0.0653134   -0.010089      0.00529859\n",
       " -0.0267563   -0.0229041   -0.000866025   0.0458396\n",
       " -0.0120922   -0.0593012    0.00103495    0.0602767\n",
       "  ⋮                                      \n",
       "  0.0387605   -0.0661498    0.0203297     0.0263401\n",
       " -0.00823595  -0.00051546   0.0355356    -0.0980077\n",
       "  0.00894142   0.0217776    0.00827547    0.0666285\n",
       "  0.00424797   0.0285057   -0.0239609    -0.0161972\n",
       " -0.00105892  -0.0341201    0.010172      0.0791389\n",
       " -0.0253794   -0.0292232   -0.00860845    0.0430647\n",
       "  0.0153992    0.00179324   0.0207599     0.0321352\n",
       " -0.0414786    0.0203356   -0.00588389    0.0215857\n",
       "  0.0270966   -0.0218764   -0.00990017   -0.0832274\n",
       " -0.0318787   -0.0116996   -0.00282685    0.050299\n",
       " -0.0173336   -0.0793773   -0.0173222     0.0317702\n",
       " -0.0225103   -0.0371973    0.0198075    -0.00764613"
      ]
     },
     "execution_count": 220,
     "metadata": {},
     "output_type": "execute_result"
    }
   ],
   "source": [
    "@time H = hess_x(C.I, X)"
   ]
  },
  {
   "cell_type": "code",
   "execution_count": 200,
   "metadata": {},
   "outputs": [
    {
     "data": {
      "text/plain": [
       "4×4 Array{Float64,2}:\n",
       " 0.0915431    0.00750387   0.193767    0.0390633\n",
       " 0.00750387   0.257496     0.127707   -0.0633798\n",
       " 0.193767     0.127707    -0.462525   -0.0127379\n",
       " 0.0390633   -0.0633798   -0.0127379   0.293287"
      ]
     },
     "execution_count": 200,
     "metadata": {},
     "output_type": "execute_result"
    }
   ],
   "source": [
    "ForwardDiff.hessian(x->R.f.f(x), member(ens, 1))"
   ]
  },
  {
   "cell_type": "code",
   "execution_count": 201,
   "metadata": {},
   "outputs": [
    {
     "data": {
      "text/plain": [
       "4×4 Array{Float64,2}:\n",
       " 0.0200897  0.0         0.215532  0.0\n",
       " 0.0        0.0919115   0.130713  0.0\n",
       " 0.215532   0.130713   -0.451732  0.0\n",
       " 0.0        0.0         0.0       0.0"
      ]
     },
     "execution_count": 201,
     "metadata": {},
     "output_type": "execute_result"
    }
   ],
   "source": [
    "ForwardDiff.jacobian(x->ForwardDiff.gradient(y->begin\n",
    "            y[Nx] = 0.0\n",
    "            return R.f.f(y) end, x), vcat(member(ens, 1)[1:end-1], 0.0))"
   ]
  },
  {
   "cell_type": "code",
   "execution_count": 202,
   "metadata": {},
   "outputs": [
    {
     "data": {
      "text/plain": [
       "4×4 Array{Float64,2}:\n",
       " 0.0200897  0.0         0.215532  0.0\n",
       " 0.0        0.0919115   0.130713  0.0\n",
       " 0.215532   0.130713   -0.451732  0.0\n",
       " 0.0        0.0         0.0       0.0"
      ]
     },
     "execution_count": 202,
     "metadata": {},
     "output_type": "execute_result"
    }
   ],
   "source": [
    "ForwardDiff.jacobian(x->ForwardDiff.gradient(y->begin\n",
    "            y[Nx] = 0.0\n",
    "            return R.f.f(y) end, x), member(ens, 1))"
   ]
  },
  {
   "cell_type": "code",
   "execution_count": 203,
   "metadata": {},
   "outputs": [
    {
     "data": {
      "text/plain": [
       "4×4 Array{Float64,2}:\n",
       " 0.0200897  0.0         0.215532  0.0\n",
       " 0.0        0.0919115   0.130713  0.0\n",
       " 0.215532   0.130713   -0.451732  0.0\n",
       " 0.0        0.0         0.0       0.0"
      ]
     },
     "execution_count": 203,
     "metadata": {},
     "output_type": "execute_result"
    }
   ],
   "source": [
    "ForwardDiff.hessian(x->begin\n",
    "            x[Nx] = 0.0\n",
    "            return R.f.f(x) end, member(ens, 1))"
   ]
  },
  {
   "cell_type": "code",
   "execution_count": 204,
   "metadata": {},
   "outputs": [
    {
     "data": {
      "text/plain": [
       "4×4 Array{Float64,2}:\n",
       " 0.0578374   0.0         0.0          0.0200642\n",
       " 0.0         0.177948    0.0         -0.0325539\n",
       " 0.0         0.0        -0.457448    -0.00654263\n",
       " 0.0200642  -0.0325539  -0.00654263   0.150642"
      ]
     },
     "execution_count": 204,
     "metadata": {},
     "output_type": "execute_result"
    }
   ],
   "source": [
    "H[1,:,:]"
   ]
  },
  {
   "cell_type": "code",
   "execution_count": 205,
   "metadata": {},
   "outputs": [
    {
     "data": {
      "text/plain": [
       "4-element Array{Float64,1}:\n",
       "  0.08603063851938159\n",
       "  0.046285984415219236\n",
       " -0.23409222602729426\n",
       "  0.0"
      ]
     },
     "execution_count": 205,
     "metadata": {},
     "output_type": "execute_result"
    }
   ],
   "source": [
    "ForwardDiff.gradient(y->begin \n",
    "        y[end] = 0.0\n",
    "        return R.f.f(y) end, member(ens,1))"
   ]
  },
  {
   "cell_type": "code",
   "execution_count": 206,
   "metadata": {},
   "outputs": [
    {
     "data": {
      "text/plain": [
       "0.15926581110462468"
      ]
     },
     "execution_count": 206,
     "metadata": {},
     "output_type": "execute_result"
    }
   ],
   "source": [
    "R.f.f(member(ens,1))"
   ]
  },
  {
   "cell_type": "code",
   "execution_count": 207,
   "metadata": {},
   "outputs": [
    {
     "data": {
      "text/plain": [
       "4-element Array{Float64,1}:\n",
       "  0.020064216152224094\n",
       " -0.032553934767634844\n",
       " -0.006542625847028468\n",
       "  0.15064178521301513"
      ]
     },
     "execution_count": 207,
     "metadata": {},
     "output_type": "execute_result"
    }
   ],
   "source": [
    "ForwardDiff.gradient(z->R.g(ForwardDiff.gradient(y->R.f.f(y), z)[end]), member(ens,1))"
   ]
  },
  {
   "cell_type": "code",
   "execution_count": 208,
   "metadata": {},
   "outputs": [
    {
     "data": {
      "text/plain": [
       "Hessian! (generic function with 1 method)"
      ]
     },
     "execution_count": 208,
     "metadata": {},
     "output_type": "execute_result"
    }
   ],
   "source": [
    "Ht = zeros(Nx, Nx)\n",
    "function Hessian!(H, x)\n",
    "    fill!(H, 0.0)\n",
    "\n",
    "    H[1:Nx-1,1:Nx-1] .= ForwardDiff.hessian(y->begin\n",
    "                        y[Nx] = 0.0\n",
    "                        return R.f.f(y) end, x)[1:Nx-1,1:Nx-1]\n",
    "\n",
    "    # Hessian of the integral term\n",
    "    H[1:Nx-1,1:Nx-1] .+= (quadgk(t -> ForwardDiff.hessian(\n",
    "    z-> R.g(ForwardDiff.gradient(y->R.f.f(y), vcat(z[1:end-1], t))[end]), x),\n",
    "            0.0, x[end], rtol = 1e-3)[1])[1:Nx-1,1:Nx-1]\n",
    "\n",
    "    # H[Nx,:] and H[:,Nx]\n",
    "    H[:, Nx] .= ForwardDiff.gradient(z->R.g(ForwardDiff.gradient(y->R.f.f(y), z)[end]), x)\n",
    "    H[Nx, :] .= H[:, Nx]\n",
    "    return H\n",
    "end"
   ]
  },
  {
   "cell_type": "code",
   "execution_count": 221,
   "metadata": {},
   "outputs": [
    {
     "name": "stdout",
     "output_type": "stream",
     "text": [
      "  0.001482 seconds (1.66 k allocations: 901.766 KiB)\n"
     ]
    },
    {
     "data": {
      "text/plain": [
       "4×4 Array{Float64,2}:\n",
       " -0.10532     0.0125149    0.00796563   0.00518477\n",
       "  0.0125149   0.0659632    0.0273109    0.00328685\n",
       "  0.00796563  0.0273109   -0.179478     0.0177803\n",
       "  0.00518477  0.00328685   0.0177803   -0.00669012"
      ]
     },
     "execution_count": 221,
     "metadata": {},
     "output_type": "execute_result"
    }
   ],
   "source": [
    "@time Hessian!(Ht, member(ens,1))"
   ]
  },
  {
   "cell_type": "code",
   "execution_count": 222,
   "metadata": {},
   "outputs": [
    {
     "data": {
      "text/plain": [
       "4×4 Array{Float64,2}:\n",
       " -0.10532     0.0          0.0         0.00518477\n",
       "  0.0         0.0659632    0.0         0.00328685\n",
       "  0.0         0.0         -0.179478    0.0177803\n",
       "  0.00518477  0.00328685   0.0177803  -0.00669012"
      ]
     },
     "execution_count": 222,
     "metadata": {},
     "output_type": "execute_result"
    }
   ],
   "source": [
    "H[1,:,:]"
   ]
  },
  {
   "cell_type": "markdown",
   "metadata": {},
   "source": [
    "### Test Hessian of the log π(x)"
   ]
  },
  {
   "cell_type": "code",
   "execution_count": 30,
   "metadata": {},
   "outputs": [],
   "source": [
    "Nx = 2\n",
    "Ne = 8\n",
    "m = 10\n",
    "\n",
    "X = randn(Nx, Ne)\n",
    "\n",
    "idx = [0 0; 0 1; 1 0; 1 1; 1 2]\n",
    "coeff =   [0.6285037650645056;\n",
    " -0.4744029092496623;\n",
    "  1.1405280011620331;\n",
    " -0.7217760771894809;\n",
    "  0.11855056306742319];\n",
    "\n",
    "C = MapComponent(m, Nx, idx, coeff);"
   ]
  },
  {
   "cell_type": "code",
   "execution_count": 34,
   "metadata": {},
   "outputs": [
    {
     "data": {
      "text/plain": [
       "8×5×2 Array{Float64,3}:\n",
       "[:, :, 1] =\n",
       " 0.0  0.0  -0.207296    -0.130929     0.00117735\n",
       " 0.0  0.0  -0.216523    -0.134105     0.0375507\n",
       " 0.0  0.0   0.00618292   0.00360034   0.00205305\n",
       " 0.0  0.0  -0.199714    -0.0830991   -0.107373\n",
       " 0.0  0.0   0.209274     0.0991538   -0.106331\n",
       " 0.0  0.0  -0.236677    -0.10036     -0.126702\n",
       " 0.0  0.0  -0.270316    -0.120917     0.142049\n",
       " 0.0  0.0  -0.0785179   -0.0495593    0.00259814\n",
       "\n",
       "[:, :, 2] =\n",
       " 0.0   0.00283979  0.0   0.00155384  0.345581\n",
       " 0.0   0.0867129   0.0   0.0465448   0.31942\n",
       " 0.0  -0.166026    0.0  -0.104855    0.307967\n",
       " 0.0  -0.268816    0.0  -0.149159    0.0381479\n",
       " 0.0   0.254048    0.0   0.138466    0.109751\n",
       " 0.0  -0.26767     0.0  -0.064575    0.0207737\n",
       " 0.0   0.262746    0.0   0.0959916   0.0506544\n",
       " 0.0   0.0165449   0.0   0.0102847   0.391819"
      ]
     },
     "execution_count": 34,
     "metadata": {},
     "output_type": "execute_result"
    }
   ],
   "source": [
    "dψ_basis = grad_x_basis(C.I.f.f, X)"
   ]
  },
  {
   "cell_type": "code",
   "execution_count": 41,
   "metadata": {},
   "outputs": [
    {
     "data": {
      "text/plain": [
       "8-element Array{Float64,1}:\n",
       "  0.03850011681624252\n",
       " -0.036864339594153354\n",
       "  0.19095459274793916\n",
       "  0.23970874743411022\n",
       " -0.20745155095311177\n",
       "  0.17605463803346075\n",
       " -0.18792702339659972\n",
       "  0.03117818085903034"
      ]
     },
     "execution_count": 41,
     "metadata": {},
     "output_type": "execute_result"
    }
   ],
   "source": [
    "dxlogDJ = zeros(Ne, Nx)\n",
    "\n",
    "ψoffdψxd = grad_xd(C.I.f.f, X)"
   ]
  },
  {
   "cell_type": "code",
   "execution_count": 50,
   "metadata": {},
   "outputs": [
    {
     "data": {
      "text/plain": [
       "8×2 Array{Float64,2}:\n",
       " -0.0150962    0.275081\n",
       " -0.00172344   0.272766\n",
       "  0.00109835   0.191537\n",
       " -0.0403773   -0.00821251\n",
       " -0.0333779    0.127178\n",
       " -0.0481415    0.0110568\n",
       "  0.0468207    0.0774556\n",
       " -0.00492957   0.294571"
      ]
     },
     "execution_count": 50,
     "metadata": {},
     "output_type": "execute_result"
    }
   ],
   "source": [
    "grad_x_grad_xd(C.I.f.f, X, C.I.f.f.idx)"
   ]
  },
  {
   "cell_type": "code",
   "execution_count": 51,
   "metadata": {},
   "outputs": [
    {
     "data": {
      "text/plain": [
       "8-element Array{Float64,1}:\n",
       "  0.27508054698884865\n",
       "  0.2727658334063561\n",
       "  0.19153741860252596\n",
       " -0.008212514607585927\n",
       "  0.12717812747627785\n",
       "  0.01105679171823458\n",
       "  0.07745559049870646\n",
       "  0.29457111787580165"
      ]
     },
     "execution_count": 51,
     "metadata": {},
     "output_type": "execute_result"
    }
   ],
   "source": [
    "hess_xd(C.I.f.f, X)"
   ]
  },
  {
   "cell_type": "code",
   "execution_count": 52,
   "metadata": {},
   "outputs": [
    {
     "data": {
      "text/plain": [
       "2×2 Array{Float64,2}:\n",
       " -0.13341    -0.0150962\n",
       " -0.0150962   0.275081"
      ]
     },
     "execution_count": 52,
     "metadata": {},
     "output_type": "execute_result"
    }
   ],
   "source": [
    "dxdxkψx_t = ForwardDiff.hessian(C.I.f.f, X[:,1])"
   ]
  },
  {
   "cell_type": "code",
   "execution_count": null,
   "metadata": {},
   "outputs": [],
   "source": []
  },
  {
   "cell_type": "code",
   "execution_count": null,
   "metadata": {},
   "outputs": [],
   "source": [
    "evaluate()"
   ]
  },
  {
   "cell_type": "code",
   "execution_count": 16,
   "metadata": {},
   "outputs": [
    {
     "data": {
      "text/plain": [
       "8-element Array{Float64,1}:\n",
       " -1.890933371333304\n",
       " -1.0774421758804786\n",
       " -1.3812358207093065\n",
       " -2.756566903253647\n",
       " -2.2764943782683207\n",
       " -3.268114225886461\n",
       " -0.9741216255311081\n",
       " -1.442529469931936"
      ]
     },
     "execution_count": 16,
     "metadata": {},
     "output_type": "execute_result"
    }
   ],
   "source": [
    "log_pdf(C, X)"
   ]
  },
  {
   "cell_type": "code",
   "execution_count": 18,
   "metadata": {},
   "outputs": [
    {
     "data": {
      "text/plain": [
       "8-element Array{Float64,1}:\n",
       " -1.3182090265735815\n",
       "  0.5518744832820461\n",
       "  1.0207836492619973\n",
       "  1.969508900840876\n",
       "  1.7095646000932772\n",
       "  2.2193925767103297\n",
       "  0.06731649217667446\n",
       "  1.0856697228586412"
      ]
     },
     "execution_count": 18,
     "metadata": {},
     "output_type": "execute_result"
    }
   ],
   "source": [
    "Cx = evaluate(C, X)"
   ]
  },
  {
   "cell_type": "code",
   "execution_count": 22,
   "metadata": {},
   "outputs": [
    {
     "data": {
      "text/plain": [
       "5×2 Array{Int64,2}:\n",
       " 0  0\n",
       " 0  1\n",
       " 1  0\n",
       " 1  1\n",
       " 1  2"
      ]
     },
     "execution_count": 22,
     "metadata": {},
     "output_type": "execute_result"
    }
   ],
   "source": [
    "getidx(C)"
   ]
  },
  {
   "cell_type": "code",
   "execution_count": 21,
   "metadata": {},
   "outputs": [
    {
     "data": {
      "text/plain": [
       "5-element Array{Float64,1}:\n",
       "  0.6285037650645056\n",
       " -0.4744029092496623\n",
       "  1.1405280011620331\n",
       " -0.7217760771894809\n",
       "  0.11855056306742319"
      ]
     },
     "execution_count": 21,
     "metadata": {},
     "output_type": "execute_result"
    }
   ],
   "source": [
    "getcoeff(C)"
   ]
  },
  {
   "cell_type": "code",
   "execution_count": 23,
   "metadata": {},
   "outputs": [
    {
     "data": {
      "text/plain": [
       "8×5×2 Array{Float64,3}:\n",
       "[:, :, 1] =\n",
       " 0.0  0.0   0.107478    0.0190908  -0.043005\n",
       " 0.0  0.0   0.0865389   0.0541193  -0.0107887\n",
       " 0.0  0.0   0.138011    0.0855902   0.0231549\n",
       " 0.0  0.0  -0.270698   -0.113793   -0.145219\n",
       " 0.0  0.0  -0.259926   -0.128072   -0.127645\n",
       " 0.0  0.0  -0.225594   -0.0869868  -0.122217\n",
       " 0.0  0.0  -0.266312   -0.155186    0.0881003\n",
       " 0.0  0.0   0.261878    0.157944    0.0678763\n",
       "\n",
       "[:, :, 2] =\n",
       " 0.0   0.200064   0.0   0.122532   -0.167233\n",
       " 0.0   0.0623342  0.0   0.0386104   0.379666\n",
       " 0.0  -0.0838875  0.0  -0.0502452   0.357862\n",
       " 0.0  -0.268231   0.0  -0.105483    0.0306983\n",
       " 0.0  -0.24554    0.0  -0.112246    0.113373\n",
       " 0.0  -0.270878   0.0  -0.142266    0.00262786\n",
       " 0.0   0.165408   0.0   0.0714071   0.211025\n",
       " 0.0  -0.129595   0.0  -0.0583847   0.246624"
      ]
     },
     "execution_count": 23,
     "metadata": {},
     "output_type": "execute_result"
    }
   ],
   "source": [
    "dψ = grad_x_basis(C.I.f.f, X)"
   ]
  },
  {
   "cell_type": "code",
   "execution_count": 24,
   "metadata": {},
   "outputs": [
    {
     "data": {
      "text/plain": [
       "8×5×2×2 Array{Float64,4}:\n",
       "[:, :, 1, 1] =\n",
       " 0.0  0.0  -0.287372   -0.0510446    0.114986\n",
       " 0.0  0.0  -0.297614   -0.18612      0.0371031\n",
       " 0.0  0.0  -0.267679   -0.166006    -0.0449099\n",
       " 0.0  0.0  -0.0102897  -0.00432547  -0.00552002\n",
       " 0.0  0.0  -0.0807765  -0.0398007   -0.0396678\n",
       " 0.0  0.0  -0.1657     -0.0638922   -0.089769\n",
       " 0.0  0.0  -0.0515665  -0.030049     0.0170591\n",
       " 0.0  0.0  -0.0730321  -0.0440471   -0.0189292\n",
       "\n",
       "[:, :, 2, 1] =\n",
       " 0.0   0.0   0.0   0.0215025   -0.0293467\n",
       " 0.0   0.0   0.0   0.00539434   0.0530439\n",
       " 0.0  -0.0   0.0  -0.0115774    0.0824581\n",
       " 0.0  -0.0  -0.0   0.0726096   -0.0211313\n",
       " 0.0  -0.0  -0.0   0.0638224   -0.0644633\n",
       " 0.0  -0.0  -0.0   0.0611086   -0.00112877\n",
       " 0.0   0.0  -0.0  -0.0440502   -0.130179\n",
       " 0.0  -0.0   0.0  -0.0339381    0.143359\n",
       "\n",
       "[:, :, 1, 2] =\n",
       " 0.0   0.0   0.0   0.0215025   -0.0293467\n",
       " 0.0   0.0   0.0   0.00539434   0.0530439\n",
       " 0.0  -0.0   0.0  -0.0115774    0.0824581\n",
       " 0.0  -0.0  -0.0   0.0726096   -0.0211313\n",
       " 0.0  -0.0  -0.0   0.0638224   -0.0644633\n",
       " 0.0  -0.0  -0.0   0.0611086   -0.00112877\n",
       " 0.0   0.0  -0.0  -0.0440502   -0.130179\n",
       " 0.0  -0.0   0.0  -0.0339381    0.143359\n",
       "\n",
       "[:, :, 2, 2] =\n",
       " 0.0   0.136524    0.0   0.0836164    0.056706\n",
       " 0.0  -0.306474    0.0  -0.189833     0.115064\n",
       " 0.0  -0.298736    0.0  -0.178931    -0.148897\n",
       " 0.0  -0.0390312   0.0  -0.0153491   -0.230553\n",
       " 0.0  -0.124003    0.0  -0.0566865   -0.280989\n",
       " 0.0  -0.00250176  0.0  -0.00131393  -0.286378\n",
       " 0.0  -0.24441     0.0  -0.105512     0.202714\n",
       " 0.0  -0.273713    0.0  -0.123312    -0.169763"
      ]
     },
     "execution_count": 24,
     "metadata": {},
     "output_type": "execute_result"
    }
   ],
   "source": [
    "d2ψ = hess_x_basis(C.I.f.f, X)"
   ]
  },
  {
   "cell_type": "markdown",
   "metadata": {},
   "source": [
    "### Integration"
   ]
  },
  {
   "cell_type": "code",
   "execution_count": 20,
   "metadata": {},
   "outputs": [],
   "source": [
    "Nx = 100\n",
    "Ny = 50\n",
    "m = 20\n",
    "Ne = 400\n",
    "X = randn(Nx, Ne).*randn(Nx, Ne) #.+ 0.5*randn(Nx).*cos.(randn(Nx, Ne) .* randn(Nx, Ne))\n",
    "\n",
    "# L = LinearTransform(X)\n",
    "# transform!(L, X);\n",
    "# C = MapComponent(m, Nx)\n",
    "# @time C, _ = optimize(C, X, 10)"
   ]
  },
  {
   "cell_type": "code",
   "execution_count": 24,
   "metadata": {},
   "outputs": [],
   "source": [
    "M = HermiteMap(m, X);"
   ]
  },
  {
   "cell_type": "code",
   "execution_count": 25,
   "metadata": {
    "scrolled": true
   },
   "outputs": [
    {
     "name": "stdout",
     "output_type": "stream",
     "text": [
      "  9.550136 seconds (42.61 M allocations: 13.653 GiB, 7.59% gc time)\n"
     ]
    }
   ],
   "source": [
    "@time M_noqr = optimize(M, X, 10; P = serial, start = Ny+1);"
   ]
  },
  {
   "cell_type": "code",
   "execution_count": 26,
   "metadata": {},
   "outputs": [
    {
     "name": "stdout",
     "output_type": "stream",
     "text": [
      " 18.997304 seconds (45.81 M allocations: 21.111 GiB, 4.17% gc time)\n"
     ]
    }
   ],
   "source": [
    "@time M_qr = optimize(M, X, 10; P = serial, withqr = true, start = Ny+1);"
   ]
  },
  {
   "cell_type": "code",
   "execution_count": 31,
   "metadata": {},
   "outputs": [
    {
     "data": {
      "text/plain": [
       "timing (generic function with 1 method)"
      ]
     },
     "execution_count": 31,
     "metadata": {},
     "output_type": "execute_result"
    }
   ],
   "source": [
    "function timing()\n",
    "    M = HermiteMap(m, X)\n",
    "    @btime begin \n",
    "        optimize($M, $X, $10; P = serial, withqr = false, start = Ny+1)\n",
    "    end\n",
    "    \n",
    "    @btime begin \n",
    "        optimize($M, $X, $10; P = serial, withqr = true, start = Ny+1)\n",
    "    end\n",
    "end"
   ]
  },
  {
   "cell_type": "code",
   "execution_count": 32,
   "metadata": {},
   "outputs": [
    {
     "name": "stdout",
     "output_type": "stream",
     "text": [
      "  11.257 s (42606958 allocations: 13.65 GiB)\n",
      "  21.346 s (45813192 allocations: 21.12 GiB)\n"
     ]
    }
   ],
   "source": [
    "timing();"
   ]
  },
  {
   "cell_type": "code",
   "execution_count": 11,
   "metadata": {},
   "outputs": [
    {
     "name": "stdout",
     "output_type": "stream",
     "text": [
      "  14.597 s (42433511 allocations: 13.37 GiB)\n"
     ]
    }
   ],
   "source": [
    "timing();"
   ]
  },
  {
   "cell_type": "code",
   "execution_count": 29,
   "metadata": {},
   "outputs": [
    {
     "name": "stdout",
     "output_type": "stream",
     "text": [
      "  973.450 ms (1054425 allocations: 1.43 GiB)\n"
     ]
    }
   ],
   "source": [
    "timing();"
   ]
  },
  {
   "cell_type": "code",
   "execution_count": 14,
   "metadata": {},
   "outputs": [
    {
     "data": {
      "text/html": [
       "# 1 method for generic function <b>update_component</b>:<ul><li> update_component(C::<b>MapComponent</b>, X, reduced_margin::<b>Array{Int64,2}</b>, S::<b>Storage</b>) in AdaptiveTransportMap at <a href=\"https://github.com/mleprovost/AdaptiveTransportMap/tree/83d05ec2a279bc06ffd1b1aeb054f4628721f1e9//src/mapcomponent/greedyfit.jl#L234\" target=\"_blank\">/media/mat/HDD/AdaptiveTransportMap/src/mapcomponent/greedyfit.jl:249</a></li> </ul>"
      ],
      "text/plain": [
       "# 1 method for generic function \"update_component\":\n",
       "[1] update_component(C::MapComponent, X, reduced_margin::Array{Int64,2}, S::Storage) in AdaptiveTransportMap at /media/mat/HDD/AdaptiveTransportMap/src/mapcomponent/greedyfit.jl:249"
      ]
     },
     "execution_count": 14,
     "metadata": {},
     "output_type": "execute_result"
    }
   ],
   "source": [
    "methods(update_component)"
   ]
  },
  {
   "cell_type": "code",
   "execution_count": 30,
   "metadata": {},
   "outputs": [
    {
     "data": {
      "text/plain": [
       "timing (generic function with 1 method)"
      ]
     },
     "execution_count": 30,
     "metadata": {},
     "output_type": "execute_result"
    }
   ],
   "source": [
    "function timing()\n",
    "    @btime begin \n",
    "        M = HermiteMap($m, $X)\n",
    "        optimize($M, $X, $10; P = thread)\n",
    "    end\n",
    "end"
   ]
  },
  {
   "cell_type": "code",
   "execution_count": 88,
   "metadata": {},
   "outputs": [
    {
     "name": "stdout",
     "output_type": "stream",
     "text": [
      "  297.730 ms (1000725 allocations: 1.35 GiB)\n"
     ]
    }
   ],
   "source": [
    "timing();"
   ]
  },
  {
   "cell_type": "markdown",
   "metadata": {},
   "source": [
    "### Test optimization with QR"
   ]
  },
  {
   "cell_type": "code",
   "execution_count": 45,
   "metadata": {},
   "outputs": [
    {
     "data": {
      "text/plain": [
       "\u001b[32m\u001b[1mTest Passed\u001b[22m\u001b[39m"
      ]
     },
     "execution_count": 45,
     "metadata": {},
     "output_type": "execute_result"
    }
   ],
   "source": [
    "Nx = 3\n",
    "Ne = 8\n",
    "m = 20\n",
    "\n",
    "idx = [0 0 0; 0 0 1; 0 1 0; 0 1 1; 0 1 2; 1 0 0]\n",
    "\n",
    "\n",
    "Nψ = 6\n",
    "coeff = [ 0.20649582065364197;\n",
    "         -0.5150990160472986;\n",
    "          2.630096893080717;\n",
    "          1.13653076177397;\n",
    "          0.6725837371023421;\n",
    "         -1.3126095306624133]\n",
    "C = MapComponent(m, Nx, idx, coeff; α = 1e-6);\n",
    "\n",
    "Ne = 100\n",
    "\n",
    "\n",
    "# The QR decomposition is not unique!\n",
    "\n",
    "X = randn(Nx, Ne) .* randn(Nx, Ne) + cos.(randn(Nx, Ne)) .* exp.(-randn(Nx, Ne).^2)\n",
    "\n",
    "L = LinearTransform(X)\n",
    "transform!(L, X)\n",
    "S = Storage(C.I.f, X)\n",
    "F = QRscaling(S)\n",
    "newidx = [1 1 1]\n",
    "\n",
    "Snew = update_storage(S, X, newidx)\n",
    "Fupdated = updateQRscaling(F, Snew)\n",
    "\n",
    "Fnew = QRscaling(Snew)\n",
    "\n",
    "@test norm(Fupdated.D - Fnew.D)<1e-8\n",
    "@test norm(Fupdated.Dinv - Fnew.Dinv)<1e-8"
   ]
  }
 ],
 "metadata": {
  "kernelspec": {
   "display_name": "Julia 1.5.0",
   "language": "julia",
   "name": "julia-1.5"
  },
  "language_info": {
   "file_extension": ".jl",
   "mimetype": "application/julia",
   "name": "julia",
   "version": "1.5.0"
  }
 },
 "nbformat": 4,
 "nbformat_minor": 2
}
