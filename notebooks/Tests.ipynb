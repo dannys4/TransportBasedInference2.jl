{
 "cells": [
  {
   "cell_type": "code",
   "execution_count": 1,
   "metadata": {},
   "outputs": [
    {
     "name": "stderr",
     "output_type": "stream",
     "text": [
      "\u001b[32m\u001b[1m Activating\u001b[22m\u001b[39m environment at `/media/mat/HDD/AdaptiveTransportMap/Project.toml`\n"
     ]
    }
   ],
   "source": [
    "using Pkg\n",
    "Pkg.activate(\"/media/mat/HDD/AdaptiveTransportMap/\")"
   ]
  },
  {
   "cell_type": "code",
   "execution_count": 2,
   "metadata": {
    "scrolled": false
   },
   "outputs": [
    {
     "name": "stderr",
     "output_type": "stream",
     "text": [
      "┌ Info: Precompiling AdaptiveTransportMap [bdf749b0-1400-4207-80d3-e689c0e3f03d]\n",
      "└ @ Base loading.jl:1278\n"
     ]
    }
   ],
   "source": [
    "using Revise\n",
    "using AdaptiveTransportMap\n",
    "using LinearAlgebra\n",
    "import LinearAlgebra: ldiv!, dot\n",
    "using Test\n",
    "using ForwardDiff\n",
    "using SpecialFunctions\n",
    "using BenchmarkTools\n",
    "using TransportMap\n",
    "using QuadGK\n",
    "using Polynomials\n",
    "using Distributions\n",
    "using Random\n",
    "using LoopVectorization\n",
    "using Optim\n",
    "using NLsolve\n",
    "using MLDataUtils\n",
    "using MLDataPattern\n",
    "using Test\n",
    "using SparseArrays\n",
    "using QRupdate\n",
    "using AdaptiveTransportMap: vander, transform!, evaluate, ncoeff, optimize, negative_log_likelihood!, derivative\n",
    "\n",
    "# using Profile\n",
    "# using ProfileView"
   ]
  },
  {
   "cell_type": "markdown",
   "metadata": {},
   "source": [
    "### Test optimization with QR"
   ]
  },
  {
   "cell_type": "code",
   "execution_count": 45,
   "metadata": {},
   "outputs": [
    {
     "data": {
      "text/plain": [
       "\u001b[32m\u001b[1mTest Passed\u001b[22m\u001b[39m"
      ]
     },
     "execution_count": 45,
     "metadata": {},
     "output_type": "execute_result"
    }
   ],
   "source": [
    "Nx = 3\n",
    "Ne = 8\n",
    "m = 20\n",
    "\n",
    "idx = [0 0 0; 0 0 1; 0 1 0; 0 1 1; 0 1 2; 1 0 0]\n",
    "\n",
    "\n",
    "Nψ = 6\n",
    "coeff = [ 0.20649582065364197;\n",
    "         -0.5150990160472986;\n",
    "          2.630096893080717;\n",
    "          1.13653076177397;\n",
    "          0.6725837371023421;\n",
    "         -1.3126095306624133]\n",
    "C = MapComponent(m, Nx, idx, coeff; α = 1e-6);\n",
    "\n",
    "Ne = 100\n",
    "\n",
    "\n",
    "# The QR decomposition is not unique!\n",
    "\n",
    "X = randn(Nx, Ne) .* randn(Nx, Ne) + cos.(randn(Nx, Ne)) .* exp.(-randn(Nx, Ne).^2)\n",
    "\n",
    "L = LinearTransform(X)\n",
    "transform!(L, X)\n",
    "S = Storage(C.I.f, X)\n",
    "F = QRscaling(S)\n",
    "newidx = [1 1 1]\n",
    "\n",
    "Snew = update_storage(S, X, newidx)\n",
    "Fupdated = updateQRscaling(F, Snew)\n",
    "\n",
    "Fnew = QRscaling(Snew)\n",
    "\n",
    "@test norm(Fupdated.D - Fnew.D)<1e-8\n",
    "@test norm(Fupdated.Dinv - Fnew.Dinv)<1e-8"
   ]
  },
  {
   "cell_type": "code",
   "execution_count": 56,
   "metadata": {},
   "outputs": [
    {
     "data": {
      "text/plain": [
       "3×4×5 Array{Int64,3}:\n",
       "[:, :, 1] =\n",
       " 1  1  1  1\n",
       " 1  1  1  1\n",
       " 1  1  1  1\n",
       "\n",
       "[:, :, 2] =\n",
       " 1  1  1  1\n",
       " 1  1  1  1\n",
       " 1  1  1  1\n",
       "\n",
       "[:, :, 3] =\n",
       " 1  1  1  1\n",
       " 1  1  1  1\n",
       " 1  1  1  1\n",
       "\n",
       "[:, :, 4] =\n",
       " 1  1  1  1\n",
       " 1  1  1  1\n",
       " 1  1  1  1\n",
       "\n",
       "[:, :, 5] =\n",
       " 1  1  1  1\n",
       " 1  1  1  1\n",
       " 1  1  1  1"
      ]
     },
     "execution_count": 56,
     "metadata": {},
     "output_type": "execute_result"
    }
   ],
   "source": [
    "A = fill(1, (3,4,5))"
   ]
  },
  {
   "cell_type": "code",
   "execution_count": null,
   "metadata": {},
   "outputs": [],
   "source": [
    "function rinv(R, )"
   ]
  },
  {
   "cell_type": "code",
   "execution_count": 46,
   "metadata": {},
   "outputs": [
    {
     "data": {
      "text/plain": [
       "7×7 UpperTriangular{Float64,Array{Float64,2}}:\n",
       " -0.1   0.395296   0.425872     1.85994  -0.142374   -0.552076     1.77092\n",
       "   ⋅   -0.407748  -0.00535497  -1.90514   0.126601    0.139192    -0.408838\n",
       "   ⋅     ⋅        -0.432405    -1.85796   0.113328    0.118634    -0.414622\n",
       "   ⋅     ⋅          ⋅           1.90481  -0.0987392  -0.117106    -0.939366\n",
       "   ⋅     ⋅          ⋅            ⋅        0.100469   -0.00617912  -0.0106442\n",
       "   ⋅     ⋅          ⋅            ⋅         ⋅          0.424289    -1.38723\n",
       "   ⋅     ⋅          ⋅            ⋅         ⋅           ⋅           1.37881"
      ]
     },
     "execution_count": 46,
     "metadata": {},
     "output_type": "execute_result"
    }
   ],
   "source": [
    "inv(Fupdated.R)"
   ]
  },
  {
   "cell_type": "code",
   "execution_count": 58,
   "metadata": {},
   "outputs": [
    {
     "name": "stdout",
     "output_type": "stream",
     "text": [
      "\u001b[37m\u001b[1mTest Summary:        | \u001b[22m\u001b[39m\u001b[32m\u001b[1mPass  \u001b[22m\u001b[39m\u001b[36m\u001b[1mTotal\u001b[22m\u001b[39m\n",
      "Test updateQRscaling | \u001b[32m   6  \u001b[39m\u001b[36m    6\u001b[39m\n"
     ]
    },
    {
     "data": {
      "text/plain": [
       "Test.DefaultTestSet(\"Test updateQRscaling\", Any[], 6, false)"
      ]
     },
     "execution_count": 58,
     "metadata": {},
     "output_type": "execute_result"
    }
   ],
   "source": [
    "@testset \"Test updateQRscaling\" begin\n",
    "    Nx = 3\n",
    "    Ne = 8\n",
    "    m = 20\n",
    "\n",
    "    idx = [0 0 0; 0 0 1; 0 1 0; 0 1 1; 0 1 2; 1 0 0]\n",
    "\n",
    "\n",
    "    Nψ = 6\n",
    "    coeff = [ 0.20649582065364197;\n",
    "             -0.5150990160472986;\n",
    "              2.630096893080717;\n",
    "              1.13653076177397;\n",
    "              0.6725837371023421;\n",
    "             -1.3126095306624133]\n",
    "    C = MapComponent(m, Nx, idx, coeff; α = 1e-6);\n",
    "\n",
    "    Ne = 100\n",
    "\n",
    "\n",
    "    # The QR decomposition is not unique!\n",
    "\n",
    "    X = randn(Nx, Ne) .* randn(Nx, Ne) + cos.(randn(Nx, Ne)) .* exp.(-randn(Nx, Ne).^2)\n",
    "\n",
    "    L = LinearTransform(X)\n",
    "    transform!(L, X)\n",
    "    S = Storage(C.I.f, X)\n",
    "    F = QRscaling(S)\n",
    "    newidx = [1 1 1]\n",
    "\n",
    "    Snew = update_storage(S, X, newidx)\n",
    "    Fupdated = updateQRscaling(F, Snew)\n",
    "\n",
    "    Fnew = QRscaling(Snew)\n",
    "\n",
    "    @test norm(Fupdated.D - Fnew.D)<1e-8\n",
    "    @test norm(Fupdated.Dinv - Fnew.Dinv)<1e-8\n",
    "\n",
    "    @test norm(Fupdated.R.data'*Fupdated.R.data - Fnew.R.data'*Fnew.R.data)<1e-8\n",
    "\n",
    "    @test norm(inv(Fupdated.R) - Fupdated.Rinv.data)<1e-8\n",
    "    @test norm(inv(Fupdated.U) - Fupdated.Uinv.data)<1e-8\n",
    "\n",
    "    @test norm(Fupdated.L2Uinv - Fupdated.Uinv'*Fupdated.Uinv)<1e-8\n",
    "\n",
    "end"
   ]
  },
  {
   "cell_type": "code",
   "execution_count": 53,
   "metadata": {},
   "outputs": [
    {
     "data": {
      "text/plain": [
       "5.633900080430137e-16"
      ]
     },
     "execution_count": 53,
     "metadata": {},
     "output_type": "execute_result"
    }
   ],
   "source": [
    "norm(Fupdated.Rinv*Fupdated.R -I)"
   ]
  },
  {
   "cell_type": "code",
   "execution_count": 54,
   "metadata": {},
   "outputs": [
    {
     "data": {
      "text/plain": [
       "1.350890776860776e-15"
      ]
     },
     "execution_count": 54,
     "metadata": {},
     "output_type": "execute_result"
    }
   ],
   "source": [
    "norm(Fupdated.R*Fupdated.Rinv -I)"
   ]
  },
  {
   "cell_type": "code",
   "execution_count": 49,
   "metadata": {},
   "outputs": [
    {
     "data": {
      "text/plain": [
       "7×7 Array{Float64,2}:\n",
       " -0.1   0.395296   0.425872     1.85994  -0.142374   -0.552076    -1.77092\n",
       " -0.0  -0.407748  -0.00535497  -1.90514   0.126601    0.139192     0.408838\n",
       " -0.0  -0.0       -0.432405    -1.85796   0.113328    0.118634     0.414622\n",
       "  0.0   0.0        0.0          1.90481  -0.0987392  -0.117106     0.939366\n",
       "  0.0   0.0        0.0          0.0       0.100469   -0.00617912   0.0106442\n",
       "  0.0   0.0        0.0          0.0       0.0         0.424289     1.38723\n",
       " -0.0  -0.0       -0.0         -0.0      -0.0        -0.0         -1.37881"
      ]
     },
     "execution_count": 49,
     "metadata": {},
     "output_type": "execute_result"
    }
   ],
   "source": [
    "Fnew.Rinv.data"
   ]
  },
  {
   "cell_type": "code",
   "execution_count": null,
   "metadata": {},
   "outputs": [],
   "source": [
    "Fnew"
   ]
  },
  {
   "cell_type": "code",
   "execution_count": 27,
   "metadata": {},
   "outputs": [
    {
     "data": {
      "text/plain": [
       "7×7 UpperTriangular{Float64,Array{Float64,2}}:\n",
       " 0.0  0.0  0.0  -1.11022e-16  -2.22045e-16   9.71445e-17  -3.46945e-16\n",
       "  ⋅   0.0  0.0   0.0          -4.44089e-16   1.11022e-16  -2.22045e-16\n",
       "  ⋅    ⋅   0.0   1.11022e-16   2.22045e-16  -1.11022e-16   3.33067e-16\n",
       "  ⋅    ⋅    ⋅    0.0           0.0           0.0           2.22045e-16\n",
       "  ⋅    ⋅    ⋅     ⋅            0.0           0.0           3.03577e-18\n",
       "  ⋅    ⋅    ⋅     ⋅             ⋅            0.0          -1.11022e-16\n",
       "  ⋅    ⋅    ⋅     ⋅             ⋅             ⋅           -2.0"
      ]
     },
     "execution_count": 27,
     "metadata": {},
     "output_type": "execute_result"
    }
   ],
   "source": [
    "Fupdated.Rinv*Fupdated.R -I"
   ]
  },
  {
   "cell_type": "code",
   "execution_count": 25,
   "metadata": {},
   "outputs": [
    {
     "data": {
      "text/plain": [
       "7×7 UpperTriangular{Float64,Array{Float64,2}}:\n",
       " -0.1  -0.397168   0.418147   -1.80275  -0.0474094  -0.0322345   0.158918\n",
       "   ⋅    0.409564  -0.0227366   1.86306   0.0536014  -0.376065    1.11229\n",
       "   ⋅     ⋅        -0.408565    1.76442   0.0925128  -0.321914    1.04124\n",
       "   ⋅     ⋅          ⋅         -1.82256  -0.108877    0.332872   -2.30807\n",
       "   ⋅     ⋅          ⋅           ⋅        0.101518    0.0145133  -0.00424558\n",
       "   ⋅     ⋅          ⋅           ⋅         ⋅          0.407931   -1.32859\n",
       "   ⋅     ⋅          ⋅           ⋅         ⋅           ⋅          1.3294"
      ]
     },
     "execution_count": 25,
     "metadata": {},
     "output_type": "execute_result"
    }
   ],
   "source": [
    "inv(Fupdated.R)"
   ]
  },
  {
   "cell_type": "code",
   "execution_count": 24,
   "metadata": {},
   "outputs": [
    {
     "data": {
      "text/plain": [
       "7×7 Array{Float64,2}:\n",
       " -0.1  -0.397168   0.418147   -1.80275  -0.0474094  -0.0322345   0.158918\n",
       "  0.0   0.409564  -0.0227366   1.86306   0.0536014  -0.376065    1.11229\n",
       " -0.0  -0.0       -0.408565    1.76442   0.0925128  -0.321914    1.04124\n",
       " -0.0  -0.0       -0.0        -1.82256  -0.108877    0.332872   -2.30807\n",
       "  0.0   0.0        0.0         0.0       0.101518    0.0145133  -0.00424558\n",
       "  0.0   0.0        0.0         0.0       0.0         0.407931   -1.32859\n",
       "  0.0   0.0        0.0         0.0       0.0         0.0        -1.3294"
      ]
     },
     "execution_count": 24,
     "metadata": {},
     "output_type": "execute_result"
    }
   ],
   "source": [
    "Fupdated.Rinv.data"
   ]
  },
  {
   "cell_type": "code",
   "execution_count": 14,
   "metadata": {},
   "outputs": [
    {
     "name": "stdout",
     "output_type": "stream",
     "text": [
      "\u001b[37m\u001b[1mTest Summary:        | \u001b[22m\u001b[39m\u001b[32m\u001b[1mPass  \u001b[22m\u001b[39m\u001b[36m\u001b[1mTotal\u001b[22m\u001b[39m\n",
      "Test updateQRscaling | \u001b[32m   7  \u001b[39m\u001b[36m    7\u001b[39m\n"
     ]
    },
    {
     "data": {
      "text/plain": [
       "Test.DefaultTestSet(\"Test updateQRscaling\", Any[], 7, false)"
      ]
     },
     "execution_count": 14,
     "metadata": {},
     "output_type": "execute_result"
    }
   ],
   "source": [
    "@testset \"Test updateQRscaling\" begin\n",
    "    Nx = 3\n",
    "    Ne = 8\n",
    "    m = 20\n",
    "\n",
    "    idx = [0 0 0; 0 0 1; 0 1 0; 0 1 1; 0 1 2; 1 0 0]\n",
    "\n",
    "\n",
    "    Nψ = 6\n",
    "    coeff = [ 0.20649582065364197;\n",
    "             -0.5150990160472986;\n",
    "              2.630096893080717;\n",
    "              1.13653076177397;\n",
    "              0.6725837371023421;\n",
    "             -1.3126095306624133]\n",
    "    C = MapComponent(m, Nx, idx, coeff; α = 1e-6);\n",
    "\n",
    "    Ne = 100\n",
    "\n",
    "\n",
    "    # The QR decomposition is not unique!\n",
    "\n",
    "    X = randn(Nx, Ne) .* randn(Nx, Ne) + cos.(randn(Nx, Ne)) .* exp.(-randn(Nx, Ne).^2)\n",
    "\n",
    "    L = LinearTransform(X)\n",
    "    transform!(L, X)\n",
    "    S = Storage(C.I.f, X)\n",
    "    F = QRscaling(S)\n",
    "    newidx = [1 1 1]\n",
    "\n",
    "    Snew = update_storage(S, X, newidx)\n",
    "    Fupdated = updateQRscaling(F, Snew)\n",
    "\n",
    "    Fnew = QRscaling(Snew)\n",
    "\n",
    "    @test norm(Fupdated.D - Fnew.D)<1e-8\n",
    "    @test norm(Fupdated.Dinv - Fnew.Dinv)<1e-8\n",
    "\n",
    "    @test norm(Fupdated.R.data'*Fupdated.R.data - Fnew.R.data'*Fnew.R.data)<1e-8\n",
    "    @test norm(Fupdated.Rinv.data'*Fupdated.Rinv.data - Fnew.Rinv.data'*Fnew.Rinv.data)<1e-8\n",
    "\n",
    "    @test norm(Fupdated.U.data'*Fupdated.U.data - Fnew.U.data'*Fnew.U.data)<1e-8  \n",
    "    @test norm(Fupdated.Uinv.data'*Fupdated.Uinv.data - Fnew.Uinv.data'*Fnew.Uinv.data)<1e-8  \n",
    "\n",
    "    @test norm(Fupdated.L2Uinv - Fnew.L2Uinv)<1e-8\n",
    "\n",
    "end"
   ]
  },
  {
   "cell_type": "code",
   "execution_count": null,
   "metadata": {},
   "outputs": [],
   "source": []
  },
  {
   "cell_type": "code",
   "execution_count": null,
   "metadata": {},
   "outputs": [],
   "source": []
  },
  {
   "cell_type": "code",
   "execution_count": null,
   "metadata": {},
   "outputs": [],
   "source": []
  },
  {
   "cell_type": "code",
   "execution_count": null,
   "metadata": {},
   "outputs": [],
   "source": []
  },
  {
   "cell_type": "markdown",
   "metadata": {},
   "source": [
    "### Integration"
   ]
  },
  {
   "cell_type": "code",
   "execution_count": 24,
   "metadata": {},
   "outputs": [],
   "source": [
    "Nx = 100\n",
    "Ny = 50\n",
    "m = 20\n",
    "Ne = 400\n",
    "X = randn(Nx, Ne).*randn(Nx, Ne) #.+ 0.5*randn(Nx).*cos.(randn(Nx, Ne) .* randn(Nx, Ne))\n",
    "\n",
    "# L = LinearTransform(X)\n",
    "# transform!(L, X);\n",
    "# C = MapComponent(m, Nx)\n",
    "# @time C, _ = optimize(C, X, 10)"
   ]
  },
  {
   "cell_type": "code",
   "execution_count": 25,
   "metadata": {},
   "outputs": [
    {
     "ename": "LoadError",
     "evalue": "AssertionError: Size of the array of multi-indices idx is wrong",
     "output_type": "error",
     "traceback": [
      "AssertionError: Size of the array of multi-indices idx is wrong",
      "",
      "Stacktrace:",
      " [1] ExpandedFunction at /media/mat/HDD/AdaptiveTransportMap/src/mapcomponent/expandedfunction.jl:40 [inlined]",
      " [2] #MapComponent#58 at /media/mat/HDD/AdaptiveTransportMap/src/mapcomponent/hermitemapcomponent.jl:35 [inlined]",
      " [3] top-level scope at In[25]:11",
      " [4] include_string(::Function, ::Module, ::String, ::String) at ./loading.jl:1091"
     ]
    }
   ],
   "source": []
  },
  {
   "cell_type": "code",
   "execution_count": 22,
   "metadata": {},
   "outputs": [],
   "source": [
    "M = HermiteMap(m, X);"
   ]
  },
  {
   "cell_type": "code",
   "execution_count": 9,
   "metadata": {
    "scrolled": true
   },
   "outputs": [
    {
     "name": "stdout",
     "output_type": "stream",
     "text": [
      " 11.061632 seconds (49.90 M allocations: 19.060 GiB, 7.20% gc time)\n"
     ]
    }
   ],
   "source": [
    "@time optimize(M, X, 10; P = serial);"
   ]
  },
  {
   "cell_type": "code",
   "execution_count": 10,
   "metadata": {},
   "outputs": [
    {
     "data": {
      "text/plain": [
       "timing (generic function with 1 method)"
      ]
     },
     "execution_count": 10,
     "metadata": {},
     "output_type": "execute_result"
    }
   ],
   "source": [
    "function timing()\n",
    "    @btime begin \n",
    "        M = HermiteMap($m, $X)\n",
    "        optimize($M, $X, $10; P = serial, start = Ny+1)\n",
    "    end\n",
    "end"
   ]
  },
  {
   "cell_type": "code",
   "execution_count": 11,
   "metadata": {},
   "outputs": [
    {
     "name": "stdout",
     "output_type": "stream",
     "text": [
      "  14.597 s (42433511 allocations: 13.37 GiB)\n"
     ]
    }
   ],
   "source": [
    "timing();"
   ]
  },
  {
   "cell_type": "code",
   "execution_count": 29,
   "metadata": {},
   "outputs": [
    {
     "name": "stdout",
     "output_type": "stream",
     "text": [
      "  973.450 ms (1054425 allocations: 1.43 GiB)\n"
     ]
    }
   ],
   "source": [
    "timing();"
   ]
  },
  {
   "cell_type": "code",
   "execution_count": 14,
   "metadata": {},
   "outputs": [
    {
     "data": {
      "text/html": [
       "# 1 method for generic function <b>update_component</b>:<ul><li> update_component(C::<b>MapComponent</b>, X, reduced_margin::<b>Array{Int64,2}</b>, S::<b>Storage</b>) in AdaptiveTransportMap at <a href=\"https://github.com/mleprovost/AdaptiveTransportMap/tree/83d05ec2a279bc06ffd1b1aeb054f4628721f1e9//src/mapcomponent/greedyfit.jl#L234\" target=\"_blank\">/media/mat/HDD/AdaptiveTransportMap/src/mapcomponent/greedyfit.jl:249</a></li> </ul>"
      ],
      "text/plain": [
       "# 1 method for generic function \"update_component\":\n",
       "[1] update_component(C::MapComponent, X, reduced_margin::Array{Int64,2}, S::Storage) in AdaptiveTransportMap at /media/mat/HDD/AdaptiveTransportMap/src/mapcomponent/greedyfit.jl:249"
      ]
     },
     "execution_count": 14,
     "metadata": {},
     "output_type": "execute_result"
    }
   ],
   "source": [
    "methods(update_component)"
   ]
  },
  {
   "cell_type": "code",
   "execution_count": 30,
   "metadata": {},
   "outputs": [
    {
     "data": {
      "text/plain": [
       "timing (generic function with 1 method)"
      ]
     },
     "execution_count": 30,
     "metadata": {},
     "output_type": "execute_result"
    }
   ],
   "source": [
    "function timing()\n",
    "    @btime begin \n",
    "        M = HermiteMap($m, $X)\n",
    "        optimize($M, $X, $10; P = thread)\n",
    "    end\n",
    "end"
   ]
  },
  {
   "cell_type": "code",
   "execution_count": 88,
   "metadata": {},
   "outputs": [
    {
     "name": "stdout",
     "output_type": "stream",
     "text": [
      "  297.730 ms (1000725 allocations: 1.35 GiB)\n"
     ]
    }
   ],
   "source": [
    "timing();"
   ]
  }
 ],
 "metadata": {
  "kernelspec": {
   "display_name": "Julia 1.5.0",
   "language": "julia",
   "name": "julia-1.5"
  },
  "language_info": {
   "file_extension": ".jl",
   "mimetype": "application/julia",
   "name": "julia",
   "version": "1.5.0"
  }
 },
 "nbformat": 4,
 "nbformat_minor": 2
}
