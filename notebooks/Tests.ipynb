{
 "cells": [
  {
   "cell_type": "code",
   "execution_count": 1,
   "metadata": {},
   "outputs": [
    {
     "name": "stderr",
     "output_type": "stream",
     "text": [
      "\u001b[32m\u001b[1m Activating\u001b[22m\u001b[39m environment at `/media/mat/HDD/AdaptiveTransportMap/Project.toml`\n"
     ]
    }
   ],
   "source": [
    "using Pkg\n",
    "Pkg.activate(\"/media/mat/HDD/AdaptiveTransportMap/\")"
   ]
  },
  {
   "cell_type": "code",
   "execution_count": 3,
   "metadata": {},
   "outputs": [
    {
     "name": "stderr",
     "output_type": "stream",
     "text": [
      "┌ Info: Precompiling AdaptiveTransportMap [bdf749b0-1400-4207-80d3-e689c0e3f03d]\n",
      "└ @ Base loading.jl:1260\n",
      "WARNING: using Distributions.scale! in module Main conflicts with an existing identifier.\n"
     ]
    }
   ],
   "source": [
    "using Revise\n",
    "using AdaptiveTransportMap\n",
    "using LinearAlgebra\n",
    "using Test\n",
    "using ForwardDiff\n",
    "using SpecialFunctions\n",
    "using Polynomials\n",
    "using BenchmarkTools\n",
    "using TransportMap\n",
    "using QuadGK\n",
    "using FastGaussQuadrature\n",
    "using AdaptiveTransportMap: derivative, vander, scale!, evaluate\n",
    "using DiffResults\n",
    "using Distributions\n",
    "using Random\n",
    "using LoopVectorization\n",
    "using Optim"
   ]
  },
  {
   "cell_type": "markdown",
   "metadata": {},
   "source": [
    "### LinearHermiteMapk"
   ]
  },
  {
   "cell_type": "code",
   "execution_count": 4,
   "metadata": {},
   "outputs": [
    {
     "name": "stderr",
     "output_type": "stream",
     "text": [
      "Revise.LogRecord(Error, evaluation error starting at /media/mat/HDD/AdaptiveTransportMap/notebooks/toplevel:4, lowered, Revise_e943ed8b, \"/home/mat/.julia/packages/Revise/BqeJF/src/lowered.jl\", 106, (mod=AdaptiveTransportMap, ex=begin\n",
      "    #= toplevel:4 =#\n",
      "    struct LinTransform{Nx, Ne}\n",
      "        #= /media/mat/HDD/AdaptiveTransportMap/src/tools/scale.jl:6 =#\n",
      "        diag::Bool\n",
      "        #= /media/mat/HDD/AdaptiveTransportMap/src/tools/scale.jl:8 =#\n",
      "        μ::Array{Float64, 1}\n",
      "        #= /media/mat/HDD/AdaptiveTransportMap/src/tools/scale.jl:10 =#\n",
      "        L::Union{LinearMaps}\n",
      "    end\n",
      "end)\u001b[91mTypeError: in Union, expected Type, got Module\u001b[39m\n",
      "Stacktrace:\n",
      " [1] top-level scope at \u001b[1m/home/mat/.julia/packages/IJulia/DrVMH/src/kernel.jl:52\u001b[22m)"
     ]
    },
    {
     "name": "stdout",
     "output_type": "stream",
     "text": [
      "search: Wa\u001b[0m\u001b[1ml\u001b[22mlen\u001b[0m\u001b[1mi\u001b[22mus\u001b[0m\u001b[1mN\u001b[22monc\u001b[0m\u001b[1me\u001b[22mntr\u001b[0m\u001b[1ma\u001b[22mlHype\u001b[0m\u001b[1mr\u001b[22mgeo\u001b[0m\u001b[1mm\u001b[22metric\n",
      "\n",
      "Couldn't find \u001b[36mLinearMap\u001b[39m\n",
      "Perhaps you meant linear\n"
     ]
    },
    {
     "data": {
      "text/latex": [
       "No documentation found.\n",
       "\n",
       "Binding \\texttt{LinearMap} does not exist.\n",
       "\n"
      ],
      "text/markdown": [
       "No documentation found.\n",
       "\n",
       "Binding `LinearMap` does not exist.\n"
      ],
      "text/plain": [
       "  No documentation found.\n",
       "\n",
       "  Binding \u001b[36mLinearMap\u001b[39m does not exist."
      ]
     },
     "execution_count": 4,
     "metadata": {},
     "output_type": "execute_result"
    }
   ],
   "source": [
    "?LinearMap"
   ]
  },
  {
   "cell_type": "code",
   "execution_count": null,
   "metadata": {},
   "outputs": [],
   "source": []
  },
  {
   "cell_type": "code",
   "execution_count": 36,
   "metadata": {},
   "outputs": [
    {
     "name": "stderr",
     "output_type": "stream",
     "text": [
      "Revise.LogRecord(Error, evaluation error starting at /media/mat/HDD/AdaptiveTransportMap/notebooks/toplevel:60, lowered, Revise_e943ed8b, \"/home/mat/.julia/packages/Revise/BqeJF/src/lowered.jl\", 106, (mod=AdaptiveTransportMap, ex=begin\n",
      "    #= toplevel:60 =#\n",
      "    function evaluate!(out::Array{Float64, 1}, Hk::HermiteMapk{m, Nψ, k}, X::Array{Flota64, 2}) where {m, Nψ, k}\n",
      "        #= /media/mat/HDD/AdaptiveTransportMap/src/hermitemapcomponent.jl:61 =#\n",
      "        #= /media/mat/HDD/AdaptiveTransportMap/src/hermitemapcomponent.jl:61 =# @assert k == size(X, 1) \"Wrong dimension of the sample\"\n",
      "        #= /media/mat/HDD/AdaptiveTransportMap/src/hermitemapcomponent.jl:62 =#\n",
      "        #= /media/mat/HDD/AdaptiveTransportMap/src/hermitemapcomponent.jl:62 =# @assert size(out, 1) == size(X, 2) \"Dimensions of the output and the samples don't match\"\n",
      "        #= /media/mat/HDD/AdaptiveTransportMap/src/hermitemapcomponent.jl:63 =#\n",
      "        return evaluate!(out, Hk.I, X)\n",
      "    end\n",
      "end)\u001b[91mUndefVarError: Flota64 not defined\u001b[39m\n",
      "Stacktrace:\n",
      " [1] \u001b[1mmacro expansion\u001b[22m at \u001b[1m/home/mat/.julia/packages/JuliaInterpreter/RmxVj/src/interpret.jl:60\u001b[22m [inlined]\n",
      " [2] \u001b[1mgetargs\u001b[22m\u001b[1m(\u001b[22m::Array{Any,1}, ::JuliaInterpreter.Frame\u001b[1m)\u001b[22m at \u001b[1m/home/mat/.julia/packages/JuliaInterpreter/RmxVj/src/builtins.jl:8\u001b[22m)Revise.LogRecord(Error, evaluation error starting at /media/mat/HDD/AdaptiveTransportMap/notebooks/toplevel:66, lowered, Revise_e943ed8b, \"/home/mat/.julia/packages/Revise/BqeJF/src/lowered.jl\", 106, (mod=AdaptiveTransportMap, ex=begin\n",
      "    #= toplevel:66 =#\n",
      "    (evaluate(out::Array{Float64, 1}, Hk::HermiteMapk{m, Nψ, k}, X::Array{Flota64, 2}) where {m, Nψ, k}) = begin\n",
      "            #= /media/mat/HDD/AdaptiveTransportMap/src/hermitemapcomponent.jl:66 =#\n",
      "            evaluate!(zeros(size(X, 2)), Hk, X)\n",
      "        end\n",
      "end)\u001b[91mUndefVarError: Flota64 not defined\u001b[39m\n",
      "Stacktrace:\n",
      " [1] \u001b[1mmacro expansion\u001b[22m at \u001b[1m/home/mat/.julia/packages/JuliaInterpreter/RmxVj/src/interpret.jl:60\u001b[22m [inlined]\n",
      " [2] \u001b[1mgetargs\u001b[22m\u001b[1m(\u001b[22m::Array{Any,1}, ::JuliaInterpreter.Frame\u001b[1m)\u001b[22m at \u001b[1m/home/mat/.julia/packages/JuliaInterpreter/RmxVj/src/builtins.jl:8\u001b[22m)"
     ]
    },
    {
     "name": "stdout",
     "output_type": "stream",
     "text": [
      "search: \u001b[0m\u001b[1mi\u001b[22m\u001b[0m\u001b[1mn\u001b[22m\u001b[0m\u001b[1mv\u001b[22m\u001b[0m\u001b[1me\u001b[22m\u001b[0m\u001b[1mr\u001b[22m\u001b[0m\u001b[1ms\u001b[22m\u001b[0m\u001b[1me\u001b[22m \u001b[0m\u001b[1mi\u001b[22m\u001b[0m\u001b[1mn\u001b[22m\u001b[0m\u001b[1mv\u001b[22m\u001b[0m\u001b[1me\u001b[22m\u001b[0m\u001b[1mr\u001b[22m\u001b[0m\u001b[1ms\u001b[22m\u001b[0m\u001b[1me\u001b[22m! \u001b[0m\u001b[1mI\u001b[22m\u001b[0m\u001b[1mn\u001b[22m\u001b[0m\u001b[1mv\u001b[22m\u001b[0m\u001b[1me\u001b[22m\u001b[0m\u001b[1mr\u001b[22m\u001b[0m\u001b[1ms\u001b[22m\u001b[0m\u001b[1me\u001b[22mGamma \u001b[0m\u001b[1mI\u001b[22m\u001b[0m\u001b[1mn\u001b[22m\u001b[0m\u001b[1mv\u001b[22m\u001b[0m\u001b[1me\u001b[22m\u001b[0m\u001b[1mr\u001b[22m\u001b[0m\u001b[1ms\u001b[22m\u001b[0m\u001b[1me\u001b[22mWishart \u001b[0m\u001b[1mI\u001b[22m\u001b[0m\u001b[1mn\u001b[22m\u001b[0m\u001b[1mv\u001b[22m\u001b[0m\u001b[1me\u001b[22m\u001b[0m\u001b[1mr\u001b[22m\u001b[0m\u001b[1ms\u001b[22m\u001b[0m\u001b[1me\u001b[22mGaussian\n",
      "\n"
     ]
    },
    {
     "data": {
      "text/latex": [
       "No documentation found.\n",
       "\n",
       "\\texttt{AdaptiveTransportMap.inverse} is a \\texttt{Function}.\n",
       "\n",
       "\\begin{verbatim}\n",
       "# 2 methods for generic function \"inverse\":\n",
       "[1] inverse(g::Rectifier, x::T) where T<:Real in AdaptiveTransportMap at /media/mat/HDD/AdaptiveTransportMap/src/rectifier.jl:50\n",
       "[2] inverse(g::Rectifier, x::Array{T,1}) where T<:Real in AdaptiveTransportMap at /media/mat/HDD/AdaptiveTransportMap/src/rectifier.jl:68\n",
       "\\end{verbatim}\n"
      ],
      "text/markdown": [
       "No documentation found.\n",
       "\n",
       "`AdaptiveTransportMap.inverse` is a `Function`.\n",
       "\n",
       "```\n",
       "# 2 methods for generic function \"inverse\":\n",
       "[1] inverse(g::Rectifier, x::T) where T<:Real in AdaptiveTransportMap at /media/mat/HDD/AdaptiveTransportMap/src/rectifier.jl:50\n",
       "[2] inverse(g::Rectifier, x::Array{T,1}) where T<:Real in AdaptiveTransportMap at /media/mat/HDD/AdaptiveTransportMap/src/rectifier.jl:68\n",
       "```\n"
      ],
      "text/plain": [
       "  No documentation found.\n",
       "\n",
       "  \u001b[36mAdaptiveTransportMap.inverse\u001b[39m is a \u001b[36mFunction\u001b[39m.\n",
       "\n",
       "\u001b[36m  # 2 methods for generic function \"inverse\":\u001b[39m\n",
       "\u001b[36m  [1] inverse(g::Rectifier, x::T) where T<:Real in AdaptiveTransportMap at /media/mat/HDD/AdaptiveTransportMap/src/rectifier.jl:50\u001b[39m\n",
       "\u001b[36m  [2] inverse(g::Rectifier, x::Array{T,1}) where T<:Real in AdaptiveTransportMap at /media/mat/HDD/AdaptiveTransportMap/src/rectifier.jl:68\u001b[39m"
      ]
     },
     "execution_count": 36,
     "metadata": {},
     "output_type": "execute_result"
    }
   ],
   "source": [
    "?inverse"
   ]
  },
  {
   "cell_type": "markdown",
   "metadata": {},
   "source": [
    "### Greedy fit"
   ]
  },
  {
   "cell_type": "code",
   "execution_count": 23,
   "metadata": {},
   "outputs": [
    {
     "name": "stdout",
     "output_type": "stream",
     "text": [
      "(i, dJ) = (1, [0.0])\n",
      "(i, dJ) = (2, [0.0])\n",
      "(i, dJ) = (3, [0.0])\n",
      "(i, dJ) = (4, [0.0])\n",
      "(i, dJ) = (5, [0.0])\n",
      "(i, dJ) = (6, [0.0])\n",
      "(i, dJ) = (7, [0.0])\n",
      "(i, dJ) = (8, [0.0])\n"
     ]
    },
    {
     "data": {
      "text/plain": [
       "1.3172777885451104"
      ]
     },
     "execution_count": 23,
     "metadata": {},
     "output_type": "execute_result"
    }
   ],
   "source": [
    "k = 2\n",
    "Ne = 8\n",
    "m = 5\n",
    "\n",
    "X  =  Matrix([0.267333   1.43021;\n",
    "          0.364979   0.607224;\n",
    "         -1.23693    0.249277;\n",
    "         -2.0526     0.915629;\n",
    "         -0.182465   0.415874;\n",
    "          0.412907   1.01672;\n",
    "          1.41332   -0.918205;\n",
    "          0.766647  -1.00445]');\n",
    "\n",
    "H = HermiteMapk(m, k; α = 0.0)\n",
    "S = Storage(H.I.f, X);\n",
    "\n",
    "J = 0.0\n",
    "dJ = zeros(1)\n",
    "J = negative_log_likelihood!(J, dJ, getcoeff(H), S, H, X)"
   ]
  },
  {
   "cell_type": "code",
   "execution_count": 22,
   "metadata": {},
   "outputs": [
    {
     "name": "stdout",
     "output_type": "stream",
     "text": [
      "(J, dJ) = (1.3172777885451104, [-0.12555625])\n"
     ]
    },
    {
     "data": {
      "text/plain": [
       "(1.3172777885451104, [-0.12555625])"
      ]
     },
     "execution_count": 22,
     "metadata": {},
     "output_type": "execute_result"
    }
   ],
   "source": [
    "@show J, dJ"
   ]
  },
  {
   "cell_type": "code",
   "execution_count": 33,
   "metadata": {},
   "outputs": [
    {
     "name": "stdout",
     "output_type": "stream",
     "text": [
      "(J, dJ) = (1.3172777885451104, [0.33903487500000007])\n"
     ]
    }
   ],
   "source": [
    "Nx = 2\n",
    "Ne = 8\n",
    "m = 5\n",
    "ens = EnsembleState(Nx, Ne)\n",
    "\n",
    "ens.S .=  [0.267333   1.43021;\n",
    "          0.364979   0.607224;\n",
    "         -1.23693    0.249277;\n",
    "         -2.0526     0.915629;\n",
    "         -0.182465   0.415874;\n",
    "          0.412907   1.01672;\n",
    "          1.41332   -0.918205;\n",
    "          0.766647  -1.00445]';\n",
    "X = ens.S\n",
    "\n",
    "coeff = [0.0];\n",
    "\n",
    "# coeff = [0.6285037650645056;\n",
    "#           -0.4744029092496623;\n",
    "#            1.1405280011620331;\n",
    "#           -0.7217760771894809;\n",
    "#            0.11855056306742319];\n",
    "# Initialize map with zero coefficients\n",
    "# Hk_old = HermiteMapk(m, Nx, [0 0; 0 1; 0 2; 1 0; 2 0], coeff; α = 1e-2);\n",
    "Hk_old = HermiteMapk(m, Nx, [0 0], coeff; α = 1e-2);\n",
    "S = Storage(Hk_old.I.f, X)\n",
    "\n",
    "# reduced_margin = getreducedmargin(getidx(Hk_old))\n",
    "# @show reduced_margin\n",
    "# @time idx_new, reduced_margin = update_component(Hk_old, X, reduced_margin, S)\n",
    "\n",
    "# @show idx_new\n",
    "# @show reduced_margin\n",
    "\n",
    "J = 0.0\n",
    "dJ = zeros(1)\n",
    "J = negative_log_likelihood!(J, dJ, getcoeff(Hk_old), S, Hk_old, X)\n",
    "\n",
    "@show J, dJ\n",
    "# idx_new = vcat(getidx(Hk_old), reduced_margin)\n",
    "# Hk_new = HermiteMapk(m, Nx, idx_new, vcat(getcoeff(Hk_old), zeros(size(reduced_margin,1))); α = 1.0);\n",
    "# # coeff_new, coeff_idx_added, idx_added = update_coeffs(Hk_old, Hk_new)"
   ]
  },
  {
   "cell_type": "code",
   "execution_count": 34,
   "metadata": {},
   "outputs": [
    {
     "data": {
      "text/plain": [
       "1-element Array{Float64,1}:\n",
       " -0.33238713235294115"
      ]
     },
     "execution_count": 34,
     "metadata": {},
     "output_type": "execute_result"
    }
   ],
   "source": [
    "res = Optim.optimize(Optim.only_fg!(negative_log_likelihood!(S, Hk_old, ens.S)), coeff, Optim.BFGS())\n",
    "coeffopt = Optim.minimizer(res)"
   ]
  },
  {
   "cell_type": "code",
   "execution_count": 35,
   "metadata": {},
   "outputs": [
    {
     "name": "stdout",
     "output_type": "stream",
     "text": [
      "search: \u001b[0m\u001b[1mb\u001b[22m\u001b[0m\u001b[1mr\u001b[22m\u001b[0m\u001b[1me\u001b[22m\u001b[0m\u001b[1ma\u001b[22m\u001b[0m\u001b[1mk\u001b[22m A\u001b[0m\u001b[1mb\u001b[22mst\u001b[0m\u001b[1mr\u001b[22mactV\u001b[0m\u001b[1me\u001b[22mcOrM\u001b[0m\u001b[1ma\u001b[22mt \u001b[0m\u001b[1mb\u001b[22menchma\u001b[0m\u001b[1mr\u001b[22mkparall\u001b[0m\u001b[1me\u001b[22ml_TM\u001b[0m\u001b[1ma\u001b[22mp_lorenz96\n",
      "\n"
     ]
    },
    {
     "data": {
      "text/latex": [
       "\\begin{verbatim}\n",
       "break\n",
       "\\end{verbatim}\n",
       "Break out of a loop immediately.\n",
       "\n",
       "\\section{Examples}\n",
       "\\begin{verbatim}\n",
       "julia> i = 0\n",
       "0\n",
       "\n",
       "julia> while true\n",
       "           global i += 1\n",
       "           i > 5 && break\n",
       "           println(i)\n",
       "       end\n",
       "1\n",
       "2\n",
       "3\n",
       "4\n",
       "5\n",
       "\\end{verbatim}\n"
      ],
      "text/markdown": [
       "```\n",
       "break\n",
       "```\n",
       "\n",
       "Break out of a loop immediately.\n",
       "\n",
       "# Examples\n",
       "\n",
       "```jldoctest\n",
       "julia> i = 0\n",
       "0\n",
       "\n",
       "julia> while true\n",
       "           global i += 1\n",
       "           i > 5 && break\n",
       "           println(i)\n",
       "       end\n",
       "1\n",
       "2\n",
       "3\n",
       "4\n",
       "5\n",
       "```\n"
      ],
      "text/plain": [
       "\u001b[36m  break\u001b[39m\n",
       "\n",
       "  Break out of a loop immediately.\n",
       "\n",
       "\u001b[1m  Examples\u001b[22m\n",
       "\u001b[1m  ≡≡≡≡≡≡≡≡≡≡\u001b[22m\n",
       "\n",
       "\u001b[36m  julia> i = 0\u001b[39m\n",
       "\u001b[36m  0\u001b[39m\n",
       "\u001b[36m  \u001b[39m\n",
       "\u001b[36m  julia> while true\u001b[39m\n",
       "\u001b[36m             global i += 1\u001b[39m\n",
       "\u001b[36m             i > 5 && break\u001b[39m\n",
       "\u001b[36m             println(i)\u001b[39m\n",
       "\u001b[36m         end\u001b[39m\n",
       "\u001b[36m  1\u001b[39m\n",
       "\u001b[36m  2\u001b[39m\n",
       "\u001b[36m  3\u001b[39m\n",
       "\u001b[36m  4\u001b[39m\n",
       "\u001b[36m  5\u001b[39m"
      ]
     },
     "execution_count": 35,
     "metadata": {},
     "output_type": "execute_result"
    }
   ],
   "source": [
    "?break"
   ]
  }
 ],
 "metadata": {
  "kernelspec": {
   "display_name": "Julia 1.4.0",
   "language": "julia",
   "name": "julia-1.4"
  },
  "language_info": {
   "file_extension": ".jl",
   "mimetype": "application/julia",
   "name": "julia",
   "version": "1.4.0"
  }
 },
 "nbformat": 4,
 "nbformat_minor": 2
}
