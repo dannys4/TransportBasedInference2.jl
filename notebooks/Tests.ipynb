{
 "cells": [
  {
   "cell_type": "code",
   "execution_count": 1,
   "metadata": {},
   "outputs": [
    {
     "name": "stderr",
     "output_type": "stream",
     "text": [
      "\u001b[32m\u001b[1m Activating\u001b[22m\u001b[39m environment at `/media/mat/HDD/AdaptiveTransportMap/Project.toml`\n"
     ]
    }
   ],
   "source": [
    "using Pkg\n",
    "Pkg.activate(\"/media/mat/HDD/AdaptiveTransportMap/\")"
   ]
  },
  {
   "cell_type": "code",
   "execution_count": 2,
   "metadata": {
    "scrolled": false
   },
   "outputs": [],
   "source": [
    "using Revise\n",
    "using AdaptiveTransportMap\n",
    "using LinearAlgebra\n",
    "import LinearAlgebra: ldiv!, dot\n",
    "using Test\n",
    "using ForwardDiff\n",
    "using SpecialFunctions\n",
    "using BenchmarkTools\n",
    "using TransportMap\n",
    "using QuadGK\n",
    "using Polynomials\n",
    "using Distributions\n",
    "using Random\n",
    "using LoopVectorization\n",
    "using Optim\n",
    "using NLsolve\n",
    "using MLDataUtils\n",
    "using MLDataPattern\n",
    "using Test\n",
    "using SparseArrays\n",
    "using QRupdate\n",
    "using AdaptiveTransportMap: vander, transform!, evaluate, ncoeff, optimize, negative_log_likelihood!, derivative\n",
    "\n",
    "# using Profile\n",
    "# using ProfileView"
   ]
  },
  {
   "cell_type": "markdown",
   "metadata": {},
   "source": [
    "### Test optimization with QR"
   ]
  },
  {
   "cell_type": "code",
   "execution_count": 3,
   "metadata": {},
   "outputs": [
    {
     "data": {
      "text/plain": [
       "6×100 Array{Float64,2}:\n",
       "  0.263081  -0.217364  -0.100711   …  0.452757   0.2903      0.0657519\n",
       "  0.112594  -1.12226    0.0999967     0.233185   0.388683    0.134396\n",
       "  0.788453   0.193321   1.80094       0.212999   0.394632   -0.0914674\n",
       " -0.755565   1.11549   -1.67948       0.96866    0.50064    -0.0308019\n",
       " -1.94085   -0.53971   -0.0983404     1.12427   -0.0056782  -1.60809\n",
       " -0.216443  -1.99926   -0.0608417  …  0.112603  -1.92905    -0.888565"
      ]
     },
     "execution_count": 3,
     "metadata": {},
     "output_type": "execute_result"
    }
   ],
   "source": [
    "Nx = 6\n",
    "m = 15\n",
    "Ne = 100\n",
    "\n",
    "X = randn(Nx, Ne) .* randn(Nx, Ne)\n",
    "\n",
    "\n",
    "L = LinearTransform(X)\n",
    "transform!(L, X)"
   ]
  },
  {
   "cell_type": "code",
   "execution_count": 19,
   "metadata": {},
   "outputs": [
    {
     "name": "stdout",
     "output_type": "stream",
     "text": [
      "\u001b[37m\u001b[1mTest Summary:                                                                      | \u001b[22m\u001b[39m\u001b[32m\u001b[1mPass  \u001b[22m\u001b[39m\u001b[36m\u001b[1mTotal\u001b[22m\u001b[39m\n",
      "Test optimization with QR basis and Hessian preconditioner without/with L2 penalty | \u001b[32m   6  \u001b[39m\u001b[36m    6\u001b[39m\n"
     ]
    },
    {
     "data": {
      "text/plain": [
       "Test.DefaultTestSet(\"Test optimization with QR basis and Hessian preconditioner without/with L2 penalty\", Any[], 6, false)"
      ]
     },
     "execution_count": 19,
     "metadata": {},
     "output_type": "execute_result"
    }
   ],
   "source": [
    "@testset \"Test optimization with QR basis and Hessian preconditioner without/with L2 penalty\" begin\n",
    "\n",
    "    Nx = 3\n",
    "    Ne = 8\n",
    "    m = 20\n",
    "\n",
    "    idx = [0 0 0; 0 0 1; 0 1 0; 0 1 1; 0 1 2; 1 0 0]\n",
    "\n",
    "    Nψ = 6\n",
    "    coeff = [ 0.20649582065364197;\n",
    "             -0.5150990160472986;\n",
    "              2.630096893080717;\n",
    "              1.13653076177397;\n",
    "              0.6725837371023421;\n",
    "             -1.3126095306624133]\n",
    "    coeff0 = deepcopy(coeff)\n",
    "\n",
    "    X =  Matrix([ 1.12488     0.0236348   -0.958426;\n",
    "             -0.0493163   0.00323509  -0.276744;\n",
    "              1.11409     0.976117     0.256577;\n",
    "             -0.563545    0.179956    -0.418444;\n",
    "              0.0780599   0.371091    -0.742342;\n",
    "              1.77185    -0.175635     0.32151;\n",
    "             -0.869045   -0.0570977   -1.06254;\n",
    "             -0.165249   -2.70636      0.548725]')\n",
    "\n",
    "    L = LinearTransform(X)\n",
    "    transform!(L, X);\n",
    "\n",
    "    # For α = 0.0\n",
    "    C = MapComponent(m, Nx, idx, coeff; α = 0.0)\n",
    "\n",
    "    S = Storage(C.I.f, X)\n",
    "    S̃ = deepcopy(S)\n",
    "    F = QRscaling(S̃)\n",
    "\n",
    "\n",
    "    res = Optim.optimize(Optim.only_fg!(negative_log_likelihood(S, C, X)), coeff, Optim.LBFGS(; m = 20))\n",
    "\n",
    "    # In QR space\n",
    "    c̃oeff0 = F.U*coeff0\n",
    "\n",
    "    mul!(S̃.ψoffψd0, S̃.ψoffψd0, F.Uinv)\n",
    "    mul!(S̃.ψoffdψxd, S̃.ψoffdψxd, F.Uinv)\n",
    "\n",
    "    r̃es = Optim.optimize(Optim.only_fg!(qrnegative_log_likelihood(F, S̃, C, X)), c̃oeff0, Optim.LBFGS(; m = 20))\n",
    "\n",
    "    # With QR and Hessian approximation\n",
    "\n",
    "    qrprecond = zeros(ncoeff(C), ncoeff(C))\n",
    "    qrprecond!(qrprecond, c̃oeff0, F, S̃, C, X)\n",
    "\n",
    "    r̃esprecond = Optim.optimize(Optim.only_fg!(qrnegative_log_likelihood(F, S̃, C, X)), c̃oeff0,\n",
    "                           Optim.LBFGS(; m = 20, P = Preconditioner(qrprecond)))\n",
    "\n",
    "    @test norm(res.minimizer - F.Uinv*r̃es.minimizer)<1e-5\n",
    "    @test norm(res.minimizer - F.Uinv*r̃esprecond.minimizer)<1e-5\n",
    "    @test norm(r̃es.minimizer - r̃esprecond.minimizer)<1e-5\n",
    "\n",
    "\n",
    "    # For α = 1e-1\n",
    "    C = MapComponent(m, Nx, idx, coeff; α = 0.1)\n",
    "\n",
    "    S = Storage(C.I.f, X)\n",
    "    S̃ = deepcopy(S)\n",
    "    F = QRscaling(S̃)\n",
    "\n",
    "\n",
    "    res = Optim.optimize(Optim.only_fg!(negative_log_likelihood(S, C, X)), coeff, Optim.LBFGS(; m = 20))\n",
    "\n",
    "    # With QR\n",
    "    c̃oeff0 = F.U*coeff0\n",
    "\n",
    "    mul!(S̃.ψoffψd0, S̃.ψoffψd0, F.Uinv)\n",
    "    mul!(S̃.ψoffdψxd, S̃.ψoffdψxd, F.Uinv)\n",
    "\n",
    "    r̃es = Optim.optimize(Optim.only_fg!(qrnegative_log_likelihood(F, S̃, C, X)), c̃oeff0, Optim.LBFGS(; m = 20))\n",
    "\n",
    "    @test norm(res.minimizer - F.Uinv*r̃es.minimizer)<1e-5\n",
    "\n",
    "    # With QR and Hessian approximation\n",
    "\n",
    "    qrprecond = zeros(ncoeff(C), ncoeff(C))\n",
    "    qrprecond!(qrprecond, c̃oeff0, F, S̃, C, X)\n",
    "\n",
    "    r̃esprecond = Optim.optimize(Optim.only_fg!(qrnegative_log_likelihood(F, S̃, C, X)), c̃oeff0,\n",
    "                           Optim.LBFGS(; m = 20, P = Preconditioner(qrprecond)))\n",
    "\n",
    "    @test norm(res.minimizer - F.Uinv*r̃esprecond.minimizer)<1e-5\n",
    "    @test norm(r̃es.minimizer - r̃esprecond.minimizer)<1e-5\n",
    "end"
   ]
  },
  {
   "cell_type": "code",
   "execution_count": 18,
   "metadata": {},
   "outputs": [
    {
     "data": {
      "text/plain": [
       "1"
      ]
     },
     "execution_count": 18,
     "metadata": {},
     "output_type": "execute_result"
    }
   ],
   "source": [
    "ncoeff(C)"
   ]
  },
  {
   "cell_type": "markdown",
   "metadata": {},
   "source": [
    "### Integration"
   ]
  },
  {
   "cell_type": "code",
   "execution_count": 24,
   "metadata": {},
   "outputs": [],
   "source": [
    "Nx = 100\n",
    "Ny = 50\n",
    "m = 20\n",
    "Ne = 400\n",
    "X = randn(Nx, Ne).*randn(Nx, Ne) #.+ 0.5*randn(Nx).*cos.(randn(Nx, Ne) .* randn(Nx, Ne))\n",
    "\n",
    "# L = LinearTransform(X)\n",
    "# transform!(L, X);\n",
    "# C = MapComponent(m, Nx)\n",
    "# @time C, _ = optimize(C, X, 10)"
   ]
  },
  {
   "cell_type": "code",
   "execution_count": 25,
   "metadata": {},
   "outputs": [
    {
     "ename": "LoadError",
     "evalue": "AssertionError: Size of the array of multi-indices idx is wrong",
     "output_type": "error",
     "traceback": [
      "AssertionError: Size of the array of multi-indices idx is wrong",
      "",
      "Stacktrace:",
      " [1] ExpandedFunction at /media/mat/HDD/AdaptiveTransportMap/src/mapcomponent/expandedfunction.jl:40 [inlined]",
      " [2] #MapComponent#58 at /media/mat/HDD/AdaptiveTransportMap/src/mapcomponent/hermitemapcomponent.jl:35 [inlined]",
      " [3] top-level scope at In[25]:11",
      " [4] include_string(::Function, ::Module, ::String, ::String) at ./loading.jl:1091"
     ]
    }
   ],
   "source": []
  },
  {
   "cell_type": "code",
   "execution_count": 22,
   "metadata": {},
   "outputs": [],
   "source": [
    "M = HermiteMap(m, X);"
   ]
  },
  {
   "cell_type": "code",
   "execution_count": 9,
   "metadata": {
    "scrolled": true
   },
   "outputs": [
    {
     "name": "stdout",
     "output_type": "stream",
     "text": [
      " 11.061632 seconds (49.90 M allocations: 19.060 GiB, 7.20% gc time)\n"
     ]
    }
   ],
   "source": [
    "@time optimize(M, X, 10; P = serial);"
   ]
  },
  {
   "cell_type": "code",
   "execution_count": 10,
   "metadata": {},
   "outputs": [
    {
     "data": {
      "text/plain": [
       "timing (generic function with 1 method)"
      ]
     },
     "execution_count": 10,
     "metadata": {},
     "output_type": "execute_result"
    }
   ],
   "source": [
    "function timing()\n",
    "    @btime begin \n",
    "        M = HermiteMap($m, $X)\n",
    "        optimize($M, $X, $10; P = serial, start = Ny+1)\n",
    "    end\n",
    "end"
   ]
  },
  {
   "cell_type": "code",
   "execution_count": 11,
   "metadata": {},
   "outputs": [
    {
     "name": "stdout",
     "output_type": "stream",
     "text": [
      "  14.597 s (42433511 allocations: 13.37 GiB)\n"
     ]
    }
   ],
   "source": [
    "timing();"
   ]
  },
  {
   "cell_type": "code",
   "execution_count": 29,
   "metadata": {},
   "outputs": [
    {
     "name": "stdout",
     "output_type": "stream",
     "text": [
      "  973.450 ms (1054425 allocations: 1.43 GiB)\n"
     ]
    }
   ],
   "source": [
    "timing();"
   ]
  },
  {
   "cell_type": "code",
   "execution_count": 14,
   "metadata": {},
   "outputs": [
    {
     "data": {
      "text/html": [
       "# 1 method for generic function <b>update_component</b>:<ul><li> update_component(C::<b>MapComponent</b>, X, reduced_margin::<b>Array{Int64,2}</b>, S::<b>Storage</b>) in AdaptiveTransportMap at <a href=\"https://github.com/mleprovost/AdaptiveTransportMap/tree/83d05ec2a279bc06ffd1b1aeb054f4628721f1e9//src/mapcomponent/greedyfit.jl#L234\" target=\"_blank\">/media/mat/HDD/AdaptiveTransportMap/src/mapcomponent/greedyfit.jl:249</a></li> </ul>"
      ],
      "text/plain": [
       "# 1 method for generic function \"update_component\":\n",
       "[1] update_component(C::MapComponent, X, reduced_margin::Array{Int64,2}, S::Storage) in AdaptiveTransportMap at /media/mat/HDD/AdaptiveTransportMap/src/mapcomponent/greedyfit.jl:249"
      ]
     },
     "execution_count": 14,
     "metadata": {},
     "output_type": "execute_result"
    }
   ],
   "source": [
    "methods(update_component)"
   ]
  },
  {
   "cell_type": "code",
   "execution_count": 30,
   "metadata": {},
   "outputs": [
    {
     "data": {
      "text/plain": [
       "timing (generic function with 1 method)"
      ]
     },
     "execution_count": 30,
     "metadata": {},
     "output_type": "execute_result"
    }
   ],
   "source": [
    "function timing()\n",
    "    @btime begin \n",
    "        M = HermiteMap($m, $X)\n",
    "        optimize($M, $X, $10; P = thread)\n",
    "    end\n",
    "end"
   ]
  },
  {
   "cell_type": "code",
   "execution_count": 88,
   "metadata": {},
   "outputs": [
    {
     "name": "stdout",
     "output_type": "stream",
     "text": [
      "  297.730 ms (1000725 allocations: 1.35 GiB)\n"
     ]
    }
   ],
   "source": [
    "timing();"
   ]
  }
 ],
 "metadata": {
  "kernelspec": {
   "display_name": "Julia 1.5.0",
   "language": "julia",
   "name": "julia-1.5"
  },
  "language_info": {
   "file_extension": ".jl",
   "mimetype": "application/julia",
   "name": "julia",
   "version": "1.5.0"
  }
 },
 "nbformat": 4,
 "nbformat_minor": 2
}
