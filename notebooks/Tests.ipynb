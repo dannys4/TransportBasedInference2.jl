{
 "cells": [
  {
   "cell_type": "code",
   "execution_count": 1,
   "metadata": {},
   "outputs": [
    {
     "name": "stderr",
     "output_type": "stream",
     "text": [
      "\u001b[32m\u001b[1m Activating\u001b[22m\u001b[39m environment at `/media/mat/HDD/AdaptiveTransportMap/Project.toml`\n"
     ]
    }
   ],
   "source": [
    "using Pkg\n",
    "Pkg.activate(\"/media/mat/HDD/AdaptiveTransportMap/\")"
   ]
  },
  {
   "cell_type": "code",
   "execution_count": 5,
   "metadata": {},
   "outputs": [
    {
     "name": "stderr",
     "output_type": "stream",
     "text": [
      "┌ Info: Precompiling AdaptiveTransportMap [bdf749b0-1400-4207-80d3-e689c0e3f03d]\n",
      "└ @ Base loading.jl:1260\n"
     ]
    }
   ],
   "source": [
    "using Revise\n",
    "using AdaptiveTransportMap\n",
    "using LinearAlgebra\n",
    "using Test\n",
    "using ForwardDiff\n",
    "using SpecialFunctions\n",
    "# using StaticUnivariatePolynomials\n",
    "using Polynomials\n",
    "using BenchmarkTools\n",
    "using TransportMap"
   ]
  },
  {
   "cell_type": "markdown",
   "metadata": {},
   "source": [
    "### Hermite polynomials"
   ]
  },
  {
   "cell_type": "code",
   "execution_count": 13,
   "metadata": {},
   "outputs": [
    {
     "name": "stdout",
     "output_type": "stream",
     "text": [
      "  621.205 ns (21 allocations: 2.23 KiB)\n"
     ]
    },
    {
     "data": {
      "text/plain": [
       "6×6 Array{Float64,2}:\n",
       "  1.0    0.0    0.0     0.0   0.0   0.0\n",
       "  0.0    2.0    0.0     0.0   0.0   0.0\n",
       " -2.0    0.0    4.0     0.0   0.0   0.0\n",
       " -0.0  -12.0    0.0     8.0   0.0   0.0\n",
       " 12.0   -0.0  -48.0     0.0  16.0   0.0\n",
       "  0.0  120.0   -0.0  -160.0   0.0  32.0"
      ]
     },
     "execution_count": 13,
     "metadata": {},
     "output_type": "execute_result"
    }
   ],
   "source": [
    "@btime phyhermite_coeffmatrix(5)"
   ]
  },
  {
   "cell_type": "code",
   "execution_count": 15,
   "metadata": {},
   "outputs": [
    {
     "name": "stdout",
     "output_type": "stream",
     "text": [
      "P = PhyHermite{0}(ImmutablePolynomial(1.0), ImmutablePolynomial(0.0), ImmutablePolynomial(0.0), true)\n",
      "P = PhyHermite{1}(ImmutablePolynomial(1.0622519320271968*x), ImmutablePolynomial(1.0622519320271968), ImmutablePolynomial(0.0), true)\n",
      "P = PhyHermite{2}(ImmutablePolynomial(-0.5311259660135984 + 1.0622519320271968*x^2), ImmutablePolynomial(2.1245038640543936*x), ImmutablePolynomial(1.0622519320271968), true)\n",
      "P = PhyHermite{3}(ImmutablePolynomial(-1.3009876058761163*x + 0.8673250705840775*x^3), ImmutablePolynomial(-1.3009876058761163 + 2.6019752117522326*x^2), ImmutablePolynomial(2.6019752117522326*x), true)\n",
      "P = PhyHermite{4}(ImmutablePolynomial(0.4599685791773267 - 1.8398743167093068*x^2 + 0.6132914389031022*x^4), ImmutablePolynomial(-3.6797486334186136*x + 2.453165755612409*x^3), ImmutablePolynomial(-1.8398743167093068 + 3.6797486334186136*x^2), true)\n",
      "P = PhyHermite{5}(ImmutablePolynomial(1.4545483623118505*x - 1.9393978164158008*x^3 + 0.38787956328316014*x^5), ImmutablePolynomial(1.4545483623118507 - 5.818193449247403*x^2 + 1.9393978164158008*x^4), ImmutablePolynomial(-5.818193449247403*x + 3.8787956328316016*x^3), true)\n",
      "P = PhyHermite{6}(ImmutablePolynomial(-0.41989194426503806 + 2.5193516655902286*x^2 - 1.6795677770601523*x^4 + 0.22394237027468697*x^6), ImmutablePolynomial(5.038703331180456*x - 6.718271108240609*x^3 + 1.3436542216481218*x^5), ImmutablePolynomial(2.5193516655902286 - 10.077406662360914*x^2 + 3.3591355541203045*x^4), true)\n",
      "P = PhyHermite{7}(ImmutablePolynomial(-1.5710917949061518*x + 3.1421835898123036*x^3 - 1.2568734359249216*x^5 + 0.11970223199284967*x^7), ImmutablePolynomial(-1.5710917949061518 + 9.426550769436911*x^2 - 6.284367179624607*x^4 + 0.8379156239499477*x^6), ImmutablePolynomial(9.426550769436911*x - 12.568734359249216*x^3 + 2.5137468718498432*x^5), true)\n",
      "P = PhyHermite{8}(ImmutablePolynomial(0.39277294872653795 - 3.1421835898123036*x^2 + 3.1421835898123036*x^4 - 0.8379156239499477*x^6 + 0.059851115996424835*x^8), ImmutablePolynomial(-6.284367179624607*x + 12.568734359249214*x^3 - 5.0274937436996865*x^5 + 0.4788089279713987*x^7), ImmutablePolynomial(-3.1421835898123036 + 18.853101538873823*x^2 - 12.568734359249214*x^4 + 1.6758312478998953*x^6), true)\n",
      "P = PhyHermite{9}(ImmutablePolynomial(1.666394493067027*x - 4.443718648178739*x^3 + 2.6662311889072434*x^5 - 0.5078535597918559*x^7 + 0.028214086655103103*x^9), ImmutablePolynomial(1.6663944930670271 - 13.331155944536217*x^2 + 13.331155944536217*x^4 - 3.554974918542991*x^6 + 0.25392677989592793*x^8), ImmutablePolynomial(-13.331155944536217*x + 26.662311889072434*x^3 - 10.664924755628974*x^5 + 1.0157071195837117*x^7), true)\n",
      "P = PhyHermite{10}(ImmutablePolynomial(-0.37261713638291744 + 3.7261713638291742*x^2 - 4.968228485105565*x^4 + 1.987291394042226*x^6 - 0.2838987705774609*x^8 + 0.01261772313677604*x^10), ImmutablePolynomial(7.452342727658348*x - 19.872913940422258*x^3 + 11.923748364253356*x^5 - 2.2711901646196866*x^7 + 0.12617723136776038*x^9), ImmutablePolynomial(3.7261713638291734 - 29.809370910633387*x^2 + 29.809370910633387*x^4 - 7.9491655761689035*x^6 + 0.5677975411549216*x^8), true)\n"
     ]
    }
   ],
   "source": [
    "for i=0:10\n",
    "    P = PhyHermite(i;scaled=true)\n",
    "    @show P\n",
    "end"
   ]
  },
  {
   "cell_type": "code",
   "execution_count": 5,
   "metadata": {},
   "outputs": [
    {
     "data": {
      "text/plain": [
       "false"
      ]
     },
     "execution_count": 5,
     "metadata": {},
     "output_type": "execute_result"
    }
   ],
   "source": [
    "typeof(ImmutablePolynomial)<:Polynomial"
   ]
  },
  {
   "cell_type": "code",
   "execution_count": 18,
   "metadata": {},
   "outputs": [
    {
     "name": "stdout",
     "output_type": "stream",
     "text": [
      "  3.353 μs (28 allocations: 2.14 KiB)\n"
     ]
    },
    {
     "data": {
      "text/plain": [
       "PhyHermite{10}(ImmutablePolynomial(-30240.0 + 302400.0*x^2 - 403200.0*x^4 + 161280.0*x^6 - 23040.0*x^8 + 1024.0*x^10), ImmutablePolynomial(604800.0*x - 1.6128e6*x^3 + 967680.0*x^5 - 184320.0*x^7 + 10240.0*x^9), ImmutablePolynomial(302400.0 - 2.4192e6*x^2 + 2.4192e6*x^4 - 645120.0*x^6 + 46080.0*x^8), false)"
      ]
     },
     "execution_count": 18,
     "metadata": {},
     "output_type": "execute_result"
    }
   ],
   "source": [
    "@btime P = PhyHermite(10)"
   ]
  },
  {
   "cell_type": "code",
   "execution_count": null,
   "metadata": {},
   "outputs": [],
   "source": [
    "@time derivative(P)"
   ]
  },
  {
   "cell_type": "code",
   "execution_count": 21,
   "metadata": {},
   "outputs": [
    {
     "name": "stdout",
     "output_type": "stream",
     "text": [
      "  118.368 ns (3 allocations: 256 bytes)\n"
     ]
    },
    {
     "data": {
      "text/plain": [
       "9-element Array{Float64,1}:\n",
       "  302400.0\n",
       "      -0.0\n",
       "      -2.4192e6\n",
       "       0.0\n",
       "       2.4192e6\n",
       "      -0.0\n",
       " -645120.0\n",
       "       0.0\n",
       "   46080.0"
      ]
     },
     "execution_count": 21,
     "metadata": {},
     "output_type": "execute_result"
    }
   ],
   "source": [
    "m = 10\n",
    "@btime 2*m*(m-1)*view(PhyH,m-1,1:m-1)"
   ]
  },
  {
   "cell_type": "code",
   "execution_count": 22,
   "metadata": {},
   "outputs": [
    {
     "name": "stdout",
     "output_type": "stream",
     "text": [
      "  139.096 ns (3 allocations: 352 bytes)\n"
     ]
    },
    {
     "data": {
      "text/plain": [
       "9-element Array{Float64,1}:\n",
       "  302400.0\n",
       "      -0.0\n",
       "      -2.4192e6\n",
       "       0.0\n",
       "       2.4192e6\n",
       "      -0.0\n",
       " -645120.0\n",
       "       0.0\n",
       "   46080.0"
      ]
     },
     "execution_count": 22,
     "metadata": {},
     "output_type": "execute_result"
    }
   ],
   "source": [
    "@btime 2*m*(m-1)*PhyH[m-1,1:m-1]"
   ]
  },
  {
   "cell_type": "code",
   "execution_count": 22,
   "metadata": {},
   "outputs": [
    {
     "ename": "MethodError",
     "evalue": "MethodError: no method matching derivative(::ImmutablePolynomial{Float64,11}, ::Float64)\nClosest candidates are:\n  derivative(::P) where {T, P<:Polynomials.StandardBasisPolynomial{T}} at /home/mat/.julia/packages/Polynomials/pF6Ck/src/polynomials/standard-basis.jl:50\n  derivative(::P, !Matched::Integer) where {T, P<:Polynomials.StandardBasisPolynomial{T}} at /home/mat/.julia/packages/Polynomials/pF6Ck/src/polynomials/standard-basis.jl:50",
     "output_type": "error",
     "traceback": [
      "MethodError: no method matching derivative(::ImmutablePolynomial{Float64,11}, ::Float64)\nClosest candidates are:\n  derivative(::P) where {T, P<:Polynomials.StandardBasisPolynomial{T}} at /home/mat/.julia/packages/Polynomials/pF6Ck/src/polynomials/standard-basis.jl:50\n  derivative(::P, !Matched::Integer) where {T, P<:Polynomials.StandardBasisPolynomial{T}} at /home/mat/.julia/packages/Polynomials/pF6Ck/src/polynomials/standard-basis.jl:50",
      "",
      "Stacktrace:",
      " [1] top-level scope at In[22]:1"
     ]
    }
   ],
   "source": [
    "derivative(P.P, 1.0)"
   ]
  },
  {
   "cell_type": "code",
   "execution_count": 20,
   "metadata": {},
   "outputs": [
    {
     "name": "stdout",
     "output_type": "stream",
     "text": [
      "  75.657 ns (1 allocation: 192 bytes)\n"
     ]
    },
    {
     "data": {
      "text/html": [
       "9.144576e8 &#45; 1.8289152e10&#8729;x<sup>2</sup> &#43; 1.15831296e11&#8729;x<sup>4</sup> &#45; 2.536095744e11&#8729;x<sup>6</sup> &#43; 2.615058432e11&#8729;x<sup>8</sup> &#45; 1.4405271552e11&#8729;x<sup>10</sup> &#43; 4.52100096e10&#8729;x<sup>12</sup> &#45; 8.257536e9&#8729;x<sup>14</sup> &#43; 8.6114304e8&#8729;x<sup>16</sup> &#45; 4.718592e7&#8729;x<sup>18</sup> &#43; 1.048576e6&#8729;x<sup>20</sup>"
      ],
      "text/latex": [
       "$9.144576e8 - 1.8289152e10\\cdot x^{2} + 1.15831296e11\\cdot x^{4} - 2.536095744e11\\cdot x^{6} + 2.615058432e11\\cdot x^{8} - 1.4405271552e11\\cdot x^{10} + 4.52100096e10\\cdot x^{12} - 8.257536e9\\cdot x^{14} + 8.6114304e8\\cdot x^{16} - 4.718592e7\\cdot x^{18} + 1.048576e6\\cdot x^{20}$"
      ],
      "text/plain": [
       "ImmutablePolynomial(9.144576e8 - 1.8289152e10*x^2 + 1.15831296e11*x^4 - 2.536095744e11*x^6 + 2.615058432e11*x^8 - 1.4405271552e11*x^10 + 4.52100096e10*x^12 - 8.257536e9*x^14 + 8.6114304e8*x^16 - 4.718592e7*x^18 + 1.048576e6*x^20)"
      ]
     },
     "execution_count": 20,
     "metadata": {},
     "output_type": "execute_result"
    }
   ],
   "source": [
    "@btime P.P*P.P"
   ]
  },
  {
   "cell_type": "code",
   "execution_count": 21,
   "metadata": {},
   "outputs": [
    {
     "data": {
      "text/plain": [
       "0.0"
      ]
     },
     "execution_count": 21,
     "metadata": {},
     "output_type": "execute_result"
    }
   ],
   "source": [
    "P(1.0)*P(1.0)-(P.P*P.P)(1.0)"
   ]
  },
  {
   "cell_type": "code",
   "execution_count": 17,
   "metadata": {},
   "outputs": [
    {
     "data": {
      "text/plain": [
       "evalpoly (generic function with 1 method)"
      ]
     },
     "execution_count": 17,
     "metadata": {},
     "output_type": "execute_result"
    }
   ],
   "source": [
    "function evalpoly()\n",
    "    @btime P.P(1.0)\n",
    "end"
   ]
  },
  {
   "cell_type": "code",
   "execution_count": 18,
   "metadata": {},
   "outputs": [
    {
     "name": "stdout",
     "output_type": "stream",
     "text": [
      "  31.744 ns (1 allocation: 16 bytes)\n"
     ]
    },
    {
     "data": {
      "text/plain": [
       "8224.0"
      ]
     },
     "execution_count": 18,
     "metadata": {},
     "output_type": "execute_result"
    }
   ],
   "source": [
    "evalpoly()"
   ]
  },
  {
   "cell_type": "code",
   "execution_count": 7,
   "metadata": {},
   "outputs": [
    {
     "ename": "MethodError",
     "evalue": "MethodError: no method matching derivative(::PhyHermite{20})\nClosest candidates are:\n  derivative(!Matched::SparsePolynomial{T}) where T at /home/mat/.julia/packages/Polynomials/pF6Ck/src/polynomials/SparsePolynomial.jl:270\n  derivative(!Matched::SparsePolynomial{T}, !Matched::Integer) where T at /home/mat/.julia/packages/Polynomials/pF6Ck/src/polynomials/SparsePolynomial.jl:270\n  derivative(!Matched::P) where {T, P<:LaurentPolynomial{T}} at /home/mat/.julia/packages/Polynomials/pF6Ck/src/polynomials/LaurentPolynomial.jl:373\n  ...",
     "output_type": "error",
     "traceback": [
      "MethodError: no method matching derivative(::PhyHermite{20})\nClosest candidates are:\n  derivative(!Matched::SparsePolynomial{T}) where T at /home/mat/.julia/packages/Polynomials/pF6Ck/src/polynomials/SparsePolynomial.jl:270\n  derivative(!Matched::SparsePolynomial{T}, !Matched::Integer) where T at /home/mat/.julia/packages/Polynomials/pF6Ck/src/polynomials/SparsePolynomial.jl:270\n  derivative(!Matched::P) where {T, P<:LaurentPolynomial{T}} at /home/mat/.julia/packages/Polynomials/pF6Ck/src/polynomials/LaurentPolynomial.jl:373\n  ...",
      "",
      "Stacktrace:",
      " [1] ##core#293() at /home/mat/.julia/packages/BenchmarkTools/eCEpo/src/execution.jl:371",
      " [2] ##sample#294(::BenchmarkTools.Parameters) at /home/mat/.julia/packages/BenchmarkTools/eCEpo/src/execution.jl:377",
      " [3] _run(::BenchmarkTools.Benchmark{Symbol(\"##benchmark#292\")}, ::BenchmarkTools.Parameters; verbose::Bool, pad::String, kwargs::Base.Iterators.Pairs{Symbol,Integer,NTuple{4,Symbol},NamedTuple{(:samples, :evals, :gctrial, :gcsample),Tuple{Int64,Int64,Bool,Bool}}}) at /home/mat/.julia/packages/BenchmarkTools/eCEpo/src/execution.jl:405",
      " [4] (::Base.var\"#inner#2\"{Base.Iterators.Pairs{Symbol,Integer,NTuple{5,Symbol},NamedTuple{(:verbose, :samples, :evals, :gctrial, :gcsample),Tuple{Bool,Int64,Int64,Bool,Bool}}},typeof(BenchmarkTools._run),Tuple{BenchmarkTools.Benchmark{Symbol(\"##benchmark#292\")},BenchmarkTools.Parameters}})() at ./essentials.jl:715",
      " [5] #invokelatest#1 at ./essentials.jl:716 [inlined]",
      " [6] #run_result#37 at /home/mat/.julia/packages/BenchmarkTools/eCEpo/src/execution.jl:32 [inlined]",
      " [7] run(::BenchmarkTools.Benchmark{Symbol(\"##benchmark#292\")}, ::BenchmarkTools.Parameters; progressid::Nothing, nleaves::Float64, ndone::Float64, kwargs::Base.Iterators.Pairs{Symbol,Integer,NTuple{5,Symbol},NamedTuple{(:verbose, :samples, :evals, :gctrial, :gcsample),Tuple{Bool,Int64,Int64,Bool,Bool}}}) at /home/mat/.julia/packages/BenchmarkTools/eCEpo/src/execution.jl:94",
      " [8] #warmup#45 at /home/mat/.julia/packages/BenchmarkTools/eCEpo/src/execution.jl:141 [inlined]",
      " [9] warmup(::BenchmarkTools.Benchmark{Symbol(\"##benchmark#292\")}) at /home/mat/.julia/packages/BenchmarkTools/eCEpo/src/execution.jl:141",
      " [10] top-level scope at /home/mat/.julia/packages/BenchmarkTools/eCEpo/src/execution.jl:481",
      " [11] top-level scope at In[7]:1"
     ]
    }
   ],
   "source": [
    "@btime derivative(P)"
   ]
  },
  {
   "cell_type": "code",
   "execution_count": 24,
   "metadata": {},
   "outputs": [
    {
     "ename": "UndefVarError",
     "evalue": "UndefVarError: differentiate not defined",
     "output_type": "error",
     "traceback": [
      "UndefVarError: differentiate not defined",
      "",
      "Stacktrace:",
      " [1] top-level scope at In[24]:1"
     ]
    }
   ],
   "source": [
    "differentiate(P)"
   ]
  },
  {
   "cell_type": "code",
   "execution_count": 21,
   "metadata": {},
   "outputs": [
    {
     "data": {
      "text/plain": [
       "ImmutablePolynomial{Float64,11}"
      ]
     },
     "execution_count": 21,
     "metadata": {},
     "output_type": "execute_result"
    }
   ],
   "source": [
    "typeof(P)"
   ]
  },
  {
   "cell_type": "code",
   "execution_count": 23,
   "metadata": {},
   "outputs": [
    {
     "name": "stdout",
     "output_type": "stream",
     "text": [
      "search: \u001b[0m\u001b[1mv\u001b[22m\u001b[0m\u001b[1ma\u001b[22m\u001b[0m\u001b[1mn\u001b[22m\u001b[0m\u001b[1md\u001b[22m\u001b[0m\u001b[1me\u001b[22m\u001b[0m\u001b[1mr\u001b[22m\n",
      "\n"
     ]
    },
    {
     "data": {
      "text/latex": [
       "\\begin{verbatim}\n",
       "vander(::Type{AbstractPolynomial}, x::AbstractVector, deg::Integer)\n",
       "\\end{verbatim}\n",
       "Calculate the psuedo-Vandermonde matrix of the given polynomial type with the given degree.\n",
       "\n",
       "\\section{References}\n",
       "\\href{https://en.wikipedia.org/wiki/Vandermonde_matrix}{Vandermonde Matrix}\n",
       "\n"
      ],
      "text/markdown": [
       "```\n",
       "vander(::Type{AbstractPolynomial}, x::AbstractVector, deg::Integer)\n",
       "```\n",
       "\n",
       "Calculate the psuedo-Vandermonde matrix of the given polynomial type with the given degree.\n",
       "\n",
       "# References\n",
       "\n",
       "[Vandermonde Matrix](https://en.wikipedia.org/wiki/Vandermonde_matrix)\n"
      ],
      "text/plain": [
       "\u001b[36m  vander(::Type{AbstractPolynomial}, x::AbstractVector, deg::Integer)\u001b[39m\n",
       "\n",
       "  Calculate the psuedo-Vandermonde matrix of the given polynomial type with\n",
       "  the given degree.\n",
       "\n",
       "\u001b[1m  References\u001b[22m\n",
       "\u001b[1m  ≡≡≡≡≡≡≡≡≡≡≡≡\u001b[22m\n",
       "\n",
       "  Vandermonde Matrix (https://en.wikipedia.org/wiki/Vandermonde_matrix)"
      ]
     },
     "execution_count": 23,
     "metadata": {},
     "output_type": "execute_result"
    }
   ],
   "source": [
    "?vander"
   ]
  },
  {
   "cell_type": "code",
   "execution_count": 30,
   "metadata": {},
   "outputs": [
    {
     "name": "stdout",
     "output_type": "stream",
     "text": [
      "  19.135 ns (1 allocation: 16 bytes)\n"
     ]
    },
    {
     "data": {
      "text/plain": [
       "1.107214478336e12"
      ]
     },
     "execution_count": 30,
     "metadata": {},
     "output_type": "execute_result"
    }
   ],
   "source": [
    "@btime P(1.0)"
   ]
  },
  {
   "cell_type": "code",
   "execution_count": 37,
   "metadata": {},
   "outputs": [
    {
     "name": "stdout",
     "output_type": "stream",
     "text": [
      "  5.811 ns (0 allocations: 0 bytes)\n"
     ]
    },
    {
     "data": {
      "text/plain": [
       "-1.4670797765696044"
      ]
     },
     "execution_count": 37,
     "metadata": {},
     "output_type": "execute_result"
    }
   ],
   "source": [
    "@btime randn()"
   ]
  },
  {
   "cell_type": "code",
   "execution_count": 34,
   "metadata": {},
   "outputs": [
    {
     "name": "stdout",
     "output_type": "stream",
     "text": [
      "  20.327 ns (0 allocations: 0 bytes)\n"
     ]
    },
    {
     "data": {
      "text/plain": [
       "4.753304645718954e11"
      ]
     },
     "execution_count": 34,
     "metadata": {},
     "output_type": "execute_result"
    }
   ],
   "source": [
    "@btime P20($randn())"
   ]
  },
  {
   "cell_type": "code",
   "execution_count": 20,
   "metadata": {},
   "outputs": [
    {
     "name": "stderr",
     "output_type": "stream",
     "text": [
      "┌ Error: Failed to revise /media/mat/HDD/AdaptiveTransportMap/src/phyhermite.jl\n",
      "│   exception = (ErrorException(\"lowering returned an error, \\$(Expr(:error, \\\"\\\\\\\"0\\\\\\\" is not a valid function argument name\\\"))\"), Union{Ptr{Nothing}, Base.InterpreterIP}[Ptr{Nothing} @0x00007f1f51576d6c, Ptr{Nothing} @0x00007f1f5157717f])\n",
      "└ @ Revise /home/mat/.julia/packages/Revise/BqeJF/src/Revise.jl:760\n",
      "┌ Warning: Due to a previously reported error, the running code does not match saved version for the following files:\n",
      "│ \n",
      "│   /media/mat/HDD/AdaptiveTransportMap/src/phyhermite.jl\n",
      "│ \n",
      "│ Use Revise.errors() to report errors again.\n",
      "└ @ Revise /home/mat/.julia/packages/Revise/BqeJF/src/Revise.jl:820\n"
     ]
    },
    {
     "ename": "BoundsError",
     "evalue": "BoundsError: attempt to access 21×21 Array{Float64,2} at index [0, 1:0]",
     "output_type": "error",
     "traceback": [
      "BoundsError: attempt to access 21×21 Array{Float64,2} at index [0, 1:0]",
      "",
      "Stacktrace:",
      " [1] throw_boundserror(::Array{Float64,2}, ::Tuple{Int64,UnitRange{Int64}}) at ./abstractarray.jl:537",
      " [2] checkbounds at ./abstractarray.jl:502 [inlined]",
      " [3] view at ./subarray.jl:163 [inlined]",
      " [4] phyhermite(::Int64) at /media/mat/HDD/AdaptiveTransportMap/src/phyhermite.jl:50",
      " [5] top-level scope at In[20]:1"
     ]
    }
   ],
   "source": [
    "P = phyhermite(0)"
   ]
  },
  {
   "cell_type": "code",
   "execution_count": 18,
   "metadata": {},
   "outputs": [
    {
     "data": {
      "text/plain": [
       "1.0"
      ]
     },
     "execution_count": 18,
     "metadata": {},
     "output_type": "execute_result"
    }
   ],
   "source": [
    "P(2.0)"
   ]
  },
  {
   "cell_type": "code",
   "execution_count": 37,
   "metadata": {},
   "outputs": [
    {
     "name": "stdout",
     "output_type": "stream",
     "text": [
      "  0.000016 seconds (97 allocations: 21.938 KiB)\n"
     ]
    },
    {
     "data": {
      "text/plain": [
       "26×26 Array{Float64,2}:\n",
       "       1.0              0.0         …      0.0     0.0     0.0  0.0  0.0\n",
       "       0.0              1.0                0.0     0.0     0.0  0.0  0.0\n",
       "      -1.0              0.0                0.0     0.0     0.0  0.0  0.0\n",
       "      -0.0             -3.0                0.0     0.0     0.0  0.0  0.0\n",
       "       3.0             -0.0                0.0     0.0     0.0  0.0  0.0\n",
       "       0.0             15.0         …      0.0     0.0     0.0  0.0  0.0\n",
       "     -15.0              0.0                0.0     0.0     0.0  0.0  0.0\n",
       "      -0.0           -105.0                0.0     0.0     0.0  0.0  0.0\n",
       "     105.0             -0.0                0.0     0.0     0.0  0.0  0.0\n",
       "       0.0            945.0                0.0     0.0     0.0  0.0  0.0\n",
       "    -945.0              0.0         …      0.0     0.0     0.0  0.0  0.0\n",
       "      -0.0         -10395.0                0.0     0.0     0.0  0.0  0.0\n",
       "   10395.0             -0.0                0.0     0.0     0.0  0.0  0.0\n",
       "       0.0         135135.0                0.0     0.0     0.0  0.0  0.0\n",
       " -135135.0              0.0                0.0     0.0     0.0  0.0  0.0\n",
       "      -0.0             -2.02702e6   …      0.0     0.0     0.0  0.0  0.0\n",
       "       2.02702e6       -0.0                0.0     0.0     0.0  0.0  0.0\n",
       "       0.0              3.44594e7          0.0     0.0     0.0  0.0  0.0\n",
       "      -3.44594e7        0.0                0.0     0.0     0.0  0.0  0.0\n",
       "      -0.0             -6.54729e8          0.0     0.0     0.0  0.0  0.0\n",
       "       6.54729e8       -0.0         …      0.0     0.0     0.0  0.0  0.0\n",
       "       0.0              1.37493e10         1.0     0.0     0.0  0.0  0.0\n",
       "      -1.37493e10       0.0                0.0     1.0     0.0  0.0  0.0\n",
       "      -0.0             -3.16234e11      -253.0     0.0     1.0  0.0  0.0\n",
       "       3.16234e11      -0.0               -0.0  -276.0     0.0  1.0  0.0\n",
       "       0.0              7.90585e12  …  37950.0    -0.0  -300.0  0.0  1.0"
      ]
     },
     "execution_count": 37,
     "metadata": {},
     "output_type": "execute_result"
    }
   ],
   "source": [
    "@time prohermite_coeffmatrix(25)"
   ]
  },
  {
   "cell_type": "code",
   "execution_count": 30,
   "metadata": {},
   "outputs": [
    {
     "data": {
      "text/plain": [
       "Polynomial{1,Array{Float64,1}}((Float64[],))"
      ]
     },
     "execution_count": 30,
     "metadata": {},
     "output_type": "execute_result"
    }
   ],
   "source": [
    "Polynomial(Float64[])"
   ]
  },
  {
   "cell_type": "code",
   "execution_count": 11,
   "metadata": {},
   "outputs": [
    {
     "name": "stdout",
     "output_type": "stream",
     "text": [
      "  48.958 ns (1 allocation: 128 bytes)\n"
     ]
    },
    {
     "data": {
      "text/plain": [
       "5-element Array{Float64,1}:\n",
       " -0.6116845457151265\n",
       "  1.676031268501544\n",
       " -2.0524332537116585\n",
       "  0.26267589888464804\n",
       " -0.2998856766106414"
      ]
     },
     "execution_count": 11,
     "metadata": {},
     "output_type": "execute_result"
    }
   ],
   "source": [
    "@btime randn(5)"
   ]
  },
  {
   "cell_type": "code",
   "execution_count": 19,
   "metadata": {},
   "outputs": [
    {
     "data": {
      "text/plain": [
       "Polynomial{5,Float64}((1.5425807952952248, -2.6169553675103763, 1.4518670230116697, 1.004786938649716, -1.2985790264559605))"
      ]
     },
     "execution_count": 19,
     "metadata": {},
     "output_type": "execute_result"
    }
   ],
   "source": [
    "const ptest5 = Polynomial(Tuple(randn(5)))"
   ]
  },
  {
   "cell_type": "code",
   "execution_count": 21,
   "metadata": {},
   "outputs": [
    {
     "name": "stdout",
     "output_type": "stream",
     "text": [
      "  1.183 ns (0 allocations: 0 bytes)\n"
     ]
    },
    {
     "data": {
      "text/plain": [
       "0.45804629218533977"
      ]
     },
     "execution_count": 21,
     "metadata": {},
     "output_type": "execute_result"
    }
   ],
   "source": [
    "@btime $ptest5(x) setup = x = rand()"
   ]
  },
  {
   "cell_type": "code",
   "execution_count": 19,
   "metadata": {},
   "outputs": [
    {
     "name": "stdout",
     "output_type": "stream",
     "text": [
      "  0.015 ns (0 allocations: 0 bytes)\n"
     ]
    },
    {
     "data": {
      "text/plain": [
       "57.0"
      ]
     },
     "execution_count": 19,
     "metadata": {},
     "output_type": "execute_result"
    }
   ],
   "source": [
    "@btime ptest(4)"
   ]
  },
  {
   "cell_type": "code",
   "execution_count": 17,
   "metadata": {},
   "outputs": [
    {
     "name": "stdout",
     "output_type": "stream",
     "text": [
      "  0.188276 seconds (863.38 k allocations: 39.300 MiB, 6.48% gc time)\n"
     ]
    },
    {
     "data": {
      "text/html": [
       "8.7504519168e11&#8729;x<sup>10</sup>"
      ],
      "text/latex": [
       "$8.7504519168e11\\cdot x^{10}$"
      ],
      "text/plain": [
       "Polynomial(8.7504519168e11*x^10)"
      ]
     },
     "execution_count": 17,
     "metadata": {},
     "output_type": "execute_result"
    }
   ],
   "source": [
    "@time derivative(P)"
   ]
  },
  {
   "cell_type": "code",
   "execution_count": 18,
   "metadata": {},
   "outputs": [
    {
     "data": {
      "text/plain": [
       "12×12 Array{Float64,2}:\n",
       " 1.0       0.0   -2.0    -0.0     12.0  …  -30240.0        -0.0\n",
       " 0.0       2.0    0.0     0.0      0.0          0.0         0.0\n",
       " 0.0       0.0    4.0     0.0      0.0          0.0         0.0\n",
       " 0.0     -12.0    0.0    56.0      0.0          0.0         0.0\n",
       " 0.0      -0.0  -24.0     0.0    256.0          0.0         0.0\n",
       " 0.0      24.0    0.0  -448.0      0.0  …       0.0         0.0\n",
       " 0.0       0.0    0.0     0.0  -2560.0          0.0         0.0\n",
       " 0.0    -240.0    0.0     0.0      0.0          0.0         0.0\n",
       " 0.0      -0.0    0.0     0.0      0.0          0.0         0.0\n",
       " 0.0    3360.0    0.0     0.0      0.0          0.0         0.0\n",
       " 0.0       0.0    0.0     0.0      0.0  …       2.94027e9   0.0\n",
       " 0.0  -60480.0    0.0     0.0      0.0          0.0         7.95496e10"
      ]
     },
     "execution_count": 18,
     "metadata": {},
     "output_type": "execute_result"
    }
   ],
   "source": [
    "phyhermite_coeffmatrix(12)"
   ]
  },
  {
   "cell_type": "code",
   "execution_count": 19,
   "metadata": {},
   "outputs": [
    {
     "name": "stdout",
     "output_type": "stream",
     "text": [
      "  0.039477 seconds (177.27 k allocations: 8.458 MiB, 29.10% gc time)\n"
     ]
    },
    {
     "data": {
      "text/html": [
       "1 &#43; 3&#8729;x &#43; 5&#8729;x<sup>2</sup> &#43; 4&#8729;x<sup>4</sup>"
      ],
      "text/latex": [
       "$1 + 3\\cdot x + 5\\cdot x^{2} + 4\\cdot x^{4}$"
      ],
      "text/plain": [
       "ImmutablePolynomial(1 + 3*x + 5*x^2 + 4*x^4)"
      ]
     },
     "execution_count": 19,
     "metadata": {},
     "output_type": "execute_result"
    }
   ],
   "source": [
    "@time P = ImmutablePolynomial([1,3,5, 0, 4])"
   ]
  },
  {
   "cell_type": "code",
   "execution_count": 20,
   "metadata": {},
   "outputs": [
    {
     "name": "stdout",
     "output_type": "stream",
     "text": [
      "  11.946 ns (1 allocation: 16 bytes)\n"
     ]
    },
    {
     "data": {
      "text/plain": [
       "13.0"
      ]
     },
     "execution_count": 20,
     "metadata": {},
     "output_type": "execute_result"
    }
   ],
   "source": [
    "@btime P(1.0)"
   ]
  },
  {
   "cell_type": "code",
   "execution_count": 21,
   "metadata": {},
   "outputs": [
    {
     "data": {
      "text/html": [
       "1 &#43; 3&#8729;x &#43; 5&#8729;x<sup>2</sup> &#43; 4&#8729;x<sup>4</sup>"
      ],
      "text/latex": [
       "$1 + 3\\cdot x + 5\\cdot x^{2} + 4\\cdot x^{4}$"
      ],
      "text/plain": [
       "ImmutablePolynomial(1 + 3*x + 5*x^2 + 4*x^4)"
      ]
     },
     "execution_count": 21,
     "metadata": {},
     "output_type": "execute_result"
    }
   ],
   "source": [
    "P"
   ]
  },
  {
   "cell_type": "code",
   "execution_count": 22,
   "metadata": {},
   "outputs": [
    {
     "data": {
      "text/plain": [
       "(:coeffs, :var)"
      ]
     },
     "execution_count": 22,
     "metadata": {},
     "output_type": "execute_result"
    }
   ],
   "source": [
    "fieldnames(typeof(P))"
   ]
  },
  {
   "cell_type": "code",
   "execution_count": 23,
   "metadata": {},
   "outputs": [
    {
     "data": {
      "text/plain": [
       ":x"
      ]
     },
     "execution_count": 23,
     "metadata": {},
     "output_type": "execute_result"
    }
   ],
   "source": [
    "P.var"
   ]
  },
  {
   "cell_type": "code",
   "execution_count": 24,
   "metadata": {},
   "outputs": [
    {
     "ename": "UndefVarError",
     "evalue": "UndefVarError: cov not defined",
     "output_type": "error",
     "traceback": [
      "UndefVarError: cov not defined",
      "",
      "Stacktrace:",
      " [1] top-level scope at In[24]:4"
     ]
    }
   ],
   "source": [
    "### Rescale variable \n",
    "ens = EnsembleState(randn(100,1000))\n",
    "x̄ = mean(ens)\n",
    "S = cov(ens) + 20*I\n",
    "C = cholesky(S)\n",
    "@time inv(C.L)"
   ]
  },
  {
   "cell_type": "code",
   "execution_count": 25,
   "metadata": {},
   "outputs": [
    {
     "name": "stdout",
     "output_type": "stream",
     "text": [
      "search: \u001b[0m\u001b[1ml\u001b[22m\u001b[0m\u001b[1md\u001b[22m\u001b[0m\u001b[1mi\u001b[22m\u001b[0m\u001b[1mv\u001b[22m\u001b[0m\u001b[1m!\u001b[22m sp\u001b[0m\u001b[1ml\u001b[22mit\u001b[0m\u001b[1md\u001b[22mr\u001b[0m\u001b[1mi\u001b[22m\u001b[0m\u001b[1mv\u001b[22me\n",
      "\n"
     ]
    },
    {
     "data": {
      "text/latex": [
       "\\begin{verbatim}\n",
       "ldiv!(Y, A, B) -> Y\n",
       "\\end{verbatim}\n",
       "Compute \\texttt{A {\\textbackslash} B} in-place and store the result in \\texttt{Y}, returning the result.\n",
       "\n",
       "The argument \\texttt{A} should \\emph{not} be a matrix.  Rather, instead of matrices it should be a factorization object (e.g. produced by \\href{@ref}{\\texttt{factorize}} or \\href{@ref}{\\texttt{cholesky}}). The reason for this is that factorization itself is both expensive and typically allocates memory (although it can also be done in-place via, e.g., \\href{@ref}{\\texttt{lu!}}), and performance-critical situations requiring \\texttt{ldiv!} usually also require fine-grained control over the factorization of \\texttt{A}.\n",
       "\n",
       "\\section{Examples}\n",
       "\\begin{verbatim}\n",
       "julia> A = [1 2.2 4; 3.1 0.2 3; 4 1 2];\n",
       "\n",
       "julia> X = [1; 2.5; 3];\n",
       "\n",
       "julia> Y = zero(X);\n",
       "\n",
       "julia> ldiv!(Y, qr(A), X);\n",
       "\n",
       "julia> Y\n",
       "3-element Array{Float64,1}:\n",
       "  0.7128099173553719\n",
       " -0.051652892561983674\n",
       "  0.10020661157024757\n",
       "\n",
       "julia> A\\X\n",
       "3-element Array{Float64,1}:\n",
       "  0.7128099173553719\n",
       " -0.05165289256198333\n",
       "  0.10020661157024785\n",
       "\\end{verbatim}\n",
       "\\rule{\\textwidth}{1pt}\n",
       "\\begin{verbatim}\n",
       "ldiv!(A, B)\n",
       "\\end{verbatim}\n",
       "Compute \\texttt{A {\\textbackslash} B} in-place and overwriting \\texttt{B} to store the result.\n",
       "\n",
       "The argument \\texttt{A} should \\emph{not} be a matrix.  Rather, instead of matrices it should be a factorization object (e.g. produced by \\href{@ref}{\\texttt{factorize}} or \\href{@ref}{\\texttt{cholesky}}). The reason for this is that factorization itself is both expensive and typically allocates memory (although it can also be done in-place via, e.g., \\href{@ref}{\\texttt{lu!}}), and performance-critical situations requiring \\texttt{ldiv!} usually also require fine-grained control over the factorization of \\texttt{A}.\n",
       "\n",
       "\\section{Examples}\n",
       "\\begin{verbatim}\n",
       "julia> A = [1 2.2 4; 3.1 0.2 3; 4 1 2];\n",
       "\n",
       "julia> X = [1; 2.5; 3];\n",
       "\n",
       "julia> Y = copy(X);\n",
       "\n",
       "julia> ldiv!(qr(A), X);\n",
       "\n",
       "julia> X\n",
       "3-element Array{Float64,1}:\n",
       "  0.7128099173553719\n",
       " -0.051652892561983674\n",
       "  0.10020661157024757\n",
       "\n",
       "julia> A\\Y\n",
       "3-element Array{Float64,1}:\n",
       "  0.7128099173553719\n",
       " -0.05165289256198333\n",
       "  0.10020661157024785\n",
       "\\end{verbatim}\n",
       "\\rule{\\textwidth}{1pt}\n",
       "\\begin{verbatim}\n",
       "ldiv!(a::Number, B::AbstractArray)\n",
       "\\end{verbatim}\n",
       "Divide each entry in an array \\texttt{B} by a scalar \\texttt{a} overwriting \\texttt{B} in-place.  Use \\href{@ref}{\\texttt{rdiv!}} to divide scalar from right.\n",
       "\n",
       "\\section{Examples}\n",
       "\\begin{verbatim}\n",
       "julia> B = [1.0 2.0; 3.0 4.0]\n",
       "2×2 Array{Float64,2}:\n",
       " 1.0  2.0\n",
       " 3.0  4.0\n",
       "\n",
       "julia> ldiv!(2.0, B)\n",
       "2×2 Array{Float64,2}:\n",
       " 0.5  1.0\n",
       " 1.5  2.0\n",
       "\\end{verbatim}\n",
       "\\rule{\\textwidth}{1pt}\n",
       "Solve Hy = rhs for a non-square Hessenberg matrix. Note that \\texttt{H} is also modified as is it converted to an upper triangular matrix via Given's rotations\n",
       "\n"
      ],
      "text/markdown": [
       "```\n",
       "ldiv!(Y, A, B) -> Y\n",
       "```\n",
       "\n",
       "Compute `A \\ B` in-place and store the result in `Y`, returning the result.\n",
       "\n",
       "The argument `A` should *not* be a matrix.  Rather, instead of matrices it should be a factorization object (e.g. produced by [`factorize`](@ref) or [`cholesky`](@ref)). The reason for this is that factorization itself is both expensive and typically allocates memory (although it can also be done in-place via, e.g., [`lu!`](@ref)), and performance-critical situations requiring `ldiv!` usually also require fine-grained control over the factorization of `A`.\n",
       "\n",
       "# Examples\n",
       "\n",
       "```jldoctest\n",
       "julia> A = [1 2.2 4; 3.1 0.2 3; 4 1 2];\n",
       "\n",
       "julia> X = [1; 2.5; 3];\n",
       "\n",
       "julia> Y = zero(X);\n",
       "\n",
       "julia> ldiv!(Y, qr(A), X);\n",
       "\n",
       "julia> Y\n",
       "3-element Array{Float64,1}:\n",
       "  0.7128099173553719\n",
       " -0.051652892561983674\n",
       "  0.10020661157024757\n",
       "\n",
       "julia> A\\X\n",
       "3-element Array{Float64,1}:\n",
       "  0.7128099173553719\n",
       " -0.05165289256198333\n",
       "  0.10020661157024785\n",
       "```\n",
       "\n",
       "---\n",
       "\n",
       "```\n",
       "ldiv!(A, B)\n",
       "```\n",
       "\n",
       "Compute `A \\ B` in-place and overwriting `B` to store the result.\n",
       "\n",
       "The argument `A` should *not* be a matrix.  Rather, instead of matrices it should be a factorization object (e.g. produced by [`factorize`](@ref) or [`cholesky`](@ref)). The reason for this is that factorization itself is both expensive and typically allocates memory (although it can also be done in-place via, e.g., [`lu!`](@ref)), and performance-critical situations requiring `ldiv!` usually also require fine-grained control over the factorization of `A`.\n",
       "\n",
       "# Examples\n",
       "\n",
       "```jldoctest\n",
       "julia> A = [1 2.2 4; 3.1 0.2 3; 4 1 2];\n",
       "\n",
       "julia> X = [1; 2.5; 3];\n",
       "\n",
       "julia> Y = copy(X);\n",
       "\n",
       "julia> ldiv!(qr(A), X);\n",
       "\n",
       "julia> X\n",
       "3-element Array{Float64,1}:\n",
       "  0.7128099173553719\n",
       " -0.051652892561983674\n",
       "  0.10020661157024757\n",
       "\n",
       "julia> A\\Y\n",
       "3-element Array{Float64,1}:\n",
       "  0.7128099173553719\n",
       " -0.05165289256198333\n",
       "  0.10020661157024785\n",
       "```\n",
       "\n",
       "---\n",
       "\n",
       "```\n",
       "ldiv!(a::Number, B::AbstractArray)\n",
       "```\n",
       "\n",
       "Divide each entry in an array `B` by a scalar `a` overwriting `B` in-place.  Use [`rdiv!`](@ref) to divide scalar from right.\n",
       "\n",
       "# Examples\n",
       "\n",
       "```jldoctest\n",
       "julia> B = [1.0 2.0; 3.0 4.0]\n",
       "2×2 Array{Float64,2}:\n",
       " 1.0  2.0\n",
       " 3.0  4.0\n",
       "\n",
       "julia> ldiv!(2.0, B)\n",
       "2×2 Array{Float64,2}:\n",
       " 0.5  1.0\n",
       " 1.5  2.0\n",
       "```\n",
       "\n",
       "---\n",
       "\n",
       "Solve Hy = rhs for a non-square Hessenberg matrix. Note that `H` is also modified as is it converted to an upper triangular matrix via Given's rotations\n"
      ],
      "text/plain": [
       "\u001b[36m  ldiv!(Y, A, B) -> Y\u001b[39m\n",
       "\n",
       "  Compute \u001b[36mA \\ B\u001b[39m in-place and store the result in \u001b[36mY\u001b[39m, returning the result.\n",
       "\n",
       "  The argument \u001b[36mA\u001b[39m should \u001b[4mnot\u001b[24m be a matrix. Rather, instead of matrices it should\n",
       "  be a factorization object (e.g. produced by \u001b[36mfactorize\u001b[39m or \u001b[36mcholesky\u001b[39m). The\n",
       "  reason for this is that factorization itself is both expensive and typically\n",
       "  allocates memory (although it can also be done in-place via, e.g., \u001b[36mlu!\u001b[39m), and\n",
       "  performance-critical situations requiring \u001b[36mldiv!\u001b[39m usually also require\n",
       "  fine-grained control over the factorization of \u001b[36mA\u001b[39m.\n",
       "\n",
       "\u001b[1m  Examples\u001b[22m\n",
       "\u001b[1m  ≡≡≡≡≡≡≡≡≡≡\u001b[22m\n",
       "\n",
       "\u001b[36m  julia> A = [1 2.2 4; 3.1 0.2 3; 4 1 2];\u001b[39m\n",
       "\u001b[36m  \u001b[39m\n",
       "\u001b[36m  julia> X = [1; 2.5; 3];\u001b[39m\n",
       "\u001b[36m  \u001b[39m\n",
       "\u001b[36m  julia> Y = zero(X);\u001b[39m\n",
       "\u001b[36m  \u001b[39m\n",
       "\u001b[36m  julia> ldiv!(Y, qr(A), X);\u001b[39m\n",
       "\u001b[36m  \u001b[39m\n",
       "\u001b[36m  julia> Y\u001b[39m\n",
       "\u001b[36m  3-element Array{Float64,1}:\u001b[39m\n",
       "\u001b[36m    0.7128099173553719\u001b[39m\n",
       "\u001b[36m   -0.051652892561983674\u001b[39m\n",
       "\u001b[36m    0.10020661157024757\u001b[39m\n",
       "\u001b[36m  \u001b[39m\n",
       "\u001b[36m  julia> A\\X\u001b[39m\n",
       "\u001b[36m  3-element Array{Float64,1}:\u001b[39m\n",
       "\u001b[36m    0.7128099173553719\u001b[39m\n",
       "\u001b[36m   -0.05165289256198333\u001b[39m\n",
       "\u001b[36m    0.10020661157024785\u001b[39m\n",
       "\n",
       "  ────────────────────────────────────────────────────────────────────────────\n",
       "\n",
       "\u001b[36m  ldiv!(A, B)\u001b[39m\n",
       "\n",
       "  Compute \u001b[36mA \\ B\u001b[39m in-place and overwriting \u001b[36mB\u001b[39m to store the result.\n",
       "\n",
       "  The argument \u001b[36mA\u001b[39m should \u001b[4mnot\u001b[24m be a matrix. Rather, instead of matrices it should\n",
       "  be a factorization object (e.g. produced by \u001b[36mfactorize\u001b[39m or \u001b[36mcholesky\u001b[39m). The\n",
       "  reason for this is that factorization itself is both expensive and typically\n",
       "  allocates memory (although it can also be done in-place via, e.g., \u001b[36mlu!\u001b[39m), and\n",
       "  performance-critical situations requiring \u001b[36mldiv!\u001b[39m usually also require\n",
       "  fine-grained control over the factorization of \u001b[36mA\u001b[39m.\n",
       "\n",
       "\u001b[1m  Examples\u001b[22m\n",
       "\u001b[1m  ≡≡≡≡≡≡≡≡≡≡\u001b[22m\n",
       "\n",
       "\u001b[36m  julia> A = [1 2.2 4; 3.1 0.2 3; 4 1 2];\u001b[39m\n",
       "\u001b[36m  \u001b[39m\n",
       "\u001b[36m  julia> X = [1; 2.5; 3];\u001b[39m\n",
       "\u001b[36m  \u001b[39m\n",
       "\u001b[36m  julia> Y = copy(X);\u001b[39m\n",
       "\u001b[36m  \u001b[39m\n",
       "\u001b[36m  julia> ldiv!(qr(A), X);\u001b[39m\n",
       "\u001b[36m  \u001b[39m\n",
       "\u001b[36m  julia> X\u001b[39m\n",
       "\u001b[36m  3-element Array{Float64,1}:\u001b[39m\n",
       "\u001b[36m    0.7128099173553719\u001b[39m\n",
       "\u001b[36m   -0.051652892561983674\u001b[39m\n",
       "\u001b[36m    0.10020661157024757\u001b[39m\n",
       "\u001b[36m  \u001b[39m\n",
       "\u001b[36m  julia> A\\Y\u001b[39m\n",
       "\u001b[36m  3-element Array{Float64,1}:\u001b[39m\n",
       "\u001b[36m    0.7128099173553719\u001b[39m\n",
       "\u001b[36m   -0.05165289256198333\u001b[39m\n",
       "\u001b[36m    0.10020661157024785\u001b[39m\n",
       "\n",
       "  ────────────────────────────────────────────────────────────────────────────\n",
       "\n",
       "\u001b[36m  ldiv!(a::Number, B::AbstractArray)\u001b[39m\n",
       "\n",
       "  Divide each entry in an array \u001b[36mB\u001b[39m by a scalar \u001b[36ma\u001b[39m overwriting \u001b[36mB\u001b[39m in-place. Use\n",
       "  \u001b[36mrdiv!\u001b[39m to divide scalar from right.\n",
       "\n",
       "\u001b[1m  Examples\u001b[22m\n",
       "\u001b[1m  ≡≡≡≡≡≡≡≡≡≡\u001b[22m\n",
       "\n",
       "\u001b[36m  julia> B = [1.0 2.0; 3.0 4.0]\u001b[39m\n",
       "\u001b[36m  2×2 Array{Float64,2}:\u001b[39m\n",
       "\u001b[36m   1.0  2.0\u001b[39m\n",
       "\u001b[36m   3.0  4.0\u001b[39m\n",
       "\u001b[36m  \u001b[39m\n",
       "\u001b[36m  julia> ldiv!(2.0, B)\u001b[39m\n",
       "\u001b[36m  2×2 Array{Float64,2}:\u001b[39m\n",
       "\u001b[36m   0.5  1.0\u001b[39m\n",
       "\u001b[36m   1.5  2.0\u001b[39m\n",
       "\n",
       "  ────────────────────────────────────────────────────────────────────────────\n",
       "\n",
       "  Solve Hy = rhs for a non-square Hessenberg matrix. Note that \u001b[36mH\u001b[39m is also\n",
       "  modified as is it converted to an upper triangular matrix via Given's\n",
       "  rotations"
      ]
     },
     "execution_count": 25,
     "metadata": {},
     "output_type": "execute_result"
    }
   ],
   "source": [
    "?ldiv!"
   ]
  },
  {
   "cell_type": "code",
   "execution_count": 26,
   "metadata": {},
   "outputs": [
    {
     "name": "stdout",
     "output_type": "stream",
     "text": [
      "search: \u001b[0m\u001b[1mc\u001b[22m\u001b[0m\u001b[1mh\u001b[22m\u001b[0m\u001b[1mo\u001b[22m\u001b[0m\u001b[1ml\u001b[22m\u001b[0m\u001b[1me\u001b[22m\u001b[0m\u001b[1ms\u001b[22m\u001b[0m\u001b[1mk\u001b[22m\u001b[0m\u001b[1my\u001b[22m \u001b[0m\u001b[1mc\u001b[22m\u001b[0m\u001b[1mh\u001b[22m\u001b[0m\u001b[1mo\u001b[22m\u001b[0m\u001b[1ml\u001b[22m\u001b[0m\u001b[1me\u001b[22m\u001b[0m\u001b[1ms\u001b[22m\u001b[0m\u001b[1mk\u001b[22m\u001b[0m\u001b[1my\u001b[22m! \u001b[0m\u001b[1mC\u001b[22m\u001b[0m\u001b[1mh\u001b[22m\u001b[0m\u001b[1mo\u001b[22m\u001b[0m\u001b[1ml\u001b[22m\u001b[0m\u001b[1me\u001b[22m\u001b[0m\u001b[1ms\u001b[22m\u001b[0m\u001b[1mk\u001b[22m\u001b[0m\u001b[1my\u001b[22m \u001b[0m\u001b[1mC\u001b[22m\u001b[0m\u001b[1mh\u001b[22m\u001b[0m\u001b[1mo\u001b[22m\u001b[0m\u001b[1ml\u001b[22m\u001b[0m\u001b[1me\u001b[22m\u001b[0m\u001b[1ms\u001b[22m\u001b[0m\u001b[1mk\u001b[22m\u001b[0m\u001b[1my\u001b[22mPivoted\n",
      "\n"
     ]
    },
    {
     "data": {
      "text/latex": [
       "\\begin{verbatim}\n",
       "cholesky(A, Val(false); check = true) -> Cholesky\n",
       "\\end{verbatim}\n",
       "Compute the Cholesky factorization of a dense symmetric positive definite matrix \\texttt{A} and return a \\texttt{Cholesky} factorization. The matrix \\texttt{A} can either be a \\href{@ref}{\\texttt{Symmetric}} or \\href{@ref}{\\texttt{Hermitian}} \\texttt{StridedMatrix} or a \\emph{perfectly} symmetric or Hermitian \\texttt{StridedMatrix}. The triangular Cholesky factor can be obtained from the factorization \\texttt{F} with: \\texttt{F.L} and \\texttt{F.U}. The following functions are available for \\texttt{Cholesky} objects: \\href{@ref}{\\texttt{size}}, \\href{@ref}{\\texttt{{\\textbackslash}}}, \\href{@ref}{\\texttt{inv}}, \\href{@ref}{\\texttt{det}}, \\href{@ref}{\\texttt{logdet}} and \\href{@ref}{\\texttt{isposdef}}.\n",
       "\n",
       "When \\texttt{check = true}, an error is thrown if the decomposition fails. When \\texttt{check = false}, responsibility for checking the decomposition's validity (via \\href{@ref}{\\texttt{issuccess}}) lies with the user.\n",
       "\n",
       "\\section{Examples}\n",
       "\\begin{verbatim}\n",
       "julia> A = [4. 12. -16.; 12. 37. -43.; -16. -43. 98.]\n",
       "3×3 Array{Float64,2}:\n",
       "   4.0   12.0  -16.0\n",
       "  12.0   37.0  -43.0\n",
       " -16.0  -43.0   98.0\n",
       "\n",
       "julia> C = cholesky(A)\n",
       "Cholesky{Float64,Array{Float64,2}}\n",
       "U factor:\n",
       "3×3 UpperTriangular{Float64,Array{Float64,2}}:\n",
       " 2.0  6.0  -8.0\n",
       "  ⋅   1.0   5.0\n",
       "  ⋅    ⋅    3.0\n",
       "\n",
       "julia> C.U\n",
       "3×3 UpperTriangular{Float64,Array{Float64,2}}:\n",
       " 2.0  6.0  -8.0\n",
       "  ⋅   1.0   5.0\n",
       "  ⋅    ⋅    3.0\n",
       "\n",
       "julia> C.L\n",
       "3×3 LowerTriangular{Float64,Array{Float64,2}}:\n",
       "  2.0   ⋅    ⋅\n",
       "  6.0  1.0   ⋅\n",
       " -8.0  5.0  3.0\n",
       "\n",
       "julia> C.L * C.U == A\n",
       "true\n",
       "\\end{verbatim}\n",
       "\\rule{\\textwidth}{1pt}\n",
       "\\begin{verbatim}\n",
       "cholesky(A, Val(true); tol = 0.0, check = true) -> CholeskyPivoted\n",
       "\\end{verbatim}\n",
       "Compute the pivoted Cholesky factorization of a dense symmetric positive semi-definite matrix \\texttt{A} and return a \\texttt{CholeskyPivoted} factorization. The matrix \\texttt{A} can either be a \\href{@ref}{\\texttt{Symmetric}} or \\href{@ref}{\\texttt{Hermitian}} \\texttt{StridedMatrix} or a \\emph{perfectly} symmetric or Hermitian \\texttt{StridedMatrix}. The triangular Cholesky factor can be obtained from the factorization \\texttt{F} with: \\texttt{F.L} and \\texttt{F.U}. The following functions are available for \\texttt{CholeskyPivoted} objects: \\href{@ref}{\\texttt{size}}, \\href{@ref}{\\texttt{{\\textbackslash}}}, \\href{@ref}{\\texttt{inv}}, \\href{@ref}{\\texttt{det}}, and \\href{@ref}{\\texttt{rank}}. The argument \\texttt{tol} determines the tolerance for determining the rank. For negative values, the tolerance is the machine precision.\n",
       "\n",
       "When \\texttt{check = true}, an error is thrown if the decomposition fails. When \\texttt{check = false}, responsibility for checking the decomposition's validity (via \\href{@ref}{\\texttt{issuccess}}) lies with the user.\n",
       "\n",
       "\\rule{\\textwidth}{1pt}\n",
       "\\begin{verbatim}\n",
       "cholesky(A; shift = 0.0, check = true, perm = nothing) -> CHOLMOD.Factor\n",
       "\\end{verbatim}\n",
       "Compute the Cholesky factorization of a sparse positive definite matrix \\texttt{A}. \\texttt{A} must be a \\href{@ref}{\\texttt{SparseMatrixCSC}} or a \\href{@ref}{\\texttt{Symmetric}}/\\href{@ref}{\\texttt{Hermitian}} view of a \\texttt{SparseMatrixCSC}. Note that even if \\texttt{A} doesn't have the type tag, it must still be symmetric or Hermitian. If \\texttt{perm} is not given, a fill-reducing permutation is used. \\texttt{F = cholesky(A)} is most frequently used to solve systems of equations with \\texttt{F{\\textbackslash}b}, but also the methods \\href{@ref}{\\texttt{diag}}, \\href{@ref}{\\texttt{det}}, and \\href{@ref}{\\texttt{logdet}} are defined for \\texttt{F}. You can also extract individual factors from \\texttt{F}, using \\texttt{F.L}. However, since pivoting is on by default, the factorization is internally represented as \\texttt{A == P'*L*L'*P} with a permutation matrix \\texttt{P}; using just \\texttt{L} without accounting for \\texttt{P} will give incorrect answers. To include the effects of permutation, it's typically preferable to extract \"combined\" factors like \\texttt{PtL = F.PtL} (the equivalent of \\texttt{P'*L}) and \\texttt{LtP = F.UP} (the equivalent of \\texttt{L'*P}).\n",
       "\n",
       "When \\texttt{check = true}, an error is thrown if the decomposition fails. When \\texttt{check = false}, responsibility for checking the decomposition's validity (via \\href{@ref}{\\texttt{issuccess}}) lies with the user.\n",
       "\n",
       "Setting the optional \\texttt{shift} keyword argument computes the factorization of \\texttt{A+shift*I} instead of \\texttt{A}. If the \\texttt{perm} argument is provided, it should be a permutation of \\texttt{1:size(A,1)} giving the ordering to use (instead of CHOLMOD's default AMD ordering).\n",
       "\n",
       "\\section{Examples}\n",
       "In the following example, the fill-reducing permutation used is \\texttt{[3, 2, 1]}. If \\texttt{perm} is set to \\texttt{1:3} to enforce no permutation, the number of nonzero elements in the factor is 6.\n",
       "\n",
       "\\begin{verbatim}\n",
       "julia> A = [2 1 1; 1 2 0; 1 0 2]\n",
       "3×3 Array{Int64,2}:\n",
       " 2  1  1\n",
       " 1  2  0\n",
       " 1  0  2\n",
       "\n",
       "julia> C = cholesky(sparse(A))\n",
       "SuiteSparse.CHOLMOD.Factor{Float64}\n",
       "type:    LLt\n",
       "method:  simplicial\n",
       "maxnnz:  5\n",
       "nnz:     5\n",
       "success: true\n",
       "\n",
       "julia> C.p\n",
       "3-element Array{Int64,1}:\n",
       " 3\n",
       " 2\n",
       " 1\n",
       "\n",
       "julia> L = sparse(C.L);\n",
       "\n",
       "julia> Matrix(L)\n",
       "3×3 Array{Float64,2}:\n",
       " 1.41421   0.0       0.0\n",
       " 0.0       1.41421   0.0\n",
       " 0.707107  0.707107  1.0\n",
       "\n",
       "julia> L * L' ≈ A[C.p, C.p]\n",
       "true\n",
       "\n",
       "julia> P = sparse(1:3, C.p, ones(3))\n",
       "3×3 SparseMatrixCSC{Float64,Int64} with 3 stored entries:\n",
       "  [3, 1]  =  1.0\n",
       "  [2, 2]  =  1.0\n",
       "  [1, 3]  =  1.0\n",
       "\n",
       "julia> P' * L * L' * P ≈ A\n",
       "true\n",
       "\n",
       "julia> C = cholesky(sparse(A), perm=1:3)\n",
       "SuiteSparse.CHOLMOD.Factor{Float64}\n",
       "type:    LLt\n",
       "method:  simplicial\n",
       "maxnnz:  6\n",
       "nnz:     6\n",
       "success: true\n",
       "\n",
       "julia> L = sparse(C.L);\n",
       "\n",
       "julia> Matrix(L)\n",
       "3×3 Array{Float64,2}:\n",
       " 1.41421    0.0       0.0\n",
       " 0.707107   1.22474   0.0\n",
       " 0.707107  -0.408248  1.1547\n",
       "\n",
       "julia> L * L' ≈ A\n",
       "true\n",
       "\\end{verbatim}\n",
       "\\begin{quote}\n",
       "\\textbf{note}\n",
       "\n",
       "Note\n",
       "\n",
       "This method uses the CHOLMOD library from SuiteSparse, which only supports doubles or complex doubles. Input matrices not of those element types will be converted to \\texttt{SparseMatrixCSC\\{Float64\\}} or \\texttt{SparseMatrixCSC\\{ComplexF64\\}} as appropriate.\n",
       "\n",
       "Many other functions from CHOLMOD are wrapped but not exported from the \\texttt{Base.SparseArrays.CHOLMOD} module.\n",
       "\n",
       "\\end{quote}\n"
      ],
      "text/markdown": [
       "```\n",
       "cholesky(A, Val(false); check = true) -> Cholesky\n",
       "```\n",
       "\n",
       "Compute the Cholesky factorization of a dense symmetric positive definite matrix `A` and return a `Cholesky` factorization. The matrix `A` can either be a [`Symmetric`](@ref) or [`Hermitian`](@ref) `StridedMatrix` or a *perfectly* symmetric or Hermitian `StridedMatrix`. The triangular Cholesky factor can be obtained from the factorization `F` with: `F.L` and `F.U`. The following functions are available for `Cholesky` objects: [`size`](@ref), [`\\`](@ref), [`inv`](@ref), [`det`](@ref), [`logdet`](@ref) and [`isposdef`](@ref).\n",
       "\n",
       "When `check = true`, an error is thrown if the decomposition fails. When `check = false`, responsibility for checking the decomposition's validity (via [`issuccess`](@ref)) lies with the user.\n",
       "\n",
       "# Examples\n",
       "\n",
       "```jldoctest\n",
       "julia> A = [4. 12. -16.; 12. 37. -43.; -16. -43. 98.]\n",
       "3×3 Array{Float64,2}:\n",
       "   4.0   12.0  -16.0\n",
       "  12.0   37.0  -43.0\n",
       " -16.0  -43.0   98.0\n",
       "\n",
       "julia> C = cholesky(A)\n",
       "Cholesky{Float64,Array{Float64,2}}\n",
       "U factor:\n",
       "3×3 UpperTriangular{Float64,Array{Float64,2}}:\n",
       " 2.0  6.0  -8.0\n",
       "  ⋅   1.0   5.0\n",
       "  ⋅    ⋅    3.0\n",
       "\n",
       "julia> C.U\n",
       "3×3 UpperTriangular{Float64,Array{Float64,2}}:\n",
       " 2.0  6.0  -8.0\n",
       "  ⋅   1.0   5.0\n",
       "  ⋅    ⋅    3.0\n",
       "\n",
       "julia> C.L\n",
       "3×3 LowerTriangular{Float64,Array{Float64,2}}:\n",
       "  2.0   ⋅    ⋅\n",
       "  6.0  1.0   ⋅\n",
       " -8.0  5.0  3.0\n",
       "\n",
       "julia> C.L * C.U == A\n",
       "true\n",
       "```\n",
       "\n",
       "---\n",
       "\n",
       "```\n",
       "cholesky(A, Val(true); tol = 0.0, check = true) -> CholeskyPivoted\n",
       "```\n",
       "\n",
       "Compute the pivoted Cholesky factorization of a dense symmetric positive semi-definite matrix `A` and return a `CholeskyPivoted` factorization. The matrix `A` can either be a [`Symmetric`](@ref) or [`Hermitian`](@ref) `StridedMatrix` or a *perfectly* symmetric or Hermitian `StridedMatrix`. The triangular Cholesky factor can be obtained from the factorization `F` with: `F.L` and `F.U`. The following functions are available for `CholeskyPivoted` objects: [`size`](@ref), [`\\`](@ref), [`inv`](@ref), [`det`](@ref), and [`rank`](@ref). The argument `tol` determines the tolerance for determining the rank. For negative values, the tolerance is the machine precision.\n",
       "\n",
       "When `check = true`, an error is thrown if the decomposition fails. When `check = false`, responsibility for checking the decomposition's validity (via [`issuccess`](@ref)) lies with the user.\n",
       "\n",
       "---\n",
       "\n",
       "```\n",
       "cholesky(A; shift = 0.0, check = true, perm = nothing) -> CHOLMOD.Factor\n",
       "```\n",
       "\n",
       "Compute the Cholesky factorization of a sparse positive definite matrix `A`. `A` must be a [`SparseMatrixCSC`](@ref) or a [`Symmetric`](@ref)/[`Hermitian`](@ref) view of a `SparseMatrixCSC`. Note that even if `A` doesn't have the type tag, it must still be symmetric or Hermitian. If `perm` is not given, a fill-reducing permutation is used. `F = cholesky(A)` is most frequently used to solve systems of equations with `F\\b`, but also the methods [`diag`](@ref), [`det`](@ref), and [`logdet`](@ref) are defined for `F`. You can also extract individual factors from `F`, using `F.L`. However, since pivoting is on by default, the factorization is internally represented as `A == P'*L*L'*P` with a permutation matrix `P`; using just `L` without accounting for `P` will give incorrect answers. To include the effects of permutation, it's typically preferable to extract \"combined\" factors like `PtL = F.PtL` (the equivalent of `P'*L`) and `LtP = F.UP` (the equivalent of `L'*P`).\n",
       "\n",
       "When `check = true`, an error is thrown if the decomposition fails. When `check = false`, responsibility for checking the decomposition's validity (via [`issuccess`](@ref)) lies with the user.\n",
       "\n",
       "Setting the optional `shift` keyword argument computes the factorization of `A+shift*I` instead of `A`. If the `perm` argument is provided, it should be a permutation of `1:size(A,1)` giving the ordering to use (instead of CHOLMOD's default AMD ordering).\n",
       "\n",
       "# Examples\n",
       "\n",
       "In the following example, the fill-reducing permutation used is `[3, 2, 1]`. If `perm` is set to `1:3` to enforce no permutation, the number of nonzero elements in the factor is 6.\n",
       "\n",
       "```jldoctest\n",
       "julia> A = [2 1 1; 1 2 0; 1 0 2]\n",
       "3×3 Array{Int64,2}:\n",
       " 2  1  1\n",
       " 1  2  0\n",
       " 1  0  2\n",
       "\n",
       "julia> C = cholesky(sparse(A))\n",
       "SuiteSparse.CHOLMOD.Factor{Float64}\n",
       "type:    LLt\n",
       "method:  simplicial\n",
       "maxnnz:  5\n",
       "nnz:     5\n",
       "success: true\n",
       "\n",
       "julia> C.p\n",
       "3-element Array{Int64,1}:\n",
       " 3\n",
       " 2\n",
       " 1\n",
       "\n",
       "julia> L = sparse(C.L);\n",
       "\n",
       "julia> Matrix(L)\n",
       "3×3 Array{Float64,2}:\n",
       " 1.41421   0.0       0.0\n",
       " 0.0       1.41421   0.0\n",
       " 0.707107  0.707107  1.0\n",
       "\n",
       "julia> L * L' ≈ A[C.p, C.p]\n",
       "true\n",
       "\n",
       "julia> P = sparse(1:3, C.p, ones(3))\n",
       "3×3 SparseMatrixCSC{Float64,Int64} with 3 stored entries:\n",
       "  [3, 1]  =  1.0\n",
       "  [2, 2]  =  1.0\n",
       "  [1, 3]  =  1.0\n",
       "\n",
       "julia> P' * L * L' * P ≈ A\n",
       "true\n",
       "\n",
       "julia> C = cholesky(sparse(A), perm=1:3)\n",
       "SuiteSparse.CHOLMOD.Factor{Float64}\n",
       "type:    LLt\n",
       "method:  simplicial\n",
       "maxnnz:  6\n",
       "nnz:     6\n",
       "success: true\n",
       "\n",
       "julia> L = sparse(C.L);\n",
       "\n",
       "julia> Matrix(L)\n",
       "3×3 Array{Float64,2}:\n",
       " 1.41421    0.0       0.0\n",
       " 0.707107   1.22474   0.0\n",
       " 0.707107  -0.408248  1.1547\n",
       "\n",
       "julia> L * L' ≈ A\n",
       "true\n",
       "```\n",
       "\n",
       "!!! note\n",
       "    This method uses the CHOLMOD library from SuiteSparse, which only supports doubles or complex doubles. Input matrices not of those element types will be converted to `SparseMatrixCSC{Float64}` or `SparseMatrixCSC{ComplexF64}` as appropriate.\n",
       "\n",
       "    Many other functions from CHOLMOD are wrapped but not exported from the `Base.SparseArrays.CHOLMOD` module.\n",
       "\n"
      ],
      "text/plain": [
       "\u001b[36m  cholesky(A, Val(false); check = true) -> Cholesky\u001b[39m\n",
       "\n",
       "  Compute the Cholesky factorization of a dense symmetric positive definite\n",
       "  matrix \u001b[36mA\u001b[39m and return a \u001b[36mCholesky\u001b[39m factorization. The matrix \u001b[36mA\u001b[39m can either be a\n",
       "  \u001b[36mSymmetric\u001b[39m or \u001b[36mHermitian\u001b[39m \u001b[36mStridedMatrix\u001b[39m or a \u001b[4mperfectly\u001b[24m symmetric or Hermitian\n",
       "  \u001b[36mStridedMatrix\u001b[39m. The triangular Cholesky factor can be obtained from the\n",
       "  factorization \u001b[36mF\u001b[39m with: \u001b[36mF.L\u001b[39m and \u001b[36mF.U\u001b[39m. The following functions are available for\n",
       "  \u001b[36mCholesky\u001b[39m objects: \u001b[36msize\u001b[39m, \u001b[36m\\\u001b[39m, \u001b[36minv\u001b[39m, \u001b[36mdet\u001b[39m, \u001b[36mlogdet\u001b[39m and \u001b[36misposdef\u001b[39m.\n",
       "\n",
       "  When \u001b[36mcheck = true\u001b[39m, an error is thrown if the decomposition fails. When \u001b[36mcheck\n",
       "  = false\u001b[39m, responsibility for checking the decomposition's validity (via\n",
       "  \u001b[36missuccess\u001b[39m) lies with the user.\n",
       "\n",
       "\u001b[1m  Examples\u001b[22m\n",
       "\u001b[1m  ≡≡≡≡≡≡≡≡≡≡\u001b[22m\n",
       "\n",
       "\u001b[36m  julia> A = [4. 12. -16.; 12. 37. -43.; -16. -43. 98.]\u001b[39m\n",
       "\u001b[36m  3×3 Array{Float64,2}:\u001b[39m\n",
       "\u001b[36m     4.0   12.0  -16.0\u001b[39m\n",
       "\u001b[36m    12.0   37.0  -43.0\u001b[39m\n",
       "\u001b[36m   -16.0  -43.0   98.0\u001b[39m\n",
       "\u001b[36m  \u001b[39m\n",
       "\u001b[36m  julia> C = cholesky(A)\u001b[39m\n",
       "\u001b[36m  Cholesky{Float64,Array{Float64,2}}\u001b[39m\n",
       "\u001b[36m  U factor:\u001b[39m\n",
       "\u001b[36m  3×3 UpperTriangular{Float64,Array{Float64,2}}:\u001b[39m\n",
       "\u001b[36m   2.0  6.0  -8.0\u001b[39m\n",
       "\u001b[36m    ⋅   1.0   5.0\u001b[39m\n",
       "\u001b[36m    ⋅    ⋅    3.0\u001b[39m\n",
       "\u001b[36m  \u001b[39m\n",
       "\u001b[36m  julia> C.U\u001b[39m\n",
       "\u001b[36m  3×3 UpperTriangular{Float64,Array{Float64,2}}:\u001b[39m\n",
       "\u001b[36m   2.0  6.0  -8.0\u001b[39m\n",
       "\u001b[36m    ⋅   1.0   5.0\u001b[39m\n",
       "\u001b[36m    ⋅    ⋅    3.0\u001b[39m\n",
       "\u001b[36m  \u001b[39m\n",
       "\u001b[36m  julia> C.L\u001b[39m\n",
       "\u001b[36m  3×3 LowerTriangular{Float64,Array{Float64,2}}:\u001b[39m\n",
       "\u001b[36m    2.0   ⋅    ⋅\u001b[39m\n",
       "\u001b[36m    6.0  1.0   ⋅\u001b[39m\n",
       "\u001b[36m   -8.0  5.0  3.0\u001b[39m\n",
       "\u001b[36m  \u001b[39m\n",
       "\u001b[36m  julia> C.L * C.U == A\u001b[39m\n",
       "\u001b[36m  true\u001b[39m\n",
       "\n",
       "  ────────────────────────────────────────────────────────────────────────────\n",
       "\n",
       "\u001b[36m  cholesky(A, Val(true); tol = 0.0, check = true) -> CholeskyPivoted\u001b[39m\n",
       "\n",
       "  Compute the pivoted Cholesky factorization of a dense symmetric positive\n",
       "  semi-definite matrix \u001b[36mA\u001b[39m and return a \u001b[36mCholeskyPivoted\u001b[39m factorization. The\n",
       "  matrix \u001b[36mA\u001b[39m can either be a \u001b[36mSymmetric\u001b[39m or \u001b[36mHermitian\u001b[39m \u001b[36mStridedMatrix\u001b[39m or a \u001b[4mperfectly\u001b[24m\n",
       "  symmetric or Hermitian \u001b[36mStridedMatrix\u001b[39m. The triangular Cholesky factor can be\n",
       "  obtained from the factorization \u001b[36mF\u001b[39m with: \u001b[36mF.L\u001b[39m and \u001b[36mF.U\u001b[39m. The following functions\n",
       "  are available for \u001b[36mCholeskyPivoted\u001b[39m objects: \u001b[36msize\u001b[39m, \u001b[36m\\\u001b[39m, \u001b[36minv\u001b[39m, \u001b[36mdet\u001b[39m, and \u001b[36mrank\u001b[39m. The\n",
       "  argument \u001b[36mtol\u001b[39m determines the tolerance for determining the rank. For negative\n",
       "  values, the tolerance is the machine precision.\n",
       "\n",
       "  When \u001b[36mcheck = true\u001b[39m, an error is thrown if the decomposition fails. When \u001b[36mcheck\n",
       "  = false\u001b[39m, responsibility for checking the decomposition's validity (via\n",
       "  \u001b[36missuccess\u001b[39m) lies with the user.\n",
       "\n",
       "  ────────────────────────────────────────────────────────────────────────────\n",
       "\n",
       "\u001b[36m  cholesky(A; shift = 0.0, check = true, perm = nothing) -> CHOLMOD.Factor\u001b[39m\n",
       "\n",
       "  Compute the Cholesky factorization of a sparse positive definite matrix \u001b[36mA\u001b[39m. \u001b[36mA\u001b[39m\n",
       "  must be a \u001b[36mSparseMatrixCSC\u001b[39m or a \u001b[36mSymmetric\u001b[39m/\u001b[36mHermitian\u001b[39m view of a\n",
       "  \u001b[36mSparseMatrixCSC\u001b[39m. Note that even if \u001b[36mA\u001b[39m doesn't have the type tag, it must\n",
       "  still be symmetric or Hermitian. If \u001b[36mperm\u001b[39m is not given, a fill-reducing\n",
       "  permutation is used. \u001b[36mF = cholesky(A)\u001b[39m is most frequently used to solve\n",
       "  systems of equations with \u001b[36mF\\b\u001b[39m, but also the methods \u001b[36mdiag\u001b[39m, \u001b[36mdet\u001b[39m, and \u001b[36mlogdet\u001b[39m\n",
       "  are defined for \u001b[36mF\u001b[39m. You can also extract individual factors from \u001b[36mF\u001b[39m, using\n",
       "  \u001b[36mF.L\u001b[39m. However, since pivoting is on by default, the factorization is\n",
       "  internally represented as \u001b[36mA == P'*L*L'*P\u001b[39m with a permutation matrix \u001b[36mP\u001b[39m; using\n",
       "  just \u001b[36mL\u001b[39m without accounting for \u001b[36mP\u001b[39m will give incorrect answers. To include the\n",
       "  effects of permutation, it's typically preferable to extract \"combined\"\n",
       "  factors like \u001b[36mPtL = F.PtL\u001b[39m (the equivalent of \u001b[36mP'*L\u001b[39m) and \u001b[36mLtP = F.UP\u001b[39m (the\n",
       "  equivalent of \u001b[36mL'*P\u001b[39m).\n",
       "\n",
       "  When \u001b[36mcheck = true\u001b[39m, an error is thrown if the decomposition fails. When \u001b[36mcheck\n",
       "  = false\u001b[39m, responsibility for checking the decomposition's validity (via\n",
       "  \u001b[36missuccess\u001b[39m) lies with the user.\n",
       "\n",
       "  Setting the optional \u001b[36mshift\u001b[39m keyword argument computes the factorization of\n",
       "  \u001b[36mA+shift*I\u001b[39m instead of \u001b[36mA\u001b[39m. If the \u001b[36mperm\u001b[39m argument is provided, it should be a\n",
       "  permutation of \u001b[36m1:size(A,1)\u001b[39m giving the ordering to use (instead of CHOLMOD's\n",
       "  default AMD ordering).\n",
       "\n",
       "\u001b[1m  Examples\u001b[22m\n",
       "\u001b[1m  ≡≡≡≡≡≡≡≡≡≡\u001b[22m\n",
       "\n",
       "  In the following example, the fill-reducing permutation used is \u001b[36m[3, 2, 1]\u001b[39m.\n",
       "  If \u001b[36mperm\u001b[39m is set to \u001b[36m1:3\u001b[39m to enforce no permutation, the number of nonzero\n",
       "  elements in the factor is 6.\n",
       "\n",
       "\u001b[36m  julia> A = [2 1 1; 1 2 0; 1 0 2]\u001b[39m\n",
       "\u001b[36m  3×3 Array{Int64,2}:\u001b[39m\n",
       "\u001b[36m   2  1  1\u001b[39m\n",
       "\u001b[36m   1  2  0\u001b[39m\n",
       "\u001b[36m   1  0  2\u001b[39m\n",
       "\u001b[36m  \u001b[39m\n",
       "\u001b[36m  julia> C = cholesky(sparse(A))\u001b[39m\n",
       "\u001b[36m  SuiteSparse.CHOLMOD.Factor{Float64}\u001b[39m\n",
       "\u001b[36m  type:    LLt\u001b[39m\n",
       "\u001b[36m  method:  simplicial\u001b[39m\n",
       "\u001b[36m  maxnnz:  5\u001b[39m\n",
       "\u001b[36m  nnz:     5\u001b[39m\n",
       "\u001b[36m  success: true\u001b[39m\n",
       "\u001b[36m  \u001b[39m\n",
       "\u001b[36m  julia> C.p\u001b[39m\n",
       "\u001b[36m  3-element Array{Int64,1}:\u001b[39m\n",
       "\u001b[36m   3\u001b[39m\n",
       "\u001b[36m   2\u001b[39m\n",
       "\u001b[36m   1\u001b[39m\n",
       "\u001b[36m  \u001b[39m\n",
       "\u001b[36m  julia> L = sparse(C.L);\u001b[39m\n",
       "\u001b[36m  \u001b[39m\n",
       "\u001b[36m  julia> Matrix(L)\u001b[39m\n",
       "\u001b[36m  3×3 Array{Float64,2}:\u001b[39m\n",
       "\u001b[36m   1.41421   0.0       0.0\u001b[39m\n",
       "\u001b[36m   0.0       1.41421   0.0\u001b[39m\n",
       "\u001b[36m   0.707107  0.707107  1.0\u001b[39m\n",
       "\u001b[36m  \u001b[39m\n",
       "\u001b[36m  julia> L * L' ≈ A[C.p, C.p]\u001b[39m\n",
       "\u001b[36m  true\u001b[39m\n",
       "\u001b[36m  \u001b[39m\n",
       "\u001b[36m  julia> P = sparse(1:3, C.p, ones(3))\u001b[39m\n",
       "\u001b[36m  3×3 SparseMatrixCSC{Float64,Int64} with 3 stored entries:\u001b[39m\n",
       "\u001b[36m    [3, 1]  =  1.0\u001b[39m\n",
       "\u001b[36m    [2, 2]  =  1.0\u001b[39m\n",
       "\u001b[36m    [1, 3]  =  1.0\u001b[39m\n",
       "\u001b[36m  \u001b[39m\n",
       "\u001b[36m  julia> P' * L * L' * P ≈ A\u001b[39m\n",
       "\u001b[36m  true\u001b[39m\n",
       "\u001b[36m  \u001b[39m\n",
       "\u001b[36m  julia> C = cholesky(sparse(A), perm=1:3)\u001b[39m\n",
       "\u001b[36m  SuiteSparse.CHOLMOD.Factor{Float64}\u001b[39m\n",
       "\u001b[36m  type:    LLt\u001b[39m\n",
       "\u001b[36m  method:  simplicial\u001b[39m\n",
       "\u001b[36m  maxnnz:  6\u001b[39m\n",
       "\u001b[36m  nnz:     6\u001b[39m\n",
       "\u001b[36m  success: true\u001b[39m\n",
       "\u001b[36m  \u001b[39m\n",
       "\u001b[36m  julia> L = sparse(C.L);\u001b[39m\n",
       "\u001b[36m  \u001b[39m\n",
       "\u001b[36m  julia> Matrix(L)\u001b[39m\n",
       "\u001b[36m  3×3 Array{Float64,2}:\u001b[39m\n",
       "\u001b[36m   1.41421    0.0       0.0\u001b[39m\n",
       "\u001b[36m   0.707107   1.22474   0.0\u001b[39m\n",
       "\u001b[36m   0.707107  -0.408248  1.1547\u001b[39m\n",
       "\u001b[36m  \u001b[39m\n",
       "\u001b[36m  julia> L * L' ≈ A\u001b[39m\n",
       "\u001b[36m  true\u001b[39m\n",
       "\n",
       "\u001b[36m\u001b[1m  │ \u001b[22m\u001b[39m\u001b[36m\u001b[1mNote\u001b[22m\u001b[39m\n",
       "\u001b[36m\u001b[1m  │\u001b[22m\u001b[39m\n",
       "\u001b[36m\u001b[1m  │\u001b[22m\u001b[39m  This method uses the CHOLMOD library from SuiteSparse, which only\n",
       "\u001b[36m\u001b[1m  │\u001b[22m\u001b[39m  supports doubles or complex doubles. Input matrices not of those\n",
       "\u001b[36m\u001b[1m  │\u001b[22m\u001b[39m  element types will be converted to \u001b[36mSparseMatrixCSC{Float64}\u001b[39m or\n",
       "\u001b[36m\u001b[1m  │\u001b[22m\u001b[39m  \u001b[36mSparseMatrixCSC{ComplexF64}\u001b[39m as appropriate.\n",
       "\u001b[36m\u001b[1m  │\u001b[22m\u001b[39m\n",
       "\u001b[36m\u001b[1m  │\u001b[22m\u001b[39m  Many other functions from CHOLMOD are wrapped but not exported\n",
       "\u001b[36m\u001b[1m  │\u001b[22m\u001b[39m  from the \u001b[36mBase.SparseArrays.CHOLMOD\u001b[39m module."
      ]
     },
     "execution_count": 26,
     "metadata": {},
     "output_type": "execute_result"
    }
   ],
   "source": [
    "?cholesky"
   ]
  },
  {
   "cell_type": "code",
   "execution_count": null,
   "metadata": {},
   "outputs": [],
   "source": []
  },
  {
   "cell_type": "code",
   "execution_count": null,
   "metadata": {},
   "outputs": [],
   "source": []
  }
 ],
 "metadata": {
  "kernelspec": {
   "display_name": "Julia 1.4.0",
   "language": "julia",
   "name": "julia-1.4"
  },
  "language_info": {
   "file_extension": ".jl",
   "mimetype": "application/julia",
   "name": "julia",
   "version": "1.4.0"
  }
 },
 "nbformat": 4,
 "nbformat_minor": 2
}
