{
 "cells": [
  {
   "cell_type": "code",
   "execution_count": 2,
   "metadata": {},
   "outputs": [
    {
     "name": "stderr",
     "output_type": "stream",
     "text": [
      "\u001b[32m\u001b[1m Activating\u001b[22m\u001b[39m environment at `/media/mat/HDD/AdaptiveTransportMap/Project.toml`\n"
     ]
    }
   ],
   "source": [
    "using Pkg\n",
    "Pkg.activate(\"/media/mat/HDD/AdaptiveTransportMap/\")"
   ]
  },
  {
   "cell_type": "code",
   "execution_count": 3,
   "metadata": {
    "scrolled": false
   },
   "outputs": [
    {
     "name": "stderr",
     "output_type": "stream",
     "text": [
      "WARNING: using Optim.optimize in module Main conflicts with an existing identifier.\n"
     ]
    }
   ],
   "source": [
    "using Revise\n",
    "using AdaptiveTransportMap\n",
    "using LinearAlgebra\n",
    "import LinearAlgebra: ldiv!, dot\n",
    "using Test\n",
    "using ForwardDiff\n",
    "using SpecialFunctions\n",
    "using BenchmarkTools\n",
    "using TransportMap\n",
    "using QuadGK\n",
    "using AdaptiveTransportMap: transform!, evaluate, ncoeff, optimize, negative_log_likelihood!\n",
    "using DiffResults\n",
    "using Distributions\n",
    "using Random\n",
    "using LoopVectorization\n",
    "using Optim\n",
    "using NLsolve\n",
    "using Polynomials\n",
    "using Optim: InverseDiagonal\n",
    "using MLDataUtils\n",
    "using Test"
   ]
  },
  {
   "cell_type": "markdown",
   "metadata": {},
   "source": [
    "### Greedy fit"
   ]
  },
  {
   "cell_type": "code",
   "execution_count": 104,
   "metadata": {},
   "outputs": [
    {
     "data": {
      "text/plain": [
       "MapComponent(8, 2, 2, IntegratedFunction(8, 2, 2, Rectifier(\"softplus\"), ParametricFunction(ExpandedFunction(8, 2, 2, MultiBasis(Basis of 8 functions:\n",
       "ProPolyHermite(0, ImmutablePolynomial(1.0), false)\n",
       "ProHermite(0, ProPolyHermite(0, ImmutablePolynomial(0.6316187777460647), true), true)\n",
       "ProHermite(1, ProPolyHermite(1, ImmutablePolynomial(0.6316187777460647*x), true), true)\n",
       "ProHermite(2, ProPolyHermite(2, ImmutablePolynomial(-0.44662192086900115 + 0.44662192086900115*x^2), true), true)\n",
       "ProHermite(3, ProPolyHermite(3, ImmutablePolynomial(-0.7735718587191167*x + 0.25785728623970555*x^3), true), true)\n",
       "ProHermite(4, ProPolyHermite(4, ImmutablePolynomial(0.38678592935955836 - 0.7735718587191167*x^2 + 0.12892864311985278*x^4), true), true)\n",
       "ProHermite(5, ProPolyHermite(5, ImmutablePolynomial(0.8648796307884041*x - 0.5765864205256028*x^3 + 0.05765864205256028*x^5), true), true)\n",
       "ProHermite(6, ProPolyHermite(6, ImmutablePolynomial(-0.353085630726383 + 1.059256892179149*x^2 - 0.353085630726383*x^4 + 0.023539042048425534*x^6), true), true)\n",
       ", 2), [0 1; 0 2], [0.0, 0.0]))), 1.0e-6)"
      ]
     },
     "execution_count": 104,
     "metadata": {},
     "output_type": "execute_result"
    }
   ],
   "source": [
    "Nx = 2\n",
    "Ne = 8\n",
    "m = 10\n",
    "X = Matrix([0.267333   1.43021;\n",
    "              0.364979   0.607224;\n",
    "             -1.23693    0.249277;\n",
    "             -2.0526     0.915629;\n",
    "             -0.182465   0.415874;\n",
    "              0.412907   1.01672;\n",
    "              1.41332   -0.918205;\n",
    "              0.766647  -1.00445]')\n",
    "\n",
    "B = MultiBasis(CstProHermite(6; scaled =true), Nx)\n",
    "\n",
    "idx = [0 1; 0 2]\n",
    "coeff = [0.0; 0.0]\n",
    "\n",
    "f = ExpandedFunction(B, idx, coeff)\n",
    "fp = ParametricFunction(f)\n",
    "R = IntegratedFunction(fp)\n",
    "\n",
    "C = MapComponent(R)"
   ]
  },
  {
   "cell_type": "code",
   "execution_count": null,
   "metadata": {},
   "outputs": [],
   "source": [
    "optimize(C, X, 3)"
   ]
  },
  {
   "cell_type": "code",
   "execution_count": 105,
   "metadata": {},
   "outputs": [
    {
     "data": {
      "text/plain": [
       "(MapComponent(8, 2, 2, IntegratedFunction(8, 2, 2, Rectifier(\"softplus\"), ParametricFunction(ExpandedFunction(8, 2, 2, MultiBasis(Basis of 8 functions:\n",
       "ProPolyHermite(0, ImmutablePolynomial(1.0), false)\n",
       "ProHermite(0, ProPolyHermite(0, ImmutablePolynomial(0.6316187777460647), true), true)\n",
       "ProHermite(1, ProPolyHermite(1, ImmutablePolynomial(0.6316187777460647*x), true), true)\n",
       "ProHermite(2, ProPolyHermite(2, ImmutablePolynomial(-0.44662192086900115 + 0.44662192086900115*x^2), true), true)\n",
       "ProHermite(3, ProPolyHermite(3, ImmutablePolynomial(-0.7735718587191167*x + 0.25785728623970555*x^3), true), true)\n",
       "ProHermite(4, ProPolyHermite(4, ImmutablePolynomial(0.38678592935955836 - 0.7735718587191167*x^2 + 0.12892864311985278*x^4), true), true)\n",
       "ProHermite(5, ProPolyHermite(5, ImmutablePolynomial(0.8648796307884041*x - 0.5765864205256028*x^3 + 0.05765864205256028*x^5), true), true)\n",
       "ProHermite(6, ProPolyHermite(6, ImmutablePolynomial(-0.353085630726383 + 1.059256892179149*x^2 - 0.353085630726383*x^4 + 0.023539042048425534*x^6), true), true)\n",
       ", 2), [0 1; 0 2], [-0.6898690014896076, 0.13323965698062304]))), 1.0e-6), 1.2397556756053278)"
      ]
     },
     "execution_count": 105,
     "metadata": {},
     "output_type": "execute_result"
    }
   ],
   "source": [
    "optimize(C, X, nothing)"
   ]
  },
  {
   "cell_type": "code",
   "execution_count": 106,
   "metadata": {},
   "outputs": [
    {
     "name": "stdout",
     "output_type": "stream",
     "text": [
      "1 terms - Training error: 1.3172777885451104\n",
      "1 terms - Training error: 1.259805580256394\n",
      "2 terms - Training error: 1.193580666838948\n",
      "3 terms - Training error: 1.177493191564905\n"
     ]
    },
    {
     "data": {
      "text/plain": [
       "(MapComponent(10, 3, 2, IntegratedFunction(10, 3, 2, Rectifier(\"softplus\"), ParametricFunction(ExpandedFunction(10, 3, 2, MultiBasis(Basis of 10 functions:\n",
       "ProPolyHermite(0, ImmutablePolynomial(1.0), false)\n",
       "ProHermite(0, ProPolyHermite(0, ImmutablePolynomial(0.6316187777460647), true), true)\n",
       "ProHermite(1, ProPolyHermite(1, ImmutablePolynomial(0.6316187777460647*x), true), true)\n",
       "ProHermite(2, ProPolyHermite(2, ImmutablePolynomial(-0.44662192086900115 + 0.44662192086900115*x^2), true), true)\n",
       "ProHermite(3, ProPolyHermite(3, ImmutablePolynomial(-0.7735718587191167*x + 0.25785728623970555*x^3), true), true)\n",
       "ProHermite(4, ProPolyHermite(4, ImmutablePolynomial(0.38678592935955836 - 0.7735718587191167*x^2 + 0.12892864311985278*x^4), true), true)\n",
       "ProHermite(5, ProPolyHermite(5, ImmutablePolynomial(0.8648796307884041*x - 0.5765864205256028*x^3 + 0.05765864205256028*x^5), true), true)\n",
       "ProHermite(6, ProPolyHermite(6, ImmutablePolynomial(-0.353085630726383 + 1.059256892179149*x^2 - 0.353085630726383*x^4 + 0.023539042048425534*x^6), true), true)\n",
       "ProHermite(7, ProPolyHermite(7, ImmutablePolynomial(-0.9341767704123958*x + 0.9341767704123958*x^3 - 0.18683535408247914*x^5 + 0.008896921622975198*x^7), true), true)\n",
       "ProHermite(8, ProPolyHermite(8, ImmutablePolynomial(0.3302813645927768 - 1.3211254583711072*x^2 + 0.6605627291855536*x^4 - 0.08807503055807382*x^6 + 0.0031455368056454935*x^8), true), true)\n",
       ", 2), [0 0; 0 1; 1 0], [2.655415872247072, -4.065292975842097, -1.3039252736151425]))), 1.0e-6), [1.3172777885451104, 1.259805580256394, 1.193580666838948, 1.177493191564905])"
      ]
     },
     "execution_count": 106,
     "metadata": {},
     "output_type": "execute_result"
    }
   ],
   "source": [
    "greedyfit(m, Nx, X, 3)"
   ]
  },
  {
   "cell_type": "code",
   "execution_count": null,
   "metadata": {},
   "outputs": [],
   "source": []
  }
 ],
 "metadata": {
  "kernelspec": {
   "display_name": "Julia 1.4.0",
   "language": "julia",
   "name": "julia-1.4"
  },
  "language_info": {
   "file_extension": ".jl",
   "mimetype": "application/julia",
   "name": "julia",
   "version": "1.4.0"
  }
 },
 "nbformat": 4,
 "nbformat_minor": 2
}
