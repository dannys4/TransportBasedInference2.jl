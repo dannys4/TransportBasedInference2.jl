{
 "cells": [
  {
   "cell_type": "code",
   "execution_count": 5,
   "metadata": {},
   "outputs": [
    {
     "name": "stderr",
     "output_type": "stream",
     "text": [
      "\u001b[32m\u001b[1m Activating\u001b[22m\u001b[39m environment at `/media/mat/HDD/AdaptiveTransportMap/Project.toml`\n"
     ]
    }
   ],
   "source": [
    "using Pkg\n",
    "Pkg.activate(\"/media/mat/HDD/AdaptiveTransportMap/\")"
   ]
  },
  {
   "cell_type": "code",
   "execution_count": 6,
   "metadata": {
    "scrolled": false
   },
   "outputs": [
    {
     "name": "stderr",
     "output_type": "stream",
     "text": [
      "┌ Info: Precompiling AdaptiveTransportMap [bdf749b0-1400-4207-80d3-e689c0e3f03d]\n",
      "└ @ Base loading.jl:1278\n",
      "┌ Warning: Type annotations on keyword arguments not currently supported in recipes. Type information has been discarded\n",
      "└ @ RecipesBase ~/.julia/packages/RecipesBase/AN696/src/RecipesBase.jl:117\n"
     ]
    }
   ],
   "source": [
    "using Revise\n",
    "using AdaptiveTransportMap\n",
    "using LinearAlgebra\n",
    "import LinearAlgebra: ldiv!, dot\n",
    "using Test\n",
    "using ForwardDiff\n",
    "using SpecialFunctions\n",
    "using BenchmarkTools\n",
    "using TransportMap\n",
    "using QuadGK\n",
    "using Polynomials\n",
    "using Distributions\n",
    "using Random\n",
    "using LoopVectorization\n",
    "using Optim\n",
    "using NLsolve\n",
    "using MLDataUtils\n",
    "using MLDataPattern\n",
    "using Test\n",
    "using SparseArrays\n",
    "using QRupdate\n",
    "using AdaptiveTransportMap: vander, transform!, evaluate, ncoeff, optimize, negative_log_likelihood!, derivative\n",
    "using Quadrature\n",
    "using Cubature\n",
    "# using Profile\n",
    "# using ProfileView"
   ]
  },
  {
   "cell_type": "markdown",
   "metadata": {},
   "source": [
    "### 1D example"
   ]
  },
  {
   "cell_type": "code",
   "execution_count": 321,
   "metadata": {},
   "outputs": [],
   "source": [
    "Nx = 4\n",
    "Ne = 500\n",
    "X = randn(Nx, Ne)\n",
    "ens = EnsembleState(X)\n",
    "m = 10\n",
    "B = MultiBasis(CstProHermite(3), Nx)\n",
    "\n",
    "idx = [0 0 0 0; 3 2 0 1; 1 2 3 0; 2 1 2 1; 1 1 1 2; 1 2 1 2;3 2 2 2]\n",
    "\n",
    "coeff =  randn(size(idx,1))\n",
    "\n",
    "C = MapComponent(m, Nx, idx, coeff)\n",
    "S = Storage(C.I.f, X);\n",
    "R = C.I;"
   ]
  },
  {
   "cell_type": "code",
   "execution_count": 327,
   "metadata": {},
   "outputs": [
    {
     "name": "stdout",
     "output_type": "stream",
     "text": [
      "  0.003237 seconds (2.53 k allocations: 12.725 MiB)\n"
     ]
    },
    {
     "data": {
      "text/plain": [
       "500×4×4 Array{Float64,3}:\n",
       "[:, :, 1] =\n",
       "  0.119525     0.19137     -0.000489495  -0.0329313\n",
       "  0.0870218   -0.134132    -0.0923576    -0.00361894\n",
       "  0.171685     0.129972    -0.0204632    -0.0523296\n",
       "  0.0850236    0.24789      0.00764597    0.0239662\n",
       "  0.0984312   -0.176835    -0.0855355     0.0201034\n",
       " -0.254859    -0.0460509   -0.121108      0.0243629\n",
       " -0.0270412   -0.148634    -0.0200193     0.0946953\n",
       " -0.00620882   0.107686    -0.0353677     0.0232766\n",
       " -0.321426    -0.0667725   -0.0930686     0.02661\n",
       " -0.0572476   -0.0704875    0.0393821     0.0376974\n",
       " -0.102101     0.133593    -0.0363297     0.0382671\n",
       "  0.119429    -0.0336407    0.0582951     0.0292589\n",
       "  0.0782072   -0.220305     0.00957849    0.0238855\n",
       "  ⋮                                      \n",
       " -0.0844493    0.202899    -0.0408141    -0.015524\n",
       "  0.093914     0.0852394   -0.0350317     0.0239371\n",
       " -0.0597061   -0.00586332   0.0208507     0.0139311\n",
       "  0.0589775    0.170156    -0.00211848   -0.0465452\n",
       "  0.017356     0.186537    -0.0993569    -0.0170906\n",
       "  0.0292581   -0.158147    -0.0451548     0.000195161\n",
       "  0.278544    -0.0403831   -0.0536987     0.00486182\n",
       "  0.167072     0.0977636   -0.0328242    -0.0432327\n",
       "  0.102035     0.0296953   -0.00894908   -0.00821531\n",
       " -0.126579     0.176635    -0.0596515    -0.00553285\n",
       " -0.0487278   -0.0296841   -0.0187356     0.0386254\n",
       "  0.263148    -0.0670171   -0.0490638     0.0104261\n",
       "\n",
       "[:, :, 2] =\n",
       "  0.19137      0.104684     0.0232357    0.00666796\n",
       " -0.134132     0.113224    -0.0294465   -0.0830882\n",
       "  0.129972     0.121046    -0.0269587   -0.00332222\n",
       "  0.24789      0.0407374   -0.00575849  -0.0650133\n",
       " -0.176835     0.0471644    0.0619188   -0.128891\n",
       " -0.0460509   -0.08977      0.0148181   -0.0511583\n",
       " -0.148634     0.0452329    0.00307877  -0.0478545\n",
       "  0.107686    -0.00306772   0.0460423   -0.087358\n",
       " -0.0667725   -0.170116    -0.00287658  -0.0444034\n",
       " -0.0704875   -0.0920729   -0.00377031   0.0104016\n",
       "  0.133593    -0.138087    -0.00742994   0.0468601\n",
       " -0.0336407    0.0824077    0.0524239   -0.0496756\n",
       " -0.220305     0.0427653    0.0549461   -0.00668414\n",
       "  ⋮                                     \n",
       "  0.202899    -0.0267378    0.0440786   -0.104851\n",
       "  0.0852394    0.025455     0.0681016   -0.0561129\n",
       " -0.00586332  -0.116316    -0.0177575    0.0271479\n",
       "  0.170156     0.0331501   -0.0135225   -0.0836498\n",
       "  0.186537    -0.0146454   -0.0302422   -0.15261\n",
       " -0.158147    -9.43732e-5  -0.0290769   -0.109832\n",
       " -0.0403831    0.042416    -0.00528759   0.0318058\n",
       "  0.0977636    0.126502    -0.0191179    0.0101021\n",
       "  0.0296953   -0.037031    -0.020326    -0.00811398\n",
       "  0.176635    -0.106133    -0.0209675    0.0125599\n",
       " -0.0296841    0.0192387   -0.0261487   -0.0132419\n",
       " -0.0670171    0.0550818    0.00187967  -0.00668919\n",
       "\n",
       "[:, :, 3] =\n",
       " -0.000489495   0.0232357    0.0690901   -0.0078102\n",
       " -0.0923576    -0.0294465   -0.0629036   -0.00851471\n",
       " -0.0204632    -0.0269587    0.077024    -0.0268342\n",
       "  0.00764597   -0.00575849   0.10591      0.00108103\n",
       " -0.0855355     0.0619188    0.064898     0.018163\n",
       " -0.121108      0.0148181    0.0631648    0.0261452\n",
       " -0.0200193     0.00307877  -0.0612994   -0.0335776\n",
       " -0.0353677     0.0460423   -0.0356322    0.00475717\n",
       " -0.0930686    -0.00287658  -0.00237026  -0.0144297\n",
       "  0.0393821    -0.00377031   0.00571779  -0.014223\n",
       " -0.0363297    -0.00742994   0.00882616   0.0113207\n",
       "  0.0582951     0.0524239   -0.0104002   -0.0308329\n",
       "  0.00957849    0.0549461    0.019712    -0.0101156\n",
       "  ⋮                                      \n",
       " -0.0408141     0.0440786   -0.0790515    0.0272651\n",
       " -0.0350317     0.0681016   -0.0393018   -0.0164964\n",
       "  0.0208507    -0.0177575    0.0921379   -0.0157864\n",
       " -0.00211848   -0.0135225   -0.046788     0.00743235\n",
       " -0.0993569    -0.0302422    0.0451476   -0.0159463\n",
       " -0.0451548    -0.0290769    0.0180918   -0.00763571\n",
       " -0.0536987    -0.00528759  -0.049663    -0.0556224\n",
       " -0.0328242    -0.0191179    0.0429695   -0.0133332\n",
       " -0.00894908   -0.020326    -0.0903977    0.0136371\n",
       " -0.0596515    -0.0209675   -0.0887754    0.0115759\n",
       " -0.0187356    -0.0261487    0.102098    -0.00814348\n",
       " -0.0490638     0.00187967  -0.0245319   -0.0520078\n",
       "\n",
       "[:, :, 4] =\n",
       " -0.0329313     0.00666796  -0.0078102    0.0120794\n",
       " -0.00361894   -0.0830882   -0.00851471   0.0476873\n",
       " -0.0523296    -0.00332222  -0.0268342    0.0549908\n",
       "  0.0239662    -0.0650133    0.00108103   0.0195717\n",
       "  0.0201034    -0.128891     0.018163     0.0445254\n",
       "  0.0243629    -0.0511583    0.0261452    0.0201874\n",
       "  0.0946953    -0.0478545   -0.0335776    0.0412331\n",
       "  0.0232766    -0.087358     0.00475717   0.0144689\n",
       "  0.02661      -0.0444034   -0.0144297   -0.0874926\n",
       "  0.0376974     0.0104016   -0.014223    -0.0789128\n",
       "  0.0382671     0.0468601    0.0113207   -0.0907615\n",
       "  0.0292589    -0.0496756   -0.0308329   -0.0328357\n",
       "  0.0238855    -0.00668414  -0.0101156    0.0311354\n",
       "  ⋮                                      \n",
       " -0.015524     -0.104851     0.0272651   -0.0103543\n",
       "  0.0239371    -0.0561129   -0.0164964   -0.0149804\n",
       "  0.0139311     0.0271479   -0.0157864    0.00131417\n",
       " -0.0465452    -0.0836498    0.00743235  -0.0395157\n",
       " -0.0170906    -0.15261     -0.0159463   -0.025764\n",
       "  0.000195161  -0.109832    -0.00763571   0.013302\n",
       "  0.00486182    0.0318058   -0.0556224    0.0103393\n",
       " -0.0432327     0.0101021   -0.0133332    0.0485623\n",
       " -0.00821531   -0.00811398   0.0136371   -0.0259694\n",
       " -0.00553285    0.0125599    0.0115759   -0.078501\n",
       "  0.0386254    -0.0132419   -0.00814348   0.0624055\n",
       "  0.0104261    -0.00668919  -0.0520078   -0.0215109"
      ]
     },
     "execution_count": 327,
     "metadata": {},
     "output_type": "execute_result"
    }
   ],
   "source": [
    "@time H = hess_x(C.I, X)"
   ]
  },
  {
   "cell_type": "code",
   "execution_count": 323,
   "metadata": {},
   "outputs": [
    {
     "data": {
      "text/plain": [
       "Hessian! (generic function with 1 method)"
      ]
     },
     "execution_count": 323,
     "metadata": {},
     "output_type": "execute_result"
    }
   ],
   "source": [
    "Ht = zeros(Nx, Nx)\n",
    "function Hessian!(H, x)\n",
    "    fill!(H, 0.0)\n",
    "\n",
    "    H[1:Nx-1,1:Nx-1] .= ForwardDiff.hessian(y->begin\n",
    "                        y[Nx] = 0.0\n",
    "                        return R.f.f(y) end, x)[1:Nx-1,1:Nx-1]\n",
    "\n",
    "    # Hessian of the integral term\n",
    "    H[1:Nx-1,1:Nx-1] .+= (quadgk(t -> ForwardDiff.hessian(\n",
    "    z-> R.g(ForwardDiff.gradient(y->R.f.f(y), vcat(z[1:end-1], t))[end]), x),\n",
    "            0.0, x[end], rtol = 1e-3)[1])[1:Nx-1,1:Nx-1]\n",
    "\n",
    "    # H[Nx,:] and H[:,Nx]\n",
    "    H[:, Nx] .= ForwardDiff.gradient(z->R.g(ForwardDiff.gradient(y->R.f.f(y), z)[end]), x)\n",
    "    H[Nx, :] .= H[:, Nx]\n",
    "    return H\n",
    "end"
   ]
  },
  {
   "cell_type": "code",
   "execution_count": 324,
   "metadata": {},
   "outputs": [
    {
     "name": "stdout",
     "output_type": "stream",
     "text": [
      "  3.712480 seconds (9.46 M allocations: 417.122 MiB, 2.17% gc time)\n"
     ]
    },
    {
     "data": {
      "text/plain": [
       "4×4 Array{Float64,2}:\n",
       "  0.119525     0.19137     -0.000489495  -0.0329313\n",
       "  0.19137      0.104684     0.0232357     0.00666796\n",
       " -0.000489495  0.0232357    0.0690901    -0.0078102\n",
       " -0.0329313    0.00666796  -0.0078102     0.0120794"
      ]
     },
     "execution_count": 324,
     "metadata": {},
     "output_type": "execute_result"
    }
   ],
   "source": [
    "@time Hessian!(Ht, member(ens,1))"
   ]
  },
  {
   "cell_type": "code",
   "execution_count": 325,
   "metadata": {},
   "outputs": [
    {
     "data": {
      "text/plain": [
       "4×4 Array{Float64,2}:\n",
       "  0.119525     0.19137     -0.000489495  -0.0329313\n",
       "  0.19137      0.104684     0.0232357     0.00666796\n",
       " -0.000489495  0.0232357    0.0690901    -0.0078102\n",
       " -0.0329313    0.00666796  -0.0078102     0.0120794"
      ]
     },
     "execution_count": 325,
     "metadata": {},
     "output_type": "execute_result"
    }
   ],
   "source": [
    "H[1,:,:]"
   ]
  },
  {
   "cell_type": "code",
   "execution_count": 337,
   "metadata": {},
   "outputs": [
    {
     "data": {
      "text/plain": [
       "IntegratedFunction(8, 5, 1, Rectifier(\"softplus\"), ParametricFunction(ExpandedFunction(8, 5, 1, MultiBasis(Basis of 8 functions: Constant -> 6th degree Probabilistic Hermite function\n",
       ", 1), [0; 1; … ; 3; 4], [-0.4035721727990677, 1.3067403245662266, -0.1799400695713536, 0.10159500649323754, 1.5112534643531972])))"
      ]
     },
     "execution_count": 337,
     "metadata": {},
     "output_type": "execute_result"
    }
   ],
   "source": [
    "Nx = 1\n",
    "Ne = 100\n",
    "ens = EnsembleState(Nx, Ne)\n",
    "\n",
    "ens.S .= randn(Nx, Ne)\n",
    "\n",
    "# ens.S .=  [0.267333   1.43021;\n",
    "#           0.364979   0.607224;\n",
    "#          -1.23693    0.249277;\n",
    "#          -2.0526     0.915629;\n",
    "#          -0.182465   0.415874;\n",
    "#           0.412907   1.01672;\n",
    "#           1.41332   -0.918205;\n",
    "#           0.766647  -1.00445]';\n",
    "B = MultiBasis(CstProHermite(6), Nx)\n",
    "\n",
    "idx = reshape([0; 1; 2; 3; 4], (5,1))\n",
    "truncidx = idx[1:2:end,:]\n",
    "Nψ = 5\n",
    "\n",
    "coeff = randn(Nψ)\n",
    "\n",
    "# coeff =   [0.6285037650645056;\n",
    "#  -0.4744029092496623;\n",
    "#   1.1405280011620331;\n",
    "#  -0.7217760771894809;\n",
    "#   0.11855056306742319]\n",
    "f = ExpandedFunction(B, idx, coeff)\n",
    "fp = ParametricFunction(f);\n",
    "R = IntegratedFunction(fp)"
   ]
  },
  {
   "cell_type": "code",
   "execution_count": 339,
   "metadata": {},
   "outputs": [
    {
     "data": {
      "text/plain": [
       "100×1×1 Array{Float64,3}:\n",
       "[:, :, 1] =\n",
       "  0.3875283577912947\n",
       "  0.7113988184759583\n",
       "  0.06774380746969194\n",
       " -0.20481131206946152\n",
       "  0.9602029496969839\n",
       "  0.7358769254815886\n",
       " -0.2573013305196477\n",
       "  0.7025908993968403\n",
       " -1.1548712252795266\n",
       " -0.963461635788291\n",
       " -0.2365186354175721\n",
       "  0.32331517186234093\n",
       " -0.15000277647432717\n",
       "  ⋮\n",
       " -1.3176819191118274\n",
       "  0.1843615761832047\n",
       " -0.43635443632895576\n",
       "  0.7672029775828363\n",
       "  0.4314133378034761\n",
       " -0.7409169411396134\n",
       " -0.6983475281591489\n",
       " -0.0229038855512739\n",
       "  0.49604676871065245\n",
       "  0.8578298487942104\n",
       " -0.8717631457282554\n",
       "  0.2657670532061262"
      ]
     },
     "execution_count": 339,
     "metadata": {},
     "output_type": "execute_result"
    }
   ],
   "source": [
    "hess_x(R, ens.S)"
   ]
  },
  {
   "cell_type": "code",
   "execution_count": 332,
   "metadata": {},
   "outputs": [
    {
     "ename": "LoadError",
     "evalue": "AssertionError: Wrong dimension of the input sample X",
     "output_type": "error",
     "traceback": [
      "AssertionError: Wrong dimension of the input sample X",
      "",
      "Stacktrace:",
      " [1] evaluate_basis!(::Array{Float64,2}, ::ExpandedFunction, ::Array{Float64,2}, ::UnitRange{Int64}, ::Array{Int64,2}) at /media/mat/HDD/AdaptiveTransportMap/src/mapcomponent/expandedfunction.jl:90",
      " [2] evaluate_offdiagbasis! at /media/mat/HDD/AdaptiveTransportMap/src/mapcomponent/parametric.jl:30 [inlined]",
      " [3] evaluate_offdiagbasis! at /media/mat/HDD/AdaptiveTransportMap/src/mapcomponent/parametric.jl:33 [inlined]",
      " [4] evaluate_offdiagbasis(::ParametricFunction, ::Array{Float64,2}) at /media/mat/HDD/AdaptiveTransportMap/src/mapcomponent/parametric.jl:39",
      " [5] top-level scope at In[332]:1",
      " [6] include_string(::Function, ::Module, ::String, ::String) at ./loading.jl:1091"
     ]
    }
   ],
   "source": [
    "evaluate_offdiagbasis(R.f, X)"
   ]
  },
  {
   "cell_type": "code",
   "execution_count": 330,
   "metadata": {},
   "outputs": [
    {
     "name": "stdout",
     "output_type": "stream",
     "text": [
      "\u001b[37m\u001b[1mTest Summary:                   | \u001b[22m\u001b[39m\u001b[32m\u001b[1mPass  \u001b[22m\u001b[39m\u001b[36m\u001b[1mTotal\u001b[22m\u001b[39m\n",
      "Test integrated function Nx = 2 | \u001b[32m 201  \u001b[39m\u001b[36m  201\u001b[39m\n"
     ]
    },
    {
     "data": {
      "text/plain": [
       "Test.DefaultTestSet(\"Test integrated function Nx = 2\", Any[], 201, false)"
      ]
     },
     "execution_count": 330,
     "metadata": {},
     "output_type": "execute_result"
    }
   ],
   "source": [
    "@testset \"Test integrated function Nx = 2\" begin\n",
    "\n",
    "Nx = 2\n",
    "Ne = 100\n",
    "ens = EnsembleState(Nx, Ne)\n",
    "\n",
    "ens.S .= randn(Nx, Ne)\n",
    "\n",
    "# ens.S .=  [0.267333   1.43021;\n",
    "#           0.364979   0.607224;\n",
    "#          -1.23693    0.249277;\n",
    "#          -2.0526     0.915629;\n",
    "#          -0.182465   0.415874;\n",
    "#           0.412907   1.01672;\n",
    "#           1.41332   -0.918205;\n",
    "#           0.766647  -1.00445]';\n",
    "B = MultiBasis(CstProHermite(6), Nx)\n",
    "\n",
    "idx = [0 0; 0 1; 1 0; 1 1; 1 2]\n",
    "truncidx = idx[1:2:end,:]\n",
    "Nψ = 5\n",
    "\n",
    "coeff = randn(Nψ)\n",
    "\n",
    "# coeff =   [0.6285037650645056;\n",
    "#  -0.4744029092496623;\n",
    "#   1.1405280011620331;\n",
    "#  -0.7217760771894809;\n",
    "#   0.11855056306742319]\n",
    "f = ExpandedFunction(B, idx, coeff)\n",
    "fp = ParametricFunction(f);\n",
    "R = IntegratedFunction(fp)\n",
    "\n",
    "# Test evaluate\n",
    "ψt = zeros(Ne)\n",
    "\n",
    "for i=1:Ne\n",
    "    x = member(ens, i)\n",
    "    ψt[i] = R.f.f(vcat(x[1:end-1], 0.0)) +\n",
    "            quadgk(t->R.g(ForwardDiff.gradient(y->R.f.f(y), vcat(x[1:end-1],t))[end]), 0, x[end])[1]\n",
    "end\n",
    "\n",
    "ψ = evaluate(R, ens.S)\n",
    "\n",
    "@test norm(ψ - ψt)<1e-10\n",
    "\n",
    "# Test grad_x\n",
    "dψ = grad_x(R, ens.S)\n",
    "\n",
    "function Gradient(x)\n",
    "    return ForwardDiff.gradient(y->begin\n",
    "                           y[end] = 0.0\n",
    "                           return  R.f.f(y)\n",
    "        end, x) + quadgk(t->ForwardDiff.gradient(\n",
    "                  z->R.g(ForwardDiff.gradient(y->R.f.f(y), vcat(z[1:end-1],t))[end]),\n",
    "            x), 0.0, x[end])[1] + vcat(zeros(size(x,1)-1), R.g(ForwardDiff.gradient(y->R.f.f(y), x)[end]))\n",
    "end\n",
    "\n",
    "for i=1:Ne\n",
    "    xi = member(ens, i)\n",
    "    dψt = Gradient(xi)\n",
    "    @test norm(dψ[i,:] - dψt)<1e-8\n",
    "end\n",
    "\n",
    "# Test hess_x\n",
    "H = hess_x(R, ens.S)\n",
    "Ht = zeros(Nx, Nx)\n",
    "function Hessian!(H, x)\n",
    "    fill!(H, 0.0)\n",
    "\n",
    "    H[1:Nx-1,1:Nx-1] .= ForwardDiff.hessian(y->begin\n",
    "                        y[Nx] = 0.0\n",
    "                        return R.f.f(y) end, x)[1:Nx-1,1:Nx-1]\n",
    "\n",
    "    # Hessian of the integral term\n",
    "    H[1:Nx-1,1:Nx-1] .+= (quadgk(t -> ForwardDiff.hessian(\n",
    "    z-> R.g(ForwardDiff.gradient(y->R.f.f(y), vcat(z[1:end-1], t))[end]), x),\n",
    "            0.0, x[end], rtol = 1e-3)[1])[1:Nx-1,1:Nx-1]\n",
    "\n",
    "    # H[Nx,:] and H[:,Nx]\n",
    "    H[:, Nx] .= ForwardDiff.gradient(z->R.g(ForwardDiff.gradient(y->R.f.f(y), z)[end]), x)\n",
    "    H[Nx, :] .= H[:, Nx]\n",
    "    return H\n",
    "end\n",
    "\n",
    "@inbounds for i=1:Ne\n",
    "    @test norm(H[i,:,:] - Hessian!(Ht, member(ens,i)))<1e-8\n",
    "end\n",
    "end"
   ]
  },
  {
   "cell_type": "markdown",
   "metadata": {},
   "source": [
    "### Test Hessian of the log π(x)"
   ]
  },
  {
   "cell_type": "code",
   "execution_count": 30,
   "metadata": {},
   "outputs": [],
   "source": [
    "Nx = 2\n",
    "Ne = 8\n",
    "m = 10\n",
    "\n",
    "X = randn(Nx, Ne)\n",
    "\n",
    "idx = [0 0; 0 1; 1 0; 1 1; 1 2]\n",
    "coeff =   [0.6285037650645056;\n",
    " -0.4744029092496623;\n",
    "  1.1405280011620331;\n",
    " -0.7217760771894809;\n",
    "  0.11855056306742319];\n",
    "\n",
    "C = MapComponent(m, Nx, idx, coeff);"
   ]
  },
  {
   "cell_type": "code",
   "execution_count": 34,
   "metadata": {},
   "outputs": [
    {
     "data": {
      "text/plain": [
       "8×5×2 Array{Float64,3}:\n",
       "[:, :, 1] =\n",
       " 0.0  0.0  -0.207296    -0.130929     0.00117735\n",
       " 0.0  0.0  -0.216523    -0.134105     0.0375507\n",
       " 0.0  0.0   0.00618292   0.00360034   0.00205305\n",
       " 0.0  0.0  -0.199714    -0.0830991   -0.107373\n",
       " 0.0  0.0   0.209274     0.0991538   -0.106331\n",
       " 0.0  0.0  -0.236677    -0.10036     -0.126702\n",
       " 0.0  0.0  -0.270316    -0.120917     0.142049\n",
       " 0.0  0.0  -0.0785179   -0.0495593    0.00259814\n",
       "\n",
       "[:, :, 2] =\n",
       " 0.0   0.00283979  0.0   0.00155384  0.345581\n",
       " 0.0   0.0867129   0.0   0.0465448   0.31942\n",
       " 0.0  -0.166026    0.0  -0.104855    0.307967\n",
       " 0.0  -0.268816    0.0  -0.149159    0.0381479\n",
       " 0.0   0.254048    0.0   0.138466    0.109751\n",
       " 0.0  -0.26767     0.0  -0.064575    0.0207737\n",
       " 0.0   0.262746    0.0   0.0959916   0.0506544\n",
       " 0.0   0.0165449   0.0   0.0102847   0.391819"
      ]
     },
     "execution_count": 34,
     "metadata": {},
     "output_type": "execute_result"
    }
   ],
   "source": [
    "dψ_basis = grad_x_basis(C.I.f.f, X)"
   ]
  },
  {
   "cell_type": "code",
   "execution_count": 41,
   "metadata": {},
   "outputs": [
    {
     "data": {
      "text/plain": [
       "8-element Array{Float64,1}:\n",
       "  0.03850011681624252\n",
       " -0.036864339594153354\n",
       "  0.19095459274793916\n",
       "  0.23970874743411022\n",
       " -0.20745155095311177\n",
       "  0.17605463803346075\n",
       " -0.18792702339659972\n",
       "  0.03117818085903034"
      ]
     },
     "execution_count": 41,
     "metadata": {},
     "output_type": "execute_result"
    }
   ],
   "source": [
    "dxlogDJ = zeros(Ne, Nx)\n",
    "\n",
    "ψoffdψxd = grad_xd(C.I.f.f, X)"
   ]
  },
  {
   "cell_type": "code",
   "execution_count": 50,
   "metadata": {},
   "outputs": [
    {
     "data": {
      "text/plain": [
       "8×2 Array{Float64,2}:\n",
       " -0.0150962    0.275081\n",
       " -0.00172344   0.272766\n",
       "  0.00109835   0.191537\n",
       " -0.0403773   -0.00821251\n",
       " -0.0333779    0.127178\n",
       " -0.0481415    0.0110568\n",
       "  0.0468207    0.0774556\n",
       " -0.00492957   0.294571"
      ]
     },
     "execution_count": 50,
     "metadata": {},
     "output_type": "execute_result"
    }
   ],
   "source": [
    "grad_x_grad_xd(C.I.f.f, X, C.I.f.f.idx)"
   ]
  },
  {
   "cell_type": "code",
   "execution_count": 51,
   "metadata": {},
   "outputs": [
    {
     "data": {
      "text/plain": [
       "8-element Array{Float64,1}:\n",
       "  0.27508054698884865\n",
       "  0.2727658334063561\n",
       "  0.19153741860252596\n",
       " -0.008212514607585927\n",
       "  0.12717812747627785\n",
       "  0.01105679171823458\n",
       "  0.07745559049870646\n",
       "  0.29457111787580165"
      ]
     },
     "execution_count": 51,
     "metadata": {},
     "output_type": "execute_result"
    }
   ],
   "source": [
    "hess_xd(C.I.f.f, X)"
   ]
  },
  {
   "cell_type": "code",
   "execution_count": 52,
   "metadata": {},
   "outputs": [
    {
     "data": {
      "text/plain": [
       "2×2 Array{Float64,2}:\n",
       " -0.13341    -0.0150962\n",
       " -0.0150962   0.275081"
      ]
     },
     "execution_count": 52,
     "metadata": {},
     "output_type": "execute_result"
    }
   ],
   "source": [
    "dxdxkψx_t = ForwardDiff.hessian(C.I.f.f, X[:,1])"
   ]
  },
  {
   "cell_type": "code",
   "execution_count": null,
   "metadata": {},
   "outputs": [],
   "source": []
  },
  {
   "cell_type": "code",
   "execution_count": null,
   "metadata": {},
   "outputs": [],
   "source": [
    "evaluate()"
   ]
  },
  {
   "cell_type": "code",
   "execution_count": 16,
   "metadata": {},
   "outputs": [
    {
     "data": {
      "text/plain": [
       "8-element Array{Float64,1}:\n",
       " -1.890933371333304\n",
       " -1.0774421758804786\n",
       " -1.3812358207093065\n",
       " -2.756566903253647\n",
       " -2.2764943782683207\n",
       " -3.268114225886461\n",
       " -0.9741216255311081\n",
       " -1.442529469931936"
      ]
     },
     "execution_count": 16,
     "metadata": {},
     "output_type": "execute_result"
    }
   ],
   "source": [
    "log_pdf(C, X)"
   ]
  },
  {
   "cell_type": "code",
   "execution_count": 18,
   "metadata": {},
   "outputs": [
    {
     "data": {
      "text/plain": [
       "8-element Array{Float64,1}:\n",
       " -1.3182090265735815\n",
       "  0.5518744832820461\n",
       "  1.0207836492619973\n",
       "  1.969508900840876\n",
       "  1.7095646000932772\n",
       "  2.2193925767103297\n",
       "  0.06731649217667446\n",
       "  1.0856697228586412"
      ]
     },
     "execution_count": 18,
     "metadata": {},
     "output_type": "execute_result"
    }
   ],
   "source": [
    "Cx = evaluate(C, X)"
   ]
  },
  {
   "cell_type": "code",
   "execution_count": 22,
   "metadata": {},
   "outputs": [
    {
     "data": {
      "text/plain": [
       "5×2 Array{Int64,2}:\n",
       " 0  0\n",
       " 0  1\n",
       " 1  0\n",
       " 1  1\n",
       " 1  2"
      ]
     },
     "execution_count": 22,
     "metadata": {},
     "output_type": "execute_result"
    }
   ],
   "source": [
    "getidx(C)"
   ]
  },
  {
   "cell_type": "code",
   "execution_count": 21,
   "metadata": {},
   "outputs": [
    {
     "data": {
      "text/plain": [
       "5-element Array{Float64,1}:\n",
       "  0.6285037650645056\n",
       " -0.4744029092496623\n",
       "  1.1405280011620331\n",
       " -0.7217760771894809\n",
       "  0.11855056306742319"
      ]
     },
     "execution_count": 21,
     "metadata": {},
     "output_type": "execute_result"
    }
   ],
   "source": [
    "getcoeff(C)"
   ]
  },
  {
   "cell_type": "code",
   "execution_count": 23,
   "metadata": {},
   "outputs": [
    {
     "data": {
      "text/plain": [
       "8×5×2 Array{Float64,3}:\n",
       "[:, :, 1] =\n",
       " 0.0  0.0   0.107478    0.0190908  -0.043005\n",
       " 0.0  0.0   0.0865389   0.0541193  -0.0107887\n",
       " 0.0  0.0   0.138011    0.0855902   0.0231549\n",
       " 0.0  0.0  -0.270698   -0.113793   -0.145219\n",
       " 0.0  0.0  -0.259926   -0.128072   -0.127645\n",
       " 0.0  0.0  -0.225594   -0.0869868  -0.122217\n",
       " 0.0  0.0  -0.266312   -0.155186    0.0881003\n",
       " 0.0  0.0   0.261878    0.157944    0.0678763\n",
       "\n",
       "[:, :, 2] =\n",
       " 0.0   0.200064   0.0   0.122532   -0.167233\n",
       " 0.0   0.0623342  0.0   0.0386104   0.379666\n",
       " 0.0  -0.0838875  0.0  -0.0502452   0.357862\n",
       " 0.0  -0.268231   0.0  -0.105483    0.0306983\n",
       " 0.0  -0.24554    0.0  -0.112246    0.113373\n",
       " 0.0  -0.270878   0.0  -0.142266    0.00262786\n",
       " 0.0   0.165408   0.0   0.0714071   0.211025\n",
       " 0.0  -0.129595   0.0  -0.0583847   0.246624"
      ]
     },
     "execution_count": 23,
     "metadata": {},
     "output_type": "execute_result"
    }
   ],
   "source": [
    "dψ = grad_x_basis(C.I.f.f, X)"
   ]
  },
  {
   "cell_type": "code",
   "execution_count": 24,
   "metadata": {},
   "outputs": [
    {
     "data": {
      "text/plain": [
       "8×5×2×2 Array{Float64,4}:\n",
       "[:, :, 1, 1] =\n",
       " 0.0  0.0  -0.287372   -0.0510446    0.114986\n",
       " 0.0  0.0  -0.297614   -0.18612      0.0371031\n",
       " 0.0  0.0  -0.267679   -0.166006    -0.0449099\n",
       " 0.0  0.0  -0.0102897  -0.00432547  -0.00552002\n",
       " 0.0  0.0  -0.0807765  -0.0398007   -0.0396678\n",
       " 0.0  0.0  -0.1657     -0.0638922   -0.089769\n",
       " 0.0  0.0  -0.0515665  -0.030049     0.0170591\n",
       " 0.0  0.0  -0.0730321  -0.0440471   -0.0189292\n",
       "\n",
       "[:, :, 2, 1] =\n",
       " 0.0   0.0   0.0   0.0215025   -0.0293467\n",
       " 0.0   0.0   0.0   0.00539434   0.0530439\n",
       " 0.0  -0.0   0.0  -0.0115774    0.0824581\n",
       " 0.0  -0.0  -0.0   0.0726096   -0.0211313\n",
       " 0.0  -0.0  -0.0   0.0638224   -0.0644633\n",
       " 0.0  -0.0  -0.0   0.0611086   -0.00112877\n",
       " 0.0   0.0  -0.0  -0.0440502   -0.130179\n",
       " 0.0  -0.0   0.0  -0.0339381    0.143359\n",
       "\n",
       "[:, :, 1, 2] =\n",
       " 0.0   0.0   0.0   0.0215025   -0.0293467\n",
       " 0.0   0.0   0.0   0.00539434   0.0530439\n",
       " 0.0  -0.0   0.0  -0.0115774    0.0824581\n",
       " 0.0  -0.0  -0.0   0.0726096   -0.0211313\n",
       " 0.0  -0.0  -0.0   0.0638224   -0.0644633\n",
       " 0.0  -0.0  -0.0   0.0611086   -0.00112877\n",
       " 0.0   0.0  -0.0  -0.0440502   -0.130179\n",
       " 0.0  -0.0   0.0  -0.0339381    0.143359\n",
       "\n",
       "[:, :, 2, 2] =\n",
       " 0.0   0.136524    0.0   0.0836164    0.056706\n",
       " 0.0  -0.306474    0.0  -0.189833     0.115064\n",
       " 0.0  -0.298736    0.0  -0.178931    -0.148897\n",
       " 0.0  -0.0390312   0.0  -0.0153491   -0.230553\n",
       " 0.0  -0.124003    0.0  -0.0566865   -0.280989\n",
       " 0.0  -0.00250176  0.0  -0.00131393  -0.286378\n",
       " 0.0  -0.24441     0.0  -0.105512     0.202714\n",
       " 0.0  -0.273713    0.0  -0.123312    -0.169763"
      ]
     },
     "execution_count": 24,
     "metadata": {},
     "output_type": "execute_result"
    }
   ],
   "source": [
    "d2ψ = hess_x_basis(C.I.f.f, X)"
   ]
  },
  {
   "cell_type": "markdown",
   "metadata": {},
   "source": [
    "### Integration"
   ]
  },
  {
   "cell_type": "code",
   "execution_count": 20,
   "metadata": {},
   "outputs": [],
   "source": [
    "Nx = 100\n",
    "Ny = 50\n",
    "m = 20\n",
    "Ne = 400\n",
    "X = randn(Nx, Ne).*randn(Nx, Ne) #.+ 0.5*randn(Nx).*cos.(randn(Nx, Ne) .* randn(Nx, Ne))\n",
    "\n",
    "# L = LinearTransform(X)\n",
    "# transform!(L, X);\n",
    "# C = MapComponent(m, Nx)\n",
    "# @time C, _ = optimize(C, X, 10)"
   ]
  },
  {
   "cell_type": "code",
   "execution_count": 24,
   "metadata": {},
   "outputs": [],
   "source": [
    "M = HermiteMap(m, X);"
   ]
  },
  {
   "cell_type": "code",
   "execution_count": 25,
   "metadata": {
    "scrolled": true
   },
   "outputs": [
    {
     "name": "stdout",
     "output_type": "stream",
     "text": [
      "  9.550136 seconds (42.61 M allocations: 13.653 GiB, 7.59% gc time)\n"
     ]
    }
   ],
   "source": [
    "@time M_noqr = optimize(M, X, 10; P = serial, start = Ny+1);"
   ]
  },
  {
   "cell_type": "code",
   "execution_count": 26,
   "metadata": {},
   "outputs": [
    {
     "name": "stdout",
     "output_type": "stream",
     "text": [
      " 18.997304 seconds (45.81 M allocations: 21.111 GiB, 4.17% gc time)\n"
     ]
    }
   ],
   "source": [
    "@time M_qr = optimize(M, X, 10; P = serial, withqr = true, start = Ny+1);"
   ]
  },
  {
   "cell_type": "code",
   "execution_count": 31,
   "metadata": {},
   "outputs": [
    {
     "data": {
      "text/plain": [
       "timing (generic function with 1 method)"
      ]
     },
     "execution_count": 31,
     "metadata": {},
     "output_type": "execute_result"
    }
   ],
   "source": [
    "function timing()\n",
    "    M = HermiteMap(m, X)\n",
    "    @btime begin \n",
    "        optimize($M, $X, $10; P = serial, withqr = false, start = Ny+1)\n",
    "    end\n",
    "    \n",
    "    @btime begin \n",
    "        optimize($M, $X, $10; P = serial, withqr = true, start = Ny+1)\n",
    "    end\n",
    "end"
   ]
  },
  {
   "cell_type": "code",
   "execution_count": 32,
   "metadata": {},
   "outputs": [
    {
     "name": "stdout",
     "output_type": "stream",
     "text": [
      "  11.257 s (42606958 allocations: 13.65 GiB)\n",
      "  21.346 s (45813192 allocations: 21.12 GiB)\n"
     ]
    }
   ],
   "source": [
    "timing();"
   ]
  },
  {
   "cell_type": "code",
   "execution_count": 11,
   "metadata": {},
   "outputs": [
    {
     "name": "stdout",
     "output_type": "stream",
     "text": [
      "  14.597 s (42433511 allocations: 13.37 GiB)\n"
     ]
    }
   ],
   "source": [
    "timing();"
   ]
  },
  {
   "cell_type": "code",
   "execution_count": 29,
   "metadata": {},
   "outputs": [
    {
     "name": "stdout",
     "output_type": "stream",
     "text": [
      "  973.450 ms (1054425 allocations: 1.43 GiB)\n"
     ]
    }
   ],
   "source": [
    "timing();"
   ]
  },
  {
   "cell_type": "code",
   "execution_count": 14,
   "metadata": {},
   "outputs": [
    {
     "data": {
      "text/html": [
       "# 1 method for generic function <b>update_component</b>:<ul><li> update_component(C::<b>MapComponent</b>, X, reduced_margin::<b>Array{Int64,2}</b>, S::<b>Storage</b>) in AdaptiveTransportMap at <a href=\"https://github.com/mleprovost/AdaptiveTransportMap/tree/83d05ec2a279bc06ffd1b1aeb054f4628721f1e9//src/mapcomponent/greedyfit.jl#L234\" target=\"_blank\">/media/mat/HDD/AdaptiveTransportMap/src/mapcomponent/greedyfit.jl:249</a></li> </ul>"
      ],
      "text/plain": [
       "# 1 method for generic function \"update_component\":\n",
       "[1] update_component(C::MapComponent, X, reduced_margin::Array{Int64,2}, S::Storage) in AdaptiveTransportMap at /media/mat/HDD/AdaptiveTransportMap/src/mapcomponent/greedyfit.jl:249"
      ]
     },
     "execution_count": 14,
     "metadata": {},
     "output_type": "execute_result"
    }
   ],
   "source": [
    "methods(update_component)"
   ]
  },
  {
   "cell_type": "code",
   "execution_count": 30,
   "metadata": {},
   "outputs": [
    {
     "data": {
      "text/plain": [
       "timing (generic function with 1 method)"
      ]
     },
     "execution_count": 30,
     "metadata": {},
     "output_type": "execute_result"
    }
   ],
   "source": [
    "function timing()\n",
    "    @btime begin \n",
    "        M = HermiteMap($m, $X)\n",
    "        optimize($M, $X, $10; P = thread)\n",
    "    end\n",
    "end"
   ]
  },
  {
   "cell_type": "code",
   "execution_count": 88,
   "metadata": {},
   "outputs": [
    {
     "name": "stdout",
     "output_type": "stream",
     "text": [
      "  297.730 ms (1000725 allocations: 1.35 GiB)\n"
     ]
    }
   ],
   "source": [
    "timing();"
   ]
  },
  {
   "cell_type": "markdown",
   "metadata": {},
   "source": [
    "### Test optimization with QR"
   ]
  },
  {
   "cell_type": "code",
   "execution_count": 45,
   "metadata": {},
   "outputs": [
    {
     "data": {
      "text/plain": [
       "\u001b[32m\u001b[1mTest Passed\u001b[22m\u001b[39m"
      ]
     },
     "execution_count": 45,
     "metadata": {},
     "output_type": "execute_result"
    }
   ],
   "source": [
    "Nx = 3\n",
    "Ne = 8\n",
    "m = 20\n",
    "\n",
    "idx = [0 0 0; 0 0 1; 0 1 0; 0 1 1; 0 1 2; 1 0 0]\n",
    "\n",
    "\n",
    "Nψ = 6\n",
    "coeff = [ 0.20649582065364197;\n",
    "         -0.5150990160472986;\n",
    "          2.630096893080717;\n",
    "          1.13653076177397;\n",
    "          0.6725837371023421;\n",
    "         -1.3126095306624133]\n",
    "C = MapComponent(m, Nx, idx, coeff; α = 1e-6);\n",
    "\n",
    "Ne = 100\n",
    "\n",
    "\n",
    "# The QR decomposition is not unique!\n",
    "\n",
    "X = randn(Nx, Ne) .* randn(Nx, Ne) + cos.(randn(Nx, Ne)) .* exp.(-randn(Nx, Ne).^2)\n",
    "\n",
    "L = LinearTransform(X)\n",
    "transform!(L, X)\n",
    "S = Storage(C.I.f, X)\n",
    "F = QRscaling(S)\n",
    "newidx = [1 1 1]\n",
    "\n",
    "Snew = update_storage(S, X, newidx)\n",
    "Fupdated = updateQRscaling(F, Snew)\n",
    "\n",
    "Fnew = QRscaling(Snew)\n",
    "\n",
    "@test norm(Fupdated.D - Fnew.D)<1e-8\n",
    "@test norm(Fupdated.Dinv - Fnew.Dinv)<1e-8"
   ]
  }
 ],
 "metadata": {
  "kernelspec": {
   "display_name": "Julia 1.5.0",
   "language": "julia",
   "name": "julia-1.5"
  },
  "language_info": {
   "file_extension": ".jl",
   "mimetype": "application/julia",
   "name": "julia",
   "version": "1.5.0"
  }
 },
 "nbformat": 4,
 "nbformat_minor": 2
}
