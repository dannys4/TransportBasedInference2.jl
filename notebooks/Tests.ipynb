{
 "cells": [
  {
   "cell_type": "code",
   "execution_count": 1,
   "metadata": {},
   "outputs": [
    {
     "name": "stderr",
     "output_type": "stream",
     "text": [
      "\u001b[32m\u001b[1m Activating\u001b[22m\u001b[39m environment at `/media/mat/HDD/AdaptiveTransportMap/Project.toml`\n"
     ]
    }
   ],
   "source": [
    "using Pkg\n",
    "Pkg.activate(\"/media/mat/HDD/AdaptiveTransportMap/\")"
   ]
  },
  {
   "cell_type": "code",
   "execution_count": 25,
   "metadata": {
    "scrolled": false
   },
   "outputs": [],
   "source": [
    "using Revise\n",
    "using AdaptiveTransportMap\n",
    "using LinearAlgebra\n",
    "import LinearAlgebra: ldiv!, dot\n",
    "using Test\n",
    "using ForwardDiff\n",
    "using SpecialFunctions\n",
    "using BenchmarkTools\n",
    "using TransportMap\n",
    "using QuadGK\n",
    "using AdaptiveTransportMap: transform!, evaluate, ncoeff, optimize, negative_log_likelihood!\n",
    "using DiffResults\n",
    "using Distributions\n",
    "using Random\n",
    "using LoopVectorization\n",
    "using Optim\n",
    "using NLsolve\n",
    "using Polynomials\n",
    "using Optim: InverseDiagonal\n",
    "using MLDataUtils\n",
    "using Test\n",
    "using SparseArrays"
   ]
  },
  {
   "cell_type": "markdown",
   "metadata": {},
   "source": [
    "### Conditional sampling"
   ]
  },
  {
   "cell_type": "code",
   "execution_count": 67,
   "metadata": {},
   "outputs": [],
   "source": [
    "Nx = 15\n",
    "Ny = 1\n",
    "m = 20\n",
    "Ne = 300\n",
    "X = randn(Nx, Ne).*randn(Nx, Ne);"
   ]
  },
  {
   "cell_type": "code",
   "execution_count": 68,
   "metadata": {},
   "outputs": [],
   "source": [
    "M = HermiteMap(m, X; diag = true);"
   ]
  },
  {
   "cell_type": "code",
   "execution_count": 69,
   "metadata": {},
   "outputs": [],
   "source": [
    "ystar = deepcopy(X[1:Ny,:]) + 0.5*randn(Ny,Ne);"
   ]
  },
  {
   "cell_type": "code",
   "execution_count": 70,
   "metadata": {},
   "outputs": [
    {
     "name": "stdout",
     "output_type": "stream",
     "text": [
      "  0.000167 seconds (445 allocations: 24.844 KiB)\n"
     ]
    }
   ],
   "source": [
    "@time M = HermiteMap(m, X);\n",
    "optimize(M, X, 10; withconstant = false, start = Ny+1);"
   ]
  },
  {
   "cell_type": "code",
   "execution_count": 72,
   "metadata": {},
   "outputs": [
    {
     "data": {
      "text/plain": [
       "15×300 Array{Float64,2}:\n",
       "  0.0         0.0          0.0        …   0.0         0.0         0.0\n",
       " -0.0118706  -0.0823269    0.0081765      1.15858     0.260342    0.607761\n",
       "  0.186231    0.861994    -0.104449      -0.483347   -1.39321     0.64532\n",
       " -1.04152    -0.663737    -2.44228        0.0338145   2.09158     0.0123478\n",
       " -0.425662    0.502002    -0.225096       1.41395     0.0416787   1.35233\n",
       " -1.52732    -0.736717     1.22956    …   0.302545   -0.512138   -0.779465\n",
       "  0.508093    0.0513518   -0.15313        0.513046    1.08777    -0.13958\n",
       "  0.557099   -1.70807     -1.04766       -0.492706    0.359821    1.46027\n",
       " -0.435718   -1.00333     -0.0270705      1.96079     0.161822    0.532736\n",
       " -0.717273   -1.10569     -0.579713      -0.283469   -1.26937    -0.263137\n",
       " -1.92083    -0.0103948   -2.52919    …   0.214954   -0.231151   -0.0917638\n",
       "  0.16627     0.00426497  -0.0509217      0.562139    0.13573     0.470555\n",
       "  0.21196    -0.184084     1.32602        1.94343     0.713286   -0.325129\n",
       " -1.32932    -0.480537     0.803518      -0.405641    1.4242     -0.181195\n",
       "  0.702031    0.953745    -0.162708      -0.922165   -0.359246    0.00935942"
      ]
     },
     "execution_count": 72,
     "metadata": {},
     "output_type": "execute_result"
    }
   ],
   "source": [
    "F = evaluate(M, X; start = Ny+1)"
   ]
  },
  {
   "cell_type": "code",
   "execution_count": null,
   "metadata": {},
   "outputs": [],
   "source": [
    "function functional_inversef!(out, M::HermiteMap, X, Y; apply_rescaling::Bool=true, start::Int64=1, P::Parallel = serial)\n",
    "    \n",
    "\n",
    "    Nx = M.Nx\n",
    "    NxX, Ne = size(X)\n",
    "    \n",
    "    Ny, NeY = size(Y)\n",
    "    @assert NxX == Nx\n",
    "    @assert Ne == NeY\n",
    "    @assert 1 <= Ny < Nx\n",
    "    @assert size(out) == Ne*(Nx-Ny)\n",
    "\n",
    "#     # We can apply the rescaling to all the components once\n",
    "#     if apply_rescaling == true\n",
    "#             transform!(M.L, X)\n",
    "#             transform!\n",
    "#     end\n",
    "\n",
    "\n",
    "    # We can skip the evaluation of the map on the observations componentd\n",
    "    @inbounds for k=start:Nx\n",
    "            Xk = view(X,1:k,:)\n",
    "            col = view(out,k,:)\n",
    "            evaluate!(col, M.C[k], Xk)\n",
    "    end\n",
    "\n",
    "    \n",
    "    \n",
    "    \n",
    "    \n",
    "    \n",
    "    \n",
    "end"
   ]
  },
  {
   "cell_type": "code",
   "execution_count": null,
   "metadata": {},
   "outputs": [],
   "source": [
    "function inverse!"
   ]
  }
 ],
 "metadata": {
  "kernelspec": {
   "display_name": "Julia 1.4.0",
   "language": "julia",
   "name": "julia-1.4"
  },
  "language_info": {
   "file_extension": ".jl",
   "mimetype": "application/julia",
   "name": "julia",
   "version": "1.4.0"
  }
 },
 "nbformat": 4,
 "nbformat_minor": 2
}
