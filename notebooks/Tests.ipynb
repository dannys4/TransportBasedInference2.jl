{
 "cells": [
  {
   "cell_type": "code",
   "execution_count": 1,
   "metadata": {},
   "outputs": [
    {
     "name": "stderr",
     "output_type": "stream",
     "text": [
      "\u001b[32m\u001b[1m Activating\u001b[22m\u001b[39m environment at `/media/mat/HDD/AdaptiveTransportMap/Project.toml`\n"
     ]
    }
   ],
   "source": [
    "using Pkg\n",
    "Pkg.activate(\"/media/mat/HDD/AdaptiveTransportMap/\")"
   ]
  },
  {
   "cell_type": "code",
   "execution_count": 2,
   "metadata": {},
   "outputs": [
    {
     "name": "stderr",
     "output_type": "stream",
     "text": [
      "┌ Info: Precompiling AdaptiveTransportMap [bdf749b0-1400-4207-80d3-e689c0e3f03d]\n",
      "└ @ Base loading.jl:1260\n"
     ]
    }
   ],
   "source": [
    "using Revise\n",
    "using AdaptiveTransportMap\n",
    "using LinearAlgebra\n",
    "using Test\n",
    "using ForwardDiff\n",
    "using SpecialFunctions\n",
    "using Polynomials\n",
    "using BenchmarkTools\n",
    "using TransportMap\n",
    "using QuadGK\n",
    "using FastGaussQuadrature\n",
    "using AdaptiveTransportMap: derivative, vander\n",
    "using DiffResults\n",
    "using QuadGK"
   ]
  },
  {
   "cell_type": "markdown",
   "metadata": {},
   "source": [
    "### Basis"
   ]
  },
  {
   "cell_type": "code",
   "execution_count": 4,
   "metadata": {},
   "outputs": [
    {
     "data": {
      "text/plain": [
       "MultiBasis{9,6}(Basis of 9 functions:\n",
       "ProPolyHermite{0}(ImmutablePolynomial(1.0), false)\n",
       "ProHermite{0}(ProPolyHermite{0}(ImmutablePolynomial(1.0), false), false)\n",
       "ProHermite{1}(ProPolyHermite{1}(ImmutablePolynomial(1.0*x), false), false)\n",
       "ProHermite{2}(ProPolyHermite{2}(ImmutablePolynomial(-1.0 + 1.0*x^2), false), false)\n",
       "ProHermite{3}(ProPolyHermite{3}(ImmutablePolynomial(-3.0*x + 1.0*x^3), false), false)\n",
       "ProHermite{4}(ProPolyHermite{4}(ImmutablePolynomial(3.0 - 6.0*x^2 + 1.0*x^4), false), false)\n",
       "ProHermite{5}(ProPolyHermite{5}(ImmutablePolynomial(15.0*x - 10.0*x^3 + 1.0*x^5), false), false)\n",
       "ProHermite{6}(ProPolyHermite{6}(ImmutablePolynomial(-15.0 + 45.0*x^2 - 15.0*x^4 + 1.0*x^6), false), false)\n",
       "ProHermite{7}(ProPolyHermite{7}(ImmutablePolynomial(-105.0*x + 105.0*x^3 - 21.0*x^5 + 1.0*x^7), false), false)\n",
       ")"
      ]
     },
     "execution_count": 4,
     "metadata": {},
     "output_type": "execute_result"
    }
   ],
   "source": [
    "Nx = 6\n",
    "B = CstProHermite(7)\n",
    "MB = MultiBasis(B, Nx)"
   ]
  },
  {
   "cell_type": "code",
   "execution_count": 14,
   "metadata": {},
   "outputs": [
    {
     "data": {
      "text/plain": [
       "f (generic function with 1 method)"
      ]
     },
     "execution_count": 14,
     "metadata": {},
     "output_type": "execute_result"
    }
   ],
   "source": []
  },
  {
   "cell_type": "code",
   "execution_count": 15,
   "metadata": {},
   "outputs": [
    {
     "name": "stdout",
     "output_type": "stream",
     "text": [
      "  1.876 μs (9 allocations: 480 bytes)\n"
     ]
    },
    {
     "data": {
      "text/plain": [
       "1-element Array{Float64,1}:\n",
       " -0.39188218965422494"
      ]
     },
     "execution_count": 15,
     "metadata": {},
     "output_type": "execute_result"
    }
   ],
   "source": [
    "@btime ForwardDiff.gradient(x->B[5](x[1]),[5.0])"
   ]
  },
  {
   "cell_type": "code",
   "execution_count": 12,
   "metadata": {},
   "outputs": [
    {
     "name": "stdout",
     "output_type": "stream",
     "text": [
      "  115.295 ns (6 allocations: 176 bytes)\n"
     ]
    },
    {
     "data": {
      "text/plain": [
       "-0.39188218965422494"
      ]
     },
     "execution_count": 12,
     "metadata": {},
     "output_type": "execute_result"
    }
   ],
   "source": [
    "@btime ForwardDiff.derivative(x->B[5](x),5.0)"
   ]
  },
  {
   "cell_type": "code",
   "execution_count": 16,
   "metadata": {},
   "outputs": [
    {
     "data": {
      "text/plain": [
       "timing (generic function with 1 method)"
      ]
     },
     "execution_count": 16,
     "metadata": {},
     "output_type": "execute_result"
    }
   ],
   "source": [
    "function timing()\n",
    "    f(x) = (x^5-4*x^3+1)*exp(-x^2/2)  \n",
    "    @btime ForwardDiff.gradient(x->f(x[1]),[5.0])\n",
    "    @btime ForwardDiff.derivative(x->f(x),5.0)\n",
    "end"
   ]
  },
  {
   "cell_type": "code",
   "execution_count": 17,
   "metadata": {},
   "outputs": [
    {
     "name": "stdout",
     "output_type": "stream",
     "text": [
      "  373.897 ns (4 allocations: 320 bytes)\n",
      "  90.438 ns (0 allocations: 0 bytes)\n"
     ]
    },
    {
     "data": {
      "text/plain": [
       "-0.0384031609382707"
      ]
     },
     "execution_count": 17,
     "metadata": {},
     "output_type": "execute_result"
    }
   ],
   "source": [
    "timing()"
   ]
  },
  {
   "cell_type": "code",
   "execution_count": 3,
   "metadata": {},
   "outputs": [
    {
     "ename": "LoadError",
     "evalue": "UndefVarError: @btime not defined",
     "output_type": "error",
     "traceback": [
      "UndefVarError: @btime not defined",
      ""
     ]
    }
   ],
   "source": [
    "@btime quadgk(x->FamilyPhyHermite[5](x), 0, 1.0)"
   ]
  },
  {
   "cell_type": "code",
   "execution_count": 7,
   "metadata": {},
   "outputs": [],
   "source": [
    "Nx = 10\n",
    "Nψ = 8\n",
    "B = CstProHermite(4)\n",
    "MB = MultiBasis(B, Nx)\n",
    "f = ExpandedFunction([MultiFunction(MB, rand(1:6,10)) for i=1:5], randn(5));"
   ]
  },
  {
   "cell_type": "code",
   "execution_count": 15,
   "metadata": {},
   "outputs": [
    {
     "name": "stdout",
     "output_type": "stream",
     "text": [
      "  0.000043 seconds (240 allocations: 23.766 KiB)\n"
     ]
    }
   ],
   "source": [
    "result = DiffResults.HessianResult(randn(10));\n",
    "@time result = ForwardDiff.gradient!(result, f, randn(10));"
   ]
  },
  {
   "cell_type": "code",
   "execution_count": null,
   "metadata": {},
   "outputs": [],
   "source": [
    "first()"
   ]
  },
  {
   "cell_type": "code",
   "execution_count": 3,
   "metadata": {},
   "outputs": [
    {
     "data": {
      "text/plain": [
       "timing2 (generic function with 1 method)"
      ]
     },
     "execution_count": 3,
     "metadata": {},
     "output_type": "execute_result"
    }
   ],
   "source": [
    "function timing2()\n",
    "    @btime x = randn(100,20)\n",
    "    @btime begin \n",
    "        x = randn(20,200)\n",
    "        for i=1:200\n",
    "        x[10,i]\n",
    "        end\n",
    "    end\n",
    "end"
   ]
  },
  {
   "cell_type": "code",
   "execution_count": 4,
   "metadata": {},
   "outputs": [
    {
     "name": "stdout",
     "output_type": "stream",
     "text": [
      "  8.618 μs (1 allocation: 15.75 KiB)\n",
      "  17.632 μs (2 allocations: 31.33 KiB)\n"
     ]
    }
   ],
   "source": [
    "timing2()"
   ]
  },
  {
   "cell_type": "code",
   "execution_count": 7,
   "metadata": {},
   "outputs": [
    {
     "data": {
      "text/plain": [
       "timing (generic function with 1 method)"
      ]
     },
     "execution_count": 7,
     "metadata": {},
     "output_type": "execute_result"
    }
   ],
   "source": [
    "function timing()\n",
    "    Nx = 10\n",
    "    Nψ = 8\n",
    "    B = CstProHermite(4)\n",
    "    MB = MultiBasis(B, Nx);\n",
    "    f = ExpandedFunction([MultiFunction(MB, rand(1:6,10)) for i=1:5], randn(5));\n",
    "    [f(randn(10)) for i=1:200]\n",
    "end"
   ]
  },
  {
   "cell_type": "code",
   "execution_count": null,
   "metadata": {},
   "outputs": [],
   "source": []
  },
  {
   "cell_type": "code",
   "execution_count": 8,
   "metadata": {},
   "outputs": [
    {
     "name": "stdout",
     "output_type": "stream",
     "text": [
      "  768.506 μs (41681 allocations: 684.45 KiB)\n"
     ]
    },
    {
     "data": {
      "text/plain": [
       "200-element Array{Float64,1}:\n",
       " -8.590225160417804\n",
       " -0.5239976826059032\n",
       "  6.66825240739424\n",
       "  0.5126861115528971\n",
       "  1.1890170956366577\n",
       "  1.9099015433839461\n",
       " -2.6208237682305615\n",
       " -0.2750170730292265\n",
       "  1.9334084408087548\n",
       "  3.109658768387867\n",
       "  2.53494608597899\n",
       " -3.546217671466872\n",
       " -1.268588739020128\n",
       "  ⋮\n",
       "  0.16818086051151243\n",
       " -0.5800634012353066\n",
       "  3.1511064017310857\n",
       " -0.005207920621169093\n",
       "  3.0224252468487416\n",
       " -1.2766993119159948\n",
       " -2.455229445475138\n",
       "  2.3197792742642527\n",
       "  0.25028959373953996\n",
       " -2.4814389112726265\n",
       "  0.5588625689546698\n",
       " -0.6431622213693868"
      ]
     },
     "execution_count": 8,
     "metadata": {},
     "output_type": "execute_result"
    }
   ],
   "source": [
    "@btime timing()"
   ]
  },
  {
   "cell_type": "code",
   "execution_count": 23,
   "metadata": {},
   "outputs": [
    {
     "name": "stdout",
     "output_type": "stream",
     "text": [
      "  0.059839 seconds (132.30 k allocations: 5.013 MiB)\n"
     ]
    },
    {
     "data": {
      "text/plain": [
       "200-element Array{Float64,1}:\n",
       "  0.3565862149179235\n",
       " -0.5592502129695079\n",
       "  3.4809269148513504\n",
       "  1.804493123230571\n",
       " -1.1765146752143598\n",
       " -0.8935079670961806\n",
       "  2.5101693581610216\n",
       "  0.6623619999574702\n",
       "  0.052252195957035855\n",
       " -0.4985407749185703\n",
       "  2.4338245167454438\n",
       " -3.7831461327458253\n",
       " -0.055680428933647226\n",
       "  ⋮\n",
       " -3.504190540995787\n",
       "  2.6387529842618522\n",
       " -0.049235990854431796\n",
       " -0.015306426123755129\n",
       "  0.2696121853577881\n",
       "  0.9389268368122676\n",
       " -0.4961688355677305\n",
       "  2.581397667362235\n",
       "  2.7790344221281584\n",
       "  0.3852747164672356\n",
       " -3.5747482662361025\n",
       " -3.4335180911532364"
      ]
     },
     "execution_count": 23,
     "metadata": {},
     "output_type": "execute_result"
    }
   ],
   "source": [
    "@time [f(randn(10)) for i=1:200]"
   ]
  },
  {
   "cell_type": "code",
   "execution_count": 28,
   "metadata": {},
   "outputs": [
    {
     "name": "stdout",
     "output_type": "stream",
     "text": [
      "  3.055 μs (50 allocations: 6.41 KiB)\n"
     ]
    },
    {
     "data": {
      "text/plain": [
       "10-element Array{Float64,1}:\n",
       "  0.0\n",
       " -0.41481567821516313\n",
       "  0.0\n",
       " -0.2054768734405355\n",
       " -0.1616353245698944\n",
       "  0.06113183193954419\n",
       "  0.06236459956882944\n",
       "  0.02235240578579206\n",
       "  0.16626206776483202\n",
       "  0.3377408008797908"
      ]
     },
     "execution_count": 28,
     "metadata": {},
     "output_type": "execute_result"
    }
   ],
   "source": [
    "@btime ForwardDiff.gradient(f, randn(10))"
   ]
  },
  {
   "cell_type": "code",
   "execution_count": 38,
   "metadata": {},
   "outputs": [
    {
     "data": {
      "text/plain": [
       "timing (generic function with 1 method)"
      ]
     },
     "execution_count": 38,
     "metadata": {},
     "output_type": "execute_result"
    }
   ],
   "source": [
    "function timing() \n",
    "    f = MultiFunction(MB, rand(1:6,10));\n",
    "    result = DiffResults.HessianResult(randn(10));\n",
    "    result = ForwardDiff.hessian!(result, f, randn(10));\n",
    "end"
   ]
  },
  {
   "cell_type": "code",
   "execution_count": 42,
   "metadata": {},
   "outputs": [
    {
     "data": {
      "text/plain": [
       "timing2 (generic function with 1 method)"
      ]
     },
     "execution_count": 42,
     "metadata": {},
     "output_type": "execute_result"
    }
   ],
   "source": [
    "function timing2() \n",
    "    f = MultiFunction(MB, rand(1:6,10));\n",
    "    x = randn(10)\n",
    "    f(x)\n",
    "    ForwardDiff.gradient(f, x);\n",
    "    ForwardDiff.hessian(f, x);\n",
    "end"
   ]
  },
  {
   "cell_type": "code",
   "execution_count": 43,
   "metadata": {},
   "outputs": [
    {
     "name": "stdout",
     "output_type": "stream",
     "text": [
      "  6.722 μs (47 allocations: 51.77 KiB)\n"
     ]
    },
    {
     "data": {
      "text/plain": [
       "MutableDiffResult(-0.2044578068550304, ([0.39829120904469095, -0.19262095275384977, -0.06467058375300636, -0.16597678410144642, 0.09076585820500507, -0.4505810392251209, -0.10561444535867072, 0.12783878526911294, -0.11042588440504841, 0.10070902078475591], [0.627576166543466 0.3752325887661919 0.12598063820020433 0.32332878372302787 -0.17681517747122896 0.8777481752645109 0.20574076275950454 -0.24903458141728996 0.21511362019402344 -0.1961848181151047; 0.3752325887661919 0.0 -0.060926553254502115 -0.15636774540631362 0.08551107122735313 -0.4244951582108158 -0.09950001617683905 0.12043770299703523 -0.1040329023868896 0.09487858562535327; 0.12598063820020433 -0.060926553254502115 0.08177341450641945 -0.052498927198695755 0.02870949818571752 -0.14252005967855214 -0.0334061483841412 0.04043577008282555 -0.03492802019039548 0.03185454868916674; 0.32332878372302787 -0.15636774540631362 -0.052498927198695755 0.5065202209408731 0.07368280763060513 -0.36577714012505186 -0.08573674082163721 0.10377823566036494 -0.0896426184797309 0.08175456666084382; -0.17681517747122896 0.08551107122735313 0.02870949818571752 0.07368280763060513 0.6661230076543951 0.2000284329821125 0.04688588770113528 -0.05675203718224227 0.04902185111071638 -0.04470820088075871; 0.8777481752645109 -0.4244951582108158 -0.14252005967855214 -0.36577714012505186 0.2000284329821125 0.0 -0.2327515259939988 0.2817291919827553 -0.24335490298914753 0.22194102510702524; 0.20574076275950454 -0.09950001617683905 -0.0334061483841412 -0.08573674082163721 0.04688588770113528 -0.2327515259939988 0.047672849833882494 0.06603622825269181 -0.05704144397356834 0.052022114178004765; -0.24903458141728996 0.12043770299703523 0.04043577008282555 0.10377823566036494 -0.05675203718224227 0.2817291919827553 0.06603622825269181 0.06565516649826747 0.06904461679283413 -0.06296907455284231; 0.21511362019402344 -0.1040329023868896 -0.03492802019039548 -0.0896426184797309 0.04902185111071638 -0.24335490298914753 -0.05704144397356834 0.06904461679283413 0.2582211013995885 0.054392066797470204; -0.1961848181151047 0.09487858562535327 0.03185454868916674 0.08175456666084382 -0.04470820088075871 0.22194102510702524 0.052022114178004765 -0.06296907455284231 0.054392066797470204 0.05262303597039363]))"
      ]
     },
     "execution_count": 43,
     "metadata": {},
     "output_type": "execute_result"
    }
   ],
   "source": [
    "@btime timing()"
   ]
  },
  {
   "cell_type": "code",
   "execution_count": 44,
   "metadata": {},
   "outputs": [
    {
     "name": "stdout",
     "output_type": "stream",
     "text": [
      "  12.227 μs (74 allocations: 46.17 KiB)\n"
     ]
    },
    {
     "data": {
      "text/plain": [
       "10×10 Array{Float64,2}:\n",
       "  0.0        0.121232    0.0   0.656108   …  0.0  -0.856951   0.0   1.31124\n",
       "  0.121232  -0.505286    0.0   0.0285255     0.0  -0.0372576  0.0   0.0570086\n",
       "  0.0        0.0         0.0   0.0           0.0   0.0        0.0   0.0\n",
       "  0.656108   0.0285255   0.0  -0.487653      0.0  -0.201639   0.0   0.308532\n",
       "  0.21697    0.00943319  0.0   0.0510526     0.0  -0.0666804  0.0   0.102029\n",
       " -0.12933   -0.00562285  0.0  -0.0304309  …  0.0   0.0397462  0.0  -0.0608166\n",
       "  0.0        0.0         0.0   0.0           0.0   0.0        0.0   0.0\n",
       " -0.856951  -0.0372576   0.0  -0.201639      0.0  -0.376055   0.0  -0.402977\n",
       "  0.0        0.0         0.0   0.0           0.0   0.0        0.0   0.0\n",
       "  1.31124    0.0570086   0.0   0.308532      0.0  -0.402977   0.0   0.0"
      ]
     },
     "execution_count": 44,
     "metadata": {},
     "output_type": "execute_result"
    }
   ],
   "source": [
    "@btime timing2()"
   ]
  },
  {
   "cell_type": "markdown",
   "metadata": {},
   "source": [
    "### Hermite functions"
   ]
  },
  {
   "cell_type": "code",
   "execution_count": 27,
   "metadata": {},
   "outputs": [
    {
     "name": "stdout",
     "output_type": "stream",
     "text": [
      "  0.069184 seconds (167.45 k allocations: 8.917 MiB)\n"
     ]
    },
    {
     "data": {
      "text/plain": [
       "(0.5630021473036511, 1.4497070210950369e-11)"
      ]
     },
     "execution_count": 27,
     "metadata": {},
     "output_type": "execute_result"
    }
   ],
   "source": [
    "@time integral, err = quadgk(x -> FamilyPhyHermite[5](x), 0.0, 1.0, rtol=1e-8)"
   ]
  },
  {
   "cell_type": "code",
   "execution_count": 29,
   "metadata": {},
   "outputs": [
    {
     "data": {
      "text/plain": [
       "1-element Array{Float64,1}:\n",
       " -18.84597896350062"
      ]
     },
     "execution_count": 29,
     "metadata": {},
     "output_type": "execute_result"
    }
   ],
   "source": [
    "derivative(FamilyPhyHermite[5],-1, [1.0])"
   ]
  },
  {
   "cell_type": "code",
   "execution_count": 88,
   "metadata": {},
   "outputs": [
    {
     "name": "stdout",
     "output_type": "stream",
     "text": [
      "\u001b[37m\u001b[1mTest Summary:                                           | \u001b[22m\u001b[39m\u001b[32m\u001b[1mPass  \u001b[22m\u001b[39m\u001b[36m\u001b[1mTotal\u001b[22m\u001b[39m\n",
      "Verify second derivative of Physicist hermite functions | \u001b[32m  12  \u001b[39m\u001b[36m   12\u001b[39m\n"
     ]
    },
    {
     "data": {
      "text/plain": [
       "Test.DefaultTestSet(\"Verify second derivative of Physicist hermite functions\", Any[], 12, false)"
      ]
     },
     "execution_count": 88,
     "metadata": {},
     "output_type": "execute_result"
    }
   ],
   "source": [
    "@testset \"Verify second derivative of Physicist hermite functions\" begin\n",
    "    # Unscaled\n",
    "    x = randn(100)\n",
    "    m = 5\n",
    "    dV = vander(PhyHermite(m; scaled = false), 2, x)\n",
    "\n",
    "    for i=0:5\n",
    "        Hn = FamilyPhyPolyHermite[i+1].(x)\n",
    "        Hnp = derivative(FamilyPhyPolyHermite[i+1],1).(x)\n",
    "        Hnpp = derivative(FamilyPhyPolyHermite[i+1],2).(x)\n",
    "        E = exp.(-x.^2/2)\n",
    "\n",
    "        @test norm(dV[:,i+1] - (Hnpp .*E -2 .*x .* Hnp.*E + Hn .* (x.^2 .- 1.0) .* E))<1e-8\n",
    "    end\n",
    "\n",
    "    # Scaled\n",
    "\n",
    "    x = randn(100)\n",
    "    m = 5\n",
    "    dV = vander(PhyHermite(m; scaled = true), 2, x)\n",
    "\n",
    "    for i=0:5\n",
    "        Hn = FamilyPhyPolyHermite[i+1].(x)\n",
    "        Hnp = derivative(FamilyPhyPolyHermite[i+1],1).(x)\n",
    "        Hnpp = derivative(FamilyPhyPolyHermite[i+1],2).(x)\n",
    "        E = exp.(-x.^2/2)\n",
    "\n",
    "        @test norm(dV[:,i+1] - (1/Cphy(i))*(Hnpp .*E -2 .*x .* Hnp.*E + Hn .* (x.^2 .- 1.0) .* E))<1e-8\n",
    "    end\n",
    "end"
   ]
  },
  {
   "cell_type": "code",
   "execution_count": null,
   "metadata": {},
   "outputs": [],
   "source": []
  }
 ],
 "metadata": {
  "kernelspec": {
   "display_name": "Julia 1.4.0",
   "language": "julia",
   "name": "julia-1.4"
  },
  "language_info": {
   "file_extension": ".jl",
   "mimetype": "application/julia",
   "name": "julia",
   "version": "1.4.0"
  }
 },
 "nbformat": 4,
 "nbformat_minor": 2
}
