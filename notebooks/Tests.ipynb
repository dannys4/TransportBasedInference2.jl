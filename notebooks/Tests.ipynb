{
 "cells": [
  {
   "cell_type": "code",
   "execution_count": 1,
   "metadata": {},
   "outputs": [
    {
     "name": "stderr",
     "output_type": "stream",
     "text": [
      "\u001b[32m\u001b[1m Activating\u001b[22m\u001b[39m environment at `/media/mat/HDD/AdaptiveTransportMap/Project.toml`\n"
     ]
    }
   ],
   "source": [
    "using Pkg\n",
    "Pkg.activate(\"/media/mat/HDD/AdaptiveTransportMap/\")"
   ]
  },
  {
   "cell_type": "code",
   "execution_count": 2,
   "metadata": {},
   "outputs": [
    {
     "name": "stderr",
     "output_type": "stream",
     "text": [
      "┌ Info: Precompiling AdaptiveTransportMap [bdf749b0-1400-4207-80d3-e689c0e3f03d]\n",
      "└ @ Base loading.jl:1260\n",
      "WARNING: using Polynomials.vander in module Main conflicts with an existing identifier.\n",
      "WARNING: using Polynomials.derivative in module Main conflicts with an existing identifier.\n"
     ]
    }
   ],
   "source": [
    "using Revise\n",
    "using AdaptiveTransportMap\n",
    "using LinearAlgebra\n",
    "import LinearAlgebra: ldiv!, dot\n",
    "using Test\n",
    "using ForwardDiff\n",
    "using SpecialFunctions\n",
    "using BenchmarkTools\n",
    "using TransportMap\n",
    "using QuadGK\n",
    "using AdaptiveTransportMap: derivative, vander, transform!, evaluate, ncoeff\n",
    "using DiffResults\n",
    "using Distributions\n",
    "using Random\n",
    "using LoopVectorization\n",
    "using Optim\n",
    "using NLsolve\n",
    "using Polynomials\n",
    "using Optim: InverseDiagonal#, ldiv!, dot"
   ]
  },
  {
   "cell_type": "markdown",
   "metadata": {},
   "source": [
    "### Type stability"
   ]
  },
  {
   "cell_type": "code",
   "execution_count": 12,
   "metadata": {},
   "outputs": [],
   "source": [
    "B = ProHermite(10; scaled = true)\n",
    "x = randn(1000);"
   ]
  },
  {
   "cell_type": "code",
   "execution_count": 16,
   "metadata": {},
   "outputs": [
    {
     "name": "stdout",
     "output_type": "stream",
     "text": [
      "  30.929 ns (2 allocations: 32 bytes)\n"
     ]
    },
    {
     "data": {
      "text/plain": [
       "0.1425484378703077"
      ]
     },
     "execution_count": 16,
     "metadata": {},
     "output_type": "execute_result"
    }
   ],
   "source": []
  },
  {
   "cell_type": "code",
   "execution_count": 22,
   "metadata": {},
   "outputs": [
    {
     "data": {
      "text/plain": [
       "timing (generic function with 1 method)"
      ]
     },
     "execution_count": 22,
     "metadata": {},
     "output_type": "execute_result"
    }
   ],
   "source": [
    "function timing()\n",
    "    @btime vander($B, $0, $x)\n",
    "    @btime $B($7.0)\n",
    "    @btime exp(-7.0^2/2.0)\n",
    "end"
   ]
  },
  {
   "cell_type": "code",
   "execution_count": 23,
   "metadata": {},
   "outputs": [
    {
     "name": "stdout",
     "output_type": "stream",
     "text": [
      "  34.634 μs (167 allocations: 89.45 KiB)\n",
      "  31.072 ns (2 allocations: 32 bytes)\n",
      "  1.181 ns (0 allocations: 0 bytes)\n"
     ]
    },
    {
     "data": {
      "text/plain": [
       "2.289734845645553e-11"
      ]
     },
     "execution_count": 23,
     "metadata": {},
     "output_type": "execute_result"
    }
   ],
   "source": [
    "timing()"
   ]
  },
  {
   "cell_type": "code",
   "execution_count": 13,
   "metadata": {},
   "outputs": [
    {
     "name": "stdout",
     "output_type": "stream",
     "text": [
      "  32.879 μs (167 allocations: 89.45 KiB)\n"
     ]
    },
    {
     "data": {
      "text/plain": [
       "1000×11 Array{Float64,2}:\n",
       " 0.553428  -0.402375   -0.184469    0.405972    …  -0.253378    0.2214\n",
       " 0.63156   -0.0121385  -0.446416    0.0148647      -0.0190327  -0.312725\n",
       " 0.468272   0.512313    0.065212   -0.377111       -0.0691254   0.292051\n",
       " 0.538869   0.429493   -0.138983   -0.414635        0.205378    0.265815\n",
       " 0.61891   -0.176473   -0.402055    0.210277       -0.247556   -0.188874\n",
       " 0.477694  -0.504926    0.0396091   0.388098    …   0.0331524   0.303991\n",
       " 0.628303  -0.0911663  -0.434924    0.110872       -0.139027   -0.279335\n",
       " 0.157936  -0.371884    0.507506   -0.386292       -0.239625   -0.123452\n",
       " 0.62566   -0.121826   -0.425635    0.14732        -0.181561   -0.253014\n",
       " 0.585904  -0.32119    -0.289794    0.35397        -0.319655    0.0637283\n",
       " 0.540661   0.426394   -0.144521   -0.413954    …   0.211663    0.261168\n",
       " 0.306568  -0.521291    0.410008    0.0231148       0.292783   -0.214368\n",
       " 0.308224  -0.52215     0.407526    0.0277468       0.295454   -0.209605\n",
       " ⋮                                              ⋱               ⋮\n",
       " 0.197507   0.425904    0.50976     0.286901        0.0758246  -0.270238\n",
       " 0.631341   0.0264995  -0.445639   -0.0324361       0.0414732  -0.310439\n",
       " 0.295806   0.515274    0.425513    0.00722033  …  -0.272806   -0.243357\n",
       " 0.595722  -0.288202   -0.322648    0.325436       -0.320711   -0.00116625\n",
       " 0.573493   0.35638    -0.248924   -0.380291        0.303347    0.134021\n",
       " 0.628899   0.0826205  -0.437024   -0.100607        0.126643   -0.28537\n",
       " 0.602592  -0.261406   -0.345912    0.300073       -0.312889   -0.0516371\n",
       " 0.577384   0.346003   -0.261656   -0.373039    …   0.309944    0.113362\n",
       " 0.617714   0.184322   -0.397899   -0.219048        0.255735   -0.177966\n",
       " 0.62405    0.137037   -0.419992   -0.165138        0.201352   -0.237313\n",
       " 0.547063  -0.414791   -0.164447    0.410663       -0.233314    0.242705\n",
       " 0.347825  -0.537313    0.340972    0.134608        0.326466   -0.0781965"
      ]
     },
     "execution_count": 13,
     "metadata": {},
     "output_type": "execute_result"
    }
   ],
   "source": [
    "@btime vander($B, $0, $x);"
   ]
  },
  {
   "cell_type": "code",
   "execution_count": 22,
   "metadata": {},
   "outputs": [
    {
     "data": {
      "text/plain": [
       "ImmutablePolynomial{Float64,N} where N"
      ]
     },
     "execution_count": 22,
     "metadata": {},
     "output_type": "execute_result"
    }
   ],
   "source": [
    "ImmutablePolynomial{Float64}"
   ]
  },
  {
   "cell_type": "code",
   "execution_count": 24,
   "metadata": {},
   "outputs": [
    {
     "data": {
      "text/plain": [
       "ImmutablePolynomial{Float64,1}"
      ]
     },
     "execution_count": 24,
     "metadata": {},
     "output_type": "execute_result"
    }
   ],
   "source": [
    "typeof(ImmutablePolynomial([1.0]))"
   ]
  },
  {
   "cell_type": "code",
   "execution_count": 4,
   "metadata": {},
   "outputs": [
    {
     "name": "stdout",
     "output_type": "stream",
     "text": [
      "Variables\n",
      "  P\u001b[36m::PhyHermite{10}\u001b[39m\n",
      "  x\u001b[36m::Float64\u001b[39m\n",
      "\n",
      "Body\u001b[36m::Float64\u001b[39m\n",
      "\u001b[90m1 ─\u001b[39m %1  = Base.getproperty(P, :Poly)\u001b[36m::PhyPolyHermite{10}\u001b[39m\n",
      "\u001b[90m│  \u001b[39m %2  = Base.getproperty(%1, :P)\u001b[91m\u001b[1m::ImmutablePolynomial{Float64,N} where N\u001b[22m\u001b[39m\n",
      "\u001b[90m│  \u001b[39m %3  = (%2)(x)\u001b[36m::Float64\u001b[39m\n",
      "\u001b[90m│  \u001b[39m %4  = Core.apply_type(Base.Val, 2)\u001b[36m::Core.Compiler.Const(Val{2}, false)\u001b[39m\n",
      "\u001b[90m│  \u001b[39m %5  = (%4)()\u001b[36m::Core.Compiler.Const(Val{2}(), false)\u001b[39m\n",
      "\u001b[90m│  \u001b[39m %6  = Base.literal_pow(AdaptiveTransportMap.:^, x, %5)\u001b[36m::Float64\u001b[39m\n",
      "\u001b[90m│  \u001b[39m %7  = -%6\u001b[36m::Float64\u001b[39m\n",
      "\u001b[90m│  \u001b[39m %8  = (%7 / 2)\u001b[36m::Float64\u001b[39m\n",
      "\u001b[90m│  \u001b[39m %9  = AdaptiveTransportMap.exp(%8)\u001b[36m::Float64\u001b[39m\n",
      "\u001b[90m│  \u001b[39m %10 = (%3 * %9)\u001b[36m::Float64\u001b[39m\n",
      "\u001b[90m└──\u001b[39m       return %10\n"
     ]
    }
   ],
   "source": [
    "@code_warntype B(1.0)"
   ]
  },
  {
   "cell_type": "markdown",
   "metadata": {},
   "source": [
    "### Greedy fit"
   ]
  },
  {
   "cell_type": "code",
   "execution_count": 4,
   "metadata": {},
   "outputs": [
    {
     "data": {
      "text/plain": [
       "10×100 Array{Float64,2}:\n",
       "  3.68039     0.946875     0.693619   …  0.855523    0.304843   0.898246\n",
       "  1.07442     0.112446     0.921913      4.57749     0.107159   2.62052\n",
       "  0.541196    0.334715    -0.0658506     0.101096    0.17725    0.0605184\n",
       "  0.0386828   2.84174      4.04136       0.0465724   0.484137   0.187518\n",
       "  3.1959      0.651701     0.194581      4.07973    -0.0578114  0.256688\n",
       "  0.0727446   0.53932      2.85015    …  2.61873     0.604214   1.27297\n",
       " -0.0368003   0.180983     2.74352       1.13634     0.162536   0.449194\n",
       "  3.26952     0.739949     1.66152       3.58785    -0.0402513  0.496681\n",
       "  0.14564     2.72651      6.17343       1.88102     0.712513   2.11774\n",
       "  1.35496    -0.00990635   0.1061        1.5473      0.718061   1.15609"
      ]
     },
     "execution_count": 4,
     "metadata": {},
     "output_type": "execute_result"
    }
   ],
   "source": [
    "Nx = 10\n",
    "\n",
    "m = 20\n",
    "Ne = 100\n",
    "X = randn(Nx, Ne).^2 + 0.1*randn(Nx, Ne)"
   ]
  },
  {
   "cell_type": "code",
   "execution_count": 5,
   "metadata": {},
   "outputs": [
    {
     "ename": "ErrorException",
     "evalue": "expression is not a function call, or is too complex for @code_warntype to analyze; break it down to simpler parts if possible",
     "output_type": "error",
     "traceback": [
      "expression is not a function call, or is too complex for @code_warntype to analyze; break it down to simpler parts if possible",
      "",
      "Stacktrace:",
      " [1] error(::String) at ./error.jl:33",
      " [2] top-level scope at In[5]:1"
     ]
    }
   ],
   "source": [
    "@code_warntype Hk_old = HermiteMapk(m, Nx; α = 1e-6)"
   ]
  },
  {
   "cell_type": "code",
   "execution_count": 25,
   "metadata": {},
   "outputs": [
    {
     "data": {
      "text/plain": [
       "10×100 Array{Float64,2}:\n",
       " -0.408456  -0.330729   0.0267807  …   0.445658  -0.307129  -0.550616\n",
       "  0.398451  -0.419435  -0.129437       0.138649  -0.632225  -0.377752\n",
       "  0.414137  -0.656114   0.155972       0.267643  -0.580941  -0.438812\n",
       " -0.414127  -0.524096  -0.41446       -0.161132   0.159428  -0.789193\n",
       "  1.04546    0.197856  -0.109473      -0.641067  -0.87027    2.41466\n",
       " -0.759387   0.269095   1.80427    …  -0.475912  -0.613684   1.90154\n",
       " -0.111056  -0.573471  -0.81206        2.61869   -0.621644  -0.600618\n",
       " -0.808418  -0.478858   0.0477805      0.314501  -0.351539   0.227846\n",
       " -0.71285   -0.60675   -0.235489      -0.695719  -0.645286  -0.604663\n",
       "  0.356629   1.02711   -0.751437       0.772187  -0.218078  -0.180552"
      ]
     },
     "execution_count": 25,
     "metadata": {},
     "output_type": "execute_result"
    }
   ],
   "source": [
    "L = LinearTransform(X; diag = true)\n",
    "transform!(L, X)"
   ]
  },
  {
   "cell_type": "code",
   "execution_count": 27,
   "metadata": {},
   "outputs": [
    {
     "data": {
      "text/plain": [
       "10×20 Array{Float64,2}:\n",
       " -0.72746    -0.237852    1.43312    …   0.445658  -0.307129  -0.550616\n",
       " -0.386074    0.0791423   0.723439       0.138649  -0.632225  -0.377752\n",
       " -0.51259    -0.55344     0.0360886      0.267643  -0.580941  -0.438812\n",
       " -0.459435   -0.715676   -0.128447      -0.161132   0.159428  -0.789193\n",
       " -0.0233207  -0.58865    -0.131694      -0.641067  -0.87027    2.41466\n",
       "  0.423174    0.298617   -0.532006   …  -0.475912  -0.613684   1.90154\n",
       " -0.350061    0.0893499  -0.65779        2.61869   -0.621644  -0.600618\n",
       "  0.351178   -0.419078   -0.607032       0.314501  -0.351539   0.227846\n",
       "  0.027123   -0.695594   -0.14186       -0.695719  -0.645286  -0.604663\n",
       "  0.422556   -0.505413   -0.501859       0.772187  -0.218078  -0.180552"
      ]
     },
     "execution_count": 27,
     "metadata": {},
     "output_type": "execute_result"
    }
   ],
   "source": [
    "X_train = X[:,1:80]\n",
    "X_valid = X[:,81:100]"
   ]
  },
  {
   "cell_type": "code",
   "execution_count": 36,
   "metadata": {},
   "outputs": [
    {
     "name": "stdout",
     "output_type": "stream",
     "text": [
      "  23.745 ms (139564 allocations: 38.88 MiB)\n"
     ]
    }
   ],
   "source": [
    "@btime greedyfit($m, $Nx, $X_train, $X_valid, $10; verbose = false);"
   ]
  },
  {
   "cell_type": "code",
   "execution_count": 53,
   "metadata": {},
   "outputs": [
    {
     "name": "stdout",
     "output_type": "stream",
     "text": [
      "Variables\n",
      "  #unused#\u001b[36m::Core.Compiler.Const(AdaptiveTransportMap.var\"#greedyfit##kw\"(), false)\u001b[39m\n",
      "  @_2\u001b[36m::NamedTuple{(:verbose,),Tuple{Bool}}\u001b[39m\n",
      "  @_3\u001b[36m::Core.Compiler.Const(AdaptiveTransportMap.greedyfit, false)\u001b[39m\n",
      "  m\u001b[36m::Int64\u001b[39m\n",
      "  k\u001b[36m::Int64\u001b[39m\n",
      "  X\u001b[36m::Array{Float64,2}\u001b[39m\n",
      "  Xvalid\u001b[36m::Array{Float64,2}\u001b[39m\n",
      "  maxterms\u001b[36m::Int64\u001b[39m\n",
      "  maxpatience\u001b[36m::Int64\u001b[39m\n",
      "  verbose\u001b[36m::Bool\u001b[39m\n",
      "  @_11\u001b[36m::Int64\u001b[39m\n",
      "  @_12\u001b[36m::Bool\u001b[39m\n",
      "\n",
      "Body\u001b[91m\u001b[1m::Tuple{HermiteMapk{_A,1,_B} where _B where _A,Array{Float64,1},Array{Float64,1}}\u001b[22m\u001b[39m\n",
      "\u001b[90m1 ─\u001b[39m %1  = Base.haskey(@_2, :maxpatience)\u001b[36m::Core.Compiler.Const(false, false)\u001b[39m\n",
      "\u001b[90m└──\u001b[39m       goto #3 if not %1\n",
      "\u001b[90m2 ─\u001b[39m       Core.Compiler.Const(:(Base.getindex(@_2, :maxpatience)), false)\n",
      "\u001b[90m│  \u001b[39m       Core.Compiler.Const(:(%3 isa AdaptiveTransportMap.Int64), false)\n",
      "\u001b[90m│  \u001b[39m       Core.Compiler.Const(:(%4), false)\n",
      "\u001b[90m│  \u001b[39m       Core.Compiler.Const(:(goto %9), false)\n",
      "\u001b[90m│  \u001b[39m       Core.Compiler.Const(:(%new(Core.TypeError, Symbol(\"keyword argument\"), :maxpatience, AdaptiveTransportMap.Int64, %3)), false)\n",
      "\u001b[90m│  \u001b[39m       Core.Compiler.Const(:(Core.throw(%7)), false)\n",
      "\u001b[90m│  \u001b[39m       Core.Compiler.Const(:(@_11 = %3), false)\n",
      "\u001b[90m└──\u001b[39m       Core.Compiler.Const(:(goto %14), false)\n",
      "\u001b[90m3 ┄\u001b[39m %11 = Core.apply_type(Base.Val, 5)\u001b[36m::Core.Compiler.Const(Val{5}, false)\u001b[39m\n",
      "\u001b[90m│  \u001b[39m %12 = (%11)()\u001b[36m::Core.Compiler.Const(Val{5}(), false)\u001b[39m\n",
      "\u001b[90m│  \u001b[39m       (@_11 = Base.literal_pow(AdaptiveTransportMap.:^, 10, %12))\n",
      "\u001b[90m│  \u001b[39m       (maxpatience = @_11)\n",
      "\u001b[90m│  \u001b[39m %15 = Base.haskey(@_2, :verbose)\u001b[36m::Core.Compiler.Const(true, false)\u001b[39m\n",
      "\u001b[90m│  \u001b[39m       %15\n",
      "\u001b[90m│  \u001b[39m %17 = Base.getindex(@_2, :verbose)\u001b[36m::Bool\u001b[39m\n",
      "\u001b[90m│  \u001b[39m %18 = (%17 isa AdaptiveTransportMap.Bool)\u001b[36m::Core.Compiler.Const(true, false)\u001b[39m\n",
      "\u001b[90m│  \u001b[39m       %18\n",
      "\u001b[90m└──\u001b[39m       goto #5\n",
      "\u001b[90m4 ─\u001b[39m       Core.Compiler.Const(:(%new(Core.TypeError, Symbol(\"keyword argument\"), :verbose, AdaptiveTransportMap.Bool, %17)), false)\n",
      "\u001b[90m└──\u001b[39m       Core.Compiler.Const(:(Core.throw(%21)), false)\n",
      "\u001b[90m5 ┄\u001b[39m       (@_12 = %17)\n",
      "\u001b[90m└──\u001b[39m       goto #7\n",
      "\u001b[90m6 ─\u001b[39m       Core.Compiler.Const(:(@_12 = true), false)\n",
      "\u001b[90m7 ┄\u001b[39m       (verbose = @_12)\n",
      "\u001b[90m│  \u001b[39m %27 = (:maxpatience, :verbose)\u001b[36m::Core.Compiler.Const((:maxpatience, :verbose), false)\u001b[39m\n",
      "\u001b[90m│  \u001b[39m %28 = Core.apply_type(Core.NamedTuple, %27)\u001b[36m::Core.Compiler.Const(NamedTuple{(:maxpatience, :verbose),T} where T<:Tuple, false)\u001b[39m\n",
      "\u001b[90m│  \u001b[39m %29 = Base.structdiff(@_2, %28)\u001b[36m::Core.Compiler.Const(NamedTuple(), false)\u001b[39m\n",
      "\u001b[90m│  \u001b[39m %30 = Base.pairs(%29)\u001b[36m::Core.Compiler.Const(Base.Iterators.Pairs{Union{},Union{},Tuple{},NamedTuple{(),Tuple{}}}(), false)\u001b[39m\n",
      "\u001b[90m│  \u001b[39m %31 = Base.isempty(%30)\u001b[36m::Core.Compiler.Const(true, false)\u001b[39m\n",
      "\u001b[90m│  \u001b[39m       %31\n",
      "\u001b[90m└──\u001b[39m       goto #9\n",
      "\u001b[90m8 ─\u001b[39m       Core.Compiler.Const(:(Base.kwerr(@_2, @_3, m, k, X, Xvalid, maxterms)), false)\n",
      "\u001b[90m9 ┄\u001b[39m %35 = AdaptiveTransportMap.:(var\"#greedyfit#95\")(maxpatience, verbose, @_3, m, k, X, Xvalid, maxterms)\u001b[91m\u001b[1m::Tuple{HermiteMapk{_A,1,_B} where _B where _A,Array{Float64,1},Array{Float64,1}}\u001b[22m\u001b[39m\n",
      "\u001b[90m└──\u001b[39m       return %35\n"
     ]
    }
   ],
   "source": [
    "@code_warntype greedyfit(m, Nx, X_train, X_valid, 15; verbose = false);"
   ]
  },
  {
   "cell_type": "code",
   "execution_count": 151,
   "metadata": {},
   "outputs": [
    {
     "ename": "ErrorException",
     "evalue": "syntax: \"$\" expression outside quote",
     "output_type": "error",
     "traceback": [
      "syntax: \"$\" expression outside quote",
      "",
      "Stacktrace:",
      " [1] top-level scope at /home/mat/.julia/packages/IJulia/DrVMH/src/kernel.jl:52"
     ]
    }
   ],
   "source": [
    "@code_warntype greedyfit($m, $Nx, $X_train, $X_valid, $15; verbose = false);"
   ]
  },
  {
   "cell_type": "code",
   "execution_count": 99,
   "metadata": {},
   "outputs": [
    {
     "name": "stdout",
     "output_type": "stream",
     "text": [
      "  0.000038 seconds (42 allocations: 120.516 KiB)\n",
      "1 terms - Training error: 1.4443504670380543, Validation error: 1.3147907978711455\n",
      "2 terms - Training error: 1.013555754394048, Validation error: 1.0148284980423214\n",
      "3 terms - Training error: 0.9740035731615574, Validation error: 0.9536709077333043\n",
      "4 terms - Training error: 0.968194963388136, Validation error: 0.9269258934472301\n",
      "5 terms - Training error: 0.8660654654774056, Validation error: 0.8538651976765612\n",
      "6 terms - Training error: 0.8468938234481649, Validation error: 0.8374329264723278\n",
      "7 terms - Training error: 0.8118015219715872, Validation error: 0.8007373200002506\n",
      "8 terms - Training error: 0.808988833791454, Validation error: 0.8016700608672841\n",
      "9 terms - Training error: 0.8055509920369043, Validation error: 0.8064967607768131\n",
      "10 terms - Training error: 0.7857644650326624, Validation error: 0.8090534466320567\n"
     ]
    }
   ],
   "source": [
    "Hk_old = HermiteMapk(m, Nx; α = 1e-6);\n",
    "\n",
    "@time S = Storage(Hk_old.I.f, X);\n",
    "\n",
    "Hk_new, train_error, valid_error = greedyfit(m, Nx, X_train, X_valid, 10; verbose = true);"
   ]
  },
  {
   "cell_type": "code",
   "execution_count": 106,
   "metadata": {},
   "outputs": [
    {
     "name": "stdout",
     "output_type": "stream",
     "text": [
      "  0.000057 seconds (42 allocations: 120.516 KiB)\n",
      "1 terms - Training error: 1.41428818328749, Validation error: 1.435039932873401\n",
      "2 terms - Training error: 1.011647231546337, Validation error: 1.0765340323252046\n",
      "3 terms - Training error: 0.954187562314565, Validation error: 1.009496573370243\n",
      "4 terms - Training error: 0.9532824496069529, Validation error: 1.007776307368724\n",
      "5 terms - Training error: 0.841380513349966, Validation error: 0.9041126563257862\n",
      "6 terms - Training error: 0.8299467025145106, Validation error: 0.9037778557535633\n",
      "7 terms - Training error: 0.8018842783083129, Validation error: 0.8750517929963674\n",
      "8 terms - Training error: 0.801758584142784, Validation error: 0.8767880843281514\n",
      "9 terms - Training error: 0.8015539210804201, Validation error: 0.8774101595696208\n",
      "10 terms - Training error: 0.7995583928098936, Validation error: 0.8823916723449652\n"
     ]
    }
   ],
   "source": [
    "Hk_old = HermiteMapk(m, Nx; α = 1e-6);\n",
    "\n",
    "@time S = Storage(Hk_old.I.f, X);\n",
    "\n",
    "Hk_new, train_error, valid_error = greedyfit(m, Nx, X_train, X_valid, 10; verbose = true);"
   ]
  },
  {
   "cell_type": "code",
   "execution_count": 83,
   "metadata": {},
   "outputs": [],
   "source": [
    "Hk_test = deepcopy(Hk_new)\n",
    "setcoeff!(Hk_test, zero(getcoeff(Hk_new)));"
   ]
  },
  {
   "cell_type": "code",
   "execution_count": 85,
   "metadata": {},
   "outputs": [
    {
     "data": {
      "text/plain": [
       "10-element Array{Float64,1}:\n",
       " -11.217886066730607\n",
       "  11.50914577979369\n",
       "  26.61111083798624\n",
       " -24.71937861667548\n",
       "  34.997147393519235\n",
       " -17.03501613771925\n",
       "  11.077321531464895\n",
       "   0.034843907277600714\n",
       "   0.0381866111200113\n",
       "   0.1782552001411759"
      ]
     },
     "execution_count": 85,
     "metadata": {},
     "output_type": "execute_result"
    }
   ],
   "source": [
    "S_test = Storage(Hk_test.I.f, X_train)\n",
    "coeff_test = getcoeff(Hk_test)\n",
    "\n",
    "res = Optim.optimize(Optim.only_fg!(negative_log_likelihood!(S_test, Hk_test, X_train)), coeff_test, Optim.BFGS())\n",
    "Optim.minimizer(res)"
   ]
  },
  {
   "cell_type": "code",
   "execution_count": 78,
   "metadata": {},
   "outputs": [
    {
     "data": {
      "text/plain": [
       "1-element Array{Float64,1}:\n",
       " -1.144117388080984"
      ]
     },
     "execution_count": 78,
     "metadata": {},
     "output_type": "execute_result"
    }
   ],
   "source": [
    "res = Optim.optimize(Optim.only_fg!(negative_log_likelihood!(S, Hk_old, ens.S)), coeff, Optim.BFGS())\n",
    "coeffopt = Optim.minimizer(res)"
   ]
  },
  {
   "cell_type": "markdown",
   "metadata": {},
   "source": [
    "### Hessian computation "
   ]
  },
  {
   "cell_type": "code",
   "execution_count": 22,
   "metadata": {},
   "outputs": [
    {
     "data": {
      "text/plain": [
       "500"
      ]
     },
     "execution_count": 22,
     "metadata": {},
     "output_type": "execute_result"
    }
   ],
   "source": [
    "Nx = 4\n",
    "m = 10\n",
    "B = MultiBasis(CstProHermite(m; scaled =true), Nx)\n",
    "\n",
    "Nψ = 14\n",
    "# idx = rand(0:5,Nψ, Nx)\n",
    "idx =Matrix([5  2  5  3;\n",
    "             0  2  2  5;\n",
    "             5  4  3  4;\n",
    "             4  1  3  1;\n",
    "             3  2  4  5;\n",
    "             0  3  3  3;\n",
    "             4  2  0  0;\n",
    "             2  0  2  4;\n",
    "             4  4  0  5;\n",
    "             0  4  0  2;\n",
    "             4  5  5  5;\n",
    "             0  1  2  3;\n",
    "             4  2  4  0;\n",
    "             4  3  2  3]);\n",
    "\n",
    "\n",
    "coeff = [  2.421476831418713;\n",
    "          0.23398851530507098;\n",
    "         -0.5285368375369742;\n",
    "          0.8947095708709891;\n",
    "         -0.688462862924509;\n",
    "          0.23331743780756214;\n",
    "          2.0098809355359006;\n",
    "          1.1243983698817437;\n",
    "         -0.18373487759949592;\n",
    "          0.24787268168991677;\n",
    "          0.9041136183543212;\n",
    "          1.9776434399606355;\n",
    "          1.1972246121155632;\n",
    "          0.3847306368698849]\n",
    "\n",
    "f = ExpandedFunction(B, idx, coeff)\n",
    "\n",
    "fp = ParametricFunction(f)\n",
    "R = IntegratedFunction(fp)\n",
    "H = HermiteMapk(R; α = 1e-6);\n",
    "Ne = 500"
   ]
  },
  {
   "cell_type": "code",
   "execution_count": 23,
   "metadata": {},
   "outputs": [
    {
     "data": {
      "text/plain": [
       "14×1 Array{Int64,2}:\n",
       " 15\n",
       "  9\n",
       " 16\n",
       "  9\n",
       " 14\n",
       "  9\n",
       "  6\n",
       "  8\n",
       " 13\n",
       "  6\n",
       " 19\n",
       "  6\n",
       " 10\n",
       " 12"
      ]
     },
     "execution_count": 23,
     "metadata": {},
     "output_type": "execute_result"
    }
   ],
   "source": [
    "sum(idx;dims = 2)"
   ]
  },
  {
   "cell_type": "code",
   "execution_count": 24,
   "metadata": {},
   "outputs": [
    {
     "name": "stdout",
     "output_type": "stream",
     "text": [
      "  0.002007 seconds (1.53 k allocations: 2.742 MiB)\n"
     ]
    },
    {
     "data": {
      "text/plain": [
       "precond! (generic function with 2 methods)"
      ]
     },
     "execution_count": 24,
     "metadata": {},
     "output_type": "execute_result"
    }
   ],
   "source": [
    "X = randn(Nx, Ne) .* randn(Nx, Ne) \n",
    "S = Storage(H.I.f, X; hess = false);\n",
    "\n",
    "J = 0.0\n",
    "dJ = zeros(Nψ)\n",
    "d2J = zeros(Nψ, Nψ)\n",
    "\n",
    "@time negative_log_likelihood!(J, dJ, coeff, S, H, X)\n",
    "\n",
    "precond!"
   ]
  },
  {
   "cell_type": "code",
   "execution_count": 25,
   "metadata": {},
   "outputs": [
    {
     "name": "stdout",
     "output_type": "stream",
     "text": [
      "  104.624 ms (130849 allocations: 233.12 MiB)\n"
     ]
    },
    {
     "data": {
      "text/plain": [
       " * Status: success\n",
       "\n",
       " * Candidate solution\n",
       "    Final objective value:     1.479295e+00\n",
       "\n",
       " * Found with\n",
       "    Algorithm:     L-BFGS\n",
       "\n",
       " * Convergence measures\n",
       "    |x - x'|               = 1.24e-05 ≰ 0.0e+00\n",
       "    |x - x'|/|x'|          = 1.82e-06 ≰ 0.0e+00\n",
       "    |f(x) - f(x')|         = 1.87e-13 ≰ 0.0e+00\n",
       "    |f(x) - f(x')|/|f(x')| = 1.26e-13 ≰ 0.0e+00\n",
       "    |g(x)|                 = 2.84e-09 ≤ 1.0e-08\n",
       "\n",
       " * Work counters\n",
       "    Seconds run:   0  (vs limit Inf)\n",
       "    Iterations:    28\n",
       "    f(x) calls:    85\n",
       "    ∇f(x) calls:   85\n"
      ]
     },
     "execution_count": 25,
     "metadata": {},
     "output_type": "execute_result"
    }
   ],
   "source": [
    "@btime res = Optim.optimize(Optim.only_fg!(negative_log_likelihood!($S, $H, $X)), $coeff, Optim.LBFGS())"
   ]
  },
  {
   "cell_type": "code",
   "execution_count": 26,
   "metadata": {},
   "outputs": [
    {
     "ename": "ErrorException",
     "evalue": "error in method definition: function LinearAlgebra.ldiv! must be explicitly imported to be extended",
     "output_type": "error",
     "traceback": [
      "error in method definition: function LinearAlgebra.ldiv! must be explicitly imported to be extended",
      "",
      "Stacktrace:",
      " [1] top-level scope at none:0",
      " [2] top-level scope at In[26]:10"
     ]
    }
   ],
   "source": [
    "struct Preconditioner\n",
    "    P::Symmetric{Float64}\n",
    "    \n",
    "    F::Cholesky{Float64, Matrix{Float64}}\n",
    "end\n",
    "\n",
    "function Preconditioner(P::Matrix{Float64})\n",
    "    return Preconditioner(Symmetric(P), cholesky(Symmetric(P)))\n",
    "end\n",
    "\n",
    "ldiv!(x, P::Preconditioner, b) = copyto!(x, P.F \\ b)\n",
    "dot(A::Array, P::Preconditioner, B::Vector) = dot(A, P.P, B)"
   ]
  },
  {
   "cell_type": "code",
   "execution_count": 27,
   "metadata": {},
   "outputs": [],
   "source": [
    "\n",
    "# res = Optim.optimize(Optim.only_fg!(negative_loglikelihood!(S, H, X)), coeff, \n",
    "#             Optim.LBFGS(P = Preconditioner(precond)))#, precondprep = (P, x) -> precond!(S, H, X)(P, x)))"
   ]
  },
  {
   "cell_type": "code",
   "execution_count": 28,
   "metadata": {},
   "outputs": [
    {
     "name": "stdout",
     "output_type": "stream",
     "text": [
      "  104.817 ms (130849 allocations: 233.12 MiB)\n"
     ]
    },
    {
     "data": {
      "text/plain": [
       " * Status: success\n",
       "\n",
       " * Candidate solution\n",
       "    Final objective value:     1.479295e+00\n",
       "\n",
       " * Found with\n",
       "    Algorithm:     L-BFGS\n",
       "\n",
       " * Convergence measures\n",
       "    |x - x'|               = 1.24e-05 ≰ 0.0e+00\n",
       "    |x - x'|/|x'|          = 1.82e-06 ≰ 0.0e+00\n",
       "    |f(x) - f(x')|         = 1.87e-13 ≰ 0.0e+00\n",
       "    |f(x) - f(x')|/|f(x')| = 1.26e-13 ≰ 0.0e+00\n",
       "    |g(x)|                 = 2.84e-09 ≤ 1.0e-08\n",
       "\n",
       " * Work counters\n",
       "    Seconds run:   0  (vs limit Inf)\n",
       "    Iterations:    28\n",
       "    f(x) calls:    85\n",
       "    ∇f(x) calls:   85\n"
      ]
     },
     "execution_count": 28,
     "metadata": {},
     "output_type": "execute_result"
    }
   ],
   "source": [
    "@btime res = Optim.optimize(Optim.only_fg!(negative_log_likelihood!($S, $H, $X)), $coeff, Optim.LBFGS())#, precondprep = (P, x) -> Preconditioner(precond!($S, $H, $X)($P.P.data, x))))"
   ]
  },
  {
   "cell_type": "code",
   "execution_count": 29,
   "metadata": {},
   "outputs": [
    {
     "data": {
      "text/plain": [
       " * Status: success\n",
       "\n",
       " * Candidate solution\n",
       "    Final objective value:     1.479295e+00\n",
       "\n",
       " * Found with\n",
       "    Algorithm:     L-BFGS\n",
       "\n",
       " * Convergence measures\n",
       "    |x - x'|               = 6.21e-05 ≰ 0.0e+00\n",
       "    |x - x'|/|x'|          = 9.10e-06 ≰ 0.0e+00\n",
       "    |f(x) - f(x')|         = 7.68e-13 ≰ 0.0e+00\n",
       "    |f(x) - f(x')|/|f(x')| = 5.19e-13 ≰ 0.0e+00\n",
       "    |g(x)|                 = 3.43e-09 ≤ 1.0e-08\n",
       "\n",
       " * Work counters\n",
       "    Seconds run:   0  (vs limit Inf)\n",
       "    Iterations:    8\n",
       "    f(x) calls:    17\n",
       "    ∇f(x) calls:   17\n"
      ]
     },
     "execution_count": 29,
     "metadata": {},
     "output_type": "execute_result"
    }
   ],
   "source": [
    "precond = zeros(Nψ, Nψ)\n",
    "coeff0 = randn(Nψ)\n",
    "precond!(precond, coeff, S, H, X)\n",
    "P = Preconditioner(precond)\n",
    "\n",
    "res = Optim.optimize(Optim.only_fg!(negative_log_likelihood!(S, H, X)), coeff0, Optim.LBFGS(; m = 20, P = Preconditioner(precond)))"
   ]
  },
  {
   "cell_type": "code",
   "execution_count": 30,
   "metadata": {},
   "outputs": [
    {
     "data": {
      "text/plain": [
       "14-element Array{Float64,1}:\n",
       "  0.2042411208812283\n",
       " -0.160665456718217\n",
       "  5.371746068389059\n",
       " -0.19909085135432283\n",
       "  6.822999267856531\n",
       " -0.14374191048398882\n",
       " -0.3861327468309733\n",
       "  0.788767701800107\n",
       "  2.22362622541736\n",
       " -0.9700837073808384\n",
       "  2.7757966850015574\n",
       "  0.04063103525990578\n",
       "  1.7876303361723063\n",
       " -1.6264347964407893"
      ]
     },
     "execution_count": 30,
     "metadata": {},
     "output_type": "execute_result"
    }
   ],
   "source": [
    "Optim.minimizer(res)"
   ]
  },
  {
   "cell_type": "code",
   "execution_count": 31,
   "metadata": {},
   "outputs": [
    {
     "name": "stdout",
     "output_type": "stream",
     "text": [
      "  72.319 ms (38554 allocations: 68.59 MiB)\n"
     ]
    },
    {
     "data": {
      "text/plain": [
       " * Status: success\n",
       "\n",
       " * Candidate solution\n",
       "    Final objective value:     1.479295e+00\n",
       "\n",
       " * Found with\n",
       "    Algorithm:     L-BFGS\n",
       "\n",
       " * Convergence measures\n",
       "    |x - x'|               = 8.58e-05 ≰ 0.0e+00\n",
       "    |x - x'|/|x'|          = 1.26e-05 ≰ 0.0e+00\n",
       "    |f(x) - f(x')|         = 1.74e-12 ≰ 0.0e+00\n",
       "    |f(x) - f(x')|/|f(x')| = 1.18e-12 ≰ 0.0e+00\n",
       "    |g(x)|                 = 5.12e-09 ≤ 1.0e-08\n",
       "\n",
       " * Work counters\n",
       "    Seconds run:   0  (vs limit Inf)\n",
       "    Iterations:    8\n",
       "    f(x) calls:    17\n",
       "    ∇f(x) calls:   17\n"
      ]
     },
     "execution_count": 31,
     "metadata": {},
     "output_type": "execute_result"
    }
   ],
   "source": [
    "@btime res = Optim.optimize(Optim.only_fg!(negative_log_likelihood!($S, $H, $X)), $coeff, \n",
    "            Optim.LBFGS(; m = 20, P = Preconditioner($precond), precondprep = (P, x) -> Preconditioner(precond!($S, $H, $X)($P.P.data, x))))"
   ]
  },
  {
   "cell_type": "code",
   "execution_count": 32,
   "metadata": {},
   "outputs": [
    {
     "name": "stdout",
     "output_type": "stream",
     "text": [
      "  19.128 ms (26245 allocations: 46.64 MiB)\n"
     ]
    },
    {
     "data": {
      "text/plain": [
       " * Status: success\n",
       "\n",
       " * Candidate solution\n",
       "    Final objective value:     1.479295e+00\n",
       "\n",
       " * Found with\n",
       "    Algorithm:     L-BFGS\n",
       "\n",
       " * Convergence measures\n",
       "    |x - x'|               = 8.58e-05 ≰ 0.0e+00\n",
       "    |x - x'|/|x'|          = 1.26e-05 ≰ 0.0e+00\n",
       "    |f(x) - f(x')|         = 1.74e-12 ≰ 0.0e+00\n",
       "    |f(x) - f(x')|/|f(x')| = 1.18e-12 ≰ 0.0e+00\n",
       "    |g(x)|                 = 5.12e-09 ≤ 1.0e-08\n",
       "\n",
       " * Work counters\n",
       "    Seconds run:   0  (vs limit Inf)\n",
       "    Iterations:    8\n",
       "    f(x) calls:    17\n",
       "    ∇f(x) calls:   17\n"
      ]
     },
     "execution_count": 32,
     "metadata": {},
     "output_type": "execute_result"
    }
   ],
   "source": [
    "@btime res = Optim.optimize(Optim.only_fg!(negative_log_likelihood!($S, $H, $X)), $coeff, \n",
    "            Optim.LBFGS(P = Preconditioner($precond)))#, precondprep = (P, x) -> Preconditioner(precond!($S, $H, $X)($P.P.data, x))))"
   ]
  },
  {
   "cell_type": "code",
   "execution_count": 33,
   "metadata": {},
   "outputs": [
    {
     "name": "stdout",
     "output_type": "stream",
     "text": [
      "  19.342 ms (26265 allocations: 46.64 MiB)\n"
     ]
    },
    {
     "data": {
      "text/plain": [
       " * Status: success\n",
       "\n",
       " * Candidate solution\n",
       "    Final objective value:     1.479295e+00\n",
       "\n",
       " * Found with\n",
       "    Algorithm:     L-BFGS\n",
       "\n",
       " * Convergence measures\n",
       "    |x - x'|               = 8.58e-05 ≰ 0.0e+00\n",
       "    |x - x'|/|x'|          = 1.26e-05 ≰ 0.0e+00\n",
       "    |f(x) - f(x')|         = 1.74e-12 ≰ 0.0e+00\n",
       "    |f(x) - f(x')|/|f(x')| = 1.18e-12 ≰ 0.0e+00\n",
       "    |g(x)|                 = 5.12e-09 ≤ 1.0e-08\n",
       "\n",
       " * Work counters\n",
       "    Seconds run:   0  (vs limit Inf)\n",
       "    Iterations:    8\n",
       "    f(x) calls:    17\n",
       "    ∇f(x) calls:   17\n"
      ]
     },
     "execution_count": 33,
     "metadata": {},
     "output_type": "execute_result"
    }
   ],
   "source": [
    "@btime res = Optim.optimize(Optim.only_fg!(negative_log_likelihood!($S, $H, $X)), $coeff, \n",
    "            Optim.LBFGS(; m = 20, P = Preconditioner($precond)))#, precondprep = (P, x) -> Preconditioner(precond!(S, H, X)(P.P.data, x))))"
   ]
  },
  {
   "cell_type": "code",
   "execution_count": 34,
   "metadata": {},
   "outputs": [
    {
     "name": "stdout",
     "output_type": "stream",
     "text": [
      "  19.304 ms (26265 allocations: 46.64 MiB)\n"
     ]
    },
    {
     "data": {
      "text/plain": [
       " * Status: success\n",
       "\n",
       " * Candidate solution\n",
       "    Final objective value:     1.479295e+00\n",
       "\n",
       " * Found with\n",
       "    Algorithm:     L-BFGS\n",
       "\n",
       " * Convergence measures\n",
       "    |x - x'|               = 8.58e-05 ≰ 0.0e+00\n",
       "    |x - x'|/|x'|          = 1.26e-05 ≰ 0.0e+00\n",
       "    |f(x) - f(x')|         = 1.74e-12 ≰ 0.0e+00\n",
       "    |f(x) - f(x')|/|f(x')| = 1.18e-12 ≰ 0.0e+00\n",
       "    |g(x)|                 = 5.12e-09 ≤ 1.0e-08\n",
       "\n",
       " * Work counters\n",
       "    Seconds run:   0  (vs limit Inf)\n",
       "    Iterations:    8\n",
       "    f(x) calls:    17\n",
       "    ∇f(x) calls:   17\n"
      ]
     },
     "execution_count": 34,
     "metadata": {},
     "output_type": "execute_result"
    }
   ],
   "source": [
    "@btime res = Optim.optimize(Optim.only_fg!(negative_log_likelihood!($S, $H, $X)), $coeff, \n",
    "            Optim.LBFGS(; m = 20, P = Preconditioner($precond)))"
   ]
  },
  {
   "cell_type": "code",
   "execution_count": 39,
   "metadata": {},
   "outputs": [
    {
     "data": {
      "text/plain": [
       "dot (generic function with 40 methods)"
      ]
     },
     "execution_count": 39,
     "metadata": {},
     "output_type": "execute_result"
    }
   ],
   "source": [
    "diagprecond = zeros(Nψ)\n",
    "coeff0 = randn(Nψ)\n",
    "diagprecond!(diagprecond, coeff, S, H, X)\n",
    "D = Optim.InverseDiagonal(diagprecond)\n",
    "\n",
    "ldiv!(out::Array, P::Optim.InverseDiagonal, A::Array) = copyto!(out, A .* P.diag)\n",
    "dot(A::Array, P::Optim.InverseDiagonal, B::Vector) = dot(A, B ./ P.diag)"
   ]
  },
  {
   "cell_type": "code",
   "execution_count": 41,
   "metadata": {},
   "outputs": [
    {
     "data": {
      "text/plain": [
       "14-element Array{Float64,1}:\n",
       " 0.00012403916115351907\n",
       " 0.000914061082337064\n",
       " 4.223509631951479e-5\n",
       " 0.0010497362861250537\n",
       " 9.846338287295053e-5\n",
       " 0.0023101801954228643\n",
       " 0.006057967285600174\n",
       " 0.000385561839624177\n",
       " 0.0005285393135169043\n",
       " 0.003055127424459309\n",
       " 6.995783516676906e-5\n",
       " 0.003976096151961689\n",
       " 0.0004067998335964076\n",
       " 0.000124219015787626"
      ]
     },
     "execution_count": 41,
     "metadata": {},
     "output_type": "execute_result"
    }
   ],
   "source": [
    "diagprecond"
   ]
  },
  {
   "cell_type": "code",
   "execution_count": 44,
   "metadata": {},
   "outputs": [
    {
     "data": {
      "text/plain": [
       " * Status: success\n",
       "\n",
       " * Candidate solution\n",
       "    Final objective value:     1.479295e+00\n",
       "\n",
       " * Found with\n",
       "    Algorithm:     L-BFGS\n",
       "\n",
       " * Convergence measures\n",
       "    |x - x'|               = 6.88e-05 ≰ 0.0e+00\n",
       "    |x - x'|/|x'|          = 1.01e-05 ≰ 0.0e+00\n",
       "    |f(x) - f(x')|         = 8.34e-13 ≰ 0.0e+00\n",
       "    |f(x) - f(x')|/|f(x')| = 5.63e-13 ≰ 0.0e+00\n",
       "    |g(x)|                 = 9.72e-09 ≤ 1.0e-08\n",
       "\n",
       " * Work counters\n",
       "    Seconds run:   0  (vs limit Inf)\n",
       "    Iterations:    11\n",
       "    f(x) calls:    23\n",
       "    ∇f(x) calls:   23\n"
      ]
     },
     "execution_count": 44,
     "metadata": {},
     "output_type": "execute_result"
    }
   ],
   "source": [
    "res = Optim.optimize(Optim.only_fg!(negative_log_likelihood!(S, H, X)), coeff, \n",
    "            Optim.LBFGS(; m = 20, P = Diagonal(diagprecond)))"
   ]
  },
  {
   "cell_type": "code",
   "execution_count": 45,
   "metadata": {},
   "outputs": [
    {
     "name": "stdout",
     "output_type": "stream",
     "text": [
      "  25.826 ms (35493 allocations: 63.09 MiB)\n"
     ]
    },
    {
     "data": {
      "text/plain": [
       " * Status: success\n",
       "\n",
       " * Candidate solution\n",
       "    Final objective value:     1.479295e+00\n",
       "\n",
       " * Found with\n",
       "    Algorithm:     L-BFGS\n",
       "\n",
       " * Convergence measures\n",
       "    |x - x'|               = 6.88e-05 ≰ 0.0e+00\n",
       "    |x - x'|/|x'|          = 1.01e-05 ≰ 0.0e+00\n",
       "    |f(x) - f(x')|         = 8.34e-13 ≰ 0.0e+00\n",
       "    |f(x) - f(x')|/|f(x')| = 5.63e-13 ≰ 0.0e+00\n",
       "    |g(x)|                 = 9.72e-09 ≤ 1.0e-08\n",
       "\n",
       " * Work counters\n",
       "    Seconds run:   0  (vs limit Inf)\n",
       "    Iterations:    11\n",
       "    f(x) calls:    23\n",
       "    ∇f(x) calls:   23\n"
      ]
     },
     "execution_count": 45,
     "metadata": {},
     "output_type": "execute_result"
    }
   ],
   "source": [
    "@btime res = Optim.optimize(Optim.only_fg!(negative_log_likelihood!($S, $H, $X)), $coeff, \n",
    "            Optim.LBFGS(; m = 20, P = Diagonal($diagprecond)))"
   ]
  },
  {
   "cell_type": "code",
   "execution_count": 37,
   "metadata": {},
   "outputs": [
    {
     "data": {
      "text/plain": [
       " * Status: success\n",
       "\n",
       " * Candidate solution\n",
       "    Final objective value:     1.479295e+00\n",
       "\n",
       " * Found with\n",
       "    Algorithm:     Nonlinear GMRES preconditioned with Gradient Descent\n",
       "\n",
       " * Convergence measures\n",
       "    |x - x'|               = 3.87e-05 ≰ 0.0e+00\n",
       "    |x - x'|/|x'|          = 5.68e-06 ≰ 0.0e+00\n",
       "    |f(x) - f(x')|         = 2.85e-13 ≰ 0.0e+00\n",
       "    |f(x) - f(x')|/|f(x')| = 1.93e-13 ≰ 0.0e+00\n",
       "    |g(x)|                 = 5.95e-09 ≤ 1.0e-08\n",
       "\n",
       " * Work counters\n",
       "    Seconds run:   1  (vs limit Inf)\n",
       "    Iterations:    32\n",
       "    f(x) calls:    123\n",
       "    ∇f(x) calls:   123\n"
      ]
     },
     "execution_count": 37,
     "metadata": {},
     "output_type": "execute_result"
    }
   ],
   "source": [
    "res = Optim.optimize(Optim.only_fg!(negative_log_likelihood!(S, H, X)), zeros(Nψ), Optim.NGMRES())"
   ]
  },
  {
   "cell_type": "code",
   "execution_count": 128,
   "metadata": {},
   "outputs": [
    {
     "name": "stdout",
     "output_type": "stream",
     "text": [
      "  3.519 s (3527117 allocations: 6.96 GiB)\n"
     ]
    },
    {
     "data": {
      "text/plain": [
       " * Status: failure (reached maximum number of iterations)\n",
       "\n",
       " * Candidate solution\n",
       "    Final objective value:     1.572975e+00\n",
       "\n",
       " * Found with\n",
       "    Algorithm:     Accelerated Gradient Descent\n",
       "\n",
       " * Convergence measures\n",
       "    |x - x'|               = 4.30e-04 ≰ 0.0e+00\n",
       "    |x - x'|/|x'|          = 1.07e-04 ≰ 0.0e+00\n",
       "    |f(x) - f(x')|         = 2.20e-09 ≰ 0.0e+00\n",
       "    |f(x) - f(x')|/|f(x')| = 1.40e-09 ≰ 0.0e+00\n",
       "    |g(x)|                 = 1.35e-05 ≰ 1.0e-08\n",
       "\n",
       " * Work counters\n",
       "    Seconds run:   4  (vs limit Inf)\n",
       "    Iterations:    1000\n",
       "    f(x) calls:    3295\n",
       "    ∇f(x) calls:   3295\n"
      ]
     },
     "execution_count": 128,
     "metadata": {},
     "output_type": "execute_result"
    }
   ],
   "source": [
    "@btime res = Optim.optimize(Optim.only_fg!(negative_log_likelihood!($S, $H, $X)), $coeff, Optim.AcceleratedGradientDescent())"
   ]
  },
  {
   "cell_type": "code",
   "execution_count": null,
   "metadata": {},
   "outputs": [],
   "source": [
    "MomentumGradientDescent()"
   ]
  },
  {
   "cell_type": "code",
   "execution_count": 30,
   "metadata": {},
   "outputs": [
    {
     "data": {
      "text/plain": [
       "1.3784285990365932"
      ]
     },
     "execution_count": 30,
     "metadata": {},
     "output_type": "execute_result"
    }
   ],
   "source": [
    "X = randn(Nx, Ne) .* randn(Nx, Ne) \n",
    "S = Storage(H.I.f, X);\n",
    "\n",
    "J = 0.0\n",
    "dJ = zeros(Nψ)\n",
    "d2J = zeros(Nψ, Nψ)\n",
    "hess_negative_log_likelihood!(J, dJ, d2J, coeff, S, H, X)"
   ]
  },
  {
   "cell_type": "code",
   "execution_count": 117,
   "metadata": {},
   "outputs": [
    {
     "data": {
      "text/plain": [
       "11-element Array{Float64,1}:\n",
       " -0.647941708993688\n",
       "  0.01751723817324542\n",
       "  0.12943970119038775\n",
       "  0.0033091844731214684\n",
       " -0.00031264752126695754\n",
       "  0.03545495128594644\n",
       " -0.0062483204244866645\n",
       " -0.028569877746525366\n",
       " -0.0008423358431159828\n",
       " -0.0033284486942029698\n",
       " -0.005733695198669693"
      ]
     },
     "execution_count": 117,
     "metadata": {},
     "output_type": "execute_result"
    }
   ],
   "source": [
    "dJ"
   ]
  },
  {
   "cell_type": "code",
   "execution_count": 31,
   "metadata": {},
   "outputs": [
    {
     "name": "stdout",
     "output_type": "stream",
     "text": [
      "  193.793 ms (82746 allocations: 143.66 MiB)\n"
     ]
    },
    {
     "data": {
      "text/plain": [
       " * Status: success\n",
       "\n",
       " * Candidate solution\n",
       "    Final objective value:     1.341428e+00\n",
       "\n",
       " * Found with\n",
       "    Algorithm:     Newton's Method (Trust Region)\n",
       "\n",
       " * Convergence measures\n",
       "    |x - x'|               = 1.16e-05 ≰ 0.0e+00\n",
       "    |x - x'|/|x'|          = 1.01e-06 ≰ 0.0e+00\n",
       "    |f(x) - f(x')|         = 1.38e-13 ≰ 0.0e+00\n",
       "    |f(x) - f(x')|/|f(x')| = 1.03e-13 ≰ 0.0e+00\n",
       "    |g(x)|                 = 2.62e-09 ≤ 1.0e-08\n",
       "\n",
       " * Work counters\n",
       "    Seconds run:   0  (vs limit Inf)\n",
       "    Iterations:    28\n",
       "    f(x) calls:    29\n",
       "    ∇f(x) calls:   29\n",
       "    ∇²f(x) calls:  23\n"
      ]
     },
     "execution_count": 31,
     "metadata": {},
     "output_type": "execute_result"
    }
   ],
   "source": [
    "@btime res = Optim.optimize(Optim.only_fgh!(hess_negative_log_likelihood!($S, $H, $X)), $coeff, Optim.NewtonTrustRegion())\n",
    "# coeffopt = Optim.minimizer(res)"
   ]
  },
  {
   "cell_type": "code",
   "execution_count": 40,
   "metadata": {},
   "outputs": [
    {
     "name": "stdout",
     "output_type": "stream",
     "text": [
      "  0.025023 seconds (17.23 k allocations: 44.434 MiB, 25.59% gc time)\n"
     ]
    },
    {
     "data": {
      "text/plain": [
       " * Status: success\n",
       "\n",
       " * Candidate solution\n",
       "    Final objective value:     1.450904e+00\n",
       "\n",
       " * Found with\n",
       "    Algorithm:     Newton's Method (Trust Region)\n",
       "\n",
       " * Convergence measures\n",
       "    |x - x'|               = 3.17e-04 ≰ 0.0e+00\n",
       "    |x - x'|/|x'|          = 2.29e-04 ≰ 0.0e+00\n",
       "    |f(x) - f(x')|         = 1.02e-11 ≰ 0.0e+00\n",
       "    |f(x) - f(x')|/|f(x')| = 7.03e-12 ≰ 0.0e+00\n",
       "    |g(x)|                 = 1.89e-13 ≤ 1.0e-08\n",
       "\n",
       " * Work counters\n",
       "    Seconds run:   0  (vs limit Inf)\n",
       "    Iterations:    4\n",
       "    f(x) calls:    5\n",
       "    ∇f(x) calls:   5\n",
       "    ∇²f(x) calls:  4\n"
      ]
     },
     "execution_count": 40,
     "metadata": {},
     "output_type": "execute_result"
    }
   ],
   "source": [
    "@time res = Optim.optimize(Optim.only_fgh!(hess_negative_log_likelihood!(S, H, X)), coeff, Optim.NewtonTrustRegion())"
   ]
  },
  {
   "cell_type": "code",
   "execution_count": 121,
   "metadata": {},
   "outputs": [
    {
     "data": {
      "text/plain": [
       " * Status: success\n",
       "\n",
       " * Candidate solution\n",
       "    Final objective value:     1.298813e+00\n",
       "\n",
       " * Found with\n",
       "    Algorithm:     L-BFGS\n",
       "\n",
       " * Convergence measures\n",
       "    |x - x'|               = 4.47e-06 ≰ 0.0e+00\n",
       "    |x - x'|/|x'|          = 4.06e-07 ≰ 0.0e+00\n",
       "    |f(x) - f(x')|         = 5.15e-14 ≰ 0.0e+00\n",
       "    |f(x) - f(x')|/|f(x')| = 3.97e-14 ≰ 0.0e+00\n",
       "    |g(x)|                 = 6.45e-10 ≤ 1.0e-08\n",
       "\n",
       " * Work counters\n",
       "    Seconds run:   0  (vs limit Inf)\n",
       "    Iterations:    19\n",
       "    f(x) calls:    58\n",
       "    ∇f(x) calls:   58\n"
      ]
     },
     "execution_count": 121,
     "metadata": {},
     "output_type": "execute_result"
    }
   ],
   "source": [
    "res = Optim.optimize(Optim.only_fg!(negative_log_likelihood!(S, H, X)), coeff, Optim.LBFGS())\n",
    "# coeffopt = Optim.minimizer(res)"
   ]
  },
  {
   "cell_type": "code",
   "execution_count": 68,
   "metadata": {},
   "outputs": [
    {
     "name": "stdout",
     "output_type": "stream",
     "text": [
      "  0.000169 seconds (793 allocations: 47.328 KiB)\n"
     ]
    },
    {
     "data": {
      "text/plain": [
       "2.137129544913297"
      ]
     },
     "execution_count": 68,
     "metadata": {},
     "output_type": "execute_result"
    }
   ],
   "source": [
    "@time negative_log_likelihood!(J, dJ, coeff, S, H, X)"
   ]
  }
 ],
 "metadata": {
  "kernelspec": {
   "display_name": "Julia 1.4.0",
   "language": "julia",
   "name": "julia-1.4"
  },
  "language_info": {
   "file_extension": ".jl",
   "mimetype": "application/julia",
   "name": "julia",
   "version": "1.4.0"
  }
 },
 "nbformat": 4,
 "nbformat_minor": 2
}
