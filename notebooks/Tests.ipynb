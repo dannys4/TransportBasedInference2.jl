{
 "cells": [
  {
   "cell_type": "code",
   "execution_count": 1,
   "metadata": {},
   "outputs": [
    {
     "name": "stderr",
     "output_type": "stream",
     "text": [
      "\u001b[32m\u001b[1m Activating\u001b[22m\u001b[39m environment at `/media/mat/HDD/AdaptiveTransportMap/Project.toml`\n"
     ]
    }
   ],
   "source": [
    "using Pkg\n",
    "Pkg.activate(\"/media/mat/HDD/AdaptiveTransportMap/\")"
   ]
  },
  {
   "cell_type": "code",
   "execution_count": 2,
   "metadata": {},
   "outputs": [
    {
     "name": "stderr",
     "output_type": "stream",
     "text": [
      "┌ Info: Precompiling AdaptiveTransportMap [bdf749b0-1400-4207-80d3-e689c0e3f03d]\n",
      "└ @ Base loading.jl:1260\n",
      "WARNING: using Distributions.scale! in module Main conflicts with an existing identifier.\n"
     ]
    }
   ],
   "source": [
    "using Revise\n",
    "using AdaptiveTransportMap\n",
    "using LinearAlgebra\n",
    "using Test\n",
    "using ForwardDiff\n",
    "using SpecialFunctions\n",
    "using Polynomials\n",
    "using BenchmarkTools\n",
    "using TransportMap\n",
    "using QuadGK\n",
    "using FastGaussQuadrature\n",
    "using AdaptiveTransportMap: derivative, vander, scale!, evaluate\n",
    "using DiffResults\n",
    "using Distributions\n",
    "using Random\n",
    "using LoopVectorization\n",
    "using Optim"
   ]
  },
  {
   "cell_type": "markdown",
   "metadata": {},
   "source": [
    "### Greedy fit"
   ]
  },
  {
   "cell_type": "code",
   "execution_count": 160,
   "metadata": {},
   "outputs": [
    {
     "name": "stdout",
     "output_type": "stream",
     "text": [
      "reduced_margin = [0 3; 1 1; 3 0]\n",
      "  0.000235 seconds (1.53 k allocations: 90.188 KiB)\n",
      "idx_new = [0 0; 0 1; 0 2; 1 0; 2 0; 0 3]\n",
      "reduced_margin = [1 1; 3 0; 0 4]\n"
     ]
    }
   ],
   "source": [
    "Nx = 2\n",
    "Ne = 8\n",
    "m = 5\n",
    "ens = EnsembleState(Nx, Ne)\n",
    "\n",
    "ens.S .=  [0.267333   1.43021;\n",
    "          0.364979   0.607224;\n",
    "         -1.23693    0.249277;\n",
    "         -2.0526     0.915629;\n",
    "         -0.182465   0.415874;\n",
    "          0.412907   1.01672;\n",
    "          1.41332   -0.918205;\n",
    "          0.766647  -1.00445]';\n",
    "X = ens.S\n",
    "\n",
    "coeff = [0.6285037650645056;\n",
    "          -0.4744029092496623;\n",
    "           1.1405280011620331;\n",
    "          -0.7217760771894809;\n",
    "           0.11855056306742319];\n",
    "# Initialize map with zero coefficients\n",
    "Hk_old = HermiteMapk(m, Nx, [0 0; 0 1; 0 2; 1 0; 2 0], coeff; α = 1e-6);\n",
    "\n",
    "S = Storage(Hk_old.I.f, X)\n",
    "\n",
    "reduced_margin = getreducedmargin(getidx(Hk_old))\n",
    "@show reduced_margin\n",
    "@time idx_new, reduced_margin = update_component(Hk_old, X, reduced_margin, S)\n",
    "\n",
    "@show idx_new\n",
    "@show reduced_margin\n",
    "\n",
    "# idx_new = vcat(getidx(Hk_old), reduced_margin)\n",
    "# Hk_new = HermiteMapk(m, Nx, idx_new, vcat(getcoeff(Hk_old), zeros(size(reduced_margin,1))); α = 1.0);\n",
    "# # coeff_new, coeff_idx_added, idx_added = update_coeffs(Hk_old, Hk_new)"
   ]
  },
  {
   "cell_type": "code",
   "execution_count": 171,
   "metadata": {},
   "outputs": [
    {
     "name": "stdout",
     "output_type": "stream",
     "text": [
      "reduced_margin0 = [0 1; 1 0]\n"
     ]
    },
    {
     "data": {
      "text/plain": [
       "([0 0; 0 1], [1 0; 0 2])"
      ]
     },
     "execution_count": 171,
     "metadata": {},
     "output_type": "execute_result"
    }
   ],
   "source": [
    "Nx = 2\n",
    "Ne = 8\n",
    "m = 5\n",
    "ens = EnsembleState(Nx, Ne)\n",
    "\n",
    "ens.S .=  [0.267333   1.43021;\n",
    "          0.364979   0.607224;\n",
    "         -1.23693    0.249277;\n",
    "         -2.0526     0.915629;\n",
    "         -0.182465   0.415874;\n",
    "          0.412907   1.01672;\n",
    "          1.41332   -0.918205;\n",
    "          0.766647  -1.00445]';\n",
    "X = ens.S\n",
    "# Initialize map with zero coefficients\n",
    "Hk_old = HermiteMapk(m, Nx; α = 1e-6);\n",
    "\n",
    "S = Storage(Hk_old.I.f, X)\n",
    "\n",
    "# setcoeff!(Hk_old, [1.5])\n",
    "reduced_margin0 = getreducedmargin(getidx(Hk_old))\n",
    "@show reduced_margin0\n",
    "\n",
    "idx_new, reduced_margin = update_component(Hk_old, X, reduced_margin0, S)"
   ]
  },
  {
   "cell_type": "code",
   "execution_count": 235,
   "metadata": {},
   "outputs": [
    {
     "data": {
      "text/plain": [
       "10×2 Array{Int64,2}:\n",
       " 0  0\n",
       " 0  1\n",
       " 1  0\n",
       " 0  2\n",
       " 2  0\n",
       " 1  1\n",
       " 0  3\n",
       " 1  2\n",
       " 2  1\n",
       " 3  0"
      ]
     },
     "execution_count": 235,
     "metadata": {},
     "output_type": "execute_result"
    }
   ],
   "source": [
    "# @testset \"Test update_component I\" begin\n",
    "    Nx = 2\n",
    "    Ne = 8\n",
    "    m = 5\n",
    "    ens = EnsembleState(Nx, Ne)\n",
    "\n",
    "    ens.S .=  [0.267333   1.43021;\n",
    "              0.364979   0.607224;\n",
    "             -1.23693    0.249277;\n",
    "             -2.0526     0.915629;\n",
    "             -0.182465   0.415874;\n",
    "              0.412907   1.01672;\n",
    "              1.41332   -0.918205;\n",
    "              0.766647  -1.00445]';\n",
    "    X = ens.S\n",
    "\n",
    "    idx = [0 0; 0 1; 1 0; 0 2; 2 0; 1 1]\n",
    "\n",
    "    coeff = [ -0.9905841755746164;\n",
    "              0.6771992097558741;\n",
    "             -2.243695806805015;\n",
    "             -0.34591297359447354;\n",
    "             -1.420159186008486;\n",
    "             -0.5361337327704369]\n",
    "    # Initialize map with zero coefficients\n",
    "    Hk_old = HermiteMapk(m, Nx, idx, coeff; α = 1e-6);\n",
    "\n",
    "    S = Storage(Hk_old.I.f, X)\n",
    "\n",
    "    reduced_margin0 = getreducedmargin(getidx(Hk_old))\n",
    "    idx_old0 = getidx(Hk_old)\n",
    "    idx_new0 = vcat(idx_old0, reduced_margin0)"
   ]
  },
  {
   "cell_type": "code",
   "execution_count": 236,
   "metadata": {},
   "outputs": [
    {
     "data": {
      "text/plain": [
       "HermiteMapk{5,10,2}(IntegratedFunction{5,10,2}(Rectifier(\"softplus\"), ParametricFunction{5,10,2}(ExpandedFunction{5,10,2}(MultiBasis{5,2}(Basis of 5 functions:\n",
       "ProPolyHermite{0}(ImmutablePolynomial(1.0), false)\n",
       "ProHermite{0}(ProPolyHermite{0}(ImmutablePolynomial(0.6316187777460647), true), true)\n",
       "ProHermite{1}(ProPolyHermite{1}(ImmutablePolynomial(0.6316187777460647*x), true), true)\n",
       "ProHermite{2}(ProPolyHermite{2}(ImmutablePolynomial(-0.44662192086900115 + 0.44662192086900115*x^2), true), true)\n",
       "ProHermite{3}(ProPolyHermite{3}(ImmutablePolynomial(-0.7735718587191167*x + 0.25785728623970555*x^3), true), true)\n",
       "), [0 0; 0 1; … ; 2 1; 3 0], [-0.9905841755746164, 0.6771992097558741, -2.243695806805015, -0.34591297359447354, -1.420159186008486, -0.5361337327704369, 0.0, 0.0, 0.0, 0.0]))), 1.0e-6)"
      ]
     },
     "execution_count": 236,
     "metadata": {},
     "output_type": "execute_result"
    }
   ],
   "source": [
    "f_new = ExpandedFunction(Hk_old.I.f.f.B, idx_new0, vcat(getcoeff(Hk_old), zeros(size(reduced_margin0,1))))\n",
    "Hk_new = HermiteMapk(f_new; α = 1e-6)"
   ]
  },
  {
   "cell_type": "code",
   "execution_count": 237,
   "metadata": {},
   "outputs": [
    {
     "data": {
      "text/plain": [
       "([0 0; 0 1; … ; 1 1; 0 3], [1 2; 2 1; 3 0; 0 4])"
      ]
     },
     "execution_count": 237,
     "metadata": {},
     "output_type": "execute_result"
    }
   ],
   "source": [
    "idx_new, reduced_margin = update_component(Hk_old, X, reduced_margin0, S)\n"
   ]
  },
  {
   "cell_type": "code",
   "execution_count": 238,
   "metadata": {},
   "outputs": [
    {
     "data": {
      "text/plain": [
       "4×2 Array{Int64,2}:\n",
       " 0  3\n",
       " 1  2\n",
       " 2  1\n",
       " 3  0"
      ]
     },
     "execution_count": 238,
     "metadata": {},
     "output_type": "execute_result"
    }
   ],
   "source": [
    "reduced_margin0"
   ]
  },
  {
   "cell_type": "code",
   "execution_count": 239,
   "metadata": {},
   "outputs": [
    {
     "data": {
      "text/plain": [
       "10×2 Array{Int64,2}:\n",
       " 0  0\n",
       " 0  1\n",
       " 1  0\n",
       " 0  2\n",
       " 2  0\n",
       " 1  1\n",
       " 0  3\n",
       " 1  2\n",
       " 2  1\n",
       " 3  0"
      ]
     },
     "execution_count": 239,
     "metadata": {},
     "output_type": "execute_result"
    }
   ],
   "source": [
    "idx_new0"
   ]
  },
  {
   "cell_type": "code",
   "execution_count": 240,
   "metadata": {},
   "outputs": [
    {
     "data": {
      "text/plain": [
       "7×2 Array{Int64,2}:\n",
       " 0  0\n",
       " 0  1\n",
       " 1  0\n",
       " 0  2\n",
       " 2  0\n",
       " 1  1\n",
       " 0  3"
      ]
     },
     "execution_count": 240,
     "metadata": {},
     "output_type": "execute_result"
    }
   ],
   "source": [
    "idx_new"
   ]
  },
  {
   "cell_type": "code",
   "execution_count": 241,
   "metadata": {},
   "outputs": [],
   "source": [
    "    # Define updated map\n",
    "\n",
    "    \n",
    "    dJ = zeros(10)\n",
    "    S = update_storage(S, X, reduced_margin0)\n",
    "\n",
    "    negative_log_likelihood!(nothing, dJ, getcoeff(Hk_new), S, Hk_new, X)\n",
    "# # # # end"
   ]
  },
  {
   "cell_type": "code",
   "execution_count": 247,
   "metadata": {},
   "outputs": [
    {
     "data": {
      "text/plain": [
       "10-element Array{Float64,1}:\n",
       " -1.6651836742291564\n",
       " -0.9194410618771688\n",
       " -0.9009267357141437\n",
       " -0.11952335389279932\n",
       " -0.4727973085063471\n",
       " -0.49686342659213534\n",
       "  0.3388316230967308\n",
       " -0.0835027246673459\n",
       " -0.2811305337405587\n",
       "  0.27158719056266994"
      ]
     },
     "execution_count": 247,
     "metadata": {},
     "output_type": "execute_result"
    }
   ],
   "source": [
    "dJ"
   ]
  },
  {
   "cell_type": "code",
   "execution_count": 244,
   "metadata": {},
   "outputs": [
    {
     "data": {
      "text/plain": [
       "(0.3388316230967308, 1)"
      ]
     },
     "execution_count": 244,
     "metadata": {},
     "output_type": "execute_result"
    }
   ],
   "source": [
    "findmax(abs.(dJ[7:10]))"
   ]
  },
  {
   "cell_type": "code",
   "execution_count": 245,
   "metadata": {},
   "outputs": [
    {
     "data": {
      "text/plain": [
       "7×2 Array{Int64,2}:\n",
       " 0  0\n",
       " 0  1\n",
       " 1  0\n",
       " 0  2\n",
       " 2  0\n",
       " 1  1\n",
       " 0  3"
      ]
     },
     "execution_count": 245,
     "metadata": {},
     "output_type": "execute_result"
    }
   ],
   "source": [
    "idx_new"
   ]
  },
  {
   "cell_type": "code",
   "execution_count": 246,
   "metadata": {},
   "outputs": [
    {
     "data": {
      "text/plain": [
       "2-element Array{Int64,1}:\n",
       " 0\n",
       " 3"
      ]
     },
     "execution_count": 246,
     "metadata": {},
     "output_type": "execute_result"
    }
   ],
   "source": [
    "reduced_margin0[1,:]"
   ]
  },
  {
   "cell_type": "code",
   "execution_count": 187,
   "metadata": {},
   "outputs": [
    {
     "data": {
      "text/plain": [
       "\u001b[32m\u001b[1mTest Passed\u001b[22m\u001b[39m"
      ]
     },
     "execution_count": 187,
     "metadata": {},
     "output_type": "execute_result"
    }
   ],
   "source": [
    "    @test idx_new[2,:] == reduced_margin0[1,:]\n"
   ]
  },
  {
   "cell_type": "code",
   "execution_count": 243,
   "metadata": {},
   "outputs": [
    {
     "data": {
      "text/plain": [
       "4×2 Array{Int64,2}:\n",
       " 0  3\n",
       " 1  2\n",
       " 2  1\n",
       " 3  0"
      ]
     },
     "execution_count": 243,
     "metadata": {},
     "output_type": "execute_result"
    }
   ],
   "source": [
    "reduced_margin0 "
   ]
  },
  {
   "cell_type": "code",
   "execution_count": 189,
   "metadata": {},
   "outputs": [
    {
     "name": "stdout",
     "output_type": "stream",
     "text": [
      "\u001b[91m\u001b[1mTest Failed\u001b[22m\u001b[39m at \u001b[39m\u001b[1mIn[189]:1\u001b[22m\n",
      "  Expression: reduced_margin == updatereducedmargin(getidx(Hk_old), reduced_margin0, 1)\n",
      "   Evaluated: [1 0; 0 2] == ([0 0; 0 1], [1 0; 0 2])\n"
     ]
    },
    {
     "ename": "Test.FallbackTestSetException",
     "evalue": "There was an error during testing",
     "output_type": "error",
     "traceback": [
      "There was an error during testing",
      "",
      "Stacktrace:",
      " [1] record(::Test.FallbackTestSet, ::Union{Test.Error, Test.Fail}) at /buildworker/worker/package_linux64/build/usr/share/julia/stdlib/v1.4/Test/src/Test.jl:737",
      " [2] do_test(::Test.ExecutionResult, ::Any) at /buildworker/worker/package_linux64/build/usr/share/julia/stdlib/v1.4/Test/src/Test.jl:520",
      " [3] top-level scope at In[189]:1"
     ]
    }
   ],
   "source": [
    "    @test reduced_margin == updatereducedmargin(getidx(Hk_old), reduced_margin0, 1)\n"
   ]
  },
  {
   "cell_type": "code",
   "execution_count": 191,
   "metadata": {},
   "outputs": [
    {
     "data": {
      "text/plain": [
       "\u001b[32m\u001b[1mTest Passed\u001b[22m\u001b[39m"
      ]
     },
     "execution_count": 191,
     "metadata": {},
     "output_type": "execute_result"
    }
   ],
   "source": [
    "    Nx = 2\n",
    "    Ne = 8\n",
    "    m = 5\n",
    "    ens = EnsembleState(Nx, Ne)\n",
    "\n",
    "    ens.S .=  [0.267333   1.43021;\n",
    "              0.364979   0.607224;\n",
    "             -1.23693    0.249277;\n",
    "             -2.0526     0.915629;\n",
    "             -0.182465   0.415874;\n",
    "              0.412907   1.01672;\n",
    "              1.41332   -0.918205;\n",
    "              0.766647  -1.00445]';\n",
    "    X = ens.S\n",
    "    # Initialize map with zero coefficients\n",
    "    Hk_old = HermiteMapk(m, Nx; α = 1e-6);\n",
    "\n",
    "    S = Storage(Hk_old.I.f, X)\n",
    "\n",
    "    # setcoeff!(Hk_old, [1.5])\n",
    "    reduced_margin0 = getreducedmargin(getidx(Hk_old))\n",
    "    idx_old0 = getidx(Hk)\n",
    "    idx_new0 = vcat(idx_old, reduced_margin0)\n",
    "\n",
    "    # Define updated map\n",
    "    f_new = ExpandedFunction(Hk_old.I.f.f.B, idx_new0, vcat(getcoeff(Hk), zeros(size(reduced_margin0,1))))\n",
    "    Hk_new = HermiteMapk(f_new; α = 1e-6)\n",
    "    idx_new, reduced_margin = update_component(Hk_old, X, reduced_margin0, S)\n",
    "\n",
    "    dJ = zeros(3)\n",
    "    S = update_storage(S, X, reduced_margin0)\n",
    "    negative_log_likelihood!(nothing, dJ, getcoeff(Hk_new), S, Hk_new, X)\n",
    "\n",
    "    @test findmax(abs.(dJ[2:3]))[2] == 2-1\n",
    "\n",
    "    @test idx_new[2,:] == reduced_margin0[1,:]\n",
    "\n",
    "    @test reduced_margin == updatereducedmargin(getidx(Hk_old), reduced_margin0, 1)[2]\n",
    "    @test idx_new == updatereducedmargin(getidx(Hk_old), reduced_margin0, 1)[1]"
   ]
  },
  {
   "cell_type": "code",
   "execution_count": null,
   "metadata": {},
   "outputs": [],
   "source": []
  }
 ],
 "metadata": {
  "kernelspec": {
   "display_name": "Julia 1.4.0",
   "language": "julia",
   "name": "julia-1.4"
  },
  "language_info": {
   "file_extension": ".jl",
   "mimetype": "application/julia",
   "name": "julia",
   "version": "1.4.0"
  }
 },
 "nbformat": 4,
 "nbformat_minor": 2
}
