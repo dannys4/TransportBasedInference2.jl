{
 "cells": [
  {
   "cell_type": "code",
   "execution_count": 1,
   "metadata": {},
   "outputs": [
    {
     "name": "stderr",
     "output_type": "stream",
     "text": [
      "\u001b[32m\u001b[1m Activating\u001b[22m\u001b[39m environment at `/media/mat/HDD/AdaptiveTransportMap/Project.toml`\n"
     ]
    }
   ],
   "source": [
    "using Pkg\n",
    "Pkg.activate(\"/media/mat/HDD/AdaptiveTransportMap/\")"
   ]
  },
  {
   "cell_type": "code",
   "execution_count": 2,
   "metadata": {
    "scrolled": false
   },
   "outputs": [
    {
     "name": "stderr",
     "output_type": "stream",
     "text": [
      "┌ Info: Precompiling AdaptiveTransportMap [bdf749b0-1400-4207-80d3-e689c0e3f03d]\n",
      "└ @ Base loading.jl:1278\n",
      "WARNING: Method definition hess_x_basis!(Array{Float64, 4}, AdaptiveTransportMap.ExpandedFunction, Array{Float64, 2}, Array{Int64, 2}) in module AdaptiveTransportMap at /media/mat/HDD/AdaptiveTransportMap/src/mapcomponent/expandedfunction.jl:251 overwritten at /media/mat/HDD/AdaptiveTransportMap/src/mapcomponent/expandedfunction.jl:477.\n",
      "  ** incremental compilation may be fatally broken for this module **\n",
      "\n",
      "┌ Warning: Type annotations on keyword arguments not currently supported in recipes. Type information has been discarded\n",
      "└ @ RecipesBase ~/.julia/packages/RecipesBase/AN696/src/RecipesBase.jl:117\n"
     ]
    }
   ],
   "source": [
    "using Revise\n",
    "using AdaptiveTransportMap\n",
    "using LinearAlgebra\n",
    "import LinearAlgebra: ldiv!, dot\n",
    "using Test\n",
    "using ForwardDiff\n",
    "using SpecialFunctions\n",
    "using BenchmarkTools\n",
    "using TransportMap\n",
    "using QuadGK\n",
    "using Polynomials\n",
    "using Distributions\n",
    "using Random\n",
    "using LoopVectorization\n",
    "using Optim\n",
    "using NLsolve\n",
    "using MLDataUtils\n",
    "using MLDataPattern\n",
    "using Test\n",
    "using SparseArrays\n",
    "using QRupdate\n",
    "using AdaptiveTransportMap: vander, transform!, evaluate, ncoeff, optimize, negative_log_likelihood!, derivative\n",
    "\n",
    "# using Profile\n",
    "# using ProfileView"
   ]
  },
  {
   "cell_type": "markdown",
   "metadata": {},
   "source": [
    "### 1D example"
   ]
  },
  {
   "cell_type": "code",
   "execution_count": 3,
   "metadata": {},
   "outputs": [],
   "source": [
    "Nx = 3\n",
    "Ne = 500\n",
    "X = randn(Nx, Ne)\n",
    "ens = EnsembleState(X)\n",
    "m = 10\n",
    "B = MultiBasis(CstProHermite(3), Nx)\n",
    "\n",
    "idx = [0 0 0; 2 0 1; 0 1 0; 0 2 1; 0 1 2; 1 0 0; 2 2 2]\n",
    "\n",
    "coeff =  randn(size(idx,1))\n",
    "\n",
    "C = MapComponent(m, Nx, idx, coeff)\n",
    "S = Storage(C.I.f, X);"
   ]
  },
  {
   "cell_type": "code",
   "execution_count": 8,
   "metadata": {},
   "outputs": [
    {
     "name": "stdout",
     "output_type": "stream",
     "text": [
      "  0.000624 seconds (281 allocations: 1.725 MiB)\n"
     ]
    }
   ],
   "source": [
    "@time G = grad_x(C.I, X);"
   ]
  },
  {
   "cell_type": "code",
   "execution_count": 9,
   "metadata": {},
   "outputs": [
    {
     "data": {
      "text/plain": [
       "3-element Array{Float64,1}:\n",
       " -0.16541992175819617\n",
       "  0.631479634052268\n",
       "  0.0"
      ]
     },
     "execution_count": 9,
     "metadata": {},
     "output_type": "execute_result"
    }
   ],
   "source": [
    "ForwardDiff.gradient(x->begin\n",
    "                           x[end] = 0.0\n",
    "                           return  C.I.f.f(x)\n",
    "        end, member(ens,1)) "
   ]
  },
  {
   "cell_type": "code",
   "execution_count": 10,
   "metadata": {},
   "outputs": [
    {
     "data": {
      "text/plain": [
       "3-element Array{Float64,1}:\n",
       " -0.1654199217581962\n",
       "  0.6314796340522678\n",
       "  0.0"
      ]
     },
     "execution_count": 10,
     "metadata": {},
     "output_type": "execute_result"
    }
   ],
   "source": [
    "G[1,:]"
   ]
  },
  {
   "cell_type": "code",
   "execution_count": 7,
   "metadata": {},
   "outputs": [
    {
     "ename": "LoadError",
     "evalue": "UndefVarError: x not defined",
     "output_type": "error",
     "traceback": [
      "UndefVarError: x not defined",
      "",
      "Stacktrace:",
      " [1] top-level scope at In[7]:1",
      " [2] include_string(::Function, ::Module, ::String, ::String) at ./loading.jl:1091"
     ]
    }
   ],
   "source": [
    "quadgk(t->ForwardDiff.gradient(x->C.I.g(ForwardDiff.gradient(y->C.I.f.f(y), vcat(x[1:end-1],t))[end]), member(ens,1)), 0, x[end])[1]"
   ]
  },
  {
   "cell_type": "code",
   "execution_count": 502,
   "metadata": {},
   "outputs": [
    {
     "data": {
      "text/plain": [
       "3-element Array{Float64,1}:\n",
       " -0.0031958783853288566\n",
       " -0.019712542299756518\n",
       "  0.07999422617176781"
      ]
     },
     "execution_count": 502,
     "metadata": {},
     "output_type": "execute_result"
    }
   ],
   "source": [
    "ForwardDiff.gradient(x->C.I.g(ForwardDiff.gradient(y->C.I.f.f(y), x)[end]), member(ens,1))"
   ]
  },
  {
   "cell_type": "code",
   "execution_count": null,
   "metadata": {},
   "outputs": [],
   "source": [
    "    ψt[i] = R.f.f(vcat(x[1:end-1], 0.0)) + quadgk(t->R.g(ForwardDiff.gradient(y->R.f.f(y), vcat(x[1:end-1],t))[end]), 0, x[end])[1]\n"
   ]
  },
  {
   "cell_type": "code",
   "execution_count": null,
   "metadata": {},
   "outputs": [],
   "source": []
  },
  {
   "cell_type": "code",
   "execution_count": 476,
   "metadata": {},
   "outputs": [
    {
     "name": "stdout",
     "output_type": "stream",
     "text": [
      "  0.000095 seconds (195 allocations: 21.172 KiB)\n"
     ]
    },
    {
     "data": {
      "text/plain": [
       "-0.8628070969383215"
      ]
     },
     "execution_count": 476,
     "metadata": {},
     "output_type": "execute_result"
    }
   ],
   "source": [
    "@time evaluate(C.I, member(ens,1))"
   ]
  },
  {
   "cell_type": "code",
   "execution_count": 443,
   "metadata": {},
   "outputs": [],
   "source": [
    "ψbasis = zeros(Ne, C.I.Nψ, C.I.Nx-1)\n",
    "for i=1:Nx-1\n",
    "    ψbasis_i = view(ψbasis, :, :, i)    \n",
    "    ψbasis_i .= evaluate_basis(C.I.f.f, X, [i], C.I.f.f.idx)\n",
    "end\n",
    "\n",
    "dxψbasis = zero(ψbasis)\n",
    "fill!(dxψbasis, 1.0)\n",
    "@inbounds for i=1:Nx-1\n",
    "    for j=1:Nx-1\n",
    "        if i==j\n",
    "        dxψbasis[:,:,i] .*= grad_xk_basis(C.I.f.f, X, 1, j, j, C.I.f.f.idx)       \n",
    "        else\n",
    "        dxψbasis[:,:,i] .*= ψbasis[:,:,j]\n",
    "        end\n",
    "    end\n",
    "end"
   ]
  },
  {
   "cell_type": "code",
   "execution_count": 444,
   "metadata": {},
   "outputs": [
    {
     "data": {
      "text/plain": [
       "500×7×2 Array{Float64,3}:\n",
       "[:, :, 1] =\n",
       " 0.0   0.0706838  0.0   0.0  0.0   0.268701     0.031373\n",
       " 0.0   0.619948   0.0  -0.0  0.0  -0.0493918   -0.334673\n",
       " 0.0   0.540452   0.0  -0.0  0.0  -0.134541    -0.0584185\n",
       " 0.0   0.467153   0.0   0.0  0.0   0.176139     0.213213\n",
       " 0.0   0.392058   0.0  -0.0  0.0   0.206614    -0.0499594\n",
       " 0.0   0.399866   0.0   0.0  0.0   0.203846     0.160889\n",
       " 0.0   0.255391   0.0  -0.0  0.0   0.244027    -0.0856339\n",
       " 0.0  -0.113459   0.0  -0.0  0.0  -0.264098     0.0606189\n",
       " 0.0   0.563771   0.0   0.0  0.0  -0.116968     0.176689\n",
       " 0.0   0.589929   0.0  -0.0  0.0  -0.092469    -0.210954\n",
       " 0.0   0.274027   0.0   0.0  0.0  -0.239999     0.147535\n",
       " 0.0   0.284554   0.0  -0.0  0.0   0.237588    -0.0379391\n",
       " 0.0   0.63152    0.0   0.0  0.0   0.00455436   0.128664\n",
       " ⋮                                 ⋮           \n",
       " 0.0   0.54643    0.0  -0.0  0.0   0.130316    -0.00520103\n",
       " 0.0   0.591372   0.0   0.0  0.0   0.0908967    0.300248\n",
       " 0.0   0.619876   0.0   0.0  0.0   0.0495423    0.218437\n",
       " 0.0   0.589028   0.0  -0.0  0.0  -0.0934364   -0.316853\n",
       " 0.0   0.564284   0.0   0.0  0.0   0.116545     0.242279\n",
       " 0.0   0.626821   0.0   0.0  0.0  -0.0317355    0.299815\n",
       " 0.0   0.625517   0.0  -0.0  0.0  -0.0357739   -0.311861\n",
       " 0.0   0.534054   0.0   0.0  0.0   0.138882     0.164751\n",
       " 0.0   0.0263782  0.0  -0.0  0.0   0.270576    -0.0141708\n",
       " 0.0   0.106663   0.0  -0.0  0.0   0.266001    -0.0565464\n",
       " 0.0   0.63024    0.0  -0.0  0.0  -0.0170297   -0.336936\n",
       " 0.0   0.609175   0.0   0.0  0.0  -0.0682629    0.11435\n",
       "\n",
       "[:, :, 2] =\n",
       " 0.0  -0.0  -0.221925    0.344234   -0.221925   0.0  -0.184992\n",
       " 0.0   0.0   0.26992    -0.0448444   0.26992    0.0  -0.00442989\n",
       " 0.0   0.0   0.054046    0.617624    0.054046   0.0   0.166192\n",
       " 0.0  -0.0  -0.228205    0.321882   -0.228205   0.0  -0.113392\n",
       " 0.0  -0.0   0.0637142   0.612102    0.0637142  0.0  -0.252938\n",
       " 0.0  -0.0  -0.201179    0.407176   -0.201179   0.0  -0.166002\n",
       " 0.0  -0.0   0.167653    0.484463    0.167653   0.0  -0.236444\n",
       " 0.0   0.0   0.26714     0.0930904   0.26714    0.0   0.0491701\n",
       " 0.0   0.0  -0.156703    0.504896   -0.156703   0.0   0.118114\n",
       " 0.0   0.0   0.178796    0.461448    0.178796   0.0   0.0853392\n",
       " 0.0   0.0  -0.269197    0.0619787  -0.269197   0.0   0.0297497\n",
       " 0.0  -0.0   0.0666641   0.610228    0.0666641  0.0  -0.289965\n",
       " 0.0  -0.0  -0.101869    0.580722   -0.101869   0.0  -0.00528964\n",
       " ⋮                                              ⋮    \n",
       " 0.0  -0.0   0.0047591   0.631511    0.0047591  0.0  -0.164592\n",
       " 0.0  -0.0  -0.253857    0.202527   -0.253857   0.0  -0.0368182\n",
       " 0.0  -0.0  -0.176194    0.467037   -0.176194   0.0  -0.0462762\n",
       " 0.0   0.0   0.268962    0.0662321   0.268962   0.0   0.012377\n",
       " 0.0  -0.0  -0.214678    0.367925   -0.214678   0.0  -0.0857595\n",
       " 0.0   0.0  -0.239155    0.27776    -0.239155   0.0   0.0176297\n",
       " 0.0   0.0   0.249282    0.228679    0.249282   0.0   0.0163615\n",
       " 0.0  -0.0  -0.154245    0.509208   -0.154245   0.0  -0.141439\n",
       " 0.0  -0.0   0.268608    0.0721877   0.268608   0.0  -0.0390645\n",
       " 0.0  -0.0   0.265069   -0.105672    0.265069   0.0   0.056218\n",
       " 0.0   0.0   0.267307    0.090944    0.267307   0.0   0.0030975\n",
       " 0.0   0.0  -0.0938563   0.588633   -0.0938563  0.0   0.0803637"
      ]
     },
     "execution_count": 444,
     "metadata": {},
     "output_type": "execute_result"
    }
   ],
   "source": [
    "dxψbasis"
   ]
  },
  {
   "cell_type": "code",
   "execution_count": 451,
   "metadata": {},
   "outputs": [
    {
     "name": "stdout",
     "output_type": "stream",
     "text": [
      "  0.315810 seconds (477.77 k allocations: 22.649 MiB)\n",
      "  0.000045 seconds (26 allocations: 84.375 KiB)\n"
     ]
    },
    {
     "data": {
      "text/plain": [
       "500-element view(::Array{Float64,2}, :, 3) with eltype Float64:\n",
       " 0.7751924865968259\n",
       " 0.9800160866751729\n",
       " 1.1553360465789302\n",
       " 0.9090923564324922\n",
       " 1.3548474979561214\n",
       " 0.9407246101979496\n",
       " 1.5309473684190684\n",
       " 0.6616688870629657\n",
       " 1.2365400443315697\n",
       " 1.1299514583577188\n",
       " 1.6281852662633376\n",
       " 1.372743025798409\n",
       " 1.2452628381533983\n",
       " ⋮\n",
       " 1.1760017733047508\n",
       " 0.9851005143125123\n",
       " 1.187098789668456\n",
       " 1.0427627739806737\n",
       " 1.0146358695255762\n",
       " 1.1107423708442055\n",
       " 1.142885219013601\n",
       " 1.0132047900994348\n",
       " 1.412455498465029\n",
       " 1.6464952204574939\n",
       " 1.1542217823383096\n",
       " 1.3044711279180727"
      ]
     },
     "execution_count": 451,
     "metadata": {},
     "output_type": "execute_result"
    }
   ],
   "source": [
    "NxX, Ne = size(X)\n",
    "\n",
    "out = zero(X')\n",
    "Nx = C.I.Nx\n",
    "x0 = zeros(Ne)\n",
    "xlast = view(X,Nx,:)\n",
    "ψk0  = repeated_evaluate_basis(C.I.f.f, x0)\n",
    "dxkψk0 = repeated_grad_xk_basis(C.I.f.f, x0)\n",
    "ψoff = evaluate_offdiagbasis(C.I.f, X)\n",
    "dxkψ = zero(ψoff)\n",
    "\n",
    "coeff = C.I.f.f.coeff\n",
    "cache = zeros((Nx-1)*Ne)\n",
    "cacheg = zeros(Ne)\n",
    "\n",
    "ψbasis = evaluate_basis(C.I.f.f, X)\n",
    "\n",
    "function integrand!(v::Vector{Float64}, t::Float64)\n",
    "    dxkψ .= repeated_grad_xk_basis(C.I.f.f,  t*xk)\n",
    "    @avx @. cacheg = (dxkψ * ψoff) *ˡ coeff\n",
    "    evaluate!(cacheg, C.I.g, cacheg)\n",
    "    \n",
    "    @inbounds for i=1:Nx-1\n",
    "        vi = view(v, (i-1)*Ne+1:i*Ne)\n",
    "        dxψbasisi = view(dxψbasis,:,:,i)\n",
    "        @avx @. vi = ((dxψbasisi * dxkψ) *ˡ coeff) * cacheg\n",
    "    end\n",
    "end\n",
    "\n",
    "@time quadgk!(integrand!, cache, 0.0, 1.0; rtol = 1e-3)\n",
    "# Compute\n",
    "\n",
    "lastcol = view(out, :, Nx)\n",
    "@time evaluate!(lastcol, C.I.g, (repeated_grad_xk_basis(C.I.f.f,  xlast) .* ψoff)*coeff)\n",
    "\n",
    "@avx @. lastcol += (ψoff * dxkψk0) *ˡ coeff"
   ]
  },
  {
   "cell_type": "code",
   "execution_count": 407,
   "metadata": {},
   "outputs": [
    {
     "data": {
      "text/plain": [
       "500×7 Array{Float64,2}:\n",
       " 1.0   0.479024    0.631123  -0.0353804  0.631123  0.503884  -0.016948\n",
       " 1.0   0.516113    0.374151  -0.541487   0.374151  0.462891  -0.279468\n",
       " 1.0   0.541685    0.426964  -0.534361   0.426964  0.378012  -0.289455\n",
       " 1.0   0.489067    0.473316   0.508477   0.473316  0.494696   0.248679\n",
       " 1.0   0.481665    0.404763   0.540012   0.404763  0.501563   0.260105\n",
       " 1.0   0.0505771   0.565151  -0.376906   0.565151  0.630604  -0.0190628\n",
       " 1.0   0.00692681  0.291534   0.512679   0.291534  0.6316     0.00355123\n",
       " 1.0  -0.197895    0.626753  -0.110237   0.626753  0.615505   0.0218155\n",
       " 1.0  -0.209152    0.621276  -0.159663   0.621276  0.613532   0.033394\n",
       " 1.0   0.014198    0.243043  -0.475035   0.243043  0.631539  -0.00674453\n",
       " 1.0   0.227063    0.495265  -0.488476   0.495265  0.610123  -0.110915\n",
       " 1.0  -0.54158     0.630418   0.0549984  0.630418  0.37571   -0.029786\n",
       " 1.0   0.537241    0.55703    0.394929   0.55703   0.417586   0.212172\n",
       " ⋮                                                 ⋮         \n",
       " 1.0   0.463858    0.616084  -0.194446   0.616084  0.231501  -0.0901954\n",
       " 1.0  -0.0478969   0.604612   0.252781   0.604612  0.630709  -0.0121074\n",
       " 1.0  -0.0989853   0.54778    0.413438   0.54778   0.627704  -0.0409243\n",
       " 1.0  -0.231724    0.500046   0.483352   0.500046  0.609179  -0.112004\n",
       " 1.0  -0.285609    0.599552  -0.273707   0.599552  0.596428   0.0781733\n",
       " 1.0   0.427168    0.331257  -0.532239   0.331257  0.540217  -0.227355\n",
       " 1.0  -0.243521    0.390576  -0.541572   0.390576  0.606683   0.131884\n",
       " 1.0  -0.485098    0.606996   0.242079   0.606996  0.498447  -0.117432\n",
       " 1.0  -0.132077    0.586195   0.320288   0.586195  0.624597  -0.0423026\n",
       " 1.0  -0.0351736   0.61718   -0.187712   0.61718   0.631129   0.0066025\n",
       " 1.0   0.105104    0.525464  -0.450804   0.525464  0.6272    -0.0473813\n",
       " 1.0   0.226863    0.625695  -0.121472   0.625695  0.610163  -0.0275576"
      ]
     },
     "execution_count": 407,
     "metadata": {},
     "output_type": "execute_result"
    }
   ],
   "source": [
    "ψoff = evaluate_offdiagbasis(C.I.f, X)"
   ]
  },
  {
   "cell_type": "code",
   "execution_count": 400,
   "metadata": {},
   "outputs": [
    {
     "data": {
      "text/plain": [
       "500×7 Array{Float64,2}:\n",
       " 0.0   0.127516    0.0  -0.00941824  -0.0603125  0.0   0.00161962\n",
       " 0.0   0.0435432   0.0  -0.0456839    0.223395   0.0  -0.166863\n",
       " 0.0   0.0201696   0.0  -0.0198969    0.266855   0.0  -0.180912\n",
       " 0.0  -0.123671    0.0  -0.128579     0.0986575  0.0   0.0518345\n",
       " 0.0   0.022335    0.0   0.0250406    0.251496   0.0   0.161614\n",
       " 0.0  -0.0125383   0.0   0.0934366    0.133367   0.0  -0.00449851\n",
       " 0.0  -0.00182364  0.0  -0.134975     0.039055   0.0   0.000475736\n",
       " 0.0   0.0506894   0.0   0.0282365    0.117903   0.0   0.00410388\n",
       " 0.0  -0.056042    0.0  -0.0427815    0.0510777  0.0   0.00274546\n",
       " 0.0   0.00371959  0.0  -0.12445      0.035293   0.0  -0.000979394\n",
       " 0.0   0.0494312   0.0  -0.10634      0.177455   0.0  -0.0397412\n",
       " 0.0   0.103301    0.0  -0.0104904    0.273578   0.0  -0.012926\n",
       " 0.0   0.135817    0.0   0.09984      0.116324   0.0   0.0443079\n",
       " ⋮                                               ⋮    \n",
       " 0.0   0.101323    0.0  -0.042474    -0.157166   0.0   0.0230094\n",
       " 0.0  -0.00610743  0.0   0.0322326    0.332697   0.0  -0.00666227\n",
       " 0.0   0.0260109   0.0  -0.108641     0.0758128  0.0  -0.00566393\n",
       " 0.0  -0.0620956   0.0   0.129525     0.0409358  0.0  -0.00916911\n",
       " 0.0  -0.0354681   0.0  -0.0339901    0.332561   0.0   0.0433613\n",
       " 0.0   0.0114607   0.0  -0.0142797    0.208093   0.0  -0.142823\n",
       " 0.0  -0.0516218   0.0  -0.114803    -0.102624   0.0  -0.0346526\n",
       " 0.0  -0.128751    0.0   0.064251    -0.0623546  0.0   0.0120634\n",
       " 0.0  -0.0320896   0.0   0.0778177    0.152679   0.0  -0.0110181\n",
       " 0.0  -0.00565199  0.0  -0.0301631    0.307167   0.0   0.00328603\n",
       " 0.0  -0.00451295  0.0   0.0193566    0.327266   0.0  -0.0295098\n",
       " 0.0   0.0152067   0.0  -0.00814234   0.381667   0.0  -0.0168098"
      ]
     },
     "execution_count": 400,
     "metadata": {},
     "output_type": "execute_result"
    }
   ],
   "source": []
  },
  {
   "cell_type": "code",
   "execution_count": 383,
   "metadata": {},
   "outputs": [
    {
     "ename": "LoadError",
     "evalue": "MethodError: no method matching grad_xk_basis(::ExpandedFunction, ::Array{Float64,2})\nClosest candidates are:\n  grad_xk_basis(::ExpandedFunction, ::Array{Float64,2}, !Matched::Int64, !Matched::Union{Int64, Array{Int64,1}}) at /media/mat/HDD/AdaptiveTransportMap/src/mapcomponent/expandedfunction.jl:212\n  grad_xk_basis(::ExpandedFunction, ::Array{Float64,2}, !Matched::Int64, !Matched::Union{Int64, Array{Int64,1}}, !Matched::Union{UnitRange{Int64}, Int64, Array{Int64,1}}) at /media/mat/HDD/AdaptiveTransportMap/src/mapcomponent/expandedfunction.jl:206\n  grad_xk_basis(::ExpandedFunction, ::Array{Float64,2}, !Matched::Int64, !Matched::Union{Int64, Array{Int64,1}}, !Matched::Union{UnitRange{Int64}, Int64, Array{Int64,1}}, !Matched::Array{Int64,2}) at /media/mat/HDD/AdaptiveTransportMap/src/mapcomponent/expandedfunction.jl:203\n  ...",
     "output_type": "error",
     "traceback": [
      "MethodError: no method matching grad_xk_basis(::ExpandedFunction, ::Array{Float64,2})\nClosest candidates are:\n  grad_xk_basis(::ExpandedFunction, ::Array{Float64,2}, !Matched::Int64, !Matched::Union{Int64, Array{Int64,1}}) at /media/mat/HDD/AdaptiveTransportMap/src/mapcomponent/expandedfunction.jl:212\n  grad_xk_basis(::ExpandedFunction, ::Array{Float64,2}, !Matched::Int64, !Matched::Union{Int64, Array{Int64,1}}, !Matched::Union{UnitRange{Int64}, Int64, Array{Int64,1}}) at /media/mat/HDD/AdaptiveTransportMap/src/mapcomponent/expandedfunction.jl:206\n  grad_xk_basis(::ExpandedFunction, ::Array{Float64,2}, !Matched::Int64, !Matched::Union{Int64, Array{Int64,1}}, !Matched::Union{UnitRange{Int64}, Int64, Array{Int64,1}}, !Matched::Array{Int64,2}) at /media/mat/HDD/AdaptiveTransportMap/src/mapcomponent/expandedfunction.jl:203\n  ...",
      "",
      "Stacktrace:",
      " [1] top-level scope at In[383]:1",
      " [2] include_string(::Function, ::Module, ::String, ::String) at ./loading.jl:1091"
     ]
    }
   ],
   "source": [
    "grad_xk_basis(C.I.f.f, X, 1)"
   ]
  },
  {
   "cell_type": "code",
   "execution_count": 379,
   "metadata": {},
   "outputs": [
    {
     "data": {
      "text/plain": [
       "500-element Array{Float64,1}:\n",
       " 0.5315090572833349\n",
       " 0.533730559598309\n",
       " 0.541909995665149\n",
       " 0.5355811539493861\n",
       " 0.5571281699625658\n",
       " 0.5565316120379733\n",
       " 0.5124949977493904\n",
       " 0.5555240856533903\n",
       " 0.5423587968679733\n",
       " 0.5096760537539106\n",
       " 0.5395453266572324\n",
       " 0.5653728367538514\n",
       " 0.5602706051863584\n",
       " ⋮\n",
       " 0.5042187428462308\n",
       " 0.5706072756934936\n",
       " 0.5343514622216646\n",
       " 0.544895253625552\n",
       " 0.5682763811862693\n",
       " 0.5325873519410239\n",
       " 0.4892322362035903\n",
       " 0.5339410251209131\n",
       " 0.5578817861094277\n",
       " 0.5661470400907131\n",
       " 0.5625440400892824\n",
       " 0.5727060698190826"
      ]
     },
     "execution_count": 379,
     "metadata": {},
     "output_type": "execute_result"
    }
   ],
   "source": [
    "S.cache_dψxd"
   ]
  },
  {
   "cell_type": "code",
   "execution_count": 377,
   "metadata": {},
   "outputs": [
    {
     "data": {
      "text/plain": [
       "1.5497820652192922"
      ]
     },
     "execution_count": 377,
     "metadata": {},
     "output_type": "execute_result"
    }
   ],
   "source": [
    "negative_log_likelihood!(J, dJ, coeff, S, C, X)"
   ]
  },
  {
   "cell_type": "code",
   "execution_count": 378,
   "metadata": {},
   "outputs": [
    {
     "data": {
      "text/plain": [
       "7-element Array{Float64,1}:\n",
       "  0.45669780258552556\n",
       "  0.01609914141985005\n",
       "  0.22549906081776191\n",
       "  0.015452904377808637\n",
       "  0.03749560693255646\n",
       "  0.2449869376256962\n",
       " -0.00045954427350969963"
      ]
     },
     "execution_count": 378,
     "metadata": {},
     "output_type": "execute_result"
    }
   ],
   "source": [
    "dJ"
   ]
  },
  {
   "cell_type": "markdown",
   "metadata": {},
   "source": [
    "### Test Hessian of the log π(x)"
   ]
  },
  {
   "cell_type": "code",
   "execution_count": 30,
   "metadata": {},
   "outputs": [],
   "source": [
    "Nx = 2\n",
    "Ne = 8\n",
    "m = 10\n",
    "\n",
    "X = randn(Nx, Ne)\n",
    "\n",
    "idx = [0 0; 0 1; 1 0; 1 1; 1 2]\n",
    "coeff =   [0.6285037650645056;\n",
    " -0.4744029092496623;\n",
    "  1.1405280011620331;\n",
    " -0.7217760771894809;\n",
    "  0.11855056306742319];\n",
    "\n",
    "C = MapComponent(m, Nx, idx, coeff);"
   ]
  },
  {
   "cell_type": "code",
   "execution_count": 34,
   "metadata": {},
   "outputs": [
    {
     "data": {
      "text/plain": [
       "8×5×2 Array{Float64,3}:\n",
       "[:, :, 1] =\n",
       " 0.0  0.0  -0.207296    -0.130929     0.00117735\n",
       " 0.0  0.0  -0.216523    -0.134105     0.0375507\n",
       " 0.0  0.0   0.00618292   0.00360034   0.00205305\n",
       " 0.0  0.0  -0.199714    -0.0830991   -0.107373\n",
       " 0.0  0.0   0.209274     0.0991538   -0.106331\n",
       " 0.0  0.0  -0.236677    -0.10036     -0.126702\n",
       " 0.0  0.0  -0.270316    -0.120917     0.142049\n",
       " 0.0  0.0  -0.0785179   -0.0495593    0.00259814\n",
       "\n",
       "[:, :, 2] =\n",
       " 0.0   0.00283979  0.0   0.00155384  0.345581\n",
       " 0.0   0.0867129   0.0   0.0465448   0.31942\n",
       " 0.0  -0.166026    0.0  -0.104855    0.307967\n",
       " 0.0  -0.268816    0.0  -0.149159    0.0381479\n",
       " 0.0   0.254048    0.0   0.138466    0.109751\n",
       " 0.0  -0.26767     0.0  -0.064575    0.0207737\n",
       " 0.0   0.262746    0.0   0.0959916   0.0506544\n",
       " 0.0   0.0165449   0.0   0.0102847   0.391819"
      ]
     },
     "execution_count": 34,
     "metadata": {},
     "output_type": "execute_result"
    }
   ],
   "source": [
    "dψ_basis = grad_x_basis(C.I.f.f, X)"
   ]
  },
  {
   "cell_type": "code",
   "execution_count": 41,
   "metadata": {},
   "outputs": [
    {
     "data": {
      "text/plain": [
       "8-element Array{Float64,1}:\n",
       "  0.03850011681624252\n",
       " -0.036864339594153354\n",
       "  0.19095459274793916\n",
       "  0.23970874743411022\n",
       " -0.20745155095311177\n",
       "  0.17605463803346075\n",
       " -0.18792702339659972\n",
       "  0.03117818085903034"
      ]
     },
     "execution_count": 41,
     "metadata": {},
     "output_type": "execute_result"
    }
   ],
   "source": [
    "dxlogDJ = zeros(Ne, Nx)\n",
    "\n",
    "ψoffdψxd = grad_xd(C.I.f.f, X)"
   ]
  },
  {
   "cell_type": "code",
   "execution_count": 50,
   "metadata": {},
   "outputs": [
    {
     "data": {
      "text/plain": [
       "8×2 Array{Float64,2}:\n",
       " -0.0150962    0.275081\n",
       " -0.00172344   0.272766\n",
       "  0.00109835   0.191537\n",
       " -0.0403773   -0.00821251\n",
       " -0.0333779    0.127178\n",
       " -0.0481415    0.0110568\n",
       "  0.0468207    0.0774556\n",
       " -0.00492957   0.294571"
      ]
     },
     "execution_count": 50,
     "metadata": {},
     "output_type": "execute_result"
    }
   ],
   "source": [
    "grad_x_grad_xd(C.I.f.f, X, C.I.f.f.idx)"
   ]
  },
  {
   "cell_type": "code",
   "execution_count": 51,
   "metadata": {},
   "outputs": [
    {
     "data": {
      "text/plain": [
       "8-element Array{Float64,1}:\n",
       "  0.27508054698884865\n",
       "  0.2727658334063561\n",
       "  0.19153741860252596\n",
       " -0.008212514607585927\n",
       "  0.12717812747627785\n",
       "  0.01105679171823458\n",
       "  0.07745559049870646\n",
       "  0.29457111787580165"
      ]
     },
     "execution_count": 51,
     "metadata": {},
     "output_type": "execute_result"
    }
   ],
   "source": [
    "hess_xd(C.I.f.f, X)"
   ]
  },
  {
   "cell_type": "code",
   "execution_count": 52,
   "metadata": {},
   "outputs": [
    {
     "data": {
      "text/plain": [
       "2×2 Array{Float64,2}:\n",
       " -0.13341    -0.0150962\n",
       " -0.0150962   0.275081"
      ]
     },
     "execution_count": 52,
     "metadata": {},
     "output_type": "execute_result"
    }
   ],
   "source": [
    "dxdxkψx_t = ForwardDiff.hessian(C.I.f.f, X[:,1])"
   ]
  },
  {
   "cell_type": "code",
   "execution_count": null,
   "metadata": {},
   "outputs": [],
   "source": []
  },
  {
   "cell_type": "code",
   "execution_count": null,
   "metadata": {},
   "outputs": [],
   "source": [
    "evaluate()"
   ]
  },
  {
   "cell_type": "code",
   "execution_count": 16,
   "metadata": {},
   "outputs": [
    {
     "data": {
      "text/plain": [
       "8-element Array{Float64,1}:\n",
       " -1.890933371333304\n",
       " -1.0774421758804786\n",
       " -1.3812358207093065\n",
       " -2.756566903253647\n",
       " -2.2764943782683207\n",
       " -3.268114225886461\n",
       " -0.9741216255311081\n",
       " -1.442529469931936"
      ]
     },
     "execution_count": 16,
     "metadata": {},
     "output_type": "execute_result"
    }
   ],
   "source": [
    "log_pdf(C, X)"
   ]
  },
  {
   "cell_type": "code",
   "execution_count": 18,
   "metadata": {},
   "outputs": [
    {
     "data": {
      "text/plain": [
       "8-element Array{Float64,1}:\n",
       " -1.3182090265735815\n",
       "  0.5518744832820461\n",
       "  1.0207836492619973\n",
       "  1.969508900840876\n",
       "  1.7095646000932772\n",
       "  2.2193925767103297\n",
       "  0.06731649217667446\n",
       "  1.0856697228586412"
      ]
     },
     "execution_count": 18,
     "metadata": {},
     "output_type": "execute_result"
    }
   ],
   "source": [
    "Cx = evaluate(C, X)"
   ]
  },
  {
   "cell_type": "code",
   "execution_count": 22,
   "metadata": {},
   "outputs": [
    {
     "data": {
      "text/plain": [
       "5×2 Array{Int64,2}:\n",
       " 0  0\n",
       " 0  1\n",
       " 1  0\n",
       " 1  1\n",
       " 1  2"
      ]
     },
     "execution_count": 22,
     "metadata": {},
     "output_type": "execute_result"
    }
   ],
   "source": [
    "getidx(C)"
   ]
  },
  {
   "cell_type": "code",
   "execution_count": 21,
   "metadata": {},
   "outputs": [
    {
     "data": {
      "text/plain": [
       "5-element Array{Float64,1}:\n",
       "  0.6285037650645056\n",
       " -0.4744029092496623\n",
       "  1.1405280011620331\n",
       " -0.7217760771894809\n",
       "  0.11855056306742319"
      ]
     },
     "execution_count": 21,
     "metadata": {},
     "output_type": "execute_result"
    }
   ],
   "source": [
    "getcoeff(C)"
   ]
  },
  {
   "cell_type": "code",
   "execution_count": 23,
   "metadata": {},
   "outputs": [
    {
     "data": {
      "text/plain": [
       "8×5×2 Array{Float64,3}:\n",
       "[:, :, 1] =\n",
       " 0.0  0.0   0.107478    0.0190908  -0.043005\n",
       " 0.0  0.0   0.0865389   0.0541193  -0.0107887\n",
       " 0.0  0.0   0.138011    0.0855902   0.0231549\n",
       " 0.0  0.0  -0.270698   -0.113793   -0.145219\n",
       " 0.0  0.0  -0.259926   -0.128072   -0.127645\n",
       " 0.0  0.0  -0.225594   -0.0869868  -0.122217\n",
       " 0.0  0.0  -0.266312   -0.155186    0.0881003\n",
       " 0.0  0.0   0.261878    0.157944    0.0678763\n",
       "\n",
       "[:, :, 2] =\n",
       " 0.0   0.200064   0.0   0.122532   -0.167233\n",
       " 0.0   0.0623342  0.0   0.0386104   0.379666\n",
       " 0.0  -0.0838875  0.0  -0.0502452   0.357862\n",
       " 0.0  -0.268231   0.0  -0.105483    0.0306983\n",
       " 0.0  -0.24554    0.0  -0.112246    0.113373\n",
       " 0.0  -0.270878   0.0  -0.142266    0.00262786\n",
       " 0.0   0.165408   0.0   0.0714071   0.211025\n",
       " 0.0  -0.129595   0.0  -0.0583847   0.246624"
      ]
     },
     "execution_count": 23,
     "metadata": {},
     "output_type": "execute_result"
    }
   ],
   "source": [
    "dψ = grad_x_basis(C.I.f.f, X)"
   ]
  },
  {
   "cell_type": "code",
   "execution_count": 24,
   "metadata": {},
   "outputs": [
    {
     "data": {
      "text/plain": [
       "8×5×2×2 Array{Float64,4}:\n",
       "[:, :, 1, 1] =\n",
       " 0.0  0.0  -0.287372   -0.0510446    0.114986\n",
       " 0.0  0.0  -0.297614   -0.18612      0.0371031\n",
       " 0.0  0.0  -0.267679   -0.166006    -0.0449099\n",
       " 0.0  0.0  -0.0102897  -0.00432547  -0.00552002\n",
       " 0.0  0.0  -0.0807765  -0.0398007   -0.0396678\n",
       " 0.0  0.0  -0.1657     -0.0638922   -0.089769\n",
       " 0.0  0.0  -0.0515665  -0.030049     0.0170591\n",
       " 0.0  0.0  -0.0730321  -0.0440471   -0.0189292\n",
       "\n",
       "[:, :, 2, 1] =\n",
       " 0.0   0.0   0.0   0.0215025   -0.0293467\n",
       " 0.0   0.0   0.0   0.00539434   0.0530439\n",
       " 0.0  -0.0   0.0  -0.0115774    0.0824581\n",
       " 0.0  -0.0  -0.0   0.0726096   -0.0211313\n",
       " 0.0  -0.0  -0.0   0.0638224   -0.0644633\n",
       " 0.0  -0.0  -0.0   0.0611086   -0.00112877\n",
       " 0.0   0.0  -0.0  -0.0440502   -0.130179\n",
       " 0.0  -0.0   0.0  -0.0339381    0.143359\n",
       "\n",
       "[:, :, 1, 2] =\n",
       " 0.0   0.0   0.0   0.0215025   -0.0293467\n",
       " 0.0   0.0   0.0   0.00539434   0.0530439\n",
       " 0.0  -0.0   0.0  -0.0115774    0.0824581\n",
       " 0.0  -0.0  -0.0   0.0726096   -0.0211313\n",
       " 0.0  -0.0  -0.0   0.0638224   -0.0644633\n",
       " 0.0  -0.0  -0.0   0.0611086   -0.00112877\n",
       " 0.0   0.0  -0.0  -0.0440502   -0.130179\n",
       " 0.0  -0.0   0.0  -0.0339381    0.143359\n",
       "\n",
       "[:, :, 2, 2] =\n",
       " 0.0   0.136524    0.0   0.0836164    0.056706\n",
       " 0.0  -0.306474    0.0  -0.189833     0.115064\n",
       " 0.0  -0.298736    0.0  -0.178931    -0.148897\n",
       " 0.0  -0.0390312   0.0  -0.0153491   -0.230553\n",
       " 0.0  -0.124003    0.0  -0.0566865   -0.280989\n",
       " 0.0  -0.00250176  0.0  -0.00131393  -0.286378\n",
       " 0.0  -0.24441     0.0  -0.105512     0.202714\n",
       " 0.0  -0.273713    0.0  -0.123312    -0.169763"
      ]
     },
     "execution_count": 24,
     "metadata": {},
     "output_type": "execute_result"
    }
   ],
   "source": [
    "d2ψ = hess_x_basis(C.I.f.f, X)"
   ]
  },
  {
   "cell_type": "markdown",
   "metadata": {},
   "source": [
    "### Integration"
   ]
  },
  {
   "cell_type": "code",
   "execution_count": 20,
   "metadata": {},
   "outputs": [],
   "source": [
    "Nx = 100\n",
    "Ny = 50\n",
    "m = 20\n",
    "Ne = 400\n",
    "X = randn(Nx, Ne).*randn(Nx, Ne) #.+ 0.5*randn(Nx).*cos.(randn(Nx, Ne) .* randn(Nx, Ne))\n",
    "\n",
    "# L = LinearTransform(X)\n",
    "# transform!(L, X);\n",
    "# C = MapComponent(m, Nx)\n",
    "# @time C, _ = optimize(C, X, 10)"
   ]
  },
  {
   "cell_type": "code",
   "execution_count": 24,
   "metadata": {},
   "outputs": [],
   "source": [
    "M = HermiteMap(m, X);"
   ]
  },
  {
   "cell_type": "code",
   "execution_count": 25,
   "metadata": {
    "scrolled": true
   },
   "outputs": [
    {
     "name": "stdout",
     "output_type": "stream",
     "text": [
      "  9.550136 seconds (42.61 M allocations: 13.653 GiB, 7.59% gc time)\n"
     ]
    }
   ],
   "source": [
    "@time M_noqr = optimize(M, X, 10; P = serial, start = Ny+1);"
   ]
  },
  {
   "cell_type": "code",
   "execution_count": 26,
   "metadata": {},
   "outputs": [
    {
     "name": "stdout",
     "output_type": "stream",
     "text": [
      " 18.997304 seconds (45.81 M allocations: 21.111 GiB, 4.17% gc time)\n"
     ]
    }
   ],
   "source": [
    "@time M_qr = optimize(M, X, 10; P = serial, withqr = true, start = Ny+1);"
   ]
  },
  {
   "cell_type": "code",
   "execution_count": 31,
   "metadata": {},
   "outputs": [
    {
     "data": {
      "text/plain": [
       "timing (generic function with 1 method)"
      ]
     },
     "execution_count": 31,
     "metadata": {},
     "output_type": "execute_result"
    }
   ],
   "source": [
    "function timing()\n",
    "    M = HermiteMap(m, X)\n",
    "    @btime begin \n",
    "        optimize($M, $X, $10; P = serial, withqr = false, start = Ny+1)\n",
    "    end\n",
    "    \n",
    "    @btime begin \n",
    "        optimize($M, $X, $10; P = serial, withqr = true, start = Ny+1)\n",
    "    end\n",
    "end"
   ]
  },
  {
   "cell_type": "code",
   "execution_count": 32,
   "metadata": {},
   "outputs": [
    {
     "name": "stdout",
     "output_type": "stream",
     "text": [
      "  11.257 s (42606958 allocations: 13.65 GiB)\n",
      "  21.346 s (45813192 allocations: 21.12 GiB)\n"
     ]
    }
   ],
   "source": [
    "timing();"
   ]
  },
  {
   "cell_type": "code",
   "execution_count": 11,
   "metadata": {},
   "outputs": [
    {
     "name": "stdout",
     "output_type": "stream",
     "text": [
      "  14.597 s (42433511 allocations: 13.37 GiB)\n"
     ]
    }
   ],
   "source": [
    "timing();"
   ]
  },
  {
   "cell_type": "code",
   "execution_count": 29,
   "metadata": {},
   "outputs": [
    {
     "name": "stdout",
     "output_type": "stream",
     "text": [
      "  973.450 ms (1054425 allocations: 1.43 GiB)\n"
     ]
    }
   ],
   "source": [
    "timing();"
   ]
  },
  {
   "cell_type": "code",
   "execution_count": 14,
   "metadata": {},
   "outputs": [
    {
     "data": {
      "text/html": [
       "# 1 method for generic function <b>update_component</b>:<ul><li> update_component(C::<b>MapComponent</b>, X, reduced_margin::<b>Array{Int64,2}</b>, S::<b>Storage</b>) in AdaptiveTransportMap at <a href=\"https://github.com/mleprovost/AdaptiveTransportMap/tree/83d05ec2a279bc06ffd1b1aeb054f4628721f1e9//src/mapcomponent/greedyfit.jl#L234\" target=\"_blank\">/media/mat/HDD/AdaptiveTransportMap/src/mapcomponent/greedyfit.jl:249</a></li> </ul>"
      ],
      "text/plain": [
       "# 1 method for generic function \"update_component\":\n",
       "[1] update_component(C::MapComponent, X, reduced_margin::Array{Int64,2}, S::Storage) in AdaptiveTransportMap at /media/mat/HDD/AdaptiveTransportMap/src/mapcomponent/greedyfit.jl:249"
      ]
     },
     "execution_count": 14,
     "metadata": {},
     "output_type": "execute_result"
    }
   ],
   "source": [
    "methods(update_component)"
   ]
  },
  {
   "cell_type": "code",
   "execution_count": 30,
   "metadata": {},
   "outputs": [
    {
     "data": {
      "text/plain": [
       "timing (generic function with 1 method)"
      ]
     },
     "execution_count": 30,
     "metadata": {},
     "output_type": "execute_result"
    }
   ],
   "source": [
    "function timing()\n",
    "    @btime begin \n",
    "        M = HermiteMap($m, $X)\n",
    "        optimize($M, $X, $10; P = thread)\n",
    "    end\n",
    "end"
   ]
  },
  {
   "cell_type": "code",
   "execution_count": 88,
   "metadata": {},
   "outputs": [
    {
     "name": "stdout",
     "output_type": "stream",
     "text": [
      "  297.730 ms (1000725 allocations: 1.35 GiB)\n"
     ]
    }
   ],
   "source": [
    "timing();"
   ]
  },
  {
   "cell_type": "markdown",
   "metadata": {},
   "source": [
    "### Test optimization with QR"
   ]
  },
  {
   "cell_type": "code",
   "execution_count": 45,
   "metadata": {},
   "outputs": [
    {
     "data": {
      "text/plain": [
       "\u001b[32m\u001b[1mTest Passed\u001b[22m\u001b[39m"
      ]
     },
     "execution_count": 45,
     "metadata": {},
     "output_type": "execute_result"
    }
   ],
   "source": [
    "Nx = 3\n",
    "Ne = 8\n",
    "m = 20\n",
    "\n",
    "idx = [0 0 0; 0 0 1; 0 1 0; 0 1 1; 0 1 2; 1 0 0]\n",
    "\n",
    "\n",
    "Nψ = 6\n",
    "coeff = [ 0.20649582065364197;\n",
    "         -0.5150990160472986;\n",
    "          2.630096893080717;\n",
    "          1.13653076177397;\n",
    "          0.6725837371023421;\n",
    "         -1.3126095306624133]\n",
    "C = MapComponent(m, Nx, idx, coeff; α = 1e-6);\n",
    "\n",
    "Ne = 100\n",
    "\n",
    "\n",
    "# The QR decomposition is not unique!\n",
    "\n",
    "X = randn(Nx, Ne) .* randn(Nx, Ne) + cos.(randn(Nx, Ne)) .* exp.(-randn(Nx, Ne).^2)\n",
    "\n",
    "L = LinearTransform(X)\n",
    "transform!(L, X)\n",
    "S = Storage(C.I.f, X)\n",
    "F = QRscaling(S)\n",
    "newidx = [1 1 1]\n",
    "\n",
    "Snew = update_storage(S, X, newidx)\n",
    "Fupdated = updateQRscaling(F, Snew)\n",
    "\n",
    "Fnew = QRscaling(Snew)\n",
    "\n",
    "@test norm(Fupdated.D - Fnew.D)<1e-8\n",
    "@test norm(Fupdated.Dinv - Fnew.Dinv)<1e-8"
   ]
  }
 ],
 "metadata": {
  "kernelspec": {
   "display_name": "Julia 1.5.0",
   "language": "julia",
   "name": "julia-1.5"
  },
  "language_info": {
   "file_extension": ".jl",
   "mimetype": "application/julia",
   "name": "julia",
   "version": "1.5.0"
  }
 },
 "nbformat": 4,
 "nbformat_minor": 2
}
