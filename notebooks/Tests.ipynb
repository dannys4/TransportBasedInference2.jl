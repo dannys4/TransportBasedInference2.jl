{
 "cells": [
  {
   "cell_type": "code",
   "execution_count": 1,
   "metadata": {},
   "outputs": [
    {
     "name": "stderr",
     "output_type": "stream",
     "text": [
      "\u001b[32m\u001b[1m Activating\u001b[22m\u001b[39m environment at `/media/mat/HDD/AdaptiveTransportMap/Project.toml`\n"
     ]
    }
   ],
   "source": [
    "using Pkg\n",
    "Pkg.activate(\"/media/mat/HDD/AdaptiveTransportMap/\")"
   ]
  },
  {
   "cell_type": "code",
   "execution_count": 22,
   "metadata": {},
   "outputs": [],
   "source": [
    "using Revise\n",
    "using AdaptiveTransportMap\n",
    "using LinearAlgebra\n",
    "import LinearAlgebra: ldiv!, dot\n",
    "using Test\n",
    "using ForwardDiff\n",
    "using SpecialFunctions\n",
    "using BenchmarkTools\n",
    "using TransportMap\n",
    "using QuadGK\n",
    "using AdaptiveTransportMap: derivative, vander, transform!, evaluate, ncoeff, optimize\n",
    "using DiffResults\n",
    "using Distributions\n",
    "using Random\n",
    "using LoopVectorization\n",
    "using Optim\n",
    "using NLsolve\n",
    "using Polynomials\n",
    "using Optim: InverseDiagonal\n",
    "using MLDataUtils"
   ]
  },
  {
   "cell_type": "markdown",
   "metadata": {},
   "source": [
    "### Greedy fit"
   ]
  },
  {
   "cell_type": "code",
   "execution_count": 23,
   "metadata": {},
   "outputs": [],
   "source": [
    "Nx = 2\n",
    "\n",
    "m = 20\n",
    "Ne = 200\n",
    "X = randn(Nx, Ne).^2 + 0.1*randn(Nx, Ne)\n",
    "\n",
    "L = LinearTransform(X; diag = true)\n",
    "transform!(L, X);"
   ]
  },
  {
   "cell_type": "code",
   "execution_count": 24,
   "metadata": {},
   "outputs": [],
   "source": [
    "Hk = HermiteMapk(m, Nx);"
   ]
  },
  {
   "cell_type": "code",
   "execution_count": 33,
   "metadata": {},
   "outputs": [],
   "source": [
    "AdaptiveTransportMap.optimize(Hk, X, \"split\");"
   ]
  }
 ],
 "metadata": {
  "kernelspec": {
   "display_name": "Julia 1.4.0",
   "language": "julia",
   "name": "julia-1.4"
  },
  "language_info": {
   "file_extension": ".jl",
   "mimetype": "application/julia",
   "name": "julia",
   "version": "1.4.0"
  }
 },
 "nbformat": 4,
 "nbformat_minor": 2
}
