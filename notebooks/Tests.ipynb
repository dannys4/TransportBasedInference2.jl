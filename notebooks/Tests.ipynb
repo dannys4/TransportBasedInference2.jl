{
 "cells": [
  {
   "cell_type": "code",
   "execution_count": 1,
   "metadata": {},
   "outputs": [
    {
     "name": "stderr",
     "output_type": "stream",
     "text": [
      "\u001b[32m\u001b[1m Activating\u001b[22m\u001b[39m environment at `/media/mat/HDD/AdaptiveTransportMap/Project.toml`\n"
     ]
    }
   ],
   "source": [
    "using Pkg\n",
    "Pkg.activate(\"/media/mat/HDD/AdaptiveTransportMap/\")"
   ]
  },
  {
   "cell_type": "code",
   "execution_count": 2,
   "metadata": {
    "scrolled": false
   },
   "outputs": [
    {
     "name": "stderr",
     "output_type": "stream",
     "text": [
      "┌ Info: Precompiling AdaptiveTransportMap [bdf749b0-1400-4207-80d3-e689c0e3f03d]\n",
      "└ @ Base loading.jl:1260\n",
      "WARNING: using Optim.optimize in module Main conflicts with an existing identifier.\n",
      "WARNING: using Polynomials.derivative in module Main conflicts with an existing identifier.\n",
      "WARNING: using Polynomials.vander in module Main conflicts with an existing identifier.\n"
     ]
    }
   ],
   "source": [
    "using Revise\n",
    "using AdaptiveTransportMap\n",
    "using LinearAlgebra\n",
    "import LinearAlgebra: ldiv!, dot\n",
    "using Test\n",
    "using ForwardDiff\n",
    "using SpecialFunctions\n",
    "using BenchmarkTools\n",
    "using TransportMap\n",
    "using QuadGK\n",
    "using AdaptiveTransportMap: derivative, vander, transform!, evaluate, ncoeff, optimize\n",
    "using DiffResults\n",
    "using Distributions\n",
    "using Random\n",
    "using LoopVectorization\n",
    "using Optim\n",
    "using NLsolve\n",
    "using Polynomials\n",
    "using Optim: InverseDiagonal\n",
    "using MLDataUtils\n",
    "using Test"
   ]
  },
  {
   "cell_type": "markdown",
   "metadata": {},
   "source": [
    "### Expanded function"
   ]
  },
  {
   "cell_type": "code",
   "execution_count": 173,
   "metadata": {},
   "outputs": [],
   "source": [
    "Nx = 3\n",
    "Ne = 500\n",
    "\n",
    "X = Matrix([-0.899679   0.149212  -0.203239;\n",
    "     -1.20342   -0.196523  -0.484925;\n",
    "     -1.03261   -1.04501    0.367875;\n",
    "     -0.343662   0.424117   0.720608;\n",
    "      0.32033    0.345181   0.739602;\n",
    "      1.0377    -1.029     -0.610308;\n",
    "      0.36607    2.42988   -0.0927185;\n",
    "     -1.15715    0.803241   1.71867]')\n",
    "\n",
    "X = randn(Nx, Ne)\n",
    "\n",
    "B = MultiBasis(CstProHermite(3; scaled =true), Nx)\n",
    "\n",
    "idx = [0 0 0; 0 0 1; 0 1 0; 0 1 1; 0 1 2; 1 0 0]\n",
    "\n",
    "Nψ = size(idx,1)\n",
    "coeff =  randn(Nψ)\n",
    "\n",
    "f = ExpandedFunction(B, idx, coeff)\n",
    "\n",
    "C = MapComponent(f)\n",
    "\n",
    "out = zeros(Ne, Nψ);\n",
    "cache = zeros(Ne, maximum(idx[:,end])+1);\n",
    "\n",
    "S = Storage(ParametricFunction(f), X);\n",
    "xlast = view(X, Nx, :);"
   ]
  },
  {
   "cell_type": "code",
   "execution_count": 174,
   "metadata": {},
   "outputs": [
    {
     "data": {
      "text/html": [
       "# 1 method for generic function <b>negative_log_likelihood!</b>:<ul><li> negative_log_likelihood!(S::<b>Storage</b>, C::<b>MapComponent</b>, X) in AdaptiveTransportMap at <a href=\"https://github.com/mleprovost/AdaptiveTransportMap/tree/e566b3d70e57a1ca48a1ca79e9318afedff44f1f//src/mapcomponent/hermitemapcomponent.jl#L193\" target=\"_blank\">/media/mat/HDD/AdaptiveTransportMap/src/mapcomponent/hermitemapcomponent.jl:194</a></li> </ul>"
      ],
      "text/plain": [
       "# 1 method for generic function \"negative_log_likelihood!\":\n",
       "[1] negative_log_likelihood!(S::Storage, C::MapComponent, X) in AdaptiveTransportMap at /media/mat/HDD/AdaptiveTransportMap/src/mapcomponent/hermitemapcomponent.jl:194"
      ]
     },
     "execution_count": 174,
     "metadata": {},
     "output_type": "execute_result"
    }
   ],
   "source": [
    "methods(negative_log_likelihood!)"
   ]
  },
  {
   "cell_type": "code",
   "execution_count": 188,
   "metadata": {},
   "outputs": [
    {
     "name": "stdout",
     "output_type": "stream",
     "text": [
      "  0.000681 seconds (274 allocations: 495.125 KiB)\n"
     ]
    },
    {
     "data": {
      "text/plain": [
       "0.7795392540533528"
      ]
     },
     "execution_count": 188,
     "metadata": {},
     "output_type": "execute_result"
    }
   ],
   "source": [
    "J = 0.0\n",
    "dJ = zero(coeff)\n",
    "@time negativeloglikelihood!(J, dJ, coeff, S, C, X)"
   ]
  },
  {
   "cell_type": "markdown",
   "metadata": {},
   "source": [
    "### HermiteMap"
   ]
  },
  {
   "cell_type": "code",
   "execution_count": 199,
   "metadata": {},
   "outputs": [],
   "source": [
    "Nx = 20\n",
    "Ne = 300\n",
    "m = 10\n",
    "X = randn(Nx, Ne) .* randn(Nx, Ne) .+ rand(Nx);\n",
    "X0 = deepcopy(X);"
   ]
  },
  {
   "cell_type": "code",
   "execution_count": 200,
   "metadata": {},
   "outputs": [],
   "source": [
    "M = HermiteMap(m, X);"
   ]
  },
  {
   "cell_type": "code",
   "execution_count": 201,
   "metadata": {},
   "outputs": [],
   "source": [
    "optimize(M, X, 6; apply_rescaling = true);"
   ]
  },
  {
   "cell_type": "code",
   "execution_count": 210,
   "metadata": {},
   "outputs": [
    {
     "data": {
      "text/plain": [
       "timing (generic function with 1 method)"
      ]
     },
     "execution_count": 210,
     "metadata": {},
     "output_type": "execute_result"
    }
   ],
   "source": [
    "function timing()\n",
    "#     @btime begin\n",
    "#         Nx = 10\n",
    "#         Ne = 300\n",
    "#         m = 10\n",
    "#         X = randn(Nx, Ne) .* randn(Nx, Ne) .+ rand(Nx);\n",
    "#         X0 = deepcopy(X);   \n",
    "# #         M = HermiteMap(m, X);    \n",
    "# #         optimize(M, X, 4; apply_rescaling = true)\n",
    "#     end\n",
    "    \n",
    "    @btime begin\n",
    "        Nx = 30\n",
    "        Ne = 500\n",
    "        m = 10\n",
    "        X = randn(Nx, Ne) .* randn(Nx, Ne) .+ rand(Nx);\n",
    "        X0 = deepcopy(X);   \n",
    "        M = HermiteMap(m, X);    \n",
    "        optimize(M, X, 10; apply_rescaling = true)\n",
    "    end\n",
    "end"
   ]
  },
  {
   "cell_type": "code",
   "execution_count": 212,
   "metadata": {
    "scrolled": true
   },
   "outputs": [
    {
     "name": "stdout",
     "output_type": "stream",
     "text": [
      "  2.350 s (1843817 allocations: 1.78 GiB)\n"
     ]
    }
   ],
   "source": [
    "timing();"
   ]
  },
  {
   "cell_type": "code",
   "execution_count": null,
   "metadata": {},
   "outputs": [],
   "source": [
    "timing();"
   ]
  },
  {
   "cell_type": "code",
   "execution_count": 21,
   "metadata": {
    "scrolled": true
   },
   "outputs": [
    {
     "name": "stdout",
     "output_type": "stream",
     "text": [
      "  35.510 μs (11 allocations: 94.58 KiB)\n",
      "  977.112 ms (1135599 allocations: 1.88 GiB)\n"
     ]
    }
   ],
   "source": [
    "timing();"
   ]
  },
  {
   "cell_type": "code",
   "execution_count": 137,
   "metadata": {},
   "outputs": [
    {
     "data": {
      "text/plain": [
       "operation! (generic function with 1 method)"
      ]
     },
     "execution_count": 137,
     "metadata": {},
     "output_type": "execute_result"
    }
   ],
   "source": [
    "function operation!(out, a, B)\n",
    "    Nl = size(a,1)\n",
    "    NlB, Nc = size(B)\n",
    "    # Nl and NlB should match\n",
    "    \n",
    "    out .= reshape(a .* B, (Nl*Nc))    \n",
    "end"
   ]
  },
  {
   "cell_type": "code",
   "execution_count": 143,
   "metadata": {},
   "outputs": [
    {
     "data": {
      "text/plain": [
       "operation_avx! (generic function with 1 method)"
      ]
     },
     "execution_count": 143,
     "metadata": {},
     "output_type": "execute_result"
    }
   ],
   "source": [
    "function operation_avx!(out, a, B)\n",
    "    Nl = size(a,1)\n",
    "    NlB, Nc = size(B)\n",
    "    # Nl and NlB should match\n",
    "    @avx for j=1:Nc\n",
    "        for i=1:Nl\n",
    "            out[(j-1)*Nl+i] = a[i]*B[i,j]\n",
    "        end\n",
    "    end\n",
    "end"
   ]
  },
  {
   "cell_type": "code",
   "execution_count": 145,
   "metadata": {},
   "outputs": [
    {
     "name": "stdout",
     "output_type": "stream",
     "text": [
      "  559.556 μs (4 allocations: 3.81 MiB)\n",
      "  152.427 μs (0 allocations: 0 bytes)\n"
     ]
    }
   ],
   "source": [
    "Nl = 5000\n",
    "Nc = 100\n",
    "\n",
    "a = randn(Nl)\n",
    "B = randn(Nl, Nc)\n",
    "out = zeros(Nl*Nc)\n",
    "\n",
    "@btime operation!($out, $a, $B)\n",
    "\n",
    "@btime operation_avx!($out, $a, $B)"
   ]
  },
  {
   "cell_type": "markdown",
   "metadata": {},
   "source": [
    "### Greedyfit"
   ]
  },
  {
   "cell_type": "code",
   "execution_count": 147,
   "metadata": {},
   "outputs": [
    {
     "data": {
      "text/plain": [
       "10×300 Array{Float64,2}:\n",
       " -0.510134  -0.562906      0.207835   …   0.603149   -0.135178   -2.06874\n",
       "  0.563244   0.270002      0.0730356      0.183428   -1.98688     1.49501\n",
       " -0.580729  -0.0807876    -1.36437        3.19454     1.0868      0.127014\n",
       "  0.223594  -0.505226      0.11727       -0.0820303   0.683815    0.444308\n",
       "  0.766521  -0.610468      0.794075       0.459418   -0.541611    0.137747\n",
       " -0.631377   0.000790393  -0.736893   …   0.33681     0.0761422   0.108859\n",
       "  0.377613  -0.123608      0.0403368     -0.17197    -1.24888    -0.0448311\n",
       " -2.72811    0.0854831     0.364345       0.334086   -0.332072    1.4834\n",
       " -0.158118  -2.01583       1.07898        0.394449    0.11052     0.541683\n",
       "  0.407627  -1.71966       0.492976      -0.806238   -0.805357    0.507764"
      ]
     },
     "execution_count": 147,
     "metadata": {},
     "output_type": "execute_result"
    }
   ],
   "source": [
    "Nx = 10\n",
    "Ne = 300\n",
    "m = 20\n",
    "\n",
    "# X = Matrix([0.267333   1.43021;\n",
    "#       0.364979   0.607224;\n",
    "#      -1.23693    0.249277;\n",
    "#      -2.0526     0.915629;\n",
    "#      -0.182465   0.415874;\n",
    "#       0.412907   1.01672;\n",
    "#       1.41332   -0.918205;\n",
    "#       0.766647  -1.00445]');\n",
    "\n",
    "X = randn(Nx, Ne) .* randn(Nx, Ne) .+ rand(Nx)\n",
    "L = LinearTransform(X; diag = true)\n",
    "\n",
    "transform!(L, X)"
   ]
  },
  {
   "cell_type": "code",
   "execution_count": 148,
   "metadata": {},
   "outputs": [
    {
     "name": "stdout",
     "output_type": "stream",
     "text": [
      "  19.438 ms (22481 allocations: 14.75 MiB)\n"
     ]
    }
   ],
   "source": [
    "@btime greedyfit($m, $Nx, $X, $8; verbose = false);"
   ]
  },
  {
   "cell_type": "code",
   "execution_count": 33,
   "metadata": {},
   "outputs": [
    {
     "name": "stdout",
     "output_type": "stream",
     "text": [
      "  17.678 ms (31741 allocations: 42.76 MiB)\n"
     ]
    }
   ],
   "source": [
    "@btime greedyfit($m, $Nx, $X, $8; verbose = false);"
   ]
  },
  {
   "cell_type": "code",
   "execution_count": 30,
   "metadata": {},
   "outputs": [
    {
     "name": "stdout",
     "output_type": "stream",
     "text": [
      "  0.045642 seconds (41.58 k allocations: 64.954 MiB, 16.33% gc time)\n"
     ]
    }
   ],
   "source": [
    "@time greedyfit(m, Nx, X, 8; verbose = false);"
   ]
  },
  {
   "cell_type": "code",
   "execution_count": 34,
   "metadata": {},
   "outputs": [
    {
     "name": "stdout",
     "output_type": "stream",
     "text": [
      "  0.044889 seconds (41.58 k allocations: 64.954 MiB, 12.20% gc time)\n"
     ]
    }
   ],
   "source": [
    "@time greedyfit(m, Nx, X, 8; verbose = false);"
   ]
  },
  {
   "cell_type": "code",
   "execution_count": 35,
   "metadata": {},
   "outputs": [
    {
     "name": "stdout",
     "output_type": "stream",
     "text": [
      "  29.638 ms (41583 allocations: 64.95 MiB)\n"
     ]
    }
   ],
   "source": [
    "@btime greedyfit($m, $Nx, $X, $8; verbose = false);"
   ]
  },
  {
   "cell_type": "code",
   "execution_count": null,
   "metadata": {},
   "outputs": [],
   "source": []
  }
 ],
 "metadata": {
  "kernelspec": {
   "display_name": "Julia 1.4.0",
   "language": "julia",
   "name": "julia-1.4"
  },
  "language_info": {
   "file_extension": ".jl",
   "mimetype": "application/julia",
   "name": "julia",
   "version": "1.4.0"
  }
 },
 "nbformat": 4,
 "nbformat_minor": 2
}
