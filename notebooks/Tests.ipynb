{
 "cells": [
  {
   "cell_type": "code",
   "execution_count": 2,
   "metadata": {},
   "outputs": [
    {
     "name": "stderr",
     "output_type": "stream",
     "text": [
      "\u001b[32m\u001b[1m Activating\u001b[22m\u001b[39m environment at `/media/mat/HDD/AdaptiveTransportMap/Project.toml`\n"
     ]
    }
   ],
   "source": [
    "using Pkg\n",
    "Pkg.activate(\"/media/mat/HDD/AdaptiveTransportMap/\")"
   ]
  },
  {
   "cell_type": "code",
   "execution_count": 3,
   "metadata": {
    "scrolled": false
   },
   "outputs": [
    {
     "name": "stderr",
     "output_type": "stream",
     "text": [
      "WARNING: using Optim.optimize in module Main conflicts with an existing identifier.\n"
     ]
    }
   ],
   "source": [
    "using Revise\n",
    "using AdaptiveTransportMap\n",
    "using LinearAlgebra\n",
    "import LinearAlgebra: ldiv!, dot\n",
    "using Test\n",
    "using ForwardDiff\n",
    "using SpecialFunctions\n",
    "using BenchmarkTools\n",
    "using TransportMap\n",
    "using QuadGK\n",
    "using AdaptiveTransportMap: transform!, evaluate, ncoeff, optimize, negative_log_likelihood!\n",
    "using DiffResults\n",
    "using Distributions\n",
    "using Random\n",
    "using LoopVectorization\n",
    "using Optim\n",
    "using NLsolve\n",
    "using Polynomials\n",
    "using Optim: InverseDiagonal\n",
    "using MLDataUtils\n",
    "using Test"
   ]
  },
  {
   "cell_type": "code",
   "execution_count": 16,
   "metadata": {},
   "outputs": [
    {
     "name": "stdout",
     "output_type": "stream",
     "text": [
      "\u001b[37m\u001b[1mTest Summary:           | \u001b[22m\u001b[39m\u001b[32m\u001b[1mPass  \u001b[22m\u001b[39m\u001b[36m\u001b[1mTotal\u001b[22m\u001b[39m\n",
      "Verify log_pdf function | \u001b[32m   1  \u001b[39m\u001b[36m    1\u001b[39m\n"
     ]
    },
    {
     "data": {
      "text/plain": [
       "Test.DefaultTestSet(\"Verify log_pdf function\", Any[], 1, false)"
      ]
     },
     "execution_count": 16,
     "metadata": {},
     "output_type": "execute_result"
    }
   ],
   "source": [
    "@testset \"Verify log_pdf function\" begin\n",
    "\n",
    "  Nx = 2\n",
    "  X  =  Matrix([0.267333   1.43021;\n",
    "          0.364979   0.607224;\n",
    "         -1.23693    0.249277;\n",
    "         -2.0526     0.915629;\n",
    "         -0.182465   0.415874;\n",
    "          0.412907   1.01672;\n",
    "          1.41332   -0.918205;\n",
    "          0.766647  -1.00445]');\n",
    "  B = MultiBasis(CstProHermite(6; scaled =true), Nx)\n",
    "\n",
    "  idx = [0 0; 0 1; 1 0; 0 2; 2 0; 1 1]\n",
    "\n",
    "  Nψ = 5\n",
    "\n",
    "  coeff = [ -0.9905841755746164;\n",
    "        0.6771992097558741;\n",
    "       -2.243695806805015;\n",
    "       -0.34591297359447354;\n",
    "       -1.420159186008486;\n",
    "       -0.5361337327704369]\n",
    "  f = ExpandedFunction(B, idx, coeff)\n",
    "  C = MapComponent(f)\n",
    "\n",
    "  @test norm(log_pdf(C, X) - [  -1.572509004118956\n",
    "                                -2.870725221050853\n",
    "                                -1.285696671132943\n",
    "                                -1.088115266085997\n",
    "                                -2.396567575345843\n",
    "                                -2.238446803642176\n",
    "                                -5.999143198546611\n",
    "                                -7.082679248037675])<1e-8\n",
    "end"
   ]
  },
  {
   "cell_type": "code",
   "execution_count": 69,
   "metadata": {},
   "outputs": [],
   "source": [
    "Nx = 2\n",
    "m = 10\n",
    "X  =  Matrix([0.267333   1.43021;\n",
    "          0.364979   0.607224;\n",
    "         -1.23693    0.249277;\n",
    "         -2.0526     0.915629;\n",
    "         -0.182465   0.415874;\n",
    "          0.412907   1.01672;\n",
    "          1.41332   -0.918205;\n",
    "          0.766647  -1.00445]');\n",
    "\n",
    "B = MultiBasis(CstProHermite(m; scaled =true), Nx);\n",
    "\n",
    "M = HermiteMap(m, X);\n",
    "\n",
    "\n",
    "idx1 = reshape([0; 1; 2;3],(4,1))\n",
    "coeff1 =[-7.37835916713439;\n",
    "         16.897974063168977;\n",
    "         -0.20935914261414929;\n",
    "          8.116032140446544];\n",
    "\n",
    "M[1] = MapComponent(m, 1,  idx1, coeff1)\n",
    "\n",
    "idx2 = [ 0  0; 0 1; 1 0; 2 0];\n",
    "coeff2 = [2.995732886294909; -2.2624558703623903; -3.3791974895855486; 1.3808989978516617]\n",
    "\n",
    "M[2] = MapComponent(m, 2,  idx2, coeff2);"
   ]
  },
  {
   "cell_type": "code",
   "execution_count": 72,
   "metadata": {},
   "outputs": [
    {
     "name": "stdout",
     "output_type": "stream",
     "text": [
      "\u001b[37m\u001b[1mTest Summary:           | \u001b[22m\u001b[39m\u001b[32m\u001b[1mPass  \u001b[22m\u001b[39m\u001b[36m\u001b[1mTotal\u001b[22m\u001b[39m\n",
      "Verify log_pdf function | \u001b[32m   2  \u001b[39m\u001b[36m    2\u001b[39m\n"
     ]
    },
    {
     "data": {
      "text/plain": [
       "Test.DefaultTestSet(\"Verify log_pdf function\", Any[], 2, false)"
      ]
     },
     "execution_count": 72,
     "metadata": {},
     "output_type": "execute_result"
    }
   ],
   "source": [
    "@testset \"Verify log_pdf function\" begin\n",
    "    # For diagonal rescaling\n",
    "    Nx = 2\n",
    "    m = 10\n",
    "    X  =  Matrix([0.267333   1.43021;\n",
    "              0.364979   0.607224;\n",
    "             -1.23693    0.249277;\n",
    "             -2.0526     0.915629;\n",
    "             -0.182465   0.415874;\n",
    "              0.412907   1.01672;\n",
    "              1.41332   -0.918205;\n",
    "              0.766647  -1.00445]');\n",
    "    X0 = deepcopy(X)\n",
    "\n",
    "    B = MultiBasis(CstProHermite(m; scaled =true), Nx);\n",
    "\n",
    "    M = HermiteMap(m, X);\n",
    "\n",
    "\n",
    "    idx1 = reshape([0; 1; 2;3],(4,1))\n",
    "    coeff1 =[-7.37835916713439;\n",
    "             16.897974063168977;\n",
    "             -0.20935914261414929;\n",
    "              8.116032140446544];\n",
    "\n",
    "    M[1] = MapComponent(m, 1,  idx1, coeff1)\n",
    "\n",
    "    idx2 = [ 0  0; 0 1; 1 0; 2 0];\n",
    "    coeff2 = [2.995732886294909; -2.2624558703623903; -3.3791974895855486; 1.3808989978516617]\n",
    "\n",
    "    M[2] = MapComponent(m, 2,  idx2, coeff2);\n",
    "\n",
    "    @test norm(log_pdf(M, X) -   [-1.849644462509894;\n",
    "                                  -1.239419791201162;\n",
    "                                  -3.307440928766559;\n",
    "                                  -2.482615159224171;\n",
    "                                  -2.392017816948268;\n",
    "                                  -1.331903266052277;\n",
    "                                  -3.638709417555485;\n",
    "                                  -2.242238529589172])<1e-6\n",
    "\n",
    "    @test norm(X - X0)<1e-10\n",
    "end"
   ]
  },
  {
   "cell_type": "code",
   "execution_count": 80,
   "metadata": {},
   "outputs": [
    {
     "data": {
      "text/plain": [
       "8-element Array{Float64,1}:\n",
       " -2.2844206901938313\n",
       " -1.1136936437930662\n",
       " -3.927922581187449\n",
       " -2.461816758104064\n",
       " -2.328286973844927\n",
       " -1.5299960111650504\n",
       " -3.444940697348022\n",
       " -1.9994193352667469"
      ]
     },
     "execution_count": 80,
     "metadata": {},
     "output_type": "execute_result"
    }
   ],
   "source": [
    "# For Cholesky refactorization\n",
    "\n",
    "Nx = 2\n",
    "m = 10\n",
    "X  =  Matrix([0.267333   1.43021;\n",
    "          0.364979   0.607224;\n",
    "         -1.23693    0.249277;\n",
    "         -2.0526     0.915629;\n",
    "         -0.182465   0.415874;\n",
    "          0.412907   1.01672;\n",
    "          1.41332   -0.918205;\n",
    "          0.766647  -1.00445]');\n",
    "X0 = deepcopy(X)\n",
    "\n",
    "B = MultiBasis(CstProHermite(m; scaled =true), Nx);\n",
    "\n",
    "M = HermiteMap(m, X; diag = false);\n",
    "\n",
    "\n",
    "idx1 = reshape([0; 1; 2;3],(4,1))\n",
    "coeff1 =[-7.37835916713439;\n",
    "         16.897974063168977;\n",
    "         -0.20935914261414929;\n",
    "          8.116032140446544];\n",
    "\n",
    "M[1] = MapComponent(m, 1,  idx1, coeff1)\n",
    "\n",
    "idx2 = [ 0  0; 0 1; 1 0; 2 0];\n",
    "coeff2 = [2.995732886294909; -2.2624558703623903; -3.3791974895855486; 1.3808989978516617]\n",
    "\n",
    "M[2] = MapComponent(m, 2,  idx2, coeff2);\n",
    "\n",
    "log_pdf(M, X)"
   ]
  },
  {
   "cell_type": "code",
   "execution_count": null,
   "metadata": {},
   "outputs": [],
   "source": [
    "#     @test norm(log_pdf(M, X) -   [-1.849644462509894;\n",
    "#                                   -1.239419791201162;\n",
    "#                                   -3.307440928766559;\n",
    "#                                   -2.482615159224171;\n",
    "#                                   -2.392017816948268;\n",
    "#                                   -1.331903266052277;\n",
    "#                                   -3.638709417555485;\n",
    "#                                   -2.242238529589172])<1e-6\n",
    "\n",
    "#     @test norm(X - X0)<1e-10"
   ]
  }
 ],
 "metadata": {
  "kernelspec": {
   "display_name": "Julia 1.4.0",
   "language": "julia",
   "name": "julia-1.4"
  },
  "language_info": {
   "file_extension": ".jl",
   "mimetype": "application/julia",
   "name": "julia",
   "version": "1.4.0"
  }
 },
 "nbformat": 4,
 "nbformat_minor": 2
}
