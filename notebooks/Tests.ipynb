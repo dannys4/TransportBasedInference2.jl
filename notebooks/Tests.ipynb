{
 "cells": [
  {
   "cell_type": "code",
   "execution_count": 1,
   "metadata": {},
   "outputs": [
    {
     "name": "stderr",
     "output_type": "stream",
     "text": [
      "\u001b[32m\u001b[1m Activating\u001b[22m\u001b[39m environment at `/media/mat/HDD/AdaptiveTransportMap/Project.toml`\n"
     ]
    }
   ],
   "source": [
    "using Pkg\n",
    "Pkg.activate(\"/media/mat/HDD/AdaptiveTransportMap/\")"
   ]
  },
  {
   "cell_type": "code",
   "execution_count": 62,
   "metadata": {
    "scrolled": false
   },
   "outputs": [],
   "source": [
    "using Revise\n",
    "using AdaptiveTransportMap\n",
    "using LinearAlgebra\n",
    "import LinearAlgebra: ldiv!, dot\n",
    "using Test\n",
    "using ForwardDiff\n",
    "using SpecialFunctions\n",
    "using BenchmarkTools\n",
    "using TransportMap\n",
    "using QuadGK\n",
    "using Polynomials\n",
    "using Distributions\n",
    "using Random\n",
    "using LoopVectorization\n",
    "using Optim\n",
    "using NLsolve\n",
    "using MLDataUtils\n",
    "using MLDataPattern\n",
    "using Test\n",
    "using SparseArrays\n",
    "using AdaptiveTransportMap: vander, transform!, evaluate, ncoeff, optimize, negative_log_likelihood!, derivative\n",
    "\n",
    "# using Profile\n",
    "using ProfileView"
   ]
  },
  {
   "cell_type": "code",
   "execution_count": 3,
   "metadata": {},
   "outputs": [
    {
     "data": {
      "text/plain": [
       "8"
      ]
     },
     "execution_count": 3,
     "metadata": {},
     "output_type": "execute_result"
    }
   ],
   "source": [
    "Threads.nthreads()"
   ]
  },
  {
   "cell_type": "markdown",
   "metadata": {},
   "source": [
    "### Integration"
   ]
  },
  {
   "cell_type": "code",
   "execution_count": 85,
   "metadata": {},
   "outputs": [],
   "source": [
    "Nx = 20\n",
    "Ny = 1\n",
    "m = 20\n",
    "Ne = 300\n",
    "X = randn(Nx, Ne).*randn(Nx, Ne) #.+ 0.5*randn(Nx).*cos.(randn(Nx, Ne) .* randn(Nx, Ne))\n",
    "\n",
    "# L = LinearTransform(X)\n",
    "# transform!(L, X);\n",
    "# C = MapComponent(m, Nx)\n",
    "# @time C, _ = optimize(C, X, 10)"
   ]
  },
  {
   "cell_type": "code",
   "execution_count": 86,
   "metadata": {},
   "outputs": [],
   "source": [
    "M = HermiteMap(m, X);"
   ]
  },
  {
   "cell_type": "code",
   "execution_count": 87,
   "metadata": {
    "scrolled": true
   },
   "outputs": [
    {
     "name": "stdout",
     "output_type": "stream",
     "text": [
      "  1.259750 seconds (1.00 M allocations: 1.347 GiB, 6.61% gc time)\n"
     ]
    },
    {
     "data": {
      "text/plain": [
       "HermiteMap(20, 20, LinearTransform(20, [-0.015911955921730166, 0.013971261551210897, -0.040447883932978615, 0.0753439815071193, -0.0781197937126532, -0.02599238710934617, 0.06977623841979197, 0.026324732718774484, -0.053128114005743056, -0.059599905362144906, 0.001114149051942673, 0.04695820217296057, -0.016624913310568697, -0.010312831186233277, -0.07986824550904248, -0.01603764087753745, -0.01717321084123384, -0.05563818622888866, -0.006488511882438942, 0.012474994994471028], [0.8004942544470827 0.0 … 0.0 0.0; 0.0 0.9074870450033097 … 0.0 0.0; … ; 0.0 0.0 … 0.9754789867528696 0.0; 0.0 0.0 … 0.0 1.0062688660692523], true), MapComponent[MapComponent(20, 10, 1, IntegratedFunction(20, 10, 1, Rectifier(\"softplus\"), ParametricFunction(ExpandedFunction(20, 10, 1, MultiBasis(Basis of 20 functions: Constant -> 18th degree Probabilistic Hermite function\n",
       ", 1), [1; 2; … ; 9; 10], [-0.026624505570497812, -1.323025924661739, 0.3868818352744172, -4.249212928226716, 1.5499142401581412, -2.3980726711613576, 2.0047218576318566, 0.2876242643412388, 0.9666107847788948, 1.3186938002705892]))), 1.0e-6), MapComponent(20, 10, 2, IntegratedFunction(20, 10, 2, Rectifier(\"softplus\"), ParametricFunction(ExpandedFunction(20, 10, 2, MultiBasis(Basis of 20 functions: Constant -> 18th degree Probabilistic Hermite function\n",
       ", 2), [0 1; 0 2; … ; 0 4; 5 0], [-0.2852921721962739, -0.04345220916694585, -1.370229458726571, 0.027312538680074862, 0.7654119496093174, 0.2369618781144485, 3.561623048381429, 0.3529214305379851, -1.1494114789388665, 0.4159094977304591]))), 1.0e-6), MapComponent(20, 10, 3, IntegratedFunction(20, 10, 3, Rectifier(\"softplus\"), ParametricFunction(ExpandedFunction(20, 10, 3, MultiBasis(Basis of 20 functions: Constant -> 18th degree Probabilistic Hermite function\n",
       ", 3), [0 1 0; 0 2 0; … ; 0 0 4; 0 0 5], [-1.7321292102195576, 0.6012529946775431, -1.4288377149654272, 0.5788741970859301, 1.6226422765014044, 0.13683761421480833, -0.6335650937430336, 1.0757749277042672, -1.323856252656295, 0.5226758650404911]))), 1.0e-6), MapComponent(20, 10, 4, IntegratedFunction(20, 10, 4, Rectifier(\"softplus\"), ParametricFunction(ExpandedFunction(20, 10, 4, MultiBasis(Basis of 20 functions: Constant -> 18th degree Probabilistic Hermite function\n",
       ", 4), [1 0 0 0; 0 1 0 0; … ; 0 0 0 5; 0 0 0 6], [1.1406896642403863, -0.4505592375441259, -0.15569599975624296, -0.11411307214866584, -1.0626739919921415, -0.46052317811769733, -0.5301091017525271, -2.1476012445877566, 0.33262236299172676, -0.28055345006268156]))), 1.0e-6), MapComponent(20, 10, 5, IntegratedFunction(20, 10, 5, Rectifier(\"softplus\"), ParametricFunction(ExpandedFunction(20, 10, 5, MultiBasis(Basis of 20 functions: Constant -> 18th degree Probabilistic Hermite function\n",
       ", 5), [0 0 … 0 1; 0 0 … 0 2; … ; 0 0 … 0 6; 0 0 … 0 7], [-0.2650385976033278, 0.11457484275501711, 0.04773564833075947, 0.09403706851744839, -0.4289077987686071, -0.5597587312572937, -1.2882195293612906, -0.8477173688407432, 0.25978895310054684, -0.22329514639862094]))), 1.0e-6), MapComponent(20, 10, 6, IntegratedFunction(20, 10, 6, Rectifier(\"softplus\"), ParametricFunction(ExpandedFunction(20, 10, 6, MultiBasis(Basis of 20 functions: Constant -> 18th degree Probabilistic Hermite function\n",
       ", 6), [0 0 … 0 0; 0 0 … 0 1; … ; 0 0 … 0 5; 0 0 … 0 0], [1.131228106917131, -4.156370888596706, -0.6509457928936465, -2.098021385634893, -2.4144711650457684, 2.228760110773417, -0.11673278294134948, 0.768361889405131, -0.514972043649839, 0.3826045480368116]))), 1.0e-6), MapComponent(20, 10, 7, IntegratedFunction(20, 10, 7, Rectifier(\"softplus\"), ParametricFunction(ExpandedFunction(20, 10, 7, MultiBasis(Basis of 20 functions: Constant -> 18th degree Probabilistic Hermite function\n",
       ", 7), [0 0 … 0 1; 0 0 … 0 2; … ; 0 0 … 0 0; 1 0 … 0 0], [1.636378048922625, -0.12146338795063055, 0.6070048641536269, -1.1906579365886247, -1.424535535258486, -0.1720827534898907, 0.4722549884146497, 0.48575841685251586, -0.4188520937317149, -0.3181396442315178]))), 1.0e-6), MapComponent(20, 10, 8, IntegratedFunction(20, 10, 8, Rectifier(\"softplus\"), ParametricFunction(ExpandedFunction(20, 10, 8, MultiBasis(Basis of 20 functions: Constant -> 18th degree Probabilistic Hermite function\n",
       ", 8), [0 0 … 1 0; 0 0 … 0 1; … ; 0 4 … 0 0; 0 5 … 0 0], [-0.4615328877497904, -1.638143595906617, -0.18211140651427163, 2.3158305172575258, -0.57235338322133, 2.163372413282528, -0.8770209544912619, -1.9050539420367611, -0.38297747293111756, 0.9382564615344994]))), 1.0e-6), MapComponent(20, 10, 9, IntegratedFunction(20, 10, 9, Rectifier(\"softplus\"), ParametricFunction(ExpandedFunction(20, 10, 9, MultiBasis(Basis of 20 functions: Constant -> 18th degree Probabilistic Hermite function\n",
       ", 9), [0 0 … 0 0; 0 1 … 0 0; … ; 0 0 … 0 0; 0 0 … 0 0], [-0.3258933897827206, 1.08325763754701, 0.2211149290965468, -0.5926962957095232, 1.1879685577890076, 0.42715761588599727, 0.4525688411989051, 0.4739282024687405, -0.384052527661281, 0.27699072758236304]))), 1.0e-6), MapComponent(20, 10, 10, IntegratedFunction(20, 10, 10, Rectifier(\"softplus\"), ParametricFunction(ExpandedFunction(20, 10, 10, MultiBasis(Basis of 20 functions: Constant -> 18th degree Probabilistic Hermite function\n",
       ", 10), [0 0 … 0 0; 0 0 … 0 0; … ; 0 2 … 0 0; 0 3 … 0 0], [0.6412828561395123, -0.8580472116764618, 0.08363629456717886, -0.45918746622162454, -0.4401078934020721, 0.1384877965031837, -0.26506567652542495, 0.7856303391638004, 0.17072850523887512, 0.5897041447292121]))), 1.0e-6), MapComponent(20, 10, 11, IntegratedFunction(20, 10, 11, Rectifier(\"softplus\"), ParametricFunction(ExpandedFunction(20, 10, 11, MultiBasis(Basis of 20 functions: Constant -> 18th degree Probabilistic Hermite function\n",
       ", 11), [0 0 … 0 0; 0 0 … 0 0; … ; 0 0 … 0 0; 0 0 … 0 0], [0.49650310090014005, -0.2919893364092076, -0.6597836619853163, -0.0032354659396704732, -0.15319099797137506, -0.3594096747567685, 0.41665312671876864, 0.21574987626177738, -0.254810824861435, 0.3297206247733607]))), 1.0e-6), MapComponent(20, 10, 12, IntegratedFunction(20, 10, 12, Rectifier(\"softplus\"), ParametricFunction(ExpandedFunction(20, 10, 12, MultiBasis(Basis of 20 functions: Constant -> 18th degree Probabilistic Hermite function\n",
       ", 12), [0 0 … 0 0; 0 0 … 0 0; … ; 0 0 … 0 0; 0 0 … 0 0], [-0.5848948906766651, -0.2518814813671173, 0.5752394078195896, 0.23761693870209333, 0.6002693197184485, -0.2782929030168781, -0.515659103589661, -0.4335951147211325, 0.33576432622455965, -0.3045358508231748]))), 1.0e-6), MapComponent(20, 10, 13, IntegratedFunction(20, 10, 13, Rectifier(\"softplus\"), ParametricFunction(ExpandedFunction(20, 10, 13, MultiBasis(Basis of 20 functions: Constant -> 18th degree Probabilistic Hermite function\n",
       ", 13), [0 1 … 0 0; 0 0 … 0 0; … ; 0 0 … 0 4; 3 0 … 0 0], [-0.5462587484016227, 0.9988764577320767, 0.10915082983197913, -3.2604279308245774, -0.5350459231060104, 2.880934505072269, 0.15198160243003822, -1.059763359650409, -2.0821808969766447, 1.1671880757236812]))), 1.0e-6), MapComponent(20, 10, 14, IntegratedFunction(20, 10, 14, Rectifier(\"softplus\"), ParametricFunction(ExpandedFunction(20, 10, 14, MultiBasis(Basis of 20 functions: Constant -> 18th degree Probabilistic Hermite function\n",
       ", 14), [0 0 … 1 0; 0 0 … 0 1; … ; 0 0 … 0 0; 0 0 … 0 0], [0.42230980895484016, -0.52000727026741, 1.6907440399941267, -0.35512064736401316, 0.23364088812983866, 0.3954634122919867, -0.16737800881487877, 0.404844814054084, -0.4292382052348662, -0.33837394223229694]))), 1.0e-6), MapComponent(20, 10, 15, IntegratedFunction(20, 10, 15, Rectifier(\"softplus\"), ParametricFunction(ExpandedFunction(20, 10, 15, MultiBasis(Basis of 20 functions: Constant -> 18th degree Probabilistic Hermite function\n",
       ", 15), [0 0 … 0 0; 0 0 … 0 1; … ; 0 0 … 0 0; 0 0 … 0 0], [2.495063807773895, -1.2385607403063237, 1.3265295905333745, -0.2428355526409222, -0.7790815828299841, 0.3115124363524533, -0.7763136831480234, 0.5233853359738933, -0.21514741567748613, 0.4765379473165471]))), 1.0e-6), MapComponent(20, 10, 16, IntegratedFunction(20, 10, 16, Rectifier(\"softplus\"), ParametricFunction(ExpandedFunction(20, 10, 16, MultiBasis(Basis of 20 functions: Constant -> 18th degree Probabilistic Hermite function\n",
       ", 16), [0 0 … 0 0; 0 0 … 0 0; … ; 0 0 … 0 0; 0 0 … 0 0], [-0.46715243359686487, 0.5937589143466468, 0.7255309229802472, 0.21465269521655744, -0.2650800673025151, -0.18368773460793658, -0.7071149227429467, -0.5520055397345727, -0.6485121916574399, -0.3569558667350366]))), 1.0e-6), MapComponent(20, 10, 17, IntegratedFunction(20, 10, 17, Rectifier(\"softplus\"), ParametricFunction(ExpandedFunction(20, 10, 17, MultiBasis(Basis of 20 functions: Constant -> 18th degree Probabilistic Hermite function\n",
       ", 17), [0 0 … 0 0; 0 0 … 0 0; … ; 0 0 … 0 0; 0 0 … 0 0], [0.3438377009424263, 0.3053409382269165, 0.6045155200954662, -0.41344242051794255, 0.4119549359874191, -0.14885679636721608, -0.3730563685524705, -0.10980379125996759, 0.3079286433722864, -0.08440648552288638]))), 1.0e-6), MapComponent(20, 10, 18, IntegratedFunction(20, 10, 18, Rectifier(\"softplus\"), ParametricFunction(ExpandedFunction(20, 10, 18, MultiBasis(Basis of 20 functions: Constant -> 18th degree Probabilistic Hermite function\n",
       ", 18), [0 0 … 0 1; 0 0 … 0 2; … ; 0 0 … 0 0; 0 0 … 0 0], [-1.9779337071637935, 2.0475544885259342, 0.934083322345026, -0.5418611878146705, 1.2889535973160586, -0.841951548901688, 0.7852084941960134, -0.657922051955239, 0.3026080100774344, 0.5747310516847197]))), 1.0e-6), MapComponent(20, 10, 19, IntegratedFunction(20, 10, 19, Rectifier(\"softplus\"), ParametricFunction(ExpandedFunction(20, 10, 19, MultiBasis(Basis of 20 functions: Constant -> 18th degree Probabilistic Hermite function\n",
       ", 19), [0 0 … 0 0; 0 0 … 1 0; … ; 0 0 … 0 0; 0 0 … 0 0], [-2.316366280898742, 0.6265749541002071, -0.07670743767160922, -0.30859679177753874, 0.44722480177005847, 0.5070785420316879, -0.6520780819773332, -0.6692060983967234, 0.4557016227923826, 0.14364066505915757]))), 1.0e-6), MapComponent(20, 10, 20, IntegratedFunction(20, 10, 20, Rectifier(\"softplus\"), ParametricFunction(ExpandedFunction(20, 10, 20, MultiBasis(Basis of 20 functions: Constant -> 18th degree Probabilistic Hermite function\n",
       ", 20), [0 0 … 0 0; 0 0 … 0 0; … ; 0 0 … 0 0; 0 0 … 0 0], [0.8468545560002936, -0.3725328291037048, -0.6985772943200638, -0.15621843304757072, -0.568518668876057, 0.5644289091120389, -0.32213312944497324, 0.07696271627141207, -0.417131303534864, 0.3351895067185656]))), 1.0e-6)])"
      ]
     },
     "execution_count": 87,
     "metadata": {},
     "output_type": "execute_result"
    }
   ],
   "source": [
    "@time optimize(M, X, 10; P = serial)"
   ]
  },
  {
   "cell_type": "code",
   "execution_count": 28,
   "metadata": {},
   "outputs": [
    {
     "data": {
      "text/plain": [
       "timing (generic function with 1 method)"
      ]
     },
     "execution_count": 28,
     "metadata": {},
     "output_type": "execute_result"
    }
   ],
   "source": [
    "function timing()\n",
    "    @btime begin \n",
    "        M = HermiteMap($m, $X)\n",
    "        optimize($M, $X, $10; P = serial)\n",
    "    end\n",
    "end"
   ]
  },
  {
   "cell_type": "code",
   "execution_count": 29,
   "metadata": {},
   "outputs": [
    {
     "name": "stdout",
     "output_type": "stream",
     "text": [
      "  973.450 ms (1054425 allocations: 1.43 GiB)\n"
     ]
    }
   ],
   "source": [
    "timing();"
   ]
  },
  {
   "cell_type": "code",
   "execution_count": 30,
   "metadata": {},
   "outputs": [
    {
     "data": {
      "text/plain": [
       "timing (generic function with 1 method)"
      ]
     },
     "execution_count": 30,
     "metadata": {},
     "output_type": "execute_result"
    }
   ],
   "source": [
    "function timing()\n",
    "    @btime begin \n",
    "        M = HermiteMap($m, $X)\n",
    "        optimize($M, $X, $10; P = thread)\n",
    "    end\n",
    "end"
   ]
  },
  {
   "cell_type": "code",
   "execution_count": 88,
   "metadata": {},
   "outputs": [
    {
     "name": "stdout",
     "output_type": "stream",
     "text": [
      "  297.730 ms (1000725 allocations: 1.35 GiB)\n"
     ]
    }
   ],
   "source": [
    "timing();"
   ]
  },
  {
   "cell_type": "code",
   "execution_count": 118,
   "metadata": {},
   "outputs": [
    {
     "name": "stdout",
     "output_type": "stream",
     "text": [
      "  0.000001 seconds (1 allocation: 208 bytes)\n",
      "\u001b[91m\u001b[1mTest Failed\u001b[22m\u001b[39m at \u001b[39m\u001b[1mIn[118]:22\u001b[22m\n",
      "  Expression: norm(Xprior - Xprior_thread) < 1.0e-8\n",
      "   Evaluated: 22.289195115787102 < 1.0e-8\n"
     ]
    },
    {
     "ename": "Test.FallbackTestSetException",
     "evalue": "There was an error during testing",
     "output_type": "error",
     "traceback": [
      "There was an error during testing",
      "",
      "Stacktrace:",
      " [1] record(::Test.FallbackTestSet, ::Union{Test.Error, Test.Fail}) at /buildworker/worker/package_linux64/build/usr/share/julia/stdlib/v1.5/Test/src/Test.jl:737",
      " [2] do_test(::Test.ExecutionResult, ::Any) at /buildworker/worker/package_linux64/build/usr/share/julia/stdlib/v1.5/Test/src/Test.jl:520",
      " [3] top-level scope at In[118]:21"
     ]
    }
   ],
   "source": [
    "# @testset \"Test inversion of the Hermite Map\" begin\n",
    "\n",
    "    Nx = 50\n",
    "    Ny = 20\n",
    "    m = 20\n",
    "    Ne = 500\n",
    "    Xprior = randn(Nx, Ne).*randn(Nx, Ne)\n",
    "    Xprior_thread = deepcopy(Xprior)\n",
    "    Xpost = deepcopy(Xprior) .+ 0.2*randn(Nx, Ne)\n",
    "\n",
    "    M = HermiteMap(m, Xprior; diag = true)\n",
    "    Ystar = deepcopy(Xpost[1:Ny,:])# + 0.05*randn(Ny,Ne);\n",
    "\n",
    "    M = HermiteMap(m, Xprior)\n",
    "    optimize(M, Xprior, 5; withconstant = false, start = Ny+1)\n",
    "\n",
    "    F = evaluate(M, Xpost; start = Ny+1)\n",
    "    inverse!(F, M, Xprior, Ystar; start = Ny+1, P = serial)\n",
    "\n",
    "    inverse!(F, M, Xprior_thread, Ystar; start = Ny+1, P = thread)\n",
    "\n",
    "    @test norm(Xprior - Xprior_thread)<1e-8\n",
    "\n",
    "    @test norm(evaluate(M, Xprior; start = Ny+1)-evaluate(M, Xpost; start = Ny+1))/norm(evaluate(M, Xpost; start = Ny+1))<1e-8\n",
    "\n",
    "    @test norm(Xprior[Ny+1:end,:] - Xpost[Ny+1:end,:])/norm(Xpost[Ny+1:end,:])<1e-8\n",
    "# end"
   ]
  },
  {
   "cell_type": "code",
   "execution_count": 119,
   "metadata": {},
   "outputs": [
    {
     "data": {
      "text/plain": [
       "50×500 Array{Float64,2}:\n",
       " -0.078502     0.324462    0.936004   …  -0.450302   -2.31333\n",
       " -0.171019     1.17809    -0.185392       0.0602692  -1.20097\n",
       " -1.29727      0.612046    4.66302       -0.019651   -0.940273\n",
       "  0.657376     0.125466   -0.629778       1.69212     0.216574\n",
       "  0.443962    -0.0327877   0.286606       3.48325     1.79368\n",
       "  4.21507      0.137973   -0.168136   …  -0.392907   -0.0498037\n",
       " -1.93143     -0.431774   -0.729711       0.0891769  -2.31571\n",
       " -0.275619    -1.97767     0.344649       1.82559     0.581243\n",
       " -0.132816     0.0393465   3.82573        0.187089    0.605982\n",
       "  0.636026     0.215633   -1.53364       -0.043997    0.803863\n",
       " -0.454117     1.24044     0.212226   …   0.930079   -0.00264196\n",
       " -0.404232     0.400938    0.180427      -0.0598841  -0.015303\n",
       "  0.104326    -0.0533569  -0.310413       0.368739    0.180631\n",
       "  ⋮                                   ⋱              \n",
       "  0.2157       0.976283    1.33829        0.560527    0.270111\n",
       "  1.70194     -0.215206    0.161297      -5.39154     0.142695\n",
       "  0.60932      0.588511   -0.0703088  …   0.120499   -1.34975\n",
       " -0.0889752    0.0435568   0.326205       0.454307   -0.729204\n",
       "  0.502652    -0.692205   -3.41976        0.266897    0.179838\n",
       "  1.52943      0.255096   -0.988399      -1.77701     0.142863\n",
       "  0.180513    -0.763187   -0.510487       0.643678   -0.163245\n",
       "  0.605287     1.25853     0.111492   …  -0.827383    0.4272\n",
       "  0.920455     1.28984    -0.543851       0.414465   -0.225363\n",
       "  0.507548     0.291535   -0.479298       2.74386     0.215121\n",
       " -0.00144805  -3.03045    -0.32901        0.288035   -0.0968816\n",
       " -0.887967    -2.12217    -0.0305305      0.318568   -1.17335"
      ]
     },
     "execution_count": 119,
     "metadata": {},
     "output_type": "execute_result"
    }
   ],
   "source": [
    "Xprior"
   ]
  },
  {
   "cell_type": "code",
   "execution_count": 121,
   "metadata": {},
   "outputs": [
    {
     "data": {
      "text/plain": [
       "50×500 Array{Float64,2}:\n",
       " -0.078502    0.324462     0.936004   -0.201444   …  -0.450302   -2.31333\n",
       " -0.171019    1.17809     -0.185392    0.0164561      0.0602692  -1.20097\n",
       " -1.29727     0.612046     4.66302    -0.581911      -0.019651   -0.940273\n",
       "  0.657376    0.125466    -0.629778   -0.70921        1.69212     0.216574\n",
       "  0.443962   -0.0327877    0.286606   -0.118804       3.48325     1.79368\n",
       "  4.21507     0.137973    -0.168136    1.65218    …  -0.392907   -0.0498037\n",
       " -1.93143    -0.431774    -0.729711    0.57885        0.0891769  -2.31571\n",
       " -0.275619   -1.97767      0.344649   -0.257833       1.82559     0.581243\n",
       " -0.132816    0.0393465    3.82573    -0.6159         0.187089    0.605982\n",
       "  0.636026    0.215633    -1.53364     1.52166       -0.043997    0.803863\n",
       " -0.454117    1.24044      0.212226    0.390823   …   0.930079   -0.00264196\n",
       " -0.404232    0.400938     0.180427    0.180604      -0.0598841  -0.015303\n",
       "  0.104326   -0.0533569   -0.310413    0.1665         0.368739    0.180631\n",
       "  ⋮                                               ⋱              \n",
       "  0.354095    0.903015     1.47955    -0.494393       0.39088     0.424539\n",
       "  1.71211    -0.58958      0.592345    0.228976      -5.66596     0.159036\n",
       "  1.157       1.10872      0.0502202  -0.297444   …  -0.0564018  -1.42179\n",
       "  0.0704414   0.0903828    0.637316    0.448378       0.586381   -0.682372\n",
       "  0.429618   -0.741916    -3.78526    -0.342737       0.176677    0.0013314\n",
       "  1.76002    -0.00729482  -0.945056    0.650486      -2.03295     0.0078153\n",
       "  0.0787889  -0.461692    -0.488392    0.351162       0.0785749  -0.407196\n",
       "  0.916381    1.32236      0.252503    1.04874    …  -0.956818    0.933633\n",
       "  0.906163    1.27456     -0.883769    0.536282       0.411433   -0.266007\n",
       "  0.679204    0.408717    -0.502803   -0.198522       2.87708     0.0280434\n",
       " -0.0964038  -3.0862      -0.335528   -0.219242       0.295187    0.0671032\n",
       " -1.23513    -2.4267      -0.127305   -0.060339       0.242457   -1.56412"
      ]
     },
     "execution_count": 121,
     "metadata": {},
     "output_type": "execute_result"
    }
   ],
   "source": [
    "Xprior_thread"
   ]
  },
  {
   "cell_type": "markdown",
   "metadata": {},
   "source": [
    "### Conditional sampling"
   ]
  },
  {
   "cell_type": "code",
   "execution_count": 105,
   "metadata": {},
   "outputs": [],
   "source": [
    "Nx = 100\n",
    "Ny = 50\n",
    "m = 20\n",
    "Ne = 500\n",
    "Xprior = randn(Nx, Ne).*randn(Nx, Ne);\n",
    "Xpost = deepcopy(Xprior) .+ 0.2*randn(Nx, Ne);"
   ]
  },
  {
   "cell_type": "code",
   "execution_count": 106,
   "metadata": {},
   "outputs": [
    {
     "data": {
      "text/plain": [
       "MapComponent(20, 1, 5, IntegratedFunction(20, 1, 5, Rectifier(\"softplus\"), ParametricFunction(ExpandedFunction(20, 1, 5, MultiBasis(Basis of 20 functions: Constant -> 18th degree Probabilistic Hermite function\n",
       ", 5), [0 0 … 0 0], [0.0]))), 1.0e-6)"
      ]
     },
     "execution_count": 106,
     "metadata": {},
     "output_type": "execute_result"
    }
   ],
   "source": [
    "C = MapComponent(m, 5)"
   ]
  },
  {
   "cell_type": "code",
   "execution_count": 107,
   "metadata": {},
   "outputs": [],
   "source": [
    "M = HermiteMap(m, Xprior; diag = true);"
   ]
  },
  {
   "cell_type": "code",
   "execution_count": 108,
   "metadata": {},
   "outputs": [],
   "source": [
    "Ystar = deepcopy(Xpost[1:Ny,:])# + 0.05*randn(Ny,Ne);"
   ]
  },
  {
   "cell_type": "code",
   "execution_count": 109,
   "metadata": {},
   "outputs": [
    {
     "name": "stdout",
     "output_type": "stream",
     "text": [
      "  0.000124 seconds (140 allocations: 85.875 KiB)\n",
      "  5.008183 seconds (28.98 M allocations: 7.403 GiB, 6.55% gc time)\n"
     ]
    }
   ],
   "source": [
    "@time M = HermiteMap(m, Xprior);\n",
    "@time optimize(M, Xprior, 5; withconstant = false, start = Ny+1);"
   ]
  },
  {
   "cell_type": "code",
   "execution_count": 110,
   "metadata": {},
   "outputs": [
    {
     "data": {
      "text/plain": [
       "100×500 Array{Float64,2}:\n",
       "  0.0         0.0         0.0        …   0.0         0.0         0.0\n",
       "  0.0         0.0         0.0            0.0         0.0         0.0\n",
       "  0.0         0.0         0.0            0.0         0.0         0.0\n",
       "  0.0         0.0         0.0            0.0         0.0         0.0\n",
       "  0.0         0.0         0.0            0.0         0.0         0.0\n",
       "  0.0         0.0         0.0        …   0.0         0.0         0.0\n",
       "  0.0         0.0         0.0            0.0         0.0         0.0\n",
       "  0.0         0.0         0.0            0.0         0.0         0.0\n",
       "  0.0         0.0         0.0            0.0         0.0         0.0\n",
       "  0.0         0.0         0.0            0.0         0.0         0.0\n",
       "  0.0         0.0         0.0        …   0.0         0.0         0.0\n",
       "  0.0         0.0         0.0            0.0         0.0         0.0\n",
       "  0.0         0.0         0.0            0.0         0.0         0.0\n",
       "  ⋮                                  ⋱                          \n",
       " -0.917402   -4.33599    -1.08634        0.0852857  -1.88204    -1.64754\n",
       "  0.865557    1.80089     0.181182      -0.76274     1.51891     1.48671\n",
       "  0.271044   -0.147137    0.320698   …  -0.0324068  -0.358551   -0.0563879\n",
       " -0.0390055  -0.234274    0.0163153      0.81646     0.344444   -0.560699\n",
       " -0.722811    0.0385801   0.77153       -1.1469     -0.0282748   1.66145\n",
       "  0.257348   -0.23216    -0.449015      -0.426069   -0.842316    0.544719\n",
       "  0.895697    0.378422   -0.129167       0.0309591  -0.897578    5.75088\n",
       "  0.107606    3.03129     0.529729   …   3.85153     0.89676    -0.164583\n",
       "  1.35937    -0.338882    0.368767      -0.769127    0.693703    1.1761\n",
       "  0.775416    0.253923   -0.442387      -0.587496    0.80864    -1.32734\n",
       " -0.573932    2.34611     0.596124      -1.22228     0.180985   -0.174506\n",
       "  0.379482   -0.305691    1.37419        0.0491633   0.228298    0.793673"
      ]
     },
     "execution_count": 110,
     "metadata": {},
     "output_type": "execute_result"
    }
   ],
   "source": [
    "F = evaluate(M, Xpost; start = Ny+1)"
   ]
  },
  {
   "cell_type": "code",
   "execution_count": 112,
   "metadata": {},
   "outputs": [
    {
     "name": "stdout",
     "output_type": "stream",
     "text": [
      "  0.019538 seconds (18.26 k allocations: 53.562 MiB)\n"
     ]
    },
    {
     "data": {
      "text/plain": [
       "100×500 Array{Float64,2}:\n",
       "  0.242942   -0.674307   -2.74656    …   0.804218   -0.322983   -0.737133\n",
       " -1.70831     0.873537    2.29053       -0.220672   -0.0823247  -0.225677\n",
       "  0.298471    1.1673      0.700805      -0.160532    0.610503   -0.0360396\n",
       "  0.614658   -0.204075    0.0455509      0.145654   -0.0622255  -0.233393\n",
       "  0.546884   -0.318872   -0.637745      -0.331167    0.0397091   0.189973\n",
       " -0.0760382   0.56365    -1.26322    …  -0.125108   -0.360726    0.195504\n",
       "  1.01948     1.07219    -0.179903      -0.488727   -1.23702     0.0724941\n",
       " -0.358755    0.0883633   1.16126       -0.652528   -0.208091    1.48382\n",
       " -0.786095    0.0936246   0.417011       0.0718973   1.54053    -0.58896\n",
       "  0.177832    0.0564213  -0.496262       1.01934    -1.48383    -1.80039\n",
       " -0.85691     0.268713   -0.074365   …   0.329593   -1.08626     0.757449\n",
       "  0.129498   -0.694808    0.142626       0.0568646  -0.351805    0.211033\n",
       "  0.244564   -0.150814    0.379639      -1.54175    -0.706603    0.254943\n",
       "  ⋮                                  ⋱                          \n",
       " -0.815006   -4.74472    -0.196554       0.0525506  -2.02971    -1.64804\n",
       "  0.905709    1.47681    -0.333363      -0.357919    1.59576     1.4942\n",
       "  0.309114    0.268976    0.682241   …   0.0936607  -0.035055    0.197476\n",
       " -0.540412   -0.634353   -0.122761       0.599949   -0.476428   -0.0756941\n",
       " -1.36924     0.0868926  -0.494467      -1.00156    -0.380771    1.66809\n",
       "  0.530906   -0.017769   -0.623475      -0.765131   -0.872555    0.897711\n",
       "  0.245816   -0.0205651  -0.0527872     -0.257219   -0.534096    5.96794\n",
       "  0.546037    2.17284     0.454671   …   3.28856     0.32534     0.505932\n",
       "  1.29471     0.122757    0.431371      -0.32146     1.26447     1.21945\n",
       "  0.946311    0.754212   -0.489327       0.146534    0.476899   -2.20462\n",
       " -0.734725    2.60732     0.451533      -1.01062    -1.09968    -0.261013\n",
       "  0.0727453  -0.57244     1.78425       -0.312083    0.296142    0.609965"
      ]
     },
     "execution_count": 112,
     "metadata": {},
     "output_type": "execute_result"
    }
   ],
   "source": [
    "@time inverse!(F, M, Xprior, Ystar; start = Ny+1, P = serial)"
   ]
  },
  {
   "cell_type": "code",
   "execution_count": 115,
   "metadata": {},
   "outputs": [
    {
     "name": "stdout",
     "output_type": "stream",
     "text": [
      "  0.000001 seconds (1 allocation: 208 bytes)\n",
      "  0.036494 seconds (137.49 k allocations: 60.790 MiB)\n"
     ]
    },
    {
     "data": {
      "text/plain": [
       "100×500 Array{Float64,2}:\n",
       "  0.242942   -0.674307   -2.74656    …   0.804218   -0.322983   -0.737133\n",
       " -1.70831     0.873537    2.29053       -0.220672   -0.0823247  -0.225677\n",
       "  0.298471    1.1673      0.700805      -0.160532    0.610503   -0.0360396\n",
       "  0.614658   -0.204075    0.0455509      0.145654   -0.0622255  -0.233393\n",
       "  0.546884   -0.318872   -0.637745      -0.331167    0.0397091   0.189973\n",
       " -0.0760382   0.56365    -1.26322    …  -0.125108   -0.360726    0.195504\n",
       "  1.01948     1.07219    -0.179903      -0.488727   -1.23702     0.0724941\n",
       " -0.358755    0.0883633   1.16126       -0.652528   -0.208091    1.48382\n",
       " -0.786095    0.0936246   0.417011       0.0718973   1.54053    -0.58896\n",
       "  0.177832    0.0564213  -0.496262       1.01934    -1.48383    -1.80039\n",
       " -0.85691     0.268713   -0.074365   …   0.329593   -1.08626     0.757449\n",
       "  0.129498   -0.694808    0.142626       0.0568646  -0.351805    0.211033\n",
       "  0.244564   -0.150814    0.379639      -1.54175    -0.706603    0.254943\n",
       "  ⋮                                  ⋱                          \n",
       " -0.836778   -4.66869     0.770538       0.184549   -2.27569    -1.77396\n",
       "  1.01021     0.510613   -1.20775       -0.432009    1.88283     1.75345\n",
       "  0.767392    0.788384    1.38575    …   0.539396    0.111418    1.18891\n",
       " -1.34961    -1.28402    -0.390607       0.185017   -1.77965     0.61489\n",
       " -2.28481    -0.0641638  -1.91469       -0.610987   -1.1216      1.76647\n",
       "  1.44967     0.681608   -0.155923      -1.32022    -0.648581    1.49193\n",
       " -0.78908    -0.829277    0.0429906     -0.646702   -0.042402    6.4182\n",
       "  1.6338      2.46251     0.932359   …   4.49048     0.131893    1.84249\n",
       "  1.39171     1.11813     0.275649       0.990669    1.97599     0.935581\n",
       "  0.884713    0.857464   -0.441304       0.911126    0.332746   -3.45795\n",
       " -0.388886    4.0387      0.269671      -0.972016   -2.97746    -0.520703\n",
       "  0.0147444  -0.869462    2.63557       -0.729135    0.434003    0.794129"
      ]
     },
     "execution_count": 115,
     "metadata": {},
     "output_type": "execute_result"
    }
   ],
   "source": [
    "@time inverse!(F, M, Xprior, Ystar; start = Ny+1, P = thread)"
   ]
  },
  {
   "cell_type": "code",
   "execution_count": 101,
   "metadata": {},
   "outputs": [
    {
     "data": {
      "text/plain": [
       "100×500 Array{Float64,2}:\n",
       "  0.0120299  -0.457793   -0.814992    …  -0.886963    -0.493031    3.06118\n",
       " -0.48832     0.199365   -0.28381         0.00341344  -0.310902   -2.90599\n",
       "  0.312277    0.432184    0.514434        0.673719    -0.437795   -0.489876\n",
       "  0.697451    0.187943    0.81117         0.034535     1.36286     0.612952\n",
       "  0.815565   -0.783322   -1.3412          0.336289     0.135055    1.33254\n",
       "  0.0498835   0.298793   -0.83403     …  -0.123133     0.210321    0.700186\n",
       "  0.332829   -0.526824    0.915144        0.814047    -1.53397    -0.409846\n",
       " -0.347906   -0.166963   -0.461278        1.99173      0.0767384  -1.73049\n",
       " -0.215118   -0.70569    -0.101395       -1.079        1.612      -0.0838957\n",
       "  0.463558    0.398111    0.946535        1.32585     -0.171809    0.182499\n",
       "  0.878665   -0.626965    0.0375154   …  -0.0506685    1.83219     0.116359\n",
       "  1.25871     1.14095    -0.555502       -1.01995     -2.73047    -0.207843\n",
       " -0.550401    0.628096   -0.234428        0.553723     0.411383   -0.482443\n",
       "  ⋮                                   ⋱                           \n",
       "  0.387936    0.444783    0.036428        0.892723    -1.66741     0.288734\n",
       "  0.453498    0.522522    0.420492       -0.377026     0.671279    0.208501\n",
       "  1.83957    -0.124059   -0.160068    …   0.30722     -0.0482976  -0.0336367\n",
       "  1.25204     0.372528   -1.43068         0.924857    -1.16467     0.148612\n",
       "  1.1771     -0.352838    0.160954       -0.233752    -1.0108     -0.158091\n",
       "  0.690626    0.353963    1.88373         0.455374     0.0265746  -1.89052\n",
       " -0.222325   -1.09534     0.125215        0.589229     0.520911   -0.380989\n",
       " -1.40173    -0.920736   -0.00571558  …  -0.276556    -0.435435   -1.923\n",
       "  0.327594   -0.0667594  -0.373235       -0.0820146    0.604855    0.266149\n",
       "  0.546205    0.0158342   0.183919       -1.10249     -1.30839    -0.564288\n",
       " -0.821055    0.166364   -0.717539        0.079049    -0.60184     1.59192\n",
       "  2.32814    -0.0870647   0.231206       -2.54156     -2.33257     0.420332"
      ]
     },
     "execution_count": 101,
     "metadata": {},
     "output_type": "execute_result"
    }
   ],
   "source": [
    "evaluate(M, Xpost)"
   ]
  },
  {
   "cell_type": "code",
   "execution_count": 102,
   "metadata": {},
   "outputs": [
    {
     "data": {
      "text/plain": [
       "1.6026660813971276e-14"
      ]
     },
     "execution_count": 102,
     "metadata": {},
     "output_type": "execute_result"
    }
   ],
   "source": [
    "100*norm(evaluate(M, Xprior; start = Ny+1)-evaluate(M, Xpost; start = Ny+1))/norm(evaluate(M, Xpost; start = Ny+1))"
   ]
  },
  {
   "cell_type": "code",
   "execution_count": 103,
   "metadata": {},
   "outputs": [
    {
     "data": {
      "text/plain": [
       "2.130522789901884e-14"
      ]
     },
     "execution_count": 103,
     "metadata": {},
     "output_type": "execute_result"
    }
   ],
   "source": [
    "100*norm(Xprior[Ny+1:end,:] - Xpost[Ny+1:end,:])/norm(Xpost[Ny+1:end,:])"
   ]
  },
  {
   "cell_type": "code",
   "execution_count": 104,
   "metadata": {},
   "outputs": [
    {
     "data": {
      "text/plain": [
       "8"
      ]
     },
     "execution_count": 104,
     "metadata": {},
     "output_type": "execute_result"
    }
   ],
   "source": [
    "Threads.nthreads()"
   ]
  },
  {
   "cell_type": "code",
   "execution_count": 151,
   "metadata": {},
   "outputs": [
    {
     "data": {
      "text/latex": [
       "\\begin{verbatim}\n",
       "partition(collection, n)\n",
       "\\end{verbatim}\n",
       "Iterate over a collection \\texttt{n} elements at a time.\n",
       "\n",
       "\\section{Examples}\n",
       "\\begin{verbatim}\n",
       "julia> collect(Iterators.partition([1,2,3,4,5], 2))\n",
       "3-element Array{SubArray{Int64,1,Array{Int64,1},Tuple{UnitRange{Int64}},true},1}:\n",
       " [1, 2]\n",
       " [3, 4]\n",
       " [5]\n",
       "\\end{verbatim}\n"
      ],
      "text/markdown": [
       "```\n",
       "partition(collection, n)\n",
       "```\n",
       "\n",
       "Iterate over a collection `n` elements at a time.\n",
       "\n",
       "# Examples\n",
       "\n",
       "```jldoctest\n",
       "julia> collect(Iterators.partition([1,2,3,4,5], 2))\n",
       "3-element Array{SubArray{Int64,1,Array{Int64,1},Tuple{UnitRange{Int64}},true},1}:\n",
       " [1, 2]\n",
       " [3, 4]\n",
       " [5]\n",
       "```\n"
      ],
      "text/plain": [
       "\u001b[36m  partition(collection, n)\u001b[39m\n",
       "\n",
       "  Iterate over a collection \u001b[36mn\u001b[39m elements at a time.\n",
       "\n",
       "\u001b[1m  Examples\u001b[22m\n",
       "\u001b[1m  ≡≡≡≡≡≡≡≡≡≡\u001b[22m\n",
       "\n",
       "\u001b[36m  julia> collect(Iterators.partition([1,2,3,4,5], 2))\u001b[39m\n",
       "\u001b[36m  3-element Array{SubArray{Int64,1,Array{Int64,1},Tuple{UnitRange{Int64}},true},1}:\u001b[39m\n",
       "\u001b[36m   [1, 2]\u001b[39m\n",
       "\u001b[36m   [3, 4]\u001b[39m\n",
       "\u001b[36m   [5]\u001b[39m"
      ]
     },
     "execution_count": 151,
     "metadata": {},
     "output_type": "execute_result"
    }
   ],
   "source": [
    "?Iterators.partition"
   ]
  },
  {
   "cell_type": "code",
   "execution_count": 149,
   "metadata": {},
   "outputs": [
    {
     "data": {
      "text/plain": [
       "Base.Iterators.PartitionIterator{UnitRange{Int64}}(1:15, 2)"
      ]
     },
     "execution_count": 149,
     "metadata": {},
     "output_type": "execute_result"
    }
   ],
   "source": [
    "Iterators.partition(1:15,2)"
   ]
  },
  {
   "cell_type": "code",
   "execution_count": 150,
   "metadata": {},
   "outputs": [
    {
     "ename": "MethodError",
     "evalue": "MethodError: no method matching range(::Int64; stop=13, count=5)\nClosest candidates are:\n  range(::Any; length, stop, step) at range.jl:91 got unsupported keyword argument \"count\"\n  range(::Any, !Matched::Any; length, step) at range.jl:94 got unsupported keyword arguments \"stop\", \"count\"\n  range(!Matched::LaurentPolynomial) at /home/mat/.julia/packages/Polynomials/ZmARV/src/polynomials/LaurentPolynomial.jl:144 got unsupported keyword arguments \"stop\", \"count\"\n  ...",
     "output_type": "error",
     "traceback": [
      "MethodError: no method matching range(::Int64; stop=13, count=5)\nClosest candidates are:\n  range(::Any; length, stop, step) at range.jl:91 got unsupported keyword argument \"count\"\n  range(::Any, !Matched::Any; length, step) at range.jl:94 got unsupported keyword arguments \"stop\", \"count\"\n  range(!Matched::LaurentPolynomial) at /home/mat/.julia/packages/Polynomials/ZmARV/src/polynomials/LaurentPolynomial.jl:144 got unsupported keyword arguments \"stop\", \"count\"\n  ...",
      "",
      "Stacktrace:",
      " [1] kwerr(::NamedTuple{(:stop, :count),Tuple{Int64,Int64}}, ::Function, ::Int64) at ./error.jl:157",
      " [2] top-level scope at In[150]:1"
     ]
    }
   ],
   "source": [
    "parititionPoints = range(1, stop=13, count=5)"
   ]
  },
  {
   "cell_type": "code",
   "execution_count": null,
   "metadata": {},
   "outputs": [],
   "source": []
  }
 ],
 "metadata": {
  "kernelspec": {
   "display_name": "Julia 1.5.0",
   "language": "julia",
   "name": "julia-1.5"
  },
  "language_info": {
   "file_extension": ".jl",
   "mimetype": "application/julia",
   "name": "julia",
   "version": "1.5.0"
  }
 },
 "nbformat": 4,
 "nbformat_minor": 2
}
