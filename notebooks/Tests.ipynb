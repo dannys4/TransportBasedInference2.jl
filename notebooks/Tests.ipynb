{
 "cells": [
  {
   "cell_type": "code",
   "execution_count": 1,
   "metadata": {},
   "outputs": [
    {
     "name": "stderr",
     "output_type": "stream",
     "text": [
      "\u001b[32m\u001b[1m Activating\u001b[22m\u001b[39m environment at `/media/mat/HDD/AdaptiveTransportMap/Project.toml`\n"
     ]
    }
   ],
   "source": [
    "using Pkg\n",
    "Pkg.activate(\"/media/mat/HDD/AdaptiveTransportMap/\")"
   ]
  },
  {
   "cell_type": "code",
   "execution_count": 2,
   "metadata": {
    "scrolled": false
   },
   "outputs": [
    {
     "name": "stderr",
     "output_type": "stream",
     "text": [
      "Gtk-Message: 18:01:16.087: Failed to load module \"canberra-gtk-module\"\n",
      "Gtk-Message: 18:01:16.087: Failed to load module \"canberra-gtk-module\"\n"
     ]
    }
   ],
   "source": [
    "using Revise\n",
    "using AdaptiveTransportMap\n",
    "using LinearAlgebra\n",
    "import LinearAlgebra: ldiv!, dot\n",
    "using Test\n",
    "using ForwardDiff\n",
    "using SpecialFunctions\n",
    "using BenchmarkTools\n",
    "using TransportMap\n",
    "using QuadGK\n",
    "using Polynomials\n",
    "using Distributions\n",
    "using Random\n",
    "using LoopVectorization\n",
    "using Optim\n",
    "using NLsolve\n",
    "using MLDataUtils\n",
    "using Test\n",
    "using SparseArrays\n",
    "using AdaptiveTransportMap: vander, transform!, evaluate, ncoeff, optimize, negative_log_likelihood!, derivative\n",
    "\n",
    "# using Profile\n",
    "using ProfileView"
   ]
  },
  {
   "cell_type": "code",
   "execution_count": 52,
   "metadata": {},
   "outputs": [
    {
     "data": {
      "text/plain": [
       "10"
      ]
     },
     "execution_count": 52,
     "metadata": {},
     "output_type": "execute_result"
    }
   ],
   "source": [
    "Threads.nthreads()"
   ]
  },
  {
   "cell_type": "markdown",
   "metadata": {},
   "source": [
    "### Integration"
   ]
  },
  {
   "cell_type": "code",
   "execution_count": 101,
   "metadata": {},
   "outputs": [],
   "source": [
    "Nx = 20\n",
    "Ny = 1\n",
    "m = 20\n",
    "Ne = 300\n",
    "X = randn(Nx, Ne)#.*randn(Nx, Ne)# .+ 0.5*randn(Nx).*cos.(randn(Nx, Ne) .* randn(Nx, Ne))\n",
    "\n",
    "# L = LinearTransform(X)\n",
    "# transform!(L, X);\n",
    "# C = MapComponent(m, Nx)\n",
    "# @time C, _ = optimize(C, X, 10)"
   ]
  },
  {
   "cell_type": "code",
   "execution_count": 102,
   "metadata": {},
   "outputs": [],
   "source": [
    "M = HermiteMap(m, X);"
   ]
  },
  {
   "cell_type": "code",
   "execution_count": 103,
   "metadata": {},
   "outputs": [
    {
     "name": "stdout",
     "output_type": "stream",
     "text": [
      "  0.273911 seconds (913.47 k allocations: 1.021 GiB, 15.11% gc time)\n"
     ]
    },
    {
     "data": {
      "text/plain": [
       "HermiteMap(20, 20, LinearTransform(20, [-0.030340845081385105, -0.10480883822764896, -0.028334876990154134, 0.02413089298080643, -0.00667643985356715, 0.0516496425054286, -0.010447476384176747, 0.044235332639566784, 0.04067484086399342, -0.04458273843783829, -0.05165293554909299, -0.03903780137407225, -0.06646898110229327, 0.02789760737486254, -0.024947215991804154, -0.003173639900249363, 0.02610957064428385, -0.0031691028574343423, 0.07825489800067868, 0.05882955933979587], [0.9801933594913597 0.0 … 0.0 0.0; 0.0 1.0068487434976525 … 0.0 0.0; … ; 0.0 0.0 … 0.941047919064053 0.0; 0.0 0.0 … 0.0 1.0018322441332745], true), MapComponent[MapComponent(20, 10, 1, IntegratedFunction(20, 10, 1, Rectifier(\"softplus\"), ParametricFunction(ExpandedFunction(20, 10, 1, MultiBasis(Basis of 20 functions: Constant -> 18th degree Probabilistic Hermite function\n",
       ", 1), [1; 2; … ; 9; 10], [-0.0773109230779905, 0.6538513421737511, -0.9141798617940071, 3.2985210102365827, -2.7064061841905502, 6.7441852260521955, -3.1467977179601827, 6.417518666324312, -1.3047307817125835, 2.085982299996316]))), 1.0e-6), MapComponent(20, 10, 2, IntegratedFunction(20, 10, 2, Rectifier(\"softplus\"), ParametricFunction(ExpandedFunction(20, 10, 2, MultiBasis(Basis of 20 functions: Constant -> 18th degree Probabilistic Hermite function\n",
       ", 2), [0 1; 1 0; … ; 0 7; 0 8], [0.1067261956144245, -0.2526937501838965, 0.19439956020087462, 0.20658840416358257, -0.3645436039670053, 0.687976649653921, -0.5231289908777682, 0.8365025177478478, -0.4094399329229497, 0.5302758216038037]))), 1.0e-6), MapComponent(20, 10, 3, IntegratedFunction(20, 10, 3, Rectifier(\"softplus\"), ParametricFunction(ExpandedFunction(20, 10, 3, MultiBasis(Basis of 20 functions: Constant -> 18th degree Probabilistic Hermite function\n",
       ", 3), [1 0 0; 2 0 0; … ; 0 4 0; 0 0 1], [0.7167439793839775, 0.10890419421210783, -0.009301979895785174, 0.07496687977488023, -0.1151599311378688, -0.9104513190576744, 0.23222489331191665, -0.5444595710800798, 0.10111506406997396, 0.06704900015604134]))), 1.0e-6), MapComponent(20, 10, 4, IntegratedFunction(20, 10, 4, Rectifier(\"softplus\"), ParametricFunction(ExpandedFunction(20, 10, 4, MultiBasis(Basis of 20 functions: Constant -> 18th degree Probabilistic Hermite function\n",
       ", 4), [0 0 1 0; 1 0 0 0; … ; 0 0 5 0; 3 0 0 0], [2.3273800434553573, -1.4582124938321728, -0.08593120023695243, 1.9408915728883613, 0.10921166192610278, -0.3027837923118261, -0.5988969407728483, 0.1361926896959979, 0.6986696812557265, -0.6189546002920893]))), 1.0e-6), MapComponent(20, 10, 5, IntegratedFunction(20, 10, 5, Rectifier(\"softplus\"), ParametricFunction(ExpandedFunction(20, 10, 5, MultiBasis(Basis of 20 functions: Constant -> 18th degree Probabilistic Hermite function\n",
       ", 5), [1 0 … 0 0; 0 0 … 1 0; … ; 2 0 … 0 0; 3 0 … 0 0], [-0.059712129616356406, 0.5271222593749312, -1.0561467956963269, 0.8589681091729928, -0.13456995221990936, 0.2336197521878562, -0.0789923533093663, 0.11275634691909836, 0.00801703447757839, 0.41933155793149346]))), 1.0e-6), MapComponent(20, 10, 6, IntegratedFunction(20, 10, 6, Rectifier(\"softplus\"), ParametricFunction(ExpandedFunction(20, 10, 6, MultiBasis(Basis of 20 functions: Constant -> 18th degree Probabilistic Hermite function\n",
       ", 6), [1 0 … 0 0; 0 1 … 0 0; … ; 4 0 … 0 0; 0 0 … 0 2], [-0.008181105317392575, -0.4017622700849091, 0.2371118227074623, 0.8783644535517383, -0.3022826186965488, 0.6067267624414855, 0.062028417937203116, -0.20312331334272896, 1.2473774674035314, 0.16004919520119243]))), 1.0e-6), MapComponent(20, 10, 7, IntegratedFunction(20, 10, 7, Rectifier(\"softplus\"), ParametricFunction(ExpandedFunction(20, 10, 7, MultiBasis(Basis of 20 functions: Constant -> 18th degree Probabilistic Hermite function\n",
       ", 7), [0 0 … 0 1; 1 0 … 0 0; … ; 0 3 … 0 0; 0 4 … 0 0], [-0.9414397747380819, 0.6820074004445477, -0.27544498345317103, 0.23912769798942043, 0.7246748116386478, -0.4854399321320166, -0.30465883059005616, -0.1839651546798948, 0.1984716227820027, -0.3303959300392604]))), 1.0e-6), MapComponent(20, 10, 8, IntegratedFunction(20, 10, 8, Rectifier(\"softplus\"), ParametricFunction(ExpandedFunction(20, 10, 8, MultiBasis(Basis of 20 functions: Constant -> 18th degree Probabilistic Hermite function\n",
       ", 8), [0 0 … 0 0; 0 1 … 0 0; … ; 0 0 … 1 0; 0 0 … 2 0], [0.7675654360602673, -0.46139633645549055, -0.09400531208318347, -0.4750018609111409, -0.13720512744509084, 0.3158502033155805, -0.2681429705519095, -0.3517014089016621, 0.20711741551321333, 0.08548637434610645]))), 1.0e-6), MapComponent(20, 10, 9, IntegratedFunction(20, 10, 9, Rectifier(\"softplus\"), ParametricFunction(ExpandedFunction(20, 10, 9, MultiBasis(Basis of 20 functions: Constant -> 18th degree Probabilistic Hermite function\n",
       ", 9), [0 0 … 0 0; 1 0 … 0 0; … ; 0 0 … 0 0; 0 0 … 0 0], [-0.5954365528950524, 0.43575651303735885, 0.15267888987127767, 0.045294782858766716, -0.5340956249380225, 0.1692478871300771, 0.37727583046206525, 0.0694861395691837, 0.31697133108544556, 0.151465486888397]))), 1.0e-6), MapComponent(20, 10, 10, IntegratedFunction(20, 10, 10, Rectifier(\"softplus\"), ParametricFunction(ExpandedFunction(20, 10, 10, MultiBasis(Basis of 20 functions: Constant -> 18th degree Probabilistic Hermite function\n",
       ", 10), [0 0 … 0 0; 0 0 … 0 0; … ; 0 0 … 2 0; 0 0 … 0 0], [0.8078906105504086, 0.22978626738291405, -0.14106047644411956, -0.7004747416405745, 0.7614363392404291, -0.2479477200384577, -0.8908366407787845, 0.7585138197226615, -0.14373208272231255, -0.6665654504502362]))), 1.0e-6), MapComponent(20, 10, 11, IntegratedFunction(20, 10, 11, Rectifier(\"softplus\"), ParametricFunction(ExpandedFunction(20, 10, 11, MultiBasis(Basis of 20 functions: Constant -> 18th degree Probabilistic Hermite function\n",
       ", 11), [0 0 … 0 0; 0 0 … 0 0; … ; 0 0 … 0 0; 0 0 … 0 0], [-1.0661069823150515, -0.4003401560026594, -0.1431087898837969, 0.5514478733746914, 0.1271229520191248, -0.1775731566732338, 0.7060807458391172, -0.10375198196106482, -0.04460157707937595, -0.6538015998005621]))), 1.0e-6), MapComponent(20, 10, 12, IntegratedFunction(20, 10, 12, Rectifier(\"softplus\"), ParametricFunction(ExpandedFunction(20, 10, 12, MultiBasis(Basis of 20 functions: Constant -> 18th degree Probabilistic Hermite function\n",
       ", 12), [0 0 … 0 0; 0 0 … 0 0; … ; 0 0 … 0 0; 0 0 … 0 0], [2.084445898342455, -0.03597355685557999, 1.2129306810131448, -0.39040914497764967, -0.33335884983856895, 0.768407186242289, -3.1210786373835817, 0.16450394565010387, -1.1699016424836755, 0.6211582429836827]))), 1.0e-6), MapComponent(20, 10, 13, IntegratedFunction(20, 10, 13, Rectifier(\"softplus\"), ParametricFunction(ExpandedFunction(20, 10, 13, MultiBasis(Basis of 20 functions: Constant -> 18th degree Probabilistic Hermite function\n",
       ", 13), [0 0 … 0 0; 0 0 … 0 0; … ; 0 0 … 0 0; 0 0 … 0 0], [-1.1150505228331045, 0.9498469354618748, -0.12970521189632195, 0.6914941052378787, -0.14458664023041867, -0.5251754181059838, 0.10288146564945398, -0.5432387730393644, 0.5305530115324815, 0.17935510195362966]))), 1.0e-6), MapComponent(20, 10, 14, IntegratedFunction(20, 10, 14, Rectifier(\"softplus\"), ParametricFunction(ExpandedFunction(20, 10, 14, MultiBasis(Basis of 20 functions: Constant -> 18th degree Probabilistic Hermite function\n",
       ", 14), [0 0 … 1 0; 0 0 … 0 0; … ; 0 0 … 0 2; 0 0 … 0 3], [0.5816341250306388, -1.12464762495595, -0.36229249490335896, 0.6161136262772614, 0.12989888205137465, -0.565884383870448, 0.20276961344951827, 0.7394112043827943, 0.16201639618298538, 0.5735478654746071]))), 1.0e-6), MapComponent(20, 10, 15, IntegratedFunction(20, 10, 15, Rectifier(\"softplus\"), ParametricFunction(ExpandedFunction(20, 10, 15, MultiBasis(Basis of 20 functions: Constant -> 18th degree Probabilistic Hermite function\n",
       ", 15), [0 0 … 0 0; 0 0 … 0 0; … ; 0 0 … 0 0; 0 0 … 0 0], [-1.1075701456065625, 1.5240688864533865, 0.3489821647238489, 0.4679808762674218, -0.7803474166964552, 0.27195844852302775, 0.11859642010200264, 0.36096217630602456, 0.4720299919770915, 0.2335850994182667]))), 1.0e-6), MapComponent(20, 10, 16, IntegratedFunction(20, 10, 16, Rectifier(\"softplus\"), ParametricFunction(ExpandedFunction(20, 10, 16, MultiBasis(Basis of 20 functions: Constant -> 18th degree Probabilistic Hermite function\n",
       ", 16), [0 0 … 0 0; 0 0 … 0 0; … ; 1 0 … 0 0; 2 0 … 0 0], [-1.0266786204497194, 0.8399042206009437, 0.750232873117211, 0.19273016415963035, -0.7745342236931663, -0.6989374972741321, 0.13563932948387114, 0.40418974550494213, 0.5137341496101819, -0.18654461835168654]))), 1.0e-6), MapComponent(20, 10, 17, IntegratedFunction(20, 10, 17, Rectifier(\"softplus\"), ParametricFunction(ExpandedFunction(20, 10, 17, MultiBasis(Basis of 20 functions: Constant -> 18th degree Probabilistic Hermite function\n",
       ", 17), [0 0 … 1 0; 0 0 … 0 1; … ; 0 0 … 0 0; 0 0 … 0 0], [0.787939717684252, -1.0146660822271132, 0.6511941614496681, -0.100203412175826, -0.506095926089798, 0.11331112175227208, 0.6393724875306832, -0.3079084953972853, -0.41989046573322103, -0.17745466651331931]))), 1.0e-6), MapComponent(20, 10, 18, IntegratedFunction(20, 10, 18, Rectifier(\"softplus\"), ParametricFunction(ExpandedFunction(20, 10, 18, MultiBasis(Basis of 20 functions: Constant -> 18th degree Probabilistic Hermite function\n",
       ", 18), [0 0 … 0 0; 0 0 … 0 0; … ; 0 0 … 0 0; 0 0 … 0 0], [0.8007733593895874, -0.7544124833500675, -1.6771787986821818, 0.11282067666199719, 0.7998845137582119, 0.09364476178772109, -0.09386265157798165, 0.7016310071991974, 0.14607911230388998, -0.4643808112375563]))), 1.0e-6), MapComponent(20, 10, 19, IntegratedFunction(20, 10, 19, Rectifier(\"softplus\"), ParametricFunction(ExpandedFunction(20, 10, 19, MultiBasis(Basis of 20 functions: Constant -> 18th degree Probabilistic Hermite function\n",
       ", 19), [0 1 … 0 0; 0 0 … 0 0; … ; 1 0 … 0 0; 0 0 … 0 0], [1.8607610850114085, 0.6080908346820592, -0.21091481012169228, 1.239405632431905, -0.39984924954796297, -3.4573545643084094, -0.2486762421260245, -1.118393976389799, 0.5679616417856502, 0.44018494995669527]))), 1.0e-6), MapComponent(20, 10, 20, IntegratedFunction(20, 10, 20, Rectifier(\"softplus\"), ParametricFunction(ExpandedFunction(20, 10, 20, MultiBasis(Basis of 20 functions: Constant -> 18th degree Probabilistic Hermite function\n",
       ", 20), [0 0 … 1 0; 0 0 … 0 0; … ; 0 0 … 0 0; 0 0 … 0 0], [-1.0931267769325477, 0.4882737161767933, -0.17128323675442844, -0.09651921931884719, 0.4435065342350101, 0.9470391579932511, 0.12242935025083741, 0.7015386053424947, -0.6149917360899445, 0.1501422200952868]))), 1.0e-6)])"
      ]
     },
     "execution_count": 103,
     "metadata": {},
     "output_type": "execute_result"
    }
   ],
   "source": [
    "@time optimize(M, X, 10; P = thread)"
   ]
  },
  {
   "cell_type": "code",
   "execution_count": 104,
   "metadata": {},
   "outputs": [
    {
     "data": {
      "text/plain": [
       "timing (generic function with 1 method)"
      ]
     },
     "execution_count": 104,
     "metadata": {},
     "output_type": "execute_result"
    }
   ],
   "source": [
    "function timing()\n",
    "    @btime begin \n",
    "        M = HermiteMap($m, $X)\n",
    "        optimize($M, $X, $5; P = thread)\n",
    "    end\n",
    "end"
   ]
  },
  {
   "cell_type": "code",
   "execution_count": 106,
   "metadata": {},
   "outputs": [
    {
     "name": "stdout",
     "output_type": "stream",
     "text": [
      "  40.695 ms (446366 allocations: 333.25 MiB)\n"
     ]
    }
   ],
   "source": [
    "timing();"
   ]
  },
  {
   "cell_type": "markdown",
   "metadata": {},
   "source": [
    "### Conditional sampling"
   ]
  },
  {
   "cell_type": "code",
   "execution_count": 362,
   "metadata": {},
   "outputs": [],
   "source": [
    "Nx = 50\n",
    "Ny = 20\n",
    "m = 20\n",
    "Ne = 500\n",
    "Xprior = randn(Nx, Ne).*randn(Nx, Ne);\n",
    "Xpost = deepcopy(Xprior) .+ 0.2*randn(Nx, Ne);"
   ]
  },
  {
   "cell_type": "code",
   "execution_count": 363,
   "metadata": {},
   "outputs": [],
   "source": [
    "M = HermiteMap(m, Xprior; diag = true);"
   ]
  },
  {
   "cell_type": "code",
   "execution_count": 364,
   "metadata": {},
   "outputs": [],
   "source": [
    "Ystar = deepcopy(Xpost[1:Ny,:]) + 0.05*randn(Ny,Ne);"
   ]
  },
  {
   "cell_type": "code",
   "execution_count": 365,
   "metadata": {},
   "outputs": [
    {
     "name": "stdout",
     "output_type": "stream",
     "text": [
      "  0.000053 seconds (334 allocations: 28.531 KiB)\n",
      "  1.402635 seconds (4.45 M allocations: 2.118 GiB, 6.45% gc time)\n"
     ]
    }
   ],
   "source": [
    "@time M = HermiteMap(m, Xprior);\n",
    "@time optimize(M, Xprior, 6; withconstant = false, start = Ny+1);"
   ]
  },
  {
   "cell_type": "code",
   "execution_count": 366,
   "metadata": {},
   "outputs": [
    {
     "data": {
      "text/plain": [
       "50×500 Array{Float64,2}:\n",
       "  0.0          0.0         0.0        …   0.0        0.0          0.0\n",
       "  0.0          0.0         0.0            0.0        0.0          0.0\n",
       "  0.0          0.0         0.0            0.0        0.0          0.0\n",
       "  0.0          0.0         0.0            0.0        0.0          0.0\n",
       "  0.0          0.0         0.0            0.0        0.0          0.0\n",
       "  0.0          0.0         0.0        …   0.0        0.0          0.0\n",
       "  0.0          0.0         0.0            0.0        0.0          0.0\n",
       "  0.0          0.0         0.0            0.0        0.0          0.0\n",
       "  0.0          0.0         0.0            0.0        0.0          0.0\n",
       "  0.0          0.0         0.0            0.0        0.0          0.0\n",
       "  0.0          0.0         0.0        …   0.0        0.0          0.0\n",
       "  0.0          0.0         0.0            0.0        0.0          0.0\n",
       "  0.0          0.0         0.0            0.0        0.0          0.0\n",
       "  ⋮                                   ⋱                          \n",
       "  2.36835     -0.119577    0.294586      -1.40017   -0.0609477   -0.291137\n",
       " -1.03707      0.440876   -2.0589        -2.75342   -0.0259894   -0.652109\n",
       "  1.61157      0.769983    0.0737191  …  -0.531286   0.0714656   -2.14645\n",
       " -0.855305     0.453648   -0.103719      -0.168416   1.12738     -0.015446\n",
       "  0.00394442  -1.29968    -0.371335       0.317584  -0.00122286   0.212897\n",
       "  0.298715    -0.331139   -0.28855       -0.422541  -0.357752    -1.8114\n",
       " -0.177383    -0.290073   -0.528241      -0.283682  -0.00971832  -0.0633317\n",
       "  0.563393    -0.122042   -0.439019   …  -0.678367   0.689591    -0.319999\n",
       "  0.436014     0.519033    1.74433        0.284892  -0.430203     0.273813\n",
       "  1.54458     -0.0615345   0.422158       0.739589  -1.49326     -0.642829\n",
       " -0.128574    -2.21164    -2.47473       -0.667933   0.372668     0.40613\n",
       "  0.118257     0.351634   -0.689194      -2.56826   -0.936373    -0.835339"
      ]
     },
     "execution_count": 366,
     "metadata": {},
     "output_type": "execute_result"
    }
   ],
   "source": [
    "F = evaluate(M, Xpost; start = Ny+1)"
   ]
  },
  {
   "cell_type": "code",
   "execution_count": 367,
   "metadata": {},
   "outputs": [
    {
     "name": "stdout",
     "output_type": "stream",
     "text": [
      "  0.017258 seconds (14.27 k allocations: 31.560 MiB, 30.98% gc time)\n"
     ]
    },
    {
     "data": {
      "text/plain": [
       "50×500 Array{Float64,2}:\n",
       " -0.211342    0.81505     -0.0197552  …   0.135453     1.29042\n",
       " -0.59309     0.114505     0.531372       4.28245     -0.275798\n",
       " -0.238622   -0.324534    -0.187113       1.13681     -0.139542\n",
       "  0.39385     0.180453     1.12909       -1.49309     -0.0112934\n",
       " -0.274126    0.3228      -0.0252479      0.188278     0.425514\n",
       " -0.133536   -1.11297     -0.719724   …   0.213793     0.161787\n",
       "  0.512472    0.697728     1.07623       -0.255019     0.0535651\n",
       " -0.117983   -0.30399     -0.191594       2.05243      0.25097\n",
       " -0.89177     0.15308     -2.1008        -1.15588      0.00267544\n",
       " -0.043514   -0.149709     1.16827        0.0679464    0.968786\n",
       "  3.74337     0.213884     1.26443    …  -0.470425    -0.653102\n",
       " -0.569208    1.05778     -0.390264       0.00269174  -0.0421446\n",
       "  0.709907   -1.02491     -0.302788       0.381497     0.137157\n",
       "  ⋮                                   ⋱               \n",
       "  2.26296    -0.279945     0.227358      -0.0597177   -0.533637\n",
       " -1.11994     0.666405    -1.77524       -0.00175106  -0.49839\n",
       "  1.38078     0.684603     0.0597711  …   0.0644527   -1.64468\n",
       " -0.848275    0.531202    -0.269727       1.2355      -0.239792\n",
       " -0.170258   -1.25438     -0.834995       0.043284    -0.149599\n",
       "  0.247431   -0.0440847   -0.226056      -0.493257    -1.70395\n",
       "  0.0599325   0.0504226   -0.442496       0.0811959   -0.00609428\n",
       "  0.60809    -0.0969527   -0.623798   …   0.231561    -0.362577\n",
       "  0.197348    0.325712     1.52125       -0.265727     0.0426359\n",
       "  1.39541    -0.00530162   0.147847      -0.841051    -0.343063\n",
       " -0.0475511  -2.56959     -1.82402        0.0726593    0.286541\n",
       "  0.0290966   0.409031    -0.838569      -0.372969    -0.747377"
      ]
     },
     "execution_count": 367,
     "metadata": {},
     "output_type": "execute_result"
    }
   ],
   "source": [
    "@time inverse!(F, M, Xprior, Ystar; start = Ny+1)"
   ]
  },
  {
   "cell_type": "code",
   "execution_count": 368,
   "metadata": {},
   "outputs": [
    {
     "data": {
      "text/plain": [
       "50×500 Array{Float64,2}:\n",
       " -0.211342    0.81505     -0.0197552  …   0.135453     1.29042\n",
       " -0.59309     0.114505     0.531372       4.28245     -0.275798\n",
       " -0.238622   -0.324534    -0.187113       1.13681     -0.139542\n",
       "  0.39385     0.180453     1.12909       -1.49309     -0.0112934\n",
       " -0.274126    0.3228      -0.0252479      0.188278     0.425514\n",
       " -0.133536   -1.11297     -0.719724   …   0.213793     0.161787\n",
       "  0.512472    0.697728     1.07623       -0.255019     0.0535651\n",
       " -0.117983   -0.30399     -0.191594       2.05243      0.25097\n",
       " -0.89177     0.15308     -2.1008        -1.15588      0.00267544\n",
       " -0.043514   -0.149709     1.16827        0.0679464    0.968786\n",
       "  3.74337     0.213884     1.26443    …  -0.470425    -0.653102\n",
       " -0.569208    1.05778     -0.390264       0.00269174  -0.0421446\n",
       "  0.709907   -1.02491     -0.302788       0.381497     0.137157\n",
       "  ⋮                                   ⋱               \n",
       "  2.26296    -0.279945     0.227358      -0.0597177   -0.533637\n",
       " -1.11994     0.666405    -1.77524       -0.00175106  -0.49839\n",
       "  1.38078     0.684603     0.0597711  …   0.0644527   -1.64468\n",
       " -0.848275    0.531202    -0.269727       1.2355      -0.239792\n",
       " -0.170258   -1.25438     -0.834995       0.043284    -0.149599\n",
       "  0.247431   -0.0440847   -0.226056      -0.493257    -1.70395\n",
       "  0.0599325   0.0504226   -0.442496       0.0811959   -0.00609428\n",
       "  0.60809    -0.0969527   -0.623798   …   0.231561    -0.362577\n",
       "  0.197348    0.325712     1.52125       -0.265727     0.0426359\n",
       "  1.39541    -0.00530162   0.147847      -0.841051    -0.343063\n",
       " -0.0475511  -2.56959     -1.82402        0.0726593    0.286541\n",
       "  0.0290966   0.409031    -0.838569      -0.372969    -0.747377"
      ]
     },
     "execution_count": 368,
     "metadata": {},
     "output_type": "execute_result"
    }
   ],
   "source": [
    "Xprior"
   ]
  },
  {
   "cell_type": "code",
   "execution_count": 369,
   "metadata": {},
   "outputs": [
    {
     "data": {
      "text/plain": [
       "20×500 Array{Float64,2}:\n",
       " -0.211342   0.81505    -0.0197552   0.936283    …   0.135453     1.29042\n",
       " -0.59309    0.114505    0.531372   -1.26934         4.28245     -0.275798\n",
       " -0.238622  -0.324534   -0.187113   -0.546287        1.13681     -0.139542\n",
       "  0.39385    0.180453    1.12909    -0.346343       -1.49309     -0.0112934\n",
       " -0.274126   0.3228     -0.0252479  -1.91159         0.188278     0.425514\n",
       " -0.133536  -1.11297    -0.719724    0.00864939  …   0.213793     0.161787\n",
       "  0.512472   0.697728    1.07623    -0.345924       -0.255019     0.0535651\n",
       " -0.117983  -0.30399    -0.191594    0.385232        2.05243      0.25097\n",
       " -0.89177    0.15308    -2.1008      0.352988       -1.15588      0.00267544\n",
       " -0.043514  -0.149709    1.16827     0.938497        0.0679464    0.968786\n",
       "  3.74337    0.213884    1.26443    -1.5657      …  -0.470425    -0.653102\n",
       " -0.569208   1.05778    -0.390264   -0.123471        0.00269174  -0.0421446\n",
       "  0.709907  -1.02491    -0.302788    0.730333        0.381497     0.137157\n",
       "  0.715877  -0.358407    0.810693   -0.0742412       0.0573028   -0.0794298\n",
       "  0.517934  -0.0399081  -0.458268   -0.799517        0.304357     0.488093\n",
       "  0.503233   0.351424    1.46713    -0.752851    …   2.42423      0.235942\n",
       " -0.524594   0.796954   -0.189592   -1.20963         0.114952     0.575186\n",
       " -1.01931   -0.249516    0.696413   -0.0270621       0.0104012   -0.6964\n",
       " -0.130987   2.84487     0.926143    0.913176       -0.0287518   -0.669596\n",
       "  0.51764   -0.0525391  -0.167833    2.09655        -0.00465441  -0.681832"
      ]
     },
     "execution_count": 369,
     "metadata": {},
     "output_type": "execute_result"
    }
   ],
   "source": [
    "Ystar"
   ]
  },
  {
   "cell_type": "code",
   "execution_count": 370,
   "metadata": {},
   "outputs": [
    {
     "data": {
      "text/plain": [
       "50×500 Array{Float64,2}:\n",
       " -0.214688     1.02791     0.0675242   1.23873    …   0.246486     1.50265\n",
       " -0.625352     0.102629    0.496908   -1.24073        4.30769     -0.367575\n",
       " -0.317337    -0.402729   -0.209315   -0.626494       1.0512      -0.207429\n",
       "  0.405501     0.154591    1.0362     -0.341916      -1.44798     -0.017184\n",
       " -0.254447     0.372489   -0.0585518  -1.8341         0.141994     0.486907\n",
       "  0.016819    -0.951504   -0.554554    0.0937045  …   0.217138     0.165238\n",
       "  0.547669     0.727836    1.14979    -0.420044      -0.339085    -0.0804486\n",
       " -0.148099    -0.300201   -0.175427    0.454183       2.16016      0.333894\n",
       " -0.95656      0.143077   -2.1566      0.284568      -1.21413      0.0524843\n",
       "  0.091407    -0.0811638   1.31727     0.983804       0.149406     1.10267\n",
       "  3.61501      0.346439    1.31026    -1.33758    …  -0.239404    -0.551078\n",
       " -0.594817     1.08567    -0.373397   -0.195372      -0.0162946   -0.0750069\n",
       "  0.811885    -1.07275    -0.266239    0.811285       0.374198     0.117919\n",
       "  ⋮                                               ⋱               \n",
       "  2.36835     -0.119577    0.294586   -1.19099       -0.0609477   -0.291137\n",
       " -1.03707      0.440876   -2.0589      0.0184237     -0.0259894   -0.652109\n",
       "  1.61157      0.769983    0.0737191  -0.622241   …   0.0714656   -2.14645\n",
       " -0.855305     0.453648   -0.103719   -6.33058        1.12738     -0.015446\n",
       "  0.00394442  -1.29968    -0.371335   -0.203093      -0.00122286   0.212897\n",
       "  0.298715    -0.331139   -0.28855     0.635305      -0.357752    -1.8114\n",
       " -0.177383    -0.290073   -0.528241   -0.413239      -0.00971832  -0.0633317\n",
       "  0.563393    -0.122042   -0.439019   -0.14335    …   0.689591    -0.319999\n",
       "  0.436014     0.519033    1.74433    -1.83779       -0.430203     0.273813\n",
       "  1.54458     -0.0615345   0.422158   -0.0981547     -1.49326     -0.642829\n",
       " -0.128574    -2.21164    -2.47473    -0.733946       0.372668     0.40613\n",
       "  0.118257     0.351634   -0.689194   -0.296234      -0.936373    -0.835339"
      ]
     },
     "execution_count": 370,
     "metadata": {},
     "output_type": "execute_result"
    }
   ],
   "source": [
    "evaluate(M, Xpost)"
   ]
  },
  {
   "cell_type": "code",
   "execution_count": 371,
   "metadata": {},
   "outputs": [
    {
     "data": {
      "text/plain": [
       "3.942579896291548e-6"
      ]
     },
     "execution_count": 371,
     "metadata": {},
     "output_type": "execute_result"
    }
   ],
   "source": [
    "100*norm(evaluate(M, Xprior; start = Ny+1)-evaluate(M, Xpost; start = Ny+1))/norm(evaluate(M, Xpost; start = Ny+1))"
   ]
  },
  {
   "cell_type": "code",
   "execution_count": 373,
   "metadata": {},
   "outputs": [
    {
     "data": {
      "text/plain": [
       "0.7877296833552324"
      ]
     },
     "execution_count": 373,
     "metadata": {},
     "output_type": "execute_result"
    }
   ],
   "source": [
    "100*norm(Xprior[Ny+1:end,:] - Xpost[Ny+1:end,:])/norm(Xpost[Ny+1:end,:])"
   ]
  },
  {
   "cell_type": "code",
   "execution_count": null,
   "metadata": {},
   "outputs": [],
   "source": [
    "\n"
   ]
  }
 ],
 "metadata": {
  "kernelspec": {
   "display_name": "Julia 1.4.0",
   "language": "julia",
   "name": "julia-1.4"
  },
  "language_info": {
   "file_extension": ".jl",
   "mimetype": "application/julia",
   "name": "julia",
   "version": "1.4.0"
  }
 },
 "nbformat": 4,
 "nbformat_minor": 2
}
