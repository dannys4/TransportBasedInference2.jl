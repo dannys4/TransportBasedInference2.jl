{
 "cells": [
  {
   "cell_type": "code",
   "execution_count": 1,
   "metadata": {},
   "outputs": [
    {
     "name": "stderr",
     "output_type": "stream",
     "text": [
      "\u001b[32m\u001b[1m Activating\u001b[22m\u001b[39m environment at `/media/mat/HDD/AdaptiveTransportMap/Project.toml`\n"
     ]
    }
   ],
   "source": [
    "using Pkg\n",
    "Pkg.activate(\"/media/mat/HDD/AdaptiveTransportMap/\")"
   ]
  },
  {
   "cell_type": "code",
   "execution_count": 62,
   "metadata": {
    "scrolled": false
   },
   "outputs": [],
   "source": [
    "using Revise\n",
    "using AdaptiveTransportMap\n",
    "using LinearAlgebra\n",
    "import LinearAlgebra: ldiv!, dot\n",
    "using Test\n",
    "using ForwardDiff\n",
    "using SpecialFunctions\n",
    "using BenchmarkTools\n",
    "using TransportMap\n",
    "using QuadGK\n",
    "using Polynomials\n",
    "using Distributions\n",
    "using Random\n",
    "using LoopVectorization\n",
    "using Optim\n",
    "using NLsolve\n",
    "using MLDataUtils\n",
    "using MLDataPattern\n",
    "using Test\n",
    "using SparseArrays\n",
    "using AdaptiveTransportMap: vander, transform!, evaluate, ncoeff, optimize, negative_log_likelihood!, derivative\n",
    "\n",
    "# using Profile\n",
    "using ProfileView"
   ]
  },
  {
   "cell_type": "code",
   "execution_count": 3,
   "metadata": {},
   "outputs": [
    {
     "data": {
      "text/plain": [
       "8"
      ]
     },
     "execution_count": 3,
     "metadata": {},
     "output_type": "execute_result"
    }
   ],
   "source": [
    "Threads.nthreads()"
   ]
  },
  {
   "cell_type": "markdown",
   "metadata": {},
   "source": [
    "### Integration"
   ]
  },
  {
   "cell_type": "code",
   "execution_count": 85,
   "metadata": {},
   "outputs": [],
   "source": [
    "Nx = 20\n",
    "Ny = 1\n",
    "m = 20\n",
    "Ne = 300\n",
    "X = randn(Nx, Ne).*randn(Nx, Ne) #.+ 0.5*randn(Nx).*cos.(randn(Nx, Ne) .* randn(Nx, Ne))\n",
    "\n",
    "# L = LinearTransform(X)\n",
    "# transform!(L, X);\n",
    "# C = MapComponent(m, Nx)\n",
    "# @time C, _ = optimize(C, X, 10)"
   ]
  },
  {
   "cell_type": "code",
   "execution_count": 86,
   "metadata": {},
   "outputs": [],
   "source": [
    "M = HermiteMap(m, X);"
   ]
  },
  {
   "cell_type": "code",
   "execution_count": 87,
   "metadata": {
    "scrolled": true
   },
   "outputs": [
    {
     "name": "stdout",
     "output_type": "stream",
     "text": [
      "  1.259750 seconds (1.00 M allocations: 1.347 GiB, 6.61% gc time)\n"
     ]
    },
    {
     "data": {
      "text/plain": [
       "HermiteMap(20, 20, LinearTransform(20, [-0.015911955921730166, 0.013971261551210897, -0.040447883932978615, 0.0753439815071193, -0.0781197937126532, -0.02599238710934617, 0.06977623841979197, 0.026324732718774484, -0.053128114005743056, -0.059599905362144906, 0.001114149051942673, 0.04695820217296057, -0.016624913310568697, -0.010312831186233277, -0.07986824550904248, -0.01603764087753745, -0.01717321084123384, -0.05563818622888866, -0.006488511882438942, 0.012474994994471028], [0.8004942544470827 0.0 … 0.0 0.0; 0.0 0.9074870450033097 … 0.0 0.0; … ; 0.0 0.0 … 0.9754789867528696 0.0; 0.0 0.0 … 0.0 1.0062688660692523], true), MapComponent[MapComponent(20, 10, 1, IntegratedFunction(20, 10, 1, Rectifier(\"softplus\"), ParametricFunction(ExpandedFunction(20, 10, 1, MultiBasis(Basis of 20 functions: Constant -> 18th degree Probabilistic Hermite function\n",
       ", 1), [1; 2; … ; 9; 10], [-0.026624505570497812, -1.323025924661739, 0.3868818352744172, -4.249212928226716, 1.5499142401581412, -2.3980726711613576, 2.0047218576318566, 0.2876242643412388, 0.9666107847788948, 1.3186938002705892]))), 1.0e-6), MapComponent(20, 10, 2, IntegratedFunction(20, 10, 2, Rectifier(\"softplus\"), ParametricFunction(ExpandedFunction(20, 10, 2, MultiBasis(Basis of 20 functions: Constant -> 18th degree Probabilistic Hermite function\n",
       ", 2), [0 1; 0 2; … ; 0 4; 5 0], [-0.2852921721962739, -0.04345220916694585, -1.370229458726571, 0.027312538680074862, 0.7654119496093174, 0.2369618781144485, 3.561623048381429, 0.3529214305379851, -1.1494114789388665, 0.4159094977304591]))), 1.0e-6), MapComponent(20, 10, 3, IntegratedFunction(20, 10, 3, Rectifier(\"softplus\"), ParametricFunction(ExpandedFunction(20, 10, 3, MultiBasis(Basis of 20 functions: Constant -> 18th degree Probabilistic Hermite function\n",
       ", 3), [0 1 0; 0 2 0; … ; 0 0 4; 0 0 5], [-1.7321292102195576, 0.6012529946775431, -1.4288377149654272, 0.5788741970859301, 1.6226422765014044, 0.13683761421480833, -0.6335650937430336, 1.0757749277042672, -1.323856252656295, 0.5226758650404911]))), 1.0e-6), MapComponent(20, 10, 4, IntegratedFunction(20, 10, 4, Rectifier(\"softplus\"), ParametricFunction(ExpandedFunction(20, 10, 4, MultiBasis(Basis of 20 functions: Constant -> 18th degree Probabilistic Hermite function\n",
       ", 4), [1 0 0 0; 0 1 0 0; … ; 0 0 0 5; 0 0 0 6], [1.1406896642403863, -0.4505592375441259, -0.15569599975624296, -0.11411307214866584, -1.0626739919921415, -0.46052317811769733, -0.5301091017525271, -2.1476012445877566, 0.33262236299172676, -0.28055345006268156]))), 1.0e-6), MapComponent(20, 10, 5, IntegratedFunction(20, 10, 5, Rectifier(\"softplus\"), ParametricFunction(ExpandedFunction(20, 10, 5, MultiBasis(Basis of 20 functions: Constant -> 18th degree Probabilistic Hermite function\n",
       ", 5), [0 0 … 0 1; 0 0 … 0 2; … ; 0 0 … 0 6; 0 0 … 0 7], [-0.2650385976033278, 0.11457484275501711, 0.04773564833075947, 0.09403706851744839, -0.4289077987686071, -0.5597587312572937, -1.2882195293612906, -0.8477173688407432, 0.25978895310054684, -0.22329514639862094]))), 1.0e-6), MapComponent(20, 10, 6, IntegratedFunction(20, 10, 6, Rectifier(\"softplus\"), ParametricFunction(ExpandedFunction(20, 10, 6, MultiBasis(Basis of 20 functions: Constant -> 18th degree Probabilistic Hermite function\n",
       ", 6), [0 0 … 0 0; 0 0 … 0 1; … ; 0 0 … 0 5; 0 0 … 0 0], [1.131228106917131, -4.156370888596706, -0.6509457928936465, -2.098021385634893, -2.4144711650457684, 2.228760110773417, -0.11673278294134948, 0.768361889405131, -0.514972043649839, 0.3826045480368116]))), 1.0e-6), MapComponent(20, 10, 7, IntegratedFunction(20, 10, 7, Rectifier(\"softplus\"), ParametricFunction(ExpandedFunction(20, 10, 7, MultiBasis(Basis of 20 functions: Constant -> 18th degree Probabilistic Hermite function\n",
       ", 7), [0 0 … 0 1; 0 0 … 0 2; … ; 0 0 … 0 0; 1 0 … 0 0], [1.636378048922625, -0.12146338795063055, 0.6070048641536269, -1.1906579365886247, -1.424535535258486, -0.1720827534898907, 0.4722549884146497, 0.48575841685251586, -0.4188520937317149, -0.3181396442315178]))), 1.0e-6), MapComponent(20, 10, 8, IntegratedFunction(20, 10, 8, Rectifier(\"softplus\"), ParametricFunction(ExpandedFunction(20, 10, 8, MultiBasis(Basis of 20 functions: Constant -> 18th degree Probabilistic Hermite function\n",
       ", 8), [0 0 … 1 0; 0 0 … 0 1; … ; 0 4 … 0 0; 0 5 … 0 0], [-0.4615328877497904, -1.638143595906617, -0.18211140651427163, 2.3158305172575258, -0.57235338322133, 2.163372413282528, -0.8770209544912619, -1.9050539420367611, -0.38297747293111756, 0.9382564615344994]))), 1.0e-6), MapComponent(20, 10, 9, IntegratedFunction(20, 10, 9, Rectifier(\"softplus\"), ParametricFunction(ExpandedFunction(20, 10, 9, MultiBasis(Basis of 20 functions: Constant -> 18th degree Probabilistic Hermite function\n",
       ", 9), [0 0 … 0 0; 0 1 … 0 0; … ; 0 0 … 0 0; 0 0 … 0 0], [-0.3258933897827206, 1.08325763754701, 0.2211149290965468, -0.5926962957095232, 1.1879685577890076, 0.42715761588599727, 0.4525688411989051, 0.4739282024687405, -0.384052527661281, 0.27699072758236304]))), 1.0e-6), MapComponent(20, 10, 10, IntegratedFunction(20, 10, 10, Rectifier(\"softplus\"), ParametricFunction(ExpandedFunction(20, 10, 10, MultiBasis(Basis of 20 functions: Constant -> 18th degree Probabilistic Hermite function\n",
       ", 10), [0 0 … 0 0; 0 0 … 0 0; … ; 0 2 … 0 0; 0 3 … 0 0], [0.6412828561395123, -0.8580472116764618, 0.08363629456717886, -0.45918746622162454, -0.4401078934020721, 0.1384877965031837, -0.26506567652542495, 0.7856303391638004, 0.17072850523887512, 0.5897041447292121]))), 1.0e-6), MapComponent(20, 10, 11, IntegratedFunction(20, 10, 11, Rectifier(\"softplus\"), ParametricFunction(ExpandedFunction(20, 10, 11, MultiBasis(Basis of 20 functions: Constant -> 18th degree Probabilistic Hermite function\n",
       ", 11), [0 0 … 0 0; 0 0 … 0 0; … ; 0 0 … 0 0; 0 0 … 0 0], [0.49650310090014005, -0.2919893364092076, -0.6597836619853163, -0.0032354659396704732, -0.15319099797137506, -0.3594096747567685, 0.41665312671876864, 0.21574987626177738, -0.254810824861435, 0.3297206247733607]))), 1.0e-6), MapComponent(20, 10, 12, IntegratedFunction(20, 10, 12, Rectifier(\"softplus\"), ParametricFunction(ExpandedFunction(20, 10, 12, MultiBasis(Basis of 20 functions: Constant -> 18th degree Probabilistic Hermite function\n",
       ", 12), [0 0 … 0 0; 0 0 … 0 0; … ; 0 0 … 0 0; 0 0 … 0 0], [-0.5848948906766651, -0.2518814813671173, 0.5752394078195896, 0.23761693870209333, 0.6002693197184485, -0.2782929030168781, -0.515659103589661, -0.4335951147211325, 0.33576432622455965, -0.3045358508231748]))), 1.0e-6), MapComponent(20, 10, 13, IntegratedFunction(20, 10, 13, Rectifier(\"softplus\"), ParametricFunction(ExpandedFunction(20, 10, 13, MultiBasis(Basis of 20 functions: Constant -> 18th degree Probabilistic Hermite function\n",
       ", 13), [0 1 … 0 0; 0 0 … 0 0; … ; 0 0 … 0 4; 3 0 … 0 0], [-0.5462587484016227, 0.9988764577320767, 0.10915082983197913, -3.2604279308245774, -0.5350459231060104, 2.880934505072269, 0.15198160243003822, -1.059763359650409, -2.0821808969766447, 1.1671880757236812]))), 1.0e-6), MapComponent(20, 10, 14, IntegratedFunction(20, 10, 14, Rectifier(\"softplus\"), ParametricFunction(ExpandedFunction(20, 10, 14, MultiBasis(Basis of 20 functions: Constant -> 18th degree Probabilistic Hermite function\n",
       ", 14), [0 0 … 1 0; 0 0 … 0 1; … ; 0 0 … 0 0; 0 0 … 0 0], [0.42230980895484016, -0.52000727026741, 1.6907440399941267, -0.35512064736401316, 0.23364088812983866, 0.3954634122919867, -0.16737800881487877, 0.404844814054084, -0.4292382052348662, -0.33837394223229694]))), 1.0e-6), MapComponent(20, 10, 15, IntegratedFunction(20, 10, 15, Rectifier(\"softplus\"), ParametricFunction(ExpandedFunction(20, 10, 15, MultiBasis(Basis of 20 functions: Constant -> 18th degree Probabilistic Hermite function\n",
       ", 15), [0 0 … 0 0; 0 0 … 0 1; … ; 0 0 … 0 0; 0 0 … 0 0], [2.495063807773895, -1.2385607403063237, 1.3265295905333745, -0.2428355526409222, -0.7790815828299841, 0.3115124363524533, -0.7763136831480234, 0.5233853359738933, -0.21514741567748613, 0.4765379473165471]))), 1.0e-6), MapComponent(20, 10, 16, IntegratedFunction(20, 10, 16, Rectifier(\"softplus\"), ParametricFunction(ExpandedFunction(20, 10, 16, MultiBasis(Basis of 20 functions: Constant -> 18th degree Probabilistic Hermite function\n",
       ", 16), [0 0 … 0 0; 0 0 … 0 0; … ; 0 0 … 0 0; 0 0 … 0 0], [-0.46715243359686487, 0.5937589143466468, 0.7255309229802472, 0.21465269521655744, -0.2650800673025151, -0.18368773460793658, -0.7071149227429467, -0.5520055397345727, -0.6485121916574399, -0.3569558667350366]))), 1.0e-6), MapComponent(20, 10, 17, IntegratedFunction(20, 10, 17, Rectifier(\"softplus\"), ParametricFunction(ExpandedFunction(20, 10, 17, MultiBasis(Basis of 20 functions: Constant -> 18th degree Probabilistic Hermite function\n",
       ", 17), [0 0 … 0 0; 0 0 … 0 0; … ; 0 0 … 0 0; 0 0 … 0 0], [0.3438377009424263, 0.3053409382269165, 0.6045155200954662, -0.41344242051794255, 0.4119549359874191, -0.14885679636721608, -0.3730563685524705, -0.10980379125996759, 0.3079286433722864, -0.08440648552288638]))), 1.0e-6), MapComponent(20, 10, 18, IntegratedFunction(20, 10, 18, Rectifier(\"softplus\"), ParametricFunction(ExpandedFunction(20, 10, 18, MultiBasis(Basis of 20 functions: Constant -> 18th degree Probabilistic Hermite function\n",
       ", 18), [0 0 … 0 1; 0 0 … 0 2; … ; 0 0 … 0 0; 0 0 … 0 0], [-1.9779337071637935, 2.0475544885259342, 0.934083322345026, -0.5418611878146705, 1.2889535973160586, -0.841951548901688, 0.7852084941960134, -0.657922051955239, 0.3026080100774344, 0.5747310516847197]))), 1.0e-6), MapComponent(20, 10, 19, IntegratedFunction(20, 10, 19, Rectifier(\"softplus\"), ParametricFunction(ExpandedFunction(20, 10, 19, MultiBasis(Basis of 20 functions: Constant -> 18th degree Probabilistic Hermite function\n",
       ", 19), [0 0 … 0 0; 0 0 … 1 0; … ; 0 0 … 0 0; 0 0 … 0 0], [-2.316366280898742, 0.6265749541002071, -0.07670743767160922, -0.30859679177753874, 0.44722480177005847, 0.5070785420316879, -0.6520780819773332, -0.6692060983967234, 0.4557016227923826, 0.14364066505915757]))), 1.0e-6), MapComponent(20, 10, 20, IntegratedFunction(20, 10, 20, Rectifier(\"softplus\"), ParametricFunction(ExpandedFunction(20, 10, 20, MultiBasis(Basis of 20 functions: Constant -> 18th degree Probabilistic Hermite function\n",
       ", 20), [0 0 … 0 0; 0 0 … 0 0; … ; 0 0 … 0 0; 0 0 … 0 0], [0.8468545560002936, -0.3725328291037048, -0.6985772943200638, -0.15621843304757072, -0.568518668876057, 0.5644289091120389, -0.32213312944497324, 0.07696271627141207, -0.417131303534864, 0.3351895067185656]))), 1.0e-6)])"
      ]
     },
     "execution_count": 87,
     "metadata": {},
     "output_type": "execute_result"
    }
   ],
   "source": [
    "@time optimize(M, X, 10; P = serial)"
   ]
  },
  {
   "cell_type": "code",
   "execution_count": 28,
   "metadata": {},
   "outputs": [
    {
     "data": {
      "text/plain": [
       "timing (generic function with 1 method)"
      ]
     },
     "execution_count": 28,
     "metadata": {},
     "output_type": "execute_result"
    }
   ],
   "source": [
    "function timing()\n",
    "    @btime begin \n",
    "        M = HermiteMap($m, $X)\n",
    "        optimize($M, $X, $10; P = serial)\n",
    "    end\n",
    "end"
   ]
  },
  {
   "cell_type": "code",
   "execution_count": 29,
   "metadata": {},
   "outputs": [
    {
     "name": "stdout",
     "output_type": "stream",
     "text": [
      "  973.450 ms (1054425 allocations: 1.43 GiB)\n"
     ]
    }
   ],
   "source": [
    "timing();"
   ]
  },
  {
   "cell_type": "code",
   "execution_count": 30,
   "metadata": {},
   "outputs": [
    {
     "data": {
      "text/plain": [
       "timing (generic function with 1 method)"
      ]
     },
     "execution_count": 30,
     "metadata": {},
     "output_type": "execute_result"
    }
   ],
   "source": [
    "function timing()\n",
    "    @btime begin \n",
    "        M = HermiteMap($m, $X)\n",
    "        optimize($M, $X, $10; P = thread)\n",
    "    end\n",
    "end"
   ]
  },
  {
   "cell_type": "code",
   "execution_count": 88,
   "metadata": {},
   "outputs": [
    {
     "name": "stdout",
     "output_type": "stream",
     "text": [
      "  297.730 ms (1000725 allocations: 1.35 GiB)\n"
     ]
    }
   ],
   "source": [
    "timing();"
   ]
  }
 ],
 "metadata": {
  "kernelspec": {
   "display_name": "Julia 1.5.0",
   "language": "julia",
   "name": "julia-1.5"
  },
  "language_info": {
   "file_extension": ".jl",
   "mimetype": "application/julia",
   "name": "julia",
   "version": "1.5.0"
  }
 },
 "nbformat": 4,
 "nbformat_minor": 2
}
