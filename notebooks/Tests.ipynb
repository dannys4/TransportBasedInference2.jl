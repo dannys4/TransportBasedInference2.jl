{
 "cells": [
  {
   "cell_type": "code",
   "execution_count": 1,
   "metadata": {},
   "outputs": [
    {
     "name": "stderr",
     "output_type": "stream",
     "text": [
      "\u001b[32m\u001b[1m Activating\u001b[22m\u001b[39m environment at `/media/mat/HDD/AdaptiveTransportMap/Project.toml`\n"
     ]
    }
   ],
   "source": [
    "using Pkg\n",
    "Pkg.activate(\"/media/mat/HDD/AdaptiveTransportMap/\")"
   ]
  },
  {
   "cell_type": "code",
   "execution_count": 2,
   "metadata": {},
   "outputs": [],
   "source": [
    "using Revise\n",
    "using AdaptiveTransportMap\n",
    "using LinearAlgebra\n",
    "using Test\n",
    "using ForwardDiff\n",
    "using SpecialFunctions\n",
    "using Polynomials\n",
    "using BenchmarkTools\n",
    "using TransportMap\n",
    "using QuadGK\n",
    "using FastGaussQuadrature\n",
    "using AdaptiveTransportMap: derivative, vander\n",
    "using DiffResults\n",
    "using QuadGK"
   ]
  },
  {
   "cell_type": "markdown",
   "metadata": {},
   "source": [
    "### Basis"
   ]
  },
  {
   "cell_type": "code",
   "execution_count": 3,
   "metadata": {},
   "outputs": [
    {
     "data": {
      "text/plain": [
       "MultiBasis{9,6}(Basis of 9 functions:\n",
       "ProPolyHermite{0}(ImmutablePolynomial(1.0), false)\n",
       "ProHermite{0}(ProPolyHermite{0}(ImmutablePolynomial(1.0), false), false)\n",
       "ProHermite{1}(ProPolyHermite{1}(ImmutablePolynomial(1.0*x), false), false)\n",
       "ProHermite{2}(ProPolyHermite{2}(ImmutablePolynomial(-1.0 + 1.0*x^2), false), false)\n",
       "ProHermite{3}(ProPolyHermite{3}(ImmutablePolynomial(-3.0*x + 1.0*x^3), false), false)\n",
       "ProHermite{4}(ProPolyHermite{4}(ImmutablePolynomial(3.0 - 6.0*x^2 + 1.0*x^4), false), false)\n",
       "ProHermite{5}(ProPolyHermite{5}(ImmutablePolynomial(15.0*x - 10.0*x^3 + 1.0*x^5), false), false)\n",
       "ProHermite{6}(ProPolyHermite{6}(ImmutablePolynomial(-15.0 + 45.0*x^2 - 15.0*x^4 + 1.0*x^6), false), false)\n",
       "ProHermite{7}(ProPolyHermite{7}(ImmutablePolynomial(-105.0*x + 105.0*x^3 - 21.0*x^5 + 1.0*x^7), false), false)\n",
       ")"
      ]
     },
     "execution_count": 3,
     "metadata": {},
     "output_type": "execute_result"
    }
   ],
   "source": [
    "Nx = 6\n",
    "B = CstProHermite(7)\n",
    "MB = MultiBasis(B, Nx)"
   ]
  },
  {
   "cell_type": "code",
   "execution_count": 14,
   "metadata": {},
   "outputs": [
    {
     "data": {
      "text/plain": [
       "f (generic function with 1 method)"
      ]
     },
     "execution_count": 14,
     "metadata": {},
     "output_type": "execute_result"
    }
   ],
   "source": []
  },
  {
   "cell_type": "code",
   "execution_count": 4,
   "metadata": {},
   "outputs": [
    {
     "name": "stdout",
     "output_type": "stream",
     "text": [
      "  1.867 μs (9 allocations: 480 bytes)\n"
     ]
    },
    {
     "data": {
      "text/plain": [
       "1-element Array{Float64,1}:\n",
       " -0.39188218965422494"
      ]
     },
     "execution_count": 4,
     "metadata": {},
     "output_type": "execute_result"
    }
   ],
   "source": [
    "@btime ForwardDiff.gradient(x->B[5](x[1]),[5.0])"
   ]
  },
  {
   "cell_type": "code",
   "execution_count": 5,
   "metadata": {},
   "outputs": [
    {
     "name": "stdout",
     "output_type": "stream",
     "text": [
      "  107.739 ns (6 allocations: 176 bytes)\n"
     ]
    },
    {
     "data": {
      "text/plain": [
       "-0.39188218965422494"
      ]
     },
     "execution_count": 5,
     "metadata": {},
     "output_type": "execute_result"
    }
   ],
   "source": [
    "@btime ForwardDiff.derivative(x->B[5](x),5.0)"
   ]
  },
  {
   "cell_type": "code",
   "execution_count": 6,
   "metadata": {},
   "outputs": [
    {
     "data": {
      "text/plain": [
       "timing (generic function with 1 method)"
      ]
     },
     "execution_count": 6,
     "metadata": {},
     "output_type": "execute_result"
    }
   ],
   "source": [
    "function timing()\n",
    "    f(x) = (x^5-4*x^3+1)*exp(-x^2/2)  \n",
    "    @btime ForwardDiff.gradient(x->f(x[1]),[5.0])\n",
    "    @btime ForwardDiff.derivative(x->f(x),5.0)\n",
    "end"
   ]
  },
  {
   "cell_type": "code",
   "execution_count": 51,
   "metadata": {},
   "outputs": [
    {
     "data": {
      "text/plain": [
       "PhyHermite{4}(PhyPolyHermite{4}(ImmutablePolynomial(12.0 - 48.0*x^2 + 16.0*x^4), false), false)"
      ]
     },
     "execution_count": 51,
     "metadata": {},
     "output_type": "execute_result"
    }
   ],
   "source": [
    "FamilyPhyHermite[5].P"
   ]
  },
  {
   "cell_type": "code",
   "execution_count": 8,
   "metadata": {},
   "outputs": [
    {
     "name": "stdout",
     "output_type": "stream",
     "text": [
      "  2.024 μs (137 allocations: 2.34 KiB)\n"
     ]
    },
    {
     "data": {
      "text/plain": [
       "(0.5630021473036511, 1.4497070210950369e-11)"
      ]
     },
     "execution_count": 8,
     "metadata": {},
     "output_type": "execute_result"
    }
   ],
   "source": [
    "@btime quadgk(x->FamilyPhyHermite[5](x), 0, 1.0)"
   ]
  },
  {
   "cell_type": "code",
   "execution_count": 9,
   "metadata": {},
   "outputs": [],
   "source": [
    "Nx = 10\n",
    "Nψ = 8\n",
    "B = CstProHermite(4)\n",
    "MB = MultiBasis(B, Nx)\n",
    "f = ExpandedFunction([MultiFunction(MB, rand(1:6,10)) for i=1:5], randn(5));"
   ]
  },
  {
   "cell_type": "code",
   "execution_count": 10,
   "metadata": {},
   "outputs": [
    {
     "ename": "MethodError",
     "evalue": "MethodError: no method matching getindex(::MultiBasis{6,10}, ::Int64)",
     "output_type": "error",
     "traceback": [
      "MethodError: no method matching getindex(::MultiBasis{6,10}, ::Int64)",
      "",
      "Stacktrace:",
      " [1] (::MultiFunction{6,10})(::Array{ForwardDiff.Dual{ForwardDiff.Tag{ExpandedFunction{5,6,10},Float64},Float64,10},1}) at /media/mat/HDD/AdaptiveTransportMap/src/multifunction.jl:39",
      " [2] ExpandedFunction at /media/mat/HDD/AdaptiveTransportMap/src/expandedfunction.jl:30 [inlined]",
      " [3] vector_mode_dual_eval(::ExpandedFunction{5,6,10}, ::Array{Float64,1}, ::ForwardDiff.GradientConfig{ForwardDiff.Tag{ExpandedFunction{5,6,10},Float64},Float64,10,Array{ForwardDiff.Dual{ForwardDiff.Tag{ExpandedFunction{5,6,10},Float64},Float64,10},1}}) at /home/mat/.julia/packages/ForwardDiff/sdToQ/src/apiutils.jl:37",
      " [4] vector_mode_gradient! at /home/mat/.julia/packages/ForwardDiff/sdToQ/src/gradient.jl:103 [inlined]",
      " [5] gradient! at /home/mat/.julia/packages/ForwardDiff/sdToQ/src/gradient.jl:35 [inlined]",
      " [6] gradient!(::DiffResults.MutableDiffResult{2,Float64,Tuple{Array{Float64,1},Array{Float64,2}}}, ::ExpandedFunction{5,6,10}, ::Array{Float64,1}, ::ForwardDiff.GradientConfig{ForwardDiff.Tag{ExpandedFunction{5,6,10},Float64},Float64,10,Array{ForwardDiff.Dual{ForwardDiff.Tag{ExpandedFunction{5,6,10},Float64},Float64,10},1}}) at /home/mat/.julia/packages/ForwardDiff/sdToQ/src/gradient.jl:33 (repeats 2 times)",
      " [7] macro expansion at ./util.jl:175 [inlined]",
      " [8] top-level scope at ./In[10]:2"
     ]
    }
   ],
   "source": [
    "result = DiffResults.HessianResult(randn(10));\n",
    "@time result = ForwardDiff.gradient!(result, f, randn(10));"
   ]
  },
  {
   "cell_type": "code",
   "execution_count": 11,
   "metadata": {},
   "outputs": [
    {
     "ename": "MethodError",
     "evalue": "MethodError: no method matching first()\nClosest candidates are:\n  first(!Matched::Tuple{}) at tuple.jl:95\n  first(!Matched::BitSet) at bitset.jl:356\n  first(!Matched::Core.Compiler.StmtRange) at show.jl:1848\n  ...",
     "output_type": "error",
     "traceback": [
      "MethodError: no method matching first()\nClosest candidates are:\n  first(!Matched::Tuple{}) at tuple.jl:95\n  first(!Matched::BitSet) at bitset.jl:356\n  first(!Matched::Core.Compiler.StmtRange) at show.jl:1848\n  ...",
      "",
      "Stacktrace:",
      " [1] top-level scope at In[11]:1"
     ]
    }
   ],
   "source": [
    "first()"
   ]
  },
  {
   "cell_type": "code",
   "execution_count": 12,
   "metadata": {},
   "outputs": [
    {
     "data": {
      "text/plain": [
       "timing2 (generic function with 1 method)"
      ]
     },
     "execution_count": 12,
     "metadata": {},
     "output_type": "execute_result"
    }
   ],
   "source": [
    "function timing2()\n",
    "    @btime x = randn(100,20)\n",
    "    @btime begin \n",
    "        x = randn(20,200)\n",
    "        for i=1:200\n",
    "        x[10,i]\n",
    "        end\n",
    "    end\n",
    "end"
   ]
  },
  {
   "cell_type": "code",
   "execution_count": 13,
   "metadata": {},
   "outputs": [
    {
     "name": "stdout",
     "output_type": "stream",
     "text": [
      "  10.325 μs (1 allocation: 15.75 KiB)\n",
      "  20.985 μs (2 allocations: 31.33 KiB)\n"
     ]
    }
   ],
   "source": [
    "timing2()"
   ]
  },
  {
   "cell_type": "code",
   "execution_count": 14,
   "metadata": {},
   "outputs": [
    {
     "data": {
      "text/plain": [
       "timing (generic function with 1 method)"
      ]
     },
     "execution_count": 14,
     "metadata": {},
     "output_type": "execute_result"
    }
   ],
   "source": [
    "function timing()\n",
    "    Nx = 10\n",
    "    Nψ = 8\n",
    "    B = CstProHermite(4)\n",
    "    MB = MultiBasis(B, Nx);\n",
    "    f = ExpandedFunction([MultiFunction(MB, rand(1:6,10)) for i=1:5], randn(5));\n",
    "    [f(randn(10)) for i=1:200]\n",
    "end"
   ]
  },
  {
   "cell_type": "code",
   "execution_count": null,
   "metadata": {},
   "outputs": [],
   "source": []
  },
  {
   "cell_type": "code",
   "execution_count": 15,
   "metadata": {},
   "outputs": [
    {
     "ename": "MethodError",
     "evalue": "MethodError: no method matching getindex(::MultiBasis{6,10}, ::Int64)",
     "output_type": "error",
     "traceback": [
      "MethodError: no method matching getindex(::MultiBasis{6,10}, ::Int64)",
      "",
      "Stacktrace:",
      " [1] (::MultiFunction{6,10})(::Array{Float64,1}) at /media/mat/HDD/AdaptiveTransportMap/src/multifunction.jl:39",
      " [2] ExpandedFunction at /media/mat/HDD/AdaptiveTransportMap/src/expandedfunction.jl:30 [inlined]",
      " [3] (::var\"#21#23\"{ExpandedFunction{5,6,10}})(::Int64) at ./none:0",
      " [4] iterate at ./generator.jl:47 [inlined]",
      " [5] collect(::Base.Generator{UnitRange{Int64},var\"#21#23\"{ExpandedFunction{5,6,10}}}) at ./array.jl:665",
      " [6] timing() at ./In[14]:7",
      " [7] ##core#338() at /home/mat/.julia/packages/BenchmarkTools/eCEpo/src/execution.jl:371",
      " [8] ##sample#339(::BenchmarkTools.Parameters) at /home/mat/.julia/packages/BenchmarkTools/eCEpo/src/execution.jl:377",
      " [9] _run(::BenchmarkTools.Benchmark{Symbol(\"##benchmark#337\")}, ::BenchmarkTools.Parameters; verbose::Bool, pad::String, kwargs::Base.Iterators.Pairs{Symbol,Integer,NTuple{4,Symbol},NamedTuple{(:samples, :evals, :gctrial, :gcsample),Tuple{Int64,Int64,Bool,Bool}}}) at /home/mat/.julia/packages/BenchmarkTools/eCEpo/src/execution.jl:405",
      " [10] (::Base.var\"#inner#2\"{Base.Iterators.Pairs{Symbol,Integer,NTuple{5,Symbol},NamedTuple{(:verbose, :samples, :evals, :gctrial, :gcsample),Tuple{Bool,Int64,Int64,Bool,Bool}}},typeof(BenchmarkTools._run),Tuple{BenchmarkTools.Benchmark{Symbol(\"##benchmark#337\")},BenchmarkTools.Parameters}})() at ./essentials.jl:715",
      " [11] #invokelatest#1 at ./essentials.jl:716 [inlined]",
      " [12] #run_result#37 at /home/mat/.julia/packages/BenchmarkTools/eCEpo/src/execution.jl:32 [inlined]",
      " [13] run(::BenchmarkTools.Benchmark{Symbol(\"##benchmark#337\")}, ::BenchmarkTools.Parameters; progressid::Nothing, nleaves::Float64, ndone::Float64, kwargs::Base.Iterators.Pairs{Symbol,Integer,NTuple{5,Symbol},NamedTuple{(:verbose, :samples, :evals, :gctrial, :gcsample),Tuple{Bool,Int64,Int64,Bool,Bool}}}) at /home/mat/.julia/packages/BenchmarkTools/eCEpo/src/execution.jl:94",
      " [14] #warmup#45 at /home/mat/.julia/packages/BenchmarkTools/eCEpo/src/execution.jl:141 [inlined]",
      " [15] warmup(::BenchmarkTools.Benchmark{Symbol(\"##benchmark#337\")}) at /home/mat/.julia/packages/BenchmarkTools/eCEpo/src/execution.jl:141",
      " [16] top-level scope at /home/mat/.julia/packages/BenchmarkTools/eCEpo/src/execution.jl:481",
      " [17] top-level scope at In[15]:1"
     ]
    }
   ],
   "source": [
    "@btime timing()"
   ]
  },
  {
   "cell_type": "code",
   "execution_count": 16,
   "metadata": {},
   "outputs": [
    {
     "ename": "MethodError",
     "evalue": "MethodError: no method matching getindex(::MultiBasis{6,10}, ::Int64)",
     "output_type": "error",
     "traceback": [
      "MethodError: no method matching getindex(::MultiBasis{6,10}, ::Int64)",
      "",
      "Stacktrace:",
      " [1] (::MultiFunction{6,10})(::Array{Float64,1}) at /media/mat/HDD/AdaptiveTransportMap/src/multifunction.jl:39",
      " [2] (::ExpandedFunction{5,6,10})(::Array{Float64,1}) at /media/mat/HDD/AdaptiveTransportMap/src/expandedfunction.jl:30",
      " [3] (::var\"#25#26\")(::Int64) at ./none:0",
      " [4] iterate at ./generator.jl:47 [inlined]",
      " [5] collect(::Base.Generator{UnitRange{Int64},var\"#25#26\"}) at ./array.jl:665",
      " [6] top-level scope at util.jl:175",
      " [7] top-level scope at In[16]:1"
     ]
    }
   ],
   "source": [
    "@time [f(randn(10)) for i=1:200]"
   ]
  },
  {
   "cell_type": "code",
   "execution_count": 17,
   "metadata": {},
   "outputs": [
    {
     "ename": "MethodError",
     "evalue": "MethodError: no method matching getindex(::MultiBasis{6,10}, ::Int64)",
     "output_type": "error",
     "traceback": [
      "MethodError: no method matching getindex(::MultiBasis{6,10}, ::Int64)",
      "",
      "Stacktrace:",
      " [1] (::MultiFunction{6,10})(::Array{ForwardDiff.Dual{ForwardDiff.Tag{ExpandedFunction{5,6,10},Float64},Float64,10},1}) at /media/mat/HDD/AdaptiveTransportMap/src/multifunction.jl:39",
      " [2] ExpandedFunction at /media/mat/HDD/AdaptiveTransportMap/src/expandedfunction.jl:30 [inlined]",
      " [3] vector_mode_dual_eval(::ExpandedFunction{5,6,10}, ::Array{Float64,1}, ::ForwardDiff.GradientConfig{ForwardDiff.Tag{ExpandedFunction{5,6,10},Float64},Float64,10,Array{ForwardDiff.Dual{ForwardDiff.Tag{ExpandedFunction{5,6,10},Float64},Float64,10},1}}) at /home/mat/.julia/packages/ForwardDiff/sdToQ/src/apiutils.jl:37",
      " [4] vector_mode_gradient at /home/mat/.julia/packages/ForwardDiff/sdToQ/src/gradient.jl:97 [inlined]",
      " [5] gradient at /home/mat/.julia/packages/ForwardDiff/sdToQ/src/gradient.jl:17 [inlined]",
      " [6] gradient(::ExpandedFunction{5,6,10}, ::Array{Float64,1}, ::ForwardDiff.GradientConfig{ForwardDiff.Tag{ExpandedFunction{5,6,10},Float64},Float64,10,Array{ForwardDiff.Dual{ForwardDiff.Tag{ExpandedFunction{5,6,10},Float64},Float64,10},1}}) at /home/mat/.julia/packages/ForwardDiff/sdToQ/src/gradient.jl:15 (repeats 2 times)",
      " [7] ##core#346() at /home/mat/.julia/packages/BenchmarkTools/eCEpo/src/execution.jl:371",
      " [8] ##sample#347(::BenchmarkTools.Parameters) at /home/mat/.julia/packages/BenchmarkTools/eCEpo/src/execution.jl:377",
      " [9] _run(::BenchmarkTools.Benchmark{Symbol(\"##benchmark#345\")}, ::BenchmarkTools.Parameters; verbose::Bool, pad::String, kwargs::Base.Iterators.Pairs{Symbol,Integer,NTuple{4,Symbol},NamedTuple{(:samples, :evals, :gctrial, :gcsample),Tuple{Int64,Int64,Bool,Bool}}}) at /home/mat/.julia/packages/BenchmarkTools/eCEpo/src/execution.jl:405",
      " [10] (::Base.var\"#inner#2\"{Base.Iterators.Pairs{Symbol,Integer,NTuple{5,Symbol},NamedTuple{(:verbose, :samples, :evals, :gctrial, :gcsample),Tuple{Bool,Int64,Int64,Bool,Bool}}},typeof(BenchmarkTools._run),Tuple{BenchmarkTools.Benchmark{Symbol(\"##benchmark#345\")},BenchmarkTools.Parameters}})() at ./essentials.jl:715",
      " [11] #invokelatest#1 at ./essentials.jl:716 [inlined]",
      " [12] #run_result#37 at /home/mat/.julia/packages/BenchmarkTools/eCEpo/src/execution.jl:32 [inlined]",
      " [13] run(::BenchmarkTools.Benchmark{Symbol(\"##benchmark#345\")}, ::BenchmarkTools.Parameters; progressid::Nothing, nleaves::Float64, ndone::Float64, kwargs::Base.Iterators.Pairs{Symbol,Integer,NTuple{5,Symbol},NamedTuple{(:verbose, :samples, :evals, :gctrial, :gcsample),Tuple{Bool,Int64,Int64,Bool,Bool}}}) at /home/mat/.julia/packages/BenchmarkTools/eCEpo/src/execution.jl:94",
      " [14] #warmup#45 at /home/mat/.julia/packages/BenchmarkTools/eCEpo/src/execution.jl:141 [inlined]",
      " [15] warmup(::BenchmarkTools.Benchmark{Symbol(\"##benchmark#345\")}) at /home/mat/.julia/packages/BenchmarkTools/eCEpo/src/execution.jl:141",
      " [16] top-level scope at /home/mat/.julia/packages/BenchmarkTools/eCEpo/src/execution.jl:481",
      " [17] top-level scope at In[17]:1"
     ]
    }
   ],
   "source": [
    "@btime ForwardDiff.gradient(f, randn(10))"
   ]
  },
  {
   "cell_type": "code",
   "execution_count": 18,
   "metadata": {},
   "outputs": [
    {
     "data": {
      "text/plain": [
       "timing (generic function with 1 method)"
      ]
     },
     "execution_count": 18,
     "metadata": {},
     "output_type": "execute_result"
    }
   ],
   "source": [
    "function timing() \n",
    "    f = MultiFunction(MB, rand(1:6,10));\n",
    "    result = DiffResults.HessianResult(randn(10));\n",
    "    result = ForwardDiff.hessian!(result, f, randn(10));\n",
    "end"
   ]
  },
  {
   "cell_type": "code",
   "execution_count": 19,
   "metadata": {},
   "outputs": [
    {
     "data": {
      "text/plain": [
       "timing2 (generic function with 1 method)"
      ]
     },
     "execution_count": 19,
     "metadata": {},
     "output_type": "execute_result"
    }
   ],
   "source": [
    "function timing2() \n",
    "    f = MultiFunction(MB, rand(1:6,10));\n",
    "    x = randn(10)\n",
    "    f(x)\n",
    "    ForwardDiff.gradient(f, x);\n",
    "    ForwardDiff.hessian(f, x);\n",
    "end"
   ]
  },
  {
   "cell_type": "code",
   "execution_count": 20,
   "metadata": {},
   "outputs": [
    {
     "ename": "MethodError",
     "evalue": "MethodError: no method matching getindex(::MultiBasis{6,10}, ::Int64)",
     "output_type": "error",
     "traceback": [
      "MethodError: no method matching getindex(::MultiBasis{6,10}, ::Int64)",
      "",
      "Stacktrace:",
      " [1] (::MultiFunction{6,10})(::Array{ForwardDiff.Dual{ForwardDiff.Tag{MultiFunction{6,10},Float64},ForwardDiff.Dual{ForwardDiff.Tag{MultiFunction{6,10},Float64},Float64,10},10},1}) at /media/mat/HDD/AdaptiveTransportMap/src/multifunction.jl:39",
      " [2] vector_mode_dual_eval at /home/mat/.julia/packages/ForwardDiff/sdToQ/src/apiutils.jl:37 [inlined]",
      " [3] vector_mode_gradient!(::DiffResults.MutableDiffResult{1,ForwardDiff.Dual{ForwardDiff.Tag{MultiFunction{6,10},Float64},Float64,10},Tuple{Array{ForwardDiff.Dual{ForwardDiff.Tag{MultiFunction{6,10},Float64},Float64,10},1}}}, ::MultiFunction{6,10}, ::Array{ForwardDiff.Dual{ForwardDiff.Tag{MultiFunction{6,10},Float64},Float64,10},1}, ::ForwardDiff.GradientConfig{ForwardDiff.Tag{MultiFunction{6,10},Float64},ForwardDiff.Dual{ForwardDiff.Tag{MultiFunction{6,10},Float64},Float64,10},10,Array{ForwardDiff.Dual{ForwardDiff.Tag{MultiFunction{6,10},Float64},ForwardDiff.Dual{ForwardDiff.Tag{MultiFunction{6,10},Float64},Float64,10},10},1}}) at /home/mat/.julia/packages/ForwardDiff/sdToQ/src/gradient.jl:103",
      " [4] gradient! at /home/mat/.julia/packages/ForwardDiff/sdToQ/src/gradient.jl:35 [inlined]",
      " [5] InnerGradientForHess at /home/mat/.julia/packages/ForwardDiff/sdToQ/src/hessian.jl:50 [inlined]",
      " [6] vector_mode_dual_eval(::ForwardDiff.InnerGradientForHess{DiffResults.MutableDiffResult{2,Float64,Tuple{Array{Float64,1},Array{Float64,2}}},ForwardDiff.HessianConfig{ForwardDiff.Tag{MultiFunction{6,10},Float64},Float64,10,Array{ForwardDiff.Dual{ForwardDiff.Tag{MultiFunction{6,10},Float64},ForwardDiff.Dual{ForwardDiff.Tag{MultiFunction{6,10},Float64},Float64,10},10},1},Tuple{Array{ForwardDiff.Dual{ForwardDiff.Tag{MultiFunction{6,10},Float64},Float64,10},1},Array{ForwardDiff.Dual{ForwardDiff.Tag{MultiFunction{6,10},Float64},Float64,10},1}}},MultiFunction{6,10}}, ::Array{Float64,1}, ::Array{Float64,1}, ::ForwardDiff.JacobianConfig{ForwardDiff.Tag{MultiFunction{6,10},Float64},Float64,10,Tuple{Array{ForwardDiff.Dual{ForwardDiff.Tag{MultiFunction{6,10},Float64},Float64,10},1},Array{ForwardDiff.Dual{ForwardDiff.Tag{MultiFunction{6,10},Float64},Float64,10},1}}}) at /home/mat/.julia/packages/ForwardDiff/sdToQ/src/apiutils.jl:44",
      " [7] vector_mode_jacobian!(::Array{Float64,2}, ::ForwardDiff.InnerGradientForHess{DiffResults.MutableDiffResult{2,Float64,Tuple{Array{Float64,1},Array{Float64,2}}},ForwardDiff.HessianConfig{ForwardDiff.Tag{MultiFunction{6,10},Float64},Float64,10,Array{ForwardDiff.Dual{ForwardDiff.Tag{MultiFunction{6,10},Float64},ForwardDiff.Dual{ForwardDiff.Tag{MultiFunction{6,10},Float64},Float64,10},10},1},Tuple{Array{ForwardDiff.Dual{ForwardDiff.Tag{MultiFunction{6,10},Float64},Float64,10},1},Array{ForwardDiff.Dual{ForwardDiff.Tag{MultiFunction{6,10},Float64},Float64,10},1}}},MultiFunction{6,10}}, ::Array{Float64,1}, ::Array{Float64,1}, ::ForwardDiff.JacobianConfig{ForwardDiff.Tag{MultiFunction{6,10},Float64},Float64,10,Tuple{Array{ForwardDiff.Dual{ForwardDiff.Tag{MultiFunction{6,10},Float64},Float64,10},1},Array{ForwardDiff.Dual{ForwardDiff.Tag{MultiFunction{6,10},Float64},Float64,10},1}}}) at /home/mat/.julia/packages/ForwardDiff/sdToQ/src/jacobian.jl:164",
      " [8] jacobian! at /home/mat/.julia/packages/ForwardDiff/sdToQ/src/jacobian.jl:74 [inlined]",
      " [9] hessian! at /home/mat/.julia/packages/ForwardDiff/sdToQ/src/hessian.jl:67 [inlined]",
      " [10] hessian!(::DiffResults.MutableDiffResult{2,Float64,Tuple{Array{Float64,1},Array{Float64,2}}}, ::MultiFunction{6,10}, ::Array{Float64,1}, ::ForwardDiff.HessianConfig{ForwardDiff.Tag{MultiFunction{6,10},Float64},Float64,10,Array{ForwardDiff.Dual{ForwardDiff.Tag{MultiFunction{6,10},Float64},ForwardDiff.Dual{ForwardDiff.Tag{MultiFunction{6,10},Float64},Float64,10},10},1},Tuple{Array{ForwardDiff.Dual{ForwardDiff.Tag{MultiFunction{6,10},Float64},Float64,10},1},Array{ForwardDiff.Dual{ForwardDiff.Tag{MultiFunction{6,10},Float64},Float64,10},1}}}) at /home/mat/.julia/packages/ForwardDiff/sdToQ/src/hessian.jl:65 (repeats 2 times)",
      " [11] timing() at ./In[18]:4",
      " [12] ##core#354() at /home/mat/.julia/packages/BenchmarkTools/eCEpo/src/execution.jl:371",
      " [13] ##sample#355(::BenchmarkTools.Parameters) at /home/mat/.julia/packages/BenchmarkTools/eCEpo/src/execution.jl:377",
      " [14] _run(::BenchmarkTools.Benchmark{Symbol(\"##benchmark#353\")}, ::BenchmarkTools.Parameters; verbose::Bool, pad::String, kwargs::Base.Iterators.Pairs{Symbol,Integer,NTuple{4,Symbol},NamedTuple{(:samples, :evals, :gctrial, :gcsample),Tuple{Int64,Int64,Bool,Bool}}}) at /home/mat/.julia/packages/BenchmarkTools/eCEpo/src/execution.jl:405",
      " [15] (::Base.var\"#inner#2\"{Base.Iterators.Pairs{Symbol,Integer,NTuple{5,Symbol},NamedTuple{(:verbose, :samples, :evals, :gctrial, :gcsample),Tuple{Bool,Int64,Int64,Bool,Bool}}},typeof(BenchmarkTools._run),Tuple{BenchmarkTools.Benchmark{Symbol(\"##benchmark#353\")},BenchmarkTools.Parameters}})() at ./essentials.jl:715",
      " [16] #invokelatest#1 at ./essentials.jl:716 [inlined]",
      " [17] #run_result#37 at /home/mat/.julia/packages/BenchmarkTools/eCEpo/src/execution.jl:32 [inlined]",
      " [18] run(::BenchmarkTools.Benchmark{Symbol(\"##benchmark#353\")}, ::BenchmarkTools.Parameters; progressid::Nothing, nleaves::Float64, ndone::Float64, kwargs::Base.Iterators.Pairs{Symbol,Integer,NTuple{5,Symbol},NamedTuple{(:verbose, :samples, :evals, :gctrial, :gcsample),Tuple{Bool,Int64,Int64,Bool,Bool}}}) at /home/mat/.julia/packages/BenchmarkTools/eCEpo/src/execution.jl:94",
      " [19] #warmup#45 at /home/mat/.julia/packages/BenchmarkTools/eCEpo/src/execution.jl:141 [inlined]",
      " [20] warmup(::BenchmarkTools.Benchmark{Symbol(\"##benchmark#353\")}) at /home/mat/.julia/packages/BenchmarkTools/eCEpo/src/execution.jl:141",
      " [21] top-level scope at /home/mat/.julia/packages/BenchmarkTools/eCEpo/src/execution.jl:481",
      " [22] top-level scope at In[20]:1"
     ]
    }
   ],
   "source": [
    "@btime timing()"
   ]
  },
  {
   "cell_type": "code",
   "execution_count": 21,
   "metadata": {},
   "outputs": [
    {
     "ename": "MethodError",
     "evalue": "MethodError: no method matching getindex(::MultiBasis{6,10}, ::Int64)",
     "output_type": "error",
     "traceback": [
      "MethodError: no method matching getindex(::MultiBasis{6,10}, ::Int64)",
      "",
      "Stacktrace:",
      " [1] (::MultiFunction{6,10})(::Array{Float64,1}) at /media/mat/HDD/AdaptiveTransportMap/src/multifunction.jl:39",
      " [2] timing2() at ./In[19]:4",
      " [3] ##core#362() at /home/mat/.julia/packages/BenchmarkTools/eCEpo/src/execution.jl:371",
      " [4] ##sample#363(::BenchmarkTools.Parameters) at /home/mat/.julia/packages/BenchmarkTools/eCEpo/src/execution.jl:377",
      " [5] _run(::BenchmarkTools.Benchmark{Symbol(\"##benchmark#361\")}, ::BenchmarkTools.Parameters; verbose::Bool, pad::String, kwargs::Base.Iterators.Pairs{Symbol,Integer,NTuple{4,Symbol},NamedTuple{(:samples, :evals, :gctrial, :gcsample),Tuple{Int64,Int64,Bool,Bool}}}) at /home/mat/.julia/packages/BenchmarkTools/eCEpo/src/execution.jl:405",
      " [6] (::Base.var\"#inner#2\"{Base.Iterators.Pairs{Symbol,Integer,NTuple{5,Symbol},NamedTuple{(:verbose, :samples, :evals, :gctrial, :gcsample),Tuple{Bool,Int64,Int64,Bool,Bool}}},typeof(BenchmarkTools._run),Tuple{BenchmarkTools.Benchmark{Symbol(\"##benchmark#361\")},BenchmarkTools.Parameters}})() at ./essentials.jl:715",
      " [7] #invokelatest#1 at ./essentials.jl:716 [inlined]",
      " [8] #run_result#37 at /home/mat/.julia/packages/BenchmarkTools/eCEpo/src/execution.jl:32 [inlined]",
      " [9] run(::BenchmarkTools.Benchmark{Symbol(\"##benchmark#361\")}, ::BenchmarkTools.Parameters; progressid::Nothing, nleaves::Float64, ndone::Float64, kwargs::Base.Iterators.Pairs{Symbol,Integer,NTuple{5,Symbol},NamedTuple{(:verbose, :samples, :evals, :gctrial, :gcsample),Tuple{Bool,Int64,Int64,Bool,Bool}}}) at /home/mat/.julia/packages/BenchmarkTools/eCEpo/src/execution.jl:94",
      " [10] #warmup#45 at /home/mat/.julia/packages/BenchmarkTools/eCEpo/src/execution.jl:141 [inlined]",
      " [11] warmup(::BenchmarkTools.Benchmark{Symbol(\"##benchmark#361\")}) at /home/mat/.julia/packages/BenchmarkTools/eCEpo/src/execution.jl:141",
      " [12] top-level scope at /home/mat/.julia/packages/BenchmarkTools/eCEpo/src/execution.jl:481",
      " [13] top-level scope at In[21]:1"
     ]
    }
   ],
   "source": [
    "@btime timing2()"
   ]
  },
  {
   "cell_type": "markdown",
   "metadata": {},
   "source": [
    "### Hermite functions"
   ]
  },
  {
   "cell_type": "code",
   "execution_count": 68,
   "metadata": {},
   "outputs": [
    {
     "data": {
      "text/plain": [
       "PhyHermite{4}(PhyPolyHermite{4}(ImmutablePolynomial(0.4599685791773267 - 1.8398743167093068*x^2 + 0.6132914389031022*x^4), true), true)"
      ]
     },
     "execution_count": 68,
     "metadata": {},
     "output_type": "execute_result"
    }
   ],
   "source": [
    "FamilyScaledPhyHermite[5]"
   ]
  },
  {
   "cell_type": "code",
   "execution_count": 61,
   "metadata": {},
   "outputs": [
    {
     "data": {
      "text/plain": [
       "(0.5630021473036511, 8.881784197001252e-16)"
      ]
     },
     "execution_count": 61,
     "metadata": {},
     "output_type": "execute_result"
    }
   ],
   "source": [
    "integral, err = quadgk(x-> (12.0 -48*x^2 + 16*x^4)*exp(-x^2/2), 0.0, 1.0, rtol=1e-12)"
   ]
  },
  {
   "cell_type": "code",
   "execution_count": 102,
   "metadata": {},
   "outputs": [
    {
     "name": "stdout",
     "output_type": "stream",
     "text": [
      "dF = [-0.740475987583314, -0.2118041248390954, -0.723737006762011, 0.16332198675338616, -1.1349653390330037, -0.45474318136403646, 0.14037770514365783, 0.2407111754716413, -1.1110238905632188, 0.29979314335595375]\n",
      "1 / sqrt(2 ^ m) = 1.0\n",
      "dF = [-0.740475987583314, -0.2118041248390954, -0.723737006762011, 0.16332198675338616, -1.1349653390330037, -0.45474318136403646, 0.14037770514365783, 0.2407111754716413, -1.1110238905632188, 0.29979314335595375]\n",
      "dF = [-1.0471911842519344, -0.29953626591401283, -1.0235186905541445, 0.2309721687003577, -1.6050833752838518, -0.6431039744817085, 0.1985240544689723, 0.3404170089667651, -1.5712250541550254, 0.42397152924045134]\n",
      "dF = [0.5772887540590417, 0.04503047777933733, 0.5500498481714482, 0.02673373578416305, 1.506116803232493, 0.21053938093542235, 0.019738410060434308, 0.058225496753504524, 1.4282398231145264, 0.0905636111977175]\n",
      "1 / sqrt(2 ^ m) = 0.7071067811865475\n",
      "dF = [0.4082047926978814, 0.03184135619783957, 0.38894397763266186, 0.018903605859431155, 1.0649854048247007, 0.14887382396625484, 0.01395716360357387, 0.04117164359235835, 1.0099180640849565, 0.06403814360664799]\n",
      "dF = [0.5772887540590417, 0.04503047777933734, 0.5500498481714482, 0.02673373578416305, 1.506116803232493, 0.21053938093542232, 0.019738410060434308, 0.05822549675350452, 1.4282398231145261, 0.0905636111977175]\n",
      "dF = [0.8674536638469164, 0.4108239859714823, 0.878303892669281, -0.3208041107387968, -0.6179059790207229, 0.778557936218381, -0.27705242576255706, -0.4626065575349469, -0.41240535844805626, -0.562996339157501]\n",
      "1 / sqrt(2 ^ m) = 0.5\n",
      "dF = [0.4337268319234582, 0.20541199298574114, 0.4391519463346405, -0.1604020553693984, -0.30895298951036143, 0.3892789681091905, -0.13852621288127853, -0.23130327876747345, -0.20620267922402813, -0.2814981695787505]\n",
      "dF = [0.6133823680712704, 0.2904964263545222, 0.6210546384489902, -0.22684276213592336, -0.4369255079012657, 0.5505235962466208, -0.19590564900088667, -0.32711223385432575, -0.2916146255562894, -0.3980985292014704]\n",
      "dF = [-2.721830344202698, -0.2660965947137237, -2.6305408792073983, -0.15896661773580512, -2.513740194867667, -1.1712969097967267, -0.11764867458114114, -0.3425057898643846, -2.8711065522291888, -0.5267247751362634]\n",
      "1 / sqrt(2 ^ m) = 0.35355339059327373\n",
      "dF = [-0.9623123468125212, -0.09407935328636122, -0.930036646937987, -0.05620318669163874, -0.8887413689660604, -0.41411599385005665, -0.04159508779696715, -0.12109408330438051, -1.0150894562951938, -0.1862253301589056]\n",
      "dF = [-1.360915172101349, -0.13304829735686186, -1.3152704396036992, -0.07948330886790256, -1.2568700974338336, -0.5856484548983634, -0.058824337290570565, -0.1712528949321923, -1.4355532761145942, -0.2633623875681317]\n",
      "dF = [-2.487099282582431, -2.389632120028525, -2.700747720575519, 1.890162125340817, 4.864635005726772, -3.9547891852623924, 1.6402727373353254, 2.665403937599303, 4.795738634517594, 3.166533771896236]\n",
      "1 / sqrt(2 ^ m) = 0.25\n",
      "dF = [-0.6217748206456077, -0.5974080300071313, -0.6751869301438798, 0.47254053133520424, 1.216158751431693, -0.9886972963155981, 0.41006818433383135, 0.6663509843998258, 1.1989346586293985, 0.791633442974059]\n",
      "dF = [-0.8793223840991172, -0.844862538306678, -0.9548585137465303, 0.6682732281852344, 1.71990820027343, -1.3982291255311297, 0.5799239877826147, 0.9423625994388963, 1.6955496546328523, 1.1195387514820225]\n",
      "dF = [21.107813761286373, 2.62059857729119, 20.72522868338143, 1.5754111401745874, 2.4459990975896417, 10.847608380308309, 1.1687102080872975, 3.3576622626582022, 5.5251792061412885, 5.104779497693286]\n",
      "1 / sqrt(2 ^ m) = 0.17677669529663687\n",
      "dF = [3.7313695616570794, 0.4632607561926048, 3.6637374359152375, 0.2784959750935703, 0.4323956371704528, 1.9176043613430065, 0.20660072834511725, 0.5935564387149453, 0.9767229209833526, 0.9024060498202451]\n",
      "dF = [5.276953440321593, 0.6551496443227975, 5.181307170845358, 0.39385278504364685, 0.6114997743974104, 2.711902095077077, 0.2921775520218244, 0.8394155656645506, 1.3812948015353221, 1.2761948744233216]\n",
      "dF = [5.495153288956658, 23.1569599973366, 8.25401491331391, -18.55873330005179, -15.099814249870661, 33.028876008472345, -16.18406012632833, -25.57783069871379, -24.427758724115236, -29.629712016258722]\n",
      "1 / sqrt(2 ^ m) = 0.125\n",
      "dF = [0.6868941611195822, 2.894619999667075, 1.0317518641642387, -2.319841662506474, -1.8874767812338327, 4.128609501059043, -2.023007515791041, -3.1972288373392237, -3.0534698405144045, -3.7037140020323402]\n",
      "dF = [0.9714150385702032, 4.0936108614455815, 1.4591174793047899, -3.280751541674804, -2.6692952626852016, 5.838735550140116, -2.860964665614394, -4.521564383775493, -4.318258460752682, -5.237842572825269]\n",
      "dF = [-225.65483535427643, -36.130104195975434, -225.55365349701253, -21.85761819160757, 17.02181852772668, -140.47207074339155, -16.253647408639722, -46.07861005403049, 10.463535584785518, -69.24862927735722]\n",
      "1 / sqrt(2 ^ m) = 0.08838834764831843\n",
      "dF = [-19.945258035817844, -3.193480210243845, -19.9363147386423, -1.9319587554840192, 1.5045304136352935, -12.416094223746073, -1.4366330377080379, -4.072812204606948, 0.9248546208985733, -6.120771918736573]\n",
      "dF = [-28.206854419284554, -4.516263024496929, -28.194206687126567, -2.7322022739509464, 2.127727315965835, -17.559008842923944, -2.0317059260799653, -5.759826256753811, 1.3079419480981898, -8.656078659669653]\n",
      "dF = [106.96012963355861, -314.03646780020455, 68.17491365371598, 255.07375627497942, -207.9922794161348, -379.6102686791449, 223.5398742488245, 343.38255235299283, -56.244578265756445, 387.3913383409511]\n",
      "1 / sqrt(2 ^ m) = 0.0625\n",
      "dF = [6.685008102097413, -19.627279237512784, 4.2609321033572485, 15.942109767186214, -12.999517463508425, -23.725641792446556, 13.971242140551531, 21.461409522062052, -3.515286141609778, 24.211958646309444]\n",
      "dF = [9.454029122560186, -27.757164490174443, 6.02586796891874, 22.54554784559533, -18.384093901199513, -33.55312439888383, 19.758320118366488, 30.35101641374324, -4.971365337086737, 34.24088028922734]\n",
      "dF = [-0.740475987583314, -0.2118041248390954, -0.723737006762011, 0.16332198675338616, -1.1349653390330037, -0.45474318136403646, 0.14037770514365783, 0.2407111754716413, -1.1110238905632188, 0.29979314335595375]\n",
      "1 / sqrt(2 ^ m) = 1.0\n",
      "dF = [-0.740475987583314, -0.2118041248390954, -0.723737006762011, 0.16332198675338616, -1.1349653390330037, -0.45474318136403646, 0.14037770514365783, 0.2407111754716413, -1.1110238905632188, 0.29979314335595375]\n",
      "dF = [-1.0471911842519344, -0.29953626591401283, -1.0235186905541445, 0.2309721687003577, -1.6050833752838518, -0.6431039744817085, 0.1985240544689723, 0.3404170089667651, -1.5712250541550254, 0.42397152924045134]\n",
      "dF = [0.5772887540590417, 0.04503047777933733, 0.5500498481714482, 0.02673373578416305, 1.506116803232493, 0.21053938093542235, 0.019738410060434308, 0.058225496753504524, 1.4282398231145264, 0.0905636111977175]\n",
      "1 / sqrt(2 ^ m) = 0.7071067811865475\n",
      "dF = [0.4082047926978814, 0.03184135619783957, 0.38894397763266186, 0.018903605859431155, 1.0649854048247007, 0.14887382396625484, 0.01395716360357387, 0.04117164359235835, 1.0099180640849565, 0.06403814360664799]\n",
      "dF = [0.5772887540590417, 0.04503047777933734, 0.5500498481714482, 0.02673373578416305, 1.506116803232493, 0.21053938093542232, 0.019738410060434308, 0.05822549675350452, 1.4282398231145261, 0.0905636111977175]\n",
      "dF = [0.8674536638469164, 0.4108239859714823, 0.878303892669281, -0.3208041107387968, -0.6179059790207229, 0.778557936218381, -0.27705242576255706, -0.4626065575349469, -0.41240535844805626, -0.562996339157501]\n",
      "1 / sqrt(2 ^ m) = 0.5\n",
      "dF = [0.4337268319234582, 0.20541199298574114, 0.4391519463346405, -0.1604020553693984, -0.30895298951036143, 0.3892789681091905, -0.13852621288127853, -0.23130327876747345, -0.20620267922402813, -0.2814981695787505]\n",
      "dF = [0.6133823680712704, 0.2904964263545222, 0.6210546384489902, -0.22684276213592336, -0.4369255079012657, 0.5505235962466208, -0.19590564900088667, -0.32711223385432575, -0.2916146255562894, -0.3980985292014704]\n",
      "dF = [-2.721830344202698, -0.2660965947137237, -2.6305408792073983, -0.15896661773580512, -2.513740194867667, -1.1712969097967267, -0.11764867458114114, -0.3425057898643846, -2.8711065522291888, -0.5267247751362634]\n",
      "1 / sqrt(2 ^ m) = 0.35355339059327373\n",
      "dF = [-0.9623123468125212, -0.09407935328636122, -0.930036646937987, -0.05620318669163874, -0.8887413689660604, -0.41411599385005665, -0.04159508779696715, -0.12109408330438051, -1.0150894562951938, -0.1862253301589056]\n",
      "dF = [-1.360915172101349, -0.13304829735686186, -1.3152704396036992, -0.07948330886790256, -1.2568700974338336, -0.5856484548983634, -0.058824337290570565, -0.1712528949321923, -1.4355532761145942, -0.2633623875681317]\n",
      "dF = [-2.487099282582431, -2.389632120028525, -2.700747720575519, 1.890162125340817, 4.864635005726772, -3.9547891852623924, 1.6402727373353254, 2.665403937599303, 4.795738634517594, 3.166533771896236]\n",
      "1 / sqrt(2 ^ m) = 0.25\n",
      "dF = [-0.6217748206456077, -0.5974080300071313, -0.6751869301438798, 0.47254053133520424, 1.216158751431693, -0.9886972963155981, 0.41006818433383135, 0.6663509843998258, 1.1989346586293985, 0.791633442974059]\n",
      "dF = [-0.8793223840991172, -0.844862538306678, -0.9548585137465303, 0.6682732281852344, 1.71990820027343, -1.3982291255311297, 0.5799239877826147, 0.9423625994388963, 1.6955496546328523, 1.1195387514820225]\n",
      "dF = [21.107813761286373, 2.62059857729119, 20.72522868338143, 1.5754111401745874, 2.4459990975896417, 10.847608380308309, 1.1687102080872975, 3.3576622626582022, 5.5251792061412885, 5.104779497693286]\n",
      "1 / sqrt(2 ^ m) = 0.17677669529663687\n",
      "dF = [3.7313695616570794, 0.4632607561926048, 3.6637374359152375, 0.2784959750935703, 0.4323956371704528, 1.9176043613430065, 0.20660072834511725, 0.5935564387149453, 0.9767229209833526, 0.9024060498202451]\n",
      "dF = [5.276953440321593, 0.6551496443227975, 5.181307170845358, 0.39385278504364685, 0.6114997743974104, 2.711902095077077, 0.2921775520218244, 0.8394155656645506, 1.3812948015353221, 1.2761948744233216]\n",
      "dF = [5.495153288956658, 23.1569599973366, 8.25401491331391, -18.55873330005179, -15.099814249870661, 33.028876008472345, -16.18406012632833, -25.57783069871379, -24.427758724115236, -29.629712016258722]\n",
      "1 / sqrt(2 ^ m) = 0.125\n",
      "dF = [0.6868941611195822, 2.894619999667075, 1.0317518641642387, -2.319841662506474, -1.8874767812338327, 4.128609501059043, -2.023007515791041, -3.1972288373392237, -3.0534698405144045, -3.7037140020323402]\n",
      "dF = [0.9714150385702032, 4.0936108614455815, 1.4591174793047899, -3.280751541674804, -2.6692952626852016, 5.838735550140116, -2.860964665614394, -4.521564383775493, -4.318258460752682, -5.237842572825269]\n",
      "dF = [-225.65483535427643, -36.130104195975434, -225.55365349701253, -21.85761819160757, 17.02181852772668, -140.47207074339155, -16.253647408639722, -46.07861005403049, 10.463535584785518, -69.24862927735722]\n",
      "1 / sqrt(2 ^ m) = 0.08838834764831843\n",
      "dF = [-19.945258035817844, -3.193480210243845, -19.9363147386423, -1.9319587554840192, 1.5045304136352935, -12.416094223746073, -1.4366330377080379, -4.072812204606948, 0.9248546208985733, -6.120771918736573]\n",
      "dF = [-28.206854419284554, -4.516263024496929, -28.194206687126567, -2.7322022739509464, 2.127727315965835, -17.559008842923944, -2.0317059260799653, -5.759826256753811, 1.3079419480981898, -8.656078659669653]\n",
      "dF = [106.96012963355861, -314.03646780020455, 68.17491365371598, 255.07375627497942, -207.9922794161348, -379.6102686791449, 223.5398742488245, 343.38255235299283, -56.244578265756445, 387.3913383409511]\n",
      "1 / sqrt(2 ^ m) = 0.0625\n",
      "dF = [6.685008102097413, -19.627279237512784, 4.2609321033572485, 15.942109767186214, -12.999517463508425, -23.725641792446556, 13.971242140551531, 21.461409522062052, -3.515286141609778, 24.211958646309444]\n",
      "dF = [9.454029122560186, -27.757164490174443, 6.02586796891874, 22.54554784559533, -18.384093901199513, -33.55312439888383, 19.758320118366488, 30.35101641374324, -4.971365337086737, 34.24088028922734]\n"
     ]
    },
    {
     "name": "stdout",
     "output_type": "stream",
     "text": [
      "\u001b[37m\u001b[1mTest Summary:                                         | \u001b[22m\u001b[39m\u001b[32m\u001b[1mPass  \u001b[22m\u001b[39m\u001b[36m\u001b[1mTotal\u001b[22m\u001b[39m\n",
      "Verify integration of Probabilistic hermite functions | \u001b[32m 180  \u001b[39m\u001b[36m  180\u001b[39m\n"
     ]
    },
    {
     "data": {
      "text/plain": [
       "Test.DefaultTestSet(\"Verify integration of Probabilistic hermite functions\", Any[], 180, false)"
      ]
     },
     "execution_count": 102,
     "metadata": {},
     "output_type": "execute_result"
    }
   ],
   "source": [
    "@testset \"Verify integration of Probabilistic hermite functions\" begin\n",
    "    Nx = 10\n",
    "    x = randn(10)\n",
    "\n",
    "    # Unscaled\n",
    "    dV = vander(ProHermite(8; scaled = false), -1, x)\n",
    "\n",
    "    for i=0:8\n",
    "        for j=1:Nx\n",
    "            @test abs(dV[j,i+1] - quadgk(y-> ProHermite(i)(y), 0.0, x[j], rtol=1e-12)[1])<1e-8\n",
    "        end\n",
    "    end\n",
    "\n",
    "    # Scaled\n",
    "    dV = vander(ProHermite(8; scaled = true), -1, x)\n",
    "\n",
    "    for i=0:8\n",
    "        for j=1:Nx\n",
    "            @test abs(dV[j,i+1] - quadgk(y-> ProHermite(i; scaled=true)(y), 0.0, x[j], rtol=1e-12)[1])<1e-8\n",
    "        end\n",
    "    end\n",
    "\n",
    "end"
   ]
  },
  {
   "cell_type": "code",
   "execution_count": null,
   "metadata": {},
   "outputs": [],
   "source": []
  }
 ],
 "metadata": {
  "kernelspec": {
   "display_name": "Julia 1.4.0",
   "language": "julia",
   "name": "julia-1.4"
  },
  "language_info": {
   "file_extension": ".jl",
   "mimetype": "application/julia",
   "name": "julia",
   "version": "1.4.0"
  }
 },
 "nbformat": 4,
 "nbformat_minor": 2
}
