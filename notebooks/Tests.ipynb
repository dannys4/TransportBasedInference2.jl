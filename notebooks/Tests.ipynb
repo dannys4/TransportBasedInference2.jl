{
 "cells": [
  {
   "cell_type": "code",
   "execution_count": 1,
   "metadata": {},
   "outputs": [
    {
     "name": "stderr",
     "output_type": "stream",
     "text": [
      "\u001b[32m\u001b[1m Activating\u001b[22m\u001b[39m environment at `/media/mat/HDD/AdaptiveTransportMap/Project.toml`\n"
     ]
    }
   ],
   "source": [
    "using Pkg\n",
    "Pkg.activate(\"/media/mat/HDD/AdaptiveTransportMap/\")"
   ]
  },
  {
   "cell_type": "code",
   "execution_count": 2,
   "metadata": {},
   "outputs": [
    {
     "name": "stderr",
     "output_type": "stream",
     "text": [
      "WARNING: using Distributions.scale! in module Main conflicts with an existing identifier.\n"
     ]
    }
   ],
   "source": [
    "using Revise\n",
    "using AdaptiveTransportMap\n",
    "using LinearAlgebra\n",
    "using Test\n",
    "using ForwardDiff\n",
    "using SpecialFunctions\n",
    "using Polynomials\n",
    "using BenchmarkTools\n",
    "using TransportMap\n",
    "using QuadGK\n",
    "using FastGaussQuadrature\n",
    "using AdaptiveTransportMap: derivative, vander, scale!, evaluate\n",
    "using DiffResults\n",
    "using Distributions\n",
    "using Random\n",
    "using LoopVectorization\n",
    "using Optim"
   ]
  },
  {
   "cell_type": "markdown",
   "metadata": {},
   "source": [
    "### Greedy fit"
   ]
  },
  {
   "cell_type": "code",
   "execution_count": 56,
   "metadata": {},
   "outputs": [],
   "source": [
    "Nx = 2\n",
    "Ne = 8\n",
    "ens = EnsembleState(Nx, Ne)\n",
    "\n",
    "ens.S .=  [0.267333   1.43021;\n",
    "          0.364979   0.607224;\n",
    "         -1.23693    0.249277;\n",
    "         -2.0526     0.915629;\n",
    "         -0.182465   0.415874;\n",
    "          0.412907   1.01672;\n",
    "          1.41332   -0.918205;\n",
    "          0.766647  -1.00445]';\n",
    "# Initialize map with zero coefficients\n",
    "Hk = HermiteMapk(2, 3; α = 1e-6);"
   ]
  },
  {
   "cell_type": "code",
   "execution_count": 58,
   "metadata": {},
   "outputs": [
    {
     "name": "stdout",
     "output_type": "stream",
     "text": [
      "reduced_margin = [0 1; 1 0]\n"
     ]
    },
    {
     "data": {
      "text/plain": [
       "3×2 Array{Int64,2}:\n",
       " 0  0\n",
       " 0  1\n",
       " 1  0"
      ]
     },
     "execution_count": 58,
     "metadata": {},
     "output_type": "execute_result"
    }
   ],
   "source": [
    "reduced_margin = getreducedmargin(getidx(Hk))\n",
    "@show reduced_margin\n",
    "idxnew = vcat(getidx(Hk), reduced_margin)"
   ]
  },
  {
   "cell_type": "code",
   "execution_count": 132,
   "metadata": {},
   "outputs": [
    {
     "name": "stdout",
     "output_type": "stream",
     "text": [
      "  0.000009 seconds (3 allocations: 608 bytes)\n"
     ]
    },
    {
     "data": {
      "text/plain": [
       "9×5 Array{Float64,2}:\n",
       " 1.0  1.0  0.620434   0.165862  0.620434\n",
       " 1.0  1.0  0.610931   0.222977  0.610931\n",
       " 1.0  1.0  0.430862  -0.532946  0.430862\n",
       " 1.0  1.0  0.220301  -0.45219   0.220301\n",
       " 1.0  1.0  0.626383  -0.114293  0.626383\n",
       " 1.0  1.0  0.605263   0.249917  0.605263\n",
       " 1.0  1.0  0.383338   0.54178   0.383338\n",
       " 1.0  1.0  0.545307   0.418058  0.545307\n",
       " 0.0  0.0  0.0        0.0       0.0"
      ]
     },
     "execution_count": 132,
     "metadata": {},
     "output_type": "execute_result"
    }
   ],
   "source": [
    "@time vcat(S.ψoff, zeros(1, 5))"
   ]
  },
  {
   "cell_type": "code",
   "execution_count": 63,
   "metadata": {},
   "outputs": [
    {
     "name": "stdout",
     "output_type": "stream",
     "text": [
      "search: \u001b[0m\u001b[1mf\u001b[22m\u001b[0m\u001b[1mi\u001b[22m\u001b[0m\u001b[1mn\u001b[22m\u001b[0m\u001b[1md\u001b[22m\u001b[0m\u001b[1ma\u001b[22m\u001b[0m\u001b[1ml\u001b[22m\u001b[0m\u001b[1ml\u001b[22m \u001b[0m\u001b[1mf\u001b[22m\u001b[0m\u001b[1mi\u001b[22m\u001b[0m\u001b[1mn\u001b[22m\u001b[0m\u001b[1md\u001b[22mm\u001b[0m\u001b[1ma\u001b[22mx! \u001b[0m\u001b[1mf\u001b[22m\u001b[0m\u001b[1mi\u001b[22m\u001b[0m\u001b[1mn\u001b[22m\u001b[0m\u001b[1md\u001b[22mm\u001b[0m\u001b[1ma\u001b[22mx \u001b[0m\u001b[1mf\u001b[22m\u001b[0m\u001b[1mi\u001b[22m\u001b[0m\u001b[1mn\u001b[22m\u001b[0m\u001b[1md\u001b[22ml\u001b[0m\u001b[1ma\u001b[22mst\n",
      "\n"
     ]
    },
    {
     "data": {
      "text/latex": [
       "\\begin{verbatim}\n",
       "findall(f::Function, A)\n",
       "\\end{verbatim}\n",
       "Return a vector \\texttt{I} of the indices or keys of \\texttt{A} where \\texttt{f(A[I])} returns \\texttt{true}. If there are no such elements of \\texttt{A}, return an empty array.\n",
       "\n",
       "Indices or keys are of the same type as those returned by \\href{@ref}{\\texttt{keys(A)}} and \\href{@ref}{\\texttt{pairs(A)}}.\n",
       "\n",
       "\\section{Examples}\n",
       "\\begin{verbatim}\n",
       "julia> x = [1, 3, 4]\n",
       "3-element Array{Int64,1}:\n",
       " 1\n",
       " 3\n",
       " 4\n",
       "\n",
       "julia> findall(isodd, x)\n",
       "2-element Array{Int64,1}:\n",
       " 1\n",
       " 2\n",
       "\n",
       "julia> A = [1 2 0; 3 4 0]\n",
       "2×3 Array{Int64,2}:\n",
       " 1  2  0\n",
       " 3  4  0\n",
       "julia> findall(isodd, A)\n",
       "2-element Array{CartesianIndex{2},1}:\n",
       " CartesianIndex(1, 1)\n",
       " CartesianIndex(2, 1)\n",
       "\n",
       "julia> findall(!iszero, A)\n",
       "4-element Array{CartesianIndex{2},1}:\n",
       " CartesianIndex(1, 1)\n",
       " CartesianIndex(2, 1)\n",
       " CartesianIndex(1, 2)\n",
       " CartesianIndex(2, 2)\n",
       "\n",
       "julia> d = Dict(:A => 10, :B => -1, :C => 0)\n",
       "Dict{Symbol,Int64} with 3 entries:\n",
       "  :A => 10\n",
       "  :B => -1\n",
       "  :C => 0\n",
       "\n",
       "julia> findall(x -> x >= 0, d)\n",
       "2-element Array{Symbol,1}:\n",
       " :A\n",
       " :C\n",
       "\n",
       "\\end{verbatim}\n",
       "\\rule{\\textwidth}{1pt}\n",
       "\\begin{verbatim}\n",
       "findall(A)\n",
       "\\end{verbatim}\n",
       "Return a vector \\texttt{I} of the \\texttt{true} indices or keys of \\texttt{A}. If there are no such elements of \\texttt{A}, return an empty array. To search for other kinds of values, pass a predicate as the first argument.\n",
       "\n",
       "Indices or keys are of the same type as those returned by \\href{@ref}{\\texttt{keys(A)}} and \\href{@ref}{\\texttt{pairs(A)}}.\n",
       "\n",
       "\\section{Examples}\n",
       "\\begin{verbatim}\n",
       "julia> A = [true, false, false, true]\n",
       "4-element Array{Bool,1}:\n",
       " 1\n",
       " 0\n",
       " 0\n",
       " 1\n",
       "\n",
       "julia> findall(A)\n",
       "2-element Array{Int64,1}:\n",
       " 1\n",
       " 4\n",
       "\n",
       "julia> A = [true false; false true]\n",
       "2×2 Array{Bool,2}:\n",
       " 1  0\n",
       " 0  1\n",
       "\n",
       "julia> findall(A)\n",
       "2-element Array{CartesianIndex{2},1}:\n",
       " CartesianIndex(1, 1)\n",
       " CartesianIndex(2, 2)\n",
       "\n",
       "julia> findall(falses(3))\n",
       "0-element Array{Int64,1}\n",
       "\\end{verbatim}\n",
       "\\rule{\\textwidth}{1pt}\n",
       "\\begin{verbatim}\n",
       "findall(\n",
       "    pattern::Union{AbstractString,Regex},\n",
       "    string::AbstractString;\n",
       "    overlap::Bool = false,\n",
       ")\n",
       "\\end{verbatim}\n",
       "Return a \\texttt{Vector\\{UnitRange\\{Int\\}\\}} of all the matches for \\texttt{pattern} in \\texttt{string}. Each element of the returned vector is a range of indices where the matching sequence is found, like the return value of \\href{@ref}{\\texttt{findnext}}.\n",
       "\n",
       "If \\texttt{overlap=true}, the matching sequences are allowed to overlap indices in the original string, otherwise they must be from disjoint character ranges.\n",
       "\n"
      ],
      "text/markdown": [
       "```\n",
       "findall(f::Function, A)\n",
       "```\n",
       "\n",
       "Return a vector `I` of the indices or keys of `A` where `f(A[I])` returns `true`. If there are no such elements of `A`, return an empty array.\n",
       "\n",
       "Indices or keys are of the same type as those returned by [`keys(A)`](@ref) and [`pairs(A)`](@ref).\n",
       "\n",
       "# Examples\n",
       "\n",
       "```jldoctest\n",
       "julia> x = [1, 3, 4]\n",
       "3-element Array{Int64,1}:\n",
       " 1\n",
       " 3\n",
       " 4\n",
       "\n",
       "julia> findall(isodd, x)\n",
       "2-element Array{Int64,1}:\n",
       " 1\n",
       " 2\n",
       "\n",
       "julia> A = [1 2 0; 3 4 0]\n",
       "2×3 Array{Int64,2}:\n",
       " 1  2  0\n",
       " 3  4  0\n",
       "julia> findall(isodd, A)\n",
       "2-element Array{CartesianIndex{2},1}:\n",
       " CartesianIndex(1, 1)\n",
       " CartesianIndex(2, 1)\n",
       "\n",
       "julia> findall(!iszero, A)\n",
       "4-element Array{CartesianIndex{2},1}:\n",
       " CartesianIndex(1, 1)\n",
       " CartesianIndex(2, 1)\n",
       " CartesianIndex(1, 2)\n",
       " CartesianIndex(2, 2)\n",
       "\n",
       "julia> d = Dict(:A => 10, :B => -1, :C => 0)\n",
       "Dict{Symbol,Int64} with 3 entries:\n",
       "  :A => 10\n",
       "  :B => -1\n",
       "  :C => 0\n",
       "\n",
       "julia> findall(x -> x >= 0, d)\n",
       "2-element Array{Symbol,1}:\n",
       " :A\n",
       " :C\n",
       "\n",
       "```\n",
       "\n",
       "---\n",
       "\n",
       "```\n",
       "findall(A)\n",
       "```\n",
       "\n",
       "Return a vector `I` of the `true` indices or keys of `A`. If there are no such elements of `A`, return an empty array. To search for other kinds of values, pass a predicate as the first argument.\n",
       "\n",
       "Indices or keys are of the same type as those returned by [`keys(A)`](@ref) and [`pairs(A)`](@ref).\n",
       "\n",
       "# Examples\n",
       "\n",
       "```jldoctest\n",
       "julia> A = [true, false, false, true]\n",
       "4-element Array{Bool,1}:\n",
       " 1\n",
       " 0\n",
       " 0\n",
       " 1\n",
       "\n",
       "julia> findall(A)\n",
       "2-element Array{Int64,1}:\n",
       " 1\n",
       " 4\n",
       "\n",
       "julia> A = [true false; false true]\n",
       "2×2 Array{Bool,2}:\n",
       " 1  0\n",
       " 0  1\n",
       "\n",
       "julia> findall(A)\n",
       "2-element Array{CartesianIndex{2},1}:\n",
       " CartesianIndex(1, 1)\n",
       " CartesianIndex(2, 2)\n",
       "\n",
       "julia> findall(falses(3))\n",
       "0-element Array{Int64,1}\n",
       "```\n",
       "\n",
       "---\n",
       "\n",
       "```\n",
       "findall(\n",
       "    pattern::Union{AbstractString,Regex},\n",
       "    string::AbstractString;\n",
       "    overlap::Bool = false,\n",
       ")\n",
       "```\n",
       "\n",
       "Return a `Vector{UnitRange{Int}}` of all the matches for `pattern` in `string`. Each element of the returned vector is a range of indices where the matching sequence is found, like the return value of [`findnext`](@ref).\n",
       "\n",
       "If `overlap=true`, the matching sequences are allowed to overlap indices in the original string, otherwise they must be from disjoint character ranges.\n"
      ],
      "text/plain": [
       "\u001b[36m  findall(f::Function, A)\u001b[39m\n",
       "\n",
       "  Return a vector \u001b[36mI\u001b[39m of the indices or keys of \u001b[36mA\u001b[39m where \u001b[36mf(A[I])\u001b[39m returns \u001b[36mtrue\u001b[39m. If\n",
       "  there are no such elements of \u001b[36mA\u001b[39m, return an empty array.\n",
       "\n",
       "  Indices or keys are of the same type as those returned by \u001b[36mkeys(A)\u001b[39m and\n",
       "  \u001b[36mpairs(A)\u001b[39m.\n",
       "\n",
       "\u001b[1m  Examples\u001b[22m\n",
       "\u001b[1m  ≡≡≡≡≡≡≡≡≡≡\u001b[22m\n",
       "\n",
       "\u001b[36m  julia> x = [1, 3, 4]\u001b[39m\n",
       "\u001b[36m  3-element Array{Int64,1}:\u001b[39m\n",
       "\u001b[36m   1\u001b[39m\n",
       "\u001b[36m   3\u001b[39m\n",
       "\u001b[36m   4\u001b[39m\n",
       "\u001b[36m  \u001b[39m\n",
       "\u001b[36m  julia> findall(isodd, x)\u001b[39m\n",
       "\u001b[36m  2-element Array{Int64,1}:\u001b[39m\n",
       "\u001b[36m   1\u001b[39m\n",
       "\u001b[36m   2\u001b[39m\n",
       "\u001b[36m  \u001b[39m\n",
       "\u001b[36m  julia> A = [1 2 0; 3 4 0]\u001b[39m\n",
       "\u001b[36m  2×3 Array{Int64,2}:\u001b[39m\n",
       "\u001b[36m   1  2  0\u001b[39m\n",
       "\u001b[36m   3  4  0\u001b[39m\n",
       "\u001b[36m  julia> findall(isodd, A)\u001b[39m\n",
       "\u001b[36m  2-element Array{CartesianIndex{2},1}:\u001b[39m\n",
       "\u001b[36m   CartesianIndex(1, 1)\u001b[39m\n",
       "\u001b[36m   CartesianIndex(2, 1)\u001b[39m\n",
       "\u001b[36m  \u001b[39m\n",
       "\u001b[36m  julia> findall(!iszero, A)\u001b[39m\n",
       "\u001b[36m  4-element Array{CartesianIndex{2},1}:\u001b[39m\n",
       "\u001b[36m   CartesianIndex(1, 1)\u001b[39m\n",
       "\u001b[36m   CartesianIndex(2, 1)\u001b[39m\n",
       "\u001b[36m   CartesianIndex(1, 2)\u001b[39m\n",
       "\u001b[36m   CartesianIndex(2, 2)\u001b[39m\n",
       "\u001b[36m  \u001b[39m\n",
       "\u001b[36m  julia> d = Dict(:A => 10, :B => -1, :C => 0)\u001b[39m\n",
       "\u001b[36m  Dict{Symbol,Int64} with 3 entries:\u001b[39m\n",
       "\u001b[36m    :A => 10\u001b[39m\n",
       "\u001b[36m    :B => -1\u001b[39m\n",
       "\u001b[36m    :C => 0\u001b[39m\n",
       "\u001b[36m  \u001b[39m\n",
       "\u001b[36m  julia> findall(x -> x >= 0, d)\u001b[39m\n",
       "\u001b[36m  2-element Array{Symbol,1}:\u001b[39m\n",
       "\u001b[36m   :A\u001b[39m\n",
       "\u001b[36m   :C\u001b[39m\n",
       "\u001b[36m  \u001b[39m\n",
       "\n",
       "  ────────────────────────────────────────────────────────────────────────────\n",
       "\n",
       "\u001b[36m  findall(A)\u001b[39m\n",
       "\n",
       "  Return a vector \u001b[36mI\u001b[39m of the \u001b[36mtrue\u001b[39m indices or keys of \u001b[36mA\u001b[39m. If there are no such\n",
       "  elements of \u001b[36mA\u001b[39m, return an empty array. To search for other kinds of values,\n",
       "  pass a predicate as the first argument.\n",
       "\n",
       "  Indices or keys are of the same type as those returned by \u001b[36mkeys(A)\u001b[39m and\n",
       "  \u001b[36mpairs(A)\u001b[39m.\n",
       "\n",
       "\u001b[1m  Examples\u001b[22m\n",
       "\u001b[1m  ≡≡≡≡≡≡≡≡≡≡\u001b[22m\n",
       "\n",
       "\u001b[36m  julia> A = [true, false, false, true]\u001b[39m\n",
       "\u001b[36m  4-element Array{Bool,1}:\u001b[39m\n",
       "\u001b[36m   1\u001b[39m\n",
       "\u001b[36m   0\u001b[39m\n",
       "\u001b[36m   0\u001b[39m\n",
       "\u001b[36m   1\u001b[39m\n",
       "\u001b[36m  \u001b[39m\n",
       "\u001b[36m  julia> findall(A)\u001b[39m\n",
       "\u001b[36m  2-element Array{Int64,1}:\u001b[39m\n",
       "\u001b[36m   1\u001b[39m\n",
       "\u001b[36m   4\u001b[39m\n",
       "\u001b[36m  \u001b[39m\n",
       "\u001b[36m  julia> A = [true false; false true]\u001b[39m\n",
       "\u001b[36m  2×2 Array{Bool,2}:\u001b[39m\n",
       "\u001b[36m   1  0\u001b[39m\n",
       "\u001b[36m   0  1\u001b[39m\n",
       "\u001b[36m  \u001b[39m\n",
       "\u001b[36m  julia> findall(A)\u001b[39m\n",
       "\u001b[36m  2-element Array{CartesianIndex{2},1}:\u001b[39m\n",
       "\u001b[36m   CartesianIndex(1, 1)\u001b[39m\n",
       "\u001b[36m   CartesianIndex(2, 2)\u001b[39m\n",
       "\u001b[36m  \u001b[39m\n",
       "\u001b[36m  julia> findall(falses(3))\u001b[39m\n",
       "\u001b[36m  0-element Array{Int64,1}\u001b[39m\n",
       "\n",
       "  ────────────────────────────────────────────────────────────────────────────\n",
       "\n",
       "\u001b[36m  findall(\u001b[39m\n",
       "\u001b[36m      pattern::Union{AbstractString,Regex},\u001b[39m\n",
       "\u001b[36m      string::AbstractString;\u001b[39m\n",
       "\u001b[36m      overlap::Bool = false,\u001b[39m\n",
       "\u001b[36m  )\u001b[39m\n",
       "\n",
       "  Return a \u001b[36mVector{UnitRange{Int}}\u001b[39m of all the matches for \u001b[36mpattern\u001b[39m in \u001b[36mstring\u001b[39m.\n",
       "  Each element of the returned vector is a range of indices where the matching\n",
       "  sequence is found, like the return value of \u001b[36mfindnext\u001b[39m.\n",
       "\n",
       "  If \u001b[36moverlap=true\u001b[39m, the matching sequences are allowed to overlap indices in\n",
       "  the original string, otherwise they must be from disjoint character ranges."
      ]
     },
     "execution_count": 63,
     "metadata": {},
     "output_type": "execute_result"
    }
   ],
   "source": [
    "?findall"
   ]
  },
  {
   "cell_type": "code",
   "execution_count": 5,
   "metadata": {},
   "outputs": [],
   "source": [
    "Nx = 2\n",
    "Ne = 8\n",
    "ens = EnsembleState(Nx, Ne)\n",
    "\n",
    "ens.S .=  [0.267333   1.43021;\n",
    "          0.364979   0.607224;\n",
    "         -1.23693    0.249277;\n",
    "         -2.0526     0.915629;\n",
    "         -0.182465   0.415874;\n",
    "          0.412907   1.01672;\n",
    "          1.41332   -0.918205;\n",
    "          0.766647  -1.00445]';\n",
    "B = MultiBasis(CstProHermite(3; scaled =true), Nx)\n",
    "\n",
    "idx = [0 0; 0 1; 1 0; 2 1; 1 2]\n",
    "truncidx = idx[1:2:end,:]\n",
    "Nψ = 5\n",
    "\n",
    "coeff =  [0.6285037650645056;\n",
    " -0.4744029092496623;\n",
    "  1.1405280011620331;\n",
    " -0.7217760771894809;\n",
    "  0.11855056306742319]\n",
    "f = ExpandedFunction(B, idx, coeff)\n",
    "\n",
    "fp = ParametricFunction(f)\n",
    "R = IntegratedFunction(fp)\n",
    "\n",
    "H = HermiteMapk(R; α = 1e-2)\n",
    "\n",
    "\n",
    "S = Storage(H.I.f, ens.S);\n",
    "addedidx = [2 2; 2 3; 2 4; 3 2]\n",
    "@time update_storage!(S, ens.S, addedidx)"
   ]
  },
  {
   "cell_type": "code",
   "execution_count": 133,
   "metadata": {},
   "outputs": [
    {
     "data": {
      "text/plain": [
       "8×5 Array{Float64,2}:\n",
       " 0.0  -0.270855   0.0  -0.270855   -0.00861698\n",
       " 0.0  -0.17488    0.0  -0.17488     0.469807\n",
       " 0.0  -0.0775105  0.0  -0.0775105   0.602561\n",
       " 0.0  -0.234487   0.0  -0.234487    0.297485\n",
       " 0.0  -0.125779   0.0  -0.125779    0.552583\n",
       " 0.0  -0.247966   0.0  -0.247966    0.235664\n",
       " 0.0   0.234869   0.0   0.234869    0.295925\n",
       " 0.0   0.246497   0.0   0.246497    0.243216"
      ]
     },
     "execution_count": 133,
     "metadata": {},
     "output_type": "execute_result"
    }
   ],
   "source": [
    "S.dψxd"
   ]
  },
  {
   "cell_type": "markdown",
   "metadata": {},
   "source": [
    "### Expanded Function"
   ]
  },
  {
   "cell_type": "code",
   "execution_count": 85,
   "metadata": {},
   "outputs": [],
   "source": [
    "X = deepcopy(ens.S)\n",
    "\n",
    "xk = X[Nx,:];"
   ]
  },
  {
   "cell_type": "code",
   "execution_count": 92,
   "metadata": {},
   "outputs": [],
   "source": [
    "negative_log_likelihood!(S, H, ens.S)(nothing, zeros(Nψ), randn(Nψ))"
   ]
  },
  {
   "cell_type": "code",
   "execution_count": 91,
   "metadata": {},
   "outputs": [
    {
     "data": {
      "text/plain": [
       "Int64"
      ]
     },
     "execution_count": 91,
     "metadata": {},
     "output_type": "execute_result"
    }
   ],
   "source": [
    "typeof(10^5)"
   ]
  },
  {
   "cell_type": "code",
   "execution_count": 88,
   "metadata": {},
   "outputs": [],
   "source": [
    "coeff = zeros(Nψ);"
   ]
  },
  {
   "cell_type": "code",
   "execution_count": 67,
   "metadata": {},
   "outputs": [],
   "source": [
    "S = Storage(H.I.f, ens.S);"
   ]
  },
  {
   "cell_type": "code",
   "execution_count": 104,
   "metadata": {},
   "outputs": [
    {
     "data": {
      "text/plain": [
       "5-element Array{Float64,1}:\n",
       "  0.550365898298582\n",
       " -0.8235761760320128\n",
       " -0.9742699195449483\n",
       "  1.5527945828564937\n",
       "  0.41476431680122144"
      ]
     },
     "execution_count": 104,
     "metadata": {},
     "output_type": "execute_result"
    }
   ],
   "source": [
    "res = Optim.optimize(Optim.only_fg!(negative_log_likelihood!(S, H, X)), coeff, Optim.BFGS())\n",
    "Optim.minimizer(res)"
   ]
  },
  {
   "cell_type": "code",
   "execution_count": null,
   "metadata": {},
   "outputs": [],
   "source": []
  }
 ],
 "metadata": {
  "kernelspec": {
   "display_name": "Julia 1.4.0",
   "language": "julia",
   "name": "julia-1.4"
  },
  "language_info": {
   "file_extension": ".jl",
   "mimetype": "application/julia",
   "name": "julia",
   "version": "1.4.0"
  }
 },
 "nbformat": 4,
 "nbformat_minor": 2
}
