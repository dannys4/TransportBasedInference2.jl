{
 "cells": [
  {
   "cell_type": "code",
   "execution_count": 1,
   "metadata": {},
   "outputs": [
    {
     "name": "stderr",
     "output_type": "stream",
     "text": [
      "\u001b[32m\u001b[1m Activating\u001b[22m\u001b[39m environment at `/media/mat/HDD/AdaptiveTransportMap/Project.toml`\n"
     ]
    }
   ],
   "source": [
    "using Pkg\n",
    "Pkg.activate(\"/media/mat/HDD/AdaptiveTransportMap/\")"
   ]
  },
  {
   "cell_type": "code",
   "execution_count": 2,
   "metadata": {
    "scrolled": false
   },
   "outputs": [
    {
     "name": "stderr",
     "output_type": "stream",
     "text": [
      "┌ Info: Precompiling AdaptiveTransportMap [bdf749b0-1400-4207-80d3-e689c0e3f03d]\n",
      "└ @ Base loading.jl:1278\n"
     ]
    }
   ],
   "source": [
    "using Revise\n",
    "using AdaptiveTransportMap\n",
    "using LinearAlgebra\n",
    "import LinearAlgebra: ldiv!, dot\n",
    "using Test\n",
    "using ForwardDiff\n",
    "using SpecialFunctions\n",
    "using BenchmarkTools\n",
    "using TransportMap\n",
    "using QuadGK\n",
    "using Polynomials\n",
    "using Distributions\n",
    "using Random\n",
    "using LoopVectorization\n",
    "using Optim\n",
    "using NLsolve\n",
    "using MLDataUtils\n",
    "using MLDataPattern\n",
    "using Test\n",
    "using SparseArrays\n",
    "using QRupdate\n",
    "using AdaptiveTransportMap: vander, transform!, evaluate, ncoeff, optimize, negative_log_likelihood!, derivative\n",
    "\n",
    "# using Profile\n",
    "# using ProfileView"
   ]
  },
  {
   "cell_type": "markdown",
   "metadata": {},
   "source": [
    "### Update QR scaling"
   ]
  },
  {
   "cell_type": "code",
   "execution_count": 195,
   "metadata": {},
   "outputs": [],
   "source": [
    "Nx = 3\n",
    "Ne = 8\n",
    "m = 20\n",
    "\n",
    "idx = [0 0 0; 0 0 1; 0 1 0; 0 1 1; 0 1 2; 1 0 0]\n",
    "\n",
    "\n",
    "Nψ = 6\n",
    "coeff = [ 0.20649582065364197;\n",
    "         -0.5150990160472986;\n",
    "          2.630096893080717;\n",
    "          1.13653076177397;\n",
    "          0.6725837371023421;\n",
    "         -1.3126095306624133]\n",
    "C = MapComponent(m, Nx, idx, coeff; α = 1e-6);\n",
    "\n",
    "Ne = 100\n",
    "X = randn(Nx, Ne) .* randn(Nx, Ne) + cos.(randn(Nx, Ne)) .* exp.(-randn(Nx, Ne).^2)\n",
    "L = LinearTransform(X)\n",
    "transform!(L, X);\n",
    "\n",
    "S = Storage(C.I.f, X);\n",
    "\n",
    "F = QRscaling(S);\n",
    "\n",
    "newidx = [1 1 1];"
   ]
  },
  {
   "cell_type": "code",
   "execution_count": 196,
   "metadata": {},
   "outputs": [],
   "source": [
    "Snew = update_storage(S, X, newidx);"
   ]
  },
  {
   "cell_type": "code",
   "execution_count": 197,
   "metadata": {},
   "outputs": [
    {
     "name": "stdout",
     "output_type": "stream",
     "text": [
      "  0.000069 seconds (122 allocations: 14.422 KiB)\n",
      "  0.000107 seconds (14 allocations: 9.406 KiB)\n"
     ]
    }
   ],
   "source": [
    "@time Fupdated = updateQRscaling(F, Snew)\n",
    "@time Fnew = QRscaling(Snew);"
   ]
  },
  {
   "cell_type": "code",
   "execution_count": 198,
   "metadata": {},
   "outputs": [
    {
     "name": "stdout",
     "output_type": "stream",
     "text": [
      "search: \u001b[0m\u001b[1ms\u001b[22m\u001b[0m\u001b[1mc\u001b[22m\u001b[0m\u001b[1mh\u001b[22m\u001b[0m\u001b[1mu\u001b[22m\u001b[0m\u001b[1mr\u001b[22m \u001b[0m\u001b[1ms\u001b[22m\u001b[0m\u001b[1mc\u001b[22m\u001b[0m\u001b[1mh\u001b[22m\u001b[0m\u001b[1mu\u001b[22m\u001b[0m\u001b[1mr\u001b[22m! \u001b[0m\u001b[1mS\u001b[22m\u001b[0m\u001b[1mc\u001b[22m\u001b[0m\u001b[1mh\u001b[22m\u001b[0m\u001b[1mu\u001b[22m\u001b[0m\u001b[1mr\u001b[22m ord\u001b[0m\u001b[1ms\u001b[22m\u001b[0m\u001b[1mc\u001b[22m\u001b[0m\u001b[1mh\u001b[22m\u001b[0m\u001b[1mu\u001b[22m\u001b[0m\u001b[1mr\u001b[22m ord\u001b[0m\u001b[1ms\u001b[22m\u001b[0m\u001b[1mc\u001b[22m\u001b[0m\u001b[1mh\u001b[22m\u001b[0m\u001b[1mu\u001b[22m\u001b[0m\u001b[1mr\u001b[22m! Generalized\u001b[0m\u001b[1mS\u001b[22m\u001b[0m\u001b[1mc\u001b[22m\u001b[0m\u001b[1mh\u001b[22m\u001b[0m\u001b[1mu\u001b[22m\u001b[0m\u001b[1mr\u001b[22m \u001b[0m\u001b[1ms\u001b[22m\u001b[0m\u001b[1mc\u001b[22m\u001b[0m\u001b[1mh\u001b[22med\u001b[0m\u001b[1mu\u001b[22mle\n",
      "\n"
     ]
    },
    {
     "data": {
      "text/latex": [
       "\\begin{verbatim}\n",
       "schur(A::StridedMatrix) -> F::Schur\n",
       "\\end{verbatim}\n",
       "Computes the Schur factorization of the matrix \\texttt{A}. The (quasi) triangular Schur factor can be obtained from the \\texttt{Schur} object \\texttt{F} with either \\texttt{F.Schur} or \\texttt{F.T} and the orthogonal/unitary Schur vectors can be obtained with \\texttt{F.vectors} or \\texttt{F.Z} such that \\texttt{A = F.vectors * F.Schur * F.vectors'}. The eigenvalues of \\texttt{A} can be obtained with \\texttt{F.values}.\n",
       "\n",
       "Iterating the decomposition produces the components \\texttt{F.T}, \\texttt{F.Z}, and \\texttt{F.values}.\n",
       "\n",
       "\\section{Examples}\n",
       "\\begin{verbatim}\n",
       "julia> A = [5. 7.; -2. -4.]\n",
       "2×2 Array{Float64,2}:\n",
       "  5.0   7.0\n",
       " -2.0  -4.0\n",
       "\n",
       "julia> F = schur(A)\n",
       "Schur{Float64,Array{Float64,2}}\n",
       "T factor:\n",
       "2×2 Array{Float64,2}:\n",
       " 3.0   9.0\n",
       " 0.0  -2.0\n",
       "Z factor:\n",
       "2×2 Array{Float64,2}:\n",
       "  0.961524  0.274721\n",
       " -0.274721  0.961524\n",
       "eigenvalues:\n",
       "2-element Array{Float64,1}:\n",
       "  3.0\n",
       " -2.0\n",
       "\n",
       "julia> F.vectors * F.Schur * F.vectors'\n",
       "2×2 Array{Float64,2}:\n",
       "  5.0   7.0\n",
       " -2.0  -4.0\n",
       "\n",
       "julia> t, z, vals = F; # destructuring via iteration\n",
       "\n",
       "julia> t == F.T && z == F.Z && vals == F.values\n",
       "true\n",
       "\\end{verbatim}\n",
       "\\rule{\\textwidth}{1pt}\n",
       "\\begin{verbatim}\n",
       "schur(A::StridedMatrix, B::StridedMatrix) -> F::GeneralizedSchur\n",
       "\\end{verbatim}\n",
       "Computes the Generalized Schur (or QZ) factorization of the matrices \\texttt{A} and \\texttt{B}. The (quasi) triangular Schur factors can be obtained from the \\texttt{Schur} object \\texttt{F} with \\texttt{F.S} and \\texttt{F.T}, the left unitary/orthogonal Schur vectors can be obtained with \\texttt{F.left} or \\texttt{F.Q} and the right unitary/orthogonal Schur vectors can be obtained with \\texttt{F.right} or \\texttt{F.Z} such that \\texttt{A=F.left*F.S*F.right'} and \\texttt{B=F.left*F.T*F.right'}. The generalized eigenvalues of \\texttt{A} and \\texttt{B} can be obtained with \\texttt{F.α./F.β}.\n",
       "\n",
       "Iterating the decomposition produces the components \\texttt{F.S}, \\texttt{F.T}, \\texttt{F.Q}, \\texttt{F.Z}, \\texttt{F.α}, and \\texttt{F.β}.\n",
       "\n"
      ],
      "text/markdown": [
       "```\n",
       "schur(A::StridedMatrix) -> F::Schur\n",
       "```\n",
       "\n",
       "Computes the Schur factorization of the matrix `A`. The (quasi) triangular Schur factor can be obtained from the `Schur` object `F` with either `F.Schur` or `F.T` and the orthogonal/unitary Schur vectors can be obtained with `F.vectors` or `F.Z` such that `A = F.vectors * F.Schur * F.vectors'`. The eigenvalues of `A` can be obtained with `F.values`.\n",
       "\n",
       "Iterating the decomposition produces the components `F.T`, `F.Z`, and `F.values`.\n",
       "\n",
       "# Examples\n",
       "\n",
       "```jldoctest\n",
       "julia> A = [5. 7.; -2. -4.]\n",
       "2×2 Array{Float64,2}:\n",
       "  5.0   7.0\n",
       " -2.0  -4.0\n",
       "\n",
       "julia> F = schur(A)\n",
       "Schur{Float64,Array{Float64,2}}\n",
       "T factor:\n",
       "2×2 Array{Float64,2}:\n",
       " 3.0   9.0\n",
       " 0.0  -2.0\n",
       "Z factor:\n",
       "2×2 Array{Float64,2}:\n",
       "  0.961524  0.274721\n",
       " -0.274721  0.961524\n",
       "eigenvalues:\n",
       "2-element Array{Float64,1}:\n",
       "  3.0\n",
       " -2.0\n",
       "\n",
       "julia> F.vectors * F.Schur * F.vectors'\n",
       "2×2 Array{Float64,2}:\n",
       "  5.0   7.0\n",
       " -2.0  -4.0\n",
       "\n",
       "julia> t, z, vals = F; # destructuring via iteration\n",
       "\n",
       "julia> t == F.T && z == F.Z && vals == F.values\n",
       "true\n",
       "```\n",
       "\n",
       "---\n",
       "\n",
       "```\n",
       "schur(A::StridedMatrix, B::StridedMatrix) -> F::GeneralizedSchur\n",
       "```\n",
       "\n",
       "Computes the Generalized Schur (or QZ) factorization of the matrices `A` and `B`. The (quasi) triangular Schur factors can be obtained from the `Schur` object `F` with `F.S` and `F.T`, the left unitary/orthogonal Schur vectors can be obtained with `F.left` or `F.Q` and the right unitary/orthogonal Schur vectors can be obtained with `F.right` or `F.Z` such that `A=F.left*F.S*F.right'` and `B=F.left*F.T*F.right'`. The generalized eigenvalues of `A` and `B` can be obtained with `F.α./F.β`.\n",
       "\n",
       "Iterating the decomposition produces the components `F.S`, `F.T`, `F.Q`, `F.Z`, `F.α`, and `F.β`.\n"
      ],
      "text/plain": [
       "\u001b[36m  schur(A::StridedMatrix) -> F::Schur\u001b[39m\n",
       "\n",
       "  Computes the Schur factorization of the matrix \u001b[36mA\u001b[39m. The (quasi) triangular\n",
       "  Schur factor can be obtained from the \u001b[36mSchur\u001b[39m object \u001b[36mF\u001b[39m with either \u001b[36mF.Schur\u001b[39m or\n",
       "  \u001b[36mF.T\u001b[39m and the orthogonal/unitary Schur vectors can be obtained with \u001b[36mF.vectors\u001b[39m\n",
       "  or \u001b[36mF.Z\u001b[39m such that \u001b[36mA = F.vectors * F.Schur * F.vectors'\u001b[39m. The eigenvalues of \u001b[36mA\u001b[39m\n",
       "  can be obtained with \u001b[36mF.values\u001b[39m.\n",
       "\n",
       "  Iterating the decomposition produces the components \u001b[36mF.T\u001b[39m, \u001b[36mF.Z\u001b[39m, and \u001b[36mF.values\u001b[39m.\n",
       "\n",
       "\u001b[1m  Examples\u001b[22m\n",
       "\u001b[1m  ≡≡≡≡≡≡≡≡≡≡\u001b[22m\n",
       "\n",
       "\u001b[36m  julia> A = [5. 7.; -2. -4.]\u001b[39m\n",
       "\u001b[36m  2×2 Array{Float64,2}:\u001b[39m\n",
       "\u001b[36m    5.0   7.0\u001b[39m\n",
       "\u001b[36m   -2.0  -4.0\u001b[39m\n",
       "\u001b[36m  \u001b[39m\n",
       "\u001b[36m  julia> F = schur(A)\u001b[39m\n",
       "\u001b[36m  Schur{Float64,Array{Float64,2}}\u001b[39m\n",
       "\u001b[36m  T factor:\u001b[39m\n",
       "\u001b[36m  2×2 Array{Float64,2}:\u001b[39m\n",
       "\u001b[36m   3.0   9.0\u001b[39m\n",
       "\u001b[36m   0.0  -2.0\u001b[39m\n",
       "\u001b[36m  Z factor:\u001b[39m\n",
       "\u001b[36m  2×2 Array{Float64,2}:\u001b[39m\n",
       "\u001b[36m    0.961524  0.274721\u001b[39m\n",
       "\u001b[36m   -0.274721  0.961524\u001b[39m\n",
       "\u001b[36m  eigenvalues:\u001b[39m\n",
       "\u001b[36m  2-element Array{Float64,1}:\u001b[39m\n",
       "\u001b[36m    3.0\u001b[39m\n",
       "\u001b[36m   -2.0\u001b[39m\n",
       "\u001b[36m  \u001b[39m\n",
       "\u001b[36m  julia> F.vectors * F.Schur * F.vectors'\u001b[39m\n",
       "\u001b[36m  2×2 Array{Float64,2}:\u001b[39m\n",
       "\u001b[36m    5.0   7.0\u001b[39m\n",
       "\u001b[36m   -2.0  -4.0\u001b[39m\n",
       "\u001b[36m  \u001b[39m\n",
       "\u001b[36m  julia> t, z, vals = F; # destructuring via iteration\u001b[39m\n",
       "\u001b[36m  \u001b[39m\n",
       "\u001b[36m  julia> t == F.T && z == F.Z && vals == F.values\u001b[39m\n",
       "\u001b[36m  true\u001b[39m\n",
       "\n",
       "  ────────────────────────────────────────────────────────────────────────────\n",
       "\n",
       "\u001b[36m  schur(A::StridedMatrix, B::StridedMatrix) -> F::GeneralizedSchur\u001b[39m\n",
       "\n",
       "  Computes the Generalized Schur (or QZ) factorization of the matrices \u001b[36mA\u001b[39m and\n",
       "  \u001b[36mB\u001b[39m. The (quasi) triangular Schur factors can be obtained from the \u001b[36mSchur\u001b[39m\n",
       "  object \u001b[36mF\u001b[39m with \u001b[36mF.S\u001b[39m and \u001b[36mF.T\u001b[39m, the left unitary/orthogonal Schur vectors can be\n",
       "  obtained with \u001b[36mF.left\u001b[39m or \u001b[36mF.Q\u001b[39m and the right unitary/orthogonal Schur vectors\n",
       "  can be obtained with \u001b[36mF.right\u001b[39m or \u001b[36mF.Z\u001b[39m such that \u001b[36mA=F.left*F.S*F.right'\u001b[39m and\n",
       "  \u001b[36mB=F.left*F.T*F.right'\u001b[39m. The generalized eigenvalues of \u001b[36mA\u001b[39m and \u001b[36mB\u001b[39m can be\n",
       "  obtained with \u001b[36mF.α./F.β\u001b[39m.\n",
       "\n",
       "  Iterating the decomposition produces the components \u001b[36mF.S\u001b[39m, \u001b[36mF.T\u001b[39m, \u001b[36mF.Q\u001b[39m, \u001b[36mF.Z\u001b[39m, \u001b[36mF.α\u001b[39m,\n",
       "  and \u001b[36mF.β\u001b[39m."
      ]
     },
     "execution_count": 198,
     "metadata": {},
     "output_type": "execute_result"
    }
   ],
   "source": [
    "?schur"
   ]
  },
  {
   "cell_type": "code",
   "execution_count": 187,
   "metadata": {},
   "outputs": [
    {
     "name": "stdout",
     "output_type": "stream",
     "text": [
      "\u001b[37m\u001b[1mTest Summary:        | \u001b[22m\u001b[39m\u001b[32m\u001b[1mPass  \u001b[22m\u001b[39m\u001b[36m\u001b[1mTotal\u001b[22m\u001b[39m\n",
      "Test updateQRscaling | \u001b[32m   8  \u001b[39m\u001b[36m    8\u001b[39m\n"
     ]
    },
    {
     "data": {
      "text/plain": [
       "Test.DefaultTestSet(\"Test updateQRscaling\", Any[], 8, false)"
      ]
     },
     "execution_count": 187,
     "metadata": {},
     "output_type": "execute_result"
    }
   ],
   "source": [
    "@testset \"Test updateQRscaling\" begin\n",
    "\n",
    "    Nx = 3\n",
    "    Ne = 8\n",
    "    m = 20\n",
    "\n",
    "    idx = [0 0 0; 0 0 1; 0 1 0; 0 1 1; 0 1 2; 1 0 0]\n",
    "\n",
    "\n",
    "    Nψ = 6\n",
    "    coeff = [ 0.20649582065364197;\n",
    "             -0.5150990160472986;\n",
    "              2.630096893080717;\n",
    "              1.13653076177397;\n",
    "              0.6725837371023421;\n",
    "             -1.3126095306624133]\n",
    "    C = MapComponent(m, Nx, idx, coeff; α = 1e-6);\n",
    "\n",
    "    Ne = 300\n",
    "\n",
    "\n",
    "    X = randn(Nx, Ne) .* randn(Nx, Ne) + cos.(randn(Nx, Ne)) .* exp.(-randn(Nx, Ne).^2)\n",
    "    L = LinearTransform(X)\n",
    "    transform!(L, X)\n",
    "    S = Storage(C.I.f, X)\n",
    "    F = QRscaling(S)\n",
    "    newidx = [1 1 1]\n",
    "\n",
    "    Snew = update_storage(S, X, newidx)\n",
    "    Fupdated = updateQRscaling(F, Snew)\n",
    "    Fnew = QRscaling(Snew)\n",
    "    \n",
    "\n",
    "    # The QR decomposition is not unique! We can only check A^T*A for A ∈ {R, R^{-1}, U, U^{-1}}\n",
    "\n",
    "    @test norm(Fupdated.D - Fnew.D)<1e-8\n",
    "    @test norm(Fupdated.Dinv - Fnew.Dinv)<1e-8\n",
    "\n",
    "    @test norm(Fupdated.R'*Fupdated.R - Fnew.R'*Fnew.R)<1e-8\n",
    "    @test norm(Fupdated.Rinv'*Fupdated.Rinv - Fnew.Rinv'*Fnew.Rinv)<1e-8\n",
    "\n",
    "    @test norm(Fupdated.Rinv.data'*Fupdated.Rinv.data - Fnew.Rinv.data'*Fnew.Rinv.data)<1e-8\n",
    "\n",
    "    @test norm(Fupdated.U'*Fupdated.U - Fnew.U'*Fnew.U)<1e-8\n",
    "    @test norm(Fupdated.Uinv'*Fupdated.Uinv - Fnew.Uinv'*Fnew.Uinv)<1e-8\n",
    "\n",
    "    @test norm(Fupdated.L2Uinv - Fnew.L2Uinv)<1e-8\n",
    "end"
   ]
  },
  {
   "cell_type": "markdown",
   "metadata": {},
   "source": [
    "### Integration"
   ]
  },
  {
   "cell_type": "code",
   "execution_count": 24,
   "metadata": {},
   "outputs": [],
   "source": [
    "Nx = 100\n",
    "Ny = 50\n",
    "m = 20\n",
    "Ne = 400\n",
    "X = randn(Nx, Ne).*randn(Nx, Ne) #.+ 0.5*randn(Nx).*cos.(randn(Nx, Ne) .* randn(Nx, Ne))\n",
    "\n",
    "# L = LinearTransform(X)\n",
    "# transform!(L, X);\n",
    "# C = MapComponent(m, Nx)\n",
    "# @time C, _ = optimize(C, X, 10)"
   ]
  },
  {
   "cell_type": "code",
   "execution_count": 25,
   "metadata": {},
   "outputs": [
    {
     "ename": "LoadError",
     "evalue": "AssertionError: Size of the array of multi-indices idx is wrong",
     "output_type": "error",
     "traceback": [
      "AssertionError: Size of the array of multi-indices idx is wrong",
      "",
      "Stacktrace:",
      " [1] ExpandedFunction at /media/mat/HDD/AdaptiveTransportMap/src/mapcomponent/expandedfunction.jl:40 [inlined]",
      " [2] #MapComponent#58 at /media/mat/HDD/AdaptiveTransportMap/src/mapcomponent/hermitemapcomponent.jl:35 [inlined]",
      " [3] top-level scope at In[25]:11",
      " [4] include_string(::Function, ::Module, ::String, ::String) at ./loading.jl:1091"
     ]
    }
   ],
   "source": []
  },
  {
   "cell_type": "code",
   "execution_count": 22,
   "metadata": {},
   "outputs": [],
   "source": [
    "M = HermiteMap(m, X);"
   ]
  },
  {
   "cell_type": "code",
   "execution_count": 9,
   "metadata": {
    "scrolled": true
   },
   "outputs": [
    {
     "name": "stdout",
     "output_type": "stream",
     "text": [
      " 11.061632 seconds (49.90 M allocations: 19.060 GiB, 7.20% gc time)\n"
     ]
    }
   ],
   "source": [
    "@time optimize(M, X, 10; P = serial);"
   ]
  },
  {
   "cell_type": "code",
   "execution_count": 10,
   "metadata": {},
   "outputs": [
    {
     "data": {
      "text/plain": [
       "timing (generic function with 1 method)"
      ]
     },
     "execution_count": 10,
     "metadata": {},
     "output_type": "execute_result"
    }
   ],
   "source": [
    "function timing()\n",
    "    @btime begin \n",
    "        M = HermiteMap($m, $X)\n",
    "        optimize($M, $X, $10; P = serial, start = Ny+1)\n",
    "    end\n",
    "end"
   ]
  },
  {
   "cell_type": "code",
   "execution_count": 11,
   "metadata": {},
   "outputs": [
    {
     "name": "stdout",
     "output_type": "stream",
     "text": [
      "  14.597 s (42433511 allocations: 13.37 GiB)\n"
     ]
    }
   ],
   "source": [
    "timing();"
   ]
  },
  {
   "cell_type": "code",
   "execution_count": 29,
   "metadata": {},
   "outputs": [
    {
     "name": "stdout",
     "output_type": "stream",
     "text": [
      "  973.450 ms (1054425 allocations: 1.43 GiB)\n"
     ]
    }
   ],
   "source": [
    "timing();"
   ]
  },
  {
   "cell_type": "code",
   "execution_count": 14,
   "metadata": {},
   "outputs": [
    {
     "data": {
      "text/html": [
       "# 1 method for generic function <b>update_component</b>:<ul><li> update_component(C::<b>MapComponent</b>, X, reduced_margin::<b>Array{Int64,2}</b>, S::<b>Storage</b>) in AdaptiveTransportMap at <a href=\"https://github.com/mleprovost/AdaptiveTransportMap/tree/83d05ec2a279bc06ffd1b1aeb054f4628721f1e9//src/mapcomponent/greedyfit.jl#L234\" target=\"_blank\">/media/mat/HDD/AdaptiveTransportMap/src/mapcomponent/greedyfit.jl:249</a></li> </ul>"
      ],
      "text/plain": [
       "# 1 method for generic function \"update_component\":\n",
       "[1] update_component(C::MapComponent, X, reduced_margin::Array{Int64,2}, S::Storage) in AdaptiveTransportMap at /media/mat/HDD/AdaptiveTransportMap/src/mapcomponent/greedyfit.jl:249"
      ]
     },
     "execution_count": 14,
     "metadata": {},
     "output_type": "execute_result"
    }
   ],
   "source": [
    "methods(update_component)"
   ]
  },
  {
   "cell_type": "code",
   "execution_count": 30,
   "metadata": {},
   "outputs": [
    {
     "data": {
      "text/plain": [
       "timing (generic function with 1 method)"
      ]
     },
     "execution_count": 30,
     "metadata": {},
     "output_type": "execute_result"
    }
   ],
   "source": [
    "function timing()\n",
    "    @btime begin \n",
    "        M = HermiteMap($m, $X)\n",
    "        optimize($M, $X, $10; P = thread)\n",
    "    end\n",
    "end"
   ]
  },
  {
   "cell_type": "code",
   "execution_count": 88,
   "metadata": {},
   "outputs": [
    {
     "name": "stdout",
     "output_type": "stream",
     "text": [
      "  297.730 ms (1000725 allocations: 1.35 GiB)\n"
     ]
    }
   ],
   "source": [
    "timing();"
   ]
  }
 ],
 "metadata": {
  "kernelspec": {
   "display_name": "Julia 1.5.0",
   "language": "julia",
   "name": "julia-1.5"
  },
  "language_info": {
   "file_extension": ".jl",
   "mimetype": "application/julia",
   "name": "julia",
   "version": "1.5.0"
  }
 },
 "nbformat": 4,
 "nbformat_minor": 2
}
