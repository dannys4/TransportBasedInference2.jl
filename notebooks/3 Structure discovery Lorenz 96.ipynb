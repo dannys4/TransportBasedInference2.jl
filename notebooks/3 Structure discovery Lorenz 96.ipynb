{
 "cells": [
  {
   "cell_type": "markdown",
   "metadata": {},
   "source": [
    "## 3. Structure discovery for the Lorenz-96 problem"
   ]
  },
  {
   "cell_type": "markdown",
   "metadata": {},
   "source": [
    "In this notebook, we will show how we can estimate the conditional independence structure of a random variable $\\mathsf{X} \\in \\mathbb{R}^{N_x}$ with density $\\pi$ based on i.i.d. samples $\\{\\boldsymbol{x}^i\\}, \\; i = 1, \\ldots, N_e$ from $\\pi$.\n",
    "\n",
    "References: \n",
    "\n",
    "[1] Lorenz, E.N., 1996, September. Predictability: A problem partly solved. In Proc. Seminar on predictability (Vol. 1, No. 1).\n",
    "\n",
    "[2] Baptista, R., Zahm, O., & Marzouk, Y. (2020). An adaptive transport framework for joint and conditional density estimation. arXiv preprint arXiv:2009.10303.\n",
    "\n",
    "[3] Baptista, R., Marzouk, Y., Morrison, R.E. and Zahm, O., 2021. Learning non-Gaussian graphical models via Hessian scores and triangular transport. arXiv preprint arXiv:2101.03093.\n"
   ]
  },
  {
   "cell_type": "code",
   "execution_count": 1,
   "metadata": {},
   "outputs": [
    {
     "name": "stderr",
     "output_type": "stream",
     "text": [
      "┌ Info: Precompiling AdaptiveTransportMap [bdf749b0-1400-4207-80d3-e689c0e3f03d]\n",
      "└ @ Base loading.jl:1278\n",
      "┌ Warning: Type annotations on keyword arguments not currently supported in recipes. Type information has been discarded\n",
      "└ @ RecipesBase ~/.julia/packages/RecipesBase/92zOw/src/RecipesBase.jl:116\n",
      "┌ Warning: Type annotations on keyword arguments not currently supported in recipes. Type information has been discarded\n",
      "└ @ RecipesBase ~/.julia/packages/RecipesBase/92zOw/src/RecipesBase.jl:116\n"
     ]
    }
   ],
   "source": [
    "using Revise\n",
    "using LinearAlgebra\n",
    "using AdaptiveTransportMap\n",
    "using Statistics\n",
    "using Distributions\n",
    "using OrdinaryDiffEq\n",
    "using ProgressMeter"
   ]
  },
  {
   "cell_type": "markdown",
   "metadata": {},
   "source": [
    "Load some packages to make nice figures"
   ]
  },
  {
   "cell_type": "code",
   "execution_count": 2,
   "metadata": {},
   "outputs": [
    {
     "name": "stderr",
     "output_type": "stream",
     "text": [
      "┌ Info: Precompiling Plots [91a5bcdd-55d7-5caf-9e0b-520d859cae80]\n",
      "└ @ Base loading.jl:1278\n",
      "┌ Info: Precompiling PyPlot [d330b81b-6aea-500a-939a-2ce795aea3ee]\n",
      "└ @ Base loading.jl:1278\n"
     ]
    }
   ],
   "source": [
    "using Plots\n",
    "default(tickfont = font(\"CMU Serif\", 9), \n",
    "        titlefont = font(\"CMU Serif\", 14), \n",
    "        guidefont = font(\"CMU Serif\", 12),\n",
    "        legendfont = font(\"CMU Serif\", 10),\n",
    "        grid = false)\n",
    "pyplot()\n",
    "\n",
    "using LaTeXStrings\n",
    "PyPlot.rc(\"text\", usetex = \"true\")\n",
    "PyPlot.rc(\"font\", family = \"CMU Serif\")\n",
    "# gr()\n",
    "using ColorSchemes"
   ]
  },
  {
   "cell_type": "markdown",
   "metadata": {},
   "source": [
    "The Lorenz-96 model [1] is a famous problem used in data assimilation and weather prediction. It was derived from first principles as a one-dimensional model for the response of the mid-latitude atmosphere to forcing input. For certain forcing input, it can exhibit a chaotic behavior: sensitivity to initial conditions, strong mixing. In this notebook, we consider the fifteen-dimensional version of the Lorenz-96 model.  The state $\\boldsymbol{x} = (x_1, \\ldots, x_{15})$ at time $t$ is governed by the following set of ordinary differential equations:  \n",
    "\n",
    "\\begin{equation}\n",
    "    \\frac{\\mathrm{d}x_i}{\\mathrm{d}t} = (x_{i+1} - x_{i-2}) x_{i-1} -x_i + F,\n",
    "\\end{equation}\n",
    "where it is assumed that $x_{-1} = x_{n − 1} , x_0 = x_{n}$ and $x_{n+1} = x_1$, setting the forcing input $F=8.0$ leads to chaos."
   ]
  },
  {
   "cell_type": "markdown",
   "metadata": {},
   "source": [
    "We integrate the Lorenz-96 problem with our favorite ODE library: OrdinaryDiffEq.jl."
   ]
  },
  {
   "cell_type": "code",
   "execution_count": 3,
   "metadata": {},
   "outputs": [
    {
     "data": {
      "text/plain": [
       "lorenz96! (generic function with 1 method)"
      ]
     },
     "execution_count": 3,
     "metadata": {},
     "output_type": "execute_result"
    }
   ],
   "source": [
    "function lorenz96!(du,u,p,t)\n",
    "    F = 8.0\n",
    "    n = size(u,1)\n",
    "    du[1] = (u[2]-u[end-1])*u[end] - u[1] + F\n",
    "    du[2] = (u[3]-u[end])*u[1] - u[2] + F\n",
    "    du[end] = (u[1] - u[end-2])*u[end-1] - u[end] + F\n",
    "\n",
    "    @inbounds for i=3:n-1\n",
    "        du[i] = (u[i+1] - u[i-2])*u[i-1] - u[i] + F\n",
    "    end\n",
    "    return du\n",
    "end"
   ]
  },
  {
   "cell_type": "code",
   "execution_count": 4,
   "metadata": {},
   "outputs": [
    {
     "data": {
      "text/plain": [
       "\u001b[36mODEProblem\u001b[0m with uType \u001b[36mArray{Float64,1}\u001b[0m and tType \u001b[36mFloat64\u001b[0m. In-place: \u001b[36mtrue\u001b[0m\n",
       "timespan: (0.0, 500.0)\n",
       "u0: 15-element Array{Float64,1}:\n",
       "  1.753142839702276\n",
       "  0.471386600964523\n",
       "  1.6866914589419484\n",
       " -0.05992704970527909\n",
       "  0.9840461506480556\n",
       " -1.935860450211835\n",
       "  0.8776996334577465\n",
       "  0.9229801763619527\n",
       "  0.010007482130525538\n",
       " -0.2744401781107487\n",
       " -0.5826443655078232\n",
       "  1.0131757034496218\n",
       "  0.346641811661361\n",
       "  0.1740441266973868\n",
       "  1.5126590338029584"
      ]
     },
     "execution_count": 4,
     "metadata": {},
     "output_type": "execute_result"
    }
   ],
   "source": [
    "# Define the distribution for initial condition\n",
    "Nx = 15\n",
    "# Number of runs\n",
    "Ne = 1000\n",
    "πx0 = MvNormal(zeros(Nx), ones(Nx))\n",
    "# Zero vector of the size of the state\n",
    "x0 = rand(πx0)\n",
    "\n",
    "# Time stepp\n",
    "tspan = (0.0, 500.0)\n",
    "prob = ODEProblem(lorenz96!,x0, tspan)"
   ]
  },
  {
   "cell_type": "markdown",
   "metadata": {},
   "source": [
    "Create cache to store the different final solutions"
   ]
  },
  {
   "cell_type": "code",
   "execution_count": 5,
   "metadata": {},
   "outputs": [],
   "source": [
    "X = zeros(Nx, Ne);"
   ]
  },
  {
   "cell_type": "markdown",
   "metadata": {},
   "source": [
    "Solve Lorenz-96 model for the different initial conditions and store the solutions as the columns of `X`"
   ]
  },
  {
   "cell_type": "code",
   "execution_count": 6,
   "metadata": {},
   "outputs": [],
   "source": [
    "@inbounds for i=1:Ne\n",
    "    prob = remake(prob; u0 = rand(πx0))\n",
    "    sol = solve(prob, Tsit5(), dt = 0.01, adaptive = false, dense = false, saveat = tspan[end], save_start = false)\n",
    "    X[:,i] = deepcopy(sol.u[1])\n",
    "end"
   ]
  },
  {
   "cell_type": "markdown",
   "metadata": {},
   "source": [
    "We can use the adaptive transport map procedure to estimate the underlying distribution for the state $\\mathsf{X}$."
   ]
  },
  {
   "cell_type": "code",
   "execution_count": 7,
   "metadata": {},
   "outputs": [],
   "source": [
    "m = 60\n",
    "S = HermiteMap(m, X; diag = true);"
   ]
  },
  {
   "cell_type": "code",
   "execution_count": null,
   "metadata": {
    "scrolled": true
   },
   "outputs": [
    {
     "name": "stdout",
     "output_type": "stream",
     "text": [
      "1 terms - Training error: 1.4148821997235077, Validation error: 1.4326638671293321\n",
      "1 terms - Training error: 1.4147684630874346, Validation error: 1.432669557360169\n",
      "2 terms - Training error: 1.4130996761212768, Validation error: 1.4308107859795134\n",
      "3 terms - Training error: 1.4107374771644732, Validation error: 1.4295143643284745\n",
      "4 terms - Training error: 1.4059202351449662, Validation error: 1.4274367459310036\n",
      "5 terms - Training error: 1.4058726298878816, Validation error: 1.4263875201087701\n",
      "6 terms - Training error: 1.4036986587114388, Validation error: 1.4290065589809342\n",
      "7 terms - Training error: 1.402077207428702, Validation error: 1.4355933429914491\n",
      "8 terms - Training error: 1.402054787546567, Validation error: 1.436198498220585\n",
      "9 terms - Training error: 1.4019968247015853, Validation error: 1.4338998104318326\n",
      "10 terms - Training error: 1.4019122272576516, Validation error: 1.4358398682845375\n",
      "11 terms - Training error: 1.4015975182908986, Validation error: 1.4370631664239455\n",
      "12 terms - Training error: 1.4013525104981557, Validation error: 1.4355694415231797\n",
      "13 terms - Training error: 1.4012775250132254, Validation error: 1.4357664696448578\n",
      "14 terms - Training error: 1.4008431201788702, Validation error: 1.4333477326853834\n",
      "15 terms - Training error: 1.4008202358418393, Validation error: 1.4326889057995467\n",
      "16 terms - Training error: 1.4005052028784766, Validation error: 1.4327843282228316\n",
      "17 terms - Training error: 1.4002921476097905, Validation error: 1.4335663134556669\n",
      "18 terms - Training error: 1.4001665517267603, Validation error: 1.4331493027047135\n",
      "19 terms - Training error: 1.399707893045366, Validation error: 1.4390770198192722\n",
      "20 terms - Training error: 1.399697668480413, Validation error: 1.4380453879015807\n",
      "21 terms - Training error: 1.3991079445379209, Validation error: 1.4449247104943634\n",
      "22 terms - Training error: 1.3990820397088608, Validation error: 1.442279208072607\n",
      "23 terms - Training error: 1.398706142846649, Validation error: 1.4416958583711346\n",
      "24 terms - Training error: 1.3985303796939046, Validation error: 1.4360868404574545\n",
      "25 terms - Training error: 1.3984162077614752, Validation error: 1.4336816941467216\n",
      "26 terms - Training error: 1.3982326792755777, Validation error: 1.4327777408142\n",
      "27 terms - Training error: 1.398232679563513, Validation error: 1.432779382069953\n",
      "28 terms - Training error: 1.398232679438345, Validation error: 1.432778983811827\n",
      "29 terms - Training error: 1.3982326793769542, Validation error: 1.4327790401392448\n",
      "30 terms - Training error: 1.3982326794078745, Validation error: 1.432779034383514\n",
      "31 terms - Training error: 1.3982326795512579, Validation error: 1.4327790844347055\n",
      "32 terms - Training error: 1.3982326795496614, Validation error: 1.4327791119382898\n",
      "1 terms - Training error: 1.426820154678195, Validation error: 1.3849120473105838\n",
      "1 terms - Training error: 1.4267328511462072, Validation error: 1.3848059280823581\n",
      "2 terms - Training error: 1.4236505038364435, Validation error: 1.3895913344143584\n",
      "3 terms - Training error: 1.4227211478390083, Validation error: 1.3838377409688092\n",
      "4 terms - Training error: 1.4173480041451647, Validation error: 1.384352876284426\n",
      "5 terms - Training error: 1.4168682761523044, Validation error: 1.3840092941640953\n",
      "6 terms - Training error: 1.415974713306927, Validation error: 1.3809808265659966\n",
      "7 terms - Training error: 1.4158952769691782, Validation error: 1.3798850020934066\n",
      "8 terms - Training error: 1.4158569805055743, Validation error: 1.380522799347084\n",
      "9 terms - Training error: 1.415070024813761, Validation error: 1.381405783352951\n",
      "10 terms - Training error: 1.4146591807556173, Validation error: 1.3862242463696461\n",
      "11 terms - Training error: 1.4145871671583101, Validation error: 1.3888315364121933\n",
      "12 terms - Training error: 1.4141608217671837, Validation error: 1.390543101055808\n",
      "13 terms - Training error: 1.4139016331949295, Validation error: 1.394434428699296\n",
      "14 terms - Training error: 1.4111816857642558, Validation error: 1.421162025441096\n",
      "15 terms - Training error: 1.410797276582748, Validation error: 1.4159931292966719\n",
      "16 terms - Training error: 1.408789991388269, Validation error: 1.430288925292581\n",
      "17 terms - Training error: 1.4083318666831066, Validation error: 1.4169044286892698\n",
      "18 terms - Training error: 1.4073888613593553, Validation error: 1.4115554928604948\n",
      "19 terms - Training error: 1.4071521826270674, Validation error: 1.407465120351606\n",
      "20 terms - Training error: 1.4065829871729556, Validation error: 1.4020321373491054\n",
      "21 terms - Training error: 1.4065084003566428, Validation error: 1.4018570793498875\n",
      "22 terms - Training error: 1.406223861145706, Validation error: 1.4001012773160628\n",
      "23 terms - Training error: 1.4061947657413505, Validation error: 1.400321539604814\n",
      "24 terms - Training error: 1.4060379399222744, Validation error: 1.399764132690506\n",
      "25 terms - Training error: 1.406023729090666, Validation error: 1.4003765218277862\n",
      "26 terms - Training error: 1.4058490622381554, Validation error: 1.4018329807917593\n",
      "27 terms - Training error: 1.4058396775600983, Validation error: 1.4022281556839826\n",
      "28 terms - Training error: 1.4058396774410462, Validation error: 1.402228137080353\n"
     ]
    }
   ],
   "source": [
    "optimize(S, X, \"kfold\"; withqr = true, verbose = true, hessprecond = true)"
   ]
  },
  {
   "cell_type": "code",
   "execution_count": null,
   "metadata": {},
   "outputs": [],
   "source": [
    "plot(S)\n",
    "# savefig(\"Lorenz96_structure.pdf\")"
   ]
  },
  {
   "cell_type": "markdown",
   "metadata": {},
   "source": [
    "Baptista et al.[3] showed that the conditional independence properties of a random variable $\\mathsf{X} \\in \\mathbb{R}^n$ with density $\\pi$ are specified by the *Hessian score matrix* $\\boldsymbol{\\Omega} \\in \\mathbb{R}^{n \\times n}$ defined as:\n",
    "\n",
    "\\begin{equation}\n",
    "\\Omega_{i,j} = \\mathrm{E}_{\\pi} \\left[ |\\partial_i\\partial_j \\log \\pi(\\boldsymbol{x})|^2  \\right] = \\int |\\partial_i\\partial_j \\log \\pi(\\boldsymbol{x})|^2 \\pi(\\boldsymbol{x}) \\; \\mathrm{d}\\boldsymbol{x}.\n",
    "\\end{equation}\n",
    "\n",
    "The pullback density $\\boldsymbol{S}^{\\sharp} \\rho$ can be used to approximate the true density $\\pi$, where $\\rho$ denotes the standard Gaussian distribution of $\\mathbb{R}^n$. Thus, the score matrix is estimated by [3]: \n",
    "\\begin{equation}\n",
    "\\hat{\\Omega}_{i,j} = \\mathrm{E}_{\\pi} \\left[ |\\partial_i\\partial_j \\log \\boldsymbol{S}^{\\sharp} \\rho|^2  \\right]\n",
    "\\end{equation}\n",
    "\n",
    "In practice, we use a sampled-based approximation of $\\hat{\\boldsymbol{\\Omega}}$ using samples $\\{\\boldsymbol{x}^k\\}, \\; k=1,\\ldots, N_e$ of $\\pi$ [3]:\n",
    "\n",
    "\n",
    "\\begin{equation}\n",
    "\\hat{\\Omega}_{i,j} \\approx \\sum_{k=1}^{N_e}|\\partial_i\\partial_j \\log \\boldsymbol{S}^{\\sharp}\\rho(\\boldsymbol{x}^k )|^2\n",
    "\\end{equation}"
   ]
  },
  {
   "cell_type": "markdown",
   "metadata": {},
   "source": [
    "The function `hess_x_log_pdf!` computes in-place the Hessian of the log pdf of the pullback density $\\boldsymbol{S}^{\\sharp} \\rho$. You can also use `hess_x_log_pdf`."
   ]
  },
  {
   "cell_type": "code",
   "execution_count": null,
   "metadata": {},
   "outputs": [],
   "source": [
    "Ωhat = zeros(Nx, Nx)\n",
    "cache = zeros(1, Nx, Nx)\n",
    "@showprogress for i=1:Ne\n",
    "    hess_x_log_pdf!(cache, S, X[:,i:i])\n",
    "    Ωhat .+= copy(cache[1,:,:]).^2\n",
    "end\n",
    "rmul!(Ωhat, 1/Ne)"
   ]
  },
  {
   "cell_type": "code",
   "execution_count": null,
   "metadata": {},
   "outputs": [],
   "source": [
    "plt = plot(size = (800, 800))\n",
    "\n",
    "heatmap!(plt,log10.(Ωhat), ratio = 1, yflip = true, \n",
    "        colorbar = true, color = :plasma, clim = (1.5, Inf), colorbar_title = L\"\\log_{10}(\\hat{\\Omega})\",\n",
    "        xlabel = \"Index\", ylabel = \"Index\", background_color_inside = palette(:plasma)[1], \n",
    "        yticks = (reverse(collect(0:10:Nx))))\n",
    "plt"
   ]
  }
 ],
 "metadata": {
  "kernelspec": {
   "display_name": "Julia 1.5.3",
   "language": "julia",
   "name": "julia-1.5"
  },
  "language_info": {
   "file_extension": ".jl",
   "mimetype": "application/julia",
   "name": "julia",
   "version": "1.5.3"
  }
 },
 "nbformat": 4,
 "nbformat_minor": 2
}
