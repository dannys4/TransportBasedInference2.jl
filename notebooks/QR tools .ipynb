{
 "cells": [
  {
   "cell_type": "code",
   "execution_count": 1,
   "metadata": {},
   "outputs": [
    {
     "name": "stderr",
     "output_type": "stream",
     "text": [
      "\u001b[32m\u001b[1m Activating\u001b[22m\u001b[39m environment at `/media/mat/HDD/AdaptiveTransportMap/Project.toml`\n"
     ]
    }
   ],
   "source": [
    "using Pkg\n",
    "Pkg.activate(\"/media/mat/HDD/AdaptiveTransportMap/\")"
   ]
  },
  {
   "cell_type": "code",
   "execution_count": 2,
   "metadata": {},
   "outputs": [
    {
     "name": "stderr",
     "output_type": "stream",
     "text": [
      "┌ Info: Precompiling AdaptiveTransportMap [bdf749b0-1400-4207-80d3-e689c0e3f03d]\n",
      "└ @ Base loading.jl:1278\n",
      "┌ Warning: Type annotations on keyword arguments not currently supported in recipes. Type information has been discarded\n",
      "└ @ RecipesBase ~/.julia/packages/RecipesBase/AN696/src/RecipesBase.jl:117\n"
     ]
    }
   ],
   "source": [
    "using Revise\n",
    "using AdaptiveTransportMap\n",
    "using LinearAlgebra\n",
    "import LinearAlgebra: ldiv!, dot\n",
    "using Test\n",
    "using ForwardDiff\n",
    "using SpecialFunctions\n",
    "using BenchmarkTools\n",
    "using TransportMap\n",
    "using QuadGK\n",
    "using Polynomials\n",
    "using Distributions\n",
    "using Random\n",
    "using LoopVectorization\n",
    "using Optim\n",
    "using NLsolve\n",
    "using MLDataUtils\n",
    "using MLDataPattern\n",
    "using Test\n",
    "using SparseArrays\n",
    "using AdaptiveTransportMap: vander, transform!, evaluate, ncoeff, optimize, negative_log_likelihood!, derivative\n",
    "\n",
    "# using Profile\n",
    "# using ProfileView\n",
    "using StaticArrays\n",
    "using QRupdate"
   ]
  },
  {
   "cell_type": "code",
   "execution_count": 17,
   "metadata": {},
   "outputs": [],
   "source": [
    "Nx = 3\n",
    "Ne = 8\n",
    "m = 20\n",
    "\n",
    "idx = [0 0 0; 0 0 1; 0 1 0; 0 1 1; 0 1 2; 1 0 0]\n",
    "\n",
    "\n",
    "Nψ = 6\n",
    "coeff = [ 0.20649582065364197;\n",
    "         -0.5150990160472986;\n",
    "          2.630096893080717;\n",
    "          1.13653076177397;\n",
    "          0.6725837371023421;\n",
    "         -1.3126095306624133]\n",
    "coeff0 = deepcopy(coeff)\n",
    "\n",
    "\n",
    "\n",
    "X =  Matrix([ 1.12488     0.0236348   -0.958426;\n",
    "         -0.0493163   0.00323509  -0.276744;\n",
    "          1.11409     0.976117     0.256577;\n",
    "         -0.563545    0.179956    -0.418444;\n",
    "          0.0780599   0.371091    -0.742342;\n",
    "          1.77185    -0.175635     0.32151;\n",
    "         -0.869045   -0.0570977   -1.06254;\n",
    "         -0.165249   -2.70636      0.548725]')\n",
    "\n",
    "L = LinearTransform(X)\n",
    "transform!(L, X);\n",
    "\n",
    "# For α = 0.0\n",
    "C = MapComponent(m, Nx, idx, coeff; α = 0.0)\n",
    "\n",
    "S = Storage(C.I.f, X);"
   ]
  },
  {
   "cell_type": "code",
   "execution_count": 18,
   "metadata": {},
   "outputs": [
    {
     "data": {
      "text/plain": [
       "1.712405808069109"
      ]
     },
     "execution_count": 18,
     "metadata": {},
     "output_type": "execute_result"
    }
   ],
   "source": [
    "J = 0.0\n",
    "dJ = zeros(Nψ)\n",
    "J = negative_log_likelihood!(J, dJ, coeff, S, C, X)"
   ]
  },
  {
   "cell_type": "code",
   "execution_count": null,
   "metadata": {},
   "outputs": [],
   "source": []
  },
  {
   "cell_type": "code",
   "execution_count": 6,
   "metadata": {},
   "outputs": [
    {
     "name": "stdout",
     "output_type": "stream",
     "text": [
      "  1.913938 seconds (6.37 M allocations: 315.373 MiB, 4.69% gc time)\n",
      "J̃ = 1.7124058080691076\n",
      "dJ̃ = [-0.3573017726386752, -0.2653466846284366, -0.2021113509478187, 1.100222638236371, -0.35109216432710877, 1.180787508955647]\n"
     ]
    }
   ],
   "source": [
    "S̃ = Storage(C.I.f, X)\n",
    "F = QRscaling(S̃);\n",
    "J̃ = 0.0\n",
    "dJ̃ = zeros(Nψ)\n",
    "c̃oeff0 = F.U*coeff0\n",
    "\n",
    "mul!(S̃.ψoffψd0, S̃.ψoffψd0, F.Uinv)\n",
    "mul!(S̃.ψoffdψxd, S̃.ψoffdψxd, F.Uinv)\n",
    "\n",
    "@time J̃ = qrnegative_log_likelihood!(J̃, dJ̃, c̃oeff0, F, S̃, C, X)\n",
    "\n",
    "@show J̃\n",
    "@show dJ̃\n",
    "\n",
    "mul!(S̃.ψoffψd0, S̃.ψoffψd0, F.U)\n",
    "mul!(S̃.ψoffdψxd, S̃.ψoffdψxd, F.U);"
   ]
  },
  {
   "cell_type": "code",
   "execution_count": 15,
   "metadata": {},
   "outputs": [
    {
     "data": {
      "text/plain": [
       "6-element Array{Float64,1}:\n",
       " -0.3573017726386752\n",
       " -0.2653466846284366\n",
       " -0.2021113509478187\n",
       "  1.100222638236371\n",
       " -0.35109216432710877\n",
       "  1.180787508955647"
      ]
     },
     "execution_count": 15,
     "metadata": {},
     "output_type": "execute_result"
    }
   ],
   "source": [
    "dJ̃"
   ]
  },
  {
   "cell_type": "code",
   "execution_count": 16,
   "metadata": {},
   "outputs": [
    {
     "data": {
      "text/plain": [
       "6-element Array{Float64,1}:\n",
       "  1.0106020254511265\n",
       "  0.5795900294742009\n",
       "  0.5368061292507362\n",
       "  0.30244842100855623\n",
       " -0.015442389781934077\n",
       "  0.4895928758174947"
      ]
     },
     "execution_count": 16,
     "metadata": {},
     "output_type": "execute_result"
    }
   ],
   "source": [
    "dJ"
   ]
  },
  {
   "cell_type": "code",
   "execution_count": 5,
   "metadata": {},
   "outputs": [],
   "source": [
    "# Ne = 500\n",
    "# X = randn(Nx, Ne).*randn(Nx, Ne)\n",
    "\n",
    "# L = LinearTransform(X)\n",
    "# transform!(L, X);\n",
    "\n",
    "# # For α = 0.0\n",
    "# C = MapComponent(m, Nx, idx, coeff; α = 0.0)\n",
    "\n",
    "# S = Storage(C.I.f, X);"
   ]
  },
  {
   "cell_type": "code",
   "execution_count": 6,
   "metadata": {},
   "outputs": [
    {
     "name": "stdout",
     "output_type": "stream",
     "text": [
      "  0.051629 seconds (18.37 k allocations: 996.351 KiB)\n"
     ]
    },
    {
     "ename": "LoadError",
     "evalue": "MethodError: no method matching *(::Array{Float64,1}, ::LoopVectorization.Product{Array{Float64,2},UpperTriangular{Float64,Array{Float64,2}}})\nClosest candidates are:\n  *(::Any, ::Any, !Matched::Any, !Matched::Any...) at operators.jl:538\n  *(!Matched::ChainRulesCore.One, ::Any) at /home/mat/.julia/packages/ChainRulesCore/Q5Nrj/src/differential_arithmetic.jl:68\n  *(!Matched::ChainRulesCore.DoesNotExist, ::Any) at /home/mat/.julia/packages/ChainRulesCore/Q5Nrj/src/differential_arithmetic.jl:23\n  ...",
     "output_type": "error",
     "traceback": [
      "MethodError: no method matching *(::Array{Float64,1}, ::LoopVectorization.Product{Array{Float64,2},UpperTriangular{Float64,Array{Float64,2}}})\nClosest candidates are:\n  *(::Any, ::Any, !Matched::Any, !Matched::Any...) at operators.jl:538\n  *(!Matched::ChainRulesCore.One, ::Any) at /home/mat/.julia/packages/ChainRulesCore/Q5Nrj/src/differential_arithmetic.jl:68\n  *(!Matched::ChainRulesCore.DoesNotExist, ::Any) at /home/mat/.julia/packages/ChainRulesCore/Q5Nrj/src/differential_arithmetic.jl:23\n  ...",
      "",
      "Stacktrace:",
      " [1] top-level scope at ./timing.jl:174 [inlined]",
      " [2] top-level scope at ./In[6]:0",
      " [3] include_string(::Function, ::Module, ::String, ::String) at ./loading.jl:1091"
     ]
    }
   ],
   "source": [
    "S.cache_dψxd .= randn(Ne)\n",
    "S.cache_dcψxdt .= randn(Ne, Nψ)\n",
    "@time S.cache_dψxd .* (S.cache_dcψxdt * F.Uinv)\n",
    "@time @avx S.cache_dψxd * (S.cache_dcψxdt *ˡ F.Uinv)"
   ]
  },
  {
   "cell_type": "code",
   "execution_count": 7,
   "metadata": {},
   "outputs": [
    {
     "data": {
      "text/plain": [
       "4.462913513325966"
      ]
     },
     "execution_count": 7,
     "metadata": {},
     "output_type": "execute_result"
    }
   ],
   "source": [
    "qrnegative_log_likelihood!(J̃, dJ̃, c̃oeff0, F, S̃, C, X)"
   ]
  },
  {
   "cell_type": "markdown",
   "metadata": {},
   "source": [
    "### Old version"
   ]
  },
  {
   "cell_type": "code",
   "execution_count": 8,
   "metadata": {},
   "outputs": [
    {
     "name": "stdout",
     "output_type": "stream",
     "text": [
      "J̃ = 1.7124058080691076\n",
      "dJ̃ = [-0.3573017726386752, -0.2653466846284366, -0.2021113509478187, 1.100222638236371, -0.35109216432710877, 1.180787508955647]\n"
     ]
    }
   ],
   "source": [
    "S̃ = Storage(C.I.f, X)\n",
    "F = QRscaling(S̃);\n",
    "J̃ = 0.0\n",
    "dJ̃ = zeros(Nψ)\n",
    "c̃oeff0 = F.U*coeff0\n",
    "\n",
    "mul!(S̃.ψoffψd0, S̃.ψoffψd0, F.Uinv)\n",
    "mul!(S̃.ψoffdψxd, S̃.ψoffdψxd, F.Uinv)\n",
    "\n",
    "J̃ = qrnegative_log_likelihood!(J̃, dJ̃, c̃oeff0, F, S̃, C, X)\n",
    "\n",
    "@show J̃\n",
    "@show dJ̃\n",
    "\n",
    "mul!(S̃.ψoffψd0, S̃.ψoffψd0, F.U)\n",
    "mul!(S̃.ψoffdψxd, S̃.ψoffdψxd, F.U);"
   ]
  },
  {
   "cell_type": "code",
   "execution_count": 9,
   "metadata": {},
   "outputs": [
    {
     "data": {
      "text/plain": [
       "1.712405808069109"
      ]
     },
     "execution_count": 9,
     "metadata": {},
     "output_type": "execute_result"
    }
   ],
   "source": [
    "#Verify loss function\n",
    "# Without QR normalization\n",
    "J = 0.0\n",
    "J = negative_log_likelihood!(J, nothing, coeff, S, C, X)"
   ]
  },
  {
   "cell_type": "code",
   "execution_count": 12,
   "metadata": {},
   "outputs": [
    {
     "data": {
      "text/plain": [
       "15000"
      ]
     },
     "execution_count": 12,
     "metadata": {},
     "output_type": "execute_result"
    }
   ],
   "source": [
    "30*500"
   ]
  },
  {
   "cell_type": "code",
   "execution_count": 10,
   "metadata": {},
   "outputs": [
    {
     "name": "stdout",
     "output_type": "stream",
     "text": [
      "  1.799717 seconds (6.36 M allocations: 326.964 MiB, 5.60% gc time)\n"
     ]
    },
    {
     "data": {
      "text/plain": [
       " * Status: success\n",
       "\n",
       " * Candidate solution\n",
       "    Final objective value:     7.047783e-01\n",
       "\n",
       " * Found with\n",
       "    Algorithm:     L-BFGS\n",
       "\n",
       " * Convergence measures\n",
       "    |x - x'|               = 4.91e-06 ≰ 0.0e+00\n",
       "    |x - x'|/|x'|          = 5.00e-08 ≰ 0.0e+00\n",
       "    |f(x) - f(x')|         = 5.33e-15 ≰ 0.0e+00\n",
       "    |f(x) - f(x')|/|f(x')| = 7.56e-15 ≰ 0.0e+00\n",
       "    |g(x)|                 = 5.85e-11 ≤ 1.0e-08\n",
       "\n",
       " * Work counters\n",
       "    Seconds run:   0  (vs limit Inf)\n",
       "    Iterations:    15\n",
       "    f(x) calls:    47\n",
       "    ∇f(x) calls:   47\n"
      ]
     },
     "execution_count": 10,
     "metadata": {},
     "output_type": "execute_result"
    }
   ],
   "source": [
    "@time res = Optim.optimize(Optim.only_fg!(negative_log_likelihood(S, C, X)), coeff, Optim.LBFGS(; m = 20),\n",
    "                           Optim.Options(store_trace=true))"
   ]
  },
  {
   "cell_type": "code",
   "execution_count": 11,
   "metadata": {},
   "outputs": [
    {
     "name": "stdout",
     "output_type": "stream",
     "text": [
      "  0.440809 seconds (841.77 k allocations: 43.767 MiB, 5.26% gc time)\n"
     ]
    },
    {
     "data": {
      "text/plain": [
       " * Status: success\n",
       "\n",
       " * Candidate solution\n",
       "    Final objective value:     7.047783e-01\n",
       "\n",
       " * Found with\n",
       "    Algorithm:     L-BFGS\n",
       "\n",
       " * Convergence measures\n",
       "    |x - x'|               = 1.15e-05 ≰ 0.0e+00\n",
       "    |x - x'|/|x'|          = 1.17e-07 ≰ 0.0e+00\n",
       "    |f(x) - f(x')|         = 2.08e-13 ≰ 0.0e+00\n",
       "    |f(x) - f(x')|/|f(x')| = 2.95e-13 ≰ 0.0e+00\n",
       "    |g(x)|                 = 1.23e-09 ≤ 1.0e-08\n",
       "\n",
       " * Work counters\n",
       "    Seconds run:   0  (vs limit Inf)\n",
       "    Iterations:    10\n",
       "    f(x) calls:    26\n",
       "    ∇f(x) calls:   26\n"
      ]
     },
     "execution_count": 11,
     "metadata": {},
     "output_type": "execute_result"
    }
   ],
   "source": [
    "precond = zeros(ncoeff(C), ncoeff(C))\n",
    "precond!(precond, coeff, S, C, X)\n",
    "@time resprecond = Optim.optimize(Optim.only_fg!(negative_log_likelihood(S, C, X)), coeff,\n",
    "                           Optim.LBFGS(; m = 20, P = Preconditioner(precond)),\n",
    "                           Optim.Options(store_trace=true))"
   ]
  },
  {
   "cell_type": "code",
   "execution_count": 100,
   "metadata": {},
   "outputs": [
    {
     "name": "stdout",
     "output_type": "stream",
     "text": [
      "  0.001082 seconds (8.17 k allocations: 941.703 KiB)\n"
     ]
    },
    {
     "data": {
      "text/plain": [
       " * Status: success\n",
       "\n",
       " * Candidate solution\n",
       "    Final objective value:     7.047783e-01\n",
       "\n",
       " * Found with\n",
       "    Algorithm:     L-BFGS\n",
       "\n",
       " * Convergence measures\n",
       "    |x - x'|               = 1.65e-06 ≰ 0.0e+00\n",
       "    |x - x'|/|x'|          = 1.27e-06 ≰ 0.0e+00\n",
       "    |f(x) - f(x')|         = 4.08e-13 ≰ 0.0e+00\n",
       "    |f(x) - f(x')|/|f(x')| = 5.79e-13 ≰ 0.0e+00\n",
       "    |g(x)|                 = 2.38e-09 ≤ 1.0e-08\n",
       "\n",
       " * Work counters\n",
       "    Seconds run:   0  (vs limit Inf)\n",
       "    Iterations:    10\n",
       "    f(x) calls:    30\n",
       "    ∇f(x) calls:   30\n"
      ]
     },
     "execution_count": 100,
     "metadata": {},
     "output_type": "execute_result"
    }
   ],
   "source": [
    "S̃ = Storage(C.I.f, X)\n",
    "J̃ = 0.0\n",
    "dJ̃ = zeros(Nψ)\n",
    "c̃oeff0 = F.U*coeff0\n",
    "\n",
    "mul!(S̃.ψoffψd0, S̃.ψoffψd0, F.Uinv)\n",
    "mul!(S̃.ψoffdψxd, S̃.ψoffdψxd, F.Uinv)\n",
    "\n",
    "qrprecond = zeros(ncoeff(C), ncoeff(C))\n",
    "qrprecond!(qrprecond, c̃oeff0, F, S̃, C, X)\n",
    "\n",
    "@time r̃es = Optim.optimize(Optim.only_fg!(qrnegative_log_likelihood(F, S̃, C, X)), c̃oeff0, Optim.LBFGS(; m = 20),\n",
    "                           Optim.Options(store_trace=true))"
   ]
  },
  {
   "cell_type": "code",
   "execution_count": 10,
   "metadata": {},
   "outputs": [
    {
     "ename": "LoadError",
     "evalue": "UndefVarError: J̃ not defined",
     "output_type": "error",
     "traceback": [
      "UndefVarError: J̃ not defined",
      "",
      "Stacktrace:",
      " [1] top-level scope at ./timing.jl:174 [inlined]",
      " [2] top-level scope at ./In[10]:0",
      " [3] include_string(::Function, ::Module, ::String, ::String) at ./loading.jl:1091"
     ]
    }
   ],
   "source": [
    "@time qrnegative_log_likelihood!(J̃, dJ̃, coeff, F, S̃, C, X)"
   ]
  },
  {
   "cell_type": "code",
   "execution_count": 11,
   "metadata": {},
   "outputs": [
    {
     "ename": "LoadError",
     "evalue": "UndefVarError: J̃ not defined",
     "output_type": "error",
     "traceback": [
      "UndefVarError: J̃ not defined",
      "",
      "Stacktrace:",
      " [1] top-level scope at ./timing.jl:174 [inlined]",
      " [2] top-level scope at ./In[11]:0",
      " [3] include_string(::Function, ::Module, ::String, ::String) at ./loading.jl:1091"
     ]
    }
   ],
   "source": [
    "@time qrnegative_log_likelihood!(J̃, nothing, coeff, F, S̃, C, X)"
   ]
  },
  {
   "cell_type": "code",
   "execution_count": 12,
   "metadata": {
    "scrolled": true
   },
   "outputs": [
    {
     "ename": "LoadError",
     "evalue": "UndefVarError: dJ̃ not defined",
     "output_type": "error",
     "traceback": [
      "UndefVarError: dJ̃ not defined",
      "",
      "Stacktrace:",
      " [1] top-level scope at ./timing.jl:174 [inlined]",
      " [2] top-level scope at ./In[12]:0",
      " [3] include_string(::Function, ::Module, ::String, ::String) at ./loading.jl:1091"
     ]
    }
   ],
   "source": [
    "@time qrnegative_log_likelihood!(nothing, dJ̃, coeff, F, S̃, C, X)"
   ]
  },
  {
   "cell_type": "code",
   "execution_count": 111,
   "metadata": {},
   "outputs": [
    {
     "name": "stdout",
     "output_type": "stream",
     "text": [
      "  0.000686 seconds (7.08 k allocations: 819.453 KiB)\n"
     ]
    },
    {
     "data": {
      "text/plain": [
       " * Status: success\n",
       "\n",
       " * Candidate solution\n",
       "    Final objective value:     7.047783e-01\n",
       "\n",
       " * Found with\n",
       "    Algorithm:     L-BFGS\n",
       "\n",
       " * Convergence measures\n",
       "    |x - x'|               = 1.36e-06 ≰ 0.0e+00\n",
       "    |x - x'|/|x'|          = 1.05e-06 ≰ 0.0e+00\n",
       "    |f(x) - f(x')|         = 2.07e-13 ≰ 0.0e+00\n",
       "    |f(x) - f(x')|/|f(x')| = 2.93e-13 ≰ 0.0e+00\n",
       "    |g(x)|                 = 2.56e-09 ≤ 1.0e-08\n",
       "\n",
       " * Work counters\n",
       "    Seconds run:   0  (vs limit Inf)\n",
       "    Iterations:    10\n",
       "    f(x) calls:    26\n",
       "    ∇f(x) calls:   26\n"
      ]
     },
     "execution_count": 111,
     "metadata": {},
     "output_type": "execute_result"
    }
   ],
   "source": [
    "# With QR and Hessian approximation\n",
    "S̃ = Storage(C.I.f, X)\n",
    "J̃ = 0.0\n",
    "dJ̃ = zeros(Nψ)\n",
    "c̃oeff0 = F.U*coeff0\n",
    "\n",
    "S̃.ψoffψd0 .=  S̃.ψoffψd0 * F.Uinv\n",
    "S̃.ψoffdψxd .= S̃.ψoffdψxd * F.Uinv\n",
    "\n",
    "qrprecond = zeros(ncoeff(C), ncoeff(C))\n",
    "qrprecond!(qrprecond, c̃oeff0, F, S̃, C, X)\n",
    "\n",
    "@time r̃es = Optim.optimize(Optim.only_fg!(qrnegative_log_likelihood(F, S̃, C, X)), c̃oeff0, \n",
    "                           Optim.LBFGS(; m = 20, P = Preconditioner(qrprecond)),\n",
    "                           Optim.Options(store_trace=true))"
   ]
  },
  {
   "cell_type": "code",
   "execution_count": 165,
   "metadata": {
    "scrolled": true
   },
   "outputs": [
    {
     "data": {
      "text/plain": [
       "6-element Array{Float64,1}:\n",
       " -1.2428392933256482\n",
       "  3.067431870165211\n",
       "  2.2007011144800743\n",
       " -4.680659476511385\n",
       "  1.1802209257448486\n",
       " -0.4650201819677618"
      ]
     },
     "execution_count": 165,
     "metadata": {},
     "output_type": "execute_result"
    }
   ],
   "source": [
    "res.minimizer"
   ]
  },
  {
   "cell_type": "code",
   "execution_count": 126,
   "metadata": {
    "scrolled": false
   },
   "outputs": [
    {
     "data": {
      "text/plain": [
       "6-element Array{Float64,1}:\n",
       " -0.4018645157603582\n",
       " -0.9881171838225097\n",
       " -0.15913270404366356\n",
       " -1.226889826902165\n",
       "  0.4167748529075588\n",
       " -0.6015178325629994"
      ]
     },
     "execution_count": 126,
     "metadata": {},
     "output_type": "execute_result"
    }
   ],
   "source": [
    "r̃es.minimizer"
   ]
  },
  {
   "cell_type": "code",
   "execution_count": 127,
   "metadata": {},
   "outputs": [
    {
     "data": {
      "text/plain": [
       "6-element Array{Float64,1}:\n",
       "  19.14094035253657\n",
       " -57.711146681926536\n",
       " -34.295117548168946\n",
       "  93.09349985100788\n",
       "   2.214935235183977\n",
       "   5.360542125964209"
      ]
     },
     "execution_count": 127,
     "metadata": {},
     "output_type": "execute_result"
    }
   ],
   "source": [
    "F.Uinv*r̃es.minimizer"
   ]
  },
  {
   "cell_type": "code",
   "execution_count": 128,
   "metadata": {
    "scrolled": true
   },
   "outputs": [
    {
     "data": {
      "text/plain": [
       "6-element Array{Float64,1}:\n",
       "  19.14094017972538\n",
       " -57.711146348335205\n",
       " -34.29511721846594\n",
       "  93.09349918969032\n",
       "   2.214935299606997\n",
       "   5.36054215598486"
      ]
     },
     "execution_count": 128,
     "metadata": {},
     "output_type": "execute_result"
    }
   ],
   "source": [
    "F.Uinv*r̃esprecond.minimizer"
   ]
  },
  {
   "cell_type": "code",
   "execution_count": 282,
   "metadata": {},
   "outputs": [
    {
     "ename": "LoadError",
     "evalue": "syntax: incomplete: premature end of input",
     "output_type": "error",
     "traceback": [
      "syntax: incomplete: premature end of input",
      "",
      "Stacktrace:",
      " [1] top-level scope at In[282]:14",
      " [2] include_string(::Function, ::Module, ::String, ::String) at ./loading.jl:1091"
     ]
    }
   ],
   "source": [
    "S̃ = Storage(C.I.f, X)\n",
    "J̃ = 0.0\n",
    "dJ̃ = zeros(Nψ)\n",
    "c̃oeff0 = F.U*coeff0\n",
    "\n",
    "mul!(S̃.ψoffψd0, S̃.ψoffψd0, F.Uinv)\n",
    "mul!(S̃.ψoffdψxd, S̃.ψoffdψxd, F.Uinv)\n",
    "\n",
    "\n",
    "\n",
    "qrprecond = zeros(ncoeff(C), ncoeff(C))\n",
    "qrprecond!(qrprecond, c̃oeff0, F, S̃, C, X)\n",
    "\n",
    "@time r̃es = Optim.optimize(OnceDifferentiable(fqrnegative_log_likelihood(F, S̃, C, X), \n",
    "                           gqrnegative_log_likelihood(F, S̃, C, X),\n",
    "                           c̃oeff0, Optim.LBFGS(; m = 20), Optim.Options(store_trace=true))"
   ]
  },
  {
   "cell_type": "code",
   "execution_count": 283,
   "metadata": {},
   "outputs": [
    {
     "ename": "LoadError",
     "evalue": "MethodError: no method matching optimize(::OnceDifferentiable{Float64,Array{Float64,1},Array{Float64,1}}, ::LBFGS{Nothing,InitialStatic{Float64},HagerZhang{Float64,Base.RefValue{Bool}},Optim.var\"#15#17\"})\nClosest candidates are:\n  optimize(::Any, ::Any, !Matched::AbstractArray{T,N} where N, !Matched::AbstractArray{T,N} where N, !Matched::AbstractArray{T,N} where N) where T<:AbstractFloat at /home/mat/.julia/packages/Optim/TNmSw/src/multivariate/solvers/constrained/fminbox.jl:142\n  optimize(::Any, ::Any, !Matched::AbstractArray{T,N} where N, !Matched::AbstractArray{T,N} where N, !Matched::AbstractArray{T,N} where N, !Matched::Fminbox) where T<:AbstractFloat at /home/mat/.julia/packages/Optim/TNmSw/src/multivariate/solvers/constrained/fminbox.jl:142\n  optimize(::Any, ::Any, !Matched::AbstractArray{T,N} where N, !Matched::AbstractArray{T,N} where N, !Matched::AbstractArray{T,N} where N, !Matched::Fminbox, !Matched::Any; inplace, autodiff) where T<:AbstractFloat at /home/mat/.julia/packages/Optim/TNmSw/src/multivariate/solvers/constrained/fminbox.jl:142\n  ...",
     "output_type": "error",
     "traceback": [
      "MethodError: no method matching optimize(::OnceDifferentiable{Float64,Array{Float64,1},Array{Float64,1}}, ::LBFGS{Nothing,InitialStatic{Float64},HagerZhang{Float64,Base.RefValue{Bool}},Optim.var\"#15#17\"})\nClosest candidates are:\n  optimize(::Any, ::Any, !Matched::AbstractArray{T,N} where N, !Matched::AbstractArray{T,N} where N, !Matched::AbstractArray{T,N} where N) where T<:AbstractFloat at /home/mat/.julia/packages/Optim/TNmSw/src/multivariate/solvers/constrained/fminbox.jl:142\n  optimize(::Any, ::Any, !Matched::AbstractArray{T,N} where N, !Matched::AbstractArray{T,N} where N, !Matched::AbstractArray{T,N} where N, !Matched::Fminbox) where T<:AbstractFloat at /home/mat/.julia/packages/Optim/TNmSw/src/multivariate/solvers/constrained/fminbox.jl:142\n  optimize(::Any, ::Any, !Matched::AbstractArray{T,N} where N, !Matched::AbstractArray{T,N} where N, !Matched::AbstractArray{T,N} where N, !Matched::Fminbox, !Matched::Any; inplace, autodiff) where T<:AbstractFloat at /home/mat/.julia/packages/Optim/TNmSw/src/multivariate/solvers/constrained/fminbox.jl:142\n  ...",
      "",
      "Stacktrace:",
      " [1] top-level scope at In[283]:24",
      " [2] include_string(::Function, ::Module, ::String, ::String) at ./loading.jl:1091"
     ]
    }
   ],
   "source": [
    "function f(x)\n",
    "    a = (1.0 - 8.0 * x[1] + 7.0 * x[1]^2 - (7.0 / 3.0) * x[1]^3 + (1.0 / 4.0) * x[1]^4)\n",
    "    return a * x[2]^2 * exp(-x[2])\n",
    "end\n",
    "\n",
    "function g!(G, x)\n",
    "    G[1] = (x[1]^3 - 7.0 * x[1]^2 + 14.0 * x[1] - 8)* x[2]^2 * exp(-x[2])\n",
    "    G[2] = 2.0 * (1.0 - 8.0 * x[1] + 7.0 * x[1]^2 - (7.0 / 3.0) * x[1]^3 + (1.0 / 4.0) * x[1]^4) * x[2] * exp(-x[2]) - (1.0 - 8.0 * x[1] + 7.0 * x[1]^2 - (7.0 / 3.0) * x[1]^3 + (1.0 / 4.0) * x[1]^4) * x[2]^2 * exp(-x[2])\n",
    "end\n",
    "\n",
    "function fg!(G, x)\n",
    "    g!(G, x)\n",
    "    f(x)\n",
    "end\n",
    "\n",
    "function h!(H, x)\n",
    "    H[1, 1] = (3.0 * x[1]^2 - 14.0 * x[1] + 14.0) * x[2]^2 * exp(-x[2])\n",
    "    H[1, 2] = 2.0 * (x[1]^3 - 7.0 * x[1]^2 + 14.0 * x[1] - 8.0) * x[2] * exp(-x[2])  - (x[1]^3 - 7.0 * x[1]^2 + 14.0 * x[1] - 8.0) * x[2]^2 * exp(-x[2])\n",
    "    H[2, 1] =  2.0 * (x[1]^3 - 7.0 * x[1]^2 + 14.0 * x[1] - 8.0) * x[2] * exp(-x[2])  - (x[1]^3 - 7.0 * x[1]^2 + 14.0 * x[1] - 8.0) * x[2]^2 * exp(-x[2])\n",
    "    H[2, 2] = 2.0 * (1.0 - 8.0 * x[1] + 7.0 * x[1]^2 - (7.0 / 3.0) * x[1]^3 + (1.0 / 4.0) * x[1]^4) * exp(-x[2]) - 4.0 * ( 1.0 - 8.0 * x[1] + 7.0 *  x[1]^2 - (7.0 / 3.0) * x[1]^3 + (1.0 / 4.0) * x[1]^4) * x[2] * exp(-x[2]) + (1.0 - 8.0 * x[1] + 7.0 * x[1]^2 - (7.0 / 3.0) * x[1]^3 + (1.0 / 4.0) * x[1]^4) * x[2]^2 * exp(-x[2])\n",
    "end\n",
    "\n",
    "x = zeros(2)\n",
    "Optim.optimize(OnceDifferentiable(f, g!, fg!, x), Optim.LBFGS())"
   ]
  },
  {
   "cell_type": "code",
   "execution_count": 276,
   "metadata": {},
   "outputs": [
    {
     "name": "stdout",
     "output_type": "stream",
     "text": [
      "dJ̃ = [0.0, 0.0, 0.0, 0.0, 0.0, 0.0]\n",
      "(J̃, dJ̃) = (0.0, [-0.0429223544539224, -0.009519862174471374, -0.021321895108986032, 0.005644309134563125, -0.004999947589603069, 0.009938719057935377])\n",
      "dJ̃ = [0.0, 0.0, 0.0, 0.0, 0.0, 0.0]\n",
      "(J̃, dJ̃) = (0.0, [-0.0429223544539224, -0.009519862174471374, -0.021321895108986032, 0.005644309134563125, -0.004999947589603069, 0.009938719057935377])\n"
     ]
    },
    {
     "data": {
      "text/plain": [
       "(0.0, [-0.0429223544539224, -0.009519862174471374, -0.021321895108986032, 0.005644309134563125, -0.004999947589603069, 0.009938719057935377])"
      ]
     },
     "execution_count": 276,
     "metadata": {},
     "output_type": "execute_result"
    }
   ],
   "source": [
    "J̃ = 0.0\n",
    "dJ̃ = zeros(Nψ)\n",
    "@show dJ̃\n",
    "gqrnegative_log_likelihood(F, S̃, C, X)(dJ̃, c̃oeff0)\n",
    "@show J̃, dJ̃\n",
    "\n",
    "J̃ = 0.0\n",
    "dJ̃ = zeros(Nψ)\n",
    "@show dJ̃\n",
    "qrnegative_log_likelihood(F, S̃, C, X)(J̃, dJ̃, c̃oeff0)\n",
    "@show J̃, dJ̃"
   ]
  },
  {
   "cell_type": "code",
   "execution_count": 277,
   "metadata": {},
   "outputs": [
    {
     "data": {
      "text/latex": [
       "No documentation found.\n",
       "\n",
       "\\texttt{NLSolversBase.only\\_fg!} is a \\texttt{Function}.\n",
       "\n",
       "\\begin{verbatim}\n",
       "# 1 method for generic function \"only_fg!\":\n",
       "[1] only_fg!(fg) in NLSolversBase at /home/mat/.julia/packages/NLSolversBase/mGaJg/src/objective_types/incomplete.jl:24\n",
       "\\end{verbatim}\n"
      ],
      "text/markdown": [
       "No documentation found.\n",
       "\n",
       "`NLSolversBase.only_fg!` is a `Function`.\n",
       "\n",
       "```\n",
       "# 1 method for generic function \"only_fg!\":\n",
       "[1] only_fg!(fg) in NLSolversBase at /home/mat/.julia/packages/NLSolversBase/mGaJg/src/objective_types/incomplete.jl:24\n",
       "```\n"
      ],
      "text/plain": [
       "  No documentation found.\n",
       "\n",
       "  \u001b[36mNLSolversBase.only_fg!\u001b[39m is a \u001b[36mFunction\u001b[39m.\n",
       "\n",
       "\u001b[36m  # 1 method for generic function \"only_fg!\":\u001b[39m\n",
       "\u001b[36m  [1] only_fg!(fg) in NLSolversBase at /home/mat/.julia/packages/NLSolversBase/mGaJg/src/objective_types/incomplete.jl:24\u001b[39m"
      ]
     },
     "execution_count": 277,
     "metadata": {},
     "output_type": "execute_result"
    }
   ],
   "source": [
    "?Optim.only_fg!"
   ]
  },
  {
   "cell_type": "code",
   "execution_count": 212,
   "metadata": {},
   "outputs": [
    {
     "data": {
      "text/plain": [
       "timing (generic function with 1 method)"
      ]
     },
     "execution_count": 212,
     "metadata": {},
     "output_type": "execute_result"
    }
   ],
   "source": [
    "function timing()\n",
    "    @btime res = Optim.optimize(Optim.only_fg!(negative_log_likelihood(S, C, X)), coeff, Optim.LBFGS(; m = 20),\n",
    "                           Optim.Options(store_trace=false));\n",
    "    \n",
    "    @btime resprecond = Optim.optimize(Optim.only_fg!(negative_log_likelihood(S, C, X)), coeff,\n",
    "                           Optim.LBFGS(; m = 20, P = Preconditioner(precond)));\n",
    "    \n",
    "    @btime r̃es = Optim.optimize(Optim.only_fg!(qrnegative_log_likelihood(F, S̃, C, X)), c̃oeff0, Optim.LBFGS(; m = 20),\n",
    "                           Optim.Options(store_trace=false));\n",
    "    \n",
    "    @btime r̃esprecond = Optim.optimize(Optim.only_fg!(qrnegative_log_likelihood(F, S̃, C, X)), c̃oeff0, \n",
    "                           Optim.LBFGS(; m = 20, P = Preconditioner(qrprecond)),\n",
    "                           Optim.Options(store_trace=false));\n",
    "end"
   ]
  },
  {
   "cell_type": "code",
   "execution_count": 163,
   "metadata": {},
   "outputs": [
    {
     "name": "stdout",
     "output_type": "stream",
     "text": [
      "  7.166 ms (8168 allocations: 13.90 MiB)\n",
      "  2.588 ms (3007 allocations: 5.00 MiB)\n",
      "  6.996 ms (7235 allocations: 8.68 MiB)\n",
      "  4.086 ms (4254 allocations: 5.07 MiB)\n"
     ]
    },
    {
     "data": {
      "text/plain": [
       " * Status: success\n",
       "\n",
       " * Candidate solution\n",
       "    Final objective value:     1.389487e+00\n",
       "\n",
       " * Found with\n",
       "    Algorithm:     L-BFGS\n",
       "\n",
       " * Convergence measures\n",
       "    |x - x'|               = 5.34e-05 ≰ 0.0e+00\n",
       "    |x - x'|/|x'|          = 1.77e-05 ≰ 0.0e+00\n",
       "    |f(x) - f(x')|         = 1.62e-11 ≰ 0.0e+00\n",
       "    |f(x) - f(x')|/|f(x')| = 1.16e-11 ≰ 0.0e+00\n",
       "    |g(x)|                 = 7.26e-10 ≤ 1.0e-08\n",
       "\n",
       " * Work counters\n",
       "    Seconds run:   0  (vs limit Inf)\n",
       "    Iterations:    6\n",
       "    f(x) calls:    14\n",
       "    ∇f(x) calls:   14\n"
      ]
     },
     "execution_count": 163,
     "metadata": {},
     "output_type": "execute_result"
    }
   ],
   "source": [
    "timing()"
   ]
  },
  {
   "cell_type": "code",
   "execution_count": 274,
   "metadata": {},
   "outputs": [
    {
     "data": {
      "image/svg+xml": [
       "<?xml version=\"1.0\" encoding=\"utf-8\"?>\n",
       "<svg xmlns=\"http://www.w3.org/2000/svg\" xmlns:xlink=\"http://www.w3.org/1999/xlink\" width=\"600\" height=\"400\" viewBox=\"0 0 2400 1600\">\n",
       "<defs>\n",
       "  <clipPath id=\"clip400\">\n",
       "    <rect x=\"0\" y=\"0\" width=\"2400\" height=\"1600\"/>\n",
       "  </clipPath>\n",
       "</defs>\n",
       "<path clip-path=\"url(#clip400)\" d=\"\n",
       "M0 1600 L2400 1600 L2400 0 L0 0  Z\n",
       "  \" fill=\"#ffffff\" fill-rule=\"evenodd\" fill-opacity=\"1\"/>\n",
       "<defs>\n",
       "  <clipPath id=\"clip401\">\n",
       "    <rect x=\"480\" y=\"0\" width=\"1681\" height=\"1600\"/>\n",
       "  </clipPath>\n",
       "</defs>\n",
       "<path clip-path=\"url(#clip400)\" d=\"\n",
       "M246.829 1486.45 L2352.76 1486.45 L2352.76 47.2441 L246.829 47.2441  Z\n",
       "  \" fill=\"#ffffff\" fill-rule=\"evenodd\" fill-opacity=\"1\"/>\n",
       "<defs>\n",
       "  <clipPath id=\"clip402\">\n",
       "    <rect x=\"246\" y=\"47\" width=\"2107\" height=\"1440\"/>\n",
       "  </clipPath>\n",
       "</defs>\n",
       "<polyline clip-path=\"url(#clip402)\" style=\"stroke:#000000; stroke-width:2; stroke-opacity:0.1; fill:none\" points=\"\n",
       "  306.431,1486.45 306.431,47.2441 \n",
       "  \"/>\n",
       "<polyline clip-path=\"url(#clip402)\" style=\"stroke:#000000; stroke-width:2; stroke-opacity:0.1; fill:none\" points=\"\n",
       "  783.37,1486.45 783.37,47.2441 \n",
       "  \"/>\n",
       "<polyline clip-path=\"url(#clip402)\" style=\"stroke:#000000; stroke-width:2; stroke-opacity:0.1; fill:none\" points=\"\n",
       "  1260.31,1486.45 1260.31,47.2441 \n",
       "  \"/>\n",
       "<polyline clip-path=\"url(#clip402)\" style=\"stroke:#000000; stroke-width:2; stroke-opacity:0.1; fill:none\" points=\"\n",
       "  1737.25,1486.45 1737.25,47.2441 \n",
       "  \"/>\n",
       "<polyline clip-path=\"url(#clip402)\" style=\"stroke:#000000; stroke-width:2; stroke-opacity:0.1; fill:none\" points=\"\n",
       "  2214.19,1486.45 2214.19,47.2441 \n",
       "  \"/>\n",
       "<polyline clip-path=\"url(#clip402)\" style=\"stroke:#000000; stroke-width:2; stroke-opacity:0.1; fill:none\" points=\"\n",
       "  246.829,1329.73 2352.76,1329.73 \n",
       "  \"/>\n",
       "<polyline clip-path=\"url(#clip402)\" style=\"stroke:#000000; stroke-width:2; stroke-opacity:0.1; fill:none\" points=\"\n",
       "  246.829,1018.08 2352.76,1018.08 \n",
       "  \"/>\n",
       "<polyline clip-path=\"url(#clip402)\" style=\"stroke:#000000; stroke-width:2; stroke-opacity:0.1; fill:none\" points=\"\n",
       "  246.829,706.433 2352.76,706.433 \n",
       "  \"/>\n",
       "<polyline clip-path=\"url(#clip402)\" style=\"stroke:#000000; stroke-width:2; stroke-opacity:0.1; fill:none\" points=\"\n",
       "  246.829,394.784 2352.76,394.784 \n",
       "  \"/>\n",
       "<polyline clip-path=\"url(#clip402)\" style=\"stroke:#000000; stroke-width:2; stroke-opacity:0.1; fill:none\" points=\"\n",
       "  246.829,83.1351 2352.76,83.1351 \n",
       "  \"/>\n",
       "<polyline clip-path=\"url(#clip400)\" style=\"stroke:#000000; stroke-width:4; stroke-opacity:1; fill:none\" points=\"\n",
       "  246.829,1486.45 2352.76,1486.45 \n",
       "  \"/>\n",
       "<polyline clip-path=\"url(#clip400)\" style=\"stroke:#000000; stroke-width:4; stroke-opacity:1; fill:none\" points=\"\n",
       "  246.829,1486.45 246.829,47.2441 \n",
       "  \"/>\n",
       "<polyline clip-path=\"url(#clip400)\" style=\"stroke:#000000; stroke-width:4; stroke-opacity:1; fill:none\" points=\"\n",
       "  306.431,1486.45 306.431,1469.18 \n",
       "  \"/>\n",
       "<polyline clip-path=\"url(#clip400)\" style=\"stroke:#000000; stroke-width:4; stroke-opacity:1; fill:none\" points=\"\n",
       "  783.37,1486.45 783.37,1469.18 \n",
       "  \"/>\n",
       "<polyline clip-path=\"url(#clip400)\" style=\"stroke:#000000; stroke-width:4; stroke-opacity:1; fill:none\" points=\"\n",
       "  1260.31,1486.45 1260.31,1469.18 \n",
       "  \"/>\n",
       "<polyline clip-path=\"url(#clip400)\" style=\"stroke:#000000; stroke-width:4; stroke-opacity:1; fill:none\" points=\"\n",
       "  1737.25,1486.45 1737.25,1469.18 \n",
       "  \"/>\n",
       "<polyline clip-path=\"url(#clip400)\" style=\"stroke:#000000; stroke-width:4; stroke-opacity:1; fill:none\" points=\"\n",
       "  2214.19,1486.45 2214.19,1469.18 \n",
       "  \"/>\n",
       "<polyline clip-path=\"url(#clip400)\" style=\"stroke:#000000; stroke-width:4; stroke-opacity:1; fill:none\" points=\"\n",
       "  246.829,1329.73 272.1,1329.73 \n",
       "  \"/>\n",
       "<polyline clip-path=\"url(#clip400)\" style=\"stroke:#000000; stroke-width:4; stroke-opacity:1; fill:none\" points=\"\n",
       "  246.829,1018.08 272.1,1018.08 \n",
       "  \"/>\n",
       "<polyline clip-path=\"url(#clip400)\" style=\"stroke:#000000; stroke-width:4; stroke-opacity:1; fill:none\" points=\"\n",
       "  246.829,706.433 272.1,706.433 \n",
       "  \"/>\n",
       "<polyline clip-path=\"url(#clip400)\" style=\"stroke:#000000; stroke-width:4; stroke-opacity:1; fill:none\" points=\"\n",
       "  246.829,394.784 272.1,394.784 \n",
       "  \"/>\n",
       "<polyline clip-path=\"url(#clip400)\" style=\"stroke:#000000; stroke-width:4; stroke-opacity:1; fill:none\" points=\"\n",
       "  246.829,83.1351 272.1,83.1351 \n",
       "  \"/>\n",
       "<path clip-path=\"url(#clip400)\" d=\"M 0 0 M247.609 1557.52 L255.248 1557.52 L255.248 1531.15 L246.938 1532.82 L246.938 1528.56 L255.201 1526.9 L259.877 1526.9 L259.877 1557.52 L267.516 1557.52 L267.516 1561.46 L247.609 1561.46 L247.609 1557.52 Z\" fill=\"#000000\" fill-rule=\"evenodd\" fill-opacity=\"1\" /><path clip-path=\"url(#clip400)\" d=\"M 0 0 M282.586 1529.97 Q278.974 1529.97 277.146 1533.54 Q275.34 1537.08 275.34 1544.21 Q275.34 1551.32 277.146 1554.88 Q278.974 1558.42 282.586 1558.42 Q286.22 1558.42 288.025 1554.88 Q289.854 1551.32 289.854 1544.21 Q289.854 1537.08 288.025 1533.54 Q286.22 1529.97 282.586 1529.97 M282.586 1526.27 Q288.396 1526.27 291.451 1530.88 Q294.53 1535.46 294.53 1544.21 Q294.53 1552.94 291.451 1557.54 Q288.396 1562.13 282.586 1562.13 Q276.775 1562.13 273.697 1557.54 Q270.641 1552.94 270.641 1544.21 Q270.641 1535.46 273.697 1530.88 Q276.775 1526.27 282.586 1526.27 Z\" fill=\"#000000\" fill-rule=\"evenodd\" fill-opacity=\"1\" /><path clip-path=\"url(#clip400)\" d=\"M 0 0 M304.235 1508.47 Q301.301 1508.47 299.815 1511.36 Q298.348 1514.24 298.348 1520.03 Q298.348 1525.81 299.815 1528.7 Q301.301 1531.58 304.235 1531.58 Q307.188 1531.58 308.655 1528.7 Q310.14 1525.81 310.14 1520.03 Q310.14 1514.24 308.655 1511.36 Q307.188 1508.47 304.235 1508.47 M304.235 1505.46 Q308.956 1505.46 311.438 1509.2 Q313.94 1512.92 313.94 1520.03 Q313.94 1527.12 311.438 1530.87 Q308.956 1534.59 304.235 1534.59 Q299.514 1534.59 297.013 1530.87 Q294.53 1527.12 294.53 1520.03 Q294.53 1512.92 297.013 1509.2 Q299.514 1505.46 304.235 1505.46 Z\" fill=\"#000000\" fill-rule=\"evenodd\" fill-opacity=\"1\" /><path clip-path=\"url(#clip400)\" d=\"M 0 0 M318.058 1529.27 L322.027 1529.27 L322.027 1534.04 L318.058 1534.04 L318.058 1529.27 Z\" fill=\"#000000\" fill-rule=\"evenodd\" fill-opacity=\"1\" /><path clip-path=\"url(#clip400)\" d=\"M 0 0 M334.271 1508.47 Q331.337 1508.47 329.851 1511.36 Q328.384 1514.24 328.384 1520.03 Q328.384 1525.81 329.851 1528.7 Q331.337 1531.58 334.271 1531.58 Q337.224 1531.58 338.691 1528.7 Q340.176 1525.81 340.176 1520.03 Q340.176 1514.24 338.691 1511.36 Q337.224 1508.47 334.271 1508.47 M334.271 1505.46 Q338.992 1505.46 341.474 1509.2 Q343.976 1512.92 343.976 1520.03 Q343.976 1527.12 341.474 1530.87 Q338.992 1534.59 334.271 1534.59 Q329.55 1534.59 327.049 1530.87 Q324.566 1527.12 324.566 1520.03 Q324.566 1512.92 327.049 1509.2 Q329.55 1505.46 334.271 1505.46 Z\" fill=\"#000000\" fill-rule=\"evenodd\" fill-opacity=\"1\" /><path clip-path=\"url(#clip400)\" d=\"M 0 0 M356.219 1508.47 Q353.285 1508.47 351.8 1511.36 Q350.333 1514.24 350.333 1520.03 Q350.333 1525.81 351.8 1528.7 Q353.285 1531.58 356.219 1531.58 Q359.172 1531.58 360.639 1528.7 Q362.125 1525.81 362.125 1520.03 Q362.125 1514.24 360.639 1511.36 Q359.172 1508.47 356.219 1508.47 M356.219 1505.46 Q360.94 1505.46 363.423 1509.2 Q365.924 1512.92 365.924 1520.03 Q365.924 1527.12 363.423 1530.87 Q360.94 1534.59 356.219 1534.59 Q351.499 1534.59 348.997 1530.87 Q346.515 1527.12 346.515 1520.03 Q346.515 1512.92 348.997 1509.2 Q351.499 1505.46 356.219 1505.46 Z\" fill=\"#000000\" fill-rule=\"evenodd\" fill-opacity=\"1\" /><path clip-path=\"url(#clip400)\" d=\"M 0 0 M725.601 1557.52 L733.24 1557.52 L733.24 1531.15 L724.93 1532.82 L724.93 1528.56 L733.194 1526.9 L737.87 1526.9 L737.87 1557.52 L745.508 1557.52 L745.508 1561.46 L725.601 1561.46 L725.601 1557.52 Z\" fill=\"#000000\" fill-rule=\"evenodd\" fill-opacity=\"1\" /><path clip-path=\"url(#clip400)\" d=\"M 0 0 M760.578 1529.97 Q756.967 1529.97 755.138 1533.54 Q753.333 1537.08 753.333 1544.21 Q753.333 1551.32 755.138 1554.88 Q756.967 1558.42 760.578 1558.42 Q764.212 1558.42 766.018 1554.88 Q767.846 1551.32 767.846 1544.21 Q767.846 1537.08 766.018 1533.54 Q764.212 1529.97 760.578 1529.97 M760.578 1526.27 Q766.388 1526.27 769.444 1530.88 Q772.522 1535.46 772.522 1544.21 Q772.522 1552.94 769.444 1557.54 Q766.388 1562.13 760.578 1562.13 Q754.768 1562.13 751.689 1557.54 Q748.633 1552.94 748.633 1544.21 Q748.633 1535.46 751.689 1530.88 Q754.768 1526.27 760.578 1526.27 Z\" fill=\"#000000\" fill-rule=\"evenodd\" fill-opacity=\"1\" /><path clip-path=\"url(#clip400)\" d=\"M 0 0 M782.227 1508.47 Q779.293 1508.47 777.807 1511.36 Q776.34 1514.24 776.34 1520.03 Q776.34 1525.81 777.807 1528.7 Q779.293 1531.58 782.227 1531.58 Q785.18 1531.58 786.647 1528.7 Q788.133 1525.81 788.133 1520.03 Q788.133 1514.24 786.647 1511.36 Q785.18 1508.47 782.227 1508.47 M782.227 1505.46 Q786.948 1505.46 789.43 1509.2 Q791.932 1512.92 791.932 1520.03 Q791.932 1527.12 789.43 1530.87 Q786.948 1534.59 782.227 1534.59 Q777.506 1534.59 775.005 1530.87 Q772.522 1527.12 772.522 1520.03 Q772.522 1512.92 775.005 1509.2 Q777.506 1505.46 782.227 1505.46 Z\" fill=\"#000000\" fill-rule=\"evenodd\" fill-opacity=\"1\" /><path clip-path=\"url(#clip400)\" d=\"M 0 0 M796.051 1529.27 L800.019 1529.27 L800.019 1534.04 L796.051 1534.04 L796.051 1529.27 Z\" fill=\"#000000\" fill-rule=\"evenodd\" fill-opacity=\"1\" /><path clip-path=\"url(#clip400)\" d=\"M 0 0 M807.411 1530.85 L820.67 1530.85 L820.67 1534.04 L802.84 1534.04 L802.84 1530.85 Q805.003 1528.61 808.727 1524.85 Q812.47 1521.07 813.429 1519.98 Q815.253 1517.93 815.968 1516.52 Q816.702 1515.09 816.702 1513.71 Q816.702 1511.48 815.122 1510.06 Q813.561 1508.65 811.041 1508.65 Q809.254 1508.65 807.26 1509.27 Q805.285 1509.9 803.028 1511.16 L803.028 1507.32 Q805.323 1506.4 807.317 1505.93 Q809.31 1505.46 810.965 1505.46 Q815.329 1505.46 817.924 1507.64 Q820.52 1509.82 820.52 1513.47 Q820.52 1515.2 819.861 1516.76 Q819.222 1518.3 817.51 1520.41 Q817.04 1520.95 814.52 1523.57 Q812 1526.16 807.411 1530.85 Z\" fill=\"#000000\" fill-rule=\"evenodd\" fill-opacity=\"1\" /><path clip-path=\"url(#clip400)\" d=\"M 0 0 M824.827 1505.96 L839.741 1505.96 L839.741 1509.16 L828.306 1509.16 L828.306 1516.05 Q829.134 1515.76 829.961 1515.63 Q830.789 1515.48 831.616 1515.48 Q836.318 1515.48 839.064 1518.06 Q841.81 1520.63 841.81 1525.04 Q841.81 1529.57 838.989 1532.09 Q836.168 1534.59 831.033 1534.59 Q829.265 1534.59 827.422 1534.29 Q825.598 1533.99 823.642 1533.39 L823.642 1529.57 Q825.334 1530.49 827.14 1530.94 Q828.946 1531.39 830.958 1531.39 Q834.212 1531.39 836.111 1529.68 Q838.011 1527.97 838.011 1525.04 Q838.011 1522.1 836.111 1520.39 Q834.212 1518.68 830.958 1518.68 Q829.435 1518.68 827.911 1519.02 Q826.406 1519.36 824.827 1520.07 L824.827 1505.96 Z\" fill=\"#000000\" fill-rule=\"evenodd\" fill-opacity=\"1\" /><path clip-path=\"url(#clip400)\" d=\"M 0 0 M1201.89 1557.52 L1209.53 1557.52 L1209.53 1531.15 L1201.22 1532.82 L1201.22 1528.56 L1209.48 1526.9 L1214.16 1526.9 L1214.16 1557.52 L1221.8 1557.52 L1221.8 1561.46 L1201.89 1561.46 L1201.89 1557.52 Z\" fill=\"#000000\" fill-rule=\"evenodd\" fill-opacity=\"1\" /><path clip-path=\"url(#clip400)\" d=\"M 0 0 M1236.87 1529.97 Q1233.26 1529.97 1231.43 1533.54 Q1229.62 1537.08 1229.62 1544.21 Q1229.62 1551.32 1231.43 1554.88 Q1233.26 1558.42 1236.87 1558.42 Q1240.5 1558.42 1242.31 1554.88 Q1244.14 1551.32 1244.14 1544.21 Q1244.14 1537.08 1242.31 1533.54 Q1240.5 1529.97 1236.87 1529.97 M1236.87 1526.27 Q1242.68 1526.27 1245.73 1530.88 Q1248.81 1535.46 1248.81 1544.21 Q1248.81 1552.94 1245.73 1557.54 Q1242.68 1562.13 1236.87 1562.13 Q1231.06 1562.13 1227.98 1557.54 Q1224.92 1552.94 1224.92 1544.21 Q1224.92 1535.46 1227.98 1530.88 Q1231.06 1526.27 1236.87 1526.27 Z\" fill=\"#000000\" fill-rule=\"evenodd\" fill-opacity=\"1\" /><path clip-path=\"url(#clip400)\" d=\"M 0 0 M1258.52 1508.47 Q1255.58 1508.47 1254.1 1511.36 Q1252.63 1514.24 1252.63 1520.03 Q1252.63 1525.81 1254.1 1528.7 Q1255.58 1531.58 1258.52 1531.58 Q1261.47 1531.58 1262.94 1528.7 Q1264.42 1525.81 1264.42 1520.03 Q1264.42 1514.24 1262.94 1511.36 Q1261.47 1508.47 1258.52 1508.47 M1258.52 1505.46 Q1263.24 1505.46 1265.72 1509.2 Q1268.22 1512.92 1268.22 1520.03 Q1268.22 1527.12 1265.72 1530.87 Q1263.24 1534.59 1258.52 1534.59 Q1253.8 1534.59 1251.3 1530.87 Q1248.81 1527.12 1248.81 1520.03 Q1248.81 1512.92 1251.3 1509.2 Q1253.8 1505.46 1258.52 1505.46 Z\" fill=\"#000000\" fill-rule=\"evenodd\" fill-opacity=\"1\" /><path clip-path=\"url(#clip400)\" d=\"M 0 0 M1272.34 1529.27 L1276.31 1529.27 L1276.31 1534.04 L1272.34 1534.04 L1272.34 1529.27 Z\" fill=\"#000000\" fill-rule=\"evenodd\" fill-opacity=\"1\" /><path clip-path=\"url(#clip400)\" d=\"M 0 0 M1280.47 1505.96 L1295.38 1505.96 L1295.38 1509.16 L1283.95 1509.16 L1283.95 1516.05 Q1284.77 1515.76 1285.6 1515.63 Q1286.43 1515.48 1287.26 1515.48 Q1291.96 1515.48 1294.7 1518.06 Q1297.45 1520.63 1297.45 1525.04 Q1297.45 1529.57 1294.63 1532.09 Q1291.81 1534.59 1286.67 1534.59 Q1284.9 1534.59 1283.06 1534.29 Q1281.24 1533.99 1279.28 1533.39 L1279.28 1529.57 Q1280.97 1530.49 1282.78 1530.94 Q1284.58 1531.39 1286.6 1531.39 Q1289.85 1531.39 1291.75 1529.68 Q1293.65 1527.97 1293.65 1525.04 Q1293.65 1522.1 1291.75 1520.39 Q1289.85 1518.68 1286.6 1518.68 Q1285.07 1518.68 1283.55 1519.02 Q1282.05 1519.36 1280.47 1520.07 L1280.47 1505.96 Z\" fill=\"#000000\" fill-rule=\"evenodd\" fill-opacity=\"1\" /><path clip-path=\"url(#clip400)\" d=\"M 0 0 M1309.69 1508.47 Q1306.76 1508.47 1305.27 1511.36 Q1303.81 1514.24 1303.81 1520.03 Q1303.81 1525.81 1305.27 1528.7 Q1306.76 1531.58 1309.69 1531.58 Q1312.65 1531.58 1314.11 1528.7 Q1315.6 1525.81 1315.6 1520.03 Q1315.6 1514.24 1314.11 1511.36 Q1312.65 1508.47 1309.69 1508.47 M1309.69 1505.46 Q1314.41 1505.46 1316.9 1509.2 Q1319.4 1512.92 1319.4 1520.03 Q1319.4 1527.12 1316.9 1530.87 Q1314.41 1534.59 1309.69 1534.59 Q1304.97 1534.59 1302.47 1530.87 Q1299.99 1527.12 1299.99 1520.03 Q1299.99 1512.92 1302.47 1509.2 Q1304.97 1505.46 1309.69 1505.46 Z\" fill=\"#000000\" fill-rule=\"evenodd\" fill-opacity=\"1\" /><path clip-path=\"url(#clip400)\" d=\"M 0 0 M1679.2 1557.52 L1686.84 1557.52 L1686.84 1531.15 L1678.53 1532.82 L1678.53 1528.56 L1686.79 1526.9 L1691.47 1526.9 L1691.47 1557.52 L1699.1 1557.52 L1699.1 1561.46 L1679.2 1561.46 L1679.2 1557.52 Z\" fill=\"#000000\" fill-rule=\"evenodd\" fill-opacity=\"1\" /><path clip-path=\"url(#clip400)\" d=\"M 0 0 M1714.17 1529.97 Q1710.56 1529.97 1708.73 1533.54 Q1706.93 1537.08 1706.93 1544.21 Q1706.93 1551.32 1708.73 1554.88 Q1710.56 1558.42 1714.17 1558.42 Q1717.81 1558.42 1719.61 1554.88 Q1721.44 1551.32 1721.44 1544.21 Q1721.44 1537.08 1719.61 1533.54 Q1717.81 1529.97 1714.17 1529.97 M1714.17 1526.27 Q1719.98 1526.27 1723.04 1530.88 Q1726.12 1535.46 1726.12 1544.21 Q1726.12 1552.94 1723.04 1557.54 Q1719.98 1562.13 1714.17 1562.13 Q1708.36 1562.13 1705.28 1557.54 Q1702.23 1552.94 1702.23 1544.21 Q1702.23 1535.46 1705.28 1530.88 Q1708.36 1526.27 1714.17 1526.27 Z\" fill=\"#000000\" fill-rule=\"evenodd\" fill-opacity=\"1\" /><path clip-path=\"url(#clip400)\" d=\"M 0 0 M1735.82 1508.47 Q1732.89 1508.47 1731.4 1511.36 Q1729.94 1514.24 1729.94 1520.03 Q1729.94 1525.81 1731.4 1528.7 Q1732.89 1531.58 1735.82 1531.58 Q1738.78 1531.58 1740.24 1528.7 Q1741.73 1525.81 1741.73 1520.03 Q1741.73 1514.24 1740.24 1511.36 Q1738.78 1508.47 1735.82 1508.47 M1735.82 1505.46 Q1740.54 1505.46 1743.03 1509.2 Q1745.53 1512.92 1745.53 1520.03 Q1745.53 1527.12 1743.03 1530.87 Q1740.54 1534.59 1735.82 1534.59 Q1731.1 1534.59 1728.6 1530.87 Q1726.12 1527.12 1726.12 1520.03 Q1726.12 1512.92 1728.6 1509.2 Q1731.1 1505.46 1735.82 1505.46 Z\" fill=\"#000000\" fill-rule=\"evenodd\" fill-opacity=\"1\" /><path clip-path=\"url(#clip400)\" d=\"M 0 0 M1749.65 1529.27 L1753.62 1529.27 L1753.62 1534.04 L1749.65 1534.04 L1749.65 1529.27 Z\" fill=\"#000000\" fill-rule=\"evenodd\" fill-opacity=\"1\" /><path clip-path=\"url(#clip400)\" d=\"M 0 0 M1756.77 1505.96 L1774.83 1505.96 L1774.83 1507.58 L1764.64 1534.04 L1760.67 1534.04 L1770.26 1509.16 L1756.77 1509.16 L1756.77 1505.96 Z\" fill=\"#000000\" fill-rule=\"evenodd\" fill-opacity=\"1\" /><path clip-path=\"url(#clip400)\" d=\"M 0 0 M1778.99 1505.96 L1793.9 1505.96 L1793.9 1509.16 L1782.47 1509.16 L1782.47 1516.05 Q1783.29 1515.76 1784.12 1515.63 Q1784.95 1515.48 1785.78 1515.48 Q1790.48 1515.48 1793.22 1518.06 Q1795.97 1520.63 1795.97 1525.04 Q1795.97 1529.57 1793.15 1532.09 Q1790.33 1534.59 1785.19 1534.59 Q1783.43 1534.59 1781.58 1534.29 Q1779.76 1533.99 1777.8 1533.39 L1777.8 1529.57 Q1779.49 1530.49 1781.3 1530.94 Q1783.11 1531.39 1785.12 1531.39 Q1788.37 1531.39 1790.27 1529.68 Q1792.17 1527.97 1792.17 1525.04 Q1792.17 1522.1 1790.27 1520.39 Q1788.37 1518.68 1785.12 1518.68 Q1783.59 1518.68 1782.07 1519.02 Q1780.57 1519.36 1778.99 1520.07 L1778.99 1505.96 Z\" fill=\"#000000\" fill-rule=\"evenodd\" fill-opacity=\"1\" /><path clip-path=\"url(#clip400)\" d=\"M 0 0 M2156.71 1557.52 L2164.35 1557.52 L2164.35 1531.15 L2156.04 1532.82 L2156.04 1528.56 L2164.3 1526.9 L2168.98 1526.9 L2168.98 1557.52 L2176.62 1557.52 L2176.62 1561.46 L2156.71 1561.46 L2156.71 1557.52 Z\" fill=\"#000000\" fill-rule=\"evenodd\" fill-opacity=\"1\" /><path clip-path=\"url(#clip400)\" d=\"M 0 0 M2191.69 1529.97 Q2188.08 1529.97 2186.25 1533.54 Q2184.44 1537.08 2184.44 1544.21 Q2184.44 1551.32 2186.25 1554.88 Q2188.08 1558.42 2191.69 1558.42 Q2195.32 1558.42 2197.13 1554.88 Q2198.95 1551.32 2198.95 1544.21 Q2198.95 1537.08 2197.13 1533.54 Q2195.32 1529.97 2191.69 1529.97 M2191.69 1526.27 Q2197.5 1526.27 2200.55 1530.88 Q2203.63 1535.46 2203.63 1544.21 Q2203.63 1552.94 2200.55 1557.54 Q2197.5 1562.13 2191.69 1562.13 Q2185.88 1562.13 2182.8 1557.54 Q2179.74 1552.94 2179.74 1544.21 Q2179.74 1535.46 2182.8 1530.88 Q2185.88 1526.27 2191.69 1526.27 Z\" fill=\"#000000\" fill-rule=\"evenodd\" fill-opacity=\"1\" /><path clip-path=\"url(#clip400)\" d=\"M 0 0 M2204.18 1530.85 L2210.38 1530.85 L2210.38 1509.43 L2203.63 1510.78 L2203.63 1507.32 L2210.35 1505.96 L2214.14 1505.96 L2214.14 1530.85 L2220.35 1530.85 L2220.35 1534.04 L2204.18 1534.04 L2204.18 1530.85 Z\" fill=\"#000000\" fill-rule=\"evenodd\" fill-opacity=\"1\" /><path clip-path=\"url(#clip400)\" d=\"M 0 0 M2224.47 1529.27 L2228.44 1529.27 L2228.44 1534.04 L2224.47 1534.04 L2224.47 1529.27 Z\" fill=\"#000000\" fill-rule=\"evenodd\" fill-opacity=\"1\" /><path clip-path=\"url(#clip400)\" d=\"M 0 0 M2240.68 1508.47 Q2237.75 1508.47 2236.26 1511.36 Q2234.8 1514.24 2234.8 1520.03 Q2234.8 1525.81 2236.26 1528.7 Q2237.75 1531.58 2240.68 1531.58 Q2243.63 1531.58 2245.1 1528.7 Q2246.59 1525.81 2246.59 1520.03 Q2246.59 1514.24 2245.1 1511.36 Q2243.63 1508.47 2240.68 1508.47 M2240.68 1505.46 Q2245.4 1505.46 2247.89 1509.2 Q2250.39 1512.92 2250.39 1520.03 Q2250.39 1527.12 2247.89 1530.87 Q2245.4 1534.59 2240.68 1534.59 Q2235.96 1534.59 2233.46 1530.87 Q2230.98 1527.12 2230.98 1520.03 Q2230.98 1512.92 2233.46 1509.2 Q2235.96 1505.46 2240.68 1505.46 Z\" fill=\"#000000\" fill-rule=\"evenodd\" fill-opacity=\"1\" /><path clip-path=\"url(#clip400)\" d=\"M 0 0 M2262.63 1508.47 Q2259.7 1508.47 2258.21 1511.36 Q2256.74 1514.24 2256.74 1520.03 Q2256.74 1525.81 2258.21 1528.7 Q2259.7 1531.58 2262.63 1531.58 Q2265.58 1531.58 2267.05 1528.7 Q2268.54 1525.81 2268.54 1520.03 Q2268.54 1514.24 2267.05 1511.36 Q2265.58 1508.47 2262.63 1508.47 M2262.63 1505.46 Q2267.35 1505.46 2269.83 1509.2 Q2272.34 1512.92 2272.34 1520.03 Q2272.34 1527.12 2269.83 1530.87 Q2267.35 1534.59 2262.63 1534.59 Q2257.91 1534.59 2255.41 1530.87 Q2252.93 1527.12 2252.93 1520.03 Q2252.93 1512.92 2255.41 1509.2 Q2257.91 1505.46 2262.63 1505.46 Z\" fill=\"#000000\" fill-rule=\"evenodd\" fill-opacity=\"1\" /><path clip-path=\"url(#clip400)\" d=\"M 0 0 M103.348 1349.52 L110.987 1349.52 L110.987 1323.16 L102.677 1324.82 L102.677 1320.57 L110.94 1318.9 L115.616 1318.9 L115.616 1349.52 L123.255 1349.52 L123.255 1353.46 L103.348 1353.46 L103.348 1349.52 Z\" fill=\"#000000\" fill-rule=\"evenodd\" fill-opacity=\"1\" /><path clip-path=\"url(#clip400)\" d=\"M 0 0 M138.324 1321.98 Q134.713 1321.98 132.885 1325.54 Q131.079 1329.08 131.079 1336.21 Q131.079 1343.32 132.885 1346.88 Q134.713 1350.43 138.324 1350.43 Q141.959 1350.43 143.764 1346.88 Q145.593 1343.32 145.593 1336.21 Q145.593 1329.08 143.764 1325.54 Q141.959 1321.98 138.324 1321.98 M138.324 1318.27 Q144.135 1318.27 147.19 1322.88 Q150.269 1327.46 150.269 1336.21 Q150.269 1344.94 147.19 1349.55 Q144.135 1354.13 138.324 1354.13 Q132.514 1354.13 129.436 1349.55 Q126.38 1344.94 126.38 1336.21 Q126.38 1327.46 129.436 1322.88 Q132.514 1318.27 138.324 1318.27 Z\" fill=\"#000000\" fill-rule=\"evenodd\" fill-opacity=\"1\" /><path clip-path=\"url(#clip400)\" d=\"M 0 0 M150.269 1313.96 L160.406 1313.96 L160.406 1317.04 L150.269 1317.04 L150.269 1313.96 Z\" fill=\"#000000\" fill-rule=\"evenodd\" fill-opacity=\"1\" /><path clip-path=\"url(#clip400)\" d=\"M 0 0 M184.085 1300.47 Q181.151 1300.47 179.665 1303.37 Q178.198 1306.24 178.198 1312.04 Q178.198 1317.81 179.665 1320.71 Q181.151 1323.58 184.085 1323.58 Q187.038 1323.58 188.505 1320.71 Q189.991 1317.81 189.991 1312.04 Q189.991 1306.24 188.505 1303.37 Q187.038 1300.47 184.085 1300.47 M184.085 1297.46 Q188.806 1297.46 191.289 1301.2 Q193.79 1304.93 193.79 1312.04 Q193.79 1319.13 191.289 1322.87 Q188.806 1326.59 184.085 1326.59 Q179.364 1326.59 176.863 1322.87 Q174.38 1319.13 174.38 1312.04 Q174.38 1304.93 176.863 1301.2 Q179.364 1297.46 184.085 1297.46 Z\" fill=\"#000000\" fill-rule=\"evenodd\" fill-opacity=\"1\" /><path clip-path=\"url(#clip400)\" d=\"M 0 0 M197.909 1321.27 L201.877 1321.27 L201.877 1326.05 L197.909 1326.05 L197.909 1321.27 Z\" fill=\"#000000\" fill-rule=\"evenodd\" fill-opacity=\"1\" /><path clip-path=\"url(#clip400)\" d=\"M 0 0 M206.655 1322.85 L212.861 1322.85 L212.861 1301.43 L206.109 1302.78 L206.109 1299.32 L212.823 1297.97 L216.623 1297.97 L216.623 1322.85 L222.829 1322.85 L222.829 1326.05 L206.655 1326.05 L206.655 1322.85 Z\" fill=\"#000000\" fill-rule=\"evenodd\" fill-opacity=\"1\" /><path clip-path=\"url(#clip400)\" d=\"M 0 0 M126.463 1037.87 L134.101 1037.87 L134.101 1011.51 L125.791 1013.18 L125.791 1008.92 L134.055 1007.25 L138.731 1007.25 L138.731 1037.87 L146.37 1037.87 L146.37 1041.81 L126.463 1041.81 L126.463 1037.87 Z\" fill=\"#000000\" fill-rule=\"evenodd\" fill-opacity=\"1\" /><path clip-path=\"url(#clip400)\" d=\"M 0 0 M161.439 1010.33 Q157.828 1010.33 155.999 1013.89 Q154.194 1017.44 154.194 1024.56 Q154.194 1031.67 155.999 1035.24 Q157.828 1038.78 161.439 1038.78 Q165.073 1038.78 166.879 1035.24 Q168.708 1031.67 168.708 1024.56 Q168.708 1017.44 166.879 1013.89 Q165.073 1010.33 161.439 1010.33 M161.439 1006.62 Q167.249 1006.62 170.305 1011.23 Q173.384 1015.81 173.384 1024.56 Q173.384 1033.29 170.305 1037.9 Q167.249 1042.48 161.439 1042.48 Q155.629 1042.48 152.55 1037.9 Q149.495 1033.29 149.495 1024.56 Q149.495 1015.81 152.55 1011.23 Q155.629 1006.62 161.439 1006.62 Z\" fill=\"#000000\" fill-rule=\"evenodd\" fill-opacity=\"1\" /><path clip-path=\"url(#clip400)\" d=\"M 0 0 M183.088 988.821 Q180.154 988.821 178.669 991.717 Q177.202 994.595 177.202 1000.39 Q177.202 1006.16 178.669 1009.06 Q180.154 1011.94 183.088 1011.94 Q186.041 1011.94 187.508 1009.06 Q188.994 1006.16 188.994 1000.39 Q188.994 994.595 187.508 991.717 Q186.041 988.821 183.088 988.821 M183.088 985.812 Q187.809 985.812 190.292 989.554 Q192.793 993.278 192.793 1000.39 Q192.793 1007.48 190.292 1011.22 Q187.809 1014.94 183.088 1014.94 Q178.368 1014.94 175.866 1011.22 Q173.384 1007.48 173.384 1000.39 Q173.384 993.278 175.866 989.554 Q178.368 985.812 183.088 985.812 Z\" fill=\"#000000\" fill-rule=\"evenodd\" fill-opacity=\"1\" /><path clip-path=\"url(#clip400)\" d=\"M 0 0 M196.912 1009.62 L200.881 1009.62 L200.881 1014.4 L196.912 1014.4 L196.912 1009.62 Z\" fill=\"#000000\" fill-rule=\"evenodd\" fill-opacity=\"1\" /><path clip-path=\"url(#clip400)\" d=\"M 0 0 M213.124 988.821 Q210.19 988.821 208.705 991.717 Q207.238 994.595 207.238 1000.39 Q207.238 1006.16 208.705 1009.06 Q210.19 1011.94 213.124 1011.94 Q216.077 1011.94 217.544 1009.06 Q219.03 1006.16 219.03 1000.39 Q219.03 994.595 217.544 991.717 Q216.077 988.821 213.124 988.821 M213.124 985.812 Q217.845 985.812 220.328 989.554 Q222.829 993.278 222.829 1000.39 Q222.829 1007.48 220.328 1011.22 Q217.845 1014.94 213.124 1014.94 Q208.404 1014.94 205.902 1011.22 Q203.42 1007.48 203.42 1000.39 Q203.42 993.278 205.902 989.554 Q208.404 985.812 213.124 985.812 Z\" fill=\"#000000\" fill-rule=\"evenodd\" fill-opacity=\"1\" /><path clip-path=\"url(#clip400)\" d=\"M 0 0 M127.459 726.226 L135.098 726.226 L135.098 699.86 L126.788 701.527 L126.788 697.268 L135.052 695.601 L139.728 695.601 L139.728 726.226 L147.367 726.226 L147.367 730.161 L127.459 730.161 L127.459 726.226 Z\" fill=\"#000000\" fill-rule=\"evenodd\" fill-opacity=\"1\" /><path clip-path=\"url(#clip400)\" d=\"M 0 0 M162.436 698.68 Q158.825 698.68 156.996 702.244 Q155.191 705.786 155.191 712.916 Q155.191 720.022 156.996 723.587 Q158.825 727.128 162.436 727.128 Q166.07 727.128 167.876 723.587 Q169.705 720.022 169.705 712.916 Q169.705 705.786 167.876 702.244 Q166.07 698.68 162.436 698.68 M162.436 694.976 Q168.246 694.976 171.302 699.582 Q174.38 704.166 174.38 712.916 Q174.38 721.642 171.302 726.249 Q168.246 730.832 162.436 730.832 Q156.626 730.832 153.547 726.249 Q150.492 721.642 150.492 712.916 Q150.492 704.166 153.547 699.582 Q156.626 694.976 162.436 694.976 Z\" fill=\"#000000\" fill-rule=\"evenodd\" fill-opacity=\"1\" /><path clip-path=\"url(#clip400)\" d=\"M 0 0 M184.085 677.172 Q181.151 677.172 179.665 680.068 Q178.198 682.946 178.198 688.739 Q178.198 694.513 179.665 697.409 Q181.151 700.287 184.085 700.287 Q187.038 700.287 188.505 697.409 Q189.991 694.513 189.991 688.739 Q189.991 682.946 188.505 680.068 Q187.038 677.172 184.085 677.172 M184.085 674.163 Q188.806 674.163 191.289 677.905 Q193.79 681.629 193.79 688.739 Q193.79 695.829 191.289 699.572 Q188.806 703.296 184.085 703.296 Q179.364 703.296 176.863 699.572 Q174.38 695.829 174.38 688.739 Q174.38 681.629 176.863 677.905 Q179.364 674.163 184.085 674.163 Z\" fill=\"#000000\" fill-rule=\"evenodd\" fill-opacity=\"1\" /><path clip-path=\"url(#clip400)\" d=\"M 0 0 M197.909 697.973 L201.877 697.973 L201.877 702.75 L197.909 702.75 L197.909 697.973 Z\" fill=\"#000000\" fill-rule=\"evenodd\" fill-opacity=\"1\" /><path clip-path=\"url(#clip400)\" d=\"M 0 0 M206.655 699.553 L212.861 699.553 L212.861 678.131 L206.109 679.485 L206.109 676.025 L212.823 674.67 L216.623 674.67 L216.623 699.553 L222.829 699.553 L222.829 702.75 L206.655 702.75 L206.655 699.553 Z\" fill=\"#000000\" fill-rule=\"evenodd\" fill-opacity=\"1\" /><path clip-path=\"url(#clip400)\" d=\"M 0 0 M127.76 414.577 L135.399 414.577 L135.399 388.211 L127.089 389.878 L127.089 385.618 L135.353 383.952 L140.029 383.952 L140.029 414.577 L147.668 414.577 L147.668 418.512 L127.76 418.512 L127.76 414.577 Z\" fill=\"#000000\" fill-rule=\"evenodd\" fill-opacity=\"1\" /><path clip-path=\"url(#clip400)\" d=\"M 0 0 M162.737 387.03 Q159.126 387.03 157.297 390.595 Q155.492 394.137 155.492 401.267 Q155.492 408.373 157.297 411.938 Q159.126 415.479 162.737 415.479 Q166.371 415.479 168.177 411.938 Q170.005 408.373 170.005 401.267 Q170.005 394.137 168.177 390.595 Q166.371 387.03 162.737 387.03 M162.737 383.327 Q168.547 383.327 171.603 387.933 Q174.681 392.517 174.681 401.267 Q174.681 409.993 171.603 414.6 Q168.547 419.183 162.737 419.183 Q156.927 419.183 153.848 414.6 Q150.793 409.993 150.793 401.267 Q150.793 392.517 153.848 387.933 Q156.927 383.327 162.737 383.327 Z\" fill=\"#000000\" fill-rule=\"evenodd\" fill-opacity=\"1\" /><path clip-path=\"url(#clip400)\" d=\"M 0 0 M184.386 365.523 Q181.452 365.523 179.966 368.419 Q178.499 371.297 178.499 377.09 Q178.499 382.864 179.966 385.76 Q181.452 388.638 184.386 388.638 Q187.339 388.638 188.806 385.76 Q190.292 382.864 190.292 377.09 Q190.292 371.297 188.806 368.419 Q187.339 365.523 184.386 365.523 M184.386 362.514 Q189.107 362.514 191.59 366.256 Q194.091 369.98 194.091 377.09 Q194.091 384.18 191.59 387.923 Q189.107 391.647 184.386 391.647 Q179.665 391.647 177.164 387.923 Q174.681 384.18 174.681 377.09 Q174.681 369.98 177.164 366.256 Q179.665 362.514 184.386 362.514 Z\" fill=\"#000000\" fill-rule=\"evenodd\" fill-opacity=\"1\" /><path clip-path=\"url(#clip400)\" d=\"M 0 0 M198.21 386.324 L202.178 386.324 L202.178 391.101 L198.21 391.101 L198.21 386.324 Z\" fill=\"#000000\" fill-rule=\"evenodd\" fill-opacity=\"1\" /><path clip-path=\"url(#clip400)\" d=\"M 0 0 M209.57 387.904 L222.829 387.904 L222.829 391.101 L204.999 391.101 L204.999 387.904 Q207.162 385.666 210.886 381.904 Q214.629 378.124 215.588 377.033 Q217.413 374.983 218.127 373.573 Q218.861 372.143 218.861 370.77 Q218.861 368.532 217.281 367.121 Q215.72 365.711 213.2 365.711 Q211.413 365.711 209.419 366.332 Q207.444 366.952 205.188 368.212 L205.188 364.376 Q207.482 363.454 209.476 362.984 Q211.469 362.514 213.124 362.514 Q217.488 362.514 220.083 364.695 Q222.679 366.877 222.679 370.526 Q222.679 372.256 222.02 373.817 Q221.381 375.359 219.67 377.466 Q219.199 378.011 216.679 380.625 Q214.159 383.221 209.57 387.904 Z\" fill=\"#000000\" fill-rule=\"evenodd\" fill-opacity=\"1\" /><path clip-path=\"url(#clip400)\" d=\"M 0 0 M126.989 102.928 L134.628 102.928 L134.628 76.5619 L126.318 78.2286 L126.318 73.9694 L134.582 72.3027 L139.258 72.3027 L139.258 102.928 L146.896 102.928 L146.896 106.863 L126.989 106.863 L126.989 102.928 Z\" fill=\"#000000\" fill-rule=\"evenodd\" fill-opacity=\"1\" /><path clip-path=\"url(#clip400)\" d=\"M 0 0 M161.966 75.3814 Q158.355 75.3814 156.526 78.9462 Q154.721 82.4878 154.721 89.6174 Q154.721 96.7239 156.526 100.289 Q158.355 103.83 161.966 103.83 Q165.6 103.83 167.406 100.289 Q169.234 96.7239 169.234 89.6174 Q169.234 82.4878 167.406 78.9462 Q165.6 75.3814 161.966 75.3814 M161.966 71.6777 Q167.776 71.6777 170.832 76.2842 Q173.91 80.8675 173.91 89.6174 Q173.91 98.3442 170.832 102.951 Q167.776 107.534 161.966 107.534 Q156.156 107.534 153.077 102.951 Q150.021 98.3442 150.021 89.6174 Q150.021 80.8675 153.077 76.2842 Q156.156 71.6777 161.966 71.6777 Z\" fill=\"#000000\" fill-rule=\"evenodd\" fill-opacity=\"1\" /><path clip-path=\"url(#clip400)\" d=\"M 0 0 M183.615 53.8737 Q180.681 53.8737 179.195 56.7701 Q177.728 59.6477 177.728 65.4405 Q177.728 71.2145 179.195 74.1109 Q180.681 76.9885 183.615 76.9885 Q186.568 76.9885 188.035 74.1109 Q189.521 71.2145 189.521 65.4405 Q189.521 59.6477 188.035 56.7701 Q186.568 53.8737 183.615 53.8737 M183.615 50.8645 Q188.336 50.8645 190.818 54.6072 Q193.32 58.3312 193.32 65.4405 Q193.32 72.5311 190.818 76.2738 Q188.336 79.9977 183.615 79.9977 Q178.894 79.9977 176.393 76.2738 Q173.91 72.5311 173.91 65.4405 Q173.91 58.3312 176.393 54.6072 Q178.894 50.8645 183.615 50.8645 Z\" fill=\"#000000\" fill-rule=\"evenodd\" fill-opacity=\"1\" /><path clip-path=\"url(#clip400)\" d=\"M 0 0 M197.439 74.6751 L201.407 74.6751 L201.407 79.4523 L197.439 79.4523 L197.439 74.6751 Z\" fill=\"#000000\" fill-rule=\"evenodd\" fill-opacity=\"1\" /><path clip-path=\"url(#clip400)\" d=\"M 0 0 M217.036 64.3121 Q219.764 64.8951 221.287 66.7383 Q222.829 68.5814 222.829 71.2897 Q222.829 75.4463 219.97 77.722 Q217.112 79.9977 211.845 79.9977 Q210.078 79.9977 208.197 79.6404 Q206.335 79.3018 204.341 78.606 L204.341 74.9384 Q205.921 75.86 207.802 76.3302 Q209.683 76.8004 211.733 76.8004 Q215.306 76.8004 217.168 75.3898 Q219.049 73.9792 219.049 71.2897 Q219.049 68.8071 217.3 67.4153 Q215.569 66.0048 212.466 66.0048 L209.194 66.0048 L209.194 62.8827 L212.617 62.8827 Q215.419 62.8827 216.905 61.773 Q218.391 60.6445 218.391 58.5381 Q218.391 56.3752 216.848 55.2279 Q215.325 54.0618 212.466 54.0618 Q210.905 54.0618 209.118 54.4004 Q207.332 54.7389 205.188 55.4536 L205.188 52.0682 Q207.35 51.4663 209.231 51.1654 Q211.131 50.8645 212.805 50.8645 Q217.13 50.8645 219.651 52.8393 Q222.171 54.7953 222.171 58.1431 Q222.171 60.4753 220.836 62.0927 Q219.5 63.6914 217.036 64.3121 Z\" fill=\"#000000\" fill-rule=\"evenodd\" fill-opacity=\"1\" /><polyline clip-path=\"url(#clip402)\" style=\"stroke:#009af9; stroke-width:12; stroke-opacity:1; fill:none\" points=\"\n",
       "  306.431,87.9763 880.723,453.429 1216.66,583.316 1455.01,589.838 1639.9,590.085 1790.95,590.096 1918.67,590.109 2029.31,590.11 2126.89,590.351 2214.19,590.354 \n",
       "  2293.15,590.354 \n",
       "  \"/>\n",
       "<polyline clip-path=\"url(#clip402)\" style=\"stroke:#e26f46; stroke-width:12; stroke-opacity:1; fill:none\" points=\"\n",
       "  306.431,87.9763 880.723,577.287 1216.66,590.314 1455.01,590.351 1639.9,590.354 1790.95,590.354 1918.67,590.354 \n",
       "  \"/>\n",
       "<polyline clip-path=\"url(#clip402)\" style=\"stroke:#3da44d; stroke-width:12; stroke-opacity:1; fill:none\" points=\"\n",
       "  306.431,521.795 880.723,1332.79 1216.66,1445.72 1455.01,1445.71 \n",
       "  \"/>\n",
       "<polyline clip-path=\"url(#clip402)\" style=\"stroke:#c271d2; stroke-width:12; stroke-opacity:1; fill:none\" stroke-dasharray=\"48, 30\" points=\"\n",
       "  306.431,87.9763 880.723,577.287 1216.66,590.314 1455.01,590.351 1639.9,590.354 1790.95,590.354 1918.67,590.354 \n",
       "  \"/>\n",
       "<path clip-path=\"url(#clip400)\" d=\"\n",
       "M1284.82 397.618 L2282.56 397.618 L2282.56 95.2176 L1284.82 95.2176  Z\n",
       "  \" fill=\"#ffffff\" fill-rule=\"evenodd\" fill-opacity=\"1\"/>\n",
       "<polyline clip-path=\"url(#clip400)\" style=\"stroke:#000000; stroke-width:4; stroke-opacity:1; fill:none\" points=\"\n",
       "  1284.82,397.618 2282.56,397.618 2282.56,95.2176 1284.82,95.2176 1284.82,397.618 \n",
       "  \"/>\n",
       "<polyline clip-path=\"url(#clip400)\" style=\"stroke:#009af9; stroke-width:4; stroke-opacity:1; fill:none\" points=\"\n",
       "  1308.22,155.698 1448.61,155.698 \n",
       "  \"/>\n",
       "<path clip-path=\"url(#clip400)\" d=\"M 0 0 M1472.01 138.418 L1476.74 138.418 L1484 167.63 L1491.25 138.418 L1496.5 138.418 L1503.77 167.63 L1511.02 138.418 L1515.76 138.418 L1507.08 172.978 L1501.2 172.978 L1493.91 142.978 L1486.55 172.978 L1480.67 172.978 L1472.01 138.418 Z\" fill=\"#000000\" fill-rule=\"evenodd\" fill-opacity=\"1\" /><path clip-path=\"url(#clip400)\" d=\"M 0 0 M1519.19 147.052 L1523.45 147.052 L1523.45 172.978 L1519.19 172.978 L1519.19 147.052 M1519.19 136.959 L1523.45 136.959 L1523.45 142.353 L1519.19 142.353 L1519.19 136.959 Z\" fill=\"#000000\" fill-rule=\"evenodd\" fill-opacity=\"1\" /><path clip-path=\"url(#clip400)\" d=\"M 0 0 M1532.13 139.691 L1532.13 147.052 L1540.9 147.052 L1540.9 150.362 L1532.13 150.362 L1532.13 164.436 Q1532.13 167.607 1532.99 168.51 Q1533.87 169.413 1536.53 169.413 L1540.9 169.413 L1540.9 172.978 L1536.53 172.978 Q1531.6 172.978 1529.72 171.149 Q1527.85 169.297 1527.85 164.436 L1527.85 150.362 L1524.72 150.362 L1524.72 147.052 L1527.85 147.052 L1527.85 139.691 L1532.13 139.691 Z\" fill=\"#000000\" fill-rule=\"evenodd\" fill-opacity=\"1\" /><path clip-path=\"url(#clip400)\" d=\"M 0 0 M1566.92 157.329 L1566.92 172.978 L1562.66 172.978 L1562.66 157.468 Q1562.66 153.788 1561.23 151.959 Q1559.79 150.13 1556.92 150.13 Q1553.47 150.13 1551.48 152.33 Q1549.49 154.529 1549.49 158.325 L1549.49 172.978 L1545.21 172.978 L1545.21 136.959 L1549.49 136.959 L1549.49 151.08 Q1551.02 148.742 1553.08 147.584 Q1555.16 146.427 1557.87 146.427 Q1562.34 146.427 1564.63 149.205 Q1566.92 151.959 1566.92 157.329 Z\" fill=\"#000000\" fill-rule=\"evenodd\" fill-opacity=\"1\" /><path clip-path=\"url(#clip400)\" d=\"M 0 0 M1581.43 150.038 Q1578.01 150.038 1576.02 152.723 Q1574.03 155.385 1574.03 160.038 Q1574.03 164.691 1575.99 167.376 Q1577.99 170.038 1581.43 170.038 Q1584.84 170.038 1586.83 167.353 Q1588.82 164.667 1588.82 160.038 Q1588.82 155.431 1586.83 152.746 Q1584.84 150.038 1581.43 150.038 M1581.43 146.427 Q1586.99 146.427 1590.16 150.038 Q1593.33 153.649 1593.33 160.038 Q1593.33 166.404 1590.16 170.038 Q1586.99 173.649 1581.43 173.649 Q1575.86 173.649 1572.68 170.038 Q1569.54 166.404 1569.54 160.038 Q1569.54 153.649 1572.68 150.038 Q1575.86 146.427 1581.43 146.427 Z\" fill=\"#000000\" fill-rule=\"evenodd\" fill-opacity=\"1\" /><path clip-path=\"url(#clip400)\" d=\"M 0 0 M1597.36 162.746 L1597.36 147.052 L1601.62 147.052 L1601.62 162.584 Q1601.62 166.265 1603.06 168.116 Q1604.49 169.945 1607.36 169.945 Q1610.81 169.945 1612.8 167.746 Q1614.81 165.547 1614.81 161.751 L1614.81 147.052 L1619.07 147.052 L1619.07 172.978 L1614.81 172.978 L1614.81 168.996 Q1613.26 171.357 1611.2 172.515 Q1609.17 173.649 1606.46 173.649 Q1601.99 173.649 1599.68 170.871 Q1597.36 168.093 1597.36 162.746 M1608.08 146.427 L1608.08 146.427 Z\" fill=\"#000000\" fill-rule=\"evenodd\" fill-opacity=\"1\" /><path clip-path=\"url(#clip400)\" d=\"M 0 0 M1627.75 139.691 L1627.75 147.052 L1636.53 147.052 L1636.53 150.362 L1627.75 150.362 L1627.75 164.436 Q1627.75 167.607 1628.61 168.51 Q1629.49 169.413 1632.15 169.413 L1636.53 169.413 L1636.53 172.978 L1632.15 172.978 Q1627.22 172.978 1625.35 171.149 Q1623.47 169.297 1623.47 164.436 L1623.47 150.362 L1620.35 150.362 L1620.35 147.052 L1623.47 147.052 L1623.47 139.691 L1627.75 139.691 Z\" fill=\"#000000\" fill-rule=\"evenodd\" fill-opacity=\"1\" /><path clip-path=\"url(#clip400)\" d=\"M 0 0 M1670.28 141.589 Q1665.18 141.589 1662.18 145.385 Q1659.19 149.181 1659.19 155.732 Q1659.19 162.26 1662.18 166.056 Q1665.18 169.853 1670.28 169.853 Q1675.37 169.853 1678.33 166.056 Q1681.32 162.26 1681.32 155.732 Q1681.32 149.181 1678.33 145.385 Q1675.37 141.589 1670.28 141.589 M1676.83 172.353 L1682.99 179.089 L1677.34 179.089 L1672.22 173.556 Q1671.46 173.603 1671.04 173.626 Q1670.65 173.649 1670.28 173.649 Q1662.99 173.649 1658.61 168.788 Q1654.26 163.904 1654.26 155.732 Q1654.26 147.538 1658.61 142.677 Q1662.99 137.793 1670.28 137.793 Q1677.55 137.793 1681.9 142.677 Q1686.25 147.538 1686.25 155.732 Q1686.25 161.751 1683.82 166.033 Q1681.41 170.316 1676.83 172.353 Z\" fill=\"#000000\" fill-rule=\"evenodd\" fill-opacity=\"1\" /><path clip-path=\"url(#clip400)\" d=\"M 0 0 M1707.29 156.774 Q1708.8 157.283 1710.21 158.95 Q1711.64 160.617 1713.08 163.533 L1717.82 172.978 L1712.8 172.978 L1708.38 164.112 Q1706.67 160.64 1705.05 159.505 Q1703.45 158.371 1700.67 158.371 L1695.58 158.371 L1695.58 172.978 L1690.9 172.978 L1690.9 138.418 L1701.46 138.418 Q1707.38 138.418 1710.3 140.894 Q1713.22 143.371 1713.22 148.371 Q1713.22 151.635 1711.69 153.788 Q1710.18 155.941 1707.29 156.774 M1695.58 142.26 L1695.58 154.529 L1701.46 154.529 Q1704.84 154.529 1706.55 152.978 Q1708.29 151.404 1708.29 148.371 Q1708.29 145.339 1706.55 143.811 Q1704.84 142.26 1701.46 142.26 L1695.58 142.26 Z\" fill=\"#000000\" fill-rule=\"evenodd\" fill-opacity=\"1\" /><polyline clip-path=\"url(#clip400)\" style=\"stroke:#e26f46; stroke-width:4; stroke-opacity:1; fill:none\" points=\"\n",
       "  1308.22,216.178 1448.61,216.178 \n",
       "  \"/>\n",
       "<path clip-path=\"url(#clip400)\" d=\"M 0 0 M1472.01 198.898 L1476.74 198.898 L1484 228.11 L1491.25 198.898 L1496.5 198.898 L1503.77 228.11 L1511.02 198.898 L1515.76 198.898 L1507.08 233.458 L1501.2 233.458 L1493.91 203.458 L1486.55 233.458 L1480.67 233.458 L1472.01 198.898 Z\" fill=\"#000000\" fill-rule=\"evenodd\" fill-opacity=\"1\" /><path clip-path=\"url(#clip400)\" d=\"M 0 0 M1519.19 207.532 L1523.45 207.532 L1523.45 233.458 L1519.19 233.458 L1519.19 207.532 M1519.19 197.439 L1523.45 197.439 L1523.45 202.833 L1519.19 202.833 L1519.19 197.439 Z\" fill=\"#000000\" fill-rule=\"evenodd\" fill-opacity=\"1\" /><path clip-path=\"url(#clip400)\" d=\"M 0 0 M1532.13 200.171 L1532.13 207.532 L1540.9 207.532 L1540.9 210.842 L1532.13 210.842 L1532.13 224.916 Q1532.13 228.087 1532.99 228.99 Q1533.87 229.893 1536.53 229.893 L1540.9 229.893 L1540.9 233.458 L1536.53 233.458 Q1531.6 233.458 1529.72 231.629 Q1527.85 229.777 1527.85 224.916 L1527.85 210.842 L1524.72 210.842 L1524.72 207.532 L1527.85 207.532 L1527.85 200.171 L1532.13 200.171 Z\" fill=\"#000000\" fill-rule=\"evenodd\" fill-opacity=\"1\" /><path clip-path=\"url(#clip400)\" d=\"M 0 0 M1566.92 217.809 L1566.92 233.458 L1562.66 233.458 L1562.66 217.948 Q1562.66 214.268 1561.23 212.439 Q1559.79 210.61 1556.92 210.61 Q1553.47 210.61 1551.48 212.81 Q1549.49 215.009 1549.49 218.805 L1549.49 233.458 L1545.21 233.458 L1545.21 197.439 L1549.49 197.439 L1549.49 211.56 Q1551.02 209.222 1553.08 208.064 Q1555.16 206.907 1557.87 206.907 Q1562.34 206.907 1564.63 209.685 Q1566.92 212.439 1566.92 217.809 Z\" fill=\"#000000\" fill-rule=\"evenodd\" fill-opacity=\"1\" /><path clip-path=\"url(#clip400)\" d=\"M 0 0 M1586.64 198.898 L1591.32 198.898 L1591.32 213.064 L1608.31 213.064 L1608.31 198.898 L1612.99 198.898 L1612.99 233.458 L1608.31 233.458 L1608.31 216.999 L1591.32 216.999 L1591.32 233.458 L1586.64 233.458 L1586.64 198.898 Z\" fill=\"#000000\" fill-rule=\"evenodd\" fill-opacity=\"1\" /><path clip-path=\"url(#clip400)\" d=\"M 0 0 M1639.63 219.43 L1639.63 221.513 L1620.05 221.513 Q1620.32 225.911 1622.68 228.226 Q1625.07 230.518 1629.3 230.518 Q1631.76 230.518 1634.05 229.916 Q1636.37 229.314 1638.63 228.11 L1638.63 232.138 Q1636.34 233.11 1633.93 233.62 Q1631.53 234.129 1629.05 234.129 Q1622.85 234.129 1619.21 230.518 Q1615.6 226.907 1615.6 220.749 Q1615.6 214.384 1619.03 210.657 Q1622.48 206.907 1628.31 206.907 Q1633.54 206.907 1636.57 210.286 Q1639.63 213.643 1639.63 219.43 M1635.37 218.18 Q1635.32 214.685 1633.4 212.601 Q1631.5 210.518 1628.36 210.518 Q1624.79 210.518 1622.64 212.532 Q1620.51 214.546 1620.18 218.203 L1635.37 218.18 Z\" fill=\"#000000\" fill-rule=\"evenodd\" fill-opacity=\"1\" /><path clip-path=\"url(#clip400)\" d=\"M 0 0 M1660.62 208.296 L1660.62 212.323 Q1658.82 211.397 1656.87 210.935 Q1654.93 210.472 1652.85 210.472 Q1649.68 210.472 1648.08 211.444 Q1646.5 212.416 1646.5 214.36 Q1646.5 215.842 1647.64 216.698 Q1648.77 217.532 1652.2 218.296 L1653.66 218.62 Q1658.19 219.592 1660.09 221.374 Q1662.01 223.134 1662.01 226.305 Q1662.01 229.916 1659.14 232.022 Q1656.3 234.129 1651.3 234.129 Q1649.21 234.129 1646.94 233.712 Q1644.7 233.319 1642.2 232.508 L1642.2 228.11 Q1644.56 229.337 1646.85 229.962 Q1649.14 230.564 1651.39 230.564 Q1654.4 230.564 1656.02 229.546 Q1657.64 228.504 1657.64 226.629 Q1657.64 224.893 1656.46 223.967 Q1655.3 223.041 1651.34 222.184 L1649.86 221.837 Q1645.9 221.004 1644.14 219.291 Q1642.38 217.555 1642.38 214.546 Q1642.38 210.888 1644.98 208.898 Q1647.57 206.907 1652.34 206.907 Q1654.7 206.907 1656.78 207.254 Q1658.86 207.601 1660.62 208.296 Z\" fill=\"#000000\" fill-rule=\"evenodd\" fill-opacity=\"1\" /><path clip-path=\"url(#clip400)\" d=\"M 0 0 M1683.01 208.296 L1683.01 212.323 Q1681.2 211.397 1679.26 210.935 Q1677.31 210.472 1675.23 210.472 Q1672.06 210.472 1670.46 211.444 Q1668.89 212.416 1668.89 214.36 Q1668.89 215.842 1670.02 216.698 Q1671.16 217.532 1674.58 218.296 L1676.04 218.62 Q1680.58 219.592 1682.48 221.374 Q1684.4 223.134 1684.4 226.305 Q1684.4 229.916 1681.53 232.022 Q1678.68 234.129 1673.68 234.129 Q1671.6 234.129 1669.33 233.712 Q1667.08 233.319 1664.58 232.508 L1664.58 228.11 Q1666.94 229.337 1669.24 229.962 Q1671.53 230.564 1673.77 230.564 Q1676.78 230.564 1678.4 229.546 Q1680.02 228.504 1680.02 226.629 Q1680.02 224.893 1678.84 223.967 Q1677.68 223.041 1673.73 222.184 L1672.24 221.837 Q1668.29 221.004 1666.53 219.291 Q1664.77 217.555 1664.77 214.546 Q1664.77 210.888 1667.36 208.898 Q1669.95 206.907 1674.72 206.907 Q1677.08 206.907 1679.17 207.254 Q1681.25 207.601 1683.01 208.296 Z\" fill=\"#000000\" fill-rule=\"evenodd\" fill-opacity=\"1\" /><path clip-path=\"url(#clip400)\" d=\"M 0 0 M1688.86 207.532 L1693.12 207.532 L1693.12 233.458 L1688.86 233.458 L1688.86 207.532 M1688.86 197.439 L1693.12 197.439 L1693.12 202.833 L1688.86 202.833 L1688.86 197.439 Z\" fill=\"#000000\" fill-rule=\"evenodd\" fill-opacity=\"1\" /><path clip-path=\"url(#clip400)\" d=\"M 0 0 M1709.37 220.425 Q1704.21 220.425 1702.22 221.606 Q1700.23 222.786 1700.23 225.634 Q1700.23 227.902 1701.71 229.245 Q1703.22 230.564 1705.79 230.564 Q1709.33 230.564 1711.46 228.064 Q1713.61 225.541 1713.61 221.374 L1713.61 220.425 L1709.37 220.425 M1717.87 218.666 L1717.87 233.458 L1713.61 233.458 L1713.61 229.522 Q1712.15 231.883 1709.98 233.018 Q1707.8 234.129 1704.65 234.129 Q1700.67 234.129 1698.31 231.907 Q1695.97 229.661 1695.97 225.911 Q1695.97 221.536 1698.89 219.314 Q1701.83 217.092 1707.64 217.092 L1713.61 217.092 L1713.61 216.675 Q1713.61 213.735 1711.67 212.138 Q1709.74 210.518 1706.25 210.518 Q1704.03 210.518 1701.92 211.05 Q1699.81 211.583 1697.87 212.647 L1697.87 208.712 Q1700.21 207.81 1702.41 207.37 Q1704.61 206.907 1706.69 206.907 Q1712.31 206.907 1715.09 209.823 Q1717.87 212.74 1717.87 218.666 Z\" fill=\"#000000\" fill-rule=\"evenodd\" fill-opacity=\"1\" /><path clip-path=\"url(#clip400)\" d=\"M 0 0 M1743.89 217.809 L1743.89 233.458 L1739.63 233.458 L1739.63 217.948 Q1739.63 214.268 1738.19 212.439 Q1736.76 210.61 1733.89 210.61 Q1730.44 210.61 1728.45 212.81 Q1726.46 215.009 1726.46 218.805 L1726.46 233.458 L1722.17 233.458 L1722.17 207.532 L1726.46 207.532 L1726.46 211.56 Q1727.98 209.222 1730.05 208.064 Q1732.13 206.907 1734.84 206.907 Q1739.3 206.907 1741.6 209.685 Q1743.89 212.439 1743.89 217.809 Z\" fill=\"#000000\" fill-rule=\"evenodd\" fill-opacity=\"1\" /><path clip-path=\"url(#clip400)\" d=\"M 0 0 M1775.21 220.425 Q1770.04 220.425 1768.05 221.606 Q1766.06 222.786 1766.06 225.634 Q1766.06 227.902 1767.54 229.245 Q1769.05 230.564 1771.62 230.564 Q1775.16 230.564 1777.29 228.064 Q1779.44 225.541 1779.44 221.374 L1779.44 220.425 L1775.21 220.425 M1783.7 218.666 L1783.7 233.458 L1779.44 233.458 L1779.44 229.522 Q1777.98 231.883 1775.81 233.018 Q1773.63 234.129 1770.48 234.129 Q1766.5 234.129 1764.14 231.907 Q1761.8 229.661 1761.8 225.911 Q1761.8 221.536 1764.72 219.314 Q1767.66 217.092 1773.47 217.092 L1779.44 217.092 L1779.44 216.675 Q1779.44 213.735 1777.5 212.138 Q1775.58 210.518 1772.08 210.518 Q1769.86 210.518 1767.75 211.05 Q1765.65 211.583 1763.7 212.647 L1763.7 208.712 Q1766.04 207.81 1768.24 207.37 Q1770.44 206.907 1772.52 206.907 Q1778.15 206.907 1780.92 209.823 Q1783.7 212.74 1783.7 218.666 Z\" fill=\"#000000\" fill-rule=\"evenodd\" fill-opacity=\"1\" /><path clip-path=\"url(#clip400)\" d=\"M 0 0 M1792.29 229.569 L1792.29 243.319 L1788.01 243.319 L1788.01 207.532 L1792.29 207.532 L1792.29 211.467 Q1793.63 209.152 1795.67 208.041 Q1797.73 206.907 1800.58 206.907 Q1805.3 206.907 1808.24 210.657 Q1811.2 214.407 1811.2 220.518 Q1811.2 226.629 1808.24 230.379 Q1805.3 234.129 1800.58 234.129 Q1797.73 234.129 1795.67 233.018 Q1793.63 231.883 1792.29 229.569 M1806.78 220.518 Q1806.78 215.819 1804.84 213.157 Q1802.92 210.472 1799.54 210.472 Q1796.16 210.472 1794.21 213.157 Q1792.29 215.819 1792.29 220.518 Q1792.29 225.217 1794.21 227.902 Q1796.16 230.564 1799.54 230.564 Q1802.92 230.564 1804.84 227.902 Q1806.78 225.217 1806.78 220.518 Z\" fill=\"#000000\" fill-rule=\"evenodd\" fill-opacity=\"1\" /><path clip-path=\"url(#clip400)\" d=\"M 0 0 M1819.79 229.569 L1819.79 243.319 L1815.51 243.319 L1815.51 207.532 L1819.79 207.532 L1819.79 211.467 Q1821.13 209.152 1823.17 208.041 Q1825.23 206.907 1828.08 206.907 Q1832.8 206.907 1835.74 210.657 Q1838.7 214.407 1838.7 220.518 Q1838.7 226.629 1835.74 230.379 Q1832.8 234.129 1828.08 234.129 Q1825.23 234.129 1823.17 233.018 Q1821.13 231.883 1819.79 229.569 M1834.28 220.518 Q1834.28 215.819 1832.34 213.157 Q1830.41 210.472 1827.04 210.472 Q1823.66 210.472 1821.71 213.157 Q1819.79 215.819 1819.79 220.518 Q1819.79 225.217 1821.71 227.902 Q1823.66 230.564 1827.04 230.564 Q1830.41 230.564 1832.34 227.902 Q1834.28 225.217 1834.28 220.518 Z\" fill=\"#000000\" fill-rule=\"evenodd\" fill-opacity=\"1\" /><path clip-path=\"url(#clip400)\" d=\"M 0 0 M1858.19 211.513 Q1857.47 211.097 1856.62 210.911 Q1855.79 210.703 1854.77 210.703 Q1851.16 210.703 1849.21 213.064 Q1847.29 215.402 1847.29 219.8 L1847.29 233.458 L1843.01 233.458 L1843.01 207.532 L1847.29 207.532 L1847.29 211.56 Q1848.63 209.198 1850.79 208.064 Q1852.94 206.907 1856.02 206.907 Q1856.46 206.907 1856.99 206.976 Q1857.52 207.023 1858.17 207.138 L1858.19 211.513 Z\" fill=\"#000000\" fill-rule=\"evenodd\" fill-opacity=\"1\" /><path clip-path=\"url(#clip400)\" d=\"M 0 0 M1871.66 210.518 Q1868.24 210.518 1866.25 213.203 Q1864.26 215.865 1864.26 220.518 Q1864.26 225.171 1866.22 227.856 Q1868.22 230.518 1871.66 230.518 Q1875.07 230.518 1877.06 227.833 Q1879.05 225.147 1879.05 220.518 Q1879.05 215.911 1877.06 213.226 Q1875.07 210.518 1871.66 210.518 M1871.66 206.907 Q1877.22 206.907 1880.39 210.518 Q1883.56 214.129 1883.56 220.518 Q1883.56 226.884 1880.39 230.518 Q1877.22 234.129 1871.66 234.129 Q1866.09 234.129 1862.91 230.518 Q1859.77 226.884 1859.77 220.518 Q1859.77 214.129 1862.91 210.518 Q1866.09 206.907 1871.66 206.907 Z\" fill=\"#000000\" fill-rule=\"evenodd\" fill-opacity=\"1\" /><path clip-path=\"url(#clip400)\" d=\"M 0 0 M1908.12 207.532 L1898.75 220.147 L1908.61 233.458 L1903.59 233.458 L1896.04 223.272 L1888.49 233.458 L1883.47 233.458 L1893.54 219.893 L1884.33 207.532 L1889.35 207.532 L1896.22 216.768 L1903.1 207.532 L1908.12 207.532 Z\" fill=\"#000000\" fill-rule=\"evenodd\" fill-opacity=\"1\" /><path clip-path=\"url(#clip400)\" d=\"M 0 0 M1913.08 207.532 L1917.34 207.532 L1917.34 233.458 L1913.08 233.458 L1913.08 207.532 M1913.08 197.439 L1917.34 197.439 L1917.34 202.833 L1913.08 202.833 L1913.08 197.439 Z\" fill=\"#000000\" fill-rule=\"evenodd\" fill-opacity=\"1\" /><path clip-path=\"url(#clip400)\" d=\"M 0 0 M1941.99 212.509 Q1943.59 209.638 1945.81 208.273 Q1948.03 206.907 1951.04 206.907 Q1955.09 206.907 1957.29 209.754 Q1959.49 212.578 1959.49 217.809 L1959.49 233.458 L1955.21 233.458 L1955.21 217.948 Q1955.21 214.222 1953.89 212.416 Q1952.57 210.61 1949.86 210.61 Q1946.55 210.61 1944.63 212.81 Q1942.71 215.009 1942.71 218.805 L1942.71 233.458 L1938.42 233.458 L1938.42 217.948 Q1938.42 214.198 1937.1 212.416 Q1935.78 210.61 1933.03 210.61 Q1929.77 210.61 1927.84 212.833 Q1925.92 215.032 1925.92 218.805 L1925.92 233.458 L1921.64 233.458 L1921.64 207.532 L1925.92 207.532 L1925.92 211.56 Q1927.38 209.175 1929.42 208.041 Q1931.46 206.907 1934.26 206.907 Q1937.08 206.907 1939.05 208.342 Q1941.04 209.777 1941.99 212.509 Z\" fill=\"#000000\" fill-rule=\"evenodd\" fill-opacity=\"1\" /><path clip-path=\"url(#clip400)\" d=\"M 0 0 M1975.74 220.425 Q1970.58 220.425 1968.59 221.606 Q1966.59 222.786 1966.59 225.634 Q1966.59 227.902 1968.08 229.245 Q1969.58 230.564 1972.15 230.564 Q1975.69 230.564 1977.82 228.064 Q1979.97 225.541 1979.97 221.374 L1979.97 220.425 L1975.74 220.425 M1984.23 218.666 L1984.23 233.458 L1979.97 233.458 L1979.97 229.522 Q1978.52 231.883 1976.34 233.018 Q1974.16 234.129 1971.02 234.129 Q1967.03 234.129 1964.67 231.907 Q1962.34 229.661 1962.34 225.911 Q1962.34 221.536 1965.25 219.314 Q1968.19 217.092 1974 217.092 L1979.97 217.092 L1979.97 216.675 Q1979.97 213.735 1978.03 212.138 Q1976.11 210.518 1972.61 210.518 Q1970.39 210.518 1968.28 211.05 Q1966.18 211.583 1964.23 212.647 L1964.23 208.712 Q1966.57 207.81 1968.77 207.37 Q1970.97 206.907 1973.05 206.907 Q1978.68 206.907 1981.46 209.823 Q1984.23 212.74 1984.23 218.666 Z\" fill=\"#000000\" fill-rule=\"evenodd\" fill-opacity=\"1\" /><path clip-path=\"url(#clip400)\" d=\"M 0 0 M1992.91 200.171 L1992.91 207.532 L2001.69 207.532 L2001.69 210.842 L1992.91 210.842 L1992.91 224.916 Q1992.91 228.087 1993.77 228.99 Q1994.65 229.893 1997.31 229.893 L2001.69 229.893 L2001.69 233.458 L1997.31 233.458 Q1992.38 233.458 1990.51 231.629 Q1988.63 229.777 1988.63 224.916 L1988.63 210.842 L1985.51 210.842 L1985.51 207.532 L1988.63 207.532 L1988.63 200.171 L1992.91 200.171 Z\" fill=\"#000000\" fill-rule=\"evenodd\" fill-opacity=\"1\" /><path clip-path=\"url(#clip400)\" d=\"M 0 0 M2006.15 207.532 L2010.41 207.532 L2010.41 233.458 L2006.15 233.458 L2006.15 207.532 M2006.15 197.439 L2010.41 197.439 L2010.41 202.833 L2006.15 202.833 L2006.15 197.439 Z\" fill=\"#000000\" fill-rule=\"evenodd\" fill-opacity=\"1\" /><path clip-path=\"url(#clip400)\" d=\"M 0 0 M2024.93 210.518 Q2021.5 210.518 2019.51 213.203 Q2017.52 215.865 2017.52 220.518 Q2017.52 225.171 2019.49 227.856 Q2021.48 230.518 2024.93 230.518 Q2028.33 230.518 2030.32 227.833 Q2032.31 225.147 2032.31 220.518 Q2032.31 215.911 2030.32 213.226 Q2028.33 210.518 2024.93 210.518 M2024.93 206.907 Q2030.48 206.907 2033.65 210.518 Q2036.83 214.129 2036.83 220.518 Q2036.83 226.884 2033.65 230.518 Q2030.48 234.129 2024.93 234.129 Q2019.35 234.129 2016.18 230.518 Q2013.03 226.884 2013.03 220.518 Q2013.03 214.129 2016.18 210.518 Q2019.35 206.907 2024.93 206.907 Z\" fill=\"#000000\" fill-rule=\"evenodd\" fill-opacity=\"1\" /><path clip-path=\"url(#clip400)\" d=\"M 0 0 M2062.84 217.809 L2062.84 233.458 L2058.59 233.458 L2058.59 217.948 Q2058.59 214.268 2057.15 212.439 Q2055.71 210.61 2052.84 210.61 Q2049.4 210.61 2047.4 212.81 Q2045.41 215.009 2045.41 218.805 L2045.41 233.458 L2041.13 233.458 L2041.13 207.532 L2045.41 207.532 L2045.41 211.56 Q2046.94 209.222 2049 208.064 Q2051.09 206.907 2053.79 206.907 Q2058.26 206.907 2060.55 209.685 Q2062.84 212.439 2062.84 217.809 Z\" fill=\"#000000\" fill-rule=\"evenodd\" fill-opacity=\"1\" /><polyline clip-path=\"url(#clip400)\" style=\"stroke:#3da44d; stroke-width:4; stroke-opacity:1; fill:none\" points=\"\n",
       "  1308.22,276.658 1448.61,276.658 \n",
       "  \"/>\n",
       "<path clip-path=\"url(#clip400)\" d=\"M 0 0 M1472.01 259.378 L1476.74 259.378 L1484 288.59 L1491.25 259.378 L1496.5 259.378 L1503.77 288.59 L1511.02 259.378 L1515.76 259.378 L1507.08 293.938 L1501.2 293.938 L1493.91 263.938 L1486.55 293.938 L1480.67 293.938 L1472.01 259.378 Z\" fill=\"#000000\" fill-rule=\"evenodd\" fill-opacity=\"1\" /><path clip-path=\"url(#clip400)\" d=\"M 0 0 M1519.19 268.012 L1523.45 268.012 L1523.45 293.938 L1519.19 293.938 L1519.19 268.012 M1519.19 257.919 L1523.45 257.919 L1523.45 263.313 L1519.19 263.313 L1519.19 257.919 Z\" fill=\"#000000\" fill-rule=\"evenodd\" fill-opacity=\"1\" /><path clip-path=\"url(#clip400)\" d=\"M 0 0 M1532.13 260.651 L1532.13 268.012 L1540.9 268.012 L1540.9 271.322 L1532.13 271.322 L1532.13 285.396 Q1532.13 288.567 1532.99 289.47 Q1533.87 290.373 1536.53 290.373 L1540.9 290.373 L1540.9 293.938 L1536.53 293.938 Q1531.6 293.938 1529.72 292.109 Q1527.85 290.257 1527.85 285.396 L1527.85 271.322 L1524.72 271.322 L1524.72 268.012 L1527.85 268.012 L1527.85 260.651 L1532.13 260.651 Z\" fill=\"#000000\" fill-rule=\"evenodd\" fill-opacity=\"1\" /><path clip-path=\"url(#clip400)\" d=\"M 0 0 M1566.92 278.289 L1566.92 293.938 L1562.66 293.938 L1562.66 278.428 Q1562.66 274.748 1561.23 272.919 Q1559.79 271.09 1556.92 271.09 Q1553.47 271.09 1551.48 273.29 Q1549.49 275.489 1549.49 279.285 L1549.49 293.938 L1545.21 293.938 L1545.21 257.919 L1549.49 257.919 L1549.49 272.04 Q1551.02 269.702 1553.08 268.544 Q1555.16 267.387 1557.87 267.387 Q1562.34 267.387 1564.63 270.165 Q1566.92 272.919 1566.92 278.289 Z\" fill=\"#000000\" fill-rule=\"evenodd\" fill-opacity=\"1\" /><path clip-path=\"url(#clip400)\" d=\"M 0 0 M1600.67 262.549 Q1595.58 262.549 1592.57 266.345 Q1589.58 270.141 1589.58 276.692 Q1589.58 283.22 1592.57 287.016 Q1595.58 290.813 1600.67 290.813 Q1605.76 290.813 1608.73 287.016 Q1611.71 283.22 1611.71 276.692 Q1611.71 270.141 1608.73 266.345 Q1605.76 262.549 1600.67 262.549 M1607.22 293.313 L1613.38 300.049 L1607.73 300.049 L1602.62 294.516 Q1601.85 294.563 1601.43 294.586 Q1601.04 294.609 1600.67 294.609 Q1593.38 294.609 1589 289.748 Q1584.65 284.864 1584.65 276.692 Q1584.65 268.498 1589 263.637 Q1593.38 258.753 1600.67 258.753 Q1607.94 258.753 1612.29 263.637 Q1616.64 268.498 1616.64 276.692 Q1616.64 282.711 1614.21 286.993 Q1611.8 291.276 1607.22 293.313 Z\" fill=\"#000000\" fill-rule=\"evenodd\" fill-opacity=\"1\" /><path clip-path=\"url(#clip400)\" d=\"M 0 0 M1637.68 277.734 Q1639.19 278.243 1640.6 279.91 Q1642.04 281.577 1643.47 284.493 L1648.22 293.938 L1643.19 293.938 L1638.77 285.072 Q1637.06 281.6 1635.44 280.465 Q1633.84 279.331 1631.06 279.331 L1625.97 279.331 L1625.97 293.938 L1621.3 293.938 L1621.3 259.378 L1631.85 259.378 Q1637.78 259.378 1640.69 261.854 Q1643.61 264.331 1643.61 269.331 Q1643.61 272.595 1642.08 274.748 Q1640.58 276.901 1637.68 277.734 M1625.97 263.22 L1625.97 275.489 L1631.85 275.489 Q1635.23 275.489 1636.94 273.938 Q1638.68 272.364 1638.68 269.331 Q1638.68 266.299 1636.94 264.771 Q1635.23 263.22 1631.85 263.22 L1625.97 263.22 Z\" fill=\"#000000\" fill-rule=\"evenodd\" fill-opacity=\"1\" /><polyline clip-path=\"url(#clip400)\" style=\"stroke:#c271d2; stroke-width:4; stroke-opacity:1; fill:none\" stroke-dasharray=\"16, 10\" points=\"\n",
       "  1308.22,337.138 1448.61,337.138 \n",
       "  \"/>\n",
       "<path clip-path=\"url(#clip400)\" d=\"M 0 0 M1472.01 319.858 L1476.74 319.858 L1484 349.07 L1491.25 319.858 L1496.5 319.858 L1503.77 349.07 L1511.02 319.858 L1515.76 319.858 L1507.08 354.418 L1501.2 354.418 L1493.91 324.418 L1486.55 354.418 L1480.67 354.418 L1472.01 319.858 Z\" fill=\"#000000\" fill-rule=\"evenodd\" fill-opacity=\"1\" /><path clip-path=\"url(#clip400)\" d=\"M 0 0 M1519.19 328.492 L1523.45 328.492 L1523.45 354.418 L1519.19 354.418 L1519.19 328.492 M1519.19 318.399 L1523.45 318.399 L1523.45 323.793 L1519.19 323.793 L1519.19 318.399 Z\" fill=\"#000000\" fill-rule=\"evenodd\" fill-opacity=\"1\" /><path clip-path=\"url(#clip400)\" d=\"M 0 0 M1532.13 321.131 L1532.13 328.492 L1540.9 328.492 L1540.9 331.802 L1532.13 331.802 L1532.13 345.876 Q1532.13 349.047 1532.99 349.95 Q1533.87 350.853 1536.53 350.853 L1540.9 350.853 L1540.9 354.418 L1536.53 354.418 Q1531.6 354.418 1529.72 352.589 Q1527.85 350.737 1527.85 345.876 L1527.85 331.802 L1524.72 331.802 L1524.72 328.492 L1527.85 328.492 L1527.85 321.131 L1532.13 321.131 Z\" fill=\"#000000\" fill-rule=\"evenodd\" fill-opacity=\"1\" /><path clip-path=\"url(#clip400)\" d=\"M 0 0 M1566.92 338.769 L1566.92 354.418 L1562.66 354.418 L1562.66 338.908 Q1562.66 335.228 1561.23 333.399 Q1559.79 331.57 1556.92 331.57 Q1553.47 331.57 1551.48 333.77 Q1549.49 335.969 1549.49 339.765 L1549.49 354.418 L1545.21 354.418 L1545.21 318.399 L1549.49 318.399 L1549.49 332.52 Q1551.02 330.182 1553.08 329.024 Q1555.16 327.867 1557.87 327.867 Q1562.34 327.867 1564.63 330.645 Q1566.92 333.399 1566.92 338.769 Z\" fill=\"#000000\" fill-rule=\"evenodd\" fill-opacity=\"1\" /><path clip-path=\"url(#clip400)\" d=\"M 0 0 M1600.67 323.029 Q1595.58 323.029 1592.57 326.825 Q1589.58 330.621 1589.58 337.172 Q1589.58 343.7 1592.57 347.496 Q1595.58 351.293 1600.67 351.293 Q1605.76 351.293 1608.73 347.496 Q1611.71 343.7 1611.71 337.172 Q1611.71 330.621 1608.73 326.825 Q1605.76 323.029 1600.67 323.029 M1607.22 353.793 L1613.38 360.529 L1607.73 360.529 L1602.62 354.996 Q1601.85 355.043 1601.43 355.066 Q1601.04 355.089 1600.67 355.089 Q1593.38 355.089 1589 350.228 Q1584.65 345.344 1584.65 337.172 Q1584.65 328.978 1589 324.117 Q1593.38 319.233 1600.67 319.233 Q1607.94 319.233 1612.29 324.117 Q1616.64 328.978 1616.64 337.172 Q1616.64 343.191 1614.21 347.473 Q1611.8 351.756 1607.22 353.793 Z\" fill=\"#000000\" fill-rule=\"evenodd\" fill-opacity=\"1\" /><path clip-path=\"url(#clip400)\" d=\"M 0 0 M1637.68 338.214 Q1639.19 338.723 1640.6 340.39 Q1642.04 342.057 1643.47 344.973 L1648.22 354.418 L1643.19 354.418 L1638.77 345.552 Q1637.06 342.08 1635.44 340.945 Q1633.84 339.811 1631.06 339.811 L1625.97 339.811 L1625.97 354.418 L1621.3 354.418 L1621.3 319.858 L1631.85 319.858 Q1637.78 319.858 1640.69 322.334 Q1643.61 324.811 1643.61 329.811 Q1643.61 333.075 1642.08 335.228 Q1640.58 337.381 1637.68 338.214 M1625.97 323.7 L1625.97 335.969 L1631.85 335.969 Q1635.23 335.969 1636.94 334.418 Q1638.68 332.844 1638.68 329.811 Q1638.68 326.779 1636.94 325.251 Q1635.23 323.7 1631.85 323.7 L1625.97 323.7 Z\" fill=\"#000000\" fill-rule=\"evenodd\" fill-opacity=\"1\" /><path clip-path=\"url(#clip400)\" d=\"M 0 0 M1679.54 341.385 Q1674.37 341.385 1672.38 342.566 Q1670.39 343.746 1670.39 346.594 Q1670.39 348.862 1671.87 350.205 Q1673.38 351.524 1675.95 351.524 Q1679.49 351.524 1681.62 349.024 Q1683.77 346.501 1683.77 342.334 L1683.77 341.385 L1679.54 341.385 M1688.03 339.626 L1688.03 354.418 L1683.77 354.418 L1683.77 350.482 Q1682.31 352.843 1680.14 353.978 Q1677.96 355.089 1674.81 355.089 Q1670.83 355.089 1668.47 352.867 Q1666.13 350.621 1666.13 346.871 Q1666.13 342.496 1669.05 340.274 Q1671.99 338.052 1677.8 338.052 L1683.77 338.052 L1683.77 337.635 Q1683.77 334.695 1681.83 333.098 Q1679.91 331.478 1676.41 331.478 Q1674.19 331.478 1672.08 332.01 Q1669.98 332.543 1668.03 333.607 L1668.03 329.672 Q1670.37 328.77 1672.57 328.33 Q1674.77 327.867 1676.85 327.867 Q1682.48 327.867 1685.25 330.783 Q1688.03 333.7 1688.03 339.626 Z\" fill=\"#000000\" fill-rule=\"evenodd\" fill-opacity=\"1\" /><path clip-path=\"url(#clip400)\" d=\"M 0 0 M1714.05 338.769 L1714.05 354.418 L1709.79 354.418 L1709.79 338.908 Q1709.79 335.228 1708.36 333.399 Q1706.92 331.57 1704.05 331.57 Q1700.6 331.57 1698.61 333.77 Q1696.62 335.969 1696.62 339.765 L1696.62 354.418 L1692.34 354.418 L1692.34 328.492 L1696.62 328.492 L1696.62 332.52 Q1698.15 330.182 1700.21 329.024 Q1702.29 327.867 1705 327.867 Q1709.47 327.867 1711.76 330.645 Q1714.05 333.399 1714.05 338.769 Z\" fill=\"#000000\" fill-rule=\"evenodd\" fill-opacity=\"1\" /><path clip-path=\"url(#clip400)\" d=\"M 0 0 M1735.58 332.427 L1735.58 318.399 L1739.84 318.399 L1739.84 354.418 L1735.58 354.418 L1735.58 350.529 Q1734.23 352.843 1732.17 353.978 Q1730.14 355.089 1727.27 355.089 Q1722.57 355.089 1719.61 351.339 Q1716.67 347.589 1716.67 341.478 Q1716.67 335.367 1719.61 331.617 Q1722.57 327.867 1727.27 327.867 Q1730.14 327.867 1732.17 329.001 Q1734.23 330.112 1735.58 332.427 M1721.06 341.478 Q1721.06 346.177 1722.98 348.862 Q1724.93 351.524 1728.31 351.524 Q1731.69 351.524 1733.63 348.862 Q1735.58 346.177 1735.58 341.478 Q1735.58 336.779 1733.63 334.117 Q1731.69 331.432 1728.31 331.432 Q1724.93 331.432 1722.98 334.117 Q1721.06 336.779 1721.06 341.478 Z\" fill=\"#000000\" fill-rule=\"evenodd\" fill-opacity=\"1\" /><path clip-path=\"url(#clip400)\" d=\"M 0 0 M1759.56 319.858 L1764.23 319.858 L1764.23 334.024 L1781.23 334.024 L1781.23 319.858 L1785.9 319.858 L1785.9 354.418 L1781.23 354.418 L1781.23 337.959 L1764.23 337.959 L1764.23 354.418 L1759.56 354.418 L1759.56 319.858 Z\" fill=\"#000000\" fill-rule=\"evenodd\" fill-opacity=\"1\" /><path clip-path=\"url(#clip400)\" d=\"M 0 0 M1812.54 340.39 L1812.54 342.473 L1792.96 342.473 Q1793.24 346.871 1795.6 349.186 Q1797.98 351.478 1802.22 351.478 Q1804.67 351.478 1806.97 350.876 Q1809.28 350.274 1811.55 349.07 L1811.55 353.098 Q1809.26 354.07 1806.85 354.58 Q1804.44 355.089 1801.97 355.089 Q1795.76 355.089 1792.13 351.478 Q1788.52 347.867 1788.52 341.709 Q1788.52 335.344 1791.94 331.617 Q1795.39 327.867 1801.23 327.867 Q1806.46 327.867 1809.49 331.246 Q1812.54 334.603 1812.54 340.39 M1808.29 339.14 Q1808.24 335.645 1806.32 333.561 Q1804.42 331.478 1801.27 331.478 Q1797.71 331.478 1795.55 333.492 Q1793.42 335.506 1793.1 339.163 L1808.29 339.14 Z\" fill=\"#000000\" fill-rule=\"evenodd\" fill-opacity=\"1\" /><path clip-path=\"url(#clip400)\" d=\"M 0 0 M1833.54 329.256 L1833.54 333.283 Q1831.73 332.357 1829.79 331.895 Q1827.85 331.432 1825.76 331.432 Q1822.59 331.432 1820.99 332.404 Q1819.42 333.376 1819.42 335.32 Q1819.42 336.802 1820.55 337.658 Q1821.69 338.492 1825.11 339.256 L1826.57 339.58 Q1831.11 340.552 1833.01 342.334 Q1834.93 344.094 1834.93 347.265 Q1834.93 350.876 1832.06 352.982 Q1829.21 355.089 1824.21 355.089 Q1822.13 355.089 1819.86 354.672 Q1817.61 354.279 1815.11 353.468 L1815.11 349.07 Q1817.48 350.297 1819.77 350.922 Q1822.06 351.524 1824.3 351.524 Q1827.31 351.524 1828.93 350.506 Q1830.55 349.464 1830.55 347.589 Q1830.55 345.853 1829.37 344.927 Q1828.22 344.001 1824.26 343.144 L1822.78 342.797 Q1818.82 341.964 1817.06 340.251 Q1815.3 338.515 1815.3 335.506 Q1815.3 331.848 1817.89 329.858 Q1820.48 327.867 1825.25 327.867 Q1827.61 327.867 1829.7 328.214 Q1831.78 328.561 1833.54 329.256 Z\" fill=\"#000000\" fill-rule=\"evenodd\" fill-opacity=\"1\" /><path clip-path=\"url(#clip400)\" d=\"M 0 0 M1855.92 329.256 L1855.92 333.283 Q1854.12 332.357 1852.17 331.895 Q1850.23 331.432 1848.15 331.432 Q1844.98 331.432 1843.38 332.404 Q1841.8 333.376 1841.8 335.32 Q1841.8 336.802 1842.94 337.658 Q1844.07 338.492 1847.5 339.256 L1848.96 339.58 Q1853.49 340.552 1855.39 342.334 Q1857.31 344.094 1857.31 347.265 Q1857.31 350.876 1854.44 352.982 Q1851.6 355.089 1846.6 355.089 Q1844.51 355.089 1842.24 354.672 Q1840 354.279 1837.5 353.468 L1837.5 349.07 Q1839.86 350.297 1842.15 350.922 Q1844.44 351.524 1846.69 351.524 Q1849.7 351.524 1851.32 350.506 Q1852.94 349.464 1852.94 347.589 Q1852.94 345.853 1851.76 344.927 Q1850.6 344.001 1846.64 343.144 L1845.16 342.797 Q1841.2 341.964 1839.44 340.251 Q1837.68 338.515 1837.68 335.506 Q1837.68 331.848 1840.28 329.858 Q1842.87 327.867 1847.64 327.867 Q1850 327.867 1852.08 328.214 Q1854.16 328.561 1855.92 329.256 Z\" fill=\"#000000\" fill-rule=\"evenodd\" fill-opacity=\"1\" /><path clip-path=\"url(#clip400)\" d=\"M 0 0 M1861.78 328.492 L1866.04 328.492 L1866.04 354.418 L1861.78 354.418 L1861.78 328.492 M1861.78 318.399 L1866.04 318.399 L1866.04 323.793 L1861.78 323.793 L1861.78 318.399 Z\" fill=\"#000000\" fill-rule=\"evenodd\" fill-opacity=\"1\" /><path clip-path=\"url(#clip400)\" d=\"M 0 0 M1882.29 341.385 Q1877.13 341.385 1875.14 342.566 Q1873.15 343.746 1873.15 346.594 Q1873.15 348.862 1874.63 350.205 Q1876.13 351.524 1878.7 351.524 Q1882.24 351.524 1884.37 349.024 Q1886.53 346.501 1886.53 342.334 L1886.53 341.385 L1882.29 341.385 M1890.78 339.626 L1890.78 354.418 L1886.53 354.418 L1886.53 350.482 Q1885.07 352.843 1882.89 353.978 Q1880.72 355.089 1877.57 355.089 Q1873.59 355.089 1871.22 352.867 Q1868.89 350.621 1868.89 346.871 Q1868.89 342.496 1871.8 340.274 Q1874.74 338.052 1880.55 338.052 L1886.53 338.052 L1886.53 337.635 Q1886.53 334.695 1884.58 333.098 Q1882.66 331.478 1879.16 331.478 Q1876.94 331.478 1874.84 332.01 Q1872.73 332.543 1870.79 333.607 L1870.79 329.672 Q1873.12 328.77 1875.32 328.33 Q1877.52 327.867 1879.6 327.867 Q1885.23 327.867 1888.01 330.783 Q1890.78 333.7 1890.78 339.626 Z\" fill=\"#000000\" fill-rule=\"evenodd\" fill-opacity=\"1\" /><path clip-path=\"url(#clip400)\" d=\"M 0 0 M1916.8 338.769 L1916.8 354.418 L1912.54 354.418 L1912.54 338.908 Q1912.54 335.228 1911.11 333.399 Q1909.67 331.57 1906.8 331.57 Q1903.35 331.57 1901.36 333.77 Q1899.37 335.969 1899.37 339.765 L1899.37 354.418 L1895.09 354.418 L1895.09 328.492 L1899.37 328.492 L1899.37 332.52 Q1900.9 330.182 1902.96 329.024 Q1905.04 327.867 1907.75 327.867 Q1912.22 327.867 1914.51 330.645 Q1916.8 333.399 1916.8 338.769 Z\" fill=\"#000000\" fill-rule=\"evenodd\" fill-opacity=\"1\" /><path clip-path=\"url(#clip400)\" d=\"M 0 0 M1948.12 341.385 Q1942.96 341.385 1940.97 342.566 Q1938.98 343.746 1938.98 346.594 Q1938.98 348.862 1940.46 350.205 Q1941.97 351.524 1944.53 351.524 Q1948.08 351.524 1950.21 349.024 Q1952.36 346.501 1952.36 342.334 L1952.36 341.385 L1948.12 341.385 M1956.62 339.626 L1956.62 354.418 L1952.36 354.418 L1952.36 350.482 Q1950.9 352.843 1948.72 353.978 Q1946.55 355.089 1943.4 355.089 Q1939.42 355.089 1937.06 352.867 Q1934.72 350.621 1934.72 346.871 Q1934.72 342.496 1937.64 340.274 Q1940.58 338.052 1946.39 338.052 L1952.36 338.052 L1952.36 337.635 Q1952.36 334.695 1950.41 333.098 Q1948.49 331.478 1945 331.478 Q1942.78 331.478 1940.67 332.01 Q1938.56 332.543 1936.62 333.607 L1936.62 329.672 Q1938.96 328.77 1941.16 328.33 Q1943.35 327.867 1945.44 327.867 Q1951.06 327.867 1953.84 330.783 Q1956.62 333.7 1956.62 339.626 Z\" fill=\"#000000\" fill-rule=\"evenodd\" fill-opacity=\"1\" /><path clip-path=\"url(#clip400)\" d=\"M 0 0 M1965.21 350.529 L1965.21 364.279 L1960.92 364.279 L1960.92 328.492 L1965.21 328.492 L1965.21 332.427 Q1966.55 330.112 1968.59 329.001 Q1970.65 327.867 1973.49 327.867 Q1978.22 327.867 1981.15 331.617 Q1984.12 335.367 1984.12 341.478 Q1984.12 347.589 1981.15 351.339 Q1978.22 355.089 1973.49 355.089 Q1970.65 355.089 1968.59 353.978 Q1966.55 352.843 1965.21 350.529 M1979.7 341.478 Q1979.7 336.779 1977.75 334.117 Q1975.83 331.432 1972.45 331.432 Q1969.07 331.432 1967.13 334.117 Q1965.21 336.779 1965.21 341.478 Q1965.21 346.177 1967.13 348.862 Q1969.07 351.524 1972.45 351.524 Q1975.83 351.524 1977.75 348.862 Q1979.7 346.177 1979.7 341.478 Z\" fill=\"#000000\" fill-rule=\"evenodd\" fill-opacity=\"1\" /><path clip-path=\"url(#clip400)\" d=\"M 0 0 M1992.71 350.529 L1992.71 364.279 L1988.42 364.279 L1988.42 328.492 L1992.71 328.492 L1992.71 332.427 Q1994.05 330.112 1996.09 329.001 Q1998.15 327.867 2000.99 327.867 Q2005.71 327.867 2008.65 331.617 Q2011.62 335.367 2011.62 341.478 Q2011.62 347.589 2008.65 351.339 Q2005.71 355.089 2000.99 355.089 Q1998.15 355.089 1996.09 353.978 Q1994.05 352.843 1992.71 350.529 M2007.2 341.478 Q2007.2 336.779 2005.25 334.117 Q2003.33 331.432 1999.95 331.432 Q1996.57 331.432 1994.63 334.117 Q1992.71 336.779 1992.71 341.478 Q1992.71 346.177 1994.63 348.862 Q1996.57 351.524 1999.95 351.524 Q2003.33 351.524 2005.25 348.862 Q2007.2 346.177 2007.2 341.478 Z\" fill=\"#000000\" fill-rule=\"evenodd\" fill-opacity=\"1\" /><path clip-path=\"url(#clip400)\" d=\"M 0 0 M2031.11 332.473 Q2030.39 332.057 2029.53 331.871 Q2028.7 331.663 2027.68 331.663 Q2024.07 331.663 2022.13 334.024 Q2020.21 336.362 2020.21 340.76 L2020.21 354.418 L2015.92 354.418 L2015.92 328.492 L2020.21 328.492 L2020.21 332.52 Q2021.55 330.158 2023.7 329.024 Q2025.85 327.867 2028.93 327.867 Q2029.37 327.867 2029.9 327.936 Q2030.44 327.983 2031.09 328.098 L2031.11 332.473 Z\" fill=\"#000000\" fill-rule=\"evenodd\" fill-opacity=\"1\" /><path clip-path=\"url(#clip400)\" d=\"M 0 0 M2044.58 331.478 Q2041.15 331.478 2039.16 334.163 Q2037.17 336.825 2037.17 341.478 Q2037.17 346.131 2039.14 348.816 Q2041.13 351.478 2044.58 351.478 Q2047.98 351.478 2049.97 348.793 Q2051.96 346.107 2051.96 341.478 Q2051.96 336.871 2049.97 334.186 Q2047.98 331.478 2044.58 331.478 M2044.58 327.867 Q2050.14 327.867 2053.31 331.478 Q2056.48 335.089 2056.48 341.478 Q2056.48 347.844 2053.31 351.478 Q2050.14 355.089 2044.58 355.089 Q2039 355.089 2035.83 351.478 Q2032.68 347.844 2032.68 341.478 Q2032.68 335.089 2035.83 331.478 Q2039 327.867 2044.58 327.867 Z\" fill=\"#000000\" fill-rule=\"evenodd\" fill-opacity=\"1\" /><path clip-path=\"url(#clip400)\" d=\"M 0 0 M2081.04 328.492 L2071.66 341.107 L2081.52 354.418 L2076.5 354.418 L2068.96 344.232 L2061.41 354.418 L2056.39 354.418 L2066.46 340.853 L2057.24 328.492 L2062.27 328.492 L2069.14 337.728 L2076.02 328.492 L2081.04 328.492 Z\" fill=\"#000000\" fill-rule=\"evenodd\" fill-opacity=\"1\" /><path clip-path=\"url(#clip400)\" d=\"M 0 0 M2085.99 328.492 L2090.25 328.492 L2090.25 354.418 L2085.99 354.418 L2085.99 328.492 M2085.99 318.399 L2090.25 318.399 L2090.25 323.793 L2085.99 323.793 L2085.99 318.399 Z\" fill=\"#000000\" fill-rule=\"evenodd\" fill-opacity=\"1\" /><path clip-path=\"url(#clip400)\" d=\"M 0 0 M2114.9 333.469 Q2116.5 330.598 2118.72 329.233 Q2120.95 327.867 2123.96 327.867 Q2128.01 327.867 2130.2 330.714 Q2132.4 333.538 2132.4 338.769 L2132.4 354.418 L2128.12 354.418 L2128.12 338.908 Q2128.12 335.182 2126.8 333.376 Q2125.48 331.57 2122.77 331.57 Q2119.46 331.57 2117.54 333.77 Q2115.62 335.969 2115.62 339.765 L2115.62 354.418 L2111.34 354.418 L2111.34 338.908 Q2111.34 335.158 2110.02 333.376 Q2108.7 331.57 2105.95 331.57 Q2102.68 331.57 2100.76 333.793 Q2098.84 335.992 2098.84 339.765 L2098.84 354.418 L2094.56 354.418 L2094.56 328.492 L2098.84 328.492 L2098.84 332.52 Q2100.3 330.135 2102.33 329.001 Q2104.37 327.867 2107.17 327.867 Q2110 327.867 2111.96 329.302 Q2113.96 330.737 2114.9 333.469 Z\" fill=\"#000000\" fill-rule=\"evenodd\" fill-opacity=\"1\" /><path clip-path=\"url(#clip400)\" d=\"M 0 0 M2148.65 341.385 Q2143.49 341.385 2141.5 342.566 Q2139.51 343.746 2139.51 346.594 Q2139.51 348.862 2140.99 350.205 Q2142.5 351.524 2145.07 351.524 Q2148.61 351.524 2150.74 349.024 Q2152.89 346.501 2152.89 342.334 L2152.89 341.385 L2148.65 341.385 M2157.15 339.626 L2157.15 354.418 L2152.89 354.418 L2152.89 350.482 Q2151.43 352.843 2149.26 353.978 Q2147.08 355.089 2143.93 355.089 Q2139.95 355.089 2137.59 352.867 Q2135.25 350.621 2135.25 346.871 Q2135.25 342.496 2138.17 340.274 Q2141.11 338.052 2146.92 338.052 L2152.89 338.052 L2152.89 337.635 Q2152.89 334.695 2150.95 333.098 Q2149.02 331.478 2145.53 331.478 Q2143.31 331.478 2141.2 332.01 Q2139.09 332.543 2137.15 333.607 L2137.15 329.672 Q2139.49 328.77 2141.69 328.33 Q2143.89 327.867 2145.97 327.867 Q2151.59 327.867 2154.37 330.783 Q2157.15 333.7 2157.15 339.626 Z\" fill=\"#000000\" fill-rule=\"evenodd\" fill-opacity=\"1\" /><path clip-path=\"url(#clip400)\" d=\"M 0 0 M2165.83 321.131 L2165.83 328.492 L2174.6 328.492 L2174.6 331.802 L2165.83 331.802 L2165.83 345.876 Q2165.83 349.047 2166.69 349.95 Q2167.57 350.853 2170.23 350.853 L2174.6 350.853 L2174.6 354.418 L2170.23 354.418 Q2165.3 354.418 2163.42 352.589 Q2161.55 350.737 2161.55 345.876 L2161.55 331.802 L2158.42 331.802 L2158.42 328.492 L2161.55 328.492 L2161.55 321.131 L2165.83 321.131 Z\" fill=\"#000000\" fill-rule=\"evenodd\" fill-opacity=\"1\" /><path clip-path=\"url(#clip400)\" d=\"M 0 0 M2179.07 328.492 L2183.33 328.492 L2183.33 354.418 L2179.07 354.418 L2179.07 328.492 M2179.07 318.399 L2183.33 318.399 L2183.33 323.793 L2179.07 323.793 L2179.07 318.399 Z\" fill=\"#000000\" fill-rule=\"evenodd\" fill-opacity=\"1\" /><path clip-path=\"url(#clip400)\" d=\"M 0 0 M2197.84 331.478 Q2194.42 331.478 2192.43 334.163 Q2190.44 336.825 2190.44 341.478 Q2190.44 346.131 2192.4 348.816 Q2194.39 351.478 2197.84 351.478 Q2201.25 351.478 2203.24 348.793 Q2205.23 346.107 2205.23 341.478 Q2205.23 336.871 2203.24 334.186 Q2201.25 331.478 2197.84 331.478 M2197.84 327.867 Q2203.4 327.867 2206.57 331.478 Q2209.74 335.089 2209.74 341.478 Q2209.74 347.844 2206.57 351.478 Q2203.4 355.089 2197.84 355.089 Q2192.26 355.089 2189.09 351.478 Q2185.95 347.844 2185.95 341.478 Q2185.95 335.089 2189.09 331.478 Q2192.26 327.867 2197.84 327.867 Z\" fill=\"#000000\" fill-rule=\"evenodd\" fill-opacity=\"1\" /><path clip-path=\"url(#clip400)\" d=\"M 0 0 M2235.76 338.769 L2235.76 354.418 L2231.5 354.418 L2231.5 338.908 Q2231.5 335.228 2230.07 333.399 Q2228.63 331.57 2225.76 331.57 Q2222.31 331.57 2220.32 333.77 Q2218.33 335.969 2218.33 339.765 L2218.33 354.418 L2214.05 354.418 L2214.05 328.492 L2218.33 328.492 L2218.33 332.52 Q2219.86 330.182 2221.92 329.024 Q2224 327.867 2226.71 327.867 Q2231.18 327.867 2233.47 330.645 Q2235.76 333.399 2235.76 338.769 Z\" fill=\"#000000\" fill-rule=\"evenodd\" fill-opacity=\"1\" /></svg>\n"
      ]
     },
     "execution_count": 274,
     "metadata": {},
     "output_type": "execute_result"
    }
   ],
   "source": [
    "plot(Optim.f_trace(res), linewidth = 3, xscale = :log10, yscale = :log10, label = \"Without QR\")\n",
    "# scatter!(Optim.f_trace(res), linewidth = 3, label = \"Without QR\")\n",
    "plot!(Optim.f_trace(resprecond), linewidth = 3, label = \"With Hessian approximation\")\n",
    "# scatter!(Optim.f_trace(resprecond), linewidth = 3, label = \"With Hessian approximation\")\n",
    "plot!(Optim.f_trace(r̃es), linewidth = 3, label = \"With QR\")\n",
    "# scatter!(Optim.f_trace(r̃es), linewidth = 3, label = \"With QR\")\n",
    "plot!(Optim.f_trace(r̃esprecond), linewidth = 3, label = \"With QR and Hessian approximation\", linestyle = :dash)\n",
    "# scatter!(Optim.f_trace(r̃esprecond), linewidth = 3, label = \"With QR and Hessian approximation\")\n",
    "# savefig(\"comparison \")"
   ]
  },
  {
   "cell_type": "code",
   "execution_count": null,
   "metadata": {},
   "outputs": [],
   "source": []
  }
 ],
 "metadata": {
  "kernelspec": {
   "display_name": "Julia 1.5.0",
   "language": "julia",
   "name": "julia-1.5"
  },
  "language_info": {
   "file_extension": ".jl",
   "mimetype": "application/julia",
   "name": "julia",
   "version": "1.5.0"
  }
 },
 "nbformat": 4,
 "nbformat_minor": 2
}
