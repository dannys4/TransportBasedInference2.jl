{
 "cells": [
  {
   "cell_type": "code",
   "execution_count": 1,
   "metadata": {},
   "outputs": [
    {
     "name": "stderr",
     "output_type": "stream",
     "text": [
      "\u001b[32m\u001b[1m Activating\u001b[22m\u001b[39m environment at `/media/mat/HDD/AdaptiveTransportMap/Project.toml`\n"
     ]
    }
   ],
   "source": [
    "using Pkg\n",
    "Pkg.activate(\"/media/mat/HDD/AdaptiveTransportMap/\")"
   ]
  },
  {
   "cell_type": "code",
   "execution_count": 3,
   "metadata": {},
   "outputs": [
    {
     "name": "stderr",
     "output_type": "stream",
     "text": [
      "┌ Info: Precompiling AdaptiveTransportMap [bdf749b0-1400-4207-80d3-e689c0e3f03d]\n",
      "└ @ Base loading.jl:1278\n"
     ]
    }
   ],
   "source": [
    "using Revise\n",
    "using AdaptiveTransportMap\n",
    "using LinearAlgebra\n",
    "import LinearAlgebra: ldiv!, dot\n",
    "using Test\n",
    "using ForwardDiff\n",
    "using SpecialFunctions\n",
    "using BenchmarkTools\n",
    "using TransportMap\n",
    "using QuadGK\n",
    "using Polynomials\n",
    "using Distributions\n",
    "using Random\n",
    "using LoopVectorization\n",
    "using Optim\n",
    "using NLsolve\n",
    "using MLDataUtils\n",
    "using MLDataPattern\n",
    "using Test\n",
    "using SparseArrays\n",
    "using AdaptiveTransportMap: vander, transform!, evaluate, ncoeff, optimize, negative_log_likelihood!, derivative\n",
    "\n",
    "# using Profile\n",
    "# using ProfileView\n",
    "using StaticArrays\n",
    "using QRupdate"
   ]
  },
  {
   "cell_type": "code",
   "execution_count": 4,
   "metadata": {},
   "outputs": [
    {
     "name": "stdout",
     "output_type": "stream",
     "text": [
      "norm(Q1 - F.Q * (Matrix(1.0I, m, m))[:, 1:n]) = 0.0\n"
     ]
    }
   ],
   "source": [
    "m = 100\n",
    "n = 5\n",
    "\n",
    "A = randn(m, n)\n",
    "F = qr(A)\n",
    "\n",
    "Q1 = F.Q*Matrix(1.0*I, m, n)\n",
    "\n",
    "@show norm(Q1 - F.Q*Matrix(1.0*I, m, m)[:,1:n])\n",
    "\n",
    "Q2 = F.Q * Matrix(1.0*I, m, m-n)\n",
    "\n",
    "# @show norm(Q2 - F.Q*Matrix(1.0*I, m, m)[:,n+1:m])\n",
    "v = randn(m);"
   ]
  },
  {
   "cell_type": "code",
   "execution_count": 5,
   "metadata": {},
   "outputs": [
    {
     "data": {
      "text/plain": [
       "6×6 Array{Float64,2}:\n",
       " 10.1498  -0.444181   -1.93539   -2.73847     0.815124  -0.0982151\n",
       "  0.0      9.9724     -0.637325   0.173324   -0.420596   0.115398\n",
       "  0.0      0.0       -10.0452     2.10551    -0.218037  -1.54195\n",
       "  0.0      0.0         0.0       -9.591       1.01912    2.14354\n",
       "  0.0      0.0         0.0        0.0       -10.4777     0.727149\n",
       "  0.0      0.0         0.0        0.0         0.0       11.4623"
      ]
     },
     "execution_count": 5,
     "metadata": {},
     "output_type": "execute_result"
    }
   ],
   "source": [
    "qr(hcat(A, reshape(v,(m,1)))).R"
   ]
  },
  {
   "cell_type": "code",
   "execution_count": 11,
   "metadata": {},
   "outputs": [
    {
     "name": "stdout",
     "output_type": "stream",
     "text": [
      "Variables\n",
      "  #self#\u001b[36m::Core.Compiler.Const(QRupdate.qraddcol, false)\u001b[39m\n",
      "  A\u001b[36m::Array{Float64,2}\u001b[39m\n",
      "  Rin\u001b[36m::Array{Float64,2}\u001b[39m\n",
      "  a\u001b[36m::Array{Float64,1}\u001b[39m\n",
      "\n",
      "Body\u001b[36m::Array{Float64,2}\u001b[39m\n",
      "\u001b[90m1 ─\u001b[39m %1 = (#self#)(A, Rin, a, 0.0)\u001b[36m::Array{Float64,2}\u001b[39m\n",
      "\u001b[90m└──\u001b[39m      return %1\n"
     ]
    }
   ],
   "source": [
    "qraddcol(A, F.R, v)"
   ]
  },
  {
   "cell_type": "code",
   "execution_count": 14,
   "metadata": {},
   "outputs": [
    {
     "data": {
      "text/plain": [
       "timing (generic function with 1 method)"
      ]
     },
     "execution_count": 14,
     "metadata": {},
     "output_type": "execute_result"
    }
   ],
   "source": [
    "function timing()\n",
    "    @btime begin \n",
    "        m = 1000\n",
    "        n = 50\n",
    "\n",
    "        A = randn(m, n)\n",
    "        qr(A)\n",
    "        for i=1:20\n",
    "            v = randn(m)\n",
    "            A = hcat(A, reshape(v,(m,1)))\n",
    "        end\n",
    "    end\n",
    "    @btime begin \n",
    "        m = 1000\n",
    "        n = 50\n",
    "\n",
    "        A = randn(m, n)\n",
    "        qr(A)\n",
    "        for i=1:20\n",
    "            v = randn(m)\n",
    "            A = hcat(A, reshape(v,(m,1)))\n",
    "            qr(A)\n",
    "        end\n",
    "    end\n",
    "    @btime begin\n",
    "                m = 1000\n",
    "        n = 50\n",
    "\n",
    "        A = randn(m, n)\n",
    "        F = qr(A)\n",
    "        R = F.R\n",
    "        for i=1:20\n",
    "            v = randn(m)\n",
    "            R = qraddcol(A, R, v)\n",
    "            \n",
    "            A = hcat(A, reshape(v,(m,1)))\n",
    "        end\n",
    "    end\n",
    "end"
   ]
  },
  {
   "cell_type": "code",
   "execution_count": 15,
   "metadata": {},
   "outputs": [
    {
     "name": "stdout",
     "output_type": "stream",
     "text": [
      "  1.364 ms (86 allocations: 10.18 MiB)\n",
      "  17.929 ms (194 allocations: 20.08 MiB)\n",
      "  2.417 ms (368 allocations: 11.47 MiB)\n"
     ]
    }
   ],
   "source": [
    "timing()"
   ]
  },
  {
   "cell_type": "code",
   "execution_count": 16,
   "metadata": {},
   "outputs": [
    {
     "data": {
      "text/plain": [
       "5×5 Array{Float64,2}:\n",
       " 10.1498  -0.444181   -1.93539   -2.73847     0.815124\n",
       "  0.0      9.9724     -0.637325   0.173324   -0.420596\n",
       "  0.0      0.0       -10.0452     2.10551    -0.218037\n",
       "  0.0      0.0         0.0       -9.591       1.01912\n",
       "  0.0      0.0         0.0        0.0       -10.4777"
      ]
     },
     "execution_count": 16,
     "metadata": {},
     "output_type": "execute_result"
    }
   ],
   "source": [
    "F.R"
   ]
  },
  {
   "cell_type": "code",
   "execution_count": 3,
   "metadata": {},
   "outputs": [
    {
     "data": {
      "text/plain": [
       "1-element Array{Float64,1}:\n",
       " 0.1910678298362849"
      ]
     },
     "execution_count": 3,
     "metadata": {},
     "output_type": "execute_result"
    }
   ],
   "source": [
    "Nx = 2\n",
    "Ne = 8\n",
    "m = 20\n",
    "\n",
    "X =  Matrix([0.267333   1.43021;\n",
    "      0.364979   0.607224;\n",
    "     -1.23693    0.249277;\n",
    "     -2.0526     0.915629;\n",
    "     -0.182465   0.415874;\n",
    "      0.412907   1.01672;\n",
    "      1.41332   -0.918205;\n",
    "      0.766647  -1.00445]');\n",
    "\n",
    "# X = randn(Nx, Ne)\n",
    "\n",
    "idx = [0 0; 0 1; 1 0]\n",
    "\n",
    "Nψ = 4#size(idx,1)\n",
    "\n",
    "coeff = [-0.28829821609289064;\n",
    "         -1.1768877197305714;\n",
    "          0.40090743090076547];\n",
    "#           1.101330816362896];\n",
    "C = MapComponent(m, Nx, idx, coeff);\n",
    "\n",
    "addedidx = reshape([1 1], (1,2))\n",
    "addedcoeff = [0.1910678298362849]"
   ]
  },
  {
   "cell_type": "code",
   "execution_count": 4,
   "metadata": {},
   "outputs": [
    {
     "data": {
      "text/plain": [
       "ParametricFunction(ExpandedFunction(20, 4, 2, MultiBasis(Basis of 20 functions: Constant -> 18th degree Probabilistic Hermite function\n",
       ", 2), [0 0; 0 1; 1 0; 1 1], [-0.28829821609289064, -1.1768877197305714, 0.40090743090076547, 0.1910678298362849]))"
      ]
     },
     "execution_count": 4,
     "metadata": {},
     "output_type": "execute_result"
    }
   ],
   "source": [
    "fnew = ParametricFunction(ExpandedFunction(C.I.f.f.B, vcat(getidx(C), addedidx), vcat(getcoeff(C), addedcoeff)))"
   ]
  },
  {
   "cell_type": "code",
   "execution_count": 5,
   "metadata": {},
   "outputs": [
    {
     "data": {
      "text/plain": [
       "8×4 Array{Float64,2}:\n",
       " 1.0  0.378763  0.620434  0.234997\n",
       " 1.0  0.575999  0.610931  0.351895\n",
       " 1.0  0.621883  0.430862  0.267945\n",
       " 1.0  0.512188  0.220301  0.112835\n",
       " 1.0  0.604891  0.626383  0.378894\n",
       " 1.0  0.487776  0.605263  0.295233\n",
       " 1.0  0.511584  0.383338  0.19611\n",
       " 1.0  0.490809  0.545307  0.267642"
      ]
     },
     "execution_count": 5,
     "metadata": {},
     "output_type": "execute_result"
    }
   ],
   "source": [
    "ψ = evaluate_basis(fnew.f, X, getidx(C))\n",
    "addedψ = evaluate_basis(fnew.f, X, addedidx)\n",
    "ψnew = evaluate_basis(fnew.f, X)"
   ]
  },
  {
   "cell_type": "code",
   "execution_count": 6,
   "metadata": {},
   "outputs": [
    {
     "data": {
      "text/plain": [
       "LinearAlgebra.QRCompactWY{Float64,Array{Float64,2}}\n",
       "Q factor:\n",
       "8×8 LinearAlgebra.QRCompactWYQ{Float64,Array{Float64,2}}:\n",
       " -0.353553   0.698591    0.219991   -0.202025   …  -0.23307     -0.335742\n",
       " -0.353553  -0.256782    0.30033     0.383758       0.0879981   -0.130855\n",
       " -0.353553  -0.479033   -0.139451   -0.672087      -0.391967    -0.0835975\n",
       " -0.353553   0.0523058  -0.740525    0.472914      -0.297757    -0.0766019\n",
       " -0.353553  -0.396729    0.35552     0.248427       0.0601942   -0.10873\n",
       " -0.353553   0.170554    0.238827    0.0632315  …  -0.00488694  -0.0913354\n",
       " -0.353553   0.055234   -0.320581   -0.26452        0.830306    -0.0842048\n",
       " -0.353553   0.15586     0.0858895  -0.0296987     -0.0508178    0.911067\n",
       "R factor:\n",
       "3×3 Array{Float64,2}:\n",
       " -2.82843  -1.47923   -1.42935\n",
       "  0.0      -0.206449   0.0425696\n",
       "  0.0       0.0        0.387938"
      ]
     },
     "execution_count": 6,
     "metadata": {},
     "output_type": "execute_result"
    }
   ],
   "source": [
    "F = qr(ψ)"
   ]
  },
  {
   "cell_type": "code",
   "execution_count": 7,
   "metadata": {},
   "outputs": [
    {
     "name": "stdout",
     "output_type": "stream",
     "text": [
      "search: \u001b[0m\u001b[1mq\u001b[22muantile_\u001b[0m\u001b[1mr\u001b[22micardo \u001b[0m\u001b[1mQ\u001b[22m\u001b[0m\u001b[1mR\u001b[22m \u001b[0m\u001b[1mq\u001b[22m\u001b[0m\u001b[1mr\u001b[22m \u001b[0m\u001b[1mq\u001b[22m\u001b[0m\u001b[1mr\u001b[22m! \u001b[0m\u001b[1mQ\u001b[22m\u001b[0m\u001b[1mR\u001b[22mPivoted \u001b[0m\u001b[1mq\u001b[22m\u001b[0m\u001b[1mr\u001b[22mnegative_log_likelihood! s\u001b[0m\u001b[1mq\u001b[22m\u001b[0m\u001b[1mr\u001b[22mt\n",
      "\n"
     ]
    },
    {
     "data": {
      "text/latex": [
       "\\begin{verbatim}\n",
       "QR <: Factorization\n",
       "\\end{verbatim}\n",
       "A QR matrix factorization stored in a packed format, typically obtained from \\href{@ref}{\\texttt{qr}}. If $A$ is an \\texttt{m}×\\texttt{n} matrix, then\n",
       "\n",
       "$$A = Q R$$\n",
       "where $Q$ is an orthogonal/unitary matrix and $R$ is upper triangular. The matrix $Q$ is stored as a sequence of Householder reflectors $v_i$ and coefficients $\\tau_i$ where:\n",
       "\n",
       "$$Q = \\prod_{i=1}^{\\min(m,n)} (I - \\tau_i v_i v_i^T).$$\n",
       "Iterating the decomposition produces the components \\texttt{Q} and \\texttt{R}.\n",
       "\n",
       "The object has two fields:\n",
       "\n",
       "\\begin{itemize}\n",
       "\\item \\texttt{factors} is an \\texttt{m}×\\texttt{n} matrix.\n",
       "\n",
       "\\begin{itemize}\n",
       "\\item The upper triangular part contains the elements of $R$, that is \\texttt{R = triu(F.factors)} for a \\texttt{QR} object \\texttt{F}.\n",
       "\n",
       "\n",
       "\\item The subdiagonal part contains the reflectors $v_i$ stored in a packed format where $v_i$ is the $i$th column of the matrix \\texttt{V = I + tril(F.factors, -1)}.\n",
       "\n",
       "\\end{itemize}\n",
       "\n",
       "\\item \\texttt{τ} is a vector  of length \\texttt{min(m,n)} containing the coefficients $au_i$.\n",
       "\n",
       "\\end{itemize}\n"
      ],
      "text/markdown": [
       "```\n",
       "QR <: Factorization\n",
       "```\n",
       "\n",
       "A QR matrix factorization stored in a packed format, typically obtained from [`qr`](@ref). If $A$ is an `m`×`n` matrix, then\n",
       "\n",
       "$$\n",
       "A = Q R\n",
       "$$\n",
       "\n",
       "where $Q$ is an orthogonal/unitary matrix and $R$ is upper triangular. The matrix $Q$ is stored as a sequence of Householder reflectors $v_i$ and coefficients $\\tau_i$ where:\n",
       "\n",
       "$$\n",
       "Q = \\prod_{i=1}^{\\min(m,n)} (I - \\tau_i v_i v_i^T).\n",
       "$$\n",
       "\n",
       "Iterating the decomposition produces the components `Q` and `R`.\n",
       "\n",
       "The object has two fields:\n",
       "\n",
       "  * `factors` is an `m`×`n` matrix.\n",
       "\n",
       "      * The upper triangular part contains the elements of $R$, that is `R = triu(F.factors)` for a `QR` object `F`.\n",
       "      * The subdiagonal part contains the reflectors $v_i$ stored in a packed format where $v_i$ is the $i$th column of the matrix `V = I + tril(F.factors, -1)`.\n",
       "  * `τ` is a vector  of length `min(m,n)` containing the coefficients $au_i$.\n"
      ],
      "text/plain": [
       "\u001b[36m  QR <: Factorization\u001b[39m\n",
       "\n",
       "  A QR matrix factorization stored in a packed format, typically obtained from\n",
       "  \u001b[36mqr\u001b[39m. If \u001b[35mA\u001b[39m is an \u001b[36mm\u001b[39m×\u001b[36mn\u001b[39m matrix, then\n",
       "\n",
       "\u001b[35m  A = Q R\u001b[39m\n",
       "\n",
       "  where \u001b[35mQ\u001b[39m is an orthogonal/unitary matrix and \u001b[35mR\u001b[39m is upper triangular. The\n",
       "  matrix \u001b[35mQ\u001b[39m is stored as a sequence of Householder reflectors \u001b[35mv_i\u001b[39m and\n",
       "  coefficients \u001b[35m\\tau_i\u001b[39m where:\n",
       "\n",
       "\u001b[35m  Q = \\prod_{i=1}^{\\min(m,n)} (I - \\tau_i v_i v_i^T).\u001b[39m\n",
       "\n",
       "  Iterating the decomposition produces the components \u001b[36mQ\u001b[39m and \u001b[36mR\u001b[39m.\n",
       "\n",
       "  The object has two fields:\n",
       "\n",
       "    •    \u001b[36mfactors\u001b[39m is an \u001b[36mm\u001b[39m×\u001b[36mn\u001b[39m matrix.\n",
       "      \n",
       "          •    The upper triangular part contains the elements of \u001b[35mR\u001b[39m,\n",
       "              that is \u001b[36mR = triu(F.factors)\u001b[39m for a \u001b[36mQR\u001b[39m object \u001b[36mF\u001b[39m.\n",
       "      \n",
       "          •    The subdiagonal part contains the reflectors \u001b[35mv_i\u001b[39m stored\n",
       "              in a packed format where \u001b[35mv_i\u001b[39m is the \u001b[35mi\u001b[39mth column of the\n",
       "              matrix \u001b[36mV = I + tril(F.factors, -1)\u001b[39m.\n",
       "\n",
       "    •    \u001b[36mτ\u001b[39m is a vector of length \u001b[36mmin(m,n)\u001b[39m containing the coefficients \u001b[35mau_i\u001b[39m."
      ]
     },
     "execution_count": 7,
     "metadata": {},
     "output_type": "execute_result"
    }
   ],
   "source": [
    "?QR"
   ]
  },
  {
   "cell_type": "code",
   "execution_count": null,
   "metadata": {},
   "outputs": [],
   "source": [
    "F.Q * Matrix(I, size(F.Q, 1), nx),"
   ]
  },
  {
   "cell_type": "code",
   "execution_count": 73,
   "metadata": {},
   "outputs": [
    {
     "data": {
      "text/plain": [
       "timing (generic function with 1 method)"
      ]
     },
     "execution_count": 73,
     "metadata": {},
     "output_type": "execute_result"
    }
   ],
   "source": [
    "function timing()\n",
    "    @btime begin \n",
    "        A = randn(1000, 50)\n",
    "        v = randn(1000,1)\n",
    "        qr(A)\n",
    "        qr(hcat(A,v))\n",
    "    end\n",
    "    \n",
    "    @btime begin\n",
    "        A = randn(1000, 50)\n",
    "        v = randn(1000,1)\n",
    "        F = UpdatableQR(A)\n",
    "        add_column_householder!(F,v[:,1])    \n",
    "    end\n",
    "end"
   ]
  },
  {
   "cell_type": "code",
   "execution_count": 74,
   "metadata": {},
   "outputs": [
    {
     "name": "stdout",
     "output_type": "stream",
     "text": [
      "  1.421 ms (13 allocations: 1.61 MiB)\n",
      "  5.024 ms (29 allocations: 17.44 MiB)\n"
     ]
    },
    {
     "data": {
      "text/plain": [
       "LinearAlgebra.QRCompactWY{Float64,Array{Float64,2}}\n",
       "Q factor:\n",
       "950×950 LinearAlgebra.QRCompactWYQ{Float64,Array{Float64,2}}:\n",
       " -0.00219086   -0.0109498     0.00160354   …   0.0260315    -0.0442697\n",
       " -0.0109498     0.99988       1.75201e-5       0.000284418  -0.000483687\n",
       "  0.00160354    1.75201e-5    0.999997        -4.16513e-5    7.0833e-5\n",
       "  0.013761      0.000150352  -2.20181e-5      -0.000357438   0.000607866\n",
       " -0.063161     -0.000690091   0.00010106       0.00164058   -0.00279001\n",
       "  0.0471475     0.000515129  -7.54375e-5   …  -0.00122464    0.00208264\n",
       "  0.069209      0.000756171  -0.000110737     -0.00179768    0.00305717\n",
       " -0.00137804   -1.50563e-5    2.20491e-6       3.5794e-5    -6.0872e-5\n",
       "  0.0275082     0.000300552  -4.4014e-5       -0.000714515   0.00121512\n",
       "  0.043181      0.000471792  -6.90911e-5      -0.00112161    0.00190743\n",
       " -0.000328639  -3.59068e-6    5.25833e-7   …   8.53627e-6   -1.45169e-5\n",
       "  0.0580574     0.00063433   -9.28937e-5      -0.00150802    0.00256457\n",
       "  0.0527232     0.000576049  -8.43589e-5      -0.00136947    0.00232894\n",
       "  ⋮                                        ⋱                \n",
       "  0.0252105     0.000275448  -4.03377e-5      -0.000654834   0.00111362\n",
       " -0.00278072   -3.03819e-5    4.44924e-6       7.22281e-5   -0.000122833\n",
       " -0.00300946   -3.28811e-5    4.81524e-6   …   7.81696e-5   -0.000132937\n",
       "  0.0302566     0.000330581  -4.84115e-5      -0.000785904   0.00133652\n",
       " -0.016706     -0.000182528   2.67301e-5       0.000433932  -0.000737952\n",
       " -0.0124847    -0.000136407   1.9976e-5        0.000324286  -0.000551488\n",
       "  0.059542      0.00065055   -9.52692e-5      -0.00154658    0.00263015\n",
       " -0.0243819    -0.000266394   3.90118e-5   …   0.00063331   -0.00107702\n",
       " -0.015165     -0.000165691   2.42645e-5       0.000393905  -0.000669883\n",
       " -0.0375066    -0.000409794   6.00118e-5       0.00097422   -0.00165678\n",
       "  0.0260315     0.000284418  -4.16513e-5       0.999324      0.00114989\n",
       " -0.0442697    -0.000483687   7.0833e-5        0.00114989    0.998044\n",
       "R factor:\n",
       "1×1 Array{Float64,2}:\n",
       " 30.54386865189192"
      ]
     },
     "execution_count": 74,
     "metadata": {},
     "output_type": "execute_result"
    }
   ],
   "source": [
    "timing()"
   ]
  },
  {
   "cell_type": "code",
   "execution_count": 16,
   "metadata": {},
   "outputs": [
    {
     "data": {
      "text/plain": [
       "8-element Array{Float64,1}:\n",
       " 0.2349974942990817\n",
       " 0.351895438453913\n",
       " 0.267945347873556\n",
       " 0.11283549249688966\n",
       " 0.37889365830058164\n",
       " 0.2952326851102279\n",
       " 0.19610952117418562\n",
       " 0.26764189906926694"
      ]
     },
     "execution_count": 16,
     "metadata": {},
     "output_type": "execute_result"
    }
   ],
   "source": [
    "addedψ = evaluate_basis(fnew.f, X, addedidx)[:,1]"
   ]
  },
  {
   "cell_type": "code",
   "execution_count": 18,
   "metadata": {},
   "outputs": [
    {
     "data": {
      "text/plain": [
       "timing (generic function with 1 method)"
      ]
     },
     "execution_count": 18,
     "metadata": {},
     "output_type": "execute_result"
    }
   ],
   "source": [
    "function timing()\n",
    "    @btime begin\n",
    "        X = randn(2,1000)\n",
    "        ψ = evaluate_basis(fnew.f, X, getidx(C))\n",
    "        addedψ = evaluate_basis(fnew.f, X, addedidx)[:,1]\n",
    "        ψnew = evaluate_basis(fnew.f, X)\n",
    "    end\n",
    "    @btime begin\n",
    "        X = randn(2,1000)\n",
    "        ψ = evaluate_basis(fnew.f, X, getidx(C))\n",
    "        addedψ = evaluate_basis(fnew.f, X, addedidx)[:,1]\n",
    "        ψnew = evaluate_basis(fnew.f, X)\n",
    "        qr(ψ)\n",
    "        qr(ψnew)\n",
    "    end\n",
    "    \n",
    "    @btime begin\n",
    "        X = randn(2,1000)\n",
    "        ψ = evaluate_basis(fnew.f, X, getidx(C))\n",
    "        addedψ = evaluate_basis(fnew.f, X, addedidx)[:,1]\n",
    "        ψnew = evaluate_basis(fnew.f, X)\n",
    "        F =  UpdatableQR(ψ)\n",
    "        add_column_householder!(F, addedψ)\n",
    "    end\n",
    "end\n",
    "# timing()"
   ]
  },
  {
   "cell_type": "code",
   "execution_count": 19,
   "metadata": {},
   "outputs": [
    {
     "name": "stdout",
     "output_type": "stream",
     "text": [
      "  41.095 μs (27 allocations: 252.13 KiB)\n",
      "  75.377 μs (35 allocations: 307.69 KiB)\n",
      "  3.019 ms (51 allocations: 16.53 MiB)\n"
     ]
    },
    {
     "data": {
      "text/plain": [
       "LinearAlgebra.QRCompactWY{Float64,Array{Float64,2}}\n",
       "Q factor:\n",
       "997×997 LinearAlgebra.QRCompactWYQ{Float64,Array{Float64,2}}:\n",
       " -0.0287529     0.00401395    0.00602951   …  -0.00838241    0.00172087\n",
       "  0.00401395    0.999984     -2.35257e-5       3.27062e-5   -6.71443e-6\n",
       "  0.00602951   -2.35257e-5    0.999965         4.91292e-5   -1.0086e-5\n",
       " -0.0185508     7.23808e-5    0.000108726     -0.000151154   3.10312e-5\n",
       "  0.00277465   -1.0826e-5    -1.62622e-5       2.26082e-5   -4.64135e-6\n",
       " -0.0267242     0.000104271   0.00015663   …  -0.000217752   4.47035e-5\n",
       " -0.00134167    5.23487e-6    7.86349e-6      -1.09321e-5    2.2443e-6\n",
       " -0.0140031     5.46366e-5    8.20717e-5      -0.000114099   2.34239e-5\n",
       "  0.000514521  -2.00754e-6   -3.0156e-6        4.19238e-6   -8.60677e-7\n",
       " -0.00114365    4.46227e-6    6.70294e-6      -9.31863e-6    1.91307e-6\n",
       "  0.0051671    -2.01608e-5   -3.02843e-5   …   4.21022e-5   -8.64338e-6\n",
       "  0.0236133    -9.21334e-5   -0.000138397      0.000192404  -3.94996e-5\n",
       " -0.0381551     0.000148872   0.000223626     -0.000310893   6.38248e-5\n",
       "  ⋮                                        ⋱   ⋮            \n",
       " -0.0233643     9.11619e-5    0.000136938  …  -0.000190375   3.90831e-5\n",
       "  0.00381346   -1.48792e-5   -2.23506e-5       3.10725e-5   -6.37905e-6\n",
       "  0.00564513   -2.2026e-5    -3.3086e-5        4.59972e-5   -9.44301e-6\n",
       " -0.00671211    2.61891e-5    3.93396e-5      -5.46911e-5    1.12278e-5\n",
       "  0.0173852    -6.78331e-5   -0.000101895      0.000141657  -2.90815e-5\n",
       "  0.0218797    -8.53694e-5   -0.000128237  …   0.000178278  -3.65997e-5\n",
       "  0.0110369    -4.30635e-5   -6.46873e-5       8.99304e-5   -1.84623e-5\n",
       " -0.0141389     5.51668e-5    8.28681e-5      -0.000115206   2.36512e-5\n",
       " -0.0324666     0.000126677   0.000190286     -0.000264542   5.43092e-5\n",
       " -0.00313859    1.2246e-5     1.83952e-5      -2.55736e-5    5.25014e-6\n",
       " -0.00838241    3.27062e-5    4.91292e-5   …   0.999932      1.40219e-5\n",
       "  0.00172087   -6.71443e-6   -1.0086e-5        1.40219e-5    0.999997\n",
       "R factor:\n",
       "1×1 Array{Float64,2}:\n",
       " 0.5462767617655364"
      ]
     },
     "execution_count": 19,
     "metadata": {},
     "output_type": "execute_result"
    }
   ],
   "source": [
    "timing()"
   ]
  },
  {
   "cell_type": "code",
   "execution_count": 70,
   "metadata": {},
   "outputs": [
    {
     "name": "stdout",
     "output_type": "stream",
     "text": [
      "  0.003614 seconds (7 allocations: 1.026 MiB)\n"
     ]
    },
    {
     "ename": "DimensionMismatch",
     "evalue": "DimensionMismatch(\"first dimensions of C, 399, and V, 600 must match\")",
     "output_type": "error",
     "traceback": [
      "DimensionMismatch(\"first dimensions of C, 399, and V, 600 must match\")",
      "",
      "Stacktrace:",
      " [1] gemqrt!(::Char, ::Char, ::Array{Float64,2}, ::Array{Float64,2}, ::Array{Float64,2}) at /buildworker/worker/package_linux64/build/usr/share/julia/stdlib/v1.5/LinearAlgebra/src/lapack.jl:2890",
      " [2] lmul! at /buildworker/worker/package_linux64/build/usr/share/julia/stdlib/v1.5/LinearAlgebra/src/qr.jl:593 [inlined]",
      " [3] *(::Adjoint{Float64,LinearAlgebra.QRCompactWYQ{Float64,Array{Float64,2}}}, ::Array{Float64,2}) at /buildworker/worker/package_linux64/build/usr/share/julia/stdlib/v1.5/LinearAlgebra/src/qr.jl:629",
      " [4] macro expansion at ./timing.jl:174 [inlined]",
      " [5] top-level scope at ./In[70]:11"
     ]
    }
   ],
   "source": [
    "n = 600\n",
    "m = 200\n",
    "\n",
    "A = rand(n,m)\n",
    "v = randn(m)\n",
    "\n",
    "@time F = qr(A);\n",
    "\n",
    "Q1 = Q[:,1:m]\n",
    "Q2 = Q[:,m+1:n]\n",
    "\n",
    "@time (F.Q' * Matrix(1.0*I,n-(m+1),m))*v\n",
    "# @time (Matrix(1.0*I,n,m) * F.Q' * Matrix(1.0*I,n,m))*v\n",
    "\n",
    "@show norm(Q1'*v)# -  (F.Q' * Matrix(1.0*I,n,m))*v)"
   ]
  },
  {
   "cell_type": "code",
   "execution_count": 68,
   "metadata": {},
   "outputs": [
    {
     "data": {
      "text/plain": [
       "600-element Array{Float64,1}:\n",
       "  0.3393175502627091\n",
       " -0.07923739197970618\n",
       " -0.04793564818244544\n",
       "  0.5023994257609604\n",
       " -0.5879280814284876\n",
       " -0.2542295709677928\n",
       " -0.2827838225106669\n",
       "  0.34285016529561674\n",
       "  0.04446674402999848\n",
       " -0.23872684384508705\n",
       " -0.16653738974274526\n",
       "  0.3206629597611629\n",
       "  0.5325823729491732\n",
       "  ⋮\n",
       "  0.7790781084491133\n",
       " -0.847503110207023\n",
       " -0.31775625941225233\n",
       "  0.1357100432473547\n",
       "  0.5333629346864788\n",
       " -0.15669164303620292\n",
       "  0.014684861419618875\n",
       "  0.4633451181623947\n",
       " -0.6122907532137764\n",
       "  0.44334346402739216\n",
       "  0.34538720884302915\n",
       " -0.16477268661352273"
      ]
     },
     "execution_count": 68,
     "metadata": {},
     "output_type": "execute_result"
    }
   ],
   "source": [
    "LAPACK"
   ]
  },
  {
   "cell_type": "code",
   "execution_count": 57,
   "metadata": {},
   "outputs": [
    {
     "data": {
      "text/plain": [
       "600×200 Array{Float64,2}:\n",
       " -0.0523633    -0.0418734    0.0283308   …  -0.0388924   -0.0318423\n",
       " -0.00622382   -0.0913915   -0.00518148      0.0425376    0.0644839\n",
       " -0.0297033     0.00468841  -0.0733061      -0.0502895   -0.0646676\n",
       " -0.000861618  -0.0608094   -0.0164761       0.0564105   -0.0414871\n",
       " -0.0340149     0.0354227   -0.0841016      -0.0694759   -0.0033802\n",
       " -0.0524819     0.0358096    0.0219657   …   7.60299e-5  -0.0334316\n",
       " -0.0586049    -0.0232633   -0.0138117       0.0571231   -0.00793514\n",
       " -0.0443538     0.00927013  -0.0439779       0.0167563    0.0132112\n",
       " -0.0280478     0.0265482    0.0159112      -0.0106056    0.0210681\n",
       " -0.0511942    -0.0341468    0.0737488       0.0109136    0.0123917\n",
       " -0.040626     -0.0514616   -0.0374266   …   0.0461387   -0.0650454\n",
       " -0.0412411    -0.0395853   -0.0129351       0.011246     0.0475822\n",
       " -0.0491494     0.0351298   -0.0556724       0.0614526   -0.0595294\n",
       "  ⋮                                      ⋱               \n",
       " -0.0168578    -0.0681455    0.00261514      0.109082     0.0512836\n",
       " -0.0290281    -0.0326054   -0.0217563      -0.0289641   -0.0124922\n",
       " -0.0616997    -0.0349323   -0.0181352   …   0.0118937    0.0294703\n",
       " -0.0622376     0.0362183   -0.0437983      -0.0357379   -0.00151907\n",
       " -0.0678841     0.0619537   -0.00821473      0.00842648  -0.0230395\n",
       " -0.0148367    -0.0848646   -0.0529612       0.0347744    0.00673147\n",
       " -0.0183593    -0.00184121  -0.0408327      -0.0548136   -0.00144363\n",
       " -0.0154893    -0.0899576    0.0438569   …   0.0433709   -0.0254458\n",
       " -0.00230772   -0.075257    -0.00875151     -0.0373905    0.0622962\n",
       " -0.0362986    -0.00254945  -0.0518095      -0.040414     0.020544\n",
       " -0.0237982     0.00260884  -0.0135745      -0.0152189    0.062721\n",
       " -0.0291106    -0.0630506    1.073e-5        0.0705208   -0.0339596"
      ]
     },
     "execution_count": 57,
     "metadata": {},
     "output_type": "execute_result"
    }
   ],
   "source": [
    "F.Q * Matrix(I, size(F.Q, 1), m)"
   ]
  },
  {
   "cell_type": "code",
   "execution_count": 58,
   "metadata": {},
   "outputs": [
    {
     "data": {
      "text/plain": [
       "600×200 Array{Float64,2}:\n",
       " -0.0218308   -0.00600274  -0.0877685   …  -0.0275777    -0.0181406\n",
       " -0.0187938   -0.0604356   -0.0513703       0.0813879     0.0400525\n",
       " -0.00292182  -0.0236161   -0.0672253      -0.0646949    -0.026167\n",
       " -0.0320766    0.00996783  -0.0190459       0.0123922    -0.0436413\n",
       " -0.0523644   -0.0437903    0.0422649      -0.0201705    -0.00281764\n",
       " -0.0560545   -0.0201515    0.0163621   …  -0.000560198  -0.0899267\n",
       " -0.0280973   -0.0357981    0.0301558      -0.0659816     0.0245865\n",
       " -0.0308715   -0.067648     0.0025547      -0.00426471    0.0275778\n",
       " -0.0133893   -0.0906553   -0.0583811      -0.015446      0.0134348\n",
       " -0.0237936   -0.0340595    0.0393902      -0.0588948     0.0199524\n",
       " -0.0648887    0.00188695   0.00248847  …  -0.0353354    -0.00136956\n",
       " -0.0425794   -0.0547981    0.0784          0.0760237    -0.0611772\n",
       " -0.00104564  -0.0467049   -0.0858344      -0.0297034     0.0199021\n",
       "  ⋮                                     ⋱                \n",
       " -0.060691    -0.00290695   0.0753374      -0.0201495     0.0332667\n",
       " -0.0454807   -0.0487388    0.0378109       0.0665237    -0.029875\n",
       " -0.0288062   -0.0370503   -0.0579698   …  -0.000597347  -0.0114699\n",
       " -0.01172     -0.0583253   -0.0677413       0.0127703    -0.0649678\n",
       " -0.0650448    0.0528458   -0.0144428       0.0541843     0.0406909\n",
       " -0.0346051   -0.066789     0.0623406      -0.0391017     0.0482985\n",
       " -0.0521091    0.0300385    0.0404807      -0.034988     -0.015831\n",
       " -0.0424269    0.048689     0.00686645  …  -0.0734746    -0.0375535\n",
       " -0.045277    -0.00903145  -0.0542969       0.0106842    -0.00798607\n",
       " -0.0547718   -0.0242174    0.0192003       0.061378      0.063275\n",
       " -0.0487392    0.0534442   -0.0364422       0.0815528    -0.0192951\n",
       " -0.0650704   -0.00200594   0.0260444       0.00220185    0.0365215"
      ]
     },
     "execution_count": 58,
     "metadata": {},
     "output_type": "execute_result"
    }
   ],
   "source": [
    "Q1"
   ]
  },
  {
   "cell_type": "code",
   "execution_count": 50,
   "metadata": {},
   "outputs": [
    {
     "data": {
      "text/plain": [
       "600×600 Array{Float64,2}:\n",
       " -0.0218308   -0.00600274  -0.0877685   …  -0.0488984   -0.0507896\n",
       " -0.0187938   -0.0604356   -0.0513703      -0.024539    -0.00930001\n",
       " -0.00292182  -0.0236161   -0.0672253      -0.0300917    0.0236193\n",
       " -0.0320766    0.00996783  -0.0190459       0.00494316  -0.0405474\n",
       " -0.0523644   -0.0437903    0.0422649      -0.0423611    0.0127439\n",
       " -0.0560545   -0.0201515    0.0163621   …   0.0125501   -0.0476772\n",
       " -0.0280973   -0.0357981    0.0301558      -0.072364    -0.00201243\n",
       " -0.0308715   -0.067648     0.0025547       0.0211651   -0.0757508\n",
       " -0.0133893   -0.0906553   -0.0583811       0.0672755   -0.0187294\n",
       " -0.0237936   -0.0340595    0.0393902      -0.0453405    0.0504514\n",
       " -0.0648887    0.00188695   0.00248847  …   0.00884857   0.0410842\n",
       " -0.0425794   -0.0547981    0.0784          0.0407478   -0.0180079\n",
       " -0.00104564  -0.0467049   -0.0858344       0.00935092   0.0966249\n",
       "  ⋮                                     ⋱               \n",
       " -0.060691    -0.00290695   0.0753374       0.00796377  -0.0199785\n",
       " -0.0454807   -0.0487388    0.0378109       0.006834     0.00839284\n",
       " -0.0288062   -0.0370503   -0.0579698   …   0.0106127    0.00124587\n",
       " -0.01172     -0.0583253   -0.0677413       0.00672421   0.03757\n",
       " -0.0650448    0.0528458   -0.0144428      -0.027616    -0.0307046\n",
       " -0.0346051   -0.066789     0.0623406      -0.00626648  -0.0113025\n",
       " -0.0521091    0.0300385    0.0404807      -0.0199353   -0.0107189\n",
       " -0.0424269    0.048689     0.00686645  …  -0.0167996    0.0138181\n",
       " -0.045277    -0.00903145  -0.0542969       0.00639959   0.0185496\n",
       " -0.0547718   -0.0242174    0.0192003      -0.0314543    0.0146062\n",
       " -0.0487392    0.0534442   -0.0364422       0.671589    -0.0374437\n",
       " -0.0650704   -0.00200594   0.0260444       0.00833625   0.679137"
      ]
     },
     "execution_count": 50,
     "metadata": {},
     "output_type": "execute_result"
    }
   ],
   "source": [
    "Q = F.Q*Matrix(1.0*I,n,n)"
   ]
  },
  {
   "cell_type": "code",
   "execution_count": 51,
   "metadata": {},
   "outputs": [
    {
     "data": {
      "text/plain": [
       "600×200 Array{Float64,2}:\n",
       " -0.0218308   -0.00600274  -0.0877685   …  -0.0275777    -0.0181406\n",
       " -0.0187938   -0.0604356   -0.0513703       0.0813879     0.0400525\n",
       " -0.00292182  -0.0236161   -0.0672253      -0.0646949    -0.026167\n",
       " -0.0320766    0.00996783  -0.0190459       0.0123922    -0.0436413\n",
       " -0.0523644   -0.0437903    0.0422649      -0.0201705    -0.00281764\n",
       " -0.0560545   -0.0201515    0.0163621   …  -0.000560198  -0.0899267\n",
       " -0.0280973   -0.0357981    0.0301558      -0.0659816     0.0245865\n",
       " -0.0308715   -0.067648     0.0025547      -0.00426471    0.0275778\n",
       " -0.0133893   -0.0906553   -0.0583811      -0.015446      0.0134348\n",
       " -0.0237936   -0.0340595    0.0393902      -0.0588948     0.0199524\n",
       " -0.0648887    0.00188695   0.00248847  …  -0.0353354    -0.00136956\n",
       " -0.0425794   -0.0547981    0.0784          0.0760237    -0.0611772\n",
       " -0.00104564  -0.0467049   -0.0858344      -0.0297034     0.0199021\n",
       "  ⋮                                     ⋱                \n",
       " -0.060691    -0.00290695   0.0753374      -0.0201495     0.0332667\n",
       " -0.0454807   -0.0487388    0.0378109       0.0665237    -0.029875\n",
       " -0.0288062   -0.0370503   -0.0579698   …  -0.000597347  -0.0114699\n",
       " -0.01172     -0.0583253   -0.0677413       0.0127703    -0.0649678\n",
       " -0.0650448    0.0528458   -0.0144428       0.0541843     0.0406909\n",
       " -0.0346051   -0.066789     0.0623406      -0.0391017     0.0482985\n",
       " -0.0521091    0.0300385    0.0404807      -0.034988     -0.015831\n",
       " -0.0424269    0.048689     0.00686645  …  -0.0734746    -0.0375535\n",
       " -0.045277    -0.00903145  -0.0542969       0.0106842    -0.00798607\n",
       " -0.0547718   -0.0242174    0.0192003       0.061378      0.063275\n",
       " -0.0487392    0.0534442   -0.0364422       0.0815528    -0.0192951\n",
       " -0.0650704   -0.00200594   0.0260444       0.00220185    0.0365215"
      ]
     },
     "execution_count": 51,
     "metadata": {},
     "output_type": "execute_result"
    }
   ],
   "source": []
  },
  {
   "cell_type": "code",
   "execution_count": null,
   "metadata": {},
   "outputs": [],
   "source": []
  },
  {
   "cell_type": "code",
   "execution_count": null,
   "metadata": {},
   "outputs": [],
   "source": []
  },
  {
   "cell_type": "code",
   "execution_count": null,
   "metadata": {},
   "outputs": [],
   "source": []
  }
 ],
 "metadata": {
  "kernelspec": {
   "display_name": "Julia 1.5.0",
   "language": "julia",
   "name": "julia-1.5"
  },
  "language_info": {
   "file_extension": ".jl",
   "mimetype": "application/julia",
   "name": "julia",
   "version": "1.5.0"
  }
 },
 "nbformat": 4,
 "nbformat_minor": 2
}
