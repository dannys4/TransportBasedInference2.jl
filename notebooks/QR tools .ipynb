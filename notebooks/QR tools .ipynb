{
 "cells": [
  {
   "cell_type": "code",
   "execution_count": 1,
   "metadata": {},
   "outputs": [
    {
     "name": "stderr",
     "output_type": "stream",
     "text": [
      "\u001b[32m\u001b[1m Activating\u001b[22m\u001b[39m environment at `/media/mat/HDD/AdaptiveTransportMap/Project.toml`\n"
     ]
    }
   ],
   "source": [
    "using Pkg\n",
    "Pkg.activate(\"/media/mat/HDD/AdaptiveTransportMap/\")"
   ]
  },
  {
   "cell_type": "code",
   "execution_count": 2,
   "metadata": {},
   "outputs": [
    {
     "name": "stderr",
     "output_type": "stream",
     "text": [
      "┌ Info: Precompiling AdaptiveTransportMap [bdf749b0-1400-4207-80d3-e689c0e3f03d]\n",
      "└ @ Base loading.jl:1278\n"
     ]
    }
   ],
   "source": [
    "using Revise\n",
    "using AdaptiveTransportMap\n",
    "using LinearAlgebra\n",
    "import LinearAlgebra: ldiv!, dot\n",
    "using Test\n",
    "using ForwardDiff\n",
    "using SpecialFunctions\n",
    "using BenchmarkTools\n",
    "using TransportMap\n",
    "using QuadGK\n",
    "using Polynomials\n",
    "using Distributions\n",
    "using Random\n",
    "using LoopVectorization\n",
    "using Optim\n",
    "using NLsolve\n",
    "using MLDataUtils\n",
    "using MLDataPattern\n",
    "using Test\n",
    "using SparseArrays\n",
    "using AdaptiveTransportMap: vander, transform!, evaluate, ncoeff, optimize, negative_log_likelihood!, derivative\n",
    "\n",
    "# using Profile\n",
    "# using ProfileView\n",
    "using StaticArrays\n",
    "using QRupdate"
   ]
  },
  {
   "cell_type": "code",
   "execution_count": 8,
   "metadata": {},
   "outputs": [],
   "source": [
    "Nx = 2\n",
    "Ne = 8\n",
    "m = 20\n",
    "\n",
    "X =  Matrix([0.267333   1.43021;\n",
    "      0.364979   0.607224;\n",
    "     -1.23693    0.249277;\n",
    "     -2.0526     0.915629;\n",
    "     -0.182465   0.415874;\n",
    "      0.412907   1.01672;\n",
    "      1.41332   -0.918205;\n",
    "      0.766647  -1.00445]');\n",
    "\n",
    "# X = randn(Nx, Ne)\n",
    "\n",
    "idx = [0 0; 0 1; 1 0]\n",
    "\n",
    "Nψ = 3#size(idx,1)\n",
    "\n",
    "coeff = [-0.28829821609289064;\n",
    "         -1.1768877197305714;\n",
    "          0.40090743090076547];\n",
    "#           1.101330816362896];\n",
    "C = MapComponent(m, Nx, idx, coeff; α = 0.0);"
   ]
  },
  {
   "cell_type": "code",
   "execution_count": 11,
   "metadata": {},
   "outputs": [
    {
     "name": "stdout",
     "output_type": "stream",
     "text": [
      "  0.000020 seconds (32 allocations: 5.281 KiB)\n"
     ]
    }
   ],
   "source": [
    "# R = UpperTriangular(qr(S.ψoff .* S.ψd).R)\n",
    "@time S = Storage(C.I.f, X)\n",
    "# F = QRscaling(R, S.ψnorm);"
   ]
  },
  {
   "cell_type": "code",
   "execution_count": 48,
   "metadata": {},
   "outputs": [
    {
     "data": {
      "text/plain": [
       "3-element Array{Float64,1}:\n",
       " 4.05746087637728\n",
       " 0.3881750820002722\n",
       " 0.2304407164032014"
      ]
     },
     "execution_count": 48,
     "metadata": {},
     "output_type": "execute_result"
    }
   ],
   "source": [
    "c̃oeff = F.U*coeff"
   ]
  },
  {
   "cell_type": "code",
   "execution_count": 50,
   "metadata": {},
   "outputs": [
    {
     "data": {
      "text/plain": [
       "3-element Array{Float64,1}:\n",
       " -0.28829821609289064\n",
       " -1.1768877197305716\n",
       "  0.4009074309007655"
      ]
     },
     "execution_count": 50,
     "metadata": {},
     "output_type": "execute_result"
    }
   ],
   "source": [
    "lmul!(F.Uinv, c̃oeff)"
   ]
  },
  {
   "cell_type": "code",
   "execution_count": 15,
   "metadata": {},
   "outputs": [
    {
     "name": "stdout",
     "output_type": "stream",
     "text": [
      "  0.000042 seconds (153 allocations: 16.922 KiB)\n"
     ]
    },
    {
     "data": {
      "text/plain": [
       "1.3271538795196385"
      ]
     },
     "execution_count": 15,
     "metadata": {},
     "output_type": "execute_result"
    }
   ],
   "source": [
    "J = 0.0\n",
    "dJ = zeros(Nψ)\n",
    "@time negative_log_likelihood!(J, dJ, coeff, S, C, X)"
   ]
  },
  {
   "cell_type": "code",
   "execution_count": 16,
   "metadata": {},
   "outputs": [
    {
     "data": {
      "text/plain": [
       "3-element Array{Float64,1}:\n",
       " -0.4251153538710222\n",
       " -0.22136527273698292\n",
       " -0.18485216244465474"
      ]
     },
     "execution_count": 16,
     "metadata": {},
     "output_type": "execute_result"
    }
   ],
   "source": [
    "dJ"
   ]
  },
  {
   "cell_type": "code",
   "execution_count": 49,
   "metadata": {},
   "outputs": [
    {
     "data": {
      "text/plain": [
       "1.3271538795196385"
      ]
     },
     "execution_count": 49,
     "metadata": {},
     "output_type": "execute_result"
    }
   ],
   "source": [
    "J = 0.0\n",
    "dJ = zeros(Nψ)\n",
    "negative_log_likelihood!(J, dJ, coeff, S, C, X)"
   ]
  },
  {
   "cell_type": "code",
   "execution_count": 42,
   "metadata": {},
   "outputs": [
    {
     "ename": "LoadError",
     "evalue": "DomainError with 0.5:\nintegrand produced NaN in the interval (0.0, 1.0)",
     "output_type": "error",
     "traceback": [
      "DomainError with 0.5:\nintegrand produced NaN in the interval (0.0, 1.0)",
      "",
      "Stacktrace:",
      " [1] evalrule(::QuadGK.InplaceIntegrand{AdaptiveTransportMap.var\"#integrand!#101\"{Storage,MapComponent,Int64,Int64,SubArray{Float64,1,Array{Float64,2},Tuple{Int64,Base.Slice{Base.OneTo{Int64}}},true},Array{Float64,1}},Array{Float64,1},Array{Float64,1}}, ::Float64, ::Float64, ::Array{Float64,1}, ::Array{Float64,1}, ::Array{Float64,1}, ::typeof(norm)) at /home/mat/.julia/packages/QuadGK/zzx9s/src/evalrule.jl:84",
      " [2] #2 at /home/mat/.julia/packages/QuadGK/zzx9s/src/adapt.jl:10 [inlined]",
      " [3] ntuple at ./ntuple.jl:41 [inlined]",
      " [4] do_quadgk(::QuadGK.InplaceIntegrand{AdaptiveTransportMap.var\"#integrand!#101\"{Storage,MapComponent,Int64,Int64,SubArray{Float64,1,Array{Float64,2},Tuple{Int64,Base.Slice{Base.OneTo{Int64}}},true},Array{Float64,1}},Array{Float64,1},Array{Float64,1}}, ::Tuple{Float64,Float64}, ::Int64, ::Nothing, ::Float64, ::Int64, ::typeof(norm)) at /home/mat/.julia/packages/QuadGK/zzx9s/src/adapt.jl:10",
      " [5] #28 at /home/mat/.julia/packages/QuadGK/zzx9s/src/adapt.jl:179 [inlined]",
      " [6] handle_infinities at /home/mat/.julia/packages/QuadGK/zzx9s/src/adapt.jl:113 [inlined]",
      " [7] #quadgk#27 at /home/mat/.julia/packages/QuadGK/zzx9s/src/adapt.jl:177 [inlined]",
      " [8] #quadgk!#30 at /home/mat/.julia/packages/QuadGK/zzx9s/src/adapt.jl:205 [inlined]",
      " [9] qrnegative_log_likelihood!(::Float64, ::Array{Float64,1}, ::Array{Float64,1}, ::Array{Float64,2}, ::Array{Float64,2}, ::Array{Float64,2}, ::Storage, ::MapComponent, ::Array{Float64,2}) at /media/mat/HDD/AdaptiveTransportMap/src/mapcomponent/qraccelerated.jl:47",
      " [10] top-level scope at In[42]:3",
      " [11] include_string(::Function, ::Module, ::String, ::String) at ./loading.jl:1091"
     ]
    }
   ],
   "source": [
    "J̃ = 0.0\n",
    "dJ̃ = zeros(Nψ)\n",
    "qrnegative_log_likelihood!(J̃, dJ̃, c̃oeff, D, R, Rinv, S, C, X)"
   ]
  },
  {
   "cell_type": "markdown",
   "metadata": {},
   "source": [
    "### With update of the storage"
   ]
  },
  {
   "cell_type": "code",
   "execution_count": null,
   "metadata": {},
   "outputs": [],
   "source": [
    "Nx = 2\n",
    "Ne = 8\n",
    "m = 20\n",
    "\n",
    "X =  Matrix([0.267333   1.43021;\n",
    "      0.364979   0.607224;\n",
    "     -1.23693    0.249277;\n",
    "     -2.0526     0.915629;\n",
    "     -0.182465   0.415874;\n",
    "      0.412907   1.01672;\n",
    "      1.41332   -0.918205;\n",
    "      0.766647  -1.00445]');\n",
    "\n",
    "# X = randn(Nx, Ne)\n",
    "\n",
    "idx = [0 0; 0 1; 1 0]\n",
    "\n",
    "Nψ = 4#size(idx,1)\n",
    "\n",
    "coeff = [-0.28829821609289064;\n",
    "         -1.1768877197305714;\n",
    "          0.40090743090076547];\n",
    "#           1.101330816362896];\n",
    "C = MapComponent(m, Nx, idx, coeff);\n",
    "\n",
    "addedidx = reshape([1 1], (1,2))\n",
    "addedcoeff = [0.1910678298362849]"
   ]
  },
  {
   "cell_type": "code",
   "execution_count": 6,
   "metadata": {},
   "outputs": [
    {
     "data": {
      "text/plain": [
       "ParametricFunction(ExpandedFunction(20, 4, 2, MultiBasis(Basis of 20 functions: Constant -> 18th degree Probabilistic Hermite function\n",
       ", 2), [0 0; 0 1; 1 0; 1 1], [-0.28829821609289064, -1.1768877197305714, 0.40090743090076547, 0.1910678298362849]))"
      ]
     },
     "execution_count": 6,
     "metadata": {},
     "output_type": "execute_result"
    }
   ],
   "source": [
    "fnew = ParametricFunction(ExpandedFunction(C.I.f.f.B, vcat(getidx(C), addedidx), vcat(getcoeff(C), addedcoeff)))"
   ]
  },
  {
   "cell_type": "code",
   "execution_count": 7,
   "metadata": {},
   "outputs": [
    {
     "data": {
      "text/plain": [
       "8×4 Array{Float64,2}:\n",
       " 1.0  0.378763  0.620434  0.234997\n",
       " 1.0  0.575999  0.610931  0.351895\n",
       " 1.0  0.621883  0.430862  0.267945\n",
       " 1.0  0.512188  0.220301  0.112835\n",
       " 1.0  0.604891  0.626383  0.378894\n",
       " 1.0  0.487776  0.605263  0.295233\n",
       " 1.0  0.511584  0.383338  0.19611\n",
       " 1.0  0.490809  0.545307  0.267642"
      ]
     },
     "execution_count": 7,
     "metadata": {},
     "output_type": "execute_result"
    }
   ],
   "source": [
    "ψ = evaluate_basis(fnew.f, X, getidx(C))\n",
    "addedψ = evaluate_basis(fnew.f, X, addedidx)\n",
    "ψnew = evaluate_basis(fnew.f, X);\n",
    "\n",
    "F = qr(ψ);\n",
    "R = F.R\n"
   ]
  },
  {
   "cell_type": "code",
   "execution_count": 23,
   "metadata": {},
   "outputs": [],
   "source": []
  }
 ],
 "metadata": {
  "kernelspec": {
   "display_name": "Julia 1.5.0",
   "language": "julia",
   "name": "julia-1.5"
  },
  "language_info": {
   "file_extension": ".jl",
   "mimetype": "application/julia",
   "name": "julia",
   "version": "1.5.0"
  }
 },
 "nbformat": 4,
 "nbformat_minor": 2
}
