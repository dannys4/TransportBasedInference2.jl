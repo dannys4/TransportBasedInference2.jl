{
 "cells": [
  {
   "cell_type": "code",
   "execution_count": 1,
   "metadata": {},
   "outputs": [
    {
     "name": "stderr",
     "output_type": "stream",
     "text": [
      "\u001b[32m\u001b[1m Activating\u001b[22m\u001b[39m environment at `/media/mat/HDD/AdaptiveTransportMap/Project.toml`\n"
     ]
    }
   ],
   "source": [
    "using Pkg\n",
    "Pkg.activate(\"/media/mat/HDD/AdaptiveTransportMap/\")"
   ]
  },
  {
   "cell_type": "code",
   "execution_count": 2,
   "metadata": {},
   "outputs": [],
   "source": [
    "using Revise\n",
    "using AdaptiveTransportMap\n",
    "using LinearAlgebra\n",
    "import LinearAlgebra: ldiv!, dot\n",
    "using Test\n",
    "using ForwardDiff\n",
    "using SpecialFunctions\n",
    "using BenchmarkTools\n",
    "using TransportMap\n",
    "using QuadGK\n",
    "using Polynomials\n",
    "using Distributions\n",
    "using Random\n",
    "using LoopVectorization\n",
    "using Optim\n",
    "using NLsolve\n",
    "using MLDataUtils\n",
    "using MLDataPattern\n",
    "using Test\n",
    "using SparseArrays\n",
    "using AdaptiveTransportMap: vander, transform!, evaluate, ncoeff, optimize, negative_log_likelihood!, derivative\n",
    "\n",
    "# using Profile\n",
    "# using ProfileView\n",
    "using StaticArrays\n",
    "using QRupdate\n",
    "using Plots"
   ]
  },
  {
   "cell_type": "code",
   "execution_count": 114,
   "metadata": {},
   "outputs": [],
   "source": [
    "Nx = 3\n",
    "Ne = 8\n",
    "m = 20\n",
    "\n",
    "idx = [0 0 0; 0 0 1; 0 1 0; 0 1 1; 0 1 2; 1 0 0]\n",
    "\n",
    "\n",
    "Nψ = 6\n",
    "coeff = [ 0.20649582065364197;\n",
    "         -0.5150990160472986;\n",
    "          2.630096893080717;\n",
    "          1.13653076177397;\n",
    "          0.6725837371023421;\n",
    "         -1.3126095306624133]\n",
    "# coeff = zeros(Nψ)\n",
    "# idx = rand(0:2,Nψ, Nx)\n",
    "# coeff = randn(Nψ)\n",
    "\n",
    "# coeff = [-0.28829821609289064;\n",
    "#          -1.1768877197305714;\n",
    "#           0.40090743090076547];\n",
    "coeff0 = deepcopy(coeff)\n",
    "#           1.101330816362896];\n",
    "C = MapComponent(m, Nx, idx, coeff; α = 1e-6);\n",
    "C0 = deepcopy(C);"
   ]
  },
  {
   "cell_type": "code",
   "execution_count": 115,
   "metadata": {},
   "outputs": [],
   "source": [
    "X =  Matrix([ 1.12488     0.0236348   -0.958426;\n",
    "             -0.0493163   0.00323509  -0.276744;\n",
    "              1.11409     0.976117     0.256577;\n",
    "             -0.563545    0.179956    -0.418444;\n",
    "              0.0780599   0.371091    -0.742342;\n",
    "              1.77185    -0.175635     0.32151;\n",
    "             -0.869045   -0.0570977   -1.06254;\n",
    "             -0.165249   -2.70636      0.548725]')\n",
    "\n",
    "# X = randn(Nx, Ne) .* randn(Nx, Ne) + cos.(randn(Nx, Ne))\n",
    "L = LinearTransform(X)\n",
    "transform!(L, X);"
   ]
  },
  {
   "cell_type": "code",
   "execution_count": 116,
   "metadata": {},
   "outputs": [],
   "source": [
    "S = Storage(C.I.f, X)\n",
    "S̃ = Storage(C.I.f, X);"
   ]
  },
  {
   "cell_type": "code",
   "execution_count": 117,
   "metadata": {},
   "outputs": [],
   "source": [
    "F = QRscaling(S);"
   ]
  },
  {
   "cell_type": "code",
   "execution_count": 118,
   "metadata": {},
   "outputs": [
    {
     "name": "stdout",
     "output_type": "stream",
     "text": [
      "  0.000893 seconds (9.93 k allocations: 1.280 MiB)\n"
     ]
    },
    {
     "data": {
      "text/plain": [
       " * Status: success\n",
       "\n",
       " * Candidate solution\n",
       "    Final objective value:     7.190990e-01\n",
       "\n",
       " * Found with\n",
       "    Algorithm:     L-BFGS\n",
       "\n",
       " * Convergence measures\n",
       "    |x - x'|               = 8.10e-07 ≰ 0.0e+00\n",
       "    |x - x'|/|x'|          = 8.70e-09 ≰ 0.0e+00\n",
       "    |f(x) - f(x')|         = 7.77e-16 ≰ 0.0e+00\n",
       "    |f(x) - f(x')|/|f(x')| = 1.08e-15 ≰ 0.0e+00\n",
       "    |g(x)|                 = 2.39e-10 ≤ 1.0e-08\n",
       "\n",
       " * Work counters\n",
       "    Seconds run:   0  (vs limit Inf)\n",
       "    Iterations:    15\n",
       "    f(x) calls:    47\n",
       "    ∇f(x) calls:   47\n"
      ]
     },
     "execution_count": 118,
     "metadata": {},
     "output_type": "execute_result"
    }
   ],
   "source": [
    "@time res = Optim.optimize(Optim.only_fg!(negative_log_likelihood(S, C, X)), coeff, Optim.LBFGS(; m = 20),\n",
    "                           Optim.Options(store_trace=true))"
   ]
  },
  {
   "cell_type": "code",
   "execution_count": 119,
   "metadata": {},
   "outputs": [
    {
     "name": "stdout",
     "output_type": "stream",
     "text": [
      "  0.000515 seconds (5.32 k allocations: 704.828 KiB)\n"
     ]
    },
    {
     "data": {
      "text/plain": [
       " * Status: success\n",
       "\n",
       " * Candidate solution\n",
       "    Final objective value:     7.190990e-01\n",
       "\n",
       " * Found with\n",
       "    Algorithm:     L-BFGS\n",
       "\n",
       " * Convergence measures\n",
       "    |x - x'|               = 9.90e-06 ≰ 0.0e+00\n",
       "    |x - x'|/|x'|          = 1.06e-07 ≰ 0.0e+00\n",
       "    |f(x) - f(x')|         = 8.52e-14 ≰ 0.0e+00\n",
       "    |f(x) - f(x')|/|f(x')| = 1.18e-13 ≰ 0.0e+00\n",
       "    |g(x)|                 = 6.59e-10 ≤ 1.0e-08\n",
       "\n",
       " * Work counters\n",
       "    Seconds run:   0  (vs limit Inf)\n",
       "    Iterations:    10\n",
       "    f(x) calls:    25\n",
       "    ∇f(x) calls:   25\n"
      ]
     },
     "execution_count": 119,
     "metadata": {},
     "output_type": "execute_result"
    }
   ],
   "source": [
    "precond = zeros(ncoeff(C), ncoeff(C))\n",
    "precond!(precond, coeff, S, C, X)\n",
    "@time resprecond = Optim.optimize(Optim.only_fg!(negative_log_likelihood(S, C, X)), coeff,\n",
    "                           Optim.LBFGS(; m = 20, P = Preconditioner(precond)),\n",
    "                           Optim.Options(store_trace=true))"
   ]
  },
  {
   "cell_type": "code",
   "execution_count": 120,
   "metadata": {},
   "outputs": [
    {
     "name": "stdout",
     "output_type": "stream",
     "text": [
      "  0.000780 seconds (8.17 k allocations: 941.703 KiB)\n"
     ]
    },
    {
     "data": {
      "text/plain": [
       " * Status: success\n",
       "\n",
       " * Candidate solution\n",
       "    Final objective value:     7.190990e-01\n",
       "\n",
       " * Found with\n",
       "    Algorithm:     L-BFGS\n",
       "\n",
       " * Convergence measures\n",
       "    |x - x'|               = 5.64e-06 ≰ 0.0e+00\n",
       "    |x - x'|/|x'|          = 4.60e-06 ≰ 0.0e+00\n",
       "    |f(x) - f(x')|         = 4.33e-12 ≰ 0.0e+00\n",
       "    |f(x) - f(x')|/|f(x')| = 6.02e-12 ≰ 0.0e+00\n",
       "    |g(x)|                 = 2.69e-09 ≤ 1.0e-08\n",
       "\n",
       " * Work counters\n",
       "    Seconds run:   0  (vs limit Inf)\n",
       "    Iterations:    10\n",
       "    f(x) calls:    30\n",
       "    ∇f(x) calls:   30\n"
      ]
     },
     "execution_count": 120,
     "metadata": {},
     "output_type": "execute_result"
    }
   ],
   "source": [
    "S̃ = Storage(C.I.f, X)\n",
    "J̃ = 0.0\n",
    "dJ̃ = zeros(Nψ)\n",
    "c̃oeff0 = F.U*coeff0\n",
    "\n",
    "mul!(S̃.ψoffψd0, S̃.ψoffψd0, F.Uinv)\n",
    "mul!(S̃.ψoffdψxd, S̃.ψoffdψxd, F.Uinv)\n",
    "\n",
    "qrprecond = zeros(ncoeff(C), ncoeff(C))\n",
    "qrprecond!(qrprecond, c̃oeff0, F, S̃, C, X)\n",
    "\n",
    "@time r̃es = Optim.optimize(Optim.only_fg!(qrnegative_log_likelihood(F, S̃, C, X)), c̃oeff0, Optim.LBFGS(; m = 20),\n",
    "                           Optim.Options(store_trace=true))"
   ]
  },
  {
   "cell_type": "code",
   "execution_count": 121,
   "metadata": {},
   "outputs": [
    {
     "name": "stdout",
     "output_type": "stream",
     "text": [
      "  0.000679 seconds (6.82 k allocations: 788.875 KiB)\n"
     ]
    },
    {
     "data": {
      "text/plain": [
       " * Status: success\n",
       "\n",
       " * Candidate solution\n",
       "    Final objective value:     7.190990e-01\n",
       "\n",
       " * Found with\n",
       "    Algorithm:     L-BFGS\n",
       "\n",
       " * Convergence measures\n",
       "    |x - x'|               = 8.98e-07 ≰ 0.0e+00\n",
       "    |x - x'|/|x'|          = 7.32e-07 ≰ 0.0e+00\n",
       "    |f(x) - f(x')|         = 8.67e-14 ≰ 0.0e+00\n",
       "    |f(x) - f(x')|/|f(x')| = 1.21e-13 ≰ 0.0e+00\n",
       "    |g(x)|                 = 1.45e-09 ≤ 1.0e-08\n",
       "\n",
       " * Work counters\n",
       "    Seconds run:   0  (vs limit Inf)\n",
       "    Iterations:    10\n",
       "    f(x) calls:    25\n",
       "    ∇f(x) calls:   25\n"
      ]
     },
     "execution_count": 121,
     "metadata": {},
     "output_type": "execute_result"
    }
   ],
   "source": [
    "# With QR and Hessian approximation\n",
    "S̃ = Storage(C.I.f, X)\n",
    "J̃ = 0.0\n",
    "dJ̃ = zeros(Nψ)\n",
    "c̃oeff0 = F.U*coeff0\n",
    "\n",
    "S̃.ψoffψd0 .=  S̃.ψoffψd0 * F.Uinv\n",
    "S̃.ψoffdψxd .= S̃.ψoffdψxd * F.Uinv\n",
    "\n",
    "qrprecond = zeros(ncoeff(C), ncoeff(C))\n",
    "qrprecond!(qrprecond, c̃oeff0, F, S̃, C, X)\n",
    "\n",
    "@time r̃esprecond = Optim.optimize(Optim.only_fg!(qrnegative_log_likelihood(F, S̃, C, X)), c̃oeff0, \n",
    "                           Optim.LBFGS(; m = 20, P = Preconditioner(qrprecond)),\n",
    "                           Optim.Options(store_trace=true))"
   ]
  },
  {
   "cell_type": "code",
   "execution_count": 122,
   "metadata": {},
   "outputs": [
    {
     "data": {
      "text/plain": [
       "timing (generic function with 1 method)"
      ]
     },
     "execution_count": 122,
     "metadata": {},
     "output_type": "execute_result"
    }
   ],
   "source": [
    "function timing()\n",
    "    @btime res = Optim.optimize(Optim.only_fg!(negative_log_likelihood(S, C, X)), coeff, Optim.LBFGS(; m = 20),\n",
    "                           Optim.Options(store_trace=false));\n",
    "    \n",
    "    @btime resprecond = Optim.optimize(Optim.only_fg!(negative_log_likelihood(S, C, X)), coeff,\n",
    "                           Optim.LBFGS(; m = 20, P = Preconditioner(precond)));\n",
    "    \n",
    "    @btime r̃es = Optim.optimize(Optim.only_fg!(qrnegative_log_likelihood(F, S̃, C, X)), c̃oeff0, Optim.LBFGS(; m = 20),\n",
    "                           Optim.Options(store_trace=false));\n",
    "    \n",
    "    @btime r̃esprecond = Optim.optimize(Optim.only_fg!(qrnegative_log_likelihood(F, S̃, C, X)), c̃oeff0, \n",
    "                           Optim.LBFGS(; m = 20, P = Preconditioner(qrprecond)),\n",
    "                           Optim.Options(store_trace=false));\n",
    "end"
   ]
  },
  {
   "cell_type": "code",
   "execution_count": 123,
   "metadata": {},
   "outputs": [
    {
     "name": "stdout",
     "output_type": "stream",
     "text": [
      "  737.654 μs (9848 allocations: 1.27 MiB)\n",
      "  409.447 μs (5280 allocations: 699.23 KiB)\n",
      "  654.148 μs (8118 allocations: 934.67 KiB)\n",
      "  550.935 μs (6767 allocations: 781.84 KiB)\n"
     ]
    },
    {
     "data": {
      "text/plain": [
       " * Status: success\n",
       "\n",
       " * Candidate solution\n",
       "    Final objective value:     7.190990e-01\n",
       "\n",
       " * Found with\n",
       "    Algorithm:     L-BFGS\n",
       "\n",
       " * Convergence measures\n",
       "    |x - x'|               = 8.98e-07 ≰ 0.0e+00\n",
       "    |x - x'|/|x'|          = 7.32e-07 ≰ 0.0e+00\n",
       "    |f(x) - f(x')|         = 8.67e-14 ≰ 0.0e+00\n",
       "    |f(x) - f(x')|/|f(x')| = 1.21e-13 ≰ 0.0e+00\n",
       "    |g(x)|                 = 1.45e-09 ≤ 1.0e-08\n",
       "\n",
       " * Work counters\n",
       "    Seconds run:   0  (vs limit Inf)\n",
       "    Iterations:    10\n",
       "    f(x) calls:    25\n",
       "    ∇f(x) calls:   25\n"
      ]
     },
     "execution_count": 123,
     "metadata": {},
     "output_type": "execute_result"
    }
   ],
   "source": [
    "timing()"
   ]
  },
  {
   "cell_type": "code",
   "execution_count": 131,
   "metadata": {},
   "outputs": [
    {
     "data": {
      "image/svg+xml": [
       "<?xml version=\"1.0\" encoding=\"utf-8\"?>\n",
       "<svg xmlns=\"http://www.w3.org/2000/svg\" xmlns:xlink=\"http://www.w3.org/1999/xlink\" width=\"600\" height=\"400\" viewBox=\"0 0 2400 1600\">\n",
       "<defs>\n",
       "  <clipPath id=\"clip790\">\n",
       "    <rect x=\"0\" y=\"0\" width=\"2400\" height=\"1600\"/>\n",
       "  </clipPath>\n",
       "</defs>\n",
       "<path clip-path=\"url(#clip790)\" d=\"\n",
       "M0 1600 L2400 1600 L2400 0 L0 0  Z\n",
       "  \" fill=\"#ffffff\" fill-rule=\"evenodd\" fill-opacity=\"1\"/>\n",
       "<defs>\n",
       "  <clipPath id=\"clip791\">\n",
       "    <rect x=\"480\" y=\"0\" width=\"1681\" height=\"1600\"/>\n",
       "  </clipPath>\n",
       "</defs>\n",
       "<path clip-path=\"url(#clip790)\" d=\"\n",
       "M147.756 1486.45 L2352.76 1486.45 L2352.76 47.2441 L147.756 47.2441  Z\n",
       "  \" fill=\"#ffffff\" fill-rule=\"evenodd\" fill-opacity=\"1\"/>\n",
       "<defs>\n",
       "  <clipPath id=\"clip792\">\n",
       "    <rect x=\"147\" y=\"47\" width=\"2206\" height=\"1440\"/>\n",
       "  </clipPath>\n",
       "</defs>\n",
       "<polyline clip-path=\"url(#clip792)\" style=\"stroke:#000000; stroke-width:2; stroke-opacity:0.1; fill:none\" points=\"\n",
       "  487.52,1486.45 487.52,47.2441 \n",
       "  \"/>\n",
       "<polyline clip-path=\"url(#clip792)\" style=\"stroke:#000000; stroke-width:2; stroke-opacity:0.1; fill:none\" points=\"\n",
       "  903.558,1486.45 903.558,47.2441 \n",
       "  \"/>\n",
       "<polyline clip-path=\"url(#clip792)\" style=\"stroke:#000000; stroke-width:2; stroke-opacity:0.1; fill:none\" points=\"\n",
       "  1319.6,1486.45 1319.6,47.2441 \n",
       "  \"/>\n",
       "<polyline clip-path=\"url(#clip792)\" style=\"stroke:#000000; stroke-width:2; stroke-opacity:0.1; fill:none\" points=\"\n",
       "  1735.63,1486.45 1735.63,47.2441 \n",
       "  \"/>\n",
       "<polyline clip-path=\"url(#clip792)\" style=\"stroke:#000000; stroke-width:2; stroke-opacity:0.1; fill:none\" points=\"\n",
       "  2151.67,1486.45 2151.67,47.2441 \n",
       "  \"/>\n",
       "<polyline clip-path=\"url(#clip792)\" style=\"stroke:#000000; stroke-width:2; stroke-opacity:0.1; fill:none\" points=\"\n",
       "  147.756,1335.13 2352.76,1335.13 \n",
       "  \"/>\n",
       "<polyline clip-path=\"url(#clip792)\" style=\"stroke:#000000; stroke-width:2; stroke-opacity:0.1; fill:none\" points=\"\n",
       "  147.756,1061.76 2352.76,1061.76 \n",
       "  \"/>\n",
       "<polyline clip-path=\"url(#clip792)\" style=\"stroke:#000000; stroke-width:2; stroke-opacity:0.1; fill:none\" points=\"\n",
       "  147.756,788.385 2352.76,788.385 \n",
       "  \"/>\n",
       "<polyline clip-path=\"url(#clip792)\" style=\"stroke:#000000; stroke-width:2; stroke-opacity:0.1; fill:none\" points=\"\n",
       "  147.756,515.01 2352.76,515.01 \n",
       "  \"/>\n",
       "<polyline clip-path=\"url(#clip792)\" style=\"stroke:#000000; stroke-width:2; stroke-opacity:0.1; fill:none\" points=\"\n",
       "  147.756,241.635 2352.76,241.635 \n",
       "  \"/>\n",
       "<polyline clip-path=\"url(#clip790)\" style=\"stroke:#000000; stroke-width:4; stroke-opacity:1; fill:none\" points=\"\n",
       "  147.756,1486.45 2352.76,1486.45 \n",
       "  \"/>\n",
       "<polyline clip-path=\"url(#clip790)\" style=\"stroke:#000000; stroke-width:4; stroke-opacity:1; fill:none\" points=\"\n",
       "  147.756,1486.45 147.756,47.2441 \n",
       "  \"/>\n",
       "<polyline clip-path=\"url(#clip790)\" style=\"stroke:#000000; stroke-width:4; stroke-opacity:1; fill:none\" points=\"\n",
       "  487.52,1486.45 487.52,1469.18 \n",
       "  \"/>\n",
       "<polyline clip-path=\"url(#clip790)\" style=\"stroke:#000000; stroke-width:4; stroke-opacity:1; fill:none\" points=\"\n",
       "  903.558,1486.45 903.558,1469.18 \n",
       "  \"/>\n",
       "<polyline clip-path=\"url(#clip790)\" style=\"stroke:#000000; stroke-width:4; stroke-opacity:1; fill:none\" points=\"\n",
       "  1319.6,1486.45 1319.6,1469.18 \n",
       "  \"/>\n",
       "<polyline clip-path=\"url(#clip790)\" style=\"stroke:#000000; stroke-width:4; stroke-opacity:1; fill:none\" points=\"\n",
       "  1735.63,1486.45 1735.63,1469.18 \n",
       "  \"/>\n",
       "<polyline clip-path=\"url(#clip790)\" style=\"stroke:#000000; stroke-width:4; stroke-opacity:1; fill:none\" points=\"\n",
       "  2151.67,1486.45 2151.67,1469.18 \n",
       "  \"/>\n",
       "<polyline clip-path=\"url(#clip790)\" style=\"stroke:#000000; stroke-width:4; stroke-opacity:1; fill:none\" points=\"\n",
       "  147.756,1335.13 174.216,1335.13 \n",
       "  \"/>\n",
       "<polyline clip-path=\"url(#clip790)\" style=\"stroke:#000000; stroke-width:4; stroke-opacity:1; fill:none\" points=\"\n",
       "  147.756,1061.76 174.216,1061.76 \n",
       "  \"/>\n",
       "<polyline clip-path=\"url(#clip790)\" style=\"stroke:#000000; stroke-width:4; stroke-opacity:1; fill:none\" points=\"\n",
       "  147.756,788.385 174.216,788.385 \n",
       "  \"/>\n",
       "<polyline clip-path=\"url(#clip790)\" style=\"stroke:#000000; stroke-width:4; stroke-opacity:1; fill:none\" points=\"\n",
       "  147.756,515.01 174.216,515.01 \n",
       "  \"/>\n",
       "<polyline clip-path=\"url(#clip790)\" style=\"stroke:#000000; stroke-width:4; stroke-opacity:1; fill:none\" points=\"\n",
       "  147.756,241.635 174.216,241.635 \n",
       "  \"/>\n",
       "<path clip-path=\"url(#clip790)\" d=\"M 0 0 M491.768 1521.29 Q495.124 1522 496.999 1524.27 Q498.897 1526.54 498.897 1529.87 Q498.897 1534.99 495.379 1537.79 Q491.86 1540.59 485.379 1540.59 Q483.203 1540.59 480.888 1540.15 Q478.596 1539.73 476.143 1538.88 L476.143 1534.36 Q478.087 1535.5 480.402 1536.08 Q482.717 1536.66 485.24 1536.66 Q489.638 1536.66 491.93 1534.92 Q494.244 1533.18 494.244 1529.87 Q494.244 1526.82 492.092 1525.11 Q489.962 1523.37 486.143 1523.37 L482.115 1523.37 L482.115 1519.53 L486.328 1519.53 Q489.777 1519.53 491.605 1518.16 Q493.434 1516.77 493.434 1514.18 Q493.434 1511.52 491.536 1510.11 Q489.661 1508.67 486.143 1508.67 Q484.221 1508.67 482.022 1509.09 Q479.823 1509.5 477.184 1510.38 L477.184 1506.22 Q479.846 1505.48 482.161 1505.11 Q484.499 1504.73 486.559 1504.73 Q491.883 1504.73 494.985 1507.17 Q498.087 1509.57 498.087 1513.69 Q498.087 1516.56 496.443 1518.55 Q494.8 1520.52 491.768 1521.29 Z\" fill=\"#000000\" fill-rule=\"evenodd\" fill-opacity=\"1\" /><path clip-path=\"url(#clip790)\" d=\"M 0 0 M903.963 1520.78 Q900.815 1520.78 898.963 1522.93 Q897.134 1525.08 897.134 1528.83 Q897.134 1532.56 898.963 1534.73 Q900.815 1536.89 903.963 1536.89 Q907.111 1536.89 908.94 1534.73 Q910.791 1532.56 910.791 1528.83 Q910.791 1525.08 908.94 1522.93 Q907.111 1520.78 903.963 1520.78 M913.245 1506.12 L913.245 1510.38 Q911.486 1509.55 909.68 1509.11 Q907.898 1508.67 906.139 1508.67 Q901.509 1508.67 899.055 1511.8 Q896.625 1514.92 896.278 1521.24 Q897.643 1519.23 899.704 1518.16 Q901.764 1517.07 904.241 1517.07 Q909.449 1517.07 912.458 1520.24 Q915.49 1523.39 915.49 1528.83 Q915.49 1534.16 912.342 1537.37 Q909.194 1540.59 903.963 1540.59 Q897.967 1540.59 894.796 1536.01 Q891.625 1531.4 891.625 1522.67 Q891.625 1514.48 895.514 1509.62 Q899.403 1504.73 905.953 1504.73 Q907.713 1504.73 909.495 1505.08 Q911.301 1505.43 913.245 1506.12 Z\" fill=\"#000000\" fill-rule=\"evenodd\" fill-opacity=\"1\" /><path clip-path=\"url(#clip790)\" d=\"M 0 0 M1309.9 1539.2 L1309.9 1534.94 Q1311.66 1535.78 1313.46 1536.22 Q1315.27 1536.66 1317 1536.66 Q1321.63 1536.66 1324.06 1533.55 Q1326.52 1530.43 1326.86 1524.09 Q1325.52 1526.08 1323.46 1527.14 Q1321.4 1528.21 1318.9 1528.21 Q1313.72 1528.21 1310.68 1525.08 Q1307.67 1521.93 1307.67 1516.49 Q1307.67 1511.17 1310.82 1507.95 Q1313.97 1504.73 1319.2 1504.73 Q1325.2 1504.73 1328.35 1509.34 Q1331.52 1513.92 1331.52 1522.67 Q1331.52 1530.85 1327.63 1535.73 Q1323.76 1540.59 1317.21 1540.59 Q1315.45 1540.59 1313.65 1540.24 Q1311.84 1539.9 1309.9 1539.2 M1319.2 1524.55 Q1322.35 1524.55 1324.18 1522.4 Q1326.03 1520.24 1326.03 1516.49 Q1326.03 1512.77 1324.18 1510.61 Q1322.35 1508.44 1319.2 1508.44 Q1316.05 1508.44 1314.2 1510.61 Q1312.37 1512.77 1312.37 1516.49 Q1312.37 1520.24 1314.2 1522.4 Q1316.05 1524.55 1319.2 1524.55 Z\" fill=\"#000000\" fill-rule=\"evenodd\" fill-opacity=\"1\" /><path clip-path=\"url(#clip790)\" d=\"M 0 0 M1713.31 1535.98 L1720.95 1535.98 L1720.95 1509.62 L1712.64 1511.29 L1712.64 1507.03 L1720.9 1505.36 L1725.58 1505.36 L1725.58 1535.98 L1733.21 1535.98 L1733.21 1539.92 L1713.31 1539.92 L1713.31 1535.98 Z\" fill=\"#000000\" fill-rule=\"evenodd\" fill-opacity=\"1\" /><path clip-path=\"url(#clip790)\" d=\"M 0 0 M1742.31 1535.98 L1758.63 1535.98 L1758.63 1539.92 L1736.69 1539.92 L1736.69 1535.98 Q1739.35 1533.23 1743.93 1528.6 Q1748.54 1523.95 1749.72 1522.61 Q1751.96 1520.08 1752.84 1518.35 Q1753.75 1516.59 1753.75 1514.9 Q1753.75 1512.14 1751.8 1510.41 Q1749.88 1508.67 1746.78 1508.67 Q1744.58 1508.67 1742.13 1509.43 Q1739.7 1510.2 1736.92 1511.75 L1736.92 1507.03 Q1739.74 1505.89 1742.2 1505.31 Q1744.65 1504.73 1746.69 1504.73 Q1752.06 1504.73 1755.25 1507.42 Q1758.45 1510.11 1758.45 1514.6 Q1758.45 1516.73 1757.64 1518.65 Q1756.85 1520.54 1754.74 1523.14 Q1754.16 1523.81 1751.06 1527.03 Q1747.96 1530.22 1742.31 1535.98 Z\" fill=\"#000000\" fill-rule=\"evenodd\" fill-opacity=\"1\" /><path clip-path=\"url(#clip790)\" d=\"M 0 0 M2129.04 1535.98 L2136.68 1535.98 L2136.68 1509.62 L2128.37 1511.29 L2128.37 1507.03 L2136.64 1505.36 L2141.31 1505.36 L2141.31 1535.98 L2148.95 1535.98 L2148.95 1539.92 L2129.04 1539.92 L2129.04 1535.98 Z\" fill=\"#000000\" fill-rule=\"evenodd\" fill-opacity=\"1\" /><path clip-path=\"url(#clip790)\" d=\"M 0 0 M2154.07 1505.36 L2172.42 1505.36 L2172.42 1509.3 L2158.35 1509.3 L2158.35 1517.77 Q2159.37 1517.42 2160.39 1517.26 Q2161.4 1517.07 2162.42 1517.07 Q2168.21 1517.07 2171.59 1520.24 Q2174.97 1523.42 2174.97 1528.83 Q2174.97 1534.41 2171.5 1537.51 Q2168.03 1540.59 2161.71 1540.59 Q2159.53 1540.59 2157.26 1540.22 Q2155.02 1539.85 2152.61 1539.11 L2152.61 1534.41 Q2154.69 1535.54 2156.91 1536.1 Q2159.14 1536.66 2161.61 1536.66 Q2165.62 1536.66 2167.96 1534.55 Q2170.29 1532.44 2170.29 1528.83 Q2170.29 1525.22 2167.96 1523.11 Q2165.62 1521.01 2161.61 1521.01 Q2159.74 1521.01 2157.86 1521.42 Q2156.01 1521.84 2154.07 1522.72 L2154.07 1505.36 Z\" fill=\"#000000\" fill-rule=\"evenodd\" fill-opacity=\"1\" /><path clip-path=\"url(#clip790)\" d=\"M 0 0 M74.9365 1320.93 Q71.3254 1320.93 69.4967 1324.5 Q67.6912 1328.04 67.6912 1335.17 Q67.6912 1342.28 69.4967 1345.84 Q71.3254 1349.38 74.9365 1349.38 Q78.5707 1349.38 80.3763 1345.84 Q82.205 1342.28 82.205 1335.17 Q82.205 1328.04 80.3763 1324.5 Q78.5707 1320.93 74.9365 1320.93 M74.9365 1317.23 Q80.7467 1317.23 83.8022 1321.84 Q86.8809 1326.42 86.8809 1335.17 Q86.8809 1343.9 83.8022 1348.5 Q80.7467 1353.09 74.9365 1353.09 Q69.1264 1353.09 66.0477 1348.5 Q62.9921 1343.9 62.9921 1335.17 Q62.9921 1326.42 66.0477 1321.84 Q69.1264 1317.23 74.9365 1317.23 Z\" fill=\"#000000\" fill-rule=\"evenodd\" fill-opacity=\"1\" /><path clip-path=\"url(#clip790)\" d=\"M 0 0 M91.9503 1346.53 L96.8345 1346.53 L96.8345 1352.41 L91.9503 1352.41 L91.9503 1346.53 Z\" fill=\"#000000\" fill-rule=\"evenodd\" fill-opacity=\"1\" /><path clip-path=\"url(#clip790)\" d=\"M 0 0 M111.904 1336 Q108.571 1336 106.649 1337.78 Q104.751 1339.57 104.751 1342.69 Q104.751 1345.82 106.649 1347.6 Q108.571 1349.38 111.904 1349.38 Q115.237 1349.38 117.159 1347.6 Q119.08 1345.79 119.08 1342.69 Q119.08 1339.57 117.159 1337.78 Q115.26 1336 111.904 1336 M107.228 1334.01 Q104.219 1333.27 102.529 1331.21 Q100.862 1329.15 100.862 1326.19 Q100.862 1322.04 103.802 1319.64 Q106.765 1317.23 111.904 1317.23 Q117.066 1317.23 120.006 1319.64 Q122.946 1322.04 122.946 1326.19 Q122.946 1329.15 121.256 1331.21 Q119.589 1333.27 116.603 1334.01 Q119.983 1334.8 121.858 1337.09 Q123.756 1339.38 123.756 1342.69 Q123.756 1347.72 120.677 1350.4 Q117.621 1353.09 111.904 1353.09 Q106.186 1353.09 103.108 1350.4 Q100.052 1347.72 100.052 1342.69 Q100.052 1339.38 101.95 1337.09 Q103.848 1334.8 107.228 1334.01 M105.515 1326.63 Q105.515 1329.31 107.182 1330.82 Q108.872 1332.32 111.904 1332.32 Q114.913 1332.32 116.603 1330.82 Q118.316 1329.31 118.316 1326.63 Q118.316 1323.94 116.603 1322.44 Q114.913 1320.93 111.904 1320.93 Q108.872 1320.93 107.182 1322.44 Q105.515 1323.94 105.515 1326.63 Z\" fill=\"#000000\" fill-rule=\"evenodd\" fill-opacity=\"1\" /><path clip-path=\"url(#clip790)\" d=\"M 0 0 M66.881 1075.1 L74.5198 1075.1 L74.5198 1048.74 L66.2097 1050.41 L66.2097 1046.15 L74.4735 1044.48 L79.1494 1044.48 L79.1494 1075.1 L86.7883 1075.1 L86.7883 1079.04 L66.881 1079.04 L66.881 1075.1 Z\" fill=\"#000000\" fill-rule=\"evenodd\" fill-opacity=\"1\" /><path clip-path=\"url(#clip790)\" d=\"M 0 0 M91.8577 1073.16 L96.7419 1073.16 L96.7419 1079.04 L91.8577 1079.04 L91.8577 1073.16 Z\" fill=\"#000000\" fill-rule=\"evenodd\" fill-opacity=\"1\" /><path clip-path=\"url(#clip790)\" d=\"M 0 0 M111.811 1047.56 Q108.2 1047.56 106.372 1051.12 Q104.566 1054.66 104.566 1061.79 Q104.566 1068.9 106.372 1072.47 Q108.2 1076.01 111.811 1076.01 Q115.446 1076.01 117.251 1072.47 Q119.08 1068.9 119.08 1061.79 Q119.08 1054.66 117.251 1051.12 Q115.446 1047.56 111.811 1047.56 M111.811 1043.85 Q117.621 1043.85 120.677 1048.46 Q123.756 1053.04 123.756 1061.79 Q123.756 1070.52 120.677 1075.13 Q117.621 1079.71 111.811 1079.71 Q106.001 1079.71 102.922 1075.13 Q99.8669 1070.52 99.8669 1061.79 Q99.8669 1053.04 102.922 1048.46 Q106.001 1043.85 111.811 1043.85 Z\" fill=\"#000000\" fill-rule=\"evenodd\" fill-opacity=\"1\" /><path clip-path=\"url(#clip790)\" d=\"M 0 0 M68.4782 801.73 L76.1171 801.73 L76.1171 775.364 L67.8069 777.031 L67.8069 772.772 L76.0708 771.105 L80.7467 771.105 L80.7467 801.73 L88.3855 801.73 L88.3855 805.665 L68.4782 805.665 L68.4782 801.73 Z\" fill=\"#000000\" fill-rule=\"evenodd\" fill-opacity=\"1\" /><path clip-path=\"url(#clip790)\" d=\"M 0 0 M93.4549 799.785 L98.3392 799.785 L98.3392 805.665 L93.4549 805.665 L93.4549 799.785 Z\" fill=\"#000000\" fill-rule=\"evenodd\" fill-opacity=\"1\" /><path clip-path=\"url(#clip790)\" d=\"M 0 0 M107.436 801.73 L123.756 801.73 L123.756 805.665 L101.811 805.665 L101.811 801.73 Q104.473 798.975 109.057 794.345 Q113.663 789.693 114.844 788.35 Q117.089 785.827 117.969 784.091 Q118.871 782.332 118.871 780.642 Q118.871 777.887 116.927 776.151 Q115.006 774.415 111.904 774.415 Q109.705 774.415 107.251 775.179 Q104.821 775.943 102.043 777.494 L102.043 772.772 Q104.867 771.637 107.321 771.059 Q109.774 770.48 111.811 770.48 Q117.182 770.48 120.376 773.165 Q123.571 775.85 123.571 780.341 Q123.571 782.471 122.76 784.392 Q121.973 786.29 119.867 788.883 Q119.288 789.554 116.186 792.771 Q113.084 795.966 107.436 801.73 Z\" fill=\"#000000\" fill-rule=\"evenodd\" fill-opacity=\"1\" /><path clip-path=\"url(#clip790)\" d=\"M 0 0 M66.3949 528.355 L74.0337 528.355 L74.0337 501.989 L65.7236 503.656 L65.7236 499.397 L73.9874 497.73 L78.6633 497.73 L78.6633 528.355 L86.3022 528.355 L86.3022 532.29 L66.3949 532.29 L66.3949 528.355 Z\" fill=\"#000000\" fill-rule=\"evenodd\" fill-opacity=\"1\" /><path clip-path=\"url(#clip790)\" d=\"M 0 0 M91.3716 526.411 L96.2558 526.411 L96.2558 532.29 L91.3716 532.29 L91.3716 526.411 Z\" fill=\"#000000\" fill-rule=\"evenodd\" fill-opacity=\"1\" /><path clip-path=\"url(#clip790)\" d=\"M 0 0 M114.172 501.804 L102.367 520.253 L114.172 520.253 L114.172 501.804 M112.946 497.73 L118.825 497.73 L118.825 520.253 L123.756 520.253 L123.756 524.142 L118.825 524.142 L118.825 532.29 L114.172 532.29 L114.172 524.142 L98.5706 524.142 L98.5706 519.628 L112.946 497.73 Z\" fill=\"#000000\" fill-rule=\"evenodd\" fill-opacity=\"1\" /><path clip-path=\"url(#clip790)\" d=\"M 0 0 M66.719 254.98 L74.3578 254.98 L74.3578 228.615 L66.0477 230.281 L66.0477 226.022 L74.3115 224.355 L78.9874 224.355 L78.9874 254.98 L86.6263 254.98 L86.6263 258.915 L66.719 258.915 L66.719 254.98 Z\" fill=\"#000000\" fill-rule=\"evenodd\" fill-opacity=\"1\" /><path clip-path=\"url(#clip790)\" d=\"M 0 0 M91.6957 253.036 L96.5799 253.036 L96.5799 258.915 L91.6957 258.915 L91.6957 253.036 Z\" fill=\"#000000\" fill-rule=\"evenodd\" fill-opacity=\"1\" /><path clip-path=\"url(#clip790)\" d=\"M 0 0 M112.228 239.772 Q109.08 239.772 107.228 241.925 Q105.399 244.078 105.399 247.828 Q105.399 251.554 107.228 253.73 Q109.08 255.883 112.228 255.883 Q115.376 255.883 117.205 253.73 Q119.057 251.554 119.057 247.828 Q119.057 244.078 117.205 241.925 Q115.376 239.772 112.228 239.772 M121.51 225.119 L121.51 229.379 Q119.751 228.545 117.946 228.105 Q116.163 227.666 114.404 227.666 Q109.774 227.666 107.321 230.791 Q104.89 233.916 104.543 240.235 Q105.909 238.221 107.969 237.156 Q110.029 236.068 112.506 236.068 Q117.714 236.068 120.723 239.24 Q123.756 242.388 123.756 247.828 Q123.756 253.152 120.608 256.369 Q117.459 259.587 112.228 259.587 Q106.233 259.587 103.061 255.003 Q99.8901 250.397 99.8901 241.67 Q99.8901 233.476 103.779 228.615 Q107.668 223.73 114.219 223.73 Q115.978 223.73 117.76 224.078 Q119.566 224.425 121.51 225.119 Z\" fill=\"#000000\" fill-rule=\"evenodd\" fill-opacity=\"1\" /><polyline clip-path=\"url(#clip792)\" style=\"stroke:#009af9; stroke-width:12; stroke-opacity:1; fill:none\" points=\"\n",
       "  210.161,87.9763 348.841,764.931 487.52,857.484 626.199,970.084 764.878,982.502 903.558,998.57 1042.24,1019.88 1180.92,1254.83 1319.6,1396.65 1458.27,1440.74 \n",
       "  1596.95,1445.62 1735.63,1445.72 1874.31,1445.72 2012.99,1445.72 2151.67,1445.72 2290.35,1445.72 \n",
       "  \"/>\n",
       "<polyline clip-path=\"url(#clip792)\" style=\"stroke:#e26f46; stroke-width:12; stroke-opacity:1; fill:none\" points=\"\n",
       "  210.161,87.9763 348.841,1088.33 487.52,1306.41 626.199,1386.71 764.878,1433.9 903.558,1444.48 1042.24,1445.59 1180.92,1445.72 1319.6,1445.72 1458.27,1445.72 \n",
       "  1596.95,1445.72 \n",
       "  \"/>\n",
       "<polyline clip-path=\"url(#clip792)\" style=\"stroke:#3da44d; stroke-width:12; stroke-opacity:1; fill:none\" points=\"\n",
       "  210.161,87.9763 348.841,918.507 487.52,1162.71 626.199,1418.9 764.878,1441.98 903.558,1445.5 1042.24,1445.71 1180.92,1445.72 1319.6,1445.72 1458.27,1445.72 \n",
       "  1596.95,1445.72 \n",
       "  \"/>\n",
       "<polyline clip-path=\"url(#clip792)\" style=\"stroke:#c271d2; stroke-width:12; stroke-opacity:1; fill:none\" points=\"\n",
       "  210.161,87.9763 348.841,1088.33 487.52,1306.41 626.199,1386.71 764.878,1433.9 903.558,1444.48 1042.24,1445.59 1180.92,1445.72 1319.6,1445.72 1458.27,1445.72 \n",
       "  1596.95,1445.72 \n",
       "  \"/>\n",
       "<path clip-path=\"url(#clip790)\" d=\"\n",
       "M1270.51 397.618 L2279.26 397.618 L2279.26 95.2176 L1270.51 95.2176  Z\n",
       "  \" fill=\"#ffffff\" fill-rule=\"evenodd\" fill-opacity=\"1\"/>\n",
       "<polyline clip-path=\"url(#clip790)\" style=\"stroke:#000000; stroke-width:4; stroke-opacity:1; fill:none\" points=\"\n",
       "  1270.51,397.618 2279.26,397.618 2279.26,95.2176 1270.51,95.2176 1270.51,397.618 \n",
       "  \"/>\n",
       "<polyline clip-path=\"url(#clip790)\" style=\"stroke:#009af9; stroke-width:4; stroke-opacity:1; fill:none\" points=\"\n",
       "  1295.01,155.698 1442.01,155.698 \n",
       "  \"/>\n",
       "<path clip-path=\"url(#clip790)\" d=\"M 0 0 M1466.51 138.418 L1471.23 138.418 L1478.5 167.63 L1485.75 138.418 L1491 138.418 L1498.27 167.63 L1505.51 138.418 L1510.26 138.418 L1501.58 172.978 L1495.7 172.978 L1488.41 142.978 L1481.05 172.978 L1475.17 172.978 L1466.51 138.418 Z\" fill=\"#000000\" fill-rule=\"evenodd\" fill-opacity=\"1\" /><path clip-path=\"url(#clip790)\" d=\"M 0 0 M1513.69 147.052 L1517.94 147.052 L1517.94 172.978 L1513.69 172.978 L1513.69 147.052 M1513.69 136.959 L1517.94 136.959 L1517.94 142.353 L1513.69 142.353 L1513.69 136.959 Z\" fill=\"#000000\" fill-rule=\"evenodd\" fill-opacity=\"1\" /><path clip-path=\"url(#clip790)\" d=\"M 0 0 M1526.63 139.691 L1526.63 147.052 L1535.4 147.052 L1535.4 150.362 L1526.63 150.362 L1526.63 164.436 Q1526.63 167.607 1527.48 168.51 Q1528.36 169.413 1531.02 169.413 L1535.4 169.413 L1535.4 172.978 L1531.02 172.978 Q1526.09 172.978 1524.22 171.149 Q1522.34 169.297 1522.34 164.436 L1522.34 150.362 L1519.22 150.362 L1519.22 147.052 L1522.34 147.052 L1522.34 139.691 L1526.63 139.691 Z\" fill=\"#000000\" fill-rule=\"evenodd\" fill-opacity=\"1\" /><path clip-path=\"url(#clip790)\" d=\"M 0 0 M1561.42 157.329 L1561.42 172.978 L1557.16 172.978 L1557.16 157.468 Q1557.16 153.788 1555.72 151.959 Q1554.29 150.13 1551.42 150.13 Q1547.97 150.13 1545.98 152.33 Q1543.99 154.529 1543.99 158.325 L1543.99 172.978 L1539.7 172.978 L1539.7 136.959 L1543.99 136.959 L1543.99 151.08 Q1545.51 148.742 1547.57 147.584 Q1549.66 146.427 1552.37 146.427 Q1556.83 146.427 1559.13 149.205 Q1561.42 151.959 1561.42 157.329 Z\" fill=\"#000000\" fill-rule=\"evenodd\" fill-opacity=\"1\" /><path clip-path=\"url(#clip790)\" d=\"M 0 0 M1575.93 150.038 Q1572.5 150.038 1570.51 152.723 Q1568.52 155.385 1568.52 160.038 Q1568.52 164.691 1570.49 167.376 Q1572.48 170.038 1575.93 170.038 Q1579.33 170.038 1581.32 167.353 Q1583.31 164.667 1583.31 160.038 Q1583.31 155.431 1581.32 152.746 Q1579.33 150.038 1575.93 150.038 M1575.93 146.427 Q1581.49 146.427 1584.66 150.038 Q1587.83 153.649 1587.83 160.038 Q1587.83 166.404 1584.66 170.038 Q1581.49 173.649 1575.93 173.649 Q1570.35 173.649 1567.18 170.038 Q1564.03 166.404 1564.03 160.038 Q1564.03 153.649 1567.18 150.038 Q1570.35 146.427 1575.93 146.427 Z\" fill=\"#000000\" fill-rule=\"evenodd\" fill-opacity=\"1\" /><path clip-path=\"url(#clip790)\" d=\"M 0 0 M1591.86 162.746 L1591.86 147.052 L1596.12 147.052 L1596.12 162.584 Q1596.12 166.265 1597.55 168.116 Q1598.99 169.945 1601.86 169.945 Q1605.31 169.945 1607.3 167.746 Q1609.31 165.547 1609.31 161.751 L1609.31 147.052 L1613.57 147.052 L1613.57 172.978 L1609.31 172.978 L1609.31 168.996 Q1607.76 171.357 1605.7 172.515 Q1603.66 173.649 1600.95 173.649 Q1596.49 173.649 1594.17 170.871 Q1591.86 168.093 1591.86 162.746 M1602.57 146.427 L1602.57 146.427 Z\" fill=\"#000000\" fill-rule=\"evenodd\" fill-opacity=\"1\" /><path clip-path=\"url(#clip790)\" d=\"M 0 0 M1622.25 139.691 L1622.25 147.052 L1631.02 147.052 L1631.02 150.362 L1622.25 150.362 L1622.25 164.436 Q1622.25 167.607 1623.11 168.51 Q1623.99 169.413 1626.65 169.413 L1631.02 169.413 L1631.02 172.978 L1626.65 172.978 Q1621.72 172.978 1619.84 171.149 Q1617.97 169.297 1617.97 164.436 L1617.97 150.362 L1614.84 150.362 L1614.84 147.052 L1617.97 147.052 L1617.97 139.691 L1622.25 139.691 Z\" fill=\"#000000\" fill-rule=\"evenodd\" fill-opacity=\"1\" /><path clip-path=\"url(#clip790)\" d=\"M 0 0 M1664.77 141.589 Q1659.68 141.589 1656.67 145.385 Q1653.68 149.181 1653.68 155.732 Q1653.68 162.26 1656.67 166.056 Q1659.68 169.853 1664.77 169.853 Q1669.87 169.853 1672.83 166.056 Q1675.81 162.26 1675.81 155.732 Q1675.81 149.181 1672.83 145.385 Q1669.87 141.589 1664.77 141.589 M1671.32 172.353 L1677.48 179.089 L1671.83 179.089 L1666.72 173.556 Q1665.95 173.603 1665.54 173.626 Q1665.14 173.649 1664.77 173.649 Q1657.48 173.649 1653.11 168.788 Q1648.75 163.904 1648.75 155.732 Q1648.75 147.538 1653.11 142.677 Q1657.48 137.793 1664.77 137.793 Q1672.04 137.793 1676.39 142.677 Q1680.74 147.538 1680.74 155.732 Q1680.74 161.751 1678.31 166.033 Q1675.91 170.316 1671.32 172.353 Z\" fill=\"#000000\" fill-rule=\"evenodd\" fill-opacity=\"1\" /><path clip-path=\"url(#clip790)\" d=\"M 0 0 M1701.79 156.774 Q1703.29 157.283 1704.7 158.95 Q1706.14 160.617 1707.57 163.533 L1712.32 172.978 L1707.3 172.978 L1702.87 164.112 Q1701.16 160.64 1699.54 159.505 Q1697.94 158.371 1695.17 158.371 L1690.07 158.371 L1690.07 172.978 L1685.4 172.978 L1685.4 138.418 L1695.95 138.418 Q1701.88 138.418 1704.8 140.894 Q1707.71 143.371 1707.71 148.371 Q1707.71 151.635 1706.18 153.788 Q1704.68 155.941 1701.79 156.774 M1690.07 142.26 L1690.07 154.529 L1695.95 154.529 Q1699.33 154.529 1701.05 152.978 Q1702.78 151.404 1702.78 148.371 Q1702.78 145.339 1701.05 143.811 Q1699.33 142.26 1695.95 142.26 L1690.07 142.26 Z\" fill=\"#000000\" fill-rule=\"evenodd\" fill-opacity=\"1\" /><polyline clip-path=\"url(#clip790)\" style=\"stroke:#e26f46; stroke-width:4; stroke-opacity:1; fill:none\" points=\"\n",
       "  1295.01,216.178 1442.01,216.178 \n",
       "  \"/>\n",
       "<path clip-path=\"url(#clip790)\" d=\"M 0 0 M1466.51 198.898 L1471.23 198.898 L1478.5 228.11 L1485.75 198.898 L1491 198.898 L1498.27 228.11 L1505.51 198.898 L1510.26 198.898 L1501.58 233.458 L1495.7 233.458 L1488.41 203.458 L1481.05 233.458 L1475.17 233.458 L1466.51 198.898 Z\" fill=\"#000000\" fill-rule=\"evenodd\" fill-opacity=\"1\" /><path clip-path=\"url(#clip790)\" d=\"M 0 0 M1513.69 207.532 L1517.94 207.532 L1517.94 233.458 L1513.69 233.458 L1513.69 207.532 M1513.69 197.439 L1517.94 197.439 L1517.94 202.833 L1513.69 202.833 L1513.69 197.439 Z\" fill=\"#000000\" fill-rule=\"evenodd\" fill-opacity=\"1\" /><path clip-path=\"url(#clip790)\" d=\"M 0 0 M1526.63 200.171 L1526.63 207.532 L1535.4 207.532 L1535.4 210.842 L1526.63 210.842 L1526.63 224.916 Q1526.63 228.087 1527.48 228.99 Q1528.36 229.893 1531.02 229.893 L1535.4 229.893 L1535.4 233.458 L1531.02 233.458 Q1526.09 233.458 1524.22 231.629 Q1522.34 229.777 1522.34 224.916 L1522.34 210.842 L1519.22 210.842 L1519.22 207.532 L1522.34 207.532 L1522.34 200.171 L1526.63 200.171 Z\" fill=\"#000000\" fill-rule=\"evenodd\" fill-opacity=\"1\" /><path clip-path=\"url(#clip790)\" d=\"M 0 0 M1561.42 217.809 L1561.42 233.458 L1557.16 233.458 L1557.16 217.948 Q1557.16 214.268 1555.72 212.439 Q1554.29 210.61 1551.42 210.61 Q1547.97 210.61 1545.98 212.81 Q1543.99 215.009 1543.99 218.805 L1543.99 233.458 L1539.7 233.458 L1539.7 197.439 L1543.99 197.439 L1543.99 211.56 Q1545.51 209.222 1547.57 208.064 Q1549.66 206.907 1552.37 206.907 Q1556.83 206.907 1559.13 209.685 Q1561.42 212.439 1561.42 217.809 Z\" fill=\"#000000\" fill-rule=\"evenodd\" fill-opacity=\"1\" /><path clip-path=\"url(#clip790)\" d=\"M 0 0 M1581.14 198.898 L1585.81 198.898 L1585.81 213.064 L1602.81 213.064 L1602.81 198.898 L1607.48 198.898 L1607.48 233.458 L1602.81 233.458 L1602.81 216.999 L1585.81 216.999 L1585.81 233.458 L1581.14 233.458 L1581.14 198.898 Z\" fill=\"#000000\" fill-rule=\"evenodd\" fill-opacity=\"1\" /><path clip-path=\"url(#clip790)\" d=\"M 0 0 M1634.12 219.43 L1634.12 221.513 L1614.54 221.513 Q1614.82 225.911 1617.18 228.226 Q1619.56 230.518 1623.8 230.518 Q1626.25 230.518 1628.55 229.916 Q1630.86 229.314 1633.13 228.11 L1633.13 232.138 Q1630.84 233.11 1628.43 233.62 Q1626.02 234.129 1623.55 234.129 Q1617.34 234.129 1613.71 230.518 Q1610.1 226.907 1610.1 220.749 Q1610.1 214.384 1613.52 210.657 Q1616.97 206.907 1622.81 206.907 Q1628.04 206.907 1631.07 210.286 Q1634.12 213.643 1634.12 219.43 M1629.87 218.18 Q1629.82 214.685 1627.9 212.601 Q1626 210.518 1622.85 210.518 Q1619.29 210.518 1617.13 212.532 Q1615 214.546 1614.68 218.203 L1629.87 218.18 Z\" fill=\"#000000\" fill-rule=\"evenodd\" fill-opacity=\"1\" /><path clip-path=\"url(#clip790)\" d=\"M 0 0 M1655.12 208.296 L1655.12 212.323 Q1653.31 211.397 1651.37 210.935 Q1649.43 210.472 1647.34 210.472 Q1644.17 210.472 1642.57 211.444 Q1641 212.416 1641 214.36 Q1641 215.842 1642.13 216.698 Q1643.27 217.532 1646.69 218.296 L1648.15 218.62 Q1652.69 219.592 1654.59 221.374 Q1656.51 223.134 1656.51 226.305 Q1656.51 229.916 1653.64 232.022 Q1650.79 234.129 1645.79 234.129 Q1643.71 234.129 1641.44 233.712 Q1639.19 233.319 1636.69 232.508 L1636.69 228.11 Q1639.06 229.337 1641.35 229.962 Q1643.64 230.564 1645.88 230.564 Q1648.89 230.564 1650.51 229.546 Q1652.13 228.504 1652.13 226.629 Q1652.13 224.893 1650.95 223.967 Q1649.8 223.041 1645.84 222.184 L1644.36 221.837 Q1640.4 221.004 1638.64 219.291 Q1636.88 217.555 1636.88 214.546 Q1636.88 210.888 1639.47 208.898 Q1642.06 206.907 1646.83 206.907 Q1649.19 206.907 1651.28 207.254 Q1653.36 207.601 1655.12 208.296 Z\" fill=\"#000000\" fill-rule=\"evenodd\" fill-opacity=\"1\" /><path clip-path=\"url(#clip790)\" d=\"M 0 0 M1677.5 208.296 L1677.5 212.323 Q1675.7 211.397 1673.75 210.935 Q1671.81 210.472 1669.73 210.472 Q1666.56 210.472 1664.96 211.444 Q1663.38 212.416 1663.38 214.36 Q1663.38 215.842 1664.52 216.698 Q1665.65 217.532 1669.08 218.296 L1670.54 218.62 Q1675.07 219.592 1676.97 221.374 Q1678.89 223.134 1678.89 226.305 Q1678.89 229.916 1676.02 232.022 Q1673.18 234.129 1668.18 234.129 Q1666.09 234.129 1663.82 233.712 Q1661.58 233.319 1659.08 232.508 L1659.08 228.11 Q1661.44 229.337 1663.73 229.962 Q1666.02 230.564 1668.27 230.564 Q1671.28 230.564 1672.9 229.546 Q1674.52 228.504 1674.52 226.629 Q1674.52 224.893 1673.34 223.967 Q1672.18 223.041 1668.22 222.184 L1666.74 221.837 Q1662.78 221.004 1661.02 219.291 Q1659.26 217.555 1659.26 214.546 Q1659.26 210.888 1661.86 208.898 Q1664.45 206.907 1669.22 206.907 Q1671.58 206.907 1673.66 207.254 Q1675.74 207.601 1677.5 208.296 Z\" fill=\"#000000\" fill-rule=\"evenodd\" fill-opacity=\"1\" /><path clip-path=\"url(#clip790)\" d=\"M 0 0 M1683.36 207.532 L1687.62 207.532 L1687.62 233.458 L1683.36 233.458 L1683.36 207.532 M1683.36 197.439 L1687.62 197.439 L1687.62 202.833 L1683.36 202.833 L1683.36 197.439 Z\" fill=\"#000000\" fill-rule=\"evenodd\" fill-opacity=\"1\" /><path clip-path=\"url(#clip790)\" d=\"M 0 0 M1703.87 220.425 Q1698.71 220.425 1696.72 221.606 Q1694.73 222.786 1694.73 225.634 Q1694.73 227.902 1696.21 229.245 Q1697.71 230.564 1700.28 230.564 Q1703.82 230.564 1705.95 228.064 Q1708.11 225.541 1708.11 221.374 L1708.11 220.425 L1703.87 220.425 M1712.37 218.666 L1712.37 233.458 L1708.11 233.458 L1708.11 229.522 Q1706.65 231.883 1704.47 233.018 Q1702.3 234.129 1699.15 234.129 Q1695.17 234.129 1692.81 231.907 Q1690.47 229.661 1690.47 225.911 Q1690.47 221.536 1693.38 219.314 Q1696.32 217.092 1702.13 217.092 L1708.11 217.092 L1708.11 216.675 Q1708.11 213.735 1706.16 212.138 Q1704.24 210.518 1700.74 210.518 Q1698.52 210.518 1696.42 211.05 Q1694.31 211.583 1692.37 212.647 L1692.37 208.712 Q1694.7 207.81 1696.9 207.37 Q1699.1 206.907 1701.18 206.907 Q1706.81 206.907 1709.59 209.823 Q1712.37 212.74 1712.37 218.666 Z\" fill=\"#000000\" fill-rule=\"evenodd\" fill-opacity=\"1\" /><path clip-path=\"url(#clip790)\" d=\"M 0 0 M1738.38 217.809 L1738.38 233.458 L1734.12 233.458 L1734.12 217.948 Q1734.12 214.268 1732.69 212.439 Q1731.25 210.61 1728.38 210.61 Q1724.93 210.61 1722.94 212.81 Q1720.95 215.009 1720.95 218.805 L1720.95 233.458 L1716.67 233.458 L1716.67 207.532 L1720.95 207.532 L1720.95 211.56 Q1722.48 209.222 1724.54 208.064 Q1726.62 206.907 1729.33 206.907 Q1733.8 206.907 1736.09 209.685 Q1738.38 212.439 1738.38 217.809 Z\" fill=\"#000000\" fill-rule=\"evenodd\" fill-opacity=\"1\" /><path clip-path=\"url(#clip790)\" d=\"M 0 0 M1769.7 220.425 Q1764.54 220.425 1762.55 221.606 Q1760.56 222.786 1760.56 225.634 Q1760.56 227.902 1762.04 229.245 Q1763.55 230.564 1766.11 230.564 Q1769.66 230.564 1771.79 228.064 Q1773.94 225.541 1773.94 221.374 L1773.94 220.425 L1769.7 220.425 M1778.2 218.666 L1778.2 233.458 L1773.94 233.458 L1773.94 229.522 Q1772.48 231.883 1770.3 233.018 Q1768.13 234.129 1764.98 234.129 Q1761 234.129 1758.64 231.907 Q1756.3 229.661 1756.3 225.911 Q1756.3 221.536 1759.22 219.314 Q1762.16 217.092 1767.97 217.092 L1773.94 217.092 L1773.94 216.675 Q1773.94 213.735 1771.99 212.138 Q1770.07 210.518 1766.58 210.518 Q1764.36 210.518 1762.25 211.05 Q1760.14 211.583 1758.2 212.647 L1758.2 208.712 Q1760.54 207.81 1762.74 207.37 Q1764.93 206.907 1767.02 206.907 Q1772.64 206.907 1775.42 209.823 Q1778.2 212.74 1778.2 218.666 Z\" fill=\"#000000\" fill-rule=\"evenodd\" fill-opacity=\"1\" /><path clip-path=\"url(#clip790)\" d=\"M 0 0 M1786.79 229.569 L1786.79 243.319 L1782.5 243.319 L1782.5 207.532 L1786.79 207.532 L1786.79 211.467 Q1788.13 209.152 1790.17 208.041 Q1792.23 206.907 1795.07 206.907 Q1799.8 206.907 1802.74 210.657 Q1805.7 214.407 1805.7 220.518 Q1805.7 226.629 1802.74 230.379 Q1799.8 234.129 1795.07 234.129 Q1792.23 234.129 1790.17 233.018 Q1788.13 231.883 1786.79 229.569 M1801.28 220.518 Q1801.28 215.819 1799.33 213.157 Q1797.41 210.472 1794.03 210.472 Q1790.65 210.472 1788.71 213.157 Q1786.79 215.819 1786.79 220.518 Q1786.79 225.217 1788.71 227.902 Q1790.65 230.564 1794.03 230.564 Q1797.41 230.564 1799.33 227.902 Q1801.28 225.217 1801.28 220.518 Z\" fill=\"#000000\" fill-rule=\"evenodd\" fill-opacity=\"1\" /><path clip-path=\"url(#clip790)\" d=\"M 0 0 M1814.29 229.569 L1814.29 243.319 L1810 243.319 L1810 207.532 L1814.29 207.532 L1814.29 211.467 Q1815.63 209.152 1817.67 208.041 Q1819.73 206.907 1822.57 206.907 Q1827.3 206.907 1830.23 210.657 Q1833.2 214.407 1833.2 220.518 Q1833.2 226.629 1830.23 230.379 Q1827.3 234.129 1822.57 234.129 Q1819.73 234.129 1817.67 233.018 Q1815.63 231.883 1814.29 229.569 M1828.78 220.518 Q1828.78 215.819 1826.83 213.157 Q1824.91 210.472 1821.53 210.472 Q1818.15 210.472 1816.21 213.157 Q1814.29 215.819 1814.29 220.518 Q1814.29 225.217 1816.21 227.902 Q1818.15 230.564 1821.53 230.564 Q1824.91 230.564 1826.83 227.902 Q1828.78 225.217 1828.78 220.518 Z\" fill=\"#000000\" fill-rule=\"evenodd\" fill-opacity=\"1\" /><path clip-path=\"url(#clip790)\" d=\"M 0 0 M1852.69 211.513 Q1851.97 211.097 1851.11 210.911 Q1850.28 210.703 1849.26 210.703 Q1845.65 210.703 1843.71 213.064 Q1841.79 215.402 1841.79 219.8 L1841.79 233.458 L1837.5 233.458 L1837.5 207.532 L1841.79 207.532 L1841.79 211.56 Q1843.13 209.198 1845.28 208.064 Q1847.43 206.907 1850.51 206.907 Q1850.95 206.907 1851.48 206.976 Q1852.02 207.023 1852.67 207.138 L1852.69 211.513 Z\" fill=\"#000000\" fill-rule=\"evenodd\" fill-opacity=\"1\" /><path clip-path=\"url(#clip790)\" d=\"M 0 0 M1866.16 210.518 Q1862.73 210.518 1860.74 213.203 Q1858.75 215.865 1858.75 220.518 Q1858.75 225.171 1860.72 227.856 Q1862.71 230.518 1866.16 230.518 Q1869.56 230.518 1871.55 227.833 Q1873.54 225.147 1873.54 220.518 Q1873.54 215.911 1871.55 213.226 Q1869.56 210.518 1866.16 210.518 M1866.16 206.907 Q1871.72 206.907 1874.89 210.518 Q1878.06 214.129 1878.06 220.518 Q1878.06 226.884 1874.89 230.518 Q1871.72 234.129 1866.16 234.129 Q1860.58 234.129 1857.41 230.518 Q1854.26 226.884 1854.26 220.518 Q1854.26 214.129 1857.41 210.518 Q1860.58 206.907 1866.16 206.907 Z\" fill=\"#000000\" fill-rule=\"evenodd\" fill-opacity=\"1\" /><path clip-path=\"url(#clip790)\" d=\"M 0 0 M1902.62 207.532 L1893.24 220.147 L1903.1 233.458 L1898.08 233.458 L1890.54 223.272 L1882.99 233.458 L1877.97 233.458 L1888.04 219.893 L1878.82 207.532 L1883.85 207.532 L1890.72 216.768 L1897.6 207.532 L1902.62 207.532 Z\" fill=\"#000000\" fill-rule=\"evenodd\" fill-opacity=\"1\" /><path clip-path=\"url(#clip790)\" d=\"M 0 0 M1907.57 207.532 L1911.83 207.532 L1911.83 233.458 L1907.57 233.458 L1907.57 207.532 M1907.57 197.439 L1911.83 197.439 L1911.83 202.833 L1907.57 202.833 L1907.57 197.439 Z\" fill=\"#000000\" fill-rule=\"evenodd\" fill-opacity=\"1\" /><path clip-path=\"url(#clip790)\" d=\"M 0 0 M1936.48 212.509 Q1938.08 209.638 1940.3 208.273 Q1942.53 206.907 1945.54 206.907 Q1949.59 206.907 1951.79 209.754 Q1953.98 212.578 1953.98 217.809 L1953.98 233.458 L1949.7 233.458 L1949.7 217.948 Q1949.7 214.222 1948.38 212.416 Q1947.06 210.61 1944.35 210.61 Q1941.04 210.61 1939.12 212.81 Q1937.2 215.009 1937.2 218.805 L1937.2 233.458 L1932.92 233.458 L1932.92 217.948 Q1932.92 214.198 1931.6 212.416 Q1930.28 210.61 1927.53 210.61 Q1924.26 210.61 1922.34 212.833 Q1920.42 215.032 1920.42 218.805 L1920.42 233.458 L1916.14 233.458 L1916.14 207.532 L1920.42 207.532 L1920.42 211.56 Q1921.88 209.175 1923.91 208.041 Q1925.95 206.907 1928.75 206.907 Q1931.58 206.907 1933.54 208.342 Q1935.54 209.777 1936.48 212.509 Z\" fill=\"#000000\" fill-rule=\"evenodd\" fill-opacity=\"1\" /><path clip-path=\"url(#clip790)\" d=\"M 0 0 M1970.23 220.425 Q1965.07 220.425 1963.08 221.606 Q1961.09 222.786 1961.09 225.634 Q1961.09 227.902 1962.57 229.245 Q1964.08 230.564 1966.65 230.564 Q1970.19 230.564 1972.32 228.064 Q1974.47 225.541 1974.47 221.374 L1974.47 220.425 L1970.23 220.425 M1978.73 218.666 L1978.73 233.458 L1974.47 233.458 L1974.47 229.522 Q1973.01 231.883 1970.84 233.018 Q1968.66 234.129 1965.51 234.129 Q1961.53 234.129 1959.17 231.907 Q1956.83 229.661 1956.83 225.911 Q1956.83 221.536 1959.75 219.314 Q1962.69 217.092 1968.5 217.092 L1974.47 217.092 L1974.47 216.675 Q1974.47 213.735 1972.53 212.138 Q1970.6 210.518 1967.11 210.518 Q1964.89 210.518 1962.78 211.05 Q1960.67 211.583 1958.73 212.647 L1958.73 208.712 Q1961.07 207.81 1963.27 207.37 Q1965.47 206.907 1967.55 206.907 Q1973.17 206.907 1975.95 209.823 Q1978.73 212.74 1978.73 218.666 Z\" fill=\"#000000\" fill-rule=\"evenodd\" fill-opacity=\"1\" /><path clip-path=\"url(#clip790)\" d=\"M 0 0 M1987.41 200.171 L1987.41 207.532 L1996.18 207.532 L1996.18 210.842 L1987.41 210.842 L1987.41 224.916 Q1987.41 228.087 1988.27 228.99 Q1989.15 229.893 1991.81 229.893 L1996.18 229.893 L1996.18 233.458 L1991.81 233.458 Q1986.88 233.458 1985 231.629 Q1983.13 229.777 1983.13 224.916 L1983.13 210.842 L1980 210.842 L1980 207.532 L1983.13 207.532 L1983.13 200.171 L1987.41 200.171 Z\" fill=\"#000000\" fill-rule=\"evenodd\" fill-opacity=\"1\" /><path clip-path=\"url(#clip790)\" d=\"M 0 0 M2000.65 207.532 L2004.91 207.532 L2004.91 233.458 L2000.65 233.458 L2000.65 207.532 M2000.65 197.439 L2004.91 197.439 L2004.91 202.833 L2000.65 202.833 L2000.65 197.439 Z\" fill=\"#000000\" fill-rule=\"evenodd\" fill-opacity=\"1\" /><path clip-path=\"url(#clip790)\" d=\"M 0 0 M2019.42 210.518 Q2016 210.518 2014.01 213.203 Q2012.02 215.865 2012.02 220.518 Q2012.02 225.171 2013.98 227.856 Q2015.97 230.518 2019.42 230.518 Q2022.83 230.518 2024.82 227.833 Q2026.81 225.147 2026.81 220.518 Q2026.81 215.911 2024.82 213.226 Q2022.83 210.518 2019.42 210.518 M2019.42 206.907 Q2024.98 206.907 2028.15 210.518 Q2031.32 214.129 2031.32 220.518 Q2031.32 226.884 2028.15 230.518 Q2024.98 234.129 2019.42 234.129 Q2013.85 234.129 2010.67 230.518 Q2007.53 226.884 2007.53 220.518 Q2007.53 214.129 2010.67 210.518 Q2013.85 206.907 2019.42 206.907 Z\" fill=\"#000000\" fill-rule=\"evenodd\" fill-opacity=\"1\" /><path clip-path=\"url(#clip790)\" d=\"M 0 0 M2057.34 217.809 L2057.34 233.458 L2053.08 233.458 L2053.08 217.948 Q2053.08 214.268 2051.65 212.439 Q2050.21 210.61 2047.34 210.61 Q2043.89 210.61 2041.9 212.81 Q2039.91 215.009 2039.91 218.805 L2039.91 233.458 L2035.63 233.458 L2035.63 207.532 L2039.91 207.532 L2039.91 211.56 Q2041.44 209.222 2043.5 208.064 Q2045.58 206.907 2048.29 206.907 Q2052.76 206.907 2055.05 209.685 Q2057.34 212.439 2057.34 217.809 Z\" fill=\"#000000\" fill-rule=\"evenodd\" fill-opacity=\"1\" /><polyline clip-path=\"url(#clip790)\" style=\"stroke:#3da44d; stroke-width:4; stroke-opacity:1; fill:none\" points=\"\n",
       "  1295.01,276.658 1442.01,276.658 \n",
       "  \"/>\n",
       "<path clip-path=\"url(#clip790)\" d=\"M 0 0 M1466.51 259.378 L1471.23 259.378 L1478.5 288.59 L1485.75 259.378 L1491 259.378 L1498.27 288.59 L1505.51 259.378 L1510.26 259.378 L1501.58 293.938 L1495.7 293.938 L1488.41 263.938 L1481.05 293.938 L1475.17 293.938 L1466.51 259.378 Z\" fill=\"#000000\" fill-rule=\"evenodd\" fill-opacity=\"1\" /><path clip-path=\"url(#clip790)\" d=\"M 0 0 M1513.69 268.012 L1517.94 268.012 L1517.94 293.938 L1513.69 293.938 L1513.69 268.012 M1513.69 257.919 L1517.94 257.919 L1517.94 263.313 L1513.69 263.313 L1513.69 257.919 Z\" fill=\"#000000\" fill-rule=\"evenodd\" fill-opacity=\"1\" /><path clip-path=\"url(#clip790)\" d=\"M 0 0 M1526.63 260.651 L1526.63 268.012 L1535.4 268.012 L1535.4 271.322 L1526.63 271.322 L1526.63 285.396 Q1526.63 288.567 1527.48 289.47 Q1528.36 290.373 1531.02 290.373 L1535.4 290.373 L1535.4 293.938 L1531.02 293.938 Q1526.09 293.938 1524.22 292.109 Q1522.34 290.257 1522.34 285.396 L1522.34 271.322 L1519.22 271.322 L1519.22 268.012 L1522.34 268.012 L1522.34 260.651 L1526.63 260.651 Z\" fill=\"#000000\" fill-rule=\"evenodd\" fill-opacity=\"1\" /><path clip-path=\"url(#clip790)\" d=\"M 0 0 M1561.42 278.289 L1561.42 293.938 L1557.16 293.938 L1557.16 278.428 Q1557.16 274.748 1555.72 272.919 Q1554.29 271.09 1551.42 271.09 Q1547.97 271.09 1545.98 273.29 Q1543.99 275.489 1543.99 279.285 L1543.99 293.938 L1539.7 293.938 L1539.7 257.919 L1543.99 257.919 L1543.99 272.04 Q1545.51 269.702 1547.57 268.544 Q1549.66 267.387 1552.37 267.387 Q1556.83 267.387 1559.13 270.165 Q1561.42 272.919 1561.42 278.289 Z\" fill=\"#000000\" fill-rule=\"evenodd\" fill-opacity=\"1\" /><path clip-path=\"url(#clip790)\" d=\"M 0 0 M1595.17 262.549 Q1590.07 262.549 1587.06 266.345 Q1584.08 270.141 1584.08 276.692 Q1584.08 283.22 1587.06 287.016 Q1590.07 290.813 1595.17 290.813 Q1600.26 290.813 1603.22 287.016 Q1606.21 283.22 1606.21 276.692 Q1606.21 270.141 1603.22 266.345 Q1600.26 262.549 1595.17 262.549 M1601.72 293.313 L1607.87 300.049 L1602.23 300.049 L1597.11 294.516 Q1596.35 294.563 1595.93 294.586 Q1595.54 294.609 1595.17 294.609 Q1587.88 294.609 1583.5 289.748 Q1579.15 284.864 1579.15 276.692 Q1579.15 268.498 1583.5 263.637 Q1587.88 258.753 1595.17 258.753 Q1602.44 258.753 1606.79 263.637 Q1611.14 268.498 1611.14 276.692 Q1611.14 282.711 1608.71 286.993 Q1606.3 291.276 1601.72 293.313 Z\" fill=\"#000000\" fill-rule=\"evenodd\" fill-opacity=\"1\" /><path clip-path=\"url(#clip790)\" d=\"M 0 0 M1632.18 277.734 Q1633.69 278.243 1635.1 279.91 Q1636.53 281.577 1637.97 284.493 L1642.71 293.938 L1637.69 293.938 L1633.27 285.072 Q1631.56 281.6 1629.94 280.465 Q1628.34 279.331 1625.56 279.331 L1620.47 279.331 L1620.47 293.938 L1615.79 293.938 L1615.79 259.378 L1626.35 259.378 Q1632.27 259.378 1635.19 261.854 Q1638.11 264.331 1638.11 269.331 Q1638.11 272.595 1636.58 274.748 Q1635.07 276.901 1632.18 277.734 M1620.47 263.22 L1620.47 275.489 L1626.35 275.489 Q1629.73 275.489 1631.44 273.938 Q1633.18 272.364 1633.18 269.331 Q1633.18 266.299 1631.44 264.771 Q1629.73 263.22 1626.35 263.22 L1620.47 263.22 Z\" fill=\"#000000\" fill-rule=\"evenodd\" fill-opacity=\"1\" /><polyline clip-path=\"url(#clip790)\" style=\"stroke:#c271d2; stroke-width:4; stroke-opacity:1; fill:none\" points=\"\n",
       "  1295.01,337.138 1442.01,337.138 \n",
       "  \"/>\n",
       "<path clip-path=\"url(#clip790)\" d=\"M 0 0 M1466.51 319.858 L1471.23 319.858 L1478.5 349.07 L1485.75 319.858 L1491 319.858 L1498.27 349.07 L1505.51 319.858 L1510.26 319.858 L1501.58 354.418 L1495.7 354.418 L1488.41 324.418 L1481.05 354.418 L1475.17 354.418 L1466.51 319.858 Z\" fill=\"#000000\" fill-rule=\"evenodd\" fill-opacity=\"1\" /><path clip-path=\"url(#clip790)\" d=\"M 0 0 M1513.69 328.492 L1517.94 328.492 L1517.94 354.418 L1513.69 354.418 L1513.69 328.492 M1513.69 318.399 L1517.94 318.399 L1517.94 323.793 L1513.69 323.793 L1513.69 318.399 Z\" fill=\"#000000\" fill-rule=\"evenodd\" fill-opacity=\"1\" /><path clip-path=\"url(#clip790)\" d=\"M 0 0 M1526.63 321.131 L1526.63 328.492 L1535.4 328.492 L1535.4 331.802 L1526.63 331.802 L1526.63 345.876 Q1526.63 349.047 1527.48 349.95 Q1528.36 350.853 1531.02 350.853 L1535.4 350.853 L1535.4 354.418 L1531.02 354.418 Q1526.09 354.418 1524.22 352.589 Q1522.34 350.737 1522.34 345.876 L1522.34 331.802 L1519.22 331.802 L1519.22 328.492 L1522.34 328.492 L1522.34 321.131 L1526.63 321.131 Z\" fill=\"#000000\" fill-rule=\"evenodd\" fill-opacity=\"1\" /><path clip-path=\"url(#clip790)\" d=\"M 0 0 M1561.42 338.769 L1561.42 354.418 L1557.16 354.418 L1557.16 338.908 Q1557.16 335.228 1555.72 333.399 Q1554.29 331.57 1551.42 331.57 Q1547.97 331.57 1545.98 333.77 Q1543.99 335.969 1543.99 339.765 L1543.99 354.418 L1539.7 354.418 L1539.7 318.399 L1543.99 318.399 L1543.99 332.52 Q1545.51 330.182 1547.57 329.024 Q1549.66 327.867 1552.37 327.867 Q1556.83 327.867 1559.13 330.645 Q1561.42 333.399 1561.42 338.769 Z\" fill=\"#000000\" fill-rule=\"evenodd\" fill-opacity=\"1\" /><path clip-path=\"url(#clip790)\" d=\"M 0 0 M1595.17 323.029 Q1590.07 323.029 1587.06 326.825 Q1584.08 330.621 1584.08 337.172 Q1584.08 343.7 1587.06 347.496 Q1590.07 351.293 1595.17 351.293 Q1600.26 351.293 1603.22 347.496 Q1606.21 343.7 1606.21 337.172 Q1606.21 330.621 1603.22 326.825 Q1600.26 323.029 1595.17 323.029 M1601.72 353.793 L1607.87 360.529 L1602.23 360.529 L1597.11 354.996 Q1596.35 355.043 1595.93 355.066 Q1595.54 355.089 1595.17 355.089 Q1587.88 355.089 1583.5 350.228 Q1579.15 345.344 1579.15 337.172 Q1579.15 328.978 1583.5 324.117 Q1587.88 319.233 1595.17 319.233 Q1602.44 319.233 1606.79 324.117 Q1611.14 328.978 1611.14 337.172 Q1611.14 343.191 1608.71 347.473 Q1606.3 351.756 1601.72 353.793 Z\" fill=\"#000000\" fill-rule=\"evenodd\" fill-opacity=\"1\" /><path clip-path=\"url(#clip790)\" d=\"M 0 0 M1632.18 338.214 Q1633.69 338.723 1635.1 340.39 Q1636.53 342.057 1637.97 344.973 L1642.71 354.418 L1637.69 354.418 L1633.27 345.552 Q1631.56 342.08 1629.94 340.945 Q1628.34 339.811 1625.56 339.811 L1620.47 339.811 L1620.47 354.418 L1615.79 354.418 L1615.79 319.858 L1626.35 319.858 Q1632.27 319.858 1635.19 322.334 Q1638.11 324.811 1638.11 329.811 Q1638.11 333.075 1636.58 335.228 Q1635.07 337.381 1632.18 338.214 M1620.47 323.7 L1620.47 335.969 L1626.35 335.969 Q1629.73 335.969 1631.44 334.418 Q1633.18 332.844 1633.18 329.811 Q1633.18 326.779 1631.44 325.251 Q1629.73 323.7 1626.35 323.7 L1620.47 323.7 Z\" fill=\"#000000\" fill-rule=\"evenodd\" fill-opacity=\"1\" /><path clip-path=\"url(#clip790)\" d=\"M 0 0 M1674.03 341.385 Q1668.87 341.385 1666.88 342.566 Q1664.89 343.746 1664.89 346.594 Q1664.89 348.862 1666.37 350.205 Q1667.87 351.524 1670.44 351.524 Q1673.99 351.524 1676.12 349.024 Q1678.27 346.501 1678.27 342.334 L1678.27 341.385 L1674.03 341.385 M1682.53 339.626 L1682.53 354.418 L1678.27 354.418 L1678.27 350.482 Q1676.81 352.843 1674.63 353.978 Q1672.46 355.089 1669.31 355.089 Q1665.33 355.089 1662.97 352.867 Q1660.63 350.621 1660.63 346.871 Q1660.63 342.496 1663.55 340.274 Q1666.49 338.052 1672.3 338.052 L1678.27 338.052 L1678.27 337.635 Q1678.27 334.695 1676.32 333.098 Q1674.4 331.478 1670.91 331.478 Q1668.68 331.478 1666.58 332.01 Q1664.47 332.543 1662.53 333.607 L1662.53 329.672 Q1664.87 328.77 1667.06 328.33 Q1669.26 327.867 1671.35 327.867 Q1676.97 327.867 1679.75 330.783 Q1682.53 333.7 1682.53 339.626 Z\" fill=\"#000000\" fill-rule=\"evenodd\" fill-opacity=\"1\" /><path clip-path=\"url(#clip790)\" d=\"M 0 0 M1708.55 338.769 L1708.55 354.418 L1704.29 354.418 L1704.29 338.908 Q1704.29 335.228 1702.85 333.399 Q1701.42 331.57 1698.55 331.57 Q1695.1 331.57 1693.11 333.77 Q1691.12 335.969 1691.12 339.765 L1691.12 354.418 L1686.83 354.418 L1686.83 328.492 L1691.12 328.492 L1691.12 332.52 Q1692.64 330.182 1694.7 329.024 Q1696.79 327.867 1699.49 327.867 Q1703.96 327.867 1706.25 330.645 Q1708.55 333.399 1708.55 338.769 Z\" fill=\"#000000\" fill-rule=\"evenodd\" fill-opacity=\"1\" /><path clip-path=\"url(#clip790)\" d=\"M 0 0 M1730.07 332.427 L1730.07 318.399 L1734.33 318.399 L1734.33 354.418 L1730.07 354.418 L1730.07 350.529 Q1728.73 352.843 1726.67 353.978 Q1724.63 355.089 1721.76 355.089 Q1717.06 355.089 1714.1 351.339 Q1711.16 347.589 1711.16 341.478 Q1711.16 335.367 1714.1 331.617 Q1717.06 327.867 1721.76 327.867 Q1724.63 327.867 1726.67 329.001 Q1728.73 330.112 1730.07 332.427 M1715.56 341.478 Q1715.56 346.177 1717.48 348.862 Q1719.43 351.524 1722.8 351.524 Q1726.18 351.524 1728.13 348.862 Q1730.07 346.177 1730.07 341.478 Q1730.07 336.779 1728.13 334.117 Q1726.18 331.432 1722.8 331.432 Q1719.43 331.432 1717.48 334.117 Q1715.56 336.779 1715.56 341.478 Z\" fill=\"#000000\" fill-rule=\"evenodd\" fill-opacity=\"1\" /><path clip-path=\"url(#clip790)\" d=\"M 0 0 M1754.05 319.858 L1758.73 319.858 L1758.73 334.024 L1775.72 334.024 L1775.72 319.858 L1780.4 319.858 L1780.4 354.418 L1775.72 354.418 L1775.72 337.959 L1758.73 337.959 L1758.73 354.418 L1754.05 354.418 L1754.05 319.858 Z\" fill=\"#000000\" fill-rule=\"evenodd\" fill-opacity=\"1\" /><path clip-path=\"url(#clip790)\" d=\"M 0 0 M1807.04 340.39 L1807.04 342.473 L1787.46 342.473 Q1787.74 346.871 1790.1 349.186 Q1792.48 351.478 1796.72 351.478 Q1799.17 351.478 1801.46 350.876 Q1803.78 350.274 1806.05 349.07 L1806.05 353.098 Q1803.75 354.07 1801.35 354.58 Q1798.94 355.089 1796.46 355.089 Q1790.26 355.089 1786.62 351.478 Q1783.01 347.867 1783.01 341.709 Q1783.01 335.344 1786.44 331.617 Q1789.89 327.867 1795.72 327.867 Q1800.95 327.867 1803.99 331.246 Q1807.04 334.603 1807.04 340.39 M1802.78 339.14 Q1802.74 335.645 1800.81 333.561 Q1798.92 331.478 1795.77 331.478 Q1792.2 331.478 1790.05 333.492 Q1787.92 335.506 1787.6 339.163 L1802.78 339.14 Z\" fill=\"#000000\" fill-rule=\"evenodd\" fill-opacity=\"1\" /><path clip-path=\"url(#clip790)\" d=\"M 0 0 M1828.04 329.256 L1828.04 333.283 Q1826.23 332.357 1824.29 331.895 Q1822.34 331.432 1820.26 331.432 Q1817.09 331.432 1815.49 332.404 Q1813.92 333.376 1813.92 335.32 Q1813.92 336.802 1815.05 337.658 Q1816.18 338.492 1819.61 339.256 L1821.07 339.58 Q1825.61 340.552 1827.5 342.334 Q1829.42 344.094 1829.42 347.265 Q1829.42 350.876 1826.55 352.982 Q1823.71 355.089 1818.71 355.089 Q1816.62 355.089 1814.36 354.672 Q1812.11 354.279 1809.61 353.468 L1809.61 349.07 Q1811.97 350.297 1814.26 350.922 Q1816.55 351.524 1818.8 351.524 Q1821.81 351.524 1823.43 350.506 Q1825.05 349.464 1825.05 347.589 Q1825.05 345.853 1823.87 344.927 Q1822.71 344.001 1818.75 343.144 L1817.27 342.797 Q1813.31 341.964 1811.55 340.251 Q1809.8 338.515 1809.8 335.506 Q1809.8 331.848 1812.39 329.858 Q1814.98 327.867 1819.75 327.867 Q1822.11 327.867 1824.19 328.214 Q1826.28 328.561 1828.04 329.256 Z\" fill=\"#000000\" fill-rule=\"evenodd\" fill-opacity=\"1\" /><path clip-path=\"url(#clip790)\" d=\"M 0 0 M1850.42 329.256 L1850.42 333.283 Q1848.61 332.357 1846.67 331.895 Q1844.73 331.432 1842.64 331.432 Q1839.47 331.432 1837.87 332.404 Q1836.3 333.376 1836.3 335.32 Q1836.3 336.802 1837.43 337.658 Q1838.57 338.492 1841.99 339.256 L1843.45 339.58 Q1847.99 340.552 1849.89 342.334 Q1851.81 344.094 1851.81 347.265 Q1851.81 350.876 1848.94 352.982 Q1846.09 355.089 1841.09 355.089 Q1839.01 355.089 1836.74 354.672 Q1834.49 354.279 1831.99 353.468 L1831.99 349.07 Q1834.36 350.297 1836.65 350.922 Q1838.94 351.524 1841.18 351.524 Q1844.19 351.524 1845.81 350.506 Q1847.43 349.464 1847.43 347.589 Q1847.43 345.853 1846.25 344.927 Q1845.1 344.001 1841.14 343.144 L1839.66 342.797 Q1835.7 341.964 1833.94 340.251 Q1832.18 338.515 1832.18 335.506 Q1832.18 331.848 1834.77 329.858 Q1837.36 327.867 1842.13 327.867 Q1844.49 327.867 1846.58 328.214 Q1848.66 328.561 1850.42 329.256 Z\" fill=\"#000000\" fill-rule=\"evenodd\" fill-opacity=\"1\" /><path clip-path=\"url(#clip790)\" d=\"M 0 0 M1856.28 328.492 L1860.54 328.492 L1860.54 354.418 L1856.28 354.418 L1856.28 328.492 M1856.28 318.399 L1860.54 318.399 L1860.54 323.793 L1856.28 323.793 L1856.28 318.399 Z\" fill=\"#000000\" fill-rule=\"evenodd\" fill-opacity=\"1\" /><path clip-path=\"url(#clip790)\" d=\"M 0 0 M1876.79 341.385 Q1871.62 341.385 1869.63 342.566 Q1867.64 343.746 1867.64 346.594 Q1867.64 348.862 1869.12 350.205 Q1870.63 351.524 1873.2 351.524 Q1876.74 351.524 1878.87 349.024 Q1881.02 346.501 1881.02 342.334 L1881.02 341.385 L1876.79 341.385 M1885.28 339.626 L1885.28 354.418 L1881.02 354.418 L1881.02 350.482 Q1879.56 352.843 1877.39 353.978 Q1875.21 355.089 1872.06 355.089 Q1868.08 355.089 1865.72 352.867 Q1863.38 350.621 1863.38 346.871 Q1863.38 342.496 1866.3 340.274 Q1869.24 338.052 1875.05 338.052 L1881.02 338.052 L1881.02 337.635 Q1881.02 334.695 1879.08 333.098 Q1877.16 331.478 1873.66 331.478 Q1871.44 331.478 1869.33 332.01 Q1867.23 332.543 1865.28 333.607 L1865.28 329.672 Q1867.62 328.77 1869.82 328.33 Q1872.02 327.867 1874.1 327.867 Q1879.73 327.867 1882.5 330.783 Q1885.28 333.7 1885.28 339.626 Z\" fill=\"#000000\" fill-rule=\"evenodd\" fill-opacity=\"1\" /><path clip-path=\"url(#clip790)\" d=\"M 0 0 M1911.3 338.769 L1911.3 354.418 L1907.04 354.418 L1907.04 338.908 Q1907.04 335.228 1905.6 333.399 Q1904.17 331.57 1901.3 331.57 Q1897.85 331.57 1895.86 333.77 Q1893.87 335.969 1893.87 339.765 L1893.87 354.418 L1889.59 354.418 L1889.59 328.492 L1893.87 328.492 L1893.87 332.52 Q1895.4 330.182 1897.46 329.024 Q1899.54 327.867 1902.25 327.867 Q1906.72 327.867 1909.01 330.645 Q1911.3 333.399 1911.3 338.769 Z\" fill=\"#000000\" fill-rule=\"evenodd\" fill-opacity=\"1\" /><path clip-path=\"url(#clip790)\" d=\"M 0 0 M1942.62 341.385 Q1937.46 341.385 1935.47 342.566 Q1933.48 343.746 1933.48 346.594 Q1933.48 348.862 1934.96 350.205 Q1936.46 351.524 1939.03 351.524 Q1942.57 351.524 1944.7 349.024 Q1946.85 346.501 1946.85 342.334 L1946.85 341.385 L1942.62 341.385 M1951.11 339.626 L1951.11 354.418 L1946.85 354.418 L1946.85 350.482 Q1945.4 352.843 1943.22 353.978 Q1941.04 355.089 1937.9 355.089 Q1933.91 355.089 1931.55 352.867 Q1929.22 350.621 1929.22 346.871 Q1929.22 342.496 1932.13 340.274 Q1935.07 338.052 1940.88 338.052 L1946.85 338.052 L1946.85 337.635 Q1946.85 334.695 1944.91 333.098 Q1942.99 331.478 1939.49 331.478 Q1937.27 331.478 1935.16 332.01 Q1933.06 332.543 1931.11 333.607 L1931.11 329.672 Q1933.45 328.77 1935.65 328.33 Q1937.85 327.867 1939.93 327.867 Q1945.56 327.867 1948.34 330.783 Q1951.11 333.7 1951.11 339.626 Z\" fill=\"#000000\" fill-rule=\"evenodd\" fill-opacity=\"1\" /><path clip-path=\"url(#clip790)\" d=\"M 0 0 M1959.7 350.529 L1959.7 364.279 L1955.42 364.279 L1955.42 328.492 L1959.7 328.492 L1959.7 332.427 Q1961.04 330.112 1963.08 329.001 Q1965.14 327.867 1967.99 327.867 Q1972.71 327.867 1975.65 331.617 Q1978.61 335.367 1978.61 341.478 Q1978.61 347.589 1975.65 351.339 Q1972.71 355.089 1967.99 355.089 Q1965.14 355.089 1963.08 353.978 Q1961.04 352.843 1959.7 350.529 M1974.19 341.478 Q1974.19 336.779 1972.25 334.117 Q1970.33 331.432 1966.95 331.432 Q1963.57 331.432 1961.62 334.117 Q1959.7 336.779 1959.7 341.478 Q1959.7 346.177 1961.62 348.862 Q1963.57 351.524 1966.95 351.524 Q1970.33 351.524 1972.25 348.862 Q1974.19 346.177 1974.19 341.478 Z\" fill=\"#000000\" fill-rule=\"evenodd\" fill-opacity=\"1\" /><path clip-path=\"url(#clip790)\" d=\"M 0 0 M1987.2 350.529 L1987.2 364.279 L1982.92 364.279 L1982.92 328.492 L1987.2 328.492 L1987.2 332.427 Q1988.54 330.112 1990.58 329.001 Q1992.64 327.867 1995.49 327.867 Q2000.21 327.867 2003.15 331.617 Q2006.11 335.367 2006.11 341.478 Q2006.11 347.589 2003.15 351.339 Q2000.21 355.089 1995.49 355.089 Q1992.64 355.089 1990.58 353.978 Q1988.54 352.843 1987.2 350.529 M2001.69 341.478 Q2001.69 336.779 1999.75 334.117 Q1997.83 331.432 1994.45 331.432 Q1991.07 331.432 1989.12 334.117 Q1987.2 336.779 1987.2 341.478 Q1987.2 346.177 1989.12 348.862 Q1991.07 351.524 1994.45 351.524 Q1997.83 351.524 1999.75 348.862 Q2001.69 346.177 2001.69 341.478 Z\" fill=\"#000000\" fill-rule=\"evenodd\" fill-opacity=\"1\" /><path clip-path=\"url(#clip790)\" d=\"M 0 0 M2025.6 332.473 Q2024.89 332.057 2024.03 331.871 Q2023.2 331.663 2022.18 331.663 Q2018.57 331.663 2016.62 334.024 Q2014.7 336.362 2014.7 340.76 L2014.7 354.418 L2010.42 354.418 L2010.42 328.492 L2014.7 328.492 L2014.7 332.52 Q2016.04 330.158 2018.2 329.024 Q2020.35 327.867 2023.43 327.867 Q2023.87 327.867 2024.4 327.936 Q2024.93 327.983 2025.58 328.098 L2025.6 332.473 Z\" fill=\"#000000\" fill-rule=\"evenodd\" fill-opacity=\"1\" /><path clip-path=\"url(#clip790)\" d=\"M 0 0 M2039.08 331.478 Q2035.65 331.478 2033.66 334.163 Q2031.67 336.825 2031.67 341.478 Q2031.67 346.131 2033.64 348.816 Q2035.63 351.478 2039.08 351.478 Q2042.48 351.478 2044.47 348.793 Q2046.46 346.107 2046.46 341.478 Q2046.46 336.871 2044.47 334.186 Q2042.48 331.478 2039.08 331.478 M2039.08 327.867 Q2044.63 327.867 2047.8 331.478 Q2050.97 335.089 2050.97 341.478 Q2050.97 347.844 2047.8 351.478 Q2044.63 355.089 2039.08 355.089 Q2033.5 355.089 2030.33 351.478 Q2027.18 347.844 2027.18 341.478 Q2027.18 335.089 2030.33 331.478 Q2033.5 327.867 2039.08 327.867 Z\" fill=\"#000000\" fill-rule=\"evenodd\" fill-opacity=\"1\" /><path clip-path=\"url(#clip790)\" d=\"M 0 0 M2075.53 328.492 L2066.16 341.107 L2076.02 354.418 L2071 354.418 L2063.45 344.232 L2055.9 354.418 L2050.88 354.418 L2060.95 340.853 L2051.74 328.492 L2056.76 328.492 L2063.64 337.728 L2070.51 328.492 L2075.53 328.492 Z\" fill=\"#000000\" fill-rule=\"evenodd\" fill-opacity=\"1\" /><path clip-path=\"url(#clip790)\" d=\"M 0 0 M2080.49 328.492 L2084.75 328.492 L2084.75 354.418 L2080.49 354.418 L2080.49 328.492 M2080.49 318.399 L2084.75 318.399 L2084.75 323.793 L2080.49 323.793 L2080.49 318.399 Z\" fill=\"#000000\" fill-rule=\"evenodd\" fill-opacity=\"1\" /><path clip-path=\"url(#clip790)\" d=\"M 0 0 M2109.4 333.469 Q2111 330.598 2113.22 329.233 Q2115.44 327.867 2118.45 327.867 Q2122.5 327.867 2124.7 330.714 Q2126.9 333.538 2126.9 338.769 L2126.9 354.418 L2122.62 354.418 L2122.62 338.908 Q2122.62 335.182 2121.3 333.376 Q2119.98 331.57 2117.27 331.57 Q2113.96 331.57 2112.04 333.77 Q2110.12 335.969 2110.12 339.765 L2110.12 354.418 L2105.84 354.418 L2105.84 338.908 Q2105.84 335.158 2104.52 333.376 Q2103.2 331.57 2100.44 331.57 Q2097.18 331.57 2095.26 333.793 Q2093.34 335.992 2093.34 339.765 L2093.34 354.418 L2089.05 354.418 L2089.05 328.492 L2093.34 328.492 L2093.34 332.52 Q2094.79 330.135 2096.83 329.001 Q2098.87 327.867 2101.67 327.867 Q2104.49 327.867 2106.46 329.302 Q2108.45 330.737 2109.4 333.469 Z\" fill=\"#000000\" fill-rule=\"evenodd\" fill-opacity=\"1\" /><path clip-path=\"url(#clip790)\" d=\"M 0 0 M2143.15 341.385 Q2137.99 341.385 2136 342.566 Q2134.01 343.746 2134.01 346.594 Q2134.01 348.862 2135.49 350.205 Q2136.99 351.524 2139.56 351.524 Q2143.1 351.524 2145.23 349.024 Q2147.39 346.501 2147.39 342.334 L2147.39 341.385 L2143.15 341.385 M2151.65 339.626 L2151.65 354.418 L2147.39 354.418 L2147.39 350.482 Q2145.93 352.843 2143.75 353.978 Q2141.58 355.089 2138.43 355.089 Q2134.45 355.089 2132.09 352.867 Q2129.75 350.621 2129.75 346.871 Q2129.75 342.496 2132.66 340.274 Q2135.6 338.052 2141.41 338.052 L2147.39 338.052 L2147.39 337.635 Q2147.39 334.695 2145.44 333.098 Q2143.52 331.478 2140.02 331.478 Q2137.8 331.478 2135.7 332.01 Q2133.59 332.543 2131.65 333.607 L2131.65 329.672 Q2133.98 328.77 2136.18 328.33 Q2138.38 327.867 2140.46 327.867 Q2146.09 327.867 2148.87 330.783 Q2151.65 333.7 2151.65 339.626 Z\" fill=\"#000000\" fill-rule=\"evenodd\" fill-opacity=\"1\" /><path clip-path=\"url(#clip790)\" d=\"M 0 0 M2160.33 321.131 L2160.33 328.492 L2169.1 328.492 L2169.1 331.802 L2160.33 331.802 L2160.33 345.876 Q2160.33 349.047 2161.18 349.95 Q2162.06 350.853 2164.72 350.853 L2169.1 350.853 L2169.1 354.418 L2164.72 354.418 Q2159.79 354.418 2157.92 352.589 Q2156.04 350.737 2156.04 345.876 L2156.04 331.802 L2152.92 331.802 L2152.92 328.492 L2156.04 328.492 L2156.04 321.131 L2160.33 321.131 Z\" fill=\"#000000\" fill-rule=\"evenodd\" fill-opacity=\"1\" /><path clip-path=\"url(#clip790)\" d=\"M 0 0 M2173.57 328.492 L2177.83 328.492 L2177.83 354.418 L2173.57 354.418 L2173.57 328.492 M2173.57 318.399 L2177.83 318.399 L2177.83 323.793 L2173.57 323.793 L2173.57 318.399 Z\" fill=\"#000000\" fill-rule=\"evenodd\" fill-opacity=\"1\" /><path clip-path=\"url(#clip790)\" d=\"M 0 0 M2192.34 331.478 Q2188.91 331.478 2186.92 334.163 Q2184.93 336.825 2184.93 341.478 Q2184.93 346.131 2186.9 348.816 Q2188.89 351.478 2192.34 351.478 Q2195.74 351.478 2197.73 348.793 Q2199.72 346.107 2199.72 341.478 Q2199.72 336.871 2197.73 334.186 Q2195.74 331.478 2192.34 331.478 M2192.34 327.867 Q2197.89 327.867 2201.07 331.478 Q2204.24 335.089 2204.24 341.478 Q2204.24 347.844 2201.07 351.478 Q2197.89 355.089 2192.34 355.089 Q2186.76 355.089 2183.59 351.478 Q2180.44 347.844 2180.44 341.478 Q2180.44 335.089 2183.59 331.478 Q2186.76 327.867 2192.34 327.867 Z\" fill=\"#000000\" fill-rule=\"evenodd\" fill-opacity=\"1\" /><path clip-path=\"url(#clip790)\" d=\"M 0 0 M2230.26 338.769 L2230.26 354.418 L2226 354.418 L2226 338.908 Q2226 335.228 2224.56 333.399 Q2223.13 331.57 2220.26 331.57 Q2216.81 331.57 2214.82 333.77 Q2212.83 335.969 2212.83 339.765 L2212.83 354.418 L2208.54 354.418 L2208.54 328.492 L2212.83 328.492 L2212.83 332.52 Q2214.35 330.182 2216.41 329.024 Q2218.5 327.867 2221.21 327.867 Q2225.67 327.867 2227.96 330.645 Q2230.26 333.399 2230.26 338.769 Z\" fill=\"#000000\" fill-rule=\"evenodd\" fill-opacity=\"1\" /></svg>\n"
      ]
     },
     "execution_count": 131,
     "metadata": {},
     "output_type": "execute_result"
    }
   ],
   "source": [
    "sca(Optim.f_trace(res), linewidth = 3, label = \"Without QR\")\n",
    "plot!(Optim.f_trace(resprecond), linewidth = 3, label = \"With Hessian approximation\")\n",
    "plot!(Optim.f_trace(r̃es), linewidth = 3, label = \"With QR\")\n",
    "plot!(Optim.f_trace(r̃esprecond), linewidth = 3, label = \"With QR and Hessian approximation\")"
   ]
  },
  {
   "cell_type": "code",
   "execution_count": 125,
   "metadata": {},
   "outputs": [
    {
     "data": {
      "text/plain": [
       "6-element Array{Float64,1}:\n",
       "  19.140940292925507\n",
       " -57.71114658268417\n",
       " -34.295117390166155\n",
       "  93.09349957328978\n",
       "   2.214935279736011\n",
       "   5.36054213807699"
      ]
     },
     "execution_count": 125,
     "metadata": {},
     "output_type": "execute_result"
    }
   ],
   "source": [
    "res.minimizer"
   ]
  },
  {
   "cell_type": "code",
   "execution_count": 126,
   "metadata": {
    "scrolled": false
   },
   "outputs": [
    {
     "data": {
      "text/plain": [
       "6-element Array{Float64,1}:\n",
       " -0.4018645157603582\n",
       " -0.9881171838225097\n",
       " -0.15913270404366356\n",
       " -1.226889826902165\n",
       "  0.4167748529075588\n",
       " -0.6015178325629994"
      ]
     },
     "execution_count": 126,
     "metadata": {},
     "output_type": "execute_result"
    }
   ],
   "source": [
    "r̃es.minimizer"
   ]
  },
  {
   "cell_type": "code",
   "execution_count": 127,
   "metadata": {},
   "outputs": [
    {
     "data": {
      "text/plain": [
       "6-element Array{Float64,1}:\n",
       "  19.14094035253657\n",
       " -57.711146681926536\n",
       " -34.295117548168946\n",
       "  93.09349985100788\n",
       "   2.214935235183977\n",
       "   5.360542125964209"
      ]
     },
     "execution_count": 127,
     "metadata": {},
     "output_type": "execute_result"
    }
   ],
   "source": [
    "F.Uinv*r̃es.minimizer"
   ]
  },
  {
   "cell_type": "code",
   "execution_count": 128,
   "metadata": {},
   "outputs": [
    {
     "data": {
      "text/plain": [
       "6-element Array{Float64,1}:\n",
       "  19.14094017972538\n",
       " -57.711146348335205\n",
       " -34.29511721846594\n",
       "  93.09349918969032\n",
       "   2.214935299606997\n",
       "   5.36054215598486"
      ]
     },
     "execution_count": 128,
     "metadata": {},
     "output_type": "execute_result"
    }
   ],
   "source": [
    "F.Uinv*r̃esprecond.minimizer"
   ]
  },
  {
   "cell_type": "code",
   "execution_count": null,
   "metadata": {},
   "outputs": [],
   "source": []
  }
 ],
 "metadata": {
  "kernelspec": {
   "display_name": "Julia 1.5.0",
   "language": "julia",
   "name": "julia-1.5"
  },
  "language_info": {
   "file_extension": ".jl",
   "mimetype": "application/julia",
   "name": "julia",
   "version": "1.5.0"
  }
 },
 "nbformat": 4,
 "nbformat_minor": 2
}
