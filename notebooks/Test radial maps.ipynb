{
 "cells": [
  {
   "cell_type": "code",
   "execution_count": 1,
   "metadata": {},
   "outputs": [],
   "source": [
    "using Revise\n",
    "using LinearAlgebra\n",
    "using AdaptiveTransportMap\n",
    "using Statistics\n",
    "using Distributions\n",
    "using Test\n",
    "using ForwardDiff\n",
    "using SpecialFunctions\n",
    "using OrthoMatchingPursuit"
   ]
  },
  {
   "cell_type": "code",
   "execution_count": 2,
   "metadata": {},
   "outputs": [
    {
     "data": {
      "text/plain": [
       "10×5 Array{Float64,2}:\n",
       "  0.846711   -2.05991    -0.671031    0.193168    0.767641\n",
       " -0.248853   -0.72072    -2.16088    -0.0822937   2.25991\n",
       "  0.35429    -0.0769643  -0.116956   -1.1324      0.630609\n",
       " -1.24244     1.14009     1.62245     0.246204    0.570682\n",
       " -0.0320655   0.463823    0.114834   -0.664412   -0.01783\n",
       " -2.03965     0.507124    0.583453    0.625594   -0.286829\n",
       " -1.3586     -0.0640034   1.2489      0.757232    0.558471\n",
       "  1.58707    -0.0418703  -0.369809    0.804867   -0.843747\n",
       "  0.953096   -1.09407    -0.0136953  -0.162962    1.6028\n",
       "  0.236479    0.844709   -0.779797    1.13624    -0.0156478"
      ]
     },
     "execution_count": 2,
     "metadata": {},
     "output_type": "execute_result"
    }
   ],
   "source": [
    "A = randn(10, 5)"
   ]
  },
  {
   "cell_type": "code",
   "execution_count": 3,
   "metadata": {},
   "outputs": [
    {
     "data": {
      "text/plain": [
       "5-element Array{Float64,1}:\n",
       " -0.09439655807283336\n",
       " -0.11017911270588691\n",
       " -0.054253711787882485\n",
       "  0.17212404015337582\n",
       "  0.52260662560226"
      ]
     },
     "execution_count": 3,
     "metadata": {},
     "output_type": "execute_result"
    }
   ],
   "source": [
    "mean(A; dims = 1)[1,:]"
   ]
  },
  {
   "cell_type": "code",
   "execution_count": 11,
   "metadata": {},
   "outputs": [
    {
     "name": "stdout",
     "output_type": "stream",
     "text": [
      "no = 0\n",
      "xopt = [0.4533637321615722, 2.3041942959450146, 0.0, 0.0, 0.0, 2.552281803302206]\n",
      "no = 0\n"
     ]
    },
    {
     "data": {
      "text/plain": [
       "\u001b[32m\u001b[1mTest Passed\u001b[22m\u001b[39m"
      ]
     },
     "execution_count": 11,
     "metadata": {},
     "output_type": "execute_result"
    }
   ],
   "source": [
    "# @testset \"Test optimization for Nx=1 and p=3\" begin\n",
    "    Nx = 1\n",
    "    Ne = 10\n",
    "    p = 3\n",
    "    γ = 2.0\n",
    "\n",
    "    X = reshape([-1.5438\n",
    "      -1.5518\n",
    "       0.8671\n",
    "      -0.1454\n",
    "      -0.3862\n",
    "       1.3162\n",
    "      -0.7965\n",
    "       0.1354\n",
    "       0.4178\n",
    "       0.8199],1,Ne)\n",
    "\n",
    "\n",
    "    S = RadialMap(Nx, p; γ = γ)\n",
    "    W = create_weights(S, X)\n",
    "    center_std!(S, X)\n",
    "    compute_weights(S, X, W)\n",
    "\n",
    "    # With λ = δ = 0.0\n",
    "    λ = 0.0\n",
    "    δ = 0.0\n",
    "    xopt = optimize(S.C[1], W, λ, δ);\n",
    "    @show xopt\n",
    "\n",
    "    @test norm(xopt - [0.453363732161572; 2.304194295945015; 0.0; 0.0; 0.0;2.552281803302206])<1e-10\n",
    "\n",
    "\n",
    "    # With λ = 0.1 and δ = 1e-8\n",
    "    λ = 0.1\n",
    "    δ = 1e-8\n",
    "    xopt = optimize(S.C[1], W, λ, δ);\n",
    "\n",
    "    @test norm(xopt - [0.450882345511096; 2.295315495868833; 0.000000043115815; 0.000000032750391; 0.000000035316480; 2.547661799360081])<1e-10\n",
    "\n",
    "# end"
   ]
  },
  {
   "cell_type": "code",
   "execution_count": 34,
   "metadata": {},
   "outputs": [
    {
     "data": {
      "text/plain": [
       "2.0"
      ]
     },
     "execution_count": 34,
     "metadata": {},
     "output_type": "execute_result"
    }
   ],
   "source": [
    "Nx = 5\n",
    "Ne = 100\n",
    "\n",
    "X = randn(Nx, Ne) .* randn(Nx, Ne)\n",
    "\n",
    "λ = 0.0\n",
    "δ = 1e-8\n",
    "γ = 2.0"
   ]
  },
  {
   "cell_type": "code",
   "execution_count": 3,
   "metadata": {},
   "outputs": [
    {
     "name": "stdout",
     "output_type": "stream",
     "text": [
      "size(F) = (3, 100)\n"
     ]
    },
    {
     "ename": "LoadError",
     "evalue": "\u001b[91mDimensionMismatch(\"for a right-sided multiplication, the second dimension of C, 4, must equal the second dimension of A, 3\")\u001b[39m",
     "output_type": "error",
     "traceback": [
      "\u001b[91mDimensionMismatch(\"for a right-sided multiplication, the second dimension of C, 4, must equal the second dimension of A, 3\")\u001b[39m",
      "",
      "Stacktrace:",
      " [1] ormqr!(::Char, ::Char, ::Array{Float64,2}, ::Array{Float64,1}, ::Array{Float64,2}) at /buildworker/worker/package_linux64/build/usr/share/julia/stdlib/v1.5/LinearAlgebra/src/lapack.jl:2748",
      " [2] rmul! at /buildworker/worker/package_linux64/build/usr/share/julia/stdlib/v1.5/LinearAlgebra/src/qr.jl:651 [inlined]",
      " [3] * at /buildworker/worker/package_linux64/build/usr/share/julia/stdlib/v1.5/LinearAlgebra/src/qr.jl:681 [inlined]",
      " [4] fast_mul(::Array{Float64,2}, ::LinearAlgebra.QRPackedQ{Float64,Array{Float64,2}}, ::Int64, ::Int64) at /media/mat/HDD/AdaptiveTransportMap/src/radialmap/optimize.jl:5",
      " [5] greedyfit(::Int64, ::Int64, ::Array{Float64,2}, ::Int64, ::Float64, ::Float64, ::Float64) at /media/mat/HDD/AdaptiveTransportMap/src/radialmap/greedyfit.jl:111",
      " [6] top-level scope at ./timing.jl:174 [inlined]",
      " [7] top-level scope at ./In[3]:0",
      " [8] include_string(::Function, ::Module, ::String, ::String) at ./loading.jl:1091"
     ]
    }
   ],
   "source": [
    "@time Cgreedy = greedyfit(Nx, 2, X, 3, λ, δ, γ)"
   ]
  },
  {
   "cell_type": "code",
   "execution_count": 23,
   "metadata": {},
   "outputs": [],
   "source": [
    "# using BenchmarkTools\n",
    "N = 200\n",
    "nx = 597\n",
    "λ = 0.0\n",
    "\n",
    "ψ = rand(nx,N)\n",
    "ψ_aug = zeros(N+nx, nx)\n",
    "\n",
    "ψ_aug[1:N,:] .= ψ'\n",
    "ψ_aug[N+1:N+nx,:] .= Matrix(sqrt(λ)*I, nx, nx)\n",
    "\n",
    "F = qr(ψ_aug)\n",
    "\n",
    "Q1 = zeros(N, nx)\n",
    "Q1 .= view(F.Q*Matrix(I, N+nx, N+nx), 1:N, 1:nx)\n",
    "Q1 .= (F.Q*Matrix(I,N+nx, N+nx))[1:N, 1:nx]\n",
    "Q1 .= Matrix{Float64}(F.Q)[1:N, 1:nx];\n",
    "\n",
    "\n",
    "ψbis  = rand(4, N) \n",
    "\n",
    "A = ψbis - (ψbis*Q1)*Q1';"
   ]
  },
  {
   "cell_type": "code",
   "execution_count": 24,
   "metadata": {},
   "outputs": [
    {
     "data": {
      "text/plain": [
       "(200, 597)"
      ]
     },
     "execution_count": 24,
     "metadata": {},
     "output_type": "execute_result"
    }
   ],
   "source": [
    "F = qr(ψ')\n",
    "size(F)"
   ]
  },
  {
   "cell_type": "code",
   "execution_count": 21,
   "metadata": {},
   "outputs": [
    {
     "data": {
      "text/plain": [
       "4×200 Array{Float64,2}:\n",
       " 0.629605   0.326684  0.874646   0.0411056  …  0.363469  0.317491  0.934818\n",
       " 0.22399    0.283091  0.53219    0.4247        0.527785  0.164593  0.871868\n",
       " 0.566864   0.511157  0.700122   0.348717      0.723372  0.334182  0.952003\n",
       " 0.0505716  0.995667  0.0391326  0.143356      0.769447  0.401063  0.300964"
      ]
     },
     "execution_count": 21,
     "metadata": {},
     "output_type": "execute_result"
    }
   ],
   "source": [
    "ψbis"
   ]
  },
  {
   "cell_type": "code",
   "execution_count": 33,
   "metadata": {},
   "outputs": [
    {
     "data": {
      "text/plain": [
       "200×200 Array{Float64,2}:\n",
       " 0.0  0.0  0.0  0.0  0.0  0.0  0.0  0.0  0.0  …   1.94289e-16   7.04298e-16\n",
       " 0.0  0.0  0.0  0.0  0.0  0.0  0.0  0.0  0.0     -6.80012e-16  -2.498e-16\n",
       " 0.0  0.0  0.0  0.0  0.0  0.0  0.0  0.0  0.0      1.66533e-16  -1.39472e-15\n",
       " 0.0  0.0  0.0  0.0  0.0  0.0  0.0  0.0  0.0     -5.44703e-16  -4.28477e-16\n",
       " 0.0  0.0  0.0  0.0  0.0  0.0  0.0  0.0  0.0      4.60569e-16  -5.55112e-17\n",
       " 0.0  0.0  0.0  0.0  0.0  0.0  0.0  0.0  0.0  …   3.46945e-17  -4.15466e-16\n",
       " 0.0  0.0  0.0  0.0  0.0  0.0  0.0  0.0  0.0     -3.48679e-16  -3.46945e-17\n",
       " 0.0  0.0  0.0  0.0  0.0  0.0  0.0  0.0  0.0      4.19803e-16   6.93889e-18\n",
       " 0.0  0.0  0.0  0.0  0.0  0.0  0.0  0.0  0.0     -7.21645e-16   1.08247e-15\n",
       " 0.0  0.0  0.0  0.0  0.0  0.0  0.0  0.0  0.0      3.67761e-16   1.38778e-16\n",
       " 0.0  0.0  0.0  0.0  0.0  0.0  0.0  0.0  0.0  …   4.0766e-16    1.52656e-16\n",
       " 0.0  0.0  0.0  0.0  0.0  0.0  0.0  0.0  0.0     -9.36751e-16  -1.11022e-16\n",
       " 0.0  0.0  0.0  0.0  0.0  0.0  0.0  0.0  0.0     -1.17961e-16   9.78384e-16\n",
       " ⋮                        ⋮                   ⋱                \n",
       " 0.0  0.0  0.0  0.0  0.0  0.0  0.0  0.0  0.0     -5.86337e-16  -4.92661e-16\n",
       " 0.0  0.0  0.0  0.0  0.0  0.0  0.0  0.0  0.0      9.4369e-16    6.8695e-16\n",
       " 0.0  0.0  0.0  0.0  0.0  0.0  0.0  0.0  0.0  …   5.96745e-16   1.45717e-16\n",
       " 0.0  0.0  0.0  0.0  0.0  0.0  0.0  0.0  0.0     -1.16573e-15   7.35523e-16\n",
       " 0.0  0.0  0.0  0.0  0.0  0.0  0.0  0.0  0.0     -4.44089e-16   3.40006e-16\n",
       " 0.0  0.0  0.0  0.0  0.0  0.0  0.0  0.0  0.0     -1.38084e-15  -4.3715e-16\n",
       " 0.0  0.0  0.0  0.0  0.0  0.0  0.0  0.0  0.0     -5.68989e-16   1.38778e-17\n",
       " 0.0  0.0  0.0  0.0  0.0  0.0  0.0  0.0  0.0  …  -3.46945e-18   2.22045e-16\n",
       " 0.0  0.0  0.0  0.0  0.0  0.0  0.0  0.0  0.0      1.94289e-16   1.06859e-15\n",
       " 0.0  0.0  0.0  0.0  0.0  0.0  0.0  0.0  0.0     -2.22045e-16   7.21645e-16\n",
       " 0.0  0.0  0.0  0.0  0.0  0.0  0.0  0.0  0.0      1.52656e-16   9.57567e-16\n",
       " 0.0  0.0  0.0  0.0  0.0  0.0  0.0  0.0  0.0      1.63758e-15   6.66134e-16"
      ]
     },
     "execution_count": 33,
     "metadata": {},
     "output_type": "execute_result"
    }
   ],
   "source": [
    "Matrix(qr(ψ_aug).Q)[1:200, 1:200]-Matrix(F.Q)"
   ]
  },
  {
   "cell_type": "code",
   "execution_count": 30,
   "metadata": {},
   "outputs": [
    {
     "data": {
      "text/plain": [
       "200×200 Array{Float64,2}:\n",
       " -0.0484646     0.00365827   0.0430735   …  -0.149698     0.023572\n",
       " -0.112344     -0.0339007    0.12418         0.0304372   -0.0260589\n",
       " -0.0447021     0.0304689   -0.0561091       0.171499     0.0426105\n",
       " -0.00403244   -0.0666002   -0.102289        0.0212374   -0.00875819\n",
       " -0.0509554     0.0016974    0.0248697      -0.00401667  -0.0389847\n",
       " -0.016677     -0.0124505   -0.0953902   …  -0.0280913   -0.00500914\n",
       " -0.0632723    -0.0343341    0.0449113       4.77836e-5   0.00135624\n",
       " -0.0183401     0.019794    -0.0860882      -0.0133249    0.0187791\n",
       " -0.0889232     0.0664824   -0.086204       -0.102532    -0.100871\n",
       " -0.019835     -0.0276584    0.0344452      -0.0465461    0.107352\n",
       " -0.000194863  -0.147459     0.0629499   …   0.0112554   -0.0544895\n",
       " -0.128356      0.0768003   -0.0981032       0.0149366   -0.112761\n",
       " -0.0391227    -0.10365      0.0158012      -0.041985    -0.0089801\n",
       "  ⋮                                      ⋱               \n",
       " -0.0154384    -0.0936191    0.0402281       0.0237969    0.0155704\n",
       " -0.129379      0.0656403    0.0844761      -0.112394     0.0492577\n",
       " -0.0570622    -0.00199458  -0.0187578   …  -0.0446103   -0.0175791\n",
       " -0.0927396     0.0929258   -0.144547       -0.0399989   -0.0767262\n",
       " -0.0751919    -0.0440686   -0.00150229     -0.05557      0.00786555\n",
       " -0.0671334     0.0413521   -0.0736561       0.0384562   -0.0423337\n",
       " -0.124068     -0.0358       0.157924       -0.00108002  -0.0969941\n",
       " -0.003464     -0.118021    -0.0785753   …  -0.00920037  -0.125467\n",
       " -0.00392835   -0.111167     0.0422279      -0.160197     0.0864215\n",
       " -0.106216      0.0302044    0.042178       -0.0980882    0.0340349\n",
       " -0.00598288   -0.146711    -0.0762722      -0.114067     0.040154\n",
       " -0.0756879    -0.0846218    0.0379568      -0.0634179    0.165873"
      ]
     },
     "execution_count": 30,
     "metadata": {},
     "output_type": "execute_result"
    }
   ],
   "source": [
    "Matrix(F.Q)"
   ]
  },
  {
   "cell_type": "code",
   "execution_count": 10,
   "metadata": {},
   "outputs": [
    {
     "data": {
      "text/plain": [
       "200×597 Array{Float64,2}:\n",
       " 0.0  0.0  0.0  0.0  0.0  0.0  0.0  0.0  …  0.0  0.0  0.0  0.0  0.0  0.0  0.0\n",
       " 0.0  0.0  0.0  0.0  0.0  0.0  0.0  0.0     0.0  0.0  0.0  0.0  0.0  0.0  0.0\n",
       " 0.0  0.0  0.0  0.0  0.0  0.0  0.0  0.0     0.0  0.0  0.0  0.0  0.0  0.0  0.0\n",
       " 0.0  0.0  0.0  0.0  0.0  0.0  0.0  0.0     0.0  0.0  0.0  0.0  0.0  0.0  0.0\n",
       " 0.0  0.0  0.0  0.0  0.0  0.0  0.0  0.0     0.0  0.0  0.0  0.0  0.0  0.0  0.0\n",
       " 0.0  0.0  0.0  0.0  0.0  0.0  0.0  0.0  …  0.0  0.0  0.0  0.0  0.0  0.0  0.0\n",
       " 0.0  0.0  0.0  0.0  0.0  0.0  0.0  0.0     0.0  0.0  0.0  0.0  0.0  0.0  0.0\n",
       " 0.0  0.0  0.0  0.0  0.0  0.0  0.0  0.0     0.0  0.0  0.0  0.0  0.0  0.0  0.0\n",
       " 0.0  0.0  0.0  0.0  0.0  0.0  0.0  0.0     0.0  0.0  0.0  0.0  0.0  0.0  0.0\n",
       " 0.0  0.0  0.0  0.0  0.0  0.0  0.0  0.0     0.0  0.0  0.0  0.0  0.0  0.0  0.0\n",
       " 0.0  0.0  0.0  0.0  0.0  0.0  0.0  0.0  …  0.0  0.0  0.0  0.0  0.0  0.0  0.0\n",
       " 0.0  0.0  0.0  0.0  0.0  0.0  0.0  0.0     0.0  0.0  0.0  0.0  0.0  0.0  0.0\n",
       " 0.0  0.0  0.0  0.0  0.0  0.0  0.0  0.0     0.0  0.0  0.0  0.0  0.0  0.0  0.0\n",
       " ⋮                        ⋮              ⋱  ⋮                        ⋮    \n",
       " 0.0  0.0  0.0  0.0  0.0  0.0  0.0  0.0     0.0  0.0  0.0  0.0  0.0  0.0  0.0\n",
       " 0.0  0.0  0.0  0.0  0.0  0.0  0.0  0.0     0.0  0.0  0.0  0.0  0.0  0.0  0.0\n",
       " 0.0  0.0  0.0  0.0  0.0  0.0  0.0  0.0  …  0.0  0.0  0.0  0.0  0.0  0.0  0.0\n",
       " 0.0  0.0  0.0  0.0  0.0  0.0  0.0  0.0     0.0  0.0  0.0  0.0  0.0  0.0  0.0\n",
       " 0.0  0.0  0.0  0.0  0.0  0.0  0.0  0.0     0.0  0.0  0.0  0.0  0.0  0.0  0.0\n",
       " 0.0  0.0  0.0  0.0  0.0  0.0  0.0  0.0     0.0  0.0  0.0  0.0  0.0  0.0  0.0\n",
       " 0.0  0.0  0.0  0.0  0.0  0.0  0.0  0.0     0.0  0.0  0.0  0.0  0.0  0.0  0.0\n",
       " 0.0  0.0  0.0  0.0  0.0  0.0  0.0  0.0  …  0.0  0.0  0.0  0.0  0.0  0.0  0.0\n",
       " 0.0  0.0  0.0  0.0  0.0  0.0  0.0  0.0     0.0  0.0  0.0  0.0  0.0  0.0  0.0\n",
       " 0.0  0.0  0.0  0.0  0.0  0.0  0.0  0.0     0.0  0.0  0.0  0.0  0.0  0.0  0.0\n",
       " 0.0  0.0  0.0  0.0  0.0  0.0  0.0  0.0     0.0  0.0  0.0  0.0  0.0  0.0  0.0\n",
       " 0.0  0.0  0.0  0.0  0.0  0.0  0.0  0.0     0.0  0.0  0.0  0.0  0.0  0.0  0.0"
      ]
     },
     "execution_count": 10,
     "metadata": {},
     "output_type": "execute_result"
    }
   ],
   "source": [
    "Q1 = zeros(N, nx)"
   ]
  },
  {
   "cell_type": "code",
   "execution_count": 15,
   "metadata": {},
   "outputs": [
    {
     "data": {
      "text/plain": [
       "4×200 Array{Float64,2}:\n",
       " 0.629605   0.326684  0.874646   0.0411056  …  0.363469  0.317491  0.934818\n",
       " 0.22399    0.283091  0.53219    0.4247        0.527785  0.164593  0.871868\n",
       " 0.566864   0.511157  0.700122   0.348717      0.723372  0.334182  0.952003\n",
       " 0.0505716  0.995667  0.0391326  0.143356      0.769447  0.401063  0.300964"
      ]
     },
     "execution_count": 15,
     "metadata": {},
     "output_type": "execute_result"
    }
   ],
   "source": [
    "ψbis"
   ]
  },
  {
   "cell_type": "code",
   "execution_count": 20,
   "metadata": {},
   "outputs": [
    {
     "name": "stderr",
     "output_type": "stream",
     "text": [
      "┌ Error: Failed to revise /media/mat/HDD/AdaptiveTransportMap/src/radialmap/greedyfit.jl\n",
      "│   exception = (InterruptException(), Union{Ptr{Nothing}, Base.InterpreterIP}[Ptr{Nothing} @0x00007efdf81ec367, Ptr{Nothing} @0x00007efdf81f1bf6, Ptr{Nothing} @0x00007efdf816fc0e, Ptr{Nothing} @0x00007efdf8173597, Ptr{Nothing} @0x00007efdbcf54771])\n",
      "└ @ Revise /home/mat/.julia/packages/Revise/AIcio/src/packagedef.jl:709\n",
      "┌ Warning: The running code does not match the saved version for the following files:\n",
      "│ \n",
      "│   /media/mat/HDD/AdaptiveTransportMap/src/radialmap/greedyfit.jl\n",
      "│ \n",
      "│ If the error was due to evaluation order, it can sometimes be resolved by calling `Revise.retry()`.\n",
      "│ Use Revise.errors() to report errors again. Only the first error in each file is shown.\n",
      "│ Your prompt color may be yellow until the errors are resolved.\n",
      "└ @ Revise /home/mat/.julia/packages/Revise/AIcio/src/packagedef.jl:805\n"
     ]
    },
    {
     "data": {
      "text/plain": [
       "200×4 Array{Float64,2}:\n",
       " 0.629605   0.22399     0.566864  0.0505716\n",
       " 0.326684   0.283091    0.511157  0.995667\n",
       " 0.874646   0.53219     0.700122  0.0391326\n",
       " 0.0411056  0.4247      0.348717  0.143356\n",
       " 0.613903   0.632356    0.325746  0.514586\n",
       " 0.902662   0.328683    0.525948  0.842128\n",
       " 0.98988    0.169419    0.476712  0.805326\n",
       " 0.540091   0.635358    0.622532  0.570431\n",
       " 0.814644   0.160029    0.252947  0.960906\n",
       " 0.718986   0.192323    0.140789  0.801022\n",
       " 0.304391   0.534458    0.226681  0.085667\n",
       " 0.948703   0.749022    0.898236  0.337926\n",
       " 0.99419    0.911562    0.932376  0.711603\n",
       " ⋮                                \n",
       " 0.194676   0.53485     0.209457  0.452462\n",
       " 0.590701   0.250214    0.258469  0.0182\n",
       " 0.0722457  0.983296    0.896947  0.303564\n",
       " 0.406428   0.338016    0.288047  0.523898\n",
       " 0.860231   0.941426    0.232003  0.297934\n",
       " 0.0754768  0.00051333  0.485187  0.265898\n",
       " 0.668773   0.158696    0.60858   0.0370232\n",
       " 0.715556   0.586149    0.585833  0.582811\n",
       " 0.77708    0.747355    0.471161  0.849427\n",
       " 0.363469   0.527785    0.723372  0.769447\n",
       " 0.317491   0.164593    0.334182  0.401063\n",
       " 0.934818   0.871868    0.952003  0.300964"
      ]
     },
     "execution_count": 20,
     "metadata": {},
     "output_type": "execute_result"
    }
   ],
   "source": [
    "F.Q'*(F.Q*ψbis')"
   ]
  },
  {
   "cell_type": "code",
   "execution_count": 42,
   "metadata": {},
   "outputs": [
    {
     "data": {
      "text/plain": [
       "QR{Float64,Array{Float64,2}}\n",
       "Q factor:\n",
       "0×0 LinearAlgebra.QRPackedQ{Float64,Array{Float64,2}}\n",
       "R factor:\n",
       "0×0 Array{Float64,2}"
      ]
     },
     "execution_count": 42,
     "metadata": {},
     "output_type": "execute_result"
    }
   ],
   "source": [
    "F = qrfactUnblocked(zeros(0,0))"
   ]
  },
  {
   "cell_type": "code",
   "execution_count": 39,
   "metadata": {},
   "outputs": [
    {
     "ename": "LoadError",
     "evalue": "\u001b[91mMethodError: \u001b[0mCannot `convert` an object of type \u001b[92mArray{Float64,1}\u001b[39m\u001b[0m to an object of type \u001b[91mFloat64\u001b[39m\u001b[39m\n\u001b[91m\u001b[0mClosest candidates are:\u001b[39m\n\u001b[91m\u001b[0m  convert(::Type{T}, \u001b[91m::Static.StaticInt{N}\u001b[39m) where {T<:Number, N} at /home/mat/.julia/packages/Static/BGJW6/src/static_implementation.jl:22\u001b[39m\n\u001b[91m\u001b[0m  convert(::Type{T}, \u001b[91m::Static.StaticFloat64{N}\u001b[39m) where {N, T<:AbstractFloat} at /home/mat/.julia/packages/Static/BGJW6/src/float.jl:26\u001b[39m\n\u001b[91m\u001b[0m  convert(::Type{T}, \u001b[91m::VectorizationBase.LazyMulAdd{M,O,I}\u001b[39m) where {M, O, I, T<:Number} at /home/mat/.julia/packages/VectorizationBase/4k8ZW/src/lazymul.jl:17\u001b[39m\n\u001b[91m\u001b[0m  ...\u001b[39m",
     "output_type": "error",
     "traceback": [
      "\u001b[91mMethodError: \u001b[0mCannot `convert` an object of type \u001b[92mArray{Float64,1}\u001b[39m\u001b[0m to an object of type \u001b[91mFloat64\u001b[39m\u001b[39m\n\u001b[91m\u001b[0mClosest candidates are:\u001b[39m\n\u001b[91m\u001b[0m  convert(::Type{T}, \u001b[91m::Static.StaticInt{N}\u001b[39m) where {T<:Number, N} at /home/mat/.julia/packages/Static/BGJW6/src/static_implementation.jl:22\u001b[39m\n\u001b[91m\u001b[0m  convert(::Type{T}, \u001b[91m::Static.StaticFloat64{N}\u001b[39m) where {N, T<:AbstractFloat} at /home/mat/.julia/packages/Static/BGJW6/src/float.jl:26\u001b[39m\n\u001b[91m\u001b[0m  convert(::Type{T}, \u001b[91m::VectorizationBase.LazyMulAdd{M,O,I}\u001b[39m) where {M, O, I, T<:Number} at /home/mat/.julia/packages/VectorizationBase/4k8ZW/src/lazymul.jl:17\u001b[39m\n\u001b[91m\u001b[0m  ...\u001b[39m",
      "",
      "Stacktrace:",
      " [1] push!(::Array{Float64,1}, ::Array{Float64,1}) at ./array.jl:934",
      " [2] top-level scope at In[39]:1",
      " [3] include_string(::Function, ::Module, ::String, ::String) at ./loading.jl:1091"
     ]
    }
   ],
   "source": [
    "push!(tmp, zeros(5))"
   ]
  },
  {
   "cell_type": "code",
   "execution_count": 40,
   "metadata": {},
   "outputs": [
    {
     "name": "stdout",
     "output_type": "stream",
     "text": [
      "  0.000746 seconds (5.15 k allocations: 695.750 KiB)\n"
     ]
    }
   ],
   "source": [
    "p = 2\n",
    "order = p*ones(Int64, Nx)\n",
    "order[1] = p\n",
    "order[end] = p\n",
    "\n",
    "order = [p; p; -1; p; p]\n",
    "\n",
    "C = SparseRadialMapComponent(Nx, order)\n",
    "center_std!(C, sort(X; dims = 2); γ = γ)\n",
    "\n",
    "@time xdiag = optimize(C, X, λ, δ)\n",
    "modify_a!(C, xdiag)"
   ]
  },
  {
   "cell_type": "code",
   "execution_count": 42,
   "metadata": {},
   "outputs": [],
   "source": [
    "    # Compute centers and widths\n",
    "    center_std!(C, sort(X; dims = 2); γ = γ)\n",
    "\n",
    "    ### Evaluate the different basis\n",
    "\n",
    "    # Create weights\n",
    "    ψ_off, ψ_diag, dψ_diag = compute_weights(C, X);"
   ]
  },
  {
   "cell_type": "code",
   "execution_count": 43,
   "metadata": {},
   "outputs": [
    {
     "data": {
      "text/plain": [
       "9×100 Array{Float64,2}:\n",
       " -1.8943      0.524572  -0.377613  -0.0761536  …   0.384642  -3.25978\n",
       "  0.0948513   0.291842   0.433812   0.423307       0.33072    0.00231141\n",
       "  0.0349627   0.402897   0.365975   0.420995       0.42299    0.0004043\n",
       "  0.093796    0.158934   0.980648   1.46379       -0.853686   0.210463\n",
       "  0.386148    0.375565   0.178475   0.0819955      0.344625   0.366209\n",
       "  0.411406    0.413904   0.301441   0.178004   …   0.224426   0.414543\n",
       "  0.384716   -0.228189   0.595606  -1.6628        -0.711736  -0.0878159\n",
       "  0.404086    0.534755   0.31367    0.0726118      0.413267   0.532475\n",
       "  0.519375    0.455307   0.46454    0.023578       0.254256   0.49821"
      ]
     },
     "execution_count": 43,
     "metadata": {},
     "output_type": "execute_result"
    }
   ],
   "source": [
    "ψ_off"
   ]
  },
  {
   "cell_type": "code",
   "execution_count": 56,
   "metadata": {},
   "outputs": [
    {
     "name": "stdout",
     "output_type": "stream",
     "text": [
      "  0.000079 seconds (10 allocations: 7.391 KiB)\n"
     ]
    },
    {
     "data": {
      "text/plain": [
       "100×4 Array{Float64,2}:\n",
       " -0.00707087  0.924713    0.738385     0.37348\n",
       " -5.24541e-7  0.999992    0.993738     1.30523\n",
       " -0.0608338   0.62681     0.467749     0.18046\n",
       " -0.0969348   0.505746    0.389569     0.143246\n",
       " -0.112763    0.462505    0.362976     0.131668\n",
       " -0.891696    0.00621773  0.0284838    0.0128753\n",
       " -0.0484145   0.678355    0.503694     0.199457\n",
       " -0.0676156   0.601149    0.450559     0.171827\n",
       " -0.367903    0.122654    0.149201     0.0524203\n",
       " -0.169119    0.340947    0.28966      0.102052\n",
       " -0.0627705   0.619319    0.462688     0.177889\n",
       " -0.107679    0.475863    0.371142     0.135171\n",
       " -0.157954    0.361737    0.302165     0.106887\n",
       "  ⋮                                    \n",
       " -0.00738085  0.922004    0.734416     0.369397\n",
       " -0.088528    0.530854    0.405258     0.150316\n",
       " -0.0744019   0.576978    0.434716     0.164108\n",
       " -0.198409    0.292461    0.260307     0.0910113\n",
       " -0.149867    0.377701    0.311757     0.110653\n",
       " -0.0496635   0.672873    0.499767     0.197315\n",
       " -0.0213552   0.819936    0.618332     0.270874\n",
       " -1.80888e-7  0.999997    0.995989     1.40328\n",
       " -0.00277243  0.966006    0.812896     0.464029\n",
       " -0.0611287   0.625661    0.46697      0.180063\n",
       " -1.83158     2.23548e-6  0.000572801  0.000787276\n",
       " -0.228117    0.25082     0.234668     0.0816936"
      ]
     },
     "execution_count": 56,
     "metadata": {},
     "output_type": "execute_result"
    }
   ],
   "source": [
    "@time F.Q*(F.Q'*ψ_diag')"
   ]
  },
  {
   "cell_type": "code",
   "execution_count": 52,
   "metadata": {},
   "outputs": [
    {
     "data": {
      "text/plain": [
       "100×4 Array{Float64,2}:\n",
       "  0.259283   -1.26526     -1.14093    -1.10693\n",
       "  2.43358    -4.98023     -4.15672    -3.03175\n",
       " -0.113712    1.00018      0.839181    0.0215528\n",
       "  0.238057    0.185024     0.180396    0.246032\n",
       " -0.527554   -1.92636     -1.58001    -1.23033\n",
       " -0.0281731  -0.576664    -0.454201   -0.117531\n",
       "  0.0324086   0.258376     0.112765   -0.40009\n",
       "  0.999858   -0.360184    -0.288807    0.0484478\n",
       "  0.189334   -0.356912    -0.284213   -0.163268\n",
       "  0.168473    0.0464709    0.0292691  -0.050503\n",
       "  0.324687    0.0042863   -0.0607825  -0.230189\n",
       "  0.0883382   0.0648405    0.0460566   0.0261449\n",
       "  0.0130686  -0.0570624   -0.0624704  -0.312733\n",
       "  ⋮                                   \n",
       "  0.236156    0.155029     0.0823092  -0.185805\n",
       "  0.060593   -0.00593668  -0.0453959  -0.131984\n",
       "  0.132133    0.524442     0.388536    0.193398\n",
       "  0.0585351  -0.425783    -0.352708   -0.397807\n",
       "  0.109684   -0.0136371   -0.0583209  -0.322824\n",
       "  0.190798    0.189964     0.0581992  -0.237499\n",
       "  0.185859    0.0863229   -0.0208575  -0.243253\n",
       " -0.0225293   0.530252     0.576733    0.874148\n",
       "  0.203332    0.30105      0.259046   -0.00293284\n",
       " -0.0316351  -0.0718841   -0.127819   -0.181342\n",
       " -1.79504    -0.603092    -0.531261   -0.499633\n",
       " -0.120731   -0.402178    -0.320399   -0.22306"
      ]
     },
     "execution_count": 52,
     "metadata": {},
     "output_type": "execute_result"
    }
   ],
   "source": [
    "Matrix(F.Q')[1:Ne,:]*ψ_diag'"
   ]
  },
  {
   "cell_type": "code",
   "execution_count": 44,
   "metadata": {},
   "outputs": [
    {
     "data": {
      "text/plain": [
       "LinearAlgebra.QRCompactWY{Float64,Array{Float64,2}}\n",
       "Q factor:\n",
       "100×100 LinearAlgebra.QRCompactWYQ{Float64,Array{Float64,2}}:\n",
       " -0.17235     -0.0123195   0.0195756   …   0.0552232   -0.342795\n",
       "  0.0477271   -0.090474    0.140895       -0.131694     0.00507162\n",
       " -0.0343564   -0.124909   -0.0934567       0.143054     0.15335\n",
       " -0.00692869  -0.124303   -0.00655872      0.0112888   -0.0174998\n",
       "  0.0110816   -0.116911    0.05368        -0.08452     -0.0441607\n",
       "  0.039191    -0.0974732   0.127091    …   0.129849    -0.180872\n",
       " -0.00775866  -0.124519   -0.00939141     -0.131624     0.0209253\n",
       "  0.181403    -0.0221591  -0.0599955       0.0374523    0.0550513\n",
       " -0.133454    -0.0445787  -0.0776178       0.0188524    0.047145\n",
       "  0.0575559   -0.0822022   0.150916       -0.0249855   -0.0082464\n",
       " -0.00117364  -0.122488    0.0130785   …   0.00616488  -0.0233737\n",
       "  0.13222     -0.0328142   0.0549326       0.0011328    0.00471768\n",
       " -0.0266938   -0.126127   -0.0713438      -0.0067487   -0.0146783\n",
       "  ⋮                                    ⋱               \n",
       " -0.0164529   -0.126062   -0.0387106      -0.0151148    0.00836301\n",
       "  0.079306    -0.064321    0.150553       -0.0272676   -0.024982\n",
       "  0.111876    -0.0423328   0.102034    …  -0.0314052    0.0274614\n",
       "  0.00984493  -0.117572    0.0497219      -0.019081    -0.0120403\n",
       " -0.00248595  -0.12295     0.00861021      0.00816294  -0.00290929\n",
       "  0.00622664  -0.119383    0.0379265      -0.0131358    0.0216975\n",
       "  0.00995404  -0.117514    0.0500728      -0.0322447    0.0351397\n",
       " -0.0334902   -0.125101   -0.0910801   …  -0.040803     0.0184653\n",
       " -0.08053     -0.097142   -0.156686        0.0254882   -0.00226734\n",
       " -0.292428     0.0257946   0.195957       -0.00074139  -0.137618\n",
       "  0.0349958   -0.10079     0.118665        0.928121     0.0182223\n",
       " -0.296584     0.0262911   0.199315        0.0172871    0.844208\n",
       "R factor:\n",
       "9×9 Array{Float64,2}:\n",
       " 10.9911  -0.308151   0.112615  …   0.502165  -1.03727   -0.998652\n",
       "  0.0     -3.38826   -3.42591      -0.185984  -3.48813   -3.47161\n",
       "  0.0      0.0        0.621506     -0.497578   0.915426   0.777304\n",
       "  0.0      0.0        0.0           1.00089    0.187211   0.220187\n",
       "  0.0      0.0        0.0          -0.849179  -1.0394    -1.16909\n",
       "  0.0      0.0        0.0       …   0.600595  -0.255488  -0.331393\n",
       "  0.0      0.0        0.0           7.14353   -0.418668   0.240405\n",
       "  0.0      0.0        0.0           0.0       -1.80777   -1.65528\n",
       "  0.0      0.0        0.0           0.0        0.0       -0.679254"
      ]
     },
     "execution_count": 44,
     "metadata": {},
     "output_type": "execute_result"
    }
   ],
   "source": [
    "F = qr(ψ_off')"
   ]
  },
  {
   "cell_type": "code",
   "execution_count": 159,
   "metadata": {},
   "outputs": [
    {
     "name": "stdout",
     "output_type": "stream",
     "text": [
      "\u001b[37m\u001b[1mTest Summary:                              | \u001b[22m\u001b[39m\u001b[32m\u001b[1mPass  \u001b[22m\u001b[39m\u001b[36m\u001b[1mTotal\u001b[22m\u001b[39m\n",
      "Verify updateqrfactUnblocked! for a vector | \u001b[32m   2  \u001b[39m\u001b[36m    2\u001b[39m\n",
      "\u001b[37m\u001b[1mTest Summary:                              | \u001b[22m\u001b[39m\u001b[32m\u001b[1mPass  \u001b[22m\u001b[39m\u001b[36m\u001b[1mTotal\u001b[22m\u001b[39m\n",
      "Verify updateqrfactUnblocked! for a matrix | \u001b[32m   2  \u001b[39m\u001b[36m    2\u001b[39m\n"
     ]
    },
    {
     "data": {
      "text/plain": [
       "Test.DefaultTestSet(\"Verify updateqrfactUnblocked! for a matrix\", Any[], 2, false)"
      ]
     },
     "execution_count": 159,
     "metadata": {},
     "output_type": "execute_result"
    }
   ],
   "source": [
    "@testset \"Verify updateqrfactUnblocked! for a vector\" begin\n",
    "\n",
    "    ψ = randn(100, 20)\n",
    "    ϕ = randn(100)\n",
    "\n",
    "    F = qrfactUnblocked(ψ)\n",
    "    Fold = deepcopy(F)\n",
    "    G = qrfactUnblocked(hcat(ψ, ϕ))\n",
    "    F = updateqrfactUnblocked!(F, ϕ)\n",
    "    @test norm(F.τ-G.τ)<1e-14\n",
    "    @test norm(F.factors - G.factors)<1e-14\n",
    "end\n",
    "\n",
    "@testset \"Verify updateqrfactUnblocked! for a matrix\" begin\n",
    "\n",
    "    ψ = randn(100, 20)\n",
    "    ϕ = randn(100, 5)\n",
    "\n",
    "    F = qrfactUnblocked(ψ)\n",
    "    Fold = deepcopy(F)\n",
    "    G = qrfactUnblocked(hcat(ψ, ϕ))\n",
    "    F = updateqrfactUnblocked!(F, ϕ)\n",
    "    @test norm(F.τ-G.τ)<1e-14\n",
    "    @test norm(F.factors - G.factors)<1e-14\n",
    "end"
   ]
  },
  {
   "cell_type": "code",
   "execution_count": null,
   "metadata": {},
   "outputs": [],
   "source": []
  }
 ],
 "metadata": {
  "kernelspec": {
   "display_name": "Julia 1.5.3",
   "language": "julia",
   "name": "julia-1.5"
  },
  "language_info": {
   "file_extension": ".jl",
   "mimetype": "application/julia",
   "name": "julia",
   "version": "1.5.3"
  }
 },
 "nbformat": 4,
 "nbformat_minor": 4
}
