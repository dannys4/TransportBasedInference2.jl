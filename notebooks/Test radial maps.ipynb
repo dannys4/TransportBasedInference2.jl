{
 "cells": [
  {
   "cell_type": "code",
   "execution_count": 1,
   "metadata": {},
   "outputs": [
    {
     "name": "stderr",
     "output_type": "stream",
     "text": [
      "┌ Info: Precompiling AdaptiveTransportMap [bdf749b0-1400-4207-80d3-e689c0e3f03d]\n",
      "└ @ Base loading.jl:1278\n",
      "┌ Warning: Type annotations on keyword arguments not currently supported in recipes. Type information has been discarded\n",
      "└ @ RecipesBase ~/.julia/packages/RecipesBase/92zOw/src/RecipesBase.jl:116\n",
      "┌ Warning: Type annotations on keyword arguments not currently supported in recipes. Type information has been discarded\n",
      "└ @ RecipesBase ~/.julia/packages/RecipesBase/92zOw/src/RecipesBase.jl:116\n"
     ]
    }
   ],
   "source": [
    "using Revise\n",
    "using LinearAlgebra\n",
    "using AdaptiveTransportMap\n",
    "using Statistics\n",
    "using Distributions\n",
    "using Test\n",
    "using ForwardDiff\n",
    "using SpecialFunctions\n",
    "using OrthoMatchingPursuit\n",
    "using BenchmarkTools"
   ]
  },
  {
   "cell_type": "code",
   "execution_count": 2,
   "metadata": {},
   "outputs": [
    {
     "data": {
      "text/plain": [
       "(Sparse radial map component of dimension 3 and order p = [-1, 2, 1]\n",
       ", [0.1572457303567653, 0.15003348913568723])"
      ]
     },
     "execution_count": 2,
     "metadata": {},
     "output_type": "execute_result"
    }
   ],
   "source": [
    "Ne = 100\n",
    "Nx = 3\n",
    "\n",
    "X = randn(Nx, Ne) .* randn(Nx, Ne)\n",
    "\n",
    "λ = 0.0\n",
    "δ = 1e-8\n",
    "γ = 2.0\n",
    "\n",
    "poff = 2\n",
    "pdiag = 1\n",
    "\n",
    "Cgreedy, ϵgreedy = greedyfit(Nx, poff, pdiag, deepcopy(X), 1, λ, δ, γ)"
   ]
  },
  {
   "cell_type": "code",
   "execution_count": 41,
   "metadata": {},
   "outputs": [
    {
     "data": {
      "text/plain": [
       "2.0"
      ]
     },
     "execution_count": 41,
     "metadata": {},
     "output_type": "execute_result"
    }
   ],
   "source": [
    "Nx = 5\n",
    "Ne = 1000\n",
    "\n",
    "Σ = SymTridiagonal(rand(Nx), 0.05*rand(Nx-1))\n",
    "@assert isposdef(Symmetric(Matrix(Σ))) \"Σ is not positive definite\"\n",
    "Lx = cholesky(Symmetric(inv(Σ))).L\n",
    "πX = MvNormal(zeros(Nx), Symmetric(Σ))\n",
    "X = rand(πX, Ne)\n",
    "Xvalid = rand(πX, Ne)\n",
    "λ = 0.0\n",
    "δ = 1e-8\n",
    "γ = 2.0"
   ]
  },
  {
   "cell_type": "code",
   "execution_count": 52,
   "metadata": {},
   "outputs": [
    {
     "name": "stdout",
     "output_type": "stream",
     "text": [
      "  0.000014 seconds (106 allocations: 8.625 KiB)\n"
     ]
    },
    {
     "data": {
      "text/plain": [
       "Sparse Radial Map of dimension Nx = 5 and order p = [[-1], [-1, -1], [-1, -1, -1], [-1, -1, -1, -1], [-1, -1, -1, -1, -1]]\n",
       "        with parameters (γ, λ, δ, κ) = (2.0, 0.0, 1.0e-8, 10.0)\n"
      ]
     },
     "execution_count": 52,
     "metadata": {},
     "output_type": "execute_result"
    }
   ],
   "source": [
    "@time S = SparseRadialMap(Nx, -1; λ = λ, δ = δ, γ = γ)"
   ]
  },
  {
   "cell_type": "code",
   "execution_count": 53,
   "metadata": {},
   "outputs": [
    {
     "name": "stdout",
     "output_type": "stream",
     "text": [
      "Fold 1:\n",
      "1 active dimensions  - Training error: 0.2904017679797667, Validation error: 0.2431374846420569\n",
      "Fold 2:\n",
      "1 active dimensions  - Training error: 0.26640814074270575, Validation error: 0.3375536593570596\n",
      "Fold 3:\n",
      "1 active dimensions  - Training error: 0.26478865566614457, Validation error: 0.34362825558885446\n",
      "Fold 4:\n",
      "1 active dimensions  - Training error: 0.3034668250551874, Validation error: 0.19045812436639392\n",
      "Fold 5:\n",
      "1 active dimensions  - Training error: 0.2742726477760522, Validation error: 0.3045047164600608\n",
      "Optimization on the entire data set:\n",
      "1 active dimensions  - Training error: 0.2802682819827217\n",
      "Fold 1:\n",
      "1 active dimensions  - Training error: 0.09976692869752901, Validation error: 0.09786855057218458\n",
      "2 active dimensions  - Training error: 0.09841735712502349, Validation error: 0.10114844985694359\n",
      "Fold 2:\n",
      "1 active dimensions  - Training error: 0.09603808461312713, Validation error: 0.11219889981427227\n",
      "2 active dimensions  - Training error: 0.09573266278082491, Validation error: 0.1117027677982709\n",
      "Fold 3:\n",
      "1 active dimensions  - Training error: 0.10828973583606655, Validation error: 0.06394813159829124\n",
      "2 active dimensions  - Training error: 0.10671310871809198, Validation error: 0.06914465996533027\n",
      "Fold 4:\n",
      "1 active dimensions  - Training error: 0.09179063348229033, Validation error: 0.12941604988905786\n",
      "2 active dimensions  - Training error: 0.09157104271261045, Validation error: 0.12976788087712826\n",
      "Fold 5:\n",
      "1 active dimensions  - Training error: 0.09978012976944234, Validation error: 0.097048406066137\n",
      "2 active dimensions  - Training error: 0.09688035762230549, Validation error: 0.11193437765394285\n",
      "Optimization on the entire data set:\n",
      "1 active dimensions  - Training error: 0.09922958745382465\n",
      "Fold 1:\n",
      "1 active dimensions  - Training error: -0.4150730563012329, Validation error: -0.3767116307537121\n",
      "2 active dimensions  - Training error: -0.41884765193634266, Validation error: -0.3821407861265872\n",
      "3 active dimensions  - Training error: -0.4199769797564113, Validation error: -0.3813562794172159\n",
      "Fold 2:\n",
      "1 active dimensions  - Training error: -0.3922825001625432, Validation error: -0.4671322414070774\n",
      "2 active dimensions  - Training error: -0.3946289064990286, Validation error: -0.47700655815436344\n",
      "3 active dimensions  - Training error: -0.39595251240174306, Validation error: -0.47799401363315264\n",
      "Fold 3:\n",
      "1 active dimensions  - Training error: -0.4003575588868279, Validation error: -0.4352296471750042\n",
      "2 active dimensions  - Training error: -0.40562891622672, Validation error: -0.4344606814227376\n",
      "3 active dimensions  - Training error: -0.4085254130187707, Validation error: -0.4271662944069612\n",
      "Fold 4:\n",
      "1 active dimensions  - Training error: -0.4114475440013578, Validation error: -0.3915166430420628\n",
      "2 active dimensions  - Training error: -0.4186871039235602, Validation error: -0.3796634102420399\n",
      "3 active dimensions  - Training error: -0.42193166036226454, Validation error: -0.37153215694066516\n",
      "Fold 5:\n",
      "1 active dimensions  - Training error: -0.41914648441072305, Validation error: -0.3588289021081814\n",
      "2 active dimensions  - Training error: -0.4228792482465402, Validation error: -0.3646691337974747\n",
      "3 active dimensions  - Training error: -0.42308450211457205, Validation error: -0.3679153472578739\n",
      "Optimization on the entire data set:\n",
      "1 active dimensions  - Training error: -0.40748392647151505\n",
      "2 active dimensions  - Training error: -0.41168447431721644\n",
      "Fold 1:\n",
      "1 active dimensions  - Training error: 0.32871771978496944, Validation error: 0.3746721609038904\n",
      "2 active dimensions  - Training error: 0.3272999487162452, Validation error: 0.37374915123387265\n",
      "3 active dimensions  - Training error: 0.32688805016920347, Validation error: 0.37397824012972747\n",
      "4 active dimensions  - Training error: 0.3261176569511069, Validation error: 0.37164801974821404\n",
      "Fold 2:\n",
      "1 active dimensions  - Training error: 0.33125042065588955, Validation error: 0.36427854035112256\n",
      "2 active dimensions  - Training error: 0.32732018553571257, Validation error: 0.37197641428417\n",
      "3 active dimensions  - Training error: 0.32640149790993256, Validation error: 0.37099497577677915\n",
      "4 active dimensions  - Training error: 0.3261741373803778, Validation error: 0.3714550617779599\n",
      "Fold 3:\n",
      "1 active dimensions  - Training error: 0.33980346499763164, Validation error: 0.3300317036689498\n",
      "2 active dimensions  - Training error: 0.3362946027205002, Validation error: 0.33484014550799424\n",
      "3 active dimensions  - Training error: 0.33533547608266084, Validation error: 0.3402063263995769\n",
      "4 active dimensions  - Training error: 0.3338759394946249, Validation error: 0.3400184501310475\n",
      "Fold 4:\n",
      "1 active dimensions  - Training error: 0.34498941000126815, Validation error: 0.3102292797603719\n",
      "2 active dimensions  - Training error: 0.3427352868214725, Validation error: 0.30806116042222675\n",
      "3 active dimensions  - Training error: 0.34159685716212507, Validation error: 0.314182871372285\n",
      "4 active dimensions  - Training error: 0.33884146724679276, Validation error: 0.3240973222036134\n",
      "Fold 5:\n",
      "1 active dimensions  - Training error: 0.3438503480646214, Validation error: 0.3139068619117207\n",
      "2 active dimensions  - Training error: 0.3393977345054043, Validation error: 0.33012484883158166\n",
      "3 active dimensions  - Training error: 0.33778733504016034, Validation error: 0.3401915583726033\n",
      "4 active dimensions  - Training error: 0.3346369712362447, Validation error: 0.3502050221107579\n",
      "Optimization on the entire data set:\n",
      "1 active dimensions  - Training error: 0.3378126140948441\n",
      "Fold 1:\n",
      "1 active dimensions  - Training error: -0.7758114770319837, Validation error: -0.7636447457808229\n",
      "2 active dimensions  - Training error: -0.7944064660343425, Validation error: -0.771365279882574\n",
      "3 active dimensions  - Training error: -0.7957263555261872, Validation error: -0.7735882816841257\n",
      "4 active dimensions  - Training error: -0.7989599418949657, Validation error: -0.7633886884222243\n",
      "5 active dimensions  - Training error: -0.7995662561810813, Validation error: -0.7650342520962612\n",
      "Fold 2:\n",
      "1 active dimensions  - Training error: -0.7681418399400193, Validation error: -0.7945876829941455\n",
      "2 active dimensions  - Training error: -0.7822958195042682, Validation error: -0.8172962227752397\n",
      "3 active dimensions  - Training error: -0.7840803536864411, Validation error: -0.8181348855046889\n",
      "4 active dimensions  - Training error: -0.7850222863112764, Validation error: -0.8199926691723763\n",
      "5 active dimensions  - Training error: -0.7858519720940658, Validation error: -0.819903197505445\n",
      "Fold 3:\n",
      "1 active dimensions  - Training error: -0.7915360762201452, Validation error: -0.6991487494030172\n",
      "2 active dimensions  - Training error: -0.8073553911584637, Validation error: -0.7186793510165694\n",
      "3 active dimensions  - Training error: -0.809508828180127, Validation error: -0.7115534618999823\n",
      "4 active dimensions  - Training error: -0.8099180605344043, Validation error: -0.7155233081667651\n",
      "5 active dimensions  - Training error: -0.8114299788425063, Validation error: -0.714831826087426\n",
      "Fold 4:\n",
      "1 active dimensions  - Training error: -0.7820159543504496, Validation error: -0.7381149799122965\n",
      "2 active dimensions  - Training error: -0.7988019735723446, Validation error: -0.7525963903484624\n",
      "3 active dimensions  - Training error: -0.8026653186144163, Validation error: -0.7413553139552788\n",
      "4 active dimensions  - Training error: -0.8038715302191236, Validation error: -0.73922561829092\n",
      "5 active dimensions  - Training error: -0.8043289747410758, Validation error: -0.7379686188954498\n",
      "Fold 5:\n",
      "1 active dimensions  - Training error: -0.751165607038855, Validation error: -0.8598052742377224\n",
      "2 active dimensions  - Training error: -0.7710742646923554, Validation error: -0.8628030783303945\n",
      "3 active dimensions  - Training error: -0.7738016433871735, Validation error: -0.8586847023023307\n",
      "4 active dimensions  - Training error: -0.7745789677811218, Validation error: -0.8592709202968292\n",
      "5 active dimensions  - Training error: -0.7751637660822328, Validation error: -0.8620912627959438\n",
      "Optimization on the entire data set:\n",
      "1 active dimensions  - Training error: -0.7734663671828536\n",
      "2 active dimensions  - Training error: -0.7901657881711036\n",
      "  0.187010 seconds (1.57 M allocations: 138.563 MiB, 8.41% gc time)\n"
     ]
    },
    {
     "data": {
      "text/plain": [
       "Sparse Radial Map of dimension Nx = 5 and order p = [[0], [-1, 0], [-1, 2, 0], [-1, -1, -1, 0], [-1, -1, -1, 2, 0]]\n",
       "        with parameters (γ, λ, δ, κ) = (2.0, 0.0, 1.0e-8, 10.0)\n"
      ]
     },
     "execution_count": 53,
     "metadata": {},
     "output_type": "execute_result"
    }
   ],
   "source": [
    "@time S = optimize(S, X, 2, 0, \"kfolds\"; verbose = true)"
   ]
  },
  {
   "cell_type": "code",
   "execution_count": 51,
   "metadata": {},
   "outputs": [
    {
     "data": {
      "text/plain": [
       "1-element Array{Array{Float64,1},1}:\n",
       " [-0.07155850515213437, 1.2457424754907997]"
      ]
     },
     "execution_count": 51,
     "metadata": {},
     "output_type": "execute_result"
    }
   ],
   "source": [
    "S[1].coeff"
   ]
  },
  {
   "cell_type": "code",
   "execution_count": 29,
   "metadata": {
    "scrolled": false
   },
   "outputs": [
    {
     "name": "stdout",
     "output_type": "stream",
     "text": [
      "  0.024131 seconds (480.29 k allocations: 44.274 MiB)\n"
     ]
    },
    {
     "data": {
      "text/plain": [
       "(Sparse radial map component of dimension 5 and order p = [-1, -1, -1, -1, 0]\n",
       ", [-0.028762879099387236])"
      ]
     },
     "execution_count": 29,
     "metadata": {},
     "output_type": "execute_result"
    }
   ],
   "source": [
    "Cgreedy = SparseRadialMapComponent(Nx, -1)\n",
    "@time Cgreedy, ϵ = optimize(Cgreedy, X, 1, 0, \"kfolds\", λ, δ, γ; verbose = false)"
   ]
  },
  {
   "cell_type": "code",
   "execution_count": null,
   "metadata": {},
   "outputs": [],
   "source": []
  },
  {
   "cell_type": "code",
   "execution_count": null,
   "metadata": {},
   "outputs": [],
   "source": []
  },
  {
   "cell_type": "code",
   "execution_count": null,
   "metadata": {},
   "outputs": [],
   "source": []
  },
  {
   "cell_type": "code",
   "execution_count": null,
   "metadata": {},
   "outputs": [],
   "source": []
  },
  {
   "cell_type": "code",
   "execution_count": null,
   "metadata": {},
   "outputs": [],
   "source": []
  },
  {
   "cell_type": "code",
   "execution_count": 83,
   "metadata": {},
   "outputs": [
    {
     "name": "stdout",
     "output_type": "stream",
     "text": [
      "  0.272118 seconds (732.85 k allocations: 39.022 MiB, 4.35% gc time)\n"
     ]
    },
    {
     "data": {
      "text/plain": [
       "1.806181259414845"
      ]
     },
     "execution_count": 83,
     "metadata": {},
     "output_type": "execute_result"
    }
   ],
   "source": [
    "@time ForwardDiff.derivative(z-> Cgreedy(vcat(x[1:4], z)), x[5])"
   ]
  },
  {
   "cell_type": "code",
   "execution_count": 86,
   "metadata": {},
   "outputs": [
    {
     "name": "stdout",
     "output_type": "stream",
     "text": [
      "  1.250680 seconds (4.98 M allocations: 242.098 MiB, 2.84% gc time)\n"
     ]
    },
    {
     "data": {
      "text/plain": [
       "5×5 Array{Float64,2}:\n",
       " 0.0   0.0         0.0          0.0          0.0\n",
       " 0.0  -0.0235844   0.0          0.0          0.0\n",
       " 0.0   0.0        -0.00810138   0.0          0.0\n",
       " 0.0   0.0         0.0         -8.58126e-13  0.0\n",
       " 0.0   0.0         0.0          0.0          0.0"
      ]
     },
     "execution_count": 86,
     "metadata": {},
     "output_type": "execute_result"
    }
   ],
   "source": [
    "@time ForwardDiff.hessian(z-> Cgreedy(z), x)"
   ]
  }
 ],
 "metadata": {
  "kernelspec": {
   "display_name": "Julia 1.5.3",
   "language": "julia",
   "name": "julia-1.5"
  },
  "language_info": {
   "file_extension": ".jl",
   "mimetype": "application/julia",
   "name": "julia",
   "version": "1.5.3"
  }
 },
 "nbformat": 4,
 "nbformat_minor": 4
}
