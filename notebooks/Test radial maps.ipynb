{
 "cells": [
  {
   "cell_type": "code",
   "execution_count": 1,
   "metadata": {},
   "outputs": [],
   "source": [
    "using Revise\n",
    "using LinearAlgebra\n",
    "using AdaptiveTransportMap\n",
    "using Statistics\n",
    "using Distributions\n",
    "using Test\n",
    "using ForwardDiff\n",
    "using SpecialFunctions\n",
    "using OrthoMatchingPursuit\n",
    "using BenchmarkTools"
   ]
  },
  {
   "cell_type": "code",
   "execution_count": 21,
   "metadata": {},
   "outputs": [
    {
     "data": {
      "text/plain": [
       "2.0"
      ]
     },
     "execution_count": 21,
     "metadata": {},
     "output_type": "execute_result"
    }
   ],
   "source": [
    "Nx = 5\n",
    "Ne = 500\n",
    "X = randn(Nx, Ne).^2\n",
    "Xvalid = randn(Nx, Ne).^2\n",
    "λ = 0.0\n",
    "δ = 1e-8\n",
    "γ = 2.0"
   ]
  },
  {
   "cell_type": "code",
   "execution_count": 22,
   "metadata": {},
   "outputs": [
    {
     "name": "stdout",
     "output_type": "stream",
     "text": [
      "1 active dimensions  - Training error: 0.8027217746040775\n",
      "2 active dimensions  - Training error: 0.8002350736658196\n",
      "  0.845906 seconds (1.43 M allocations: 63.141 MiB, 1.55% gc time)\n"
     ]
    },
    {
     "data": {
      "text/plain": [
       "(Sparse radial map component of dimension 5 and order p = [-1, 2, -1, -1, 0]\n",
       ", [0.8027217746040775, 0.8002350736658196])"
      ]
     },
     "execution_count": 22,
     "metadata": {},
     "output_type": "execute_result"
    }
   ],
   "source": [
    "@time Cgreedy, ϵ = greedyfit(5, 2, 0, X, 1, λ, δ, γ; verbose = true)"
   ]
  },
  {
   "cell_type": "code",
   "execution_count": 25,
   "metadata": {
    "scrolled": false
   },
   "outputs": [
    {
     "name": "stdout",
     "output_type": "stream",
     "text": [
      "Fold 1:\n",
      "1 active dimensions  - Training error: 0.7289785449152474, Validation error: 1.12891236410568\n",
      "2 active dimensions  - Training error: 0.7277546847781257, Validation error: 1.1244317773371784\n",
      "3 active dimensions  - Training error: 0.7265975022157747, Validation error: 1.1224628742102827\n",
      "4 active dimensions  - Training error: 0.7254093325451157, Validation error: 1.1284116685665175\n",
      "5 active dimensions  - Training error: 0.7245662133352425, Validation error: 1.1347274827088785\n",
      "Fold 2:\n",
      "1 active dimensions  - Training error: 0.8493718279725815, Validation error: 0.6276677117864736\n",
      "2 active dimensions  - Training error: 0.8474511403120049, Validation error: 0.6262746840124936\n",
      "3 active dimensions  - Training error: 0.846034620609899, Validation error: 0.6266013699660019\n",
      "4 active dimensions  - Training error: 0.8452712264106544, Validation error: 0.6268295216719451\n",
      "5 active dimensions  - Training error: 0.8448849365721562, Validation error: 0.6321241394630992\n",
      "Fold 3:\n",
      "1 active dimensions  - Training error: 0.7705845562422305, Validation error: 0.9402678446619275\n",
      "2 active dimensions  - Training error: 0.7672945003027017, Validation error: 0.9413206833986655\n",
      "3 active dimensions  - Training error: 0.7664687359537888, Validation error: 0.9398171819354556\n",
      "4 active dimensions  - Training error: 0.7630897234904515, Validation error: 0.9529737159809484\n",
      "5 active dimensions  - Training error: 0.7621494940381135, Validation error: 0.9611781802264462\n",
      "Fold 4:\n",
      "1 active dimensions  - Training error: 0.8328950624962776, Validation error: 0.6897737742024052\n",
      "2 active dimensions  - Training error: 0.8284484433328893, Validation error: 0.6967817445362823\n",
      "3 active dimensions  - Training error: 0.8258399409488467, Validation error: 0.7004795562849901\n",
      "4 active dimensions  - Training error: 0.8205020324771626, Validation error: 0.733173129984415\n",
      "5 active dimensions  - Training error: 0.8195254606129475, Validation error: 0.7315110256320694\n",
      "Fold 5:\n",
      "1 active dimensions  - Training error: 0.8199984839182552, Validation error: 0.7352984997128623\n",
      "2 active dimensions  - Training error: 0.8165857868261814, Validation error: 0.7375067762463886\n",
      "3 active dimensions  - Training error: 0.8130586885451976, Validation error: 0.7468689088124508\n",
      "4 active dimensions  - Training error: 0.8091310841596732, Validation error: 0.7607390502746282\n",
      "5 active dimensions  - Training error: 0.8079469529631241, Validation error: 0.7652105840194489\n",
      "1 active dimensions  - Training error: 0.8027217746040775\n",
      "  0.143215 seconds (708.62 k allocations: 48.038 MiB, 6.66% gc time)\n"
     ]
    },
    {
     "data": {
      "text/plain": [
       "(Sparse radial map component of dimension 5 and order p = [-1, -1, -1, -1, 0]\n",
       ", [0.8027217746040775])"
      ]
     },
     "execution_count": 25,
     "metadata": {},
     "output_type": "execute_result"
    }
   ],
   "source": [
    "Cgreedy = SparseRadialMapComponent(Nx, -1)\n",
    "@time Cgreedy, ϵ = optimize(Cgreedy, X, 2, 0, \"kfold\", λ, δ, γ; verbose = true)"
   ]
  },
  {
   "cell_type": "code",
   "execution_count": null,
   "metadata": {},
   "outputs": [],
   "source": [
    "@time Cgreedy, ϵ = optimize(Cgreedy, X, 2, 0, \"split\", λ, δ, γ; maxpatience = 4)"
   ]
  },
  {
   "cell_type": "code",
   "execution_count": 19,
   "metadata": {},
   "outputs": [
    {
     "name": "stdout",
     "output_type": "stream",
     "text": [
      "  0.018648 seconds (91.66 k allocations: 11.540 MiB)\n"
     ]
    },
    {
     "data": {
      "text/plain": [
       "(Sparse radial map component of dimension 5 and order p = [2, -1, 2, 2, 2]\n",
       ", [0.16149625717495586, 0.15955843305309023, 0.1513458062113992, 0.14608833904374321])"
      ]
     },
     "execution_count": 19,
     "metadata": {},
     "output_type": "execute_result"
    }
   ],
   "source": [
    "@time Cgreedy, error = greedyfit(Nx, 2, 2, deepcopy(X), 3, λ, δ, γ)"
   ]
  },
  {
   "cell_type": "code",
   "execution_count": 20,
   "metadata": {},
   "outputs": [
    {
     "name": "stdout",
     "output_type": "stream",
     "text": [
      "  0.004808 seconds (54.84 k allocations: 5.174 MiB)\n"
     ]
    },
    {
     "data": {
      "text/plain": [
       "(Sparse radial map component of dimension 5 and order p = [2, 2, 2, 2, 0]\n",
       ", ([0.9522111470540667, 0.9468735067392048, 0.9382460125763467, 0.9339206542025913, 0.9330111942049354], [0.8123465391957869, 0.8138996919068819, 0.8178551591012666, 0.8222529910064743, 0.8217679113283066]))"
      ]
     },
     "execution_count": 20,
     "metadata": {},
     "output_type": "execute_result"
    }
   ],
   "source": [
    "@time Cgreedy, error = greedyfit(Nx, 2, 0, deepcopy(X), deepcopy(Xvalid), 4, λ, δ, γ; verbose = false)"
   ]
  },
  {
   "cell_type": "code",
   "execution_count": 33,
   "metadata": {},
   "outputs": [
    {
     "data": {
      "text/plain": [
       "Sparse radial map component of dimension 5 and order p = [1, 1, 1, 1, 0]\n"
      ]
     },
     "execution_count": 33,
     "metadata": {},
     "output_type": "execute_result"
    }
   ],
   "source": [
    "C = SparseRadialMapComponent(Nx, Cgreedy.p)"
   ]
  },
  {
   "cell_type": "code",
   "execution_count": 34,
   "metadata": {},
   "outputs": [
    {
     "name": "stdout",
     "output_type": "stream",
     "text": [
      "  0.007385 seconds (249 allocations: 114.234 KiB)\n"
     ]
    }
   ],
   "source": [
    "@time center_std!(C, sort(deepcopy(X); dims = 2); γ = γ)"
   ]
  },
  {
   "cell_type": "code",
   "execution_count": 35,
   "metadata": {},
   "outputs": [
    {
     "name": "stdout",
     "output_type": "stream",
     "text": [
      "  0.000287 seconds (2.58 k allocations: 277.781 KiB)\n"
     ]
    }
   ],
   "source": [
    "@time x_opt = optimize(C, X, λ, δ)\n",
    "modify_a!(C, x_opt)"
   ]
  },
  {
   "cell_type": "code",
   "execution_count": 36,
   "metadata": {},
   "outputs": [
    {
     "data": {
      "text/plain": [
       "0.9143832086452744"
      ]
     },
     "execution_count": 36,
     "metadata": {},
     "output_type": "execute_result"
    }
   ],
   "source": [
    "negative_likelihood(C, X)"
   ]
  },
  {
   "cell_type": "code",
   "execution_count": 37,
   "metadata": {},
   "outputs": [
    {
     "data": {
      "text/plain": [
       "0.9143832086452746"
      ]
     },
     "execution_count": 37,
     "metadata": {},
     "output_type": "execute_result"
    }
   ],
   "source": [
    "negative_likelihood(Cgreedy, X)"
   ]
  },
  {
   "cell_type": "code",
   "execution_count": null,
   "metadata": {},
   "outputs": [],
   "source": []
  }
 ],
 "metadata": {
  "kernelspec": {
   "display_name": "Julia 1.5.3",
   "language": "julia",
   "name": "julia-1.5"
  },
  "language_info": {
   "file_extension": ".jl",
   "mimetype": "application/julia",
   "name": "julia",
   "version": "1.5.3"
  }
 },
 "nbformat": 4,
 "nbformat_minor": 4
}
