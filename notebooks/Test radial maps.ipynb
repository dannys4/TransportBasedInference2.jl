{
 "cells": [
  {
   "cell_type": "code",
   "execution_count": 1,
   "metadata": {},
   "outputs": [
    {
     "name": "stderr",
     "output_type": "stream",
     "text": [
      "┌ Info: Precompiling AdaptiveTransportMap [bdf749b0-1400-4207-80d3-e689c0e3f03d]\n",
      "└ @ Base loading.jl:1278\n",
      "┌ Warning: Type annotations on keyword arguments not currently supported in recipes. Type information has been discarded\n",
      "└ @ RecipesBase ~/.julia/packages/RecipesBase/92zOw/src/RecipesBase.jl:116\n",
      "┌ Warning: Type annotations on keyword arguments not currently supported in recipes. Type information has been discarded\n",
      "└ @ RecipesBase ~/.julia/packages/RecipesBase/92zOw/src/RecipesBase.jl:116\n"
     ]
    }
   ],
   "source": [
    "using Revise\n",
    "using LinearAlgebra\n",
    "using AdaptiveTransportMap\n",
    "using Statistics\n",
    "using Distributions\n",
    "using Test\n",
    "using ForwardDiff\n",
    "using SpecialFunctions"
   ]
  },
  {
   "cell_type": "code",
   "execution_count": 2,
   "metadata": {},
   "outputs": [
    {
     "data": {
      "text/plain": [
       "3×100 Array{Float64,2}:\n",
       " -0.749731  -0.187909    0.328724  …  -0.140462  -0.0061916  -1.85843\n",
       " -0.610297   0.0814882   0.536478      0.268093   1.36918    -1.49243\n",
       " -0.663116  -0.258397   -0.627452      0.196283  -0.29078     0.289339"
      ]
     },
     "execution_count": 2,
     "metadata": {},
     "output_type": "execute_result"
    }
   ],
   "source": [
    "Nx = 3\n",
    "Ne = 100\n",
    "\n",
    "X = randn(Nx, Ne) .* randn(Nx, Ne)"
   ]
  },
  {
   "cell_type": "code",
   "execution_count": 12,
   "metadata": {},
   "outputs": [
    {
     "data": {
      "text/plain": [
       "1.0"
      ]
     },
     "execution_count": 12,
     "metadata": {},
     "output_type": "execute_result"
    }
   ],
   "source": [
    "p = 2\n",
    "order = [[-1], [p; p], [p; -1; p]]\n",
    "# parameters of the radial map\n",
    "γ = 2.0\n",
    "λ = 0.0\n",
    "δ = 1e-8\n",
    "κ = 10.0\n",
    "β = 1.0"
   ]
  },
  {
   "cell_type": "code",
   "execution_count": 18,
   "metadata": {},
   "outputs": [
    {
     "data": {
      "text/plain": [
       "2-element Array{Int64,1}:\n",
       " 1\n",
       " 3"
      ]
     },
     "execution_count": 18,
     "metadata": {},
     "output_type": "execute_result"
    }
   ],
   "source": [
    "S[3].activedim"
   ]
  },
  {
   "cell_type": "code",
   "execution_count": 20,
   "metadata": {},
   "outputs": [
    {
     "data": {
      "text/plain": [
       "1-element Array{Int64,1}:\n",
       " 1"
      ]
     },
     "execution_count": 20,
     "metadata": {},
     "output_type": "execute_result"
    }
   ],
   "source": [
    "intersect(1:Nx-1, [1; 3])"
   ]
  },
  {
   "cell_type": "code",
   "execution_count": 17,
   "metadata": {},
   "outputs": [
    {
     "data": {
      "text/plain": [
       "Sparse Radial Map of dimension Nx = 3 and order p = [[-1], [2, 2], [2, -1, 2]]\n",
       "        with parameters (γ, λ, δ, κ) = (2.0, 0.0, 1.0e-8, 10.0)\n"
      ]
     },
     "execution_count": 17,
     "metadata": {},
     "output_type": "execute_result"
    }
   ],
   "source": [
    "S = SparseRadialMap(Nx, order; γ = γ, λ = λ, δ = δ, κ = κ)"
   ]
  },
  {
   "cell_type": "code",
   "execution_count": 6,
   "metadata": {},
   "outputs": [],
   "source": [
    "# Compute centers and widths\n",
    "center_std(S, X)"
   ]
  },
  {
   "cell_type": "code",
   "execution_count": 6,
   "metadata": {},
   "outputs": [
    {
     "data": {
      "text/plain": [
       "([0.03045548552433473 1.7247424147778092 … 0.5573117853232217 1.850187301271166; 0.42804472227875456 0.05396444709934926 … 0.3246171447632195 0.0403924938733677; … ; 0.40060440666270336 0.38003965971899495 … 0.39407204830550757 0.37670058535954054; 0.3772897232879792 0.3994727227651369 … 0.31104960256641406 0.4008198230612497], [-0.32102288036854676 -0.07494407577738146 … -0.0658257334894152 -0.26905685959675363; 0.2942848900526415 0.7441079509493826 … 0.77164250792433 0.3562611805932012; 0.17049730570544658 0.6313280621631854 … 0.6664945823949311 0.22162691032229348; 0.040123535863675036 0.2353510274902077 … 0.26091465344146075 0.054172484917337324], [0.46512123261110494 0.15859054156515812 … 0.1428671236356865 0.41331337416685043; 0.5022110627161585 0.4687658313352641 … 0.4406916859496858 0.5431724566444791; 0.3973960154673769 0.5911324156467163 … 0.5700466646349909 0.46607903341494317; 0.10453360311860088 0.4076153023750737 … 0.43709471688020757 0.1337501778465074])"
      ]
     },
     "execution_count": 6,
     "metadata": {},
     "output_type": "execute_result"
    }
   ],
   "source": [
    "ψ_off, ψ_mono, dψ_mono = weights(S[3], X)"
   ]
  },
  {
   "cell_type": "code",
   "execution_count": 7,
   "metadata": {},
   "outputs": [
    {
     "data": {
      "text/plain": [
       "6×100 Array{Float64,2}:\n",
       "  0.0304555   1.72474    0.073244   …   0.0684391   0.557312   1.85019\n",
       "  0.428045    0.0539644  0.423747       0.424274    0.324617   0.0403925\n",
       "  0.415888    0.132348   0.421454       0.420871    0.420633   0.106092\n",
       " -0.300296   -0.0833889  0.0782703     -0.0903031  -0.649108  -0.0593117\n",
       "  0.400604    0.38004    0.354114       0.380962    0.394072   0.376701\n",
       "  0.37729     0.399473   0.403971   …   0.399043    0.31105    0.40082"
      ]
     },
     "execution_count": 7,
     "metadata": {},
     "output_type": "execute_result"
    }
   ],
   "source": [
    "ψ_off"
   ]
  },
  {
   "cell_type": "code",
   "execution_count": 8,
   "metadata": {},
   "outputs": [
    {
     "data": {
      "text/plain": [
       "4×100 Array{Float64,2}:\n",
       " -0.321023   -0.0749441  -0.0456151  …  -0.193564   -0.0658257  -0.269057\n",
       "  0.294285    0.744108    0.837038       0.471612    0.771643    0.356261\n",
       "  0.170497    0.631328    0.753758       0.327453    0.666495    0.221627\n",
       "  0.0401235   0.235351    0.338926       0.0875718   0.260915    0.0541725"
      ]
     },
     "execution_count": 8,
     "metadata": {},
     "output_type": "execute_result"
    }
   ],
   "source": [
    "ψ_mono"
   ]
  },
  {
   "cell_type": "code",
   "execution_count": 11,
   "metadata": {},
   "outputs": [],
   "source": [
    "optimize(S, X)"
   ]
  },
  {
   "cell_type": "code",
   "execution_count": 12,
   "metadata": {},
   "outputs": [
    {
     "data": {
      "text/plain": [
       "2×100 Array{Float64,2}:\n",
       " -0.0902116  -0.12386    1.14741  …  -0.00547935   0.236258   1.08684\n",
       "  1.55339     0.0265068  1.62471     -0.117889    -0.213312  -0.116376"
      ]
     },
     "execution_count": 12,
     "metadata": {},
     "output_type": "execute_result"
    }
   ],
   "source": [
    "S(X)"
   ]
  },
  {
   "cell_type": "code",
   "execution_count": 14,
   "metadata": {},
   "outputs": [
    {
     "data": {
      "text/plain": [
       "2-element Array{Array{Float64,1},1}:\n",
       " [-0.058027779437800964, -0.2624711875861948, 0.10687681878653094]\n",
       " [-1.0381593282757833, 0.5530618586357308, 1.8397629885942306, 3.355907582232706e-8, 0.8073814716517264]"
      ]
     },
     "execution_count": 14,
     "metadata": {},
     "output_type": "execute_result"
    }
   ],
   "source": [
    "S[2].a"
   ]
  },
  {
   "cell_type": "code",
   "execution_count": 15,
   "metadata": {},
   "outputs": [
    {
     "data": {
      "text/plain": [
       "3-element Array{Float64,1}:\n",
       " -1.0624153447017135\n",
       "  0.14936612885034695\n",
       " -0.5724227536520541"
      ]
     },
     "execution_count": 15,
     "metadata": {},
     "output_type": "execute_result"
    }
   ],
   "source": [
    "z = randn(3)"
   ]
  },
  {
   "cell_type": "code",
   "execution_count": 17,
   "metadata": {},
   "outputs": [
    {
     "data": {
      "text/plain": [
       "3-element Array{Float64,1}:\n",
       " -1.0624153447017135\n",
       "  0.14936612885034695\n",
       " -0.5724227536520541"
      ]
     },
     "execution_count": 17,
     "metadata": {},
     "output_type": "execute_result"
    }
   ],
   "source": [
    "S[2].a[1] .= z"
   ]
  },
  {
   "cell_type": "code",
   "execution_count": 19,
   "metadata": {},
   "outputs": [
    {
     "data": {
      "text/plain": [
       "5-element Array{Float64,1}:\n",
       " 0.0\n",
       " 0.0\n",
       " 0.0\n",
       " 0.0\n",
       " 0.0"
      ]
     },
     "execution_count": 19,
     "metadata": {},
     "output_type": "execute_result"
    }
   ],
   "source": [
    "S[2].a[2] = zeros(5)"
   ]
  },
  {
   "cell_type": "code",
   "execution_count": 38,
   "metadata": {},
   "outputs": [
    {
     "data": {
      "text/plain": [
       "1-element Array{Int64,1}:\n",
       " 4"
      ]
     },
     "execution_count": 38,
     "metadata": {},
     "output_type": "execute_result"
    }
   ],
   "source": [
    "active_dim = Int64[]\n",
    "push!(active_dim, 4)"
   ]
  },
  {
   "cell_type": "code",
   "execution_count": 39,
   "metadata": {},
   "outputs": [
    {
     "data": {
      "text/plain": [
       "2-element Array{Int64,1}:\n",
       " 4\n",
       " 5"
      ]
     },
     "execution_count": 39,
     "metadata": {},
     "output_type": "execute_result"
    }
   ],
   "source": [
    "push!(active_dim, 5)"
   ]
  },
  {
   "cell_type": "code",
   "execution_count": 9,
   "metadata": {},
   "outputs": [
    {
     "name": "stderr",
     "output_type": "stream",
     "text": [
      "┌ Error: Failed to revise /media/mat/HDD/AdaptiveTransportMap/src/radialmap/sparseradialmapcomponent.jl\n",
      "│   exception = Revise.ReviseEvalException(\"/media/mat/HDD/AdaptiveTransportMap/src/radialmap/sparseradialmapcomponent.jl:10\", ErrorException(\"invalid redefinition of constant SparseRadialMapComponent\"), Any[(top-level scope at sparseradialmapcomponent.jl:10, 1)])\n",
      "└ @ Revise /home/mat/.julia/packages/Revise/AIcio/src/packagedef.jl:707\n",
      "┌ Warning: The running code does not match the saved version for the following files:\n",
      "│ \n",
      "│   /media/mat/HDD/AdaptiveTransportMap/src/radialmap/sparseradialmapcomponent.jl\n",
      "│ \n",
      "│ If the error was due to evaluation order, it can sometimes be resolved by calling `Revise.retry()`.\n",
      "│ Use Revise.errors() to report errors again. Only the first error in each file is shown.\n",
      "│ Your prompt color may be yellow until the errors are resolved.\n",
      "└ @ Revise /home/mat/.julia/packages/Revise/AIcio/src/packagedef.jl:805\n"
     ]
    },
    {
     "data": {
      "text/plain": [
       "5-element Array{Int64,1}:\n",
       "  1\n",
       "  1\n",
       "  2\n",
       " -1\n",
       "  2"
      ]
     },
     "execution_count": 9,
     "metadata": {},
     "output_type": "execute_result"
    }
   ],
   "source": [
    "p = [1; 1;2; -1; 2]"
   ]
  },
  {
   "cell_type": "code",
   "execution_count": null,
   "metadata": {},
   "outputs": [],
   "source": [
    "julia> a = 1:10\n",
    "1:10\n",
    "\n",
    "julia> filter(isodd, a)\n",
    "5-element Array{Int64,1}:\n",
    " 1\n",
    " 3\n",
    " 5\n",
    " 7"
   ]
  },
  {
   "cell_type": "code",
   "execution_count": 13,
   "metadata": {},
   "outputs": [
    {
     "name": "stdout",
     "output_type": "stream",
     "text": [
      "search:\n",
      "\n",
      "Couldn't find \u001b[36mfilter\u001b[39m\n",
      "\n",
      "\u001b[36mReturn a copy of collection a, removing elements for which f is false.\u001b[39m\n",
      "Perhaps you meant FisherNoncentralHypergeometric\n"
     ]
    },
    {
     "data": {
      "text/latex": [
       "No documentation found.\n",
       "\n",
       "Binding `filter\n",
       "\n",
       "Return a copy of collection a, removing elements for which f is false.` does not exist.\n",
       "\n"
      ],
      "text/markdown": [
       "No documentation found.\n",
       "\n",
       "Binding `filter\n",
       "\n",
       "Return a copy of collection a, removing elements for which f is false.` does not exist.\n"
      ],
      "text/plain": [
       "  No documentation found.\n",
       "\n",
       "  Binding `filter\n",
       "\n",
       "  Return a copy of collection a, removing elements for which f is false.` does\n",
       "  not exist."
      ]
     },
     "execution_count": 13,
     "metadata": {},
     "output_type": "execute_result"
    }
   ],
   "source": [
    "?filter\n",
    "\n",
    "Return a copy of collection a, removing elements for which f is false."
   ]
  },
  {
   "cell_type": "code",
   "execution_count": 28,
   "metadata": {},
   "outputs": [
    {
     "data": {
      "text/plain": [
       "2"
      ]
     },
     "execution_count": 28,
     "metadata": {},
     "output_type": "execute_result"
    }
   ],
   "source": [
    "p[4] = 2"
   ]
  },
  {
   "cell_type": "code",
   "execution_count": 31,
   "metadata": {},
   "outputs": [
    {
     "data": {
      "text/plain": [
       "5-element Array{Int64,1}:\n",
       " -1\n",
       " -1\n",
       " -1\n",
       " -1\n",
       " -1"
      ]
     },
     "execution_count": 31,
     "metadata": {},
     "output_type": "execute_result"
    }
   ],
   "source": [
    "p = -1*ones(Int64,5)"
   ]
  },
  {
   "cell_type": "code",
   "execution_count": 24,
   "metadata": {},
   "outputs": [],
   "source": [
    "using BenchmarkTools"
   ]
  },
  {
   "cell_type": "code",
   "execution_count": 32,
   "metadata": {},
   "outputs": [
    {
     "data": {
      "text/plain": [
       "Int64[]"
      ]
     },
     "execution_count": 32,
     "metadata": {},
     "output_type": "execute_result"
    }
   ],
   "source": [
    "p[p .!= -1]"
   ]
  },
  {
   "cell_type": "code",
   "execution_count": 26,
   "metadata": {},
   "outputs": [
    {
     "name": "stdout",
     "output_type": "stream",
     "text": [
      "  40.442 ns (1 allocation: 128 bytes)\n"
     ]
    },
    {
     "data": {
      "text/plain": [
       "4-element Array{Int64,1}:\n",
       " 1\n",
       " 1\n",
       " 2\n",
       " 2"
      ]
     },
     "execution_count": 26,
     "metadata": {},
     "output_type": "execute_result"
    }
   ],
   "source": [
    "@btime filter(x-> x != -1, p)"
   ]
  },
  {
   "cell_type": "code",
   "execution_count": null,
   "metadata": {},
   "outputs": [],
   "source": [
    "@testset \"Verify updateqrfactUnblocked! for a vector\" begin\n",
    "\n",
    "    ψ = randn(100, 20)\n",
    "    ϕ = randn(100)\n",
    "\n",
    "    F = qrfactUnblocked(ψ)\n",
    "    Fold = deepcopy(F)\n",
    "    G = qrfactUnblocked(hcat(ψ, ϕ))\n",
    "    F = updateqrfactUnblocked!(F, ϕ)\n",
    "    @test norm(F.τ-G.τ)<1e-14\n",
    "    @test norm(F.factors - G.factors)<1e-14\n",
    "end\n",
    "\n",
    "@testset \"Verify updateqrfactUnblocked! for a matrix\" begin\n",
    "\n",
    "    ψ = randn(100, 20)\n",
    "    ϕ = randn(100, 5)\n",
    "\n",
    "    F = qrfactUnblocked(ψ)\n",
    "    Fold = deepcopy(F)\n",
    "    G = qrfactUnblocked(hcat(ψ, ϕ))\n",
    "    F = updateqrfactUnblocked!(F, ϕ)\n",
    "    @test norm(F.τ-G.τ)<1e-14\n",
    "    @test norm(F.factors - G.factors)<1e-14\n",
    "end"
   ]
  }
 ],
 "metadata": {
  "kernelspec": {
   "display_name": "Julia 1.5.3",
   "language": "julia",
   "name": "julia-1.5"
  },
  "language_info": {
   "file_extension": ".jl",
   "mimetype": "application/julia",
   "name": "julia",
   "version": "1.5.3"
  }
 },
 "nbformat": 4,
 "nbformat_minor": 4
}
