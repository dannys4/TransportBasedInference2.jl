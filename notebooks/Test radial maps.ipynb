{
 "cells": [
  {
   "cell_type": "code",
   "execution_count": 1,
   "metadata": {},
   "outputs": [
    {
     "name": "stderr",
     "output_type": "stream",
     "text": [
      "┌ Info: Precompiling AdaptiveTransportMap [bdf749b0-1400-4207-80d3-e689c0e3f03d]\n",
      "└ @ Base loading.jl:1278\n",
      "┌ Warning: Type annotations on keyword arguments not currently supported in recipes. Type information has been discarded\n",
      "└ @ RecipesBase ~/.julia/packages/RecipesBase/92zOw/src/RecipesBase.jl:116\n",
      "┌ Warning: Type annotations on keyword arguments not currently supported in recipes. Type information has been discarded\n",
      "└ @ RecipesBase ~/.julia/packages/RecipesBase/92zOw/src/RecipesBase.jl:116\n"
     ]
    }
   ],
   "source": [
    "using Revise\n",
    "using LinearAlgebra\n",
    "using AdaptiveTransportMap\n",
    "using Statistics\n",
    "using Distributions\n",
    "using Test\n",
    "using ForwardDiff\n",
    "using SpecialFunctions"
   ]
  },
  {
   "cell_type": "code",
   "execution_count": 2,
   "metadata": {},
   "outputs": [
    {
     "data": {
      "text/plain": [
       "3×100 Array{Float64,2}:\n",
       " -0.506034  -0.842495  -0.399615    …  -0.0115519  -0.0753821   1.41811\n",
       "  1.49441    0.773311  -0.00325653      0.198769    0.24023    -0.280636\n",
       " -0.467444   0.185993  -0.942934       -1.13423     0.18967     0.0723793"
      ]
     },
     "execution_count": 2,
     "metadata": {},
     "output_type": "execute_result"
    }
   ],
   "source": [
    "Nx = 3\n",
    "Ne = 100\n",
    "\n",
    "X = randn(Nx, Ne) .* randn(Nx, Ne)"
   ]
  },
  {
   "cell_type": "code",
   "execution_count": 62,
   "metadata": {},
   "outputs": [],
   "source": [
    "p = 2\n",
    "order = -1*ones(Int64, Nx)\n",
    "order[end] = p\n",
    "\n",
    "λ = 0.1\n",
    "δ = 0.0\n",
    "γ = 2.0\n",
    "\n",
    "C = SparseRadialMapComponent(Nx, order)\n",
    "\n",
    "center_std(C, X; γ = γ)"
   ]
  },
  {
   "cell_type": "code",
   "execution_count": 63,
   "metadata": {},
   "outputs": [
    {
     "name": "stdout",
     "output_type": "stream",
     "text": [
      "xdiag = [-0.6605819724481781, 1.0570705611049904, 0.0, 2.0289165153288455, 0.31270986137743895]\n"
     ]
    }
   ],
   "source": [
    "xdiag = optimize(C, X, λ, δ)\n",
    "@show xdiag\n",
    "modify_a(xdiag, C)"
   ]
  },
  {
   "cell_type": "code",
   "execution_count": 64,
   "metadata": {},
   "outputs": [
    {
     "data": {
      "text/plain": [
       "2-element Array{Float64,1}:\n",
       " 0.0\n",
       " 0.0"
      ]
     },
     "execution_count": 64,
     "metadata": {},
     "output_type": "execute_result"
    }
   ],
   "source": [
    "C.ξ[1] = zeros(2)"
   ]
  },
  {
   "cell_type": "code",
   "execution_count": 80,
   "metadata": {},
   "outputs": [
    {
     "data": {
      "text/plain": [
       "3×4 Array{Float64,2}:\n",
       "  0.473474  2.09537   -1.62193     1.20144\n",
       " -0.570037  0.431455   0.0729448   0.604184\n",
       " -0.397887  1.19417   -1.13854    -0.445431"
      ]
     },
     "execution_count": 80,
     "metadata": {},
     "output_type": "execute_result"
    }
   ],
   "source": [
    "X = randn(3,4)"
   ]
  },
  {
   "cell_type": "code",
   "execution_count": 81,
   "metadata": {},
   "outputs": [
    {
     "data": {
      "text/plain": [
       "3×4 Array{Float64,2}:\n",
       " -1.62193    0.473474    1.20144   2.09537\n",
       " -0.570037   0.0729448   0.431455  0.604184\n",
       " -1.13854   -0.445431   -0.397887  1.19417"
      ]
     },
     "execution_count": 81,
     "metadata": {},
     "output_type": "execute_result"
    }
   ],
   "source": [
    "sort(X; dims = 2)"
   ]
  },
  {
   "cell_type": "code",
   "execution_count": 67,
   "metadata": {},
   "outputs": [
    {
     "data": {
      "text/plain": [
       "(:Nx, :p, :activedim, :ξ, :σ, :a)"
      ]
     },
     "execution_count": 67,
     "metadata": {},
     "output_type": "execute_result"
    }
   ],
   "source": [
    "fieldnames(typeof(C))"
   ]
  },
  {
   "cell_type": "code",
   "execution_count": 79,
   "metadata": {},
   "outputs": [
    {
     "data": {
      "text/plain": [
       "\u001b[32m\u001b[1mTest Passed\u001b[22m\u001b[39m"
      ]
     },
     "execution_count": 79,
     "metadata": {},
     "output_type": "execute_result"
    }
   ],
   "source": [
    "    @test isapprox(quantile([0.5377;    1.8339;\n",
    "             -2.2588;    0.8622;    0.3188;\n",
    "                -1.3077;   -0.4336;    0.3426;\n",
    "                    3.5784;    2.7694], collect(1:11)./(11+1.0); sorted=false, alpha = 0.5, beta = 0.5),\n",
    "[-1.9417666666666666;\n",
    "     -1.162016666666667;\n",
    "     -0.4336 ;\n",
    "      0.19339999999999974;\n",
    "      0.33466666666666667;\n",
    "      0.44015   ;\n",
    "      0.6458666666666668 ;\n",
    "      1.0241499999999994;\n",
    "      1.8339    ;\n",
    "      2.6134833333333343 ;\n",
    "      3.308733333333333], atol = 1e-10)"
   ]
  },
  {
   "cell_type": "code",
   "execution_count": 77,
   "metadata": {},
   "outputs": [
    {
     "data": {
      "text/plain": [
       "3-element Array{Float64,1}:\n",
       " -0.4336\n",
       "  0.44015\n",
       "  1.8339"
      ]
     },
     "execution_count": 77,
     "metadata": {},
     "output_type": "execute_result"
    }
   ],
   "source": [
    "quantile(sort([0.5377;    1.8339; -2.2588;    0.8622;    0.3188; -1.3077;   -0.4336;    0.3426; 3.5784;    2.7694]),[0.25; 0.5; 0.75], alpha = 0.5, beta = 0.5)"
   ]
  },
  {
   "cell_type": "code",
   "execution_count": 70,
   "metadata": {},
   "outputs": [
    {
     "name": "stdout",
     "output_type": "stream",
     "text": [
      "search: \u001b[0m\u001b[1mu\u001b[22m\u001b[0m\u001b[1mp\u001b[22m\u001b[0m\u001b[1md\u001b[22m\u001b[0m\u001b[1ma\u001b[22m\u001b[0m\u001b[1mt\u001b[22m\u001b[0m\u001b[1me\u001b[22m\u001b[0m\u001b[1m_\u001b[22m\u001b[0m\u001b[1mc\u001b[22m\u001b[0m\u001b[1mo\u001b[22m\u001b[0m\u001b[1mm\u001b[22m\u001b[0m\u001b[1mp\u001b[22m\u001b[0m\u001b[1mo\u001b[22m\u001b[0m\u001b[1mn\u001b[22m\u001b[0m\u001b[1me\u001b[22m\u001b[0m\u001b[1mn\u001b[22m\u001b[0m\u001b[1mt\u001b[22m\n",
      "\n"
     ]
    },
    {
     "data": {
      "text/latex": [
       "No documentation found.\n",
       "\n",
       "\\texttt{AdaptiveTransportMap.update\\_component} is a \\texttt{Function}.\n",
       "\n",
       "\\begin{verbatim}\n",
       "# 1 method for generic function \"update_component\":\n",
       "[1] update_component(C::HermiteMapComponent, X, reduced_margin::Array{Int64,2}, S::Storage) in AdaptiveTransportMap at /media/mat/HDD/AdaptiveTransportMap/src/hermitemap/greedyfit.jl:431\n",
       "\\end{verbatim}\n"
      ],
      "text/markdown": [
       "No documentation found.\n",
       "\n",
       "`AdaptiveTransportMap.update_component` is a `Function`.\n",
       "\n",
       "```\n",
       "# 1 method for generic function \"update_component\":\n",
       "[1] update_component(C::HermiteMapComponent, X, reduced_margin::Array{Int64,2}, S::Storage) in AdaptiveTransportMap at /media/mat/HDD/AdaptiveTransportMap/src/hermitemap/greedyfit.jl:431\n",
       "```\n"
      ],
      "text/plain": [
       "  No documentation found.\n",
       "\n",
       "  \u001b[36mAdaptiveTransportMap.update_component\u001b[39m is a \u001b[36mFunction\u001b[39m.\n",
       "\n",
       "\u001b[36m  # 1 method for generic function \"update_component\":\u001b[39m\n",
       "\u001b[36m  [1] update_component(C::HermiteMapComponent, X, reduced_margin::Array{Int64,2}, S::Storage) in AdaptiveTransportMap at /media/mat/HDD/AdaptiveTransportMap/src/hermitemap/greedyfit.jl:431\u001b[39m"
      ]
     },
     "execution_count": 70,
     "metadata": {},
     "output_type": "execute_result"
    }
   ],
   "source": [
    "?update_component"
   ]
  },
  {
   "cell_type": "code",
   "execution_count": 49,
   "metadata": {},
   "outputs": [],
   "source": [
    "# Create a radial map with order p for all the entries\n",
    "Cfull = SparseRadialMapComponent(Nx, p)\n",
    "\n",
    "# Compute centers and widths\n",
    "center_std(Cfull, X; γ = 2.0)"
   ]
  },
  {
   "cell_type": "code",
   "execution_count": 50,
   "metadata": {},
   "outputs": [
    {
     "data": {
      "text/plain": [
       "([-0.5060342458307376 -0.8424945488393228 … -0.07538212662610277 1.4181088544263758; 0.4112214409429559 0.33048923092775484 … 0.44305093921690836 0.0962882457735615; … ; 0.10370205621754343 0.23530690982724844 … 0.32767175464878906 0.3614318285557624; 0.2016956834808597 0.33008398697933805 … 0.3610054535663662 0.31447779362939793], [-0.36157931795379117 -0.14640600356897468 … -0.1455680059360183 -0.17416966950579016; 0.2946009402268013 0.6477711017052892 … 0.6496895538799493 0.5868578621532539; 0.1644837638063545 0.5793349641684002 … 0.5819215071092174 0.49826559323642294; 0.04614178214323719 0.19418001696778922 … 0.19550473400300797 0.15632559419759445], [0.43936725566221746 0.2284248218142771 … 0.22741940931720678 0.260694865979447; 0.48511639289511516 0.5223025802927997 … 0.5212718390374709 0.5479048298243197; 0.4459891427684479 0.7039695167821562 … 0.7030218988758633 0.7182115138677226; 0.11843668943772773 0.3594356754693354 … 0.36116835068998754 0.3074677069363226])"
      ]
     },
     "execution_count": 50,
     "metadata": {},
     "output_type": "execute_result"
    }
   ],
   "source": [
    "### Evaluate the different basis\n",
    "\n",
    "# Create weights\n",
    "ψ_off, ψ_diag, ψ_∂k = compute_weights(Cfull, X)"
   ]
  },
  {
   "cell_type": "code",
   "execution_count": 51,
   "metadata": {},
   "outputs": [
    {
     "data": {
      "text/plain": [
       "3-element Array{Int64,1}:\n",
       " 2\n",
       " 2\n",
       " 2"
      ]
     },
     "execution_count": 51,
     "metadata": {},
     "output_type": "execute_result"
    }
   ],
   "source": [
    "C.p"
   ]
  },
  {
   "cell_type": "code",
   "execution_count": 53,
   "metadata": {},
   "outputs": [
    {
     "data": {
      "text/plain": [
       "3-element Array{Float64,1}:\n",
       "  0.01998042858133154\n",
       "  2.5365343994175134\n",
       " -4.353719767465045"
      ]
     },
     "execution_count": 53,
     "metadata": {},
     "output_type": "execute_result"
    }
   ],
   "source": [
    "C.a[2]"
   ]
  },
  {
   "cell_type": "code",
   "execution_count": 27,
   "metadata": {},
   "outputs": [
    {
     "data": {
      "text/plain": [
       "6-element Array{Float64,1}:\n",
       " 0.0\n",
       " 0.0\n",
       " 0.0\n",
       " 0.0\n",
       " 0.0\n",
       " 0.0"
      ]
     },
     "execution_count": 27,
     "metadata": {},
     "output_type": "execute_result"
    }
   ],
   "source": [
    "xoff = zeros(6)"
   ]
  },
  {
   "cell_type": "code",
   "execution_count": 28,
   "metadata": {},
   "outputs": [
    {
     "data": {
      "text/plain": [
       "5-element Array{Float64,1}:\n",
       " -0.6605819724481781\n",
       "  1.0570705611049904\n",
       "  0.0\n",
       "  2.0289165153288455\n",
       "  0.31270986137743895"
      ]
     },
     "execution_count": 28,
     "metadata": {},
     "output_type": "execute_result"
    }
   ],
   "source": [
    "xdiag"
   ]
  },
  {
   "cell_type": "code",
   "execution_count": 29,
   "metadata": {},
   "outputs": [
    {
     "data": {
      "text/plain": [
       "L (generic function with 1 method)"
      ]
     },
     "execution_count": 29,
     "metadata": {},
     "output_type": "execute_result"
    }
   ],
   "source": [
    "L(x) = (1/(2*Ne))*norm((ψ_off'*x) + ψ_diag'*xdiag[2:end] .+ xdiag[1])^2 + λ*x'*x"
   ]
  },
  {
   "cell_type": "code",
   "execution_count": 30,
   "metadata": {},
   "outputs": [
    {
     "data": {
      "text/plain": [
       "6-element Array{Float64,1}:\n",
       "  0.11149954905702167\n",
       " -0.0017661664202742843\n",
       "  0.0074999993566993665\n",
       "  0.15108410694750185\n",
       "  0.009462311261688443\n",
       "  0.02182530671298463"
      ]
     },
     "execution_count": 30,
     "metadata": {},
     "output_type": "execute_result"
    }
   ],
   "source": [
    "ForwardDiff.gradient(x->L(x), xoff)"
   ]
  },
  {
   "cell_type": "code",
   "execution_count": 32,
   "metadata": {},
   "outputs": [
    {
     "data": {
      "text/plain": [
       "6-element Array{Float64,1}:\n",
       "  0.11149954905702171\n",
       " -0.0017661664202742785\n",
       "  0.0074999993566993595\n",
       "  0.15108410694750185\n",
       "  0.009462311261688441\n",
       "  0.021825306712984625"
      ]
     },
     "execution_count": 32,
     "metadata": {},
     "output_type": "execute_result"
    }
   ],
   "source": [
    "b = vcat(ones(1,Ne), ψ_diag)'*xdiag;\n",
    "J = 1/Ne*(ψ_off)*ψ_off'*xoff + (1/(2*Ne))*ψ_off*b + ((1/(2*Ne))*b'*ψ_off')' + λ*xoff           "
   ]
  },
  {
   "cell_type": "code",
   "execution_count": 33,
   "metadata": {},
   "outputs": [
    {
     "data": {
      "text/plain": [
       "0.1117654632437668"
      ]
     },
     "execution_count": 33,
     "metadata": {},
     "output_type": "execute_result"
    }
   ],
   "source": [
    "norm(J[1:3])"
   ]
  },
  {
   "cell_type": "code",
   "execution_count": 34,
   "metadata": {},
   "outputs": [
    {
     "data": {
      "text/plain": [
       "0.1529453716843145"
      ]
     },
     "execution_count": 34,
     "metadata": {},
     "output_type": "execute_result"
    }
   ],
   "source": [
    "norm(J[4:6])"
   ]
  },
  {
   "cell_type": "code",
   "execution_count": null,
   "metadata": {},
   "outputs": [],
   "source": [
    "@testset \"Verify updateqrfactUnblocked! for a vector\" begin\n",
    "\n",
    "    ψ = randn(100, 20)\n",
    "    ϕ = randn(100)\n",
    "\n",
    "    F = qrfactUnblocked(ψ)\n",
    "    Fold = deepcopy(F)\n",
    "    G = qrfactUnblocked(hcat(ψ, ϕ))\n",
    "    F = updateqrfactUnblocked!(F, ϕ)\n",
    "    @test norm(F.τ-G.τ)<1e-14\n",
    "    @test norm(F.factors - G.factors)<1e-14\n",
    "end\n",
    "\n",
    "@testset \"Verify updateqrfactUnblocked! for a matrix\" begin\n",
    "\n",
    "    ψ = randn(100, 20)\n",
    "    ϕ = randn(100, 5)\n",
    "\n",
    "    F = qrfactUnblocked(ψ)\n",
    "    Fold = deepcopy(F)\n",
    "    G = qrfactUnblocked(hcat(ψ, ϕ))\n",
    "    F = updateqrfactUnblocked!(F, ϕ)\n",
    "    @test norm(F.τ-G.τ)<1e-14\n",
    "    @test norm(F.factors - G.factors)<1e-14\n",
    "end"
   ]
  }
 ],
 "metadata": {
  "kernelspec": {
   "display_name": "Julia 1.5.3",
   "language": "julia",
   "name": "julia-1.5"
  },
  "language_info": {
   "file_extension": ".jl",
   "mimetype": "application/julia",
   "name": "julia",
   "version": "1.5.3"
  }
 },
 "nbformat": 4,
 "nbformat_minor": 4
}
