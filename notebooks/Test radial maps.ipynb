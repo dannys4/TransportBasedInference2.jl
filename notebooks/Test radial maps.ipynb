{
 "cells": [
  {
   "cell_type": "code",
   "execution_count": 3,
   "metadata": {},
   "outputs": [
    {
     "name": "stderr",
     "output_type": "stream",
     "text": [
      "┌ Info: Precompiling AdaptiveTransportMap [bdf749b0-1400-4207-80d3-e689c0e3f03d]\n",
      "└ @ Base loading.jl:1278\n",
      "┌ Warning: Type annotations on keyword arguments not currently supported in recipes. Type information has been discarded\n",
      "└ @ RecipesBase ~/.julia/packages/RecipesBase/92zOw/src/RecipesBase.jl:116\n",
      "┌ Warning: Type annotations on keyword arguments not currently supported in recipes. Type information has been discarded\n",
      "└ @ RecipesBase ~/.julia/packages/RecipesBase/92zOw/src/RecipesBase.jl:116\n"
     ]
    }
   ],
   "source": [
    "using Revise\n",
    "using LinearAlgebra\n",
    "using AdaptiveTransportMap\n",
    "using Statistics\n",
    "using Distributions\n",
    "using Test\n",
    "using ForwardDiff\n",
    "using SpecialFunctions\n",
    "using OrthoMatchingPursuit\n",
    "using BenchmarkTools"
   ]
  },
  {
   "cell_type": "code",
   "execution_count": 23,
   "metadata": {},
   "outputs": [
    {
     "data": {
      "text/plain": [
       "2.0"
      ]
     },
     "execution_count": 23,
     "metadata": {},
     "output_type": "execute_result"
    }
   ],
   "source": [
    "Nx = 5\n",
    "Ne = 500\n",
    "X = randn(Nx, Ne).^2\n",
    "Xvalid = randn(Nx, Ne).^2\n",
    "λ = 0.0\n",
    "δ = 1e-8\n",
    "γ = 2.0"
   ]
  },
  {
   "cell_type": "code",
   "execution_count": 24,
   "metadata": {},
   "outputs": [
    {
     "data": {
      "text/plain": [
       "Sparse radial map component of dimension 5 and order p = [-1, -1, -1, -1, -1]\n"
      ]
     },
     "execution_count": 24,
     "metadata": {},
     "output_type": "execute_result"
    }
   ],
   "source": [
    "C = SparseRadialMapComponent(Nx, -1)"
   ]
  },
  {
   "cell_type": "code",
   "execution_count": 25,
   "metadata": {},
   "outputs": [
    {
     "name": "stdout",
     "output_type": "stream",
     "text": [
      "size(error[2]) = (5,)\n",
      "size(valid_error) = (5, 5)\n",
      "size(error[2]) = (5,)\n",
      "size(valid_error) = (5, 5)\n",
      "size(error[2]) = (5,)\n",
      "size(valid_error) = (5, 5)\n",
      "size(error[2]) = (5,)\n",
      "size(valid_error) = (5, 5)\n",
      "size(error[2]) = (5,)\n",
      "size(valid_error) = (5, 5)\n",
      "mean_valid_error = [0.8740657790966676, 0.8828394243234925, 0.8842764390272961, 0.8877451841421637, 0.8900777637400671]\n",
      "opt_families = 1\n"
     ]
    },
    {
     "ename": "LoadError",
     "evalue": "\u001b[91mAssertionError: Error in x_off\u001b[39m",
     "output_type": "error",
     "traceback": [
      "\u001b[91mAssertionError: Error in x_off\u001b[39m",
      "",
      "Stacktrace:",
      " [1] greedyfit(::Int64, ::Int64, ::Int64, ::Array{Float64,2}, ::Int64, ::Float64, ::Float64, ::Float64; verbose::Bool) at /media/mat/HDD/AdaptiveTransportMap/src/radialmap/greedyfit.jl:419",
      " [2] optimize(::SparseRadialMapComponent, ::Array{Float64,2}, ::Int64, ::Int64, ::String, ::Float64, ::Float64, ::Float64; maxpatience::Int64, verbose::Bool) at /media/mat/HDD/AdaptiveTransportMap/src/radialmap/sparseoptimize.jl:62",
      " [3] optimize(::SparseRadialMapComponent, ::Array{Float64,2}, ::Int64, ::Int64, ::String, ::Float64, ::Float64, ::Float64) at /media/mat/HDD/AdaptiveTransportMap/src/radialmap/sparseoptimize.jl:5",
      " [4] top-level scope at ./timing.jl:174 [inlined]",
      " [5] top-level scope at ./In[25]:0",
      " [6] include_string(::Function, ::Module, ::String, ::String) at ./loading.jl:1091"
     ]
    }
   ],
   "source": [
    "@time optimize(C, X, 1, 0, \"kfolds\", λ, δ, γ)"
   ]
  },
  {
   "cell_type": "code",
   "execution_count": 30,
   "metadata": {},
   "outputs": [
    {
     "name": "stdout",
     "output_type": "stream",
     "text": [
      "\u001b[37m\u001b[1mTest Summary:                                           | \u001b[22m\u001b[39m\u001b[32m\u001b[1mPass  \u001b[22m\u001b[39m\u001b[36m\u001b[1mTotal\u001b[22m\u001b[39m\n",
      "Test greedyfit for a fixed number of family of features | \u001b[32m 960  \u001b[39m\u001b[36m  960\u001b[39m\n"
     ]
    },
    {
     "data": {
      "text/plain": [
       "Test.DefaultTestSet(\"Test greedyfit for a fixed number of family of features\", Any[], 960, false)"
      ]
     },
     "execution_count": 30,
     "metadata": {},
     "output_type": "execute_result"
    }
   ],
   "source": [
    "@testset \"Test greedyfit for a fixed number of family of features\" begin\n",
    "\n",
    "    for Nx=1:5\n",
    "        Ne = 100\n",
    "\n",
    "        X = randn(Nx, Ne) .* randn(Nx, Ne)\n",
    "\n",
    "        λ = 0.0\n",
    "        δ = 1e-8\n",
    "        γ = 2.0\n",
    "\n",
    "        for pdiag=0:3\n",
    "            for poff=0:3\n",
    "                for k=0:Nx-1\n",
    "                    Cgreedy, ϵgreedy = greedyfit(Nx, pdiag, poff, deepcopy(X), k, λ, δ, γ)\n",
    "                    C = SparseRadialMapComponent(Nx, Cgreedy.p)\n",
    "                    center_std!(C, sort(deepcopy(X); dims = 2); γ = γ)\n",
    "                    x_opt = optimize(C, X, λ, δ)\n",
    "                    modify_a!(C, x_opt)\n",
    "                    @test isapprox(ϵgreedy[end], negative_likelihood(C, X), atol = 1e-10)\n",
    "                    @test norm(Cgreedy.a - C.a)<1e-10\n",
    "                end\n",
    "            end\n",
    "        end\n",
    "\n",
    "        for poff=0:3\n",
    "            for pdiag=0:3\n",
    "                for k=0:Nx-1\n",
    "                    Cgreedy, ϵgreedy = greedyfit(Nx, pdiag, poff, deepcopy(X), k, λ, δ, γ)\n",
    "                    C = SparseRadialMapComponent(Nx, Cgreedy.p)\n",
    "                    center_std!(C, sort(deepcopy(X); dims = 2); γ = γ)\n",
    "                    x_opt = optimize(C, X, λ, δ)\n",
    "                    modify_a!(C, x_opt)\n",
    "                    @test isapprox(ϵgreedy[end], negative_likelihood(C, X), atol = 1e-10)\n",
    "                    @test norm(Cgreedy.a - C.a)<1e-10\n",
    "                end\n",
    "            end\n",
    "        end\n",
    "    end\n",
    "end"
   ]
  },
  {
   "cell_type": "code",
   "execution_count": 19,
   "metadata": {},
   "outputs": [
    {
     "name": "stdout",
     "output_type": "stream",
     "text": [
      "  0.018648 seconds (91.66 k allocations: 11.540 MiB)\n"
     ]
    },
    {
     "data": {
      "text/plain": [
       "(Sparse radial map component of dimension 5 and order p = [2, -1, 2, 2, 2]\n",
       ", [0.16149625717495586, 0.15955843305309023, 0.1513458062113992, 0.14608833904374321])"
      ]
     },
     "execution_count": 19,
     "metadata": {},
     "output_type": "execute_result"
    }
   ],
   "source": [
    "@time Cgreedy, error = greedyfit(Nx, 2, 2, deepcopy(X), 3, λ, δ, γ)"
   ]
  },
  {
   "cell_type": "code",
   "execution_count": 20,
   "metadata": {},
   "outputs": [
    {
     "name": "stdout",
     "output_type": "stream",
     "text": [
      "  0.004808 seconds (54.84 k allocations: 5.174 MiB)\n"
     ]
    },
    {
     "data": {
      "text/plain": [
       "(Sparse radial map component of dimension 5 and order p = [2, 2, 2, 2, 0]\n",
       ", ([0.9522111470540667, 0.9468735067392048, 0.9382460125763467, 0.9339206542025913, 0.9330111942049354], [0.8123465391957869, 0.8138996919068819, 0.8178551591012666, 0.8222529910064743, 0.8217679113283066]))"
      ]
     },
     "execution_count": 20,
     "metadata": {},
     "output_type": "execute_result"
    }
   ],
   "source": [
    "@time Cgreedy, error = greedyfit(Nx, 2, 0, deepcopy(X), deepcopy(Xvalid), 4, λ, δ, γ; verbose = false)"
   ]
  },
  {
   "cell_type": "code",
   "execution_count": 57,
   "metadata": {},
   "outputs": [
    {
     "data": {
      "text/plain": [
       "5-th component of a Sparse KR rearrangement of order p = [2, 2, -1, 2, 2]\n"
      ]
     },
     "execution_count": 57,
     "metadata": {},
     "output_type": "execute_result"
    }
   ],
   "source": [
    "C = SparseRadialMapComponent(Nx, Cgreedy.p)"
   ]
  },
  {
   "cell_type": "code",
   "execution_count": 58,
   "metadata": {},
   "outputs": [
    {
     "name": "stdout",
     "output_type": "stream",
     "text": [
      "  0.000122 seconds (44 allocations: 62.719 KiB)\n"
     ]
    }
   ],
   "source": [
    "@time center_std!(C, sort(deepcopy(X); dims = 2); γ = γ)"
   ]
  },
  {
   "cell_type": "code",
   "execution_count": 60,
   "metadata": {},
   "outputs": [
    {
     "name": "stdout",
     "output_type": "stream",
     "text": [
      "  0.002689 seconds (18.33 k allocations: 2.522 MiB)\n"
     ]
    }
   ],
   "source": [
    "@time x_opt = optimize(C, X, λ, δ)\n",
    "modify_a!(C, x_opt)"
   ]
  },
  {
   "cell_type": "code",
   "execution_count": 65,
   "metadata": {},
   "outputs": [
    {
     "data": {
      "text/plain": [
       "0.4260154881199424"
      ]
     },
     "execution_count": 65,
     "metadata": {},
     "output_type": "execute_result"
    }
   ],
   "source": [
    "negative_likelihood(C, X)"
   ]
  },
  {
   "cell_type": "code",
   "execution_count": 66,
   "metadata": {},
   "outputs": [
    {
     "ename": "LoadError",
     "evalue": "\u001b[91mMethodError: no method matching ncoeff(::SparseRadialMapComponent)\u001b[39m\n\u001b[91m\u001b[0mClosest candidates are:\u001b[39m\n\u001b[91m\u001b[0m  ncoeff(\u001b[91m::LinHermiteMapComponent\u001b[39m) at /media/mat/HDD/AdaptiveTransportMap/src/hermitemap/linhermitemapcomponent.jl:32\u001b[39m\n\u001b[91m\u001b[0m  ncoeff(\u001b[91m::HermiteMapComponent\u001b[39m) at /media/mat/HDD/AdaptiveTransportMap/src/hermitemap/hermitemapcomponent.jl:85\u001b[39m\n\u001b[91m\u001b[0m  ncoeff(\u001b[91m::Int64\u001b[39m, \u001b[91m::Array{Int64,N} where N\u001b[39m) at /media/mat/HDD/AdaptiveTransportMap/src/radialmap/weights.jl:349\u001b[39m",
     "output_type": "error",
     "traceback": [
      "\u001b[91mMethodError: no method matching ncoeff(::SparseRadialMapComponent)\u001b[39m\n\u001b[91m\u001b[0mClosest candidates are:\u001b[39m\n\u001b[91m\u001b[0m  ncoeff(\u001b[91m::LinHermiteMapComponent\u001b[39m) at /media/mat/HDD/AdaptiveTransportMap/src/hermitemap/linhermitemapcomponent.jl:32\u001b[39m\n\u001b[91m\u001b[0m  ncoeff(\u001b[91m::HermiteMapComponent\u001b[39m) at /media/mat/HDD/AdaptiveTransportMap/src/hermitemap/hermitemapcomponent.jl:85\u001b[39m\n\u001b[91m\u001b[0m  ncoeff(\u001b[91m::Int64\u001b[39m, \u001b[91m::Array{Int64,N} where N\u001b[39m) at /media/mat/HDD/AdaptiveTransportMap/src/radialmap/weights.jl:349\u001b[39m",
      "",
      "Stacktrace:",
      " [1] top-level scope at In[66]:1",
      " [2] include_string(::Function, ::Module, ::String, ::String) at ./loading.jl:1091"
     ]
    }
   ],
   "source": [
    "ncoeff(C)"
   ]
  },
  {
   "cell_type": "code",
   "execution_count": null,
   "metadata": {},
   "outputs": [],
   "source": []
  }
 ],
 "metadata": {
  "kernelspec": {
   "display_name": "Julia 1.5.3",
   "language": "julia",
   "name": "julia-1.5"
  },
  "language_info": {
   "file_extension": ".jl",
   "mimetype": "application/julia",
   "name": "julia",
   "version": "1.5.3"
  }
 },
 "nbformat": 4,
 "nbformat_minor": 4
}
