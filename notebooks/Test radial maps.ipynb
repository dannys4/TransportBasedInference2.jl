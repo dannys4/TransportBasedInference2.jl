{
 "cells": [
  {
   "cell_type": "code",
   "execution_count": 1,
   "metadata": {},
   "outputs": [
    {
     "name": "stderr",
     "output_type": "stream",
     "text": [
      "┌ Info: Precompiling AdaptiveTransportMap [bdf749b0-1400-4207-80d3-e689c0e3f03d]\n",
      "└ @ Base loading.jl:1278\n",
      "┌ Warning: Type annotations on keyword arguments not currently supported in recipes. Type information has been discarded\n",
      "└ @ RecipesBase ~/.julia/packages/RecipesBase/92zOw/src/RecipesBase.jl:116\n",
      "┌ Warning: Type annotations on keyword arguments not currently supported in recipes. Type information has been discarded\n",
      "└ @ RecipesBase ~/.julia/packages/RecipesBase/92zOw/src/RecipesBase.jl:116\n"
     ]
    }
   ],
   "source": [
    "using Revise\n",
    "using LinearAlgebra\n",
    "using AdaptiveTransportMap\n",
    "using Statistics\n",
    "using Distributions\n",
    "using Test\n",
    "using ForwardDiff\n",
    "using SpecialFunctions\n",
    "using OrthoMatchingPursuit\n",
    "using BenchmarkTools"
   ]
  },
  {
   "cell_type": "code",
   "execution_count": 11,
   "metadata": {},
   "outputs": [
    {
     "data": {
      "text/plain": [
       "2.0"
      ]
     },
     "execution_count": 11,
     "metadata": {},
     "output_type": "execute_result"
    }
   ],
   "source": [
    "Nx = 5\n",
    "Ne = 300\n",
    "X = randn(Nx, Ne).^2\n",
    "Xvalid = randn(Nx, Ne).^2\n",
    "λ = 0.0\n",
    "δ = 1e-8\n",
    "γ = 2.0"
   ]
  },
  {
   "cell_type": "code",
   "execution_count": 13,
   "metadata": {},
   "outputs": [
    {
     "name": "stdout",
     "output_type": "stream",
     "text": [
      "  0.003052 seconds (52.05 k allocations: 7.718 MiB)\n"
     ]
    },
    {
     "data": {
      "text/plain": [
       "Sparse radial map component of dimension 5 and order p = [2, 2, 2, -1, 2]\n"
      ]
     },
     "execution_count": 13,
     "metadata": {},
     "output_type": "execute_result"
    }
   ],
   "source": [
    "@time Cgreedy = greedyfit(Nx, 2, 2, deepcopy(X), 3, λ, δ, γ)"
   ]
  },
  {
   "cell_type": "code",
   "execution_count": 20,
   "metadata": {},
   "outputs": [
    {
     "name": "stdout",
     "output_type": "stream",
     "text": [
      "  0.006211 seconds (74.36 k allocations: 7.912 MiB)\n"
     ]
    },
    {
     "data": {
      "text/plain": [
       "Sparse radial map component of dimension 5 and order p = [2, 2, 2, 2, 1]\n"
      ]
     },
     "execution_count": 20,
     "metadata": {},
     "output_type": "execute_result"
    }
   ],
   "source": [
    "@time Cgreedy = greedyfit(Nx, 2, 1, deepcopy(X), deepcopy(Xvalid), 4, λ, δ, γ; verbose = false)"
   ]
  },
  {
   "cell_type": "code",
   "execution_count": 57,
   "metadata": {},
   "outputs": [
    {
     "data": {
      "text/plain": [
       "5-th component of a Sparse KR rearrangement of order p = [2, 2, -1, 2, 2]\n"
      ]
     },
     "execution_count": 57,
     "metadata": {},
     "output_type": "execute_result"
    }
   ],
   "source": [
    "C = SparseRadialMapComponent(Nx, Cgreedy.p)"
   ]
  },
  {
   "cell_type": "code",
   "execution_count": 58,
   "metadata": {},
   "outputs": [
    {
     "name": "stdout",
     "output_type": "stream",
     "text": [
      "  0.000122 seconds (44 allocations: 62.719 KiB)\n"
     ]
    }
   ],
   "source": [
    "@time center_std!(C, sort(deepcopy(X); dims = 2); γ = γ)"
   ]
  },
  {
   "cell_type": "code",
   "execution_count": 60,
   "metadata": {},
   "outputs": [
    {
     "name": "stdout",
     "output_type": "stream",
     "text": [
      "  0.002689 seconds (18.33 k allocations: 2.522 MiB)\n"
     ]
    }
   ],
   "source": [
    "@time x_opt = optimize(C, X, λ, δ)\n",
    "modify_a!(C, x_opt)"
   ]
  },
  {
   "cell_type": "code",
   "execution_count": 65,
   "metadata": {},
   "outputs": [
    {
     "data": {
      "text/plain": [
       "0.4260154881199424"
      ]
     },
     "execution_count": 65,
     "metadata": {},
     "output_type": "execute_result"
    }
   ],
   "source": [
    "negative_likelihood(C, X)"
   ]
  },
  {
   "cell_type": "code",
   "execution_count": 66,
   "metadata": {},
   "outputs": [
    {
     "ename": "LoadError",
     "evalue": "\u001b[91mMethodError: no method matching ncoeff(::SparseRadialMapComponent)\u001b[39m\n\u001b[91m\u001b[0mClosest candidates are:\u001b[39m\n\u001b[91m\u001b[0m  ncoeff(\u001b[91m::LinHermiteMapComponent\u001b[39m) at /media/mat/HDD/AdaptiveTransportMap/src/hermitemap/linhermitemapcomponent.jl:32\u001b[39m\n\u001b[91m\u001b[0m  ncoeff(\u001b[91m::HermiteMapComponent\u001b[39m) at /media/mat/HDD/AdaptiveTransportMap/src/hermitemap/hermitemapcomponent.jl:85\u001b[39m\n\u001b[91m\u001b[0m  ncoeff(\u001b[91m::Int64\u001b[39m, \u001b[91m::Array{Int64,N} where N\u001b[39m) at /media/mat/HDD/AdaptiveTransportMap/src/radialmap/weights.jl:349\u001b[39m",
     "output_type": "error",
     "traceback": [
      "\u001b[91mMethodError: no method matching ncoeff(::SparseRadialMapComponent)\u001b[39m\n\u001b[91m\u001b[0mClosest candidates are:\u001b[39m\n\u001b[91m\u001b[0m  ncoeff(\u001b[91m::LinHermiteMapComponent\u001b[39m) at /media/mat/HDD/AdaptiveTransportMap/src/hermitemap/linhermitemapcomponent.jl:32\u001b[39m\n\u001b[91m\u001b[0m  ncoeff(\u001b[91m::HermiteMapComponent\u001b[39m) at /media/mat/HDD/AdaptiveTransportMap/src/hermitemap/hermitemapcomponent.jl:85\u001b[39m\n\u001b[91m\u001b[0m  ncoeff(\u001b[91m::Int64\u001b[39m, \u001b[91m::Array{Int64,N} where N\u001b[39m) at /media/mat/HDD/AdaptiveTransportMap/src/radialmap/weights.jl:349\u001b[39m",
      "",
      "Stacktrace:",
      " [1] top-level scope at In[66]:1",
      " [2] include_string(::Function, ::Module, ::String, ::String) at ./loading.jl:1091"
     ]
    }
   ],
   "source": [
    "ncoeff(C)"
   ]
  },
  {
   "cell_type": "code",
   "execution_count": null,
   "metadata": {},
   "outputs": [],
   "source": []
  }
 ],
 "metadata": {
  "kernelspec": {
   "display_name": "Julia 1.5.3",
   "language": "julia",
   "name": "julia-1.5"
  },
  "language_info": {
   "file_extension": ".jl",
   "mimetype": "application/julia",
   "name": "julia",
   "version": "1.5.3"
  }
 },
 "nbformat": 4,
 "nbformat_minor": 4
}
