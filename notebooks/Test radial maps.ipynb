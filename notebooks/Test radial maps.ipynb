{
 "cells": [
  {
   "cell_type": "code",
   "execution_count": 1,
   "metadata": {},
   "outputs": [
    {
     "name": "stderr",
     "output_type": "stream",
     "text": [
      "┌ Info: Precompiling AdaptiveTransportMap [bdf749b0-1400-4207-80d3-e689c0e3f03d]\n",
      "└ @ Base loading.jl:1278\n",
      "┌ Warning: Type annotations on keyword arguments not currently supported in recipes. Type information has been discarded\n",
      "└ @ RecipesBase ~/.julia/packages/RecipesBase/92zOw/src/RecipesBase.jl:116\n",
      "┌ Warning: Type annotations on keyword arguments not currently supported in recipes. Type information has been discarded\n",
      "└ @ RecipesBase ~/.julia/packages/RecipesBase/92zOw/src/RecipesBase.jl:116\n"
     ]
    }
   ],
   "source": [
    "using Revise\n",
    "using LinearAlgebra\n",
    "using AdaptiveTransportMap\n",
    "using Statistics\n",
    "using Distributions\n",
    "using Test\n",
    "using ForwardDiff\n",
    "using SpecialFunctions\n",
    "using OrthoMatchingPursuit\n",
    "using BenchmarkTools"
   ]
  },
  {
   "cell_type": "code",
   "execution_count": 85,
   "metadata": {},
   "outputs": [
    {
     "data": {
      "text/plain": [
       "2.0"
      ]
     },
     "execution_count": 85,
     "metadata": {},
     "output_type": "execute_result"
    }
   ],
   "source": [
    "Nx = 5\n",
    "Ne = 300\n",
    "X = randn(Nx, Ne).^2\n",
    "Xvalid = randn(Nx, Ne).^2\n",
    "λ = 0.0\n",
    "δ = 1e-8\n",
    "γ = 2.0"
   ]
  },
  {
   "cell_type": "code",
   "execution_count": 83,
   "metadata": {},
   "outputs": [
    {
     "name": "stdout",
     "output_type": "stream",
     "text": [
      "  0.002333 seconds (20.50 k allocations: 3.505 MiB)\n"
     ]
    },
    {
     "data": {
      "text/plain": [
       "5-th component of a Sparse KR rearrangement of order p = [2, 2, -1, 2, 2]\n"
      ]
     },
     "execution_count": 83,
     "metadata": {},
     "output_type": "execute_result"
    }
   ],
   "source": [
    "@time Cgreedy = greedyfit(Nx, 2, deepcopy(X), 3, λ, δ, γ)"
   ]
  },
  {
   "cell_type": "code",
   "execution_count": 86,
   "metadata": {},
   "outputs": [
    {
     "name": "stdout",
     "output_type": "stream",
     "text": [
      "size(Xsort) = (5, 600)\n",
      "1 active dimensions  - Training error: 0.178045742110853, Validation error: 0.10831130863190723\n",
      "2 active dimensions  - Training error: 0.17569482977681894, Validation error: 0.11536811987662371\n",
      "3 active dimensions  - Training error: 0.17400222923906059, Validation error: 0.12017788120270875\n",
      "4 active dimensions  - Training error: 0.1707891467556135, Validation error: 0.13097504567137766\n",
      "5 active dimensions  - Training error: 0.17014602112016716, Validation error: 0.13009050396968175\n",
      "  0.865876 seconds (1.50 M allocations: 69.694 MiB, 1.78% gc time)\n"
     ]
    },
    {
     "data": {
      "text/plain": [
       "5-th component of a Sparse KR rearrangement of order p = [1, 1, 1, 1, 1]\n"
      ]
     },
     "execution_count": 86,
     "metadata": {},
     "output_type": "execute_result"
    }
   ],
   "source": [
    "@time Cgreedy = greedyfit(Nx, 1, deepcopy(X), deepcopy(Xvalid), 4, λ, δ, γ)"
   ]
  },
  {
   "cell_type": "code",
   "execution_count": 57,
   "metadata": {},
   "outputs": [
    {
     "data": {
      "text/plain": [
       "5-th component of a Sparse KR rearrangement of order p = [2, 2, -1, 2, 2]\n"
      ]
     },
     "execution_count": 57,
     "metadata": {},
     "output_type": "execute_result"
    }
   ],
   "source": [
    "C = SparseRadialMapComponent(Nx, Cgreedy.p)"
   ]
  },
  {
   "cell_type": "code",
   "execution_count": 58,
   "metadata": {},
   "outputs": [
    {
     "name": "stdout",
     "output_type": "stream",
     "text": [
      "  0.000122 seconds (44 allocations: 62.719 KiB)\n"
     ]
    }
   ],
   "source": [
    "@time center_std!(C, sort(deepcopy(X); dims = 2); γ = γ)"
   ]
  },
  {
   "cell_type": "code",
   "execution_count": 60,
   "metadata": {},
   "outputs": [
    {
     "name": "stdout",
     "output_type": "stream",
     "text": [
      "  0.002689 seconds (18.33 k allocations: 2.522 MiB)\n"
     ]
    }
   ],
   "source": [
    "@time x_opt = optimize(C, X, λ, δ)\n",
    "modify_a!(C, x_opt)"
   ]
  },
  {
   "cell_type": "code",
   "execution_count": 65,
   "metadata": {},
   "outputs": [
    {
     "data": {
      "text/plain": [
       "0.4260154881199424"
      ]
     },
     "execution_count": 65,
     "metadata": {},
     "output_type": "execute_result"
    }
   ],
   "source": [
    "negative_likelihood(C, X)"
   ]
  },
  {
   "cell_type": "code",
   "execution_count": 66,
   "metadata": {},
   "outputs": [
    {
     "ename": "LoadError",
     "evalue": "\u001b[91mMethodError: no method matching ncoeff(::SparseRadialMapComponent)\u001b[39m\n\u001b[91m\u001b[0mClosest candidates are:\u001b[39m\n\u001b[91m\u001b[0m  ncoeff(\u001b[91m::LinHermiteMapComponent\u001b[39m) at /media/mat/HDD/AdaptiveTransportMap/src/hermitemap/linhermitemapcomponent.jl:32\u001b[39m\n\u001b[91m\u001b[0m  ncoeff(\u001b[91m::HermiteMapComponent\u001b[39m) at /media/mat/HDD/AdaptiveTransportMap/src/hermitemap/hermitemapcomponent.jl:85\u001b[39m\n\u001b[91m\u001b[0m  ncoeff(\u001b[91m::Int64\u001b[39m, \u001b[91m::Array{Int64,N} where N\u001b[39m) at /media/mat/HDD/AdaptiveTransportMap/src/radialmap/weights.jl:349\u001b[39m",
     "output_type": "error",
     "traceback": [
      "\u001b[91mMethodError: no method matching ncoeff(::SparseRadialMapComponent)\u001b[39m\n\u001b[91m\u001b[0mClosest candidates are:\u001b[39m\n\u001b[91m\u001b[0m  ncoeff(\u001b[91m::LinHermiteMapComponent\u001b[39m) at /media/mat/HDD/AdaptiveTransportMap/src/hermitemap/linhermitemapcomponent.jl:32\u001b[39m\n\u001b[91m\u001b[0m  ncoeff(\u001b[91m::HermiteMapComponent\u001b[39m) at /media/mat/HDD/AdaptiveTransportMap/src/hermitemap/hermitemapcomponent.jl:85\u001b[39m\n\u001b[91m\u001b[0m  ncoeff(\u001b[91m::Int64\u001b[39m, \u001b[91m::Array{Int64,N} where N\u001b[39m) at /media/mat/HDD/AdaptiveTransportMap/src/radialmap/weights.jl:349\u001b[39m",
      "",
      "Stacktrace:",
      " [1] top-level scope at In[66]:1",
      " [2] include_string(::Function, ::Module, ::String, ::String) at ./loading.jl:1091"
     ]
    }
   ],
   "source": [
    "ncoeff(C)"
   ]
  },
  {
   "cell_type": "code",
   "execution_count": null,
   "metadata": {},
   "outputs": [],
   "source": []
  }
 ],
 "metadata": {
  "kernelspec": {
   "display_name": "Julia 1.5.3",
   "language": "julia",
   "name": "julia-1.5"
  },
  "language_info": {
   "file_extension": ".jl",
   "mimetype": "application/julia",
   "name": "julia",
   "version": "1.5.3"
  }
 },
 "nbformat": 4,
 "nbformat_minor": 4
}
