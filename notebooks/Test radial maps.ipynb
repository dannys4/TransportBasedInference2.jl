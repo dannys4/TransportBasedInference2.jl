{
 "cells": [
  {
   "cell_type": "code",
   "execution_count": 1,
   "metadata": {},
   "outputs": [
    {
     "name": "stderr",
     "output_type": "stream",
     "text": [
      "┌ Info: Precompiling AdaptiveTransportMap [bdf749b0-1400-4207-80d3-e689c0e3f03d]\n",
      "└ @ Base loading.jl:1278\n",
      "┌ Warning: Type annotations on keyword arguments not currently supported in recipes. Type information has been discarded\n",
      "└ @ RecipesBase ~/.julia/packages/RecipesBase/92zOw/src/RecipesBase.jl:116\n",
      "┌ Warning: Type annotations on keyword arguments not currently supported in recipes. Type information has been discarded\n",
      "└ @ RecipesBase ~/.julia/packages/RecipesBase/92zOw/src/RecipesBase.jl:116\n"
     ]
    }
   ],
   "source": [
    "using Revise\n",
    "using LinearAlgebra\n",
    "using AdaptiveTransportMap\n",
    "using Statistics\n",
    "using Distributions\n",
    "using Test\n",
    "using ForwardDiff\n",
    "using SpecialFunctions\n",
    "using OrthoMatchingPursuit\n",
    "using BenchmarkTools"
   ]
  },
  {
   "cell_type": "code",
   "execution_count": 207,
   "metadata": {},
   "outputs": [
    {
     "data": {
      "text/plain": [
       "2.0"
      ]
     },
     "execution_count": 207,
     "metadata": {},
     "output_type": "execute_result"
    }
   ],
   "source": [
    "Nx = 5\n",
    "Ne = 100\n",
    "\n",
    "X = randn(Nx, Ne) .* randn(Nx, Ne)\n",
    "\n",
    "λ = 0.0\n",
    "δ = 1e-8\n",
    "γ = 2.0"
   ]
  },
  {
   "cell_type": "code",
   "execution_count": 210,
   "metadata": {},
   "outputs": [
    {
     "data": {
      "text/plain": [
       "5-th component of a Sparse KR rearrangement of order p = [-1, 2, -1, -1, 2]\n"
      ]
     },
     "execution_count": 210,
     "metadata": {},
     "output_type": "execute_result"
    }
   ],
   "source": [
    "# for k=1:Nx-1\n",
    "Cgreedy = greedyfit(Nx, 2, deepcopy(X), 1, λ, δ, γ)\n",
    "#     C = SparseRadialMapComponent(Nx, Cgreedy.p)\n",
    "#     center_std!(C, sort(X; dims = 2); γ = γ)\n",
    "#     x_opt = optimize(C, X, λ, δ)\n",
    "#     modify_a!(C, x_opt)\n",
    "#     @test norm(Cgreedy.a - C.a)<1e-10\n",
    "# end"
   ]
  },
  {
   "cell_type": "code",
   "execution_count": 211,
   "metadata": {},
   "outputs": [
    {
     "name": "stdout",
     "output_type": "stream",
     "text": [
      "  0.000050 seconds (36 allocations: 22.906 KiB)\n"
     ]
    }
   ],
   "source": [
    "p = 2\n",
    "order = p*ones(Int64, Nx)\n",
    "order[1] = p\n",
    "order[end] = p\n",
    "\n",
    "order = [p; p; -1; p; p]\n",
    "\n",
    "C = SparseRadialMapComponent(Nx, Cgreedy.p)\n",
    "@time center_std!(C, sort(deepcopy(X); dims = 2); γ = γ)"
   ]
  },
  {
   "cell_type": "code",
   "execution_count": 212,
   "metadata": {},
   "outputs": [
    {
     "name": "stdout",
     "output_type": "stream",
     "text": [
      "  0.000226 seconds (2.58 k allocations: 359.984 KiB)\n"
     ]
    }
   ],
   "source": [
    "@time x_opt = optimize(C, X, λ, δ)\n",
    "modify_a!(C, x_opt)"
   ]
  },
  {
   "cell_type": "code",
   "execution_count": 213,
   "metadata": {},
   "outputs": [
    {
     "data": {
      "text/plain": [
       "8-element Array{Float64,1}:\n",
       " -0.23668117193971738\n",
       "  8.1084370661199\n",
       " -7.075019920425056\n",
       " -1.818023454358032\n",
       "  0.3459321460941695\n",
       "  2.796520581639266\n",
       "  1.9035729852795827e-9\n",
       "  0.36367824846981966"
      ]
     },
     "execution_count": 213,
     "metadata": {},
     "output_type": "execute_result"
    }
   ],
   "source": [
    "vcat(Cgreedy.a...)"
   ]
  },
  {
   "cell_type": "code",
   "execution_count": 204,
   "metadata": {},
   "outputs": [
    {
     "data": {
      "text/plain": [
       "5-element Array{Float64,1}:\n",
       " -1.2964886010656647\n",
       "  0.6352741592915871\n",
       "  1.3246779509702715\n",
       "  1.27894321780262\n",
       "  0.2898800401084731"
      ]
     },
     "execution_count": 204,
     "metadata": {},
     "output_type": "execute_result"
    }
   ],
   "source": [
    "x_opt"
   ]
  },
  {
   "cell_type": "code",
   "execution_count": 26,
   "metadata": {},
   "outputs": [
    {
     "data": {
      "text/plain": [
       "([-0.05378078416194535 0.49952203640785126 … 0.4593093104130878 0.5228655427813467; -0.011333947793594104 0.4876823299884622 … 0.015434938646567392 0.0019252579806903407; … ; -0.3247045134153518 0.5387708943673685 … 0.4817019427879171 0.49578475186297244; 0.4943325628595328 0.28457879872466607 … 0.4717848897672617 0.5133337107957159], [-0.22850013876026065 0.28835864029462954 … 0.21876030833320614 0.08210738213419216; -0.10104950784442333 0.599563692022141 … 0.3849233020729854 0.15239314777530744; … ; -0.18199234841955458 0.37735661511679863 … 0.26445499165600983 0.09990818708710597; -0.4363873586395267 0.08396918211365156 … 0.10269778144589148 0.040279453614281424], [0.450588475396419 0.7543014944751246 … 0.3893005656530648 0.1476976722189226; 0.25148700852584277 0.8538632833066603 … 0.504183222356279 0.2401278803282731; … ; 0.38604536439181364 0.8394706937810503 … 0.43159916526853775 0.17281182497102315; 0.6658134605990345 0.34068304464183286 … 0.23602701323620484 0.08209140484516159])"
      ]
     },
     "execution_count": 26,
     "metadata": {},
     "output_type": "execute_result"
    }
   ],
   "source": [
    "ψ_off, ψ_diag, dψ_diag = compute_weights(C, X)"
   ]
  },
  {
   "cell_type": "code",
   "execution_count": 56,
   "metadata": {},
   "outputs": [],
   "source": [
    "n_off = size(ψ_off, 2)\n",
    "F = qr(ψ_off);"
   ]
  },
  {
   "cell_type": "code",
   "execution_count": 57,
   "metadata": {},
   "outputs": [
    {
     "name": "stdout",
     "output_type": "stream",
     "text": [
      "  0.000059 seconds (10 allocations: 29.906 KiB)\n"
     ]
    },
    {
     "data": {
      "text/plain": [
       "(100, 12)"
      ]
     },
     "execution_count": 57,
     "metadata": {},
     "output_type": "execute_result"
    }
   ],
   "source": [
    "@time Q1 = Matrix(F.Q)[1:Ne,:];\n",
    "size(Q1)"
   ]
  },
  {
   "cell_type": "code",
   "execution_count": 58,
   "metadata": {},
   "outputs": [],
   "source": [
    "P1 = Matrix(1.0*I, Ne, n_off);"
   ]
  },
  {
   "cell_type": "code",
   "execution_count": 59,
   "metadata": {},
   "outputs": [
    {
     "name": "stdout",
     "output_type": "stream",
     "text": [
      "  0.000046 seconds (4 allocations: 10.781 KiB)\n"
     ]
    },
    {
     "data": {
      "text/plain": [
       "100×12 Array{Float64,2}:\n",
       " -0.00506335  -0.122255    0.00665846  …  -0.104569     0.0155983\n",
       " -0.00106707  -0.119642    0.0211632      -0.153965     0.163455\n",
       " -0.0400545   -0.128521   -0.103929        0.0307356    0.0967685\n",
       "  0.0350319   -0.08563     0.129333        0.00497985  -0.0923161\n",
       "  0.00817666  -0.112442    0.0539373       0.144438     0.151932\n",
       "  0.44248     -0.0325423  -0.230145    …   0.163701    -0.0481845\n",
       "  0.123105    -0.0200941   0.053733       -0.0552943    0.160027\n",
       " -0.00187378  -0.120196    0.0182414      -0.0561715    0.0821768\n",
       "  0.0304014   -0.0905935   0.119396       -0.0297554    0.0749438\n",
       "  0.132774    -0.0177914   0.0308263       0.156252    -0.0185383\n",
       "  0.0345666   -0.0861308   0.128404    …   0.00693815  -0.128395\n",
       " -0.00172968  -0.120098    0.0187637      -0.105744    -0.126566\n",
       " -0.0561024   -0.12063    -0.131025        0.0672764   -0.0296273\n",
       "  ⋮                                    ⋱   ⋮           \n",
       " -0.0345539   -0.129684   -0.0903687      -0.0884659    0.0524598\n",
       " -0.0522915   -0.12308    -0.126381       -0.051992    -0.115565\n",
       "  0.0724448   -0.0481644   0.149881    …   0.0841046    0.0569831\n",
       "  0.0124614   -0.108638    0.0683741       0.120552    -0.195523\n",
       "  0.0168112   -0.104532    0.0822999       0.0526499   -0.0242724\n",
       "  0.031295    -0.0896399   0.121431       -0.0349747    0.0575691\n",
       " -0.0483831   -0.125231   -0.120436       -0.00934146  -0.0976627\n",
       "  0.112092    -0.0237504   0.0799097   …   0.0778068   -0.0881915\n",
       "  0.00141164  -0.117862    0.0301003      -0.00105659  -0.142007\n",
       "  0.0143339   -0.106898    0.0744685       0.01236      0.069336\n",
       " -0.0305703   -0.130014   -0.079368       -0.060653     0.0536125\n",
       "  0.0465404   -0.0732839   0.14713        -0.11169      0.00445432"
      ]
     },
     "execution_count": 59,
     "metadata": {},
     "output_type": "execute_result"
    }
   ],
   "source": [
    "@time F.Q*P1"
   ]
  },
  {
   "cell_type": "code",
   "execution_count": 60,
   "metadata": {},
   "outputs": [
    {
     "ename": "LoadError",
     "evalue": "\u001b[91msyntax: incomplete: premature end of input\u001b[39m",
     "output_type": "error",
     "traceback": [
      "\u001b[91msyntax: incomplete: premature end of input\u001b[39m",
      "",
      "Stacktrace:",
      " [1] top-level scope at In[60]:1",
      " [2] include_string(::Function, ::Module, ::String, ::String) at ./loading.jl:1091"
     ]
    }
   ],
   "source": [
    "[F.Q*ψ_diag"
   ]
  },
  {
   "cell_type": "code",
   "execution_count": 74,
   "metadata": {},
   "outputs": [
    {
     "data": {
      "text/plain": [
       "100×100 Array{Float64,2}:\n",
       " 1.0  0.0  0.0  0.0  0.0  0.0  0.0  0.0  …  0.0  0.0  0.0  0.0  0.0  0.0  0.0\n",
       " 0.0  1.0  0.0  0.0  0.0  0.0  0.0  0.0     0.0  0.0  0.0  0.0  0.0  0.0  0.0\n",
       " 0.0  0.0  1.0  0.0  0.0  0.0  0.0  0.0     0.0  0.0  0.0  0.0  0.0  0.0  0.0\n",
       " 0.0  0.0  0.0  1.0  0.0  0.0  0.0  0.0     0.0  0.0  0.0  0.0  0.0  0.0  0.0\n",
       " 0.0  0.0  0.0  0.0  1.0  0.0  0.0  0.0     0.0  0.0  0.0  0.0  0.0  0.0  0.0\n",
       " 0.0  0.0  0.0  0.0  0.0  1.0  0.0  0.0  …  0.0  0.0  0.0  0.0  0.0  0.0  0.0\n",
       " 0.0  0.0  0.0  0.0  0.0  0.0  1.0  0.0     0.0  0.0  0.0  0.0  0.0  0.0  0.0\n",
       " 0.0  0.0  0.0  0.0  0.0  0.0  0.0  1.0     0.0  0.0  0.0  0.0  0.0  0.0  0.0\n",
       " 0.0  0.0  0.0  0.0  0.0  0.0  0.0  0.0     0.0  0.0  0.0  0.0  0.0  0.0  0.0\n",
       " 0.0  0.0  0.0  0.0  0.0  0.0  0.0  0.0     0.0  0.0  0.0  0.0  0.0  0.0  0.0\n",
       " 0.0  0.0  0.0  0.0  0.0  0.0  0.0  0.0  …  0.0  0.0  0.0  0.0  0.0  0.0  0.0\n",
       " 0.0  0.0  0.0  0.0  0.0  0.0  0.0  0.0     0.0  0.0  0.0  0.0  0.0  0.0  0.0\n",
       " 0.0  0.0  0.0  0.0  0.0  0.0  0.0  0.0     0.0  0.0  0.0  0.0  0.0  0.0  0.0\n",
       " ⋮                        ⋮              ⋱            ⋮                   \n",
       " 0.0  0.0  0.0  0.0  0.0  0.0  0.0  0.0     0.0  0.0  0.0  0.0  0.0  0.0  0.0\n",
       " 0.0  0.0  0.0  0.0  0.0  0.0  0.0  0.0     0.0  0.0  0.0  0.0  0.0  0.0  0.0\n",
       " 0.0  0.0  0.0  0.0  0.0  0.0  0.0  0.0  …  0.0  0.0  0.0  0.0  0.0  0.0  0.0\n",
       " 0.0  0.0  0.0  0.0  0.0  0.0  0.0  0.0     0.0  0.0  0.0  0.0  0.0  0.0  0.0\n",
       " 0.0  0.0  0.0  0.0  0.0  0.0  0.0  0.0     0.0  0.0  0.0  0.0  0.0  0.0  0.0\n",
       " 0.0  0.0  0.0  0.0  0.0  0.0  0.0  0.0     0.0  0.0  0.0  0.0  0.0  0.0  0.0\n",
       " 0.0  0.0  0.0  0.0  0.0  0.0  0.0  0.0     0.0  0.0  0.0  0.0  0.0  0.0  0.0\n",
       " 0.0  0.0  0.0  0.0  0.0  0.0  0.0  0.0  …  0.0  0.0  0.0  0.0  0.0  0.0  0.0\n",
       " 0.0  0.0  0.0  0.0  0.0  0.0  0.0  0.0     0.0  0.0  0.0  0.0  0.0  0.0  0.0\n",
       " 0.0  0.0  0.0  0.0  0.0  0.0  0.0  0.0     0.0  0.0  0.0  0.0  0.0  0.0  0.0\n",
       " 0.0  0.0  0.0  0.0  0.0  0.0  0.0  0.0     0.0  0.0  0.0  0.0  0.0  0.0  0.0\n",
       " 0.0  0.0  0.0  0.0  0.0  0.0  0.0  0.0     0.0  0.0  0.0  0.0  0.0  0.0  0.0"
      ]
     },
     "execution_count": 74,
     "metadata": {},
     "output_type": "execute_result"
    }
   ],
   "source": [
    "(P1*P1')"
   ]
  },
  {
   "cell_type": "code",
   "execution_count": 71,
   "metadata": {},
   "outputs": [
    {
     "name": "stdout",
     "output_type": "stream",
     "text": [
      "  0.000491 seconds (12 allocations: 170.219 KiB)\n"
     ]
    },
    {
     "data": {
      "text/plain": [
       "5-element Array{Float64,1}:\n",
       " 0.0\n",
       " 0.0\n",
       " 0.0\n",
       " 0.0\n",
       " 0.0"
      ]
     },
     "execution_count": 71,
     "metadata": {},
     "output_type": "execute_result"
    }
   ],
   "source": [
    "@time ((P1*P1')*F.Q'*ψ_diag)[13,:]"
   ]
  },
  {
   "cell_type": "code",
   "execution_count": 82,
   "metadata": {},
   "outputs": [
    {
     "data": {
      "text/plain": [
       "100×5 Array{Float64,2}:\n",
       " -0.320456   0.560536  0.489216  0.423874   0.264696\n",
       "  0.154248   0.2591    0.179849  0.160165  -0.021255\n",
       " -0.0203326  0.683253  0.608326  0.508856   0.447219\n",
       " -0.268992   0.592457  0.543131  0.432407   0.151748\n",
       " -0.122952   0.56465   0.518281  0.40212    0.17713\n",
       " -1.05279    0.401822  0.381176  0.356636   0.44541\n",
       " -0.270367   0.662803  0.608551  0.541607   0.393149\n",
       " -0.21563    0.576003  0.506565  0.429778   0.228464\n",
       " -0.201049   0.560582  0.49742   0.414979   0.195981\n",
       " -0.269881   0.716923  0.658919  0.574763   0.384386\n",
       " -0.256367   0.611235  0.560839  0.423568   0.179988\n",
       " -0.476065   0.393635  0.358131  0.267109   0.0651158\n",
       " -0.334518   0.492344  0.443949  0.355204   0.193277\n",
       "  ⋮                                        \n",
       " -0.21911    0.641268  0.566849  0.487391   0.292654\n",
       " -0.268899   0.699861  0.630139  0.528839   0.293027\n",
       " -0.153724   0.66199   0.601092  0.506374   0.270359\n",
       " -0.140452   0.584902  0.507534  0.398443   0.184839\n",
       " -0.287145   0.533479  0.483789  0.380399   0.19102\n",
       " -0.197026   0.568446  0.505532  0.407548   0.205883\n",
       " -0.236525   0.703636  0.635768  0.516564   0.302847\n",
       " -0.126012   0.635834  0.573284  0.491199   0.251796\n",
       "  0.298847   0.653301  0.624237  0.5644     0.472756\n",
       " -0.182259   0.577938  0.510264  0.412229   0.224572\n",
       " -0.160752   0.655565  0.579698  0.47608    0.35901\n",
       " -0.26588    0.576567  0.516781  0.439152   0.199687"
      ]
     },
     "execution_count": 82,
     "metadata": {},
     "output_type": "execute_result"
    }
   ],
   "source": [
    "F.Q*[(F.Q'*ψ_diag)[1:n_off, axes(ψ_diag,2)]; zeros(Ne-n_off, size(ψ_diag,2))]"
   ]
  },
  {
   "cell_type": "code",
   "execution_count": 66,
   "metadata": {},
   "outputs": [
    {
     "name": "stdout",
     "output_type": "stream",
     "text": [
      "  0.000073 seconds (4 allocations: 82.281 KiB)\n"
     ]
    },
    {
     "data": {
      "text/plain": [
       "100×5 Array{Float64,2}:\n",
       " -0.320456   0.560536  0.489216  0.423874   0.264696\n",
       "  0.154248   0.2591    0.179849  0.160165  -0.021255\n",
       " -0.0203326  0.683253  0.608326  0.508856   0.447219\n",
       " -0.268992   0.592457  0.543131  0.432407   0.151748\n",
       " -0.122952   0.56465   0.518281  0.40212    0.17713\n",
       " -1.05279    0.401822  0.381176  0.356636   0.44541\n",
       " -0.270367   0.662803  0.608551  0.541607   0.393149\n",
       " -0.21563    0.576003  0.506565  0.429778   0.228464\n",
       " -0.201049   0.560582  0.49742   0.414979   0.195981\n",
       " -0.269881   0.716923  0.658919  0.574763   0.384386\n",
       " -0.256367   0.611235  0.560839  0.423568   0.179988\n",
       " -0.476065   0.393635  0.358131  0.267109   0.0651158\n",
       " -0.334518   0.492344  0.443949  0.355204   0.193277\n",
       "  ⋮                                        \n",
       " -0.21911    0.641268  0.566849  0.487391   0.292654\n",
       " -0.268899   0.699861  0.630139  0.528839   0.293027\n",
       " -0.153724   0.66199   0.601092  0.506374   0.270359\n",
       " -0.140452   0.584902  0.507534  0.398443   0.184839\n",
       " -0.287145   0.533479  0.483789  0.380399   0.19102\n",
       " -0.197026   0.568446  0.505532  0.407548   0.205883\n",
       " -0.236525   0.703636  0.635768  0.516564   0.302847\n",
       " -0.126012   0.635834  0.573284  0.491199   0.251796\n",
       "  0.298847   0.653301  0.624237  0.5644     0.472756\n",
       " -0.182259   0.577938  0.510264  0.412229   0.224572\n",
       " -0.160752   0.655565  0.579698  0.47608    0.35901\n",
       " -0.26588    0.576567  0.516781  0.439152   0.199687"
      ]
     },
     "execution_count": 66,
     "metadata": {},
     "output_type": "execute_result"
    }
   ],
   "source": [
    "@time Q1*Q1'*ψ_diag"
   ]
  },
  {
   "cell_type": "code",
   "execution_count": 159,
   "metadata": {},
   "outputs": [
    {
     "name": "stdout",
     "output_type": "stream",
     "text": [
      "\u001b[37m\u001b[1mTest Summary:                              | \u001b[22m\u001b[39m\u001b[32m\u001b[1mPass  \u001b[22m\u001b[39m\u001b[36m\u001b[1mTotal\u001b[22m\u001b[39m\n",
      "Verify updateqrfactUnblocked! for a vector | \u001b[32m   2  \u001b[39m\u001b[36m    2\u001b[39m\n",
      "\u001b[37m\u001b[1mTest Summary:                              | \u001b[22m\u001b[39m\u001b[32m\u001b[1mPass  \u001b[22m\u001b[39m\u001b[36m\u001b[1mTotal\u001b[22m\u001b[39m\n",
      "Verify updateqrfactUnblocked! for a matrix | \u001b[32m   2  \u001b[39m\u001b[36m    2\u001b[39m\n"
     ]
    },
    {
     "data": {
      "text/plain": [
       "Test.DefaultTestSet(\"Verify updateqrfactUnblocked! for a matrix\", Any[], 2, false)"
      ]
     },
     "execution_count": 159,
     "metadata": {},
     "output_type": "execute_result"
    }
   ],
   "source": [
    "@testset \"Verify updateqrfactUnblocked! for a vector\" begin\n",
    "\n",
    "    ψ = randn(100, 20)\n",
    "    ϕ = randn(100)\n",
    "\n",
    "    F = qrfactUnblocked(ψ)\n",
    "    Fold = deepcopy(F)\n",
    "    G = qrfactUnblocked(hcat(ψ, ϕ))\n",
    "    F = updateqrfactUnblocked!(F, ϕ)\n",
    "    @test norm(F.τ-G.τ)<1e-14\n",
    "    @test norm(F.factors - G.factors)<1e-14\n",
    "end\n",
    "\n",
    "@testset \"Verify updateqrfactUnblocked! for a matrix\" begin\n",
    "\n",
    "    ψ = randn(100, 20)\n",
    "    ϕ = randn(100, 5)\n",
    "\n",
    "    F = qrfactUnblocked(ψ)\n",
    "    Fold = deepcopy(F)\n",
    "    G = qrfactUnblocked(hcat(ψ, ϕ))\n",
    "    F = updateqrfactUnblocked!(F, ϕ)\n",
    "    @test norm(F.τ-G.τ)<1e-14\n",
    "    @test norm(F.factors - G.factors)<1e-14\n",
    "end"
   ]
  },
  {
   "cell_type": "code",
   "execution_count": null,
   "metadata": {},
   "outputs": [],
   "source": []
  }
 ],
 "metadata": {
  "kernelspec": {
   "display_name": "Julia 1.5.3",
   "language": "julia",
   "name": "julia-1.5"
  },
  "language_info": {
   "file_extension": ".jl",
   "mimetype": "application/julia",
   "name": "julia",
   "version": "1.5.3"
  }
 },
 "nbformat": 4,
 "nbformat_minor": 4
}
