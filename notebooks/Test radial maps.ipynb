{
 "cells": [
  {
   "cell_type": "code",
   "execution_count": 1,
   "metadata": {},
   "outputs": [
    {
     "name": "stderr",
     "output_type": "stream",
     "text": [
      "┌ Info: Precompiling AdaptiveTransportMap [bdf749b0-1400-4207-80d3-e689c0e3f03d]\n",
      "└ @ Base loading.jl:1278\n",
      "┌ Warning: Type annotations on keyword arguments not currently supported in recipes. Type information has been discarded\n",
      "└ @ RecipesBase ~/.julia/packages/RecipesBase/92zOw/src/RecipesBase.jl:116\n",
      "┌ Warning: Type annotations on keyword arguments not currently supported in recipes. Type information has been discarded\n",
      "└ @ RecipesBase ~/.julia/packages/RecipesBase/92zOw/src/RecipesBase.jl:116\n"
     ]
    }
   ],
   "source": [
    "using Revise\n",
    "using LinearAlgebra\n",
    "using AdaptiveTransportMap\n",
    "using Statistics\n",
    "using Distributions\n",
    "using Test\n",
    "using ForwardDiff\n",
    "using SpecialFunctions\n",
    "using OrthoMatchingPursuit\n",
    "using BenchmarkTools"
   ]
  },
  {
   "cell_type": "code",
   "execution_count": 51,
   "metadata": {},
   "outputs": [
    {
     "data": {
      "text/plain": [
       "2.0"
      ]
     },
     "execution_count": 51,
     "metadata": {},
     "output_type": "execute_result"
    }
   ],
   "source": [
    "Nx = 10\n",
    "Ne = 500\n",
    "X = randn(Nx, Ne).^2\n",
    "Xvalid = randn(Nx, Ne).^2\n",
    "λ = 0.0\n",
    "δ = 1e-8\n",
    "γ = 2.0"
   ]
  },
  {
   "cell_type": "code",
   "execution_count": 60,
   "metadata": {},
   "outputs": [
    {
     "name": "stdout",
     "output_type": "stream",
     "text": [
      "  0.013584 seconds (86.44 k allocations: 10.514 MiB)\n"
     ]
    },
    {
     "data": {
      "text/plain": [
       "(Sparse radial map component of dimension 10 and order p = [2, 2, 2, 2, 2, 2, 2, 2, 2, 0]\n",
       ", ([0.7656217954159154, 0.7648399506741894, 0.7639387684565466, 0.750167171594771, 0.7377990655730661, 0.7271552118995767, 0.7224895082757199, 0.7216775581211943, 0.7211063766470724, 0.7139435931825915], [0.6702628798909104, 0.6809446280089134, 0.6848954094717498, 0.6844101109929434, 0.6975847745395218, 0.6755273290309295, 0.675904499342735, 0.6808974690887237, 0.6844588382815294, 0.6840312755735277]))"
      ]
     },
     "execution_count": 60,
     "metadata": {},
     "output_type": "execute_result"
    }
   ],
   "source": [
    "Cgreedy = SparseRadialMapComponent(Nx, -1)\n",
    "@time Cgreedy, ϵ = optimize(Cgreedy, X, 2, 0, \"split\", λ, δ, γ; maxpatience = 10^5)"
   ]
  },
  {
   "cell_type": "code",
   "execution_count": 62,
   "metadata": {},
   "outputs": [
    {
     "data": {
      "text/plain": [
       "10-element Array{Array{Float64,1},1}:\n",
       " [-0.07945095929721153, 2.7114201078599383, -5.187075037774528]\n",
       " [-0.12281712321399424, -4.432778594167132, 2.594735292994272]\n",
       " [0.008245740918751536, 0.694881411132988, -0.7783505851201096]\n",
       " [0.06375966900102961, 0.5129232794603104, 0.1669319761643198]\n",
       " [-0.24129945509832884, -3.8107321058081425, 0.8187193204810852]\n",
       " [0.004262546684465334, 1.918371406876188, -1.506325621924174]\n",
       " [-0.059307979841704266, -1.2797178270300311, 0.7664413724907158]\n",
       " [-0.17496480808425596, -3.141802536759589, 0.5862522044731184]\n",
       " [-0.12204958599117775, -2.085049694750271, -1.5605416875879632]\n",
       " [2.9372211907147214, 0.8073939262600239]"
      ]
     },
     "execution_count": 62,
     "metadata": {},
     "output_type": "execute_result"
    }
   ],
   "source": [
    "Cgreedy.a"
   ]
  },
  {
   "cell_type": "code",
   "execution_count": 63,
   "metadata": {},
   "outputs": [
    {
     "ename": "LoadError",
     "evalue": "\u001b[91mMethodError: no method matching zero(::Type{Array{Float64,1}})\u001b[39m\n\u001b[91m\u001b[0mClosest candidates are:\u001b[39m\n\u001b[91m\u001b[0m  zero(\u001b[91m::Type{Pkg.Resolve.VersionWeight}\u001b[39m) at /buildworker/worker/package_linux64/build/usr/share/julia/stdlib/v1.5/Pkg/src/Resolve/versionweights.jl:15\u001b[39m\n\u001b[91m\u001b[0m  zero(\u001b[91m::Type{Pkg.Resolve.FieldValue}\u001b[39m) at /buildworker/worker/package_linux64/build/usr/share/julia/stdlib/v1.5/Pkg/src/Resolve/fieldvalues.jl:38\u001b[39m\n\u001b[91m\u001b[0m  zero(\u001b[91m::Type{Dates.Date}\u001b[39m) at /buildworker/worker/package_linux64/build/usr/share/julia/stdlib/v1.5/Dates/src/types.jl:405\u001b[39m\n\u001b[91m\u001b[0m  ...\u001b[39m",
     "output_type": "error",
     "traceback": [
      "\u001b[91mMethodError: no method matching zero(::Type{Array{Float64,1}})\u001b[39m\n\u001b[91m\u001b[0mClosest candidates are:\u001b[39m\n\u001b[91m\u001b[0m  zero(\u001b[91m::Type{Pkg.Resolve.VersionWeight}\u001b[39m) at /buildworker/worker/package_linux64/build/usr/share/julia/stdlib/v1.5/Pkg/src/Resolve/versionweights.jl:15\u001b[39m\n\u001b[91m\u001b[0m  zero(\u001b[91m::Type{Pkg.Resolve.FieldValue}\u001b[39m) at /buildworker/worker/package_linux64/build/usr/share/julia/stdlib/v1.5/Pkg/src/Resolve/fieldvalues.jl:38\u001b[39m\n\u001b[91m\u001b[0m  zero(\u001b[91m::Type{Dates.Date}\u001b[39m) at /buildworker/worker/package_linux64/build/usr/share/julia/stdlib/v1.5/Dates/src/types.jl:405\u001b[39m\n\u001b[91m\u001b[0m  ...\u001b[39m",
      "",
      "Stacktrace:",
      " [1] zero(::Array{Array{Float64,1},1}) at ./abstractarray.jl:975",
      " [2] clearcoeff!(::SparseRadialMapComponent) at /media/mat/HDD/AdaptiveTransportMap/src/radialmap/sparseradialmapcomponent.jl:171",
      " [3] top-level scope at In[63]:1",
      " [4] include_string(::Function, ::Module, ::String, ::String) at ./loading.jl:1091"
     ]
    }
   ],
   "source": [
    "clearcoeff!(Cgreedy)"
   ]
  },
  {
   "cell_type": "code",
   "execution_count": 19,
   "metadata": {},
   "outputs": [
    {
     "name": "stdout",
     "output_type": "stream",
     "text": [
      "  0.018648 seconds (91.66 k allocations: 11.540 MiB)\n"
     ]
    },
    {
     "data": {
      "text/plain": [
       "(Sparse radial map component of dimension 5 and order p = [2, -1, 2, 2, 2]\n",
       ", [0.16149625717495586, 0.15955843305309023, 0.1513458062113992, 0.14608833904374321])"
      ]
     },
     "execution_count": 19,
     "metadata": {},
     "output_type": "execute_result"
    }
   ],
   "source": [
    "@time Cgreedy, error = greedyfit(Nx, 2, 2, deepcopy(X), 3, λ, δ, γ)"
   ]
  },
  {
   "cell_type": "code",
   "execution_count": 20,
   "metadata": {},
   "outputs": [
    {
     "name": "stdout",
     "output_type": "stream",
     "text": [
      "  0.004808 seconds (54.84 k allocations: 5.174 MiB)\n"
     ]
    },
    {
     "data": {
      "text/plain": [
       "(Sparse radial map component of dimension 5 and order p = [2, 2, 2, 2, 0]\n",
       ", ([0.9522111470540667, 0.9468735067392048, 0.9382460125763467, 0.9339206542025913, 0.9330111942049354], [0.8123465391957869, 0.8138996919068819, 0.8178551591012666, 0.8222529910064743, 0.8217679113283066]))"
      ]
     },
     "execution_count": 20,
     "metadata": {},
     "output_type": "execute_result"
    }
   ],
   "source": [
    "@time Cgreedy, error = greedyfit(Nx, 2, 0, deepcopy(X), deepcopy(Xvalid), 4, λ, δ, γ; verbose = false)"
   ]
  },
  {
   "cell_type": "code",
   "execution_count": 33,
   "metadata": {},
   "outputs": [
    {
     "data": {
      "text/plain": [
       "Sparse radial map component of dimension 5 and order p = [1, 1, 1, 1, 0]\n"
      ]
     },
     "execution_count": 33,
     "metadata": {},
     "output_type": "execute_result"
    }
   ],
   "source": [
    "C = SparseRadialMapComponent(Nx, Cgreedy.p)"
   ]
  },
  {
   "cell_type": "code",
   "execution_count": 34,
   "metadata": {},
   "outputs": [
    {
     "name": "stdout",
     "output_type": "stream",
     "text": [
      "  0.007385 seconds (249 allocations: 114.234 KiB)\n"
     ]
    }
   ],
   "source": [
    "@time center_std!(C, sort(deepcopy(X); dims = 2); γ = γ)"
   ]
  },
  {
   "cell_type": "code",
   "execution_count": 35,
   "metadata": {},
   "outputs": [
    {
     "name": "stdout",
     "output_type": "stream",
     "text": [
      "  0.000287 seconds (2.58 k allocations: 277.781 KiB)\n"
     ]
    }
   ],
   "source": [
    "@time x_opt = optimize(C, X, λ, δ)\n",
    "modify_a!(C, x_opt)"
   ]
  },
  {
   "cell_type": "code",
   "execution_count": 36,
   "metadata": {},
   "outputs": [
    {
     "data": {
      "text/plain": [
       "0.9143832086452744"
      ]
     },
     "execution_count": 36,
     "metadata": {},
     "output_type": "execute_result"
    }
   ],
   "source": [
    "negative_likelihood(C, X)"
   ]
  },
  {
   "cell_type": "code",
   "execution_count": 37,
   "metadata": {},
   "outputs": [
    {
     "data": {
      "text/plain": [
       "0.9143832086452746"
      ]
     },
     "execution_count": 37,
     "metadata": {},
     "output_type": "execute_result"
    }
   ],
   "source": [
    "negative_likelihood(Cgreedy, X)"
   ]
  },
  {
   "cell_type": "code",
   "execution_count": null,
   "metadata": {},
   "outputs": [],
   "source": []
  }
 ],
 "metadata": {
  "kernelspec": {
   "display_name": "Julia 1.5.3",
   "language": "julia",
   "name": "julia-1.5"
  },
  "language_info": {
   "file_extension": ".jl",
   "mimetype": "application/julia",
   "name": "julia",
   "version": "1.5.3"
  }
 },
 "nbformat": 4,
 "nbformat_minor": 4
}
