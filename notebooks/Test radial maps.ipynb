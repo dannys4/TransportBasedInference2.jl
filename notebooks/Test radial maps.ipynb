{
 "cells": [
  {
   "cell_type": "code",
   "execution_count": 3,
   "metadata": {},
   "outputs": [
    {
     "name": "stderr",
     "output_type": "stream",
     "text": [
      "┌ Info: Precompiling AdaptiveTransportMap [bdf749b0-1400-4207-80d3-e689c0e3f03d]\n",
      "└ @ Base loading.jl:1278\n",
      "┌ Warning: Type annotations on keyword arguments not currently supported in recipes. Type information has been discarded\n",
      "└ @ RecipesBase ~/.julia/packages/RecipesBase/92zOw/src/RecipesBase.jl:116\n",
      "┌ Warning: Type annotations on keyword arguments not currently supported in recipes. Type information has been discarded\n",
      "└ @ RecipesBase ~/.julia/packages/RecipesBase/92zOw/src/RecipesBase.jl:116\n"
     ]
    }
   ],
   "source": [
    "using Revise\n",
    "using LinearAlgebra\n",
    "using AdaptiveTransportMap\n",
    "using Statistics\n",
    "using Distributions\n",
    "using Test\n",
    "using ForwardDiff\n",
    "using SpecialFunctions\n",
    "using OrthoMatchingPursuit"
   ]
  },
  {
   "cell_type": "code",
   "execution_count": 134,
   "metadata": {},
   "outputs": [
    {
     "data": {
      "text/plain": [
       "2.0"
      ]
     },
     "execution_count": 134,
     "metadata": {},
     "output_type": "execute_result"
    }
   ],
   "source": [
    "Nx = 5\n",
    "Ne = 100\n",
    "\n",
    "X = randn(Nx, Ne) .* randn(Nx, Ne)\n",
    "\n",
    "λ = 0.0\n",
    "δ = 0.0\n",
    "γ = 2.0"
   ]
  },
  {
   "cell_type": "code",
   "execution_count": 135,
   "metadata": {},
   "outputs": [
    {
     "name": "stdout",
     "output_type": "stream",
     "text": [
      "candidates = [1, 2, 3, 4]\n",
      "new_dim = 2\n",
      "offdims = [2]\n",
      "candidates = [1, 3, 4]\n",
      "candidates = [1, 3, 4]\n",
      "new_dim = 4\n",
      "offdims = [2, 4]\n",
      "candidates = [1, 3]\n",
      "candidates = [1, 3]\n",
      "new_dim = 1\n",
      "offdims = [2, 4, 1]\n",
      "candidates = [3]\n",
      "  0.264751 seconds (464.61 k allocations: 25.125 MiB)\n"
     ]
    },
    {
     "data": {
      "text/plain": [
       "5-th component of a Sparse KR rearrangement of order p = [2, 2, -1, 2, 2]\n"
      ]
     },
     "execution_count": 135,
     "metadata": {},
     "output_type": "execute_result"
    }
   ],
   "source": [
    "@time Cgreedy = greedyfit(Nx, 2, X, 3, λ, δ, γ)"
   ]
  },
  {
   "cell_type": "code",
   "execution_count": 127,
   "metadata": {},
   "outputs": [
    {
     "data": {
      "text/plain": [
       "5-element Array{Int64,1}:\n",
       "  2\n",
       "  2\n",
       " -1\n",
       "  2\n",
       "  2"
      ]
     },
     "execution_count": 127,
     "metadata": {},
     "output_type": "execute_result"
    }
   ],
   "source": [
    "Cgreedy.p"
   ]
  },
  {
   "cell_type": "code",
   "execution_count": 129,
   "metadata": {},
   "outputs": [],
   "source": [
    "p = 2\n",
    "order = p*ones(Int64, Nx)\n",
    "order[1] = p\n",
    "order[end] = p\n",
    "\n",
    "order = [p; p; -1; p; p]\n",
    "\n",
    "λ = 0.0\n",
    "δ = 0.0\n",
    "γ = 2.0\n",
    "\n",
    "C = SparseRadialMapComponent(Nx, order)\n",
    "center_std!(C, sort(X; dims = 2); γ = γ)\n",
    "\n",
    "xdiag = optimize(C, X, λ, δ)\n",
    "modify_a!(C, xdiag)"
   ]
  },
  {
   "cell_type": "code",
   "execution_count": 130,
   "metadata": {},
   "outputs": [
    {
     "data": {
      "text/plain": [
       "5-element Array{Array{Float64,1},1}:\n",
       " [0.06692085832073022, -0.7801398484959575, 0.6002539523221105]\n",
       " [-0.07939138121491598, 0.6004935199273379, -0.2402751136767193]\n",
       " []\n",
       " [0.13919029269758154, 0.18028587071195884, -0.28434514120169146]\n",
       " [-1.2434054385111921, 0.43945797002398135, 0.5294516517672112, 2.071789145456753, 0.4994167451044891]"
      ]
     },
     "execution_count": 130,
     "metadata": {},
     "output_type": "execute_result"
    }
   ],
   "source": [
    "C.a"
   ]
  },
  {
   "cell_type": "code",
   "execution_count": 131,
   "metadata": {},
   "outputs": [
    {
     "data": {
      "text/plain": [
       "5-element Array{Array{Float64,1},1}:\n",
       " [0.06692085832073022, -0.7801398484959575, 0.6002539523221105]\n",
       " [-0.07939138121491598, 0.6004935199273379, -0.2402751136767193]\n",
       " []\n",
       " [0.13919029269758154, 0.18028587071195884, -0.28434514120169146]\n",
       " [-1.2434054385111921, 0.43945797002398135, 0.5294516517672112, 2.071789145456753, 0.4994167451044891]"
      ]
     },
     "execution_count": 131,
     "metadata": {},
     "output_type": "execute_result"
    }
   ],
   "source": [
    "Cgreedy.a"
   ]
  },
  {
   "cell_type": "code",
   "execution_count": null,
   "metadata": {},
   "outputs": [],
   "source": [
    "@time S = greedyfit(Nx, 2, X, 3, λ, δ, γ)"
   ]
  },
  {
   "cell_type": "code",
   "execution_count": 44,
   "metadata": {},
   "outputs": [],
   "source": [
    "p = 2\n",
    "order = -1*ones(Int64, Nx)\n",
    "order[end] = p\n",
    "\n",
    "λ = 0.0\n",
    "δ = 0.0\n",
    "γ = 2.0\n",
    "\n",
    "C = SparseRadialMapComponent(Nx, order)\n",
    "\n",
    "center_std!(C, X; γ = γ)"
   ]
  },
  {
   "cell_type": "code",
   "execution_count": null,
   "metadata": {},
   "outputs": [],
   "source": []
  },
  {
   "cell_type": "code",
   "execution_count": 43,
   "metadata": {},
   "outputs": [
    {
     "name": "stdout",
     "output_type": "stream",
     "text": [
      "nd = 4\n",
      "xdiag = [-1.144856912325688, 0.5117073506980931, 1.267987430300984, 0.9882418961056991, 0.628141290464556]\n"
     ]
    }
   ],
   "source": [
    "xdiag = optimize(C, X, λ, δ)\n",
    "@show xdiag\n",
    "modify_a!(C, xdiag)"
   ]
  },
  {
   "cell_type": "code",
   "execution_count": 74,
   "metadata": {},
   "outputs": [
    {
     "data": {
      "text/plain": [
       "2-element Array{Float64,1}:\n",
       " 0.0\n",
       " 0.0"
      ]
     },
     "execution_count": 74,
     "metadata": {},
     "output_type": "execute_result"
    }
   ],
   "source": [
    "C.ξ[1] = zeros(2)"
   ]
  },
  {
   "cell_type": "code",
   "execution_count": 77,
   "metadata": {},
   "outputs": [
    {
     "data": {
      "text/plain": [
       "5-element Array{Int64,1}:\n",
       " 1\n",
       " 2\n",
       " 4\n",
       " 5\n",
       " 6"
      ]
     },
     "execution_count": 77,
     "metadata": {},
     "output_type": "execute_result"
    }
   ],
   "source": [
    "candidate = [1;2;4;5;6]"
   ]
  },
  {
   "cell_type": "code",
   "execution_count": 79,
   "metadata": {},
   "outputs": [
    {
     "data": {
      "text/plain": [
       "4-element Array{Int64,1}:\n",
       " 1\n",
       " 2\n",
       " 4\n",
       " 5"
      ]
     },
     "execution_count": 79,
     "metadata": {},
     "output_type": "execute_result"
    }
   ],
   "source": [
    "filter!(x-> x!= 6, candidate)"
   ]
  },
  {
   "cell_type": "code",
   "execution_count": 58,
   "metadata": {},
   "outputs": [
    {
     "data": {
      "text/plain": [
       "QR{Float64,Array{Float64,2}}\n",
       "Q factor:\n",
       "0×0 LinearAlgebra.QRPackedQ{Float64,Array{Float64,2}}\n",
       "R factor:\n",
       "0×0 Array{Float64,2}"
      ]
     },
     "execution_count": 58,
     "metadata": {},
     "output_type": "execute_result"
    }
   ],
   "source": [
    "F = qrfactUnblocked(zeros(0,0))"
   ]
  },
  {
   "cell_type": "code",
   "execution_count": 59,
   "metadata": {},
   "outputs": [
    {
     "data": {
      "text/plain": [
       "3×100 Array{Float64,2}:\n",
       " -3.19543  -1.91949  -1.79685  …  1.5624   2.02908  2.07783  2.57984\n",
       " -2.56403  -2.16018  -1.79746     1.95061  1.99873  2.22     2.45416\n",
       " -5.25837  -2.23524  -2.21159     1.82776  1.88725  3.68546  4.48272"
      ]
     },
     "execution_count": 59,
     "metadata": {},
     "output_type": "execute_result"
    }
   ],
   "source": [
    "sort(X; dims = 2)"
   ]
  },
  {
   "cell_type": "code",
   "execution_count": 60,
   "metadata": {},
   "outputs": [
    {
     "data": {
      "text/plain": [
       "(:Nx, :p, :activedim, :ξ, :σ, :a)"
      ]
     },
     "execution_count": 60,
     "metadata": {},
     "output_type": "execute_result"
    }
   ],
   "source": [
    "fieldnames(typeof(C))"
   ]
  },
  {
   "cell_type": "code",
   "execution_count": 61,
   "metadata": {},
   "outputs": [],
   "source": [
    "# Create a radial map with order p for all the entries\n",
    "Cfull = SparseRadialMapComponent(Nx, p)\n",
    "\n",
    "# Compute centers and widths\n",
    "center_std!(Cfull, X; γ = 2.0)"
   ]
  },
  {
   "cell_type": "code",
   "execution_count": 62,
   "metadata": {},
   "outputs": [
    {
     "data": {
      "text/plain": [
       "([-0.05265181235741307 0.4779324710910178 … 0.08398298544273618 -0.4092296050232699; 0.6335110135727616 0.426100046813958 … 0.6122688072606001 0.5544757104159953; … ; 0.5008613639194552 0.5177783763757736 … 0.07474742681337398 0.0786362808665519; 0.37659543336751466 0.5025194820224516 … 0.02455226721309088 0.026165363552809188], [-0.014673891188928027 -0.12616874894278474 … -0.0031674895288425556 -0.47026981960161884; 0.7903899800904021 0.4137352925063087 … 0.9096863222326221 0.10075390680759361; 0.5611286279792064 0.3043548121365823 … 0.6909381256481013 0.1151723813223477; 0.2358548010139806 0.09826103084808677 … 0.34567108006812614 0.032301303888060656], [0.07479940760187515 0.402794218988961 … 0.01972064278811092 0.8383859151017649; 0.563951079932745 0.7631598027503205 … 0.318935996711231 0.3456793730256319; 0.5012697751851327 0.444943515223901 … 0.4479670755249779 0.24705496505617405; 0.3527810546164679 0.182315034146949 … 0.4585573932228423 0.07316008586299144])"
      ]
     },
     "execution_count": 62,
     "metadata": {},
     "output_type": "execute_result"
    }
   ],
   "source": [
    "### Evaluate the different basis\n",
    "\n",
    "# Create weights\n",
    "ψ_off, ψ_diag, ψ_∂k = compute_weights(Cfull, X)"
   ]
  },
  {
   "cell_type": "code",
   "execution_count": 63,
   "metadata": {},
   "outputs": [
    {
     "data": {
      "text/plain": [
       "3-element Array{Int64,1}:\n",
       " -1\n",
       " -1\n",
       "  2"
      ]
     },
     "execution_count": 63,
     "metadata": {},
     "output_type": "execute_result"
    }
   ],
   "source": [
    "C.p"
   ]
  },
  {
   "cell_type": "code",
   "execution_count": 64,
   "metadata": {},
   "outputs": [
    {
     "data": {
      "text/plain": [
       "Float64[]"
      ]
     },
     "execution_count": 64,
     "metadata": {},
     "output_type": "execute_result"
    }
   ],
   "source": [
    "C.a[2]"
   ]
  },
  {
   "cell_type": "code",
   "execution_count": 65,
   "metadata": {},
   "outputs": [
    {
     "data": {
      "text/plain": [
       "6-element Array{Float64,1}:\n",
       " 0.0\n",
       " 0.0\n",
       " 0.0\n",
       " 0.0\n",
       " 0.0\n",
       " 0.0"
      ]
     },
     "execution_count": 65,
     "metadata": {},
     "output_type": "execute_result"
    }
   ],
   "source": [
    "xoff = zeros(6)"
   ]
  },
  {
   "cell_type": "code",
   "execution_count": 66,
   "metadata": {},
   "outputs": [
    {
     "data": {
      "text/plain": [
       "5-element Array{Float64,1}:\n",
       " -1.708651306570871\n",
       "  0.023853011531796413\n",
       "  0.9476620071459296\n",
       "  2.3229272697140018\n",
       "  0.26632668197579334"
      ]
     },
     "execution_count": 66,
     "metadata": {},
     "output_type": "execute_result"
    }
   ],
   "source": [
    "xdiag"
   ]
  },
  {
   "cell_type": "code",
   "execution_count": 85,
   "metadata": {},
   "outputs": [
    {
     "name": "stdout",
     "output_type": "stream",
     "text": [
      "  0.000017 seconds (7 allocations: 560 bytes)\n"
     ]
    },
    {
     "data": {
      "text/plain": [
       "6-element Array{Float64,1}:\n",
       " 9.059531047355486\n",
       " 4.7997094847545965\n",
       " 4.694335089300771\n",
       " 8.736553330288878\n",
       " 4.077485689847407\n",
       " 4.059224468063335"
      ]
     },
     "execution_count": 85,
     "metadata": {},
     "output_type": "execute_result"
    }
   ],
   "source": [
    "@time σψ_off = norm.(eachslice(ψ_off; dims = 1))"
   ]
  },
  {
   "cell_type": "code",
   "execution_count": 88,
   "metadata": {},
   "outputs": [
    {
     "name": "stdout",
     "output_type": "stream",
     "text": [
      "search: \u001b[0m\u001b[1mm\u001b[22m\u001b[0m\u001b[1mu\u001b[22m\u001b[0m\u001b[1ml\u001b[22m\u001b[0m\u001b[1m!\u001b[22m r\u001b[0m\u001b[1mm\u001b[22m\u001b[0m\u001b[1mu\u001b[22m\u001b[0m\u001b[1ml\u001b[22m\u001b[0m\u001b[1m!\u001b[22m l\u001b[0m\u001b[1mm\u001b[22m\u001b[0m\u001b[1mu\u001b[22m\u001b[0m\u001b[1ml\u001b[22m\u001b[0m\u001b[1m!\u001b[22m accu\u001b[0m\u001b[1mm\u001b[22m\u001b[0m\u001b[1mu\u001b[22m\u001b[0m\u001b[1ml\u001b[22mate\u001b[0m\u001b[1m!\u001b[22m ele\u001b[0m\u001b[1mm\u001b[22mentprod\u001b[0m\u001b[1mu\u001b[22mctmatmu\u001b[0m\u001b[1ml\u001b[22m\u001b[0m\u001b[1m!\u001b[22m \u001b[0m\u001b[1mm\u001b[22m\u001b[0m\u001b[1mu\u001b[22m\u001b[0m\u001b[1ml\u001b[22madd \u001b[0m\u001b[1mM\u001b[22m\u001b[0m\u001b[1mu\u001b[22m\u001b[0m\u001b[1ml\u001b[22mtiBasis\n",
      "\n"
     ]
    },
    {
     "data": {
      "text/latex": [
       "\\begin{verbatim}\n",
       "mul!(Y, A, B) -> Y\n",
       "\\end{verbatim}\n",
       "Calculates the matrix-matrix or matrix-vector product $AB$ and stores the result in \\texttt{Y}, overwriting the existing value of \\texttt{Y}. Note that \\texttt{Y} must not be aliased with either \\texttt{A} or \\texttt{B}.\n",
       "\n",
       "\\section{Examples}\n",
       "\\begin{verbatim}\n",
       "julia> A=[1.0 2.0; 3.0 4.0]; B=[1.0 1.0; 1.0 1.0]; Y = similar(B); mul!(Y, A, B);\n",
       "\n",
       "julia> Y\n",
       "2×2 Array{Float64,2}:\n",
       " 3.0  3.0\n",
       " 7.0  7.0\n",
       "\\end{verbatim}\n",
       "\\section{Implementation}\n",
       "For custom matrix and vector types, it is recommended to implement 5-argument \\texttt{mul!} rather than implementing 3-argument \\texttt{mul!} directly if possible.\n",
       "\n",
       "\\rule{\\textwidth}{1pt}\n",
       "\\begin{verbatim}\n",
       "mul!(C, A, B, α, β) -> C\n",
       "\\end{verbatim}\n",
       "Combined inplace matrix-matrix or matrix-vector multiply-add $A B α + C β$. The result is stored in \\texttt{C} by overwriting it.  Note that \\texttt{C} must not be aliased with either \\texttt{A} or \\texttt{B}.\n",
       "\n",
       "\\begin{quote}\n",
       "\\textbf{compat}\n",
       "\n",
       "Julia 1.3\n",
       "\n",
       "Five-argument \\texttt{mul!} requires at least Julia 1.3.\n",
       "\n",
       "\\end{quote}\n",
       "\\section{Examples}\n",
       "\\begin{verbatim}\n",
       "julia> A=[1.0 2.0; 3.0 4.0]; B=[1.0 1.0; 1.0 1.0]; C=[1.0 2.0; 3.0 4.0];\n",
       "\n",
       "julia> mul!(C, A, B, 100.0, 10.0) === C\n",
       "true\n",
       "\n",
       "julia> C\n",
       "2×2 Array{Float64,2}:\n",
       " 310.0  320.0\n",
       " 730.0  740.0\n",
       "\\end{verbatim}\n",
       "\\rule{\\textwidth}{1pt}\n",
       "Do mul! with the off-diagonal elements of a matrix.\n",
       "\n"
      ],
      "text/markdown": [
       "```\n",
       "mul!(Y, A, B) -> Y\n",
       "```\n",
       "\n",
       "Calculates the matrix-matrix or matrix-vector product $AB$ and stores the result in `Y`, overwriting the existing value of `Y`. Note that `Y` must not be aliased with either `A` or `B`.\n",
       "\n",
       "# Examples\n",
       "\n",
       "```jldoctest\n",
       "julia> A=[1.0 2.0; 3.0 4.0]; B=[1.0 1.0; 1.0 1.0]; Y = similar(B); mul!(Y, A, B);\n",
       "\n",
       "julia> Y\n",
       "2×2 Array{Float64,2}:\n",
       " 3.0  3.0\n",
       " 7.0  7.0\n",
       "```\n",
       "\n",
       "# Implementation\n",
       "\n",
       "For custom matrix and vector types, it is recommended to implement 5-argument `mul!` rather than implementing 3-argument `mul!` directly if possible.\n",
       "\n",
       "---\n",
       "\n",
       "```\n",
       "mul!(C, A, B, α, β) -> C\n",
       "```\n",
       "\n",
       "Combined inplace matrix-matrix or matrix-vector multiply-add $A B α + C β$. The result is stored in `C` by overwriting it.  Note that `C` must not be aliased with either `A` or `B`.\n",
       "\n",
       "!!! compat \"Julia 1.3\"\n",
       "    Five-argument `mul!` requires at least Julia 1.3.\n",
       "\n",
       "\n",
       "# Examples\n",
       "\n",
       "```jldoctest\n",
       "julia> A=[1.0 2.0; 3.0 4.0]; B=[1.0 1.0; 1.0 1.0]; C=[1.0 2.0; 3.0 4.0];\n",
       "\n",
       "julia> mul!(C, A, B, 100.0, 10.0) === C\n",
       "true\n",
       "\n",
       "julia> C\n",
       "2×2 Array{Float64,2}:\n",
       " 310.0  320.0\n",
       " 730.0  740.0\n",
       "```\n",
       "\n",
       "---\n",
       "\n",
       "Do mul! with the off-diagonal elements of a matrix.\n"
      ],
      "text/plain": [
       "\u001b[36m  mul!(Y, A, B) -> Y\u001b[39m\n",
       "\n",
       "  Calculates the matrix-matrix or matrix-vector product \u001b[35mAB\u001b[39m and stores the\n",
       "  result in \u001b[36mY\u001b[39m, overwriting the existing value of \u001b[36mY\u001b[39m. Note that \u001b[36mY\u001b[39m must not be\n",
       "  aliased with either \u001b[36mA\u001b[39m or \u001b[36mB\u001b[39m.\n",
       "\n",
       "\u001b[1m  Examples\u001b[22m\n",
       "\u001b[1m  ≡≡≡≡≡≡≡≡≡≡\u001b[22m\n",
       "\n",
       "\u001b[36m  julia> A=[1.0 2.0; 3.0 4.0]; B=[1.0 1.0; 1.0 1.0]; Y = similar(B); mul!(Y, A, B);\u001b[39m\n",
       "\u001b[36m  \u001b[39m\n",
       "\u001b[36m  julia> Y\u001b[39m\n",
       "\u001b[36m  2×2 Array{Float64,2}:\u001b[39m\n",
       "\u001b[36m   3.0  3.0\u001b[39m\n",
       "\u001b[36m   7.0  7.0\u001b[39m\n",
       "\n",
       "\u001b[1m  Implementation\u001b[22m\n",
       "\u001b[1m  ≡≡≡≡≡≡≡≡≡≡≡≡≡≡≡≡\u001b[22m\n",
       "\n",
       "  For custom matrix and vector types, it is recommended to implement\n",
       "  5-argument \u001b[36mmul!\u001b[39m rather than implementing 3-argument \u001b[36mmul!\u001b[39m directly if\n",
       "  possible.\n",
       "\n",
       "  ────────────────────────────────────────────────────────────────────────────\n",
       "\n",
       "\u001b[36m  mul!(C, A, B, α, β) -> C\u001b[39m\n",
       "\n",
       "  Combined inplace matrix-matrix or matrix-vector multiply-add \u001b[35mA B α + C β\u001b[39m.\n",
       "  The result is stored in \u001b[36mC\u001b[39m by overwriting it. Note that \u001b[36mC\u001b[39m must not be aliased\n",
       "  with either \u001b[36mA\u001b[39m or \u001b[36mB\u001b[39m.\n",
       "\n",
       "\u001b[39m\u001b[1m  │ \u001b[22m\u001b[39m\u001b[1mJulia 1.3\u001b[22m\n",
       "\u001b[39m\u001b[1m  │\u001b[22m\n",
       "\u001b[39m\u001b[1m  │\u001b[22m  Five-argument \u001b[36mmul!\u001b[39m requires at least Julia 1.3.\n",
       "\n",
       "\u001b[1m  Examples\u001b[22m\n",
       "\u001b[1m  ≡≡≡≡≡≡≡≡≡≡\u001b[22m\n",
       "\n",
       "\u001b[36m  julia> A=[1.0 2.0; 3.0 4.0]; B=[1.0 1.0; 1.0 1.0]; C=[1.0 2.0; 3.0 4.0];\u001b[39m\n",
       "\u001b[36m  \u001b[39m\n",
       "\u001b[36m  julia> mul!(C, A, B, 100.0, 10.0) === C\u001b[39m\n",
       "\u001b[36m  true\u001b[39m\n",
       "\u001b[36m  \u001b[39m\n",
       "\u001b[36m  julia> C\u001b[39m\n",
       "\u001b[36m  2×2 Array{Float64,2}:\u001b[39m\n",
       "\u001b[36m   310.0  320.0\u001b[39m\n",
       "\u001b[36m   730.0  740.0\u001b[39m\n",
       "\n",
       "  ────────────────────────────────────────────────────────────────────────────\n",
       "\n",
       "  Do mul! with the off-diagonal elements of a matrix."
      ]
     },
     "execution_count": 88,
     "metadata": {},
     "output_type": "execute_result"
    }
   ],
   "source": [
    "?mul!"
   ]
  },
  {
   "cell_type": "code",
   "execution_count": 89,
   "metadata": {},
   "outputs": [
    {
     "data": {
      "text/plain": [
       "10×3 Array{Float64,2}:\n",
       " -0.853656  -1.44137    0.156286\n",
       "  0.940509   0.555801  -0.311858\n",
       " -0.718136  -1.48009   -0.460115\n",
       " -0.325371  -1.74338   -0.691796\n",
       "  0.738981  -0.246861  -1.15411\n",
       "  0.803276  -1.00937   -0.638441\n",
       " -0.576057  -0.709121  -1.54447\n",
       " -1.07807    1.97736    0.493205\n",
       " -0.142008   0.299562   1.24071\n",
       " -1.78193   -1.29644   -0.743333"
      ]
     },
     "execution_count": 89,
     "metadata": {},
     "output_type": "execute_result"
    }
   ],
   "source": [
    "A = randn(10,3)"
   ]
  },
  {
   "cell_type": "code",
   "execution_count": 90,
   "metadata": {},
   "outputs": [
    {
     "data": {
      "text/plain": [
       "3-element Array{Float64,1}:\n",
       " 2.8488117348971618\n",
       " 3.8574078376024805\n",
       " 2.6966820879796654"
      ]
     },
     "execution_count": 90,
     "metadata": {},
     "output_type": "execute_result"
    }
   ],
   "source": [
    "σA = norm.(eachcol(A))"
   ]
  },
  {
   "cell_type": "code",
   "execution_count": 92,
   "metadata": {},
   "outputs": [
    {
     "data": {
      "text/plain": [
       "10×3 Array{Float64,2}:\n",
       " -0.299653  -0.373664    0.0579551\n",
       "  0.330141   0.144087   -0.115645\n",
       " -0.252083  -0.383702   -0.170623\n",
       " -0.114213  -0.451956   -0.256536\n",
       "  0.2594    -0.0639966  -0.427976\n",
       "  0.281969  -0.261671   -0.23675\n",
       " -0.202209  -0.183834   -0.572729\n",
       " -0.378428   0.512614    0.182893\n",
       " -0.049848   0.077659    0.460087\n",
       " -0.625499  -0.336091   -0.275647"
      ]
     },
     "execution_count": 92,
     "metadata": {},
     "output_type": "execute_result"
    }
   ],
   "source": [
    "B = A ./ σA'"
   ]
  },
  {
   "cell_type": "code",
   "execution_count": 100,
   "metadata": {},
   "outputs": [
    {
     "name": "stderr",
     "output_type": "stream",
     "text": [
      "┌ Error: Failed to revise /media/mat/HDD/AdaptiveTransportMap/src/radialmap/greedyfit.jl\n",
      "│   exception = (LoadError(\"/media/mat/HDD/AdaptiveTransportMap/src/radialmap/greedyfit.jl\", 61, \"missing last argument in \\\"2:\\\" range expression \"), Union{Ptr{Nothing}, Base.InterpreterIP}[Ptr{Nothing} @0x00007ff4d2255fd3])\n",
      "└ @ Revise /home/mat/.julia/packages/Revise/AIcio/src/packagedef.jl:709\n"
     ]
    },
    {
     "data": {
      "text/plain": [
       "0.0"
      ]
     },
     "execution_count": 100,
     "metadata": {},
     "output_type": "execute_result"
    }
   ],
   "source": [
    "norm(B)-sqrt(3)"
   ]
  },
  {
   "cell_type": "code",
   "execution_count": 67,
   "metadata": {},
   "outputs": [
    {
     "data": {
      "text/plain": [
       "L (generic function with 1 method)"
      ]
     },
     "execution_count": 67,
     "metadata": {},
     "output_type": "execute_result"
    }
   ],
   "source": [
    "L(x) = (1/(2*Ne))*norm((ψ_off'*x) + ψ_diag'*xdiag[2:end] .+ xdiag[1])^2 + λ*x'*x"
   ]
  },
  {
   "cell_type": "code",
   "execution_count": 68,
   "metadata": {},
   "outputs": [
    {
     "data": {
      "text/plain": [
       "6-element Array{Float64,1}:\n",
       "  0.1165972042950302\n",
       " -0.006018497994904082\n",
       " -0.005511133462771722\n",
       "  0.0016074796330899544\n",
       "  0.016452355156386912\n",
       "  0.01495891361857412"
      ]
     },
     "execution_count": 68,
     "metadata": {},
     "output_type": "execute_result"
    }
   ],
   "source": [
    "ForwardDiff.gradient(x->L(x), xoff)"
   ]
  },
  {
   "cell_type": "code",
   "execution_count": 97,
   "metadata": {},
   "outputs": [
    {
     "data": {
      "text/latex": [
       "\\begin{verbatim}\n",
       "gemm!(tA, tB, alpha, A, B, beta, C)\n",
       "\\end{verbatim}\n",
       "Update \\texttt{C} as \\texttt{alpha*A*B + beta*C} or the other three variants according to \\href{@ref stdlib-blas-trans}{\\texttt{tA}} and \\texttt{tB}. Return the updated \\texttt{C}.\n",
       "\n"
      ],
      "text/markdown": [
       "```\n",
       "gemm!(tA, tB, alpha, A, B, beta, C)\n",
       "```\n",
       "\n",
       "Update `C` as `alpha*A*B + beta*C` or the other three variants according to [`tA`](@ref stdlib-blas-trans) and `tB`. Return the updated `C`.\n"
      ],
      "text/plain": [
       "\u001b[36m  gemm!(tA, tB, alpha, A, B, beta, C)\u001b[39m\n",
       "\n",
       "  Update \u001b[36mC\u001b[39m as \u001b[36malpha*A*B + beta*C\u001b[39m or the other three variants according to \u001b[36mtA\u001b[39m\n",
       "  and \u001b[36mtB\u001b[39m. Return the updated \u001b[36mC\u001b[39m."
      ]
     },
     "execution_count": 97,
     "metadata": {},
     "output_type": "execute_result"
    }
   ],
   "source": [
    "?BLAS.gemm!"
   ]
  },
  {
   "cell_type": "code",
   "execution_count": 71,
   "metadata": {},
   "outputs": [
    {
     "data": {
      "text/plain": [
       "6-element Array{Float64,1}:\n",
       "  0.11659720429503018\n",
       " -0.006018497994904076\n",
       " -0.005511133462771721\n",
       "  0.0016074796330899405\n",
       "  0.016452355156386905\n",
       "  0.014958913618574099"
      ]
     },
     "execution_count": 71,
     "metadata": {},
     "output_type": "execute_result"
    }
   ],
   "source": [
    "b = vcat(ones(1,Ne), ψ_diag)'*xdiag;\n",
    "J = 1/Ne*(ψ_off)*ψ_off'*xoff #+ (1/(2*Ne))*ψ_off*b + ((1/(2*Ne))*b'*ψ_off')' + λ*xoff           \n",
    "J = 1/Ne*(ψ_off)*(ψ_off'*xoff) + (1/(Ne))*ψ_off*b  + λ*xoff           "
   ]
  },
  {
   "cell_type": "code",
   "execution_count": 99,
   "metadata": {},
   "outputs": [
    {
     "name": "stdout",
     "output_type": "stream",
     "text": [
      "search: \u001b[0m\u001b[1mm\u001b[22m\u001b[0m\u001b[1mu\u001b[22m\u001b[0m\u001b[1ml\u001b[22m\u001b[0m\u001b[1m!\u001b[22m r\u001b[0m\u001b[1mm\u001b[22m\u001b[0m\u001b[1mu\u001b[22m\u001b[0m\u001b[1ml\u001b[22m\u001b[0m\u001b[1m!\u001b[22m l\u001b[0m\u001b[1mm\u001b[22m\u001b[0m\u001b[1mu\u001b[22m\u001b[0m\u001b[1ml\u001b[22m\u001b[0m\u001b[1m!\u001b[22m accu\u001b[0m\u001b[1mm\u001b[22m\u001b[0m\u001b[1mu\u001b[22m\u001b[0m\u001b[1ml\u001b[22mate\u001b[0m\u001b[1m!\u001b[22m ele\u001b[0m\u001b[1mm\u001b[22mentprod\u001b[0m\u001b[1mu\u001b[22mctmatmu\u001b[0m\u001b[1ml\u001b[22m\u001b[0m\u001b[1m!\u001b[22m \u001b[0m\u001b[1mm\u001b[22m\u001b[0m\u001b[1mu\u001b[22m\u001b[0m\u001b[1ml\u001b[22madd \u001b[0m\u001b[1mM\u001b[22m\u001b[0m\u001b[1mu\u001b[22m\u001b[0m\u001b[1ml\u001b[22mtiBasis\n",
      "\n"
     ]
    },
    {
     "name": "stderr",
     "output_type": "stream",
     "text": [
      "┌ Error: Failed to revise /media/mat/HDD/AdaptiveTransportMap/src/radialmap/greedyfit.jl\n",
      "│   exception = (LoadError(\"/media/mat/HDD/AdaptiveTransportMap/src/radialmap/greedyfit.jl\", 61, \"missing last argument in \\\"2:\\\" range expression \"), Union{Ptr{Nothing}, Base.InterpreterIP}[Ptr{Nothing} @0x00007ff4d2255fd3])\n",
      "└ @ Revise /home/mat/.julia/packages/Revise/AIcio/src/packagedef.jl:709\n"
     ]
    },
    {
     "data": {
      "text/latex": [
       "\\begin{verbatim}\n",
       "mul!(Y, A, B) -> Y\n",
       "\\end{verbatim}\n",
       "Calculates the matrix-matrix or matrix-vector product $AB$ and stores the result in \\texttt{Y}, overwriting the existing value of \\texttt{Y}. Note that \\texttt{Y} must not be aliased with either \\texttt{A} or \\texttt{B}.\n",
       "\n",
       "\\section{Examples}\n",
       "\\begin{verbatim}\n",
       "julia> A=[1.0 2.0; 3.0 4.0]; B=[1.0 1.0; 1.0 1.0]; Y = similar(B); mul!(Y, A, B);\n",
       "\n",
       "julia> Y\n",
       "2×2 Array{Float64,2}:\n",
       " 3.0  3.0\n",
       " 7.0  7.0\n",
       "\\end{verbatim}\n",
       "\\section{Implementation}\n",
       "For custom matrix and vector types, it is recommended to implement 5-argument \\texttt{mul!} rather than implementing 3-argument \\texttt{mul!} directly if possible.\n",
       "\n",
       "\\rule{\\textwidth}{1pt}\n",
       "\\begin{verbatim}\n",
       "mul!(C, A, B, α, β) -> C\n",
       "\\end{verbatim}\n",
       "Combined inplace matrix-matrix or matrix-vector multiply-add $A B α + C β$. The result is stored in \\texttt{C} by overwriting it.  Note that \\texttt{C} must not be aliased with either \\texttt{A} or \\texttt{B}.\n",
       "\n",
       "\\begin{quote}\n",
       "\\textbf{compat}\n",
       "\n",
       "Julia 1.3\n",
       "\n",
       "Five-argument \\texttt{mul!} requires at least Julia 1.3.\n",
       "\n",
       "\\end{quote}\n",
       "\\section{Examples}\n",
       "\\begin{verbatim}\n",
       "julia> A=[1.0 2.0; 3.0 4.0]; B=[1.0 1.0; 1.0 1.0]; C=[1.0 2.0; 3.0 4.0];\n",
       "\n",
       "julia> mul!(C, A, B, 100.0, 10.0) === C\n",
       "true\n",
       "\n",
       "julia> C\n",
       "2×2 Array{Float64,2}:\n",
       " 310.0  320.0\n",
       " 730.0  740.0\n",
       "\\end{verbatim}\n",
       "\\rule{\\textwidth}{1pt}\n",
       "Do mul! with the off-diagonal elements of a matrix.\n",
       "\n"
      ],
      "text/markdown": [
       "```\n",
       "mul!(Y, A, B) -> Y\n",
       "```\n",
       "\n",
       "Calculates the matrix-matrix or matrix-vector product $AB$ and stores the result in `Y`, overwriting the existing value of `Y`. Note that `Y` must not be aliased with either `A` or `B`.\n",
       "\n",
       "# Examples\n",
       "\n",
       "```jldoctest\n",
       "julia> A=[1.0 2.0; 3.0 4.0]; B=[1.0 1.0; 1.0 1.0]; Y = similar(B); mul!(Y, A, B);\n",
       "\n",
       "julia> Y\n",
       "2×2 Array{Float64,2}:\n",
       " 3.0  3.0\n",
       " 7.0  7.0\n",
       "```\n",
       "\n",
       "# Implementation\n",
       "\n",
       "For custom matrix and vector types, it is recommended to implement 5-argument `mul!` rather than implementing 3-argument `mul!` directly if possible.\n",
       "\n",
       "---\n",
       "\n",
       "```\n",
       "mul!(C, A, B, α, β) -> C\n",
       "```\n",
       "\n",
       "Combined inplace matrix-matrix or matrix-vector multiply-add $A B α + C β$. The result is stored in `C` by overwriting it.  Note that `C` must not be aliased with either `A` or `B`.\n",
       "\n",
       "!!! compat \"Julia 1.3\"\n",
       "    Five-argument `mul!` requires at least Julia 1.3.\n",
       "\n",
       "\n",
       "# Examples\n",
       "\n",
       "```jldoctest\n",
       "julia> A=[1.0 2.0; 3.0 4.0]; B=[1.0 1.0; 1.0 1.0]; C=[1.0 2.0; 3.0 4.0];\n",
       "\n",
       "julia> mul!(C, A, B, 100.0, 10.0) === C\n",
       "true\n",
       "\n",
       "julia> C\n",
       "2×2 Array{Float64,2}:\n",
       " 310.0  320.0\n",
       " 730.0  740.0\n",
       "```\n",
       "\n",
       "---\n",
       "\n",
       "Do mul! with the off-diagonal elements of a matrix.\n"
      ],
      "text/plain": [
       "\u001b[36m  mul!(Y, A, B) -> Y\u001b[39m\n",
       "\n",
       "  Calculates the matrix-matrix or matrix-vector product \u001b[35mAB\u001b[39m and stores the\n",
       "  result in \u001b[36mY\u001b[39m, overwriting the existing value of \u001b[36mY\u001b[39m. Note that \u001b[36mY\u001b[39m must not be\n",
       "  aliased with either \u001b[36mA\u001b[39m or \u001b[36mB\u001b[39m.\n",
       "\n",
       "\u001b[1m  Examples\u001b[22m\n",
       "\u001b[1m  ≡≡≡≡≡≡≡≡≡≡\u001b[22m\n",
       "\n",
       "\u001b[36m  julia> A=[1.0 2.0; 3.0 4.0]; B=[1.0 1.0; 1.0 1.0]; Y = similar(B); mul!(Y, A, B);\u001b[39m\n",
       "\u001b[36m  \u001b[39m\n",
       "\u001b[36m  julia> Y\u001b[39m\n",
       "\u001b[36m  2×2 Array{Float64,2}:\u001b[39m\n",
       "\u001b[36m   3.0  3.0\u001b[39m\n",
       "\u001b[36m   7.0  7.0\u001b[39m\n",
       "\n",
       "\u001b[1m  Implementation\u001b[22m\n",
       "\u001b[1m  ≡≡≡≡≡≡≡≡≡≡≡≡≡≡≡≡\u001b[22m\n",
       "\n",
       "  For custom matrix and vector types, it is recommended to implement\n",
       "  5-argument \u001b[36mmul!\u001b[39m rather than implementing 3-argument \u001b[36mmul!\u001b[39m directly if\n",
       "  possible.\n",
       "\n",
       "  ────────────────────────────────────────────────────────────────────────────\n",
       "\n",
       "\u001b[36m  mul!(C, A, B, α, β) -> C\u001b[39m\n",
       "\n",
       "  Combined inplace matrix-matrix or matrix-vector multiply-add \u001b[35mA B α + C β\u001b[39m.\n",
       "  The result is stored in \u001b[36mC\u001b[39m by overwriting it. Note that \u001b[36mC\u001b[39m must not be aliased\n",
       "  with either \u001b[36mA\u001b[39m or \u001b[36mB\u001b[39m.\n",
       "\n",
       "\u001b[39m\u001b[1m  │ \u001b[22m\u001b[39m\u001b[1mJulia 1.3\u001b[22m\n",
       "\u001b[39m\u001b[1m  │\u001b[22m\n",
       "\u001b[39m\u001b[1m  │\u001b[22m  Five-argument \u001b[36mmul!\u001b[39m requires at least Julia 1.3.\n",
       "\n",
       "\u001b[1m  Examples\u001b[22m\n",
       "\u001b[1m  ≡≡≡≡≡≡≡≡≡≡\u001b[22m\n",
       "\n",
       "\u001b[36m  julia> A=[1.0 2.0; 3.0 4.0]; B=[1.0 1.0; 1.0 1.0]; C=[1.0 2.0; 3.0 4.0];\u001b[39m\n",
       "\u001b[36m  \u001b[39m\n",
       "\u001b[36m  julia> mul!(C, A, B, 100.0, 10.0) === C\u001b[39m\n",
       "\u001b[36m  true\u001b[39m\n",
       "\u001b[36m  \u001b[39m\n",
       "\u001b[36m  julia> C\u001b[39m\n",
       "\u001b[36m  2×2 Array{Float64,2}:\u001b[39m\n",
       "\u001b[36m   310.0  320.0\u001b[39m\n",
       "\u001b[36m   730.0  740.0\u001b[39m\n",
       "\n",
       "  ────────────────────────────────────────────────────────────────────────────\n",
       "\n",
       "  Do mul! with the off-diagonal elements of a matrix."
      ]
     },
     "execution_count": 99,
     "metadata": {},
     "output_type": "execute_result"
    }
   ],
   "source": [
    "?mul!"
   ]
  },
  {
   "cell_type": "code",
   "execution_count": 41,
   "metadata": {},
   "outputs": [
    {
     "ename": "LoadError",
     "evalue": "\u001b[91mUndefVarError: J not defined\u001b[39m",
     "output_type": "error",
     "traceback": [
      "\u001b[91mUndefVarError: J not defined\u001b[39m",
      "",
      "Stacktrace:",
      " [1] top-level scope at In[41]:1",
      " [2] include_string(::Function, ::Module, ::String, ::String) at ./loading.jl:1091"
     ]
    }
   ],
   "source": [
    "norm(J[4:6])"
   ]
  },
  {
   "cell_type": "code",
   "execution_count": null,
   "metadata": {},
   "outputs": [],
   "source": [
    "@testset \"Verify updateqrfactUnblocked! for a vector\" begin\n",
    "\n",
    "    ψ = randn(100, 20)\n",
    "    ϕ = randn(100)\n",
    "\n",
    "    F = qrfactUnblocked(ψ)\n",
    "    Fold = deepcopy(F)\n",
    "    G = qrfactUnblocked(hcat(ψ, ϕ))\n",
    "    F = updateqrfactUnblocked!(F, ϕ)\n",
    "    @test norm(F.τ-G.τ)<1e-14\n",
    "    @test norm(F.factors - G.factors)<1e-14\n",
    "end\n",
    "\n",
    "@testset \"Verify updateqrfactUnblocked! for a matrix\" begin\n",
    "\n",
    "    ψ = randn(100, 20)\n",
    "    ϕ = randn(100, 5)\n",
    "\n",
    "    F = qrfactUnblocked(ψ)\n",
    "    Fold = deepcopy(F)\n",
    "    G = qrfactUnblocked(hcat(ψ, ϕ))\n",
    "    F = updateqrfactUnblocked!(F, ϕ)\n",
    "    @test norm(F.τ-G.τ)<1e-14\n",
    "    @test norm(F.factors - G.factors)<1e-14\n",
    "end"
   ]
  }
 ],
 "metadata": {
  "kernelspec": {
   "display_name": "Julia 1.5.3",
   "language": "julia",
   "name": "julia-1.5"
  },
  "language_info": {
   "file_extension": ".jl",
   "mimetype": "application/julia",
   "name": "julia",
   "version": "1.5.3"
  }
 },
 "nbformat": 4,
 "nbformat_minor": 4
}
