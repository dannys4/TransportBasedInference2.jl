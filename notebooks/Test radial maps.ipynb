{
 "cells": [
  {
   "cell_type": "code",
   "execution_count": 1,
   "metadata": {},
   "outputs": [
    {
     "name": "stderr",
     "output_type": "stream",
     "text": [
      "\u001b[32m\u001b[1mPrecompiling\u001b[22m\u001b[39m project...\n",
      "┌ Info: Precompiling AdaptiveTransportMap [bdf749b0-1400-4207-80d3-e689c0e3f03d]\n",
      "└ @ Base loading.jl:1278\n",
      "┌ Warning: Type annotations on keyword arguments not currently supported in recipes. Type information has been discarded\n",
      "└ @ RecipesBase ~/.julia/packages/RecipesBase/92zOw/src/RecipesBase.jl:116\n",
      "┌ Warning: Type annotations on keyword arguments not currently supported in recipes. Type information has been discarded\n",
      "└ @ RecipesBase ~/.julia/packages/RecipesBase/92zOw/src/RecipesBase.jl:116\n"
     ]
    }
   ],
   "source": [
    "] precompile"
   ]
  },
  {
   "cell_type": "code",
   "execution_count": 2,
   "metadata": {},
   "outputs": [],
   "source": [
    "using Revise\n",
    "using LinearAlgebra\n",
    "using AdaptiveTransportMap\n",
    "using Statistics\n",
    "using Distributions\n",
    "using Test\n",
    "using ForwardDiff\n",
    "using SpecialFunctions"
   ]
  },
  {
   "cell_type": "code",
   "execution_count": null,
   "metadata": {},
   "outputs": [],
   "source": []
  },
  {
   "cell_type": "code",
   "execution_count": 86,
   "metadata": {},
   "outputs": [
    {
     "name": "stdout",
     "output_type": "stream",
     "text": [
      "\u001b[91m\u001b[1mTest Failed\u001b[22m\u001b[39m at \u001b[39m\u001b[1mIn[86]:43\u001b[22m\n",
      "  Expression: isapprox((ForwardDiff.gradient((x->(U(x);)), y))[2], (ψ₀′(0.0, a2[1]))(y[1]) + (rbf(0.0, a2[2]))(y[1]) + (rbf(0.0, a2[3]))(y[1]) + (ψpp1′(0.0, a2[4]))(y[2]), atol = 1.0e-10)\n",
      "   Evaluated: isapprox(1.0259005301753914, 0.6497606317219393; atol = 1.0e-10)\n"
     ]
    },
    {
     "ename": "LoadError",
     "evalue": "\u001b[91mThere was an error during testing\u001b[39m",
     "output_type": "error",
     "traceback": [
      "\u001b[91mThere was an error during testing\u001b[39m",
      "",
      "Stacktrace:",
      " [1] record(::Test.FallbackTestSet, ::Union{Test.Error, Test.Fail}) at /buildworker/worker/package_linux64/build/usr/share/julia/stdlib/v1.5/Test/src/Test.jl:737",
      " [2] do_test(::Test.ExecutionResult, ::Any) at /buildworker/worker/package_linux64/build/usr/share/julia/stdlib/v1.5/Test/src/Test.jl:520",
      " [3] top-level scope at In[86]:43",
      " [4] include_string(::Function, ::Module, ::String, ::String) at ./loading.jl:1091"
     ]
    }
   ],
   "source": [
    "# @testset \"radial map\" begin\n",
    "    γ = 1.0\n",
    "    λ = 0.2\n",
    "    δ = 1e-4\n",
    "    κ = 5.0\n",
    "\n",
    "    U = RadialMap(4,2, γ=γ, λ=λ, δ=δ, κ=κ)\n",
    "    @test size(U) == (4,2)\n",
    "\n",
    "    @test U.γ==1.0\n",
    "    @test U.λ==0.2\n",
    "    @test U.δ==1e-4\n",
    "    @test U.κ==5.0\n",
    "\n",
    "    for i=1:4\n",
    "        @test size(U.U[i]) ==(i,2)\n",
    "    end\n",
    "\n",
    "\n",
    "    U = RadialMap(2,2)\n",
    "    U.U[1].a[1] .= ones(2+3)\n",
    "    U.U[2].a[1] .= 5*ones(2+1)\n",
    "    U.U[2].a[2] .= ones(2+3)\n",
    "\n",
    "\n",
    "    U11 = RadialMapComponent(1,2, [zeros(4)], [ones(4)], [ones(2+3)])\n",
    "    U22 = RadialMapComponent(2,2, [zeros(2),zeros(4)], [ones(2), ones(4)], [5*ones(2+1), ones(2+3)])\n",
    "    \n",
    "    x = randn()\n",
    "    y = randn(2)\n",
    "    z = randn(2)\n",
    "\n",
    "    @test isapprox(U([x; x]), [U11([x]); U22([x; x])], atol = 1e-10)\n",
    "\n",
    "    @test isapprox(U(y), [U11(y[1]); U22(y)], atol = 1e-10)\n",
    "    @test isapprox(U(z), [U11(z[1]); U22(z)], atol = 1e-10)\n",
    "\n",
    "    U = RadialMapComponent(2,2)\n",
    "    a2 = rand(5)\n",
    "    U.a[2] .= a2\n",
    "\n",
    "    \n",
    "    @test isapprox(ForwardDiff.gradient(x->U(x), y)[2], \n",
    "                   ψ₀′(0.0, a2[1])(y[1])+ rbf(0.0, a2[2])(y[1]) + rbf(0.0, a2[3])(y[1]) +\n",
    "                   ψpp1′(0.0, a2[4])(y[2]), atol = 1e-10)\n",
    "# end"
   ]
  },
  {
   "cell_type": "code",
   "execution_count": 81,
   "metadata": {},
   "outputs": [
    {
     "data": {
      "text/plain": [
       "1.1133613986456734"
      ]
     },
     "execution_count": 81,
     "metadata": {},
     "output_type": "execute_result"
    }
   ],
   "source": [
    "ForwardDiff.gradient(x->U(x), y)[2]"
   ]
  },
  {
   "cell_type": "code",
   "execution_count": 82,
   "metadata": {},
   "outputs": [
    {
     "data": {
      "text/plain": [
       "0.6864603124227382"
      ]
     },
     "execution_count": 82,
     "metadata": {},
     "output_type": "execute_result"
    }
   ],
   "source": [
    " ψ₀′(0.0, a2[1])(y[1])"
   ]
  },
  {
   "cell_type": "code",
   "execution_count": 19,
   "metadata": {},
   "outputs": [
    {
     "name": "stdout",
     "output_type": "stream",
     "text": [
      "\u001b[37m\u001b[1mTest Summary:                     | \u001b[22m\u001b[39m\u001b[32m\u001b[1mPass  \u001b[22m\u001b[39m\u001b[36m\u001b[1mTotal\u001b[22m\u001b[39m\n",
      "RadialMapComponent (Nx,p) = (1,1) | \u001b[32m  12  \u001b[39m\u001b[36m   12\u001b[39m\n"
     ]
    },
    {
     "data": {
      "text/plain": [
       "Test.DefaultTestSet(\"RadialMapComponent (Nx,p) = (1,1)\", Any[], 12, false)"
      ]
     },
     "execution_count": 19,
     "metadata": {},
     "output_type": "execute_result"
    }
   ],
   "source": [
    "@testset \"RadialMapComponent (Nx,p) = (1,1)\" begin\n",
    "\n",
    "    C = RadialMapComponent(1,1)\n",
    "\n",
    "    @test C.Nx == 1\n",
    "    @test C.p == 1\n",
    "\n",
    "    @test size(C.ξ,1) ==1\n",
    "    @test size(C.ξ[1],1) ==1+2\n",
    "\n",
    "    @test size(C.σ,1) ==1\n",
    "    @test size(C.σ[1],1) ==1+2\n",
    "\n",
    "    @test size(C.ξ,1) ==1\n",
    "    @test size(C.ξ[1],1) ==1+2\n",
    "\n",
    "    @test size(C.a,1) ==1\n",
    "    @test size(C.a[1],1) ==1+3\n",
    "\n",
    "    C.a[1] .= [1.0; 2.0; 3.0; 1.0]\n",
    "\n",
    "    x = randn()\n",
    "    @test abs(C(x) - (1.0 + 2.0*ψ₀(0.0,1.0)(x) +\n",
    "                     3.0*ψj(0.0,1.0)(x) + 1.0*ψpp1(0.0,1.0)(x)))< 1e-10\n",
    "\n",
    "    @test abs(C([x]) - (1.0 + 2.0*ψ₀(0.0,1.0)(x) +\n",
    "                      3.0*ψj(0.0,1.0)(x) + 1.0*ψpp1(0.0,1.0)(x)))< 1e-10\n",
    "\n",
    "end\n"
   ]
  },
  {
   "cell_type": "code",
   "execution_count": 5,
   "metadata": {},
   "outputs": [
    {
     "name": "stdout",
     "output_type": "stream",
     "text": [
      "\u001b[37mValidate loss function I: \u001b[39m\u001b[91m\u001b[1mError During Test\u001b[22m\u001b[39m at \u001b[39m\u001b[1mIn[5]:1\u001b[22m\n",
      "  Got exception outside of a @test\n",
      "  UndefVarError: RadialMap not defined\n",
      "  Stacktrace:\n",
      "   [1] top-level scope at In[5]:18\n",
      "   [2] top-level scope at /buildworker/worker/package_linux64/build/usr/share/julia/stdlib/v1.5/Test/src/Test.jl:1115\n",
      "   [3] top-level scope at In[5]:2\n",
      "   [4] include_string(::Function, ::Module, ::String, ::String) at ./loading.jl:1091\n",
      "   [5] softscope_include_string(::Module, ::String, ::String) at /home/mat/.julia/packages/SoftGlobalScope/u4UzH/src/SoftGlobalScope.jl:65\n",
      "   [6] execute_request(::ZMQ.Socket, ::IJulia.Msg) at /home/mat/.julia/packages/IJulia/e8kqU/src/execute_request.jl:67\n",
      "   [7] #invokelatest#1 at ./essentials.jl:710 [inlined]\n",
      "   [8] invokelatest at ./essentials.jl:709 [inlined]\n",
      "   [9] eventloop(::ZMQ.Socket) at /home/mat/.julia/packages/IJulia/e8kqU/src/eventloop.jl:8\n",
      "   [10] (::IJulia.var\"#15#18\")() at ./task.jl:356\n",
      "  \n",
      "\u001b[37m\u001b[1mTest Summary:            | \u001b[22m\u001b[39m\u001b[91m\u001b[1mError  \u001b[22m\u001b[39m\u001b[36m\u001b[1mTotal\u001b[22m\u001b[39m\n",
      "Validate loss function I | \u001b[91m    1  \u001b[39m\u001b[36m    1\u001b[39m\n"
     ]
    },
    {
     "ename": "LoadError",
     "evalue": "\u001b[91mSome tests did not pass: 0 passed, 0 failed, 1 errored, 0 broken.\u001b[39m",
     "output_type": "error",
     "traceback": [
      "\u001b[91mSome tests did not pass: 0 passed, 0 failed, 1 errored, 0 broken.\u001b[39m",
      "",
      "Stacktrace:",
      " [1] finish(::Test.DefaultTestSet) at /buildworker/worker/package_linux64/build/usr/share/julia/stdlib/v1.5/Test/src/Test.jl:879",
      " [2] top-level scope at /buildworker/worker/package_linux64/build/usr/share/julia/stdlib/v1.5/Test/src/Test.jl:1125",
      " [3] top-level scope at In[5]:2",
      " [4] include_string(::Function, ::Module, ::String, ::String) at ./loading.jl:1091"
     ]
    }
   ],
   "source": [
    "@testset \"Validate loss function I\" begin\n",
    "    Nx = 1\n",
    "    Ne = 10\n",
    "    p = 3\n",
    "    γ = 2.0\n",
    "    \n",
    "    X = reshape([-1.5438\n",
    "                 -1.5518\n",
    "                    0.8671\n",
    "                   -0.1454\n",
    "                   -0.3862\n",
    "                    1.3162\n",
    "                   -0.7965\n",
    "                    0.1354\n",
    "                    0.4178\n",
    "                    0.8199],1,Ne)\n",
    "    \n",
    "    S = RadialMap(Nx, p; γ = γ);\n",
    "    center_std(S, X);\n",
    "\n",
    "    W = create_weights(S, X)\n",
    "    weights(S, X, W)\n",
    "\n",
    "    ψ_off, ψ_mono, dψ_mono = rearrange_ricardo(W,Nx);\n",
    "    μψ = deepcopy(mean(ψ_mono, dims=2))\n",
    "    σψ = deepcopy(std(ψ_mono, dims=2, corrected=false))\n",
    "\n",
    "    ψ_mono .-= μψ\n",
    "    ψ_mono ./= σψ\n",
    "    dψ_mono ./= σψ\n",
    "\n",
    "    A = ψ_mono*ψ_mono'\n",
    "\n",
    "# Value for this example from Ricardo Baptista's code\n",
    "#     A = [1.000000000000000   0.980746250237442   0.949585186065365   0.874893160310884   0.682688353791794\n",
    "#    0.980746250237442   1.000000000000000   0.992392810306380   0.951686939442048   0.794587369107029\n",
    "#    0.949585186065365   0.992392810306380   1.000000000000000   0.979987807512526   0.841920530108716\n",
    "#    0.874893160310884   0.951686939442048   0.979987807512526   1.000000000000000   0.924572967646111\n",
    "#    0.682688353791794   0.794587369107029   0.841920530108716   0.924572967646111   1.000000000000000]\n",
    "#\n",
    "#    dψ = [1.943027194236598   0.904099317171178   0.363590761264482   0.103708119866970   0.003658358886509\n",
    "#    1.949127329018457   0.900154645724251   0.358540918818191   0.101474664830914   0.003524731655464\n",
    "#    0.436105078812650   0.785902678977702   0.903915317182112   1.478321127032274   2.769938074690495\n",
    "#    0.940754438483933   1.187522900065327   1.375388815415954   1.249642233914406   0.493692853837867\n",
    "#    1.094596689101933   1.214822387670764   1.280911634416390   0.981040834765123   0.264471303061320\n",
    "#    0.288722974980864   0.555375334050147   0.517307925073611   1.026368388570445   4.005813485764689\n",
    "#    1.380134162445589   1.181212729079411   0.975263367972602   0.543176897811297   0.074249159004658\n",
    "#    0.776788122078680   1.114885036778955   1.375388815415954   1.502313102175688   0.916745911337340\n",
    "#    0.630159061208850   1.005528754335045   1.256866405570924   1.625364312645948   1.525991525022805\n",
    "#    0.454238308718550   0.810349920313954   0.945882762308085   1.512212666353956   2.631844256908664]\n",
    "    nb = size(ψ_mono,1)\n",
    "    rmul!(A,1/Ne)\n",
    "    λ = 0.0\n",
    "    δ = 0.0;\n",
    "\n",
    "    x0 = ones(nb);\n",
    "\n",
    "    Lhd = LHD(A, Matrix(dψ_mono'), λ, δ)\n",
    "    Lhd(x0,true)\n",
    "\n",
    "    @test norm(Lhd.J[1] - 9.858183469194048)<1e-10\n",
    "    @test norm(Lhd.G - [4.254136703227439;4.518792556597960;4.583786234498148;4.551417068663062;4.037990186069983])<1e-10\n",
    "    @test norm(Lhd.H - [1.092420543831142   1.038440852206475   0.988737431456852   0.902158085870462   0.699932284218600;\n",
    "   1.038440852206475   1.044839328780384   1.030133800308906   0.984518683331781   0.822101516960292;\n",
    "   0.988737431456852   1.030133800308906   1.036827933644060   1.015461469462408   0.872825798615600;\n",
    "   0.902158085870462   0.984518683331781   1.015461469462408   1.039520711149700   0.969205731345725;\n",
    "   0.699932284218600   0.822101516960292   0.872825798615600   0.969205731345725   1.085482924097099])<1e-10\n",
    "\n",
    "   J = Lhd(x0,false;noutput =1)\n",
    "   @test norm(J[1] - 9.858183469194048)<1e-10\n",
    "\n",
    "   J, G = Lhd(x0,false;noutput =2)\n",
    "   @test norm(J[1] - 9.858183469194048)<1e-10\n",
    "   @test norm(G - [4.254136703227439;4.518792556597960;4.583786234498148;4.551417068663062;4.037990186069983])<1e-10\n",
    "\n",
    "   J, G, H = Lhd(x0,false;noutput =3)\n",
    "   @test norm(J[1] - 9.858183469194048)<1e-10\n",
    "   @test norm(G - [4.254136703227439;4.518792556597960;4.583786234498148;4.551417068663062;4.037990186069983])<1e-10\n",
    "   @test norm(H - [1.092420543831142   1.038440852206475   0.988737431456852   0.902158085870462   0.699932284218600;\n",
    "  1.038440852206475   1.044839328780384   1.030133800308906   0.984518683331781   0.822101516960292;\n",
    "  0.988737431456852   1.030133800308906   1.036827933644060   1.015461469462408   0.872825798615600;\n",
    "  0.902158085870462   0.984518683331781   1.015461469462408   1.039520711149700   0.969205731345725;\n",
    "  0.699932284218600   0.822101516960292   0.872825798615600   0.969205731345725   1.085482924097099])<1e-10\n",
    "\n",
    "end"
   ]
  },
  {
   "cell_type": "code",
   "execution_count": null,
   "metadata": {},
   "outputs": [],
   "source": []
  }
 ],
 "metadata": {
  "kernelspec": {
   "display_name": "Julia 1.5.3",
   "language": "julia",
   "name": "julia-1.5"
  },
  "language_info": {
   "file_extension": ".jl",
   "mimetype": "application/julia",
   "name": "julia",
   "version": "1.5.3"
  }
 },
 "nbformat": 4,
 "nbformat_minor": 4
}
