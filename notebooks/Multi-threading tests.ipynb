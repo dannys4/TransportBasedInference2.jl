{
 "cells": [
  {
   "cell_type": "code",
   "execution_count": 1,
   "metadata": {},
   "outputs": [
    {
     "name": "stderr",
     "output_type": "stream",
     "text": [
      "\u001b[32m\u001b[1m Activating\u001b[22m\u001b[39m environment at `/media/mat/HDD/AdaptiveTransportMap/Project.toml`\n"
     ]
    }
   ],
   "source": [
    "using Pkg\n",
    "Pkg.activate(\"/media/mat/HDD/AdaptiveTransportMap/\")"
   ]
  },
  {
   "cell_type": "code",
   "execution_count": 2,
   "metadata": {
    "scrolled": false
   },
   "outputs": [
    {
     "name": "stderr",
     "output_type": "stream",
     "text": [
      "WARNING: using Optim.optimize in module Main conflicts with an existing identifier.\n"
     ]
    }
   ],
   "source": [
    "using Revise\n",
    "using AdaptiveTransportMap\n",
    "using LinearAlgebra\n",
    "import LinearAlgebra: ldiv!, dot\n",
    "using Test\n",
    "using ForwardDiff\n",
    "using SpecialFunctions\n",
    "using BenchmarkTools\n",
    "using TransportMap\n",
    "using QuadGK\n",
    "using AdaptiveTransportMap: transform!, evaluate, ncoeff, optimize, negative_log_likelihood!\n",
    "using DiffResults\n",
    "using Distributions\n",
    "using Random\n",
    "using LoopVectorization\n",
    "using Optim\n",
    "using NLsolve\n",
    "using Polynomials\n",
    "using MLDataUtils"
   ]
  },
  {
   "cell_type": "code",
   "execution_count": 3,
   "metadata": {},
   "outputs": [
    {
     "data": {
      "text/plain": [
       "6"
      ]
     },
     "execution_count": 3,
     "metadata": {},
     "output_type": "execute_result"
    }
   ],
   "source": [
    "Threads.nthreads()"
   ]
  },
  {
   "cell_type": "code",
   "execution_count": 63,
   "metadata": {},
   "outputs": [
    {
     "name": "stdout",
     "output_type": "stream",
     "text": [
      "\u001b[37m\u001b[1mTest Summary:                                                            | \u001b[22m\u001b[39m\u001b[32m\u001b[1mPass  \u001b[22m\u001b[39m\u001b[36m\u001b[1mTotal\u001b[22m\u001b[39m\n",
      "Verfiy that Serial and Multi-threading optimization are working properly | \u001b[32m  51  \u001b[39m\u001b[36m   51\u001b[39m\n"
     ]
    },
    {
     "data": {
      "text/plain": [
       "Test.DefaultTestSet(\"Verfiy that Serial and Multi-threading optimization are working properly\", Any[], 51, false)"
      ]
     },
     "execution_count": 63,
     "metadata": {},
     "output_type": "execute_result"
    }
   ],
   "source": [
    "@testset \"Verfiy that Serial and Multi-threading optimization are working properly\" begin\n",
    "    Nx = 50\n",
    "    Ne = 1000\n",
    "    m = 10\n",
    "\n",
    "\n",
    "    X = randn(Nx, Ne) .* randn(Nx, Ne) .+ randn(Nx)\n",
    "    M = HermiteMap(m, X)\n",
    "    Mthread = HermiteMap(m,X)\n",
    "\n",
    "    optimize(M, X, 10; P = serial)\n",
    "    optimize(Mthread, X, 10; P = thread)\n",
    "\n",
    "    for i=1:Nx\n",
    "        @test norm(getcoeff(M.C[i]) - getcoeff(Mthread.C[i]))<1e-8\n",
    "    end\n",
    "\n",
    "    @test norm(evaluate(M, X; P = serial) - evaluate(Mthread, X; P = thread))<1e-8\n",
    "end"
   ]
  },
  {
   "cell_type": "code",
   "execution_count": 61,
   "metadata": {},
   "outputs": [
    {
     "name": "stdout",
     "output_type": "stream",
     "text": [
      "  9.059913 seconds (5.67 M allocations: 11.773 GiB, 6.07% gc time)\n"
     ]
    }
   ],
   "source": [
    "@time optimize(M, X, 10; P = serial);"
   ]
  },
  {
   "cell_type": "code",
   "execution_count": 62,
   "metadata": {},
   "outputs": [
    {
     "name": "stdout",
     "output_type": "stream",
     "text": [
      "  3.712017 seconds (5.67 M allocations: 11.766 GiB, 5.75% gc time)\n"
     ]
    }
   ],
   "source": [
    "@time optimize(Mthread, X, 10; P = thread);"
   ]
  },
  {
   "cell_type": "code",
   "execution_count": 56,
   "metadata": {},
   "outputs": [
    {
     "data": {
      "text/plain": [
       "10-element Array{Float64,1}:\n",
       " -2.1609417435824323\n",
       "  4.698221800386294\n",
       " -0.8794791642734636\n",
       "  2.9685383865277997\n",
       " -3.5295375231050365\n",
       "  2.344092855749197\n",
       " -2.611373267859441\n",
       "  1.5865818565016125\n",
       " -1.7540869298152149\n",
       "  0.6952606550568726"
      ]
     },
     "execution_count": 56,
     "metadata": {},
     "output_type": "execute_result"
    }
   ],
   "source": [
    "getcoeff(Mthread.C[1])"
   ]
  },
  {
   "cell_type": "code",
   "execution_count": 57,
   "metadata": {},
   "outputs": [
    {
     "data": {
      "text/plain": [
       "10-element Array{Float64,1}:\n",
       " -2.16094174358244\n",
       "  4.698221800386311\n",
       " -0.8794791642734627\n",
       "  2.9685383865278117\n",
       " -3.5295375231050357\n",
       "  2.3440928557492056\n",
       " -2.6113732678594412\n",
       "  1.5865818565016176\n",
       " -1.7540869298152153\n",
       "  0.6952606550568745"
      ]
     },
     "execution_count": 57,
     "metadata": {},
     "output_type": "execute_result"
    }
   ],
   "source": [
    "getcoeff(M.C[1])"
   ]
  },
  {
   "cell_type": "code",
   "execution_count": null,
   "metadata": {},
   "outputs": [],
   "source": []
  }
 ],
 "metadata": {
  "kernelspec": {
   "display_name": "Julia 1.4.0",
   "language": "julia",
   "name": "julia-1.4"
  },
  "language_info": {
   "file_extension": ".jl",
   "mimetype": "application/julia",
   "name": "julia",
   "version": "1.4.0"
  }
 },
 "nbformat": 4,
 "nbformat_minor": 2
}
