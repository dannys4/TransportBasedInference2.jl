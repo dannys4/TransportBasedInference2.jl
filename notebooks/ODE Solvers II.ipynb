{
 "cells": [
  {
   "cell_type": "code",
   "execution_count": 1,
   "metadata": {},
   "outputs": [
    {
     "name": "stderr",
     "output_type": "stream",
     "text": [
      "\u001b[32m\u001b[1m Activating\u001b[22m\u001b[39m environment at `~/Documents/AdaptiveTransportMap/Project.toml`\n"
     ]
    }
   ],
   "source": [
    "using Pkg\n",
    "Pkg.activate(\"/Users/mathieu/Documents/AdaptiveTransportMap/\")"
   ]
  },
  {
   "cell_type": "code",
   "execution_count": 2,
   "metadata": {},
   "outputs": [
    {
     "name": "stderr",
     "output_type": "stream",
     "text": [
      "┌ Info: Precompiling AdaptiveTransportMap [bdf749b0-1400-4207-80d3-e689c0e3f03d]\n",
      "└ @ Base loading.jl:1278\n",
      "┌ Warning: Type annotations on keyword arguments not currently supported in recipes. Type information has been discarded\n",
      "└ @ RecipesBase ~/.julia/packages/RecipesBase/92zOw/src/RecipesBase.jl:116\n"
     ]
    }
   ],
   "source": [
    "using Revise\n",
    "using AdaptiveTransportMap\n",
    "using OrdinaryDiffEq\n",
    "using Distributions, LinearAlgebra, Statistics"
   ]
  },
  {
   "cell_type": "code",
   "execution_count": 3,
   "metadata": {},
   "outputs": [],
   "source": [
    "using Test"
   ]
  },
  {
   "cell_type": "code",
   "execution_count": 7,
   "metadata": {},
   "outputs": [
    {
     "data": {
      "text/plain": [
       "4×5 Array{Float64,2}:\n",
       " 0.0  0.0  0.0  0.0  0.0\n",
       " 0.0  0.0  0.0  0.0  0.0\n",
       " 0.0  0.0  0.0  0.0  0.0\n",
       " 0.0  0.0  0.0  0.0  0.0"
      ]
     },
     "execution_count": 7,
     "metadata": {},
     "output_type": "execute_result"
    }
   ],
   "source": [
    "Nx = 3\n",
    "Ny = 1\n",
    "Ne = 5\n",
    "\n",
    "X = zeros(Ny+Nx, Ne)"
   ]
  },
  {
   "cell_type": "code",
   "execution_count": 9,
   "metadata": {},
   "outputs": [
    {
     "name": "stdout",
     "output_type": "stream",
     "text": [
      "\u001b[37m\u001b[1mTest Summary:                             | \u001b[22m\u001b[39m\u001b[32m\u001b[1mPass  \u001b[22m\u001b[39m\u001b[36m\u001b[1mTotal\u001b[22m\u001b[39m\n",
      "Test Propagation of the Lorenz equation I | \u001b[32m  15  \u001b[39m\u001b[36m   15\u001b[39m\n"
     ]
    },
    {
     "data": {
      "text/plain": [
       "Test.DefaultTestSet(\"Test Propagation of the Lorenz equation I\", Any[], 15, false)"
      ]
     },
     "execution_count": 9,
     "metadata": {},
     "output_type": "execute_result"
    }
   ],
   "source": [
    "@testset \"Test Propagation of the Lorenz equation I\" begin\n",
    "    u0 = [10.0; -5.0; 2.0]\n",
    "    t0 = 0.0\n",
    "    tf = 5.0\n",
    "    Δt = 1e-2\n",
    "    \n",
    "    J = ceil(Int64, (tf-t0)/Δt)\n",
    "    \n",
    "    prob = ODEProblem(lorenz63!,u0,(t0,tf))\n",
    "    sol = solve(prob, RK4(), dt = Δt, adaptive = false);\n",
    "    \n",
    "    h(t,u) = [sum(u)]\n",
    "\n",
    "\n",
    "#     Run it for the different ensemble members\n",
    "    Nx = 3\n",
    "    Ny = 1\n",
    "    Ne = 5\n",
    "    X = zeros(Ny+Nx, Ne)\n",
    "\n",
    "    viewstate(X, Ny, Nx) .= repeat(u0, 1, Ne)\n",
    "\n",
    "    statehist = Array{Float64,2}[]\n",
    "    push!(statehist, deepcopy(X[Ny+1:Ny+Nx,:]))\n",
    "    \n",
    "    for i = 1:J\n",
    "        # Forecast\n",
    "        tspan = (t0+(i-1)*Δt, t0+i*Δt)\n",
    "        prob = remake(prob; tspan=tspan)\n",
    "        \n",
    "        prob_func(prob,i,repeat) = ODEProblem(prob.f,view(X,Ny+1:Ny+Nx,i),prob.tspan)\n",
    "\n",
    "        ensemble_prob = EnsembleProblem(prob,output_func = (sol,i) -> (sol[end], false),\n",
    "        prob_func=prob_func)\n",
    "        sim = solve(ensemble_prob, RK4(), dt = Δt, adaptive = false, EnsembleThreads(),trajectories = Ne,\n",
    "        dense = false, save_everystep=false);\n",
    "\n",
    "        @inbounds for i=1:Ne\n",
    "            view(X, Ny+1:Ny+Nx,i) .= sim[i]\n",
    "        end\n",
    "        \n",
    "        push!(statehist, deepcopy(viewstate(X, Ny, Nx)))\n",
    "    end\n",
    "    \n",
    "    observe(h, 5.0, X, Ny, Nx)\n",
    "\n",
    "    for i=1:Ne\n",
    "        @test norm(view(statehist[end], :,i) - sol(5.0))<1e-11\n",
    "        @test norm(view(X, 1:Ny,i) - h(5.0, sol(5.0)))<1e-11\n",
    "        @test norm(view(X, Ny+1:Ny+Nx,i) - sol(5.0))<1e-11\n",
    "\n",
    "    end\n",
    "end"
   ]
  },
  {
   "cell_type": "code",
   "execution_count": null,
   "metadata": {},
   "outputs": [],
   "source": []
  }
 ],
 "metadata": {
  "kernelspec": {
   "display_name": "Julia 1.5.3",
   "language": "julia",
   "name": "julia-1.5"
  },
  "language_info": {
   "file_extension": ".jl",
   "mimetype": "application/julia",
   "name": "julia",
   "version": "1.5.3"
  }
 },
 "nbformat": 4,
 "nbformat_minor": 2
}
