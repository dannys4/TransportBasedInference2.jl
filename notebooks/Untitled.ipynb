{
 "cells": [
  {
   "cell_type": "code",
   "execution_count": 1,
   "metadata": {},
   "outputs": [
    {
     "name": "stderr",
     "output_type": "stream",
     "text": [
      "\u001b[32m\u001b[1m Activating\u001b[22m\u001b[39m environment at `/media/mat/HDD/AdaptiveTransportMap/Project.toml`\n"
     ]
    }
   ],
   "source": [
    "using Pkg\n",
    "Pkg.activate(\"/media/mat/HDD/AdaptiveTransportMap/\")"
   ]
  },
  {
   "cell_type": "code",
   "execution_count": 4,
   "metadata": {},
   "outputs": [],
   "source": [
    "using LinearAlgebra\n",
    "using BenchmarkTools\n",
    "using LoopVectorization\n",
    "using Test"
   ]
  },
  {
   "cell_type": "code",
   "execution_count": 5,
   "metadata": {},
   "outputs": [
    {
     "name": "stdout",
     "output_type": "stream",
     "text": [
      "  13.273 μs (3 allocations: 82.27 KiB)\n",
      "  7.930 μs (0 allocations: 0 bytes)\n",
      "  1.425 μs (0 allocations: 0 bytes)\n",
      "  1.459 μs (0 allocations: 0 bytes)\n"
     ]
    },
    {
     "data": {
      "text/plain": [
       "\u001b[32m\u001b[1mTest Passed\u001b[22m\u001b[39m"
      ]
     },
     "execution_count": 5,
     "metadata": {},
     "output_type": "execute_result"
    }
   ],
   "source": [
    "function f1!(d, A, B, c)\n",
    "    d .= (A .* B) * c\n",
    "end\n",
    "\n",
    "function f2!(E, d, A, B, c)\n",
    "    nx, ny = size(A)\n",
    "    @avx for j = 1:ny\n",
    "        for i = 1:nx\n",
    "            E[i, j] = A[i, j] * B[i, j]\n",
    "        end\n",
    "    end\n",
    "    mul!(d, E, c)\n",
    "end\n",
    "\n",
    "function f3!(d, A, B, c)\n",
    "    nx, ny = size(A)\n",
    "    @avx for i = 1:nx\n",
    "        di = zero(eltype(d))\n",
    "        for j = 1:ny\n",
    "            di += (A[i, j] * B[i, j]) * c[j]\n",
    "        end\n",
    "        d[i] = di\n",
    "    end\n",
    "end\n",
    "function f4!(d, A, B, c)\n",
    "    @avx @. d = (A * B) *ˡ c # note super script l; denotes lazy multiplication that fuses with broadcasts\n",
    "end\n",
    "nx = 500; ny = 20;\n",
    "A = randn(nx, ny);\n",
    "B = randn(nx, ny);\n",
    "c = randn(ny);\n",
    "d1 = zeros(nx); d2 = similar(d1); d3 = similar(d1); d4 = similar(d1);\n",
    "E = zeros(nx, ny);\n",
    "@btime f1!($d1, $A, $B, $c);\n",
    "@btime f2!($E, $d2, $A, $B, $c);\n",
    "@btime f3!($d3, $A, $B, $c);\n",
    "@btime f4!($d4, $A, $B, $c);\n",
    "@test  d1 ≈ d2 ≈ d3 ≈ d4"
   ]
  },
  {
   "cell_type": "code",
   "execution_count": 5,
   "metadata": {},
   "outputs": [
    {
     "data": {
      "text/plain": [
       "0.0"
      ]
     },
     "execution_count": 5,
     "metadata": {},
     "output_type": "execute_result"
    }
   ],
   "source": [
    "zero(eltype(d1))"
   ]
  },
  {
   "cell_type": "code",
   "execution_count": 21,
   "metadata": {},
   "outputs": [
    {
     "name": "stdout",
     "output_type": "stream",
     "text": [
      "  88.810 μs (5 allocations: 156.64 KiB)\n",
      "  105.616 μs (9 allocations: 242.97 KiB)\n",
      "  117.366 μs (9 allocations: 242.97 KiB)\n",
      "  6.218 ms (7 allocations: 160.94 KiB)\n"
     ]
    }
   ],
   "source": [
    "function f1!(d, A, B, c)\n",
    "    d .= (A .* B)*c\n",
    "end\n",
    "\n",
    "function f2!(E, d, A, B, c)\n",
    "    nx, ny = size(A)\n",
    "    for j=1:ny\n",
    "        for i=1:nx\n",
    "            E[i,j] = A[i,j]*B[i,j]\n",
    "        end\n",
    "    end\n",
    "    d .= E*c\n",
    "end\n",
    "\n",
    "function f3!(d, A, B, c)\n",
    "    nx, ny = size(A)\n",
    "    Ei = zeros(ny)\n",
    "    @inbounds for k=1:nx\n",
    "        for i=1:nx\n",
    "            for j=1:ny\n",
    "            Ei[j] = A[i,j]*B[i,j]\n",
    "            end\n",
    "            d[k] = Ei'*c\n",
    "        end\n",
    "    end\n",
    "end\n",
    "\n",
    "function timing()\n",
    "@btime  begin\n",
    "    nx = 500\n",
    "    ny = 20\n",
    "    A = randn(nx, ny)\n",
    "    B = randn(nx, ny)\n",
    "    c = randn(ny);\n",
    "end\n",
    "\n",
    "@btime begin \n",
    "    nx = 500\n",
    "    ny = 20\n",
    "    A = randn(nx, ny)\n",
    "    B = randn(nx, ny)\n",
    "    c = randn(ny);\n",
    "    d = zeros(nx)\n",
    "    f1!(d, A, B, c)\n",
    "end\n",
    "    \n",
    "@btime begin\n",
    "    nx = 500\n",
    "    ny = 20\n",
    "    A = randn(nx, ny)\n",
    "    B = randn(nx, ny)\n",
    "    c = randn(ny);\n",
    "    d = zeros(nx)\n",
    "    E = zeros(nx,ny)\n",
    "    f2!(E, d, A, B, c)\n",
    "end  \n",
    "    \n",
    "@btime begin\n",
    "    nx = 500\n",
    "    ny = 20\n",
    "    A = randn(nx, ny)\n",
    "    B = randn(nx, ny)\n",
    "    c = randn(ny);\n",
    "    d = zeros(nx)\n",
    "    f3!(d, A, B, c)\n",
    "end \n",
    "end\n",
    "\n",
    "timing()"
   ]
  },
  {
   "cell_type": "code",
   "execution_count": 17,
   "metadata": {},
   "outputs": [],
   "source": [
    "    nx = 500\n",
    "    ny = 20\n",
    "    A = randn(nx, ny)\n",
    "    B = randn(nx, ny)\n",
    "    c = randn(ny);\n",
    "    d = zeros(nx)\n",
    "    f3!(d, A, B, c)"
   ]
  },
  {
   "cell_type": "code",
   "execution_count": 11,
   "metadata": {},
   "outputs": [
    {
     "data": {
      "text/plain": [
       "gemm! (generic function with 4 methods)"
      ]
     },
     "execution_count": 11,
     "metadata": {},
     "output_type": "execute_result"
    }
   ],
   "source": [
    "BLAS.gemm!"
   ]
  },
  {
   "cell_type": "code",
   "execution_count": 19,
   "metadata": {},
   "outputs": [
    {
     "data": {
      "text/plain": [
       "5.880387343498137"
      ]
     },
     "execution_count": 19,
     "metadata": {},
     "output_type": "execute_result"
    }
   ],
   "source": [
    "randn(10)'*randn(10)"
   ]
  },
  {
   "cell_type": "code",
   "execution_count": null,
   "metadata": {},
   "outputs": [],
   "source": []
  }
 ],
 "metadata": {
  "kernelspec": {
   "display_name": "Julia 1.4.0",
   "language": "julia",
   "name": "julia-1.4"
  },
  "language_info": {
   "file_extension": ".jl",
   "mimetype": "application/julia",
   "name": "julia",
   "version": "1.4.0"
  }
 },
 "nbformat": 4,
 "nbformat_minor": 2
}
