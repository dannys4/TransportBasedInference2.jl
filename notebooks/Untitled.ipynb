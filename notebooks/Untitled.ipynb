{
 "cells": [
  {
   "cell_type": "code",
   "execution_count": 3,
   "metadata": {},
   "outputs": [],
   "source": [
    "using StaticUnivariatePolynomials\n",
    "using LinearAlgebra\n",
    "using BenchmarkTools"
   ]
  },
  {
   "cell_type": "code",
   "execution_count": 5,
   "metadata": {},
   "outputs": [
    {
     "data": {
      "text/plain": [
       "Polynomial{21,Float64}((6.704425728e11, -0.0, -1.3408851456e13, 0.0, 4.0226554368e13, -0.0, -4.29083246592e13, 0.0, 2.14541623296e13, -0.0, -5.72110995456e12, 0.0, 8.668348416e11, -0.0, -7.62052608e10, 0.0, 3.81026304e9, -0.0, -9.961472e7, 0.0, 1.048576e6))"
      ]
     },
     "execution_count": 5,
     "metadata": {},
     "output_type": "execute_result"
    }
   ],
   "source": [
    "P = Polynomial((6.704425728e11, -0.0, -1.3408851456e13, 0.0, 4.0226554368e13, -0.0, -4.29083246592e13, 0.0, 2.14541623296e13, -0.0, -5.72110995456e12, 0.0, 8.668348416e11, -0.0, -7.62052608e10, 0.0, 3.81026304e9, -0.0, -9.961472e7, 0.0, 1.048576e6))"
   ]
  },
  {
   "cell_type": "code",
   "execution_count": 6,
   "metadata": {},
   "outputs": [
    {
     "name": "stdout",
     "output_type": "stream",
     "text": [
      "  19.639 ns (1 allocation: 16 bytes)\n"
     ]
    },
    {
     "data": {
      "text/plain": [
       "1.107214478336e12"
      ]
     },
     "execution_count": 6,
     "metadata": {},
     "output_type": "execute_result"
    }
   ],
   "source": [
    "@btime P(1.0)"
   ]
  },
  {
   "cell_type": "code",
   "execution_count": null,
   "metadata": {},
   "outputs": [],
   "source": []
  }
 ],
 "metadata": {
  "kernelspec": {
   "display_name": "Julia 1.4.0",
   "language": "julia",
   "name": "julia-1.4"
  },
  "language_info": {
   "file_extension": ".jl",
   "mimetype": "application/julia",
   "name": "julia",
   "version": "1.4.0"
  }
 },
 "nbformat": 4,
 "nbformat_minor": 2
}
