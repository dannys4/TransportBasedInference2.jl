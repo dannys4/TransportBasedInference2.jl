{
 "cells": [
  {
   "cell_type": "markdown",
   "metadata": {},
   "source": [
    "## 6. Nonlinear ensemble filtering for the Lorenz-63 problem"
   ]
  },
  {
   "cell_type": "markdown",
   "metadata": {},
   "source": [
    "In this notebook, we are interested in the sequential inference \n",
    "\n",
    "\n",
    "\n",
    "References: \n",
    "\n",
    "\n",
    "[1] Evensen, G., 1994. Sequential data assimilation with a nonlinear quasi‐geostrophic model using Monte Carlo methods to forecast error statistics. Journal of Geophysical Research: Oceans, 99(C5), pp.10143-10162.\n",
    "\n",
    "[2] Asch, M., Bocquet, M. and Nodet, M., 2016. Data assimilation: methods, algorithms, and applications. Society for Industrial and Applied Mathematics.\n",
    "\n",
    "[3] Bishop, C.H., Etherton, B.J. and Majumdar, S.J., 2001. Adaptive sampling with the ensemble transform Kalman filter. Part I: Theoretical aspects. Monthly weather review, 129(3), pp.420-436. \n",
    "\n",
    "[4] Lorenz, E.N., 1963. Deterministic nonperiodic flow. Journal of atmospheric sciences, 20(2), pp.130-141.\n",
    "\n",
    "[5] Spantini, A., Baptista, R. and Marzouk, Y., 2019. Coupling techniques for nonlinear ensemble filtering. arXiv preprint arXiv:1907.00389."
   ]
  },
  {
   "cell_type": "markdown",
   "metadata": {},
   "source": [
    "### The basic steps\n",
    "To carry out sequential inference in `AdaptiveTransportMap`, we need to carry out a few basic steps:\n",
    "* **Specify the problem**: Define the state-space model: initial condition, dynamical and observation models (including process and observation noise)\n",
    "* **Specify the inflation parameters**: Determine the levels of covariance inflation to properly balance the dynamical system and the observations from the truth system\n",
    "* **Specify the filter**: Choose the ensemble filter to assimilate the observations in the state estimate\n",
    "* **Perform the sequential inference**: Perform the sequential inference\n",
    "\n",
    "We will go through all of these here."
   ]
  },
  {
   "cell_type": "code",
   "execution_count": 1,
   "metadata": {},
   "outputs": [],
   "source": [
    "using Revise\n",
    "using LinearAlgebra\n",
    "using AdaptiveTransportMap\n",
    "using Statistics\n",
    "using Distributions\n",
    "using OrdinaryDiffEq"
   ]
  },
  {
   "cell_type": "markdown",
   "metadata": {},
   "source": [
    "Load some packages to make nice figures"
   ]
  },
  {
   "cell_type": "code",
   "execution_count": 2,
   "metadata": {},
   "outputs": [],
   "source": [
    "using Plots\n",
    "default(tickfont = font(\"CMU Serif\", 9), \n",
    "        titlefont = font(\"CMU Serif\", 14), \n",
    "        guidefont = font(\"CMU Serif\", 12),\n",
    "        legendfont = font(\"CMU Serif\", 10),\n",
    "        grid = false)\n",
    "pyplot()\n",
    "\n",
    "using LaTeXStrings\n",
    "PyPlot.rc(\"text\", usetex = \"true\")\n",
    "PyPlot.rc(\"font\", family = \"CMU Serif\")\n",
    "# gr()\n",
    "using ColorSchemes"
   ]
  },
  {
   "cell_type": "markdown",
   "metadata": {},
   "source": [
    "The Lorenz-63  model is a three dimensional system that models the atmospheric convection [4]. This system is a classical benchmark problem in data assimilation. The state $\\boldsymbol{x} = (x_1, x_2, x_3)$ is governed by the following set of ordinary differential equations:\n",
    "\n",
    "\\begin{equation}\n",
    "\\begin{aligned}\n",
    "&\\frac{\\mathrm{d} x_1}{\\mathrm{d} t}=\\sigma(x_2-x_1)\\\\\n",
    "&\\frac{\\mathrm{d} x_2}{\\mathrm{d} t}=x_1(\\rho-x_2)-x_2\\\\\n",
    "&\\frac{\\mathrm{d} x_3}{\\mathrm{d} t}=x_1 x_2-\\beta x_3,\n",
    "\\end{aligned}\n",
    "\\end{equation}\n",
    "\n",
    "where $\\sigma = 10, \\beta = 8/3, \\rho = 28$. For these values, the system is chaotic and behaves like a strange attractor. We integrate this system of ODEs with time step $\\Delta t_{dyn} = 0.05$. The state is fully observed $h(t,\\boldsymbol{x}) = \\boldsymbol{x}$ with $\\Delta t_{obs}=0.1$. The initial distribution $\\pi_{\\mathsf{X}_0}$ is the standard Gaussian. The process noise is Gaussian with zero mean and covariance $10^{-4}\\boldsymbol{I}_3$. The measurement noise has a Gaussian distribution with zero mean and covariance $\\theta^2\\boldsymbol{I}_3$ where $\\theta^2 = 4.0$."
   ]
  },
  {
   "cell_type": "markdown",
   "metadata": {},
   "source": [
    "### Simple twin-experiment"
   ]
  },
  {
   "cell_type": "markdown",
   "metadata": {},
   "source": [
    "Define the dimension of the state and observation vectors"
   ]
  },
  {
   "cell_type": "code",
   "execution_count": 3,
   "metadata": {},
   "outputs": [
    {
     "data": {
      "text/plain": [
       "3"
      ]
     },
     "execution_count": 3,
     "metadata": {},
     "output_type": "execute_result"
    }
   ],
   "source": [
    "Nx = 3\n",
    "Ny = 3"
   ]
  },
  {
   "cell_type": "markdown",
   "metadata": {},
   "source": [
    "Define the time steps $\\Delta t_{dyn}, \\Delta t_{obs}$  of the dynamical and observation models. Observations from the truth are assimilated every $\\Delta t_{obs}$."
   ]
  },
  {
   "cell_type": "code",
   "execution_count": 4,
   "metadata": {},
   "outputs": [
    {
     "data": {
      "text/plain": [
       "0.1"
      ]
     },
     "execution_count": 4,
     "metadata": {},
     "output_type": "execute_result"
    }
   ],
   "source": [
    "Δtdyn = 0.05\n",
    "Δtobs = 0.1"
   ]
  },
  {
   "cell_type": "markdown",
   "metadata": {},
   "source": [
    "Define the additive inflation for the dynamical and observation models"
   ]
  },
  {
   "cell_type": "markdown",
   "metadata": {},
   "source": [
    "Define the time span of interest"
   ]
  },
  {
   "cell_type": "code",
   "execution_count": 5,
   "metadata": {},
   "outputs": [
    {
     "data": {
      "text/plain": [
       "1000"
      ]
     },
     "execution_count": 5,
     "metadata": {},
     "output_type": "execute_result"
    }
   ],
   "source": [
    "t0 = 0.0\n",
    "tf = 100.0\n",
    "Tf = ceil(Int64, tf/Δtobs)"
   ]
  },
  {
   "cell_type": "markdown",
   "metadata": {},
   "source": [
    " Define the distribution for the initial condition $\\pi_{\\mathsf{X}_0}$"
   ]
  },
  {
   "cell_type": "code",
   "execution_count": 6,
   "metadata": {},
   "outputs": [
    {
     "data": {
      "text/plain": [
       "FullNormal(\n",
       "dim: 3\n",
       "μ: [0.0, 0.0, 0.0]\n",
       "Σ: [1.0 0.0 0.0; 0.0 1.0 0.0; 0.0 0.0 1.0]\n",
       ")\n"
      ]
     },
     "execution_count": 6,
     "metadata": {},
     "output_type": "execute_result"
    }
   ],
   "source": [
    "π0 = MvNormal(zeros(Nx), Matrix(1.0*I, Nx, Nx))"
   ]
  },
  {
   "cell_type": "markdown",
   "metadata": {},
   "source": [
    "We construct the state-space representation `F` of the system composed of the deterministic part of the dynamical and observation models. \n",
    "\n",
    "The dynamical model is provided by the right hand side of the ODE to solve. For a system of ODEs, we will prefer an in-place syntax `f(du, u, p, t)`, where `p` are parameters of the model.\n",
    "We rely on `OrdinaryDiffEq` to integrate the dynamical system with the Tsitouras 5/4 Runge-Kutta method adaptive time marching. \n",
    "\n",
    "We assume that the state is fully observable, i.e. $h(x, t) = x$."
   ]
  },
  {
   "cell_type": "code",
   "execution_count": 7,
   "metadata": {},
   "outputs": [
    {
     "data": {
      "text/plain": [
       "StateSpace(AdaptiveTransportMap.lorenz63!, h)"
      ]
     },
     "execution_count": 7,
     "metadata": {},
     "output_type": "execute_result"
    }
   ],
   "source": [
    "h(x, t) = x\n",
    "F = StateSpace(lorenz63!, h)"
   ]
  },
  {
   "cell_type": "code",
   "execution_count": 8,
   "metadata": {},
   "outputs": [
    {
     "data": {
      "text/plain": [
       "AdditiveInflation(3, [0.0, 0.0, 0.0], [1.0 0.0 0.0; 0.0 1.0 0.0; 0.0 0.0 1.0], [1.0 0.0 0.0; 0.0 1.0 0.0; 0.0 0.0 1.0])"
      ]
     },
     "execution_count": 8,
     "metadata": {},
     "output_type": "execute_result"
    }
   ],
   "source": [
    "σx = 1e-2\n",
    "σy = 1.0\n",
    "\n",
    "ϵx = AdditiveInflation(Nx, zeros(Nx), σx)\n",
    "ϵy = AdditiveInflation(Ny, zeros(Ny), σy)"
   ]
  },
  {
   "cell_type": "markdown",
   "metadata": {},
   "source": [
    "To perform the nonlinear ensemble filtering, we first need to estimate the transport map $\\boldsymbol{S}^{\\boldsymbol{\\mathcal{X}}}$.\n",
    "\n",
    "In this notebook, we are going to assume that the basis of features does not change over time, but solely the coefficients $c_{\\boldsymbol{\\alpha}}$ of the expansion. \n",
    "\n",
    "\n",
    "To estimate the map, we generate joint samples $(\\boldsymbol{y}^i, \\boldsymbol{x}^i), \\; i = 1, \\ldots, N_e$ where $\\boldsymbol{x}^i$ o generate i.i.d. samples from the system’s invariant (long-time) distribution, we sampleninitialconditions from a multivariate standard Gaussian distribution.  For each sample, we run the ODEin equation(SM.25)forT=  40,000steps using the Runge-Kutta method with a time-step of∆t= 0.01. The samples of the state at the final time are then i.i.d. samples from the push-forwarddistribution of the standard Gaussian through the nonlinear forward dynamics forTsteps"
   ]
  },
  {
   "cell_type": "code",
   "execution_count": 77,
   "metadata": {},
   "outputs": [
    {
     "data": {
      "text/plain": [
       "\u001b[36mODEProblem\u001b[0m with uType \u001b[36mArray{Float64,1}\u001b[0m and tType \u001b[36mFloat64\u001b[0m. In-place: \u001b[36mtrue\u001b[0m\n",
       "timespan: (0.0, 100.0)\n",
       "u0: [0.0, 0.0, 0.0]"
      ]
     },
     "execution_count": 77,
     "metadata": {},
     "output_type": "execute_result"
    }
   ],
   "source": [
    "# Number of runs\n",
    "Ne = 500\n",
    "\n",
    "# Time span\n",
    "tspan = (0.0, 100.0)\n",
    "prob = ODEProblem(lorenz63!, zeros(Nx), tspan)"
   ]
  },
  {
   "cell_type": "markdown",
   "metadata": {},
   "source": [
    "Create cache to store the different final solutions"
   ]
  },
  {
   "cell_type": "code",
   "execution_count": 96,
   "metadata": {},
   "outputs": [],
   "source": [
    "X = zeros(Ny + Nx, Ne);"
   ]
  },
  {
   "cell_type": "markdown",
   "metadata": {},
   "source": [
    "Solve Lorenz-96 model for the different initial conditions and store the solutions as the columns of `X`, and compute the associated observation vector."
   ]
  },
  {
   "cell_type": "code",
   "execution_count": 97,
   "metadata": {},
   "outputs": [],
   "source": [
    "@inbounds for i=1:Ne\n",
    "    prob = remake(prob; u0 = rand(π0))\n",
    "    sol = solve(prob, Tsit5(), dt = 0.01, adaptive = false, dense = false, saveat = tspan[end], save_start = false)\n",
    "    # Store the state\n",
    "    X[Ny+1:Ny+Nx,i] .= deepcopy(sol.u[1])\n",
    "end\n",
    "# Apply the process noise\n",
    "ϵx(X, Ny+1, Ny+Nx)\n",
    "# Generate the observations\n",
    "observe(h, X, tf, Ny, Nx)\n",
    "# Apply the observation noise\n",
    "ϵy(X, 1, Ny)"
   ]
  },
  {
   "cell_type": "code",
   "execution_count": 98,
   "metadata": {},
   "outputs": [
    {
     "data": {
      "text/plain": [
       "HermiteMap(30, 6, LinearTransform(6, [0.004140528765906998, -0.41790176419250796, 24.14932365820558, -0.5019477016583886, -0.9282383894978837, 23.624384361873847], [7.696246956189069 0.0 … 0.0 0.0; 0.0 8.62957523704247 … 0.0 0.0; … ; 0.0 0.0 … 8.625797947820805 0.0; 0.0 0.0 … 0.0 8.374779262487294], true), MapComponent[Map component of dimension 1 with Nψ 1 active features\n",
       ", Map component of dimension 2 with Nψ 1 active features\n",
       ", Map component of dimension 3 with Nψ 1 active features\n",
       ", Map component of dimension 4 with Nψ 1 active features\n",
       ", Map component of dimension 5 with Nψ 1 active features\n",
       ", Map component of dimension 6 with Nψ 1 active features\n",
       "])"
      ]
     },
     "execution_count": 98,
     "metadata": {},
     "output_type": "execute_result"
    }
   ],
   "source": [
    "m = 30\n",
    "S = HermiteMap(m, X; diag = true)"
   ]
  },
  {
   "cell_type": "code",
   "execution_count": 99,
   "metadata": {},
   "outputs": [
    {
     "name": "stderr",
     "output_type": "stream",
     "text": [
      "\u001b[32mProgress: 100%|█████████████████████████████████████████| Time: 0:00:30\u001b[39m\n"
     ]
    },
    {
     "name": "stdout",
     "output_type": "stream",
     "text": [
      " 30.385088 seconds (23.88 M allocations: 47.635 GiB, 10.27% gc time)\n"
     ]
    },
    {
     "data": {
      "text/plain": [
       "HermiteMap(30, 6, LinearTransform(6, [0.004140528765906998, -0.41790176419250796, 24.14932365820558, -0.5019477016583886, -0.9282383894978837, 23.624384361873847], [7.696246956189069 0.0 … 0.0 0.0; 0.0 8.62957523704247 … 0.0 0.0; … ; 0.0 0.0 … 8.625797947820805 0.0; 0.0 0.0 … 0.0 8.374779262487294], true), MapComponent[Map component of dimension 1 with Nψ 18 active features\n",
       ", Map component of dimension 2 with Nψ 19 active features\n",
       ", Map component of dimension 3 with Nψ 19 active features\n",
       ", Map component of dimension 4 with Nψ 18 active features\n",
       ", Map component of dimension 5 with Nψ 19 active features\n",
       ", Map component of dimension 6 with Nψ 19 active features\n",
       "])"
      ]
     },
     "execution_count": 99,
     "metadata": {},
     "output_type": "execute_result"
    }
   ],
   "source": [
    "@time optimize(S, X, \"kfolds\"; withqr = true, verbose = false, hessprecond = false)"
   ]
  },
  {
   "cell_type": "code",
   "execution_count": 100,
   "metadata": {},
   "outputs": [
    {
     "data": {
      "image/png": "[encoded data removed]"
     },
     "execution_count": 100,
     "metadata": {},
     "output_type": "execute_result"
    }
   ],
   "source": [
    "plot(S)"
   ]
  },
  {
   "cell_type": "code",
   "execution_count": 101,
   "metadata": {},
   "outputs": [
    {
     "data": {
      "text/plain": [
       "6×6 Array{Float64,2}:\n",
       " 2.12384e10  4.83877e7   1.10294e5   1.69948e10  0.0         0.0\n",
       " 4.83877e7   2.491e10    2.36651e6   3.85832e5   2.36706e10  0.0\n",
       " 1.10294e5   2.36651e6   1.94903e10  2.79324e5   4.41906e5   1.88305e10\n",
       " 1.69948e10  3.85832e5   2.79324e5   1.70338e10  7.09918e5   1.31554e5\n",
       " 0.0         2.36706e10  4.41906e5   7.09918e5   2.43177e10  5.77135e5\n",
       " 0.0         0.0         1.88305e10  1.31554e5   5.77135e5   1.93091e10"
      ]
     },
     "execution_count": 101,
     "metadata": {},
     "output_type": "execute_result"
    }
   ],
   "source": [
    "Ωhat = zeros(Ny + Nx, Ny + Nx)\n",
    "cache = zeros(1, Ny + Nx, Ny + Nx)\n",
    "for i=1:Ne\n",
    "    hess_x_log_pdf!(cache, S, X[:,i:i])\n",
    "    Ωhat .+= copy(cache[1,:,:]).^2\n",
    "end\n",
    "rmul!(Ωhat, 1/Ne)"
   ]
  },
  {
   "cell_type": "code",
   "execution_count": 102,
   "metadata": {},
   "outputs": [
    {
     "data": {
      "image/png": "[encoded data removed]"
     },
     "execution_count": 102,
     "metadata": {},
     "output_type": "execute_result"
    }
   ],
   "source": [
    "plt = plot()\n",
    "\n",
    "heatmap!(plt,log10.(Ωhat), ratio = 1, yflip = true, \n",
    "        colorbar = true, color = :plasma, clim = (1.5, Inf), colorbar_title = L\"\\log_{10}(\\hat{\\Omega})\",\n",
    "        xlabel = \"Index\", ylabel = \"Index\", background_color_inside = palette(:plasma)[1], \n",
    "        yticks = (reverse(collect(0:10:Nx))))\n",
    "plt"
   ]
  },
  {
   "cell_type": "code",
   "execution_count": 103,
   "metadata": {},
   "outputs": [
    {
     "data": {
      "text/plain": [
       "Stochastic Map Filter with filtered = false\n"
      ]
     },
     "execution_count": 103,
     "metadata": {},
     "output_type": "execute_result"
    }
   ],
   "source": [
    "smf = StochMapFilter(x->x, ϵy, deepcopy(S), Ny, Nx, Δtdyn, Δtobs, 2*Δtobs, false)"
   ]
  },
  {
   "cell_type": "code",
   "execution_count": 104,
   "metadata": {},
   "outputs": [],
   "source": [
    "model = Model(Nx, Ny, Δtdyn, Δtobs, ϵx, ϵy, π0, 0, 0, 0, F);"
   ]
  },
  {
   "cell_type": "markdown",
   "metadata": {},
   "source": [
    "Set initial condition of the true system"
   ]
  },
  {
   "cell_type": "code",
   "execution_count": 105,
   "metadata": {},
   "outputs": [],
   "source": [
    "x0 = rand(model.π0);"
   ]
  },
  {
   "cell_type": "code",
   "execution_count": 106,
   "metadata": {},
   "outputs": [],
   "source": [
    "data = generate_lorenz63(model, x0, Tf);"
   ]
  },
  {
   "cell_type": "markdown",
   "metadata": {},
   "source": [
    "Initialize the ensemble matrix `X` $\\in \\mathbb{R}^{(N_y + N_x) \\times N_e}$."
   ]
  },
  {
   "cell_type": "code",
   "execution_count": 112,
   "metadata": {},
   "outputs": [
    {
     "data": {
      "text/plain": [
       "3×300 view(::Array{Float64,2}, 4:6, :) with eltype Float64:\n",
       "  0.450853  -1.15917    1.9514    …   0.353231   -0.0516761  -1.49287\n",
       "  0.256934  -0.792302  -0.177907     -0.0127671   0.132153   -0.992929\n",
       " -1.11143   -0.781188  -0.492358     -2.09601     0.667204   -1.94246"
      ]
     },
     "execution_count": 112,
     "metadata": {},
     "output_type": "execute_result"
    }
   ],
   "source": [
    "Ne = 300 #ensemble size\n",
    "X = zeros(model.Ny + model.Nx, Ne)\n",
    "\n",
    "# Generate the initial conditions for the state.\n",
    "viewstate(X, model.Ny, model.Nx) .= rand(model.π0, Ne)"
   ]
  },
  {
   "cell_type": "code",
   "execution_count": null,
   "metadata": {},
   "outputs": [],
   "source": []
  },
  {
   "cell_type": "code",
   "execution_count": 113,
   "metadata": {
    "scrolled": true
   },
   "outputs": [
    {
     "name": "stdout",
     "output_type": "stream",
     "text": [
      "t = 0.1\n",
      "getcoeff(M[6]) = [22.906865689731593, -19.377717740394523, 10.573024727789972, -9.986484533334767, 3.789827849345462, -5.217265100003962, -14.799818180191068, 11.06966570625046, 5.104130804711312, -9.019431424029612, 8.458281825773383, -4.806407518503932, -6.787279698165868, 0.5787759515689187, -5.161107934580359, 7.957617637274662, 3.275835920925548, -1.6247206443015998, 0.5633631184716991]\n",
      "t = 0.2\n",
      "getcoeff(M[6]) = [17.85023078671892, -11.000248348440945, 5.1987108032508935, -10.629238604398909, 1.7875722195231427, -5.687282299529215, -12.604635247248655, 11.85103933908719, 0.3937244075759413, -8.110224791605425, 10.264114923199173, -0.3859148017272309, -5.712876954409625, 0.2707366875331302, -5.667536310421616, 8.180916001757126, 6.303170658169496, -2.3939506752611965, 2.4915031788578834]\n"
     ]
    },
    {
     "name": "stderr",
     "output_type": "stream",
     "text": [
      "\u001b[32mProgress: 100%|█████████████████████████████████████████| Time: 0:00:02\u001b[39m\n"
     ]
    },
    {
     "name": "stdout",
     "output_type": "stream",
     "text": [
      "t = 0.30000000000000004\n",
      "getcoeff(M[6]) = [11.266448824556152, 1.7164665570652637, 5.493215062828817, 3.492243552104856, -11.534891827906172, 0.40325664305245545, -10.578332655904953, -0.9692287045962255, -14.641361586766186, 1.6375096614555713, 4.498063811610749, -3.2666620550642813, -14.66832552870519, -2.0007712886552236, -6.24453941249212, -0.21700402237023336, 2.3343918353338977, -0.2464175487336985]\n",
      "t = 0.4\n",
      "getcoeff(M[6]) = [-12.021032884579379, 2.5879410077941563, -6.956304912161971, 1.404471658379549, 12.132333272675098, 2.4410590391182008, 7.50348577573972, 2.976039830233105, 4.343685759901692, -2.302041053411168, 0.549313380743777, 2.5024609093542183, 1.4612213537601701, 0.7007610900604446, 0.24583252057363303, -0.31533330637169915, -0.2329174466353028, -0.10016006147422259]\n"
     ]
    },
    {
     "name": "stderr",
     "output_type": "stream",
     "text": [
      "\u001b[32mProgress: 100%|█████████████████████████████████████████| Time: 0:00:02\u001b[39m\n"
     ]
    },
    {
     "name": "stdout",
     "output_type": "stream",
     "text": [
      "t = 0.5\n",
      "getcoeff(M[6]) = [1.4812111545232898, -20.57274116122881, -1.2913346076302197, 6.047350903729115, -0.337767226969654, 2.127036820875832, -4.906151978010623, 4.602846602378159, 0.40760652593624125, 1.6580088144440814, 0.41541177913674, -4.173677299682894, 36.26542490030028, -0.19414544215102456, 2.7953778637267717, 13.848169504097127, -1.8079957931143913, -0.4305622856066912, 0.8803636490258625]\n"
     ]
    },
    {
     "name": "stderr",
     "output_type": "stream",
     "text": [
      "\u001b[32mProgress: 100%|█████████████████████████████████████████| Time: 0:00:00\u001b[39m\n"
     ]
    },
    {
     "name": "stdout",
     "output_type": "stream",
     "text": [
      "t = 0.6000000000000001\n",
      "getcoeff(M[6]) = [-35.463927338316736, -9.50059874176015, -11.805736500765521, -1.4874680158739193, 1.1528544680000143, 1.7743306672364583, 6.862852603328631, 4.759929812548403, 2.1512600596491107, 1.6652046925407153, 2.281774371535699, 5.770252318162928, 9.67558338671935, 0.22386177695056067, 17.2752240539691, 8.721888247810433, 2.6145679834708178, 0.14284458484006124, 8.413548082746063]\n"
     ]
    },
    {
     "name": "stderr",
     "output_type": "stream",
     "text": [
      "\u001b[32mProgress: 100%|█████████████████████████████████████████| Time: 0:00:00\u001b[39m\n"
     ]
    },
    {
     "name": "stdout",
     "output_type": "stream",
     "text": [
      "t = 0.7000000000000001\n",
      "getcoeff(M[6]) = [36.83276159205395, -24.951402390235423, 19.16806103593491, -13.51548058999118, 12.317189233360166, -8.382196278455845, -2.2999871675807455, 0.2850141031090243, -0.6673083064168583, -0.13501825269556278, -0.7396320810557167, -6.298258634467871, 17.461501486017063, 0.3504164233661924, -28.808657059272594, 7.627907065985614, 0.030494024287174293, -0.29947724884946014, -12.42370599360083]\n"
     ]
    },
    {
     "name": "stderr",
     "output_type": "stream",
     "text": [
      "\u001b[32mProgress: 100%|█████████████████████████████████████████| Time: 0:00:00\u001b[39m\n"
     ]
    },
    {
     "name": "stdout",
     "output_type": "stream",
     "text": [
      "t = 0.8\n",
      "getcoeff(M[6]) = [4.565433754241828, 2.3294224479770222, -1.8633564627089911, -2.401907068813655, -2.8168366845668156, -2.015384250214061, 0.46498936314223244, -8.381394538274686, -2.2467048192599233, -3.1381345824189397, -2.0508705575482478, 0.7932128865144152, -8.076394028860504, -0.7333633198845051, 1.4108620580107984, 6.903021746153281, 0.4359847200774525, -0.6869085780471993, 0.6019815130458351]\n"
     ]
    },
    {
     "name": "stderr",
     "output_type": "stream",
     "text": [
      "\u001b[32mProgress: 100%|█████████████████████████████████████████| Time: 0:00:02\u001b[39m\n"
     ]
    },
    {
     "name": "stdout",
     "output_type": "stream",
     "text": [
      "t = 0.9\n",
      "getcoeff(M[6]) = [0.10479994620853317, 2.0405092283807296, 2.139577749161759, -11.218773917595936, -6.1992102404451614, 2.112253510249005, 1.3402048390508912, 1.2076840207402293, 10.820803728091597, 9.190205065015583, 5.7866667931292755, 7.773620488345616, -3.967981022146112, -2.562361983118858, 0.6050288957650488, -0.15180562362082362, 1.5687059669549537, 2.1136114479741113, 0.6123826601023]\n",
      "t = 1.0\n",
      "getcoeff(M[6]) = [-6.04324140088469, -4.253811249057945, -3.1948133209383247, 2.596607139912836, -1.9021480871798437, -5.118104218906908, -1.0545580574863993, -2.3343850599312503, 2.4399889880769643, 3.9723476806112488, 2.754664312552088, 3.4434424515340374, 0.8150531876189495, -1.8064214492069208, 0.9398983863741891, -0.3488234493780035, 1.741653963014106, 1.2162823299090404, 0.15398714732793878]\n",
      "t = 1.1\n",
      "getcoeff(M[6]) = [-5.031263233609694, -9.273743995191236, -1.580877567316259, 6.973842266985953, -1.516497258783924, -7.11732744351757, -0.9813977394543284, -2.1794474913818793, -1.8734044367885323, 10.793069325424437, -2.1752785080096397, 9.033929843968599, 2.7178704450770237, -1.2529218057801548, 0.037132827437170585, -0.2973963476728613, -0.35910009488753486, 2.198395932343014, -0.29666914765285596]\n",
      "t = 1.2000000000000002\n",
      "getcoeff(M[6]) = [-5.2320963796296125, -3.819337825806224, -3.0471861441432653, 1.9687495564230155, -3.110444147516775, -0.7000479670049213, -2.1168514318883744, 0.5332013201056524, 2.028247165701819, 4.150553442916064, -1.061136179173905, 1.6192356235877083, 0.3873729780067072, -2.434486343314082, 0.11900853616779376, 0.07081064920786888, 0.016455423651863588, 0.9603237312027166, 0.4261132992758402]\n",
      "t = 1.3\n",
      "getcoeff(M[6]) = [-5.488696077786201, -0.3684472825072094, -3.8516454205555313, 3.236177003775338, -3.0830564253877424, -0.16757691441287548, -1.4064019802651977, 0.8471006629853627, 0.7598738092629297, 1.7112908877823718, -0.15646364069165927, 0.2530616190022513, 1.0837694913994076, -2.6982077265901645, 0.26640316994236635, 0.11414413853683322, 0.3870733232747189, -0.12493278469177431, 0.1518793477917241]\n",
      "t = 1.4000000000000001\n",
      "getcoeff(M[6]) = [-0.06189814366198887, -3.1247147009742804, -0.5611500355307337, 1.0875727999896256, -2.5521586254373463, -4.332259491191874, -0.7553093023065656, -2.554067356765598, -1.4487203930610404, 3.340753730936918, -0.48022254033510314, 3.003145462492901, 0.2160193479114554, -2.2476506458014147, 0.10224629434009845, 0.12707061456082813, -0.40664337651366333, 0.3648877327560498, 0.33357926575696656]\n",
      "t = 1.5\n",
      "getcoeff(M[6]) = [-7.298139483710753, -4.4423647867476035, -3.503454662783393, 2.0900378402480158, -2.361894448622723, -2.316667828175072, -0.8843679438419885, -0.6098963035340008, 6.997041703603847, 6.286078517957727, 5.601325116304301, 5.884369711476364, 0.5423130295967766, -2.7309631581625475, -0.9939417517107211, 0.019486013833195783, 2.500007152625216, 2.377794072681573, -0.05101545981844224]\n",
      "t = 1.6\n",
      "getcoeff(M[6]) = [5.615563243019474, -3.6475268416048863, 2.7729721050876845, -2.932117480213823, -1.2061743543568089, -2.6884821966010506, 0.7279910018599881, -1.1285288460629312, -1.756922644195314, 3.6880011647440707, 0.14859405215788768, 3.548534042810426, -0.7336753088896487, -0.9604134336681558, 0.309943783890371, -0.0019750218921844396, 0.777889900950205, 1.2662679267635277, -0.8761527599058645]\n"
     ]
    },
    {
     "name": "stderr",
     "output_type": "stream",
     "text": [
      "\u001b[32mProgress: 100%|█████████████████████████████████████████| Time: 0:00:02\u001b[39m\n"
     ]
    },
    {
     "name": "stdout",
     "output_type": "stream",
     "text": [
      "t = 1.7000000000000002\n",
      "getcoeff(M[6]) = [16.240779734894538, 2.753274737696811, 11.127393193894278, 5.404941785584658, 4.454684914563776, 2.208678055259212, -4.904501157643727, -0.5711720428478302, -9.510699325816615, 0.23577656212377193, -3.37619342551989, 0.5058630987082465, -1.0511347354982659, 0.508218464725001, 0.6407263832415041, -0.24312841739799934, -0.6663669614003553, 0.4652505753543059, -1.636739117103299]\n",
      "t = 1.8\n",
      "getcoeff(M[6]) = [15.81106741790238, 1.7081342732414893, 9.707773419502708, -0.20920059484824952, 2.5053054079141126, -0.10967308154310834, -2.2423424765492186, -0.5698653184319518, -0.7875799008872055, -0.4802464265480154, -0.2624637785951831, -0.2720778956882433, -12.543345774321057, -2.3825058517936477, 0.6366551813603458, -0.2122727261428163, -5.215718873384914, -2.807802859688789, -0.614468152187268]\n",
      "t = 1.9000000000000001\n",
      "getcoeff(M[6]) = [-0.7142979739344772, 1.9427317760694047, -3.0567942037186806, 2.738588534230587, -0.30187646579803873, 1.2742731175995052, 3.898170442304327, -0.43905952677339155, -5.652466250338492, -0.5220782532342831, -1.3156611056127263, -0.7618457972992689, 1.1555829764759502, 1.27874160101931, 0.3047948439851758, -0.40304497923446986, 1.626320084256587, 1.2835853029505757, 1.0075923951507173]\n",
      "t = 2.0\n",
      "getcoeff(M[6]) = [-3.5345400446101856, 1.701539467989952, -2.861133559608998, 2.7906821968200544, -1.7243535997754103, 1.570496942653911, -0.05892261063085524, 0.08006447053612142, -1.1092982920802663, 0.13714888012875168, -0.6595192135854689, -0.11446361770711853, 4.933538275232603, 1.8072500524160449, -0.4473579801370314, -0.23671817153300206, 1.6170976122820941, 1.6760216294378554, 0.10445596427045141]\n",
      "t = 2.1\n",
      "getcoeff(M[6]) = [11.614074481413972, 6.870458115497593, 3.5489614216283956, 3.691684184391599, 7.259091902542911, 1.5540128263895812, 1.6916144964320252, -0.21513501939204532, -5.651520225174148, -0.41734391222814243, -2.1229829978045784, -0.5698815278839584, -10.839764192070676, -8.79408403923207, 0.2428595912455198, -0.3753298077510753, -4.683896239951571, -5.320193582468991, 0.395026827639693]\n",
      "t = 2.2\n",
      "getcoeff(M[6]) = [2.017229150050245, 1.2731774203876087, 2.5588875578260293, -1.185963012316763, 1.224449612846002, -1.157770527034059, 2.6232370652547568, -0.48799315148013267, -5.599150665919407, 0.6650311993976227, -2.164137674059866, 0.6849071621671671, 0.3811662473152762, 6.8706844849444, 0.4952139884539414, -0.08809050136122941, -0.7133077430912484, 5.439707053926901, 1.1787720198290779]\n",
      "t = 2.3000000000000003\n",
      "getcoeff(M[6]) = [4.5010286811045015, 1.142976764475269, 2.1264508455757762, -0.8149810010895692, 0.7966774084948338, -0.485171205092081, -2.694386926847412, -0.39775181577929664, 0.6362900987483977, 0.14996207813714763, -0.11883457321401159, 0.027202708834662425, -2.3150988713744622, 2.8910781830481227, 0.3148026917684017, 0.0780012548320991, -0.016313121940366635, 1.1616686935840324, -0.9808079075327486]\n",
      "t = 2.4000000000000004\n",
      "getcoeff(M[6]) = [-12.260315913273951, 5.414236537226498, -9.50962617771983, 2.1130138382697243, -5.147433275209136, -1.8594795320542254, 6.617946758644324, -0.37474032739192553, -0.31396926671224884, 0.4025890136921981, 0.10957393139268629, 0.45633487296773834, 5.390890695922173, -4.815999529883863, -0.6004869001150942, -0.17562002592972156, 1.3336157452486612, -1.5407719693051831, 2.1438608738963714]\n",
      "t = 2.5\n",
      "getcoeff(M[6]) = [4.223851373308204, 4.52854268568892, -1.9367587512228386, 4.385902687877493, -0.9370028116715431, 1.3351142922161137, 9.564661769082193, -0.8576995348625105, -0.3521483225946769, 0.11476846454364116, -0.03674293246292515, 0.1338821621702711, -14.722584247196037, 1.8091434187986577, -0.1636025710699821, -0.27987285653707644, -4.6065703268328075, 2.043736433383226, 3.4220197588751824]\n",
      "t = 2.6\n",
      "getcoeff(M[6]) = [10.798738377435152, 7.812382666682376, 5.316039990030252, 6.532379124960273, 1.835400177858774, 2.418045387087795, -3.674216541563382, -0.2520670851792558, 6.890522031412321, 0.8197548138781624, 2.3738025796582467, 1.3171744291012235, -11.819615378836309, 5.4635468936132785, -1.2132692093607045, -0.1324864204494856, -2.1884705891074554, 1.740326928255042, -0.9923807795666004]\n",
      "t = 2.7\n",
      "getcoeff(M[6]) = [-3.494452544414365, 9.384193708932367, -0.5811012074245075, 3.4771672363248562, 0.021692527367104954, 0.5297591017172074, -15.747925772264459, -0.5465069427800713, 7.901202241649148, -0.973186687103403, 2.6077575274501417, -1.442252797385915, 10.59962935315921, -8.352299611553702, 0.6020508779837113, -0.4893810682459296, 2.8139420446896386, -3.414117139804554, -5.960852546187967]\n",
      "t = 2.8000000000000003\n",
      "getcoeff(M[6]) = [18.12634694155926, 12.980288629757096, 5.44673539308132, 6.8642221943139825, 1.302424067268132, 1.6742856646855875, 7.882168989971973, -0.33036446185139035, -0.9942142384481322, 0.14300065521703448, -0.0500827634215433, 0.10351944163602655, -25.16374972477403, 9.486154262315182, 0.561697252542304, -0.14644751927816613, -8.458181672421947, 0.7381975543989022, 2.8141967674121267]\n",
      "t = 2.9000000000000004\n",
      "getcoeff(M[6]) = [21.109474518551103, 28.3729043096305, 35.74440134919076, 30.26773130767867, 18.27522026850092, 9.271637230392363, -10.058257637229818, -1.3143299032977955, -4.026752946562892, -0.5451816005042305, -1.487255726490246, -0.2276420180122271, 2.3136177351907627, 7.536771051460672, 0.20524049950667572, -0.15244161421248423, -1.6828139744657624, 1.988114247209725, -3.198367421750209]\n",
      "t = 3.0\n",
      "getcoeff(M[6]) = [11.25384731188384, 8.279807315385126, 9.868387444808686, 5.131542734462352, 5.034573028902512, 0.7118681729744911, -0.9510065657731033, -0.24259305740183196, -3.026680117381969, 0.26650994371688086, -1.1700261983221407, 0.38988066632038715, -8.162849235444462, 7.231601016938776, 0.16510571595484505, -0.32382979637550663, -8.043667418409377, 3.1301146793663106, 0.13293437913987521]\n",
      "t = 3.1\n",
      "getcoeff(M[6]) = [-6.90450954277763, 7.786953097798653, -5.37636074609663, 3.713640629363033, -0.9980163738958296, 0.3542758939815167, 17.230865901190477, -0.24969382683499874, -8.551657950238527, 0.08310781198175199, -3.399602628555497, -0.09618630528492281, -2.7028299901551707, -6.435299670081839, 0.045906893952905814, 0.2502606104550005, 0.04470482606773429, -3.064233216725608, 6.359725865282007]\n",
      "t = 3.2\n",
      "getcoeff(M[6]) = [-23.496901312940295, 6.479801289483191, -11.68407938853637, 3.697170473445563, -3.872783790828604, 0.6405574588196826, 0.4708321304044139, -1.6871729030415221, 3.3507339905890916, -0.10248690847844902, 1.1316199869631696, 0.08357103569722941, 18.097343030812894, -1.623864170562653, 0.024821210463853535, -0.08833494516214997, 4.614586911933266, 1.1295332715458082, 0.1318208098610251]\n"
     ]
    },
    {
     "name": "stderr",
     "output_type": "stream",
     "text": [
      "\u001b[32mProgress: 100%|█████████████████████████████████████████| Time: 0:00:02\u001b[39m\n"
     ]
    },
    {
     "name": "stdout",
     "output_type": "stream",
     "text": [
      "t = 3.3000000000000003\n",
      "getcoeff(M[6]) = [-6.085900633339495, 4.080932378975479, -4.5314921976379745, -6.651111340251221, 0.3931226950206943, 15.688898938822392, -4.356015553839515, 10.380928274573629, -5.025293516846164, 7.041750819063172, 2.224872185923541, -3.6837171803065196, 0.6489313218799471, -1.5627542332708342, 2.081082311512999, -1.3484115947775916, -3.956068684651415, 0.8401606230353779, -1.4772026383680372]\n",
      "t = 3.4000000000000004\n",
      "getcoeff(M[6]) = [-1.7952107146621756, 1.3554786403100758, -0.7549462391861967, -2.6624092439004543, 0.1293686804564897, 7.127284906960041, -4.137949644751515, 7.739264419055421, -8.062031921630892, 7.088482777070861, 0.7820077119855762, -0.38731024071205405, 0.06493214434037048, -4.15236210633801, 3.1485719640823993, 0.24747229615245994, -1.5294661167570611, 1.1067761511256464, -0.11753842692947533]\n",
      "t = 3.5\n",
      "getcoeff(M[6]) = [-21.18835519886454, 3.919163051935475, -9.166959777082706, -3.8545305696952026, -0.11009430412715424, 8.4992398257696, -4.080834350925178, 10.123349444387783, -6.882776566988569, 9.251890946723272, 0.33449561194465766, -2.368114762811364, 0.11410772508558761, -3.552164156436617, 3.0036881188787463, -0.8788225395762277, 16.42176412376086, -2.8628878567503424, 4.642618601144317]\n"
     ]
    },
    {
     "name": "stderr",
     "output_type": "stream",
     "text": [
      "\u001b[32mProgress: 100%|█████████████████████████████████████████| Time: 0:00:00\u001b[39m\n"
     ]
    },
    {
     "name": "stdout",
     "output_type": "stream",
     "text": [
      "t = 3.6\n",
      "getcoeff(M[6]) = [10.961568288334483, 4.608501878853842, 2.5649160201387384, 1.3971940185094347, -0.3954017243731065, 8.84809973486096, -1.9901458060212531, 4.672924326843006, -1.5617457287523717, 2.422698741957526, 2.5586856864751786, 1.2460405061085247, 0.0008791667248767565, 0.3430571448412561, 1.3136152612344814, 0.13322829224162325, -22.89583614456241, 0.5943241365996197, -9.358645197877797]\n",
      "t = 3.7\n",
      "getcoeff(M[6]) = [6.888864014406584, 7.16110175626948, 2.508261580866249, 8.860465565459986, -0.850568388627718, -0.6535050317555609, -2.045480885412453, -1.0251196497735542, -2.3712982582437783, -0.7111834908697166, 2.8979246935431413, 4.457003590356256, -1.0151589542912796, -0.35599428931672006, 0.052372175931808096, 1.338793242300031, -14.79575092808284, -4.660899153516263, -5.160846716437222]\n",
      "t = 3.8000000000000003\n",
      "getcoeff(M[6]) = [-3.3679745765970592, 6.088977554581177, -3.62414731561908, -14.55734009655886, 0.00526800883508477, 4.934767814525912, -2.750087481477597, 4.482116911040338, -3.6433710076877546, 2.8438403215155974, 2.727633271056463, -8.528877963192615, -0.45104604108325913, -1.1856188195343138, 0.09419362544175236, -3.0071659748039634, 11.527535647272789, -1.6012373358291003, 3.9248051226652594]\n",
      "t = 3.9000000000000004\n",
      "getcoeff(M[6]) = [5.5841118327380705, 2.9104687026812006, 1.3912158547612312, -6.11045761087312, 0.5712447898639071, 3.973140329484667, -3.049600696419954, 3.4219685129218123, -4.455007695769976, 4.09133424986935, 1.9066600273801522, -4.748784376982952, 0.683577561746622, -1.998456495955941, 2.2962741098604798, -2.474151512723504, -3.1278894185929307, 0.692589921176834, 0.8850623541346049]\n",
      "t = 4.0\n",
      "getcoeff(M[6]) = [-1.515533247937234, 2.3926209141848243, -1.3287244814665984, -24.15969954027179, -0.4223441558242724, 26.126227111124372, -3.6142344882420967, 16.458157397717038, -5.879043519105595, 9.603434464381436, 1.7353188280833594, -14.29329200659543, -0.14962412219052051, -2.918867614947605, 2.4337467785154456, -5.330164860057295, -0.8890258292169095, -0.9362901120572299, -1.5259746201115671]\n",
      "t = 4.1000000000000005\n",
      "getcoeff(M[6]) = [-1.5729873382219823, 2.184936175296365, -0.5605284287034799, 4.496399290486455, -0.3062459366800387, -3.9587467910920573, -2.7640376328565046, -3.022213960852224, -2.4350067154595916, -2.363507102448055, 2.4283631260202583, 2.244624863754377, -0.4808411699426041, 0.3631039699486259, -0.8924548895407375, 0.2871490116424062, 0.961373600095492, -0.46247029224562664, 0.6765708399798572]\n",
      "t = 4.2\n",
      "getcoeff(M[6]) = [-0.21254215451204642, 1.754282334079753, 0.23575005459104825, -12.855206500143025, -0.014833978260157568, 9.92340345516015, -2.9718961771795986, 7.35088359917755, -3.527171378176104, 5.294520303798696, 0.7378391515620843, -7.438281102805748, 0.0149623430762796, -0.6498542793056522, 1.88816140789008, -2.775594051717175, 3.4879812063602773, -1.1934190089909258, 1.4799151705628883]\n",
      "t = 4.3\n",
      "getcoeff(M[6]) = [2.3460960173385343, 1.7676983449143364, 1.205855111706124, -21.363962320917512, -0.33382690334156306, 17.49584716829, -3.5523961030300195, 9.865105433400936, -5.282281194689099, 4.644524199582009, 0.7248945902659744, -11.964176209236445, -0.20038820480290584, -2.4035881265202725, 1.0792631759133884, -4.4884632993524, 1.690314238886119, -1.1182036242077757, 1.2330835467627268]\n",
      "t = 4.4\n",
      "getcoeff(M[6]) = [2.344307658186758, 1.788126187604147, -0.1759215241490213, -3.4735385357590918, -0.3729080856361155, 7.721692789580775, -2.775718691391771, 3.90881785820806, -3.675907104204661, 1.1060820460175038, 0.2959105284654515, -2.325810037996958, -0.37382409986455833, -1.1904457336101602, -0.2140415796962142, -1.0330728895260095, -6.830393109173304, -0.2477007764754557, -1.4623358885973492]\n",
      "t = 4.5\n",
      "getcoeff(M[6]) = [-1.578043104124487, 8.475551722364138, -0.857343250211073, 39.951839720464235, 0.06421837802979463, -18.710792940496162, -4.8930043249186, -8.316568866224747, -9.125164290312071, -0.4005464133234784, 5.036028264354315, 21.219647701092136, -0.7224216544475719, -5.714492982210437, 1.478915137516395, 6.808484479621914, -18.378090982308414, -4.6109546109457415, -9.364542106277762]\n",
      "t = 4.6000000000000005\n",
      "getcoeff(M[6]) = [-0.5415151347362321, 3.8839760219485253, 0.6773338580323751, 5.821965254733412, 0.7240860350144919, -5.315806301954604, -4.137138639779175, -3.632384872103775, -4.624103170309, -2.152059656321036, 1.8211063075831921, 3.2917261267545768, 0.6697634126359444, -1.936596082346656, -0.8536839322065977, 1.3131240456373348, 0.2343849434484313, 1.6902876493531929, -0.6411887921424073]\n",
      "t = 4.7\n",
      "getcoeff(M[6]) = [-1.724049500387114, 2.655470356817472, -2.3391470664608915, -5.967685005399606, -0.07684825934718412, 5.789182541716241, -4.918971501685731, 2.9206578927538445, -6.57061881740988, 0.5549780273725995, -0.6331426102202053, -4.440115951412065, -0.08799855248224467, -2.265651410431702, -0.7034863081995724, -2.2704585773255133, 1.365465998421715, 0.7763339740696455, 1.3413197879604113]\n",
      "t = 4.800000000000001\n",
      "getcoeff(M[6]) = [10.657762339337005, 4.740414734691851, 3.534548245974106, -16.588313559417823, 0.11834041637056397, 7.131680989624126, -2.9186033739873736, 3.549994079469349, -4.663753774010953, 0.4292950256457365, 2.9673377015406364, -9.0489127650379, 0.1361573974225423, -2.263365480591094, -0.7469169286544356, -3.0785038989097298, -1.2810098856761916, -2.6469648195688413, 0.5609176313936886]\n",
      "t = 4.9\n",
      "getcoeff(M[6]) = [-5.134291505422419, 3.0730441182714605, -1.4648380216426677, -2.221453759958551, -0.0325116099087639, 11.18884963975069, -2.115290448301736, 6.707118503065217, -2.8010534904577176, 2.824921566478416, 2.5842275568885893, -1.6912757021937208, -0.3172408445133784, -0.923327159822734, 0.12876857984545875, -0.7934007271363253, -3.1568703819044623, -2.014791929711766, -1.8072258285783975]\n",
      "t = 5.0\n",
      "getcoeff(M[6]) = [23.310691553823375, 14.038313144736817, 8.729361815033439, -0.14484766526929782, -1.6502265546927184, 1.3532688215029722, -2.474247979888891, 1.3357051274663885, -2.222089199081529, 1.1946659921691118, 5.723397348428284, 1.1554534108180698, -1.5527322460257118, -0.7159104706349657, 0.5001594740608495, 0.620759174622302, -23.860366100604416, -9.196837785696916, -9.676723599980546]\n"
     ]
    },
    {
     "name": "stderr",
     "output_type": "stream",
     "text": [
      "\u001b[32mProgress: 100%|█████████████████████████████████████████| Time: 0:00:00\u001b[39m\n"
     ]
    },
    {
     "name": "stdout",
     "output_type": "stream",
     "text": [
      "t = 5.1000000000000005\n",
      "getcoeff(M[6]) = [-2.635115604617946, 3.259383219670261, -0.7726539703696274, 2.169534025925637, 0.06400892422531496, -1.9736579465384076, -4.755803829147008, -1.8884093967630768, -4.451670380827411, -2.1468151924882015, 1.1773959315194076, 0.17322884887640233, 0.060355314396875304, -1.1557106428986714, -0.797579919152261, -0.4372877662773053, 1.991369233726076, 0.8895944188683297, 0.5130631671910988]\n",
      "t = 5.2\n",
      "getcoeff(M[6]) = [0.6109979746617218, 3.215449767544893, -0.0016929158449054422, -2.0384014927486427, 0.42363287221275403, 0.3353357116988644, -2.900860461349117, 6.462709956886907, -4.577061176682111, 10.594785478467323, 0.4250341251616511, -1.6439759943310168, 0.39367206936232035, -1.5785797309529803, 5.834644794807058, -0.5452378785772948, 2.0336836908352445, 2.9492036156676957, 0.9255195700775186]\n",
      "t = 5.300000000000001\n",
      "getcoeff(M[6]) = [-4.8243968837914455, 1.3997876294061604, -6.063055614303279, -11.998225065836042, -0.2817661243384635, 14.393322199422101, -3.4105838955528403, 9.262705994145687, -3.069255418122284, 5.219452750281086, -1.2686303030880262, -6.32956208131516, -0.368876330280778, -0.7413142777077276, 0.9839225085312477, -2.015115358904032, 0.6276047466947885, -1.496162453684212, 0.8956120839575695]\n",
      "t = 5.4\n",
      "getcoeff(M[6]) = [-11.259977313536329, 4.060262300598022, -5.388590966555695, -14.779939797847693, -0.5616539391945269, 12.598267614312668, -3.048937278741215, 10.420068055996367, -5.3414603258688595, 8.760940832969903, 1.7475608583856426, -7.922470680921045, -0.7953350814723035, -2.6858254923429317, 3.7351356527083777, -2.514720340685812, 12.813509122917088, 2.552763079196155, 4.054473296865989]\n",
      "t = 5.5\n",
      "getcoeff(M[6]) = [-10.228595485916005, 2.207341742028803, -3.8101804547192017, -25.029679264560507, 0.7931105320234927, 41.940394958968675, -5.411744122848016, 24.26249756460225, -10.862673552274458, 10.733684911529568, 0.5389602861432157, -14.256826684914703, 0.9049174200743421, -6.73289736100149, 1.8838393727332519, -4.547544729547306, -6.202459445167543, 0.8028180631716699, -3.0022861865107915]\n",
      "t = 5.6000000000000005\n",
      "getcoeff(M[6]) = [-7.391825499976258, 21.23951830192433, -3.6670025160649953, 14.002175705186763, -2.4322961313291556, 0.2967648552550064, -2.9390074778201187, 1.4081122638661165, -4.388394376715633, 2.6597118677846905, 5.352743076020315, 8.198730384590215, -2.5288404677505705, -2.360887304996848, 1.5313167928583502, 3.1254160202986174, -5.60440547430669, -16.6292206038171, -1.5509667033047758]\n"
     ]
    },
    {
     "name": "stderr",
     "output_type": "stream",
     "text": [
      "\u001b[32mProgress: 100%|█████████████████████████████████████████| Time: 0:00:00\u001b[39m\n"
     ]
    },
    {
     "name": "stdout",
     "output_type": "stream",
     "text": [
      "t = 5.7\n",
      "getcoeff(M[6]) = [-14.015622618442134, 9.017571567447671, -4.2104808445376, 1.836602472351366, 0.13518697938135144, -2.3417147055512055, -5.618722590171722, -0.7608571165766809, -5.360488976892056, -1.125013296317668, 4.1999305987357065, 1.4499119929740738, -0.0757071547006126, -1.9837963988627012, -1.6541603916776328, 0.9820395960334811, 13.651263523530766, 3.2773242590133727, 3.0044361451489325]\n",
      "t = 5.800000000000001\n",
      "getcoeff(M[6]) = [0.9072631635692265, 1.9472864826755578, -0.2569026808466893, -2.353711531533257, -0.6601680060127978, -1.509025709308327, -3.815146966013972, -0.17333016724908656, -5.309099386227708, 0.4567385759032456, 0.9207513500423667, -0.6810856757308157, -0.6081442773447763, -2.0307800102104867, 0.27324311016701075, 0.500920793566277, 3.032432411337262, -0.4026983189172326, 1.618807702693217]\n",
      "t = 5.9\n",
      "getcoeff(M[6]) = [4.370833395088064, 2.986902476877143, 2.1498134847771184, 6.499780640599392, 0.7220216216165163, -6.323885029414955, -5.562385495127881, -2.5303849947598858, -9.18044425656969, -0.05689211829439644, 1.299683779825421, 3.4460763808487442, 0.5102099250208708, -4.183803015632918, 0.4069757156454188, 1.0317546382471772, -4.227273159211605, 0.7610923717837574, -1.9167704161444332]\n",
      "t = 6.0\n",
      "getcoeff(M[6]) = [-1.267657563539755, 0.9538287512985529, -0.38155504786805156, 18.613155587550402, 0.15219235687211113, -15.406566650731484, -6.003094627527768, -5.997325820979854, -12.024891118877463, 0.9642224013585441, 0.550209907642136, 10.42787443431943, 0.559658861133526, -6.999445303104953, 1.5855359033779144, 3.886759426172814, -1.2084056870300617, 0.34525968410807073, -0.8109957891415576]\n",
      "t = 6.1000000000000005\n",
      "getcoeff(M[6]) = [10.675131984904517, 3.1557246581946705, 4.158889761661695, 26.238157545182126, -0.8093639754738985, -41.39821669341268, -1.120911243194729, -29.11245745265704, -1.5341287948251014, -19.433384079003496, 0.8251348362934812, 13.188248755832108, -0.6792538656726423, -0.3977540300511274, -6.6971742229129845, 3.7429212580234603, 3.3975139131195764, -2.5252225421199577, 3.028287203923311]\n",
      "t = 6.2\n",
      "getcoeff(M[6]) = [-32.36282806476344, 24.95445399179404, -11.32103969096506, -6.943806505958151, -0.15589329690042886, -35.44752148318942, -7.394155892405777, -14.870796305700134, -13.841742923334623, -1.5106870682904736, 9.207581705894764, -2.242912846136348, -0.8706148514064371, -8.35934217449829, 0.8221494327223482, 0.10959316630125082, 72.8411354472074, -16.808613159217643, 22.089721300896574]\n"
     ]
    },
    {
     "name": "stderr",
     "output_type": "stream",
     "text": [
      "\u001b[32mProgress: 100%|█████████████████████████████████████████| Time: 0:00:00\u001b[39m\n"
     ]
    },
    {
     "name": "stdout",
     "output_type": "stream",
     "text": [
      "t = 6.300000000000001\n",
      "getcoeff(M[6]) = [-3.997413711771021, 13.4807834141093, -1.3813152163957072, 6.22140991619135, 1.1621333677923456, -8.5730850049266, -5.053973969844967, -6.795308275366555, -2.9224001898545366, -6.292217632106094, 5.812708625833964, 3.995539098160839, 1.4621358302172784, 0.6680834155462363, -2.6857215708024214, 1.4775350171181658, 5.682555089268931, 8.580931944023101, 1.90403200872905]\n",
      "t = 6.4\n",
      "getcoeff(M[6]) = [-0.5917967643434459, 2.496610703183193, 0.007426761394741327, -0.5798178512842624, -0.2566079368325596, 3.844179455195965, -4.166242528270152, 2.820079299554281, -4.969768163085823, 2.0173569211226483, 1.6170039365838942, 0.3475629751045034, 0.011760898560819563, -2.1128669216556073, 0.9911854398881061, 0.7181230670982183, -2.106852141072374, -0.40404640522007745, -0.6467892777544653]\n"
     ]
    },
    {
     "name": "stderr",
     "output_type": "stream",
     "text": [
      "\u001b[32mProgress: 100%|█████████████████████████████████████████| Time: 0:00:02\u001b[39m\n"
     ]
    },
    {
     "name": "stdout",
     "output_type": "stream",
     "text": [
      "t = 6.5\n",
      "getcoeff(M[6]) = [7.9403032652571195, -2.2628501799739853, -22.49298075267149, 2.6724202867989297, 14.198685947225986, 2.4732931101221327, -14.680752088511374, 2.910951642186377, 2.986462366132087, -1.117320438003481, -9.603000126171263, 6.788870400919036, 0.27643505198057183, 1.8342599991543032, 0.6467246791665586, -0.3552340449971332, -0.023474328549795795, -3.1934002733061524, -0.41617045105275546]\n",
      "t = 6.6000000000000005\n",
      "getcoeff(M[6]) = [-8.87524180931102, 0.036594813108350374, 16.411360900752094, 1.3022095363477755, -6.814397914417603, 0.7926539032716039, 10.320323887585838, 2.7162233346800027, -2.545272579040214, 0.08096028348957822, 4.984110741940566, -3.8314718900317173, -0.8310778105261747, -1.6299945140836487, 1.6357592141735389, -0.012705447656636221, 0.16106280594830605, 0.9694030094903481, -0.3364862070455417]\n",
      "t = 6.7\n",
      "getcoeff(M[6]) = [-21.118619386949543, 0.6785681857442867, 18.653635741847193, -0.14252549946236723, 4.579812963405576, 1.8800305401130446, 11.85051065437959, 0.02416722053727116, -7.574887799135677, -0.6001168064749659, 7.513422466505391, 1.0769686802249074, 1.5617215798517297, -0.029382577847185287, 0.09351859086153966, -1.0598756512649599, -0.08823306945836541, 2.598764155834666, 0.4642969524214155]\n",
      "t = 6.800000000000001\n",
      "getcoeff(M[6]) = [-6.95957821928609, 1.963642647928539, -1.9760442290887696, 0.8683790588151812, 7.054399501398829, 1.8357280101764608, -9.41530699805185, 1.6232016198995496, -2.5683340951905467, 0.4844302903415829, -14.80716051064768, 3.6055309087910805, 1.0019408955421267, 1.1946266126790508, 1.0223399426271063, 0.45205745545692594, -0.07283223825034452, -7.726647196445844, 0.10304586173254908]\n",
      "t = 6.9\n",
      "getcoeff(M[6]) = [-4.6916971164045735, 3.68104466546617, 8.757358060149663, -2.0861204198497463, -3.7400649316976606, 2.993987182813301, 7.524182388646109, -5.206712624433081, -1.738970286894359, 2.0763263452289498, 6.586481600956836, -2.7929938199829314, 2.663568462507123, -1.1738360128991543, -3.716790405630625, 0.07959247257802086, -0.09674078924215287, 2.7766032887073115, 1.2228231155889553]\n",
      "t = 7.0\n",
      "getcoeff(M[6]) = [-37.03825429953111, 13.597766763519957, 0.5182521597288013, 0.24124786363593595, 37.01535689299762, 16.799008542656676, 0.9070808942534412, 0.19086646957682443, -13.486403660925298, 5.515184642820248, 1.7480915005401105, 17.663107355143413, 11.166651199360018, 4.1263377513766635, -0.23268072669489914, 0.5989235921398015, 0.016553976433719513, 1.1987291494294083, 3.2509742815840545]\n",
      "t = 7.1000000000000005\n",
      "getcoeff(M[6]) = [23.499435257155547, 4.596406357031385, -3.990469947421825, -1.368373738758774, -18.481492170764295, 8.038311626717718, 6.09204315048947, -2.6680211733435804, 8.050753513335179, 1.402047469001916, 12.287154496437216, -8.869298556340677, 4.522129638239887, -2.622596751333524, -1.192808798508379, 0.2684518800585715, 0.06766172507689325, 6.189643879083906, 1.556596852702324]\n",
      "t = 7.2\n",
      "getcoeff(M[6]) = [0.7005432061357171, 1.0758789081945452, 3.6975329937044776, 1.5400339192253603, -3.90984322408835, 0.9928863097783035, 8.524091989317695, 3.76941863283972, 0.08144064939392145, 0.34828587239227404, 12.151345600566424, -2.557977524564458, 1.9136741615914503, -0.2451580866958844, 3.0367755459710484, 0.031991984659713334, 0.012177430487207031, 6.282943662406417, 0.8157100320390691]\n",
      "t = 7.300000000000001\n",
      "getcoeff(M[6]) = [-7.869432552798652, 7.10271683781697, -7.806771372510045, -2.2058544607797037, 14.182173003928781, 8.98420659280465, -17.080035001796013, -4.505850358087881, -2.3605583418931264, 3.5247504697625414, -22.838000334034287, 7.332716087889246, 8.996676484706832, 3.033545841076788, -2.5115444074650095, -0.8123056440051235, 0.10176445848793242, -10.93985958688389, 3.225104317067717]\n",
      "t = 7.4\n",
      "getcoeff(M[6]) = [-7.3269981239851045, -0.23965185466746447, -2.92140663134262, -0.3867744391746708, 7.561881590068627, 0.8427394170212479, -11.985963187249725, 0.2293018705279189, -2.4718409448518397, -0.10307837212817578, -17.075243327673473, 3.270416207935555, 0.6684537748175459, 1.1713957068000451, 0.366030754965188, 0.40536494175983745, -0.09460704472158471, -7.9943966196717895, 0.5329786965173754]\n",
      "t = 7.5\n",
      "getcoeff(M[6]) = [9.281731799128305, -4.139824260350027, -11.488754764481747, 1.7822114938314977, -2.0782328270022745, 4.363819558556164, -19.329446620932785, 4.535437439832741, 3.34992171386916, -2.0239842807626074, -23.988698452271514, -1.3911664289974617, 4.782721003403272, -0.1627794561589031, 2.691728220688584, 0.9806644275431661, 0.18108822931592927, -10.947668136860516, 2.474958493451706]\n",
      "t = 7.6000000000000005\n",
      "getcoeff(M[6]) = [22.538194794551277, -5.227740438033316, -18.685691526276454, 2.5362675356145457, -3.9810842714586574, 6.982058772589872, -12.092844544214234, 6.049960807175167, 6.687139847954252, -2.600883671401697, -6.4517586240056914, 1.36376826836932, 7.238474363789713, 0.5841892896623557, 3.732776382395902, -0.2739163287819094, 0.18350341782383026, -1.6987296632275908, 2.9863675470881925]\n",
      "t = 7.7\n",
      "getcoeff(M[6]) = [-2.7518768837219083, -10.087716876747368, 14.710145471650225, -0.6619510461171132, -13.433407739676255, 12.219164191798566, 5.570311509855035, -1.7181387701007649, -0.5655566277474728, -3.457560846393928, -1.0106768047536594, -9.299711824245648, 8.84863918554515, -1.6847103982276908, -1.3055473633363477, 0.4978350363428997, 0.10272481652932575, -1.3794832811337305, 3.192494297419871]\n",
      "t = 7.800000000000001\n",
      "getcoeff(M[6]) = [9.4079118753065, -17.326531249000528, 13.91747745877787, 0.8475978892443837, -24.218260375744666, 20.17906169930918, 6.965586552513812, 2.030143230960644, 2.5054127065113128, -10.037605206849648, 1.3397488034444045, -17.753194365489186, 15.22646520990167, -8.639645806977446, 1.3041256757273145, -1.0816147228915076, -0.2530917341146518, -0.35085750939320115, 4.257773071298178]\n",
      "t = 7.9\n",
      "getcoeff(M[6]) = [-5.7631557699923235, -5.772559588129571, 8.781132308951213, 3.983706908498967, -3.7988330386974365, 4.7643052772444, -0.515369138764989, 7.4086946682005195, -1.7718795905117477, -3.3654742835199762, -7.48788540839319, -3.7529977216311985, 2.7531223807124516, -1.9527711184782044, 4.357322364724355, -0.3930306893643304, -0.017172873722264663, -4.820414774351132, 1.6311841002799938]\n",
      "t = 8.0\n",
      "getcoeff(M[6]) = [-2.092163948415917, -4.861245608823897, -7.226892186802469, 1.3028200224269202, 10.119276122154114, 4.489184303148256, -8.265643906760886, 2.1011398866130793, -0.1367412612606571, -2.2746863462743367, -9.554636262014023, 5.522172550310893, 2.8140524896067163, 2.208876293663782, 0.9158800128377093, -1.2643300986235488, -0.0028242571290725536, -4.735510780182188, 0.3328796470985789]\n",
      "t = 8.1\n",
      "getcoeff(M[6]) = [1.70961196499885, 0.10133364570062324, 0.27676609194579915, 2.5471013605501, -3.93363829722707, 1.0301611670102004, -3.578552927840244, 5.505545682340987, 0.7517370598615983, 0.139024075265176, -7.292715045549638, -4.691899582229976, 1.5688865068540037, -2.506468191044615, 3.1275162870047333, 0.4658914210404341, 0.04333240890083383, -4.699857763160016, 0.7246968122421323]\n",
      "t = 8.200000000000001\n",
      "getcoeff(M[6]) = [-3.0423613452794256, 1.4251829385141348, -7.484318011888931, -0.9069153473713312, 10.85197528692829, 2.340219568895069, -0.8725293128370168, -3.02110633379133, -2.9157338065979608, 0.6216282983188024, 3.769057722288917, 4.784421837624963, 4.166553924490688, 1.6378096647192368, -2.4107919744107527, -0.5718307118980959, 0.026858686144806663, 2.560224717035789, 2.5205292928765832]\n",
      "t = 8.3\n",
      "getcoeff(M[6]) = [29.764181440036868, 3.743526629818487, -26.506972264956886, 0.33276455499265123, -5.228637035724145, 6.2160871336881085, -15.860719856760888, 0.8822126412784691, 9.08499742480754, 0.8573879840108627, -8.53593548908017, -2.7003788676428684, 3.8418584137846974, -0.6213509941260348, 0.5007093459963541, 0.003600786213825378, 0.018973241172231967, -2.5977465919287206, 1.0739688406519006]\n",
      "t = 8.4\n",
      "getcoeff(M[6]) = [-19.837885457096558, 6.290520209288776, 5.088360593553313, 0.24944966478258968, 15.00967516275726, 7.467409353949532, 2.4596391345390085, 0.6991618044773349, -8.474314852952759, 1.439626530329135, 1.5433689751556825, 7.65145465918304, 5.555640382123569, 1.977298775810543, 0.6963012181930262, -0.0670235931194447, -0.2648993606990349, 1.001564704761599, 2.034318188811202]\n"
     ]
    },
    {
     "name": "stdout",
     "output_type": "stream",
     "text": [
      "t = 8.5\n",
      "getcoeff(M[6]) = [5.058104764553865, 6.126442975956429, -12.224218467590408, 0.39023843257021523, 7.7170892879970765, 6.142396531805749, -3.614055849237954, 1.3477270138062372, 1.7591990903259347, 3.023030343003145, 4.065305111457187, 5.472304112950203, 4.52031846241044, 2.106914333561585, 0.988438148071948, 0.10627097650109582, -0.03204783131829077, 4.046506177182476, 1.4353328531222205]\n",
      "t = 8.6\n",
      "getcoeff(M[6]) = [6.141677114131798, -1.5672981860205537, -27.422298568116286, -0.7063143237365509, 21.074439084368034, 2.07284891493673, -14.569208527967355, -1.1606161226372416, 0.7790004939811674, -0.7646028478635787, -5.240452333381095, 10.013400778114518, 1.4265278717913716, 1.961169381919871, 0.2655197261204615, -0.33186320887268017, -0.09832234338217959, -0.5634420080698823, 1.5491215481657126]\n",
      "t = 8.700000000000001\n",
      "getcoeff(M[6]) = [46.14992191555025, 9.927098137518659, -0.5023440535306471, -3.0605779003951916, -47.59100807342954, 12.836787213460992, 0.35866373131512896, -6.335648893023969, 16.631944824971693, 3.084061453523, 0.08749041979026473, -21.30515950559947, 2.1211064412698195, -1.1974481686121128, -3.904254834786667, 0.1968597478543468, 0.14298952017238203, -0.08025688479679707, -0.9667866973687861]\n",
      "t = 8.8\n",
      "getcoeff(M[6]) = [4.712356188967585, 3.785179421043961, 10.127393347512402, -3.2199389112728425, -12.595746434831275, 3.138090814016825, 16.542747516168625, -6.646820931654925, 1.5656746181797414, 1.7317288942888382, 20.17782219207108, -6.820906253826525, 1.9732329243241713, -2.254147525775645, -3.7071980428767413, -0.17491238198993442, -0.06155784986024232, 9.029796223625592, 0.11157315369368477]\n",
      "t = 8.9\n",
      "getcoeff(M[6]) = [-4.947839560367763, -1.8219229852119394, 3.643265003592875, -0.8827237970157151, 1.0297180532252843, 1.332718011256804, 6.734341731783294, -1.4213472521784958, -2.6944984180180325, -1.8258438502727379, 7.005655128190489, -1.4288130102108778, 1.032735483009769, -0.9526855725722252, -0.8206064043596386, 0.609124468242088, 0.04082639872696593, 2.477732513364879, 0.3967871185858341]\n",
      "t = 9.0\n",
      "getcoeff(M[6]) = [-3.451979688538196, -1.9512680992629434, 4.846840891399782, 1.124954186384549, 1.64480450899471, 1.9730758493193046, 9.800971714249739, 2.4905847638531835, -0.2793296558485954, 0.26238463983339066, 12.454451917095994, 0.32406869455743165, 1.257112827852601, -0.5171341416662464, 1.6997110414992078, -0.6937433626308908, -0.10956058231158838, 6.126384915664723, 0.2800255638653495]\n",
      "t = 9.1\n",
      "getcoeff(M[6]) = [0.7768757783763867, -2.1061029533183984, -3.048137309804704, -1.3144141778613345, 2.995406034192686, 1.1119210055874253, -2.077746409225124, -2.7701339018004525, 0.33471536764688997, -1.099647453107725, -1.520823029304787, 1.7118925602682862, 0.3551936645282338, 0.8263443537659062, -1.6639621833850542, -0.8002302506454162, -0.03600833212750581, -0.5470091151096225, -0.24308519036427106]\n",
      "t = 9.200000000000001\n",
      "getcoeff(M[6]) = [-0.7471244586643524, -0.6980384709792631, -2.3416490337349485, 0.6502956072561439, 2.0712335874545156, 0.3754346715323168, -2.4098777655653048, 1.7540422528958342, -0.6589811568873473, -0.447487260574371, -1.916139812233018, 1.2330160045331688, 0.6208603009517033, 0.4101177001120039, 1.4267021211191258, 0.6368938634487689, -0.05296459709710781, -0.4503704424794271, 0.22382292761202574]\n",
      "t = 9.3\n",
      "getcoeff(M[6]) = [-0.6614743259825067, -1.2770806564638557, 5.91220620142374, -1.9620630344279464, -4.811987723880843, 1.1923819145482135, 10.2996479323273, -4.1607712825352765, -0.6209954887862074, -0.37138734552879354, 12.978194921930037, -3.3734330051010963, 1.9075064682659333, -1.0693729901677407, -2.552688271765771, 0.44496141301254466, -0.08559762340356643, 6.20489372002611, 0.9141956683052775]\n",
      "t = 9.4\n",
      "getcoeff(M[6]) = [-3.6347743380841115, -3.9091867952870984, 9.159791088712394, 1.8037606067249106, -5.0842667567642845, 3.543963297171164, 7.639321641566129, 4.704684655495448, -1.2427556302277167, -2.337376726465666, 6.156161218309915, -3.2108879094010403, 3.7238169166029267, -1.4994247560100589, 3.560838979063746, 0.192162800341373, 0.1019885039560767, 2.4504288132735406, 1.68181676521915]\n",
      "t = 9.5\n",
      "getcoeff(M[6]) = [-0.9335094734277289, -1.6167667301519608, 5.171837849073359, 1.485280064501821, -0.8204539282452616, 1.4130269633716885, 15.459049746176127, 2.8604660627413554, -0.5503665370838772, -1.4276978887620242, 20.687563154613386, 1.2099278538162501, 2.361962901250706, 0.8726103049055589, 1.4267151029545964, -0.2177631632956703, 0.049495284397983, 9.106914586956083, 1.286737772665942]\n",
      "t = 9.600000000000001\n",
      "getcoeff(M[6]) = [-2.857135659302522, -1.3753061609367128, -3.1538657770270007, 2.3779611836015997, 7.202800355704541, 1.0741922098425611, 0.8265779346783182, 4.732952434644409, -1.2654545224381095, -0.9198445427422298, 2.5949954562506683, 4.157135569068052, 1.7919053181889861, 1.521470997534837, 3.065528872237533, -0.48473125782578946, -0.22120518885400375, 1.267714105383592, 0.8787299121278477]\n",
      "t = 9.700000000000001\n",
      "getcoeff(M[6]) = [-3.2399364581143373, 0.10437211329853247, 3.865587630493991, -2.295426747021384, -0.8895690729181549, 0.7336146496628552, 4.313305027756613, -4.682376512411485, -0.9765826369712021, -0.11635191869633485, 4.8891218610269185, -1.0981070645163538, 2.0058046439531663, -0.41701258898007953, -2.7668712669277626, 0.5049232512167052, 0.037138549237709144, 2.3782570798699165, 1.5595132977343382]\n",
      "t = 9.8\n",
      "getcoeff(M[6]) = [0.28983368335312265, 0.26657152354847596, 7.804112495606484, 0.16073026633063595, -7.2760824068654735, 1.0073740782953247, 8.430778518397325, 0.3093536795314791, 0.2024625617532041, 0.4285949032953502, 7.782142311420095, -3.0278256978451688, 2.407452534371254, -0.7937167602725739, 0.3173407853389269, 0.374819635520772, 0.008325061594041443, 2.9715527097011156, 1.2196670384059045]\n",
      "t = 9.9\n",
      "getcoeff(M[6]) = [-1.5282512978339255, -0.29345179496658585, -0.2463248578026666, 2.3869608264945987, -0.13448807075226, 0.6654524813388412, -5.456665276520879, 5.5149861710644945, -0.5489089573979944, -0.25759947436806013, -9.45558043522854, -0.20654629672294444, 1.4901151476182972, -0.09820738057777786, 3.999674983692052, 0.8785343044662146, -0.058348876189415685, -5.391305283709227, 0.6430289375910904]\n",
      "t = 10.0\n",
      "getcoeff(M[6]) = [3.2930579621301828, -0.9888262917080404, -3.1172117674187705, 1.829491357065209, 0.4143983628518699, 0.5697478234677937, -2.292053155825201, 4.0181075359614145, 1.291319609401363, -0.41631281615414123, -1.8471588270139168, 0.4002927476487316, 0.555969357705212, -0.023499856258826675, 2.6494211919605184, -0.552890288677613, -0.25689476196912747, -0.9829070425350391, -0.004462625723701542]\n",
      "t = 10.100000000000001\n",
      "getcoeff(M[6]) = [8.553828205708292, -6.818671001670786, 3.398886094156249, -0.10801917486940255, -12.01202281671084, 7.812789358769295, 4.1574478830385635, -0.7089655639810619, 2.5512304629197198, -2.834441159618904, 4.465806892810925, -6.032577683554532, 5.017367860885563, -1.948173848789418, -0.7132946230094674, 0.04345863909266065, -0.21679500970980067, 1.846591021653769, 1.25638815306369]\n",
      "t = 10.200000000000001\n",
      "getcoeff(M[6]) = [41.17709575880835, -15.964118986420413, 12.993074469743167, 1.0751304727639797, -56.11655943361738, 19.96724551550362, 8.706726760345653, 2.0659651237826253, 11.790180530906792, -3.911141643910373, 4.802797478314259, -25.015724429783464, 7.157977645851256, -6.154823885560961, 1.2810954373783836, 0.05997577178504834, 0.007292725851902295, 1.3627304245879488, -0.8964691624486306]\n",
      "t = 10.3\n",
      "getcoeff(M[6]) = [9.946847825123095, -4.468752027690646, -5.270873423903538, 4.166279910186154, -5.125990770033776, 4.724115407822332, 0.226421375481753, 8.762425129418915, 1.8512911904030231, -1.8885118321279513, 4.895187388766204, -1.8246322476093204, 0.9691005873404847, 0.03541286479968825, 4.884152186327762, -0.16155103978899737, -0.09225692352608118, 3.538350196466733, 0.6512104701391926]\n",
      "t = 10.4\n",
      "getcoeff(M[6]) = [5.335512654249508, -7.661492668483204, 2.3384483885470324, 3.569244712368703, -6.301946290518629, 6.188373204656562, 8.573759301191306, 8.227266218897203, 1.075952737269309, -4.287528676164168, 11.494257891653247, -4.210290848085392, 3.566861076878631, -1.7488220639768566, 5.160787913707785, -0.5551707887932085, 0.1814892901331196, 4.9978246461138, 0.7724151831580374]\n",
      "t = 10.5\n",
      "getcoeff(M[6]) = [-2.725301358116524, -1.6603850147609422, -2.6879225190685685, -0.14241296432955056, 4.2001627027438655, 1.366500743745648, -9.99565873162914, -0.2819766581726722, 0.18971606307086328, -1.030777009827801, -15.29654811876757, 2.8625228795298368, 0.5542194324176609, 1.0272918545728416, -0.03837008886388681, 0.155217697769401, -0.17858955543722396, -7.531412083770974, 0.13845810024817415]\n"
     ]
    },
    {
     "name": "stdout",
     "output_type": "stream",
     "text": [
      "t = 10.600000000000001\n",
      "getcoeff(M[6]) = [-1.5216910389516602, 0.6402262595312243, 0.7944489361018616, 1.678777695781111, 1.446354658433854, 0.8908024131180967, 3.961806271164352, 4.020897551764961, -0.5416427778273949, 0.3061247825810473, 6.099435899248736, -0.6790109635799078, 1.5490566066117148, -0.6535352709973022, 2.9691460371053715, -0.47498730354944924, 0.11673409680774652, 3.3767022193249105, 0.5110521094860654]\n",
      "t = 10.700000000000001\n",
      "getcoeff(M[6]) = [2.418574442212733, 0.4121443545035912, -6.261551515373374, 0.9086379147858681, 3.38429052581146, 0.2609987058822719, -5.348686702765683, 1.5126346444617464, 1.106819176517067, -0.13620309224896776, -3.7579143886782447, 1.5882798409935093, -0.10838743731283257, 0.5898502787579502, 0.5968476487537444, 0.009099069522303096, 0.2867799176699296, -1.6594691316754762, -0.4845385217842395]\n",
      "t = 10.8\n",
      "getcoeff(M[6]) = [2.071206113903167, 3.5228019932331804, -1.9921376234988157, 0.6048091041361059, -0.24456008706290078, 3.324630293646372, -5.443435733673521, 2.0568963373112323, 0.7452685157544869, 1.9796897376200653, -8.711313082606676, 0.7232515878076065, 3.7302251393879517, 0.6076989232850907, 1.4892405462786202, -0.3999649516036316, -0.055597751322459, -5.107723875794727, 2.206215109932828]\n",
      "t = 10.9\n",
      "getcoeff(M[6]) = [-1.660953119620232, 2.3514529748176907, -0.8966412271042068, -2.099605931769721, 2.3373963235077833, 1.7531924257084193, -4.127035627362116, -5.197939352383441, -0.5755580772324376, 1.3031353179228164, -7.137183492465409, 0.9243094471813658, 1.768017040461507, 0.312404064100334, -3.6105786109867637, -0.5542314673652174, 0.002763020374271002, -3.6837956782886767, 0.5703726908958975]\n",
      "t = 11.0\n",
      "getcoeff(M[6]) = [0.9824575144453737, 2.945189703521781, 2.81731080487879, -2.897901991829832, -5.093546377850566, 2.57790629528917, -5.030472860401237, -5.925482613286771, 0.48193375950842265, 2.062670525616896, -10.158155682088683, -3.508779106050035, 3.3884220298712173, -1.3361797707537608, -3.0185148604514107, -0.2650355511026455, -0.03892450230235367, -5.5046805805023356, 1.6148063740346632]\n",
      "t = 11.100000000000001\n",
      "getcoeff(M[6]) = [-3.2485345592762345, 1.56622376761309, 3.2652325060015865, -1.7862882825991393, 0.2382530533872752, 1.0606070989259304, 3.086098580337891, -4.456102545903659, -0.8943618263497175, 0.23937186069148622, 2.09436283882073, -0.5739782859560798, 0.3985643959873348, -0.46059061455781836, -3.107832642924831, 0.020864372061206955, -0.23277011726663702, 0.6238211698862829, 0.1128697793733109]\n",
      "t = 11.200000000000001\n",
      "getcoeff(M[6]) = [1.457992952454043, 2.6539899473790394, -7.182281631023612, -1.7284439130366698, 5.297947166305778, 2.0951470710886424, -7.910132855452625, -4.046673384701597, 0.7186940577233806, 1.3153735159421962, -7.573466359990127, 3.389258368183486, 2.1546386199586864, 0.9282664281360633, -2.258830690928049, -0.049439996930336884, 0.09840412118508014, -3.098692343934361, 1.2048067980780024]\n",
      "t = 11.3\n",
      "getcoeff(M[6]) = [2.1588610066615335, 0.39917551639273635, -5.010206339506255, 1.2480622529110141, 1.3125264994575732, 0.8833819458122092, -6.466539113881122, 2.648479877823229, 0.4114067405528525, 0.5670636190121071, -6.86269492739221, -0.4127610964741697, 1.9724573269673875, -0.5568145103814381, 1.9814603785470706, 0.22665271543054655, -0.05191460294307403, -3.0290059865885928, 1.1661898084468711]\n",
      "t = 11.4\n",
      "getcoeff(M[6]) = [0.4740816779711355, 2.90718986720286, -0.14981432249954063, -0.27637776099314587, -0.6275740138335264, 2.288552019496958, -6.346523728417143, -1.030952605394166, 0.34248859709906293, 1.5836187661559553, -9.98931792764184, -0.8264597664457787, 2.203635492473699, -0.7410381832301076, -1.2796291054023423, -0.8161826049529037, -0.11642456811911912, -5.110455754323484, 0.9643565442030532]\n",
      "t = 11.5\n",
      "getcoeff(M[6]) = [13.298487763451702, 8.279796425338283, -0.8428500734861555, -0.32319828375874776, -13.549682051001271, 9.955944394129219, -3.463000597982467, -0.6526962524643442, 4.214493638072732, 3.2027022382056267, -4.459931657083631, -7.218558946128408, 6.585058207453001, -2.1313059465226565, 0.1115987112132056, -0.29059021579215494, -0.06942861837908247, -1.9748196644627647, 1.120453673054676]\n",
      "t = 11.600000000000001\n",
      "getcoeff(M[6]) = [28.29587656615164, 11.73638524505605, -15.79982941811562, 1.9647723745131638, -16.155408314929787, 20.833717382700964, -14.05278702252825, 4.679538108553488, 10.044400591114485, 2.459923171833821, -12.36224640539779, -13.378098309786786, 18.14457683448331, -6.268478156067372, 3.251842008187705, -0.5578364927898053, -0.09020650972644176, -5.002488967498392, 5.817724319770517]\n",
      "t = 11.700000000000001\n",
      "getcoeff(M[6]) = [34.3892484394492, 13.468291021898228, 7.692247937078995, -1.7004031058744429, -74.26781842044029, 81.30626472020032, 0.0031203414040632538, -3.1472684784024394, 7.153707195121344, 4.578493174600971, -6.058184038553412, -100.04711732976644, 85.58217888004219, -49.464454382817884, -1.4729422503323684, -0.7682529682938408, 0.2773482922174811, -3.8190520762899487, 18.82931662873553]\n"
     ]
    },
    {
     "name": "stderr",
     "output_type": "stream",
     "text": [
      "\u001b[32mProgress: 100%|█████████████████████████████████████████| Time: 0:00:00\u001b[39m\n"
     ]
    },
    {
     "name": "stdout",
     "output_type": "stream",
     "text": [
      "t = 11.8\n",
      "getcoeff(M[6]) = [-5.469519285820407, 2.0990819335115782, 7.857766210788713, -1.7279760809094287, -4.766883280162924, 3.0602969983111654, -6.573392824153872, -3.6016545884782674, -1.578137299618098, -0.0298593402027102, -14.760818677431725, -2.17086229165443, 4.200096145891642, -0.20522610679691633, -2.023619116057716, 0.3272579692805943, 0.00834364200686141, -6.759277526160492, 1.960310322721944]\n",
      "t = 11.9\n",
      "getcoeff(M[6]) = [-9.845042457856723, 3.6038207310495016, 6.75394365981151, 0.8611735354022676, 5.9072805550168015, 5.3791385077533, 13.088394971435763, 1.740389641153707, -1.8385458725665977, 0.9818433211249874, 17.72388599702033, 3.311576267396134, 3.585078687713686, 1.1300265267004956, 1.5981052664094952, 0.08570721896558871, -0.007072316696698734, 8.761531396005477, 0.5764527521278098]\n",
      "t = 12.0\n",
      "getcoeff(M[6]) = [-7.985083828552651, 6.033765430922351, 5.53711812529081, -0.1279589529319527, 4.5102923212561015, 5.03192380824692, 9.42176129148425, -0.1778350014143839, -1.7284202802010407, 3.77716681528135, 12.010163988152264, -0.22133640935773224, 2.834552225696193, -0.11880122572074264, -0.22616902236902373, -0.974349192249777, -0.048377344300303694, 5.485819090691164, 1.2129117964158143]\n",
      "t = 12.100000000000001\n",
      "getcoeff(M[6]) = [-0.42805735519499866, 1.4289335411505346, 12.770894552194225, 2.8490728059510055, -14.244652165070793, 3.4546732181849165, 11.847111941623238, 6.46995625995875, -2.2672082777999982, 0.13290739537980326, 11.169935515484452, -10.260344162136725, 1.644234940851857, -3.0688152142936365, 4.107191290131192, 0.31899813876976946, 0.21878236310791285, 4.95274046290733, -0.6999470454855906]\n",
      "t = 12.200000000000001\n",
      "getcoeff(M[6]) = [13.94080619442348, 1.2510613326206603, -7.002376426386535, -2.9128845364095293, -7.480171713038551, 4.291397021280377, -4.3448677948895185, -5.40159761070616, 3.6905390375275604, -0.5562626918179636, -1.6624951165246773, -4.3316520008375985, 3.356932947257512, -1.105215861291618, -2.765452113694354, -1.307426279761955, -0.14182115744761145, 0.7001563203036848, 0.8924124117792752]\n",
      "t = 12.3\n",
      "getcoeff(M[6]) = [-3.4326384147937494, 1.6279167188684138, 2.1106792141292834, -0.9120870986396599, 0.9160593131559189, 1.2635444971155094, 2.0604921518919292, -1.9063076355162107, -1.8497256043901065, 0.47666143560468066, 3.0577291072169563, 0.8745451895494137, 0.6147084488747763, 0.5797890507400277, -1.9211948210940237, 0.5588170350355829, 0.4151273811423963, 1.7646072299995212, 0.17296897151993934]\n",
      "t = 12.4\n",
      "getcoeff(M[6]) = [-2.871470356391477, 3.1507899463348483, 8.803467676748184, 0.5310345612933404, -3.833396877759939, 2.695938594896815, 16.71045760943955, 0.6879939725227029, -1.100052975720718, 1.4868189993537553, 21.36680709949125, -0.784099175850991, 1.9195375623703264, 0.5832319685422435, 0.2019654938756742, 0.5524365662752952, 0.01968217879761954, 9.921764482569094, 0.2394208628912662]\n",
      "t = 12.5\n",
      "getcoeff(M[6]) = [2.7290371651283887, 2.5309568580402644, -11.818903538882008, -4.64287944398748, 7.312466285019392, 2.3079316449241967, -14.22106067148386, -10.567156297435352, 0.7903287642553968, 1.054690723089578, -14.50840416084369, 4.724024449929599, 2.5751234216914796, 1.5953829068553815, -6.923280593816404, 0.3131793387792876, -0.0614814375359795, -5.924011396610214, 0.5071118062861987]\n",
      "t = 12.600000000000001\n",
      "getcoeff(M[6]) = [-1.6875984988082755, 2.112585129291299, -1.9438682931088407, -4.47277196235943, 3.2926006722278434, 1.6435696990119322, -2.838913968948044, -9.748758411787932, -0.30135922955175126, 1.1780121393455927, -0.7723834082909802, 3.0937973443181876, 1.6984212666602447, 1.560885044824433, -6.250693408072855, 0.25974709007027685, 0.10401442132179384, 1.35162819756991, 0.9640387576494965]\n",
      "t = 12.700000000000001\n",
      "getcoeff(M[6]) = [-1.0099398065212946, 0.6837649513149487, 3.5080502516523655, -0.1991338314876958, -4.171644194936442, 0.5158194808512176, -5.056816858839349, -0.19201090579491112, -0.311651527316288, -0.1949094494245931, -10.309733758386294, -1.7059457375369114, 0.3039263961999679, -0.01588031456850081, 0.12744329383340383, 0.293023605683658, 0.21224880760406653, -5.4455135155581385, -0.014868828996810999]\n",
      "t = 12.8\n",
      "getcoeff(M[6]) = [5.372308927011828, 0.8644547408799921, -3.062553699466842, 0.913182082442815, -2.9350124625552443, 0.6980059332524153, 0.5630088912230686, 3.10644792076027, 2.529174185616116, 0.5848478929771714, 2.8220003217642593, -1.145607235295786, 0.9243111943391878, -0.19763579210381754, 2.3178128374486144, 0.9881097600254767, 0.19557434720575562, 2.116397408352671, 0.277078368444867]\n"
     ]
    },
    {
     "name": "stderr",
     "output_type": "stream",
     "text": [
      "\u001b[32mProgress: 100%|█████████████████████████████████████████| Time: 0:00:01\u001b[39m\n"
     ]
    },
    {
     "name": "stdout",
     "output_type": "stream",
     "text": [
      "t = 12.9\n",
      "getcoeff(M[6]) = [0.015507768028422185]\n",
      "t = 13.0\n",
      "getcoeff(M[6]) = [-0.06433896732776337]\n",
      "t = 13.100000000000001\n",
      "getcoeff(M[6]) = [-0.07504839075399962]\n"
     ]
    },
    {
     "name": "stderr",
     "output_type": "stream",
     "text": [
      "\u001b[32mProgress: 100%|█████████████████████████████████████████| Time: 0:00:00\u001b[39m\n"
     ]
    },
    {
     "name": "stdout",
     "output_type": "stream",
     "text": [
      "t = 13.200000000000001\n",
      "getcoeff(M[6]) = [-0.2560454382918119]\n"
     ]
    },
    {
     "name": "stderr",
     "output_type": "stream",
     "text": [
      "\u001b[32mProgress: 100%|█████████████████████████████████████████| Time: 0:00:00\u001b[39m\n"
     ]
    },
    {
     "name": "stdout",
     "output_type": "stream",
     "text": [
      "t = 13.3\n",
      "getcoeff(M[6]) = [-0.22769392513153408]\n"
     ]
    },
    {
     "name": "stderr",
     "output_type": "stream",
     "text": [
      "\u001b[32mProgress: 100%|█████████████████████████████████████████| Time: 0:00:00\u001b[39m\n"
     ]
    },
    {
     "name": "stdout",
     "output_type": "stream",
     "text": [
      "t = 13.4\n",
      "getcoeff(M[6]) = [0.11447033909749113]\n"
     ]
    },
    {
     "name": "stderr",
     "output_type": "stream",
     "text": [
      "\u001b[32mProgress: 100%|█████████████████████████████████████████| Time: 0:00:00\u001b[39m\n"
     ]
    },
    {
     "name": "stdout",
     "output_type": "stream",
     "text": [
      "t = 13.5\n",
      "getcoeff(M[6]) = [-0.12245418722883814]\n",
      "t = 13.600000000000001\n",
      "getcoeff(M[6]) = [-0.1579597576069962]\n",
      "t = 13.700000000000001\n",
      "getcoeff(M[6]) = [-0.007187243676312373]\n",
      "t = 13.8\n",
      "getcoeff(M[6]) = [0.182379148998432]\n",
      "t = 13.9\n",
      "getcoeff(M[6]) = [0.0681924723314449]\n",
      "t = 14.0\n",
      "getcoeff(M[6]) = [0.26391015966549747]\n"
     ]
    },
    {
     "name": "stderr",
     "output_type": "stream",
     "text": [
      "\u001b[32mProgress: 100%|█████████████████████████████████████████| Time: 0:00:00\u001b[39m\n"
     ]
    },
    {
     "name": "stdout",
     "output_type": "stream",
     "text": [
      "t = 14.100000000000001\n",
      "getcoeff(M[6]) = [0.24853319031114665]\n",
      "t = 14.200000000000001\n",
      "getcoeff(M[6]) = [0.19252302083832357]\n"
     ]
    },
    {
     "name": "stderr",
     "output_type": "stream",
     "text": [
      "\u001b[32mProgress: 100%|█████████████████████████████████████████| Time: 0:00:00\u001b[39m\n"
     ]
    },
    {
     "name": "stdout",
     "output_type": "stream",
     "text": [
      "t = 14.3\n",
      "getcoeff(M[6]) = [0.16130121006735132]\n"
     ]
    },
    {
     "name": "stderr",
     "output_type": "stream",
     "text": [
      "\u001b[32mProgress: 100%|█████████████████████████████████████████| Time: 0:00:00\u001b[39m\n"
     ]
    },
    {
     "name": "stdout",
     "output_type": "stream",
     "text": [
      "t = 14.4\n",
      "getcoeff(M[6]) = [0.18120181444820613]\n"
     ]
    },
    {
     "name": "stderr",
     "output_type": "stream",
     "text": [
      "\u001b[32mProgress: 100%|█████████████████████████████████████████| Time: 0:00:00\u001b[39m\n"
     ]
    },
    {
     "name": "stdout",
     "output_type": "stream",
     "text": [
      "t = 14.5\n",
      "getcoeff(M[6]) = [0.20327402093426047]\n",
      "t = 14.600000000000001\n",
      "getcoeff(M[6]) = [0.04505377193428239]\n",
      "t = 14.700000000000001\n",
      "getcoeff(M[6]) = [0.18048924119462198]\n",
      "t = 14.8\n",
      "getcoeff(M[6]) = [0.03505375805664303]\n"
     ]
    },
    {
     "name": "stderr",
     "output_type": "stream",
     "text": [
      "\u001b[32mProgress: 100%|█████████████████████████████████████████| Time: 0:00:00\u001b[39m\n"
     ]
    },
    {
     "name": "stdout",
     "output_type": "stream",
     "text": [
      "t = 14.9\n",
      "getcoeff(M[6]) = [0.18981993449138312]\n",
      "t = 15.0\n",
      "getcoeff(M[6]) = [-0.022093190483478912]\n",
      "t = 15.100000000000001\n",
      "getcoeff(M[6]) = [0.1536077312282225]\n",
      "t = 15.200000000000001\n",
      "getcoeff(M[6]) = [0.2563655195022619]\n",
      "t = 15.3\n",
      "getcoeff(M[6]) = [0.06808090346784205]\n",
      "t = 15.4\n",
      "getcoeff(M[6]) = [0.19268178144530337]\n",
      "t = 15.5\n",
      "getcoeff(M[6]) = [0.2056458905798536]\n",
      "t = 15.600000000000001\n",
      "getcoeff(M[6]) = [0.07146135650460914]\n",
      "t = 15.700000000000001\n",
      "getcoeff(M[6]) = [-0.09674794932419967]\n",
      "t = 15.8\n",
      "getcoeff(M[6]) = [0.30421145014957857]\n"
     ]
    },
    {
     "name": "stderr",
     "output_type": "stream",
     "text": [
      "\u001b[32mProgress: 100%|█████████████████████████████████████████| Time: 0:00:00\u001b[39m\n"
     ]
    },
    {
     "name": "stdout",
     "output_type": "stream",
     "text": [
      "t = 15.9\n",
      "getcoeff(M[6]) = [0.22556689520883438]\n",
      "t = 16.0\n",
      "getcoeff(M[6]) = [0.177810655225012]\n",
      "t = 16.1\n",
      "getcoeff(M[6]) = [0.2289170919078708]\n",
      "t = 16.2\n",
      "getcoeff(M[6]) = [0.10380197328905831]\n",
      "t = 16.3\n",
      "getcoeff(M[6]) = [0.010732700162961399]\n",
      "t = 16.400000000000002\n",
      "getcoeff(M[6]) = [0.004013512051487619]\n",
      "t = 16.5\n",
      "getcoeff(M[6]) = [-0.020594609323276156]\n",
      "t = 16.6\n",
      "getcoeff(M[6]) = [-0.04038102252352508]\n",
      "t = 16.7\n",
      "getcoeff(M[6]) = [0.016993814227484003]\n",
      "t = 16.8\n",
      "getcoeff(M[6]) = [0.21655573324549762]\n",
      "t = 16.900000000000002\n",
      "getcoeff(M[6]) = [-0.02041031858811846]\n",
      "t = 17.0\n",
      "getcoeff(M[6]) = [0.04240505184889182]\n",
      "t = 17.1\n",
      "getcoeff(M[6]) = [0.05215606628445934]\n",
      "t = 17.2\n",
      "getcoeff(M[6]) = [0.187120493145923]\n",
      "t = 17.3\n",
      "getcoeff(M[6]) = [0.08330618451935878]\n",
      "t = 17.400000000000002\n",
      "getcoeff(M[6]) = [-0.08551610678840273]\n"
     ]
    },
    {
     "name": "stderr",
     "output_type": "stream",
     "text": [
      "┌ Warning: Failed to achieve finite new evaluation point, using alpha=0\n",
      "└ @ LineSearches /home/mat/.julia/packages/LineSearches/Ki4c5/src/hagerzhang.jl:148\n",
      "\u001b[32mProgress: 100%|█████████████████████████████████████████| Time: 0:00:00\u001b[39m\n"
     ]
    },
    {
     "name": "stdout",
     "output_type": "stream",
     "text": [
      "t = 17.5\n",
      "getcoeff(M[6]) = [-0.13707023868676185]\n",
      "t = 17.6\n",
      "getcoeff(M[6]) = [-0.09872105461004223]\n",
      "t = 17.7\n",
      "getcoeff(M[6]) = [0.20294750459887811]\n",
      "t = 17.8\n",
      "getcoeff(M[6]) = [0.37475422883878984]\n",
      "t = 17.900000000000002\n",
      "getcoeff(M[6]) = [0.2264373838094163]\n",
      "t = 18.0\n",
      "getcoeff(M[6]) = [0.19212117390763886]\n"
     ]
    },
    {
     "name": "stderr",
     "output_type": "stream",
     "text": [
      "\u001b[32mProgress: 100%|█████████████████████████████████████████| Time: 0:00:00\u001b[39m\n"
     ]
    },
    {
     "name": "stdout",
     "output_type": "stream",
     "text": [
      "t = 18.1\n",
      "getcoeff(M[6]) = [0.11092093336325369]\n"
     ]
    },
    {
     "name": "stderr",
     "output_type": "stream",
     "text": [
      "\u001b[32mProgress: 100%|█████████████████████████████████████████| Time: 0:00:00\u001b[39m\n"
     ]
    },
    {
     "name": "stdout",
     "output_type": "stream",
     "text": [
      "t = 18.2\n",
      "getcoeff(M[6]) = [0.125782576252524]\n"
     ]
    },
    {
     "name": "stderr",
     "output_type": "stream",
     "text": [
      "\u001b[32mProgress: 100%|█████████████████████████████████████████| Time: 0:00:00\u001b[39m\n"
     ]
    },
    {
     "name": "stdout",
     "output_type": "stream",
     "text": [
      "t = 18.3\n",
      "getcoeff(M[6]) = [0.11763114198743012]\n"
     ]
    },
    {
     "name": "stderr",
     "output_type": "stream",
     "text": [
      "\u001b[32mProgress: 100%|█████████████████████████████████████████| Time: 0:00:00\u001b[39m\n"
     ]
    },
    {
     "name": "stdout",
     "output_type": "stream",
     "text": [
      "t = 18.400000000000002\n",
      "getcoeff(M[6]) = [0.31926556871215966]\n",
      "t = 18.5\n",
      "getcoeff(M[6]) = [0.3197780872652429]\n",
      "t = 18.6\n",
      "getcoeff(M[6]) = [0.3206146642245898]\n",
      "t = 18.7\n",
      "getcoeff(M[6]) = [0.33855793619782665]\n",
      "t = 18.8\n",
      "getcoeff(M[6]) = [0.3132057133981457]\n",
      "t = 18.900000000000002\n",
      "getcoeff(M[6]) = [0.2449356772299164]\n",
      "t = 19.0\n",
      "getcoeff(M[6]) = [0.3655208103360892]\n",
      "t = 19.1\n",
      "getcoeff(M[6]) = [0.33408286430235234]\n",
      "t = 19.200000000000003\n",
      "getcoeff(M[6]) = [0.310438919972776]\n",
      "t = 19.3\n",
      "getcoeff(M[6]) = [0.3251869430331806]\n",
      "t = 19.400000000000002\n",
      "getcoeff(M[6]) = [0.3126313624852118]\n",
      "t = 19.5\n",
      "getcoeff(M[6]) = [0.2831918162294246]\n",
      "t = 19.6\n",
      "getcoeff(M[6]) = [0.2894385624122402]\n",
      "t = 19.700000000000003\n",
      "getcoeff(M[6]) = [0.20853863638772574]\n",
      "t = 19.8\n",
      "getcoeff(M[6]) = [0.2854615206716034]\n",
      "t = 19.900000000000002\n",
      "getcoeff(M[6]) = [0.2364396235017641]\n",
      "t = 20.0\n",
      "getcoeff(M[6]) = [0.2928453460702]\n"
     ]
    }
   ],
   "source": [
    "Xsmf = seqassim(F, data, 200, model.ϵx, smf, deepcopy(X), model.Ny, model.Nx, t0);"
   ]
  },
  {
   "cell_type": "code",
   "execution_count": 114,
   "metadata": {},
   "outputs": [
    {
     "data": {
      "text/plain": [
       "3×1000 Array{Float64,2}:\n",
       " -0.658908  -2.31204   -7.45684  -18.3202  …   5.65985  11.5922  15.3166\n",
       " -1.59451   -5.10262  -15.7835   -27.5539     10.0042   18.5109  13.1053\n",
       " -0.740262  -0.153      4.19991   31.4612     12.688    20.9545  38.3418"
      ]
     },
     "execution_count": 114,
     "metadata": {},
     "output_type": "execute_result"
    }
   ],
   "source": [
    "data.xt"
   ]
  },
  {
   "cell_type": "code",
   "execution_count": 115,
   "metadata": {},
   "outputs": [
    {
     "data": {
      "image/png": "[encoded data removed]"
     },
     "execution_count": 115,
     "metadata": {},
     "output_type": "execute_result"
    }
   ],
   "source": [
    "plot(data.tt[nb:Δ:ne], -mean_hist(Xsmf)[1,:])\n",
    "plot!(data.tt[nb:Δ:ne], data.xt[1,nb:Δ:ne], linewidth =  3, color = :teal, label = \"True\")\n"
   ]
  },
  {
   "cell_type": "code",
   "execution_count": 94,
   "metadata": {},
   "outputs": [
    {
     "ename": "LoadError",
     "evalue": "\u001b[91mBoundsError: attempt to access 3×201 Array{Float64,2} at index [1, 2:1:500]\u001b[39m",
     "output_type": "error",
     "traceback": [
      "\u001b[91mBoundsError: attempt to access 3×201 Array{Float64,2} at index [1, 2:1:500]\u001b[39m",
      "",
      "Stacktrace:",
      " [1] throw_boundserror(::Array{Float64,2}, ::Tuple{Int64,StepRange{Int64,Int64}}) at ./abstractarray.jl:541",
      " [2] checkbounds at ./abstractarray.jl:506 [inlined]",
      " [3] _getindex at ./multidimensional.jl:742 [inlined]",
      " [4] getindex(::Array{Float64,2}, ::Int64, ::StepRange{Int64,Int64}) at ./abstractarray.jl:1060",
      " [5] top-level scope at In[94]:7",
      " [6] include_string(::Function, ::Module, ::String, ::String) at ./loading.jl:1091"
     ]
    }
   ],
   "source": [
    "# Plot the first component of the state over time\n",
    "nb = 1\n",
    "ne = 499\n",
    "Δ = 1\n",
    "plt = plot(xlim = (-Inf, Inf), ylim = (-Inf, Inf), xlabel = L\"t\", ylabel = L\"x_1\")\n",
    "plot!(plt, data.tt[nb:Δ:ne], data.xt[1,nb:Δ:ne], linewidth =  3, color = :teal, label = \"True\")\n",
    "plot!(plt, data.tt[nb:Δ:ne], mean_hist(Xsmf)[1,1+nb:Δ:1+ne], linewidth = 3, grid = false,\n",
    "     color = :orangered2, linestyle = :dash, label = \"Stochastic Map Filter\")\n",
    "scatter!(plt, data.tt[nb:Δ:ne], data.yt[1,nb:Δ:ne], linewidth = 3, color = :grey, markersize = 5, alpha = 0.5, label = \"Observation\")\n",
    "plt"
   ]
  },
  {
   "cell_type": "code",
   "execution_count": 33,
   "metadata": {},
   "outputs": [
    {
     "ename": "LoadError",
     "evalue": "\u001b[91mBoundsError: attempt to access 1000-element Array{Float64,1} at index [5500]\u001b[39m",
     "output_type": "error",
     "traceback": [
      "\u001b[91mBoundsError: attempt to access 1000-element Array{Float64,1} at index [5500]\u001b[39m",
      "",
      "Stacktrace:",
      " [1] getindex at ./array.jl:809 [inlined]",
      " [2] getindex(::Array{Float64,1}, ::StepRange{Int64,Int64}) at ./array.jl:834",
      " [3] top-level scope at ./In[33]:9",
      " [4] include_string(::Function, ::Module, ::String, ::String) at ./loading.jl:1091"
     ]
    }
   ],
   "source": [
    "# Plot the different component of the state over time\n",
    "nb = 5500\n",
    "ne = 6000\n",
    "Δ = 1\n",
    "plt = plot(layout = grid(3,1), xlim = (-Inf, Inf), ylim = (-Inf, Inf), xlabel = L\"t\", \n",
    "           size = (900, 1000))\n",
    "\n",
    "for i =1:3\n",
    "    plot!(plt[i,1], data.tt[nb:Δ:ne], data.xt[i,nb:Δ:ne], linewidth =  2, color = :teal, \n",
    "          ylabel = latexstring(\"x_\"*string(i)), legend = (i == 1), label = \"True\")\n",
    "    plot!(plt[i,1], data.tt[nb:Δ:ne], mean_hist(Xsmf)[i,1+nb:Δ:1+ne], linewidth = 2, grid = false,\n",
    "          color = :orangered2, linestyle = :dash, label = \"sEnKF\")\n",
    "    scatter!(plt[i,1], data.tt[nb:Δ:ne], data.yt[i,nb:Δ:ne], linewidth = 3, color = :grey, \n",
    "          markersize = 5, alpha = 0.5, label  = \"Observation\")\n",
    "end\n",
    "\n",
    "plt"
   ]
  },
  {
   "cell_type": "markdown",
   "metadata": {},
   "source": [
    "Talk about the benchmark of the different filters"
   ]
  },
  {
   "cell_type": "markdown",
   "metadata": {},
   "source": [
    "### Benchmark of the EnKF filter"
   ]
  },
  {
   "cell_type": "code",
   "execution_count": 116,
   "metadata": {},
   "outputs": [
    {
     "name": "stdout",
     "output_type": "stream",
     "text": [
      "Ne 10 RMSE: 3.8254663423276716\n",
      "Ne 20 RMSE: 2.0605921219961134\n",
      "Ne 40 RMSE: 0.4223537564608097\n",
      "Ne 60 RMSE: 0.40146546759545937\n",
      "Ne 100 RMSE: 0.3877197292448612\n",
      "Ne 200 RMSE: 0.4025809532902939\n",
      " 15.443304 seconds (68.89 M allocations: 6.501 GiB, 6.17% gc time)\n"
     ]
    }
   ],
   "source": [
    "path = pwd()*\"/lorenz63/data/\"\n",
    "Nx = 3\n",
    "Ny = 3\n",
    "Ne_array = [10, 20, 40, 60, 100, 200];\n",
    "@time model, data = setup_lorenz63(path, Ne_array);"
   ]
  },
  {
   "cell_type": "code",
   "execution_count": 55,
   "metadata": {},
   "outputs": [
    {
     "name": "stdout",
     "output_type": "stream",
     "text": [
      "(Ne, β) = (10, 1.0)\n",
      "  0.482682 seconds (3.47 M allocations: 329.564 MiB, 11.44% gc time)\n",
      "Ne = 10\n",
      "Ne 10& β 1.0 RMSE: 0.6015590736992926\n"
     ]
    },
    {
     "name": "stderr",
     "output_type": "stream",
     "text": [
      "\r",
      "\u001b[32mProgress:  17%|██████▉                                  |  ETA: 0:00:05\u001b[39m"
     ]
    },
    {
     "name": "stdout",
     "output_type": "stream",
     "text": [
      "(Ne, β) = (20, 1.0)\n",
      "  "
     ]
    },
    {
     "name": "stderr",
     "output_type": "stream",
     "text": [
      "\r",
      "\u001b[32mProgress:  33%|█████████████▋                           |  ETA: 0:00:04\u001b[39m"
     ]
    },
    {
     "name": "stdout",
     "output_type": "stream",
     "text": [
      "0.859515 seconds (6.59 M allocations: 631.994 MiB, 8.56% gc time)\n",
      "Ne = 20\n",
      "Ne 20& β 1.0 RMSE: 0.5184477645494938\n",
      "(Ne, β) = (40, 1.0)\n",
      "  "
     ]
    },
    {
     "name": "stderr",
     "output_type": "stream",
     "text": [
      "\r",
      "\u001b[32mProgress:  50%|████████████████████▌                    |  ETA: 0:00:04\u001b[39m"
     ]
    },
    {
     "name": "stdout",
     "output_type": "stream",
     "text": [
      "1.662244 seconds (12.83 M allocations: 1.210 GiB, 8.65% gc time)\n",
      "Ne = 40\n",
      "Ne 40& β 1.0 RMSE: 0.4483744816193398\n",
      "(Ne, β) = (60, 1.0)\n",
      "  "
     ]
    },
    {
     "name": "stderr",
     "output_type": "stream",
     "text": [
      "\r",
      "\u001b[32mProgress:  67%|███████████████████████████▍             |  ETA: 0:00:03\u001b[39m"
     ]
    },
    {
     "name": "stdout",
     "output_type": "stream",
     "text": [
      "2.463622 seconds (19.07 M allocations: 1.804 GiB, 8.51% gc time)\n",
      "Ne = 60\n",
      "Ne 60& β 1.0 RMSE: 0.4403101469791623\n",
      "(Ne, β) = (100, 1.0)\n",
      "  "
     ]
    },
    {
     "name": "stderr",
     "output_type": "stream",
     "text": [
      "\r",
      "\u001b[32mProgress:  83%|██████████████████████████████████▏      |  ETA: 0:00:02\u001b[39m"
     ]
    },
    {
     "name": "stdout",
     "output_type": "stream",
     "text": [
      "4.334649 seconds (31.55 M allocations: 2.983 GiB, 8.49% gc time)\n",
      "Ne = 100\n",
      "Ne 100& β 1.0 RMSE: 0.4303647629868742\n",
      "(Ne, β) = (200, 1.0)\n",
      " 13.776164 seconds (62.75 M allocations: 5.935 GiB, 7.19% gc time)\n",
      "Ne = 200\n",
      "Ne 200& β 1.0 RMSE: 0.4465248257137066"
     ]
    },
    {
     "name": "stderr",
     "output_type": "stream",
     "text": [
      "\r",
      "\u001b[32mProgress: 100%|█████████████████████████████████████████| Time: 0:00:24\u001b[39m\n"
     ]
    },
    {
     "name": "stdout",
     "output_type": "stream",
     "text": [
      "\n"
     ]
    },
    {
     "data": {
      "text/plain": [
       "6-element Array{Any,1}:\n",
       " Metrics[Metrics(10, [0.8166106052280312, 0.8477976249831615, 0.5377435004826744, 0.2946057216215732, 0.1963372890873663, 0.1661211989653268, 0.09550122139602638, 0.10895691501209233, 0.061645037116889324, 0.1556247918798692  …  4.0942175082812975, 2.918216773645667, 2.293946056603929, 2.3368525142834664, 2.9966610036699945, 2.488711153121422, 2.060789991067101, 2.000268585410395, 2.0094430111553767, 1.633586039615903], 0.37686107778341077, 0.6015590736992926, 0.8149386709205617, [1.0125271950095414, 0.9623361052178709, 0.7792957424814254, 0.4344193482216172, 0.2873587820499424, 0.2729751953413108, 0.40382950988831384, 0.6108278943470481, 0.6592219807793599, 0.4157011617649463  …  0.6622613427311322, 0.9156031963385003, 1.1880540752197546, 1.010250360884169, 0.9055102239545725, 0.6429162631150634, 0.5592022167774022, 0.6557579770729094, 0.987851621549649, 1.1234614213819019], 0.4419068954362283, 0.5053138269227165, 0.25903240927442023, [1.0, 1.0, 0.6666666666666666, 0.6666666666666666, 1.0, 1.0, 1.0, 1.0, 1.0, 1.0  …  0.6666666666666666, 0.6666666666666666, 0.3333333333333333, 0.3333333333333333, 0.0, 0.3333333333333333, 0.0, 0.0, 0.3333333333333333, 0.6666666666666666], 1.0, 0.7261666666666667, 0.36457522740458864)]\n",
       " Metrics[Metrics(20, [0.8009234015601246, 0.8873529418152709, 0.9648186335874159, 0.2241641575750264, 0.08972122691323191, 0.40502498541772275, 0.9061432442037632, 1.2895306531554689, 0.7946468671210342, 0.3985672597736556  …  0.3346030298442835, 0.5163997563927475, 0.43517438396749325, 0.598360550796541, 0.5362700352527868, 0.4471320623829449, 0.29561670268590506, 0.18851296824592492, 0.17522643152541226, 0.07857223386207775], 0.35531061663093255, 0.5184477645494938, 0.4845044270612191, [1.3258269952984914, 1.219366525258285, 1.1067738085368013, 0.8876478449926386, 0.6257782703432062, 0.5204509248590731, 0.6103587013183903, 0.7679474941003844, 0.5675737349456604, 0.5082509495209795  …  0.5453088799482404, 0.5575510867223642, 0.5540770509755611, 0.5983031348899548, 0.50022559167807, 0.42259328666553975, 0.3198506611541602, 0.3043017231422324, 0.38395027869333503, 0.5385430054163486], 0.47192182393714555, 0.5305997869038892, 0.24119505026883653, [1.0, 1.0, 1.0, 1.0, 1.0, 1.0, 0.3333333333333333, 0.0, 0.6666666666666666, 1.0  …  1.0, 1.0, 1.0, 1.0, 1.0, 1.0, 1.0, 1.0, 1.0, 1.0], 1.0, 0.8525, 0.2979733949063843)]\n",
       " Metrics[Metrics(40, [0.9826817575939837, 0.8853553187784176, 0.3822879886654962, 0.1560808317176755, 0.16401163158104606, 0.2641915580627298, 0.4821786668586909, 0.7562409207457594, 0.5304897251404828, 0.2335617480836244  …  0.46302073478462163, 0.44641521503457005, 0.5198248995974374, 0.8841581293917309, 0.8944940422060007, 0.6869037355788589, 0.47199979466366954, 0.3146926290239334, 0.22052593050442004, 0.2011946269035898], 0.31988125779252113, 0.4483744816193398, 0.3888888264729722, [0.9910648265607959, 1.0389612210939443, 0.9976972004017787, 0.6975832292555886, 0.40656021680950216, 0.3543519277702079, 0.4841426130471005, 0.6802004103354949, 0.5357937586885131, 0.4567283561463507  …  0.34892484591013456, 0.4717990778913134, 0.618724675393529, 0.5828250426543808, 0.4770344985964706, 0.39083347571382326, 0.2923228793059253, 0.3054108982896446, 0.45375090190774553, 0.6625324478592381], 0.4946079848132213, 0.5558350191174204, 0.23424766693404636, [1.0, 1.0, 1.0, 1.0, 1.0, 1.0, 1.0, 1.0, 1.0, 1.0  …  0.6666666666666666, 1.0, 1.0, 0.6666666666666666, 0.6666666666666666, 0.6666666666666666, 0.6666666666666666, 0.6666666666666666, 1.0, 1.0], 1.0, 0.9485, 0.17881512390001802)]\n",
       " Metrics[Metrics(60, [0.9958246928389437, 1.1406683287468808, 0.5892665012618263, 0.06937257988643586, 0.11686273681705214, 0.2663933938825168, 0.5322621212098003, 0.9316025189352882, 0.728746365036979, 0.4082893401458479  …  0.22786860029792666, 0.31749262144454576, 0.35389057590962486, 0.5051968531575757, 0.556030690676821, 0.4877666524221944, 0.30372102936096423, 0.2222280953223254, 0.28222115198656517, 0.24913840043694432], 0.30630601607276686, 0.4403101469791623, 0.38370929842878665, [1.15339760434503, 1.111068400675063, 1.0617894821482072, 0.7246278025729431, 0.4659868724356628, 0.4125774571657407, 0.5030501098617005, 0.6339205155508028, 0.5972643721683021, 0.4689687485398599  …  0.3842024564419135, 0.48550370981036023, 0.5900843703168447, 0.6445608536580213, 0.500422315137187, 0.4156164932470485, 0.3016388798926969, 0.2916869146188145, 0.40422049044227376, 0.6320377754649462], 0.5153348159848088, 0.5717853643157081, 0.2325183875067794, [1.0, 1.0, 1.0, 1.0, 1.0, 1.0, 1.0, 1.0, 1.0, 1.0  …  1.0, 1.0, 1.0, 1.0, 1.0, 1.0, 1.0, 1.0, 1.0, 1.0], 1.0, 0.9791666666666667, 0.10627248639759496)]\n",
       " Metrics[Metrics(100, [1.1447153311331781, 1.38577826954797, 0.8011100613741654, 0.2521263581826285, 0.3020487816972422, 0.508284816604461, 0.8670734818498514, 1.1608770052370112, 0.8718084104569586, 0.5296218649707812  …  0.2398186998545124, 0.25503741685515185, 0.22177804228613865, 0.41110055435395404, 0.47496251760836805, 0.40719857492095896, 0.24764360531773363, 0.13828193095173355, 0.0826234199512165, 0.26856854675486025], 0.2893155689372151, 0.4303647629868742, 0.38191564508486936, [0.9527704170384034, 0.9321001672664082, 1.0398646440457058, 0.6935998849951813, 0.44319915626874445, 0.3912492072948739, 0.5244511435147953, 0.6086134296913539, 0.5544278894887922, 0.4791755006959619  …  0.3928515891332105, 0.5199694696873517, 0.6603156868760311, 0.7450505076075534, 0.6302553655749117, 0.5068577227060873, 0.37451309930446913, 0.35529727887821777, 0.5185904054762793, 0.7753972206416857], 0.5329209748271038, 0.5871951348369144, 0.2322523924985191, [1.0, 1.0, 1.0, 1.0, 1.0, 1.0, 1.0, 1.0, 1.0, 1.0  …  1.0, 1.0, 1.0, 1.0, 1.0, 1.0, 1.0, 1.0, 1.0, 1.0], 1.0, 0.9911666666666668, 0.07514664299502112)]\n",
       " Metrics[Metrics(200, [0.888273273483637, 1.0797033517549515, 0.3440269499593048, 0.21420101076430767, 0.16162425690189322, 0.3253767298519863, 0.7050060288401291, 1.0723841440703699, 0.7927858236953814, 0.37303796598152517  …  0.14863863331263572, 0.13098694675828024, 0.01569618827238591, 0.16380423196922922, 0.33101947558854705, 0.3183054841536702, 0.19962116984435951, 0.10929821953369317, 0.07402847742163798, 0.21688151831203697], 0.3082727000481167, 0.4465248257137066, 0.38847206086051883, [1.1025016902484062, 1.1585146386588427, 1.050280287671641, 0.7264029154997294, 0.46463567765400915, 0.4408017551630872, 0.5331142954826315, 0.6640979088648434, 0.6326136904712192, 0.5171574662091373  …  0.4291626962129586, 0.5520631256132565, 0.6739989865135746, 0.774635718849873, 0.6359763126942447, 0.5135438852089059, 0.3752157713769756, 0.3581808492199844, 0.47687145842631096, 0.6813329693353127], 0.5508320940815306, 0.6018345158581575, 0.23071327806131858, [1.0, 1.0, 1.0, 1.0, 1.0, 1.0, 1.0, 1.0, 1.0, 1.0  …  1.0, 1.0, 1.0, 1.0, 1.0, 1.0, 1.0, 1.0, 1.0, 1.0], 1.0, 0.9908333333333332, 0.07584313842648356)]"
      ]
     },
     "execution_count": 55,
     "metadata": {},
     "output_type": "execute_result"
    }
   ],
   "source": [
    "metric_list = benchmark_lorenz63(model, data, path, Ne_array, [1.0])"
   ]
  },
  {
   "cell_type": "code",
   "execution_count": 23,
   "metadata": {},
   "outputs": [
    {
     "name": "stdout",
     "output_type": "stream",
     "text": [
      "(Ne, β) = (200, 1.0)\n",
      "  7.739944 seconds (62.75 M allocations: 5.935 GiB, 6.06% gc time)\n",
      "Ne = 200\n",
      "Ne 200& β 1.0 RMSE: 0.4189442707516625\n"
     ]
    },
    {
     "data": {
      "text/plain": [
       "1-element Array{Any,1}:\n",
       " Metrics[Metrics(200, [0.27418871478089074, 0.4011111920900346, 0.6224367042654201, 1.1940241372680338, 1.178706937442249, 0.629896584355798, 0.37352902606306937, 0.27598562967074297, 0.3415108073527272, 0.5385900049790774  …  0.22005926456584765, 0.11117371050261328, 0.0745833426310767, 0.06915409494524392, 0.23566185689849842, 0.4284533696688461, 0.7382482677445492, 1.2785156926466672, 0.9477650979445261, 0.8579855755647071], 0.2843509443072877, 0.4189442707516625, 0.3843942458358231, [0.2791191166770778, 0.3308824803118106, 0.5356751453956368, 0.7482658949655999, 0.6849666981780923, 0.5401293761758875, 0.3905840265207302, 0.30529026491290673, 0.3612676308031941, 0.5506587576884893  …  0.9550452598208562, 0.7275900415277436, 0.5097020874896808, 0.38068472189933705, 0.44668108906035564, 0.6711198461183089, 0.7934070557338772, 0.953289237580203, 1.0821830718436276, 1.1373384160933897], 0.529889526630428, 0.584733698922179, 0.23401428353181045, [1.0, 1.0, 1.0, 1.0, 0.6666666666666666, 1.0, 1.0, 1.0, 1.0, 1.0  …  1.0, 1.0, 1.0, 1.0, 1.0, 1.0, 1.0, 1.0, 1.0, 1.0], 1.0, 0.9928333333333332, 0.065876381401767)]"
      ]
     },
     "execution_count": 23,
     "metadata": {},
     "output_type": "execute_result"
    }
   ],
   "source": [
    "metric_list = benchmark_lorenz63(model, data, path, Ne_array, [1.0])"
   ]
  }
 ],
 "metadata": {
  "kernelspec": {
   "display_name": "Julia 1.5.3",
   "language": "julia",
   "name": "julia-1.5"
  },
  "language_info": {
   "file_extension": ".jl",
   "mimetype": "application/julia",
   "name": "julia",
   "version": "1.5.3"
  }
 },
 "nbformat": 4,
 "nbformat_minor": 2
}
