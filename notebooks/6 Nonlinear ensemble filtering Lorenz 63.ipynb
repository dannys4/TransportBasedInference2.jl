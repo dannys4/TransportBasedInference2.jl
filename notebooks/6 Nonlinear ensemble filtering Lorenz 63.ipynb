{
 "cells": [
  {
   "cell_type": "markdown",
   "metadata": {},
   "source": [
    "## 6. Nonlinear ensemble filtering for the Lorenz-63 problem"
   ]
  },
  {
   "cell_type": "markdown",
   "metadata": {},
   "source": [
    "In this notebook, we are interested in the sequential inference \n",
    "\n",
    "\n",
    "\n",
    "References: \n",
    "\n",
    "\n",
    "[1] Evensen, G., 1994. Sequential data assimilation with a nonlinear quasi‐geostrophic model using Monte Carlo methods to forecast error statistics. Journal of Geophysical Research: Oceans, 99(C5), pp.10143-10162.\n",
    "\n",
    "[2] Asch, M., Bocquet, M. and Nodet, M., 2016. Data assimilation: methods, algorithms, and applications. Society for Industrial and Applied Mathematics.\n",
    "\n",
    "[3] Bishop, C.H., Etherton, B.J. and Majumdar, S.J., 2001. Adaptive sampling with the ensemble transform Kalman filter. Part I: Theoretical aspects. Monthly weather review, 129(3), pp.420-436. \n",
    "\n",
    "[4] Lorenz, E.N., 1963. Deterministic nonperiodic flow. Journal of atmospheric sciences, 20(2), pp.130-141.\n",
    "\n",
    "[5] Spantini, A., Baptista, R. and Marzouk, Y., 2019. Coupling techniques for nonlinear ensemble filtering. arXiv preprint arXiv:1907.00389."
   ]
  },
  {
   "cell_type": "markdown",
   "metadata": {},
   "source": [
    "### The basic steps\n",
    "To carry out sequential inference in `AdaptiveTransportMap`, we need to carry out a few basic steps:\n",
    "* **Specify the problem**: Define the state-space model: initial condition, dynamical and observation models (including process and observation noise)\n",
    "* **Specify the inflation parameters**: Determine the levels of covariance inflation to properly balance the dynamical system and the observations from the truth system\n",
    "* **Specify the filter**: Choose the ensemble filter to assimilate the observations in the state estimate\n",
    "* **Perform the sequential inference**: Perform the sequential inference\n",
    "\n",
    "We will go through all of these here."
   ]
  },
  {
   "cell_type": "code",
   "execution_count": 1,
   "metadata": {},
   "outputs": [],
   "source": [
    "using Revise\n",
    "using LinearAlgebra\n",
    "using AdaptiveTransportMap\n",
    "using Statistics\n",
    "using Distributions\n",
    "using OrdinaryDiffEq"
   ]
  },
  {
   "cell_type": "code",
   "execution_count": null,
   "metadata": {},
   "outputs": [],
   "source": [
    "using DelimitedFiles"
   ]
  },
  {
   "cell_type": "markdown",
   "metadata": {},
   "source": [
    "Load some packages to make nice figures"
   ]
  },
  {
   "cell_type": "code",
   "execution_count": 2,
   "metadata": {},
   "outputs": [],
   "source": [
    "using Plots\n",
    "default(tickfont = font(\"CMU Serif\", 9), \n",
    "        titlefont = font(\"CMU Serif\", 14), \n",
    "        guidefont = font(\"CMU Serif\", 12),\n",
    "        legendfont = font(\"CMU Serif\", 10),\n",
    "        grid = false)\n",
    "pyplot()\n",
    "\n",
    "using LaTeXStrings\n",
    "PyPlot.rc(\"text\", usetex = \"true\")\n",
    "PyPlot.rc(\"font\", family = \"CMU Serif\")\n",
    "# gr()\n",
    "using ColorSchemes"
   ]
  },
  {
   "cell_type": "markdown",
   "metadata": {},
   "source": [
    "The Lorenz-63  model is a three dimensional system that models the atmospheric convection [4]. This system is a classical benchmark problem in data assimilation. The state $\\boldsymbol{x} = (x_1, x_2, x_3)$ is governed by the following set of ordinary differential equations:\n",
    "\n",
    "\\begin{equation}\n",
    "\\begin{aligned}\n",
    "&\\frac{\\mathrm{d} x_1}{\\mathrm{d} t}=\\sigma(x_2-x_1)\\\\\n",
    "&\\frac{\\mathrm{d} x_2}{\\mathrm{d} t}=x_1(\\rho-x_2)-x_2\\\\\n",
    "&\\frac{\\mathrm{d} x_3}{\\mathrm{d} t}=x_1 x_2-\\beta x_3,\n",
    "\\end{aligned}\n",
    "\\end{equation}\n",
    "\n",
    "where $\\sigma = 10, \\beta = 8/3, \\rho = 28$. For these values, the system is chaotic and behaves like a strange attractor. We integrate this system of ODEs with time step $\\Delta t_{dyn} = 0.05$. The state is fully observed $h(t,\\boldsymbol{x}) = \\boldsymbol{x}$ with $\\Delta t_{obs}=0.1$. The initial distribution $\\pi_{\\mathsf{X}_0}$ is the standard Gaussian. The process noise is Gaussian with zero mean and covariance $10^{-4}\\boldsymbol{I}_3$. The measurement noise has a Gaussian distribution with zero mean and covariance $\\theta^2\\boldsymbol{I}_3$ where $\\theta^2 = 4.0$."
   ]
  },
  {
   "cell_type": "markdown",
   "metadata": {},
   "source": [
    "### Simple twin-experiment"
   ]
  },
  {
   "cell_type": "markdown",
   "metadata": {},
   "source": [
    "Define the dimension of the state and observation vectors"
   ]
  },
  {
   "cell_type": "code",
   "execution_count": 3,
   "metadata": {},
   "outputs": [
    {
     "data": {
      "text/plain": [
       "3"
      ]
     },
     "execution_count": 3,
     "metadata": {},
     "output_type": "execute_result"
    }
   ],
   "source": [
    "Nx = 3\n",
    "Ny = 3"
   ]
  },
  {
   "cell_type": "markdown",
   "metadata": {},
   "source": [
    "Define the time steps $\\Delta t_{dyn}, \\Delta t_{obs}$  of the dynamical and observation models. Observations from the truth are assimilated every $\\Delta t_{obs}$."
   ]
  },
  {
   "cell_type": "code",
   "execution_count": 4,
   "metadata": {},
   "outputs": [
    {
     "data": {
      "text/plain": [
       "0.1"
      ]
     },
     "execution_count": 4,
     "metadata": {},
     "output_type": "execute_result"
    }
   ],
   "source": [
    "Δtdyn = 0.05\n",
    "Δtobs = 0.1"
   ]
  },
  {
   "cell_type": "markdown",
   "metadata": {},
   "source": [
    "Define the additive inflation for the dynamical and observation models"
   ]
  },
  {
   "cell_type": "markdown",
   "metadata": {},
   "source": [
    "Define the time span of interest"
   ]
  },
  {
   "cell_type": "code",
   "execution_count": 5,
   "metadata": {},
   "outputs": [
    {
     "data": {
      "text/plain": [
       "1000"
      ]
     },
     "execution_count": 5,
     "metadata": {},
     "output_type": "execute_result"
    }
   ],
   "source": [
    "t0 = 0.0\n",
    "tf = 100.0\n",
    "Tf = ceil(Int64, (tf-t0)/Δtobs)"
   ]
  },
  {
   "cell_type": "markdown",
   "metadata": {},
   "source": [
    " Define the distribution for the initial condition $\\pi_{\\mathsf{X}_0}$"
   ]
  },
  {
   "cell_type": "code",
   "execution_count": 6,
   "metadata": {},
   "outputs": [
    {
     "data": {
      "text/plain": [
       "FullNormal(\n",
       "dim: 3\n",
       "μ: [0.0, 0.0, 0.0]\n",
       "Σ: [1.0 0.0 0.0; 0.0 1.0 0.0; 0.0 0.0 1.0]\n",
       ")\n"
      ]
     },
     "execution_count": 6,
     "metadata": {},
     "output_type": "execute_result"
    }
   ],
   "source": [
    "π0 = MvNormal(zeros(Nx), Matrix(1.0*I, Nx, Nx))"
   ]
  },
  {
   "cell_type": "markdown",
   "metadata": {},
   "source": [
    "We construct the state-space representation `F` of the system composed of the deterministic part of the dynamical and observation models. \n",
    "\n",
    "The dynamical model is provided by the right hand side of the ODE to solve. For a system of ODEs, we will prefer an in-place syntax `f(du, u, p, t)`, where `p` are parameters of the model.\n",
    "We rely on `OrdinaryDiffEq` to integrate the dynamical system with the Tsitouras 5/4 Runge-Kutta method adaptive time marching. \n",
    "\n",
    "We assume that the state is fully observable, i.e. $h(x, t) = x$."
   ]
  },
  {
   "cell_type": "code",
   "execution_count": 7,
   "metadata": {},
   "outputs": [
    {
     "data": {
      "text/plain": [
       "StateSpace(AdaptiveTransportMap.lorenz63!, h)"
      ]
     },
     "execution_count": 7,
     "metadata": {},
     "output_type": "execute_result"
    }
   ],
   "source": [
    "h(x, t) = x\n",
    "F = StateSpace(lorenz63!, h)"
   ]
  },
  {
   "cell_type": "code",
   "execution_count": 8,
   "metadata": {},
   "outputs": [
    {
     "data": {
      "text/plain": [
       "AdditiveInflation(3, [0.0, 0.0, 0.0], [1.0e-6 0.0 0.0; 0.0 1.0e-6 0.0; 0.0 0.0 1.0e-6], [0.001 0.0 0.0; 0.0 0.001 0.0; 0.0 0.0 0.001])"
      ]
     },
     "execution_count": 8,
     "metadata": {},
     "output_type": "execute_result"
    }
   ],
   "source": [
    "### Process and observation noise\n",
    "σx = 1e-2\n",
    "σy = 1e-3\n",
    "\n",
    "ϵx = AdditiveInflation(Nx, zeros(Nx), σx)\n",
    "ϵy = AdditiveInflation(Ny, zeros(Ny), σy)"
   ]
  },
  {
   "cell_type": "code",
   "execution_count": 9,
   "metadata": {},
   "outputs": [],
   "source": [
    "model = Model(Nx, Ny, Δtdyn, Δtobs, ϵx, ϵy, π0, 0, 0, 0, F);"
   ]
  },
  {
   "cell_type": "markdown",
   "metadata": {},
   "source": [
    "To perform the nonlinear ensemble filtering, we first need to estimate the transport map $\\boldsymbol{S}^{\\boldsymbol{\\mathcal{X}}}$.\n",
    "\n",
    "In this notebook, we are going to assume that the basis of features does not change over time, but solely the coefficients $c_{\\boldsymbol{\\alpha}}$ of the expansion. \n",
    "\n",
    "\n",
    "To estimate the map, we generate joint samples $(\\boldsymbol{y}^i, \\boldsymbol{x}^i), \\; i = 1, \\ldots, N_e$ where $\\{\\boldsymbol{x}^i\\}$ are i.i.d. samples from pushforward of the standard Gaussian distribution by the flow generated by the Lorenz-63 system."
   ]
  },
  {
   "cell_type": "code",
   "execution_count": 10,
   "metadata": {},
   "outputs": [
    {
     "data": {
      "text/plain": [
       "\u001b[36mODEProblem\u001b[0m with uType \u001b[36mArray{Float64,1}\u001b[0m and tType \u001b[36mFloat64\u001b[0m. In-place: \u001b[36mtrue\u001b[0m\n",
       "timespan: (0.0, 100.0)\n",
       "u0: [0.0, 0.0, 0.0]"
      ]
     },
     "execution_count": 10,
     "metadata": {},
     "output_type": "execute_result"
    }
   ],
   "source": [
    "# Number of runs\n",
    "Ne = 500\n",
    "\n",
    "# Time span\n",
    "tspan = (0.0, 100.0)\n",
    "prob = ODEProblem(lorenz63!, zeros(Nx), tspan)"
   ]
  },
  {
   "cell_type": "markdown",
   "metadata": {},
   "source": [
    "Create cache to store the different final solutions"
   ]
  },
  {
   "cell_type": "code",
   "execution_count": 11,
   "metadata": {},
   "outputs": [],
   "source": [
    "X = zeros(Ny + Nx, Ne);"
   ]
  },
  {
   "cell_type": "markdown",
   "metadata": {},
   "source": [
    "Solve Lorenz-96 model for the different initial conditions and store the solutions as the columns of `X`, and compute the associated observation vector."
   ]
  },
  {
   "cell_type": "code",
   "execution_count": 12,
   "metadata": {},
   "outputs": [],
   "source": [
    "J = ceil(Int64, (tf-t0)/Δtobs)\n",
    "@inbounds for i=1:Ne\n",
    "    xtmp = rand(π0)\n",
    "    for j=1:J\n",
    "        tspan = (t0 + (j-1)*model.Δtobs, t0 + j*model.Δtobs)\n",
    "        prob = remake(prob, tspan = tspan, u0 = xtmp)\n",
    "        sol = solve(prob, Tsit5(), dt = Δtdyn, dense = false, save_everystep = false)\n",
    "        xtmp .= copy(sol.u[end]) \n",
    "        # Add process noise\n",
    "        model.ϵx(xtmp)\n",
    "    end\n",
    "    \n",
    "    # Store the state\n",
    "    X[Ny+1:Ny+Nx,i] .= copy(xtmp)\n",
    "end\n",
    "# Generate the observations\n",
    "observe(h, X, tf, Ny, Nx)\n",
    "\n",
    "# Apply the observation noise\n",
    "ϵy(X, 1, Ny)"
   ]
  },
  {
   "cell_type": "code",
   "execution_count": 30,
   "metadata": {},
   "outputs": [
    {
     "data": {
      "text/plain": [
       "HermiteMap(25, 6, LinearTransform(6, [-0.29363871694641197, -0.32849668713410946, 23.973264410882066, -0.2941460734785516, -0.3290105026606614, 23.972766580779815], [7.957852780911305 0.0 … 0.0 0.0; 0.0 8.973255906962134 … 0.0 0.0; … ; 0.0 0.0 … 8.973254768629733 0.0; 0.0 0.0 … 0.0 8.501866596978735], true), MapComponent[Map component of dimension 1 with Nψ 1 active features\n",
       ", Map component of dimension 2 with Nψ 1 active features\n",
       ", Map component of dimension 3 with Nψ 1 active features\n",
       ", Map component of dimension 4 with Nψ 1 active features\n",
       ", Map component of dimension 5 with Nψ 1 active features\n",
       ", Map component of dimension 6 with Nψ 1 active features\n",
       "])"
      ]
     },
     "execution_count": 30,
     "metadata": {},
     "output_type": "execute_result"
    }
   ],
   "source": [
    "# Initialize the map\n",
    "m = 25\n",
    "S = HermiteMap(m, X; diag = true, α = 1.5e-6)"
   ]
  },
  {
   "cell_type": "code",
   "execution_count": 26,
   "metadata": {},
   "outputs": [
    {
     "data": {
      "text/plain": [
       "HermiteMap(25, 6, LinearTransform(6, [-0.29363871694641197, -0.32849668713410946, 23.973264410882066, -0.2941460734785516, -0.3290105026606614, 23.972766580779815], [7.957852780911305 0.0 … 0.0 0.0; 0.0 8.973255906962134 … 0.0 0.0; … ; 0.0 0.0 … 8.973254768629733 0.0; 0.0 0.0 … 0.0 8.501866596978735], true), MapComponent[Map component of dimension 1 with Nψ 1 active features\n",
       ", Map component of dimension 2 with Nψ 1 active features\n",
       ", Map component of dimension 3 with Nψ 1 active features\n",
       ", Map component of dimension 4 with Nψ 1 active features\n",
       ", Map component of dimension 5 with Nψ 1 active features\n",
       ", Map component of dimension 6 with Nψ 1 active features\n",
       "])"
      ]
     },
     "execution_count": 26,
     "metadata": {},
     "output_type": "execute_result"
    }
   ],
   "source": [
    "Sqr = HermiteMap(m, X; diag = true, α = 1.5e-6)"
   ]
  },
  {
   "cell_type": "code",
   "execution_count": 15,
   "metadata": {},
   "outputs": [
    {
     "data": {
      "text/plain": [
       "6×500 Array{Float64,2}:\n",
       " -10.8163  -2.7535    0.920121  -17.5193  …  -2.72188  -13.4465   6.04787\n",
       " -14.8302  -1.20975  -0.099811  -19.4614      5.94375  -17.3596  10.9055\n",
       "  24.5395  23.4304   20.7579     37.9734     31.7351    29.061   12.0426\n",
       " -10.8172  -2.75418   0.91946   -17.5198     -2.72215  -13.4472   6.04779\n",
       " -14.8305  -1.21075  -0.100512  -19.4618      5.94321  -17.36    10.9047\n",
       "  24.5387  23.4297   20.7579     37.9731  …  31.7343    29.0605  12.0425"
      ]
     },
     "execution_count": 15,
     "metadata": {},
     "output_type": "execute_result"
    }
   ],
   "source": [
    "# writedlm( \"lorenzdata.csv\",  X, ',')\n",
    "# X = readdlm( \"lorenzdata.csv\",  ',')"
   ]
  },
  {
   "cell_type": "code",
   "execution_count": 16,
   "metadata": {},
   "outputs": [
    {
     "data": {
      "image/png": "[encoded data removed]"
     },
     "execution_count": 16,
     "metadata": {},
     "output_type": "execute_result"
    }
   ],
   "source": [
    "# Histogram of the first component\n",
    "histogram(sort(transform(deepcopy(X))[6,:]), bins = 90; normalize = :pdf)"
   ]
  },
  {
   "cell_type": "markdown",
   "metadata": {},
   "source": [
    "The optimization works up to 22 active features, after the Cholesky decomposition crashes."
   ]
  },
  {
   "cell_type": "code",
   "execution_count": 31,
   "metadata": {
    "scrolled": true
   },
   "outputs": [
    {
     "name": "stdout",
     "output_type": "stream",
     "text": [
      "1 terms - Training error: 1.4024878875727165, Validation error: 1.4797411157324993\n",
      "1 terms - Training error: 1.4024446497195682, Validation error: 1.4799305299428291\n",
      "2 terms - Training error: 1.4007375152705965, Validation error: 1.4758298621644603\n",
      "3 terms - Training error: 1.4006738442692754, Validation error: 1.4776016313342308\n",
      "4 terms - Training error: 1.3958924832572106, Validation error: 1.4971202394749512\n",
      "5 terms - Training error: 1.3953862894054339, Validation error: 1.4992464136355597\n",
      "6 terms - Training error: 1.3630828172521932, Validation error: 1.4353442574731814\n",
      "7 terms - Training error: 1.3630799428186493, Validation error: 1.4352704956561935\n",
      "8 terms - Training error: 1.3630740936564953, Validation error: 1.4360261877368532\n",
      "9 terms - Training error: 1.3627931313786699, Validation error: 1.437483946437698\n",
      "10 terms - Training error: 1.3623867377057153, Validation error: 1.4359270278628538\n",
      "11 terms - Training error: 1.3623570657815114, Validation error: 1.4361968341686666\n",
      "12 terms - Training error: 1.3613664724194456, Validation error: 1.428712025624645\n",
      "13 terms - Training error: 1.3610779732298248, Validation error: 1.427421414905768\n",
      "14 terms - Training error: 1.3608703214720614, Validation error: 1.4239072457459963\n",
      "15 terms - Training error: 1.3594250653203201, Validation error: 1.4191960987771675\n",
      "16 terms - Training error: 1.3593225859361762, Validation error: 1.4215685648455563\n",
      "17 terms - Training error: 1.3575612304451494, Validation error: 1.4182378158252407\n",
      "18 terms - Training error: 1.3561982228304479, Validation error: 1.4266310009468086\n",
      "19 terms - Training error: 1.3545572492572857, Validation error: 1.425590776556879\n",
      "20 terms - Training error: 1.352449565645126, Validation error: 1.43393841950298\n",
      "21 terms - Training error: 1.351236323039775, Validation error: 1.4332054200059352\n",
      "22 terms - Training error: 1.3501012451268601, Validation error: 1.4353575176139004\n",
      "23 terms - Training error: 1.349419357433414, Validation error: 1.4357857065557418\n",
      "1 terms - Training error: 1.4263818384686406, Validation error: 1.3841653121488031\n",
      "1 terms - Training error: 1.4263662873869267, Validation error: 1.384185646354625\n",
      "2 terms - Training error: 1.42423632460417, Validation error: 1.3816057712537115\n",
      "3 terms - Training error: 1.424236250513468, Validation error: 1.381646553590455\n",
      "4 terms - Training error: 1.4242105343889953, Validation error: 1.3801168918558693\n",
      "5 terms - Training error: 1.4234436113154996, Validation error: 1.3845274646717107\n",
      "6 terms - Training error: 1.3682059947694127, Validation error: 1.4156629479674678\n",
      "7 terms - Training error: 1.368075894144298, Validation error: 1.416218116285559\n",
      "8 terms - Training error: 1.3664363586110917, Validation error: 1.4193372232617194\n",
      "9 terms - Training error: 1.366383334660911, Validation error: 1.419398822589444\n",
      "10 terms - Training error: 1.3661494071634477, Validation error: 1.4176033051449715\n",
      "11 terms - Training error: 1.3661487169076263, Validation error: 1.4176082640302996\n",
      "12 terms - Training error: 1.3644020663218526, Validation error: 1.4115576586718277\n",
      "13 terms - Training error: 1.3639571712564218, Validation error: 1.4111643984548667\n",
      "14 terms - Training error: 1.362887375081922, Validation error: 1.408653538329872\n",
      "15 terms - Training error: 1.3607710072411583, Validation error: 1.407300608331348\n",
      "16 terms - Training error: 1.3606072700955432, Validation error: 1.4070269804332165\n",
      "17 terms - Training error: 1.3583058745540573, Validation error: 1.4058792184209845\n",
      "18 terms - Training error: 1.3581621903605114, Validation error: 1.4059407890104012\n",
      "19 terms - Training error: 1.356412609651776, Validation error: 1.405368880957569\n",
      "20 terms - Training error: 1.3557908250241826, Validation error: 1.4047736848119143\n",
      "21 terms - Training error: 1.3545836266721707, Validation error: 1.4037128892718675\n",
      "22 terms - Training error: 1.3541626756380727, Validation error: 1.4030333405701838\n",
      "23 terms - Training error: 1.3534892466940152, Validation error: 1.401541922281861\n",
      "1 terms - Training error: 1.4191535023078712, Validation error: 1.4130786567918796\n",
      "1 terms - Training error: 1.4190889071480732, Validation error: 1.413904090992291\n",
      "2 terms - Training error: 1.4165953401651425, Validation error: 1.412815912553738\n",
      "3 terms - Training error: 1.4137123111279921, Validation error: 1.4307927544531858\n",
      "4 terms - Training error: 1.4120449297713282, Validation error: 1.432032490695444\n",
      "5 terms - Training error: 1.4118648075453821, Validation error: 1.434839350313951\n",
      "6 terms - Training error: 1.3722284965570772, Validation error: 1.3939331067221454\n",
      "7 terms - Training error: 1.3721228062001474, Validation error: 1.394397505898915\n",
      "8 terms - Training error: 1.3717147480765086, Validation error: 1.392252193122551\n",
      "9 terms - Training error: 1.3715769203921686, Validation error: 1.3944096442638478\n",
      "10 terms - Training error: 1.3710877394776244, Validation error: 1.3930536170280758\n",
      "11 terms - Training error: 1.3709666027681289, Validation error: 1.3942381761763274\n",
      "12 terms - Training error: 1.3691867247607632, Validation error: 1.3877722102197105\n",
      "13 terms - Training error: 1.3683812678819194, Validation error: 1.3888893416562695\n",
      "14 terms - Training error: 1.3674206466592063, Validation error: 1.3858454795070643\n",
      "15 terms - Training error: 1.3648549906375358, Validation error: 1.3854911709233706\n",
      "16 terms - Training error: 1.3647189652189264, Validation error: 1.3851441020184507\n",
      "17 terms - Training error: 1.3621228884466394, Validation error: 1.3843247350128831\n",
      "18 terms - Training error: 1.361999154313774, Validation error: 1.384099745899597\n",
      "19 terms - Training error: 1.3598924900841474, Validation error: 1.3843505925659967\n",
      "20 terms - Training error: 1.359423917409575, Validation error: 1.3829942083628401\n",
      "21 terms - Training error: 1.3576056156328784, Validation error: 1.3847249719400085\n",
      "22 terms - Training error: 1.3573542068891609, Validation error: 1.383414951132112\n",
      "23 terms - Training error: 1.3558427430622642, Validation error: 1.3863543313061921\n",
      "1 terms - Training error: 1.4065472279637101, Validation error: 1.463503754168526\n",
      "1 terms - Training error: 1.4065472221475577, Validation error: 1.4635014965298867\n",
      "2 terms - Training error: 1.4054683691613064, Validation error: 1.457725153929786\n",
      "3 terms - Training error: 1.4053811840357562, Validation error: 1.4571277467329484\n",
      "4 terms - Training error: 1.4038765093582606, Validation error: 1.4570182352695416\n",
      "5 terms - Training error: 1.4037910598448562, Validation error: 1.456918796491091\n",
      "6 terms - Training error: 1.373688074953333, Validation error: 1.3824647511436339\n",
      "7 terms - Training error: 1.3736876849134285, Validation error: 1.3824977011470156\n",
      "8 terms - Training error: 1.3707775003161495, Validation error: 1.393535041330112\n",
      "9 terms - Training error: 1.370672109321332, Validation error: 1.393695289677794\n",
      "10 terms - Training error: 1.36928072691414, Validation error: 1.3968851757288736\n",
      "11 terms - Training error: 1.369261809684042, Validation error: 1.3970396007592771\n",
      "12 terms - Training error: 1.3627302148378113, Validation error: 1.41529756670814\n",
      "13 terms - Training error: 1.362505610787033, Validation error: 1.413773859257434\n",
      "14 terms - Training error: 1.3590897273767093, Validation error: 1.4238989345279351\n",
      "15 terms - Training error: 1.3575596379484944, Validation error: 1.418316717608181\n",
      "16 terms - Training error: 1.3569781023806835, Validation error: 1.42024325013067\n",
      "17 terms - Training error: 1.3551855250916753, Validation error: 1.4157946826685168\n",
      "18 terms - Training error: 1.3551407706236187, Validation error: 1.4153434053972407\n",
      "19 terms - Training error: 1.3538742584768104, Validation error: 1.4125195079540855\n",
      "20 terms - Training error: 1.3531658657441599, Validation error: 1.4126943258725175\n",
      "21 terms - Training error: 1.352279113221506, Validation error: 1.4113487410650467\n",
      "22 terms - Training error: 1.3514413483643513, Validation error: 1.4127192605769128\n",
      "23 terms - Training error: 1.3508744230855287, Validation error: 1.4124099251329976\n",
      "1 terms - Training error: 1.435122209710427, Validation error: 1.3492038271816573\n",
      "1 terms - Training error: 1.4349627087537387, Validation error: 1.3502588609876591\n",
      "2 terms - Training error: 1.4307008373135637, Validation error: 1.35778438161238\n",
      "3 terms - Training error: 1.4303310493138497, Validation error: 1.3582941598539422\n",
      "4 terms - Training error: 1.4295918027525019, Validation error: 1.3554019652526705\n",
      "5 terms - Training error: 1.4295917932368343, Validation error: 1.3554108267136142\n",
      "6 terms - Training error: 1.3848297379229533, Validation error: 1.3378833151246292\n",
      "7 terms - Training error: 1.3847781613621164, Validation error: 1.33798198300214\n",
      "8 terms - Training error: 1.3835861521539154, Validation error: 1.3388096148751782\n",
      "9 terms - Training error: 1.3834023771529063, Validation error: 1.3394002256539386\n"
     ]
    },
    {
     "name": "stdout",
     "output_type": "stream",
     "text": [
      "10 terms - Training error: 1.3821734693481824, Validation error: 1.3414727639148591\n",
      "11 terms - Training error: 1.382164657307639, Validation error: 1.3415316939586424\n",
      "12 terms - Training error: 1.3770891987357143, Validation error: 1.3500015263339449\n",
      "13 terms - Training error: 1.3765468256420659, Validation error: 1.349673623446881\n",
      "14 terms - Training error: 1.3738248832205706, Validation error: 1.3547959697383463\n",
      "15 terms - Training error: 1.3712627921149039, Validation error: 1.3539426744848087\n",
      "16 terms - Training error: 1.370669296939661, Validation error: 1.3560077433533906\n",
      "17 terms - Training error: 1.3681322234534325, Validation error: 1.3548275941884973\n",
      "18 terms - Training error: 1.3681291365939852, Validation error: 1.3546487397825524\n",
      "19 terms - Training error: 1.3665542428127573, Validation error: 1.3525868553864007\n",
      "20 terms - Training error: 1.3662809771425395, Validation error: 1.3507999787532838\n",
      "21 terms - Training error: 1.3652801575100957, Validation error: 1.3491172091623274\n",
      "22 terms - Training error: 1.3650252540764314, Validation error: 1.347810935360078\n"
     ]
    },
    {
     "name": "stderr",
     "output_type": "stream",
     "text": [
      "\r",
      "\u001b[32mProgress:  17%|██████▉                                  |  ETA: 0:08:21\u001b[39m"
     ]
    },
    {
     "name": "stdout",
     "output_type": "stream",
     "text": [
      "23 terms - Training error: 1.3646758948246525, Validation error: 1.3474403510389446\n",
      "1 terms - Training error: 1.4179385332046732\n",
      "1 terms - Training error: 1.4179293299365272\n",
      "2 terms - Training error: 1.4157084019885489\n",
      "3 terms - Training error: 1.4154891148625433\n",
      "4 terms - Training error: 1.4142370327617528\n",
      "5 terms - Training error: 1.4141508672840752\n",
      "6 terms - Training error: 1.3744593066708344\n",
      "7 terms - Training error: 1.3744284616067022\n",
      "1 terms - Training error: 1.407639648602538, Validation error: 1.4591340716132126\n",
      "1 terms - Training error: 1.407503763125999, Validation error: 1.460511893291912\n",
      "2 terms - Training error: 1.406274615940514, Validation error: 1.4576218555104026\n",
      "3 terms - Training error: 1.4047371064862648, Validation error: 1.460585241513977\n",
      "4 terms - Training error: 1.3920330938274768, Validation error: 1.416788518429282\n",
      "5 terms - Training error: 1.3895767457488686, Validation error: 1.4101374949921925\n",
      "6 terms - Training error: 1.3277456959355107, Validation error: 1.385842298494911\n",
      "7 terms - Training error: 1.3249822732414547, Validation error: 1.374477882289804\n",
      "8 terms - Training error: 1.324680016864484, Validation error: 1.3790170128524912\n",
      "9 terms - Training error: 0.7010412681024212, Validation error: 0.8746899681040848\n",
      "10 terms - Training error: 0.6998043038602698, Validation error: 0.8684734248364113\n",
      "11 terms - Training error: 0.6976932344829968, Validation error: 0.876228871822103\n",
      "12 terms - Training error: 0.6973984079036147, Validation error: 0.8732928679633253\n",
      "13 terms - Training error: 0.5850042445695953, Validation error: 0.6607326773890916\n",
      "14 terms - Training error: 0.5847036401209714, Validation error: 0.6599578559287553\n",
      "15 terms - Training error: 0.5677326425632336, Validation error: 0.6273102242191242\n",
      "16 terms - Training error: 0.5672613034535927, Validation error: 0.6438977671557121\n",
      "17 terms - Training error: 0.5672055232894738, Validation error: 0.6459697639467311\n",
      "18 terms - Training error: 0.5666731805636901, Validation error: 0.6460798919245627\n",
      "19 terms - Training error: 0.565936826027432, Validation error: 0.6462567703649833\n",
      "20 terms - Training error: 0.5659307322725154, Validation error: 0.6444847812447012\n",
      "21 terms - Training error: 0.5655489772446715, Validation error: 0.6501327825186813\n",
      "22 terms - Training error: 0.5654078222276361, Validation error: 0.6672273137407382\n",
      "23 terms - Training error: 0.5653865076547493, Validation error: 0.6624310516987431\n",
      "1 terms - Training error: 1.4148650895008612, Validation error: 1.4302323080199202\n",
      "1 terms - Training error: 1.4147856636552176, Validation error: 1.4308278809301025\n",
      "2 terms - Training error: 1.4117131638523663, Validation error: 1.4364009984489399\n",
      "3 terms - Training error: 1.411546990740574, Validation error: 1.4342966026329378\n",
      "4 terms - Training error: 1.3861191401807136, Validation error: 1.4397503910365201\n",
      "5 terms - Training error: 1.3829806700189233, Validation error: 1.435943209889912\n",
      "6 terms - Training error: 1.3270783578345267, Validation error: 1.3794071274329454\n",
      "7 terms - Training error: 1.3212866390933553, Validation error: 1.384198445595991\n",
      "8 terms - Training error: 1.3210356940518673, Validation error: 1.3785552069010578\n",
      "9 terms - Training error: 1.3208234255008253, Validation error: 1.3749819418701392\n",
      "10 terms - Training error: 1.3206511341976015, Validation error: 1.374325255107557\n",
      "11 terms - Training error: 1.320651003308877, Validation error: 1.3742885105718226\n",
      "12 terms - Training error: 0.7384649098727842, Validation error: 0.6991987474653316\n",
      "13 terms - Training error: 0.736765537960438, Validation error: 0.7018388663794279\n",
      "14 terms - Training error: 0.5935899869660649, Validation error: 0.6230073967846069\n",
      "15 terms - Training error: 0.5918020766001544, Validation error: 0.6272889289084885\n",
      "16 terms - Training error: 0.5706171265391881, Validation error: 0.6127482125807581\n",
      "17 terms - Training error: 0.5699643731395213, Validation error: 0.6165970028783541\n",
      "18 terms - Training error: 0.5676299992745676, Validation error: 0.6300980206244704\n",
      "19 terms - Training error: 0.56533891527962, Validation error: 0.6436989724572902\n",
      "20 terms - Training error: 0.5373535564128069, Validation error: 0.6017909951940739\n",
      "21 terms - Training error: 0.52472055858308, Validation error: 0.5718766508564741\n",
      "22 terms - Training error: 0.5216340011905181, Validation error: 0.5537652001406504\n",
      "23 terms - Training error: 0.5212581627450505, Validation error: 0.5527663220985826\n",
      "1 terms - Training error: 1.4282929118993806, Validation error: 1.3765210184258423\n",
      "1 terms - Training error: 1.4279763203226736, Validation error: 1.3791386817186084\n",
      "2 terms - Training error: 1.4273284243963595, Validation error: 1.3748653138977718\n",
      "3 terms - Training error: 1.4240317446193727, Validation error: 1.3968033992986049\n",
      "4 terms - Training error: 0.8188735575710754, Validation error: 0.8996199625703695\n",
      "5 terms - Training error: 0.8188041643669274, Validation error: 0.8995664386390614\n",
      "6 terms - Training error: 0.7467980893853811, Validation error: 0.7985602776694771\n",
      "7 terms - Training error: 0.7467522607105447, Validation error: 0.7983640983128616\n",
      "8 terms - Training error: 0.7431160025393115, Validation error: 0.7871744255676213\n",
      "9 terms - Training error: 0.7430038344208206, Validation error: 0.7850145280109503\n",
      "10 terms - Training error: 0.6965211919514753, Validation error: 0.7522391053114224\n",
      "11 terms - Training error: 0.6927671526501832, Validation error: 0.7495033092619345\n",
      "12 terms - Training error: 0.5712894677026316, Validation error: 0.6165036057375995\n",
      "13 terms - Training error: 0.5702904738818053, Validation error: 0.6135240371895524\n",
      "14 terms - Training error: 0.5696728938710744, Validation error: 0.6146465991146378\n",
      "15 terms - Training error: 0.5690992084711819, Validation error: 0.6124060718320272\n",
      "16 terms - Training error: 0.5686173979009539, Validation error: 0.6129008535274966\n",
      "17 terms - Training error: 0.568541083999348, Validation error: 0.6127010742296497\n",
      "18 terms - Training error: 0.5683377277754729, Validation error: 0.6111632584381553\n",
      "19 terms - Training error: 0.5676502310949185, Validation error: 0.610885513843064\n",
      "20 terms - Training error: 0.5673933677907861, Validation error: 0.615383346015068\n",
      "21 terms - Training error: 0.5401524573777133, Validation error: 0.5649647784776822\n",
      "22 terms - Training error: 0.5283207894606696, Validation error: 0.533011057540845\n",
      "23 terms - Training error: 0.5057484198335706, Validation error: 0.6366520562062007\n",
      "1 terms - Training error: 1.4094209733110739, Validation error: 1.4520087727790678\n",
      "1 terms - Training error: 1.409410372178145, Validation error: 1.4520608266520034\n",
      "2 terms - Training error: 1.4058992743719783, Validation error: 1.4600637755586654\n",
      "3 terms - Training error: 1.4043961170476906, Validation error: 1.4628979357548255\n",
      "4 terms - Training error: 1.3812319360150136, Validation error: 1.458463078408042\n",
      "5 terms - Training error: 1.3773845968888891, Validation error: 1.4579629362061701\n",
      "6 terms - Training error: 1.327658609883262, Validation error: 1.37740197910393\n",
      "7 terms - Training error: 1.3236356256968913, Validation error: 1.3746455835673712\n",
      "8 terms - Training error: 1.3211896375044763, Validation error: 1.3720208697271796\n",
      "9 terms - Training error: 1.3197415298024695, Validation error: 1.3734586444791743\n",
      "10 terms - Training error: 1.3184673576852581, Validation error: 1.3764605330983963\n",
      "11 terms - Training error: 1.3184583738181286, Validation error: 1.3762323396621243\n",
      "12 terms - Training error: 0.730377282609271, Validation error: 0.7245754174128675\n",
      "13 terms - Training error: 0.7303305739134474, Validation error: 0.7230377320570837\n",
      "14 terms - Training error: 0.5946177732515829, Validation error: 0.6076620600799019\n",
      "15 terms - Training error: 0.5930403003608762, Validation error: 0.6106112610927662\n",
      "16 terms - Training error: 0.5692025407047488, Validation error: 0.6093795850749493\n",
      "17 terms - Training error: 0.5684474356076271, Validation error: 0.6138463710649905\n",
      "18 terms - Training error: 0.5677818176440397, Validation error: 0.6135424912580878\n",
      "19 terms - Training error: 0.5668774716946068, Validation error: 0.6178346381656221\n",
      "20 terms - Training error: 0.5385999767430827, Validation error: 0.5750538154525034\n",
      "21 terms - Training error: 0.5219075354974563, Validation error: 0.5600448174562026\n"
     ]
    },
    {
     "name": "stdout",
     "output_type": "stream",
     "text": [
      "22 terms - Training error: 0.5123733030184316, Validation error: 0.5666783491560742\n",
      "23 terms - Training error: 0.5117671210382871, Validation error: 0.5667564597053355\n",
      "1 terms - Training error: 1.4294740427095107, Validation error: 1.3717964951853219\n",
      "1 terms - Training error: 1.429337777462772, Validation error: 1.37318040424432\n",
      "2 terms - Training error: 1.4287200439030268, Validation error: 1.3688592274871494\n",
      "3 terms - Training error: 1.4274953965613189, Validation error: 1.3700796503791697\n",
      "4 terms - Training error: 1.4083836657161326, Validation error: 1.3484666021078404\n",
      "5 terms - Training error: 1.4031737624442875, Validation error: 1.3543698028067677\n",
      "6 terms - Training error: 1.3418397292340856, Validation error: 1.3176234083433824\n",
      "7 terms - Training error: 1.3390608882437778, Validation error: 1.3101971840318622\n",
      "8 terms - Training error: 1.333337398495972, Validation error: 1.3249576393357156\n",
      "9 terms - Training error: 1.3321699301100014, Validation error: 1.3249813978070244\n",
      "10 terms - Training error: 1.330503893423467, Validation error: 1.3307965260001327\n",
      "11 terms - Training error: 1.3303328148960578, Validation error: 1.3310005506660558\n",
      "12 terms - Training error: 1.330036429326745, Validation error: 1.3320496964623505\n",
      "13 terms - Training error: 1.3295668268987693, Validation error: 1.333011239829082\n",
      "14 terms - Training error: 1.3295657952621978, Validation error: 1.3329222489494716\n",
      "15 terms - Training error: 0.7479657607873782, Validation error: 0.6547557240344989\n",
      "16 terms - Training error: 0.7474182750757963, Validation error: 0.6527902878529189\n",
      "17 terms - Training error: 0.6058665728624985, Validation error: 0.5642563230824569\n",
      "18 terms - Training error: 0.6055022666714476, Validation error: 0.5620321987655966\n",
      "19 terms - Training error: 0.5845351822621113, Validation error: 0.5492942087590658\n",
      "20 terms - Training error: 0.5844876324646235, Validation error: 0.5489457042247832\n",
      "21 terms - Training error: 0.5844441219011127, Validation error: 0.5483635823288203\n",
      "22 terms - Training error: 0.546847422571563, Validation error: 0.5423202968629703\n",
      "23 terms - Training error: 0.5329385238898151, Validation error: 0.5188915630507246\n",
      "1 terms - Training error: 1.417938533204673\n",
      "1 terms - Training error: 1.417935827076549\n",
      "2 terms - Training error: 1.0779523668586084\n",
      "3 terms - Training error: 1.077941521684458\n",
      "4 terms - Training error: 1.0303177723912116\n",
      "5 terms - Training error: 1.0301695773241317\n",
      "6 terms - Training error: 1.0277454342133951\n",
      "7 terms - Training error: 1.027669855126611\n",
      "8 terms - Training error: 1.0276692761596469\n",
      "9 terms - Training error: 0.749897055362204\n",
      "10 terms - Training error: 0.7488833988804282\n",
      "11 terms - Training error: 0.7052577179527342\n",
      "12 terms - Training error: 0.7018107866411345\n",
      "13 terms - Training error: 0.5775429363646659\n",
      "14 terms - Training error: 0.5765861268641181\n",
      "15 terms - Training error: 0.5762991609098989\n",
      "16 terms - Training error: 0.5752619162864808\n",
      "17 terms - Training error: 0.5749086542776766\n",
      "18 terms - Training error: 0.5743797719871517\n",
      "19 terms - Training error: 0.573783204690283\n",
      "20 terms - Training error: 0.573604721104029\n",
      "21 terms - Training error: 0.542586203698893\n",
      "22 terms - Training error: 0.5263592719612501\n"
     ]
    },
    {
     "name": "stderr",
     "output_type": "stream",
     "text": [
      "\r",
      "\u001b[32mProgress:  33%|█████████████▋                           |  ETA: 0:03:47\u001b[39m"
     ]
    },
    {
     "name": "stdout",
     "output_type": "stream",
     "text": [
      "23 terms - Training error: 0.5196676220633617\n",
      "1 terms - Training error: 1.4126572897232046, Validation error: 1.439063507130546\n",
      "1 terms - Training error: 1.3974568596169938, Validation error: 1.4429617522439568\n",
      "2 terms - Training error: 1.2845107675936922, Validation error: 1.2427155868580246\n",
      "3 terms - Training error: 1.0395249622351266, Validation error: 1.029463505963952\n",
      "4 terms - Training error: 0.8742537677978443, Validation error: 0.9430883624734785\n",
      "5 terms - Training error: 0.8417170738096192, Validation error: 0.9214237355914972\n",
      "6 terms - Training error: 0.48031824025681624, Validation error: 0.7388588496891708\n",
      "7 terms - Training error: 0.4685019530734554, Validation error: 0.7053840515026542\n",
      "8 terms - Training error: 0.46807009491282725, Validation error: 0.7104225405425215\n",
      "9 terms - Training error: 0.44843263838162706, Validation error: 0.6754855499979509\n",
      "10 terms - Training error: 0.44103073594622966, Validation error: 0.6801611240404496\n",
      "11 terms - Training error: 0.44086239155569923, Validation error: 0.6673762003034459\n",
      "12 terms - Training error: 0.43636353497073493, Validation error: 0.68243558360919\n",
      "13 terms - Training error: 0.43424775994517084, Validation error: 0.7017065733706948\n",
      "14 terms - Training error: 0.43379961343740037, Validation error: 0.6990681126772108\n",
      "15 terms - Training error: 0.3847236277070364, Validation error: 0.7942265594454526\n",
      "16 terms - Training error: 0.2671569464991005, Validation error: 0.7468112886375723\n",
      "17 terms - Training error: 0.2665558798720097, Validation error: 0.7524600751559173\n",
      "18 terms - Training error: 0.25991093091144407, Validation error: 0.7245043730243884\n",
      "19 terms - Training error: 0.2588982453961158, Validation error: 0.7284047731456348\n",
      "20 terms - Training error: 0.2587379086568694, Validation error: 0.7430589943815588\n",
      "21 terms - Training error: 0.25856074697983783, Validation error: 0.7481168534319784\n",
      "22 terms - Training error: 0.1820398210076029, Validation error: 0.6241536902220689\n",
      "23 terms - Training error: 0.10492577314790077, Validation error: 0.5799957374774094\n",
      "1 terms - Training error: 1.4336599022499945, Validation error: 1.3550530570233865\n",
      "1 terms - Training error: 1.423927982157205, Validation error: 1.3363272375146857\n",
      "2 terms - Training error: 1.2653158179099002, Validation error: 1.322143726647464\n",
      "3 terms - Training error: 1.0314872932379229, Validation error: 1.0617130162927517\n",
      "4 terms - Training error: 0.8952183179015678, Validation error: 0.8569880359121493\n",
      "5 terms - Training error: 0.8735811851206707, Validation error: 0.7953178551278902\n",
      "6 terms - Training error: 0.5510341524438024, Validation error: 0.442287141466984\n",
      "7 terms - Training error: 0.5384353934625793, Validation error: 0.41216242713575185\n",
      "8 terms - Training error: 0.5323126236945155, Validation error: 0.39160474255627153\n",
      "9 terms - Training error: 0.5314241974777218, Validation error: 0.3888433806300467\n",
      "10 terms - Training error: 0.5300454029376817, Validation error: 0.390930977782093\n",
      "11 terms - Training error: 0.5020261523618894, Validation error: 0.3722246103661802\n",
      "12 terms - Training error: 0.5011316754229522, Validation error: 0.3665891264932141\n",
      "13 terms - Training error: 0.4904128771577852, Validation error: 0.3160798707275483\n",
      "14 terms - Training error: 0.390500642203825, Validation error: 0.16301904310484489\n",
      "15 terms - Training error: 0.38898181602191656, Validation error: 0.1610879101850365\n",
      "16 terms - Training error: 0.3862574086903096, Validation error: 0.15797327846919595\n",
      "17 terms - Training error: 0.3840358540481718, Validation error: 0.15704711583984352\n",
      "18 terms - Training error: 0.3734616142033066, Validation error: 0.15486708137827654\n",
      "19 terms - Training error: 0.28648821220760134, Validation error: 0.08639039125017065\n",
      "20 terms - Training error: 0.23297685816486638, Validation error: -0.02206469329710728\n",
      "21 terms - Training error: 0.20973733212916604, Validation error: -0.06637824662702554\n",
      "22 terms - Training error: 0.20808738329879722, Validation error: -0.06498260197940892\n",
      "23 terms - Training error: 0.20605216115975294, Validation error: -0.06609405552124642\n",
      "1 terms - Training error: 1.4087333606874268, Validation error: 1.454759223273657\n",
      "1 terms - Training error: 1.395246716514695, Validation error: 1.450994382375026\n",
      "2 terms - Training error: 1.2743935961609876, Validation error: 1.2822020985520013\n",
      "3 terms - Training error: 1.0423756039938872, Validation error: 1.0169697252159613\n",
      "4 terms - Training error: 0.8862326015031904, Validation error: 0.889221180082558\n",
      "5 terms - Training error: 0.8544736422010051, Validation error: 0.8645936810130226\n",
      "6 terms - Training error: 0.5422274357272155, Validation error: 0.47109062351117115\n",
      "7 terms - Training error: 0.5211993774749696, Validation error: 0.4736148076597894\n",
      "8 terms - Training error: 0.4844789855291236, Validation error: 0.631340077264605\n",
      "9 terms - Training error: 0.4831284784890026, Validation error: 0.6305317864742274\n",
      "10 terms - Training error: 0.4816594935261537, Validation error: 0.6333179554439476\n",
      "11 terms - Training error: 0.4541540471091838, Validation error: 0.6145966913756507\n",
      "12 terms - Training error: 0.4289996122707523, Validation error: 0.6452543361227705\n",
      "13 terms - Training error: 0.3254288225377735, Validation error: 0.5683066170919431\n",
      "14 terms - Training error: 0.30736377688624017, Validation error: 0.566160309946397\n",
      "15 terms - Training error: 0.3061563323065156, Validation error: 0.5632326953337387\n",
      "16 terms - Training error: 0.2983087966073462, Validation error: 0.5910205529523359\n",
      "17 terms - Training error: 0.2950688425052679, Validation error: 0.5950952253680855\n",
      "18 terms - Training error: 0.2878204705115574, Validation error: 0.5760268401870244\n",
      "19 terms - Training error: 0.28625923855138513, Validation error: 0.5879231365016792\n",
      "20 terms - Training error: 0.2833760004217142, Validation error: 0.600100484376092\n",
      "21 terms - Training error: 0.26820669690994725, Validation error: 0.6680020375585616\n",
      "22 terms - Training error: 0.19173900644070743, Validation error: 0.5615360697890017\n",
      "23 terms - Training error: 0.12326869311314967, Validation error: 0.49340250735143365\n",
      "1 terms - Training error: 1.4087650888828407, Validation error: 1.4546323104920018\n",
      "1 terms - Training error: 1.3982093143128895, Validation error: 1.4389340759928695\n",
      "2 terms - Training error: 1.2731862019707676, Validation error: 1.2855092334638845\n",
      "3 terms - Training error: 1.0355259853644048, Validation error: 1.043523644680716\n",
      "4 terms - Training error: 0.8775337954601019, Validation error: 0.9222809270419624\n",
      "5 terms - Training error: 0.8695942953283186, Validation error: 0.9324116897188284\n",
      "6 terms - Training error: 0.8389435418259755, Validation error: 0.9047928202181489\n",
      "7 terms - Training error: 0.5052228669769523, Validation error: 0.5359242803122302\n",
      "8 terms - Training error: 0.49531698952069253, Validation error: 0.5270780212604116\n",
      "9 terms - Training error: 0.4940006414098384, Validation error: 0.5258112377799763\n",
      "10 terms - Training error: 0.4932942403796476, Validation error: 0.5246468963959089\n",
      "11 terms - Training error: 0.47168752224102084, Validation error: 0.48212976434901217\n",
      "12 terms - Training error: 0.46871669288810625, Validation error: 0.4839649889307596\n",
      "13 terms - Training error: 0.4461129651110581, Validation error: 0.4733884870714635\n",
      "14 terms - Training error: 0.35292685749943287, Validation error: 0.30100661766071074\n",
      "15 terms - Training error: 0.3516911886003011, Validation error: 0.29812407032325666\n",
      "16 terms - Training error: 0.34767394925128636, Validation error: 0.2990503630387371\n",
      "17 terms - Training error: 0.3456914616122119, Validation error: 0.29658356368803707\n",
      "18 terms - Training error: 0.33673985089772995, Validation error: 0.28674154080293823\n",
      "19 terms - Training error: 0.26048484513800435, Validation error: 0.17900332726439594\n",
      "20 terms - Training error: 0.20088821283507677, Validation error: 0.09255742807966492\n",
      "21 terms - Training error: 0.17320192316415634, Validation error: 0.06489384588334007\n",
      "22 terms - Training error: 0.17108910567659993, Validation error: 0.06929033775992231\n",
      "23 terms - Training error: 0.17051538956289372, Validation error: 0.073957300088648\n",
      "1 terms - Training error: 1.425877024479898, Validation error: 1.3861845681037728\n",
      "1 terms - Training error: 1.4162803119872895, Validation error: 1.3669347209633853\n",
      "2 terms - Training error: 1.2784089595085808, Validation error: 1.2646526967312774\n",
      "3 terms - Training error: 1.0354746847786878, Validation error: 1.043878226901828\n",
      "4 terms - Training error: 0.8948843291120554, Validation error: 0.8539406214981815\n",
      "5 terms - Training error: 0.8593724947754153, Validation error: 0.8450266902645284\n",
      "6 terms - Training error: 0.5306403714675721, Validation error: 0.5225744430460779\n",
      "7 terms - Training error: 0.5114904415152097, Validation error: 0.5178758353448905\n",
      "8 terms - Training error: 0.49897916599270614, Validation error: 0.5203147932382347\n",
      "9 terms - Training error: 0.4959883471192235, Validation error: 0.5306212275785421\n",
      "10 terms - Training error: 0.49452608142949445, Validation error: 0.532776723446413\n"
     ]
    },
    {
     "name": "stdout",
     "output_type": "stream",
     "text": [
      "11 terms - Training error: 0.4927370520797404, Validation error: 0.5207478448515261\n",
      "12 terms - Training error: 0.48449314023020296, Validation error: 0.5202443494005814\n",
      "13 terms - Training error: 0.46252510610651093, Validation error: 0.5168285503546086\n",
      "14 terms - Training error: 0.46052563700311233, Validation error: 0.519924293912224\n",
      "15 terms - Training error: 0.45752065025162236, Validation error: 0.5076720053432237\n",
      "16 terms - Training error: 0.45735202643479705, Validation error: 0.5074017074257611\n",
      "17 terms - Training error: 0.45271239476220565, Validation error: 0.4956174996682216\n",
      "18 terms - Training error: 0.44999826647395663, Validation error: 0.4883671298296174\n",
      "19 terms - Training error: 0.4487350499456806, Validation error: 0.49208280846195185\n",
      "20 terms - Training error: 0.42432284699719225, Validation error: 0.43913432411845865\n",
      "21 terms - Training error: 0.4204527224379412, Validation error: 0.4342701391496943\n",
      "22 terms - Training error: 0.3954072587982273, Validation error: 0.4258156292264612\n",
      "23 terms - Training error: 0.38969524220842794, Validation error: 0.441467896139611\n",
      "1 terms - Training error: 1.417938533204673\n",
      "1 terms - Training error: 1.406324876784229\n",
      "2 terms - Training error: 1.2755924140166026\n",
      "3 terms - Training error: 1.037100992308543\n",
      "4 terms - Training error: 0.8863666155724843\n",
      "5 terms - Training error: 0.8561103531999631\n",
      "6 terms - Training error: 0.5272683643114322\n",
      "7 terms - Training error: 0.5109365939204743\n",
      "8 terms - Training error: 0.5012737848843195\n",
      "9 terms - Training error: 0.50037451281384\n",
      "10 terms - Training error: 0.49962216537280385\n",
      "11 terms - Training error: 0.4953100911285982\n",
      "12 terms - Training error: 0.4883819184560786\n",
      "13 terms - Training error: 0.4703422921341562\n",
      "14 terms - Training error: 0.46609989994783474\n",
      "15 terms - Training error: 0.46563621498176583\n",
      "16 terms - Training error: 0.4641439835235581\n",
      "17 terms - Training error: 0.4390816993253122\n",
      "18 terms - Training error: 0.3294628799240983\n",
      "19 terms - Training error: 0.3253231439822932\n",
      "20 terms - Training error: 0.24236521822046753\n",
      "21 terms - Training error: 0.17693853360001566\n",
      "22 terms - Training error: 0.1485128296247835\n",
      "23 terms - Training error: 0.14712610289545167\n"
     ]
    },
    {
     "name": "stderr",
     "output_type": "stream",
     "text": [
      "\r",
      "\u001b[32mProgress:  50%|████████████████████▌                    |  ETA: 0:01:58\u001b[39m"
     ]
    },
    {
     "name": "stdout",
     "output_type": "stream",
     "text": [
      "24 terms - Training error: 0.14356021884099132\n",
      "1 terms - Training error: 1.402487901260094, Validation error: 1.4797410609829857\n",
      "1 terms - Training error: 1.4023892502568034, Validation error: 1.480200842204526\n",
      "2 terms - Training error: 1.401163139812218, Validation error: 1.485090466507859\n",
      "3 terms - Training error: 1.0516140876694586, Validation error: 1.1063147051772975\n",
      "4 terms - Training error: 1.0514545481712319, Validation error: 1.10584731433205\n",
      "5 terms - Training error: 1.0262761948969248, Validation error: 1.0489929035625931\n",
      "6 terms - Training error: 1.026088359444849, Validation error: 1.0482308658192228\n",
      "7 terms - Training error: 0.813410111914073, Validation error: 0.9146779109793138\n",
      "8 terms - Training error: 0.8133195661046845, Validation error: 0.9130573353013341\n",
      "9 terms - Training error: 0.8116299533287734, Validation error: 0.8825073747644797\n",
      "10 terms - Training error: -0.49755588766885084, Validation error: 0.008239424968790982\n",
      "11 terms - Training error: -0.4984347054707575, Validation error: 0.017299910101347363\n",
      "12 terms - Training error: -0.5000608492283333, Validation error: 0.01813197881689213\n",
      "13 terms - Training error: -0.5163565638101879, Validation error: -0.027830748543369973\n",
      "14 terms - Training error: -0.5168056445986501, Validation error: -0.027057511840032595\n",
      "15 terms - Training error: -0.5178769685523457, Validation error: -0.022370396237122135\n",
      "16 terms - Training error: -0.5805934682172625, Validation error: -0.07614984174442199\n",
      "17 terms - Training error: -0.5839320412997814, Validation error: -0.13089409869248547\n",
      "18 terms - Training error: -3.3671667439925184, Validation error: -3.2941812416253047\n",
      "19 terms - Training error: -3.367974850457198, Validation error: -3.2916344448033223\n",
      "20 terms - Training error: -3.3768504996639845, Validation error: -3.3088383525657297\n",
      "21 terms - Training error: -3.3774766167245502, Validation error: -3.3094906743491603\n",
      "22 terms - Training error: -3.380606968271794, Validation error: -3.3124349183438064\n",
      "23 terms - Training error: -3.380692129197958, Validation error: -3.312160361834673\n",
      "1 terms - Training error: 1.4263820453918254, Validation error: 1.3841644844560597\n",
      "1 terms - Training error: 1.4263548523488416, Validation error: 1.3845071824658908\n",
      "2 terms - Training error: 1.0695353860472867, Validation error: 1.0366627904247847\n",
      "3 terms - Training error: 1.0685436307004543, Validation error: 1.0376911038706167\n",
      "4 terms - Training error: 1.0679253814110041, Validation error: 1.0394440571993446\n",
      "5 terms - Training error: 1.0318395279657073, Validation error: 1.0270312192760036\n",
      "6 terms - Training error: 1.0313621166094031, Validation error: 1.0294788354068012\n",
      "7 terms - Training error: 1.0297206183373104, Validation error: 1.022533749598518\n",
      "8 terms - Training error: 1.0296671418107999, Validation error: 1.0225674792848805\n",
      "9 terms - Training error: 1.0264479583807644, Validation error: 1.014037368620859\n",
      "10 terms - Training error: 0.9415963364240663, Validation error: 0.9445906357692507\n",
      "11 terms - Training error: 0.9413489108743446, Validation error: 0.9441092415600775\n",
      "12 terms - Training error: 0.941279862820615, Validation error: 0.9438897561120166\n",
      "13 terms - Training error: -0.3674141773910384, Validation error: -0.6398095670696221\n",
      "14 terms - Training error: -0.369139120121975, Validation error: -0.6499513677241997\n",
      "15 terms - Training error: -0.6000765021088824, Validation error: -0.7685574076418847\n",
      "16 terms - Training error: -0.600322660965208, Validation error: -0.7717770326589699\n",
      "17 terms - Training error: -0.6067460300654269, Validation error: -0.778738356636862\n",
      "18 terms - Training error: -3.337852640270054, Validation error: -3.409744335590445\n",
      "19 terms - Training error: -3.338388952305835, Validation error: -3.4098227953372824\n",
      "20 terms - Training error: -3.35137069656538, Validation error: -3.3932674390212796\n",
      "21 terms - Training error: -3.3519392472891134, Validation error: -3.3950074602478018\n",
      "22 terms - Training error: -3.3548474224947182, Validation error: -3.4125675841493353\n",
      "23 terms - Training error: -3.3549265611876518, Validation error: -3.412230826041024\n",
      "1 terms - Training error: 1.4191526701029695, Validation error: 1.413081985611484\n",
      "1 terms - Training error: 1.419088063476926, Validation error: 1.413907473269555\n",
      "2 terms - Training error: 1.4165945180917634, Validation error: 1.412819325364466\n",
      "3 terms - Training error: 1.4137120528947835, Validation error: 1.430794700276851\n",
      "4 terms - Training error: 1.4120444974493431, Validation error: 1.432035239290145\n",
      "5 terms - Training error: 1.4082575370695156, Validation error: 1.4589313284553662\n",
      "6 terms - Training error: -0.449703943987083, Validation error: -0.3401646125213847\n",
      "7 terms - Training error: -0.49201016918145063, Validation error: -0.17345736004730414\n",
      "8 terms - Training error: -3.354804117915697, Validation error: -3.341080548680641\n",
      "9 terms - Training error: -3.35486759224216, Validation error: -3.3410591225574175\n",
      "10 terms - Training error: -3.3554555268837793, Validation error: -3.3418237108999693\n",
      "11 terms - Training error: -3.3697483728195294, Validation error: -3.337659578118101\n",
      "12 terms - Training error: -3.372445277117309, Validation error: -3.3418815048706456\n",
      "13 terms - Training error: -3.372446427183697, Validation error: -3.3418821257042706\n",
      "14 terms - Training error: -3.3724660246332, Validation error: -3.34190121037081\n",
      "15 terms - Training error: -3.372479845662919, Validation error: -3.3418766570904546\n",
      "16 terms - Training error: -3.3805245241114164, Validation error: -3.351286672150273\n",
      "17 terms - Training error: -3.3808058769653333, Validation error: -3.356253627354879\n",
      "18 terms - Training error: -3.4595500197579105, Validation error: -3.4336354501725355\n",
      "19 terms - Training error: -3.459718550851461, Validation error: -3.434741162039622\n",
      "20 terms - Training error: -3.464589519017828, Validation error: -3.4397251063825958\n",
      "21 terms - Training error: -3.4646020405787405, Validation error: -3.4397822523326815\n",
      "22 terms - Training error: -3.4646953738831057, Validation error: -3.4399407524887526\n",
      "23 terms - Training error: -3.465951987906822, Validation error: -3.447120996341422\n",
      "1 terms - Training error: 1.4065474390062127, Validation error: 1.4635029099985122\n",
      "1 terms - Training error: 1.4064949537264522, Validation error: 1.4638356459684885\n",
      "2 terms - Training error: 1.065843365143072, Validation error: 1.0508060810345643\n",
      "3 terms - Training error: 1.065581326493529, Validation error: 1.0491446660361907\n",
      "4 terms - Training error: 1.065242571618679, Validation error: 1.0494455722945844\n",
      "5 terms - Training error: 1.0327930172177389, Validation error: 1.0223754362790016\n",
      "6 terms - Training error: 1.0311552652141476, Validation error: 1.0260076616854794\n",
      "7 terms - Training error: 0.9422901733158136, Validation error: 0.9493237307847257\n",
      "8 terms - Training error: 0.9420082758530163, Validation error: 0.9502064762909098\n",
      "9 terms - Training error: 0.9419573979591305, Validation error: 0.950183249091973\n",
      "10 terms - Training error: 0.9400885447147936, Validation error: 0.9501169052042148\n",
      "11 terms - Training error: 0.9392595622148724, Validation error: 0.9523785571154761\n",
      "12 terms - Training error: 0.9390585282323807, Validation error: 0.9533860021146838\n",
      "13 terms - Training error: 0.9389494917399408, Validation error: 0.9544691785000083\n",
      "14 terms - Training error: 0.9385579765852202, Validation error: 0.954760299607713\n",
      "15 terms - Training error: 0.9326092120320235, Validation error: 0.9393557040272359\n",
      "16 terms - Training error: 0.9320823898496182, Validation error: 0.9373665518543198\n",
      "17 terms - Training error: 0.9196394344576199, Validation error: 0.9198363914248188\n",
      "18 terms - Training error: 0.9196230938774802, Validation error: 0.919535151281925\n",
      "19 terms - Training error: -0.5684203832716046, Validation error: -0.22778317433189046\n",
      "20 terms - Training error: -0.5854011655728216, Validation error: -0.258030058858261\n",
      "21 terms - Training error: -3.3628504341257264, Validation error: -3.299279991978561\n",
      "22 terms - Training error: -3.3638732403302907, Validation error: -3.303202306773886\n",
      "23 terms - Training error: -3.36412878406664, Validation error: -3.303040825672519\n",
      "1 terms - Training error: 1.4351226102622605, Validation error: 1.3492022249743216\n",
      "1 terms - Training error: 1.4349631222646642, Validation error: 1.350257269902993\n",
      "2 terms - Training error: 1.43070123345877, Validation error: 1.3577830436478806\n",
      "3 terms - Training error: 1.4293452298251785, Validation error: 1.3629628793079138\n",
      "4 terms - Training error: 0.9123876468623546, Validation error: 0.7698462078760779\n",
      "5 terms - Training error: 0.9110870498213453, Validation error: 0.7711395322166609\n",
      "6 terms - Training error: 0.8529395719666553, Validation error: 0.7130807456846646\n",
      "7 terms - Training error: 0.850762934543338, Validation error: 0.714676303667563\n",
      "8 terms - Training error: 0.8486263105665948, Validation error: 0.7176787968871354\n",
      "9 terms - Training error: 0.8441890252028478, Validation error: 0.7145860551677056\n"
     ]
    },
    {
     "name": "stdout",
     "output_type": "stream",
     "text": [
      "10 terms - Training error: 0.7208583652307227, Validation error: 0.6317729470248006\n",
      "11 terms - Training error: 0.7051364737243109, Validation error: 0.6148488284121696\n",
      "12 terms - Training error: -0.5552849387056068, Validation error: -0.841832676233174\n",
      "13 terms - Training error: -0.558027910982808, Validation error: -0.8470084660268847\n",
      "14 terms - Training error: -0.5588425557581497, Validation error: -0.8505059023398037\n",
      "15 terms - Training error: -0.5597952282715164, Validation error: -0.859564438290087\n",
      "16 terms - Training error: -0.9553516199516131, Validation error: -1.2188510866154791\n",
      "17 terms - Training error: -0.9636312832879506, Validation error: -1.2245379459028725\n",
      "18 terms - Training error: -0.988590446507196, Validation error: -1.227293735236993\n",
      "19 terms - Training error: -0.9966900136660736, Validation error: -1.2114741858972546\n",
      "20 terms - Training error: -1.0748928358852536, Validation error: -1.2330392175728426\n",
      "21 terms - Training error: -1.0841198657286155, Validation error: -1.2767101001472114\n",
      "22 terms - Training error: -3.3466926069078955, Validation error: -3.3856107130338007\n",
      "23 terms - Training error: -3.355255015281527, Validation error: -3.3988077834821526\n",
      "1 terms - Training error: 1.4179385332046726\n",
      "1 terms - Training error: 1.417918463740278\n",
      "2 terms - Training error: 0.961557095545724\n",
      "3 terms - Training error: 0.9614663383812381\n",
      "4 terms - Training error: 0.9200438252208313\n",
      "5 terms - Training error: 0.9199485900517678\n",
      "6 terms - Training error: -0.4757982327028039\n",
      "7 terms - Training error: -0.4883701202169323\n",
      "8 terms - Training error: -3.3525694075401917\n",
      "9 terms - Training error: -3.3526153726137933\n",
      "10 terms - Training error: -3.353232126982518\n",
      "11 terms - Training error: -3.363815735114036\n",
      "12 terms - Training error: -3.366929931592964\n",
      "13 terms - Training error: -3.3669610031729964\n",
      "14 terms - Training error: -3.3686113434210174\n",
      "15 terms - Training error: -3.3686247026646496\n",
      "16 terms - Training error: -3.3686923877898503\n",
      "17 terms - Training error: -3.3710168287941547\n",
      "18 terms - Training error: -3.45598013914579\n",
      "19 terms - Training error: -3.4563685982679404\n",
      "20 terms - Training error: -3.4612350358059\n",
      "21 terms - Training error: -3.4612571393540503\n",
      "22 terms - Training error: -3.461366952531497\n",
      "23 terms - Training error: -3.463977207341256\n"
     ]
    },
    {
     "name": "stderr",
     "output_type": "stream",
     "text": [
      "\r",
      "\u001b[32mProgress:  67%|███████████████████████████▍             |  ETA: 0:01:26\u001b[39m"
     ]
    },
    {
     "name": "stdout",
     "output_type": "stream",
     "text": [
      "24 terms - Training error: -3.5226718339804455\n",
      "1 terms - Training error: 1.4076400238639177, Validation error: 1.4591325705676925\n",
      "1 terms - Training error: 1.407159285414271, Validation error: 1.4619913820308807\n",
      "2 terms - Training error: 1.4047865407143003, Validation error: 1.4715482551937902\n",
      "3 terms - Training error: 0.9772196622258285, Validation error: 1.022890564754062\n",
      "4 terms - Training error: 0.9771141117189223, Validation error: 1.0221923055421571\n",
      "5 terms - Training error: 0.921594572467924, Validation error: 0.9314394058173644\n",
      "6 terms - Training error: 0.9214960861751297, Validation error: 0.9303585289871028\n",
      "7 terms - Training error: 0.9190311843908406, Validation error: 0.9204300505685138\n",
      "8 terms - Training error: 0.9188656247797532, Validation error: 0.922728628263582\n",
      "9 terms - Training error: -0.5319342497870617, Validation error: -0.3391346934690774\n",
      "10 terms - Training error: -0.5319643452811795, Validation error: -0.33917038012261447\n",
      "11 terms - Training error: -0.5423354272472978, Validation error: -0.20712791314300205\n",
      "12 terms - Training error: -2.303266439442234, Validation error: Inf\n",
      "13 terms - Training error: -2.303266439442229, Validation error: Inf\n",
      "14 terms - Training error: -2.3032664394422024, Validation error: Inf\n",
      "15 terms - Training error: -2.3032664394421904, Validation error: Inf\n",
      "16 terms - Training error: -2.303266439442179, Validation error: Inf\n",
      "17 terms - Training error: -2.303266439442145, Validation error: Inf\n",
      "18 terms - Training error: -2.30326643944216, Validation error: Inf\n",
      "19 terms - Training error: Inf, Validation error: Inf\n",
      "20 terms - Training error: Inf, Validation error: Inf\n",
      "21 terms - Training error: Inf, Validation error: Inf\n",
      "22 terms - Training error: Inf, Validation error: Inf\n",
      "23 terms - Training error: Inf, Validation error: Inf\n",
      "1 terms - Training error: 1.4148648055970245, Validation error: 1.4302334436352666\n",
      "1 terms - Training error: 1.4147853829566266, Validation error: 1.4308289854854217\n",
      "2 terms - Training error: 1.4117129074910457, Validation error: 1.4364022723450336\n",
      "3 terms - Training error: 1.4115467718826802, Validation error: 1.4342979474748043\n",
      "4 terms - Training error: 1.386119142448458, Validation error: 1.4397518164879148\n",
      "5 terms - Training error: 1.3829807539051018, Validation error: 1.435944555974948\n",
      "6 terms - Training error: 1.3270780133416182, Validation error: 1.3794081500079378\n",
      "7 terms - Training error: 1.3212872762826717, Validation error: 1.3841977316959566\n",
      "8 terms - Training error: 1.32076389527392, Validation error: 1.3813192091278694\n"
     ]
    },
    {
     "name": "stderr",
     "output_type": "stream",
     "text": [
      "┌ Warning: Failed to achieve finite new evaluation point, using alpha=0\n",
      "└ @ LineSearches /home/mat/.julia/packages/LineSearches/Ki4c5/src/hagerzhang.jl:148\n"
     ]
    },
    {
     "name": "stdout",
     "output_type": "stream",
     "text": [
      "9 terms - Training error: 1.3194828165680879, Validation error: 1.3919401828700082\n",
      "10 terms - Training error: 1.3189620398121844, Validation error: 1.3984408139503675\n",
      "11 terms - Training error: -0.5359419294963034, Validation error: -0.4041274579255197\n",
      "12 terms - Training error: -0.6353092702894153, Validation error: -0.24601191341735695\n",
      "13 terms - Training error: -2.665444078247997, Validation error: Inf\n",
      "14 terms - Training error: -2.681995325983541, Validation error: -2.1011740606398215\n",
      "15 terms - Training error: -2.714884287714553, Validation error: -2.2090035657672225\n",
      "16 terms - Training error: -3.2437790099624113, Validation error: -3.1981446313498263\n",
      "17 terms - Training error: -3.2567625765218695, Validation error: -3.181957412378882\n",
      "18 terms - Training error: -3.2959189092743104, Validation error: -3.170615544466747\n",
      "19 terms - Training error: -3.36100000789324, Validation error: -3.117147527292393\n",
      "20 terms - Training error: -3.3625310744578054, Validation error: -3.110651060959782\n",
      "21 terms - Training error: -3.3640700790316433, Validation error: -3.1036817757495427\n",
      "22 terms - Training error: -3.3640791832160097, Validation error: -3.103685727772475\n",
      "23 terms - Training error: -3.3640958072687903, Validation error: -3.1037022112084465\n",
      "1 terms - Training error: 1.428293803212663, Validation error: 1.376517453172711\n",
      "1 terms - Training error: 1.4279771600186255, Validation error: 1.379135553384503\n",
      "2 terms - Training error: 1.4273292841741856, Validation error: 1.3748623112580913\n",
      "3 terms - Training error: 1.4240323751565152, Validation error: 1.3968017867165927\n",
      "4 terms - Training error: 0.8188689638055481, Validation error: 0.8996192076432028\n",
      "5 terms - Training error: 0.8178159033022611, Validation error: 0.9016391608356225\n",
      "6 terms - Training error: 0.8096723055020842, Validation error: 0.9363510388381069\n",
      "7 terms - Training error: 0.7925259860027022, Validation error: 1.0012829523215712\n",
      "8 terms - Training error: -0.12345178893389994, Validation error: -0.24946963211996262\n",
      "9 terms - Training error: -0.12461110951287123, Validation error: -0.2505007361158314\n",
      "10 terms - Training error: -0.2942228393405821, Validation error: -0.44804845975809904\n",
      "11 terms - Training error: -0.3176199893694603, Validation error: -0.45304973580257574\n",
      "12 terms - Training error: -2.3165607042958976, Validation error: -2.605490058779589\n",
      "13 terms - Training error: -2.3214751633040334, Validation error: -2.6066422263417173\n",
      "14 terms - Training error: -2.3214751633061343, Validation error: -2.606642226346567\n",
      "15 terms - Training error: -2.321475163309335, Validation error: -2.60664222635374\n",
      "16 terms - Training error: -2.3204615005411484, Validation error: -2.606642226358341\n",
      "17 terms - Training error: -2.3213887553831336, Validation error: -2.6054965611422984\n",
      "18 terms - Training error: -2.321391971948393, Validation error: -2.605379962574138\n",
      "19 terms - Training error: -2.3213919719505234, Validation error: -2.605379962578825\n",
      "20 terms - Training error: -2.3213919719526164, Validation error: -2.605379962583552\n",
      "21 terms - Training error: -2.321393881344775, Validation error: -2.6053089810613206\n",
      "22 terms - Training error: -2.321393881346927, Validation error: -2.605308981066115\n",
      "23 terms - Training error: -2.3213950154223815, Validation error: -2.605274605183162\n",
      "1 terms - Training error: 1.4094196778312713, Validation error: 1.4520139546982802\n",
      "1 terms - Training error: 1.409373047254068, Validation error: 1.451976658754674\n",
      "2 terms - Training error: 1.4089928476570717, Validation error: 1.4556431159355763\n",
      "3 terms - Training error: 1.408079868471656, Validation error: 1.4555073923719508\n",
      "4 terms - Training error: 1.4071603557248231, Validation error: 1.4477598327213042\n",
      "5 terms - Training error: 1.4069057266126626, Validation error: 1.4490443435114897\n",
      "6 terms - Training error: 0.9882236894951872, Validation error: 0.976863743374663\n",
      "7 terms - Training error: 0.9848811535180895, Validation error: 0.9738978090949881\n",
      "8 terms - Training error: 0.9235745782461086, Validation error: 0.9210269215512107\n",
      "9 terms - Training error: 0.9232056912582438, Validation error: 0.9207442178765586\n",
      "10 terms - Training error: 0.9222568996638097, Validation error: 0.9208268654808839\n",
      "11 terms - Training error: 0.9191478553902934, Validation error: 0.9190882587816726\n",
      "12 terms - Training error: 0.9189823497377754, Validation error: 0.9198760700391604\n",
      "13 terms - Training error: -0.5469187337598012, Validation error: -0.3032262345971783\n",
      "14 terms - Training error: -0.5514079072482976, Validation error: -0.28536721226716477\n",
      "15 terms - Training error: -1.2821985027641607, Validation error: -1.7020898471805668\n"
     ]
    },
    {
     "name": "stderr",
     "output_type": "stream",
     "text": [
      "┌ Warning: Failed to achieve finite new evaluation point, using alpha=0\n",
      "└ @ LineSearches /home/mat/.julia/packages/LineSearches/Ki4c5/src/hagerzhang.jl:148\n"
     ]
    },
    {
     "name": "stdout",
     "output_type": "stream",
     "text": [
      "16 terms - Training error: -1.2821985027641363, Validation error: -1.7020898471805406\n",
      "17 terms - Training error: Inf, Validation error: -1.7020898471804735\n"
     ]
    },
    {
     "name": "stderr",
     "output_type": "stream",
     "text": [
      "┌ Warning: Failed to achieve finite new evaluation point, using alpha=0\n",
      "└ @ LineSearches /home/mat/.julia/packages/LineSearches/Ki4c5/src/hagerzhang.jl:148\n"
     ]
    },
    {
     "name": "stdout",
     "output_type": "stream",
     "text": [
      "18 terms - Training error: -1.2821985027640381, Validation error: -1.7020898471804438\n",
      "19 terms - Training error: Inf, Validation error: -1.7020898471804011\n"
     ]
    },
    {
     "name": "stderr",
     "output_type": "stream",
     "text": [
      "┌ Warning: Failed to achieve finite new evaluation point, using alpha=0\n",
      "└ @ LineSearches /home/mat/.julia/packages/LineSearches/Ki4c5/src/hagerzhang.jl:148\n"
     ]
    },
    {
     "name": "stdout",
     "output_type": "stream",
     "text": [
      "20 terms - Training error: Inf, Validation error: -1.70208984718038\n"
     ]
    },
    {
     "name": "stderr",
     "output_type": "stream",
     "text": [
      "┌ Warning: Failed to achieve finite new evaluation point, using alpha=0\n",
      "└ @ LineSearches /home/mat/.julia/packages/LineSearches/Ki4c5/src/hagerzhang.jl:148\n"
     ]
    },
    {
     "name": "stdout",
     "output_type": "stream",
     "text": [
      "21 terms - Training error: Inf, Validation error: -1.8246141394882\n",
      "22 terms - Training error: Inf, Validation error: -1.8246141394881272\n",
      "23 terms - Training error: Inf, Validation error: -1.82461413948807\n",
      "1 terms - Training error: 1.4294743555184881, Validation error: 1.3717952439494132\n",
      "1 terms - Training error: 1.4291811140095847, Validation error: 1.3732952303408883\n",
      "2 terms - Training error: 1.4283849576694156, Validation error: 1.373459692197821\n",
      "3 terms - Training error: 0.9854507147944048, Validation error: 0.986897107136753\n",
      "4 terms - Training error: 0.9850576796037086, Validation error: 0.9873165387963855\n",
      "5 terms - Training error: 0.9237678233369097, Validation error: 0.9222760618095246\n",
      "6 terms - Training error: 0.9234440122517601, Validation error: 0.9218500172542722\n",
      "7 terms - Training error: 0.9192896245205153, Validation error: 0.9190957367783015\n"
     ]
    },
    {
     "name": "stderr",
     "output_type": "stream",
     "text": [
      "┌ Warning: Failed to achieve finite new evaluation point, using alpha=0\n",
      "└ @ LineSearches /home/mat/.julia/packages/LineSearches/Ki4c5/src/hagerzhang.jl:148\n"
     ]
    },
    {
     "name": "stdout",
     "output_type": "stream",
     "text": [
      "8 terms - Training error: 0.9190006687107298, Validation error: 0.9227310980807878\n",
      "9 terms - Training error: -0.4611961740477137, Validation error: -0.6304721312209501\n",
      "10 terms - Training error: -0.4612747802708593, Validation error: -0.6302933312300153\n",
      "11 terms - Training error: -0.46441476433422274, Validation error: -0.6301722193740967\n",
      "12 terms - Training error: -0.46728613438051986, Validation error: -0.6337589565734362\n",
      "13 terms - Training error: -0.47397014503015034, Validation error: -0.6223036201822765\n",
      "14 terms - Training error: Inf, Validation error: -1.112461528528584\n",
      "15 terms - Training error: Inf, Validation error: -1.1124615285285606\n",
      "16 terms - Training error: Inf, Validation error: -1.112461528528529\n",
      "17 terms - Training error: Inf, Validation error: -1.112461528528491\n",
      "18 terms - Training error: Inf, Validation error: -1.1124615285284651\n",
      "19 terms - Training error: Inf, Validation error: -1.1124615285284447\n",
      "20 terms - Training error: Inf, Validation error: -1.112461528528407\n",
      "21 terms - Training error: Inf, Validation error: -1.1124615285283928\n",
      "22 terms - Training error: Inf, Validation error: -1.1124615285283583\n",
      "23 terms - Training error: Inf, Validation error: -1.1124615285283546\n",
      "1 terms - Training error: 1.417938533204673\n",
      "1 terms - Training error: 1.4178937571831205\n",
      "2 terms - Training error: 1.4171875839312769\n",
      "3 terms - Training error: 1.4155139577812716\n",
      "4 terms - Training error: 1.4153604726414866\n",
      "5 terms - Training error: 1.3957839545630082\n",
      "6 terms - Training error: 1.3915009521313215\n",
      "7 terms - Training error: 1.3356386870587411\n",
      "8 terms - Training error: 1.3316079808171153\n",
      "9 terms - Training error: 1.3292200731700787\n",
      "10 terms - Training error: 1.3292142826310722\n",
      "11 terms - Training error: 1.3288460425640949\n"
     ]
    },
    {
     "name": "stderr",
     "output_type": "stream",
     "text": [
      "\r",
      "\u001b[32mProgress:  83%|██████████████████████████████████▏      |  ETA: 0:00:45\u001b[39m"
     ]
    },
    {
     "name": "stdout",
     "output_type": "stream",
     "text": [
      "12 terms - Training error: 1.326964001125637\n",
      "1 terms - Training error: 1.4126568129262074, Validation error: 1.4390654143185306\n",
      "1 terms - Training error: 1.397456248013696, Validation error: 1.4429645288379063\n",
      "2 terms - Training error: 1.2845102048360537, Validation error: 1.2427203998381293\n",
      "3 terms - Training error: 1.0395237875126704, Validation error: 1.0294592502318847\n",
      "4 terms - Training error: 0.8742499274995442, Validation error: 0.9430796006808136\n",
      "5 terms - Training error: 0.8417133218875125, Validation error: 0.92141632966941\n",
      "6 terms - Training error: 0.48030734015084525, Validation error: 0.7388532719946806\n",
      "7 terms - Training error: 0.46849410323151214, Validation error: 0.705379734278826\n",
      "8 terms - Training error: 0.2739810544463309, Validation error: 0.7162543894886659\n",
      "9 terms - Training error: -0.9065070934416208, Validation error: -0.28866657812907687\n",
      "10 terms - Training error: -0.9232605058381339, Validation error: -0.29225940450953297\n",
      "11 terms - Training error: -1.260967784446711, Validation error: -0.5796596322606544\n",
      "12 terms - Training error: -1.2629485896682031, Validation error: -0.6022382557418113\n",
      "13 terms - Training error: -1.2744125986589352, Validation error: -0.5998367677729373\n",
      "14 terms - Training error: -1.2794163877600586, Validation error: -0.6003089194651792\n",
      "15 terms - Training error: -1.5325036988470564, Validation error: -0.9717094277353134\n",
      "16 terms - Training error: -1.6002029308666494, Validation error: -1.0895726202411187\n",
      "17 terms - Training error: -3.400438409188167, Validation error: -2.7498060313162584\n",
      "18 terms - Training error: -3.4016683429449386, Validation error: -2.7453613596294075\n",
      "19 terms - Training error: -3.4027589494840536, Validation error: -2.7380633964455288\n",
      "20 terms - Training error: -3.417927549581769, Validation error: -2.7207764066252573\n",
      "21 terms - Training error: -3.4187195892467797, Validation error: -2.7176786181760813\n",
      "22 terms - Training error: -3.4187296539233176, Validation error: -2.717936712527711\n",
      "23 terms - Training error: -3.419295523856045, Validation error: -2.716849961091251\n",
      "1 terms - Training error: 1.4336612558023651, Validation error: 1.3550476428139007\n",
      "1 terms - Training error: 1.4239293242224382, Validation error: 1.3363220646582599\n",
      "2 terms - Training error: 1.265316654403848, Validation error: 1.3221432358115097\n",
      "3 terms - Training error: 1.031485271084173, Validation error: 1.0617124180809794\n",
      "4 terms - Training error: 0.895213697913452, Validation error: 0.856983250754977\n",
      "5 terms - Training error: 0.8735769123482406, Validation error: 0.7953132379247866\n",
      "6 terms - Training error: 0.5510247367911127, Validation error: 0.4422747223331911\n",
      "7 terms - Training error: 0.5384282185046845, Validation error: 0.41215391100255055\n",
      "8 terms - Training error: 0.39643283048730893, Validation error: 0.1966751132553672\n",
      "9 terms - Training error: -0.7079052449264129, Validation error: -1.1320067432587408\n",
      "10 terms - Training error: -0.7107263397522084, Validation error: -1.1383112940998468\n",
      "11 terms - Training error: -0.9954422840158256, Validation error: -1.473978678271649\n",
      "12 terms - Training error: -1.0151845512920685, Validation error: -1.4743148092902554\n",
      "13 terms - Training error: -1.2525256525856898, Validation error: -1.716266842241056\n",
      "14 terms - Training error: -1.2846742130932587, Validation error: -1.7516020307702602\n",
      "15 terms - Training error: -1.2946696696254685, Validation error: -1.7593362287335506\n",
      "16 terms - Training error: -1.326338949355708, Validation error: -1.7390538898700596\n",
      "17 terms - Training error: -1.3298538045937427, Validation error: -1.7364104754126926\n",
      "18 terms - Training error: -1.4191844706181627, Validation error: -1.7270161385605116\n",
      "19 terms - Training error: -3.2950866779443393, Validation error: -3.3649206761106543\n",
      "20 terms - Training error: -3.3017105659887878, Validation error: -3.363649995949977\n",
      "21 terms - Training error: -3.3340317509670205, Validation error: -3.356261229668534\n",
      "22 terms - Training error: -3.334657458545865, Validation error: -3.3573775326929876\n",
      "23 terms - Training error: -3.366281507963601, Validation error: -3.4194341030552358\n",
      "1 terms - Training error: 1.4087333399651862, Validation error: 1.4547593061626152\n",
      "1 terms - Training error: 1.3952468397805438, Validation error: 1.4509940593979478\n",
      "2 terms - Training error: 1.2743941500250993, Validation error: 1.28220179233258\n",
      "3 terms - Training error: 1.0423745075691724, Validation error: 1.0169672742396658\n",
      "4 terms - Training error: 0.8862315468626654, Validation error: 0.8892119046361763\n",
      "5 terms - Training error: 0.8544736190333326, Validation error: 0.8645842808113242\n",
      "6 terms - Training error: 0.54221774149223, Validation error: 0.47107373609800235\n",
      "7 terms - Training error: 0.5211888627743477, Validation error: 0.4736016565188756\n",
      "8 terms - Training error: 0.4844722165115374, Validation error: 0.6313116855415805\n",
      "9 terms - Training error: 0.3101685793482468, Validation error: 0.5336488507704515\n",
      "10 terms - Training error: -0.8277587624024789, Validation error: -0.6749560209705616\n",
      "11 terms - Training error: -0.8499423219326877, Validation error: -0.6606097115738327\n",
      "12 terms - Training error: -0.8780562297411176, Validation error: -0.6464718249873235\n",
      "13 terms - Training error: -1.2010910630344318, Validation error: -0.9548659021366632\n",
      "14 terms - Training error: -1.2053670101658815, Validation error: -0.961869627389914\n",
      "15 terms - Training error: -1.2087846910700226, Validation error: -0.9585540181405717\n",
      "16 terms - Training error: -1.2302834109651228, Validation error: -0.976531106603728\n",
      "17 terms - Training error: -1.2564823103749452, Validation error: -0.9175790811442514\n",
      "18 terms - Training error: -1.2635922981204566, Validation error: -0.9145451664463337\n",
      "19 terms - Training error: -1.5080599543967106, Validation error: -1.2269503155218027\n",
      "20 terms - Training error: -1.575536928040309, Validation error: -1.344458759707674\n",
      "21 terms - Training error: -3.3012581397426635, Validation error: -3.3476375397322817\n",
      "22 terms - Training error: -3.3035021946760774, Validation error: -3.3523609367442018\n",
      "23 terms - Training error: -3.3122582106110747, Validation error: -3.353437650065679\n",
      "1 terms - Training error: 1.4087645311284411, Validation error: 1.454634541509596\n",
      "1 terms - Training error: 1.3982088250187557, Validation error: 1.4389362582355725\n",
      "2 terms - Training error: 1.2731860335802012, Validation error: 1.2855124858576523\n",
      "3 terms - Training error: 1.035523184568994, Validation error: 1.0435260228145427\n",
      "4 terms - Training error: 0.8775244470775213, Validation error: 0.9222952521064517\n",
      "5 terms - Training error: 0.8695848785307513, Validation error: 0.9324329332938905\n",
      "6 terms - Training error: 0.8389331942581297, Validation error: 0.9048195346832738\n",
      "7 terms - Training error: 0.5052126445837002, Validation error: 0.5359288166799903\n",
      "8 terms - Training error: 0.3468558460372967, Validation error: 0.3821231131449039\n",
      "9 terms - Training error: -0.8089864964965795, Validation error: -0.7500006099802354\n",
      "10 terms - Training error: -0.8146124137499514, Validation error: -0.7452284825934451\n",
      "11 terms - Training error: -1.115005253417893, Validation error: -1.0192952518015728\n",
      "12 terms - Training error: -1.1642162717941658, Validation error: -1.0780399462072143\n",
      "13 terms - Training error: -1.171827083663416, Validation error: -1.068533330817274\n",
      "14 terms - Training error: -1.1820768632998362, Validation error: -1.0702718655494048\n",
      "15 terms - Training error: -1.2009854130882527, Validation error: -1.1244867991855048\n",
      "16 terms - Training error: -1.20710517575634, Validation error: -1.1087308834604974\n",
      "17 terms - Training error: -1.2529877634608748, Validation error: -1.091353117677048\n",
      "18 terms - Training error: -3.2916052160092395, Validation error: -3.3844679548047876\n",
      "19 terms - Training error: -3.2928727733275336, Validation error: -3.3858647832167565\n",
      "20 terms - Training error: -3.293316330177406, Validation error: -3.386073104401198\n",
      "21 terms - Training error: -3.2986243212448163, Validation error: -3.3945913671199412\n",
      "22 terms - Training error: -3.3012971441856394, Validation error: -3.393346409831604\n",
      "23 terms - Training error: -3.340106743349491, Validation error: -3.351317591142995\n",
      "1 terms - Training error: 1.4258767262011602, Validation error: 1.3861857612187192\n",
      "1 terms - Training error: 1.4162800249478658, Validation error: 1.3669360630134288\n",
      "2 terms - Training error: 1.2784091797647206, Validation error: 1.26465375119404\n",
      "3 terms - Training error: 1.0354733680256476, Validation error: 1.0438765336866125\n",
      "4 terms - Training error: 0.89488137964136, Validation error: 0.8539386128185735\n",
      "5 terms - Training error: 0.8593712907510839, Validation error: 0.8450215459755999\n",
      "6 terms - Training error: 0.530630482196112, Validation error: 0.5225576708285815\n",
      "7 terms - Training error: 0.5114809306296398, Validation error: 0.5178572402835728\n"
     ]
    },
    {
     "name": "stdout",
     "output_type": "stream",
     "text": [
      "8 terms - Training error: 0.3722653011734766, Validation error: 0.29354420486336474\n",
      "9 terms - Training error: -0.7791065817906708, Validation error: -0.8610639252725412\n",
      "10 terms - Training error: -0.7835777985607221, Validation error: -0.8618741559890121\n",
      "11 terms - Training error: -0.7943587855641893, Validation error: -0.8483535089585248\n",
      "12 terms - Training error: -1.029645419597549, Validation error: -1.101264419331723\n",
      "13 terms - Training error: -1.2899485465552354, Validation error: -1.569062028313116\n",
      "14 terms - Training error: -1.3384477751795607, Validation error: -1.534724765698626\n",
      "15 terms - Training error: -1.3475053961385897, Validation error: -1.5471097010615125\n",
      "16 terms - Training error: -1.3835701744514242, Validation error: -1.49907454414412\n",
      "17 terms - Training error: -1.4497395042128227, Validation error: -1.5701476482222856\n",
      "18 terms - Training error: -3.2988596924474596, Validation error: -3.35581696995272\n",
      "19 terms - Training error: -3.303086035045711, Validation error: -3.364467706701086\n",
      "20 terms - Training error: -3.3327052169137796, Validation error: -3.3715767425076693\n",
      "21 terms - Training error: -3.3335641326111087, Validation error: -3.3700605446339136\n",
      "22 terms - Training error: -3.383540766179291, Validation error: -3.3527039889634933\n",
      "23 terms - Training error: -3.387361362177307, Validation error: -3.3587936353761934\n",
      "1 terms - Training error: 1.4179385332046721\n",
      "1 terms - Training error: 1.4063249180486272\n",
      "2 terms - Training error: 1.2755928057062706\n",
      "3 terms - Training error: 1.0370996080516302\n",
      "4 terms - Training error: 0.8863638860642811\n",
      "5 terms - Training error: 0.8561084247235536\n",
      "6 terms - Training error: 0.5272572240663496\n",
      "7 terms - Training error: 0.5109254541222636\n",
      "8 terms - Training error: 0.3535291017572629\n",
      "9 terms - Training error: -0.7985379277807132\n",
      "10 terms - Training error: -0.8023236626258005\n",
      "11 terms - Training error: -0.8183314303491084\n",
      "12 terms - Training error: -0.8393722463853212\n",
      "13 terms - Training error: -1.1631831040924836\n",
      "14 terms - Training error: -1.1674837241983853\n",
      "15 terms - Training error: -1.1884915722247533\n",
      "16 terms - Training error: -1.1912617324693926\n",
      "17 terms - Training error: -1.2050569581380144\n",
      "18 terms - Training error: -1.2104069329532965\n",
      "19 terms - Training error: -1.4610217205318003\n",
      "20 terms - Training error: -1.537772432426725\n",
      "21 terms - Training error: -3.313316870518767\n",
      "22 terms - Training error: -3.315919752639262\n",
      "23 terms - Training error: -3.3239214196803286\n"
     ]
    },
    {
     "name": "stderr",
     "output_type": "stream",
     "text": [
      "\r",
      "\u001b[32mProgress: 100%|█████████████████████████████████████████| Time: 0:04:20\u001b[39m\n"
     ]
    },
    {
     "name": "stdout",
     "output_type": "stream",
     "text": [
      "24 terms - Training error: -3.32444252065153\n",
      "260.392352 seconds (71.36 M allocations: 305.390 GiB, 5.17% gc time)\n"
     ]
    },
    {
     "data": {
      "text/plain": [
       "HermiteMap(25, 6, LinearTransform(6, [-0.29363871694641197, -0.32849668713410946, 23.973264410882066, -0.2941460734785516, -0.3290105026606614, 23.972766580779815], [7.957852780911305 0.0 … 0.0 0.0; 0.0 8.973255906962134 … 0.0 0.0; … ; 0.0 0.0 … 8.973254768629733 0.0; 0.0 0.0 … 0.0 8.501866596978735], true), MapComponent[Map component of dimension 1 with Nψ 7 active features\n",
       ", Map component of dimension 2 with Nψ 23 active features\n",
       ", Map component of dimension 3 with Nψ 24 active features\n",
       ", Map component of dimension 4 with Nψ 24 active features\n",
       ", Map component of dimension 5 with Nψ 12 active features\n",
       ", Map component of dimension 6 with Nψ 24 active features\n",
       "])"
      ]
     },
     "execution_count": 31,
     "metadata": {},
     "output_type": "execute_result"
    }
   ],
   "source": [
    "@time optimize(S, X, \"kfolds\"; withqr = true, verbose = true, hessprecond = false)"
   ]
  },
  {
   "cell_type": "code",
   "execution_count": 27,
   "metadata": {},
   "outputs": [
    {
     "name": "stdout",
     "output_type": "stream",
     "text": [
      "1 terms - Training error: 1.4024878875727165, Validation error: 1.4797411157324993\n",
      "1 terms - Training error: 1.402444649719568, Validation error: 1.4799305298645082\n",
      "2 terms - Training error: 1.4007375152705963, Validation error: 1.475829862657197\n",
      "3 terms - Training error: 1.400673844269276, Validation error: 1.477601631337505\n",
      "4 terms - Training error: 1.3958924832572113, Validation error: 1.4971202401328343\n",
      "5 terms - Training error: 1.3953862894054343, Validation error: 1.4992464135730093\n",
      "6 terms - Training error: 1.3630828172521938, Validation error: 1.4353442575123476\n",
      "7 terms - Training error: 1.3630799428186493, Validation error: 1.4352704953926836\n",
      "8 terms - Training error: 1.363074093656457, Validation error: 1.4360262608509897\n",
      "9 terms - Training error: 1.3627931313786694, Validation error: 1.4374839463240694\n",
      "10 terms - Training error: 1.362386737705718, Validation error: 1.4359270238886113\n",
      "11 terms - Training error: 1.3623570657815105, Validation error: 1.43619684194813\n",
      "12 terms - Training error: 1.361366472419439, Validation error: 1.428712035381642\n",
      "13 terms - Training error: 1.361077973230114, Validation error: 1.4274214357364816\n",
      "14 terms - Training error: 1.3608703214706426, Validation error: 1.4239070176071953\n",
      "15 terms - Training error: 1.3594250652941648, Validation error: 1.4191947921648314\n",
      "16 terms - Training error: 1.3593225856662958, Validation error: 1.4215666300537726\n",
      "17 terms - Training error: 1.357561015216349, Validation error: 1.4180576392639792\n",
      "18 terms - Training error: 1.3561978465247992, Validation error: 1.4263634313783193\n",
      "19 terms - Training error: 1.3545561590585644, Validation error: 1.4253990475679406\n",
      "20 terms - Training error: 1.3524462358188793, Validation error: 1.4332564098812326\n",
      "21 terms - Training error: 1.3512193521486364, Validation error: 1.433067813199436\n",
      "22 terms - Training error: 1.3500803980514815, Validation error: 1.4359086957776983\n",
      "23 terms - Training error: 1.349394262216435, Validation error: 1.4355820573920142\n",
      "1 terms - Training error: 1.4263818384686406, Validation error: 1.3841653121488031\n",
      "1 terms - Training error: 1.4263662873869265, Validation error: 1.3841856463503324\n",
      "2 terms - Training error: 1.4242363246041696, Validation error: 1.3816057710909837\n",
      "3 terms - Training error: 1.4242362505134678, Validation error: 1.3816465536739242\n",
      "4 terms - Training error: 1.4242105343889955, Validation error: 1.3801168918291191\n",
      "5 terms - Training error: 1.4234436113154993, Validation error: 1.384527466011706\n",
      "6 terms - Training error: 1.368205994769412, Validation error: 1.4156629357156527\n",
      "7 terms - Training error: 1.3680758941442979, Validation error: 1.4162181150129076\n",
      "8 terms - Training error: 1.3664363586110915, Validation error: 1.4193372224879794\n",
      "9 terms - Training error: 1.3663833346609042, Validation error: 1.4193988384774143\n",
      "10 terms - Training error: 1.3661494071634475, Validation error: 1.4176033052258366\n",
      "11 terms - Training error: 1.3661487169076267, Validation error: 1.417608265524277\n",
      "12 terms - Training error: 1.3644020663218521, Validation error: 1.4115576608931537\n",
      "13 terms - Training error: 1.3639571712567777, Validation error: 1.4111643905183109\n",
      "14 terms - Training error: 1.3628873750787032, Validation error: 1.4086538739678176\n",
      "15 terms - Training error: 1.3607710071527497, Validation error: 1.4073038954111414\n",
      "16 terms - Training error: 1.3606072685202202, Validation error: 1.4070386723291555\n",
      "17 terms - Training error: 1.3583054300331407, Validation error: 1.406012057098279\n",
      "18 terms - Training error: 1.3581620848489613, Validation error: 1.4059652273857486\n",
      "19 terms - Training error: 1.356411466678869, Validation error: 1.4053397676647572\n",
      "20 terms - Training error: 1.355789810484721, Validation error: 1.4049689947852138\n",
      "21 terms - Training error: 1.3545796315031904, Validation error: 1.404135960630244\n",
      "22 terms - Training error: 1.354157299306338, Validation error: 1.4037218218644567\n",
      "23 terms - Training error: 1.353478560956531, Validation error: 1.402620206447076\n",
      "1 terms - Training error: 1.4191535023078712, Validation error: 1.4130786567918796\n",
      "1 terms - Training error: 1.4190889071480712, Validation error: 1.4139040856653537\n",
      "2 terms - Training error: 1.4165953401651412, Validation error: 1.4128159159000682\n",
      "3 terms - Training error: 1.41371231112799, Validation error: 1.4307927632785267\n",
      "4 terms - Training error: 1.4120449297713284, Validation error: 1.4320324906845945\n",
      "5 terms - Training error: 1.411864807545383, Validation error: 1.4348393379785565\n",
      "6 terms - Training error: 1.3722284965570666, Validation error: 1.3939331099584031\n",
      "7 terms - Training error: 1.3721228062001467, Validation error: 1.3943975065180816\n",
      "8 terms - Training error: 1.3717147480765086, Validation error: 1.392252192762347\n",
      "9 terms - Training error: 1.3715769203921695, Validation error: 1.3944096432174542\n",
      "10 terms - Training error: 1.3710877394776246, Validation error: 1.3930536168492584\n",
      "11 terms - Training error: 1.3709666027681275, Validation error: 1.3942381793419643\n",
      "12 terms - Training error: 1.3691867247607639, Validation error: 1.3877722118839797\n",
      "13 terms - Training error: 1.3683812678827556, Validation error: 1.3888893390892447\n",
      "14 terms - Training error: 1.3674206466395904, Validation error: 1.3858466603644282\n",
      "15 terms - Training error: 1.3648549906264316, Validation error: 1.3854904091862796\n",
      "16 terms - Training error: 1.3647189651640337, Validation error: 1.3851466985783099\n",
      "17 terms - Training error: 1.3621226162177251, Validation error: 1.3844135018496915\n",
      "18 terms - Training error: 1.3619991376564806, Validation error: 1.3841338849941287\n",
      "19 terms - Training error: 1.359891397388743, Validation error: 1.3844976328024714\n",
      "20 terms - Training error: 1.3594232925109795, Validation error: 1.3830939542427136\n",
      "21 terms - Training error: 1.3575983792277164, Validation error: 1.384958187693536\n",
      "22 terms - Training error: 1.3573480182706472, Validation error: 1.3836732726922967\n",
      "23 terms - Training error: 1.355824759076037, Validation error: 1.3868663380928332\n",
      "1 terms - Training error: 1.4065472279637101, Validation error: 1.463503754168526\n",
      "1 terms - Training error: 1.4065472221475581, Validation error: 1.4635014965298847\n",
      "2 terms - Training error: 1.4054683691613061, Validation error: 1.457725153219387\n",
      "3 terms - Training error: 1.4053811840357548, Validation error: 1.4571277459077043\n",
      "4 terms - Training error: 1.4038765093582606, Validation error: 1.4570182352685612\n",
      "5 terms - Training error: 1.4037910598448564, Validation error: 1.4569187964022534\n",
      "6 terms - Training error: 1.373688074953333, Validation error: 1.3824647511369492\n",
      "7 terms - Training error: 1.373687684913416, Validation error: 1.3824977183254359\n",
      "8 terms - Training error: 1.37077750031615, Validation error: 1.3935350387902288\n",
      "9 terms - Training error: 1.3706721093213319, Validation error: 1.3936952897567902\n",
      "10 terms - Training error: 1.3692807269141407, Validation error: 1.3968851724788085\n",
      "11 terms - Training error: 1.369261809684042, Validation error: 1.3970396006842325\n",
      "12 terms - Training error: 1.3627302148378089, Validation error: 1.4152975568415218\n",
      "13 terms - Training error: 1.3625056107870712, Validation error: 1.4137738451048967\n",
      "14 terms - Training error: 1.3590897273681504, Validation error: 1.4238986930494393\n",
      "15 terms - Training error: 1.3575596379157393, Validation error: 1.4183170347866545\n",
      "16 terms - Training error: 1.3569781021700833, Validation error: 1.420241370662136\n",
      "17 terms - Training error: 1.3551852516730767, Validation error: 1.4156601665427433\n",
      "18 terms - Training error: 1.3551407385879612, Validation error: 1.4153505101824837\n",
      "19 terms - Training error: 1.353873985094379, Validation error: 1.4125257326178096\n",
      "20 terms - Training error: 1.3531652448593496, Validation error: 1.4126471394417897\n",
      "21 terms - Training error: 1.3522770050080273, Validation error: 1.4111358050909095\n",
      "22 terms - Training error: 1.3514342182713999, Validation error: 1.4127670685316955\n",
      "23 terms - Training error: 1.3508693296783567, Validation error: 1.412266895377416\n",
      "1 terms - Training error: 1.435122209710427, Validation error: 1.3492038271816573\n",
      "1 terms - Training error: 1.434962708753737, Validation error: 1.3502588593072582\n",
      "2 terms - Training error: 1.430700837313564, Validation error: 1.3577843816286885\n",
      "3 terms - Training error: 1.4303310493138504, Validation error: 1.3582941598627158\n",
      "4 terms - Training error: 1.4295918027524754, Validation error: 1.3554019346995576\n",
      "5 terms - Training error: 1.4295917932368336, Validation error: 1.3554108268718306\n",
      "6 terms - Training error: 1.3848297379229535, Validation error: 1.3378833147697307\n",
      "7 terms - Training error: 1.3847781613621164, Validation error: 1.3379819832130906\n",
      "8 terms - Training error: 1.3835861521539161, Validation error: 1.3388096191101593\n"
     ]
    },
    {
     "name": "stdout",
     "output_type": "stream",
     "text": [
      "9 terms - Training error: 1.3834023771529067, Validation error: 1.3394002247301682\n",
      "10 terms - Training error: 1.3821734693481817, Validation error: 1.3414727664926895\n",
      "11 terms - Training error: 1.3821646573076392, Validation error: 1.3415316940346471\n",
      "12 terms - Training error: 1.3770891987357192, Validation error: 1.3500015369636529\n",
      "13 terms - Training error: 1.3765468256422477, Validation error: 1.3496736312508923\n",
      "14 terms - Training error: 1.3738248832199138, Validation error: 1.354796036586816\n",
      "15 terms - Training error: 1.371262792110664, Validation error: 1.3539429415940754\n",
      "16 terms - Training error: 1.3706692936930889, Validation error: 1.3560112961985242\n",
      "17 terms - Training error: 1.3681321333071332, Validation error: 1.3548537093094728\n",
      "18 terms - Training error: 1.3681291332846734, Validation error: 1.3546645179118932\n",
      "19 terms - Training error: 1.366553285137944, Validation error: 1.3527759102674093\n",
      "20 terms - Training error: 1.36628061307295, Validation error: 1.3509448532276642\n",
      "21 terms - Training error: 1.3652772743125043, Validation error: 1.3491966207478197\n",
      "22 terms - Training error: 1.3650229256312632, Validation error: 1.3479237048150616\n",
      "23 terms - Training error: 1.3643951998396189, Validation error: 1.3468126909982459\n",
      "1 terms - Training error: 1.4179385332046732\n"
     ]
    },
    {
     "name": "stderr",
     "output_type": "stream",
     "text": [
      "\r",
      "\u001b[32mProgress:  17%|██████▉                                  |  ETA: 0:03:03\u001b[39m"
     ]
    },
    {
     "name": "stdout",
     "output_type": "stream",
     "text": [
      "1 terms - Training error: 1.4179293299365272\n",
      "2 terms - Training error: 1.4157084019885233\n",
      "3 terms - Training error: 1.4154891148625033\n",
      "4 terms - Training error: 1.4142370327617533\n",
      "5 terms - Training error: 1.4141508672840746\n",
      "6 terms - Training error: 1.374459306670834\n",
      "7 terms - Training error: 1.3744284616067024\n",
      "1 terms - Training error: 1.407639648602538, Validation error: 1.4591340716132126\n",
      "1 terms - Training error: 1.4075037631259915, Validation error: 1.460511881635061\n",
      "2 terms - Training error: 1.4062746159405137, Validation error: 1.4576218556424614\n",
      "3 terms - Training error: 1.4047371064862653, Validation error: 1.4605852451519419\n",
      "4 terms - Training error: 1.392033093827476, Validation error: 1.4167885123465576\n",
      "5 terms - Training error: 1.3895767457488366, Validation error: 1.4101375020223106\n",
      "6 terms - Training error: 1.3277456959355107, Validation error: 1.385842298120672\n",
      "7 terms - Training error: 1.3249822732414551, Validation error: 1.3744778824521855\n",
      "8 terms - Training error: 1.3246800168644837, Validation error: 1.3790170162378106\n",
      "9 terms - Training error: 0.7010412681024131, Validation error: 0.8746899492207959\n",
      "10 terms - Training error: 0.6998043038602599, Validation error: 0.8684734162850789\n",
      "11 terms - Training error: 0.6976932344829965, Validation error: 0.876228873798878\n",
      "12 terms - Training error: 0.6973984079035622, Validation error: 0.8732930443453838\n",
      "13 terms - Training error: 0.5850042445699486, Validation error: 0.6607330084381403\n",
      "14 terms - Training error: 0.5847036401209625, Validation error: 0.6599577161660766\n",
      "15 terms - Training error: 0.5677326425632857, Validation error: 0.6273100497257098\n",
      "16 terms - Training error: 0.5672613034586044, Validation error: 0.6438982814474179\n",
      "17 terms - Training error: 0.5672055232929099, Validation error: 0.6459701402516156\n",
      "18 terms - Training error: 0.5666731811531663, Validation error: 0.6460789710427356\n",
      "19 terms - Training error: 0.5659368260314256, Validation error: 0.646258011570382\n",
      "20 terms - Training error: 0.5659307322732713, Validation error: 0.6444855333623074\n",
      "21 terms - Training error: 0.5655489772464504, Validation error: 0.6501338062888429\n",
      "22 terms - Training error: 0.5654078390830378, Validation error: 0.6671897233928624\n",
      "23 terms - Training error: 0.5653865079821678, Validation error: 0.6624240842446051\n",
      "1 terms - Training error: 1.4148650895008612, Validation error: 1.4302323080199202\n",
      "1 terms - Training error: 1.4147856636552176, Validation error: 1.4308278809512027\n",
      "2 terms - Training error: 1.411713163852366, Validation error: 1.4364009984181385\n",
      "3 terms - Training error: 1.4115469907405733, Validation error: 1.4342966026214947\n",
      "4 terms - Training error: 1.3861191401807134, Validation error: 1.4397503911217246\n",
      "5 terms - Training error: 1.3829806700189236, Validation error: 1.4359432099594327\n",
      "6 terms - Training error: 1.3270783578345264, Validation error: 1.3794071268891994\n",
      "7 terms - Training error: 1.321286639093355, Validation error: 1.38419844725583\n",
      "8 terms - Training error: 1.3210356940518675, Validation error: 1.378555209150607\n",
      "9 terms - Training error: 1.3208234255008258, Validation error: 1.3749819395122889\n",
      "10 terms - Training error: 1.320651134197606, Validation error: 1.3743252762797353\n",
      "11 terms - Training error: 1.320651003308873, Validation error: 1.3742885003394043\n",
      "12 terms - Training error: 0.7384649098727848, Validation error: 0.6991987660790803\n",
      "13 terms - Training error: 0.7367655379604364, Validation error: 0.701838877260283\n",
      "14 terms - Training error: 0.593589986966169, Validation error: 0.6230075180502691\n",
      "15 terms - Training error: 0.591802076600169, Validation error: 0.6272889044459473\n",
      "16 terms - Training error: 0.570617126672056, Validation error: 0.6127474410475209\n",
      "17 terms - Training error: 0.5699643731444932, Validation error: 0.6165971523462014\n",
      "18 terms - Training error: 0.5676299992876814, Validation error: 0.6300973839387775\n",
      "19 terms - Training error: 0.5653389152828664, Validation error: 0.6436988500137814\n",
      "20 terms - Training error: 0.5373535564129808, Validation error: 0.6017910329413045\n",
      "21 terms - Training error: 0.5247205585854346, Validation error: 0.5718765101440111\n",
      "22 terms - Training error: 0.5216340011925088, Validation error: 0.5537653067744767\n",
      "23 terms - Training error: 0.5212581627469056, Validation error: 0.5527663990216835\n",
      "1 terms - Training error: 1.4282929118993806, Validation error: 1.3765210184258423\n",
      "1 terms - Training error: 1.4279763203226703, Validation error: 1.3791386722663788\n",
      "2 terms - Training error: 1.4273284243963595, Validation error: 1.3748653140376876\n",
      "3 terms - Training error: 1.4240317446193724, Validation error: 1.396803400191824\n",
      "4 terms - Training error: 0.8188735575710755, Validation error: 0.8996199626085513\n",
      "5 terms - Training error: 0.8188041643669206, Validation error: 0.8995664183124242\n",
      "6 terms - Training error: 0.746798089385381, Validation error: 0.7985602777471298\n",
      "7 terms - Training error: 0.7467522607105448, Validation error: 0.7983640986417576\n",
      "8 terms - Training error: 0.7431160025393115, Validation error: 0.7871744255016065\n",
      "9 terms - Training error: 0.7430038344208206, Validation error: 0.7850145263078367\n",
      "10 terms - Training error: 0.696521191951459, Validation error: 0.7522390997491044\n",
      "11 terms - Training error: 0.6927671526501833, Validation error: 0.7495033094476866\n",
      "12 terms - Training error: 0.5712894677026316, Validation error: 0.6165036052108676\n",
      "13 terms - Training error: 0.570290473881796, Validation error: 0.6135240423892742\n",
      "14 terms - Training error: 0.569672893871076, Validation error: 0.6146465981104955\n",
      "15 terms - Training error: 0.5690992084714832, Validation error: 0.6124061283020124\n",
      "16 terms - Training error: 0.5686173979040827, Validation error: 0.6129007959158389\n",
      "17 terms - Training error: 0.5685410839997236, Validation error: 0.6127011018167542\n",
      "18 terms - Training error: 0.568337727776812, Validation error: 0.611163275842633\n",
      "19 terms - Training error: 0.5676502311004374, Validation error: 0.6108856829928989\n",
      "20 terms - Training error: 0.5673933677952112, Validation error: 0.6153832946113978\n",
      "21 terms - Training error: 0.5401524573785864, Validation error: 0.5649648344302227\n",
      "22 terms - Training error: 0.5283207894736378, Validation error: 0.5330112948574162\n",
      "23 terms - Training error: 0.5057484201718098, Validation error: 0.6366575995806193\n",
      "1 terms - Training error: 1.4094209733110739, Validation error: 1.4520087727790678\n",
      "1 terms - Training error: 1.4094103721781452, Validation error: 1.4520608266607162\n",
      "2 terms - Training error: 1.4058992743719785, Validation error: 1.4600637755504318\n",
      "3 terms - Training error: 1.4043961170476902, Validation error: 1.4628979351796647\n",
      "4 terms - Training error: 1.3812319360150134, Validation error: 1.4584630785556127\n",
      "5 terms - Training error: 1.377384596888889, Validation error: 1.4579629361175372\n",
      "6 terms - Training error: 1.327658609883262, Validation error: 1.37740198097216\n",
      "7 terms - Training error: 1.3236356256968902, Validation error: 1.374645583140213\n",
      "8 terms - Training error: 1.3211896375044652, Validation error: 1.3720208768432738\n",
      "9 terms - Training error: 1.3197415298024688, Validation error: 1.373458644069819\n",
      "10 terms - Training error: 1.318467357685258, Validation error: 1.3764605309845543\n",
      "11 terms - Training error: 1.318458373818128, Validation error: 1.376232339149468\n",
      "12 terms - Training error: 0.7303772826092634, Validation error: 0.7245754272880225\n",
      "13 terms - Training error: 0.7303305739134486, Validation error: 0.7230377366082107\n",
      "14 terms - Training error: 0.5946177732515708, Validation error: 0.6076620529431974\n",
      "15 terms - Training error: 0.5930403003611742, Validation error: 0.6106112530425756\n",
      "16 terms - Training error: 0.569202540707551, Validation error: 0.6093794124720121\n",
      "17 terms - Training error: 0.5684474356117106, Validation error: 0.6138463059422313\n",
      "18 terms - Training error: 0.5677818176606684, Validation error: 0.6135426961615494\n",
      "19 terms - Training error: 0.5668774716979743, Validation error: 0.6178347386851367\n",
      "20 terms - Training error: 0.5385999767444799, Validation error: 0.5750537383664116\n",
      "21 terms - Training error: 0.5219075355043377, Validation error: 0.5600447805239641\n",
      "22 terms - Training error: 0.5123733030209545, Validation error: 0.5666781241840582\n"
     ]
    },
    {
     "name": "stdout",
     "output_type": "stream",
     "text": [
      "23 terms - Training error: 0.5117671210451311, Validation error: 0.5667563646438125\n",
      "1 terms - Training error: 1.4294740427095107, Validation error: 1.3717964951853219\n",
      "1 terms - Training error: 1.4293377774627631, Validation error: 1.3731803919235313\n",
      "2 terms - Training error: 1.428720043903027, Validation error: 1.3688592277661071\n",
      "3 terms - Training error: 1.4274953965613186, Validation error: 1.37007965302931\n",
      "4 terms - Training error: 1.4083836657161328, Validation error: 1.3484666020705807\n",
      "5 terms - Training error: 1.4031737624442875, Validation error: 1.3543698030147724\n",
      "6 terms - Training error: 1.3418397292340851, Validation error: 1.3176234078538882\n",
      "7 terms - Training error: 1.3390608882437762, Validation error: 1.3101971838077517\n",
      "8 terms - Training error: 1.3333373984959722, Validation error: 1.3249576387997952\n",
      "9 terms - Training error: 1.332169930110001, Validation error: 1.3249813976418563\n",
      "10 terms - Training error: 1.330503893423467, Validation error: 1.3307965265607538\n",
      "11 terms - Training error: 1.3303328148960578, Validation error: 1.3310005481596237\n",
      "12 terms - Training error: 1.3300364293267328, Validation error: 1.3320496910442783\n",
      "13 terms - Training error: 1.32956682689878, Validation error: 1.333011218290867\n",
      "14 terms - Training error: 1.3295657952866504, Validation error: 1.3329222413337236\n",
      "15 terms - Training error: 0.7479657607876365, Validation error: 0.6547556738696548\n",
      "16 terms - Training error: 0.7474182750762551, Validation error: 0.6527902705309299\n",
      "17 terms - Training error: 0.6058665728740621, Validation error: 0.5642562640902219\n",
      "18 terms - Training error: 0.6055022666747123, Validation error: 0.5620321884042371\n",
      "19 terms - Training error: 0.5845351827130383, Validation error: 0.549291806196479\n",
      "20 terms - Training error: 0.5844876324692638, Validation error: 0.5489457709471759\n",
      "21 terms - Training error: 0.5844441219056042, Validation error: 0.5483634007579353\n",
      "22 terms - Training error: 0.5468474225720229, Validation error: 0.542320452290234\n",
      "23 terms - Training error: 0.5329385238944522, Validation error: 0.5188914431315503\n",
      "1 terms - Training error: 1.417938533204673\n",
      "1 terms - Training error: 1.417935827076549\n",
      "2 terms - Training error: 1.0779523668586066\n",
      "3 terms - Training error: 1.0779415216844577\n",
      "4 terms - Training error: 1.0303177723912114\n",
      "5 terms - Training error: 1.030169577324132\n",
      "6 terms - Training error: 1.0277454342133951\n",
      "7 terms - Training error: 1.0276698551266108\n",
      "8 terms - Training error: 1.0276692761596469\n",
      "9 terms - Training error: 0.7498970553621913\n",
      "10 terms - Training error: 0.7488833988804282\n",
      "11 terms - Training error: 0.7052577179527132\n",
      "12 terms - Training error: 0.7018107866411175\n",
      "13 terms - Training error: 0.5775429363646678\n",
      "14 terms - Training error: 0.576586126864176\n",
      "15 terms - Training error: 0.5762991609104534\n",
      "16 terms - Training error: 0.575261916286946\n",
      "17 terms - Training error: 0.5749086542851694\n",
      "18 terms - Training error: 0.5743797719921708\n",
      "19 terms - Training error: 0.5737832046919346\n",
      "20 terms - Training error: 0.5736047211078503\n",
      "21 terms - Training error: 0.5425862036998755\n",
      "22 terms - Training error: 0.526359272031055\n"
     ]
    },
    {
     "name": "stderr",
     "output_type": "stream",
     "text": [
      "\r",
      "\u001b[32mProgress:  33%|█████████████▋                           |  ETA: 0:07:17\u001b[39m"
     ]
    },
    {
     "name": "stdout",
     "output_type": "stream",
     "text": [
      "23 terms - Training error: 0.5196676220669635\n",
      "1 terms - Training error: 1.4126572897232046, Validation error: 1.439063507130546\n",
      "1 terms - Training error: 1.3974568596169938, Validation error: 1.4429617522439568\n",
      "2 terms - Training error: 1.2845107675936924, Validation error: 1.242715586899988\n",
      "3 terms - Training error: 1.0395249622351268, Validation error: 1.0294635048791658\n",
      "4 terms - Training error: 0.8742537677978443, Validation error: 0.9430883611863493\n",
      "5 terms - Training error: 0.8417170738096192, Validation error: 0.9214237370417242\n",
      "6 terms - Training error: 0.48031824025679676, Validation error: 0.7388588703785259\n",
      "7 terms - Training error: 0.4685019530734552, Validation error: 0.7053840553760243\n",
      "8 terms - Training error: 0.46807009491282703, Validation error: 0.7104225433771073\n",
      "9 terms - Training error: 0.4484326383816268, Validation error: 0.6754855505651044\n",
      "10 terms - Training error: 0.44103073594620407, Validation error: 0.6801610711192959\n",
      "11 terms - Training error: 0.440862391555661, Validation error: 0.6673762894097527\n",
      "12 terms - Training error: 0.4363635349707349, Validation error: 0.6824355810197549\n",
      "13 terms - Training error: 0.43424775994517056, Validation error: 0.7017065333025366\n",
      "14 terms - Training error: 0.4337996134374086, Validation error: 0.6990680281025275\n",
      "15 terms - Training error: 0.3847236277073419, Validation error: 0.7942267852244146\n",
      "16 terms - Training error: 0.267156946499206, Validation error: 0.7468114773000777\n",
      "17 terms - Training error: 0.26655587987289076, Validation error: 0.7524607045630752\n",
      "18 terms - Training error: 0.2599109309119012, Validation error: 0.7245039480701195\n",
      "19 terms - Training error: 0.2588982453990129, Validation error: 0.7284044073513544\n",
      "20 terms - Training error: 0.2587379086577432, Validation error: 0.7430584727695608\n",
      "21 terms - Training error: 0.25856074697987974, Validation error: 0.7481167827352642\n",
      "22 terms - Training error: 0.1820398210194944, Validation error: 0.6241546048755483\n",
      "23 terms - Training error: 0.10492577322942892, Validation error: 0.5799933702287519\n",
      "1 terms - Training error: 1.4336599022499945, Validation error: 1.3550530570233865\n",
      "1 terms - Training error: 1.423927982157205, Validation error: 1.3363272375146857\n",
      "2 terms - Training error: 1.2653158179098947, Validation error: 1.322143711100467\n",
      "3 terms - Training error: 1.0314872932379227, Validation error: 1.06171301645153\n",
      "4 terms - Training error: 0.8952183179015681, Validation error: 0.8569880361833762\n",
      "5 terms - Training error: 0.8735811851206707, Validation error: 0.7953178546225479\n",
      "6 terms - Training error: 0.5510341524437733, Validation error: 0.44228717806116596\n",
      "7 terms - Training error: 0.5384353934625508, Validation error: 0.4121624352322821\n",
      "8 terms - Training error: 0.532312623694515, Validation error: 0.39160474882417806\n",
      "9 terms - Training error: 0.5314241974777199, Validation error: 0.3888433720283766\n",
      "10 terms - Training error: 0.5300454029376689, Validation error: 0.3909309590691668\n",
      "11 terms - Training error: 0.502026152361887, Validation error: 0.37222461677899055\n",
      "12 terms - Training error: 0.5011316754229549, Validation error: 0.36658913323979897\n",
      "13 terms - Training error: 0.49041287715778703, Validation error: 0.3160798560423101\n",
      "14 terms - Training error: 0.39050064220379144, Validation error: 0.16301894142332368\n",
      "15 terms - Training error: 0.388981816021944, Validation error: 0.16108793728197596\n",
      "16 terms - Training error: 0.38625740869032255, Validation error: 0.15797330778074317\n",
      "17 terms - Training error: 0.38403585404862106, Validation error: 0.1570471941688527\n",
      "18 terms - Training error: 0.37346161420404084, Validation error: 0.1548672070610935\n",
      "19 terms - Training error: 0.2864882122081773, Validation error: 0.08639022872049973\n",
      "20 terms - Training error: 0.23297685817082434, Validation error: -0.022065021263199154\n",
      "21 terms - Training error: 0.20973733220629007, Validation error: -0.06637715430263579\n",
      "22 terms - Training error: 0.20808738331670024, Validation error: -0.06498184593331119\n",
      "23 terms - Training error: 0.2060521614220433, Validation error: -0.06609290427992516\n",
      "1 terms - Training error: 1.4087333606874268, Validation error: 1.454759223273657\n",
      "1 terms - Training error: 1.395246716514695, Validation error: 1.450994382375026\n",
      "2 terms - Training error: 1.2743935961609874, Validation error: 1.2822020992823655\n",
      "3 terms - Training error: 1.0423756039938874, Validation error: 1.0169697250236422\n",
      "4 terms - Training error: 0.8862326015031902, Validation error: 0.8892211800593369\n",
      "5 terms - Training error: 0.854473642201005, Validation error: 0.8645936809040616\n",
      "6 terms - Training error: 0.5422274357272033, Validation error: 0.47109060667935065\n",
      "7 terms - Training error: 0.5211993774749674, Validation error: 0.473614808076289\n",
      "8 terms - Training error: 0.48447898552912305, Validation error: 0.6313400758262613\n",
      "9 terms - Training error: 0.4831284784890027, Validation error: 0.6305317837612696\n",
      "10 terms - Training error: 0.4816594935261475, Validation error: 0.6333179967873338\n",
      "11 terms - Training error: 0.4541540471091835, Validation error: 0.6145966895737333\n",
      "12 terms - Training error: 0.42899961227075184, Validation error: 0.6452543294462646\n",
      "13 terms - Training error: 0.3254288225377625, Validation error: 0.5683065949156658\n",
      "14 terms - Training error: 0.3073637768864776, Validation error: 0.5661601121859525\n",
      "15 terms - Training error: 0.30615633230665595, Validation error: 0.5632326314220777\n",
      "16 terms - Training error: 0.2983087966075405, Validation error: 0.5910205396348776\n",
      "17 terms - Training error: 0.2950688425055193, Validation error: 0.5950951296137335\n",
      "18 terms - Training error: 0.2878204705122622, Validation error: 0.5760265817528347\n",
      "19 terms - Training error: 0.28625923855291496, Validation error: 0.5879233902857478\n",
      "20 terms - Training error: 0.2833760004221554, Validation error: 0.600100367545448\n",
      "21 terms - Training error: 0.2682066969132648, Validation error: 0.6680023966854018\n",
      "22 terms - Training error: 0.19173900644783204, Validation error: 0.5615364902048681\n",
      "23 terms - Training error: 0.12326872031081039, Validation error: 0.49343486347757654\n",
      "1 terms - Training error: 1.4087650888828407, Validation error: 1.4546323104920018\n",
      "1 terms - Training error: 1.3982093143128895, Validation error: 1.4389340759928695\n",
      "2 terms - Training error: 1.273186201970767, Validation error: 1.2855092346525026\n",
      "3 terms - Training error: 1.035525985364405, Validation error: 1.0435236445546787\n",
      "4 terms - Training error: 0.8775337954601021, Validation error: 0.9222809270792722\n",
      "5 terms - Training error: 0.8695942953282867, Validation error: 0.9324116519725358\n",
      "6 terms - Training error: 0.8389435418259754, Validation error: 0.9047928202355707\n",
      "7 terms - Training error: 0.5052228669769235, Validation error: 0.5359242745488138\n",
      "8 terms - Training error: 0.49531698952067316, Validation error: 0.5270780292542498\n",
      "9 terms - Training error: 0.4940006414098391, Validation error: 0.5258112366117133\n",
      "10 terms - Training error: 0.4932942403796417, Validation error: 0.5246468940375902\n",
      "11 terms - Training error: 0.47168752224102045, Validation error: 0.4821297649773729\n",
      "12 terms - Training error: 0.46871669288810486, Validation error: 0.4839649975289995\n",
      "13 terms - Training error: 0.4461129651110613, Validation error: 0.4733884907637372\n",
      "14 terms - Training error: 0.3529268574994248, Validation error: 0.30100663185558973\n",
      "15 terms - Training error: 0.35169118860028487, Validation error: 0.2981240939657165\n",
      "16 terms - Training error: 0.34767394925135753, Validation error: 0.2990504045016056\n",
      "17 terms - Training error: 0.34569146161235614, Validation error: 0.2965835080009475\n",
      "18 terms - Training error: 0.33673985089806824, Validation error: 0.2867415559062817\n",
      "19 terms - Training error: 0.260484845138622, Validation error: 0.17900332149086465\n",
      "20 terms - Training error: 0.2008885540795683, Validation error: 0.09253921204756624\n",
      "21 terms - Training error: 0.17320192317240546, Validation error: 0.06489424124429224\n",
      "22 terms - Training error: 0.1710891056810823, Validation error: 0.06929003925508247\n",
      "23 terms - Training error: 0.1705153895636297, Validation error: 0.07395724716071628\n",
      "1 terms - Training error: 1.425877024479898, Validation error: 1.3861845681037728\n",
      "1 terms - Training error: 1.4162803119872895, Validation error: 1.3669347209633853\n",
      "2 terms - Training error: 1.2784089595085777, Validation error: 1.2646526958532003\n",
      "3 terms - Training error: 1.0354746847786878, Validation error: 1.0438782274369747\n",
      "4 terms - Training error: 0.8948843291120553, Validation error: 0.8539406215197379\n",
      "5 terms - Training error: 0.8593724947754156, Validation error: 0.8450266903720801\n",
      "6 terms - Training error: 0.5306403714675347, Validation error: 0.5225744033354053\n",
      "7 terms - Training error: 0.5114904415152026, Validation error: 0.5178758348756062\n",
      "8 terms - Training error: 0.4989791659927066, Validation error: 0.5203147922268467\n"
     ]
    },
    {
     "name": "stdout",
     "output_type": "stream",
     "text": [
      "9 terms - Training error: 0.4959883471192206, Validation error: 0.5306212407692217\n",
      "10 terms - Training error: 0.49452608142943316, Validation error: 0.5327766765337559\n",
      "11 terms - Training error: 0.4927370520797289, Validation error: 0.5207478498872575\n",
      "12 terms - Training error: 0.4844931402301864, Validation error: 0.5202443328000008\n",
      "13 terms - Training error: 0.4625251061065109, Validation error: 0.5168285495843836\n",
      "14 terms - Training error: 0.4605256370031193, Validation error: 0.5199243076781618\n",
      "15 terms - Training error: 0.4575206502519489, Validation error: 0.5076719823128031\n",
      "16 terms - Training error: 0.45735202643482303, Validation error: 0.507401736189302\n",
      "17 terms - Training error: 0.4527123947622183, Validation error: 0.49561750138933025\n",
      "18 terms - Training error: 0.449998266477366, Validation error: 0.48836691029814117\n",
      "19 terms - Training error: 0.4487350499473855, Validation error: 0.49208288796596794\n",
      "20 terms - Training error: 0.4243228488260839, Validation error: 0.43913568761727345\n",
      "21 terms - Training error: 0.4204527224501275, Validation error: 0.43427019965787417\n",
      "22 terms - Training error: 0.39540725881011735, Validation error: 0.425815964851418\n",
      "23 terms - Training error: 0.3896952424145928, Validation error: 0.4414653342234007\n",
      "1 terms - Training error: 1.417938533204673\n",
      "1 terms - Training error: 1.406324876784229\n",
      "2 terms - Training error: 1.2755924140166028\n",
      "3 terms - Training error: 1.037100992308543\n",
      "4 terms - Training error: 0.8863666155724849\n",
      "5 terms - Training error: 0.8561103531999629\n",
      "6 terms - Training error: 0.5272683643114233\n",
      "7 terms - Training error: 0.5109365939204721\n",
      "8 terms - Training error: 0.5012737848842708\n",
      "9 terms - Training error: 0.5003745128138397\n",
      "10 terms - Training error: 0.4996221653727722\n",
      "11 terms - Training error: 0.49531009112857893\n",
      "12 terms - Training error: 0.488381918456082\n",
      "13 terms - Training error: 0.47034229213415224\n",
      "14 terms - Training error: 0.4660998999478249\n",
      "15 terms - Training error: 0.4656362149818029\n",
      "16 terms - Training error: 0.4641439835236104\n",
      "17 terms - Training error: 0.4390816993260678\n",
      "18 terms - Training error: 0.32946287992454837\n",
      "19 terms - Training error: 0.3253231439823974\n",
      "20 terms - Training error: 0.2423652182212314\n",
      "21 terms - Training error: 0.17693878312350947\n",
      "22 terms - Training error: 0.14851284873292728\n",
      "23 terms - Training error: 0.14712610289631828\n"
     ]
    },
    {
     "name": "stderr",
     "output_type": "stream",
     "text": [
      "\r",
      "\u001b[32mProgress:  50%|████████████████████▌                    |  ETA: 0:06:31\u001b[39m"
     ]
    },
    {
     "name": "stdout",
     "output_type": "stream",
     "text": [
      "24 terms - Training error: 0.14356021884189257\n",
      "1 terms - Training error: 1.402487901260094, Validation error: 1.4797410609829857\n",
      "1 terms - Training error: 1.4023892502568034, Validation error: 1.480200842204526\n",
      "2 terms - Training error: 1.401163139812218, Validation error: 1.4850904665078593\n",
      "3 terms - Training error: 1.0516140876694589, Validation error: 1.1063147051772408\n",
      "4 terms - Training error: 1.051454548171232, Validation error: 1.1058473143319276\n",
      "5 terms - Training error: 1.0262761948969248, Validation error: 1.0489929035702623\n",
      "6 terms - Training error: 1.0260883594448493, Validation error: 1.0482308657998747\n",
      "7 terms - Training error: 0.813410111914073, Validation error: 0.9146779112284031\n",
      "8 terms - Training error: 0.8133195661046813, Validation error: 0.9130573435784377\n",
      "9 terms - Training error: 0.8116299533287732, Validation error: 0.8825073759663901\n",
      "10 terms - Training error: -0.49755588766885106, Validation error: 0.008239427656348266\n",
      "11 terms - Training error: -0.498434705470758, Validation error: 0.01729990497671021\n",
      "12 terms - Training error: -0.5000608492283312, Validation error: 0.018131991500582458\n",
      "13 terms - Training error: -0.5163565638101867, Validation error: -0.027830742758453715\n",
      "14 terms - Training error: -0.5168056445986087, Validation error: -0.027057435605640903\n",
      "15 terms - Training error: -0.517876968552277, Validation error: -0.022370471662798493\n",
      "16 terms - Training error: -0.5805934682171956, Validation error: -0.07614969178657102\n",
      "17 terms - Training error: -0.5839320412997341, Validation error: -0.13089416165126233\n",
      "18 terms - Training error: -3.367166743967486, Validation error: -3.294181254143653\n",
      "19 terms - Training error: -3.367974850455944, Validation error: -3.2916345385131756\n",
      "20 terms - Training error: -3.37685049962184, Validation error: -3.308838439609658\n",
      "21 terms - Training error: -3.37747661671101, Validation error: -3.3094906347066977\n",
      "22 terms - Training error: -3.3806069682708517, Validation error: -3.312434921171423\n",
      "23 terms - Training error: -3.3806921291964738, Validation error: -3.312160350223112\n",
      "1 terms - Training error: 1.4263820453918254, Validation error: 1.3841644844560597\n",
      "1 terms - Training error: 1.4263548523488416, Validation error: 1.3845071824658908\n",
      "2 terms - Training error: 1.0695353860472818, Validation error: 1.0366627852167416\n",
      "3 terms - Training error: 1.0685436307004543, Validation error: 1.0376911038706513\n",
      "4 terms - Training error: 1.067925381411004, Validation error: 1.0394440571990025\n",
      "5 terms - Training error: 1.0318395279657069, Validation error: 1.027031219183371\n",
      "6 terms - Training error: 1.0313621166094031, Validation error: 1.0294788354309\n",
      "7 terms - Training error: 1.0297206183373107, Validation error: 1.022533749474956\n",
      "8 terms - Training error: 1.0296671418108, Validation error: 1.022567479298012\n",
      "9 terms - Training error: 1.0264479583807644, Validation error: 1.0140373697251006\n",
      "10 terms - Training error: 0.9415963364240614, Validation error: 0.9445906356408438\n",
      "11 terms - Training error: 0.941348910874341, Validation error: 0.9441092416355665\n",
      "12 terms - Training error: 0.9412798628206368, Validation error: 0.9438897618691465\n",
      "13 terms - Training error: -0.367414177391016, Validation error: -0.6398095231832989\n",
      "14 terms - Training error: -0.3691391201218295, Validation error: -0.6499513533809902\n",
      "15 terms - Training error: -0.6000765021088105, Validation error: -0.7685573884231929\n",
      "16 terms - Training error: -0.6003226609651737, Validation error: -0.7717770189648238\n",
      "17 terms - Training error: -0.6067460300652521, Validation error: -0.7787384103025139\n",
      "18 terms - Training error: -3.337852640266434, Validation error: -3.40974458351165\n",
      "19 terms - Training error: -3.3383889523049355, Validation error: -3.4098226254137862\n",
      "20 terms - Training error: -3.3513706964970202, Validation error: -3.393267972400707\n",
      "21 terms - Training error: -3.3519392472873717, Validation error: -3.395007720974329\n",
      "22 terms - Training error: -3.35484742248695, Validation error: -3.4125678834584825\n",
      "23 terms - Training error: -3.3549265611869012, Validation error: -3.4122308793805036\n",
      "1 terms - Training error: 1.4191526701029695, Validation error: 1.413081985611484\n",
      "1 terms - Training error: 1.419088063476924, Validation error: 1.4139074679420465\n",
      "2 terms - Training error: 1.416594518091762, Validation error: 1.4128193287121922\n",
      "3 terms - Training error: 1.4137120528947804, Validation error: 1.4307947090980957\n",
      "4 terms - Training error: 1.412044497449343, Validation error: 1.4320352392792521\n",
      "5 terms - Training error: 1.4082575370695154, Validation error: 1.4589313272789504\n",
      "6 terms - Training error: -0.4497039439870823, Validation error: -0.34016462584694485\n",
      "7 terms - Training error: -0.4920101691814508, Validation error: -0.1734573605114344\n",
      "8 terms - Training error: -3.3548041179156978, Validation error: -3.341080548382255\n",
      "9 terms - Training error: -3.3548675922421616, Validation error: -3.34105912258225\n",
      "10 terms - Training error: -3.3554555268837816, Validation error: -3.3418237109510027\n",
      "11 terms - Training error: -3.3697483728195285, Validation error: -3.3376595784575156\n",
      "12 terms - Training error: -3.3724452771173095, Validation error: -3.3418815028515203\n",
      "13 terms - Training error: -3.3724464271832675, Validation error: -3.341882117726205\n",
      "14 terms - Training error: -3.3724660246330935, Validation error: -3.3419012048482357\n",
      "15 terms - Training error: -3.3724798456624687, Validation error: -3.3418766934853625\n",
      "16 terms - Training error: -3.380524524109495, Validation error: -3.351286814177462\n",
      "17 terms - Training error: -3.380805876963735, Validation error: -3.3562535470716885\n",
      "18 terms - Training error: -3.4595500197556777, Validation error: -3.433635363562794\n",
      "19 terms - Training error: -3.45971855084551, Validation error: -3.4347410515307604\n",
      "20 terms - Training error: -3.4645895190151603, Validation error: -3.4397253495058413\n",
      "21 terms - Training error: -3.4646020405758184, Validation error: -3.4397818877473156\n",
      "22 terms - Training error: -3.464695373881312, Validation error: -3.43994079908458\n",
      "23 terms - Training error: -3.4659519878955036, Validation error: -3.447122457995552\n",
      "1 terms - Training error: 1.4065474390062127, Validation error: 1.4635029099985122\n",
      "1 terms - Training error: 1.4064949537264522, Validation error: 1.4638356459684885\n",
      "2 terms - Training error: 1.0658433651430628, Validation error: 1.0508060816694635\n",
      "3 terms - Training error: 1.0655813264935294, Validation error: 1.0491446660361745\n",
      "4 terms - Training error: 1.0652425716186789, Validation error: 1.0494455722943066\n",
      "5 terms - Training error: 1.0327930172177389, Validation error: 1.0223754363364712\n",
      "6 terms - Training error: 1.0311552652141476, Validation error: 1.0260076616995142\n",
      "7 terms - Training error: 0.9422901733158134, Validation error: 0.9493237303091863\n",
      "8 terms - Training error: 0.9420082758530162, Validation error: 0.9502064764047218\n",
      "9 terms - Training error: 0.9419573979591299, Validation error: 0.9501832489298291\n",
      "10 terms - Training error: 0.9400885447147939, Validation error: 0.9501169037694134\n",
      "11 terms - Training error: 0.9392595622148552, Validation error: 0.952378561554953\n",
      "12 terms - Training error: 0.9390585282323786, Validation error: 0.9533859974041662\n",
      "13 terms - Training error: 0.9389494917399063, Validation error: 0.9544691902392584\n",
      "14 terms - Training error: 0.9385579765852015, Validation error: 0.9547602970118039\n",
      "15 terms - Training error: 0.9326092120320257, Validation error: 0.9393557047577596\n",
      "16 terms - Training error: 0.932082389849618, Validation error: 0.9373665529726056\n",
      "17 terms - Training error: 0.919639434457601, Validation error: 0.9198363917765203\n",
      "18 terms - Training error: 0.9196230938782527, Validation error: 0.9195351590108334\n",
      "19 terms - Training error: -0.5684203832715224, Validation error: -0.22778313971973616\n",
      "20 terms - Training error: -0.5854011655717927, Validation error: -0.2580301390786892\n",
      "21 terms - Training error: -3.362850424829155, Validation error: -3.299304356474387\n",
      "22 terms - Training error: -3.363873240319476, Validation error: -3.3032013485461347\n",
      "23 terms - Training error: -3.3641287839994303, Validation error: -3.3030397775017164\n",
      "1 terms - Training error: 1.4351226102622605, Validation error: 1.3492022249743216\n",
      "1 terms - Training error: 1.4349631222646637, Validation error: 1.3502572682216656\n",
      "2 terms - Training error: 1.4307012334587699, Validation error: 1.3577830436641898\n",
      "3 terms - Training error: 1.4293452298251785, Validation error: 1.3629628795010746\n",
      "4 terms - Training error: 0.9123876468623388, Validation error: 0.769846219638509\n",
      "5 terms - Training error: 0.9110870498213454, Validation error: 0.7711395322423349\n",
      "6 terms - Training error: 0.8529395719666555, Validation error: 0.7130807464638385\n",
      "7 terms - Training error: 0.850762934543338, Validation error: 0.7146763036747774\n",
      "8 terms - Training error: 0.8486263105665768, Validation error: 0.7176787945079527\n",
      "9 terms - Training error: 0.8441890252028477, Validation error: 0.7145860542716562\n"
     ]
    },
    {
     "name": "stdout",
     "output_type": "stream",
     "text": [
      "10 terms - Training error: 0.72085836523072, Validation error: 0.6317729470052235\n",
      "11 terms - Training error: 0.705136473724311, Validation error: 0.6148488276609728\n",
      "12 terms - Training error: -0.555284938705606, Validation error: -0.8418326739442239\n",
      "13 terms - Training error: -0.5580279109828069, Validation error: -0.8470084756329684\n",
      "14 terms - Training error: -0.5588425557581418, Validation error: -0.850505875719386\n",
      "15 terms - Training error: -0.559795228271455, Validation error: -0.8595643945875754\n",
      "16 terms - Training error: -0.9553516199515499, Validation error: -1.2188510722045993\n",
      "17 terms - Training error: -0.9636312832877679, Validation error: -1.2245379940987486\n",
      "18 terms - Training error: -0.9885904465070274, Validation error: -1.2272937536700785\n",
      "19 terms - Training error: -0.9966900136657648, Validation error: -1.211474191731662\n",
      "20 terms - Training error: -1.07489283588474, Validation error: -1.233038974791935\n",
      "21 terms - Training error: -1.0841198657284807, Validation error: -1.2767101044790192\n",
      "22 terms - Training error: -3.3466925855148792, Validation error: -3.3856162864222528\n",
      "23 terms - Training error: -3.3552549865597765, Validation error: -3.398803257458087\n",
      "1 terms - Training error: 1.4179385332046726\n",
      "1 terms - Training error: 1.417918463740278\n",
      "2 terms - Training error: 0.9615570955457217\n",
      "3 terms - Training error: 0.9614663383812363\n",
      "4 terms - Training error: 0.9200438252208315\n",
      "5 terms - Training error: 0.919948590051768\n",
      "6 terms - Training error: -0.4757982327028036\n",
      "7 terms - Training error: -0.48837012021694404\n",
      "8 terms - Training error: -3.3525694075401917\n",
      "9 terms - Training error: -3.352615372613792\n",
      "10 terms - Training error: -3.353232126982518\n",
      "11 terms - Training error: -3.3638157351140356\n",
      "12 terms - Training error: -3.366929931592957\n",
      "13 terms - Training error: -3.3669610031727033\n",
      "14 terms - Training error: -3.368611343420877\n",
      "15 terms - Training error: -3.3686247026622675\n",
      "16 terms - Training error: -3.3686923877888173\n",
      "17 terms - Training error: -3.37101682879189\n",
      "18 terms - Training error: -3.4559801390986955\n",
      "19 terms - Training error: -3.4563685982559393\n",
      "20 terms - Training error: -3.461235035802587\n",
      "21 terms - Training error: -3.4612571393505274\n",
      "22 terms - Training error: -3.4613669525283366\n",
      "23 terms - Training error: -3.463977207430855\n"
     ]
    },
    {
     "name": "stderr",
     "output_type": "stream",
     "text": [
      "\r",
      "\u001b[32mProgress:  67%|███████████████████████████▍             |  ETA: 0:04:26\u001b[39m"
     ]
    },
    {
     "name": "stdout",
     "output_type": "stream",
     "text": [
      "24 terms - Training error: -3.5226718335240688\n",
      "1 terms - Training error: 1.4076400238639177, Validation error: 1.4591325705676925\n",
      "1 terms - Training error: 1.407159285414271, Validation error: 1.4619913820308807\n",
      "2 terms - Training error: 1.4047865407143003, Validation error: 1.47154825519379\n",
      "3 terms - Training error: 0.9772196622258285, Validation error: 1.022890564754148\n",
      "4 terms - Training error: 0.9771141117189228, Validation error: 1.0221923055417557\n",
      "5 terms - Training error: 0.9215945724679241, Validation error: 0.931439405834853\n",
      "6 terms - Training error: 0.9214960861751298, Validation error: 0.9303585289921444\n",
      "7 terms - Training error: 0.9190311843908409, Validation error: 0.9204300506066417\n",
      "8 terms - Training error: 0.9188656247797539, Validation error: 0.9227286295138124\n",
      "9 terms - Training error: -0.5319342497870614, Validation error: -0.33913469188627693\n",
      "10 terms - Training error: -0.5319643452811761, Validation error: -0.33917038006509204\n",
      "11 terms - Training error: -0.5423354272472909, Validation error: -0.2071279206198677\n",
      "12 terms - Training error: -2.9462132514396986, Validation error: Inf\n",
      "13 terms - Training error: -2.9465151952890802, Validation error: Inf\n",
      "14 terms - Training error: -2.957892324656516, Validation error: Inf\n",
      "15 terms - Training error: -2.957996078811434, Validation error: Inf\n",
      "16 terms - Training error: -2.958134595268614, Validation error: Inf\n",
      "17 terms - Training error: -2.959245965599532, Validation error: Inf\n",
      "18 terms - Training error: -2.959771620088644, Validation error: Inf\n",
      "19 terms - Training error: -2.9600725187153216, Validation error: Inf\n",
      "20 terms - Training error: -2.9604166798051104, Validation error: Inf\n",
      "21 terms - Training error: -2.9606617871253844, Validation error: Inf\n",
      "22 terms - Training error: -2.9608190560868644, Validation error: Inf\n",
      "23 terms - Training error: -2.9608235776484024, Validation error: Inf\n",
      "1 terms - Training error: 1.4148648055970245, Validation error: 1.4302334436352666\n",
      "1 terms - Training error: 1.4147853829566273, Validation error: 1.4308289855065162\n",
      "2 terms - Training error: 1.4117129074910462, Validation error: 1.4364022723142367\n",
      "3 terms - Training error: 1.41154677188268, Validation error: 1.4342979474633655\n",
      "4 terms - Training error: 1.3861191424484578, Validation error: 1.4397518165731233\n",
      "5 terms - Training error: 1.3829807539051013, Validation error: 1.4359445560443527\n",
      "6 terms - Training error: 1.327078013341619, Validation error: 1.3794081494645887\n",
      "7 terms - Training error: 1.3212872762826713, Validation error: 1.3841977333541993\n",
      "8 terms - Training error: 1.3207638952739125, Validation error: 1.3813192131466707\n",
      "9 terms - Training error: 1.3194828165680872, Validation error: 1.3919401875636104\n",
      "10 terms - Training error: 1.3189620398121844, Validation error: 1.3984408090757872\n",
      "11 terms - Training error: -0.5359419294963089, Validation error: -0.40412746229329183\n",
      "12 terms - Training error: -0.6353092702894155, Validation error: -0.24601191526128266\n",
      "13 terms - Training error: -2.6654440896229605, Validation error: Inf\n",
      "14 terms - Training error: -2.6819953260831806, Validation error: -2.101174211333401\n",
      "15 terms - Training error: -2.714884287662244, Validation error: -2.209002624863398\n",
      "16 terms - Training error: -3.243779009961691, Validation error: -3.198144346965086\n",
      "17 terms - Training error: -3.256762576518977, Validation error: -3.1819573779284167\n",
      "18 terms - Training error: -3.2959189092723276, Validation error: -3.170615078875843\n",
      "19 terms - Training error: -3.3610000078768016, Validation error: -3.117146390032132\n",
      "20 terms - Training error: -3.362531074457526, Validation error: -3.1106499123933746\n",
      "21 terms - Training error: -3.3640700790271243, Validation error: -3.1036821195442412\n",
      "22 terms - Training error: -3.364079183209385, Validation error: -3.1036848495697065\n",
      "23 terms - Training error: -3.3640958072673617, Validation error: -3.1037023075849604\n",
      "1 terms - Training error: 1.428293803212663, Validation error: 1.376517453172711\n",
      "1 terms - Training error: 1.4279771600186217, Validation error: 1.3791355439296353\n",
      "2 terms - Training error: 1.4273292841741856, Validation error: 1.3748623113979141\n",
      "3 terms - Training error: 1.4240323751565154, Validation error: 1.3968017876100147\n",
      "4 terms - Training error: 0.8188689638055482, Validation error: 0.8996192076813742\n",
      "5 terms - Training error: 0.8178159033022613, Validation error: 0.9016391580627428\n",
      "6 terms - Training error: 0.8096723055020839, Validation error: 0.9363510392089439\n",
      "7 terms - Training error: 0.7925259860027021, Validation error: 1.0012829524355684\n",
      "8 terms - Training error: -0.12345178893389899, Validation error: -0.24946964005134073\n",
      "9 terms - Training error: -0.12461110951287128, Validation error: -0.25050073688115054\n",
      "10 terms - Training error: -0.29422283934058274, Validation error: -0.44804846157293565\n",
      "11 terms - Training error: -0.3176199893694624, Validation error: -0.45304973935715415\n",
      "12 terms - Training error: -2.5041483673644076, Validation error: -2.8281468228321898\n",
      "13 terms - Training error: -2.516956470495551, Validation error: -2.8282486353634453\n",
      "14 terms - Training error: -2.520997529610102, Validation error: -2.823438906636612\n",
      "15 terms - Training error: -2.5236497829432807, Validation error: -2.817163345521641\n",
      "16 terms - Training error: -2.587617353415532, Validation error: -2.791472012107384\n",
      "17 terms - Training error: -2.616378445952476, Validation error: -2.797661823036381\n",
      "18 terms - Training error: -3.2224510614105126, Validation error: -3.2889415778764506\n",
      "19 terms - Training error: -3.2227406165887182, Validation error: -3.290873924830223\n",
      "20 terms - Training error: -3.26868501206549, Validation error: -3.3329188760726023\n",
      "21 terms - Training error: -3.2701063188762287, Validation error: -3.335003696320202\n",
      "22 terms - Training error: -3.320559534452273, Validation error: -3.400571545626227\n",
      "23 terms - Training error: -3.3208519084321004, Validation error: -3.4009115590133936\n",
      "1 terms - Training error: 1.4094196778312713, Validation error: 1.4520139546982802\n",
      "1 terms - Training error: 1.409373047254068, Validation error: 1.451976658754674\n",
      "2 terms - Training error: 1.4089928476570714, Validation error: 1.4556431159338512\n",
      "3 terms - Training error: 1.408079868471641, Validation error: 1.4555073867998427\n",
      "4 terms - Training error: 1.407160355724823, Validation error: 1.4477598327213175\n",
      "5 terms - Training error: 1.4069057266126623, Validation error: 1.4490443435144549\n",
      "6 terms - Training error: 0.9882236894951874, Validation error: 0.976863743364766\n",
      "7 terms - Training error: 0.9848811535180896, Validation error: 0.9738978091458391\n",
      "8 terms - Training error: 0.9235745782461082, Validation error: 0.9210269212059267\n",
      "9 terms - Training error: 0.9232056912582436, Validation error: 0.9207442177670606\n",
      "10 terms - Training error: 0.9222568996637999, Validation error: 0.9208268662501738\n",
      "11 terms - Training error: 0.9191478553902939, Validation error: 0.9190882587799374\n",
      "12 terms - Training error: 0.9189823497378183, Validation error: 0.9198760702398061\n",
      "13 terms - Training error: -0.5469187337597994, Validation error: -0.3032262325352599\n",
      "14 terms - Training error: -0.5514079072482957, Validation error: -0.2853672186667078\n",
      "15 terms - Training error: -2.54226778978551, Validation error: -2.960231003356266\n",
      "16 terms - Training error: -2.547447081960958, Validation error: -2.9719506128492883\n",
      "17 terms - Training error: -2.6348618398890546, Validation error: -3.030188638694184\n",
      "18 terms - Training error: -2.6348618398890546, Validation error: -3.030188638694185\n",
      "19 terms - Training error: -3.2423510397547295, Validation error: -3.2157784152802074\n",
      "20 terms - Training error: -3.291968286027077, Validation error: -3.2462302715956595\n",
      "21 terms - Training error: -3.346781435145177, Validation error: -3.2948574454128425\n",
      "22 terms - Training error: -3.3470751238708347, Validation error: -3.2951561378832146\n",
      "23 terms - Training error: -3.3480316144544893, Validation error: -3.296139548495023\n",
      "1 terms - Training error: 1.4294743555184881, Validation error: 1.3717952439494132\n",
      "1 terms - Training error: 1.4291811140095847, Validation error: 1.3732952303408883\n",
      "2 terms - Training error: 1.4283849576694156, Validation error: 1.373459692197821\n",
      "3 terms - Training error: 0.9854507147944049, Validation error: 0.9868971071367637\n",
      "4 terms - Training error: 0.9850576796037086, Validation error: 0.9873165387966222\n",
      "5 terms - Training error: 0.9237678233369097, Validation error: 0.9222760618271674\n",
      "6 terms - Training error: 0.9234440122517602, Validation error: 0.9218500172541005\n",
      "7 terms - Training error: 0.9192896245205154, Validation error: 0.9190957367671243\n",
      "8 terms - Training error: 0.9190006687107232, Validation error: 0.9227310973467051\n"
     ]
    },
    {
     "name": "stdout",
     "output_type": "stream",
     "text": [
      "9 terms - Training error: -0.46119617404771324, Validation error: -0.6304721318059939\n",
      "10 terms - Training error: -0.4612747802708598, Validation error: -0.6302933311428898\n",
      "11 terms - Training error: -0.464414764334224, Validation error: -0.63017221995892\n",
      "12 terms - Training error: -0.4672861343805195, Validation error: -0.633758955550969\n",
      "13 terms - Training error: -0.47397014503013485, Validation error: -0.622303637283395\n",
      "14 terms - Training error: -2.7005923629398096, Validation error: -2.7206893290063907\n",
      "15 terms - Training error: -2.7005923629398105, Validation error: -2.7206893290063947\n",
      "16 terms - Training error: -2.700592362939814, Validation error: -2.720689329006398\n",
      "17 terms - Training error: -2.700592362939823, Validation error: -2.720689329006413\n",
      "18 terms - Training error: -2.700592362939838, Validation error: -2.720689329006432\n",
      "19 terms - Training error: -2.700592362939847, Validation error: -2.7206893290064462\n",
      "20 terms - Training error: -2.700592362939871, Validation error: -2.72068932900648\n",
      "21 terms - Training error: -2.7005923629399584, Validation error: -2.720689329006604\n",
      "22 terms - Training error: -2.700592362940032, Validation error: -2.7206893290067033\n",
      "23 terms - Training error: -2.7123667925929364, Validation error: -2.7392399536219783\n",
      "1 terms - Training error: 1.417938533204673\n",
      "1 terms - Training error: 1.4178937571831205\n",
      "2 terms - Training error: 1.417187583931277\n",
      "3 terms - Training error: 1.4155139577812714\n",
      "4 terms - Training error: 1.4153604726414715\n",
      "5 terms - Training error: 1.395783954563005\n",
      "6 terms - Training error: 1.3915009521313204\n",
      "7 terms - Training error: 1.3356386870587411\n",
      "8 terms - Training error: 1.3316079808170804\n",
      "9 terms - Training error: 1.3292200731700792\n",
      "10 terms - Training error: 1.3292142826310724\n"
     ]
    },
    {
     "name": "stderr",
     "output_type": "stream",
     "text": [
      "\r",
      "\u001b[32mProgress:  83%|██████████████████████████████████▏      |  ETA: 0:02:13\u001b[39m"
     ]
    },
    {
     "name": "stdout",
     "output_type": "stream",
     "text": [
      "11 terms - Training error: 1.3288460425640933\n",
      "12 terms - Training error: 1.326964001125615\n",
      "1 terms - Training error: 1.4126568129262074, Validation error: 1.4390654143185306\n",
      "1 terms - Training error: 1.397456248013696, Validation error: 1.4429645288379063\n",
      "2 terms - Training error: 1.2845102048360537, Validation error: 1.242720399880287\n",
      "3 terms - Training error: 1.0395237875126704, Validation error: 1.0294592491471322\n",
      "4 terms - Training error: 0.8742499274995446, Validation error: 0.9430795993995627\n",
      "5 terms - Training error: 0.8417133218875124, Validation error: 0.921416331119246\n",
      "6 terms - Training error: 0.480307340150826, Validation error: 0.73885329269166\n",
      "7 terms - Training error: 0.4684941032315122, Validation error: 0.7053797381559103\n",
      "8 terms - Training error: 0.2739810544463307, Validation error: 0.7162543918383989\n",
      "9 terms - Training error: -0.9065070934416204, Validation error: -0.2886665812086547\n",
      "10 terms - Training error: -0.923260505838134, Validation error: -0.2922593987061561\n",
      "11 terms - Training error: -1.2609677844468699, Validation error: -0.5796596393777247\n",
      "12 terms - Training error: -1.262948589668134, Validation error: -0.6022381846897326\n",
      "13 terms - Training error: -1.2744125986589414, Validation error: -0.5998367778819431\n",
      "14 terms - Training error: -1.2794163877600482, Validation error: -0.6003091163791309\n",
      "15 terms - Training error: -1.532503698841711, Validation error: -0.9717093763953879\n",
      "16 terms - Training error: -1.600202930866508, Validation error: -1.089572600959005\n",
      "17 terms - Training error: -3.400438409184512, Validation error: -2.7498068691857744\n",
      "18 terms - Training error: -3.401668342931514, Validation error: -2.7453633122529775\n",
      "19 terms - Training error: -3.4027589494797668, Validation error: -2.7380643704445564\n",
      "20 terms - Training error: -3.4179275495567163, Validation error: -2.720774686525094\n",
      "21 terms - Training error: -3.418719589245416, Validation error: -2.7176781692893752\n",
      "22 terms - Training error: -3.4187296539222034, Validation error: -2.717936657990559\n",
      "23 terms - Training error: -3.419295523852471, Validation error: -2.7168504722344506\n",
      "1 terms - Training error: 1.4336612558023651, Validation error: 1.3550476428139007\n",
      "1 terms - Training error: 1.4239293242224382, Validation error: 1.3363220646582599\n",
      "2 terms - Training error: 1.2653166544038423, Validation error: 1.3221432202645214\n",
      "3 terms - Training error: 1.0314852710841733, Validation error: 1.061712418239745\n",
      "4 terms - Training error: 0.8952136979134515, Validation error: 0.8569832510262282\n",
      "5 terms - Training error: 0.8735769123482405, Validation error: 0.7953132374194641\n",
      "6 terms - Training error: 0.5510247367910832, Validation error: 0.4422747589290515\n",
      "7 terms - Training error: 0.5384282185046558, Validation error: 0.4121539191266476\n",
      "8 terms - Training error: 0.3964328304873081, Validation error: 0.19667510999994675\n",
      "9 terms - Training error: -0.7079052449264128, Validation error: -1.132006743658456\n",
      "10 terms - Training error: -0.7107263397522089, Validation error: -1.1383112941185176\n",
      "11 terms - Training error: -0.995442284015751, Validation error: -1.473978684902961\n",
      "12 terms - Training error: -1.015184551292103, Validation error: -1.4743148203036054\n",
      "13 terms - Training error: -1.2525256525856872, Validation error: -1.716266845009197\n",
      "14 terms - Training error: -1.2846742130930127, Validation error: -1.7516018266613391\n",
      "15 terms - Training error: -1.2946696696253843, Validation error: -1.7593363759810208\n",
      "16 terms - Training error: -1.3263389493553555, Validation error: -1.7390538333789316\n",
      "17 terms - Training error: -1.3298538045935566, Validation error: -1.7364105984090403\n",
      "18 terms - Training error: -1.4191844706179324, Validation error: -1.7270159890048489\n",
      "19 terms - Training error: -3.2950866779247967, Validation error: -3.3649207856540286\n",
      "20 terms - Training error: -3.3017105659780497, Validation error: -3.363650048429296\n",
      "21 terms - Training error: -3.334031749293491, Validation error: -3.3562596720497453\n",
      "22 terms - Training error: -3.3346574585422473, Validation error: -3.3573774109771874\n",
      "23 terms - Training error: -3.36628150528711, Validation error: -3.4194338615236437\n",
      "1 terms - Training error: 1.4087333399651862, Validation error: 1.4547593061626152\n",
      "1 terms - Training error: 1.3952468397805433, Validation error: 1.4509940593979478\n",
      "2 terms - Training error: 1.2743941500250995, Validation error: 1.2822017930630292\n",
      "3 terms - Training error: 1.042374507569173, Validation error: 1.0169672740473068\n",
      "4 terms - Training error: 0.8862315468626653, Validation error: 0.8892119046130775\n",
      "5 terms - Training error: 0.8544736190333326, Validation error: 0.864584280702346\n",
      "6 terms - Training error: 0.5422177414922178, Validation error: 0.47107371927514624\n",
      "7 terms - Training error: 0.5211888627743455, Validation error: 0.4736016569357328\n",
      "8 terms - Training error: 0.4844722165115367, Validation error: 0.6313116841512838\n",
      "9 terms - Training error: 0.3101685793482468, Validation error: 0.5336488443242299\n",
      "10 terms - Training error: -0.8277587624024779, Validation error: -0.6749560202169977\n",
      "11 terms - Training error: -0.8499423219326887, Validation error: -0.6606097249846645\n",
      "12 terms - Training error: -0.8780562297411147, Validation error: -0.6464718350950239\n",
      "13 terms - Training error: -1.2010910630348743, Validation error: -0.9548659163757683\n",
      "14 terms - Training error: -1.2053670101657077, Validation error: -0.9618694953513658\n",
      "15 terms - Training error: -1.208784691069325, Validation error: -0.9585542548808081\n",
      "16 terms - Training error: -1.2302834109649932, Validation error: -0.9765311545330158\n",
      "17 terms - Training error: -1.2564823103742822, Validation error: -0.9175791336252058\n",
      "18 terms - Training error: -1.263592298120416, Validation error: -0.9145449877155644\n",
      "19 terms - Training error: -1.5080599543849573, Validation error: -1.226950192761326\n",
      "20 terms - Training error: -1.5755369280394131, Validation error: -1.3444589184604572\n",
      "21 terms - Training error: -3.1545429882085263, Validation error: -3.1471598953686835\n",
      "22 terms - Training error: -3.1698175114533624, Validation error: -3.153121436796573\n",
      "23 terms - Training error: -3.169817511453368, Validation error: -3.153121436796573\n",
      "1 terms - Training error: 1.4087645311284411, Validation error: 1.454634541509596\n",
      "1 terms - Training error: 1.3982088250187557, Validation error: 1.4389362582355725\n",
      "2 terms - Training error: 1.2731860335802005, Validation error: 1.2855124870461248\n",
      "3 terms - Training error: 1.0355231845689943, Validation error: 1.0435260226885705\n",
      "4 terms - Training error: 0.8775244470775215, Validation error: 0.9222952521437344\n",
      "5 terms - Training error: 0.8695848785307192, Validation error: 0.9324328955446604\n",
      "6 terms - Training error: 0.8389331942581298, Validation error: 0.9048195347006813\n",
      "7 terms - Training error: 0.5052126445836713, Validation error: 0.5359288108972778\n",
      "8 terms - Training error: 0.34685584603729586, Validation error: 0.3821231145114229\n",
      "9 terms - Training error: -0.8089864964965771, Validation error: -0.7500006027497507\n",
      "10 terms - Training error: -0.8146124137499515, Validation error: -0.7452284858655233\n",
      "11 terms - Training error: -1.115005253417877, Validation error: -1.0192952426146806\n",
      "12 terms - Training error: -1.1642162717940927, Validation error: -1.0780399486544616\n",
      "13 terms - Training error: -1.1718270836633111, Validation error: -1.0685333857763375\n",
      "14 terms - Training error: -1.1820768632998448, Validation error: -1.0702718732741607\n",
      "15 terms - Training error: -1.2009854130882165, Validation error: -1.1244867404040293\n",
      "16 terms - Training error: -1.207105175756188, Validation error: -1.1087308137906995\n",
      "17 terms - Training error: -1.2529877634605244, Validation error: -1.0913529338727912\n",
      "18 terms - Training error: -3.2916052158640983, Validation error: -3.384467985608226\n",
      "19 terms - Training error: -3.292872773521637, Validation error: -3.3858648512613265\n",
      "20 terms - Training error: -3.2933163299517183, Validation error: -3.386073058497965\n",
      "21 terms - Training error: -3.298624320911028, Validation error: -3.394589050085541\n",
      "22 terms - Training error: -3.3012971440177976, Validation error: -3.3933465037782167\n",
      "23 terms - Training error: -3.3401067417621473, Validation error: -3.3513205289724235\n",
      "1 terms - Training error: 1.4258767262011602, Validation error: 1.3861857612187192\n",
      "1 terms - Training error: 1.4162800249478658, Validation error: 1.3669360630134288\n",
      "2 terms - Training error: 1.2784091797647168, Validation error: 1.2646537503160447\n",
      "3 terms - Training error: 1.0354733680256472, Validation error: 1.043876534221751\n",
      "4 terms - Training error: 0.8948813796413598, Validation error: 0.8539386128401184\n",
      "5 terms - Training error: 0.859371290751084, Validation error: 0.845021546083092\n",
      "6 terms - Training error: 0.5306304821960747, Validation error: 0.5225576310812445\n",
      "7 terms - Training error: 0.5114809306296327, Validation error: 0.5178572398154956\n"
     ]
    },
    {
     "name": "stdout",
     "output_type": "stream",
     "text": [
      "8 terms - Training error: 0.37226530117347595, Validation error: 0.2935442087007966\n",
      "9 terms - Training error: -0.7791065817906704, Validation error: -0.8610639242087567\n",
      "10 terms - Training error: -0.7835777985607112, Validation error: -0.8618741609887051\n",
      "11 terms - Training error: -0.7943587855641905, Validation error: -0.8483535090303327\n",
      "12 terms - Training error: -1.0296454195975469, Validation error: -1.1012644273526988\n",
      "13 terms - Training error: -1.2899485465552312, Validation error: -1.569062041448259\n",
      "14 terms - Training error: -1.3384477751795332, Validation error: -1.5347246918253774\n",
      "15 terms - Training error: -1.3475053961385408, Validation error: -1.5471097740753328\n",
      "16 terms - Training error: -1.3835701744511988, Validation error: -1.4990744548402233\n",
      "17 terms - Training error: -1.4497395042125953, Validation error: -1.5701472709572397\n",
      "18 terms - Training error: -3.2988596924247053, Validation error: -3.355816985783007\n",
      "19 terms - Training error: -3.3030860350305584, Validation error: -3.364467560912795\n",
      "20 terms - Training error: -3.3327052169095674, Validation error: -3.37157676979702\n",
      "21 terms - Training error: -3.333564132607872, Validation error: -3.3700608892541952\n",
      "22 terms - Training error: -3.3835407415361347, Validation error: -3.3527042720979097\n",
      "23 terms - Training error: -3.3873613621726464, Validation error: -3.358793787853187\n",
      "1 terms - Training error: 1.4179385332046721\n",
      "1 terms - Training error: 1.4063249180486272\n",
      "2 terms - Training error: 1.2755928057062702\n",
      "3 terms - Training error: 1.0370996080516304\n",
      "4 terms - Training error: 0.8863638860642816\n",
      "5 terms - Training error: 0.8561084247235532\n",
      "6 terms - Training error: 0.5272572240663406\n",
      "7 terms - Training error: 0.5109254541222618\n",
      "8 terms - Training error: 0.3535291017572626\n",
      "9 terms - Training error: -0.798537927780711\n",
      "10 terms - Training error: -0.8023236626258075\n",
      "11 terms - Training error: -0.8183314303491076\n",
      "12 terms - Training error: -0.8393722463853214\n",
      "13 terms - Training error: -1.1631831040923326\n",
      "14 terms - Training error: -1.1674837241983118\n",
      "15 terms - Training error: -1.188491572224737\n",
      "16 terms - Training error: -1.191261732469126\n",
      "17 terms - Training error: -1.2050569581376436\n",
      "18 terms - Training error: -1.210406932952749\n",
      "19 terms - Training error: -1.4610217205424145\n",
      "20 terms - Training error: -1.5377724324209978\n",
      "21 terms - Training error: -3.1834031656520754\n",
      "22 terms - Training error: -3.185788620759248\n",
      "23 terms - Training error: -3.1857886207592645\n"
     ]
    },
    {
     "name": "stderr",
     "output_type": "stream",
     "text": [
      "\r",
      "\u001b[32mProgress: 100%|█████████████████████████████████████████| Time: 0:13:56\u001b[39m\n"
     ]
    },
    {
     "name": "stdout",
     "output_type": "stream",
     "text": [
      "24 terms - Training error: -3.185788620759269\n",
      "836.934573 seconds (188.26 M allocations: 980.902 GiB, 5.47% gc time)\n"
     ]
    },
    {
     "data": {
      "text/plain": [
       "HermiteMap(25, 6, LinearTransform(6, [-0.29363871694641197, -0.32849668713410946, 23.973264410882066, -0.2941460734785516, -0.3290105026606614, 23.972766580779815], [7.957852780911305 0.0 … 0.0 0.0; 0.0 8.973255906962134 … 0.0 0.0; … ; 0.0 0.0 … 8.973254768629733 0.0; 0.0 0.0 … 0.0 8.501866596978735], true), MapComponent[Map component of dimension 1 with Nψ 7 active features\n",
       ", Map component of dimension 2 with Nψ 23 active features\n",
       ", Map component of dimension 3 with Nψ 24 active features\n",
       ", Map component of dimension 4 with Nψ 24 active features\n",
       ", Map component of dimension 5 with Nψ 12 active features\n",
       ", Map component of dimension 6 with Nψ 24 active features\n",
       "])"
      ]
     },
     "execution_count": 27,
     "metadata": {},
     "output_type": "execute_result"
    }
   ],
   "source": [
    "@time optimize(Sqr, X, \"kfolds\"; withqr = false, verbose = true, hessprecond = false)"
   ]
  },
  {
   "cell_type": "code",
   "execution_count": 47,
   "metadata": {},
   "outputs": [
    {
     "data": {
      "text/plain": [
       "24-element Array{Float64,1}:\n",
       "   80.78835417766287\n",
       "  -55.16578046923975\n",
       "  -46.22983626461299\n",
       "  426.3476192186352\n",
       "  -21.34480808162687\n",
       "  237.5506629694593\n",
       "    0.20823368485520952\n",
       "   30.765764057749017\n",
       " -422.22752668806424\n",
       "   -1.128166981719396\n",
       "   16.655953582270833\n",
       "   -3.671183391464081\n",
       "  -91.6215931993438\n",
       "    2.850134516529843\n",
       "    3.952758374058319\n",
       "   -1.061905324947132\n",
       "    3.3592424827110423\n",
       "    1.1504087302776171\n",
       "   73.62285640821766\n",
       "    9.943174347698404\n",
       " -232.69845989365038\n",
       "   -0.16964982045966923\n",
       "   -9.032626897633723e-13\n",
       "   -1.1261525721353059e-13"
      ]
     },
     "execution_count": 47,
     "metadata": {},
     "output_type": "execute_result"
    }
   ],
   "source": [
    "getcoeff(Sqr[6])"
   ]
  },
  {
   "cell_type": "code",
   "execution_count": 48,
   "metadata": {},
   "outputs": [
    {
     "data": {
      "text/plain": [
       "1.4190683883352981"
      ]
     },
     "execution_count": 48,
     "metadata": {},
     "output_type": "execute_result"
    }
   ],
   "source": [
    "cond(evaluate_basis(S[1].I.f.f, X[1:1,:]))"
   ]
  },
  {
   "cell_type": "code",
   "execution_count": 49,
   "metadata": {},
   "outputs": [
    {
     "data": {
      "text/plain": [
       "QRscaling([-22.360679774997898 0.08049637020898277 … -2.21162142163052 1.2778790994053513; 0.0 -22.36053488480057 … 0.8484556517459702 -2.2297082129633576; … ; 0.0 0.0 … 21.753603661470947 -0.269655432852971; 0.0 0.0 … 0.0 -21.932662553943427], [-0.044721359549995794 -0.0001609937836072295 … -0.004082064287428051 -0.0023174894498891783; 0.0 -0.04472164933226815 … 0.000665629572644238 0.003794243321153341; … ; 0.0 0.0 … 0.045969395028151464 -0.0005651797671084238; 0.0 0.0 … 0.0 -0.04559409955542324], [0.23101303591108965 0.0 … 0.0 0.0; 0.0 0.22673378724549614 … 0.0 0.0; … ; 0.0 0.0 … 0.2131978201399314 0.0; 0.0 0.0 … 0.0 0.2035484516061595], [4.328760046185756 0.0 … 0.0 0.0; 0.0 4.41045867997278 … 0.0 0.0; … ; 0.0 0.0 … 4.690479477433938 0.0; 0.0 0.0 … 0.0 4.912835210040671], [-5.165608519857965 0.018251246876998195 … -0.47151286606640297 0.26011031202383283; 0.0 -5.069888759265867 … 0.18088889543764564 -0.4538536542822284; … ; 0.0 0.0 … 4.637820880813637 -0.054887945824410964; 0.0 0.0 … 0.0 -4.46435950245558], [-0.19358803443112957 -0.0006969034581632503 … -0.017670276793380273 -0.010031855738137281; 0.0 -0.19724298648020094 … 0.002935731726315351 0.0167343533897095; … ; 0.0 0.0 … 0.2156185039695981 -0.002650964098682954; 0.0 0.0 … 0.0 -0.22399629766598303], [0.03747632707490821 0.00013491217065408057 … 0.00342075415228449 0.0019420472340426448; 0.00013491217065408057 0.03890528139005873 … -0.0005667380161991072 -0.003293742604445673; … ; 0.00342075415228449 -0.0005667380161991072 … 0.04842660193407876 -0.00014391080487174978; 0.0019420472340426448 -0.003293742604445673 … -0.00014391080487174978 0.051655036038514526])"
      ]
     },
     "execution_count": 49,
     "metadata": {},
     "output_type": "execute_result"
    }
   ],
   "source": [
    "stor = Storage(S[1].I.f, X[1:1,:])\n",
    "q = QRscaling(stor)"
   ]
  },
  {
   "cell_type": "code",
   "execution_count": 50,
   "metadata": {},
   "outputs": [
    {
     "data": {
      "text/plain": [
       "7×7 UpperTriangular{Float64,Array{Float64,2}}:\n",
       " -22.3607    0.0804964    0.573592  …   -0.988525   -2.21162     1.27788\n",
       "    ⋅      -22.3605       3.76591       -0.432035    0.848456   -2.22971\n",
       "    ⋅         ⋅         -22.0338         0.758862   -2.62933     2.28653\n",
       "    ⋅         ⋅            ⋅            -0.0551844  -3.52282     0.577072\n",
       "    ⋅         ⋅            ⋅           -22.3217      1.35866     2.59225\n",
       "    ⋅         ⋅            ⋅        …     ⋅         21.7536     -0.269655\n",
       "    ⋅         ⋅            ⋅              ⋅           ⋅        -21.9327"
      ]
     },
     "execution_count": 50,
     "metadata": {},
     "output_type": "execute_result"
    }
   ],
   "source": [
    "q.R"
   ]
  },
  {
   "cell_type": "code",
   "execution_count": 51,
   "metadata": {},
   "outputs": [
    {
     "data": {
      "text/plain": [
       "7×7 Array{Float64,2}:\n",
       "  0.0045198     1.21395e-5   -0.00240998   …  -0.000348285  -0.00312017\n",
       "  1.21395e-5    0.000803171   7.97195e-5       0.0010036    -5.72325e-5\n",
       " -0.00240998    7.97195e-5    0.00193971       0.000441416   0.00166432\n",
       "  0.000214304   0.000921822   6.44509e-5       0.0023089    -0.00052137\n",
       "  0.00584461    0.000196608  -0.00424907      -0.000327422  -0.00607632\n",
       " -0.000348285   0.0010036     0.000441416  …   0.00409636    0.000120264\n",
       " -0.00312017   -5.72325e-5    0.00166432       0.000120264   0.00381276"
      ]
     },
     "execution_count": 51,
     "metadata": {},
     "output_type": "execute_result"
    }
   ],
   "source": [
    "P = zeros(ncoeff(S[1]), ncoeff(S[1]))\n",
    "precond!(P, getcoeff(S[1]), stor, S[1], X[1:1,:])\n",
    "\n",
    "Pqr = zeros(ncoeff(S[1]), ncoeff(S[1]))\n",
    "qrprecond!(Pqr, q.U*getcoeff(S[1]), q, stor, S[1], X[1:1,:])"
   ]
  },
  {
   "cell_type": "code",
   "execution_count": 52,
   "metadata": {},
   "outputs": [
    {
     "data": {
      "text/plain": [
       "106.77295104794031"
      ]
     },
     "execution_count": 52,
     "metadata": {},
     "output_type": "execute_result"
    }
   ],
   "source": [
    "cond(P)"
   ]
  },
  {
   "cell_type": "code",
   "execution_count": 53,
   "metadata": {},
   "outputs": [
    {
     "data": {
      "text/plain": [
       "94.10200942927128"
      ]
     },
     "execution_count": 53,
     "metadata": {},
     "output_type": "execute_result"
    }
   ],
   "source": [
    "cond(Pqr)"
   ]
  },
  {
   "cell_type": "code",
   "execution_count": 54,
   "metadata": {},
   "outputs": [
    {
     "data": {
      "image/png": "[encoded data removed]"
     },
     "execution_count": 54,
     "metadata": {},
     "output_type": "execute_result"
    }
   ],
   "source": [
    "plot(S)"
   ]
  },
  {
   "cell_type": "code",
   "execution_count": 55,
   "metadata": {},
   "outputs": [
    {
     "data": {
      "text/plain": [
       "6×6 Array{Float64,2}:\n",
       " 4.35292e13  1.28434e9  3.53278e7   4.25757e13  1.91791e6  1.88147e7\n",
       " 1.28434e9   4.93266e8  1.06978e6   1.50076e5   0.0        0.0\n",
       " 3.53278e7   1.06978e6  2.11871e13  0.0         5.78547e6  2.10074e13\n",
       " 4.25757e13  1.50076e5  0.0         4.26318e13  0.0        0.0\n",
       " 1.91791e6   0.0        5.78547e6   0.0         2.74913e6  5.73021e6\n",
       " 1.88147e7   0.0        2.10074e13  0.0         5.73021e6  2.09591e13"
      ]
     },
     "execution_count": 55,
     "metadata": {},
     "output_type": "execute_result"
    }
   ],
   "source": [
    "Ωhat = zeros(Ny + Nx, Ny + Nx)\n",
    "cache = zeros(1, Ny + Nx, Ny + Nx)\n",
    "for i=1:Ne\n",
    "    hess_x_log_pdf!(cache, S, X[:,i:i])\n",
    "    Ωhat .+= copy(cache[1,:,:]).^2\n",
    "end\n",
    "rmul!(Ωhat, 1/Ne)"
   ]
  },
  {
   "cell_type": "code",
   "execution_count": 56,
   "metadata": {},
   "outputs": [
    {
     "data": {
      "image/png": "[encoded data removed]"
     },
     "execution_count": 56,
     "metadata": {},
     "output_type": "execute_result"
    }
   ],
   "source": [
    "plt = plot()\n",
    "\n",
    "heatmap!(plt,log10.(Ωhat), ratio = 1, yflip = true, \n",
    "        colorbar = true, color = :plasma, clim = (2.0, Inf), colorbar_title = L\"\\log_{10}(\\hat{\\Omega})\",\n",
    "        xlabel = \"Index\", ylabel = \"Index\", background_color_inside = palette(:plasma)[1], \n",
    "        yticks = (reverse(collect(0:10:Nx))))\n",
    "plt"
   ]
  },
  {
   "cell_type": "markdown",
   "metadata": {},
   "source": [
    "The rest is work in progress"
   ]
  },
  {
   "cell_type": "code",
   "execution_count": 24,
   "metadata": {},
   "outputs": [
    {
     "data": {
      "text/plain": [
       "Stochastic Map Filter with filtered = false\n"
      ]
     },
     "execution_count": 24,
     "metadata": {},
     "output_type": "execute_result"
    }
   ],
   "source": [
    "smf = StochMapFilter(x->x, ϵy, deepcopy(S), Ny, Nx, Δtdyn, Δtobs, 2*Δtobs, false)"
   ]
  },
  {
   "cell_type": "code",
   "execution_count": 25,
   "metadata": {},
   "outputs": [],
   "source": []
  },
  {
   "cell_type": "markdown",
   "metadata": {},
   "source": [
    "Set initial condition of the true system"
   ]
  },
  {
   "cell_type": "code",
   "execution_count": 26,
   "metadata": {},
   "outputs": [],
   "source": [
    "x0 = rand(model.π0);"
   ]
  },
  {
   "cell_type": "code",
   "execution_count": 21,
   "metadata": {},
   "outputs": [],
   "source": [
    "data = generate_lorenz63(model, x0, Tf);"
   ]
  },
  {
   "cell_type": "markdown",
   "metadata": {},
   "source": [
    "Initialize the ensemble matrix `X` $\\in \\mathbb{R}^{(N_y + N_x) \\times N_e}$."
   ]
  },
  {
   "cell_type": "code",
   "execution_count": 22,
   "metadata": {},
   "outputs": [
    {
     "data": {
      "text/plain": [
       "3×300 view(::Array{Float64,2}, 4:6, :) with eltype Float64:\n",
       " -0.687601  -0.254959    0.188217  …   0.103389  -1.39479    2.42032\n",
       " -0.500857   0.0862766   0.539567     -0.706949  -1.24376    0.537605\n",
       " -0.259377  -0.932509   -0.885783     -1.78774    0.280541  -0.325018"
      ]
     },
     "execution_count": 22,
     "metadata": {},
     "output_type": "execute_result"
    }
   ],
   "source": [
    "Ne = 300 #ensemble size\n",
    "X = zeros(model.Ny + model.Nx, Ne)\n",
    "\n",
    "# Generate the initial conditions for the state.\n",
    "viewstate(X, model.Ny, model.Nx) .= rand(model.π0, Ne)"
   ]
  },
  {
   "cell_type": "code",
   "execution_count": null,
   "metadata": {},
   "outputs": [],
   "source": []
  },
  {
   "cell_type": "code",
   "execution_count": 113,
   "metadata": {
    "scrolled": true
   },
   "outputs": [
    {
     "name": "stdout",
     "output_type": "stream",
     "text": [
      "t = 0.1\n",
      "getcoeff(M[6]) = [22.906865689731593, -19.377717740394523, 10.573024727789972, -9.986484533334767, 3.789827849345462, -5.217265100003962, -14.799818180191068, 11.06966570625046, 5.104130804711312, -9.019431424029612, 8.458281825773383, -4.806407518503932, -6.787279698165868, 0.5787759515689187, -5.161107934580359, 7.957617637274662, 3.275835920925548, -1.6247206443015998, 0.5633631184716991]\n",
      "t = 0.2\n",
      "getcoeff(M[6]) = [17.85023078671892, -11.000248348440945, 5.1987108032508935, -10.629238604398909, 1.7875722195231427, -5.687282299529215, -12.604635247248655, 11.85103933908719, 0.3937244075759413, -8.110224791605425, 10.264114923199173, -0.3859148017272309, -5.712876954409625, 0.2707366875331302, -5.667536310421616, 8.180916001757126, 6.303170658169496, -2.3939506752611965, 2.4915031788578834]\n"
     ]
    },
    {
     "name": "stderr",
     "output_type": "stream",
     "text": [
      "\u001b[32mProgress: 100%|█████████████████████████████████████████| Time: 0:00:02\u001b[39m\n"
     ]
    },
    {
     "name": "stdout",
     "output_type": "stream",
     "text": [
      "t = 0.30000000000000004\n",
      "getcoeff(M[6]) = [11.266448824556152, 1.7164665570652637, 5.493215062828817, 3.492243552104856, -11.534891827906172, 0.40325664305245545, -10.578332655904953, -0.9692287045962255, -14.641361586766186, 1.6375096614555713, 4.498063811610749, -3.2666620550642813, -14.66832552870519, -2.0007712886552236, -6.24453941249212, -0.21700402237023336, 2.3343918353338977, -0.2464175487336985]\n",
      "t = 0.4\n",
      "getcoeff(M[6]) = [-12.021032884579379, 2.5879410077941563, -6.956304912161971, 1.404471658379549, 12.132333272675098, 2.4410590391182008, 7.50348577573972, 2.976039830233105, 4.343685759901692, -2.302041053411168, 0.549313380743777, 2.5024609093542183, 1.4612213537601701, 0.7007610900604446, 0.24583252057363303, -0.31533330637169915, -0.2329174466353028, -0.10016006147422259]\n"
     ]
    },
    {
     "name": "stderr",
     "output_type": "stream",
     "text": [
      "\u001b[32mProgress: 100%|█████████████████████████████████████████| Time: 0:00:02\u001b[39m\n"
     ]
    },
    {
     "name": "stdout",
     "output_type": "stream",
     "text": [
      "t = 0.5\n",
      "getcoeff(M[6]) = [1.4812111545232898, -20.57274116122881, -1.2913346076302197, 6.047350903729115, -0.337767226969654, 2.127036820875832, -4.906151978010623, 4.602846602378159, 0.40760652593624125, 1.6580088144440814, 0.41541177913674, -4.173677299682894, 36.26542490030028, -0.19414544215102456, 2.7953778637267717, 13.848169504097127, -1.8079957931143913, -0.4305622856066912, 0.8803636490258625]\n"
     ]
    },
    {
     "name": "stderr",
     "output_type": "stream",
     "text": [
      "\u001b[32mProgress: 100%|█████████████████████████████████████████| Time: 0:00:00\u001b[39m\n"
     ]
    },
    {
     "name": "stdout",
     "output_type": "stream",
     "text": [
      "t = 0.6000000000000001\n",
      "getcoeff(M[6]) = [-35.463927338316736, -9.50059874176015, -11.805736500765521, -1.4874680158739193, 1.1528544680000143, 1.7743306672364583, 6.862852603328631, 4.759929812548403, 2.1512600596491107, 1.6652046925407153, 2.281774371535699, 5.770252318162928, 9.67558338671935, 0.22386177695056067, 17.2752240539691, 8.721888247810433, 2.6145679834708178, 0.14284458484006124, 8.413548082746063]\n"
     ]
    },
    {
     "name": "stderr",
     "output_type": "stream",
     "text": [
      "\u001b[32mProgress: 100%|█████████████████████████████████████████| Time: 0:00:00\u001b[39m\n"
     ]
    },
    {
     "name": "stdout",
     "output_type": "stream",
     "text": [
      "t = 0.7000000000000001\n",
      "getcoeff(M[6]) = [36.83276159205395, -24.951402390235423, 19.16806103593491, -13.51548058999118, 12.317189233360166, -8.382196278455845, -2.2999871675807455, 0.2850141031090243, -0.6673083064168583, -0.13501825269556278, -0.7396320810557167, -6.298258634467871, 17.461501486017063, 0.3504164233661924, -28.808657059272594, 7.627907065985614, 0.030494024287174293, -0.29947724884946014, -12.42370599360083]\n"
     ]
    },
    {
     "name": "stderr",
     "output_type": "stream",
     "text": [
      "\u001b[32mProgress: 100%|█████████████████████████████████████████| Time: 0:00:00\u001b[39m\n"
     ]
    },
    {
     "name": "stdout",
     "output_type": "stream",
     "text": [
      "t = 0.8\n",
      "getcoeff(M[6]) = [4.565433754241828, 2.3294224479770222, -1.8633564627089911, -2.401907068813655, -2.8168366845668156, -2.015384250214061, 0.46498936314223244, -8.381394538274686, -2.2467048192599233, -3.1381345824189397, -2.0508705575482478, 0.7932128865144152, -8.076394028860504, -0.7333633198845051, 1.4108620580107984, 6.903021746153281, 0.4359847200774525, -0.6869085780471993, 0.6019815130458351]\n"
     ]
    },
    {
     "name": "stderr",
     "output_type": "stream",
     "text": [
      "\u001b[32mProgress: 100%|█████████████████████████████████████████| Time: 0:00:02\u001b[39m\n"
     ]
    },
    {
     "name": "stdout",
     "output_type": "stream",
     "text": [
      "t = 0.9\n",
      "getcoeff(M[6]) = [0.10479994620853317, 2.0405092283807296, 2.139577749161759, -11.218773917595936, -6.1992102404451614, 2.112253510249005, 1.3402048390508912, 1.2076840207402293, 10.820803728091597, 9.190205065015583, 5.7866667931292755, 7.773620488345616, -3.967981022146112, -2.562361983118858, 0.6050288957650488, -0.15180562362082362, 1.5687059669549537, 2.1136114479741113, 0.6123826601023]\n",
      "t = 1.0\n",
      "getcoeff(M[6]) = [-6.04324140088469, -4.253811249057945, -3.1948133209383247, 2.596607139912836, -1.9021480871798437, -5.118104218906908, -1.0545580574863993, -2.3343850599312503, 2.4399889880769643, 3.9723476806112488, 2.754664312552088, 3.4434424515340374, 0.8150531876189495, -1.8064214492069208, 0.9398983863741891, -0.3488234493780035, 1.741653963014106, 1.2162823299090404, 0.15398714732793878]\n",
      "t = 1.1\n",
      "getcoeff(M[6]) = [-5.031263233609694, -9.273743995191236, -1.580877567316259, 6.973842266985953, -1.516497258783924, -7.11732744351757, -0.9813977394543284, -2.1794474913818793, -1.8734044367885323, 10.793069325424437, -2.1752785080096397, 9.033929843968599, 2.7178704450770237, -1.2529218057801548, 0.037132827437170585, -0.2973963476728613, -0.35910009488753486, 2.198395932343014, -0.29666914765285596]\n",
      "t = 1.2000000000000002\n",
      "getcoeff(M[6]) = [-5.2320963796296125, -3.819337825806224, -3.0471861441432653, 1.9687495564230155, -3.110444147516775, -0.7000479670049213, -2.1168514318883744, 0.5332013201056524, 2.028247165701819, 4.150553442916064, -1.061136179173905, 1.6192356235877083, 0.3873729780067072, -2.434486343314082, 0.11900853616779376, 0.07081064920786888, 0.016455423651863588, 0.9603237312027166, 0.4261132992758402]\n",
      "t = 1.3\n",
      "getcoeff(M[6]) = [-5.488696077786201, -0.3684472825072094, -3.8516454205555313, 3.236177003775338, -3.0830564253877424, -0.16757691441287548, -1.4064019802651977, 0.8471006629853627, 0.7598738092629297, 1.7112908877823718, -0.15646364069165927, 0.2530616190022513, 1.0837694913994076, -2.6982077265901645, 0.26640316994236635, 0.11414413853683322, 0.3870733232747189, -0.12493278469177431, 0.1518793477917241]\n",
      "t = 1.4000000000000001\n",
      "getcoeff(M[6]) = [-0.06189814366198887, -3.1247147009742804, -0.5611500355307337, 1.0875727999896256, -2.5521586254373463, -4.332259491191874, -0.7553093023065656, -2.554067356765598, -1.4487203930610404, 3.340753730936918, -0.48022254033510314, 3.003145462492901, 0.2160193479114554, -2.2476506458014147, 0.10224629434009845, 0.12707061456082813, -0.40664337651366333, 0.3648877327560498, 0.33357926575696656]\n",
      "t = 1.5\n",
      "getcoeff(M[6]) = [-7.298139483710753, -4.4423647867476035, -3.503454662783393, 2.0900378402480158, -2.361894448622723, -2.316667828175072, -0.8843679438419885, -0.6098963035340008, 6.997041703603847, 6.286078517957727, 5.601325116304301, 5.884369711476364, 0.5423130295967766, -2.7309631581625475, -0.9939417517107211, 0.019486013833195783, 2.500007152625216, 2.377794072681573, -0.05101545981844224]\n",
      "t = 1.6\n",
      "getcoeff(M[6]) = [5.615563243019474, -3.6475268416048863, 2.7729721050876845, -2.932117480213823, -1.2061743543568089, -2.6884821966010506, 0.7279910018599881, -1.1285288460629312, -1.756922644195314, 3.6880011647440707, 0.14859405215788768, 3.548534042810426, -0.7336753088896487, -0.9604134336681558, 0.309943783890371, -0.0019750218921844396, 0.777889900950205, 1.2662679267635277, -0.8761527599058645]\n"
     ]
    },
    {
     "name": "stderr",
     "output_type": "stream",
     "text": [
      "\u001b[32mProgress: 100%|█████████████████████████████████████████| Time: 0:00:02\u001b[39m\n"
     ]
    },
    {
     "name": "stdout",
     "output_type": "stream",
     "text": [
      "t = 1.7000000000000002\n",
      "getcoeff(M[6]) = [16.240779734894538, 2.753274737696811, 11.127393193894278, 5.404941785584658, 4.454684914563776, 2.208678055259212, -4.904501157643727, -0.5711720428478302, -9.510699325816615, 0.23577656212377193, -3.37619342551989, 0.5058630987082465, -1.0511347354982659, 0.508218464725001, 0.6407263832415041, -0.24312841739799934, -0.6663669614003553, 0.4652505753543059, -1.636739117103299]\n",
      "t = 1.8\n",
      "getcoeff(M[6]) = [15.81106741790238, 1.7081342732414893, 9.707773419502708, -0.20920059484824952, 2.5053054079141126, -0.10967308154310834, -2.2423424765492186, -0.5698653184319518, -0.7875799008872055, -0.4802464265480154, -0.2624637785951831, -0.2720778956882433, -12.543345774321057, -2.3825058517936477, 0.6366551813603458, -0.2122727261428163, -5.215718873384914, -2.807802859688789, -0.614468152187268]\n",
      "t = 1.9000000000000001\n",
      "getcoeff(M[6]) = [-0.7142979739344772, 1.9427317760694047, -3.0567942037186806, 2.738588534230587, -0.30187646579803873, 1.2742731175995052, 3.898170442304327, -0.43905952677339155, -5.652466250338492, -0.5220782532342831, -1.3156611056127263, -0.7618457972992689, 1.1555829764759502, 1.27874160101931, 0.3047948439851758, -0.40304497923446986, 1.626320084256587, 1.2835853029505757, 1.0075923951507173]\n",
      "t = 2.0\n",
      "getcoeff(M[6]) = [-3.5345400446101856, 1.701539467989952, -2.861133559608998, 2.7906821968200544, -1.7243535997754103, 1.570496942653911, -0.05892261063085524, 0.08006447053612142, -1.1092982920802663, 0.13714888012875168, -0.6595192135854689, -0.11446361770711853, 4.933538275232603, 1.8072500524160449, -0.4473579801370314, -0.23671817153300206, 1.6170976122820941, 1.6760216294378554, 0.10445596427045141]\n",
      "t = 2.1\n",
      "getcoeff(M[6]) = [11.614074481413972, 6.870458115497593, 3.5489614216283956, 3.691684184391599, 7.259091902542911, 1.5540128263895812, 1.6916144964320252, -0.21513501939204532, -5.651520225174148, -0.41734391222814243, -2.1229829978045784, -0.5698815278839584, -10.839764192070676, -8.79408403923207, 0.2428595912455198, -0.3753298077510753, -4.683896239951571, -5.320193582468991, 0.395026827639693]\n",
      "t = 2.2\n",
      "getcoeff(M[6]) = [2.017229150050245, 1.2731774203876087, 2.5588875578260293, -1.185963012316763, 1.224449612846002, -1.157770527034059, 2.6232370652547568, -0.48799315148013267, -5.599150665919407, 0.6650311993976227, -2.164137674059866, 0.6849071621671671, 0.3811662473152762, 6.8706844849444, 0.4952139884539414, -0.08809050136122941, -0.7133077430912484, 5.439707053926901, 1.1787720198290779]\n",
      "t = 2.3000000000000003\n",
      "getcoeff(M[6]) = [4.5010286811045015, 1.142976764475269, 2.1264508455757762, -0.8149810010895692, 0.7966774084948338, -0.485171205092081, -2.694386926847412, -0.39775181577929664, 0.6362900987483977, 0.14996207813714763, -0.11883457321401159, 0.027202708834662425, -2.3150988713744622, 2.8910781830481227, 0.3148026917684017, 0.0780012548320991, -0.016313121940366635, 1.1616686935840324, -0.9808079075327486]\n",
      "t = 2.4000000000000004\n",
      "getcoeff(M[6]) = [-12.260315913273951, 5.414236537226498, -9.50962617771983, 2.1130138382697243, -5.147433275209136, -1.8594795320542254, 6.617946758644324, -0.37474032739192553, -0.31396926671224884, 0.4025890136921981, 0.10957393139268629, 0.45633487296773834, 5.390890695922173, -4.815999529883863, -0.6004869001150942, -0.17562002592972156, 1.3336157452486612, -1.5407719693051831, 2.1438608738963714]\n",
      "t = 2.5\n",
      "getcoeff(M[6]) = [4.223851373308204, 4.52854268568892, -1.9367587512228386, 4.385902687877493, -0.9370028116715431, 1.3351142922161137, 9.564661769082193, -0.8576995348625105, -0.3521483225946769, 0.11476846454364116, -0.03674293246292515, 0.1338821621702711, -14.722584247196037, 1.8091434187986577, -0.1636025710699821, -0.27987285653707644, -4.6065703268328075, 2.043736433383226, 3.4220197588751824]\n",
      "t = 2.6\n",
      "getcoeff(M[6]) = [10.798738377435152, 7.812382666682376, 5.316039990030252, 6.532379124960273, 1.835400177858774, 2.418045387087795, -3.674216541563382, -0.2520670851792558, 6.890522031412321, 0.8197548138781624, 2.3738025796582467, 1.3171744291012235, -11.819615378836309, 5.4635468936132785, -1.2132692093607045, -0.1324864204494856, -2.1884705891074554, 1.740326928255042, -0.9923807795666004]\n",
      "t = 2.7\n",
      "getcoeff(M[6]) = [-3.494452544414365, 9.384193708932367, -0.5811012074245075, 3.4771672363248562, 0.021692527367104954, 0.5297591017172074, -15.747925772264459, -0.5465069427800713, 7.901202241649148, -0.973186687103403, 2.6077575274501417, -1.442252797385915, 10.59962935315921, -8.352299611553702, 0.6020508779837113, -0.4893810682459296, 2.8139420446896386, -3.414117139804554, -5.960852546187967]\n",
      "t = 2.8000000000000003\n",
      "getcoeff(M[6]) = [18.12634694155926, 12.980288629757096, 5.44673539308132, 6.8642221943139825, 1.302424067268132, 1.6742856646855875, 7.882168989971973, -0.33036446185139035, -0.9942142384481322, 0.14300065521703448, -0.0500827634215433, 0.10351944163602655, -25.16374972477403, 9.486154262315182, 0.561697252542304, -0.14644751927816613, -8.458181672421947, 0.7381975543989022, 2.8141967674121267]\n",
      "t = 2.9000000000000004\n",
      "getcoeff(M[6]) = [21.109474518551103, 28.3729043096305, 35.74440134919076, 30.26773130767867, 18.27522026850092, 9.271637230392363, -10.058257637229818, -1.3143299032977955, -4.026752946562892, -0.5451816005042305, -1.487255726490246, -0.2276420180122271, 2.3136177351907627, 7.536771051460672, 0.20524049950667572, -0.15244161421248423, -1.6828139744657624, 1.988114247209725, -3.198367421750209]\n",
      "t = 3.0\n",
      "getcoeff(M[6]) = [11.25384731188384, 8.279807315385126, 9.868387444808686, 5.131542734462352, 5.034573028902512, 0.7118681729744911, -0.9510065657731033, -0.24259305740183196, -3.026680117381969, 0.26650994371688086, -1.1700261983221407, 0.38988066632038715, -8.162849235444462, 7.231601016938776, 0.16510571595484505, -0.32382979637550663, -8.043667418409377, 3.1301146793663106, 0.13293437913987521]\n",
      "t = 3.1\n",
      "getcoeff(M[6]) = [-6.90450954277763, 7.786953097798653, -5.37636074609663, 3.713640629363033, -0.9980163738958296, 0.3542758939815167, 17.230865901190477, -0.24969382683499874, -8.551657950238527, 0.08310781198175199, -3.399602628555497, -0.09618630528492281, -2.7028299901551707, -6.435299670081839, 0.045906893952905814, 0.2502606104550005, 0.04470482606773429, -3.064233216725608, 6.359725865282007]\n",
      "t = 3.2\n",
      "getcoeff(M[6]) = [-23.496901312940295, 6.479801289483191, -11.68407938853637, 3.697170473445563, -3.872783790828604, 0.6405574588196826, 0.4708321304044139, -1.6871729030415221, 3.3507339905890916, -0.10248690847844902, 1.1316199869631696, 0.08357103569722941, 18.097343030812894, -1.623864170562653, 0.024821210463853535, -0.08833494516214997, 4.614586911933266, 1.1295332715458082, 0.1318208098610251]\n"
     ]
    },
    {
     "name": "stderr",
     "output_type": "stream",
     "text": [
      "\u001b[32mProgress: 100%|█████████████████████████████████████████| Time: 0:00:02\u001b[39m\n"
     ]
    },
    {
     "name": "stdout",
     "output_type": "stream",
     "text": [
      "t = 3.3000000000000003\n",
      "getcoeff(M[6]) = [-6.085900633339495, 4.080932378975479, -4.5314921976379745, -6.651111340251221, 0.3931226950206943, 15.688898938822392, -4.356015553839515, 10.380928274573629, -5.025293516846164, 7.041750819063172, 2.224872185923541, -3.6837171803065196, 0.6489313218799471, -1.5627542332708342, 2.081082311512999, -1.3484115947775916, -3.956068684651415, 0.8401606230353779, -1.4772026383680372]\n",
      "t = 3.4000000000000004\n",
      "getcoeff(M[6]) = [-1.7952107146621756, 1.3554786403100758, -0.7549462391861967, -2.6624092439004543, 0.1293686804564897, 7.127284906960041, -4.137949644751515, 7.739264419055421, -8.062031921630892, 7.088482777070861, 0.7820077119855762, -0.38731024071205405, 0.06493214434037048, -4.15236210633801, 3.1485719640823993, 0.24747229615245994, -1.5294661167570611, 1.1067761511256464, -0.11753842692947533]\n",
      "t = 3.5\n",
      "getcoeff(M[6]) = [-21.18835519886454, 3.919163051935475, -9.166959777082706, -3.8545305696952026, -0.11009430412715424, 8.4992398257696, -4.080834350925178, 10.123349444387783, -6.882776566988569, 9.251890946723272, 0.33449561194465766, -2.368114762811364, 0.11410772508558761, -3.552164156436617, 3.0036881188787463, -0.8788225395762277, 16.42176412376086, -2.8628878567503424, 4.642618601144317]\n"
     ]
    },
    {
     "name": "stderr",
     "output_type": "stream",
     "text": [
      "\u001b[32mProgress: 100%|█████████████████████████████████████████| Time: 0:00:00\u001b[39m\n"
     ]
    },
    {
     "name": "stdout",
     "output_type": "stream",
     "text": [
      "t = 3.6\n",
      "getcoeff(M[6]) = [10.961568288334483, 4.608501878853842, 2.5649160201387384, 1.3971940185094347, -0.3954017243731065, 8.84809973486096, -1.9901458060212531, 4.672924326843006, -1.5617457287523717, 2.422698741957526, 2.5586856864751786, 1.2460405061085247, 0.0008791667248767565, 0.3430571448412561, 1.3136152612344814, 0.13322829224162325, -22.89583614456241, 0.5943241365996197, -9.358645197877797]\n",
      "t = 3.7\n",
      "getcoeff(M[6]) = [6.888864014406584, 7.16110175626948, 2.508261580866249, 8.860465565459986, -0.850568388627718, -0.6535050317555609, -2.045480885412453, -1.0251196497735542, -2.3712982582437783, -0.7111834908697166, 2.8979246935431413, 4.457003590356256, -1.0151589542912796, -0.35599428931672006, 0.052372175931808096, 1.338793242300031, -14.79575092808284, -4.660899153516263, -5.160846716437222]\n",
      "t = 3.8000000000000003\n",
      "getcoeff(M[6]) = [-3.3679745765970592, 6.088977554581177, -3.62414731561908, -14.55734009655886, 0.00526800883508477, 4.934767814525912, -2.750087481477597, 4.482116911040338, -3.6433710076877546, 2.8438403215155974, 2.727633271056463, -8.528877963192615, -0.45104604108325913, -1.1856188195343138, 0.09419362544175236, -3.0071659748039634, 11.527535647272789, -1.6012373358291003, 3.9248051226652594]\n",
      "t = 3.9000000000000004\n",
      "getcoeff(M[6]) = [5.5841118327380705, 2.9104687026812006, 1.3912158547612312, -6.11045761087312, 0.5712447898639071, 3.973140329484667, -3.049600696419954, 3.4219685129218123, -4.455007695769976, 4.09133424986935, 1.9066600273801522, -4.748784376982952, 0.683577561746622, -1.998456495955941, 2.2962741098604798, -2.474151512723504, -3.1278894185929307, 0.692589921176834, 0.8850623541346049]\n",
      "t = 4.0\n",
      "getcoeff(M[6]) = [-1.515533247937234, 2.3926209141848243, -1.3287244814665984, -24.15969954027179, -0.4223441558242724, 26.126227111124372, -3.6142344882420967, 16.458157397717038, -5.879043519105595, 9.603434464381436, 1.7353188280833594, -14.29329200659543, -0.14962412219052051, -2.918867614947605, 2.4337467785154456, -5.330164860057295, -0.8890258292169095, -0.9362901120572299, -1.5259746201115671]\n",
      "t = 4.1000000000000005\n",
      "getcoeff(M[6]) = [-1.5729873382219823, 2.184936175296365, -0.5605284287034799, 4.496399290486455, -0.3062459366800387, -3.9587467910920573, -2.7640376328565046, -3.022213960852224, -2.4350067154595916, -2.363507102448055, 2.4283631260202583, 2.244624863754377, -0.4808411699426041, 0.3631039699486259, -0.8924548895407375, 0.2871490116424062, 0.961373600095492, -0.46247029224562664, 0.6765708399798572]\n",
      "t = 4.2\n",
      "getcoeff(M[6]) = [-0.21254215451204642, 1.754282334079753, 0.23575005459104825, -12.855206500143025, -0.014833978260157568, 9.92340345516015, -2.9718961771795986, 7.35088359917755, -3.527171378176104, 5.294520303798696, 0.7378391515620843, -7.438281102805748, 0.0149623430762796, -0.6498542793056522, 1.88816140789008, -2.775594051717175, 3.4879812063602773, -1.1934190089909258, 1.4799151705628883]\n",
      "t = 4.3\n",
      "getcoeff(M[6]) = [2.3460960173385343, 1.7676983449143364, 1.205855111706124, -21.363962320917512, -0.33382690334156306, 17.49584716829, -3.5523961030300195, 9.865105433400936, -5.282281194689099, 4.644524199582009, 0.7248945902659744, -11.964176209236445, -0.20038820480290584, -2.4035881265202725, 1.0792631759133884, -4.4884632993524, 1.690314238886119, -1.1182036242077757, 1.2330835467627268]\n",
      "t = 4.4\n",
      "getcoeff(M[6]) = [2.344307658186758, 1.788126187604147, -0.1759215241490213, -3.4735385357590918, -0.3729080856361155, 7.721692789580775, -2.775718691391771, 3.90881785820806, -3.675907104204661, 1.1060820460175038, 0.2959105284654515, -2.325810037996958, -0.37382409986455833, -1.1904457336101602, -0.2140415796962142, -1.0330728895260095, -6.830393109173304, -0.2477007764754557, -1.4623358885973492]\n",
      "t = 4.5\n",
      "getcoeff(M[6]) = [-1.578043104124487, 8.475551722364138, -0.857343250211073, 39.951839720464235, 0.06421837802979463, -18.710792940496162, -4.8930043249186, -8.316568866224747, -9.125164290312071, -0.4005464133234784, 5.036028264354315, 21.219647701092136, -0.7224216544475719, -5.714492982210437, 1.478915137516395, 6.808484479621914, -18.378090982308414, -4.6109546109457415, -9.364542106277762]\n",
      "t = 4.6000000000000005\n",
      "getcoeff(M[6]) = [-0.5415151347362321, 3.8839760219485253, 0.6773338580323751, 5.821965254733412, 0.7240860350144919, -5.315806301954604, -4.137138639779175, -3.632384872103775, -4.624103170309, -2.152059656321036, 1.8211063075831921, 3.2917261267545768, 0.6697634126359444, -1.936596082346656, -0.8536839322065977, 1.3131240456373348, 0.2343849434484313, 1.6902876493531929, -0.6411887921424073]\n",
      "t = 4.7\n",
      "getcoeff(M[6]) = [-1.724049500387114, 2.655470356817472, -2.3391470664608915, -5.967685005399606, -0.07684825934718412, 5.789182541716241, -4.918971501685731, 2.9206578927538445, -6.57061881740988, 0.5549780273725995, -0.6331426102202053, -4.440115951412065, -0.08799855248224467, -2.265651410431702, -0.7034863081995724, -2.2704585773255133, 1.365465998421715, 0.7763339740696455, 1.3413197879604113]\n",
      "t = 4.800000000000001\n",
      "getcoeff(M[6]) = [10.657762339337005, 4.740414734691851, 3.534548245974106, -16.588313559417823, 0.11834041637056397, 7.131680989624126, -2.9186033739873736, 3.549994079469349, -4.663753774010953, 0.4292950256457365, 2.9673377015406364, -9.0489127650379, 0.1361573974225423, -2.263365480591094, -0.7469169286544356, -3.0785038989097298, -1.2810098856761916, -2.6469648195688413, 0.5609176313936886]\n",
      "t = 4.9\n",
      "getcoeff(M[6]) = [-5.134291505422419, 3.0730441182714605, -1.4648380216426677, -2.221453759958551, -0.0325116099087639, 11.18884963975069, -2.115290448301736, 6.707118503065217, -2.8010534904577176, 2.824921566478416, 2.5842275568885893, -1.6912757021937208, -0.3172408445133784, -0.923327159822734, 0.12876857984545875, -0.7934007271363253, -3.1568703819044623, -2.014791929711766, -1.8072258285783975]\n",
      "t = 5.0\n",
      "getcoeff(M[6]) = [23.310691553823375, 14.038313144736817, 8.729361815033439, -0.14484766526929782, -1.6502265546927184, 1.3532688215029722, -2.474247979888891, 1.3357051274663885, -2.222089199081529, 1.1946659921691118, 5.723397348428284, 1.1554534108180698, -1.5527322460257118, -0.7159104706349657, 0.5001594740608495, 0.620759174622302, -23.860366100604416, -9.196837785696916, -9.676723599980546]\n"
     ]
    },
    {
     "name": "stderr",
     "output_type": "stream",
     "text": [
      "\u001b[32mProgress: 100%|█████████████████████████████████████████| Time: 0:00:00\u001b[39m\n"
     ]
    },
    {
     "name": "stdout",
     "output_type": "stream",
     "text": [
      "t = 5.1000000000000005\n",
      "getcoeff(M[6]) = [-2.635115604617946, 3.259383219670261, -0.7726539703696274, 2.169534025925637, 0.06400892422531496, -1.9736579465384076, -4.755803829147008, -1.8884093967630768, -4.451670380827411, -2.1468151924882015, 1.1773959315194076, 0.17322884887640233, 0.060355314396875304, -1.1557106428986714, -0.797579919152261, -0.4372877662773053, 1.991369233726076, 0.8895944188683297, 0.5130631671910988]\n",
      "t = 5.2\n",
      "getcoeff(M[6]) = [0.6109979746617218, 3.215449767544893, -0.0016929158449054422, -2.0384014927486427, 0.42363287221275403, 0.3353357116988644, -2.900860461349117, 6.462709956886907, -4.577061176682111, 10.594785478467323, 0.4250341251616511, -1.6439759943310168, 0.39367206936232035, -1.5785797309529803, 5.834644794807058, -0.5452378785772948, 2.0336836908352445, 2.9492036156676957, 0.9255195700775186]\n",
      "t = 5.300000000000001\n",
      "getcoeff(M[6]) = [-4.8243968837914455, 1.3997876294061604, -6.063055614303279, -11.998225065836042, -0.2817661243384635, 14.393322199422101, -3.4105838955528403, 9.262705994145687, -3.069255418122284, 5.219452750281086, -1.2686303030880262, -6.32956208131516, -0.368876330280778, -0.7413142777077276, 0.9839225085312477, -2.015115358904032, 0.6276047466947885, -1.496162453684212, 0.8956120839575695]\n",
      "t = 5.4\n",
      "getcoeff(M[6]) = [-11.259977313536329, 4.060262300598022, -5.388590966555695, -14.779939797847693, -0.5616539391945269, 12.598267614312668, -3.048937278741215, 10.420068055996367, -5.3414603258688595, 8.760940832969903, 1.7475608583856426, -7.922470680921045, -0.7953350814723035, -2.6858254923429317, 3.7351356527083777, -2.514720340685812, 12.813509122917088, 2.552763079196155, 4.054473296865989]\n",
      "t = 5.5\n",
      "getcoeff(M[6]) = [-10.228595485916005, 2.207341742028803, -3.8101804547192017, -25.029679264560507, 0.7931105320234927, 41.940394958968675, -5.411744122848016, 24.26249756460225, -10.862673552274458, 10.733684911529568, 0.5389602861432157, -14.256826684914703, 0.9049174200743421, -6.73289736100149, 1.8838393727332519, -4.547544729547306, -6.202459445167543, 0.8028180631716699, -3.0022861865107915]\n",
      "t = 5.6000000000000005\n",
      "getcoeff(M[6]) = [-7.391825499976258, 21.23951830192433, -3.6670025160649953, 14.002175705186763, -2.4322961313291556, 0.2967648552550064, -2.9390074778201187, 1.4081122638661165, -4.388394376715633, 2.6597118677846905, 5.352743076020315, 8.198730384590215, -2.5288404677505705, -2.360887304996848, 1.5313167928583502, 3.1254160202986174, -5.60440547430669, -16.6292206038171, -1.5509667033047758]\n"
     ]
    },
    {
     "name": "stderr",
     "output_type": "stream",
     "text": [
      "\u001b[32mProgress: 100%|█████████████████████████████████████████| Time: 0:00:00\u001b[39m\n"
     ]
    },
    {
     "name": "stdout",
     "output_type": "stream",
     "text": [
      "t = 5.7\n",
      "getcoeff(M[6]) = [-14.015622618442134, 9.017571567447671, -4.2104808445376, 1.836602472351366, 0.13518697938135144, -2.3417147055512055, -5.618722590171722, -0.7608571165766809, -5.360488976892056, -1.125013296317668, 4.1999305987357065, 1.4499119929740738, -0.0757071547006126, -1.9837963988627012, -1.6541603916776328, 0.9820395960334811, 13.651263523530766, 3.2773242590133727, 3.0044361451489325]\n",
      "t = 5.800000000000001\n",
      "getcoeff(M[6]) = [0.9072631635692265, 1.9472864826755578, -0.2569026808466893, -2.353711531533257, -0.6601680060127978, -1.509025709308327, -3.815146966013972, -0.17333016724908656, -5.309099386227708, 0.4567385759032456, 0.9207513500423667, -0.6810856757308157, -0.6081442773447763, -2.0307800102104867, 0.27324311016701075, 0.500920793566277, 3.032432411337262, -0.4026983189172326, 1.618807702693217]\n",
      "t = 5.9\n",
      "getcoeff(M[6]) = [4.370833395088064, 2.986902476877143, 2.1498134847771184, 6.499780640599392, 0.7220216216165163, -6.323885029414955, -5.562385495127881, -2.5303849947598858, -9.18044425656969, -0.05689211829439644, 1.299683779825421, 3.4460763808487442, 0.5102099250208708, -4.183803015632918, 0.4069757156454188, 1.0317546382471772, -4.227273159211605, 0.7610923717837574, -1.9167704161444332]\n",
      "t = 6.0\n",
      "getcoeff(M[6]) = [-1.267657563539755, 0.9538287512985529, -0.38155504786805156, 18.613155587550402, 0.15219235687211113, -15.406566650731484, -6.003094627527768, -5.997325820979854, -12.024891118877463, 0.9642224013585441, 0.550209907642136, 10.42787443431943, 0.559658861133526, -6.999445303104953, 1.5855359033779144, 3.886759426172814, -1.2084056870300617, 0.34525968410807073, -0.8109957891415576]\n",
      "t = 6.1000000000000005\n",
      "getcoeff(M[6]) = [10.675131984904517, 3.1557246581946705, 4.158889761661695, 26.238157545182126, -0.8093639754738985, -41.39821669341268, -1.120911243194729, -29.11245745265704, -1.5341287948251014, -19.433384079003496, 0.8251348362934812, 13.188248755832108, -0.6792538656726423, -0.3977540300511274, -6.6971742229129845, 3.7429212580234603, 3.3975139131195764, -2.5252225421199577, 3.028287203923311]\n",
      "t = 6.2\n",
      "getcoeff(M[6]) = [-32.36282806476344, 24.95445399179404, -11.32103969096506, -6.943806505958151, -0.15589329690042886, -35.44752148318942, -7.394155892405777, -14.870796305700134, -13.841742923334623, -1.5106870682904736, 9.207581705894764, -2.242912846136348, -0.8706148514064371, -8.35934217449829, 0.8221494327223482, 0.10959316630125082, 72.8411354472074, -16.808613159217643, 22.089721300896574]\n"
     ]
    },
    {
     "name": "stderr",
     "output_type": "stream",
     "text": [
      "\u001b[32mProgress: 100%|█████████████████████████████████████████| Time: 0:00:00\u001b[39m\n"
     ]
    },
    {
     "name": "stdout",
     "output_type": "stream",
     "text": [
      "t = 6.300000000000001\n",
      "getcoeff(M[6]) = [-3.997413711771021, 13.4807834141093, -1.3813152163957072, 6.22140991619135, 1.1621333677923456, -8.5730850049266, -5.053973969844967, -6.795308275366555, -2.9224001898545366, -6.292217632106094, 5.812708625833964, 3.995539098160839, 1.4621358302172784, 0.6680834155462363, -2.6857215708024214, 1.4775350171181658, 5.682555089268931, 8.580931944023101, 1.90403200872905]\n",
      "t = 6.4\n",
      "getcoeff(M[6]) = [-0.5917967643434459, 2.496610703183193, 0.007426761394741327, -0.5798178512842624, -0.2566079368325596, 3.844179455195965, -4.166242528270152, 2.820079299554281, -4.969768163085823, 2.0173569211226483, 1.6170039365838942, 0.3475629751045034, 0.011760898560819563, -2.1128669216556073, 0.9911854398881061, 0.7181230670982183, -2.106852141072374, -0.40404640522007745, -0.6467892777544653]\n"
     ]
    },
    {
     "name": "stderr",
     "output_type": "stream",
     "text": [
      "\u001b[32mProgress: 100%|█████████████████████████████████████████| Time: 0:00:02\u001b[39m\n"
     ]
    },
    {
     "name": "stdout",
     "output_type": "stream",
     "text": [
      "t = 6.5\n",
      "getcoeff(M[6]) = [7.9403032652571195, -2.2628501799739853, -22.49298075267149, 2.6724202867989297, 14.198685947225986, 2.4732931101221327, -14.680752088511374, 2.910951642186377, 2.986462366132087, -1.117320438003481, -9.603000126171263, 6.788870400919036, 0.27643505198057183, 1.8342599991543032, 0.6467246791665586, -0.3552340449971332, -0.023474328549795795, -3.1934002733061524, -0.41617045105275546]\n",
      "t = 6.6000000000000005\n",
      "getcoeff(M[6]) = [-8.87524180931102, 0.036594813108350374, 16.411360900752094, 1.3022095363477755, -6.814397914417603, 0.7926539032716039, 10.320323887585838, 2.7162233346800027, -2.545272579040214, 0.08096028348957822, 4.984110741940566, -3.8314718900317173, -0.8310778105261747, -1.6299945140836487, 1.6357592141735389, -0.012705447656636221, 0.16106280594830605, 0.9694030094903481, -0.3364862070455417]\n",
      "t = 6.7\n",
      "getcoeff(M[6]) = [-21.118619386949543, 0.6785681857442867, 18.653635741847193, -0.14252549946236723, 4.579812963405576, 1.8800305401130446, 11.85051065437959, 0.02416722053727116, -7.574887799135677, -0.6001168064749659, 7.513422466505391, 1.0769686802249074, 1.5617215798517297, -0.029382577847185287, 0.09351859086153966, -1.0598756512649599, -0.08823306945836541, 2.598764155834666, 0.4642969524214155]\n",
      "t = 6.800000000000001\n",
      "getcoeff(M[6]) = [-6.95957821928609, 1.963642647928539, -1.9760442290887696, 0.8683790588151812, 7.054399501398829, 1.8357280101764608, -9.41530699805185, 1.6232016198995496, -2.5683340951905467, 0.4844302903415829, -14.80716051064768, 3.6055309087910805, 1.0019408955421267, 1.1946266126790508, 1.0223399426271063, 0.45205745545692594, -0.07283223825034452, -7.726647196445844, 0.10304586173254908]\n",
      "t = 6.9\n",
      "getcoeff(M[6]) = [-4.6916971164045735, 3.68104466546617, 8.757358060149663, -2.0861204198497463, -3.7400649316976606, 2.993987182813301, 7.524182388646109, -5.206712624433081, -1.738970286894359, 2.0763263452289498, 6.586481600956836, -2.7929938199829314, 2.663568462507123, -1.1738360128991543, -3.716790405630625, 0.07959247257802086, -0.09674078924215287, 2.7766032887073115, 1.2228231155889553]\n",
      "t = 7.0\n",
      "getcoeff(M[6]) = [-37.03825429953111, 13.597766763519957, 0.5182521597288013, 0.24124786363593595, 37.01535689299762, 16.799008542656676, 0.9070808942534412, 0.19086646957682443, -13.486403660925298, 5.515184642820248, 1.7480915005401105, 17.663107355143413, 11.166651199360018, 4.1263377513766635, -0.23268072669489914, 0.5989235921398015, 0.016553976433719513, 1.1987291494294083, 3.2509742815840545]\n",
      "t = 7.1000000000000005\n",
      "getcoeff(M[6]) = [23.499435257155547, 4.596406357031385, -3.990469947421825, -1.368373738758774, -18.481492170764295, 8.038311626717718, 6.09204315048947, -2.6680211733435804, 8.050753513335179, 1.402047469001916, 12.287154496437216, -8.869298556340677, 4.522129638239887, -2.622596751333524, -1.192808798508379, 0.2684518800585715, 0.06766172507689325, 6.189643879083906, 1.556596852702324]\n",
      "t = 7.2\n",
      "getcoeff(M[6]) = [0.7005432061357171, 1.0758789081945452, 3.6975329937044776, 1.5400339192253603, -3.90984322408835, 0.9928863097783035, 8.524091989317695, 3.76941863283972, 0.08144064939392145, 0.34828587239227404, 12.151345600566424, -2.557977524564458, 1.9136741615914503, -0.2451580866958844, 3.0367755459710484, 0.031991984659713334, 0.012177430487207031, 6.282943662406417, 0.8157100320390691]\n",
      "t = 7.300000000000001\n",
      "getcoeff(M[6]) = [-7.869432552798652, 7.10271683781697, -7.806771372510045, -2.2058544607797037, 14.182173003928781, 8.98420659280465, -17.080035001796013, -4.505850358087881, -2.3605583418931264, 3.5247504697625414, -22.838000334034287, 7.332716087889246, 8.996676484706832, 3.033545841076788, -2.5115444074650095, -0.8123056440051235, 0.10176445848793242, -10.93985958688389, 3.225104317067717]\n",
      "t = 7.4\n",
      "getcoeff(M[6]) = [-7.3269981239851045, -0.23965185466746447, -2.92140663134262, -0.3867744391746708, 7.561881590068627, 0.8427394170212479, -11.985963187249725, 0.2293018705279189, -2.4718409448518397, -0.10307837212817578, -17.075243327673473, 3.270416207935555, 0.6684537748175459, 1.1713957068000451, 0.366030754965188, 0.40536494175983745, -0.09460704472158471, -7.9943966196717895, 0.5329786965173754]\n",
      "t = 7.5\n",
      "getcoeff(M[6]) = [9.281731799128305, -4.139824260350027, -11.488754764481747, 1.7822114938314977, -2.0782328270022745, 4.363819558556164, -19.329446620932785, 4.535437439832741, 3.34992171386916, -2.0239842807626074, -23.988698452271514, -1.3911664289974617, 4.782721003403272, -0.1627794561589031, 2.691728220688584, 0.9806644275431661, 0.18108822931592927, -10.947668136860516, 2.474958493451706]\n",
      "t = 7.6000000000000005\n",
      "getcoeff(M[6]) = [22.538194794551277, -5.227740438033316, -18.685691526276454, 2.5362675356145457, -3.9810842714586574, 6.982058772589872, -12.092844544214234, 6.049960807175167, 6.687139847954252, -2.600883671401697, -6.4517586240056914, 1.36376826836932, 7.238474363789713, 0.5841892896623557, 3.732776382395902, -0.2739163287819094, 0.18350341782383026, -1.6987296632275908, 2.9863675470881925]\n",
      "t = 7.7\n",
      "getcoeff(M[6]) = [-2.7518768837219083, -10.087716876747368, 14.710145471650225, -0.6619510461171132, -13.433407739676255, 12.219164191798566, 5.570311509855035, -1.7181387701007649, -0.5655566277474728, -3.457560846393928, -1.0106768047536594, -9.299711824245648, 8.84863918554515, -1.6847103982276908, -1.3055473633363477, 0.4978350363428997, 0.10272481652932575, -1.3794832811337305, 3.192494297419871]\n",
      "t = 7.800000000000001\n",
      "getcoeff(M[6]) = [9.4079118753065, -17.326531249000528, 13.91747745877787, 0.8475978892443837, -24.218260375744666, 20.17906169930918, 6.965586552513812, 2.030143230960644, 2.5054127065113128, -10.037605206849648, 1.3397488034444045, -17.753194365489186, 15.22646520990167, -8.639645806977446, 1.3041256757273145, -1.0816147228915076, -0.2530917341146518, -0.35085750939320115, 4.257773071298178]\n",
      "t = 7.9\n",
      "getcoeff(M[6]) = [-5.7631557699923235, -5.772559588129571, 8.781132308951213, 3.983706908498967, -3.7988330386974365, 4.7643052772444, -0.515369138764989, 7.4086946682005195, -1.7718795905117477, -3.3654742835199762, -7.48788540839319, -3.7529977216311985, 2.7531223807124516, -1.9527711184782044, 4.357322364724355, -0.3930306893643304, -0.017172873722264663, -4.820414774351132, 1.6311841002799938]\n",
      "t = 8.0\n",
      "getcoeff(M[6]) = [-2.092163948415917, -4.861245608823897, -7.226892186802469, 1.3028200224269202, 10.119276122154114, 4.489184303148256, -8.265643906760886, 2.1011398866130793, -0.1367412612606571, -2.2746863462743367, -9.554636262014023, 5.522172550310893, 2.8140524896067163, 2.208876293663782, 0.9158800128377093, -1.2643300986235488, -0.0028242571290725536, -4.735510780182188, 0.3328796470985789]\n",
      "t = 8.1\n",
      "getcoeff(M[6]) = [1.70961196499885, 0.10133364570062324, 0.27676609194579915, 2.5471013605501, -3.93363829722707, 1.0301611670102004, -3.578552927840244, 5.505545682340987, 0.7517370598615983, 0.139024075265176, -7.292715045549638, -4.691899582229976, 1.5688865068540037, -2.506468191044615, 3.1275162870047333, 0.4658914210404341, 0.04333240890083383, -4.699857763160016, 0.7246968122421323]\n",
      "t = 8.200000000000001\n",
      "getcoeff(M[6]) = [-3.0423613452794256, 1.4251829385141348, -7.484318011888931, -0.9069153473713312, 10.85197528692829, 2.340219568895069, -0.8725293128370168, -3.02110633379133, -2.9157338065979608, 0.6216282983188024, 3.769057722288917, 4.784421837624963, 4.166553924490688, 1.6378096647192368, -2.4107919744107527, -0.5718307118980959, 0.026858686144806663, 2.560224717035789, 2.5205292928765832]\n",
      "t = 8.3\n",
      "getcoeff(M[6]) = [29.764181440036868, 3.743526629818487, -26.506972264956886, 0.33276455499265123, -5.228637035724145, 6.2160871336881085, -15.860719856760888, 0.8822126412784691, 9.08499742480754, 0.8573879840108627, -8.53593548908017, -2.7003788676428684, 3.8418584137846974, -0.6213509941260348, 0.5007093459963541, 0.003600786213825378, 0.018973241172231967, -2.5977465919287206, 1.0739688406519006]\n",
      "t = 8.4\n",
      "getcoeff(M[6]) = [-19.837885457096558, 6.290520209288776, 5.088360593553313, 0.24944966478258968, 15.00967516275726, 7.467409353949532, 2.4596391345390085, 0.6991618044773349, -8.474314852952759, 1.439626530329135, 1.5433689751556825, 7.65145465918304, 5.555640382123569, 1.977298775810543, 0.6963012181930262, -0.0670235931194447, -0.2648993606990349, 1.001564704761599, 2.034318188811202]\n"
     ]
    },
    {
     "name": "stdout",
     "output_type": "stream",
     "text": [
      "t = 8.5\n",
      "getcoeff(M[6]) = [5.058104764553865, 6.126442975956429, -12.224218467590408, 0.39023843257021523, 7.7170892879970765, 6.142396531805749, -3.614055849237954, 1.3477270138062372, 1.7591990903259347, 3.023030343003145, 4.065305111457187, 5.472304112950203, 4.52031846241044, 2.106914333561585, 0.988438148071948, 0.10627097650109582, -0.03204783131829077, 4.046506177182476, 1.4353328531222205]\n",
      "t = 8.6\n",
      "getcoeff(M[6]) = [6.141677114131798, -1.5672981860205537, -27.422298568116286, -0.7063143237365509, 21.074439084368034, 2.07284891493673, -14.569208527967355, -1.1606161226372416, 0.7790004939811674, -0.7646028478635787, -5.240452333381095, 10.013400778114518, 1.4265278717913716, 1.961169381919871, 0.2655197261204615, -0.33186320887268017, -0.09832234338217959, -0.5634420080698823, 1.5491215481657126]\n",
      "t = 8.700000000000001\n",
      "getcoeff(M[6]) = [46.14992191555025, 9.927098137518659, -0.5023440535306471, -3.0605779003951916, -47.59100807342954, 12.836787213460992, 0.35866373131512896, -6.335648893023969, 16.631944824971693, 3.084061453523, 0.08749041979026473, -21.30515950559947, 2.1211064412698195, -1.1974481686121128, -3.904254834786667, 0.1968597478543468, 0.14298952017238203, -0.08025688479679707, -0.9667866973687861]\n",
      "t = 8.8\n",
      "getcoeff(M[6]) = [4.712356188967585, 3.785179421043961, 10.127393347512402, -3.2199389112728425, -12.595746434831275, 3.138090814016825, 16.542747516168625, -6.646820931654925, 1.5656746181797414, 1.7317288942888382, 20.17782219207108, -6.820906253826525, 1.9732329243241713, -2.254147525775645, -3.7071980428767413, -0.17491238198993442, -0.06155784986024232, 9.029796223625592, 0.11157315369368477]\n",
      "t = 8.9\n",
      "getcoeff(M[6]) = [-4.947839560367763, -1.8219229852119394, 3.643265003592875, -0.8827237970157151, 1.0297180532252843, 1.332718011256804, 6.734341731783294, -1.4213472521784958, -2.6944984180180325, -1.8258438502727379, 7.005655128190489, -1.4288130102108778, 1.032735483009769, -0.9526855725722252, -0.8206064043596386, 0.609124468242088, 0.04082639872696593, 2.477732513364879, 0.3967871185858341]\n",
      "t = 9.0\n",
      "getcoeff(M[6]) = [-3.451979688538196, -1.9512680992629434, 4.846840891399782, 1.124954186384549, 1.64480450899471, 1.9730758493193046, 9.800971714249739, 2.4905847638531835, -0.2793296558485954, 0.26238463983339066, 12.454451917095994, 0.32406869455743165, 1.257112827852601, -0.5171341416662464, 1.6997110414992078, -0.6937433626308908, -0.10956058231158838, 6.126384915664723, 0.2800255638653495]\n",
      "t = 9.1\n",
      "getcoeff(M[6]) = [0.7768757783763867, -2.1061029533183984, -3.048137309804704, -1.3144141778613345, 2.995406034192686, 1.1119210055874253, -2.077746409225124, -2.7701339018004525, 0.33471536764688997, -1.099647453107725, -1.520823029304787, 1.7118925602682862, 0.3551936645282338, 0.8263443537659062, -1.6639621833850542, -0.8002302506454162, -0.03600833212750581, -0.5470091151096225, -0.24308519036427106]\n",
      "t = 9.200000000000001\n",
      "getcoeff(M[6]) = [-0.7471244586643524, -0.6980384709792631, -2.3416490337349485, 0.6502956072561439, 2.0712335874545156, 0.3754346715323168, -2.4098777655653048, 1.7540422528958342, -0.6589811568873473, -0.447487260574371, -1.916139812233018, 1.2330160045331688, 0.6208603009517033, 0.4101177001120039, 1.4267021211191258, 0.6368938634487689, -0.05296459709710781, -0.4503704424794271, 0.22382292761202574]\n",
      "t = 9.3\n",
      "getcoeff(M[6]) = [-0.6614743259825067, -1.2770806564638557, 5.91220620142374, -1.9620630344279464, -4.811987723880843, 1.1923819145482135, 10.2996479323273, -4.1607712825352765, -0.6209954887862074, -0.37138734552879354, 12.978194921930037, -3.3734330051010963, 1.9075064682659333, -1.0693729901677407, -2.552688271765771, 0.44496141301254466, -0.08559762340356643, 6.20489372002611, 0.9141956683052775]\n",
      "t = 9.4\n",
      "getcoeff(M[6]) = [-3.6347743380841115, -3.9091867952870984, 9.159791088712394, 1.8037606067249106, -5.0842667567642845, 3.543963297171164, 7.639321641566129, 4.704684655495448, -1.2427556302277167, -2.337376726465666, 6.156161218309915, -3.2108879094010403, 3.7238169166029267, -1.4994247560100589, 3.560838979063746, 0.192162800341373, 0.1019885039560767, 2.4504288132735406, 1.68181676521915]\n",
      "t = 9.5\n",
      "getcoeff(M[6]) = [-0.9335094734277289, -1.6167667301519608, 5.171837849073359, 1.485280064501821, -0.8204539282452616, 1.4130269633716885, 15.459049746176127, 2.8604660627413554, -0.5503665370838772, -1.4276978887620242, 20.687563154613386, 1.2099278538162501, 2.361962901250706, 0.8726103049055589, 1.4267151029545964, -0.2177631632956703, 0.049495284397983, 9.106914586956083, 1.286737772665942]\n",
      "t = 9.600000000000001\n",
      "getcoeff(M[6]) = [-2.857135659302522, -1.3753061609367128, -3.1538657770270007, 2.3779611836015997, 7.202800355704541, 1.0741922098425611, 0.8265779346783182, 4.732952434644409, -1.2654545224381095, -0.9198445427422298, 2.5949954562506683, 4.157135569068052, 1.7919053181889861, 1.521470997534837, 3.065528872237533, -0.48473125782578946, -0.22120518885400375, 1.267714105383592, 0.8787299121278477]\n",
      "t = 9.700000000000001\n",
      "getcoeff(M[6]) = [-3.2399364581143373, 0.10437211329853247, 3.865587630493991, -2.295426747021384, -0.8895690729181549, 0.7336146496628552, 4.313305027756613, -4.682376512411485, -0.9765826369712021, -0.11635191869633485, 4.8891218610269185, -1.0981070645163538, 2.0058046439531663, -0.41701258898007953, -2.7668712669277626, 0.5049232512167052, 0.037138549237709144, 2.3782570798699165, 1.5595132977343382]\n",
      "t = 9.8\n",
      "getcoeff(M[6]) = [0.28983368335312265, 0.26657152354847596, 7.804112495606484, 0.16073026633063595, -7.2760824068654735, 1.0073740782953247, 8.430778518397325, 0.3093536795314791, 0.2024625617532041, 0.4285949032953502, 7.782142311420095, -3.0278256978451688, 2.407452534371254, -0.7937167602725739, 0.3173407853389269, 0.374819635520772, 0.008325061594041443, 2.9715527097011156, 1.2196670384059045]\n",
      "t = 9.9\n",
      "getcoeff(M[6]) = [-1.5282512978339255, -0.29345179496658585, -0.2463248578026666, 2.3869608264945987, -0.13448807075226, 0.6654524813388412, -5.456665276520879, 5.5149861710644945, -0.5489089573979944, -0.25759947436806013, -9.45558043522854, -0.20654629672294444, 1.4901151476182972, -0.09820738057777786, 3.999674983692052, 0.8785343044662146, -0.058348876189415685, -5.391305283709227, 0.6430289375910904]\n",
      "t = 10.0\n",
      "getcoeff(M[6]) = [3.2930579621301828, -0.9888262917080404, -3.1172117674187705, 1.829491357065209, 0.4143983628518699, 0.5697478234677937, -2.292053155825201, 4.0181075359614145, 1.291319609401363, -0.41631281615414123, -1.8471588270139168, 0.4002927476487316, 0.555969357705212, -0.023499856258826675, 2.6494211919605184, -0.552890288677613, -0.25689476196912747, -0.9829070425350391, -0.004462625723701542]\n",
      "t = 10.100000000000001\n",
      "getcoeff(M[6]) = [8.553828205708292, -6.818671001670786, 3.398886094156249, -0.10801917486940255, -12.01202281671084, 7.812789358769295, 4.1574478830385635, -0.7089655639810619, 2.5512304629197198, -2.834441159618904, 4.465806892810925, -6.032577683554532, 5.017367860885563, -1.948173848789418, -0.7132946230094674, 0.04345863909266065, -0.21679500970980067, 1.846591021653769, 1.25638815306369]\n",
      "t = 10.200000000000001\n",
      "getcoeff(M[6]) = [41.17709575880835, -15.964118986420413, 12.993074469743167, 1.0751304727639797, -56.11655943361738, 19.96724551550362, 8.706726760345653, 2.0659651237826253, 11.790180530906792, -3.911141643910373, 4.802797478314259, -25.015724429783464, 7.157977645851256, -6.154823885560961, 1.2810954373783836, 0.05997577178504834, 0.007292725851902295, 1.3627304245879488, -0.8964691624486306]\n",
      "t = 10.3\n",
      "getcoeff(M[6]) = [9.946847825123095, -4.468752027690646, -5.270873423903538, 4.166279910186154, -5.125990770033776, 4.724115407822332, 0.226421375481753, 8.762425129418915, 1.8512911904030231, -1.8885118321279513, 4.895187388766204, -1.8246322476093204, 0.9691005873404847, 0.03541286479968825, 4.884152186327762, -0.16155103978899737, -0.09225692352608118, 3.538350196466733, 0.6512104701391926]\n",
      "t = 10.4\n",
      "getcoeff(M[6]) = [5.335512654249508, -7.661492668483204, 2.3384483885470324, 3.569244712368703, -6.301946290518629, 6.188373204656562, 8.573759301191306, 8.227266218897203, 1.075952737269309, -4.287528676164168, 11.494257891653247, -4.210290848085392, 3.566861076878631, -1.7488220639768566, 5.160787913707785, -0.5551707887932085, 0.1814892901331196, 4.9978246461138, 0.7724151831580374]\n",
      "t = 10.5\n",
      "getcoeff(M[6]) = [-2.725301358116524, -1.6603850147609422, -2.6879225190685685, -0.14241296432955056, 4.2001627027438655, 1.366500743745648, -9.99565873162914, -0.2819766581726722, 0.18971606307086328, -1.030777009827801, -15.29654811876757, 2.8625228795298368, 0.5542194324176609, 1.0272918545728416, -0.03837008886388681, 0.155217697769401, -0.17858955543722396, -7.531412083770974, 0.13845810024817415]\n"
     ]
    },
    {
     "name": "stdout",
     "output_type": "stream",
     "text": [
      "t = 10.600000000000001\n",
      "getcoeff(M[6]) = [-1.5216910389516602, 0.6402262595312243, 0.7944489361018616, 1.678777695781111, 1.446354658433854, 0.8908024131180967, 3.961806271164352, 4.020897551764961, -0.5416427778273949, 0.3061247825810473, 6.099435899248736, -0.6790109635799078, 1.5490566066117148, -0.6535352709973022, 2.9691460371053715, -0.47498730354944924, 0.11673409680774652, 3.3767022193249105, 0.5110521094860654]\n",
      "t = 10.700000000000001\n",
      "getcoeff(M[6]) = [2.418574442212733, 0.4121443545035912, -6.261551515373374, 0.9086379147858681, 3.38429052581146, 0.2609987058822719, -5.348686702765683, 1.5126346444617464, 1.106819176517067, -0.13620309224896776, -3.7579143886782447, 1.5882798409935093, -0.10838743731283257, 0.5898502787579502, 0.5968476487537444, 0.009099069522303096, 0.2867799176699296, -1.6594691316754762, -0.4845385217842395]\n",
      "t = 10.8\n",
      "getcoeff(M[6]) = [2.071206113903167, 3.5228019932331804, -1.9921376234988157, 0.6048091041361059, -0.24456008706290078, 3.324630293646372, -5.443435733673521, 2.0568963373112323, 0.7452685157544869, 1.9796897376200653, -8.711313082606676, 0.7232515878076065, 3.7302251393879517, 0.6076989232850907, 1.4892405462786202, -0.3999649516036316, -0.055597751322459, -5.107723875794727, 2.206215109932828]\n",
      "t = 10.9\n",
      "getcoeff(M[6]) = [-1.660953119620232, 2.3514529748176907, -0.8966412271042068, -2.099605931769721, 2.3373963235077833, 1.7531924257084193, -4.127035627362116, -5.197939352383441, -0.5755580772324376, 1.3031353179228164, -7.137183492465409, 0.9243094471813658, 1.768017040461507, 0.312404064100334, -3.6105786109867637, -0.5542314673652174, 0.002763020374271002, -3.6837956782886767, 0.5703726908958975]\n",
      "t = 11.0\n",
      "getcoeff(M[6]) = [0.9824575144453737, 2.945189703521781, 2.81731080487879, -2.897901991829832, -5.093546377850566, 2.57790629528917, -5.030472860401237, -5.925482613286771, 0.48193375950842265, 2.062670525616896, -10.158155682088683, -3.508779106050035, 3.3884220298712173, -1.3361797707537608, -3.0185148604514107, -0.2650355511026455, -0.03892450230235367, -5.5046805805023356, 1.6148063740346632]\n",
      "t = 11.100000000000001\n",
      "getcoeff(M[6]) = [-3.2485345592762345, 1.56622376761309, 3.2652325060015865, -1.7862882825991393, 0.2382530533872752, 1.0606070989259304, 3.086098580337891, -4.456102545903659, -0.8943618263497175, 0.23937186069148622, 2.09436283882073, -0.5739782859560798, 0.3985643959873348, -0.46059061455781836, -3.107832642924831, 0.020864372061206955, -0.23277011726663702, 0.6238211698862829, 0.1128697793733109]\n",
      "t = 11.200000000000001\n",
      "getcoeff(M[6]) = [1.457992952454043, 2.6539899473790394, -7.182281631023612, -1.7284439130366698, 5.297947166305778, 2.0951470710886424, -7.910132855452625, -4.046673384701597, 0.7186940577233806, 1.3153735159421962, -7.573466359990127, 3.389258368183486, 2.1546386199586864, 0.9282664281360633, -2.258830690928049, -0.049439996930336884, 0.09840412118508014, -3.098692343934361, 1.2048067980780024]\n",
      "t = 11.3\n",
      "getcoeff(M[6]) = [2.1588610066615335, 0.39917551639273635, -5.010206339506255, 1.2480622529110141, 1.3125264994575732, 0.8833819458122092, -6.466539113881122, 2.648479877823229, 0.4114067405528525, 0.5670636190121071, -6.86269492739221, -0.4127610964741697, 1.9724573269673875, -0.5568145103814381, 1.9814603785470706, 0.22665271543054655, -0.05191460294307403, -3.0290059865885928, 1.1661898084468711]\n",
      "t = 11.4\n",
      "getcoeff(M[6]) = [0.4740816779711355, 2.90718986720286, -0.14981432249954063, -0.27637776099314587, -0.6275740138335264, 2.288552019496958, -6.346523728417143, -1.030952605394166, 0.34248859709906293, 1.5836187661559553, -9.98931792764184, -0.8264597664457787, 2.203635492473699, -0.7410381832301076, -1.2796291054023423, -0.8161826049529037, -0.11642456811911912, -5.110455754323484, 0.9643565442030532]\n",
      "t = 11.5\n",
      "getcoeff(M[6]) = [13.298487763451702, 8.279796425338283, -0.8428500734861555, -0.32319828375874776, -13.549682051001271, 9.955944394129219, -3.463000597982467, -0.6526962524643442, 4.214493638072732, 3.2027022382056267, -4.459931657083631, -7.218558946128408, 6.585058207453001, -2.1313059465226565, 0.1115987112132056, -0.29059021579215494, -0.06942861837908247, -1.9748196644627647, 1.120453673054676]\n",
      "t = 11.600000000000001\n",
      "getcoeff(M[6]) = [28.29587656615164, 11.73638524505605, -15.79982941811562, 1.9647723745131638, -16.155408314929787, 20.833717382700964, -14.05278702252825, 4.679538108553488, 10.044400591114485, 2.459923171833821, -12.36224640539779, -13.378098309786786, 18.14457683448331, -6.268478156067372, 3.251842008187705, -0.5578364927898053, -0.09020650972644176, -5.002488967498392, 5.817724319770517]\n",
      "t = 11.700000000000001\n",
      "getcoeff(M[6]) = [34.3892484394492, 13.468291021898228, 7.692247937078995, -1.7004031058744429, -74.26781842044029, 81.30626472020032, 0.0031203414040632538, -3.1472684784024394, 7.153707195121344, 4.578493174600971, -6.058184038553412, -100.04711732976644, 85.58217888004219, -49.464454382817884, -1.4729422503323684, -0.7682529682938408, 0.2773482922174811, -3.8190520762899487, 18.82931662873553]\n"
     ]
    },
    {
     "name": "stderr",
     "output_type": "stream",
     "text": [
      "\u001b[32mProgress: 100%|█████████████████████████████████████████| Time: 0:00:00\u001b[39m\n"
     ]
    },
    {
     "name": "stdout",
     "output_type": "stream",
     "text": [
      "t = 11.8\n",
      "getcoeff(M[6]) = [-5.469519285820407, 2.0990819335115782, 7.857766210788713, -1.7279760809094287, -4.766883280162924, 3.0602969983111654, -6.573392824153872, -3.6016545884782674, -1.578137299618098, -0.0298593402027102, -14.760818677431725, -2.17086229165443, 4.200096145891642, -0.20522610679691633, -2.023619116057716, 0.3272579692805943, 0.00834364200686141, -6.759277526160492, 1.960310322721944]\n",
      "t = 11.9\n",
      "getcoeff(M[6]) = [-9.845042457856723, 3.6038207310495016, 6.75394365981151, 0.8611735354022676, 5.9072805550168015, 5.3791385077533, 13.088394971435763, 1.740389641153707, -1.8385458725665977, 0.9818433211249874, 17.72388599702033, 3.311576267396134, 3.585078687713686, 1.1300265267004956, 1.5981052664094952, 0.08570721896558871, -0.007072316696698734, 8.761531396005477, 0.5764527521278098]\n",
      "t = 12.0\n",
      "getcoeff(M[6]) = [-7.985083828552651, 6.033765430922351, 5.53711812529081, -0.1279589529319527, 4.5102923212561015, 5.03192380824692, 9.42176129148425, -0.1778350014143839, -1.7284202802010407, 3.77716681528135, 12.010163988152264, -0.22133640935773224, 2.834552225696193, -0.11880122572074264, -0.22616902236902373, -0.974349192249777, -0.048377344300303694, 5.485819090691164, 1.2129117964158143]\n",
      "t = 12.100000000000001\n",
      "getcoeff(M[6]) = [-0.42805735519499866, 1.4289335411505346, 12.770894552194225, 2.8490728059510055, -14.244652165070793, 3.4546732181849165, 11.847111941623238, 6.46995625995875, -2.2672082777999982, 0.13290739537980326, 11.169935515484452, -10.260344162136725, 1.644234940851857, -3.0688152142936365, 4.107191290131192, 0.31899813876976946, 0.21878236310791285, 4.95274046290733, -0.6999470454855906]\n",
      "t = 12.200000000000001\n",
      "getcoeff(M[6]) = [13.94080619442348, 1.2510613326206603, -7.002376426386535, -2.9128845364095293, -7.480171713038551, 4.291397021280377, -4.3448677948895185, -5.40159761070616, 3.6905390375275604, -0.5562626918179636, -1.6624951165246773, -4.3316520008375985, 3.356932947257512, -1.105215861291618, -2.765452113694354, -1.307426279761955, -0.14182115744761145, 0.7001563203036848, 0.8924124117792752]\n",
      "t = 12.3\n",
      "getcoeff(M[6]) = [-3.4326384147937494, 1.6279167188684138, 2.1106792141292834, -0.9120870986396599, 0.9160593131559189, 1.2635444971155094, 2.0604921518919292, -1.9063076355162107, -1.8497256043901065, 0.47666143560468066, 3.0577291072169563, 0.8745451895494137, 0.6147084488747763, 0.5797890507400277, -1.9211948210940237, 0.5588170350355829, 0.4151273811423963, 1.7646072299995212, 0.17296897151993934]\n",
      "t = 12.4\n",
      "getcoeff(M[6]) = [-2.871470356391477, 3.1507899463348483, 8.803467676748184, 0.5310345612933404, -3.833396877759939, 2.695938594896815, 16.71045760943955, 0.6879939725227029, -1.100052975720718, 1.4868189993537553, 21.36680709949125, -0.784099175850991, 1.9195375623703264, 0.5832319685422435, 0.2019654938756742, 0.5524365662752952, 0.01968217879761954, 9.921764482569094, 0.2394208628912662]\n",
      "t = 12.5\n",
      "getcoeff(M[6]) = [2.7290371651283887, 2.5309568580402644, -11.818903538882008, -4.64287944398748, 7.312466285019392, 2.3079316449241967, -14.22106067148386, -10.567156297435352, 0.7903287642553968, 1.054690723089578, -14.50840416084369, 4.724024449929599, 2.5751234216914796, 1.5953829068553815, -6.923280593816404, 0.3131793387792876, -0.0614814375359795, -5.924011396610214, 0.5071118062861987]\n",
      "t = 12.600000000000001\n",
      "getcoeff(M[6]) = [-1.6875984988082755, 2.112585129291299, -1.9438682931088407, -4.47277196235943, 3.2926006722278434, 1.6435696990119322, -2.838913968948044, -9.748758411787932, -0.30135922955175126, 1.1780121393455927, -0.7723834082909802, 3.0937973443181876, 1.6984212666602447, 1.560885044824433, -6.250693408072855, 0.25974709007027685, 0.10401442132179384, 1.35162819756991, 0.9640387576494965]\n",
      "t = 12.700000000000001\n",
      "getcoeff(M[6]) = [-1.0099398065212946, 0.6837649513149487, 3.5080502516523655, -0.1991338314876958, -4.171644194936442, 0.5158194808512176, -5.056816858839349, -0.19201090579491112, -0.311651527316288, -0.1949094494245931, -10.309733758386294, -1.7059457375369114, 0.3039263961999679, -0.01588031456850081, 0.12744329383340383, 0.293023605683658, 0.21224880760406653, -5.4455135155581385, -0.014868828996810999]\n",
      "t = 12.8\n",
      "getcoeff(M[6]) = [5.372308927011828, 0.8644547408799921, -3.062553699466842, 0.913182082442815, -2.9350124625552443, 0.6980059332524153, 0.5630088912230686, 3.10644792076027, 2.529174185616116, 0.5848478929771714, 2.8220003217642593, -1.145607235295786, 0.9243111943391878, -0.19763579210381754, 2.3178128374486144, 0.9881097600254767, 0.19557434720575562, 2.116397408352671, 0.277078368444867]\n"
     ]
    },
    {
     "name": "stderr",
     "output_type": "stream",
     "text": [
      "\u001b[32mProgress: 100%|█████████████████████████████████████████| Time: 0:00:01\u001b[39m\n"
     ]
    },
    {
     "name": "stdout",
     "output_type": "stream",
     "text": [
      "t = 12.9\n",
      "getcoeff(M[6]) = [0.015507768028422185]\n",
      "t = 13.0\n",
      "getcoeff(M[6]) = [-0.06433896732776337]\n",
      "t = 13.100000000000001\n",
      "getcoeff(M[6]) = [-0.07504839075399962]\n"
     ]
    },
    {
     "name": "stderr",
     "output_type": "stream",
     "text": [
      "\u001b[32mProgress: 100%|█████████████████████████████████████████| Time: 0:00:00\u001b[39m\n"
     ]
    },
    {
     "name": "stdout",
     "output_type": "stream",
     "text": [
      "t = 13.200000000000001\n",
      "getcoeff(M[6]) = [-0.2560454382918119]\n"
     ]
    },
    {
     "name": "stderr",
     "output_type": "stream",
     "text": [
      "\u001b[32mProgress: 100%|█████████████████████████████████████████| Time: 0:00:00\u001b[39m\n"
     ]
    },
    {
     "name": "stdout",
     "output_type": "stream",
     "text": [
      "t = 13.3\n",
      "getcoeff(M[6]) = [-0.22769392513153408]\n"
     ]
    },
    {
     "name": "stderr",
     "output_type": "stream",
     "text": [
      "\u001b[32mProgress: 100%|█████████████████████████████████████████| Time: 0:00:00\u001b[39m\n"
     ]
    },
    {
     "name": "stdout",
     "output_type": "stream",
     "text": [
      "t = 13.4\n",
      "getcoeff(M[6]) = [0.11447033909749113]\n"
     ]
    },
    {
     "name": "stderr",
     "output_type": "stream",
     "text": [
      "\u001b[32mProgress: 100%|█████████████████████████████████████████| Time: 0:00:00\u001b[39m\n"
     ]
    },
    {
     "name": "stdout",
     "output_type": "stream",
     "text": [
      "t = 13.5\n",
      "getcoeff(M[6]) = [-0.12245418722883814]\n",
      "t = 13.600000000000001\n",
      "getcoeff(M[6]) = [-0.1579597576069962]\n",
      "t = 13.700000000000001\n",
      "getcoeff(M[6]) = [-0.007187243676312373]\n",
      "t = 13.8\n",
      "getcoeff(M[6]) = [0.182379148998432]\n",
      "t = 13.9\n",
      "getcoeff(M[6]) = [0.0681924723314449]\n",
      "t = 14.0\n",
      "getcoeff(M[6]) = [0.26391015966549747]\n"
     ]
    },
    {
     "name": "stderr",
     "output_type": "stream",
     "text": [
      "\u001b[32mProgress: 100%|█████████████████████████████████████████| Time: 0:00:00\u001b[39m\n"
     ]
    },
    {
     "name": "stdout",
     "output_type": "stream",
     "text": [
      "t = 14.100000000000001\n",
      "getcoeff(M[6]) = [0.24853319031114665]\n",
      "t = 14.200000000000001\n",
      "getcoeff(M[6]) = [0.19252302083832357]\n"
     ]
    },
    {
     "name": "stderr",
     "output_type": "stream",
     "text": [
      "\u001b[32mProgress: 100%|█████████████████████████████████████████| Time: 0:00:00\u001b[39m\n"
     ]
    },
    {
     "name": "stdout",
     "output_type": "stream",
     "text": [
      "t = 14.3\n",
      "getcoeff(M[6]) = [0.16130121006735132]\n"
     ]
    },
    {
     "name": "stderr",
     "output_type": "stream",
     "text": [
      "\u001b[32mProgress: 100%|█████████████████████████████████████████| Time: 0:00:00\u001b[39m\n"
     ]
    },
    {
     "name": "stdout",
     "output_type": "stream",
     "text": [
      "t = 14.4\n",
      "getcoeff(M[6]) = [0.18120181444820613]\n"
     ]
    },
    {
     "name": "stderr",
     "output_type": "stream",
     "text": [
      "\u001b[32mProgress: 100%|█████████████████████████████████████████| Time: 0:00:00\u001b[39m\n"
     ]
    },
    {
     "name": "stdout",
     "output_type": "stream",
     "text": [
      "t = 14.5\n",
      "getcoeff(M[6]) = [0.20327402093426047]\n",
      "t = 14.600000000000001\n",
      "getcoeff(M[6]) = [0.04505377193428239]\n",
      "t = 14.700000000000001\n",
      "getcoeff(M[6]) = [0.18048924119462198]\n",
      "t = 14.8\n",
      "getcoeff(M[6]) = [0.03505375805664303]\n"
     ]
    },
    {
     "name": "stderr",
     "output_type": "stream",
     "text": [
      "\u001b[32mProgress: 100%|█████████████████████████████████████████| Time: 0:00:00\u001b[39m\n"
     ]
    },
    {
     "name": "stdout",
     "output_type": "stream",
     "text": [
      "t = 14.9\n",
      "getcoeff(M[6]) = [0.18981993449138312]\n",
      "t = 15.0\n",
      "getcoeff(M[6]) = [-0.022093190483478912]\n",
      "t = 15.100000000000001\n",
      "getcoeff(M[6]) = [0.1536077312282225]\n",
      "t = 15.200000000000001\n",
      "getcoeff(M[6]) = [0.2563655195022619]\n",
      "t = 15.3\n",
      "getcoeff(M[6]) = [0.06808090346784205]\n",
      "t = 15.4\n",
      "getcoeff(M[6]) = [0.19268178144530337]\n",
      "t = 15.5\n",
      "getcoeff(M[6]) = [0.2056458905798536]\n",
      "t = 15.600000000000001\n",
      "getcoeff(M[6]) = [0.07146135650460914]\n",
      "t = 15.700000000000001\n",
      "getcoeff(M[6]) = [-0.09674794932419967]\n",
      "t = 15.8\n",
      "getcoeff(M[6]) = [0.30421145014957857]\n"
     ]
    },
    {
     "name": "stderr",
     "output_type": "stream",
     "text": [
      "\u001b[32mProgress: 100%|█████████████████████████████████████████| Time: 0:00:00\u001b[39m\n"
     ]
    },
    {
     "name": "stdout",
     "output_type": "stream",
     "text": [
      "t = 15.9\n",
      "getcoeff(M[6]) = [0.22556689520883438]\n",
      "t = 16.0\n",
      "getcoeff(M[6]) = [0.177810655225012]\n",
      "t = 16.1\n",
      "getcoeff(M[6]) = [0.2289170919078708]\n",
      "t = 16.2\n",
      "getcoeff(M[6]) = [0.10380197328905831]\n",
      "t = 16.3\n",
      "getcoeff(M[6]) = [0.010732700162961399]\n",
      "t = 16.400000000000002\n",
      "getcoeff(M[6]) = [0.004013512051487619]\n",
      "t = 16.5\n",
      "getcoeff(M[6]) = [-0.020594609323276156]\n",
      "t = 16.6\n",
      "getcoeff(M[6]) = [-0.04038102252352508]\n",
      "t = 16.7\n",
      "getcoeff(M[6]) = [0.016993814227484003]\n",
      "t = 16.8\n",
      "getcoeff(M[6]) = [0.21655573324549762]\n",
      "t = 16.900000000000002\n",
      "getcoeff(M[6]) = [-0.02041031858811846]\n",
      "t = 17.0\n",
      "getcoeff(M[6]) = [0.04240505184889182]\n",
      "t = 17.1\n",
      "getcoeff(M[6]) = [0.05215606628445934]\n",
      "t = 17.2\n",
      "getcoeff(M[6]) = [0.187120493145923]\n",
      "t = 17.3\n",
      "getcoeff(M[6]) = [0.08330618451935878]\n",
      "t = 17.400000000000002\n",
      "getcoeff(M[6]) = [-0.08551610678840273]\n"
     ]
    },
    {
     "name": "stderr",
     "output_type": "stream",
     "text": [
      "┌ Warning: Failed to achieve finite new evaluation point, using alpha=0\n",
      "└ @ LineSearches /home/mat/.julia/packages/LineSearches/Ki4c5/src/hagerzhang.jl:148\n",
      "\u001b[32mProgress: 100%|█████████████████████████████████████████| Time: 0:00:00\u001b[39m\n"
     ]
    },
    {
     "name": "stdout",
     "output_type": "stream",
     "text": [
      "t = 17.5\n",
      "getcoeff(M[6]) = [-0.13707023868676185]\n",
      "t = 17.6\n",
      "getcoeff(M[6]) = [-0.09872105461004223]\n",
      "t = 17.7\n",
      "getcoeff(M[6]) = [0.20294750459887811]\n",
      "t = 17.8\n",
      "getcoeff(M[6]) = [0.37475422883878984]\n",
      "t = 17.900000000000002\n",
      "getcoeff(M[6]) = [0.2264373838094163]\n",
      "t = 18.0\n",
      "getcoeff(M[6]) = [0.19212117390763886]\n"
     ]
    },
    {
     "name": "stderr",
     "output_type": "stream",
     "text": [
      "\u001b[32mProgress: 100%|█████████████████████████████████████████| Time: 0:00:00\u001b[39m\n"
     ]
    },
    {
     "name": "stdout",
     "output_type": "stream",
     "text": [
      "t = 18.1\n",
      "getcoeff(M[6]) = [0.11092093336325369]\n"
     ]
    },
    {
     "name": "stderr",
     "output_type": "stream",
     "text": [
      "\u001b[32mProgress: 100%|█████████████████████████████████████████| Time: 0:00:00\u001b[39m\n"
     ]
    },
    {
     "name": "stdout",
     "output_type": "stream",
     "text": [
      "t = 18.2\n",
      "getcoeff(M[6]) = [0.125782576252524]\n"
     ]
    },
    {
     "name": "stderr",
     "output_type": "stream",
     "text": [
      "\u001b[32mProgress: 100%|█████████████████████████████████████████| Time: 0:00:00\u001b[39m\n"
     ]
    },
    {
     "name": "stdout",
     "output_type": "stream",
     "text": [
      "t = 18.3\n",
      "getcoeff(M[6]) = [0.11763114198743012]\n"
     ]
    },
    {
     "name": "stderr",
     "output_type": "stream",
     "text": [
      "\u001b[32mProgress: 100%|█████████████████████████████████████████| Time: 0:00:00\u001b[39m\n"
     ]
    },
    {
     "name": "stdout",
     "output_type": "stream",
     "text": [
      "t = 18.400000000000002\n",
      "getcoeff(M[6]) = [0.31926556871215966]\n",
      "t = 18.5\n",
      "getcoeff(M[6]) = [0.3197780872652429]\n",
      "t = 18.6\n",
      "getcoeff(M[6]) = [0.3206146642245898]\n",
      "t = 18.7\n",
      "getcoeff(M[6]) = [0.33855793619782665]\n",
      "t = 18.8\n",
      "getcoeff(M[6]) = [0.3132057133981457]\n",
      "t = 18.900000000000002\n",
      "getcoeff(M[6]) = [0.2449356772299164]\n",
      "t = 19.0\n",
      "getcoeff(M[6]) = [0.3655208103360892]\n",
      "t = 19.1\n",
      "getcoeff(M[6]) = [0.33408286430235234]\n",
      "t = 19.200000000000003\n",
      "getcoeff(M[6]) = [0.310438919972776]\n",
      "t = 19.3\n",
      "getcoeff(M[6]) = [0.3251869430331806]\n",
      "t = 19.400000000000002\n",
      "getcoeff(M[6]) = [0.3126313624852118]\n",
      "t = 19.5\n",
      "getcoeff(M[6]) = [0.2831918162294246]\n",
      "t = 19.6\n",
      "getcoeff(M[6]) = [0.2894385624122402]\n",
      "t = 19.700000000000003\n",
      "getcoeff(M[6]) = [0.20853863638772574]\n",
      "t = 19.8\n",
      "getcoeff(M[6]) = [0.2854615206716034]\n",
      "t = 19.900000000000002\n",
      "getcoeff(M[6]) = [0.2364396235017641]\n",
      "t = 20.0\n",
      "getcoeff(M[6]) = [0.2928453460702]\n"
     ]
    }
   ],
   "source": [
    "Xsmf = seqassim(F, data, 200, model.ϵx, smf, deepcopy(X), model.Ny, model.Nx, t0);"
   ]
  },
  {
   "cell_type": "code",
   "execution_count": 114,
   "metadata": {},
   "outputs": [
    {
     "data": {
      "text/plain": [
       "3×1000 Array{Float64,2}:\n",
       " -0.658908  -2.31204   -7.45684  -18.3202  …   5.65985  11.5922  15.3166\n",
       " -1.59451   -5.10262  -15.7835   -27.5539     10.0042   18.5109  13.1053\n",
       " -0.740262  -0.153      4.19991   31.4612     12.688    20.9545  38.3418"
      ]
     },
     "execution_count": 114,
     "metadata": {},
     "output_type": "execute_result"
    }
   ],
   "source": [
    "data.xt"
   ]
  },
  {
   "cell_type": "code",
   "execution_count": 116,
   "metadata": {},
   "outputs": [
    {
     "data": {
      "image/png": "[encoded data removed]"
     },
     "execution_count": 116,
     "metadata": {},
     "output_type": "execute_result"
    }
   ],
   "source": [
    "plot(data.tt[nb:Δ:ne], mean_hist(Xsmf)[1,:])\n",
    "plot!(data.tt[nb:Δ:ne], data.xt[1,nb:Δ:ne], linewidth =  3, color = :teal, label = \"True\")"
   ]
  },
  {
   "cell_type": "code",
   "execution_count": 94,
   "metadata": {},
   "outputs": [
    {
     "ename": "LoadError",
     "evalue": "\u001b[91mBoundsError: attempt to access 3×201 Array{Float64,2} at index [1, 2:1:500]\u001b[39m",
     "output_type": "error",
     "traceback": [
      "\u001b[91mBoundsError: attempt to access 3×201 Array{Float64,2} at index [1, 2:1:500]\u001b[39m",
      "",
      "Stacktrace:",
      " [1] throw_boundserror(::Array{Float64,2}, ::Tuple{Int64,StepRange{Int64,Int64}}) at ./abstractarray.jl:541",
      " [2] checkbounds at ./abstractarray.jl:506 [inlined]",
      " [3] _getindex at ./multidimensional.jl:742 [inlined]",
      " [4] getindex(::Array{Float64,2}, ::Int64, ::StepRange{Int64,Int64}) at ./abstractarray.jl:1060",
      " [5] top-level scope at In[94]:7",
      " [6] include_string(::Function, ::Module, ::String, ::String) at ./loading.jl:1091"
     ]
    }
   ],
   "source": [
    "# Plot the first component of the state over time\n",
    "nb = 1\n",
    "ne = 499\n",
    "Δ = 1\n",
    "plt = plot(xlim = (-Inf, Inf), ylim = (-Inf, Inf), xlabel = L\"t\", ylabel = L\"x_1\")\n",
    "plot!(plt, data.tt[nb:Δ:ne], data.xt[1,nb:Δ:ne], linewidth =  3, color = :teal, label = \"True\")\n",
    "plot!(plt, data.tt[nb:Δ:ne], mean_hist(Xsmf)[1,1+nb:Δ:1+ne], linewidth = 3, grid = false,\n",
    "     color = :orangered2, linestyle = :dash, label = \"Stochastic Map Filter\")\n",
    "scatter!(plt, data.tt[nb:Δ:ne], data.yt[1,nb:Δ:ne], linewidth = 3, color = :grey, markersize = 5, alpha = 0.5, label = \"Observation\")\n",
    "plt"
   ]
  },
  {
   "cell_type": "code",
   "execution_count": 33,
   "metadata": {},
   "outputs": [
    {
     "ename": "LoadError",
     "evalue": "\u001b[91mBoundsError: attempt to access 1000-element Array{Float64,1} at index [5500]\u001b[39m",
     "output_type": "error",
     "traceback": [
      "\u001b[91mBoundsError: attempt to access 1000-element Array{Float64,1} at index [5500]\u001b[39m",
      "",
      "Stacktrace:",
      " [1] getindex at ./array.jl:809 [inlined]",
      " [2] getindex(::Array{Float64,1}, ::StepRange{Int64,Int64}) at ./array.jl:834",
      " [3] top-level scope at ./In[33]:9",
      " [4] include_string(::Function, ::Module, ::String, ::String) at ./loading.jl:1091"
     ]
    }
   ],
   "source": [
    "# Plot the different component of the state over time\n",
    "nb = 5500\n",
    "ne = 6000\n",
    "Δ = 1\n",
    "plt = plot(layout = grid(3,1), xlim = (-Inf, Inf), ylim = (-Inf, Inf), xlabel = L\"t\", \n",
    "           size = (900, 1000))\n",
    "\n",
    "for i =1:3\n",
    "    plot!(plt[i,1], data.tt[nb:Δ:ne], data.xt[i,nb:Δ:ne], linewidth =  2, color = :teal, \n",
    "          ylabel = latexstring(\"x_\"*string(i)), legend = (i == 1), label = \"True\")\n",
    "    plot!(plt[i,1], data.tt[nb:Δ:ne], mean_hist(Xsmf)[i,1+nb:Δ:1+ne], linewidth = 2, grid = false,\n",
    "          color = :orangered2, linestyle = :dash, label = \"sEnKF\")\n",
    "    scatter!(plt[i,1], data.tt[nb:Δ:ne], data.yt[i,nb:Δ:ne], linewidth = 3, color = :grey, \n",
    "          markersize = 5, alpha = 0.5, label  = \"Observation\")\n",
    "end\n",
    "\n",
    "plt"
   ]
  },
  {
   "cell_type": "markdown",
   "metadata": {},
   "source": [
    "Talk about the benchmark of the different filters"
   ]
  },
  {
   "cell_type": "markdown",
   "metadata": {},
   "source": [
    "### Benchmark of the EnKF filter"
   ]
  },
  {
   "cell_type": "code",
   "execution_count": 116,
   "metadata": {},
   "outputs": [
    {
     "name": "stdout",
     "output_type": "stream",
     "text": [
      "Ne 10 RMSE: 3.8254663423276716\n",
      "Ne 20 RMSE: 2.0605921219961134\n",
      "Ne 40 RMSE: 0.4223537564608097\n",
      "Ne 60 RMSE: 0.40146546759545937\n",
      "Ne 100 RMSE: 0.3877197292448612\n",
      "Ne 200 RMSE: 0.4025809532902939\n",
      " 15.443304 seconds (68.89 M allocations: 6.501 GiB, 6.17% gc time)\n"
     ]
    }
   ],
   "source": [
    "path = pwd()*\"/lorenz63/data/\"\n",
    "Nx = 3\n",
    "Ny = 3\n",
    "Ne_array = [10, 20, 40, 60, 100, 200];\n",
    "@time model, data = setup_lorenz63(path, Ne_array);"
   ]
  },
  {
   "cell_type": "code",
   "execution_count": 55,
   "metadata": {},
   "outputs": [
    {
     "name": "stdout",
     "output_type": "stream",
     "text": [
      "(Ne, β) = (10, 1.0)\n",
      "  0.482682 seconds (3.47 M allocations: 329.564 MiB, 11.44% gc time)\n",
      "Ne = 10\n",
      "Ne 10& β 1.0 RMSE: 0.6015590736992926\n"
     ]
    },
    {
     "name": "stderr",
     "output_type": "stream",
     "text": [
      "\r",
      "\u001b[32mProgress:  17%|██████▉                                  |  ETA: 0:00:05\u001b[39m"
     ]
    },
    {
     "name": "stdout",
     "output_type": "stream",
     "text": [
      "(Ne, β) = (20, 1.0)\n",
      "  "
     ]
    },
    {
     "name": "stderr",
     "output_type": "stream",
     "text": [
      "\r",
      "\u001b[32mProgress:  33%|█████████████▋                           |  ETA: 0:00:04\u001b[39m"
     ]
    },
    {
     "name": "stdout",
     "output_type": "stream",
     "text": [
      "0.859515 seconds (6.59 M allocations: 631.994 MiB, 8.56% gc time)\n",
      "Ne = 20\n",
      "Ne 20& β 1.0 RMSE: 0.5184477645494938\n",
      "(Ne, β) = (40, 1.0)\n",
      "  "
     ]
    },
    {
     "name": "stderr",
     "output_type": "stream",
     "text": [
      "\r",
      "\u001b[32mProgress:  50%|████████████████████▌                    |  ETA: 0:00:04\u001b[39m"
     ]
    },
    {
     "name": "stdout",
     "output_type": "stream",
     "text": [
      "1.662244 seconds (12.83 M allocations: 1.210 GiB, 8.65% gc time)\n",
      "Ne = 40\n",
      "Ne 40& β 1.0 RMSE: 0.4483744816193398\n",
      "(Ne, β) = (60, 1.0)\n",
      "  "
     ]
    },
    {
     "name": "stderr",
     "output_type": "stream",
     "text": [
      "\r",
      "\u001b[32mProgress:  67%|███████████████████████████▍             |  ETA: 0:00:03\u001b[39m"
     ]
    },
    {
     "name": "stdout",
     "output_type": "stream",
     "text": [
      "2.463622 seconds (19.07 M allocations: 1.804 GiB, 8.51% gc time)\n",
      "Ne = 60\n",
      "Ne 60& β 1.0 RMSE: 0.4403101469791623\n",
      "(Ne, β) = (100, 1.0)\n",
      "  "
     ]
    },
    {
     "name": "stderr",
     "output_type": "stream",
     "text": [
      "\r",
      "\u001b[32mProgress:  83%|██████████████████████████████████▏      |  ETA: 0:00:02\u001b[39m"
     ]
    },
    {
     "name": "stdout",
     "output_type": "stream",
     "text": [
      "4.334649 seconds (31.55 M allocations: 2.983 GiB, 8.49% gc time)\n",
      "Ne = 100\n",
      "Ne 100& β 1.0 RMSE: 0.4303647629868742\n",
      "(Ne, β) = (200, 1.0)\n",
      " 13.776164 seconds (62.75 M allocations: 5.935 GiB, 7.19% gc time)\n",
      "Ne = 200\n",
      "Ne 200& β 1.0 RMSE: 0.4465248257137066"
     ]
    },
    {
     "name": "stderr",
     "output_type": "stream",
     "text": [
      "\r",
      "\u001b[32mProgress: 100%|█████████████████████████████████████████| Time: 0:00:24\u001b[39m\n"
     ]
    },
    {
     "name": "stdout",
     "output_type": "stream",
     "text": [
      "\n"
     ]
    },
    {
     "data": {
      "text/plain": [
       "6-element Array{Any,1}:\n",
       " Metrics[Metrics(10, [0.8166106052280312, 0.8477976249831615, 0.5377435004826744, 0.2946057216215732, 0.1963372890873663, 0.1661211989653268, 0.09550122139602638, 0.10895691501209233, 0.061645037116889324, 0.1556247918798692  …  4.0942175082812975, 2.918216773645667, 2.293946056603929, 2.3368525142834664, 2.9966610036699945, 2.488711153121422, 2.060789991067101, 2.000268585410395, 2.0094430111553767, 1.633586039615903], 0.37686107778341077, 0.6015590736992926, 0.8149386709205617, [1.0125271950095414, 0.9623361052178709, 0.7792957424814254, 0.4344193482216172, 0.2873587820499424, 0.2729751953413108, 0.40382950988831384, 0.6108278943470481, 0.6592219807793599, 0.4157011617649463  …  0.6622613427311322, 0.9156031963385003, 1.1880540752197546, 1.010250360884169, 0.9055102239545725, 0.6429162631150634, 0.5592022167774022, 0.6557579770729094, 0.987851621549649, 1.1234614213819019], 0.4419068954362283, 0.5053138269227165, 0.25903240927442023, [1.0, 1.0, 0.6666666666666666, 0.6666666666666666, 1.0, 1.0, 1.0, 1.0, 1.0, 1.0  …  0.6666666666666666, 0.6666666666666666, 0.3333333333333333, 0.3333333333333333, 0.0, 0.3333333333333333, 0.0, 0.0, 0.3333333333333333, 0.6666666666666666], 1.0, 0.7261666666666667, 0.36457522740458864)]\n",
       " Metrics[Metrics(20, [0.8009234015601246, 0.8873529418152709, 0.9648186335874159, 0.2241641575750264, 0.08972122691323191, 0.40502498541772275, 0.9061432442037632, 1.2895306531554689, 0.7946468671210342, 0.3985672597736556  …  0.3346030298442835, 0.5163997563927475, 0.43517438396749325, 0.598360550796541, 0.5362700352527868, 0.4471320623829449, 0.29561670268590506, 0.18851296824592492, 0.17522643152541226, 0.07857223386207775], 0.35531061663093255, 0.5184477645494938, 0.4845044270612191, [1.3258269952984914, 1.219366525258285, 1.1067738085368013, 0.8876478449926386, 0.6257782703432062, 0.5204509248590731, 0.6103587013183903, 0.7679474941003844, 0.5675737349456604, 0.5082509495209795  …  0.5453088799482404, 0.5575510867223642, 0.5540770509755611, 0.5983031348899548, 0.50022559167807, 0.42259328666553975, 0.3198506611541602, 0.3043017231422324, 0.38395027869333503, 0.5385430054163486], 0.47192182393714555, 0.5305997869038892, 0.24119505026883653, [1.0, 1.0, 1.0, 1.0, 1.0, 1.0, 0.3333333333333333, 0.0, 0.6666666666666666, 1.0  …  1.0, 1.0, 1.0, 1.0, 1.0, 1.0, 1.0, 1.0, 1.0, 1.0], 1.0, 0.8525, 0.2979733949063843)]\n",
       " Metrics[Metrics(40, [0.9826817575939837, 0.8853553187784176, 0.3822879886654962, 0.1560808317176755, 0.16401163158104606, 0.2641915580627298, 0.4821786668586909, 0.7562409207457594, 0.5304897251404828, 0.2335617480836244  …  0.46302073478462163, 0.44641521503457005, 0.5198248995974374, 0.8841581293917309, 0.8944940422060007, 0.6869037355788589, 0.47199979466366954, 0.3146926290239334, 0.22052593050442004, 0.2011946269035898], 0.31988125779252113, 0.4483744816193398, 0.3888888264729722, [0.9910648265607959, 1.0389612210939443, 0.9976972004017787, 0.6975832292555886, 0.40656021680950216, 0.3543519277702079, 0.4841426130471005, 0.6802004103354949, 0.5357937586885131, 0.4567283561463507  …  0.34892484591013456, 0.4717990778913134, 0.618724675393529, 0.5828250426543808, 0.4770344985964706, 0.39083347571382326, 0.2923228793059253, 0.3054108982896446, 0.45375090190774553, 0.6625324478592381], 0.4946079848132213, 0.5558350191174204, 0.23424766693404636, [1.0, 1.0, 1.0, 1.0, 1.0, 1.0, 1.0, 1.0, 1.0, 1.0  …  0.6666666666666666, 1.0, 1.0, 0.6666666666666666, 0.6666666666666666, 0.6666666666666666, 0.6666666666666666, 0.6666666666666666, 1.0, 1.0], 1.0, 0.9485, 0.17881512390001802)]\n",
       " Metrics[Metrics(60, [0.9958246928389437, 1.1406683287468808, 0.5892665012618263, 0.06937257988643586, 0.11686273681705214, 0.2663933938825168, 0.5322621212098003, 0.9316025189352882, 0.728746365036979, 0.4082893401458479  …  0.22786860029792666, 0.31749262144454576, 0.35389057590962486, 0.5051968531575757, 0.556030690676821, 0.4877666524221944, 0.30372102936096423, 0.2222280953223254, 0.28222115198656517, 0.24913840043694432], 0.30630601607276686, 0.4403101469791623, 0.38370929842878665, [1.15339760434503, 1.111068400675063, 1.0617894821482072, 0.7246278025729431, 0.4659868724356628, 0.4125774571657407, 0.5030501098617005, 0.6339205155508028, 0.5972643721683021, 0.4689687485398599  …  0.3842024564419135, 0.48550370981036023, 0.5900843703168447, 0.6445608536580213, 0.500422315137187, 0.4156164932470485, 0.3016388798926969, 0.2916869146188145, 0.40422049044227376, 0.6320377754649462], 0.5153348159848088, 0.5717853643157081, 0.2325183875067794, [1.0, 1.0, 1.0, 1.0, 1.0, 1.0, 1.0, 1.0, 1.0, 1.0  …  1.0, 1.0, 1.0, 1.0, 1.0, 1.0, 1.0, 1.0, 1.0, 1.0], 1.0, 0.9791666666666667, 0.10627248639759496)]\n",
       " Metrics[Metrics(100, [1.1447153311331781, 1.38577826954797, 0.8011100613741654, 0.2521263581826285, 0.3020487816972422, 0.508284816604461, 0.8670734818498514, 1.1608770052370112, 0.8718084104569586, 0.5296218649707812  …  0.2398186998545124, 0.25503741685515185, 0.22177804228613865, 0.41110055435395404, 0.47496251760836805, 0.40719857492095896, 0.24764360531773363, 0.13828193095173355, 0.0826234199512165, 0.26856854675486025], 0.2893155689372151, 0.4303647629868742, 0.38191564508486936, [0.9527704170384034, 0.9321001672664082, 1.0398646440457058, 0.6935998849951813, 0.44319915626874445, 0.3912492072948739, 0.5244511435147953, 0.6086134296913539, 0.5544278894887922, 0.4791755006959619  …  0.3928515891332105, 0.5199694696873517, 0.6603156868760311, 0.7450505076075534, 0.6302553655749117, 0.5068577227060873, 0.37451309930446913, 0.35529727887821777, 0.5185904054762793, 0.7753972206416857], 0.5329209748271038, 0.5871951348369144, 0.2322523924985191, [1.0, 1.0, 1.0, 1.0, 1.0, 1.0, 1.0, 1.0, 1.0, 1.0  …  1.0, 1.0, 1.0, 1.0, 1.0, 1.0, 1.0, 1.0, 1.0, 1.0], 1.0, 0.9911666666666668, 0.07514664299502112)]\n",
       " Metrics[Metrics(200, [0.888273273483637, 1.0797033517549515, 0.3440269499593048, 0.21420101076430767, 0.16162425690189322, 0.3253767298519863, 0.7050060288401291, 1.0723841440703699, 0.7927858236953814, 0.37303796598152517  …  0.14863863331263572, 0.13098694675828024, 0.01569618827238591, 0.16380423196922922, 0.33101947558854705, 0.3183054841536702, 0.19962116984435951, 0.10929821953369317, 0.07402847742163798, 0.21688151831203697], 0.3082727000481167, 0.4465248257137066, 0.38847206086051883, [1.1025016902484062, 1.1585146386588427, 1.050280287671641, 0.7264029154997294, 0.46463567765400915, 0.4408017551630872, 0.5331142954826315, 0.6640979088648434, 0.6326136904712192, 0.5171574662091373  …  0.4291626962129586, 0.5520631256132565, 0.6739989865135746, 0.774635718849873, 0.6359763126942447, 0.5135438852089059, 0.3752157713769756, 0.3581808492199844, 0.47687145842631096, 0.6813329693353127], 0.5508320940815306, 0.6018345158581575, 0.23071327806131858, [1.0, 1.0, 1.0, 1.0, 1.0, 1.0, 1.0, 1.0, 1.0, 1.0  …  1.0, 1.0, 1.0, 1.0, 1.0, 1.0, 1.0, 1.0, 1.0, 1.0], 1.0, 0.9908333333333332, 0.07584313842648356)]"
      ]
     },
     "execution_count": 55,
     "metadata": {},
     "output_type": "execute_result"
    }
   ],
   "source": [
    "metric_list = benchmark_lorenz63(model, data, path, Ne_array, [1.0])"
   ]
  },
  {
   "cell_type": "code",
   "execution_count": 23,
   "metadata": {},
   "outputs": [
    {
     "name": "stdout",
     "output_type": "stream",
     "text": [
      "(Ne, β) = (200, 1.0)\n",
      "  7.739944 seconds (62.75 M allocations: 5.935 GiB, 6.06% gc time)\n",
      "Ne = 200\n",
      "Ne 200& β 1.0 RMSE: 0.4189442707516625\n"
     ]
    },
    {
     "data": {
      "text/plain": [
       "1-element Array{Any,1}:\n",
       " Metrics[Metrics(200, [0.27418871478089074, 0.4011111920900346, 0.6224367042654201, 1.1940241372680338, 1.178706937442249, 0.629896584355798, 0.37352902606306937, 0.27598562967074297, 0.3415108073527272, 0.5385900049790774  …  0.22005926456584765, 0.11117371050261328, 0.0745833426310767, 0.06915409494524392, 0.23566185689849842, 0.4284533696688461, 0.7382482677445492, 1.2785156926466672, 0.9477650979445261, 0.8579855755647071], 0.2843509443072877, 0.4189442707516625, 0.3843942458358231, [0.2791191166770778, 0.3308824803118106, 0.5356751453956368, 0.7482658949655999, 0.6849666981780923, 0.5401293761758875, 0.3905840265207302, 0.30529026491290673, 0.3612676308031941, 0.5506587576884893  …  0.9550452598208562, 0.7275900415277436, 0.5097020874896808, 0.38068472189933705, 0.44668108906035564, 0.6711198461183089, 0.7934070557338772, 0.953289237580203, 1.0821830718436276, 1.1373384160933897], 0.529889526630428, 0.584733698922179, 0.23401428353181045, [1.0, 1.0, 1.0, 1.0, 0.6666666666666666, 1.0, 1.0, 1.0, 1.0, 1.0  …  1.0, 1.0, 1.0, 1.0, 1.0, 1.0, 1.0, 1.0, 1.0, 1.0], 1.0, 0.9928333333333332, 0.065876381401767)]"
      ]
     },
     "execution_count": 23,
     "metadata": {},
     "output_type": "execute_result"
    }
   ],
   "source": [
    "metric_list = benchmark_lorenz63(model, data, path, Ne_array, [1.0])"
   ]
  }
 ],
 "metadata": {
  "kernelspec": {
   "display_name": "Julia 1.5.3",
   "language": "julia",
   "name": "julia-1.5"
  },
  "language_info": {
   "file_extension": ".jl",
   "mimetype": "application/julia",
   "name": "julia",
   "version": "1.5.3"
  }
 },
 "nbformat": 4,
 "nbformat_minor": 2
}
