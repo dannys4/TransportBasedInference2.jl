{
 "cells": [
  {
   "cell_type": "markdown",
   "metadata": {},
   "source": [
    "## 6. Nonlinear ensemble filtering for the Lorenz-63 problem"
   ]
  },
  {
   "cell_type": "markdown",
   "metadata": {},
   "source": [
    "In this notebook, we are interested in the sequential inference \n",
    "\n",
    "\n",
    "\n",
    "References: \n",
    "\n",
    "\n",
    "[1] Evensen, G., 1994. Sequential data assimilation with a nonlinear quasi‐geostrophic model using Monte Carlo methods to forecast error statistics. Journal of Geophysical Research: Oceans, 99(C5), pp.10143-10162.\n",
    "\n",
    "[2] Asch, M., Bocquet, M. and Nodet, M., 2016. Data assimilation: methods, algorithms, and applications. Society for Industrial and Applied Mathematics.\n",
    "\n",
    "[3] Bishop, C.H., Etherton, B.J. and Majumdar, S.J., 2001. Adaptive sampling with the ensemble transform Kalman filter. Part I: Theoretical aspects. Monthly weather review, 129(3), pp.420-436. \n",
    "\n",
    "[4] Lorenz, E.N., 1963. Deterministic nonperiodic flow. Journal of atmospheric sciences, 20(2), pp.130-141.\n",
    "\n",
    "[5] Spantini, A., Baptista, R. and Marzouk, Y., 2019. Coupling techniques for nonlinear ensemble filtering. arXiv preprint arXiv:1907.00389."
   ]
  },
  {
   "cell_type": "markdown",
   "metadata": {},
   "source": [
    "### The basic steps\n",
    "To carry out sequential inference in `AdaptiveTransportMap`, we need to carry out a few basic steps:\n",
    "* **Specify the problem**: Define the state-space model: initial condition, dynamical and observation models (including process and observation noise)\n",
    "* **Specify the inflation parameters**: Determine the levels of covariance inflation to properly balance the dynamical system and the observations from the truth system\n",
    "* **Specify the filter**: Choose the ensemble filter to assimilate the observations in the state estimate\n",
    "* **Perform the sequential inference**: Perform the sequential inference\n",
    "\n",
    "We will go through all of these here."
   ]
  },
  {
   "cell_type": "code",
   "execution_count": 6,
   "metadata": {},
   "outputs": [],
   "source": [
    "using Revise\n",
    "using LinearAlgebra\n",
    "using AdaptiveTransportMap\n",
    "using Statistics\n",
    "using Distributions\n",
    "using OrdinaryDiffEq"
   ]
  },
  {
   "cell_type": "markdown",
   "metadata": {},
   "source": [
    "Load some packages to make nice figures"
   ]
  },
  {
   "cell_type": "code",
   "execution_count": 7,
   "metadata": {},
   "outputs": [],
   "source": [
    "using Plots\n",
    "default(tickfont = font(\"CMU Serif\", 9), \n",
    "        titlefont = font(\"CMU Serif\", 14), \n",
    "        guidefont = font(\"CMU Serif\", 12),\n",
    "        legendfont = font(\"CMU Serif\", 10),\n",
    "        grid = false)\n",
    "pyplot()\n",
    "\n",
    "using LaTeXStrings\n",
    "PyPlot.rc(\"text\", usetex = \"true\")\n",
    "PyPlot.rc(\"font\", family = \"CMU Serif\")\n",
    "# gr()\n",
    "using ColorSchemes"
   ]
  },
  {
   "cell_type": "markdown",
   "metadata": {},
   "source": [
    "The Lorenz-63  model is a three dimensional system that models the atmospheric convection [4]. This system is a classical benchmark problem in data assimilation. The state $\\boldsymbol{x} = (x_1, x_2, x_3)$ is governed by the following set of ordinary differential equations:\n",
    "\n",
    "\\begin{equation}\n",
    "\\begin{aligned}\n",
    "&\\frac{\\mathrm{d} x_1}{\\mathrm{d} t}=\\sigma(x_2-x_1)\\\\\n",
    "&\\frac{\\mathrm{d} x_2}{\\mathrm{d} t}=x_1(\\rho-x_2)-x_2\\\\\n",
    "&\\frac{\\mathrm{d} x_3}{\\mathrm{d} t}=x_1 x_2-\\beta x_3,\n",
    "\\end{aligned}\n",
    "\\end{equation}\n",
    "\n",
    "where $\\sigma = 10, \\beta = 8/3, \\rho = 28$. For these values, the system is chaotic and behaves like a strange attractor. We integrate this system of ODEs with time step $\\Delta t_{dyn} = 0.05$. The state is fully observed $h(t,\\boldsymbol{x}) = \\boldsymbol{x}$ with $\\Delta t_{obs}=0.1$. The initial distribution $\\pi_{\\mathsf{X}_0}$ is the standard Gaussian. The process noise is Gaussian with zero mean and covariance $10^{-4}\\boldsymbol{I}_3$. The measurement noise has a Gaussian distribution with zero mean and covariance $\\theta^2\\boldsymbol{I}_3$ where $\\theta^2 = 4.0$."
   ]
  },
  {
   "cell_type": "markdown",
   "metadata": {},
   "source": [
    "### Simple twin-experiment"
   ]
  },
  {
   "cell_type": "markdown",
   "metadata": {},
   "source": [
    "Define the dimension of the state and observation vectors"
   ]
  },
  {
   "cell_type": "code",
   "execution_count": 8,
   "metadata": {},
   "outputs": [
    {
     "data": {
      "text/plain": [
       "3"
      ]
     },
     "execution_count": 8,
     "metadata": {},
     "output_type": "execute_result"
    }
   ],
   "source": [
    "Nx = 3\n",
    "Ny = 3"
   ]
  },
  {
   "cell_type": "markdown",
   "metadata": {},
   "source": [
    "Define the time steps $\\Delta t_{dyn}, \\Delta t_{obs}$  of the dynamical and observation models. Observations from the truth are assimilated every $\\Delta t_{obs}$."
   ]
  },
  {
   "cell_type": "code",
   "execution_count": 9,
   "metadata": {},
   "outputs": [
    {
     "data": {
      "text/plain": [
       "0.1"
      ]
     },
     "execution_count": 9,
     "metadata": {},
     "output_type": "execute_result"
    }
   ],
   "source": [
    "Δtdyn = 0.05\n",
    "Δtobs = 0.1"
   ]
  },
  {
   "cell_type": "markdown",
   "metadata": {},
   "source": [
    "Define the additive inflation for the dynamical and observation models"
   ]
  },
  {
   "cell_type": "markdown",
   "metadata": {},
   "source": [
    "Define the time span of interest"
   ]
  },
  {
   "cell_type": "code",
   "execution_count": 10,
   "metadata": {},
   "outputs": [
    {
     "data": {
      "text/plain": [
       "1000"
      ]
     },
     "execution_count": 10,
     "metadata": {},
     "output_type": "execute_result"
    }
   ],
   "source": [
    "t0 = 0.0\n",
    "tf = 100.0\n",
    "Tf = ceil(Int64, tf/Δtobs)"
   ]
  },
  {
   "cell_type": "markdown",
   "metadata": {},
   "source": [
    " Define the distribution for the initial condition $\\pi_{\\mathsf{X}_0}$"
   ]
  },
  {
   "cell_type": "code",
   "execution_count": 11,
   "metadata": {},
   "outputs": [
    {
     "data": {
      "text/plain": [
       "FullNormal(\n",
       "dim: 3\n",
       "μ: [0.0, 0.0, 0.0]\n",
       "Σ: [1.0 0.0 0.0; 0.0 1.0 0.0; 0.0 0.0 1.0]\n",
       ")\n"
      ]
     },
     "execution_count": 11,
     "metadata": {},
     "output_type": "execute_result"
    }
   ],
   "source": [
    "π0 = MvNormal(zeros(Nx), Matrix(1.0*I, Nx, Nx))"
   ]
  },
  {
   "cell_type": "markdown",
   "metadata": {},
   "source": [
    "We construct the state-space representation `F` of the system composed of the deterministic part of the dynamical and observation models. \n",
    "\n",
    "The dynamical model is provided by the right hand side of the ODE to solve. For a system of ODEs, we will prefer an in-place syntax `f(du, u, p, t)`, where `p` are parameters of the model.\n",
    "We rely on `OrdinaryDiffEq` to integrate the dynamical system with the Tsitouras 5/4 Runge-Kutta method adaptive time marching. \n",
    "\n",
    "We assume that the state is fully observable, i.e. $h(t,x) = x$."
   ]
  },
  {
   "cell_type": "code",
   "execution_count": 12,
   "metadata": {},
   "outputs": [
    {
     "data": {
      "text/plain": [
       "StateSpace(AdaptiveTransportMap.lorenz63!, h)"
      ]
     },
     "execution_count": 12,
     "metadata": {},
     "output_type": "execute_result"
    }
   ],
   "source": [
    "h(t,x) = x\n",
    "F = StateSpace(lorenz63!, h)"
   ]
  },
  {
   "cell_type": "code",
   "execution_count": 13,
   "metadata": {},
   "outputs": [
    {
     "data": {
      "text/plain": [
       "AdditiveInflation(3, [0.0, 0.0, 0.0], [4.0 0.0 0.0; 0.0 4.0 0.0; 0.0 0.0 4.0], [2.0 0.0 0.0; 0.0 2.0 0.0; 0.0 0.0 2.0])"
      ]
     },
     "execution_count": 13,
     "metadata": {},
     "output_type": "execute_result"
    }
   ],
   "source": [
    "σx = 1e-2\n",
    "σy = 2.0\n",
    "\n",
    "ϵx = AdditiveInflation(Nx, zeros(Nx), σx)\n",
    "ϵy = AdditiveInflation(Ny, zeros(Ny), σy)"
   ]
  },
  {
   "cell_type": "markdown",
   "metadata": {},
   "source": [
    "To perform the nonlinear ensemble filtering, we first need to estimate the transport map $\\boldsymbol{S}^{\\boldsymbol{\\mathcal{X}}}$.\n",
    "\n",
    "In this notebook, we are going to assume that the basis of features does not change over time, but solely the coefficients $c_{\\boldsymbol{\\alpha}}$ of the expansion. \n",
    "\n",
    "\n",
    "To estimate the map, we generate joint samples $(\\boldsymbol{y}^i, \\boldsymbol{x}^i), \\; i = 1, \\ldots, N_e$ where $\\boldsymbol{x}^i$ o generate i.i.d. samples from the system’s invariant (long-time) distribution, we sampleninitialconditions from a multivariate standard Gaussian distribution.  For each sample, we run the ODEin equation(SM.25)forT=  40,000steps using the Runge-Kutta method with a time-step of∆t= 0.01. The samples of the state at the final time are then i.i.d. samples from the push-forwarddistribution of the standard Gaussian through the nonlinear forward dynamics forTsteps"
   ]
  },
  {
   "cell_type": "code",
   "execution_count": 15,
   "metadata": {},
   "outputs": [
    {
     "data": {
      "text/plain": [
       "\u001b[36mODEProblem\u001b[0m with uType \u001b[36mArray{Float64,1}\u001b[0m and tType \u001b[36mFloat64\u001b[0m. In-place: \u001b[36mtrue\u001b[0m\n",
       "timespan: (0.0, 500.0)\n",
       "u0: [1.8704982230374803, -0.33754314389900925, 1.2008229787081561]"
      ]
     },
     "execution_count": 15,
     "metadata": {},
     "output_type": "execute_result"
    }
   ],
   "source": [
    "# Number of runs\n",
    "Ne = 300\n",
    "# Zero vector of the size of the state\n",
    "x0 = rand(π0)\n",
    "\n",
    "# Time stepp\n",
    "tspan = (0.0, 500.0)\n",
    "prob = ODEProblem(lorenz63!, x0, tspan)"
   ]
  },
  {
   "cell_type": "markdown",
   "metadata": {},
   "source": [
    "Create cache to store the different final solutions"
   ]
  },
  {
   "cell_type": "code",
   "execution_count": 25,
   "metadata": {},
   "outputs": [],
   "source": [
    "X = zeros(Ny + Nx, Ne);"
   ]
  },
  {
   "cell_type": "markdown",
   "metadata": {},
   "source": [
    "Solve Lorenz-96 model for the different initial conditions and store the solutions as the columns of `X`, and compute the associated observation vector."
   ]
  },
  {
   "cell_type": "code",
   "execution_count": 26,
   "metadata": {},
   "outputs": [],
   "source": [
    "@inbounds for i=1:Ne\n",
    "    prob = remake(prob; u0 = rand(π0))\n",
    "    sol = solve(prob, Tsit5(), dt = 0.01, adaptive = false, dense = false, saveat = tspan[end], save_start = false)\n",
    "    # Store the state\n",
    "    X[Ny+1:Ny+Nx,i] .= deepcopy(sol.u[1])\n",
    "end\n",
    "# Apply the process noise\n",
    "ϵx(X, Ny+1, Ny+Nx)\n",
    "# Generate the observations\n",
    "observe(h, tf, X, Ny, Nx)\n",
    "# Apply the observation noise\n",
    "ϵy(X, 1, Ny)"
   ]
  },
  {
   "cell_type": "code",
   "execution_count": 29,
   "metadata": {},
   "outputs": [
    {
     "data": {
      "text/plain": [
       "HermiteMap(30, 6, LinearTransform(6, [0.2452847107177989, -0.041529178565395904, 23.680037506755834, -0.7319102738497861, -1.0463228214577358, 22.735125193857552], [7.763007530290495 0.0 … 0.0 0.0; 0.0 9.141042925589339 … 0.0 0.0; … ; 0.0 0.0 … 9.098498120709031 0.0; 0.0 0.0 … 0.0 8.845476988139383], true), MapComponent[Map component of dimension 1 with Nψ 1 active features\n",
       ", Map component of dimension 2 with Nψ 1 active features\n",
       ", Map component of dimension 3 with Nψ 1 active features\n",
       ", Map component of dimension 4 with Nψ 1 active features\n",
       ", Map component of dimension 5 with Nψ 1 active features\n",
       ", Map component of dimension 6 with Nψ 1 active features\n",
       "])"
      ]
     },
     "execution_count": 29,
     "metadata": {},
     "output_type": "execute_result"
    }
   ],
   "source": [
    "m = 30\n",
    "S = HermiteMap(m, X; diag = true)"
   ]
  },
  {
   "cell_type": "code",
   "execution_count": 30,
   "metadata": {},
   "outputs": [
    {
     "name": "stderr",
     "output_type": "stream",
     "text": [
      "\u001b[32mProgress: 100%|█████████████████████████████████████████| Time: 0:00:03\u001b[39m\n"
     ]
    },
    {
     "name": "stdout",
     "output_type": "stream",
     "text": [
      "  8.348800 seconds (18.21 M allocations: 1.957 GiB, 3.77% gc time)\n"
     ]
    },
    {
     "data": {
      "text/plain": [
       "HermiteMap(30, 6, LinearTransform(6, [0.2452847107177989, -0.041529178565395904, 23.680037506755834, -0.7319102738497861, -1.0463228214577358, 22.735125193857552], [7.763007530290495 0.0 … 0.0 0.0; 0.0 9.141042925589339 … 0.0 0.0; … ; 0.0 0.0 … 9.098498120709031 0.0; 0.0 0.0 … 0.0 8.845476988139383], true), MapComponent[Map component of dimension 1 with Nψ 18 active features\n",
       ", Map component of dimension 2 with Nψ 18 active features\n",
       ", Map component of dimension 3 with Nψ 18 active features\n",
       ", Map component of dimension 4 with Nψ 18 active features\n",
       ", Map component of dimension 5 with Nψ 18 active features\n",
       ", Map component of dimension 6 with Nψ 18 active features\n",
       "])"
      ]
     },
     "execution_count": 30,
     "metadata": {},
     "output_type": "execute_result"
    }
   ],
   "source": [
    "@time optimize(S, X, \"split\"; withqr = true, verbose = false)"
   ]
  },
  {
   "cell_type": "code",
   "execution_count": 31,
   "metadata": {},
   "outputs": [
    {
     "data": {
      "image/png": "[encoded data removed]"
     },
     "execution_count": 31,
     "metadata": {},
     "output_type": "execute_result"
    }
   ],
   "source": [
    "plot(S)"
   ]
  },
  {
   "cell_type": "code",
   "execution_count": 32,
   "metadata": {},
   "outputs": [
    {
     "data": {
      "text/plain": [
       "6×6 Array{Float64,2}:\n",
       " 5.15344e8  2.23483e7  1.17958e5  1.54262e8  0.0        0.0\n",
       " 2.23483e7  2.1814e9   1.46868e5  8.59098e5  1.91096e9  0.0\n",
       " 1.17958e5  1.46868e5  2.94165e9  1.57086e6  3.98788e5  3.15686e9\n",
       " 1.54262e8  8.59098e5  1.57086e6  2.31788e8  5.81671e6  1.61571e6\n",
       " 0.0        1.91096e9  3.98788e5  5.81671e6  2.13905e9  1.68791e5\n",
       " 0.0        0.0        3.15686e9  1.61571e6  1.68791e5  3.79416e9"
      ]
     },
     "execution_count": 32,
     "metadata": {},
     "output_type": "execute_result"
    }
   ],
   "source": [
    "Ωhat = zeros(Ny + Nx, Ny + Nx)\n",
    "cache = zeros(1, Ny + Nx, Ny + Nx)\n",
    "for i=1:Ne\n",
    "    hess_x_log_pdf!(cache, S, X[:,i:i])\n",
    "    Ωhat .+= copy(cache[1,:,:]).^2\n",
    "end\n",
    "rmul!(Ωhat, 1/Ne)"
   ]
  },
  {
   "cell_type": "code",
   "execution_count": 33,
   "metadata": {},
   "outputs": [
    {
     "data": {
      "image/png": "[encoded data removed]"
     },
     "execution_count": 33,
     "metadata": {},
     "output_type": "execute_result"
    }
   ],
   "source": [
    "plt = plot()\n",
    "\n",
    "heatmap!(plt,log10.(Ωhat), ratio = 1, yflip = true, \n",
    "        colorbar = true, color = :plasma, clim = (1.5, Inf), colorbar_title = L\"\\log_{10}(\\hat{\\Omega})\",\n",
    "        xlabel = \"Index\", ylabel = \"Index\", background_color_inside = palette(:plasma)[1], \n",
    "        yticks = (reverse(collect(0:10:Nx))))\n",
    "plt"
   ]
  },
  {
   "cell_type": "code",
   "execution_count": 67,
   "metadata": {},
   "outputs": [
    {
     "data": {
      "text/plain": [
       "Stochastic Map Filter with filtered = false\n"
      ]
     },
     "execution_count": 67,
     "metadata": {},
     "output_type": "execute_result"
    }
   ],
   "source": [
    "smf = StochMapFilter(x->x,ϵy, S, Ny, Nx, Δtdyn, Δtobs, Inf, false)"
   ]
  },
  {
   "cell_type": "code",
   "execution_count": 68,
   "metadata": {},
   "outputs": [],
   "source": [
    "model = Model(Nx, Ny, Δtdyn, Δtobs, ϵx, ϵy, π0, 0, 0, 0, F);"
   ]
  },
  {
   "cell_type": "markdown",
   "metadata": {},
   "source": [
    "Set initial condition of the true system"
   ]
  },
  {
   "cell_type": "code",
   "execution_count": 69,
   "metadata": {},
   "outputs": [],
   "source": [
    "x0 = rand(model.π0);"
   ]
  },
  {
   "cell_type": "code",
   "execution_count": 70,
   "metadata": {},
   "outputs": [],
   "source": [
    "data = generate_lorenz63(model, x0, Tf);"
   ]
  },
  {
   "cell_type": "markdown",
   "metadata": {},
   "source": [
    "Initialize the ensemble matrix `X` $\\in \\mathbb{R}^{(N_y + N_x) \\times N_e}$."
   ]
  },
  {
   "cell_type": "code",
   "execution_count": 71,
   "metadata": {},
   "outputs": [
    {
     "data": {
      "text/plain": [
       "3×300 view(::Array{Float64,2}, 4:6, :) with eltype Float64:\n",
       "  0.368571  1.11591  -1.52577   …  -0.691605   0.440048   0.624675\n",
       " -1.21346   1.76042  -0.769364      0.158452   0.418134   0.0537213\n",
       " -0.022879  1.66874   0.310488      0.229434  -1.56562   -0.75024"
      ]
     },
     "execution_count": 71,
     "metadata": {},
     "output_type": "execute_result"
    }
   ],
   "source": [
    "Ne = 300 #ensemble size\n",
    "X = zeros(model.Ny + model.Nx, Ne)\n",
    "\n",
    "# Generate the initial conditions for the state.\n",
    "viewstate(X, model.Ny, model.Nx) .= rand(model.π0, Ne)"
   ]
  },
  {
   "cell_type": "code",
   "execution_count": 72,
   "metadata": {},
   "outputs": [
    {
     "name": "stdout",
     "output_type": "stream",
     "text": [
      "getcoeff(M[Nypx]) = [6.836048428321437, 21.034734516869584, 456.73674527003794, 4.993348335875259, -0.15317949474258938, 19.876474726234964, 340.282566345524, -13.636149019746838, -307.2295553210629, -4.332383029196262]\n",
      "M.L.μ = [-5.702077713485371, -6.049957270182448, 26.259568222434858, -6.738501169708745, -7.0413747184213324, 25.255705170731332]\n",
      "M.L.μ = [1.0928068961901345, 1.1067618828383965, 1.184479891811855, 0.06365575382628663, 0.1350014160998844, 0.20053165076309448]\n",
      "getcoeff(M[Nypx]) = [6.836048428321437, 21.034734516869584, 456.73674527003794, 4.993348335875259, -0.15317949474258938, 19.876474726234964, 340.282566345524, -13.636149019746838, -307.2295553210629, -4.332383029196262]\n",
      "1 terms - Training error: 1.380505716453941, Validation error: 1.5643364668742676\n",
      "1 terms - Training error: 1.3804135313306174, Validation error: 1.5651661329841806\n",
      "2 terms - Training error: 1.3755754418689186, Validation error: 1.5626612647979032\n",
      "3 terms - Training error: 1.3742059945301324, Validation error: 1.5616223973362304\n",
      "4 terms - Training error: 1.371277131673681, Validation error: 1.553711875824858\n",
      "5 terms - Training error: 1.012919904240637, Validation error: 1.050889203170217\n",
      "6 terms - Training error: 1.0114747812775167, Validation error: 1.0507373073998387\n",
      "7 terms - Training error: 0.9423902646915484, Validation error: 0.9411030125519286\n",
      "8 terms - Training error: 0.9420809679053549, Validation error: 0.9400836251412245\n",
      "9 terms - Training error: 0.9401067470723843, Validation error: 0.9380227981643474\n",
      "10 terms - Training error: 0.9399337521403456, Validation error: 0.9378338989924109\n",
      "11 terms - Training error: 0.9396970736970912, Validation error: 0.9368237308117513\n",
      "12 terms - Training error: 0.9377378786614161, Validation error: 0.933871529697258\n",
      "13 terms - Training error: 0.9377223764398903, Validation error: 0.9339292962792844\n",
      "14 terms - Training error: 0.937095531365149, Validation error: 0.9356408411498787\n",
      "15 terms - Training error: 0.936752071831941, Validation error: 0.9367040246572337\n",
      "16 terms - Training error: 0.935997422674152, Validation error: 0.9389042391774667\n",
      "17 terms - Training error: 0.935862161397243, Validation error: 0.9393310413699142\n",
      "18 terms - Training error: 0.9288466348800244, Validation error: 0.9363349343842915\n",
      "1 terms - Training error: 1.3802135405689981, Validation error: 1.5655051704140381\n",
      "1 terms - Training error: 1.3801319248803323, Validation error: 1.5662397116120301\n",
      "2 terms - Training error: 1.3745113310452997, Validation error: 1.5640283479906543\n",
      "3 terms - Training error: 1.3731608655594527, Validation error: 1.5624180121020295\n",
      "4 terms - Training error: 1.3698583914539297, Validation error: 1.5532408413885104\n",
      "5 terms - Training error: 1.0118833303739938, Validation error: 1.0477235709834616\n",
      "6 terms - Training error: 1.0101420729773536, Validation error: 1.0487637701414223\n",
      "7 terms - Training error: 0.9416643761414075, Validation error: 0.9367383493320779\n",
      "8 terms - Training error: 0.9411904822235041, Validation error: 0.9358501119244238\n",
      "9 terms - Training error: 0.939553838627913, Validation error: 0.9342490691962183\n",
      "10 terms - Training error: 0.9391069605136838, Validation error: 0.9336796435093696\n",
      "11 terms - Training error: 0.9376369369175304, Validation error: 0.9321744580863384\n",
      "12 terms - Training error: 0.9375504715434154, Validation error: 0.9320320511572161\n",
      "13 terms - Training error: 0.937544342352014, Validation error: 0.9321044913786427\n",
      "14 terms - Training error: 0.9372040427353623, Validation error: 0.9327572907682421\n",
      "15 terms - Training error: 0.9371591762204824, Validation error: 0.9325407929324097\n",
      "16 terms - Training error: 0.9371243281584677, Validation error: 0.9307210280702323\n",
      "17 terms - Training error: -0.010222847701841878, Validation error: 0.36772659231477206\n"
     ]
    },
    {
     "name": "stderr",
     "output_type": "stream",
     "text": [
      "\u001b[32mProgress: 100%|█████████████████████████████████████████| Time: 0:00:00\u001b[39m\n"
     ]
    },
    {
     "name": "stdout",
     "output_type": "stream",
     "text": [
      "18 terms - Training error: -0.014588108246988434, Validation error: 0.358580002663319\n",
      "1 terms - Training error: 1.431545285346085, Validation error: 1.3601781913056905\n",
      "1 terms - Training error: 1.4315321788020625, Validation error: 1.3602961502018915\n",
      "2 terms - Training error: 1.3825242532455408, Validation error: 1.3442698791556078\n",
      "3 terms - Training error: 1.3818612729242288, Validation error: 1.3472394398338396\n",
      "4 terms - Training error: 1.3757566588140706, Validation error: 1.3563595341360466\n",
      "5 terms - Training error: 1.3725103785383916, Validation error: 1.3527644668633223\n",
      "6 terms - Training error: 1.3709791799203972, Validation error: 1.3465406339313268\n",
      "7 terms - Training error: 1.3584810505032736, Validation error: 1.331170927174607\n",
      "8 terms - Training error: 1.358272224300921, Validation error: 1.3327713412776412\n",
      "9 terms - Training error: 1.3563937373500938, Validation error: 1.3479949311768826\n",
      "10 terms - Training error: 1.3563377595205013, Validation error: 1.347150939231176\n",
      "11 terms - Training error: 1.1427538638245618, Validation error: 1.1489756523711612\n",
      "12 terms - Training error: 1.137850307558401, Validation error: 1.1503049473259206\n",
      "13 terms - Training error: 1.0898116906309239, Validation error: 1.1170911379729205\n",
      "14 terms - Training error: 1.088865199049112, Validation error: 1.1229540942239367\n",
      "15 terms - Training error: 1.0870104154086013, Validation error: 1.1332926413549995\n",
      "16 terms - Training error: 1.0855239978739273, Validation error: 1.1387244842734092\n",
      "17 terms - Training error: 1.0853407236614028, Validation error: 1.137887290471835\n",
      "18 terms - Training error: 0.954919510631653, Validation error: 1.0453872846434742\n",
      "converged(result) = true\n",
      "converged(result) = true\n",
      "converged(result) = true\n",
      "getcoeff(M[Nypx]) = [-3.0669000345067166, 1.435149353131139, -0.2104097637240964, -0.08252899871817698, -0.507388736133368, 5.585705784852769, -0.5948941714197353, 0.5073984952883586, 1.7062179280575336, 0.5493591797771227, -2.9601631112566142, -0.10400203449256118, -2.2996264102283357, 0.696194678064882, -2.3299753828364085, -2.0818814403401222, 0.4244560149558748, 2.233843895199766]\n",
      "getcoeff(M[Nypx]) = [-3.0669000345067166, 1.435149353131139, -0.2104097637240964, -0.08252899871817698, -0.507388736133368, 5.585705784852769, -0.5948941714197353, 0.5073984952883586, 1.7062179280575336, 0.5493591797771227, -2.9601631112566142, -0.10400203449256118, -2.2996264102283357, 0.696194678064882, -2.3299753828364085, -2.0818814403401222, 0.4244560149558748, 2.233843895199766]\n",
      "M.L.μ = [1.0928068961901345, 1.1067618828383965, 1.184479891811855, 0.06365575382628663, 0.1350014160998844, 0.20053165076309448]\n",
      "M.L.μ = [0.992861103918341, 0.9729515994048102, 0.246295936546633, 0.0003000892381843656, -0.01621463176990371, -0.7925831532774028]\n",
      "getcoeff(M[Nypx]) = [-3.0669000345067166, 1.435149353131139, -0.2104097637240964, -0.08252899871817698, -0.507388736133368, 5.585705784852769, -0.5948941714197353, 0.5073984952883586, 1.7062179280575336, 0.5493591797771227, -2.9601631112566142, -0.10400203449256118, -2.2996264102283357, 0.696194678064882, -2.3299753828364085, -2.0818814403401222, 0.4244560149558748, 2.233843895199766]\n",
      "1 terms - Training error: 1.3850044981300367, Validation error: 1.5463413401698853\n",
      "1 terms - Training error: 1.3839771488800887, Validation error: 1.555587483419419\n",
      "2 terms - Training error: 1.3748805631878651, Validation error: 1.5867620564958798\n",
      "3 terms - Training error: 1.182231346731408, Validation error: 1.2560324471754685\n",
      "4 terms - Training error: 1.1739621655420789, Validation error: 1.291646642155939\n",
      "5 terms - Training error: 1.1421757658564382, Validation error: 1.196282423313477\n"
     ]
    },
    {
     "name": "stderr",
     "output_type": "stream",
     "text": [
      "\r",
      "\u001b[32mProgress:  33%|█████████████▋                           |  ETA: 0:00:00\u001b[39m"
     ]
    },
    {
     "name": "stdout",
     "output_type": "stream",
     "text": [
      "6 terms - Training error: 1.1394299892029454, Validation error: 1.2210333724512936\n",
      "7 terms - Training error: 1.002586980337407, Validation error: 1.0579070314452872\n",
      "8 terms - Training error: 1.0005287309177193, Validation error: 1.0749241631957795\n",
      "9 terms - Training error: 0.646654933789843, Validation error: 0.8155990283749314\n",
      "10 terms - Training error: 0.6464156878912451, Validation error: 0.8180614623389588\n",
      "11 terms - Training error: 0.644974107553212, Validation error: 0.8311509577973847\n",
      "12 terms - Training error: 0.6399655660509647, Validation error: 0.8317053903917594\n",
      "13 terms - Training error: 0.6379822703026489, Validation error: 0.8416298863237548\n",
      "14 terms - Training error: 0.6315449026123948, Validation error: 0.8665886627204824\n",
      "15 terms - Training error: 0.6309289704246651, Validation error: 0.8502398982851778\n",
      "16 terms - Training error: 0.5982574089011738, Validation error: 0.7403363005362538\n",
      "17 terms - Training error: 0.5975989558141377, Validation error: 0.7489101277734008\n",
      "18 terms - Training error: 0.5932514525329033, Validation error: 0.753769082425793\n",
      "1 terms - Training error: 1.3865219840497043, Validation error: 1.5402713964912162\n",
      "1 terms - Training error: 1.3855125072103687, Validation error: 1.549356688045237\n",
      "2 terms - Training error: 1.376318272846648, Validation error: 1.58001057310729\n",
      "3 terms - Training error: 1.1833105656841427, Validation error: 1.252438034319731\n",
      "4 terms - Training error: 1.174784340378419, Validation error: 1.2878977431329062\n",
      "5 terms - Training error: 1.1436911347347147, Validation error: 1.1933426951138368\n",
      "6 terms - Training error: 1.1382598860684383, Validation error: 1.2235709674468365\n",
      "7 terms - Training error: 0.9584033917693326, Validation error: 1.0148512278194048\n",
      "8 terms - Training error: 0.9547539269975718, Validation error: 1.043593811738914\n",
      "9 terms - Training error: -0.4557107772568774, Validation error: 0.593663526859552\n",
      "10 terms - Training error: -0.4854237566758292, Validation error: 0.6597825765985806\n",
      "11 terms - Training error: -0.642706551837724, Validation error: 0.38774440535546156\n",
      "12 terms - Training error: -0.6567454595154116, Validation error: 0.45782898025830426\n",
      "13 terms - Training error: -0.6569487507672644, Validation error: 0.4595310864710879\n",
      "14 terms - Training error: -0.6572832054517771, Validation error: 0.46444780124674373\n",
      "15 terms - Training error: -0.6578358621176384, Validation error: 0.46253814940919097\n",
      "16 terms - Training error: -0.6585609685568833, Validation error: 0.4584135133281773\n",
      "17 terms - Training error: -0.6788154817959021, Validation error: 0.563136836857248\n"
     ]
    },
    {
     "name": "stderr",
     "output_type": "stream",
     "text": [
      "\r",
      "\u001b[32mProgress:  67%|███████████████████████████▍             |  ETA: 0:00:00\u001b[39m"
     ]
    },
    {
     "name": "stdout",
     "output_type": "stream",
     "text": [
      "18 terms - Training error: -0.9614698426397351, Validation error: -0.17463193506769112\n",
      "1 terms - Training error: 1.3982386164130947, Validation error: 1.4934048670376519\n",
      "1 terms - Training error: 1.3982003279258675, Validation error: 1.493749463422696\n",
      "2 terms - Training error: 1.3339692539432277, Validation error: 1.467301546256935\n",
      "3 terms - Training error: 1.3235831881887063, Validation error: 1.459389825937452\n",
      "4 terms - Training error: 1.1626484591581883, Validation error: 1.2460849404236352\n",
      "5 terms - Training error: 1.1268554310839338, Validation error: 1.2359416584352572\n",
      "6 terms - Training error: 1.1034942180083285, Validation error: 1.2673830008592257\n",
      "7 terms - Training error: 1.0895860621361033, Validation error: 1.244042233836006\n",
      "8 terms - Training error: 1.0619377847102336, Validation error: 1.3178819245433495\n",
      "9 terms - Training error: 1.0537588035203995, Validation error: 1.260745753520858\n",
      "10 terms - Training error: 1.0473907328884224, Validation error: 1.2193756325804317\n",
      "11 terms - Training error: 0.9963457085044206, Validation error: 1.1475813962562227\n",
      "12 terms - Training error: 0.9960997665443637, Validation error: 1.1499400758264335\n",
      "13 terms - Training error: 0.9960265310727519, Validation error: 1.1475014223875195\n",
      "14 terms - Training error: 0.9944522128367181, Validation error: 1.1340798806466152\n"
     ]
    },
    {
     "name": "stderr",
     "output_type": "stream",
     "text": [
      "\r",
      "\u001b[32mProgress: 100%|█████████████████████████████████████████| Time: 0:00:00\u001b[39m\n"
     ]
    },
    {
     "name": "stdout",
     "output_type": "stream",
     "text": [
      "15 terms - Training error: 0.993547616264511, Validation error: 1.1407681432832373\n",
      "16 terms - Training error: 0.9916661155048464, Validation error: 1.1791012480996317\n",
      "17 terms - Training error: 0.9901513781520687, Validation error: 1.1917385150481603\n",
      "18 terms - Training error: 0.977761992417689, Validation error: 1.1865008672172632\n",
      "converged(result) = true\n",
      "converged(result) = true\n",
      "converged(result) = true\n",
      "getcoeff(M[Nypx]) = [-7.021927944856285, 15.278176623023565, -1.7257429779985385, -3.409719560139809, 4.488072712520406, 11.169916132061, 5.605918587772989, 4.3001038253999235, 2.639592434487083, -0.420370374158831, -2.0029909105637094, 0.5516235306386053, 0.6235348373271797, 2.3445981994059797, 0.04078927515843003, 1.2410398035389616, -0.17565357849527996, 0.9890396962355894]\n",
      "getcoeff(M[Nypx]) = [-7.021927944856285, 15.278176623023565, -1.7257429779985385, -3.409719560139809, 4.488072712520406, 11.169916132061, 5.605918587772989, 4.3001038253999235, 2.639592434487083, -0.420370374158831, -2.0029909105637094, 0.5516235306386053, 0.6235348373271797, 2.3445981994059797, 0.04078927515843003, 1.2410398035389616, -0.17565357849527996, 0.9890396962355894]\n",
      "M.L.μ = [0.992861103918341, 0.9729515994048102, 0.246295936546633, 0.0003000892381843656, -0.01621463176990371, -0.7925831532774028]\n",
      "M.L.μ = [4.452288268384458, 8.499687922583808, 1.467631834059696, 3.4917905159849365, 7.474962445973415, 0.44229836504638126]\n",
      "getcoeff(M[Nypx]) = [-7.021927944856285, 15.278176623023565, -1.7257429779985385, -3.409719560139809, 4.488072712520406, 11.169916132061, 5.605918587772989, 4.3001038253999235, 2.639592434487083, -0.420370374158831, -2.0029909105637094, 0.5516235306386053, 0.6235348373271797, 2.3445981994059797, 0.04078927515843003, 1.2410398035389616, -0.17565357849527996, 0.9890396962355894]\n",
      "1 terms - Training error: 1.4403609243304865, Validation error: 1.3249156353680847\n",
      "1 terms - Training error: 1.440360830188549, Validation error: 1.3249164826455198\n",
      "2 terms - Training error: 1.1432618480169388, Validation error: 1.1037732703954013\n",
      "3 terms - Training error: 1.0519209954733284, Validation error: 1.0385120576258156\n",
      "4 terms - Training error: 1.0138077225718782, Validation error: 1.026578737017434\n",
      "5 terms - Training error: 0.755866202526755, Validation error: 0.7277240685805543\n",
      "6 terms - Training error: 0.7013983848337042, Validation error: 0.6525504550018971\n",
      "7 terms - Training error: 0.4351319127018887, Validation error: 0.3641397756649263\n",
      "8 terms - Training error: 0.38130514743321875, Validation error: 0.3276000157525782\n",
      "9 terms - Training error: 0.3165376230589563, Validation error: 0.2994340314957401\n",
      "10 terms - Training error: 0.2060912533607809, Validation error: 0.18812996911981622\n",
      "11 terms - Training error: 0.1808484459431856, Validation error: 0.15980896621129465\n",
      "12 terms - Training error: 0.028595738476286645, Validation error: 0.10706882809679212\n"
     ]
    },
    {
     "name": "stderr",
     "output_type": "stream",
     "text": [
      "\r",
      "\u001b[32mProgress:  33%|█████████████▋                           |  ETA: 0:00:00\u001b[39m"
     ]
    },
    {
     "name": "stdout",
     "output_type": "stream",
     "text": [
      "13 terms - Training error: -0.04937493496167861, Validation error: 0.02693792322216866\n",
      "14 terms - Training error: -0.2663974923470452, Validation error: -0.21616339742433724\n",
      "15 terms - Training error: -0.370905214639117, Validation error: -0.3801728985322531\n",
      "16 terms - Training error: -0.43674845560792197, Validation error: -0.4476690214216653\n",
      "17 terms - Training error: -0.46870364476102155, Validation error: -0.4476092533658104\n",
      "18 terms - Training error: -0.47112706151802813, Validation error: -0.4515115984050412\n",
      "1 terms - Training error: 1.4410480609670957, Validation error: 1.3221670888216475\n",
      "1 terms - Training error: 1.441047337143977, Validation error: 1.322173603229716\n",
      "2 terms - Training error: 1.127340482462005, Validation error: 1.0876938325077883\n",
      "3 terms - Training error: 1.0404938953969813, Validation error: 1.024533225220379\n",
      "4 terms - Training error: 0.9782723078947685, Validation error: 0.9951822443607656\n",
      "5 terms - Training error: 0.6887862409942385, Validation error: 0.6463056442679432\n",
      "6 terms - Training error: 0.5712591750451449, Validation error: 0.5410448591870843\n",
      "7 terms - Training error: -0.392357644983268, Validation error: -0.4893042503070196\n",
      "8 terms - Training error: -0.6108959691305249, Validation error: -0.6819691315218105\n",
      "9 terms - Training error: -1.4578591383990944, Validation error: -1.585816668693066\n",
      "10 terms - Training error: -1.8783883369662742, Validation error: -1.9848292073252463\n"
     ]
    },
    {
     "name": "stderr",
     "output_type": "stream",
     "text": [
      "\r",
      "\u001b[32mProgress:  67%|███████████████████████████▍             |  ETA: 0:00:00\u001b[39m"
     ]
    },
    {
     "name": "stdout",
     "output_type": "stream",
     "text": [
      "11 terms - Training error: -2.0691698416656865, Validation error: -2.118255097533692\n",
      "12 terms - Training error: -2.0969798962647195, Validation error: -2.1204007906583144\n",
      "13 terms - Training error: -2.0975664881546074, Validation error: -2.1214408066530552\n",
      "14 terms - Training error: -2.1060703572505384, Validation error: -2.124415508280153\n",
      "15 terms - Training error: -2.107431621306844, Validation error: -2.124127208460792\n",
      "16 terms - Training error: -2.10852838641157, Validation error: -2.1190413179079073\n",
      "17 terms - Training error: -2.109582132819345, Validation error: -2.112548434165213\n",
      "18 terms - Training error: -2.11242933128017, Validation error: -2.108897399526872\n",
      "1 terms - Training error: 1.43562323607526, Validation error: 1.3438663883889905\n",
      "1 terms - Training error: 1.4355811783514847, Validation error: 1.3442449079029646\n",
      "2 terms - Training error: 1.1080472988899426, Validation error: 1.0907238924857976\n",
      "3 terms - Training error: 0.9783714231942585, Validation error: 0.9785888826586715\n",
      "4 terms - Training error: 0.7211926607215354, Validation error: 0.8179215973970101\n",
      "5 terms - Training error: 0.3623051904378703, Validation error: 0.47314384812967836\n",
      "6 terms - Training error: 0.26749337650762545, Validation error: 0.3927674631223576\n",
      "7 terms - Training error: 0.17143957426519696, Validation error: 0.3542093547938168\n",
      "8 terms - Training error: 0.13441864783131144, Validation error: 0.34678000138640197\n",
      "9 terms - Training error: 0.1196549187096274, Validation error: 0.27867529601287266\n",
      "10 terms - Training error: 0.06405983967945232, Validation error: 0.18590097293414118\n",
      "11 terms - Training error: 0.049512250349594784, Validation error: 0.15287087473646468\n",
      "12 terms - Training error: 0.034931934841975626, Validation error: 0.1306953850535286\n",
      "13 terms - Training error: 0.012304848406387188, Validation error: 0.11557298786724318\n"
     ]
    },
    {
     "name": "stderr",
     "output_type": "stream",
     "text": [
      "\r",
      "\u001b[32mProgress: 100%|█████████████████████████████████████████| Time: 0:00:00\u001b[39m\n"
     ]
    },
    {
     "name": "stdout",
     "output_type": "stream",
     "text": [
      "14 terms - Training error: -0.0024708193381349788, Validation error: 0.16139550193132726\n",
      "15 terms - Training error: -0.016016524479314148, Validation error: 0.12550103691703288\n",
      "16 terms - Training error: -0.02469222182071406, Validation error: 0.11727809548963906\n",
      "17 terms - Training error: -0.02678657753223589, Validation error: 0.12521468334360725\n",
      "18 terms - Training error: -0.03339431014785349, Validation error: 0.10990127894337914\n",
      "converged(result) = true\n"
     ]
    },
    {
     "ename": "LoadError",
     "evalue": "\u001b[91mLineSearches.LineSearchException{Float64}(\"Value and slope at step length = 0 must be finite.\", 0.0)\u001b[39m",
     "output_type": "error",
     "traceback": [
      "\u001b[91mLineSearches.LineSearchException{Float64}(\"Value and slope at step length = 0 must be finite.\", 0.0)\u001b[39m",
      "",
      "Stacktrace:",
      " [1] (::LineSearches.HagerZhang{Float64,Base.RefValue{Bool}})(::Function, ::LineSearches.var\"#ϕdϕ#6\"{NLSolversBase.OnceDifferentiable{Float64,Array{Float64,1},Array{Float64,1}},Array{Float64,1},Array{Float64,1},Array{Float64,1}}, ::Float64, ::Float64, ::Float64) at /home/mat/.julia/packages/LineSearches/Ki4c5/src/hagerzhang.jl:116",
      " [2] HagerZhang at /home/mat/.julia/packages/LineSearches/Ki4c5/src/hagerzhang.jl:101 [inlined]",
      " [3] newton_(::NLSolversBase.OnceDifferentiable{Array{Float64,1},Diagonal{Float64,Array{Float64,1}},Array{Float64,1}}, ::Array{Float64,1}, ::Float64, ::Float64, ::Int64, ::Bool, ::Bool, ::Bool, ::LineSearches.HagerZhang{Float64,Base.RefValue{Bool}}, ::NLsolve.var\"#27#29\", ::NLsolve.NewtonCache{Array{Float64,1}}) at /home/mat/.julia/packages/NLsolve/gJL1I/src/solvers/newton.jl:119",
      " [4] #newton#7 at /home/mat/.julia/packages/NLsolve/gJL1I/src/solvers/newton.jl:146 [inlined]",
      " [5] nlsolve(::NLSolversBase.OnceDifferentiable{Array{Float64,1},Diagonal{Float64,Array{Float64,1}},Array{Float64,1}}, ::Array{Float64,1}; method::Symbol, xtol::Float64, ftol::Float64, iterations::Int64, store_trace::Bool, show_trace::Bool, extended_trace::Bool, linesearch::LineSearches.HagerZhang{Float64,Base.RefValue{Bool}}, linsolve::NLsolve.var\"#27#29\", factor::Float64, autoscale::Bool, m::Int64, beta::Int64, aa_start::Int64, droptol::Float64) at /home/mat/.julia/packages/NLsolve/gJL1I/src/nlsolve/nlsolve.jl:23",
      " [6] inverse!(::SubArray{Float64,2,Array{Float64,2},Tuple{UnitRange{Int64},Base.Slice{Base.OneTo{Int64}}},false}, ::SubArray{Float64,1,Array{Float64,2},Tuple{Int64,Base.Slice{Base.OneTo{Int64}}},true}, ::IntegratedFunction, ::Storage) at /media/mat/HDD/AdaptiveTransportMap/src/mapcomponent/inverse.jl:68",
      " [7] inverse! at /media/mat/HDD/AdaptiveTransportMap/src/mapcomponent/inverse.jl:80 [inlined]",
      " [8] inverse!(::Array{Float64,2}, ::Array{Float64,2}, ::HermiteMap, ::Array{Float64,1}; apply_rescaling::Bool, start::Int64, P::Serial) at /media/mat/HDD/AdaptiveTransportMap/src/mapcomponent/hermitemap.jl:479",
      " [9] (::StochMapFilter)(::Array{Float64,2}, ::Array{Float64,1}, ::Float64; laplace::Bool) at /media/mat/HDD/AdaptiveTransportMap/src/mapcomponent/stochmapfilter.jl:76",
      " [10] (::StochMapFilter)(::Array{Float64,2}, ::Array{Float64,1}, ::Float64) at /media/mat/HDD/AdaptiveTransportMap/src/mapcomponent/stochmapfilter.jl:37",
      " [11] seqassim(::StateSpace, ::SyntheticData, ::Int64, ::AdditiveInflation, ::StochMapFilter, ::Array{Float64,2}, ::Int64, ::Int64, ::Float64) at /media/mat/HDD/AdaptiveTransportMap/src/DA/seqassim.jl:47",
      " [12] top-level scope at In[72]:1",
      " [13] include_string(::Function, ::Module, ::String, ::String) at ./loading.jl:1091"
     ]
    }
   ],
   "source": [
    "Xsmf = seqassim(F, data, Tf, model.ϵx, smf, deepcopy(X), model.Ny, model.Nx, t0);"
   ]
  },
  {
   "cell_type": "code",
   "execution_count": 114,
   "metadata": {},
   "outputs": [
    {
     "ename": "LoadError",
     "evalue": "\u001b[91mBoundsError: attempt to access 3000-element Array{Float64,1} at index [5800]\u001b[39m",
     "output_type": "error",
     "traceback": [
      "\u001b[91mBoundsError: attempt to access 3000-element Array{Float64,1} at index [5800]\u001b[39m",
      "",
      "Stacktrace:",
      " [1] getindex at ./array.jl:809 [inlined]",
      " [2] getindex(::Array{Float64,1}, ::StepRange{Int64,Int64}) at ./array.jl:834",
      " [3] top-level scope at In[114]:6",
      " [4] include_string(::Function, ::Module, ::String, ::String) at ./loading.jl:1091"
     ]
    }
   ],
   "source": [
    "# Plot the first component of the state over time\n",
    "nb = 5800\n",
    "ne = 6000\n",
    "Δ = 1\n",
    "plt = plot(xlim = (-Inf, Inf), ylim = (-Inf, Inf), xlabel = L\"t\", ylabel = L\"x_1\")\n",
    "plot!(plt, data.tt[nb:Δ:ne], data.xt[1,nb:Δ:ne], linewidth =  3, color = :teal, label = \"True\")\n",
    "plot!(plt, data.tt[nb:Δ:ne], mean_hist(Xsmf)[1,1+nb:Δ:1+ne], linewidth = 3, grid = false,\n",
    "     color = :orangered2, linestyle = :dash, label = \"sEnKF\")\n",
    "scatter!(plt, data.tt[nb:Δ:ne], data.yt[1,nb:Δ:ne], linewidth = 3, color = :grey, markersize = 5, alpha = 0.5, label = \"Observation\")\n",
    "plt"
   ]
  },
  {
   "cell_type": "code",
   "execution_count": 84,
   "metadata": {},
   "outputs": [
    {
     "name": "stdout",
     "output_type": "stream",
     "text": [
      "search: \u001b[0m\u001b[1mS\u001b[22m\u001b[0m\u001b[1mt\u001b[22m\u001b[0m\u001b[1ma\u001b[22m\u001b[0m\u001b[1mt\u001b[22m\u001b[0m\u001b[1me\u001b[22m\u001b[0m\u001b[1mS\u001b[22m\u001b[0m\u001b[1mp\u001b[22m\u001b[0m\u001b[1ma\u001b[22m\u001b[0m\u001b[1mc\u001b[22m\u001b[0m\u001b[1me\u001b[22m\n",
      "\n"
     ]
    },
    {
     "data": {
      "text/latex": [
       "\\begin{verbatim}\n",
       "StateSpace\n",
       "\\end{verbatim}\n",
       "An immutable structure representing the dynamical \\texttt{f} and observation \\texttt{h} operators. The dynamical model is provided by the right hand side of the ODE to solve. For a system of ODEs, we will prefer an in-place syntax \\texttt{f(du, u, p, t)}, where \\texttt{p} are parameters of the model. We rely on \\texttt{OrdinaryDiffEq} to integrate the dynamical system with the Tsitouras 5/4 Runge-Kutta method adaptive time marching. \\texttt{h} must be a function of the form \\texttt{h(x, t)}, where \\texttt{t} is the time and \\texttt{x} is the state vector.\n",
       "\n"
      ],
      "text/markdown": [
       "```\n",
       "StateSpace\n",
       "```\n",
       "\n",
       "An immutable structure representing the dynamical `f` and observation `h` operators. The dynamical model is provided by the right hand side of the ODE to solve. For a system of ODEs, we will prefer an in-place syntax `f(du, u, p, t)`, where `p` are parameters of the model. We rely on `OrdinaryDiffEq` to integrate the dynamical system with the Tsitouras 5/4 Runge-Kutta method adaptive time marching. `h` must be a function of the form `h(x, t)`, where `t` is the time and `x` is the state vector.\n"
      ],
      "text/plain": [
       "\u001b[36m  StateSpace\u001b[39m\n",
       "\n",
       "  An immutable structure representing the dynamical \u001b[36mf\u001b[39m and observation \u001b[36mh\u001b[39m\n",
       "  operators. The dynamical model is provided by the right hand side of the ODE\n",
       "  to solve. For a system of ODEs, we will prefer an in-place syntax \u001b[36mf(du, u,\n",
       "  p, t)\u001b[39m, where \u001b[36mp\u001b[39m are parameters of the model. We rely on \u001b[36mOrdinaryDiffEq\u001b[39m to\n",
       "  integrate the dynamical system with the Tsitouras 5/4 Runge-Kutta method\n",
       "  adaptive time marching. \u001b[36mh\u001b[39m must be a function of the form \u001b[36mh(x, t)\u001b[39m, where \u001b[36mt\u001b[39m is\n",
       "  the time and \u001b[36mx\u001b[39m is the state vector."
      ]
     },
     "execution_count": 84,
     "metadata": {},
     "output_type": "execute_result"
    }
   ],
   "source": [
    "?StateSpace"
   ]
  },
  {
   "cell_type": "code",
   "execution_count": 115,
   "metadata": {},
   "outputs": [
    {
     "ename": "LoadError",
     "evalue": "\u001b[91mBoundsError: attempt to access 3000-element Array{Float64,1} at index [5500]\u001b[39m",
     "output_type": "error",
     "traceback": [
      "\u001b[91mBoundsError: attempt to access 3000-element Array{Float64,1} at index [5500]\u001b[39m",
      "",
      "Stacktrace:",
      " [1] getindex at ./array.jl:809 [inlined]",
      " [2] getindex(::Array{Float64,1}, ::StepRange{Int64,Int64}) at ./array.jl:834",
      " [3] top-level scope at ./In[115]:9",
      " [4] include_string(::Function, ::Module, ::String, ::String) at ./loading.jl:1091"
     ]
    }
   ],
   "source": [
    "# Plot the different component of the state over time\n",
    "nb = 5500\n",
    "ne = 6000\n",
    "Δ = 1\n",
    "plt = plot(layout = grid(3,1), xlim = (-Inf, Inf), ylim = (-Inf, Inf), xlabel = L\"t\", \n",
    "           size = (900, 1000))\n",
    "\n",
    "for i =1:3\n",
    "    plot!(plt[i,1], data.tt[nb:Δ:ne], data.xt[i,nb:Δ:ne], linewidth =  2, color = :teal, \n",
    "          ylabel = latexstring(\"x_\"*string(i)), legend = (i == 1), label = \"True\")\n",
    "    plot!(plt[i,1], data.tt[nb:Δ:ne], mean_hist(Xsmf)[i,1+nb:Δ:1+ne], linewidth = 2, grid = false,\n",
    "          color = :orangered2, linestyle = :dash, label = \"sEnKF\")\n",
    "    scatter!(plt[i,1], data.tt[nb:Δ:ne], data.yt[i,nb:Δ:ne], linewidth = 3, color = :grey, \n",
    "          markersize = 5, alpha = 0.5, label  = \"Observation\")\n",
    "end\n",
    "\n",
    "plt"
   ]
  },
  {
   "cell_type": "markdown",
   "metadata": {},
   "source": [
    "Talk about the benchmark of the different filters"
   ]
  },
  {
   "cell_type": "markdown",
   "metadata": {},
   "source": [
    "### Benchmark of the EnKF filter"
   ]
  },
  {
   "cell_type": "code",
   "execution_count": 116,
   "metadata": {},
   "outputs": [
    {
     "name": "stdout",
     "output_type": "stream",
     "text": [
      "Ne 10 RMSE: 3.8254663423276716\n",
      "Ne 20 RMSE: 2.0605921219961134\n",
      "Ne 40 RMSE: 0.4223537564608097\n",
      "Ne 60 RMSE: 0.40146546759545937\n",
      "Ne 100 RMSE: 0.3877197292448612\n",
      "Ne 200 RMSE: 0.4025809532902939\n",
      " 15.443304 seconds (68.89 M allocations: 6.501 GiB, 6.17% gc time)\n"
     ]
    }
   ],
   "source": [
    "path = pwd()*\"/lorenz63/data/\"\n",
    "Nx = 3\n",
    "Ny = 3\n",
    "Ne_array = [10, 20, 40, 60, 100, 200];\n",
    "@time model, data = setup_lorenz63(path, Ne_array);"
   ]
  },
  {
   "cell_type": "code",
   "execution_count": 55,
   "metadata": {},
   "outputs": [
    {
     "name": "stdout",
     "output_type": "stream",
     "text": [
      "(Ne, β) = (10, 1.0)\n",
      "  0.482682 seconds (3.47 M allocations: 329.564 MiB, 11.44% gc time)\n",
      "Ne = 10\n",
      "Ne 10& β 1.0 RMSE: 0.6015590736992926\n"
     ]
    },
    {
     "name": "stderr",
     "output_type": "stream",
     "text": [
      "\r",
      "\u001b[32mProgress:  17%|██████▉                                  |  ETA: 0:00:05\u001b[39m"
     ]
    },
    {
     "name": "stdout",
     "output_type": "stream",
     "text": [
      "(Ne, β) = (20, 1.0)\n",
      "  "
     ]
    },
    {
     "name": "stderr",
     "output_type": "stream",
     "text": [
      "\r",
      "\u001b[32mProgress:  33%|█████████████▋                           |  ETA: 0:00:04\u001b[39m"
     ]
    },
    {
     "name": "stdout",
     "output_type": "stream",
     "text": [
      "0.859515 seconds (6.59 M allocations: 631.994 MiB, 8.56% gc time)\n",
      "Ne = 20\n",
      "Ne 20& β 1.0 RMSE: 0.5184477645494938\n",
      "(Ne, β) = (40, 1.0)\n",
      "  "
     ]
    },
    {
     "name": "stderr",
     "output_type": "stream",
     "text": [
      "\r",
      "\u001b[32mProgress:  50%|████████████████████▌                    |  ETA: 0:00:04\u001b[39m"
     ]
    },
    {
     "name": "stdout",
     "output_type": "stream",
     "text": [
      "1.662244 seconds (12.83 M allocations: 1.210 GiB, 8.65% gc time)\n",
      "Ne = 40\n",
      "Ne 40& β 1.0 RMSE: 0.4483744816193398\n",
      "(Ne, β) = (60, 1.0)\n",
      "  "
     ]
    },
    {
     "name": "stderr",
     "output_type": "stream",
     "text": [
      "\r",
      "\u001b[32mProgress:  67%|███████████████████████████▍             |  ETA: 0:00:03\u001b[39m"
     ]
    },
    {
     "name": "stdout",
     "output_type": "stream",
     "text": [
      "2.463622 seconds (19.07 M allocations: 1.804 GiB, 8.51% gc time)\n",
      "Ne = 60\n",
      "Ne 60& β 1.0 RMSE: 0.4403101469791623\n",
      "(Ne, β) = (100, 1.0)\n",
      "  "
     ]
    },
    {
     "name": "stderr",
     "output_type": "stream",
     "text": [
      "\r",
      "\u001b[32mProgress:  83%|██████████████████████████████████▏      |  ETA: 0:00:02\u001b[39m"
     ]
    },
    {
     "name": "stdout",
     "output_type": "stream",
     "text": [
      "4.334649 seconds (31.55 M allocations: 2.983 GiB, 8.49% gc time)\n",
      "Ne = 100\n",
      "Ne 100& β 1.0 RMSE: 0.4303647629868742\n",
      "(Ne, β) = (200, 1.0)\n",
      " 13.776164 seconds (62.75 M allocations: 5.935 GiB, 7.19% gc time)\n",
      "Ne = 200\n",
      "Ne 200& β 1.0 RMSE: 0.4465248257137066"
     ]
    },
    {
     "name": "stderr",
     "output_type": "stream",
     "text": [
      "\r",
      "\u001b[32mProgress: 100%|█████████████████████████████████████████| Time: 0:00:24\u001b[39m\n"
     ]
    },
    {
     "name": "stdout",
     "output_type": "stream",
     "text": [
      "\n"
     ]
    },
    {
     "data": {
      "text/plain": [
       "6-element Array{Any,1}:\n",
       " Metrics[Metrics(10, [0.8166106052280312, 0.8477976249831615, 0.5377435004826744, 0.2946057216215732, 0.1963372890873663, 0.1661211989653268, 0.09550122139602638, 0.10895691501209233, 0.061645037116889324, 0.1556247918798692  …  4.0942175082812975, 2.918216773645667, 2.293946056603929, 2.3368525142834664, 2.9966610036699945, 2.488711153121422, 2.060789991067101, 2.000268585410395, 2.0094430111553767, 1.633586039615903], 0.37686107778341077, 0.6015590736992926, 0.8149386709205617, [1.0125271950095414, 0.9623361052178709, 0.7792957424814254, 0.4344193482216172, 0.2873587820499424, 0.2729751953413108, 0.40382950988831384, 0.6108278943470481, 0.6592219807793599, 0.4157011617649463  …  0.6622613427311322, 0.9156031963385003, 1.1880540752197546, 1.010250360884169, 0.9055102239545725, 0.6429162631150634, 0.5592022167774022, 0.6557579770729094, 0.987851621549649, 1.1234614213819019], 0.4419068954362283, 0.5053138269227165, 0.25903240927442023, [1.0, 1.0, 0.6666666666666666, 0.6666666666666666, 1.0, 1.0, 1.0, 1.0, 1.0, 1.0  …  0.6666666666666666, 0.6666666666666666, 0.3333333333333333, 0.3333333333333333, 0.0, 0.3333333333333333, 0.0, 0.0, 0.3333333333333333, 0.6666666666666666], 1.0, 0.7261666666666667, 0.36457522740458864)]\n",
       " Metrics[Metrics(20, [0.8009234015601246, 0.8873529418152709, 0.9648186335874159, 0.2241641575750264, 0.08972122691323191, 0.40502498541772275, 0.9061432442037632, 1.2895306531554689, 0.7946468671210342, 0.3985672597736556  …  0.3346030298442835, 0.5163997563927475, 0.43517438396749325, 0.598360550796541, 0.5362700352527868, 0.4471320623829449, 0.29561670268590506, 0.18851296824592492, 0.17522643152541226, 0.07857223386207775], 0.35531061663093255, 0.5184477645494938, 0.4845044270612191, [1.3258269952984914, 1.219366525258285, 1.1067738085368013, 0.8876478449926386, 0.6257782703432062, 0.5204509248590731, 0.6103587013183903, 0.7679474941003844, 0.5675737349456604, 0.5082509495209795  …  0.5453088799482404, 0.5575510867223642, 0.5540770509755611, 0.5983031348899548, 0.50022559167807, 0.42259328666553975, 0.3198506611541602, 0.3043017231422324, 0.38395027869333503, 0.5385430054163486], 0.47192182393714555, 0.5305997869038892, 0.24119505026883653, [1.0, 1.0, 1.0, 1.0, 1.0, 1.0, 0.3333333333333333, 0.0, 0.6666666666666666, 1.0  …  1.0, 1.0, 1.0, 1.0, 1.0, 1.0, 1.0, 1.0, 1.0, 1.0], 1.0, 0.8525, 0.2979733949063843)]\n",
       " Metrics[Metrics(40, [0.9826817575939837, 0.8853553187784176, 0.3822879886654962, 0.1560808317176755, 0.16401163158104606, 0.2641915580627298, 0.4821786668586909, 0.7562409207457594, 0.5304897251404828, 0.2335617480836244  …  0.46302073478462163, 0.44641521503457005, 0.5198248995974374, 0.8841581293917309, 0.8944940422060007, 0.6869037355788589, 0.47199979466366954, 0.3146926290239334, 0.22052593050442004, 0.2011946269035898], 0.31988125779252113, 0.4483744816193398, 0.3888888264729722, [0.9910648265607959, 1.0389612210939443, 0.9976972004017787, 0.6975832292555886, 0.40656021680950216, 0.3543519277702079, 0.4841426130471005, 0.6802004103354949, 0.5357937586885131, 0.4567283561463507  …  0.34892484591013456, 0.4717990778913134, 0.618724675393529, 0.5828250426543808, 0.4770344985964706, 0.39083347571382326, 0.2923228793059253, 0.3054108982896446, 0.45375090190774553, 0.6625324478592381], 0.4946079848132213, 0.5558350191174204, 0.23424766693404636, [1.0, 1.0, 1.0, 1.0, 1.0, 1.0, 1.0, 1.0, 1.0, 1.0  …  0.6666666666666666, 1.0, 1.0, 0.6666666666666666, 0.6666666666666666, 0.6666666666666666, 0.6666666666666666, 0.6666666666666666, 1.0, 1.0], 1.0, 0.9485, 0.17881512390001802)]\n",
       " Metrics[Metrics(60, [0.9958246928389437, 1.1406683287468808, 0.5892665012618263, 0.06937257988643586, 0.11686273681705214, 0.2663933938825168, 0.5322621212098003, 0.9316025189352882, 0.728746365036979, 0.4082893401458479  …  0.22786860029792666, 0.31749262144454576, 0.35389057590962486, 0.5051968531575757, 0.556030690676821, 0.4877666524221944, 0.30372102936096423, 0.2222280953223254, 0.28222115198656517, 0.24913840043694432], 0.30630601607276686, 0.4403101469791623, 0.38370929842878665, [1.15339760434503, 1.111068400675063, 1.0617894821482072, 0.7246278025729431, 0.4659868724356628, 0.4125774571657407, 0.5030501098617005, 0.6339205155508028, 0.5972643721683021, 0.4689687485398599  …  0.3842024564419135, 0.48550370981036023, 0.5900843703168447, 0.6445608536580213, 0.500422315137187, 0.4156164932470485, 0.3016388798926969, 0.2916869146188145, 0.40422049044227376, 0.6320377754649462], 0.5153348159848088, 0.5717853643157081, 0.2325183875067794, [1.0, 1.0, 1.0, 1.0, 1.0, 1.0, 1.0, 1.0, 1.0, 1.0  …  1.0, 1.0, 1.0, 1.0, 1.0, 1.0, 1.0, 1.0, 1.0, 1.0], 1.0, 0.9791666666666667, 0.10627248639759496)]\n",
       " Metrics[Metrics(100, [1.1447153311331781, 1.38577826954797, 0.8011100613741654, 0.2521263581826285, 0.3020487816972422, 0.508284816604461, 0.8670734818498514, 1.1608770052370112, 0.8718084104569586, 0.5296218649707812  …  0.2398186998545124, 0.25503741685515185, 0.22177804228613865, 0.41110055435395404, 0.47496251760836805, 0.40719857492095896, 0.24764360531773363, 0.13828193095173355, 0.0826234199512165, 0.26856854675486025], 0.2893155689372151, 0.4303647629868742, 0.38191564508486936, [0.9527704170384034, 0.9321001672664082, 1.0398646440457058, 0.6935998849951813, 0.44319915626874445, 0.3912492072948739, 0.5244511435147953, 0.6086134296913539, 0.5544278894887922, 0.4791755006959619  …  0.3928515891332105, 0.5199694696873517, 0.6603156868760311, 0.7450505076075534, 0.6302553655749117, 0.5068577227060873, 0.37451309930446913, 0.35529727887821777, 0.5185904054762793, 0.7753972206416857], 0.5329209748271038, 0.5871951348369144, 0.2322523924985191, [1.0, 1.0, 1.0, 1.0, 1.0, 1.0, 1.0, 1.0, 1.0, 1.0  …  1.0, 1.0, 1.0, 1.0, 1.0, 1.0, 1.0, 1.0, 1.0, 1.0], 1.0, 0.9911666666666668, 0.07514664299502112)]\n",
       " Metrics[Metrics(200, [0.888273273483637, 1.0797033517549515, 0.3440269499593048, 0.21420101076430767, 0.16162425690189322, 0.3253767298519863, 0.7050060288401291, 1.0723841440703699, 0.7927858236953814, 0.37303796598152517  …  0.14863863331263572, 0.13098694675828024, 0.01569618827238591, 0.16380423196922922, 0.33101947558854705, 0.3183054841536702, 0.19962116984435951, 0.10929821953369317, 0.07402847742163798, 0.21688151831203697], 0.3082727000481167, 0.4465248257137066, 0.38847206086051883, [1.1025016902484062, 1.1585146386588427, 1.050280287671641, 0.7264029154997294, 0.46463567765400915, 0.4408017551630872, 0.5331142954826315, 0.6640979088648434, 0.6326136904712192, 0.5171574662091373  …  0.4291626962129586, 0.5520631256132565, 0.6739989865135746, 0.774635718849873, 0.6359763126942447, 0.5135438852089059, 0.3752157713769756, 0.3581808492199844, 0.47687145842631096, 0.6813329693353127], 0.5508320940815306, 0.6018345158581575, 0.23071327806131858, [1.0, 1.0, 1.0, 1.0, 1.0, 1.0, 1.0, 1.0, 1.0, 1.0  …  1.0, 1.0, 1.0, 1.0, 1.0, 1.0, 1.0, 1.0, 1.0, 1.0], 1.0, 0.9908333333333332, 0.07584313842648356)]"
      ]
     },
     "execution_count": 55,
     "metadata": {},
     "output_type": "execute_result"
    }
   ],
   "source": [
    "metric_list = benchmark_lorenz63(model, data, path, Ne_array, [1.0])"
   ]
  },
  {
   "cell_type": "code",
   "execution_count": 23,
   "metadata": {},
   "outputs": [
    {
     "name": "stdout",
     "output_type": "stream",
     "text": [
      "(Ne, β) = (200, 1.0)\n",
      "  7.739944 seconds (62.75 M allocations: 5.935 GiB, 6.06% gc time)\n",
      "Ne = 200\n",
      "Ne 200& β 1.0 RMSE: 0.4189442707516625\n"
     ]
    },
    {
     "data": {
      "text/plain": [
       "1-element Array{Any,1}:\n",
       " Metrics[Metrics(200, [0.27418871478089074, 0.4011111920900346, 0.6224367042654201, 1.1940241372680338, 1.178706937442249, 0.629896584355798, 0.37352902606306937, 0.27598562967074297, 0.3415108073527272, 0.5385900049790774  …  0.22005926456584765, 0.11117371050261328, 0.0745833426310767, 0.06915409494524392, 0.23566185689849842, 0.4284533696688461, 0.7382482677445492, 1.2785156926466672, 0.9477650979445261, 0.8579855755647071], 0.2843509443072877, 0.4189442707516625, 0.3843942458358231, [0.2791191166770778, 0.3308824803118106, 0.5356751453956368, 0.7482658949655999, 0.6849666981780923, 0.5401293761758875, 0.3905840265207302, 0.30529026491290673, 0.3612676308031941, 0.5506587576884893  …  0.9550452598208562, 0.7275900415277436, 0.5097020874896808, 0.38068472189933705, 0.44668108906035564, 0.6711198461183089, 0.7934070557338772, 0.953289237580203, 1.0821830718436276, 1.1373384160933897], 0.529889526630428, 0.584733698922179, 0.23401428353181045, [1.0, 1.0, 1.0, 1.0, 0.6666666666666666, 1.0, 1.0, 1.0, 1.0, 1.0  …  1.0, 1.0, 1.0, 1.0, 1.0, 1.0, 1.0, 1.0, 1.0, 1.0], 1.0, 0.9928333333333332, 0.065876381401767)]"
      ]
     },
     "execution_count": 23,
     "metadata": {},
     "output_type": "execute_result"
    }
   ],
   "source": [
    "metric_list = benchmark_lorenz63(model, data, path, Ne_array, [1.0])"
   ]
  }
 ],
 "metadata": {
  "kernelspec": {
   "display_name": "Julia 1.5.3",
   "language": "julia",
   "name": "julia-1.5"
  },
  "language_info": {
   "file_extension": ".jl",
   "mimetype": "application/julia",
   "name": "julia",
   "version": "1.5.3"
  }
 },
 "nbformat": 4,
 "nbformat_minor": 2
}
