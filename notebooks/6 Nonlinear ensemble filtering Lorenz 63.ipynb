{
 "cells": [
  {
   "cell_type": "markdown",
   "metadata": {},
   "source": [
    "## 6. Nonlinear ensemble filtering for the Lorenz-63 problem"
   ]
  },
  {
   "cell_type": "markdown",
   "metadata": {},
   "source": [
    "In this notebook, we are interested in the sequential inference \n",
    "\n",
    "\n",
    "\n",
    "References: \n",
    "\n",
    "\n",
    "[1] Evensen, G., 1994. Sequential data assimilation with a nonlinear quasi‐geostrophic model using Monte Carlo methods to forecast error statistics. Journal of Geophysical Research: Oceans, 99(C5), pp.10143-10162.\n",
    "\n",
    "[2] Asch, M., Bocquet, M. and Nodet, M., 2016. Data assimilation: methods, algorithms, and applications. Society for Industrial and Applied Mathematics.\n",
    "\n",
    "[3] Bishop, C.H., Etherton, B.J. and Majumdar, S.J., 2001. Adaptive sampling with the ensemble transform Kalman filter. Part I: Theoretical aspects. Monthly weather review, 129(3), pp.420-436. \n",
    "\n",
    "[4] Lorenz, E.N., 1963. Deterministic nonperiodic flow. Journal of atmospheric sciences, 20(2), pp.130-141.\n",
    "\n",
    "[5] Spantini, A., Baptista, R. and Marzouk, Y., 2019. Coupling techniques for nonlinear ensemble filtering. arXiv preprint arXiv:1907.00389."
   ]
  },
  {
   "cell_type": "markdown",
   "metadata": {},
   "source": [
    "### The basic steps\n",
    "To carry out sequential inference in `AdaptiveTransportMap`, we need to carry out a few basic steps:\n",
    "* **Specify the problem**: Define the state-space model: initial condition, dynamical and observation models (including process and observation noise)\n",
    "* **Specify the inflation parameters**: Determine the levels of covariance inflation to properly balance the dynamical system and the observations from the truth system\n",
    "* **Specify the filter**: Choose the ensemble filter to assimilate the observations in the state estimate\n",
    "* **Perform the sequential inference**: Perform the sequential inference\n",
    "\n",
    "We will go through all of these here."
   ]
  },
  {
   "cell_type": "code",
   "execution_count": 1,
   "metadata": {},
   "outputs": [
    {
     "name": "stderr",
     "output_type": "stream",
     "text": [
      "┌ Info: Precompiling AdaptiveTransportMap [bdf749b0-1400-4207-80d3-e689c0e3f03d]\n",
      "└ @ Base loading.jl:1278\n",
      "┌ Warning: Type annotations on keyword arguments not currently supported in recipes. Type information has been discarded\n",
      "└ @ RecipesBase ~/.julia/packages/RecipesBase/92zOw/src/RecipesBase.jl:116\n",
      "┌ Warning: Type annotations on keyword arguments not currently supported in recipes. Type information has been discarded\n",
      "└ @ RecipesBase ~/.julia/packages/RecipesBase/92zOw/src/RecipesBase.jl:116\n"
     ]
    }
   ],
   "source": [
    "using Revise\n",
    "using LinearAlgebra\n",
    "using AdaptiveTransportMap\n",
    "using Statistics\n",
    "using Distributions\n",
    "using OrdinaryDiffEq"
   ]
  },
  {
   "cell_type": "markdown",
   "metadata": {},
   "source": [
    "Load some packages to make nice figures"
   ]
  },
  {
   "cell_type": "code",
   "execution_count": 49,
   "metadata": {},
   "outputs": [],
   "source": [
    "using Plots\n",
    "default(tickfont = font(\"CMU Serif\", 9), \n",
    "        titlefont = font(\"CMU Serif\", 14), \n",
    "        guidefont = font(\"CMU Serif\", 12),\n",
    "        legendfont = font(\"CMU Serif\", 10),\n",
    "        grid = false)\n",
    "pyplot()\n",
    "\n",
    "using LaTeXStrings\n",
    "PyPlot.rc(\"text\", usetex = \"true\")\n",
    "PyPlot.rc(\"font\", family = \"CMU Serif\")\n",
    "# gr()\n",
    "using ColorSchemes"
   ]
  },
  {
   "cell_type": "markdown",
   "metadata": {},
   "source": [
    "The Lorenz-63  model is a three dimensional system that models the atmospheric convection [4]. This system is a classical benchmark problem in data assimilation. The state $\\boldsymbol{x} = (x_1, x_2, x_3)$ is governed by the following set of ordinary differential equations:\n",
    "\n",
    "\\begin{equation}\n",
    "\\begin{aligned}\n",
    "&\\frac{\\mathrm{d} x_1}{\\mathrm{d} t}=\\sigma(x_2-x_1)\\\\\n",
    "&\\frac{\\mathrm{d} x_2}{\\mathrm{d} t}=x_1(\\rho-x_2)-x_2\\\\\n",
    "&\\frac{\\mathrm{d} x_3}{\\mathrm{d} t}=x_1 x_2-\\beta x_3,\n",
    "\\end{aligned}\n",
    "\\end{equation}\n",
    "\n",
    "where $\\sigma = 10, \\beta = 8/3, \\rho = 28$. For these values, the system is chaotic and behaves like a strange attractor. We integrate this system of ODEs with time step $\\Delta t_{dyn} = 0.05$. The state is fully observed $h(t,\\boldsymbol{x}) = \\boldsymbol{x}$ with $\\Delta t_{obs}=0.1$. The initial distribution $\\pi_{\\mathsf{X}_0}$ is the standard Gaussian. The process noise is Gaussian with zero mean and covariance $10^{-4}\\boldsymbol{I}_3$. The measurement noise has a Gaussian distribution with zero mean and covariance $\\theta^2\\boldsymbol{I}_3$ where $\\theta^2 = 4.0$."
   ]
  },
  {
   "cell_type": "markdown",
   "metadata": {},
   "source": [
    "### Simple twin-experiment"
   ]
  },
  {
   "cell_type": "markdown",
   "metadata": {},
   "source": [
    "Define the dimension of the state and observation vectors"
   ]
  },
  {
   "cell_type": "code",
   "execution_count": 108,
   "metadata": {},
   "outputs": [
    {
     "data": {
      "text/plain": [
       "3"
      ]
     },
     "execution_count": 108,
     "metadata": {},
     "output_type": "execute_result"
    }
   ],
   "source": [
    "Nx = 3\n",
    "Ny = 3"
   ]
  },
  {
   "cell_type": "markdown",
   "metadata": {},
   "source": [
    "Define the time steps $\\Delta t_{dyn}, \\Delta t_{obs}$  of the dynamical and observation models. Observations from the truth are assimilated every $\\Delta t_{obs}$."
   ]
  },
  {
   "cell_type": "code",
   "execution_count": 109,
   "metadata": {},
   "outputs": [
    {
     "data": {
      "text/plain": [
       "0.1"
      ]
     },
     "execution_count": 109,
     "metadata": {},
     "output_type": "execute_result"
    }
   ],
   "source": [
    "Δtdyn = 0.05\n",
    "Δtobs = 0.1"
   ]
  },
  {
   "cell_type": "markdown",
   "metadata": {},
   "source": [
    "Define the additive inflation for the dynamical and observation models"
   ]
  },
  {
   "cell_type": "markdown",
   "metadata": {},
   "source": [
    "Define the time span of interest"
   ]
  },
  {
   "cell_type": "code",
   "execution_count": 110,
   "metadata": {},
   "outputs": [
    {
     "data": {
      "text/plain": [
       "10"
      ]
     },
     "execution_count": 110,
     "metadata": {},
     "output_type": "execute_result"
    }
   ],
   "source": [
    "t0 = 0.0\n",
    "tf = 1.0\n",
    "Tf = ceil(Int64, tf/Δtobs)"
   ]
  },
  {
   "cell_type": "markdown",
   "metadata": {},
   "source": [
    " Define the distribution for the initial condition $\\pi_{\\mathsf{X}_0}$"
   ]
  },
  {
   "cell_type": "code",
   "execution_count": 111,
   "metadata": {},
   "outputs": [
    {
     "data": {
      "text/plain": [
       "FullNormal(\n",
       "dim: 3\n",
       "μ: [0.0, 0.0, 0.0]\n",
       "Σ: [1.0 0.0 0.0; 0.0 1.0 0.0; 0.0 0.0 1.0]\n",
       ")\n"
      ]
     },
     "execution_count": 111,
     "metadata": {},
     "output_type": "execute_result"
    }
   ],
   "source": [
    "π0 = MvNormal(zeros(Nx), Matrix(1.0*I, Nx, Nx))"
   ]
  },
  {
   "cell_type": "markdown",
   "metadata": {},
   "source": [
    "We construct the state-space representation `F` of the system composed of the deterministic part of the dynamical and observation models. \n",
    "\n",
    "The dynamical model is provided by the right hand side of the ODE to solve. For a system of ODEs, we will prefer an in-place syntax `f(du, u, p, t)`, where `p` are parameters of the model.\n",
    "We rely on `OrdinaryDiffEq` to integrate the dynamical system with the Tsitouras 5/4 Runge-Kutta method adaptive time marching. \n",
    "\n",
    "We assume that the state is fully observable, i.e. $h(x, t) = x$."
   ]
  },
  {
   "cell_type": "code",
   "execution_count": 112,
   "metadata": {},
   "outputs": [
    {
     "data": {
      "text/plain": [
       "StateSpace(AdaptiveTransportMap.lorenz63!, h)"
      ]
     },
     "execution_count": 112,
     "metadata": {},
     "output_type": "execute_result"
    }
   ],
   "source": [
    "h(x, t) = x\n",
    "F = StateSpace(lorenz63!, h)"
   ]
  },
  {
   "cell_type": "code",
   "execution_count": 113,
   "metadata": {},
   "outputs": [
    {
     "data": {
      "text/plain": [
       "AdditiveInflation(3, IsoNormal(\n",
       "dim: 3\n",
       "μ: [0.0, 0.0, 0.0]\n",
       "Σ: [1.0 0.0 0.0; 0.0 1.0 0.0; 0.0 0.0 1.0]\n",
       ")\n",
       ")"
      ]
     },
     "execution_count": 113,
     "metadata": {},
     "output_type": "execute_result"
    }
   ],
   "source": [
    "σx = 1e-2\n",
    "σy = 1.0\n",
    "\n",
    "ϵx = AdditiveInflation(Nx, zeros(Nx), σx)\n",
    "ϵy = AdditiveInflation(Ny, zeros(Ny), σy)"
   ]
  },
  {
   "cell_type": "markdown",
   "metadata": {},
   "source": [
    "To perform the nonlinear ensemble filtering, we first need to estimate the transport map $\\boldsymbol{S}^{\\boldsymbol{\\mathcal{X}}}$.\n",
    "\n",
    "In this notebook, we are going to assume that the basis of features does not change over time, but solely the coefficients $c_{\\boldsymbol{\\alpha}}$ of the expansion. \n",
    "\n",
    "\n",
    "To estimate the map, we generate joint samples $(\\boldsymbol{y}^i, \\boldsymbol{x}^i), \\; i = 1, \\ldots, N_e$ where $\\boldsymbol{x}^i$ o generate i.i.d. samples from the system’s invariant (long-time) distribution, we sampleninitialconditions from a multivariate standard Gaussian distribution.  For each sample, we run the ODEin equation(SM.25)forT=  40,000steps using the Runge-Kutta method with a time-step of∆t= 0.01. The samples of the state at the final time are then i.i.d. samples from the push-forwarddistribution of the standard Gaussian through the nonlinear forward dynamics forTsteps"
   ]
  },
  {
   "cell_type": "code",
   "execution_count": 114,
   "metadata": {},
   "outputs": [
    {
     "data": {
      "text/plain": [
       "\u001b[36mODEProblem\u001b[0m with uType \u001b[36mArray{Float64,1}\u001b[0m and tType \u001b[36mFloat64\u001b[0m. In-place: \u001b[36mtrue\u001b[0m\n",
       "timespan: (0.0, 100.0)\n",
       "u0: [-1.867213766885685, -1.066334067812113, -0.8214933075030943]"
      ]
     },
     "execution_count": 114,
     "metadata": {},
     "output_type": "execute_result"
    }
   ],
   "source": [
    "# Number of runs\n",
    "Ne = 500\n",
    "# Zero vector of the size of the state\n",
    "x0 = rand(π0)\n",
    "\n",
    "# Time stepp\n",
    "tspan = (0.0, 100.0)\n",
    "prob = ODEProblem(lorenz63!, x0, tspan)"
   ]
  },
  {
   "cell_type": "markdown",
   "metadata": {},
   "source": [
    "Create cache to store the different final solutions"
   ]
  },
  {
   "cell_type": "code",
   "execution_count": 115,
   "metadata": {},
   "outputs": [],
   "source": [
    "X = zeros(Ny + Nx, Ne);"
   ]
  },
  {
   "cell_type": "markdown",
   "metadata": {},
   "source": [
    "Solve Lorenz-96 model for the different initial conditions and store the solutions as the columns of `X`, and compute the associated observation vector."
   ]
  },
  {
   "cell_type": "code",
   "execution_count": 116,
   "metadata": {},
   "outputs": [],
   "source": [
    "@inbounds for i=1:Ne\n",
    "    prob = remake(prob; u0 = rand(π0))\n",
    "    sol = solve(prob, Tsit5(), dt = 0.01, adaptive = false, dense = false, saveat = tspan[end], save_start = false)\n",
    "    # Store the state\n",
    "    X[Ny+1:Ny+Nx,i] .= deepcopy(sol.u[1])\n",
    "end\n",
    "# Apply the process noise\n",
    "ϵx(X, Ny+1, Ny+Nx)\n",
    "# Generate the observations\n",
    "observe(h, X, tf, Ny, Nx)\n",
    "# Apply the observation noise\n",
    "ϵy(X, 1, Ny)"
   ]
  },
  {
   "cell_type": "code",
   "execution_count": 117,
   "metadata": {},
   "outputs": [
    {
     "data": {
      "text/plain": [
       "HermiteMap(30, 6, LinearTransform(6, [0.23650276764154302, 0.2267102590907793, 23.789339432082684, 0.24415714284157108, 0.20838741445073083, 23.833781824422925], [8.164515874671388 0.0 … 0.0 0.0; 0.0 9.113736168455993 … 0.0 0.0; … ; 0.0 0.0 … 9.0207248900246 0.0; 0.0 0.0 … 0.0 8.977070761641809], true), MapComponent[Map component of dimension 1 with Nψ 1 active features\n",
       ", Map component of dimension 2 with Nψ 1 active features\n",
       ", Map component of dimension 3 with Nψ 1 active features\n",
       ", Map component of dimension 4 with Nψ 1 active features\n",
       ", Map component of dimension 5 with Nψ 1 active features\n",
       ", Map component of dimension 6 with Nψ 1 active features\n",
       "])"
      ]
     },
     "execution_count": 117,
     "metadata": {},
     "output_type": "execute_result"
    }
   ],
   "source": [
    "m = 30\n",
    "S = HermiteMap(m, X; diag = true)"
   ]
  },
  {
   "cell_type": "code",
   "execution_count": 118,
   "metadata": {},
   "outputs": [
    {
     "name": "stderr",
     "output_type": "stream",
     "text": [
      "\u001b[32mProgress: 100%|█████████████████████████████████████████| Time: 0:00:16\u001b[39m\n"
     ]
    },
    {
     "name": "stdout",
     "output_type": "stream",
     "text": [
      " 16.339167 seconds (7.31 M allocations: 22.847 GiB, 4.98% gc time)\n"
     ]
    },
    {
     "data": {
      "text/plain": [
       "HermiteMap(30, 6, LinearTransform(6, [0.23650276764154302, 0.2267102590907793, 23.789339432082684, 0.24415714284157108, 0.20838741445073083, 23.833781824422925], [8.164515874671388 0.0 … 0.0 0.0; 0.0 9.113736168455993 … 0.0 0.0; … ; 0.0 0.0 … 9.0207248900246 0.0; 0.0 0.0 … 0.0 8.977070761641809], true), MapComponent[Map component of dimension 1 with Nψ 7 active features\n",
       ", Map component of dimension 2 with Nψ 24 active features\n",
       ", Map component of dimension 3 with Nψ 18 active features\n",
       ", Map component of dimension 4 with Nψ 24 active features\n",
       ", Map component of dimension 5 with Nψ 18 active features\n",
       ", Map component of dimension 6 with Nψ 24 active features\n",
       "])"
      ]
     },
     "execution_count": 118,
     "metadata": {},
     "output_type": "execute_result"
    }
   ],
   "source": [
    "@time optimize(S, X, \"kfolds\"; withqr = true, verbose = false)"
   ]
  },
  {
   "cell_type": "code",
   "execution_count": 119,
   "metadata": {},
   "outputs": [
    {
     "data": {
      "text/plain": [
       "24-element Array{Float64,1}:\n",
       "  24.473531871577432\n",
       "  -2.247922202403454\n",
       "  -3.9998017527035272\n",
       " -29.65729733639173\n",
       "  -0.5325697870160434\n",
       "  -1.0690928105019177\n",
       " -15.268777261296735\n",
       " -27.82547760143678\n",
       "  45.019370221714794\n",
       " -15.74046133808026\n",
       "  32.55065196909443\n",
       "  -7.175770042434164\n",
       "  15.37237056590702\n",
       "  -1.1153139207665324\n",
       "  -6.374205096601491\n",
       "   1.269021917279664\n",
       "  17.45878082239335\n",
       "   0.055090184523292396\n",
       "  -1.3825320939227723\n",
       "   5.744979873896506\n",
       "  -6.118881444831055\n",
       " -10.13545153960516\n",
       "   8.238812659709255\n",
       "  -0.11412836047036086"
      ]
     },
     "execution_count": 119,
     "metadata": {},
     "output_type": "execute_result"
    }
   ],
   "source": [
    "getcoeff(S[6])"
   ]
  },
  {
   "cell_type": "code",
   "execution_count": 120,
   "metadata": {},
   "outputs": [
    {
     "data": {
      "image/png": "[encoded data removed]"
     },
     "execution_count": 120,
     "metadata": {},
     "output_type": "execute_result"
    }
   ],
   "source": [
    "plot(S)"
   ]
  },
  {
   "cell_type": "code",
   "execution_count": 121,
   "metadata": {},
   "outputs": [
    {
     "data": {
      "text/plain": [
       "6×6 Array{Float64,2}:\n",
       "    7.59319e8  4.74072e6   8745.46       …  1399.48       1.02188e5\n",
       "    4.74072e6  7.08681e8      5.72838e5        5.72182e8  1.10328e6\n",
       " 8745.46       5.72838e5      5.64817e8        4.81645e5  6.47866e8\n",
       "    4.8984e8   5.50376e5  63961.1              8.47039e6  7.79381e5\n",
       " 1399.48       5.72182e8      4.81645e5        6.9133e8   1.14037e6\n",
       "    1.02188e5  1.10328e6      6.47866e8  …     1.14037e6  9.54802e8"
      ]
     },
     "execution_count": 121,
     "metadata": {},
     "output_type": "execute_result"
    }
   ],
   "source": [
    "Ωhat = zeros(Ny + Nx, Ny + Nx)\n",
    "cache = zeros(1, Ny + Nx, Ny + Nx)\n",
    "for i=1:Ne\n",
    "    hess_x_log_pdf!(cache, S, X[:,i:i])\n",
    "    Ωhat .+= copy(cache[1,:,:]).^2\n",
    "end\n",
    "rmul!(Ωhat, 1/Ne)"
   ]
  },
  {
   "cell_type": "code",
   "execution_count": 122,
   "metadata": {},
   "outputs": [
    {
     "name": "stdout",
     "output_type": "stream",
     "text": [
      "search: \u001b[0m\u001b[1mH\u001b[22m\u001b[0m\u001b[1me\u001b[22m\u001b[0m\u001b[1mr\u001b[22m\u001b[0m\u001b[1mm\u001b[22m\u001b[0m\u001b[1mi\u001b[22m\u001b[0m\u001b[1mt\u001b[22m\u001b[0m\u001b[1me\u001b[22m\u001b[0m\u001b[1mM\u001b[22m\u001b[0m\u001b[1ma\u001b[22m\u001b[0m\u001b[1mp\u001b[22m pro\u001b[0m\u001b[1mh\u001b[22m\u001b[0m\u001b[1me\u001b[22m\u001b[0m\u001b[1mr\u001b[22m\u001b[0m\u001b[1mm\u001b[22m\u001b[0m\u001b[1mi\u001b[22m\u001b[0m\u001b[1mt\u001b[22m\u001b[0m\u001b[1me\u001b[22m_coeff\u001b[0m\u001b[1mm\u001b[22m\u001b[0m\u001b[1ma\u001b[22mtrix p\u001b[0m\u001b[1mh\u001b[22myh\u001b[0m\u001b[1me\u001b[22m\u001b[0m\u001b[1mr\u001b[22m\u001b[0m\u001b[1mm\u001b[22m\u001b[0m\u001b[1mi\u001b[22m\u001b[0m\u001b[1mt\u001b[22m\u001b[0m\u001b[1me\u001b[22m_coeff\u001b[0m\u001b[1mm\u001b[22m\u001b[0m\u001b[1ma\u001b[22mtrix \u001b[0m\u001b[1mH\u001b[22m\u001b[0m\u001b[1me\u001b[22m\u001b[0m\u001b[1mr\u001b[22m\u001b[0m\u001b[1mm\u001b[22m\u001b[0m\u001b[1mi\u001b[22m\u001b[0m\u001b[1mt\u001b[22m\u001b[0m\u001b[1me\u001b[22m\n",
      "\n"
     ]
    },
    {
     "data": {
      "text/latex": [
       "No documentation found.\n",
       "\n",
       "\\section{Summary}\n",
       "\\begin{verbatim}\n",
       "struct HermiteMap <: Any\n",
       "\\end{verbatim}\n",
       "\\section{Fields}\n",
       "\\begin{verbatim}\n",
       "m  :: Int64\n",
       "Nx :: Int64\n",
       "L  :: LinearTransform\n",
       "C  :: Array{MapComponent,1}\n",
       "\\end{verbatim}\n"
      ],
      "text/markdown": [
       "No documentation found.\n",
       "\n",
       "# Summary\n",
       "\n",
       "```\n",
       "struct HermiteMap <: Any\n",
       "```\n",
       "\n",
       "# Fields\n",
       "\n",
       "```\n",
       "m  :: Int64\n",
       "Nx :: Int64\n",
       "L  :: LinearTransform\n",
       "C  :: Array{MapComponent,1}\n",
       "```\n"
      ],
      "text/plain": [
       "  No documentation found.\n",
       "\n",
       "\u001b[1m  Summary\u001b[22m\n",
       "\u001b[1m  ≡≡≡≡≡≡≡≡≡\u001b[22m\n",
       "\n",
       "\u001b[36m  struct HermiteMap <: Any\u001b[39m\n",
       "\n",
       "\u001b[1m  Fields\u001b[22m\n",
       "\u001b[1m  ≡≡≡≡≡≡≡≡\u001b[22m\n",
       "\n",
       "\u001b[36m  m  :: Int64\u001b[39m\n",
       "\u001b[36m  Nx :: Int64\u001b[39m\n",
       "\u001b[36m  L  :: LinearTransform\u001b[39m\n",
       "\u001b[36m  C  :: Array{MapComponent,1}\u001b[39m"
      ]
     },
     "execution_count": 122,
     "metadata": {},
     "output_type": "execute_result"
    }
   ],
   "source": [
    "?HermiteMap"
   ]
  },
  {
   "cell_type": "code",
   "execution_count": 123,
   "metadata": {},
   "outputs": [
    {
     "data": {
      "image/png": "[encoded data removed]"
     },
     "execution_count": 123,
     "metadata": {},
     "output_type": "execute_result"
    }
   ],
   "source": [
    "plt = plot()\n",
    "\n",
    "heatmap!(plt,log10.(Ωhat), ratio = 1, yflip = true, \n",
    "        colorbar = true, color = :plasma, clim = (1.5, Inf), colorbar_title = L\"\\log_{10}(\\hat{\\Omega})\",\n",
    "        xlabel = \"Index\", ylabel = \"Index\", background_color_inside = palette(:plasma)[1], \n",
    "        yticks = (reverse(collect(0:10:Nx))))\n",
    "plt"
   ]
  },
  {
   "cell_type": "code",
   "execution_count": 124,
   "metadata": {},
   "outputs": [
    {
     "data": {
      "text/plain": [
       "Stochastic Map Filter with filtered = false\n"
      ]
     },
     "execution_count": 124,
     "metadata": {},
     "output_type": "execute_result"
    }
   ],
   "source": [
    "smf = StochMapFilter(x->x, ϵy, S, Ny, Nx, Δtdyn, Δtobs, Inf, false)"
   ]
  },
  {
   "cell_type": "code",
   "execution_count": 125,
   "metadata": {},
   "outputs": [],
   "source": [
    "model = Model(Nx, Ny, Δtdyn, Δtobs, ϵx, ϵy, π0, 0, 0, 0, F);"
   ]
  },
  {
   "cell_type": "markdown",
   "metadata": {},
   "source": [
    "Set initial condition of the true system"
   ]
  },
  {
   "cell_type": "code",
   "execution_count": 140,
   "metadata": {},
   "outputs": [],
   "source": [
    "x0 = rand(model.π0);"
   ]
  },
  {
   "cell_type": "code",
   "execution_count": 141,
   "metadata": {},
   "outputs": [],
   "source": [
    "data = generate_lorenz63(model, x0, Tf);"
   ]
  },
  {
   "cell_type": "markdown",
   "metadata": {},
   "source": [
    "Initialize the ensemble matrix `X` $\\in \\mathbb{R}^{(N_y + N_x) \\times N_e}$."
   ]
  },
  {
   "cell_type": "code",
   "execution_count": 142,
   "metadata": {},
   "outputs": [
    {
     "data": {
      "text/plain": [
       "3×300 view(::Array{Float64,2}, 4:6, :) with eltype Float64:\n",
       " -1.16004    0.387371  -0.238431    …  0.726984    0.12347    -1.78429\n",
       "  0.598589  -1.15549    0.00124778     0.887325   -0.0700651   1.15323\n",
       " -1.35852    0.546362  -0.0194488      0.0908424  -2.5238      0.358235"
      ]
     },
     "execution_count": 142,
     "metadata": {},
     "output_type": "execute_result"
    }
   ],
   "source": [
    "Ne = 300 #ensemble size\n",
    "X = zeros(model.Ny + model.Nx, Ne)\n",
    "\n",
    "# Generate the initial conditions for the state.\n",
    "viewstate(X, model.Ny, model.Nx) .= rand(model.π0, Ne)"
   ]
  },
  {
   "cell_type": "code",
   "execution_count": 143,
   "metadata": {},
   "outputs": [
    {
     "name": "stdout",
     "output_type": "stream",
     "text": [
      "t = 0.1\n",
      "getcoeff(M[6]) = [-5.158845483702478, 1.6925466192836325, -3.09113716591105, 0.02894859465652999, 12.361491326706458, 1.3601369520227387, 0.16665249260860904, -5.147147042879169, -9.546211389050368, -20.373406085777575, -50.75550532879491, -56.91216326820255, -66.93816951395804, 0.698742533512873, -48.31854551399945, -12.4986226158443, 7.030721644541416, 0.04406145163539321, -52.713537755877965, -30.82367632307617, 56.890111689891974, -8.16219884838306, 1.7699125436265528, 1.4849029277128474]\n",
      "t = 0.2\n",
      "getcoeff(M[6]) = [-5.158845483702484, 1.6925466192836445, -3.091137165910993, 0.028948594656525106, 12.361491326706453, 1.3601369520227582, 0.16665249260860682, -5.147147042879258, -9.546211389050349, -20.373406085777628, -50.755505328794875, -56.91216326820256, -66.938169513958, 0.6987425335128739, -48.31854551399943, -12.4986226158443, 7.030721644541416, 0.044061451635393656, -52.713537755877944, -30.823676323076146, 56.890111689891995, -8.162198848383056, 1.7699125436265524, 1.4849029277128474]\n"
     ]
    },
    {
     "name": "stderr",
     "output_type": "stream",
     "text": [
      "┌ Warning: dt <= dtmin. Aborting. There is either an error in your model specification or the true solution is unstable.\n",
      "└ @ SciMLBase /home/mat/.julia/packages/SciMLBase/10xNC/src/integrator_interface.jl:345\n",
      "┌ Warning: dt <= dtmin. Aborting. There is either an error in your model specification or the true solution is unstable.\n",
      "└ @ SciMLBase /home/mat/.julia/packages/SciMLBase/10xNC/src/integrator_interface.jl:345\n",
      "┌ Warning: dt <= dtmin. Aborting. There is either an error in your model specification or the true solution is unstable.\n",
      "└ @ SciMLBase /home/mat/.julia/packages/SciMLBase/10xNC/src/integrator_interface.jl:345\n",
      "┌ Warning: dt <= dtmin. Aborting. There is either an error in your model specification or the true solution is unstable.\n",
      "└ @ SciMLBase /home/mat/.julia/packages/SciMLBase/10xNC/src/integrator_interface.jl:345\n",
      "┌ Warning: dt <= dtmin. Aborting. There is either an error in your model specification or the true solution is unstable.\n",
      "└ @ SciMLBase /home/mat/.julia/packages/SciMLBase/10xNC/src/integrator_interface.jl:345\n",
      "┌ Warning: dt <= dtmin. Aborting. There is either an error in your model specification or the true solution is unstable.\n",
      "└ @ SciMLBase /home/mat/.julia/packages/SciMLBase/10xNC/src/integrator_interface.jl:345\n",
      "┌ Warning: dt <= dtmin. Aborting. There is either an error in your model specification or the true solution is unstable.\n",
      "└ @ SciMLBase /home/mat/.julia/packages/SciMLBase/10xNC/src/integrator_interface.jl:345\n",
      "┌ Warning: dt <= dtmin. Aborting. There is either an error in your model specification or the true solution is unstable.\n",
      "└ @ SciMLBase /home/mat/.julia/packages/SciMLBase/10xNC/src/integrator_interface.jl:345\n",
      "┌ Warning: dt <= dtmin. Aborting. There is either an error in your model specification or the true solution is unstable.\n",
      "└ @ SciMLBase /home/mat/.julia/packages/SciMLBase/10xNC/src/integrator_interface.jl:345\n",
      "┌ Warning: dt <= dtmin. Aborting. There is either an error in your model specification or the true solution is unstable.\n",
      "└ @ SciMLBase /home/mat/.julia/packages/SciMLBase/10xNC/src/integrator_interface.jl:345\n",
      "┌ Warning: dt <= dtmin. Aborting. There is either an error in your model specification or the true solution is unstable.\n",
      "└ @ SciMLBase /home/mat/.julia/packages/SciMLBase/10xNC/src/integrator_interface.jl:345\n",
      "┌ Warning: dt <= dtmin. Aborting. There is either an error in your model specification or the true solution is unstable.\n",
      "└ @ SciMLBase /home/mat/.julia/packages/SciMLBase/10xNC/src/integrator_interface.jl:345\n",
      "┌ Warning: dt <= dtmin. Aborting. There is either an error in your model specification or the true solution is unstable.\n",
      "└ @ SciMLBase /home/mat/.julia/packages/SciMLBase/10xNC/src/integrator_interface.jl:345\n",
      "┌ Warning: dt <= dtmin. Aborting. There is either an error in your model specification or the true solution is unstable.\n",
      "└ @ SciMLBase /home/mat/.julia/packages/SciMLBase/10xNC/src/integrator_interface.jl:345\n",
      "┌ Warning: dt <= dtmin. Aborting. There is either an error in your model specification or the true solution is unstable.\n",
      "└ @ SciMLBase /home/mat/.julia/packages/SciMLBase/10xNC/src/integrator_interface.jl:345\n",
      "┌ Warning: dt <= dtmin. Aborting. There is either an error in your model specification or the true solution is unstable.\n",
      "└ @ SciMLBase /home/mat/.julia/packages/SciMLBase/10xNC/src/integrator_interface.jl:345\n",
      "┌ Warning: dt <= dtmin. Aborting. There is either an error in your model specification or the true solution is unstable.\n",
      "└ @ SciMLBase /home/mat/.julia/packages/SciMLBase/10xNC/src/integrator_interface.jl:345\n",
      "┌ Warning: dt <= dtmin. Aborting. There is either an error in your model specification or the true solution is unstable.\n",
      "└ @ SciMLBase /home/mat/.julia/packages/SciMLBase/10xNC/src/integrator_interface.jl:345\n",
      "┌ Warning: dt <= dtmin. Aborting. There is either an error in your model specification or the true solution is unstable.\n",
      "└ @ SciMLBase /home/mat/.julia/packages/SciMLBase/10xNC/src/integrator_interface.jl:345\n",
      "┌ Warning: dt <= dtmin. Aborting. There is either an error in your model specification or the true solution is unstable.\n",
      "└ @ SciMLBase /home/mat/.julia/packages/SciMLBase/10xNC/src/integrator_interface.jl:345\n",
      "┌ Warning: dt <= dtmin. Aborting. There is either an error in your model specification or the true solution is unstable.\n",
      "└ @ SciMLBase /home/mat/.julia/packages/SciMLBase/10xNC/src/integrator_interface.jl:345\n",
      "┌ Warning: dt <= dtmin. Aborting. There is either an error in your model specification or the true solution is unstable.\n",
      "└ @ SciMLBase /home/mat/.julia/packages/SciMLBase/10xNC/src/integrator_interface.jl:345\n",
      "┌ Warning: dt <= dtmin. Aborting. There is either an error in your model specification or the true solution is unstable.\n",
      "└ @ SciMLBase /home/mat/.julia/packages/SciMLBase/10xNC/src/integrator_interface.jl:345\n",
      "┌ Warning: dt <= dtmin. Aborting. There is either an error in your model specification or the true solution is unstable.\n",
      "└ @ SciMLBase /home/mat/.julia/packages/SciMLBase/10xNC/src/integrator_interface.jl:345\n",
      "┌ Warning: dt <= dtmin. Aborting. There is either an error in your model specification or the true solution is unstable.\n",
      "└ @ SciMLBase /home/mat/.julia/packages/SciMLBase/10xNC/src/integrator_interface.jl:345\n",
      "┌ Warning: dt <= dtmin. Aborting. There is either an error in your model specification or the true solution is unstable.\n",
      "└ @ SciMLBase /home/mat/.julia/packages/SciMLBase/10xNC/src/integrator_interface.jl:345\n",
      "┌ Warning: dt <= dtmin. Aborting. There is either an error in your model specification or the true solution is unstable.\n",
      "└ @ SciMLBase /home/mat/.julia/packages/SciMLBase/10xNC/src/integrator_interface.jl:345\n",
      "┌ Warning: dt <= dtmin. Aborting. There is either an error in your model specification or the true solution is unstable.\n",
      "└ @ SciMLBase /home/mat/.julia/packages/SciMLBase/10xNC/src/integrator_interface.jl:345\n",
      "┌ Warning: dt <= dtmin. Aborting. There is either an error in your model specification or the true solution is unstable.\n",
      "└ @ SciMLBase /home/mat/.julia/packages/SciMLBase/10xNC/src/integrator_interface.jl:345\n",
      "┌ Warning: dt <= dtmin. Aborting. There is either an error in your model specification or the true solution is unstable.\n",
      "└ @ SciMLBase /home/mat/.julia/packages/SciMLBase/10xNC/src/integrator_interface.jl:345\n",
      "┌ Warning: dt <= dtmin. Aborting. There is either an error in your model specification or the true solution is unstable.\n",
      "└ @ SciMLBase /home/mat/.julia/packages/SciMLBase/10xNC/src/integrator_interface.jl:345\n",
      "┌ Warning: dt <= dtmin. Aborting. There is either an error in your model specification or the true solution is unstable.\n",
      "└ @ SciMLBase /home/mat/.julia/packages/SciMLBase/10xNC/src/integrator_interface.jl:345\n",
      "┌ Warning: dt <= dtmin. Aborting. There is either an error in your model specification or the true solution is unstable.\n",
      "└ @ SciMLBase /home/mat/.julia/packages/SciMLBase/10xNC/src/integrator_interface.jl:345\n",
      "┌ Warning: dt <= dtmin. Aborting. There is either an error in your model specification or the true solution is unstable.\n",
      "└ @ SciMLBase /home/mat/.julia/packages/SciMLBase/10xNC/src/integrator_interface.jl:345\n",
      "┌ Warning: dt <= dtmin. Aborting. There is either an error in your model specification or the true solution is unstable.\n",
      "└ @ SciMLBase /home/mat/.julia/packages/SciMLBase/10xNC/src/integrator_interface.jl:345\n",
      "┌ Warning: dt <= dtmin. Aborting. There is either an error in your model specification or the true solution is unstable.\n",
      "└ @ SciMLBase /home/mat/.julia/packages/SciMLBase/10xNC/src/integrator_interface.jl:345\n",
      "┌ Warning: dt <= dtmin. Aborting. There is either an error in your model specification or the true solution is unstable.\n",
      "└ @ SciMLBase /home/mat/.julia/packages/SciMLBase/10xNC/src/integrator_interface.jl:345\n",
      "┌ Warning: dt <= dtmin. Aborting. There is either an error in your model specification or the true solution is unstable.\n",
      "└ @ SciMLBase /home/mat/.julia/packages/SciMLBase/10xNC/src/integrator_interface.jl:345\n",
      "┌ Warning: dt <= dtmin. Aborting. There is either an error in your model specification or the true solution is unstable.\n",
      "└ @ SciMLBase /home/mat/.julia/packages/SciMLBase/10xNC/src/integrator_interface.jl:345\n",
      "┌ Warning: dt <= dtmin. Aborting. There is either an error in your model specification or the true solution is unstable.\n",
      "└ @ SciMLBase /home/mat/.julia/packages/SciMLBase/10xNC/src/integrator_interface.jl:345\n"
     ]
    },
    {
     "name": "stderr",
     "output_type": "stream",
     "text": [
      "┌ Warning: dt <= dtmin. Aborting. There is either an error in your model specification or the true solution is unstable.\n",
      "└ @ SciMLBase /home/mat/.julia/packages/SciMLBase/10xNC/src/integrator_interface.jl:345\n",
      "┌ Warning: dt <= dtmin. Aborting. There is either an error in your model specification or the true solution is unstable.\n",
      "└ @ SciMLBase /home/mat/.julia/packages/SciMLBase/10xNC/src/integrator_interface.jl:345\n",
      "┌ Warning: dt <= dtmin. Aborting. There is either an error in your model specification or the true solution is unstable.\n",
      "└ @ SciMLBase /home/mat/.julia/packages/SciMLBase/10xNC/src/integrator_interface.jl:345\n",
      "┌ Warning: dt <= dtmin. Aborting. There is either an error in your model specification or the true solution is unstable.\n",
      "└ @ SciMLBase /home/mat/.julia/packages/SciMLBase/10xNC/src/integrator_interface.jl:345\n",
      "┌ Warning: dt <= dtmin. Aborting. There is either an error in your model specification or the true solution is unstable.\n",
      "└ @ SciMLBase /home/mat/.julia/packages/SciMLBase/10xNC/src/integrator_interface.jl:345\n",
      "┌ Warning: dt <= dtmin. Aborting. There is either an error in your model specification or the true solution is unstable.\n",
      "└ @ SciMLBase /home/mat/.julia/packages/SciMLBase/10xNC/src/integrator_interface.jl:345\n",
      "┌ Warning: dt <= dtmin. Aborting. There is either an error in your model specification or the true solution is unstable.\n",
      "└ @ SciMLBase /home/mat/.julia/packages/SciMLBase/10xNC/src/integrator_interface.jl:345\n",
      "┌ Warning: dt <= dtmin. Aborting. There is either an error in your model specification or the true solution is unstable.\n",
      "└ @ SciMLBase /home/mat/.julia/packages/SciMLBase/10xNC/src/integrator_interface.jl:345\n",
      "┌ Warning: dt <= dtmin. Aborting. There is either an error in your model specification or the true solution is unstable.\n",
      "└ @ SciMLBase /home/mat/.julia/packages/SciMLBase/10xNC/src/integrator_interface.jl:345\n",
      "┌ Warning: dt <= dtmin. Aborting. There is either an error in your model specification or the true solution is unstable.\n",
      "└ @ SciMLBase /home/mat/.julia/packages/SciMLBase/10xNC/src/integrator_interface.jl:345\n",
      "┌ Warning: dt <= dtmin. Aborting. There is either an error in your model specification or the true solution is unstable.\n",
      "└ @ SciMLBase /home/mat/.julia/packages/SciMLBase/10xNC/src/integrator_interface.jl:345\n",
      "┌ Warning: dt <= dtmin. Aborting. There is either an error in your model specification or the true solution is unstable.\n",
      "└ @ SciMLBase /home/mat/.julia/packages/SciMLBase/10xNC/src/integrator_interface.jl:345\n",
      "┌ Warning: dt <= dtmin. Aborting. There is either an error in your model specification or the true solution is unstable.\n",
      "└ @ SciMLBase /home/mat/.julia/packages/SciMLBase/10xNC/src/integrator_interface.jl:345\n",
      "┌ Warning: dt <= dtmin. Aborting. There is either an error in your model specification or the true solution is unstable.\n",
      "└ @ SciMLBase /home/mat/.julia/packages/SciMLBase/10xNC/src/integrator_interface.jl:345\n",
      "┌ Warning: dt <= dtmin. Aborting. There is either an error in your model specification or the true solution is unstable.\n",
      "└ @ SciMLBase /home/mat/.julia/packages/SciMLBase/10xNC/src/integrator_interface.jl:345\n",
      "┌ Warning: dt <= dtmin. Aborting. There is either an error in your model specification or the true solution is unstable.\n",
      "└ @ SciMLBase /home/mat/.julia/packages/SciMLBase/10xNC/src/integrator_interface.jl:345\n",
      "┌ Warning: dt <= dtmin. Aborting. There is either an error in your model specification or the true solution is unstable.\n",
      "└ @ SciMLBase /home/mat/.julia/packages/SciMLBase/10xNC/src/integrator_interface.jl:345\n",
      "┌ Warning: dt <= dtmin. Aborting. There is either an error in your model specification or the true solution is unstable.\n",
      "└ @ SciMLBase /home/mat/.julia/packages/SciMLBase/10xNC/src/integrator_interface.jl:345\n",
      "┌ Warning: dt <= dtmin. Aborting. There is either an error in your model specification or the true solution is unstable.\n",
      "└ @ SciMLBase /home/mat/.julia/packages/SciMLBase/10xNC/src/integrator_interface.jl:345\n",
      "┌ Warning: dt <= dtmin. Aborting. There is either an error in your model specification or the true solution is unstable.\n",
      "└ @ SciMLBase /home/mat/.julia/packages/SciMLBase/10xNC/src/integrator_interface.jl:345\n",
      "┌ Warning: dt <= dtmin. Aborting. There is either an error in your model specification or the true solution is unstable.\n",
      "└ @ SciMLBase /home/mat/.julia/packages/SciMLBase/10xNC/src/integrator_interface.jl:345\n",
      "┌ Warning: dt <= dtmin. Aborting. There is either an error in your model specification or the true solution is unstable.\n",
      "└ @ SciMLBase /home/mat/.julia/packages/SciMLBase/10xNC/src/integrator_interface.jl:345\n",
      "┌ Warning: dt <= dtmin. Aborting. There is either an error in your model specification or the true solution is unstable.\n",
      "└ @ SciMLBase /home/mat/.julia/packages/SciMLBase/10xNC/src/integrator_interface.jl:345\n",
      "┌ Warning: dt <= dtmin. Aborting. There is either an error in your model specification or the true solution is unstable.\n",
      "└ @ SciMLBase /home/mat/.julia/packages/SciMLBase/10xNC/src/integrator_interface.jl:345\n"
     ]
    },
    {
     "ename": "LoadError",
     "evalue": "\u001b[91mInterruptException:\u001b[39m",
     "output_type": "error",
     "traceback": [
      "\u001b[91mInterruptException:\u001b[39m",
      "",
      "Stacktrace:",
      " [1] fieldnames at ./reflection.jl:173 [inlined]",
      " [2] propertynames at ./reflection.jl:1371 [inlined]",
      " [3] hasproperty(::OrdinaryDiffEq.ODEIntegrator{Tsit5,true,Array{Float64,1},Nothing,Float64,SciMLBase.NullParameters,Float64,Float64,Float64,Array{Array{Float64,1},1},ODESolution{Float64,2,Array{Array{Float64,1},1},Nothing,Nothing,Array{Float64,1},Array{Array{Array{Float64,1},1},1},ODEProblem{Array{Float64,1},Tuple{Float64,Float64},true,SciMLBase.NullParameters,ODEFunction{true,typeof(lorenz63!),UniformScaling{Bool},Nothing,Nothing,Nothing,Nothing,Nothing,Nothing,Nothing,Nothing,Nothing,Nothing,Nothing,Nothing,typeof(SciMLBase.DEFAULT_OBSERVED),Nothing},Base.Iterators.Pairs{Union{},Union{},Tuple{},NamedTuple{(),Tuple{}}},SciMLBase.StandardODEProblem},Tsit5,OrdinaryDiffEq.InterpolationData{ODEFunction{true,typeof(lorenz63!),UniformScaling{Bool},Nothing,Nothing,Nothing,Nothing,Nothing,Nothing,Nothing,Nothing,Nothing,Nothing,Nothing,Nothing,typeof(SciMLBase.DEFAULT_OBSERVED),Nothing},Array{Array{Float64,1},1},Array{Float64,1},Array{Array{Array{Float64,1},1},1},OrdinaryDiffEq.Tsit5Cache{Array{Float64,1},Array{Float64,1},Array{Float64,1},OrdinaryDiffEq.Tsit5ConstantCache{Float64,Float64}}},DiffEqBase.DEStats},ODEFunction{true,typeof(lorenz63!),UniformScaling{Bool},Nothing,Nothing,Nothing,Nothing,Nothing,Nothing,Nothing,Nothing,Nothing,Nothing,Nothing,Nothing,typeof(SciMLBase.DEFAULT_OBSERVED),Nothing},OrdinaryDiffEq.Tsit5Cache{Array{Float64,1},Array{Float64,1},Array{Float64,1},OrdinaryDiffEq.Tsit5ConstantCache{Float64,Float64}},OrdinaryDiffEq.DEOptions{Float64,Float64,Float64,Float64,typeof(DiffEqBase.ODE_DEFAULT_NORM),typeof(opnorm),Nothing,CallbackSet{Tuple{},Tuple{}},typeof(DiffEqBase.ODE_DEFAULT_ISOUTOFDOMAIN),typeof(DiffEqBase.ODE_DEFAULT_PROG_MESSAGE),typeof(DiffEqBase.ODE_DEFAULT_UNSTABLE_CHECK),DataStructures.BinaryHeap{Float64,Base.Order.ForwardOrdering},DataStructures.BinaryHeap{Float64,Base.Order.ForwardOrdering},Nothing,Nothing,Int64,Tuple{},Tuple{},Tuple{}},Array{Float64,1},Float64,Nothing,OrdinaryDiffEq.DefaultInit}, ::Symbol) at ./reflection.jl:1383",
      " [4] check_error(::OrdinaryDiffEq.ODEIntegrator{Tsit5,true,Array{Float64,1},Nothing,Float64,SciMLBase.NullParameters,Float64,Float64,Float64,Array{Array{Float64,1},1},ODESolution{Float64,2,Array{Array{Float64,1},1},Nothing,Nothing,Array{Float64,1},Array{Array{Array{Float64,1},1},1},ODEProblem{Array{Float64,1},Tuple{Float64,Float64},true,SciMLBase.NullParameters,ODEFunction{true,typeof(lorenz63!),UniformScaling{Bool},Nothing,Nothing,Nothing,Nothing,Nothing,Nothing,Nothing,Nothing,Nothing,Nothing,Nothing,Nothing,typeof(SciMLBase.DEFAULT_OBSERVED),Nothing},Base.Iterators.Pairs{Union{},Union{},Tuple{},NamedTuple{(),Tuple{}}},SciMLBase.StandardODEProblem},Tsit5,OrdinaryDiffEq.InterpolationData{ODEFunction{true,typeof(lorenz63!),UniformScaling{Bool},Nothing,Nothing,Nothing,Nothing,Nothing,Nothing,Nothing,Nothing,Nothing,Nothing,Nothing,Nothing,typeof(SciMLBase.DEFAULT_OBSERVED),Nothing},Array{Array{Float64,1},1},Array{Float64,1},Array{Array{Array{Float64,1},1},1},OrdinaryDiffEq.Tsit5Cache{Array{Float64,1},Array{Float64,1},Array{Float64,1},OrdinaryDiffEq.Tsit5ConstantCache{Float64,Float64}}},DiffEqBase.DEStats},ODEFunction{true,typeof(lorenz63!),UniformScaling{Bool},Nothing,Nothing,Nothing,Nothing,Nothing,Nothing,Nothing,Nothing,Nothing,Nothing,Nothing,Nothing,typeof(SciMLBase.DEFAULT_OBSERVED),Nothing},OrdinaryDiffEq.Tsit5Cache{Array{Float64,1},Array{Float64,1},Array{Float64,1},OrdinaryDiffEq.Tsit5ConstantCache{Float64,Float64}},OrdinaryDiffEq.DEOptions{Float64,Float64,Float64,Float64,typeof(DiffEqBase.ODE_DEFAULT_NORM),typeof(opnorm),Nothing,CallbackSet{Tuple{},Tuple{}},typeof(DiffEqBase.ODE_DEFAULT_ISOUTOFDOMAIN),typeof(DiffEqBase.ODE_DEFAULT_PROG_MESSAGE),typeof(DiffEqBase.ODE_DEFAULT_UNSTABLE_CHECK),DataStructures.BinaryHeap{Float64,Base.Order.ForwardOrdering},DataStructures.BinaryHeap{Float64,Base.Order.ForwardOrdering},Nothing,Nothing,Int64,Tuple{},Tuple{},Tuple{}},Array{Float64,1},Float64,Nothing,OrdinaryDiffEq.DefaultInit}) at /home/mat/.julia/packages/SciMLBase/10xNC/src/integrator_interface.jl:339",
      " [5] check_error! at /home/mat/.julia/packages/SciMLBase/10xNC/src/integrator_interface.jl:373 [inlined]",
      " [6] solve!(::OrdinaryDiffEq.ODEIntegrator{Tsit5,true,Array{Float64,1},Nothing,Float64,SciMLBase.NullParameters,Float64,Float64,Float64,Array{Array{Float64,1},1},ODESolution{Float64,2,Array{Array{Float64,1},1},Nothing,Nothing,Array{Float64,1},Array{Array{Array{Float64,1},1},1},ODEProblem{Array{Float64,1},Tuple{Float64,Float64},true,SciMLBase.NullParameters,ODEFunction{true,typeof(lorenz63!),UniformScaling{Bool},Nothing,Nothing,Nothing,Nothing,Nothing,Nothing,Nothing,Nothing,Nothing,Nothing,Nothing,Nothing,typeof(SciMLBase.DEFAULT_OBSERVED),Nothing},Base.Iterators.Pairs{Union{},Union{},Tuple{},NamedTuple{(),Tuple{}}},SciMLBase.StandardODEProblem},Tsit5,OrdinaryDiffEq.InterpolationData{ODEFunction{true,typeof(lorenz63!),UniformScaling{Bool},Nothing,Nothing,Nothing,Nothing,Nothing,Nothing,Nothing,Nothing,Nothing,Nothing,Nothing,Nothing,typeof(SciMLBase.DEFAULT_OBSERVED),Nothing},Array{Array{Float64,1},1},Array{Float64,1},Array{Array{Array{Float64,1},1},1},OrdinaryDiffEq.Tsit5Cache{Array{Float64,1},Array{Float64,1},Array{Float64,1},OrdinaryDiffEq.Tsit5ConstantCache{Float64,Float64}}},DiffEqBase.DEStats},ODEFunction{true,typeof(lorenz63!),UniformScaling{Bool},Nothing,Nothing,Nothing,Nothing,Nothing,Nothing,Nothing,Nothing,Nothing,Nothing,Nothing,Nothing,typeof(SciMLBase.DEFAULT_OBSERVED),Nothing},OrdinaryDiffEq.Tsit5Cache{Array{Float64,1},Array{Float64,1},Array{Float64,1},OrdinaryDiffEq.Tsit5ConstantCache{Float64,Float64}},OrdinaryDiffEq.DEOptions{Float64,Float64,Float64,Float64,typeof(DiffEqBase.ODE_DEFAULT_NORM),typeof(opnorm),Nothing,CallbackSet{Tuple{},Tuple{}},typeof(DiffEqBase.ODE_DEFAULT_ISOUTOFDOMAIN),typeof(DiffEqBase.ODE_DEFAULT_PROG_MESSAGE),typeof(DiffEqBase.ODE_DEFAULT_UNSTABLE_CHECK),DataStructures.BinaryHeap{Float64,Base.Order.ForwardOrdering},DataStructures.BinaryHeap{Float64,Base.Order.ForwardOrdering},Nothing,Nothing,Int64,Tuple{},Tuple{},Tuple{}},Array{Float64,1},Float64,Nothing,OrdinaryDiffEq.DefaultInit}) at /home/mat/.julia/packages/OrdinaryDiffEq/5egkj/src/solve.jl:452",
      " [7] #__solve#404 at /home/mat/.julia/packages/OrdinaryDiffEq/5egkj/src/solve.jl:5 [inlined]",
      " [8] #solve_call#56 at /home/mat/.julia/packages/DiffEqBase/rN9Px/src/solve.jl:61 [inlined]",
      " [9] solve_up(::ODEProblem{Array{Float64,1},Tuple{Float64,Float64},true,SciMLBase.NullParameters,ODEFunction{true,typeof(lorenz63!),UniformScaling{Bool},Nothing,Nothing,Nothing,Nothing,Nothing,Nothing,Nothing,Nothing,Nothing,Nothing,Nothing,Nothing,typeof(SciMLBase.DEFAULT_OBSERVED),Nothing},Base.Iterators.Pairs{Union{},Union{},Tuple{},NamedTuple{(),Tuple{}}},SciMLBase.StandardODEProblem}, ::Nothing, ::Array{Float64,1}, ::SciMLBase.NullParameters, ::Tsit5; kwargs::Base.Iterators.Pairs{Symbol,Bool,Tuple{Symbol,Symbol},NamedTuple{(:dense, :save_everystep),Tuple{Bool,Bool}}}) at /home/mat/.julia/packages/DiffEqBase/rN9Px/src/solve.jl:82",
      " [10] #solve#57 at /home/mat/.julia/packages/DiffEqBase/rN9Px/src/solve.jl:70 [inlined]",
      " [11] batch_func(::Int64, ::EnsembleProblem{ODEProblem{Array{Float64,1},Tuple{Float64,Float64},true,SciMLBase.NullParameters,ODEFunction{true,typeof(lorenz63!),UniformScaling{Bool},Nothing,Nothing,Nothing,Nothing,Nothing,Nothing,Nothing,Nothing,Nothing,Nothing,Nothing,Nothing,typeof(SciMLBase.DEFAULT_OBSERVED),Nothing},Base.Iterators.Pairs{Union{},Union{},Tuple{},NamedTuple{(),Tuple{}}},SciMLBase.StandardODEProblem},AdaptiveTransportMap.var\"#prob_func#21\"{Int64,Int64},AdaptiveTransportMap.var\"#20#22\",typeof(SciMLBase.DEFAULT_REDUCTION),Nothing}, ::Tsit5; kwargs::Base.Iterators.Pairs{Symbol,Bool,Tuple{Symbol,Symbol},NamedTuple{(:dense, :save_everystep),Tuple{Bool,Bool}}}) at /home/mat/.julia/packages/SciMLBase/10xNC/src/ensemble/basic_ensemble_solve.jl:143",
      " [12] solve_batch(::EnsembleProblem{ODEProblem{Array{Float64,1},Tuple{Float64,Float64},true,SciMLBase.NullParameters,ODEFunction{true,typeof(lorenz63!),UniformScaling{Bool},Nothing,Nothing,Nothing,Nothing,Nothing,Nothing,Nothing,Nothing,Nothing,Nothing,Nothing,Nothing,typeof(SciMLBase.DEFAULT_OBSERVED),Nothing},Base.Iterators.Pairs{Union{},Union{},Tuple{},NamedTuple{(),Tuple{}}},SciMLBase.StandardODEProblem},AdaptiveTransportMap.var\"#prob_func#21\"{Int64,Int64},AdaptiveTransportMap.var\"#20#22\",typeof(SciMLBase.DEFAULT_REDUCTION),Nothing}, ::Tsit5, ::EnsembleSerial, ::UnitRange{Int64}, ::Int64; kwargs::Base.Iterators.Pairs{Symbol,Bool,Tuple{Symbol,Symbol},NamedTuple{(:dense, :save_everystep),Tuple{Bool,Bool}}}) at /home/mat/.julia/packages/SciMLBase/10xNC/src/ensemble/basic_ensemble_solve.jl:192",
      " [13] solve_batch(::EnsembleProblem{ODEProblem{Array{Float64,1},Tuple{Float64,Float64},true,SciMLBase.NullParameters,ODEFunction{true,typeof(lorenz63!),UniformScaling{Bool},Nothing,Nothing,Nothing,Nothing,Nothing,Nothing,Nothing,Nothing,Nothing,Nothing,Nothing,Nothing,typeof(SciMLBase.DEFAULT_OBSERVED),Nothing},Base.Iterators.Pairs{Union{},Union{},Tuple{},NamedTuple{(),Tuple{}}},SciMLBase.StandardODEProblem},AdaptiveTransportMap.var\"#prob_func#21\"{Int64,Int64},AdaptiveTransportMap.var\"#20#22\",typeof(SciMLBase.DEFAULT_REDUCTION),Nothing}, ::Tsit5, ::EnsembleThreads, ::UnitRange{Int64}, ::Int64; kwargs::Base.Iterators.Pairs{Symbol,Bool,Tuple{Symbol,Symbol},NamedTuple{(:dense, :save_everystep),Tuple{Bool,Bool}}}) at /home/mat/.julia/packages/SciMLBase/10xNC/src/ensemble/basic_ensemble_solve.jl:200",
      " [14] macro expansion at ./timing.jl:233 [inlined]",
      " [15] __solve(::EnsembleProblem{ODEProblem{Array{Float64,1},Tuple{Float64,Float64},true,SciMLBase.NullParameters,ODEFunction{true,typeof(lorenz63!),UniformScaling{Bool},Nothing,Nothing,Nothing,Nothing,Nothing,Nothing,Nothing,Nothing,Nothing,Nothing,Nothing,Nothing,typeof(SciMLBase.DEFAULT_OBSERVED),Nothing},Base.Iterators.Pairs{Union{},Union{},Tuple{},NamedTuple{(),Tuple{}}},SciMLBase.StandardODEProblem},AdaptiveTransportMap.var\"#prob_func#21\"{Int64,Int64},AdaptiveTransportMap.var\"#20#22\",typeof(SciMLBase.DEFAULT_REDUCTION),Nothing}, ::Tsit5, ::EnsembleThreads; trajectories::Int64, batch_size::Int64, pmap_batch_size::Int64, kwargs::Base.Iterators.Pairs{Symbol,Bool,Tuple{Symbol,Symbol},NamedTuple{(:dense, :save_everystep),Tuple{Bool,Bool}}}) at /home/mat/.julia/packages/SciMLBase/10xNC/src/ensemble/basic_ensemble_solve.jl:108",
      " [16] #solve#59 at /home/mat/.julia/packages/DiffEqBase/rN9Px/src/solve.jl:96 [inlined]",
      " [17] seqassim(::StateSpace, ::SyntheticData, ::Int64, ::AdditiveInflation, ::StochMapFilter, ::Array{Float64,2}, ::Int64, ::Int64, ::Float64) at /media/mat/HDD/AdaptiveTransportMap/src/DA/seqassim.jl:32",
      " [18] top-level scope at In[143]:1",
      " [19] include_string(::Function, ::Module, ::String, ::String) at ./loading.jl:1091"
     ]
    }
   ],
   "source": [
    "Xsmf = seqassim(F, data, 20, model.ϵx, smf, deepcopy(X), model.Ny, model.Nx, t0);"
   ]
  },
  {
   "cell_type": "code",
   "execution_count": 135,
   "metadata": {},
   "outputs": [
    {
     "data": {
      "text/plain": [
       "3×11 Array{Float64,2}:\n",
       "  0.0214559  -0.306927  -0.903284  -3.76389   …   3.41187   2.54066   5.21886\n",
       "  0.0186489  -0.649081  -1.97858   -8.20462       5.83909   7.60404   9.63642\n",
       " -0.0197959  -0.072742  -0.020305   0.377444     22.3789   20.9026   19.2389"
      ]
     },
     "execution_count": 135,
     "metadata": {},
     "output_type": "execute_result"
    }
   ],
   "source": [
    "mean_hist(Xsmf)"
   ]
  },
  {
   "cell_type": "code",
   "execution_count": 131,
   "metadata": {},
   "outputs": [
    {
     "data": {
      "image/png": "[encoded data removed]"
     },
     "execution_count": 131,
     "metadata": {},
     "output_type": "execute_result"
    }
   ],
   "source": [
    "# Plot the first component of the state over time\n",
    "nb = 1\n",
    "ne = 10\n",
    "Δ = 1\n",
    "plt = plot(xlim = (-Inf, Inf), ylim = (-Inf, Inf), xlabel = L\"t\", ylabel = L\"x_1\")\n",
    "plot!(plt, data.tt[nb:Δ:ne], data.xt[1,nb:Δ:ne], linewidth =  3, color = :teal, label = \"True\")\n",
    "plot!(plt, data.tt[nb:Δ:ne], mean_hist(Xsmf)[1,1+nb:Δ:1+ne], linewidth = 3, grid = false,\n",
    "     color = :orangered2, linestyle = :dash, label = \"Stochastic Map Filter\")\n",
    "scatter!(plt, data.tt[nb:Δ:ne], data.yt[1,nb:Δ:ne], linewidth = 3, color = :grey, markersize = 5, alpha = 0.5, label = \"Observation\")\n",
    "plt"
   ]
  },
  {
   "cell_type": "code",
   "execution_count": 24,
   "metadata": {},
   "outputs": [
    {
     "ename": "LoadError",
     "evalue": "\u001b[91mUndefVarError: data not defined\u001b[39m",
     "output_type": "error",
     "traceback": [
      "\u001b[91mUndefVarError: data not defined\u001b[39m",
      "",
      "Stacktrace:",
      " [1] top-level scope at ./In[24]:9",
      " [2] include_string(::Function, ::Module, ::String, ::String) at ./loading.jl:1091"
     ]
    }
   ],
   "source": [
    "# Plot the different component of the state over time\n",
    "nb = 5500\n",
    "ne = 6000\n",
    "Δ = 1\n",
    "plt = plot(layout = grid(3,1), xlim = (-Inf, Inf), ylim = (-Inf, Inf), xlabel = L\"t\", \n",
    "           size = (900, 1000))\n",
    "\n",
    "for i =1:3\n",
    "    plot!(plt[i,1], data.tt[nb:Δ:ne], data.xt[i,nb:Δ:ne], linewidth =  2, color = :teal, \n",
    "          ylabel = latexstring(\"x_\"*string(i)), legend = (i == 1), label = \"True\")\n",
    "    plot!(plt[i,1], data.tt[nb:Δ:ne], mean_hist(Xsmf)[i,1+nb:Δ:1+ne], linewidth = 2, grid = false,\n",
    "          color = :orangered2, linestyle = :dash, label = \"sEnKF\")\n",
    "    scatter!(plt[i,1], data.tt[nb:Δ:ne], data.yt[i,nb:Δ:ne], linewidth = 3, color = :grey, \n",
    "          markersize = 5, alpha = 0.5, label  = \"Observation\")\n",
    "end\n",
    "\n",
    "plt"
   ]
  },
  {
   "cell_type": "markdown",
   "metadata": {},
   "source": [
    "Talk about the benchmark of the different filters"
   ]
  },
  {
   "cell_type": "markdown",
   "metadata": {},
   "source": [
    "### Benchmark of the EnKF filter"
   ]
  },
  {
   "cell_type": "code",
   "execution_count": 116,
   "metadata": {},
   "outputs": [
    {
     "name": "stdout",
     "output_type": "stream",
     "text": [
      "Ne 10 RMSE: 3.8254663423276716\n",
      "Ne 20 RMSE: 2.0605921219961134\n",
      "Ne 40 RMSE: 0.4223537564608097\n",
      "Ne 60 RMSE: 0.40146546759545937\n",
      "Ne 100 RMSE: 0.3877197292448612\n",
      "Ne 200 RMSE: 0.4025809532902939\n",
      " 15.443304 seconds (68.89 M allocations: 6.501 GiB, 6.17% gc time)\n"
     ]
    }
   ],
   "source": [
    "path = pwd()*\"/lorenz63/data/\"\n",
    "Nx = 3\n",
    "Ny = 3\n",
    "Ne_array = [10, 20, 40, 60, 100, 200];\n",
    "@time model, data = setup_lorenz63(path, Ne_array);"
   ]
  },
  {
   "cell_type": "code",
   "execution_count": 55,
   "metadata": {},
   "outputs": [
    {
     "name": "stdout",
     "output_type": "stream",
     "text": [
      "(Ne, β) = (10, 1.0)\n",
      "  0.482682 seconds (3.47 M allocations: 329.564 MiB, 11.44% gc time)\n",
      "Ne = 10\n",
      "Ne 10& β 1.0 RMSE: 0.6015590736992926\n"
     ]
    },
    {
     "name": "stderr",
     "output_type": "stream",
     "text": [
      "\r",
      "\u001b[32mProgress:  17%|██████▉                                  |  ETA: 0:00:05\u001b[39m"
     ]
    },
    {
     "name": "stdout",
     "output_type": "stream",
     "text": [
      "(Ne, β) = (20, 1.0)\n",
      "  "
     ]
    },
    {
     "name": "stderr",
     "output_type": "stream",
     "text": [
      "\r",
      "\u001b[32mProgress:  33%|█████████████▋                           |  ETA: 0:00:04\u001b[39m"
     ]
    },
    {
     "name": "stdout",
     "output_type": "stream",
     "text": [
      "0.859515 seconds (6.59 M allocations: 631.994 MiB, 8.56% gc time)\n",
      "Ne = 20\n",
      "Ne 20& β 1.0 RMSE: 0.5184477645494938\n",
      "(Ne, β) = (40, 1.0)\n",
      "  "
     ]
    },
    {
     "name": "stderr",
     "output_type": "stream",
     "text": [
      "\r",
      "\u001b[32mProgress:  50%|████████████████████▌                    |  ETA: 0:00:04\u001b[39m"
     ]
    },
    {
     "name": "stdout",
     "output_type": "stream",
     "text": [
      "1.662244 seconds (12.83 M allocations: 1.210 GiB, 8.65% gc time)\n",
      "Ne = 40\n",
      "Ne 40& β 1.0 RMSE: 0.4483744816193398\n",
      "(Ne, β) = (60, 1.0)\n",
      "  "
     ]
    },
    {
     "name": "stderr",
     "output_type": "stream",
     "text": [
      "\r",
      "\u001b[32mProgress:  67%|███████████████████████████▍             |  ETA: 0:00:03\u001b[39m"
     ]
    },
    {
     "name": "stdout",
     "output_type": "stream",
     "text": [
      "2.463622 seconds (19.07 M allocations: 1.804 GiB, 8.51% gc time)\n",
      "Ne = 60\n",
      "Ne 60& β 1.0 RMSE: 0.4403101469791623\n",
      "(Ne, β) = (100, 1.0)\n",
      "  "
     ]
    },
    {
     "name": "stderr",
     "output_type": "stream",
     "text": [
      "\r",
      "\u001b[32mProgress:  83%|██████████████████████████████████▏      |  ETA: 0:00:02\u001b[39m"
     ]
    },
    {
     "name": "stdout",
     "output_type": "stream",
     "text": [
      "4.334649 seconds (31.55 M allocations: 2.983 GiB, 8.49% gc time)\n",
      "Ne = 100\n",
      "Ne 100& β 1.0 RMSE: 0.4303647629868742\n",
      "(Ne, β) = (200, 1.0)\n",
      " 13.776164 seconds (62.75 M allocations: 5.935 GiB, 7.19% gc time)\n",
      "Ne = 200\n",
      "Ne 200& β 1.0 RMSE: 0.4465248257137066"
     ]
    },
    {
     "name": "stderr",
     "output_type": "stream",
     "text": [
      "\r",
      "\u001b[32mProgress: 100%|█████████████████████████████████████████| Time: 0:00:24\u001b[39m\n"
     ]
    },
    {
     "name": "stdout",
     "output_type": "stream",
     "text": [
      "\n"
     ]
    },
    {
     "data": {
      "text/plain": [
       "6-element Array{Any,1}:\n",
       " Metrics[Metrics(10, [0.8166106052280312, 0.8477976249831615, 0.5377435004826744, 0.2946057216215732, 0.1963372890873663, 0.1661211989653268, 0.09550122139602638, 0.10895691501209233, 0.061645037116889324, 0.1556247918798692  …  4.0942175082812975, 2.918216773645667, 2.293946056603929, 2.3368525142834664, 2.9966610036699945, 2.488711153121422, 2.060789991067101, 2.000268585410395, 2.0094430111553767, 1.633586039615903], 0.37686107778341077, 0.6015590736992926, 0.8149386709205617, [1.0125271950095414, 0.9623361052178709, 0.7792957424814254, 0.4344193482216172, 0.2873587820499424, 0.2729751953413108, 0.40382950988831384, 0.6108278943470481, 0.6592219807793599, 0.4157011617649463  …  0.6622613427311322, 0.9156031963385003, 1.1880540752197546, 1.010250360884169, 0.9055102239545725, 0.6429162631150634, 0.5592022167774022, 0.6557579770729094, 0.987851621549649, 1.1234614213819019], 0.4419068954362283, 0.5053138269227165, 0.25903240927442023, [1.0, 1.0, 0.6666666666666666, 0.6666666666666666, 1.0, 1.0, 1.0, 1.0, 1.0, 1.0  …  0.6666666666666666, 0.6666666666666666, 0.3333333333333333, 0.3333333333333333, 0.0, 0.3333333333333333, 0.0, 0.0, 0.3333333333333333, 0.6666666666666666], 1.0, 0.7261666666666667, 0.36457522740458864)]\n",
       " Metrics[Metrics(20, [0.8009234015601246, 0.8873529418152709, 0.9648186335874159, 0.2241641575750264, 0.08972122691323191, 0.40502498541772275, 0.9061432442037632, 1.2895306531554689, 0.7946468671210342, 0.3985672597736556  …  0.3346030298442835, 0.5163997563927475, 0.43517438396749325, 0.598360550796541, 0.5362700352527868, 0.4471320623829449, 0.29561670268590506, 0.18851296824592492, 0.17522643152541226, 0.07857223386207775], 0.35531061663093255, 0.5184477645494938, 0.4845044270612191, [1.3258269952984914, 1.219366525258285, 1.1067738085368013, 0.8876478449926386, 0.6257782703432062, 0.5204509248590731, 0.6103587013183903, 0.7679474941003844, 0.5675737349456604, 0.5082509495209795  …  0.5453088799482404, 0.5575510867223642, 0.5540770509755611, 0.5983031348899548, 0.50022559167807, 0.42259328666553975, 0.3198506611541602, 0.3043017231422324, 0.38395027869333503, 0.5385430054163486], 0.47192182393714555, 0.5305997869038892, 0.24119505026883653, [1.0, 1.0, 1.0, 1.0, 1.0, 1.0, 0.3333333333333333, 0.0, 0.6666666666666666, 1.0  …  1.0, 1.0, 1.0, 1.0, 1.0, 1.0, 1.0, 1.0, 1.0, 1.0], 1.0, 0.8525, 0.2979733949063843)]\n",
       " Metrics[Metrics(40, [0.9826817575939837, 0.8853553187784176, 0.3822879886654962, 0.1560808317176755, 0.16401163158104606, 0.2641915580627298, 0.4821786668586909, 0.7562409207457594, 0.5304897251404828, 0.2335617480836244  …  0.46302073478462163, 0.44641521503457005, 0.5198248995974374, 0.8841581293917309, 0.8944940422060007, 0.6869037355788589, 0.47199979466366954, 0.3146926290239334, 0.22052593050442004, 0.2011946269035898], 0.31988125779252113, 0.4483744816193398, 0.3888888264729722, [0.9910648265607959, 1.0389612210939443, 0.9976972004017787, 0.6975832292555886, 0.40656021680950216, 0.3543519277702079, 0.4841426130471005, 0.6802004103354949, 0.5357937586885131, 0.4567283561463507  …  0.34892484591013456, 0.4717990778913134, 0.618724675393529, 0.5828250426543808, 0.4770344985964706, 0.39083347571382326, 0.2923228793059253, 0.3054108982896446, 0.45375090190774553, 0.6625324478592381], 0.4946079848132213, 0.5558350191174204, 0.23424766693404636, [1.0, 1.0, 1.0, 1.0, 1.0, 1.0, 1.0, 1.0, 1.0, 1.0  …  0.6666666666666666, 1.0, 1.0, 0.6666666666666666, 0.6666666666666666, 0.6666666666666666, 0.6666666666666666, 0.6666666666666666, 1.0, 1.0], 1.0, 0.9485, 0.17881512390001802)]\n",
       " Metrics[Metrics(60, [0.9958246928389437, 1.1406683287468808, 0.5892665012618263, 0.06937257988643586, 0.11686273681705214, 0.2663933938825168, 0.5322621212098003, 0.9316025189352882, 0.728746365036979, 0.4082893401458479  …  0.22786860029792666, 0.31749262144454576, 0.35389057590962486, 0.5051968531575757, 0.556030690676821, 0.4877666524221944, 0.30372102936096423, 0.2222280953223254, 0.28222115198656517, 0.24913840043694432], 0.30630601607276686, 0.4403101469791623, 0.38370929842878665, [1.15339760434503, 1.111068400675063, 1.0617894821482072, 0.7246278025729431, 0.4659868724356628, 0.4125774571657407, 0.5030501098617005, 0.6339205155508028, 0.5972643721683021, 0.4689687485398599  …  0.3842024564419135, 0.48550370981036023, 0.5900843703168447, 0.6445608536580213, 0.500422315137187, 0.4156164932470485, 0.3016388798926969, 0.2916869146188145, 0.40422049044227376, 0.6320377754649462], 0.5153348159848088, 0.5717853643157081, 0.2325183875067794, [1.0, 1.0, 1.0, 1.0, 1.0, 1.0, 1.0, 1.0, 1.0, 1.0  …  1.0, 1.0, 1.0, 1.0, 1.0, 1.0, 1.0, 1.0, 1.0, 1.0], 1.0, 0.9791666666666667, 0.10627248639759496)]\n",
       " Metrics[Metrics(100, [1.1447153311331781, 1.38577826954797, 0.8011100613741654, 0.2521263581826285, 0.3020487816972422, 0.508284816604461, 0.8670734818498514, 1.1608770052370112, 0.8718084104569586, 0.5296218649707812  …  0.2398186998545124, 0.25503741685515185, 0.22177804228613865, 0.41110055435395404, 0.47496251760836805, 0.40719857492095896, 0.24764360531773363, 0.13828193095173355, 0.0826234199512165, 0.26856854675486025], 0.2893155689372151, 0.4303647629868742, 0.38191564508486936, [0.9527704170384034, 0.9321001672664082, 1.0398646440457058, 0.6935998849951813, 0.44319915626874445, 0.3912492072948739, 0.5244511435147953, 0.6086134296913539, 0.5544278894887922, 0.4791755006959619  …  0.3928515891332105, 0.5199694696873517, 0.6603156868760311, 0.7450505076075534, 0.6302553655749117, 0.5068577227060873, 0.37451309930446913, 0.35529727887821777, 0.5185904054762793, 0.7753972206416857], 0.5329209748271038, 0.5871951348369144, 0.2322523924985191, [1.0, 1.0, 1.0, 1.0, 1.0, 1.0, 1.0, 1.0, 1.0, 1.0  …  1.0, 1.0, 1.0, 1.0, 1.0, 1.0, 1.0, 1.0, 1.0, 1.0], 1.0, 0.9911666666666668, 0.07514664299502112)]\n",
       " Metrics[Metrics(200, [0.888273273483637, 1.0797033517549515, 0.3440269499593048, 0.21420101076430767, 0.16162425690189322, 0.3253767298519863, 0.7050060288401291, 1.0723841440703699, 0.7927858236953814, 0.37303796598152517  …  0.14863863331263572, 0.13098694675828024, 0.01569618827238591, 0.16380423196922922, 0.33101947558854705, 0.3183054841536702, 0.19962116984435951, 0.10929821953369317, 0.07402847742163798, 0.21688151831203697], 0.3082727000481167, 0.4465248257137066, 0.38847206086051883, [1.1025016902484062, 1.1585146386588427, 1.050280287671641, 0.7264029154997294, 0.46463567765400915, 0.4408017551630872, 0.5331142954826315, 0.6640979088648434, 0.6326136904712192, 0.5171574662091373  …  0.4291626962129586, 0.5520631256132565, 0.6739989865135746, 0.774635718849873, 0.6359763126942447, 0.5135438852089059, 0.3752157713769756, 0.3581808492199844, 0.47687145842631096, 0.6813329693353127], 0.5508320940815306, 0.6018345158581575, 0.23071327806131858, [1.0, 1.0, 1.0, 1.0, 1.0, 1.0, 1.0, 1.0, 1.0, 1.0  …  1.0, 1.0, 1.0, 1.0, 1.0, 1.0, 1.0, 1.0, 1.0, 1.0], 1.0, 0.9908333333333332, 0.07584313842648356)]"
      ]
     },
     "execution_count": 55,
     "metadata": {},
     "output_type": "execute_result"
    }
   ],
   "source": [
    "metric_list = benchmark_lorenz63(model, data, path, Ne_array, [1.0])"
   ]
  },
  {
   "cell_type": "code",
   "execution_count": 23,
   "metadata": {},
   "outputs": [
    {
     "name": "stdout",
     "output_type": "stream",
     "text": [
      "(Ne, β) = (200, 1.0)\n",
      "  7.739944 seconds (62.75 M allocations: 5.935 GiB, 6.06% gc time)\n",
      "Ne = 200\n",
      "Ne 200& β 1.0 RMSE: 0.4189442707516625\n"
     ]
    },
    {
     "data": {
      "text/plain": [
       "1-element Array{Any,1}:\n",
       " Metrics[Metrics(200, [0.27418871478089074, 0.4011111920900346, 0.6224367042654201, 1.1940241372680338, 1.178706937442249, 0.629896584355798, 0.37352902606306937, 0.27598562967074297, 0.3415108073527272, 0.5385900049790774  …  0.22005926456584765, 0.11117371050261328, 0.0745833426310767, 0.06915409494524392, 0.23566185689849842, 0.4284533696688461, 0.7382482677445492, 1.2785156926466672, 0.9477650979445261, 0.8579855755647071], 0.2843509443072877, 0.4189442707516625, 0.3843942458358231, [0.2791191166770778, 0.3308824803118106, 0.5356751453956368, 0.7482658949655999, 0.6849666981780923, 0.5401293761758875, 0.3905840265207302, 0.30529026491290673, 0.3612676308031941, 0.5506587576884893  …  0.9550452598208562, 0.7275900415277436, 0.5097020874896808, 0.38068472189933705, 0.44668108906035564, 0.6711198461183089, 0.7934070557338772, 0.953289237580203, 1.0821830718436276, 1.1373384160933897], 0.529889526630428, 0.584733698922179, 0.23401428353181045, [1.0, 1.0, 1.0, 1.0, 0.6666666666666666, 1.0, 1.0, 1.0, 1.0, 1.0  …  1.0, 1.0, 1.0, 1.0, 1.0, 1.0, 1.0, 1.0, 1.0, 1.0], 1.0, 0.9928333333333332, 0.065876381401767)]"
      ]
     },
     "execution_count": 23,
     "metadata": {},
     "output_type": "execute_result"
    }
   ],
   "source": [
    "metric_list = benchmark_lorenz63(model, data, path, Ne_array, [1.0])"
   ]
  }
 ],
 "metadata": {
  "kernelspec": {
   "display_name": "Julia 1.5.3",
   "language": "julia",
   "name": "julia-1.5"
  },
  "language_info": {
   "file_extension": ".jl",
   "mimetype": "application/julia",
   "name": "julia",
   "version": "1.5.3"
  }
 },
 "nbformat": 4,
 "nbformat_minor": 2
}
