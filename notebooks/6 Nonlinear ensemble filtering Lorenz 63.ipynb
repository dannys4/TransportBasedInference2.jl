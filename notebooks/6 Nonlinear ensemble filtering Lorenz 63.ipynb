{
 "cells": [
  {
   "cell_type": "markdown",
   "metadata": {},
   "source": [
    "## 6. Nonlinear ensemble filtering for the Lorenz-63 problem"
   ]
  },
  {
   "cell_type": "markdown",
   "metadata": {},
   "source": [
    "In this notebook, we are interested in the sequential inference \n",
    "\n",
    "\n",
    "\n",
    "References: \n",
    "\n",
    "\n",
    "[1] Evensen, G., 1994. Sequential data assimilation with a nonlinear quasi‐geostrophic model using Monte Carlo methods to forecast error statistics. Journal of Geophysical Research: Oceans, 99(C5), pp.10143-10162.\n",
    "\n",
    "[2] Asch, M., Bocquet, M. and Nodet, M., 2016. Data assimilation: methods, algorithms, and applications. Society for Industrial and Applied Mathematics.\n",
    "\n",
    "[3] Bishop, C.H., Etherton, B.J. and Majumdar, S.J., 2001. Adaptive sampling with the ensemble transform Kalman filter. Part I: Theoretical aspects. Monthly weather review, 129(3), pp.420-436. \n",
    "\n",
    "[4] Lorenz, E.N., 1963. Deterministic nonperiodic flow. Journal of atmospheric sciences, 20(2), pp.130-141.\n",
    "\n",
    "[5] Spantini, A., Baptista, R. and Marzouk, Y., 2019. Coupling techniques for nonlinear ensemble filtering. arXiv preprint arXiv:1907.00389."
   ]
  },
  {
   "cell_type": "markdown",
   "metadata": {},
   "source": [
    "### The basic steps\n",
    "To carry out sequential inference in `AdaptiveTransportMap`, we need to carry out a few basic steps:\n",
    "* **Specify the problem**: Define the state-space model: initial condition, dynamical and observation models (including process and observation noise)\n",
    "* **Specify the inflation parameters**: Determine the levels of covariance inflation to properly balance the dynamical system and the observations from the truth system\n",
    "* **Specify the filter**: Choose the ensemble filter to assimilate the observations in the state estimate\n",
    "* **Perform the sequential inference**: Perform the sequential inference\n",
    "\n",
    "We will go through all of these here."
   ]
  },
  {
   "cell_type": "code",
   "execution_count": 1,
   "metadata": {},
   "outputs": [],
   "source": [
    "using Revise\n",
    "using LinearAlgebra\n",
    "using AdaptiveTransportMap\n",
    "using Statistics\n",
    "using Distributions\n",
    "using OrdinaryDiffEq"
   ]
  },
  {
   "cell_type": "code",
   "execution_count": 2,
   "metadata": {},
   "outputs": [],
   "source": [
    "using DelimitedFiles"
   ]
  },
  {
   "cell_type": "markdown",
   "metadata": {},
   "source": [
    "Load some packages to make nice figures"
   ]
  },
  {
   "cell_type": "code",
   "execution_count": 3,
   "metadata": {},
   "outputs": [],
   "source": [
    "using Plots\n",
    "default(tickfont = font(\"CMU Serif\", 9), \n",
    "        titlefont = font(\"CMU Serif\", 14), \n",
    "        guidefont = font(\"CMU Serif\", 12),\n",
    "        legendfont = font(\"CMU Serif\", 10),\n",
    "        grid = false)\n",
    "pyplot()\n",
    "\n",
    "using LaTeXStrings\n",
    "PyPlot.rc(\"text\", usetex = \"true\")\n",
    "PyPlot.rc(\"font\", family = \"CMU Serif\")\n",
    "# gr()\n",
    "using ColorSchemes"
   ]
  },
  {
   "cell_type": "markdown",
   "metadata": {},
   "source": [
    "The Lorenz-63  model is a three dimensional system that models the atmospheric convection [4]. This system is a classical benchmark problem in data assimilation. The state $\\boldsymbol{x} = (x_1, x_2, x_3)$ is governed by the following set of ordinary differential equations:\n",
    "\n",
    "\\begin{equation}\n",
    "\\begin{aligned}\n",
    "&\\frac{\\mathrm{d} x_1}{\\mathrm{d} t}=\\sigma(x_2-x_1)\\\\\n",
    "&\\frac{\\mathrm{d} x_2}{\\mathrm{d} t}=x_1(\\rho-x_2)-x_2\\\\\n",
    "&\\frac{\\mathrm{d} x_3}{\\mathrm{d} t}=x_1 x_2-\\beta x_3,\n",
    "\\end{aligned}\n",
    "\\end{equation}\n",
    "\n",
    "where $\\sigma = 10, \\beta = 8/3, \\rho = 28$. For these values, the system is chaotic and behaves like a strange attractor. We integrate this system of ODEs with time step $\\Delta t_{dyn} = 0.05$. The state is fully observed $h(t,\\boldsymbol{x}) = \\boldsymbol{x}$ with $\\Delta t_{obs}=0.1$. The initial distribution $\\pi_{\\mathsf{X}_0}$ is the standard Gaussian. The process noise is Gaussian with zero mean and covariance $10^{-4}\\boldsymbol{I}_3$. The measurement noise has a Gaussian distribution with zero mean and covariance $\\theta^2\\boldsymbol{I}_3$ where $\\theta^2 = 4.0$."
   ]
  },
  {
   "cell_type": "markdown",
   "metadata": {},
   "source": [
    "### Simple twin-experiment"
   ]
  },
  {
   "cell_type": "markdown",
   "metadata": {},
   "source": [
    "Define the dimension of the state and observation vectors"
   ]
  },
  {
   "cell_type": "code",
   "execution_count": 4,
   "metadata": {},
   "outputs": [
    {
     "data": {
      "text/plain": [
       "3"
      ]
     },
     "execution_count": 4,
     "metadata": {},
     "output_type": "execute_result"
    }
   ],
   "source": [
    "Nx = 3\n",
    "Ny = 3"
   ]
  },
  {
   "cell_type": "markdown",
   "metadata": {},
   "source": [
    "Define the time steps $\\Delta t_{dyn}, \\Delta t_{obs}$  of the dynamical and observation models. Observations from the truth are assimilated every $\\Delta t_{obs}$."
   ]
  },
  {
   "cell_type": "code",
   "execution_count": 5,
   "metadata": {},
   "outputs": [
    {
     "data": {
      "text/plain": [
       "0.1"
      ]
     },
     "execution_count": 5,
     "metadata": {},
     "output_type": "execute_result"
    }
   ],
   "source": [
    "Δtdyn = 0.05\n",
    "Δtobs = 0.1"
   ]
  },
  {
   "cell_type": "markdown",
   "metadata": {},
   "source": [
    "Define the time span of interest"
   ]
  },
  {
   "cell_type": "code",
   "execution_count": 6,
   "metadata": {},
   "outputs": [
    {
     "data": {
      "text/plain": [
       "1000"
      ]
     },
     "execution_count": 6,
     "metadata": {},
     "output_type": "execute_result"
    }
   ],
   "source": [
    "t0 = 0.0\n",
    "tf = 100.0\n",
    "Tf = ceil(Int64, (tf-t0)/Δtobs)"
   ]
  },
  {
   "cell_type": "markdown",
   "metadata": {},
   "source": [
    " Define the distribution for the initial condition $\\pi_{\\mathsf{X}_0}$"
   ]
  },
  {
   "cell_type": "code",
   "execution_count": 7,
   "metadata": {},
   "outputs": [
    {
     "data": {
      "text/plain": [
       "FullNormal(\n",
       "dim: 3\n",
       "μ: [0.0, 0.0, 0.0]\n",
       "Σ: [1.0 0.0 0.0; 0.0 1.0 0.0; 0.0 0.0 1.0]\n",
       ")\n"
      ]
     },
     "execution_count": 7,
     "metadata": {},
     "output_type": "execute_result"
    }
   ],
   "source": [
    "π0 = MvNormal(zeros(Nx), Matrix(1.0*I, Nx, Nx))"
   ]
  },
  {
   "cell_type": "markdown",
   "metadata": {},
   "source": [
    "We construct the state-space representation `F` of the system composed of the deterministic part of the dynamical and observation models. \n",
    "\n",
    "The dynamical model is provided by the right hand side of the ODE to solve. For a system of ODEs, we will prefer an in-place syntax `f(du, u, p, t)`, where `p` are parameters of the model.\n",
    "We rely on `OrdinaryDiffEq` to integrate the dynamical system with the Tsitouras 5/4 Runge-Kutta method adaptive time marching. \n",
    "\n",
    "We assume that the state is fully observable, i.e. $h(x, t) = x$."
   ]
  },
  {
   "cell_type": "code",
   "execution_count": 8,
   "metadata": {},
   "outputs": [
    {
     "data": {
      "text/plain": [
       "StateSpace(AdaptiveTransportMap.lorenz63!, h)"
      ]
     },
     "execution_count": 8,
     "metadata": {},
     "output_type": "execute_result"
    }
   ],
   "source": [
    "h(x, t) = x\n",
    "F = StateSpace(lorenz63!, h)"
   ]
  },
  {
   "cell_type": "markdown",
   "metadata": {},
   "source": [
    "Define the additive inflation for the dynamical and observation models"
   ]
  },
  {
   "cell_type": "code",
   "execution_count": 136,
   "metadata": {},
   "outputs": [
    {
     "data": {
      "text/plain": [
       "AdditiveInflation(3, [0.0, 0.0, 0.0], [1.0e-6 0.0 0.0; 0.0 1.0e-6 0.0; 0.0 0.0 1.0e-6], [0.001 0.0 0.0; 0.0 0.001 0.0; 0.0 0.0 0.001])"
      ]
     },
     "execution_count": 136,
     "metadata": {},
     "output_type": "execute_result"
    }
   ],
   "source": [
    "### Process and observation noise\n",
    "σx = 1e-1\n",
    "σy = 1e-3\n",
    "\n",
    "ϵx = AdditiveInflation(Nx, zeros(Nx), σx)\n",
    "ϵy = AdditiveInflation(Ny, zeros(Ny), σy)"
   ]
  },
  {
   "cell_type": "code",
   "execution_count": 137,
   "metadata": {},
   "outputs": [],
   "source": [
    "model = Model(Nx, Ny, Δtdyn, Δtobs, ϵx, ϵy, π0, 0, 0, 0, F);"
   ]
  },
  {
   "cell_type": "markdown",
   "metadata": {},
   "source": [
    "To perform the nonlinear ensemble filtering, we first need to estimate the transport map $\\boldsymbol{S}^{\\boldsymbol{\\mathcal{X}}}$.\n",
    "\n",
    "In this notebook, we are going to assume that the basis of features does not change over time, but solely the coefficients $c_{\\boldsymbol{\\alpha}}$ of the expansion. \n",
    "\n",
    "\n",
    "To estimate the map, we generate joint samples $(\\boldsymbol{y}^i, \\boldsymbol{x}^i), \\; i = 1, \\ldots, N_e$ where $\\{\\boldsymbol{x}^i\\}$ are i.i.d. samples from pushforward of the standard Gaussian distribution by the flow of the Lorenz-63 system."
   ]
  },
  {
   "cell_type": "code",
   "execution_count": 138,
   "metadata": {},
   "outputs": [
    {
     "data": {
      "text/plain": [
       "\u001b[36mODEProblem\u001b[0m with uType \u001b[36mArray{Float64,1}\u001b[0m and tType \u001b[36mFloat64\u001b[0m. In-place: \u001b[36mtrue\u001b[0m\n",
       "timespan: (0.0, 100.0)\n",
       "u0: [0.0, 0.0, 0.0]"
      ]
     },
     "execution_count": 138,
     "metadata": {},
     "output_type": "execute_result"
    }
   ],
   "source": [
    "# Number of runs\n",
    "Ne = 500\n",
    "\n",
    "# Time span\n",
    "tspan = (0.0, 100.0)\n",
    "prob = ODEProblem(lorenz63!, zeros(Nx), tspan)"
   ]
  },
  {
   "cell_type": "markdown",
   "metadata": {},
   "source": [
    "Create cache to store the different final solutions"
   ]
  },
  {
   "cell_type": "code",
   "execution_count": 139,
   "metadata": {},
   "outputs": [],
   "source": [
    "X = zeros(Ny + Nx, Ne);"
   ]
  },
  {
   "cell_type": "markdown",
   "metadata": {},
   "source": [
    "Solve Lorenz-96 model for the different initial conditions and store the solutions as the columns of `X`, and compute the associated observation vector."
   ]
  },
  {
   "cell_type": "code",
   "execution_count": 140,
   "metadata": {},
   "outputs": [],
   "source": [
    "J = ceil(Int64, (tf-t0)/Δtobs)\n",
    "@inbounds for i=1:Ne\n",
    "    xtmp = rand(π0)\n",
    "    for j=1:J\n",
    "        tspan = (t0 + (j-1)*model.Δtobs, t0 + j*model.Δtobs)\n",
    "        prob = remake(prob, tspan = tspan, u0 = xtmp)\n",
    "        sol = solve(prob, Tsit5(), dt = Δtdyn, dense = false, save_everystep = false)\n",
    "        xtmp .= copy(sol.u[end]) \n",
    "        # Add process noise\n",
    "        model.ϵx(xtmp)\n",
    "    end\n",
    "    \n",
    "    # Store the state\n",
    "    X[Ny+1:Ny+Nx,i] .= copy(xtmp)\n",
    "end\n",
    "# Generate the observations\n",
    "observe(h, X, tf, Ny, Nx)\n",
    "\n",
    "# Apply the observation noise\n",
    "ϵy(X, 1, Ny)"
   ]
  },
  {
   "cell_type": "code",
   "execution_count": 219,
   "metadata": {},
   "outputs": [
    {
     "data": {
      "text/plain": [
       "6×500 Array{Float64,2}:\n",
       " 12.6981    0.930478   3.98214  13.6515  …   5.38257    9.40037  -13.654\n",
       "  8.37203   1.62649    5.75284  13.2089      0.775109   3.96774  -11.2277\n",
       " 36.521    10.9611    17.4395   34.3492     29.3109    33.9116    36.3547\n",
       " 12.6979    0.929687   3.98188  13.6506      5.38174    9.40014  -13.6549\n",
       "  8.37175   1.62558    5.75274  13.2087      0.774492   3.96771  -11.2286\n",
       " 36.5206   10.9604    17.4391   34.3489  …  29.3107    33.9112    36.354"
      ]
     },
     "execution_count": 219,
     "metadata": {},
     "output_type": "execute_result"
    }
   ],
   "source": [
    "# writedlm( \"lorenzdata.csv\",  X, ',')\n",
    "X = readdlm( \"lorenzdata.csv\",  ',')"
   ]
  },
  {
   "cell_type": "code",
   "execution_count": 220,
   "metadata": {},
   "outputs": [
    {
     "data": {
      "text/plain": [
       "HermiteMap(10, 6, LinearTransform(6, [0.4147432940129076, 0.16516928040533463, 23.185696156541045, 0.4142537177229937, 0.16468411727530424, 23.185208293342406], [7.605649175105361 0.0 … 0.0 0.0; 0.0 8.937206142197835 … 0.0 0.0; … ; 0.0 0.0 … 8.937225951689017 0.0; 0.0 0.0 … 0.0 8.356337886751735], true), MapComponent[Map component of dimension 1 with Nψ 1 active features\n",
       ", Map component of dimension 2 with Nψ 1 active features\n",
       ", Map component of dimension 3 with Nψ 1 active features\n",
       ", Map component of dimension 4 with Nψ 1 active features\n",
       ", Map component of dimension 5 with Nψ 1 active features\n",
       ", Map component of dimension 6 with Nψ 1 active features\n",
       "])"
      ]
     },
     "execution_count": 220,
     "metadata": {},
     "output_type": "execute_result"
    }
   ],
   "source": [
    "# Initialize the map\n",
    "m = 10\n",
    "S = HermiteMap(m, X; diag = true, α = 1.0e-4)"
   ]
  },
  {
   "cell_type": "code",
   "execution_count": 221,
   "metadata": {},
   "outputs": [
    {
     "data": {
      "text/plain": [
       "300"
      ]
     },
     "execution_count": 221,
     "metadata": {},
     "output_type": "execute_result"
    }
   ],
   "source": [
    "Ne"
   ]
  },
  {
   "cell_type": "code",
   "execution_count": 222,
   "metadata": {},
   "outputs": [
    {
     "data": {
      "image/png": "[encoded data removed]"
     },
     "execution_count": 222,
     "metadata": {},
     "output_type": "execute_result"
    }
   ],
   "source": [
    "plt = plot(layout = grid(6,1), size = (400, 800))\n",
    "\n",
    "for i=1:6\n",
    "      histogram!(plt[i,1], sort(transform(X)[i,:]), bins = 100; normalize = :pdf, legend = false)     \n",
    "end\n",
    "plt\n",
    "# savefig(\"normalized_histogram.pdf\")"
   ]
  },
  {
   "cell_type": "code",
   "execution_count": 223,
   "metadata": {},
   "outputs": [
    {
     "data": {
      "text/plain": [
       "6×500 Array{Float64,2}:\n",
       " 1.61503    0.0678095   0.469045  1.74039  …  0.653177   1.18144   -1.84978\n",
       " 0.918281   0.16351     0.625215  1.45949     0.0682473  0.425477  -1.27477\n",
       " 1.59583   -1.46291    -0.687649  1.33593     0.733004   1.28356    1.57594\n",
       " 1.61506    0.0677698   0.469077  1.74033     0.653132   1.18148   -1.84983\n",
       " 0.918301   0.163461    0.625256  1.45952     0.0682324  0.425527  -1.27481\n",
       " 1.59584   -1.46294    -0.687638  1.33596  …  0.733041   1.28357    1.57591"
      ]
     },
     "execution_count": 223,
     "metadata": {},
     "output_type": "execute_result"
    }
   ],
   "source": [
    "transform(X)"
   ]
  },
  {
   "cell_type": "code",
   "execution_count": 224,
   "metadata": {},
   "outputs": [
    {
     "data": {
      "text/plain": [
       "1-element Array{Float64,1}:\n",
       " 0.0"
      ]
     },
     "execution_count": 224,
     "metadata": {},
     "output_type": "execute_result"
    }
   ],
   "source": [
    "getcoeff(S[3])"
   ]
  },
  {
   "cell_type": "markdown",
   "metadata": {},
   "source": [
    "The optimization works up to 22 active features, after the Cholesky decomposition crashes."
   ]
  },
  {
   "cell_type": "code",
   "execution_count": 225,
   "metadata": {
    "scrolled": true
   },
   "outputs": [
    {
     "name": "stdout",
     "output_type": "stream",
     "text": [
      "1 terms - Training error: 1.4018763830606684, Validation error: 1.4821871337806913\n",
      "1 terms - Training error: 1.4015676367088863, Validation error: 1.4836986647681685\n",
      "2 terms - Training error: 1.400924085435876, Validation error: 1.4778565751565629\n",
      "3 terms - Training error: 1.3980274606082448, Validation error: 1.478248593122396\n",
      "4 terms - Training error: 1.396744184144287, Validation error: 1.476408969911256\n",
      "5 terms - Training error: 1.3962772193119128, Validation error: 1.4754070004757354\n",
      "6 terms - Training error: 1.36355716426505, Validation error: 1.4508596231020563\n",
      "7 terms - Training error: 1.3622481918670368, Validation error: 1.4490698341986197\n",
      "8 terms - Training error: 1.3622246394931794, Validation error: 1.4484615370663596\n",
      "9 terms - Training error: 1.362064119682257, Validation error: 1.4500501433204165\n",
      "1 terms - Training error: 1.4044094408164385, Validation error: 1.4720549027576117\n",
      "1 terms - Training error: 1.4044024044311827, Validation error: 1.4719277657677687\n",
      "2 terms - Training error: 1.4034358791061545, Validation error: 1.4664030725493014\n",
      "3 terms - Training error: 1.402677463171725, Validation error: 1.460135474342952\n",
      "4 terms - Training error: 1.4007245185384365, Validation error: 1.4613239255736457\n",
      "5 terms - Training error: 1.39999177304977, Validation error: 1.4616735967228962\n",
      "6 terms - Training error: 1.3744544048497143, Validation error: 1.4106030068264184\n",
      "7 terms - Training error: 1.373705929926078, Validation error: 1.406937216238179\n",
      "8 terms - Training error: 1.372974485073296, Validation error: 1.4088192316389672\n",
      "9 terms - Training error: 1.372611050826682, Validation error: 1.4120083296952206\n",
      "1 terms - Training error: 1.4305800568085263, Validation error: 1.3673724387892596\n",
      "1 terms - Training error: 1.430512093674594, Validation error: 1.3673916295875097\n",
      "2 terms - Training error: 1.4275634918185505, Validation error: 1.3691082168975364\n",
      "3 terms - Training error: 1.4260248566701852, Validation error: 1.3643627651508854\n",
      "4 terms - Training error: 1.4254574212244806, Validation error: 1.3606123470947362\n",
      "5 terms - Training error: 1.4252768878599198, Validation error: 1.3590500569937203\n",
      "6 terms - Training error: 1.396822303250719, Validation error: 1.319571605824383\n",
      "7 terms - Training error: 1.3947729997739517, Validation error: 1.3213632352279328\n",
      "8 terms - Training error: 1.393760771224533, Validation error: 1.325487790826462\n",
      "9 terms - Training error: 1.3937569013004716, Validation error: 1.3255052639399998\n",
      "1 terms - Training error: 1.422819162116575, Validation error: 1.398416017557064\n",
      "1 terms - Training error: 1.4223359357501677, Validation error: 1.401188859520954\n",
      "2 terms - Training error: 1.419049861904565, Validation error: 1.4044564841579243\n",
      "3 terms - Training error: 1.4163295956317048, Validation error: 1.404296128759162\n",
      "4 terms - Training error: 1.4140729200066409, Validation error: 1.4068024297548445\n",
      "5 terms - Training error: 1.4135679994825388, Validation error: 1.406046078836315\n",
      "6 terms - Training error: 1.3768283020278977, Validation error: 1.4001578722552954\n",
      "7 terms - Training error: 1.3763781555638457, Validation error: 1.395822653883167\n",
      "8 terms - Training error: 1.3761673625613593, Validation error: 1.3958790943999095\n",
      "9 terms - Training error: 1.3761602019542605, Validation error: 1.3958143897158535\n",
      "1 terms - Training error: 1.430007623221157, Validation error: 1.3696621731387375\n",
      "1 terms - Training error: 1.4297961549488536, Validation error: 1.3726158528151855\n",
      "2 terms - Training error: 1.4262270808079462, Validation error: 1.3772644596992842\n",
      "3 terms - Training error: 1.4221076775678596, Validation error: 1.383556748339284\n",
      "4 terms - Training error: 1.4206967526537868, Validation error: 1.3825088392860108\n",
      "5 terms - Training error: 1.4194283995842707, Validation error: 1.3854742159089588\n",
      "6 terms - Training error: 1.3854403836846236, Validation error: 1.3653048520334072\n",
      "7 terms - Training error: 1.3825760648463654, Validation error: 1.3708070130580932\n",
      "8 terms - Training error: 1.382473467039965, Validation error: 1.370011131575189\n",
      "9 terms - Training error: 1.382416873143821, Validation error: 1.370645918303263\n",
      "1 terms - Training error: 1.4179385332046732\n",
      "1 terms - Training error: 1.417886864707796\n",
      "2 terms - Training error: 1.4157981639810364\n",
      "3 terms - Training error: 1.4135439016645324\n",
      "4 terms - Training error: 1.4121406929748628\n",
      "5 terms - Training error: 1.4115724324454937\n",
      "6 terms - Training error: 1.3804128882754851\n",
      "7 terms - Training error: 1.3790214531868301\n"
     ]
    },
    {
     "name": "stderr",
     "output_type": "stream",
     "text": [
      "\r",
      "\u001b[32mProgress:  17%|██████▉                                  |  ETA: 0:00:02\u001b[39m"
     ]
    },
    {
     "name": "stdout",
     "output_type": "stream",
     "text": [
      "8 terms - Training error: 1.3787373402519847\n",
      "1 terms - Training error: 1.4081002405110596, Validation error: 1.4572917039791258\n",
      "1 terms - Training error: 1.4080581775045067, Validation error: 1.4571579989580485\n",
      "2 terms - Training error: 1.0733440675815513, Validation error: 1.0783767350307116\n",
      "3 terms - Training error: 1.0731432376772991, Validation error: 1.0793223742659075\n",
      "4 terms - Training error: 1.036795462454454, Validation error: 1.0368208416577878\n",
      "5 terms - Training error: 1.0367301939901874, Validation error: 1.0370432442962738\n",
      "6 terms - Training error: 1.035352493837663, Validation error: 1.033074579758946\n",
      "7 terms - Training error: 1.0351855357827493, Validation error: 1.0329548585639405\n",
      "8 terms - Training error: 0.7727814484714086, Validation error: 0.8003949118956468\n",
      "9 terms - Training error: 0.7710103895811699, Validation error: 0.8010311623576807\n",
      "1 terms - Training error: 1.3947347942418242, Validation error: 1.5107534890560672\n",
      "1 terms - Training error: 1.3947091817289703, Validation error: 1.5109229139401887\n",
      "2 terms - Training error: 1.3924796977958191, Validation error: 1.5186235451242114\n",
      "3 terms - Training error: 1.3913179310185702, Validation error: 1.522305278105713\n",
      "4 terms - Training error: 1.3819791644759514, Validation error: 1.4962695442154874\n",
      "5 terms - Training error: 1.3811001012463369, Validation error: 1.490972432131384\n",
      "6 terms - Training error: 1.343148976945024, Validation error: 1.4188518490408228\n",
      "7 terms - Training error: 1.342711605120344, Validation error: 1.413906618226827\n",
      "8 terms - Training error: 0.7689294131567932, Validation error: 0.712255191236369\n",
      "9 terms - Training error: 0.7667482024212285, Validation error: 0.7241955447391658\n",
      "1 terms - Training error: 1.415810744479055, Validation error: 1.4264496881071447\n",
      "1 terms - Training error: 1.4157154560672216, Validation error: 1.4265359802801478\n",
      "2 terms - Training error: 1.0723492479448, Validation error: 1.0819393568975728\n",
      "3 terms - Training error: 1.0721684835643928, Validation error: 1.082706154035422\n",
      "4 terms - Training error: 1.0361275182408904, Validation error: 1.0396659737552176\n",
      "5 terms - Training error: 1.0360473329645554, Validation error: 1.040008454601499\n",
      "6 terms - Training error: 1.0333475779667196, Validation error: 1.0418423356767499\n",
      "7 terms - Training error: 1.0329899967956087, Validation error: 1.0406203555689821\n",
      "8 terms - Training error: 1.032989360362731, Validation error: 1.0405187322426341\n",
      "9 terms - Training error: 0.7638817738047378, Validation error: 0.825024662701988\n",
      "1 terms - Training error: 1.448966130071179, Validation error: 1.2938281457386487\n",
      "1 terms - Training error: 1.4485323706612065, Validation error: 1.2960936048576674\n",
      "2 terms - Training error: 1.0719728223485585, Validation error: 1.0861263415162588\n",
      "3 terms - Training error: 1.0719664934034439, Validation error: 1.0860331792216047\n",
      "4 terms - Training error: 1.0317743087555868, Validation error: 1.0589579562337728\n",
      "5 terms - Training error: 1.0316746826599084, Validation error: 1.0603548867575303\n",
      "6 terms - Training error: 1.0290840566758175, Validation error: 1.0619037135670415\n",
      "7 terms - Training error: 1.02874535980257, Validation error: 1.0604856671685106\n",
      "8 terms - Training error: 1.0287346548281069, Validation error: 1.0601736933919437\n",
      "9 terms - Training error: 0.7785464778815296, Validation error: 0.7713512927123364\n",
      "1 terms - Training error: 1.4220807567202463, Validation error: 1.4013696391423778\n",
      "1 terms - Training error: 1.4217927381077646, Validation error: 1.403759018043973\n",
      "2 terms - Training error: 1.4157773883310116, Validation error: 1.426929467761877\n",
      "3 terms - Training error: 1.0776798210915217, Validation error: 1.0614359689827864\n",
      "4 terms - Training error: 0.8505314808150156, Validation error: 0.8059697243343515\n",
      "5 terms - Training error: 0.8498423614864282, Validation error: 0.8060826939326171\n",
      "6 terms - Training error: 0.8394289683831437, Validation error: 0.782735292617011\n",
      "7 terms - Training error: 0.8357290767034633, Validation error: 0.7837005910977752\n",
      "8 terms - Training error: 0.7563952732550611, Validation error: 0.751443703341819\n"
     ]
    },
    {
     "name": "stderr",
     "output_type": "stream",
     "text": [
      "\r",
      "\u001b[32mProgress:  33%|█████████████▋                           |  ETA: 0:00:01\u001b[39m"
     ]
    },
    {
     "name": "stdout",
     "output_type": "stream",
     "text": [
      "9 terms - Training error: 0.7554474911914053, Validation error: 0.7512411287228776\n",
      "1 terms - Training error: 1.4179385332046728\n",
      "1 terms - Training error: 1.417876018945938\n",
      "2 terms - Training error: 1.0742529520614625\n",
      "3 terms - Training error: 1.0742127244556938\n",
      "4 terms - Training error: 1.0366709893963149\n",
      "5 terms - Training error: 1.0365704025819875\n",
      "6 terms - Training error: 0.7864349280713125\n",
      "7 terms - Training error: 0.7840218763271446\n",
      "8 terms - Training error: 0.7341024749119388\n",
      "9 terms - Training error: 0.7336477331626619\n",
      "10 terms - Training error: 0.6534919100623345\n",
      "1 terms - Training error: 1.4123953552426587, Validation error: 1.4401112450527285\n",
      "1 terms - Training error: 1.4016176699846712, Validation error: 1.4326570809647001\n",
      "2 terms - Training error: 1.140599370187145, Validation error: 1.1239425710046942\n",
      "3 terms - Training error: 1.0550975482286205, Validation error: 1.0197977442791057\n",
      "4 terms - Training error: 0.9100369718004122, Validation error: 0.8230980401432921\n",
      "5 terms - Training error: 0.885966438262707, Validation error: 0.80938201943975\n",
      "6 terms - Training error: 0.8641797706403326, Validation error: 0.77182071343069\n",
      "7 terms - Training error: 0.5393324061940599, Validation error: 0.4480206287605337\n",
      "8 terms - Training error: 0.5189658804060824, Validation error: 0.4448621390343509\n",
      "9 terms - Training error: 0.5115203936275862, Validation error: 0.4238416191041948\n",
      "1 terms - Training error: 1.4119213971361735, Validation error: 1.4420070774786684\n",
      "1 terms - Training error: 1.4041610120584438, Validation error: 1.4232764822785888\n",
      "2 terms - Training error: 1.1271386965533736, Validation error: 1.1781996391508704\n",
      "3 terms - Training error: 1.0455247608760418, Validation error: 1.0584304797788762\n",
      "4 terms - Training error: 0.8880641672360353, Validation error: 0.9093412715220712\n",
      "5 terms - Training error: 0.8637040487652325, Validation error: 0.8975515616090204\n",
      "6 terms - Training error: 0.8388926874359566, Validation error: 0.8711354636679771\n",
      "7 terms - Training error: 0.5283017670054743, Validation error: 0.4965704430089454\n",
      "8 terms - Training error: 0.5151234478218788, Validation error: 0.4660613591697723\n",
      "9 terms - Training error: 0.5027909666171979, Validation error: 0.46266924301234863\n",
      "1 terms - Training error: 1.445663278724477, Validation error: 1.3070395511254556\n",
      "1 terms - Training error: 1.4343411537846404, Validation error: 1.301914440881132\n",
      "2 terms - Training error: 1.1353232965958047, Validation error: 1.1467639902445566\n",
      "3 terms - Training error: 1.0442959563373344, Validation error: 1.06343866771166\n",
      "4 terms - Training error: 0.8915530331633117, Validation error: 0.8959173160399225\n",
      "5 terms - Training error: 0.8749909752621824, Validation error: 0.8538791533287718\n",
      "6 terms - Training error: 0.8483970778896657, Validation error: 0.8351052947235634\n",
      "7 terms - Training error: 0.49407610925713596, Validation error: 0.6378297469839529\n",
      "8 terms - Training error: 0.48153050318187435, Validation error: 0.602467598457345\n",
      "9 terms - Training error: 0.4718208016949816, Validation error: 0.5876040791093117\n",
      "1 terms - Training error: 1.3928961564539157, Validation error: 1.5181080402077003\n",
      "1 terms - Training error: 1.3803074980644419, Validation error: 1.5185765815932313\n",
      "2 terms - Training error: 1.1418596636302973, Validation error: 1.1199624498565774\n",
      "3 terms - Training error: 1.0497046284409504, Validation error: 1.0411316835461533\n",
      "4 terms - Training error: 0.8787380665275129, Validation error: 0.9478161989285931\n",
      "5 terms - Training error: 0.8570817408086528, Validation error: 0.9244814408458861\n",
      "6 terms - Training error: 0.8284696434999276, Validation error: 0.9158464851830054\n",
      "7 terms - Training error: 0.5235161023976039, Validation error: 0.5103481718739473\n",
      "8 terms - Training error: 0.5032658376080754, Validation error: 0.5069272463147204\n",
      "9 terms - Training error: 0.4905959444154759, Validation error: 0.5058314901989657\n",
      "1 terms - Training error: 1.4268164784661377, Validation error: 1.382426752158811\n",
      "1 terms - Training error: 1.4182538536776281, Validation error: 1.3663740136812026\n",
      "2 terms - Training error: 1.1403001860615807, Validation error: 1.1249429890468612\n",
      "3 terms - Training error: 1.0448595394343756, Validation error: 1.060808262996638\n",
      "4 terms - Training error: 0.8896230509688737, Validation error: 0.9021195333135279\n",
      "5 terms - Training error: 0.8651479109177744, Validation error: 0.8902504666554908\n",
      "6 terms - Training error: 0.840858086371473, Validation error: 0.861910797249998\n",
      "7 terms - Training error: 0.5078835918903708, Validation error: 0.5766076814627162\n"
     ]
    },
    {
     "name": "stderr",
     "output_type": "stream",
     "text": [
      "\r",
      "\u001b[32mProgress:  50%|████████████████████▌                    |  ETA: 0:00:01\u001b[39m"
     ]
    },
    {
     "name": "stdout",
     "output_type": "stream",
     "text": [
      "8 terms - Training error: 0.4879149736935895, Validation error: 0.5704467767038609\n",
      "9 terms - Training error: 0.47769251345351926, Validation error: 0.5597801623291082\n",
      "1 terms - Training error: 1.4179385332046728\n",
      "1 terms - Training error: 1.4078185756635184\n",
      "2 terms - Training error: 1.1372156662345754\n",
      "3 terms - Training error: 1.0479791013720638\n",
      "4 terms - Training error: 0.8920086831805166\n",
      "5 terms - Training error: 0.8699494167003657\n",
      "6 terms - Training error: 0.8448560681046455\n",
      "7 terms - Training error: 0.5201346175662024\n",
      "8 terms - Training error: 0.5030282799419599\n",
      "9 terms - Training error: 0.4925796008052932\n",
      "10 terms - Training error: 0.4915936404496708\n",
      "1 terms - Training error: 1.4018770543251673, Validation error: 1.4821844487226943\n",
      "1 terms - Training error: 1.4015683271656272, Validation error: 1.4836959806782468\n",
      "2 terms - Training error: 1.3985322982778914, Validation error: 1.487205751173732\n",
      "3 terms - Training error: 1.3972781875288112, Validation error: 1.49444581783891\n",
      "4 terms - Training error: 1.396742200753504, Validation error: 1.4886728178987951\n",
      "5 terms - Training error: 1.3952487171019776, Validation error: 1.489041898481217\n",
      "6 terms - Training error: 1.3938947118939014, Validation error: 1.4873477604636147\n",
      "7 terms - Training error: 1.3904611959550628, Validation error: 1.4863682836940053\n",
      "8 terms - Training error: -0.4748200859040383, Validation error: -0.1410206072133112\n",
      "9 terms - Training error: -0.47923842177693327, Validation error: -0.1430423547957952\n",
      "1 terms - Training error: 1.404408950776977, Validation error: 1.4720568629154547\n",
      "1 terms - Training error: 1.4043877386444987, Validation error: 1.472345729440959\n",
      "2 terms - Training error: 1.075192656910234, Validation error: 1.0556042505765573\n",
      "3 terms - Training error: 1.0744524195398115, Validation error: 1.0506687889681476\n",
      "4 terms - Training error: 1.073846229940692, Validation error: 1.0490615590934609\n",
      "5 terms - Training error: 1.0634139473717292, Validation error: 1.0464140225840526\n",
      "6 terms - Training error: 0.9611342951836459, Validation error: 0.9667785756351257\n",
      "7 terms - Training error: 0.9608845134322911, Validation error: 0.9679561367807596\n",
      "8 terms - Training error: 0.9457717619898717, Validation error: 0.9491458855505771\n",
      "9 terms - Training error: 0.945611335810724, Validation error: 0.9491028184619785\n",
      "1 terms - Training error: 1.4305801122696065, Validation error: 1.3673722169449374\n",
      "1 terms - Training error: 1.4304680459017127, Validation error: 1.3672571635583917\n",
      "2 terms - Training error: 0.9682130314620037, Validation error: 0.9452710115252092\n",
      "3 terms - Training error: 0.9680134447129758, Validation error: 0.9451021263723306\n",
      "4 terms - Training error: 0.9206201916709786, Validation error: 0.919860258627659\n",
      "5 terms - Training error: 0.9199090037872587, Validation error: 0.9191692322227195\n",
      "6 terms - Training error: -0.3974978022096122, Validation error: -0.6582139528434434\n",
      "7 terms - Training error: -0.39953649059977053, Validation error: -0.6643940307133049\n",
      "8 terms - Training error: -0.5160213493191326, Validation error: -0.8021611908628514\n",
      "9 terms - Training error: -0.5350067872133231, Validation error: -0.8355159511785432\n",
      "1 terms - Training error: 1.4228181294686664, Validation error: 1.398420148148698\n",
      "1 terms - Training error: 1.4223349529695184, Validation error: 1.401192789979366\n",
      "2 terms - Training error: 1.4190488523672897, Validation error: 1.4044597701164094\n",
      "3 terms - Training error: 1.416329213339007, Validation error: 1.4042996702212172\n",
      "4 terms - Training error: 1.4140722660761365, Validation error: 1.4068061113406405\n",
      "5 terms - Training error: 1.4129376351389902, Validation error: 1.4098406756657755\n",
      "6 terms - Training error: 1.4125838089384297, Validation error: 1.409598960960724\n",
      "7 terms - Training error: 1.4118166304440176, Validation error: 1.4094936267264973\n",
      "8 terms - Training error: 1.3746905056990313, Validation error: 1.4040586094631187\n",
      "9 terms - Training error: 1.373397465800946, Validation error: 1.3968728432181867\n",
      "1 terms - Training error: 1.430008419182946, Validation error: 1.3696589892915791\n",
      "1 terms - Training error: 1.429428449666417, Validation error: 1.3737853428392082\n",
      "2 terms - Training error: 1.4280919653833106, Validation error: 1.3883221031217337\n",
      "3 terms - Training error: 1.4233611292978192, Validation error: 1.3868373034016241\n",
      "4 terms - Training error: 0.9636164952033585, Validation error: 0.9615531374312153\n",
      "5 terms - Training error: 0.9634573107685497, Validation error: 0.9626564685266947\n",
      "6 terms - Training error: 0.9630935969343729, Validation error: 0.9630895269476057\n",
      "7 terms - Training error: 0.9624003270223697, Validation error: 0.9625703124134812\n",
      "8 terms - Training error: 0.9622748055986242, Validation error: 0.9634530959074447\n",
      "9 terms - Training error: 0.9204937023026561, Validation error: 0.9200788976856407\n",
      "1 terms - Training error: 1.4179385332046728\n",
      "1 terms - Training error: 1.417825869431766\n",
      "2 terms - Training error: 0.9635878776064346\n",
      "3 terms - Training error: 0.9633918054947994\n",
      "4 terms - Training error: 0.9204508088848845\n",
      "5 terms - Training error: 0.9197431854939736\n",
      "6 terms - Training error: -0.4530883401176555\n",
      "7 terms - Training error: -0.4560136523377813\n",
      "8 terms - Training error: -0.5755605275136759\n",
      "9 terms - Training error: -0.5976259249326682\n"
     ]
    },
    {
     "name": "stderr",
     "output_type": "stream",
     "text": [
      "\r",
      "\u001b[32mProgress:  67%|███████████████████████████▍             |  ETA: 0:00:01\u001b[39m"
     ]
    },
    {
     "name": "stdout",
     "output_type": "stream",
     "text": [
      "10 terms - Training error: -3.2703978422908855\n",
      "1 terms - Training error: 1.4080998012786006, Validation error: 1.4572934609089623\n",
      "1 terms - Training error: 1.4080577404339871, Validation error: 1.4571597567332681\n",
      "2 terms - Training error: 1.0733438374548716, Validation error: 1.0783736852414463\n",
      "3 terms - Training error: 1.0731430243671443, Validation error: 1.0793192668109135\n",
      "4 terms - Training error: 1.0367958319073056, Validation error: 1.0368184203119768\n",
      "5 terms - Training error: 1.0364012766505113, Validation error: 1.0368065962541588\n",
      "6 terms - Training error: 1.0340089772343861, Validation error: 1.0373297670203059\n",
      "7 terms - Training error: 1.0310556847485217, Validation error: 1.035862299624964\n",
      "8 terms - Training error: 0.9552240400140796, Validation error: 0.9648534530323446\n",
      "9 terms - Training error: 0.9545825918135367, Validation error: 0.966286013684114\n",
      "1 terms - Training error: 1.3947342226057768, Validation error: 1.5107557756002574\n",
      "1 terms - Training error: 1.3946846380695002, Validation error: 1.5110766961411026\n",
      "2 terms - Training error: 0.9796125581449187, Validation error: 1.0033110013884734\n",
      "3 terms - Training error: 0.9794283277484278, Validation error: 1.0019495996503356\n",
      "4 terms - Training error: 0.9790197062970085, Validation error: 1.003512560837005\n",
      "5 terms - Training error: 0.9217581948860621, Validation error: 0.9223691645683725\n",
      "6 terms - Training error: 0.9214223945975861, Validation error: 0.9242909171768249\n",
      "7 terms - Training error: -0.4465873132406147, Validation error: 0.021940742210682686\n",
      "8 terms - Training error: -0.4469062000503827, Validation error: 0.022833144097283865\n",
      "9 terms - Training error: -0.44811192305245584, Validation error: 0.012224237714206785\n",
      "1 terms - Training error: 1.4158118844534142, Validation error: 1.4264451282097077\n",
      "1 terms - Training error: 1.4157165901796174, Validation error: 1.4265314814763435\n",
      "2 terms - Training error: 1.0723472325321752, Validation error: 1.0819402503548365\n",
      "3 terms - Training error: 1.072166375037058, Validation error: 1.082707175390865\n",
      "4 terms - Training error: 1.0361256973661206, Validation error: 1.0396663412302731\n",
      "5 terms - Training error: 1.0358271658242157, Validation error: 1.0391856675672653\n",
      "6 terms - Training error: 1.0345718821460612, Validation error: 1.0350608848690783\n",
      "7 terms - Training error: 1.0319975992018167, Validation error: 1.0319942013971588\n",
      "8 terms - Training error: 0.9583571744183046, Validation error: 0.9527135963733672\n",
      "9 terms - Training error: 0.9577692552183742, Validation error: 0.951963612444657\n",
      "1 terms - Training error: 1.448967406186793, Validation error: 1.2938230412761929\n",
      "1 terms - Training error: 1.4485336660445869, Validation error: 1.2960883860035333\n",
      "2 terms - Training error: 1.0719725818889332, Validation error: 1.0861234345757933\n",
      "3 terms - Training error: 1.0714495929218009, Validation error: 1.0871960883286735\n",
      "4 terms - Training error: 0.9868756047314865, Validation error: 0.9606842941921873\n",
      "5 terms - Training error: 0.986716210191192, Validation error: 0.9602097796806501\n",
      "6 terms - Training error: 0.986666244050635, Validation error: 0.9601129286456611\n",
      "7 terms - Training error: 0.9574785209611599, Validation error: 0.9588043069246568\n",
      "8 terms - Training error: 0.9569171524071076, Validation error: 0.9597575317106993\n",
      "9 terms - Training error: 0.9564878119231839, Validation error: 0.9644148055261021\n",
      "1 terms - Training error: 1.4220793514987802, Validation error: 1.4013752600282454\n",
      "1 terms - Training error: 1.4217913420240182, Validation error: 1.4037645417875722\n",
      "2 terms - Training error: 1.4157759258930591, Validation error: 1.4269354742996667\n",
      "3 terms - Training error: 1.0776785229100907, Validation error: 1.061437289174475\n",
      "4 terms - Training error: 0.8505280031452868, Validation error: 0.8059770833006439\n",
      "5 terms - Training error: 0.8498388617587095, Validation error: 0.8060901343867756\n",
      "6 terms - Training error: 0.8394249705662311, Validation error: 0.7827412571048079\n",
      "7 terms - Training error: 0.8357247265825177, Validation error: 0.7837087327702635\n",
      "8 terms - Training error: 0.7563919220382513, Validation error: 0.7514580884926205\n",
      "9 terms - Training error: 0.7554440302000484, Validation error: 0.7521124702896446\n",
      "1 terms - Training error: 1.4179385332046728\n",
      "1 terms - Training error: 1.4178760206813723\n",
      "2 terms - Training error: 1.074252153189579\n",
      "3 terms - Training error: 1.074211930862518\n",
      "4 terms - Training error: 1.036670804849227\n",
      "5 terms - Training error: 1.0363450022998297\n",
      "6 terms - Training error: 1.0344861318111385\n",
      "7 terms - Training error: 1.0318305530609786\n"
     ]
    },
    {
     "name": "stderr",
     "output_type": "stream",
     "text": [
      "\r",
      "\u001b[32mProgress:  83%|██████████████████████████████████▏      |  ETA: 0:00:00\u001b[39m"
     ]
    },
    {
     "name": "stdout",
     "output_type": "stream",
     "text": [
      "8 terms - Training error: 0.9570252070090908\n",
      "9 terms - Training error: 0.9567090168472101\n",
      "10 terms - Training error: 0.9563985711905413\n",
      "1 terms - Training error: 1.4123947404755195, Validation error: 1.4401137041212864\n",
      "1 terms - Training error: 1.4016169744147249, Validation error: 1.432659648385565\n",
      "2 terms - Training error: 1.1405985349699514, Validation error: 1.1239406561228706\n",
      "3 terms - Training error: 0.9985870323612338, Validation error: 0.9912429520939906\n",
      "4 terms - Training error: 0.9403698157798447, Validation error: 0.9439738401553249\n",
      "5 terms - Training error: 0.9384447881059181, Validation error: 0.9416371994502728\n",
      "6 terms - Training error: 0.937597580515261, Validation error: 0.9403055432511719\n",
      "7 terms - Training error: 0.9202559118009801, Validation error: 0.9200165738020718\n",
      "8 terms - Training error: 0.9144372112017928, Validation error: 0.9224161776151775\n",
      "9 terms - Training error: -0.5997723261425851, Validation error: -0.5329064589863538\n",
      "1 terms - Training error: 1.411921111921328, Validation error: 1.4420082183380525\n",
      "1 terms - Training error: 1.4041607039382453, Validation error: 1.4232775068289665\n",
      "2 terms - Training error: 1.1271386764605769, Validation error: 1.178201078385615\n",
      "3 terms - Training error: 1.0015216871008292, Validation error: 0.9801360301492658\n",
      "4 terms - Training error: 0.9409942662767505, Validation error: 0.9418701957389966\n",
      "5 terms - Training error: 0.9392800647998856, Validation error: 0.9388443520124091\n",
      "6 terms - Training error: 0.9383232888635473, Validation error: 0.9378754356379669\n",
      "7 terms - Training error: 0.9203085967178148, Validation error: 0.919804770194345\n",
      "8 terms - Training error: 0.9174717481023522, Validation error: 0.9103990257202371\n",
      "9 terms - Training error: -0.6160898335706279, Validation error: -0.4648666820146924\n",
      "1 terms - Training error: 1.4456632066037887, Validation error: 1.3070398396082092\n",
      "1 terms - Training error: 1.4343411315068264, Validation error: 1.3019142830358097\n",
      "2 terms - Training error: 1.1353222906993006, Validation error: 1.1467622520617824\n",
      "3 terms - Training error: 0.9912350239859731, Validation error: 1.0210833161870763\n",
      "4 terms - Training error: 0.9426217759802061, Validation error: 0.9358429877403716\n",
      "5 terms - Training error: 0.940773478504795, Validation error: 0.9330566259137641\n",
      "6 terms - Training error: 0.9393756654788264, Validation error: 0.934106796956175\n",
      "7 terms - Training error: 0.920358835266128, Validation error: 0.9196596153095216\n",
      "8 terms - Training error: 0.915934612308086, Validation error: 0.9159135319874727\n",
      "9 terms - Training error: -0.4696776719897518, Validation error: -1.0293203136690012\n",
      "1 terms - Training error: 1.392897921268489, Validation error: 1.5181009809494088\n",
      "1 terms - Training error: 1.3803091296864765, Validation error: 1.5185698808684323\n",
      "2 terms - Training error: 1.1418598365499777, Validation error: 1.1199563801124663\n",
      "3 terms - Training error: 0.995573432812207, Validation error: 1.0032855174818984\n",
      "4 terms - Training error: 0.9377261348147626, Validation error: 0.9560494126781851\n",
      "5 terms - Training error: 0.935926237444057, Validation error: 0.9531398954602044\n",
      "6 terms - Training error: 0.9354783053778077, Validation error: 0.9504900646621672\n",
      "7 terms - Training error: 0.9196688660733394, Validation error: 0.9228373311942263\n",
      "8 terms - Training error: 0.912492796755374, Validation error: 0.9325402875460861\n",
      "9 terms - Training error: -0.7352424474343076, Validation error: 0.2086405074286814\n",
      "1 terms - Training error: 1.4268156857542398, Validation error: 1.3824299230064063\n",
      "1 terms - Training error: 1.4182530219391654, Validation error: 1.36637712179908\n",
      "2 terms - Training error: 1.1402981830002958, Validation error: 1.12494567080356\n",
      "3 terms - Training error: 0.9979543581247028, Validation error: 0.9935557896679196\n",
      "4 terms - Training error: 0.9431729629788556, Validation error: 0.9327676191300551\n",
      "5 terms - Training error: 0.9403730194753537, Validation error: 0.9344265939397108\n",
      "6 terms - Training error: 0.9391998901573314, Validation error: 0.9344486188915871\n",
      "7 terms - Training error: 0.9203161750763943, Validation error: 0.9197886471894361\n",
      "8 terms - Training error: 0.9180370622890156, Validation error: 0.9090534025938478\n",
      "9 terms - Training error: -0.5556041436555138, Validation error: -0.697621407944133\n",
      "1 terms - Training error: 1.417938533204673\n",
      "1 terms - Training error: 1.4078185317990202\n",
      "2 terms - Training error: 1.1372145969477059\n",
      "3 terms - Training error: 0.9970616457251098\n",
      "4 terms - Training error: 0.9410858475264098\n",
      "5 terms - Training error: 0.9390815590252656\n",
      "6 terms - Training error: 0.9381350936875695\n",
      "7 terms - Training error: 0.9202042665385209\n",
      "8 terms - Training error: 0.9159081623329335\n"
     ]
    },
    {
     "name": "stderr",
     "output_type": "stream",
     "text": [
      "\r",
      "\u001b[32mProgress: 100%|█████████████████████████████████████████| Time: 0:00:01\u001b[39m\n"
     ]
    },
    {
     "name": "stdout",
     "output_type": "stream",
     "text": [
      "9 terms - Training error: -0.587351948626735\n",
      "10 terms - Training error: -0.6657983670245594\n",
      "  1.890508 seconds (1.26 M allocations: 2.939 GiB, 8.79% gc time)\n"
     ]
    },
    {
     "data": {
      "text/plain": [
       "HermiteMap(10, 6, LinearTransform(6, [0.4147432940129076, 0.16516928040533463, 23.185696156541045, 0.4142537177229937, 0.16468411727530424, 23.185208293342406], [7.605649175105361 0.0 … 0.0 0.0; 0.0 8.937206142197835 … 0.0 0.0; … ; 0.0 0.0 … 8.937225951689017 0.0; 0.0 0.0 … 0.0 8.356337886751735], true), MapComponent[Map component of dimension 1 with Nψ 8 active features\n",
       ", Map component of dimension 2 with Nψ 10 active features\n",
       ", Map component of dimension 3 with Nψ 10 active features\n",
       ", Map component of dimension 4 with Nψ 10 active features\n",
       ", Map component of dimension 5 with Nψ 10 active features\n",
       ", Map component of dimension 6 with Nψ 10 active features\n",
       "])"
      ]
     },
     "execution_count": 225,
     "metadata": {},
     "output_type": "execute_result"
    }
   ],
   "source": [
    "@time optimize(S, X, \"kfolds\"; withqr = true, verbose = true, hessprecond = true)"
   ]
  },
  {
   "cell_type": "code",
   "execution_count": 226,
   "metadata": {},
   "outputs": [
    {
     "data": {
      "text/plain": [
       "145.69621986411786"
      ]
     },
     "execution_count": 226,
     "metadata": {},
     "output_type": "execute_result"
    }
   ],
   "source": [
    "# Conditioning number of the basis evaluation on the different samples\n",
    "cond(evaluate_basis(S[1].I.f.f,  transform(X[1:1,:])))"
   ]
  },
  {
   "cell_type": "code",
   "execution_count": 227,
   "metadata": {},
   "outputs": [
    {
     "data": {
      "text/plain": [
       "QRscaling([-22.36067977499789 -0.7192395394428297 … 3.487316104131349 1.263135913615813; 0.0 -22.34910947856541 … -0.5960342430510772 2.231850829980256; … ; 0.0 0.0 … 2.3567764691736994 0.2627395987615587; 0.0 0.0 … 0.0 1.0976714496580928], [-0.04472135954999581 0.0014392237899610878 … 0.14271114743145338 -0.04496039352748301; 0.0 -0.0447445121229139 … -0.03043090009552689 0.6689149400212299; … ; 0.0 0.0 … 0.4243083775995974 -0.10156282457415762; 0.0 0.0 … 0.0 0.9110194132419898], [0.525992748576151 0.0 … 0.0 0.0; 0.0 0.3836867233680237 … 0.0 0.0; … ; 0.0 0.0 … 0.25049854676258415 0.0; 0.0 0.0 … 0.0 0.2482548267582635], [1.9011668938535267 0.0 … 0.0 0.0; 0.0 2.6062929444676732 … 0.0 0.0; … ; 0.0 0.0 … 3.992039127267965 0.0; 0.0 0.0 … 0.0 4.0281190624089795], [-11.76155541488229 -0.2759626622055458 … 0.8735676161866596 0.3135795874068345; 0.0 -8.575056586024003 … -0.1493057117050317 0.554067741147035; … ; 0.0 0.0 … 0.5903690805722659 0.06522637357308642; 0.0 0.0 … 0.0 0.2725022355723618], [-0.08502276822457228 0.0027362046223204217 … 0.2713177088805289 -0.08547721170907707; 0.0 -0.11661730624959878 … -0.07931184021277238 1.7433882886263483; … ; 0.0 0.0 … 1.693855645405183 -0.40544276957588965; 0.0 0.0 … 0.0 3.6696946647047026], [0.007228871116569337 -0.00023263969141855252 … -0.023068182677371186 0.007267509159623556; -0.00023263969141855252 0.013607082932647917 … 0.00999151392846841 -0.2035431291084842; … ; -0.023068182677371186 0.00999151392846841 … 14.33500967882424 -5.924594187398989; 0.007267509159623556 -0.2035431291084842 … -5.924594187398989 117.85002306831056])"
      ]
     },
     "execution_count": 227,
     "metadata": {},
     "output_type": "execute_result"
    }
   ],
   "source": [
    "stor = Storage(S[1].I.f, transform(X[1:1,:]))\n",
    "q = QRscaling(stor)"
   ]
  },
  {
   "cell_type": "code",
   "execution_count": 228,
   "metadata": {},
   "outputs": [
    {
     "data": {
      "image/png": "[encoded data removed]"
     },
     "execution_count": 228,
     "metadata": {},
     "output_type": "execute_result"
    }
   ],
   "source": [
    "heatmap(log10.(abs.(q.R)), yflip =true, ratio = 1, colorbartitle = L\"\\log_{10}(R)\")\n",
    "# savefig(\"R_matrix.pdf\")"
   ]
  },
  {
   "cell_type": "code",
   "execution_count": 229,
   "metadata": {},
   "outputs": [
    {
     "data": {
      "text/plain": [
       "111.73006949193427"
      ]
     },
     "execution_count": 229,
     "metadata": {},
     "output_type": "execute_result"
    }
   ],
   "source": [
    "cond(q.R)"
   ]
  },
  {
   "cell_type": "code",
   "execution_count": 230,
   "metadata": {},
   "outputs": [
    {
     "data": {
      "text/plain": [
       "10-element Array{Float64,1}:\n",
       "  33.959096143823366\n",
       " -17.58546716612034\n",
       " -16.235949022832965\n",
       "   8.813689966195863\n",
       "  -1.7050985733016515\n",
       "  -3.56942316726535\n",
       "   5.585283777672776\n",
       "   0.8216500288395603\n",
       "   2.0077806981409916\n",
       "  -0.23594739642931903"
      ]
     },
     "execution_count": 230,
     "metadata": {},
     "output_type": "execute_result"
    }
   ],
   "source": [
    "getcoeff(S[3])"
   ]
  },
  {
   "cell_type": "code",
   "execution_count": 231,
   "metadata": {},
   "outputs": [
    {
     "data": {
      "text/plain": [
       "3.1025640154972476e12"
      ]
     },
     "execution_count": 231,
     "metadata": {},
     "output_type": "execute_result"
    }
   ],
   "source": [
    "cond(evaluate_basis(S[6].I.f.f, X[1:6,:]))"
   ]
  },
  {
   "cell_type": "code",
   "execution_count": 233,
   "metadata": {},
   "outputs": [
    {
     "data": {
      "text/plain": [
       "8×8 Array{Float64,2}:\n",
       "  0.000855228   2.89794e-5    0.000445319  …  -0.0192592    0.0102198\n",
       "  2.89794e-5    0.000477728   4.98451e-5      -0.00618659   0.0332823\n",
       "  0.000445319   4.98451e-5    0.000963436     -0.0223839    0.0286507\n",
       "  0.000119766  -0.000450165  -0.000285952      0.0105203   -0.113838\n",
       "  0.0038021     0.000794907   0.00320292      -0.209096     0.192488\n",
       " -0.000917555  -0.00482533   -0.00372891   …   0.206165    -1.30508\n",
       " -0.0192592    -0.00618659   -0.0223839        1.29411     -1.55719\n",
       "  0.0102198     0.0332823     0.0286507       -1.55719      8.43712"
      ]
     },
     "execution_count": 233,
     "metadata": {},
     "output_type": "execute_result"
    }
   ],
   "source": [
    "P = zeros(ncoeff(S[1]), ncoeff(S[1]))\n",
    "precond!(P, getcoeff(S[1]), stor, S[1], X[1:1,:])\n",
    "\n",
    "Pqr = zeros(ncoeff(S[1]), ncoeff(S[1]))\n",
    "qrprecond!(Pqr, q.U*getcoeff(S[1]), q, stor, S[1], X[1:1,:])"
   ]
  },
  {
   "cell_type": "code",
   "execution_count": 237,
   "metadata": {},
   "outputs": [
    {
     "data": {
      "text/plain": [
       "61.59830326535166"
      ]
     },
     "execution_count": 237,
     "metadata": {},
     "output_type": "execute_result"
    }
   ],
   "source": [
    "cond(P)"
   ]
  },
  {
   "cell_type": "code",
   "execution_count": 238,
   "metadata": {},
   "outputs": [
    {
     "data": {
      "text/plain": [
       "31758.93211493227"
      ]
     },
     "execution_count": 238,
     "metadata": {},
     "output_type": "execute_result"
    }
   ],
   "source": [
    "cond(Pqr)"
   ]
  },
  {
   "cell_type": "code",
   "execution_count": 239,
   "metadata": {},
   "outputs": [
    {
     "data": {
      "image/png": "[encoded data removed]"
     },
     "execution_count": 239,
     "metadata": {},
     "output_type": "execute_result"
    }
   ],
   "source": [
    "plot(S)"
   ]
  },
  {
   "cell_type": "code",
   "execution_count": 240,
   "metadata": {},
   "outputs": [
    {
     "data": {
      "text/plain": [
       "6×6 Array{Float64,2}:\n",
       "    6.19366e12      2.17437e7  9500.11       …   2629.85    7381.15\n",
       "    2.17437e7       1.51784e7  6547.25          15371.3        0.0\n",
       " 9500.11         6547.25          3.50522e9        38.8805     3.18417e9\n",
       "    6.14969e12      0.0           0.0               0.0        0.0\n",
       " 2629.85        15371.3          38.8805        30243.6       26.145\n",
       " 7381.15            0.0           3.18417e9  …     26.145      3.2675e9"
      ]
     },
     "execution_count": 240,
     "metadata": {},
     "output_type": "execute_result"
    }
   ],
   "source": [
    "Ωhat = zeros(Ny + Nx, Ny + Nx)\n",
    "cache = zeros(1, Ny + Nx, Ny + Nx)\n",
    "for i=1:Ne\n",
    "    hess_x_log_pdf!(cache, S, X[:,i:i])\n",
    "    Ωhat .+= copy(cache[1,:,:]).^2\n",
    "end\n",
    "rmul!(Ωhat, 1/Ne)"
   ]
  },
  {
   "cell_type": "code",
   "execution_count": 241,
   "metadata": {},
   "outputs": [
    {
     "data": {
      "image/png": "[encoded data removed]"
     },
     "execution_count": 241,
     "metadata": {},
     "output_type": "execute_result"
    }
   ],
   "source": [
    "plt = plot()\n",
    "\n",
    "heatmap!(plt,log10.(Ωhat), ratio = 1, yflip = true, \n",
    "        colorbar = true, color = :plasma, clim = (2.0, Inf), colorbar_title = L\"\\log_{10}(\\hat{\\Omega})\",\n",
    "        xlabel = \"Index\", ylabel = \"Index\", background_color_inside = palette(:plasma)[1], \n",
    "        yticks = (reverse(collect(0:10:Nx))))\n",
    "plt"
   ]
  },
  {
   "cell_type": "markdown",
   "metadata": {},
   "source": [
    "The rest is work in progress"
   ]
  },
  {
   "cell_type": "code",
   "execution_count": null,
   "metadata": {},
   "outputs": [],
   "source": []
  },
  {
   "cell_type": "markdown",
   "metadata": {},
   "source": [
    "Set initial condition of the true system"
   ]
  },
  {
   "cell_type": "code",
   "execution_count": 243,
   "metadata": {},
   "outputs": [],
   "source": [
    "x0 = rand(model.π0);"
   ]
  },
  {
   "cell_type": "code",
   "execution_count": 244,
   "metadata": {},
   "outputs": [],
   "source": [
    "data = generate_lorenz63(model, x0, Tf);"
   ]
  },
  {
   "cell_type": "markdown",
   "metadata": {},
   "source": [
    "Initialize the ensemble matrix `X` $\\in \\mathbb{R}^{(N_y + N_x) \\times N_e}$."
   ]
  },
  {
   "cell_type": "code",
   "execution_count": 250,
   "metadata": {},
   "outputs": [
    {
     "data": {
      "text/plain": [
       "3×500 view(::Array{Float64,2}, 4:6, :) with eltype Float64:\n",
       "  0.0257701  0.440945  -0.840398  …  -1.11603   0.186255  -0.841999\n",
       "  2.11826    0.796132  -0.595772      1.77195   2.21383   -1.14682\n",
       " -0.662958   0.100881  -1.10247      -0.29032  -1.71597    0.366678"
      ]
     },
     "execution_count": 250,
     "metadata": {},
     "output_type": "execute_result"
    }
   ],
   "source": [
    "Ne = 500 #ensemble size\n",
    "X = zeros(model.Ny + model.Nx, Ne)\n",
    "\n",
    "# Generate the initial conditions for the state.\n",
    "viewstate(X, model.Ny, model.Nx) .= rand(model.π0, Ne)"
   ]
  },
  {
   "cell_type": "code",
   "execution_count": 251,
   "metadata": {},
   "outputs": [
    {
     "data": {
      "text/plain": [
       "Stochastic Map Filter with filtered = false\n"
      ]
     },
     "execution_count": 251,
     "metadata": {},
     "output_type": "execute_result"
    }
   ],
   "source": [
    "smf = StochMapFilter(x->x, ϵy, S, Ny, Nx, Δtdyn, Δtobs, 2*Δtobs, false)"
   ]
  },
  {
   "cell_type": "code",
   "execution_count": 252,
   "metadata": {
    "scrolled": true
   },
   "outputs": [
    {
     "name": "stdout",
     "output_type": "stream",
     "text": [
      "t = 0.1\n",
      "getcoeff(M[6]) = [0.7497471085835189, -0.2921518956465149, 40.03584354406773, -44.93107060596445, -0.0852537778552569, 18.446858033013868, -2.9724658953944907, -40.138361020321284, 42.652079167343814, -17.874295397927863]\n",
      "t = 0.2\n",
      "getcoeff(M[6]) = [0.6496355897525775, -0.4419551561430668, -7.455087978000363, -29.864763036518163, -0.011525260240135575, -3.9772982592497157, -4.036845106802647, 7.139687480816457, 26.611781492691996, 3.7078892735109292]\n"
     ]
    },
    {
     "name": "stderr",
     "output_type": "stream",
     "text": [
      "\u001b[32mProgress: 100%|█████████████████████████████████████████| Time: 0:00:01\u001b[39m\n"
     ]
    },
    {
     "name": "stdout",
     "output_type": "stream",
     "text": [
      "t = 0.30000000000000004\n",
      "getcoeff(M[6]) = [18.883823145637308, 7.914108877684279, -17.380623918295072, 8.057982944462305, -5.22900517725353, 7.927997078985445, 6.65964129684542, 0.9494948606098919, 2.5874826503957764, -1.298911951643666]\n",
      "t = 0.4\n",
      "getcoeff(M[6]) = [-37.0175663204591, -41.003006486420084, 29.405787221434007, 13.571956736034842, 8.346072638511696, -15.371947125259219, -86.88264746361389, 32.46430905351477, -33.337705709374134, 28.23737399394765]\n"
     ]
    },
    {
     "name": "stderr",
     "output_type": "stream",
     "text": [
      "\u001b[32mProgress: 100%|█████████████████████████████████████████| Time: 0:00:01\u001b[39m\n"
     ]
    },
    {
     "name": "stdout",
     "output_type": "stream",
     "text": [
      "t = 0.5\n",
      "getcoeff(M[6]) = [-383.8191259642699, -291.15908217374385, 383.3321805037631, 291.16137614748993, 145.19374503649487, -144.8303485800311, 0.7336935637529335]\n",
      "t = 0.6000000000000001\n",
      "getcoeff(M[6]) = [-383.81912596426446, -291.15908217374385, 383.33218050375854, 291.16137614748993, 145.19374503649397, -144.83034858002975, 0.733693563752933]\n",
      "t = 0.7000000000000001\n",
      "getcoeff(M[6]) = [-383.81912596425985, -291.1590821737439, 383.33218050375416, 291.1613761474901, 145.1937450364938, -144.83034858002975, 0.733693563752933]\n"
     ]
    },
    {
     "name": "stderr",
     "output_type": "stream",
     "text": [
      "\u001b[32mProgress: 100%|█████████████████████████████████████████| Time: 0:00:01\u001b[39m\n"
     ]
    },
    {
     "name": "stdout",
     "output_type": "stream",
     "text": [
      "t = 0.8\n",
      "getcoeff(M[6]) = [-383.81912596464826, -291.15908217373203, 383.332180504156, 291.1613761474787, 145.19374503649487, -144.8303485800261, 0.7336935637529332]\n"
     ]
    },
    {
     "name": "stderr",
     "output_type": "stream",
     "text": [
      "\u001b[32mProgress: 100%|█████████████████████████████████████████| Time: 0:00:02\u001b[39m\n"
     ]
    },
    {
     "name": "stdout",
     "output_type": "stream",
     "text": [
      "t = 0.9\n",
      "getcoeff(M[6]) = [302.12605111630216, -426.4552641364868, 323.03391122630006, -66.58832656731084, -159.20973676360796, 58.37635306462158, 7.938164444253249, 22.82213647772029]\n"
     ]
    },
    {
     "name": "stderr",
     "output_type": "stream",
     "text": [
      "\u001b[32mProgress: 100%|█████████████████████████████████████████| Time: 0:00:00\u001b[39m\n"
     ]
    },
    {
     "name": "stdout",
     "output_type": "stream",
     "text": [
      "t = 1.0\n",
      "getcoeff(M[6]) = [-4.4046501374976295, -38.15812086977118, 36.65229143568193, -4.118000918833603, -24.24227152063534, 33.25965738004528, 17.777973146983726, 7.774421216362006]\n"
     ]
    },
    {
     "name": "stderr",
     "output_type": "stream",
     "text": [
      "\u001b[32mProgress: 100%|█████████████████████████████████████████| Time: 0:00:00\u001b[39m\n"
     ]
    },
    {
     "name": "stdout",
     "output_type": "stream",
     "text": [
      "t = 1.1\n",
      "getcoeff(M[6]) = [-10.992993312450492, -48.39244788488344, 20.563283078324552, -12.09237297359783, -10.134142071661634, 63.20187490042511, 13.18086068241807, 1.8016300318868899]\n",
      "t = 1.2000000000000002\n",
      "getcoeff(M[6]) = [12.08254316550755, -42.696201957660506, 10.380698511222292, 0.28214794656855025, -16.063923079399174, 28.742907719685604, -0.0862331776265495, 4.887261209825675]\n",
      "t = 1.3\n",
      "getcoeff(M[6]) = [11.35252291416496, -36.225006910454404, 10.915751208669056, 1.1592277644666782, -14.89292469362305, 21.33613201863551, -0.442326012091533, 2.2535882705589225]\n"
     ]
    },
    {
     "name": "stderr",
     "output_type": "stream",
     "text": [
      "┌ Warning: dt <= dtmin. Aborting. There is either an error in your model specification or the true solution is unstable.\n",
      "└ @ SciMLBase /home/mat/.julia/packages/SciMLBase/dyqr8/src/integrator_interface.jl:345\n",
      "┌ Warning: dt <= dtmin. Aborting. There is either an error in your model specification or the true solution is unstable.\n",
      "└ @ SciMLBase /home/mat/.julia/packages/SciMLBase/dyqr8/src/integrator_interface.jl:345\n",
      "┌ Warning: dt <= dtmin. Aborting. There is either an error in your model specification or the true solution is unstable.\n",
      "└ @ SciMLBase /home/mat/.julia/packages/SciMLBase/dyqr8/src/integrator_interface.jl:345\n",
      "┌ Warning: dt <= dtmin. Aborting. There is either an error in your model specification or the true solution is unstable.\n",
      "└ @ SciMLBase /home/mat/.julia/packages/SciMLBase/dyqr8/src/integrator_interface.jl:345\n",
      "┌ Warning: dt <= dtmin. Aborting. There is either an error in your model specification or the true solution is unstable.\n",
      "└ @ SciMLBase /home/mat/.julia/packages/SciMLBase/dyqr8/src/integrator_interface.jl:345\n",
      "┌ Warning: dt <= dtmin. Aborting. There is either an error in your model specification or the true solution is unstable.\n",
      "└ @ SciMLBase /home/mat/.julia/packages/SciMLBase/dyqr8/src/integrator_interface.jl:345\n",
      "┌ Warning: dt <= dtmin. Aborting. There is either an error in your model specification or the true solution is unstable.\n",
      "└ @ SciMLBase /home/mat/.julia/packages/SciMLBase/dyqr8/src/integrator_interface.jl:345\n",
      "┌ Warning: dt <= dtmin. Aborting. There is either an error in your model specification or the true solution is unstable.\n",
      "└ @ SciMLBase /home/mat/.julia/packages/SciMLBase/dyqr8/src/integrator_interface.jl:345\n",
      "┌ Warning: dt <= dtmin. Aborting. There is either an error in your model specification or the true solution is unstable.\n",
      "└ @ SciMLBase /home/mat/.julia/packages/SciMLBase/dyqr8/src/integrator_interface.jl:345\n",
      "┌ Warning: dt <= dtmin. Aborting. There is either an error in your model specification or the true solution is unstable.\n",
      "└ @ SciMLBase /home/mat/.julia/packages/SciMLBase/dyqr8/src/integrator_interface.jl:345\n",
      "┌ Warning: dt <= dtmin. Aborting. There is either an error in your model specification or the true solution is unstable.\n",
      "└ @ SciMLBase /home/mat/.julia/packages/SciMLBase/dyqr8/src/integrator_interface.jl:345\n",
      "┌ Warning: dt <= dtmin. Aborting. There is either an error in your model specification or the true solution is unstable.\n",
      "└ @ SciMLBase /home/mat/.julia/packages/SciMLBase/dyqr8/src/integrator_interface.jl:345\n",
      "┌ Warning: dt <= dtmin. Aborting. There is either an error in your model specification or the true solution is unstable.\n",
      "└ @ SciMLBase /home/mat/.julia/packages/SciMLBase/dyqr8/src/integrator_interface.jl:345\n",
      "┌ Warning: dt <= dtmin. Aborting. There is either an error in your model specification or the true solution is unstable.\n",
      "└ @ SciMLBase /home/mat/.julia/packages/SciMLBase/dyqr8/src/integrator_interface.jl:345\n",
      "┌ Warning: dt <= dtmin. Aborting. There is either an error in your model specification or the true solution is unstable.\n",
      "└ @ SciMLBase /home/mat/.julia/packages/SciMLBase/dyqr8/src/integrator_interface.jl:345\n",
      "┌ Warning: dt <= dtmin. Aborting. There is either an error in your model specification or the true solution is unstable.\n",
      "└ @ SciMLBase /home/mat/.julia/packages/SciMLBase/dyqr8/src/integrator_interface.jl:345\n",
      "┌ Warning: dt <= dtmin. Aborting. There is either an error in your model specification or the true solution is unstable.\n",
      "└ @ SciMLBase /home/mat/.julia/packages/SciMLBase/dyqr8/src/integrator_interface.jl:345\n",
      "┌ Warning: dt <= dtmin. Aborting. There is either an error in your model specification or the true solution is unstable.\n",
      "└ @ SciMLBase /home/mat/.julia/packages/SciMLBase/dyqr8/src/integrator_interface.jl:345\n",
      "┌ Warning: dt <= dtmin. Aborting. There is either an error in your model specification or the true solution is unstable.\n",
      "└ @ SciMLBase /home/mat/.julia/packages/SciMLBase/dyqr8/src/integrator_interface.jl:345\n",
      "┌ Warning: dt <= dtmin. Aborting. There is either an error in your model specification or the true solution is unstable.\n",
      "└ @ SciMLBase /home/mat/.julia/packages/SciMLBase/dyqr8/src/integrator_interface.jl:345\n",
      "┌ Warning: dt <= dtmin. Aborting. There is either an error in your model specification or the true solution is unstable.\n",
      "└ @ SciMLBase /home/mat/.julia/packages/SciMLBase/dyqr8/src/integrator_interface.jl:345\n",
      "┌ Warning: dt <= dtmin. Aborting. There is either an error in your model specification or the true solution is unstable.\n",
      "└ @ SciMLBase /home/mat/.julia/packages/SciMLBase/dyqr8/src/integrator_interface.jl:345\n",
      "┌ Warning: dt <= dtmin. Aborting. There is either an error in your model specification or the true solution is unstable.\n",
      "└ @ SciMLBase /home/mat/.julia/packages/SciMLBase/dyqr8/src/integrator_interface.jl:345\n",
      "┌ Warning: dt <= dtmin. Aborting. There is either an error in your model specification or the true solution is unstable.\n",
      "└ @ SciMLBase /home/mat/.julia/packages/SciMLBase/dyqr8/src/integrator_interface.jl:345\n",
      "┌ Warning: dt <= dtmin. Aborting. There is either an error in your model specification or the true solution is unstable.\n",
      "└ @ SciMLBase /home/mat/.julia/packages/SciMLBase/dyqr8/src/integrator_interface.jl:345\n",
      "┌ Warning: dt <= dtmin. Aborting. There is either an error in your model specification or the true solution is unstable.\n",
      "└ @ SciMLBase /home/mat/.julia/packages/SciMLBase/dyqr8/src/integrator_interface.jl:345\n",
      "┌ Warning: dt <= dtmin. Aborting. There is either an error in your model specification or the true solution is unstable.\n",
      "└ @ SciMLBase /home/mat/.julia/packages/SciMLBase/dyqr8/src/integrator_interface.jl:345\n",
      "┌ Warning: dt <= dtmin. Aborting. There is either an error in your model specification or the true solution is unstable.\n",
      "└ @ SciMLBase /home/mat/.julia/packages/SciMLBase/dyqr8/src/integrator_interface.jl:345\n",
      "┌ Warning: dt <= dtmin. Aborting. There is either an error in your model specification or the true solution is unstable.\n",
      "└ @ SciMLBase /home/mat/.julia/packages/SciMLBase/dyqr8/src/integrator_interface.jl:345\n",
      "┌ Warning: dt <= dtmin. Aborting. There is either an error in your model specification or the true solution is unstable.\n",
      "└ @ SciMLBase /home/mat/.julia/packages/SciMLBase/dyqr8/src/integrator_interface.jl:345\n",
      "┌ Warning: dt <= dtmin. Aborting. There is either an error in your model specification or the true solution is unstable.\n",
      "└ @ SciMLBase /home/mat/.julia/packages/SciMLBase/dyqr8/src/integrator_interface.jl:345\n",
      "┌ Warning: dt <= dtmin. Aborting. There is either an error in your model specification or the true solution is unstable.\n",
      "└ @ SciMLBase /home/mat/.julia/packages/SciMLBase/dyqr8/src/integrator_interface.jl:345\n",
      "┌ Warning: dt <= dtmin. Aborting. There is either an error in your model specification or the true solution is unstable.\n",
      "└ @ SciMLBase /home/mat/.julia/packages/SciMLBase/dyqr8/src/integrator_interface.jl:345\n",
      "┌ Warning: dt <= dtmin. Aborting. There is either an error in your model specification or the true solution is unstable.\n",
      "└ @ SciMLBase /home/mat/.julia/packages/SciMLBase/dyqr8/src/integrator_interface.jl:345\n",
      "┌ Warning: dt <= dtmin. Aborting. There is either an error in your model specification or the true solution is unstable.\n",
      "└ @ SciMLBase /home/mat/.julia/packages/SciMLBase/dyqr8/src/integrator_interface.jl:345\n",
      "┌ Warning: dt <= dtmin. Aborting. There is either an error in your model specification or the true solution is unstable.\n",
      "└ @ SciMLBase /home/mat/.julia/packages/SciMLBase/dyqr8/src/integrator_interface.jl:345\n",
      "┌ Warning: dt <= dtmin. Aborting. There is either an error in your model specification or the true solution is unstable.\n",
      "└ @ SciMLBase /home/mat/.julia/packages/SciMLBase/dyqr8/src/integrator_interface.jl:345\n",
      "┌ Warning: dt <= dtmin. Aborting. There is either an error in your model specification or the true solution is unstable.\n",
      "└ @ SciMLBase /home/mat/.julia/packages/SciMLBase/dyqr8/src/integrator_interface.jl:345\n",
      "┌ Warning: dt <= dtmin. Aborting. There is either an error in your model specification or the true solution is unstable.\n",
      "└ @ SciMLBase /home/mat/.julia/packages/SciMLBase/dyqr8/src/integrator_interface.jl:345\n",
      "┌ Warning: dt <= dtmin. Aborting. There is either an error in your model specification or the true solution is unstable.\n",
      "└ @ SciMLBase /home/mat/.julia/packages/SciMLBase/dyqr8/src/integrator_interface.jl:345\n"
     ]
    },
    {
     "name": "stderr",
     "output_type": "stream",
     "text": [
      "┌ Warning: dt <= dtmin. Aborting. There is either an error in your model specification or the true solution is unstable.\n",
      "└ @ SciMLBase /home/mat/.julia/packages/SciMLBase/dyqr8/src/integrator_interface.jl:345\n",
      "┌ Warning: dt <= dtmin. Aborting. There is either an error in your model specification or the true solution is unstable.\n",
      "└ @ SciMLBase /home/mat/.julia/packages/SciMLBase/dyqr8/src/integrator_interface.jl:345\n",
      "┌ Warning: dt <= dtmin. Aborting. There is either an error in your model specification or the true solution is unstable.\n",
      "└ @ SciMLBase /home/mat/.julia/packages/SciMLBase/dyqr8/src/integrator_interface.jl:345\n",
      "┌ Warning: dt <= dtmin. Aborting. There is either an error in your model specification or the true solution is unstable.\n",
      "└ @ SciMLBase /home/mat/.julia/packages/SciMLBase/dyqr8/src/integrator_interface.jl:345\n",
      "┌ Warning: dt <= dtmin. Aborting. There is either an error in your model specification or the true solution is unstable.\n",
      "└ @ SciMLBase /home/mat/.julia/packages/SciMLBase/dyqr8/src/integrator_interface.jl:345\n",
      "┌ Warning: dt <= dtmin. Aborting. There is either an error in your model specification or the true solution is unstable.\n",
      "└ @ SciMLBase /home/mat/.julia/packages/SciMLBase/dyqr8/src/integrator_interface.jl:345\n",
      "┌ Warning: dt <= dtmin. Aborting. There is either an error in your model specification or the true solution is unstable.\n",
      "└ @ SciMLBase /home/mat/.julia/packages/SciMLBase/dyqr8/src/integrator_interface.jl:345\n",
      "┌ Warning: dt <= dtmin. Aborting. There is either an error in your model specification or the true solution is unstable.\n",
      "└ @ SciMLBase /home/mat/.julia/packages/SciMLBase/dyqr8/src/integrator_interface.jl:345\n",
      "┌ Warning: dt <= dtmin. Aborting. There is either an error in your model specification or the true solution is unstable.\n",
      "└ @ SciMLBase /home/mat/.julia/packages/SciMLBase/dyqr8/src/integrator_interface.jl:345\n",
      "┌ Warning: dt <= dtmin. Aborting. There is either an error in your model specification or the true solution is unstable.\n",
      "└ @ SciMLBase /home/mat/.julia/packages/SciMLBase/dyqr8/src/integrator_interface.jl:345\n",
      "┌ Warning: dt <= dtmin. Aborting. There is either an error in your model specification or the true solution is unstable.\n",
      "└ @ SciMLBase /home/mat/.julia/packages/SciMLBase/dyqr8/src/integrator_interface.jl:345\n",
      "┌ Warning: dt <= dtmin. Aborting. There is either an error in your model specification or the true solution is unstable.\n",
      "└ @ SciMLBase /home/mat/.julia/packages/SciMLBase/dyqr8/src/integrator_interface.jl:345\n",
      "┌ Warning: dt <= dtmin. Aborting. There is either an error in your model specification or the true solution is unstable.\n",
      "└ @ SciMLBase /home/mat/.julia/packages/SciMLBase/dyqr8/src/integrator_interface.jl:345\n",
      "┌ Warning: dt <= dtmin. Aborting. There is either an error in your model specification or the true solution is unstable.\n",
      "└ @ SciMLBase /home/mat/.julia/packages/SciMLBase/dyqr8/src/integrator_interface.jl:345\n"
     ]
    },
    {
     "name": "stdout",
     "output_type": "stream",
     "text": [
      "t = 1.4000000000000001\n",
      "getcoeff(M[6]) = [1.6041640282249996, -43.59166348186522, 24.39145991464449, 0.24395444789805032, -10.109706538709883, 39.759273187107674, -0.1645157281711543, -3.7202157023717133]\n"
     ]
    },
    {
     "name": "stderr",
     "output_type": "stream",
     "text": [
      "┌ Warning: dt <= dtmin. Aborting. There is either an error in your model specification or the true solution is unstable.\n",
      "└ @ SciMLBase /home/mat/.julia/packages/SciMLBase/dyqr8/src/integrator_interface.jl:345\n",
      "┌ Warning: dt <= dtmin. Aborting. There is either an error in your model specification or the true solution is unstable.\n",
      "└ @ SciMLBase /home/mat/.julia/packages/SciMLBase/dyqr8/src/integrator_interface.jl:345\n",
      "┌ Warning: dt <= dtmin. Aborting. There is either an error in your model specification or the true solution is unstable.\n",
      "└ @ SciMLBase /home/mat/.julia/packages/SciMLBase/dyqr8/src/integrator_interface.jl:345\n",
      "┌ Warning: dt <= dtmin. Aborting. There is either an error in your model specification or the true solution is unstable.\n",
      "└ @ SciMLBase /home/mat/.julia/packages/SciMLBase/dyqr8/src/integrator_interface.jl:345\n",
      "┌ Warning: dt <= dtmin. Aborting. There is either an error in your model specification or the true solution is unstable.\n",
      "└ @ SciMLBase /home/mat/.julia/packages/SciMLBase/dyqr8/src/integrator_interface.jl:345\n",
      "┌ Warning: dt <= dtmin. Aborting. There is either an error in your model specification or the true solution is unstable.\n",
      "└ @ SciMLBase /home/mat/.julia/packages/SciMLBase/dyqr8/src/integrator_interface.jl:345\n",
      "┌ Warning: dt <= dtmin. Aborting. There is either an error in your model specification or the true solution is unstable.\n",
      "└ @ SciMLBase /home/mat/.julia/packages/SciMLBase/dyqr8/src/integrator_interface.jl:345\n",
      "┌ Warning: dt <= dtmin. Aborting. There is either an error in your model specification or the true solution is unstable.\n",
      "└ @ SciMLBase /home/mat/.julia/packages/SciMLBase/dyqr8/src/integrator_interface.jl:345\n",
      "┌ Warning: dt <= dtmin. Aborting. There is either an error in your model specification or the true solution is unstable.\n",
      "└ @ SciMLBase /home/mat/.julia/packages/SciMLBase/dyqr8/src/integrator_interface.jl:345\n",
      "┌ Warning: dt <= dtmin. Aborting. There is either an error in your model specification or the true solution is unstable.\n",
      "└ @ SciMLBase /home/mat/.julia/packages/SciMLBase/dyqr8/src/integrator_interface.jl:345\n",
      "┌ Warning: dt <= dtmin. Aborting. There is either an error in your model specification or the true solution is unstable.\n",
      "└ @ SciMLBase /home/mat/.julia/packages/SciMLBase/dyqr8/src/integrator_interface.jl:345\n",
      "┌ Warning: dt <= dtmin. Aborting. There is either an error in your model specification or the true solution is unstable.\n",
      "└ @ SciMLBase /home/mat/.julia/packages/SciMLBase/dyqr8/src/integrator_interface.jl:345\n",
      "┌ Warning: dt <= dtmin. Aborting. There is either an error in your model specification or the true solution is unstable.\n",
      "└ @ SciMLBase /home/mat/.julia/packages/SciMLBase/dyqr8/src/integrator_interface.jl:345\n",
      "┌ Warning: dt <= dtmin. Aborting. There is either an error in your model specification or the true solution is unstable.\n",
      "└ @ SciMLBase /home/mat/.julia/packages/SciMLBase/dyqr8/src/integrator_interface.jl:345\n",
      "┌ Warning: dt <= dtmin. Aborting. There is either an error in your model specification or the true solution is unstable.\n",
      "└ @ SciMLBase /home/mat/.julia/packages/SciMLBase/dyqr8/src/integrator_interface.jl:345\n",
      "┌ Warning: dt <= dtmin. Aborting. There is either an error in your model specification or the true solution is unstable.\n",
      "└ @ SciMLBase /home/mat/.julia/packages/SciMLBase/dyqr8/src/integrator_interface.jl:345\n",
      "┌ Warning: dt <= dtmin. Aborting. There is either an error in your model specification or the true solution is unstable.\n",
      "└ @ SciMLBase /home/mat/.julia/packages/SciMLBase/dyqr8/src/integrator_interface.jl:345\n",
      "┌ Warning: dt <= dtmin. Aborting. There is either an error in your model specification or the true solution is unstable.\n",
      "└ @ SciMLBase /home/mat/.julia/packages/SciMLBase/dyqr8/src/integrator_interface.jl:345\n",
      "┌ Warning: dt <= dtmin. Aborting. There is either an error in your model specification or the true solution is unstable.\n",
      "└ @ SciMLBase /home/mat/.julia/packages/SciMLBase/dyqr8/src/integrator_interface.jl:345\n",
      "┌ Warning: dt <= dtmin. Aborting. There is either an error in your model specification or the true solution is unstable.\n",
      "└ @ SciMLBase /home/mat/.julia/packages/SciMLBase/dyqr8/src/integrator_interface.jl:345\n",
      "┌ Warning: dt <= dtmin. Aborting. There is either an error in your model specification or the true solution is unstable.\n",
      "└ @ SciMLBase /home/mat/.julia/packages/SciMLBase/dyqr8/src/integrator_interface.jl:345\n",
      "┌ Warning: dt <= dtmin. Aborting. There is either an error in your model specification or the true solution is unstable.\n",
      "└ @ SciMLBase /home/mat/.julia/packages/SciMLBase/dyqr8/src/integrator_interface.jl:345\n",
      "┌ Warning: dt <= dtmin. Aborting. There is either an error in your model specification or the true solution is unstable.\n",
      "└ @ SciMLBase /home/mat/.julia/packages/SciMLBase/dyqr8/src/integrator_interface.jl:345\n",
      "┌ Warning: dt <= dtmin. Aborting. There is either an error in your model specification or the true solution is unstable.\n",
      "└ @ SciMLBase /home/mat/.julia/packages/SciMLBase/dyqr8/src/integrator_interface.jl:345\n",
      "┌ Warning: Instability detected. Aborting\n",
      "└ @ SciMLBase /home/mat/.julia/packages/SciMLBase/dyqr8/src/integrator_interface.jl:351\n",
      "┌ Warning: dt <= dtmin. Aborting. There is either an error in your model specification or the true solution is unstable.\n",
      "└ @ SciMLBase /home/mat/.julia/packages/SciMLBase/dyqr8/src/integrator_interface.jl:345\n",
      "┌ Warning: dt <= dtmin. Aborting. There is either an error in your model specification or the true solution is unstable.\n",
      "└ @ SciMLBase /home/mat/.julia/packages/SciMLBase/dyqr8/src/integrator_interface.jl:345\n",
      "┌ Warning: dt <= dtmin. Aborting. There is either an error in your model specification or the true solution is unstable.\n",
      "└ @ SciMLBase /home/mat/.julia/packages/SciMLBase/dyqr8/src/integrator_interface.jl:345\n",
      "┌ Warning: dt <= dtmin. Aborting. There is either an error in your model specification or the true solution is unstable.\n",
      "└ @ SciMLBase /home/mat/.julia/packages/SciMLBase/dyqr8/src/integrator_interface.jl:345\n",
      "┌ Warning: dt <= dtmin. Aborting. There is either an error in your model specification or the true solution is unstable.\n",
      "└ @ SciMLBase /home/mat/.julia/packages/SciMLBase/dyqr8/src/integrator_interface.jl:345\n",
      "┌ Warning: dt <= dtmin. Aborting. There is either an error in your model specification or the true solution is unstable.\n",
      "└ @ SciMLBase /home/mat/.julia/packages/SciMLBase/dyqr8/src/integrator_interface.jl:345\n",
      "┌ Warning: Instability detected. Aborting\n",
      "└ @ SciMLBase /home/mat/.julia/packages/SciMLBase/dyqr8/src/integrator_interface.jl:351\n",
      "┌ Warning: dt <= dtmin. Aborting. There is either an error in your model specification or the true solution is unstable.\n",
      "└ @ SciMLBase /home/mat/.julia/packages/SciMLBase/dyqr8/src/integrator_interface.jl:345\n",
      "┌ Warning: dt <= dtmin. Aborting. There is either an error in your model specification or the true solution is unstable.\n",
      "└ @ SciMLBase /home/mat/.julia/packages/SciMLBase/dyqr8/src/integrator_interface.jl:345\n",
      "┌ Warning: dt <= dtmin. Aborting. There is either an error in your model specification or the true solution is unstable.\n",
      "└ @ SciMLBase /home/mat/.julia/packages/SciMLBase/dyqr8/src/integrator_interface.jl:345\n",
      "┌ Warning: dt <= dtmin. Aborting. There is either an error in your model specification or the true solution is unstable.\n",
      "└ @ SciMLBase /home/mat/.julia/packages/SciMLBase/dyqr8/src/integrator_interface.jl:345\n",
      "┌ Warning: dt <= dtmin. Aborting. There is either an error in your model specification or the true solution is unstable.\n",
      "└ @ SciMLBase /home/mat/.julia/packages/SciMLBase/dyqr8/src/integrator_interface.jl:345\n",
      "┌ Warning: dt <= dtmin. Aborting. There is either an error in your model specification or the true solution is unstable.\n",
      "└ @ SciMLBase /home/mat/.julia/packages/SciMLBase/dyqr8/src/integrator_interface.jl:345\n",
      "┌ Warning: dt <= dtmin. Aborting. There is either an error in your model specification or the true solution is unstable.\n",
      "└ @ SciMLBase /home/mat/.julia/packages/SciMLBase/dyqr8/src/integrator_interface.jl:345\n",
      "┌ Warning: dt <= dtmin. Aborting. There is either an error in your model specification or the true solution is unstable.\n",
      "└ @ SciMLBase /home/mat/.julia/packages/SciMLBase/dyqr8/src/integrator_interface.jl:345\n",
      "┌ Warning: dt <= dtmin. Aborting. There is either an error in your model specification or the true solution is unstable.\n",
      "└ @ SciMLBase /home/mat/.julia/packages/SciMLBase/dyqr8/src/integrator_interface.jl:345\n",
      "┌ Warning: Instability detected. Aborting\n",
      "└ @ SciMLBase /home/mat/.julia/packages/SciMLBase/dyqr8/src/integrator_interface.jl:351\n",
      "┌ Warning: dt <= dtmin. Aborting. There is either an error in your model specification or the true solution is unstable.\n",
      "└ @ SciMLBase /home/mat/.julia/packages/SciMLBase/dyqr8/src/integrator_interface.jl:345\n"
     ]
    },
    {
     "name": "stderr",
     "output_type": "stream",
     "text": [
      "┌ Warning: dt <= dtmin. Aborting. There is either an error in your model specification or the true solution is unstable.\n",
      "└ @ SciMLBase /home/mat/.julia/packages/SciMLBase/dyqr8/src/integrator_interface.jl:345\n",
      "┌ Warning: dt <= dtmin. Aborting. There is either an error in your model specification or the true solution is unstable.\n",
      "└ @ SciMLBase /home/mat/.julia/packages/SciMLBase/dyqr8/src/integrator_interface.jl:345\n",
      "┌ Warning: dt <= dtmin. Aborting. There is either an error in your model specification or the true solution is unstable.\n",
      "└ @ SciMLBase /home/mat/.julia/packages/SciMLBase/dyqr8/src/integrator_interface.jl:345\n",
      "┌ Warning: dt <= dtmin. Aborting. There is either an error in your model specification or the true solution is unstable.\n",
      "└ @ SciMLBase /home/mat/.julia/packages/SciMLBase/dyqr8/src/integrator_interface.jl:345\n",
      "┌ Warning: dt <= dtmin. Aborting. There is either an error in your model specification or the true solution is unstable.\n",
      "└ @ SciMLBase /home/mat/.julia/packages/SciMLBase/dyqr8/src/integrator_interface.jl:345\n",
      "┌ Warning: dt <= dtmin. Aborting. There is either an error in your model specification or the true solution is unstable.\n",
      "└ @ SciMLBase /home/mat/.julia/packages/SciMLBase/dyqr8/src/integrator_interface.jl:345\n",
      "┌ Warning: dt <= dtmin. Aborting. There is either an error in your model specification or the true solution is unstable.\n",
      "└ @ SciMLBase /home/mat/.julia/packages/SciMLBase/dyqr8/src/integrator_interface.jl:345\n",
      "┌ Warning: dt <= dtmin. Aborting. There is either an error in your model specification or the true solution is unstable.\n",
      "└ @ SciMLBase /home/mat/.julia/packages/SciMLBase/dyqr8/src/integrator_interface.jl:345\n",
      "┌ Warning: dt <= dtmin. Aborting. There is either an error in your model specification or the true solution is unstable.\n",
      "└ @ SciMLBase /home/mat/.julia/packages/SciMLBase/dyqr8/src/integrator_interface.jl:345\n",
      "┌ Warning: dt <= dtmin. Aborting. There is either an error in your model specification or the true solution is unstable.\n",
      "└ @ SciMLBase /home/mat/.julia/packages/SciMLBase/dyqr8/src/integrator_interface.jl:345\n",
      "┌ Warning: dt <= dtmin. Aborting. There is either an error in your model specification or the true solution is unstable.\n",
      "└ @ SciMLBase /home/mat/.julia/packages/SciMLBase/dyqr8/src/integrator_interface.jl:345\n"
     ]
    },
    {
     "ename": "LoadError",
     "evalue": "\u001b[91mInterruptException:\u001b[39m",
     "output_type": "error",
     "traceback": [
      "\u001b[91mInterruptException:\u001b[39m",
      "",
      "Stacktrace:",
      " [1] fieldnames at ./reflection.jl:173 [inlined]",
      " [2] propertynames at ./reflection.jl:1371 [inlined]",
      " [3] hasproperty(::OrdinaryDiffEq.ODEIntegrator{Tsit5,true,Array{Float64,1},Nothing,Float64,SciMLBase.NullParameters,Float64,Float64,Float64,Array{Array{Float64,1},1},ODESolution{Float64,2,Array{Array{Float64,1},1},Nothing,Nothing,Array{Float64,1},Array{Array{Array{Float64,1},1},1},ODEProblem{Array{Float64,1},Tuple{Float64,Float64},true,SciMLBase.NullParameters,ODEFunction{true,typeof(lorenz63!),UniformScaling{Bool},Nothing,Nothing,Nothing,Nothing,Nothing,Nothing,Nothing,Nothing,Nothing,Nothing,Nothing,Nothing,typeof(SciMLBase.DEFAULT_OBSERVED),Nothing},Base.Iterators.Pairs{Union{},Union{},Tuple{},NamedTuple{(),Tuple{}}},SciMLBase.StandardODEProblem},Tsit5,OrdinaryDiffEq.InterpolationData{ODEFunction{true,typeof(lorenz63!),UniformScaling{Bool},Nothing,Nothing,Nothing,Nothing,Nothing,Nothing,Nothing,Nothing,Nothing,Nothing,Nothing,Nothing,typeof(SciMLBase.DEFAULT_OBSERVED),Nothing},Array{Array{Float64,1},1},Array{Float64,1},Array{Array{Array{Float64,1},1},1},OrdinaryDiffEq.Tsit5Cache{Array{Float64,1},Array{Float64,1},Array{Float64,1},OrdinaryDiffEq.Tsit5ConstantCache{Float64,Float64}}},DiffEqBase.DEStats},ODEFunction{true,typeof(lorenz63!),UniformScaling{Bool},Nothing,Nothing,Nothing,Nothing,Nothing,Nothing,Nothing,Nothing,Nothing,Nothing,Nothing,Nothing,typeof(SciMLBase.DEFAULT_OBSERVED),Nothing},OrdinaryDiffEq.Tsit5Cache{Array{Float64,1},Array{Float64,1},Array{Float64,1},OrdinaryDiffEq.Tsit5ConstantCache{Float64,Float64}},OrdinaryDiffEq.DEOptions{Float64,Float64,Float64,Float64,typeof(DiffEqBase.ODE_DEFAULT_NORM),typeof(opnorm),Nothing,CallbackSet{Tuple{},Tuple{}},typeof(DiffEqBase.ODE_DEFAULT_ISOUTOFDOMAIN),typeof(DiffEqBase.ODE_DEFAULT_PROG_MESSAGE),typeof(DiffEqBase.ODE_DEFAULT_UNSTABLE_CHECK),DataStructures.BinaryHeap{Float64,Base.Order.ForwardOrdering},DataStructures.BinaryHeap{Float64,Base.Order.ForwardOrdering},Nothing,Nothing,Int64,Tuple{},Tuple{},Tuple{}},Array{Float64,1},Float64,Nothing,OrdinaryDiffEq.DefaultInit}, ::Symbol) at ./reflection.jl:1383",
      " [4] check_error(::OrdinaryDiffEq.ODEIntegrator{Tsit5,true,Array{Float64,1},Nothing,Float64,SciMLBase.NullParameters,Float64,Float64,Float64,Array{Array{Float64,1},1},ODESolution{Float64,2,Array{Array{Float64,1},1},Nothing,Nothing,Array{Float64,1},Array{Array{Array{Float64,1},1},1},ODEProblem{Array{Float64,1},Tuple{Float64,Float64},true,SciMLBase.NullParameters,ODEFunction{true,typeof(lorenz63!),UniformScaling{Bool},Nothing,Nothing,Nothing,Nothing,Nothing,Nothing,Nothing,Nothing,Nothing,Nothing,Nothing,Nothing,typeof(SciMLBase.DEFAULT_OBSERVED),Nothing},Base.Iterators.Pairs{Union{},Union{},Tuple{},NamedTuple{(),Tuple{}}},SciMLBase.StandardODEProblem},Tsit5,OrdinaryDiffEq.InterpolationData{ODEFunction{true,typeof(lorenz63!),UniformScaling{Bool},Nothing,Nothing,Nothing,Nothing,Nothing,Nothing,Nothing,Nothing,Nothing,Nothing,Nothing,Nothing,typeof(SciMLBase.DEFAULT_OBSERVED),Nothing},Array{Array{Float64,1},1},Array{Float64,1},Array{Array{Array{Float64,1},1},1},OrdinaryDiffEq.Tsit5Cache{Array{Float64,1},Array{Float64,1},Array{Float64,1},OrdinaryDiffEq.Tsit5ConstantCache{Float64,Float64}}},DiffEqBase.DEStats},ODEFunction{true,typeof(lorenz63!),UniformScaling{Bool},Nothing,Nothing,Nothing,Nothing,Nothing,Nothing,Nothing,Nothing,Nothing,Nothing,Nothing,Nothing,typeof(SciMLBase.DEFAULT_OBSERVED),Nothing},OrdinaryDiffEq.Tsit5Cache{Array{Float64,1},Array{Float64,1},Array{Float64,1},OrdinaryDiffEq.Tsit5ConstantCache{Float64,Float64}},OrdinaryDiffEq.DEOptions{Float64,Float64,Float64,Float64,typeof(DiffEqBase.ODE_DEFAULT_NORM),typeof(opnorm),Nothing,CallbackSet{Tuple{},Tuple{}},typeof(DiffEqBase.ODE_DEFAULT_ISOUTOFDOMAIN),typeof(DiffEqBase.ODE_DEFAULT_PROG_MESSAGE),typeof(DiffEqBase.ODE_DEFAULT_UNSTABLE_CHECK),DataStructures.BinaryHeap{Float64,Base.Order.ForwardOrdering},DataStructures.BinaryHeap{Float64,Base.Order.ForwardOrdering},Nothing,Nothing,Int64,Tuple{},Tuple{},Tuple{}},Array{Float64,1},Float64,Nothing,OrdinaryDiffEq.DefaultInit}) at /home/mat/.julia/packages/SciMLBase/dyqr8/src/integrator_interface.jl:339",
      " [5] check_error! at /home/mat/.julia/packages/SciMLBase/dyqr8/src/integrator_interface.jl:373 [inlined]",
      " [6] solve!(::OrdinaryDiffEq.ODEIntegrator{Tsit5,true,Array{Float64,1},Nothing,Float64,SciMLBase.NullParameters,Float64,Float64,Float64,Array{Array{Float64,1},1},ODESolution{Float64,2,Array{Array{Float64,1},1},Nothing,Nothing,Array{Float64,1},Array{Array{Array{Float64,1},1},1},ODEProblem{Array{Float64,1},Tuple{Float64,Float64},true,SciMLBase.NullParameters,ODEFunction{true,typeof(lorenz63!),UniformScaling{Bool},Nothing,Nothing,Nothing,Nothing,Nothing,Nothing,Nothing,Nothing,Nothing,Nothing,Nothing,Nothing,typeof(SciMLBase.DEFAULT_OBSERVED),Nothing},Base.Iterators.Pairs{Union{},Union{},Tuple{},NamedTuple{(),Tuple{}}},SciMLBase.StandardODEProblem},Tsit5,OrdinaryDiffEq.InterpolationData{ODEFunction{true,typeof(lorenz63!),UniformScaling{Bool},Nothing,Nothing,Nothing,Nothing,Nothing,Nothing,Nothing,Nothing,Nothing,Nothing,Nothing,Nothing,typeof(SciMLBase.DEFAULT_OBSERVED),Nothing},Array{Array{Float64,1},1},Array{Float64,1},Array{Array{Array{Float64,1},1},1},OrdinaryDiffEq.Tsit5Cache{Array{Float64,1},Array{Float64,1},Array{Float64,1},OrdinaryDiffEq.Tsit5ConstantCache{Float64,Float64}}},DiffEqBase.DEStats},ODEFunction{true,typeof(lorenz63!),UniformScaling{Bool},Nothing,Nothing,Nothing,Nothing,Nothing,Nothing,Nothing,Nothing,Nothing,Nothing,Nothing,Nothing,typeof(SciMLBase.DEFAULT_OBSERVED),Nothing},OrdinaryDiffEq.Tsit5Cache{Array{Float64,1},Array{Float64,1},Array{Float64,1},OrdinaryDiffEq.Tsit5ConstantCache{Float64,Float64}},OrdinaryDiffEq.DEOptions{Float64,Float64,Float64,Float64,typeof(DiffEqBase.ODE_DEFAULT_NORM),typeof(opnorm),Nothing,CallbackSet{Tuple{},Tuple{}},typeof(DiffEqBase.ODE_DEFAULT_ISOUTOFDOMAIN),typeof(DiffEqBase.ODE_DEFAULT_PROG_MESSAGE),typeof(DiffEqBase.ODE_DEFAULT_UNSTABLE_CHECK),DataStructures.BinaryHeap{Float64,Base.Order.ForwardOrdering},DataStructures.BinaryHeap{Float64,Base.Order.ForwardOrdering},Nothing,Nothing,Int64,Tuple{},Tuple{},Tuple{}},Array{Float64,1},Float64,Nothing,OrdinaryDiffEq.DefaultInit}) at /home/mat/.julia/packages/OrdinaryDiffEq/5egkj/src/solve.jl:452",
      " [7] #__solve#404 at /home/mat/.julia/packages/OrdinaryDiffEq/5egkj/src/solve.jl:5 [inlined]",
      " [8] #solve_call#56 at /home/mat/.julia/packages/DiffEqBase/qntkj/src/solve.jl:61 [inlined]",
      " [9] solve_up(::ODEProblem{Array{Float64,1},Tuple{Float64,Float64},true,SciMLBase.NullParameters,ODEFunction{true,typeof(lorenz63!),UniformScaling{Bool},Nothing,Nothing,Nothing,Nothing,Nothing,Nothing,Nothing,Nothing,Nothing,Nothing,Nothing,Nothing,typeof(SciMLBase.DEFAULT_OBSERVED),Nothing},Base.Iterators.Pairs{Union{},Union{},Tuple{},NamedTuple{(),Tuple{}}},SciMLBase.StandardODEProblem}, ::Nothing, ::Array{Float64,1}, ::SciMLBase.NullParameters, ::Tsit5; kwargs::Base.Iterators.Pairs{Symbol,Bool,Tuple{Symbol,Symbol},NamedTuple{(:dense, :save_everystep),Tuple{Bool,Bool}}}) at /home/mat/.julia/packages/DiffEqBase/qntkj/src/solve.jl:82",
      " [10] #solve#57 at /home/mat/.julia/packages/DiffEqBase/qntkj/src/solve.jl:70 [inlined]",
      " [11] batch_func(::Int64, ::EnsembleProblem{ODEProblem{Array{Float64,1},Tuple{Float64,Float64},true,SciMLBase.NullParameters,ODEFunction{true,typeof(lorenz63!),UniformScaling{Bool},Nothing,Nothing,Nothing,Nothing,Nothing,Nothing,Nothing,Nothing,Nothing,Nothing,Nothing,Nothing,typeof(SciMLBase.DEFAULT_OBSERVED),Nothing},Base.Iterators.Pairs{Union{},Union{},Tuple{},NamedTuple{(),Tuple{}}},SciMLBase.StandardODEProblem},AdaptiveTransportMap.var\"#prob_func#215\"{Int64,Int64},AdaptiveTransportMap.var\"#214#216\",typeof(SciMLBase.DEFAULT_REDUCTION),Nothing}, ::Tsit5; kwargs::Base.Iterators.Pairs{Symbol,Bool,Tuple{Symbol,Symbol},NamedTuple{(:dense, :save_everystep),Tuple{Bool,Bool}}}) at /home/mat/.julia/packages/SciMLBase/dyqr8/src/ensemble/basic_ensemble_solve.jl:143",
      " [12] (::SciMLBase.var\"#439#440\"{Base.Iterators.Pairs{Symbol,Bool,Tuple{Symbol,Symbol},NamedTuple{(:dense, :save_everystep),Tuple{Bool,Bool}}},EnsembleProblem{ODEProblem{Array{Float64,1},Tuple{Float64,Float64},true,SciMLBase.NullParameters,ODEFunction{true,typeof(lorenz63!),UniformScaling{Bool},Nothing,Nothing,Nothing,Nothing,Nothing,Nothing,Nothing,Nothing,Nothing,Nothing,Nothing,Nothing,typeof(SciMLBase.DEFAULT_OBSERVED),Nothing},Base.Iterators.Pairs{Union{},Union{},Tuple{},NamedTuple{(),Tuple{}}},SciMLBase.StandardODEProblem},AdaptiveTransportMap.var\"#prob_func#215\"{Int64,Int64},AdaptiveTransportMap.var\"#214#216\",typeof(SciMLBase.DEFAULT_REDUCTION),Nothing},Tsit5})(::Int64) at /home/mat/.julia/packages/SciMLBase/dyqr8/src/ensemble/basic_ensemble_solve.jl:196",
      " [13] responsible_map(::Function, ::UnitRange{Int64}) at /home/mat/.julia/packages/SciMLBase/dyqr8/src/ensemble/basic_ensemble_solve.jl:189",
      " [14] solve_batch(::EnsembleProblem{ODEProblem{Array{Float64,1},Tuple{Float64,Float64},true,SciMLBase.NullParameters,ODEFunction{true,typeof(lorenz63!),UniformScaling{Bool},Nothing,Nothing,Nothing,Nothing,Nothing,Nothing,Nothing,Nothing,Nothing,Nothing,Nothing,Nothing,typeof(SciMLBase.DEFAULT_OBSERVED),Nothing},Base.Iterators.Pairs{Union{},Union{},Tuple{},NamedTuple{(),Tuple{}}},SciMLBase.StandardODEProblem},AdaptiveTransportMap.var\"#prob_func#215\"{Int64,Int64},AdaptiveTransportMap.var\"#214#216\",typeof(SciMLBase.DEFAULT_REDUCTION),Nothing}, ::Tsit5, ::EnsembleSerial, ::UnitRange{Int64}, ::Int64; kwargs::Base.Iterators.Pairs{Symbol,Bool,Tuple{Symbol,Symbol},NamedTuple{(:dense, :save_everystep),Tuple{Bool,Bool}}}) at /home/mat/.julia/packages/SciMLBase/dyqr8/src/ensemble/basic_ensemble_solve.jl:195",
      " [15] solve_batch(::EnsembleProblem{ODEProblem{Array{Float64,1},Tuple{Float64,Float64},true,SciMLBase.NullParameters,ODEFunction{true,typeof(lorenz63!),UniformScaling{Bool},Nothing,Nothing,Nothing,Nothing,Nothing,Nothing,Nothing,Nothing,Nothing,Nothing,Nothing,Nothing,typeof(SciMLBase.DEFAULT_OBSERVED),Nothing},Base.Iterators.Pairs{Union{},Union{},Tuple{},NamedTuple{(),Tuple{}}},SciMLBase.StandardODEProblem},AdaptiveTransportMap.var\"#prob_func#215\"{Int64,Int64},AdaptiveTransportMap.var\"#214#216\",typeof(SciMLBase.DEFAULT_REDUCTION),Nothing}, ::Tsit5, ::EnsembleThreads, ::UnitRange{Int64}, ::Int64; kwargs::Base.Iterators.Pairs{Symbol,Bool,Tuple{Symbol,Symbol},NamedTuple{(:dense, :save_everystep),Tuple{Bool,Bool}}}) at /home/mat/.julia/packages/SciMLBase/dyqr8/src/ensemble/basic_ensemble_solve.jl:204",
      " [16] macro expansion at ./timing.jl:233 [inlined]",
      " [17] __solve(::EnsembleProblem{ODEProblem{Array{Float64,1},Tuple{Float64,Float64},true,SciMLBase.NullParameters,ODEFunction{true,typeof(lorenz63!),UniformScaling{Bool},Nothing,Nothing,Nothing,Nothing,Nothing,Nothing,Nothing,Nothing,Nothing,Nothing,Nothing,Nothing,typeof(SciMLBase.DEFAULT_OBSERVED),Nothing},Base.Iterators.Pairs{Union{},Union{},Tuple{},NamedTuple{(),Tuple{}}},SciMLBase.StandardODEProblem},AdaptiveTransportMap.var\"#prob_func#215\"{Int64,Int64},AdaptiveTransportMap.var\"#214#216\",typeof(SciMLBase.DEFAULT_REDUCTION),Nothing}, ::Tsit5, ::EnsembleThreads; trajectories::Int64, batch_size::Int64, pmap_batch_size::Int64, kwargs::Base.Iterators.Pairs{Symbol,Bool,Tuple{Symbol,Symbol},NamedTuple{(:dense, :save_everystep),Tuple{Bool,Bool}}}) at /home/mat/.julia/packages/SciMLBase/dyqr8/src/ensemble/basic_ensemble_solve.jl:108",
      " [18] #solve#59 at /home/mat/.julia/packages/DiffEqBase/qntkj/src/solve.jl:96 [inlined]",
      " [19] seqassim(::StateSpace, ::SyntheticData, ::Int64, ::AdditiveInflation, ::StochMapFilter, ::Array{Float64,2}, ::Int64, ::Int64, ::Float64) at /media/mat/HDD/AdaptiveTransportMap/src/DA/seqassim.jl:32",
      " [20] top-level scope at In[252]:1",
      " [21] include_string(::Function, ::Module, ::String, ::String) at ./loading.jl:1091"
     ]
    }
   ],
   "source": [
    "Xsmf = seqassim(F, data, 200, model.ϵx, smf, deepcopy(X), model.Ny, model.Nx, t0);"
   ]
  },
  {
   "cell_type": "code",
   "execution_count": 206,
   "metadata": {},
   "outputs": [
    {
     "data": {
      "text/plain": [
       "1"
      ]
     },
     "execution_count": 206,
     "metadata": {},
     "output_type": "execute_result"
    }
   ],
   "source": [
    "nb = 1\n",
    "ne = 100\n",
    "Δ = 1"
   ]
  },
  {
   "cell_type": "code",
   "execution_count": 202,
   "metadata": {},
   "outputs": [
    {
     "data": {
      "text/plain": [
       "3×1000 Array{Float64,2}:\n",
       " 2.19995    6.69494  17.0328  15.0845   …  -2.16126  -3.73518   -7.39222\n",
       " 4.48947   14.1139   27.3883   0.19421     -3.02302  -6.17331  -12.6411\n",
       " 0.767393   4.11424  27.2119  46.6231      16.6741   14.0126    15.3754"
      ]
     },
     "execution_count": 202,
     "metadata": {},
     "output_type": "execute_result"
    }
   ],
   "source": [
    "data.xt"
   ]
  },
  {
   "cell_type": "code",
   "execution_count": 207,
   "metadata": {},
   "outputs": [
    {
     "data": {
      "image/png": "[encoded data removed]"
     },
     "execution_count": 207,
     "metadata": {},
     "output_type": "execute_result"
    }
   ],
   "source": [
    "plot(data.tt[nb:Δ:ne], mean_hist(Xsmf)[1,:])\n",
    "plot!(data.tt[nb:Δ:ne], data.xt[1,nb:Δ:ne], linewidth =  3, color = :teal, label = \"True\")"
   ]
  },
  {
   "cell_type": "code",
   "execution_count": 94,
   "metadata": {},
   "outputs": [
    {
     "ename": "LoadError",
     "evalue": "\u001b[91mBoundsError: attempt to access 3×201 Array{Float64,2} at index [1, 2:1:500]\u001b[39m",
     "output_type": "error",
     "traceback": [
      "\u001b[91mBoundsError: attempt to access 3×201 Array{Float64,2} at index [1, 2:1:500]\u001b[39m",
      "",
      "Stacktrace:",
      " [1] throw_boundserror(::Array{Float64,2}, ::Tuple{Int64,StepRange{Int64,Int64}}) at ./abstractarray.jl:541",
      " [2] checkbounds at ./abstractarray.jl:506 [inlined]",
      " [3] _getindex at ./multidimensional.jl:742 [inlined]",
      " [4] getindex(::Array{Float64,2}, ::Int64, ::StepRange{Int64,Int64}) at ./abstractarray.jl:1060",
      " [5] top-level scope at In[94]:7",
      " [6] include_string(::Function, ::Module, ::String, ::String) at ./loading.jl:1091"
     ]
    }
   ],
   "source": [
    "# Plot the first component of the state over time\n",
    "nb = 1\n",
    "ne = 499\n",
    "Δ = 1\n",
    "plt = plot(xlim = (-Inf, Inf), ylim = (-Inf, Inf), xlabel = L\"t\", ylabel = L\"x_1\")\n",
    "plot!(plt, data.tt[nb:Δ:ne], data.xt[1,nb:Δ:ne], linewidth =  3, color = :teal, label = \"True\")\n",
    "plot!(plt, data.tt[nb:Δ:ne], mean_hist(Xsmf)[1,1+nb:Δ:1+ne], linewidth = 3, grid = false,\n",
    "     color = :orangered2, linestyle = :dash, label = \"Stochastic Map Filter\")\n",
    "scatter!(plt, data.tt[nb:Δ:ne], data.yt[1,nb:Δ:ne], linewidth = 3, color = :grey, markersize = 5, alpha = 0.5, label = \"Observation\")\n",
    "plt"
   ]
  },
  {
   "cell_type": "code",
   "execution_count": 33,
   "metadata": {},
   "outputs": [
    {
     "ename": "LoadError",
     "evalue": "\u001b[91mBoundsError: attempt to access 1000-element Array{Float64,1} at index [5500]\u001b[39m",
     "output_type": "error",
     "traceback": [
      "\u001b[91mBoundsError: attempt to access 1000-element Array{Float64,1} at index [5500]\u001b[39m",
      "",
      "Stacktrace:",
      " [1] getindex at ./array.jl:809 [inlined]",
      " [2] getindex(::Array{Float64,1}, ::StepRange{Int64,Int64}) at ./array.jl:834",
      " [3] top-level scope at ./In[33]:9",
      " [4] include_string(::Function, ::Module, ::String, ::String) at ./loading.jl:1091"
     ]
    }
   ],
   "source": [
    "# Plot the different component of the state over time\n",
    "nb = 5500\n",
    "ne = 6000\n",
    "Δ = 1\n",
    "plt = plot(layout = grid(3,1), xlim = (-Inf, Inf), ylim = (-Inf, Inf), xlabel = L\"t\", \n",
    "           size = (900, 1000))\n",
    "\n",
    "for i =1:3\n",
    "    plot!(plt[i,1], data.tt[nb:Δ:ne], data.xt[i,nb:Δ:ne], linewidth =  2, color = :teal, \n",
    "          ylabel = latexstring(\"x_\"*string(i)), legend = (i == 1), label = \"True\")\n",
    "    plot!(plt[i,1], data.tt[nb:Δ:ne], mean_hist(Xsmf)[i,1+nb:Δ:1+ne], linewidth = 2, grid = false,\n",
    "          color = :orangered2, linestyle = :dash, label = \"sEnKF\")\n",
    "    scatter!(plt[i,1], data.tt[nb:Δ:ne], data.yt[i,nb:Δ:ne], linewidth = 3, color = :grey, \n",
    "          markersize = 5, alpha = 0.5, label  = \"Observation\")\n",
    "end\n",
    "\n",
    "plt"
   ]
  },
  {
   "cell_type": "markdown",
   "metadata": {},
   "source": [
    "Talk about the benchmark of the different filters"
   ]
  },
  {
   "cell_type": "markdown",
   "metadata": {},
   "source": [
    "### Benchmark of the EnKF filter"
   ]
  },
  {
   "cell_type": "code",
   "execution_count": 116,
   "metadata": {},
   "outputs": [
    {
     "name": "stdout",
     "output_type": "stream",
     "text": [
      "Ne 10 RMSE: 3.8254663423276716\n",
      "Ne 20 RMSE: 2.0605921219961134\n",
      "Ne 40 RMSE: 0.4223537564608097\n",
      "Ne 60 RMSE: 0.40146546759545937\n",
      "Ne 100 RMSE: 0.3877197292448612\n",
      "Ne 200 RMSE: 0.4025809532902939\n",
      " 15.443304 seconds (68.89 M allocations: 6.501 GiB, 6.17% gc time)\n"
     ]
    }
   ],
   "source": [
    "path = pwd()*\"/lorenz63/data/\"\n",
    "Nx = 3\n",
    "Ny = 3\n",
    "Ne_array = [10, 20, 40, 60, 100, 200];\n",
    "@time model, data = setup_lorenz63(path, Ne_array);"
   ]
  },
  {
   "cell_type": "code",
   "execution_count": 55,
   "metadata": {},
   "outputs": [
    {
     "name": "stdout",
     "output_type": "stream",
     "text": [
      "(Ne, β) = (10, 1.0)\n",
      "  0.482682 seconds (3.47 M allocations: 329.564 MiB, 11.44% gc time)\n",
      "Ne = 10\n",
      "Ne 10& β 1.0 RMSE: 0.6015590736992926\n"
     ]
    },
    {
     "name": "stderr",
     "output_type": "stream",
     "text": [
      "\r",
      "\u001b[32mProgress:  17%|██████▉                                  |  ETA: 0:00:05\u001b[39m"
     ]
    },
    {
     "name": "stdout",
     "output_type": "stream",
     "text": [
      "(Ne, β) = (20, 1.0)\n",
      "  "
     ]
    },
    {
     "name": "stderr",
     "output_type": "stream",
     "text": [
      "\r",
      "\u001b[32mProgress:  33%|█████████████▋                           |  ETA: 0:00:04\u001b[39m"
     ]
    },
    {
     "name": "stdout",
     "output_type": "stream",
     "text": [
      "0.859515 seconds (6.59 M allocations: 631.994 MiB, 8.56% gc time)\n",
      "Ne = 20\n",
      "Ne 20& β 1.0 RMSE: 0.5184477645494938\n",
      "(Ne, β) = (40, 1.0)\n",
      "  "
     ]
    },
    {
     "name": "stderr",
     "output_type": "stream",
     "text": [
      "\r",
      "\u001b[32mProgress:  50%|████████████████████▌                    |  ETA: 0:00:04\u001b[39m"
     ]
    },
    {
     "name": "stdout",
     "output_type": "stream",
     "text": [
      "1.662244 seconds (12.83 M allocations: 1.210 GiB, 8.65% gc time)\n",
      "Ne = 40\n",
      "Ne 40& β 1.0 RMSE: 0.4483744816193398\n",
      "(Ne, β) = (60, 1.0)\n",
      "  "
     ]
    },
    {
     "name": "stderr",
     "output_type": "stream",
     "text": [
      "\r",
      "\u001b[32mProgress:  67%|███████████████████████████▍             |  ETA: 0:00:03\u001b[39m"
     ]
    },
    {
     "name": "stdout",
     "output_type": "stream",
     "text": [
      "2.463622 seconds (19.07 M allocations: 1.804 GiB, 8.51% gc time)\n",
      "Ne = 60\n",
      "Ne 60& β 1.0 RMSE: 0.4403101469791623\n",
      "(Ne, β) = (100, 1.0)\n",
      "  "
     ]
    },
    {
     "name": "stderr",
     "output_type": "stream",
     "text": [
      "\r",
      "\u001b[32mProgress:  83%|██████████████████████████████████▏      |  ETA: 0:00:02\u001b[39m"
     ]
    },
    {
     "name": "stdout",
     "output_type": "stream",
     "text": [
      "4.334649 seconds (31.55 M allocations: 2.983 GiB, 8.49% gc time)\n",
      "Ne = 100\n",
      "Ne 100& β 1.0 RMSE: 0.4303647629868742\n",
      "(Ne, β) = (200, 1.0)\n",
      " 13.776164 seconds (62.75 M allocations: 5.935 GiB, 7.19% gc time)\n",
      "Ne = 200\n",
      "Ne 200& β 1.0 RMSE: 0.4465248257137066"
     ]
    },
    {
     "name": "stderr",
     "output_type": "stream",
     "text": [
      "\r",
      "\u001b[32mProgress: 100%|█████████████████████████████████████████| Time: 0:00:24\u001b[39m\n"
     ]
    },
    {
     "name": "stdout",
     "output_type": "stream",
     "text": [
      "\n"
     ]
    },
    {
     "data": {
      "text/plain": [
       "6-element Array{Any,1}:\n",
       " Metrics[Metrics(10, [0.8166106052280312, 0.8477976249831615, 0.5377435004826744, 0.2946057216215732, 0.1963372890873663, 0.1661211989653268, 0.09550122139602638, 0.10895691501209233, 0.061645037116889324, 0.1556247918798692  …  4.0942175082812975, 2.918216773645667, 2.293946056603929, 2.3368525142834664, 2.9966610036699945, 2.488711153121422, 2.060789991067101, 2.000268585410395, 2.0094430111553767, 1.633586039615903], 0.37686107778341077, 0.6015590736992926, 0.8149386709205617, [1.0125271950095414, 0.9623361052178709, 0.7792957424814254, 0.4344193482216172, 0.2873587820499424, 0.2729751953413108, 0.40382950988831384, 0.6108278943470481, 0.6592219807793599, 0.4157011617649463  …  0.6622613427311322, 0.9156031963385003, 1.1880540752197546, 1.010250360884169, 0.9055102239545725, 0.6429162631150634, 0.5592022167774022, 0.6557579770729094, 0.987851621549649, 1.1234614213819019], 0.4419068954362283, 0.5053138269227165, 0.25903240927442023, [1.0, 1.0, 0.6666666666666666, 0.6666666666666666, 1.0, 1.0, 1.0, 1.0, 1.0, 1.0  …  0.6666666666666666, 0.6666666666666666, 0.3333333333333333, 0.3333333333333333, 0.0, 0.3333333333333333, 0.0, 0.0, 0.3333333333333333, 0.6666666666666666], 1.0, 0.7261666666666667, 0.36457522740458864)]\n",
       " Metrics[Metrics(20, [0.8009234015601246, 0.8873529418152709, 0.9648186335874159, 0.2241641575750264, 0.08972122691323191, 0.40502498541772275, 0.9061432442037632, 1.2895306531554689, 0.7946468671210342, 0.3985672597736556  …  0.3346030298442835, 0.5163997563927475, 0.43517438396749325, 0.598360550796541, 0.5362700352527868, 0.4471320623829449, 0.29561670268590506, 0.18851296824592492, 0.17522643152541226, 0.07857223386207775], 0.35531061663093255, 0.5184477645494938, 0.4845044270612191, [1.3258269952984914, 1.219366525258285, 1.1067738085368013, 0.8876478449926386, 0.6257782703432062, 0.5204509248590731, 0.6103587013183903, 0.7679474941003844, 0.5675737349456604, 0.5082509495209795  …  0.5453088799482404, 0.5575510867223642, 0.5540770509755611, 0.5983031348899548, 0.50022559167807, 0.42259328666553975, 0.3198506611541602, 0.3043017231422324, 0.38395027869333503, 0.5385430054163486], 0.47192182393714555, 0.5305997869038892, 0.24119505026883653, [1.0, 1.0, 1.0, 1.0, 1.0, 1.0, 0.3333333333333333, 0.0, 0.6666666666666666, 1.0  …  1.0, 1.0, 1.0, 1.0, 1.0, 1.0, 1.0, 1.0, 1.0, 1.0], 1.0, 0.8525, 0.2979733949063843)]\n",
       " Metrics[Metrics(40, [0.9826817575939837, 0.8853553187784176, 0.3822879886654962, 0.1560808317176755, 0.16401163158104606, 0.2641915580627298, 0.4821786668586909, 0.7562409207457594, 0.5304897251404828, 0.2335617480836244  …  0.46302073478462163, 0.44641521503457005, 0.5198248995974374, 0.8841581293917309, 0.8944940422060007, 0.6869037355788589, 0.47199979466366954, 0.3146926290239334, 0.22052593050442004, 0.2011946269035898], 0.31988125779252113, 0.4483744816193398, 0.3888888264729722, [0.9910648265607959, 1.0389612210939443, 0.9976972004017787, 0.6975832292555886, 0.40656021680950216, 0.3543519277702079, 0.4841426130471005, 0.6802004103354949, 0.5357937586885131, 0.4567283561463507  …  0.34892484591013456, 0.4717990778913134, 0.618724675393529, 0.5828250426543808, 0.4770344985964706, 0.39083347571382326, 0.2923228793059253, 0.3054108982896446, 0.45375090190774553, 0.6625324478592381], 0.4946079848132213, 0.5558350191174204, 0.23424766693404636, [1.0, 1.0, 1.0, 1.0, 1.0, 1.0, 1.0, 1.0, 1.0, 1.0  …  0.6666666666666666, 1.0, 1.0, 0.6666666666666666, 0.6666666666666666, 0.6666666666666666, 0.6666666666666666, 0.6666666666666666, 1.0, 1.0], 1.0, 0.9485, 0.17881512390001802)]\n",
       " Metrics[Metrics(60, [0.9958246928389437, 1.1406683287468808, 0.5892665012618263, 0.06937257988643586, 0.11686273681705214, 0.2663933938825168, 0.5322621212098003, 0.9316025189352882, 0.728746365036979, 0.4082893401458479  …  0.22786860029792666, 0.31749262144454576, 0.35389057590962486, 0.5051968531575757, 0.556030690676821, 0.4877666524221944, 0.30372102936096423, 0.2222280953223254, 0.28222115198656517, 0.24913840043694432], 0.30630601607276686, 0.4403101469791623, 0.38370929842878665, [1.15339760434503, 1.111068400675063, 1.0617894821482072, 0.7246278025729431, 0.4659868724356628, 0.4125774571657407, 0.5030501098617005, 0.6339205155508028, 0.5972643721683021, 0.4689687485398599  …  0.3842024564419135, 0.48550370981036023, 0.5900843703168447, 0.6445608536580213, 0.500422315137187, 0.4156164932470485, 0.3016388798926969, 0.2916869146188145, 0.40422049044227376, 0.6320377754649462], 0.5153348159848088, 0.5717853643157081, 0.2325183875067794, [1.0, 1.0, 1.0, 1.0, 1.0, 1.0, 1.0, 1.0, 1.0, 1.0  …  1.0, 1.0, 1.0, 1.0, 1.0, 1.0, 1.0, 1.0, 1.0, 1.0], 1.0, 0.9791666666666667, 0.10627248639759496)]\n",
       " Metrics[Metrics(100, [1.1447153311331781, 1.38577826954797, 0.8011100613741654, 0.2521263581826285, 0.3020487816972422, 0.508284816604461, 0.8670734818498514, 1.1608770052370112, 0.8718084104569586, 0.5296218649707812  …  0.2398186998545124, 0.25503741685515185, 0.22177804228613865, 0.41110055435395404, 0.47496251760836805, 0.40719857492095896, 0.24764360531773363, 0.13828193095173355, 0.0826234199512165, 0.26856854675486025], 0.2893155689372151, 0.4303647629868742, 0.38191564508486936, [0.9527704170384034, 0.9321001672664082, 1.0398646440457058, 0.6935998849951813, 0.44319915626874445, 0.3912492072948739, 0.5244511435147953, 0.6086134296913539, 0.5544278894887922, 0.4791755006959619  …  0.3928515891332105, 0.5199694696873517, 0.6603156868760311, 0.7450505076075534, 0.6302553655749117, 0.5068577227060873, 0.37451309930446913, 0.35529727887821777, 0.5185904054762793, 0.7753972206416857], 0.5329209748271038, 0.5871951348369144, 0.2322523924985191, [1.0, 1.0, 1.0, 1.0, 1.0, 1.0, 1.0, 1.0, 1.0, 1.0  …  1.0, 1.0, 1.0, 1.0, 1.0, 1.0, 1.0, 1.0, 1.0, 1.0], 1.0, 0.9911666666666668, 0.07514664299502112)]\n",
       " Metrics[Metrics(200, [0.888273273483637, 1.0797033517549515, 0.3440269499593048, 0.21420101076430767, 0.16162425690189322, 0.3253767298519863, 0.7050060288401291, 1.0723841440703699, 0.7927858236953814, 0.37303796598152517  …  0.14863863331263572, 0.13098694675828024, 0.01569618827238591, 0.16380423196922922, 0.33101947558854705, 0.3183054841536702, 0.19962116984435951, 0.10929821953369317, 0.07402847742163798, 0.21688151831203697], 0.3082727000481167, 0.4465248257137066, 0.38847206086051883, [1.1025016902484062, 1.1585146386588427, 1.050280287671641, 0.7264029154997294, 0.46463567765400915, 0.4408017551630872, 0.5331142954826315, 0.6640979088648434, 0.6326136904712192, 0.5171574662091373  …  0.4291626962129586, 0.5520631256132565, 0.6739989865135746, 0.774635718849873, 0.6359763126942447, 0.5135438852089059, 0.3752157713769756, 0.3581808492199844, 0.47687145842631096, 0.6813329693353127], 0.5508320940815306, 0.6018345158581575, 0.23071327806131858, [1.0, 1.0, 1.0, 1.0, 1.0, 1.0, 1.0, 1.0, 1.0, 1.0  …  1.0, 1.0, 1.0, 1.0, 1.0, 1.0, 1.0, 1.0, 1.0, 1.0], 1.0, 0.9908333333333332, 0.07584313842648356)]"
      ]
     },
     "execution_count": 55,
     "metadata": {},
     "output_type": "execute_result"
    }
   ],
   "source": [
    "metric_list = benchmark_lorenz63(model, data, path, Ne_array, [1.0])"
   ]
  },
  {
   "cell_type": "code",
   "execution_count": 23,
   "metadata": {},
   "outputs": [
    {
     "name": "stdout",
     "output_type": "stream",
     "text": [
      "(Ne, β) = (200, 1.0)\n",
      "  7.739944 seconds (62.75 M allocations: 5.935 GiB, 6.06% gc time)\n",
      "Ne = 200\n",
      "Ne 200& β 1.0 RMSE: 0.4189442707516625\n"
     ]
    },
    {
     "data": {
      "text/plain": [
       "1-element Array{Any,1}:\n",
       " Metrics[Metrics(200, [0.27418871478089074, 0.4011111920900346, 0.6224367042654201, 1.1940241372680338, 1.178706937442249, 0.629896584355798, 0.37352902606306937, 0.27598562967074297, 0.3415108073527272, 0.5385900049790774  …  0.22005926456584765, 0.11117371050261328, 0.0745833426310767, 0.06915409494524392, 0.23566185689849842, 0.4284533696688461, 0.7382482677445492, 1.2785156926466672, 0.9477650979445261, 0.8579855755647071], 0.2843509443072877, 0.4189442707516625, 0.3843942458358231, [0.2791191166770778, 0.3308824803118106, 0.5356751453956368, 0.7482658949655999, 0.6849666981780923, 0.5401293761758875, 0.3905840265207302, 0.30529026491290673, 0.3612676308031941, 0.5506587576884893  …  0.9550452598208562, 0.7275900415277436, 0.5097020874896808, 0.38068472189933705, 0.44668108906035564, 0.6711198461183089, 0.7934070557338772, 0.953289237580203, 1.0821830718436276, 1.1373384160933897], 0.529889526630428, 0.584733698922179, 0.23401428353181045, [1.0, 1.0, 1.0, 1.0, 0.6666666666666666, 1.0, 1.0, 1.0, 1.0, 1.0  …  1.0, 1.0, 1.0, 1.0, 1.0, 1.0, 1.0, 1.0, 1.0, 1.0], 1.0, 0.9928333333333332, 0.065876381401767)]"
      ]
     },
     "execution_count": 23,
     "metadata": {},
     "output_type": "execute_result"
    }
   ],
   "source": [
    "metric_list = benchmark_lorenz63(model, data, path, Ne_array, [1.0])"
   ]
  }
 ],
 "metadata": {
  "kernelspec": {
   "display_name": "Julia 1.5.3",
   "language": "julia",
   "name": "julia-1.5"
  },
  "language_info": {
   "file_extension": ".jl",
   "mimetype": "application/julia",
   "name": "julia",
   "version": "1.5.3"
  }
 },
 "nbformat": 4,
 "nbformat_minor": 2
}
