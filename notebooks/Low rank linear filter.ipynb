{
 "cells": [
  {
   "cell_type": "code",
   "execution_count": 1,
   "metadata": {},
   "outputs": [
    {
     "name": "stderr",
     "output_type": "stream",
     "text": [
      "\u001b[32m\u001b[1m Activating\u001b[22m\u001b[39m environment at `/media/mat/HDD/AdaptiveTransportMap/Project.toml`\n"
     ]
    }
   ],
   "source": [
    "using Pkg\n",
    "Pkg.activate(\"/media/mat/HDD/AdaptiveTransportMap/\")"
   ]
  },
  {
   "cell_type": "code",
   "execution_count": 2,
   "metadata": {},
   "outputs": [],
   "source": [
    "using Revise\n",
    "using LinearAlgebra\n",
    "using AdaptiveTransportMap\n",
    "using Statistics\n",
    "using Distributions\n",
    "using Test\n",
    "using ForwardDiff\n",
    "using SpecialFunctions\n",
    "using OrthoMatchingPursuit\n",
    "using BenchmarkTools"
   ]
  },
  {
   "cell_type": "code",
   "execution_count": 3,
   "metadata": {},
   "outputs": [],
   "source": [
    "using Plots\n",
    "default(tickfont = font(\"CMU Serif\", 9), \n",
    "        titlefont = font(\"CMU Serif\", 14), \n",
    "        guidefont = font(\"CMU Serif\", 12),\n",
    "        legendfont = font(\"CMU Serif\", 10),\n",
    "        grid = false)\n",
    "# Plots.font(\"sans-serif\")\n",
    "# clibrary(:colorbrewer)\n",
    "# gr()\n",
    "pyplot()\n",
    "\n",
    "using LaTeXStrings\n",
    "# PyPlot.rc(\"text\", usetex = \"true\")\n",
    "# rcParams = PyPlot.PyDict(PyPlot.matplotlib.\"rcParams\")\n",
    "# rcParams[\"text.usetex\"] = true;\n",
    "PyPlot.rc(\"font\", family = \"CMU Serif\")\n",
    "PyPlot.matplotlib[:rc](\"mathtext\",fontset=\"cm\")        #computer modern font \n",
    "PyPlot.matplotlib[:rc](\"font\",family=\"serif\",size=12)"
   ]
  },
  {
   "cell_type": "code",
   "execution_count": 67,
   "metadata": {},
   "outputs": [
    {
     "data": {
      "text/plain": [
       "AdditiveInflation(20, [0.0, 0.0, 0.0, 0.0, 0.0, 0.0, 0.0, 0.0, 0.0, 0.0, 0.0, 0.0, 0.0, 0.0, 0.0, 0.0, 0.0, 0.0, 0.0, 0.0], [2.25 0.0 … 0.0 0.0; 0.0 2.25 … 0.0 0.0; … ; 0.0 0.0 … 2.25 0.0; 0.0 0.0 … 0.0 2.25], [1.5 0.0 … 0.0 0.0; 0.0 1.5 … 0.0 0.0; … ; 0.0 0.0 … 1.5 0.0; 0.0 0.0 … 0.0 1.5])"
      ]
     },
     "execution_count": 67,
     "metadata": {},
     "output_type": "execute_result"
    }
   ],
   "source": [
    "Nx = 20\n",
    "Ny = 5\n",
    "r = min(4, min(Nx, Ny))\n",
    "Ne = 500\n",
    "H = randn(Ny, Nx)\n",
    "\n",
    "σy = 0.1\n",
    "Σy = Matrix(σy^2*I, Ny, Ny)\n",
    "ϵy = AdditiveInflation(zeros(Ny), σy)\n",
    "\n",
    "σx = 1.5\n",
    "Σx = Matrix(σx^2*I, Nx, Nx)\n",
    "L = cholesky(inv(Σx))\n",
    "ϵx = AdditiveInflation(zeros(Nx), σx)"
   ]
  },
  {
   "cell_type": "code",
   "execution_count": 68,
   "metadata": {},
   "outputs": [
    {
     "data": {
      "text/plain": [
       "5×20 Array{Float64,2}:\n",
       "  1.40911   -0.542016  -1.29031   …  0.241828  0.452759    0.419904\n",
       "  0.868259  -0.524189  -1.31347      0.930835  0.0105768   1.83061\n",
       " -0.152393  -0.138478  -0.185942     1.02781   1.18016    -0.316326\n",
       "  2.07827   -0.208929   0.946394     1.75793   1.32969    -1.34708\n",
       "  0.446048   0.2675     0.376995     1.19496   1.07575     0.277853"
      ]
     },
     "execution_count": 68,
     "metadata": {},
     "output_type": "execute_result"
    }
   ],
   "source": [
    "H"
   ]
  },
  {
   "cell_type": "code",
   "execution_count": 69,
   "metadata": {},
   "outputs": [],
   "source": [
    "X = zeros(Ny+Nx, Ne)\n",
    "ϵx(X, Ny+1, Ny+Nx)"
   ]
  },
  {
   "cell_type": "code",
   "execution_count": 70,
   "metadata": {},
   "outputs": [
    {
     "data": {
      "text/plain": [
       "5-element Array{Float64,1}:\n",
       " -4.891984412355458\n",
       "  8.865793079795054\n",
       "  0.8786338833450253\n",
       "  2.9121960760269476\n",
       " 13.675396213887693"
      ]
     },
     "execution_count": 70,
     "metadata": {},
     "output_type": "execute_result"
    }
   ],
   "source": [
    "xstar = σx*randn(Nx)\n",
    "ystar = H*xstar"
   ]
  },
  {
   "cell_type": "code",
   "execution_count": 71,
   "metadata": {},
   "outputs": [
    {
     "data": {
      "text/plain": [
       "25×500 Array{Float64,2}:\n",
       "  0.0         0.0           0.0        …   0.0        0.0         0.0\n",
       "  0.0         0.0           0.0            0.0        0.0         0.0\n",
       "  0.0         0.0           0.0            0.0        0.0         0.0\n",
       "  0.0         0.0           0.0            0.0        0.0         0.0\n",
       "  0.0         0.0           0.0            0.0        0.0         0.0\n",
       " -0.721047   -0.738251      2.96268    …   1.0146     2.06993     0.223161\n",
       "  0.262601    1.27594       0.385642       1.25185    0.764466   -0.915046\n",
       " -0.840708   -2.77206      -3.67848       -0.31705   -0.0356741  -0.330502\n",
       " -1.98257     0.178815      1.5381         2.21129    0.0119122  -0.672179\n",
       "  1.24507     2.03987       0.54293       -0.992132   0.678601    1.69698\n",
       "  2.34897     2.52923      -0.0985964  …  -1.1775     1.05178     1.69108\n",
       " -0.258631   -0.00922065    0.78148        1.67597   -1.21641    -1.57921\n",
       "  0.0244549  -0.423927     -1.47121       -1.98113    0.907536   -0.829277\n",
       " -0.699854    2.28294      -2.58609        0.144181  -0.0803568   1.17812\n",
       " -2.74842     1.7023       -1.19961        0.904738   1.3087     -1.33307\n",
       "  1.26059     1.15416      -1.86807    …  -0.629817  -0.363983    0.824242\n",
       " -1.25942     0.239707     -0.994379       0.841098   0.576103   -1.35922\n",
       "  0.772428    0.667903     -0.894493       0.321012   1.23989    -0.668449\n",
       "  1.83576     1.44194      -0.733278      -0.754844   0.378333    2.65859\n",
       " -1.44928     0.000517514  -1.06287       -0.608333  -1.09151     0.165202\n",
       "  1.2252      0.70628      -0.0913647  …   2.18336   -2.05143     0.436703\n",
       "  0.1924      2.67687       0.316451      -0.758399   0.603138    1.28428\n",
       "  0.707142    2.34992      -0.507009      -0.490838   0.556083   -0.442673\n",
       " -0.103171    0.346167     -1.02032        3.82143    0.0257069   3.2293\n",
       "  0.540687   -1.41724      -1.71231       -0.802519   0.761298    0.453864"
      ]
     },
     "execution_count": 71,
     "metadata": {},
     "output_type": "execute_result"
    }
   ],
   "source": [
    "X"
   ]
  },
  {
   "cell_type": "code",
   "execution_count": 72,
   "metadata": {},
   "outputs": [],
   "source": [
    "# Compute observations\n",
    "observe((x, t)->H*x, X, 0.0, Ny, Nx)"
   ]
  },
  {
   "cell_type": "code",
   "execution_count": 73,
   "metadata": {},
   "outputs": [
    {
     "data": {
      "text/plain": [
       "5-element Array{Float64,1}:\n",
       " 6.763675267042906\n",
       " 6.262297250697275\n",
       " 3.298216208409175\n",
       " 1.3760444856512617\n",
       " 1.2213196251252552"
      ]
     },
     "execution_count": 73,
     "metadata": {},
     "output_type": "execute_result"
    }
   ],
   "source": [
    "H*X[Ny+1:Ny+Nx,1]"
   ]
  },
  {
   "cell_type": "code",
   "execution_count": 74,
   "metadata": {},
   "outputs": [],
   "source": [
    "# Perturb observations\n",
    "ϵy(X, 1, Ny)"
   ]
  },
  {
   "cell_type": "code",
   "execution_count": 75,
   "metadata": {},
   "outputs": [
    {
     "data": {
      "text/plain": [
       "5×20 Array{Float64,2}:\n",
       " 21.1366   -8.13024  -19.3546    5.25464  …   3.62743   6.79139     6.29855\n",
       " 13.0239   -7.86283  -19.7021    4.35763     13.9625    0.158651   27.4591\n",
       " -2.2859   -2.07717   -2.78913  -3.46195     15.4171   17.7024     -4.74489\n",
       " 31.174    -3.13394   14.1959    7.92056     26.3689   19.9453    -20.2062\n",
       "  6.69072   4.0125     5.65493  16.347       17.9244   16.1362      4.16779"
      ]
     },
     "execution_count": 75,
     "metadata": {},
     "output_type": "execute_result"
    }
   ],
   "source": [
    "H̃ = Σy^(-1/2)*H*Σx^(1/2)"
   ]
  },
  {
   "cell_type": "code",
   "execution_count": 76,
   "metadata": {},
   "outputs": [
    {
     "data": {
      "text/plain": [
       "1.412212115435692e-13"
      ]
     },
     "execution_count": 76,
     "metadata": {},
     "output_type": "execute_result"
    }
   ],
   "source": [
    "svdH̃ = svd(H̃)\n",
    "Λ = svdH̃.S\n",
    "U = svdH̃.U\n",
    "V = Matrix(svdH̃.Vt')\n",
    "\n",
    "norm(U*Diagonal(Λ)*V'-H̃)"
   ]
  },
  {
   "cell_type": "code",
   "execution_count": 77,
   "metadata": {},
   "outputs": [
    {
     "data": {
      "image/png": "[encoded data removed]"
     },
     "execution_count": 77,
     "metadata": {},
     "output_type": "execute_result"
    }
   ],
   "source": [
    "plot(Λ, yscale = :log10, label = L\"Singular values of $\\tilde{H}$\")"
   ]
  },
  {
   "cell_type": "code",
   "execution_count": 78,
   "metadata": {},
   "outputs": [
    {
     "data": {
      "text/plain": [
       "5×5 Array{Float64,2}:\n",
       " 0.01  0.0   0.0   0.0   0.0\n",
       " 0.0   0.01  0.0   0.0   0.0\n",
       " 0.0   0.0   0.01  0.0   0.0\n",
       " 0.0   0.0   0.0   0.01  0.0\n",
       " 0.0   0.0   0.0   0.0   0.01"
      ]
     },
     "execution_count": 78,
     "metadata": {},
     "output_type": "execute_result"
    }
   ],
   "source": [
    "Σy"
   ]
  },
  {
   "cell_type": "code",
   "execution_count": 79,
   "metadata": {},
   "outputs": [
    {
     "data": {
      "text/plain": [
       "25×500 Array{Float64,2}:\n",
       "  6.73689     2.7492       13.7799     …   2.85384    4.91019     6.0684\n",
       "  6.39059     1.27703       3.1138        -3.6761     2.33419     6.41564\n",
       "  3.3852      5.86613      -0.203432       1.31903    5.90363     3.03739\n",
       "  1.26476    -4.51075       4.58518       11.5688    -0.304026    6.74989\n",
       "  1.19418     7.81381      -4.60762        5.43186    1.95165     6.67825\n",
       " -0.721047   -0.738251      2.96268    …   1.0146     2.06993     0.223161\n",
       "  0.262601    1.27594       0.385642       1.25185    0.764466   -0.915046\n",
       " -0.840708   -2.77206      -3.67848       -0.31705   -0.0356741  -0.330502\n",
       " -1.98257     0.178815      1.5381         2.21129    0.0119122  -0.672179\n",
       "  1.24507     2.03987       0.54293       -0.992132   0.678601    1.69698\n",
       "  2.34897     2.52923      -0.0985964  …  -1.1775     1.05178     1.69108\n",
       " -0.258631   -0.00922065    0.78148        1.67597   -1.21641    -1.57921\n",
       "  0.0244549  -0.423927     -1.47121       -1.98113    0.907536   -0.829277\n",
       " -0.699854    2.28294      -2.58609        0.144181  -0.0803568   1.17812\n",
       " -2.74842     1.7023       -1.19961        0.904738   1.3087     -1.33307\n",
       "  1.26059     1.15416      -1.86807    …  -0.629817  -0.363983    0.824242\n",
       " -1.25942     0.239707     -0.994379       0.841098   0.576103   -1.35922\n",
       "  0.772428    0.667903     -0.894493       0.321012   1.23989    -0.668449\n",
       "  1.83576     1.44194      -0.733278      -0.754844   0.378333    2.65859\n",
       " -1.44928     0.000517514  -1.06287       -0.608333  -1.09151     0.165202\n",
       "  1.2252      0.70628      -0.0913647  …   2.18336   -2.05143     0.436703\n",
       "  0.1924      2.67687       0.316451      -0.758399   0.603138    1.28428\n",
       "  0.707142    2.34992      -0.507009      -0.490838   0.556083   -0.442673\n",
       " -0.103171    0.346167     -1.02032        3.82143    0.0257069   3.2293\n",
       "  0.540687   -1.41724      -1.71231       -0.802519   0.761298    0.453864"
      ]
     },
     "execution_count": 79,
     "metadata": {},
     "output_type": "execute_result"
    }
   ],
   "source": [
    "X"
   ]
  },
  {
   "cell_type": "code",
   "execution_count": 80,
   "metadata": {},
   "outputs": [
    {
     "data": {
      "text/plain": [
       "25×500 Array{Float64,2}:\n",
       "  6.73689     2.7492       13.7799     …   2.85384    4.91019     6.0684\n",
       "  6.39059     1.27703       3.1138        -3.6761     2.33419     6.41564\n",
       "  3.3852      5.86613      -0.203432       1.31903    5.90363     3.03739\n",
       "  1.26476    -4.51075       4.58518       11.5688    -0.304026    6.74989\n",
       "  1.19418     7.81381      -4.60762        5.43186    1.95165     6.67825\n",
       " -0.721047   -0.738251      2.96268    …   1.0146     2.06993     0.223161\n",
       "  0.262601    1.27594       0.385642       1.25185    0.764466   -0.915046\n",
       " -0.840708   -2.77206      -3.67848       -0.31705   -0.0356741  -0.330502\n",
       " -1.98257     0.178815      1.5381         2.21129    0.0119122  -0.672179\n",
       "  1.24507     2.03987       0.54293       -0.992132   0.678601    1.69698\n",
       "  2.34897     2.52923      -0.0985964  …  -1.1775     1.05178     1.69108\n",
       " -0.258631   -0.00922065    0.78148        1.67597   -1.21641    -1.57921\n",
       "  0.0244549  -0.423927     -1.47121       -1.98113    0.907536   -0.829277\n",
       " -0.699854    2.28294      -2.58609        0.144181  -0.0803568   1.17812\n",
       " -2.74842     1.7023       -1.19961        0.904738   1.3087     -1.33307\n",
       "  1.26059     1.15416      -1.86807    …  -0.629817  -0.363983    0.824242\n",
       " -1.25942     0.239707     -0.994379       0.841098   0.576103   -1.35922\n",
       "  0.772428    0.667903     -0.894493       0.321012   1.23989    -0.668449\n",
       "  1.83576     1.44194      -0.733278      -0.754844   0.378333    2.65859\n",
       " -1.44928     0.000517514  -1.06287       -0.608333  -1.09151     0.165202\n",
       "  1.2252      0.70628      -0.0913647  …   2.18336   -2.05143     0.436703\n",
       "  0.1924      2.67687       0.316451      -0.758399   0.603138    1.28428\n",
       "  0.707142    2.34992      -0.507009      -0.490838   0.556083   -0.442673\n",
       " -0.103171    0.346167     -1.02032        3.82143    0.0257069   3.2293\n",
       "  0.540687   -1.41724      -1.71231       -0.802519   0.761298    0.453864"
      ]
     },
     "execution_count": 80,
     "metadata": {},
     "output_type": "execute_result"
    }
   ],
   "source": [
    "X̃ = copy(X)"
   ]
  },
  {
   "cell_type": "code",
   "execution_count": 81,
   "metadata": {},
   "outputs": [
    {
     "data": {
      "text/plain": [
       "5×500 view(::Array{Float64,2}, 1:5, :) with eltype Float64:\n",
       " 67.3689   27.492   137.799    -15.5489  …   28.5384  49.1019   60.684\n",
       " 63.9059   12.7703   31.138    -94.5085     -36.761   23.3419   64.1564\n",
       " 33.852    58.6613   -2.03432   32.6517      13.1903  59.0363   30.3739\n",
       " 12.6476  -45.1075   45.8518   -63.7749     115.688   -3.04026  67.4989\n",
       " 11.9418   78.1381  -46.0762   -20.9632      54.3186  19.5165   66.7825"
      ]
     },
     "execution_count": 81,
     "metadata": {},
     "output_type": "execute_result"
    }
   ],
   "source": [
    "view(X̃,1:Ny, :) .= Σy^(-1/2)*view(X, 1:Ny, :)"
   ]
  },
  {
   "cell_type": "code",
   "execution_count": 82,
   "metadata": {},
   "outputs": [
    {
     "data": {
      "text/plain": [
       "20×500 view(::Array{Float64,2}, 6:25, :) with eltype Float64:\n",
       " -0.480698   -0.492168      1.97512    …   0.6764      1.37996      0.148774\n",
       "  0.175067    0.850626      0.257094       0.834568    0.509644    -0.61003\n",
       " -0.560472   -1.84804      -2.45232       -0.211366   -0.0237828   -0.220335\n",
       " -1.32171     0.11921       1.0254         1.47419     0.00794149  -0.448119\n",
       "  0.830045    1.35991       0.361953      -0.661422    0.452401     1.13132\n",
       "  1.56598     1.68615      -0.0657309  …  -0.784998    0.701185     1.12739\n",
       " -0.172421   -0.0061471     0.520987       1.11731    -0.810939    -1.05281\n",
       "  0.0163032  -0.282618     -0.980805      -1.32076     0.605024    -0.552851\n",
       " -0.466569    1.52196      -1.72406        0.0961206  -0.0535712    0.785413\n",
       " -1.83228     1.13487      -0.799739       0.603159    0.872468    -0.888713\n",
       "  0.840393    0.769438     -1.24538    …  -0.419878   -0.242655     0.549495\n",
       " -0.839614    0.159805     -0.662919       0.560732    0.384069    -0.906148\n",
       "  0.514952    0.445269     -0.596329       0.214008    0.826592    -0.445633\n",
       "  1.22384     0.961296     -0.488852      -0.503229    0.252222     1.7724\n",
       " -0.966186    0.000345009  -0.708582      -0.405555   -0.727675     0.110135\n",
       "  0.816802    0.470853     -0.0609098  …   1.45558    -1.36762      0.291135\n",
       "  0.128266    1.78458       0.210967      -0.505599    0.402092     0.856189\n",
       "  0.471428    1.56662      -0.338006      -0.327225    0.370722    -0.295115\n",
       " -0.0687806   0.230778     -0.680211       2.54762     0.0171379    2.15287\n",
       "  0.360458   -0.944829     -1.14154       -0.535012    0.507532     0.302576"
      ]
     },
     "execution_count": 82,
     "metadata": {},
     "output_type": "execute_result"
    }
   ],
   "source": [
    "view(X̃,Ny+1:Ny+Nx, :) .= Σx^(-1/2)*view(X, Ny+1:Ny+Nx, :)"
   ]
  },
  {
   "cell_type": "code",
   "execution_count": 83,
   "metadata": {},
   "outputs": [
    {
     "data": {
      "text/plain": [
       "25×1 Array{Float64,2}:\n",
       " -1.190859588055337\n",
       " -1.4505144977075166\n",
       "  1.8799998639441962\n",
       " -1.1413413875313005\n",
       "  0.7525304747734491\n",
       " -0.012012397354705233\n",
       "  0.08125875825474191\n",
       "  0.004369024768454629\n",
       " -0.01947667691338518\n",
       "  0.0322145132281514\n",
       "  0.016636492948070254\n",
       "  0.04093534093005781\n",
       "  0.003597367264277463\n",
       "  0.08728487643416864\n",
       " -0.003068959732943563\n",
       "  0.01858964688454436\n",
       " -0.03360651020097653\n",
       "  0.04040372256957499\n",
       "  0.03011874333778825\n",
       " -0.004314165253695853\n",
       "  0.018266503531407286\n",
       " -1.942492999486034e-5\n",
       " -0.009851313913650859\n",
       "  0.04229082197693758\n",
       "  0.018965684558384155"
      ]
     },
     "execution_count": 83,
     "metadata": {},
     "output_type": "execute_result"
    }
   ],
   "source": [
    "mean(X̃; dims = 2)"
   ]
  },
  {
   "cell_type": "code",
   "execution_count": 84,
   "metadata": {},
   "outputs": [
    {
     "data": {
      "text/plain": [
       "5×20 Array{Float64,2}:\n",
       " 0.0  0.0  0.0  0.0  0.0  0.0  0.0  0.0  …  0.0  0.0  0.0  0.0  0.0  0.0  0.0\n",
       " 0.0  0.0  0.0  0.0  0.0  0.0  0.0  0.0     0.0  0.0  0.0  0.0  0.0  0.0  0.0\n",
       " 0.0  0.0  0.0  0.0  0.0  0.0  0.0  0.0     0.0  0.0  0.0  0.0  0.0  0.0  0.0\n",
       " 0.0  0.0  0.0  0.0  0.0  0.0  0.0  0.0     0.0  0.0  0.0  0.0  0.0  0.0  0.0\n",
       " 0.0  0.0  0.0  0.0  0.0  0.0  0.0  0.0     0.0  0.0  0.0  0.0  0.0  0.0  0.0"
      ]
     },
     "execution_count": 84,
     "metadata": {},
     "output_type": "execute_result"
    }
   ],
   "source": [
    "H̃ - Σy^(-1/2)*H*Σx^(1/2)"
   ]
  },
  {
   "cell_type": "code",
   "execution_count": 85,
   "metadata": {},
   "outputs": [
    {
     "data": {
      "text/plain": [
       "20×5 Array{Float64,2}:\n",
       "  0.0799001    0.0459225    -0.0391279    0.0590681   -0.0037944\n",
       " -0.0442336   -0.0347895    -0.00457919   0.00240568   0.025831\n",
       " -0.128956    -0.0868566    -0.00619665   0.0641194    0.0476603\n",
       "  0.00849973   0.00788931   -0.0197304    0.0154248    0.0527424\n",
       "  0.00326789   0.0243725    -0.0252055   -0.0617703    0.00223647\n",
       "  0.0705999    0.0437444     0.0663125   -0.0470833   -0.0245542\n",
       "  0.0126721   -0.0760775     0.0389684   -0.00858256  -0.10298\n",
       " -0.135202     0.0704237     0.118854    -0.0425032    0.0187456\n",
       " -0.0854715   -0.0282014     0.0748131   -0.00208668   0.0708745\n",
       " -0.0502587   -0.0396428    -0.00478685  -0.0293868   -0.00151952\n",
       "  0.0474739   -0.0772957    -0.133008     0.0110138    0.0776262\n",
       " -0.0512187    0.0110071     0.00541875   0.0183413   -0.00211267\n",
       "  0.0492673   -0.00448986    0.075208    -0.0226807    0.0119274\n",
       " -0.0374659    0.0585325     0.0348696    0.0961846   -0.0818002\n",
       " -0.0549619    0.0490853    -0.114216     0.0139114   -0.0460751\n",
       " -0.0762045    0.0754822    -0.0635842    0.0167919    0.0665628\n",
       "  0.0415309   -0.0359276     0.0621232   -0.0628621    0.0824554\n",
       " -0.0452592    0.0530396     0.104663     0.0603167    0.0660795\n",
       " -0.0223909    0.000731316   0.109332     0.0404774    0.0636682\n",
       "  0.0626132    0.109328     -0.0154339   -0.0645068   -0.00464847"
      ]
     },
     "execution_count": 85,
     "metadata": {},
     "output_type": "execute_result"
    }
   ],
   "source": [
    "Klowrank = Σx^(1/2)*V*Diagonal(Λ)*inv(Diagonal(Λ.^2) + I)*U'*Σy^(-1/2)"
   ]
  },
  {
   "cell_type": "code",
   "execution_count": 86,
   "metadata": {},
   "outputs": [
    {
     "data": {
      "text/plain": [
       "20×5 Array{Float64,2}:\n",
       "  0.0799001    0.0459225    -0.0391279    0.0590681   -0.0037944\n",
       " -0.0442336   -0.0347895    -0.00457919   0.00240568   0.025831\n",
       " -0.128956    -0.0868566    -0.00619665   0.0641194    0.0476603\n",
       "  0.00849973   0.00788931   -0.0197304    0.0154248    0.0527424\n",
       "  0.00326789   0.0243725    -0.0252055   -0.0617703    0.00223647\n",
       "  0.0705999    0.0437444     0.0663125   -0.0470833   -0.0245542\n",
       "  0.0126721   -0.0760775     0.0389684   -0.00858256  -0.10298\n",
       " -0.135202     0.0704237     0.118854    -0.0425032    0.0187456\n",
       " -0.0854715   -0.0282014     0.0748131   -0.00208668   0.0708745\n",
       " -0.0502587   -0.0396428    -0.00478685  -0.0293868   -0.00151952\n",
       "  0.0474739   -0.0772957    -0.133008     0.0110138    0.0776262\n",
       " -0.0512187    0.0110071     0.00541875   0.0183413   -0.00211267\n",
       "  0.0492673   -0.00448986    0.075208    -0.0226807    0.0119274\n",
       " -0.0374659    0.0585325     0.0348696    0.0961846   -0.0818002\n",
       " -0.0549619    0.0490853    -0.114216     0.0139114   -0.0460751\n",
       " -0.0762045    0.0754822    -0.0635842    0.0167919    0.0665628\n",
       "  0.0415309   -0.0359276     0.0621232   -0.0628621    0.0824554\n",
       " -0.0452592    0.0530396     0.104663     0.0603167    0.0660795\n",
       " -0.0223909    0.000731316   0.109332     0.0404774    0.0636682\n",
       "  0.0626132    0.109328     -0.0154339   -0.0645068   -0.00464847"
      ]
     },
     "execution_count": 86,
     "metadata": {},
     "output_type": "execute_result"
    }
   ],
   "source": [
    "K = Σx*H'*inv(H*Σx*H'+Σy)"
   ]
  },
  {
   "cell_type": "code",
   "execution_count": 87,
   "metadata": {},
   "outputs": [
    {
     "data": {
      "text/plain": [
       "4.723286913955599e-16"
      ]
     },
     "execution_count": 87,
     "metadata": {},
     "output_type": "execute_result"
    }
   ],
   "source": [
    "norm(Klowrank-K)"
   ]
  },
  {
   "cell_type": "code",
   "execution_count": 88,
   "metadata": {},
   "outputs": [
    {
     "data": {
      "text/plain": [
       "25×500 Array{Float64,2}:\n",
       "  6.73689     2.7492       13.7799     …   2.85384    4.91019     6.0684\n",
       "  6.39059     1.27703       3.1138        -3.6761     2.33419     6.41564\n",
       "  3.3852      5.86613      -0.203432       1.31903    5.90363     3.03739\n",
       "  1.26476    -4.51075       4.58518       11.5688    -0.304026    6.74989\n",
       "  1.19418     7.81381      -4.60762        5.43186    1.95165     6.67825\n",
       " -0.721047   -0.738251      2.96268    …   1.0146     2.06993     0.223161\n",
       "  0.262601    1.27594       0.385642       1.25185    0.764466   -0.915046\n",
       " -0.840708   -2.77206      -3.67848       -0.31705   -0.0356741  -0.330502\n",
       " -1.98257     0.178815      1.5381         2.21129    0.0119122  -0.672179\n",
       "  1.24507     2.03987       0.54293       -0.992132   0.678601    1.69698\n",
       "  2.34897     2.52923      -0.0985964  …  -1.1775     1.05178     1.69108\n",
       " -0.258631   -0.00922065    0.78148        1.67597   -1.21641    -1.57921\n",
       "  0.0244549  -0.423927     -1.47121       -1.98113    0.907536   -0.829277\n",
       " -0.699854    2.28294      -2.58609        0.144181  -0.0803568   1.17812\n",
       " -2.74842     1.7023       -1.19961        0.904738   1.3087     -1.33307\n",
       "  1.26059     1.15416      -1.86807    …  -0.629817  -0.363983    0.824242\n",
       " -1.25942     0.239707     -0.994379       0.841098   0.576103   -1.35922\n",
       "  0.772428    0.667903     -0.894493       0.321012   1.23989    -0.668449\n",
       "  1.83576     1.44194      -0.733278      -0.754844   0.378333    2.65859\n",
       " -1.44928     0.000517514  -1.06287       -0.608333  -1.09151     0.165202\n",
       "  1.2252      0.70628      -0.0913647  …   2.18336   -2.05143     0.436703\n",
       "  0.1924      2.67687       0.316451      -0.758399   0.603138    1.28428\n",
       "  0.707142    2.34992      -0.507009      -0.490838   0.556083   -0.442673\n",
       " -0.103171    0.346167     -1.02032        3.82143    0.0257069   3.2293\n",
       "  0.540687   -1.41724      -1.71231       -0.802519   0.761298    0.453864"
      ]
     },
     "execution_count": 88,
     "metadata": {},
     "output_type": "execute_result"
    }
   ],
   "source": [
    "Xpost = deepcopy(X)"
   ]
  },
  {
   "cell_type": "code",
   "execution_count": 89,
   "metadata": {},
   "outputs": [
    {
     "data": {
      "text/plain": [
       "20×500 view(::Array{Float64,2}, 6:25, :) with eltype Float64:\n",
       " -1.3885     -0.388919   1.52441    …   0.446284    1.9288    -0.708825\n",
       "  1.02872     1.54203    1.47475        1.35228     1.3044    -0.334071\n",
       "  1.15994    -1.65959   -1.01283       -0.566965    1.45718    0.970885\n",
       " -1.32873     0.695795   2.34191        2.55434     0.74722   -0.393565\n",
       "  1.25672     1.88016    0.739059      -0.147507    0.759971   2.02799\n",
       "  1.086       1.49757   -1.46361    …  -0.999746   -0.12705    0.890193\n",
       " -1.99143    -1.54507   -1.71899       -0.168126   -3.26826   -2.67626\n",
       "  1.63705     0.345203   2.00078        0.419489    2.17862    0.862842\n",
       "  0.917919    2.74885    0.227854       1.0219      1.02152    2.38825\n",
       " -2.31747     1.58233   -0.473007       1.04081     1.45414   -0.766868\n",
       "  1.8376      1.40496   -1.9422     …  -1.36383     0.279661   0.902549\n",
       " -0.646295    0.811346  -0.0381655      1.1973      1.15704   -0.867745\n",
       "  0.111382   -0.216173  -1.50284        0.144627    0.416603  -1.21129\n",
       "  1.46642     2.233     -1.31578       -1.25285     0.30302    2.19588\n",
       " -0.954503    1.19583   -0.743549      -0.0169333  -0.153654   0.758655\n",
       "  3.31604     2.69332    2.88576    …   4.15167     0.342441   1.99545\n",
       "  0.390381    1.79374    1.01426       -0.334149    0.413719   1.42515\n",
       "  2.02652     3.41131    1.86362        0.501446    1.78891    0.188291\n",
       "  0.746312    0.651174   0.616604       4.13034     0.577182   3.53064\n",
       " -0.0424277  -1.49512   -2.24633        0.610558    0.67723    0.28382"
      ]
     },
     "execution_count": 89,
     "metadata": {},
     "output_type": "execute_result"
    }
   ],
   "source": [
    "view(Xpost, Ny+1:Ny+Nx, :) .= view(X,Ny+1:Ny+Nx,:) - Klowrank*(view(X,1:Ny,:) .- ystar)"
   ]
  },
  {
   "cell_type": "code",
   "execution_count": 90,
   "metadata": {},
   "outputs": [
    {
     "data": {
      "text/plain": [
       "25×500 Array{Float64,2}:\n",
       "  6.73689     2.7492    13.7799     …   2.85384     4.91019    6.0684\n",
       "  6.39059     1.27703    3.1138        -3.6761      2.33419    6.41564\n",
       "  3.3852      5.86613   -0.203432       1.31903     5.90363    3.03739\n",
       "  1.26476    -4.51075    4.58518       11.5688     -0.304026   6.74989\n",
       "  1.19418     7.81381   -4.60762        5.43186     1.95165    6.67825\n",
       " -1.3885     -0.388919   1.52441    …   0.446284    1.9288    -0.708825\n",
       "  1.02872     1.54203    1.47475        1.35228     1.3044    -0.334071\n",
       "  1.15994    -1.65959   -1.01283       -0.566965    1.45718    0.970885\n",
       " -1.32873     0.695795   2.34191        2.55434     0.74722   -0.393565\n",
       "  1.25672     1.88016    0.739059      -0.147507    0.759971   2.02799\n",
       "  1.086       1.49757   -1.46361    …  -0.999746   -0.12705    0.890193\n",
       " -1.99143    -1.54507   -1.71899       -0.168126   -3.26826   -2.67626\n",
       "  1.63705     0.345203   2.00078        0.419489    2.17862    0.862842\n",
       "  0.917919    2.74885    0.227854       1.0219      1.02152    2.38825\n",
       " -2.31747     1.58233   -0.473007       1.04081     1.45414   -0.766868\n",
       "  1.8376      1.40496   -1.9422     …  -1.36383     0.279661   0.902549\n",
       " -0.646295    0.811346  -0.0381655      1.1973      1.15704   -0.867745\n",
       "  0.111382   -0.216173  -1.50284        0.144627    0.416603  -1.21129\n",
       "  1.46642     2.233     -1.31578       -1.25285     0.30302    2.19588\n",
       " -0.954503    1.19583   -0.743549      -0.0169333  -0.153654   0.758655\n",
       "  3.31604     2.69332    2.88576    …   4.15167     0.342441   1.99545\n",
       "  0.390381    1.79374    1.01426       -0.334149    0.413719   1.42515\n",
       "  2.02652     3.41131    1.86362        0.501446    1.78891    0.188291\n",
       "  0.746312    0.651174   0.616604       4.13034     0.577182   3.53064\n",
       " -0.0424277  -1.49512   -2.24633        0.610558    0.67723    0.28382"
      ]
     },
     "execution_count": 90,
     "metadata": {},
     "output_type": "execute_result"
    }
   ],
   "source": [
    "Xpost"
   ]
  },
  {
   "cell_type": "code",
   "execution_count": 91,
   "metadata": {},
   "outputs": [
    {
     "data": {
      "text/plain": [
       "20-element Array{Float64,1}:\n",
       "  0.11455888781735833\n",
       "  0.3749517928568419\n",
       "  0.67734919997317\n",
       "  0.7516646601756366\n",
       "  0.07841237454364597\n",
       " -0.3484693388252838\n",
       " -2.0842081223024165\n",
       "  1.4936776465459254\n",
       "  1.2940132477027377\n",
       " -0.23484449614002312\n",
       "  0.10199654503096257\n",
       "  0.32375135499484675\n",
       " -0.06948324305128244\n",
       " -0.04589870378883893\n",
       "  0.034746584242670506\n",
       "  1.9834430827948357\n",
       "  0.4520788730071775\n",
       "  1.8326848384197034\n",
       "  1.2407985585163652\n",
       "  0.44564117664541997"
      ]
     },
     "execution_count": 91,
     "metadata": {},
     "output_type": "execute_result"
    }
   ],
   "source": [
    "mean(state(Xpost, Ny, Nx); dims = 2)[:,1]"
   ]
  },
  {
   "cell_type": "code",
   "execution_count": 92,
   "metadata": {},
   "outputs": [
    {
     "data": {
      "text/plain": [
       "20-element Array{Float64,1}:\n",
       "  0.1823912181057712\n",
       "  1.6962334180236271\n",
       "  0.02433059438339577\n",
       " -0.41938227806904216\n",
       " -0.861816161971601\n",
       " -0.3007009126908583\n",
       " -2.3606161493053808\n",
       " -0.2830595473570359\n",
       "  1.9615936601858266\n",
       "  0.7828355041945867\n",
       " -1.6224810399873466\n",
       " -0.16276924813973936\n",
       " -1.390189283515601\n",
       " -0.20989918453980172\n",
       " -0.434312585815559\n",
       "  3.1816435142948833\n",
       "  1.201749161892224\n",
       "  2.0488017592255696\n",
       "  0.9147103469532316\n",
       "  0.4776891603062241"
      ]
     },
     "execution_count": 92,
     "metadata": {},
     "output_type": "execute_result"
    }
   ],
   "source": [
    "xstar"
   ]
  },
  {
   "cell_type": "code",
   "execution_count": 101,
   "metadata": {},
   "outputs": [
    {
     "data": {
      "text/plain": [
       "20-element Array{Float64,1}:\n",
       "  0.11403685023559404\n",
       "  0.3750633231113875\n",
       "  0.6778726840296159\n",
       "  0.7512432490513574\n",
       "  0.07819686680566594\n",
       " -0.348559186978047\n",
       " -2.083356596786177\n",
       "  1.494362094747629\n",
       "  1.2942831816969969\n",
       " -0.23455837676334176\n",
       "  0.10107652706278011\n",
       "  0.3239986903915998\n",
       " -0.06953405889145334\n",
       " -0.045192884172523075\n",
       "  0.034786853071279426\n",
       "  1.9830175079377241\n",
       "  0.45164297670867226\n",
       "  1.8327624634727637\n",
       "  1.2409097002047855\n",
       "  0.445034917496297"
      ]
     },
     "execution_count": 101,
     "metadata": {},
     "output_type": "execute_result"
    }
   ],
   "source": [
    "mean(state(X, Ny, Nx); dims = 2)[:,1] + K*(ystar - H*mean(state(X, Ny, Nx); dims = 2)[:,1])"
   ]
  },
  {
   "cell_type": "code",
   "execution_count": 103,
   "metadata": {},
   "outputs": [
    {
     "data": {
      "text/plain": [
       "20-element Array{Float64,1}:\n",
       "  0.1823912181057712\n",
       "  1.6962334180236271\n",
       "  0.02433059438339577\n",
       " -0.41938227806904216\n",
       " -0.861816161971601\n",
       " -0.3007009126908583\n",
       " -2.3606161493053808\n",
       " -0.2830595473570359\n",
       "  1.9615936601858266\n",
       "  0.7828355041945867\n",
       " -1.6224810399873466\n",
       " -0.16276924813973936\n",
       " -1.390189283515601\n",
       " -0.20989918453980172\n",
       " -0.434312585815559\n",
       "  3.1816435142948833\n",
       "  1.201749161892224\n",
       "  2.0488017592255696\n",
       "  0.9147103469532316\n",
       "  0.4776891603062241"
      ]
     },
     "execution_count": 103,
     "metadata": {},
     "output_type": "execute_result"
    }
   ],
   "source": [
    "xstar"
   ]
  },
  {
   "cell_type": "code",
   "execution_count": 102,
   "metadata": {},
   "outputs": [
    {
     "data": {
      "text/plain": [
       "20-element Array{Float64,1}:\n",
       " -0.018018596032057795\n",
       "  0.12188813738211286\n",
       "  0.006553537152681995\n",
       " -0.029215015370077695\n",
       "  0.048321769842227066\n",
       "  0.024954739422105424\n",
       "  0.06140301139508675\n",
       "  0.0053960508964161795\n",
       "  0.13092731465125282\n",
       " -0.00460343959941531\n",
       "  0.027884470326816485\n",
       " -0.050409765301464814\n",
       "  0.06060558385436248\n",
       "  0.04517811500668236\n",
       " -0.006471247880543713\n",
       "  0.027399755297110938\n",
       " -2.9137394992339694e-5\n",
       " -0.014776970870476278\n",
       "  0.06343623296540639\n",
       "  0.028448526837576267"
      ]
     },
     "execution_count": 102,
     "metadata": {},
     "output_type": "execute_result"
    }
   ],
   "source": [
    "mean(state(X, Ny, Nx) ;dims = 2)[:,1]"
   ]
  },
  {
   "cell_type": "code",
   "execution_count": null,
   "metadata": {},
   "outputs": [],
   "source": []
  }
 ],
 "metadata": {
  "kernelspec": {
   "display_name": "Julia 1.5.3",
   "language": "julia",
   "name": "julia-1.5"
  },
  "language_info": {
   "file_extension": ".jl",
   "mimetype": "application/julia",
   "name": "julia",
   "version": "1.5.3"
  }
 },
 "nbformat": 4,
 "nbformat_minor": 4
}
