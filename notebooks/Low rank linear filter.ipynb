{
 "cells": [
  {
   "cell_type": "code",
   "execution_count": 1,
   "metadata": {},
   "outputs": [
    {
     "name": "stderr",
     "output_type": "stream",
     "text": [
      "\u001b[32m\u001b[1m Activating\u001b[22m\u001b[39m environment at `/media/mat/HDD/AdaptiveTransportMap/Project.toml`\n"
     ]
    }
   ],
   "source": [
    "using Pkg\n",
    "Pkg.activate(\"/media/mat/HDD/AdaptiveTransportMap/\")"
   ]
  },
  {
   "cell_type": "code",
   "execution_count": 2,
   "metadata": {},
   "outputs": [
    {
     "name": "stderr",
     "output_type": "stream",
     "text": [
      "┌ Info: Precompiling AdaptiveTransportMap [bdf749b0-1400-4207-80d3-e689c0e3f03d]\n",
      "└ @ Base loading.jl:1278\n",
      "┌ Warning: Type annotations on keyword arguments not currently supported in recipes. Type information has been discarded\n",
      "└ @ RecipesBase ~/.julia/packages/RecipesBase/92zOw/src/RecipesBase.jl:116\n",
      "┌ Warning: Type annotations on keyword arguments not currently supported in recipes. Type information has been discarded\n",
      "└ @ RecipesBase ~/.julia/packages/RecipesBase/92zOw/src/RecipesBase.jl:116\n",
      "┌ Warning: Type annotations on keyword arguments not currently supported in recipes. Type information has been discarded\n",
      "└ @ RecipesBase ~/.julia/packages/RecipesBase/92zOw/src/RecipesBase.jl:116\n",
      "┌ Warning: Type annotations on keyword arguments not currently supported in recipes. Type information has been discarded\n",
      "└ @ RecipesBase ~/.julia/packages/RecipesBase/92zOw/src/RecipesBase.jl:116\n",
      "┌ Warning: Type annotations on keyword arguments not currently supported in recipes. Type information has been discarded\n",
      "└ @ RecipesBase ~/.julia/packages/RecipesBase/92zOw/src/RecipesBase.jl:116\n",
      "┌ Warning: Type annotations on keyword arguments not currently supported in recipes. Type information has been discarded\n",
      "└ @ RecipesBase ~/.julia/packages/RecipesBase/92zOw/src/RecipesBase.jl:116\n",
      "┌ Warning: Type annotations on keyword arguments not currently supported in recipes. Type information has been discarded\n",
      "└ @ RecipesBase ~/.julia/packages/RecipesBase/92zOw/src/RecipesBase.jl:116\n"
     ]
    }
   ],
   "source": [
    "using Revise\n",
    "using LinearAlgebra\n",
    "using AdaptiveTransportMap\n",
    "using Statistics\n",
    "using Distributions\n",
    "using Test\n",
    "using ForwardDiff\n",
    "using SpecialFunctions\n",
    "using OrthoMatchingPursuit\n",
    "using BenchmarkTools\n",
    "using MultivariateStats"
   ]
  },
  {
   "cell_type": "code",
   "execution_count": 3,
   "metadata": {},
   "outputs": [],
   "source": [
    "using Plots\n",
    "default(tickfont = font(\"CMU Serif\", 9), \n",
    "        titlefont = font(\"CMU Serif\", 14), \n",
    "        guidefont = font(\"CMU Serif\", 12),\n",
    "        legendfont = font(\"CMU Serif\", 10),\n",
    "        grid = false)\n",
    "# Plots.font(\"sans-serif\")\n",
    "# clibrary(:colorbrewer)\n",
    "# gr()\n",
    "pyplot()\n",
    "\n",
    "using LaTeXStrings\n",
    "# PyPlot.rc(\"text\", usetex = \"true\")\n",
    "# rcParams = PyPlot.PyDict(PyPlot.matplotlib.\"rcParams\")\n",
    "# rcParams[\"text.usetex\"] = true;\n",
    "PyPlot.rc(\"font\", family = \"CMU Serif\")\n",
    "PyPlot.matplotlib[:rc](\"mathtext\",fontset=\"cm\")        #computer modern font \n",
    "PyPlot.matplotlib[:rc](\"font\",family=\"serif\",size=12)"
   ]
  },
  {
   "cell_type": "markdown",
   "metadata": {},
   "source": [
    "### Working from samples"
   ]
  },
  {
   "cell_type": "code",
   "execution_count": 8,
   "metadata": {},
   "outputs": [
    {
     "data": {
      "text/plain": [
       "8.118800881064739e-14"
      ]
     },
     "execution_count": 8,
     "metadata": {},
     "output_type": "execute_result"
    }
   ],
   "source": [
    "Nx = 20\n",
    "Ny = 5\n",
    "Ne = 1000\n",
    "maxrank = min(Nx, Ny)\n",
    "r = maxrank\n",
    "H = rdnortho(Ny)[:,1:maxrank]*Diagonal(map(i->100/(i^1.8) + 1.0, 1:maxrank))*rdnortho(Nx)[:,1:maxrank]'\n",
    "\n",
    "svdH = deepcopy(svd(H))\n",
    "UH = svdH.U\n",
    "VH = Matrix(svdH.Vt')\n",
    "ΛH = svdH.S\n",
    "\n",
    "norm(H-UH*Diagonal(ΛH)*VH')"
   ]
  },
  {
   "cell_type": "code",
   "execution_count": 9,
   "metadata": {},
   "outputs": [
    {
     "data": {
      "text/plain": [
       "5-element Array{Float64,1}:\n",
       " 101.0000000000001\n",
       "  29.71745887492588\n",
       "  14.841454884616855\n",
       "   9.246924442330592\n",
       "   6.518918645844862"
      ]
     },
     "execution_count": 9,
     "metadata": {},
     "output_type": "execute_result"
    }
   ],
   "source": [
    "ΛH"
   ]
  },
  {
   "cell_type": "code",
   "execution_count": 10,
   "metadata": {},
   "outputs": [
    {
     "data": {
      "text/plain": [
       "AdditiveInflation(20, [0.0, 0.0, 0.0, 0.0, 0.0, 0.0, 0.0, 0.0, 0.0, 0.0, 0.0, 0.0, 0.0, 0.0, 0.0, 0.0, 0.0, 0.0, 0.0, 0.0], [2.25 0.0 … 0.0 0.0; 0.0 2.25 … 0.0 0.0; … ; 0.0 0.0 … 2.25 0.0; 0.0 0.0 … 0.0 2.25], [1.5 0.0 … 0.0 0.0; 0.0 1.5 … 0.0 0.0; … ; 0.0 0.0 … 1.5 0.0; 0.0 0.0 … 0.0 1.5])"
      ]
     },
     "execution_count": 10,
     "metadata": {},
     "output_type": "execute_result"
    }
   ],
   "source": [
    "σy = 0.5\n",
    "Σy = Diagonal(σy^2*ones(Ny))\n",
    "ϵy = AdditiveInflation(zeros(Ny), σy)\n",
    "\n",
    "σx = 1.5\n",
    "Σx = Diagonal(σx^2*ones(Nx))\n",
    "ϵx = AdditiveInflation(zeros(Nx), σx)"
   ]
  },
  {
   "cell_type": "code",
   "execution_count": 14,
   "metadata": {},
   "outputs": [
    {
     "data": {
      "text/plain": [
       "5×1000 Array{Float64,2}:\n",
       "  0.185111  -0.659046    0.270044   …  -0.302073    0.373599   0.196822\n",
       "  0.338086   0.0901589   0.111295      -0.299368    0.11269   -0.551898\n",
       " -0.654211   0.499798   -0.109264       0.0843242   0.108454   1.16738\n",
       "  0.169783   0.302081    0.0374515     -0.406067   -0.257692  -0.336557\n",
       "  0.12406    0.485221    0.203762       0.0464992  -0.770631  -0.471569"
      ]
     },
     "execution_count": 14,
     "metadata": {},
     "output_type": "execute_result"
    }
   ],
   "source": [
    "X = zeros(Ny+Nx, Ne)\n",
    "\n",
    "# Samples from the standard normal distribution\n",
    "ϵx(X, Ny+1, Ny+Nx)\n",
    "\n",
    "# Compute observations\n",
    "observe((x, t)->H*x, X, 0.0, Ny, Nx)\n",
    "\n",
    "ϵ = ϵy.m .+ ϵy.σ*randn(Ny, Ne)"
   ]
  },
  {
   "cell_type": "code",
   "execution_count": 21,
   "metadata": {},
   "outputs": [
    {
     "data": {
      "text/plain": [
       "10×20 Array{Float64,2}:\n",
       "  0.233612   0.240668   0.0561868  …   0.483907   -0.419535    0.308213\n",
       "  0.11066   -0.292536   0.112167       0.0754631   0.255938   -0.0242303\n",
       "  0.235163   0.213762   0.439091       0.14815    -0.154209   -0.114387\n",
       "  0.116043   0.385338  -0.134277      -0.156097   -0.0223838  -0.192664\n",
       " -0.527279  -0.032348   0.076833       0.0294728   0.113166    0.0260132\n",
       "  0.190545  -0.191156  -0.0125011  …  -0.0892166  -0.214133    0.233957\n",
       "  0.112994  -0.234703   0.19587        0.183486   -0.133216   -0.0406115\n",
       "  0.118879  -0.466968  -0.0897827      0.123317   -0.0570826   0.153953\n",
       "  0.273992  -0.051695   0.195821       0.132442    0.288244   -0.0493455\n",
       " -0.119243   0.229419   0.24241       -0.316531   -0.161622    0.170994"
      ]
     },
     "execution_count": 21,
     "metadata": {},
     "output_type": "execute_result"
    }
   ],
   "source": [
    "Σxx = Symmetric(cov(state(X, Ny, Nx)'))0\n",
    "Σxy = 1/(Ne-1)*(state(X, Ny, Nx) .- mean(state(X,Ny,Nx);dims = 2)[:,1])*(meas(X, Ny, Nx) .- mean(meas(X,Ny,Nx);dims = 2)[:,1])'\n",
    "Σyy = Symmetric(cov(meas(X, Ny, Nx)'))\n",
    "\n",
    "H̃sample = Σyy^(-0.5)*H*Σxx^(0.5)"
   ]
  },
  {
   "cell_type": "code",
   "execution_count": 22,
   "metadata": {},
   "outputs": [],
   "source": [
    "Cx = zeros(Nx, Nx)\n",
    "Cy = zeros(Ny, Ny)\n",
    "\n",
    "Dx = Diagonal(std(view(X, Ny+1:Ny+Nx, :); dims = 2)[:,1])\n",
    "Dy = Diagonal(std(view(X, 1:Ny, :); dims = 2)[:,1]);\n",
    "\n",
    "@inbounds for i=1:Ne\n",
    "    H̃i = ϵy.σ\\(H*Dx)\n",
    "    Cx .+= 1/Ne*H̃'*H̃\n",
    "    Cy .+= 1/Ne*H̃*H̃'\n",
    "end"
   ]
  },
  {
   "cell_type": "code",
   "execution_count": 23,
   "metadata": {},
   "outputs": [
    {
     "data": {
      "text/plain": [
       "20-element Array{Float64,1}:\n",
       " 91253.72821331288\n",
       " 11952.02420736476\n",
       "  3622.757176266407\n",
       "  1646.4552100131978\n",
       "   901.1812973847126\n",
       "   540.8574870166276\n",
       "   376.74379484936406\n",
       "   266.7060651616754\n",
       "   199.71093982003327\n",
       "   156.56093257489917\n",
       "     3.699782385551048e-10\n",
       "     2.0211514727023307e-10\n",
       "     9.19129831164322e-11\n",
       "     5.829059648332874e-11\n",
       "     1.3714874299257305e-11\n",
       "    -5.878301672311934e-12\n",
       "    -9.360968405003372e-12\n",
       "    -8.308863221849134e-11\n",
       "    -1.2831924195386345e-10\n",
       "    -2.8412792133924467e-10"
      ]
     },
     "execution_count": 23,
     "metadata": {},
     "output_type": "execute_result"
    }
   ],
   "source": [
    "eigen_Cx = eigen(Symmetric(Cx); sortby =  λ -> -λ)\n",
    "eigen_Cx.values"
   ]
  },
  {
   "cell_type": "code",
   "execution_count": 24,
   "metadata": {},
   "outputs": [
    {
     "data": {
      "text/plain": [
       "20×10 Array{Float64,2}:\n",
       " -0.108445   -0.21209    -0.217044   …   0.268345    0.243656    0.123023\n",
       "  0.281243    0.148071   -0.143082       0.335779   -0.150995   -0.545857\n",
       "  0.163077    0.0576858   0.0329286      0.0838657   0.408571    0.151491\n",
       " -0.0879378  -0.239034   -0.289799      -0.288604    0.29636    -0.295116\n",
       "  0.144776    0.124005    0.0490417     -0.235855   -0.302286   -0.0739756\n",
       " -0.129258   -0.0411563   0.261701   …   0.181575   -0.0835559   0.323014\n",
       "  0.0942875  -0.152704   -0.0865239     -0.337395    0.383679   -0.152416\n",
       " -0.0852746  -0.305849    0.0133399     -0.23369    -0.23904    -0.255212\n",
       "  0.190425    0.17494    -0.0701825     -0.288072    0.144309    0.0664321\n",
       " -0.0705495  -0.177408   -0.230014       0.033395   -0.108679    0.17957\n",
       "  0.483979   -0.051015   -0.490564   …  -0.130287   -0.135301    0.23319\n",
       " -0.0688384   0.292562    0.110044      -0.0754681   0.0125473   0.188104\n",
       "  0.186686    0.122351   -0.391281       0.225671    0.0628398   0.280749\n",
       " -0.196331    0.210766   -0.157145       0.060387    0.216998    0.0973163\n",
       "  0.2542      0.109577    0.322898      -0.400631    0.134347    0.184316\n",
       " -0.206103   -0.31685    -0.181807   …  -0.223282   -0.312824    0.340931\n",
       "  0.507422   -0.274963    0.324302       0.0827456   0.0545369   0.102974\n",
       "  0.0109347  -0.474073    0.179294       0.222338    0.292781   -0.00544263\n",
       " -0.313048    0.246232   -0.070495      -0.174698    0.217609   -0.00981265\n",
       " -0.06843    -0.235901    0.028301      -0.0967953  -0.0791936   0.0551586"
      ]
     },
     "execution_count": 24,
     "metadata": {},
     "output_type": "execute_result"
    }
   ],
   "source": [
    "V = eigen_Cx.vectors[:,1:r]"
   ]
  },
  {
   "cell_type": "code",
   "execution_count": 25,
   "metadata": {},
   "outputs": [
    {
     "data": {
      "text/plain": [
       "10-element Array{Float64,1}:\n",
       " 91253.72821331264\n",
       " 11952.024207364751\n",
       "  3622.757176266243\n",
       "  1646.4552100132655\n",
       "   901.181297384926\n",
       "   540.8574870163217\n",
       "   376.7437948491203\n",
       "   266.70606516171955\n",
       "   199.71093981994443\n",
       "   156.5609325744651"
      ]
     },
     "execution_count": 25,
     "metadata": {},
     "output_type": "execute_result"
    }
   ],
   "source": [
    "eigen_Cy = eigen(Symmetric(Cy); sortby =  λ -> -λ)\n",
    "eigen_Cy.values"
   ]
  },
  {
   "cell_type": "code",
   "execution_count": 26,
   "metadata": {},
   "outputs": [
    {
     "data": {
      "text/plain": [
       "10×10 Array{Float64,2}:\n",
       "  0.0598114  -0.754261    0.0225927  …  -0.241388  -0.0463066   0.365469\n",
       " -0.0889484  -0.323968   -0.207645       0.558104  -0.598961    0.0854543\n",
       "  0.434651    0.279375    0.361003      -0.14593   -0.522667   -0.0199859\n",
       "  0.373825   -0.0232341  -0.534163       0.095756   0.286466    0.202457\n",
       "  0.34352     0.0675715   0.161984       0.432289  -0.0863599   0.0784291\n",
       "  0.248772    0.137482   -0.415566   …   0.230244  -0.0236275  -0.190219\n",
       "  0.396333   -0.347696   -0.15375       -0.318222  -0.108061   -0.691992\n",
       " -0.23442    -0.269506    0.347461       0.42009    0.237447   -0.494982\n",
       " -0.517294    0.150051   -0.405582      -0.220077  -0.401163   -0.183533\n",
       " -0.0180265   0.0896453  -0.181443       0.183648   0.216451   -0.133652"
      ]
     },
     "execution_count": 26,
     "metadata": {},
     "output_type": "execute_result"
    }
   ],
   "source": [
    "U = eigen_Cy.vectors[:,1:r]"
   ]
  },
  {
   "cell_type": "code",
   "execution_count": 27,
   "metadata": {},
   "outputs": [
    {
     "data": {
      "text/plain": [
       "20×10 Array{Float64,2}:\n",
       "  0.0116721     0.00812497    0.0515678    …   0.0334804    -0.0245449\n",
       "  0.0652627    -0.047477     -0.00102689      -0.00852283    0.00287588\n",
       "  0.0064689     0.0327132     0.0587961        0.0529633     0.0136428\n",
       "  0.0365589     0.0613103     0.00485194       0.0276802     0.011364\n",
       "  0.010906     -0.020124     -0.0186979       -0.0445749     0.0363507\n",
       " -0.0212029    -0.0419615     0.0105021    …   0.0341965     0.0111711\n",
       " -0.00218691    0.102895      0.0393241       -0.00511465    0.00468546\n",
       "  0.0179954    -0.00966064   -0.0284586       -0.0183248    -0.0154677\n",
       " -0.0160823     0.0301036     0.0279232        0.0405657    -0.0247505\n",
       " -0.000625878  -0.0257699    -0.0224254        0.00340824    0.00193759\n",
       " -0.0423942     0.00862068   -0.0329774    …  -0.0122315     0.00642794\n",
       " -2.68634e-5   -0.0215124     0.00107496       0.0299984     0.0321189\n",
       "  0.000523241  -0.0371843     0.0114443        0.0613804     0.00960142\n",
       " -0.0168932     0.0346816     0.0232275       -0.000549601  -0.0103158\n",
       " -0.0286883     0.0487465     0.0173199       -0.00939967    0.0129127\n",
       " -0.0400357    -0.0131345    -0.0390215    …  -0.0142575     0.064188\n",
       " -0.0101621     0.000910766  -0.000891927     -0.00350995   -0.0103846\n",
       "  0.0300819     0.00566661    0.0401706        0.0419944    -0.0337763\n",
       " -0.0294035     0.0502304     0.00741287       0.0224791    -0.0238465\n",
       "  0.0161037    -0.00992311   -0.00974992      -0.011732      0.0296726"
      ]
     },
     "execution_count": 27,
     "metadata": {},
     "output_type": "execute_result"
    }
   ],
   "source": [
    "Ktrue = ϵx.Σ*H'*inv(H*ϵx.Σ*H'+ϵy.Σ)"
   ]
  },
  {
   "cell_type": "code",
   "execution_count": 32,
   "metadata": {},
   "outputs": [
    {
     "data": {
      "text/plain": [
       "20×10 Array{Float64,2}:\n",
       " -0.00533816    0.0175145   -0.0524766   …  -0.0553569    0.0436521\n",
       " -0.0664166     0.039655     0.0189177       0.0358076    0.0396206\n",
       " -0.00131576   -0.0330152   -0.0348056      -0.0424867    0.0208013\n",
       " -0.0228927    -0.0649004   -0.0209033       0.0214786   -0.0131635\n",
       " -0.016047      0.0324057    0.0364188       0.00957741  -0.0121093\n",
       "  0.0361587     0.0206896    0.0166381   …   0.014332     0.0115728\n",
       "  0.008632     -0.0756074   -0.0201708      -0.0203234    0.0373767\n",
       " -0.00452848   -0.0027607    0.0172731       0.0565743   -0.00648763\n",
       "  0.0146203    -0.0597701   -0.0284053       0.0239506    0.0139841\n",
       "  0.00444355    0.033016    -0.0108657      -0.0120374   -0.0359889\n",
       "  0.0422        0.00282352   0.00917849  …   0.0108607   -0.0148428\n",
       " -0.00787618    0.00167676   0.00495388     -0.00309115  -0.0375559\n",
       "  0.00110258    0.0212498   -0.0214336      -0.00235792  -0.00758169\n",
       " -0.000834703  -0.00807993  -0.0291105      -0.047375     0.0167082\n",
       "  0.0225675    -0.0460733   -0.00159519     -0.0244357   -0.0171807\n",
       "  0.0614611     0.0235418    0.0539899   …   0.0339944   -0.00693772\n",
       "  0.023926     -0.0100686    0.00485811     -0.0152033   -0.0127246\n",
       " -0.0100017    -0.013436    -0.047717       -0.0344479    0.0107543\n",
       "  0.020199     -0.066141    -0.0168056       0.0195653    0.00725845\n",
       " -0.01061       0.0247878    0.0100273      -0.00975661  -0.0272259"
      ]
     },
     "execution_count": 32,
     "metadata": {},
     "output_type": "execute_result"
    }
   ],
   "source": [
    "Kr = sqrt(cov(state(X,Ny, Nx)'))*V*Diagonal(sqrt.(eigen_Cy.values[1:r])./(1.0 .+ sqrt.(eigen_Cy.values[1:r]).^2))*(U'*inv(ϵy.σ))"
   ]
  },
  {
   "cell_type": "code",
   "execution_count": 31,
   "metadata": {},
   "outputs": [
    {
     "data": {
      "text/plain": [
       "0.09589123847629907"
      ]
     },
     "execution_count": 31,
     "metadata": {},
     "output_type": "execute_result"
    }
   ],
   "source": [
    "norm(K-Ktrue)/norm(Ktrue)"
   ]
  },
  {
   "cell_type": "code",
   "execution_count": 29,
   "metadata": {},
   "outputs": [
    {
     "data": {
      "text/plain": [
       "20×10 Array{Float64,2}:\n",
       "  0.0105063    0.00773183   0.0522728   …   0.0308289   -0.0226015\n",
       "  0.0664189   -0.0483205    0.00097323     -0.00762351   0.00277857\n",
       "  0.00500415   0.0316937    0.0582621       0.0545296    0.00937866\n",
       "  0.0369153    0.060204     0.00607416      0.0302009    0.0133018\n",
       "  0.00574065  -0.0129822   -0.0207845      -0.0479173    0.0393424\n",
       " -0.0196502   -0.0456881    0.0066762   …   0.0334857    0.0120852\n",
       " -0.0032944    0.104635     0.0354668      -0.0101743    0.0057018\n",
       "  0.0193059   -0.0100607   -0.0319203      -0.0241764   -0.0152753\n",
       " -0.0154185    0.0304269    0.0299529       0.0433419   -0.0260611\n",
       " -0.00482489  -0.0248459   -0.0209841       0.00742154   0.00177954\n",
       " -0.0410414    0.00589153  -0.0335234   …  -0.0133501    0.00470446\n",
       " -0.00127736  -0.0185494    0.00098876      0.0221307    0.0334975\n",
       "  0.00141987  -0.0352645    0.00781139      0.058312     0.0125022\n",
       " -0.0137861    0.0365148    0.0230808      -0.00295712  -0.00871794\n",
       " -0.0258353    0.0440314    0.020466       -0.00414693   0.0138123\n",
       " -0.0408721   -0.010464    -0.03552     …  -0.0128304    0.0650471\n",
       " -0.0123943    0.00625861  -0.00267835     -0.0091343   -0.00702018\n",
       "  0.0298362    0.00895828   0.0429555       0.0426808   -0.0341825\n",
       " -0.0324472    0.0533061    0.00454431      0.0180795   -0.0226097\n",
       "  0.0208086   -0.0154653   -0.0148164      -0.0137033    0.0274224"
      ]
     },
     "execution_count": 29,
     "metadata": {},
     "output_type": "execute_result"
    }
   ],
   "source": [
    "K = Σxx*H'*inv(Σyy)"
   ]
  },
  {
   "cell_type": "code",
   "execution_count": 16,
   "metadata": {},
   "outputs": [],
   "source": [
    "svdH̃sample = svd(H̃sample);"
   ]
  },
  {
   "cell_type": "code",
   "execution_count": 17,
   "metadata": {},
   "outputs": [
    {
     "data": {
      "text/plain": [
       "SVD{Float64,Float64,Array{Float64,2}}\n",
       "U factor:\n",
       "10×10 Array{Float64,2}:\n",
       "  0.0218353   0.329906    0.131455    0.0719433  …  -0.336961    -0.198003\n",
       "  0.481965    0.325689   -0.439341   -0.169865       0.387613    -0.364287\n",
       " -0.530449   -0.0303216  -0.219711    0.230453       0.588943     0.123821\n",
       " -0.163532   -0.0619089  -0.491965   -0.395894       0.0846502   -0.00645877\n",
       " -0.292542    0.586665   -0.143426   -0.193094      -0.253062     0.417118\n",
       "  0.289991    0.193956    0.130683    0.6117     …   0.271641     0.113142\n",
       " -0.480518    0.307213    0.375986   -0.037047       0.193406    -0.58077\n",
       "  0.0777523  -0.32979     0.385512   -0.469715       0.188452    -0.0955029\n",
       " -0.150918   -0.363094   -0.0846726   0.15233       -0.00592585   0.163051\n",
       "  0.17239     0.252117    0.4057     -0.315369       0.414016     0.50292\n",
       "singular values:\n",
       "10-element Array{Float64,1}:\n",
       " 1.009209692479329\n",
       " 1.0062379409709985\n",
       " 1.0036008270187347\n",
       " 1.0029506589428967\n",
       " 1.001329465005774\n",
       " 0.9976548895780435\n",
       " 0.9915969944484372\n",
       " 0.9897033623254232\n",
       " 0.9807772336065986\n",
       " 0.9723954106894451\n",
       "Vt factor:\n",
       "10×20 Array{Float64,2}:\n",
       " -0.177081    0.0505352  -0.204014    …  -0.0793321   0.015162     0.0505717\n",
       "  0.0290472   0.311105    0.0255163      -0.134997   -0.00223803   0.10122\n",
       " -0.0168495  -0.347371    0.0856595       0.0616224   0.0934484    0.115204\n",
       "  0.0982313  -0.0723729  -0.358318       -0.295511    0.0537594    0.14134\n",
       " -0.095869   -0.405912    0.257374        0.158507    0.103671    -0.112851\n",
       " -0.0332503  -0.0722448  -0.00696421  …  -0.459887   -0.374305     0.47307\n",
       " -0.122234   -0.166031   -0.160805        0.0174779   0.279909     0.103373\n",
       " -0.138379   -0.0850473  -0.136226       -0.216235    0.320384    -0.233125\n",
       " -0.150866   -0.321937    0.347508        0.16379    -0.361666     0.295316\n",
       "  0.135455    0.0745723  -0.0937989      -0.320587   -0.321241    -0.371741"
      ]
     },
     "execution_count": 17,
     "metadata": {},
     "output_type": "execute_result"
    }
   ],
   "source": [
    "svdH̃sample"
   ]
  },
  {
   "cell_type": "code",
   "execution_count": 18,
   "metadata": {},
   "outputs": [
    {
     "ename": "LoadError",
     "evalue": "\u001b[91mUndefVarError: Λ not defined\u001b[39m",
     "output_type": "error",
     "traceback": [
      "\u001b[91mUndefVarError: Λ not defined\u001b[39m",
      "",
      "Stacktrace:",
      " [1] top-level scope at In[18]:1",
      " [2] include_string(::Function, ::Module, ::String, ::String) at ./loading.jl:1091"
     ]
    }
   ],
   "source": [
    "Klowrank = Σx^(1/2)*V*Diagonal(Λ)*inv(Diagonal(Λ).^2 + I)*U'*Σy^(-1/2)"
   ]
  },
  {
   "cell_type": "code",
   "execution_count": 201,
   "metadata": {},
   "outputs": [
    {
     "data": {
      "text/plain": [
       "false"
      ]
     },
     "execution_count": 201,
     "metadata": {},
     "output_type": "execute_result"
    }
   ],
   "source": [
    "isposdef(Symmetric(Σxy*inv(Σyy)*(Σxy')))"
   ]
  },
  {
   "cell_type": "code",
   "execution_count": 205,
   "metadata": {},
   "outputs": [
    {
     "data": {
      "text/plain": [
       "GeneralizedEigen{Float64,Float64,Array{Float64,2},Array{Float64,1}}\n",
       "values:\n",
       "20-element Array{Float64,1}:\n",
       " -3.736850343961709e-16\n",
       " -3.0305094340771137e-16\n",
       " -1.923381154300831e-16\n",
       " -1.4238510144807033e-16\n",
       " -9.300044222400317e-17\n",
       "  3.4479841235178085e-17\n",
       "  1.3410353537158534e-16\n",
       "  2.1078159296229402e-16\n",
       "  2.995416215529736e-16\n",
       "  4.689211302293456e-16\n",
       "  0.9570211827183169\n",
       "  0.9659209804444706\n",
       "  0.9686105857075465\n",
       "  0.9726839687208598\n",
       "  0.9789657439959808\n",
       "  0.9814310543103316\n",
       "  0.9887800893351203\n",
       "  0.9926040586080717\n",
       "  0.9961585552968009\n",
       "  0.9992011445399831\n",
       "vectors:\n",
       "20×20 Array{Float64,2}:\n",
       " -0.0751051    0.244383    -0.00443213  …   0.157721     0.212473\n",
       "  0.146489    -0.0226617   -0.239765       -0.0932904   -0.163616\n",
       " -0.110238    -0.00996158  -0.0130902      -0.575474     0.0639061\n",
       "  0.140373     0.143651    -0.101987       -0.135806    -0.00815613\n",
       " -0.120679    -0.00663185  -0.0888664      -0.085245     0.0399172\n",
       " -0.0192349    0.0272652    0.233491    …  -0.0845982   -0.141855\n",
       "  0.115308    -0.0815357    0.14527        -0.116538     0.238353\n",
       "  0.169712    -0.244017     0.126521        0.0298638    0.0862162\n",
       " -0.00655402   0.0538685    0.0337731       0.00257948  -0.0649729\n",
       " -0.292414     0.136017     0.0572819       0.034372     0.174423\n",
       " -0.158663    -0.0104343    0.199199    …   0.0571761   -0.0661329\n",
       "  0.125358    -0.0725469   -0.218259        0.126309     0.107625\n",
       " -0.0693026   -0.295657     0.118189        0.127944    -0.00793349\n",
       "  0.00106225  -0.132025     0.070073        0.0847814    0.196258\n",
       " -0.0405192   -0.163945     0.169259       -0.0675312   -0.301339\n",
       "  0.0811281   -0.117961     0.268003    …  -0.19154      0.177531\n",
       "  0.0350347   -0.160199    -0.0295626      -0.0283309    0.0715658\n",
       "  0.455201     0.186233     0.0755392       0.00469581   0.00837571\n",
       " -0.102933    -0.0965561   -0.0880464       0.0459292   -0.127703\n",
       " -0.00674885  -0.246279    -0.284419       -0.0661889    0.157029"
      ]
     },
     "execution_count": 205,
     "metadata": {},
     "output_type": "execute_result"
    }
   ],
   "source": [
    "E1 = eigen(Symmetric(Σxy*(Σyy\\(Σxy'))), Σxx)"
   ]
  },
  {
   "cell_type": "code",
   "execution_count": 215,
   "metadata": {},
   "outputs": [
    {
     "data": {
      "text/plain": [
       "20-element Array{Float64,1}:\n",
       "   -3.7368503439617073e-16\n",
       "   -3.030509434077113e-16\n",
       "   -1.9233811543008305e-16\n",
       "   -1.423851014480703e-16\n",
       "   -9.300044222400317e-17\n",
       "    3.4479841235178085e-17\n",
       "    1.3410353537158537e-16\n",
       "    2.1078159296229407e-16\n",
       "    2.995416215529737e-16\n",
       "    4.689211302293458e-16\n",
       "   22.26727591050266\n",
       "   28.343567187153656\n",
       "   30.857873825967403\n",
       "   35.60853913151168\n",
       "   46.54149611038874\n",
       "   52.85335369667177\n",
       "   88.1272693578725\n",
       "  134.20929209787457\n",
       "  259.31872830740076\n",
       " 1250.7909059278932"
      ]
     },
     "execution_count": 215,
     "metadata": {},
     "output_type": "execute_result"
    }
   ],
   "source": [
    "Λ = E1.values./(1.0 .-E1.values)"
   ]
  },
  {
   "cell_type": "code",
   "execution_count": 76,
   "metadata": {},
   "outputs": [
    {
     "data": {
      "text/plain": [
       "SVD{Float64,Float64,Array{Float64,2}}\n",
       "U factor:\n",
       "10×10 Array{Float64,2}:\n",
       "  0.0641204   0.254384    -0.183958  -0.428634   …  -0.573138    0.606823\n",
       " -0.290928    0.00401832  -0.529376  -0.0533508      0.0616348  -0.0551907\n",
       "  0.266514    0.276454    -0.324761  -0.146112      -0.0318523  -0.422608\n",
       " -0.101319   -0.734992    -0.286928  -0.440352       0.194789    0.106851\n",
       " -0.464208    0.0949348    0.396239  -0.50769       -0.26221    -0.407861\n",
       "  0.438384    0.0578712   -0.291812  -0.322354   …   0.0604909  -0.322774\n",
       " -0.160714    0.42229     -0.342238   0.0710781      0.183573    0.0647777\n",
       " -0.163705   -0.264538    -0.300814   0.473722      -0.527065   -0.0847683\n",
       " -0.0957332  -0.104994    -0.11734    0.0826278     -0.41496    -0.394481\n",
       "  0.600409   -0.216651     0.185956   0.0146778     -0.269546   -0.0342671\n",
       "singular values:\n",
       "10-element Array{Float64,1}:\n",
       " 1.0126563692273145\n",
       " 1.0094742386434066\n",
       " 1.0045156753655875\n",
       " 1.0022953349083663\n",
       " 0.9952130408768515\n",
       " 0.9872278249739405\n",
       " 0.9843627103335149\n",
       " 0.9739594249993055\n",
       " 0.9665080605923858\n",
       " 0.9606533625142819\n",
       "Vt factor:\n",
       "10×20 Array{Float64,2}:\n",
       " -0.00103192  -0.0231871  -0.105454    …  -0.251901    0.10917    -0.0352283\n",
       "  0.118671     0.137316    0.385263       -0.507462   -0.0322893  -0.0149833\n",
       " -0.0397891   -0.439738    0.0929101       0.0685628  -0.260114    0.0536824\n",
       " -0.23982      0.0894751  -0.237819        0.215874   -0.017228   -0.323301\n",
       " -0.304997    -0.15377     0.244693        0.0134813   0.163075    0.484572\n",
       "  0.0512328   -0.0214993   0.0524609   …   0.188526   -0.4187     -0.0740714\n",
       " -0.185765    -0.139114   -0.288092       -0.0641102   0.0398757   0.0380401\n",
       "  0.454856     0.026491   -0.00355026     -0.131627   -0.39616     0.263962\n",
       " -0.22105     -0.162927   -0.290984       -0.386685   -0.130909    0.122773\n",
       "  0.0934544   -0.123157    0.11133         0.161675   -0.306273   -0.118461"
      ]
     },
     "execution_count": 76,
     "metadata": {},
     "output_type": "execute_result"
    }
   ],
   "source": [
    "svd(H̃)"
   ]
  },
  {
   "cell_type": "code",
   "execution_count": 21,
   "metadata": {},
   "outputs": [
    {
     "data": {
      "text/plain": [
       "20-element Array{Float64,1}:\n",
       " 1.000000001\n",
       " 0.500000001\n",
       " 0.33333333433333334\n",
       " 0.250000001\n",
       " 0.200000001\n",
       " 0.16666666766666666\n",
       " 0.14285714385714285\n",
       " 0.125000001\n",
       " 0.1111111121111111\n",
       " 0.100000001\n",
       " 0.09090909190909091\n",
       " 0.08333333433333333\n",
       " 0.07692307792307693\n",
       " 0.07142857242857142\n",
       " 0.06666666766666667\n",
       " 0.062500001\n",
       " 0.058823530411764705\n",
       " 0.05555555655555555\n",
       " 0.05263157994736842\n",
       " 0.050000001"
      ]
     },
     "execution_count": 21,
     "metadata": {},
     "output_type": "execute_result"
    }
   ],
   "source": [
    "Σyy = \n",
    "\n",
    "α = 1.0\n",
    "λ0 = 500\n",
    "τ = 1e-9\n",
    "\n",
    "λtilde0 = 1.0\n",
    "τtilde = 1e-9\n",
    "ΛH = map(i-> λ0/(i^α) + τ, 1:min(Ny, Nx))\n",
    "ΛX = map(i-> λtilde0/(i^α) + τtilde, 1:Nx)"
   ]
  },
  {
   "cell_type": "code",
   "execution_count": 25,
   "metadata": {},
   "outputs": [
    {
     "data": {
      "text/plain": [
       "20×20 Array{Float64,2}:\n",
       " -0.385419    0.279758   -0.116839    -0.062175   …   0.298618    0.188885\n",
       "  0.0924087  -0.41927    -0.104403    -0.0991016     -0.190351   -0.100921\n",
       " -0.248725   -0.0647208  -0.0435458   -0.16483       -0.227559    0.21432\n",
       "  0.360298   -0.107573    0.158463    -0.234489       0.103325    0.274374\n",
       "  0.39222    -0.115525    0.150809    -0.0752712      0.135093   -0.0973899\n",
       "  0.0672663  -0.082833    0.015547    -0.448899   …   0.120159    0.1809\n",
       " -0.03138     0.301628   -0.421907    -0.168517      -0.11352    -0.195903\n",
       "  0.149903    0.103326    0.0255276    0.185168       0.146221    0.377058\n",
       " -0.13661    -0.0478563   0.193874    -0.0736007     -0.0737505   0.0600682\n",
       " -0.238123    0.0563366   0.0455886    0.0367086     -0.19281    -0.00233535\n",
       " -0.030822   -0.163139   -0.390238     0.142061   …  -0.032612   -0.428519\n",
       " -0.0898115  -0.152397    0.175962    -0.0161426      0.564832   -0.116649\n",
       " -0.0629619  -0.22733    -0.177667    -0.453958       0.119715   -0.228413\n",
       "  0.142307    0.273644   -0.365709    -0.312924       0.367778    0.0190895\n",
       " -0.276058   -0.144148    0.0718453   -0.0427702      0.235023   -0.126046\n",
       " -0.128762    0.275868    0.552857    -0.375345   …  -0.17315    -0.384725\n",
       "  0.0595705   0.0691683   0.123814     0.396685       0.341961   -0.32093\n",
       " -0.187125    0.033406   -0.1189       0.0524382     -0.0316582   0.271397\n",
       "  0.38226     0.533477    0.00477196  -0.0115589     -0.13207    -0.127322\n",
       "  0.288697   -0.197689   -0.135182     0.0117217     -0.110786    0.00361321"
      ]
     },
     "execution_count": 25,
     "metadata": {},
     "output_type": "execute_result"
    }
   ],
   "source": [
    "U = Matrix(qr(randn(Ny, Ny)).Q)\n",
    "V = Matrix(qr(randn(Ny, Ny)).Q)"
   ]
  },
  {
   "cell_type": "code",
   "execution_count": null,
   "metadata": {},
   "outputs": [],
   "source": [
    "H = rand(Ny, Nx)\n",
    "\n",
    "σy = 0.1\n",
    "Σy = Diagonal(σy^2*ones(Ny))\n",
    "ϵy = AdditiveInflation(zeros(Ny), σy)\n",
    "\n",
    "σx = 1.5\n",
    "Σx = Diagonal(σx^2*ones(Nx))\n",
    "L = cholesky(inv(Σx))\n",
    "ϵx = AdditiveInflation(zeros(Nx), σx)"
   ]
  },
  {
   "cell_type": "code",
   "execution_count": 16,
   "metadata": {},
   "outputs": [],
   "source": []
  },
  {
   "cell_type": "code",
   "execution_count": 4,
   "metadata": {},
   "outputs": [
    {
     "ename": "LoadError",
     "evalue": "\u001b[91mUndefVarError: X not defined\u001b[39m",
     "output_type": "error",
     "traceback": [
      "\u001b[91mUndefVarError: X not defined\u001b[39m",
      "",
      "Stacktrace:",
      " [1] top-level scope at In[4]:1",
      " [2] include_string(::Function, ::Module, ::String, ::String) at ./loading.jl:1091"
     ]
    }
   ],
   "source": []
  },
  {
   "cell_type": "code",
   "execution_count": 5,
   "metadata": {},
   "outputs": [
    {
     "ename": "LoadError",
     "evalue": "\u001b[91mUndefVarError: Ne not defined\u001b[39m",
     "output_type": "error",
     "traceback": [
      "\u001b[91mUndefVarError: Ne not defined\u001b[39m",
      "",
      "Stacktrace:",
      " [1] top-level scope at In[5]:1",
      " [2] include_string(::Function, ::Module, ::String, ::String) at ./loading.jl:1091"
     ]
    }
   ],
   "source": []
  },
  {
   "cell_type": "code",
   "execution_count": 6,
   "metadata": {},
   "outputs": [
    {
     "ename": "LoadError",
     "evalue": "\u001b[91mUndefVarError: Σy not defined\u001b[39m",
     "output_type": "error",
     "traceback": [
      "\u001b[91mUndefVarError: Σy not defined\u001b[39m",
      "",
      "Stacktrace:",
      " [1] top-level scope at In[6]:1",
      " [2] include_string(::Function, ::Module, ::String, ::String) at ./loading.jl:1091"
     ]
    }
   ],
   "source": [
    "Σyy = copy(Σy);"
   ]
  },
  {
   "cell_type": "code",
   "execution_count": 7,
   "metadata": {},
   "outputs": [
    {
     "ename": "LoadError",
     "evalue": "\u001b[91mUndefVarError: Σxy not defined\u001b[39m",
     "output_type": "error",
     "traceback": [
      "\u001b[91mUndefVarError: Σxy not defined\u001b[39m",
      "",
      "Stacktrace:",
      " [1] top-level scope at ./timing.jl:174 [inlined]",
      " [2] top-level scope at ./In[7]:0",
      " [3] include_string(::Function, ::Module, ::String, ::String) at ./loading.jl:1091"
     ]
    }
   ],
   "source": [
    "@time Σy\\(Σxy')"
   ]
  },
  {
   "cell_type": "code",
   "execution_count": 164,
   "metadata": {},
   "outputs": [
    {
     "name": "stdout",
     "output_type": "stream",
     "text": [
      "  0.000021 seconds (3 allocations: 4.141 KiB)\n"
     ]
    }
   ],
   "source": [
    "@time Σxy*(Σy\\(Σxy'));"
   ]
  },
  {
   "cell_type": "code",
   "execution_count": 162,
   "metadata": {},
   "outputs": [],
   "source": [
    "eigen(Hermitian(Σxx - Σxy*inv(Σy)*Σxy'));"
   ]
  },
  {
   "cell_type": "code",
   "execution_count": 161,
   "metadata": {},
   "outputs": [],
   "source": [
    "E1 = eigen(Σxx, Σxx - Σxy*inv(Σy)*Σxy');"
   ]
  },
  {
   "cell_type": "code",
   "execution_count": 150,
   "metadata": {},
   "outputs": [
    {
     "name": "stdout",
     "output_type": "stream",
     "text": [
      "E1.values[(end - i) + 1] = 5533.683492171553\n",
      "E1.values[(end - i) + 1] = 768.4434872518958\n",
      "E1.values[(end - i) + 1] = 358.5800517087799\n",
      "E1.values[(end - i) + 1] = 187.10343240248906\n",
      "E1.values[(end - i) + 1] = 137.52803671519075\n"
     ]
    }
   ],
   "source": [
    "Λ1 = zeros(min(Nx,Ny))\n",
    "\n",
    "for i in axes(Λ,1)\n",
    "    @show E1.values[end-i+1]\n",
    "    Λ1[i] = E1.values[end-i+1]/(1-E1.values[end-i+1])\n",
    "end"
   ]
  },
  {
   "cell_type": "code",
   "execution_count": 84,
   "metadata": {},
   "outputs": [],
   "source": [
    "X = zeros(Ny+Nx, Ne)\n",
    "ϵx(X, Ny+1, Ny+Nx)"
   ]
  },
  {
   "cell_type": "code",
   "execution_count": 85,
   "metadata": {},
   "outputs": [
    {
     "data": {
      "text/plain": [
       "5-element Array{Float64,1}:\n",
       "  3.1863782281677557\n",
       "  1.2961341870904126\n",
       "  0.6382307854274372\n",
       "  2.243377328071246\n",
       " -1.0139311553757233"
      ]
     },
     "execution_count": 85,
     "metadata": {},
     "output_type": "execute_result"
    }
   ],
   "source": [
    "xstar = σx*randn(Nx)\n",
    "ystar = H*xstar"
   ]
  },
  {
   "cell_type": "code",
   "execution_count": 86,
   "metadata": {},
   "outputs": [
    {
     "data": {
      "text/plain": [
       "25×500 Array{Float64,2}:\n",
       "  0.0         0.0        0.0        …   0.0        0.0         0.0\n",
       "  0.0         0.0        0.0            0.0        0.0         0.0\n",
       "  0.0         0.0        0.0            0.0        0.0         0.0\n",
       "  0.0         0.0        0.0            0.0        0.0         0.0\n",
       "  0.0         0.0        0.0            0.0        0.0         0.0\n",
       " -1.2458     -1.33112   -1.64702    …   3.36754   -0.0578877   1.05481\n",
       " -2.28695     3.26343   -0.407037      -1.56998   -0.632893    0.933066\n",
       " -0.704441    3.70639   -1.60342       -0.148933   2.90685     2.86306\n",
       " -0.0635331   0.787904   1.52941       -0.663269  -0.1601     -0.890273\n",
       " -0.734832   -1.30423   -0.356794      -0.859634   0.224142    1.29123\n",
       "  1.25449    -0.937811  -1.03954    …  -0.617167  -1.99874     0.123404\n",
       "  0.388416   -0.901535  -2.56433        1.39673    0.596719    2.5115\n",
       "  0.665981   -1.50467    2.01868       -0.818324  -0.994095   -1.28887\n",
       "  1.03726    -0.669111  -1.23044       -0.333976  -1.61289     0.994643\n",
       " -1.02162    -0.698623   0.873741       1.9216     0.177981    2.83398\n",
       " -0.999628    0.742435   2.02127    …   0.232018  -1.94535    -1.2555\n",
       " -2.9389     -1.47877    1.41866        1.2763    -0.144243   -1.84903\n",
       "  0.926797   -0.836661   0.541546      -2.99894    1.44735     1.96917\n",
       "  1.72812    -1.22983    0.0507503     -2.13048   -0.719054    0.783246\n",
       " -2.42719    -0.502738   1.78787       -1.25059    1.51426     0.226374\n",
       "  0.744084    1.14706    1.40941    …   0.726064  -0.797872   -0.444202\n",
       "  0.0158911  -1.27145   -1.88471       -0.75798   -1.35681     0.412853\n",
       " -0.571835   -1.15924    2.5436         0.548251  -0.800338    0.805181\n",
       " -1.31672     1.11609    0.061762       1.5911    -0.0936917  -1.86313\n",
       "  0.79141     1.75079   -1.02818       -0.430605   1.45194    -1.31028"
      ]
     },
     "execution_count": 86,
     "metadata": {},
     "output_type": "execute_result"
    }
   ],
   "source": [
    "X"
   ]
  },
  {
   "cell_type": "code",
   "execution_count": 87,
   "metadata": {},
   "outputs": [],
   "source": [
    "# Compute observations\n",
    "observe((x, t)->H*x, X, 0.0, Ny, Nx)"
   ]
  },
  {
   "cell_type": "code",
   "execution_count": 88,
   "metadata": {},
   "outputs": [
    {
     "data": {
      "text/plain": [
       "5-element Array{Float64,1}:\n",
       " -4.201837580911975\n",
       " -2.1394534272246384\n",
       " -4.019694321430913\n",
       " -3.075109147097886\n",
       " -4.203807085694468"
      ]
     },
     "execution_count": 88,
     "metadata": {},
     "output_type": "execute_result"
    }
   ],
   "source": [
    "H*X[Ny+1:Ny+Nx,1]"
   ]
  },
  {
   "cell_type": "code",
   "execution_count": 89,
   "metadata": {},
   "outputs": [],
   "source": [
    "# Perturb observations\n",
    "ϵy(X, 1, Ny)"
   ]
  },
  {
   "cell_type": "code",
   "execution_count": 90,
   "metadata": {},
   "outputs": [
    {
     "data": {
      "text/plain": [
       "5×20 Array{Float64,2}:\n",
       " 13.2246   12.1639    8.33884  12.5696   …  0.33596   13.0077     6.104\n",
       " 11.7709    4.02518   4.32466  12.2453      3.82649    4.51892    0.736347\n",
       " 14.3812    7.6828   12.7421   14.2567      0.309371   0.571132   5.6817\n",
       " 12.7464    1.10851   2.9518   12.5377      2.96307    9.68206   14.5612\n",
       "  9.11181   3.50321   1.7109    3.99807     3.86428    9.44018    6.83744"
      ]
     },
     "execution_count": 90,
     "metadata": {},
     "output_type": "execute_result"
    }
   ],
   "source": [
    "H̃ = Σy^(-1/2)*H*Σx^(1/2)"
   ]
  },
  {
   "cell_type": "code",
   "execution_count": 91,
   "metadata": {},
   "outputs": [
    {
     "data": {
      "text/plain": [
       "6.670033592382955e-14"
      ]
     },
     "execution_count": 91,
     "metadata": {},
     "output_type": "execute_result"
    }
   ],
   "source": [
    "svdH̃ = svd(H̃)\n",
    "r = Ny\n",
    "Λ = svdH̃.S[1:r]\n",
    "U = svdH̃.U[:,1:r]\n",
    "V = Matrix(svdH̃.Vt')[:,1:r]\n",
    "\n",
    "norm(U*Diagonal(Λ)*V'-H̃)"
   ]
  },
  {
   "cell_type": "code",
   "execution_count": 92,
   "metadata": {},
   "outputs": [
    {
     "data": {
      "image/png": "[encoded data removed]"
     },
     "execution_count": 92,
     "metadata": {},
     "output_type": "execute_result"
    }
   ],
   "source": [
    "plot(Λ, yscale = :log10, label = L\"Singular values of $\\tilde{H}$\")"
   ]
  },
  {
   "cell_type": "code",
   "execution_count": 93,
   "metadata": {},
   "outputs": [
    {
     "data": {
      "text/plain": [
       "5×5 Diagonal{Float64,Array{Float64,1}}:\n",
       " 0.01   ⋅     ⋅     ⋅     ⋅ \n",
       "  ⋅    0.01   ⋅     ⋅     ⋅ \n",
       "  ⋅     ⋅    0.01   ⋅     ⋅ \n",
       "  ⋅     ⋅     ⋅    0.01   ⋅ \n",
       "  ⋅     ⋅     ⋅     ⋅    0.01"
      ]
     },
     "execution_count": 93,
     "metadata": {},
     "output_type": "execute_result"
    }
   ],
   "source": [
    "Σy"
   ]
  },
  {
   "cell_type": "code",
   "execution_count": 94,
   "metadata": {},
   "outputs": [
    {
     "data": {
      "text/plain": [
       "25×500 Array{Float64,2}:\n",
       " -4.13629    -0.831244   0.717565   …  -0.32971    -1.83319     4.21481\n",
       " -2.18269    -1.31904    1.03149       -0.0446603  -2.30553     2.6002\n",
       " -4.08742     0.606595   0.793833      -1.4667      0.910888    3.49455\n",
       " -3.03034    -1.86637    0.992155       1.39849     0.262881    1.31985\n",
       " -4.09688    -2.23186    0.409984       0.218713   -1.91686     1.1933\n",
       " -1.2458     -1.33112   -1.64702    …   3.36754    -0.0578877   1.05481\n",
       " -2.28695     3.26343   -0.407037      -1.56998    -0.632893    0.933066\n",
       " -0.704441    3.70639   -1.60342       -0.148933    2.90685     2.86306\n",
       " -0.0635331   0.787904   1.52941       -0.663269   -0.1601     -0.890273\n",
       " -0.734832   -1.30423   -0.356794      -0.859634    0.224142    1.29123\n",
       "  1.25449    -0.937811  -1.03954    …  -0.617167   -1.99874     0.123404\n",
       "  0.388416   -0.901535  -2.56433        1.39673     0.596719    2.5115\n",
       "  0.665981   -1.50467    2.01868       -0.818324   -0.994095   -1.28887\n",
       "  1.03726    -0.669111  -1.23044       -0.333976   -1.61289     0.994643\n",
       " -1.02162    -0.698623   0.873741       1.9216      0.177981    2.83398\n",
       " -0.999628    0.742435   2.02127    …   0.232018   -1.94535    -1.2555\n",
       " -2.9389     -1.47877    1.41866        1.2763     -0.144243   -1.84903\n",
       "  0.926797   -0.836661   0.541546      -2.99894     1.44735     1.96917\n",
       "  1.72812    -1.22983    0.0507503     -2.13048    -0.719054    0.783246\n",
       " -2.42719    -0.502738   1.78787       -1.25059     1.51426     0.226374\n",
       "  0.744084    1.14706    1.40941    …   0.726064   -0.797872   -0.444202\n",
       "  0.0158911  -1.27145   -1.88471       -0.75798    -1.35681     0.412853\n",
       " -0.571835   -1.15924    2.5436         0.548251   -0.800338    0.805181\n",
       " -1.31672     1.11609    0.061762       1.5911     -0.0936917  -1.86313\n",
       "  0.79141     1.75079   -1.02818       -0.430605    1.45194    -1.31028"
      ]
     },
     "execution_count": 94,
     "metadata": {},
     "output_type": "execute_result"
    }
   ],
   "source": [
    "X"
   ]
  },
  {
   "cell_type": "code",
   "execution_count": 95,
   "metadata": {},
   "outputs": [
    {
     "data": {
      "text/plain": [
       "25×500 Array{Float64,2}:\n",
       " -4.13629    -0.831244   0.717565   …  -0.32971    -1.83319     4.21481\n",
       " -2.18269    -1.31904    1.03149       -0.0446603  -2.30553     2.6002\n",
       " -4.08742     0.606595   0.793833      -1.4667      0.910888    3.49455\n",
       " -3.03034    -1.86637    0.992155       1.39849     0.262881    1.31985\n",
       " -4.09688    -2.23186    0.409984       0.218713   -1.91686     1.1933\n",
       " -1.2458     -1.33112   -1.64702    …   3.36754    -0.0578877   1.05481\n",
       " -2.28695     3.26343   -0.407037      -1.56998    -0.632893    0.933066\n",
       " -0.704441    3.70639   -1.60342       -0.148933    2.90685     2.86306\n",
       " -0.0635331   0.787904   1.52941       -0.663269   -0.1601     -0.890273\n",
       " -0.734832   -1.30423   -0.356794      -0.859634    0.224142    1.29123\n",
       "  1.25449    -0.937811  -1.03954    …  -0.617167   -1.99874     0.123404\n",
       "  0.388416   -0.901535  -2.56433        1.39673     0.596719    2.5115\n",
       "  0.665981   -1.50467    2.01868       -0.818324   -0.994095   -1.28887\n",
       "  1.03726    -0.669111  -1.23044       -0.333976   -1.61289     0.994643\n",
       " -1.02162    -0.698623   0.873741       1.9216      0.177981    2.83398\n",
       " -0.999628    0.742435   2.02127    …   0.232018   -1.94535    -1.2555\n",
       " -2.9389     -1.47877    1.41866        1.2763     -0.144243   -1.84903\n",
       "  0.926797   -0.836661   0.541546      -2.99894     1.44735     1.96917\n",
       "  1.72812    -1.22983    0.0507503     -2.13048    -0.719054    0.783246\n",
       " -2.42719    -0.502738   1.78787       -1.25059     1.51426     0.226374\n",
       "  0.744084    1.14706    1.40941    …   0.726064   -0.797872   -0.444202\n",
       "  0.0158911  -1.27145   -1.88471       -0.75798    -1.35681     0.412853\n",
       " -0.571835   -1.15924    2.5436         0.548251   -0.800338    0.805181\n",
       " -1.31672     1.11609    0.061762       1.5911     -0.0936917  -1.86313\n",
       "  0.79141     1.75079   -1.02818       -0.430605    1.45194    -1.31028"
      ]
     },
     "execution_count": 95,
     "metadata": {},
     "output_type": "execute_result"
    }
   ],
   "source": [
    "X̃ = copy(X)"
   ]
  },
  {
   "cell_type": "code",
   "execution_count": 96,
   "metadata": {},
   "outputs": [
    {
     "data": {
      "text/plain": [
       "5×500 view(::Array{Float64,2}, 1:5, :) with eltype Float64:\n",
       " -41.3629   -8.31244   7.17565  -79.8323   …   -3.2971    -18.3319   42.1481\n",
       " -21.8269  -13.1904   10.3149     5.98496      -0.446603  -23.0553   26.002\n",
       " -40.8742    6.06595   7.93833  -65.0499      -14.667       9.10888  34.9455\n",
       " -30.3034  -18.6637    9.92155  -30.393        13.9849      2.62881  13.1985\n",
       " -40.9688  -22.3186    4.09984  -15.8272        2.18713   -19.1686   11.933"
      ]
     },
     "execution_count": 96,
     "metadata": {},
     "output_type": "execute_result"
    }
   ],
   "source": [
    "view(X̃,1:Ny, :) .= Σy^(-1/2)*view(X, 1:Ny, :)"
   ]
  },
  {
   "cell_type": "code",
   "execution_count": 97,
   "metadata": {},
   "outputs": [
    {
     "name": "stdout",
     "output_type": "stream",
     "text": [
      "  0.000150 seconds (17 allocations: 78.922 KiB)\n"
     ]
    },
    {
     "data": {
      "text/plain": [
       "20×500 view(::Array{Float64,2}, 6:25, :) with eltype Float64:\n",
       " -0.830531   -0.887413  -1.09801    …   2.24502    -0.0385918   0.70321\n",
       " -1.52463     2.17562   -0.271358      -1.04665    -0.421929    0.622044\n",
       " -0.469627    2.47093   -1.06895       -0.0992884   1.9379      1.90871\n",
       " -0.0423554   0.525269   1.01961       -0.442179   -0.106734   -0.593515\n",
       " -0.489888   -0.869489  -0.237863      -0.573089    0.149428    0.860822\n",
       "  0.836328   -0.625207  -0.69303    …  -0.411445   -1.3325      0.0822692\n",
       "  0.258944   -0.601023  -1.70955        0.931155    0.397813    1.67433\n",
       "  0.443987   -1.00311    1.34579       -0.545549   -0.66273    -0.859249\n",
       "  0.691504   -0.446074  -0.820293      -0.222651   -1.07526     0.663096\n",
       " -0.68108    -0.465749   0.582494       1.28106     0.118654    1.88932\n",
       " -0.666418    0.494957   1.34751    …   0.154679   -1.2969     -0.837\n",
       " -1.95927    -0.985845   0.945772       0.850864   -0.0961618  -1.23269\n",
       "  0.617864   -0.557774   0.36103       -1.99929     0.964902    1.31278\n",
       "  1.15208    -0.81989    0.0338335     -1.42032    -0.479369    0.522164\n",
       " -1.61813    -0.335158   1.19191       -0.833725    1.0095      0.150916\n",
       "  0.496056    0.76471    0.93961    …   0.484042   -0.531915   -0.296135\n",
       "  0.0105941  -0.847636  -1.25647       -0.50532    -0.904542    0.275235\n",
       " -0.381223   -0.772826   1.69573        0.3655     -0.533559    0.536788\n",
       " -0.877812    0.744062   0.0411747      1.06074    -0.0624611  -1.24209\n",
       "  0.527607    1.16719   -0.685452      -0.28707     0.96796    -0.873522"
      ]
     },
     "execution_count": 97,
     "metadata": {},
     "output_type": "execute_result"
    }
   ],
   "source": [
    "@time view(X̃,Ny+1:Ny+Nx, :) .= Σx^(-1/2)*view(X, Ny+1:Ny+Nx, :)"
   ]
  },
  {
   "cell_type": "code",
   "execution_count": 98,
   "metadata": {},
   "outputs": [
    {
     "data": {
      "text/plain": [
       "25×1 Array{Float64,2}:\n",
       " -0.7823400688534918\n",
       " -1.6111181975140163\n",
       "  0.1681611995322183\n",
       " -2.6036276784051893\n",
       " -2.262391214861934\n",
       "  0.05670419576942602\n",
       "  0.05145452693243453\n",
       "  0.008355510272549278\n",
       " -0.01691546809605259\n",
       "  0.02231291052328124\n",
       "  0.07277969298086735\n",
       "  0.035829804521281886\n",
       "  0.011367217784992296\n",
       "  0.025756768601362116\n",
       " -0.043646282130600136\n",
       " -0.059677091191211146\n",
       " -0.05563785099735409\n",
       " -0.04510014532669326\n",
       " -0.010456416776879716\n",
       " -0.03674417550200221\n",
       " -0.03724606038167628\n",
       " -0.04711627894955761\n",
       " -0.015217172265051536\n",
       " -0.04170016287513491\n",
       " -0.07923653502070366"
      ]
     },
     "execution_count": 98,
     "metadata": {},
     "output_type": "execute_result"
    }
   ],
   "source": [
    "mean(X̃; dims = 2)"
   ]
  },
  {
   "cell_type": "code",
   "execution_count": 99,
   "metadata": {},
   "outputs": [
    {
     "data": {
      "text/plain": [
       "5×20 Array{Float64,2}:\n",
       " 0.0  0.0  0.0  0.0  0.0  0.0  0.0  0.0  …  0.0  0.0  0.0  0.0  0.0  0.0  0.0\n",
       " 0.0  0.0  0.0  0.0  0.0  0.0  0.0  0.0     0.0  0.0  0.0  0.0  0.0  0.0  0.0\n",
       " 0.0  0.0  0.0  0.0  0.0  0.0  0.0  0.0     0.0  0.0  0.0  0.0  0.0  0.0  0.0\n",
       " 0.0  0.0  0.0  0.0  0.0  0.0  0.0  0.0     0.0  0.0  0.0  0.0  0.0  0.0  0.0\n",
       " 0.0  0.0  0.0  0.0  0.0  0.0  0.0  0.0     0.0  0.0  0.0  0.0  0.0  0.0  0.0"
      ]
     },
     "execution_count": 99,
     "metadata": {},
     "output_type": "execute_result"
    }
   ],
   "source": [
    "H̃ - Σy^(-1/2)*H*Σx^(1/2)"
   ]
  },
  {
   "cell_type": "code",
   "execution_count": 100,
   "metadata": {},
   "outputs": [
    {
     "data": {
      "text/plain": [
       "20×5 Array{Float64,2}:\n",
       " -0.149439     0.145923     0.158918     0.197409     -0.12959\n",
       "  0.345397    -0.00452612  -0.0316272   -0.392728      0.0770016\n",
       " -0.00200294   0.0671384    0.209074    -0.0914481    -0.0915309\n",
       " -0.191262     0.341819     0.170131     0.319211     -0.425661\n",
       "  0.0385124   -0.310455    -0.0251588   -0.0297553     0.389881\n",
       "  0.223667    -0.26863     -0.0313412   -0.104689      0.194512\n",
       "  0.0246272    0.238984    -0.0581879   -0.144172      0.0465056\n",
       "  0.0331696    0.0538537    0.157497    -0.0113525    -0.12959\n",
       "  0.188242    -0.148307     0.192718    -0.353031      0.164898\n",
       "  0.191805    -0.0945659   -0.180594     0.272121     -0.194787\n",
       " -0.0625104    0.257766    -0.0518823   -0.148945      0.177464\n",
       "  0.156351    -0.149314    -0.0673382   -0.000561701   0.152606\n",
       "  0.0137476    0.12555     -0.0322645    0.0511158     0.00630486\n",
       "  0.327596     0.264226    -0.236392    -0.09597      -0.28114\n",
       " -0.197927    -0.251453     0.344922    -0.0535286     0.287324\n",
       "  0.0542617    0.0524913   -0.0721337   -0.137171      0.16364\n",
       " -0.152923     0.0947897   -0.0540078    0.040712      0.228065\n",
       " -0.0950565    0.0585628   -0.00374295   0.0826763     0.0229652\n",
       "  0.270021    -0.178669    -0.243667    -0.0255876     0.203781\n",
       " -0.29801     -0.282679     0.0877763    0.603839      0.0434578"
      ]
     },
     "execution_count": 100,
     "metadata": {},
     "output_type": "execute_result"
    }
   ],
   "source": []
  },
  {
   "cell_type": "code",
   "execution_count": 101,
   "metadata": {},
   "outputs": [
    {
     "data": {
      "text/plain": [
       "20×5 Array{Float64,2}:\n",
       " -0.149439     0.145923     0.158918     0.197409     -0.12959\n",
       "  0.345397    -0.00452612  -0.0316272   -0.392728      0.0770016\n",
       " -0.00200294   0.0671384    0.209074    -0.0914481    -0.0915309\n",
       " -0.191262     0.341819     0.170131     0.319211     -0.425661\n",
       "  0.0385124   -0.310455    -0.0251588   -0.0297553     0.389881\n",
       "  0.223667    -0.26863     -0.0313412   -0.104689      0.194512\n",
       "  0.0246272    0.238984    -0.0581879   -0.144172      0.0465056\n",
       "  0.0331696    0.0538537    0.157497    -0.0113525    -0.12959\n",
       "  0.188242    -0.148307     0.192718    -0.353031      0.164898\n",
       "  0.191805    -0.0945659   -0.180594     0.272121     -0.194787\n",
       " -0.0625104    0.257766    -0.0518823   -0.148945      0.177464\n",
       "  0.156351    -0.149314    -0.0673382   -0.000561701   0.152606\n",
       "  0.0137476    0.12555     -0.0322645    0.0511158     0.00630486\n",
       "  0.327596     0.264226    -0.236392    -0.09597      -0.28114\n",
       " -0.197927    -0.251453     0.344922    -0.0535286     0.287324\n",
       "  0.0542617    0.0524913   -0.0721337   -0.137171      0.16364\n",
       " -0.152923     0.0947897   -0.0540078    0.040712      0.228065\n",
       " -0.0950565    0.0585628   -0.00374295   0.0826763     0.0229652\n",
       "  0.270021    -0.178669    -0.243667    -0.0255876     0.203781\n",
       " -0.29801     -0.282679     0.0877763    0.603839      0.0434578"
      ]
     },
     "execution_count": 101,
     "metadata": {},
     "output_type": "execute_result"
    }
   ],
   "source": [
    "K = Σx*H'*inv(H*Σx*H'+Σy)"
   ]
  },
  {
   "cell_type": "code",
   "execution_count": 102,
   "metadata": {},
   "outputs": [
    {
     "data": {
      "text/plain": [
       "3.9330182325197666e-15"
      ]
     },
     "execution_count": 102,
     "metadata": {},
     "output_type": "execute_result"
    }
   ],
   "source": [
    "norm(Klowrank-K)"
   ]
  },
  {
   "cell_type": "code",
   "execution_count": 103,
   "metadata": {},
   "outputs": [
    {
     "data": {
      "text/plain": [
       "25×500 Array{Float64,2}:\n",
       " -4.13629    -0.831244   0.717565   …  -0.32971    -1.83319     4.21481\n",
       " -2.18269    -1.31904    1.03149       -0.0446603  -2.30553     2.6002\n",
       " -4.08742     0.606595   0.793833      -1.4667      0.910888    3.49455\n",
       " -3.03034    -1.86637    0.992155       1.39849     0.262881    1.31985\n",
       " -4.09688    -2.23186    0.409984       0.218713   -1.91686     1.1933\n",
       " -1.2458     -1.33112   -1.64702    …   3.36754    -0.0578877   1.05481\n",
       " -2.28695     3.26343   -0.407037      -1.56998    -0.632893    0.933066\n",
       " -0.704441    3.70639   -1.60342       -0.148933    2.90685     2.86306\n",
       " -0.0635331   0.787904   1.52941       -0.663269   -0.1601     -0.890273\n",
       " -0.734832   -1.30423   -0.356794      -0.859634    0.224142    1.29123\n",
       "  1.25449    -0.937811  -1.03954    …  -0.617167   -1.99874     0.123404\n",
       "  0.388416   -0.901535  -2.56433        1.39673     0.596719    2.5115\n",
       "  0.665981   -1.50467    2.01868       -0.818324   -0.994095   -1.28887\n",
       "  1.03726    -0.669111  -1.23044       -0.333976   -1.61289     0.994643\n",
       " -1.02162    -0.698623   0.873741       1.9216      0.177981    2.83398\n",
       " -0.999628    0.742435   2.02127    …   0.232018   -1.94535    -1.2555\n",
       " -2.9389     -1.47877    1.41866        1.2763     -0.144243   -1.84903\n",
       "  0.926797   -0.836661   0.541546      -2.99894     1.44735     1.96917\n",
       "  1.72812    -1.22983    0.0507503     -2.13048    -0.719054    0.783246\n",
       " -2.42719    -0.502738   1.78787       -1.25059     1.51426     0.226374\n",
       "  0.744084    1.14706    1.40941    …   0.726064   -0.797872   -0.444202\n",
       "  0.0158911  -1.27145   -1.88471       -0.75798    -1.35681     0.412853\n",
       " -0.571835   -1.15924    2.5436         0.548251   -0.800338    0.805181\n",
       " -1.31672     1.11609    0.061762       1.5911     -0.0936917  -1.86313\n",
       "  0.79141     1.75079   -1.02818       -0.430605    1.45194    -1.31028"
      ]
     },
     "execution_count": 103,
     "metadata": {},
     "output_type": "execute_result"
    }
   ],
   "source": [
    "Xpost = deepcopy(X)"
   ]
  },
  {
   "cell_type": "code",
   "execution_count": 104,
   "metadata": {},
   "outputs": [
    {
     "data": {
      "text/plain": [
       "20×500 view(::Array{Float64,2}, 6:25, :) with eltype Float64:\n",
       " -0.439896   -0.891394   -1.57054   …   3.69879    -0.0518124   1.03264\n",
       " -1.75667     3.11804    -0.151626     -0.8549      0.384906    0.141436\n",
       " -0.261992    3.39323    -1.60722       0.409692    2.81784     2.29796\n",
       "  0.900168    1.71224     2.12672       0.275049    0.312433   -0.390946\n",
       " -0.606666   -1.60964    -0.932347     -1.69916    -0.40073     0.840302\n",
       "  1.85727    -0.936055   -0.961526  …  -0.585099   -1.86671    -0.192806\n",
       "  0.508214   -0.715317   -2.67784       1.50214     1.3534      2.10493\n",
       "  1.3811     -1.43008     2.26064      -0.147821   -0.816072   -1.56753\n",
       "  1.45706    -1.54461    -1.51146       0.0331741  -1.80498    -0.246014\n",
       "  0.0350743   0.70007     1.96819       2.55908     1.21246     3.95713\n",
       " -1.04421     0.767764    1.50418   …  -0.0959642  -1.45133    -1.90842\n",
       " -2.16414    -1.05967     1.55762       1.29551     0.257831   -1.96013\n",
       "  1.60077    -0.236363    0.668712     -2.81476     2.08427     1.91675\n",
       "  2.55623     0.0330184   1.24647      -0.856484    1.49752     1.30889\n",
       " -2.51781    -1.81466     0.702907     -1.95702    -0.325524   -0.910999\n",
       "  0.764248    1.13562     1.16385   …   0.517792   -0.440688   -0.850292\n",
       " -0.11156    -1.19457    -2.50256      -1.52898    -1.48173     0.134981\n",
       " -0.575049   -1.02036     2.39575       0.32621    -0.881061    0.862926\n",
       " -0.619183    1.86901     0.396843      1.51525     0.817953   -1.68527\n",
       "  1.35905     2.35158    -1.15872      -1.21607     0.149152   -0.42415"
      ]
     },
     "execution_count": 104,
     "metadata": {},
     "output_type": "execute_result"
    }
   ],
   "source": [
    "view(Xpost, Ny+1:Ny+Nx, :) .= view(X,Ny+1:Ny+Nx,:) - Klowrank*(view(X,1:Ny,:) .- ystar)"
   ]
  },
  {
   "cell_type": "code",
   "execution_count": 105,
   "metadata": {},
   "outputs": [
    {
     "data": {
      "text/plain": [
       "25×500 Array{Float64,2}:\n",
       " -4.13629    -0.831244    0.717565  …  -0.32971    -1.83319     4.21481\n",
       " -2.18269    -1.31904     1.03149      -0.0446603  -2.30553     2.6002\n",
       " -4.08742     0.606595    0.793833     -1.4667      0.910888    3.49455\n",
       " -3.03034    -1.86637     0.992155      1.39849     0.262881    1.31985\n",
       " -4.09688    -2.23186     0.409984      0.218713   -1.91686     1.1933\n",
       " -0.439896   -0.891394   -1.57054   …   3.69879    -0.0518124   1.03264\n",
       " -1.75667     3.11804    -0.151626     -0.8549      0.384906    0.141436\n",
       " -0.261992    3.39323    -1.60722       0.409692    2.81784     2.29796\n",
       "  0.900168    1.71224     2.12672       0.275049    0.312433   -0.390946\n",
       " -0.606666   -1.60964    -0.932347     -1.69916    -0.40073     0.840302\n",
       "  1.85727    -0.936055   -0.961526  …  -0.585099   -1.86671    -0.192806\n",
       "  0.508214   -0.715317   -2.67784       1.50214     1.3534      2.10493\n",
       "  1.3811     -1.43008     2.26064      -0.147821   -0.816072   -1.56753\n",
       "  1.45706    -1.54461    -1.51146       0.0331741  -1.80498    -0.246014\n",
       "  0.0350743   0.70007     1.96819       2.55908     1.21246     3.95713\n",
       " -1.04421     0.767764    1.50418   …  -0.0959642  -1.45133    -1.90842\n",
       " -2.16414    -1.05967     1.55762       1.29551     0.257831   -1.96013\n",
       "  1.60077    -0.236363    0.668712     -2.81476     2.08427     1.91675\n",
       "  2.55623     0.0330184   1.24647      -0.856484    1.49752     1.30889\n",
       " -2.51781    -1.81466     0.702907     -1.95702    -0.325524   -0.910999\n",
       "  0.764248    1.13562     1.16385   …   0.517792   -0.440688   -0.850292\n",
       " -0.11156    -1.19457    -2.50256      -1.52898    -1.48173     0.134981\n",
       " -0.575049   -1.02036     2.39575       0.32621    -0.881061    0.862926\n",
       " -0.619183    1.86901     0.396843      1.51525     0.817953   -1.68527\n",
       "  1.35905     2.35158    -1.15872      -1.21607     0.149152   -0.42415"
      ]
     },
     "execution_count": 105,
     "metadata": {},
     "output_type": "execute_result"
    }
   ],
   "source": [
    "Xpost"
   ]
  },
  {
   "cell_type": "code",
   "execution_count": null,
   "metadata": {},
   "outputs": [],
   "source": []
  }
 ],
 "metadata": {
  "kernelspec": {
   "display_name": "Julia 1.5.3",
   "language": "julia",
   "name": "julia-1.5"
  },
  "language_info": {
   "file_extension": ".jl",
   "mimetype": "application/julia",
   "name": "julia",
   "version": "1.5.3"
  }
 },
 "nbformat": 4,
 "nbformat_minor": 4
}
