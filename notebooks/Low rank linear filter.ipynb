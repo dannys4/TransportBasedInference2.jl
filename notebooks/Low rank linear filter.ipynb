{
 "cells": [
  {
   "cell_type": "code",
   "execution_count": 1,
   "metadata": {},
   "outputs": [
    {
     "name": "stderr",
     "output_type": "stream",
     "text": [
      "\u001b[32m\u001b[1m Activating\u001b[22m\u001b[39m environment at `/media/mat/HDD/AdaptiveTransportMap/Project.toml`\n"
     ]
    }
   ],
   "source": [
    "using Pkg\n",
    "Pkg.activate(\"/media/mat/HDD/AdaptiveTransportMap/\")"
   ]
  },
  {
   "cell_type": "code",
   "execution_count": 25,
   "metadata": {},
   "outputs": [],
   "source": [
    "using Revise\n",
    "using LinearAlgebra\n",
    "using AdaptiveTransportMap\n",
    "using Statistics\n",
    "using Distributions\n",
    "using Test\n",
    "using ForwardDiff\n",
    "using SpecialFunctions\n",
    "using OrthoMatchingPursuit\n",
    "using BenchmarkTools"
   ]
  },
  {
   "cell_type": "code",
   "execution_count": 26,
   "metadata": {},
   "outputs": [],
   "source": [
    "using Plots\n",
    "default(tickfont = font(\"CMU Serif\", 9), \n",
    "        titlefont = font(\"CMU Serif\", 14), \n",
    "        guidefont = font(\"CMU Serif\", 12),\n",
    "        legendfont = font(\"CMU Serif\", 10),\n",
    "        grid = false)\n",
    "# Plots.font(\"sans-serif\")\n",
    "# clibrary(:colorbrewer)\n",
    "# gr()\n",
    "pyplot()\n",
    "\n",
    "using LaTeXStrings\n",
    "# PyPlot.rc(\"text\", usetex = \"true\")\n",
    "# rcParams = PyPlot.PyDict(PyPlot.matplotlib.\"rcParams\")\n",
    "# rcParams[\"text.usetex\"] = true;\n",
    "PyPlot.rc(\"font\", family = \"CMU Serif\")\n",
    "PyPlot.matplotlib[:rc](\"mathtext\",fontset=\"cm\")        #computer modern font \n",
    "PyPlot.matplotlib[:rc](\"font\",family=\"serif\",size=12)"
   ]
  },
  {
   "cell_type": "code",
   "execution_count": 27,
   "metadata": {},
   "outputs": [
    {
     "data": {
      "text/plain": [
       "@print (macro with 1 method)"
      ]
     },
     "execution_count": 27,
     "metadata": {},
     "output_type": "execute_result"
    }
   ],
   "source": [
    "macro print(x)\n",
    "       esc(quote\n",
    "           println($x)\n",
    "           $x\n",
    "           end\n",
    "       )\n",
    "       end"
   ]
  },
  {
   "cell_type": "markdown",
   "metadata": {},
   "source": [
    "### Working from samples"
   ]
  },
  {
   "cell_type": "code",
   "execution_count": 28,
   "metadata": {},
   "outputs": [
    {
     "data": {
      "text/plain": [
       "6.431102361230128e-14"
      ]
     },
     "execution_count": 28,
     "metadata": {},
     "output_type": "execute_result"
    }
   ],
   "source": [
    "Nx = 50\n",
    "Ny = 10\n",
    "Ne = 1000\n",
    "maxrank = min(Nx, Ny)\n",
    "r = maxrank\n",
    "H = rdnortho(Ny)[:,1:maxrank]*Diagonal(map(i->100/(i^3) + 0.01, 1:maxrank))*rdnortho(Nx)[:,1:maxrank]'\n",
    "\n",
    "svdH = deepcopy(svd(H))\n",
    "UH = svdH.U\n",
    "VH = Matrix(svdH.Vt')\n",
    "ΛH = svdH.S\n",
    "\n",
    "norm(H-UH*Diagonal(ΛH)*VH')"
   ]
  },
  {
   "cell_type": "code",
   "execution_count": 29,
   "metadata": {},
   "outputs": [
    {
     "data": {
      "image/png": "[encoded data removed]"
     },
     "execution_count": 29,
     "metadata": {},
     "output_type": "execute_result"
    }
   ],
   "source": [
    "plot(ΛH)"
   ]
  },
  {
   "cell_type": "code",
   "execution_count": 30,
   "metadata": {},
   "outputs": [
    {
     "data": {
      "text/plain": [
       "AdditiveInflation(50, [0.0, 0.0, 0.0, 0.0, 0.0, 0.0, 0.0, 0.0, 0.0, 0.0  …  0.0, 0.0, 0.0, 0.0, 0.0, 0.0, 0.0, 0.0, 0.0, 0.0], [2.0428413749438055 0.0 … 0.0 0.0; 0.0 0.05592295748431333 … 0.0 0.0; … ; 0.0 0.0 … 2.0941797781857754 0.0; 0.0 0.0 … 0.0 0.6912302913432447], [1.4292800197805207 0.0 … 0.0 0.0; 0.0 0.23648035327340267 … 0.0 0.0; … ; 0.0 0.0 … 1.4471281139504462 0.0; 0.0 0.0 … 0.0 0.8314026048451163])"
      ]
     },
     "execution_count": 30,
     "metadata": {},
     "output_type": "execute_result"
    }
   ],
   "source": [
    "σy = rand(Ny)\n",
    "# Σy = Diagonal(σy^2*ones(Ny))\n",
    "Σy = Diagonal(σy.^2)\n",
    "\n",
    "ϵy = AdditiveInflation(Ny, zeros(Ny), Σy)\n",
    "\n",
    "σx = 1.5*rand(Nx)\n",
    "# Σx = Diagonal(σx^2*ones(Nx))\n",
    "Σx = Diagonal(σx.^2)\n",
    "ϵx = AdditiveInflation(Nx, zeros(Nx), Σx)"
   ]
  },
  {
   "cell_type": "code",
   "execution_count": 31,
   "metadata": {},
   "outputs": [
    {
     "name": "stdout",
     "output_type": "stream",
     "text": [
      "norm(svdH̃true.S - sqrt.(eigen_Cytrue.values)) = 3.2041583361497906e-12\n",
      "norm(Utrue * Utrue' - svdH̃true.U * (svdH̃true.U)') = 3.3943456119860134e-15\n",
      "norm(Vtrue * Vtrue' - svdH̃true.V * (svdH̃true.V)') = 9.643985626634059e-11\n"
     ]
    }
   ],
   "source": [
    "H̃true = inv(ϵy.σ)*H*ϵx.σ\n",
    "svdH̃true = svd(H̃true)\n",
    "\n",
    "Cxtrue = H̃true'*H̃true\n",
    "Cytrue = H̃true*H̃true'\n",
    "\n",
    "eigen_Cxtrue = eigen(Symmetric(Cxtrue); sortby =  λ -> -λ)\n",
    "eigen_Cytrue = eigen(Symmetric(Cytrue); sortby =  λ -> -λ)\n",
    "\n",
    "Utrue = eigen_Cytrue.vectors[:,1:r]\n",
    "Vtrue = eigen_Cxtrue.vectors[:,1:r]\n",
    "\n",
    "# Norm of the different singular values\n",
    "@show norm(svdH̃true.S-sqrt.(eigen_Cytrue.values))\n",
    "\n",
    "# Distance between two subspaces (avoid the sign issue in the orientation of the normal vectors)\n",
    "@show norm(Utrue*Utrue'-svdH̃true.U*svdH̃true.U')\n",
    "\n",
    "# Distance between two subspaces (avoid the sign issue in the orientation of the normal vectors)\n",
    "@show norm(Vtrue*Vtrue'-svdH̃true.V*svdH̃true.V');"
   ]
  },
  {
   "cell_type": "code",
   "execution_count": 32,
   "metadata": {},
   "outputs": [
    {
     "data": {
      "text/plain": [
       "50×10 Array{Float64,2}:\n",
       "  0.110562     -0.164113      0.165899     …  -0.163171     -0.103928\n",
       " -0.00350654    0.000347742   0.00801546       0.00180454   -2.55529e-5\n",
       " -0.0608323    -0.016563     -0.0374746        0.026178      0.0408334\n",
       " -0.0141735     0.0278605     0.0574421        0.028606      0.0646894\n",
       " -0.0126609    -0.0256197    -0.0313961        0.0185696    -0.0420176\n",
       " -0.00610683    0.0553953     0.092589     …   0.00774225    0.0611941\n",
       " -0.00125015    0.0338426    -0.0317568        0.00998945    0.0103451\n",
       " -1.06774e-5    5.30899e-5    0.000207998      8.36061e-5    3.70282e-5\n",
       "  0.00892425    0.00451372    0.00273126      -0.00128442    0.000353782\n",
       "  0.0253098    -0.0221059    -0.0071067       -0.00947649   -0.0462242\n",
       "  0.0473236     0.0504655     0.0555227    …  -0.00637904    0.0146361\n",
       "  0.0120492    -0.0453024     0.201229         0.0117742    -0.0351837\n",
       "  0.0808435     0.0793629     0.0237759       -0.0236079     0.00956375\n",
       "  ⋮                                        ⋱                \n",
       "  0.000109854   0.00525974   -0.00750655       0.00642469    0.00368994\n",
       "  0.10589       0.0150763    -0.229744        -0.039337     -0.0429915\n",
       " -0.0190178     0.00721751   -0.0634802    …  -0.00197225    0.0367527\n",
       "  0.00147214    0.00224694    0.00263967      -0.000826843   0.00157707\n",
       "  0.0215483    -0.0141603    -0.0910902       -0.00639597   -0.110235\n",
       " -0.00474656   -0.00400529    0.00102128      -0.000116357  -0.00103962\n",
       "  0.0617768    -0.0359702     0.0640194       -0.0871303    -0.0627076\n",
       "  0.0072227    -0.00180284   -0.0648696    …  -0.00907181   -0.0517569\n",
       " -0.010863     -0.013483     -0.0189257        0.00387305   -0.000957948\n",
       "  0.0112041     0.00321286    0.0218461        0.00622461    0.00093857\n",
       " -0.0453362    -0.121315      0.185622         0.00828584   -0.0834185\n",
       " -0.0264729     0.0498165    -0.0258921        0.0277369     0.0238445"
      ]
     },
     "execution_count": 32,
     "metadata": {},
     "output_type": "execute_result"
    }
   ],
   "source": [
    "K = ϵx.Σ*H'*inv(H*ϵx.Σ*H'+ϵy.Σ)"
   ]
  },
  {
   "cell_type": "code",
   "execution_count": 33,
   "metadata": {},
   "outputs": [
    {
     "name": "stdout",
     "output_type": "stream",
     "text": [
      "norm(K - Klowrank) = 8.684156451560929e-13\n"
     ]
    }
   ],
   "source": [
    "# Low-rank factorization based on the SVD decomposition of H̃\n",
    "\n",
    "Klowrank = ϵx.σ*svdH̃true.V*Diagonal(svdH̃true.S ./(1.0 .+ svdH̃true.S.^2))*(svdH̃true.U'*inv(ϵy.σ))\n",
    "@show norm(K - Klowrank);"
   ]
  },
  {
   "cell_type": "code",
   "execution_count": 35,
   "metadata": {},
   "outputs": [],
   "source": [
    "# Low-rank factorization based on the eigen-decomposition of Cx and Cy"
   ]
  },
  {
   "cell_type": "code",
   "execution_count": 34,
   "metadata": {},
   "outputs": [
    {
     "data": {
      "text/plain": [
       "3.067850002871926e-12"
      ]
     },
     "execution_count": 34,
     "metadata": {},
     "output_type": "execute_result"
    }
   ],
   "source": [
    "norm(Diagonal(svdH̃true.S ./(1.0 .+ svdH̃true.S.^2))-Diagonal(sqrt.(eigen_Cytrue.values[1:r])./(1.0 .+ sqrt.(eigen_Cytrue.values[1:r]).^2)))"
   ]
  },
  {
   "cell_type": "code",
   "execution_count": 39,
   "metadata": {},
   "outputs": [
    {
     "data": {
      "text/plain": [
       "50×10 Array{Float64,2}:\n",
       "  0.0432544    -0.00512568  -0.471489     …  -0.0444112    -0.171136\n",
       " -0.00237289   -0.00125422  -0.00224076       0.00212511    0.00107913\n",
       " -0.0686193    -0.0193145   -0.0129348        0.0255462     0.0336162\n",
       " -0.0220467     0.0222506    0.0073628        0.0242671     0.0712082\n",
       " -0.0296325    -0.0657737    0.0241073       -0.0152156    -0.0245176\n",
       " -0.0361015     0.0413294   -0.0213489    …   0.00449535    0.0606097\n",
       "  0.0143231     0.00867453   0.0622833       -0.0106101     0.0268429\n",
       "  4.46979e-5   -1.40401e-5   0.000284546      5.63845e-5    7.48546e-5\n",
       "  0.00175023    0.00510971  -0.00293095      -0.00288792   -0.000489861\n",
       "  0.00952989   -0.0251673    0.00440252      -0.0144051    -0.0504851\n",
       "  0.0170328     0.0446408   -0.0966312    …  -0.0244246     0.0402762\n",
       " -0.0340969    -0.0158086   -0.110079         0.0474827    -0.0583829\n",
       "  0.0672071     0.0733271   -0.0548478       -0.0325574     0.0226197\n",
       "  ⋮                                       ⋱                \n",
       " -0.000493059  -0.00205613   0.0184166       -0.000743558   0.00747473\n",
       "  0.104878     -0.038601     0.0905772       -0.0676513    -0.0619593\n",
       " -0.00965739    0.0196929    0.0275529    …   0.00737238    0.0209486\n",
       "  0.00144722    0.00327891  -0.00491831       3.54574e-5    0.00168492\n",
       "  0.00110222   -0.0424438    0.190241        -0.0295751    -0.134669\n",
       " -0.00325972   -0.00223302  -0.0034375        0.00303685   -0.00332627\n",
       "  0.040452      0.00352855  -0.188986        -0.0326341    -0.102178\n",
       "  0.0214176    -0.0282515    0.00443153   …  -0.0374008    -0.0230303\n",
       " -0.00444025   -0.00854781   0.0216827        0.00553649   -0.00370447\n",
       "  0.0155774     0.0110886    0.030624         0.00972457   -0.000409896\n",
       " -0.0915144    -0.0342323   -0.146456         0.0589143    -0.108593\n",
       "  0.0101475     0.0230512    0.089441         0.0118488     0.0422397"
      ]
     },
     "execution_count": 39,
     "metadata": {},
     "output_type": "execute_result"
    }
   ],
   "source": [
    "Klowranktrue = ϵx.σ*Vtrue*Diagonal(sqrt.(eigen_Cytrue.values[1:r])./(1.0 .+ sqrt.(eigen_Cytrue.values[1:r]).^2))*(Utrue'*inv(ϵy.σ))"
   ]
  },
  {
   "cell_type": "code",
   "execution_count": 36,
   "metadata": {},
   "outputs": [
    {
     "data": {
      "text/plain": [
       "10×50 Array{Float64,2}:\n",
       "  1.06708     1.80109   -0.0634413  …  -0.681461  -1.74231     1.27374\n",
       "  0.698981   -0.337271   0.242886      -2.28341    0.632653   -0.538889\n",
       " -0.816773    0.982594  -1.06839        0.107479  -0.0331064   1.11867\n",
       " -0.778427    2.04222    0.0492614     -0.535027   2.57365     0.372095\n",
       " -1.05393    -0.242891   1.5238        -0.50829    2.07273     0.199643\n",
       "  0.264069   -0.533339   0.190031   …   0.132607  -2.76674     0.792373\n",
       " -0.717689   -1.22367    0.412813      -0.875259  -1.26431    -0.185019\n",
       "  0.857627   -0.658712   0.301038       1.3002    -0.377913   -0.70404\n",
       " -0.998053   -0.891262  -0.865664       0.953797   0.883542   -0.911261\n",
       " -0.0192155   1.41064   -0.300814       0.593893  -0.481735   -0.508074"
      ]
     },
     "execution_count": 36,
     "metadata": {},
     "output_type": "execute_result"
    }
   ],
   "source": [
    "A = randn(Ny, Nx)\n",
    "\n",
    "eigen(A*A').vectors\n",
    "reverse(svd(A).U, dims=2)"
   ]
  },
  {
   "cell_type": "code",
   "execution_count": 37,
   "metadata": {},
   "outputs": [
    {
     "name": "stdout",
     "output_type": "stream",
     "text": [
      "norm(ϵx.σ * svdH̃true.V - ϵx.σ * Vtrue) = 3.959619631216754\n",
      "norm((ϵx.σ * svdH̃true.V) * (ϵx.σ * svdH̃true.V)' - (ϵx.σ * Vtrue) * (ϵx.σ * Vtrue)') = 1.0773584064215735e-10\n"
     ]
    }
   ],
   "source": [
    "@show norm((ϵx.σ*svdH̃true.V)-(ϵx.σ*Vtrue))\n",
    "@show norm((ϵx.σ*svdH̃true.V)*(ϵx.σ*svdH̃true.V)'-(ϵx.σ*Vtrue)*(ϵx.σ*Vtrue)');"
   ]
  },
  {
   "cell_type": "code",
   "execution_count": 38,
   "metadata": {},
   "outputs": [
    {
     "name": "stdout",
     "output_type": "stream",
     "text": [
      "norm(Utrue * Utrue' - svdH̃true.U * (svdH̃true.U)') = 3.3943456119860134e-15\n"
     ]
    },
    {
     "data": {
      "text/plain": [
       "3.3943456119860134e-15"
      ]
     },
     "execution_count": 38,
     "metadata": {},
     "output_type": "execute_result"
    }
   ],
   "source": [
    "@show norm(Utrue*Utrue'-svdH̃true.U*svdH̃true.U')"
   ]
  },
  {
   "cell_type": "code",
   "execution_count": 24,
   "metadata": {},
   "outputs": [
    {
     "data": {
      "text/plain": [
       "10×10 Array{Float64,2}:\n",
       " -0.181329     -6.16273      -2.13964      …   0.160334       5.15262\n",
       " -0.454387     -2.78985      -0.314222        -0.0863202    -13.3519\n",
       "  6.66134e-16   8.41549e-14  -4.42146e-14      1.80411e-14   -4.41869e-14\n",
       " -6.7113e-14    2.77556e-14   1.01585e-13      2.15356e-13    1.4122e-13\n",
       " -4.12698e-13   2.37865e-12  -1.09113e-12      9.24955e-13   -9.08273e-13\n",
       "  0.393111     -3.79447       2.45519      …  -0.179245       2.57496\n",
       " -0.863087     -2.32208       1.3609           0.0697346      0.516696\n",
       " -0.739185     -1.19916       0.288962        -0.211502      -0.0292836\n",
       "  9.35104e-11  -1.23105e-11  -4.51666e-11     -1.52978e-10   -1.80581e-11\n",
       " -0.841188      0.274813      0.363906         1.47731        0.13291"
      ]
     },
     "execution_count": 24,
     "metadata": {},
     "output_type": "execute_result"
    }
   ],
   "source": [
    "(svdH̃true.U'*inv(ϵy.σ))-(Utrue'*inv(ϵy.σ))"
   ]
  },
  {
   "cell_type": "code",
   "execution_count": 54,
   "metadata": {},
   "outputs": [
    {
     "data": {
      "text/plain": [
       "10×10 Adjoint{Float64,Array{Float64,2}}:\n",
       " -0.270075     0.00212971  -0.291549    …   0.173026    0.0498276  -0.0473677\n",
       "  0.153106    -0.0230826    0.208771       -0.117459   -0.0436095  -0.0439794\n",
       "  0.541312    -0.663984    -0.0351566      -0.18727    -0.346121   -0.10812\n",
       " -0.153507     0.372224     0.00821959     -0.271892   -0.4556     -0.30602\n",
       " -0.010279    -0.0697961   -0.331943        0.151071    0.341128   -0.306359\n",
       "  0.515239     0.252764     0.358919    …   0.0195961   0.57687    -0.0233832\n",
       "  0.00749811   0.240835     0.521101       -0.0270186  -0.20835    -0.430583\n",
       "  0.403279     0.256129    -0.47438         0.231429   -0.0747738  -0.526372\n",
       "  0.189634     0.120297     0.142667        0.797094   -0.385534    0.298361\n",
       " -0.350438    -0.461737     0.337883        0.366627    0.146491   -0.494563"
      ]
     },
     "execution_count": 54,
     "metadata": {},
     "output_type": "execute_result"
    }
   ],
   "source": [
    "svdH̃true.U'"
   ]
  },
  {
   "cell_type": "code",
   "execution_count": 57,
   "metadata": {},
   "outputs": [
    {
     "data": {
      "text/plain": [
       "10×10 Array{Float64,2}:\n",
       " 52.2082     78.1374    -3.27521    …   2.2845     -0.227841   -3.31756\n",
       " 78.1374    130.666     -5.41868        5.02398     0.351154   -5.861\n",
       " -3.27521    -5.41868    3.66505        0.0789634   0.535553   -0.148695\n",
       " -5.9323    -10.3157     0.282461      -1.05408     0.610401    0.665287\n",
       " -7.05253   -10.0651     0.449268      -1.34883     0.309121    0.0835426\n",
       " -0.837298   -1.955      0.976032   …   0.426017    0.259225   -0.405138\n",
       " -2.65103    -5.04539    0.119655      -0.173267    0.0380786  -0.619891\n",
       "  2.2845      5.02398    0.0789634      2.72477     0.0774641  -0.840009\n",
       " -0.227841    0.351154   0.535553       0.0774641   1.70498    -0.405768\n",
       " -3.31756    -5.861     -0.148695      -0.840009   -0.405768    2.62864"
      ]
     },
     "execution_count": 57,
     "metadata": {},
     "output_type": "execute_result"
    }
   ],
   "source": [
    "(svdH̃true.U'*inv(ϵy.σ))*(svdH̃true.U'*inv(ϵy.σ))'"
   ]
  },
  {
   "cell_type": "code",
   "execution_count": 61,
   "metadata": {},
   "outputs": [
    {
     "data": {
      "text/plain": [
       "10×10 Array{Float64,2}:\n",
       "   -4.9738e-14   -156.275         6.55043      …   0.455681      8.02824e-12\n",
       " -156.275          -2.84217e-14  -1.04805e-13      1.1479e-10   11.722\n",
       "    6.55043        -1.04805e-13   4.13003e-14      1.03628e-12   0.29739\n",
       "   11.8646         -3.06777e-12   3.99847e-13     -1.98284e-11  -1.33057\n",
       "   -1.28164e-12    20.1301       -0.898537        -0.618242     -5.70724e-13\n",
       "   -7.54086e-12     3.91001      -1.95206      …  -0.51845       3.82416e-12\n",
       "   -1.34985e-11    10.0908       -0.239311        -0.0761571     4.78084e-12\n",
       "   -9.76019e-12   -10.048        -0.157927        -0.154928      2.55718e-12\n",
       "    0.455681        1.1479e-10    1.03628e-12      8.61022e-12   0.811536\n",
       "    8.02824e-12    11.722         0.29739          0.811536     -8.52385e-12"
      ]
     },
     "execution_count": 61,
     "metadata": {},
     "output_type": "execute_result"
    }
   ],
   "source": [
    "(Utrue'*inv(ϵy.σ))*(Utrue'*inv(ϵy.σ))'-(svdH̃true.U'*inv(ϵy.σ))*(svdH̃true.U'*inv(ϵy.σ))'"
   ]
  },
  {
   "cell_type": "code",
   "execution_count": 41,
   "metadata": {},
   "outputs": [
    {
     "data": {
      "text/plain": [
       "225.32225826114157"
      ]
     },
     "execution_count": 41,
     "metadata": {},
     "output_type": "execute_result"
    }
   ],
   "source": [
    "norm((svdH̃true.U'*inv(ϵy.σ))*(svdH̃true.U'*inv(ϵy.σ))'-(Utrue'*inv(ϵy.σ))*(Utrue'*inv(ϵy.σ))')"
   ]
  },
  {
   "cell_type": "code",
   "execution_count": 11,
   "metadata": {},
   "outputs": [
    {
     "data": {
      "text/plain": [
       "10×50 Array{Float64,2}:\n",
       "    99.3631   -12.7213     …    60.2861    -39.1814    -12.2703\n",
       "     7.93658   -2.46656          1.1374     -0.537112   -1.677\n",
       "   -23.6786     6.35603         -9.34257     3.54967     4.78541\n",
       "    -7.53375    1.92682         -5.70411    -0.519312    1.59586\n",
       "    -1.13667    0.375754         0.111341    0.878473    0.314371\n",
       " -1374.35     373.085      …  -643.522     -17.7255    290.839\n",
       "     2.3822    -1.08667          0.754411    0.357702   -0.516989\n",
       "    -8.01661    2.59341         -5.0484     -2.20263     2.19771\n",
       "     1.03511    0.0243595        6.36536     1.01069    -0.448791\n",
       "     8.04708   -2.53818          3.71168    -0.641853   -1.83559"
      ]
     },
     "execution_count": 11,
     "metadata": {},
     "output_type": "execute_result"
    }
   ],
   "source": [
    "H̃sample2 = inv(ϵy.σ)*H*Diagonal(std(state(X, Ny, Nx); dims = 2)[:,1])"
   ]
  },
  {
   "cell_type": "code",
   "execution_count": 12,
   "metadata": {},
   "outputs": [
    {
     "data": {
      "text/plain": [
       "10×50 Array{Float64,2}:\n",
       "    99.3631   -14.6252      …    73.3993    -31.4589    -18.5704\n",
       "     7.93658   -2.61696           2.70649    -2.86358    -2.27889\n",
       "   -23.6786     6.80591         -13.6738      7.68572     6.64539\n",
       "    -7.53375    2.07007          -7.1218      0.246211    2.31439\n",
       "    -1.13667    0.397269         -0.117376    1.55309     0.329184\n",
       " -1374.35     399.192       …  -907.311     237.375     403.835\n",
       "     2.3822    -1.13142           1.3766     -0.929166   -0.751205\n",
       "    -8.01661    2.74522          -6.80706     0.208244    3.06853\n",
       "     1.03511    0.00434576        6.68148     0.726126   -0.876173\n",
       "     8.04708   -2.69064           5.42771    -3.02879    -2.54526"
      ]
     },
     "execution_count": 12,
     "metadata": {},
     "output_type": "execute_result"
    }
   ],
   "source": [
    "H̃sample3 = Ly\\H*Lx'"
   ]
  },
  {
   "cell_type": "code",
   "execution_count": 54,
   "metadata": {},
   "outputs": [
    {
     "data": {
      "text/plain": [
       "1.731585933227756e-10"
      ]
     },
     "execution_count": 54,
     "metadata": {},
     "output_type": "execute_result"
    }
   ],
   "source": []
  },
  {
   "cell_type": "code",
   "execution_count": 51,
   "metadata": {},
   "outputs": [
    {
     "data": {
      "text/plain": [
       "3.3405486944205636e-15"
      ]
     },
     "execution_count": 51,
     "metadata": {},
     "output_type": "execute_result"
    }
   ],
   "source": []
  },
  {
   "cell_type": "code",
   "execution_count": 52,
   "metadata": {},
   "outputs": [
    {
     "data": {
      "text/plain": [
       "4.688369679560653e-9"
      ]
     },
     "execution_count": 52,
     "metadata": {},
     "output_type": "execute_result"
    }
   ],
   "source": []
  },
  {
   "cell_type": "code",
   "execution_count": 14,
   "metadata": {},
   "outputs": [
    {
     "name": "stdout",
     "output_type": "stream",
     "text": [
      "norm(H̃sample1 - H̃true) / norm(H̃true) = 0.09963670564138055\n",
      "norm(H̃sample2 - H̃true) / norm(H̃true) = 0.023981153500155054\n",
      "norm(H̃sample3 - H̃true) / norm(H̃true) = 0.22425599336111054\n"
     ]
    },
    {
     "data": {
      "text/plain": [
       "0.22425599336111054"
      ]
     },
     "execution_count": 14,
     "metadata": {},
     "output_type": "execute_result"
    }
   ],
   "source": [
    "@show norm(H̃sample1-H̃true)/norm(H̃true)\n",
    "@show norm(H̃sample2-H̃true)/norm(H̃true)\n",
    "@show norm(H̃sample3-H̃true)/norm(H̃true)"
   ]
  },
  {
   "cell_type": "code",
   "execution_count": 15,
   "metadata": {},
   "outputs": [],
   "source": [
    "H̃sample = copy(H̃sample2);"
   ]
  },
  {
   "cell_type": "code",
   "execution_count": 8,
   "metadata": {},
   "outputs": [
    {
     "data": {
      "text/plain": [
       "10×1000 Array{Float64,2}:\n",
       "  0.00699578   0.0146034    0.0259124   …  -0.0139011    0.00743032\n",
       " -0.383682    -0.435725    -0.400231        0.384293     0.171247\n",
       " -0.689799    -0.284794    -0.391664       -0.636691    -0.15418\n",
       " -0.952706     0.852645     0.758234        0.491606     0.0539494\n",
       "  0.593847     0.0211247   -0.171221        0.322397    -0.556929\n",
       " -0.00300094  -0.00518389  -0.00731005  …   0.00359752  -0.00036895\n",
       "  0.702174     1.48297     -1.95138        -0.340593     0.220993\n",
       " -0.206909     0.112897     0.222522        0.284651    -0.129815\n",
       " -0.538942     0.11232     -0.289009       -0.566614     0.252524\n",
       "  0.414876     0.548523    -0.712705       -0.803153    -0.0715659"
      ]
     },
     "execution_count": 8,
     "metadata": {},
     "output_type": "execute_result"
    }
   ],
   "source": [
    "X = zeros(Ny+Nx, Ne)\n",
    "\n",
    "# Samples from the standard normal distribution\n",
    "ϵx(X, Ny+1, Ny+Nx)\n",
    "\n",
    "# Compute observations\n",
    "observe((x, t)->H*x, X, 0.0, Ny, Nx)\n",
    "\n",
    "ϵ = ϵy.m .+ ϵy.σ*randn(Ny, Ne)"
   ]
  },
  {
   "cell_type": "code",
   "execution_count": 9,
   "metadata": {},
   "outputs": [
    {
     "data": {
      "text/plain": [
       "10×50 Array{Float64,2}:\n",
       "   109.973    -14.6025      0.974262   …  -37.8582      -16.5132\n",
       "     8.79487   -2.66804     0.331044       -1.25776      -1.90002\n",
       "   -26.4843     6.81203    -0.854296        4.84427       5.64917\n",
       "    -8.44327    2.07732    -0.304106       -0.294925      1.99496\n",
       "    -1.24346    0.44683    -0.0306883       1.07871       0.293187\n",
       " -1530.77     399.827     -55.2352     …   59.0051      344.738\n",
       "     2.74824   -1.11953     0.16362         0.00443871   -0.588995\n",
       "    -9.03258    2.80341    -0.50678        -1.55809       2.60135\n",
       "     1.66574    0.089517    0.223646        1.0038       -0.711755\n",
       "     9.09207   -2.67045     0.402201       -1.33509      -2.12663"
      ]
     },
     "execution_count": 9,
     "metadata": {},
     "output_type": "execute_result"
    }
   ],
   "source": [
    "Σxx = Symmetric(cov(state(X, Ny, Nx)'))\n",
    "Σxy = 1/(Ne-1)*(state(X, Ny, Nx) .- mean(state(X,Ny,Nx);dims = 2)[:,1])*(meas(X, Ny, Nx) .- mean(meas(X,Ny,Nx);dims = 2)[:,1])'\n",
    "Σyy = Symmetric(cov(meas(X, Ny, Nx)'))\n",
    "\n",
    "Lx = cholesky(Σxx).L\n",
    "Ly = cholesky(ϵy.Σ).L\n",
    "\n",
    "H̃sample1 = inv(ϵy.σ)*H*Σxx^(0.5)"
   ]
  },
  {
   "cell_type": "code",
   "execution_count": 10,
   "metadata": {},
   "outputs": [
    {
     "data": {
      "image/png": "[encoded data removed]"
     },
     "execution_count": 10,
     "metadata": {},
     "output_type": "execute_result"
    }
   ],
   "source": [
    "heatmap(Σxx, ratio = 1, yflip = true)"
   ]
  },
  {
   "cell_type": "code",
   "execution_count": 24,
   "metadata": {},
   "outputs": [
    {
     "data": {
      "text/plain": [
       "50×10 Array{Float64,2}:\n",
       "  0.106722      0.0481423    -0.039728     …  -0.00322272   -0.0772751\n",
       " -0.0454708    -0.0109886    -0.0178997       -0.0263239     0.0369406\n",
       "  0.000200011   0.000281841   0.000239712      6.34704e-5    0.000527645\n",
       "  0.0987104    -0.080148      0.0103476        0.00213065   -0.0284579\n",
       " -0.00908165    0.000664757  -0.00231012       0.000531325  -0.00442745\n",
       " -0.100097      0.0513338     0.0549759    …  -0.157222      0.15645\n",
       " -0.39228      -0.0531476    -0.14399         -0.0464773     0.0445487\n",
       " -0.0492319    -0.02259      -0.0214197        0.0183765    -0.105364\n",
       "  0.000251928   7.78667e-5    0.00015099       0.000210914   2.26222e-5\n",
       " -0.165828     -0.0299445    -0.0189638       -0.0168237    -0.0237333\n",
       "  0.188535      0.103036      0.0581315    …   0.097885     -0.0517067\n",
       "  0.135702     -0.28216      -0.113734        -0.0661167     0.26076\n",
       "  0.00099108   -4.08251e-5    0.000109321     -0.000179751  -0.000582471\n",
       "  ⋮                                        ⋱                \n",
       "  1.13314      -0.0340246     0.319709        -0.0538183     0.434239\n",
       "  0.0094835     0.0355417     0.00789739      -0.0239665     0.0527984\n",
       "  0.0187316     0.00172368    0.0157495    …   0.00203407    0.0139133\n",
       " -0.782341     -0.0106907    -0.160352         0.0866344     0.0220473\n",
       " -0.39928       0.187904      0.0158844        0.151427     -0.392723\n",
       "  0.715802      0.314209      0.0304239       -0.0575723    -0.05868\n",
       "  0.476229      0.284198      0.240897         0.0773059     0.288867\n",
       "  0.000696326   0.000153803   0.000153448  …  -1.80085e-5   -0.000313839\n",
       " -0.0477922     0.0385754    -0.00896243       0.0212837    -0.0653147\n",
       " -0.183203      0.0051973    -0.188314        -0.0953973    -0.304507\n",
       "  0.150077      0.238332      0.0501867        0.0481574     0.23654\n",
       "  0.0126035     0.0187102     0.0092563        0.00575572   -0.0140284"
      ]
     },
     "execution_count": 24,
     "metadata": {},
     "output_type": "execute_result"
    }
   ],
   "source": []
  },
  {
   "cell_type": "code",
   "execution_count": 25,
   "metadata": {},
   "outputs": [
    {
     "data": {
      "text/plain": [
       "1.7116095089954881"
      ]
     },
     "execution_count": 25,
     "metadata": {},
     "output_type": "execute_result"
    }
   ],
   "source": [
    "norm(Kr-Ktrue)/norm(Ktrue)"
   ]
  },
  {
   "cell_type": "code",
   "execution_count": 26,
   "metadata": {},
   "outputs": [
    {
     "data": {
      "text/plain": [
       "50×10 Array{Float64,2}:\n",
       "  0.164901      0.198444      0.205342     …   0.11925      -0.122846\n",
       "  0.0881053    -0.00247491    0.0299321        0.0253659     0.0396416\n",
       "  0.000638444  -0.00031144   -0.00087318      -6.18636e-5   -0.000594791\n",
       " -0.3498       -0.0509595    -0.120614        -0.0309927    -0.0292251\n",
       " -0.0187914    -0.00670659   -0.00321863      -3.98007e-5   -0.00477008\n",
       "  0.457568      0.00780875    0.0425365    …   0.20071      -0.113818\n",
       "  0.279222     -0.0885642     0.122363         0.0317229     0.0504021\n",
       " -0.0508078    -0.0234094    -0.0298705        0.0163247    -0.184605\n",
       " -0.00373285    0.000421861  -0.00085783      -0.000816419   0.00316881\n",
       " -0.0298667    -0.0586012    -0.0724674        0.00707818   -0.112147\n",
       " -0.053338      0.00763285   -0.00441486   …  -0.113086      0.177778\n",
       " -0.428814     -0.10595       0.0369477       -0.0922181     0.68358\n",
       " -0.00014098    0.000120767   0.000169838     -3.26505e-5    0.00308521\n",
       "  ⋮                                        ⋱                \n",
       " -0.318143      0.469038     -0.0530289        0.0827934     0.0228552\n",
       "  0.315128      0.0432541     0.112706         0.0168036     0.255281\n",
       " -0.0126431    -0.0149647    -0.0261746    …  -0.0062512    -0.0290001\n",
       "  0.851747     -0.106004      0.187059        -0.144796      0.394596\n",
       "  0.54212       0.200595      0.147485        -0.0205819    -0.252437\n",
       "  1.03674       0.437608      0.485631         0.211875      0.318181\n",
       "  1.07332       0.34343       0.231804        -4.22406e-5    0.0850825\n",
       " -0.0036757     0.000652526  -0.00127136   …  -0.000654234  -0.000649325\n",
       "  0.101525     -0.00385472    0.0125774        0.00100038   -0.104252\n",
       "  0.268395     -0.0180186     0.286371         0.0941481     0.481263\n",
       "  0.540751      0.180338      0.164236         0.0695948    -0.53543\n",
       "  0.0302102     0.00654152    0.0100184        0.00451982   -0.0154596"
      ]
     },
     "execution_count": 26,
     "metadata": {},
     "output_type": "execute_result"
    }
   ],
   "source": [
    "K = Σxx*H'*inv(Σyy)"
   ]
  },
  {
   "cell_type": "code",
   "execution_count": 27,
   "metadata": {},
   "outputs": [],
   "source": [
    "svdH̃sample = svd(H̃sample);"
   ]
  },
  {
   "cell_type": "code",
   "execution_count": 28,
   "metadata": {},
   "outputs": [
    {
     "data": {
      "text/plain": [
       "SVD{Float64,Float64,Array{Float64,2}}\n",
       "U factor:\n",
       "10×10 Array{Float64,2}:\n",
       " -0.0858432     0.993434     0.0424005   …   0.0183841   -0.00869057\n",
       " -0.00427992   -0.0417124    0.376053        0.137864    -0.0325499\n",
       "  0.0165554     0.00779214  -0.454378        0.311784    -0.104332\n",
       "  0.00655508   -0.0281695    0.292114        0.753991    -0.254495\n",
       "  0.000198579   0.0182939   -0.18724        -0.405636    -0.388128\n",
       "  0.9961        0.0851379    0.00860412  …  -0.00838968  -0.000904592\n",
       " -0.00122033   -0.0300083    0.0994275      -0.154182     0.606655\n",
       "  0.00645936    0.0251473    0.20109        -0.100294     0.175685\n",
       " -0.00296151    0.0125373   -0.673694        0.18674      0.0461553\n",
       " -0.00529989   -0.0349528    0.16024        -0.285712    -0.609542\n",
       "singular values:\n",
       "10-element Array{Float64,1}:\n",
       " 7636.189606706128\n",
       "  285.22570048788043\n",
       "   13.716753824049382\n",
       "    9.358266215974478\n",
       "    3.8721822433388464\n",
       "    2.2757836903283017\n",
       "    1.6865070585107815\n",
       "    1.3889376317580147\n",
       "    1.1380090385414796\n",
       "    1.002216580595398\n",
       "Vt factor:\n",
       "10×50 Array{Float64,2}:\n",
       " -0.180469    0.0488309   -0.00771979  …  -0.00186603   0.0380924\n",
       " -0.0671898   0.0680784   -0.0169891      -0.141584     0.0447681\n",
       "  0.244998   -0.0482684   -0.0142209      -0.374432    -0.00122606\n",
       " -0.1138      0.0659725   -0.00231449     -0.3195       0.0395142\n",
       " -0.140403    0.0396998    0.00496495     -0.0378173   -0.00958631\n",
       "  0.0818647   0.00146592  -0.00559097  …  -0.0554661   -0.0437314\n",
       "  0.180549   -0.00656929   0.00589548      0.227901     0.0717483\n",
       " -0.230318   -0.0109747    0.00977445      0.379349     0.0164708\n",
       "  0.158373    0.189181    -0.00412         0.220613    -0.0256013\n",
       "  0.129523   -0.101128    -0.0168719       0.0626614    0.0412365"
      ]
     },
     "execution_count": 28,
     "metadata": {},
     "output_type": "execute_result"
    }
   ],
   "source": [
    "svdH̃sample"
   ]
  },
  {
   "cell_type": "code",
   "execution_count": 29,
   "metadata": {},
   "outputs": [
    {
     "ename": "LoadError",
     "evalue": "\u001b[91mUndefVarError: Λ not defined\u001b[39m",
     "output_type": "error",
     "traceback": [
      "\u001b[91mUndefVarError: Λ not defined\u001b[39m",
      "",
      "Stacktrace:",
      " [1] top-level scope at In[29]:1",
      " [2] include_string(::Function, ::Module, ::String, ::String) at ./loading.jl:1091"
     ]
    }
   ],
   "source": [
    "Klowrank = Σx^(1/2)*V*Diagonal(Λ)*inv(Diagonal(Λ).^2 + I)*U'*Σy^(-1/2)"
   ]
  },
  {
   "cell_type": "code",
   "execution_count": 201,
   "metadata": {},
   "outputs": [
    {
     "data": {
      "text/plain": [
       "false"
      ]
     },
     "execution_count": 201,
     "metadata": {},
     "output_type": "execute_result"
    }
   ],
   "source": [
    "isposdef(Symmetric(Σxy*inv(Σyy)*(Σxy')))"
   ]
  },
  {
   "cell_type": "code",
   "execution_count": 205,
   "metadata": {},
   "outputs": [
    {
     "data": {
      "text/plain": [
       "GeneralizedEigen{Float64,Float64,Array{Float64,2},Array{Float64,1}}\n",
       "values:\n",
       "20-element Array{Float64,1}:\n",
       " -3.736850343961709e-16\n",
       " -3.0305094340771137e-16\n",
       " -1.923381154300831e-16\n",
       " -1.4238510144807033e-16\n",
       " -9.300044222400317e-17\n",
       "  3.4479841235178085e-17\n",
       "  1.3410353537158534e-16\n",
       "  2.1078159296229402e-16\n",
       "  2.995416215529736e-16\n",
       "  4.689211302293456e-16\n",
       "  0.9570211827183169\n",
       "  0.9659209804444706\n",
       "  0.9686105857075465\n",
       "  0.9726839687208598\n",
       "  0.9789657439959808\n",
       "  0.9814310543103316\n",
       "  0.9887800893351203\n",
       "  0.9926040586080717\n",
       "  0.9961585552968009\n",
       "  0.9992011445399831\n",
       "vectors:\n",
       "20×20 Array{Float64,2}:\n",
       " -0.0751051    0.244383    -0.00443213  …   0.157721     0.212473\n",
       "  0.146489    -0.0226617   -0.239765       -0.0932904   -0.163616\n",
       " -0.110238    -0.00996158  -0.0130902      -0.575474     0.0639061\n",
       "  0.140373     0.143651    -0.101987       -0.135806    -0.00815613\n",
       " -0.120679    -0.00663185  -0.0888664      -0.085245     0.0399172\n",
       " -0.0192349    0.0272652    0.233491    …  -0.0845982   -0.141855\n",
       "  0.115308    -0.0815357    0.14527        -0.116538     0.238353\n",
       "  0.169712    -0.244017     0.126521        0.0298638    0.0862162\n",
       " -0.00655402   0.0538685    0.0337731       0.00257948  -0.0649729\n",
       " -0.292414     0.136017     0.0572819       0.034372     0.174423\n",
       " -0.158663    -0.0104343    0.199199    …   0.0571761   -0.0661329\n",
       "  0.125358    -0.0725469   -0.218259        0.126309     0.107625\n",
       " -0.0693026   -0.295657     0.118189        0.127944    -0.00793349\n",
       "  0.00106225  -0.132025     0.070073        0.0847814    0.196258\n",
       " -0.0405192   -0.163945     0.169259       -0.0675312   -0.301339\n",
       "  0.0811281   -0.117961     0.268003    …  -0.19154      0.177531\n",
       "  0.0350347   -0.160199    -0.0295626      -0.0283309    0.0715658\n",
       "  0.455201     0.186233     0.0755392       0.00469581   0.00837571\n",
       " -0.102933    -0.0965561   -0.0880464       0.0459292   -0.127703\n",
       " -0.00674885  -0.246279    -0.284419       -0.0661889    0.157029"
      ]
     },
     "execution_count": 205,
     "metadata": {},
     "output_type": "execute_result"
    }
   ],
   "source": [
    "E1 = eigen(Symmetric(Σxy*(Σyy\\(Σxy'))), Σxx)"
   ]
  },
  {
   "cell_type": "code",
   "execution_count": 215,
   "metadata": {},
   "outputs": [
    {
     "data": {
      "text/plain": [
       "20-element Array{Float64,1}:\n",
       "   -3.7368503439617073e-16\n",
       "   -3.030509434077113e-16\n",
       "   -1.9233811543008305e-16\n",
       "   -1.423851014480703e-16\n",
       "   -9.300044222400317e-17\n",
       "    3.4479841235178085e-17\n",
       "    1.3410353537158537e-16\n",
       "    2.1078159296229407e-16\n",
       "    2.995416215529737e-16\n",
       "    4.689211302293458e-16\n",
       "   22.26727591050266\n",
       "   28.343567187153656\n",
       "   30.857873825967403\n",
       "   35.60853913151168\n",
       "   46.54149611038874\n",
       "   52.85335369667177\n",
       "   88.1272693578725\n",
       "  134.20929209787457\n",
       "  259.31872830740076\n",
       " 1250.7909059278932"
      ]
     },
     "execution_count": 215,
     "metadata": {},
     "output_type": "execute_result"
    }
   ],
   "source": [
    "Λ = E1.values./(1.0 .-E1.values)"
   ]
  },
  {
   "cell_type": "code",
   "execution_count": 76,
   "metadata": {},
   "outputs": [
    {
     "data": {
      "text/plain": [
       "SVD{Float64,Float64,Array{Float64,2}}\n",
       "U factor:\n",
       "10×10 Array{Float64,2}:\n",
       "  0.0641204   0.254384    -0.183958  -0.428634   …  -0.573138    0.606823\n",
       " -0.290928    0.00401832  -0.529376  -0.0533508      0.0616348  -0.0551907\n",
       "  0.266514    0.276454    -0.324761  -0.146112      -0.0318523  -0.422608\n",
       " -0.101319   -0.734992    -0.286928  -0.440352       0.194789    0.106851\n",
       " -0.464208    0.0949348    0.396239  -0.50769       -0.26221    -0.407861\n",
       "  0.438384    0.0578712   -0.291812  -0.322354   …   0.0604909  -0.322774\n",
       " -0.160714    0.42229     -0.342238   0.0710781      0.183573    0.0647777\n",
       " -0.163705   -0.264538    -0.300814   0.473722      -0.527065   -0.0847683\n",
       " -0.0957332  -0.104994    -0.11734    0.0826278     -0.41496    -0.394481\n",
       "  0.600409   -0.216651     0.185956   0.0146778     -0.269546   -0.0342671\n",
       "singular values:\n",
       "10-element Array{Float64,1}:\n",
       " 1.0126563692273145\n",
       " 1.0094742386434066\n",
       " 1.0045156753655875\n",
       " 1.0022953349083663\n",
       " 0.9952130408768515\n",
       " 0.9872278249739405\n",
       " 0.9843627103335149\n",
       " 0.9739594249993055\n",
       " 0.9665080605923858\n",
       " 0.9606533625142819\n",
       "Vt factor:\n",
       "10×20 Array{Float64,2}:\n",
       " -0.00103192  -0.0231871  -0.105454    …  -0.251901    0.10917    -0.0352283\n",
       "  0.118671     0.137316    0.385263       -0.507462   -0.0322893  -0.0149833\n",
       " -0.0397891   -0.439738    0.0929101       0.0685628  -0.260114    0.0536824\n",
       " -0.23982      0.0894751  -0.237819        0.215874   -0.017228   -0.323301\n",
       " -0.304997    -0.15377     0.244693        0.0134813   0.163075    0.484572\n",
       "  0.0512328   -0.0214993   0.0524609   …   0.188526   -0.4187     -0.0740714\n",
       " -0.185765    -0.139114   -0.288092       -0.0641102   0.0398757   0.0380401\n",
       "  0.454856     0.026491   -0.00355026     -0.131627   -0.39616     0.263962\n",
       " -0.22105     -0.162927   -0.290984       -0.386685   -0.130909    0.122773\n",
       "  0.0934544   -0.123157    0.11133         0.161675   -0.306273   -0.118461"
      ]
     },
     "execution_count": 76,
     "metadata": {},
     "output_type": "execute_result"
    }
   ],
   "source": [
    "svd(H̃)"
   ]
  },
  {
   "cell_type": "code",
   "execution_count": 21,
   "metadata": {},
   "outputs": [
    {
     "data": {
      "text/plain": [
       "20-element Array{Float64,1}:\n",
       " 1.000000001\n",
       " 0.500000001\n",
       " 0.33333333433333334\n",
       " 0.250000001\n",
       " 0.200000001\n",
       " 0.16666666766666666\n",
       " 0.14285714385714285\n",
       " 0.125000001\n",
       " 0.1111111121111111\n",
       " 0.100000001\n",
       " 0.09090909190909091\n",
       " 0.08333333433333333\n",
       " 0.07692307792307693\n",
       " 0.07142857242857142\n",
       " 0.06666666766666667\n",
       " 0.062500001\n",
       " 0.058823530411764705\n",
       " 0.05555555655555555\n",
       " 0.05263157994736842\n",
       " 0.050000001"
      ]
     },
     "execution_count": 21,
     "metadata": {},
     "output_type": "execute_result"
    }
   ],
   "source": [
    "Σyy = \n",
    "\n",
    "α = 1.0\n",
    "λ0 = 500\n",
    "τ = 1e-9\n",
    "\n",
    "λtilde0 = 1.0\n",
    "τtilde = 1e-9\n",
    "ΛH = map(i-> λ0/(i^α) + τ, 1:min(Ny, Nx))\n",
    "ΛX = map(i-> λtilde0/(i^α) + τtilde, 1:Nx)"
   ]
  },
  {
   "cell_type": "code",
   "execution_count": 25,
   "metadata": {},
   "outputs": [
    {
     "data": {
      "text/plain": [
       "20×20 Array{Float64,2}:\n",
       " -0.385419    0.279758   -0.116839    -0.062175   …   0.298618    0.188885\n",
       "  0.0924087  -0.41927    -0.104403    -0.0991016     -0.190351   -0.100921\n",
       " -0.248725   -0.0647208  -0.0435458   -0.16483       -0.227559    0.21432\n",
       "  0.360298   -0.107573    0.158463    -0.234489       0.103325    0.274374\n",
       "  0.39222    -0.115525    0.150809    -0.0752712      0.135093   -0.0973899\n",
       "  0.0672663  -0.082833    0.015547    -0.448899   …   0.120159    0.1809\n",
       " -0.03138     0.301628   -0.421907    -0.168517      -0.11352    -0.195903\n",
       "  0.149903    0.103326    0.0255276    0.185168       0.146221    0.377058\n",
       " -0.13661    -0.0478563   0.193874    -0.0736007     -0.0737505   0.0600682\n",
       " -0.238123    0.0563366   0.0455886    0.0367086     -0.19281    -0.00233535\n",
       " -0.030822   -0.163139   -0.390238     0.142061   …  -0.032612   -0.428519\n",
       " -0.0898115  -0.152397    0.175962    -0.0161426      0.564832   -0.116649\n",
       " -0.0629619  -0.22733    -0.177667    -0.453958       0.119715   -0.228413\n",
       "  0.142307    0.273644   -0.365709    -0.312924       0.367778    0.0190895\n",
       " -0.276058   -0.144148    0.0718453   -0.0427702      0.235023   -0.126046\n",
       " -0.128762    0.275868    0.552857    -0.375345   …  -0.17315    -0.384725\n",
       "  0.0595705   0.0691683   0.123814     0.396685       0.341961   -0.32093\n",
       " -0.187125    0.033406   -0.1189       0.0524382     -0.0316582   0.271397\n",
       "  0.38226     0.533477    0.00477196  -0.0115589     -0.13207    -0.127322\n",
       "  0.288697   -0.197689   -0.135182     0.0117217     -0.110786    0.00361321"
      ]
     },
     "execution_count": 25,
     "metadata": {},
     "output_type": "execute_result"
    }
   ],
   "source": [
    "U = Matrix(qr(randn(Ny, Ny)).Q)\n",
    "V = Matrix(qr(randn(Ny, Ny)).Q)"
   ]
  },
  {
   "cell_type": "code",
   "execution_count": null,
   "metadata": {},
   "outputs": [],
   "source": [
    "H = rand(Ny, Nx)\n",
    "\n",
    "σy = 0.1\n",
    "Σy = Diagonal(σy^2*ones(Ny))\n",
    "ϵy = AdditiveInflation(zeros(Ny), σy)\n",
    "\n",
    "σx = 1.5\n",
    "Σx = Diagonal(σx^2*ones(Nx))\n",
    "L = cholesky(inv(Σx))\n",
    "ϵx = AdditiveInflation(zeros(Nx), σx)"
   ]
  },
  {
   "cell_type": "code",
   "execution_count": 16,
   "metadata": {},
   "outputs": [],
   "source": []
  },
  {
   "cell_type": "code",
   "execution_count": 4,
   "metadata": {},
   "outputs": [
    {
     "ename": "LoadError",
     "evalue": "\u001b[91mUndefVarError: X not defined\u001b[39m",
     "output_type": "error",
     "traceback": [
      "\u001b[91mUndefVarError: X not defined\u001b[39m",
      "",
      "Stacktrace:",
      " [1] top-level scope at In[4]:1",
      " [2] include_string(::Function, ::Module, ::String, ::String) at ./loading.jl:1091"
     ]
    }
   ],
   "source": []
  },
  {
   "cell_type": "code",
   "execution_count": 5,
   "metadata": {},
   "outputs": [
    {
     "ename": "LoadError",
     "evalue": "\u001b[91mUndefVarError: Ne not defined\u001b[39m",
     "output_type": "error",
     "traceback": [
      "\u001b[91mUndefVarError: Ne not defined\u001b[39m",
      "",
      "Stacktrace:",
      " [1] top-level scope at In[5]:1",
      " [2] include_string(::Function, ::Module, ::String, ::String) at ./loading.jl:1091"
     ]
    }
   ],
   "source": []
  },
  {
   "cell_type": "code",
   "execution_count": 6,
   "metadata": {},
   "outputs": [
    {
     "ename": "LoadError",
     "evalue": "\u001b[91mUndefVarError: Σy not defined\u001b[39m",
     "output_type": "error",
     "traceback": [
      "\u001b[91mUndefVarError: Σy not defined\u001b[39m",
      "",
      "Stacktrace:",
      " [1] top-level scope at In[6]:1",
      " [2] include_string(::Function, ::Module, ::String, ::String) at ./loading.jl:1091"
     ]
    }
   ],
   "source": [
    "Σyy = copy(Σy);"
   ]
  },
  {
   "cell_type": "code",
   "execution_count": 7,
   "metadata": {},
   "outputs": [
    {
     "ename": "LoadError",
     "evalue": "\u001b[91mUndefVarError: Σxy not defined\u001b[39m",
     "output_type": "error",
     "traceback": [
      "\u001b[91mUndefVarError: Σxy not defined\u001b[39m",
      "",
      "Stacktrace:",
      " [1] top-level scope at ./timing.jl:174 [inlined]",
      " [2] top-level scope at ./In[7]:0",
      " [3] include_string(::Function, ::Module, ::String, ::String) at ./loading.jl:1091"
     ]
    }
   ],
   "source": [
    "@time Σy\\(Σxy')"
   ]
  },
  {
   "cell_type": "code",
   "execution_count": 164,
   "metadata": {},
   "outputs": [
    {
     "name": "stdout",
     "output_type": "stream",
     "text": [
      "  0.000021 seconds (3 allocations: 4.141 KiB)\n"
     ]
    }
   ],
   "source": [
    "@time Σxy*(Σy\\(Σxy'));"
   ]
  },
  {
   "cell_type": "code",
   "execution_count": 162,
   "metadata": {},
   "outputs": [],
   "source": [
    "eigen(Hermitian(Σxx - Σxy*inv(Σy)*Σxy'));"
   ]
  },
  {
   "cell_type": "code",
   "execution_count": 161,
   "metadata": {},
   "outputs": [],
   "source": [
    "E1 = eigen(Σxx, Σxx - Σxy*inv(Σy)*Σxy');"
   ]
  },
  {
   "cell_type": "code",
   "execution_count": 150,
   "metadata": {},
   "outputs": [
    {
     "name": "stdout",
     "output_type": "stream",
     "text": [
      "E1.values[(end - i) + 1] = 5533.683492171553\n",
      "E1.values[(end - i) + 1] = 768.4434872518958\n",
      "E1.values[(end - i) + 1] = 358.5800517087799\n",
      "E1.values[(end - i) + 1] = 187.10343240248906\n",
      "E1.values[(end - i) + 1] = 137.52803671519075\n"
     ]
    }
   ],
   "source": [
    "Λ1 = zeros(min(Nx,Ny))\n",
    "\n",
    "for i in axes(Λ,1)\n",
    "    @show E1.values[end-i+1]\n",
    "    Λ1[i] = E1.values[end-i+1]/(1-E1.values[end-i+1])\n",
    "end"
   ]
  },
  {
   "cell_type": "code",
   "execution_count": 84,
   "metadata": {},
   "outputs": [],
   "source": [
    "X = zeros(Ny+Nx, Ne)\n",
    "ϵx(X, Ny+1, Ny+Nx)"
   ]
  },
  {
   "cell_type": "code",
   "execution_count": 85,
   "metadata": {},
   "outputs": [
    {
     "data": {
      "text/plain": [
       "5-element Array{Float64,1}:\n",
       "  3.1863782281677557\n",
       "  1.2961341870904126\n",
       "  0.6382307854274372\n",
       "  2.243377328071246\n",
       " -1.0139311553757233"
      ]
     },
     "execution_count": 85,
     "metadata": {},
     "output_type": "execute_result"
    }
   ],
   "source": [
    "xstar = σx*randn(Nx)\n",
    "ystar = H*xstar"
   ]
  },
  {
   "cell_type": "code",
   "execution_count": 86,
   "metadata": {},
   "outputs": [
    {
     "data": {
      "text/plain": [
       "25×500 Array{Float64,2}:\n",
       "  0.0         0.0        0.0        …   0.0        0.0         0.0\n",
       "  0.0         0.0        0.0            0.0        0.0         0.0\n",
       "  0.0         0.0        0.0            0.0        0.0         0.0\n",
       "  0.0         0.0        0.0            0.0        0.0         0.0\n",
       "  0.0         0.0        0.0            0.0        0.0         0.0\n",
       " -1.2458     -1.33112   -1.64702    …   3.36754   -0.0578877   1.05481\n",
       " -2.28695     3.26343   -0.407037      -1.56998   -0.632893    0.933066\n",
       " -0.704441    3.70639   -1.60342       -0.148933   2.90685     2.86306\n",
       " -0.0635331   0.787904   1.52941       -0.663269  -0.1601     -0.890273\n",
       " -0.734832   -1.30423   -0.356794      -0.859634   0.224142    1.29123\n",
       "  1.25449    -0.937811  -1.03954    …  -0.617167  -1.99874     0.123404\n",
       "  0.388416   -0.901535  -2.56433        1.39673    0.596719    2.5115\n",
       "  0.665981   -1.50467    2.01868       -0.818324  -0.994095   -1.28887\n",
       "  1.03726    -0.669111  -1.23044       -0.333976  -1.61289     0.994643\n",
       " -1.02162    -0.698623   0.873741       1.9216     0.177981    2.83398\n",
       " -0.999628    0.742435   2.02127    …   0.232018  -1.94535    -1.2555\n",
       " -2.9389     -1.47877    1.41866        1.2763    -0.144243   -1.84903\n",
       "  0.926797   -0.836661   0.541546      -2.99894    1.44735     1.96917\n",
       "  1.72812    -1.22983    0.0507503     -2.13048   -0.719054    0.783246\n",
       " -2.42719    -0.502738   1.78787       -1.25059    1.51426     0.226374\n",
       "  0.744084    1.14706    1.40941    …   0.726064  -0.797872   -0.444202\n",
       "  0.0158911  -1.27145   -1.88471       -0.75798   -1.35681     0.412853\n",
       " -0.571835   -1.15924    2.5436         0.548251  -0.800338    0.805181\n",
       " -1.31672     1.11609    0.061762       1.5911    -0.0936917  -1.86313\n",
       "  0.79141     1.75079   -1.02818       -0.430605   1.45194    -1.31028"
      ]
     },
     "execution_count": 86,
     "metadata": {},
     "output_type": "execute_result"
    }
   ],
   "source": [
    "X"
   ]
  },
  {
   "cell_type": "code",
   "execution_count": 87,
   "metadata": {},
   "outputs": [],
   "source": [
    "# Compute observations\n",
    "observe((x, t)->H*x, X, 0.0, Ny, Nx)"
   ]
  },
  {
   "cell_type": "code",
   "execution_count": 88,
   "metadata": {},
   "outputs": [
    {
     "data": {
      "text/plain": [
       "5-element Array{Float64,1}:\n",
       " -4.201837580911975\n",
       " -2.1394534272246384\n",
       " -4.019694321430913\n",
       " -3.075109147097886\n",
       " -4.203807085694468"
      ]
     },
     "execution_count": 88,
     "metadata": {},
     "output_type": "execute_result"
    }
   ],
   "source": [
    "H*X[Ny+1:Ny+Nx,1]"
   ]
  },
  {
   "cell_type": "code",
   "execution_count": 89,
   "metadata": {},
   "outputs": [],
   "source": [
    "# Perturb observations\n",
    "ϵy(X, 1, Ny)"
   ]
  },
  {
   "cell_type": "code",
   "execution_count": 90,
   "metadata": {},
   "outputs": [
    {
     "data": {
      "text/plain": [
       "5×20 Array{Float64,2}:\n",
       " 13.2246   12.1639    8.33884  12.5696   …  0.33596   13.0077     6.104\n",
       " 11.7709    4.02518   4.32466  12.2453      3.82649    4.51892    0.736347\n",
       " 14.3812    7.6828   12.7421   14.2567      0.309371   0.571132   5.6817\n",
       " 12.7464    1.10851   2.9518   12.5377      2.96307    9.68206   14.5612\n",
       "  9.11181   3.50321   1.7109    3.99807     3.86428    9.44018    6.83744"
      ]
     },
     "execution_count": 90,
     "metadata": {},
     "output_type": "execute_result"
    }
   ],
   "source": [
    "H̃ = Σy^(-1/2)*H*Σx^(1/2)"
   ]
  },
  {
   "cell_type": "code",
   "execution_count": 91,
   "metadata": {},
   "outputs": [
    {
     "data": {
      "text/plain": [
       "6.670033592382955e-14"
      ]
     },
     "execution_count": 91,
     "metadata": {},
     "output_type": "execute_result"
    }
   ],
   "source": [
    "svdH̃ = svd(H̃)\n",
    "r = Ny\n",
    "Λ = svdH̃.S[1:r]\n",
    "U = svdH̃.U[:,1:r]\n",
    "V = Matrix(svdH̃.Vt')[:,1:r]\n",
    "\n",
    "norm(U*Diagonal(Λ)*V'-H̃)"
   ]
  },
  {
   "cell_type": "code",
   "execution_count": 92,
   "metadata": {},
   "outputs": [
    {
     "data": {
      "image/png": "[encoded data removed]"
     },
     "execution_count": 92,
     "metadata": {},
     "output_type": "execute_result"
    }
   ],
   "source": [
    "plot(Λ, yscale = :log10, label = L\"Singular values of $\\tilde{H}$\")"
   ]
  },
  {
   "cell_type": "code",
   "execution_count": 93,
   "metadata": {},
   "outputs": [
    {
     "data": {
      "text/plain": [
       "5×5 Diagonal{Float64,Array{Float64,1}}:\n",
       " 0.01   ⋅     ⋅     ⋅     ⋅ \n",
       "  ⋅    0.01   ⋅     ⋅     ⋅ \n",
       "  ⋅     ⋅    0.01   ⋅     ⋅ \n",
       "  ⋅     ⋅     ⋅    0.01   ⋅ \n",
       "  ⋅     ⋅     ⋅     ⋅    0.01"
      ]
     },
     "execution_count": 93,
     "metadata": {},
     "output_type": "execute_result"
    }
   ],
   "source": [
    "Σy"
   ]
  },
  {
   "cell_type": "code",
   "execution_count": 94,
   "metadata": {},
   "outputs": [
    {
     "data": {
      "text/plain": [
       "25×500 Array{Float64,2}:\n",
       " -4.13629    -0.831244   0.717565   …  -0.32971    -1.83319     4.21481\n",
       " -2.18269    -1.31904    1.03149       -0.0446603  -2.30553     2.6002\n",
       " -4.08742     0.606595   0.793833      -1.4667      0.910888    3.49455\n",
       " -3.03034    -1.86637    0.992155       1.39849     0.262881    1.31985\n",
       " -4.09688    -2.23186    0.409984       0.218713   -1.91686     1.1933\n",
       " -1.2458     -1.33112   -1.64702    …   3.36754    -0.0578877   1.05481\n",
       " -2.28695     3.26343   -0.407037      -1.56998    -0.632893    0.933066\n",
       " -0.704441    3.70639   -1.60342       -0.148933    2.90685     2.86306\n",
       " -0.0635331   0.787904   1.52941       -0.663269   -0.1601     -0.890273\n",
       " -0.734832   -1.30423   -0.356794      -0.859634    0.224142    1.29123\n",
       "  1.25449    -0.937811  -1.03954    …  -0.617167   -1.99874     0.123404\n",
       "  0.388416   -0.901535  -2.56433        1.39673     0.596719    2.5115\n",
       "  0.665981   -1.50467    2.01868       -0.818324   -0.994095   -1.28887\n",
       "  1.03726    -0.669111  -1.23044       -0.333976   -1.61289     0.994643\n",
       " -1.02162    -0.698623   0.873741       1.9216      0.177981    2.83398\n",
       " -0.999628    0.742435   2.02127    …   0.232018   -1.94535    -1.2555\n",
       " -2.9389     -1.47877    1.41866        1.2763     -0.144243   -1.84903\n",
       "  0.926797   -0.836661   0.541546      -2.99894     1.44735     1.96917\n",
       "  1.72812    -1.22983    0.0507503     -2.13048    -0.719054    0.783246\n",
       " -2.42719    -0.502738   1.78787       -1.25059     1.51426     0.226374\n",
       "  0.744084    1.14706    1.40941    …   0.726064   -0.797872   -0.444202\n",
       "  0.0158911  -1.27145   -1.88471       -0.75798    -1.35681     0.412853\n",
       " -0.571835   -1.15924    2.5436         0.548251   -0.800338    0.805181\n",
       " -1.31672     1.11609    0.061762       1.5911     -0.0936917  -1.86313\n",
       "  0.79141     1.75079   -1.02818       -0.430605    1.45194    -1.31028"
      ]
     },
     "execution_count": 94,
     "metadata": {},
     "output_type": "execute_result"
    }
   ],
   "source": [
    "X"
   ]
  },
  {
   "cell_type": "code",
   "execution_count": 95,
   "metadata": {},
   "outputs": [
    {
     "data": {
      "text/plain": [
       "25×500 Array{Float64,2}:\n",
       " -4.13629    -0.831244   0.717565   …  -0.32971    -1.83319     4.21481\n",
       " -2.18269    -1.31904    1.03149       -0.0446603  -2.30553     2.6002\n",
       " -4.08742     0.606595   0.793833      -1.4667      0.910888    3.49455\n",
       " -3.03034    -1.86637    0.992155       1.39849     0.262881    1.31985\n",
       " -4.09688    -2.23186    0.409984       0.218713   -1.91686     1.1933\n",
       " -1.2458     -1.33112   -1.64702    …   3.36754    -0.0578877   1.05481\n",
       " -2.28695     3.26343   -0.407037      -1.56998    -0.632893    0.933066\n",
       " -0.704441    3.70639   -1.60342       -0.148933    2.90685     2.86306\n",
       " -0.0635331   0.787904   1.52941       -0.663269   -0.1601     -0.890273\n",
       " -0.734832   -1.30423   -0.356794      -0.859634    0.224142    1.29123\n",
       "  1.25449    -0.937811  -1.03954    …  -0.617167   -1.99874     0.123404\n",
       "  0.388416   -0.901535  -2.56433        1.39673     0.596719    2.5115\n",
       "  0.665981   -1.50467    2.01868       -0.818324   -0.994095   -1.28887\n",
       "  1.03726    -0.669111  -1.23044       -0.333976   -1.61289     0.994643\n",
       " -1.02162    -0.698623   0.873741       1.9216      0.177981    2.83398\n",
       " -0.999628    0.742435   2.02127    …   0.232018   -1.94535    -1.2555\n",
       " -2.9389     -1.47877    1.41866        1.2763     -0.144243   -1.84903\n",
       "  0.926797   -0.836661   0.541546      -2.99894     1.44735     1.96917\n",
       "  1.72812    -1.22983    0.0507503     -2.13048    -0.719054    0.783246\n",
       " -2.42719    -0.502738   1.78787       -1.25059     1.51426     0.226374\n",
       "  0.744084    1.14706    1.40941    …   0.726064   -0.797872   -0.444202\n",
       "  0.0158911  -1.27145   -1.88471       -0.75798    -1.35681     0.412853\n",
       " -0.571835   -1.15924    2.5436         0.548251   -0.800338    0.805181\n",
       " -1.31672     1.11609    0.061762       1.5911     -0.0936917  -1.86313\n",
       "  0.79141     1.75079   -1.02818       -0.430605    1.45194    -1.31028"
      ]
     },
     "execution_count": 95,
     "metadata": {},
     "output_type": "execute_result"
    }
   ],
   "source": [
    "X̃ = copy(X)"
   ]
  },
  {
   "cell_type": "code",
   "execution_count": 96,
   "metadata": {},
   "outputs": [
    {
     "data": {
      "text/plain": [
       "5×500 view(::Array{Float64,2}, 1:5, :) with eltype Float64:\n",
       " -41.3629   -8.31244   7.17565  -79.8323   …   -3.2971    -18.3319   42.1481\n",
       " -21.8269  -13.1904   10.3149     5.98496      -0.446603  -23.0553   26.002\n",
       " -40.8742    6.06595   7.93833  -65.0499      -14.667       9.10888  34.9455\n",
       " -30.3034  -18.6637    9.92155  -30.393        13.9849      2.62881  13.1985\n",
       " -40.9688  -22.3186    4.09984  -15.8272        2.18713   -19.1686   11.933"
      ]
     },
     "execution_count": 96,
     "metadata": {},
     "output_type": "execute_result"
    }
   ],
   "source": [
    "view(X̃,1:Ny, :) .= Σy^(-1/2)*view(X, 1:Ny, :)"
   ]
  },
  {
   "cell_type": "code",
   "execution_count": 97,
   "metadata": {},
   "outputs": [
    {
     "name": "stdout",
     "output_type": "stream",
     "text": [
      "  0.000150 seconds (17 allocations: 78.922 KiB)\n"
     ]
    },
    {
     "data": {
      "text/plain": [
       "20×500 view(::Array{Float64,2}, 6:25, :) with eltype Float64:\n",
       " -0.830531   -0.887413  -1.09801    …   2.24502    -0.0385918   0.70321\n",
       " -1.52463     2.17562   -0.271358      -1.04665    -0.421929    0.622044\n",
       " -0.469627    2.47093   -1.06895       -0.0992884   1.9379      1.90871\n",
       " -0.0423554   0.525269   1.01961       -0.442179   -0.106734   -0.593515\n",
       " -0.489888   -0.869489  -0.237863      -0.573089    0.149428    0.860822\n",
       "  0.836328   -0.625207  -0.69303    …  -0.411445   -1.3325      0.0822692\n",
       "  0.258944   -0.601023  -1.70955        0.931155    0.397813    1.67433\n",
       "  0.443987   -1.00311    1.34579       -0.545549   -0.66273    -0.859249\n",
       "  0.691504   -0.446074  -0.820293      -0.222651   -1.07526     0.663096\n",
       " -0.68108    -0.465749   0.582494       1.28106     0.118654    1.88932\n",
       " -0.666418    0.494957   1.34751    …   0.154679   -1.2969     -0.837\n",
       " -1.95927    -0.985845   0.945772       0.850864   -0.0961618  -1.23269\n",
       "  0.617864   -0.557774   0.36103       -1.99929     0.964902    1.31278\n",
       "  1.15208    -0.81989    0.0338335     -1.42032    -0.479369    0.522164\n",
       " -1.61813    -0.335158   1.19191       -0.833725    1.0095      0.150916\n",
       "  0.496056    0.76471    0.93961    …   0.484042   -0.531915   -0.296135\n",
       "  0.0105941  -0.847636  -1.25647       -0.50532    -0.904542    0.275235\n",
       " -0.381223   -0.772826   1.69573        0.3655     -0.533559    0.536788\n",
       " -0.877812    0.744062   0.0411747      1.06074    -0.0624611  -1.24209\n",
       "  0.527607    1.16719   -0.685452      -0.28707     0.96796    -0.873522"
      ]
     },
     "execution_count": 97,
     "metadata": {},
     "output_type": "execute_result"
    }
   ],
   "source": [
    "@time view(X̃,Ny+1:Ny+Nx, :) .= Σx^(-1/2)*view(X, Ny+1:Ny+Nx, :)"
   ]
  },
  {
   "cell_type": "code",
   "execution_count": 98,
   "metadata": {},
   "outputs": [
    {
     "data": {
      "text/plain": [
       "25×1 Array{Float64,2}:\n",
       " -0.7823400688534918\n",
       " -1.6111181975140163\n",
       "  0.1681611995322183\n",
       " -2.6036276784051893\n",
       " -2.262391214861934\n",
       "  0.05670419576942602\n",
       "  0.05145452693243453\n",
       "  0.008355510272549278\n",
       " -0.01691546809605259\n",
       "  0.02231291052328124\n",
       "  0.07277969298086735\n",
       "  0.035829804521281886\n",
       "  0.011367217784992296\n",
       "  0.025756768601362116\n",
       " -0.043646282130600136\n",
       " -0.059677091191211146\n",
       " -0.05563785099735409\n",
       " -0.04510014532669326\n",
       " -0.010456416776879716\n",
       " -0.03674417550200221\n",
       " -0.03724606038167628\n",
       " -0.04711627894955761\n",
       " -0.015217172265051536\n",
       " -0.04170016287513491\n",
       " -0.07923653502070366"
      ]
     },
     "execution_count": 98,
     "metadata": {},
     "output_type": "execute_result"
    }
   ],
   "source": [
    "mean(X̃; dims = 2)"
   ]
  },
  {
   "cell_type": "code",
   "execution_count": 99,
   "metadata": {},
   "outputs": [
    {
     "data": {
      "text/plain": [
       "5×20 Array{Float64,2}:\n",
       " 0.0  0.0  0.0  0.0  0.0  0.0  0.0  0.0  …  0.0  0.0  0.0  0.0  0.0  0.0  0.0\n",
       " 0.0  0.0  0.0  0.0  0.0  0.0  0.0  0.0     0.0  0.0  0.0  0.0  0.0  0.0  0.0\n",
       " 0.0  0.0  0.0  0.0  0.0  0.0  0.0  0.0     0.0  0.0  0.0  0.0  0.0  0.0  0.0\n",
       " 0.0  0.0  0.0  0.0  0.0  0.0  0.0  0.0     0.0  0.0  0.0  0.0  0.0  0.0  0.0\n",
       " 0.0  0.0  0.0  0.0  0.0  0.0  0.0  0.0     0.0  0.0  0.0  0.0  0.0  0.0  0.0"
      ]
     },
     "execution_count": 99,
     "metadata": {},
     "output_type": "execute_result"
    }
   ],
   "source": [
    "H̃ - Σy^(-1/2)*H*Σx^(1/2)"
   ]
  },
  {
   "cell_type": "code",
   "execution_count": 100,
   "metadata": {},
   "outputs": [
    {
     "data": {
      "text/plain": [
       "20×5 Array{Float64,2}:\n",
       " -0.149439     0.145923     0.158918     0.197409     -0.12959\n",
       "  0.345397    -0.00452612  -0.0316272   -0.392728      0.0770016\n",
       " -0.00200294   0.0671384    0.209074    -0.0914481    -0.0915309\n",
       " -0.191262     0.341819     0.170131     0.319211     -0.425661\n",
       "  0.0385124   -0.310455    -0.0251588   -0.0297553     0.389881\n",
       "  0.223667    -0.26863     -0.0313412   -0.104689      0.194512\n",
       "  0.0246272    0.238984    -0.0581879   -0.144172      0.0465056\n",
       "  0.0331696    0.0538537    0.157497    -0.0113525    -0.12959\n",
       "  0.188242    -0.148307     0.192718    -0.353031      0.164898\n",
       "  0.191805    -0.0945659   -0.180594     0.272121     -0.194787\n",
       " -0.0625104    0.257766    -0.0518823   -0.148945      0.177464\n",
       "  0.156351    -0.149314    -0.0673382   -0.000561701   0.152606\n",
       "  0.0137476    0.12555     -0.0322645    0.0511158     0.00630486\n",
       "  0.327596     0.264226    -0.236392    -0.09597      -0.28114\n",
       " -0.197927    -0.251453     0.344922    -0.0535286     0.287324\n",
       "  0.0542617    0.0524913   -0.0721337   -0.137171      0.16364\n",
       " -0.152923     0.0947897   -0.0540078    0.040712      0.228065\n",
       " -0.0950565    0.0585628   -0.00374295   0.0826763     0.0229652\n",
       "  0.270021    -0.178669    -0.243667    -0.0255876     0.203781\n",
       " -0.29801     -0.282679     0.0877763    0.603839      0.0434578"
      ]
     },
     "execution_count": 100,
     "metadata": {},
     "output_type": "execute_result"
    }
   ],
   "source": []
  },
  {
   "cell_type": "code",
   "execution_count": 101,
   "metadata": {},
   "outputs": [
    {
     "data": {
      "text/plain": [
       "20×5 Array{Float64,2}:\n",
       " -0.149439     0.145923     0.158918     0.197409     -0.12959\n",
       "  0.345397    -0.00452612  -0.0316272   -0.392728      0.0770016\n",
       " -0.00200294   0.0671384    0.209074    -0.0914481    -0.0915309\n",
       " -0.191262     0.341819     0.170131     0.319211     -0.425661\n",
       "  0.0385124   -0.310455    -0.0251588   -0.0297553     0.389881\n",
       "  0.223667    -0.26863     -0.0313412   -0.104689      0.194512\n",
       "  0.0246272    0.238984    -0.0581879   -0.144172      0.0465056\n",
       "  0.0331696    0.0538537    0.157497    -0.0113525    -0.12959\n",
       "  0.188242    -0.148307     0.192718    -0.353031      0.164898\n",
       "  0.191805    -0.0945659   -0.180594     0.272121     -0.194787\n",
       " -0.0625104    0.257766    -0.0518823   -0.148945      0.177464\n",
       "  0.156351    -0.149314    -0.0673382   -0.000561701   0.152606\n",
       "  0.0137476    0.12555     -0.0322645    0.0511158     0.00630486\n",
       "  0.327596     0.264226    -0.236392    -0.09597      -0.28114\n",
       " -0.197927    -0.251453     0.344922    -0.0535286     0.287324\n",
       "  0.0542617    0.0524913   -0.0721337   -0.137171      0.16364\n",
       " -0.152923     0.0947897   -0.0540078    0.040712      0.228065\n",
       " -0.0950565    0.0585628   -0.00374295   0.0826763     0.0229652\n",
       "  0.270021    -0.178669    -0.243667    -0.0255876     0.203781\n",
       " -0.29801     -0.282679     0.0877763    0.603839      0.0434578"
      ]
     },
     "execution_count": 101,
     "metadata": {},
     "output_type": "execute_result"
    }
   ],
   "source": [
    "K = Σx*H'*inv(H*Σx*H'+Σy)"
   ]
  },
  {
   "cell_type": "code",
   "execution_count": 102,
   "metadata": {},
   "outputs": [
    {
     "data": {
      "text/plain": [
       "3.9330182325197666e-15"
      ]
     },
     "execution_count": 102,
     "metadata": {},
     "output_type": "execute_result"
    }
   ],
   "source": [
    "norm(Klowrank-K)"
   ]
  },
  {
   "cell_type": "code",
   "execution_count": 103,
   "metadata": {},
   "outputs": [
    {
     "data": {
      "text/plain": [
       "25×500 Array{Float64,2}:\n",
       " -4.13629    -0.831244   0.717565   …  -0.32971    -1.83319     4.21481\n",
       " -2.18269    -1.31904    1.03149       -0.0446603  -2.30553     2.6002\n",
       " -4.08742     0.606595   0.793833      -1.4667      0.910888    3.49455\n",
       " -3.03034    -1.86637    0.992155       1.39849     0.262881    1.31985\n",
       " -4.09688    -2.23186    0.409984       0.218713   -1.91686     1.1933\n",
       " -1.2458     -1.33112   -1.64702    …   3.36754    -0.0578877   1.05481\n",
       " -2.28695     3.26343   -0.407037      -1.56998    -0.632893    0.933066\n",
       " -0.704441    3.70639   -1.60342       -0.148933    2.90685     2.86306\n",
       " -0.0635331   0.787904   1.52941       -0.663269   -0.1601     -0.890273\n",
       " -0.734832   -1.30423   -0.356794      -0.859634    0.224142    1.29123\n",
       "  1.25449    -0.937811  -1.03954    …  -0.617167   -1.99874     0.123404\n",
       "  0.388416   -0.901535  -2.56433        1.39673     0.596719    2.5115\n",
       "  0.665981   -1.50467    2.01868       -0.818324   -0.994095   -1.28887\n",
       "  1.03726    -0.669111  -1.23044       -0.333976   -1.61289     0.994643\n",
       " -1.02162    -0.698623   0.873741       1.9216      0.177981    2.83398\n",
       " -0.999628    0.742435   2.02127    …   0.232018   -1.94535    -1.2555\n",
       " -2.9389     -1.47877    1.41866        1.2763     -0.144243   -1.84903\n",
       "  0.926797   -0.836661   0.541546      -2.99894     1.44735     1.96917\n",
       "  1.72812    -1.22983    0.0507503     -2.13048    -0.719054    0.783246\n",
       " -2.42719    -0.502738   1.78787       -1.25059     1.51426     0.226374\n",
       "  0.744084    1.14706    1.40941    …   0.726064   -0.797872   -0.444202\n",
       "  0.0158911  -1.27145   -1.88471       -0.75798    -1.35681     0.412853\n",
       " -0.571835   -1.15924    2.5436         0.548251   -0.800338    0.805181\n",
       " -1.31672     1.11609    0.061762       1.5911     -0.0936917  -1.86313\n",
       "  0.79141     1.75079   -1.02818       -0.430605    1.45194    -1.31028"
      ]
     },
     "execution_count": 103,
     "metadata": {},
     "output_type": "execute_result"
    }
   ],
   "source": [
    "Xpost = deepcopy(X)"
   ]
  },
  {
   "cell_type": "code",
   "execution_count": 104,
   "metadata": {},
   "outputs": [
    {
     "data": {
      "text/plain": [
       "20×500 view(::Array{Float64,2}, 6:25, :) with eltype Float64:\n",
       " -0.439896   -0.891394   -1.57054   …   3.69879    -0.0518124   1.03264\n",
       " -1.75667     3.11804    -0.151626     -0.8549      0.384906    0.141436\n",
       " -0.261992    3.39323    -1.60722       0.409692    2.81784     2.29796\n",
       "  0.900168    1.71224     2.12672       0.275049    0.312433   -0.390946\n",
       " -0.606666   -1.60964    -0.932347     -1.69916    -0.40073     0.840302\n",
       "  1.85727    -0.936055   -0.961526  …  -0.585099   -1.86671    -0.192806\n",
       "  0.508214   -0.715317   -2.67784       1.50214     1.3534      2.10493\n",
       "  1.3811     -1.43008     2.26064      -0.147821   -0.816072   -1.56753\n",
       "  1.45706    -1.54461    -1.51146       0.0331741  -1.80498    -0.246014\n",
       "  0.0350743   0.70007     1.96819       2.55908     1.21246     3.95713\n",
       " -1.04421     0.767764    1.50418   …  -0.0959642  -1.45133    -1.90842\n",
       " -2.16414    -1.05967     1.55762       1.29551     0.257831   -1.96013\n",
       "  1.60077    -0.236363    0.668712     -2.81476     2.08427     1.91675\n",
       "  2.55623     0.0330184   1.24647      -0.856484    1.49752     1.30889\n",
       " -2.51781    -1.81466     0.702907     -1.95702    -0.325524   -0.910999\n",
       "  0.764248    1.13562     1.16385   …   0.517792   -0.440688   -0.850292\n",
       " -0.11156    -1.19457    -2.50256      -1.52898    -1.48173     0.134981\n",
       " -0.575049   -1.02036     2.39575       0.32621    -0.881061    0.862926\n",
       " -0.619183    1.86901     0.396843      1.51525     0.817953   -1.68527\n",
       "  1.35905     2.35158    -1.15872      -1.21607     0.149152   -0.42415"
      ]
     },
     "execution_count": 104,
     "metadata": {},
     "output_type": "execute_result"
    }
   ],
   "source": [
    "view(Xpost, Ny+1:Ny+Nx, :) .= view(X,Ny+1:Ny+Nx,:) - Klowrank*(view(X,1:Ny,:) .- ystar)"
   ]
  },
  {
   "cell_type": "code",
   "execution_count": 105,
   "metadata": {},
   "outputs": [
    {
     "data": {
      "text/plain": [
       "25×500 Array{Float64,2}:\n",
       " -4.13629    -0.831244    0.717565  …  -0.32971    -1.83319     4.21481\n",
       " -2.18269    -1.31904     1.03149      -0.0446603  -2.30553     2.6002\n",
       " -4.08742     0.606595    0.793833     -1.4667      0.910888    3.49455\n",
       " -3.03034    -1.86637     0.992155      1.39849     0.262881    1.31985\n",
       " -4.09688    -2.23186     0.409984      0.218713   -1.91686     1.1933\n",
       " -0.439896   -0.891394   -1.57054   …   3.69879    -0.0518124   1.03264\n",
       " -1.75667     3.11804    -0.151626     -0.8549      0.384906    0.141436\n",
       " -0.261992    3.39323    -1.60722       0.409692    2.81784     2.29796\n",
       "  0.900168    1.71224     2.12672       0.275049    0.312433   -0.390946\n",
       " -0.606666   -1.60964    -0.932347     -1.69916    -0.40073     0.840302\n",
       "  1.85727    -0.936055   -0.961526  …  -0.585099   -1.86671    -0.192806\n",
       "  0.508214   -0.715317   -2.67784       1.50214     1.3534      2.10493\n",
       "  1.3811     -1.43008     2.26064      -0.147821   -0.816072   -1.56753\n",
       "  1.45706    -1.54461    -1.51146       0.0331741  -1.80498    -0.246014\n",
       "  0.0350743   0.70007     1.96819       2.55908     1.21246     3.95713\n",
       " -1.04421     0.767764    1.50418   …  -0.0959642  -1.45133    -1.90842\n",
       " -2.16414    -1.05967     1.55762       1.29551     0.257831   -1.96013\n",
       "  1.60077    -0.236363    0.668712     -2.81476     2.08427     1.91675\n",
       "  2.55623     0.0330184   1.24647      -0.856484    1.49752     1.30889\n",
       " -2.51781    -1.81466     0.702907     -1.95702    -0.325524   -0.910999\n",
       "  0.764248    1.13562     1.16385   …   0.517792   -0.440688   -0.850292\n",
       " -0.11156    -1.19457    -2.50256      -1.52898    -1.48173     0.134981\n",
       " -0.575049   -1.02036     2.39575       0.32621    -0.881061    0.862926\n",
       " -0.619183    1.86901     0.396843      1.51525     0.817953   -1.68527\n",
       "  1.35905     2.35158    -1.15872      -1.21607     0.149152   -0.42415"
      ]
     },
     "execution_count": 105,
     "metadata": {},
     "output_type": "execute_result"
    }
   ],
   "source": [
    "Xpost"
   ]
  },
  {
   "cell_type": "code",
   "execution_count": null,
   "metadata": {},
   "outputs": [],
   "source": []
  }
 ],
 "metadata": {
  "kernelspec": {
   "display_name": "Julia 1.5.3",
   "language": "julia",
   "name": "julia-1.5"
  },
  "language_info": {
   "file_extension": ".jl",
   "mimetype": "application/julia",
   "name": "julia",
   "version": "1.5.3"
  }
 },
 "nbformat": 4,
 "nbformat_minor": 4
}
