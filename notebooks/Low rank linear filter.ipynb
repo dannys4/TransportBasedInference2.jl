{
 "cells": [
  {
   "cell_type": "code",
   "execution_count": 2,
   "metadata": {},
   "outputs": [
    {
     "name": "stderr",
     "output_type": "stream",
     "text": [
      "\u001b[32m\u001b[1m Activating\u001b[22m\u001b[39m environment at `/media/mat/HDD/AdaptiveTransportMap/Project.toml`\n"
     ]
    }
   ],
   "source": [
    "using Pkg\n",
    "Pkg.activate(\"/media/mat/HDD/AdaptiveTransportMap/\")"
   ]
  },
  {
   "cell_type": "code",
   "execution_count": 3,
   "metadata": {},
   "outputs": [
    {
     "name": "stderr",
     "output_type": "stream",
     "text": [
      "┌ Info: Precompiling AdaptiveTransportMap [bdf749b0-1400-4207-80d3-e689c0e3f03d]\n",
      "└ @ Base loading.jl:1278\n",
      "┌ Warning: Type annotations on keyword arguments not currently supported in recipes. Type information has been discarded\n",
      "└ @ RecipesBase ~/.julia/packages/RecipesBase/92zOw/src/RecipesBase.jl:116\n",
      "┌ Warning: Type annotations on keyword arguments not currently supported in recipes. Type information has been discarded\n",
      "└ @ RecipesBase ~/.julia/packages/RecipesBase/92zOw/src/RecipesBase.jl:116\n",
      "┌ Warning: Type annotations on keyword arguments not currently supported in recipes. Type information has been discarded\n",
      "└ @ RecipesBase ~/.julia/packages/RecipesBase/92zOw/src/RecipesBase.jl:116\n",
      "┌ Warning: Type annotations on keyword arguments not currently supported in recipes. Type information has been discarded\n",
      "└ @ RecipesBase ~/.julia/packages/RecipesBase/92zOw/src/RecipesBase.jl:116\n",
      "┌ Warning: Type annotations on keyword arguments not currently supported in recipes. Type information has been discarded\n",
      "└ @ RecipesBase ~/.julia/packages/RecipesBase/92zOw/src/RecipesBase.jl:116\n",
      "┌ Warning: Type annotations on keyword arguments not currently supported in recipes. Type information has been discarded\n",
      "└ @ RecipesBase ~/.julia/packages/RecipesBase/92zOw/src/RecipesBase.jl:116\n"
     ]
    }
   ],
   "source": [
    "using Revise\n",
    "using LinearAlgebra\n",
    "using AdaptiveTransportMap\n",
    "using Statistics\n",
    "using Distributions\n",
    "using Test\n",
    "using ForwardDiff\n",
    "using SpecialFunctions\n",
    "using OrthoMatchingPursuit\n",
    "using BenchmarkTools"
   ]
  },
  {
   "cell_type": "code",
   "execution_count": 4,
   "metadata": {},
   "outputs": [],
   "source": [
    "using Plots\n",
    "default(tickfont = font(\"CMU Serif\", 9), \n",
    "        titlefont = font(\"CMU Serif\", 14), \n",
    "        guidefont = font(\"CMU Serif\", 12),\n",
    "        legendfont = font(\"CMU Serif\", 10),\n",
    "        grid = false)\n",
    "# Plots.font(\"sans-serif\")\n",
    "# clibrary(:colorbrewer)\n",
    "# gr()\n",
    "pyplot()\n",
    "\n",
    "using LaTeXStrings\n",
    "# PyPlot.rc(\"text\", usetex = \"true\")\n",
    "# rcParams = PyPlot.PyDict(PyPlot.matplotlib.\"rcParams\")\n",
    "# rcParams[\"text.usetex\"] = true;\n",
    "PyPlot.rc(\"font\", family = \"CMU Serif\")\n",
    "PyPlot.matplotlib[:rc](\"mathtext\",fontset=\"cm\")        #computer modern font \n",
    "PyPlot.matplotlib[:rc](\"font\",family=\"serif\",size=12)"
   ]
  },
  {
   "cell_type": "code",
   "execution_count": 48,
   "metadata": {},
   "outputs": [
    {
     "data": {
      "text/plain": [
       "AdditiveInflation(20, [0.0, 0.0, 0.0, 0.0, 0.0, 0.0, 0.0, 0.0, 0.0, 0.0, 0.0, 0.0, 0.0, 0.0, 0.0, 0.0, 0.0, 0.0, 0.0, 0.0], [2.25 0.0 … 0.0 0.0; 0.0 2.25 … 0.0 0.0; … ; 0.0 0.0 … 2.25 0.0; 0.0 0.0 … 0.0 2.25], [1.5 0.0 … 0.0 0.0; 0.0 1.5 … 0.0 0.0; … ; 0.0 0.0 … 1.5 0.0; 0.0 0.0 … 0.0 1.5])"
      ]
     },
     "execution_count": 48,
     "metadata": {},
     "output_type": "execute_result"
    }
   ],
   "source": [
    "Nx = 20\n",
    "Ny = 5\n",
    "Ne = 500\n",
    "H = rand(Ny, Nx)\n",
    "\n",
    "σy = 0.1\n",
    "Σy = Matrix(σy^2*I, Ny, Ny)\n",
    "ϵy = AdditiveInflation(zeros(Ny), σy)\n",
    "\n",
    "σx = 1.5\n",
    "Σx = Matrix(σx^2*I, Nx, Nx)\n",
    "L = cholesky(inv(Σx))\n",
    "ϵx = AdditiveInflation(zeros(Nx), σx)"
   ]
  },
  {
   "cell_type": "code",
   "execution_count": 49,
   "metadata": {},
   "outputs": [
    {
     "data": {
      "text/plain": [
       "5×20 Array{Float64,2}:\n",
       " 0.6692     0.111314  0.550376   0.783575  …  0.0660648  0.335764  0.366526\n",
       " 0.556775   0.431365  0.719513   0.346738     0.208382   0.89315   0.980273\n",
       " 0.189261   0.457337  0.0331862  0.952802     0.9303     0.701338  0.563639\n",
       " 0.76337    0.42995   0.718296   0.353499     0.803004   0.985326  0.684684\n",
       " 0.0958477  0.044418  0.158482   0.361058     0.336123   0.965271  0.501527"
      ]
     },
     "execution_count": 49,
     "metadata": {},
     "output_type": "execute_result"
    }
   ],
   "source": [
    "H"
   ]
  },
  {
   "cell_type": "code",
   "execution_count": 50,
   "metadata": {},
   "outputs": [],
   "source": [
    "X = zeros(Ny+Nx, Ne)\n",
    "ϵx(X, Ny+1, Ny+Nx)"
   ]
  },
  {
   "cell_type": "code",
   "execution_count": 51,
   "metadata": {},
   "outputs": [
    {
     "data": {
      "text/plain": [
       "5-element Array{Float64,1}:\n",
       " -2.959713356302306\n",
       " -3.948283530560863\n",
       " -4.431208751881421\n",
       " -5.246289302857807\n",
       " -2.410062580611097"
      ]
     },
     "execution_count": 51,
     "metadata": {},
     "output_type": "execute_result"
    }
   ],
   "source": [
    "xstar = σx*randn(Nx)\n",
    "ystar = H*xstar"
   ]
  },
  {
   "cell_type": "code",
   "execution_count": 52,
   "metadata": {},
   "outputs": [
    {
     "data": {
      "text/plain": [
       "25×500 Array{Float64,2}:\n",
       "  0.0          0.0         0.0         …   0.0        0.0         0.0\n",
       "  0.0          0.0         0.0             0.0        0.0         0.0\n",
       "  0.0          0.0         0.0             0.0        0.0         0.0\n",
       "  0.0          0.0         0.0             0.0        0.0         0.0\n",
       "  0.0          0.0         0.0             0.0        0.0         0.0\n",
       " -0.800239     0.0449221   1.69008     …  -1.19042   -0.0169941   1.57752\n",
       " -1.92539      1.32759    -0.0828986       0.087952   1.81457     0.142212\n",
       "  0.270462    -0.309497    2.45546         1.8335     2.16885    -0.230161\n",
       " -0.0435719    0.811174   -1.28795         0.441739  -2.09429     0.0132305\n",
       "  0.00770941   1.9331      0.49777         0.693711   1.9472     -1.91667\n",
       " -1.46795      0.520497    0.191345    …  -0.633261   2.20742    -1.25125\n",
       " -0.808819     0.942415   -2.58838        -1.40871   -0.310343   -1.31161\n",
       "  0.0596656   -0.748671   -1.23675        -2.02089   -0.685217    0.7576\n",
       "  2.23808     -1.39667    -1.05852        -0.686033  -1.79092     0.908809\n",
       "  0.336889    -0.394566   -1.04505        -1.50684   -0.56547    -0.43339\n",
       "  0.204091     2.59154    -0.0485384   …  -0.607059   1.81118    -0.865677\n",
       "  3.33629     -1.35946     1.10588         0.760036   3.3846      1.59811\n",
       "  0.233777    -3.42181    -1.6082          0.108461   0.477239    2.72838\n",
       "  2.26436     -0.561638   -2.33792         0.190332  -0.638298    1.02367\n",
       " -2.19831     -1.11651     0.00142319      1.02939   -0.193073   -1.00273\n",
       "  0.602186     1.44291    -0.594717    …   1.65474   -0.661013   -0.146038\n",
       "  1.4264      -0.20291     2.30943        -0.195613  -0.425037   -2.07166\n",
       " -2.01696      1.44229    -0.1444          2.16952   -0.585249    0.0938793\n",
       "  0.796533     3.08043     0.355868       -0.535979   2.15026     1.24247\n",
       " -1.97606      1.23945    -0.372044       -1.81184   -1.05713    -2.41788"
      ]
     },
     "execution_count": 52,
     "metadata": {},
     "output_type": "execute_result"
    }
   ],
   "source": [
    "X"
   ]
  },
  {
   "cell_type": "code",
   "execution_count": 53,
   "metadata": {},
   "outputs": [],
   "source": [
    "# Compute observations\n",
    "observe((x, t)->H*x, X, 0.0, Ny, Nx)"
   ]
  },
  {
   "cell_type": "code",
   "execution_count": 54,
   "metadata": {},
   "outputs": [
    {
     "data": {
      "text/plain": [
       "5-element Array{Float64,1}:\n",
       "  2.634145343953669\n",
       " -0.08416612568884752\n",
       " -0.40049584996064547\n",
       " -2.338099613211268\n",
       "  1.4615675677364888"
      ]
     },
     "execution_count": 54,
     "metadata": {},
     "output_type": "execute_result"
    }
   ],
   "source": [
    "H*X[Ny+1:Ny+Nx,1]"
   ]
  },
  {
   "cell_type": "code",
   "execution_count": 55,
   "metadata": {},
   "outputs": [],
   "source": [
    "# Perturb observations\n",
    "ϵy(X, 1, Ny)"
   ]
  },
  {
   "cell_type": "code",
   "execution_count": 56,
   "metadata": {},
   "outputs": [
    {
     "data": {
      "text/plain": [
       "5×20 Array{Float64,2}:\n",
       " 10.038    1.66971   8.25565   11.7536   …   0.990972   5.03646   5.4979\n",
       "  8.35163  6.47047  10.7927     5.20107      3.12573   13.3972   14.7041\n",
       "  2.83891  6.86006   0.497793  14.292       13.9545    10.5201    8.45458\n",
       " 11.4506   6.44925  10.7744     5.30249     12.0451    14.7799   10.2703\n",
       "  1.43771  0.66627   2.37723    5.41587      5.04184   14.4791    7.5229"
      ]
     },
     "execution_count": 56,
     "metadata": {},
     "output_type": "execute_result"
    }
   ],
   "source": [
    "H̃ = Σy^(-1/2)*H*Σx^(1/2)"
   ]
  },
  {
   "cell_type": "code",
   "execution_count": 63,
   "metadata": {},
   "outputs": [
    {
     "data": {
      "text/plain": [
       "4.5265761499325324e-14"
      ]
     },
     "execution_count": 63,
     "metadata": {},
     "output_type": "execute_result"
    }
   ],
   "source": [
    "svdH̃ = svd(H̃)\n",
    "r = Ny\n",
    "Λ = svdH̃.S[1:r]\n",
    "U = svdH̃.U[:,1:r]\n",
    "V = Matrix(svdH̃.Vt')[:,1:r]\n",
    "\n",
    "norm(U*Diagonal(Λ)*V'-H̃)"
   ]
  },
  {
   "cell_type": "code",
   "execution_count": 64,
   "metadata": {},
   "outputs": [
    {
     "data": {
      "image/png": "[encoded data removed]"
     },
     "execution_count": 64,
     "metadata": {},
     "output_type": "execute_result"
    }
   ],
   "source": [
    "plot(Λ, yscale = :log10, label = L\"Singular values of $\\tilde{H}$\")"
   ]
  },
  {
   "cell_type": "code",
   "execution_count": 65,
   "metadata": {},
   "outputs": [
    {
     "data": {
      "text/plain": [
       "5×5 Array{Float64,2}:\n",
       " 0.01  0.0   0.0   0.0   0.0\n",
       " 0.0   0.01  0.0   0.0   0.0\n",
       " 0.0   0.0   0.01  0.0   0.0\n",
       " 0.0   0.0   0.0   0.01  0.0\n",
       " 0.0   0.0   0.0   0.0   0.01"
      ]
     },
     "execution_count": 65,
     "metadata": {},
     "output_type": "execute_result"
    }
   ],
   "source": [
    "Σy"
   ]
  },
  {
   "cell_type": "code",
   "execution_count": 66,
   "metadata": {},
   "outputs": [
    {
     "data": {
      "text/plain": [
       "25×500 Array{Float64,2}:\n",
       "  2.60216      3.27544    -2.90625     …  -2.16729    2.90199    -1.52723\n",
       " -0.0865647    3.17179     0.412954       -1.59451    7.83598    -0.0545033\n",
       " -0.296227     3.62496    -5.11158        -0.546955   1.54786    -0.199083\n",
       " -2.55572      7.92367     3.14015        -0.469227   7.03096    -4.15337\n",
       "  1.53138      2.85557    -3.98364        -1.80017    4.23558    -0.121352\n",
       " -0.800239     0.0449221   1.69008     …  -1.19042   -0.0169941   1.57752\n",
       " -1.92539      1.32759    -0.0828986       0.087952   1.81457     0.142212\n",
       "  0.270462    -0.309497    2.45546         1.8335     2.16885    -0.230161\n",
       " -0.0435719    0.811174   -1.28795         0.441739  -2.09429     0.0132305\n",
       "  0.00770941   1.9331      0.49777         0.693711   1.9472     -1.91667\n",
       " -1.46795      0.520497    0.191345    …  -0.633261   2.20742    -1.25125\n",
       " -0.808819     0.942415   -2.58838        -1.40871   -0.310343   -1.31161\n",
       "  0.0596656   -0.748671   -1.23675        -2.02089   -0.685217    0.7576\n",
       "  2.23808     -1.39667    -1.05852        -0.686033  -1.79092     0.908809\n",
       "  0.336889    -0.394566   -1.04505        -1.50684   -0.56547    -0.43339\n",
       "  0.204091     2.59154    -0.0485384   …  -0.607059   1.81118    -0.865677\n",
       "  3.33629     -1.35946     1.10588         0.760036   3.3846      1.59811\n",
       "  0.233777    -3.42181    -1.6082          0.108461   0.477239    2.72838\n",
       "  2.26436     -0.561638   -2.33792         0.190332  -0.638298    1.02367\n",
       " -2.19831     -1.11651     0.00142319      1.02939   -0.193073   -1.00273\n",
       "  0.602186     1.44291    -0.594717    …   1.65474   -0.661013   -0.146038\n",
       "  1.4264      -0.20291     2.30943        -0.195613  -0.425037   -2.07166\n",
       " -2.01696      1.44229    -0.1444          2.16952   -0.585249    0.0938793\n",
       "  0.796533     3.08043     0.355868       -0.535979   2.15026     1.24247\n",
       " -1.97606      1.23945    -0.372044       -1.81184   -1.05713    -2.41788"
      ]
     },
     "execution_count": 66,
     "metadata": {},
     "output_type": "execute_result"
    }
   ],
   "source": [
    "X"
   ]
  },
  {
   "cell_type": "code",
   "execution_count": 18,
   "metadata": {},
   "outputs": [
    {
     "data": {
      "text/plain": [
       "25×500 Array{Float64,2}:\n",
       " -5.5727     4.23604    -0.70766    …   0.182954   -2.82677    -6.00179\n",
       " -3.7668     0.897505   -0.557963       0.667749   -2.30837    -3.4508\n",
       "  3.87634   -7.33427    -1.72964        5.63938     4.70071    -5.35683\n",
       " -4.65628    6.65526    -4.29969       -3.15667    -6.4906     -1.91185\n",
       "  8.50601    9.53728    -0.842536       0.158517    8.49245     1.55743\n",
       "  0.675814  -1.28678     1.26369    …  -0.539231   -0.413529    0.822683\n",
       " -2.23462    0.608204    0.223847       2.57055    -1.57911    -0.656576\n",
       " -1.36425    0.825764   -0.985709       2.64828     0.538921   -1.08114\n",
       "  0.132179   1.56652    -1.96479        1.16745     1.04907     0.139461\n",
       " -1.0699    -1.33754    -1.67798       -1.36386    -1.75235    -1.26036\n",
       " -0.339793   0.487842    0.229286   …   2.2136     -0.499137   -0.315583\n",
       "  0.458059  -1.06639     1.76083        0.735989   -0.348039    1.62533\n",
       "  0.172314  -0.0137747   0.661316       1.79792     0.693606    0.376274\n",
       "  0.159935  -0.220151    0.667816      -0.278405   -0.565476   -1.10717\n",
       "  2.78109   -0.635914    0.223367      -0.65988     1.7498      0.0685944\n",
       " -0.887446  -0.55597    -0.221597   …   1.61114     0.40542    -0.216299\n",
       "  1.25239    0.599951   -1.80101        0.423009   -0.771691    0.84297\n",
       "  1.84839    2.10343    -0.687939      -2.83013    -1.1814      0.709067\n",
       "  1.02926    1.86751    -1.38855       -0.0117021   1.7528      2.32832\n",
       " -1.80353    1.53478    -1.68161       -1.28743    -0.718779    0.632876\n",
       " -0.189265  -2.16558     2.25231    …  -3.80028     0.0836728  -1.71165\n",
       "  0.598043  -0.635991    0.0112626      1.44307    -0.704425   -1.07424\n",
       "  0.606026   0.488259   -2.25415        1.03459     1.26022     4.23512\n",
       "  1.57321   -1.50709    -2.84407        1.63505    -0.182027    0.523361\n",
       "  0.700765  -0.12822    -0.505929       0.913404    0.700285    1.00985"
      ]
     },
     "execution_count": 18,
     "metadata": {},
     "output_type": "execute_result"
    }
   ],
   "source": [
    "X̃ = copy(X)"
   ]
  },
  {
   "cell_type": "code",
   "execution_count": 19,
   "metadata": {},
   "outputs": [
    {
     "data": {
      "text/plain": [
       "5×500 view(::Array{Float64,2}, 1:5, :) with eltype Float64:\n",
       " -55.727    42.3604    -7.0766    84.3496  …    1.82954  -28.2677  -60.0179\n",
       " -37.668     8.97505   -5.57963  -97.6251       6.67749  -23.0837  -34.508\n",
       "  38.7634  -73.3427   -17.2964   -89.4817      56.3938    47.0071  -53.5683\n",
       " -46.5628   66.5526   -42.9969    55.2177     -31.5667   -64.906   -19.1185\n",
       "  85.0601   95.3728    -8.42536  -56.9152       1.58517   84.9245   15.5743"
      ]
     },
     "execution_count": 19,
     "metadata": {},
     "output_type": "execute_result"
    }
   ],
   "source": [
    "view(X̃,1:Ny, :) .= Σy^(-1/2)*view(X, 1:Ny, :)"
   ]
  },
  {
   "cell_type": "code",
   "execution_count": 20,
   "metadata": {},
   "outputs": [
    {
     "data": {
      "text/plain": [
       "20×500 view(::Array{Float64,2}, 6:25, :) with eltype Float64:\n",
       "  0.450543   -0.857852     0.842463    …  -0.359487    -0.275686    0.548456\n",
       " -1.48974     0.40547      0.149232        1.7137      -1.05274    -0.437718\n",
       " -0.909499    0.550509    -0.65714         1.76552      0.359281   -0.720758\n",
       "  0.0881196   1.04435     -1.30986         0.778303     0.699378    0.092974\n",
       " -0.713265   -0.891691    -1.11865        -0.909238    -1.16824    -0.840241\n",
       " -0.226529    0.325228     0.152857    …   1.47573     -0.332758   -0.210389\n",
       "  0.305373   -0.710924     1.17388         0.49066     -0.232026    1.08355\n",
       "  0.114876   -0.00918316   0.440877        1.19862      0.462404    0.250849\n",
       "  0.106623   -0.146767     0.44521        -0.185603    -0.376984   -0.738116\n",
       "  1.85406    -0.423943     0.148911       -0.43992      1.16653     0.0457296\n",
       " -0.591631   -0.370647    -0.147731    …   1.07409      0.27028    -0.1442\n",
       "  0.834925    0.399967    -1.20068         0.282006    -0.51446     0.56198\n",
       "  1.23226     1.40229     -0.458626       -1.88675     -0.787599    0.472711\n",
       "  0.686172    1.245       -0.925697       -0.00780141   1.16853     1.55222\n",
       " -1.20236     1.02319     -1.12107        -0.858288    -0.479186    0.421917\n",
       " -0.126177   -1.44372      1.50154     …  -2.53352      0.0557819  -1.1411\n",
       "  0.398696   -0.423994     0.00750839      0.962047    -0.469617   -0.71616\n",
       "  0.404017    0.325506    -1.50277         0.689729     0.840146    2.82342\n",
       "  1.0488     -1.00473     -1.89605         1.09003     -0.121351    0.348907\n",
       "  0.467176   -0.0854803   -0.337286        0.608936     0.466856    0.673236"
      ]
     },
     "execution_count": 20,
     "metadata": {},
     "output_type": "execute_result"
    }
   ],
   "source": [
    "view(X̃,Ny+1:Ny+Nx, :) .= Σx^(-1/2)*view(X, Ny+1:Ny+Nx, :)"
   ]
  },
  {
   "cell_type": "code",
   "execution_count": 21,
   "metadata": {},
   "outputs": [
    {
     "data": {
      "text/plain": [
       "25×1 Array{Float64,2}:\n",
       " -1.9123195878476915\n",
       "  5.62355984328724\n",
       "  1.9240922031307155\n",
       "  5.150865737233921\n",
       "  6.519961011271431\n",
       "  0.017280981645381454\n",
       " -0.041953314141381516\n",
       " -0.013815323401163811\n",
       "  0.06722307017519807\n",
       "  0.032482403300117625\n",
       " -0.03481486266677262\n",
       " -0.05329298200189522\n",
       " -0.04522540804239296\n",
       "  0.027052468812530317\n",
       " -0.0037398269554653335\n",
       "  0.07101174410289524\n",
       "  0.033396936582383456\n",
       "  0.1371428603148056\n",
       " -0.030407621970778516\n",
       " -0.03508700144535557\n",
       " -0.11995695634923077\n",
       "  0.009896160911031592\n",
       " -0.011391303811468526\n",
       " -0.006363432097406759\n",
       "  0.013398668207497038"
      ]
     },
     "execution_count": 21,
     "metadata": {},
     "output_type": "execute_result"
    }
   ],
   "source": [
    "mean(X̃; dims = 2)"
   ]
  },
  {
   "cell_type": "code",
   "execution_count": 22,
   "metadata": {},
   "outputs": [
    {
     "data": {
      "text/plain": [
       "5×20 Array{Float64,2}:\n",
       " 0.0  0.0  0.0  0.0  0.0  0.0  0.0  0.0  …  0.0  0.0  0.0  0.0  0.0  0.0  0.0\n",
       " 0.0  0.0  0.0  0.0  0.0  0.0  0.0  0.0     0.0  0.0  0.0  0.0  0.0  0.0  0.0\n",
       " 0.0  0.0  0.0  0.0  0.0  0.0  0.0  0.0     0.0  0.0  0.0  0.0  0.0  0.0  0.0\n",
       " 0.0  0.0  0.0  0.0  0.0  0.0  0.0  0.0     0.0  0.0  0.0  0.0  0.0  0.0  0.0\n",
       " 0.0  0.0  0.0  0.0  0.0  0.0  0.0  0.0     0.0  0.0  0.0  0.0  0.0  0.0  0.0"
      ]
     },
     "execution_count": 22,
     "metadata": {},
     "output_type": "execute_result"
    }
   ],
   "source": [
    "H̃ - Σy^(-1/2)*H*Σx^(1/2)"
   ]
  },
  {
   "cell_type": "code",
   "execution_count": 26,
   "metadata": {},
   "outputs": [
    {
     "data": {
      "text/plain": [
       "20×5 Array{Float64,2}:\n",
       "  0.00747908    0.117882    -0.0573717   -0.135439    -0.0580409\n",
       "  0.000109429   0.0384448   -0.120166     0.0517139   -0.0699019\n",
       "  0.0821569     0.101932    -0.00600604  -0.0573036    0.0504563\n",
       " -0.0497314     0.0130812    0.0247234    0.0354695    0.00996605\n",
       "  0.0242875     0.0278315    0.0665597    0.142451    -0.0468631\n",
       "  0.101365      0.00162586   0.0807169    0.0157267    2.35573e-5\n",
       " -0.118118      0.00126556  -0.0736206   -0.0114895   -0.0534614\n",
       " -0.0132726    -0.0145882    0.030017    -0.0390492    0.0338819\n",
       "  0.028185      0.00184355   0.00137985   0.103912     7.02792e-5\n",
       "  0.0408288     0.00529388  -0.0687709   -0.102065     0.101868\n",
       " -0.0297812     0.00805336   0.0671239    0.0880144   -0.00846008\n",
       " -0.0870173    -0.00116533  -0.0661567   -0.00824214   0.00229523\n",
       "  0.0106785     0.0367375   -0.0330286    0.11324      0.0692993\n",
       "  0.01229      -0.00553854   0.0313712    0.0794732   -0.0057639\n",
       " -0.000135013  -0.00382914  -0.0946558   -0.0279714   -0.0126036\n",
       " -0.0505321    -0.0352871    0.0136626   -0.00204512  -0.0759921\n",
       " -0.0174496    -0.150858     0.0746102    0.0768275   -0.00169949\n",
       " -0.0170833    -0.062747    -0.0470672    0.00124102  -0.0147891\n",
       "  0.00322969   -0.0199579    0.0985066   -0.0323457   -0.103028\n",
       " -0.12455      -0.00188215   0.00999021   0.0216309    0.0722101"
      ]
     },
     "execution_count": 26,
     "metadata": {},
     "output_type": "execute_result"
    }
   ],
   "source": [
    "Klowrank = Σx^(1/2)*V*Diagonal(Λ)*inv(Diagonal(Λ).^2 + I)*U'*Σy^(-1/2)"
   ]
  },
  {
   "cell_type": "code",
   "execution_count": 27,
   "metadata": {},
   "outputs": [
    {
     "data": {
      "text/plain": [
       "20×5 Array{Float64,2}:\n",
       "  0.00747908    0.117882    -0.0573717   -0.135439    -0.0580409\n",
       "  0.000109429   0.0384448   -0.120166     0.0517139   -0.0699019\n",
       "  0.0821569     0.101932    -0.00600604  -0.0573036    0.0504563\n",
       " -0.0497314     0.0130812    0.0247234    0.0354695    0.00996605\n",
       "  0.0242875     0.0278315    0.0665597    0.142451    -0.0468631\n",
       "  0.101365      0.00162586   0.0807169    0.0157267    2.35573e-5\n",
       " -0.118118      0.00126556  -0.0736206   -0.0114895   -0.0534614\n",
       " -0.0132726    -0.0145882    0.030017    -0.0390492    0.0338819\n",
       "  0.028185      0.00184355   0.00137985   0.103912     7.02792e-5\n",
       "  0.0408288     0.00529388  -0.0687709   -0.102065     0.101868\n",
       " -0.0297812     0.00805336   0.0671239    0.0880144   -0.00846008\n",
       " -0.0870173    -0.00116533  -0.0661567   -0.00824214   0.00229523\n",
       "  0.0106785     0.0367375   -0.0330286    0.11324      0.0692993\n",
       "  0.01229      -0.00553854   0.0313712    0.0794732   -0.0057639\n",
       " -0.000135013  -0.00382914  -0.0946558   -0.0279714   -0.0126036\n",
       " -0.0505321    -0.0352871    0.0136626   -0.00204512  -0.0759921\n",
       " -0.0174496    -0.150858     0.0746102    0.0768275   -0.00169949\n",
       " -0.0170833    -0.062747    -0.0470672    0.00124102  -0.0147891\n",
       "  0.00322969   -0.0199579    0.0985066   -0.0323457   -0.103028\n",
       " -0.12455      -0.00188215   0.00999021   0.0216309    0.0722101"
      ]
     },
     "execution_count": 27,
     "metadata": {},
     "output_type": "execute_result"
    }
   ],
   "source": [
    "K = Σx*H'*inv(H*Σx*H'+Σy)"
   ]
  },
  {
   "cell_type": "code",
   "execution_count": 28,
   "metadata": {},
   "outputs": [
    {
     "data": {
      "text/plain": [
       "5.39650345926559e-16"
      ]
     },
     "execution_count": 28,
     "metadata": {},
     "output_type": "execute_result"
    }
   ],
   "source": [
    "norm(Klowrank-K)"
   ]
  },
  {
   "cell_type": "code",
   "execution_count": 29,
   "metadata": {},
   "outputs": [
    {
     "data": {
      "text/plain": [
       "25×500 Array{Float64,2}:\n",
       " -5.5727     4.23604    -0.70766    …   0.182954   -2.82677    -6.00179\n",
       " -3.7668     0.897505   -0.557963       0.667749   -2.30837    -3.4508\n",
       "  3.87634   -7.33427    -1.72964        5.63938     4.70071    -5.35683\n",
       " -4.65628    6.65526    -4.29969       -3.15667    -6.4906     -1.91185\n",
       "  8.50601    9.53728    -0.842536       0.158517    8.49245     1.55743\n",
       "  0.675814  -1.28678     1.26369    …  -0.539231   -0.413529    0.822683\n",
       " -2.23462    0.608204    0.223847       2.57055    -1.57911    -0.656576\n",
       " -1.36425    0.825764   -0.985709       2.64828     0.538921   -1.08114\n",
       "  0.132179   1.56652    -1.96479        1.16745     1.04907     0.139461\n",
       " -1.0699    -1.33754    -1.67798       -1.36386    -1.75235    -1.26036\n",
       " -0.339793   0.487842    0.229286   …   2.2136     -0.499137   -0.315583\n",
       "  0.458059  -1.06639     1.76083        0.735989   -0.348039    1.62533\n",
       "  0.172314  -0.0137747   0.661316       1.79792     0.693606    0.376274\n",
       "  0.159935  -0.220151    0.667816      -0.278405   -0.565476   -1.10717\n",
       "  2.78109   -0.635914    0.223367      -0.65988     1.7498      0.0685944\n",
       " -0.887446  -0.55597    -0.221597   …   1.61114     0.40542    -0.216299\n",
       "  1.25239    0.599951   -1.80101        0.423009   -0.771691    0.84297\n",
       "  1.84839    2.10343    -0.687939      -2.83013    -1.1814      0.709067\n",
       "  1.02926    1.86751    -1.38855       -0.0117021   1.7528      2.32832\n",
       " -1.80353    1.53478    -1.68161       -1.28743    -0.718779    0.632876\n",
       " -0.189265  -2.16558     2.25231    …  -3.80028     0.0836728  -1.71165\n",
       "  0.598043  -0.635991    0.0112626      1.44307    -0.704425   -1.07424\n",
       "  0.606026   0.488259   -2.25415        1.03459     1.26022     4.23512\n",
       "  1.57321   -1.50709    -2.84407        1.63505    -0.182027    0.523361\n",
       "  0.700765  -0.12822    -0.505929       0.913404    0.700285    1.00985"
      ]
     },
     "execution_count": 29,
     "metadata": {},
     "output_type": "execute_result"
    }
   ],
   "source": [
    "Xpost = deepcopy(X)"
   ]
  },
  {
   "cell_type": "code",
   "execution_count": 89,
   "metadata": {},
   "outputs": [
    {
     "data": {
      "text/plain": [
       "20×500 view(::Array{Float64,2}, 6:25, :) with eltype Float64:\n",
       " -1.3885     -0.388919   1.52441    …   0.446284    1.9288    -0.708825\n",
       "  1.02872     1.54203    1.47475        1.35228     1.3044    -0.334071\n",
       "  1.15994    -1.65959   -1.01283       -0.566965    1.45718    0.970885\n",
       " -1.32873     0.695795   2.34191        2.55434     0.74722   -0.393565\n",
       "  1.25672     1.88016    0.739059      -0.147507    0.759971   2.02799\n",
       "  1.086       1.49757   -1.46361    …  -0.999746   -0.12705    0.890193\n",
       " -1.99143    -1.54507   -1.71899       -0.168126   -3.26826   -2.67626\n",
       "  1.63705     0.345203   2.00078        0.419489    2.17862    0.862842\n",
       "  0.917919    2.74885    0.227854       1.0219      1.02152    2.38825\n",
       " -2.31747     1.58233   -0.473007       1.04081     1.45414   -0.766868\n",
       "  1.8376      1.40496   -1.9422     …  -1.36383     0.279661   0.902549\n",
       " -0.646295    0.811346  -0.0381655      1.1973      1.15704   -0.867745\n",
       "  0.111382   -0.216173  -1.50284        0.144627    0.416603  -1.21129\n",
       "  1.46642     2.233     -1.31578       -1.25285     0.30302    2.19588\n",
       " -0.954503    1.19583   -0.743549      -0.0169333  -0.153654   0.758655\n",
       "  3.31604     2.69332    2.88576    …   4.15167     0.342441   1.99545\n",
       "  0.390381    1.79374    1.01426       -0.334149    0.413719   1.42515\n",
       "  2.02652     3.41131    1.86362        0.501446    1.78891    0.188291\n",
       "  0.746312    0.651174   0.616604       4.13034     0.577182   3.53064\n",
       " -0.0424277  -1.49512   -2.24633        0.610558    0.67723    0.28382"
      ]
     },
     "execution_count": 89,
     "metadata": {},
     "output_type": "execute_result"
    }
   ],
   "source": [
    "view(Xpost, Ny+1:Ny+Nx, :) .= view(X,Ny+1:Ny+Nx,:) - Klowrank*(view(X,1:Ny,:) .- ystar)"
   ]
  },
  {
   "cell_type": "code",
   "execution_count": 90,
   "metadata": {},
   "outputs": [
    {
     "data": {
      "text/plain": [
       "25×500 Array{Float64,2}:\n",
       "  6.73689     2.7492    13.7799     …   2.85384     4.91019    6.0684\n",
       "  6.39059     1.27703    3.1138        -3.6761      2.33419    6.41564\n",
       "  3.3852      5.86613   -0.203432       1.31903     5.90363    3.03739\n",
       "  1.26476    -4.51075    4.58518       11.5688     -0.304026   6.74989\n",
       "  1.19418     7.81381   -4.60762        5.43186     1.95165    6.67825\n",
       " -1.3885     -0.388919   1.52441    …   0.446284    1.9288    -0.708825\n",
       "  1.02872     1.54203    1.47475        1.35228     1.3044    -0.334071\n",
       "  1.15994    -1.65959   -1.01283       -0.566965    1.45718    0.970885\n",
       " -1.32873     0.695795   2.34191        2.55434     0.74722   -0.393565\n",
       "  1.25672     1.88016    0.739059      -0.147507    0.759971   2.02799\n",
       "  1.086       1.49757   -1.46361    …  -0.999746   -0.12705    0.890193\n",
       " -1.99143    -1.54507   -1.71899       -0.168126   -3.26826   -2.67626\n",
       "  1.63705     0.345203   2.00078        0.419489    2.17862    0.862842\n",
       "  0.917919    2.74885    0.227854       1.0219      1.02152    2.38825\n",
       " -2.31747     1.58233   -0.473007       1.04081     1.45414   -0.766868\n",
       "  1.8376      1.40496   -1.9422     …  -1.36383     0.279661   0.902549\n",
       " -0.646295    0.811346  -0.0381655      1.1973      1.15704   -0.867745\n",
       "  0.111382   -0.216173  -1.50284        0.144627    0.416603  -1.21129\n",
       "  1.46642     2.233     -1.31578       -1.25285     0.30302    2.19588\n",
       " -0.954503    1.19583   -0.743549      -0.0169333  -0.153654   0.758655\n",
       "  3.31604     2.69332    2.88576    …   4.15167     0.342441   1.99545\n",
       "  0.390381    1.79374    1.01426       -0.334149    0.413719   1.42515\n",
       "  2.02652     3.41131    1.86362        0.501446    1.78891    0.188291\n",
       "  0.746312    0.651174   0.616604       4.13034     0.577182   3.53064\n",
       " -0.0424277  -1.49512   -2.24633        0.610558    0.67723    0.28382"
      ]
     },
     "execution_count": 90,
     "metadata": {},
     "output_type": "execute_result"
    }
   ],
   "source": [
    "Xpost"
   ]
  },
  {
   "cell_type": "code",
   "execution_count": 91,
   "metadata": {},
   "outputs": [
    {
     "data": {
      "text/plain": [
       "20-element Array{Float64,1}:\n",
       "  0.11455888781735833\n",
       "  0.3749517928568419\n",
       "  0.67734919997317\n",
       "  0.7516646601756366\n",
       "  0.07841237454364597\n",
       " -0.3484693388252838\n",
       " -2.0842081223024165\n",
       "  1.4936776465459254\n",
       "  1.2940132477027377\n",
       " -0.23484449614002312\n",
       "  0.10199654503096257\n",
       "  0.32375135499484675\n",
       " -0.06948324305128244\n",
       " -0.04589870378883893\n",
       "  0.034746584242670506\n",
       "  1.9834430827948357\n",
       "  0.4520788730071775\n",
       "  1.8326848384197034\n",
       "  1.2407985585163652\n",
       "  0.44564117664541997"
      ]
     },
     "execution_count": 91,
     "metadata": {},
     "output_type": "execute_result"
    }
   ],
   "source": [
    "mean(state(Xpost, Ny, Nx); dims = 2)[:,1]"
   ]
  },
  {
   "cell_type": "code",
   "execution_count": 92,
   "metadata": {},
   "outputs": [
    {
     "data": {
      "text/plain": [
       "20-element Array{Float64,1}:\n",
       "  0.1823912181057712\n",
       "  1.6962334180236271\n",
       "  0.02433059438339577\n",
       " -0.41938227806904216\n",
       " -0.861816161971601\n",
       " -0.3007009126908583\n",
       " -2.3606161493053808\n",
       " -0.2830595473570359\n",
       "  1.9615936601858266\n",
       "  0.7828355041945867\n",
       " -1.6224810399873466\n",
       " -0.16276924813973936\n",
       " -1.390189283515601\n",
       " -0.20989918453980172\n",
       " -0.434312585815559\n",
       "  3.1816435142948833\n",
       "  1.201749161892224\n",
       "  2.0488017592255696\n",
       "  0.9147103469532316\n",
       "  0.4776891603062241"
      ]
     },
     "execution_count": 92,
     "metadata": {},
     "output_type": "execute_result"
    }
   ],
   "source": [
    "xstar"
   ]
  },
  {
   "cell_type": "code",
   "execution_count": 101,
   "metadata": {},
   "outputs": [
    {
     "data": {
      "text/plain": [
       "20-element Array{Float64,1}:\n",
       "  0.11403685023559404\n",
       "  0.3750633231113875\n",
       "  0.6778726840296159\n",
       "  0.7512432490513574\n",
       "  0.07819686680566594\n",
       " -0.348559186978047\n",
       " -2.083356596786177\n",
       "  1.494362094747629\n",
       "  1.2942831816969969\n",
       " -0.23455837676334176\n",
       "  0.10107652706278011\n",
       "  0.3239986903915998\n",
       " -0.06953405889145334\n",
       " -0.045192884172523075\n",
       "  0.034786853071279426\n",
       "  1.9830175079377241\n",
       "  0.45164297670867226\n",
       "  1.8327624634727637\n",
       "  1.2409097002047855\n",
       "  0.445034917496297"
      ]
     },
     "execution_count": 101,
     "metadata": {},
     "output_type": "execute_result"
    }
   ],
   "source": [
    "mean(state(X, Ny, Nx); dims = 2)[:,1] + K*(ystar - H*mean(state(X, Ny, Nx); dims = 2)[:,1])"
   ]
  },
  {
   "cell_type": "code",
   "execution_count": 103,
   "metadata": {},
   "outputs": [
    {
     "data": {
      "text/plain": [
       "20-element Array{Float64,1}:\n",
       "  0.1823912181057712\n",
       "  1.6962334180236271\n",
       "  0.02433059438339577\n",
       " -0.41938227806904216\n",
       " -0.861816161971601\n",
       " -0.3007009126908583\n",
       " -2.3606161493053808\n",
       " -0.2830595473570359\n",
       "  1.9615936601858266\n",
       "  0.7828355041945867\n",
       " -1.6224810399873466\n",
       " -0.16276924813973936\n",
       " -1.390189283515601\n",
       " -0.20989918453980172\n",
       " -0.434312585815559\n",
       "  3.1816435142948833\n",
       "  1.201749161892224\n",
       "  2.0488017592255696\n",
       "  0.9147103469532316\n",
       "  0.4776891603062241"
      ]
     },
     "execution_count": 103,
     "metadata": {},
     "output_type": "execute_result"
    }
   ],
   "source": [
    "xstar"
   ]
  },
  {
   "cell_type": "code",
   "execution_count": 102,
   "metadata": {},
   "outputs": [
    {
     "data": {
      "text/plain": [
       "20-element Array{Float64,1}:\n",
       " -0.018018596032057795\n",
       "  0.12188813738211286\n",
       "  0.006553537152681995\n",
       " -0.029215015370077695\n",
       "  0.048321769842227066\n",
       "  0.024954739422105424\n",
       "  0.06140301139508675\n",
       "  0.0053960508964161795\n",
       "  0.13092731465125282\n",
       " -0.00460343959941531\n",
       "  0.027884470326816485\n",
       " -0.050409765301464814\n",
       "  0.06060558385436248\n",
       "  0.04517811500668236\n",
       " -0.006471247880543713\n",
       "  0.027399755297110938\n",
       " -2.9137394992339694e-5\n",
       " -0.014776970870476278\n",
       "  0.06343623296540639\n",
       "  0.028448526837576267"
      ]
     },
     "execution_count": 102,
     "metadata": {},
     "output_type": "execute_result"
    }
   ],
   "source": [
    "mean(state(X, Ny, Nx) ;dims = 2)[:,1]"
   ]
  },
  {
   "cell_type": "code",
   "execution_count": null,
   "metadata": {},
   "outputs": [],
   "source": []
  }
 ],
 "metadata": {
  "kernelspec": {
   "display_name": "Julia 1.5.3",
   "language": "julia",
   "name": "julia-1.5"
  },
  "language_info": {
   "file_extension": ".jl",
   "mimetype": "application/julia",
   "name": "julia",
   "version": "1.5.3"
  }
 },
 "nbformat": 4,
 "nbformat_minor": 4
}
