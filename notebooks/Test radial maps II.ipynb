{
 "cells": [
  {
   "cell_type": "code",
   "execution_count": null,
   "metadata": {},
   "outputs": [],
   "source": [
    "using Revise\n",
    "using LinearAlgebra\n",
    "using AdaptiveTransportMap\n",
    "using Statistics\n",
    "using Distributions\n",
    "using Test\n",
    "using ForwardDiff\n",
    "using SpecialFunctions"
   ]
  },
  {
   "cell_type": "code",
   "execution_count": null,
   "metadata": {},
   "outputs": [],
   "source": [
    "Δtdyn = 0.05\n",
    "Δtobs = 0.2"
   ]
  },
  {
   "cell_type": "code",
   "execution_count": 4,
   "metadata": {},
   "outputs": [
    {
     "data": {
      "text/plain": [
       "StateSpace(AdaptiveTransportMap.lorenz63!, h)"
      ]
     },
     "execution_count": 4,
     "metadata": {},
     "output_type": "execute_result"
    }
   ],
   "source": [
    "h(x, t) = x\n",
    "F = StateSpace(lorenz63!, h)"
   ]
  },
  {
   "cell_type": "code",
   "execution_count": 5,
   "metadata": {},
   "outputs": [
    {
     "data": {
      "text/plain": [
       "AdditiveInflation(3, [0.0, 0.0, 0.0], [1.0e-12 0.0 0.0; 0.0 1.0e-12 0.0; 0.0 0.0 1.0e-12], [1.0e-6 0.0 0.0; 0.0 1.0e-6 0.0; 0.0 0.0 1.0e-6])"
      ]
     },
     "execution_count": 5,
     "metadata": {},
     "output_type": "execute_result"
    }
   ],
   "source": [
    "### Process and observation noise\n",
    "σx = 1e-6\n",
    "σy = 1e-6\n",
    "\n",
    "ϵx = AdditiveInflation(Nx, zeros(Nx), σx)\n",
    "ϵy = AdditiveInflation(Ny, zeros(Ny), σy)"
   ]
  },
  {
   "cell_type": "code",
   "execution_count": 6,
   "metadata": {},
   "outputs": [
    {
     "data": {
      "text/plain": [
       "SparseRadialSMF(var\"#1#2\"(), h, 1.0488088481701516, AdditiveInflation(3, [0.0, 0.0, 0.0], [1.0e-12 0.0 0.0; 0.0 1.0e-12 0.0; 0.0 0.0 1.0e-12], [1.0e-6 0.0 0.0; 0.0 1.0e-6 0.0; 0.0 0.0 1.0e-6]), Sparse Radial Map of dimension Nx = 4 and order p = [[-1], [1, 1], [-1, 1, 0], [-1, 1, 1, 0]]\n",
       "        with parameters (γ, λ, δ, κ) = (2.0, 0.0, 1.0e-8, 4.0)\n",
       ", 3, 3, 0.05, 0.2, [0.0 1.0 1.0; 1.0 0.0 1.0; 1.0 1.0 0.0], [1 2 3; 1 2 3], [0.0 0.0 … 0.0 0.0; 0.0 0.0 … 0.0 0.0; 0.0 0.0 … 0.0 0.0; 0.0 0.0 … 0.0 0.0], false, true)"
      ]
     },
     "execution_count": 6,
     "metadata": {},
     "output_type": "execute_result"
    }
   ],
   "source": [
    "p = 1\n",
    "# order = [[-1], [1; 1], [-1; 1; 0], [-1; 1; 1; 0]]\n",
    "order = [[-1], [p; p], [-1; p; 0], [-1; p; p; 0]]\n",
    "\n",
    "# parameters of the radial map\n",
    "γ = 2.0\n",
    "λ = 0.0\n",
    "δ = 1e-8\n",
    "κ = 4.0\n",
    "β = sqrt(1.1)\n",
    "\n",
    "dist = Float64.(metric_lorenz(3))\n",
    "idx = vcat(collect(1:Ny)',collect(1:Ny)')\n",
    "\n",
    "smf = SparseRadialSMF(x->x, F.h, β, ϵy, order, γ, λ, δ, κ, \n",
    "                      Ny, Nx, Ne, \n",
    "                      Δtdyn, Δtobs, \n",
    "                      dist, idx; islocalized = true)"
   ]
  },
  {
   "cell_type": "code",
   "execution_count": 66,
   "metadata": {},
   "outputs": [
    {
     "data": {
      "text/plain": [
       "4×20 Array{Float64,2}:\n",
       "  6.83111   7.3414   6.87782   6.97112  …   7.30821   7.51998   7.81311\n",
       "  6.83111   7.3414   6.87782   6.97112      7.30821   7.51998   7.81311\n",
       " 10.7482   11.4408  10.7934   10.9413      11.3811   11.5977   11.9733\n",
       " 17.2209   18.0151  17.3795   17.5713      17.9625   18.4076   18.8025"
      ]
     },
     "execution_count": 66,
     "metadata": {},
     "output_type": "execute_result"
    }
   ],
   "source": [
    "Nx = 3\n",
    "Ny = 3\n",
    "Ne = 20\n",
    "\n",
    "Xopt = [6.83111057214752 7.341399483035104 6.877822720168037 6.971118924033331 7.80018915888386 6.706163613626499  7.162690594670549  7.700261382011425  6.941835922612477  7.284403548637827  6.114109300787112  6.8845869963952495  6.964592565400086  7.174468426637868  7.625149047410672  7.878949787131567  7.406859873033216  7.308213228925083  7.519981945292273  7.813106261096211;\n",
    "        6.831108465893829  7.341399033871628  6.877822863906546  6.97111727425475  7.800189247976281 6.706164938380805  7.162690676866085  7.700262776963255  6.941836045832242  7.284402833890172  6.114110399157427  6.884587349033709  6.96459274277572  7.174468203234895  7.625148374481078  7.8789481123204546  7.406861450644357  7.3082129279028125  7.519981781231936  7.813107415959239;\n",
    "    10.748176564682273  11.440770534993137  10.793381797612751  10.941318835214862  11.929084958885008  10.59686888513673  11.236535720904731  11.870709137884843  10.822143995520504  11.438244192350945  9.74464232701128  10.88087955147106  11.015485574206627  11.165089908005559  11.784628799983244  12.118366730171301  11.470902695133232  11.381148951581917  11.59772825016864  11.97328846474424;\n",
    "    17.220877261555913  18.015116463525178  17.37954504596719  17.571340756941474  18.85219193452756  17.100665224055952  17.69182449716767  18.58919930719067  17.70546356854179  17.713180862215776  16.427244631267527  17.36044333722269  17.379079978320874  17.80208729364049  18.470370177818385  18.770876038639738  18.293040279245393  17.962547003679237  18.407564589808725  18.80248070252011]"
   ]
  },
  {
   "cell_type": "code",
   "execution_count": 67,
   "metadata": {},
   "outputs": [],
   "source": [
    "# Xopt = Xopt[1:2,:] "
   ]
  },
  {
   "cell_type": "code",
   "execution_count": 69,
   "metadata": {},
   "outputs": [
    {
     "name": "stdout",
     "output_type": "stream",
     "text": [
      "(i, xopt) = (2, [-36976.57962814703, -656.5341280277023, 255902.51188927222, 37229.538860661596, 22473.93334257556, 38568.05490267168])\n",
      "(i, xopt) = (3, [-29.724779965914404, -5.6682846443929575, -44.27784987834747, 23.260427009648268])\n",
      "(i, xopt) = (4, [-81.91708066646106, 15.3632669832643, 41.964393596819974, -23.30032807523303, -234.05223088510246, 19.83709179889266])\n"
     ]
    }
   ],
   "source": [
    "p = 1\n",
    "\n",
    "S = SparseRadialMap(Nx+1, [[-1], [p; p], [-1; p; 0], [-1; p; p; 0]];\n",
    "                    γ = 2.0, λ = 0.0, δ = 1e-8, κ = 4.0)\n",
    "\n",
    "# center_std(S, Xopt)\n",
    "\n",
    "optimize(S, Xopt; start = 2)"
   ]
  },
  {
   "cell_type": "code",
   "execution_count": 70,
   "metadata": {},
   "outputs": [
    {
     "data": {
      "text/plain": [
       "4×20 Array{Float64,2}:\n",
       "  0.0       0.0        0.0       …   0.0        0.0        0.0\n",
       " -0.012594  0.983314  -0.488417      0.876791   0.264949  -0.511952\n",
       " -0.181419  0.237378  -0.635987     -0.187696  -1.15182   -0.334791\n",
       " -2.09705   0.262169  -0.871745     -0.59202   -0.221763  -0.453088"
      ]
     },
     "execution_count": 70,
     "metadata": {},
     "output_type": "execute_result"
    }
   ],
   "source": [
    "Sx = evaluate(S, Xopt; start = 2)"
   ]
  },
  {
   "cell_type": "code",
   "execution_count": 41,
   "metadata": {},
   "outputs": [
    {
     "data": {
      "text/plain": [
       "3-element Array{Float64,1}:\n",
       " -0.508920322604891\n",
       " -1.429075047747251\n",
       "  0.299044085894253"
      ]
     },
     "execution_count": 41,
     "metadata": {},
     "output_type": "execute_result"
    }
   ],
   "source": [
    "ystar = [-0.508920322604891; -1.429075047747251; 0.299044085894253]"
   ]
  },
  {
   "cell_type": "code",
   "execution_count": null,
   "metadata": {},
   "outputs": [],
   "source": []
  }
 ],
 "metadata": {
  "kernelspec": {
   "display_name": "Julia 1.10.0",
   "language": "julia",
   "name": "julia-1.10"
  },
  "language_info": {
   "file_extension": ".jl",
   "mimetype": "application/julia",
   "name": "julia",
   "version": "1.10.0"
  }
 },
 "nbformat": 4,
 "nbformat_minor": 4
}
