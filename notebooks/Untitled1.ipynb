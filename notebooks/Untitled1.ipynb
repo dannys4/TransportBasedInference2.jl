{
 "cells": [
  {
   "cell_type": "code",
   "execution_count": 6,
   "id": "7164cf12",
   "metadata": {},
   "outputs": [],
   "source": [
    "using Revise\n",
    "using TransportBasedInference\n",
    "using Test\n",
    "using LinearAlgebra\n",
    "using Statistics\n",
    "using ForwardDiff"
   ]
  },
  {
   "cell_type": "code",
   "execution_count": 15,
   "id": "fbe9c3f1",
   "metadata": {},
   "outputs": [
    {
     "name": "stdout",
     "output_type": "stream",
     "text": [
      "\u001b[0m\u001b[1mTest Summary:      | \u001b[22m\u001b[32m\u001b[1mPass  \u001b[22m\u001b[39m\u001b[36m\u001b[1mTotal  \u001b[22m\u001b[39m\u001b[0m\u001b[1mTime\u001b[22m\n",
      "Rectifier sigmoid_ | \u001b[32m  11  \u001b[39m\u001b[36m   11  \u001b[39m\u001b[0m0.6s\n"
     ]
    },
    {
     "data": {
      "text/plain": [
       "Test.DefaultTestSet(\"Rectifier sigmoid_\", Any[], 11, false, false, true, 1.708643370495686e9, 1.708643371109264e9, false, \"In[15]\")"
      ]
     },
     "execution_count": 15,
     "metadata": {},
     "output_type": "execute_result"
    }
   ],
   "source": [
    "@testset \"Rectifier sigmoid_\" begin\n",
    "\n",
    "    Kmin = 1e-4\n",
    "    Kmax = 1e7\n",
    "    ϵ = 1e-9\n",
    "\n",
    "    r = Rectifier(\"sigmoid_\"; Kmin = Kmin, Kmax = Kmax)\n",
    "    @test r.T == \"sigmoid_\"\n",
    "    \n",
    "    x = 0.4\n",
    "    @test abs(r(x) - (Kmin + (Kmax - Kmin)*exp(x)/(1+exp(x))))<ϵ\n",
    "    \n",
    "    \n",
    "    # Test gradient\n",
    "    @test abs(ForwardDiff.derivative(y->r(y), x) - grad_x(r, x) ) < ϵ\n",
    "    \n",
    "    # Test hessian\n",
    "    @test abs(ForwardDiff.derivative(z->ForwardDiff.derivative(y->r(y), z),x) - hess_x(r, x) ) < ϵ\n",
    "    \n",
    "    # Test gradient of log evaluation\n",
    "    @test abs(ForwardDiff.derivative(y->log(r(y)), x) - grad_x_logeval(r, x) ) < ϵ\n",
    "    \n",
    "#     # Test hessian of log evaluation\n",
    "    @test abs(ForwardDiff.hessian(y->log(r(y[1])), [x])[1,1] - hess_x_logeval(r, x) ) < ϵ\n",
    "    \n",
    "    \n",
    "    x = -0.4\n",
    "    @test abs(r(x) - (Kmin + (Kmax - Kmin)*exp(x)/(1+exp(x))))<ϵ\n",
    "    \n",
    "    # Test gradient\n",
    "    @test abs(ForwardDiff.derivative(y->r(y), x) - grad_x(r, x) ) < ϵ\n",
    "    \n",
    "    # Test hessian\n",
    "    @test abs(ForwardDiff.derivative(z->ForwardDiff.derivative(y->r(y), z),x) - hess_x(r, x) ) < ϵ\n",
    "    \n",
    "    # Test gradient of log evaluation\n",
    "    @test abs(ForwardDiff.derivative(y->log(r(y)), x) - grad_x_logeval(r, x) ) < ϵ\n",
    "    \n",
    "    # Test hessian of log evaluation\n",
    "    @test abs(ForwardDiff.hessian(y->log(r(y[1])), [x])[1,1] - hess_x_logeval(r, x) ) < ϵ\n",
    "    \n",
    "end"
   ]
  },
  {
   "cell_type": "code",
   "execution_count": null,
   "id": "121ce567",
   "metadata": {},
   "outputs": [],
   "source": []
  }
 ],
 "metadata": {
  "kernelspec": {
   "display_name": "Julia 1.10.0",
   "language": "julia",
   "name": "julia-1.10"
  },
  "language_info": {
   "file_extension": ".jl",
   "mimetype": "application/julia",
   "name": "julia",
   "version": "1.10.0"
  }
 },
 "nbformat": 4,
 "nbformat_minor": 5
}
