{
 "cells": [
  {
   "cell_type": "code",
   "execution_count": 2,
   "id": "679aba51",
   "metadata": {},
   "outputs": [],
   "source": [
    "using Revise\n",
    "using TransportBasedInference\n",
    "using Test\n",
    "using LinearAlgebra\n",
    "using Statistics\n",
    "using ForwardDiff"
   ]
  }
 ],
 "metadata": {
  "kernelspec": {
   "display_name": "Julia 1.10.0",
   "language": "julia",
   "name": "julia-1.10"
  },
  "language_info": {
   "file_extension": ".jl",
   "mimetype": "application/julia",
   "name": "julia",
   "version": "1.10.0"
  }
 },
 "nbformat": 4,
 "nbformat_minor": 5
}
