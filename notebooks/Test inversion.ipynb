{
 "cells": [
  {
   "cell_type": "code",
   "execution_count": 1,
   "metadata": {},
   "outputs": [
    {
     "name": "stderr",
     "output_type": "stream",
     "text": [
      "\u001b[32m\u001b[1m Activating\u001b[22m\u001b[39m environment at `/media/mat/HDD/AdaptiveTransportMap/Project.toml`\n"
     ]
    }
   ],
   "source": [
    "using Pkg\n",
    "Pkg.activate(\"/media/mat/HDD/AdaptiveTransportMap/\")"
   ]
  },
  {
   "cell_type": "code",
   "execution_count": 71,
   "metadata": {},
   "outputs": [],
   "source": [
    "using Revise\n",
    "using AdaptiveTransportMap\n",
    "using LinearAlgebra\n",
    "using Test\n",
    "using ForwardDiff\n",
    "using NonlinearSolve\n",
    "using NLsolve\n",
    "using Distributions\n",
    "using BenchmarkTools\n",
    "using LoopVectorization"
   ]
  },
  {
   "cell_type": "code",
   "execution_count": 72,
   "metadata": {},
   "outputs": [],
   "source": [
    "using Plots\n",
    "default(tickfont = font(\"CMU Serif\", 9), \n",
    "        titlefont = font(\"CMU Serif\", 14), \n",
    "        guidefont = font(\"CMU Serif\", 12),\n",
    "        legendfont = font(\"CMU Serif\", 10),\n",
    "        grid = false)\n",
    "# clibrary(:colorbrewer)\n",
    "pyplot()\n",
    "\n",
    "using LaTeXStrings\n",
    "PyPlot.rc(\"text\", usetex = \"true\")\n",
    "PyPlot.rc(\"font\", family = \"CMU Serif\")\n",
    "# gr()\n",
    "using ColorSchemes"
   ]
  },
  {
   "cell_type": "code",
   "execution_count": 173,
   "metadata": {},
   "outputs": [],
   "source": [
    "Nx = 3\n",
    "Ne = 100\n",
    "\n",
    "X0 = randn(Nx, Ne) .^2 .* (1.0 .+ 0.3*randn(Nx, Ne))\n",
    "X = deepcopy(X0)\n",
    "X .+= 0.1*randn(Nx, Ne)\n",
    "B = MultiBasis(CstProHermite(6), Nx)\n",
    "idx = [0 0 0 ;0  0 1; 0 1 0; 1 0 0;1 1 0; 0 1 1; 1 0 1; 6 1 1; 1 2 0; 5 1 0]\n",
    "Nψ = size(idx, 1)\n",
    "coeff = randn(Nψ)\n",
    "\n",
    "f = ExpandedFunction(B, idx, coeff)\n",
    "fp = ParametricFunction(f);\n",
    "R = IntegratedFunction(fp)\n",
    "S = Storage(fp, X);"
   ]
  },
  {
   "cell_type": "code",
   "execution_count": 179,
   "metadata": {},
   "outputs": [
    {
     "name": "stdout",
     "output_type": "stream",
     "text": [
      "all(fm .< 0.0) = true\n",
      "all(fp .> 0.0) = true\n"
     ]
    },
    {
     "ename": "LoadError",
     "evalue": "\u001b[91mUndefVarError: bisection not defined\u001b[39m",
     "output_type": "error",
     "traceback": [
      "\u001b[91mUndefVarError: bisection not defined\u001b[39m",
      "",
      "Stacktrace:",
      " [1] top-level scope at ./In[179]:96",
      " [2] include_string(::Function, ::Module, ::String, ::String) at ./loading.jl:1091"
     ]
    }
   ],
   "source": [
    "F = evaluate(R, X0);\n",
    "\n",
    "cache  = zeros(Ne, Nψ)\n",
    "cache_vander = zeros(Ne, maximum(R.f.f.idx[:,Nx])+1)\n",
    "fx = zeros(Ne)\n",
    "\n",
    "# Remove f(x_{1:k-1},0) from the output F\n",
    "@avx for i=1:Ne\n",
    "    foffseti = zero(Float64)\n",
    "    for j=1:Nψ\n",
    "        foffseti += (S.ψoffψd0[i,j])*R.f.f.coeff[j]\n",
    "    end\n",
    "    F[i] -= foffseti\n",
    "end\n",
    "\n",
    "# lower and upper brackets of the ensemble members\n",
    "xk = view(X, Nx, :)\n",
    "xm = copy(xk)\n",
    "xp = copy(xk)\n",
    "σ = std(xm)\n",
    "xm .-= 1*σ\n",
    "xp .+= 1*σ\n",
    "fm = zeros(Ne)\n",
    "fp = zeros(Ne)\n",
    "# Find a bracket for the different samples\n",
    "niter = 100\n",
    "factor = 1.6\n",
    "counter = 0\n",
    "bracketed = false\n",
    "while bracketed == false\n",
    "    functionalf!(fm, xm, cache, cache_vander, S.ψoff, F, R)\n",
    "    functionalf!(fp, xp, cache, cache_vander, S.ψoff, F, R)\n",
    "    # We know that the function is strictly increasing\n",
    "    @show all(fm .< 0.0)\n",
    "    @show all(fp .> 0.0)\n",
    "    if all(fm .< 0.0) && all(fp .> 0.0)\n",
    "        bracketed = true\n",
    "        break\n",
    "    end\n",
    "    @inbounds for i=1:Ne \n",
    "        if fm[i]*fp[i] > 0.0\n",
    "            counter += 1\n",
    "            center, width = 0.5*(xp[i] + xm[i]), factor*(xp[i] - xm[i])\n",
    "            xm[i] = center - width\n",
    "            xp[i] = center + width\n",
    "        end\n",
    "    end\n",
    "    counter += 1\n",
    "end\n",
    "\n",
    "@assert counter < niter \"Maximal number of iterations reached\"\n",
    "\n",
    "frel = 1e-4\n",
    "xrel = 1e-6\n",
    "\n",
    "Δfmax = 1.0\n",
    "Δxmax = 1.0\n",
    "\n",
    "xnew = copy(xk)\n",
    "xold = copy(xk)\n",
    "J = zero(f0)\n",
    "Δx = 10^6\n",
    "\n",
    "\n",
    "while Δx > xrel\n",
    "    # Compute the Newton update\n",
    "    functionalf!(fx, xnew, cache, cache_vander, S.ψoff, F, R)\n",
    "    functionalg1D!(J, xnew, cache, cache_vander, S.ψoff, F, R)\n",
    "    Δx = 10^6\n",
    "    @inbounds for i=1:Ne\n",
    "        xnewi = xnew[i]\n",
    "        xoldi = xold[i]\n",
    "        fxi   = fx[i]\n",
    "        Ji    = J[i]\n",
    "        xmi   = xm[i]\n",
    "        fmi   = fm[i]\n",
    "        xpi   = xp[i]\n",
    "        fpi   = fp[i]\n",
    "        \n",
    "        \n",
    "        Δxi = abs(xnewi - xoldi)\n",
    "        if Δx < Δxi\n",
    "            Δx = Δxi\n",
    "        end\n",
    "        \n",
    "        # Check if xnewton is within the bracket, otherwise apply bisection\n",
    "        if xnewi > xpi || xnewi < xmi\n",
    "            \n",
    "        # Apply the bisection method\n",
    "        xnewi, fxi, xmi, fmi, xpi, fpi = bisection(xnewi, fxi, xmi, fmi, xpi, fpi)\n",
    "\n",
    "        \n",
    "        # Decrease too slowly, revert to bisection\n",
    "        elseif abs(fxi * 2.0) > abs(Δxi* Ji)\n",
    "        # Apply the bisection method\n",
    "        xnewi, fxi, xmi, fmi, xpi, fpi = bisection(xnewi, fxi, xmi, fmi, xpi, fpi)\n",
    "                \n",
    "#         elseif abs(Ji) < 1000*eps()\n",
    "#         # Apply bisection\n",
    "                              \n",
    "#         else #Apply Newton update\n",
    "#         xnew[i] -= fxi/Ji\n",
    "        end\n",
    "        \n",
    "        xnew[i] = xnewi\n",
    "        xold[i] = xoldi\n",
    "        xm[i]   = xmi\n",
    "        fm[i]   = fmi\n",
    "        xp[i]   = xpi\n",
    "        fp[i]   = fpi\n",
    "    end \n",
    "end"
   ]
  },
  {
   "cell_type": "code",
   "execution_count": 161,
   "metadata": {},
   "outputs": [
    {
     "data": {
      "text/plain": [
       "test! (generic function with 1 method)"
      ]
     },
     "execution_count": 161,
     "metadata": {},
     "output_type": "execute_result"
    }
   ],
   "source": [
    "function test!(x)\n",
    "    x = 1.0\n",
    "    nothing\n",
    "end"
   ]
  },
  {
   "cell_type": "code",
   "execution_count": 162,
   "metadata": {},
   "outputs": [],
   "source": [
    "a = 2.0\n",
    "test!(a)"
   ]
  },
  {
   "cell_type": "code",
   "execution_count": 34,
   "metadata": {},
   "outputs": [
    {
     "name": "stderr",
     "output_type": "stream",
     "text": [
      "\u001b[32mProgress: 100%|█████████████████████████████████████████| Time: 0:01:56\u001b[39m\n"
     ]
    },
    {
     "name": "stdout",
     "output_type": "stream",
     "text": [
      "116.187149 seconds (12.75 M allocations: 143.489 GiB, 4.39% gc time)\n"
     ]
    },
    {
     "data": {
      "text/plain": [
       "HermiteMap(20, 10, LinearTransform(10, [1.1195256465682104, 0.9728805809361984, 0.915577381173001, 0.9169390552688318, 1.024849057653465, 1.0207711546991929, 1.071957519333033, 0.9829474984141241, 1.0037238471249987, 1.0422161865737807], [2.45918785711432 0.0 … 0.0 0.0; 0.0 2.2539117629083045 … 0.0 0.0; … ; 0.0 0.0 … 2.30972952436834 0.0; 0.0 0.0 … 0.0 2.2509787353294453], true), MapComponent[Map component of dimension 1 with Nψ 14 active features\n",
       ", Map component of dimension 2 with Nψ 16 active features\n",
       ", Map component of dimension 3 with Nψ 20 active features\n",
       ", Map component of dimension 4 with Nψ 20 active features\n",
       ", Map component of dimension 5 with Nψ 19 active features\n",
       ", Map component of dimension 6 with Nψ 20 active features\n",
       ", Map component of dimension 7 with Nψ 20 active features\n",
       ", Map component of dimension 8 with Nψ 20 active features\n",
       ", Map component of dimension 9 with Nψ 20 active features\n",
       ", Map component of dimension 10 with Nψ 20 active features\n",
       "])"
      ]
     },
     "execution_count": 34,
     "metadata": {},
     "output_type": "execute_result"
    }
   ],
   "source": [
    "@time optimize(S, X, \"kfolds\"; withqr = true, hessprecond = true)"
   ]
  },
  {
   "cell_type": "code",
   "execution_count": 35,
   "metadata": {},
   "outputs": [
    {
     "data": {
      "image/png": "[encoded data removed]"
     },
     "execution_count": 35,
     "metadata": {},
     "output_type": "execute_result"
    }
   ],
   "source": [
    "plot(S)"
   ]
  },
  {
   "cell_type": "code",
   "execution_count": 36,
   "metadata": {},
   "outputs": [],
   "source": [
    "F = rand(Laplace(), (Nx, Ne))\n",
    "F0 = deepcopy(F);"
   ]
  },
  {
   "cell_type": "code",
   "execution_count": 37,
   "metadata": {},
   "outputs": [],
   "source": [
    "xrange = -5:0.01:5.0\n",
    "\n",
    "Xrange = zeros(Nx, length(xrange))\n",
    "Xrange[end,:] .= collect(xrange)\n",
    "view(Xrange,1:Nx-1,:) .= repeat(randn(Nx-1), 1, length(xrange));"
   ]
  },
  {
   "cell_type": "code",
   "execution_count": 38,
   "metadata": {},
   "outputs": [
    {
     "data": {
      "image/png": "[encoded data removed]"
     },
     "execution_count": 38,
     "metadata": {},
     "output_type": "execute_result"
    }
   ],
   "source": [
    "histogram(sort(X[end,:]),  bins = 90, normalize = :pdf)"
   ]
  },
  {
   "cell_type": "code",
   "execution_count": 39,
   "metadata": {},
   "outputs": [
    {
     "data": {
      "image/png": "[encoded data removed]"
     },
     "execution_count": 39,
     "metadata": {},
     "output_type": "execute_result"
    }
   ],
   "source": [
    "plot(xrange, evaluate(S, Xrange; start = Nx)[end,:])"
   ]
  },
  {
   "cell_type": "code",
   "execution_count": 123,
   "metadata": {},
   "outputs": [
    {
     "name": "stdout",
     "output_type": "stream",
     "text": [
      "  233.605 μs (4289 allocations: 267.03 KiB)\n"
     ]
    },
    {
     "data": {
      "text/plain": [
       "10×1 Array{Float64,2}:\n",
       " -6.6940053024980894\n",
       "  0.7813151227451507\n",
       " -0.1545225018963985\n",
       "  1.5829584025685157\n",
       " -0.2182828264926049\n",
       "  1.6811151650045222\n",
       "  0.36005280775071213\n",
       "  0.6414972076521022\n",
       "  0.9728650754039316\n",
       " -0.5096409881052824"
      ]
     },
     "execution_count": 123,
     "metadata": {},
     "output_type": "execute_result"
    }
   ],
   "source": [
    "Xpost = deepcopy(X)[:,1:1]\n",
    "@btime inverse!(Xpost, copy(F[:,1:1]), S)"
   ]
  },
  {
   "cell_type": "code",
   "execution_count": 125,
   "metadata": {},
   "outputs": [
    {
     "name": "stdout",
     "output_type": "stream",
     "text": [
      "  10.562 ms (12123 allocations: 20.68 MiB)\n"
     ]
    },
    {
     "data": {
      "text/plain": [
       "10×500 Array{Float64,2}:\n",
       " -6.69432    -0.325811  0.866688   …   3.99049    0.800305   -5.34821\n",
       "  0.652841    1.00699   0.0709028      0.119864   0.782312    0.332934\n",
       " -0.147232    1.01834   0.130148       0.203138  -0.409091    0.863126\n",
       "  1.56178     0.235563  1.70613        1.21226    0.264081    1.91235\n",
       " -0.217985    5.13841   0.250809       0.572872   0.837754   -0.478516\n",
       "  1.65968    -0.510001  0.795841   …   2.53737    0.0704323   8.82153\n",
       "  0.0676075  -0.318584  0.725396       1.13007   -0.111888    0.171928\n",
       "  0.643154    0.987011  1.4607        -0.231542   1.15277     0.125883\n",
       "  0.971018   -0.361035  1.51833        0.520839   2.40892    -5.70749\n",
       " -0.510841    0.269097  0.435094       0.625539   8.08316     0.330348"
      ]
     },
     "execution_count": 125,
     "metadata": {},
     "output_type": "execute_result"
    }
   ],
   "source": [
    "Xpost = deepcopy(X)\n",
    "@btime inverse!(Xpost, copy(F), S)"
   ]
  },
  {
   "cell_type": "code",
   "execution_count": 16,
   "metadata": {},
   "outputs": [
    {
     "data": {
      "image/png": "[encoded data removed]"
     },
     "execution_count": 16,
     "metadata": {},
     "output_type": "execute_result"
    }
   ],
   "source": [
    "plot(collect(0.00001:0.01:5.0), sin.(1 ./ collect(0.00001:0.01:5.0)))"
   ]
  },
  {
   "cell_type": "code",
   "execution_count": 63,
   "metadata": {},
   "outputs": [
    {
     "data": {
      "text/plain": [
       "0.007631680483031644"
      ]
     },
     "execution_count": 63,
     "metadata": {},
     "output_type": "execute_result"
    }
   ],
   "source": [
    "maximum(evaluate(S, Xpost)-F)"
   ]
  },
  {
   "cell_type": "code",
   "execution_count": 108,
   "metadata": {},
   "outputs": [
    {
     "name": "stdout",
     "output_type": "stream",
     "text": [
      "  18.940 μs (40 allocations: 142.86 KiB)\n"
     ]
    },
    {
     "data": {
      "text/plain": [
       "500×14 Array{Float64,2}:\n",
       " 0.617909     0.183069     -0.398576  1.0  …   0.236137     1.0  -0.257108\n",
       " 0.00151744   0.00745327    0.024813  1.0      0.242059     1.0   0.360888\n",
       " 0.605522     0.248767     -0.355901  1.0      0.302956     1.0  -0.176634\n",
       " 0.630959     0.0407927    -0.444291  1.0      0.0557021    1.0  -0.3483\n",
       " 0.630153     0.0607466    -0.441445  1.0      0.0826658    1.0  -0.342476\n",
       " 0.230572     0.462921      0.494154  1.0  …  -0.382899     1.0  -0.101714\n",
       " 0.606173     0.245843     -0.358126  1.0      0.300328     1.0  -0.180717\n",
       " 0.41352      0.538263      0.20302   1.0      0.0455764    1.0   0.355185\n",
       " 0.615824     0.196001     -0.391343  1.0      0.250444     1.0  -0.243147\n",
       " 0.365527     0.540657      0.307002  1.0     -0.103223     1.0   0.301408\n",
       " 0.631619     0.000146277  -0.446622  1.0  …   0.000200298  1.0  -0.353086\n",
       " 0.44251      0.527922      0.132449  1.0      0.134593     1.0   0.355307\n",
       " 0.631619    -0.00013236   -0.446622  1.0     -0.000181241  1.0  -0.353086\n",
       " ⋮                                         ⋱                     \n",
       " 0.58262      0.331123     -0.278906  1.0      0.358927     1.0  -0.0433419\n",
       " 0.265218     0.494113      0.463393  1.0     -0.345601     1.0   0.0227038\n",
       " 0.631487     0.0182721    -0.446155  1.0  …   0.0250062    1.0  -0.352125\n",
       " 0.60457      0.252963     -0.352652  1.0      0.306664     1.0  -0.170696\n",
       " 0.450432     0.523804      0.112215  1.0      0.158061     1.0   0.350772\n",
       " 0.631618     0.00126021   -0.44662   1.0      0.0017256    1.0  -0.353081\n",
       " 0.631453     0.0204723    -0.446035  1.0      0.0280132    1.0  -0.35188\n",
       " 0.610746     0.223922     -0.37381   1.0  …   0.279509     1.0  -0.209849\n",
       " 0.622193     0.152584     -0.413498  1.0      0.200607     1.0  -0.286316\n",
       " 0.631619     0.00041033   -0.446622  1.0      0.000561867  1.0  -0.353085\n",
       " 0.413913     0.53817       0.202103  1.0      0.0468013    1.0   0.355357\n",
       " 0.631619     0.00019413   -0.446622  1.0      0.000265823  1.0  -0.353086"
      ]
     },
     "execution_count": 108,
     "metadata": {},
     "output_type": "execute_result"
    }
   ],
   "source": [
    "@btime ψoff = evaluate_diagbasis(S[10].I.f, X)"
   ]
  },
  {
   "cell_type": "code",
   "execution_count": 68,
   "metadata": {},
   "outputs": [
    {
     "name": "stdout",
     "output_type": "stream",
     "text": [
      "search: \u001b[0m\u001b[1mn\u001b[22m\u001b[0m\u001b[1ml\u001b[22m\u001b[0m\u001b[1ms\u001b[22m\u001b[0m\u001b[1mo\u001b[22m\u001b[0m\u001b[1ml\u001b[22m\u001b[0m\u001b[1mv\u001b[22m\u001b[0m\u001b[1me\u001b[22m \u001b[0m\u001b[1mN\u001b[22m\u001b[0m\u001b[1mL\u001b[22m\u001b[0m\u001b[1ms\u001b[22m\u001b[0m\u001b[1mo\u001b[22m\u001b[0m\u001b[1ml\u001b[22m\u001b[0m\u001b[1mv\u001b[22m\u001b[0m\u001b[1me\u001b[22m \u001b[0m\u001b[1mN\u001b[22mon\u001b[0m\u001b[1ml\u001b[22minear\u001b[0m\u001b[1mS\u001b[22m\u001b[0m\u001b[1mo\u001b[22m\u001b[0m\u001b[1ml\u001b[22m\u001b[0m\u001b[1mv\u001b[22m\u001b[0m\u001b[1me\u001b[22m E\u001b[0m\u001b[1mn\u001b[22msemb\u001b[0m\u001b[1ml\u001b[22me\u001b[0m\u001b[1mS\u001b[22m\u001b[0m\u001b[1mo\u001b[22m\u001b[0m\u001b[1ml\u001b[22mution E\u001b[0m\u001b[1mn\u001b[22msemb\u001b[0m\u001b[1ml\u001b[22meTe\u001b[0m\u001b[1ms\u001b[22mtS\u001b[0m\u001b[1mo\u001b[22m\u001b[0m\u001b[1ml\u001b[22mution\n",
      "\n"
     ]
    },
    {
     "data": {
      "text/latex": [
       "No documentation found.\n",
       "\n",
       "\\texttt{NLsolve.nlsolve} is a \\texttt{Function}.\n",
       "\n",
       "\\begin{verbatim}\n",
       "# 4 methods for generic function \"nlsolve\":\n",
       "[1] nlsolve(df::Union{NLSolversBase.NonDifferentiable, OnceDifferentiable}, initial_x::AbstractArray; method, xtol, ftol, iterations, store_trace, show_trace, extended_trace, linesearch, linsolve, factor, autoscale, m, beta, aa_start, droptol) in NLsolve at /home/mat/.julia/packages/NLsolve/gJL1I/src/nlsolve/nlsolve.jl:1\n",
       "[2] nlsolve(f, initial_x::AbstractArray; method, autodiff, inplace, kwargs...) in NLsolve at /home/mat/.julia/packages/NLsolve/gJL1I/src/nlsolve/nlsolve.jl:40\n",
       "[3] nlsolve(f, j, initial_x::AbstractArray; inplace, kwargs...) in NLsolve at /home/mat/.julia/packages/NLsolve/gJL1I/src/nlsolve/nlsolve.jl:56\n",
       "[4] nlsolve(f, j, fj, initial_x::AbstractArray; inplace, kwargs...) in NLsolve at /home/mat/.julia/packages/NLsolve/gJL1I/src/nlsolve/nlsolve.jl:70\n",
       "\\end{verbatim}\n"
      ],
      "text/markdown": [
       "No documentation found.\n",
       "\n",
       "`NLsolve.nlsolve` is a `Function`.\n",
       "\n",
       "```\n",
       "# 4 methods for generic function \"nlsolve\":\n",
       "[1] nlsolve(df::Union{NLSolversBase.NonDifferentiable, OnceDifferentiable}, initial_x::AbstractArray; method, xtol, ftol, iterations, store_trace, show_trace, extended_trace, linesearch, linsolve, factor, autoscale, m, beta, aa_start, droptol) in NLsolve at /home/mat/.julia/packages/NLsolve/gJL1I/src/nlsolve/nlsolve.jl:1\n",
       "[2] nlsolve(f, initial_x::AbstractArray; method, autodiff, inplace, kwargs...) in NLsolve at /home/mat/.julia/packages/NLsolve/gJL1I/src/nlsolve/nlsolve.jl:40\n",
       "[3] nlsolve(f, j, initial_x::AbstractArray; inplace, kwargs...) in NLsolve at /home/mat/.julia/packages/NLsolve/gJL1I/src/nlsolve/nlsolve.jl:56\n",
       "[4] nlsolve(f, j, fj, initial_x::AbstractArray; inplace, kwargs...) in NLsolve at /home/mat/.julia/packages/NLsolve/gJL1I/src/nlsolve/nlsolve.jl:70\n",
       "```\n"
      ],
      "text/plain": [
       "  No documentation found.\n",
       "\n",
       "  \u001b[36mNLsolve.nlsolve\u001b[39m is a \u001b[36mFunction\u001b[39m.\n",
       "\n",
       "\u001b[36m  # 4 methods for generic function \"nlsolve\":\u001b[39m\n",
       "\u001b[36m  [1] nlsolve(df::Union{NLSolversBase.NonDifferentiable, OnceDifferentiable}, initial_x::AbstractArray; method, xtol, ftol, iterations, store_trace, show_trace, extended_trace, linesearch, linsolve, factor, autoscale, m, beta, aa_start, droptol) in NLsolve at /home/mat/.julia/packages/NLsolve/gJL1I/src/nlsolve/nlsolve.jl:1\u001b[39m\n",
       "\u001b[36m  [2] nlsolve(f, initial_x::AbstractArray; method, autodiff, inplace, kwargs...) in NLsolve at /home/mat/.julia/packages/NLsolve/gJL1I/src/nlsolve/nlsolve.jl:40\u001b[39m\n",
       "\u001b[36m  [3] nlsolve(f, j, initial_x::AbstractArray; inplace, kwargs...) in NLsolve at /home/mat/.julia/packages/NLsolve/gJL1I/src/nlsolve/nlsolve.jl:56\u001b[39m\n",
       "\u001b[36m  [4] nlsolve(f, j, fj, initial_x::AbstractArray; inplace, kwargs...) in NLsolve at /home/mat/.julia/packages/NLsolve/gJL1I/src/nlsolve/nlsolve.jl:70\u001b[39m"
      ]
     },
     "execution_count": 68,
     "metadata": {},
     "output_type": "execute_result"
    }
   ],
   "source": [
    "?nlsolve"
   ]
  },
  {
   "cell_type": "code",
   "execution_count": null,
   "metadata": {},
   "outputs": [],
   "source": []
  }
 ],
 "metadata": {
  "kernelspec": {
   "display_name": "Julia 1.5.3",
   "language": "julia",
   "name": "julia-1.5"
  },
  "language_info": {
   "file_extension": ".jl",
   "mimetype": "application/julia",
   "name": "julia",
   "version": "1.5.3"
  }
 },
 "nbformat": 4,
 "nbformat_minor": 4
}
