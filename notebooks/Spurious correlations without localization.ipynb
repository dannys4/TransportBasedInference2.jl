{
 "cells": [
  {
   "cell_type": "code",
   "execution_count": 1,
   "metadata": {},
   "outputs": [
    {
     "name": "stderr",
     "output_type": "stream",
     "text": [
      "\u001b[32m\u001b[1m Activating\u001b[22m\u001b[39m environment at `/media/mat/HDD/AdaptiveTransportMap/Project.toml`\n"
     ]
    }
   ],
   "source": [
    "using Pkg\n",
    "Pkg.activate(\"/media/mat/HDD/AdaptiveTransportMap/\")"
   ]
  },
  {
   "cell_type": "code",
   "execution_count": 2,
   "metadata": {},
   "outputs": [
    {
     "name": "stderr",
     "output_type": "stream",
     "text": [
      "┌ Info: Precompiling AdaptiveTransportMap [bdf749b0-1400-4207-80d3-e689c0e3f03d]\n",
      "└ @ Base loading.jl:1278\n",
      "┌ Warning: Type annotations on keyword arguments not currently supported in recipes. Type information has been discarded\n",
      "└ @ RecipesBase ~/.julia/packages/RecipesBase/92zOw/src/RecipesBase.jl:116\n",
      "┌ Warning: Type annotations on keyword arguments not currently supported in recipes. Type information has been discarded\n",
      "└ @ RecipesBase ~/.julia/packages/RecipesBase/92zOw/src/RecipesBase.jl:116\n",
      "┌ Warning: Type annotations on keyword arguments not currently supported in recipes. Type information has been discarded\n",
      "└ @ RecipesBase ~/.julia/packages/RecipesBase/92zOw/src/RecipesBase.jl:116\n",
      "┌ Warning: Type annotations on keyword arguments not currently supported in recipes. Type information has been discarded\n",
      "└ @ RecipesBase ~/.julia/packages/RecipesBase/92zOw/src/RecipesBase.jl:116\n",
      "┌ Warning: Type annotations on keyword arguments not currently supported in recipes. Type information has been discarded\n",
      "└ @ RecipesBase ~/.julia/packages/RecipesBase/92zOw/src/RecipesBase.jl:116\n",
      "┌ Warning: Type annotations on keyword arguments not currently supported in recipes. Type information has been discarded\n",
      "└ @ RecipesBase ~/.julia/packages/RecipesBase/92zOw/src/RecipesBase.jl:116\n",
      "┌ Warning: Type annotations on keyword arguments not currently supported in recipes. Type information has been discarded\n",
      "└ @ RecipesBase ~/.julia/packages/RecipesBase/92zOw/src/RecipesBase.jl:116\n"
     ]
    }
   ],
   "source": [
    "using Revise\n",
    "using LinearAlgebra\n",
    "using AdaptiveTransportMap\n",
    "using Statistics\n",
    "using Distributions\n",
    "using Test\n",
    "using ForwardDiff\n",
    "using SpecialFunctions\n",
    "using OrthoMatchingPursuit\n",
    "using BenchmarkTools\n",
    "using MultivariateStats"
   ]
  },
  {
   "cell_type": "code",
   "execution_count": 3,
   "metadata": {},
   "outputs": [],
   "source": [
    "using Plots\n",
    "default(tickfont = font(\"CMU Serif\", 9), \n",
    "        titlefont = font(\"CMU Serif\", 14), \n",
    "        guidefont = font(\"CMU Serif\", 12),\n",
    "        legendfont = font(\"CMU Serif\", 10),\n",
    "        grid = false)\n",
    "# Plots.font(\"sans-serif\")\n",
    "# clibrary(:colorbrewer)\n",
    "# gr()\n",
    "pyplot()\n",
    "\n",
    "using LaTeXStrings\n",
    "# PyPlot.rc(\"text\", usetex = \"true\")\n",
    "# rcParams = PyPlot.PyDict(PyPlot.matplotlib.\"rcParams\")\n",
    "# rcParams[\"text.usetex\"] = true;\n",
    "PyPlot.rc(\"font\", family = \"CMU Serif\")\n",
    "PyPlot.matplotlib[:rc](\"mathtext\",fontset=\"cm\")        #computer modern font \n",
    "PyPlot.matplotlib[:rc](\"font\",family=\"serif\",size=12)"
   ]
  },
  {
   "cell_type": "markdown",
   "metadata": {},
   "source": [
    "### Working from samples"
   ]
  },
  {
   "cell_type": "code",
   "execution_count": 30,
   "metadata": {},
   "outputs": [
    {
     "data": {
      "text/plain": [
       "40×40 Symmetric{Float64,Array{Float64,2}}:\n",
       " 1.0        0.9        0.81       …  0.0202756  0.018248   0.0164232\n",
       " 0.9        1.0        0.9           0.0225284  0.0202756  0.018248\n",
       " 0.81       0.9        1.0           0.0250316  0.0225284  0.0202756\n",
       " 0.729      0.81       0.9           0.0278128  0.0250316  0.0225284\n",
       " 0.6561     0.729      0.81          0.0309032  0.0278128  0.0250316\n",
       " 0.59049    0.6561     0.729      …  0.0343368  0.0309032  0.0278128\n",
       " 0.531441   0.59049    0.6561        0.038152   0.0343368  0.0309032\n",
       " 0.478297   0.531441   0.59049       0.0423912  0.038152   0.0343368\n",
       " 0.430467   0.478297   0.531441      0.0471013  0.0423912  0.038152\n",
       " 0.38742    0.430467   0.478297      0.0523348  0.0471013  0.0423912\n",
       " 0.348678   0.38742    0.430467   …  0.0581497  0.0523348  0.0471013\n",
       " 0.313811   0.348678   0.38742       0.0646108  0.0581497  0.0523348\n",
       " 0.28243    0.313811   0.348678      0.0717898  0.0646108  0.0581497\n",
       " ⋮                                ⋱                        \n",
       " 0.0523348  0.0581497  0.0646108     0.38742    0.348678   0.313811\n",
       " 0.0471013  0.0523348  0.0581497     0.430467   0.38742    0.348678\n",
       " 0.0423912  0.0471013  0.0523348  …  0.478297   0.430467   0.38742\n",
       " 0.038152   0.0423912  0.0471013     0.531441   0.478297   0.430467\n",
       " 0.0343368  0.038152   0.0423912     0.59049    0.531441   0.478297\n",
       " 0.0309032  0.0343368  0.038152      0.6561     0.59049    0.531441\n",
       " 0.0278128  0.0309032  0.0343368     0.729      0.6561     0.59049\n",
       " 0.0250316  0.0278128  0.0309032  …  0.81       0.729      0.6561\n",
       " 0.0225284  0.0250316  0.0278128     0.9        0.81       0.729\n",
       " 0.0202756  0.0225284  0.0250316     1.0        0.9        0.81\n",
       " 0.018248   0.0202756  0.0225284     0.9        1.0        0.9\n",
       " 0.0164232  0.018248   0.0202756     0.81       0.9        1.0"
      ]
     },
     "execution_count": 30,
     "metadata": {},
     "output_type": "execute_result"
    }
   ],
   "source": [
    "Nx = 40\n",
    "Ny = 40\n",
    "Ne = 10000\n",
    "H = I\n",
    "\n",
    "maxrank = min(Nx, Ny)\n",
    "\n",
    "Σx = zeros(Nx, Nx)\n",
    "for i=1:Nx\n",
    "    for j=1:i\n",
    "        Σij = 0.9^(abs(i-j))\n",
    "        Σx[i,j] = Σij\n",
    "        Σx[j,i] = Σij\n",
    "    end\n",
    "end\n",
    "\n",
    "Σx = Symmetric(Σx)"
   ]
  },
  {
   "cell_type": "code",
   "execution_count": 31,
   "metadata": {},
   "outputs": [
    {
     "data": {
      "image/png": "[encoded data removed]"
     },
     "execution_count": 31,
     "metadata": {},
     "output_type": "execute_result"
    }
   ],
   "source": [
    "heatmap(Σx, ratio = 1, yflip = true)"
   ]
  },
  {
   "cell_type": "code",
   "execution_count": 32,
   "metadata": {},
   "outputs": [
    {
     "data": {
      "text/plain": [
       "AdditiveInflation(40, [0.0, 0.0, 0.0, 0.0, 0.0, 0.0, 0.0, 0.0, 0.0, 0.0  …  0.0, 0.0, 0.0, 0.0, 0.0, 0.0, 0.0, 0.0, 0.0, 0.0], [1.0 0.9 … 0.01824800363140075 0.016423203268260675; 0.9 1.0 … 0.020275559590445275 0.01824800363140075; … ; 0.01824800363140075 0.020275559590445275 … 1.0 0.9; 0.016423203268260675 0.01824800363140075 … 0.9 1.0], [0.7597588770641046 0.4159500617125577 … 0.0017556515487273051 0.001575093111640993; 0.4159500617125577 0.6821005260537251 … 0.001956959198176979 0.0017556515487276924; … ; 0.0017556515487273051 0.001956959198176979 … 0.682100526053729 0.41595006171255644; 0.001575093111640993 0.0017556515487276924 … 0.41595006171255644 0.7597588770641052])"
      ]
     },
     "execution_count": 32,
     "metadata": {},
     "output_type": "execute_result"
    }
   ],
   "source": [
    "σy = 1.0\n",
    "Σy = Diagonal(ones(Ny))\n",
    "ϵy = AdditiveInflation(zeros(Ny), σy)\n",
    "\n",
    "ϵx = AdditiveInflation(Nx, zeros(Nx), Matrix(Σx))"
   ]
  },
  {
   "cell_type": "code",
   "execution_count": 33,
   "metadata": {},
   "outputs": [
    {
     "data": {
      "text/plain": [
       "40×10000 Array{Float64,2}:\n",
       " -1.32844    -1.99285    2.12087     …   1.40022     0.825213    0.233962\n",
       " -1.71947     1.50848   -0.239555       -1.53707     0.183144    1.33193\n",
       "  0.908365   -0.520934  -1.03834         0.977022    0.361359   -1.73129\n",
       "  1.23666    -1.00555    1.10617         0.41664    -0.53976    -1.10864\n",
       " -0.105757   -0.645611   1.03503         1.16779     0.380369   -0.373103\n",
       "  1.15068     1.09956   -0.240606    …  -1.15499     1.26481    -0.239563\n",
       " -0.647357    2.16838    2.05328        -1.09722     0.931478   -1.22365\n",
       " -0.254278   -0.689229   2.02254        -0.258525    0.127596    1.78359\n",
       "  0.460902   -1.93396   -0.00577106     -0.220024   -1.89345     2.40092\n",
       "  0.0385513  -0.901323  -1.16171         1.0601      1.79268     0.436348\n",
       "  0.189654   -0.553421   1.47385     …   0.0394934  -0.0218377   1.28963\n",
       "  1.33168    -1.15874   -0.264788       -0.314631    0.085489    0.846747\n",
       "  0.372856    0.556625  -1.08113         0.26575     1.93964    -1.44093\n",
       "  ⋮                                  ⋱                          \n",
       "  0.0535036  -0.076972   0.102504        0.0304522  -0.555257    1.40145\n",
       " -0.652269    1.47867    0.339933       -1.31866     0.286735    0.398852\n",
       " -1.36182     0.479903  -1.34788     …  -0.585303    0.054268    1.37248\n",
       "  0.452341    0.400042  -0.263004        0.482072    2.29135    -1.66612\n",
       " -0.0603205  -0.232429   0.666688       -0.25092     1.22576     0.0440097\n",
       " -1.87587     0.761624   0.294071        0.566152    0.815192    0.206637\n",
       " -1.25861    -0.313107  -1.62831         0.538937   -0.372308   -0.240608\n",
       " -0.557749   -1.21029    0.86786     …   0.114794    0.601982   -1.06634\n",
       "  0.242327   -0.560334   0.311648        1.27259     2.9734     -0.627454\n",
       " -0.250597    0.845475  -0.68206         1.16835    -0.288889   -0.355677\n",
       " -1.04836    -0.297288   0.517419       -0.305599    0.0144589   0.370567\n",
       "  0.963215   -0.964793   0.538583        0.761749   -0.405961   -0.534915"
      ]
     },
     "execution_count": 33,
     "metadata": {},
     "output_type": "execute_result"
    }
   ],
   "source": [
    "X = zeros(Ny+Nx, Ne)\n",
    "\n",
    "# Samples from the standard normal distribution\n",
    "ϵx(X, Ny+1, Ny+Nx)\n",
    "\n",
    "# Compute observations\n",
    "observe((x, t)->H*x, X, 0.0, Ny, Nx)\n",
    "\n",
    "ϵ = ϵy.m .+ ϵy.σ*randn(Ny, Ne)"
   ]
  },
  {
   "cell_type": "code",
   "execution_count": 34,
   "metadata": {},
   "outputs": [
    {
     "data": {
      "text/plain": [
       "40×40 Symmetric{Float64,Array{Float64,2}}:\n",
       " 1.00487    0.900625   0.810377   …  0.0317039  0.0301     0.0275577\n",
       " 0.900625   1.00326    0.898476      0.0327951  0.0324039  0.0305549\n",
       " 0.810377   0.898476   0.997895      0.029098   0.0295725  0.0288154\n",
       " 0.728944   0.809461   0.897303      0.0308373  0.0303364  0.0305144\n",
       " 0.662327   0.733274   0.810885      0.0287647  0.0272881  0.0269451\n",
       " 0.600147   0.661513   0.726949   …  0.0278716  0.0292429  0.0306245\n",
       " 0.541961   0.600064   0.660633      0.0284878  0.0316005  0.0286012\n",
       " 0.48818    0.540647   0.592368      0.0330153  0.0358154  0.0293395\n",
       " 0.444006   0.493724   0.541419      0.0386064  0.0414979  0.0357992\n",
       " 0.397055   0.44293    0.487618      0.037672   0.0404689  0.0341287\n",
       " 0.35295    0.395127   0.433083   …  0.0460389  0.0472585  0.0389502\n",
       " 0.31344    0.353516   0.388471      0.0515028  0.0513983  0.0429147\n",
       " 0.280532   0.317351   0.351218      0.0630396  0.0636498  0.0555183\n",
       " ⋮                                ⋱                        \n",
       " 0.0511554  0.0606772  0.0634365     0.367637   0.333027   0.302706\n",
       " 0.0465115  0.055994   0.0554451     0.411271   0.371525   0.334452\n",
       " 0.0483461  0.0526525  0.0492199  …  0.453917   0.411803   0.372449\n",
       " 0.0476318  0.0521995  0.0516475     0.510058   0.463113   0.416292\n",
       " 0.038522   0.0417691  0.0401434     0.569748   0.517663   0.466737\n",
       " 0.031035   0.0355839  0.0341866     0.631487   0.571418   0.513193\n",
       " 0.0283085  0.0300523  0.0277686     0.697287   0.629635   0.565115\n",
       " 0.0349516  0.0367137  0.0325235  …  0.779469   0.700403   0.625765\n",
       " 0.0329589  0.0342061  0.0284275     0.869042   0.776439   0.694036\n",
       " 0.0317039  0.0327951  0.029098      0.969926   0.869167   0.77694\n",
       " 0.0301     0.0324039  0.0295725     0.869167   0.966856   0.866994\n",
       " 0.0275577  0.0305549  0.0288154     0.77694    0.866994   0.966317"
      ]
     },
     "execution_count": 34,
     "metadata": {},
     "output_type": "execute_result"
    }
   ],
   "source": [
    "Σxx = Symmetric(cov(state(X, Ny, Nx)'))\n",
    "Σxy = 1/(Ne-1)*(state(X, Ny, Nx) .- mean(state(X,Ny,Nx);dims = 2)[:,1])*(meas(X, Ny, Nx) .- mean(meas(X,Ny,Nx);dims = 2)[:,1])'\n",
    "Σyy = Symmetric(cov(meas(X, Ny, Nx)'))"
   ]
  },
  {
   "cell_type": "code",
   "execution_count": 35,
   "metadata": {},
   "outputs": [
    {
     "data": {
      "image/png": "[encoded data removed]"
     },
     "execution_count": 35,
     "metadata": {},
     "output_type": "execute_result"
    }
   ],
   "source": [
    "plt = plot(layout = grid(1,2))\n",
    "heatmap!(plt[1,1], Σx, ratio = 1.0, yflip = true)\n",
    "heatmap!(plt[1,2], Σxx, ratio = 1.0, yflip = true)"
   ]
  },
  {
   "cell_type": "code",
   "execution_count": null,
   "metadata": {},
   "outputs": [],
   "source": [
    "errorΣx = Float64[]"
   ]
  },
  {
   "cell_type": "code",
   "execution_count": 37,
   "metadata": {},
   "outputs": [
    {
     "data": {
      "text/plain": [
       "0.02885502761361545"
      ]
     },
     "execution_count": 37,
     "metadata": {},
     "output_type": "execute_result"
    }
   ],
   "source": [
    "norm(Σx-Σxx)/norm(Σx)"
   ]
  },
  {
   "cell_type": "code",
   "execution_count": 40,
   "metadata": {},
   "outputs": [],
   "source": [
    "errorΣx = Float64[]\n",
    "Ne_tab = [10;20;30;40;50;70;80;100;120;140;160;180;200; 300; 400;500;600;1000;2000;5000;10000]\n",
    "for i in Ne_tab\n",
    "    X = zeros(Nx, i)\n",
    "    ϵx(X, 1, Nx)\n",
    "    Σxx = Symmetric(cov(X'))\n",
    "    push!(errorΣx, norm(Σx-Σxx)/norm(Σx))\n",
    "end\n"
   ]
  },
  {
   "cell_type": "code",
   "execution_count": 52,
   "metadata": {},
   "outputs": [
    {
     "data": {
      "image/png": "[encoded data removed]"
     },
     "execution_count": 52,
     "metadata": {},
     "output_type": "execute_result"
    }
   ],
   "source": [
    "plot(Ne_tab, errorΣx, xscale = :log10, yscale = :log10, \n",
    "     label = \"Relative error on the sample covariance matrix\", color = :orangered3)\n",
    "scatter!(Ne_tab, errorΣx, xscale = :log10, yscale = :log10, label= \"\", color = :orangered3)"
   ]
  },
  {
   "cell_type": "code",
   "execution_count": null,
   "metadata": {},
   "outputs": [],
   "source": []
  }
 ],
 "metadata": {
  "kernelspec": {
   "display_name": "Julia 1.5.3",
   "language": "julia",
   "name": "julia-1.5"
  },
  "language_info": {
   "file_extension": ".jl",
   "mimetype": "application/julia",
   "name": "julia",
   "version": "1.5.3"
  }
 },
 "nbformat": 4,
 "nbformat_minor": 4
}
